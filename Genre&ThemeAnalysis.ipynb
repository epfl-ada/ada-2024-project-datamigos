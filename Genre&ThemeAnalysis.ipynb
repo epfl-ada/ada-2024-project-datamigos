{
 "cells": [
  {
   "cell_type": "code",
   "execution_count": 65,
   "metadata": {},
   "outputs": [],
   "source": [
    "import pandas as pd\n",
    "import numpy as np\n",
    "import matplotlib.pyplot as plt\n",
    "from matplotlib.patches import Patch\n",
    "import seaborn as sns\n",
    "import ast\n",
    "import plotly.express as px\n",
    "import plotly.graph_objects as go\n",
    "from ipywidgets import interact, Dropdown"
   ]
  },
  {
   "cell_type": "code",
   "execution_count": 66,
   "metadata": {},
   "outputs": [
    {
     "data": {
      "text/html": [
       "<div>\n",
       "<style scoped>\n",
       "    .dataframe tbody tr th:only-of-type {\n",
       "        vertical-align: middle;\n",
       "    }\n",
       "\n",
       "    .dataframe tbody tr th {\n",
       "        vertical-align: top;\n",
       "    }\n",
       "\n",
       "    .dataframe thead th {\n",
       "        text-align: right;\n",
       "    }\n",
       "</style>\n",
       "<table border=\"1\" class=\"dataframe\">\n",
       "  <thead>\n",
       "    <tr style=\"text-align: right;\">\n",
       "      <th></th>\n",
       "      <th>title</th>\n",
       "      <th>languages</th>\n",
       "      <th>countries</th>\n",
       "      <th>genres</th>\n",
       "      <th>release_date</th>\n",
       "      <th>cold_war_side</th>\n",
       "      <th>character_western_bloc_representation</th>\n",
       "      <th>character_eastern_bloc_representation</th>\n",
       "      <th>western_bloc_values</th>\n",
       "      <th>eastern_bloc_values</th>\n",
       "      <th>theme</th>\n",
       "    </tr>\n",
       "  </thead>\n",
       "  <tbody>\n",
       "    <tr>\n",
       "      <th>0</th>\n",
       "      <td>$</td>\n",
       "      <td>NaN</td>\n",
       "      <td>[Russia]</td>\n",
       "      <td>[Comedy, Drama, Crime]</td>\n",
       "      <td>1971</td>\n",
       "      <td>Western</td>\n",
       "      <td>[Joe Collins, American bank security consultan...</td>\n",
       "      <td>[Dawn Divine, hooker with a heart of gold, cun...</td>\n",
       "      <td>[None]</td>\n",
       "      <td>[Resourcefulness, cleverness, individualism, h...</td>\n",
       "      <td>[None]</td>\n",
       "    </tr>\n",
       "    <tr>\n",
       "      <th>1</th>\n",
       "      <td>$1,000 on the Black</td>\n",
       "      <td>[Italian, German]</td>\n",
       "      <td>[Germany, Italy]</td>\n",
       "      <td>[Western]</td>\n",
       "      <td>1966</td>\n",
       "      <td>Eastern</td>\n",
       "      <td>[None]</td>\n",
       "      <td>[Sartana, villainous, oppressive, cruel, arche...</td>\n",
       "      <td>[Johnny Liston, justice, determination, resili...</td>\n",
       "      <td>[Justice, revenge, oppressed vs. oppressor, re...</td>\n",
       "      <td>[Terror, betrayal, familial conflict, crime, r...</td>\n",
       "    </tr>\n",
       "    <tr>\n",
       "      <th>2</th>\n",
       "      <td>$10,000 Blood Money</td>\n",
       "      <td>NaN</td>\n",
       "      <td>[Russia]</td>\n",
       "      <td>[Drama, Western]</td>\n",
       "      <td>1967</td>\n",
       "      <td>None</td>\n",
       "      <td>[None]</td>\n",
       "      <td>[None]</td>\n",
       "      <td>[None]</td>\n",
       "      <td>[None]</td>\n",
       "      <td>[crime, betrayal, revenge, bounty hunter, heis...</td>\n",
       "    </tr>\n",
       "    <tr>\n",
       "      <th>3</th>\n",
       "      <td>$100,000 for Ringo</td>\n",
       "      <td>[Italian]</td>\n",
       "      <td>[Italy]</td>\n",
       "      <td>[Drama, Western]</td>\n",
       "      <td>1965</td>\n",
       "      <td>None</td>\n",
       "      <td>[None]</td>\n",
       "      <td>[None]</td>\n",
       "      <td>[None]</td>\n",
       "      <td>[None]</td>\n",
       "      <td>[Western, Civil War, mistaken identity, treasu...</td>\n",
       "    </tr>\n",
       "    <tr>\n",
       "      <th>4</th>\n",
       "      <td>'Anna' i wampir</td>\n",
       "      <td>NaN</td>\n",
       "      <td>[Russia]</td>\n",
       "      <td>[Crime]</td>\n",
       "      <td>1982</td>\n",
       "      <td>None</td>\n",
       "      <td>[None]</td>\n",
       "      <td>[None]</td>\n",
       "      <td>[None]</td>\n",
       "      <td>[None]</td>\n",
       "      <td>[murder mystery, horror, fog, Poland, 1960s]</td>\n",
       "    </tr>\n",
       "  </tbody>\n",
       "</table>\n",
       "</div>"
      ],
      "text/plain": [
       "                 title          languages         countries  \\\n",
       "0                    $                NaN          [Russia]   \n",
       "1  $1,000 on the Black  [Italian, German]  [Germany, Italy]   \n",
       "2  $10,000 Blood Money                NaN          [Russia]   \n",
       "3   $100,000 for Ringo          [Italian]           [Italy]   \n",
       "4      'Anna' i wampir                NaN          [Russia]   \n",
       "\n",
       "                   genres  release_date cold_war_side  \\\n",
       "0  [Comedy, Drama, Crime]          1971       Western   \n",
       "1               [Western]          1966       Eastern   \n",
       "2        [Drama, Western]          1967          None   \n",
       "3        [Drama, Western]          1965          None   \n",
       "4                 [Crime]          1982          None   \n",
       "\n",
       "               character_western_bloc_representation  \\\n",
       "0  [Joe Collins, American bank security consultan...   \n",
       "1                                             [None]   \n",
       "2                                             [None]   \n",
       "3                                             [None]   \n",
       "4                                             [None]   \n",
       "\n",
       "               character_eastern_bloc_representation  \\\n",
       "0  [Dawn Divine, hooker with a heart of gold, cun...   \n",
       "1  [Sartana, villainous, oppressive, cruel, arche...   \n",
       "2                                             [None]   \n",
       "3                                             [None]   \n",
       "4                                             [None]   \n",
       "\n",
       "                                 western_bloc_values  \\\n",
       "0                                             [None]   \n",
       "1  [Johnny Liston, justice, determination, resili...   \n",
       "2                                             [None]   \n",
       "3                                             [None]   \n",
       "4                                             [None]   \n",
       "\n",
       "                                 eastern_bloc_values  \\\n",
       "0  [Resourcefulness, cleverness, individualism, h...   \n",
       "1  [Justice, revenge, oppressed vs. oppressor, re...   \n",
       "2                                             [None]   \n",
       "3                                             [None]   \n",
       "4                                             [None]   \n",
       "\n",
       "                                               theme  \n",
       "0                                             [None]  \n",
       "1  [Terror, betrayal, familial conflict, crime, r...  \n",
       "2  [crime, betrayal, revenge, bounty hunter, heis...  \n",
       "3  [Western, Civil War, mistaken identity, treasu...  \n",
       "4       [murder mystery, horror, fog, Poland, 1960s]  "
      ]
     },
     "execution_count": 66,
     "metadata": {},
     "output_type": "execute_result"
    }
   ],
   "source": [
    "movies_df = pd.read_csv(\"data/preprocessed/preprocessed_movies.csv\")\n",
    "for col in movies_df.columns:\n",
    "    try:\n",
    "        movies_df[col] = movies_df[col].apply(\n",
    "            lambda x: ast.literal_eval(x) if isinstance(x, str) else x\n",
    "        )\n",
    "    except:\n",
    "        pass\n",
    "\n",
    "\n",
    "movies_df.head(5)"
   ]
  },
  {
   "cell_type": "markdown",
   "metadata": {},
   "source": [
    "# Genre Analysis"
   ]
  },
  {
   "cell_type": "markdown",
   "metadata": {},
   "source": [
    "## Bar Plots\n"
   ]
  },
  {
   "cell_type": "markdown",
   "metadata": {},
   "source": [
    "Start by Plotting the distribution of genres in the initial DataSet"
   ]
  },
  {
   "cell_type": "code",
   "execution_count": 67,
   "metadata": {},
   "outputs": [
    {
     "data": {
      "image/png": "[encoded data removed]",
      "text/plain": [
       "<Figure size 1000x600 with 1 Axes>"
      ]
     },
     "metadata": {},
     "output_type": "display_data"
    }
   ],
   "source": [
    "genres_df = movies_df[[\"countries\", \"cold_war_side\", \"genres\", \"release_date\"]]\n",
    "genres_df = genres_df.explode(\"genres\")[genres_df.explode(\"genres\") != \"\\\\N\"]\n",
    "genres_df[\"genres\"] = genres_df[\"genres\"].str.title().str.strip()\n",
    "\n",
    "genre_counts = genres_df[\"genres\"].value_counts().head(20)\n",
    "common_genres = genre_counts.head(12).index\n",
    "\n",
    "# Plot the distribution\n",
    "plt.figure(figsize=(10, 6))\n",
    "sns.barplot(x=genre_counts.values, y=genre_counts.index)\n",
    "plt.title(\"Distribution of Genres\")\n",
    "plt.xlabel(\"Count\")\n",
    "plt.ylabel(\"Genre\")\n",
    "plt.xscale(\"log\")\n",
    "plt.show()"
   ]
  },
  {
   "cell_type": "markdown",
   "metadata": {},
   "source": [
    "Then Plot the distribution of genres for the movies we are studying (those either in the \"Eastern\" cold_war_side or the \"Western\" cold_war_side)"
   ]
  },
  {
   "cell_type": "code",
   "execution_count": 68,
   "metadata": {},
   "outputs": [
    {
     "data": {
      "image/png": "[encoded data removed]",
      "text/plain": [
       "<Figure size 1000x600 with 1 Axes>"
      ]
     },
     "metadata": {},
     "output_type": "display_data"
    },
    {
     "data": {
      "text/plain": [
       "Index(['Drama', 'Action', 'Comedy', 'Crime', 'Thriller', 'War', 'Adventure',\n",
       "       'Romance', 'History', 'Science Fiction'],\n",
       "      dtype='object', name='genres')"
      ]
     },
     "execution_count": 68,
     "metadata": {},
     "output_type": "execute_result"
    }
   ],
   "source": [
    "genres_df = genres_df[genres_df[\"cold_war_side\"].isin([\"Eastern\", \"Western\"])]\n",
    "\n",
    "genre_counts = genres_df[\"genres\"].value_counts().head(20)\n",
    "common_genres = genre_counts.head(10).index\n",
    "\n",
    "# Plot the distribution\n",
    "plt.figure(figsize=(10, 6))\n",
    "sns.barplot(x=genre_counts.values, y=genre_counts.index)\n",
    "plt.title(\"Distribution of Genres\")\n",
    "plt.xlabel(\"Count\")\n",
    "plt.ylabel(\"Genre\")\n",
    "plt.xscale(\"log\")\n",
    "plt.show()\n",
    "common_genres"
   ]
  },
  {
   "cell_type": "markdown",
   "metadata": {},
   "source": [
    "Now plot the distribution of genres per side"
   ]
  },
  {
   "cell_type": "code",
   "execution_count": 69,
   "metadata": {},
   "outputs": [],
   "source": [
    "def plot_distributions(\n",
    "    western_counts,\n",
    "    eastern_counts,\n",
    "    title_western,\n",
    "    title_eastern,\n",
    "    ylabel=\"Genre\",\n",
    "    figsize=(20, 9),\n",
    "    color_western=\"#1f77b4\",\n",
    "    color_eastern=\"#ff6347\",\n",
    "    log_scale=True,\n",
    "):\n",
    "    fig, axes = plt.subplots(1, 2, figsize=figsize)  # 1 row, 2 columns\n",
    "    sns.set_style(style=\"whitegrid\")\n",
    "\n",
    "    # Western plot\n",
    "    sns.barplot(\n",
    "        x=western_counts.head(20).values,\n",
    "        y=western_counts.head(20).index,\n",
    "        color=color_western,\n",
    "        ax=axes[0],\n",
    "    )\n",
    "    axes[0].set_title(title_western)\n",
    "    axes[0].set_xlabel(\"Count\")\n",
    "    axes[0].set_ylabel(ylabel)\n",
    "    if log_scale:\n",
    "        axes[0].set_xscale(\"log\")\n",
    "\n",
    "    # Eastern plot\n",
    "    sns.barplot(\n",
    "        x=eastern_counts.head(20).values,\n",
    "        y=eastern_counts.head(20).index,\n",
    "        color=color_eastern,\n",
    "        ax=axes[1],\n",
    "    )\n",
    "    axes[1].set_title(title_eastern)\n",
    "    axes[1].set_xlabel(\"Count\")\n",
    "    axes[1].set_ylabel(ylabel)\n",
    "    if log_scale:\n",
    "        axes[1].set_xscale(\"log\")\n",
    "\n",
    "    plt.tight_layout()\n",
    "    plt.show()"
   ]
  },
  {
   "cell_type": "markdown",
   "metadata": {},
   "source": [
    "Without Log x scale"
   ]
  },
  {
   "cell_type": "code",
   "execution_count": 70,
   "metadata": {},
   "outputs": [
    {
     "data": {
      "image/png": "[encoded data removed]",
      "text/plain": [
       "<Figure size 2000x900 with 2 Axes>"
      ]
     },
     "metadata": {},
     "output_type": "display_data"
    }
   ],
   "source": [
    "western_genre_counts = genres_df[genres_df[\"cold_war_side\"] == \"Western\"][\n",
    "    \"genres\"\n",
    "].value_counts()\n",
    "eastern_genre_counts = genres_df[genres_df[\"cold_war_side\"] == \"Eastern\"][\n",
    "    \"genres\"\n",
    "].value_counts()\n",
    "\n",
    "plot_distributions(\n",
    "    western_genre_counts,\n",
    "    eastern_genre_counts,\n",
    "    title_western=\"Distribution of Genres for Western Movies\",\n",
    "    title_eastern=\"Distribution of Genres for Eastern Movies\",\n",
    "    ylabel=\"Genre\",\n",
    "    log_scale=False,\n",
    ")"
   ]
  },
  {
   "cell_type": "markdown",
   "metadata": {},
   "source": [
    "With log x scale"
   ]
  },
  {
   "cell_type": "code",
   "execution_count": 71,
   "metadata": {},
   "outputs": [
    {
     "data": {
      "image/png": "[encoded data removed]",
      "text/plain": [
       "<Figure size 2000x900 with 2 Axes>"
      ]
     },
     "metadata": {},
     "output_type": "display_data"
    }
   ],
   "source": [
    "plot_distributions(\n",
    "    western_genre_counts,\n",
    "    eastern_genre_counts,\n",
    "    title_western=\"Distribution of Genres for Western Movies\",\n",
    "    title_eastern=\"Distribution of Genres for Eastern Movies\",\n",
    "    ylabel=\"Genre\",\n",
    "    log_scale=True,\n",
    ")"
   ]
  },
  {
   "cell_type": "markdown",
   "metadata": {},
   "source": [
    "Most of the genres appear in the same frequency in both sides. We can instead look at the relative difference between genre count in the eastern side and the western side.\n",
    "\n",
    "$\\textit{relative\\_difference} = \\frac{\\textit{Eastern\\_count} - \\textit{Western\\_count}}{\\textit{Eastern\\_count} + \\textit{Western\\_count}}$"
   ]
  },
  {
   "cell_type": "code",
   "execution_count": 72,
   "metadata": {},
   "outputs": [],
   "source": [
    "def create_comparison_df(\n",
    "    west_df,\n",
    "    east_df,\n",
    "    threshold,\n",
    "    common_genres=[\n",
    "        \"Drama\",\n",
    "        \"Action\",\n",
    "        \"Comedy\",\n",
    "        \"Crime\",\n",
    "        \"Thriller\",\n",
    "        \"War\",\n",
    "        \"Adventure\",\n",
    "        \"Romance\",\n",
    "        \"History\",\n",
    "        \"Science Fiction\",\n",
    "    ],\n",
    "):\n",
    "    comparison_df = pd.DataFrame({\"Western\": west_df, \"Eastern\": east_df}).fillna(0)\n",
    "\n",
    "    comparison_df[\"relative_difference\"] = (\n",
    "        comparison_df[\"Eastern\"] - comparison_df[\"Western\"]\n",
    "    ) / (comparison_df[\"Eastern\"] + comparison_df[\"Western\"])\n",
    "\n",
    "    comparison_df[\"absolute_relative_difference\"] = comparison_df[\n",
    "        \"relative_difference\"\n",
    "    ].abs()\n",
    "\n",
    "    comparison_df[\"Eastern_Proportion\"] = (\n",
    "        comparison_df[\"Eastern\"] / comparison_df[\"Eastern\"].sum(axis=0) * 100\n",
    "    )\n",
    "    comparison_df[\"Western_Proportion\"] = (\n",
    "        comparison_df[\"Western\"] / comparison_df[\"Western\"].sum(axis=0) * 100\n",
    "    )\n",
    "\n",
    "    comparison_df[\"proportion_relative_difference\"] = (\n",
    "        comparison_df[\"Eastern_Proportion\"] - comparison_df[\"Western_Proportion\"]\n",
    "    ) / (comparison_df[\"Eastern_Proportion\"] + comparison_df[\"Western_Proportion\"])\n",
    "    comparison_df[\"absolute_proportion_relative_difference\"] = comparison_df[\n",
    "        \"proportion_relative_difference\"\n",
    "    ].abs()\n",
    "\n",
    "    comparison_df[\"total\"] = comparison_df[\"Eastern\"] + comparison_df[\"Western\"]\n",
    "\n",
    "    comparison_df = (\n",
    "        comparison_df[\n",
    "            (comparison_df[\"Eastern\"] > threshold)\n",
    "            | (comparison_df[\"Western\"] > threshold)\n",
    "        ]\n",
    "        .sort_values(\"absolute_relative_difference\", ascending=False)\n",
    "        .head(20)\n",
    "    )\n",
    "    return comparison_df"
   ]
  },
  {
   "cell_type": "code",
   "execution_count": 73,
   "metadata": {},
   "outputs": [
    {
     "data": {
      "text/html": [
       "<div>\n",
       "<style scoped>\n",
       "    .dataframe tbody tr th:only-of-type {\n",
       "        vertical-align: middle;\n",
       "    }\n",
       "\n",
       "    .dataframe tbody tr th {\n",
       "        vertical-align: top;\n",
       "    }\n",
       "\n",
       "    .dataframe thead th {\n",
       "        text-align: right;\n",
       "    }\n",
       "</style>\n",
       "<table border=\"1\" class=\"dataframe\">\n",
       "  <thead>\n",
       "    <tr style=\"text-align: right;\">\n",
       "      <th></th>\n",
       "      <th>Western</th>\n",
       "      <th>Eastern</th>\n",
       "      <th>relative_difference</th>\n",
       "      <th>absolute_relative_difference</th>\n",
       "      <th>Eastern_Proportion</th>\n",
       "      <th>Western_Proportion</th>\n",
       "      <th>proportion_relative_difference</th>\n",
       "      <th>absolute_proportion_relative_difference</th>\n",
       "      <th>total</th>\n",
       "    </tr>\n",
       "    <tr>\n",
       "      <th>genres</th>\n",
       "      <th></th>\n",
       "      <th></th>\n",
       "      <th></th>\n",
       "      <th></th>\n",
       "      <th></th>\n",
       "      <th></th>\n",
       "      <th></th>\n",
       "      <th></th>\n",
       "      <th></th>\n",
       "    </tr>\n",
       "  </thead>\n",
       "  <tbody>\n",
       "    <tr>\n",
       "      <th>Film-Noir</th>\n",
       "      <td>177</td>\n",
       "      <td>12.0</td>\n",
       "      <td>-0.873016</td>\n",
       "      <td>0.873016</td>\n",
       "      <td>0.217391</td>\n",
       "      <td>1.903021</td>\n",
       "      <td>-0.794954</td>\n",
       "      <td>0.794954</td>\n",
       "      <td>189.0</td>\n",
       "    </tr>\n",
       "    <tr>\n",
       "      <th>Western</th>\n",
       "      <td>269</td>\n",
       "      <td>22.0</td>\n",
       "      <td>-0.848797</td>\n",
       "      <td>0.848797</td>\n",
       "      <td>0.398551</td>\n",
       "      <td>2.892162</td>\n",
       "      <td>-0.757772</td>\n",
       "      <td>0.757772</td>\n",
       "      <td>291.0</td>\n",
       "    </tr>\n",
       "    <tr>\n",
       "      <th>Tv Movie</th>\n",
       "      <td>25</td>\n",
       "      <td>3.0</td>\n",
       "      <td>-0.785714</td>\n",
       "      <td>0.785714</td>\n",
       "      <td>0.054348</td>\n",
       "      <td>0.268788</td>\n",
       "      <td>-0.663623</td>\n",
       "      <td>0.663623</td>\n",
       "      <td>28.0</td>\n",
       "    </tr>\n",
       "    <tr>\n",
       "      <th>Thriller</th>\n",
       "      <td>858</td>\n",
       "      <td>184.0</td>\n",
       "      <td>-0.646833</td>\n",
       "      <td>0.646833</td>\n",
       "      <td>3.333333</td>\n",
       "      <td>9.224815</td>\n",
       "      <td>-0.469136</td>\n",
       "      <td>0.469136</td>\n",
       "      <td>1042.0</td>\n",
       "    </tr>\n",
       "    <tr>\n",
       "      <th>Action</th>\n",
       "      <td>1212</td>\n",
       "      <td>327.0</td>\n",
       "      <td>-0.575049</td>\n",
       "      <td>0.575049</td>\n",
       "      <td>5.923913</td>\n",
       "      <td>13.030857</td>\n",
       "      <td>-0.374942</td>\n",
       "      <td>0.374942</td>\n",
       "      <td>1539.0</td>\n",
       "    </tr>\n",
       "  </tbody>\n",
       "</table>\n",
       "</div>"
      ],
      "text/plain": [
       "           Western  Eastern  relative_difference  \\\n",
       "genres                                             \n",
       "Film-Noir      177     12.0            -0.873016   \n",
       "Western        269     22.0            -0.848797   \n",
       "Tv Movie        25      3.0            -0.785714   \n",
       "Thriller       858    184.0            -0.646833   \n",
       "Action        1212    327.0            -0.575049   \n",
       "\n",
       "           absolute_relative_difference  Eastern_Proportion  \\\n",
       "genres                                                        \n",
       "Film-Noir                      0.873016            0.217391   \n",
       "Western                        0.848797            0.398551   \n",
       "Tv Movie                       0.785714            0.054348   \n",
       "Thriller                       0.646833            3.333333   \n",
       "Action                         0.575049            5.923913   \n",
       "\n",
       "           Western_Proportion  proportion_relative_difference  \\\n",
       "genres                                                          \n",
       "Film-Noir            1.903021                       -0.794954   \n",
       "Western              2.892162                       -0.757772   \n",
       "Tv Movie             0.268788                       -0.663623   \n",
       "Thriller             9.224815                       -0.469136   \n",
       "Action              13.030857                       -0.374942   \n",
       "\n",
       "           absolute_proportion_relative_difference   total  \n",
       "genres                                                      \n",
       "Film-Noir                                 0.794954   189.0  \n",
       "Western                                   0.757772   291.0  \n",
       "Tv Movie                                  0.663623    28.0  \n",
       "Thriller                                  0.469136  1042.0  \n",
       "Action                                    0.374942  1539.0  "
      ]
     },
     "execution_count": 73,
     "metadata": {},
     "output_type": "execute_result"
    }
   ],
   "source": [
    "genre_comparison = create_comparison_df(western_genre_counts, eastern_genre_counts, 20)\n",
    "genre_comparison.head(5)"
   ]
  },
  {
   "cell_type": "code",
   "execution_count": 74,
   "metadata": {},
   "outputs": [
    {
     "data": {
      "image/png": "[encoded data removed]",
      "text/plain": [
       "<Figure size 1000x600 with 1 Axes>"
      ]
     },
     "metadata": {},
     "output_type": "display_data"
    }
   ],
   "source": [
    "def plot_relative_difference(comparison_df, compared, abs=False, prop=False):\n",
    "    column = \"relative_difference\"\n",
    "    sort_column = \"relative_difference\"\n",
    "\n",
    "    if prop:\n",
    "        sort_column = \"proportion_\" + column\n",
    "        column = \"proportion_\" + column\n",
    "    if abs:\n",
    "        column = \"absolute_\" + column\n",
    "\n",
    "    comparison_df = comparison_df.sort_values(sort_column)\n",
    "    comparison_df[column].plot(\n",
    "        kind=\"barh\",\n",
    "        figsize=(10, 6),\n",
    "        color=[\"#ff6347\" if x > 0 else \"#1f77b4\" for x in comparison_df[sort_column]],\n",
    "    )\n",
    "    column = column.replace(\"_\", \" \").title()\n",
    "    plt.title(f\"{compared}: {column} Between Sides\")\n",
    "    plt.xlabel(f\"{column}\")\n",
    "    plt.ylabel(f\"{compared}\")\n",
    "\n",
    "    # Create custom legend\n",
    "    legend_elements = [\n",
    "        Patch(color=\"#ff6347\", label=\"Eastern Side\"),\n",
    "        Patch(color=\"#1f77b4\", label=\"Western Side\"),\n",
    "    ]\n",
    "    plt.legend(handles=legend_elements, title=\"Side\")\n",
    "    plt.show()\n",
    "\n",
    "\n",
    "plot_relative_difference(genre_comparison, \"Genre\", abs=False, prop=False)"
   ]
  },
  {
   "cell_type": "markdown",
   "metadata": {},
   "source": [
    "We can look at the relative difference in proportion instead"
   ]
  },
  {
   "cell_type": "code",
   "execution_count": 75,
   "metadata": {},
   "outputs": [
    {
     "data": {
      "image/png": "[encoded data removed]",
      "text/plain": [
       "<Figure size 1000x600 with 1 Axes>"
      ]
     },
     "metadata": {},
     "output_type": "display_data"
    }
   ],
   "source": [
    "plot_relative_difference(genre_comparison, \"Genre\", abs=False, prop=True)"
   ]
  },
  {
   "cell_type": "markdown",
   "metadata": {},
   "source": [
    "Documentaries and Historical movies appear far more in the eastern bloc, while Thrillers, Actions are more prevalent in the western bloc.\n",
    "It is not surprising that westerns and film-noirs are a lot more common in the western side."
   ]
  },
  {
   "cell_type": "markdown",
   "metadata": {},
   "source": [
    "## Time Series\n"
   ]
  },
  {
   "cell_type": "markdown",
   "metadata": {},
   "source": [
    "We can look now how the genre frequency changed over time.\n",
    "\n",
    "First plot the count every year\n",
    "Then plot the count each period (either every 5 years or through cold war periods)"
   ]
  },
  {
   "cell_type": "code",
   "execution_count": 76,
   "metadata": {},
   "outputs": [],
   "source": [
    "western_genres_yearly_counts = (\n",
    "    genres_df[genres_df[\"cold_war_side\"] == \"Western\"]\n",
    "    .explode(\"genres\")\n",
    "    .groupby(\"release_date\")[\"genres\"]\n",
    "    .value_counts()\n",
    ").reset_index()\n",
    "eastern_genres_yearly_counts = (\n",
    "    genres_df[genres_df[\"cold_war_side\"] == \"Eastern\"]\n",
    "    .explode(\"genres\")\n",
    "    .groupby(\"release_date\")[\"genres\"]\n",
    "    .value_counts()\n",
    ").reset_index()\n",
    "\n",
    "eastern_genres_yearly_counts = eastern_genres_yearly_counts[\n",
    "    eastern_genres_yearly_counts[\"genres\"].isin(common_genres)\n",
    "]\n",
    "western_genres_yearly_counts = western_genres_yearly_counts[\n",
    "    western_genres_yearly_counts[\"genres\"].isin(common_genres)\n",
    "]"
   ]
  },
  {
   "cell_type": "code",
   "execution_count": 77,
   "metadata": {},
   "outputs": [],
   "source": [
    "def plot_genres_over_time(side_genres_counts, side):\n",
    "    # Create the interactive line plot\n",
    "    fig = px.line(\n",
    "        side_genres_counts.reset_index(),\n",
    "        x=\"release_date\",\n",
    "        y=\"count\",\n",
    "        color=\"genres\",\n",
    "        title=f\"Genre Counts Over Time for {side} Movies\",\n",
    "        labels={\"release_date\": \"Release Date\", \"Count\": \"Count\", \"Genre\": \"Genres\"},\n",
    "        template=\"plotly_white\",\n",
    "    )\n",
    "\n",
    "    # Make all traces except War invisible by default\n",
    "    fig.for_each_trace(\n",
    "        lambda trace: (\n",
    "            trace.update(visible=\"legendonly\") if trace.name != \"War\" else None\n",
    "        )\n",
    "    )\n",
    "    if side == \"Eastern\":\n",
    "        fig.for_each_trace(lambda trace: trace.update(line_color=\"#ff6347\"))\n",
    "    elif side == \"Western\":\n",
    "        fig.for_each_trace(lambda trace: trace.update(line_color=\"#1f77b4\"))\n",
    "    fig.show()"
   ]
  },
  {
   "cell_type": "code",
   "execution_count": 78,
   "metadata": {},
   "outputs": [
    {
     "data": {
      "application/vnd.plotly.v1+json": {
       "config": {
        "plotlyServerURL": "https://plot.ly"
       },
       "data": [
        {
         "hovertemplate": "genres=Drama<br>Release Date=%{x}<br>count=%{y}<extra></extra>",
         "legendgroup": "Drama",
         "line": {
          "color": "#1f77b4",
          "dash": "solid"
         },
         "marker": {
          "symbol": "circle"
         },
         "mode": "lines",
         "name": "Drama",
         "orientation": "v",
         "showlegend": true,
         "type": "scatter",
         "visible": "legendonly",
         "x": [
          1945,
          1946,
          1947,
          1948,
          1949,
          1950,
          1951,
          1952,
          1953,
          1954,
          1955,
          1956,
          1957,
          1958,
          1959,
          1960,
          1961,
          1962,
          1963,
          1964,
          1965,
          1966,
          1967,
          1968,
          1969,
          1970,
          1971,
          1972,
          1973,
          1974,
          1975,
          1976,
          1977,
          1978,
          1979,
          1980,
          1981,
          1982,
          1983,
          1984,
          1985,
          1986,
          1987,
          1988,
          1989,
          1990,
          1991,
          1992,
          1993,
          1994,
          1995
         ],
         "xaxis": "x",
         "y": [
          31,
          25,
          26,
          47,
          46,
          41,
          53,
          52,
          57,
          52,
          58,
          66,
          62,
          59,
          42,
          30,
          31,
          38,
          31,
          39,
          25,
          33,
          32,
          44,
          33,
          28,
          16,
          29,
          29,
          23,
          25,
          28,
          28,
          30,
          36,
          22,
          35,
          31,
          42,
          49,
          36,
          41,
          53,
          40,
          44,
          35,
          18,
          20,
          25,
          16,
          6
         ],
         "yaxis": "y"
        },
        {
         "hovertemplate": "genres=War<br>Release Date=%{x}<br>count=%{y}<extra></extra>",
         "legendgroup": "War",
         "line": {
          "color": "#1f77b4",
          "dash": "solid"
         },
         "marker": {
          "symbol": "circle"
         },
         "mode": "lines",
         "name": "War",
         "orientation": "v",
         "showlegend": true,
         "type": "scatter",
         "x": [
          1945,
          1946,
          1947,
          1948,
          1949,
          1950,
          1951,
          1952,
          1953,
          1954,
          1955,
          1956,
          1957,
          1958,
          1959,
          1960,
          1961,
          1962,
          1963,
          1964,
          1965,
          1966,
          1967,
          1968,
          1969,
          1970,
          1971,
          1972,
          1973,
          1974,
          1975,
          1976,
          1977,
          1978,
          1979,
          1980,
          1981,
          1982,
          1983,
          1984,
          1985,
          1986,
          1987,
          1988,
          1989,
          1990,
          1991,
          1992,
          1993,
          1994,
          1995
         ],
         "xaxis": "x",
         "y": [
          18,
          9,
          1,
          6,
          9,
          11,
          12,
          12,
          17,
          11,
          13,
          17,
          17,
          22,
          16,
          10,
          8,
          14,
          9,
          14,
          13,
          16,
          6,
          14,
          13,
          9,
          2,
          5,
          1,
          1,
          4,
          3,
          5,
          9,
          8,
          3,
          5,
          5,
          7,
          7,
          11,
          9,
          12,
          12,
          10,
          6,
          2,
          2,
          8,
          2,
          2
         ],
         "yaxis": "y"
        },
        {
         "hovertemplate": "genres=Romance<br>Release Date=%{x}<br>count=%{y}<extra></extra>",
         "legendgroup": "Romance",
         "line": {
          "color": "#1f77b4",
          "dash": "solid"
         },
         "marker": {
          "symbol": "circle"
         },
         "mode": "lines",
         "name": "Romance",
         "orientation": "v",
         "showlegend": true,
         "type": "scatter",
         "visible": "legendonly",
         "x": [
          1945,
          1946,
          1947,
          1948,
          1949,
          1950,
          1951,
          1952,
          1953,
          1954,
          1955,
          1956,
          1957,
          1958,
          1959,
          1960,
          1961,
          1962,
          1963,
          1964,
          1965,
          1966,
          1967,
          1968,
          1969,
          1970,
          1971,
          1972,
          1973,
          1974,
          1975,
          1976,
          1977,
          1978,
          1979,
          1980,
          1981,
          1982,
          1983,
          1984,
          1985,
          1986,
          1987,
          1988,
          1989,
          1990,
          1991,
          1992,
          1993,
          1994
         ],
         "xaxis": "x",
         "y": [
          14,
          7,
          15,
          18,
          17,
          10,
          18,
          14,
          29,
          12,
          22,
          16,
          17,
          16,
          17,
          11,
          9,
          9,
          13,
          11,
          11,
          12,
          6,
          6,
          5,
          6,
          1,
          3,
          3,
          3,
          4,
          4,
          6,
          7,
          11,
          5,
          5,
          6,
          13,
          16,
          11,
          9,
          6,
          11,
          6,
          7,
          6,
          8,
          7,
          2
         ],
         "yaxis": "y"
        },
        {
         "hovertemplate": "genres=Thriller<br>Release Date=%{x}<br>count=%{y}<extra></extra>",
         "legendgroup": "Thriller",
         "line": {
          "color": "#1f77b4",
          "dash": "solid"
         },
         "marker": {
          "symbol": "circle"
         },
         "mode": "lines",
         "name": "Thriller",
         "orientation": "v",
         "showlegend": true,
         "type": "scatter",
         "visible": "legendonly",
         "x": [
          1945,
          1946,
          1947,
          1948,
          1949,
          1950,
          1951,
          1952,
          1953,
          1954,
          1955,
          1956,
          1957,
          1958,
          1959,
          1960,
          1961,
          1962,
          1963,
          1964,
          1965,
          1966,
          1967,
          1968,
          1969,
          1970,
          1971,
          1972,
          1973,
          1974,
          1975,
          1976,
          1977,
          1978,
          1979,
          1980,
          1981,
          1982,
          1983,
          1984,
          1985,
          1986,
          1987,
          1988,
          1989,
          1990,
          1991,
          1992,
          1993,
          1994,
          1995
         ],
         "xaxis": "x",
         "y": [
          10,
          8,
          13,
          14,
          13,
          17,
          15,
          17,
          15,
          17,
          10,
          18,
          21,
          7,
          18,
          6,
          4,
          10,
          12,
          16,
          12,
          15,
          25,
          19,
          10,
          11,
          13,
          15,
          18,
          22,
          17,
          14,
          18,
          13,
          21,
          19,
          17,
          19,
          25,
          22,
          25,
          18,
          36,
          28,
          30,
          26,
          22,
          20,
          25,
          17,
          5
         ],
         "yaxis": "y"
        },
        {
         "hovertemplate": "genres=Action<br>Release Date=%{x}<br>count=%{y}<extra></extra>",
         "legendgroup": "Action",
         "line": {
          "color": "#1f77b4",
          "dash": "solid"
         },
         "marker": {
          "symbol": "circle"
         },
         "mode": "lines",
         "name": "Action",
         "orientation": "v",
         "showlegend": true,
         "type": "scatter",
         "visible": "legendonly",
         "x": [
          1945,
          1946,
          1947,
          1948,
          1949,
          1950,
          1951,
          1952,
          1953,
          1954,
          1955,
          1956,
          1957,
          1958,
          1959,
          1960,
          1961,
          1962,
          1963,
          1964,
          1965,
          1966,
          1967,
          1968,
          1969,
          1970,
          1971,
          1972,
          1973,
          1974,
          1975,
          1976,
          1977,
          1978,
          1979,
          1980,
          1981,
          1982,
          1983,
          1984,
          1985,
          1986,
          1987,
          1988,
          1989,
          1990,
          1991,
          1992,
          1993,
          1994,
          1995
         ],
         "xaxis": "x",
         "y": [
          9,
          3,
          7,
          16,
          13,
          18,
          17,
          16,
          19,
          16,
          18,
          21,
          27,
          26,
          24,
          13,
          8,
          16,
          7,
          14,
          16,
          25,
          30,
          26,
          21,
          14,
          16,
          22,
          27,
          21,
          24,
          25,
          26,
          19,
          22,
          33,
          27,
          27,
          30,
          36,
          54,
          46,
          56,
          55,
          58,
          41,
          28,
          21,
          33,
          21,
          4
         ],
         "yaxis": "y"
        },
        {
         "hovertemplate": "genres=Crime<br>Release Date=%{x}<br>count=%{y}<extra></extra>",
         "legendgroup": "Crime",
         "line": {
          "color": "#1f77b4",
          "dash": "solid"
         },
         "marker": {
          "symbol": "circle"
         },
         "mode": "lines",
         "name": "Crime",
         "orientation": "v",
         "showlegend": true,
         "type": "scatter",
         "visible": "legendonly",
         "x": [
          1945,
          1946,
          1947,
          1948,
          1949,
          1950,
          1951,
          1952,
          1953,
          1954,
          1955,
          1956,
          1957,
          1958,
          1959,
          1960,
          1961,
          1962,
          1963,
          1964,
          1965,
          1966,
          1967,
          1968,
          1969,
          1970,
          1971,
          1972,
          1973,
          1974,
          1975,
          1976,
          1977,
          1978,
          1979,
          1980,
          1981,
          1982,
          1983,
          1984,
          1985,
          1986,
          1987,
          1988,
          1989,
          1990,
          1991,
          1992,
          1993,
          1994,
          1995
         ],
         "xaxis": "x",
         "y": [
          8,
          12,
          20,
          23,
          26,
          23,
          27,
          24,
          15,
          22,
          29,
          21,
          18,
          15,
          14,
          9,
          13,
          7,
          12,
          12,
          10,
          23,
          20,
          14,
          14,
          13,
          11,
          20,
          24,
          24,
          16,
          23,
          21,
          13,
          15,
          15,
          17,
          15,
          16,
          24,
          19,
          13,
          29,
          27,
          30,
          24,
          12,
          13,
          16,
          6,
          2
         ],
         "yaxis": "y"
        },
        {
         "hovertemplate": "genres=Comedy<br>Release Date=%{x}<br>count=%{y}<extra></extra>",
         "legendgroup": "Comedy",
         "line": {
          "color": "#1f77b4",
          "dash": "solid"
         },
         "marker": {
          "symbol": "circle"
         },
         "mode": "lines",
         "name": "Comedy",
         "orientation": "v",
         "showlegend": true,
         "type": "scatter",
         "visible": "legendonly",
         "x": [
          1945,
          1946,
          1947,
          1948,
          1949,
          1950,
          1951,
          1952,
          1953,
          1954,
          1955,
          1956,
          1957,
          1958,
          1959,
          1960,
          1961,
          1962,
          1963,
          1964,
          1965,
          1966,
          1967,
          1968,
          1969,
          1970,
          1971,
          1972,
          1973,
          1974,
          1975,
          1976,
          1977,
          1978,
          1979,
          1980,
          1981,
          1982,
          1983,
          1984,
          1985,
          1986,
          1987,
          1988,
          1989,
          1990,
          1991,
          1992,
          1993,
          1994,
          1995
         ],
         "xaxis": "x",
         "y": [
          6,
          9,
          14,
          7,
          11,
          11,
          18,
          10,
          17,
          10,
          12,
          12,
          12,
          17,
          20,
          13,
          15,
          13,
          18,
          26,
          19,
          26,
          25,
          17,
          17,
          10,
          9,
          15,
          10,
          11,
          12,
          7,
          7,
          17,
          17,
          18,
          9,
          11,
          18,
          22,
          31,
          20,
          29,
          22,
          29,
          17,
          9,
          6,
          10,
          14,
          2
         ],
         "yaxis": "y"
        },
        {
         "hovertemplate": "genres=Adventure<br>Release Date=%{x}<br>count=%{y}<extra></extra>",
         "legendgroup": "Adventure",
         "line": {
          "color": "#1f77b4",
          "dash": "solid"
         },
         "marker": {
          "symbol": "circle"
         },
         "mode": "lines",
         "name": "Adventure",
         "orientation": "v",
         "showlegend": true,
         "type": "scatter",
         "visible": "legendonly",
         "x": [
          1945,
          1946,
          1947,
          1948,
          1949,
          1950,
          1951,
          1952,
          1953,
          1954,
          1955,
          1956,
          1957,
          1958,
          1959,
          1960,
          1961,
          1962,
          1963,
          1964,
          1965,
          1966,
          1967,
          1968,
          1969,
          1970,
          1971,
          1972,
          1973,
          1974,
          1975,
          1976,
          1977,
          1978,
          1979,
          1980,
          1981,
          1982,
          1983,
          1984,
          1985,
          1986,
          1987,
          1988,
          1989,
          1990,
          1991,
          1992,
          1993,
          1994,
          1995
         ],
         "xaxis": "x",
         "y": [
          5,
          3,
          7,
          6,
          7,
          11,
          14,
          16,
          24,
          15,
          11,
          12,
          19,
          12,
          15,
          9,
          14,
          14,
          9,
          17,
          19,
          23,
          15,
          16,
          16,
          7,
          8,
          14,
          11,
          8,
          13,
          7,
          9,
          8,
          18,
          15,
          15,
          13,
          19,
          17,
          27,
          17,
          20,
          24,
          25,
          14,
          12,
          7,
          10,
          9,
          2
         ],
         "yaxis": "y"
        },
        {
         "hovertemplate": "genres=History<br>Release Date=%{x}<br>count=%{y}<extra></extra>",
         "legendgroup": "History",
         "line": {
          "color": "#1f77b4",
          "dash": "solid"
         },
         "marker": {
          "symbol": "circle"
         },
         "mode": "lines",
         "name": "History",
         "orientation": "v",
         "showlegend": true,
         "type": "scatter",
         "visible": "legendonly",
         "x": [
          1946,
          1947,
          1948,
          1949,
          1951,
          1952,
          1953,
          1954,
          1955,
          1956,
          1957,
          1958,
          1959,
          1960,
          1961,
          1962,
          1963,
          1964,
          1965,
          1966,
          1967,
          1968,
          1969,
          1970,
          1971,
          1972,
          1973,
          1975,
          1976,
          1977,
          1978,
          1979,
          1980,
          1981,
          1982,
          1983,
          1984,
          1985,
          1986,
          1987,
          1988,
          1989,
          1990,
          1991,
          1992,
          1993,
          1994,
          1995
         ],
         "xaxis": "x",
         "y": [
          5,
          1,
          2,
          3,
          2,
          6,
          6,
          4,
          4,
          6,
          5,
          10,
          6,
          8,
          3,
          9,
          4,
          6,
          5,
          5,
          1,
          3,
          4,
          3,
          1,
          4,
          1,
          4,
          3,
          5,
          5,
          3,
          1,
          4,
          2,
          5,
          1,
          1,
          3,
          6,
          2,
          7,
          3,
          1,
          5,
          5,
          4,
          2
         ],
         "yaxis": "y"
        },
        {
         "hovertemplate": "genres=Science Fiction<br>Release Date=%{x}<br>count=%{y}<extra></extra>",
         "legendgroup": "Science Fiction",
         "line": {
          "color": "#1f77b4",
          "dash": "solid"
         },
         "marker": {
          "symbol": "circle"
         },
         "mode": "lines",
         "name": "Science Fiction",
         "orientation": "v",
         "showlegend": true,
         "type": "scatter",
         "visible": "legendonly",
         "x": [
          1948,
          1949,
          1950,
          1951,
          1952,
          1953,
          1954,
          1955,
          1956,
          1957,
          1958,
          1959,
          1960,
          1961,
          1962,
          1964,
          1965,
          1966,
          1967,
          1968,
          1969,
          1970,
          1971,
          1972,
          1973,
          1974,
          1975,
          1976,
          1977,
          1978,
          1979,
          1980,
          1981,
          1982,
          1983,
          1984,
          1985,
          1986,
          1987,
          1988,
          1989,
          1990,
          1991,
          1992,
          1993,
          1994,
          1995
         ],
         "xaxis": "x",
         "y": [
          2,
          1,
          3,
          9,
          1,
          6,
          6,
          5,
          9,
          9,
          5,
          5,
          4,
          7,
          2,
          6,
          8,
          8,
          8,
          4,
          3,
          2,
          4,
          2,
          3,
          2,
          3,
          1,
          3,
          5,
          7,
          6,
          6,
          9,
          14,
          12,
          9,
          7,
          9,
          6,
          8,
          8,
          9,
          2,
          10,
          7,
          2
         ],
         "yaxis": "y"
        }
       ],
       "layout": {
        "legend": {
         "title": {
          "text": "genres"
         },
         "tracegroupgap": 0
        },
        "template": {
         "data": {
          "bar": [
           {
            "error_x": {
             "color": "#2a3f5f"
            },
            "error_y": {
             "color": "#2a3f5f"
            },
            "marker": {
             "line": {
              "color": "white",
              "width": 0.5
             },
             "pattern": {
              "fillmode": "overlay",
              "size": 10,
              "solidity": 0.2
             }
            },
            "type": "bar"
           }
          ],
          "barpolar": [
           {
            "marker": {
             "line": {
              "color": "white",
              "width": 0.5
             },
             "pattern": {
              "fillmode": "overlay",
              "size": 10,
              "solidity": 0.2
             }
            },
            "type": "barpolar"
           }
          ],
          "carpet": [
           {
            "aaxis": {
             "endlinecolor": "#2a3f5f",
             "gridcolor": "#C8D4E3",
             "linecolor": "#C8D4E3",
             "minorgridcolor": "#C8D4E3",
             "startlinecolor": "#2a3f5f"
            },
            "baxis": {
             "endlinecolor": "#2a3f5f",
             "gridcolor": "#C8D4E3",
             "linecolor": "#C8D4E3",
             "minorgridcolor": "#C8D4E3",
             "startlinecolor": "#2a3f5f"
            },
            "type": "carpet"
           }
          ],
          "choropleth": [
           {
            "colorbar": {
             "outlinewidth": 0,
             "ticks": ""
            },
            "type": "choropleth"
           }
          ],
          "contour": [
           {
            "colorbar": {
             "outlinewidth": 0,
             "ticks": ""
            },
            "colorscale": [
             [
              0,
              "#0d0887"
             ],
             [
              0.1111111111111111,
              "#46039f"
             ],
             [
              0.2222222222222222,
              "#7201a8"
             ],
             [
              0.3333333333333333,
              "#9c179e"
             ],
             [
              0.4444444444444444,
              "#bd3786"
             ],
             [
              0.5555555555555556,
              "#d8576b"
             ],
             [
              0.6666666666666666,
              "#ed7953"
             ],
             [
              0.7777777777777778,
              "#fb9f3a"
             ],
             [
              0.8888888888888888,
              "#fdca26"
             ],
             [
              1,
              "#f0f921"
             ]
            ],
            "type": "contour"
           }
          ],
          "contourcarpet": [
           {
            "colorbar": {
             "outlinewidth": 0,
             "ticks": ""
            },
            "type": "contourcarpet"
           }
          ],
          "heatmap": [
           {
            "colorbar": {
             "outlinewidth": 0,
             "ticks": ""
            },
            "colorscale": [
             [
              0,
              "#0d0887"
             ],
             [
              0.1111111111111111,
              "#46039f"
             ],
             [
              0.2222222222222222,
              "#7201a8"
             ],
             [
              0.3333333333333333,
              "#9c179e"
             ],
             [
              0.4444444444444444,
              "#bd3786"
             ],
             [
              0.5555555555555556,
              "#d8576b"
             ],
             [
              0.6666666666666666,
              "#ed7953"
             ],
             [
              0.7777777777777778,
              "#fb9f3a"
             ],
             [
              0.8888888888888888,
              "#fdca26"
             ],
             [
              1,
              "#f0f921"
             ]
            ],
            "type": "heatmap"
           }
          ],
          "heatmapgl": [
           {
            "colorbar": {
             "outlinewidth": 0,
             "ticks": ""
            },
            "colorscale": [
             [
              0,
              "#0d0887"
             ],
             [
              0.1111111111111111,
              "#46039f"
             ],
             [
              0.2222222222222222,
              "#7201a8"
             ],
             [
              0.3333333333333333,
              "#9c179e"
             ],
             [
              0.4444444444444444,
              "#bd3786"
             ],
             [
              0.5555555555555556,
              "#d8576b"
             ],
             [
              0.6666666666666666,
              "#ed7953"
             ],
             [
              0.7777777777777778,
              "#fb9f3a"
             ],
             [
              0.8888888888888888,
              "#fdca26"
             ],
             [
              1,
              "#f0f921"
             ]
            ],
            "type": "heatmapgl"
           }
          ],
          "histogram": [
           {
            "marker": {
             "pattern": {
              "fillmode": "overlay",
              "size": 10,
              "solidity": 0.2
             }
            },
            "type": "histogram"
           }
          ],
          "histogram2d": [
           {
            "colorbar": {
             "outlinewidth": 0,
             "ticks": ""
            },
            "colorscale": [
             [
              0,
              "#0d0887"
             ],
             [
              0.1111111111111111,
              "#46039f"
             ],
             [
              0.2222222222222222,
              "#7201a8"
             ],
             [
              0.3333333333333333,
              "#9c179e"
             ],
             [
              0.4444444444444444,
              "#bd3786"
             ],
             [
              0.5555555555555556,
              "#d8576b"
             ],
             [
              0.6666666666666666,
              "#ed7953"
             ],
             [
              0.7777777777777778,
              "#fb9f3a"
             ],
             [
              0.8888888888888888,
              "#fdca26"
             ],
             [
              1,
              "#f0f921"
             ]
            ],
            "type": "histogram2d"
           }
          ],
          "histogram2dcontour": [
           {
            "colorbar": {
             "outlinewidth": 0,
             "ticks": ""
            },
            "colorscale": [
             [
              0,
              "#0d0887"
             ],
             [
              0.1111111111111111,
              "#46039f"
             ],
             [
              0.2222222222222222,
              "#7201a8"
             ],
             [
              0.3333333333333333,
              "#9c179e"
             ],
             [
              0.4444444444444444,
              "#bd3786"
             ],
             [
              0.5555555555555556,
              "#d8576b"
             ],
             [
              0.6666666666666666,
              "#ed7953"
             ],
             [
              0.7777777777777778,
              "#fb9f3a"
             ],
             [
              0.8888888888888888,
              "#fdca26"
             ],
             [
              1,
              "#f0f921"
             ]
            ],
            "type": "histogram2dcontour"
           }
          ],
          "mesh3d": [
           {
            "colorbar": {
             "outlinewidth": 0,
             "ticks": ""
            },
            "type": "mesh3d"
           }
          ],
          "parcoords": [
           {
            "line": {
             "colorbar": {
              "outlinewidth": 0,
              "ticks": ""
             }
            },
            "type": "parcoords"
           }
          ],
          "pie": [
           {
            "automargin": true,
            "type": "pie"
           }
          ],
          "scatter": [
           {
            "fillpattern": {
             "fillmode": "overlay",
             "size": 10,
             "solidity": 0.2
            },
            "type": "scatter"
           }
          ],
          "scatter3d": [
           {
            "line": {
             "colorbar": {
              "outlinewidth": 0,
              "ticks": ""
             }
            },
            "marker": {
             "colorbar": {
              "outlinewidth": 0,
              "ticks": ""
             }
            },
            "type": "scatter3d"
           }
          ],
          "scattercarpet": [
           {
            "marker": {
             "colorbar": {
              "outlinewidth": 0,
              "ticks": ""
             }
            },
            "type": "scattercarpet"
           }
          ],
          "scattergeo": [
           {
            "marker": {
             "colorbar": {
              "outlinewidth": 0,
              "ticks": ""
             }
            },
            "type": "scattergeo"
           }
          ],
          "scattergl": [
           {
            "marker": {
             "colorbar": {
              "outlinewidth": 0,
              "ticks": ""
             }
            },
            "type": "scattergl"
           }
          ],
          "scattermapbox": [
           {
            "marker": {
             "colorbar": {
              "outlinewidth": 0,
              "ticks": ""
             }
            },
            "type": "scattermapbox"
           }
          ],
          "scatterpolar": [
           {
            "marker": {
             "colorbar": {
              "outlinewidth": 0,
              "ticks": ""
             }
            },
            "type": "scatterpolar"
           }
          ],
          "scatterpolargl": [
           {
            "marker": {
             "colorbar": {
              "outlinewidth": 0,
              "ticks": ""
             }
            },
            "type": "scatterpolargl"
           }
          ],
          "scatterternary": [
           {
            "marker": {
             "colorbar": {
              "outlinewidth": 0,
              "ticks": ""
             }
            },
            "type": "scatterternary"
           }
          ],
          "surface": [
           {
            "colorbar": {
             "outlinewidth": 0,
             "ticks": ""
            },
            "colorscale": [
             [
              0,
              "#0d0887"
             ],
             [
              0.1111111111111111,
              "#46039f"
             ],
             [
              0.2222222222222222,
              "#7201a8"
             ],
             [
              0.3333333333333333,
              "#9c179e"
             ],
             [
              0.4444444444444444,
              "#bd3786"
             ],
             [
              0.5555555555555556,
              "#d8576b"
             ],
             [
              0.6666666666666666,
              "#ed7953"
             ],
             [
              0.7777777777777778,
              "#fb9f3a"
             ],
             [
              0.8888888888888888,
              "#fdca26"
             ],
             [
              1,
              "#f0f921"
             ]
            ],
            "type": "surface"
           }
          ],
          "table": [
           {
            "cells": {
             "fill": {
              "color": "#EBF0F8"
             },
             "line": {
              "color": "white"
             }
            },
            "header": {
             "fill": {
              "color": "#C8D4E3"
             },
             "line": {
              "color": "white"
             }
            },
            "type": "table"
           }
          ]
         },
         "layout": {
          "annotationdefaults": {
           "arrowcolor": "#2a3f5f",
           "arrowhead": 0,
           "arrowwidth": 1
          },
          "autotypenumbers": "strict",
          "coloraxis": {
           "colorbar": {
            "outlinewidth": 0,
            "ticks": ""
           }
          },
          "colorscale": {
           "diverging": [
            [
             0,
             "#8e0152"
            ],
            [
             0.1,
             "#c51b7d"
            ],
            [
             0.2,
             "#de77ae"
            ],
            [
             0.3,
             "#f1b6da"
            ],
            [
             0.4,
             "#fde0ef"
            ],
            [
             0.5,
             "#f7f7f7"
            ],
            [
             0.6,
             "#e6f5d0"
            ],
            [
             0.7,
             "#b8e186"
            ],
            [
             0.8,
             "#7fbc41"
            ],
            [
             0.9,
             "#4d9221"
            ],
            [
             1,
             "#276419"
            ]
           ],
           "sequential": [
            [
             0,
             "#0d0887"
            ],
            [
             0.1111111111111111,
             "#46039f"
            ],
            [
             0.2222222222222222,
             "#7201a8"
            ],
            [
             0.3333333333333333,
             "#9c179e"
            ],
            [
             0.4444444444444444,
             "#bd3786"
            ],
            [
             0.5555555555555556,
             "#d8576b"
            ],
            [
             0.6666666666666666,
             "#ed7953"
            ],
            [
             0.7777777777777778,
             "#fb9f3a"
            ],
            [
             0.8888888888888888,
             "#fdca26"
            ],
            [
             1,
             "#f0f921"
            ]
           ],
           "sequentialminus": [
            [
             0,
             "#0d0887"
            ],
            [
             0.1111111111111111,
             "#46039f"
            ],
            [
             0.2222222222222222,
             "#7201a8"
            ],
            [
             0.3333333333333333,
             "#9c179e"
            ],
            [
             0.4444444444444444,
             "#bd3786"
            ],
            [
             0.5555555555555556,
             "#d8576b"
            ],
            [
             0.6666666666666666,
             "#ed7953"
            ],
            [
             0.7777777777777778,
             "#fb9f3a"
            ],
            [
             0.8888888888888888,
             "#fdca26"
            ],
            [
             1,
             "#f0f921"
            ]
           ]
          },
          "colorway": [
           "#636efa",
           "#EF553B",
           "#00cc96",
           "#ab63fa",
           "#FFA15A",
           "#19d3f3",
           "#FF6692",
           "#B6E880",
           "#FF97FF",
           "#FECB52"
          ],
          "font": {
           "color": "#2a3f5f"
          },
          "geo": {
           "bgcolor": "white",
           "lakecolor": "white",
           "landcolor": "white",
           "showlakes": true,
           "showland": true,
           "subunitcolor": "#C8D4E3"
          },
          "hoverlabel": {
           "align": "left"
          },
          "hovermode": "closest",
          "mapbox": {
           "style": "light"
          },
          "paper_bgcolor": "white",
          "plot_bgcolor": "white",
          "polar": {
           "angularaxis": {
            "gridcolor": "#EBF0F8",
            "linecolor": "#EBF0F8",
            "ticks": ""
           },
           "bgcolor": "white",
           "radialaxis": {
            "gridcolor": "#EBF0F8",
            "linecolor": "#EBF0F8",
            "ticks": ""
           }
          },
          "scene": {
           "xaxis": {
            "backgroundcolor": "white",
            "gridcolor": "#DFE8F3",
            "gridwidth": 2,
            "linecolor": "#EBF0F8",
            "showbackground": true,
            "ticks": "",
            "zerolinecolor": "#EBF0F8"
           },
           "yaxis": {
            "backgroundcolor": "white",
            "gridcolor": "#DFE8F3",
            "gridwidth": 2,
            "linecolor": "#EBF0F8",
            "showbackground": true,
            "ticks": "",
            "zerolinecolor": "#EBF0F8"
           },
           "zaxis": {
            "backgroundcolor": "white",
            "gridcolor": "#DFE8F3",
            "gridwidth": 2,
            "linecolor": "#EBF0F8",
            "showbackground": true,
            "ticks": "",
            "zerolinecolor": "#EBF0F8"
           }
          },
          "shapedefaults": {
           "line": {
            "color": "#2a3f5f"
           }
          },
          "ternary": {
           "aaxis": {
            "gridcolor": "#DFE8F3",
            "linecolor": "#A2B1C6",
            "ticks": ""
           },
           "baxis": {
            "gridcolor": "#DFE8F3",
            "linecolor": "#A2B1C6",
            "ticks": ""
           },
           "bgcolor": "white",
           "caxis": {
            "gridcolor": "#DFE8F3",
            "linecolor": "#A2B1C6",
            "ticks": ""
           }
          },
          "title": {
           "x": 0.05
          },
          "xaxis": {
           "automargin": true,
           "gridcolor": "#EBF0F8",
           "linecolor": "#EBF0F8",
           "ticks": "",
           "title": {
            "standoff": 15
           },
           "zerolinecolor": "#EBF0F8",
           "zerolinewidth": 2
          },
          "yaxis": {
           "automargin": true,
           "gridcolor": "#EBF0F8",
           "linecolor": "#EBF0F8",
           "ticks": "",
           "title": {
            "standoff": 15
           },
           "zerolinecolor": "#EBF0F8",
           "zerolinewidth": 2
          }
         }
        },
        "title": {
         "text": "Genre Counts Over Time for Western Movies"
        },
        "xaxis": {
         "anchor": "y",
         "domain": [
          0,
          1
         ],
         "title": {
          "text": "Release Date"
         }
        },
        "yaxis": {
         "anchor": "x",
         "domain": [
          0,
          1
         ],
         "title": {
          "text": "count"
         }
        }
       }
      }
     },
     "metadata": {},
     "output_type": "display_data"
    },
    {
     "data": {
      "application/vnd.jupyter.widget-view+json": {
       "model_id": "7a38e99aa56b40e2b58bae24987086c4",
       "version_major": 2,
       "version_minor": 0
      },
      "text/plain": [
       "interactive(children=(Dropdown(description='Region', options=('Western', 'Eastern'), value='Western'), Output(…"
      ]
     },
     "metadata": {},
     "output_type": "display_data"
    },
    {
     "data": {
      "text/plain": [
       "<function __main__.interactive_plot(side_genres)>"
      ]
     },
     "execution_count": 78,
     "metadata": {},
     "output_type": "execute_result"
    }
   ],
   "source": [
    "# Interactive widget\n",
    "def interactive_plot(side_genres):\n",
    "    if side_genres == \"Western\":\n",
    "        plot_genres_over_time(western_genres_yearly_counts, \"Western\")\n",
    "    elif side_genres == \"Eastern\":\n",
    "        plot_genres_over_time(eastern_genres_yearly_counts, \"Eastern\")\n",
    "\n",
    "\n",
    "# Use interact with a dropdown\n",
    "interact(\n",
    "    interactive_plot,\n",
    "    side_genres=Dropdown(\n",
    "        options=[\"Western\", \"Eastern\"], value=\"Western\", description=\"Region\"\n",
    "    ),\n",
    ")"
   ]
  },
  {
   "cell_type": "code",
   "execution_count": 79,
   "metadata": {},
   "outputs": [],
   "source": [
    "def plot_genres_over_period(side_genres_counts, side):\n",
    "    # Create the interactive line plot\n",
    "    fig = px.bar(\n",
    "        side_genres_counts.reset_index(),\n",
    "        x=\"period\",\n",
    "        y=\"count\",\n",
    "        color=\"genres\",\n",
    "        title=f\"Genre Counts Over Different Periods for {side} Movies\",\n",
    "        labels={\"period\": \"Release Date\", \"Count\": \"Count\", \"Genre\": \"Genres\"},\n",
    "        template=\"plotly_white\",\n",
    "    )\n",
    "\n",
    "    # Make all traces except War invisible by default\n",
    "    fig.for_each_trace(\n",
    "        lambda trace: (\n",
    "            trace.update(visible=\"legendonly\") if trace.name != \"War\" else None\n",
    "        )\n",
    "    )\n",
    "    fig.for_each_trace(\n",
    "        lambda trace: trace.update(\n",
    "            marker_color=\"#ff6347\" if side == \"Eastern\" else \"#1f77b4\"\n",
    "        )\n",
    "    )\n",
    "    fig.show()"
   ]
  },
  {
   "cell_type": "markdown",
   "metadata": {},
   "source": [
    "Either change the Side by interaction\n"
   ]
  },
  {
   "cell_type": "code",
   "execution_count": 80,
   "metadata": {},
   "outputs": [
    {
     "data": {
      "application/vnd.plotly.v1+json": {
       "config": {
        "plotlyServerURL": "https://plot.ly"
       },
       "data": [
        {
         "alignmentgroup": "True",
         "hovertemplate": "genres=Drama<br>Release Date=%{x}<br>count=%{y}<extra></extra>",
         "legendgroup": "Drama",
         "marker": {
          "color": "#1f77b4",
          "pattern": {
           "shape": ""
          }
         },
         "name": "Drama",
         "offsetgroup": "Drama",
         "orientation": "v",
         "showlegend": true,
         "textposition": "auto",
         "type": "bar",
         "visible": "legendonly",
         "x": [
          "Blocs Establishment",
          "Major tensions and crises",
          "Détente",
          "Second Cold War",
          "End of the Cold War"
         ],
         "xaxis": "x",
         "y": [
          347,
          438,
          362,
          326,
          334
         ],
         "yaxis": "y"
        },
        {
         "alignmentgroup": "True",
         "hovertemplate": "genres=Crime<br>Release Date=%{x}<br>count=%{y}<extra></extra>",
         "legendgroup": "Crime",
         "marker": {
          "color": "#1f77b4",
          "pattern": {
           "shape": ""
          }
         },
         "name": "Crime",
         "offsetgroup": "Crime",
         "orientation": "v",
         "showlegend": true,
         "textposition": "auto",
         "type": "bar",
         "visible": "legendonly",
         "x": [
          "Blocs Establishment",
          "Major tensions and crises",
          "Détente",
          "Second Cold War",
          "End of the Cold War"
         ],
         "xaxis": "x",
         "y": [
          170,
          148,
          197,
          175,
          191
         ],
         "yaxis": "y"
        },
        {
         "alignmentgroup": "True",
         "hovertemplate": "genres=Romance<br>Release Date=%{x}<br>count=%{y}<extra></extra>",
         "legendgroup": "Romance",
         "marker": {
          "color": "#1f77b4",
          "pattern": {
           "shape": ""
          }
         },
         "name": "Romance",
         "offsetgroup": "Romance",
         "orientation": "v",
         "showlegend": true,
         "textposition": "auto",
         "type": "bar",
         "visible": "legendonly",
         "x": [
          "Blocs Establishment",
          "Major tensions and crises",
          "Détente",
          "Second Cold War",
          "End of the Cold War"
         ],
         "xaxis": "x",
         "y": [
          128,
          129,
          80,
          77,
          73
         ],
         "yaxis": "y"
        },
        {
         "alignmentgroup": "True",
         "hovertemplate": "genres=Thriller<br>Release Date=%{x}<br>count=%{y}<extra></extra>",
         "legendgroup": "Thriller",
         "marker": {
          "color": "#1f77b4",
          "pattern": {
           "shape": ""
          }
         },
         "name": "Thriller",
         "offsetgroup": "Thriller",
         "orientation": "v",
         "showlegend": true,
         "textposition": "auto",
         "type": "bar",
         "visible": "legendonly",
         "x": [
          "Blocs Establishment",
          "Major tensions and crises",
          "Détente",
          "Second Cold War",
          "End of the Cold War"
         ],
         "xaxis": "x",
         "y": [
          112,
          111,
          188,
          185,
          252
         ],
         "yaxis": "y"
        },
        {
         "alignmentgroup": "True",
         "hovertemplate": "genres=Action<br>Release Date=%{x}<br>count=%{y}<extra></extra>",
         "legendgroup": "Action",
         "marker": {
          "color": "#1f77b4",
          "pattern": {
           "shape": ""
          }
         },
         "name": "Action",
         "offsetgroup": "Action",
         "orientation": "v",
         "showlegend": true,
         "textposition": "auto",
         "type": "bar",
         "visible": "legendonly",
         "x": [
          "Blocs Establishment",
          "Major tensions and crises",
          "Détente",
          "Second Cold War",
          "End of the Cold War"
         ],
         "xaxis": "x",
         "y": [
          109,
          169,
          239,
          269,
          417
         ],
         "yaxis": "y"
        },
        {
         "alignmentgroup": "True",
         "hovertemplate": "genres=Comedy<br>Release Date=%{x}<br>count=%{y}<extra></extra>",
         "legendgroup": "Comedy",
         "marker": {
          "color": "#1f77b4",
          "pattern": {
           "shape": ""
          }
         },
         "name": "Comedy",
         "offsetgroup": "Comedy",
         "orientation": "v",
         "showlegend": true,
         "textposition": "auto",
         "type": "bar",
         "visible": "legendonly",
         "x": [
          "Blocs Establishment",
          "Major tensions and crises",
          "Détente",
          "Second Cold War",
          "End of the Cold War"
         ],
         "xaxis": "x",
         "y": [
          97,
          124,
          203,
          138,
          189
         ],
         "yaxis": "y"
        },
        {
         "alignmentgroup": "True",
         "hovertemplate": "genres=Adventure<br>Release Date=%{x}<br>count=%{y}<extra></extra>",
         "legendgroup": "Adventure",
         "marker": {
          "color": "#1f77b4",
          "pattern": {
           "shape": ""
          }
         },
         "name": "Adventure",
         "offsetgroup": "Adventure",
         "orientation": "v",
         "showlegend": true,
         "textposition": "auto",
         "type": "bar",
         "visible": "legendonly",
         "x": [
          "Blocs Establishment",
          "Major tensions and crises",
          "Détente",
          "Second Cold War",
          "End of the Cold War"
         ],
         "xaxis": "x",
         "y": [
          88,
          121,
          163,
          134,
          167
         ],
         "yaxis": "y"
        },
        {
         "alignmentgroup": "True",
         "hovertemplate": "genres=War<br>Release Date=%{x}<br>count=%{y}<extra></extra>",
         "legendgroup": "War",
         "marker": {
          "color": "#1f77b4",
          "pattern": {
           "shape": ""
          }
         },
         "name": "War",
         "offsetgroup": "War",
         "orientation": "v",
         "showlegend": true,
         "textposition": "auto",
         "type": "bar",
         "x": [
          "Blocs Establishment",
          "Major tensions and crises",
          "Détente",
          "Second Cold War",
          "End of the Cold War"
         ],
         "xaxis": "x",
         "y": [
          77,
          128,
          103,
          56,
          76
         ],
         "yaxis": "y"
        },
        {
         "alignmentgroup": "True",
         "hovertemplate": "genres=History<br>Release Date=%{x}<br>count=%{y}<extra></extra>",
         "legendgroup": "History",
         "marker": {
          "color": "#1f77b4",
          "pattern": {
           "shape": ""
          }
         },
         "name": "History",
         "offsetgroup": "History",
         "orientation": "v",
         "showlegend": true,
         "textposition": "auto",
         "type": "bar",
         "visible": "legendonly",
         "x": [
          "Blocs Establishment",
          "Major tensions and crises",
          "Détente",
          "Second Cold War",
          "End of the Cold War"
         ],
         "xaxis": "x",
         "y": [
          25,
          55,
          37,
          33,
          39
         ],
         "yaxis": "y"
        },
        {
         "alignmentgroup": "True",
         "hovertemplate": "genres=Science Fiction<br>Release Date=%{x}<br>count=%{y}<extra></extra>",
         "legendgroup": "Science Fiction",
         "marker": {
          "color": "#1f77b4",
          "pattern": {
           "shape": ""
          }
         },
         "name": "Science Fiction",
         "offsetgroup": "Science Fiction",
         "orientation": "v",
         "showlegend": true,
         "textposition": "auto",
         "type": "bar",
         "visible": "legendonly",
         "x": [
          "Blocs Establishment",
          "Major tensions and crises",
          "Détente",
          "Second Cold War",
          "End of the Cold War"
         ],
         "xaxis": "x",
         "y": [
          22,
          52,
          50,
          66,
          77
         ],
         "yaxis": "y"
        }
       ],
       "layout": {
        "barmode": "relative",
        "legend": {
         "title": {
          "text": "genres"
         },
         "tracegroupgap": 0
        },
        "template": {
         "data": {
          "bar": [
           {
            "error_x": {
             "color": "#2a3f5f"
            },
            "error_y": {
             "color": "#2a3f5f"
            },
            "marker": {
             "line": {
              "color": "white",
              "width": 0.5
             },
             "pattern": {
              "fillmode": "overlay",
              "size": 10,
              "solidity": 0.2
             }
            },
            "type": "bar"
           }
          ],
          "barpolar": [
           {
            "marker": {
             "line": {
              "color": "white",
              "width": 0.5
             },
             "pattern": {
              "fillmode": "overlay",
              "size": 10,
              "solidity": 0.2
             }
            },
            "type": "barpolar"
           }
          ],
          "carpet": [
           {
            "aaxis": {
             "endlinecolor": "#2a3f5f",
             "gridcolor": "#C8D4E3",
             "linecolor": "#C8D4E3",
             "minorgridcolor": "#C8D4E3",
             "startlinecolor": "#2a3f5f"
            },
            "baxis": {
             "endlinecolor": "#2a3f5f",
             "gridcolor": "#C8D4E3",
             "linecolor": "#C8D4E3",
             "minorgridcolor": "#C8D4E3",
             "startlinecolor": "#2a3f5f"
            },
            "type": "carpet"
           }
          ],
          "choropleth": [
           {
            "colorbar": {
             "outlinewidth": 0,
             "ticks": ""
            },
            "type": "choropleth"
           }
          ],
          "contour": [
           {
            "colorbar": {
             "outlinewidth": 0,
             "ticks": ""
            },
            "colorscale": [
             [
              0,
              "#0d0887"
             ],
             [
              0.1111111111111111,
              "#46039f"
             ],
             [
              0.2222222222222222,
              "#7201a8"
             ],
             [
              0.3333333333333333,
              "#9c179e"
             ],
             [
              0.4444444444444444,
              "#bd3786"
             ],
             [
              0.5555555555555556,
              "#d8576b"
             ],
             [
              0.6666666666666666,
              "#ed7953"
             ],
             [
              0.7777777777777778,
              "#fb9f3a"
             ],
             [
              0.8888888888888888,
              "#fdca26"
             ],
             [
              1,
              "#f0f921"
             ]
            ],
            "type": "contour"
           }
          ],
          "contourcarpet": [
           {
            "colorbar": {
             "outlinewidth": 0,
             "ticks": ""
            },
            "type": "contourcarpet"
           }
          ],
          "heatmap": [
           {
            "colorbar": {
             "outlinewidth": 0,
             "ticks": ""
            },
            "colorscale": [
             [
              0,
              "#0d0887"
             ],
             [
              0.1111111111111111,
              "#46039f"
             ],
             [
              0.2222222222222222,
              "#7201a8"
             ],
             [
              0.3333333333333333,
              "#9c179e"
             ],
             [
              0.4444444444444444,
              "#bd3786"
             ],
             [
              0.5555555555555556,
              "#d8576b"
             ],
             [
              0.6666666666666666,
              "#ed7953"
             ],
             [
              0.7777777777777778,
              "#fb9f3a"
             ],
             [
              0.8888888888888888,
              "#fdca26"
             ],
             [
              1,
              "#f0f921"
             ]
            ],
            "type": "heatmap"
           }
          ],
          "heatmapgl": [
           {
            "colorbar": {
             "outlinewidth": 0,
             "ticks": ""
            },
            "colorscale": [
             [
              0,
              "#0d0887"
             ],
             [
              0.1111111111111111,
              "#46039f"
             ],
             [
              0.2222222222222222,
              "#7201a8"
             ],
             [
              0.3333333333333333,
              "#9c179e"
             ],
             [
              0.4444444444444444,
              "#bd3786"
             ],
             [
              0.5555555555555556,
              "#d8576b"
             ],
             [
              0.6666666666666666,
              "#ed7953"
             ],
             [
              0.7777777777777778,
              "#fb9f3a"
             ],
             [
              0.8888888888888888,
              "#fdca26"
             ],
             [
              1,
              "#f0f921"
             ]
            ],
            "type": "heatmapgl"
           }
          ],
          "histogram": [
           {
            "marker": {
             "pattern": {
              "fillmode": "overlay",
              "size": 10,
              "solidity": 0.2
             }
            },
            "type": "histogram"
           }
          ],
          "histogram2d": [
           {
            "colorbar": {
             "outlinewidth": 0,
             "ticks": ""
            },
            "colorscale": [
             [
              0,
              "#0d0887"
             ],
             [
              0.1111111111111111,
              "#46039f"
             ],
             [
              0.2222222222222222,
              "#7201a8"
             ],
             [
              0.3333333333333333,
              "#9c179e"
             ],
             [
              0.4444444444444444,
              "#bd3786"
             ],
             [
              0.5555555555555556,
              "#d8576b"
             ],
             [
              0.6666666666666666,
              "#ed7953"
             ],
             [
              0.7777777777777778,
              "#fb9f3a"
             ],
             [
              0.8888888888888888,
              "#fdca26"
             ],
             [
              1,
              "#f0f921"
             ]
            ],
            "type": "histogram2d"
           }
          ],
          "histogram2dcontour": [
           {
            "colorbar": {
             "outlinewidth": 0,
             "ticks": ""
            },
            "colorscale": [
             [
              0,
              "#0d0887"
             ],
             [
              0.1111111111111111,
              "#46039f"
             ],
             [
              0.2222222222222222,
              "#7201a8"
             ],
             [
              0.3333333333333333,
              "#9c179e"
             ],
             [
              0.4444444444444444,
              "#bd3786"
             ],
             [
              0.5555555555555556,
              "#d8576b"
             ],
             [
              0.6666666666666666,
              "#ed7953"
             ],
             [
              0.7777777777777778,
              "#fb9f3a"
             ],
             [
              0.8888888888888888,
              "#fdca26"
             ],
             [
              1,
              "#f0f921"
             ]
            ],
            "type": "histogram2dcontour"
           }
          ],
          "mesh3d": [
           {
            "colorbar": {
             "outlinewidth": 0,
             "ticks": ""
            },
            "type": "mesh3d"
           }
          ],
          "parcoords": [
           {
            "line": {
             "colorbar": {
              "outlinewidth": 0,
              "ticks": ""
             }
            },
            "type": "parcoords"
           }
          ],
          "pie": [
           {
            "automargin": true,
            "type": "pie"
           }
          ],
          "scatter": [
           {
            "fillpattern": {
             "fillmode": "overlay",
             "size": 10,
             "solidity": 0.2
            },
            "type": "scatter"
           }
          ],
          "scatter3d": [
           {
            "line": {
             "colorbar": {
              "outlinewidth": 0,
              "ticks": ""
             }
            },
            "marker": {
             "colorbar": {
              "outlinewidth": 0,
              "ticks": ""
             }
            },
            "type": "scatter3d"
           }
          ],
          "scattercarpet": [
           {
            "marker": {
             "colorbar": {
              "outlinewidth": 0,
              "ticks": ""
             }
            },
            "type": "scattercarpet"
           }
          ],
          "scattergeo": [
           {
            "marker": {
             "colorbar": {
              "outlinewidth": 0,
              "ticks": ""
             }
            },
            "type": "scattergeo"
           }
          ],
          "scattergl": [
           {
            "marker": {
             "colorbar": {
              "outlinewidth": 0,
              "ticks": ""
             }
            },
            "type": "scattergl"
           }
          ],
          "scattermapbox": [
           {
            "marker": {
             "colorbar": {
              "outlinewidth": 0,
              "ticks": ""
             }
            },
            "type": "scattermapbox"
           }
          ],
          "scatterpolar": [
           {
            "marker": {
             "colorbar": {
              "outlinewidth": 0,
              "ticks": ""
             }
            },
            "type": "scatterpolar"
           }
          ],
          "scatterpolargl": [
           {
            "marker": {
             "colorbar": {
              "outlinewidth": 0,
              "ticks": ""
             }
            },
            "type": "scatterpolargl"
           }
          ],
          "scatterternary": [
           {
            "marker": {
             "colorbar": {
              "outlinewidth": 0,
              "ticks": ""
             }
            },
            "type": "scatterternary"
           }
          ],
          "surface": [
           {
            "colorbar": {
             "outlinewidth": 0,
             "ticks": ""
            },
            "colorscale": [
             [
              0,
              "#0d0887"
             ],
             [
              0.1111111111111111,
              "#46039f"
             ],
             [
              0.2222222222222222,
              "#7201a8"
             ],
             [
              0.3333333333333333,
              "#9c179e"
             ],
             [
              0.4444444444444444,
              "#bd3786"
             ],
             [
              0.5555555555555556,
              "#d8576b"
             ],
             [
              0.6666666666666666,
              "#ed7953"
             ],
             [
              0.7777777777777778,
              "#fb9f3a"
             ],
             [
              0.8888888888888888,
              "#fdca26"
             ],
             [
              1,
              "#f0f921"
             ]
            ],
            "type": "surface"
           }
          ],
          "table": [
           {
            "cells": {
             "fill": {
              "color": "#EBF0F8"
             },
             "line": {
              "color": "white"
             }
            },
            "header": {
             "fill": {
              "color": "#C8D4E3"
             },
             "line": {
              "color": "white"
             }
            },
            "type": "table"
           }
          ]
         },
         "layout": {
          "annotationdefaults": {
           "arrowcolor": "#2a3f5f",
           "arrowhead": 0,
           "arrowwidth": 1
          },
          "autotypenumbers": "strict",
          "coloraxis": {
           "colorbar": {
            "outlinewidth": 0,
            "ticks": ""
           }
          },
          "colorscale": {
           "diverging": [
            [
             0,
             "#8e0152"
            ],
            [
             0.1,
             "#c51b7d"
            ],
            [
             0.2,
             "#de77ae"
            ],
            [
             0.3,
             "#f1b6da"
            ],
            [
             0.4,
             "#fde0ef"
            ],
            [
             0.5,
             "#f7f7f7"
            ],
            [
             0.6,
             "#e6f5d0"
            ],
            [
             0.7,
             "#b8e186"
            ],
            [
             0.8,
             "#7fbc41"
            ],
            [
             0.9,
             "#4d9221"
            ],
            [
             1,
             "#276419"
            ]
           ],
           "sequential": [
            [
             0,
             "#0d0887"
            ],
            [
             0.1111111111111111,
             "#46039f"
            ],
            [
             0.2222222222222222,
             "#7201a8"
            ],
            [
             0.3333333333333333,
             "#9c179e"
            ],
            [
             0.4444444444444444,
             "#bd3786"
            ],
            [
             0.5555555555555556,
             "#d8576b"
            ],
            [
             0.6666666666666666,
             "#ed7953"
            ],
            [
             0.7777777777777778,
             "#fb9f3a"
            ],
            [
             0.8888888888888888,
             "#fdca26"
            ],
            [
             1,
             "#f0f921"
            ]
           ],
           "sequentialminus": [
            [
             0,
             "#0d0887"
            ],
            [
             0.1111111111111111,
             "#46039f"
            ],
            [
             0.2222222222222222,
             "#7201a8"
            ],
            [
             0.3333333333333333,
             "#9c179e"
            ],
            [
             0.4444444444444444,
             "#bd3786"
            ],
            [
             0.5555555555555556,
             "#d8576b"
            ],
            [
             0.6666666666666666,
             "#ed7953"
            ],
            [
             0.7777777777777778,
             "#fb9f3a"
            ],
            [
             0.8888888888888888,
             "#fdca26"
            ],
            [
             1,
             "#f0f921"
            ]
           ]
          },
          "colorway": [
           "#636efa",
           "#EF553B",
           "#00cc96",
           "#ab63fa",
           "#FFA15A",
           "#19d3f3",
           "#FF6692",
           "#B6E880",
           "#FF97FF",
           "#FECB52"
          ],
          "font": {
           "color": "#2a3f5f"
          },
          "geo": {
           "bgcolor": "white",
           "lakecolor": "white",
           "landcolor": "white",
           "showlakes": true,
           "showland": true,
           "subunitcolor": "#C8D4E3"
          },
          "hoverlabel": {
           "align": "left"
          },
          "hovermode": "closest",
          "mapbox": {
           "style": "light"
          },
          "paper_bgcolor": "white",
          "plot_bgcolor": "white",
          "polar": {
           "angularaxis": {
            "gridcolor": "#EBF0F8",
            "linecolor": "#EBF0F8",
            "ticks": ""
           },
           "bgcolor": "white",
           "radialaxis": {
            "gridcolor": "#EBF0F8",
            "linecolor": "#EBF0F8",
            "ticks": ""
           }
          },
          "scene": {
           "xaxis": {
            "backgroundcolor": "white",
            "gridcolor": "#DFE8F3",
            "gridwidth": 2,
            "linecolor": "#EBF0F8",
            "showbackground": true,
            "ticks": "",
            "zerolinecolor": "#EBF0F8"
           },
           "yaxis": {
            "backgroundcolor": "white",
            "gridcolor": "#DFE8F3",
            "gridwidth": 2,
            "linecolor": "#EBF0F8",
            "showbackground": true,
            "ticks": "",
            "zerolinecolor": "#EBF0F8"
           },
           "zaxis": {
            "backgroundcolor": "white",
            "gridcolor": "#DFE8F3",
            "gridwidth": 2,
            "linecolor": "#EBF0F8",
            "showbackground": true,
            "ticks": "",
            "zerolinecolor": "#EBF0F8"
           }
          },
          "shapedefaults": {
           "line": {
            "color": "#2a3f5f"
           }
          },
          "ternary": {
           "aaxis": {
            "gridcolor": "#DFE8F3",
            "linecolor": "#A2B1C6",
            "ticks": ""
           },
           "baxis": {
            "gridcolor": "#DFE8F3",
            "linecolor": "#A2B1C6",
            "ticks": ""
           },
           "bgcolor": "white",
           "caxis": {
            "gridcolor": "#DFE8F3",
            "linecolor": "#A2B1C6",
            "ticks": ""
           }
          },
          "title": {
           "x": 0.05
          },
          "xaxis": {
           "automargin": true,
           "gridcolor": "#EBF0F8",
           "linecolor": "#EBF0F8",
           "ticks": "",
           "title": {
            "standoff": 15
           },
           "zerolinecolor": "#EBF0F8",
           "zerolinewidth": 2
          },
          "yaxis": {
           "automargin": true,
           "gridcolor": "#EBF0F8",
           "linecolor": "#EBF0F8",
           "ticks": "",
           "title": {
            "standoff": 15
           },
           "zerolinecolor": "#EBF0F8",
           "zerolinewidth": 2
          }
         }
        },
        "title": {
         "text": "Genre Counts Over Different Periods for Western Movies"
        },
        "xaxis": {
         "anchor": "y",
         "domain": [
          0,
          1
         ],
         "title": {
          "text": "Release Date"
         }
        },
        "yaxis": {
         "anchor": "x",
         "domain": [
          0,
          1
         ],
         "title": {
          "text": "count"
         }
        }
       }
      }
     },
     "metadata": {},
     "output_type": "display_data"
    },
    {
     "data": {
      "application/vnd.jupyter.widget-view+json": {
       "model_id": "60b65f436e5d41b8898b8bbdfc143aa1",
       "version_major": 2,
       "version_minor": 0
      },
      "text/plain": [
       "interactive(children=(Dropdown(description='Region', options=('Western', 'Eastern'), value='Western'), Output(…"
      ]
     },
     "metadata": {},
     "output_type": "display_data"
    },
    {
     "data": {
      "text/plain": [
       "<function __main__.interactive_plot(side_genres)>"
      ]
     },
     "execution_count": 80,
     "metadata": {},
     "output_type": "execute_result"
    }
   ],
   "source": [
    "bins = [1945, 1953, 1962, 1974, 1984, 1995]\n",
    "labels = [\n",
    "    \"Blocs Establishment\",\n",
    "    \"Major tensions and crises\",\n",
    "    \"Détente\",\n",
    "    \"Second Cold War\",\n",
    "    \"End of the Cold War\",\n",
    "]\n",
    "\n",
    "# bins = list(range(1945, 1996, 5))\n",
    "# labels = [f\"{bins[i]}-{bins[i+1]-1}\" for i in range(len(bins) - 1)]\n",
    "\n",
    "genres_df[\"period\"] = pd.cut(genres_df[\"release_date\"], bins, labels=labels, right=True)\n",
    "\n",
    "period_counts = (\n",
    "    genres_df.explode(\"genres\")\n",
    "    .groupby([\"period\", \"cold_war_side\"], observed=False)[\"genres\"]\n",
    "    .value_counts()\n",
    "    .reset_index()\n",
    ")\n",
    "period_counts = period_counts[period_counts[\"genres\"].isin(common_genres)]\n",
    "eastern_period_counts = period_counts[\n",
    "    period_counts[\"cold_war_side\"] == \"Eastern\"\n",
    "].reset_index()\n",
    "western_period_counts = period_counts[\n",
    "    period_counts[\"cold_war_side\"] == \"Western\"\n",
    "].reset_index()\n",
    "\n",
    "\n",
    "# Interactive widget\n",
    "def interactive_plot(side_genres):\n",
    "    if side_genres == \"Western\":\n",
    "        plot_genres_over_period(western_period_counts, \"Western\")\n",
    "    elif side_genres == \"Eastern\":\n",
    "        plot_genres_over_period(eastern_period_counts, \"Eastern\")\n",
    "\n",
    "\n",
    "# Use interact with a dropdown\n",
    "interact(\n",
    "    interactive_plot,\n",
    "    side_genres=Dropdown(\n",
    "        options=[\"Western\", \"Eastern\"], value=\"Western\", description=\"Region\"\n",
    "    ),\n",
    ")"
   ]
  },
  {
   "cell_type": "markdown",
   "metadata": {},
   "source": [
    "Or make Genres interactive"
   ]
  },
  {
   "cell_type": "code",
   "execution_count": 81,
   "metadata": {},
   "outputs": [
    {
     "data": {
      "application/vnd.plotly.v1+json": {
       "config": {
        "plotlyServerURL": "https://plot.ly"
       },
       "data": [
        {
         "alignmentgroup": "True",
         "hovertemplate": "Side=Eastern<br>Period=%{x}<br>Count=%{y}<extra></extra>",
         "legendgroup": "Eastern",
         "marker": {
          "color": "#ff6347",
          "pattern": {
           "shape": ""
          }
         },
         "name": "Eastern",
         "offsetgroup": "Eastern",
         "orientation": "v",
         "showlegend": true,
         "textposition": "auto",
         "type": "bar",
         "x": [
          "Blocs Establishment",
          "Major tensions and crises",
          "Détente",
          "Second Cold War",
          "End of the Cold War"
         ],
         "xaxis": "x",
         "y": [
          53,
          136,
          182,
          72,
          43
         ],
         "yaxis": "y"
        },
        {
         "alignmentgroup": "True",
         "hovertemplate": "Side=Western<br>Period=%{x}<br>Count=%{y}<extra></extra>",
         "legendgroup": "Western",
         "marker": {
          "color": "#1f77b4",
          "pattern": {
           "shape": ""
          }
         },
         "name": "Western",
         "offsetgroup": "Western",
         "orientation": "v",
         "showlegend": true,
         "textposition": "auto",
         "type": "bar",
         "x": [
          "Blocs Establishment",
          "Major tensions and crises",
          "Détente",
          "Second Cold War",
          "End of the Cold War"
         ],
         "xaxis": "x",
         "y": [
          77,
          128,
          103,
          56,
          76
         ],
         "yaxis": "y"
        }
       ],
       "layout": {
        "barmode": "group",
        "hovermode": "x unified",
        "legend": {
         "title": {
          "text": "Side"
         },
         "tracegroupgap": 0
        },
        "template": {
         "data": {
          "bar": [
           {
            "error_x": {
             "color": "#2a3f5f"
            },
            "error_y": {
             "color": "#2a3f5f"
            },
            "marker": {
             "line": {
              "color": "white",
              "width": 0.5
             },
             "pattern": {
              "fillmode": "overlay",
              "size": 10,
              "solidity": 0.2
             }
            },
            "type": "bar"
           }
          ],
          "barpolar": [
           {
            "marker": {
             "line": {
              "color": "white",
              "width": 0.5
             },
             "pattern": {
              "fillmode": "overlay",
              "size": 10,
              "solidity": 0.2
             }
            },
            "type": "barpolar"
           }
          ],
          "carpet": [
           {
            "aaxis": {
             "endlinecolor": "#2a3f5f",
             "gridcolor": "#C8D4E3",
             "linecolor": "#C8D4E3",
             "minorgridcolor": "#C8D4E3",
             "startlinecolor": "#2a3f5f"
            },
            "baxis": {
             "endlinecolor": "#2a3f5f",
             "gridcolor": "#C8D4E3",
             "linecolor": "#C8D4E3",
             "minorgridcolor": "#C8D4E3",
             "startlinecolor": "#2a3f5f"
            },
            "type": "carpet"
           }
          ],
          "choropleth": [
           {
            "colorbar": {
             "outlinewidth": 0,
             "ticks": ""
            },
            "type": "choropleth"
           }
          ],
          "contour": [
           {
            "colorbar": {
             "outlinewidth": 0,
             "ticks": ""
            },
            "colorscale": [
             [
              0,
              "#0d0887"
             ],
             [
              0.1111111111111111,
              "#46039f"
             ],
             [
              0.2222222222222222,
              "#7201a8"
             ],
             [
              0.3333333333333333,
              "#9c179e"
             ],
             [
              0.4444444444444444,
              "#bd3786"
             ],
             [
              0.5555555555555556,
              "#d8576b"
             ],
             [
              0.6666666666666666,
              "#ed7953"
             ],
             [
              0.7777777777777778,
              "#fb9f3a"
             ],
             [
              0.8888888888888888,
              "#fdca26"
             ],
             [
              1,
              "#f0f921"
             ]
            ],
            "type": "contour"
           }
          ],
          "contourcarpet": [
           {
            "colorbar": {
             "outlinewidth": 0,
             "ticks": ""
            },
            "type": "contourcarpet"
           }
          ],
          "heatmap": [
           {
            "colorbar": {
             "outlinewidth": 0,
             "ticks": ""
            },
            "colorscale": [
             [
              0,
              "#0d0887"
             ],
             [
              0.1111111111111111,
              "#46039f"
             ],
             [
              0.2222222222222222,
              "#7201a8"
             ],
             [
              0.3333333333333333,
              "#9c179e"
             ],
             [
              0.4444444444444444,
              "#bd3786"
             ],
             [
              0.5555555555555556,
              "#d8576b"
             ],
             [
              0.6666666666666666,
              "#ed7953"
             ],
             [
              0.7777777777777778,
              "#fb9f3a"
             ],
             [
              0.8888888888888888,
              "#fdca26"
             ],
             [
              1,
              "#f0f921"
             ]
            ],
            "type": "heatmap"
           }
          ],
          "heatmapgl": [
           {
            "colorbar": {
             "outlinewidth": 0,
             "ticks": ""
            },
            "colorscale": [
             [
              0,
              "#0d0887"
             ],
             [
              0.1111111111111111,
              "#46039f"
             ],
             [
              0.2222222222222222,
              "#7201a8"
             ],
             [
              0.3333333333333333,
              "#9c179e"
             ],
             [
              0.4444444444444444,
              "#bd3786"
             ],
             [
              0.5555555555555556,
              "#d8576b"
             ],
             [
              0.6666666666666666,
              "#ed7953"
             ],
             [
              0.7777777777777778,
              "#fb9f3a"
             ],
             [
              0.8888888888888888,
              "#fdca26"
             ],
             [
              1,
              "#f0f921"
             ]
            ],
            "type": "heatmapgl"
           }
          ],
          "histogram": [
           {
            "marker": {
             "pattern": {
              "fillmode": "overlay",
              "size": 10,
              "solidity": 0.2
             }
            },
            "type": "histogram"
           }
          ],
          "histogram2d": [
           {
            "colorbar": {
             "outlinewidth": 0,
             "ticks": ""
            },
            "colorscale": [
             [
              0,
              "#0d0887"
             ],
             [
              0.1111111111111111,
              "#46039f"
             ],
             [
              0.2222222222222222,
              "#7201a8"
             ],
             [
              0.3333333333333333,
              "#9c179e"
             ],
             [
              0.4444444444444444,
              "#bd3786"
             ],
             [
              0.5555555555555556,
              "#d8576b"
             ],
             [
              0.6666666666666666,
              "#ed7953"
             ],
             [
              0.7777777777777778,
              "#fb9f3a"
             ],
             [
              0.8888888888888888,
              "#fdca26"
             ],
             [
              1,
              "#f0f921"
             ]
            ],
            "type": "histogram2d"
           }
          ],
          "histogram2dcontour": [
           {
            "colorbar": {
             "outlinewidth": 0,
             "ticks": ""
            },
            "colorscale": [
             [
              0,
              "#0d0887"
             ],
             [
              0.1111111111111111,
              "#46039f"
             ],
             [
              0.2222222222222222,
              "#7201a8"
             ],
             [
              0.3333333333333333,
              "#9c179e"
             ],
             [
              0.4444444444444444,
              "#bd3786"
             ],
             [
              0.5555555555555556,
              "#d8576b"
             ],
             [
              0.6666666666666666,
              "#ed7953"
             ],
             [
              0.7777777777777778,
              "#fb9f3a"
             ],
             [
              0.8888888888888888,
              "#fdca26"
             ],
             [
              1,
              "#f0f921"
             ]
            ],
            "type": "histogram2dcontour"
           }
          ],
          "mesh3d": [
           {
            "colorbar": {
             "outlinewidth": 0,
             "ticks": ""
            },
            "type": "mesh3d"
           }
          ],
          "parcoords": [
           {
            "line": {
             "colorbar": {
              "outlinewidth": 0,
              "ticks": ""
             }
            },
            "type": "parcoords"
           }
          ],
          "pie": [
           {
            "automargin": true,
            "type": "pie"
           }
          ],
          "scatter": [
           {
            "fillpattern": {
             "fillmode": "overlay",
             "size": 10,
             "solidity": 0.2
            },
            "type": "scatter"
           }
          ],
          "scatter3d": [
           {
            "line": {
             "colorbar": {
              "outlinewidth": 0,
              "ticks": ""
             }
            },
            "marker": {
             "colorbar": {
              "outlinewidth": 0,
              "ticks": ""
             }
            },
            "type": "scatter3d"
           }
          ],
          "scattercarpet": [
           {
            "marker": {
             "colorbar": {
              "outlinewidth": 0,
              "ticks": ""
             }
            },
            "type": "scattercarpet"
           }
          ],
          "scattergeo": [
           {
            "marker": {
             "colorbar": {
              "outlinewidth": 0,
              "ticks": ""
             }
            },
            "type": "scattergeo"
           }
          ],
          "scattergl": [
           {
            "marker": {
             "colorbar": {
              "outlinewidth": 0,
              "ticks": ""
             }
            },
            "type": "scattergl"
           }
          ],
          "scattermapbox": [
           {
            "marker": {
             "colorbar": {
              "outlinewidth": 0,
              "ticks": ""
             }
            },
            "type": "scattermapbox"
           }
          ],
          "scatterpolar": [
           {
            "marker": {
             "colorbar": {
              "outlinewidth": 0,
              "ticks": ""
             }
            },
            "type": "scatterpolar"
           }
          ],
          "scatterpolargl": [
           {
            "marker": {
             "colorbar": {
              "outlinewidth": 0,
              "ticks": ""
             }
            },
            "type": "scatterpolargl"
           }
          ],
          "scatterternary": [
           {
            "marker": {
             "colorbar": {
              "outlinewidth": 0,
              "ticks": ""
             }
            },
            "type": "scatterternary"
           }
          ],
          "surface": [
           {
            "colorbar": {
             "outlinewidth": 0,
             "ticks": ""
            },
            "colorscale": [
             [
              0,
              "#0d0887"
             ],
             [
              0.1111111111111111,
              "#46039f"
             ],
             [
              0.2222222222222222,
              "#7201a8"
             ],
             [
              0.3333333333333333,
              "#9c179e"
             ],
             [
              0.4444444444444444,
              "#bd3786"
             ],
             [
              0.5555555555555556,
              "#d8576b"
             ],
             [
              0.6666666666666666,
              "#ed7953"
             ],
             [
              0.7777777777777778,
              "#fb9f3a"
             ],
             [
              0.8888888888888888,
              "#fdca26"
             ],
             [
              1,
              "#f0f921"
             ]
            ],
            "type": "surface"
           }
          ],
          "table": [
           {
            "cells": {
             "fill": {
              "color": "#EBF0F8"
             },
             "line": {
              "color": "white"
             }
            },
            "header": {
             "fill": {
              "color": "#C8D4E3"
             },
             "line": {
              "color": "white"
             }
            },
            "type": "table"
           }
          ]
         },
         "layout": {
          "annotationdefaults": {
           "arrowcolor": "#2a3f5f",
           "arrowhead": 0,
           "arrowwidth": 1
          },
          "autotypenumbers": "strict",
          "coloraxis": {
           "colorbar": {
            "outlinewidth": 0,
            "ticks": ""
           }
          },
          "colorscale": {
           "diverging": [
            [
             0,
             "#8e0152"
            ],
            [
             0.1,
             "#c51b7d"
            ],
            [
             0.2,
             "#de77ae"
            ],
            [
             0.3,
             "#f1b6da"
            ],
            [
             0.4,
             "#fde0ef"
            ],
            [
             0.5,
             "#f7f7f7"
            ],
            [
             0.6,
             "#e6f5d0"
            ],
            [
             0.7,
             "#b8e186"
            ],
            [
             0.8,
             "#7fbc41"
            ],
            [
             0.9,
             "#4d9221"
            ],
            [
             1,
             "#276419"
            ]
           ],
           "sequential": [
            [
             0,
             "#0d0887"
            ],
            [
             0.1111111111111111,
             "#46039f"
            ],
            [
             0.2222222222222222,
             "#7201a8"
            ],
            [
             0.3333333333333333,
             "#9c179e"
            ],
            [
             0.4444444444444444,
             "#bd3786"
            ],
            [
             0.5555555555555556,
             "#d8576b"
            ],
            [
             0.6666666666666666,
             "#ed7953"
            ],
            [
             0.7777777777777778,
             "#fb9f3a"
            ],
            [
             0.8888888888888888,
             "#fdca26"
            ],
            [
             1,
             "#f0f921"
            ]
           ],
           "sequentialminus": [
            [
             0,
             "#0d0887"
            ],
            [
             0.1111111111111111,
             "#46039f"
            ],
            [
             0.2222222222222222,
             "#7201a8"
            ],
            [
             0.3333333333333333,
             "#9c179e"
            ],
            [
             0.4444444444444444,
             "#bd3786"
            ],
            [
             0.5555555555555556,
             "#d8576b"
            ],
            [
             0.6666666666666666,
             "#ed7953"
            ],
            [
             0.7777777777777778,
             "#fb9f3a"
            ],
            [
             0.8888888888888888,
             "#fdca26"
            ],
            [
             1,
             "#f0f921"
            ]
           ]
          },
          "colorway": [
           "#636efa",
           "#EF553B",
           "#00cc96",
           "#ab63fa",
           "#FFA15A",
           "#19d3f3",
           "#FF6692",
           "#B6E880",
           "#FF97FF",
           "#FECB52"
          ],
          "font": {
           "color": "#2a3f5f"
          },
          "geo": {
           "bgcolor": "white",
           "lakecolor": "white",
           "landcolor": "white",
           "showlakes": true,
           "showland": true,
           "subunitcolor": "#C8D4E3"
          },
          "hoverlabel": {
           "align": "left"
          },
          "hovermode": "closest",
          "mapbox": {
           "style": "light"
          },
          "paper_bgcolor": "white",
          "plot_bgcolor": "white",
          "polar": {
           "angularaxis": {
            "gridcolor": "#EBF0F8",
            "linecolor": "#EBF0F8",
            "ticks": ""
           },
           "bgcolor": "white",
           "radialaxis": {
            "gridcolor": "#EBF0F8",
            "linecolor": "#EBF0F8",
            "ticks": ""
           }
          },
          "scene": {
           "xaxis": {
            "backgroundcolor": "white",
            "gridcolor": "#DFE8F3",
            "gridwidth": 2,
            "linecolor": "#EBF0F8",
            "showbackground": true,
            "ticks": "",
            "zerolinecolor": "#EBF0F8"
           },
           "yaxis": {
            "backgroundcolor": "white",
            "gridcolor": "#DFE8F3",
            "gridwidth": 2,
            "linecolor": "#EBF0F8",
            "showbackground": true,
            "ticks": "",
            "zerolinecolor": "#EBF0F8"
           },
           "zaxis": {
            "backgroundcolor": "white",
            "gridcolor": "#DFE8F3",
            "gridwidth": 2,
            "linecolor": "#EBF0F8",
            "showbackground": true,
            "ticks": "",
            "zerolinecolor": "#EBF0F8"
           }
          },
          "shapedefaults": {
           "line": {
            "color": "#2a3f5f"
           }
          },
          "ternary": {
           "aaxis": {
            "gridcolor": "#DFE8F3",
            "linecolor": "#A2B1C6",
            "ticks": ""
           },
           "baxis": {
            "gridcolor": "#DFE8F3",
            "linecolor": "#A2B1C6",
            "ticks": ""
           },
           "bgcolor": "white",
           "caxis": {
            "gridcolor": "#DFE8F3",
            "linecolor": "#A2B1C6",
            "ticks": ""
           }
          },
          "title": {
           "x": 0.05
          },
          "xaxis": {
           "automargin": true,
           "gridcolor": "#EBF0F8",
           "linecolor": "#EBF0F8",
           "ticks": "",
           "title": {
            "standoff": 15
           },
           "zerolinecolor": "#EBF0F8",
           "zerolinewidth": 2
          },
          "yaxis": {
           "automargin": true,
           "gridcolor": "#EBF0F8",
           "linecolor": "#EBF0F8",
           "ticks": "",
           "title": {
            "standoff": 15
           },
           "zerolinecolor": "#EBF0F8",
           "zerolinewidth": 2
          }
         }
        },
        "title": {
         "text": "War Movie Counts Over Different Periods",
         "x": 0.5,
         "xanchor": "center"
        },
        "xaxis": {
         "anchor": "y",
         "domain": [
          0,
          1
         ],
         "title": {
          "text": "Period"
         }
        },
        "yaxis": {
         "anchor": "x",
         "domain": [
          0,
          1
         ],
         "title": {
          "text": "Count"
         }
        }
       }
      }
     },
     "metadata": {},
     "output_type": "display_data"
    },
    {
     "data": {
      "application/vnd.jupyter.widget-view+json": {
       "model_id": "69ed2174134a4a2095d569c3e48b933b",
       "version_major": 2,
       "version_minor": 0
      },
      "text/plain": [
       "interactive(children=(Dropdown(description='Genre', index=5, options=('Drama', 'Action', 'Comedy', 'Crime', 'T…"
      ]
     },
     "metadata": {},
     "output_type": "display_data"
    },
    {
     "data": {
      "text/plain": [
       "<function __main__.<lambda>(genre)>"
      ]
     },
     "execution_count": 81,
     "metadata": {},
     "output_type": "execute_result"
    }
   ],
   "source": [
    "# Create Plotly figure function\n",
    "def plot_genre_over_periods(df, genre):\n",
    "    fig = px.bar(\n",
    "        df[df[\"genres\"] == genre],\n",
    "        x=\"period\",\n",
    "        y=\"count\",\n",
    "        color=\"cold_war_side\",\n",
    "        title=f\"{genre} Movie Counts Over Different Periods\",\n",
    "        labels={\n",
    "            \"period\": \"Period\",\n",
    "            \"count\": \"Count\",\n",
    "            \"genres\": \"Genres\",\n",
    "            \"cold_war_side\": \"Side\",\n",
    "        },\n",
    "        template=\"plotly_white\",\n",
    "        barmode=\"group\",\n",
    "        color_discrete_map={\n",
    "            \"Western\": \"#1f77b4\",  # Assign \"Western\" to blue\n",
    "            \"Eastern\": \"#ff6347\",  # Assign \"Eastern\" to red\n",
    "        },\n",
    "    )\n",
    "\n",
    "    fig.update_layout(\n",
    "        hovermode=\"x unified\",\n",
    "        title=dict(x=0.5, xanchor=\"center\"),\n",
    "    )\n",
    "    return fig\n",
    "\n",
    "\n",
    "interact(\n",
    "    lambda genre: plot_genre_over_periods(\n",
    "        period_counts[period_counts[\"cold_war_side\"].isin([\"Western\", \"Eastern\"])],\n",
    "        genre,\n",
    "    ),\n",
    "    genre=Dropdown(options=common_genres, value=\"War\", description=\"Genre\"),\n",
    ")"
   ]
  },
  {
   "cell_type": "markdown",
   "metadata": {},
   "source": [
    "We see that war movies begin decreasing in frequency starting from the detente period "
   ]
  },
  {
   "cell_type": "markdown",
   "metadata": {},
   "source": [
    "# Theme Analysis"
   ]
  },
  {
   "cell_type": "markdown",
   "metadata": {},
   "source": [
    "We do similar analysis for themes"
   ]
  },
  {
   "cell_type": "code",
   "execution_count": 82,
   "metadata": {},
   "outputs": [
    {
     "data": {
      "image/png": "[encoded data removed]",
      "text/plain": [
       "<Figure size 1000x600 with 1 Axes>"
      ]
     },
     "metadata": {},
     "output_type": "display_data"
    }
   ],
   "source": [
    "themes_df = (\n",
    "    movies_df[[\"genres\", \"cold_war_side\", \"theme\", \"release_date\"]]\n",
    "    .explode(\"theme\")\n",
    "    .reset_index()\n",
    ")\n",
    "themes_df[\"theme\"] = themes_df[\"theme\"].str.title().str.strip()\n",
    "themes_df = themes_df[themes_df[\"theme\"] != \"None\"].dropna(subset=\"genres\")\n",
    "\n",
    "theme_counts = themes_df[\"theme\"].value_counts().head(20)\n",
    "# Plot the distribution\n",
    "plt.figure(figsize=(10, 6))\n",
    "\n",
    "sns.barplot(\n",
    "    x=theme_counts.values,\n",
    "    y=theme_counts.index,\n",
    ")\n",
    "\n",
    "plt.title(\"Distribution of Genres\")\n",
    "plt.xlabel(\"Count\")\n",
    "plt.ylabel(\"Genre\")\n",
    "plt.show()"
   ]
  },
  {
   "cell_type": "code",
   "execution_count": 83,
   "metadata": {},
   "outputs": [
    {
     "data": {
      "image/png": "[encoded data removed]",
      "text/plain": [
       "<Figure size 2000x900 with 2 Axes>"
      ]
     },
     "metadata": {},
     "output_type": "display_data"
    }
   ],
   "source": [
    "western_theme_counts = (\n",
    "    themes_df[themes_df[\"cold_war_side\"] == \"Western\"][\"theme\"]\n",
    "    .explode(\"theme\")\n",
    "    .value_counts()\n",
    ")\n",
    "eastern_theme_counts = (\n",
    "    themes_df[themes_df[\"cold_war_side\"] == \"Eastern\"][\"theme\"]\n",
    "    .explode(\"theme\")\n",
    "    .value_counts()\n",
    ")\n",
    "\n",
    "plot_distributions(\n",
    "    western_theme_counts,\n",
    "    eastern_theme_counts,\n",
    "    title_western=\"Distribution of Themes for Western Movies\",\n",
    "    title_eastern=\"Distribution of Themes for Eastern Movies\",\n",
    "    ylabel=\"Theme\",\n",
    ")"
   ]
  },
  {
   "cell_type": "code",
   "execution_count": 84,
   "metadata": {},
   "outputs": [
    {
     "data": {
      "image/png": "[encoded data removed]",
      "text/plain": [
       "<Figure size 1000x600 with 1 Axes>"
      ]
     },
     "metadata": {},
     "output_type": "display_data"
    }
   ],
   "source": [
    "theme_comparison = create_comparison_df(western_theme_counts, eastern_theme_counts, 50)\n",
    "plot_relative_difference(theme_comparison, \"Theme\")"
   ]
  },
  {
   "cell_type": "markdown",
   "metadata": {},
   "source": [
    "We can look at themes present in War Movies Specifically"
   ]
  },
  {
   "cell_type": "code",
   "execution_count": 85,
   "metadata": {},
   "outputs": [],
   "source": [
    "eastern_war_themes = themes_df[\n",
    "    (themes_df[\"cold_war_side\"] == \"Eastern\")\n",
    "    & (themes_df[\"genres\"].apply(lambda x: \"War\" in x))\n",
    "]\n",
    "western_war_themes = themes_df[\n",
    "    (themes_df[\"cold_war_side\"] == \"Western\")\n",
    "    & (themes_df[\"genres\"].apply(lambda x: \"War\" in x))\n",
    "]\n",
    "western_war_themes_counts = western_war_themes[\"theme\"].value_counts()\n",
    "eastern_war_themes_counts = eastern_war_themes[\"theme\"].value_counts()"
   ]
  },
  {
   "cell_type": "code",
   "execution_count": 86,
   "metadata": {},
   "outputs": [
    {
     "data": {
      "image/png": "[encoded data removed]",
      "text/plain": [
       "<Figure size 1800x900 with 2 Axes>"
      ]
     },
     "metadata": {},
     "output_type": "display_data"
    }
   ],
   "source": [
    "# remove war from themes\n",
    "western_war_themes_counts = western_war_themes_counts[\n",
    "    western_war_themes_counts.index != \"War\"\n",
    "]\n",
    "eastern_war_themes_counts = eastern_war_themes_counts[\n",
    "    eastern_war_themes_counts.index != \"War\"\n",
    "]\n",
    "\n",
    "plot_distributions(\n",
    "    western_war_themes_counts,\n",
    "    eastern_war_themes_counts,\n",
    "    title_western=\"Distribution of Themes for Western War Movies\",\n",
    "    title_eastern=\"Distribution of Themes for Eastern War Movies\",\n",
    "    ylabel=\"Theme\",\n",
    "    figsize=(18, 9),\n",
    ")"
   ]
  },
  {
   "cell_type": "code",
   "execution_count": 87,
   "metadata": {},
   "outputs": [
    {
     "data": {
      "image/png": "[encoded data removed]",
      "text/plain": [
       "<Figure size 1000x600 with 1 Axes>"
      ]
     },
     "metadata": {},
     "output_type": "display_data"
    }
   ],
   "source": [
    "war_theme_comparison = create_comparison_df(\n",
    "    western_war_themes_counts, eastern_war_themes_counts, 15\n",
    ")\n",
    "\n",
    "\n",
    "plot_relative_difference(war_theme_comparison, \"theme\")"
   ]
  },
  {
   "cell_type": "code",
   "execution_count": 88,
   "metadata": {},
   "outputs": [
    {
     "data": {
      "text/html": [
       "<div>\n",
       "<style scoped>\n",
       "    .dataframe tbody tr th:only-of-type {\n",
       "        vertical-align: middle;\n",
       "    }\n",
       "\n",
       "    .dataframe tbody tr th {\n",
       "        vertical-align: top;\n",
       "    }\n",
       "\n",
       "    .dataframe thead th {\n",
       "        text-align: right;\n",
       "    }\n",
       "</style>\n",
       "<table border=\"1\" class=\"dataframe\">\n",
       "  <thead>\n",
       "    <tr style=\"text-align: right;\">\n",
       "      <th></th>\n",
       "      <th>title</th>\n",
       "      <th>languages</th>\n",
       "      <th>countries</th>\n",
       "      <th>genres</th>\n",
       "      <th>release_date</th>\n",
       "      <th>cold_war_side</th>\n",
       "      <th>character_western_bloc_representation</th>\n",
       "      <th>character_eastern_bloc_representation</th>\n",
       "      <th>western_bloc_values</th>\n",
       "      <th>eastern_bloc_values</th>\n",
       "      <th>theme</th>\n",
       "    </tr>\n",
       "  </thead>\n",
       "  <tbody>\n",
       "    <tr>\n",
       "      <th>5337</th>\n",
       "      <td>Don't Panic Chaps</td>\n",
       "      <td>NaN</td>\n",
       "      <td>[Russia]</td>\n",
       "      <td>[Comedy, War]</td>\n",
       "      <td>1959</td>\n",
       "      <td>Western</td>\n",
       "      <td>[ The Good Soldier]</td>\n",
       "      <td>[ The Antagonist]</td>\n",
       "      <td>[Camaraderie, humor, diplomacy, peaceful coexi...</td>\n",
       "      <td>[Militarism, discipline, national pride]</td>\n",
       "      <td>[Comedy, military, peace, cultural clash ]</td>\n",
       "    </tr>\n",
       "    <tr>\n",
       "      <th>12923</th>\n",
       "      <td>No Time for Sergeants</td>\n",
       "      <td>NaN</td>\n",
       "      <td>[Russia]</td>\n",
       "      <td>[Comedy, War]</td>\n",
       "      <td>1958</td>\n",
       "      <td>Western</td>\n",
       "      <td>[Will Stockdale, values of humor, resilience, ...</td>\n",
       "      <td>[M/Sgt. King, values of mentorship and duty, a...</td>\n",
       "      <td>[None]</td>\n",
       "      <td>[None]</td>\n",
       "      <td>[Comedy, military life, underdog, humor, resil...</td>\n",
       "    </tr>\n",
       "    <tr>\n",
       "      <th>14430</th>\n",
       "      <td>Privates on Parade</td>\n",
       "      <td>[English]</td>\n",
       "      <td>[United Kingdom]</td>\n",
       "      <td>[Comedy, Drama, War]</td>\n",
       "      <td>1983</td>\n",
       "      <td>Western</td>\n",
       "      <td>[Major Giles Flack, Traditional British values...</td>\n",
       "      <td>[None]</td>\n",
       "      <td>[British army personnel, Comedic camaraderie, ...</td>\n",
       "      <td>[None]</td>\n",
       "      <td>[War, Comedy, Colonialism, Military entertainm...</td>\n",
       "    </tr>\n",
       "    <tr>\n",
       "      <th>22666</th>\n",
       "      <td>The Wackiest Ship in the Army</td>\n",
       "      <td>[English]</td>\n",
       "      <td>[United States of America]</td>\n",
       "      <td>[Comedy, Family, Drama, War]</td>\n",
       "      <td>1960</td>\n",
       "      <td>Western</td>\n",
       "      <td>[Lieutenant Rip Crandall, determined, honorabl...</td>\n",
       "      <td>[None]</td>\n",
       "      <td>[Camaraderie, adventure, humor, teamwork]</td>\n",
       "      <td>[None]</td>\n",
       "      <td>[Comedy, military, misfits, adventure, teamwor...</td>\n",
       "    </tr>\n",
       "    <tr>\n",
       "      <th>24690</th>\n",
       "      <td>What Did You Do in the War, Daddy?</td>\n",
       "      <td>[Italian, English, German]</td>\n",
       "      <td>[United States of America]</td>\n",
       "      <td>[Comedy, War]</td>\n",
       "      <td>1966</td>\n",
       "      <td>Western</td>\n",
       "      <td>[Lt. Christian, values friendship and camarade...</td>\n",
       "      <td>[Capitano Fausto Oppo, values tradition and co...</td>\n",
       "      <td>[American soldiers, teamwork, humor, courage, ...</td>\n",
       "      <td>[Italian officers, hospitality, the value of f...</td>\n",
       "      <td>[Comedy, war, absurdity, cultural exchange, hu...</td>\n",
       "    </tr>\n",
       "    <tr>\n",
       "      <th>24807</th>\n",
       "      <td>Which Way to the Front?</td>\n",
       "      <td>[English]</td>\n",
       "      <td>[United States of America]</td>\n",
       "      <td>[Comedy, War]</td>\n",
       "      <td>1970</td>\n",
       "      <td>Western</td>\n",
       "      <td>[Brendan Byers III, rich, patriotic, resourcef...</td>\n",
       "      <td>[None]</td>\n",
       "      <td>[Patriotism, resourcefulness, individualism, H...</td>\n",
       "      <td>[None]</td>\n",
       "      <td>[Comedy, War, Heroism, patriotism, improvisation]</td>\n",
       "    </tr>\n",
       "  </tbody>\n",
       "</table>\n",
       "</div>"
      ],
      "text/plain": [
       "                                    title                   languages  \\\n",
       "5337                    Don't Panic Chaps                         NaN   \n",
       "12923               No Time for Sergeants                         NaN   \n",
       "14430                  Privates on Parade                   [English]   \n",
       "22666       The Wackiest Ship in the Army                   [English]   \n",
       "24690  What Did You Do in the War, Daddy?  [Italian, English, German]   \n",
       "24807             Which Way to the Front?                   [English]   \n",
       "\n",
       "                        countries                        genres  release_date  \\\n",
       "5337                     [Russia]                 [Comedy, War]          1959   \n",
       "12923                    [Russia]                 [Comedy, War]          1958   \n",
       "14430            [United Kingdom]          [Comedy, Drama, War]          1983   \n",
       "22666  [United States of America]  [Comedy, Family, Drama, War]          1960   \n",
       "24690  [United States of America]                 [Comedy, War]          1966   \n",
       "24807  [United States of America]                 [Comedy, War]          1970   \n",
       "\n",
       "      cold_war_side              character_western_bloc_representation  \\\n",
       "5337        Western                                [ The Good Soldier]   \n",
       "12923       Western  [Will Stockdale, values of humor, resilience, ...   \n",
       "14430       Western  [Major Giles Flack, Traditional British values...   \n",
       "22666       Western  [Lieutenant Rip Crandall, determined, honorabl...   \n",
       "24690       Western  [Lt. Christian, values friendship and camarade...   \n",
       "24807       Western  [Brendan Byers III, rich, patriotic, resourcef...   \n",
       "\n",
       "                   character_eastern_bloc_representation  \\\n",
       "5337                                   [ The Antagonist]   \n",
       "12923  [M/Sgt. King, values of mentorship and duty, a...   \n",
       "14430                                             [None]   \n",
       "22666                                             [None]   \n",
       "24690  [Capitano Fausto Oppo, values tradition and co...   \n",
       "24807                                             [None]   \n",
       "\n",
       "                                     western_bloc_values  \\\n",
       "5337   [Camaraderie, humor, diplomacy, peaceful coexi...   \n",
       "12923                                             [None]   \n",
       "14430  [British army personnel, Comedic camaraderie, ...   \n",
       "22666          [Camaraderie, adventure, humor, teamwork]   \n",
       "24690  [American soldiers, teamwork, humor, courage, ...   \n",
       "24807  [Patriotism, resourcefulness, individualism, H...   \n",
       "\n",
       "                                     eastern_bloc_values  \\\n",
       "5337            [Militarism, discipline, national pride]   \n",
       "12923                                             [None]   \n",
       "14430                                             [None]   \n",
       "22666                                             [None]   \n",
       "24690  [Italian officers, hospitality, the value of f...   \n",
       "24807                                             [None]   \n",
       "\n",
       "                                                   theme  \n",
       "5337          [Comedy, military, peace, cultural clash ]  \n",
       "12923  [Comedy, military life, underdog, humor, resil...  \n",
       "14430  [War, Comedy, Colonialism, Military entertainm...  \n",
       "22666  [Comedy, military, misfits, adventure, teamwor...  \n",
       "24690  [Comedy, war, absurdity, cultural exchange, hu...  \n",
       "24807  [Comedy, War, Heroism, patriotism, improvisation]  "
      ]
     },
     "execution_count": 88,
     "metadata": {},
     "output_type": "execute_result"
    }
   ],
   "source": [
    "movies_df.dropna(subset=[\"genres\", \"theme\", \"cold_war_side\"])[\n",
    "    (\n",
    "        movies_df.dropna(subset=[\"genres\", \"theme\", \"cold_war_side\"])[\"genres\"].apply(\n",
    "            lambda x: \"War\" in x\n",
    "        )\n",
    "    )\n",
    "    & (\n",
    "        movies_df.dropna(subset=[\"genres\", \"theme\", \"cold_war_side\"])[\"cold_war_side\"]\n",
    "        == \"Western\"\n",
    "    )\n",
    "    & (\n",
    "        movies_df.dropna(subset=[\"genres\", \"theme\", \"cold_war_side\"])[\"theme\"].apply(\n",
    "            lambda x: \"Comedy\" in x\n",
    "        )\n",
    "    )\n",
    "]\n",
    "\n",
    "## first Film is British, second film is american (check on google)"
   ]
  }
 ],
 "metadata": {
  "kernelspec": {
   "display_name": "Python 3",
   "language": "python",
   "name": "python3"
  },
  "language_info": {
   "codemirror_mode": {
    "name": "ipython",
    "version": 3
   },
   "file_extension": ".py",
   "mimetype": "text/x-python",
   "name": "python",
   "nbconvert_exporter": "python",
   "pygments_lexer": "ipython3",
   "version": "3.11.3"
  }
 },
 "nbformat": 4,
 "nbformat_minor": 2
}
