{
 "cells": [
  {
   "cell_type": "code",
   "execution_count": 210,
   "metadata": {},
   "outputs": [],
   "source": [
    "import pandas as pd\n",
    "import numpy as np\n",
    "import matplotlib.pyplot as plt\n",
    "from matplotlib.patches import Patch\n",
    "import seaborn as sns\n",
    "import ast\n",
    "import plotly.express as px\n",
    "import plotly.graph_objects as go\n",
    "from ipywidgets import interact, Dropdown"
   ]
  },
  {
   "cell_type": "code",
   "execution_count": 211,
   "metadata": {},
   "outputs": [
    {
     "data": {
      "text/html": [
       "<div>\n",
       "<style scoped>\n",
       "    .dataframe tbody tr th:only-of-type {\n",
       "        vertical-align: middle;\n",
       "    }\n",
       "\n",
       "    .dataframe tbody tr th {\n",
       "        vertical-align: top;\n",
       "    }\n",
       "\n",
       "    .dataframe thead th {\n",
       "        text-align: right;\n",
       "    }\n",
       "</style>\n",
       "<table border=\"1\" class=\"dataframe\">\n",
       "  <thead>\n",
       "    <tr style=\"text-align: right;\">\n",
       "      <th></th>\n",
       "      <th>wikipedia_id</th>\n",
       "      <th>freebase_id</th>\n",
       "      <th>title</th>\n",
       "      <th>languages</th>\n",
       "      <th>countries</th>\n",
       "      <th>genres</th>\n",
       "      <th>keywords</th>\n",
       "      <th>release_date</th>\n",
       "      <th>runtime</th>\n",
       "      <th>plot_summary</th>\n",
       "      <th>cold_war_side</th>\n",
       "      <th>character_western_bloc_representation</th>\n",
       "      <th>character_eastern_bloc_representation</th>\n",
       "      <th>western_bloc_values</th>\n",
       "      <th>eastern_bloc_values</th>\n",
       "      <th>theme</th>\n",
       "    </tr>\n",
       "  </thead>\n",
       "  <tbody>\n",
       "    <tr>\n",
       "      <th>0</th>\n",
       "      <td>4213160.0</td>\n",
       "      <td>/m/0bq8q8</td>\n",
       "      <td>$</td>\n",
       "      <td>NaN</td>\n",
       "      <td>[Russia]</td>\n",
       "      <td>[Comedy, Crime, Drama]</td>\n",
       "      <td>NaN</td>\n",
       "      <td>1971</td>\n",
       "      <td>119.0</td>\n",
       "      <td>Set in Hamburg, West Germany, several criminal...</td>\n",
       "      <td>Western</td>\n",
       "      <td>[Joe Collins, American bank security consultan...</td>\n",
       "      <td>[Dawn Divine, hooker with a heart of gold, cun...</td>\n",
       "      <td>[None]</td>\n",
       "      <td>[Resourcefulness, cleverness, individualism, h...</td>\n",
       "      <td>[None]</td>\n",
       "    </tr>\n",
       "    <tr>\n",
       "      <th>1</th>\n",
       "      <td>NaN</td>\n",
       "      <td>NaN</td>\n",
       "      <td>$1,000 on the Black</td>\n",
       "      <td>[German, Italian]</td>\n",
       "      <td>[Germany, Italy]</td>\n",
       "      <td>[Western]</td>\n",
       "      <td>NaN</td>\n",
       "      <td>1966</td>\n",
       "      <td>104.0</td>\n",
       "      <td>Johnny Liston has just been released from pris...</td>\n",
       "      <td>Eastern</td>\n",
       "      <td>[None]</td>\n",
       "      <td>[Sartana, villainous, oppressive, cruel, arche...</td>\n",
       "      <td>[Johnny Liston, justice, determination, resili...</td>\n",
       "      <td>[Justice, revenge, oppressed vs. oppressor, re...</td>\n",
       "      <td>[Terror, betrayal, familial conflict, crime, r...</td>\n",
       "    </tr>\n",
       "    <tr>\n",
       "      <th>2</th>\n",
       "      <td>NaN</td>\n",
       "      <td>NaN</td>\n",
       "      <td>$10,000 Blood Money</td>\n",
       "      <td>NaN</td>\n",
       "      <td>[Russia]</td>\n",
       "      <td>[Western, Drama]</td>\n",
       "      <td>NaN</td>\n",
       "      <td>1967</td>\n",
       "      <td>NaN</td>\n",
       "      <td>Hired by a Mexican landowner to rescue his dau...</td>\n",
       "      <td>None</td>\n",
       "      <td>[None]</td>\n",
       "      <td>[None]</td>\n",
       "      <td>[None]</td>\n",
       "      <td>[None]</td>\n",
       "      <td>[crime, betrayal, revenge, bounty hunter, heis...</td>\n",
       "    </tr>\n",
       "    <tr>\n",
       "      <th>3</th>\n",
       "      <td>NaN</td>\n",
       "      <td>NaN</td>\n",
       "      <td>$100,000 for Ringo</td>\n",
       "      <td>[Italian]</td>\n",
       "      <td>[Italy]</td>\n",
       "      <td>[Western, Drama]</td>\n",
       "      <td>[spaghetti western, whipping]</td>\n",
       "      <td>1965</td>\n",
       "      <td>98.0</td>\n",
       "      <td>A stranger rides into Rainbow Valley where he'...</td>\n",
       "      <td>None</td>\n",
       "      <td>[None]</td>\n",
       "      <td>[None]</td>\n",
       "      <td>[None]</td>\n",
       "      <td>[None]</td>\n",
       "      <td>[Western, Civil War, mistaken identity, treasu...</td>\n",
       "    </tr>\n",
       "    <tr>\n",
       "      <th>4</th>\n",
       "      <td>NaN</td>\n",
       "      <td>NaN</td>\n",
       "      <td>'Anna' i wampir</td>\n",
       "      <td>NaN</td>\n",
       "      <td>[Russia]</td>\n",
       "      <td>[Crime]</td>\n",
       "      <td>NaN</td>\n",
       "      <td>1982</td>\n",
       "      <td>NaN</td>\n",
       "      <td>Silesia in Poland, late 60s. Bodies of vicious...</td>\n",
       "      <td>None</td>\n",
       "      <td>[None]</td>\n",
       "      <td>[None]</td>\n",
       "      <td>[None]</td>\n",
       "      <td>[None]</td>\n",
       "      <td>[murder mystery, horror, fog, Poland, 1960s]</td>\n",
       "    </tr>\n",
       "  </tbody>\n",
       "</table>\n",
       "</div>"
      ],
      "text/plain": [
       "   wikipedia_id freebase_id                title          languages  \\\n",
       "0     4213160.0   /m/0bq8q8                    $                NaN   \n",
       "1           NaN         NaN  $1,000 on the Black  [German, Italian]   \n",
       "2           NaN         NaN  $10,000 Blood Money                NaN   \n",
       "3           NaN         NaN   $100,000 for Ringo          [Italian]   \n",
       "4           NaN         NaN      'Anna' i wampir                NaN   \n",
       "\n",
       "          countries                  genres                       keywords  \\\n",
       "0          [Russia]  [Comedy, Crime, Drama]                            NaN   \n",
       "1  [Germany, Italy]               [Western]                            NaN   \n",
       "2          [Russia]        [Western, Drama]                            NaN   \n",
       "3           [Italy]        [Western, Drama]  [spaghetti western, whipping]   \n",
       "4          [Russia]                 [Crime]                            NaN   \n",
       "\n",
       "   release_date  runtime                                       plot_summary  \\\n",
       "0          1971    119.0  Set in Hamburg, West Germany, several criminal...   \n",
       "1          1966    104.0  Johnny Liston has just been released from pris...   \n",
       "2          1967      NaN  Hired by a Mexican landowner to rescue his dau...   \n",
       "3          1965     98.0  A stranger rides into Rainbow Valley where he'...   \n",
       "4          1982      NaN  Silesia in Poland, late 60s. Bodies of vicious...   \n",
       "\n",
       "  cold_war_side              character_western_bloc_representation  \\\n",
       "0       Western  [Joe Collins, American bank security consultan...   \n",
       "1       Eastern                                             [None]   \n",
       "2          None                                             [None]   \n",
       "3          None                                             [None]   \n",
       "4          None                                             [None]   \n",
       "\n",
       "               character_eastern_bloc_representation  \\\n",
       "0  [Dawn Divine, hooker with a heart of gold, cun...   \n",
       "1  [Sartana, villainous, oppressive, cruel, arche...   \n",
       "2                                             [None]   \n",
       "3                                             [None]   \n",
       "4                                             [None]   \n",
       "\n",
       "                                 western_bloc_values  \\\n",
       "0                                             [None]   \n",
       "1  [Johnny Liston, justice, determination, resili...   \n",
       "2                                             [None]   \n",
       "3                                             [None]   \n",
       "4                                             [None]   \n",
       "\n",
       "                                 eastern_bloc_values  \\\n",
       "0  [Resourcefulness, cleverness, individualism, h...   \n",
       "1  [Justice, revenge, oppressed vs. oppressor, re...   \n",
       "2                                             [None]   \n",
       "3                                             [None]   \n",
       "4                                             [None]   \n",
       "\n",
       "                                               theme  \n",
       "0                                             [None]  \n",
       "1  [Terror, betrayal, familial conflict, crime, r...  \n",
       "2  [crime, betrayal, revenge, bounty hunter, heis...  \n",
       "3  [Western, Civil War, mistaken identity, treasu...  \n",
       "4       [murder mystery, horror, fog, Poland, 1960s]  "
      ]
     },
     "execution_count": 211,
     "metadata": {},
     "output_type": "execute_result"
    }
   ],
   "source": [
    "movies_df = pd.read_csv(\"data/preprocessed/preprocessed_movies.csv\")\n",
    "for col in movies_df.columns:\n",
    "    try:\n",
    "        movies_df[col] = movies_df[col].apply(\n",
    "            lambda x: ast.literal_eval(x) if isinstance(x, str) else x\n",
    "        )\n",
    "    except:\n",
    "        pass\n",
    "\n",
    "\n",
    "movies_df.head(5)"
   ]
  },
  {
   "cell_type": "markdown",
   "metadata": {},
   "source": [
    "# Genre Analysis"
   ]
  },
  {
   "cell_type": "markdown",
   "metadata": {},
   "source": [
    "## Bar Plots\n"
   ]
  },
  {
   "cell_type": "code",
   "execution_count": 212,
   "metadata": {},
   "outputs": [
    {
     "name": "stderr",
     "output_type": "stream",
     "text": [
      "C:\\Users\\karim\\AppData\\Local\\Temp\\ipykernel_4472\\1391639297.py:11: FutureWarning:\n",
      "\n",
      "\n",
      "\n",
      "Passing `palette` without assigning `hue` is deprecated and will be removed in v0.14.0. Assign the `y` variable to `hue` and set `legend=False` for the same effect.\n",
      "\n",
      "\n"
     ]
    },
    {
     "data": {
      "image/png": "[encoded data removed]",
      "text/plain": [
       "<Figure size 1000x600 with 1 Axes>"
      ]
     },
     "metadata": {},
     "output_type": "display_data"
    }
   ],
   "source": [
    "genres_df = movies_df[[\"countries\", \"cold_war_side\", \"genres\", \"release_date\"]]\n",
    "genres_df = genres_df.explode(\"genres\")[genres_df.explode(\"genres\") != \"\\\\N\"]\n",
    "genres_df[\"genres\"] = genres_df[\"genres\"].str.title().str.strip()\n",
    "\n",
    "genre_counts = genres_df[\"genres\"].value_counts().head(20)\n",
    "common_genres = genre_counts.head(12).index\n",
    "\n",
    "\n",
    "# Plot the distribution\n",
    "plt.figure(figsize=(10, 6))\n",
    "sns.barplot(x=genre_counts.values, y=genre_counts.index, palette=\"viridis\")\n",
    "plt.title(\"Distribution of Genres\")\n",
    "plt.xlabel(\"Count\")\n",
    "plt.ylabel(\"Genre\")\n",
    "plt.show()"
   ]
  },
  {
   "cell_type": "code",
   "execution_count": 321,
   "metadata": {},
   "outputs": [],
   "source": [
    "def plot_distributions(\n",
    "    western_counts,\n",
    "    eastern_counts,\n",
    "    title_western,\n",
    "    title_eastern,\n",
    "    ylabel=\"Genre\",\n",
    "    figsize=(20, 9),\n",
    "    color_western=\"#1f77b4\",\n",
    "    color_eastern=\"#ff6347\",\n",
    "    log_scale=True,\n",
    "):\n",
    "    fig, axes = plt.subplots(1, 2, figsize=figsize)  # 1 row, 2 columns\n",
    "    sns.set_style(style=\"whitegrid\")\n",
    "\n",
    "    # Western plot\n",
    "    sns.barplot(\n",
    "        x=western_counts.head(20).values,\n",
    "        y=western_counts.head(20).index,\n",
    "        color=color_western,\n",
    "        ax=axes[0],\n",
    "    )\n",
    "    axes[0].set_title(title_western)\n",
    "    axes[0].set_xlabel(\"Count\")\n",
    "    axes[0].set_ylabel(ylabel)\n",
    "    if log_scale:\n",
    "        axes[0].set_xscale(\"log\")\n",
    "\n",
    "    # Eastern plot\n",
    "    sns.barplot(\n",
    "        x=eastern_counts.head(20).values,\n",
    "        y=eastern_counts.head(20).index,\n",
    "        color=color_eastern,\n",
    "        ax=axes[1],\n",
    "    )\n",
    "    axes[1].set_title(title_eastern)\n",
    "    axes[1].set_xlabel(\"Count\")\n",
    "    axes[1].set_ylabel(ylabel)\n",
    "    if log_scale:\n",
    "        axes[1].set_xscale(\"log\")\n",
    "\n",
    "    plt.tight_layout()\n",
    "    plt.show()"
   ]
  },
  {
   "cell_type": "code",
   "execution_count": 322,
   "metadata": {},
   "outputs": [
    {
     "data": {
      "image/png": "[encoded data removed]",
      "text/plain": [
       "<Figure size 2000x900 with 2 Axes>"
      ]
     },
     "metadata": {},
     "output_type": "display_data"
    }
   ],
   "source": [
    "western_genre_counts = genres_df[genres_df[\"cold_war_side\"] == \"Western\"][\n",
    "    \"genres\"\n",
    "].value_counts()\n",
    "eastern_genre_counts = genres_df[genres_df[\"cold_war_side\"] == \"Eastern\"][\n",
    "    \"genres\"\n",
    "].value_counts()\n",
    "\n",
    "plot_distributions(\n",
    "    western_genre_counts,\n",
    "    eastern_genre_counts,\n",
    "    title_western=\"Distribution of Genres for Western Movies\",\n",
    "    title_eastern=\"Distribution of Genres for Eastern Movies\",\n",
    "    ylabel=\"Genre\",\n",
    ")"
   ]
  },
  {
   "cell_type": "code",
   "execution_count": 266,
   "metadata": {},
   "outputs": [],
   "source": [
    "def create_comparison_df(\n",
    "    west_df,\n",
    "    east_df,\n",
    "    threshold,\n",
    "    common_genres=[\n",
    "        \"Drama\",\n",
    "        \"Action\",\n",
    "        \"Comedy\",\n",
    "        \"Crime\",\n",
    "        \"Thriller\",\n",
    "        \"War\",\n",
    "        \"Adventure\",\n",
    "        \"Romance\",\n",
    "        \"History\",\n",
    "        \"Science Fiction\",\n",
    "    ],\n",
    "):\n",
    "    comparison_df = pd.DataFrame({\"Western\": west_df, \"Eastern\": east_df}).fillna(0)\n",
    "\n",
    "    comparison_df[\"relative_difference\"] = (\n",
    "        comparison_df[\"Eastern\"] - comparison_df[\"Western\"]\n",
    "    ) / (comparison_df[\"Eastern\"] + comparison_df[\"Western\"])\n",
    "\n",
    "    comparison_df[\"absolute_relative_difference\"] = comparison_df[\n",
    "        \"relative_difference\"\n",
    "    ].abs()\n",
    "\n",
    "    comparison_df[\"Eastern_Proportion\"] = (\n",
    "        comparison_df[\"Eastern\"] / comparison_df[\"Eastern\"].sum(axis=0) * 100\n",
    "    )\n",
    "    comparison_df[\"Western_Proportion\"] = (\n",
    "        comparison_df[\"Western\"] / comparison_df[\"Western\"].sum(axis=0) * 100\n",
    "    )\n",
    "\n",
    "    comparison_df[\"proportion_relative_difference\"] = (\n",
    "        comparison_df[\"Eastern_Proportion\"] - comparison_df[\"Western_Proportion\"]\n",
    "    ) / (comparison_df[\"Eastern_Proportion\"] + comparison_df[\"Western_Proportion\"])\n",
    "    comparison_df[\"absolute_proportion_relative_difference\"] = comparison_df[\n",
    "        \"proportion_relative_difference\"\n",
    "    ].abs()\n",
    "\n",
    "    comparison_df[\"total\"] = comparison_df[\"Eastern\"] + comparison_df[\"Western\"]\n",
    "\n",
    "    comparison_df = (\n",
    "        comparison_df[\n",
    "            (comparison_df[\"Eastern\"] > threshold)\n",
    "            | (comparison_df[\"Western\"] > threshold)\n",
    "        ]\n",
    "        .sort_values(\"absolute_relative_difference\", ascending=False)\n",
    "        .head(20)\n",
    "    )\n",
    "    return comparison_df"
   ]
  },
  {
   "cell_type": "code",
   "execution_count": 252,
   "metadata": {},
   "outputs": [
    {
     "data": {
      "text/html": [
       "<div>\n",
       "<style scoped>\n",
       "    .dataframe tbody tr th:only-of-type {\n",
       "        vertical-align: middle;\n",
       "    }\n",
       "\n",
       "    .dataframe tbody tr th {\n",
       "        vertical-align: top;\n",
       "    }\n",
       "\n",
       "    .dataframe thead th {\n",
       "        text-align: right;\n",
       "    }\n",
       "</style>\n",
       "<table border=\"1\" class=\"dataframe\">\n",
       "  <thead>\n",
       "    <tr style=\"text-align: right;\">\n",
       "      <th></th>\n",
       "      <th>Western</th>\n",
       "      <th>Eastern</th>\n",
       "      <th>relative_difference</th>\n",
       "      <th>absolute_relative_difference</th>\n",
       "      <th>Eastern_Proportion</th>\n",
       "      <th>Western_Proportion</th>\n",
       "      <th>proportion_relative_difference</th>\n",
       "      <th>absolute_proportion_relative_difference</th>\n",
       "      <th>total</th>\n",
       "    </tr>\n",
       "    <tr>\n",
       "      <th>genres</th>\n",
       "      <th></th>\n",
       "      <th></th>\n",
       "      <th></th>\n",
       "      <th></th>\n",
       "      <th></th>\n",
       "      <th></th>\n",
       "      <th></th>\n",
       "      <th></th>\n",
       "      <th></th>\n",
       "    </tr>\n",
       "  </thead>\n",
       "  <tbody>\n",
       "    <tr>\n",
       "      <th>Film-Noir</th>\n",
       "      <td>177</td>\n",
       "      <td>12.0</td>\n",
       "      <td>-0.873016</td>\n",
       "      <td>0.873016</td>\n",
       "      <td>0.217391</td>\n",
       "      <td>1.903021</td>\n",
       "      <td>-0.794954</td>\n",
       "      <td>0.794954</td>\n",
       "      <td>189.0</td>\n",
       "    </tr>\n",
       "    <tr>\n",
       "      <th>Western</th>\n",
       "      <td>269</td>\n",
       "      <td>22.0</td>\n",
       "      <td>-0.848797</td>\n",
       "      <td>0.848797</td>\n",
       "      <td>0.398551</td>\n",
       "      <td>2.892162</td>\n",
       "      <td>-0.757772</td>\n",
       "      <td>0.757772</td>\n",
       "      <td>291.0</td>\n",
       "    </tr>\n",
       "    <tr>\n",
       "      <th>Tv Movie</th>\n",
       "      <td>25</td>\n",
       "      <td>3.0</td>\n",
       "      <td>-0.785714</td>\n",
       "      <td>0.785714</td>\n",
       "      <td>0.054348</td>\n",
       "      <td>0.268788</td>\n",
       "      <td>-0.663623</td>\n",
       "      <td>0.663623</td>\n",
       "      <td>28.0</td>\n",
       "    </tr>\n",
       "    <tr>\n",
       "      <th>Thriller</th>\n",
       "      <td>858</td>\n",
       "      <td>184.0</td>\n",
       "      <td>-0.646833</td>\n",
       "      <td>0.646833</td>\n",
       "      <td>3.333333</td>\n",
       "      <td>9.224815</td>\n",
       "      <td>-0.469136</td>\n",
       "      <td>0.469136</td>\n",
       "      <td>1042.0</td>\n",
       "    </tr>\n",
       "    <tr>\n",
       "      <th>Action</th>\n",
       "      <td>1212</td>\n",
       "      <td>327.0</td>\n",
       "      <td>-0.575049</td>\n",
       "      <td>0.575049</td>\n",
       "      <td>5.923913</td>\n",
       "      <td>13.030857</td>\n",
       "      <td>-0.374942</td>\n",
       "      <td>0.374942</td>\n",
       "      <td>1539.0</td>\n",
       "    </tr>\n",
       "    <tr>\n",
       "      <th>Crime</th>\n",
       "      <td>889</td>\n",
       "      <td>268.0</td>\n",
       "      <td>-0.536733</td>\n",
       "      <td>0.536733</td>\n",
       "      <td>4.855072</td>\n",
       "      <td>9.558112</td>\n",
       "      <td>-0.326301</td>\n",
       "      <td>0.326301</td>\n",
       "      <td>1157.0</td>\n",
       "    </tr>\n",
       "    <tr>\n",
       "      <th>Science Fiction</th>\n",
       "      <td>267</td>\n",
       "      <td>82.0</td>\n",
       "      <td>-0.530086</td>\n",
       "      <td>0.530086</td>\n",
       "      <td>1.485507</td>\n",
       "      <td>2.870659</td>\n",
       "      <td>-0.317975</td>\n",
       "      <td>0.317975</td>\n",
       "      <td>349.0</td>\n",
       "    </tr>\n",
       "    <tr>\n",
       "      <th>Documentary</th>\n",
       "      <td>24</td>\n",
       "      <td>71.0</td>\n",
       "      <td>0.494737</td>\n",
       "      <td>0.494737</td>\n",
       "      <td>1.286232</td>\n",
       "      <td>0.258037</td>\n",
       "      <td>0.665814</td>\n",
       "      <td>0.665814</td>\n",
       "      <td>95.0</td>\n",
       "    </tr>\n",
       "    <tr>\n",
       "      <th>Horror</th>\n",
       "      <td>149</td>\n",
       "      <td>55.0</td>\n",
       "      <td>-0.460784</td>\n",
       "      <td>0.460784</td>\n",
       "      <td>0.996377</td>\n",
       "      <td>1.601978</td>\n",
       "      <td>-0.233071</td>\n",
       "      <td>0.233071</td>\n",
       "      <td>204.0</td>\n",
       "    </tr>\n",
       "    <tr>\n",
       "      <th>Mystery</th>\n",
       "      <td>241</td>\n",
       "      <td>94.0</td>\n",
       "      <td>-0.438806</td>\n",
       "      <td>0.438806</td>\n",
       "      <td>1.702899</td>\n",
       "      <td>2.591119</td>\n",
       "      <td>-0.206851</td>\n",
       "      <td>0.206851</td>\n",
       "      <td>335.0</td>\n",
       "    </tr>\n",
       "    <tr>\n",
       "      <th>Adventure</th>\n",
       "      <td>678</td>\n",
       "      <td>268.0</td>\n",
       "      <td>-0.433404</td>\n",
       "      <td>0.433404</td>\n",
       "      <td>4.855072</td>\n",
       "      <td>7.289539</td>\n",
       "      <td>-0.200457</td>\n",
       "      <td>0.200457</td>\n",
       "      <td>946.0</td>\n",
       "    </tr>\n",
       "    <tr>\n",
       "      <th>Sci-Fi</th>\n",
       "      <td>215</td>\n",
       "      <td>88.0</td>\n",
       "      <td>-0.419142</td>\n",
       "      <td>0.419142</td>\n",
       "      <td>1.594203</td>\n",
       "      <td>2.311579</td>\n",
       "      <td>-0.183670</td>\n",
       "      <td>0.183670</td>\n",
       "      <td>303.0</td>\n",
       "    </tr>\n",
       "    <tr>\n",
       "      <th>Music</th>\n",
       "      <td>94</td>\n",
       "      <td>39.0</td>\n",
       "      <td>-0.413534</td>\n",
       "      <td>0.413534</td>\n",
       "      <td>0.706522</td>\n",
       "      <td>1.010644</td>\n",
       "      <td>-0.177107</td>\n",
       "      <td>0.177107</td>\n",
       "      <td>133.0</td>\n",
       "    </tr>\n",
       "    <tr>\n",
       "      <th>Sport</th>\n",
       "      <td>36</td>\n",
       "      <td>20.0</td>\n",
       "      <td>-0.285714</td>\n",
       "      <td>0.285714</td>\n",
       "      <td>0.362319</td>\n",
       "      <td>0.387055</td>\n",
       "      <td>-0.033009</td>\n",
       "      <td>0.033009</td>\n",
       "      <td>56.0</td>\n",
       "    </tr>\n",
       "    <tr>\n",
       "      <th>Comedy</th>\n",
       "      <td>757</td>\n",
       "      <td>524.0</td>\n",
       "      <td>-0.181889</td>\n",
       "      <td>0.181889</td>\n",
       "      <td>9.492754</td>\n",
       "      <td>8.138910</td>\n",
       "      <td>0.076785</td>\n",
       "      <td>0.076785</td>\n",
       "      <td>1281.0</td>\n",
       "    </tr>\n",
       "    <tr>\n",
       "      <th>History</th>\n",
       "      <td>189</td>\n",
       "      <td>260.0</td>\n",
       "      <td>0.158129</td>\n",
       "      <td>0.158129</td>\n",
       "      <td>4.710145</td>\n",
       "      <td>2.032040</td>\n",
       "      <td>0.397216</td>\n",
       "      <td>0.397216</td>\n",
       "      <td>449.0</td>\n",
       "    </tr>\n",
       "    <tr>\n",
       "      <th>Romance</th>\n",
       "      <td>501</td>\n",
       "      <td>368.0</td>\n",
       "      <td>-0.153049</td>\n",
       "      <td>0.153049</td>\n",
       "      <td>6.666667</td>\n",
       "      <td>5.386518</td>\n",
       "      <td>0.106208</td>\n",
       "      <td>0.106208</td>\n",
       "      <td>869.0</td>\n",
       "    </tr>\n",
       "    <tr>\n",
       "      <th>Musical</th>\n",
       "      <td>55</td>\n",
       "      <td>74.0</td>\n",
       "      <td>0.147287</td>\n",
       "      <td>0.147287</td>\n",
       "      <td>1.340580</td>\n",
       "      <td>0.591334</td>\n",
       "      <td>0.387825</td>\n",
       "      <td>0.387825</td>\n",
       "      <td>129.0</td>\n",
       "    </tr>\n",
       "    <tr>\n",
       "      <th>Fantasy</th>\n",
       "      <td>92</td>\n",
       "      <td>70.0</td>\n",
       "      <td>-0.135802</td>\n",
       "      <td>0.135802</td>\n",
       "      <td>1.268116</td>\n",
       "      <td>0.989141</td>\n",
       "      <td>0.123590</td>\n",
       "      <td>0.123590</td>\n",
       "      <td>162.0</td>\n",
       "    </tr>\n",
       "    <tr>\n",
       "      <th>Family</th>\n",
       "      <td>131</td>\n",
       "      <td>170.0</td>\n",
       "      <td>0.129568</td>\n",
       "      <td>0.129568</td>\n",
       "      <td>3.079710</td>\n",
       "      <td>1.408451</td>\n",
       "      <td>0.372371</td>\n",
       "      <td>0.372371</td>\n",
       "      <td>301.0</td>\n",
       "    </tr>\n",
       "  </tbody>\n",
       "</table>\n",
       "</div>"
      ],
      "text/plain": [
       "                 Western  Eastern  relative_difference  \\\n",
       "genres                                                   \n",
       "Film-Noir            177     12.0            -0.873016   \n",
       "Western              269     22.0            -0.848797   \n",
       "Tv Movie              25      3.0            -0.785714   \n",
       "Thriller             858    184.0            -0.646833   \n",
       "Action              1212    327.0            -0.575049   \n",
       "Crime                889    268.0            -0.536733   \n",
       "Science Fiction      267     82.0            -0.530086   \n",
       "Documentary           24     71.0             0.494737   \n",
       "Horror               149     55.0            -0.460784   \n",
       "Mystery              241     94.0            -0.438806   \n",
       "Adventure            678    268.0            -0.433404   \n",
       "Sci-Fi               215     88.0            -0.419142   \n",
       "Music                 94     39.0            -0.413534   \n",
       "Sport                 36     20.0            -0.285714   \n",
       "Comedy               757    524.0            -0.181889   \n",
       "History              189    260.0             0.158129   \n",
       "Romance              501    368.0            -0.153049   \n",
       "Musical               55     74.0             0.147287   \n",
       "Fantasy               92     70.0            -0.135802   \n",
       "Family               131    170.0             0.129568   \n",
       "\n",
       "                 absolute_relative_difference  Eastern_Proportion  \\\n",
       "genres                                                              \n",
       "Film-Noir                            0.873016            0.217391   \n",
       "Western                              0.848797            0.398551   \n",
       "Tv Movie                             0.785714            0.054348   \n",
       "Thriller                             0.646833            3.333333   \n",
       "Action                               0.575049            5.923913   \n",
       "Crime                                0.536733            4.855072   \n",
       "Science Fiction                      0.530086            1.485507   \n",
       "Documentary                          0.494737            1.286232   \n",
       "Horror                               0.460784            0.996377   \n",
       "Mystery                              0.438806            1.702899   \n",
       "Adventure                            0.433404            4.855072   \n",
       "Sci-Fi                               0.419142            1.594203   \n",
       "Music                                0.413534            0.706522   \n",
       "Sport                                0.285714            0.362319   \n",
       "Comedy                               0.181889            9.492754   \n",
       "History                              0.158129            4.710145   \n",
       "Romance                              0.153049            6.666667   \n",
       "Musical                              0.147287            1.340580   \n",
       "Fantasy                              0.135802            1.268116   \n",
       "Family                               0.129568            3.079710   \n",
       "\n",
       "                 Western_Proportion  proportion_relative_difference  \\\n",
       "genres                                                                \n",
       "Film-Noir                  1.903021                       -0.794954   \n",
       "Western                    2.892162                       -0.757772   \n",
       "Tv Movie                   0.268788                       -0.663623   \n",
       "Thriller                   9.224815                       -0.469136   \n",
       "Action                    13.030857                       -0.374942   \n",
       "Crime                      9.558112                       -0.326301   \n",
       "Science Fiction            2.870659                       -0.317975   \n",
       "Documentary                0.258037                        0.665814   \n",
       "Horror                     1.601978                       -0.233071   \n",
       "Mystery                    2.591119                       -0.206851   \n",
       "Adventure                  7.289539                       -0.200457   \n",
       "Sci-Fi                     2.311579                       -0.183670   \n",
       "Music                      1.010644                       -0.177107   \n",
       "Sport                      0.387055                       -0.033009   \n",
       "Comedy                     8.138910                        0.076785   \n",
       "History                    2.032040                        0.397216   \n",
       "Romance                    5.386518                        0.106208   \n",
       "Musical                    0.591334                        0.387825   \n",
       "Fantasy                    0.989141                        0.123590   \n",
       "Family                     1.408451                        0.372371   \n",
       "\n",
       "                 absolute_proportion_relative_difference   total  \n",
       "genres                                                            \n",
       "Film-Noir                                       0.794954   189.0  \n",
       "Western                                         0.757772   291.0  \n",
       "Tv Movie                                        0.663623    28.0  \n",
       "Thriller                                        0.469136  1042.0  \n",
       "Action                                          0.374942  1539.0  \n",
       "Crime                                           0.326301  1157.0  \n",
       "Science Fiction                                 0.317975   349.0  \n",
       "Documentary                                     0.665814    95.0  \n",
       "Horror                                          0.233071   204.0  \n",
       "Mystery                                         0.206851   335.0  \n",
       "Adventure                                       0.200457   946.0  \n",
       "Sci-Fi                                          0.183670   303.0  \n",
       "Music                                           0.177107   133.0  \n",
       "Sport                                           0.033009    56.0  \n",
       "Comedy                                          0.076785  1281.0  \n",
       "History                                         0.397216   449.0  \n",
       "Romance                                         0.106208   869.0  \n",
       "Musical                                         0.387825   129.0  \n",
       "Fantasy                                         0.123590   162.0  \n",
       "Family                                          0.372371   301.0  "
      ]
     },
     "execution_count": 252,
     "metadata": {},
     "output_type": "execute_result"
    }
   ],
   "source": [
    "genre_comparison = create_comparison_df(western_genre_counts, eastern_genre_counts, 20)\n",
    "genre_comparison"
   ]
  },
  {
   "cell_type": "code",
   "execution_count": 253,
   "metadata": {},
   "outputs": [
    {
     "data": {
      "image/png": "[encoded data removed]",
      "text/plain": [
       "<Figure size 1000x600 with 1 Axes>"
      ]
     },
     "metadata": {},
     "output_type": "display_data"
    }
   ],
   "source": [
    "def plot_relative_difference(comparison_df, compared, abs=False, prop=False):\n",
    "    column = \"relative_difference\"\n",
    "    sort_column = \"relative_difference\"\n",
    "\n",
    "    if prop:\n",
    "        sort_column = \"proportion_\" + column\n",
    "        column = \"proportion_\" + column\n",
    "    if abs:\n",
    "        column = \"absolute_\" + column\n",
    "\n",
    "    comparison_df = comparison_df.sort_values(sort_column)\n",
    "    comparison_df[column].plot(\n",
    "        kind=\"barh\",\n",
    "        figsize=(10, 6),\n",
    "        color=[\"#ff6347\" if x > 0 else \"#1f77b4\" for x in comparison_df[sort_column]],\n",
    "    )\n",
    "    column = column.replace(\"_\", \" \").title()\n",
    "    plt.title(f\"{compared}: {column} Between Sides\")\n",
    "    plt.xlabel(f\"{column}\")\n",
    "    plt.ylabel(f\"{compared}\")\n",
    "\n",
    "    # Create custom legend\n",
    "    legend_elements = [\n",
    "        Patch(color=\"#ff6347\", label=\"Eastern Side\"),\n",
    "        Patch(color=\"#1f77b4\", label=\"Western Side\"),\n",
    "    ]\n",
    "    plt.legend(handles=legend_elements, title=\"Side\")\n",
    "    plt.show()\n",
    "\n",
    "\n",
    "plot_relative_difference(genre_comparison, \"Genre\", abs=False, prop=False)"
   ]
  },
  {
   "cell_type": "markdown",
   "metadata": {},
   "source": [
    "## Time Series\n"
   ]
  },
  {
   "cell_type": "code",
   "execution_count": 217,
   "metadata": {},
   "outputs": [],
   "source": [
    "western_genres_yearly_counts = (\n",
    "    genres_df[genres_df[\"cold_war_side\"] == \"Western\"]\n",
    "    .explode(\"genres\")\n",
    "    .groupby(\"release_date\")[\"genres\"]\n",
    "    .value_counts()\n",
    ").reset_index()\n",
    "eastern_genres_yearly_counts = (\n",
    "    genres_df[genres_df[\"cold_war_side\"] == \"Eastern\"]\n",
    "    .explode(\"genres\")\n",
    "    .groupby(\"release_date\")[\"genres\"]\n",
    "    .value_counts()\n",
    ").reset_index()\n",
    "\n",
    "eastern_genres_yearly_counts = eastern_genres_yearly_counts[\n",
    "    eastern_genres_yearly_counts[\"genres\"].isin(common_genres)\n",
    "]\n",
    "western_genres_yearly_counts = western_genres_yearly_counts[\n",
    "    western_genres_yearly_counts[\"genres\"].isin(common_genres)\n",
    "]"
   ]
  },
  {
   "cell_type": "code",
   "execution_count": 218,
   "metadata": {},
   "outputs": [],
   "source": [
    "def plot_genres_over_time(side_genres_counts, side):\n",
    "    # Create the interactive line plot\n",
    "    fig = px.line(\n",
    "        side_genres_counts.reset_index(),\n",
    "        x=\"release_date\",\n",
    "        y=\"count\",\n",
    "        color=\"genres\",\n",
    "        title=f\"Genre Counts Over Time for {side} Movies\",\n",
    "        labels={\"release_date\": \"Release Date\", \"Count\": \"Count\", \"Genre\": \"Genres\"},\n",
    "        template=\"plotly_white\",\n",
    "    )\n",
    "\n",
    "    # Make all traces except War invisible by default\n",
    "    fig.for_each_trace(\n",
    "        lambda trace: (\n",
    "            trace.update(visible=\"legendonly\") if trace.name != \"War\" else None\n",
    "        )\n",
    "    )\n",
    "    if side == \"Eastern\":\n",
    "        fig.for_each_trace(lambda trace: trace.update(line_color=\"#ff6347\"))\n",
    "    elif side == \"Western\":\n",
    "        fig.for_each_trace(lambda trace: trace.update(line_color=\"#1f77b4\"))\n",
    "    fig.show()"
   ]
  },
  {
   "cell_type": "code",
   "execution_count": 219,
   "metadata": {},
   "outputs": [
    {
     "data": {
      "application/vnd.plotly.v1+json": {
       "config": {
        "plotlyServerURL": "https://plot.ly"
       },
       "data": [
        {
         "hovertemplate": "genres=Drama<br>Release Date=%{x}<br>count=%{y}<extra></extra>",
         "legendgroup": "Drama",
         "line": {
          "color": "#1f77b4",
          "dash": "solid"
         },
         "marker": {
          "symbol": "circle"
         },
         "mode": "lines",
         "name": "Drama",
         "orientation": "v",
         "showlegend": true,
         "type": "scatter",
         "visible": "legendonly",
         "x": [
          1945,
          1946,
          1947,
          1948,
          1949,
          1950,
          1951,
          1952,
          1953,
          1954,
          1955,
          1956,
          1957,
          1958,
          1959,
          1960,
          1961,
          1962,
          1963,
          1964,
          1965,
          1966,
          1967,
          1968,
          1969,
          1970,
          1971,
          1972,
          1973,
          1974,
          1975,
          1976,
          1977,
          1978,
          1979,
          1980,
          1981,
          1982,
          1983,
          1984,
          1985,
          1986,
          1987,
          1988,
          1989,
          1990,
          1991,
          1992,
          1993,
          1994,
          1995
         ],
         "xaxis": "x",
         "y": [
          31,
          25,
          26,
          47,
          46,
          41,
          53,
          52,
          57,
          52,
          58,
          66,
          62,
          59,
          42,
          30,
          31,
          38,
          31,
          39,
          25,
          33,
          32,
          44,
          33,
          28,
          16,
          29,
          29,
          23,
          25,
          28,
          28,
          30,
          36,
          22,
          35,
          31,
          42,
          49,
          36,
          41,
          53,
          40,
          44,
          35,
          18,
          20,
          25,
          16,
          6
         ],
         "yaxis": "y"
        },
        {
         "hovertemplate": "genres=War<br>Release Date=%{x}<br>count=%{y}<extra></extra>",
         "legendgroup": "War",
         "line": {
          "color": "#1f77b4",
          "dash": "solid"
         },
         "marker": {
          "symbol": "circle"
         },
         "mode": "lines",
         "name": "War",
         "orientation": "v",
         "showlegend": true,
         "type": "scatter",
         "x": [
          1945,
          1946,
          1947,
          1948,
          1949,
          1950,
          1951,
          1952,
          1953,
          1954,
          1955,
          1956,
          1957,
          1958,
          1959,
          1960,
          1961,
          1962,
          1963,
          1964,
          1965,
          1966,
          1967,
          1968,
          1969,
          1970,
          1971,
          1972,
          1973,
          1974,
          1975,
          1976,
          1977,
          1978,
          1979,
          1980,
          1981,
          1982,
          1983,
          1984,
          1985,
          1986,
          1987,
          1988,
          1989,
          1990,
          1991,
          1992,
          1993,
          1994,
          1995
         ],
         "xaxis": "x",
         "y": [
          18,
          9,
          1,
          6,
          9,
          11,
          12,
          12,
          17,
          11,
          13,
          17,
          17,
          22,
          16,
          10,
          8,
          14,
          9,
          14,
          13,
          16,
          6,
          14,
          13,
          9,
          2,
          5,
          1,
          1,
          4,
          3,
          5,
          9,
          8,
          3,
          5,
          5,
          7,
          7,
          11,
          9,
          12,
          12,
          10,
          6,
          2,
          2,
          8,
          2,
          2
         ],
         "yaxis": "y"
        },
        {
         "hovertemplate": "genres=Romance<br>Release Date=%{x}<br>count=%{y}<extra></extra>",
         "legendgroup": "Romance",
         "line": {
          "color": "#1f77b4",
          "dash": "solid"
         },
         "marker": {
          "symbol": "circle"
         },
         "mode": "lines",
         "name": "Romance",
         "orientation": "v",
         "showlegend": true,
         "type": "scatter",
         "visible": "legendonly",
         "x": [
          1945,
          1946,
          1947,
          1948,
          1949,
          1950,
          1951,
          1952,
          1953,
          1954,
          1955,
          1956,
          1957,
          1958,
          1959,
          1960,
          1961,
          1962,
          1963,
          1964,
          1965,
          1966,
          1967,
          1968,
          1969,
          1970,
          1971,
          1972,
          1973,
          1974,
          1975,
          1976,
          1977,
          1978,
          1979,
          1980,
          1981,
          1982,
          1983,
          1984,
          1985,
          1986,
          1987,
          1988,
          1989,
          1990,
          1991,
          1992,
          1993,
          1994
         ],
         "xaxis": "x",
         "y": [
          14,
          7,
          15,
          18,
          17,
          10,
          18,
          14,
          29,
          12,
          22,
          16,
          17,
          16,
          17,
          11,
          9,
          9,
          13,
          11,
          11,
          12,
          6,
          6,
          5,
          6,
          1,
          3,
          3,
          3,
          4,
          4,
          6,
          7,
          11,
          5,
          5,
          6,
          13,
          16,
          11,
          9,
          6,
          11,
          6,
          7,
          6,
          8,
          7,
          2
         ],
         "yaxis": "y"
        },
        {
         "hovertemplate": "genres=Thriller<br>Release Date=%{x}<br>count=%{y}<extra></extra>",
         "legendgroup": "Thriller",
         "line": {
          "color": "#1f77b4",
          "dash": "solid"
         },
         "marker": {
          "symbol": "circle"
         },
         "mode": "lines",
         "name": "Thriller",
         "orientation": "v",
         "showlegend": true,
         "type": "scatter",
         "visible": "legendonly",
         "x": [
          1945,
          1946,
          1947,
          1948,
          1949,
          1950,
          1951,
          1952,
          1953,
          1954,
          1955,
          1956,
          1957,
          1958,
          1959,
          1960,
          1961,
          1962,
          1963,
          1964,
          1965,
          1966,
          1967,
          1968,
          1969,
          1970,
          1971,
          1972,
          1973,
          1974,
          1975,
          1976,
          1977,
          1978,
          1979,
          1980,
          1981,
          1982,
          1983,
          1984,
          1985,
          1986,
          1987,
          1988,
          1989,
          1990,
          1991,
          1992,
          1993,
          1994,
          1995
         ],
         "xaxis": "x",
         "y": [
          10,
          8,
          13,
          14,
          13,
          17,
          15,
          17,
          15,
          17,
          10,
          18,
          21,
          7,
          18,
          6,
          4,
          10,
          12,
          16,
          12,
          15,
          25,
          19,
          10,
          11,
          13,
          15,
          18,
          22,
          17,
          14,
          18,
          13,
          21,
          19,
          17,
          19,
          25,
          22,
          25,
          18,
          36,
          28,
          30,
          26,
          22,
          20,
          25,
          17,
          5
         ],
         "yaxis": "y"
        },
        {
         "hovertemplate": "genres=Action<br>Release Date=%{x}<br>count=%{y}<extra></extra>",
         "legendgroup": "Action",
         "line": {
          "color": "#1f77b4",
          "dash": "solid"
         },
         "marker": {
          "symbol": "circle"
         },
         "mode": "lines",
         "name": "Action",
         "orientation": "v",
         "showlegend": true,
         "type": "scatter",
         "visible": "legendonly",
         "x": [
          1945,
          1946,
          1947,
          1948,
          1949,
          1950,
          1951,
          1952,
          1953,
          1954,
          1955,
          1956,
          1957,
          1958,
          1959,
          1960,
          1961,
          1962,
          1963,
          1964,
          1965,
          1966,
          1967,
          1968,
          1969,
          1970,
          1971,
          1972,
          1973,
          1974,
          1975,
          1976,
          1977,
          1978,
          1979,
          1980,
          1981,
          1982,
          1983,
          1984,
          1985,
          1986,
          1987,
          1988,
          1989,
          1990,
          1991,
          1992,
          1993,
          1994,
          1995
         ],
         "xaxis": "x",
         "y": [
          9,
          3,
          7,
          16,
          13,
          18,
          17,
          16,
          19,
          16,
          18,
          21,
          27,
          26,
          24,
          13,
          8,
          16,
          7,
          14,
          16,
          25,
          30,
          26,
          21,
          14,
          16,
          22,
          27,
          21,
          24,
          25,
          26,
          19,
          22,
          33,
          27,
          27,
          30,
          36,
          54,
          46,
          56,
          55,
          58,
          41,
          28,
          21,
          33,
          21,
          4
         ],
         "yaxis": "y"
        },
        {
         "hovertemplate": "genres=Crime<br>Release Date=%{x}<br>count=%{y}<extra></extra>",
         "legendgroup": "Crime",
         "line": {
          "color": "#1f77b4",
          "dash": "solid"
         },
         "marker": {
          "symbol": "circle"
         },
         "mode": "lines",
         "name": "Crime",
         "orientation": "v",
         "showlegend": true,
         "type": "scatter",
         "visible": "legendonly",
         "x": [
          1945,
          1946,
          1947,
          1948,
          1949,
          1950,
          1951,
          1952,
          1953,
          1954,
          1955,
          1956,
          1957,
          1958,
          1959,
          1960,
          1961,
          1962,
          1963,
          1964,
          1965,
          1966,
          1967,
          1968,
          1969,
          1970,
          1971,
          1972,
          1973,
          1974,
          1975,
          1976,
          1977,
          1978,
          1979,
          1980,
          1981,
          1982,
          1983,
          1984,
          1985,
          1986,
          1987,
          1988,
          1989,
          1990,
          1991,
          1992,
          1993,
          1994,
          1995
         ],
         "xaxis": "x",
         "y": [
          8,
          12,
          20,
          23,
          26,
          23,
          27,
          24,
          15,
          22,
          29,
          21,
          18,
          15,
          14,
          9,
          13,
          7,
          12,
          12,
          10,
          23,
          20,
          14,
          14,
          13,
          11,
          20,
          24,
          24,
          16,
          23,
          21,
          13,
          15,
          15,
          17,
          15,
          16,
          24,
          19,
          13,
          29,
          27,
          30,
          24,
          12,
          13,
          16,
          6,
          2
         ],
         "yaxis": "y"
        },
        {
         "hovertemplate": "genres=Comedy<br>Release Date=%{x}<br>count=%{y}<extra></extra>",
         "legendgroup": "Comedy",
         "line": {
          "color": "#1f77b4",
          "dash": "solid"
         },
         "marker": {
          "symbol": "circle"
         },
         "mode": "lines",
         "name": "Comedy",
         "orientation": "v",
         "showlegend": true,
         "type": "scatter",
         "visible": "legendonly",
         "x": [
          1945,
          1946,
          1947,
          1948,
          1949,
          1950,
          1951,
          1952,
          1953,
          1954,
          1955,
          1956,
          1957,
          1958,
          1959,
          1960,
          1961,
          1962,
          1963,
          1964,
          1965,
          1966,
          1967,
          1968,
          1969,
          1970,
          1971,
          1972,
          1973,
          1974,
          1975,
          1976,
          1977,
          1978,
          1979,
          1980,
          1981,
          1982,
          1983,
          1984,
          1985,
          1986,
          1987,
          1988,
          1989,
          1990,
          1991,
          1992,
          1993,
          1994,
          1995
         ],
         "xaxis": "x",
         "y": [
          6,
          9,
          14,
          7,
          11,
          11,
          18,
          10,
          17,
          10,
          12,
          12,
          12,
          17,
          20,
          13,
          15,
          13,
          18,
          26,
          19,
          26,
          25,
          17,
          17,
          10,
          9,
          15,
          10,
          11,
          12,
          7,
          7,
          17,
          17,
          18,
          9,
          11,
          18,
          22,
          31,
          20,
          29,
          22,
          29,
          17,
          9,
          6,
          10,
          14,
          2
         ],
         "yaxis": "y"
        },
        {
         "hovertemplate": "genres=Adventure<br>Release Date=%{x}<br>count=%{y}<extra></extra>",
         "legendgroup": "Adventure",
         "line": {
          "color": "#1f77b4",
          "dash": "solid"
         },
         "marker": {
          "symbol": "circle"
         },
         "mode": "lines",
         "name": "Adventure",
         "orientation": "v",
         "showlegend": true,
         "type": "scatter",
         "visible": "legendonly",
         "x": [
          1945,
          1946,
          1947,
          1948,
          1949,
          1950,
          1951,
          1952,
          1953,
          1954,
          1955,
          1956,
          1957,
          1958,
          1959,
          1960,
          1961,
          1962,
          1963,
          1964,
          1965,
          1966,
          1967,
          1968,
          1969,
          1970,
          1971,
          1972,
          1973,
          1974,
          1975,
          1976,
          1977,
          1978,
          1979,
          1980,
          1981,
          1982,
          1983,
          1984,
          1985,
          1986,
          1987,
          1988,
          1989,
          1990,
          1991,
          1992,
          1993,
          1994,
          1995
         ],
         "xaxis": "x",
         "y": [
          5,
          3,
          7,
          6,
          7,
          11,
          14,
          16,
          24,
          15,
          11,
          12,
          19,
          12,
          15,
          9,
          14,
          14,
          9,
          17,
          19,
          23,
          15,
          16,
          16,
          7,
          8,
          14,
          11,
          8,
          13,
          7,
          9,
          8,
          18,
          15,
          15,
          13,
          19,
          17,
          27,
          17,
          20,
          24,
          25,
          14,
          12,
          7,
          10,
          9,
          2
         ],
         "yaxis": "y"
        },
        {
         "hovertemplate": "genres=Mystery<br>Release Date=%{x}<br>count=%{y}<extra></extra>",
         "legendgroup": "Mystery",
         "line": {
          "color": "#1f77b4",
          "dash": "solid"
         },
         "marker": {
          "symbol": "circle"
         },
         "mode": "lines",
         "name": "Mystery",
         "orientation": "v",
         "showlegend": true,
         "type": "scatter",
         "visible": "legendonly",
         "x": [
          1945,
          1946,
          1947,
          1948,
          1949,
          1950,
          1951,
          1952,
          1953,
          1954,
          1955,
          1956,
          1957,
          1958,
          1959,
          1961,
          1962,
          1963,
          1964,
          1965,
          1966,
          1967,
          1968,
          1969,
          1970,
          1971,
          1972,
          1973,
          1974,
          1975,
          1976,
          1977,
          1978,
          1979,
          1980,
          1981,
          1982,
          1983,
          1984,
          1985,
          1986,
          1987,
          1988,
          1989,
          1990,
          1991,
          1992,
          1993,
          1994,
          1995
         ],
         "xaxis": "x",
         "y": [
          5,
          9,
          7,
          7,
          4,
          3,
          8,
          8,
          4,
          6,
          5,
          7,
          6,
          1,
          6,
          3,
          2,
          8,
          7,
          5,
          6,
          5,
          2,
          4,
          4,
          3,
          8,
          3,
          3,
          6,
          5,
          1,
          5,
          6,
          3,
          4,
          3,
          5,
          8,
          5,
          2,
          7,
          11,
          6,
          3,
          3,
          2,
          5,
          1,
          1
         ],
         "yaxis": "y"
        },
        {
         "hovertemplate": "genres=Family<br>Release Date=%{x}<br>count=%{y}<extra></extra>",
         "legendgroup": "Family",
         "line": {
          "color": "#1f77b4",
          "dash": "solid"
         },
         "marker": {
          "symbol": "circle"
         },
         "mode": "lines",
         "name": "Family",
         "orientation": "v",
         "showlegend": true,
         "type": "scatter",
         "visible": "legendonly",
         "x": [
          1945,
          1946,
          1947,
          1948,
          1949,
          1950,
          1951,
          1952,
          1953,
          1954,
          1955,
          1956,
          1957,
          1958,
          1959,
          1960,
          1961,
          1962,
          1963,
          1964,
          1965,
          1966,
          1967,
          1968,
          1969,
          1970,
          1971,
          1972,
          1973,
          1974,
          1975,
          1976,
          1977,
          1978,
          1979,
          1980,
          1981,
          1982,
          1983,
          1984,
          1985,
          1986,
          1987,
          1988,
          1989,
          1990,
          1991,
          1992,
          1993,
          1994,
          1995
         ],
         "xaxis": "x",
         "y": [
          2,
          2,
          3,
          2,
          3,
          4,
          2,
          2,
          1,
          2,
          5,
          2,
          5,
          1,
          2,
          1,
          3,
          2,
          3,
          1,
          2,
          2,
          2,
          3,
          3,
          1,
          3,
          2,
          2,
          1,
          3,
          1,
          2,
          3,
          5,
          2,
          2,
          2,
          1,
          4,
          5,
          8,
          5,
          1,
          5,
          1,
          5,
          3,
          2,
          1,
          1
         ],
         "yaxis": "y"
        },
        {
         "hovertemplate": "genres=Fantasy<br>Release Date=%{x}<br>count=%{y}<extra></extra>",
         "legendgroup": "Fantasy",
         "line": {
          "color": "#1f77b4",
          "dash": "solid"
         },
         "marker": {
          "symbol": "circle"
         },
         "mode": "lines",
         "name": "Fantasy",
         "orientation": "v",
         "showlegend": true,
         "type": "scatter",
         "visible": "legendonly",
         "x": [
          1945,
          1946,
          1947,
          1948,
          1949,
          1951,
          1954,
          1955,
          1957,
          1958,
          1959,
          1960,
          1961,
          1963,
          1964,
          1965,
          1966,
          1967,
          1968,
          1969,
          1971,
          1973,
          1975,
          1977,
          1978,
          1979,
          1980,
          1981,
          1983,
          1984,
          1985,
          1986,
          1987,
          1988,
          1989,
          1991,
          1992,
          1993,
          1994,
          1995
         ],
         "xaxis": "x",
         "y": [
          1,
          2,
          2,
          2,
          1,
          4,
          1,
          3,
          6,
          5,
          3,
          2,
          3,
          1,
          2,
          1,
          2,
          2,
          2,
          1,
          1,
          1,
          1,
          2,
          4,
          1,
          2,
          2,
          4,
          3,
          3,
          4,
          1,
          2,
          7,
          3,
          1,
          1,
          2,
          1
         ],
         "yaxis": "y"
        },
        {
         "hovertemplate": "genres=Horror<br>Release Date=%{x}<br>count=%{y}<extra></extra>",
         "legendgroup": "Horror",
         "line": {
          "color": "#1f77b4",
          "dash": "solid"
         },
         "marker": {
          "symbol": "circle"
         },
         "mode": "lines",
         "name": "Horror",
         "orientation": "v",
         "showlegend": true,
         "type": "scatter",
         "visible": "legendonly",
         "x": [
          1945,
          1948,
          1951,
          1952,
          1953,
          1954,
          1955,
          1956,
          1957,
          1958,
          1959,
          1960,
          1961,
          1963,
          1964,
          1965,
          1966,
          1967,
          1968,
          1970,
          1971,
          1972,
          1973,
          1974,
          1976,
          1977,
          1978,
          1979,
          1980,
          1981,
          1982,
          1983,
          1984,
          1985,
          1986,
          1987,
          1988,
          1989,
          1990,
          1991,
          1993,
          1994,
          1995
         ],
         "xaxis": "x",
         "y": [
          1,
          2,
          4,
          1,
          3,
          6,
          6,
          7,
          11,
          4,
          3,
          2,
          4,
          1,
          5,
          2,
          3,
          3,
          4,
          1,
          1,
          4,
          1,
          2,
          3,
          3,
          4,
          1,
          3,
          2,
          4,
          3,
          6,
          8,
          4,
          7,
          2,
          8,
          3,
          2,
          3,
          1,
          1
         ],
         "yaxis": "y"
        }
       ],
       "layout": {
        "legend": {
         "title": {
          "text": "genres"
         },
         "tracegroupgap": 0
        },
        "template": {
         "data": {
          "bar": [
           {
            "error_x": {
             "color": "#2a3f5f"
            },
            "error_y": {
             "color": "#2a3f5f"
            },
            "marker": {
             "line": {
              "color": "white",
              "width": 0.5
             },
             "pattern": {
              "fillmode": "overlay",
              "size": 10,
              "solidity": 0.2
             }
            },
            "type": "bar"
           }
          ],
          "barpolar": [
           {
            "marker": {
             "line": {
              "color": "white",
              "width": 0.5
             },
             "pattern": {
              "fillmode": "overlay",
              "size": 10,
              "solidity": 0.2
             }
            },
            "type": "barpolar"
           }
          ],
          "carpet": [
           {
            "aaxis": {
             "endlinecolor": "#2a3f5f",
             "gridcolor": "#C8D4E3",
             "linecolor": "#C8D4E3",
             "minorgridcolor": "#C8D4E3",
             "startlinecolor": "#2a3f5f"
            },
            "baxis": {
             "endlinecolor": "#2a3f5f",
             "gridcolor": "#C8D4E3",
             "linecolor": "#C8D4E3",
             "minorgridcolor": "#C8D4E3",
             "startlinecolor": "#2a3f5f"
            },
            "type": "carpet"
           }
          ],
          "choropleth": [
           {
            "colorbar": {
             "outlinewidth": 0,
             "ticks": ""
            },
            "type": "choropleth"
           }
          ],
          "contour": [
           {
            "colorbar": {
             "outlinewidth": 0,
             "ticks": ""
            },
            "colorscale": [
             [
              0,
              "#0d0887"
             ],
             [
              0.1111111111111111,
              "#46039f"
             ],
             [
              0.2222222222222222,
              "#7201a8"
             ],
             [
              0.3333333333333333,
              "#9c179e"
             ],
             [
              0.4444444444444444,
              "#bd3786"
             ],
             [
              0.5555555555555556,
              "#d8576b"
             ],
             [
              0.6666666666666666,
              "#ed7953"
             ],
             [
              0.7777777777777778,
              "#fb9f3a"
             ],
             [
              0.8888888888888888,
              "#fdca26"
             ],
             [
              1,
              "#f0f921"
             ]
            ],
            "type": "contour"
           }
          ],
          "contourcarpet": [
           {
            "colorbar": {
             "outlinewidth": 0,
             "ticks": ""
            },
            "type": "contourcarpet"
           }
          ],
          "heatmap": [
           {
            "colorbar": {
             "outlinewidth": 0,
             "ticks": ""
            },
            "colorscale": [
             [
              0,
              "#0d0887"
             ],
             [
              0.1111111111111111,
              "#46039f"
             ],
             [
              0.2222222222222222,
              "#7201a8"
             ],
             [
              0.3333333333333333,
              "#9c179e"
             ],
             [
              0.4444444444444444,
              "#bd3786"
             ],
             [
              0.5555555555555556,
              "#d8576b"
             ],
             [
              0.6666666666666666,
              "#ed7953"
             ],
             [
              0.7777777777777778,
              "#fb9f3a"
             ],
             [
              0.8888888888888888,
              "#fdca26"
             ],
             [
              1,
              "#f0f921"
             ]
            ],
            "type": "heatmap"
           }
          ],
          "heatmapgl": [
           {
            "colorbar": {
             "outlinewidth": 0,
             "ticks": ""
            },
            "colorscale": [
             [
              0,
              "#0d0887"
             ],
             [
              0.1111111111111111,
              "#46039f"
             ],
             [
              0.2222222222222222,
              "#7201a8"
             ],
             [
              0.3333333333333333,
              "#9c179e"
             ],
             [
              0.4444444444444444,
              "#bd3786"
             ],
             [
              0.5555555555555556,
              "#d8576b"
             ],
             [
              0.6666666666666666,
              "#ed7953"
             ],
             [
              0.7777777777777778,
              "#fb9f3a"
             ],
             [
              0.8888888888888888,
              "#fdca26"
             ],
             [
              1,
              "#f0f921"
             ]
            ],
            "type": "heatmapgl"
           }
          ],
          "histogram": [
           {
            "marker": {
             "pattern": {
              "fillmode": "overlay",
              "size": 10,
              "solidity": 0.2
             }
            },
            "type": "histogram"
           }
          ],
          "histogram2d": [
           {
            "colorbar": {
             "outlinewidth": 0,
             "ticks": ""
            },
            "colorscale": [
             [
              0,
              "#0d0887"
             ],
             [
              0.1111111111111111,
              "#46039f"
             ],
             [
              0.2222222222222222,
              "#7201a8"
             ],
             [
              0.3333333333333333,
              "#9c179e"
             ],
             [
              0.4444444444444444,
              "#bd3786"
             ],
             [
              0.5555555555555556,
              "#d8576b"
             ],
             [
              0.6666666666666666,
              "#ed7953"
             ],
             [
              0.7777777777777778,
              "#fb9f3a"
             ],
             [
              0.8888888888888888,
              "#fdca26"
             ],
             [
              1,
              "#f0f921"
             ]
            ],
            "type": "histogram2d"
           }
          ],
          "histogram2dcontour": [
           {
            "colorbar": {
             "outlinewidth": 0,
             "ticks": ""
            },
            "colorscale": [
             [
              0,
              "#0d0887"
             ],
             [
              0.1111111111111111,
              "#46039f"
             ],
             [
              0.2222222222222222,
              "#7201a8"
             ],
             [
              0.3333333333333333,
              "#9c179e"
             ],
             [
              0.4444444444444444,
              "#bd3786"
             ],
             [
              0.5555555555555556,
              "#d8576b"
             ],
             [
              0.6666666666666666,
              "#ed7953"
             ],
             [
              0.7777777777777778,
              "#fb9f3a"
             ],
             [
              0.8888888888888888,
              "#fdca26"
             ],
             [
              1,
              "#f0f921"
             ]
            ],
            "type": "histogram2dcontour"
           }
          ],
          "mesh3d": [
           {
            "colorbar": {
             "outlinewidth": 0,
             "ticks": ""
            },
            "type": "mesh3d"
           }
          ],
          "parcoords": [
           {
            "line": {
             "colorbar": {
              "outlinewidth": 0,
              "ticks": ""
             }
            },
            "type": "parcoords"
           }
          ],
          "pie": [
           {
            "automargin": true,
            "type": "pie"
           }
          ],
          "scatter": [
           {
            "fillpattern": {
             "fillmode": "overlay",
             "size": 10,
             "solidity": 0.2
            },
            "type": "scatter"
           }
          ],
          "scatter3d": [
           {
            "line": {
             "colorbar": {
              "outlinewidth": 0,
              "ticks": ""
             }
            },
            "marker": {
             "colorbar": {
              "outlinewidth": 0,
              "ticks": ""
             }
            },
            "type": "scatter3d"
           }
          ],
          "scattercarpet": [
           {
            "marker": {
             "colorbar": {
              "outlinewidth": 0,
              "ticks": ""
             }
            },
            "type": "scattercarpet"
           }
          ],
          "scattergeo": [
           {
            "marker": {
             "colorbar": {
              "outlinewidth": 0,
              "ticks": ""
             }
            },
            "type": "scattergeo"
           }
          ],
          "scattergl": [
           {
            "marker": {
             "colorbar": {
              "outlinewidth": 0,
              "ticks": ""
             }
            },
            "type": "scattergl"
           }
          ],
          "scattermapbox": [
           {
            "marker": {
             "colorbar": {
              "outlinewidth": 0,
              "ticks": ""
             }
            },
            "type": "scattermapbox"
           }
          ],
          "scatterpolar": [
           {
            "marker": {
             "colorbar": {
              "outlinewidth": 0,
              "ticks": ""
             }
            },
            "type": "scatterpolar"
           }
          ],
          "scatterpolargl": [
           {
            "marker": {
             "colorbar": {
              "outlinewidth": 0,
              "ticks": ""
             }
            },
            "type": "scatterpolargl"
           }
          ],
          "scatterternary": [
           {
            "marker": {
             "colorbar": {
              "outlinewidth": 0,
              "ticks": ""
             }
            },
            "type": "scatterternary"
           }
          ],
          "surface": [
           {
            "colorbar": {
             "outlinewidth": 0,
             "ticks": ""
            },
            "colorscale": [
             [
              0,
              "#0d0887"
             ],
             [
              0.1111111111111111,
              "#46039f"
             ],
             [
              0.2222222222222222,
              "#7201a8"
             ],
             [
              0.3333333333333333,
              "#9c179e"
             ],
             [
              0.4444444444444444,
              "#bd3786"
             ],
             [
              0.5555555555555556,
              "#d8576b"
             ],
             [
              0.6666666666666666,
              "#ed7953"
             ],
             [
              0.7777777777777778,
              "#fb9f3a"
             ],
             [
              0.8888888888888888,
              "#fdca26"
             ],
             [
              1,
              "#f0f921"
             ]
            ],
            "type": "surface"
           }
          ],
          "table": [
           {
            "cells": {
             "fill": {
              "color": "#EBF0F8"
             },
             "line": {
              "color": "white"
             }
            },
            "header": {
             "fill": {
              "color": "#C8D4E3"
             },
             "line": {
              "color": "white"
             }
            },
            "type": "table"
           }
          ]
         },
         "layout": {
          "annotationdefaults": {
           "arrowcolor": "#2a3f5f",
           "arrowhead": 0,
           "arrowwidth": 1
          },
          "autotypenumbers": "strict",
          "coloraxis": {
           "colorbar": {
            "outlinewidth": 0,
            "ticks": ""
           }
          },
          "colorscale": {
           "diverging": [
            [
             0,
             "#8e0152"
            ],
            [
             0.1,
             "#c51b7d"
            ],
            [
             0.2,
             "#de77ae"
            ],
            [
             0.3,
             "#f1b6da"
            ],
            [
             0.4,
             "#fde0ef"
            ],
            [
             0.5,
             "#f7f7f7"
            ],
            [
             0.6,
             "#e6f5d0"
            ],
            [
             0.7,
             "#b8e186"
            ],
            [
             0.8,
             "#7fbc41"
            ],
            [
             0.9,
             "#4d9221"
            ],
            [
             1,
             "#276419"
            ]
           ],
           "sequential": [
            [
             0,
             "#0d0887"
            ],
            [
             0.1111111111111111,
             "#46039f"
            ],
            [
             0.2222222222222222,
             "#7201a8"
            ],
            [
             0.3333333333333333,
             "#9c179e"
            ],
            [
             0.4444444444444444,
             "#bd3786"
            ],
            [
             0.5555555555555556,
             "#d8576b"
            ],
            [
             0.6666666666666666,
             "#ed7953"
            ],
            [
             0.7777777777777778,
             "#fb9f3a"
            ],
            [
             0.8888888888888888,
             "#fdca26"
            ],
            [
             1,
             "#f0f921"
            ]
           ],
           "sequentialminus": [
            [
             0,
             "#0d0887"
            ],
            [
             0.1111111111111111,
             "#46039f"
            ],
            [
             0.2222222222222222,
             "#7201a8"
            ],
            [
             0.3333333333333333,
             "#9c179e"
            ],
            [
             0.4444444444444444,
             "#bd3786"
            ],
            [
             0.5555555555555556,
             "#d8576b"
            ],
            [
             0.6666666666666666,
             "#ed7953"
            ],
            [
             0.7777777777777778,
             "#fb9f3a"
            ],
            [
             0.8888888888888888,
             "#fdca26"
            ],
            [
             1,
             "#f0f921"
            ]
           ]
          },
          "colorway": [
           "#636efa",
           "#EF553B",
           "#00cc96",
           "#ab63fa",
           "#FFA15A",
           "#19d3f3",
           "#FF6692",
           "#B6E880",
           "#FF97FF",
           "#FECB52"
          ],
          "font": {
           "color": "#2a3f5f"
          },
          "geo": {
           "bgcolor": "white",
           "lakecolor": "white",
           "landcolor": "white",
           "showlakes": true,
           "showland": true,
           "subunitcolor": "#C8D4E3"
          },
          "hoverlabel": {
           "align": "left"
          },
          "hovermode": "closest",
          "mapbox": {
           "style": "light"
          },
          "paper_bgcolor": "white",
          "plot_bgcolor": "white",
          "polar": {
           "angularaxis": {
            "gridcolor": "#EBF0F8",
            "linecolor": "#EBF0F8",
            "ticks": ""
           },
           "bgcolor": "white",
           "radialaxis": {
            "gridcolor": "#EBF0F8",
            "linecolor": "#EBF0F8",
            "ticks": ""
           }
          },
          "scene": {
           "xaxis": {
            "backgroundcolor": "white",
            "gridcolor": "#DFE8F3",
            "gridwidth": 2,
            "linecolor": "#EBF0F8",
            "showbackground": true,
            "ticks": "",
            "zerolinecolor": "#EBF0F8"
           },
           "yaxis": {
            "backgroundcolor": "white",
            "gridcolor": "#DFE8F3",
            "gridwidth": 2,
            "linecolor": "#EBF0F8",
            "showbackground": true,
            "ticks": "",
            "zerolinecolor": "#EBF0F8"
           },
           "zaxis": {
            "backgroundcolor": "white",
            "gridcolor": "#DFE8F3",
            "gridwidth": 2,
            "linecolor": "#EBF0F8",
            "showbackground": true,
            "ticks": "",
            "zerolinecolor": "#EBF0F8"
           }
          },
          "shapedefaults": {
           "line": {
            "color": "#2a3f5f"
           }
          },
          "ternary": {
           "aaxis": {
            "gridcolor": "#DFE8F3",
            "linecolor": "#A2B1C6",
            "ticks": ""
           },
           "baxis": {
            "gridcolor": "#DFE8F3",
            "linecolor": "#A2B1C6",
            "ticks": ""
           },
           "bgcolor": "white",
           "caxis": {
            "gridcolor": "#DFE8F3",
            "linecolor": "#A2B1C6",
            "ticks": ""
           }
          },
          "title": {
           "x": 0.05
          },
          "xaxis": {
           "automargin": true,
           "gridcolor": "#EBF0F8",
           "linecolor": "#EBF0F8",
           "ticks": "",
           "title": {
            "standoff": 15
           },
           "zerolinecolor": "#EBF0F8",
           "zerolinewidth": 2
          },
          "yaxis": {
           "automargin": true,
           "gridcolor": "#EBF0F8",
           "linecolor": "#EBF0F8",
           "ticks": "",
           "title": {
            "standoff": 15
           },
           "zerolinecolor": "#EBF0F8",
           "zerolinewidth": 2
          }
         }
        },
        "title": {
         "text": "Genre Counts Over Time for Western Movies"
        },
        "xaxis": {
         "anchor": "y",
         "domain": [
          0,
          1
         ],
         "title": {
          "text": "Release Date"
         }
        },
        "yaxis": {
         "anchor": "x",
         "domain": [
          0,
          1
         ],
         "title": {
          "text": "count"
         }
        }
       }
      }
     },
     "metadata": {},
     "output_type": "display_data"
    },
    {
     "data": {
      "application/vnd.jupyter.widget-view+json": {
       "model_id": "708238636222479da4f039397c7a3e13",
       "version_major": 2,
       "version_minor": 0
      },
      "text/plain": [
       "interactive(children=(Dropdown(description='Region', options=('Western', 'Eastern'), value='Western'), Output(…"
      ]
     },
     "metadata": {},
     "output_type": "display_data"
    },
    {
     "data": {
      "text/plain": [
       "<function __main__.interactive_plot(side_genres)>"
      ]
     },
     "execution_count": 219,
     "metadata": {},
     "output_type": "execute_result"
    }
   ],
   "source": [
    "# Interactive widget\n",
    "def interactive_plot(side_genres):\n",
    "    if side_genres == \"Western\":\n",
    "        plot_genres_over_time(western_genres_yearly_counts, \"Western\")\n",
    "    elif side_genres == \"Eastern\":\n",
    "        plot_genres_over_time(eastern_genres_yearly_counts, \"Eastern\")\n",
    "\n",
    "\n",
    "# Use interact with a dropdown\n",
    "interact(\n",
    "    interactive_plot,\n",
    "    side_genres=Dropdown(\n",
    "        options=[\"Western\", \"Eastern\"], value=\"Western\", description=\"Region\"\n",
    "    ),\n",
    ")"
   ]
  },
  {
   "cell_type": "code",
   "execution_count": 220,
   "metadata": {},
   "outputs": [],
   "source": [
    "def plot_genres_over_period(side_genres_counts, side):\n",
    "    # Create the interactive line plot\n",
    "    fig = px.line(\n",
    "        side_genres_counts.reset_index(),\n",
    "        x=\"period\",\n",
    "        y=\"count\",\n",
    "        color=\"genres\",\n",
    "        title=f\"Genre Counts Over Different Periods for {side} Movies\",\n",
    "        labels={\"period\": \"Release Date\", \"Count\": \"Count\", \"Genre\": \"Genres\"},\n",
    "        template=\"plotly_white\",\n",
    "    )\n",
    "\n",
    "    # Make all traces except War invisible by default\n",
    "    fig.for_each_trace(\n",
    "        lambda trace: (\n",
    "            trace.update(visible=\"legendonly\") if trace.name != \"War\" else None\n",
    "        )\n",
    "    )\n",
    "    if side == \"Eastern\":\n",
    "        fig.for_each_trace(lambda trace: trace.update(line_color=\"#ff6347\"))\n",
    "    elif side == \"Western\":\n",
    "        fig.for_each_trace(lambda trace: trace.update(line_color=\"#1f77b4\"))\n",
    "    fig.show()"
   ]
  },
  {
   "cell_type": "code",
   "execution_count": 240,
   "metadata": {},
   "outputs": [
    {
     "data": {
      "application/vnd.plotly.v1+json": {
       "config": {
        "plotlyServerURL": "https://plot.ly"
       },
       "data": [
        {
         "hovertemplate": "genres=Drama<br>Release Date=%{x}<br>count=%{y}<extra></extra>",
         "legendgroup": "Drama",
         "line": {
          "color": "#1f77b4",
          "dash": "solid"
         },
         "marker": {
          "symbol": "circle"
         },
         "mode": "lines",
         "name": "Drama",
         "orientation": "v",
         "showlegend": true,
         "type": "scatter",
         "visible": "legendonly",
         "x": [
          "1945-1953",
          "1954-1962",
          "1963-1974",
          "1975-1984",
          "1985-1995"
         ],
         "xaxis": "x",
         "y": [
          347,
          438,
          362,
          326,
          334
         ],
         "yaxis": "y"
        },
        {
         "hovertemplate": "genres=Crime<br>Release Date=%{x}<br>count=%{y}<extra></extra>",
         "legendgroup": "Crime",
         "line": {
          "color": "#1f77b4",
          "dash": "solid"
         },
         "marker": {
          "symbol": "circle"
         },
         "mode": "lines",
         "name": "Crime",
         "orientation": "v",
         "showlegend": true,
         "type": "scatter",
         "visible": "legendonly",
         "x": [
          "1945-1953",
          "1954-1962",
          "1963-1974",
          "1975-1984",
          "1985-1995"
         ],
         "xaxis": "x",
         "y": [
          170,
          148,
          197,
          175,
          191
         ],
         "yaxis": "y"
        },
        {
         "hovertemplate": "genres=Romance<br>Release Date=%{x}<br>count=%{y}<extra></extra>",
         "legendgroup": "Romance",
         "line": {
          "color": "#1f77b4",
          "dash": "solid"
         },
         "marker": {
          "symbol": "circle"
         },
         "mode": "lines",
         "name": "Romance",
         "orientation": "v",
         "showlegend": true,
         "type": "scatter",
         "visible": "legendonly",
         "x": [
          "1945-1953",
          "1954-1962",
          "1963-1974",
          "1975-1984",
          "1985-1995"
         ],
         "xaxis": "x",
         "y": [
          128,
          129,
          80,
          77,
          73
         ],
         "yaxis": "y"
        },
        {
         "hovertemplate": "genres=Thriller<br>Release Date=%{x}<br>count=%{y}<extra></extra>",
         "legendgroup": "Thriller",
         "line": {
          "color": "#1f77b4",
          "dash": "solid"
         },
         "marker": {
          "symbol": "circle"
         },
         "mode": "lines",
         "name": "Thriller",
         "orientation": "v",
         "showlegend": true,
         "type": "scatter",
         "visible": "legendonly",
         "x": [
          "1945-1953",
          "1954-1962",
          "1963-1974",
          "1975-1984",
          "1985-1995"
         ],
         "xaxis": "x",
         "y": [
          112,
          111,
          188,
          185,
          252
         ],
         "yaxis": "y"
        },
        {
         "hovertemplate": "genres=Action<br>Release Date=%{x}<br>count=%{y}<extra></extra>",
         "legendgroup": "Action",
         "line": {
          "color": "#1f77b4",
          "dash": "solid"
         },
         "marker": {
          "symbol": "circle"
         },
         "mode": "lines",
         "name": "Action",
         "orientation": "v",
         "showlegend": true,
         "type": "scatter",
         "visible": "legendonly",
         "x": [
          "1945-1953",
          "1954-1962",
          "1963-1974",
          "1975-1984",
          "1985-1995"
         ],
         "xaxis": "x",
         "y": [
          109,
          169,
          239,
          269,
          417
         ],
         "yaxis": "y"
        },
        {
         "hovertemplate": "genres=Comedy<br>Release Date=%{x}<br>count=%{y}<extra></extra>",
         "legendgroup": "Comedy",
         "line": {
          "color": "#1f77b4",
          "dash": "solid"
         },
         "marker": {
          "symbol": "circle"
         },
         "mode": "lines",
         "name": "Comedy",
         "orientation": "v",
         "showlegend": true,
         "type": "scatter",
         "visible": "legendonly",
         "x": [
          "1945-1953",
          "1954-1962",
          "1963-1974",
          "1975-1984",
          "1985-1995"
         ],
         "xaxis": "x",
         "y": [
          97,
          124,
          203,
          138,
          189
         ],
         "yaxis": "y"
        },
        {
         "hovertemplate": "genres=Adventure<br>Release Date=%{x}<br>count=%{y}<extra></extra>",
         "legendgroup": "Adventure",
         "line": {
          "color": "#1f77b4",
          "dash": "solid"
         },
         "marker": {
          "symbol": "circle"
         },
         "mode": "lines",
         "name": "Adventure",
         "orientation": "v",
         "showlegend": true,
         "type": "scatter",
         "visible": "legendonly",
         "x": [
          "1945-1953",
          "1954-1962",
          "1963-1974",
          "1975-1984",
          "1985-1995"
         ],
         "xaxis": "x",
         "y": [
          88,
          121,
          163,
          134,
          167
         ],
         "yaxis": "y"
        },
        {
         "hovertemplate": "genres=War<br>Release Date=%{x}<br>count=%{y}<extra></extra>",
         "legendgroup": "War",
         "line": {
          "color": "#1f77b4",
          "dash": "solid"
         },
         "marker": {
          "symbol": "circle"
         },
         "mode": "lines",
         "name": "War",
         "orientation": "v",
         "showlegend": true,
         "type": "scatter",
         "x": [
          "1945-1953",
          "1954-1962",
          "1963-1974",
          "1975-1984",
          "1985-1995"
         ],
         "xaxis": "x",
         "y": [
          77,
          128,
          103,
          56,
          76
         ],
         "yaxis": "y"
        },
        {
         "hovertemplate": "genres=Mystery<br>Release Date=%{x}<br>count=%{y}<extra></extra>",
         "legendgroup": "Mystery",
         "line": {
          "color": "#1f77b4",
          "dash": "solid"
         },
         "marker": {
          "symbol": "circle"
         },
         "mode": "lines",
         "name": "Mystery",
         "orientation": "v",
         "showlegend": true,
         "type": "scatter",
         "visible": "legendonly",
         "x": [
          "1945-1953",
          "1954-1962",
          "1963-1974",
          "1975-1984",
          "1985-1995"
         ],
         "xaxis": "x",
         "y": [
          50,
          36,
          58,
          46,
          46
         ],
         "yaxis": "y"
        },
        {
         "hovertemplate": "genres=Family<br>Release Date=%{x}<br>count=%{y}<extra></extra>",
         "legendgroup": "Family",
         "line": {
          "color": "#1f77b4",
          "dash": "solid"
         },
         "marker": {
          "symbol": "circle"
         },
         "mode": "lines",
         "name": "Family",
         "orientation": "v",
         "showlegend": true,
         "type": "scatter",
         "visible": "legendonly",
         "x": [
          "1945-1953",
          "1954-1962",
          "1963-1974",
          "1975-1984",
          "1985-1995"
         ],
         "xaxis": "x",
         "y": [
          19,
          23,
          25,
          25,
          37
         ],
         "yaxis": "y"
        },
        {
         "hovertemplate": "genres=Fantasy<br>Release Date=%{x}<br>count=%{y}<extra></extra>",
         "legendgroup": "Fantasy",
         "line": {
          "color": "#1f77b4",
          "dash": "solid"
         },
         "marker": {
          "symbol": "circle"
         },
         "mode": "lines",
         "name": "Fantasy",
         "orientation": "v",
         "showlegend": true,
         "type": "scatter",
         "visible": "legendonly",
         "x": [
          "1945-1953",
          "1954-1962",
          "1963-1974",
          "1975-1984",
          "1985-1995"
         ],
         "xaxis": "x",
         "y": [
          11,
          23,
          13,
          19,
          25
         ],
         "yaxis": "y"
        },
        {
         "hovertemplate": "genres=Horror<br>Release Date=%{x}<br>count=%{y}<extra></extra>",
         "legendgroup": "Horror",
         "line": {
          "color": "#1f77b4",
          "dash": "solid"
         },
         "marker": {
          "symbol": "circle"
         },
         "mode": "lines",
         "name": "Horror",
         "orientation": "v",
         "showlegend": true,
         "type": "scatter",
         "visible": "legendonly",
         "x": [
          "1945-1953",
          "1954-1962",
          "1963-1974",
          "1975-1984",
          "1985-1995"
         ],
         "xaxis": "x",
         "y": [
          10,
          43,
          27,
          29,
          39
         ],
         "yaxis": "y"
        }
       ],
       "layout": {
        "legend": {
         "title": {
          "text": "genres"
         },
         "tracegroupgap": 0
        },
        "template": {
         "data": {
          "bar": [
           {
            "error_x": {
             "color": "#2a3f5f"
            },
            "error_y": {
             "color": "#2a3f5f"
            },
            "marker": {
             "line": {
              "color": "white",
              "width": 0.5
             },
             "pattern": {
              "fillmode": "overlay",
              "size": 10,
              "solidity": 0.2
             }
            },
            "type": "bar"
           }
          ],
          "barpolar": [
           {
            "marker": {
             "line": {
              "color": "white",
              "width": 0.5
             },
             "pattern": {
              "fillmode": "overlay",
              "size": 10,
              "solidity": 0.2
             }
            },
            "type": "barpolar"
           }
          ],
          "carpet": [
           {
            "aaxis": {
             "endlinecolor": "#2a3f5f",
             "gridcolor": "#C8D4E3",
             "linecolor": "#C8D4E3",
             "minorgridcolor": "#C8D4E3",
             "startlinecolor": "#2a3f5f"
            },
            "baxis": {
             "endlinecolor": "#2a3f5f",
             "gridcolor": "#C8D4E3",
             "linecolor": "#C8D4E3",
             "minorgridcolor": "#C8D4E3",
             "startlinecolor": "#2a3f5f"
            },
            "type": "carpet"
           }
          ],
          "choropleth": [
           {
            "colorbar": {
             "outlinewidth": 0,
             "ticks": ""
            },
            "type": "choropleth"
           }
          ],
          "contour": [
           {
            "colorbar": {
             "outlinewidth": 0,
             "ticks": ""
            },
            "colorscale": [
             [
              0,
              "#0d0887"
             ],
             [
              0.1111111111111111,
              "#46039f"
             ],
             [
              0.2222222222222222,
              "#7201a8"
             ],
             [
              0.3333333333333333,
              "#9c179e"
             ],
             [
              0.4444444444444444,
              "#bd3786"
             ],
             [
              0.5555555555555556,
              "#d8576b"
             ],
             [
              0.6666666666666666,
              "#ed7953"
             ],
             [
              0.7777777777777778,
              "#fb9f3a"
             ],
             [
              0.8888888888888888,
              "#fdca26"
             ],
             [
              1,
              "#f0f921"
             ]
            ],
            "type": "contour"
           }
          ],
          "contourcarpet": [
           {
            "colorbar": {
             "outlinewidth": 0,
             "ticks": ""
            },
            "type": "contourcarpet"
           }
          ],
          "heatmap": [
           {
            "colorbar": {
             "outlinewidth": 0,
             "ticks": ""
            },
            "colorscale": [
             [
              0,
              "#0d0887"
             ],
             [
              0.1111111111111111,
              "#46039f"
             ],
             [
              0.2222222222222222,
              "#7201a8"
             ],
             [
              0.3333333333333333,
              "#9c179e"
             ],
             [
              0.4444444444444444,
              "#bd3786"
             ],
             [
              0.5555555555555556,
              "#d8576b"
             ],
             [
              0.6666666666666666,
              "#ed7953"
             ],
             [
              0.7777777777777778,
              "#fb9f3a"
             ],
             [
              0.8888888888888888,
              "#fdca26"
             ],
             [
              1,
              "#f0f921"
             ]
            ],
            "type": "heatmap"
           }
          ],
          "heatmapgl": [
           {
            "colorbar": {
             "outlinewidth": 0,
             "ticks": ""
            },
            "colorscale": [
             [
              0,
              "#0d0887"
             ],
             [
              0.1111111111111111,
              "#46039f"
             ],
             [
              0.2222222222222222,
              "#7201a8"
             ],
             [
              0.3333333333333333,
              "#9c179e"
             ],
             [
              0.4444444444444444,
              "#bd3786"
             ],
             [
              0.5555555555555556,
              "#d8576b"
             ],
             [
              0.6666666666666666,
              "#ed7953"
             ],
             [
              0.7777777777777778,
              "#fb9f3a"
             ],
             [
              0.8888888888888888,
              "#fdca26"
             ],
             [
              1,
              "#f0f921"
             ]
            ],
            "type": "heatmapgl"
           }
          ],
          "histogram": [
           {
            "marker": {
             "pattern": {
              "fillmode": "overlay",
              "size": 10,
              "solidity": 0.2
             }
            },
            "type": "histogram"
           }
          ],
          "histogram2d": [
           {
            "colorbar": {
             "outlinewidth": 0,
             "ticks": ""
            },
            "colorscale": [
             [
              0,
              "#0d0887"
             ],
             [
              0.1111111111111111,
              "#46039f"
             ],
             [
              0.2222222222222222,
              "#7201a8"
             ],
             [
              0.3333333333333333,
              "#9c179e"
             ],
             [
              0.4444444444444444,
              "#bd3786"
             ],
             [
              0.5555555555555556,
              "#d8576b"
             ],
             [
              0.6666666666666666,
              "#ed7953"
             ],
             [
              0.7777777777777778,
              "#fb9f3a"
             ],
             [
              0.8888888888888888,
              "#fdca26"
             ],
             [
              1,
              "#f0f921"
             ]
            ],
            "type": "histogram2d"
           }
          ],
          "histogram2dcontour": [
           {
            "colorbar": {
             "outlinewidth": 0,
             "ticks": ""
            },
            "colorscale": [
             [
              0,
              "#0d0887"
             ],
             [
              0.1111111111111111,
              "#46039f"
             ],
             [
              0.2222222222222222,
              "#7201a8"
             ],
             [
              0.3333333333333333,
              "#9c179e"
             ],
             [
              0.4444444444444444,
              "#bd3786"
             ],
             [
              0.5555555555555556,
              "#d8576b"
             ],
             [
              0.6666666666666666,
              "#ed7953"
             ],
             [
              0.7777777777777778,
              "#fb9f3a"
             ],
             [
              0.8888888888888888,
              "#fdca26"
             ],
             [
              1,
              "#f0f921"
             ]
            ],
            "type": "histogram2dcontour"
           }
          ],
          "mesh3d": [
           {
            "colorbar": {
             "outlinewidth": 0,
             "ticks": ""
            },
            "type": "mesh3d"
           }
          ],
          "parcoords": [
           {
            "line": {
             "colorbar": {
              "outlinewidth": 0,
              "ticks": ""
             }
            },
            "type": "parcoords"
           }
          ],
          "pie": [
           {
            "automargin": true,
            "type": "pie"
           }
          ],
          "scatter": [
           {
            "fillpattern": {
             "fillmode": "overlay",
             "size": 10,
             "solidity": 0.2
            },
            "type": "scatter"
           }
          ],
          "scatter3d": [
           {
            "line": {
             "colorbar": {
              "outlinewidth": 0,
              "ticks": ""
             }
            },
            "marker": {
             "colorbar": {
              "outlinewidth": 0,
              "ticks": ""
             }
            },
            "type": "scatter3d"
           }
          ],
          "scattercarpet": [
           {
            "marker": {
             "colorbar": {
              "outlinewidth": 0,
              "ticks": ""
             }
            },
            "type": "scattercarpet"
           }
          ],
          "scattergeo": [
           {
            "marker": {
             "colorbar": {
              "outlinewidth": 0,
              "ticks": ""
             }
            },
            "type": "scattergeo"
           }
          ],
          "scattergl": [
           {
            "marker": {
             "colorbar": {
              "outlinewidth": 0,
              "ticks": ""
             }
            },
            "type": "scattergl"
           }
          ],
          "scattermapbox": [
           {
            "marker": {
             "colorbar": {
              "outlinewidth": 0,
              "ticks": ""
             }
            },
            "type": "scattermapbox"
           }
          ],
          "scatterpolar": [
           {
            "marker": {
             "colorbar": {
              "outlinewidth": 0,
              "ticks": ""
             }
            },
            "type": "scatterpolar"
           }
          ],
          "scatterpolargl": [
           {
            "marker": {
             "colorbar": {
              "outlinewidth": 0,
              "ticks": ""
             }
            },
            "type": "scatterpolargl"
           }
          ],
          "scatterternary": [
           {
            "marker": {
             "colorbar": {
              "outlinewidth": 0,
              "ticks": ""
             }
            },
            "type": "scatterternary"
           }
          ],
          "surface": [
           {
            "colorbar": {
             "outlinewidth": 0,
             "ticks": ""
            },
            "colorscale": [
             [
              0,
              "#0d0887"
             ],
             [
              0.1111111111111111,
              "#46039f"
             ],
             [
              0.2222222222222222,
              "#7201a8"
             ],
             [
              0.3333333333333333,
              "#9c179e"
             ],
             [
              0.4444444444444444,
              "#bd3786"
             ],
             [
              0.5555555555555556,
              "#d8576b"
             ],
             [
              0.6666666666666666,
              "#ed7953"
             ],
             [
              0.7777777777777778,
              "#fb9f3a"
             ],
             [
              0.8888888888888888,
              "#fdca26"
             ],
             [
              1,
              "#f0f921"
             ]
            ],
            "type": "surface"
           }
          ],
          "table": [
           {
            "cells": {
             "fill": {
              "color": "#EBF0F8"
             },
             "line": {
              "color": "white"
             }
            },
            "header": {
             "fill": {
              "color": "#C8D4E3"
             },
             "line": {
              "color": "white"
             }
            },
            "type": "table"
           }
          ]
         },
         "layout": {
          "annotationdefaults": {
           "arrowcolor": "#2a3f5f",
           "arrowhead": 0,
           "arrowwidth": 1
          },
          "autotypenumbers": "strict",
          "coloraxis": {
           "colorbar": {
            "outlinewidth": 0,
            "ticks": ""
           }
          },
          "colorscale": {
           "diverging": [
            [
             0,
             "#8e0152"
            ],
            [
             0.1,
             "#c51b7d"
            ],
            [
             0.2,
             "#de77ae"
            ],
            [
             0.3,
             "#f1b6da"
            ],
            [
             0.4,
             "#fde0ef"
            ],
            [
             0.5,
             "#f7f7f7"
            ],
            [
             0.6,
             "#e6f5d0"
            ],
            [
             0.7,
             "#b8e186"
            ],
            [
             0.8,
             "#7fbc41"
            ],
            [
             0.9,
             "#4d9221"
            ],
            [
             1,
             "#276419"
            ]
           ],
           "sequential": [
            [
             0,
             "#0d0887"
            ],
            [
             0.1111111111111111,
             "#46039f"
            ],
            [
             0.2222222222222222,
             "#7201a8"
            ],
            [
             0.3333333333333333,
             "#9c179e"
            ],
            [
             0.4444444444444444,
             "#bd3786"
            ],
            [
             0.5555555555555556,
             "#d8576b"
            ],
            [
             0.6666666666666666,
             "#ed7953"
            ],
            [
             0.7777777777777778,
             "#fb9f3a"
            ],
            [
             0.8888888888888888,
             "#fdca26"
            ],
            [
             1,
             "#f0f921"
            ]
           ],
           "sequentialminus": [
            [
             0,
             "#0d0887"
            ],
            [
             0.1111111111111111,
             "#46039f"
            ],
            [
             0.2222222222222222,
             "#7201a8"
            ],
            [
             0.3333333333333333,
             "#9c179e"
            ],
            [
             0.4444444444444444,
             "#bd3786"
            ],
            [
             0.5555555555555556,
             "#d8576b"
            ],
            [
             0.6666666666666666,
             "#ed7953"
            ],
            [
             0.7777777777777778,
             "#fb9f3a"
            ],
            [
             0.8888888888888888,
             "#fdca26"
            ],
            [
             1,
             "#f0f921"
            ]
           ]
          },
          "colorway": [
           "#636efa",
           "#EF553B",
           "#00cc96",
           "#ab63fa",
           "#FFA15A",
           "#19d3f3",
           "#FF6692",
           "#B6E880",
           "#FF97FF",
           "#FECB52"
          ],
          "font": {
           "color": "#2a3f5f"
          },
          "geo": {
           "bgcolor": "white",
           "lakecolor": "white",
           "landcolor": "white",
           "showlakes": true,
           "showland": true,
           "subunitcolor": "#C8D4E3"
          },
          "hoverlabel": {
           "align": "left"
          },
          "hovermode": "closest",
          "mapbox": {
           "style": "light"
          },
          "paper_bgcolor": "white",
          "plot_bgcolor": "white",
          "polar": {
           "angularaxis": {
            "gridcolor": "#EBF0F8",
            "linecolor": "#EBF0F8",
            "ticks": ""
           },
           "bgcolor": "white",
           "radialaxis": {
            "gridcolor": "#EBF0F8",
            "linecolor": "#EBF0F8",
            "ticks": ""
           }
          },
          "scene": {
           "xaxis": {
            "backgroundcolor": "white",
            "gridcolor": "#DFE8F3",
            "gridwidth": 2,
            "linecolor": "#EBF0F8",
            "showbackground": true,
            "ticks": "",
            "zerolinecolor": "#EBF0F8"
           },
           "yaxis": {
            "backgroundcolor": "white",
            "gridcolor": "#DFE8F3",
            "gridwidth": 2,
            "linecolor": "#EBF0F8",
            "showbackground": true,
            "ticks": "",
            "zerolinecolor": "#EBF0F8"
           },
           "zaxis": {
            "backgroundcolor": "white",
            "gridcolor": "#DFE8F3",
            "gridwidth": 2,
            "linecolor": "#EBF0F8",
            "showbackground": true,
            "ticks": "",
            "zerolinecolor": "#EBF0F8"
           }
          },
          "shapedefaults": {
           "line": {
            "color": "#2a3f5f"
           }
          },
          "ternary": {
           "aaxis": {
            "gridcolor": "#DFE8F3",
            "linecolor": "#A2B1C6",
            "ticks": ""
           },
           "baxis": {
            "gridcolor": "#DFE8F3",
            "linecolor": "#A2B1C6",
            "ticks": ""
           },
           "bgcolor": "white",
           "caxis": {
            "gridcolor": "#DFE8F3",
            "linecolor": "#A2B1C6",
            "ticks": ""
           }
          },
          "title": {
           "x": 0.05
          },
          "xaxis": {
           "automargin": true,
           "gridcolor": "#EBF0F8",
           "linecolor": "#EBF0F8",
           "ticks": "",
           "title": {
            "standoff": 15
           },
           "zerolinecolor": "#EBF0F8",
           "zerolinewidth": 2
          },
          "yaxis": {
           "automargin": true,
           "gridcolor": "#EBF0F8",
           "linecolor": "#EBF0F8",
           "ticks": "",
           "title": {
            "standoff": 15
           },
           "zerolinecolor": "#EBF0F8",
           "zerolinewidth": 2
          }
         }
        },
        "title": {
         "text": "Genre Counts Over Different Periods for Western Movies"
        },
        "xaxis": {
         "anchor": "y",
         "domain": [
          0,
          1
         ],
         "title": {
          "text": "Release Date"
         }
        },
        "yaxis": {
         "anchor": "x",
         "domain": [
          0,
          1
         ],
         "title": {
          "text": "count"
         }
        }
       }
      }
     },
     "metadata": {},
     "output_type": "display_data"
    },
    {
     "data": {
      "application/vnd.jupyter.widget-view+json": {
       "model_id": "dabc3ad2a6d44d54a47c605947f4b337",
       "version_major": 2,
       "version_minor": 0
      },
      "text/plain": [
       "interactive(children=(Dropdown(description='Region', options=('Western', 'Eastern'), value='Western'), Output(…"
      ]
     },
     "metadata": {},
     "output_type": "display_data"
    },
    {
     "data": {
      "text/plain": [
       "<function __main__.interactive_plot(side_genres)>"
      ]
     },
     "execution_count": 240,
     "metadata": {},
     "output_type": "execute_result"
    }
   ],
   "source": [
    "bins = [1945, 1953, 1962, 1974, 1984, 1995]\n",
    "labels = [\"1945-1953\", \"1954-1962\", \"1963-1974\", \"1975-1984\", \"1985-1995\"]\n",
    "\n",
    "# bins = list(range(1945, 1996, 5))\n",
    "# labels = [f\"{bins[i]}-{bins[i+1]-1}\" for i in range(len(bins) - 1)]\n",
    "\n",
    "genres_df[\"period\"] = pd.cut(genres_df[\"release_date\"], bins, labels=labels, right=True)\n",
    "\n",
    "period_counts = (\n",
    "    genres_df.explode(\"genres\")\n",
    "    .groupby([\"period\", \"cold_war_side\"], observed=False)[\"genres\"]\n",
    "    .value_counts()\n",
    "    .reset_index()\n",
    ")\n",
    "period_counts = period_counts[period_counts[\"genres\"].isin(common_genres)]\n",
    "eastern_period_counts = period_counts[\n",
    "    period_counts[\"cold_war_side\"] == \"Eastern\"\n",
    "].reset_index()\n",
    "western_period_counts = period_counts[\n",
    "    period_counts[\"cold_war_side\"] == \"Western\"\n",
    "].reset_index()\n",
    "\n",
    "\n",
    "# Interactive widget\n",
    "def interactive_plot(side_genres):\n",
    "    if side_genres == \"Western\":\n",
    "        plot_genres_over_period(western_period_counts, \"Western\")\n",
    "    elif side_genres == \"Eastern\":\n",
    "        plot_genres_over_period(eastern_period_counts, \"Eastern\")\n",
    "\n",
    "\n",
    "# Use interact with a dropdown\n",
    "interact(\n",
    "    interactive_plot,\n",
    "    side_genres=Dropdown(\n",
    "        options=[\"Western\", \"Eastern\"], value=\"Western\", description=\"Region\"\n",
    "    ),\n",
    ")"
   ]
  },
  {
   "cell_type": "code",
   "execution_count": 241,
   "metadata": {},
   "outputs": [
    {
     "data": {
      "application/vnd.plotly.v1+json": {
       "config": {
        "plotlyServerURL": "https://plot.ly"
       },
       "data": [
        {
         "alignmentgroup": "True",
         "hovertemplate": "cold_war_side=Eastern<br>Period=%{x}<br>Count=%{y}<extra></extra>",
         "legendgroup": "Eastern",
         "marker": {
          "color": "#636efa",
          "pattern": {
           "shape": ""
          }
         },
         "name": "Eastern",
         "offsetgroup": "Eastern",
         "orientation": "v",
         "showlegend": true,
         "textposition": "auto",
         "type": "bar",
         "x": [
          "1945-1953",
          "1954-1962",
          "1963-1974",
          "1975-1984",
          "1985-1995"
         ],
         "xaxis": "x",
         "y": [
          53,
          136,
          182,
          72,
          43
         ],
         "yaxis": "y"
        },
        {
         "alignmentgroup": "True",
         "hovertemplate": "cold_war_side=Western<br>Period=%{x}<br>Count=%{y}<extra></extra>",
         "legendgroup": "Western",
         "marker": {
          "color": "#EF553B",
          "pattern": {
           "shape": ""
          }
         },
         "name": "Western",
         "offsetgroup": "Western",
         "orientation": "v",
         "showlegend": true,
         "textposition": "auto",
         "type": "bar",
         "x": [
          "1945-1953",
          "1954-1962",
          "1963-1974",
          "1975-1984",
          "1985-1995"
         ],
         "xaxis": "x",
         "y": [
          77,
          128,
          103,
          56,
          76
         ],
         "yaxis": "y"
        }
       ],
       "layout": {
        "barmode": "group",
        "hovermode": "x unified",
        "legend": {
         "title": {
          "text": "cold_war_side"
         },
         "tracegroupgap": 0
        },
        "template": {
         "data": {
          "bar": [
           {
            "error_x": {
             "color": "#2a3f5f"
            },
            "error_y": {
             "color": "#2a3f5f"
            },
            "marker": {
             "line": {
              "color": "white",
              "width": 0.5
             },
             "pattern": {
              "fillmode": "overlay",
              "size": 10,
              "solidity": 0.2
             }
            },
            "type": "bar"
           }
          ],
          "barpolar": [
           {
            "marker": {
             "line": {
              "color": "white",
              "width": 0.5
             },
             "pattern": {
              "fillmode": "overlay",
              "size": 10,
              "solidity": 0.2
             }
            },
            "type": "barpolar"
           }
          ],
          "carpet": [
           {
            "aaxis": {
             "endlinecolor": "#2a3f5f",
             "gridcolor": "#C8D4E3",
             "linecolor": "#C8D4E3",
             "minorgridcolor": "#C8D4E3",
             "startlinecolor": "#2a3f5f"
            },
            "baxis": {
             "endlinecolor": "#2a3f5f",
             "gridcolor": "#C8D4E3",
             "linecolor": "#C8D4E3",
             "minorgridcolor": "#C8D4E3",
             "startlinecolor": "#2a3f5f"
            },
            "type": "carpet"
           }
          ],
          "choropleth": [
           {
            "colorbar": {
             "outlinewidth": 0,
             "ticks": ""
            },
            "type": "choropleth"
           }
          ],
          "contour": [
           {
            "colorbar": {
             "outlinewidth": 0,
             "ticks": ""
            },
            "colorscale": [
             [
              0,
              "#0d0887"
             ],
             [
              0.1111111111111111,
              "#46039f"
             ],
             [
              0.2222222222222222,
              "#7201a8"
             ],
             [
              0.3333333333333333,
              "#9c179e"
             ],
             [
              0.4444444444444444,
              "#bd3786"
             ],
             [
              0.5555555555555556,
              "#d8576b"
             ],
             [
              0.6666666666666666,
              "#ed7953"
             ],
             [
              0.7777777777777778,
              "#fb9f3a"
             ],
             [
              0.8888888888888888,
              "#fdca26"
             ],
             [
              1,
              "#f0f921"
             ]
            ],
            "type": "contour"
           }
          ],
          "contourcarpet": [
           {
            "colorbar": {
             "outlinewidth": 0,
             "ticks": ""
            },
            "type": "contourcarpet"
           }
          ],
          "heatmap": [
           {
            "colorbar": {
             "outlinewidth": 0,
             "ticks": ""
            },
            "colorscale": [
             [
              0,
              "#0d0887"
             ],
             [
              0.1111111111111111,
              "#46039f"
             ],
             [
              0.2222222222222222,
              "#7201a8"
             ],
             [
              0.3333333333333333,
              "#9c179e"
             ],
             [
              0.4444444444444444,
              "#bd3786"
             ],
             [
              0.5555555555555556,
              "#d8576b"
             ],
             [
              0.6666666666666666,
              "#ed7953"
             ],
             [
              0.7777777777777778,
              "#fb9f3a"
             ],
             [
              0.8888888888888888,
              "#fdca26"
             ],
             [
              1,
              "#f0f921"
             ]
            ],
            "type": "heatmap"
           }
          ],
          "heatmapgl": [
           {
            "colorbar": {
             "outlinewidth": 0,
             "ticks": ""
            },
            "colorscale": [
             [
              0,
              "#0d0887"
             ],
             [
              0.1111111111111111,
              "#46039f"
             ],
             [
              0.2222222222222222,
              "#7201a8"
             ],
             [
              0.3333333333333333,
              "#9c179e"
             ],
             [
              0.4444444444444444,
              "#bd3786"
             ],
             [
              0.5555555555555556,
              "#d8576b"
             ],
             [
              0.6666666666666666,
              "#ed7953"
             ],
             [
              0.7777777777777778,
              "#fb9f3a"
             ],
             [
              0.8888888888888888,
              "#fdca26"
             ],
             [
              1,
              "#f0f921"
             ]
            ],
            "type": "heatmapgl"
           }
          ],
          "histogram": [
           {
            "marker": {
             "pattern": {
              "fillmode": "overlay",
              "size": 10,
              "solidity": 0.2
             }
            },
            "type": "histogram"
           }
          ],
          "histogram2d": [
           {
            "colorbar": {
             "outlinewidth": 0,
             "ticks": ""
            },
            "colorscale": [
             [
              0,
              "#0d0887"
             ],
             [
              0.1111111111111111,
              "#46039f"
             ],
             [
              0.2222222222222222,
              "#7201a8"
             ],
             [
              0.3333333333333333,
              "#9c179e"
             ],
             [
              0.4444444444444444,
              "#bd3786"
             ],
             [
              0.5555555555555556,
              "#d8576b"
             ],
             [
              0.6666666666666666,
              "#ed7953"
             ],
             [
              0.7777777777777778,
              "#fb9f3a"
             ],
             [
              0.8888888888888888,
              "#fdca26"
             ],
             [
              1,
              "#f0f921"
             ]
            ],
            "type": "histogram2d"
           }
          ],
          "histogram2dcontour": [
           {
            "colorbar": {
             "outlinewidth": 0,
             "ticks": ""
            },
            "colorscale": [
             [
              0,
              "#0d0887"
             ],
             [
              0.1111111111111111,
              "#46039f"
             ],
             [
              0.2222222222222222,
              "#7201a8"
             ],
             [
              0.3333333333333333,
              "#9c179e"
             ],
             [
              0.4444444444444444,
              "#bd3786"
             ],
             [
              0.5555555555555556,
              "#d8576b"
             ],
             [
              0.6666666666666666,
              "#ed7953"
             ],
             [
              0.7777777777777778,
              "#fb9f3a"
             ],
             [
              0.8888888888888888,
              "#fdca26"
             ],
             [
              1,
              "#f0f921"
             ]
            ],
            "type": "histogram2dcontour"
           }
          ],
          "mesh3d": [
           {
            "colorbar": {
             "outlinewidth": 0,
             "ticks": ""
            },
            "type": "mesh3d"
           }
          ],
          "parcoords": [
           {
            "line": {
             "colorbar": {
              "outlinewidth": 0,
              "ticks": ""
             }
            },
            "type": "parcoords"
           }
          ],
          "pie": [
           {
            "automargin": true,
            "type": "pie"
           }
          ],
          "scatter": [
           {
            "fillpattern": {
             "fillmode": "overlay",
             "size": 10,
             "solidity": 0.2
            },
            "type": "scatter"
           }
          ],
          "scatter3d": [
           {
            "line": {
             "colorbar": {
              "outlinewidth": 0,
              "ticks": ""
             }
            },
            "marker": {
             "colorbar": {
              "outlinewidth": 0,
              "ticks": ""
             }
            },
            "type": "scatter3d"
           }
          ],
          "scattercarpet": [
           {
            "marker": {
             "colorbar": {
              "outlinewidth": 0,
              "ticks": ""
             }
            },
            "type": "scattercarpet"
           }
          ],
          "scattergeo": [
           {
            "marker": {
             "colorbar": {
              "outlinewidth": 0,
              "ticks": ""
             }
            },
            "type": "scattergeo"
           }
          ],
          "scattergl": [
           {
            "marker": {
             "colorbar": {
              "outlinewidth": 0,
              "ticks": ""
             }
            },
            "type": "scattergl"
           }
          ],
          "scattermapbox": [
           {
            "marker": {
             "colorbar": {
              "outlinewidth": 0,
              "ticks": ""
             }
            },
            "type": "scattermapbox"
           }
          ],
          "scatterpolar": [
           {
            "marker": {
             "colorbar": {
              "outlinewidth": 0,
              "ticks": ""
             }
            },
            "type": "scatterpolar"
           }
          ],
          "scatterpolargl": [
           {
            "marker": {
             "colorbar": {
              "outlinewidth": 0,
              "ticks": ""
             }
            },
            "type": "scatterpolargl"
           }
          ],
          "scatterternary": [
           {
            "marker": {
             "colorbar": {
              "outlinewidth": 0,
              "ticks": ""
             }
            },
            "type": "scatterternary"
           }
          ],
          "surface": [
           {
            "colorbar": {
             "outlinewidth": 0,
             "ticks": ""
            },
            "colorscale": [
             [
              0,
              "#0d0887"
             ],
             [
              0.1111111111111111,
              "#46039f"
             ],
             [
              0.2222222222222222,
              "#7201a8"
             ],
             [
              0.3333333333333333,
              "#9c179e"
             ],
             [
              0.4444444444444444,
              "#bd3786"
             ],
             [
              0.5555555555555556,
              "#d8576b"
             ],
             [
              0.6666666666666666,
              "#ed7953"
             ],
             [
              0.7777777777777778,
              "#fb9f3a"
             ],
             [
              0.8888888888888888,
              "#fdca26"
             ],
             [
              1,
              "#f0f921"
             ]
            ],
            "type": "surface"
           }
          ],
          "table": [
           {
            "cells": {
             "fill": {
              "color": "#EBF0F8"
             },
             "line": {
              "color": "white"
             }
            },
            "header": {
             "fill": {
              "color": "#C8D4E3"
             },
             "line": {
              "color": "white"
             }
            },
            "type": "table"
           }
          ]
         },
         "layout": {
          "annotationdefaults": {
           "arrowcolor": "#2a3f5f",
           "arrowhead": 0,
           "arrowwidth": 1
          },
          "autotypenumbers": "strict",
          "coloraxis": {
           "colorbar": {
            "outlinewidth": 0,
            "ticks": ""
           }
          },
          "colorscale": {
           "diverging": [
            [
             0,
             "#8e0152"
            ],
            [
             0.1,
             "#c51b7d"
            ],
            [
             0.2,
             "#de77ae"
            ],
            [
             0.3,
             "#f1b6da"
            ],
            [
             0.4,
             "#fde0ef"
            ],
            [
             0.5,
             "#f7f7f7"
            ],
            [
             0.6,
             "#e6f5d0"
            ],
            [
             0.7,
             "#b8e186"
            ],
            [
             0.8,
             "#7fbc41"
            ],
            [
             0.9,
             "#4d9221"
            ],
            [
             1,
             "#276419"
            ]
           ],
           "sequential": [
            [
             0,
             "#0d0887"
            ],
            [
             0.1111111111111111,
             "#46039f"
            ],
            [
             0.2222222222222222,
             "#7201a8"
            ],
            [
             0.3333333333333333,
             "#9c179e"
            ],
            [
             0.4444444444444444,
             "#bd3786"
            ],
            [
             0.5555555555555556,
             "#d8576b"
            ],
            [
             0.6666666666666666,
             "#ed7953"
            ],
            [
             0.7777777777777778,
             "#fb9f3a"
            ],
            [
             0.8888888888888888,
             "#fdca26"
            ],
            [
             1,
             "#f0f921"
            ]
           ],
           "sequentialminus": [
            [
             0,
             "#0d0887"
            ],
            [
             0.1111111111111111,
             "#46039f"
            ],
            [
             0.2222222222222222,
             "#7201a8"
            ],
            [
             0.3333333333333333,
             "#9c179e"
            ],
            [
             0.4444444444444444,
             "#bd3786"
            ],
            [
             0.5555555555555556,
             "#d8576b"
            ],
            [
             0.6666666666666666,
             "#ed7953"
            ],
            [
             0.7777777777777778,
             "#fb9f3a"
            ],
            [
             0.8888888888888888,
             "#fdca26"
            ],
            [
             1,
             "#f0f921"
            ]
           ]
          },
          "colorway": [
           "#636efa",
           "#EF553B",
           "#00cc96",
           "#ab63fa",
           "#FFA15A",
           "#19d3f3",
           "#FF6692",
           "#B6E880",
           "#FF97FF",
           "#FECB52"
          ],
          "font": {
           "color": "#2a3f5f"
          },
          "geo": {
           "bgcolor": "white",
           "lakecolor": "white",
           "landcolor": "white",
           "showlakes": true,
           "showland": true,
           "subunitcolor": "#C8D4E3"
          },
          "hoverlabel": {
           "align": "left"
          },
          "hovermode": "closest",
          "mapbox": {
           "style": "light"
          },
          "paper_bgcolor": "white",
          "plot_bgcolor": "white",
          "polar": {
           "angularaxis": {
            "gridcolor": "#EBF0F8",
            "linecolor": "#EBF0F8",
            "ticks": ""
           },
           "bgcolor": "white",
           "radialaxis": {
            "gridcolor": "#EBF0F8",
            "linecolor": "#EBF0F8",
            "ticks": ""
           }
          },
          "scene": {
           "xaxis": {
            "backgroundcolor": "white",
            "gridcolor": "#DFE8F3",
            "gridwidth": 2,
            "linecolor": "#EBF0F8",
            "showbackground": true,
            "ticks": "",
            "zerolinecolor": "#EBF0F8"
           },
           "yaxis": {
            "backgroundcolor": "white",
            "gridcolor": "#DFE8F3",
            "gridwidth": 2,
            "linecolor": "#EBF0F8",
            "showbackground": true,
            "ticks": "",
            "zerolinecolor": "#EBF0F8"
           },
           "zaxis": {
            "backgroundcolor": "white",
            "gridcolor": "#DFE8F3",
            "gridwidth": 2,
            "linecolor": "#EBF0F8",
            "showbackground": true,
            "ticks": "",
            "zerolinecolor": "#EBF0F8"
           }
          },
          "shapedefaults": {
           "line": {
            "color": "#2a3f5f"
           }
          },
          "ternary": {
           "aaxis": {
            "gridcolor": "#DFE8F3",
            "linecolor": "#A2B1C6",
            "ticks": ""
           },
           "baxis": {
            "gridcolor": "#DFE8F3",
            "linecolor": "#A2B1C6",
            "ticks": ""
           },
           "bgcolor": "white",
           "caxis": {
            "gridcolor": "#DFE8F3",
            "linecolor": "#A2B1C6",
            "ticks": ""
           }
          },
          "title": {
           "x": 0.05
          },
          "xaxis": {
           "automargin": true,
           "gridcolor": "#EBF0F8",
           "linecolor": "#EBF0F8",
           "ticks": "",
           "title": {
            "standoff": 15
           },
           "zerolinecolor": "#EBF0F8",
           "zerolinewidth": 2
          },
          "yaxis": {
           "automargin": true,
           "gridcolor": "#EBF0F8",
           "linecolor": "#EBF0F8",
           "ticks": "",
           "title": {
            "standoff": 15
           },
           "zerolinecolor": "#EBF0F8",
           "zerolinewidth": 2
          }
         }
        },
        "title": {
         "text": "War Movie Counts Over Different Periods",
         "x": 0.5,
         "xanchor": "center"
        },
        "xaxis": {
         "anchor": "y",
         "domain": [
          0,
          1
         ],
         "title": {
          "text": "Period"
         }
        },
        "yaxis": {
         "anchor": "x",
         "domain": [
          0,
          1
         ],
         "title": {
          "text": "Count"
         }
        }
       }
      }
     },
     "metadata": {},
     "output_type": "display_data"
    },
    {
     "data": {
      "application/vnd.jupyter.widget-view+json": {
       "model_id": "411845e16563416584e6bebc6c626a5a",
       "version_major": 2,
       "version_minor": 0
      },
      "text/plain": [
       "interactive(children=(Dropdown(description='Genre', index=10, options=('Drama', 'Comedy', 'Romance', 'Action',…"
      ]
     },
     "metadata": {},
     "output_type": "display_data"
    },
    {
     "data": {
      "text/plain": [
       "<function __main__.<lambda>(genre)>"
      ]
     },
     "execution_count": 241,
     "metadata": {},
     "output_type": "execute_result"
    }
   ],
   "source": [
    "# Create Plotly figure function\n",
    "def plot_genre_over_periods(df, genre):\n",
    "    fig = px.bar(\n",
    "        df[df[\"genres\"] == genre],\n",
    "        x=\"period\",\n",
    "        y=\"count\",\n",
    "        color=\"cold_war_side\",\n",
    "        title=f\"{genre} Movie Counts Over Different Periods\",\n",
    "        labels={\"period\": \"Period\", \"count\": \"Count\", \"genres\": \"Genres\"},\n",
    "        template=\"plotly_white\",\n",
    "        barmode=\"group\",\n",
    "    )\n",
    "\n",
    "    fig.update_layout(\n",
    "        hovermode=\"x unified\",\n",
    "        title=dict(x=0.5, xanchor=\"center\"),\n",
    "    )\n",
    "    return fig\n",
    "\n",
    "\n",
    "interact(\n",
    "    lambda genre: plot_genre_over_periods(\n",
    "        period_counts[period_counts[\"cold_war_side\"].isin([\"Western\", \"Eastern\"])],\n",
    "        genre,\n",
    "    ),\n",
    "    genre=Dropdown(options=common_genres, value=\"War\", description=\"Genre\"),\n",
    ")"
   ]
  },
  {
   "cell_type": "markdown",
   "metadata": {},
   "source": [
    "# Theme Analysis"
   ]
  },
  {
   "cell_type": "code",
   "execution_count": 298,
   "metadata": {},
   "outputs": [
    {
     "data": {
      "image/png": "[encoded data removed]",
      "text/plain": [
       "<Figure size 1000x600 with 1 Axes>"
      ]
     },
     "metadata": {},
     "output_type": "display_data"
    }
   ],
   "source": [
    "themes_df = (\n",
    "    movies_df[[\"genres\", \"cold_war_side\", \"theme\", \"release_date\"]]\n",
    "    .explode(\"theme\")\n",
    "    .reset_index()\n",
    ")\n",
    "themes_df[\"theme\"] = themes_df[\"theme\"].str.title().str.strip()\n",
    "themes_df = themes_df[themes_df[\"theme\"] != \"None\"].dropna(subset=\"genres\")\n",
    "\n",
    "theme_counts = themes_df[\"theme\"].value_counts().head(20)\n",
    "# Plot the distribution\n",
    "plt.figure(figsize=(10, 6))\n",
    "\n",
    "sns.barplot(\n",
    "    x=theme_counts.values,\n",
    "    y=theme_counts.index,\n",
    "    palette=\"viridis\",\n",
    "    hue=theme_counts.index,\n",
    ")\n",
    "\n",
    "plt.title(\"Distribution of Genres\")\n",
    "plt.xlabel(\"Count\")\n",
    "plt.ylabel(\"Genre\")\n",
    "plt.show()"
   ]
  },
  {
   "cell_type": "code",
   "execution_count": 323,
   "metadata": {},
   "outputs": [
    {
     "data": {
      "image/png": "[encoded data removed]",
      "text/plain": [
       "<Figure size 2000x900 with 2 Axes>"
      ]
     },
     "metadata": {},
     "output_type": "display_data"
    }
   ],
   "source": [
    "western_theme_counts = (\n",
    "    themes_df[themes_df[\"cold_war_side\"] == \"Western\"][\"theme\"]\n",
    "    .explode(\"theme\")\n",
    "    .value_counts()\n",
    ")\n",
    "eastern_theme_counts = (\n",
    "    themes_df[themes_df[\"cold_war_side\"] == \"Eastern\"][\"theme\"]\n",
    "    .explode(\"theme\")\n",
    "    .value_counts()\n",
    ")\n",
    "\n",
    "plot_distributions(\n",
    "    western_theme_counts,\n",
    "    eastern_theme_counts,\n",
    "    title_western=\"Distribution of Themes for Western Movies\",\n",
    "    title_eastern=\"Distribution of Themes for Eastern Movies\",\n",
    "    ylabel=\"Theme\",\n",
    ")"
   ]
  },
  {
   "cell_type": "code",
   "execution_count": 300,
   "metadata": {},
   "outputs": [
    {
     "data": {
      "image/png": "[encoded data removed]",
      "text/plain": [
       "<Figure size 1000x600 with 1 Axes>"
      ]
     },
     "metadata": {},
     "output_type": "display_data"
    }
   ],
   "source": [
    "theme_comparison = create_comparison_df(western_theme_counts, eastern_theme_counts, 50)\n",
    "plot_relative_difference(theme_comparison, \"Theme\")"
   ]
  },
  {
   "cell_type": "code",
   "execution_count": 314,
   "metadata": {},
   "outputs": [],
   "source": [
    "eastern_war_themes = themes_df[\n",
    "    (themes_df[\"cold_war_side\"] == \"Eastern\")\n",
    "    & (themes_df[\"genres\"].apply(lambda x: \"War\" in x))\n",
    "]\n",
    "western_war_themes = themes_df[\n",
    "    (themes_df[\"cold_war_side\"] == \"Western\")\n",
    "    & (themes_df[\"genres\"].apply(lambda x: \"War\" in x))\n",
    "]\n",
    "western_war_themes_counts = western_war_themes[\"theme\"].value_counts()\n",
    "eastern_war_themes_counts = eastern_war_themes[\"theme\"].value_counts()"
   ]
  },
  {
   "cell_type": "code",
   "execution_count": 324,
   "metadata": {},
   "outputs": [
    {
     "data": {
      "image/png": "[encoded data removed]",
      "text/plain": [
       "<Figure size 1800x900 with 2 Axes>"
      ]
     },
     "metadata": {},
     "output_type": "display_data"
    }
   ],
   "source": [
    "# remove war from themes\n",
    "western_war_themes_counts = western_war_themes_counts[\n",
    "    western_war_themes_counts.index != \"War\"\n",
    "]\n",
    "eastern_war_themes_counts = eastern_war_themes_counts[\n",
    "    eastern_war_themes_counts.index != \"War\"\n",
    "]\n",
    "\n",
    "plot_distributions(\n",
    "    western_war_themes_counts,\n",
    "    eastern_war_themes_counts,\n",
    "    title_western=\"Distribution of Themes for Western War Movies\",\n",
    "    title_eastern=\"Distribution of Themes for Eastern War Movies\",\n",
    "    ylabel=\"Theme\",\n",
    "    figsize=(18, 9),\n",
    ")"
   ]
  },
  {
   "cell_type": "code",
   "execution_count": 330,
   "metadata": {},
   "outputs": [
    {
     "data": {
      "image/png": "[encoded data removed]",
      "text/plain": [
       "<Figure size 1000x600 with 1 Axes>"
      ]
     },
     "metadata": {},
     "output_type": "display_data"
    }
   ],
   "source": [
    "war_theme_comparison = create_comparison_df(\n",
    "    western_war_themes_counts, eastern_war_themes_counts, 10\n",
    ")\n",
    "plot_relative_difference(war_theme_comparison, \"theme\")"
   ]
  }
 ],
 "metadata": {
  "kernelspec": {
   "display_name": "Python 3",
   "language": "python",
   "name": "python3"
  },
  "language_info": {
   "codemirror_mode": {
    "name": "ipython",
    "version": 3
   },
   "file_extension": ".py",
   "mimetype": "text/x-python",
   "name": "python",
   "nbconvert_exporter": "python",
   "pygments_lexer": "ipython3",
   "version": "3.11.3"
  }
 },
 "nbformat": 4,
 "nbformat_minor": 2
}
