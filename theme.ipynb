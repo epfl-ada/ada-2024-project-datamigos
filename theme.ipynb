{
 "cells": [
  {
   "cell_type": "code",
   "execution_count": 1,
   "metadata": {},
   "outputs": [
    {
     "name": "stderr",
     "output_type": "stream",
     "text": [
      "[nltk_data] Downloading package stopwords to\n",
      "[nltk_data]     /Users/matteo/nltk_data...\n",
      "[nltk_data]   Package stopwords is already up-to-date!\n"
     ]
    }
   ],
   "source": [
    "import pandas as pd\n",
    "import numpy as np\n",
    "import ast\n",
    "\n",
    "import matplotlib.pyplot as plt\n",
    "import seaborn as sns\n",
    "import plotly.graph_objects as go\n",
    "import plotly.express as px\n",
    "\n",
    "import nltk\n",
    "from nltk.corpus import stopwords\n",
    "nltk.download('stopwords')\n",
    "\n",
    "import spacy\n",
    "from gensim import corpora\n",
    "from gensim.models.ldamodel import LdaModel\n",
    "\n",
    "import warnings\n",
    "warnings.filterwarnings('ignore')"
   ]
  },
  {
   "cell_type": "code",
   "execution_count": 2,
   "metadata": {},
   "outputs": [
    {
     "name": "stdout",
     "output_type": "stream",
     "text": [
      "wikipedia_id <class 'numpy.float64'>\n",
      "freebase_id <class 'str'>\n",
      "title <class 'str'>\n",
      "languages <class 'float'>\n",
      "countries <class 'list'>\n",
      "genres <class 'list'>\n",
      "keywords <class 'float'>\n",
      "release_date <class 'numpy.int64'>\n",
      "runtime <class 'numpy.float64'>\n",
      "plot_summary <class 'str'>\n",
      "cold_war_side <class 'str'>\n",
      "character_western_bloc_representation <class 'list'>\n",
      "character_eastern_bloc_representation <class 'list'>\n",
      "western_bloc_values <class 'list'>\n",
      "eastern_bloc_values <class 'list'>\n",
      "theme <class 'list'>\n"
     ]
    }
   ],
   "source": [
    "DATA_FOLDER = \"data/preprocessed/\"\n",
    "\n",
    "movies = pd.read_csv(DATA_FOLDER + \"preprocessed_movies.csv\")\n",
    "\n",
    "for col in movies.columns:\n",
    "    try:\n",
    "        movies[col] = movies[col].apply(lambda x: ast.literal_eval(x) if isinstance(x, str) else x)\n",
    "    except:\n",
    "        pass\n",
    "    print(col, type(movies[col][0]))"
   ]
  },
  {
   "cell_type": "code",
   "execution_count": 18,
   "metadata": {},
   "outputs": [],
   "source": [
    "def create_theme(df):\n",
    "    new_df = df[[\"theme\", 'cold_war_side', 'title', 'release_date']]\n",
    "    # get only Western and Eastern movies\n",
    "    new_df = new_df[(new_df[\"cold_war_side\"] == \"Western\") | (new_df[\"cold_war_side\"] == \"Eastern\")]\n",
    "    new_df = new_df.rename(columns={'cold_war_side': 'movie_side'})\n",
    "    new_df = new_df.drop_duplicates(subset=[\"theme\"])\n",
    "    # be sure theme is a list\n",
    "    new_df[\"theme\"] = new_df[\"theme\"].apply(lambda x: x if isinstance(x, list) else [x])\n",
    "    # be sure all elements of the list are strings\n",
    "    new_df[\"theme\"] = new_df[\"theme\"].apply(lambda x: [str(i) for i in x])\n",
    "    # use lower case for theme for each element of the list\n",
    "    new_df[\"theme\"] = new_df[\"theme\"].apply(lambda x: [i.lower() for i in x])\n",
    "    return new_df\n",
    "\n",
    "theme_df = create_theme(movies)"
   ]
  },
  {
   "cell_type": "code",
   "execution_count": 21,
   "metadata": {},
   "outputs": [
    {
     "data": {
      "text/html": [
       "<div>\n",
       "<style scoped>\n",
       "    .dataframe tbody tr th:only-of-type {\n",
       "        vertical-align: middle;\n",
       "    }\n",
       "\n",
       "    .dataframe tbody tr th {\n",
       "        vertical-align: top;\n",
       "    }\n",
       "\n",
       "    .dataframe thead th {\n",
       "        text-align: right;\n",
       "    }\n",
       "</style>\n",
       "<table border=\"1\" class=\"dataframe\">\n",
       "  <thead>\n",
       "    <tr style=\"text-align: right;\">\n",
       "      <th></th>\n",
       "      <th>theme</th>\n",
       "      <th>movie_side</th>\n",
       "      <th>title</th>\n",
       "      <th>release_date</th>\n",
       "    </tr>\n",
       "  </thead>\n",
       "  <tbody>\n",
       "    <tr>\n",
       "      <th>3054</th>\n",
       "      <td>[destruction of friendship, betrayal, the horr...</td>\n",
       "      <td>Eastern</td>\n",
       "      <td>Bullet in the Head</td>\n",
       "      <td>1990</td>\n",
       "    </tr>\n",
       "    <tr>\n",
       "      <th>18992</th>\n",
       "      <td>[crime, serial killer, world war ii, police in...</td>\n",
       "      <td>Western</td>\n",
       "      <td>The Devil Strikes at Night</td>\n",
       "      <td>1957</td>\n",
       "    </tr>\n",
       "    <tr>\n",
       "      <th>18850</th>\n",
       "      <td>[mystery, friendship, loyalty, secrecy, cold w...</td>\n",
       "      <td>Eastern</td>\n",
       "      <td>The Cutlass</td>\n",
       "      <td>1973</td>\n",
       "    </tr>\n",
       "    <tr>\n",
       "      <th>13112</th>\n",
       "      <td>[conflict between personal ambition and tradit...</td>\n",
       "      <td>Eastern</td>\n",
       "      <td>Obochina</td>\n",
       "      <td>1978</td>\n",
       "    </tr>\n",
       "    <tr>\n",
       "      <th>18890</th>\n",
       "      <td>[war, sacrifice, female empowerment, courage, ...</td>\n",
       "      <td>Eastern</td>\n",
       "      <td>The Dawns Here Are Quiet</td>\n",
       "      <td>1972</td>\n",
       "    </tr>\n",
       "  </tbody>\n",
       "</table>\n",
       "</div>"
      ],
      "text/plain": [
       "                                                   theme movie_side  \\\n",
       "3054   [destruction of friendship, betrayal, the horr...    Eastern   \n",
       "18992  [crime, serial killer, world war ii, police in...    Western   \n",
       "18850  [mystery, friendship, loyalty, secrecy, cold w...    Eastern   \n",
       "13112  [conflict between personal ambition and tradit...    Eastern   \n",
       "18890  [war, sacrifice, female empowerment, courage, ...    Eastern   \n",
       "\n",
       "                            title  release_date  \n",
       "3054           Bullet in the Head          1990  \n",
       "18992  The Devil Strikes at Night          1957  \n",
       "18850                 The Cutlass          1973  \n",
       "13112                    Obochina          1978  \n",
       "18890    The Dawns Here Are Quiet          1972  "
      ]
     },
     "execution_count": 21,
     "metadata": {},
     "output_type": "execute_result"
    }
   ],
   "source": [
    "theme_df.sample(5)"
   ]
  },
  {
   "cell_type": "code",
   "execution_count": 22,
   "metadata": {},
   "outputs": [],
   "source": [
    "# Preprocess the text\n",
    "def preprocess(string_list, nlp, words_to_remove):\n",
    "    docs = [nlp(s) for s in string_list]\n",
    "    tokens = []\n",
    "    for doc in docs:\n",
    "        tokens.extend([token.lemma_ for token in doc if not token.is_stop and not token.is_punct and token.lemma_ not in words_to_remove])\n",
    "    return tokens\n",
    "\n",
    "def topic_detection(df, nb_topics, nb_passes):\n",
    "    # Create a dictionary and corpus for Gensim\n",
    "    dictionary = corpora.Dictionary(df)\n",
    "    corpus = [dictionary.doc2bow(text) for text in df]\n",
    "    \n",
    "    # Train LDA model\n",
    "    lda_model = LdaModel(corpus, num_topics=nb_topics, id2word=dictionary, passes=nb_passes)\n",
    "    \n",
    "    # Print the topics\n",
    "    for idx, topic in lda_model.print_topics(-1):\n",
    "        print(f'Topic: {idx}\\nWords: {topic}\\n')\n",
    "    \n",
    "    return lda_model, corpus, dictionary\n",
    "\n",
    "# Assign topics to characters\n",
    "def get_dominant_topic(lda_model, corpus):\n",
    "    topics = []\n",
    "    for row in corpus:\n",
    "        row = lda_model[row]\n",
    "        max_topic, max_val = 0, 0\n",
    "        for (topic_num, prop_topic) in row:\n",
    "            if prop_topic > max_val:\n",
    "                max_val = prop_topic\n",
    "                max_topic = topic_num\n",
    "        topics.append(max_topic)\n",
    "    return topics"
   ]
  },
  {
   "cell_type": "code",
   "execution_count": 23,
   "metadata": {},
   "outputs": [],
   "source": [
    "nlp = spacy.load('en_core_web_sm')\n",
    "words_to_remove = {'theme'}"
   ]
  },
  {
   "cell_type": "code",
   "execution_count": 30,
   "metadata": {},
   "outputs": [
    {
     "name": "stdout",
     "output_type": "stream",
     "text": [
      "Topic: 0\n",
      "Words: 0.057*\"personal\" + 0.044*\"love\" + 0.042*\"struggle\" + 0.035*\"identity\" + 0.028*\"sacrifice\" + 0.023*\"cultural\" + 0.019*\"life\" + 0.018*\"conflict\" + 0.015*\"social\" + 0.015*\"family\"\n",
      "\n",
      "Topic: 1\n",
      "Words: 0.067*\"moral\" + 0.041*\"oppression\" + 0.026*\"dilemma\" + 0.025*\"struggle\" + 0.023*\"freedom\" + 0.021*\"betrayal\" + 0.020*\"conflict\" + 0.020*\"rebellion\" + 0.020*\"authority\" + 0.020*\"ambiguity\"\n",
      "\n",
      "Topic: 2\n",
      "Words: 0.119*\"war\" + 0.045*\"espionage\" + 0.044*\"sacrifice\" + 0.034*\"heroism\" + 0.030*\"cold\" + 0.025*\"conflict\" + 0.023*\"loyalty\" + 0.021*\"betrayal\" + 0.021*\"tension\" + 0.019*\"identity\"\n",
      "\n",
      "Topic: 3\n",
      "Words: 0.069*\"crime\" + 0.064*\"justice\" + 0.035*\"betrayal\" + 0.032*\"morality\" + 0.026*\"corruption\" + 0.026*\"revenge\" + 0.022*\"adventure\" + 0.019*\"investigation\" + 0.018*\"law\" + 0.017*\"heroism\"\n",
      "\n",
      "Topic: 4\n",
      "Words: 0.027*\"resilience\" + 0.027*\"dynamic\" + 0.025*\"family\" + 0.023*\"survival\" + 0.020*\"human\" + 0.018*\"social\" + 0.017*\"friendship\" + 0.016*\"age\" + 0.015*\"community\" + 0.014*\"adventure\"\n",
      "\n",
      "dominant_topic\n",
      "2    1653\n",
      "0    1415\n",
      "3    1076\n",
      "1     836\n",
      "4     790\n",
      "Name: count, dtype: int64\n"
     ]
    }
   ],
   "source": [
    "theme_df['processed_repres'] = theme_df['theme'].apply(preprocess, args=(nlp, words_to_remove))\n",
    "theme_topic = topic_detection(theme_df['processed_repres'], 5, 15)\n",
    "theme_df['dominant_topic'] = get_dominant_topic(theme_topic[0], theme_topic[1])\n",
    "print(theme_df['dominant_topic'].value_counts())"
   ]
  },
  {
   "cell_type": "code",
   "execution_count": 110,
   "metadata": {},
   "outputs": [
    {
     "data": {
      "text/html": [
       "<div>\n",
       "<style scoped>\n",
       "    .dataframe tbody tr th:only-of-type {\n",
       "        vertical-align: middle;\n",
       "    }\n",
       "\n",
       "    .dataframe tbody tr th {\n",
       "        vertical-align: top;\n",
       "    }\n",
       "\n",
       "    .dataframe thead th {\n",
       "        text-align: right;\n",
       "    }\n",
       "</style>\n",
       "<table border=\"1\" class=\"dataframe\">\n",
       "  <thead>\n",
       "    <tr style=\"text-align: right;\">\n",
       "      <th></th>\n",
       "      <th>movie_side</th>\n",
       "      <th>title</th>\n",
       "      <th>year_release_date</th>\n",
       "      <th>character_name</th>\n",
       "      <th>character_representation</th>\n",
       "      <th>character_side</th>\n",
       "      <th>processed_repres</th>\n",
       "      <th>dominant_topic</th>\n",
       "    </tr>\n",
       "  </thead>\n",
       "  <tbody>\n",
       "    <tr>\n",
       "      <th>13061</th>\n",
       "      <td>None</td>\n",
       "      <td>La Muerte de Mikel</td>\n",
       "      <td>1984</td>\n",
       "      <td>Mikel</td>\n",
       "      <td>[begoña, doña maria luisa, martín, values of b...</td>\n",
       "      <td>Eastern</td>\n",
       "      <td>[begoña, doña, maria, luisa, martín, basque, n...</td>\n",
       "      <td>3</td>\n",
       "    </tr>\n",
       "    <tr>\n",
       "      <th>26964</th>\n",
       "      <td>Western</td>\n",
       "      <td>The Odessa File</td>\n",
       "      <td>1974</td>\n",
       "      <td>Eduard Roschmann</td>\n",
       "      <td>[former ss officer, power-driven, villain]</td>\n",
       "      <td>Eastern</td>\n",
       "      <td>[ss, officer, power, drive, villain]</td>\n",
       "      <td>1</td>\n",
       "    </tr>\n",
       "    <tr>\n",
       "      <th>23315</th>\n",
       "      <td>Eastern</td>\n",
       "      <td>The Apple Game</td>\n",
       "      <td>1977</td>\n",
       "      <td>Czech society</td>\n",
       "      <td>[satire, critical commentary]</td>\n",
       "      <td>Eastern</td>\n",
       "      <td>[satire, critical, commentary]</td>\n",
       "      <td>1</td>\n",
       "    </tr>\n",
       "    <tr>\n",
       "      <th>12522</th>\n",
       "      <td>Eastern</td>\n",
       "      <td>Kievlyanka</td>\n",
       "      <td>1958</td>\n",
       "      <td>Gali</td>\n",
       "      <td>[resilience, orphan archetype]</td>\n",
       "      <td>Eastern</td>\n",
       "      <td>[resilience, orphan]</td>\n",
       "      <td>3</td>\n",
       "    </tr>\n",
       "    <tr>\n",
       "      <th>28989</th>\n",
       "      <td>None</td>\n",
       "      <td>The World of Suzie Wong</td>\n",
       "      <td>1960</td>\n",
       "      <td>Suzie Wong</td>\n",
       "      <td>[young woman forced into prostitution, surviva...</td>\n",
       "      <td>Eastern</td>\n",
       "      <td>[young, woman, force, prostitution, survivalis...</td>\n",
       "      <td>2</td>\n",
       "    </tr>\n",
       "  </tbody>\n",
       "</table>\n",
       "</div>"
      ],
      "text/plain": [
       "      movie_side                    title  year_release_date  \\\n",
       "13061       None       La Muerte de Mikel               1984   \n",
       "26964    Western          The Odessa File               1974   \n",
       "23315    Eastern           The Apple Game               1977   \n",
       "12522    Eastern               Kievlyanka               1958   \n",
       "28989       None  The World of Suzie Wong               1960   \n",
       "\n",
       "         character_name                           character_representation  \\\n",
       "13061             Mikel  [begoña, doña maria luisa, martín, values of b...   \n",
       "26964  Eduard Roschmann         [former ss officer, power-driven, villain]   \n",
       "23315     Czech society                      [satire, critical commentary]   \n",
       "12522              Gali                     [resilience, orphan archetype]   \n",
       "28989        Suzie Wong  [young woman forced into prostitution, surviva...   \n",
       "\n",
       "      character_side                                   processed_repres  \\\n",
       "13061        Eastern  [begoña, doña, maria, luisa, martín, basque, n...   \n",
       "26964        Eastern               [ss, officer, power, drive, villain]   \n",
       "23315        Eastern                     [satire, critical, commentary]   \n",
       "12522        Eastern                               [resilience, orphan]   \n",
       "28989        Eastern  [young, woman, force, prostitution, survivalis...   \n",
       "\n",
       "       dominant_topic  \n",
       "13061               3  \n",
       "26964               1  \n",
       "23315               1  \n",
       "12522               3  \n",
       "28989               2  "
      ]
     },
     "execution_count": 110,
     "metadata": {},
     "output_type": "execute_result"
    }
   ],
   "source": [
    "character_eastern.sample(5)"
   ]
  },
  {
   "cell_type": "code",
   "execution_count": 111,
   "metadata": {},
   "outputs": [
    {
     "name": "stdout",
     "output_type": "stream",
     "text": [
      "Eastern movie Eastern characters\n",
      "dominant_topic\n",
      "0    726\n",
      "3    659\n",
      "2    555\n",
      "1    424\n",
      "Name: count, dtype: int64\n",
      "Western movie Eastern characters\n",
      "dominant_topic\n",
      "1    752\n",
      "3    396\n",
      "0    240\n",
      "2    223\n",
      "Name: count, dtype: int64\n",
      "Eastern movie Western characters\n",
      "dominant_topic\n",
      "2    308\n",
      "0    248\n",
      "1    246\n",
      "3    104\n",
      "Name: count, dtype: int64\n",
      "Western movie Western characters\n",
      "dominant_topic\n",
      "3    865\n",
      "2    781\n",
      "1    568\n",
      "0    560\n",
      "Name: count, dtype: int64\n"
     ]
    }
   ],
   "source": [
    "eastern_movie_eastern_char = character_eastern[character_eastern[\"movie_side\"] == 'Eastern']\n",
    "western_movie_eastern_char = character_eastern[character_eastern[\"movie_side\"] == 'Western']\n",
    "eastern_movie_western_char = character_western[character_western[\"movie_side\"] == 'Eastern']\n",
    "western_movie_western_char = character_western[character_western[\"movie_side\"] == 'Western']\n",
    "\n",
    "# count dominant topic for each df above\n",
    "print(\"Eastern movie Eastern characters\")\n",
    "print(eastern_movie_eastern_char['dominant_topic'].value_counts())\n",
    "\n",
    "print(\"Western movie Eastern characters\")\n",
    "print(western_movie_eastern_char['dominant_topic'].value_counts())\n",
    "\n",
    "print(\"Eastern movie Western characters\")\n",
    "print(eastern_movie_western_char['dominant_topic'].value_counts())\n",
    "\n",
    "print(\"Western movie Western characters\")\n",
    "print(western_movie_western_char['dominant_topic'].value_counts())"
   ]
  },
  {
   "cell_type": "code",
   "execution_count": 26,
   "metadata": {},
   "outputs": [],
   "source": [
    "# plot topics\n",
    "import pyLDAvis\n",
    "from pyLDAvis import gensim_models"
   ]
  },
  {
   "cell_type": "code",
   "execution_count": 31,
   "metadata": {},
   "outputs": [
    {
     "data": {
      "text/html": [
       "\n",
       "<link rel=\"stylesheet\" type=\"text/css\" href=\"https://cdn.jsdelivr.net/gh/bmabey/pyLDAvis@3.4.0/pyLDAvis/js/ldavis.v1.0.0.css\">\n",
       "\n",
       "\n",
       "<div id=\"ldavis_el31747134636466407460359991\" style=\"background-color:white;\"></div>\n",
       "<script type=\"text/javascript\">\n",
       "\n",
       "var ldavis_el31747134636466407460359991_data = {\"mdsDat\": {\"x\": [-0.04392711444717567, 0.18771213763125785, -0.2651852561429376, -0.06338893947230351, 0.18478917243115878], \"y\": [0.29526865732075236, -0.04653379044114637, -0.08034931936175171, -0.12697988664761226, -0.041405660870241834], \"topics\": [1, 2, 3, 4, 5], \"cluster\": [1, 1, 1, 1, 1], \"Freq\": [26.391066655013333, 23.75939472039372, 18.56511076915604, 16.210929756795135, 15.073498098641776]}, \"tinfo\": {\"Term\": [\"war\", \"moral\", \"crime\", \"justice\", \"personal\", \"espionage\", \"oppression\", \"cold\", \"heroism\", \"love\", \"identity\", \"morality\", \"betrayal\", \"struggle\", \"revenge\", \"cultural\", \"dynamic\", \"dilemma\", \"corruption\", \"resilience\", \"tension\", \"freedom\", \"resistance\", \"investigation\", \"sacrifice\", \"authority\", \"ambiguity\", \"human\", \"law\", \"family\", \"cold\", \"tension\", \"espionage\", \"world\", \"war\", \"intrigue\", \"ii\", \"patriotism\", \"nationalism\", \"terrorism\", \"assassination\", \"warfare\", \"mission\", \"vietnam\", \"partisan\", \"wwii\", \"spy\", \"naval\", \"context\", \"korean\", \"union\", \"liberation\", \"diplomacy\", \"security\", \"british\", \"strategy\", \"agent\", \"infiltration\", \"imprisonment\", \"army\", \"historical\", \"rescue\", \"heroism\", \"military\", \"camaraderie\", \"sacrifice\", \"loyalty\", \"intelligence\", \"political\", \"resistance\", \"post\", \"conflict\", \"identity\", \"betrayal\", \"soviet\", \"anti\", \"threat\", \"survival\", \"deception\", \"revolution\", \"adventure\", \"love\", \"cultural\", \"rural\", \"music\", \"fiction\", \"collective\", \"clash\", \"romantic\", \"society\", \"overcome\", \"exchange\", \"adversity\", \"travel\", \"expectation\", \"triangle\", \"time\", \"pressure\", \"heritage\", \"existential\", \"traditional\", \"progress\", \"lawlessness\", \"unknown\", \"deceit\", \"addiction\", \"compassion\", \"motherhood\", \"happiness\", \"personal\", \"alienation\", \"tie\", \"class\", \"science\", \"growth\", \"self\", \"love\", \"collectivism\", \"economic\", \"life\", \"identity\", \"struggle\", \"tragedy\", \"discovery\", \"bureaucracy\", \"relationship\", \"tradition\", \"societal\", \"culture\", \"value\", \"social\", \"sacrifice\", \"family\", \"ambition\", \"vs.\", \"conflict\", \"soviet\", \"romance\", \"friendship\", \"redemption\", \"political\", \"revenge\", \"investigation\", \"law\", \"evil\", \"good\", \"mystery\", \"enforcement\", \"western\", \"hero\", \"drug\", \"police\", \"murder\", \"heist\", \"treasure\", \"undercover\", \"hunt\", \"truth\", \"frontier\", \"detective\", \"villain\", \"vigilante\", \"small\", \"trade\", \"town\", \"archetype\", \"supernatural\", \"smuggle\", \"order\", \"trafficking\", \"biography\", \"crime\", \"justice\", \"morality\", \"corruption\", \"suspense\", \"action\", \"vs\", \"betrayal\", \"martial\", \"adventure\", \"vs.\", \"redemption\", \"comedy\", \"heroism\", \"conflict\", \"deception\", \"friendship\", \"loyalty\", \"moral\", \"dilemma\", \"oppression\", \"ambiguity\", \"authority\", \"manipulation\", \"corporate\", \"occupation\", \"authoritarianism\", \"ethical\", \"prison\", \"totalitarianism\", \"guilt\", \"militarism\", \"desperation\", \"legal\", \"obsession\", \"character\", \"village\", \"materialism\", \"creativity\", \"dark\", \"suffer\", \"censorship\", \"control\", \"protection\", \"victory\", \"cynicism\", \"poverty\", \"hostage\", \"injustice\", \"freedom\", \"tyranny\", \"individuality\", \"rebellion\", \"psychological\", \"power\", \"state\", \"greed\", \"resistance\", \"escape\", \"violence\", \"struggle\", \"betrayal\", \"conflict\", \"survival\", \"corruption\", \"ethic\", \"redemption\", \"revolution\", \"societal\", \"morality\", \"sacrifice\", \"ambition\", \"loyalty\", \"justice\", \"dynamic\", \"age\", \"come\", \"nature\", \"innocence\", \"competition\", \"hope\", \"childhood\", \"connection\", \"activism\", \"gender\", \"nostalgia\", \"innovation\", \"experience\", \"solidarity\", \"apocalyptic\", \"support\", \"service\", \"past\", \"reunion\", \"monster\", \"perspective\", \"decision\", \"respect\", \"discipline\", \"adolescence\", \"equality\", \"masculinity\", \"animal\", \"career\", \"human\", \"resilience\", \"role\", \"rivalry\", \"destruction\", \"honor\", \"community\", \"issue\", \"exploration\", \"family\", \"youth\", \"teamwork\", \"survival\", \"social\", \"friendship\", \"isolation\", \"fear\", \"adventure\", \"relationship\", \"life\", \"struggle\", \"love\", \"power\", \"military\", \"post\", \"loss\", \"sacrifice\"], \"Freq\": [1233.0, 422.0, 535.0, 502.0, 560.0, 466.0, 261.0, 314.0, 478.0, 548.0, 519.0, 284.0, 598.0, 666.0, 187.0, 213.0, 157.0, 163.0, 264.0, 174.0, 212.0, 162.0, 272.0, 141.0, 836.0, 127.0, 125.0, 129.0, 128.0, 333.0, 313.843100695837, 211.2440080979258, 464.9925469443036, 106.13180735642723, 1224.248828882206, 106.30177055731708, 90.24155208966062, 73.12813899552651, 65.18322710015629, 61.45453113637179, 46.071763589062336, 65.24469805135254, 40.26023696335195, 38.66122516375828, 37.95293089880659, 81.899682250206, 35.33061377590431, 34.517993402000684, 33.91681785472592, 30.870491637986877, 31.30024895132795, 31.061474912618735, 22.733421894357978, 22.63549121894962, 21.431347101802416, 19.508246467678838, 18.41710112760976, 17.30115670293607, 16.012627860513483, 15.395897602494976, 136.12829875869753, 63.97887683335213, 354.47569667560305, 195.78512338542038, 76.35841782475973, 457.34007991112117, 236.6389035645618, 43.44273701395298, 151.62404111219476, 168.9220588270404, 108.47049371352095, 258.99413672197414, 196.9783751299956, 214.07249645158146, 86.67231528261755, 66.02857493064558, 47.55982851979125, 121.18624561870506, 81.22261965828254, 70.1049782472152, 87.74239500425297, 69.49212408216519, 212.92384785546025, 75.13844865476213, 65.34694979665075, 58.8098071505235, 57.61215976395159, 54.74179930193604, 52.39028715723933, 51.65502904197714, 41.29867212490201, 38.48953569527231, 35.52193973000653, 31.440901542767477, 29.422519781689864, 26.79448304715201, 25.511851437973313, 24.540646649012075, 23.740131095776125, 22.187900096612694, 21.968920054659062, 20.201297859712522, 19.267554754860765, 16.671257620475004, 16.630991543341718, 16.235604497816265, 16.658722555543275, 15.116250283008277, 14.687235338834517, 532.1888289604448, 13.85600957788384, 13.369006605432887, 127.59721091061276, 78.68952022313663, 99.96782585509487, 70.1993848952864, 408.02554173755675, 69.37147282843965, 24.71999184504401, 174.0005214393603, 321.2275167077935, 386.90722570253035, 77.85362766733101, 53.14722078118263, 32.80400919677172, 94.03556456382942, 47.00499796158148, 104.16302517427651, 64.20390984453395, 94.49286514044877, 139.98314558030648, 259.62682596041856, 134.7172831718264, 78.09090154511598, 97.59361959955679, 166.5837165573129, 72.71478840112204, 65.92276214494797, 64.76998073064613, 62.697872021726496, 60.42175370133123, 186.64015735707153, 140.8655668641106, 127.35013190076413, 114.0775724653807, 108.13118929154359, 95.07381698037159, 88.26364329505003, 71.62064630569573, 82.4093974160356, 62.02990261448774, 60.07426492422385, 54.88677334466163, 52.855564186521214, 46.9400024891623, 44.273774461448205, 40.328402885801204, 62.65999085723013, 28.4971176100383, 27.004901509045272, 26.12721958038021, 24.603768868991857, 23.451342767875204, 23.2829358931691, 23.022126980681175, 20.816273468816554, 19.944587883862862, 19.958986865570235, 15.767969235324136, 14.909937304766114, 13.971709335851124, 498.8028770664294, 461.7640622701487, 232.47175695807354, 187.78392788105924, 34.88733476669203, 104.34288279988202, 72.94643857478484, 250.9284084710726, 43.692719312755116, 160.92930594219328, 103.1493203644462, 102.35076791412756, 77.05701650197591, 123.57909946562093, 106.93923892151498, 66.80585210720433, 71.53874798697413, 56.32433435781071, 422.1010166691617, 163.2307459714039, 260.49408010652, 124.35554651463926, 126.34020769399449, 94.71089741980511, 42.30796183060866, 33.557963098245686, 33.05088708484215, 29.475122148649117, 27.560869706180263, 26.426690940571287, 29.90954543932381, 24.35642405721679, 23.315512057508872, 19.49402919913462, 16.60445422503689, 15.0527306528163, 15.05030997517522, 14.552896058292838, 14.396729956946713, 14.146859777497946, 13.729906888411708, 22.655818503048145, 74.06714646650966, 12.88225743316998, 12.366414561691634, 11.482507949373282, 11.735332562938124, 11.496218496730291, 39.35532408115215, 142.5055754373048, 47.242913703362085, 27.306309831909818, 127.57838136254401, 37.98792097595597, 103.31524026797648, 39.79076923939552, 45.73526148301205, 102.80072552985109, 42.36610226694426, 47.48855064180227, 160.882370614318, 133.2825344768156, 128.85762998454584, 96.21802545448591, 75.81004025781445, 42.911022718748676, 66.35043253788088, 49.706972125867175, 47.42962981668944, 50.65492362545831, 61.074698137994226, 43.58445111568872, 43.15808791589437, 40.44957933486315, 156.98499686716661, 91.43561499070375, 77.60874839653685, 60.550032035295565, 80.98253749298792, 51.407886205514636, 50.08357002793405, 74.55122584347271, 38.907581144474456, 38.60288639686549, 38.02578620969622, 31.537135846600748, 27.431779792599478, 25.85937099484154, 19.14395341277995, 18.783115192683255, 17.580319300201957, 17.63895046234049, 16.49485555707873, 12.252293218897725, 11.617024631891496, 11.540998809866684, 11.134390249169574, 10.940900842340087, 10.237793766336985, 9.822223635684294, 9.607790811910263, 9.559004986193788, 9.344539988117726, 9.353847260680254, 118.87083127258418, 158.1757472486145, 34.019313423355456, 46.957295783343, 18.921271645612386, 55.65025549788345, 86.63074032221547, 34.89090568159118, 69.89683928486718, 144.19194673120438, 73.9864203470377, 57.46240528848254, 137.86588201555602, 103.73944596498119, 97.94164221513545, 46.78387766450508, 36.48747121913924, 82.87948505255329, 49.2836484234352, 58.22047017971549, 81.25755521204945, 70.42104218125596, 49.9068824523619, 51.90933434021038, 47.46821274667104, 45.522171309561216, 56.562192961749155], \"Total\": [1233.0, 422.0, 535.0, 502.0, 560.0, 466.0, 261.0, 314.0, 478.0, 548.0, 519.0, 284.0, 598.0, 666.0, 187.0, 213.0, 157.0, 163.0, 264.0, 174.0, 212.0, 162.0, 272.0, 141.0, 836.0, 127.0, 125.0, 129.0, 128.0, 333.0, 314.60225270455186, 212.0122952243964, 466.8529111664046, 106.8923905082296, 1233.3353106596073, 107.15552635941751, 90.9992985716735, 73.88843576158438, 65.98737494740514, 62.219200063497, 46.83756066131075, 66.38462327250727, 41.02034720474136, 39.423638653282154, 38.710921108162474, 83.54287971394874, 36.088256718496275, 35.27769044834894, 34.678144824590014, 31.631034487176596, 32.071635666742566, 31.881635108694354, 23.49411701951545, 23.395087976322966, 22.205008223237208, 20.2692162921329, 19.176295649769763, 18.06706502185591, 16.780871530188584, 16.158442497679925, 148.51199978423605, 73.86828983428245, 478.6513334560788, 262.69414885004323, 92.80756932235396, 836.6808894989199, 386.0843927186582, 51.08461782978119, 232.02403426234468, 272.7530153126926, 156.83670014324537, 695.9325321099101, 519.5863608480051, 598.670210905546, 159.96254674703067, 104.0763756606104, 59.29173433024828, 389.4904963528784, 187.41626579428458, 172.0415376645083, 354.3148946653424, 548.495733503603, 213.68252941647845, 75.8947288899161, 66.10762139766837, 59.57062976407644, 58.36967789416096, 55.500930504962675, 53.147832109662815, 52.41573880342986, 42.0561599348761, 39.24599292365421, 36.27871117601712, 32.198804557397274, 30.177215954093867, 27.55163296877213, 26.267213858938582, 25.300180730192906, 24.495003424518277, 22.94734024080819, 22.72821915906237, 20.95854326633364, 20.062071315076686, 17.432020229945117, 17.402253288565696, 16.993817779851586, 17.446299966562513, 15.878361003631897, 15.446605562560483, 560.7073925424734, 14.61053045969951, 14.13358133672442, 140.25589438086385, 88.27112537548845, 115.1304831274906, 81.16370294759392, 548.495733503603, 83.18707347931563, 26.892860843835315, 242.22295921474296, 519.5863608480051, 666.7716136456168, 105.60540787663777, 66.67454035814025, 37.42893990529316, 143.88544699589266, 59.63047183625843, 171.44787796216994, 90.40540338082349, 155.86929495263206, 288.8209680426254, 836.6808894989199, 333.62237719746054, 137.12142959176808, 203.20770430642168, 695.9325321099101, 159.96254674703067, 136.91397170175085, 279.4929591939101, 232.20714470279313, 232.02403426234468, 187.39845162884535, 141.62132855782298, 128.10456405311803, 114.83276066071338, 108.88659047734608, 95.83129428776964, 89.01677953550892, 72.3771382015452, 83.34931081687876, 62.785438479232376, 60.84581198553521, 55.65182989334516, 53.67595660441698, 47.695482859578355, 45.02776556204321, 41.08326772025885, 63.98473482736336, 29.25217329906758, 27.7597167639869, 26.88080372106356, 25.357272989577027, 24.209326925179553, 24.039770220983137, 23.778142702614257, 21.577846607179044, 20.699887780627744, 20.71513077370774, 16.526875514596416, 15.66405155105621, 14.743392964701115, 535.7057127285076, 502.8240277871103, 284.10701406776275, 264.16991956663594, 39.31181370933948, 160.1631811372374, 105.32843490355458, 598.670210905546, 56.81642414073679, 354.3148946653424, 203.20770430642168, 232.20714470279313, 186.97781065226422, 478.6513334560788, 695.9325321099101, 187.41626579428458, 279.4929591939101, 386.0843927186582, 422.96578192659797, 163.9863452116631, 261.95874199763466, 125.1098501777439, 127.36207260981543, 95.98719791084368, 43.180463558773525, 34.31491673874441, 33.80449053841638, 30.231622351127864, 28.32203407876466, 27.180756691249922, 30.781085203529287, 25.114499345394176, 24.070607045264964, 20.248706164942323, 17.364607575501836, 15.8165502558535, 15.816373304493352, 15.319747370554143, 15.159208253542747, 14.906391337288708, 14.485795178407932, 23.90767537453991, 78.26054880091306, 13.640108240550093, 13.134873260377965, 12.234269491387069, 12.507483010093159, 12.254340547442538, 42.461506944592024, 162.90797163012374, 52.27938697850678, 30.96558349394168, 169.23516762190627, 46.28427588710813, 164.4606729048715, 53.46503616735851, 76.10561753793867, 272.7530153126926, 72.77073253351688, 87.4777291501999, 666.7716136456168, 598.670210905546, 695.9325321099101, 389.4904963528784, 264.16991956663594, 82.1725466303225, 232.20714470279313, 172.0415376645083, 171.44787796216994, 284.10701406776275, 836.6808894989199, 137.12142959176808, 386.0843927186582, 502.8240277871103, 157.75372840156373, 92.1872562703379, 78.35921795256948, 61.30341797867626, 82.10591707931405, 52.164340322439706, 50.83702959705592, 75.8250852384228, 39.65908331454678, 39.35993862669486, 38.779644935789314, 32.29353691682061, 28.187487046057488, 26.620766011348795, 19.904851566912203, 19.53393643514095, 18.334204606792728, 18.39898776493531, 17.253269627208187, 13.003987336487032, 12.369761947037636, 12.314795392727955, 11.886514186973022, 11.696820350073182, 10.991435186487363, 10.574305867287903, 10.358169213743365, 10.313354631153485, 10.096891870565953, 10.111595495459694, 129.38687513119885, 174.92034851471044, 39.358968392455466, 58.2693280336244, 22.184865042051282, 82.53224351120697, 142.69381001950808, 51.0380708107311, 128.27806881516108, 333.62237719746054, 142.56170415170402, 105.45255374061426, 389.4904963528784, 288.8209680426254, 279.4929591939101, 87.79038471537471, 65.39981091194133, 354.3148946653424, 143.88544699589266, 242.22295921474296, 666.7716136456168, 548.495733503603, 164.4606729048715, 262.69414885004323, 156.83670014324537, 135.45359455424548, 836.6808894989199], \"Category\": [\"Default\", \"Default\", \"Default\", \"Default\", \"Default\", \"Default\", \"Default\", \"Default\", \"Default\", \"Default\", \"Default\", \"Default\", \"Default\", \"Default\", \"Default\", \"Default\", \"Default\", \"Default\", \"Default\", \"Default\", \"Default\", \"Default\", \"Default\", \"Default\", \"Default\", \"Default\", \"Default\", \"Default\", \"Default\", \"Default\", \"Topic1\", \"Topic1\", \"Topic1\", \"Topic1\", \"Topic1\", \"Topic1\", \"Topic1\", \"Topic1\", \"Topic1\", \"Topic1\", \"Topic1\", \"Topic1\", \"Topic1\", \"Topic1\", \"Topic1\", \"Topic1\", \"Topic1\", \"Topic1\", \"Topic1\", \"Topic1\", \"Topic1\", \"Topic1\", \"Topic1\", \"Topic1\", \"Topic1\", \"Topic1\", \"Topic1\", \"Topic1\", \"Topic1\", \"Topic1\", \"Topic1\", \"Topic1\", \"Topic1\", \"Topic1\", \"Topic1\", \"Topic1\", \"Topic1\", \"Topic1\", \"Topic1\", \"Topic1\", \"Topic1\", \"Topic1\", \"Topic1\", \"Topic1\", \"Topic1\", \"Topic1\", \"Topic1\", \"Topic1\", \"Topic1\", \"Topic1\", \"Topic1\", \"Topic1\", \"Topic2\", \"Topic2\", \"Topic2\", \"Topic2\", \"Topic2\", \"Topic2\", \"Topic2\", \"Topic2\", \"Topic2\", \"Topic2\", \"Topic2\", \"Topic2\", \"Topic2\", \"Topic2\", \"Topic2\", \"Topic2\", \"Topic2\", \"Topic2\", \"Topic2\", \"Topic2\", \"Topic2\", \"Topic2\", \"Topic2\", \"Topic2\", \"Topic2\", \"Topic2\", \"Topic2\", \"Topic2\", \"Topic2\", \"Topic2\", \"Topic2\", \"Topic2\", \"Topic2\", \"Topic2\", \"Topic2\", \"Topic2\", \"Topic2\", \"Topic2\", \"Topic2\", \"Topic2\", \"Topic2\", \"Topic2\", \"Topic2\", \"Topic2\", \"Topic2\", \"Topic2\", \"Topic2\", \"Topic2\", \"Topic2\", \"Topic2\", \"Topic2\", \"Topic2\", \"Topic2\", \"Topic2\", \"Topic2\", \"Topic2\", \"Topic2\", \"Topic2\", \"Topic2\", \"Topic3\", \"Topic3\", \"Topic3\", \"Topic3\", \"Topic3\", \"Topic3\", \"Topic3\", \"Topic3\", \"Topic3\", \"Topic3\", \"Topic3\", \"Topic3\", \"Topic3\", \"Topic3\", \"Topic3\", \"Topic3\", \"Topic3\", \"Topic3\", \"Topic3\", \"Topic3\", \"Topic3\", \"Topic3\", \"Topic3\", \"Topic3\", \"Topic3\", \"Topic3\", \"Topic3\", \"Topic3\", \"Topic3\", \"Topic3\", \"Topic3\", \"Topic3\", \"Topic3\", \"Topic3\", \"Topic3\", \"Topic3\", \"Topic3\", \"Topic3\", \"Topic3\", \"Topic3\", \"Topic3\", \"Topic3\", \"Topic3\", \"Topic3\", \"Topic3\", \"Topic3\", \"Topic3\", \"Topic3\", \"Topic4\", \"Topic4\", \"Topic4\", \"Topic4\", \"Topic4\", \"Topic4\", \"Topic4\", \"Topic4\", \"Topic4\", \"Topic4\", \"Topic4\", \"Topic4\", \"Topic4\", \"Topic4\", \"Topic4\", \"Topic4\", \"Topic4\", \"Topic4\", \"Topic4\", \"Topic4\", \"Topic4\", \"Topic4\", \"Topic4\", \"Topic4\", \"Topic4\", \"Topic4\", \"Topic4\", \"Topic4\", \"Topic4\", \"Topic4\", \"Topic4\", \"Topic4\", \"Topic4\", \"Topic4\", \"Topic4\", \"Topic4\", \"Topic4\", \"Topic4\", \"Topic4\", \"Topic4\", \"Topic4\", \"Topic4\", \"Topic4\", \"Topic4\", \"Topic4\", \"Topic4\", \"Topic4\", \"Topic4\", \"Topic4\", \"Topic4\", \"Topic4\", \"Topic4\", \"Topic4\", \"Topic4\", \"Topic4\", \"Topic4\", \"Topic5\", \"Topic5\", \"Topic5\", \"Topic5\", \"Topic5\", \"Topic5\", \"Topic5\", \"Topic5\", \"Topic5\", \"Topic5\", \"Topic5\", \"Topic5\", \"Topic5\", \"Topic5\", \"Topic5\", \"Topic5\", \"Topic5\", \"Topic5\", \"Topic5\", \"Topic5\", \"Topic5\", \"Topic5\", \"Topic5\", \"Topic5\", \"Topic5\", \"Topic5\", \"Topic5\", \"Topic5\", \"Topic5\", \"Topic5\", \"Topic5\", \"Topic5\", \"Topic5\", \"Topic5\", \"Topic5\", \"Topic5\", \"Topic5\", \"Topic5\", \"Topic5\", \"Topic5\", \"Topic5\", \"Topic5\", \"Topic5\", \"Topic5\", \"Topic5\", \"Topic5\", \"Topic5\", \"Topic5\", \"Topic5\", \"Topic5\", \"Topic5\", \"Topic5\", \"Topic5\", \"Topic5\", \"Topic5\", \"Topic5\", \"Topic5\"], \"logprob\": [30.0, 29.0, 28.0, 27.0, 26.0, 25.0, 24.0, 23.0, 22.0, 21.0, 20.0, 19.0, 18.0, 17.0, 16.0, 15.0, 14.0, 13.0, 12.0, 11.0, 10.0, 9.0, 8.0, 7.0, 6.0, 5.0, 4.0, 3.0, 2.0, 1.0, -3.4906, -3.8864, -3.0974, -4.5748, -2.1294, -4.5732, -4.737, -4.9472, -5.0623, -5.1212, -5.4093, -5.0613, -5.5441, -5.5846, -5.6031, -4.834, -5.6747, -5.698, -5.7155, -5.8097, -5.7958, -5.8035, -6.1156, -6.1199, -6.1746, -6.2686, -6.3262, -6.3887, -6.4661, -6.5054, -4.3259, -5.0809, -3.3688, -3.9624, -4.904, -3.114, -3.7729, -5.468, -4.2181, -4.11, -4.553, -3.6826, -3.9564, -3.8731, -4.7773, -5.0494, -5.3775, -4.4421, -4.8423, -4.9895, -4.765, -4.9982, -3.7735, -4.8151, -4.9547, -5.0601, -5.0807, -5.1318, -5.1757, -5.1898, -5.4136, -5.484, -5.5643, -5.6863, -5.7526, -5.8462, -5.8953, -5.9341, -5.9672, -6.0349, -6.0448, -6.1287, -6.176, -6.3207, -6.3231, -6.3472, -6.3215, -6.4186, -6.4474, -2.8574, -6.5057, -6.5415, -4.2855, -4.7689, -4.5296, -4.8831, -3.1231, -4.8949, -5.9268, -3.9753, -3.3623, -3.1762, -4.7796, -5.1613, -5.6439, -4.5907, -5.2842, -4.4884, -4.9723, -4.5859, -4.1929, -3.5752, -4.2312, -4.7765, -4.5536, -4.0189, -4.8479, -4.9459, -4.9636, -4.9961, -5.0331, -3.6585, -3.9399, -4.0408, -4.1508, -4.2044, -4.3331, -4.4074, -4.6163, -4.476, -4.7601, -4.7921, -4.8824, -4.9201, -5.0388, -5.0973, -5.1907, -4.75, -5.5379, -5.5917, -5.6247, -5.6848, -5.7328, -5.74, -5.7513, -5.852, -5.8948, -5.894, -6.1297, -6.1857, -6.2507, -2.6755, -2.7527, -3.4389, -3.6524, -5.3356, -4.24, -4.598, -3.3625, -5.1105, -3.8067, -4.2515, -4.2593, -4.5432, -4.0708, -4.2155, -4.6859, -4.6175, -4.8566, -2.7069, -3.6569, -3.1895, -3.929, -3.9131, -4.2013, -5.0071, -5.2388, -5.2541, -5.3686, -5.4357, -5.4777, -5.3539, -5.5593, -5.603, -5.782, -5.9424, -6.0406, -6.0407, -6.0743, -6.0851, -6.1026, -6.1325, -5.6317, -4.4471, -6.1963, -6.2371, -6.3113, -6.2895, -6.3101, -5.0795, -3.7927, -4.8968, -5.445, -3.9034, -5.1148, -4.1143, -5.0685, -4.9292, -4.1193, -5.0058, -4.8916, -3.6714, -3.8596, -3.8934, -4.1855, -4.4239, -4.993, -4.5572, -4.846, -4.8929, -4.8271, -4.64, -4.9774, -4.9872, -5.0521, -3.6232, -4.1637, -4.3277, -4.5759, -4.2851, -4.7396, -4.7657, -4.3679, -5.0182, -5.026, -5.0411, -5.2282, -5.3677, -5.4267, -5.7274, -5.7464, -5.8126, -5.8093, -5.8763, -6.1737, -6.2269, -6.2335, -6.2693, -6.2869, -6.3533, -6.3947, -6.4168, -6.4219, -6.4446, -6.4436, -3.9013, -3.6157, -5.1524, -4.8301, -5.7391, -4.6603, -4.2177, -5.1271, -4.4323, -3.7082, -4.3755, -4.6282, -3.7531, -4.0375, -4.095, -4.8338, -5.0824, -4.262, -4.7818, -4.6151, -4.2817, -4.4249, -4.7692, -4.7299, -4.8193, -4.8612, -4.644], \"loglift\": [30.0, 29.0, 28.0, 27.0, 26.0, 25.0, 24.0, 23.0, 22.0, 21.0, 20.0, 19.0, 18.0, 17.0, 16.0, 15.0, 14.0, 13.0, 12.0, 11.0, 10.0, 9.0, 8.0, 7.0, 6.0, 5.0, 4.0, 3.0, 2.0, 1.0, 1.3297, 1.3285, 1.3282, 1.325, 1.3247, 1.3241, 1.3238, 1.3218, 1.3199, 1.3198, 1.3157, 1.3148, 1.3134, 1.3126, 1.3124, 1.3123, 1.3109, 1.3104, 1.3099, 1.3078, 1.3078, 1.3061, 1.2992, 1.2991, 1.2967, 1.2939, 1.2917, 1.2888, 1.2853, 1.2838, 1.2451, 1.1884, 1.0318, 1.0382, 1.1371, 0.7281, 0.8426, 1.1701, 0.9067, 0.853, 0.9634, 0.3437, 0.3622, 0.3037, 0.7193, 0.8771, 1.1117, 0.1646, 0.496, 0.4344, -0.0636, -0.7338, 1.4336, 1.4272, 1.4256, 1.4243, 1.4241, 1.4234, 1.4228, 1.4226, 1.419, 1.4177, 1.4161, 1.4134, 1.4119, 1.4093, 1.408, 1.4067, 1.4059, 1.4035, 1.4032, 1.4004, 1.3968, 1.3926, 1.3919, 1.3915, 1.391, 1.388, 1.3868, 1.385, 1.3842, 1.3816, 1.3426, 1.3223, 1.296, 1.2921, 1.1413, 1.2556, 1.3529, 1.1064, 0.9563, 0.8929, 1.1323, 1.2104, 1.3053, 1.0118, 1.1993, 0.9389, 1.095, 0.9367, 0.7129, 0.267, 0.5304, 0.8742, 0.7038, 0.0074, 0.6488, 0.7063, -0.0249, 0.1279, 0.0917, 1.6798, 1.6785, 1.678, 1.6773, 1.6769, 1.676, 1.6754, 1.6734, 1.6725, 1.6718, 1.6711, 1.67, 1.6685, 1.6679, 1.667, 1.6653, 1.663, 1.6577, 1.6563, 1.6555, 1.6537, 1.6521, 1.6519, 1.6516, 1.648, 1.6467, 1.6467, 1.6369, 1.6345, 1.6301, 1.6125, 1.5987, 1.4833, 1.3426, 1.5645, 1.2554, 1.3165, 0.8143, 1.4212, 0.8947, 1.0058, 0.8647, 0.7974, 0.3298, -0.1891, 0.6523, 0.3211, -0.241, 1.8174, 1.8149, 1.8139, 1.8134, 1.8114, 1.8061, 1.7991, 1.7972, 1.7969, 1.7941, 1.7922, 1.7913, 1.7908, 1.7888, 1.7876, 1.7815, 1.7747, 1.77, 1.7698, 1.7681, 1.7679, 1.7672, 1.7659, 1.7657, 1.7644, 1.7623, 1.7592, 1.7561, 1.7558, 1.7556, 1.7435, 1.6857, 1.7182, 1.6937, 1.5369, 1.622, 1.3546, 1.5241, 1.3102, 0.8437, 1.2785, 1.2086, 0.3977, 0.3172, 0.1329, 0.4213, 0.5711, 1.1698, 0.5668, 0.5779, 0.5345, 0.0952, -0.7979, 0.6733, -0.3717, -0.7007, 1.8873, 1.884, 1.8826, 1.8799, 1.8785, 1.8776, 1.8773, 1.8753, 1.8731, 1.8728, 1.8726, 1.8685, 1.8651, 1.8632, 1.8533, 1.853, 1.8502, 1.85, 1.8473, 1.8327, 1.8294, 1.8273, 1.8269, 1.8254, 1.8212, 1.8185, 1.817, 1.8163, 1.8148, 1.8143, 1.8075, 1.7916, 1.7464, 1.6764, 1.7331, 1.4981, 1.3932, 1.5119, 1.2851, 1.0534, 1.2363, 1.2851, 0.8537, 0.8683, 0.8436, 1.2628, 1.3087, 0.4394, 0.8208, 0.4666, -0.2126, -0.1605, 0.6997, 0.2707, 0.6971, 0.8018, -0.8019]}, \"token.table\": {\"Topic\": [1, 3, 5, 2, 5, 1, 2, 3, 5, 2, 5, 1, 2, 4, 2, 4, 5, 5, 1, 4, 5, 3, 1, 1, 4, 4, 1, 3, 4, 3, 1, 1, 2, 1, 3, 4, 5, 3, 4, 4, 1, 5, 2, 2, 5, 1, 2, 2, 4, 5, 1, 2, 3, 5, 2, 5, 2, 5, 1, 2, 3, 4, 5, 5, 1, 2, 4, 4, 3, 4, 4, 3, 4, 2, 2, 4, 5, 4, 4, 2, 1, 2, 3, 4, 5, 5, 4, 4, 5, 3, 4, 1, 5, 2, 3, 3, 5, 2, 4, 3, 5, 1, 4, 1, 3, 1, 2, 4, 4, 3, 2, 2, 2, 5, 2, 3, 5, 1, 2, 3, 4, 5, 2, 4, 5, 2, 2, 4, 1, 2, 3, 4, 5, 3, 5, 3, 2, 3, 4, 2, 5, 4, 2, 3, 2, 3, 1, 3, 1, 2, 5, 3, 5, 5, 4, 2, 5, 3, 1, 2, 5, 1, 1, 2, 4, 1, 2, 4, 5, 5, 1, 2, 1, 3, 2, 4, 5, 3, 5, 3, 4, 1, 3, 2, 4, 1, 2, 4, 5, 1, 2, 3, 4, 5, 1, 2, 5, 1, 2, 3, 4, 5, 4, 2, 3, 5, 4, 4, 1, 4, 5, 1, 5, 4, 1, 3, 4, 2, 3, 2, 3, 1, 5, 1, 5, 4, 4, 4, 5, 3, 2, 1, 5, 1, 2, 5, 5, 3, 1, 2, 3, 5, 1, 2, 5, 4, 1, 4, 5, 2, 4, 2, 4, 1, 4, 2, 3, 4, 2, 3, 4, 5, 2, 5, 1, 3, 1, 2, 5, 1, 2, 4, 5, 5, 3, 1, 2, 4, 5, 4, 5, 2, 5, 1, 2, 3, 5, 2, 2, 1, 2, 3, 4, 5, 2, 5, 1, 2, 4, 5, 3, 3, 2, 3, 4, 5, 2, 4, 5, 2, 5, 1, 2, 1, 2, 4, 1, 1, 2, 4, 5, 4, 3, 5, 1, 3, 4, 5, 1, 3, 1, 3, 5, 1, 1, 1, 2, 2, 2, 4, 3, 3, 2, 5, 2, 3, 2, 4, 5, 2, 3, 2, 3, 4, 3, 4, 3, 1, 2, 1, 2, 3, 5, 4, 1, 3, 4, 3, 3, 4, 5, 1, 2, 3, 2, 3, 4, 1, 5, 1, 4, 3, 1, 1, 4, 2, 4, 5], \"Freq\": [0.34339977271600713, 0.6493377520448135, 0.9908552035584033, 0.9415188633462995, 0.945688551617885, 0.24836664031050057, 0.06491400826297174, 0.45439805784080217, 0.2342548993837676, 0.9923175006227518, 0.9871212538655421, 0.9386588697184648, 0.9582129847110242, 0.9911289944303576, 0.5688388768423592, 0.3208834689879975, 0.1093920917004537, 0.8913634131545404, 0.6341496769182644, 0.3555081522117543, 0.9726662141594555, 0.9732203765418004, 0.9283072921263137, 0.9821177565721821, 0.9762016665359255, 0.9893055084460799, 0.3574589082632064, 0.4192625512806767, 0.22215904111685258, 0.9495778911624373, 0.9457325927951612, 0.1068691769021843, 0.8816707094430204, 0.8188987229697263, 0.08619986557576066, 0.08619986557576066, 0.8900672504196966, 0.04182757145284538, 0.9620341434154437, 0.9483736818304418, 0.013188247620897769, 0.9891185715673326, 0.9909743764581049, 0.9126176162865351, 0.08555790152686267, 0.9980856694465012, 0.9936666106872942, 0.829455792998377, 0.15627427984027392, 0.9954157537306343, 0.1657950742489593, 0.3155454638931806, 0.4118135715216086, 0.10696456403158665, 0.3854406858467147, 0.6096970848848032, 0.9744186465085497, 0.9776793818297586, 0.3721625129590803, 0.23996579020913675, 0.15375053624178223, 0.1853627960298122, 0.0502922314809568, 0.9833812771384701, 0.9804446048651038, 0.05111132059878083, 0.9455594310774453, 0.9726620915691009, 0.7116631610003487, 0.28769361827673673, 0.9235310819566163, 0.9314815730794533, 0.06720107541254573, 0.996805871690389, 0.7079222879013831, 0.16591928622688668, 0.12167414323305023, 0.8991137564644954, 0.939194449093702, 0.9768849882888442, 0.43219300980475606, 0.03201429702257452, 0.3574929834187488, 0.1600714851128726, 0.021342864681716346, 0.9254184891358146, 0.9555222249587774, 0.1352273270228833, 0.8564397378115941, 0.9726324021802523, 0.9939851991311229, 0.978968478827912, 0.9097992964825729, 0.7949061173172267, 0.19497697217214996, 0.987490117163199, 0.9952221198877461, 0.9296147459049817, 0.037184589836199274, 0.9885776643368308, 0.9654215714811706, 0.41225364862422603, 0.5771551080739165, 0.9960310600574916, 0.0021420022796935305, 0.1338646598052602, 0.3407464067770259, 0.5232891246932898, 0.9592604612209336, 0.9927480567747224, 0.9682517161413636, 0.9587167736710724, 0.9609899085493947, 0.9766811364074138, 0.2572536389486069, 0.1948891204156113, 0.5456895371637116, 0.023979206872160895, 0.4046491159677151, 0.11090383178374413, 0.02997400859020112, 0.4316257236988961, 0.3058112817318285, 0.12232451269273138, 0.5504603071172912, 0.9904209546493572, 0.12276870063430186, 0.8777962095352583, 0.15742793710045888, 0.23256399798931424, 0.2576093516189327, 0.007155815322748131, 0.3506349508146584, 0.9571938369752687, 0.9798955112384284, 0.9918576706878288, 0.013139634528311918, 0.38104940132104564, 0.6044231883023482, 0.8685796956941825, 0.13028695435412738, 0.9746245072789139, 0.9710871388052423, 0.9874067152747985, 0.9797916572641585, 0.9838113740395138, 0.7395780085766399, 0.2590612233432298, 0.9157509170813539, 0.06733462625598191, 0.01346692525119638, 0.31502839246663017, 0.6785226914665881, 0.983535041215225, 0.8976411221324907, 0.0772875918817883, 0.9197223433932807, 0.9736323866048106, 0.3791477506809085, 0.6177991267440184, 0.0019246078714766927, 0.9890186123700015, 0.9534665688379887, 0.09688175262665212, 0.8719357736398692, 0.9409386626679501, 0.07065222635444138, 0.9184789426077379, 0.986530604386944, 0.9578718370985974, 0.8417406614116228, 0.13702754953212465, 0.9892163624343397, 0.9956127472877837, 0.22781538165987106, 0.22781538165987106, 0.535366146900697, 0.3134914730483091, 0.6857625972931761, 0.918810507193195, 0.07955069326348009, 0.9800501470341597, 0.9913776370008174, 0.9470607347368695, 0.9383315578402597, 0.9723466156711038, 0.7183464381910228, 0.04128427805695534, 0.23944881273034094, 0.0812086237814442, 0.41342572106917047, 0.007382602161949472, 0.1624172475628884, 0.3395996994496757, 0.125798608421713, 0.743852641102303, 0.12762177665970884, 0.6138554276466265, 0.08288343326874281, 0.14504600822029992, 0.11137461345487315, 0.04662193121366783, 0.9897153169138179, 0.22880707817511403, 0.774423956900386, 0.9696166143451581, 0.9791284175371766, 0.9556232704436305, 0.746114829195853, 0.05329391637113236, 0.19794883223563448, 0.9751258271986682, 0.9701075939358568, 0.9977166428872831, 0.0035198004642063804, 0.8165937076958802, 0.1795098236745254, 0.944681884771924, 0.9882873592010475, 0.9832451784794146, 0.99132544025469, 0.9850369112547344, 0.9950505536447936, 0.9921284402459533, 0.9909103509604205, 0.9790028324039854, 0.9908227450720042, 0.9925227080314336, 0.0038173950308901293, 0.9681200772565218, 0.9748869146276893, 0.9816351280772657, 0.9273604566387929, 0.9879759836241345, 0.9488014730601242, 0.04993691963474338, 0.9744376270421963, 0.986099092806317, 0.6551045476096532, 0.25859390037223157, 0.004309898339537192, 0.08188806845120665, 0.6886143351738413, 0.006376058659017049, 0.2996747569738013, 0.9594256486549984, 0.06688529121100396, 0.6262895449757644, 0.30402405095910895, 0.9881352337600231, 0.9886295568365934, 0.9542647953079174, 0.9530716157627589, 0.17284487758894146, 0.821013168547472, 0.14772343332240084, 0.09454299732633653, 0.7563439786106922, 0.27130948137119143, 0.4392629698390718, 0.2842289804841053, 0.004306499704304625, 0.6532974804789209, 0.340548686632629, 0.8664069541013991, 0.12183847792050925, 0.07431954092468966, 0.017150663290312996, 0.9032682666231512, 0.6196081821726265, 0.003666320604571754, 0.3776310222708907, 0.9404265151367549, 0.9227938854054394, 0.99787377310014, 0.4068784838258325, 0.2964400382159637, 0.29062748844702324, 0.005812549768940465, 0.18877856277409677, 0.8065993136711408, 0.12703584987655384, 0.8638437791605661, 0.19720412507509433, 0.4820545279613417, 0.1387732732009923, 0.17529255562230606, 0.9784030304887238, 0.9882109218518471, 0.5462058542698315, 0.31075168951894133, 0.002390397611684164, 0.072907127156367, 0.06812633193299868, 0.8949698971656829, 0.10195859587963475, 0.9831123534682659, 0.8624544896035344, 0.12320778422907636, 0.9783146893713524, 0.9500470653762059, 0.9654778537717268, 0.4847293496341243, 0.08309645993727845, 0.07270940244511864, 0.3600846597282066, 0.6065983506832767, 0.27413579309725006, 0.11082085252867556, 0.9920684356851485, 0.9545411547596598, 0.5438773123410212, 0.45635682529763844, 0.9698445750099502, 0.24314955963570006, 0.7481524911867694, 0.9867179723057476, 0.05549126453914274, 0.5804086318013039, 0.24146198894059412, 0.12148087642352871, 0.9664640309748379, 0.9661888128068625, 0.9817715241015197, 0.31066226553156767, 0.08729352915763058, 0.2464758470333099, 0.354309030110383, 0.10175058392306388, 0.8903176093268089, 0.22759050538532932, 0.2181075676609406, 0.5405274502901571, 0.9952252994415961, 0.9804047615164971, 0.8095563495013556, 0.18552333009406066, 0.9197951807317977, 0.9898270954668589, 0.9565590941907062, 0.9672748745624818, 0.9567479135022858, 0.7881876254318275, 0.20123939372727512, 0.9679596912557925, 0.9576066543900366, 0.7385985393012748, 0.12309975655021248, 0.1325689685925365, 0.9627686625675715, 0.9854182656746353, 0.9799782114767075, 0.9846098474890884, 0.015628727737922038, 0.07651199126807835, 0.8990158973999207, 0.9771748486913688, 0.9665861860655326, 0.9752168581583572, 0.12189700354886451, 0.6030693859785928, 0.09623447648594567, 0.1732220576747022, 0.9135984612960545, 0.9892541970311793, 0.9859104332818485, 0.9483842921018167, 0.9672329841695406, 0.36580739247421207, 0.537279607696499, 0.09145184811855302, 0.018988224802080532, 0.284823372031208, 0.6930702052759394, 0.48226517953386006, 0.5068705458366081, 0.009842146521099186, 0.9924308413300722, 0.006486476087124654, 0.9791424097290811, 0.0150637293804474, 0.9947892634205155, 0.9916515057434243, 0.9815318825586147, 0.011969901006812373, 0.3296818053604771, 0.14730463643765995, 0.5190734807803256], \"Term\": [\"action\", \"action\", \"activism\", \"addiction\", \"adolescence\", \"adventure\", \"adventure\", \"adventure\", \"adventure\", \"adversity\", \"age\", \"agent\", \"alienation\", \"ambiguity\", \"ambition\", \"ambition\", \"ambition\", \"animal\", \"anti\", \"anti\", \"apocalyptic\", \"archetype\", \"army\", \"assassination\", \"authoritarianism\", \"authority\", \"betrayal\", \"betrayal\", \"betrayal\", \"biography\", \"british\", \"bureaucracy\", \"bureaucracy\", \"camaraderie\", \"camaraderie\", \"camaraderie\", \"career\", \"censorship\", \"censorship\", \"character\", \"childhood\", \"childhood\", \"clash\", \"class\", \"class\", \"cold\", \"collective\", \"collectivism\", \"collectivism\", \"come\", \"comedy\", \"comedy\", \"comedy\", \"comedy\", \"community\", \"community\", \"compassion\", \"competition\", \"conflict\", \"conflict\", \"conflict\", \"conflict\", \"conflict\", \"connection\", \"context\", \"control\", \"control\", \"corporate\", \"corruption\", \"corruption\", \"creativity\", \"crime\", \"crime\", \"cultural\", \"culture\", \"culture\", \"culture\", \"cynicism\", \"dark\", \"deceit\", \"deception\", \"deception\", \"deception\", \"deception\", \"deception\", \"decision\", \"desperation\", \"destruction\", \"destruction\", \"detective\", \"dilemma\", \"diplomacy\", \"discipline\", \"discovery\", \"discovery\", \"drug\", \"dynamic\", \"economic\", \"economic\", \"enforcement\", \"equality\", \"escape\", \"escape\", \"espionage\", \"espionage\", \"ethic\", \"ethic\", \"ethic\", \"ethical\", \"evil\", \"exchange\", \"existential\", \"expectation\", \"experience\", \"exploration\", \"exploration\", \"exploration\", \"family\", \"family\", \"family\", \"family\", \"family\", \"fear\", \"fear\", \"fear\", \"fiction\", \"freedom\", \"freedom\", \"friendship\", \"friendship\", \"friendship\", \"friendship\", \"friendship\", \"frontier\", \"gender\", \"good\", \"greed\", \"greed\", \"greed\", \"growth\", \"growth\", \"guilt\", \"happiness\", \"heist\", \"heritage\", \"hero\", \"heroism\", \"heroism\", \"historical\", \"historical\", \"historical\", \"honor\", \"honor\", \"hope\", \"hostage\", \"human\", \"human\", \"hunt\", \"identity\", \"identity\", \"identity\", \"ii\", \"imprisonment\", \"individuality\", \"individuality\", \"infiltration\", \"injustice\", \"injustice\", \"innocence\", \"innovation\", \"intelligence\", \"intelligence\", \"intrigue\", \"investigation\", \"isolation\", \"isolation\", \"isolation\", \"issue\", \"issue\", \"justice\", \"justice\", \"korean\", \"law\", \"lawlessness\", \"legal\", \"liberation\", \"life\", \"life\", \"life\", \"loss\", \"loss\", \"loss\", \"loss\", \"loss\", \"love\", \"love\", \"love\", \"loyalty\", \"loyalty\", \"loyalty\", \"loyalty\", \"loyalty\", \"manipulation\", \"martial\", \"martial\", \"masculinity\", \"materialism\", \"militarism\", \"military\", \"military\", \"military\", \"mission\", \"monster\", \"moral\", \"morality\", \"morality\", \"morality\", \"motherhood\", \"murder\", \"music\", \"mystery\", \"nationalism\", \"nature\", \"naval\", \"nostalgia\", \"obsession\", \"occupation\", \"oppression\", \"oppression\", \"order\", \"overcome\", \"partisan\", \"past\", \"patriotism\", \"personal\", \"personal\", \"perspective\", \"police\", \"political\", \"political\", \"political\", \"political\", \"post\", \"post\", \"post\", \"poverty\", \"power\", \"power\", \"power\", \"pressure\", \"prison\", \"progress\", \"protection\", \"psychological\", \"psychological\", \"rebellion\", \"rebellion\", \"rebellion\", \"redemption\", \"redemption\", \"redemption\", \"redemption\", \"relationship\", \"relationship\", \"rescue\", \"rescue\", \"resilience\", \"resilience\", \"resilience\", \"resistance\", \"resistance\", \"resistance\", \"respect\", \"reunion\", \"revenge\", \"revolution\", \"revolution\", \"revolution\", \"revolution\", \"rivalry\", \"rivalry\", \"role\", \"role\", \"romance\", \"romance\", \"romance\", \"romance\", \"romantic\", \"rural\", \"sacrifice\", \"sacrifice\", \"sacrifice\", \"sacrifice\", \"sacrifice\", \"science\", \"science\", \"security\", \"self\", \"self\", \"service\", \"small\", \"smuggle\", \"social\", \"social\", \"social\", \"social\", \"societal\", \"societal\", \"societal\", \"society\", \"solidarity\", \"soviet\", \"soviet\", \"spy\", \"state\", \"state\", \"strategy\", \"struggle\", \"struggle\", \"struggle\", \"struggle\", \"suffer\", \"supernatural\", \"support\", \"survival\", \"survival\", \"survival\", \"survival\", \"suspense\", \"suspense\", \"teamwork\", \"teamwork\", \"teamwork\", \"tension\", \"terrorism\", \"threat\", \"threat\", \"tie\", \"time\", \"totalitarianism\", \"town\", \"trade\", \"tradition\", \"tradition\", \"traditional\", \"trafficking\", \"tragedy\", \"tragedy\", \"tragedy\", \"travel\", \"treasure\", \"triangle\", \"truth\", \"truth\", \"tyranny\", \"tyranny\", \"undercover\", \"union\", \"unknown\", \"value\", \"value\", \"value\", \"value\", \"victory\", \"vietnam\", \"vigilante\", \"village\", \"villain\", \"violence\", \"violence\", \"violence\", \"vs\", \"vs\", \"vs\", \"vs.\", \"vs.\", \"vs.\", \"war\", \"war\", \"warfare\", \"warfare\", \"western\", \"world\", \"wwii\", \"wwii\", \"youth\", \"youth\", \"youth\"]}, \"R\": 30, \"lambda.step\": 0.01, \"plot.opts\": {\"xlab\": \"PC1\", \"ylab\": \"PC2\"}, \"topic.order\": [3, 1, 4, 2, 5]};\n",
       "\n",
       "function LDAvis_load_lib(url, callback){\n",
       "  var s = document.createElement('script');\n",
       "  s.src = url;\n",
       "  s.async = true;\n",
       "  s.onreadystatechange = s.onload = callback;\n",
       "  s.onerror = function(){console.warn(\"failed to load library \" + url);};\n",
       "  document.getElementsByTagName(\"head\")[0].appendChild(s);\n",
       "}\n",
       "\n",
       "if(typeof(LDAvis) !== \"undefined\"){\n",
       "   // already loaded: just create the visualization\n",
       "   !function(LDAvis){\n",
       "       new LDAvis(\"#\" + \"ldavis_el31747134636466407460359991\", ldavis_el31747134636466407460359991_data);\n",
       "   }(LDAvis);\n",
       "}else if(typeof define === \"function\" && define.amd){\n",
       "   // require.js is available: use it to load d3/LDAvis\n",
       "   require.config({paths: {d3: \"https://d3js.org/d3.v5\"}});\n",
       "   require([\"d3\"], function(d3){\n",
       "      window.d3 = d3;\n",
       "      LDAvis_load_lib(\"https://cdn.jsdelivr.net/gh/bmabey/pyLDAvis@3.4.0/pyLDAvis/js/ldavis.v3.0.0.js\", function(){\n",
       "        new LDAvis(\"#\" + \"ldavis_el31747134636466407460359991\", ldavis_el31747134636466407460359991_data);\n",
       "      });\n",
       "    });\n",
       "}else{\n",
       "    // require.js not available: dynamically load d3 & LDAvis\n",
       "    LDAvis_load_lib(\"https://d3js.org/d3.v5.js\", function(){\n",
       "         LDAvis_load_lib(\"https://cdn.jsdelivr.net/gh/bmabey/pyLDAvis@3.4.0/pyLDAvis/js/ldavis.v3.0.0.js\", function(){\n",
       "                 new LDAvis(\"#\" + \"ldavis_el31747134636466407460359991\", ldavis_el31747134636466407460359991_data);\n",
       "            })\n",
       "         });\n",
       "}\n",
       "</script>"
      ],
      "text/plain": [
       "<IPython.core.display.HTML object>"
      ]
     },
     "execution_count": 31,
     "metadata": {},
     "output_type": "execute_result"
    }
   ],
   "source": [
    "# pyLDAvis.display(gensim_models.prepare(western_char_topic[0], western_char_topic[1], western_char_topic[2]))\n",
    "pyLDAvis.display(gensim_models.prepare(theme_topic[0], theme_topic[1], theme_topic[2]))"
   ]
  },
  {
   "cell_type": "code",
   "execution_count": 74,
   "metadata": {},
   "outputs": [
    {
     "data": {
      "text/html": [
       "\n",
       "<link rel=\"stylesheet\" type=\"text/css\" href=\"https://cdn.jsdelivr.net/gh/bmabey/pyLDAvis@3.4.0/pyLDAvis/js/ldavis.v1.0.0.css\">\n",
       "\n",
       "\n",
       "<div id=\"ldavis_el14165632420440981444268996299\" style=\"background-color:white;\"></div>\n",
       "<script type=\"text/javascript\">\n",
       "\n",
       "var ldavis_el14165632420440981444268996299_data = {\"mdsDat\": {\"x\": [-0.16812427521456116, 0.05742495659291698, 0.27518532000025414, -0.1644860013786098], \"y\": [-0.07460478069847144, -0.22685976553532886, 0.11388333247767683, 0.18758121375612352], \"topics\": [1, 2, 3, 4], \"cluster\": [1, 1, 1, 1], \"Freq\": [26.846176971117657, 26.384291057373993, 23.73225185974833, 23.03728011176002]}, \"tinfo\": {\"Term\": [\"villain\", \"loyalty\", \"antagonist\", \"resilience\", \"authority\", \"love\", \"antihero\", \"power\", \"manipulation\", \"romantic\", \"greed\", \"struggle\", \"ambition\", \"everyman\", \"victim\", \"rebel\", \"bravery\", \"resistance\", \"betrayal\", \"control\", \"duty\", \"revolutionary\", \"oppression\", \"soldier\", \"collective\", \"corruption\", \"heroism\", \"state\", \"law\", \"innocent\", \"antihero\", \"rebel\", \"bravery\", \"resistance\", \"revolutionary\", \"collective\", \"struggle\", \"community\", \"protagonist\", \"perseverance\", \"social\", \"heroic\", \"redemption\", \"class\", \"worker\", \"oppressed\", \"unity\", \"fighter\", \"solidarity\", \"defiance\", \"work\", \"individual\", \"noble\", \"age\", \"idealist\", \"come\", \"teamwork\", \"communist\", \"guardian\", \"ideology\", \"rebellion\", \"youth\", \"heroism\", \"freedom\", \"sacrifice\", \"collectivism\", \"archetypal\", \"self\", \"individualism\", \"tragic\", \"determination\", \"leader\", \"justice\", \"martyr\", \"loyalty\", \"authority\", \"control\", \"duty\", \"soldier\", \"state\", \"law\", \"courage\", \"honor\", \"enforcement\", \"integrity\", \"leadership\", \"protector\", \"authoritarianism\", \"loyal\", \"order\", \"ally\", \"supportive\", \"discipline\", \"caregiver\", \"oppressive\", \"corrupt\", \"conformity\", \"patriotism\", \"capitalism\", \"collaboration\", \"cooperation\", \"officer\", \"spy\", \"fear\", \"authoritarian\", \"oppression\", \"mentor\", \"justice\", \"tradition\", \"antagonist\", \"soviet\", \"sacrifice\", \"support\", \"tragic\", \"collectivism\", \"leader\", \"villain\", \"power\", \"manipulation\", \"greed\", \"ambition\", \"betrayal\", \"corruption\", \"deception\", \"cunne\", \"anti\", \"chaos\", \"tyranny\", \"ruthless\", \"revenge\", \"manipulative\", \"fatale\", \"femme\", \"ruthlessness\", \"innovation\", \"american\", \"scientist\", \"exploitation\", \"naive\", \"honesty\", \"villainy\", \"humor\", \"crime\", \"vengeance\", \"scientific\", \"progress\", \"antagonist\", \"oppression\", \"conflict\", \"tragic\", \"tyrant\", \"moral\", \"individualism\", \"resilience\", \"love\", \"romantic\", \"innocent\", \"innocence\", \"victim\", \"everyman\", \"idealism\", \"eastern\", \"interest\", \"youthful\", \"independence\", \"hope\", \"outsider\", \"emotional\", \"young\", \"heroine\", \"societal\", \"creativity\", \"connection\", \"artistic\", \"resourceful\", \"lover\", \"vulnerability\", \"change\", \"suffer\", \"adaptability\", \"critique\", \"wise\", \"disillusionment\", \"friendship\", \"identity\", \"nurture\", \"cultural\", \"sacrifice\", \"freedom\", \"tragic\", \"mentor\", \"martyr\", \"camaraderie\", \"truth\", \"traditional\"], \"Freq\": [366.0, 315.0, 390.0, 172.0, 184.0, 143.0, 159.0, 114.0, 108.0, 104.0, 106.0, 115.0, 101.0, 99.0, 98.0, 106.0, 101.0, 101.0, 90.0, 97.0, 78.0, 78.0, 141.0, 75.0, 75.0, 66.0, 116.0, 70.0, 69.0, 60.0, 158.67781195284013, 105.75579465256071, 100.53403176902374, 100.4563868375153, 77.76712627358862, 75.01901316731025, 114.41661473551147, 52.24646627592348, 54.17491484529922, 50.65372170468252, 47.9682862268653, 47.00383677760752, 41.713144878368375, 37.71140960654522, 36.026732388359534, 32.345111538630654, 30.726786225296973, 27.401469884899253, 26.51681261836663, 26.21888304726066, 23.798975958938975, 22.31735010294994, 23.30952959246779, 21.65324357959746, 20.978198152048495, 20.476777124359227, 20.68352527940372, 18.630132890183415, 19.109751846653225, 17.08672085273501, 70.25964824454604, 27.212440134556253, 96.28922110922663, 73.30840927237442, 114.37119699480944, 73.66223697143654, 30.582707510911096, 38.86170170400642, 37.07279785335877, 62.20448400954905, 39.089109731815725, 32.76833700509051, 34.47870140680197, 33.553952565121065, 314.945724220358, 183.36470328231061, 96.3999782891016, 77.57939486456507, 75.32278562621813, 69.54041305292711, 68.5233934823457, 55.57397650424739, 46.83489147556395, 44.733302362210814, 44.95813364733768, 44.494843597436045, 59.431289538897914, 38.4661343127654, 37.14213634989113, 33.30901038164255, 33.072617666705156, 32.02629318085493, 27.278651475874874, 25.22551897638046, 35.063738495082575, 24.53110695211974, 25.36328044357984, 24.07175386378747, 22.96781937872305, 21.954559737203038, 21.16740279609444, 20.933575040789624, 18.518791280034087, 18.20103201035223, 45.77868334526286, 90.9565424992588, 58.721445510447786, 56.78803727966986, 31.124099309025052, 99.16102556505584, 35.432460997997424, 48.90628045244318, 27.86443393916315, 40.16253222656106, 35.50068288902482, 31.042654296691826, 366.1512192254181, 113.95294742786821, 108.11325076941858, 105.7915327014552, 100.55112801739536, 89.40104883983874, 65.81645557385504, 50.15535022369759, 46.95137074896423, 45.22799646585906, 41.42916920278463, 39.63390984843711, 38.9337804506961, 36.35803444532937, 28.257513753489363, 25.082175393079716, 25.082175393079716, 23.042181806355817, 21.70154495147602, 21.46766242257445, 20.547605529648347, 19.78514533686093, 20.134527845934866, 19.544853481011252, 16.967290715549687, 17.490919336746924, 15.947918207280086, 16.023067656222704, 15.239235199012908, 14.159951226619995, 291.3149478755618, 50.32962528817299, 35.26627381869954, 51.05298894848138, 22.208522351166636, 21.988629236899673, 21.682309732543683, 172.1849011645611, 142.80966787241178, 103.89657697637467, 59.426787702805356, 58.89270002528523, 97.59303622426917, 98.58681892620268, 45.463389296150645, 42.20008966253367, 37.239045417267334, 37.15722965894645, 33.21211096093529, 31.968324539428274, 24.192040415450897, 23.799949047066033, 22.877481553768114, 21.7306469288286, 21.559539611005718, 21.330640626204527, 19.92570291156789, 19.691546625795116, 18.678275198743098, 18.365963767821768, 16.20567503647807, 16.04983198375477, 15.740501388031829, 15.739942810781924, 16.039705575434965, 15.497976982703886, 14.884181385541757, 30.380401836013238, 29.0758306166039, 33.53562906749936, 25.933591184444168, 44.637590797730816, 32.994982498623436, 41.049322161925815, 29.80385174830699, 26.99734359132323, 23.67783843933381, 21.007902419951648, 21.496678592004695], \"Total\": [366.0, 315.0, 390.0, 172.0, 184.0, 143.0, 159.0, 114.0, 108.0, 104.0, 106.0, 115.0, 101.0, 99.0, 98.0, 106.0, 101.0, 101.0, 90.0, 97.0, 78.0, 78.0, 141.0, 75.0, 75.0, 66.0, 116.0, 70.0, 69.0, 60.0, 159.36776456082913, 106.43690586259171, 101.21568137457753, 101.13953562885078, 78.44051543829312, 75.69721966430996, 115.85978549924543, 52.92602581343352, 54.90800052120055, 51.36803081538773, 48.65256727453808, 47.68800396686709, 42.45092575534156, 38.40025351776667, 36.70554590733194, 33.02699149269194, 31.404271715819867, 28.078306362767556, 27.198170600449224, 26.90065852204592, 24.471656042080564, 22.996581255076936, 24.023193849383805, 22.329448875761106, 21.66709778261217, 21.151775859346184, 21.36956169629247, 19.3162798207848, 19.82279463178311, 17.769143929706424, 73.23525119189453, 28.714580213041184, 116.92617999225281, 106.75407931569993, 208.13981442658817, 117.03852465830256, 36.14715563763766, 53.47577493408817, 60.39441446377498, 194.46932734651733, 72.04079880906478, 70.91157412346904, 91.71965978617013, 85.38782017024805, 315.6159567700526, 184.0351349382615, 97.18146250911113, 78.24407456396885, 75.9859902686345, 70.20068797970593, 69.1818262328695, 56.25983715658238, 47.50179820875539, 45.39841101888453, 45.628991797001696, 45.164958668102564, 60.331768828036815, 39.131791159009616, 37.80563477879453, 33.96686505853556, 33.73373306744583, 32.715747309578234, 27.947199397531367, 25.904413441300342, 36.01656152682465, 25.20833733872394, 26.06526536206832, 24.744139952072867, 23.644206893449045, 22.625591959870288, 21.845126589008927, 21.606619483308915, 19.18541864347152, 18.87574089042912, 58.3246861925196, 141.732106158886, 88.96651296059366, 91.71965978617013, 41.437569856102066, 390.9131623108493, 57.974200198575645, 208.13981442658817, 37.925533816740014, 194.46932734651733, 117.03852465830256, 70.91157412346904, 366.8156220763345, 114.61609771232825, 108.77638981032356, 106.4498301524366, 101.21852085681427, 90.07370422033195, 66.47722501374282, 50.82860451621701, 47.61727408189992, 45.90376036959172, 42.08981518811227, 40.29658959918578, 39.598223687493835, 37.02585371939198, 28.920464913593662, 25.74392717127873, 25.743927186995396, 23.70310418693783, 22.380853892480793, 22.143051425791423, 21.213425690275734, 20.444135659517297, 20.822766293001603, 20.276680415489576, 17.626977187154306, 18.172204393938458, 16.611779837757762, 16.696181456543332, 15.9196541667682, 14.828834131702688, 390.9131623108493, 141.732106158886, 83.61309678347217, 194.46932734651733, 43.11637156435818, 60.44603406680504, 60.39441446377498, 172.89017479006225, 143.47836600475713, 104.56338135992293, 60.09899832789826, 59.559495596240076, 98.70706126778488, 99.73935753091402, 46.12942638368916, 42.88189186312812, 37.90962067789505, 37.827337853165595, 33.87682904125995, 32.63048112867972, 24.86174826465516, 24.478953189157, 23.546183546712367, 22.39553087504754, 22.228534742737782, 21.993489853167542, 20.587148388538708, 20.36177120017697, 19.352588709624456, 19.039599112126304, 16.867202736630926, 16.71352898889555, 16.400553332052105, 16.40053968555609, 16.713334295839385, 16.16918341507336, 15.549445341046546, 38.85251296317901, 37.935912392893144, 58.34637746918837, 45.44045225156246, 208.13981442658817, 106.75407931569993, 194.46932734651733, 88.96651296059366, 85.38782017024805, 70.415709838814, 41.804655747036634, 66.48761102708895], \"Category\": [\"Default\", \"Default\", \"Default\", \"Default\", \"Default\", \"Default\", \"Default\", \"Default\", \"Default\", \"Default\", \"Default\", \"Default\", \"Default\", \"Default\", \"Default\", \"Default\", \"Default\", \"Default\", \"Default\", \"Default\", \"Default\", \"Default\", \"Default\", \"Default\", \"Default\", \"Default\", \"Default\", \"Default\", \"Default\", \"Default\", \"Topic1\", \"Topic1\", \"Topic1\", \"Topic1\", \"Topic1\", \"Topic1\", \"Topic1\", \"Topic1\", \"Topic1\", \"Topic1\", \"Topic1\", \"Topic1\", \"Topic1\", \"Topic1\", \"Topic1\", \"Topic1\", \"Topic1\", \"Topic1\", \"Topic1\", \"Topic1\", \"Topic1\", \"Topic1\", \"Topic1\", \"Topic1\", \"Topic1\", \"Topic1\", \"Topic1\", \"Topic1\", \"Topic1\", \"Topic1\", \"Topic1\", \"Topic1\", \"Topic1\", \"Topic1\", \"Topic1\", \"Topic1\", \"Topic1\", \"Topic1\", \"Topic1\", \"Topic1\", \"Topic1\", \"Topic1\", \"Topic1\", \"Topic1\", \"Topic2\", \"Topic2\", \"Topic2\", \"Topic2\", \"Topic2\", \"Topic2\", \"Topic2\", \"Topic2\", \"Topic2\", \"Topic2\", \"Topic2\", \"Topic2\", \"Topic2\", \"Topic2\", \"Topic2\", \"Topic2\", \"Topic2\", \"Topic2\", \"Topic2\", \"Topic2\", \"Topic2\", \"Topic2\", \"Topic2\", \"Topic2\", \"Topic2\", \"Topic2\", \"Topic2\", \"Topic2\", \"Topic2\", \"Topic2\", \"Topic2\", \"Topic2\", \"Topic2\", \"Topic2\", \"Topic2\", \"Topic2\", \"Topic2\", \"Topic2\", \"Topic2\", \"Topic2\", \"Topic2\", \"Topic2\", \"Topic3\", \"Topic3\", \"Topic3\", \"Topic3\", \"Topic3\", \"Topic3\", \"Topic3\", \"Topic3\", \"Topic3\", \"Topic3\", \"Topic3\", \"Topic3\", \"Topic3\", \"Topic3\", \"Topic3\", \"Topic3\", \"Topic3\", \"Topic3\", \"Topic3\", \"Topic3\", \"Topic3\", \"Topic3\", \"Topic3\", \"Topic3\", \"Topic3\", \"Topic3\", \"Topic3\", \"Topic3\", \"Topic3\", \"Topic3\", \"Topic3\", \"Topic3\", \"Topic3\", \"Topic3\", \"Topic3\", \"Topic3\", \"Topic3\", \"Topic4\", \"Topic4\", \"Topic4\", \"Topic4\", \"Topic4\", \"Topic4\", \"Topic4\", \"Topic4\", \"Topic4\", \"Topic4\", \"Topic4\", \"Topic4\", \"Topic4\", \"Topic4\", \"Topic4\", \"Topic4\", \"Topic4\", \"Topic4\", \"Topic4\", \"Topic4\", \"Topic4\", \"Topic4\", \"Topic4\", \"Topic4\", \"Topic4\", \"Topic4\", \"Topic4\", \"Topic4\", \"Topic4\", \"Topic4\", \"Topic4\", \"Topic4\", \"Topic4\", \"Topic4\", \"Topic4\", \"Topic4\", \"Topic4\", \"Topic4\", \"Topic4\", \"Topic4\", \"Topic4\", \"Topic4\"], \"logprob\": [30.0, 29.0, 28.0, 27.0, 26.0, 25.0, 24.0, 23.0, 22.0, 21.0, 20.0, 19.0, 18.0, 17.0, 16.0, 15.0, 14.0, 13.0, 12.0, 11.0, 10.0, 9.0, 8.0, 7.0, 6.0, 5.0, 4.0, 3.0, 2.0, 1.0, -3.3215, -3.7273, -3.7779, -3.7787, -4.0347, -4.0707, -3.6486, -4.4324, -4.3962, -4.4634, -4.5179, -4.5382, -4.6576, -4.7584, -4.8041, -4.9119, -4.9633, -5.0778, -5.1106, -5.1219, -5.2188, -5.283, -5.2395, -5.3132, -5.3449, -5.3691, -5.3591, -5.4636, -5.4382, -5.5501, -4.1362, -5.0847, -3.821, -4.0937, -3.649, -4.0889, -4.968, -4.7284, -4.7755, -4.258, -4.7226, -4.8989, -4.8481, -4.8752, -2.6186, -3.1596, -3.8025, -4.0197, -4.0493, -4.1291, -4.1439, -4.3533, -4.5244, -4.5703, -4.5653, -4.5757, -4.2862, -4.7213, -4.7563, -4.8652, -4.8723, -4.9045, -5.0649, -5.1432, -4.8139, -5.1711, -5.1377, -5.19, -5.237, -5.2821, -5.3186, -5.3297, -5.4523, -5.4696, -4.5472, -3.8607, -4.2982, -4.3317, -4.9331, -3.7743, -4.8034, -4.4811, -5.0437, -4.6781, -4.8015, -4.9357, -2.3621, -3.5293, -3.5819, -3.6036, -3.6544, -3.772, -4.0782, -4.35, -4.416, -4.4534, -4.5411, -4.5854, -4.6033, -4.6717, -4.9238, -5.043, -5.043, -5.1278, -5.1877, -5.1986, -5.2424, -5.2802, -5.2627, -5.2924, -5.4338, -5.4034, -5.4958, -5.4911, -5.5412, -5.6147, -2.5907, -4.3465, -4.7022, -4.3323, -5.1646, -5.1746, -5.1886, -3.0868, -3.2739, -3.592, -4.1506, -4.1597, -3.6546, -3.6445, -4.4185, -4.493, -4.618, -4.6202, -4.7325, -4.7706, -5.0494, -5.0657, -5.1052, -5.1567, -5.1646, -5.1752, -5.2434, -5.2552, -5.308, -5.3249, -5.45, -5.4597, -5.4792, -5.4792, -5.4603, -5.4947, -5.5351, -4.8216, -4.8655, -4.7228, -4.9799, -4.4368, -4.739, -4.5206, -4.8408, -4.9397, -5.0709, -5.1905, -5.1675], \"loglift\": [30.0, 29.0, 28.0, 27.0, 26.0, 25.0, 24.0, 23.0, 22.0, 21.0, 20.0, 19.0, 18.0, 17.0, 16.0, 15.0, 14.0, 13.0, 12.0, 11.0, 10.0, 9.0, 8.0, 7.0, 6.0, 5.0, 4.0, 3.0, 2.0, 1.0, 1.3107, 1.3086, 1.3083, 1.3083, 1.3064, 1.306, 1.3025, 1.3021, 1.3016, 1.301, 1.3009, 1.3006, 1.2975, 1.2969, 1.2964, 1.2942, 1.2932, 1.2906, 1.2897, 1.2894, 1.2872, 1.2851, 1.2849, 1.2843, 1.2827, 1.2826, 1.2824, 1.2789, 1.2784, 1.2759, 1.2736, 1.2613, 1.1209, 0.9392, 0.7163, 0.852, 1.1479, 0.9958, 0.827, 0.1752, 0.7037, 0.5431, 0.3367, 0.381, 1.3303, 1.3288, 1.3243, 1.3239, 1.3236, 1.323, 1.3228, 1.3201, 1.3183, 1.3176, 1.3176, 1.3175, 1.3174, 1.3152, 1.3147, 1.3128, 1.3126, 1.3111, 1.3082, 1.3058, 1.3056, 1.3052, 1.3051, 1.3049, 1.3034, 1.3023, 1.3009, 1.3008, 1.297, 1.296, 1.0902, 0.8888, 0.9169, 0.853, 1.0462, -0.0393, 0.84, -0.1159, 1.0241, -0.2449, 0.1395, 0.5063, 1.4365, 1.4325, 1.4322, 1.4321, 1.4317, 1.4308, 1.4283, 1.425, 1.4243, 1.4235, 1.4225, 1.4218, 1.4214, 1.4201, 1.4151, 1.4123, 1.4123, 1.4101, 1.4075, 1.4074, 1.4064, 1.4056, 1.4047, 1.4016, 1.4002, 1.4001, 1.3976, 1.3972, 1.3947, 1.3922, 1.1443, 0.403, 0.5751, 0.1009, 0.7749, 0.4271, 0.4139, 1.464, 1.4634, 1.4617, 1.4568, 1.4568, 1.4567, 1.4564, 1.4535, 1.452, 1.4502, 1.4502, 1.4482, 1.4476, 1.4407, 1.4399, 1.4392, 1.4379, 1.4375, 1.4375, 1.4354, 1.4346, 1.4326, 1.432, 1.428, 1.4275, 1.427, 1.4269, 1.4269, 1.4257, 1.4243, 1.2221, 1.2021, 0.9143, 0.9072, -0.0716, 0.2939, -0.0874, 0.3744, 0.3166, 0.3782, 0.7799, 0.3389]}, \"token.table\": {\"Topic\": [4, 1, 2, 3, 3, 2, 3, 3, 1, 1, 3, 4, 2, 3, 2, 2, 3, 1, 1, 2, 4, 2, 2, 4, 3, 1, 2, 1, 1, 2, 4, 1, 1, 1, 1, 2, 3, 2, 4, 2, 2, 2, 3, 2, 4, 3, 4, 1, 4, 3, 3, 1, 1, 2, 4, 2, 4, 2, 4, 4, 2, 1, 4, 3, 3, 2, 3, 1, 1, 4, 3, 4, 3, 1, 1, 4, 1, 2, 4, 3, 2, 4, 3, 4, 1, 1, 4, 1, 4, 1, 1, 3, 4, 4, 4, 3, 2, 4, 1, 2, 2, 1, 2, 3, 2, 4, 4, 2, 2, 3, 3, 1, 2, 4, 2, 4, 1, 2, 3, 3, 1, 2, 4, 2, 1, 2, 3, 2, 2, 4, 2, 1, 3, 3, 1, 2, 1, 1, 4, 1, 4, 1, 4, 3, 1, 4, 3, 3, 1, 2, 4, 3, 3, 1, 4, 1, 4, 2, 1, 1, 2, 2, 2, 1, 4, 4, 1, 2, 2, 1, 2, 3, 1, 2, 4, 1, 2, 3, 4, 2, 3, 4, 3, 2, 3, 1, 3, 1, 4, 3, 3, 4, 4, 1, 1, 4, 1, 4, 4], \"Freq\": [0.975577652123921, 0.9852459916232538, 0.9782492774820137, 0.9978410981017655, 0.9483787756343266, 0.25325317626751187, 0.7444108514529895, 0.9803118445566301, 0.9976923528930547, 0.8576055142696134, 0.13832347004348602, 0.9822328226449265, 0.7886883411281809, 0.20574478464213414, 0.9710774506995948, 0.9943753406728081, 0.9880797150552894, 0.997869091314227, 0.3550344100375694, 0.2982289044315583, 0.34083303363606665, 0.9727541339681167, 0.9650865114799935, 0.9573082986023108, 0.9741073895610719, 0.9895768001223876, 0.9723502500628551, 0.9907893623120918, 0.6322704444202897, 0.3075910270152761, 0.06835356155895024, 0.9455470846984577, 0.9836262560017134, 0.9825033941392501, 0.32291591914027873, 0.2631166748550419, 0.4185947099966576, 0.9591308453119163, 0.971479858334067, 0.9878427173392214, 0.9613128088058716, 0.9917353796117326, 0.9928212254099932, 0.9953814804714205, 0.954828003204573, 0.9631719271665751, 0.9573194502537437, 0.41812964128997393, 0.5721774038704907, 0.987036761473615, 0.9836980667853542, 0.9665190901810897, 0.5413599050083366, 0.18045330166944554, 0.2637394409014973, 0.9661075378588727, 0.9646646340756508, 0.9968806000284494, 0.9794343993510601, 0.9804340820681354, 0.991224119744658, 0.010026132358934155, 0.9925871035344813, 0.9782756450595875, 0.9711028093604656, 0.9536049527532366, 0.9711028087676075, 0.9615964599560958, 0.6838146183071822, 0.30912167676900015, 0.2059068870932929, 0.7721508265998485, 0.9957742520416195, 0.9584925008271097, 0.9855728084709708, 0.9823388479936311, 0.8210308419069252, 0.15394328285754846, 0.025657213809591413, 0.9863547479261834, 0.9894362270971271, 0.9806781540795126, 0.9354946505923376, 0.9755161407320575, 0.9692114841911353, 0.21088197160373842, 0.7644471470635518, 0.9567146322440121, 0.9741171453741427, 0.9566639386949344, 0.6126394357576375, 0.3642720969369736, 0.016557822588044255, 0.9906061058670987, 0.9817135333620345, 0.982983049069064, 0.9862150844840051, 0.9760055452513287, 0.37069478974590203, 0.6214589122210711, 0.9973717630370517, 0.4653683183303958, 0.43716417782552336, 0.09871449176705366, 0.9742065817736415, 0.9966659363493081, 0.9453980566500382, 0.9786900872447084, 0.998048397880905, 0.9928625153705011, 0.9681725409206333, 0.39818325297694773, 0.2927818036595204, 0.316204347952282, 0.6631708722374354, 0.3372055282563231, 0.24815523849624244, 0.3805046990275717, 0.3639610164611556, 0.9604871763230551, 0.9574080842123309, 0.41133659090787517, 0.5827268371194898, 0.9719243686511198, 0.9689044794492048, 0.6420563587616924, 0.35277821909983104, 0.9717751644318536, 0.9715350516784711, 0.9653383882950715, 0.9699266188473635, 0.9928354112558762, 0.9946246842753748, 0.9441065882630167, 0.9834632382789106, 0.9779259111094066, 0.9958951656941648, 0.9558238534142885, 0.04096387943204094, 0.9893777168031531, 0.9948512123887713, 0.9887330347943014, 0.9817807986872006, 0.9722935836357313, 0.9943840828195518, 0.9946120587093135, 0.9848926635645333, 0.970337041874655, 0.5477087616036493, 0.23541867823314752, 0.21620082694880896, 0.9422315235535738, 0.9899391218847992, 0.7293021942752516, 0.26180078768855186, 0.9865871975294591, 0.989718857073454, 0.9870240518660255, 0.9927138261113065, 0.37947914632103047, 0.6037168236925484, 0.9903354392772338, 0.9971412248870845, 0.9839479635558488, 0.008631122487332006, 0.975576840369813, 0.26367460108329666, 0.7382888830332306, 0.9781222387248149, 0.9827061639567184, 0.7481133692842502, 0.24132689331750007, 0.37600990039804993, 0.30080792031843995, 0.31584831633436194, 0.3188163441812323, 0.2056879639878918, 0.26225215408456204, 0.2108301630875891, 0.14352468386072803, 0.3348909290083654, 0.5023363935125481, 0.9926398337393849, 0.46386092508147986, 0.5102470175896279, 0.9871268558787748, 0.9583029533815653, 0.010130987460837019, 0.9928367711620278, 0.9977764794429482, 0.9644308164413342, 0.9485864520530366, 0.9276906331594078, 0.980726435461927, 0.9807782205688158, 0.9768037335804839, 0.94028886369502, 0.03482551347018593, 0.9781285731399584], \"Term\": [\"adaptability\", \"age\", \"ally\", \"ambition\", \"american\", \"antagonist\", \"antagonist\", \"anti\", \"antihero\", \"archetypal\", \"archetypal\", \"artistic\", \"authoritarian\", \"authoritarian\", \"authoritarianism\", \"authority\", \"betrayal\", \"bravery\", \"camaraderie\", \"camaraderie\", \"camaraderie\", \"capitalism\", \"caregiver\", \"change\", \"chaos\", \"class\", \"collaboration\", \"collective\", \"collectivism\", \"collectivism\", \"collectivism\", \"come\", \"communist\", \"community\", \"conflict\", \"conflict\", \"conflict\", \"conformity\", \"connection\", \"control\", \"cooperation\", \"corrupt\", \"corruption\", \"courage\", \"creativity\", \"crime\", \"critique\", \"cultural\", \"cultural\", \"cunne\", \"deception\", \"defiance\", \"determination\", \"determination\", \"determination\", \"discipline\", \"disillusionment\", \"duty\", \"eastern\", \"emotional\", \"enforcement\", \"everyman\", \"everyman\", \"exploitation\", \"fatale\", \"fear\", \"femme\", \"fighter\", \"freedom\", \"freedom\", \"friendship\", \"friendship\", \"greed\", \"guardian\", \"heroic\", \"heroine\", \"heroism\", \"heroism\", \"heroism\", \"honesty\", \"honor\", \"hope\", \"humor\", \"idealism\", \"idealist\", \"identity\", \"identity\", \"ideology\", \"independence\", \"individual\", \"individualism\", \"individualism\", \"individualism\", \"innocence\", \"innocent\", \"innovation\", \"integrity\", \"interest\", \"justice\", \"justice\", \"law\", \"leader\", \"leader\", \"leader\", \"leadership\", \"love\", \"lover\", \"loyal\", \"loyalty\", \"manipulation\", \"manipulative\", \"martyr\", \"martyr\", \"martyr\", \"mentor\", \"mentor\", \"moral\", \"moral\", \"moral\", \"naive\", \"noble\", \"nurture\", \"nurture\", \"officer\", \"oppressed\", \"oppression\", \"oppression\", \"oppressive\", \"order\", \"outsider\", \"patriotism\", \"perseverance\", \"power\", \"progress\", \"protagonist\", \"protector\", \"rebel\", \"rebellion\", \"rebellion\", \"redemption\", \"resilience\", \"resistance\", \"resourceful\", \"revenge\", \"revolutionary\", \"romantic\", \"ruthless\", \"ruthlessness\", \"sacrifice\", \"sacrifice\", \"sacrifice\", \"scientific\", \"scientist\", \"self\", \"self\", \"social\", \"societal\", \"soldier\", \"solidarity\", \"soviet\", \"soviet\", \"spy\", \"state\", \"struggle\", \"struggle\", \"suffer\", \"support\", \"support\", \"supportive\", \"teamwork\", \"tradition\", \"tradition\", \"traditional\", \"traditional\", \"traditional\", \"tragic\", \"tragic\", \"tragic\", \"tragic\", \"truth\", \"truth\", \"truth\", \"tyranny\", \"tyrant\", \"tyrant\", \"unity\", \"vengeance\", \"victim\", \"victim\", \"villain\", \"villainy\", \"vulnerability\", \"wise\", \"work\", \"worker\", \"young\", \"youth\", \"youth\", \"youthful\"]}, \"R\": 30, \"lambda.step\": 0.01, \"plot.opts\": {\"xlab\": \"PC1\", \"ylab\": \"PC2\"}, \"topic.order\": [3, 1, 4, 2]};\n",
       "\n",
       "function LDAvis_load_lib(url, callback){\n",
       "  var s = document.createElement('script');\n",
       "  s.src = url;\n",
       "  s.async = true;\n",
       "  s.onreadystatechange = s.onload = callback;\n",
       "  s.onerror = function(){console.warn(\"failed to load library \" + url);};\n",
       "  document.getElementsByTagName(\"head\")[0].appendChild(s);\n",
       "}\n",
       "\n",
       "if(typeof(LDAvis) !== \"undefined\"){\n",
       "   // already loaded: just create the visualization\n",
       "   !function(LDAvis){\n",
       "       new LDAvis(\"#\" + \"ldavis_el14165632420440981444268996299\", ldavis_el14165632420440981444268996299_data);\n",
       "   }(LDAvis);\n",
       "}else if(typeof define === \"function\" && define.amd){\n",
       "   // require.js is available: use it to load d3/LDAvis\n",
       "   require.config({paths: {d3: \"https://d3js.org/d3.v5\"}});\n",
       "   require([\"d3\"], function(d3){\n",
       "      window.d3 = d3;\n",
       "      LDAvis_load_lib(\"https://cdn.jsdelivr.net/gh/bmabey/pyLDAvis@3.4.0/pyLDAvis/js/ldavis.v3.0.0.js\", function(){\n",
       "        new LDAvis(\"#\" + \"ldavis_el14165632420440981444268996299\", ldavis_el14165632420440981444268996299_data);\n",
       "      });\n",
       "    });\n",
       "}else{\n",
       "    // require.js not available: dynamically load d3 & LDAvis\n",
       "    LDAvis_load_lib(\"https://d3js.org/d3.v5.js\", function(){\n",
       "         LDAvis_load_lib(\"https://cdn.jsdelivr.net/gh/bmabey/pyLDAvis@3.4.0/pyLDAvis/js/ldavis.v3.0.0.js\", function(){\n",
       "                 new LDAvis(\"#\" + \"ldavis_el14165632420440981444268996299\", ldavis_el14165632420440981444268996299_data);\n",
       "            })\n",
       "         });\n",
       "}\n",
       "</script>"
      ],
      "text/plain": [
       "<IPython.core.display.HTML object>"
      ]
     },
     "execution_count": 74,
     "metadata": {},
     "output_type": "execute_result"
    }
   ],
   "source": [
    "pyLDAvis.display(gensim_models.prepare(eastern_char_topic[0], eastern_char_topic[1], eastern_char_topic[2]))"
   ]
  },
  {
   "cell_type": "code",
   "execution_count": 243,
   "metadata": {},
   "outputs": [],
   "source": [
    "from empath import Empath\n",
    "lexicon = Empath()\n",
    "\n",
    "# Select lexical categories of interest\n",
    "CAT = ['politics', 'leader', 'military', 'heroic', 'law', 'affection', 'help',\n",
    "        'pride', 'family', 'love', 'power', 'deception', 'friends', 'sadness', 'disappointment']\n",
    "\n",
    "# Define groups of similar topics\n",
    "TOPIC_GROUPS = {\n",
    "    'love&affection': ['love', 'affection', 'family', 'friends'],\n",
    "    'politics&power': ['politics', 'leader', 'military', 'power'],\n",
    "    'deception&sadness': ['deception', 'sadness', 'disappointment']\n",
    "}\n",
    "\n",
    "def semantical_analysis(text, categories):\n",
    "    \"\"\"\n",
    "    Perform a semantical analysis of a text using the Empath lexicon\n",
    "\n",
    "    Parameters\n",
    "    text : str, the text to analyze\n",
    "    categories : list[str], the lexical categories to consider\n",
    "\n",
    "    Returns\n",
    "    dict[str, float], the analysis results (only the categories with non-zero values)\n",
    "    \"\"\"\n",
    "    analysis = lexicon.analyze(text, categories=categories, normalize=True)\n",
    "    return None if max(analysis.values()) == 0 else {k: v for k, v in analysis.items() if v != 0}\n",
    "\n",
    "def map_topic_to_group(topic, groups):\n",
    "    \"\"\"\n",
    "    Map a topic to a group of similar topics\n",
    "    \"\"\"\n",
    "    for group, topics in groups.items():\n",
    "        if topic in topics:\n",
    "            return group\n",
    "    return topic  "
   ]
  },
  {
   "cell_type": "code",
   "execution_count": 244,
   "metadata": {},
   "outputs": [
    {
     "name": "stdout",
     "output_type": "stream",
     "text": [
      "help\n",
      "office\n",
      "dance\n",
      "money\n",
      "wedding\n",
      "domestic_work\n",
      "sleep\n",
      "medical_emergency\n",
      "cold\n",
      "hate\n",
      "cheerfulness\n",
      "aggression\n",
      "occupation\n",
      "envy\n",
      "anticipation\n",
      "family\n",
      "vacation\n",
      "crime\n",
      "attractive\n",
      "masculine\n",
      "prison\n",
      "health\n",
      "pride\n",
      "dispute\n",
      "nervousness\n",
      "government\n",
      "weakness\n",
      "horror\n",
      "swearing_terms\n",
      "leisure\n",
      "suffering\n",
      "royalty\n",
      "wealthy\n",
      "tourism\n",
      "furniture\n",
      "school\n",
      "magic\n",
      "beach\n",
      "journalism\n",
      "morning\n",
      "banking\n",
      "social_media\n",
      "exercise\n",
      "night\n",
      "kill\n",
      "blue_collar_job\n",
      "art\n",
      "ridicule\n",
      "play\n",
      "computer\n",
      "college\n",
      "optimism\n",
      "stealing\n",
      "real_estate\n",
      "home\n",
      "divine\n",
      "sexual\n",
      "fear\n",
      "irritability\n",
      "superhero\n",
      "business\n",
      "driving\n",
      "pet\n",
      "childish\n",
      "cooking\n",
      "exasperation\n",
      "religion\n",
      "hipster\n",
      "internet\n",
      "surprise\n",
      "reading\n",
      "worship\n",
      "leader\n",
      "independence\n",
      "movement\n",
      "body\n",
      "noise\n",
      "eating\n",
      "medieval\n",
      "zest\n",
      "confusion\n",
      "water\n",
      "sports\n",
      "death\n",
      "healing\n",
      "legend\n",
      "heroic\n",
      "celebration\n",
      "restaurant\n",
      "violence\n",
      "programming\n",
      "dominant_heirarchical\n",
      "military\n",
      "neglect\n",
      "swimming\n",
      "exotic\n",
      "love\n",
      "hiking\n",
      "communication\n",
      "hearing\n",
      "order\n",
      "sympathy\n",
      "hygiene\n",
      "weather\n",
      "anonymity\n",
      "trust\n",
      "ancient\n",
      "deception\n",
      "fabric\n",
      "air_travel\n",
      "fight\n",
      "dominant_personality\n",
      "music\n",
      "vehicle\n",
      "politeness\n",
      "toy\n",
      "farming\n",
      "meeting\n",
      "war\n",
      "speaking\n",
      "listen\n",
      "urban\n",
      "shopping\n",
      "disgust\n",
      "fire\n",
      "tool\n",
      "phone\n",
      "gain\n",
      "sound\n",
      "injury\n",
      "sailing\n",
      "rage\n",
      "science\n",
      "work\n",
      "appearance\n",
      "valuable\n",
      "warmth\n",
      "youth\n",
      "sadness\n",
      "fun\n",
      "emotional\n",
      "joy\n",
      "affection\n",
      "traveling\n",
      "fashion\n",
      "ugliness\n",
      "lust\n",
      "shame\n",
      "torment\n",
      "economics\n",
      "anger\n",
      "politics\n",
      "ship\n",
      "clothing\n",
      "car\n",
      "strength\n",
      "technology\n",
      "breaking\n",
      "shape_and_size\n",
      "power\n",
      "white_collar_job\n",
      "animal\n",
      "party\n",
      "terrorism\n",
      "smell\n",
      "disappointment\n",
      "poor\n",
      "plant\n",
      "pain\n",
      "beauty\n",
      "timidity\n",
      "philosophy\n",
      "negotiate\n",
      "negative_emotion\n",
      "cleaning\n",
      "messaging\n",
      "competing\n",
      "law\n",
      "friends\n",
      "payment\n",
      "achievement\n",
      "alcohol\n",
      "liquid\n",
      "feminine\n",
      "weapon\n",
      "children\n",
      "monster\n",
      "ocean\n",
      "giving\n",
      "contentment\n",
      "writing\n",
      "rural\n",
      "positive_emotion\n",
      "musical\n"
     ]
    }
   ],
   "source": [
    "for cat in list(lexicon.cats.keys()):\n",
    "    print(cat)"
   ]
  },
  {
   "cell_type": "code",
   "execution_count": 245,
   "metadata": {},
   "outputs": [
    {
     "name": "stdout",
     "output_type": "stream",
     "text": [
      "Total number of characters : 8243\n",
      "Characters with empath analysis not None : 6588\n",
      "\n",
      "Number of characters per category :\n",
      "politics: 814\n",
      "leader: 1191\n",
      "military: 724\n",
      "heroic: 3896\n",
      "law: 948\n",
      "affection: 711\n",
      "help: 512\n",
      "pride: 1915\n",
      "family: 269\n",
      "love: 554\n",
      "power: 1097\n",
      "deception: 604\n",
      "friends: 359\n",
      "sadness: 626\n",
      "disappointment: 215\n"
     ]
    },
    {
     "data": {
      "text/html": [
       "<div>\n",
       "<style scoped>\n",
       "    .dataframe tbody tr th:only-of-type {\n",
       "        vertical-align: middle;\n",
       "    }\n",
       "\n",
       "    .dataframe tbody tr th {\n",
       "        vertical-align: top;\n",
       "    }\n",
       "\n",
       "    .dataframe thead th {\n",
       "        text-align: right;\n",
       "    }\n",
       "</style>\n",
       "<table border=\"1\" class=\"dataframe\">\n",
       "  <thead>\n",
       "    <tr style=\"text-align: right;\">\n",
       "      <th></th>\n",
       "      <th>movie_side</th>\n",
       "      <th>title</th>\n",
       "      <th>year_release_date</th>\n",
       "      <th>character_name</th>\n",
       "      <th>character_representation</th>\n",
       "      <th>character_side</th>\n",
       "      <th>empath_analysis</th>\n",
       "    </tr>\n",
       "  </thead>\n",
       "  <tbody>\n",
       "    <tr>\n",
       "      <th>23296</th>\n",
       "      <td>Western</td>\n",
       "      <td>The Angry Red Planet</td>\n",
       "      <td>1959</td>\n",
       "      <td>Dr. Iris Ryan</td>\n",
       "      <td>[colonel tom o'bannion, bravery, scientific in...</td>\n",
       "      <td>Western</td>\n",
       "      <td>{'military': 0.125, 'heroic': 0.25}</td>\n",
       "    </tr>\n",
       "    <tr>\n",
       "      <th>14399</th>\n",
       "      <td>Western</td>\n",
       "      <td>Macao</td>\n",
       "      <td>1952</td>\n",
       "      <td>Julie Benson</td>\n",
       "      <td>[cynical, sultry night club singer, femme fata...</td>\n",
       "      <td>Eastern</td>\n",
       "      <td>{'heroic': 0.125}</td>\n",
       "    </tr>\n",
       "    <tr>\n",
       "      <th>2186</th>\n",
       "      <td>Western</td>\n",
       "      <td>Ashanti</td>\n",
       "      <td>1979</td>\n",
       "      <td>David Linderby</td>\n",
       "      <td>[values freedom, fight against injustice, arch...</td>\n",
       "      <td>Western</td>\n",
       "      <td>{'heroic': 0.14285714285714285, 'power': 0.142...</td>\n",
       "    </tr>\n",
       "    <tr>\n",
       "      <th>22470</th>\n",
       "      <td>None</td>\n",
       "      <td>Suspect</td>\n",
       "      <td>1960</td>\n",
       "      <td>Kathleen Riley</td>\n",
       "      <td>[public defender, justice, moral integrity, hero]</td>\n",
       "      <td>Western</td>\n",
       "      <td>{'military': 0.16666666666666666, 'heroic': 0....</td>\n",
       "    </tr>\n",
       "    <tr>\n",
       "      <th>24552</th>\n",
       "      <td>Western</td>\n",
       "      <td>The Divided Heart</td>\n",
       "      <td>1954</td>\n",
       "      <td>Natural Mother</td>\n",
       "      <td>[loss, survival, family, victim]</td>\n",
       "      <td>Eastern</td>\n",
       "      <td>{'family': 0.25, 'sadness': 0.25}</td>\n",
       "    </tr>\n",
       "  </tbody>\n",
       "</table>\n",
       "</div>"
      ],
      "text/plain": [
       "      movie_side                 title  year_release_date  character_name  \\\n",
       "23296    Western  The Angry Red Planet               1959   Dr. Iris Ryan   \n",
       "14399    Western                 Macao               1952    Julie Benson   \n",
       "2186     Western               Ashanti               1979  David Linderby   \n",
       "22470       None               Suspect               1960  Kathleen Riley   \n",
       "24552    Western     The Divided Heart               1954  Natural Mother   \n",
       "\n",
       "                                character_representation character_side  \\\n",
       "23296  [colonel tom o'bannion, bravery, scientific in...        Western   \n",
       "14399  [cynical, sultry night club singer, femme fata...        Eastern   \n",
       "2186   [values freedom, fight against injustice, arch...        Western   \n",
       "22470  [public defender, justice, moral integrity, hero]        Western   \n",
       "24552                   [loss, survival, family, victim]        Eastern   \n",
       "\n",
       "                                         empath_analysis  \n",
       "23296                {'military': 0.125, 'heroic': 0.25}  \n",
       "14399                                  {'heroic': 0.125}  \n",
       "2186   {'heroic': 0.14285714285714285, 'power': 0.142...  \n",
       "22470  {'military': 0.16666666666666666, 'heroic': 0....  \n",
       "24552                  {'family': 0.25, 'sadness': 0.25}  "
      ]
     },
     "execution_count": 245,
     "metadata": {},
     "output_type": "execute_result"
    }
   ],
   "source": [
    "# Apply the analysis to each row\n",
    "character_df['empath_analysis'] = character_df['character_representation'].apply(lambda x: semantical_analysis(' '.join(x), CAT))\n",
    "character_empath_df = character_df.dropna(subset=['empath_analysis']).copy()\n",
    "\n",
    "print('Total number of characters :', len(character_df))\n",
    "print('Characters with empath analysis not None :', len(character_empath_df))\n",
    "\n",
    "print('\\nNumber of characters per category :')\n",
    "for cat in CAT:\n",
    "    cat_count = character_empath_df['empath_analysis'].apply(lambda x: cat in x.keys()).sum()\n",
    "    print(f'{cat}: {cat_count}')\n",
    "\n",
    "character_empath_df.sample(5)"
   ]
  },
  {
   "cell_type": "code",
   "execution_count": 251,
   "metadata": {},
   "outputs": [],
   "source": [
    "def get_empath_evolution(df, empath_column, year_column='year_release_date'):\n",
    "    \"\"\"\n",
    "    Create a DataFrame to track the evolution of empath topics across years\n",
    "    \"\"\"\n",
    "    empath_topics = set()\n",
    "    for entry in df[empath_column]:\n",
    "        empath_topics.update(entry.keys())\n",
    "\n",
    "    # Create a new DataFrame to track topic proportions across years\n",
    "    empath_evolution = {topic: [] for topic in empath_topics}\n",
    "    empath_evolution['year'] = []\n",
    "\n",
    "    for year in sorted(df[year_column].unique()):\n",
    "        year_data = df[df['year_release_date'] == year][empath_column]\n",
    "        aggregated = {topic: 0 for topic in empath_topics}\n",
    "        count = len(year_data)\n",
    "\n",
    "        for row in year_data:\n",
    "            for topic, value in row.items():\n",
    "                aggregated[topic] += value\n",
    "\n",
    "        if count > 0:\n",
    "            for topic in aggregated:\n",
    "                aggregated[topic] /= count\n",
    "\n",
    "        for topic, value in aggregated.items():\n",
    "            empath_evolution[topic].append(value)\n",
    "\n",
    "        empath_evolution['year'].append(year)\n",
    "\n",
    "    return pd.DataFrame(empath_evolution)\n",
    "\n",
    "empath_evolution_df = get_empath_evolution(character_empath_df, 'empath_analysis')\n",
    "melted_empath_df = empath_evolution_df.melt(id_vars=['year'], var_name='topic', value_name='proportion')\n",
    "\n",
    "# group similar lexicon categories\n",
    "melted_empath_df['topic'] = melted_empath_df['topic'].apply(map_topic_to_group, groups=TOPIC_GROUPS)\n",
    "melted_empath_df = melted_empath_df.groupby(['year', 'topic'], as_index=False).agg({'proportion': 'sum'})"
   ]
  },
  {
   "cell_type": "code",
   "execution_count": 262,
   "metadata": {},
   "outputs": [
    {
     "data": {
      "application/vnd.plotly.v1+json": {
       "config": {
        "plotlyServerURL": "https://plot.ly"
       },
       "data": [
        {
         "hovertemplate": "topic=deception&sadness<br>year=%{x}<br>proportion=%{y}<extra></extra>",
         "legendgroup": "deception&sadness",
         "line": {
          "color": "#636EFA",
          "dash": "solid"
         },
         "marker": {
          "symbol": "circle"
         },
         "mode": "lines",
         "name": "deception&sadness",
         "orientation": "v",
         "showlegend": true,
         "type": "scatter",
         "x": [
          1945,
          1946,
          1947,
          1948,
          1949,
          1950,
          1951,
          1952,
          1953,
          1954,
          1955,
          1956,
          1957,
          1958,
          1959,
          1960,
          1961,
          1962,
          1963,
          1964,
          1965,
          1966,
          1967,
          1968,
          1969,
          1970,
          1971,
          1972,
          1973,
          1974,
          1975,
          1976,
          1977,
          1978,
          1979,
          1980,
          1981,
          1982,
          1983,
          1984,
          1985,
          1986,
          1987,
          1988,
          1989,
          1990,
          1991,
          1992,
          1993,
          1994,
          1995
         ],
         "xaxis": "x",
         "y": [
          0.022872442149550583,
          0.04707207207207208,
          0.057645875251509056,
          0.06541591320072332,
          0.04345133745960192,
          0.051571890892279246,
          0.03856837606837607,
          0.05286796536796537,
          0.03672004687042281,
          0.06630748478574566,
          0.05940733195635156,
          0.03220458553791887,
          0.05448691520120092,
          0.06204345815996301,
          0.06620296058498304,
          0.04337274592376633,
          0.042278071722516165,
          0.0341926977343644,
          0.050281970638007795,
          0.061274684219889686,
          0.06563930275586717,
          0.05164890340328937,
          0.07103174603174603,
          0.05883635144198524,
          0.06867293625914316,
          0.07229847173028991,
          0.034277630805408583,
          0.055175603965926544,
          0.06569325735992401,
          0.04473365617433414,
          0.07190697560015742,
          0.06659004217143752,
          0.04942864256244538,
          0.06763830532212886,
          0.04125011678968513,
          0.05621156621156621,
          0.04293472014710953,
          0.02604282022886674,
          0.03494578582606751,
          0.04547354497354497,
          0.06354031672503012,
          0.051932825471786515,
          0.06029296492259455,
          0.0788736618678479,
          0.05503117913832199,
          0.058824908424908416,
          0.056368802665098965,
          0.0560515873015873,
          0.07989807033924681,
          0.0795089957324,
          0.013521457965902409
         ],
         "yaxis": "y"
        },
        {
         "hovertemplate": "topic=help<br>year=%{x}<br>proportion=%{y}<extra></extra>",
         "legendgroup": "help",
         "line": {
          "color": "#EF553B",
          "dash": "solid"
         },
         "marker": {
          "symbol": "circle"
         },
         "mode": "lines",
         "name": "help",
         "orientation": "v",
         "showlegend": true,
         "type": "scatter",
         "x": [
          1945,
          1946,
          1947,
          1948,
          1949,
          1950,
          1951,
          1952,
          1953,
          1954,
          1955,
          1956,
          1957,
          1958,
          1959,
          1960,
          1961,
          1962,
          1963,
          1964,
          1965,
          1966,
          1967,
          1968,
          1969,
          1970,
          1971,
          1972,
          1973,
          1974,
          1975,
          1976,
          1977,
          1978,
          1979,
          1980,
          1981,
          1982,
          1983,
          1984,
          1985,
          1986,
          1987,
          1988,
          1989,
          1990,
          1991,
          1992,
          1993,
          1994,
          1995
         ],
         "xaxis": "x",
         "y": [
          0.02320711417096959,
          0.023273273273273276,
          0.019656829868097473,
          0.012025316455696202,
          0.00901875901875902,
          0.025601017105871475,
          0.014636752136752137,
          0.017069777865232408,
          0.0245375343119704,
          0.019016249451032058,
          0.017273576097105506,
          0.016461840628507293,
          0.017525463954035383,
          0.01762983510556326,
          0.02654068777664283,
          0.018666990605766112,
          0.015440917107583775,
          0.02697585978835979,
          0.013480392156862746,
          0.01605512067840835,
          0.022704698164820864,
          0.016456112370239796,
          0.013267355134825012,
          0.012949921752738654,
          0.024625068418171865,
          0.018704906204906203,
          0.021759259259259263,
          0.017741935483870964,
          0.016748066748066746,
          0.014588377723970944,
          0.016477272727272726,
          0.011637694777229661,
          0.011809317443120259,
          0.014508928571428572,
          0.012589928057553957,
          0.016742424242424243,
          0.01352015732546706,
          0.02553832902670112,
          0.016200231693189435,
          0.01411111111111111,
          0.01340107168132646,
          0.011863136863136862,
          0.02494655550211106,
          0.01605989294942783,
          0.012929894179894182,
          0.0060888888888888885,
          0.017289295067072843,
          0.017784992784992786,
          0.010294117647058823,
          0.019457109084768658,
          0.01798941798941799
         ],
         "yaxis": "y"
        },
        {
         "hovertemplate": "topic=heroic<br>year=%{x}<br>proportion=%{y}<extra></extra>",
         "legendgroup": "heroic",
         "line": {
          "color": "#00CC96",
          "dash": "solid"
         },
         "marker": {
          "symbol": "circle"
         },
         "mode": "lines",
         "name": "heroic",
         "orientation": "v",
         "showlegend": true,
         "type": "scatter",
         "x": [
          1945,
          1946,
          1947,
          1948,
          1949,
          1950,
          1951,
          1952,
          1953,
          1954,
          1955,
          1956,
          1957,
          1958,
          1959,
          1960,
          1961,
          1962,
          1963,
          1964,
          1965,
          1966,
          1967,
          1968,
          1969,
          1970,
          1971,
          1972,
          1973,
          1974,
          1975,
          1976,
          1977,
          1978,
          1979,
          1980,
          1981,
          1982,
          1983,
          1984,
          1985,
          1986,
          1987,
          1988,
          1989,
          1990,
          1991,
          1992,
          1993,
          1994,
          1995
         ],
         "xaxis": "x",
         "y": [
          0.21832133729724088,
          0.17755791505791502,
          0.18469707131678964,
          0.16760598754269634,
          0.15055811956638399,
          0.1798970985864189,
          0.183078033078033,
          0.19706398399580216,
          0.19425889482280456,
          0.1620090658134136,
          0.1773349743937979,
          0.18737640445973772,
          0.1777930329517631,
          0.20082061950994007,
          0.16474019893963707,
          0.19302662567968687,
          0.17260643190467748,
          0.18179588544171874,
          0.18833500377618015,
          0.22135839807072674,
          0.18184908138895856,
          0.17978953008962237,
          0.16169939498252742,
          0.1701281366152948,
          0.21255053375743024,
          0.1843860684769775,
          0.16089466089466084,
          0.17017496392496392,
          0.1317697734364401,
          0.2039866511576381,
          0.14247835497835495,
          0.14813053010727428,
          0.1752863920117441,
          0.18494080324437465,
          0.1805563341534564,
          0.17228912501639768,
          0.1385249460470699,
          0.17552294819736677,
          0.1459952410656635,
          0.158040404040404,
          0.17612650972523577,
          0.19025199756573638,
          0.1509141235993087,
          0.14365274583297832,
          0.16402943947586798,
          0.17874294594294593,
          0.16892140781029666,
          0.16608532398973572,
          0.15982478850125906,
          0.15873476405391296,
          0.19721789950548121
         ],
         "yaxis": "y"
        },
        {
         "hovertemplate": "topic=law<br>year=%{x}<br>proportion=%{y}<extra></extra>",
         "legendgroup": "law",
         "line": {
          "color": "#AB63FA",
          "dash": "solid"
         },
         "marker": {
          "symbol": "circle"
         },
         "mode": "lines",
         "name": "law",
         "orientation": "v",
         "showlegend": true,
         "type": "scatter",
         "x": [
          1945,
          1946,
          1947,
          1948,
          1949,
          1950,
          1951,
          1952,
          1953,
          1954,
          1955,
          1956,
          1957,
          1958,
          1959,
          1960,
          1961,
          1962,
          1963,
          1964,
          1965,
          1966,
          1967,
          1968,
          1969,
          1970,
          1971,
          1972,
          1973,
          1974,
          1975,
          1976,
          1977,
          1978,
          1979,
          1980,
          1981,
          1982,
          1983,
          1984,
          1985,
          1986,
          1987,
          1988,
          1989,
          1990,
          1991,
          1992,
          1993,
          1994,
          1995
         ],
         "xaxis": "x",
         "y": [
          0.016112067316886594,
          0.03375697125697126,
          0.05295103957075788,
          0.025713281093027927,
          0.029850452577725305,
          0.05209200184928341,
          0.053056318681318694,
          0.032191230486685034,
          0.029311644913148666,
          0.030952380952380953,
          0.03419465429269351,
          0.038267797017797034,
          0.031916290646449366,
          0.03677990025077404,
          0.03402017769995298,
          0.009021703919663103,
          0.023885949441505,
          0.0453290343915344,
          0.03551833013907317,
          0.022899639307777907,
          0.025915994266770163,
          0.027202329833908787,
          0.025800822336966917,
          0.03516934942991282,
          0.030265462506841822,
          0.0255083300537846,
          0.045715755437977665,
          0.02727912768235349,
          0.048904798904798916,
          0.027058111380145283,
          0.039752435064935074,
          0.029155900086132645,
          0.034347577305323784,
          0.03411989795918367,
          0.03852873744960076,
          0.025903843631116356,
          0.03544452106399009,
          0.035406669127599356,
          0.052537700953193926,
          0.04096229374490244,
          0.031189166459867097,
          0.024714210753171793,
          0.038881540270429164,
          0.030437892211148034,
          0.04639077853363568,
          0.04471091131091132,
          0.017713288083658452,
          0.032638195138195145,
          0.039089069971422905,
          0.02476013938779896,
          0.06629923574368018
         ],
         "yaxis": "y"
        },
        {
         "hovertemplate": "topic=love&affection<br>year=%{x}<br>proportion=%{y}<extra></extra>",
         "legendgroup": "love&affection",
         "line": {
          "color": "#FFA15A",
          "dash": "solid"
         },
         "marker": {
          "symbol": "circle"
         },
         "mode": "lines",
         "name": "love&affection",
         "orientation": "v",
         "showlegend": true,
         "type": "scatter",
         "x": [
          1945,
          1946,
          1947,
          1948,
          1949,
          1950,
          1951,
          1952,
          1953,
          1954,
          1955,
          1956,
          1957,
          1958,
          1959,
          1960,
          1961,
          1962,
          1963,
          1964,
          1965,
          1966,
          1967,
          1968,
          1969,
          1970,
          1971,
          1972,
          1973,
          1974,
          1975,
          1976,
          1977,
          1978,
          1979,
          1980,
          1981,
          1982,
          1983,
          1984,
          1985,
          1986,
          1987,
          1988,
          1989,
          1990,
          1991,
          1992,
          1993,
          1994,
          1995
         ],
         "xaxis": "x",
         "y": [
          0.04953667483787966,
          0.09596203346203346,
          0.04356136820925553,
          0.082152903355435,
          0.0628409239979488,
          0.056222068115272,
          0.06651785714285714,
          0.030303030303030304,
          0.06299976130803199,
          0.053229761381935296,
          0.04216016372879118,
          0.0506840227673561,
          0.0755574672241339,
          0.04695446139620897,
          0.06433111208392107,
          0.07090860764330154,
          0.08684284850951518,
          0.05328827229868897,
          0.05452668246785893,
          0.04086288521220028,
          0.059999554757764785,
          0.05888268651426547,
          0.05038487282463186,
          0.06481174629476204,
          0.07034166982442844,
          0.057945526695526696,
          0.05144500561167228,
          0.045430107526881716,
          0.06927146927146928,
          0.06576619348304294,
          0.06315549980322709,
          0.06895994832041344,
          0.06029789850212386,
          0.059002976190476196,
          0.05609252857454296,
          0.08541569541569541,
          0.04399206987702563,
          0.05091501951967069,
          0.040529873100295634,
          0.09486801765062634,
          0.07291270300824441,
          0.042280680130987715,
          0.08479292483922114,
          0.056537325723372236,
          0.038031099191813474,
          0.039198534798534794,
          0.054458607236385015,
          0.0584645152826971,
          0.029672778202189967,
          0.027027493782812932,
          0.03487654320987654
         ],
         "yaxis": "y"
        },
        {
         "hovertemplate": "topic=politics&power<br>year=%{x}<br>proportion=%{y}<extra></extra>",
         "legendgroup": "politics&power",
         "line": {
          "color": "#19D3F3",
          "dash": "solid"
         },
         "marker": {
          "symbol": "circle"
         },
         "mode": "lines",
         "name": "politics&power",
         "orientation": "v",
         "showlegend": true,
         "type": "scatter",
         "x": [
          1945,
          1946,
          1947,
          1948,
          1949,
          1950,
          1951,
          1952,
          1953,
          1954,
          1955,
          1956,
          1957,
          1958,
          1959,
          1960,
          1961,
          1962,
          1963,
          1964,
          1965,
          1966,
          1967,
          1968,
          1969,
          1970,
          1971,
          1972,
          1973,
          1974,
          1975,
          1976,
          1977,
          1978,
          1979,
          1980,
          1981,
          1982,
          1983,
          1984,
          1985,
          1986,
          1987,
          1988,
          1989,
          1990,
          1991,
          1992,
          1993,
          1994,
          1995
         ],
         "xaxis": "x",
         "y": [
          0.1137598011091987,
          0.15266516516516515,
          0.07532416722557567,
          0.07165963431786215,
          0.08296363874876271,
          0.17995593942195884,
          0.14674908424908426,
          0.12612469601105963,
          0.14422202692879382,
          0.09837765527124795,
          0.11184770204378047,
          0.13287844871178203,
          0.13272597478946682,
          0.13103731489653822,
          0.12644523079916337,
          0.10732102364755428,
          0.13852460837840957,
          0.15289351851851854,
          0.18837105017445574,
          0.13405240676594424,
          0.13001424074141507,
          0.14886162365386746,
          0.12400002942171617,
          0.10068885535434832,
          0.15108100711548986,
          0.16567077703441338,
          0.1649036662925552,
          0.1446786412512219,
          0.1413490830157497,
          0.11309523809523808,
          0.1323646366260003,
          0.09456301665603992,
          0.12758696702358674,
          0.10647566718995291,
          0.139136183560644,
          0.09240562467835195,
          0.12851364466408716,
          0.12102204427785825,
          0.13231052984574113,
          0.14791285526068138,
          0.12771608257277048,
          0.11201555147214752,
          0.11655427905427906,
          0.11404577334809896,
          0.1178077544148973,
          0.14687479187479185,
          0.08375376338339302,
          0.12316632231404959,
          0.10320816524376895,
          0.07869116698903933,
          0.15630079192170696
         ],
         "yaxis": "y"
        },
        {
         "hovertemplate": "topic=pride<br>year=%{x}<br>proportion=%{y}<extra></extra>",
         "legendgroup": "pride",
         "line": {
          "color": "#FF6692",
          "dash": "solid"
         },
         "marker": {
          "symbol": "circle"
         },
         "mode": "lines",
         "name": "pride",
         "orientation": "v",
         "showlegend": true,
         "type": "scatter",
         "x": [
          1945,
          1946,
          1947,
          1948,
          1949,
          1950,
          1951,
          1952,
          1953,
          1954,
          1955,
          1956,
          1957,
          1958,
          1959,
          1960,
          1961,
          1962,
          1963,
          1964,
          1965,
          1966,
          1967,
          1968,
          1969,
          1970,
          1971,
          1972,
          1973,
          1974,
          1975,
          1976,
          1977,
          1978,
          1979,
          1980,
          1981,
          1982,
          1983,
          1984,
          1985,
          1986,
          1987,
          1988,
          1989,
          1990,
          1991,
          1992,
          1993,
          1994,
          1995
         ],
         "xaxis": "x",
         "y": [
          0.11151271753681391,
          0.07435649935649936,
          0.07994634473507713,
          0.09103877838055054,
          0.06692604915745413,
          0.07256511018646941,
          0.08958333333333332,
          0.07473244348244346,
          0.07742877423328551,
          0.05403752849405024,
          0.08071376698827679,
          0.06841530383197049,
          0.08554586213316373,
          0.07023231622746184,
          0.08112667607049627,
          0.08774160457833928,
          0.06866440793341376,
          0.06559193121693122,
          0.06081190051778288,
          0.041457382039573824,
          0.06768701646002259,
          0.0661554870696145,
          0.05449177663033083,
          0.0673764811088755,
          0.07754515599343184,
          0.07932025886571342,
          0.058351704879482665,
          0.07527550854163757,
          0.07754714421381086,
          0.05745334343290475,
          0.06637396694214875,
          0.04657650704162331,
          0.06202170286677328,
          0.06361607142857144,
          0.06809721054325368,
          0.05686507936507937,
          0.058523285956914285,
          0.06506118773560635,
          0.08160358811767263,
          0.05045839345839345,
          0.0771511750811114,
          0.07140795712224282,
          0.06755896709600415,
          0.08034560723514211,
          0.06247129193557764,
          0.06493264513264516,
          0.059959073847962736,
          0.080509768009768,
          0.031396599043657866,
          0.06509241349666882,
          0.08349846111284022
         ],
         "yaxis": "y"
        }
       ],
       "layout": {
        "height": 600,
        "legend": {
         "title": {
          "text": "Categories"
         },
         "tracegroupgap": 0
        },
        "margin": {
         "b": 50,
         "l": 50,
         "r": 50,
         "t": 50
        },
        "template": {
         "data": {
          "bar": [
           {
            "error_x": {
             "color": "#2a3f5f"
            },
            "error_y": {
             "color": "#2a3f5f"
            },
            "marker": {
             "line": {
              "color": "#E5ECF6",
              "width": 0.5
             },
             "pattern": {
              "fillmode": "overlay",
              "size": 10,
              "solidity": 0.2
             }
            },
            "type": "bar"
           }
          ],
          "barpolar": [
           {
            "marker": {
             "line": {
              "color": "#E5ECF6",
              "width": 0.5
             },
             "pattern": {
              "fillmode": "overlay",
              "size": 10,
              "solidity": 0.2
             }
            },
            "type": "barpolar"
           }
          ],
          "carpet": [
           {
            "aaxis": {
             "endlinecolor": "#2a3f5f",
             "gridcolor": "white",
             "linecolor": "white",
             "minorgridcolor": "white",
             "startlinecolor": "#2a3f5f"
            },
            "baxis": {
             "endlinecolor": "#2a3f5f",
             "gridcolor": "white",
             "linecolor": "white",
             "minorgridcolor": "white",
             "startlinecolor": "#2a3f5f"
            },
            "type": "carpet"
           }
          ],
          "choropleth": [
           {
            "colorbar": {
             "outlinewidth": 0,
             "ticks": ""
            },
            "type": "choropleth"
           }
          ],
          "contour": [
           {
            "colorbar": {
             "outlinewidth": 0,
             "ticks": ""
            },
            "colorscale": [
             [
              0,
              "#0d0887"
             ],
             [
              0.1111111111111111,
              "#46039f"
             ],
             [
              0.2222222222222222,
              "#7201a8"
             ],
             [
              0.3333333333333333,
              "#9c179e"
             ],
             [
              0.4444444444444444,
              "#bd3786"
             ],
             [
              0.5555555555555556,
              "#d8576b"
             ],
             [
              0.6666666666666666,
              "#ed7953"
             ],
             [
              0.7777777777777778,
              "#fb9f3a"
             ],
             [
              0.8888888888888888,
              "#fdca26"
             ],
             [
              1,
              "#f0f921"
             ]
            ],
            "type": "contour"
           }
          ],
          "contourcarpet": [
           {
            "colorbar": {
             "outlinewidth": 0,
             "ticks": ""
            },
            "type": "contourcarpet"
           }
          ],
          "heatmap": [
           {
            "colorbar": {
             "outlinewidth": 0,
             "ticks": ""
            },
            "colorscale": [
             [
              0,
              "#0d0887"
             ],
             [
              0.1111111111111111,
              "#46039f"
             ],
             [
              0.2222222222222222,
              "#7201a8"
             ],
             [
              0.3333333333333333,
              "#9c179e"
             ],
             [
              0.4444444444444444,
              "#bd3786"
             ],
             [
              0.5555555555555556,
              "#d8576b"
             ],
             [
              0.6666666666666666,
              "#ed7953"
             ],
             [
              0.7777777777777778,
              "#fb9f3a"
             ],
             [
              0.8888888888888888,
              "#fdca26"
             ],
             [
              1,
              "#f0f921"
             ]
            ],
            "type": "heatmap"
           }
          ],
          "heatmapgl": [
           {
            "colorbar": {
             "outlinewidth": 0,
             "ticks": ""
            },
            "colorscale": [
             [
              0,
              "#0d0887"
             ],
             [
              0.1111111111111111,
              "#46039f"
             ],
             [
              0.2222222222222222,
              "#7201a8"
             ],
             [
              0.3333333333333333,
              "#9c179e"
             ],
             [
              0.4444444444444444,
              "#bd3786"
             ],
             [
              0.5555555555555556,
              "#d8576b"
             ],
             [
              0.6666666666666666,
              "#ed7953"
             ],
             [
              0.7777777777777778,
              "#fb9f3a"
             ],
             [
              0.8888888888888888,
              "#fdca26"
             ],
             [
              1,
              "#f0f921"
             ]
            ],
            "type": "heatmapgl"
           }
          ],
          "histogram": [
           {
            "marker": {
             "pattern": {
              "fillmode": "overlay",
              "size": 10,
              "solidity": 0.2
             }
            },
            "type": "histogram"
           }
          ],
          "histogram2d": [
           {
            "colorbar": {
             "outlinewidth": 0,
             "ticks": ""
            },
            "colorscale": [
             [
              0,
              "#0d0887"
             ],
             [
              0.1111111111111111,
              "#46039f"
             ],
             [
              0.2222222222222222,
              "#7201a8"
             ],
             [
              0.3333333333333333,
              "#9c179e"
             ],
             [
              0.4444444444444444,
              "#bd3786"
             ],
             [
              0.5555555555555556,
              "#d8576b"
             ],
             [
              0.6666666666666666,
              "#ed7953"
             ],
             [
              0.7777777777777778,
              "#fb9f3a"
             ],
             [
              0.8888888888888888,
              "#fdca26"
             ],
             [
              1,
              "#f0f921"
             ]
            ],
            "type": "histogram2d"
           }
          ],
          "histogram2dcontour": [
           {
            "colorbar": {
             "outlinewidth": 0,
             "ticks": ""
            },
            "colorscale": [
             [
              0,
              "#0d0887"
             ],
             [
              0.1111111111111111,
              "#46039f"
             ],
             [
              0.2222222222222222,
              "#7201a8"
             ],
             [
              0.3333333333333333,
              "#9c179e"
             ],
             [
              0.4444444444444444,
              "#bd3786"
             ],
             [
              0.5555555555555556,
              "#d8576b"
             ],
             [
              0.6666666666666666,
              "#ed7953"
             ],
             [
              0.7777777777777778,
              "#fb9f3a"
             ],
             [
              0.8888888888888888,
              "#fdca26"
             ],
             [
              1,
              "#f0f921"
             ]
            ],
            "type": "histogram2dcontour"
           }
          ],
          "mesh3d": [
           {
            "colorbar": {
             "outlinewidth": 0,
             "ticks": ""
            },
            "type": "mesh3d"
           }
          ],
          "parcoords": [
           {
            "line": {
             "colorbar": {
              "outlinewidth": 0,
              "ticks": ""
             }
            },
            "type": "parcoords"
           }
          ],
          "pie": [
           {
            "automargin": true,
            "type": "pie"
           }
          ],
          "scatter": [
           {
            "fillpattern": {
             "fillmode": "overlay",
             "size": 10,
             "solidity": 0.2
            },
            "type": "scatter"
           }
          ],
          "scatter3d": [
           {
            "line": {
             "colorbar": {
              "outlinewidth": 0,
              "ticks": ""
             }
            },
            "marker": {
             "colorbar": {
              "outlinewidth": 0,
              "ticks": ""
             }
            },
            "type": "scatter3d"
           }
          ],
          "scattercarpet": [
           {
            "marker": {
             "colorbar": {
              "outlinewidth": 0,
              "ticks": ""
             }
            },
            "type": "scattercarpet"
           }
          ],
          "scattergeo": [
           {
            "marker": {
             "colorbar": {
              "outlinewidth": 0,
              "ticks": ""
             }
            },
            "type": "scattergeo"
           }
          ],
          "scattergl": [
           {
            "marker": {
             "colorbar": {
              "outlinewidth": 0,
              "ticks": ""
             }
            },
            "type": "scattergl"
           }
          ],
          "scattermapbox": [
           {
            "marker": {
             "colorbar": {
              "outlinewidth": 0,
              "ticks": ""
             }
            },
            "type": "scattermapbox"
           }
          ],
          "scatterpolar": [
           {
            "marker": {
             "colorbar": {
              "outlinewidth": 0,
              "ticks": ""
             }
            },
            "type": "scatterpolar"
           }
          ],
          "scatterpolargl": [
           {
            "marker": {
             "colorbar": {
              "outlinewidth": 0,
              "ticks": ""
             }
            },
            "type": "scatterpolargl"
           }
          ],
          "scatterternary": [
           {
            "marker": {
             "colorbar": {
              "outlinewidth": 0,
              "ticks": ""
             }
            },
            "type": "scatterternary"
           }
          ],
          "surface": [
           {
            "colorbar": {
             "outlinewidth": 0,
             "ticks": ""
            },
            "colorscale": [
             [
              0,
              "#0d0887"
             ],
             [
              0.1111111111111111,
              "#46039f"
             ],
             [
              0.2222222222222222,
              "#7201a8"
             ],
             [
              0.3333333333333333,
              "#9c179e"
             ],
             [
              0.4444444444444444,
              "#bd3786"
             ],
             [
              0.5555555555555556,
              "#d8576b"
             ],
             [
              0.6666666666666666,
              "#ed7953"
             ],
             [
              0.7777777777777778,
              "#fb9f3a"
             ],
             [
              0.8888888888888888,
              "#fdca26"
             ],
             [
              1,
              "#f0f921"
             ]
            ],
            "type": "surface"
           }
          ],
          "table": [
           {
            "cells": {
             "fill": {
              "color": "#EBF0F8"
             },
             "line": {
              "color": "white"
             }
            },
            "header": {
             "fill": {
              "color": "#C8D4E3"
             },
             "line": {
              "color": "white"
             }
            },
            "type": "table"
           }
          ]
         },
         "layout": {
          "annotationdefaults": {
           "arrowcolor": "#2a3f5f",
           "arrowhead": 0,
           "arrowwidth": 1
          },
          "autotypenumbers": "strict",
          "coloraxis": {
           "colorbar": {
            "outlinewidth": 0,
            "ticks": ""
           }
          },
          "colorscale": {
           "diverging": [
            [
             0,
             "#8e0152"
            ],
            [
             0.1,
             "#c51b7d"
            ],
            [
             0.2,
             "#de77ae"
            ],
            [
             0.3,
             "#f1b6da"
            ],
            [
             0.4,
             "#fde0ef"
            ],
            [
             0.5,
             "#f7f7f7"
            ],
            [
             0.6,
             "#e6f5d0"
            ],
            [
             0.7,
             "#b8e186"
            ],
            [
             0.8,
             "#7fbc41"
            ],
            [
             0.9,
             "#4d9221"
            ],
            [
             1,
             "#276419"
            ]
           ],
           "sequential": [
            [
             0,
             "#0d0887"
            ],
            [
             0.1111111111111111,
             "#46039f"
            ],
            [
             0.2222222222222222,
             "#7201a8"
            ],
            [
             0.3333333333333333,
             "#9c179e"
            ],
            [
             0.4444444444444444,
             "#bd3786"
            ],
            [
             0.5555555555555556,
             "#d8576b"
            ],
            [
             0.6666666666666666,
             "#ed7953"
            ],
            [
             0.7777777777777778,
             "#fb9f3a"
            ],
            [
             0.8888888888888888,
             "#fdca26"
            ],
            [
             1,
             "#f0f921"
            ]
           ],
           "sequentialminus": [
            [
             0,
             "#0d0887"
            ],
            [
             0.1111111111111111,
             "#46039f"
            ],
            [
             0.2222222222222222,
             "#7201a8"
            ],
            [
             0.3333333333333333,
             "#9c179e"
            ],
            [
             0.4444444444444444,
             "#bd3786"
            ],
            [
             0.5555555555555556,
             "#d8576b"
            ],
            [
             0.6666666666666666,
             "#ed7953"
            ],
            [
             0.7777777777777778,
             "#fb9f3a"
            ],
            [
             0.8888888888888888,
             "#fdca26"
            ],
            [
             1,
             "#f0f921"
            ]
           ]
          },
          "colorway": [
           "#636efa",
           "#EF553B",
           "#00cc96",
           "#ab63fa",
           "#FFA15A",
           "#19d3f3",
           "#FF6692",
           "#B6E880",
           "#FF97FF",
           "#FECB52"
          ],
          "font": {
           "color": "#2a3f5f"
          },
          "geo": {
           "bgcolor": "white",
           "lakecolor": "white",
           "landcolor": "#E5ECF6",
           "showlakes": true,
           "showland": true,
           "subunitcolor": "white"
          },
          "hoverlabel": {
           "align": "left"
          },
          "hovermode": "closest",
          "mapbox": {
           "style": "light"
          },
          "paper_bgcolor": "white",
          "plot_bgcolor": "#E5ECF6",
          "polar": {
           "angularaxis": {
            "gridcolor": "white",
            "linecolor": "white",
            "ticks": ""
           },
           "bgcolor": "#E5ECF6",
           "radialaxis": {
            "gridcolor": "white",
            "linecolor": "white",
            "ticks": ""
           }
          },
          "scene": {
           "xaxis": {
            "backgroundcolor": "#E5ECF6",
            "gridcolor": "white",
            "gridwidth": 2,
            "linecolor": "white",
            "showbackground": true,
            "ticks": "",
            "zerolinecolor": "white"
           },
           "yaxis": {
            "backgroundcolor": "#E5ECF6",
            "gridcolor": "white",
            "gridwidth": 2,
            "linecolor": "white",
            "showbackground": true,
            "ticks": "",
            "zerolinecolor": "white"
           },
           "zaxis": {
            "backgroundcolor": "#E5ECF6",
            "gridcolor": "white",
            "gridwidth": 2,
            "linecolor": "white",
            "showbackground": true,
            "ticks": "",
            "zerolinecolor": "white"
           }
          },
          "shapedefaults": {
           "line": {
            "color": "#2a3f5f"
           }
          },
          "ternary": {
           "aaxis": {
            "gridcolor": "white",
            "linecolor": "white",
            "ticks": ""
           },
           "baxis": {
            "gridcolor": "white",
            "linecolor": "white",
            "ticks": ""
           },
           "bgcolor": "#E5ECF6",
           "caxis": {
            "gridcolor": "white",
            "linecolor": "white",
            "ticks": ""
           }
          },
          "title": {
           "x": 0.05
          },
          "xaxis": {
           "automargin": true,
           "gridcolor": "white",
           "linecolor": "white",
           "ticks": "",
           "title": {
            "standoff": 15
           },
           "zerolinecolor": "white",
           "zerolinewidth": 2
          },
          "yaxis": {
           "automargin": true,
           "gridcolor": "white",
           "linecolor": "white",
           "ticks": "",
           "title": {
            "standoff": 15
           },
           "zerolinecolor": "white",
           "zerolinewidth": 2
          }
         }
        },
        "title": {
         "font": {
          "family": "Arial",
          "size": 20,
          "weight": "bold"
         },
         "text": "Changing Themes in Character Representation Across Years",
         "x": 0.5,
         "xanchor": "center"
        },
        "width": 1100,
        "xaxis": {
         "anchor": "y",
         "domain": [
          0,
          1
         ],
         "title": {
          "text": "Movie Release Year"
         }
        },
        "yaxis": {
         "anchor": "x",
         "domain": [
          0,
          1
         ],
         "title": {
          "text": "Frequency of a Category"
         }
        }
       }
      }
     },
     "metadata": {},
     "output_type": "display_data"
    }
   ],
   "source": [
    "fig = go.Figure()\n",
    "\n",
    "# set topic color palette\n",
    "unique_topics = melted_empath_df['topic'].unique()\n",
    "color_palette = px.colors.qualitative.Plotly\n",
    "topic_colors = {topic: color_palette[i] for i, topic in enumerate(unique_topics)}\n",
    "\n",
    "# Map colors directly in the DataFrame\n",
    "melted_empath_df['color'] = melted_empath_df['topic'].map(topic_colors)\n",
    "\n",
    "fig = px.line(\n",
    "    melted_empath_df,\n",
    "    x='year',\n",
    "    y='proportion',\n",
    "    color='topic',\n",
    "    title='Evolution of Grouped Empath Topics Across Years',\n",
    "    color_discrete_map=topic_colors\n",
    ")\n",
    "\n",
    "fig.update_layout(\n",
    "    width = 1100,\n",
    "    height = 600,\n",
    "    xaxis_title=\"Movie Release Year\",\n",
    "    yaxis_title=\"Frequency of a Category\",\n",
    "    legend_title=\"Categories\",\n",
    "    title={\n",
    "        \"text\": \"Changing Themes in Character Representation Across Years\",\n",
    "        \"x\": 0.5,\n",
    "        \"xanchor\": \"center\",\n",
    "        \"font\": {\"size\": 20, \"family\": \"Arial\", \"weight\": \"bold\"}\n",
    "    },\n",
    "    margin=dict(l=50, r=50, t=50, b=50),  # Adjust margins\n",
    ")\n",
    "\n",
    "fig.show()"
   ]
  },
  {
   "cell_type": "code",
   "execution_count": 263,
   "metadata": {},
   "outputs": [
    {
     "data": {
      "application/vnd.plotly.v1+json": {
       "config": {
        "plotlyServerURL": "https://plot.ly"
       },
       "data": [
        {
         "marker": {
          "color": [
           "#636EFA",
           "#EF553B",
           "#00CC96",
           "#AB63FA",
           "#FFA15A",
           "#19D3F3",
           "#FF6692"
          ]
         },
         "name": "Year 1945",
         "type": "bar",
         "visible": true,
         "x": [
          "deception&sadness",
          "help",
          "heroic",
          "law",
          "love&affection",
          "politics&power",
          "pride"
         ],
         "y": [
          0.022872442149550583,
          0.02320711417096959,
          0.21832133729724088,
          0.016112067316886594,
          0.04953667483787966,
          0.1137598011091987,
          0.11151271753681391
         ]
        },
        {
         "marker": {
          "color": [
           "#636EFA",
           "#EF553B",
           "#00CC96",
           "#AB63FA",
           "#FFA15A",
           "#19D3F3",
           "#FF6692"
          ]
         },
         "name": "Year 1946",
         "type": "bar",
         "visible": false,
         "x": [
          "deception&sadness",
          "help",
          "heroic",
          "law",
          "love&affection",
          "politics&power",
          "pride"
         ],
         "y": [
          0.04707207207207208,
          0.023273273273273276,
          0.17755791505791502,
          0.03375697125697126,
          0.09596203346203346,
          0.15266516516516515,
          0.07435649935649936
         ]
        },
        {
         "marker": {
          "color": [
           "#636EFA",
           "#EF553B",
           "#00CC96",
           "#AB63FA",
           "#FFA15A",
           "#19D3F3",
           "#FF6692"
          ]
         },
         "name": "Year 1947",
         "type": "bar",
         "visible": false,
         "x": [
          "deception&sadness",
          "help",
          "heroic",
          "law",
          "love&affection",
          "politics&power",
          "pride"
         ],
         "y": [
          0.057645875251509056,
          0.019656829868097473,
          0.18469707131678964,
          0.05295103957075788,
          0.04356136820925553,
          0.07532416722557567,
          0.07994634473507713
         ]
        },
        {
         "marker": {
          "color": [
           "#636EFA",
           "#EF553B",
           "#00CC96",
           "#AB63FA",
           "#FFA15A",
           "#19D3F3",
           "#FF6692"
          ]
         },
         "name": "Year 1948",
         "type": "bar",
         "visible": false,
         "x": [
          "deception&sadness",
          "help",
          "heroic",
          "law",
          "love&affection",
          "politics&power",
          "pride"
         ],
         "y": [
          0.06541591320072332,
          0.012025316455696202,
          0.16760598754269634,
          0.025713281093027927,
          0.082152903355435,
          0.07165963431786215,
          0.09103877838055054
         ]
        },
        {
         "marker": {
          "color": [
           "#636EFA",
           "#EF553B",
           "#00CC96",
           "#AB63FA",
           "#FFA15A",
           "#19D3F3",
           "#FF6692"
          ]
         },
         "name": "Year 1949",
         "type": "bar",
         "visible": false,
         "x": [
          "deception&sadness",
          "help",
          "heroic",
          "law",
          "love&affection",
          "politics&power",
          "pride"
         ],
         "y": [
          0.04345133745960192,
          0.00901875901875902,
          0.15055811956638399,
          0.029850452577725305,
          0.0628409239979488,
          0.08296363874876271,
          0.06692604915745413
         ]
        },
        {
         "marker": {
          "color": [
           "#636EFA",
           "#EF553B",
           "#00CC96",
           "#AB63FA",
           "#FFA15A",
           "#19D3F3",
           "#FF6692"
          ]
         },
         "name": "Year 1950",
         "type": "bar",
         "visible": false,
         "x": [
          "deception&sadness",
          "help",
          "heroic",
          "law",
          "love&affection",
          "politics&power",
          "pride"
         ],
         "y": [
          0.051571890892279246,
          0.025601017105871475,
          0.1798970985864189,
          0.05209200184928341,
          0.056222068115272,
          0.17995593942195884,
          0.07256511018646941
         ]
        },
        {
         "marker": {
          "color": [
           "#636EFA",
           "#EF553B",
           "#00CC96",
           "#AB63FA",
           "#FFA15A",
           "#19D3F3",
           "#FF6692"
          ]
         },
         "name": "Year 1951",
         "type": "bar",
         "visible": false,
         "x": [
          "deception&sadness",
          "help",
          "heroic",
          "law",
          "love&affection",
          "politics&power",
          "pride"
         ],
         "y": [
          0.03856837606837607,
          0.014636752136752137,
          0.183078033078033,
          0.053056318681318694,
          0.06651785714285714,
          0.14674908424908426,
          0.08958333333333332
         ]
        },
        {
         "marker": {
          "color": [
           "#636EFA",
           "#EF553B",
           "#00CC96",
           "#AB63FA",
           "#FFA15A",
           "#19D3F3",
           "#FF6692"
          ]
         },
         "name": "Year 1952",
         "type": "bar",
         "visible": false,
         "x": [
          "deception&sadness",
          "help",
          "heroic",
          "law",
          "love&affection",
          "politics&power",
          "pride"
         ],
         "y": [
          0.05286796536796537,
          0.017069777865232408,
          0.19706398399580216,
          0.032191230486685034,
          0.030303030303030304,
          0.12612469601105963,
          0.07473244348244346
         ]
        },
        {
         "marker": {
          "color": [
           "#636EFA",
           "#EF553B",
           "#00CC96",
           "#AB63FA",
           "#FFA15A",
           "#19D3F3",
           "#FF6692"
          ]
         },
         "name": "Year 1953",
         "type": "bar",
         "visible": false,
         "x": [
          "deception&sadness",
          "help",
          "heroic",
          "law",
          "love&affection",
          "politics&power",
          "pride"
         ],
         "y": [
          0.03672004687042281,
          0.0245375343119704,
          0.19425889482280456,
          0.029311644913148666,
          0.06299976130803199,
          0.14422202692879382,
          0.07742877423328551
         ]
        },
        {
         "marker": {
          "color": [
           "#636EFA",
           "#EF553B",
           "#00CC96",
           "#AB63FA",
           "#FFA15A",
           "#19D3F3",
           "#FF6692"
          ]
         },
         "name": "Year 1954",
         "type": "bar",
         "visible": false,
         "x": [
          "deception&sadness",
          "help",
          "heroic",
          "law",
          "love&affection",
          "politics&power",
          "pride"
         ],
         "y": [
          0.06630748478574566,
          0.019016249451032058,
          0.1620090658134136,
          0.030952380952380953,
          0.053229761381935296,
          0.09837765527124795,
          0.05403752849405024
         ]
        },
        {
         "marker": {
          "color": [
           "#636EFA",
           "#EF553B",
           "#00CC96",
           "#AB63FA",
           "#FFA15A",
           "#19D3F3",
           "#FF6692"
          ]
         },
         "name": "Year 1955",
         "type": "bar",
         "visible": false,
         "x": [
          "deception&sadness",
          "help",
          "heroic",
          "law",
          "love&affection",
          "politics&power",
          "pride"
         ],
         "y": [
          0.05940733195635156,
          0.017273576097105506,
          0.1773349743937979,
          0.03419465429269351,
          0.04216016372879118,
          0.11184770204378047,
          0.08071376698827679
         ]
        },
        {
         "marker": {
          "color": [
           "#636EFA",
           "#EF553B",
           "#00CC96",
           "#AB63FA",
           "#FFA15A",
           "#19D3F3",
           "#FF6692"
          ]
         },
         "name": "Year 1956",
         "type": "bar",
         "visible": false,
         "x": [
          "deception&sadness",
          "help",
          "heroic",
          "law",
          "love&affection",
          "politics&power",
          "pride"
         ],
         "y": [
          0.03220458553791887,
          0.016461840628507293,
          0.18737640445973772,
          0.038267797017797034,
          0.0506840227673561,
          0.13287844871178203,
          0.06841530383197049
         ]
        },
        {
         "marker": {
          "color": [
           "#636EFA",
           "#EF553B",
           "#00CC96",
           "#AB63FA",
           "#FFA15A",
           "#19D3F3",
           "#FF6692"
          ]
         },
         "name": "Year 1957",
         "type": "bar",
         "visible": false,
         "x": [
          "deception&sadness",
          "help",
          "heroic",
          "law",
          "love&affection",
          "politics&power",
          "pride"
         ],
         "y": [
          0.05448691520120092,
          0.017525463954035383,
          0.1777930329517631,
          0.031916290646449366,
          0.0755574672241339,
          0.13272597478946682,
          0.08554586213316373
         ]
        },
        {
         "marker": {
          "color": [
           "#636EFA",
           "#EF553B",
           "#00CC96",
           "#AB63FA",
           "#FFA15A",
           "#19D3F3",
           "#FF6692"
          ]
         },
         "name": "Year 1958",
         "type": "bar",
         "visible": false,
         "x": [
          "deception&sadness",
          "help",
          "heroic",
          "law",
          "love&affection",
          "politics&power",
          "pride"
         ],
         "y": [
          0.06204345815996301,
          0.01762983510556326,
          0.20082061950994007,
          0.03677990025077404,
          0.04695446139620897,
          0.13103731489653822,
          0.07023231622746184
         ]
        },
        {
         "marker": {
          "color": [
           "#636EFA",
           "#EF553B",
           "#00CC96",
           "#AB63FA",
           "#FFA15A",
           "#19D3F3",
           "#FF6692"
          ]
         },
         "name": "Year 1959",
         "type": "bar",
         "visible": false,
         "x": [
          "deception&sadness",
          "help",
          "heroic",
          "law",
          "love&affection",
          "politics&power",
          "pride"
         ],
         "y": [
          0.06620296058498304,
          0.02654068777664283,
          0.16474019893963707,
          0.03402017769995298,
          0.06433111208392107,
          0.12644523079916337,
          0.08112667607049627
         ]
        },
        {
         "marker": {
          "color": [
           "#636EFA",
           "#EF553B",
           "#00CC96",
           "#AB63FA",
           "#FFA15A",
           "#19D3F3",
           "#FF6692"
          ]
         },
         "name": "Year 1960",
         "type": "bar",
         "visible": false,
         "x": [
          "deception&sadness",
          "help",
          "heroic",
          "law",
          "love&affection",
          "politics&power",
          "pride"
         ],
         "y": [
          0.04337274592376633,
          0.018666990605766112,
          0.19302662567968687,
          0.009021703919663103,
          0.07090860764330154,
          0.10732102364755428,
          0.08774160457833928
         ]
        },
        {
         "marker": {
          "color": [
           "#636EFA",
           "#EF553B",
           "#00CC96",
           "#AB63FA",
           "#FFA15A",
           "#19D3F3",
           "#FF6692"
          ]
         },
         "name": "Year 1961",
         "type": "bar",
         "visible": false,
         "x": [
          "deception&sadness",
          "help",
          "heroic",
          "law",
          "love&affection",
          "politics&power",
          "pride"
         ],
         "y": [
          0.042278071722516165,
          0.015440917107583775,
          0.17260643190467748,
          0.023885949441505,
          0.08684284850951518,
          0.13852460837840957,
          0.06866440793341376
         ]
        },
        {
         "marker": {
          "color": [
           "#636EFA",
           "#EF553B",
           "#00CC96",
           "#AB63FA",
           "#FFA15A",
           "#19D3F3",
           "#FF6692"
          ]
         },
         "name": "Year 1962",
         "type": "bar",
         "visible": false,
         "x": [
          "deception&sadness",
          "help",
          "heroic",
          "law",
          "love&affection",
          "politics&power",
          "pride"
         ],
         "y": [
          0.0341926977343644,
          0.02697585978835979,
          0.18179588544171874,
          0.0453290343915344,
          0.05328827229868897,
          0.15289351851851854,
          0.06559193121693122
         ]
        },
        {
         "marker": {
          "color": [
           "#636EFA",
           "#EF553B",
           "#00CC96",
           "#AB63FA",
           "#FFA15A",
           "#19D3F3",
           "#FF6692"
          ]
         },
         "name": "Year 1963",
         "type": "bar",
         "visible": false,
         "x": [
          "deception&sadness",
          "help",
          "heroic",
          "law",
          "love&affection",
          "politics&power",
          "pride"
         ],
         "y": [
          0.050281970638007795,
          0.013480392156862746,
          0.18833500377618015,
          0.03551833013907317,
          0.05452668246785893,
          0.18837105017445574,
          0.06081190051778288
         ]
        },
        {
         "marker": {
          "color": [
           "#636EFA",
           "#EF553B",
           "#00CC96",
           "#AB63FA",
           "#FFA15A",
           "#19D3F3",
           "#FF6692"
          ]
         },
         "name": "Year 1964",
         "type": "bar",
         "visible": false,
         "x": [
          "deception&sadness",
          "help",
          "heroic",
          "law",
          "love&affection",
          "politics&power",
          "pride"
         ],
         "y": [
          0.061274684219889686,
          0.01605512067840835,
          0.22135839807072674,
          0.022899639307777907,
          0.04086288521220028,
          0.13405240676594424,
          0.041457382039573824
         ]
        },
        {
         "marker": {
          "color": [
           "#636EFA",
           "#EF553B",
           "#00CC96",
           "#AB63FA",
           "#FFA15A",
           "#19D3F3",
           "#FF6692"
          ]
         },
         "name": "Year 1965",
         "type": "bar",
         "visible": false,
         "x": [
          "deception&sadness",
          "help",
          "heroic",
          "law",
          "love&affection",
          "politics&power",
          "pride"
         ],
         "y": [
          0.06563930275586717,
          0.022704698164820864,
          0.18184908138895856,
          0.025915994266770163,
          0.059999554757764785,
          0.13001424074141507,
          0.06768701646002259
         ]
        },
        {
         "marker": {
          "color": [
           "#636EFA",
           "#EF553B",
           "#00CC96",
           "#AB63FA",
           "#FFA15A",
           "#19D3F3",
           "#FF6692"
          ]
         },
         "name": "Year 1966",
         "type": "bar",
         "visible": false,
         "x": [
          "deception&sadness",
          "help",
          "heroic",
          "law",
          "love&affection",
          "politics&power",
          "pride"
         ],
         "y": [
          0.05164890340328937,
          0.016456112370239796,
          0.17978953008962237,
          0.027202329833908787,
          0.05888268651426547,
          0.14886162365386746,
          0.0661554870696145
         ]
        },
        {
         "marker": {
          "color": [
           "#636EFA",
           "#EF553B",
           "#00CC96",
           "#AB63FA",
           "#FFA15A",
           "#19D3F3",
           "#FF6692"
          ]
         },
         "name": "Year 1967",
         "type": "bar",
         "visible": false,
         "x": [
          "deception&sadness",
          "help",
          "heroic",
          "law",
          "love&affection",
          "politics&power",
          "pride"
         ],
         "y": [
          0.07103174603174603,
          0.013267355134825012,
          0.16169939498252742,
          0.025800822336966917,
          0.05038487282463186,
          0.12400002942171617,
          0.05449177663033083
         ]
        },
        {
         "marker": {
          "color": [
           "#636EFA",
           "#EF553B",
           "#00CC96",
           "#AB63FA",
           "#FFA15A",
           "#19D3F3",
           "#FF6692"
          ]
         },
         "name": "Year 1968",
         "type": "bar",
         "visible": false,
         "x": [
          "deception&sadness",
          "help",
          "heroic",
          "law",
          "love&affection",
          "politics&power",
          "pride"
         ],
         "y": [
          0.05883635144198524,
          0.012949921752738654,
          0.1701281366152948,
          0.03516934942991282,
          0.06481174629476204,
          0.10068885535434832,
          0.0673764811088755
         ]
        },
        {
         "marker": {
          "color": [
           "#636EFA",
           "#EF553B",
           "#00CC96",
           "#AB63FA",
           "#FFA15A",
           "#19D3F3",
           "#FF6692"
          ]
         },
         "name": "Year 1969",
         "type": "bar",
         "visible": false,
         "x": [
          "deception&sadness",
          "help",
          "heroic",
          "law",
          "love&affection",
          "politics&power",
          "pride"
         ],
         "y": [
          0.06867293625914316,
          0.024625068418171865,
          0.21255053375743024,
          0.030265462506841822,
          0.07034166982442844,
          0.15108100711548986,
          0.07754515599343184
         ]
        },
        {
         "marker": {
          "color": [
           "#636EFA",
           "#EF553B",
           "#00CC96",
           "#AB63FA",
           "#FFA15A",
           "#19D3F3",
           "#FF6692"
          ]
         },
         "name": "Year 1970",
         "type": "bar",
         "visible": false,
         "x": [
          "deception&sadness",
          "help",
          "heroic",
          "law",
          "love&affection",
          "politics&power",
          "pride"
         ],
         "y": [
          0.07229847173028991,
          0.018704906204906203,
          0.1843860684769775,
          0.0255083300537846,
          0.057945526695526696,
          0.16567077703441338,
          0.07932025886571342
         ]
        },
        {
         "marker": {
          "color": [
           "#636EFA",
           "#EF553B",
           "#00CC96",
           "#AB63FA",
           "#FFA15A",
           "#19D3F3",
           "#FF6692"
          ]
         },
         "name": "Year 1971",
         "type": "bar",
         "visible": false,
         "x": [
          "deception&sadness",
          "help",
          "heroic",
          "law",
          "love&affection",
          "politics&power",
          "pride"
         ],
         "y": [
          0.034277630805408583,
          0.021759259259259263,
          0.16089466089466084,
          0.045715755437977665,
          0.05144500561167228,
          0.1649036662925552,
          0.058351704879482665
         ]
        },
        {
         "marker": {
          "color": [
           "#636EFA",
           "#EF553B",
           "#00CC96",
           "#AB63FA",
           "#FFA15A",
           "#19D3F3",
           "#FF6692"
          ]
         },
         "name": "Year 1972",
         "type": "bar",
         "visible": false,
         "x": [
          "deception&sadness",
          "help",
          "heroic",
          "law",
          "love&affection",
          "politics&power",
          "pride"
         ],
         "y": [
          0.055175603965926544,
          0.017741935483870964,
          0.17017496392496392,
          0.02727912768235349,
          0.045430107526881716,
          0.1446786412512219,
          0.07527550854163757
         ]
        },
        {
         "marker": {
          "color": [
           "#636EFA",
           "#EF553B",
           "#00CC96",
           "#AB63FA",
           "#FFA15A",
           "#19D3F3",
           "#FF6692"
          ]
         },
         "name": "Year 1973",
         "type": "bar",
         "visible": false,
         "x": [
          "deception&sadness",
          "help",
          "heroic",
          "law",
          "love&affection",
          "politics&power",
          "pride"
         ],
         "y": [
          0.06569325735992401,
          0.016748066748066746,
          0.1317697734364401,
          0.048904798904798916,
          0.06927146927146928,
          0.1413490830157497,
          0.07754714421381086
         ]
        },
        {
         "marker": {
          "color": [
           "#636EFA",
           "#EF553B",
           "#00CC96",
           "#AB63FA",
           "#FFA15A",
           "#19D3F3",
           "#FF6692"
          ]
         },
         "name": "Year 1974",
         "type": "bar",
         "visible": false,
         "x": [
          "deception&sadness",
          "help",
          "heroic",
          "law",
          "love&affection",
          "politics&power",
          "pride"
         ],
         "y": [
          0.04473365617433414,
          0.014588377723970944,
          0.2039866511576381,
          0.027058111380145283,
          0.06576619348304294,
          0.11309523809523808,
          0.05745334343290475
         ]
        },
        {
         "marker": {
          "color": [
           "#636EFA",
           "#EF553B",
           "#00CC96",
           "#AB63FA",
           "#FFA15A",
           "#19D3F3",
           "#FF6692"
          ]
         },
         "name": "Year 1975",
         "type": "bar",
         "visible": false,
         "x": [
          "deception&sadness",
          "help",
          "heroic",
          "law",
          "love&affection",
          "politics&power",
          "pride"
         ],
         "y": [
          0.07190697560015742,
          0.016477272727272726,
          0.14247835497835495,
          0.039752435064935074,
          0.06315549980322709,
          0.1323646366260003,
          0.06637396694214875
         ]
        },
        {
         "marker": {
          "color": [
           "#636EFA",
           "#EF553B",
           "#00CC96",
           "#AB63FA",
           "#FFA15A",
           "#19D3F3",
           "#FF6692"
          ]
         },
         "name": "Year 1976",
         "type": "bar",
         "visible": false,
         "x": [
          "deception&sadness",
          "help",
          "heroic",
          "law",
          "love&affection",
          "politics&power",
          "pride"
         ],
         "y": [
          0.06659004217143752,
          0.011637694777229661,
          0.14813053010727428,
          0.029155900086132645,
          0.06895994832041344,
          0.09456301665603992,
          0.04657650704162331
         ]
        },
        {
         "marker": {
          "color": [
           "#636EFA",
           "#EF553B",
           "#00CC96",
           "#AB63FA",
           "#FFA15A",
           "#19D3F3",
           "#FF6692"
          ]
         },
         "name": "Year 1977",
         "type": "bar",
         "visible": false,
         "x": [
          "deception&sadness",
          "help",
          "heroic",
          "law",
          "love&affection",
          "politics&power",
          "pride"
         ],
         "y": [
          0.04942864256244538,
          0.011809317443120259,
          0.1752863920117441,
          0.034347577305323784,
          0.06029789850212386,
          0.12758696702358674,
          0.06202170286677328
         ]
        },
        {
         "marker": {
          "color": [
           "#636EFA",
           "#EF553B",
           "#00CC96",
           "#AB63FA",
           "#FFA15A",
           "#19D3F3",
           "#FF6692"
          ]
         },
         "name": "Year 1978",
         "type": "bar",
         "visible": false,
         "x": [
          "deception&sadness",
          "help",
          "heroic",
          "law",
          "love&affection",
          "politics&power",
          "pride"
         ],
         "y": [
          0.06763830532212886,
          0.014508928571428572,
          0.18494080324437465,
          0.03411989795918367,
          0.059002976190476196,
          0.10647566718995291,
          0.06361607142857144
         ]
        },
        {
         "marker": {
          "color": [
           "#636EFA",
           "#EF553B",
           "#00CC96",
           "#AB63FA",
           "#FFA15A",
           "#19D3F3",
           "#FF6692"
          ]
         },
         "name": "Year 1979",
         "type": "bar",
         "visible": false,
         "x": [
          "deception&sadness",
          "help",
          "heroic",
          "law",
          "love&affection",
          "politics&power",
          "pride"
         ],
         "y": [
          0.04125011678968513,
          0.012589928057553957,
          0.1805563341534564,
          0.03852873744960076,
          0.05609252857454296,
          0.139136183560644,
          0.06809721054325368
         ]
        },
        {
         "marker": {
          "color": [
           "#636EFA",
           "#EF553B",
           "#00CC96",
           "#AB63FA",
           "#FFA15A",
           "#19D3F3",
           "#FF6692"
          ]
         },
         "name": "Year 1980",
         "type": "bar",
         "visible": false,
         "x": [
          "deception&sadness",
          "help",
          "heroic",
          "law",
          "love&affection",
          "politics&power",
          "pride"
         ],
         "y": [
          0.05621156621156621,
          0.016742424242424243,
          0.17228912501639768,
          0.025903843631116356,
          0.08541569541569541,
          0.09240562467835195,
          0.05686507936507937
         ]
        },
        {
         "marker": {
          "color": [
           "#636EFA",
           "#EF553B",
           "#00CC96",
           "#AB63FA",
           "#FFA15A",
           "#19D3F3",
           "#FF6692"
          ]
         },
         "name": "Year 1981",
         "type": "bar",
         "visible": false,
         "x": [
          "deception&sadness",
          "help",
          "heroic",
          "law",
          "love&affection",
          "politics&power",
          "pride"
         ],
         "y": [
          0.04293472014710953,
          0.01352015732546706,
          0.1385249460470699,
          0.03544452106399009,
          0.04399206987702563,
          0.12851364466408716,
          0.058523285956914285
         ]
        },
        {
         "marker": {
          "color": [
           "#636EFA",
           "#EF553B",
           "#00CC96",
           "#AB63FA",
           "#FFA15A",
           "#19D3F3",
           "#FF6692"
          ]
         },
         "name": "Year 1982",
         "type": "bar",
         "visible": false,
         "x": [
          "deception&sadness",
          "help",
          "heroic",
          "law",
          "love&affection",
          "politics&power",
          "pride"
         ],
         "y": [
          0.02604282022886674,
          0.02553832902670112,
          0.17552294819736677,
          0.035406669127599356,
          0.05091501951967069,
          0.12102204427785825,
          0.06506118773560635
         ]
        },
        {
         "marker": {
          "color": [
           "#636EFA",
           "#EF553B",
           "#00CC96",
           "#AB63FA",
           "#FFA15A",
           "#19D3F3",
           "#FF6692"
          ]
         },
         "name": "Year 1983",
         "type": "bar",
         "visible": false,
         "x": [
          "deception&sadness",
          "help",
          "heroic",
          "law",
          "love&affection",
          "politics&power",
          "pride"
         ],
         "y": [
          0.03494578582606751,
          0.016200231693189435,
          0.1459952410656635,
          0.052537700953193926,
          0.040529873100295634,
          0.13231052984574113,
          0.08160358811767263
         ]
        },
        {
         "marker": {
          "color": [
           "#636EFA",
           "#EF553B",
           "#00CC96",
           "#AB63FA",
           "#FFA15A",
           "#19D3F3",
           "#FF6692"
          ]
         },
         "name": "Year 1984",
         "type": "bar",
         "visible": false,
         "x": [
          "deception&sadness",
          "help",
          "heroic",
          "law",
          "love&affection",
          "politics&power",
          "pride"
         ],
         "y": [
          0.04547354497354497,
          0.01411111111111111,
          0.158040404040404,
          0.04096229374490244,
          0.09486801765062634,
          0.14791285526068138,
          0.05045839345839345
         ]
        },
        {
         "marker": {
          "color": [
           "#636EFA",
           "#EF553B",
           "#00CC96",
           "#AB63FA",
           "#FFA15A",
           "#19D3F3",
           "#FF6692"
          ]
         },
         "name": "Year 1985",
         "type": "bar",
         "visible": false,
         "x": [
          "deception&sadness",
          "help",
          "heroic",
          "law",
          "love&affection",
          "politics&power",
          "pride"
         ],
         "y": [
          0.06354031672503012,
          0.01340107168132646,
          0.17612650972523577,
          0.031189166459867097,
          0.07291270300824441,
          0.12771608257277048,
          0.0771511750811114
         ]
        },
        {
         "marker": {
          "color": [
           "#636EFA",
           "#EF553B",
           "#00CC96",
           "#AB63FA",
           "#FFA15A",
           "#19D3F3",
           "#FF6692"
          ]
         },
         "name": "Year 1986",
         "type": "bar",
         "visible": false,
         "x": [
          "deception&sadness",
          "help",
          "heroic",
          "law",
          "love&affection",
          "politics&power",
          "pride"
         ],
         "y": [
          0.051932825471786515,
          0.011863136863136862,
          0.19025199756573638,
          0.024714210753171793,
          0.042280680130987715,
          0.11201555147214752,
          0.07140795712224282
         ]
        },
        {
         "marker": {
          "color": [
           "#636EFA",
           "#EF553B",
           "#00CC96",
           "#AB63FA",
           "#FFA15A",
           "#19D3F3",
           "#FF6692"
          ]
         },
         "name": "Year 1987",
         "type": "bar",
         "visible": false,
         "x": [
          "deception&sadness",
          "help",
          "heroic",
          "law",
          "love&affection",
          "politics&power",
          "pride"
         ],
         "y": [
          0.06029296492259455,
          0.02494655550211106,
          0.1509141235993087,
          0.038881540270429164,
          0.08479292483922114,
          0.11655427905427906,
          0.06755896709600415
         ]
        },
        {
         "marker": {
          "color": [
           "#636EFA",
           "#EF553B",
           "#00CC96",
           "#AB63FA",
           "#FFA15A",
           "#19D3F3",
           "#FF6692"
          ]
         },
         "name": "Year 1988",
         "type": "bar",
         "visible": false,
         "x": [
          "deception&sadness",
          "help",
          "heroic",
          "law",
          "love&affection",
          "politics&power",
          "pride"
         ],
         "y": [
          0.0788736618678479,
          0.01605989294942783,
          0.14365274583297832,
          0.030437892211148034,
          0.056537325723372236,
          0.11404577334809896,
          0.08034560723514211
         ]
        },
        {
         "marker": {
          "color": [
           "#636EFA",
           "#EF553B",
           "#00CC96",
           "#AB63FA",
           "#FFA15A",
           "#19D3F3",
           "#FF6692"
          ]
         },
         "name": "Year 1989",
         "type": "bar",
         "visible": false,
         "x": [
          "deception&sadness",
          "help",
          "heroic",
          "law",
          "love&affection",
          "politics&power",
          "pride"
         ],
         "y": [
          0.05503117913832199,
          0.012929894179894182,
          0.16402943947586798,
          0.04639077853363568,
          0.038031099191813474,
          0.1178077544148973,
          0.06247129193557764
         ]
        },
        {
         "marker": {
          "color": [
           "#636EFA",
           "#EF553B",
           "#00CC96",
           "#AB63FA",
           "#FFA15A",
           "#19D3F3",
           "#FF6692"
          ]
         },
         "name": "Year 1990",
         "type": "bar",
         "visible": false,
         "x": [
          "deception&sadness",
          "help",
          "heroic",
          "law",
          "love&affection",
          "politics&power",
          "pride"
         ],
         "y": [
          0.058824908424908416,
          0.0060888888888888885,
          0.17874294594294593,
          0.04471091131091132,
          0.039198534798534794,
          0.14687479187479185,
          0.06493264513264516
         ]
        },
        {
         "marker": {
          "color": [
           "#636EFA",
           "#EF553B",
           "#00CC96",
           "#AB63FA",
           "#FFA15A",
           "#19D3F3",
           "#FF6692"
          ]
         },
         "name": "Year 1991",
         "type": "bar",
         "visible": false,
         "x": [
          "deception&sadness",
          "help",
          "heroic",
          "law",
          "love&affection",
          "politics&power",
          "pride"
         ],
         "y": [
          0.056368802665098965,
          0.017289295067072843,
          0.16892140781029666,
          0.017713288083658452,
          0.054458607236385015,
          0.08375376338339302,
          0.059959073847962736
         ]
        },
        {
         "marker": {
          "color": [
           "#636EFA",
           "#EF553B",
           "#00CC96",
           "#AB63FA",
           "#FFA15A",
           "#19D3F3",
           "#FF6692"
          ]
         },
         "name": "Year 1992",
         "type": "bar",
         "visible": false,
         "x": [
          "deception&sadness",
          "help",
          "heroic",
          "law",
          "love&affection",
          "politics&power",
          "pride"
         ],
         "y": [
          0.0560515873015873,
          0.017784992784992786,
          0.16608532398973572,
          0.032638195138195145,
          0.0584645152826971,
          0.12316632231404959,
          0.080509768009768
         ]
        },
        {
         "marker": {
          "color": [
           "#636EFA",
           "#EF553B",
           "#00CC96",
           "#AB63FA",
           "#FFA15A",
           "#19D3F3",
           "#FF6692"
          ]
         },
         "name": "Year 1993",
         "type": "bar",
         "visible": false,
         "x": [
          "deception&sadness",
          "help",
          "heroic",
          "law",
          "love&affection",
          "politics&power",
          "pride"
         ],
         "y": [
          0.07989807033924681,
          0.010294117647058823,
          0.15982478850125906,
          0.039089069971422905,
          0.029672778202189967,
          0.10320816524376895,
          0.031396599043657866
         ]
        },
        {
         "marker": {
          "color": [
           "#636EFA",
           "#EF553B",
           "#00CC96",
           "#AB63FA",
           "#FFA15A",
           "#19D3F3",
           "#FF6692"
          ]
         },
         "name": "Year 1994",
         "type": "bar",
         "visible": false,
         "x": [
          "deception&sadness",
          "help",
          "heroic",
          "law",
          "love&affection",
          "politics&power",
          "pride"
         ],
         "y": [
          0.0795089957324,
          0.019457109084768658,
          0.15873476405391296,
          0.02476013938779896,
          0.027027493782812932,
          0.07869116698903933,
          0.06509241349666882
         ]
        },
        {
         "marker": {
          "color": [
           "#636EFA",
           "#EF553B",
           "#00CC96",
           "#AB63FA",
           "#FFA15A",
           "#19D3F3",
           "#FF6692"
          ]
         },
         "name": "Year 1995",
         "type": "bar",
         "visible": false,
         "x": [
          "deception&sadness",
          "help",
          "heroic",
          "law",
          "love&affection",
          "politics&power",
          "pride"
         ],
         "y": [
          0.013521457965902409,
          0.01798941798941799,
          0.19721789950548121,
          0.06629923574368018,
          0.03487654320987654,
          0.15630079192170696,
          0.08349846111284022
         ]
        }
       ],
       "layout": {
        "barmode": "group",
        "legend": {
         "title": {
          "text": "Year"
         }
        },
        "sliders": [
         {
          "active": 0,
          "currentvalue": {
           "prefix": "Year: "
          },
          "pad": {
           "t": 50
          },
          "steps": [
           {
            "args": [
             {
              "visible": [
               true,
               false,
               false,
               false,
               false,
               false,
               false,
               false,
               false,
               false,
               false,
               false,
               false,
               false,
               false,
               false,
               false,
               false,
               false,
               false,
               false,
               false,
               false,
               false,
               false,
               false,
               false,
               false,
               false,
               false,
               false,
               false,
               false,
               false,
               false,
               false,
               false,
               false,
               false,
               false,
               false,
               false,
               false,
               false,
               false,
               false,
               false,
               false,
               false,
               false,
               false
              ]
             },
             {
              "title": "Empath Topic Proportions for Year: 1945"
             }
            ],
            "label": "1945",
            "method": "update"
           },
           {
            "args": [
             {
              "visible": [
               false,
               true,
               false,
               false,
               false,
               false,
               false,
               false,
               false,
               false,
               false,
               false,
               false,
               false,
               false,
               false,
               false,
               false,
               false,
               false,
               false,
               false,
               false,
               false,
               false,
               false,
               false,
               false,
               false,
               false,
               false,
               false,
               false,
               false,
               false,
               false,
               false,
               false,
               false,
               false,
               false,
               false,
               false,
               false,
               false,
               false,
               false,
               false,
               false,
               false,
               false
              ]
             },
             {
              "title": "Empath Topic Proportions for Year: 1946"
             }
            ],
            "label": "1946",
            "method": "update"
           },
           {
            "args": [
             {
              "visible": [
               false,
               false,
               true,
               false,
               false,
               false,
               false,
               false,
               false,
               false,
               false,
               false,
               false,
               false,
               false,
               false,
               false,
               false,
               false,
               false,
               false,
               false,
               false,
               false,
               false,
               false,
               false,
               false,
               false,
               false,
               false,
               false,
               false,
               false,
               false,
               false,
               false,
               false,
               false,
               false,
               false,
               false,
               false,
               false,
               false,
               false,
               false,
               false,
               false,
               false,
               false
              ]
             },
             {
              "title": "Empath Topic Proportions for Year: 1947"
             }
            ],
            "label": "1947",
            "method": "update"
           },
           {
            "args": [
             {
              "visible": [
               false,
               false,
               false,
               true,
               false,
               false,
               false,
               false,
               false,
               false,
               false,
               false,
               false,
               false,
               false,
               false,
               false,
               false,
               false,
               false,
               false,
               false,
               false,
               false,
               false,
               false,
               false,
               false,
               false,
               false,
               false,
               false,
               false,
               false,
               false,
               false,
               false,
               false,
               false,
               false,
               false,
               false,
               false,
               false,
               false,
               false,
               false,
               false,
               false,
               false,
               false
              ]
             },
             {
              "title": "Empath Topic Proportions for Year: 1948"
             }
            ],
            "label": "1948",
            "method": "update"
           },
           {
            "args": [
             {
              "visible": [
               false,
               false,
               false,
               false,
               true,
               false,
               false,
               false,
               false,
               false,
               false,
               false,
               false,
               false,
               false,
               false,
               false,
               false,
               false,
               false,
               false,
               false,
               false,
               false,
               false,
               false,
               false,
               false,
               false,
               false,
               false,
               false,
               false,
               false,
               false,
               false,
               false,
               false,
               false,
               false,
               false,
               false,
               false,
               false,
               false,
               false,
               false,
               false,
               false,
               false,
               false
              ]
             },
             {
              "title": "Empath Topic Proportions for Year: 1949"
             }
            ],
            "label": "1949",
            "method": "update"
           },
           {
            "args": [
             {
              "visible": [
               false,
               false,
               false,
               false,
               false,
               true,
               false,
               false,
               false,
               false,
               false,
               false,
               false,
               false,
               false,
               false,
               false,
               false,
               false,
               false,
               false,
               false,
               false,
               false,
               false,
               false,
               false,
               false,
               false,
               false,
               false,
               false,
               false,
               false,
               false,
               false,
               false,
               false,
               false,
               false,
               false,
               false,
               false,
               false,
               false,
               false,
               false,
               false,
               false,
               false,
               false
              ]
             },
             {
              "title": "Empath Topic Proportions for Year: 1950"
             }
            ],
            "label": "1950",
            "method": "update"
           },
           {
            "args": [
             {
              "visible": [
               false,
               false,
               false,
               false,
               false,
               false,
               true,
               false,
               false,
               false,
               false,
               false,
               false,
               false,
               false,
               false,
               false,
               false,
               false,
               false,
               false,
               false,
               false,
               false,
               false,
               false,
               false,
               false,
               false,
               false,
               false,
               false,
               false,
               false,
               false,
               false,
               false,
               false,
               false,
               false,
               false,
               false,
               false,
               false,
               false,
               false,
               false,
               false,
               false,
               false,
               false
              ]
             },
             {
              "title": "Empath Topic Proportions for Year: 1951"
             }
            ],
            "label": "1951",
            "method": "update"
           },
           {
            "args": [
             {
              "visible": [
               false,
               false,
               false,
               false,
               false,
               false,
               false,
               true,
               false,
               false,
               false,
               false,
               false,
               false,
               false,
               false,
               false,
               false,
               false,
               false,
               false,
               false,
               false,
               false,
               false,
               false,
               false,
               false,
               false,
               false,
               false,
               false,
               false,
               false,
               false,
               false,
               false,
               false,
               false,
               false,
               false,
               false,
               false,
               false,
               false,
               false,
               false,
               false,
               false,
               false,
               false
              ]
             },
             {
              "title": "Empath Topic Proportions for Year: 1952"
             }
            ],
            "label": "1952",
            "method": "update"
           },
           {
            "args": [
             {
              "visible": [
               false,
               false,
               false,
               false,
               false,
               false,
               false,
               false,
               true,
               false,
               false,
               false,
               false,
               false,
               false,
               false,
               false,
               false,
               false,
               false,
               false,
               false,
               false,
               false,
               false,
               false,
               false,
               false,
               false,
               false,
               false,
               false,
               false,
               false,
               false,
               false,
               false,
               false,
               false,
               false,
               false,
               false,
               false,
               false,
               false,
               false,
               false,
               false,
               false,
               false,
               false
              ]
             },
             {
              "title": "Empath Topic Proportions for Year: 1953"
             }
            ],
            "label": "1953",
            "method": "update"
           },
           {
            "args": [
             {
              "visible": [
               false,
               false,
               false,
               false,
               false,
               false,
               false,
               false,
               false,
               true,
               false,
               false,
               false,
               false,
               false,
               false,
               false,
               false,
               false,
               false,
               false,
               false,
               false,
               false,
               false,
               false,
               false,
               false,
               false,
               false,
               false,
               false,
               false,
               false,
               false,
               false,
               false,
               false,
               false,
               false,
               false,
               false,
               false,
               false,
               false,
               false,
               false,
               false,
               false,
               false,
               false
              ]
             },
             {
              "title": "Empath Topic Proportions for Year: 1954"
             }
            ],
            "label": "1954",
            "method": "update"
           },
           {
            "args": [
             {
              "visible": [
               false,
               false,
               false,
               false,
               false,
               false,
               false,
               false,
               false,
               false,
               true,
               false,
               false,
               false,
               false,
               false,
               false,
               false,
               false,
               false,
               false,
               false,
               false,
               false,
               false,
               false,
               false,
               false,
               false,
               false,
               false,
               false,
               false,
               false,
               false,
               false,
               false,
               false,
               false,
               false,
               false,
               false,
               false,
               false,
               false,
               false,
               false,
               false,
               false,
               false,
               false
              ]
             },
             {
              "title": "Empath Topic Proportions for Year: 1955"
             }
            ],
            "label": "1955",
            "method": "update"
           },
           {
            "args": [
             {
              "visible": [
               false,
               false,
               false,
               false,
               false,
               false,
               false,
               false,
               false,
               false,
               false,
               true,
               false,
               false,
               false,
               false,
               false,
               false,
               false,
               false,
               false,
               false,
               false,
               false,
               false,
               false,
               false,
               false,
               false,
               false,
               false,
               false,
               false,
               false,
               false,
               false,
               false,
               false,
               false,
               false,
               false,
               false,
               false,
               false,
               false,
               false,
               false,
               false,
               false,
               false,
               false
              ]
             },
             {
              "title": "Empath Topic Proportions for Year: 1956"
             }
            ],
            "label": "1956",
            "method": "update"
           },
           {
            "args": [
             {
              "visible": [
               false,
               false,
               false,
               false,
               false,
               false,
               false,
               false,
               false,
               false,
               false,
               false,
               true,
               false,
               false,
               false,
               false,
               false,
               false,
               false,
               false,
               false,
               false,
               false,
               false,
               false,
               false,
               false,
               false,
               false,
               false,
               false,
               false,
               false,
               false,
               false,
               false,
               false,
               false,
               false,
               false,
               false,
               false,
               false,
               false,
               false,
               false,
               false,
               false,
               false,
               false
              ]
             },
             {
              "title": "Empath Topic Proportions for Year: 1957"
             }
            ],
            "label": "1957",
            "method": "update"
           },
           {
            "args": [
             {
              "visible": [
               false,
               false,
               false,
               false,
               false,
               false,
               false,
               false,
               false,
               false,
               false,
               false,
               false,
               true,
               false,
               false,
               false,
               false,
               false,
               false,
               false,
               false,
               false,
               false,
               false,
               false,
               false,
               false,
               false,
               false,
               false,
               false,
               false,
               false,
               false,
               false,
               false,
               false,
               false,
               false,
               false,
               false,
               false,
               false,
               false,
               false,
               false,
               false,
               false,
               false,
               false
              ]
             },
             {
              "title": "Empath Topic Proportions for Year: 1958"
             }
            ],
            "label": "1958",
            "method": "update"
           },
           {
            "args": [
             {
              "visible": [
               false,
               false,
               false,
               false,
               false,
               false,
               false,
               false,
               false,
               false,
               false,
               false,
               false,
               false,
               true,
               false,
               false,
               false,
               false,
               false,
               false,
               false,
               false,
               false,
               false,
               false,
               false,
               false,
               false,
               false,
               false,
               false,
               false,
               false,
               false,
               false,
               false,
               false,
               false,
               false,
               false,
               false,
               false,
               false,
               false,
               false,
               false,
               false,
               false,
               false,
               false
              ]
             },
             {
              "title": "Empath Topic Proportions for Year: 1959"
             }
            ],
            "label": "1959",
            "method": "update"
           },
           {
            "args": [
             {
              "visible": [
               false,
               false,
               false,
               false,
               false,
               false,
               false,
               false,
               false,
               false,
               false,
               false,
               false,
               false,
               false,
               true,
               false,
               false,
               false,
               false,
               false,
               false,
               false,
               false,
               false,
               false,
               false,
               false,
               false,
               false,
               false,
               false,
               false,
               false,
               false,
               false,
               false,
               false,
               false,
               false,
               false,
               false,
               false,
               false,
               false,
               false,
               false,
               false,
               false,
               false,
               false
              ]
             },
             {
              "title": "Empath Topic Proportions for Year: 1960"
             }
            ],
            "label": "1960",
            "method": "update"
           },
           {
            "args": [
             {
              "visible": [
               false,
               false,
               false,
               false,
               false,
               false,
               false,
               false,
               false,
               false,
               false,
               false,
               false,
               false,
               false,
               false,
               true,
               false,
               false,
               false,
               false,
               false,
               false,
               false,
               false,
               false,
               false,
               false,
               false,
               false,
               false,
               false,
               false,
               false,
               false,
               false,
               false,
               false,
               false,
               false,
               false,
               false,
               false,
               false,
               false,
               false,
               false,
               false,
               false,
               false,
               false
              ]
             },
             {
              "title": "Empath Topic Proportions for Year: 1961"
             }
            ],
            "label": "1961",
            "method": "update"
           },
           {
            "args": [
             {
              "visible": [
               false,
               false,
               false,
               false,
               false,
               false,
               false,
               false,
               false,
               false,
               false,
               false,
               false,
               false,
               false,
               false,
               false,
               true,
               false,
               false,
               false,
               false,
               false,
               false,
               false,
               false,
               false,
               false,
               false,
               false,
               false,
               false,
               false,
               false,
               false,
               false,
               false,
               false,
               false,
               false,
               false,
               false,
               false,
               false,
               false,
               false,
               false,
               false,
               false,
               false,
               false
              ]
             },
             {
              "title": "Empath Topic Proportions for Year: 1962"
             }
            ],
            "label": "1962",
            "method": "update"
           },
           {
            "args": [
             {
              "visible": [
               false,
               false,
               false,
               false,
               false,
               false,
               false,
               false,
               false,
               false,
               false,
               false,
               false,
               false,
               false,
               false,
               false,
               false,
               true,
               false,
               false,
               false,
               false,
               false,
               false,
               false,
               false,
               false,
               false,
               false,
               false,
               false,
               false,
               false,
               false,
               false,
               false,
               false,
               false,
               false,
               false,
               false,
               false,
               false,
               false,
               false,
               false,
               false,
               false,
               false,
               false
              ]
             },
             {
              "title": "Empath Topic Proportions for Year: 1963"
             }
            ],
            "label": "1963",
            "method": "update"
           },
           {
            "args": [
             {
              "visible": [
               false,
               false,
               false,
               false,
               false,
               false,
               false,
               false,
               false,
               false,
               false,
               false,
               false,
               false,
               false,
               false,
               false,
               false,
               false,
               true,
               false,
               false,
               false,
               false,
               false,
               false,
               false,
               false,
               false,
               false,
               false,
               false,
               false,
               false,
               false,
               false,
               false,
               false,
               false,
               false,
               false,
               false,
               false,
               false,
               false,
               false,
               false,
               false,
               false,
               false,
               false
              ]
             },
             {
              "title": "Empath Topic Proportions for Year: 1964"
             }
            ],
            "label": "1964",
            "method": "update"
           },
           {
            "args": [
             {
              "visible": [
               false,
               false,
               false,
               false,
               false,
               false,
               false,
               false,
               false,
               false,
               false,
               false,
               false,
               false,
               false,
               false,
               false,
               false,
               false,
               false,
               true,
               false,
               false,
               false,
               false,
               false,
               false,
               false,
               false,
               false,
               false,
               false,
               false,
               false,
               false,
               false,
               false,
               false,
               false,
               false,
               false,
               false,
               false,
               false,
               false,
               false,
               false,
               false,
               false,
               false,
               false
              ]
             },
             {
              "title": "Empath Topic Proportions for Year: 1965"
             }
            ],
            "label": "1965",
            "method": "update"
           },
           {
            "args": [
             {
              "visible": [
               false,
               false,
               false,
               false,
               false,
               false,
               false,
               false,
               false,
               false,
               false,
               false,
               false,
               false,
               false,
               false,
               false,
               false,
               false,
               false,
               false,
               true,
               false,
               false,
               false,
               false,
               false,
               false,
               false,
               false,
               false,
               false,
               false,
               false,
               false,
               false,
               false,
               false,
               false,
               false,
               false,
               false,
               false,
               false,
               false,
               false,
               false,
               false,
               false,
               false,
               false
              ]
             },
             {
              "title": "Empath Topic Proportions for Year: 1966"
             }
            ],
            "label": "1966",
            "method": "update"
           },
           {
            "args": [
             {
              "visible": [
               false,
               false,
               false,
               false,
               false,
               false,
               false,
               false,
               false,
               false,
               false,
               false,
               false,
               false,
               false,
               false,
               false,
               false,
               false,
               false,
               false,
               false,
               true,
               false,
               false,
               false,
               false,
               false,
               false,
               false,
               false,
               false,
               false,
               false,
               false,
               false,
               false,
               false,
               false,
               false,
               false,
               false,
               false,
               false,
               false,
               false,
               false,
               false,
               false,
               false,
               false
              ]
             },
             {
              "title": "Empath Topic Proportions for Year: 1967"
             }
            ],
            "label": "1967",
            "method": "update"
           },
           {
            "args": [
             {
              "visible": [
               false,
               false,
               false,
               false,
               false,
               false,
               false,
               false,
               false,
               false,
               false,
               false,
               false,
               false,
               false,
               false,
               false,
               false,
               false,
               false,
               false,
               false,
               false,
               true,
               false,
               false,
               false,
               false,
               false,
               false,
               false,
               false,
               false,
               false,
               false,
               false,
               false,
               false,
               false,
               false,
               false,
               false,
               false,
               false,
               false,
               false,
               false,
               false,
               false,
               false,
               false
              ]
             },
             {
              "title": "Empath Topic Proportions for Year: 1968"
             }
            ],
            "label": "1968",
            "method": "update"
           },
           {
            "args": [
             {
              "visible": [
               false,
               false,
               false,
               false,
               false,
               false,
               false,
               false,
               false,
               false,
               false,
               false,
               false,
               false,
               false,
               false,
               false,
               false,
               false,
               false,
               false,
               false,
               false,
               false,
               true,
               false,
               false,
               false,
               false,
               false,
               false,
               false,
               false,
               false,
               false,
               false,
               false,
               false,
               false,
               false,
               false,
               false,
               false,
               false,
               false,
               false,
               false,
               false,
               false,
               false,
               false
              ]
             },
             {
              "title": "Empath Topic Proportions for Year: 1969"
             }
            ],
            "label": "1969",
            "method": "update"
           },
           {
            "args": [
             {
              "visible": [
               false,
               false,
               false,
               false,
               false,
               false,
               false,
               false,
               false,
               false,
               false,
               false,
               false,
               false,
               false,
               false,
               false,
               false,
               false,
               false,
               false,
               false,
               false,
               false,
               false,
               true,
               false,
               false,
               false,
               false,
               false,
               false,
               false,
               false,
               false,
               false,
               false,
               false,
               false,
               false,
               false,
               false,
               false,
               false,
               false,
               false,
               false,
               false,
               false,
               false,
               false
              ]
             },
             {
              "title": "Empath Topic Proportions for Year: 1970"
             }
            ],
            "label": "1970",
            "method": "update"
           },
           {
            "args": [
             {
              "visible": [
               false,
               false,
               false,
               false,
               false,
               false,
               false,
               false,
               false,
               false,
               false,
               false,
               false,
               false,
               false,
               false,
               false,
               false,
               false,
               false,
               false,
               false,
               false,
               false,
               false,
               false,
               true,
               false,
               false,
               false,
               false,
               false,
               false,
               false,
               false,
               false,
               false,
               false,
               false,
               false,
               false,
               false,
               false,
               false,
               false,
               false,
               false,
               false,
               false,
               false,
               false
              ]
             },
             {
              "title": "Empath Topic Proportions for Year: 1971"
             }
            ],
            "label": "1971",
            "method": "update"
           },
           {
            "args": [
             {
              "visible": [
               false,
               false,
               false,
               false,
               false,
               false,
               false,
               false,
               false,
               false,
               false,
               false,
               false,
               false,
               false,
               false,
               false,
               false,
               false,
               false,
               false,
               false,
               false,
               false,
               false,
               false,
               false,
               true,
               false,
               false,
               false,
               false,
               false,
               false,
               false,
               false,
               false,
               false,
               false,
               false,
               false,
               false,
               false,
               false,
               false,
               false,
               false,
               false,
               false,
               false,
               false
              ]
             },
             {
              "title": "Empath Topic Proportions for Year: 1972"
             }
            ],
            "label": "1972",
            "method": "update"
           },
           {
            "args": [
             {
              "visible": [
               false,
               false,
               false,
               false,
               false,
               false,
               false,
               false,
               false,
               false,
               false,
               false,
               false,
               false,
               false,
               false,
               false,
               false,
               false,
               false,
               false,
               false,
               false,
               false,
               false,
               false,
               false,
               false,
               true,
               false,
               false,
               false,
               false,
               false,
               false,
               false,
               false,
               false,
               false,
               false,
               false,
               false,
               false,
               false,
               false,
               false,
               false,
               false,
               false,
               false,
               false
              ]
             },
             {
              "title": "Empath Topic Proportions for Year: 1973"
             }
            ],
            "label": "1973",
            "method": "update"
           },
           {
            "args": [
             {
              "visible": [
               false,
               false,
               false,
               false,
               false,
               false,
               false,
               false,
               false,
               false,
               false,
               false,
               false,
               false,
               false,
               false,
               false,
               false,
               false,
               false,
               false,
               false,
               false,
               false,
               false,
               false,
               false,
               false,
               false,
               true,
               false,
               false,
               false,
               false,
               false,
               false,
               false,
               false,
               false,
               false,
               false,
               false,
               false,
               false,
               false,
               false,
               false,
               false,
               false,
               false,
               false
              ]
             },
             {
              "title": "Empath Topic Proportions for Year: 1974"
             }
            ],
            "label": "1974",
            "method": "update"
           },
           {
            "args": [
             {
              "visible": [
               false,
               false,
               false,
               false,
               false,
               false,
               false,
               false,
               false,
               false,
               false,
               false,
               false,
               false,
               false,
               false,
               false,
               false,
               false,
               false,
               false,
               false,
               false,
               false,
               false,
               false,
               false,
               false,
               false,
               false,
               true,
               false,
               false,
               false,
               false,
               false,
               false,
               false,
               false,
               false,
               false,
               false,
               false,
               false,
               false,
               false,
               false,
               false,
               false,
               false,
               false
              ]
             },
             {
              "title": "Empath Topic Proportions for Year: 1975"
             }
            ],
            "label": "1975",
            "method": "update"
           },
           {
            "args": [
             {
              "visible": [
               false,
               false,
               false,
               false,
               false,
               false,
               false,
               false,
               false,
               false,
               false,
               false,
               false,
               false,
               false,
               false,
               false,
               false,
               false,
               false,
               false,
               false,
               false,
               false,
               false,
               false,
               false,
               false,
               false,
               false,
               false,
               true,
               false,
               false,
               false,
               false,
               false,
               false,
               false,
               false,
               false,
               false,
               false,
               false,
               false,
               false,
               false,
               false,
               false,
               false,
               false
              ]
             },
             {
              "title": "Empath Topic Proportions for Year: 1976"
             }
            ],
            "label": "1976",
            "method": "update"
           },
           {
            "args": [
             {
              "visible": [
               false,
               false,
               false,
               false,
               false,
               false,
               false,
               false,
               false,
               false,
               false,
               false,
               false,
               false,
               false,
               false,
               false,
               false,
               false,
               false,
               false,
               false,
               false,
               false,
               false,
               false,
               false,
               false,
               false,
               false,
               false,
               false,
               true,
               false,
               false,
               false,
               false,
               false,
               false,
               false,
               false,
               false,
               false,
               false,
               false,
               false,
               false,
               false,
               false,
               false,
               false
              ]
             },
             {
              "title": "Empath Topic Proportions for Year: 1977"
             }
            ],
            "label": "1977",
            "method": "update"
           },
           {
            "args": [
             {
              "visible": [
               false,
               false,
               false,
               false,
               false,
               false,
               false,
               false,
               false,
               false,
               false,
               false,
               false,
               false,
               false,
               false,
               false,
               false,
               false,
               false,
               false,
               false,
               false,
               false,
               false,
               false,
               false,
               false,
               false,
               false,
               false,
               false,
               false,
               true,
               false,
               false,
               false,
               false,
               false,
               false,
               false,
               false,
               false,
               false,
               false,
               false,
               false,
               false,
               false,
               false,
               false
              ]
             },
             {
              "title": "Empath Topic Proportions for Year: 1978"
             }
            ],
            "label": "1978",
            "method": "update"
           },
           {
            "args": [
             {
              "visible": [
               false,
               false,
               false,
               false,
               false,
               false,
               false,
               false,
               false,
               false,
               false,
               false,
               false,
               false,
               false,
               false,
               false,
               false,
               false,
               false,
               false,
               false,
               false,
               false,
               false,
               false,
               false,
               false,
               false,
               false,
               false,
               false,
               false,
               false,
               true,
               false,
               false,
               false,
               false,
               false,
               false,
               false,
               false,
               false,
               false,
               false,
               false,
               false,
               false,
               false,
               false
              ]
             },
             {
              "title": "Empath Topic Proportions for Year: 1979"
             }
            ],
            "label": "1979",
            "method": "update"
           },
           {
            "args": [
             {
              "visible": [
               false,
               false,
               false,
               false,
               false,
               false,
               false,
               false,
               false,
               false,
               false,
               false,
               false,
               false,
               false,
               false,
               false,
               false,
               false,
               false,
               false,
               false,
               false,
               false,
               false,
               false,
               false,
               false,
               false,
               false,
               false,
               false,
               false,
               false,
               false,
               true,
               false,
               false,
               false,
               false,
               false,
               false,
               false,
               false,
               false,
               false,
               false,
               false,
               false,
               false,
               false
              ]
             },
             {
              "title": "Empath Topic Proportions for Year: 1980"
             }
            ],
            "label": "1980",
            "method": "update"
           },
           {
            "args": [
             {
              "visible": [
               false,
               false,
               false,
               false,
               false,
               false,
               false,
               false,
               false,
               false,
               false,
               false,
               false,
               false,
               false,
               false,
               false,
               false,
               false,
               false,
               false,
               false,
               false,
               false,
               false,
               false,
               false,
               false,
               false,
               false,
               false,
               false,
               false,
               false,
               false,
               false,
               true,
               false,
               false,
               false,
               false,
               false,
               false,
               false,
               false,
               false,
               false,
               false,
               false,
               false,
               false
              ]
             },
             {
              "title": "Empath Topic Proportions for Year: 1981"
             }
            ],
            "label": "1981",
            "method": "update"
           },
           {
            "args": [
             {
              "visible": [
               false,
               false,
               false,
               false,
               false,
               false,
               false,
               false,
               false,
               false,
               false,
               false,
               false,
               false,
               false,
               false,
               false,
               false,
               false,
               false,
               false,
               false,
               false,
               false,
               false,
               false,
               false,
               false,
               false,
               false,
               false,
               false,
               false,
               false,
               false,
               false,
               false,
               true,
               false,
               false,
               false,
               false,
               false,
               false,
               false,
               false,
               false,
               false,
               false,
               false,
               false
              ]
             },
             {
              "title": "Empath Topic Proportions for Year: 1982"
             }
            ],
            "label": "1982",
            "method": "update"
           },
           {
            "args": [
             {
              "visible": [
               false,
               false,
               false,
               false,
               false,
               false,
               false,
               false,
               false,
               false,
               false,
               false,
               false,
               false,
               false,
               false,
               false,
               false,
               false,
               false,
               false,
               false,
               false,
               false,
               false,
               false,
               false,
               false,
               false,
               false,
               false,
               false,
               false,
               false,
               false,
               false,
               false,
               false,
               true,
               false,
               false,
               false,
               false,
               false,
               false,
               false,
               false,
               false,
               false,
               false,
               false
              ]
             },
             {
              "title": "Empath Topic Proportions for Year: 1983"
             }
            ],
            "label": "1983",
            "method": "update"
           },
           {
            "args": [
             {
              "visible": [
               false,
               false,
               false,
               false,
               false,
               false,
               false,
               false,
               false,
               false,
               false,
               false,
               false,
               false,
               false,
               false,
               false,
               false,
               false,
               false,
               false,
               false,
               false,
               false,
               false,
               false,
               false,
               false,
               false,
               false,
               false,
               false,
               false,
               false,
               false,
               false,
               false,
               false,
               false,
               true,
               false,
               false,
               false,
               false,
               false,
               false,
               false,
               false,
               false,
               false,
               false
              ]
             },
             {
              "title": "Empath Topic Proportions for Year: 1984"
             }
            ],
            "label": "1984",
            "method": "update"
           },
           {
            "args": [
             {
              "visible": [
               false,
               false,
               false,
               false,
               false,
               false,
               false,
               false,
               false,
               false,
               false,
               false,
               false,
               false,
               false,
               false,
               false,
               false,
               false,
               false,
               false,
               false,
               false,
               false,
               false,
               false,
               false,
               false,
               false,
               false,
               false,
               false,
               false,
               false,
               false,
               false,
               false,
               false,
               false,
               false,
               true,
               false,
               false,
               false,
               false,
               false,
               false,
               false,
               false,
               false,
               false
              ]
             },
             {
              "title": "Empath Topic Proportions for Year: 1985"
             }
            ],
            "label": "1985",
            "method": "update"
           },
           {
            "args": [
             {
              "visible": [
               false,
               false,
               false,
               false,
               false,
               false,
               false,
               false,
               false,
               false,
               false,
               false,
               false,
               false,
               false,
               false,
               false,
               false,
               false,
               false,
               false,
               false,
               false,
               false,
               false,
               false,
               false,
               false,
               false,
               false,
               false,
               false,
               false,
               false,
               false,
               false,
               false,
               false,
               false,
               false,
               false,
               true,
               false,
               false,
               false,
               false,
               false,
               false,
               false,
               false,
               false
              ]
             },
             {
              "title": "Empath Topic Proportions for Year: 1986"
             }
            ],
            "label": "1986",
            "method": "update"
           },
           {
            "args": [
             {
              "visible": [
               false,
               false,
               false,
               false,
               false,
               false,
               false,
               false,
               false,
               false,
               false,
               false,
               false,
               false,
               false,
               false,
               false,
               false,
               false,
               false,
               false,
               false,
               false,
               false,
               false,
               false,
               false,
               false,
               false,
               false,
               false,
               false,
               false,
               false,
               false,
               false,
               false,
               false,
               false,
               false,
               false,
               false,
               true,
               false,
               false,
               false,
               false,
               false,
               false,
               false,
               false
              ]
             },
             {
              "title": "Empath Topic Proportions for Year: 1987"
             }
            ],
            "label": "1987",
            "method": "update"
           },
           {
            "args": [
             {
              "visible": [
               false,
               false,
               false,
               false,
               false,
               false,
               false,
               false,
               false,
               false,
               false,
               false,
               false,
               false,
               false,
               false,
               false,
               false,
               false,
               false,
               false,
               false,
               false,
               false,
               false,
               false,
               false,
               false,
               false,
               false,
               false,
               false,
               false,
               false,
               false,
               false,
               false,
               false,
               false,
               false,
               false,
               false,
               false,
               true,
               false,
               false,
               false,
               false,
               false,
               false,
               false
              ]
             },
             {
              "title": "Empath Topic Proportions for Year: 1988"
             }
            ],
            "label": "1988",
            "method": "update"
           },
           {
            "args": [
             {
              "visible": [
               false,
               false,
               false,
               false,
               false,
               false,
               false,
               false,
               false,
               false,
               false,
               false,
               false,
               false,
               false,
               false,
               false,
               false,
               false,
               false,
               false,
               false,
               false,
               false,
               false,
               false,
               false,
               false,
               false,
               false,
               false,
               false,
               false,
               false,
               false,
               false,
               false,
               false,
               false,
               false,
               false,
               false,
               false,
               false,
               true,
               false,
               false,
               false,
               false,
               false,
               false
              ]
             },
             {
              "title": "Empath Topic Proportions for Year: 1989"
             }
            ],
            "label": "1989",
            "method": "update"
           },
           {
            "args": [
             {
              "visible": [
               false,
               false,
               false,
               false,
               false,
               false,
               false,
               false,
               false,
               false,
               false,
               false,
               false,
               false,
               false,
               false,
               false,
               false,
               false,
               false,
               false,
               false,
               false,
               false,
               false,
               false,
               false,
               false,
               false,
               false,
               false,
               false,
               false,
               false,
               false,
               false,
               false,
               false,
               false,
               false,
               false,
               false,
               false,
               false,
               false,
               true,
               false,
               false,
               false,
               false,
               false
              ]
             },
             {
              "title": "Empath Topic Proportions for Year: 1990"
             }
            ],
            "label": "1990",
            "method": "update"
           },
           {
            "args": [
             {
              "visible": [
               false,
               false,
               false,
               false,
               false,
               false,
               false,
               false,
               false,
               false,
               false,
               false,
               false,
               false,
               false,
               false,
               false,
               false,
               false,
               false,
               false,
               false,
               false,
               false,
               false,
               false,
               false,
               false,
               false,
               false,
               false,
               false,
               false,
               false,
               false,
               false,
               false,
               false,
               false,
               false,
               false,
               false,
               false,
               false,
               false,
               false,
               true,
               false,
               false,
               false,
               false
              ]
             },
             {
              "title": "Empath Topic Proportions for Year: 1991"
             }
            ],
            "label": "1991",
            "method": "update"
           },
           {
            "args": [
             {
              "visible": [
               false,
               false,
               false,
               false,
               false,
               false,
               false,
               false,
               false,
               false,
               false,
               false,
               false,
               false,
               false,
               false,
               false,
               false,
               false,
               false,
               false,
               false,
               false,
               false,
               false,
               false,
               false,
               false,
               false,
               false,
               false,
               false,
               false,
               false,
               false,
               false,
               false,
               false,
               false,
               false,
               false,
               false,
               false,
               false,
               false,
               false,
               false,
               true,
               false,
               false,
               false
              ]
             },
             {
              "title": "Empath Topic Proportions for Year: 1992"
             }
            ],
            "label": "1992",
            "method": "update"
           },
           {
            "args": [
             {
              "visible": [
               false,
               false,
               false,
               false,
               false,
               false,
               false,
               false,
               false,
               false,
               false,
               false,
               false,
               false,
               false,
               false,
               false,
               false,
               false,
               false,
               false,
               false,
               false,
               false,
               false,
               false,
               false,
               false,
               false,
               false,
               false,
               false,
               false,
               false,
               false,
               false,
               false,
               false,
               false,
               false,
               false,
               false,
               false,
               false,
               false,
               false,
               false,
               false,
               true,
               false,
               false
              ]
             },
             {
              "title": "Empath Topic Proportions for Year: 1993"
             }
            ],
            "label": "1993",
            "method": "update"
           },
           {
            "args": [
             {
              "visible": [
               false,
               false,
               false,
               false,
               false,
               false,
               false,
               false,
               false,
               false,
               false,
               false,
               false,
               false,
               false,
               false,
               false,
               false,
               false,
               false,
               false,
               false,
               false,
               false,
               false,
               false,
               false,
               false,
               false,
               false,
               false,
               false,
               false,
               false,
               false,
               false,
               false,
               false,
               false,
               false,
               false,
               false,
               false,
               false,
               false,
               false,
               false,
               false,
               false,
               true,
               false
              ]
             },
             {
              "title": "Empath Topic Proportions for Year: 1994"
             }
            ],
            "label": "1994",
            "method": "update"
           },
           {
            "args": [
             {
              "visible": [
               false,
               false,
               false,
               false,
               false,
               false,
               false,
               false,
               false,
               false,
               false,
               false,
               false,
               false,
               false,
               false,
               false,
               false,
               false,
               false,
               false,
               false,
               false,
               false,
               false,
               false,
               false,
               false,
               false,
               false,
               false,
               false,
               false,
               false,
               false,
               false,
               false,
               false,
               false,
               false,
               false,
               false,
               false,
               false,
               false,
               false,
               false,
               false,
               false,
               false,
               true
              ]
             },
             {
              "title": "Empath Topic Proportions for Year: 1995"
             }
            ],
            "label": "1995",
            "method": "update"
           }
          ]
         }
        ],
        "template": {
         "data": {
          "bar": [
           {
            "error_x": {
             "color": "#2a3f5f"
            },
            "error_y": {
             "color": "#2a3f5f"
            },
            "marker": {
             "line": {
              "color": "#E5ECF6",
              "width": 0.5
             },
             "pattern": {
              "fillmode": "overlay",
              "size": 10,
              "solidity": 0.2
             }
            },
            "type": "bar"
           }
          ],
          "barpolar": [
           {
            "marker": {
             "line": {
              "color": "#E5ECF6",
              "width": 0.5
             },
             "pattern": {
              "fillmode": "overlay",
              "size": 10,
              "solidity": 0.2
             }
            },
            "type": "barpolar"
           }
          ],
          "carpet": [
           {
            "aaxis": {
             "endlinecolor": "#2a3f5f",
             "gridcolor": "white",
             "linecolor": "white",
             "minorgridcolor": "white",
             "startlinecolor": "#2a3f5f"
            },
            "baxis": {
             "endlinecolor": "#2a3f5f",
             "gridcolor": "white",
             "linecolor": "white",
             "minorgridcolor": "white",
             "startlinecolor": "#2a3f5f"
            },
            "type": "carpet"
           }
          ],
          "choropleth": [
           {
            "colorbar": {
             "outlinewidth": 0,
             "ticks": ""
            },
            "type": "choropleth"
           }
          ],
          "contour": [
           {
            "colorbar": {
             "outlinewidth": 0,
             "ticks": ""
            },
            "colorscale": [
             [
              0,
              "#0d0887"
             ],
             [
              0.1111111111111111,
              "#46039f"
             ],
             [
              0.2222222222222222,
              "#7201a8"
             ],
             [
              0.3333333333333333,
              "#9c179e"
             ],
             [
              0.4444444444444444,
              "#bd3786"
             ],
             [
              0.5555555555555556,
              "#d8576b"
             ],
             [
              0.6666666666666666,
              "#ed7953"
             ],
             [
              0.7777777777777778,
              "#fb9f3a"
             ],
             [
              0.8888888888888888,
              "#fdca26"
             ],
             [
              1,
              "#f0f921"
             ]
            ],
            "type": "contour"
           }
          ],
          "contourcarpet": [
           {
            "colorbar": {
             "outlinewidth": 0,
             "ticks": ""
            },
            "type": "contourcarpet"
           }
          ],
          "heatmap": [
           {
            "colorbar": {
             "outlinewidth": 0,
             "ticks": ""
            },
            "colorscale": [
             [
              0,
              "#0d0887"
             ],
             [
              0.1111111111111111,
              "#46039f"
             ],
             [
              0.2222222222222222,
              "#7201a8"
             ],
             [
              0.3333333333333333,
              "#9c179e"
             ],
             [
              0.4444444444444444,
              "#bd3786"
             ],
             [
              0.5555555555555556,
              "#d8576b"
             ],
             [
              0.6666666666666666,
              "#ed7953"
             ],
             [
              0.7777777777777778,
              "#fb9f3a"
             ],
             [
              0.8888888888888888,
              "#fdca26"
             ],
             [
              1,
              "#f0f921"
             ]
            ],
            "type": "heatmap"
           }
          ],
          "heatmapgl": [
           {
            "colorbar": {
             "outlinewidth": 0,
             "ticks": ""
            },
            "colorscale": [
             [
              0,
              "#0d0887"
             ],
             [
              0.1111111111111111,
              "#46039f"
             ],
             [
              0.2222222222222222,
              "#7201a8"
             ],
             [
              0.3333333333333333,
              "#9c179e"
             ],
             [
              0.4444444444444444,
              "#bd3786"
             ],
             [
              0.5555555555555556,
              "#d8576b"
             ],
             [
              0.6666666666666666,
              "#ed7953"
             ],
             [
              0.7777777777777778,
              "#fb9f3a"
             ],
             [
              0.8888888888888888,
              "#fdca26"
             ],
             [
              1,
              "#f0f921"
             ]
            ],
            "type": "heatmapgl"
           }
          ],
          "histogram": [
           {
            "marker": {
             "pattern": {
              "fillmode": "overlay",
              "size": 10,
              "solidity": 0.2
             }
            },
            "type": "histogram"
           }
          ],
          "histogram2d": [
           {
            "colorbar": {
             "outlinewidth": 0,
             "ticks": ""
            },
            "colorscale": [
             [
              0,
              "#0d0887"
             ],
             [
              0.1111111111111111,
              "#46039f"
             ],
             [
              0.2222222222222222,
              "#7201a8"
             ],
             [
              0.3333333333333333,
              "#9c179e"
             ],
             [
              0.4444444444444444,
              "#bd3786"
             ],
             [
              0.5555555555555556,
              "#d8576b"
             ],
             [
              0.6666666666666666,
              "#ed7953"
             ],
             [
              0.7777777777777778,
              "#fb9f3a"
             ],
             [
              0.8888888888888888,
              "#fdca26"
             ],
             [
              1,
              "#f0f921"
             ]
            ],
            "type": "histogram2d"
           }
          ],
          "histogram2dcontour": [
           {
            "colorbar": {
             "outlinewidth": 0,
             "ticks": ""
            },
            "colorscale": [
             [
              0,
              "#0d0887"
             ],
             [
              0.1111111111111111,
              "#46039f"
             ],
             [
              0.2222222222222222,
              "#7201a8"
             ],
             [
              0.3333333333333333,
              "#9c179e"
             ],
             [
              0.4444444444444444,
              "#bd3786"
             ],
             [
              0.5555555555555556,
              "#d8576b"
             ],
             [
              0.6666666666666666,
              "#ed7953"
             ],
             [
              0.7777777777777778,
              "#fb9f3a"
             ],
             [
              0.8888888888888888,
              "#fdca26"
             ],
             [
              1,
              "#f0f921"
             ]
            ],
            "type": "histogram2dcontour"
           }
          ],
          "mesh3d": [
           {
            "colorbar": {
             "outlinewidth": 0,
             "ticks": ""
            },
            "type": "mesh3d"
           }
          ],
          "parcoords": [
           {
            "line": {
             "colorbar": {
              "outlinewidth": 0,
              "ticks": ""
             }
            },
            "type": "parcoords"
           }
          ],
          "pie": [
           {
            "automargin": true,
            "type": "pie"
           }
          ],
          "scatter": [
           {
            "fillpattern": {
             "fillmode": "overlay",
             "size": 10,
             "solidity": 0.2
            },
            "type": "scatter"
           }
          ],
          "scatter3d": [
           {
            "line": {
             "colorbar": {
              "outlinewidth": 0,
              "ticks": ""
             }
            },
            "marker": {
             "colorbar": {
              "outlinewidth": 0,
              "ticks": ""
             }
            },
            "type": "scatter3d"
           }
          ],
          "scattercarpet": [
           {
            "marker": {
             "colorbar": {
              "outlinewidth": 0,
              "ticks": ""
             }
            },
            "type": "scattercarpet"
           }
          ],
          "scattergeo": [
           {
            "marker": {
             "colorbar": {
              "outlinewidth": 0,
              "ticks": ""
             }
            },
            "type": "scattergeo"
           }
          ],
          "scattergl": [
           {
            "marker": {
             "colorbar": {
              "outlinewidth": 0,
              "ticks": ""
             }
            },
            "type": "scattergl"
           }
          ],
          "scattermapbox": [
           {
            "marker": {
             "colorbar": {
              "outlinewidth": 0,
              "ticks": ""
             }
            },
            "type": "scattermapbox"
           }
          ],
          "scatterpolar": [
           {
            "marker": {
             "colorbar": {
              "outlinewidth": 0,
              "ticks": ""
             }
            },
            "type": "scatterpolar"
           }
          ],
          "scatterpolargl": [
           {
            "marker": {
             "colorbar": {
              "outlinewidth": 0,
              "ticks": ""
             }
            },
            "type": "scatterpolargl"
           }
          ],
          "scatterternary": [
           {
            "marker": {
             "colorbar": {
              "outlinewidth": 0,
              "ticks": ""
             }
            },
            "type": "scatterternary"
           }
          ],
          "surface": [
           {
            "colorbar": {
             "outlinewidth": 0,
             "ticks": ""
            },
            "colorscale": [
             [
              0,
              "#0d0887"
             ],
             [
              0.1111111111111111,
              "#46039f"
             ],
             [
              0.2222222222222222,
              "#7201a8"
             ],
             [
              0.3333333333333333,
              "#9c179e"
             ],
             [
              0.4444444444444444,
              "#bd3786"
             ],
             [
              0.5555555555555556,
              "#d8576b"
             ],
             [
              0.6666666666666666,
              "#ed7953"
             ],
             [
              0.7777777777777778,
              "#fb9f3a"
             ],
             [
              0.8888888888888888,
              "#fdca26"
             ],
             [
              1,
              "#f0f921"
             ]
            ],
            "type": "surface"
           }
          ],
          "table": [
           {
            "cells": {
             "fill": {
              "color": "#EBF0F8"
             },
             "line": {
              "color": "white"
             }
            },
            "header": {
             "fill": {
              "color": "#C8D4E3"
             },
             "line": {
              "color": "white"
             }
            },
            "type": "table"
           }
          ]
         },
         "layout": {
          "annotationdefaults": {
           "arrowcolor": "#2a3f5f",
           "arrowhead": 0,
           "arrowwidth": 1
          },
          "autotypenumbers": "strict",
          "coloraxis": {
           "colorbar": {
            "outlinewidth": 0,
            "ticks": ""
           }
          },
          "colorscale": {
           "diverging": [
            [
             0,
             "#8e0152"
            ],
            [
             0.1,
             "#c51b7d"
            ],
            [
             0.2,
             "#de77ae"
            ],
            [
             0.3,
             "#f1b6da"
            ],
            [
             0.4,
             "#fde0ef"
            ],
            [
             0.5,
             "#f7f7f7"
            ],
            [
             0.6,
             "#e6f5d0"
            ],
            [
             0.7,
             "#b8e186"
            ],
            [
             0.8,
             "#7fbc41"
            ],
            [
             0.9,
             "#4d9221"
            ],
            [
             1,
             "#276419"
            ]
           ],
           "sequential": [
            [
             0,
             "#0d0887"
            ],
            [
             0.1111111111111111,
             "#46039f"
            ],
            [
             0.2222222222222222,
             "#7201a8"
            ],
            [
             0.3333333333333333,
             "#9c179e"
            ],
            [
             0.4444444444444444,
             "#bd3786"
            ],
            [
             0.5555555555555556,
             "#d8576b"
            ],
            [
             0.6666666666666666,
             "#ed7953"
            ],
            [
             0.7777777777777778,
             "#fb9f3a"
            ],
            [
             0.8888888888888888,
             "#fdca26"
            ],
            [
             1,
             "#f0f921"
            ]
           ],
           "sequentialminus": [
            [
             0,
             "#0d0887"
            ],
            [
             0.1111111111111111,
             "#46039f"
            ],
            [
             0.2222222222222222,
             "#7201a8"
            ],
            [
             0.3333333333333333,
             "#9c179e"
            ],
            [
             0.4444444444444444,
             "#bd3786"
            ],
            [
             0.5555555555555556,
             "#d8576b"
            ],
            [
             0.6666666666666666,
             "#ed7953"
            ],
            [
             0.7777777777777778,
             "#fb9f3a"
            ],
            [
             0.8888888888888888,
             "#fdca26"
            ],
            [
             1,
             "#f0f921"
            ]
           ]
          },
          "colorway": [
           "#636efa",
           "#EF553B",
           "#00cc96",
           "#ab63fa",
           "#FFA15A",
           "#19d3f3",
           "#FF6692",
           "#B6E880",
           "#FF97FF",
           "#FECB52"
          ],
          "font": {
           "color": "#2a3f5f"
          },
          "geo": {
           "bgcolor": "white",
           "lakecolor": "white",
           "landcolor": "#E5ECF6",
           "showlakes": true,
           "showland": true,
           "subunitcolor": "white"
          },
          "hoverlabel": {
           "align": "left"
          },
          "hovermode": "closest",
          "mapbox": {
           "style": "light"
          },
          "paper_bgcolor": "white",
          "plot_bgcolor": "#E5ECF6",
          "polar": {
           "angularaxis": {
            "gridcolor": "white",
            "linecolor": "white",
            "ticks": ""
           },
           "bgcolor": "#E5ECF6",
           "radialaxis": {
            "gridcolor": "white",
            "linecolor": "white",
            "ticks": ""
           }
          },
          "scene": {
           "xaxis": {
            "backgroundcolor": "#E5ECF6",
            "gridcolor": "white",
            "gridwidth": 2,
            "linecolor": "white",
            "showbackground": true,
            "ticks": "",
            "zerolinecolor": "white"
           },
           "yaxis": {
            "backgroundcolor": "#E5ECF6",
            "gridcolor": "white",
            "gridwidth": 2,
            "linecolor": "white",
            "showbackground": true,
            "ticks": "",
            "zerolinecolor": "white"
           },
           "zaxis": {
            "backgroundcolor": "#E5ECF6",
            "gridcolor": "white",
            "gridwidth": 2,
            "linecolor": "white",
            "showbackground": true,
            "ticks": "",
            "zerolinecolor": "white"
           }
          },
          "shapedefaults": {
           "line": {
            "color": "#2a3f5f"
           }
          },
          "ternary": {
           "aaxis": {
            "gridcolor": "white",
            "linecolor": "white",
            "ticks": ""
           },
           "baxis": {
            "gridcolor": "white",
            "linecolor": "white",
            "ticks": ""
           },
           "bgcolor": "#E5ECF6",
           "caxis": {
            "gridcolor": "white",
            "linecolor": "white",
            "ticks": ""
           }
          },
          "title": {
           "x": 0.05
          },
          "xaxis": {
           "automargin": true,
           "gridcolor": "white",
           "linecolor": "white",
           "ticks": "",
           "title": {
            "standoff": 15
           },
           "zerolinecolor": "white",
           "zerolinewidth": 2
          },
          "yaxis": {
           "automargin": true,
           "gridcolor": "white",
           "linecolor": "white",
           "ticks": "",
           "title": {
            "standoff": 15
           },
           "zerolinecolor": "white",
           "zerolinewidth": 2
          }
         }
        },
        "title": {
         "font": {
          "family": "Arial",
          "size": 20,
          "weight": "bold"
         },
         "text": "Characters' Empath Features Distribution by Year",
         "x": 0.5,
         "xanchor": "center"
        },
        "xaxis": {
         "title": {
          "text": "Empath Topics"
         }
        },
        "yaxis": {
         "range": [
          0,
          0.22135839807072674
         ],
         "title": {
          "text": "Proportion"
         }
        }
       }
      }
     },
     "metadata": {},
     "output_type": "display_data"
    }
   ],
   "source": [
    "fig = go.Figure()\n",
    "\n",
    "unique_years = sorted(melted_empath_df['year'].unique())\n",
    "max_y = melted_empath_df['proportion'].max()\n",
    "\n",
    "for year in unique_years:\n",
    "    year_data = melted_empath_df[melted_empath_df['year'] == year]\n",
    "    grouped_data = year_data.groupby('topic', as_index=False).agg({'proportion': 'sum'})\n",
    "    \n",
    "    fig.add_trace(go.Bar(\n",
    "        x=grouped_data['topic'],\n",
    "        y=grouped_data['proportion'],\n",
    "        name=f\"Year {year}\",\n",
    "        visible=(year == unique_years[0]),  # Only show the first year's data initially\n",
    "        marker=dict(color=[topic_colors[topic] for topic in grouped_data['topic']])\n",
    "    ))\n",
    "\n",
    "# Define steps for the slider\n",
    "steps = []\n",
    "for i, year in enumerate(unique_years):\n",
    "    step = dict(\n",
    "        method=\"update\",\n",
    "        args=[\n",
    "            {\"visible\": [j == i for j in range(len(unique_years))]},  # Toggle visibility for the selected year\n",
    "            {\"title\": f\"Empath Topic Proportions for Year: {year}\"}\n",
    "        ],\n",
    "        label=str(year)\n",
    "    )\n",
    "    steps.append(step)\n",
    "\n",
    "# Add the slider to the layout\n",
    "fig.update_layout(\n",
    "    sliders=[{\n",
    "        \"active\": 0,\n",
    "        \"currentvalue\": {\"prefix\": \"Year: \"},\n",
    "        \"pad\": {\"t\": 50},\n",
    "        \"steps\": steps\n",
    "    }],\n",
    "    title={\n",
    "        \"text\": \"Characters' Empath Features Distribution by Year\",\n",
    "        \"x\": 0.5,\n",
    "        \"xanchor\": \"center\",\n",
    "        \"font\": {\"size\": 20, \"family\": \"Arial\", \"weight\": \"bold\"}\n",
    "    },\n",
    "    xaxis_title=\"Empath Topics\",\n",
    "    yaxis_title=\"Proportion\",\n",
    "    yaxis=dict(range=[0, max_y]),  # Set the fixed y-axis range\n",
    "    legend_title=\"Year\",\n",
    "    barmode=\"group\"  # This ensures bars are grouped by topics\n",
    ")\n",
    "\n",
    "fig.show()\n"
   ]
  },
  {
   "cell_type": "code",
   "execution_count": null,
   "metadata": {},
   "outputs": [],
   "source": []
  }
 ],
 "metadata": {
  "kernelspec": {
   "display_name": "ada",
   "language": "python",
   "name": "python3"
  },
  "language_info": {
   "codemirror_mode": {
    "name": "ipython",
    "version": 3
   },
   "file_extension": ".py",
   "mimetype": "text/x-python",
   "name": "python",
   "nbconvert_exporter": "python",
   "pygments_lexer": "ipython3",
   "version": "3.11.10"
  }
 },
 "nbformat": 4,
 "nbformat_minor": 2
}
