{
 "cells": [
  {
   "cell_type": "code",
   "execution_count": null,
   "metadata": {},
   "outputs": [
    {
     "name": "stderr",
     "output_type": "stream",
     "text": [
      "[nltk_data] Downloading package stopwords to\n",
      "[nltk_data]     /Users/matteo/nltk_data...\n",
      "[nltk_data]   Package stopwords is already up-to-date!\n"
     ]
    }
   ],
   "source": [
    "import pandas as pd\n",
    "import numpy as np\n",
    "import ast\n",
    "\n",
    "import matplotlib.pyplot as plt\n",
    "import seaborn as sns\n",
    "import plotly.graph_objects as go\n",
    "import plotly.express as px\n",
    "\n",
    "import nltk\n",
    "from nltk.corpus import stopwords\n",
    "nltk.download('stopwords')\n",
    "\n",
    "import spacy\n",
    "from gensim import corpora\n",
    "from gensim.models.ldamodel import LdaModel\n",
    "\n",
    "import warnings\n",
    "\n",
    "from src.utils.constants import *\n",
    "from src.utils.helpers import *\n",
    "\n",
    "import pickle\n",
    "\n",
    "warnings.filterwarnings('ignore')"
   ]
  },
  {
   "cell_type": "code",
   "execution_count": 2,
   "metadata": {},
   "outputs": [
    {
     "data": {
      "text/html": [
       "<div>\n",
       "<style scoped>\n",
       "    .dataframe tbody tr th:only-of-type {\n",
       "        vertical-align: middle;\n",
       "    }\n",
       "\n",
       "    .dataframe tbody tr th {\n",
       "        vertical-align: top;\n",
       "    }\n",
       "\n",
       "    .dataframe thead th {\n",
       "        text-align: right;\n",
       "    }\n",
       "</style>\n",
       "<table border=\"1\" class=\"dataframe\">\n",
       "  <thead>\n",
       "    <tr style=\"text-align: right;\">\n",
       "      <th></th>\n",
       "      <th>title</th>\n",
       "      <th>languages</th>\n",
       "      <th>countries</th>\n",
       "      <th>genres</th>\n",
       "      <th>release_date</th>\n",
       "      <th>cold_war_side</th>\n",
       "      <th>character_western_bloc_representation</th>\n",
       "      <th>character_eastern_bloc_representation</th>\n",
       "      <th>western_bloc_values</th>\n",
       "      <th>eastern_bloc_values</th>\n",
       "      <th>theme</th>\n",
       "    </tr>\n",
       "  </thead>\n",
       "  <tbody>\n",
       "    <tr>\n",
       "      <th>0</th>\n",
       "      <td>$</td>\n",
       "      <td>NaN</td>\n",
       "      <td>[Russia]</td>\n",
       "      <td>[Comedy, Drama, Crime]</td>\n",
       "      <td>1971</td>\n",
       "      <td>Western</td>\n",
       "      <td>[Joe Collins, American bank security consultan...</td>\n",
       "      <td>[Dawn Divine, hooker with a heart of gold, cun...</td>\n",
       "      <td>[None]</td>\n",
       "      <td>[Resourcefulness, cleverness, individualism, h...</td>\n",
       "      <td>[None]</td>\n",
       "    </tr>\n",
       "    <tr>\n",
       "      <th>1</th>\n",
       "      <td>$1,000 on the Black</td>\n",
       "      <td>[Italian, German]</td>\n",
       "      <td>[Germany, Italy]</td>\n",
       "      <td>[Western]</td>\n",
       "      <td>1966</td>\n",
       "      <td>Eastern</td>\n",
       "      <td>[None]</td>\n",
       "      <td>[Sartana, villainous, oppressive, cruel, arche...</td>\n",
       "      <td>[Johnny Liston, justice, determination, resili...</td>\n",
       "      <td>[Justice, revenge, oppressed vs. oppressor, re...</td>\n",
       "      <td>[Terror, betrayal, familial conflict, crime, r...</td>\n",
       "    </tr>\n",
       "    <tr>\n",
       "      <th>2</th>\n",
       "      <td>$10,000 Blood Money</td>\n",
       "      <td>NaN</td>\n",
       "      <td>[Russia]</td>\n",
       "      <td>[Drama, Western]</td>\n",
       "      <td>1967</td>\n",
       "      <td>None</td>\n",
       "      <td>[None]</td>\n",
       "      <td>[None]</td>\n",
       "      <td>[None]</td>\n",
       "      <td>[None]</td>\n",
       "      <td>[crime, betrayal, revenge, bounty hunter, heis...</td>\n",
       "    </tr>\n",
       "    <tr>\n",
       "      <th>3</th>\n",
       "      <td>$100,000 for Ringo</td>\n",
       "      <td>[Italian]</td>\n",
       "      <td>[Italy]</td>\n",
       "      <td>[Drama, Western]</td>\n",
       "      <td>1965</td>\n",
       "      <td>None</td>\n",
       "      <td>[None]</td>\n",
       "      <td>[None]</td>\n",
       "      <td>[None]</td>\n",
       "      <td>[None]</td>\n",
       "      <td>[Western, Civil War, mistaken identity, treasu...</td>\n",
       "    </tr>\n",
       "    <tr>\n",
       "      <th>4</th>\n",
       "      <td>'Anna' i wampir</td>\n",
       "      <td>NaN</td>\n",
       "      <td>[Russia]</td>\n",
       "      <td>[Crime]</td>\n",
       "      <td>1982</td>\n",
       "      <td>None</td>\n",
       "      <td>[None]</td>\n",
       "      <td>[None]</td>\n",
       "      <td>[None]</td>\n",
       "      <td>[None]</td>\n",
       "      <td>[murder mystery, horror, fog, Poland, 1960s]</td>\n",
       "    </tr>\n",
       "  </tbody>\n",
       "</table>\n",
       "</div>"
      ],
      "text/plain": [
       "                 title          languages         countries  \\\n",
       "0                    $                NaN          [Russia]   \n",
       "1  $1,000 on the Black  [Italian, German]  [Germany, Italy]   \n",
       "2  $10,000 Blood Money                NaN          [Russia]   \n",
       "3   $100,000 for Ringo          [Italian]           [Italy]   \n",
       "4      'Anna' i wampir                NaN          [Russia]   \n",
       "\n",
       "                   genres  release_date cold_war_side  \\\n",
       "0  [Comedy, Drama, Crime]          1971       Western   \n",
       "1               [Western]          1966       Eastern   \n",
       "2        [Drama, Western]          1967          None   \n",
       "3        [Drama, Western]          1965          None   \n",
       "4                 [Crime]          1982          None   \n",
       "\n",
       "               character_western_bloc_representation  \\\n",
       "0  [Joe Collins, American bank security consultan...   \n",
       "1                                             [None]   \n",
       "2                                             [None]   \n",
       "3                                             [None]   \n",
       "4                                             [None]   \n",
       "\n",
       "               character_eastern_bloc_representation  \\\n",
       "0  [Dawn Divine, hooker with a heart of gold, cun...   \n",
       "1  [Sartana, villainous, oppressive, cruel, arche...   \n",
       "2                                             [None]   \n",
       "3                                             [None]   \n",
       "4                                             [None]   \n",
       "\n",
       "                                 western_bloc_values  \\\n",
       "0                                             [None]   \n",
       "1  [Johnny Liston, justice, determination, resili...   \n",
       "2                                             [None]   \n",
       "3                                             [None]   \n",
       "4                                             [None]   \n",
       "\n",
       "                                 eastern_bloc_values  \\\n",
       "0  [Resourcefulness, cleverness, individualism, h...   \n",
       "1  [Justice, revenge, oppressed vs. oppressor, re...   \n",
       "2                                             [None]   \n",
       "3                                             [None]   \n",
       "4                                             [None]   \n",
       "\n",
       "                                               theme  \n",
       "0                                             [None]  \n",
       "1  [Terror, betrayal, familial conflict, crime, r...  \n",
       "2  [crime, betrayal, revenge, bounty hunter, heis...  \n",
       "3  [Western, Civil War, mistaken identity, treasu...  \n",
       "4       [murder mystery, horror, fog, Poland, 1960s]  "
      ]
     },
     "execution_count": 2,
     "metadata": {},
     "output_type": "execute_result"
    }
   ],
   "source": [
    "movies = convert_csv(pd.read_csv(PREPROCESSED_MOVIES))\n",
    "movies.head()"
   ]
  },
  {
   "cell_type": "code",
   "execution_count": 3,
   "metadata": {},
   "outputs": [],
   "source": [
    "def create_theme(df):\n",
    "    new_df = df[[\"theme\", 'cold_war_side', 'title', 'release_date']]\n",
    "    # get only Western and Eastern movies\n",
    "    new_df = new_df[(new_df[\"cold_war_side\"] == \"Western\") | (new_df[\"cold_war_side\"] == \"Eastern\")]\n",
    "    new_df = new_df.rename(columns={'cold_war_side': 'movie_side'})\n",
    "    new_df = new_df.drop_duplicates(subset=[\"theme\"])\n",
    "    # be sure theme is a list\n",
    "    new_df[\"theme\"] = new_df[\"theme\"].apply(lambda x: x if isinstance(x, list) else [x])\n",
    "    # be sure all elements of the list are strings\n",
    "    new_df[\"theme\"] = new_df[\"theme\"].apply(lambda x: [str(i) for i in x])\n",
    "    # use lower case for theme for each element of the list\n",
    "    new_df[\"theme\"] = new_df[\"theme\"].apply(lambda x: [i.lower() for i in x])\n",
    "    return new_df\n",
    "\n",
    "theme_df = create_theme(movies)"
   ]
  },
  {
   "cell_type": "code",
   "execution_count": 4,
   "metadata": {},
   "outputs": [
    {
     "data": {
      "text/html": [
       "<div>\n",
       "<style scoped>\n",
       "    .dataframe tbody tr th:only-of-type {\n",
       "        vertical-align: middle;\n",
       "    }\n",
       "\n",
       "    .dataframe tbody tr th {\n",
       "        vertical-align: top;\n",
       "    }\n",
       "\n",
       "    .dataframe thead th {\n",
       "        text-align: right;\n",
       "    }\n",
       "</style>\n",
       "<table border=\"1\" class=\"dataframe\">\n",
       "  <thead>\n",
       "    <tr style=\"text-align: right;\">\n",
       "      <th></th>\n",
       "      <th>theme</th>\n",
       "      <th>movie_side</th>\n",
       "      <th>title</th>\n",
       "      <th>release_date</th>\n",
       "    </tr>\n",
       "  </thead>\n",
       "  <tbody>\n",
       "    <tr>\n",
       "      <th>954</th>\n",
       "      <td>[hussite wars, rebellion, national identity, h...</td>\n",
       "      <td>Eastern</td>\n",
       "      <td>Against All</td>\n",
       "      <td>1957</td>\n",
       "    </tr>\n",
       "    <tr>\n",
       "      <th>18697</th>\n",
       "      <td>[militarism, heroism, sacrifice, national prid...</td>\n",
       "      <td>Eastern</td>\n",
       "      <td>The Combat Unit of a Fighter Plane</td>\n",
       "      <td>1953</td>\n",
       "    </tr>\n",
       "    <tr>\n",
       "      <th>11275</th>\n",
       "      <td>[war, identity, struggle, survival, loyalty ]</td>\n",
       "      <td>Eastern</td>\n",
       "      <td>Mama, I'm Alive</td>\n",
       "      <td>1977</td>\n",
       "    </tr>\n",
       "    <tr>\n",
       "      <th>16594</th>\n",
       "      <td>[war, sacrifice, love, peace, stalingrad, sold...</td>\n",
       "      <td>Eastern</td>\n",
       "      <td>Soldaty</td>\n",
       "      <td>1957</td>\n",
       "    </tr>\n",
       "    <tr>\n",
       "      <th>3022</th>\n",
       "      <td>[comedy, friendship, post-war american life, a...</td>\n",
       "      <td>Western</td>\n",
       "      <td>Buck Privates Come Home</td>\n",
       "      <td>1947</td>\n",
       "    </tr>\n",
       "  </tbody>\n",
       "</table>\n",
       "</div>"
      ],
      "text/plain": [
       "                                                   theme movie_side  \\\n",
       "954    [hussite wars, rebellion, national identity, h...    Eastern   \n",
       "18697  [militarism, heroism, sacrifice, national prid...    Eastern   \n",
       "11275      [war, identity, struggle, survival, loyalty ]    Eastern   \n",
       "16594  [war, sacrifice, love, peace, stalingrad, sold...    Eastern   \n",
       "3022   [comedy, friendship, post-war american life, a...    Western   \n",
       "\n",
       "                                    title  release_date  \n",
       "954                           Against All          1957  \n",
       "18697  The Combat Unit of a Fighter Plane          1953  \n",
       "11275                     Mama, I'm Alive          1977  \n",
       "16594                             Soldaty          1957  \n",
       "3022              Buck Privates Come Home          1947  "
      ]
     },
     "execution_count": 4,
     "metadata": {},
     "output_type": "execute_result"
    }
   ],
   "source": [
    "theme_df.sample(5)"
   ]
  },
  {
   "cell_type": "code",
   "execution_count": 5,
   "metadata": {},
   "outputs": [],
   "source": [
    "# Preprocess the text\n",
    "def preprocess(string_list, nlp, words_to_remove):\n",
    "    docs = [nlp(s) for s in string_list]\n",
    "    tokens = []\n",
    "    for doc in docs:\n",
    "        tokens.extend([token.lemma_ for token in doc if not token.is_stop and not token.is_punct and token.lemma_ not in words_to_remove])\n",
    "    return tokens\n",
    "\n",
    "def topic_detection(df, nb_topics, nb_passes):\n",
    "    # Create a dictionary and corpus for Gensim\n",
    "    dictionary = corpora.Dictionary(df)\n",
    "    corpus = [dictionary.doc2bow(text) for text in df]\n",
    "    \n",
    "    # Train LDA model\n",
    "    lda_model = LdaModel(corpus, num_topics=nb_topics, id2word=dictionary, passes=nb_passes)\n",
    "    \n",
    "    # Print the topics\n",
    "    for idx, topic in lda_model.print_topics(-1):\n",
    "        print(f'Topic: {idx}\\nWords: {topic}\\n')\n",
    "    \n",
    "    return lda_model, corpus, dictionary\n",
    "\n",
    "# Assign topics to characters\n",
    "def get_dominant_topic(lda_model, corpus):\n",
    "    topics = []\n",
    "    for row in corpus:\n",
    "        row = lda_model[row]\n",
    "        max_topic, max_val = 0, 0\n",
    "        for (topic_num, prop_topic) in row:\n",
    "            if prop_topic > max_val:\n",
    "                max_val = prop_topic\n",
    "                max_topic = topic_num\n",
    "        topics.append(max_topic)\n",
    "    return topics"
   ]
  },
  {
   "cell_type": "code",
   "execution_count": 7,
   "metadata": {},
   "outputs": [],
   "source": [
    "nlp = spacy.load('en_core_web_sm')\n",
    "words_to_remove = {'theme', 'soviet', 'ii', 'vs', 'vs.', ' '}"
   ]
  },
  {
   "cell_type": "code",
   "execution_count": 8,
   "metadata": {},
   "outputs": [
    {
     "name": "stdout",
     "output_type": "stream",
     "text": [
      "Topic: 0\n",
      "Words: 0.057*\"struggle\" + 0.047*\"personal\" + 0.040*\"love\" + 0.030*\"sacrifice\" + 0.026*\"conflict\" + 0.024*\"oppression\" + 0.022*\"social\" + 0.019*\"family\" + 0.018*\"identity\" + 0.017*\"life\"\n",
      "\n",
      "Topic: 1\n",
      "Words: 0.078*\"war\" + 0.065*\"espionage\" + 0.044*\"cold\" + 0.043*\"loyalty\" + 0.035*\"betrayal\" + 0.030*\"tension\" + 0.027*\"military\" + 0.027*\"sacrifice\" + 0.023*\"conflict\" + 0.019*\"identity\"\n",
      "\n",
      "Topic: 2\n",
      "Words: 0.102*\"war\" + 0.054*\"heroism\" + 0.050*\"sacrifice\" + 0.035*\"survival\" + 0.026*\"resistance\" + 0.023*\"post\" + 0.023*\"conflict\" + 0.019*\"law\" + 0.015*\"resilience\" + 0.013*\"enforcement\"\n",
      "\n",
      "Topic: 3\n",
      "Words: 0.068*\"crime\" + 0.053*\"moral\" + 0.049*\"justice\" + 0.044*\"betrayal\" + 0.034*\"corruption\" + 0.028*\"morality\" + 0.021*\"dilemma\" + 0.018*\"revenge\" + 0.018*\"investigation\" + 0.017*\"redemption\"\n",
      "\n",
      "Topic: 4\n",
      "Words: 0.044*\"adventure\" + 0.031*\"friendship\" + 0.027*\"cultural\" + 0.021*\"exploration\" + 0.019*\"evil\" + 0.018*\"good\" + 0.015*\"age\" + 0.015*\"comedy\" + 0.015*\"science\" + 0.014*\"art\"\n",
      "\n"
     ]
    }
   ],
   "source": [
    "# theme_df['processed_repres'] = theme_df['theme'].apply(preprocess, args=(nlp, words_to_remove))\n",
    "# theme_topic = topic_detection(theme_df['processed_repres'], 5, 15)\n",
    "# pickle.dump(theme_topic, open(DATA_FOLDER + \"theme_topic3.pkl\", \"wb\",))\n"
   ]
  },
  {
   "cell_type": "code",
   "execution_count": 10,
   "metadata": {},
   "outputs": [
    {
     "name": "stdout",
     "output_type": "stream",
     "text": [
      "Topic: 0\n",
      "Words: 0.094*\"war\" + 0.045*\"espionage\" + 0.038*\"heroism\" + 0.034*\"sacrifice\" + 0.031*\"cold\" + 0.030*\"betrayal\" + 0.024*\"survival\" + 0.021*\"tension\" + 0.020*\"loyalty\" + 0.020*\"adventure\"\n",
      "\n",
      "Topic: 1\n",
      "Words: 0.051*\"justice\" + 0.043*\"crime\" + 0.041*\"moral\" + 0.029*\"betrayal\" + 0.028*\"morality\" + 0.026*\"oppression\" + 0.025*\"conflict\" + 0.024*\"corruption\" + 0.018*\"struggle\" + 0.017*\"redemption\"\n",
      "\n",
      "Topic: 2\n",
      "Words: 0.039*\"personal\" + 0.038*\"love\" + 0.038*\"sacrifice\" + 0.031*\"struggle\" + 0.027*\"identity\" + 0.023*\"war\" + 0.021*\"family\" + 0.018*\"cultural\" + 0.017*\"conflict\" + 0.016*\"life\"\n",
      "\n",
      "Topic: 3\n",
      "Words: 0.039*\"political\" + 0.026*\"revolution\" + 0.025*\"historical\" + 0.017*\"struggle\" + 0.016*\"mystery\" + 0.015*\"satire\" + 0.014*\"humor\" + 0.014*\"investigation\" + 0.012*\"comedy\" + 0.012*\"deception\"\n",
      "\n",
      "dominant_topic\n",
      "2    1877\n",
      "0    1635\n",
      "1    1475\n",
      "3     783\n",
      "Name: count, dtype: int64\n"
     ]
    }
   ],
   "source": [
    "theme_topic = pickle.load(open(\"src/analysis/themes/theme_topic.pkl\", \"rb\"))\n",
    "\n",
    "for idx, topic in theme_topic[0].print_topics(-1):\n",
    "        print(f'Topic: {idx}\\nWords: {topic}\\n')\n",
    "\n",
    "theme_df['dominant_topic'] = get_dominant_topic(theme_topic[0], theme_topic[1])\n",
    "\n",
    "print(theme_df['dominant_topic'].value_counts())"
   ]
  },
  {
   "cell_type": "code",
   "execution_count": 11,
   "metadata": {},
   "outputs": [
    {
     "name": "stdout",
     "output_type": "stream",
     "text": [
      "Eastern themes\n",
      "dominant_topic\n",
      "2    1214\n",
      "0     599\n",
      "1     559\n",
      "3     458\n",
      "Name: count, dtype: int64\n",
      "Western themes\n",
      "dominant_topic\n",
      "0    1036\n",
      "1     916\n",
      "2     663\n",
      "3     325\n",
      "Name: count, dtype: int64\n"
     ]
    }
   ],
   "source": [
    "eastern_theme = theme_df[theme_df[\"movie_side\"] == 'Eastern']\n",
    "western_theme = theme_df[theme_df[\"movie_side\"] == 'Western']\n",
    "\n",
    "# count dominant topic for each df above\n",
    "print(\"Eastern themes\")\n",
    "print(eastern_theme['dominant_topic'].value_counts())\n",
    "\n",
    "print(\"Western themes\")\n",
    "print(western_theme['dominant_topic'].value_counts())"
   ]
  },
  {
   "cell_type": "code",
   "execution_count": 12,
   "metadata": {},
   "outputs": [],
   "source": [
    "# plot topics\n",
    "import pyLDAvis\n",
    "from pyLDAvis import gensim_models"
   ]
  },
  {
   "cell_type": "code",
   "execution_count": 14,
   "metadata": {},
   "outputs": [
    {
     "data": {
      "text/html": [
       "\n",
       "<link rel=\"stylesheet\" type=\"text/css\" href=\"https://cdn.jsdelivr.net/gh/bmabey/pyLDAvis@3.4.0/pyLDAvis/js/ldavis.v1.0.0.css\">\n",
       "\n",
       "\n",
       "<div id=\"ldavis_el71579132345949605137105715\" style=\"background-color:white;\"></div>\n",
       "<script type=\"text/javascript\">\n",
       "\n",
       "var ldavis_el71579132345949605137105715_data = {\"mdsDat\": {\"x\": [-0.04607562235514753, -0.25811632086900804, 0.1061521634928281, 0.19803977973132741], \"y\": [0.006253242054794385, 0.04529621495536983, -0.24147603771714377, 0.18992658070697946], \"topics\": [1, 2, 3, 4], \"cluster\": [1, 1, 1, 1], \"Freq\": [31.07823695450252, 27.08577140913797, 25.250926419349835, 16.585065217009674]}, \"tinfo\": {\"Term\": [\"war\", \"justice\", \"espionage\", \"moral\", \"political\", \"cold\", \"personal\", \"crime\", \"morality\", \"betrayal\", \"sacrifice\", \"heroism\", \"love\", \"oppression\", \"revolution\", \"historical\", \"tension\", \"corruption\", \"cultural\", \"struggle\", \"action\", \"resilience\", \"dilemma\", \"family\", \"mystery\", \"military\", \"law\", \"survival\", \"satire\", \"deception\", \"resilience\", \"growth\", \"cultural\", \"evil\", \"good\", \"duty\", \"age\", \"self\", \"come\", \"nationalism\", \"dream\", \"education\", \"eastern\", \"journey\", \"hope\", \"competition\", \"sport\", \"overcome\", \"perseverance\", \"exchange\", \"hunt\", \"role\", \"aspiration\", \"gender\", \"adversity\", \"rural\", \"nostalgia\", \"pride\", \"expectation\", \"emotional\", \"clash\", \"romantic\", \"childhood\", \"personal\", \"love\", \"youth\", \"post\", \"life\", \"family\", \"relationship\", \"value\", \"identity\", \"sacrifice\", \"struggle\", \"community\", \"class\", \"loss\", \"social\", \"conflict\", \"war\", \"friendship\", \"societal\", \"romance\", \"adventure\", \"loyalty\", \"espionage\", \"cold\", \"tension\", \"action\", \"camaraderie\", \"science\", \"nuclear\", \"rescue\", \"warfare\", \"operation\", \"escape\", \"threat\", \"fiction\", \"technology\", \"martial\", \"alien\", \"intelligence\", \"terrorism\", \"space\", \"thriller\", \"undercover\", \"mission\", \"vietnam\", \"bravery\", \"international\", \"spy\", \"world\", \"invasion\", \"trust\", \"surveillance\", \"partisan\", \"war\", \"heroism\", \"military\", \"wwii\", \"survival\", \"resistance\", \"betrayal\", \"adventure\", \"loyalty\", \"sacrifice\", \"deception\", \"conflict\", \"identity\", \"teamwork\", \"friendship\", \"crime\", \"exploration\", \"comedy\", \"justice\", \"law\", \"enforcement\", \"violence\", \"greed\", \"morality\", \"urban\", \"versus\", \"oppression\", \"vengeance\", \"chaos\", \"western\", \"guilt\", \"frontier\", \"ethical\", \"decay\", \"vigilante\", \"experience\", \"legacy\", \"fate\", \"human\", \"existential\", \"spirit\", \"regime\", \"small\", \"system\", \"lawlessness\", \"legal\", \"ambiguity\", \"dilemma\", \"moral\", \"corruption\", \"crime\", \"power\", \"manipulation\", \"redemption\", \"revenge\", \"isolation\", \"tyranny\", \"betrayal\", \"consequence\", \"injustice\", \"conflict\", \"choice\", \"struggle\", \"authority\", \"control\", \"freedom\", \"survival\", \"social\", \"societal\", \"ambition\", \"personal\", \"family\", \"rebellion\", \"political\", \"historical\", \"mystery\", \"satire\", \"humor\", \"murder\", \"conspiracy\", \"state\", \"absurdity\", \"activism\", \"politic\", \"idealism\", \"journalism\", \"sabotage\", \"imperialism\", \"commentary\", \"border\", \"time\", \"context\", \"security\", \"travel\", \"industry\", \"event\", \"oil\", \"dedication\", \"revolutionary\", \"documentary\", \"creativity\", \"protest\", \"worker\", \"revolution\", \"russian\", \"bureaucracy\", \"government\", \"drama\", \"investigation\", \"right\", \"intrigue\", \"communism\", \"comedy\", \"critique\", \"deception\", \"culture\", \"anti\", \"struggle\", \"social\", \"adventure\", \"conflict\", \"friendship\", \"rebellion\", \"loyalty\", \"resistance\", \"class\"], \"Freq\": [1249.0, 494.0, 472.0, 411.0, 246.0, 318.0, 554.0, 527.0, 278.0, 594.0, 837.0, 481.0, 543.0, 254.0, 180.0, 158.0, 214.0, 260.0, 211.0, 662.0, 159.0, 171.0, 159.0, 327.0, 100.0, 263.0, 126.0, 384.0, 93.0, 190.0, 170.3131321610887, 113.12037522061756, 210.3911295075976, 113.18089087013345, 107.28627174710871, 107.8704984345997, 89.14807006881168, 79.57628227776897, 75.67505264276592, 66.26562337034741, 56.51655334249435, 52.70012991280628, 52.584522395411824, 52.72627830791877, 48.843349776599965, 50.116313545196945, 45.499330517997656, 40.96026028039229, 40.119502031349185, 38.17078941947302, 39.99530408680111, 37.73696452953254, 36.404139514521106, 37.08754154661369, 35.23812351380254, 73.5176963573114, 30.781907363785834, 29.906826226651276, 29.18568232755168, 49.81174990515717, 53.57277090278294, 51.25640020946833, 70.88032985116416, 469.4920329180562, 457.9563481448684, 120.99183519730225, 132.26466066369437, 189.8119044367403, 250.53035236461383, 119.08071194323573, 124.55791062016786, 320.86040684851577, 454.9305656690736, 374.35810440567036, 109.79375587498778, 100.74769778911441, 90.1782391951977, 134.35914988509901, 201.96980455203638, 271.6028642750184, 123.49826562527223, 92.20039469073762, 82.75411919623485, 89.37854196787524, 75.97127541615687, 471.7825234504034, 317.7041656637052, 213.82352309337676, 158.88477560612142, 92.73542255459272, 86.27525495882874, 87.47031989216094, 73.82123163541225, 66.44921887181417, 60.285002083450145, 71.30454051886187, 59.011839893075454, 58.08396250580764, 80.06345384718317, 55.413324382569556, 53.56961914769273, 50.806635053848524, 62.042214533652185, 52.66644500839769, 49.24206057101157, 43.76500104429685, 40.79950445058739, 39.16949608572041, 56.313579178922794, 36.4998584657753, 35.79659406777903, 106.02980097721382, 34.331378745297464, 31.277059692578856, 29.500409928402537, 37.76490062942444, 976.8402204198027, 392.6364682893327, 196.94473287333614, 72.44400743587029, 244.67078928803755, 182.00104168897792, 311.8198142964658, 202.77135471723636, 212.7784176536081, 357.5491368059585, 115.46933204566082, 185.60339487878147, 143.53591442155542, 70.62272894147354, 95.55760550994553, 97.05990712115634, 69.50586759886713, 70.3115530839632, 493.2685216005934, 125.28438268289563, 86.84343353343814, 84.65922079925272, 73.61043658842912, 274.9408813737616, 43.615642912284905, 40.54097311781382, 249.6600457777864, 35.804208281155596, 30.699667317257358, 69.56629827955052, 29.225611425209177, 28.064875262979303, 28.672360021077722, 26.81133049393174, 24.237251318629337, 25.000019380517195, 22.89297968167509, 22.702511836139973, 121.32758278378286, 21.830477264030947, 22.044297083389083, 20.88965969521988, 22.99771773387559, 19.703428990222882, 19.01520926039771, 19.00014594182746, 116.95321850180878, 153.2696224206726, 393.4188429559514, 233.6281148195172, 415.3416985106399, 126.73945509868402, 77.64278738866885, 166.5260456873229, 138.25741009009107, 64.68179081024475, 42.52649694013705, 278.74449773170943, 57.47147180745046, 35.74811172580401, 240.5250690332094, 51.80842102100273, 178.7762951469921, 65.90941747925758, 48.802736990010736, 68.22287826305987, 95.27284497689587, 79.81707806856421, 65.00161259471363, 60.02068726995877, 84.32816122940717, 73.96784682743377, 61.802750402266675, 245.71134568307667, 158.16801117992944, 99.61508333977044, 92.58253661718815, 88.35853375980247, 57.547601842173115, 55.93513813868278, 54.76545706997905, 46.736205488190755, 39.78273470349355, 36.85340610919159, 36.129834197755955, 35.67038343608702, 35.15248472736571, 32.633345358518845, 28.552078135260935, 27.370763116490725, 26.723665707654387, 36.138745371414096, 24.319036844015418, 32.58133441004052, 21.165064398328017, 15.868073069439575, 15.658817344070592, 14.973559631963536, 14.263916793534232, 15.322730550246, 14.876073878156665, 13.326630610360967, 18.3504697544718, 168.22983014823697, 23.665700725756505, 35.0030812505771, 36.1018487915416, 55.586752978157286, 87.20788253056133, 44.488959020032645, 61.40574049830762, 54.3647531688595, 79.3551704439182, 46.251950825349816, 74.91954274973432, 49.469458666617776, 50.23623097721912, 109.47375951169968, 73.06817317365011, 61.83941367028461, 66.96034642920873, 53.64128780084854, 44.666901336936, 46.48707736590733, 42.86134543346159, 38.807069211121075], \"Total\": [1249.0, 494.0, 472.0, 411.0, 246.0, 318.0, 554.0, 527.0, 278.0, 594.0, 837.0, 481.0, 543.0, 254.0, 180.0, 158.0, 214.0, 260.0, 211.0, 662.0, 159.0, 171.0, 159.0, 327.0, 100.0, 263.0, 126.0, 384.0, 93.0, 190.0, 171.07144233606522, 113.83583521517019, 211.73118422413128, 113.91329348832934, 108.01527941210266, 108.60884175793628, 89.86359589611833, 80.31464198548812, 76.38784972873029, 67.02289974598544, 57.27273791330634, 53.41322577809644, 53.313743707040004, 53.46939714189973, 49.56659017344284, 50.860654056387816, 46.214653449821576, 41.674754170377845, 40.84475792062908, 38.89070699137147, 40.75721579483508, 38.456348542217846, 37.11961227703158, 37.81653356262017, 35.95120575526862, 75.18932663529294, 31.496822337259246, 30.63075649881701, 29.906032084896612, 51.06146351196495, 55.030425615934135, 52.65677211200999, 74.07048673786083, 554.3219302376043, 543.5132812429061, 139.815390853178, 157.2642739194967, 238.53207477422256, 327.76344982220405, 141.7455179489874, 154.7559894686256, 520.1312253174461, 837.3985782066284, 662.8479740131733, 139.81965072713834, 140.81108542545056, 133.16837499982873, 287.477851631349, 695.0586148932359, 1249.002988382019, 278.9306444845179, 169.1210063609341, 137.3973840997567, 354.6229703330674, 389.0210770981961, 472.5022835643392, 318.423613050622, 214.58619879193017, 159.61403326680482, 93.4680792953487, 87.00048026867847, 88.21970411737964, 74.54039519946323, 67.17042478700247, 61.00451487995092, 72.1611832270083, 59.730442970194694, 58.813221047998205, 81.08782877789308, 56.14760421420374, 54.295663297317994, 51.52538612162483, 62.97898490762621, 53.467027446235576, 50.02431701758064, 44.510589593491325, 41.5103815960939, 39.8936677127593, 57.39073026478118, 37.22400052019486, 36.51789893156063, 108.18910734666224, 35.05087106711178, 32.01182670702573, 30.24553256253023, 39.17447116642609, 1249.002988382019, 481.4147243050137, 263.6865858181023, 84.56654083950667, 384.0499561750931, 274.9367336339254, 594.0755982540076, 354.6229703330674, 389.0210770981961, 837.3985782066284, 190.99655196231157, 695.0586148932359, 520.1312253174461, 103.93525820378444, 278.9306444845179, 527.8387252094844, 126.29205375092327, 189.75313136412743, 494.0669774648177, 126.00133277495537, 87.56024767532219, 85.38533519811025, 74.35177344567339, 278.87972073113053, 44.35543612120937, 41.280588532760035, 254.89275034655924, 36.58588581489922, 31.435307988403096, 71.25470615008419, 29.952184894452095, 28.78454700190195, 29.41822603338332, 27.526455221641456, 24.954118953575254, 25.75366002883305, 23.637155786348732, 23.448546724239357, 125.34981834897812, 22.557446418517703, 22.787103289035826, 21.641630541218603, 23.832834164457743, 20.425828614558434, 19.72857168037956, 19.713542734678548, 121.67779184974401, 159.47921523759206, 411.3158628560182, 260.57074105052357, 527.8387252094844, 162.113281289492, 94.28583982398732, 228.03916994865685, 184.5357431452557, 85.47009702271848, 50.9380068730479, 594.0755982540076, 77.36449520752097, 41.37366165631114, 695.0586148932359, 75.81394552437816, 662.8479740131733, 125.6227290381821, 77.88303260334027, 160.37082583648103, 384.0499561750931, 287.477851631349, 169.1210063609341, 134.66078101573908, 554.3219302376043, 327.76344982220405, 168.22056420489022, 246.45402326507124, 158.94277901543387, 100.35243223086994, 93.28818307119765, 89.09787908042316, 58.25944374913699, 56.65258373220135, 55.47770970010644, 47.44238864740567, 40.4865183615381, 37.56714918791223, 36.840614187797854, 36.38189400087566, 35.878924734190626, 33.42024791823146, 29.26081072558139, 28.092350614500543, 27.441019105233767, 37.12446775320063, 25.03372641741428, 33.62777600956432, 21.88608495475372, 16.578459082270737, 16.371338056239026, 15.689173783651125, 14.970100038426265, 16.13006213238302, 15.662150388508065, 14.033007852789016, 19.341849039729478, 180.63021397236577, 25.10609835387009, 39.00947817001343, 40.57769547603746, 81.52897915029406, 144.63138743033505, 62.89172942267099, 111.91419646869946, 98.34233628116206, 189.75313136412743, 79.18012526620453, 190.99655196231157, 91.79108907625434, 106.70271384463953, 662.8479740131733, 287.477851631349, 354.6229703330674, 695.0586148932359, 278.9306444845179, 168.22056420489022, 389.0210770981961, 274.9367336339254, 140.81108542545056], \"Category\": [\"Default\", \"Default\", \"Default\", \"Default\", \"Default\", \"Default\", \"Default\", \"Default\", \"Default\", \"Default\", \"Default\", \"Default\", \"Default\", \"Default\", \"Default\", \"Default\", \"Default\", \"Default\", \"Default\", \"Default\", \"Default\", \"Default\", \"Default\", \"Default\", \"Default\", \"Default\", \"Default\", \"Default\", \"Default\", \"Default\", \"Topic1\", \"Topic1\", \"Topic1\", \"Topic1\", \"Topic1\", \"Topic1\", \"Topic1\", \"Topic1\", \"Topic1\", \"Topic1\", \"Topic1\", \"Topic1\", \"Topic1\", \"Topic1\", \"Topic1\", \"Topic1\", \"Topic1\", \"Topic1\", \"Topic1\", \"Topic1\", \"Topic1\", \"Topic1\", \"Topic1\", \"Topic1\", \"Topic1\", \"Topic1\", \"Topic1\", \"Topic1\", \"Topic1\", \"Topic1\", \"Topic1\", \"Topic1\", \"Topic1\", \"Topic1\", \"Topic1\", \"Topic1\", \"Topic1\", \"Topic1\", \"Topic1\", \"Topic1\", \"Topic1\", \"Topic1\", \"Topic1\", \"Topic1\", \"Topic1\", \"Topic1\", \"Topic1\", \"Topic1\", \"Topic1\", \"Topic1\", \"Topic1\", \"Topic1\", \"Topic1\", \"Topic1\", \"Topic1\", \"Topic2\", \"Topic2\", \"Topic2\", \"Topic2\", \"Topic2\", \"Topic2\", \"Topic2\", \"Topic2\", \"Topic2\", \"Topic2\", \"Topic2\", \"Topic2\", \"Topic2\", \"Topic2\", \"Topic2\", \"Topic2\", \"Topic2\", \"Topic2\", \"Topic2\", \"Topic2\", \"Topic2\", \"Topic2\", \"Topic2\", \"Topic2\", \"Topic2\", \"Topic2\", \"Topic2\", \"Topic2\", \"Topic2\", \"Topic2\", \"Topic2\", \"Topic2\", \"Topic2\", \"Topic2\", \"Topic2\", \"Topic2\", \"Topic2\", \"Topic2\", \"Topic2\", \"Topic2\", \"Topic2\", \"Topic2\", \"Topic2\", \"Topic2\", \"Topic2\", \"Topic2\", \"Topic2\", \"Topic2\", \"Topic2\", \"Topic3\", \"Topic3\", \"Topic3\", \"Topic3\", \"Topic3\", \"Topic3\", \"Topic3\", \"Topic3\", \"Topic3\", \"Topic3\", \"Topic3\", \"Topic3\", \"Topic3\", \"Topic3\", \"Topic3\", \"Topic3\", \"Topic3\", \"Topic3\", \"Topic3\", \"Topic3\", \"Topic3\", \"Topic3\", \"Topic3\", \"Topic3\", \"Topic3\", \"Topic3\", \"Topic3\", \"Topic3\", \"Topic3\", \"Topic3\", \"Topic3\", \"Topic3\", \"Topic3\", \"Topic3\", \"Topic3\", \"Topic3\", \"Topic3\", \"Topic3\", \"Topic3\", \"Topic3\", \"Topic3\", \"Topic3\", \"Topic3\", \"Topic3\", \"Topic3\", \"Topic3\", \"Topic3\", \"Topic3\", \"Topic3\", \"Topic3\", \"Topic3\", \"Topic3\", \"Topic3\", \"Topic3\", \"Topic3\", \"Topic4\", \"Topic4\", \"Topic4\", \"Topic4\", \"Topic4\", \"Topic4\", \"Topic4\", \"Topic4\", \"Topic4\", \"Topic4\", \"Topic4\", \"Topic4\", \"Topic4\", \"Topic4\", \"Topic4\", \"Topic4\", \"Topic4\", \"Topic4\", \"Topic4\", \"Topic4\", \"Topic4\", \"Topic4\", \"Topic4\", \"Topic4\", \"Topic4\", \"Topic4\", \"Topic4\", \"Topic4\", \"Topic4\", \"Topic4\", \"Topic4\", \"Topic4\", \"Topic4\", \"Topic4\", \"Topic4\", \"Topic4\", \"Topic4\", \"Topic4\", \"Topic4\", \"Topic4\", \"Topic4\", \"Topic4\", \"Topic4\", \"Topic4\", \"Topic4\", \"Topic4\", \"Topic4\", \"Topic4\", \"Topic4\", \"Topic4\", \"Topic4\", \"Topic4\", \"Topic4\"], \"logprob\": [30.0, 29.0, 28.0, 27.0, 26.0, 25.0, 24.0, 23.0, 22.0, 21.0, 20.0, 19.0, 18.0, 17.0, 16.0, 15.0, 14.0, 13.0, 12.0, 11.0, 10.0, 9.0, 8.0, 7.0, 6.0, 5.0, 4.0, 3.0, 2.0, 1.0, -4.2475, -4.6566, -4.0361, -4.6561, -4.7096, -4.7042, -4.8948, -5.0084, -5.0586, -5.1914, -5.3506, -5.4205, -5.4227, -5.42, -5.4965, -5.4707, -5.5674, -5.6725, -5.6932, -5.743, -5.6963, -5.7545, -5.7904, -5.7718, -5.823, -5.0876, -5.9582, -5.987, -6.0114, -5.4768, -5.4041, -5.4483, -5.1241, -3.2334, -3.2583, -4.5894, -4.5003, -4.1391, -3.8615, -4.6053, -4.5603, -3.6141, -3.2649, -3.4599, -4.6865, -4.7725, -4.8833, -4.4846, -4.077, -3.7807, -4.5689, -4.8611, -4.9692, -4.8922, -5.0547, -3.0911, -3.4865, -3.8824, -4.1794, -4.7178, -4.79, -4.7763, -4.9459, -5.0512, -5.1485, -4.9806, -5.1699, -5.1857, -4.8648, -5.2328, -5.2666, -5.3196, -5.1198, -5.2836, -5.3508, -5.4688, -5.5389, -5.5797, -5.2167, -5.6503, -5.6697, -4.5839, -5.7115, -5.8047, -5.8632, -5.6162, -2.3633, -3.2747, -3.9647, -4.9648, -3.7477, -4.0436, -3.5052, -3.9355, -3.8873, -3.3683, -4.4986, -4.024, -4.281, -4.9902, -4.6879, -4.6723, -5.0062, -4.9947, -2.9764, -4.3469, -4.7133, -4.7388, -4.8787, -3.5609, -5.402, -5.4751, -3.6573, -5.5994, -5.7532, -4.9352, -5.8024, -5.8429, -5.8215, -5.8886, -5.9896, -5.9586, -6.0466, -6.055, -4.379, -6.0941, -6.0844, -6.1382, -6.0421, -6.1967, -6.2322, -6.233, -4.4157, -4.1452, -3.2026, -3.7237, -3.1483, -4.3353, -4.8253, -4.0623, -4.2483, -5.008, -5.4273, -3.5472, -5.1262, -5.6009, -3.6946, -5.2299, -3.9913, -4.9892, -5.2897, -4.9547, -4.6207, -4.7977, -5.003, -5.0828, -4.7427, -4.8738, -5.0535, -3.2529, -3.6934, -4.1558, -4.229, -4.2757, -4.7045, -4.7329, -4.754, -4.9126, -5.0737, -5.1501, -5.17, -5.1828, -5.1974, -5.2718, -5.4054, -5.4476, -5.4715, -5.1697, -5.5658, -5.2733, -5.7047, -5.9928, -6.0061, -6.0508, -6.0994, -6.0277, -6.0573, -6.1673, -5.8474, -3.6318, -5.5931, -5.2016, -5.1707, -4.7391, -4.2888, -4.9618, -4.6396, -4.7614, -4.3832, -4.923, -4.4407, -4.8557, -4.8403, -4.0614, -4.4657, -4.6325, -4.553, -4.7748, -4.9579, -4.9179, -4.9991, -5.0985], \"loglift\": [30.0, 29.0, 28.0, 27.0, 26.0, 25.0, 24.0, 23.0, 22.0, 21.0, 20.0, 19.0, 18.0, 17.0, 16.0, 15.0, 14.0, 13.0, 12.0, 11.0, 10.0, 9.0, 8.0, 7.0, 6.0, 5.0, 4.0, 3.0, 2.0, 1.0, 1.1642, 1.1624, 1.1623, 1.1622, 1.1619, 1.1618, 1.1607, 1.1594, 1.1593, 1.1573, 1.1554, 1.1552, 1.1549, 1.1547, 1.154, 1.1539, 1.1531, 1.1514, 1.1507, 1.15, 1.1498, 1.1498, 1.1492, 1.1492, 1.1486, 1.1462, 1.1457, 1.1447, 1.1443, 1.1439, 1.1418, 1.1417, 1.1246, 1.0026, 0.9974, 1.0241, 0.9955, 0.9402, 0.9, 0.9944, 0.9516, 0.6856, 0.5585, 0.5973, 0.9269, 0.8339, 0.7788, 0.408, -0.0672, -0.3571, 0.3539, 0.562, 0.6617, -0.2095, -0.4646, 1.3046, 1.3039, 1.3026, 1.3016, 1.2983, 1.2978, 1.2976, 1.2965, 1.2954, 1.2943, 1.2942, 1.2941, 1.2937, 1.2934, 1.293, 1.2927, 1.2921, 1.2912, 1.2911, 1.2904, 1.2893, 1.2889, 1.2878, 1.2872, 1.2865, 1.2862, 1.286, 1.2854, 1.2829, 1.2812, 1.2695, 1.0604, 1.1023, 1.0143, 1.1514, 0.8553, 0.8936, 0.6616, 0.7472, 0.7028, 0.4551, 0.8029, -0.0142, 0.0187, 0.9197, 0.2349, -0.3873, 0.709, 0.3134, 1.3747, 1.3706, 1.3681, 1.3678, 1.3663, 1.3621, 1.3595, 1.3582, 1.3556, 1.3547, 1.3526, 1.3523, 1.3518, 1.351, 1.3506, 1.35, 1.3472, 1.3466, 1.3443, 1.344, 1.3437, 1.3435, 1.3432, 1.3409, 1.3406, 1.3403, 1.3395, 1.3394, 1.3367, 1.3366, 1.3318, 1.2672, 1.1366, 1.1301, 1.1821, 1.0619, 1.0876, 1.0976, 1.1958, 0.6196, 1.0791, 1.2302, 0.3151, 0.9956, 0.0659, 0.7313, 0.9089, 0.5216, -0.0177, 0.0949, 0.4201, 0.5682, -0.5067, -0.1124, 0.375, 1.7936, 1.7918, 1.7893, 1.7891, 1.7883, 1.7844, 1.7839, 1.7837, 1.7817, 1.7791, 1.7775, 1.7772, 1.7769, 1.7762, 1.7728, 1.7721, 1.7706, 1.7702, 1.7698, 1.7677, 1.7651, 1.7632, 1.7529, 1.7522, 1.75, 1.7483, 1.7453, 1.7452, 1.745, 1.7441, 1.7255, 1.7376, 1.6883, 1.6798, 1.4137, 1.2908, 1.4505, 1.1964, 1.2039, 0.9249, 1.259, 0.8608, 1.1785, 1.0434, -0.0042, 0.4269, 0.0502, -0.5432, 0.148, 0.4706, -0.3278, -0.0619, 0.5079]}, \"token.table\": {\"Topic\": [4, 2, 4, 1, 2, 3, 4, 1, 1, 2, 2, 3, 1, 3, 1, 2, 3, 4, 1, 1, 3, 4, 2, 3, 4, 4, 1, 2, 3, 4, 2, 3, 1, 4, 1, 3, 4, 1, 4, 1, 3, 4, 2, 1, 1, 2, 4, 4, 1, 2, 3, 4, 1, 3, 4, 1, 1, 2, 3, 4, 1, 2, 3, 4, 4, 3, 4, 3, 4, 4, 2, 3, 4, 3, 4, 1, 4, 1, 3, 4, 3, 2, 4, 4, 2, 3, 4, 3, 4, 1, 1, 1, 1, 1, 3, 3, 2, 2, 3, 4, 1, 1, 3, 1, 3, 1, 2, 3, 4, 1, 2, 3, 4, 3, 2, 1, 2, 3, 4, 1, 2, 3, 4, 3, 1, 1, 2, 4, 3, 1, 3, 1, 2, 3, 4, 1, 1, 3, 4, 4, 1, 4, 1, 2, 3, 4, 4, 4, 1, 3, 2, 2, 2, 4, 2, 2, 3, 4, 1, 3, 4, 1, 3, 3, 3, 3, 3, 1, 3, 1, 2, 3, 1, 2, 3, 1, 2, 3, 4, 2, 3, 4, 2, 1, 2, 4, 2, 2, 3, 2, 3, 4, 4, 1, 1, 2, 4, 2, 1, 3, 4, 1, 1, 2, 1, 1, 3, 4, 4, 1, 2, 3, 4, 1, 4, 1, 2, 3, 4, 1, 2, 3, 3, 1, 3, 4, 2, 1, 1, 2, 3, 4, 2, 3, 1, 3, 4, 4, 3, 4, 1, 1, 2, 4, 1, 3, 1, 3, 2, 4, 4, 1, 2, 3, 4, 4, 2, 4, 1, 3, 1, 3, 4, 1, 3, 4, 2, 3, 1, 2, 4, 1, 3, 4, 2, 1, 2, 3, 3, 1, 2, 1, 2, 2, 2, 2, 2, 4, 2, 4, 2, 2, 3, 2, 3, 1, 3, 4, 3, 3, 2, 3, 3, 1, 2, 2, 3, 4, 1, 4, 1, 2, 1, 2, 1, 2, 3, 4], \"Freq\": [0.9906752450705312, 0.9961530120238336, 0.9879832007980145, 0.25097077021381275, 0.5724389477910561, 0.002819896294537222, 0.17483357026130775, 0.9735417565201073, 0.990389925002371, 0.9945545688299456, 0.03287370636162983, 0.9615559110776726, 0.5495289678392027, 0.4455640279777319, 0.028115498583925775, 0.19680849008748041, 0.30927048442318356, 0.4685916430654296, 0.9698377162812027, 0.278612001729098, 0.5253826318320134, 0.19104822975709576, 0.525185684981794, 0.4696371990702581, 0.005049862355594173, 0.9611157275697428, 0.017424416720023293, 0.9757673363213043, 0.1025391824665524, 0.8972178465823335, 0.9949920946393942, 0.9861522594732113, 0.958546421481913, 0.04050196147106675, 0.30337426499725295, 0.685889642602485, 0.013190185434663174, 0.9812753471484005, 0.01817176568793334, 0.7172730733154692, 0.007101713597182864, 0.2769668302901317, 0.9986696556622682, 0.9949226253899327, 0.21080021031769886, 0.368900368055973, 0.41633041537745524, 0.9910866883345315, 0.21353977131436777, 0.1728655291592501, 0.06101136323267651, 0.5491022690940885, 0.7867277555618262, 0.2002579741430103, 0.014304141010215021, 0.9830781952698912, 0.2906229714612315, 0.2676033301573716, 0.3467333471393901, 0.09639474795991342, 0.012925825953076021, 0.2455906931084444, 0.7367720793253332, 0.9884809537498566, 0.9697108720675547, 0.6291485881085025, 0.3723532460233995, 0.8980286852491561, 0.09978096502768402, 0.9577228942333543, 0.1837682522469404, 0.7862249967266007, 0.028417770966021712, 0.40414182084728484, 0.580953867467972, 0.9918236690996887, 0.00472296985285566, 0.3595120216144908, 0.0980487331675884, 0.5338208805790924, 0.9808745725738215, 0.6021051103723192, 0.39267724589499076, 0.9560732902092476, 0.0376224575162425, 0.9593726666641836, 0.92994062123826, 0.3066394337394304, 0.6868723315763241, 0.9952379103349454, 0.9943941787051441, 0.9941151439530483, 0.9922636056505336, 0.9792120429192903, 0.019584240858385806, 0.9936015750275214, 0.9839084785603448, 0.9989369711389536, 0.9857834380323027, 0.965107789608182, 0.9919825556757964, 0.9770971766707897, 0.9752876984311448, 0.9697040355495979, 0.9707358088912693, 0.25338094559069646, 0.5542708184796484, 0.09501785459651116, 0.10293600914622043, 0.7657961866588707, 0.006101961646684229, 0.22577258092731647, 0.006101961646684229, 0.9808710224341672, 0.9861728190786468, 0.2930707611864681, 0.15588870275875963, 0.4240172715038262, 0.13094651031735807, 0.44096983401487505, 0.34417157776770735, 0.02151072361048171, 0.1935965124943354, 0.9727441601964377, 0.9784080272384543, 0.9906005944934037, 0.09857632260960061, 0.8871869034864055, 0.9952687954924112, 0.9926575386951717, 0.9682098351820583, 0.07685681000599728, 0.8163439549285657, 0.10801497622464483, 0.9940684375768821, 0.9885691113417276, 0.007977674105725198, 0.965298566792749, 0.023933022317175593, 0.9876778314842695, 0.9814213071214977, 0.9771824057136301, 0.6171519500758438, 0.27685321124897666, 0.061522935833105925, 0.044219610130044884, 0.98742535006743, 0.9595137752327303, 0.1208498305403747, 0.8701187798906979, 0.9898033540130168, 0.9671179748793842, 0.44677084389364463, 0.5450604295502465, 0.970018688976383, 0.01382825703005404, 0.38027706832648606, 0.6015291808073506, 0.23399996837120562, 0.7604998972064183, 0.9895031852693961, 0.9912212000323471, 0.9978404193895074, 0.992052998544517, 0.963070226665008, 0.973044312433025, 0.9638044391978648, 0.7965385794754875, 0.20123079902538632, 0.6758361360204008, 0.030037161600906706, 0.2928623256088404, 0.8426657007399077, 0.08647442780518702, 0.06991549482121505, 0.19536216537906556, 0.5475281740229074, 0.13880995961144132, 0.11824552115048706, 0.010606046484464674, 0.8272716257882445, 0.15909069726697012, 0.9795609406623011, 0.23512762246756524, 0.7470990584856508, 0.0151695240301655, 0.987704724060115, 0.04133076677850102, 0.9554700790559354, 0.010757325746508175, 0.986088193429916, 0.9955467520381048, 0.9964880549177011, 0.9847380559500977, 0.98422627108413, 0.986174243842886, 0.97731779436944, 0.9835337616907917, 0.007846437363482266, 0.9808046704352834, 0.011769656045223401, 0.9838090425772096, 0.025526828320200413, 0.9700194761676157, 0.9793178374989848, 0.8460787394771988, 0.15153649065263264, 0.9849030549250536, 0.9981577770204103, 0.8393514732250668, 0.15896808205020205, 0.783402809380011, 0.2158984120338613, 0.9794077400980491, 0.9263872817840896, 0.35073000901446777, 0.01783372927192209, 0.36856373828638983, 0.26750593907883136, 0.2280310001641728, 0.03946690387456837, 0.7323303274503242, 0.9703520240770881, 0.8395327183666346, 0.13404303906694165, 0.02116469037899079, 0.9927503040731513, 0.9937368720258967, 0.13821361553889883, 0.6619704744231469, 0.04364640490702068, 0.15639961758349077, 0.24927420138759512, 0.7478226041627855, 0.060897896083336685, 0.005536172371212426, 0.9300769583636875, 0.9351974912701888, 0.28620615405610744, 0.6996150432482626, 0.9881333366396744, 0.6040871923714228, 0.18195397360585028, 0.21106660938278632, 0.9685363905617733, 0.0189909096188583, 0.984182241170189, 0.013299760015813365, 0.03983096002831721, 0.9559430406796129, 0.9755030358155338, 0.5433493820522449, 0.4275144588455026, 0.028660187185173356, 0.00119417446604889, 0.9969108298424281, 0.9885002902789876, 0.9587066503732666, 0.996082383265246, 0.9650551772940307, 0.4661228656037011, 0.27828230782310515, 0.2539326058885834, 0.5439891943621465, 0.38434019166890787, 0.07095511230810607, 0.9912651316420161, 0.965458387621627, 0.9737171360347772, 0.9858179427975514, 0.9913891596699148, 0.5642319425608854, 0.2700468388192473, 0.16444192978378744, 0.9918820221788917, 0.1145684286445794, 0.6379378413164081, 0.2473636527553419, 0.9791524435755362, 0.31750534486860416, 0.6831175601718453, 0.012332307019085328, 0.9865845615268262, 0.9972682362834594, 0.9844553717551636, 0.9877710103278627, 0.9795236181391411, 0.9839284720606586, 0.02973732190066874, 0.9813316227220684, 0.9683920971993871, 0.1570536519015809, 0.8441633789709974, 0.9885288063322804, 0.9919866390167357, 0.8077231804029261, 0.1356974943076916, 0.058156068989010684, 0.9839860153212246, 0.9932028940784756, 0.9775987577980082, 0.9617650715158367, 0.9954871032921965, 0.21777369832585725, 0.7822239090601564, 0.9825752957389522, 0.9823912522010632, 0.014034160745729473, 0.05170136515624394, 0.930624572812391, 0.018486149382779822, 0.9797659172873305, 0.1419000928839459, 0.8514005573036754, 0.8654268980091305, 0.11443661461277758, 0.007152288413298599, 0.007152288413298599], \"Term\": [\"absurdity\", \"action\", \"activism\", \"adventure\", \"adventure\", \"adventure\", \"adventure\", \"adversity\", \"age\", \"alien\", \"ambiguity\", \"ambiguity\", \"ambition\", \"ambition\", \"anti\", \"anti\", \"anti\", \"anti\", \"aspiration\", \"authority\", \"authority\", \"authority\", \"betrayal\", \"betrayal\", \"betrayal\", \"border\", \"bravery\", \"bravery\", \"bureaucracy\", \"bureaucracy\", \"camaraderie\", \"chaos\", \"childhood\", \"childhood\", \"choice\", \"choice\", \"choice\", \"clash\", \"clash\", \"class\", \"class\", \"class\", \"cold\", \"come\", \"comedy\", \"comedy\", \"comedy\", \"commentary\", \"communism\", \"communism\", \"communism\", \"communism\", \"community\", \"community\", \"community\", \"competition\", \"conflict\", \"conflict\", \"conflict\", \"conflict\", \"consequence\", \"consequence\", \"consequence\", \"conspiracy\", \"context\", \"control\", \"control\", \"corruption\", \"corruption\", \"creativity\", \"crime\", \"crime\", \"crime\", \"critique\", \"critique\", \"cultural\", \"cultural\", \"culture\", \"culture\", \"culture\", \"decay\", \"deception\", \"deception\", \"dedication\", \"dilemma\", \"dilemma\", \"documentary\", \"drama\", \"drama\", \"dream\", \"duty\", \"eastern\", \"education\", \"emotional\", \"emotional\", \"enforcement\", \"escape\", \"espionage\", \"ethical\", \"event\", \"evil\", \"exchange\", \"existential\", \"expectation\", \"experience\", \"exploration\", \"exploration\", \"exploration\", \"exploration\", \"family\", \"family\", \"family\", \"family\", \"fate\", \"fiction\", \"freedom\", \"freedom\", \"freedom\", \"freedom\", \"friendship\", \"friendship\", \"friendship\", \"friendship\", \"frontier\", \"gender\", \"good\", \"government\", \"government\", \"greed\", \"growth\", \"guilt\", \"heroism\", \"heroism\", \"heroism\", \"historical\", \"hope\", \"human\", \"human\", \"human\", \"humor\", \"hunt\", \"idealism\", \"identity\", \"identity\", \"identity\", \"identity\", \"imperialism\", \"industry\", \"injustice\", \"injustice\", \"intelligence\", \"international\", \"intrigue\", \"intrigue\", \"invasion\", \"investigation\", \"investigation\", \"investigation\", \"isolation\", \"isolation\", \"journalism\", \"journey\", \"justice\", \"law\", \"lawlessness\", \"legacy\", \"legal\", \"life\", \"life\", \"loss\", \"loss\", \"loss\", \"love\", \"love\", \"love\", \"loyalty\", \"loyalty\", \"loyalty\", \"loyalty\", \"manipulation\", \"manipulation\", \"manipulation\", \"martial\", \"military\", \"military\", \"military\", \"mission\", \"moral\", \"moral\", \"morality\", \"morality\", \"murder\", \"mystery\", \"nationalism\", \"nostalgia\", \"nuclear\", \"oil\", \"operation\", \"oppression\", \"oppression\", \"oppression\", \"overcome\", \"partisan\", \"partisan\", \"perseverance\", \"personal\", \"personal\", \"politic\", \"political\", \"post\", \"post\", \"power\", \"power\", \"pride\", \"protest\", \"rebellion\", \"rebellion\", \"rebellion\", \"rebellion\", \"redemption\", \"redemption\", \"redemption\", \"regime\", \"relationship\", \"relationship\", \"relationship\", \"rescue\", \"resilience\", \"resistance\", \"resistance\", \"resistance\", \"resistance\", \"revenge\", \"revenge\", \"revolution\", \"revolution\", \"revolution\", \"revolutionary\", \"right\", \"right\", \"role\", \"romance\", \"romance\", \"romance\", \"romantic\", \"romantic\", \"rural\", \"rural\", \"russian\", \"russian\", \"sabotage\", \"sacrifice\", \"sacrifice\", \"sacrifice\", \"sacrifice\", \"satire\", \"science\", \"security\", \"self\", \"small\", \"social\", \"social\", \"social\", \"societal\", \"societal\", \"societal\", \"space\", \"spirit\", \"sport\", \"spy\", \"state\", \"struggle\", \"struggle\", \"struggle\", \"surveillance\", \"survival\", \"survival\", \"survival\", \"system\", \"teamwork\", \"teamwork\", \"technology\", \"technology\", \"tension\", \"terrorism\", \"threat\", \"thriller\", \"time\", \"travel\", \"travel\", \"trust\", \"tyranny\", \"tyranny\", \"undercover\", \"urban\", \"value\", \"value\", \"value\", \"vengeance\", \"versus\", \"vietnam\", \"vigilante\", \"violence\", \"war\", \"war\", \"warfare\", \"western\", \"western\", \"worker\", \"worker\", \"world\", \"world\", \"wwii\", \"wwii\", \"youth\", \"youth\", \"youth\", \"youth\"]}, \"R\": 30, \"lambda.step\": 0.01, \"plot.opts\": {\"xlab\": \"PC1\", \"ylab\": \"PC2\"}, \"topic.order\": [3, 1, 2, 4]};\n",
       "\n",
       "function LDAvis_load_lib(url, callback){\n",
       "  var s = document.createElement('script');\n",
       "  s.src = url;\n",
       "  s.async = true;\n",
       "  s.onreadystatechange = s.onload = callback;\n",
       "  s.onerror = function(){console.warn(\"failed to load library \" + url);};\n",
       "  document.getElementsByTagName(\"head\")[0].appendChild(s);\n",
       "}\n",
       "\n",
       "if(typeof(LDAvis) !== \"undefined\"){\n",
       "   // already loaded: just create the visualization\n",
       "   !function(LDAvis){\n",
       "       new LDAvis(\"#\" + \"ldavis_el71579132345949605137105715\", ldavis_el71579132345949605137105715_data);\n",
       "   }(LDAvis);\n",
       "}else if(typeof define === \"function\" && define.amd){\n",
       "   // require.js is available: use it to load d3/LDAvis\n",
       "   require.config({paths: {d3: \"https://d3js.org/d3.v5\"}});\n",
       "   require([\"d3\"], function(d3){\n",
       "      window.d3 = d3;\n",
       "      LDAvis_load_lib(\"https://cdn.jsdelivr.net/gh/bmabey/pyLDAvis@3.4.0/pyLDAvis/js/ldavis.v3.0.0.js\", function(){\n",
       "        new LDAvis(\"#\" + \"ldavis_el71579132345949605137105715\", ldavis_el71579132345949605137105715_data);\n",
       "      });\n",
       "    });\n",
       "}else{\n",
       "    // require.js not available: dynamically load d3 & LDAvis\n",
       "    LDAvis_load_lib(\"https://d3js.org/d3.v5.js\", function(){\n",
       "         LDAvis_load_lib(\"https://cdn.jsdelivr.net/gh/bmabey/pyLDAvis@3.4.0/pyLDAvis/js/ldavis.v3.0.0.js\", function(){\n",
       "                 new LDAvis(\"#\" + \"ldavis_el71579132345949605137105715\", ldavis_el71579132345949605137105715_data);\n",
       "            })\n",
       "         });\n",
       "}\n",
       "</script>"
      ],
      "text/plain": [
       "<IPython.core.display.HTML object>"
      ]
     },
     "execution_count": 14,
     "metadata": {},
     "output_type": "execute_result"
    }
   ],
   "source": [
    "# pyLDAvis.save_html(gensim_models.prepare(theme_topic[0], theme_topic[1], theme_topic[2]), \"plots/theme_topic_raw.html\")\n",
    "\n",
    "pyLDAvis.display(gensim_models.prepare(theme_topic[0], theme_topic[1], theme_topic[2]))\n"
   ]
  },
  {
   "cell_type": "code",
   "execution_count": 16,
   "metadata": {},
   "outputs": [
    {
     "name": "stdout",
     "output_type": "stream",
     "text": [
      "Eastern themes                    Romance & Social Dramas  War & Spy Dramas  \\\n",
      "Begin (47-53)                           46                25   \n",
      "Crisis (54-62)                         134               110   \n",
      "Detent (63-74)                         217               178   \n",
      "Second CW (75-84)                      130               139   \n",
      "End (85-91)                             53                93   \n",
      "\n",
      "                   Crime & Moral Thrillers  Political Dramas  \n",
      "Begin (47-53)                           99                32  \n",
      "Crisis (54-62)                         290               102  \n",
      "Detent (63-74)                         335               149  \n",
      "Second CW (75-84)                      301                95  \n",
      "End (85-91)                            155                68  \n",
      "Western themes                    Romance & Social Dramas  War & Spy Dramas  \\\n",
      "Begin (47-53)                          138               153   \n",
      "Crisis (54-62)                         199               205   \n",
      "Detent (63-74)                         255               197   \n",
      "Second CW (75-84)                      167               161   \n",
      "End (85-91)                            203               144   \n",
      "\n",
      "                   Crime & Moral Thrillers  Political Dramas  \n",
      "Begin (47-53)                          106                42  \n",
      "Crisis (54-62)                         160                57  \n",
      "Detent (63-74)                         112                81  \n",
      "Second CW (75-84)                      118                66  \n",
      "End (85-91)                            109                61  \n"
     ]
    }
   ],
   "source": [
    "import pandas as pd\n",
    "import plotly.graph_objects as go\n",
    "from plotly.subplots import make_subplots\n",
    "\n",
    "def to_topic_list(series):\n",
    "    # Given a Series from value_counts() indexed by topics, return a list \n",
    "    # of counts for topics [0,1,2,3] in that exact order.\n",
    "    return [series.get(i, 0) for i in [0, 1, 2, 3]]\n",
    "\n",
    "begin_cold_war = (1947,1953)\n",
    "crisis = (1954,1962)\n",
    "detent = (1963,1974)\n",
    "second_cold_war = (1975,1984)\n",
    "end = (1985,1991)\n",
    "\n",
    "periods = [\"Begin (47-53)\", \"Crisis (54-62)\", \"Detent (63-74)\", \"Second CW (75-84)\", \"End (85-91)\"]\n",
    "\n",
    "topics = {0: \"Romance & Social Dramas\", 1: \"War & Spy Dramas\", 2: \"Crime & Moral Thrillers\", 3: \"Political Dramas\"}\n",
    "\n",
    "eastern_theme_begin = eastern_theme[eastern_theme[\"release_date\"].apply(lambda x: x >= begin_cold_war[0] and x <= begin_cold_war[1])]\n",
    "eastern_theme_crisis = eastern_theme[eastern_theme[\"release_date\"].apply(lambda x: x >= crisis[0] and x <= crisis[1])]\n",
    "eastern_theme_detent = eastern_theme[eastern_theme[\"release_date\"].apply(lambda x: x >= detent[0] and x <= detent[1])]\n",
    "eastern_theme_second = eastern_theme[eastern_theme[\"release_date\"].apply(lambda x: x >= second_cold_war[0] and x <= second_cold_war[1])]\n",
    "eastern_theme_end = eastern_theme[eastern_theme[\"release_date\"].apply(lambda x: x >= end[0] and x <= end[1])]\n",
    "                                  \n",
    "western_theme_begin = western_theme[western_theme[\"release_date\"].apply(lambda x: x >= begin_cold_war[0] and x <= begin_cold_war[1])]\n",
    "western_theme_crisis = western_theme[western_theme[\"release_date\"].apply(lambda x: x >= crisis[0] and x <= crisis[1])]\n",
    "western_theme_detent = western_theme[western_theme[\"release_date\"].apply(lambda x: x >= detent[0] and x <= detent[1])]\n",
    "western_theme_second = western_theme[western_theme[\"release_date\"].apply(lambda x: x >= second_cold_war[0] and x <= second_cold_war[1])]\n",
    "western_theme_end = western_theme[western_theme[\"release_date\"].apply(lambda x: x >= end[0] and x <= end[1])]\n",
    "\n",
    "eastern_counts = {\n",
    "    \"Begin (47-53)\": to_topic_list(eastern_theme_begin['dominant_topic'].value_counts()),\n",
    "    \"Crisis (54-62)\": to_topic_list(eastern_theme_crisis['dominant_topic'].value_counts()),\n",
    "    \"Detent (63-74)\": to_topic_list(eastern_theme_detent['dominant_topic'].value_counts()),\n",
    "    \"Second CW (75-84)\": to_topic_list(eastern_theme_second['dominant_topic'].value_counts()),\n",
    "    \"End (85-91)\": to_topic_list(eastern_theme_end['dominant_topic'].value_counts())\n",
    "}\n",
    "\n",
    "western_counts = {\n",
    "    \"Begin (47-53)\": to_topic_list(western_theme_begin['dominant_topic'].value_counts()),\n",
    "    \"Crisis (54-62)\": to_topic_list(western_theme_crisis['dominant_topic'].value_counts()),\n",
    "    \"Detent (63-74)\": to_topic_list(western_theme_detent['dominant_topic'].value_counts()),\n",
    "    \"Second CW (75-84)\": to_topic_list(western_theme_second['dominant_topic'].value_counts()),\n",
    "    \"End (85-91)\": to_topic_list(western_theme_end['dominant_topic'].value_counts())\n",
    "}\n",
    "\n",
    "\n",
    "eastern_df = pd.DataFrame(eastern_counts, index=[topic for topic in topics.values()]).T\n",
    "western_df = pd.DataFrame(western_counts, index=[topic for topic in topics.values()]).T\n",
    "\n",
    "print(\"Eastern themes\", eastern_df)\n",
    "\n",
    "print(\"Western themes\", western_df)\n",
    "\n",
    "topic_colors = {\n",
    "    topics[0]: \"#1F6B5D\",   \n",
    "    topics[1]: \"#06DD95\",       \n",
    "    topics[2]: \"#FFE989\",     \n",
    "    topics[3]: \"#F58634\"  \n",
    "}"
   ]
  },
  {
   "cell_type": "code",
   "execution_count": 17,
   "metadata": {},
   "outputs": [
    {
     "data": {
      "application/vnd.plotly.v1+json": {
       "config": {
        "plotlyServerURL": "https://plot.ly"
       },
       "data": [
        {
         "hovertemplate": "Period: %{x}<br>Topic: Romance & Social Dramas<br>Count: %{y}<extra></extra>",
         "marker": {
          "color": "#1F6B5D"
         },
         "name": "Romance & Social Dramas",
         "type": "bar",
         "x": [
          "Begin (47-53)",
          "Crisis (54-62)",
          "Detent (63-74)",
          "Second CW (75-84)",
          "End (85-91)"
         ],
         "xaxis": "x",
         "y": [
          46,
          134,
          217,
          130,
          53
         ],
         "yaxis": "y"
        },
        {
         "hovertemplate": "Period: %{x}<br>Topic: War & Spy Dramas<br>Count: %{y}<extra></extra>",
         "marker": {
          "color": "#06DD95"
         },
         "name": "War & Spy Dramas",
         "type": "bar",
         "x": [
          "Begin (47-53)",
          "Crisis (54-62)",
          "Detent (63-74)",
          "Second CW (75-84)",
          "End (85-91)"
         ],
         "xaxis": "x",
         "y": [
          25,
          110,
          178,
          139,
          93
         ],
         "yaxis": "y"
        },
        {
         "hovertemplate": "Period: %{x}<br>Topic: Crime & Moral Thrillers<br>Count: %{y}<extra></extra>",
         "marker": {
          "color": "#FFE989"
         },
         "name": "Crime & Moral Thrillers",
         "type": "bar",
         "x": [
          "Begin (47-53)",
          "Crisis (54-62)",
          "Detent (63-74)",
          "Second CW (75-84)",
          "End (85-91)"
         ],
         "xaxis": "x",
         "y": [
          99,
          290,
          335,
          301,
          155
         ],
         "yaxis": "y"
        },
        {
         "hovertemplate": "Period: %{x}<br>Topic: Political Dramas<br>Count: %{y}<extra></extra>",
         "marker": {
          "color": "#F58634"
         },
         "name": "Political Dramas",
         "type": "bar",
         "x": [
          "Begin (47-53)",
          "Crisis (54-62)",
          "Detent (63-74)",
          "Second CW (75-84)",
          "End (85-91)"
         ],
         "xaxis": "x",
         "y": [
          32,
          102,
          149,
          95,
          68
         ],
         "yaxis": "y"
        },
        {
         "hovertemplate": "Period: %{x}<br>Topic: Romance & Social Dramas<br>Count: %{y}<extra></extra>",
         "marker": {
          "color": "#1F6B5D"
         },
         "name": "Romance & Social Dramas",
         "showlegend": false,
         "type": "bar",
         "x": [
          "Begin (47-53)",
          "Crisis (54-62)",
          "Detent (63-74)",
          "Second CW (75-84)",
          "End (85-91)"
         ],
         "xaxis": "x2",
         "y": [
          138,
          199,
          255,
          167,
          203
         ],
         "yaxis": "y2"
        },
        {
         "hovertemplate": "Period: %{x}<br>Topic: War & Spy Dramas<br>Count: %{y}<extra></extra>",
         "marker": {
          "color": "#06DD95"
         },
         "name": "War & Spy Dramas",
         "showlegend": false,
         "type": "bar",
         "x": [
          "Begin (47-53)",
          "Crisis (54-62)",
          "Detent (63-74)",
          "Second CW (75-84)",
          "End (85-91)"
         ],
         "xaxis": "x2",
         "y": [
          153,
          205,
          197,
          161,
          144
         ],
         "yaxis": "y2"
        },
        {
         "hovertemplate": "Period: %{x}<br>Topic: Crime & Moral Thrillers<br>Count: %{y}<extra></extra>",
         "marker": {
          "color": "#FFE989"
         },
         "name": "Crime & Moral Thrillers",
         "showlegend": false,
         "type": "bar",
         "x": [
          "Begin (47-53)",
          "Crisis (54-62)",
          "Detent (63-74)",
          "Second CW (75-84)",
          "End (85-91)"
         ],
         "xaxis": "x2",
         "y": [
          106,
          160,
          112,
          118,
          109
         ],
         "yaxis": "y2"
        },
        {
         "hovertemplate": "Period: %{x}<br>Topic: Political Dramas<br>Count: %{y}<extra></extra>",
         "marker": {
          "color": "#F58634"
         },
         "name": "Political Dramas",
         "showlegend": false,
         "type": "bar",
         "x": [
          "Begin (47-53)",
          "Crisis (54-62)",
          "Detent (63-74)",
          "Second CW (75-84)",
          "End (85-91)"
         ],
         "xaxis": "x2",
         "y": [
          42,
          57,
          81,
          66,
          61
         ],
         "yaxis": "y2"
        }
       ],
       "layout": {
        "annotations": [
         {
          "font": {
           "size": 16
          },
          "showarrow": false,
          "text": "Eastern Theme Topics Over Periods",
          "x": 0.225,
          "xanchor": "center",
          "xref": "paper",
          "y": 1,
          "yanchor": "bottom",
          "yref": "paper"
         },
         {
          "font": {
           "size": 16
          },
          "showarrow": false,
          "text": "Western Theme Topics Over Periods",
          "x": 0.775,
          "xanchor": "center",
          "xref": "paper",
          "y": 1,
          "yanchor": "bottom",
          "yref": "paper"
         }
        ],
        "barmode": "stack",
        "height": 600,
        "legend": {
         "title": {
          "text": "Topics"
         }
        },
        "template": {
         "data": {
          "bar": [
           {
            "error_x": {
             "color": "#2a3f5f"
            },
            "error_y": {
             "color": "#2a3f5f"
            },
            "marker": {
             "line": {
              "color": "#E5ECF6",
              "width": 0.5
             },
             "pattern": {
              "fillmode": "overlay",
              "size": 10,
              "solidity": 0.2
             }
            },
            "type": "bar"
           }
          ],
          "barpolar": [
           {
            "marker": {
             "line": {
              "color": "#E5ECF6",
              "width": 0.5
             },
             "pattern": {
              "fillmode": "overlay",
              "size": 10,
              "solidity": 0.2
             }
            },
            "type": "barpolar"
           }
          ],
          "carpet": [
           {
            "aaxis": {
             "endlinecolor": "#2a3f5f",
             "gridcolor": "white",
             "linecolor": "white",
             "minorgridcolor": "white",
             "startlinecolor": "#2a3f5f"
            },
            "baxis": {
             "endlinecolor": "#2a3f5f",
             "gridcolor": "white",
             "linecolor": "white",
             "minorgridcolor": "white",
             "startlinecolor": "#2a3f5f"
            },
            "type": "carpet"
           }
          ],
          "choropleth": [
           {
            "colorbar": {
             "outlinewidth": 0,
             "ticks": ""
            },
            "type": "choropleth"
           }
          ],
          "contour": [
           {
            "colorbar": {
             "outlinewidth": 0,
             "ticks": ""
            },
            "colorscale": [
             [
              0,
              "#0d0887"
             ],
             [
              0.1111111111111111,
              "#46039f"
             ],
             [
              0.2222222222222222,
              "#7201a8"
             ],
             [
              0.3333333333333333,
              "#9c179e"
             ],
             [
              0.4444444444444444,
              "#bd3786"
             ],
             [
              0.5555555555555556,
              "#d8576b"
             ],
             [
              0.6666666666666666,
              "#ed7953"
             ],
             [
              0.7777777777777778,
              "#fb9f3a"
             ],
             [
              0.8888888888888888,
              "#fdca26"
             ],
             [
              1,
              "#f0f921"
             ]
            ],
            "type": "contour"
           }
          ],
          "contourcarpet": [
           {
            "colorbar": {
             "outlinewidth": 0,
             "ticks": ""
            },
            "type": "contourcarpet"
           }
          ],
          "heatmap": [
           {
            "colorbar": {
             "outlinewidth": 0,
             "ticks": ""
            },
            "colorscale": [
             [
              0,
              "#0d0887"
             ],
             [
              0.1111111111111111,
              "#46039f"
             ],
             [
              0.2222222222222222,
              "#7201a8"
             ],
             [
              0.3333333333333333,
              "#9c179e"
             ],
             [
              0.4444444444444444,
              "#bd3786"
             ],
             [
              0.5555555555555556,
              "#d8576b"
             ],
             [
              0.6666666666666666,
              "#ed7953"
             ],
             [
              0.7777777777777778,
              "#fb9f3a"
             ],
             [
              0.8888888888888888,
              "#fdca26"
             ],
             [
              1,
              "#f0f921"
             ]
            ],
            "type": "heatmap"
           }
          ],
          "heatmapgl": [
           {
            "colorbar": {
             "outlinewidth": 0,
             "ticks": ""
            },
            "colorscale": [
             [
              0,
              "#0d0887"
             ],
             [
              0.1111111111111111,
              "#46039f"
             ],
             [
              0.2222222222222222,
              "#7201a8"
             ],
             [
              0.3333333333333333,
              "#9c179e"
             ],
             [
              0.4444444444444444,
              "#bd3786"
             ],
             [
              0.5555555555555556,
              "#d8576b"
             ],
             [
              0.6666666666666666,
              "#ed7953"
             ],
             [
              0.7777777777777778,
              "#fb9f3a"
             ],
             [
              0.8888888888888888,
              "#fdca26"
             ],
             [
              1,
              "#f0f921"
             ]
            ],
            "type": "heatmapgl"
           }
          ],
          "histogram": [
           {
            "marker": {
             "pattern": {
              "fillmode": "overlay",
              "size": 10,
              "solidity": 0.2
             }
            },
            "type": "histogram"
           }
          ],
          "histogram2d": [
           {
            "colorbar": {
             "outlinewidth": 0,
             "ticks": ""
            },
            "colorscale": [
             [
              0,
              "#0d0887"
             ],
             [
              0.1111111111111111,
              "#46039f"
             ],
             [
              0.2222222222222222,
              "#7201a8"
             ],
             [
              0.3333333333333333,
              "#9c179e"
             ],
             [
              0.4444444444444444,
              "#bd3786"
             ],
             [
              0.5555555555555556,
              "#d8576b"
             ],
             [
              0.6666666666666666,
              "#ed7953"
             ],
             [
              0.7777777777777778,
              "#fb9f3a"
             ],
             [
              0.8888888888888888,
              "#fdca26"
             ],
             [
              1,
              "#f0f921"
             ]
            ],
            "type": "histogram2d"
           }
          ],
          "histogram2dcontour": [
           {
            "colorbar": {
             "outlinewidth": 0,
             "ticks": ""
            },
            "colorscale": [
             [
              0,
              "#0d0887"
             ],
             [
              0.1111111111111111,
              "#46039f"
             ],
             [
              0.2222222222222222,
              "#7201a8"
             ],
             [
              0.3333333333333333,
              "#9c179e"
             ],
             [
              0.4444444444444444,
              "#bd3786"
             ],
             [
              0.5555555555555556,
              "#d8576b"
             ],
             [
              0.6666666666666666,
              "#ed7953"
             ],
             [
              0.7777777777777778,
              "#fb9f3a"
             ],
             [
              0.8888888888888888,
              "#fdca26"
             ],
             [
              1,
              "#f0f921"
             ]
            ],
            "type": "histogram2dcontour"
           }
          ],
          "mesh3d": [
           {
            "colorbar": {
             "outlinewidth": 0,
             "ticks": ""
            },
            "type": "mesh3d"
           }
          ],
          "parcoords": [
           {
            "line": {
             "colorbar": {
              "outlinewidth": 0,
              "ticks": ""
             }
            },
            "type": "parcoords"
           }
          ],
          "pie": [
           {
            "automargin": true,
            "type": "pie"
           }
          ],
          "scatter": [
           {
            "fillpattern": {
             "fillmode": "overlay",
             "size": 10,
             "solidity": 0.2
            },
            "type": "scatter"
           }
          ],
          "scatter3d": [
           {
            "line": {
             "colorbar": {
              "outlinewidth": 0,
              "ticks": ""
             }
            },
            "marker": {
             "colorbar": {
              "outlinewidth": 0,
              "ticks": ""
             }
            },
            "type": "scatter3d"
           }
          ],
          "scattercarpet": [
           {
            "marker": {
             "colorbar": {
              "outlinewidth": 0,
              "ticks": ""
             }
            },
            "type": "scattercarpet"
           }
          ],
          "scattergeo": [
           {
            "marker": {
             "colorbar": {
              "outlinewidth": 0,
              "ticks": ""
             }
            },
            "type": "scattergeo"
           }
          ],
          "scattergl": [
           {
            "marker": {
             "colorbar": {
              "outlinewidth": 0,
              "ticks": ""
             }
            },
            "type": "scattergl"
           }
          ],
          "scattermapbox": [
           {
            "marker": {
             "colorbar": {
              "outlinewidth": 0,
              "ticks": ""
             }
            },
            "type": "scattermapbox"
           }
          ],
          "scatterpolar": [
           {
            "marker": {
             "colorbar": {
              "outlinewidth": 0,
              "ticks": ""
             }
            },
            "type": "scatterpolar"
           }
          ],
          "scatterpolargl": [
           {
            "marker": {
             "colorbar": {
              "outlinewidth": 0,
              "ticks": ""
             }
            },
            "type": "scatterpolargl"
           }
          ],
          "scatterternary": [
           {
            "marker": {
             "colorbar": {
              "outlinewidth": 0,
              "ticks": ""
             }
            },
            "type": "scatterternary"
           }
          ],
          "surface": [
           {
            "colorbar": {
             "outlinewidth": 0,
             "ticks": ""
            },
            "colorscale": [
             [
              0,
              "#0d0887"
             ],
             [
              0.1111111111111111,
              "#46039f"
             ],
             [
              0.2222222222222222,
              "#7201a8"
             ],
             [
              0.3333333333333333,
              "#9c179e"
             ],
             [
              0.4444444444444444,
              "#bd3786"
             ],
             [
              0.5555555555555556,
              "#d8576b"
             ],
             [
              0.6666666666666666,
              "#ed7953"
             ],
             [
              0.7777777777777778,
              "#fb9f3a"
             ],
             [
              0.8888888888888888,
              "#fdca26"
             ],
             [
              1,
              "#f0f921"
             ]
            ],
            "type": "surface"
           }
          ],
          "table": [
           {
            "cells": {
             "fill": {
              "color": "#EBF0F8"
             },
             "line": {
              "color": "white"
             }
            },
            "header": {
             "fill": {
              "color": "#C8D4E3"
             },
             "line": {
              "color": "white"
             }
            },
            "type": "table"
           }
          ]
         },
         "layout": {
          "annotationdefaults": {
           "arrowcolor": "#2a3f5f",
           "arrowhead": 0,
           "arrowwidth": 1
          },
          "autotypenumbers": "strict",
          "coloraxis": {
           "colorbar": {
            "outlinewidth": 0,
            "ticks": ""
           }
          },
          "colorscale": {
           "diverging": [
            [
             0,
             "#8e0152"
            ],
            [
             0.1,
             "#c51b7d"
            ],
            [
             0.2,
             "#de77ae"
            ],
            [
             0.3,
             "#f1b6da"
            ],
            [
             0.4,
             "#fde0ef"
            ],
            [
             0.5,
             "#f7f7f7"
            ],
            [
             0.6,
             "#e6f5d0"
            ],
            [
             0.7,
             "#b8e186"
            ],
            [
             0.8,
             "#7fbc41"
            ],
            [
             0.9,
             "#4d9221"
            ],
            [
             1,
             "#276419"
            ]
           ],
           "sequential": [
            [
             0,
             "#0d0887"
            ],
            [
             0.1111111111111111,
             "#46039f"
            ],
            [
             0.2222222222222222,
             "#7201a8"
            ],
            [
             0.3333333333333333,
             "#9c179e"
            ],
            [
             0.4444444444444444,
             "#bd3786"
            ],
            [
             0.5555555555555556,
             "#d8576b"
            ],
            [
             0.6666666666666666,
             "#ed7953"
            ],
            [
             0.7777777777777778,
             "#fb9f3a"
            ],
            [
             0.8888888888888888,
             "#fdca26"
            ],
            [
             1,
             "#f0f921"
            ]
           ],
           "sequentialminus": [
            [
             0,
             "#0d0887"
            ],
            [
             0.1111111111111111,
             "#46039f"
            ],
            [
             0.2222222222222222,
             "#7201a8"
            ],
            [
             0.3333333333333333,
             "#9c179e"
            ],
            [
             0.4444444444444444,
             "#bd3786"
            ],
            [
             0.5555555555555556,
             "#d8576b"
            ],
            [
             0.6666666666666666,
             "#ed7953"
            ],
            [
             0.7777777777777778,
             "#fb9f3a"
            ],
            [
             0.8888888888888888,
             "#fdca26"
            ],
            [
             1,
             "#f0f921"
            ]
           ]
          },
          "colorway": [
           "#636efa",
           "#EF553B",
           "#00cc96",
           "#ab63fa",
           "#FFA15A",
           "#19d3f3",
           "#FF6692",
           "#B6E880",
           "#FF97FF",
           "#FECB52"
          ],
          "font": {
           "color": "#2a3f5f"
          },
          "geo": {
           "bgcolor": "white",
           "lakecolor": "white",
           "landcolor": "#E5ECF6",
           "showlakes": true,
           "showland": true,
           "subunitcolor": "white"
          },
          "hoverlabel": {
           "align": "left"
          },
          "hovermode": "closest",
          "mapbox": {
           "style": "light"
          },
          "paper_bgcolor": "white",
          "plot_bgcolor": "#E5ECF6",
          "polar": {
           "angularaxis": {
            "gridcolor": "white",
            "linecolor": "white",
            "ticks": ""
           },
           "bgcolor": "#E5ECF6",
           "radialaxis": {
            "gridcolor": "white",
            "linecolor": "white",
            "ticks": ""
           }
          },
          "scene": {
           "xaxis": {
            "backgroundcolor": "#E5ECF6",
            "gridcolor": "white",
            "gridwidth": 2,
            "linecolor": "white",
            "showbackground": true,
            "ticks": "",
            "zerolinecolor": "white"
           },
           "yaxis": {
            "backgroundcolor": "#E5ECF6",
            "gridcolor": "white",
            "gridwidth": 2,
            "linecolor": "white",
            "showbackground": true,
            "ticks": "",
            "zerolinecolor": "white"
           },
           "zaxis": {
            "backgroundcolor": "#E5ECF6",
            "gridcolor": "white",
            "gridwidth": 2,
            "linecolor": "white",
            "showbackground": true,
            "ticks": "",
            "zerolinecolor": "white"
           }
          },
          "shapedefaults": {
           "line": {
            "color": "#2a3f5f"
           }
          },
          "ternary": {
           "aaxis": {
            "gridcolor": "white",
            "linecolor": "white",
            "ticks": ""
           },
           "baxis": {
            "gridcolor": "white",
            "linecolor": "white",
            "ticks": ""
           },
           "bgcolor": "#E5ECF6",
           "caxis": {
            "gridcolor": "white",
            "linecolor": "white",
            "ticks": ""
           }
          },
          "title": {
           "x": 0.05
          },
          "xaxis": {
           "automargin": true,
           "gridcolor": "white",
           "linecolor": "white",
           "ticks": "",
           "title": {
            "standoff": 15
           },
           "zerolinecolor": "white",
           "zerolinewidth": 2
          },
          "yaxis": {
           "automargin": true,
           "gridcolor": "white",
           "linecolor": "white",
           "ticks": "",
           "title": {
            "standoff": 15
           },
           "zerolinecolor": "white",
           "zerolinewidth": 2
          }
         }
        },
        "title": {
         "text": "Distribution of Topics in Eastern vs Western Themed Movies Over Cold War Periods"
        },
        "width": 1200,
        "xaxis": {
         "anchor": "y",
         "domain": [
          0,
          0.45
         ],
         "title": {
          "text": "Cold War Periods"
         }
        },
        "xaxis2": {
         "anchor": "y2",
         "domain": [
          0.55,
          1
         ],
         "title": {
          "text": "Cold War Periods"
         }
        },
        "yaxis": {
         "anchor": "x",
         "domain": [
          0,
          1
         ],
         "title": {
          "text": "Number of Movies"
         }
        },
        "yaxis2": {
         "anchor": "x2",
         "domain": [
          0,
          1
         ],
         "title": {
          "text": "Number of Movies"
         }
        }
       }
      }
     },
     "metadata": {},
     "output_type": "display_data"
    }
   ],
   "source": [
    "# Create subplots: one for Eastern and one for Western\n",
    "fig = make_subplots(\n",
    "    rows=1, cols=2,\n",
    "    subplot_titles=[\"Eastern Theme Topics Over Periods\", \"Western Theme Topics Over Periods\"]\n",
    ")\n",
    "\n",
    "# Add stacked bars for Eastern (with legend)\n",
    "for topic in eastern_df.columns:\n",
    "    fig.add_trace(\n",
    "        go.Bar(\n",
    "            x=periods,\n",
    "            y=eastern_df[topic],\n",
    "            name=topic,\n",
    "            marker_color=topic_colors[topic],\n",
    "            hovertemplate='Period: %{x}<br>Topic: '+topic+'<br>Count: %{y}<extra></extra>'\n",
    "        ),\n",
    "        row=1, col=1\n",
    "    )\n",
    "\n",
    "# Add stacked bars for Western (no legend)\n",
    "for topic in western_df.columns:\n",
    "    fig.add_trace(\n",
    "        go.Bar(\n",
    "            x=periods,\n",
    "            y=western_df[topic],\n",
    "            name=topic,\n",
    "            marker_color=topic_colors[topic],\n",
    "            hovertemplate='Period: %{x}<br>Topic: '+topic+'<br>Count: %{y}<extra></extra>',\n",
    "            showlegend=False  # Disable legend here\n",
    "        ),\n",
    "        row=1, col=2\n",
    "    )\n",
    "\n",
    "fig.update_layout(\n",
    "    barmode='stack',\n",
    "    title_text='Distribution of Topics in Eastern vs Western Themed Movies Over Cold War Periods',\n",
    "    # center the title\n",
    "    # title_x=0.5,\n",
    "    height=600, width=1200,\n",
    "    legend_title_text='Topics'\n",
    ")\n",
    "\n",
    "fig.update_xaxes(title_text=\"Cold War Periods\", row=1, col=1)\n",
    "fig.update_yaxes(title_text=\"Number of Movies\", row=1, col=1)\n",
    "\n",
    "fig.update_xaxes(title_text=\"Cold War Periods\", row=1, col=2)\n",
    "fig.update_yaxes(title_text=\"Number of Movies\", row=1, col=2)\n",
    "\n",
    "fig.show()"
   ]
  },
  {
   "cell_type": "code",
   "execution_count": 22,
   "metadata": {},
   "outputs": [
    {
     "name": "stdout",
     "output_type": "stream",
     "text": [
      "Eastern themes                    Romance & Social Dramas  War & Spy Dramas  \\\n",
      "Begin (47-53)                           22                12   \n",
      "Crisis (54-62)                          21                17   \n",
      "Detent (63-74)                          24                20   \n",
      "Second CW (75-84)                       19                20   \n",
      "End (85-91)                             14                25   \n",
      "\n",
      "                   Crime & Moral Thrillers  Political Dramas  \n",
      "Begin (47-53)                           49                15  \n",
      "Crisis (54-62)                          45                16  \n",
      "Detent (63-74)                          38                16  \n",
      "Second CW (75-84)                       45                14  \n",
      "End (85-91)                             42                18  \n",
      "Western themes                    Romance & Social Dramas  War & Spy Dramas  \\\n",
      "Begin (47-53)                           31                34   \n",
      "Crisis (54-62)                          32                33   \n",
      "Detent (63-74)                          39                30   \n",
      "Second CW (75-84)                       32                31   \n",
      "End (85-91)                             39                27   \n",
      "\n",
      "                   Crime & Moral Thrillers  Political Dramas  \n",
      "Begin (47-53)                           24                 9  \n",
      "Crisis (54-62)                          25                 9  \n",
      "Detent (63-74)                          17                12  \n",
      "Second CW (75-84)                       23                12  \n",
      "End (85-91)                             21                11  \n"
     ]
    },
    {
     "data": {
      "application/vnd.plotly.v1+json": {
       "config": {
        "plotlyServerURL": "https://plot.ly"
       },
       "data": [
        {
         "hovertemplate": "Period: %{x}<br>Topic: Romance & Social Dramas<br>Percentage: %{y:.1f}%<extra></extra>",
         "marker": {
          "color": "#1F6B5D"
         },
         "name": "Romance & Social Dramas",
         "type": "bar",
         "x": [
          "Begin (47-53)",
          "Crisis (54-62)",
          "Detent (63-74)",
          "Second CW (75-84)",
          "End (85-91)"
         ],
         "xaxis": "x",
         "y": [
          22.772277227722775,
          21.069182389937108,
          24.687144482366325,
          19.548872180451127,
          14.363143631436316
         ],
         "yaxis": "y"
        },
        {
         "hovertemplate": "Period: %{x}<br>Topic: War & Spy Dramas<br>Percentage: %{y:.1f}%<extra></extra>",
         "marker": {
          "color": "#06DD95"
         },
         "name": "War & Spy Dramas",
         "type": "bar",
         "x": [
          "Begin (47-53)",
          "Crisis (54-62)",
          "Detent (63-74)",
          "Second CW (75-84)",
          "End (85-91)"
         ],
         "xaxis": "x",
         "y": [
          12.376237623762377,
          17.29559748427673,
          20.25028441410694,
          20.902255639097746,
          25.203252032520325
         ],
         "yaxis": "y"
        },
        {
         "hovertemplate": "Period: %{x}<br>Topic: Crime & Moral Thrillers<br>Percentage: %{y:.1f}%<extra></extra>",
         "marker": {
          "color": "#FFE989"
         },
         "name": "Crime & Moral Thrillers",
         "type": "bar",
         "x": [
          "Begin (47-53)",
          "Crisis (54-62)",
          "Detent (63-74)",
          "Second CW (75-84)",
          "End (85-91)"
         ],
         "xaxis": "x",
         "y": [
          49.00990099009901,
          45.59748427672956,
          38.111490329920365,
          45.26315789473684,
          42.00542005420054
         ],
         "yaxis": "y"
        },
        {
         "hovertemplate": "Period: %{x}<br>Topic: Political Dramas<br>Percentage: %{y:.1f}%<extra></extra>",
         "marker": {
          "color": "#F58634"
         },
         "name": "Political Dramas",
         "type": "bar",
         "x": [
          "Begin (47-53)",
          "Crisis (54-62)",
          "Detent (63-74)",
          "Second CW (75-84)",
          "End (85-91)"
         ],
         "xaxis": "x",
         "y": [
          15.841584158415841,
          16.037735849056602,
          16.95108077360637,
          14.285714285714285,
          18.428184281842817
         ],
         "yaxis": "y"
        },
        {
         "hovertemplate": "Period: %{x}<br>Topic: Romance & Social Dramas<br>Percentage: %{y:.1f}%<extra></extra>",
         "marker": {
          "color": "#1F6B5D"
         },
         "name": "Romance & Social Dramas",
         "showlegend": false,
         "type": "bar",
         "x": [
          "Begin (47-53)",
          "Crisis (54-62)",
          "Detent (63-74)",
          "Second CW (75-84)",
          "End (85-91)"
         ],
         "xaxis": "x2",
         "y": [
          31.435079726651484,
          32.045088566827694,
          39.53488372093023,
          32.6171875,
          39.26499032882012
         ],
         "yaxis": "y2"
        },
        {
         "hovertemplate": "Period: %{x}<br>Topic: War & Spy Dramas<br>Percentage: %{y:.1f}%<extra></extra>",
         "marker": {
          "color": "#06DD95"
         },
         "name": "War & Spy Dramas",
         "showlegend": false,
         "type": "bar",
         "x": [
          "Begin (47-53)",
          "Crisis (54-62)",
          "Detent (63-74)",
          "Second CW (75-84)",
          "End (85-91)"
         ],
         "xaxis": "x2",
         "y": [
          34.851936218678816,
          33.011272141706925,
          30.54263565891473,
          31.4453125,
          27.852998065764023
         ],
         "yaxis": "y2"
        },
        {
         "hovertemplate": "Period: %{x}<br>Topic: Crime & Moral Thrillers<br>Percentage: %{y:.1f}%<extra></extra>",
         "marker": {
          "color": "#FFE989"
         },
         "name": "Crime & Moral Thrillers",
         "showlegend": false,
         "type": "bar",
         "x": [
          "Begin (47-53)",
          "Crisis (54-62)",
          "Detent (63-74)",
          "Second CW (75-84)",
          "End (85-91)"
         ],
         "xaxis": "x2",
         "y": [
          24.145785876993166,
          25.76489533011272,
          17.364341085271317,
          23.046875,
          21.08317214700193
         ],
         "yaxis": "y2"
        },
        {
         "hovertemplate": "Period: %{x}<br>Topic: Political Dramas<br>Percentage: %{y:.1f}%<extra></extra>",
         "marker": {
          "color": "#F58634"
         },
         "name": "Political Dramas",
         "showlegend": false,
         "type": "bar",
         "x": [
          "Begin (47-53)",
          "Crisis (54-62)",
          "Detent (63-74)",
          "Second CW (75-84)",
          "End (85-91)"
         ],
         "xaxis": "x2",
         "y": [
          9.567198177676538,
          9.178743961352657,
          12.558139534883722,
          12.890625,
          11.798839458413926
         ],
         "yaxis": "y2"
        }
       ],
       "layout": {
        "annotations": [
         {
          "font": {
           "size": 16
          },
          "showarrow": false,
          "text": "Eastern Theme Topics (Percentage)",
          "x": 0.225,
          "xanchor": "center",
          "xref": "paper",
          "y": 1,
          "yanchor": "bottom",
          "yref": "paper"
         },
         {
          "font": {
           "size": 16
          },
          "showarrow": false,
          "text": "Western Theme Topics (Percentage)",
          "x": 0.775,
          "xanchor": "center",
          "xref": "paper",
          "y": 1,
          "yanchor": "bottom",
          "yref": "paper"
         }
        ],
        "barmode": "stack",
        "font": {
         "family": "Helvetica"
        },
        "height": 600,
        "legend": {
         "title": {
          "text": "Topics"
         }
        },
        "plot_bgcolor": "#F2F2F2",
        "template": {
         "data": {
          "bar": [
           {
            "error_x": {
             "color": "#2a3f5f"
            },
            "error_y": {
             "color": "#2a3f5f"
            },
            "marker": {
             "line": {
              "color": "#E5ECF6",
              "width": 0.5
             },
             "pattern": {
              "fillmode": "overlay",
              "size": 10,
              "solidity": 0.2
             }
            },
            "type": "bar"
           }
          ],
          "barpolar": [
           {
            "marker": {
             "line": {
              "color": "#E5ECF6",
              "width": 0.5
             },
             "pattern": {
              "fillmode": "overlay",
              "size": 10,
              "solidity": 0.2
             }
            },
            "type": "barpolar"
           }
          ],
          "carpet": [
           {
            "aaxis": {
             "endlinecolor": "#2a3f5f",
             "gridcolor": "white",
             "linecolor": "white",
             "minorgridcolor": "white",
             "startlinecolor": "#2a3f5f"
            },
            "baxis": {
             "endlinecolor": "#2a3f5f",
             "gridcolor": "white",
             "linecolor": "white",
             "minorgridcolor": "white",
             "startlinecolor": "#2a3f5f"
            },
            "type": "carpet"
           }
          ],
          "choropleth": [
           {
            "colorbar": {
             "outlinewidth": 0,
             "ticks": ""
            },
            "type": "choropleth"
           }
          ],
          "contour": [
           {
            "colorbar": {
             "outlinewidth": 0,
             "ticks": ""
            },
            "colorscale": [
             [
              0,
              "#0d0887"
             ],
             [
              0.1111111111111111,
              "#46039f"
             ],
             [
              0.2222222222222222,
              "#7201a8"
             ],
             [
              0.3333333333333333,
              "#9c179e"
             ],
             [
              0.4444444444444444,
              "#bd3786"
             ],
             [
              0.5555555555555556,
              "#d8576b"
             ],
             [
              0.6666666666666666,
              "#ed7953"
             ],
             [
              0.7777777777777778,
              "#fb9f3a"
             ],
             [
              0.8888888888888888,
              "#fdca26"
             ],
             [
              1,
              "#f0f921"
             ]
            ],
            "type": "contour"
           }
          ],
          "contourcarpet": [
           {
            "colorbar": {
             "outlinewidth": 0,
             "ticks": ""
            },
            "type": "contourcarpet"
           }
          ],
          "heatmap": [
           {
            "colorbar": {
             "outlinewidth": 0,
             "ticks": ""
            },
            "colorscale": [
             [
              0,
              "#0d0887"
             ],
             [
              0.1111111111111111,
              "#46039f"
             ],
             [
              0.2222222222222222,
              "#7201a8"
             ],
             [
              0.3333333333333333,
              "#9c179e"
             ],
             [
              0.4444444444444444,
              "#bd3786"
             ],
             [
              0.5555555555555556,
              "#d8576b"
             ],
             [
              0.6666666666666666,
              "#ed7953"
             ],
             [
              0.7777777777777778,
              "#fb9f3a"
             ],
             [
              0.8888888888888888,
              "#fdca26"
             ],
             [
              1,
              "#f0f921"
             ]
            ],
            "type": "heatmap"
           }
          ],
          "heatmapgl": [
           {
            "colorbar": {
             "outlinewidth": 0,
             "ticks": ""
            },
            "colorscale": [
             [
              0,
              "#0d0887"
             ],
             [
              0.1111111111111111,
              "#46039f"
             ],
             [
              0.2222222222222222,
              "#7201a8"
             ],
             [
              0.3333333333333333,
              "#9c179e"
             ],
             [
              0.4444444444444444,
              "#bd3786"
             ],
             [
              0.5555555555555556,
              "#d8576b"
             ],
             [
              0.6666666666666666,
              "#ed7953"
             ],
             [
              0.7777777777777778,
              "#fb9f3a"
             ],
             [
              0.8888888888888888,
              "#fdca26"
             ],
             [
              1,
              "#f0f921"
             ]
            ],
            "type": "heatmapgl"
           }
          ],
          "histogram": [
           {
            "marker": {
             "pattern": {
              "fillmode": "overlay",
              "size": 10,
              "solidity": 0.2
             }
            },
            "type": "histogram"
           }
          ],
          "histogram2d": [
           {
            "colorbar": {
             "outlinewidth": 0,
             "ticks": ""
            },
            "colorscale": [
             [
              0,
              "#0d0887"
             ],
             [
              0.1111111111111111,
              "#46039f"
             ],
             [
              0.2222222222222222,
              "#7201a8"
             ],
             [
              0.3333333333333333,
              "#9c179e"
             ],
             [
              0.4444444444444444,
              "#bd3786"
             ],
             [
              0.5555555555555556,
              "#d8576b"
             ],
             [
              0.6666666666666666,
              "#ed7953"
             ],
             [
              0.7777777777777778,
              "#fb9f3a"
             ],
             [
              0.8888888888888888,
              "#fdca26"
             ],
             [
              1,
              "#f0f921"
             ]
            ],
            "type": "histogram2d"
           }
          ],
          "histogram2dcontour": [
           {
            "colorbar": {
             "outlinewidth": 0,
             "ticks": ""
            },
            "colorscale": [
             [
              0,
              "#0d0887"
             ],
             [
              0.1111111111111111,
              "#46039f"
             ],
             [
              0.2222222222222222,
              "#7201a8"
             ],
             [
              0.3333333333333333,
              "#9c179e"
             ],
             [
              0.4444444444444444,
              "#bd3786"
             ],
             [
              0.5555555555555556,
              "#d8576b"
             ],
             [
              0.6666666666666666,
              "#ed7953"
             ],
             [
              0.7777777777777778,
              "#fb9f3a"
             ],
             [
              0.8888888888888888,
              "#fdca26"
             ],
             [
              1,
              "#f0f921"
             ]
            ],
            "type": "histogram2dcontour"
           }
          ],
          "mesh3d": [
           {
            "colorbar": {
             "outlinewidth": 0,
             "ticks": ""
            },
            "type": "mesh3d"
           }
          ],
          "parcoords": [
           {
            "line": {
             "colorbar": {
              "outlinewidth": 0,
              "ticks": ""
             }
            },
            "type": "parcoords"
           }
          ],
          "pie": [
           {
            "automargin": true,
            "type": "pie"
           }
          ],
          "scatter": [
           {
            "fillpattern": {
             "fillmode": "overlay",
             "size": 10,
             "solidity": 0.2
            },
            "type": "scatter"
           }
          ],
          "scatter3d": [
           {
            "line": {
             "colorbar": {
              "outlinewidth": 0,
              "ticks": ""
             }
            },
            "marker": {
             "colorbar": {
              "outlinewidth": 0,
              "ticks": ""
             }
            },
            "type": "scatter3d"
           }
          ],
          "scattercarpet": [
           {
            "marker": {
             "colorbar": {
              "outlinewidth": 0,
              "ticks": ""
             }
            },
            "type": "scattercarpet"
           }
          ],
          "scattergeo": [
           {
            "marker": {
             "colorbar": {
              "outlinewidth": 0,
              "ticks": ""
             }
            },
            "type": "scattergeo"
           }
          ],
          "scattergl": [
           {
            "marker": {
             "colorbar": {
              "outlinewidth": 0,
              "ticks": ""
             }
            },
            "type": "scattergl"
           }
          ],
          "scattermapbox": [
           {
            "marker": {
             "colorbar": {
              "outlinewidth": 0,
              "ticks": ""
             }
            },
            "type": "scattermapbox"
           }
          ],
          "scatterpolar": [
           {
            "marker": {
             "colorbar": {
              "outlinewidth": 0,
              "ticks": ""
             }
            },
            "type": "scatterpolar"
           }
          ],
          "scatterpolargl": [
           {
            "marker": {
             "colorbar": {
              "outlinewidth": 0,
              "ticks": ""
             }
            },
            "type": "scatterpolargl"
           }
          ],
          "scatterternary": [
           {
            "marker": {
             "colorbar": {
              "outlinewidth": 0,
              "ticks": ""
             }
            },
            "type": "scatterternary"
           }
          ],
          "surface": [
           {
            "colorbar": {
             "outlinewidth": 0,
             "ticks": ""
            },
            "colorscale": [
             [
              0,
              "#0d0887"
             ],
             [
              0.1111111111111111,
              "#46039f"
             ],
             [
              0.2222222222222222,
              "#7201a8"
             ],
             [
              0.3333333333333333,
              "#9c179e"
             ],
             [
              0.4444444444444444,
              "#bd3786"
             ],
             [
              0.5555555555555556,
              "#d8576b"
             ],
             [
              0.6666666666666666,
              "#ed7953"
             ],
             [
              0.7777777777777778,
              "#fb9f3a"
             ],
             [
              0.8888888888888888,
              "#fdca26"
             ],
             [
              1,
              "#f0f921"
             ]
            ],
            "type": "surface"
           }
          ],
          "table": [
           {
            "cells": {
             "fill": {
              "color": "#EBF0F8"
             },
             "line": {
              "color": "white"
             }
            },
            "header": {
             "fill": {
              "color": "#C8D4E3"
             },
             "line": {
              "color": "white"
             }
            },
            "type": "table"
           }
          ]
         },
         "layout": {
          "annotationdefaults": {
           "arrowcolor": "#2a3f5f",
           "arrowhead": 0,
           "arrowwidth": 1
          },
          "autotypenumbers": "strict",
          "coloraxis": {
           "colorbar": {
            "outlinewidth": 0,
            "ticks": ""
           }
          },
          "colorscale": {
           "diverging": [
            [
             0,
             "#8e0152"
            ],
            [
             0.1,
             "#c51b7d"
            ],
            [
             0.2,
             "#de77ae"
            ],
            [
             0.3,
             "#f1b6da"
            ],
            [
             0.4,
             "#fde0ef"
            ],
            [
             0.5,
             "#f7f7f7"
            ],
            [
             0.6,
             "#e6f5d0"
            ],
            [
             0.7,
             "#b8e186"
            ],
            [
             0.8,
             "#7fbc41"
            ],
            [
             0.9,
             "#4d9221"
            ],
            [
             1,
             "#276419"
            ]
           ],
           "sequential": [
            [
             0,
             "#0d0887"
            ],
            [
             0.1111111111111111,
             "#46039f"
            ],
            [
             0.2222222222222222,
             "#7201a8"
            ],
            [
             0.3333333333333333,
             "#9c179e"
            ],
            [
             0.4444444444444444,
             "#bd3786"
            ],
            [
             0.5555555555555556,
             "#d8576b"
            ],
            [
             0.6666666666666666,
             "#ed7953"
            ],
            [
             0.7777777777777778,
             "#fb9f3a"
            ],
            [
             0.8888888888888888,
             "#fdca26"
            ],
            [
             1,
             "#f0f921"
            ]
           ],
           "sequentialminus": [
            [
             0,
             "#0d0887"
            ],
            [
             0.1111111111111111,
             "#46039f"
            ],
            [
             0.2222222222222222,
             "#7201a8"
            ],
            [
             0.3333333333333333,
             "#9c179e"
            ],
            [
             0.4444444444444444,
             "#bd3786"
            ],
            [
             0.5555555555555556,
             "#d8576b"
            ],
            [
             0.6666666666666666,
             "#ed7953"
            ],
            [
             0.7777777777777778,
             "#fb9f3a"
            ],
            [
             0.8888888888888888,
             "#fdca26"
            ],
            [
             1,
             "#f0f921"
            ]
           ]
          },
          "colorway": [
           "#636efa",
           "#EF553B",
           "#00cc96",
           "#ab63fa",
           "#FFA15A",
           "#19d3f3",
           "#FF6692",
           "#B6E880",
           "#FF97FF",
           "#FECB52"
          ],
          "font": {
           "color": "#2a3f5f"
          },
          "geo": {
           "bgcolor": "white",
           "lakecolor": "white",
           "landcolor": "#E5ECF6",
           "showlakes": true,
           "showland": true,
           "subunitcolor": "white"
          },
          "hoverlabel": {
           "align": "left"
          },
          "hovermode": "closest",
          "mapbox": {
           "style": "light"
          },
          "paper_bgcolor": "white",
          "plot_bgcolor": "#E5ECF6",
          "polar": {
           "angularaxis": {
            "gridcolor": "white",
            "linecolor": "white",
            "ticks": ""
           },
           "bgcolor": "#E5ECF6",
           "radialaxis": {
            "gridcolor": "white",
            "linecolor": "white",
            "ticks": ""
           }
          },
          "scene": {
           "xaxis": {
            "backgroundcolor": "#E5ECF6",
            "gridcolor": "white",
            "gridwidth": 2,
            "linecolor": "white",
            "showbackground": true,
            "ticks": "",
            "zerolinecolor": "white"
           },
           "yaxis": {
            "backgroundcolor": "#E5ECF6",
            "gridcolor": "white",
            "gridwidth": 2,
            "linecolor": "white",
            "showbackground": true,
            "ticks": "",
            "zerolinecolor": "white"
           },
           "zaxis": {
            "backgroundcolor": "#E5ECF6",
            "gridcolor": "white",
            "gridwidth": 2,
            "linecolor": "white",
            "showbackground": true,
            "ticks": "",
            "zerolinecolor": "white"
           }
          },
          "shapedefaults": {
           "line": {
            "color": "#2a3f5f"
           }
          },
          "ternary": {
           "aaxis": {
            "gridcolor": "white",
            "linecolor": "white",
            "ticks": ""
           },
           "baxis": {
            "gridcolor": "white",
            "linecolor": "white",
            "ticks": ""
           },
           "bgcolor": "#E5ECF6",
           "caxis": {
            "gridcolor": "white",
            "linecolor": "white",
            "ticks": ""
           }
          },
          "title": {
           "x": 0.05
          },
          "xaxis": {
           "automargin": true,
           "gridcolor": "white",
           "linecolor": "white",
           "ticks": "",
           "title": {
            "standoff": 15
           },
           "zerolinecolor": "white",
           "zerolinewidth": 2
          },
          "yaxis": {
           "automargin": true,
           "gridcolor": "white",
           "linecolor": "white",
           "ticks": "",
           "title": {
            "standoff": 15
           },
           "zerolinecolor": "white",
           "zerolinewidth": 2
          }
         }
        },
        "title": {
         "text": "Percentage Distribution of Topics in Eastern vs Western Themed Movies Over Cold War Periods"
        },
        "width": 1200,
        "xaxis": {
         "anchor": "y",
         "domain": [
          0,
          0.45
         ],
         "title": {
          "text": "Cold War Periods"
         }
        },
        "xaxis2": {
         "anchor": "y2",
         "domain": [
          0.55,
          1
         ],
         "title": {
          "text": "Cold War Periods"
         }
        },
        "yaxis": {
         "anchor": "x",
         "domain": [
          0,
          1
         ],
         "range": [
          0,
          100
         ],
         "ticksuffix": "%",
         "title": {
          "text": "Percentage of Movies"
         }
        },
        "yaxis2": {
         "anchor": "x2",
         "domain": [
          0,
          1
         ],
         "range": [
          0,
          100
         ],
         "ticksuffix": "%",
         "title": {
          "text": "Percentage of Movies"
         }
        }
       }
      }
     },
     "metadata": {},
     "output_type": "display_data"
    }
   ],
   "source": [
    "eastern_percent = eastern_df.div(eastern_df.sum(axis=1), axis=0) * 100\n",
    "western_percent = western_df.div(western_df.sum(axis=1), axis=0) * 100\n",
    "\n",
    "print(\"Eastern themes\", eastern_percent.astype(int))\n",
    "print(\"Western themes\", western_percent.astype(int))\n",
    "\n",
    "# change background color\n",
    "\n",
    "# Create subplots: one for Eastern and one for Western\n",
    "fig = make_subplots(\n",
    "    rows=1, cols=2,\n",
    "    subplot_titles=[\"Eastern Theme Topics (Percentage)\", \"Western Theme Topics (Percentage)\"]\n",
    "    \n",
    ")\n",
    "\n",
    "# Add stacked bars for Eastern (with legend)\n",
    "for topic in eastern_percent.columns:\n",
    "    fig.add_trace(\n",
    "        go.Bar(\n",
    "            x=periods,\n",
    "            y=eastern_percent[topic],\n",
    "            name=topic,\n",
    "            marker_color=topic_colors[topic],\n",
    "            hovertemplate='Period: %{x}<br>Topic: '+topic+'<br>Percentage: %{y:.1f}%<extra></extra>'\n",
    "        ),\n",
    "        row=1, col=1\n",
    "    )\n",
    "\n",
    "# Add stacked bars for Western (no legend to avoid duplication)\n",
    "for topic in western_percent.columns:\n",
    "    fig.add_trace(\n",
    "        go.Bar(\n",
    "            x=periods,\n",
    "            y=western_percent[topic],\n",
    "            name=topic,\n",
    "            marker_color=topic_colors[topic],\n",
    "            hovertemplate='Period: %{x}<br>Topic: '+topic+'<br>Percentage: %{y:.1f}%<extra></extra>',\n",
    "            showlegend=False\n",
    "        ),\n",
    "        row=1, col=2\n",
    "    )\n",
    "\n",
    "fig.update_layout(\n",
    "    barmode='stack',\n",
    "    title_text='Percentage Distribution of Topics in Eastern vs Western Themed Movies Over Cold War Periods',\n",
    "    height=600, width=1200,\n",
    "    legend_title_text='Topics',\n",
    "    font_family=\"Helvetica\",\n",
    "    plot_bgcolor='#F2F2F2',\n",
    ")\n",
    "\n",
    "fig.update_xaxes(title_text=\"Cold War Periods\", row=1, col=1)\n",
    "fig.update_yaxes(title_text=\"Percentage of Movies\", ticksuffix='%', range=[0,100], row=1, col=1)\n",
    "\n",
    "fig.update_xaxes(title_text=\"Cold War Periods\", row=1, col=2)\n",
    "fig.update_yaxes(title_text=\"Percentage of Movies\", ticksuffix='%', range=[0,100], row=1, col=2)\n",
    "\n",
    "# save as html\n",
    "# fig.write_html(\"plots/theme_topics.html\")\n",
    "\n",
    "fig.show()"
   ]
  },
  {
   "cell_type": "code",
   "execution_count": null,
   "metadata": {},
   "outputs": [
    {
     "data": {
      "application/vnd.plotly.v1+json": {
       "config": {
        "plotlyServerURL": "https://plot.ly"
       },
       "data": [
        {
         "hovertemplate": "Word: <b>%{y}</b><br>sqrt(OTF) = <b>%{x}</b><extra></extra>",
         "marker": {
          "color": "#F3BDBA",
          "opacity": 0.7
         },
         "name": "Overall Term Frequency (OTF)",
         "orientation": "h",
         "type": "bar",
         "width": 0.55,
         "x": [
          7.937253933193772,
          8.366600265340756,
          7.810249675906654,
          9,
          8.18535277187245,
          10,
          10.099504938362077,
          9,
          9,
          9.695359714832659,
          9,
          9.486832980505138,
          11.269427669584644,
          9.695359714832659,
          10.954451150103322,
          13.490737563232042,
          10.862780491200215,
          11.445523142259598,
          13.527749258468683,
          18
         ],
         "y": [
          "leader",
          "family",
          "martyr",
          "romantic",
          "community",
          "conflict",
          "mentor",
          "rebel",
          "bravery",
          "duty",
          "resistance",
          "collective",
          "struggle",
          "revolutionary",
          "justice",
          "tragic",
          "collectivism",
          "love",
          "sacrifice",
          "loyalty"
         ]
        },
        {
         "hovertemplate": "Word: <b>%{y}</b><br>sqrt(ETF) = <b>%{x}</b><extra></extra>",
         "marker": {
          "color": "#DD3C32"
         },
         "name": "Estimated Term Frequency within the topic (ETF)",
         "orientation": "h",
         "type": "bar",
         "width": 0.55,
         "x": [
          6.437107169100406,
          6.644309316020176,
          6.656463185330554,
          7.065319108394273,
          7.097109315339164,
          7.191027940344513,
          7.259029895334084,
          7.4911540117165885,
          7.549912820637973,
          7.649483636213146,
          7.650082511628289,
          7.986047453413521,
          8.051333427985368,
          8.07450284167427,
          8.17456190103944,
          8.766780432507773,
          9.004457909902088,
          9.924980174784714,
          11.152382295077599,
          13.991147856930588
         ],
         "y": [
          "leader",
          "family",
          "martyr",
          "romantic",
          "community",
          "conflict",
          "mentor",
          "rebel",
          "bravery",
          "duty",
          "resistance",
          "collective",
          "struggle",
          "revolutionary",
          "justice",
          "tragic",
          "collectivism",
          "love",
          "sacrifice",
          "loyalty"
         ]
        }
       ],
       "layout": {
        "barmode": "overlay",
        "height": 500,
        "legend": {
         "x": 0.95,
         "xanchor": "right",
         "y": 0.2,
         "yanchor": "top"
        },
        "margin": {
         "b": 50,
         "l": 30,
         "r": 30,
         "t": 50
        },
        "template": {
         "data": {
          "bar": [
           {
            "error_x": {
             "color": "#2a3f5f"
            },
            "error_y": {
             "color": "#2a3f5f"
            },
            "marker": {
             "line": {
              "color": "#E5ECF6",
              "width": 0.5
             },
             "pattern": {
              "fillmode": "overlay",
              "size": 10,
              "solidity": 0.2
             }
            },
            "type": "bar"
           }
          ],
          "barpolar": [
           {
            "marker": {
             "line": {
              "color": "#E5ECF6",
              "width": 0.5
             },
             "pattern": {
              "fillmode": "overlay",
              "size": 10,
              "solidity": 0.2
             }
            },
            "type": "barpolar"
           }
          ],
          "carpet": [
           {
            "aaxis": {
             "endlinecolor": "#2a3f5f",
             "gridcolor": "white",
             "linecolor": "white",
             "minorgridcolor": "white",
             "startlinecolor": "#2a3f5f"
            },
            "baxis": {
             "endlinecolor": "#2a3f5f",
             "gridcolor": "white",
             "linecolor": "white",
             "minorgridcolor": "white",
             "startlinecolor": "#2a3f5f"
            },
            "type": "carpet"
           }
          ],
          "choropleth": [
           {
            "colorbar": {
             "outlinewidth": 0,
             "ticks": ""
            },
            "type": "choropleth"
           }
          ],
          "contour": [
           {
            "colorbar": {
             "outlinewidth": 0,
             "ticks": ""
            },
            "colorscale": [
             [
              0,
              "#0d0887"
             ],
             [
              0.1111111111111111,
              "#46039f"
             ],
             [
              0.2222222222222222,
              "#7201a8"
             ],
             [
              0.3333333333333333,
              "#9c179e"
             ],
             [
              0.4444444444444444,
              "#bd3786"
             ],
             [
              0.5555555555555556,
              "#d8576b"
             ],
             [
              0.6666666666666666,
              "#ed7953"
             ],
             [
              0.7777777777777778,
              "#fb9f3a"
             ],
             [
              0.8888888888888888,
              "#fdca26"
             ],
             [
              1,
              "#f0f921"
             ]
            ],
            "type": "contour"
           }
          ],
          "contourcarpet": [
           {
            "colorbar": {
             "outlinewidth": 0,
             "ticks": ""
            },
            "type": "contourcarpet"
           }
          ],
          "heatmap": [
           {
            "colorbar": {
             "outlinewidth": 0,
             "ticks": ""
            },
            "colorscale": [
             [
              0,
              "#0d0887"
             ],
             [
              0.1111111111111111,
              "#46039f"
             ],
             [
              0.2222222222222222,
              "#7201a8"
             ],
             [
              0.3333333333333333,
              "#9c179e"
             ],
             [
              0.4444444444444444,
              "#bd3786"
             ],
             [
              0.5555555555555556,
              "#d8576b"
             ],
             [
              0.6666666666666666,
              "#ed7953"
             ],
             [
              0.7777777777777778,
              "#fb9f3a"
             ],
             [
              0.8888888888888888,
              "#fdca26"
             ],
             [
              1,
              "#f0f921"
             ]
            ],
            "type": "heatmap"
           }
          ],
          "heatmapgl": [
           {
            "colorbar": {
             "outlinewidth": 0,
             "ticks": ""
            },
            "colorscale": [
             [
              0,
              "#0d0887"
             ],
             [
              0.1111111111111111,
              "#46039f"
             ],
             [
              0.2222222222222222,
              "#7201a8"
             ],
             [
              0.3333333333333333,
              "#9c179e"
             ],
             [
              0.4444444444444444,
              "#bd3786"
             ],
             [
              0.5555555555555556,
              "#d8576b"
             ],
             [
              0.6666666666666666,
              "#ed7953"
             ],
             [
              0.7777777777777778,
              "#fb9f3a"
             ],
             [
              0.8888888888888888,
              "#fdca26"
             ],
             [
              1,
              "#f0f921"
             ]
            ],
            "type": "heatmapgl"
           }
          ],
          "histogram": [
           {
            "marker": {
             "pattern": {
              "fillmode": "overlay",
              "size": 10,
              "solidity": 0.2
             }
            },
            "type": "histogram"
           }
          ],
          "histogram2d": [
           {
            "colorbar": {
             "outlinewidth": 0,
             "ticks": ""
            },
            "colorscale": [
             [
              0,
              "#0d0887"
             ],
             [
              0.1111111111111111,
              "#46039f"
             ],
             [
              0.2222222222222222,
              "#7201a8"
             ],
             [
              0.3333333333333333,
              "#9c179e"
             ],
             [
              0.4444444444444444,
              "#bd3786"
             ],
             [
              0.5555555555555556,
              "#d8576b"
             ],
             [
              0.6666666666666666,
              "#ed7953"
             ],
             [
              0.7777777777777778,
              "#fb9f3a"
             ],
             [
              0.8888888888888888,
              "#fdca26"
             ],
             [
              1,
              "#f0f921"
             ]
            ],
            "type": "histogram2d"
           }
          ],
          "histogram2dcontour": [
           {
            "colorbar": {
             "outlinewidth": 0,
             "ticks": ""
            },
            "colorscale": [
             [
              0,
              "#0d0887"
             ],
             [
              0.1111111111111111,
              "#46039f"
             ],
             [
              0.2222222222222222,
              "#7201a8"
             ],
             [
              0.3333333333333333,
              "#9c179e"
             ],
             [
              0.4444444444444444,
              "#bd3786"
             ],
             [
              0.5555555555555556,
              "#d8576b"
             ],
             [
              0.6666666666666666,
              "#ed7953"
             ],
             [
              0.7777777777777778,
              "#fb9f3a"
             ],
             [
              0.8888888888888888,
              "#fdca26"
             ],
             [
              1,
              "#f0f921"
             ]
            ],
            "type": "histogram2dcontour"
           }
          ],
          "mesh3d": [
           {
            "colorbar": {
             "outlinewidth": 0,
             "ticks": ""
            },
            "type": "mesh3d"
           }
          ],
          "parcoords": [
           {
            "line": {
             "colorbar": {
              "outlinewidth": 0,
              "ticks": ""
             }
            },
            "type": "parcoords"
           }
          ],
          "pie": [
           {
            "automargin": true,
            "type": "pie"
           }
          ],
          "scatter": [
           {
            "fillpattern": {
             "fillmode": "overlay",
             "size": 10,
             "solidity": 0.2
            },
            "type": "scatter"
           }
          ],
          "scatter3d": [
           {
            "line": {
             "colorbar": {
              "outlinewidth": 0,
              "ticks": ""
             }
            },
            "marker": {
             "colorbar": {
              "outlinewidth": 0,
              "ticks": ""
             }
            },
            "type": "scatter3d"
           }
          ],
          "scattercarpet": [
           {
            "marker": {
             "colorbar": {
              "outlinewidth": 0,
              "ticks": ""
             }
            },
            "type": "scattercarpet"
           }
          ],
          "scattergeo": [
           {
            "marker": {
             "colorbar": {
              "outlinewidth": 0,
              "ticks": ""
             }
            },
            "type": "scattergeo"
           }
          ],
          "scattergl": [
           {
            "marker": {
             "colorbar": {
              "outlinewidth": 0,
              "ticks": ""
             }
            },
            "type": "scattergl"
           }
          ],
          "scattermapbox": [
           {
            "marker": {
             "colorbar": {
              "outlinewidth": 0,
              "ticks": ""
             }
            },
            "type": "scattermapbox"
           }
          ],
          "scatterpolar": [
           {
            "marker": {
             "colorbar": {
              "outlinewidth": 0,
              "ticks": ""
             }
            },
            "type": "scatterpolar"
           }
          ],
          "scatterpolargl": [
           {
            "marker": {
             "colorbar": {
              "outlinewidth": 0,
              "ticks": ""
             }
            },
            "type": "scatterpolargl"
           }
          ],
          "scatterternary": [
           {
            "marker": {
             "colorbar": {
              "outlinewidth": 0,
              "ticks": ""
             }
            },
            "type": "scatterternary"
           }
          ],
          "surface": [
           {
            "colorbar": {
             "outlinewidth": 0,
             "ticks": ""
            },
            "colorscale": [
             [
              0,
              "#0d0887"
             ],
             [
              0.1111111111111111,
              "#46039f"
             ],
             [
              0.2222222222222222,
              "#7201a8"
             ],
             [
              0.3333333333333333,
              "#9c179e"
             ],
             [
              0.4444444444444444,
              "#bd3786"
             ],
             [
              0.5555555555555556,
              "#d8576b"
             ],
             [
              0.6666666666666666,
              "#ed7953"
             ],
             [
              0.7777777777777778,
              "#fb9f3a"
             ],
             [
              0.8888888888888888,
              "#fdca26"
             ],
             [
              1,
              "#f0f921"
             ]
            ],
            "type": "surface"
           }
          ],
          "table": [
           {
            "cells": {
             "fill": {
              "color": "#EBF0F8"
             },
             "line": {
              "color": "white"
             }
            },
            "header": {
             "fill": {
              "color": "#C8D4E3"
             },
             "line": {
              "color": "white"
             }
            },
            "type": "table"
           }
          ]
         },
         "layout": {
          "annotationdefaults": {
           "arrowcolor": "#2a3f5f",
           "arrowhead": 0,
           "arrowwidth": 1
          },
          "autotypenumbers": "strict",
          "coloraxis": {
           "colorbar": {
            "outlinewidth": 0,
            "ticks": ""
           }
          },
          "colorscale": {
           "diverging": [
            [
             0,
             "#8e0152"
            ],
            [
             0.1,
             "#c51b7d"
            ],
            [
             0.2,
             "#de77ae"
            ],
            [
             0.3,
             "#f1b6da"
            ],
            [
             0.4,
             "#fde0ef"
            ],
            [
             0.5,
             "#f7f7f7"
            ],
            [
             0.6,
             "#e6f5d0"
            ],
            [
             0.7,
             "#b8e186"
            ],
            [
             0.8,
             "#7fbc41"
            ],
            [
             0.9,
             "#4d9221"
            ],
            [
             1,
             "#276419"
            ]
           ],
           "sequential": [
            [
             0,
             "#0d0887"
            ],
            [
             0.1111111111111111,
             "#46039f"
            ],
            [
             0.2222222222222222,
             "#7201a8"
            ],
            [
             0.3333333333333333,
             "#9c179e"
            ],
            [
             0.4444444444444444,
             "#bd3786"
            ],
            [
             0.5555555555555556,
             "#d8576b"
            ],
            [
             0.6666666666666666,
             "#ed7953"
            ],
            [
             0.7777777777777778,
             "#fb9f3a"
            ],
            [
             0.8888888888888888,
             "#fdca26"
            ],
            [
             1,
             "#f0f921"
            ]
           ],
           "sequentialminus": [
            [
             0,
             "#0d0887"
            ],
            [
             0.1111111111111111,
             "#46039f"
            ],
            [
             0.2222222222222222,
             "#7201a8"
            ],
            [
             0.3333333333333333,
             "#9c179e"
            ],
            [
             0.4444444444444444,
             "#bd3786"
            ],
            [
             0.5555555555555556,
             "#d8576b"
            ],
            [
             0.6666666666666666,
             "#ed7953"
            ],
            [
             0.7777777777777778,
             "#fb9f3a"
            ],
            [
             0.8888888888888888,
             "#fdca26"
            ],
            [
             1,
             "#f0f921"
            ]
           ]
          },
          "colorway": [
           "#636efa",
           "#EF553B",
           "#00cc96",
           "#ab63fa",
           "#FFA15A",
           "#19d3f3",
           "#FF6692",
           "#B6E880",
           "#FF97FF",
           "#FECB52"
          ],
          "font": {
           "color": "#2a3f5f"
          },
          "geo": {
           "bgcolor": "white",
           "lakecolor": "white",
           "landcolor": "#E5ECF6",
           "showlakes": true,
           "showland": true,
           "subunitcolor": "white"
          },
          "hoverlabel": {
           "align": "left"
          },
          "hovermode": "closest",
          "mapbox": {
           "style": "light"
          },
          "paper_bgcolor": "white",
          "plot_bgcolor": "#E5ECF6",
          "polar": {
           "angularaxis": {
            "gridcolor": "white",
            "linecolor": "white",
            "ticks": ""
           },
           "bgcolor": "#E5ECF6",
           "radialaxis": {
            "gridcolor": "white",
            "linecolor": "white",
            "ticks": ""
           }
          },
          "scene": {
           "xaxis": {
            "backgroundcolor": "#E5ECF6",
            "gridcolor": "white",
            "gridwidth": 2,
            "linecolor": "white",
            "showbackground": true,
            "ticks": "",
            "zerolinecolor": "white"
           },
           "yaxis": {
            "backgroundcolor": "#E5ECF6",
            "gridcolor": "white",
            "gridwidth": 2,
            "linecolor": "white",
            "showbackground": true,
            "ticks": "",
            "zerolinecolor": "white"
           },
           "zaxis": {
            "backgroundcolor": "#E5ECF6",
            "gridcolor": "white",
            "gridwidth": 2,
            "linecolor": "white",
            "showbackground": true,
            "ticks": "",
            "zerolinecolor": "white"
           }
          },
          "shapedefaults": {
           "line": {
            "color": "#2a3f5f"
           }
          },
          "ternary": {
           "aaxis": {
            "gridcolor": "white",
            "linecolor": "white",
            "ticks": ""
           },
           "baxis": {
            "gridcolor": "white",
            "linecolor": "white",
            "ticks": ""
           },
           "bgcolor": "#E5ECF6",
           "caxis": {
            "gridcolor": "white",
            "linecolor": "white",
            "ticks": ""
           }
          },
          "title": {
           "x": 0.05
          },
          "xaxis": {
           "automargin": true,
           "gridcolor": "white",
           "linecolor": "white",
           "ticks": "",
           "title": {
            "standoff": 15
           },
           "zerolinecolor": "white",
           "zerolinewidth": 2
          },
          "yaxis": {
           "automargin": true,
           "gridcolor": "white",
           "linecolor": "white",
           "ticks": "",
           "title": {
            "standoff": 15
           },
           "zerolinecolor": "white",
           "zerolinewidth": 2
          }
         }
        },
        "title": {
         "text": "Term Frequencies for archetype of the tragic devoted hero"
        },
        "width": 1000,
        "xaxis": {
         "title": {
          "text": "Frequency (sqrt scale)"
         }
        },
        "yaxis": {
         "title": {
          "text": "Words"
         }
        }
       }
      }
     },
     "metadata": {},
     "output_type": "display_data"
    },
    {
     "data": {
      "application/vnd.plotly.v1+json": {
       "config": {
        "plotlyServerURL": "https://plot.ly"
       },
       "data": [
        {
         "hovertemplate": "Word: <b>%{y}</b><br>sqrt(OTF) = <b>%{x}</b><extra></extra>",
         "marker": {
          "color": "#F3BDBA",
          "opacity": 0.7
         },
         "name": "Overall Term Frequency (OTF)",
         "orientation": "h",
         "type": "bar",
         "width": 0.55,
         "x": [
          5.291502622129181,
          5.477225575051661,
          6.244997998398398,
          6,
          5.656854249492381,
          5.656854249492381,
          6.557438524302,
          8.54400374531753,
          7.3484692283495345,
          8.48528137423857,
          8.48528137423857,
          10.099504938362077,
          11.269427669584644,
          7.615773105863909,
          8,
          12.449899597988733,
          13.490737563232042,
          9.695359714832659,
          9.219544457292887,
          15.0996688705415
         ],
         "y": [
          "tyranny",
          "american",
          "independence",
          "hope",
          "compassion",
          "trickster",
          "spirit",
          "determination",
          "innocent",
          "everyman",
          "rebellion",
          "mentor",
          "struggle",
          "innocence",
          "survival",
          "antihero",
          "tragic",
          "freedom",
          "victim",
          "resilience"
         ]
        },
        {
         "hovertemplate": "Word: <b>%{y}</b><br>sqrt(ETF) = <b>%{x}</b><extra></extra>",
         "marker": {
          "color": "#DD3C32"
         },
         "name": "Estimated Term Frequency within the topic (ETF)",
         "orientation": "h",
         "type": "bar",
         "width": 0.55,
         "x": [
          3.4837522976665496,
          4.068385588826571,
          4.172053125236329,
          4.41508756229971,
          4.463225013676432,
          4.553529513657689,
          4.770698467025288,
          4.928227228366459,
          5.184121780731766,
          5.219894128149193,
          5.398633865354134,
          5.740054270179569,
          5.939196573227935,
          6.037665520150498,
          6.158854197582113,
          6.634561522081389,
          6.756372979264092,
          6.950584004381766,
          7.349100099832305,
          11.302591617935803
         ],
         "y": [
          "tyranny",
          "american",
          "independence",
          "hope",
          "compassion",
          "trickster",
          "spirit",
          "determination",
          "innocent",
          "everyman",
          "rebellion",
          "mentor",
          "struggle",
          "innocence",
          "survival",
          "antihero",
          "tragic",
          "freedom",
          "victim",
          "resilience"
         ]
        }
       ],
       "layout": {
        "barmode": "overlay",
        "height": 500,
        "legend": {
         "x": 0.95,
         "xanchor": "right",
         "y": 0.2,
         "yanchor": "top"
        },
        "margin": {
         "b": 50,
         "l": 30,
         "r": 30,
         "t": 50
        },
        "template": {
         "data": {
          "bar": [
           {
            "error_x": {
             "color": "#2a3f5f"
            },
            "error_y": {
             "color": "#2a3f5f"
            },
            "marker": {
             "line": {
              "color": "#E5ECF6",
              "width": 0.5
             },
             "pattern": {
              "fillmode": "overlay",
              "size": 10,
              "solidity": 0.2
             }
            },
            "type": "bar"
           }
          ],
          "barpolar": [
           {
            "marker": {
             "line": {
              "color": "#E5ECF6",
              "width": 0.5
             },
             "pattern": {
              "fillmode": "overlay",
              "size": 10,
              "solidity": 0.2
             }
            },
            "type": "barpolar"
           }
          ],
          "carpet": [
           {
            "aaxis": {
             "endlinecolor": "#2a3f5f",
             "gridcolor": "white",
             "linecolor": "white",
             "minorgridcolor": "white",
             "startlinecolor": "#2a3f5f"
            },
            "baxis": {
             "endlinecolor": "#2a3f5f",
             "gridcolor": "white",
             "linecolor": "white",
             "minorgridcolor": "white",
             "startlinecolor": "#2a3f5f"
            },
            "type": "carpet"
           }
          ],
          "choropleth": [
           {
            "colorbar": {
             "outlinewidth": 0,
             "ticks": ""
            },
            "type": "choropleth"
           }
          ],
          "contour": [
           {
            "colorbar": {
             "outlinewidth": 0,
             "ticks": ""
            },
            "colorscale": [
             [
              0,
              "#0d0887"
             ],
             [
              0.1111111111111111,
              "#46039f"
             ],
             [
              0.2222222222222222,
              "#7201a8"
             ],
             [
              0.3333333333333333,
              "#9c179e"
             ],
             [
              0.4444444444444444,
              "#bd3786"
             ],
             [
              0.5555555555555556,
              "#d8576b"
             ],
             [
              0.6666666666666666,
              "#ed7953"
             ],
             [
              0.7777777777777778,
              "#fb9f3a"
             ],
             [
              0.8888888888888888,
              "#fdca26"
             ],
             [
              1,
              "#f0f921"
             ]
            ],
            "type": "contour"
           }
          ],
          "contourcarpet": [
           {
            "colorbar": {
             "outlinewidth": 0,
             "ticks": ""
            },
            "type": "contourcarpet"
           }
          ],
          "heatmap": [
           {
            "colorbar": {
             "outlinewidth": 0,
             "ticks": ""
            },
            "colorscale": [
             [
              0,
              "#0d0887"
             ],
             [
              0.1111111111111111,
              "#46039f"
             ],
             [
              0.2222222222222222,
              "#7201a8"
             ],
             [
              0.3333333333333333,
              "#9c179e"
             ],
             [
              0.4444444444444444,
              "#bd3786"
             ],
             [
              0.5555555555555556,
              "#d8576b"
             ],
             [
              0.6666666666666666,
              "#ed7953"
             ],
             [
              0.7777777777777778,
              "#fb9f3a"
             ],
             [
              0.8888888888888888,
              "#fdca26"
             ],
             [
              1,
              "#f0f921"
             ]
            ],
            "type": "heatmap"
           }
          ],
          "heatmapgl": [
           {
            "colorbar": {
             "outlinewidth": 0,
             "ticks": ""
            },
            "colorscale": [
             [
              0,
              "#0d0887"
             ],
             [
              0.1111111111111111,
              "#46039f"
             ],
             [
              0.2222222222222222,
              "#7201a8"
             ],
             [
              0.3333333333333333,
              "#9c179e"
             ],
             [
              0.4444444444444444,
              "#bd3786"
             ],
             [
              0.5555555555555556,
              "#d8576b"
             ],
             [
              0.6666666666666666,
              "#ed7953"
             ],
             [
              0.7777777777777778,
              "#fb9f3a"
             ],
             [
              0.8888888888888888,
              "#fdca26"
             ],
             [
              1,
              "#f0f921"
             ]
            ],
            "type": "heatmapgl"
           }
          ],
          "histogram": [
           {
            "marker": {
             "pattern": {
              "fillmode": "overlay",
              "size": 10,
              "solidity": 0.2
             }
            },
            "type": "histogram"
           }
          ],
          "histogram2d": [
           {
            "colorbar": {
             "outlinewidth": 0,
             "ticks": ""
            },
            "colorscale": [
             [
              0,
              "#0d0887"
             ],
             [
              0.1111111111111111,
              "#46039f"
             ],
             [
              0.2222222222222222,
              "#7201a8"
             ],
             [
              0.3333333333333333,
              "#9c179e"
             ],
             [
              0.4444444444444444,
              "#bd3786"
             ],
             [
              0.5555555555555556,
              "#d8576b"
             ],
             [
              0.6666666666666666,
              "#ed7953"
             ],
             [
              0.7777777777777778,
              "#fb9f3a"
             ],
             [
              0.8888888888888888,
              "#fdca26"
             ],
             [
              1,
              "#f0f921"
             ]
            ],
            "type": "histogram2d"
           }
          ],
          "histogram2dcontour": [
           {
            "colorbar": {
             "outlinewidth": 0,
             "ticks": ""
            },
            "colorscale": [
             [
              0,
              "#0d0887"
             ],
             [
              0.1111111111111111,
              "#46039f"
             ],
             [
              0.2222222222222222,
              "#7201a8"
             ],
             [
              0.3333333333333333,
              "#9c179e"
             ],
             [
              0.4444444444444444,
              "#bd3786"
             ],
             [
              0.5555555555555556,
              "#d8576b"
             ],
             [
              0.6666666666666666,
              "#ed7953"
             ],
             [
              0.7777777777777778,
              "#fb9f3a"
             ],
             [
              0.8888888888888888,
              "#fdca26"
             ],
             [
              1,
              "#f0f921"
             ]
            ],
            "type": "histogram2dcontour"
           }
          ],
          "mesh3d": [
           {
            "colorbar": {
             "outlinewidth": 0,
             "ticks": ""
            },
            "type": "mesh3d"
           }
          ],
          "parcoords": [
           {
            "line": {
             "colorbar": {
              "outlinewidth": 0,
              "ticks": ""
             }
            },
            "type": "parcoords"
           }
          ],
          "pie": [
           {
            "automargin": true,
            "type": "pie"
           }
          ],
          "scatter": [
           {
            "fillpattern": {
             "fillmode": "overlay",
             "size": 10,
             "solidity": 0.2
            },
            "type": "scatter"
           }
          ],
          "scatter3d": [
           {
            "line": {
             "colorbar": {
              "outlinewidth": 0,
              "ticks": ""
             }
            },
            "marker": {
             "colorbar": {
              "outlinewidth": 0,
              "ticks": ""
             }
            },
            "type": "scatter3d"
           }
          ],
          "scattercarpet": [
           {
            "marker": {
             "colorbar": {
              "outlinewidth": 0,
              "ticks": ""
             }
            },
            "type": "scattercarpet"
           }
          ],
          "scattergeo": [
           {
            "marker": {
             "colorbar": {
              "outlinewidth": 0,
              "ticks": ""
             }
            },
            "type": "scattergeo"
           }
          ],
          "scattergl": [
           {
            "marker": {
             "colorbar": {
              "outlinewidth": 0,
              "ticks": ""
             }
            },
            "type": "scattergl"
           }
          ],
          "scattermapbox": [
           {
            "marker": {
             "colorbar": {
              "outlinewidth": 0,
              "ticks": ""
             }
            },
            "type": "scattermapbox"
           }
          ],
          "scatterpolar": [
           {
            "marker": {
             "colorbar": {
              "outlinewidth": 0,
              "ticks": ""
             }
            },
            "type": "scatterpolar"
           }
          ],
          "scatterpolargl": [
           {
            "marker": {
             "colorbar": {
              "outlinewidth": 0,
              "ticks": ""
             }
            },
            "type": "scatterpolargl"
           }
          ],
          "scatterternary": [
           {
            "marker": {
             "colorbar": {
              "outlinewidth": 0,
              "ticks": ""
             }
            },
            "type": "scatterternary"
           }
          ],
          "surface": [
           {
            "colorbar": {
             "outlinewidth": 0,
             "ticks": ""
            },
            "colorscale": [
             [
              0,
              "#0d0887"
             ],
             [
              0.1111111111111111,
              "#46039f"
             ],
             [
              0.2222222222222222,
              "#7201a8"
             ],
             [
              0.3333333333333333,
              "#9c179e"
             ],
             [
              0.4444444444444444,
              "#bd3786"
             ],
             [
              0.5555555555555556,
              "#d8576b"
             ],
             [
              0.6666666666666666,
              "#ed7953"
             ],
             [
              0.7777777777777778,
              "#fb9f3a"
             ],
             [
              0.8888888888888888,
              "#fdca26"
             ],
             [
              1,
              "#f0f921"
             ]
            ],
            "type": "surface"
           }
          ],
          "table": [
           {
            "cells": {
             "fill": {
              "color": "#EBF0F8"
             },
             "line": {
              "color": "white"
             }
            },
            "header": {
             "fill": {
              "color": "#C8D4E3"
             },
             "line": {
              "color": "white"
             }
            },
            "type": "table"
           }
          ]
         },
         "layout": {
          "annotationdefaults": {
           "arrowcolor": "#2a3f5f",
           "arrowhead": 0,
           "arrowwidth": 1
          },
          "autotypenumbers": "strict",
          "coloraxis": {
           "colorbar": {
            "outlinewidth": 0,
            "ticks": ""
           }
          },
          "colorscale": {
           "diverging": [
            [
             0,
             "#8e0152"
            ],
            [
             0.1,
             "#c51b7d"
            ],
            [
             0.2,
             "#de77ae"
            ],
            [
             0.3,
             "#f1b6da"
            ],
            [
             0.4,
             "#fde0ef"
            ],
            [
             0.5,
             "#f7f7f7"
            ],
            [
             0.6,
             "#e6f5d0"
            ],
            [
             0.7,
             "#b8e186"
            ],
            [
             0.8,
             "#7fbc41"
            ],
            [
             0.9,
             "#4d9221"
            ],
            [
             1,
             "#276419"
            ]
           ],
           "sequential": [
            [
             0,
             "#0d0887"
            ],
            [
             0.1111111111111111,
             "#46039f"
            ],
            [
             0.2222222222222222,
             "#7201a8"
            ],
            [
             0.3333333333333333,
             "#9c179e"
            ],
            [
             0.4444444444444444,
             "#bd3786"
            ],
            [
             0.5555555555555556,
             "#d8576b"
            ],
            [
             0.6666666666666666,
             "#ed7953"
            ],
            [
             0.7777777777777778,
             "#fb9f3a"
            ],
            [
             0.8888888888888888,
             "#fdca26"
            ],
            [
             1,
             "#f0f921"
            ]
           ],
           "sequentialminus": [
            [
             0,
             "#0d0887"
            ],
            [
             0.1111111111111111,
             "#46039f"
            ],
            [
             0.2222222222222222,
             "#7201a8"
            ],
            [
             0.3333333333333333,
             "#9c179e"
            ],
            [
             0.4444444444444444,
             "#bd3786"
            ],
            [
             0.5555555555555556,
             "#d8576b"
            ],
            [
             0.6666666666666666,
             "#ed7953"
            ],
            [
             0.7777777777777778,
             "#fb9f3a"
            ],
            [
             0.8888888888888888,
             "#fdca26"
            ],
            [
             1,
             "#f0f921"
            ]
           ]
          },
          "colorway": [
           "#636efa",
           "#EF553B",
           "#00cc96",
           "#ab63fa",
           "#FFA15A",
           "#19d3f3",
           "#FF6692",
           "#B6E880",
           "#FF97FF",
           "#FECB52"
          ],
          "font": {
           "color": "#2a3f5f"
          },
          "geo": {
           "bgcolor": "white",
           "lakecolor": "white",
           "landcolor": "#E5ECF6",
           "showlakes": true,
           "showland": true,
           "subunitcolor": "white"
          },
          "hoverlabel": {
           "align": "left"
          },
          "hovermode": "closest",
          "mapbox": {
           "style": "light"
          },
          "paper_bgcolor": "white",
          "plot_bgcolor": "#E5ECF6",
          "polar": {
           "angularaxis": {
            "gridcolor": "white",
            "linecolor": "white",
            "ticks": ""
           },
           "bgcolor": "#E5ECF6",
           "radialaxis": {
            "gridcolor": "white",
            "linecolor": "white",
            "ticks": ""
           }
          },
          "scene": {
           "xaxis": {
            "backgroundcolor": "#E5ECF6",
            "gridcolor": "white",
            "gridwidth": 2,
            "linecolor": "white",
            "showbackground": true,
            "ticks": "",
            "zerolinecolor": "white"
           },
           "yaxis": {
            "backgroundcolor": "#E5ECF6",
            "gridcolor": "white",
            "gridwidth": 2,
            "linecolor": "white",
            "showbackground": true,
            "ticks": "",
            "zerolinecolor": "white"
           },
           "zaxis": {
            "backgroundcolor": "#E5ECF6",
            "gridcolor": "white",
            "gridwidth": 2,
            "linecolor": "white",
            "showbackground": true,
            "ticks": "",
            "zerolinecolor": "white"
           }
          },
          "shapedefaults": {
           "line": {
            "color": "#2a3f5f"
           }
          },
          "ternary": {
           "aaxis": {
            "gridcolor": "white",
            "linecolor": "white",
            "ticks": ""
           },
           "baxis": {
            "gridcolor": "white",
            "linecolor": "white",
            "ticks": ""
           },
           "bgcolor": "#E5ECF6",
           "caxis": {
            "gridcolor": "white",
            "linecolor": "white",
            "ticks": ""
           }
          },
          "title": {
           "x": 0.05
          },
          "xaxis": {
           "automargin": true,
           "gridcolor": "white",
           "linecolor": "white",
           "ticks": "",
           "title": {
            "standoff": 15
           },
           "zerolinecolor": "white",
           "zerolinewidth": 2
          },
          "yaxis": {
           "automargin": true,
           "gridcolor": "white",
           "linecolor": "white",
           "ticks": "",
           "title": {
            "standoff": 15
           },
           "zerolinecolor": "white",
           "zerolinewidth": 2
          }
         }
        },
        "title": {
         "text": "Term Frequencies for archetype of the resilient revolutionary"
        },
        "width": 1000,
        "xaxis": {
         "title": {
          "text": "Frequency (sqrt scale)"
         }
        },
        "yaxis": {
         "title": {
          "text": "Words"
         }
        }
       }
      }
     },
     "metadata": {},
     "output_type": "display_data"
    },
    {
     "data": {
      "application/vnd.plotly.v1+json": {
       "config": {
        "plotlyServerURL": "https://plot.ly"
       },
       "data": [
        {
         "hovertemplate": "Word: <b>%{y}</b><br>sqrt(OTF) = <b>%{x}</b><extra></extra>",
         "marker": {
          "color": "#F3BDBA",
          "opacity": 0.7
         },
         "name": "Overall Term Frequency (OTF)",
         "orientation": "h",
         "type": "bar",
         "width": 0.55,
         "x": [
          7.416198487095663,
          6.782329983125268,
          6.855654600401044,
          9,
          8,
          8.06225774829855,
          8.54400374531753,
          8.54400374531753,
          13.490737563232042,
          9.055385138137417,
          10,
          10.954451150103322,
          9.433981132056603,
          10.14889156509222,
          10,
          18,
          12.449899597988733,
          12.922847983320086,
          17.69180601295413,
          19.4164878389476
         ],
         "y": [
          "soldier",
          "authoritarian",
          "law",
          "moral",
          "cunne",
          "authoritarianism",
          "betrayal",
          "corruption",
          "tragic",
          "control",
          "ambition",
          "oppression",
          "greed",
          "manipulation",
          "power",
          "loyalty",
          "antihero",
          "authority",
          "villain",
          "antagonist"
         ]
        },
        {
         "hovertemplate": "Word: <b>%{y}</b><br>sqrt(ETF) = <b>%{x}</b><extra></extra>",
         "marker": {
          "color": "#DD3C32"
         },
         "name": "Estimated Term Frequency within the topic (ETF)",
         "orientation": "h",
         "type": "bar",
         "width": 0.55,
         "x": [
          5.249607556865976,
          5.961024877425273,
          5.996623129572205,
          6.195725952124665,
          6.661720286883954,
          7.084378820753981,
          7.208817817254223,
          7.446993566986672,
          7.777852237037432,
          8.067214234459463,
          8.346865344747131,
          8.353068478247138,
          8.498186246640442,
          8.965973798216924,
          9.0471482688599,
          9.107723538276272,
          9.465347783565328,
          10.803395878841647,
          15.455376949865864,
          16.474628287475802
         ],
         "y": [
          "soldier",
          "authoritarian",
          "law",
          "moral",
          "cunne",
          "authoritarianism",
          "betrayal",
          "corruption",
          "tragic",
          "control",
          "ambition",
          "oppression",
          "greed",
          "manipulation",
          "power",
          "loyalty",
          "antihero",
          "authority",
          "villain",
          "antagonist"
         ]
        }
       ],
       "layout": {
        "barmode": "overlay",
        "height": 500,
        "legend": {
         "x": 0.95,
         "xanchor": "right",
         "y": 0.2,
         "yanchor": "top"
        },
        "margin": {
         "b": 50,
         "l": 30,
         "r": 30,
         "t": 50
        },
        "template": {
         "data": {
          "bar": [
           {
            "error_x": {
             "color": "#2a3f5f"
            },
            "error_y": {
             "color": "#2a3f5f"
            },
            "marker": {
             "line": {
              "color": "#E5ECF6",
              "width": 0.5
             },
             "pattern": {
              "fillmode": "overlay",
              "size": 10,
              "solidity": 0.2
             }
            },
            "type": "bar"
           }
          ],
          "barpolar": [
           {
            "marker": {
             "line": {
              "color": "#E5ECF6",
              "width": 0.5
             },
             "pattern": {
              "fillmode": "overlay",
              "size": 10,
              "solidity": 0.2
             }
            },
            "type": "barpolar"
           }
          ],
          "carpet": [
           {
            "aaxis": {
             "endlinecolor": "#2a3f5f",
             "gridcolor": "white",
             "linecolor": "white",
             "minorgridcolor": "white",
             "startlinecolor": "#2a3f5f"
            },
            "baxis": {
             "endlinecolor": "#2a3f5f",
             "gridcolor": "white",
             "linecolor": "white",
             "minorgridcolor": "white",
             "startlinecolor": "#2a3f5f"
            },
            "type": "carpet"
           }
          ],
          "choropleth": [
           {
            "colorbar": {
             "outlinewidth": 0,
             "ticks": ""
            },
            "type": "choropleth"
           }
          ],
          "contour": [
           {
            "colorbar": {
             "outlinewidth": 0,
             "ticks": ""
            },
            "colorscale": [
             [
              0,
              "#0d0887"
             ],
             [
              0.1111111111111111,
              "#46039f"
             ],
             [
              0.2222222222222222,
              "#7201a8"
             ],
             [
              0.3333333333333333,
              "#9c179e"
             ],
             [
              0.4444444444444444,
              "#bd3786"
             ],
             [
              0.5555555555555556,
              "#d8576b"
             ],
             [
              0.6666666666666666,
              "#ed7953"
             ],
             [
              0.7777777777777778,
              "#fb9f3a"
             ],
             [
              0.8888888888888888,
              "#fdca26"
             ],
             [
              1,
              "#f0f921"
             ]
            ],
            "type": "contour"
           }
          ],
          "contourcarpet": [
           {
            "colorbar": {
             "outlinewidth": 0,
             "ticks": ""
            },
            "type": "contourcarpet"
           }
          ],
          "heatmap": [
           {
            "colorbar": {
             "outlinewidth": 0,
             "ticks": ""
            },
            "colorscale": [
             [
              0,
              "#0d0887"
             ],
             [
              0.1111111111111111,
              "#46039f"
             ],
             [
              0.2222222222222222,
              "#7201a8"
             ],
             [
              0.3333333333333333,
              "#9c179e"
             ],
             [
              0.4444444444444444,
              "#bd3786"
             ],
             [
              0.5555555555555556,
              "#d8576b"
             ],
             [
              0.6666666666666666,
              "#ed7953"
             ],
             [
              0.7777777777777778,
              "#fb9f3a"
             ],
             [
              0.8888888888888888,
              "#fdca26"
             ],
             [
              1,
              "#f0f921"
             ]
            ],
            "type": "heatmap"
           }
          ],
          "heatmapgl": [
           {
            "colorbar": {
             "outlinewidth": 0,
             "ticks": ""
            },
            "colorscale": [
             [
              0,
              "#0d0887"
             ],
             [
              0.1111111111111111,
              "#46039f"
             ],
             [
              0.2222222222222222,
              "#7201a8"
             ],
             [
              0.3333333333333333,
              "#9c179e"
             ],
             [
              0.4444444444444444,
              "#bd3786"
             ],
             [
              0.5555555555555556,
              "#d8576b"
             ],
             [
              0.6666666666666666,
              "#ed7953"
             ],
             [
              0.7777777777777778,
              "#fb9f3a"
             ],
             [
              0.8888888888888888,
              "#fdca26"
             ],
             [
              1,
              "#f0f921"
             ]
            ],
            "type": "heatmapgl"
           }
          ],
          "histogram": [
           {
            "marker": {
             "pattern": {
              "fillmode": "overlay",
              "size": 10,
              "solidity": 0.2
             }
            },
            "type": "histogram"
           }
          ],
          "histogram2d": [
           {
            "colorbar": {
             "outlinewidth": 0,
             "ticks": ""
            },
            "colorscale": [
             [
              0,
              "#0d0887"
             ],
             [
              0.1111111111111111,
              "#46039f"
             ],
             [
              0.2222222222222222,
              "#7201a8"
             ],
             [
              0.3333333333333333,
              "#9c179e"
             ],
             [
              0.4444444444444444,
              "#bd3786"
             ],
             [
              0.5555555555555556,
              "#d8576b"
             ],
             [
              0.6666666666666666,
              "#ed7953"
             ],
             [
              0.7777777777777778,
              "#fb9f3a"
             ],
             [
              0.8888888888888888,
              "#fdca26"
             ],
             [
              1,
              "#f0f921"
             ]
            ],
            "type": "histogram2d"
           }
          ],
          "histogram2dcontour": [
           {
            "colorbar": {
             "outlinewidth": 0,
             "ticks": ""
            },
            "colorscale": [
             [
              0,
              "#0d0887"
             ],
             [
              0.1111111111111111,
              "#46039f"
             ],
             [
              0.2222222222222222,
              "#7201a8"
             ],
             [
              0.3333333333333333,
              "#9c179e"
             ],
             [
              0.4444444444444444,
              "#bd3786"
             ],
             [
              0.5555555555555556,
              "#d8576b"
             ],
             [
              0.6666666666666666,
              "#ed7953"
             ],
             [
              0.7777777777777778,
              "#fb9f3a"
             ],
             [
              0.8888888888888888,
              "#fdca26"
             ],
             [
              1,
              "#f0f921"
             ]
            ],
            "type": "histogram2dcontour"
           }
          ],
          "mesh3d": [
           {
            "colorbar": {
             "outlinewidth": 0,
             "ticks": ""
            },
            "type": "mesh3d"
           }
          ],
          "parcoords": [
           {
            "line": {
             "colorbar": {
              "outlinewidth": 0,
              "ticks": ""
             }
            },
            "type": "parcoords"
           }
          ],
          "pie": [
           {
            "automargin": true,
            "type": "pie"
           }
          ],
          "scatter": [
           {
            "fillpattern": {
             "fillmode": "overlay",
             "size": 10,
             "solidity": 0.2
            },
            "type": "scatter"
           }
          ],
          "scatter3d": [
           {
            "line": {
             "colorbar": {
              "outlinewidth": 0,
              "ticks": ""
             }
            },
            "marker": {
             "colorbar": {
              "outlinewidth": 0,
              "ticks": ""
             }
            },
            "type": "scatter3d"
           }
          ],
          "scattercarpet": [
           {
            "marker": {
             "colorbar": {
              "outlinewidth": 0,
              "ticks": ""
             }
            },
            "type": "scattercarpet"
           }
          ],
          "scattergeo": [
           {
            "marker": {
             "colorbar": {
              "outlinewidth": 0,
              "ticks": ""
             }
            },
            "type": "scattergeo"
           }
          ],
          "scattergl": [
           {
            "marker": {
             "colorbar": {
              "outlinewidth": 0,
              "ticks": ""
             }
            },
            "type": "scattergl"
           }
          ],
          "scattermapbox": [
           {
            "marker": {
             "colorbar": {
              "outlinewidth": 0,
              "ticks": ""
             }
            },
            "type": "scattermapbox"
           }
          ],
          "scatterpolar": [
           {
            "marker": {
             "colorbar": {
              "outlinewidth": 0,
              "ticks": ""
             }
            },
            "type": "scatterpolar"
           }
          ],
          "scatterpolargl": [
           {
            "marker": {
             "colorbar": {
              "outlinewidth": 0,
              "ticks": ""
             }
            },
            "type": "scatterpolargl"
           }
          ],
          "scatterternary": [
           {
            "marker": {
             "colorbar": {
              "outlinewidth": 0,
              "ticks": ""
             }
            },
            "type": "scatterternary"
           }
          ],
          "surface": [
           {
            "colorbar": {
             "outlinewidth": 0,
             "ticks": ""
            },
            "colorscale": [
             [
              0,
              "#0d0887"
             ],
             [
              0.1111111111111111,
              "#46039f"
             ],
             [
              0.2222222222222222,
              "#7201a8"
             ],
             [
              0.3333333333333333,
              "#9c179e"
             ],
             [
              0.4444444444444444,
              "#bd3786"
             ],
             [
              0.5555555555555556,
              "#d8576b"
             ],
             [
              0.6666666666666666,
              "#ed7953"
             ],
             [
              0.7777777777777778,
              "#fb9f3a"
             ],
             [
              0.8888888888888888,
              "#fdca26"
             ],
             [
              1,
              "#f0f921"
             ]
            ],
            "type": "surface"
           }
          ],
          "table": [
           {
            "cells": {
             "fill": {
              "color": "#EBF0F8"
             },
             "line": {
              "color": "white"
             }
            },
            "header": {
             "fill": {
              "color": "#C8D4E3"
             },
             "line": {
              "color": "white"
             }
            },
            "type": "table"
           }
          ]
         },
         "layout": {
          "annotationdefaults": {
           "arrowcolor": "#2a3f5f",
           "arrowhead": 0,
           "arrowwidth": 1
          },
          "autotypenumbers": "strict",
          "coloraxis": {
           "colorbar": {
            "outlinewidth": 0,
            "ticks": ""
           }
          },
          "colorscale": {
           "diverging": [
            [
             0,
             "#8e0152"
            ],
            [
             0.1,
             "#c51b7d"
            ],
            [
             0.2,
             "#de77ae"
            ],
            [
             0.3,
             "#f1b6da"
            ],
            [
             0.4,
             "#fde0ef"
            ],
            [
             0.5,
             "#f7f7f7"
            ],
            [
             0.6,
             "#e6f5d0"
            ],
            [
             0.7,
             "#b8e186"
            ],
            [
             0.8,
             "#7fbc41"
            ],
            [
             0.9,
             "#4d9221"
            ],
            [
             1,
             "#276419"
            ]
           ],
           "sequential": [
            [
             0,
             "#0d0887"
            ],
            [
             0.1111111111111111,
             "#46039f"
            ],
            [
             0.2222222222222222,
             "#7201a8"
            ],
            [
             0.3333333333333333,
             "#9c179e"
            ],
            [
             0.4444444444444444,
             "#bd3786"
            ],
            [
             0.5555555555555556,
             "#d8576b"
            ],
            [
             0.6666666666666666,
             "#ed7953"
            ],
            [
             0.7777777777777778,
             "#fb9f3a"
            ],
            [
             0.8888888888888888,
             "#fdca26"
            ],
            [
             1,
             "#f0f921"
            ]
           ],
           "sequentialminus": [
            [
             0,
             "#0d0887"
            ],
            [
             0.1111111111111111,
             "#46039f"
            ],
            [
             0.2222222222222222,
             "#7201a8"
            ],
            [
             0.3333333333333333,
             "#9c179e"
            ],
            [
             0.4444444444444444,
             "#bd3786"
            ],
            [
             0.5555555555555556,
             "#d8576b"
            ],
            [
             0.6666666666666666,
             "#ed7953"
            ],
            [
             0.7777777777777778,
             "#fb9f3a"
            ],
            [
             0.8888888888888888,
             "#fdca26"
            ],
            [
             1,
             "#f0f921"
            ]
           ]
          },
          "colorway": [
           "#636efa",
           "#EF553B",
           "#00cc96",
           "#ab63fa",
           "#FFA15A",
           "#19d3f3",
           "#FF6692",
           "#B6E880",
           "#FF97FF",
           "#FECB52"
          ],
          "font": {
           "color": "#2a3f5f"
          },
          "geo": {
           "bgcolor": "white",
           "lakecolor": "white",
           "landcolor": "#E5ECF6",
           "showlakes": true,
           "showland": true,
           "subunitcolor": "white"
          },
          "hoverlabel": {
           "align": "left"
          },
          "hovermode": "closest",
          "mapbox": {
           "style": "light"
          },
          "paper_bgcolor": "white",
          "plot_bgcolor": "#E5ECF6",
          "polar": {
           "angularaxis": {
            "gridcolor": "white",
            "linecolor": "white",
            "ticks": ""
           },
           "bgcolor": "#E5ECF6",
           "radialaxis": {
            "gridcolor": "white",
            "linecolor": "white",
            "ticks": ""
           }
          },
          "scene": {
           "xaxis": {
            "backgroundcolor": "#E5ECF6",
            "gridcolor": "white",
            "gridwidth": 2,
            "linecolor": "white",
            "showbackground": true,
            "ticks": "",
            "zerolinecolor": "white"
           },
           "yaxis": {
            "backgroundcolor": "#E5ECF6",
            "gridcolor": "white",
            "gridwidth": 2,
            "linecolor": "white",
            "showbackground": true,
            "ticks": "",
            "zerolinecolor": "white"
           },
           "zaxis": {
            "backgroundcolor": "#E5ECF6",
            "gridcolor": "white",
            "gridwidth": 2,
            "linecolor": "white",
            "showbackground": true,
            "ticks": "",
            "zerolinecolor": "white"
           }
          },
          "shapedefaults": {
           "line": {
            "color": "#2a3f5f"
           }
          },
          "ternary": {
           "aaxis": {
            "gridcolor": "white",
            "linecolor": "white",
            "ticks": ""
           },
           "baxis": {
            "gridcolor": "white",
            "linecolor": "white",
            "ticks": ""
           },
           "bgcolor": "#E5ECF6",
           "caxis": {
            "gridcolor": "white",
            "linecolor": "white",
            "ticks": ""
           }
          },
          "title": {
           "x": 0.05
          },
          "xaxis": {
           "automargin": true,
           "gridcolor": "white",
           "linecolor": "white",
           "ticks": "",
           "title": {
            "standoff": 15
           },
           "zerolinecolor": "white",
           "zerolinewidth": 2
          },
          "yaxis": {
           "automargin": true,
           "gridcolor": "white",
           "linecolor": "white",
           "ticks": "",
           "title": {
            "standoff": 15
           },
           "zerolinecolor": "white",
           "zerolinewidth": 2
          }
         }
        },
        "title": {
         "text": "Term Frequencies for archetype of the power-hungry manipulative villain"
        },
        "width": 1000,
        "xaxis": {
         "title": {
          "text": "Frequency (sqrt scale)"
         }
        },
        "yaxis": {
         "title": {
          "text": "Words"
         }
        }
       }
      }
     },
     "metadata": {},
     "output_type": "display_data"
    }
   ],
   "source": [
    "lda_model, corpus, dictionary = eastern_char_topic\n",
    "overall_term_freq = compute_overall_term_freq(corpus, dictionary)\n",
    "est_term_freq_by_topic = compute_estimated_term_freq(lda_model, corpus, dictionary, 20)\n",
    "plotly_term_frequencies(est_term_freq_by_topic, overall_term_freq, ['#DD3C32','#F3BDBA'], EAST_ARCHETYPES_MAP)"
   ]
  },
  {
   "cell_type": "code",
   "execution_count": null,
   "metadata": {},
   "outputs": [
    {
     "data": {
      "application/vnd.plotly.v1+json": {
       "config": {
        "plotlyServerURL": "https://plot.ly"
       },
       "data": [
        {
         "hovertemplate": "Word: <b>%{y}</b><br>sqrt(OTF) = <b>%{x}</b><extra></extra>",
         "marker": {
          "color": "#9FD2F9",
          "opacity": 0.7
         },
         "name": "Overall Term Frequency (OTF)",
         "orientation": "h",
         "type": "bar",
         "width": 0.55,
         "x": [
          5.385164807134504,
          6.164414002968976,
          7.3484692283495345,
          6.48074069840786,
          6.164414002968976,
          7.810249675906654,
          7.3484692283495345,
          7.0710678118654755,
          8,
          9.848857801796104,
          10.246950765959598,
          7.615773105863909,
          11.357816691600547,
          8.54400374531753,
          9.38083151964686,
          9.9498743710662,
          10.099504938362077,
          14.45683229480096,
          15.716233645501712,
          13.30413469565007
         ],
         "y": [
          "cunne",
          "determine",
          "self",
          "british",
          "patriotism",
          "leader",
          "soldier",
          "resourceful",
          "redemption",
          "heroic",
          "protagonist",
          "trickster",
          "resilience",
          "truth",
          "honor",
          "duty",
          "courage",
          "antihero",
          "loyalty",
          "american"
         ]
        },
        {
         "hovertemplate": "Word: <b>%{y}</b><br>sqrt(ETF) = <b>%{x}</b><extra></extra>",
         "marker": {
          "color": "#0F89E6"
         },
         "name": "Estimated Term Frequency within the topic (ETF)",
         "orientation": "h",
         "type": "bar",
         "width": 0.55,
         "x": [
          4.405942312617169,
          4.719405633965643,
          4.926477945278465,
          5.085392297214669,
          5.098996035313416,
          5.221044431490857,
          5.80971970641011,
          5.821003203403927,
          6.0141695181546195,
          6.137855978951552,
          6.263463309169711,
          6.3618522383626255,
          6.385231031444112,
          6.6914103864845185,
          7.439321381075149,
          7.620767287237886,
          7.823685081744062,
          8.138086957077961,
          8.667183495250352,
          8.764166247139238
         ],
         "y": [
          "cunne",
          "determine",
          "self",
          "british",
          "patriotism",
          "leader",
          "soldier",
          "resourceful",
          "redemption",
          "heroic",
          "protagonist",
          "trickster",
          "resilience",
          "truth",
          "honor",
          "duty",
          "courage",
          "antihero",
          "loyalty",
          "american"
         ]
        }
       ],
       "layout": {
        "barmode": "overlay",
        "height": 500,
        "legend": {
         "x": 0.95,
         "xanchor": "right",
         "y": 0.2,
         "yanchor": "top"
        },
        "margin": {
         "b": 50,
         "l": 30,
         "r": 30,
         "t": 50
        },
        "template": {
         "data": {
          "bar": [
           {
            "error_x": {
             "color": "#2a3f5f"
            },
            "error_y": {
             "color": "#2a3f5f"
            },
            "marker": {
             "line": {
              "color": "#E5ECF6",
              "width": 0.5
             },
             "pattern": {
              "fillmode": "overlay",
              "size": 10,
              "solidity": 0.2
             }
            },
            "type": "bar"
           }
          ],
          "barpolar": [
           {
            "marker": {
             "line": {
              "color": "#E5ECF6",
              "width": 0.5
             },
             "pattern": {
              "fillmode": "overlay",
              "size": 10,
              "solidity": 0.2
             }
            },
            "type": "barpolar"
           }
          ],
          "carpet": [
           {
            "aaxis": {
             "endlinecolor": "#2a3f5f",
             "gridcolor": "white",
             "linecolor": "white",
             "minorgridcolor": "white",
             "startlinecolor": "#2a3f5f"
            },
            "baxis": {
             "endlinecolor": "#2a3f5f",
             "gridcolor": "white",
             "linecolor": "white",
             "minorgridcolor": "white",
             "startlinecolor": "#2a3f5f"
            },
            "type": "carpet"
           }
          ],
          "choropleth": [
           {
            "colorbar": {
             "outlinewidth": 0,
             "ticks": ""
            },
            "type": "choropleth"
           }
          ],
          "contour": [
           {
            "colorbar": {
             "outlinewidth": 0,
             "ticks": ""
            },
            "colorscale": [
             [
              0,
              "#0d0887"
             ],
             [
              0.1111111111111111,
              "#46039f"
             ],
             [
              0.2222222222222222,
              "#7201a8"
             ],
             [
              0.3333333333333333,
              "#9c179e"
             ],
             [
              0.4444444444444444,
              "#bd3786"
             ],
             [
              0.5555555555555556,
              "#d8576b"
             ],
             [
              0.6666666666666666,
              "#ed7953"
             ],
             [
              0.7777777777777778,
              "#fb9f3a"
             ],
             [
              0.8888888888888888,
              "#fdca26"
             ],
             [
              1,
              "#f0f921"
             ]
            ],
            "type": "contour"
           }
          ],
          "contourcarpet": [
           {
            "colorbar": {
             "outlinewidth": 0,
             "ticks": ""
            },
            "type": "contourcarpet"
           }
          ],
          "heatmap": [
           {
            "colorbar": {
             "outlinewidth": 0,
             "ticks": ""
            },
            "colorscale": [
             [
              0,
              "#0d0887"
             ],
             [
              0.1111111111111111,
              "#46039f"
             ],
             [
              0.2222222222222222,
              "#7201a8"
             ],
             [
              0.3333333333333333,
              "#9c179e"
             ],
             [
              0.4444444444444444,
              "#bd3786"
             ],
             [
              0.5555555555555556,
              "#d8576b"
             ],
             [
              0.6666666666666666,
              "#ed7953"
             ],
             [
              0.7777777777777778,
              "#fb9f3a"
             ],
             [
              0.8888888888888888,
              "#fdca26"
             ],
             [
              1,
              "#f0f921"
             ]
            ],
            "type": "heatmap"
           }
          ],
          "heatmapgl": [
           {
            "colorbar": {
             "outlinewidth": 0,
             "ticks": ""
            },
            "colorscale": [
             [
              0,
              "#0d0887"
             ],
             [
              0.1111111111111111,
              "#46039f"
             ],
             [
              0.2222222222222222,
              "#7201a8"
             ],
             [
              0.3333333333333333,
              "#9c179e"
             ],
             [
              0.4444444444444444,
              "#bd3786"
             ],
             [
              0.5555555555555556,
              "#d8576b"
             ],
             [
              0.6666666666666666,
              "#ed7953"
             ],
             [
              0.7777777777777778,
              "#fb9f3a"
             ],
             [
              0.8888888888888888,
              "#fdca26"
             ],
             [
              1,
              "#f0f921"
             ]
            ],
            "type": "heatmapgl"
           }
          ],
          "histogram": [
           {
            "marker": {
             "pattern": {
              "fillmode": "overlay",
              "size": 10,
              "solidity": 0.2
             }
            },
            "type": "histogram"
           }
          ],
          "histogram2d": [
           {
            "colorbar": {
             "outlinewidth": 0,
             "ticks": ""
            },
            "colorscale": [
             [
              0,
              "#0d0887"
             ],
             [
              0.1111111111111111,
              "#46039f"
             ],
             [
              0.2222222222222222,
              "#7201a8"
             ],
             [
              0.3333333333333333,
              "#9c179e"
             ],
             [
              0.4444444444444444,
              "#bd3786"
             ],
             [
              0.5555555555555556,
              "#d8576b"
             ],
             [
              0.6666666666666666,
              "#ed7953"
             ],
             [
              0.7777777777777778,
              "#fb9f3a"
             ],
             [
              0.8888888888888888,
              "#fdca26"
             ],
             [
              1,
              "#f0f921"
             ]
            ],
            "type": "histogram2d"
           }
          ],
          "histogram2dcontour": [
           {
            "colorbar": {
             "outlinewidth": 0,
             "ticks": ""
            },
            "colorscale": [
             [
              0,
              "#0d0887"
             ],
             [
              0.1111111111111111,
              "#46039f"
             ],
             [
              0.2222222222222222,
              "#7201a8"
             ],
             [
              0.3333333333333333,
              "#9c179e"
             ],
             [
              0.4444444444444444,
              "#bd3786"
             ],
             [
              0.5555555555555556,
              "#d8576b"
             ],
             [
              0.6666666666666666,
              "#ed7953"
             ],
             [
              0.7777777777777778,
              "#fb9f3a"
             ],
             [
              0.8888888888888888,
              "#fdca26"
             ],
             [
              1,
              "#f0f921"
             ]
            ],
            "type": "histogram2dcontour"
           }
          ],
          "mesh3d": [
           {
            "colorbar": {
             "outlinewidth": 0,
             "ticks": ""
            },
            "type": "mesh3d"
           }
          ],
          "parcoords": [
           {
            "line": {
             "colorbar": {
              "outlinewidth": 0,
              "ticks": ""
             }
            },
            "type": "parcoords"
           }
          ],
          "pie": [
           {
            "automargin": true,
            "type": "pie"
           }
          ],
          "scatter": [
           {
            "fillpattern": {
             "fillmode": "overlay",
             "size": 10,
             "solidity": 0.2
            },
            "type": "scatter"
           }
          ],
          "scatter3d": [
           {
            "line": {
             "colorbar": {
              "outlinewidth": 0,
              "ticks": ""
             }
            },
            "marker": {
             "colorbar": {
              "outlinewidth": 0,
              "ticks": ""
             }
            },
            "type": "scatter3d"
           }
          ],
          "scattercarpet": [
           {
            "marker": {
             "colorbar": {
              "outlinewidth": 0,
              "ticks": ""
             }
            },
            "type": "scattercarpet"
           }
          ],
          "scattergeo": [
           {
            "marker": {
             "colorbar": {
              "outlinewidth": 0,
              "ticks": ""
             }
            },
            "type": "scattergeo"
           }
          ],
          "scattergl": [
           {
            "marker": {
             "colorbar": {
              "outlinewidth": 0,
              "ticks": ""
             }
            },
            "type": "scattergl"
           }
          ],
          "scattermapbox": [
           {
            "marker": {
             "colorbar": {
              "outlinewidth": 0,
              "ticks": ""
             }
            },
            "type": "scattermapbox"
           }
          ],
          "scatterpolar": [
           {
            "marker": {
             "colorbar": {
              "outlinewidth": 0,
              "ticks": ""
             }
            },
            "type": "scatterpolar"
           }
          ],
          "scatterpolargl": [
           {
            "marker": {
             "colorbar": {
              "outlinewidth": 0,
              "ticks": ""
             }
            },
            "type": "scatterpolargl"
           }
          ],
          "scatterternary": [
           {
            "marker": {
             "colorbar": {
              "outlinewidth": 0,
              "ticks": ""
             }
            },
            "type": "scatterternary"
           }
          ],
          "surface": [
           {
            "colorbar": {
             "outlinewidth": 0,
             "ticks": ""
            },
            "colorscale": [
             [
              0,
              "#0d0887"
             ],
             [
              0.1111111111111111,
              "#46039f"
             ],
             [
              0.2222222222222222,
              "#7201a8"
             ],
             [
              0.3333333333333333,
              "#9c179e"
             ],
             [
              0.4444444444444444,
              "#bd3786"
             ],
             [
              0.5555555555555556,
              "#d8576b"
             ],
             [
              0.6666666666666666,
              "#ed7953"
             ],
             [
              0.7777777777777778,
              "#fb9f3a"
             ],
             [
              0.8888888888888888,
              "#fdca26"
             ],
             [
              1,
              "#f0f921"
             ]
            ],
            "type": "surface"
           }
          ],
          "table": [
           {
            "cells": {
             "fill": {
              "color": "#EBF0F8"
             },
             "line": {
              "color": "white"
             }
            },
            "header": {
             "fill": {
              "color": "#C8D4E3"
             },
             "line": {
              "color": "white"
             }
            },
            "type": "table"
           }
          ]
         },
         "layout": {
          "annotationdefaults": {
           "arrowcolor": "#2a3f5f",
           "arrowhead": 0,
           "arrowwidth": 1
          },
          "autotypenumbers": "strict",
          "coloraxis": {
           "colorbar": {
            "outlinewidth": 0,
            "ticks": ""
           }
          },
          "colorscale": {
           "diverging": [
            [
             0,
             "#8e0152"
            ],
            [
             0.1,
             "#c51b7d"
            ],
            [
             0.2,
             "#de77ae"
            ],
            [
             0.3,
             "#f1b6da"
            ],
            [
             0.4,
             "#fde0ef"
            ],
            [
             0.5,
             "#f7f7f7"
            ],
            [
             0.6,
             "#e6f5d0"
            ],
            [
             0.7,
             "#b8e186"
            ],
            [
             0.8,
             "#7fbc41"
            ],
            [
             0.9,
             "#4d9221"
            ],
            [
             1,
             "#276419"
            ]
           ],
           "sequential": [
            [
             0,
             "#0d0887"
            ],
            [
             0.1111111111111111,
             "#46039f"
            ],
            [
             0.2222222222222222,
             "#7201a8"
            ],
            [
             0.3333333333333333,
             "#9c179e"
            ],
            [
             0.4444444444444444,
             "#bd3786"
            ],
            [
             0.5555555555555556,
             "#d8576b"
            ],
            [
             0.6666666666666666,
             "#ed7953"
            ],
            [
             0.7777777777777778,
             "#fb9f3a"
            ],
            [
             0.8888888888888888,
             "#fdca26"
            ],
            [
             1,
             "#f0f921"
            ]
           ],
           "sequentialminus": [
            [
             0,
             "#0d0887"
            ],
            [
             0.1111111111111111,
             "#46039f"
            ],
            [
             0.2222222222222222,
             "#7201a8"
            ],
            [
             0.3333333333333333,
             "#9c179e"
            ],
            [
             0.4444444444444444,
             "#bd3786"
            ],
            [
             0.5555555555555556,
             "#d8576b"
            ],
            [
             0.6666666666666666,
             "#ed7953"
            ],
            [
             0.7777777777777778,
             "#fb9f3a"
            ],
            [
             0.8888888888888888,
             "#fdca26"
            ],
            [
             1,
             "#f0f921"
            ]
           ]
          },
          "colorway": [
           "#636efa",
           "#EF553B",
           "#00cc96",
           "#ab63fa",
           "#FFA15A",
           "#19d3f3",
           "#FF6692",
           "#B6E880",
           "#FF97FF",
           "#FECB52"
          ],
          "font": {
           "color": "#2a3f5f"
          },
          "geo": {
           "bgcolor": "white",
           "lakecolor": "white",
           "landcolor": "#E5ECF6",
           "showlakes": true,
           "showland": true,
           "subunitcolor": "white"
          },
          "hoverlabel": {
           "align": "left"
          },
          "hovermode": "closest",
          "mapbox": {
           "style": "light"
          },
          "paper_bgcolor": "white",
          "plot_bgcolor": "#E5ECF6",
          "polar": {
           "angularaxis": {
            "gridcolor": "white",
            "linecolor": "white",
            "ticks": ""
           },
           "bgcolor": "#E5ECF6",
           "radialaxis": {
            "gridcolor": "white",
            "linecolor": "white",
            "ticks": ""
           }
          },
          "scene": {
           "xaxis": {
            "backgroundcolor": "#E5ECF6",
            "gridcolor": "white",
            "gridwidth": 2,
            "linecolor": "white",
            "showbackground": true,
            "ticks": "",
            "zerolinecolor": "white"
           },
           "yaxis": {
            "backgroundcolor": "#E5ECF6",
            "gridcolor": "white",
            "gridwidth": 2,
            "linecolor": "white",
            "showbackground": true,
            "ticks": "",
            "zerolinecolor": "white"
           },
           "zaxis": {
            "backgroundcolor": "#E5ECF6",
            "gridcolor": "white",
            "gridwidth": 2,
            "linecolor": "white",
            "showbackground": true,
            "ticks": "",
            "zerolinecolor": "white"
           }
          },
          "shapedefaults": {
           "line": {
            "color": "#2a3f5f"
           }
          },
          "ternary": {
           "aaxis": {
            "gridcolor": "white",
            "linecolor": "white",
            "ticks": ""
           },
           "baxis": {
            "gridcolor": "white",
            "linecolor": "white",
            "ticks": ""
           },
           "bgcolor": "#E5ECF6",
           "caxis": {
            "gridcolor": "white",
            "linecolor": "white",
            "ticks": ""
           }
          },
          "title": {
           "x": 0.05
          },
          "xaxis": {
           "automargin": true,
           "gridcolor": "white",
           "linecolor": "white",
           "ticks": "",
           "title": {
            "standoff": 15
           },
           "zerolinecolor": "white",
           "zerolinewidth": 2
          },
          "yaxis": {
           "automargin": true,
           "gridcolor": "white",
           "linecolor": "white",
           "ticks": "",
           "title": {
            "standoff": 15
           },
           "zerolinecolor": "white",
           "zerolinewidth": 2
          }
         }
        },
        "title": {
         "text": "Term Frequencies for archetype of the brave loyal soldier"
        },
        "width": 1000,
        "xaxis": {
         "title": {
          "text": "Frequency (sqrt scale)"
         }
        },
        "yaxis": {
         "title": {
          "text": "Words"
         }
        }
       }
      }
     },
     "metadata": {},
     "output_type": "display_data"
    },
    {
     "data": {
      "application/vnd.plotly.v1+json": {
       "config": {
        "plotlyServerURL": "https://plot.ly"
       },
       "data": [
        {
         "hovertemplate": "Word: <b>%{y}</b><br>sqrt(OTF) = <b>%{x}</b><extra></extra>",
         "marker": {
          "color": "#9FD2F9",
          "opacity": 0.7
         },
         "name": "Overall Term Frequency (OTF)",
         "orientation": "h",
         "type": "bar",
         "width": 0.55,
         "x": [
          6.855654600401044,
          8.246211251235321,
          7.3484692283495345,
          8.426149773176359,
          9.848857801796104,
          8.426149773176359,
          8.306623862918075,
          9.1104335791443,
          10.488088481701515,
          11.61895003862225,
          13.30413469565007,
          9.9498743710662,
          10.099504938362077,
          10.392304845413264,
          11.61895003862225,
          14.45683229480096,
          12.84523257866513,
          15.716233645501712,
          17.08800749063506,
          17.08800749063506
         ],
         "y": [
          "idealism",
          "mentor",
          "resourcefulness",
          "camaraderie",
          "heroic",
          "family",
          "rebel",
          "moral",
          "love",
          "determination",
          "american",
          "sacrifice",
          "leadership",
          "tragic",
          "everyman",
          "antihero",
          "freedom",
          "loyalty",
          "bravery",
          "individualism"
         ]
        },
        {
         "hovertemplate": "Word: <b>%{y}</b><br>sqrt(ETF) = <b>%{x}</b><extra></extra>",
         "marker": {
          "color": "#0F89E6"
         },
         "name": "Estimated Term Frequency within the topic (ETF)",
         "orientation": "h",
         "type": "bar",
         "width": 0.55,
         "x": [
          5.357296873018792,
          5.602298044516455,
          6.019244794323576,
          6.029726871323387,
          6.399075388696772,
          6.649190844339558,
          6.719882968257102,
          6.828357824048655,
          6.8768467397892685,
          7.355478936277964,
          7.545676323272916,
          7.844628212691098,
          7.924970059834672,
          8.168368710577354,
          8.782141812226417,
          9.130162177573984,
          10.536113255661462,
          11.295134900053416,
          13.571825090033723,
          13.853436102881577
         ],
         "y": [
          "idealism",
          "mentor",
          "resourcefulness",
          "camaraderie",
          "heroic",
          "family",
          "rebel",
          "moral",
          "love",
          "determination",
          "american",
          "sacrifice",
          "leadership",
          "tragic",
          "everyman",
          "antihero",
          "freedom",
          "loyalty",
          "bravery",
          "individualism"
         ]
        }
       ],
       "layout": {
        "barmode": "overlay",
        "height": 500,
        "legend": {
         "x": 0.95,
         "xanchor": "right",
         "y": 0.2,
         "yanchor": "top"
        },
        "margin": {
         "b": 50,
         "l": 30,
         "r": 30,
         "t": 50
        },
        "template": {
         "data": {
          "bar": [
           {
            "error_x": {
             "color": "#2a3f5f"
            },
            "error_y": {
             "color": "#2a3f5f"
            },
            "marker": {
             "line": {
              "color": "#E5ECF6",
              "width": 0.5
             },
             "pattern": {
              "fillmode": "overlay",
              "size": 10,
              "solidity": 0.2
             }
            },
            "type": "bar"
           }
          ],
          "barpolar": [
           {
            "marker": {
             "line": {
              "color": "#E5ECF6",
              "width": 0.5
             },
             "pattern": {
              "fillmode": "overlay",
              "size": 10,
              "solidity": 0.2
             }
            },
            "type": "barpolar"
           }
          ],
          "carpet": [
           {
            "aaxis": {
             "endlinecolor": "#2a3f5f",
             "gridcolor": "white",
             "linecolor": "white",
             "minorgridcolor": "white",
             "startlinecolor": "#2a3f5f"
            },
            "baxis": {
             "endlinecolor": "#2a3f5f",
             "gridcolor": "white",
             "linecolor": "white",
             "minorgridcolor": "white",
             "startlinecolor": "#2a3f5f"
            },
            "type": "carpet"
           }
          ],
          "choropleth": [
           {
            "colorbar": {
             "outlinewidth": 0,
             "ticks": ""
            },
            "type": "choropleth"
           }
          ],
          "contour": [
           {
            "colorbar": {
             "outlinewidth": 0,
             "ticks": ""
            },
            "colorscale": [
             [
              0,
              "#0d0887"
             ],
             [
              0.1111111111111111,
              "#46039f"
             ],
             [
              0.2222222222222222,
              "#7201a8"
             ],
             [
              0.3333333333333333,
              "#9c179e"
             ],
             [
              0.4444444444444444,
              "#bd3786"
             ],
             [
              0.5555555555555556,
              "#d8576b"
             ],
             [
              0.6666666666666666,
              "#ed7953"
             ],
             [
              0.7777777777777778,
              "#fb9f3a"
             ],
             [
              0.8888888888888888,
              "#fdca26"
             ],
             [
              1,
              "#f0f921"
             ]
            ],
            "type": "contour"
           }
          ],
          "contourcarpet": [
           {
            "colorbar": {
             "outlinewidth": 0,
             "ticks": ""
            },
            "type": "contourcarpet"
           }
          ],
          "heatmap": [
           {
            "colorbar": {
             "outlinewidth": 0,
             "ticks": ""
            },
            "colorscale": [
             [
              0,
              "#0d0887"
             ],
             [
              0.1111111111111111,
              "#46039f"
             ],
             [
              0.2222222222222222,
              "#7201a8"
             ],
             [
              0.3333333333333333,
              "#9c179e"
             ],
             [
              0.4444444444444444,
              "#bd3786"
             ],
             [
              0.5555555555555556,
              "#d8576b"
             ],
             [
              0.6666666666666666,
              "#ed7953"
             ],
             [
              0.7777777777777778,
              "#fb9f3a"
             ],
             [
              0.8888888888888888,
              "#fdca26"
             ],
             [
              1,
              "#f0f921"
             ]
            ],
            "type": "heatmap"
           }
          ],
          "heatmapgl": [
           {
            "colorbar": {
             "outlinewidth": 0,
             "ticks": ""
            },
            "colorscale": [
             [
              0,
              "#0d0887"
             ],
             [
              0.1111111111111111,
              "#46039f"
             ],
             [
              0.2222222222222222,
              "#7201a8"
             ],
             [
              0.3333333333333333,
              "#9c179e"
             ],
             [
              0.4444444444444444,
              "#bd3786"
             ],
             [
              0.5555555555555556,
              "#d8576b"
             ],
             [
              0.6666666666666666,
              "#ed7953"
             ],
             [
              0.7777777777777778,
              "#fb9f3a"
             ],
             [
              0.8888888888888888,
              "#fdca26"
             ],
             [
              1,
              "#f0f921"
             ]
            ],
            "type": "heatmapgl"
           }
          ],
          "histogram": [
           {
            "marker": {
             "pattern": {
              "fillmode": "overlay",
              "size": 10,
              "solidity": 0.2
             }
            },
            "type": "histogram"
           }
          ],
          "histogram2d": [
           {
            "colorbar": {
             "outlinewidth": 0,
             "ticks": ""
            },
            "colorscale": [
             [
              0,
              "#0d0887"
             ],
             [
              0.1111111111111111,
              "#46039f"
             ],
             [
              0.2222222222222222,
              "#7201a8"
             ],
             [
              0.3333333333333333,
              "#9c179e"
             ],
             [
              0.4444444444444444,
              "#bd3786"
             ],
             [
              0.5555555555555556,
              "#d8576b"
             ],
             [
              0.6666666666666666,
              "#ed7953"
             ],
             [
              0.7777777777777778,
              "#fb9f3a"
             ],
             [
              0.8888888888888888,
              "#fdca26"
             ],
             [
              1,
              "#f0f921"
             ]
            ],
            "type": "histogram2d"
           }
          ],
          "histogram2dcontour": [
           {
            "colorbar": {
             "outlinewidth": 0,
             "ticks": ""
            },
            "colorscale": [
             [
              0,
              "#0d0887"
             ],
             [
              0.1111111111111111,
              "#46039f"
             ],
             [
              0.2222222222222222,
              "#7201a8"
             ],
             [
              0.3333333333333333,
              "#9c179e"
             ],
             [
              0.4444444444444444,
              "#bd3786"
             ],
             [
              0.5555555555555556,
              "#d8576b"
             ],
             [
              0.6666666666666666,
              "#ed7953"
             ],
             [
              0.7777777777777778,
              "#fb9f3a"
             ],
             [
              0.8888888888888888,
              "#fdca26"
             ],
             [
              1,
              "#f0f921"
             ]
            ],
            "type": "histogram2dcontour"
           }
          ],
          "mesh3d": [
           {
            "colorbar": {
             "outlinewidth": 0,
             "ticks": ""
            },
            "type": "mesh3d"
           }
          ],
          "parcoords": [
           {
            "line": {
             "colorbar": {
              "outlinewidth": 0,
              "ticks": ""
             }
            },
            "type": "parcoords"
           }
          ],
          "pie": [
           {
            "automargin": true,
            "type": "pie"
           }
          ],
          "scatter": [
           {
            "fillpattern": {
             "fillmode": "overlay",
             "size": 10,
             "solidity": 0.2
            },
            "type": "scatter"
           }
          ],
          "scatter3d": [
           {
            "line": {
             "colorbar": {
              "outlinewidth": 0,
              "ticks": ""
             }
            },
            "marker": {
             "colorbar": {
              "outlinewidth": 0,
              "ticks": ""
             }
            },
            "type": "scatter3d"
           }
          ],
          "scattercarpet": [
           {
            "marker": {
             "colorbar": {
              "outlinewidth": 0,
              "ticks": ""
             }
            },
            "type": "scattercarpet"
           }
          ],
          "scattergeo": [
           {
            "marker": {
             "colorbar": {
              "outlinewidth": 0,
              "ticks": ""
             }
            },
            "type": "scattergeo"
           }
          ],
          "scattergl": [
           {
            "marker": {
             "colorbar": {
              "outlinewidth": 0,
              "ticks": ""
             }
            },
            "type": "scattergl"
           }
          ],
          "scattermapbox": [
           {
            "marker": {
             "colorbar": {
              "outlinewidth": 0,
              "ticks": ""
             }
            },
            "type": "scattermapbox"
           }
          ],
          "scatterpolar": [
           {
            "marker": {
             "colorbar": {
              "outlinewidth": 0,
              "ticks": ""
             }
            },
            "type": "scatterpolar"
           }
          ],
          "scatterpolargl": [
           {
            "marker": {
             "colorbar": {
              "outlinewidth": 0,
              "ticks": ""
             }
            },
            "type": "scatterpolargl"
           }
          ],
          "scatterternary": [
           {
            "marker": {
             "colorbar": {
              "outlinewidth": 0,
              "ticks": ""
             }
            },
            "type": "scatterternary"
           }
          ],
          "surface": [
           {
            "colorbar": {
             "outlinewidth": 0,
             "ticks": ""
            },
            "colorscale": [
             [
              0,
              "#0d0887"
             ],
             [
              0.1111111111111111,
              "#46039f"
             ],
             [
              0.2222222222222222,
              "#7201a8"
             ],
             [
              0.3333333333333333,
              "#9c179e"
             ],
             [
              0.4444444444444444,
              "#bd3786"
             ],
             [
              0.5555555555555556,
              "#d8576b"
             ],
             [
              0.6666666666666666,
              "#ed7953"
             ],
             [
              0.7777777777777778,
              "#fb9f3a"
             ],
             [
              0.8888888888888888,
              "#fdca26"
             ],
             [
              1,
              "#f0f921"
             ]
            ],
            "type": "surface"
           }
          ],
          "table": [
           {
            "cells": {
             "fill": {
              "color": "#EBF0F8"
             },
             "line": {
              "color": "white"
             }
            },
            "header": {
             "fill": {
              "color": "#C8D4E3"
             },
             "line": {
              "color": "white"
             }
            },
            "type": "table"
           }
          ]
         },
         "layout": {
          "annotationdefaults": {
           "arrowcolor": "#2a3f5f",
           "arrowhead": 0,
           "arrowwidth": 1
          },
          "autotypenumbers": "strict",
          "coloraxis": {
           "colorbar": {
            "outlinewidth": 0,
            "ticks": ""
           }
          },
          "colorscale": {
           "diverging": [
            [
             0,
             "#8e0152"
            ],
            [
             0.1,
             "#c51b7d"
            ],
            [
             0.2,
             "#de77ae"
            ],
            [
             0.3,
             "#f1b6da"
            ],
            [
             0.4,
             "#fde0ef"
            ],
            [
             0.5,
             "#f7f7f7"
            ],
            [
             0.6,
             "#e6f5d0"
            ],
            [
             0.7,
             "#b8e186"
            ],
            [
             0.8,
             "#7fbc41"
            ],
            [
             0.9,
             "#4d9221"
            ],
            [
             1,
             "#276419"
            ]
           ],
           "sequential": [
            [
             0,
             "#0d0887"
            ],
            [
             0.1111111111111111,
             "#46039f"
            ],
            [
             0.2222222222222222,
             "#7201a8"
            ],
            [
             0.3333333333333333,
             "#9c179e"
            ],
            [
             0.4444444444444444,
             "#bd3786"
            ],
            [
             0.5555555555555556,
             "#d8576b"
            ],
            [
             0.6666666666666666,
             "#ed7953"
            ],
            [
             0.7777777777777778,
             "#fb9f3a"
            ],
            [
             0.8888888888888888,
             "#fdca26"
            ],
            [
             1,
             "#f0f921"
            ]
           ],
           "sequentialminus": [
            [
             0,
             "#0d0887"
            ],
            [
             0.1111111111111111,
             "#46039f"
            ],
            [
             0.2222222222222222,
             "#7201a8"
            ],
            [
             0.3333333333333333,
             "#9c179e"
            ],
            [
             0.4444444444444444,
             "#bd3786"
            ],
            [
             0.5555555555555556,
             "#d8576b"
            ],
            [
             0.6666666666666666,
             "#ed7953"
            ],
            [
             0.7777777777777778,
             "#fb9f3a"
            ],
            [
             0.8888888888888888,
             "#fdca26"
            ],
            [
             1,
             "#f0f921"
            ]
           ]
          },
          "colorway": [
           "#636efa",
           "#EF553B",
           "#00cc96",
           "#ab63fa",
           "#FFA15A",
           "#19d3f3",
           "#FF6692",
           "#B6E880",
           "#FF97FF",
           "#FECB52"
          ],
          "font": {
           "color": "#2a3f5f"
          },
          "geo": {
           "bgcolor": "white",
           "lakecolor": "white",
           "landcolor": "#E5ECF6",
           "showlakes": true,
           "showland": true,
           "subunitcolor": "white"
          },
          "hoverlabel": {
           "align": "left"
          },
          "hovermode": "closest",
          "mapbox": {
           "style": "light"
          },
          "paper_bgcolor": "white",
          "plot_bgcolor": "#E5ECF6",
          "polar": {
           "angularaxis": {
            "gridcolor": "white",
            "linecolor": "white",
            "ticks": ""
           },
           "bgcolor": "#E5ECF6",
           "radialaxis": {
            "gridcolor": "white",
            "linecolor": "white",
            "ticks": ""
           }
          },
          "scene": {
           "xaxis": {
            "backgroundcolor": "#E5ECF6",
            "gridcolor": "white",
            "gridwidth": 2,
            "linecolor": "white",
            "showbackground": true,
            "ticks": "",
            "zerolinecolor": "white"
           },
           "yaxis": {
            "backgroundcolor": "#E5ECF6",
            "gridcolor": "white",
            "gridwidth": 2,
            "linecolor": "white",
            "showbackground": true,
            "ticks": "",
            "zerolinecolor": "white"
           },
           "zaxis": {
            "backgroundcolor": "#E5ECF6",
            "gridcolor": "white",
            "gridwidth": 2,
            "linecolor": "white",
            "showbackground": true,
            "ticks": "",
            "zerolinecolor": "white"
           }
          },
          "shapedefaults": {
           "line": {
            "color": "#2a3f5f"
           }
          },
          "ternary": {
           "aaxis": {
            "gridcolor": "white",
            "linecolor": "white",
            "ticks": ""
           },
           "baxis": {
            "gridcolor": "white",
            "linecolor": "white",
            "ticks": ""
           },
           "bgcolor": "#E5ECF6",
           "caxis": {
            "gridcolor": "white",
            "linecolor": "white",
            "ticks": ""
           }
          },
          "title": {
           "x": 0.05
          },
          "xaxis": {
           "automargin": true,
           "gridcolor": "white",
           "linecolor": "white",
           "ticks": "",
           "title": {
            "standoff": 15
           },
           "zerolinecolor": "white",
           "zerolinewidth": 2
          },
          "yaxis": {
           "automargin": true,
           "gridcolor": "white",
           "linecolor": "white",
           "ticks": "",
           "title": {
            "standoff": 15
           },
           "zerolinecolor": "white",
           "zerolinewidth": 2
          }
         }
        },
        "title": {
         "text": "Term Frequencies for archetype of the individualistic rebel"
        },
        "width": 1000,
        "xaxis": {
         "title": {
          "text": "Frequency (sqrt scale)"
         }
        },
        "yaxis": {
         "title": {
          "text": "Words"
         }
        }
       }
      }
     },
     "metadata": {},
     "output_type": "display_data"
    },
    {
     "data": {
      "application/vnd.plotly.v1+json": {
       "config": {
        "plotlyServerURL": "https://plot.ly"
       },
       "data": [
        {
         "hovertemplate": "Word: <b>%{y}</b><br>sqrt(OTF) = <b>%{x}</b><extra></extra>",
         "marker": {
          "color": "#9FD2F9",
          "opacity": 0.7
         },
         "name": "Overall Term Frequency (OTF)",
         "orientation": "h",
         "type": "bar",
         "width": 0.55,
         "x": [
          5.0990195135927845,
          6.324555320336759,
          6,
          7.0710678118654755,
          6.4031242374328485,
          5.830951894845301,
          8.306623862918075,
          10.344080432788601,
          10.246950765959598,
          13.30413469565007,
          10.488088481701515,
          9.1104335791443,
          9.273618495495704,
          11.357816691600547,
          11.61895003862225,
          8.774964387392123,
          14.45683229480096,
          10,
          10.862780491200215,
          21.908902300206645
         ],
         "y": [
          "flawed",
          "heroine",
          "reluctant",
          "teamwork",
          "traditional",
          "order",
          "detective",
          "integrity",
          "protagonist",
          "american",
          "love",
          "romantic",
          "ambition",
          "resilience",
          "determination",
          "enforcement",
          "antihero",
          "protector",
          "law",
          "justice"
         ]
        },
        {
         "hovertemplate": "Word: <b>%{y}</b><br>sqrt(ETF) = <b>%{x}</b><extra></extra>",
         "marker": {
          "color": "#0F89E6"
         },
         "name": "Estimated Term Frequency within the topic (ETF)",
         "orientation": "h",
         "type": "bar",
         "width": 0.55,
         "x": [
          3.8612874539770243,
          4.485378887791768,
          4.549835914034679,
          4.806462157678497,
          4.858102762244273,
          5.01573734662684,
          5.9140684749492465,
          6.6080783266443115,
          6.659622583235331,
          6.726972505294442,
          6.925096165982593,
          7.161118421406151,
          7.247822166214053,
          7.311368014065861,
          7.657279472328823,
          7.672319604262211,
          7.707897195393245,
          7.749243517648702,
          9.44254399421554,
          17.071897888761786
         ],
         "y": [
          "flawed",
          "heroine",
          "reluctant",
          "teamwork",
          "traditional",
          "order",
          "detective",
          "integrity",
          "protagonist",
          "american",
          "love",
          "romantic",
          "ambition",
          "resilience",
          "determination",
          "enforcement",
          "antihero",
          "protector",
          "law",
          "justice"
         ]
        }
       ],
       "layout": {
        "barmode": "overlay",
        "height": 500,
        "legend": {
         "x": 0.95,
         "xanchor": "right",
         "y": 0.2,
         "yanchor": "top"
        },
        "margin": {
         "b": 50,
         "l": 30,
         "r": 30,
         "t": 50
        },
        "template": {
         "data": {
          "bar": [
           {
            "error_x": {
             "color": "#2a3f5f"
            },
            "error_y": {
             "color": "#2a3f5f"
            },
            "marker": {
             "line": {
              "color": "#E5ECF6",
              "width": 0.5
             },
             "pattern": {
              "fillmode": "overlay",
              "size": 10,
              "solidity": 0.2
             }
            },
            "type": "bar"
           }
          ],
          "barpolar": [
           {
            "marker": {
             "line": {
              "color": "#E5ECF6",
              "width": 0.5
             },
             "pattern": {
              "fillmode": "overlay",
              "size": 10,
              "solidity": 0.2
             }
            },
            "type": "barpolar"
           }
          ],
          "carpet": [
           {
            "aaxis": {
             "endlinecolor": "#2a3f5f",
             "gridcolor": "white",
             "linecolor": "white",
             "minorgridcolor": "white",
             "startlinecolor": "#2a3f5f"
            },
            "baxis": {
             "endlinecolor": "#2a3f5f",
             "gridcolor": "white",
             "linecolor": "white",
             "minorgridcolor": "white",
             "startlinecolor": "#2a3f5f"
            },
            "type": "carpet"
           }
          ],
          "choropleth": [
           {
            "colorbar": {
             "outlinewidth": 0,
             "ticks": ""
            },
            "type": "choropleth"
           }
          ],
          "contour": [
           {
            "colorbar": {
             "outlinewidth": 0,
             "ticks": ""
            },
            "colorscale": [
             [
              0,
              "#0d0887"
             ],
             [
              0.1111111111111111,
              "#46039f"
             ],
             [
              0.2222222222222222,
              "#7201a8"
             ],
             [
              0.3333333333333333,
              "#9c179e"
             ],
             [
              0.4444444444444444,
              "#bd3786"
             ],
             [
              0.5555555555555556,
              "#d8576b"
             ],
             [
              0.6666666666666666,
              "#ed7953"
             ],
             [
              0.7777777777777778,
              "#fb9f3a"
             ],
             [
              0.8888888888888888,
              "#fdca26"
             ],
             [
              1,
              "#f0f921"
             ]
            ],
            "type": "contour"
           }
          ],
          "contourcarpet": [
           {
            "colorbar": {
             "outlinewidth": 0,
             "ticks": ""
            },
            "type": "contourcarpet"
           }
          ],
          "heatmap": [
           {
            "colorbar": {
             "outlinewidth": 0,
             "ticks": ""
            },
            "colorscale": [
             [
              0,
              "#0d0887"
             ],
             [
              0.1111111111111111,
              "#46039f"
             ],
             [
              0.2222222222222222,
              "#7201a8"
             ],
             [
              0.3333333333333333,
              "#9c179e"
             ],
             [
              0.4444444444444444,
              "#bd3786"
             ],
             [
              0.5555555555555556,
              "#d8576b"
             ],
             [
              0.6666666666666666,
              "#ed7953"
             ],
             [
              0.7777777777777778,
              "#fb9f3a"
             ],
             [
              0.8888888888888888,
              "#fdca26"
             ],
             [
              1,
              "#f0f921"
             ]
            ],
            "type": "heatmap"
           }
          ],
          "heatmapgl": [
           {
            "colorbar": {
             "outlinewidth": 0,
             "ticks": ""
            },
            "colorscale": [
             [
              0,
              "#0d0887"
             ],
             [
              0.1111111111111111,
              "#46039f"
             ],
             [
              0.2222222222222222,
              "#7201a8"
             ],
             [
              0.3333333333333333,
              "#9c179e"
             ],
             [
              0.4444444444444444,
              "#bd3786"
             ],
             [
              0.5555555555555556,
              "#d8576b"
             ],
             [
              0.6666666666666666,
              "#ed7953"
             ],
             [
              0.7777777777777778,
              "#fb9f3a"
             ],
             [
              0.8888888888888888,
              "#fdca26"
             ],
             [
              1,
              "#f0f921"
             ]
            ],
            "type": "heatmapgl"
           }
          ],
          "histogram": [
           {
            "marker": {
             "pattern": {
              "fillmode": "overlay",
              "size": 10,
              "solidity": 0.2
             }
            },
            "type": "histogram"
           }
          ],
          "histogram2d": [
           {
            "colorbar": {
             "outlinewidth": 0,
             "ticks": ""
            },
            "colorscale": [
             [
              0,
              "#0d0887"
             ],
             [
              0.1111111111111111,
              "#46039f"
             ],
             [
              0.2222222222222222,
              "#7201a8"
             ],
             [
              0.3333333333333333,
              "#9c179e"
             ],
             [
              0.4444444444444444,
              "#bd3786"
             ],
             [
              0.5555555555555556,
              "#d8576b"
             ],
             [
              0.6666666666666666,
              "#ed7953"
             ],
             [
              0.7777777777777778,
              "#fb9f3a"
             ],
             [
              0.8888888888888888,
              "#fdca26"
             ],
             [
              1,
              "#f0f921"
             ]
            ],
            "type": "histogram2d"
           }
          ],
          "histogram2dcontour": [
           {
            "colorbar": {
             "outlinewidth": 0,
             "ticks": ""
            },
            "colorscale": [
             [
              0,
              "#0d0887"
             ],
             [
              0.1111111111111111,
              "#46039f"
             ],
             [
              0.2222222222222222,
              "#7201a8"
             ],
             [
              0.3333333333333333,
              "#9c179e"
             ],
             [
              0.4444444444444444,
              "#bd3786"
             ],
             [
              0.5555555555555556,
              "#d8576b"
             ],
             [
              0.6666666666666666,
              "#ed7953"
             ],
             [
              0.7777777777777778,
              "#fb9f3a"
             ],
             [
              0.8888888888888888,
              "#fdca26"
             ],
             [
              1,
              "#f0f921"
             ]
            ],
            "type": "histogram2dcontour"
           }
          ],
          "mesh3d": [
           {
            "colorbar": {
             "outlinewidth": 0,
             "ticks": ""
            },
            "type": "mesh3d"
           }
          ],
          "parcoords": [
           {
            "line": {
             "colorbar": {
              "outlinewidth": 0,
              "ticks": ""
             }
            },
            "type": "parcoords"
           }
          ],
          "pie": [
           {
            "automargin": true,
            "type": "pie"
           }
          ],
          "scatter": [
           {
            "fillpattern": {
             "fillmode": "overlay",
             "size": 10,
             "solidity": 0.2
            },
            "type": "scatter"
           }
          ],
          "scatter3d": [
           {
            "line": {
             "colorbar": {
              "outlinewidth": 0,
              "ticks": ""
             }
            },
            "marker": {
             "colorbar": {
              "outlinewidth": 0,
              "ticks": ""
             }
            },
            "type": "scatter3d"
           }
          ],
          "scattercarpet": [
           {
            "marker": {
             "colorbar": {
              "outlinewidth": 0,
              "ticks": ""
             }
            },
            "type": "scattercarpet"
           }
          ],
          "scattergeo": [
           {
            "marker": {
             "colorbar": {
              "outlinewidth": 0,
              "ticks": ""
             }
            },
            "type": "scattergeo"
           }
          ],
          "scattergl": [
           {
            "marker": {
             "colorbar": {
              "outlinewidth": 0,
              "ticks": ""
             }
            },
            "type": "scattergl"
           }
          ],
          "scattermapbox": [
           {
            "marker": {
             "colorbar": {
              "outlinewidth": 0,
              "ticks": ""
             }
            },
            "type": "scattermapbox"
           }
          ],
          "scatterpolar": [
           {
            "marker": {
             "colorbar": {
              "outlinewidth": 0,
              "ticks": ""
             }
            },
            "type": "scatterpolar"
           }
          ],
          "scatterpolargl": [
           {
            "marker": {
             "colorbar": {
              "outlinewidth": 0,
              "ticks": ""
             }
            },
            "type": "scatterpolargl"
           }
          ],
          "scatterternary": [
           {
            "marker": {
             "colorbar": {
              "outlinewidth": 0,
              "ticks": ""
             }
            },
            "type": "scatterternary"
           }
          ],
          "surface": [
           {
            "colorbar": {
             "outlinewidth": 0,
             "ticks": ""
            },
            "colorscale": [
             [
              0,
              "#0d0887"
             ],
             [
              0.1111111111111111,
              "#46039f"
             ],
             [
              0.2222222222222222,
              "#7201a8"
             ],
             [
              0.3333333333333333,
              "#9c179e"
             ],
             [
              0.4444444444444444,
              "#bd3786"
             ],
             [
              0.5555555555555556,
              "#d8576b"
             ],
             [
              0.6666666666666666,
              "#ed7953"
             ],
             [
              0.7777777777777778,
              "#fb9f3a"
             ],
             [
              0.8888888888888888,
              "#fdca26"
             ],
             [
              1,
              "#f0f921"
             ]
            ],
            "type": "surface"
           }
          ],
          "table": [
           {
            "cells": {
             "fill": {
              "color": "#EBF0F8"
             },
             "line": {
              "color": "white"
             }
            },
            "header": {
             "fill": {
              "color": "#C8D4E3"
             },
             "line": {
              "color": "white"
             }
            },
            "type": "table"
           }
          ]
         },
         "layout": {
          "annotationdefaults": {
           "arrowcolor": "#2a3f5f",
           "arrowhead": 0,
           "arrowwidth": 1
          },
          "autotypenumbers": "strict",
          "coloraxis": {
           "colorbar": {
            "outlinewidth": 0,
            "ticks": ""
           }
          },
          "colorscale": {
           "diverging": [
            [
             0,
             "#8e0152"
            ],
            [
             0.1,
             "#c51b7d"
            ],
            [
             0.2,
             "#de77ae"
            ],
            [
             0.3,
             "#f1b6da"
            ],
            [
             0.4,
             "#fde0ef"
            ],
            [
             0.5,
             "#f7f7f7"
            ],
            [
             0.6,
             "#e6f5d0"
            ],
            [
             0.7,
             "#b8e186"
            ],
            [
             0.8,
             "#7fbc41"
            ],
            [
             0.9,
             "#4d9221"
            ],
            [
             1,
             "#276419"
            ]
           ],
           "sequential": [
            [
             0,
             "#0d0887"
            ],
            [
             0.1111111111111111,
             "#46039f"
            ],
            [
             0.2222222222222222,
             "#7201a8"
            ],
            [
             0.3333333333333333,
             "#9c179e"
            ],
            [
             0.4444444444444444,
             "#bd3786"
            ],
            [
             0.5555555555555556,
             "#d8576b"
            ],
            [
             0.6666666666666666,
             "#ed7953"
            ],
            [
             0.7777777777777778,
             "#fb9f3a"
            ],
            [
             0.8888888888888888,
             "#fdca26"
            ],
            [
             1,
             "#f0f921"
            ]
           ],
           "sequentialminus": [
            [
             0,
             "#0d0887"
            ],
            [
             0.1111111111111111,
             "#46039f"
            ],
            [
             0.2222222222222222,
             "#7201a8"
            ],
            [
             0.3333333333333333,
             "#9c179e"
            ],
            [
             0.4444444444444444,
             "#bd3786"
            ],
            [
             0.5555555555555556,
             "#d8576b"
            ],
            [
             0.6666666666666666,
             "#ed7953"
            ],
            [
             0.7777777777777778,
             "#fb9f3a"
            ],
            [
             0.8888888888888888,
             "#fdca26"
            ],
            [
             1,
             "#f0f921"
            ]
           ]
          },
          "colorway": [
           "#636efa",
           "#EF553B",
           "#00cc96",
           "#ab63fa",
           "#FFA15A",
           "#19d3f3",
           "#FF6692",
           "#B6E880",
           "#FF97FF",
           "#FECB52"
          ],
          "font": {
           "color": "#2a3f5f"
          },
          "geo": {
           "bgcolor": "white",
           "lakecolor": "white",
           "landcolor": "#E5ECF6",
           "showlakes": true,
           "showland": true,
           "subunitcolor": "white"
          },
          "hoverlabel": {
           "align": "left"
          },
          "hovermode": "closest",
          "mapbox": {
           "style": "light"
          },
          "paper_bgcolor": "white",
          "plot_bgcolor": "#E5ECF6",
          "polar": {
           "angularaxis": {
            "gridcolor": "white",
            "linecolor": "white",
            "ticks": ""
           },
           "bgcolor": "#E5ECF6",
           "radialaxis": {
            "gridcolor": "white",
            "linecolor": "white",
            "ticks": ""
           }
          },
          "scene": {
           "xaxis": {
            "backgroundcolor": "#E5ECF6",
            "gridcolor": "white",
            "gridwidth": 2,
            "linecolor": "white",
            "showbackground": true,
            "ticks": "",
            "zerolinecolor": "white"
           },
           "yaxis": {
            "backgroundcolor": "#E5ECF6",
            "gridcolor": "white",
            "gridwidth": 2,
            "linecolor": "white",
            "showbackground": true,
            "ticks": "",
            "zerolinecolor": "white"
           },
           "zaxis": {
            "backgroundcolor": "#E5ECF6",
            "gridcolor": "white",
            "gridwidth": 2,
            "linecolor": "white",
            "showbackground": true,
            "ticks": "",
            "zerolinecolor": "white"
           }
          },
          "shapedefaults": {
           "line": {
            "color": "#2a3f5f"
           }
          },
          "ternary": {
           "aaxis": {
            "gridcolor": "white",
            "linecolor": "white",
            "ticks": ""
           },
           "baxis": {
            "gridcolor": "white",
            "linecolor": "white",
            "ticks": ""
           },
           "bgcolor": "#E5ECF6",
           "caxis": {
            "gridcolor": "white",
            "linecolor": "white",
            "ticks": ""
           }
          },
          "title": {
           "x": 0.05
          },
          "xaxis": {
           "automargin": true,
           "gridcolor": "white",
           "linecolor": "white",
           "ticks": "",
           "title": {
            "standoff": 15
           },
           "zerolinecolor": "white",
           "zerolinewidth": 2
          },
          "yaxis": {
           "automargin": true,
           "gridcolor": "white",
           "linecolor": "white",
           "ticks": "",
           "title": {
            "standoff": 15
           },
           "zerolinecolor": "white",
           "zerolinewidth": 2
          }
         }
        },
        "title": {
         "text": "Term Frequencies for archetype of the moral enforcer"
        },
        "width": 1000,
        "xaxis": {
         "title": {
          "text": "Frequency (sqrt scale)"
         }
        },
        "yaxis": {
         "title": {
          "text": "Words"
         }
        }
       }
      }
     },
     "metadata": {},
     "output_type": "display_data"
    }
   ],
   "source": [
    "lda_model, corpus, dictionary = western_char_topic\n",
    "overall_term_freq = compute_overall_term_freq(corpus, dictionary)\n",
    "est_term_freq_by_topic = compute_estimated_term_freq(lda_model, corpus, dictionary, 20)\n",
    "plotly_term_frequencies(est_term_freq_by_topic, overall_term_freq, ['#0F89E6', '#9FD2F9'], WEST_ARCHETYPES_MAP)"
   ]
  },
  {
   "cell_type": "code",
   "execution_count": null,
   "metadata": {},
   "outputs": [],
   "source": [
    "# plot topics\n",
    "import pyLDAvis\n",
    "from pyLDAvis import gensim_models"
   ]
  },
  {
   "cell_type": "code",
   "execution_count": null,
   "metadata": {},
   "outputs": [
    {
     "data": {
      "text/html": [
       "\n",
       "<link rel=\"stylesheet\" type=\"text/css\" href=\"https://cdn.jsdelivr.net/gh/bmabey/pyLDAvis@3.4.0/pyLDAvis/js/ldavis.v1.0.0.css\">\n",
       "\n",
       "\n",
       "<div id=\"ldavis_el26057219768721924808540037772\" style=\"background-color:white;\"></div>\n",
       "<script type=\"text/javascript\">\n",
       "\n",
       "var ldavis_el26057219768721924808540037772_data = {\"mdsDat\": {\"x\": [0.14803385399033805, -0.23139653183663067, 0.08336267784629267], \"y\": [0.16411862192216478, 0.03372020255590981, -0.1978388244780745], \"topics\": [1, 2, 3], \"cluster\": [1, 1, 1], \"Freq\": [36.60805913206618, 34.901771222342646, 28.490169645591173]}, \"tinfo\": {\"Term\": [\"justice\", \"individualism\", \"loyalty\", \"freedom\", \"determination\", \"leadership\", \"law\", \"integrity\", \"duty\", \"protector\", \"everyman\", \"tragic\", \"heroic\", \"resilience\", \"honor\", \"moral\", \"love\", \"enforcement\", \"truth\", \"soldier\", \"family\", \"trickster\", \"detective\", \"resourceful\", \"teamwork\", \"mentor\", \"redemption\", \"romantic\", \"personal\", \"sacrifice\", \"loyalty\", \"freedom\", \"tragic\", \"heroic\", \"family\", \"honor\", \"self\", \"personal\", \"dedication\", \"independence\", \"conflict\", \"adventure\", \"work\", \"resistance\", \"hardworke\", \"innocent\", \"idealist\", \"success\", \"father\", \"scientific\", \"innocence\", \"independent\", \"curiosity\", \"orient\", \"love\", \"army\", \"hard\", \"political\", \"fighter\", \"honorable\", \"everyman\", \"romantic\", \"creativity\", \"sacrifice\", \"heroine\", \"ambitious\", \"nurture\", \"courage\", \"bravery\", \"idealism\", \"british\", \"american\", \"determine\", \"protagonist\", \"ambition\", \"leader\", \"antihero\", \"rebel\", \"justice\", \"determination\", \"law\", \"protector\", \"duty\", \"integrity\", \"enforcement\", \"moral\", \"truth\", \"order\", \"detective\", \"revolutionary\", \"individuality\", \"revenge\", \"rebellion\", \"democracy\", \"vigilante\", \"mentor\", \"seeking\", \"martyr\", \"ambiguity\", \"valor\", \"honest\", \"ingenuity\", \"redemption\", \"investigator\", \"intellectual\", \"investigative\", \"tough\", \"complexity\", \"resilience\", \"morality\", \"compassion\", \"camaraderie\", \"antihero\", \"authority\", \"bravery\", \"agent\", \"resourcefulness\", \"courage\", \"protagonist\", \"american\", \"rebel\", \"anti\", \"individualism\", \"leadership\", \"soldier\", \"trickster\", \"resourceful\", \"teamwork\", \"humor\", \"perseverance\", \"innovation\", \"rogue\", \"brave\", \"charm\", \"spirit\", \"comedic\", \"cleverness\", \"vengeance\", \"dedicated\", \"scientist\", \"antiestablishment\", \"idealistic\", \"clever\", \"empathy\", \"wealthy\", \"rationality\", \"selflessness\", \"antagonist\", \"charming\", \"cooperation\", \"innovative\", \"individualistic\", \"cunne\", \"noble\", \"friendship\", \"rebellious\", \"ambition\", \"american\", \"antihero\", \"reluctant\", \"bravery\", \"patriotism\", \"community\", \"camaraderie\", \"protagonist\", \"leader\", \"rebel\", \"resourcefulness\", \"sacrifice\"], \"Freq\": [414.0, 258.0, 215.0, 145.0, 115.0, 89.0, 104.0, 91.0, 86.0, 85.0, 113.0, 89.0, 89.0, 110.0, 81.0, 74.0, 94.0, 67.0, 62.0, 50.0, 62.0, 47.0, 58.0, 44.0, 43.0, 55.0, 55.0, 72.0, 47.0, 86.0, 214.57250312028634, 144.4798876523458, 88.45898791960664, 88.55615599394625, 62.28723748748335, 80.19776469560449, 45.97678607526432, 46.57010930976606, 35.31720928152099, 32.24751055648855, 30.347322070295036, 24.729332565413863, 22.87209226047261, 22.86824919472591, 20.188304590059555, 15.94279011606429, 16.55630193569988, 15.342349523799665, 14.689243558542245, 17.71165239879509, 29.683282582988248, 15.23385785623741, 12.176112987210086, 12.133169609790007, 90.12137518352577, 11.530902600529263, 10.939498977368006, 10.320042895788703, 11.467123081397006, 10.282572043991927, 106.87573527708054, 65.51377172563868, 17.452360752865143, 69.47603399953975, 29.63946394734436, 18.150943636636157, 17.565329592022305, 48.92710380594123, 89.23461082086891, 26.836791038057097, 24.627798768386015, 54.76462075547123, 22.834545508127338, 35.90964092476949, 31.132573772785655, 24.426794900636292, 28.667813948474354, 23.55403274802753, 414.15686685850636, 114.54887846345078, 103.93747254265305, 84.795259416663, 85.99120669003199, 91.20031348635776, 66.98590774470813, 73.48840801299521, 61.54125345195044, 30.664753461028464, 57.5128629225435, 27.647460672535193, 25.804397141838784, 24.029893291848484, 22.83658772058452, 21.66777376890585, 18.161788074635545, 53.870933992208705, 20.391333356084516, 17.534523054485636, 16.321043819157552, 16.32776532056068, 16.302139710959434, 15.131908729753558, 52.67259050084156, 12.139683715708287, 12.17104156240149, 11.581328282715285, 10.94573420665659, 10.351289862000753, 98.96637541171145, 17.785078056912226, 12.86307499938349, 39.06092912135407, 79.6045236249899, 23.977596017235474, 100.0323553382438, 22.47178001810136, 26.39407195013511, 34.81818699936753, 28.690813925905907, 28.8767553130454, 22.476605429574743, 20.616814172164794, 257.6078564800911, 88.43534603161693, 49.55735781150209, 46.40460211778622, 44.07196726876516, 42.83478589291176, 28.21576224065058, 32.38069688088167, 25.2386597793557, 24.591253646719995, 26.81866853076257, 18.495723092170888, 19.629852876849736, 16.678582476995686, 16.13288055291567, 15.449282018346944, 15.4660472864269, 15.432295426595964, 13.641896094429041, 14.19999663037695, 13.043269399800659, 13.040556689400422, 11.817015132488892, 11.187169836804657, 10.610576810884691, 10.550812690272666, 8.774717895775783, 9.350683588722816, 8.763794525809676, 9.309905450052021, 26.222234136821477, 13.591866476766484, 39.51405749633148, 17.394920465143443, 45.79539375899463, 67.1726134682995, 72.38786650711175, 21.10198278836543, 69.53494457042302, 20.240511802944653, 15.330938157848905, 20.3315984570121, 21.154660812929208, 18.96881589785342, 18.380604874634983, 16.377340024711096, 16.477844898238676], \"Total\": [414.0, 258.0, 215.0, 145.0, 115.0, 89.0, 104.0, 91.0, 86.0, 85.0, 113.0, 89.0, 89.0, 110.0, 81.0, 74.0, 94.0, 67.0, 62.0, 50.0, 62.0, 47.0, 58.0, 44.0, 43.0, 55.0, 55.0, 72.0, 47.0, 86.0, 215.31283051054652, 145.10047815125952, 89.1625308083805, 89.32996136497529, 62.90681772837137, 81.17434275712489, 46.606065133231425, 47.24215444243234, 35.90772403649096, 32.84657026591049, 30.9779382715408, 25.311326432986572, 23.44467263204628, 23.444413880641964, 20.899468602742413, 16.529831360750425, 17.168292940775725, 15.924795687375184, 15.268347120595319, 18.410029257656376, 30.89603727687082, 15.870974953487663, 12.76153236031475, 12.727018614529449, 94.73932214615746, 12.138113392793334, 11.517326650748494, 10.895048803494545, 12.120106584235156, 10.877072492760407, 113.45146731242622, 72.71597775476133, 18.970960365195133, 86.25292763101376, 34.46910208202145, 20.21700322425432, 19.628612190984846, 84.20912811303086, 258.80191072953573, 40.888637368002435, 35.60775559166263, 150.8139895368161, 32.33402235718747, 85.7551156636046, 77.23982274379156, 54.8891656892108, 180.66020408057602, 64.41124305223725, 414.8009972710555, 115.1714530121618, 104.52387680880058, 85.39858912414503, 86.62981105739638, 91.96328201367079, 67.5666172926904, 74.14762900954925, 62.15465598053141, 31.24887103368793, 58.612100002884375, 28.264196357031054, 26.427945984969842, 24.639317324064855, 23.44184321823785, 22.310234502263818, 18.749091136978272, 55.627966172111314, 21.066873624409013, 18.143040082825088, 16.92946864338806, 16.962614469319654, 16.947583876879524, 15.73158490256381, 55.12918576235957, 12.72989249757378, 12.779171298497214, 12.171656054348876, 11.5488859753909, 10.95863865273384, 110.64961453134582, 19.339684796661043, 13.969443775239965, 61.505548168102926, 180.66020408057602, 33.4572782103608, 258.80191072953573, 31.37753173162175, 44.69743210783939, 84.20912811303086, 85.7551156636046, 150.8139895368161, 64.41124305223725, 45.12350830650775, 258.25230376018, 89.05463345658278, 50.17340832493104, 47.00779939326957, 44.660590531387356, 43.42061453407251, 28.806915805064023, 33.117630145289965, 25.840005974034803, 25.20414265303001, 27.571802278223178, 19.087159681778264, 20.261682570508388, 17.260135439804607, 16.706364768554344, 16.052549643582115, 16.08620555769759, 16.054239083156702, 14.226488180332428, 14.813391842476099, 13.623241137632693, 13.639536201035149, 12.41681681188778, 11.811736796356435, 11.209958143627187, 11.17703359651551, 9.350001858612, 9.969068169900783, 9.366807652507243, 9.953409329587396, 28.955227062821365, 14.884006511474649, 47.78079888626635, 19.760584786705582, 77.23982274379156, 150.8139895368161, 180.66020408057602, 31.051647458962105, 258.80191072953573, 35.382536594654724, 21.691325680391984, 61.505548168102926, 85.7551156636046, 54.8891656892108, 64.41124305223725, 44.69743210783939, 86.25292763101376], \"Category\": [\"Default\", \"Default\", \"Default\", \"Default\", \"Default\", \"Default\", \"Default\", \"Default\", \"Default\", \"Default\", \"Default\", \"Default\", \"Default\", \"Default\", \"Default\", \"Default\", \"Default\", \"Default\", \"Default\", \"Default\", \"Default\", \"Default\", \"Default\", \"Default\", \"Default\", \"Default\", \"Default\", \"Default\", \"Default\", \"Default\", \"Topic1\", \"Topic1\", \"Topic1\", \"Topic1\", \"Topic1\", \"Topic1\", \"Topic1\", \"Topic1\", \"Topic1\", \"Topic1\", \"Topic1\", \"Topic1\", \"Topic1\", \"Topic1\", \"Topic1\", \"Topic1\", \"Topic1\", \"Topic1\", \"Topic1\", \"Topic1\", \"Topic1\", \"Topic1\", \"Topic1\", \"Topic1\", \"Topic1\", \"Topic1\", \"Topic1\", \"Topic1\", \"Topic1\", \"Topic1\", \"Topic1\", \"Topic1\", \"Topic1\", \"Topic1\", \"Topic1\", \"Topic1\", \"Topic1\", \"Topic1\", \"Topic1\", \"Topic1\", \"Topic1\", \"Topic1\", \"Topic1\", \"Topic1\", \"Topic1\", \"Topic1\", \"Topic1\", \"Topic1\", \"Topic2\", \"Topic2\", \"Topic2\", \"Topic2\", \"Topic2\", \"Topic2\", \"Topic2\", \"Topic2\", \"Topic2\", \"Topic2\", \"Topic2\", \"Topic2\", \"Topic2\", \"Topic2\", \"Topic2\", \"Topic2\", \"Topic2\", \"Topic2\", \"Topic2\", \"Topic2\", \"Topic2\", \"Topic2\", \"Topic2\", \"Topic2\", \"Topic2\", \"Topic2\", \"Topic2\", \"Topic2\", \"Topic2\", \"Topic2\", \"Topic2\", \"Topic2\", \"Topic2\", \"Topic2\", \"Topic2\", \"Topic2\", \"Topic2\", \"Topic2\", \"Topic2\", \"Topic2\", \"Topic2\", \"Topic2\", \"Topic2\", \"Topic2\", \"Topic3\", \"Topic3\", \"Topic3\", \"Topic3\", \"Topic3\", \"Topic3\", \"Topic3\", \"Topic3\", \"Topic3\", \"Topic3\", \"Topic3\", \"Topic3\", \"Topic3\", \"Topic3\", \"Topic3\", \"Topic3\", \"Topic3\", \"Topic3\", \"Topic3\", \"Topic3\", \"Topic3\", \"Topic3\", \"Topic3\", \"Topic3\", \"Topic3\", \"Topic3\", \"Topic3\", \"Topic3\", \"Topic3\", \"Topic3\", \"Topic3\", \"Topic3\", \"Topic3\", \"Topic3\", \"Topic3\", \"Topic3\", \"Topic3\", \"Topic3\", \"Topic3\", \"Topic3\", \"Topic3\", \"Topic3\", \"Topic3\", \"Topic3\", \"Topic3\", \"Topic3\", \"Topic3\"], \"logprob\": [30.0, 29.0, 28.0, 27.0, 26.0, 25.0, 24.0, 23.0, 22.0, 21.0, 20.0, 19.0, 18.0, 17.0, 16.0, 15.0, 14.0, 13.0, 12.0, 11.0, 10.0, 9.0, 8.0, 7.0, 6.0, 5.0, 4.0, 3.0, 2.0, 1.0, -2.9565, -3.352, -3.8426, -3.8415, -4.1934, -3.9407, -4.497, -4.4842, -4.7608, -4.8517, -4.9125, -5.1172, -5.1953, -5.1954, -5.3201, -5.5562, -5.5184, -5.5946, -5.6381, -5.451, -4.9346, -5.6017, -5.8257, -5.8292, -3.824, -5.8801, -5.9328, -5.9911, -5.8857, -5.9947, -3.6535, -4.1429, -5.4657, -4.0842, -4.9361, -5.4265, -5.4592, -4.4348, -3.8339, -5.0354, -5.1213, -4.3221, -5.1969, -4.7442, -4.8869, -5.1295, -4.9694, -5.1659, -2.2512, -3.5364, -3.6337, -3.8372, -3.8232, -3.7644, -4.073, -3.9803, -4.1577, -4.8543, -4.2254, -4.9579, -5.0269, -5.0981, -5.1491, -5.2016, -5.3781, -4.2909, -5.2623, -5.4133, -5.485, -5.4846, -5.4861, -5.5606, -4.3133, -5.781, -5.7784, -5.8281, -5.8845, -5.9403, -3.6827, -5.3991, -5.7231, -4.6123, -3.9004, -5.1003, -3.672, -5.1652, -5.0043, -4.7273, -4.9209, -4.9144, -5.165, -5.2513, -2.523, -3.5922, -4.1713, -4.2371, -4.2886, -4.3171, -4.7346, -4.5969, -4.8461, -4.8721, -4.7854, -5.1569, -5.0974, -5.2603, -5.2936, -5.3369, -5.3358, -5.338, -5.4613, -5.4212, -5.5062, -5.5064, -5.6049, -5.6597, -5.7126, -5.7183, -5.9026, -5.839, -5.9038, -5.8434, -4.8079, -5.465, -4.3978, -5.2183, -4.2503, -3.8672, -3.7924, -5.0251, -3.8326, -5.0668, -5.3446, -5.0623, -5.0226, -5.1317, -5.1632, -5.2786, -5.2724], \"loglift\": [30.0, 29.0, 28.0, 27.0, 26.0, 25.0, 24.0, 23.0, 22.0, 21.0, 20.0, 19.0, 18.0, 17.0, 16.0, 15.0, 14.0, 13.0, 12.0, 11.0, 10.0, 9.0, 8.0, 7.0, 6.0, 5.0, 4.0, 3.0, 2.0, 1.0, 1.0015, 1.0006, 0.997, 0.9962, 0.995, 0.9928, 0.9913, 0.9906, 0.9883, 0.9865, 0.9843, 0.9816, 0.9802, 0.98, 0.9703, 0.9687, 0.9686, 0.9676, 0.9662, 0.9662, 0.9649, 0.9639, 0.9579, 0.9571, 0.9549, 0.9536, 0.9534, 0.9507, 0.9495, 0.9487, 0.9452, 0.9006, 0.9215, 0.7886, 0.8539, 0.8971, 0.8938, 0.4619, -0.0599, 0.5838, 0.6362, -0.0081, 0.6571, 0.1344, 0.0962, 0.1953, -0.8359, -0.0011, 1.0511, 1.0472, 1.047, 1.0455, 1.0452, 1.0443, 1.044, 1.0437, 1.0427, 1.0338, 1.0337, 1.0306, 1.0288, 1.0276, 1.0265, 1.0234, 1.0208, 1.0205, 1.02, 1.0185, 1.016, 1.0145, 1.0138, 1.0138, 1.007, 1.0052, 1.0039, 1.0029, 0.999, 0.9956, 0.941, 0.9688, 0.9701, 0.5986, 0.2331, 0.7195, 0.1021, 0.7188, 0.5259, 0.1695, -0.0423, -0.6004, -0.0002, 0.2693, 1.2531, 1.2486, 1.2433, 1.2427, 1.2423, 1.242, 1.2349, 1.2331, 1.2321, 1.231, 1.2279, 1.2241, 1.2239, 1.2213, 1.2207, 1.2173, 1.2163, 1.2161, 1.2137, 1.2133, 1.2121, 1.2107, 1.2061, 1.2013, 1.2007, 1.198, 1.1921, 1.1916, 1.1891, 1.1888, 1.1565, 1.1648, 1.0656, 1.1281, 0.7329, 0.4468, 0.341, 0.8693, -0.0586, 0.6971, 0.9086, 0.1487, -0.144, 0.1931, 0.0016, 0.2516, -0.3997]}, \"token.table\": {\"Topic\": [1, 2, 3, 2, 1, 3, 1, 3, 1, 2, 3, 3, 1, 2, 3, 3, 1, 2, 3, 1, 1, 2, 3, 1, 2, 3, 1, 2, 3, 1, 2, 3, 3, 3, 3, 3, 3, 1, 3, 1, 2, 2, 1, 3, 1, 2, 1, 2, 1, 3, 1, 3, 1, 2, 1, 2, 3, 2, 1, 2, 2, 3, 2, 1, 3, 1, 1, 1, 1, 1, 2, 3, 1, 1, 1, 1, 2, 2, 1, 2, 1, 3, 1, 2, 1, 3, 1, 1, 3, 3, 2, 2, 1, 2, 1, 3, 3, 2, 2, 2, 2, 2, 2, 1, 2, 3, 3, 1, 3, 1, 2, 1, 2, 3, 2, 1, 2, 1, 3, 1, 3, 2, 1, 1, 3, 3, 1, 1, 1, 2, 3, 2, 3, 1, 2, 3, 2, 1, 3, 1, 2, 2, 3, 2, 3, 1, 3, 1, 2, 3, 2, 2, 3, 1, 2, 3, 1, 3, 1, 3, 2, 1, 3, 3, 3, 1, 3, 2, 1, 3, 2, 2, 3, 2, 3, 1], \"Freq\": [0.9877001138675672, 0.7011386423945122, 0.2868294446159368, 0.9450975891230307, 0.40134737365760903, 0.5955477157500004, 0.8903396710351916, 0.0989266301150213, 0.3646876537708302, 0.19228985380643773, 0.44425586913901133, 0.9841609497737663, 0.24377537148222073, 0.46538934555696687, 0.3102595637046446, 0.9840798250797032, 0.1605223471742883, 0.4428202680670022, 0.39853824126030196, 0.9886215107468567, 0.26899976571354656, 0.7173327085694574, 0.9792613383610835, 0.3438923605668839, 0.38639591074930774, 0.2704771375245154, 0.7020942371850479, 0.02808376948740192, 0.28083769487401916, 0.03251739167552383, 0.6340891376727147, 0.32517391675523827, 0.9430423541321273, 0.9625666535788306, 0.9542516254879275, 0.9577188228354798, 0.98492854006205, 0.2766082667517062, 0.6915206668792654, 0.07158481154220632, 0.9306025500486821, 0.9125221039663818, 0.9684311375738254, 0.9027925024300012, 0.581884661413773, 0.41563190100983793, 0.8961064528493173, 0.05271214428525396, 0.06907215735731559, 0.8979380456451026, 0.94032594685236, 0.9324759618542972, 0.9747206468566904, 0.9860945207800331, 0.01706132351427075, 0.9895567638277036, 0.01706132351427075, 0.998511323703247, 0.7113250478373401, 0.2783445839363504, 0.992729857658594, 0.9531115874023185, 0.9916139461261487, 0.9431345625997065, 0.05288605023923588, 0.9855847464373898, 0.9824246122729717, 0.9075827777214353, 0.9924157510348633, 0.10464454585411194, 0.06278672751246717, 0.8371563668328955, 0.9550827491104567, 0.956962130480945, 0.9963062632074007, 0.8703446909818847, 0.1450574484969808, 0.9440873764801218, 0.9855330795761593, 0.012319163494701992, 0.9193650227720582, 0.9719888164868322, 0.6603301488625531, 0.3423934105213238, 0.9901974563600311, 0.9450907765672025, 0.9742265247465092, 0.9451215217691296, 0.9990230338451723, 0.9042127879988516, 0.9838070660045535, 0.953495791613178, 0.9709983105975339, 0.032366610353251134, 0.9679469590955119, 0.9674920363842455, 0.9608396300943515, 0.9895253628124364, 0.9390280261296097, 0.9858970666290275, 0.942663105936449, 0.9980689601126198, 0.9949879699759044, 0.43724475857204587, 0.20040384767885436, 0.346152100536203, 0.9881574555343384, 0.9499751313520488, 0.042221116948979946, 0.9985470883931777, 0.992115980443625, 0.017976569499341913, 0.9707347529644633, 0.017976569499341913, 0.9845223775206426, 0.051707150892792625, 0.9307287160702672, 0.06718621086527084, 0.9406069521137917, 0.9170286633034176, 0.10189207370037973, 0.9920358392013704, 0.942875968319912, 0.4239379491595316, 0.5652505988793755, 0.9662527137241759, 0.994874187147256, 0.9178481143464488, 0.41980002850464104, 0.3381722451842942, 0.2448833499610406, 0.9953326029360321, 0.9312771008742058, 0.3726057573603431, 0.3415552775803145, 0.27945431802025733, 0.9811515155133325, 0.10121157959584015, 0.8602984265646413, 0.036278424437850766, 0.9613782476030454, 0.3220441045266926, 0.6762926195060545, 0.8947161760961615, 0.09941290845512905, 0.9810439329852936, 0.9852086476348069, 0.04474529980099739, 0.581688897412966, 0.3579623984079791, 0.9740529611410766, 0.9906526138690184, 0.991900432566173, 0.9076409619710907, 0.013752135787440768, 0.08251281472464461, 0.7999728460833118, 0.18550094981642012, 0.9777279410087927, 0.934332665802719, 0.9493577621706105, 0.9869960029558624, 0.9812703900463225, 0.9965438201086915, 0.987084854893084, 0.9419273122537867, 0.9903130220844191, 0.9524728206200579, 0.9869616665448977, 0.978561017399724, 0.9975117555058168, 0.9432508195561045, 0.9344309990031441, 0.9600465360424398, 0.9664312667084914, 0.9810331055150473], \"Term\": [\"adventure\", \"agent\", \"agent\", \"ambiguity\", \"ambition\", \"ambition\", \"ambitious\", \"ambitious\", \"american\", \"american\", \"american\", \"antagonist\", \"anti\", \"anti\", \"anti\", \"antiestablishment\", \"antihero\", \"antihero\", \"antihero\", \"army\", \"authority\", \"authority\", \"brave\", \"bravery\", \"bravery\", \"bravery\", \"british\", \"british\", \"british\", \"camaraderie\", \"camaraderie\", \"camaraderie\", \"charm\", \"charming\", \"clever\", \"cleverness\", \"comedic\", \"community\", \"community\", \"compassion\", \"compassion\", \"complexity\", \"conflict\", \"cooperation\", \"courage\", \"courage\", \"creativity\", \"creativity\", \"cunne\", \"cunne\", \"curiosity\", \"dedicated\", \"dedication\", \"democracy\", \"detective\", \"detective\", \"detective\", \"determination\", \"determine\", \"determine\", \"duty\", \"empathy\", \"enforcement\", \"everyman\", \"everyman\", \"family\", \"father\", \"fighter\", \"freedom\", \"friendship\", \"friendship\", \"friendship\", \"hard\", \"hardworke\", \"heroic\", \"heroine\", \"heroine\", \"honest\", \"honor\", \"honor\", \"honorable\", \"humor\", \"idealism\", \"idealism\", \"idealist\", \"idealistic\", \"independence\", \"independent\", \"individualism\", \"individualistic\", \"individuality\", \"ingenuity\", \"innocence\", \"innocence\", \"innocent\", \"innovation\", \"innovative\", \"integrity\", \"intellectual\", \"investigative\", \"investigator\", \"justice\", \"law\", \"leader\", \"leader\", \"leader\", \"leadership\", \"love\", \"love\", \"loyalty\", \"martyr\", \"mentor\", \"mentor\", \"mentor\", \"moral\", \"morality\", \"morality\", \"noble\", \"noble\", \"nurture\", \"nurture\", \"order\", \"orient\", \"patriotism\", \"patriotism\", \"perseverance\", \"personal\", \"political\", \"protagonist\", \"protagonist\", \"protagonist\", \"protector\", \"rationality\", \"rebel\", \"rebel\", \"rebel\", \"rebellion\", \"rebellious\", \"rebellious\", \"redemption\", \"redemption\", \"reluctant\", \"reluctant\", \"resilience\", \"resilience\", \"resistance\", \"resourceful\", \"resourcefulness\", \"resourcefulness\", \"resourcefulness\", \"revenge\", \"revolutionary\", \"rogue\", \"romantic\", \"romantic\", \"romantic\", \"sacrifice\", \"sacrifice\", \"scientific\", \"scientist\", \"seeking\", \"self\", \"selflessness\", \"soldier\", \"spirit\", \"success\", \"teamwork\", \"tough\", \"tragic\", \"trickster\", \"truth\", \"valor\", \"vengeance\", \"vigilante\", \"wealthy\", \"work\"]}, \"R\": 30, \"lambda.step\": 0.01, \"plot.opts\": {\"xlab\": \"PC1\", \"ylab\": \"PC2\"}, \"topic.order\": [3, 2, 1]};\n",
       "\n",
       "function LDAvis_load_lib(url, callback){\n",
       "  var s = document.createElement('script');\n",
       "  s.src = url;\n",
       "  s.async = true;\n",
       "  s.onreadystatechange = s.onload = callback;\n",
       "  s.onerror = function(){console.warn(\"failed to load library \" + url);};\n",
       "  document.getElementsByTagName(\"head\")[0].appendChild(s);\n",
       "}\n",
       "\n",
       "if(typeof(LDAvis) !== \"undefined\"){\n",
       "   // already loaded: just create the visualization\n",
       "   !function(LDAvis){\n",
       "       new LDAvis(\"#\" + \"ldavis_el26057219768721924808540037772\", ldavis_el26057219768721924808540037772_data);\n",
       "   }(LDAvis);\n",
       "}else if(typeof define === \"function\" && define.amd){\n",
       "   // require.js is available: use it to load d3/LDAvis\n",
       "   require.config({paths: {d3: \"https://d3js.org/d3.v5\"}});\n",
       "   require([\"d3\"], function(d3){\n",
       "      window.d3 = d3;\n",
       "      LDAvis_load_lib(\"https://cdn.jsdelivr.net/gh/bmabey/pyLDAvis@3.4.0/pyLDAvis/js/ldavis.v3.0.0.js\", function(){\n",
       "        new LDAvis(\"#\" + \"ldavis_el26057219768721924808540037772\", ldavis_el26057219768721924808540037772_data);\n",
       "      });\n",
       "    });\n",
       "}else{\n",
       "    // require.js not available: dynamically load d3 & LDAvis\n",
       "    LDAvis_load_lib(\"https://d3js.org/d3.v5.js\", function(){\n",
       "         LDAvis_load_lib(\"https://cdn.jsdelivr.net/gh/bmabey/pyLDAvis@3.4.0/pyLDAvis/js/ldavis.v3.0.0.js\", function(){\n",
       "                 new LDAvis(\"#\" + \"ldavis_el26057219768721924808540037772\", ldavis_el26057219768721924808540037772_data);\n",
       "            })\n",
       "         });\n",
       "}\n",
       "</script>"
      ],
      "text/plain": [
       "<IPython.core.display.HTML object>"
      ]
     },
     "metadata": {},
     "output_type": "display_data"
    }
   ],
   "source": [
    "pyLDAvis.display(gensim_models.prepare(western_char_topic[0], western_char_topic[1], western_char_topic[2]))"
   ]
  }
 ],
 "metadata": {
  "kernelspec": {
   "display_name": "ada",
   "language": "python",
   "name": "python3"
  },
  "language_info": {
   "codemirror_mode": {
    "name": "ipython",
    "version": 3
   },
   "file_extension": ".py",
   "mimetype": "text/x-python",
   "name": "python",
   "nbconvert_exporter": "python",
   "pygments_lexer": "ipython3",
   "version": "3.11.10"
  }
 },
 "nbformat": 4,
 "nbformat_minor": 2
}
