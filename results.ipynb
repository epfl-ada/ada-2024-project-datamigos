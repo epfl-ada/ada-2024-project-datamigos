{
 "cells": [
  {
   "cell_type": "markdown",
   "metadata": {},
   "source": [
    "# Datamigos - The Iron Curtain Dirty Movie Secret\n",
    "\n",
    "During the Cold War, both the Western and Eastern blocs relied on soft power to spread ideological messages and influence global opinion, with cinema emerging as a key medium for this influence. We are interested in the way cinema served as a subtle but potent tool for political messaging during this period.\n",
    "\n",
    "In this notebook, we will build a dataset suitable for exploring this subject and we will examine this problematic from three perspectives:\n",
    "1. How international power dynamics and influence are reflected in film production.\n",
    "2. How the themes and narratives of films were crafted to convey and promote specific ideologies.\n",
    "3. How film characters were used, either as tools to manipulate populations or as mirrors of society."
   ]
  },
  {
   "cell_type": "markdown",
   "metadata": {},
   "source": [
    "**Table of content:**\n",
    "\n",
    "- [Dataset and Cleaning](#Dataset-and-Cleaning)\n",
    "- [Data Enhancement with GPT-4o mini and cleaning](#data-enhancement-with-gpt-4o-mini-and-cleaning)\n",
    "- [A first glance at the data](#a-first-glance-at-the-data)\n",
    "- [The reflection of internationnal dynamics and influences in film production](#the-reflection-of-internationnal-dynamics-and-influences-in-film-production)\n",
    "- [Thematic and narrative strategies in movies to promote ideologies]()\n",
    "- [What about movies characters?]()\n",
    "- [Conclusion]() "
   ]
  },
  {
   "cell_type": "code",
   "execution_count": 1,
   "metadata": {},
   "outputs": [],
   "source": [
    "%load_ext autoreload\n",
    "%autoreload 2\n",
    "\n",
    "import pandas as pd\n",
    "\n",
    "from src.dataset_creation.cmu_merging_cleaning import *\n",
    "from src.dataset_creation.datasets_merging import *\n",
    "from src.dataset_creation.gpt_4o_data_enhancement import *\n",
    "from src.dataset_creation.merged_dataset_preprocessing import *\n",
    "\n",
    "from src.utils.constants import *\n",
    "from src.utils.helpers import *\n",
    "\n",
    "from src.analysis.intro import *\n",
    "from ipyleaflet import Map, TileLayer, GeoJSON, Popup, WidgetControl\n",
    "from ipywidgets import HTML\n",
    "\n",
    "from src.analysis.intro import *\n",
    "from src.analysis.country_side_map import *\n",
    "from src.utils.collab_viz_helpers import *\n",
    "from src.analysis.collab_viz import *\n",
    "from src.analysis.languages_viz import *"
   ]
  },
  {
   "cell_type": "markdown",
   "metadata": {},
   "source": [
    "## Dataset Merging and Cleaning"
   ]
  },
  {
   "cell_type": "markdown",
   "metadata": {},
   "source": [
    "The first step was to build a suitable dataset for our project. It's important to note that the CMU Movie Summary Corpus was quite \"America-centric,\" which was a bit problematic for our study. To address this, we extended it with the IMDB Non-Commercial Dataset and TMDb to achieve a more balanced representation, with more movies coming from other countries like the Soviet Union. Here is a brief description of the Datasets:\n",
    "\n",
    "- [CMU Movie Summary Corpus](https://www.cs.cmu.edu/~ark/personas/):\n",
    "    - **Movies Dataset** (`movie.metadata.tsv`) Includes comprehensive information about movies. It features data such as Wikipedia and Freebase IDs, movie names, release dates, box office revenues, runtimes, languages, countries, and genres.\n",
    "    - **Plot Summaries Dataset** (`plot_summaries.text`): Offers a concise summary of movie plots, linked to movies through Wikipedia movie IDs.\n",
    "\n",
    "- [The Movies Dataset (TMDb)](https://www.kaggle.com/datasets/rounakbanik/the-movies-dataset) contains metadata for 45,000 films listed in the Full MovieLens Dataset, all of which were released on or before July 2017. We will use this dataset, specifically the movies_metadata.csv file, primarily to enrich the movie.metadata.tsv of the CMU movie dataset. Additionally, this dataset includes plot keywords (in the keywords.csv file), which will be helpful for analyzing movie plots.\n",
    "\n",
    "- [IMDB Non-Commercial Dataset](https://developer.imdb.com/non-commercial-datasets/) is a giant database containing over 50 Million movies from different regions, which allows us to complement our initial dataset specifically with movies created in the Soviet Union during the cold war. The CMU Movie Summaries data being largely focused on the United States."
   ]
  },
  {
   "cell_type": "code",
   "execution_count": 2,
   "metadata": {},
   "outputs": [],
   "source": [
    "# Load, merge and do some cleaning with our three datasets\n",
    "merged_dataset = create_merged_dataset()"
   ]
  },
  {
   "cell_type": "markdown",
   "metadata": {},
   "source": [
    "## Data Enhancement with GPT-4o mini and cleaning"
   ]
  },
  {
   "cell_type": "markdown",
   "metadata": {},
   "source": [
    "We used the GPT-4o mini model to generate 6 new columns for our dataset. The columns are:\n",
    "- `cold_war_side` - What side of the cold war the country belongs to if any\n",
    "- `character_western_bloc_representation` - How the character representing the western block is portrayed \n",
    "- `character_eastern_bloc_representation` - How the character representing the eastern block is portrayed\n",
    "- `eastern_bloc_values` - The values represented by the eastern block\n",
    "- `western_bloc_values` - The values represented by the western block\n",
    "- `theme` - The theme and keywords of the movie\n",
    "\n",
    "This will be very useful later on to grasp the context of the movies and to understand the values and themes they represent.  \n",
    "\n",
    "this is the prompt we used to generate the new columns:\n",
    "\n",
    "> You are an expert in movie history and Cold War. You will be given the name of the film, the year and the plot of the movie. You first need to analyse if the movie can be identified to the Eastern or Western bloc during the Cold War. If yes come up with the character or group of character impersonating the Western and Eastern bloc and their values as well as their main archetye.\n",
    "> Your output needs to be parsable comma separated without context (the output needs to start directly), use only keyword and very important use new line character after each of the following:\n",
    "> - Cold War side belonging either Easter, Western or None.\n",
    "> - The character or group of character representing Western bloc with their values and archetype comma separated or None.\n",
    "> - The character or group of character representing Eastern bloc with their values and archetype comma separated or None.\n",
    "> - The Western bloc representation main values and characteristics comma separated or None.\n",
    "> - The Eatern bloc representation main values and characteristics comma separated or None.\n",
    "> - The theme of the movies and keywords.\n",
    "> If and only if the movie does not belong to any of the blocs, put `None` in the respective fields.\n",
    "\n"
   ]
  },
  {
   "cell_type": "markdown",
   "metadata": {},
   "source": [
    "We need to parse all the output of GPT and clean it to be able to use it in our dataset."
   ]
  },
  {
   "cell_type": "code",
   "execution_count": 3,
   "metadata": {},
   "outputs": [],
   "source": [
    "merged_dataset_enhanced = create_enhanced_dataset()"
   ]
  },
  {
   "cell_type": "markdown",
   "metadata": {},
   "source": [
    "We now do a final cleaning, processing and drop useless columns of the dataset to prepare it for analysis."
   ]
  },
  {
   "cell_type": "code",
   "execution_count": 4,
   "metadata": {},
   "outputs": [],
   "source": [
    "preprocess_movies = create_preprocessed_movies()"
   ]
  },
  {
   "cell_type": "markdown",
   "metadata": {},
   "source": [
    "After data augmentation and pre-processing, we ended up with a dataset containing 25621 films released between 1945 and 1995, of which 2919 are classified as Eastern side and 3142 as Western side. In total, we identified 6,061 movies that could be associated with one of the blocs. They represent around 25% of our dataset with a good balance between the Western and Eastern blocs, which is a non-negligible proportion of our dataset."
   ]
  },
  {
   "cell_type": "code",
   "execution_count": 5,
   "metadata": {},
   "outputs": [
    {
     "data": {
      "application/vnd.plotly.v1+json": {
       "config": {
        "plotlyServerURL": "https://plot.ly"
       },
       "data": [
        {
         "domain": {
          "x": [
           0,
           0.45
          ],
          "y": [
           0,
           0.95
          ]
         },
         "hovertemplate": "<b>%{label}</b><br>Count: %{value}<br><extra></extra>",
         "labels": [
          "None",
          "Western",
          "Eastern"
         ],
         "marker": {
          "colors": [
           "#D5D5D5",
           "#1C5EA9",
           "#BD0032"
          ]
         },
         "name": "Side",
         "type": "pie",
         "values": [
          19560,
          3142,
          2919
         ]
        },
        {
         "domain": {
          "x": [
           0.55,
           1
          ],
          "y": [
           0,
           0.95
          ]
         },
         "hovertemplate": "<b>%{label}</b><br>Count: %{value}<br><extra></extra>",
         "labels": [
          "Western",
          "Eastern"
         ],
         "marker": {
          "colors": [
           "#1C5EA9",
           "#BD0032"
          ]
         },
         "name": "Side",
         "type": "pie",
         "values": [
          3142,
          2919
         ]
        }
       ],
       "layout": {
        "annotations": [
         {
          "font": {
           "size": 16
          },
          "showarrow": false,
          "text": "Including neutral movies",
          "x": 0.225,
          "xanchor": "center",
          "xref": "paper",
          "y": 1,
          "yanchor": "bottom",
          "yref": "paper"
         },
         {
          "font": {
           "size": 16
          },
          "showarrow": false,
          "text": "Excluding neutral movies",
          "x": 0.775,
          "xanchor": "center",
          "xref": "paper",
          "y": 1,
          "yanchor": "bottom",
          "yref": "paper"
         }
        ],
        "plot_bgcolor": "#F2F2F2",
        "template": {
         "data": {
          "bar": [
           {
            "error_x": {
             "color": "#2a3f5f"
            },
            "error_y": {
             "color": "#2a3f5f"
            },
            "marker": {
             "line": {
              "color": "#E5ECF6",
              "width": 0.5
             },
             "pattern": {
              "fillmode": "overlay",
              "size": 10,
              "solidity": 0.2
             }
            },
            "type": "bar"
           }
          ],
          "barpolar": [
           {
            "marker": {
             "line": {
              "color": "#E5ECF6",
              "width": 0.5
             },
             "pattern": {
              "fillmode": "overlay",
              "size": 10,
              "solidity": 0.2
             }
            },
            "type": "barpolar"
           }
          ],
          "carpet": [
           {
            "aaxis": {
             "endlinecolor": "#2a3f5f",
             "gridcolor": "white",
             "linecolor": "white",
             "minorgridcolor": "white",
             "startlinecolor": "#2a3f5f"
            },
            "baxis": {
             "endlinecolor": "#2a3f5f",
             "gridcolor": "white",
             "linecolor": "white",
             "minorgridcolor": "white",
             "startlinecolor": "#2a3f5f"
            },
            "type": "carpet"
           }
          ],
          "choropleth": [
           {
            "colorbar": {
             "outlinewidth": 0,
             "ticks": ""
            },
            "type": "choropleth"
           }
          ],
          "contour": [
           {
            "colorbar": {
             "outlinewidth": 0,
             "ticks": ""
            },
            "colorscale": [
             [
              0,
              "#0d0887"
             ],
             [
              0.1111111111111111,
              "#46039f"
             ],
             [
              0.2222222222222222,
              "#7201a8"
             ],
             [
              0.3333333333333333,
              "#9c179e"
             ],
             [
              0.4444444444444444,
              "#bd3786"
             ],
             [
              0.5555555555555556,
              "#d8576b"
             ],
             [
              0.6666666666666666,
              "#ed7953"
             ],
             [
              0.7777777777777778,
              "#fb9f3a"
             ],
             [
              0.8888888888888888,
              "#fdca26"
             ],
             [
              1,
              "#f0f921"
             ]
            ],
            "type": "contour"
           }
          ],
          "contourcarpet": [
           {
            "colorbar": {
             "outlinewidth": 0,
             "ticks": ""
            },
            "type": "contourcarpet"
           }
          ],
          "heatmap": [
           {
            "colorbar": {
             "outlinewidth": 0,
             "ticks": ""
            },
            "colorscale": [
             [
              0,
              "#0d0887"
             ],
             [
              0.1111111111111111,
              "#46039f"
             ],
             [
              0.2222222222222222,
              "#7201a8"
             ],
             [
              0.3333333333333333,
              "#9c179e"
             ],
             [
              0.4444444444444444,
              "#bd3786"
             ],
             [
              0.5555555555555556,
              "#d8576b"
             ],
             [
              0.6666666666666666,
              "#ed7953"
             ],
             [
              0.7777777777777778,
              "#fb9f3a"
             ],
             [
              0.8888888888888888,
              "#fdca26"
             ],
             [
              1,
              "#f0f921"
             ]
            ],
            "type": "heatmap"
           }
          ],
          "heatmapgl": [
           {
            "colorbar": {
             "outlinewidth": 0,
             "ticks": ""
            },
            "colorscale": [
             [
              0,
              "#0d0887"
             ],
             [
              0.1111111111111111,
              "#46039f"
             ],
             [
              0.2222222222222222,
              "#7201a8"
             ],
             [
              0.3333333333333333,
              "#9c179e"
             ],
             [
              0.4444444444444444,
              "#bd3786"
             ],
             [
              0.5555555555555556,
              "#d8576b"
             ],
             [
              0.6666666666666666,
              "#ed7953"
             ],
             [
              0.7777777777777778,
              "#fb9f3a"
             ],
             [
              0.8888888888888888,
              "#fdca26"
             ],
             [
              1,
              "#f0f921"
             ]
            ],
            "type": "heatmapgl"
           }
          ],
          "histogram": [
           {
            "marker": {
             "pattern": {
              "fillmode": "overlay",
              "size": 10,
              "solidity": 0.2
             }
            },
            "type": "histogram"
           }
          ],
          "histogram2d": [
           {
            "colorbar": {
             "outlinewidth": 0,
             "ticks": ""
            },
            "colorscale": [
             [
              0,
              "#0d0887"
             ],
             [
              0.1111111111111111,
              "#46039f"
             ],
             [
              0.2222222222222222,
              "#7201a8"
             ],
             [
              0.3333333333333333,
              "#9c179e"
             ],
             [
              0.4444444444444444,
              "#bd3786"
             ],
             [
              0.5555555555555556,
              "#d8576b"
             ],
             [
              0.6666666666666666,
              "#ed7953"
             ],
             [
              0.7777777777777778,
              "#fb9f3a"
             ],
             [
              0.8888888888888888,
              "#fdca26"
             ],
             [
              1,
              "#f0f921"
             ]
            ],
            "type": "histogram2d"
           }
          ],
          "histogram2dcontour": [
           {
            "colorbar": {
             "outlinewidth": 0,
             "ticks": ""
            },
            "colorscale": [
             [
              0,
              "#0d0887"
             ],
             [
              0.1111111111111111,
              "#46039f"
             ],
             [
              0.2222222222222222,
              "#7201a8"
             ],
             [
              0.3333333333333333,
              "#9c179e"
             ],
             [
              0.4444444444444444,
              "#bd3786"
             ],
             [
              0.5555555555555556,
              "#d8576b"
             ],
             [
              0.6666666666666666,
              "#ed7953"
             ],
             [
              0.7777777777777778,
              "#fb9f3a"
             ],
             [
              0.8888888888888888,
              "#fdca26"
             ],
             [
              1,
              "#f0f921"
             ]
            ],
            "type": "histogram2dcontour"
           }
          ],
          "mesh3d": [
           {
            "colorbar": {
             "outlinewidth": 0,
             "ticks": ""
            },
            "type": "mesh3d"
           }
          ],
          "parcoords": [
           {
            "line": {
             "colorbar": {
              "outlinewidth": 0,
              "ticks": ""
             }
            },
            "type": "parcoords"
           }
          ],
          "pie": [
           {
            "automargin": true,
            "type": "pie"
           }
          ],
          "scatter": [
           {
            "fillpattern": {
             "fillmode": "overlay",
             "size": 10,
             "solidity": 0.2
            },
            "type": "scatter"
           }
          ],
          "scatter3d": [
           {
            "line": {
             "colorbar": {
              "outlinewidth": 0,
              "ticks": ""
             }
            },
            "marker": {
             "colorbar": {
              "outlinewidth": 0,
              "ticks": ""
             }
            },
            "type": "scatter3d"
           }
          ],
          "scattercarpet": [
           {
            "marker": {
             "colorbar": {
              "outlinewidth": 0,
              "ticks": ""
             }
            },
            "type": "scattercarpet"
           }
          ],
          "scattergeo": [
           {
            "marker": {
             "colorbar": {
              "outlinewidth": 0,
              "ticks": ""
             }
            },
            "type": "scattergeo"
           }
          ],
          "scattergl": [
           {
            "marker": {
             "colorbar": {
              "outlinewidth": 0,
              "ticks": ""
             }
            },
            "type": "scattergl"
           }
          ],
          "scattermapbox": [
           {
            "marker": {
             "colorbar": {
              "outlinewidth": 0,
              "ticks": ""
             }
            },
            "type": "scattermapbox"
           }
          ],
          "scatterpolar": [
           {
            "marker": {
             "colorbar": {
              "outlinewidth": 0,
              "ticks": ""
             }
            },
            "type": "scatterpolar"
           }
          ],
          "scatterpolargl": [
           {
            "marker": {
             "colorbar": {
              "outlinewidth": 0,
              "ticks": ""
             }
            },
            "type": "scatterpolargl"
           }
          ],
          "scatterternary": [
           {
            "marker": {
             "colorbar": {
              "outlinewidth": 0,
              "ticks": ""
             }
            },
            "type": "scatterternary"
           }
          ],
          "surface": [
           {
            "colorbar": {
             "outlinewidth": 0,
             "ticks": ""
            },
            "colorscale": [
             [
              0,
              "#0d0887"
             ],
             [
              0.1111111111111111,
              "#46039f"
             ],
             [
              0.2222222222222222,
              "#7201a8"
             ],
             [
              0.3333333333333333,
              "#9c179e"
             ],
             [
              0.4444444444444444,
              "#bd3786"
             ],
             [
              0.5555555555555556,
              "#d8576b"
             ],
             [
              0.6666666666666666,
              "#ed7953"
             ],
             [
              0.7777777777777778,
              "#fb9f3a"
             ],
             [
              0.8888888888888888,
              "#fdca26"
             ],
             [
              1,
              "#f0f921"
             ]
            ],
            "type": "surface"
           }
          ],
          "table": [
           {
            "cells": {
             "fill": {
              "color": "#EBF0F8"
             },
             "line": {
              "color": "white"
             }
            },
            "header": {
             "fill": {
              "color": "#C8D4E3"
             },
             "line": {
              "color": "white"
             }
            },
            "type": "table"
           }
          ]
         },
         "layout": {
          "annotationdefaults": {
           "arrowcolor": "#2a3f5f",
           "arrowhead": 0,
           "arrowwidth": 1
          },
          "autotypenumbers": "strict",
          "coloraxis": {
           "colorbar": {
            "outlinewidth": 0,
            "ticks": ""
           }
          },
          "colorscale": {
           "diverging": [
            [
             0,
             "#8e0152"
            ],
            [
             0.1,
             "#c51b7d"
            ],
            [
             0.2,
             "#de77ae"
            ],
            [
             0.3,
             "#f1b6da"
            ],
            [
             0.4,
             "#fde0ef"
            ],
            [
             0.5,
             "#f7f7f7"
            ],
            [
             0.6,
             "#e6f5d0"
            ],
            [
             0.7,
             "#b8e186"
            ],
            [
             0.8,
             "#7fbc41"
            ],
            [
             0.9,
             "#4d9221"
            ],
            [
             1,
             "#276419"
            ]
           ],
           "sequential": [
            [
             0,
             "#0d0887"
            ],
            [
             0.1111111111111111,
             "#46039f"
            ],
            [
             0.2222222222222222,
             "#7201a8"
            ],
            [
             0.3333333333333333,
             "#9c179e"
            ],
            [
             0.4444444444444444,
             "#bd3786"
            ],
            [
             0.5555555555555556,
             "#d8576b"
            ],
            [
             0.6666666666666666,
             "#ed7953"
            ],
            [
             0.7777777777777778,
             "#fb9f3a"
            ],
            [
             0.8888888888888888,
             "#fdca26"
            ],
            [
             1,
             "#f0f921"
            ]
           ],
           "sequentialminus": [
            [
             0,
             "#0d0887"
            ],
            [
             0.1111111111111111,
             "#46039f"
            ],
            [
             0.2222222222222222,
             "#7201a8"
            ],
            [
             0.3333333333333333,
             "#9c179e"
            ],
            [
             0.4444444444444444,
             "#bd3786"
            ],
            [
             0.5555555555555556,
             "#d8576b"
            ],
            [
             0.6666666666666666,
             "#ed7953"
            ],
            [
             0.7777777777777778,
             "#fb9f3a"
            ],
            [
             0.8888888888888888,
             "#fdca26"
            ],
            [
             1,
             "#f0f921"
            ]
           ]
          },
          "colorway": [
           "#636efa",
           "#EF553B",
           "#00cc96",
           "#ab63fa",
           "#FFA15A",
           "#19d3f3",
           "#FF6692",
           "#B6E880",
           "#FF97FF",
           "#FECB52"
          ],
          "font": {
           "color": "#2a3f5f"
          },
          "geo": {
           "bgcolor": "white",
           "lakecolor": "white",
           "landcolor": "#E5ECF6",
           "showlakes": true,
           "showland": true,
           "subunitcolor": "white"
          },
          "hoverlabel": {
           "align": "left"
          },
          "hovermode": "closest",
          "mapbox": {
           "style": "light"
          },
          "paper_bgcolor": "white",
          "plot_bgcolor": "#E5ECF6",
          "polar": {
           "angularaxis": {
            "gridcolor": "white",
            "linecolor": "white",
            "ticks": ""
           },
           "bgcolor": "#E5ECF6",
           "radialaxis": {
            "gridcolor": "white",
            "linecolor": "white",
            "ticks": ""
           }
          },
          "scene": {
           "xaxis": {
            "backgroundcolor": "#E5ECF6",
            "gridcolor": "white",
            "gridwidth": 2,
            "linecolor": "white",
            "showbackground": true,
            "ticks": "",
            "zerolinecolor": "white"
           },
           "yaxis": {
            "backgroundcolor": "#E5ECF6",
            "gridcolor": "white",
            "gridwidth": 2,
            "linecolor": "white",
            "showbackground": true,
            "ticks": "",
            "zerolinecolor": "white"
           },
           "zaxis": {
            "backgroundcolor": "#E5ECF6",
            "gridcolor": "white",
            "gridwidth": 2,
            "linecolor": "white",
            "showbackground": true,
            "ticks": "",
            "zerolinecolor": "white"
           }
          },
          "shapedefaults": {
           "line": {
            "color": "#2a3f5f"
           }
          },
          "ternary": {
           "aaxis": {
            "gridcolor": "white",
            "linecolor": "white",
            "ticks": ""
           },
           "baxis": {
            "gridcolor": "white",
            "linecolor": "white",
            "ticks": ""
           },
           "bgcolor": "#E5ECF6",
           "caxis": {
            "gridcolor": "white",
            "linecolor": "white",
            "ticks": ""
           }
          },
          "title": {
           "x": 0.05
          },
          "xaxis": {
           "automargin": true,
           "gridcolor": "white",
           "linecolor": "white",
           "ticks": "",
           "title": {
            "standoff": 15
           },
           "zerolinecolor": "white",
           "zerolinewidth": 2
          },
          "yaxis": {
           "automargin": true,
           "gridcolor": "white",
           "linecolor": "white",
           "ticks": "",
           "title": {
            "standoff": 15
           },
           "zerolinecolor": "white",
           "zerolinewidth": 2
          }
         }
        },
        "title": {
         "font": {
          "weight": "bold"
         },
         "text": "Movies Distribution based on Cold War Side",
         "x": 0.5
        }
       }
      }
     },
     "metadata": {},
     "output_type": "display_data"
    }
   ],
   "source": [
    "plot_movies_distrib(preprocess_movies)"
   ]
  },
  {
   "cell_type": "markdown",
   "metadata": {},
   "source": [
    "## A first glance at the data"
   ]
  },
  {
   "cell_type": "markdown",
   "metadata": {},
   "source": [
    "We are now armed to start our analysis. We start by looking a little bit more in details at the number of movies produced by each country and their ideology."
   ]
  },
  {
   "cell_type": "code",
   "execution_count": 6,
   "metadata": {},
   "outputs": [
    {
     "name": "stdout",
     "output_type": "stream",
     "text": [
      "                    Country  Occurrences  Western  Eastern  None\n",
      "0                    Russia        10853      720     2324  7809\n",
      "1                   Germany          645       68       42   535\n",
      "2                     Italy         1374      139       71  1164\n",
      "3  United States of America         8239     1819      140  6280\n",
      "4                   Estonia           72        7       13    52\n"
     ]
    }
   ],
   "source": [
    "country_counts_df = compute_side_movie_count_per_country(preprocess_movies)\n",
    "\n",
    "# Display result\n",
    "print(country_counts_df.head())"
   ]
  },
  {
   "cell_type": "markdown",
   "metadata": {},
   "source": [
    "We choose to use a heatmap in order to clearly put in evidence the countries that have produce the more films."
   ]
  },
  {
   "cell_type": "code",
   "execution_count": 7,
   "metadata": {},
   "outputs": [
    {
     "data": {
      "application/vnd.jupyter.widget-view+json": {
       "model_id": "e30e7217ca464c57b931182dbcabb958",
       "version_major": 2,
       "version_minor": 0
      },
      "text/plain": [
       "Map(center=[20, 0], controls=(ZoomControl(options=['position', 'zoom_in_text', 'zoom_in_title', 'zoom_out_text…"
      ]
     },
     "metadata": {},
     "output_type": "display_data"
    }
   ],
   "source": [
    "display_map_film_nb(country_counts_df)"
   ]
  },
  {
   "cell_type": "markdown",
   "metadata": {},
   "source": [
    "The United States and Russia stand out as the main film producers during this period, with 8239 and 10853 films respectively. This clearly illustrates their global dominance and Soft Power. There are also a large number of films from European countries such as France, United Kingdom, Italy and Germany. These countries play a relevant role in our study and could prove essential in the analysis of international collaboration in the film industry.\n",
    "\n",
    "We also examined the distribution of films over years throughout the Cold War to identify trends that could provide insights for our analysis."
   ]
  },
  {
   "cell_type": "code",
   "execution_count": 8,
   "metadata": {},
   "outputs": [
    {
     "data": {
      "application/vnd.plotly.v1+json": {
       "config": {
        "plotlyServerURL": "https://plot.ly"
       },
       "data": [
        {
         "hovertemplate": "Year: %{x}<br>No. of movies: %{y}<extra></extra>",
         "marker": {
          "color": "#5C8DB8"
         },
         "type": "bar",
         "width": 0.55,
         "x": [
          1945,
          1946,
          1947,
          1948,
          1949,
          1950,
          1951,
          1952,
          1953,
          1954,
          1955,
          1956,
          1957,
          1958,
          1959,
          1960,
          1961,
          1962,
          1963,
          1964,
          1965,
          1966,
          1967,
          1968,
          1969,
          1970,
          1971,
          1972,
          1973,
          1974,
          1975,
          1976,
          1977,
          1978,
          1979,
          1980,
          1981,
          1982,
          1983,
          1984,
          1985,
          1986,
          1987,
          1988,
          1989,
          1990,
          1991,
          1992,
          1993,
          1994,
          1995
         ],
         "y": [
          216,
          216,
          267,
          279,
          283,
          308,
          322,
          334,
          379,
          351,
          421,
          436,
          451,
          461,
          457,
          441,
          462,
          457,
          470,
          482,
          500,
          550,
          546,
          573,
          571,
          573,
          595,
          620,
          629,
          600,
          556,
          597,
          610,
          541,
          580,
          587,
          629,
          625,
          643,
          610,
          675,
          698,
          760,
          795,
          778,
          743,
          415,
          406,
          476,
          492,
          155
         ]
        }
       ],
       "layout": {
        "annotations": [
         {
          "font": {
           "color": "#F7514B",
           "size": 12
          },
          "showarrow": false,
          "text": "Start of Cold War",
          "textangle": -90,
          "x": 1947,
          "xshift": 10,
          "y": 600,
          "yanchor": "middle",
          "yshift": 10
         },
         {
          "font": {
           "color": "#F7514B",
           "size": 12
          },
          "showarrow": false,
          "text": "End of Cold War",
          "textangle": -90,
          "x": 1991,
          "xshift": 10,
          "y": 600,
          "yanchor": "middle",
          "yshift": 10
         }
        ],
        "plot_bgcolor": "#F2F2F2",
        "shapes": [
         {
          "line": {
           "color": "#F7514B",
           "dash": "dash"
          },
          "type": "line",
          "x0": 1947,
          "x1": 1947,
          "xref": "x",
          "y0": 0,
          "y1": 1,
          "yref": "y domain"
         },
         {
          "line": {
           "color": "#F7514B",
           "dash": "dash"
          },
          "type": "line",
          "x0": 1991,
          "x1": 1991,
          "xref": "x",
          "y0": 0,
          "y1": 1,
          "yref": "y domain"
         }
        ],
        "template": {
         "data": {
          "bar": [
           {
            "error_x": {
             "color": "#2a3f5f"
            },
            "error_y": {
             "color": "#2a3f5f"
            },
            "marker": {
             "line": {
              "color": "#E5ECF6",
              "width": 0.5
             },
             "pattern": {
              "fillmode": "overlay",
              "size": 10,
              "solidity": 0.2
             }
            },
            "type": "bar"
           }
          ],
          "barpolar": [
           {
            "marker": {
             "line": {
              "color": "#E5ECF6",
              "width": 0.5
             },
             "pattern": {
              "fillmode": "overlay",
              "size": 10,
              "solidity": 0.2
             }
            },
            "type": "barpolar"
           }
          ],
          "carpet": [
           {
            "aaxis": {
             "endlinecolor": "#2a3f5f",
             "gridcolor": "white",
             "linecolor": "white",
             "minorgridcolor": "white",
             "startlinecolor": "#2a3f5f"
            },
            "baxis": {
             "endlinecolor": "#2a3f5f",
             "gridcolor": "white",
             "linecolor": "white",
             "minorgridcolor": "white",
             "startlinecolor": "#2a3f5f"
            },
            "type": "carpet"
           }
          ],
          "choropleth": [
           {
            "colorbar": {
             "outlinewidth": 0,
             "ticks": ""
            },
            "type": "choropleth"
           }
          ],
          "contour": [
           {
            "colorbar": {
             "outlinewidth": 0,
             "ticks": ""
            },
            "colorscale": [
             [
              0,
              "#0d0887"
             ],
             [
              0.1111111111111111,
              "#46039f"
             ],
             [
              0.2222222222222222,
              "#7201a8"
             ],
             [
              0.3333333333333333,
              "#9c179e"
             ],
             [
              0.4444444444444444,
              "#bd3786"
             ],
             [
              0.5555555555555556,
              "#d8576b"
             ],
             [
              0.6666666666666666,
              "#ed7953"
             ],
             [
              0.7777777777777778,
              "#fb9f3a"
             ],
             [
              0.8888888888888888,
              "#fdca26"
             ],
             [
              1,
              "#f0f921"
             ]
            ],
            "type": "contour"
           }
          ],
          "contourcarpet": [
           {
            "colorbar": {
             "outlinewidth": 0,
             "ticks": ""
            },
            "type": "contourcarpet"
           }
          ],
          "heatmap": [
           {
            "colorbar": {
             "outlinewidth": 0,
             "ticks": ""
            },
            "colorscale": [
             [
              0,
              "#0d0887"
             ],
             [
              0.1111111111111111,
              "#46039f"
             ],
             [
              0.2222222222222222,
              "#7201a8"
             ],
             [
              0.3333333333333333,
              "#9c179e"
             ],
             [
              0.4444444444444444,
              "#bd3786"
             ],
             [
              0.5555555555555556,
              "#d8576b"
             ],
             [
              0.6666666666666666,
              "#ed7953"
             ],
             [
              0.7777777777777778,
              "#fb9f3a"
             ],
             [
              0.8888888888888888,
              "#fdca26"
             ],
             [
              1,
              "#f0f921"
             ]
            ],
            "type": "heatmap"
           }
          ],
          "heatmapgl": [
           {
            "colorbar": {
             "outlinewidth": 0,
             "ticks": ""
            },
            "colorscale": [
             [
              0,
              "#0d0887"
             ],
             [
              0.1111111111111111,
              "#46039f"
             ],
             [
              0.2222222222222222,
              "#7201a8"
             ],
             [
              0.3333333333333333,
              "#9c179e"
             ],
             [
              0.4444444444444444,
              "#bd3786"
             ],
             [
              0.5555555555555556,
              "#d8576b"
             ],
             [
              0.6666666666666666,
              "#ed7953"
             ],
             [
              0.7777777777777778,
              "#fb9f3a"
             ],
             [
              0.8888888888888888,
              "#fdca26"
             ],
             [
              1,
              "#f0f921"
             ]
            ],
            "type": "heatmapgl"
           }
          ],
          "histogram": [
           {
            "marker": {
             "pattern": {
              "fillmode": "overlay",
              "size": 10,
              "solidity": 0.2
             }
            },
            "type": "histogram"
           }
          ],
          "histogram2d": [
           {
            "colorbar": {
             "outlinewidth": 0,
             "ticks": ""
            },
            "colorscale": [
             [
              0,
              "#0d0887"
             ],
             [
              0.1111111111111111,
              "#46039f"
             ],
             [
              0.2222222222222222,
              "#7201a8"
             ],
             [
              0.3333333333333333,
              "#9c179e"
             ],
             [
              0.4444444444444444,
              "#bd3786"
             ],
             [
              0.5555555555555556,
              "#d8576b"
             ],
             [
              0.6666666666666666,
              "#ed7953"
             ],
             [
              0.7777777777777778,
              "#fb9f3a"
             ],
             [
              0.8888888888888888,
              "#fdca26"
             ],
             [
              1,
              "#f0f921"
             ]
            ],
            "type": "histogram2d"
           }
          ],
          "histogram2dcontour": [
           {
            "colorbar": {
             "outlinewidth": 0,
             "ticks": ""
            },
            "colorscale": [
             [
              0,
              "#0d0887"
             ],
             [
              0.1111111111111111,
              "#46039f"
             ],
             [
              0.2222222222222222,
              "#7201a8"
             ],
             [
              0.3333333333333333,
              "#9c179e"
             ],
             [
              0.4444444444444444,
              "#bd3786"
             ],
             [
              0.5555555555555556,
              "#d8576b"
             ],
             [
              0.6666666666666666,
              "#ed7953"
             ],
             [
              0.7777777777777778,
              "#fb9f3a"
             ],
             [
              0.8888888888888888,
              "#fdca26"
             ],
             [
              1,
              "#f0f921"
             ]
            ],
            "type": "histogram2dcontour"
           }
          ],
          "mesh3d": [
           {
            "colorbar": {
             "outlinewidth": 0,
             "ticks": ""
            },
            "type": "mesh3d"
           }
          ],
          "parcoords": [
           {
            "line": {
             "colorbar": {
              "outlinewidth": 0,
              "ticks": ""
             }
            },
            "type": "parcoords"
           }
          ],
          "pie": [
           {
            "automargin": true,
            "type": "pie"
           }
          ],
          "scatter": [
           {
            "fillpattern": {
             "fillmode": "overlay",
             "size": 10,
             "solidity": 0.2
            },
            "type": "scatter"
           }
          ],
          "scatter3d": [
           {
            "line": {
             "colorbar": {
              "outlinewidth": 0,
              "ticks": ""
             }
            },
            "marker": {
             "colorbar": {
              "outlinewidth": 0,
              "ticks": ""
             }
            },
            "type": "scatter3d"
           }
          ],
          "scattercarpet": [
           {
            "marker": {
             "colorbar": {
              "outlinewidth": 0,
              "ticks": ""
             }
            },
            "type": "scattercarpet"
           }
          ],
          "scattergeo": [
           {
            "marker": {
             "colorbar": {
              "outlinewidth": 0,
              "ticks": ""
             }
            },
            "type": "scattergeo"
           }
          ],
          "scattergl": [
           {
            "marker": {
             "colorbar": {
              "outlinewidth": 0,
              "ticks": ""
             }
            },
            "type": "scattergl"
           }
          ],
          "scattermapbox": [
           {
            "marker": {
             "colorbar": {
              "outlinewidth": 0,
              "ticks": ""
             }
            },
            "type": "scattermapbox"
           }
          ],
          "scatterpolar": [
           {
            "marker": {
             "colorbar": {
              "outlinewidth": 0,
              "ticks": ""
             }
            },
            "type": "scatterpolar"
           }
          ],
          "scatterpolargl": [
           {
            "marker": {
             "colorbar": {
              "outlinewidth": 0,
              "ticks": ""
             }
            },
            "type": "scatterpolargl"
           }
          ],
          "scatterternary": [
           {
            "marker": {
             "colorbar": {
              "outlinewidth": 0,
              "ticks": ""
             }
            },
            "type": "scatterternary"
           }
          ],
          "surface": [
           {
            "colorbar": {
             "outlinewidth": 0,
             "ticks": ""
            },
            "colorscale": [
             [
              0,
              "#0d0887"
             ],
             [
              0.1111111111111111,
              "#46039f"
             ],
             [
              0.2222222222222222,
              "#7201a8"
             ],
             [
              0.3333333333333333,
              "#9c179e"
             ],
             [
              0.4444444444444444,
              "#bd3786"
             ],
             [
              0.5555555555555556,
              "#d8576b"
             ],
             [
              0.6666666666666666,
              "#ed7953"
             ],
             [
              0.7777777777777778,
              "#fb9f3a"
             ],
             [
              0.8888888888888888,
              "#fdca26"
             ],
             [
              1,
              "#f0f921"
             ]
            ],
            "type": "surface"
           }
          ],
          "table": [
           {
            "cells": {
             "fill": {
              "color": "#EBF0F8"
             },
             "line": {
              "color": "white"
             }
            },
            "header": {
             "fill": {
              "color": "#C8D4E3"
             },
             "line": {
              "color": "white"
             }
            },
            "type": "table"
           }
          ]
         },
         "layout": {
          "annotationdefaults": {
           "arrowcolor": "#2a3f5f",
           "arrowhead": 0,
           "arrowwidth": 1
          },
          "autotypenumbers": "strict",
          "coloraxis": {
           "colorbar": {
            "outlinewidth": 0,
            "ticks": ""
           }
          },
          "colorscale": {
           "diverging": [
            [
             0,
             "#8e0152"
            ],
            [
             0.1,
             "#c51b7d"
            ],
            [
             0.2,
             "#de77ae"
            ],
            [
             0.3,
             "#f1b6da"
            ],
            [
             0.4,
             "#fde0ef"
            ],
            [
             0.5,
             "#f7f7f7"
            ],
            [
             0.6,
             "#e6f5d0"
            ],
            [
             0.7,
             "#b8e186"
            ],
            [
             0.8,
             "#7fbc41"
            ],
            [
             0.9,
             "#4d9221"
            ],
            [
             1,
             "#276419"
            ]
           ],
           "sequential": [
            [
             0,
             "#0d0887"
            ],
            [
             0.1111111111111111,
             "#46039f"
            ],
            [
             0.2222222222222222,
             "#7201a8"
            ],
            [
             0.3333333333333333,
             "#9c179e"
            ],
            [
             0.4444444444444444,
             "#bd3786"
            ],
            [
             0.5555555555555556,
             "#d8576b"
            ],
            [
             0.6666666666666666,
             "#ed7953"
            ],
            [
             0.7777777777777778,
             "#fb9f3a"
            ],
            [
             0.8888888888888888,
             "#fdca26"
            ],
            [
             1,
             "#f0f921"
            ]
           ],
           "sequentialminus": [
            [
             0,
             "#0d0887"
            ],
            [
             0.1111111111111111,
             "#46039f"
            ],
            [
             0.2222222222222222,
             "#7201a8"
            ],
            [
             0.3333333333333333,
             "#9c179e"
            ],
            [
             0.4444444444444444,
             "#bd3786"
            ],
            [
             0.5555555555555556,
             "#d8576b"
            ],
            [
             0.6666666666666666,
             "#ed7953"
            ],
            [
             0.7777777777777778,
             "#fb9f3a"
            ],
            [
             0.8888888888888888,
             "#fdca26"
            ],
            [
             1,
             "#f0f921"
            ]
           ]
          },
          "colorway": [
           "#636efa",
           "#EF553B",
           "#00cc96",
           "#ab63fa",
           "#FFA15A",
           "#19d3f3",
           "#FF6692",
           "#B6E880",
           "#FF97FF",
           "#FECB52"
          ],
          "font": {
           "color": "#2a3f5f"
          },
          "geo": {
           "bgcolor": "white",
           "lakecolor": "white",
           "landcolor": "#E5ECF6",
           "showlakes": true,
           "showland": true,
           "subunitcolor": "white"
          },
          "hoverlabel": {
           "align": "left"
          },
          "hovermode": "closest",
          "mapbox": {
           "style": "light"
          },
          "paper_bgcolor": "white",
          "plot_bgcolor": "#E5ECF6",
          "polar": {
           "angularaxis": {
            "gridcolor": "white",
            "linecolor": "white",
            "ticks": ""
           },
           "bgcolor": "#E5ECF6",
           "radialaxis": {
            "gridcolor": "white",
            "linecolor": "white",
            "ticks": ""
           }
          },
          "scene": {
           "xaxis": {
            "backgroundcolor": "#E5ECF6",
            "gridcolor": "white",
            "gridwidth": 2,
            "linecolor": "white",
            "showbackground": true,
            "ticks": "",
            "zerolinecolor": "white"
           },
           "yaxis": {
            "backgroundcolor": "#E5ECF6",
            "gridcolor": "white",
            "gridwidth": 2,
            "linecolor": "white",
            "showbackground": true,
            "ticks": "",
            "zerolinecolor": "white"
           },
           "zaxis": {
            "backgroundcolor": "#E5ECF6",
            "gridcolor": "white",
            "gridwidth": 2,
            "linecolor": "white",
            "showbackground": true,
            "ticks": "",
            "zerolinecolor": "white"
           }
          },
          "shapedefaults": {
           "line": {
            "color": "#2a3f5f"
           }
          },
          "ternary": {
           "aaxis": {
            "gridcolor": "white",
            "linecolor": "white",
            "ticks": ""
           },
           "baxis": {
            "gridcolor": "white",
            "linecolor": "white",
            "ticks": ""
           },
           "bgcolor": "#E5ECF6",
           "caxis": {
            "gridcolor": "white",
            "linecolor": "white",
            "ticks": ""
           }
          },
          "title": {
           "x": 0.05
          },
          "xaxis": {
           "automargin": true,
           "gridcolor": "white",
           "linecolor": "white",
           "ticks": "",
           "title": {
            "standoff": 15
           },
           "zerolinecolor": "white",
           "zerolinewidth": 2
          },
          "yaxis": {
           "automargin": true,
           "gridcolor": "white",
           "linecolor": "white",
           "ticks": "",
           "title": {
            "standoff": 15
           },
           "zerolinecolor": "white",
           "zerolinewidth": 2
          }
         }
        },
        "title": {
         "text": "Number of movies by year"
        },
        "xaxis": {
         "tickangle": -45,
         "tickfont": {
          "size": 8
         },
         "tickvals": [
          1945,
          1946,
          1947,
          1948,
          1949,
          1950,
          1951,
          1952,
          1953,
          1954,
          1955,
          1956,
          1957,
          1958,
          1959,
          1960,
          1961,
          1962,
          1963,
          1964,
          1965,
          1966,
          1967,
          1968,
          1969,
          1970,
          1971,
          1972,
          1973,
          1974,
          1975,
          1976,
          1977,
          1978,
          1979,
          1980,
          1981,
          1982,
          1983,
          1984,
          1985,
          1986,
          1987,
          1988,
          1989,
          1990,
          1991,
          1992,
          1993,
          1994,
          1995
         ],
         "title": {
          "text": "Year"
         }
        },
        "yaxis": {
         "title": {
          "text": "Number of movies"
         }
        }
       }
      }
     },
     "metadata": {},
     "output_type": "display_data"
    }
   ],
   "source": [
    "plot_movies_distrib_by_year(preprocess_movies)"
   ]
  },
  {
   "cell_type": "markdown",
   "metadata": {},
   "source": [
    "The number of films produced rose steadily. This suggests that cinema played an increasingly important role in the ideological conflict.\n",
    "\n",
    "These were the results for all the films in our dataset. If we focusing exclusively on the films with a clear alignment toward one of the Cold War blocs, we observe the following distribution:"
   ]
  },
  {
   "cell_type": "code",
   "execution_count": 9,
   "metadata": {},
   "outputs": [
    {
     "name": "stderr",
     "output_type": "stream",
     "text": [
      "c:\\Users\\chbou\\anaconda3\\Lib\\site-packages\\plotly\\graph_objs\\_deprecations.py:378: DeprecationWarning:\n",
      "\n",
      "plotly.graph_objs.Line is deprecated.\n",
      "Please replace it with one of the following more specific types\n",
      "  - plotly.graph_objs.scatter.Line\n",
      "  - plotly.graph_objs.layout.shape.Line\n",
      "  - etc.\n",
      "\n",
      "\n"
     ]
    },
    {
     "data": {
      "application/vnd.plotly.v1+json": {
       "config": {
        "plotlyServerURL": "https://plot.ly"
       },
       "data": [
        {
         "hovertemplate": "Year: %{x}<br>No. of movies: %{y}<extra></extra>",
         "line": {
          "color": "#BD0032",
          "width": 2
         },
         "mode": "lines",
         "name": "Eastern",
         "type": "scatter",
         "x": [
          1945,
          1946,
          1947,
          1948,
          1949,
          1950,
          1951,
          1952,
          1953,
          1954,
          1955,
          1956,
          1957,
          1958,
          1959,
          1960,
          1961,
          1962,
          1963,
          1964,
          1965,
          1966,
          1967,
          1968,
          1969,
          1970,
          1971,
          1972,
          1973,
          1974,
          1975,
          1976,
          1977,
          1978,
          1979,
          1980,
          1981,
          1982,
          1983,
          1984,
          1985,
          1986,
          1987,
          1988,
          1989,
          1990,
          1991,
          1992,
          1993,
          1994,
          1995
         ],
         "y": [
          21,
          19,
          23,
          30,
          29,
          26,
          34,
          29,
          38,
          47,
          57,
          66,
          71,
          78,
          82,
          91,
          89,
          74,
          67,
          78,
          82,
          97,
          96,
          77,
          91,
          67,
          75,
          63,
          60,
          50,
          55,
          71,
          79,
          56,
          79,
          72,
          71,
          75,
          59,
          70,
          65,
          69,
          77,
          76,
          63,
          29,
          5,
          7,
          13,
          14,
          7
         ]
        },
        {
         "hovertemplate": "Year: %{x}<br>No. of movies: %{y}<extra></extra>",
         "line": {
          "color": "#D5D5D5",
          "width": 2
         },
         "mode": "lines",
         "name": "None",
         "type": "scatter",
         "x": [
          1945,
          1946,
          1947,
          1948,
          1949,
          1950,
          1951,
          1952,
          1953,
          1954,
          1955,
          1956,
          1957,
          1958,
          1959,
          1960,
          1961,
          1962,
          1963,
          1964,
          1965,
          1966,
          1967,
          1968,
          1969,
          1970,
          1971,
          1972,
          1973,
          1974,
          1975,
          1976,
          1977,
          1978,
          1979,
          1980,
          1981,
          1982,
          1983,
          1984,
          1985,
          1986,
          1987,
          1988,
          1989,
          1990,
          1991,
          1992,
          1993,
          1994,
          1995
         ],
         "y": [
          152,
          163,
          200,
          187,
          194,
          213,
          207,
          231,
          257,
          225,
          277,
          280,
          284,
          293,
          298,
          302,
          321,
          330,
          352,
          331,
          360,
          374,
          373,
          428,
          424,
          463,
          485,
          509,
          522,
          505,
          459,
          478,
          486,
          433,
          442,
          466,
          508,
          499,
          513,
          463,
          521,
          551,
          591,
          634,
          621,
          652,
          364,
          358,
          407,
          436,
          138
         ]
        },
        {
         "hovertemplate": "Year: %{x}<br>No. of movies: %{y}<extra></extra>",
         "line": {
          "color": "#1C5EA9",
          "width": 2
         },
         "mode": "lines",
         "name": "Western",
         "type": "scatter",
         "x": [
          1945,
          1946,
          1947,
          1948,
          1949,
          1950,
          1951,
          1952,
          1953,
          1954,
          1955,
          1956,
          1957,
          1958,
          1959,
          1960,
          1961,
          1962,
          1963,
          1964,
          1965,
          1966,
          1967,
          1968,
          1969,
          1970,
          1971,
          1972,
          1973,
          1974,
          1975,
          1976,
          1977,
          1978,
          1979,
          1980,
          1981,
          1982,
          1983,
          1984,
          1985,
          1986,
          1987,
          1988,
          1989,
          1990,
          1991,
          1992,
          1993,
          1994,
          1995
         ],
         "y": [
          43,
          34,
          44,
          62,
          60,
          69,
          81,
          74,
          84,
          79,
          87,
          90,
          96,
          90,
          77,
          48,
          52,
          53,
          51,
          73,
          58,
          79,
          77,
          68,
          56,
          43,
          35,
          48,
          47,
          45,
          42,
          48,
          45,
          52,
          59,
          49,
          50,
          51,
          71,
          77,
          89,
          78,
          92,
          85,
          94,
          62,
          46,
          41,
          56,
          42,
          10
         ]
        }
       ],
       "layout": {
        "annotations": [
         {
          "showarrow": false,
          "text": "Start of Cold War",
          "x": 1947,
          "xanchor": "left",
          "xref": "x",
          "y": 1,
          "yanchor": "top",
          "yref": "y domain"
         },
         {
          "showarrow": false,
          "text": "End of Cold War",
          "x": 1991,
          "xanchor": "left",
          "xref": "x",
          "y": 1,
          "yanchor": "top",
          "yref": "y domain"
         }
        ],
        "plot_bgcolor": "#F2F2F2",
        "shapes": [
         {
          "line": {
           "color": "black",
           "dash": "dash"
          },
          "type": "line",
          "x0": 1947,
          "x1": 1947,
          "xref": "x",
          "y0": 0,
          "y1": 1,
          "yref": "y domain"
         },
         {
          "line": {
           "color": "black",
           "dash": "dash"
          },
          "type": "line",
          "x0": 1991,
          "x1": 1991,
          "xref": "x",
          "y0": 0,
          "y1": 1,
          "yref": "y domain"
         }
        ],
        "template": {
         "data": {
          "bar": [
           {
            "error_x": {
             "color": "#2a3f5f"
            },
            "error_y": {
             "color": "#2a3f5f"
            },
            "marker": {
             "line": {
              "color": "#E5ECF6",
              "width": 0.5
             },
             "pattern": {
              "fillmode": "overlay",
              "size": 10,
              "solidity": 0.2
             }
            },
            "type": "bar"
           }
          ],
          "barpolar": [
           {
            "marker": {
             "line": {
              "color": "#E5ECF6",
              "width": 0.5
             },
             "pattern": {
              "fillmode": "overlay",
              "size": 10,
              "solidity": 0.2
             }
            },
            "type": "barpolar"
           }
          ],
          "carpet": [
           {
            "aaxis": {
             "endlinecolor": "#2a3f5f",
             "gridcolor": "white",
             "linecolor": "white",
             "minorgridcolor": "white",
             "startlinecolor": "#2a3f5f"
            },
            "baxis": {
             "endlinecolor": "#2a3f5f",
             "gridcolor": "white",
             "linecolor": "white",
             "minorgridcolor": "white",
             "startlinecolor": "#2a3f5f"
            },
            "type": "carpet"
           }
          ],
          "choropleth": [
           {
            "colorbar": {
             "outlinewidth": 0,
             "ticks": ""
            },
            "type": "choropleth"
           }
          ],
          "contour": [
           {
            "colorbar": {
             "outlinewidth": 0,
             "ticks": ""
            },
            "colorscale": [
             [
              0,
              "#0d0887"
             ],
             [
              0.1111111111111111,
              "#46039f"
             ],
             [
              0.2222222222222222,
              "#7201a8"
             ],
             [
              0.3333333333333333,
              "#9c179e"
             ],
             [
              0.4444444444444444,
              "#bd3786"
             ],
             [
              0.5555555555555556,
              "#d8576b"
             ],
             [
              0.6666666666666666,
              "#ed7953"
             ],
             [
              0.7777777777777778,
              "#fb9f3a"
             ],
             [
              0.8888888888888888,
              "#fdca26"
             ],
             [
              1,
              "#f0f921"
             ]
            ],
            "type": "contour"
           }
          ],
          "contourcarpet": [
           {
            "colorbar": {
             "outlinewidth": 0,
             "ticks": ""
            },
            "type": "contourcarpet"
           }
          ],
          "heatmap": [
           {
            "colorbar": {
             "outlinewidth": 0,
             "ticks": ""
            },
            "colorscale": [
             [
              0,
              "#0d0887"
             ],
             [
              0.1111111111111111,
              "#46039f"
             ],
             [
              0.2222222222222222,
              "#7201a8"
             ],
             [
              0.3333333333333333,
              "#9c179e"
             ],
             [
              0.4444444444444444,
              "#bd3786"
             ],
             [
              0.5555555555555556,
              "#d8576b"
             ],
             [
              0.6666666666666666,
              "#ed7953"
             ],
             [
              0.7777777777777778,
              "#fb9f3a"
             ],
             [
              0.8888888888888888,
              "#fdca26"
             ],
             [
              1,
              "#f0f921"
             ]
            ],
            "type": "heatmap"
           }
          ],
          "heatmapgl": [
           {
            "colorbar": {
             "outlinewidth": 0,
             "ticks": ""
            },
            "colorscale": [
             [
              0,
              "#0d0887"
             ],
             [
              0.1111111111111111,
              "#46039f"
             ],
             [
              0.2222222222222222,
              "#7201a8"
             ],
             [
              0.3333333333333333,
              "#9c179e"
             ],
             [
              0.4444444444444444,
              "#bd3786"
             ],
             [
              0.5555555555555556,
              "#d8576b"
             ],
             [
              0.6666666666666666,
              "#ed7953"
             ],
             [
              0.7777777777777778,
              "#fb9f3a"
             ],
             [
              0.8888888888888888,
              "#fdca26"
             ],
             [
              1,
              "#f0f921"
             ]
            ],
            "type": "heatmapgl"
           }
          ],
          "histogram": [
           {
            "marker": {
             "pattern": {
              "fillmode": "overlay",
              "size": 10,
              "solidity": 0.2
             }
            },
            "type": "histogram"
           }
          ],
          "histogram2d": [
           {
            "colorbar": {
             "outlinewidth": 0,
             "ticks": ""
            },
            "colorscale": [
             [
              0,
              "#0d0887"
             ],
             [
              0.1111111111111111,
              "#46039f"
             ],
             [
              0.2222222222222222,
              "#7201a8"
             ],
             [
              0.3333333333333333,
              "#9c179e"
             ],
             [
              0.4444444444444444,
              "#bd3786"
             ],
             [
              0.5555555555555556,
              "#d8576b"
             ],
             [
              0.6666666666666666,
              "#ed7953"
             ],
             [
              0.7777777777777778,
              "#fb9f3a"
             ],
             [
              0.8888888888888888,
              "#fdca26"
             ],
             [
              1,
              "#f0f921"
             ]
            ],
            "type": "histogram2d"
           }
          ],
          "histogram2dcontour": [
           {
            "colorbar": {
             "outlinewidth": 0,
             "ticks": ""
            },
            "colorscale": [
             [
              0,
              "#0d0887"
             ],
             [
              0.1111111111111111,
              "#46039f"
             ],
             [
              0.2222222222222222,
              "#7201a8"
             ],
             [
              0.3333333333333333,
              "#9c179e"
             ],
             [
              0.4444444444444444,
              "#bd3786"
             ],
             [
              0.5555555555555556,
              "#d8576b"
             ],
             [
              0.6666666666666666,
              "#ed7953"
             ],
             [
              0.7777777777777778,
              "#fb9f3a"
             ],
             [
              0.8888888888888888,
              "#fdca26"
             ],
             [
              1,
              "#f0f921"
             ]
            ],
            "type": "histogram2dcontour"
           }
          ],
          "mesh3d": [
           {
            "colorbar": {
             "outlinewidth": 0,
             "ticks": ""
            },
            "type": "mesh3d"
           }
          ],
          "parcoords": [
           {
            "line": {
             "colorbar": {
              "outlinewidth": 0,
              "ticks": ""
             }
            },
            "type": "parcoords"
           }
          ],
          "pie": [
           {
            "automargin": true,
            "type": "pie"
           }
          ],
          "scatter": [
           {
            "fillpattern": {
             "fillmode": "overlay",
             "size": 10,
             "solidity": 0.2
            },
            "type": "scatter"
           }
          ],
          "scatter3d": [
           {
            "line": {
             "colorbar": {
              "outlinewidth": 0,
              "ticks": ""
             }
            },
            "marker": {
             "colorbar": {
              "outlinewidth": 0,
              "ticks": ""
             }
            },
            "type": "scatter3d"
           }
          ],
          "scattercarpet": [
           {
            "marker": {
             "colorbar": {
              "outlinewidth": 0,
              "ticks": ""
             }
            },
            "type": "scattercarpet"
           }
          ],
          "scattergeo": [
           {
            "marker": {
             "colorbar": {
              "outlinewidth": 0,
              "ticks": ""
             }
            },
            "type": "scattergeo"
           }
          ],
          "scattergl": [
           {
            "marker": {
             "colorbar": {
              "outlinewidth": 0,
              "ticks": ""
             }
            },
            "type": "scattergl"
           }
          ],
          "scattermapbox": [
           {
            "marker": {
             "colorbar": {
              "outlinewidth": 0,
              "ticks": ""
             }
            },
            "type": "scattermapbox"
           }
          ],
          "scatterpolar": [
           {
            "marker": {
             "colorbar": {
              "outlinewidth": 0,
              "ticks": ""
             }
            },
            "type": "scatterpolar"
           }
          ],
          "scatterpolargl": [
           {
            "marker": {
             "colorbar": {
              "outlinewidth": 0,
              "ticks": ""
             }
            },
            "type": "scatterpolargl"
           }
          ],
          "scatterternary": [
           {
            "marker": {
             "colorbar": {
              "outlinewidth": 0,
              "ticks": ""
             }
            },
            "type": "scatterternary"
           }
          ],
          "surface": [
           {
            "colorbar": {
             "outlinewidth": 0,
             "ticks": ""
            },
            "colorscale": [
             [
              0,
              "#0d0887"
             ],
             [
              0.1111111111111111,
              "#46039f"
             ],
             [
              0.2222222222222222,
              "#7201a8"
             ],
             [
              0.3333333333333333,
              "#9c179e"
             ],
             [
              0.4444444444444444,
              "#bd3786"
             ],
             [
              0.5555555555555556,
              "#d8576b"
             ],
             [
              0.6666666666666666,
              "#ed7953"
             ],
             [
              0.7777777777777778,
              "#fb9f3a"
             ],
             [
              0.8888888888888888,
              "#fdca26"
             ],
             [
              1,
              "#f0f921"
             ]
            ],
            "type": "surface"
           }
          ],
          "table": [
           {
            "cells": {
             "fill": {
              "color": "#EBF0F8"
             },
             "line": {
              "color": "white"
             }
            },
            "header": {
             "fill": {
              "color": "#C8D4E3"
             },
             "line": {
              "color": "white"
             }
            },
            "type": "table"
           }
          ]
         },
         "layout": {
          "annotationdefaults": {
           "arrowcolor": "#2a3f5f",
           "arrowhead": 0,
           "arrowwidth": 1
          },
          "autotypenumbers": "strict",
          "coloraxis": {
           "colorbar": {
            "outlinewidth": 0,
            "ticks": ""
           }
          },
          "colorscale": {
           "diverging": [
            [
             0,
             "#8e0152"
            ],
            [
             0.1,
             "#c51b7d"
            ],
            [
             0.2,
             "#de77ae"
            ],
            [
             0.3,
             "#f1b6da"
            ],
            [
             0.4,
             "#fde0ef"
            ],
            [
             0.5,
             "#f7f7f7"
            ],
            [
             0.6,
             "#e6f5d0"
            ],
            [
             0.7,
             "#b8e186"
            ],
            [
             0.8,
             "#7fbc41"
            ],
            [
             0.9,
             "#4d9221"
            ],
            [
             1,
             "#276419"
            ]
           ],
           "sequential": [
            [
             0,
             "#0d0887"
            ],
            [
             0.1111111111111111,
             "#46039f"
            ],
            [
             0.2222222222222222,
             "#7201a8"
            ],
            [
             0.3333333333333333,
             "#9c179e"
            ],
            [
             0.4444444444444444,
             "#bd3786"
            ],
            [
             0.5555555555555556,
             "#d8576b"
            ],
            [
             0.6666666666666666,
             "#ed7953"
            ],
            [
             0.7777777777777778,
             "#fb9f3a"
            ],
            [
             0.8888888888888888,
             "#fdca26"
            ],
            [
             1,
             "#f0f921"
            ]
           ],
           "sequentialminus": [
            [
             0,
             "#0d0887"
            ],
            [
             0.1111111111111111,
             "#46039f"
            ],
            [
             0.2222222222222222,
             "#7201a8"
            ],
            [
             0.3333333333333333,
             "#9c179e"
            ],
            [
             0.4444444444444444,
             "#bd3786"
            ],
            [
             0.5555555555555556,
             "#d8576b"
            ],
            [
             0.6666666666666666,
             "#ed7953"
            ],
            [
             0.7777777777777778,
             "#fb9f3a"
            ],
            [
             0.8888888888888888,
             "#fdca26"
            ],
            [
             1,
             "#f0f921"
            ]
           ]
          },
          "colorway": [
           "#636efa",
           "#EF553B",
           "#00cc96",
           "#ab63fa",
           "#FFA15A",
           "#19d3f3",
           "#FF6692",
           "#B6E880",
           "#FF97FF",
           "#FECB52"
          ],
          "font": {
           "color": "#2a3f5f"
          },
          "geo": {
           "bgcolor": "white",
           "lakecolor": "white",
           "landcolor": "#E5ECF6",
           "showlakes": true,
           "showland": true,
           "subunitcolor": "white"
          },
          "hoverlabel": {
           "align": "left"
          },
          "hovermode": "closest",
          "mapbox": {
           "style": "light"
          },
          "paper_bgcolor": "white",
          "plot_bgcolor": "#E5ECF6",
          "polar": {
           "angularaxis": {
            "gridcolor": "white",
            "linecolor": "white",
            "ticks": ""
           },
           "bgcolor": "#E5ECF6",
           "radialaxis": {
            "gridcolor": "white",
            "linecolor": "white",
            "ticks": ""
           }
          },
          "scene": {
           "xaxis": {
            "backgroundcolor": "#E5ECF6",
            "gridcolor": "white",
            "gridwidth": 2,
            "linecolor": "white",
            "showbackground": true,
            "ticks": "",
            "zerolinecolor": "white"
           },
           "yaxis": {
            "backgroundcolor": "#E5ECF6",
            "gridcolor": "white",
            "gridwidth": 2,
            "linecolor": "white",
            "showbackground": true,
            "ticks": "",
            "zerolinecolor": "white"
           },
           "zaxis": {
            "backgroundcolor": "#E5ECF6",
            "gridcolor": "white",
            "gridwidth": 2,
            "linecolor": "white",
            "showbackground": true,
            "ticks": "",
            "zerolinecolor": "white"
           }
          },
          "shapedefaults": {
           "line": {
            "color": "#2a3f5f"
           }
          },
          "ternary": {
           "aaxis": {
            "gridcolor": "white",
            "linecolor": "white",
            "ticks": ""
           },
           "baxis": {
            "gridcolor": "white",
            "linecolor": "white",
            "ticks": ""
           },
           "bgcolor": "#E5ECF6",
           "caxis": {
            "gridcolor": "white",
            "linecolor": "white",
            "ticks": ""
           }
          },
          "title": {
           "x": 0.05
          },
          "xaxis": {
           "automargin": true,
           "gridcolor": "white",
           "linecolor": "white",
           "ticks": "",
           "title": {
            "standoff": 15
           },
           "zerolinecolor": "white",
           "zerolinewidth": 2
          },
          "yaxis": {
           "automargin": true,
           "gridcolor": "white",
           "linecolor": "white",
           "ticks": "",
           "title": {
            "standoff": 15
           },
           "zerolinecolor": "white",
           "zerolinewidth": 2
          }
         }
        },
        "title": {
         "text": "Evolution of the number of movies per side by year"
        },
        "xaxis": {
         "tickangle": -45,
         "tickfont": {
          "size": 8
         },
         "tickvals": [
          1945,
          1946,
          1947,
          1948,
          1949,
          1950,
          1951,
          1952,
          1953,
          1954,
          1955,
          1956,
          1957,
          1958,
          1959,
          1960,
          1961,
          1962,
          1963,
          1964,
          1965,
          1966,
          1967,
          1968,
          1969,
          1970,
          1971,
          1972,
          1973,
          1974,
          1975,
          1976,
          1977,
          1978,
          1979,
          1980,
          1981,
          1982,
          1983,
          1984,
          1985,
          1986,
          1987,
          1988,
          1989,
          1990,
          1991,
          1992,
          1993,
          1994,
          1995
         ],
         "title": {
          "text": "Year"
         }
        },
        "yaxis": {
         "title": {
          "text": "Number of movies"
         }
        }
       }
      }
     },
     "metadata": {},
     "output_type": "display_data"
    }
   ],
   "source": [
    "plot_evol_nb_movies(preprocess_movies)"
   ]
  },
  {
   "cell_type": "markdown",
   "metadata": {},
   "source": [
    "From the beginning of the Cold War, the Western Bloc quickly seemed to take the lead in film production, or at least, the number of films classified as Western dominated. This was likely aimed at asserting its cultural and ideological power in response to rising tensions. The production of western oriented films can be seen as a strategy to promote capitalist and democratic ideals, not only to its own audience but also to influence allies – ensuring they did not switch sides – and neutral countries.\n",
    "\n",
    "Between 1952 and 1959, the number of films representing Eastern values increased significantly, even surpassing those representing the West. This sudden rise seems to be a reaction from the USSR and its partisans, seeking to promote their communist ideals and counter the Western cultural influence. The number of Eastern-oriented films surpassed that of Western-oriented films until 1984. Subsequently, fluctuations were observed, followed by a sharp decline in 1989. This decline also affected Western films and coincided with the fall of the Berlin Wall. As tensions eased, films no longer needed to embody bloc-specific values as much as they did during the conflit."
   ]
  },
  {
   "cell_type": "markdown",
   "metadata": {},
   "source": [
    "## The reflection of internationnal dynamics and influences in film production\n",
    "\n",
    "Clearly, the USA and the USSR are superpowers, demonstrating their superiority on all levels, including film production, as we've just seen. Yet beyond their status, these two nations seek to “dominate” the world and rally as many countries as possible to their ideology. To achieve this goal, they cannot act alone. They must form alliances to contain the expansion of their adversaries and warn off potential aggression.\n",
    "\n",
    "Do these alliances manifest themselves in film production? To find out, we've examined the films produced by each country and classified them according to the number of East- or West-oriented films."
   ]
  },
  {
   "cell_type": "code",
   "execution_count": 10,
   "metadata": {},
   "outputs": [
    {
     "data": {
      "application/vnd.jupyter.widget-view+json": {
       "model_id": "aad364b254794d729c80f6a4a45be95d",
       "version_major": 2,
       "version_minor": 0
      },
      "text/plain": [
       "Map(center=[20, 0], controls=(ZoomControl(options=['position', 'zoom_in_text', 'zoom_in_title', 'zoom_out_text…"
      ]
     },
     "metadata": {},
     "output_type": "display_data"
    }
   ],
   "source": [
    "display_country_side_map(country_counts_df)"
   ]
  },
  {
   "cell_type": "markdown",
   "metadata": {},
   "source": [
    "The choice of a heatmap allow us to clearly see the alliances formed during the Cold War, as we can mainly identify member countries of NATO and The Warsaw Pact.\n",
    "\n",
    "If you take a closer look at European production, you can see the line of the Iron Wall. To the east of Germany, there is clearly a greater proportion of East-sided films. As the number of sided films per country is not necessarily huge, small differences between the number of west and east-sided films can quickly sway a country. Nevertheless, the result seems consistent with historical reality.\n",
    "\n",
    "As mentioned above, the map once again shows the superiority of American and Russian productions in terms of numbers. As our dataset does not have much information for African and South American countries, we clearly see a lack of analysis possibilities in these regions on the map.\n",
    "\n",
    "We do, however, have one clear initial result: film production was an important geopolitical propaganda tool during the Cold War. De facto, war imagery is a powerful tool for influencing the masses."
   ]
  },
  {
   "cell_type": "markdown",
   "metadata": {},
   "source": [
    "Another intriguing aspect of our dataset is the representation of countries involved in producing the movies, captured in the `countries` column. Analyzing this feature can provide valuable insights into the various strategies employed to promote the ideologies at play during this period.\n",
    "\n",
    "A network is an effective way to visualize collaborations between countries. In this graph representation, each country is assigned to a node, with the size of the nodes proportional to the number of films the country has produced. Each node is also categorized based on the Cold War side, 'Western,' 'Eastern,' 'None,' or 'Lack of data', depending on the proportion of politically engaged movies the country has produced. Additionally, the edges between nodes represent collaborations between countries, with their thickness and transparency increasing as the number of collaborations grows."
   ]
  },
  {
   "cell_type": "code",
   "execution_count": 11,
   "metadata": {},
   "outputs": [
    {
     "data": {
      "application/vnd.plotly.v1+json": {
       "config": {
        "plotlyServerURL": "https://plot.ly"
       },
       "data": [
        {
         "hoverinfo": "none",
         "line": {
          "color": "rgba(187, 185, 185, 1)",
          "width": 0.13
         },
         "mode": "lines",
         "type": "scatter",
         "x": [
          -0.09039754266951439,
          -0.718641184979664,
          null
         ],
         "y": [
          0.9953073700859448,
          0.7471081958960062,
          null
         ]
        },
        {
         "hoverinfo": "none",
         "line": {
          "color": "rgba(189, 0, 50, 0.0563063063063063)",
          "width": 0.05
         },
         "mode": "lines",
         "type": "scatter",
         "x": [
          -0.09039754266951439,
          0.0819876272753912,
          null
         ],
         "y": [
          0.9953073700859448,
          0.9918964347624716,
          null
         ]
        },
        {
         "hoverinfo": "none",
         "line": {
          "color": "rgba(187, 185, 185, 1)",
          "width": 0.09
         },
         "mode": "lines",
         "type": "scatter",
         "x": [
          -0.09039754266951439,
          -0.049789583463932335,
          null
         ],
         "y": [
          0.9953073700859448,
          -0.29043199722759716,
          null
         ]
        },
        {
         "hoverinfo": "none",
         "line": {
          "color": "rgba(187, 185, 185, 1)",
          "width": 0.1
         },
         "mode": "lines",
         "type": "scatter",
         "x": [
          -0.09039754266951439,
          -0.4325300747395223,
          null
         ],
         "y": [
          0.9953073700859448,
          -0.5220851042100673,
          null
         ]
        },
        {
         "hoverinfo": "none",
         "line": {
          "color": "rgba(187, 185, 185, 1)",
          "width": 0.07
         },
         "mode": "lines",
         "type": "scatter",
         "x": [
          -0.09039754266951439,
          -0.29045046678587927,
          null
         ],
         "y": [
          0.9953073700859448,
          -0.09714391855028509,
          null
         ]
        },
        {
         "hoverinfo": "none",
         "line": {
          "color": "rgba(187, 185, 185, 1)",
          "width": 0.03
         },
         "mode": "lines",
         "type": "scatter",
         "x": [
          -0.09039754266951439,
          -0.4808398312550001,
          null
         ],
         "y": [
          0.9953073700859448,
          -0.863800578620939,
          null
         ]
        },
        {
         "hoverinfo": "none",
         "line": {
          "color": "rgba(187, 185, 185, 1)",
          "width": 0.06
         },
         "mode": "lines",
         "type": "scatter",
         "x": [
          -0.09039754266951439,
          -0.20139677323850097,
          null
         ],
         "y": [
          0.9953073700859448,
          0.9854506716886003,
          null
         ]
        },
        {
         "hoverinfo": "none",
         "line": {
          "color": "rgba(189, 0, 50, 0.04504504504504504)",
          "width": 0.04
         },
         "mode": "lines",
         "type": "scatter",
         "x": [
          -0.09039754266951439,
          -0.9760540355660953,
          null
         ],
         "y": [
          0.9953073700859448,
          0.0766445753751248,
          null
         ]
        },
        {
         "hoverinfo": "none",
         "line": {
          "color": "rgba(187, 185, 185, 1)",
          "width": 0.06
         },
         "mode": "lines",
         "type": "scatter",
         "x": [
          -0.09039754266951439,
          0.03594188509064794,
          null
         ],
         "y": [
          0.9953073700859448,
          -0.08061416770098245,
          null
         ]
        },
        {
         "hoverinfo": "none",
         "line": {
          "color": "rgba(187, 185, 185, 1)",
          "width": 0.02
         },
         "mode": "lines",
         "type": "scatter",
         "x": [
          -0.09039754266951439,
          0.540944674629126,
          null
         ],
         "y": [
          0.9953073700859448,
          -0.8440237511317803,
          null
         ]
        },
        {
         "hoverinfo": "none",
         "line": {
          "color": "rgba(187, 185, 185, 1)",
          "width": 0.01
         },
         "mode": "lines",
         "type": "scatter",
         "x": [
          -0.09039754266951439,
          -0.9703300437788777,
          null
         ],
         "y": [
          0.9953073700859448,
          -0.23048459787059877,
          null
         ]
        },
        {
         "hoverinfo": "none",
         "line": {
          "color": "rgba(187, 185, 185, 1)",
          "width": 0.01
         },
         "mode": "lines",
         "type": "scatter",
         "x": [
          -0.09039754266951439,
          -0.03616366069211022,
          null
         ],
         "y": [
          0.9953073700859448,
          0.9684321061433148,
          null
         ]
        },
        {
         "hoverinfo": "none",
         "line": {
          "color": "rgba(187, 185, 185, 1)",
          "width": 0.02
         },
         "mode": "lines",
         "type": "scatter",
         "x": [
          -0.09039754266951439,
          0.7434382158987388,
          null
         ],
         "y": [
          0.9953073700859448,
          0.6139050094280043,
          null
         ]
        },
        {
         "hoverinfo": "none",
         "line": {
          "color": "rgba(189, 0, 50, 0.01126126126126126)",
          "width": 0.01
         },
         "mode": "lines",
         "type": "scatter",
         "x": [
          -0.09039754266951439,
          -0.9598391530575267,
          null
         ],
         "y": [
          0.9953073700859448,
          0.2772813054250828,
          null
         ]
        },
        {
         "hoverinfo": "none",
         "line": {
          "color": "rgba(187, 185, 185, 1)",
          "width": 0.02
         },
         "mode": "lines",
         "type": "scatter",
         "x": [
          -0.09039754266951439,
          0.9376807675982876,
          null
         ],
         "y": [
          0.9953073700859448,
          -0.3699124814103114,
          null
         ]
        },
        {
         "hoverinfo": "none",
         "line": {
          "color": "rgba(187, 185, 185, 1)",
          "width": 0.03
         },
         "mode": "lines",
         "type": "scatter",
         "x": [
          -0.09039754266951439,
          -0.5418436644365965,
          null
         ],
         "y": [
          0.9953073700859448,
          0.35859488640263115,
          null
         ]
        },
        {
         "hoverinfo": "none",
         "line": {
          "color": "rgba(187, 185, 185, 1)",
          "width": 0.01
         },
         "mode": "lines",
         "type": "scatter",
         "x": [
          -0.09039754266951439,
          0.39131499594542263,
          null
         ],
         "y": [
          0.9953073700859448,
          0.808442035631209,
          null
         ]
        },
        {
         "hoverinfo": "none",
         "line": {
          "color": "rgba(187, 185, 185, 1)",
          "width": 0.02
         },
         "mode": "lines",
         "type": "scatter",
         "x": [
          -0.09039754266951439,
          -0.11515697519275878,
          null
         ],
         "y": [
          0.9953073700859448,
          -0.1594756096347247,
          null
         ]
        },
        {
         "hoverinfo": "none",
         "line": {
          "color": "rgba(189, 0, 50, 0.01126126126126126)",
          "width": 0.01
         },
         "mode": "lines",
         "type": "scatter",
         "x": [
          -0.09039754266951439,
          0.305612760052693,
          null
         ],
         "y": [
          0.9953073700859448,
          0.9090916776296535,
          null
         ]
        },
        {
         "hoverinfo": "none",
         "line": {
          "color": "rgba(189, 0, 50, 0.02252252252252252)",
          "width": 0.02
         },
         "mode": "lines",
         "type": "scatter",
         "x": [
          -0.09039754266951439,
          0.8987753618780496,
          null
         ],
         "y": [
          0.9953073700859448,
          0.4786809521886066,
          null
         ]
        },
        {
         "hoverinfo": "none",
         "line": {
          "color": "rgba(187, 185, 185, 1)",
          "width": 0.01
         },
         "mode": "lines",
         "type": "scatter",
         "x": [
          -0.09039754266951439,
          0.24050730782694932,
          null
         ],
         "y": [
          0.9953073700859448,
          -0.9389567059437505,
          null
         ]
        },
        {
         "hoverinfo": "none",
         "line": {
          "color": "rgba(187, 185, 185, 1)",
          "width": 0.01
         },
         "mode": "lines",
         "type": "scatter",
         "x": [
          -0.09039754266951439,
          0.014720878046645633,
          null
         ],
         "y": [
          0.9953073700859448,
          -0.9908926142674225,
          null
         ]
        },
        {
         "hoverinfo": "none",
         "line": {
          "color": "rgba(187, 185, 185, 1)",
          "width": 0.01
         },
         "mode": "lines",
         "type": "scatter",
         "x": [
          -0.09039754266951439,
          0.7709405049974591,
          null
         ],
         "y": [
          0.9953073700859448,
          -0.6238668571002145,
          null
         ]
        },
        {
         "hoverinfo": "none",
         "line": {
          "color": "rgba(187, 185, 185, 1)",
          "width": 0.01
         },
         "mode": "lines",
         "type": "scatter",
         "x": [
          -0.09039754266951439,
          0.6892125724167775,
          null
         ],
         "y": [
          0.9953073700859448,
          -0.6748348879657244,
          null
         ]
        },
        {
         "hoverinfo": "none",
         "line": {
          "color": "rgba(187, 185, 185, 1)",
          "width": 0.01
         },
         "mode": "lines",
         "type": "scatter",
         "x": [
          -0.09039754266951439,
          -0.7756677990087528,
          null
         ],
         "y": [
          0.9953073700859448,
          0.5729709297484066,
          null
         ]
        },
        {
         "hoverinfo": "none",
         "line": {
          "color": "rgba(189, 0, 50, 0.01126126126126126)",
          "width": 0.01
         },
         "mode": "lines",
         "type": "scatter",
         "x": [
          -0.09039754266951439,
          -0.03560024760116079,
          null
         ],
         "y": [
          0.9953073700859448,
          -0.9750875534808698,
          null
         ]
        },
        {
         "hoverinfo": "none",
         "line": {
          "color": "rgba(187, 185, 185, 1)",
          "width": 0.01
         },
         "mode": "lines",
         "type": "scatter",
         "x": [
          -0.09039754266951439,
          -0.8433685763902231,
          null
         ],
         "y": [
          0.9953073700859448,
          -0.5397907300716649,
          null
         ]
        },
        {
         "hoverinfo": "none",
         "line": {
          "color": "rgba(189, 0, 50, 0.01126126126126126)",
          "width": 0.01
         },
         "mode": "lines",
         "type": "scatter",
         "x": [
          -0.09039754266951439,
          -0.890026536050201,
          null
         ],
         "y": [
          0.9953073700859448,
          -0.33313703292832664,
          null
         ]
        },
        {
         "hoverinfo": "none",
         "line": {
          "color": "rgba(189, 0, 50, 0.01126126126126126)",
          "width": 0.01
         },
         "mode": "lines",
         "type": "scatter",
         "x": [
          -0.09039754266951439,
          -0.7613097630425704,
          null
         ],
         "y": [
          0.9953073700859448,
          -0.6314977908637813,
          null
         ]
        },
        {
         "hoverinfo": "none",
         "line": {
          "color": "rgba(28, 94, 169, 1.6216216216216217)",
          "width": 1.44
         },
         "mode": "lines",
         "type": "scatter",
         "x": [
          0.03594188509064794,
          -0.4325300747395223,
          null
         ],
         "y": [
          -0.08061416770098245,
          -0.5220851042100673,
          null
         ]
        },
        {
         "hoverinfo": "none",
         "line": {
          "color": "rgba(28, 94, 169, 1.9031531531531531)",
          "width": 1.69
         },
         "mode": "lines",
         "type": "scatter",
         "x": [
          0.03594188509064794,
          -0.049789583463932335,
          null
         ],
         "y": [
          -0.08061416770098245,
          -0.29043199722759716,
          null
         ]
        },
        {
         "hoverinfo": "none",
         "line": {
          "color": "rgba(187, 185, 185, 1)",
          "width": 0.26
         },
         "mode": "lines",
         "type": "scatter",
         "x": [
          0.03594188509064794,
          -0.5570977418486838,
          null
         ],
         "y": [
          -0.08061416770098245,
          0.7262112635362499,
          null
         ]
        },
        {
         "hoverinfo": "none",
         "line": {
          "color": "rgba(28, 94, 169, 0.32657657657657657)",
          "width": 0.29
         },
         "mode": "lines",
         "type": "scatter",
         "x": [
          0.03594188509064794,
          0.014720878046645633,
          null
         ],
         "y": [
          -0.08061416770098245,
          -0.9908926142674225,
          null
         ]
        },
        {
         "hoverinfo": "none",
         "line": {
          "color": "rgba(28, 94, 169, 1.15990990990991)",
          "width": 1.03
         },
         "mode": "lines",
         "type": "scatter",
         "x": [
          0.03594188509064794,
          -0.29045046678587927,
          null
         ],
         "y": [
          -0.08061416770098245,
          -0.09714391855028509,
          null
         ]
        },
        {
         "hoverinfo": "none",
         "line": {
          "color": "rgba(28, 94, 169, 0.8558558558558559)",
          "width": 0.76
         },
         "mode": "lines",
         "type": "scatter",
         "x": [
          0.03594188509064794,
          -0.11515697519275878,
          null
         ],
         "y": [
          -0.08061416770098245,
          -0.1594756096347247,
          null
         ]
        },
        {
         "hoverinfo": "none",
         "line": {
          "color": "rgba(187, 185, 185, 1)",
          "width": 0.19
         },
         "mode": "lines",
         "type": "scatter",
         "x": [
          0.03594188509064794,
          -0.5418436644365965,
          null
         ],
         "y": [
          -0.08061416770098245,
          0.35859488640263115,
          null
         ]
        },
        {
         "hoverinfo": "none",
         "line": {
          "color": "rgba(187, 185, 185, 1)",
          "width": 0.02
         },
         "mode": "lines",
         "type": "scatter",
         "x": [
          0.03594188509064794,
          -0.9106037271673105,
          null
         ],
         "y": [
          -0.08061416770098245,
          0.1018151354622127,
          null
         ]
        },
        {
         "hoverinfo": "none",
         "line": {
          "color": "rgba(187, 185, 185, 1)",
          "width": 0.03
         },
         "mode": "lines",
         "type": "scatter",
         "x": [
          0.03594188509064794,
          -0.5108662366198753,
          null
         ],
         "y": [
          -0.08061416770098245,
          -0.8044868269930487,
          null
         ]
        },
        {
         "hoverinfo": "none",
         "line": {
          "color": "rgba(187, 185, 185, 1)",
          "width": 0.01
         },
         "mode": "lines",
         "type": "scatter",
         "x": [
          0.03594188509064794,
          0.9620394559438948,
          null
         ],
         "y": [
          -0.08061416770098245,
          0.05985110623483903,
          null
         ]
        },
        {
         "hoverinfo": "none",
         "line": {
          "color": "rgba(187, 185, 185, 1)",
          "width": 0.02
         },
         "mode": "lines",
         "type": "scatter",
         "x": [
          0.03594188509064794,
          0.6562666585631067,
          null
         ],
         "y": [
          -0.08061416770098245,
          -0.7412670898733315,
          null
         ]
        },
        {
         "hoverinfo": "none",
         "line": {
          "color": "rgba(187, 185, 185, 1)",
          "width": 0.02
         },
         "mode": "lines",
         "type": "scatter",
         "x": [
          0.03594188509064794,
          -0.6423234937817698,
          null
         ],
         "y": [
          -0.08061416770098245,
          0.7641906656108423,
          null
         ]
        },
        {
         "hoverinfo": "none",
         "line": {
          "color": "rgba(187, 185, 185, 1)",
          "width": 0.28
         },
         "mode": "lines",
         "type": "scatter",
         "x": [
          0.03594188509064794,
          0.7709405049974591,
          null
         ],
         "y": [
          -0.08061416770098245,
          -0.6238668571002145,
          null
         ]
        },
        {
         "hoverinfo": "none",
         "line": {
          "color": "rgba(187, 185, 185, 1)",
          "width": 0.04
         },
         "mode": "lines",
         "type": "scatter",
         "x": [
          0.03594188509064794,
          -0.8433685763902231,
          null
         ],
         "y": [
          -0.08061416770098245,
          -0.5397907300716649,
          null
         ]
        },
        {
         "hoverinfo": "none",
         "line": {
          "color": "rgba(187, 185, 185, 1)",
          "width": 0.02
         },
         "mode": "lines",
         "type": "scatter",
         "x": [
          0.03594188509064794,
          -0.9442339298921666,
          null
         ],
         "y": [
          -0.08061416770098245,
          -0.17147605943375868,
          null
         ]
        },
        {
         "hoverinfo": "none",
         "line": {
          "color": "rgba(187, 185, 185, 1)",
          "width": 0.01
         },
         "mode": "lines",
         "type": "scatter",
         "x": [
          0.03594188509064794,
          0.031509778276237674,
          null
         ],
         "y": [
          -0.08061416770098245,
          0.9526732963166377,
          null
         ]
        },
        {
         "hoverinfo": "none",
         "line": {
          "color": "rgba(28, 94, 169, 0.1126126126126126)",
          "width": 0.1
         },
         "mode": "lines",
         "type": "scatter",
         "x": [
          0.03594188509064794,
          0.24050730782694932,
          null
         ],
         "y": [
          -0.08061416770098245,
          -0.9389567059437505,
          null
         ]
        },
        {
         "hoverinfo": "none",
         "line": {
          "color": "rgba(187, 185, 185, 1)",
          "width": 0.01
         },
         "mode": "lines",
         "type": "scatter",
         "x": [
          0.03594188509064794,
          0.9376807675982876,
          null
         ],
         "y": [
          -0.08061416770098245,
          -0.3699124814103114,
          null
         ]
        },
        {
         "hoverinfo": "none",
         "line": {
          "color": "rgba(187, 185, 185, 1)",
          "width": 0.07
         },
         "mode": "lines",
         "type": "scatter",
         "x": [
          0.03594188509064794,
          0.955850441372372,
          null
         ],
         "y": [
          -0.08061416770098245,
          0.3368768522200347,
          null
         ]
        },
        {
         "hoverinfo": "none",
         "line": {
          "color": "rgba(187, 185, 185, 1)",
          "width": 0.04
         },
         "mode": "lines",
         "type": "scatter",
         "x": [
          0.03594188509064794,
          0.39131499594542263,
          null
         ],
         "y": [
          -0.08061416770098245,
          0.808442035631209,
          null
         ]
        },
        {
         "hoverinfo": "none",
         "line": {
          "color": "rgba(187, 185, 185, 1)",
          "width": 0.02
         },
         "mode": "lines",
         "type": "scatter",
         "x": [
          0.03594188509064794,
          0.9858589547110296,
          null
         ],
         "y": [
          -0.08061416770098245,
          0.0029642405713294247,
          null
         ]
        },
        {
         "hoverinfo": "none",
         "line": {
          "color": "rgba(187, 185, 185, 1)",
          "width": 0.02
         },
         "mode": "lines",
         "type": "scatter",
         "x": [
          0.03594188509064794,
          -0.9727866793774038,
          null
         ],
         "y": [
          -0.08061416770098245,
          -0.0530714772300817,
          null
         ]
        },
        {
         "hoverinfo": "none",
         "line": {
          "color": "rgba(187, 185, 185, 1)",
          "width": 0.1
         },
         "mode": "lines",
         "type": "scatter",
         "x": [
          0.03594188509064794,
          0.8987753618780496,
          null
         ],
         "y": [
          -0.08061416770098245,
          0.4786809521886066,
          null
         ]
        },
        {
         "hoverinfo": "none",
         "line": {
          "color": "rgba(187, 185, 185, 1)",
          "width": 0.09
         },
         "mode": "lines",
         "type": "scatter",
         "x": [
          0.03594188509064794,
          0.444487520967563,
          null
         ],
         "y": [
          -0.08061416770098245,
          0.9039117982016478,
          null
         ]
        },
        {
         "hoverinfo": "none",
         "line": {
          "color": "rgba(187, 185, 185, 1)",
          "width": 0.05
         },
         "mode": "lines",
         "type": "scatter",
         "x": [
          0.03594188509064794,
          -0.8697970909595018,
          null
         ],
         "y": [
          -0.08061416770098245,
          0.46952842688707463,
          null
         ]
        },
        {
         "hoverinfo": "none",
         "line": {
          "color": "rgba(187, 185, 185, 1)",
          "width": 0.08
         },
         "mode": "lines",
         "type": "scatter",
         "x": [
          0.03594188509064794,
          -0.9760540355660953,
          null
         ],
         "y": [
          -0.08061416770098245,
          0.0766445753751248,
          null
         ]
        },
        {
         "hoverinfo": "none",
         "line": {
          "color": "rgba(28, 94, 169, 0.1126126126126126)",
          "width": 0.1
         },
         "mode": "lines",
         "type": "scatter",
         "x": [
          0.03594188509064794,
          0.6854663266859259,
          null
         ],
         "y": [
          -0.08061416770098245,
          0.689400112478604,
          null
         ]
        },
        {
         "hoverinfo": "none",
         "line": {
          "color": "rgba(187, 185, 185, 1)",
          "width": 0.1
         },
         "mode": "lines",
         "type": "scatter",
         "x": [
          0.03594188509064794,
          0.540944674629126,
          null
         ],
         "y": [
          -0.08061416770098245,
          -0.8440237511317803,
          null
         ]
        },
        {
         "hoverinfo": "none",
         "line": {
          "color": "rgba(187, 185, 185, 1)",
          "width": 0.01
         },
         "mode": "lines",
         "type": "scatter",
         "x": [
          0.03594188509064794,
          -0.2592640942126677,
          null
         ],
         "y": [
          -0.08061416770098245,
          -0.9495996447549943,
          null
         ]
        },
        {
         "hoverinfo": "none",
         "line": {
          "color": "rgba(28, 94, 169, 0.01126126126126126)",
          "width": 0.01
         },
         "mode": "lines",
         "type": "scatter",
         "x": [
          0.03594188509064794,
          -0.6177625142573949,
          null
         ],
         "y": [
          -0.08061416770098245,
          -0.7583318836834293,
          null
         ]
        },
        {
         "hoverinfo": "none",
         "line": {
          "color": "rgba(187, 185, 185, 1)",
          "width": 0.03
         },
         "mode": "lines",
         "type": "scatter",
         "x": [
          0.03594188509064794,
          -0.39802838141068053,
          null
         ],
         "y": [
          -0.08061416770098245,
          0.9468085685650457,
          null
         ]
        },
        {
         "hoverinfo": "none",
         "line": {
          "color": "rgba(187, 185, 185, 1)",
          "width": 0.06
         },
         "mode": "lines",
         "type": "scatter",
         "x": [
          0.03594188509064794,
          0.9447299376818743,
          null
         ],
         "y": [
          -0.08061416770098245,
          -0.0916014154937672,
          null
         ]
        },
        {
         "hoverinfo": "none",
         "line": {
          "color": "rgba(187, 185, 185, 1)",
          "width": 0.03
         },
         "mode": "lines",
         "type": "scatter",
         "x": [
          0.03594188509064794,
          0.9190805425378015,
          null
         ],
         "y": [
          -0.08061416770098245,
          0.29399738990982927,
          null
         ]
        },
        {
         "hoverinfo": "none",
         "line": {
          "color": "rgba(28, 94, 169, 0.1126126126126126)",
          "width": 0.1
         },
         "mode": "lines",
         "type": "scatter",
         "x": [
          0.03594188509064794,
          -0.7016821867124674,
          null
         ],
         "y": [
          -0.08061416770098245,
          0.654927411053579,
          null
         ]
        },
        {
         "hoverinfo": "none",
         "line": {
          "color": "rgba(187, 185, 185, 1)",
          "width": 0.08
         },
         "mode": "lines",
         "type": "scatter",
         "x": [
          0.03594188509064794,
          -0.4808398312550001,
          null
         ],
         "y": [
          -0.08061416770098245,
          -0.863800578620939,
          null
         ]
        },
        {
         "hoverinfo": "none",
         "line": {
          "color": "rgba(187, 185, 185, 1)",
          "width": 0.03
         },
         "mode": "lines",
         "type": "scatter",
         "x": [
          0.03594188509064794,
          -0.9598391530575267,
          null
         ],
         "y": [
          -0.08061416770098245,
          0.2772813054250828,
          null
         ]
        },
        {
         "hoverinfo": "none",
         "line": {
          "color": "rgba(187, 185, 185, 1)",
          "width": 0.01
         },
         "mode": "lines",
         "type": "scatter",
         "x": [
          0.03594188509064794,
          -0.30878041457790567,
          null
         ],
         "y": [
          -0.08061416770098245,
          -0.9077759224919225,
          null
         ]
        },
        {
         "hoverinfo": "none",
         "line": {
          "color": "rgba(187, 185, 185, 1)",
          "width": 0.01
         },
         "mode": "lines",
         "type": "scatter",
         "x": [
          0.03594188509064794,
          0.4673628000206714,
          null
         ],
         "y": [
          -0.08061416770098245,
          -0.8545081921230111,
          null
         ]
        },
        {
         "hoverinfo": "none",
         "line": {
          "color": "rgba(187, 185, 185, 1)",
          "width": 0.07
         },
         "mode": "lines",
         "type": "scatter",
         "x": [
          0.03594188509064794,
          0.7434382158987388,
          null
         ],
         "y": [
          -0.08061416770098245,
          0.6139050094280043,
          null
         ]
        },
        {
         "hoverinfo": "none",
         "line": {
          "color": "rgba(187, 185, 185, 1)",
          "width": 0.04
         },
         "mode": "lines",
         "type": "scatter",
         "x": [
          0.03594188509064794,
          0.9538937025771157,
          null
         ],
         "y": [
          -0.08061416770098245,
          -0.21823592738502817,
          null
         ]
        },
        {
         "hoverinfo": "none",
         "line": {
          "color": "rgba(187, 185, 185, 1)",
          "width": 0.01
         },
         "mode": "lines",
         "type": "scatter",
         "x": [
          0.03594188509064794,
          -1,
          null
         ],
         "y": [
          -0.08061416770098245,
          0.005784562936655106,
          null
         ]
        },
        {
         "hoverinfo": "none",
         "line": {
          "color": "rgba(187, 185, 185, 1)",
          "width": 0.08
         },
         "mode": "lines",
         "type": "scatter",
         "x": [
          0.03594188509064794,
          -0.03560024760116079,
          null
         ],
         "y": [
          -0.08061416770098245,
          -0.9750875534808698,
          null
         ]
        },
        {
         "hoverinfo": "none",
         "line": {
          "color": "rgba(187, 185, 185, 1)",
          "width": 0.01
         },
         "mode": "lines",
         "type": "scatter",
         "x": [
          0.03594188509064794,
          -0.8423585086279203,
          null
         ],
         "y": [
          -0.08061416770098245,
          0.551650867559718,
          null
         ]
        },
        {
         "hoverinfo": "none",
         "line": {
          "color": "rgba(187, 185, 185, 1)",
          "width": 0.01
         },
         "mode": "lines",
         "type": "scatter",
         "x": [
          0.03594188509064794,
          -0.571890666842389,
          null
         ],
         "y": [
          -0.08061416770098245,
          -0.8188021378050561,
          null
         ]
        },
        {
         "hoverinfo": "none",
         "line": {
          "color": "rgba(28, 94, 169, 0.0563063063063063)",
          "width": 0.05
         },
         "mode": "lines",
         "type": "scatter",
         "x": [
          0.03594188509064794,
          -0.9703300437788777,
          null
         ],
         "y": [
          -0.08061416770098245,
          -0.23048459787059877,
          null
         ]
        },
        {
         "hoverinfo": "none",
         "line": {
          "color": "rgba(187, 185, 185, 1)",
          "width": 0.02
         },
         "mode": "lines",
         "type": "scatter",
         "x": [
          0.03594188509064794,
          0.07452908981031829,
          null
         ],
         "y": [
          -0.08061416770098245,
          -0.9529111877712696,
          null
         ]
        },
        {
         "hoverinfo": "none",
         "line": {
          "color": "rgba(187, 185, 185, 1)",
          "width": 0.05
         },
         "mode": "lines",
         "type": "scatter",
         "x": [
          0.03594188509064794,
          -0.7364857304604823,
          null
         ],
         "y": [
          -0.08061416770098245,
          -0.7049848448532657,
          null
         ]
        },
        {
         "hoverinfo": "none",
         "line": {
          "color": "rgba(187, 185, 185, 1)",
          "width": 0.02
         },
         "mode": "lines",
         "type": "scatter",
         "x": [
          0.03594188509064794,
          -0.41273830967721,
          null
         ],
         "y": [
          -0.08061416770098245,
          -0.8802397036075882,
          null
         ]
        },
        {
         "hoverinfo": "none",
         "line": {
          "color": "rgba(187, 185, 185, 1)",
          "width": 0.03
         },
         "mode": "lines",
         "type": "scatter",
         "x": [
          0.03594188509064794,
          0.9531517750120252,
          null
         ],
         "y": [
          -0.08061416770098245,
          -0.28780628178389084,
          null
         ]
        },
        {
         "hoverinfo": "none",
         "line": {
          "color": "rgba(187, 185, 185, 1)",
          "width": 0.01
         },
         "mode": "lines",
         "type": "scatter",
         "x": [
          0.03594188509064794,
          -0.7613097630425704,
          null
         ],
         "y": [
          -0.08061416770098245,
          -0.6314977908637813,
          null
         ]
        },
        {
         "hoverinfo": "none",
         "line": {
          "color": "rgba(187, 185, 185, 1)",
          "width": 0.01
         },
         "mode": "lines",
         "type": "scatter",
         "x": [
          0.03594188509064794,
          0.5652270236869756,
          null
         ],
         "y": [
          -0.08061416770098245,
          0.8305817173911906,
          null
         ]
        },
        {
         "hoverinfo": "none",
         "line": {
          "color": "rgba(187, 185, 185, 1)",
          "width": 0.01
         },
         "mode": "lines",
         "type": "scatter",
         "x": [
          0.03594188509064794,
          -0.7842594015928912,
          null
         ],
         "y": [
          -0.08061416770098245,
          -0.5697409164053655,
          null
         ]
        },
        {
         "hoverinfo": "none",
         "line": {
          "color": "rgba(187, 185, 185, 1)",
          "width": 0.01
         },
         "mode": "lines",
         "type": "scatter",
         "x": [
          0.03594188509064794,
          -0.718641184979664,
          null
         ],
         "y": [
          -0.08061416770098245,
          0.7471081958960062,
          null
         ]
        },
        {
         "hoverinfo": "none",
         "line": {
          "color": "rgba(187, 185, 185, 1)",
          "width": 0.01
         },
         "mode": "lines",
         "type": "scatter",
         "x": [
          0.03594188509064794,
          0.9067855703257748,
          null
         ],
         "y": [
          -0.08061416770098245,
          -0.4519395685978457,
          null
         ]
        },
        {
         "hoverinfo": "none",
         "line": {
          "color": "rgba(187, 185, 185, 1)",
          "width": 0.01
         },
         "mode": "lines",
         "type": "scatter",
         "x": [
          0.03594188509064794,
          0.9998026043051625,
          null
         ],
         "y": [
          -0.08061416770098245,
          -0.06935929177127546,
          null
         ]
        },
        {
         "hoverinfo": "none",
         "line": {
          "color": "rgba(187, 185, 185, 1)",
          "width": 0.04
         },
         "mode": "lines",
         "type": "scatter",
         "x": [
          -0.4325300747395223,
          -0.14783745010940474,
          null
         ],
         "y": [
          -0.5220851042100673,
          -0.9342791235614362,
          null
         ]
        },
        {
         "hoverinfo": "none",
         "line": {
          "color": "rgba(28, 94, 169, 5.0)",
          "width": 4.44
         },
         "mode": "lines",
         "type": "scatter",
         "x": [
          -0.4325300747395223,
          -0.049789583463932335,
          null
         ],
         "y": [
          -0.5220851042100673,
          -0.29043199722759716,
          null
         ]
        },
        {
         "hoverinfo": "none",
         "line": {
          "color": "rgba(28, 94, 169, 0.13513513513513514)",
          "width": 0.12
         },
         "mode": "lines",
         "type": "scatter",
         "x": [
          -0.4325300747395223,
          -0.7016821867124674,
          null
         ],
         "y": [
          -0.5220851042100673,
          0.654927411053579,
          null
         ]
        },
        {
         "hoverinfo": "none",
         "line": {
          "color": "rgba(28, 94, 169, 1.6666666666666665)",
          "width": 1.48
         },
         "mode": "lines",
         "type": "scatter",
         "x": [
          -0.4325300747395223,
          0.014720878046645633,
          null
         ],
         "y": [
          -0.5220851042100673,
          -0.9908926142674225,
          null
         ]
        },
        {
         "hoverinfo": "none",
         "line": {
          "color": "rgba(28, 94, 169, 1.4527027027027026)",
          "width": 1.29
         },
         "mode": "lines",
         "type": "scatter",
         "x": [
          -0.4325300747395223,
          -0.29045046678587927,
          null
         ],
         "y": [
          -0.5220851042100673,
          -0.09714391855028509,
          null
         ]
        },
        {
         "hoverinfo": "none",
         "line": {
          "color": "rgba(187, 185, 185, 1)",
          "width": 0.06
         },
         "mode": "lines",
         "type": "scatter",
         "x": [
          -0.4325300747395223,
          -0.5570977418486838,
          null
         ],
         "y": [
          -0.5220851042100673,
          0.7262112635362499,
          null
         ]
        },
        {
         "hoverinfo": "none",
         "line": {
          "color": "rgba(28, 94, 169, 0.5968468468468469)",
          "width": 0.53
         },
         "mode": "lines",
         "type": "scatter",
         "x": [
          -0.4325300747395223,
          -0.11515697519275878,
          null
         ],
         "y": [
          -0.5220851042100673,
          -0.1594756096347247,
          null
         ]
        },
        {
         "hoverinfo": "none",
         "line": {
          "color": "rgba(28, 94, 169, 0.033783783783783786)",
          "width": 0.03
         },
         "mode": "lines",
         "type": "scatter",
         "x": [
          -0.4325300747395223,
          -0.9703300437788777,
          null
         ],
         "y": [
          -0.5220851042100673,
          -0.23048459787059877,
          null
         ]
        },
        {
         "hoverinfo": "none",
         "line": {
          "color": "rgba(28, 94, 169, 0.04504504504504504)",
          "width": 0.04
         },
         "mode": "lines",
         "type": "scatter",
         "x": [
          -0.4325300747395223,
          0.24050730782694932,
          null
         ],
         "y": [
          -0.5220851042100673,
          -0.9389567059437505,
          null
         ]
        },
        {
         "hoverinfo": "none",
         "line": {
          "color": "rgba(187, 185, 185, 1)",
          "width": 0.07
         },
         "mode": "lines",
         "type": "scatter",
         "x": [
          -0.4325300747395223,
          -0.8697970909595018,
          null
         ],
         "y": [
          -0.5220851042100673,
          0.46952842688707463,
          null
         ]
        },
        {
         "hoverinfo": "none",
         "line": {
          "color": "rgba(28, 94, 169, 0.12387387387387387)",
          "width": 0.11
         },
         "mode": "lines",
         "type": "scatter",
         "x": [
          -0.4325300747395223,
          0.6854663266859259,
          null
         ],
         "y": [
          -0.5220851042100673,
          0.689400112478604,
          null
         ]
        },
        {
         "hoverinfo": "none",
         "line": {
          "color": "rgba(187, 185, 185, 1)",
          "width": 0.03
         },
         "mode": "lines",
         "type": "scatter",
         "x": [
          -0.4325300747395223,
          -0.7364857304604823,
          null
         ],
         "y": [
          -0.5220851042100673,
          -0.7049848448532657,
          null
         ]
        },
        {
         "hoverinfo": "none",
         "line": {
          "color": "rgba(28, 94, 169, 0.0563063063063063)",
          "width": 0.05
         },
         "mode": "lines",
         "type": "scatter",
         "x": [
          -0.4325300747395223,
          -0.6177625142573949,
          null
         ],
         "y": [
          -0.5220851042100673,
          -0.7583318836834293,
          null
         ]
        },
        {
         "hoverinfo": "none",
         "line": {
          "color": "rgba(187, 185, 185, 1)",
          "width": 0.03
         },
         "mode": "lines",
         "type": "scatter",
         "x": [
          -0.4325300747395223,
          -0.9442339298921666,
          null
         ],
         "y": [
          -0.5220851042100673,
          -0.17147605943375868,
          null
         ]
        },
        {
         "hoverinfo": "none",
         "line": {
          "color": "rgba(187, 185, 185, 1)",
          "width": 0.03
         },
         "mode": "lines",
         "type": "scatter",
         "x": [
          -0.4325300747395223,
          -0.9400079658243227,
          null
         ],
         "y": [
          -0.5220851042100673,
          -0.2890158044508549,
          null
         ]
        },
        {
         "hoverinfo": "none",
         "line": {
          "color": "rgba(187, 185, 185, 1)",
          "width": 0.01
         },
         "mode": "lines",
         "type": "scatter",
         "x": [
          -0.4325300747395223,
          0.9863512666852733,
          null
         ],
         "y": [
          -0.5220851042100673,
          -0.1604000460690139,
          null
         ]
        },
        {
         "hoverinfo": "none",
         "line": {
          "color": "rgba(187, 185, 185, 1)",
          "width": 0.03
         },
         "mode": "lines",
         "type": "scatter",
         "x": [
          -0.4325300747395223,
          0.6562666585631067,
          null
         ],
         "y": [
          -0.5220851042100673,
          -0.7412670898733315,
          null
         ]
        },
        {
         "hoverinfo": "none",
         "line": {
          "color": "rgba(187, 185, 185, 1)",
          "width": 0.02
         },
         "mode": "lines",
         "type": "scatter",
         "x": [
          -0.4325300747395223,
          0.8743965651480335,
          null
         ],
         "y": [
          -0.5220851042100673,
          -0.3162740157460976,
          null
         ]
        },
        {
         "hoverinfo": "none",
         "line": {
          "color": "rgba(187, 185, 185, 1)",
          "width": 0.08
         },
         "mode": "lines",
         "type": "scatter",
         "x": [
          -0.4325300747395223,
          0.7709405049974591,
          null
         ],
         "y": [
          -0.5220851042100673,
          -0.6238668571002145,
          null
         ]
        },
        {
         "hoverinfo": "none",
         "line": {
          "color": "rgba(187, 185, 185, 1)",
          "width": 0.05
         },
         "mode": "lines",
         "type": "scatter",
         "x": [
          -0.4325300747395223,
          -0.39802838141068053,
          null
         ],
         "y": [
          -0.5220851042100673,
          0.9468085685650457,
          null
         ]
        },
        {
         "hoverinfo": "none",
         "line": {
          "color": "rgba(187, 185, 185, 1)",
          "width": 0.02
         },
         "mode": "lines",
         "type": "scatter",
         "x": [
          -0.4325300747395223,
          0.8159151994036037,
          null
         ],
         "y": [
          -0.5220851042100673,
          0.4587065254697006,
          null
         ]
        },
        {
         "hoverinfo": "none",
         "line": {
          "color": "rgba(187, 185, 185, 1)",
          "width": 0.01
         },
         "mode": "lines",
         "type": "scatter",
         "x": [
          -0.4325300747395223,
          -0.2592640942126677,
          null
         ],
         "y": [
          -0.5220851042100673,
          -0.9495996447549943,
          null
         ]
        },
        {
         "hoverinfo": "none",
         "line": {
          "color": "rgba(187, 185, 185, 1)",
          "width": 0.04
         },
         "mode": "lines",
         "type": "scatter",
         "x": [
          -0.4325300747395223,
          -0.5418436644365965,
          null
         ],
         "y": [
          -0.5220851042100673,
          0.35859488640263115,
          null
         ]
        },
        {
         "hoverinfo": "none",
         "line": {
          "color": "rgba(187, 185, 185, 1)",
          "width": 0.04
         },
         "mode": "lines",
         "type": "scatter",
         "x": [
          -0.4325300747395223,
          0.540944674629126,
          null
         ],
         "y": [
          -0.5220851042100673,
          -0.8440237511317803,
          null
         ]
        },
        {
         "hoverinfo": "none",
         "line": {
          "color": "rgba(187, 185, 185, 1)",
          "width": 0.03
         },
         "mode": "lines",
         "type": "scatter",
         "x": [
          -0.4325300747395223,
          -0.03616366069211022,
          null
         ],
         "y": [
          -0.5220851042100673,
          0.9684321061433148,
          null
         ]
        },
        {
         "hoverinfo": "none",
         "line": {
          "color": "rgba(187, 185, 185, 1)",
          "width": 0.01
         },
         "mode": "lines",
         "type": "scatter",
         "x": [
          -0.4325300747395223,
          -0.9760540355660953,
          null
         ],
         "y": [
          -0.5220851042100673,
          0.0766445753751248,
          null
         ]
        },
        {
         "hoverinfo": "none",
         "line": {
          "color": "rgba(187, 185, 185, 1)",
          "width": 0.02
         },
         "mode": "lines",
         "type": "scatter",
         "x": [
          -0.4325300747395223,
          0.9447299376818743,
          null
         ],
         "y": [
          -0.5220851042100673,
          -0.0916014154937672,
          null
         ]
        },
        {
         "hoverinfo": "none",
         "line": {
          "color": "rgba(187, 185, 185, 1)",
          "width": 0.02
         },
         "mode": "lines",
         "type": "scatter",
         "x": [
          -0.4325300747395223,
          0.955850441372372,
          null
         ],
         "y": [
          -0.5220851042100673,
          0.3368768522200347,
          null
         ]
        },
        {
         "hoverinfo": "none",
         "line": {
          "color": "rgba(187, 185, 185, 1)",
          "width": 0.02
         },
         "mode": "lines",
         "type": "scatter",
         "x": [
          -0.4325300747395223,
          0.9531517750120252,
          null
         ],
         "y": [
          -0.5220851042100673,
          -0.28780628178389084,
          null
         ]
        },
        {
         "hoverinfo": "none",
         "line": {
          "color": "rgba(187, 185, 185, 1)",
          "width": 0.02
         },
         "mode": "lines",
         "type": "scatter",
         "x": [
          -0.4325300747395223,
          0.6003122955774816,
          null
         ],
         "y": [
          -0.5220851042100673,
          -0.7801493033083269,
          null
         ]
        },
        {
         "hoverinfo": "none",
         "line": {
          "color": "rgba(187, 185, 185, 1)",
          "width": 0.01
         },
         "mode": "lines",
         "type": "scatter",
         "x": [
          -0.4325300747395223,
          -0.4808398312550001,
          null
         ],
         "y": [
          -0.5220851042100673,
          -0.863800578620939,
          null
         ]
        },
        {
         "hoverinfo": "none",
         "line": {
          "color": "rgba(187, 185, 185, 1)",
          "width": 0.01
         },
         "mode": "lines",
         "type": "scatter",
         "x": [
          -0.4325300747395223,
          -0.5073004062338606,
          null
         ],
         "y": [
          -0.5220851042100673,
          0.831775341530129,
          null
         ]
        },
        {
         "hoverinfo": "none",
         "line": {
          "color": "rgba(187, 185, 185, 1)",
          "width": 0.02
         },
         "mode": "lines",
         "type": "scatter",
         "x": [
          -0.4325300747395223,
          -0.8433685763902231,
          null
         ],
         "y": [
          -0.5220851042100673,
          -0.5397907300716649,
          null
         ]
        },
        {
         "hoverinfo": "none",
         "line": {
          "color": "rgba(187, 185, 185, 1)",
          "width": 0.02
         },
         "mode": "lines",
         "type": "scatter",
         "x": [
          -0.4325300747395223,
          0.9067855703257748,
          null
         ],
         "y": [
          -0.5220851042100673,
          -0.4519395685978457,
          null
         ]
        },
        {
         "hoverinfo": "none",
         "line": {
          "color": "rgba(187, 185, 185, 1)",
          "width": 0.07
         },
         "mode": "lines",
         "type": "scatter",
         "x": [
          -0.4325300747395223,
          0.444487520967563,
          null
         ],
         "y": [
          -0.5220851042100673,
          0.9039117982016478,
          null
         ]
        },
        {
         "hoverinfo": "none",
         "line": {
          "color": "rgba(187, 185, 185, 1)",
          "width": 0.01
         },
         "mode": "lines",
         "type": "scatter",
         "x": [
          -0.4325300747395223,
          0.6475602405972704,
          null
         ],
         "y": [
          -0.5220851042100673,
          0.7876843926224265,
          null
         ]
        },
        {
         "hoverinfo": "none",
         "line": {
          "color": "rgba(187, 185, 185, 1)",
          "width": 0.02
         },
         "mode": "lines",
         "type": "scatter",
         "x": [
          -0.4325300747395223,
          0.9806353976375713,
          null
         ],
         "y": [
          -0.5220851042100673,
          0.11745071683067616,
          null
         ]
        },
        {
         "hoverinfo": "none",
         "line": {
          "color": "rgba(187, 185, 185, 1)",
          "width": 0.01
         },
         "mode": "lines",
         "type": "scatter",
         "x": [
          -0.4325300747395223,
          -0.2961523759090147,
          null
         ],
         "y": [
          -0.5220851042100673,
          0.9581439013008709,
          null
         ]
        },
        {
         "hoverinfo": "none",
         "line": {
          "color": "rgba(187, 185, 185, 1)",
          "width": 0.02
         },
         "mode": "lines",
         "type": "scatter",
         "x": [
          -0.4325300747395223,
          0.9538937025771157,
          null
         ],
         "y": [
          -0.5220851042100673,
          -0.21823592738502817,
          null
         ]
        },
        {
         "hoverinfo": "none",
         "line": {
          "color": "rgba(187, 185, 185, 1)",
          "width": 0.01
         },
         "mode": "lines",
         "type": "scatter",
         "x": [
          -0.4325300747395223,
          -0.7874086753982931,
          null
         ],
         "y": [
          -0.5220851042100673,
          0.6583964554546868,
          null
         ]
        },
        {
         "hoverinfo": "none",
         "line": {
          "color": "rgba(187, 185, 185, 1)",
          "width": 0.02
         },
         "mode": "lines",
         "type": "scatter",
         "x": [
          -0.4325300747395223,
          0.5258093019942209,
          null
         ],
         "y": [
          -0.5220851042100673,
          -0.7702227562660936,
          null
         ]
        },
        {
         "hoverinfo": "none",
         "line": {
          "color": "rgba(187, 185, 185, 1)",
          "width": 0.01
         },
         "mode": "lines",
         "type": "scatter",
         "x": [
          -0.4325300747395223,
          0.7434382158987388,
          null
         ],
         "y": [
          -0.5220851042100673,
          0.6139050094280043,
          null
         ]
        },
        {
         "hoverinfo": "none",
         "line": {
          "color": "rgba(187, 185, 185, 1)",
          "width": 0.01
         },
         "mode": "lines",
         "type": "scatter",
         "x": [
          -0.4325300747395223,
          0.9858589547110296,
          null
         ],
         "y": [
          -0.5220851042100673,
          0.0029642405713294247,
          null
         ]
        },
        {
         "hoverinfo": "none",
         "line": {
          "color": "rgba(187, 185, 185, 1)",
          "width": 0.01
         },
         "mode": "lines",
         "type": "scatter",
         "x": [
          -0.4325300747395223,
          0.39131499594542263,
          null
         ],
         "y": [
          -0.5220851042100673,
          0.808442035631209,
          null
         ]
        },
        {
         "hoverinfo": "none",
         "line": {
          "color": "rgba(187, 185, 185, 1)",
          "width": 0.01
         },
         "mode": "lines",
         "type": "scatter",
         "x": [
          -0.4325300747395223,
          -0.571890666842389,
          null
         ],
         "y": [
          -0.5220851042100673,
          -0.8188021378050561,
          null
         ]
        },
        {
         "hoverinfo": "none",
         "line": {
          "color": "rgba(187, 185, 185, 1)",
          "width": 0.01
         },
         "mode": "lines",
         "type": "scatter",
         "x": [
          -0.4325300747395223,
          -0.41273830967721,
          null
         ],
         "y": [
          -0.5220851042100673,
          -0.8802397036075882,
          null
         ]
        },
        {
         "hoverinfo": "none",
         "line": {
          "color": "rgba(187, 185, 185, 1)",
          "width": 0.01
         },
         "mode": "lines",
         "type": "scatter",
         "x": [
          -0.4325300747395223,
          -0.6423234937817698,
          null
         ],
         "y": [
          -0.5220851042100673,
          0.7641906656108423,
          null
         ]
        },
        {
         "hoverinfo": "none",
         "line": {
          "color": "rgba(187, 185, 185, 1)",
          "width": 0.01
         },
         "mode": "lines",
         "type": "scatter",
         "x": [
          -0.4325300747395223,
          0.1384041974084264,
          null
         ],
         "y": [
          -0.5220851042100673,
          -0.9557557778878748,
          null
         ]
        },
        {
         "hoverinfo": "none",
         "line": {
          "color": "rgba(187, 185, 185, 1)",
          "width": 0.01
         },
         "mode": "lines",
         "type": "scatter",
         "x": [
          -0.4325300747395223,
          0.8987753618780496,
          null
         ],
         "y": [
          -0.5220851042100673,
          0.4786809521886066,
          null
         ]
        },
        {
         "hoverinfo": "none",
         "line": {
          "color": "rgba(187, 185, 185, 1)",
          "width": 0.01
         },
         "mode": "lines",
         "type": "scatter",
         "x": [
          -0.4325300747395223,
          -0.718641184979664,
          null
         ],
         "y": [
          -0.5220851042100673,
          0.7471081958960062,
          null
         ]
        },
        {
         "hoverinfo": "none",
         "line": {
          "color": "rgba(187, 185, 185, 1)",
          "width": 0.01
         },
         "mode": "lines",
         "type": "scatter",
         "x": [
          -0.4325300747395223,
          -1,
          null
         ],
         "y": [
          -0.5220851042100673,
          0.005784562936655106,
          null
         ]
        },
        {
         "hoverinfo": "none",
         "line": {
          "color": "rgba(187, 185, 185, 1)",
          "width": 0.02
         },
         "mode": "lines",
         "type": "scatter",
         "x": [
          -0.29045046678587927,
          -0.939095359872664,
          null
         ],
         "y": [
          -0.09714391855028509,
          0.2216203118006076,
          null
         ]
        },
        {
         "hoverinfo": "none",
         "line": {
          "color": "rgba(28, 94, 169, 1.2725225225225225)",
          "width": 1.1300000000000001
         },
         "mode": "lines",
         "type": "scatter",
         "x": [
          -0.29045046678587927,
          -0.049789583463932335,
          null
         ],
         "y": [
          -0.09714391855028509,
          -0.29043199722759716,
          null
         ]
        },
        {
         "hoverinfo": "none",
         "line": {
          "color": "rgba(28, 94, 169, 4.63963963963964)",
          "width": 4.12
         },
         "mode": "lines",
         "type": "scatter",
         "x": [
          -0.29045046678587927,
          -0.11515697519275878,
          null
         ],
         "y": [
          -0.09714391855028509,
          -0.1594756096347247,
          null
         ]
        },
        {
         "hoverinfo": "none",
         "line": {
          "color": "rgba(28, 94, 169, 0.4617117117117117)",
          "width": 0.41000000000000003
         },
         "mode": "lines",
         "type": "scatter",
         "x": [
          -0.29045046678587927,
          0.014720878046645633,
          null
         ],
         "y": [
          -0.09714391855028509,
          -0.9908926142674225,
          null
         ]
        },
        {
         "hoverinfo": "none",
         "line": {
          "color": "rgba(187, 185, 185, 1)",
          "width": 0.77
         },
         "mode": "lines",
         "type": "scatter",
         "x": [
          -0.29045046678587927,
          -0.4808398312550001,
          null
         ],
         "y": [
          -0.09714391855028509,
          -0.863800578620939,
          null
         ]
        },
        {
         "hoverinfo": "none",
         "line": {
          "color": "rgba(28, 94, 169, 1.3063063063063063)",
          "width": 1.16
         },
         "mode": "lines",
         "type": "scatter",
         "x": [
          -0.29045046678587927,
          0.24050730782694932,
          null
         ],
         "y": [
          -0.09714391855028509,
          -0.9389567059437505,
          null
         ]
        },
        {
         "hoverinfo": "none",
         "line": {
          "color": "rgba(28, 94, 169, 0.3490990990990991)",
          "width": 0.31
         },
         "mode": "lines",
         "type": "scatter",
         "x": [
          -0.29045046678587927,
          -0.9703300437788777,
          null
         ],
         "y": [
          -0.09714391855028509,
          -0.23048459787059877,
          null
         ]
        },
        {
         "hoverinfo": "none",
         "line": {
          "color": "rgba(187, 185, 185, 1)",
          "width": 0.11
         },
         "mode": "lines",
         "type": "scatter",
         "x": [
          -0.29045046678587927,
          -0.5570977418486838,
          null
         ],
         "y": [
          -0.09714391855028509,
          0.7262112635362499,
          null
         ]
        },
        {
         "hoverinfo": "none",
         "line": {
          "color": "rgba(187, 185, 185, 1)",
          "width": 0.15
         },
         "mode": "lines",
         "type": "scatter",
         "x": [
          -0.29045046678587927,
          -0.5108662366198753,
          null
         ],
         "y": [
          -0.09714391855028509,
          -0.8044868269930487,
          null
         ]
        },
        {
         "hoverinfo": "none",
         "line": {
          "color": "rgba(187, 185, 185, 1)",
          "width": 0.03
         },
         "mode": "lines",
         "type": "scatter",
         "x": [
          -0.29045046678587927,
          0.9538937025771157,
          null
         ],
         "y": [
          -0.09714391855028509,
          -0.21823592738502817,
          null
         ]
        },
        {
         "hoverinfo": "none",
         "line": {
          "color": "rgba(187, 185, 185, 1)",
          "width": 0.03
         },
         "mode": "lines",
         "type": "scatter",
         "x": [
          -0.29045046678587927,
          0.9858589547110296,
          null
         ],
         "y": [
          -0.09714391855028509,
          0.0029642405713294247,
          null
         ]
        },
        {
         "hoverinfo": "none",
         "line": {
          "color": "rgba(187, 185, 185, 1)",
          "width": 0.23
         },
         "mode": "lines",
         "type": "scatter",
         "x": [
          -0.29045046678587927,
          -0.03616366069211022,
          null
         ],
         "y": [
          -0.09714391855028509,
          0.9684321061433148,
          null
         ]
        },
        {
         "hoverinfo": "none",
         "line": {
          "color": "rgba(187, 185, 185, 1)",
          "width": 0.01
         },
         "mode": "lines",
         "type": "scatter",
         "x": [
          -0.29045046678587927,
          -0.9598391530575267,
          null
         ],
         "y": [
          -0.09714391855028509,
          0.2772813054250828,
          null
         ]
        },
        {
         "hoverinfo": "none",
         "line": {
          "color": "rgba(187, 185, 185, 1)",
          "width": 0.15
         },
         "mode": "lines",
         "type": "scatter",
         "x": [
          -0.29045046678587927,
          -0.6423234937817698,
          null
         ],
         "y": [
          -0.09714391855028509,
          0.7641906656108423,
          null
         ]
        },
        {
         "hoverinfo": "none",
         "line": {
          "color": "rgba(187, 185, 185, 1)",
          "width": 0.22
         },
         "mode": "lines",
         "type": "scatter",
         "x": [
          -0.29045046678587927,
          0.1384041974084264,
          null
         ],
         "y": [
          -0.09714391855028509,
          -0.9557557778878748,
          null
         ]
        },
        {
         "hoverinfo": "none",
         "line": {
          "color": "rgba(28, 94, 169, 0.4391891891891892)",
          "width": 0.39
         },
         "mode": "lines",
         "type": "scatter",
         "x": [
          -0.29045046678587927,
          -0.6177625142573949,
          null
         ],
         "y": [
          -0.09714391855028509,
          -0.7583318836834293,
          null
         ]
        },
        {
         "hoverinfo": "none",
         "line": {
          "color": "rgba(187, 185, 185, 1)",
          "width": 0.04
         },
         "mode": "lines",
         "type": "scatter",
         "x": [
          -0.29045046678587927,
          0.6562666585631067,
          null
         ],
         "y": [
          -0.09714391855028509,
          -0.7412670898733315,
          null
         ]
        },
        {
         "hoverinfo": "none",
         "line": {
          "color": "rgba(187, 185, 185, 1)",
          "width": 0.01
         },
         "mode": "lines",
         "type": "scatter",
         "x": [
          -0.29045046678587927,
          -0.7613097630425704,
          null
         ],
         "y": [
          -0.09714391855028509,
          -0.6314977908637813,
          null
         ]
        },
        {
         "hoverinfo": "none",
         "line": {
          "color": "rgba(187, 185, 185, 1)",
          "width": 0.08
         },
         "mode": "lines",
         "type": "scatter",
         "x": [
          -0.29045046678587927,
          0.6003122955774816,
          null
         ],
         "y": [
          -0.09714391855028509,
          -0.7801493033083269,
          null
         ]
        },
        {
         "hoverinfo": "none",
         "line": {
          "color": "rgba(187, 185, 185, 1)",
          "width": 0.04
         },
         "mode": "lines",
         "type": "scatter",
         "x": [
          -0.29045046678587927,
          0.9531517750120252,
          null
         ],
         "y": [
          -0.09714391855028509,
          -0.28780628178389084,
          null
         ]
        },
        {
         "hoverinfo": "none",
         "line": {
          "color": "rgba(187, 185, 185, 1)",
          "width": 0.02
         },
         "mode": "lines",
         "type": "scatter",
         "x": [
          -0.29045046678587927,
          -0.571890666842389,
          null
         ],
         "y": [
          -0.09714391855028509,
          -0.8188021378050561,
          null
         ]
        },
        {
         "hoverinfo": "none",
         "line": {
          "color": "rgba(28, 94, 169, 0.1126126126126126)",
          "width": 0.1
         },
         "mode": "lines",
         "type": "scatter",
         "x": [
          -0.29045046678587927,
          -0.7016821867124674,
          null
         ],
         "y": [
          -0.09714391855028509,
          0.654927411053579,
          null
         ]
        },
        {
         "hoverinfo": "none",
         "line": {
          "color": "rgba(187, 185, 185, 1)",
          "width": 0.1
         },
         "mode": "lines",
         "type": "scatter",
         "x": [
          -0.29045046678587927,
          0.444487520967563,
          null
         ],
         "y": [
          -0.09714391855028509,
          0.9039117982016478,
          null
         ]
        },
        {
         "hoverinfo": "none",
         "line": {
          "color": "rgba(187, 185, 185, 1)",
          "width": 0.02
         },
         "mode": "lines",
         "type": "scatter",
         "x": [
          -0.29045046678587927,
          -0.3678552642894917,
          null
         ],
         "y": [
          -0.09714391855028509,
          -0.930577490460078,
          null
         ]
        },
        {
         "hoverinfo": "none",
         "line": {
          "color": "rgba(187, 185, 185, 1)",
          "width": 0.09
         },
         "mode": "lines",
         "type": "scatter",
         "x": [
          -0.29045046678587927,
          0.7709405049974591,
          null
         ],
         "y": [
          -0.09714391855028509,
          -0.6238668571002145,
          null
         ]
        },
        {
         "hoverinfo": "none",
         "line": {
          "color": "rgba(187, 185, 185, 1)",
          "width": 0.03
         },
         "mode": "lines",
         "type": "scatter",
         "x": [
          -0.29045046678587927,
          -0.9106037271673105,
          null
         ],
         "y": [
          -0.09714391855028509,
          0.1018151354622127,
          null
         ]
        },
        {
         "hoverinfo": "none",
         "line": {
          "color": "rgba(187, 185, 185, 1)",
          "width": 0.07
         },
         "mode": "lines",
         "type": "scatter",
         "x": [
          -0.29045046678587927,
          0.9447299376818743,
          null
         ],
         "y": [
          -0.09714391855028509,
          -0.0916014154937672,
          null
         ]
        },
        {
         "hoverinfo": "none",
         "line": {
          "color": "rgba(187, 185, 185, 1)",
          "width": 0.08
         },
         "mode": "lines",
         "type": "scatter",
         "x": [
          -0.29045046678587927,
          -0.5418436644365965,
          null
         ],
         "y": [
          -0.09714391855028509,
          0.35859488640263115,
          null
         ]
        },
        {
         "hoverinfo": "none",
         "line": {
          "color": "rgba(187, 185, 185, 1)",
          "width": 0.01
         },
         "mode": "lines",
         "type": "scatter",
         "x": [
          -0.29045046678587927,
          0.305612760052693,
          null
         ],
         "y": [
          -0.09714391855028509,
          0.9090916776296535,
          null
         ]
        },
        {
         "hoverinfo": "none",
         "line": {
          "color": "rgba(187, 185, 185, 1)",
          "width": 0.02
         },
         "mode": "lines",
         "type": "scatter",
         "x": [
          -0.29045046678587927,
          0.7434382158987388,
          null
         ],
         "y": [
          -0.09714391855028509,
          0.6139050094280043,
          null
         ]
        },
        {
         "hoverinfo": "none",
         "line": {
          "color": "rgba(187, 185, 185, 1)",
          "width": 0.01
         },
         "mode": "lines",
         "type": "scatter",
         "x": [
          -0.29045046678587927,
          -0.14783745010940474,
          null
         ],
         "y": [
          -0.09714391855028509,
          -0.9342791235614362,
          null
         ]
        },
        {
         "hoverinfo": "none",
         "line": {
          "color": "rgba(187, 185, 185, 1)",
          "width": 0.07
         },
         "mode": "lines",
         "type": "scatter",
         "x": [
          -0.29045046678587927,
          -0.19623274453162354,
          null
         ],
         "y": [
          -0.09714391855028509,
          -0.9718256924877132,
          null
         ]
        },
        {
         "hoverinfo": "none",
         "line": {
          "color": "rgba(187, 185, 185, 1)",
          "width": 0.02
         },
         "mode": "lines",
         "type": "scatter",
         "x": [
          -0.29045046678587927,
          -0.8423585086279203,
          null
         ],
         "y": [
          -0.09714391855028509,
          0.551650867559718,
          null
         ]
        },
        {
         "hoverinfo": "none",
         "line": {
          "color": "rgba(187, 185, 185, 1)",
          "width": 0.02
         },
         "mode": "lines",
         "type": "scatter",
         "x": [
          -0.29045046678587927,
          0.7381809317114504,
          null
         ],
         "y": [
          -0.09714391855028509,
          0.7115895977610612,
          null
         ]
        },
        {
         "hoverinfo": "none",
         "line": {
          "color": "rgba(187, 185, 185, 1)",
          "width": 0.05
         },
         "mode": "lines",
         "type": "scatter",
         "x": [
          -0.29045046678587927,
          0.8987753618780496,
          null
         ],
         "y": [
          -0.09714391855028509,
          0.4786809521886066,
          null
         ]
        },
        {
         "hoverinfo": "none",
         "line": {
          "color": "rgba(187, 185, 185, 1)",
          "width": 0.1
         },
         "mode": "lines",
         "type": "scatter",
         "x": [
          -0.29045046678587927,
          0.540944674629126,
          null
         ],
         "y": [
          -0.09714391855028509,
          -0.8440237511317803,
          null
         ]
        },
        {
         "hoverinfo": "none",
         "line": {
          "color": "rgba(187, 185, 185, 1)",
          "width": 0.01
         },
         "mode": "lines",
         "type": "scatter",
         "x": [
          -0.29045046678587927,
          -0.30878041457790567,
          null
         ],
         "y": [
          -0.09714391855028509,
          -0.9077759224919225,
          null
         ]
        },
        {
         "hoverinfo": "none",
         "line": {
          "color": "rgba(187, 185, 185, 1)",
          "width": 0.01
         },
         "mode": "lines",
         "type": "scatter",
         "x": [
          -0.29045046678587927,
          0.4673628000206714,
          null
         ],
         "y": [
          -0.09714391855028509,
          -0.8545081921230111,
          null
         ]
        },
        {
         "hoverinfo": "none",
         "line": {
          "color": "rgba(187, 185, 185, 1)",
          "width": 0.02
         },
         "mode": "lines",
         "type": "scatter",
         "x": [
          -0.29045046678587927,
          0.9067855703257748,
          null
         ],
         "y": [
          -0.09714391855028509,
          -0.4519395685978457,
          null
         ]
        },
        {
         "hoverinfo": "none",
         "line": {
          "color": "rgba(187, 185, 185, 1)",
          "width": 0.04
         },
         "mode": "lines",
         "type": "scatter",
         "x": [
          -0.29045046678587927,
          -0.03560024760116079,
          null
         ],
         "y": [
          -0.09714391855028509,
          -0.9750875534808698,
          null
         ]
        },
        {
         "hoverinfo": "none",
         "line": {
          "color": "rgba(187, 185, 185, 1)",
          "width": 0.01
         },
         "mode": "lines",
         "type": "scatter",
         "x": [
          -0.29045046678587927,
          -0.9760540355660953,
          null
         ],
         "y": [
          -0.09714391855028509,
          0.0766445753751248,
          null
         ]
        },
        {
         "hoverinfo": "none",
         "line": {
          "color": "rgba(187, 185, 185, 1)",
          "width": 0.01
         },
         "mode": "lines",
         "type": "scatter",
         "x": [
          -0.29045046678587927,
          -0.47953939896056424,
          null
         ],
         "y": [
          -0.09714391855028509,
          0.8933298562122517,
          null
         ]
        },
        {
         "hoverinfo": "none",
         "line": {
          "color": "rgba(187, 185, 185, 1)",
          "width": 0.04
         },
         "mode": "lines",
         "type": "scatter",
         "x": [
          -0.29045046678587927,
          -0.8433685763902231,
          null
         ],
         "y": [
          -0.09714391855028509,
          -0.5397907300716649,
          null
         ]
        },
        {
         "hoverinfo": "none",
         "line": {
          "color": "rgba(187, 185, 185, 1)",
          "width": 0.02
         },
         "mode": "lines",
         "type": "scatter",
         "x": [
          -0.29045046678587927,
          -0.8697970909595018,
          null
         ],
         "y": [
          -0.09714391855028509,
          0.46952842688707463,
          null
         ]
        },
        {
         "hoverinfo": "none",
         "line": {
          "color": "rgba(187, 185, 185, 1)",
          "width": 0.02
         },
         "mode": "lines",
         "type": "scatter",
         "x": [
          -0.29045046678587927,
          0.6475602405972704,
          null
         ],
         "y": [
          -0.09714391855028509,
          0.7876843926224265,
          null
         ]
        },
        {
         "hoverinfo": "none",
         "line": {
          "color": "rgba(187, 185, 185, 1)",
          "width": 0.05
         },
         "mode": "lines",
         "type": "scatter",
         "x": [
          -0.29045046678587927,
          -0.39802838141068053,
          null
         ],
         "y": [
          -0.09714391855028509,
          0.9468085685650457,
          null
         ]
        },
        {
         "hoverinfo": "none",
         "line": {
          "color": "rgba(28, 94, 169, 0.04504504504504504)",
          "width": 0.04
         },
         "mode": "lines",
         "type": "scatter",
         "x": [
          -0.29045046678587927,
          0.6854663266859259,
          null
         ],
         "y": [
          -0.09714391855028509,
          0.689400112478604,
          null
         ]
        },
        {
         "hoverinfo": "none",
         "line": {
          "color": "rgba(187, 185, 185, 1)",
          "width": 0.01
         },
         "mode": "lines",
         "type": "scatter",
         "x": [
          -0.29045046678587927,
          0.8743965651480335,
          null
         ],
         "y": [
          -0.09714391855028509,
          -0.3162740157460976,
          null
         ]
        },
        {
         "hoverinfo": "none",
         "line": {
          "color": "rgba(187, 185, 185, 1)",
          "width": 0.01
         },
         "mode": "lines",
         "type": "scatter",
         "x": [
          -0.29045046678587927,
          0.07452908981031829,
          null
         ],
         "y": [
          -0.09714391855028509,
          -0.9529111877712696,
          null
         ]
        },
        {
         "hoverinfo": "none",
         "line": {
          "color": "rgba(187, 185, 185, 1)",
          "width": 0.01
         },
         "mode": "lines",
         "type": "scatter",
         "x": [
          -0.29045046678587927,
          -0.9727866793774038,
          null
         ],
         "y": [
          -0.09714391855028509,
          -0.0530714772300817,
          null
         ]
        },
        {
         "hoverinfo": "none",
         "line": {
          "color": "rgba(187, 185, 185, 1)",
          "width": 0.01
         },
         "mode": "lines",
         "type": "scatter",
         "x": [
          -0.29045046678587927,
          0.39131499594542263,
          null
         ],
         "y": [
          -0.09714391855028509,
          0.808442035631209,
          null
         ]
        },
        {
         "hoverinfo": "none",
         "line": {
          "color": "rgba(187, 185, 185, 1)",
          "width": 0.01
         },
         "mode": "lines",
         "type": "scatter",
         "x": [
          -0.29045046678587927,
          -0.7874086753982931,
          null
         ],
         "y": [
          -0.09714391855028509,
          0.6583964554546868,
          null
         ]
        },
        {
         "hoverinfo": "none",
         "line": {
          "color": "rgba(187, 185, 185, 1)",
          "width": 0.02
         },
         "mode": "lines",
         "type": "scatter",
         "x": [
          -0.29045046678587927,
          -0.890026536050201,
          null
         ],
         "y": [
          -0.09714391855028509,
          -0.33313703292832664,
          null
         ]
        },
        {
         "hoverinfo": "none",
         "line": {
          "color": "rgba(187, 185, 185, 1)",
          "width": 0.02
         },
         "mode": "lines",
         "type": "scatter",
         "x": [
          -0.29045046678587927,
          -0.7364857304604823,
          null
         ],
         "y": [
          -0.09714391855028509,
          -0.7049848448532657,
          null
         ]
        },
        {
         "hoverinfo": "none",
         "line": {
          "color": "rgba(187, 185, 185, 1)",
          "width": 0.01
         },
         "mode": "lines",
         "type": "scatter",
         "x": [
          -0.29045046678587927,
          0.792988170545161,
          null
         ],
         "y": [
          -0.09714391855028509,
          -0.5601553673274028,
          null
         ]
        },
        {
         "hoverinfo": "none",
         "line": {
          "color": "rgba(187, 185, 185, 1)",
          "width": 0.02
         },
         "mode": "lines",
         "type": "scatter",
         "x": [
          -0.29045046678587927,
          0.955850441372372,
          null
         ],
         "y": [
          -0.09714391855028509,
          0.3368768522200347,
          null
         ]
        },
        {
         "hoverinfo": "none",
         "line": {
          "color": "rgba(187, 185, 185, 1)",
          "width": 0.01
         },
         "mode": "lines",
         "type": "scatter",
         "x": [
          -0.29045046678587927,
          0.9190805425378015,
          null
         ],
         "y": [
          -0.09714391855028509,
          0.29399738990982927,
          null
         ]
        },
        {
         "hoverinfo": "none",
         "line": {
          "color": "rgba(187, 185, 185, 1)",
          "width": 0.01
         },
         "mode": "lines",
         "type": "scatter",
         "x": [
          -0.29045046678587927,
          0.9620394559438948,
          null
         ],
         "y": [
          -0.09714391855028509,
          0.05985110623483903,
          null
         ]
        },
        {
         "hoverinfo": "none",
         "line": {
          "color": "rgba(187, 185, 185, 1)",
          "width": 0.01
         },
         "mode": "lines",
         "type": "scatter",
         "x": [
          -0.29045046678587927,
          0.25572906980436766,
          null
         ],
         "y": [
          -0.09714391855028509,
          0.9522503545518943,
          null
         ]
        },
        {
         "hoverinfo": "none",
         "line": {
          "color": "rgba(187, 185, 185, 1)",
          "width": 0.01
         },
         "mode": "lines",
         "type": "scatter",
         "x": [
          -0.29045046678587927,
          -0.9789286528249344,
          null
         ],
         "y": [
          -0.09714391855028509,
          -0.11818903137333646,
          null
         ]
        },
        {
         "hoverinfo": "none",
         "line": {
          "color": "rgba(187, 185, 185, 1)",
          "width": 0.01
         },
         "mode": "lines",
         "type": "scatter",
         "x": [
          -0.29045046678587927,
          -0.9213406718848846,
          null
         ],
         "y": [
          -0.09714391855028509,
          -0.38811404403351474,
          null
         ]
        },
        {
         "hoverinfo": "none",
         "line": {
          "color": "rgba(187, 185, 185, 1)",
          "width": 0.01
         },
         "mode": "lines",
         "type": "scatter",
         "x": [
          0.305612760052693,
          0.7434382158987388,
          null
         ],
         "y": [
          0.9090916776296535,
          0.6139050094280043,
          null
         ]
        },
        {
         "hoverinfo": "none",
         "line": {
          "color": "rgba(187, 185, 185, 1)",
          "width": 0.01
         },
         "mode": "lines",
         "type": "scatter",
         "x": [
          0.305612760052693,
          -0.5418436644365965,
          null
         ],
         "y": [
          0.9090916776296535,
          0.35859488640263115,
          null
         ]
        },
        {
         "hoverinfo": "none",
         "line": {
          "color": "rgba(187, 185, 185, 1)",
          "width": 0.01
         },
         "mode": "lines",
         "type": "scatter",
         "x": [
          0.305612760052693,
          -0.718641184979664,
          null
         ],
         "y": [
          0.9090916776296535,
          0.7471081958960062,
          null
         ]
        },
        {
         "hoverinfo": "none",
         "line": {
          "color": "rgba(189, 0, 50, 0.01126126126126126)",
          "width": 0.01
         },
         "mode": "lines",
         "type": "scatter",
         "x": [
          0.305612760052693,
          -0.9760540355660953,
          null
         ],
         "y": [
          0.9090916776296535,
          0.0766445753751248,
          null
         ]
        },
        {
         "hoverinfo": "none",
         "line": {
          "color": "rgba(187, 185, 185, 1)",
          "width": 0.02
         },
         "mode": "lines",
         "type": "scatter",
         "x": [
          -0.718641184979664,
          -0.9760540355660953,
          null
         ],
         "y": [
          0.7471081958960062,
          0.0766445753751248,
          null
         ]
        },
        {
         "hoverinfo": "none",
         "line": {
          "color": "rgba(187, 185, 185, 1)",
          "width": 0.01
         },
         "mode": "lines",
         "type": "scatter",
         "x": [
          -0.718641184979664,
          0.24050730782694932,
          null
         ],
         "y": [
          0.7471081958960062,
          -0.9389567059437505,
          null
         ]
        },
        {
         "hoverinfo": "none",
         "line": {
          "color": "rgba(187, 185, 185, 1)",
          "width": 0.01
         },
         "mode": "lines",
         "type": "scatter",
         "x": [
          -0.718641184979664,
          -0.5418436644365965,
          null
         ],
         "y": [
          0.7471081958960062,
          0.35859488640263115,
          null
         ]
        },
        {
         "hoverinfo": "none",
         "line": {
          "color": "rgba(187, 185, 185, 1)",
          "width": 0.01
         },
         "mode": "lines",
         "type": "scatter",
         "x": [
          -0.718641184979664,
          -0.5570977418486838,
          null
         ],
         "y": [
          0.7471081958960062,
          0.7262112635362499,
          null
         ]
        },
        {
         "hoverinfo": "none",
         "line": {
          "color": "rgba(187, 185, 185, 1)",
          "width": 0.01
         },
         "mode": "lines",
         "type": "scatter",
         "x": [
          -0.718641184979664,
          -0.049789583463932335,
          null
         ],
         "y": [
          0.7471081958960062,
          -0.29043199722759716,
          null
         ]
        },
        {
         "hoverinfo": "none",
         "line": {
          "color": "rgba(187, 185, 185, 1)",
          "width": 0.01
         },
         "mode": "lines",
         "type": "scatter",
         "x": [
          -0.718641184979664,
          0.9067855703257748,
          null
         ],
         "y": [
          0.7471081958960062,
          -0.4519395685978457,
          null
         ]
        },
        {
         "hoverinfo": "none",
         "line": {
          "color": "rgba(187, 185, 185, 1)",
          "width": 0.47000000000000003
         },
         "mode": "lines",
         "type": "scatter",
         "x": [
          0.7709405049974591,
          -0.049789583463932335,
          null
         ],
         "y": [
          -0.6238668571002145,
          -0.29043199722759716,
          null
         ]
        },
        {
         "hoverinfo": "none",
         "line": {
          "color": "rgba(187, 185, 185, 1)",
          "width": 0.01
         },
         "mode": "lines",
         "type": "scatter",
         "x": [
          0.7709405049974591,
          0.955850441372372,
          null
         ],
         "y": [
          -0.6238668571002145,
          0.3368768522200347,
          null
         ]
        },
        {
         "hoverinfo": "none",
         "line": {
          "color": "rgba(187, 185, 185, 1)",
          "width": 0.01
         },
         "mode": "lines",
         "type": "scatter",
         "x": [
          0.7709405049974591,
          -0.8433685763902231,
          null
         ],
         "y": [
          -0.6238668571002145,
          -0.5397907300716649,
          null
         ]
        },
        {
         "hoverinfo": "none",
         "line": {
          "color": "rgba(187, 185, 185, 1)",
          "width": 0.04
         },
         "mode": "lines",
         "type": "scatter",
         "x": [
          0.7709405049974591,
          -0.5570977418486838,
          null
         ],
         "y": [
          -0.6238668571002145,
          0.7262112635362499,
          null
         ]
        },
        {
         "hoverinfo": "none",
         "line": {
          "color": "rgba(187, 185, 185, 1)",
          "width": 0.02
         },
         "mode": "lines",
         "type": "scatter",
         "x": [
          0.7709405049974591,
          -0.5418436644365965,
          null
         ],
         "y": [
          -0.6238668571002145,
          0.35859488640263115,
          null
         ]
        },
        {
         "hoverinfo": "none",
         "line": {
          "color": "rgba(187, 185, 185, 1)",
          "width": 0.01
         },
         "mode": "lines",
         "type": "scatter",
         "x": [
          0.7709405049974591,
          0.031509778276237674,
          null
         ],
         "y": [
          -0.6238668571002145,
          0.9526732963166377,
          null
         ]
        },
        {
         "hoverinfo": "none",
         "line": {
          "color": "rgba(187, 185, 185, 1)",
          "width": 0.06
         },
         "mode": "lines",
         "type": "scatter",
         "x": [
          0.7709405049974591,
          0.014720878046645633,
          null
         ],
         "y": [
          -0.6238668571002145,
          -0.9908926142674225,
          null
         ]
        },
        {
         "hoverinfo": "none",
         "line": {
          "color": "rgba(187, 185, 185, 1)",
          "width": 0.11
         },
         "mode": "lines",
         "type": "scatter",
         "x": [
          0.7709405049974591,
          -0.11515697519275878,
          null
         ],
         "y": [
          -0.6238668571002145,
          -0.1594756096347247,
          null
         ]
        },
        {
         "hoverinfo": "none",
         "line": {
          "color": "rgba(187, 185, 185, 1)",
          "width": 0.02
         },
         "mode": "lines",
         "type": "scatter",
         "x": [
          0.7709405049974591,
          -0.8697970909595018,
          null
         ],
         "y": [
          -0.6238668571002145,
          0.46952842688707463,
          null
         ]
        },
        {
         "hoverinfo": "none",
         "line": {
          "color": "rgba(187, 185, 185, 1)",
          "width": 0.01
         },
         "mode": "lines",
         "type": "scatter",
         "x": [
          0.7709405049974591,
          0.9447299376818743,
          null
         ],
         "y": [
          -0.6238668571002145,
          -0.0916014154937672,
          null
         ]
        },
        {
         "hoverinfo": "none",
         "line": {
          "color": "rgba(187, 185, 185, 1)",
          "width": 0.01
         },
         "mode": "lines",
         "type": "scatter",
         "x": [
          0.7709405049974591,
          0.7434382158987388,
          null
         ],
         "y": [
          -0.6238668571002145,
          0.6139050094280043,
          null
         ]
        },
        {
         "hoverinfo": "none",
         "line": {
          "color": "rgba(187, 185, 185, 1)",
          "width": 0.01
         },
         "mode": "lines",
         "type": "scatter",
         "x": [
          0.7709405049974591,
          -0.30878041457790567,
          null
         ],
         "y": [
          -0.6238668571002145,
          -0.9077759224919225,
          null
         ]
        },
        {
         "hoverinfo": "none",
         "line": {
          "color": "rgba(187, 185, 185, 1)",
          "width": 0.01
         },
         "mode": "lines",
         "type": "scatter",
         "x": [
          0.7709405049974591,
          0.9538937025771157,
          null
         ],
         "y": [
          -0.6238668571002145,
          -0.21823592738502817,
          null
         ]
        },
        {
         "hoverinfo": "none",
         "line": {
          "color": "rgba(187, 185, 185, 1)",
          "width": 0.02
         },
         "mode": "lines",
         "type": "scatter",
         "x": [
          0.7709405049974591,
          -1,
          null
         ],
         "y": [
          -0.6238668571002145,
          0.005784562936655106,
          null
         ]
        },
        {
         "hoverinfo": "none",
         "line": {
          "color": "rgba(187, 185, 185, 1)",
          "width": 0.01
         },
         "mode": "lines",
         "type": "scatter",
         "x": [
          0.7709405049974591,
          -0.6423234937817698,
          null
         ],
         "y": [
          -0.6238668571002145,
          0.7641906656108423,
          null
         ]
        },
        {
         "hoverinfo": "none",
         "line": {
          "color": "rgba(187, 185, 185, 1)",
          "width": 0.03
         },
         "mode": "lines",
         "type": "scatter",
         "x": [
          0.7709405049974591,
          0.8987753618780496,
          null
         ],
         "y": [
          -0.6238668571002145,
          0.4786809521886066,
          null
         ]
        },
        {
         "hoverinfo": "none",
         "line": {
          "color": "rgba(187, 185, 185, 1)",
          "width": 0.01
         },
         "mode": "lines",
         "type": "scatter",
         "x": [
          0.7709405049974591,
          0.24050730782694932,
          null
         ],
         "y": [
          -0.6238668571002145,
          -0.9389567059437505,
          null
         ]
        },
        {
         "hoverinfo": "none",
         "line": {
          "color": "rgba(187, 185, 185, 1)",
          "width": 0.01
         },
         "mode": "lines",
         "type": "scatter",
         "x": [
          0.7709405049974591,
          0.9531517750120252,
          null
         ],
         "y": [
          -0.6238668571002145,
          -0.28780628178389084,
          null
         ]
        },
        {
         "hoverinfo": "none",
         "line": {
          "color": "rgba(187, 185, 185, 1)",
          "width": 0.01
         },
         "mode": "lines",
         "type": "scatter",
         "x": [
          0.7709405049974591,
          -0.39802838141068053,
          null
         ],
         "y": [
          -0.6238668571002145,
          0.9468085685650457,
          null
         ]
        },
        {
         "hoverinfo": "none",
         "line": {
          "color": "rgba(187, 185, 185, 1)",
          "width": 0.01
         },
         "mode": "lines",
         "type": "scatter",
         "x": [
          0.7709405049974591,
          -0.9760540355660953,
          null
         ],
         "y": [
          -0.6238668571002145,
          0.0766445753751248,
          null
         ]
        },
        {
         "hoverinfo": "none",
         "line": {
          "color": "rgba(187, 185, 185, 1)",
          "width": 0.01
         },
         "mode": "lines",
         "type": "scatter",
         "x": [
          -0.049789583463932335,
          -0.939095359872664,
          null
         ],
         "y": [
          -0.29043199722759716,
          0.2216203118006076,
          null
         ]
        },
        {
         "hoverinfo": "none",
         "line": {
          "color": "rgba(28, 94, 169, 1.1373873873873874)",
          "width": 1.01
         },
         "mode": "lines",
         "type": "scatter",
         "x": [
          -0.049789583463932335,
          -0.11515697519275878,
          null
         ],
         "y": [
          -0.29043199722759716,
          -0.1594756096347247,
          null
         ]
        },
        {
         "hoverinfo": "none",
         "line": {
          "color": "rgba(28, 94, 169, 0.7319819819819819)",
          "width": 0.65
         },
         "mode": "lines",
         "type": "scatter",
         "x": [
          -0.049789583463932335,
          0.014720878046645633,
          null
         ],
         "y": [
          -0.29043199722759716,
          -0.9908926142674225,
          null
         ]
        },
        {
         "hoverinfo": "none",
         "line": {
          "color": "rgba(187, 185, 185, 1)",
          "width": 0.09
         },
         "mode": "lines",
         "type": "scatter",
         "x": [
          -0.049789583463932335,
          0.9447299376818743,
          null
         ],
         "y": [
          -0.29043199722759716,
          -0.0916014154937672,
          null
         ]
        },
        {
         "hoverinfo": "none",
         "line": {
          "color": "rgba(187, 185, 185, 1)",
          "width": 0.14
         },
         "mode": "lines",
         "type": "scatter",
         "x": [
          -0.049789583463932335,
          -0.9760540355660953,
          null
         ],
         "y": [
          -0.29043199722759716,
          0.0766445753751248,
          null
         ]
        },
        {
         "hoverinfo": "none",
         "line": {
          "color": "rgba(28, 94, 169, 0.5855855855855856)",
          "width": 0.52
         },
         "mode": "lines",
         "type": "scatter",
         "x": [
          -0.049789583463932335,
          0.6854663266859259,
          null
         ],
         "y": [
          -0.29043199722759716,
          0.689400112478604,
          null
         ]
        },
        {
         "hoverinfo": "none",
         "line": {
          "color": "rgba(28, 94, 169, 0.28153153153153154)",
          "width": 0.25
         },
         "mode": "lines",
         "type": "scatter",
         "x": [
          -0.049789583463932335,
          0.24050730782694932,
          null
         ],
         "y": [
          -0.29043199722759716,
          -0.9389567059437505,
          null
         ]
        },
        {
         "hoverinfo": "none",
         "line": {
          "color": "rgba(187, 185, 185, 1)",
          "width": 0.02
         },
         "mode": "lines",
         "type": "scatter",
         "x": [
          -0.049789583463932335,
          0.9858589547110296,
          null
         ],
         "y": [
          -0.29043199722759716,
          0.0029642405713294247,
          null
         ]
        },
        {
         "hoverinfo": "none",
         "line": {
          "color": "rgba(187, 185, 185, 1)",
          "width": 0.03
         },
         "mode": "lines",
         "type": "scatter",
         "x": [
          -0.049789583463932335,
          -0.8697970909595018,
          null
         ],
         "y": [
          -0.29043199722759716,
          0.46952842688707463,
          null
         ]
        },
        {
         "hoverinfo": "none",
         "line": {
          "color": "rgba(187, 185, 185, 1)",
          "width": 0.14
         },
         "mode": "lines",
         "type": "scatter",
         "x": [
          -0.049789583463932335,
          0.955850441372372,
          null
         ],
         "y": [
          -0.29043199722759716,
          0.3368768522200347,
          null
         ]
        },
        {
         "hoverinfo": "none",
         "line": {
          "color": "rgba(187, 185, 185, 1)",
          "width": 0.06
         },
         "mode": "lines",
         "type": "scatter",
         "x": [
          -0.049789583463932335,
          -0.5570977418486838,
          null
         ],
         "y": [
          -0.29043199722759716,
          0.7262112635362499,
          null
         ]
        },
        {
         "hoverinfo": "none",
         "line": {
          "color": "rgba(187, 185, 185, 1)",
          "width": 0.07
         },
         "mode": "lines",
         "type": "scatter",
         "x": [
          -0.049789583463932335,
          -0.8433685763902231,
          null
         ],
         "y": [
          -0.29043199722759716,
          -0.5397907300716649,
          null
         ]
        },
        {
         "hoverinfo": "none",
         "line": {
          "color": "rgba(187, 185, 185, 1)",
          "width": 0.03
         },
         "mode": "lines",
         "type": "scatter",
         "x": [
          -0.049789583463932335,
          0.6562666585631067,
          null
         ],
         "y": [
          -0.29043199722759716,
          -0.7412670898733315,
          null
         ]
        },
        {
         "hoverinfo": "none",
         "line": {
          "color": "rgba(187, 185, 185, 1)",
          "width": 0.06
         },
         "mode": "lines",
         "type": "scatter",
         "x": [
          -0.049789583463932335,
          0.9806353976375713,
          null
         ],
         "y": [
          -0.29043199722759716,
          0.11745071683067616,
          null
         ]
        },
        {
         "hoverinfo": "none",
         "line": {
          "color": "rgba(187, 185, 185, 1)",
          "width": 0.14
         },
         "mode": "lines",
         "type": "scatter",
         "x": [
          -0.049789583463932335,
          -0.5418436644365965,
          null
         ],
         "y": [
          -0.29043199722759716,
          0.35859488640263115,
          null
         ]
        },
        {
         "hoverinfo": "none",
         "line": {
          "color": "rgba(187, 185, 185, 1)",
          "width": 0.01
         },
         "mode": "lines",
         "type": "scatter",
         "x": [
          -0.049789583463932335,
          -0.2592640942126677,
          null
         ],
         "y": [
          -0.29043199722759716,
          -0.9495996447549943,
          null
         ]
        },
        {
         "hoverinfo": "none",
         "line": {
          "color": "rgba(187, 185, 185, 1)",
          "width": 0.04
         },
         "mode": "lines",
         "type": "scatter",
         "x": [
          -0.049789583463932335,
          -0.571890666842389,
          null
         ],
         "y": [
          -0.29043199722759716,
          -0.8188021378050561,
          null
         ]
        },
        {
         "hoverinfo": "none",
         "line": {
          "color": "rgba(187, 185, 185, 1)",
          "width": 0.01
         },
         "mode": "lines",
         "type": "scatter",
         "x": [
          -0.049789583463932335,
          0.5652270236869756,
          null
         ],
         "y": [
          -0.29043199722759716,
          0.8305817173911906,
          null
         ]
        },
        {
         "hoverinfo": "none",
         "line": {
          "color": "rgba(187, 185, 185, 1)",
          "width": 0.04
         },
         "mode": "lines",
         "type": "scatter",
         "x": [
          -0.049789583463932335,
          -0.30878041457790567,
          null
         ],
         "y": [
          -0.29043199722759716,
          -0.9077759224919225,
          null
         ]
        },
        {
         "hoverinfo": "none",
         "line": {
          "color": "rgba(187, 185, 185, 1)",
          "width": 0.05
         },
         "mode": "lines",
         "type": "scatter",
         "x": [
          -0.049789583463932335,
          -0.9400079658243227,
          null
         ],
         "y": [
          -0.29043199722759716,
          -0.2890158044508549,
          null
         ]
        },
        {
         "hoverinfo": "none",
         "line": {
          "color": "rgba(187, 185, 185, 1)",
          "width": 0.01
         },
         "mode": "lines",
         "type": "scatter",
         "x": [
          -0.049789583463932335,
          0.9863512666852733,
          null
         ],
         "y": [
          -0.29043199722759716,
          -0.1604000460690139,
          null
         ]
        },
        {
         "hoverinfo": "none",
         "line": {
          "color": "rgba(187, 185, 185, 1)",
          "width": 0.01
         },
         "mode": "lines",
         "type": "scatter",
         "x": [
          -0.049789583463932335,
          0.031509778276237674,
          null
         ],
         "y": [
          -0.29043199722759716,
          0.9526732963166377,
          null
         ]
        },
        {
         "hoverinfo": "none",
         "line": {
          "color": "rgba(187, 185, 185, 1)",
          "width": 0.01
         },
         "mode": "lines",
         "type": "scatter",
         "x": [
          -0.049789583463932335,
          -0.9442339298921666,
          null
         ],
         "y": [
          -0.29043199722759716,
          -0.17147605943375868,
          null
         ]
        },
        {
         "hoverinfo": "none",
         "line": {
          "color": "rgba(187, 185, 185, 1)",
          "width": 0.04
         },
         "mode": "lines",
         "type": "scatter",
         "x": [
          -0.049789583463932335,
          0.6003122955774816,
          null
         ],
         "y": [
          -0.29043199722759716,
          -0.7801493033083269,
          null
         ]
        },
        {
         "hoverinfo": "none",
         "line": {
          "color": "rgba(28, 94, 169, 0.06756756756756757)",
          "width": 0.06
         },
         "mode": "lines",
         "type": "scatter",
         "x": [
          -0.049789583463932335,
          -0.7016821867124674,
          null
         ],
         "y": [
          -0.29043199722759716,
          0.654927411053579,
          null
         ]
        },
        {
         "hoverinfo": "none",
         "line": {
          "color": "rgba(187, 185, 185, 1)",
          "width": 0.02
         },
         "mode": "lines",
         "type": "scatter",
         "x": [
          -0.049789583463932335,
          0.8743965651480335,
          null
         ],
         "y": [
          -0.29043199722759716,
          -0.3162740157460976,
          null
         ]
        },
        {
         "hoverinfo": "none",
         "line": {
          "color": "rgba(187, 185, 185, 1)",
          "width": 0.13
         },
         "mode": "lines",
         "type": "scatter",
         "x": [
          -0.049789583463932335,
          -0.4808398312550001,
          null
         ],
         "y": [
          -0.29043199722759716,
          -0.863800578620939,
          null
         ]
        },
        {
         "hoverinfo": "none",
         "line": {
          "color": "rgba(187, 185, 185, 1)",
          "width": 0.04
         },
         "mode": "lines",
         "type": "scatter",
         "x": [
          -0.049789583463932335,
          -0.03616366069211022,
          null
         ],
         "y": [
          -0.29043199722759716,
          0.9684321061433148,
          null
         ]
        },
        {
         "hoverinfo": "none",
         "line": {
          "color": "rgba(187, 185, 185, 1)",
          "width": 0.03
         },
         "mode": "lines",
         "type": "scatter",
         "x": [
          -0.049789583463932335,
          0.4931764080991937,
          null
         ],
         "y": [
          -0.29043199722759716,
          0.84013956826323,
          null
         ]
        },
        {
         "hoverinfo": "none",
         "line": {
          "color": "rgba(28, 94, 169, 0.0563063063063063)",
          "width": 0.05
         },
         "mode": "lines",
         "type": "scatter",
         "x": [
          -0.049789583463932335,
          -0.6177625142573949,
          null
         ],
         "y": [
          -0.29043199722759716,
          -0.7583318836834293,
          null
         ]
        },
        {
         "hoverinfo": "none",
         "line": {
          "color": "rgba(28, 94, 169, 0.09009009009009009)",
          "width": 0.08
         },
         "mode": "lines",
         "type": "scatter",
         "x": [
          -0.049789583463932335,
          -0.9703300437788777,
          null
         ],
         "y": [
          -0.29043199722759716,
          -0.23048459787059877,
          null
         ]
        },
        {
         "hoverinfo": "none",
         "line": {
          "color": "rgba(187, 185, 185, 1)",
          "width": 0.05
         },
         "mode": "lines",
         "type": "scatter",
         "x": [
          -0.049789583463932335,
          0.8987753618780496,
          null
         ],
         "y": [
          -0.29043199722759716,
          0.4786809521886066,
          null
         ]
        },
        {
         "hoverinfo": "none",
         "line": {
          "color": "rgba(187, 185, 185, 1)",
          "width": 0.04
         },
         "mode": "lines",
         "type": "scatter",
         "x": [
          -0.049789583463932335,
          0.5258093019942209,
          null
         ],
         "y": [
          -0.29043199722759716,
          -0.7702227562660936,
          null
         ]
        },
        {
         "hoverinfo": "none",
         "line": {
          "color": "rgba(187, 185, 185, 1)",
          "width": 0.13
         },
         "mode": "lines",
         "type": "scatter",
         "x": [
          -0.049789583463932335,
          0.540944674629126,
          null
         ],
         "y": [
          -0.29043199722759716,
          -0.8440237511317803,
          null
         ]
        },
        {
         "hoverinfo": "none",
         "line": {
          "color": "rgba(187, 185, 185, 1)",
          "width": 0.03
         },
         "mode": "lines",
         "type": "scatter",
         "x": [
          -0.049789583463932335,
          -0.41273830967721,
          null
         ],
         "y": [
          -0.29043199722759716,
          -0.8802397036075882,
          null
         ]
        },
        {
         "hoverinfo": "none",
         "line": {
          "color": "rgba(187, 185, 185, 1)",
          "width": 0.06
         },
         "mode": "lines",
         "type": "scatter",
         "x": [
          -0.049789583463932335,
          0.9190805425378015,
          null
         ],
         "y": [
          -0.29043199722759716,
          0.29399738990982927,
          null
         ]
        },
        {
         "hoverinfo": "none",
         "line": {
          "color": "rgba(187, 185, 185, 1)",
          "width": 0.05
         },
         "mode": "lines",
         "type": "scatter",
         "x": [
          -0.049789583463932335,
          -0.03560024760116079,
          null
         ],
         "y": [
          -0.29043199722759716,
          -0.9750875534808698,
          null
         ]
        },
        {
         "hoverinfo": "none",
         "line": {
          "color": "rgba(187, 185, 185, 1)",
          "width": 0.02
         },
         "mode": "lines",
         "type": "scatter",
         "x": [
          -0.049789583463932335,
          0.9531517750120252,
          null
         ],
         "y": [
          -0.29043199722759716,
          -0.28780628178389084,
          null
         ]
        },
        {
         "hoverinfo": "none",
         "line": {
          "color": "rgba(187, 185, 185, 1)",
          "width": 0.01
         },
         "mode": "lines",
         "type": "scatter",
         "x": [
          -0.049789583463932335,
          -0.09752979066918234,
          null
         ],
         "y": [
          -0.29043199722759716,
          -0.9758393659271749,
          null
         ]
        },
        {
         "hoverinfo": "none",
         "line": {
          "color": "rgba(187, 185, 185, 1)",
          "width": 0.05
         },
         "mode": "lines",
         "type": "scatter",
         "x": [
          -0.049789583463932335,
          0.9538937025771157,
          null
         ],
         "y": [
          -0.29043199722759716,
          -0.21823592738502817,
          null
         ]
        },
        {
         "hoverinfo": "none",
         "line": {
          "color": "rgba(187, 185, 185, 1)",
          "width": 0.05
         },
         "mode": "lines",
         "type": "scatter",
         "x": [
          -0.049789583463932335,
          0.7434382158987388,
          null
         ],
         "y": [
          -0.29043199722759716,
          0.6139050094280043,
          null
         ]
        },
        {
         "hoverinfo": "none",
         "line": {
          "color": "rgba(187, 185, 185, 1)",
          "width": 0.07
         },
         "mode": "lines",
         "type": "scatter",
         "x": [
          -0.049789583463932335,
          0.444487520967563,
          null
         ],
         "y": [
          -0.29043199722759716,
          0.9039117982016478,
          null
         ]
        },
        {
         "hoverinfo": "none",
         "line": {
          "color": "rgba(187, 185, 185, 1)",
          "width": 0.02
         },
         "mode": "lines",
         "type": "scatter",
         "x": [
          -0.049789583463932335,
          -1,
          null
         ],
         "y": [
          -0.29043199722759716,
          0.005784562936655106,
          null
         ]
        },
        {
         "hoverinfo": "none",
         "line": {
          "color": "rgba(187, 185, 185, 1)",
          "width": 0.01
         },
         "mode": "lines",
         "type": "scatter",
         "x": [
          -0.049789583463932335,
          0.8159151994036037,
          null
         ],
         "y": [
          -0.29043199722759716,
          0.4587065254697006,
          null
         ]
        },
        {
         "hoverinfo": "none",
         "line": {
          "color": "rgba(187, 185, 185, 1)",
          "width": 0.05
         },
         "mode": "lines",
         "type": "scatter",
         "x": [
          -0.049789583463932335,
          -0.39802838141068053,
          null
         ],
         "y": [
          -0.29043199722759716,
          0.9468085685650457,
          null
         ]
        },
        {
         "hoverinfo": "none",
         "line": {
          "color": "rgba(187, 185, 185, 1)",
          "width": 0.01
         },
         "mode": "lines",
         "type": "scatter",
         "x": [
          -0.049789583463932335,
          0.34259896721042477,
          null
         ],
         "y": [
          -0.29043199722759716,
          -0.8854553076039656,
          null
         ]
        },
        {
         "hoverinfo": "none",
         "line": {
          "color": "rgba(187, 185, 185, 1)",
          "width": 0.01
         },
         "mode": "lines",
         "type": "scatter",
         "x": [
          -0.049789583463932335,
          -0.5073004062338606,
          null
         ],
         "y": [
          -0.29043199722759716,
          0.831775341530129,
          null
         ]
        },
        {
         "hoverinfo": "none",
         "line": {
          "color": "rgba(187, 185, 185, 1)",
          "width": 0.04
         },
         "mode": "lines",
         "type": "scatter",
         "x": [
          -0.049789583463932335,
          0.368803567055443,
          null
         ],
         "y": [
          -0.29043199722759716,
          0.9296695869813116,
          null
         ]
        },
        {
         "hoverinfo": "none",
         "line": {
          "color": "rgba(187, 185, 185, 1)",
          "width": 0.03
         },
         "mode": "lines",
         "type": "scatter",
         "x": [
          -0.049789583463932335,
          -0.890026536050201,
          null
         ],
         "y": [
          -0.29043199722759716,
          -0.33313703292832664,
          null
         ]
        },
        {
         "hoverinfo": "none",
         "line": {
          "color": "rgba(187, 185, 185, 1)",
          "width": 0.01
         },
         "mode": "lines",
         "type": "scatter",
         "x": [
          -0.049789583463932335,
          -0.5108662366198753,
          null
         ],
         "y": [
          -0.29043199722759716,
          -0.8044868269930487,
          null
         ]
        },
        {
         "hoverinfo": "none",
         "line": {
          "color": "rgba(187, 185, 185, 1)",
          "width": 0.02
         },
         "mode": "lines",
         "type": "scatter",
         "x": [
          -0.049789583463932335,
          0.07452908981031829,
          null
         ],
         "y": [
          -0.29043199722759716,
          -0.9529111877712696,
          null
         ]
        },
        {
         "hoverinfo": "none",
         "line": {
          "color": "rgba(187, 185, 185, 1)",
          "width": 0.02
         },
         "mode": "lines",
         "type": "scatter",
         "x": [
          -0.049789583463932335,
          -0.7364857304604823,
          null
         ],
         "y": [
          -0.29043199722759716,
          -0.7049848448532657,
          null
         ]
        },
        {
         "hoverinfo": "none",
         "line": {
          "color": "rgba(187, 185, 185, 1)",
          "width": 0.02
         },
         "mode": "lines",
         "type": "scatter",
         "x": [
          -0.049789583463932335,
          -0.6423234937817698,
          null
         ],
         "y": [
          -0.29043199722759716,
          0.7641906656108423,
          null
         ]
        },
        {
         "hoverinfo": "none",
         "line": {
          "color": "rgba(187, 185, 185, 1)",
          "width": 0.01
         },
         "mode": "lines",
         "type": "scatter",
         "x": [
          -0.049789583463932335,
          0.19599844680151657,
          null
         ],
         "y": [
          -0.29043199722759716,
          -0.980479293978746,
          null
         ]
        },
        {
         "hoverinfo": "none",
         "line": {
          "color": "rgba(187, 185, 185, 1)",
          "width": 0.01
         },
         "mode": "lines",
         "type": "scatter",
         "x": [
          -0.049789583463932335,
          -0.9271865786955529,
          null
         ],
         "y": [
          -0.29043199722759716,
          0.34463292565875053,
          null
         ]
        },
        {
         "hoverinfo": "none",
         "line": {
          "color": "rgba(187, 185, 185, 1)",
          "width": 0.04
         },
         "mode": "lines",
         "type": "scatter",
         "x": [
          -0.049789583463932335,
          0.7381809317114504,
          null
         ],
         "y": [
          -0.29043199722759716,
          0.7115895977610612,
          null
         ]
        },
        {
         "hoverinfo": "none",
         "line": {
          "color": "rgba(187, 185, 185, 1)",
          "width": 0.03
         },
         "mode": "lines",
         "type": "scatter",
         "x": [
          -0.049789583463932335,
          -0.9213406718848846,
          null
         ],
         "y": [
          -0.29043199722759716,
          -0.38811404403351474,
          null
         ]
        },
        {
         "hoverinfo": "none",
         "line": {
          "color": "rgba(187, 185, 185, 1)",
          "width": 0.03
         },
         "mode": "lines",
         "type": "scatter",
         "x": [
          -0.049789583463932335,
          -0.9598391530575267,
          null
         ],
         "y": [
          -0.29043199722759716,
          0.2772813054250828,
          null
         ]
        },
        {
         "hoverinfo": "none",
         "line": {
          "color": "rgba(187, 185, 185, 1)",
          "width": 0.02
         },
         "mode": "lines",
         "type": "scatter",
         "x": [
          -0.049789583463932335,
          0.39131499594542263,
          null
         ],
         "y": [
          -0.29043199722759716,
          0.808442035631209,
          null
         ]
        },
        {
         "hoverinfo": "none",
         "line": {
          "color": "rgba(187, 185, 185, 1)",
          "width": 0.01
         },
         "mode": "lines",
         "type": "scatter",
         "x": [
          -0.049789583463932335,
          -0.38098261059930844,
          null
         ],
         "y": [
          -0.29043199722759716,
          0.8907552230888134,
          null
         ]
        },
        {
         "hoverinfo": "none",
         "line": {
          "color": "rgba(187, 185, 185, 1)",
          "width": 0.01
         },
         "mode": "lines",
         "type": "scatter",
         "x": [
          -0.049789583463932335,
          -0.19623274453162354,
          null
         ],
         "y": [
          -0.29043199722759716,
          -0.9718256924877132,
          null
         ]
        },
        {
         "hoverinfo": "none",
         "line": {
          "color": "rgba(187, 185, 185, 1)",
          "width": 0.01
         },
         "mode": "lines",
         "type": "scatter",
         "x": [
          -0.049789583463932335,
          -0.2961523759090147,
          null
         ],
         "y": [
          -0.29043199722759716,
          0.9581439013008709,
          null
         ]
        },
        {
         "hoverinfo": "none",
         "line": {
          "color": "rgba(187, 185, 185, 1)",
          "width": 0.01
         },
         "mode": "lines",
         "type": "scatter",
         "x": [
          -0.049789583463932335,
          0.25572906980436766,
          null
         ],
         "y": [
          -0.29043199722759716,
          0.9522503545518943,
          null
         ]
        },
        {
         "hoverinfo": "none",
         "line": {
          "color": "rgba(187, 185, 185, 1)",
          "width": 0.01
         },
         "mode": "lines",
         "type": "scatter",
         "x": [
          -0.049789583463932335,
          0.5852358563658656,
          null
         ],
         "y": [
          -0.29043199722759716,
          0.7397334943452094,
          null
         ]
        },
        {
         "hoverinfo": "none",
         "line": {
          "color": "rgba(187, 185, 185, 1)",
          "width": 0.01
         },
         "mode": "lines",
         "type": "scatter",
         "x": [
          -0.049789583463932335,
          -0.14783745010940474,
          null
         ],
         "y": [
          -0.29043199722759716,
          -0.9342791235614362,
          null
         ]
        },
        {
         "hoverinfo": "none",
         "line": {
          "color": "rgba(187, 185, 185, 1)",
          "width": 0.02
         },
         "mode": "lines",
         "type": "scatter",
         "x": [
          -0.049789583463932335,
          0.9067855703257748,
          null
         ],
         "y": [
          -0.29043199722759716,
          -0.4519395685978457,
          null
         ]
        },
        {
         "hoverinfo": "none",
         "line": {
          "color": "rgba(187, 185, 185, 1)",
          "width": 0.01
         },
         "mode": "lines",
         "type": "scatter",
         "x": [
          -0.049789583463932335,
          -0.7842594015928912,
          null
         ],
         "y": [
          -0.29043199722759716,
          -0.5697409164053655,
          null
         ]
        },
        {
         "hoverinfo": "none",
         "line": {
          "color": "rgba(187, 185, 185, 1)",
          "width": 0.01
         },
         "mode": "lines",
         "type": "scatter",
         "x": [
          -0.049789583463932335,
          0.9998026043051625,
          null
         ],
         "y": [
          -0.29043199722759716,
          -0.06935929177127546,
          null
         ]
        },
        {
         "hoverinfo": "none",
         "line": {
          "color": "rgba(187, 185, 185, 1)",
          "width": 0.01
         },
         "mode": "lines",
         "type": "scatter",
         "x": [
          -0.14783745010940474,
          -0.9400079658243227,
          null
         ],
         "y": [
          -0.9342791235614362,
          -0.2890158044508549,
          null
         ]
        },
        {
         "hoverinfo": "none",
         "line": {
          "color": "rgba(187, 185, 185, 1)",
          "width": 0.01
         },
         "mode": "lines",
         "type": "scatter",
         "x": [
          -0.11515697519275878,
          -0.939095359872664,
          null
         ],
         "y": [
          -0.1594756096347247,
          0.2216203118006076,
          null
         ]
        },
        {
         "hoverinfo": "none",
         "line": {
          "color": "rgba(28, 94, 169, 0.24774774774774774)",
          "width": 0.22
         },
         "mode": "lines",
         "type": "scatter",
         "x": [
          -0.11515697519275878,
          0.014720878046645633,
          null
         ],
         "y": [
          -0.1594756096347247,
          -0.9908926142674225,
          null
         ]
        },
        {
         "hoverinfo": "none",
         "line": {
          "color": "rgba(28, 94, 169, 0.2702702702702703)",
          "width": 0.24
         },
         "mode": "lines",
         "type": "scatter",
         "x": [
          -0.11515697519275878,
          0.24050730782694932,
          null
         ],
         "y": [
          -0.1594756096347247,
          -0.9389567059437505,
          null
         ]
        },
        {
         "hoverinfo": "none",
         "line": {
          "color": "rgba(187, 185, 185, 1)",
          "width": 0.02
         },
         "mode": "lines",
         "type": "scatter",
         "x": [
          -0.11515697519275878,
          -0.5570977418486838,
          null
         ],
         "y": [
          -0.1594756096347247,
          0.7262112635362499,
          null
         ]
        },
        {
         "hoverinfo": "none",
         "line": {
          "color": "rgba(187, 185, 185, 1)",
          "width": 0.2
         },
         "mode": "lines",
         "type": "scatter",
         "x": [
          -0.11515697519275878,
          -0.6423234937817698,
          null
         ],
         "y": [
          -0.1594756096347247,
          0.7641906656108423,
          null
         ]
        },
        {
         "hoverinfo": "none",
         "line": {
          "color": "rgba(187, 185, 185, 1)",
          "width": 0.03
         },
         "mode": "lines",
         "type": "scatter",
         "x": [
          -0.11515697519275878,
          0.9858589547110296,
          null
         ],
         "y": [
          -0.1594756096347247,
          0.0029642405713294247,
          null
         ]
        },
        {
         "hoverinfo": "none",
         "line": {
          "color": "rgba(187, 185, 185, 1)",
          "width": 0.03
         },
         "mode": "lines",
         "type": "scatter",
         "x": [
          -0.11515697519275878,
          0.9620394559438948,
          null
         ],
         "y": [
          -0.1594756096347247,
          0.05985110623483903,
          null
         ]
        },
        {
         "hoverinfo": "none",
         "line": {
          "color": "rgba(187, 185, 185, 1)",
          "width": 0.12
         },
         "mode": "lines",
         "type": "scatter",
         "x": [
          -0.11515697519275878,
          0.540944674629126,
          null
         ],
         "y": [
          -0.1594756096347247,
          -0.8440237511317803,
          null
         ]
        },
        {
         "hoverinfo": "none",
         "line": {
          "color": "rgba(187, 185, 185, 1)",
          "width": 0.06
         },
         "mode": "lines",
         "type": "scatter",
         "x": [
          -0.11515697519275878,
          -0.5108662366198753,
          null
         ],
         "y": [
          -0.1594756096347247,
          -0.8044868269930487,
          null
         ]
        },
        {
         "hoverinfo": "none",
         "line": {
          "color": "rgba(187, 185, 185, 1)",
          "width": 0.03
         },
         "mode": "lines",
         "type": "scatter",
         "x": [
          -0.11515697519275878,
          -0.19623274453162354,
          null
         ],
         "y": [
          -0.1594756096347247,
          -0.9718256924877132,
          null
         ]
        },
        {
         "hoverinfo": "none",
         "line": {
          "color": "rgba(28, 94, 169, 0.16891891891891891)",
          "width": 0.15
         },
         "mode": "lines",
         "type": "scatter",
         "x": [
          -0.11515697519275878,
          -0.9703300437788777,
          null
         ],
         "y": [
          -0.1594756096347247,
          -0.23048459787059877,
          null
         ]
        },
        {
         "hoverinfo": "none",
         "line": {
          "color": "rgba(187, 185, 185, 1)",
          "width": 0.03
         },
         "mode": "lines",
         "type": "scatter",
         "x": [
          -0.11515697519275878,
          0.6003122955774816,
          null
         ],
         "y": [
          -0.1594756096347247,
          -0.7801493033083269,
          null
         ]
        },
        {
         "hoverinfo": "none",
         "line": {
          "color": "rgba(187, 185, 185, 1)",
          "width": 0.07
         },
         "mode": "lines",
         "type": "scatter",
         "x": [
          -0.11515697519275878,
          -0.890026536050201,
          null
         ],
         "y": [
          -0.1594756096347247,
          -0.33313703292832664,
          null
         ]
        },
        {
         "hoverinfo": "none",
         "line": {
          "color": "rgba(187, 185, 185, 1)",
          "width": 0.02
         },
         "mode": "lines",
         "type": "scatter",
         "x": [
          -0.11515697519275878,
          -0.2592640942126677,
          null
         ],
         "y": [
          -0.1594756096347247,
          -0.9495996447549943,
          null
         ]
        },
        {
         "hoverinfo": "none",
         "line": {
          "color": "rgba(187, 185, 185, 1)",
          "width": 0.2
         },
         "mode": "lines",
         "type": "scatter",
         "x": [
          -0.11515697519275878,
          -0.4808398312550001,
          null
         ],
         "y": [
          -0.1594756096347247,
          -0.863800578620939,
          null
         ]
        },
        {
         "hoverinfo": "none",
         "line": {
          "color": "rgba(187, 185, 185, 1)",
          "width": 0.02
         },
         "mode": "lines",
         "type": "scatter",
         "x": [
          -0.11515697519275878,
          -0.03616366069211022,
          null
         ],
         "y": [
          -0.1594756096347247,
          0.9684321061433148,
          null
         ]
        },
        {
         "hoverinfo": "none",
         "line": {
          "color": "rgba(187, 185, 185, 1)",
          "width": 0.05
         },
         "mode": "lines",
         "type": "scatter",
         "x": [
          -0.11515697519275878,
          -0.39802838141068053,
          null
         ],
         "y": [
          -0.1594756096347247,
          0.9468085685650457,
          null
         ]
        },
        {
         "hoverinfo": "none",
         "line": {
          "color": "rgba(28, 94, 169, 0.033783783783783786)",
          "width": 0.03
         },
         "mode": "lines",
         "type": "scatter",
         "x": [
          -0.11515697519275878,
          -0.6177625142573949,
          null
         ],
         "y": [
          -0.1594756096347247,
          -0.7583318836834293,
          null
         ]
        },
        {
         "hoverinfo": "none",
         "line": {
          "color": "rgba(187, 185, 185, 1)",
          "width": 0.01
         },
         "mode": "lines",
         "type": "scatter",
         "x": [
          -0.11515697519275878,
          0.9531517750120252,
          null
         ],
         "y": [
          -0.1594756096347247,
          -0.28780628178389084,
          null
         ]
        },
        {
         "hoverinfo": "none",
         "line": {
          "color": "rgba(187, 185, 185, 1)",
          "width": 0.01
         },
         "mode": "lines",
         "type": "scatter",
         "x": [
          -0.11515697519275878,
          -0.8423585086279203,
          null
         ],
         "y": [
          -0.1594756096347247,
          0.551650867559718,
          null
         ]
        },
        {
         "hoverinfo": "none",
         "line": {
          "color": "rgba(187, 185, 185, 1)",
          "width": 0.02
         },
         "mode": "lines",
         "type": "scatter",
         "x": [
          -0.11515697519275878,
          0.8987753618780496,
          null
         ],
         "y": [
          -0.1594756096347247,
          0.4786809521886066,
          null
         ]
        },
        {
         "hoverinfo": "none",
         "line": {
          "color": "rgba(187, 185, 185, 1)",
          "width": 0.07
         },
         "mode": "lines",
         "type": "scatter",
         "x": [
          -0.11515697519275878,
          -0.5418436644365965,
          null
         ],
         "y": [
          -0.1594756096347247,
          0.35859488640263115,
          null
         ]
        },
        {
         "hoverinfo": "none",
         "line": {
          "color": "rgba(187, 185, 185, 1)",
          "width": 0.01
         },
         "mode": "lines",
         "type": "scatter",
         "x": [
          -0.11515697519275878,
          -0.9830639849542347,
          null
         ],
         "y": [
          -0.1594756096347247,
          0.15877335878917784,
          null
         ]
        },
        {
         "hoverinfo": "none",
         "line": {
          "color": "rgba(187, 185, 185, 1)",
          "width": 0.03
         },
         "mode": "lines",
         "type": "scatter",
         "x": [
          -0.11515697519275878,
          -0.03560024760116079,
          null
         ],
         "y": [
          -0.1594756096347247,
          -0.9750875534808698,
          null
         ]
        },
        {
         "hoverinfo": "none",
         "line": {
          "color": "rgba(187, 185, 185, 1)",
          "width": 0.02
         },
         "mode": "lines",
         "type": "scatter",
         "x": [
          -0.11515697519275878,
          0.444487520967563,
          null
         ],
         "y": [
          -0.1594756096347247,
          0.9039117982016478,
          null
         ]
        },
        {
         "hoverinfo": "none",
         "line": {
          "color": "rgba(187, 185, 185, 1)",
          "width": 0.08
         },
         "mode": "lines",
         "type": "scatter",
         "x": [
          -0.11515697519275878,
          0.9447299376818743,
          null
         ],
         "y": [
          -0.1594756096347247,
          -0.0916014154937672,
          null
         ]
        },
        {
         "hoverinfo": "none",
         "line": {
          "color": "rgba(187, 185, 185, 1)",
          "width": 0.03
         },
         "mode": "lines",
         "type": "scatter",
         "x": [
          -0.11515697519275878,
          0.9538937025771157,
          null
         ],
         "y": [
          -0.1594756096347247,
          -0.21823592738502817,
          null
         ]
        },
        {
         "hoverinfo": "none",
         "line": {
          "color": "rgba(187, 185, 185, 1)",
          "width": 0.02
         },
         "mode": "lines",
         "type": "scatter",
         "x": [
          -0.11515697519275878,
          0.955850441372372,
          null
         ],
         "y": [
          -0.1594756096347247,
          0.3368768522200347,
          null
         ]
        },
        {
         "hoverinfo": "none",
         "line": {
          "color": "rgba(187, 185, 185, 1)",
          "width": 0.04
         },
         "mode": "lines",
         "type": "scatter",
         "x": [
          -0.11515697519275878,
          -0.9760540355660953,
          null
         ],
         "y": [
          -0.1594756096347247,
          0.0766445753751248,
          null
         ]
        },
        {
         "hoverinfo": "none",
         "line": {
          "color": "rgba(187, 185, 185, 1)",
          "width": 0.02
         },
         "mode": "lines",
         "type": "scatter",
         "x": [
          -0.11515697519275878,
          0.6475602405972704,
          null
         ],
         "y": [
          -0.1594756096347247,
          0.7876843926224265,
          null
         ]
        },
        {
         "hoverinfo": "none",
         "line": {
          "color": "rgba(187, 185, 185, 1)",
          "width": 0.01
         },
         "mode": "lines",
         "type": "scatter",
         "x": [
          -0.11515697519275878,
          -1,
          null
         ],
         "y": [
          -0.1594756096347247,
          0.005784562936655106,
          null
         ]
        },
        {
         "hoverinfo": "none",
         "line": {
          "color": "rgba(187, 185, 185, 1)",
          "width": 0.01
         },
         "mode": "lines",
         "type": "scatter",
         "x": [
          -0.11515697519275878,
          0.6562666585631067,
          null
         ],
         "y": [
          -0.1594756096347247,
          -0.7412670898733315,
          null
         ]
        },
        {
         "hoverinfo": "none",
         "line": {
          "color": "rgba(187, 185, 185, 1)",
          "width": 0.04
         },
         "mode": "lines",
         "type": "scatter",
         "x": [
          -0.11515697519275878,
          0.39131499594542263,
          null
         ],
         "y": [
          -0.1594756096347247,
          0.808442035631209,
          null
         ]
        },
        {
         "hoverinfo": "none",
         "line": {
          "color": "rgba(28, 94, 169, 0.1126126126126126)",
          "width": 0.1
         },
         "mode": "lines",
         "type": "scatter",
         "x": [
          -0.11515697519275878,
          0.6854663266859259,
          null
         ],
         "y": [
          -0.1594756096347247,
          0.689400112478604,
          null
         ]
        },
        {
         "hoverinfo": "none",
         "line": {
          "color": "rgba(187, 185, 185, 1)",
          "width": 0.02
         },
         "mode": "lines",
         "type": "scatter",
         "x": [
          -0.11515697519275878,
          -0.571890666842389,
          null
         ],
         "y": [
          -0.1594756096347247,
          -0.8188021378050561,
          null
         ]
        },
        {
         "hoverinfo": "none",
         "line": {
          "color": "rgba(187, 185, 185, 1)",
          "width": 0.02
         },
         "mode": "lines",
         "type": "scatter",
         "x": [
          -0.11515697519275878,
          -0.8697970909595018,
          null
         ],
         "y": [
          -0.1594756096347247,
          0.46952842688707463,
          null
         ]
        },
        {
         "hoverinfo": "none",
         "line": {
          "color": "rgba(28, 94, 169, 0.02252252252252252)",
          "width": 0.02
         },
         "mode": "lines",
         "type": "scatter",
         "x": [
          -0.11515697519275878,
          -0.7016821867124674,
          null
         ],
         "y": [
          -0.1594756096347247,
          0.654927411053579,
          null
         ]
        },
        {
         "hoverinfo": "none",
         "line": {
          "color": "rgba(187, 185, 185, 1)",
          "width": 0.02
         },
         "mode": "lines",
         "type": "scatter",
         "x": [
          -0.11515697519275878,
          0.7434382158987388,
          null
         ],
         "y": [
          -0.1594756096347247,
          0.6139050094280043,
          null
         ]
        },
        {
         "hoverinfo": "none",
         "line": {
          "color": "rgba(187, 185, 185, 1)",
          "width": 0.01
         },
         "mode": "lines",
         "type": "scatter",
         "x": [
          -0.11515697519275878,
          0.07452908981031829,
          null
         ],
         "y": [
          -0.1594756096347247,
          -0.9529111877712696,
          null
         ]
        },
        {
         "hoverinfo": "none",
         "line": {
          "color": "rgba(187, 185, 185, 1)",
          "width": 0.01
         },
         "mode": "lines",
         "type": "scatter",
         "x": [
          -0.11515697519275878,
          -0.9727866793774038,
          null
         ],
         "y": [
          -0.1594756096347247,
          -0.0530714772300817,
          null
         ]
        },
        {
         "hoverinfo": "none",
         "line": {
          "color": "rgba(187, 185, 185, 1)",
          "width": 0.01
         },
         "mode": "lines",
         "type": "scatter",
         "x": [
          -0.11515697519275878,
          -0.8433685763902231,
          null
         ],
         "y": [
          -0.1594756096347247,
          -0.5397907300716649,
          null
         ]
        },
        {
         "hoverinfo": "none",
         "line": {
          "color": "rgba(187, 185, 185, 1)",
          "width": 0.01
         },
         "mode": "lines",
         "type": "scatter",
         "x": [
          -0.11515697519275878,
          -0.9016284334895351,
          null
         ],
         "y": [
          -0.1594756096347247,
          -0.47084052828246004,
          null
         ]
        },
        {
         "hoverinfo": "none",
         "line": {
          "color": "rgba(187, 185, 185, 1)",
          "width": 0.02
         },
         "mode": "lines",
         "type": "scatter",
         "x": [
          -0.11515697519275878,
          -0.41273830967721,
          null
         ],
         "y": [
          -0.1594756096347247,
          -0.8802397036075882,
          null
         ]
        },
        {
         "hoverinfo": "none",
         "line": {
          "color": "rgba(187, 185, 185, 1)",
          "width": 0.01
         },
         "mode": "lines",
         "type": "scatter",
         "x": [
          -0.11515697519275878,
          0.4931764080991937,
          null
         ],
         "y": [
          -0.1594756096347247,
          0.84013956826323,
          null
         ]
        },
        {
         "hoverinfo": "none",
         "line": {
          "color": "rgba(187, 185, 185, 1)",
          "width": 0.01
         },
         "mode": "lines",
         "type": "scatter",
         "x": [
          -0.11515697519275878,
          0.25572906980436766,
          null
         ],
         "y": [
          -0.1594756096347247,
          0.9522503545518943,
          null
         ]
        },
        {
         "hoverinfo": "none",
         "line": {
          "color": "rgba(187, 185, 185, 1)",
          "width": 0.01
         },
         "mode": "lines",
         "type": "scatter",
         "x": [
          -0.11515697519275878,
          -0.7364857304604823,
          null
         ],
         "y": [
          -0.1594756096347247,
          -0.7049848448532657,
          null
         ]
        },
        {
         "hoverinfo": "none",
         "line": {
          "color": "rgba(187, 185, 185, 1)",
          "width": 0.01
         },
         "mode": "lines",
         "type": "scatter",
         "x": [
          -0.11515697519275878,
          0.5852358563658656,
          null
         ],
         "y": [
          -0.1594756096347247,
          0.7397334943452094,
          null
         ]
        },
        {
         "hoverinfo": "none",
         "line": {
          "color": "rgba(187, 185, 185, 1)",
          "width": 0.01
         },
         "mode": "lines",
         "type": "scatter",
         "x": [
          -0.11515697519275878,
          0.9067855703257748,
          null
         ],
         "y": [
          -0.1594756096347247,
          -0.4519395685978457,
          null
         ]
        },
        {
         "hoverinfo": "none",
         "line": {
          "color": "rgba(187, 185, 185, 1)",
          "width": 0.01
         },
         "mode": "lines",
         "type": "scatter",
         "x": [
          -0.890026536050201,
          0.902060198653122,
          null
         ],
         "y": [
          -0.33313703292832664,
          0.3988330902502987,
          null
         ]
        },
        {
         "hoverinfo": "none",
         "line": {
          "color": "rgba(187, 185, 185, 1)",
          "width": 0.01
         },
         "mode": "lines",
         "type": "scatter",
         "x": [
          -0.890026536050201,
          0.24050730782694932,
          null
         ],
         "y": [
          -0.33313703292832664,
          -0.9389567059437505,
          null
         ]
        },
        {
         "hoverinfo": "none",
         "line": {
          "color": "rgba(187, 185, 185, 1)",
          "width": 0.02
         },
         "mode": "lines",
         "type": "scatter",
         "x": [
          -0.890026536050201,
          -0.14385812825593228,
          null
         ],
         "y": [
          -0.33313703292832664,
          0.9545043480217754,
          null
         ]
        },
        {
         "hoverinfo": "none",
         "line": {
          "color": "rgba(187, 185, 185, 1)",
          "width": 0.01
         },
         "mode": "lines",
         "type": "scatter",
         "x": [
          -0.890026536050201,
          0.014720878046645633,
          null
         ],
         "y": [
          -0.33313703292832664,
          -0.9908926142674225,
          null
         ]
        },
        {
         "hoverinfo": "none",
         "line": {
          "color": "rgba(187, 185, 185, 1)",
          "width": 0.24
         },
         "mode": "lines",
         "type": "scatter",
         "x": [
          -0.03616366069211022,
          0.7381809317114504,
          null
         ],
         "y": [
          0.9684321061433148,
          0.7115895977610612,
          null
         ]
        },
        {
         "hoverinfo": "none",
         "line": {
          "color": "rgba(187, 185, 185, 1)",
          "width": 0.02
         },
         "mode": "lines",
         "type": "scatter",
         "x": [
          -0.03616366069211022,
          -0.7016821867124674,
          null
         ],
         "y": [
          0.9684321061433148,
          0.654927411053579,
          null
         ]
        },
        {
         "hoverinfo": "none",
         "line": {
          "color": "rgba(187, 185, 185, 1)",
          "width": 0.15
         },
         "mode": "lines",
         "type": "scatter",
         "x": [
          -0.03616366069211022,
          -0.571890666842389,
          null
         ],
         "y": [
          0.9684321061433148,
          -0.8188021378050561,
          null
         ]
        },
        {
         "hoverinfo": "none",
         "line": {
          "color": "rgba(187, 185, 185, 1)",
          "width": 0.05
         },
         "mode": "lines",
         "type": "scatter",
         "x": [
          -0.03616366069211022,
          -0.4808398312550001,
          null
         ],
         "y": [
          0.9684321061433148,
          -0.863800578620939,
          null
         ]
        },
        {
         "hoverinfo": "none",
         "line": {
          "color": "rgba(187, 185, 185, 1)",
          "width": 0.01
         },
         "mode": "lines",
         "type": "scatter",
         "x": [
          -0.03616366069211022,
          0.4931764080991937,
          null
         ],
         "y": [
          0.9684321061433148,
          0.84013956826323,
          null
         ]
        },
        {
         "hoverinfo": "none",
         "line": {
          "color": "rgba(187, 185, 185, 1)",
          "width": 0.04
         },
         "mode": "lines",
         "type": "scatter",
         "x": [
          -0.03616366069211022,
          -0.7874086753982931,
          null
         ],
         "y": [
          0.9684321061433148,
          0.6583964554546868,
          null
         ]
        },
        {
         "hoverinfo": "none",
         "line": {
          "color": "rgba(187, 185, 185, 1)",
          "width": 0.03
         },
         "mode": "lines",
         "type": "scatter",
         "x": [
          -0.03616366069211022,
          -0.9703300437788777,
          null
         ],
         "y": [
          0.9684321061433148,
          -0.23048459787059877,
          null
         ]
        },
        {
         "hoverinfo": "none",
         "line": {
          "color": "rgba(187, 185, 185, 1)",
          "width": 0.01
         },
         "mode": "lines",
         "type": "scatter",
         "x": [
          -0.03616366069211022,
          0.8502864805911772,
          null
         ],
         "y": [
          0.9684321061433148,
          -0.525826695126178,
          null
         ]
        },
        {
         "hoverinfo": "none",
         "line": {
          "color": "rgba(187, 185, 185, 1)",
          "width": 0.02
         },
         "mode": "lines",
         "type": "scatter",
         "x": [
          -0.03616366069211022,
          0.1384041974084264,
          null
         ],
         "y": [
          0.9684321061433148,
          -0.9557557778878748,
          null
         ]
        },
        {
         "hoverinfo": "none",
         "line": {
          "color": "rgba(187, 185, 185, 1)",
          "width": 0.01
         },
         "mode": "lines",
         "type": "scatter",
         "x": [
          -0.03616366069211022,
          -0.6177625142573949,
          null
         ],
         "y": [
          0.9684321061433148,
          -0.7583318836834293,
          null
         ]
        },
        {
         "hoverinfo": "none",
         "line": {
          "color": "rgba(187, 185, 185, 1)",
          "width": 0.01
         },
         "mode": "lines",
         "type": "scatter",
         "x": [
          -0.03616366069211022,
          -0.3678552642894917,
          null
         ],
         "y": [
          0.9684321061433148,
          -0.930577490460078,
          null
         ]
        },
        {
         "hoverinfo": "none",
         "line": {
          "color": "rgba(187, 185, 185, 1)",
          "width": 0.01
         },
         "mode": "lines",
         "type": "scatter",
         "x": [
          -0.03616366069211022,
          0.014720878046645633,
          null
         ],
         "y": [
          0.9684321061433148,
          -0.9908926142674225,
          null
         ]
        },
        {
         "hoverinfo": "none",
         "line": {
          "color": "rgba(187, 185, 185, 1)",
          "width": 0.01
         },
         "mode": "lines",
         "type": "scatter",
         "x": [
          -0.939095359872664,
          0.014720878046645633,
          null
         ],
         "y": [
          0.2216203118006076,
          -0.9908926142674225,
          null
         ]
        },
        {
         "hoverinfo": "none",
         "line": {
          "color": "rgba(187, 185, 185, 1)",
          "width": 0.01
         },
         "mode": "lines",
         "type": "scatter",
         "x": [
          -0.939095359872664,
          -0.5418436644365965,
          null
         ],
         "y": [
          0.2216203118006076,
          0.35859488640263115,
          null
         ]
        },
        {
         "hoverinfo": "none",
         "line": {
          "color": "rgba(187, 185, 185, 1)",
          "width": 0.05
         },
         "mode": "lines",
         "type": "scatter",
         "x": [
          0.014720878046645633,
          0.6003122955774816,
          null
         ],
         "y": [
          -0.9908926142674225,
          -0.7801493033083269,
          null
         ]
        },
        {
         "hoverinfo": "none",
         "line": {
          "color": "rgba(187, 185, 185, 1)",
          "width": 0.01
         },
         "mode": "lines",
         "type": "scatter",
         "x": [
          0.014720878046645633,
          -0.9277378589126397,
          null
         ],
         "y": [
          -0.9908926142674225,
          0.4146802296322724,
          null
         ]
        },
        {
         "hoverinfo": "none",
         "line": {
          "color": "rgba(187, 185, 185, 1)",
          "width": 0.04
         },
         "mode": "lines",
         "type": "scatter",
         "x": [
          0.014720878046645633,
          0.955850441372372,
          null
         ],
         "y": [
          -0.9908926142674225,
          0.3368768522200347,
          null
         ]
        },
        {
         "hoverinfo": "none",
         "line": {
          "color": "rgba(28, 94, 169, 0.09009009009009009)",
          "width": 0.08
         },
         "mode": "lines",
         "type": "scatter",
         "x": [
          0.014720878046645633,
          -0.6177625142573949,
          null
         ],
         "y": [
          -0.9908926142674225,
          -0.7583318836834293,
          null
         ]
        },
        {
         "hoverinfo": "none",
         "line": {
          "color": "rgba(187, 185, 185, 1)",
          "width": 0.05
         },
         "mode": "lines",
         "type": "scatter",
         "x": [
          0.014720878046645633,
          -0.8697970909595018,
          null
         ],
         "y": [
          -0.9908926142674225,
          0.46952842688707463,
          null
         ]
        },
        {
         "hoverinfo": "none",
         "line": {
          "color": "rgba(187, 185, 185, 1)",
          "width": 0.01
         },
         "mode": "lines",
         "type": "scatter",
         "x": [
          0.014720878046645633,
          -0.39802838141068053,
          null
         ],
         "y": [
          -0.9908926142674225,
          0.9468085685650457,
          null
         ]
        },
        {
         "hoverinfo": "none",
         "line": {
          "color": "rgba(187, 185, 185, 1)",
          "width": 0.01
         },
         "mode": "lines",
         "type": "scatter",
         "x": [
          0.014720878046645633,
          0.8987753618780496,
          null
         ],
         "y": [
          -0.9908926142674225,
          0.4786809521886066,
          null
         ]
        },
        {
         "hoverinfo": "none",
         "line": {
          "color": "rgba(187, 185, 185, 1)",
          "width": 0.03
         },
         "mode": "lines",
         "type": "scatter",
         "x": [
          0.014720878046645633,
          -0.41273830967721,
          null
         ],
         "y": [
          -0.9908926142674225,
          -0.8802397036075882,
          null
         ]
        },
        {
         "hoverinfo": "none",
         "line": {
          "color": "rgba(187, 185, 185, 1)",
          "width": 0.02
         },
         "mode": "lines",
         "type": "scatter",
         "x": [
          0.014720878046645633,
          0.9447299376818743,
          null
         ],
         "y": [
          -0.9908926142674225,
          -0.0916014154937672,
          null
         ]
        },
        {
         "hoverinfo": "none",
         "line": {
          "color": "rgba(187, 185, 185, 1)",
          "width": 0.02
         },
         "mode": "lines",
         "type": "scatter",
         "x": [
          0.014720878046645633,
          -0.5418436644365965,
          null
         ],
         "y": [
          -0.9908926142674225,
          0.35859488640263115,
          null
         ]
        },
        {
         "hoverinfo": "none",
         "line": {
          "color": "rgba(187, 185, 185, 1)",
          "width": 0.02
         },
         "mode": "lines",
         "type": "scatter",
         "x": [
          0.014720878046645633,
          0.540944674629126,
          null
         ],
         "y": [
          -0.9908926142674225,
          -0.8440237511317803,
          null
         ]
        },
        {
         "hoverinfo": "none",
         "line": {
          "color": "rgba(187, 185, 185, 1)",
          "width": 0.04
         },
         "mode": "lines",
         "type": "scatter",
         "x": [
          0.014720878046645633,
          -0.9598391530575267,
          null
         ],
         "y": [
          -0.9908926142674225,
          0.2772813054250828,
          null
         ]
        },
        {
         "hoverinfo": "none",
         "line": {
          "color": "rgba(187, 185, 185, 1)",
          "width": 0.01
         },
         "mode": "lines",
         "type": "scatter",
         "x": [
          0.014720878046645633,
          -0.4808398312550001,
          null
         ],
         "y": [
          -0.9908926142674225,
          -0.863800578620939,
          null
         ]
        },
        {
         "hoverinfo": "none",
         "line": {
          "color": "rgba(28, 94, 169, 0.01126126126126126)",
          "width": 0.01
         },
         "mode": "lines",
         "type": "scatter",
         "x": [
          0.014720878046645633,
          0.24050730782694932,
          null
         ],
         "y": [
          -0.9908926142674225,
          -0.9389567059437505,
          null
         ]
        },
        {
         "hoverinfo": "none",
         "line": {
          "color": "rgba(187, 185, 185, 1)",
          "width": 0.02
         },
         "mode": "lines",
         "type": "scatter",
         "x": [
          0.014720878046645633,
          0.6475602405972704,
          null
         ],
         "y": [
          -0.9908926142674225,
          0.7876843926224265,
          null
         ]
        },
        {
         "hoverinfo": "none",
         "line": {
          "color": "rgba(187, 185, 185, 1)",
          "width": 0.01
         },
         "mode": "lines",
         "type": "scatter",
         "x": [
          0.014720878046645633,
          0.8743965651480335,
          null
         ],
         "y": [
          -0.9908926142674225,
          -0.3162740157460976,
          null
         ]
        },
        {
         "hoverinfo": "none",
         "line": {
          "color": "rgba(187, 185, 185, 1)",
          "width": 0.02
         },
         "mode": "lines",
         "type": "scatter",
         "x": [
          0.014720878046645633,
          -0.2961523759090147,
          null
         ],
         "y": [
          -0.9908926142674225,
          0.9581439013008709,
          null
         ]
        },
        {
         "hoverinfo": "none",
         "line": {
          "color": "rgba(187, 185, 185, 1)",
          "width": 0.01
         },
         "mode": "lines",
         "type": "scatter",
         "x": [
          0.24050730782694932,
          -0.6423234937817698,
          null
         ],
         "y": [
          -0.9389567059437505,
          0.7641906656108423,
          null
         ]
        },
        {
         "hoverinfo": "none",
         "line": {
          "color": "rgba(187, 185, 185, 1)",
          "width": 0.02
         },
         "mode": "lines",
         "type": "scatter",
         "x": [
          0.24050730782694932,
          -0.19623274453162354,
          null
         ],
         "y": [
          -0.9389567059437505,
          -0.9718256924877132,
          null
         ]
        },
        {
         "hoverinfo": "none",
         "line": {
          "color": "rgba(187, 185, 185, 1)",
          "width": 0.01
         },
         "mode": "lines",
         "type": "scatter",
         "x": [
          0.24050730782694932,
          -0.5108662366198753,
          null
         ],
         "y": [
          -0.9389567059437505,
          -0.8044868269930487,
          null
         ]
        },
        {
         "hoverinfo": "none",
         "line": {
          "color": "rgba(187, 185, 185, 1)",
          "width": 0.01
         },
         "mode": "lines",
         "type": "scatter",
         "x": [
          0.24050730782694932,
          -0.571890666842389,
          null
         ],
         "y": [
          -0.9389567059437505,
          -0.8188021378050561,
          null
         ]
        },
        {
         "hoverinfo": "none",
         "line": {
          "color": "rgba(28, 94, 169, 0.04504504504504504)",
          "width": 0.04
         },
         "mode": "lines",
         "type": "scatter",
         "x": [
          0.24050730782694932,
          -0.9703300437788777,
          null
         ],
         "y": [
          -0.9389567059437505,
          -0.23048459787059877,
          null
         ]
        },
        {
         "hoverinfo": "none",
         "line": {
          "color": "rgba(187, 185, 185, 1)",
          "width": 0.01
         },
         "mode": "lines",
         "type": "scatter",
         "x": [
          0.24050730782694932,
          0.9376807675982876,
          null
         ],
         "y": [
          -0.9389567059437505,
          -0.3699124814103114,
          null
         ]
        },
        {
         "hoverinfo": "none",
         "line": {
          "color": "rgba(187, 185, 185, 1)",
          "width": 0.01
         },
         "mode": "lines",
         "type": "scatter",
         "x": [
          0.24050730782694932,
          -0.03560024760116079,
          null
         ],
         "y": [
          -0.9389567059437505,
          -0.9750875534808698,
          null
         ]
        },
        {
         "hoverinfo": "none",
         "line": {
          "color": "rgba(187, 185, 185, 1)",
          "width": 0.02
         },
         "mode": "lines",
         "type": "scatter",
         "x": [
          0.24050730782694932,
          -0.4808398312550001,
          null
         ],
         "y": [
          -0.9389567059437505,
          -0.863800578620939,
          null
         ]
        },
        {
         "hoverinfo": "none",
         "line": {
          "color": "rgba(187, 185, 185, 1)",
          "width": 0.02
         },
         "mode": "lines",
         "type": "scatter",
         "x": [
          0.24050730782694932,
          0.540944674629126,
          null
         ],
         "y": [
          -0.9389567059437505,
          -0.8440237511317803,
          null
         ]
        },
        {
         "hoverinfo": "none",
         "line": {
          "color": "rgba(187, 185, 185, 1)",
          "width": 0.01
         },
         "mode": "lines",
         "type": "scatter",
         "x": [
          0.24050730782694932,
          0.9531517750120252,
          null
         ],
         "y": [
          -0.9389567059437505,
          -0.28780628178389084,
          null
         ]
        },
        {
         "hoverinfo": "none",
         "line": {
          "color": "rgba(187, 185, 185, 1)",
          "width": 0.01
         },
         "mode": "lines",
         "type": "scatter",
         "x": [
          0.24050730782694932,
          0.39131499594542263,
          null
         ],
         "y": [
          -0.9389567059437505,
          0.808442035631209,
          null
         ]
        },
        {
         "hoverinfo": "none",
         "line": {
          "color": "rgba(187, 185, 185, 1)",
          "width": 0.02
         },
         "mode": "lines",
         "type": "scatter",
         "x": [
          0.24050730782694932,
          0.7434382158987388,
          null
         ],
         "y": [
          -0.9389567059437505,
          0.6139050094280043,
          null
         ]
        },
        {
         "hoverinfo": "none",
         "line": {
          "color": "rgba(187, 185, 185, 1)",
          "width": 0.01
         },
         "mode": "lines",
         "type": "scatter",
         "x": [
          0.24050730782694932,
          -0.5570977418486838,
          null
         ],
         "y": [
          -0.9389567059437505,
          0.7262112635362499,
          null
         ]
        },
        {
         "hoverinfo": "none",
         "line": {
          "color": "rgba(187, 185, 185, 1)",
          "width": 0.01
         },
         "mode": "lines",
         "type": "scatter",
         "x": [
          0.24050730782694932,
          0.8987753618780496,
          null
         ],
         "y": [
          -0.9389567059437505,
          0.4786809521886066,
          null
         ]
        },
        {
         "hoverinfo": "none",
         "line": {
          "color": "rgba(187, 185, 185, 1)",
          "width": 0.01
         },
         "mode": "lines",
         "type": "scatter",
         "x": [
          0.24050730782694932,
          -0.2961523759090147,
          null
         ],
         "y": [
          -0.9389567059437505,
          0.9581439013008709,
          null
         ]
        },
        {
         "hoverinfo": "none",
         "line": {
          "color": "rgba(187, 185, 185, 1)",
          "width": 0.01
         },
         "mode": "lines",
         "type": "scatter",
         "x": [
          0.24050730782694932,
          -0.5418436644365965,
          null
         ],
         "y": [
          -0.9389567059437505,
          0.35859488640263115,
          null
         ]
        },
        {
         "hoverinfo": "none",
         "line": {
          "color": "rgba(187, 185, 185, 1)",
          "width": 0.01
         },
         "mode": "lines",
         "type": "scatter",
         "x": [
          0.24050730782694932,
          0.6003122955774816,
          null
         ],
         "y": [
          -0.9389567059437505,
          -0.7801493033083269,
          null
         ]
        },
        {
         "hoverinfo": "none",
         "line": {
          "color": "rgba(187, 185, 185, 1)",
          "width": 0.01
         },
         "mode": "lines",
         "type": "scatter",
         "x": [
          0.24050730782694932,
          0.444487520967563,
          null
         ],
         "y": [
          -0.9389567059437505,
          0.9039117982016478,
          null
         ]
        },
        {
         "hoverinfo": "none",
         "line": {
          "color": "rgba(187, 185, 185, 1)",
          "width": 0.01
         },
         "mode": "lines",
         "type": "scatter",
         "x": [
          0.24050730782694932,
          0.955850441372372,
          null
         ],
         "y": [
          -0.9389567059437505,
          0.3368768522200347,
          null
         ]
        },
        {
         "hoverinfo": "none",
         "line": {
          "color": "rgba(187, 185, 185, 1)",
          "width": 0.04
         },
         "mode": "lines",
         "type": "scatter",
         "x": [
          0.8987753618780496,
          -0.5570977418486838,
          null
         ],
         "y": [
          0.4786809521886066,
          0.7262112635362499,
          null
         ]
        },
        {
         "hoverinfo": "none",
         "line": {
          "color": "rgba(189, 0, 50, 0.033783783783783786)",
          "width": 0.03
         },
         "mode": "lines",
         "type": "scatter",
         "x": [
          0.8987753618780496,
          0.444487520967563,
          null
         ],
         "y": [
          0.4786809521886066,
          0.9039117982016478,
          null
         ]
        },
        {
         "hoverinfo": "none",
         "line": {
          "color": "rgba(187, 185, 185, 1)",
          "width": 0.01
         },
         "mode": "lines",
         "type": "scatter",
         "x": [
          0.8987753618780496,
          -0.39802838141068053,
          null
         ],
         "y": [
          0.4786809521886066,
          0.9468085685650457,
          null
         ]
        },
        {
         "hoverinfo": "none",
         "line": {
          "color": "rgba(187, 185, 185, 1)",
          "width": 0.01
         },
         "mode": "lines",
         "type": "scatter",
         "x": [
          0.8987753618780496,
          0.39131499594542263,
          null
         ],
         "y": [
          0.4786809521886066,
          0.808442035631209,
          null
         ]
        },
        {
         "hoverinfo": "none",
         "line": {
          "color": "rgba(187, 185, 185, 1)",
          "width": 0.01
         },
         "mode": "lines",
         "type": "scatter",
         "x": [
          0.8987753618780496,
          -0.5418436644365965,
          null
         ],
         "y": [
          0.4786809521886066,
          0.35859488640263115,
          null
         ]
        },
        {
         "hoverinfo": "none",
         "line": {
          "color": "rgba(189, 0, 50, 0.01126126126126126)",
          "width": 0.01
         },
         "mode": "lines",
         "type": "scatter",
         "x": [
          0.8987753618780496,
          -0.9598391530575267,
          null
         ],
         "y": [
          0.4786809521886066,
          0.2772813054250828,
          null
         ]
        },
        {
         "hoverinfo": "none",
         "line": {
          "color": "rgba(187, 185, 185, 1)",
          "width": 0.01
         },
         "mode": "lines",
         "type": "scatter",
         "x": [
          0.8987753618780496,
          -0.7016821867124674,
          null
         ],
         "y": [
          0.4786809521886066,
          0.654927411053579,
          null
         ]
        },
        {
         "hoverinfo": "none",
         "line": {
          "color": "rgba(187, 185, 185, 1)",
          "width": 0.01
         },
         "mode": "lines",
         "type": "scatter",
         "x": [
          0.8987753618780496,
          -0.7364857304604823,
          null
         ],
         "y": [
          0.4786809521886066,
          -0.7049848448532657,
          null
         ]
        },
        {
         "hoverinfo": "none",
         "line": {
          "color": "rgba(189, 0, 50, 0.01126126126126126)",
          "width": 0.01
         },
         "mode": "lines",
         "type": "scatter",
         "x": [
          0.8987753618780496,
          -0.03560024760116079,
          null
         ],
         "y": [
          0.4786809521886066,
          -0.9750875534808698,
          null
         ]
        },
        {
         "hoverinfo": "none",
         "line": {
          "color": "rgba(187, 185, 185, 1)",
          "width": 0.01
         },
         "mode": "lines",
         "type": "scatter",
         "x": [
          -0.4808398312550001,
          0.7381809317114504,
          null
         ],
         "y": [
          -0.863800578620939,
          0.7115895977610612,
          null
         ]
        },
        {
         "hoverinfo": "none",
         "line": {
          "color": "rgba(187, 185, 185, 1)",
          "width": 0.01
         },
         "mode": "lines",
         "type": "scatter",
         "x": [
          -0.4808398312550001,
          -0.6177625142573949,
          null
         ],
         "y": [
          -0.863800578620939,
          -0.7583318836834293,
          null
         ]
        },
        {
         "hoverinfo": "none",
         "line": {
          "color": "rgba(187, 185, 185, 1)",
          "width": 0.01
         },
         "mode": "lines",
         "type": "scatter",
         "x": [
          -0.4808398312550001,
          -0.3678552642894917,
          null
         ],
         "y": [
          -0.863800578620939,
          -0.930577490460078,
          null
         ]
        },
        {
         "hoverinfo": "none",
         "line": {
          "color": "rgba(187, 185, 185, 1)",
          "width": 0.01
         },
         "mode": "lines",
         "type": "scatter",
         "x": [
          -0.4808398312550001,
          -0.571890666842389,
          null
         ],
         "y": [
          -0.863800578620939,
          -0.8188021378050561,
          null
         ]
        },
        {
         "hoverinfo": "none",
         "line": {
          "color": "rgba(187, 185, 185, 1)",
          "width": 0.01
         },
         "mode": "lines",
         "type": "scatter",
         "x": [
          -0.4808398312550001,
          -0.19623274453162354,
          null
         ],
         "y": [
          -0.863800578620939,
          -0.9718256924877132,
          null
         ]
        },
        {
         "hoverinfo": "none",
         "line": {
          "color": "rgba(187, 185, 185, 1)",
          "width": 0.03
         },
         "mode": "lines",
         "type": "scatter",
         "x": [
          -0.4808398312550001,
          -0.9703300437788777,
          null
         ],
         "y": [
          -0.863800578620939,
          -0.23048459787059877,
          null
         ]
        },
        {
         "hoverinfo": "none",
         "line": {
          "color": "rgba(187, 185, 185, 1)",
          "width": 0.02
         },
         "mode": "lines",
         "type": "scatter",
         "x": [
          -0.4808398312550001,
          -0.7874086753982931,
          null
         ],
         "y": [
          -0.863800578620939,
          0.6583964554546868,
          null
         ]
        },
        {
         "hoverinfo": "none",
         "line": {
          "color": "rgba(187, 185, 185, 1)",
          "width": 0.01
         },
         "mode": "lines",
         "type": "scatter",
         "x": [
          -0.4808398312550001,
          -0.6423234937817698,
          null
         ],
         "y": [
          -0.863800578620939,
          0.7641906656108423,
          null
         ]
        },
        {
         "hoverinfo": "none",
         "line": {
          "color": "rgba(187, 185, 185, 1)",
          "width": 0.01
         },
         "mode": "lines",
         "type": "scatter",
         "x": [
          -0.4808398312550001,
          0.540944674629126,
          null
         ],
         "y": [
          -0.863800578620939,
          -0.8440237511317803,
          null
         ]
        },
        {
         "hoverinfo": "none",
         "line": {
          "color": "rgba(187, 185, 185, 1)",
          "width": 0.01
         },
         "mode": "lines",
         "type": "scatter",
         "x": [
          -0.4808398312550001,
          0.9998026043051625,
          null
         ],
         "y": [
          -0.863800578620939,
          -0.06935929177127546,
          null
         ]
        },
        {
         "hoverinfo": "none",
         "line": {
          "color": "rgba(187, 185, 185, 1)",
          "width": 0.01
         },
         "mode": "lines",
         "type": "scatter",
         "x": [
          -0.4808398312550001,
          0.07452908981031829,
          null
         ],
         "y": [
          -0.863800578620939,
          -0.9529111877712696,
          null
         ]
        },
        {
         "hoverinfo": "none",
         "line": {
          "color": "rgba(187, 185, 185, 1)",
          "width": 0.01
         },
         "mode": "lines",
         "type": "scatter",
         "x": [
          0.9447299376818743,
          -0.9760540355660953,
          null
         ],
         "y": [
          -0.0916014154937672,
          0.0766445753751248,
          null
         ]
        },
        {
         "hoverinfo": "none",
         "line": {
          "color": "rgba(187, 185, 185, 1)",
          "width": 0.28
         },
         "mode": "lines",
         "type": "scatter",
         "x": [
          0.9447299376818743,
          -0.5418436644365965,
          null
         ],
         "y": [
          -0.0916014154937672,
          0.35859488640263115,
          null
         ]
        },
        {
         "hoverinfo": "none",
         "line": {
          "color": "rgba(187, 185, 185, 1)",
          "width": 0.02
         },
         "mode": "lines",
         "type": "scatter",
         "x": [
          0.9447299376818743,
          0.7434382158987388,
          null
         ],
         "y": [
          -0.0916014154937672,
          0.6139050094280043,
          null
         ]
        },
        {
         "hoverinfo": "none",
         "line": {
          "color": "rgba(187, 185, 185, 1)",
          "width": 0.04
         },
         "mode": "lines",
         "type": "scatter",
         "x": [
          0.9447299376818743,
          0.9858589547110296,
          null
         ],
         "y": [
          -0.0916014154937672,
          0.0029642405713294247,
          null
         ]
        },
        {
         "hoverinfo": "none",
         "line": {
          "color": "rgba(187, 185, 185, 1)",
          "width": 0.02
         },
         "mode": "lines",
         "type": "scatter",
         "x": [
          0.9447299376818743,
          0.955850441372372,
          null
         ],
         "y": [
          -0.0916014154937672,
          0.3368768522200347,
          null
         ]
        },
        {
         "hoverinfo": "none",
         "line": {
          "color": "rgba(187, 185, 185, 1)",
          "width": 0.1
         },
         "mode": "lines",
         "type": "scatter",
         "x": [
          0.9447299376818743,
          0.39131499594542263,
          null
         ],
         "y": [
          -0.0916014154937672,
          0.808442035631209,
          null
         ]
        },
        {
         "hoverinfo": "none",
         "line": {
          "color": "rgba(187, 185, 185, 1)",
          "width": 0.02
         },
         "mode": "lines",
         "type": "scatter",
         "x": [
          0.9447299376818743,
          0.540944674629126,
          null
         ],
         "y": [
          -0.0916014154937672,
          -0.8440237511317803,
          null
         ]
        },
        {
         "hoverinfo": "none",
         "line": {
          "color": "rgba(187, 185, 185, 1)",
          "width": 0.01
         },
         "mode": "lines",
         "type": "scatter",
         "x": [
          0.9447299376818743,
          -0.6423234937817698,
          null
         ],
         "y": [
          -0.0916014154937672,
          0.7641906656108423,
          null
         ]
        },
        {
         "hoverinfo": "none",
         "line": {
          "color": "rgba(187, 185, 185, 1)",
          "width": 0.01
         },
         "mode": "lines",
         "type": "scatter",
         "x": [
          0.9447299376818743,
          0.9538937025771157,
          null
         ],
         "y": [
          -0.0916014154937672,
          -0.21823592738502817,
          null
         ]
        },
        {
         "hoverinfo": "none",
         "line": {
          "color": "rgba(187, 185, 185, 1)",
          "width": 0.01
         },
         "mode": "lines",
         "type": "scatter",
         "x": [
          0.9447299376818743,
          0.6854663266859259,
          null
         ],
         "y": [
          -0.0916014154937672,
          0.689400112478604,
          null
         ]
        },
        {
         "hoverinfo": "none",
         "line": {
          "color": "rgba(187, 185, 185, 1)",
          "width": 0.01
         },
         "mode": "lines",
         "type": "scatter",
         "x": [
          0.9447299376818743,
          -0.7364857304604823,
          null
         ],
         "y": [
          -0.0916014154937672,
          -0.7049848448532657,
          null
         ]
        },
        {
         "hoverinfo": "none",
         "line": {
          "color": "rgba(187, 185, 185, 1)",
          "width": 0.01
         },
         "mode": "lines",
         "type": "scatter",
         "x": [
          0.9447299376818743,
          -0.6177625142573949,
          null
         ],
         "y": [
          -0.0916014154937672,
          -0.7583318836834293,
          null
         ]
        },
        {
         "hoverinfo": "none",
         "line": {
          "color": "rgba(189, 0, 50, 0.04504504504504504)",
          "width": 0.04
         },
         "mode": "lines",
         "type": "scatter",
         "x": [
          -0.9760540355660953,
          -0.03560024760116079,
          null
         ],
         "y": [
          0.0766445753751248,
          -0.9750875534808698,
          null
         ]
        },
        {
         "hoverinfo": "none",
         "line": {
          "color": "rgba(187, 185, 185, 1)",
          "width": 0.01
         },
         "mode": "lines",
         "type": "scatter",
         "x": [
          -0.9760540355660953,
          0.955850441372372,
          null
         ],
         "y": [
          0.0766445753751248,
          0.3368768522200347,
          null
         ]
        },
        {
         "hoverinfo": "none",
         "line": {
          "color": "rgba(187, 185, 185, 1)",
          "width": 0.01
         },
         "mode": "lines",
         "type": "scatter",
         "x": [
          -0.9760540355660953,
          0.5652270236869756,
          null
         ],
         "y": [
          0.0766445753751248,
          0.8305817173911906,
          null
         ]
        },
        {
         "hoverinfo": "none",
         "line": {
          "color": "rgba(187, 185, 185, 1)",
          "width": 0.01
         },
         "mode": "lines",
         "type": "scatter",
         "x": [
          -0.9760540355660953,
          0.9538937025771157,
          null
         ],
         "y": [
          0.0766445753751248,
          -0.21823592738502817,
          null
         ]
        },
        {
         "hoverinfo": "none",
         "line": {
          "color": "rgba(187, 185, 185, 1)",
          "width": 0.01
         },
         "mode": "lines",
         "type": "scatter",
         "x": [
          -0.9760540355660953,
          0.9531517750120252,
          null
         ],
         "y": [
          0.0766445753751248,
          -0.28780628178389084,
          null
         ]
        },
        {
         "hoverinfo": "none",
         "line": {
          "color": "rgba(187, 185, 185, 1)",
          "width": 0.01
         },
         "mode": "lines",
         "type": "scatter",
         "x": [
          -0.9760540355660953,
          0.6854663266859259,
          null
         ],
         "y": [
          0.0766445753751248,
          0.689400112478604,
          null
         ]
        },
        {
         "hoverinfo": "none",
         "line": {
          "color": "rgba(187, 185, 185, 1)",
          "width": 0.01
         },
         "mode": "lines",
         "type": "scatter",
         "x": [
          -0.9760540355660953,
          0.39131499594542263,
          null
         ],
         "y": [
          0.0766445753751248,
          0.808442035631209,
          null
         ]
        },
        {
         "hoverinfo": "none",
         "line": {
          "color": "rgba(187, 185, 185, 1)",
          "width": 0.01
         },
         "mode": "lines",
         "type": "scatter",
         "x": [
          -0.9760540355660953,
          -0.7016821867124674,
          null
         ],
         "y": [
          0.0766445753751248,
          0.654927411053579,
          null
         ]
        },
        {
         "hoverinfo": "none",
         "line": {
          "color": "rgba(187, 185, 185, 1)",
          "width": 0.01
         },
         "mode": "lines",
         "type": "scatter",
         "x": [
          -0.7874086753982931,
          0.6562666585631067,
          null
         ],
         "y": [
          0.6583964554546868,
          -0.7412670898733315,
          null
         ]
        },
        {
         "hoverinfo": "none",
         "line": {
          "color": "rgba(187, 185, 185, 1)",
          "width": 0.01
         },
         "mode": "lines",
         "type": "scatter",
         "x": [
          -0.7874086753982931,
          0.6003122955774816,
          null
         ],
         "y": [
          0.6583964554546868,
          -0.7801493033083269,
          null
         ]
        },
        {
         "hoverinfo": "none",
         "line": {
          "color": "rgba(187, 185, 185, 1)",
          "width": 0.01
         },
         "mode": "lines",
         "type": "scatter",
         "x": [
          -0.7874086753982931,
          -0.3678552642894917,
          null
         ],
         "y": [
          0.6583964554546868,
          -0.930577490460078,
          null
         ]
        },
        {
         "hoverinfo": "none",
         "line": {
          "color": "rgba(187, 185, 185, 1)",
          "width": 0.02
         },
         "mode": "lines",
         "type": "scatter",
         "x": [
          -0.7016821867124674,
          -0.7364857304604823,
          null
         ],
         "y": [
          0.654927411053579,
          -0.7049848448532657,
          null
         ]
        },
        {
         "hoverinfo": "none",
         "line": {
          "color": "rgba(187, 185, 185, 1)",
          "width": 0.04
         },
         "mode": "lines",
         "type": "scatter",
         "x": [
          -0.7016821867124674,
          0.444487520967563,
          null
         ],
         "y": [
          0.654927411053579,
          0.9039117982016478,
          null
         ]
        },
        {
         "hoverinfo": "none",
         "line": {
          "color": "rgba(187, 185, 185, 1)",
          "width": 0.01
         },
         "mode": "lines",
         "type": "scatter",
         "x": [
          -0.5570977418486838,
          -0.9703300437788777,
          null
         ],
         "y": [
          0.7262112635362499,
          -0.23048459787059877,
          null
         ]
        },
        {
         "hoverinfo": "none",
         "line": {
          "color": "rgba(187, 185, 185, 1)",
          "width": 0.02
         },
         "mode": "lines",
         "type": "scatter",
         "x": [
          -0.5570977418486838,
          -0.5418436644365965,
          null
         ],
         "y": [
          0.7262112635362499,
          0.35859488640263115,
          null
         ]
        },
        {
         "hoverinfo": "none",
         "line": {
          "color": "rgba(187, 185, 185, 1)",
          "width": 0.01
         },
         "mode": "lines",
         "type": "scatter",
         "x": [
          -0.5570977418486838,
          0.444487520967563,
          null
         ],
         "y": [
          0.7262112635362499,
          0.9039117982016478,
          null
         ]
        },
        {
         "hoverinfo": "none",
         "line": {
          "color": "rgba(187, 185, 185, 1)",
          "width": 0.01
         },
         "mode": "lines",
         "type": "scatter",
         "x": [
          -0.5570977418486838,
          0.9067855703257748,
          null
         ],
         "y": [
          0.7262112635362499,
          -0.4519395685978457,
          null
         ]
        },
        {
         "hoverinfo": "none",
         "line": {
          "color": "rgba(187, 185, 185, 1)",
          "width": 0.01
         },
         "mode": "lines",
         "type": "scatter",
         "x": [
          0.1384041974084264,
          0.8502864805911772,
          null
         ],
         "y": [
          -0.9557557778878748,
          -0.525826695126178,
          null
         ]
        },
        {
         "hoverinfo": "none",
         "line": {
          "color": "rgba(187, 185, 185, 1)",
          "width": 0.01
         },
         "mode": "lines",
         "type": "scatter",
         "x": [
          0.1384041974084264,
          -0.9703300437788777,
          null
         ],
         "y": [
          -0.9557557778878748,
          -0.23048459787059877,
          null
         ]
        },
        {
         "hoverinfo": "none",
         "line": {
          "color": "rgba(187, 185, 185, 1)",
          "width": 0.01
         },
         "mode": "lines",
         "type": "scatter",
         "x": [
          0.955850441372372,
          0.6854663266859259,
          null
         ],
         "y": [
          0.3368768522200347,
          0.689400112478604,
          null
         ]
        },
        {
         "hoverinfo": "none",
         "line": {
          "color": "rgba(187, 185, 185, 1)",
          "width": 0.02
         },
         "mode": "lines",
         "type": "scatter",
         "x": [
          0.955850441372372,
          0.540944674629126,
          null
         ],
         "y": [
          0.3368768522200347,
          -0.8440237511317803,
          null
         ]
        },
        {
         "hoverinfo": "none",
         "line": {
          "color": "rgba(187, 185, 185, 1)",
          "width": 0.01
         },
         "mode": "lines",
         "type": "scatter",
         "x": [
          0.955850441372372,
          0.7434382158987388,
          null
         ],
         "y": [
          0.3368768522200347,
          0.6139050094280043,
          null
         ]
        },
        {
         "hoverinfo": "none",
         "line": {
          "color": "rgba(187, 185, 185, 1)",
          "width": 0.01
         },
         "mode": "lines",
         "type": "scatter",
         "x": [
          0.7381809317114504,
          -0.9703300437788777,
          null
         ],
         "y": [
          0.7115895977610612,
          -0.23048459787059877,
          null
         ]
        },
        {
         "hoverinfo": "none",
         "line": {
          "color": "rgba(187, 185, 185, 1)",
          "width": 0.03
         },
         "mode": "lines",
         "type": "scatter",
         "x": [
          0.7381809317114504,
          -0.571890666842389,
          null
         ],
         "y": [
          0.7115895977610612,
          -0.8188021378050561,
          null
         ]
        },
        {
         "hoverinfo": "none",
         "line": {
          "color": "rgba(187, 185, 185, 1)",
          "width": 0.01
         },
         "mode": "lines",
         "type": "scatter",
         "x": [
          -0.8433685763902231,
          -0.03560024760116079,
          null
         ],
         "y": [
          -0.5397907300716649,
          -0.9750875534808698,
          null
         ]
        },
        {
         "hoverinfo": "none",
         "line": {
          "color": "rgba(187, 185, 185, 1)",
          "width": 0.01
         },
         "mode": "lines",
         "type": "scatter",
         "x": [
          -0.9703300437788777,
          -0.5418436644365965,
          null
         ],
         "y": [
          -0.23048459787059877,
          0.35859488640263115,
          null
         ]
        },
        {
         "hoverinfo": "none",
         "line": {
          "color": "rgba(187, 185, 185, 1)",
          "width": 0.07
         },
         "mode": "lines",
         "type": "scatter",
         "x": [
          -0.9703300437788777,
          -0.19623274453162354,
          null
         ],
         "y": [
          -0.23048459787059877,
          -0.9718256924877132,
          null
         ]
        },
        {
         "hoverinfo": "none",
         "line": {
          "color": "rgba(28, 94, 169, 0.01126126126126126)",
          "width": 0.01
         },
         "mode": "lines",
         "type": "scatter",
         "x": [
          -0.9703300437788777,
          -0.6177625142573949,
          null
         ],
         "y": [
          -0.23048459787059877,
          -0.7583318836834293,
          null
         ]
        },
        {
         "hoverinfo": "none",
         "line": {
          "color": "rgba(187, 185, 185, 1)",
          "width": 0.01
         },
         "mode": "lines",
         "type": "scatter",
         "x": [
          -0.9703300437788777,
          0.39131499594542263,
          null
         ],
         "y": [
          -0.23048459787059877,
          0.808442035631209,
          null
         ]
        },
        {
         "hoverinfo": "none",
         "line": {
          "color": "rgba(187, 185, 185, 1)",
          "width": 0.01
         },
         "mode": "lines",
         "type": "scatter",
         "x": [
          -0.9703300437788777,
          0.7434382158987388,
          null
         ],
         "y": [
          -0.23048459787059877,
          0.6139050094280043,
          null
         ]
        },
        {
         "hoverinfo": "none",
         "line": {
          "color": "rgba(187, 185, 185, 1)",
          "width": 0.01
         },
         "mode": "lines",
         "type": "scatter",
         "x": [
          -0.9703300437788777,
          0.9586258324525099,
          null
         ],
         "y": [
          -0.23048459787059877,
          0.17644365603350404,
          null
         ]
        },
        {
         "hoverinfo": "none",
         "line": {
          "color": "rgba(187, 185, 185, 1)",
          "width": 0.01
         },
         "mode": "lines",
         "type": "scatter",
         "x": [
          -0.9703300437788777,
          0.540944674629126,
          null
         ],
         "y": [
          -0.23048459787059877,
          -0.8440237511317803,
          null
         ]
        },
        {
         "hoverinfo": "none",
         "line": {
          "color": "rgba(187, 185, 185, 1)",
          "width": 0.01
         },
         "mode": "lines",
         "type": "scatter",
         "x": [
          -0.9703300437788777,
          -0.3678552642894917,
          null
         ],
         "y": [
          -0.23048459787059877,
          -0.930577490460078,
          null
         ]
        },
        {
         "hoverinfo": "none",
         "line": {
          "color": "rgba(187, 185, 185, 1)",
          "width": 0.01
         },
         "mode": "lines",
         "type": "scatter",
         "x": [
          -0.5108662366198753,
          0.9620394559438948,
          null
         ],
         "y": [
          -0.8044868269930487,
          0.05985110623483903,
          null
         ]
        },
        {
         "hoverinfo": "none",
         "line": {
          "color": "rgba(187, 185, 185, 1)",
          "width": 0.03
         },
         "mode": "lines",
         "type": "scatter",
         "x": [
          -0.5108662366198753,
          -0.8423585086279203,
          null
         ],
         "y": [
          -0.8044868269930487,
          0.551650867559718,
          null
         ]
        },
        {
         "hoverinfo": "none",
         "line": {
          "color": "rgba(187, 185, 185, 1)",
          "width": 0.02
         },
         "mode": "lines",
         "type": "scatter",
         "x": [
          -0.5108662366198753,
          0.792988170545161,
          null
         ],
         "y": [
          -0.8044868269930487,
          -0.5601553673274028,
          null
         ]
        },
        {
         "hoverinfo": "none",
         "line": {
          "color": "rgba(187, 185, 185, 1)",
          "width": 0.01
         },
         "mode": "lines",
         "type": "scatter",
         "x": [
          -0.5108662366198753,
          0.540944674629126,
          null
         ],
         "y": [
          -0.8044868269930487,
          -0.8440237511317803,
          null
         ]
        },
        {
         "hoverinfo": "none",
         "line": {
          "color": "rgba(187, 185, 185, 1)",
          "width": 0.04
         },
         "mode": "lines",
         "type": "scatter",
         "x": [
          0.9538937025771157,
          0.6854663266859259,
          null
         ],
         "y": [
          -0.21823592738502817,
          0.689400112478604,
          null
         ]
        },
        {
         "hoverinfo": "none",
         "line": {
          "color": "rgba(187, 185, 185, 1)",
          "width": 0.01
         },
         "mode": "lines",
         "type": "scatter",
         "x": [
          0.9538937025771157,
          -0.6423234937817698,
          null
         ],
         "y": [
          -0.21823592738502817,
          0.7641906656108423,
          null
         ]
        },
        {
         "hoverinfo": "none",
         "line": {
          "color": "rgba(187, 185, 185, 1)",
          "width": 0.01
         },
         "mode": "lines",
         "type": "scatter",
         "x": [
          0.9538937025771157,
          0.9531517750120252,
          null
         ],
         "y": [
          -0.21823592738502817,
          -0.28780628178389084,
          null
         ]
        },
        {
         "hoverinfo": "none",
         "line": {
          "color": "rgba(187, 185, 185, 1)",
          "width": 0.09
         },
         "mode": "lines",
         "type": "scatter",
         "x": [
          -0.5418436644365965,
          0.7434382158987388,
          null
         ],
         "y": [
          0.35859488640263115,
          0.6139050094280043,
          null
         ]
        },
        {
         "hoverinfo": "none",
         "line": {
          "color": "rgba(187, 185, 185, 1)",
          "width": 0.03
         },
         "mode": "lines",
         "type": "scatter",
         "x": [
          -0.5418436644365965,
          0.9858589547110296,
          null
         ],
         "y": [
          0.35859488640263115,
          0.0029642405713294247,
          null
         ]
        },
        {
         "hoverinfo": "none",
         "line": {
          "color": "rgba(187, 185, 185, 1)",
          "width": 0.01
         },
         "mode": "lines",
         "type": "scatter",
         "x": [
          -0.5418436644365965,
          0.9067855703257748,
          null
         ],
         "y": [
          0.35859488640263115,
          -0.4519395685978457,
          null
         ]
        },
        {
         "hoverinfo": "none",
         "line": {
          "color": "rgba(187, 185, 185, 1)",
          "width": 0.17
         },
         "mode": "lines",
         "type": "scatter",
         "x": [
          -0.5418436644365965,
          0.39131499594542263,
          null
         ],
         "y": [
          0.35859488640263115,
          0.808442035631209,
          null
         ]
        },
        {
         "hoverinfo": "none",
         "line": {
          "color": "rgba(187, 185, 185, 1)",
          "width": 0.01
         },
         "mode": "lines",
         "type": "scatter",
         "x": [
          -0.5418436644365965,
          -0.7364857304604823,
          null
         ],
         "y": [
          0.35859488640263115,
          -0.7049848448532657,
          null
         ]
        },
        {
         "hoverinfo": "none",
         "line": {
          "color": "rgba(187, 185, 185, 1)",
          "width": 0.01
         },
         "mode": "lines",
         "type": "scatter",
         "x": [
          -0.5418436644365965,
          0.540944674629126,
          null
         ],
         "y": [
          0.35859488640263115,
          -0.8440237511317803,
          null
         ]
        },
        {
         "hoverinfo": "none",
         "line": {
          "color": "rgba(187, 185, 185, 1)",
          "width": 0.01
         },
         "mode": "lines",
         "type": "scatter",
         "x": [
          -0.6423234937817698,
          -0.19623274453162354,
          null
         ],
         "y": [
          0.7641906656108423,
          -0.9718256924877132,
          null
         ]
        },
        {
         "hoverinfo": "none",
         "line": {
          "color": "rgba(187, 185, 185, 1)",
          "width": 0.01
         },
         "mode": "lines",
         "type": "scatter",
         "x": [
          -0.6423234937817698,
          0.6854663266859259,
          null
         ],
         "y": [
          0.7641906656108423,
          0.689400112478604,
          null
         ]
        },
        {
         "hoverinfo": "none",
         "line": {
          "color": "rgba(187, 185, 185, 1)",
          "width": 0.01
         },
         "mode": "lines",
         "type": "scatter",
         "x": [
          0.6003122955774816,
          -0.9277378589126397,
          null
         ],
         "y": [
          -0.7801493033083269,
          0.4146802296322724,
          null
         ]
        },
        {
         "hoverinfo": "none",
         "line": {
          "color": "rgba(187, 185, 185, 1)",
          "width": 0.04
         },
         "mode": "lines",
         "type": "scatter",
         "x": [
          0.6003122955774816,
          0.6562666585631067,
          null
         ],
         "y": [
          -0.7801493033083269,
          -0.7412670898733315,
          null
         ]
        },
        {
         "hoverinfo": "none",
         "line": {
          "color": "rgba(187, 185, 185, 1)",
          "width": 0.02
         },
         "mode": "lines",
         "type": "scatter",
         "x": [
          0.6003122955774816,
          0.540944674629126,
          null
         ],
         "y": [
          -0.7801493033083269,
          -0.8440237511317803,
          null
         ]
        },
        {
         "hoverinfo": "none",
         "line": {
          "color": "rgba(187, 185, 185, 1)",
          "width": 0.01
         },
         "mode": "lines",
         "type": "scatter",
         "x": [
          0.6854663266859259,
          -0.8697970909595018,
          null
         ],
         "y": [
          0.689400112478604,
          0.46952842688707463,
          null
         ]
        },
        {
         "hoverinfo": "none",
         "line": {
          "color": "rgba(187, 185, 185, 1)",
          "width": 0.09
         },
         "mode": "lines",
         "type": "scatter",
         "x": [
          0.6854663266859259,
          0.540944674629126,
          null
         ],
         "y": [
          0.689400112478604,
          -0.8440237511317803,
          null
         ]
        },
        {
         "hoverinfo": "none",
         "line": {
          "color": "rgba(187, 185, 185, 1)",
          "width": 0.01
         },
         "mode": "lines",
         "type": "scatter",
         "x": [
          0.6854663266859259,
          0.34259896721042477,
          null
         ],
         "y": [
          0.689400112478604,
          -0.8854553076039656,
          null
         ]
        },
        {
         "hoverinfo": "none",
         "line": {
          "color": "rgba(187, 185, 185, 1)",
          "width": 0.01
         },
         "mode": "lines",
         "type": "scatter",
         "x": [
          0.6854663266859259,
          -0.03560024760116079,
          null
         ],
         "y": [
          0.689400112478604,
          -0.9750875534808698,
          null
         ]
        },
        {
         "hoverinfo": "none",
         "line": {
          "color": "rgba(187, 185, 185, 1)",
          "width": 0.01
         },
         "mode": "lines",
         "type": "scatter",
         "x": [
          0.6854663266859259,
          0.5258093019942209,
          null
         ],
         "y": [
          0.689400112478604,
          -0.7702227562660936,
          null
         ]
        },
        {
         "hoverinfo": "none",
         "line": {
          "color": "rgba(187, 185, 185, 1)",
          "width": 0.01
         },
         "mode": "lines",
         "type": "scatter",
         "x": [
          0.6854663266859259,
          0.9531517750120252,
          null
         ],
         "y": [
          0.689400112478604,
          -0.28780628178389084,
          null
         ]
        },
        {
         "hoverinfo": "none",
         "line": {
          "color": "rgba(187, 185, 185, 1)",
          "width": 0.01
         },
         "mode": "lines",
         "type": "scatter",
         "x": [
          0.6854663266859259,
          0.5852358563658656,
          null
         ],
         "y": [
          0.689400112478604,
          0.7397334943452094,
          null
         ]
        },
        {
         "hoverinfo": "none",
         "line": {
          "color": "rgba(187, 185, 185, 1)",
          "width": 0.01
         },
         "mode": "lines",
         "type": "scatter",
         "x": [
          0.6854663266859259,
          -0.7842594015928912,
          null
         ],
         "y": [
          0.689400112478604,
          -0.5697409164053655,
          null
         ]
        },
        {
         "hoverinfo": "none",
         "line": {
          "color": "rgba(187, 185, 185, 1)",
          "width": 0.01
         },
         "mode": "lines",
         "type": "scatter",
         "x": [
          0.540944674629126,
          -0.6177625142573949,
          null
         ],
         "y": [
          -0.8440237511317803,
          -0.7583318836834293,
          null
         ]
        },
        {
         "hoverinfo": "none",
         "line": {
          "color": "rgba(187, 185, 185, 1)",
          "width": 0.01
         },
         "mode": "lines",
         "type": "scatter",
         "x": [
          0.540944674629126,
          -0.7364857304604823,
          null
         ],
         "y": [
          -0.8440237511317803,
          -0.7049848448532657,
          null
         ]
        },
        {
         "hoverinfo": "none",
         "line": {
          "color": "rgba(187, 185, 185, 1)",
          "width": 0.01
         },
         "mode": "lines",
         "type": "scatter",
         "x": [
          0.540944674629126,
          0.7434382158987388,
          null
         ],
         "y": [
          -0.8440237511317803,
          0.6139050094280043,
          null
         ]
        },
        {
         "hoverinfo": "none",
         "line": {
          "color": "rgba(187, 185, 185, 1)",
          "width": 0.08
         },
         "mode": "lines",
         "type": "scatter",
         "x": [
          -0.03560024760116079,
          0.5652270236869756,
          null
         ],
         "y": [
          -0.9750875534808698,
          0.8305817173911906,
          null
         ]
        },
        {
         "hoverinfo": "none",
         "line": {
          "color": "rgba(187, 185, 185, 1)",
          "width": 0.01
         },
         "mode": "lines",
         "type": "scatter",
         "x": [
          -0.03560024760116079,
          -0.6177625142573949,
          null
         ],
         "y": [
          -0.9750875534808698,
          -0.7583318836834293,
          null
         ]
        },
        {
         "hoverinfo": "none",
         "line": {
          "color": "rgba(187, 185, 185, 1)",
          "width": 0.01
         },
         "mode": "lines",
         "type": "scatter",
         "x": [
          -0.03560024760116079,
          0.8435577031143747,
          null
         ],
         "y": [
          -0.9750875534808698,
          -0.4439970986883357,
          null
         ]
        },
        {
         "hoverinfo": "none",
         "line": {
          "color": "rgba(189, 0, 50, 0.01126126126126126)",
          "width": 0.01
         },
         "mode": "lines",
         "type": "scatter",
         "x": [
          -0.03560024760116079,
          0.444487520967563,
          null
         ],
         "y": [
          -0.9750875534808698,
          0.9039117982016478,
          null
         ]
        },
        {
         "hoverinfo": "none",
         "line": {
          "color": "rgba(187, 185, 185, 1)",
          "width": 0.02
         },
         "mode": "lines",
         "type": "scatter",
         "x": [
          0.7434382158987388,
          0.9858589547110296,
          null
         ],
         "y": [
          0.6139050094280043,
          0.0029642405713294247,
          null
         ]
        },
        {
         "hoverinfo": "none",
         "line": {
          "color": "rgba(187, 185, 185, 1)",
          "width": 0.02
         },
         "mode": "lines",
         "type": "scatter",
         "x": [
          0.7434382158987388,
          0.39131499594542263,
          null
         ],
         "y": [
          0.6139050094280043,
          0.808442035631209,
          null
         ]
        },
        {
         "hoverinfo": "none",
         "line": {
          "color": "rgba(187, 185, 185, 1)",
          "width": 0.02
         },
         "mode": "lines",
         "type": "scatter",
         "x": [
          0.9858589547110296,
          0.39131499594542263,
          null
         ],
         "y": [
          0.0029642405713294247,
          0.808442035631209,
          null
         ]
        },
        {
         "hoverinfo": "none",
         "line": {
          "color": "rgba(187, 185, 185, 1)",
          "width": 0.02
         },
         "mode": "lines",
         "type": "scatter",
         "x": [
          0.9190805425378015,
          -0.7364857304604823,
          null
         ],
         "y": [
          0.29399738990982927,
          -0.7049848448532657,
          null
         ]
        },
        {
         "hoverinfo": "none",
         "line": {
          "color": "rgba(187, 185, 185, 1)",
          "width": 0.01
         },
         "mode": "lines",
         "type": "scatter",
         "x": [
          0.9190805425378015,
          0.19599844680151657,
          null
         ],
         "y": [
          0.29399738990982927,
          -0.980479293978746,
          null
         ]
        },
        {
         "hoverinfo": "none",
         "line": {
          "color": "rgba(187, 185, 185, 1)",
          "width": 0.05
         },
         "mode": "lines",
         "type": "scatter",
         "x": [
          -0.7364857304604823,
          0.444487520967563,
          null
         ],
         "y": [
          -0.7049848448532657,
          0.9039117982016478,
          null
         ]
        },
        {
         "hoverinfo": "none",
         "line": {
          "color": "rgba(187, 185, 185, 1)",
          "width": 0.03
         },
         "mode": "lines",
         "type": "scatter",
         "x": [
          -0.9598391530575267,
          -0.9213406718848846,
          null
         ],
         "y": [
          0.2772813054250828,
          -0.38811404403351474,
          null
         ]
        },
        {
         "hoverinfo": "none",
         "line": {
          "color": "rgba(187, 185, 185, 1)",
          "width": 0.03
         },
         "mode": "lines",
         "type": "scatter",
         "x": [
          -0.9598391530575267,
          0.9806353976375713,
          null
         ],
         "y": [
          0.2772813054250828,
          0.11745071683067616,
          null
         ]
        },
        {
         "hoverinfo": "none",
         "line": {
          "color": "rgba(187, 185, 185, 1)",
          "width": 0.01
         },
         "mode": "lines",
         "type": "scatter",
         "x": [
          -0.9598391530575267,
          -0.6177625142573949,
          null
         ],
         "y": [
          0.2772813054250828,
          -0.7583318836834293,
          null
         ]
        },
        {
         "hoverinfo": "none",
         "line": {
          "color": "rgba(187, 185, 185, 1)",
          "width": 0.01
         },
         "mode": "lines",
         "type": "scatter",
         "x": [
          -0.571890666842389,
          0.8502864805911772,
          null
         ],
         "y": [
          -0.8188021378050561,
          -0.525826695126178,
          null
         ]
        },
        {
         "hoverinfo": "none",
         "line": {
          "color": "rgba(187, 185, 185, 1)",
          "width": 0.02
         },
         "mode": "lines",
         "type": "scatter",
         "x": [
          -0.6177625142573949,
          -0.9213406718848846,
          null
         ],
         "y": [
          -0.7583318836834293,
          -0.38811404403351474,
          null
         ]
        },
        {
         "hoverinfo": "none",
         "line": {
          "color": "rgba(187, 185, 185, 1)",
          "width": 0.03
         },
         "mode": "lines",
         "type": "scatter",
         "x": [
          0.9806353976375713,
          -0.9213406718848846,
          null
         ],
         "y": [
          0.11745071683067616,
          -0.38811404403351474,
          null
         ]
        },
        {
         "hoverinfo": "none",
         "line": {
          "color": "rgba(187, 185, 185, 1)",
          "width": 0.01
         },
         "mode": "lines",
         "type": "scatter",
         "x": [
          -0.30878041457790567,
          0.5258093019942209,
          null
         ],
         "y": [
          -0.9077759224919225,
          -0.7702227562660936,
          null
         ]
        },
        {
         "hoverinfo": "none",
         "line": {
          "color": "rgba(187, 185, 185, 1)",
          "width": 0.01
         },
         "mode": "lines",
         "type": "scatter",
         "x": [
          -0.30878041457790567,
          -0.9400079658243227,
          null
         ],
         "y": [
          -0.9077759224919225,
          -0.2890158044508549,
          null
         ]
        },
        {
         "hoverinfo": "none",
         "line": {
          "color": "rgba(187, 185, 185, 1)",
          "width": 0.01
         },
         "mode": "lines",
         "type": "scatter",
         "x": [
          -0.9400079658243227,
          0.9863512666852733,
          null
         ],
         "y": [
          -0.2890158044508549,
          -0.1604000460690139,
          null
         ]
        },
        {
         "hoverinfo": "none",
         "line": {
          "color": "rgba(187, 185, 185, 1)",
          "width": 0.01
         },
         "mode": "lines",
         "type": "scatter",
         "x": [
          -0.9400079658243227,
          0.5258093019942209,
          null
         ],
         "y": [
          -0.2890158044508549,
          -0.7702227562660936,
          null
         ]
        },
        {
         "hoverinfo": "none",
         "line": {
          "color": "rgba(187, 185, 185, 1)",
          "width": 0.01
         },
         "mode": "lines",
         "type": "scatter",
         "x": [
          -0.9727866793774038,
          0.07452908981031829,
          null
         ],
         "y": [
          -0.0530714772300817,
          -0.9529111877712696,
          null
         ]
        },
        {
         "hoverinfo": "none",
         "line": {
          "color": "rgba(187, 185, 185, 1)",
          "width": 0.01
         },
         "mode": "lines",
         "type": "scatter",
         "x": [
          0.07452908981031829,
          0.368803567055443,
          null
         ],
         "y": [
          -0.9529111877712696,
          0.9296695869813116,
          null
         ]
        },
        {
         "hoverinfo": "none",
         "line": {
          "color": "rgba(187, 185, 185, 1)",
          "width": 0.01
         },
         "mode": "lines",
         "type": "scatter",
         "x": [
          0.07452908981031829,
          0.9998026043051625,
          null
         ],
         "y": [
          -0.9529111877712696,
          -0.06935929177127546,
          null
         ]
        },
        {
         "hoverinfo": "text",
         "hovertext": [
          "Russia : 10853",
          "Germany : 645",
          "Italy : 1374",
          "United States of America : 8239",
          "Estonia : 72",
          "Ukraine : 280",
          "Switzerland : 87",
          "Lithuania : 228",
          "France : 1361",
          "Egypt : 11",
          "United Kingdom : 1713",
          "India : 166",
          "Hong Kong : 273",
          "Costa Rica : 3",
          "Spain : 334",
          "Canada : 336",
          "Latvia : 55",
          "Hungary : 59",
          "Japan : 640",
          "Denmark : 84",
          "Poland : 111",
          "Korea : 34",
          "Croatia : 34",
          "Austria : 53",
          "Philippines : 36",
          "Portugal : 31",
          "Taiwan : 58",
          "Georgia : 27",
          "Romania : 27",
          "Australia : 160",
          "South Africa : 23",
          "Luxembourg : 8",
          "Sweden : 190",
          "Ireland : 35",
          "Greece : 49",
          "Argentina : 39",
          "Uruguay : 1",
          "Belgium : 73",
          "Netherlands : 74",
          "Czech Republic : 85",
          "Bangladesh : 1",
          "New Zealand : 28",
          "Albania : 1",
          "Finland : 87",
          "Iceland : 9",
          "Liechtenstein : 9",
          "Iran : 29",
          "Zimbabwe : 3",
          "Norway : 33",
          "Bosnia and Herzegovina : 16",
          "Cuba : 14",
          "Peru : 7",
          "Israel : 24",
          "Uzbekistan : 16",
          "China : 41",
          "Mexico : 114",
          "Azerbaijan : 3",
          "Bolivia : 2",
          "Brazil : 44",
          "Venezuela : 7",
          "Serbia : 39",
          "Macedonia : 2",
          "Monaco : 3",
          "Slovakia : 12",
          "Turkey : 31",
          "Senegal : 9",
          "Tunisia : 7",
          "Qatar : 1",
          "Cote D'Ivoire : 1",
          "Belarus : 11",
          "Armenia : 10",
          "Algeria : 7",
          "Thailand : 6",
          "Colombia : 3",
          "Chile : 8",
          "Singapore : 3",
          "Ghana : 2",
          "Morocco : 7",
          "Vietnam : 3",
          "Slovenia : 2",
          "Pakistan : 2",
          "Montenegro : 2",
          "Namibia : 3",
          "Bulgaria : 8",
          "Yugoslavia : 2",
          "Moldova : 3",
          "Burkina Faso : 4",
          "Aruba : 1",
          "Czechoslovakia : 4",
          "Ethiopia : 1",
          "Jordan : 1",
          "Puerto Rico : 4",
          "Kazakhstan : 7",
          "Indonesia : 4",
          "Congo : 1",
          "Libya : 1",
          "Bhutan : 1",
          "Jamaica : 2",
          "Mauritania : 4",
          "Angola : 1",
          "Turkmenistan : 2",
          "Panama : 3",
          "Afghanistan : 1",
          "Martinique : 1",
          "Trinidad and Tobago : 1",
          "Syria : 1",
          "Kyrgyzstan : 2",
          "Botswana : 2",
          "Guinea : 1",
          "Bahamas : 1",
          "Papua New Guinea : 1",
          "Ecuador : 1",
          "Palestinian Territory : 1",
          "Mali : 1"
         ],
         "marker": {
          "color": [
           "rgb(189, 0, 50)",
           "rgb(28, 94, 169)",
           "rgb(28, 94, 169)",
           "rgb(28, 94, 169)",
           "rgb(189, 0, 50)",
           "rgb(187, 185, 185)",
           "rgb(187, 185, 185)",
           "rgb(189, 0, 50)",
           "rgb(28, 94, 169)",
           "rgb(187, 185, 185)",
           "rgb(28, 94, 169)",
           "rgb(189, 0, 50)",
           "rgb(187, 185, 185)",
           "rgb(255, 233, 137)",
           "rgb(28, 94, 169)",
           "rgb(28, 94, 169)",
           "rgb(189, 0, 50)",
           "rgb(189, 0, 50)",
           "rgb(187, 185, 185)",
           "rgb(187, 185, 185)",
           "rgb(189, 0, 50)",
           "rgb(187, 185, 185)",
           "rgb(28, 94, 169)",
           "rgb(187, 185, 185)",
           "rgb(187, 185, 185)",
           "rgb(187, 185, 185)",
           "rgb(187, 185, 185)",
           "rgb(189, 0, 50)",
           "rgb(187, 185, 185)",
           "rgb(28, 94, 169)",
           "rgb(187, 185, 185)",
           "rgb(255, 233, 137)",
           "rgb(187, 185, 185)",
           "rgb(187, 185, 185)",
           "rgb(187, 185, 185)",
           "rgb(187, 185, 185)",
           "rgb(255, 233, 137)",
           "rgb(28, 94, 169)",
           "rgb(187, 185, 185)",
           "rgb(189, 0, 50)",
           "rgb(255, 233, 137)",
           "rgb(187, 185, 185)",
           "rgb(255, 233, 137)",
           "rgb(187, 185, 185)",
           "rgb(255, 233, 137)",
           "rgb(255, 233, 137)",
           "rgb(187, 185, 185)",
           "rgb(255, 233, 137)",
           "rgb(187, 185, 185)",
           "rgb(187, 185, 185)",
           "rgb(189, 0, 50)",
           "rgb(255, 233, 137)",
           "rgb(187, 185, 185)",
           "rgb(187, 185, 185)",
           "rgb(189, 0, 50)",
           "rgb(28, 94, 169)",
           "rgb(255, 233, 137)",
           "rgb(255, 233, 137)",
           "rgb(187, 185, 185)",
           "rgb(255, 233, 137)",
           "rgb(189, 0, 50)",
           "rgb(255, 233, 137)",
           "rgb(255, 233, 137)",
           "rgb(187, 185, 185)",
           "rgb(187, 185, 185)",
           "rgb(255, 233, 137)",
           "rgb(255, 233, 137)",
           "rgb(255, 233, 137)",
           "rgb(255, 233, 137)",
           "rgb(187, 185, 185)",
           "rgb(187, 185, 185)",
           "rgb(255, 233, 137)",
           "rgb(255, 233, 137)",
           "rgb(255, 233, 137)",
           "rgb(255, 233, 137)",
           "rgb(255, 233, 137)",
           "rgb(255, 233, 137)",
           "rgb(255, 233, 137)",
           "rgb(255, 233, 137)",
           "rgb(255, 233, 137)",
           "rgb(255, 233, 137)",
           "rgb(255, 233, 137)",
           "rgb(255, 233, 137)",
           "rgb(255, 233, 137)",
           "rgb(255, 233, 137)",
           "rgb(255, 233, 137)",
           "rgb(255, 233, 137)",
           "rgb(255, 233, 137)",
           "rgb(255, 233, 137)",
           "rgb(255, 233, 137)",
           "rgb(255, 233, 137)",
           "rgb(255, 233, 137)",
           "rgb(255, 233, 137)",
           "rgb(255, 233, 137)",
           "rgb(255, 233, 137)",
           "rgb(255, 233, 137)",
           "rgb(255, 233, 137)",
           "rgb(255, 233, 137)",
           "rgb(255, 233, 137)",
           "rgb(255, 233, 137)",
           "rgb(255, 233, 137)",
           "rgb(255, 233, 137)",
           "rgb(255, 233, 137)",
           "rgb(255, 233, 137)",
           "rgb(255, 233, 137)",
           "rgb(255, 233, 137)",
           "rgb(255, 233, 137)",
           "rgb(255, 233, 137)",
           "rgb(255, 233, 137)",
           "rgb(255, 233, 137)",
           "rgb(255, 233, 137)",
           "rgb(255, 233, 137)",
           "rgb(255, 233, 137)",
           "rgb(255, 233, 137)"
          ],
          "line": {
           "color": "black",
           "width": 1
          },
          "size": [
           52.08886637276722,
           12.698425099200294,
           18.533752992850637,
           45.38446870901983,
           4.242640687119285,
           8.366600265340756,
           4.663689526544408,
           7.54983443527075,
           18.445866745696716,
           1.6583123951777,
           20.694202086574876,
           6.442049363362563,
           8.261355820929152,
           0.8660254037844386,
           9.137833441248533,
           9.16515138991168,
           3.7080992435478315,
           3.840572873934304,
           12.649110640673518,
           4.58257569495584,
           5.267826876426369,
           2.9154759474226504,
           2.9154759474226504,
           3.640054944640259,
           3,
           2.7838821814150108,
           3.8078865529319543,
           2.598076211353316,
           2.598076211353316,
           6.324555320336759,
           2.3979157616563596,
           1.4142135623730951,
           6.892024376045111,
           2.958039891549808,
           3.5,
           3.122498999199199,
           0.5,
           4.272001872658765,
           4.301162633521313,
           4.6097722286464435,
           0.5,
           2.6457513110645907,
           0.5,
           4.663689526544408,
           1.5,
           1.5,
           2.692582403567252,
           0.8660254037844386,
           2.8722813232690143,
           2,
           1.8708286933869707,
           1.3228756555322954,
           2.449489742783178,
           2,
           3.2015621187164243,
           5.338539126015656,
           0.8660254037844386,
           0.7071067811865476,
           3.3166247903554,
           1.3228756555322954,
           3.122498999199199,
           0.7071067811865476,
           0.8660254037844386,
           1.7320508075688772,
           2.7838821814150108,
           1.5,
           1.3228756555322954,
           0.5,
           0.5,
           1.6583123951777,
           1.5811388300841898,
           1.3228756555322954,
           1.224744871391589,
           0.8660254037844386,
           1.4142135623730951,
           0.8660254037844386,
           0.7071067811865476,
           1.3228756555322954,
           0.8660254037844386,
           0.7071067811865476,
           0.7071067811865476,
           0.7071067811865476,
           0.8660254037844386,
           1.4142135623730951,
           0.7071067811865476,
           0.8660254037844386,
           1,
           0.5,
           1,
           0.5,
           0.5,
           1,
           1.3228756555322954,
           1,
           0.5,
           0.5,
           0.5,
           0.7071067811865476,
           1,
           0.5,
           0.7071067811865476,
           0.8660254037844386,
           0.5,
           0.5,
           0.5,
           0.5,
           0.7071067811865476,
           0.7071067811865476,
           0.5,
           0.5,
           0.5,
           0.5,
           0.5,
           0.5
          ]
         },
         "mode": "markers+text",
         "type": "scatter",
         "x": [
          -0.09039754266951439,
          0.03594188509064794,
          -0.4325300747395223,
          -0.29045046678587927,
          0.305612760052693,
          -0.718641184979664,
          0.7709405049974591,
          -0.7613097630425704,
          -0.049789583463932335,
          -0.14783745010940474,
          -0.11515697519275878,
          -0.890026536050201,
          -0.03616366069211022,
          -0.939095359872664,
          0.014720878046645633,
          0.24050730782694932,
          -0.5915783583981955,
          0.8987753618780496,
          -0.4808398312550001,
          0.9447299376818743,
          -0.9760540355660953,
          -0.7874086753982931,
          -0.7016821867124674,
          -0.5570977418486838,
          0.1384041974084264,
          0.955850441372372,
          0.7381809317114504,
          0.0819876272753912,
          -0.8433685763902231,
          -0.9703300437788777,
          -0.5108662366198753,
          0.9538937025771157,
          -0.5418436644365965,
          -0.6423234937817698,
          -0.39802838141068053,
          0.6003122955774816,
          -0.9277378589126397,
          0.6854663266859259,
          0.540944674629126,
          -0.03560024760116079,
          0.902060198653122,
          -0.19623274453162354,
          -0.6688919024197572,
          0.7434382158987388,
          0.9858589547110296,
          -0.8697970909595018,
          0.9190805425378015,
          0.9620394559438948,
          0.39131499594542263,
          -0.7364857304604823,
          -0.9598391530575267,
          -0.9106037271673105,
          0.9531517750120252,
          -0.14385812825593228,
          -0.571890666842389,
          -0.6177625142573949,
          0.805934096162692,
          0.18965022119612018,
          0.6562666585631067,
          0.9806353976375713,
          0.444487520967563,
          -0.2592640942126677,
          -0.9442339298921666,
          0.5652270236869756,
          -1,
          -0.30878041457790567,
          -0.9400079658243227,
          0.9863512666852733,
          0.031509778276237674,
          -0.20139677323850097,
          0.9376807675982876,
          0.5258093019942209,
          -0.3678552642894917,
          0.8743965651480335,
          -0.9213406718848846,
          0.8502864805911772,
          -0.9727866793774038,
          0.9067855703257748,
          0.4931764080991937,
          -0.5073004062338606,
          -0.2537320938247835,
          0.8159151994036037,
          -0.8423585086279203,
          -0.41273830967721,
          -0.9830639849542347,
          0.3273009209660996,
          0.07452908981031829,
          0.4673628000206714,
          0.8435577031143747,
          0.7445939455771958,
          -0.09752979066918234,
          0.6475602405972704,
          -0.7756677990087528,
          0.9586258324525099,
          0.34259896721042477,
          -0.47953939896056424,
          0.9637811231495913,
          -0.8314684288311949,
          0.368803567055443,
          0.8433207900527704,
          0.41572061109334074,
          -0.2961523759090147,
          0.19599844680151657,
          -0.9271865786955529,
          -0.9016284334895351,
          0.13567461566865,
          0.6892125724167775,
          0.792988170545161,
          -0.38098261059930844,
          0.25572906980436766,
          0.5852358563658656,
          -0.9789286528249344,
          -0.7842594015928912,
          0.9998026043051625
         ],
         "y": [
          0.9953073700859448,
          -0.08061416770098245,
          -0.5220851042100673,
          -0.09714391855028509,
          0.9090916776296535,
          0.7471081958960062,
          -0.6238668571002145,
          -0.6314977908637813,
          -0.29043199722759716,
          -0.9342791235614362,
          -0.1594756096347247,
          -0.33313703292832664,
          0.9684321061433148,
          0.2216203118006076,
          -0.9908926142674225,
          -0.9389567059437505,
          0.840126920681811,
          0.4786809521886066,
          -0.863800578620939,
          -0.0916014154937672,
          0.0766445753751248,
          0.6583964554546868,
          0.654927411053579,
          0.7262112635362499,
          -0.9557557778878748,
          0.3368768522200347,
          0.7115895977610612,
          0.9918964347624716,
          -0.5397907300716649,
          -0.23048459787059877,
          -0.8044868269930487,
          -0.21823592738502817,
          0.35859488640263115,
          0.7641906656108423,
          0.9468085685650457,
          -0.7801493033083269,
          0.4146802296322724,
          0.689400112478604,
          -0.8440237511317803,
          -0.9750875534808698,
          0.3988330902502987,
          -0.9718256924877132,
          -0.678647087371963,
          0.6139050094280043,
          0.0029642405713294247,
          0.46952842688707463,
          0.29399738990982927,
          0.05985110623483903,
          0.808442035631209,
          -0.7049848448532657,
          0.2772813054250828,
          0.1018151354622127,
          -0.28780628178389084,
          0.9545043480217754,
          -0.8188021378050561,
          -0.7583318836834293,
          0.6146543583020755,
          0.9696429954838602,
          -0.7412670898733315,
          0.11745071683067616,
          0.9039117982016478,
          -0.9495996447549943,
          -0.17147605943375868,
          0.8305817173911906,
          0.005784562936655106,
          -0.9077759224919225,
          -0.2890158044508549,
          -0.1604000460690139,
          0.9526732963166377,
          0.9854506716886003,
          -0.3699124814103114,
          -0.7702227562660936,
          -0.930577490460078,
          -0.3162740157460976,
          -0.38811404403351474,
          -0.525826695126178,
          -0.0530714772300817,
          -0.4519395685978457,
          0.84013956826323,
          0.831775341530129,
          0.910535946815836,
          0.4587065254697006,
          0.551650867559718,
          -0.8802397036075882,
          0.15877335878917784,
          -0.9476831376043089,
          -0.9529111877712696,
          -0.8545081921230111,
          -0.4439970986883357,
          -0.6896770746333787,
          -0.9758393659271749,
          0.7876843926224265,
          0.5729709297484066,
          0.17644365603350404,
          -0.8854553076039656,
          0.8933298562122517,
          0.23831676110769073,
          -0.4523151417240949,
          0.9296695869813116,
          0.5453320222557557,
          -0.8970682037392563,
          0.9581439013008709,
          -0.980479293978746,
          0.34463292565875053,
          -0.47084052828246004,
          0.9422606341023475,
          -0.6748348879657244,
          -0.5601553673274028,
          0.8907552230888134,
          0.9522503545518943,
          0.7397334943452094,
          -0.11818903137333646,
          -0.5697409164053655,
          -0.06935929177127546
         ]
        }
       ],
       "layout": {
        "hovermode": "closest",
        "plot_bgcolor": "#F2F2F2",
        "showlegend": false,
        "template": {
         "data": {
          "bar": [
           {
            "error_x": {
             "color": "#2a3f5f"
            },
            "error_y": {
             "color": "#2a3f5f"
            },
            "marker": {
             "line": {
              "color": "#E5ECF6",
              "width": 0.5
             },
             "pattern": {
              "fillmode": "overlay",
              "size": 10,
              "solidity": 0.2
             }
            },
            "type": "bar"
           }
          ],
          "barpolar": [
           {
            "marker": {
             "line": {
              "color": "#E5ECF6",
              "width": 0.5
             },
             "pattern": {
              "fillmode": "overlay",
              "size": 10,
              "solidity": 0.2
             }
            },
            "type": "barpolar"
           }
          ],
          "carpet": [
           {
            "aaxis": {
             "endlinecolor": "#2a3f5f",
             "gridcolor": "white",
             "linecolor": "white",
             "minorgridcolor": "white",
             "startlinecolor": "#2a3f5f"
            },
            "baxis": {
             "endlinecolor": "#2a3f5f",
             "gridcolor": "white",
             "linecolor": "white",
             "minorgridcolor": "white",
             "startlinecolor": "#2a3f5f"
            },
            "type": "carpet"
           }
          ],
          "choropleth": [
           {
            "colorbar": {
             "outlinewidth": 0,
             "ticks": ""
            },
            "type": "choropleth"
           }
          ],
          "contour": [
           {
            "colorbar": {
             "outlinewidth": 0,
             "ticks": ""
            },
            "colorscale": [
             [
              0,
              "#0d0887"
             ],
             [
              0.1111111111111111,
              "#46039f"
             ],
             [
              0.2222222222222222,
              "#7201a8"
             ],
             [
              0.3333333333333333,
              "#9c179e"
             ],
             [
              0.4444444444444444,
              "#bd3786"
             ],
             [
              0.5555555555555556,
              "#d8576b"
             ],
             [
              0.6666666666666666,
              "#ed7953"
             ],
             [
              0.7777777777777778,
              "#fb9f3a"
             ],
             [
              0.8888888888888888,
              "#fdca26"
             ],
             [
              1,
              "#f0f921"
             ]
            ],
            "type": "contour"
           }
          ],
          "contourcarpet": [
           {
            "colorbar": {
             "outlinewidth": 0,
             "ticks": ""
            },
            "type": "contourcarpet"
           }
          ],
          "heatmap": [
           {
            "colorbar": {
             "outlinewidth": 0,
             "ticks": ""
            },
            "colorscale": [
             [
              0,
              "#0d0887"
             ],
             [
              0.1111111111111111,
              "#46039f"
             ],
             [
              0.2222222222222222,
              "#7201a8"
             ],
             [
              0.3333333333333333,
              "#9c179e"
             ],
             [
              0.4444444444444444,
              "#bd3786"
             ],
             [
              0.5555555555555556,
              "#d8576b"
             ],
             [
              0.6666666666666666,
              "#ed7953"
             ],
             [
              0.7777777777777778,
              "#fb9f3a"
             ],
             [
              0.8888888888888888,
              "#fdca26"
             ],
             [
              1,
              "#f0f921"
             ]
            ],
            "type": "heatmap"
           }
          ],
          "heatmapgl": [
           {
            "colorbar": {
             "outlinewidth": 0,
             "ticks": ""
            },
            "colorscale": [
             [
              0,
              "#0d0887"
             ],
             [
              0.1111111111111111,
              "#46039f"
             ],
             [
              0.2222222222222222,
              "#7201a8"
             ],
             [
              0.3333333333333333,
              "#9c179e"
             ],
             [
              0.4444444444444444,
              "#bd3786"
             ],
             [
              0.5555555555555556,
              "#d8576b"
             ],
             [
              0.6666666666666666,
              "#ed7953"
             ],
             [
              0.7777777777777778,
              "#fb9f3a"
             ],
             [
              0.8888888888888888,
              "#fdca26"
             ],
             [
              1,
              "#f0f921"
             ]
            ],
            "type": "heatmapgl"
           }
          ],
          "histogram": [
           {
            "marker": {
             "pattern": {
              "fillmode": "overlay",
              "size": 10,
              "solidity": 0.2
             }
            },
            "type": "histogram"
           }
          ],
          "histogram2d": [
           {
            "colorbar": {
             "outlinewidth": 0,
             "ticks": ""
            },
            "colorscale": [
             [
              0,
              "#0d0887"
             ],
             [
              0.1111111111111111,
              "#46039f"
             ],
             [
              0.2222222222222222,
              "#7201a8"
             ],
             [
              0.3333333333333333,
              "#9c179e"
             ],
             [
              0.4444444444444444,
              "#bd3786"
             ],
             [
              0.5555555555555556,
              "#d8576b"
             ],
             [
              0.6666666666666666,
              "#ed7953"
             ],
             [
              0.7777777777777778,
              "#fb9f3a"
             ],
             [
              0.8888888888888888,
              "#fdca26"
             ],
             [
              1,
              "#f0f921"
             ]
            ],
            "type": "histogram2d"
           }
          ],
          "histogram2dcontour": [
           {
            "colorbar": {
             "outlinewidth": 0,
             "ticks": ""
            },
            "colorscale": [
             [
              0,
              "#0d0887"
             ],
             [
              0.1111111111111111,
              "#46039f"
             ],
             [
              0.2222222222222222,
              "#7201a8"
             ],
             [
              0.3333333333333333,
              "#9c179e"
             ],
             [
              0.4444444444444444,
              "#bd3786"
             ],
             [
              0.5555555555555556,
              "#d8576b"
             ],
             [
              0.6666666666666666,
              "#ed7953"
             ],
             [
              0.7777777777777778,
              "#fb9f3a"
             ],
             [
              0.8888888888888888,
              "#fdca26"
             ],
             [
              1,
              "#f0f921"
             ]
            ],
            "type": "histogram2dcontour"
           }
          ],
          "mesh3d": [
           {
            "colorbar": {
             "outlinewidth": 0,
             "ticks": ""
            },
            "type": "mesh3d"
           }
          ],
          "parcoords": [
           {
            "line": {
             "colorbar": {
              "outlinewidth": 0,
              "ticks": ""
             }
            },
            "type": "parcoords"
           }
          ],
          "pie": [
           {
            "automargin": true,
            "type": "pie"
           }
          ],
          "scatter": [
           {
            "fillpattern": {
             "fillmode": "overlay",
             "size": 10,
             "solidity": 0.2
            },
            "type": "scatter"
           }
          ],
          "scatter3d": [
           {
            "line": {
             "colorbar": {
              "outlinewidth": 0,
              "ticks": ""
             }
            },
            "marker": {
             "colorbar": {
              "outlinewidth": 0,
              "ticks": ""
             }
            },
            "type": "scatter3d"
           }
          ],
          "scattercarpet": [
           {
            "marker": {
             "colorbar": {
              "outlinewidth": 0,
              "ticks": ""
             }
            },
            "type": "scattercarpet"
           }
          ],
          "scattergeo": [
           {
            "marker": {
             "colorbar": {
              "outlinewidth": 0,
              "ticks": ""
             }
            },
            "type": "scattergeo"
           }
          ],
          "scattergl": [
           {
            "marker": {
             "colorbar": {
              "outlinewidth": 0,
              "ticks": ""
             }
            },
            "type": "scattergl"
           }
          ],
          "scattermapbox": [
           {
            "marker": {
             "colorbar": {
              "outlinewidth": 0,
              "ticks": ""
             }
            },
            "type": "scattermapbox"
           }
          ],
          "scatterpolar": [
           {
            "marker": {
             "colorbar": {
              "outlinewidth": 0,
              "ticks": ""
             }
            },
            "type": "scatterpolar"
           }
          ],
          "scatterpolargl": [
           {
            "marker": {
             "colorbar": {
              "outlinewidth": 0,
              "ticks": ""
             }
            },
            "type": "scatterpolargl"
           }
          ],
          "scatterternary": [
           {
            "marker": {
             "colorbar": {
              "outlinewidth": 0,
              "ticks": ""
             }
            },
            "type": "scatterternary"
           }
          ],
          "surface": [
           {
            "colorbar": {
             "outlinewidth": 0,
             "ticks": ""
            },
            "colorscale": [
             [
              0,
              "#0d0887"
             ],
             [
              0.1111111111111111,
              "#46039f"
             ],
             [
              0.2222222222222222,
              "#7201a8"
             ],
             [
              0.3333333333333333,
              "#9c179e"
             ],
             [
              0.4444444444444444,
              "#bd3786"
             ],
             [
              0.5555555555555556,
              "#d8576b"
             ],
             [
              0.6666666666666666,
              "#ed7953"
             ],
             [
              0.7777777777777778,
              "#fb9f3a"
             ],
             [
              0.8888888888888888,
              "#fdca26"
             ],
             [
              1,
              "#f0f921"
             ]
            ],
            "type": "surface"
           }
          ],
          "table": [
           {
            "cells": {
             "fill": {
              "color": "#EBF0F8"
             },
             "line": {
              "color": "white"
             }
            },
            "header": {
             "fill": {
              "color": "#C8D4E3"
             },
             "line": {
              "color": "white"
             }
            },
            "type": "table"
           }
          ]
         },
         "layout": {
          "annotationdefaults": {
           "arrowcolor": "#2a3f5f",
           "arrowhead": 0,
           "arrowwidth": 1
          },
          "autotypenumbers": "strict",
          "coloraxis": {
           "colorbar": {
            "outlinewidth": 0,
            "ticks": ""
           }
          },
          "colorscale": {
           "diverging": [
            [
             0,
             "#8e0152"
            ],
            [
             0.1,
             "#c51b7d"
            ],
            [
             0.2,
             "#de77ae"
            ],
            [
             0.3,
             "#f1b6da"
            ],
            [
             0.4,
             "#fde0ef"
            ],
            [
             0.5,
             "#f7f7f7"
            ],
            [
             0.6,
             "#e6f5d0"
            ],
            [
             0.7,
             "#b8e186"
            ],
            [
             0.8,
             "#7fbc41"
            ],
            [
             0.9,
             "#4d9221"
            ],
            [
             1,
             "#276419"
            ]
           ],
           "sequential": [
            [
             0,
             "#0d0887"
            ],
            [
             0.1111111111111111,
             "#46039f"
            ],
            [
             0.2222222222222222,
             "#7201a8"
            ],
            [
             0.3333333333333333,
             "#9c179e"
            ],
            [
             0.4444444444444444,
             "#bd3786"
            ],
            [
             0.5555555555555556,
             "#d8576b"
            ],
            [
             0.6666666666666666,
             "#ed7953"
            ],
            [
             0.7777777777777778,
             "#fb9f3a"
            ],
            [
             0.8888888888888888,
             "#fdca26"
            ],
            [
             1,
             "#f0f921"
            ]
           ],
           "sequentialminus": [
            [
             0,
             "#0d0887"
            ],
            [
             0.1111111111111111,
             "#46039f"
            ],
            [
             0.2222222222222222,
             "#7201a8"
            ],
            [
             0.3333333333333333,
             "#9c179e"
            ],
            [
             0.4444444444444444,
             "#bd3786"
            ],
            [
             0.5555555555555556,
             "#d8576b"
            ],
            [
             0.6666666666666666,
             "#ed7953"
            ],
            [
             0.7777777777777778,
             "#fb9f3a"
            ],
            [
             0.8888888888888888,
             "#fdca26"
            ],
            [
             1,
             "#f0f921"
            ]
           ]
          },
          "colorway": [
           "#636efa",
           "#EF553B",
           "#00cc96",
           "#ab63fa",
           "#FFA15A",
           "#19d3f3",
           "#FF6692",
           "#B6E880",
           "#FF97FF",
           "#FECB52"
          ],
          "font": {
           "color": "#2a3f5f"
          },
          "geo": {
           "bgcolor": "white",
           "lakecolor": "white",
           "landcolor": "#E5ECF6",
           "showlakes": true,
           "showland": true,
           "subunitcolor": "white"
          },
          "hoverlabel": {
           "align": "left"
          },
          "hovermode": "closest",
          "mapbox": {
           "style": "light"
          },
          "paper_bgcolor": "white",
          "plot_bgcolor": "#E5ECF6",
          "polar": {
           "angularaxis": {
            "gridcolor": "white",
            "linecolor": "white",
            "ticks": ""
           },
           "bgcolor": "#E5ECF6",
           "radialaxis": {
            "gridcolor": "white",
            "linecolor": "white",
            "ticks": ""
           }
          },
          "scene": {
           "xaxis": {
            "backgroundcolor": "#E5ECF6",
            "gridcolor": "white",
            "gridwidth": 2,
            "linecolor": "white",
            "showbackground": true,
            "ticks": "",
            "zerolinecolor": "white"
           },
           "yaxis": {
            "backgroundcolor": "#E5ECF6",
            "gridcolor": "white",
            "gridwidth": 2,
            "linecolor": "white",
            "showbackground": true,
            "ticks": "",
            "zerolinecolor": "white"
           },
           "zaxis": {
            "backgroundcolor": "#E5ECF6",
            "gridcolor": "white",
            "gridwidth": 2,
            "linecolor": "white",
            "showbackground": true,
            "ticks": "",
            "zerolinecolor": "white"
           }
          },
          "shapedefaults": {
           "line": {
            "color": "#2a3f5f"
           }
          },
          "ternary": {
           "aaxis": {
            "gridcolor": "white",
            "linecolor": "white",
            "ticks": ""
           },
           "baxis": {
            "gridcolor": "white",
            "linecolor": "white",
            "ticks": ""
           },
           "bgcolor": "#E5ECF6",
           "caxis": {
            "gridcolor": "white",
            "linecolor": "white",
            "ticks": ""
           }
          },
          "title": {
           "x": 0.05
          },
          "xaxis": {
           "automargin": true,
           "gridcolor": "white",
           "linecolor": "white",
           "ticks": "",
           "title": {
            "standoff": 15
           },
           "zerolinecolor": "white",
           "zerolinewidth": 2
          },
          "yaxis": {
           "automargin": true,
           "gridcolor": "white",
           "linecolor": "white",
           "ticks": "",
           "title": {
            "standoff": 15
           },
           "zerolinecolor": "white",
           "zerolinewidth": 2
          }
         }
        },
        "xaxis": {
         "showgrid": false,
         "showticklabels": false,
         "visible": false,
         "zeroline": false
        },
        "yaxis": {
         "showgrid": false,
         "showticklabels": false,
         "visible": false,
         "zeroline": false
        }
       }
      }
     },
     "metadata": {},
     "output_type": "display_data"
    }
   ],
   "source": [
    "graph = StaticGraph(preprocess_movies)\n",
    "graph.create_figure()\n",
    "graph.plot()"
   ]
  },
  {
   "cell_type": "markdown",
   "metadata": {},
   "source": [
    "While the graph representation provides a wealth of interesting insights, visualizing it on a map could highlight additional compelling aspects of the network, such as geographical patterns or regional dynamics in collaborations."
   ]
  },
  {
   "cell_type": "code",
   "execution_count": 12,
   "metadata": {},
   "outputs": [
    {
     "data": {
      "application/vnd.plotly.v1+json": {
       "config": {
        "plotlyServerURL": "https://plot.ly"
       },
       "data": [
        {
         "hoverinfo": "none",
         "lat": [
          51.1657,
          41.8719,
          null
         ],
         "line": {
          "color": "rgba(28, 94, 169, 1.6216216216216217)",
          "width": 1.6216216216216217
         },
         "locationmode": "ISO-3",
         "lon": [
          10.4515,
          12.5674,
          null
         ],
         "mode": "lines",
         "type": "scattergeo"
        },
        {
         "hoverinfo": "none",
         "lat": [
          26.8206,
          41.8719,
          null
         ],
         "line": {
          "color": "rgb(187, 185, 185)",
          "width": 0.04504504504504504
         },
         "locationmode": "ISO-3",
         "lon": [
          30.8025,
          12.5674,
          null
         ],
         "mode": "lines",
         "type": "scattergeo"
        },
        {
         "hoverinfo": "none",
         "lat": [
          46.6034,
          51.1657,
          null
         ],
         "line": {
          "color": "rgba(28, 94, 169, 1.9031531531531531)",
          "width": 1.9031531531531531
         },
         "locationmode": "ISO-3",
         "lon": [
          1.8883,
          10.4515,
          null
         ],
         "mode": "lines",
         "type": "scattergeo"
        },
        {
         "hoverinfo": "none",
         "lat": [
          46.6034,
          41.8719,
          null
         ],
         "line": {
          "color": "rgba(28, 94, 169, 5.0)",
          "width": 5
         },
         "locationmode": "ISO-3",
         "lon": [
          1.8883,
          12.5674,
          null
         ],
         "mode": "lines",
         "type": "scattergeo"
        },
        {
         "hoverinfo": "none",
         "lat": [
          9.7489,
          37.0902,
          null
         ],
         "line": {
          "color": "rgb(187, 185, 185)",
          "width": 0.02252252252252252
         },
         "locationmode": "ISO-3",
         "lon": [
          -83.7534,
          -95.7129,
          null
         ],
         "mode": "lines",
         "type": "scattergeo"
        },
        {
         "hoverinfo": "none",
         "lat": [
          9.7489,
          46.6034,
          null
         ],
         "line": {
          "color": "rgb(187, 185, 185)",
          "width": 0.01126126126126126
         },
         "locationmode": "ISO-3",
         "lon": [
          -83.7534,
          1.8883,
          null
         ],
         "mode": "lines",
         "type": "scattergeo"
        },
        {
         "hoverinfo": "none",
         "lat": [
          9.7489,
          55.3781,
          null
         ],
         "line": {
          "color": "rgb(187, 185, 185)",
          "width": 0.01126126126126126
         },
         "locationmode": "ISO-3",
         "lon": [
          -83.7534,
          -3.436,
          null
         ],
         "mode": "lines",
         "type": "scattergeo"
        },
        {
         "hoverinfo": "none",
         "lat": [
          9.7489,
          40.4637,
          null
         ],
         "line": {
          "color": "rgb(187, 185, 185)",
          "width": 0.01126126126126126
         },
         "locationmode": "ISO-3",
         "lon": [
          -83.7534,
          -3.7492,
          null
         ],
         "mode": "lines",
         "type": "scattergeo"
        },
        {
         "hoverinfo": "none",
         "lat": [
          46.6034,
          37.0902,
          null
         ],
         "line": {
          "color": "rgba(28, 94, 169, 1.2725225225225225)",
          "width": 1.2725225225225225
         },
         "locationmode": "ISO-3",
         "lon": [
          1.8883,
          -95.7129,
          null
         ],
         "mode": "lines",
         "type": "scattergeo"
        },
        {
         "hoverinfo": "none",
         "lat": [
          55.3781,
          37.0902,
          null
         ],
         "line": {
          "color": "rgba(28, 94, 169, 4.63963963963964)",
          "width": 4.63963963963964
         },
         "locationmode": "ISO-3",
         "lon": [
          -3.436,
          -95.7129,
          null
         ],
         "mode": "lines",
         "type": "scattergeo"
        },
        {
         "hoverinfo": "none",
         "lat": [
          40.4637,
          37.0902,
          null
         ],
         "line": {
          "color": "rgba(28, 94, 169, 0.4617117117117117)",
          "width": 0.4617117117117117
         },
         "locationmode": "ISO-3",
         "lon": [
          -3.7492,
          -95.7129,
          null
         ],
         "mode": "lines",
         "type": "scattergeo"
        },
        {
         "hoverinfo": "none",
         "lat": [
          46.6034,
          55.3781,
          null
         ],
         "line": {
          "color": "rgba(28, 94, 169, 1.1373873873873874)",
          "width": 1.1373873873873874
         },
         "locationmode": "ISO-3",
         "lon": [
          1.8883,
          -3.436,
          null
         ],
         "mode": "lines",
         "type": "scattergeo"
        },
        {
         "hoverinfo": "none",
         "lat": [
          46.6034,
          40.4637,
          null
         ],
         "line": {
          "color": "rgba(28, 94, 169, 0.7319819819819819)",
          "width": 0.7319819819819819
         },
         "locationmode": "ISO-3",
         "lon": [
          1.8883,
          -3.7492,
          null
         ],
         "mode": "lines",
         "type": "scattergeo"
        },
        {
         "hoverinfo": "none",
         "lat": [
          40.4637,
          55.3781,
          null
         ],
         "line": {
          "color": "rgba(28, 94, 169, 0.24774774774774774)",
          "width": 0.24774774774774774
         },
         "locationmode": "ISO-3",
         "lon": [
          -3.7492,
          -3.436,
          null
         ],
         "mode": "lines",
         "type": "scattergeo"
        },
        {
         "hoverinfo": "none",
         "lat": [
          36.2048,
          37.0902,
          null
         ],
         "line": {
          "color": "rgb(187, 185, 185)",
          "width": 0.8671171171171171
         },
         "locationmode": "ISO-3",
         "lon": [
          138.2529,
          -95.7129,
          null
         ],
         "mode": "lines",
         "type": "scattergeo"
        },
        {
         "hoverinfo": "none",
         "lat": [
          56.2639,
          46.6034,
          null
         ],
         "line": {
          "color": "rgb(187, 185, 185)",
          "width": 0.10135135135135136
         },
         "locationmode": "ISO-3",
         "lon": [
          9.5018,
          1.8883,
          null
         ],
         "mode": "lines",
         "type": "scattergeo"
        },
        {
         "hoverinfo": "none",
         "lat": [
          56.2639,
          51.9194,
          null
         ],
         "line": {
          "color": "rgb(187, 185, 185)",
          "width": 0.01126126126126126
         },
         "locationmode": "ISO-3",
         "lon": [
          9.5018,
          19.1451,
          null
         ],
         "mode": "lines",
         "type": "scattergeo"
        },
        {
         "hoverinfo": "none",
         "lat": [
          46.6034,
          51.9194,
          null
         ],
         "line": {
          "color": "rgb(187, 185, 185)",
          "width": 0.15765765765765766
         },
         "locationmode": "ISO-3",
         "lon": [
          1.8883,
          19.1451,
          null
         ],
         "mode": "lines",
         "type": "scattergeo"
        },
        {
         "hoverinfo": "none",
         "lat": [
          45.1,
          41.8719,
          null
         ],
         "line": {
          "color": "rgba(28, 94, 169, 0.13513513513513514)",
          "width": 0.13513513513513514
         },
         "locationmode": "ISO-3",
         "lon": [
          15.2,
          12.5674,
          null
         ],
         "mode": "lines",
         "type": "scattergeo"
        },
        {
         "hoverinfo": "none",
         "lat": [
          47.5162,
          51.1657,
          null
         ],
         "line": {
          "color": "rgb(187, 185, 185)",
          "width": 0.2927927927927928
         },
         "locationmode": "ISO-3",
         "lon": [
          14.5501,
          10.4515,
          null
         ],
         "mode": "lines",
         "type": "scattergeo"
        },
        {
         "hoverinfo": "none",
         "lat": [
          56.1304,
          37.0902,
          null
         ],
         "line": {
          "color": "rgba(28, 94, 169, 1.3063063063063063)",
          "width": 1.3063063063063063
         },
         "locationmode": "ISO-3",
         "lon": [
          -106.3468,
          -95.7129,
          null
         ],
         "mode": "lines",
         "type": "scattergeo"
        },
        {
         "hoverinfo": "none",
         "lat": [
          41.8719,
          40.4637,
          null
         ],
         "line": {
          "color": "rgba(28, 94, 169, 1.6666666666666665)",
          "width": 1.6666666666666665
         },
         "locationmode": "ISO-3",
         "lon": [
          12.5674,
          -3.7492,
          null
         ],
         "mode": "lines",
         "type": "scattergeo"
        },
        {
         "hoverinfo": "none",
         "lat": [
          56.1304,
          55.3781,
          null
         ],
         "line": {
          "color": "rgba(28, 94, 169, 0.2702702702702703)",
          "width": 0.2702702702702703
         },
         "locationmode": "ISO-3",
         "lon": [
          -106.3468,
          -3.436,
          null
         ],
         "mode": "lines",
         "type": "scattergeo"
        },
        {
         "hoverinfo": "none",
         "lat": [
          22.3193,
          23.6978,
          null
         ],
         "line": {
          "color": "rgb(187, 185, 185)",
          "width": 0.2702702702702703
         },
         "locationmode": "ISO-3",
         "lon": [
          114.1694,
          120.9605,
          null
         ],
         "mode": "lines",
         "type": "scattergeo"
        },
        {
         "hoverinfo": "none",
         "lat": [
          -25.2744,
          37.0902,
          null
         ],
         "line": {
          "color": "rgba(28, 94, 169, 0.3490990990990991)",
          "width": 0.3490990990990991
         },
         "locationmode": "ISO-3",
         "lon": [
          133.7751,
          -95.7129,
          null
         ],
         "mode": "lines",
         "type": "scattergeo"
        },
        {
         "hoverinfo": "none",
         "lat": [
          41.8719,
          37.0902,
          null
         ],
         "line": {
          "color": "rgba(28, 94, 169, 1.4527027027027026)",
          "width": 1.4527027027027026
         },
         "locationmode": "ISO-3",
         "lon": [
          12.5674,
          -95.7129,
          null
         ],
         "mode": "lines",
         "type": "scattergeo"
        },
        {
         "hoverinfo": "none",
         "lat": [
          51.1657,
          40.4637,
          null
         ],
         "line": {
          "color": "rgba(28, 94, 169, 0.32657657657657657)",
          "width": 0.32657657657657657
         },
         "locationmode": "ISO-3",
         "lon": [
          10.4515,
          -3.7492,
          null
         ],
         "mode": "lines",
         "type": "scattergeo"
        },
        {
         "hoverinfo": "none",
         "lat": [
          47.5162,
          41.8719,
          null
         ],
         "line": {
          "color": "rgb(187, 185, 185)",
          "width": 0.06756756756756757
         },
         "locationmode": "ISO-3",
         "lon": [
          14.5501,
          12.5674,
          null
         ],
         "mode": "lines",
         "type": "scattergeo"
        },
        {
         "hoverinfo": "none",
         "lat": [
          41.8719,
          55.3781,
          null
         ],
         "line": {
          "color": "rgba(28, 94, 169, 0.5968468468468469)",
          "width": 0.5968468468468469
         },
         "locationmode": "ISO-3",
         "lon": [
          12.5674,
          -3.436,
          null
         ],
         "mode": "lines",
         "type": "scattergeo"
        },
        {
         "hoverinfo": "none",
         "lat": [
          51.1657,
          37.0902,
          null
         ],
         "line": {
          "color": "rgba(28, 94, 169, 1.15990990990991)",
          "width": 1.15990990990991
         },
         "locationmode": "ISO-3",
         "lon": [
          10.4515,
          -95.7129,
          null
         ],
         "mode": "lines",
         "type": "scattergeo"
        },
        {
         "hoverinfo": "none",
         "lat": [
          51.1657,
          55.3781,
          null
         ],
         "line": {
          "color": "rgba(28, 94, 169, 0.8558558558558559)",
          "width": 0.8558558558558559
         },
         "locationmode": "ISO-3",
         "lon": [
          10.4515,
          -3.436,
          null
         ],
         "mode": "lines",
         "type": "scattergeo"
        },
        {
         "hoverinfo": "none",
         "lat": [
          47.5162,
          37.0902,
          null
         ],
         "line": {
          "color": "rgb(187, 185, 185)",
          "width": 0.12387387387387387
         },
         "locationmode": "ISO-3",
         "lon": [
          14.5501,
          -95.7129,
          null
         ],
         "mode": "lines",
         "type": "scattergeo"
        },
        {
         "hoverinfo": "none",
         "lat": [
          47.5162,
          55.3781,
          null
         ],
         "line": {
          "color": "rgb(187, 185, 185)",
          "width": 0.02252252252252252
         },
         "locationmode": "ISO-3",
         "lon": [
          14.5501,
          -3.436,
          null
         ],
         "mode": "lines",
         "type": "scattergeo"
        },
        {
         "hoverinfo": "none",
         "lat": [
          -25.2744,
          41.8719,
          null
         ],
         "line": {
          "color": "rgba(28, 94, 169, 0.033783783783783786)",
          "width": 0.033783783783783786
         },
         "locationmode": "ISO-3",
         "lon": [
          133.7751,
          12.5674,
          null
         ],
         "mode": "lines",
         "type": "scattergeo"
        },
        {
         "hoverinfo": "none",
         "lat": [
          -30.5595,
          37.0902,
          null
         ],
         "line": {
          "color": "rgb(187, 185, 185)",
          "width": 0.16891891891891891
         },
         "locationmode": "ISO-3",
         "lon": [
          22.9375,
          -95.7129,
          null
         ],
         "mode": "lines",
         "type": "scattergeo"
        },
        {
         "hoverinfo": "none",
         "lat": [
          49.8153,
          37.0902,
          null
         ],
         "line": {
          "color": "rgb(187, 185, 185)",
          "width": 0.033783783783783786
         },
         "locationmode": "ISO-3",
         "lon": [
          6.1296,
          -95.7129,
          null
         ],
         "mode": "lines",
         "type": "scattergeo"
        },
        {
         "hoverinfo": "none",
         "lat": [
          53.1424,
          55.3781,
          null
         ],
         "line": {
          "color": "rgb(187, 185, 185)",
          "width": 0.2252252252252252
         },
         "locationmode": "ISO-3",
         "lon": [
          -7.6921,
          -3.436,
          null
         ],
         "mode": "lines",
         "type": "scattergeo"
        },
        {
         "hoverinfo": "none",
         "lat": [
          56.1304,
          41.8719,
          null
         ],
         "line": {
          "color": "rgba(28, 94, 169, 0.04504504504504504)",
          "width": 0.04504504504504504
         },
         "locationmode": "ISO-3",
         "lon": [
          -106.3468,
          12.5674,
          null
         ],
         "mode": "lines",
         "type": "scattergeo"
        },
        {
         "hoverinfo": "none",
         "lat": [
          -38.4161,
          40.4637,
          null
         ],
         "line": {
          "color": "rgb(187, 185, 185)",
          "width": 0.0563063063063063
         },
         "locationmode": "ISO-3",
         "lon": [
          -63.6167,
          -3.7492,
          null
         ],
         "mode": "lines",
         "type": "scattergeo"
        },
        {
         "hoverinfo": "none",
         "lat": [
          -38.4161,
          -32.5228,
          null
         ],
         "line": {
          "color": "rgb(187, 185, 185)",
          "width": 0.01126126126126126
         },
         "locationmode": "ISO-3",
         "lon": [
          -63.6167,
          -55.7658,
          null
         ],
         "mode": "lines",
         "type": "scattergeo"
        },
        {
         "hoverinfo": "none",
         "lat": [
          40.4637,
          -32.5228,
          null
         ],
         "line": {
          "color": "rgb(187, 185, 185)",
          "width": 0.01126126126126126
         },
         "locationmode": "ISO-3",
         "lon": [
          -3.7492,
          -55.7658,
          null
         ],
         "mode": "lines",
         "type": "scattergeo"
        },
        {
         "hoverinfo": "none",
         "lat": [
          50.5039,
          46.6034,
          null
         ],
         "line": {
          "color": "rgba(28, 94, 169, 0.5855855855855856)",
          "width": 0.5855855855855856
         },
         "locationmode": "ISO-3",
         "lon": [
          4.4699,
          1.8883,
          null
         ],
         "mode": "lines",
         "type": "scattergeo"
        },
        {
         "hoverinfo": "none",
         "lat": [
          23.685,
          20.5937,
          null
         ],
         "line": {
          "color": "rgb(187, 185, 185)",
          "width": 0.01126126126126126
         },
         "locationmode": "ISO-3",
         "lon": [
          90.3563,
          78.9629,
          null
         ],
         "mode": "lines",
         "type": "scattergeo"
        },
        {
         "hoverinfo": "none",
         "lat": [
          56.1304,
          46.6034,
          null
         ],
         "line": {
          "color": "rgba(28, 94, 169, 0.28153153153153154)",
          "width": 0.28153153153153154
         },
         "locationmode": "ISO-3",
         "lon": [
          -106.3468,
          1.8883,
          null
         ],
         "mode": "lines",
         "type": "scattergeo"
        },
        {
         "hoverinfo": "none",
         "lat": [
          64.9631,
          55.3781,
          null
         ],
         "line": {
          "color": "rgb(187, 185, 185)",
          "width": 0.033783783783783786
         },
         "locationmode": "ISO-3",
         "lon": [
          -19.0208,
          -3.436,
          null
         ],
         "mode": "lines",
         "type": "scattergeo"
        },
        {
         "hoverinfo": "none",
         "lat": [
          46.6034,
          64.9631,
          null
         ],
         "line": {
          "color": "rgb(187, 185, 185)",
          "width": 0.02252252252252252
         },
         "locationmode": "ISO-3",
         "lon": [
          1.8883,
          -19.0208,
          null
         ],
         "mode": "lines",
         "type": "scattergeo"
        },
        {
         "hoverinfo": "none",
         "lat": [
          64.9631,
          37.0902,
          null
         ],
         "line": {
          "color": "rgb(187, 185, 185)",
          "width": 0.033783783783783786
         },
         "locationmode": "ISO-3",
         "lon": [
          -19.0208,
          -95.7129,
          null
         ],
         "mode": "lines",
         "type": "scattergeo"
        },
        {
         "hoverinfo": "none",
         "lat": [
          41.8719,
          47.166,
          null
         ],
         "line": {
          "color": "rgb(187, 185, 185)",
          "width": 0.07882882882882883
         },
         "locationmode": "ISO-3",
         "lon": [
          12.5674,
          9.5554,
          null
         ],
         "mode": "lines",
         "type": "scattergeo"
        },
        {
         "hoverinfo": "none",
         "lat": [
          50.5039,
          41.8719,
          null
         ],
         "line": {
          "color": "rgba(28, 94, 169, 0.12387387387387387)",
          "width": 0.12387387387387387
         },
         "locationmode": "ISO-3",
         "lon": [
          4.4699,
          12.5674,
          null
         ],
         "mode": "lines",
         "type": "scattergeo"
        },
        {
         "hoverinfo": "none",
         "lat": [
          46.6034,
          47.166,
          null
         ],
         "line": {
          "color": "rgb(187, 185, 185)",
          "width": 0.033783783783783786
         },
         "locationmode": "ISO-3",
         "lon": [
          1.8883,
          9.5554,
          null
         ],
         "mode": "lines",
         "type": "scattergeo"
        },
        {
         "hoverinfo": "none",
         "lat": [
          50.5039,
          47.166,
          null
         ],
         "line": {
          "color": "rgb(187, 185, 185)",
          "width": 0.01126126126126126
         },
         "locationmode": "ISO-3",
         "lon": [
          4.4699,
          9.5554,
          null
         ],
         "mode": "lines",
         "type": "scattergeo"
        },
        {
         "hoverinfo": "none",
         "lat": [
          55.3781,
          -19.0154,
          null
         ],
         "line": {
          "color": "rgb(187, 185, 185)",
          "width": 0.033783783783783786
         },
         "locationmode": "ISO-3",
         "lon": [
          -3.436,
          29.1549,
          null
         ],
         "mode": "lines",
         "type": "scattergeo"
        },
        {
         "hoverinfo": "none",
         "lat": [
          52.1326,
          55.3781,
          null
         ],
         "line": {
          "color": "rgb(187, 185, 185)",
          "width": 0.13513513513513514
         },
         "locationmode": "ISO-3",
         "lon": [
          5.2913,
          -3.436,
          null
         ],
         "mode": "lines",
         "type": "scattergeo"
        },
        {
         "hoverinfo": "none",
         "lat": [
          -25.2744,
          47.5162,
          null
         ],
         "line": {
          "color": "rgb(187, 185, 185)",
          "width": 0.01126126126126126
         },
         "locationmode": "ISO-3",
         "lon": [
          133.7751,
          14.5501,
          null
         ],
         "mode": "lines",
         "type": "scattergeo"
        },
        {
         "hoverinfo": "none",
         "lat": [
          -25.2744,
          60.1282,
          null
         ],
         "line": {
          "color": "rgb(187, 185, 185)",
          "width": 0.01126126126126126
         },
         "locationmode": "ISO-3",
         "lon": [
          133.7751,
          18.6435,
          null
         ],
         "mode": "lines",
         "type": "scattergeo"
        },
        {
         "hoverinfo": "none",
         "lat": [
          47.5162,
          60.1282,
          null
         ],
         "line": {
          "color": "rgb(187, 185, 185)",
          "width": 0.02252252252252252
         },
         "locationmode": "ISO-3",
         "lon": [
          14.5501,
          18.6435,
          null
         ],
         "mode": "lines",
         "type": "scattergeo"
        },
        {
         "hoverinfo": "none",
         "lat": [
          22.3193,
          37.0902,
          null
         ],
         "line": {
          "color": "rgb(187, 185, 185)",
          "width": 0.25900900900900903
         },
         "locationmode": "ISO-3",
         "lon": [
          114.1694,
          -95.7129,
          null
         ],
         "mode": "lines",
         "type": "scattergeo"
        },
        {
         "hoverinfo": "none",
         "lat": [
          46.6034,
          39.3999,
          null
         ],
         "line": {
          "color": "rgb(187, 185, 185)",
          "width": 0.15765765765765766
         },
         "locationmode": "ISO-3",
         "lon": [
          1.8883,
          -8.2245,
          null
         ],
         "mode": "lines",
         "type": "scattergeo"
        },
        {
         "hoverinfo": "none",
         "lat": [
          46.6034,
          46.8182,
          null
         ],
         "line": {
          "color": "rgb(187, 185, 185)",
          "width": 0.5292792792792793
         },
         "locationmode": "ISO-3",
         "lon": [
          1.8883,
          8.2275,
          null
         ],
         "mode": "lines",
         "type": "scattergeo"
        },
        {
         "hoverinfo": "none",
         "lat": [
          39.3999,
          46.8182,
          null
         ],
         "line": {
          "color": "rgb(187, 185, 185)",
          "width": 0.01126126126126126
         },
         "locationmode": "ISO-3",
         "lon": [
          -8.2245,
          8.2275,
          null
         ],
         "mode": "lines",
         "type": "scattergeo"
        },
        {
         "hoverinfo": "none",
         "lat": [
          43.9159,
          41.8719,
          null
         ],
         "line": {
          "color": "rgb(187, 185, 185)",
          "width": 0.033783783783783786
         },
         "locationmode": "ISO-3",
         "lon": [
          17.6791,
          12.5674,
          null
         ],
         "mode": "lines",
         "type": "scattergeo"
        },
        {
         "hoverinfo": "none",
         "lat": [
          21.5218,
          37.0902,
          null
         ],
         "line": {
          "color": "rgb(187, 185, 185)",
          "width": 0.01126126126126126
         },
         "locationmode": "ISO-3",
         "lon": [
          -77.7812,
          -95.7129,
          null
         ],
         "mode": "lines",
         "type": "scattergeo"
        },
        {
         "hoverinfo": "none",
         "lat": [
          51.1657,
          60.1282,
          null
         ],
         "line": {
          "color": "rgb(187, 185, 185)",
          "width": 0.21396396396396397
         },
         "locationmode": "ISO-3",
         "lon": [
          10.4515,
          18.6435,
          null
         ],
         "mode": "lines",
         "type": "scattergeo"
        },
        {
         "hoverinfo": "none",
         "lat": [
          51.1657,
          -9.1899,
          null
         ],
         "line": {
          "color": "rgb(187, 185, 185)",
          "width": 0.02252252252252252
         },
         "locationmode": "ISO-3",
         "lon": [
          10.4515,
          -75.0152,
          null
         ],
         "mode": "lines",
         "type": "scattergeo"
        },
        {
         "hoverinfo": "none",
         "lat": [
          51.1657,
          -30.5595,
          null
         ],
         "line": {
          "color": "rgb(187, 185, 185)",
          "width": 0.033783783783783786
         },
         "locationmode": "ISO-3",
         "lon": [
          10.4515,
          22.9375,
          null
         ],
         "mode": "lines",
         "type": "scattergeo"
        },
        {
         "hoverinfo": "none",
         "lat": [
          -30.5595,
          -19.0154,
          null
         ],
         "line": {
          "color": "rgb(187, 185, 185)",
          "width": 0.01126126126126126
         },
         "locationmode": "ISO-3",
         "lon": [
          22.9375,
          29.1549,
          null
         ],
         "mode": "lines",
         "type": "scattergeo"
        },
        {
         "hoverinfo": "none",
         "lat": [
          -30.5595,
          55.3781,
          null
         ],
         "line": {
          "color": "rgb(187, 185, 185)",
          "width": 0.06756756756756757
         },
         "locationmode": "ISO-3",
         "lon": [
          22.9375,
          -3.436,
          null
         ],
         "mode": "lines",
         "type": "scattergeo"
        },
        {
         "hoverinfo": "none",
         "lat": [
          51.1657,
          -19.0154,
          null
         ],
         "line": {
          "color": "rgb(187, 185, 185)",
          "width": 0.01126126126126126
         },
         "locationmode": "ISO-3",
         "lon": [
          10.4515,
          29.1549,
          null
         ],
         "mode": "lines",
         "type": "scattergeo"
        },
        {
         "hoverinfo": "none",
         "lat": [
          56.1304,
          53.1424,
          null
         ],
         "line": {
          "color": "rgb(187, 185, 185)",
          "width": 0.01126126126126126
         },
         "locationmode": "ISO-3",
         "lon": [
          -106.3468,
          -7.6921,
          null
         ],
         "mode": "lines",
         "type": "scattergeo"
        },
        {
         "hoverinfo": "none",
         "lat": [
          56.1304,
          -40.9006,
          null
         ],
         "line": {
          "color": "rgb(187, 185, 185)",
          "width": 0.02252252252252252
         },
         "locationmode": "ISO-3",
         "lon": [
          -106.3468,
          174.886,
          null
         ],
         "mode": "lines",
         "type": "scattergeo"
        },
        {
         "hoverinfo": "none",
         "lat": [
          53.1424,
          -40.9006,
          null
         ],
         "line": {
          "color": "rgb(187, 185, 185)",
          "width": 0.01126126126126126
         },
         "locationmode": "ISO-3",
         "lon": [
          -7.6921,
          174.886,
          null
         ],
         "mode": "lines",
         "type": "scattergeo"
        },
        {
         "hoverinfo": "none",
         "lat": [
          53.1424,
          37.0902,
          null
         ],
         "line": {
          "color": "rgb(187, 185, 185)",
          "width": 0.16891891891891891
         },
         "locationmode": "ISO-3",
         "lon": [
          -7.6921,
          -95.7129,
          null
         ],
         "mode": "lines",
         "type": "scattergeo"
        },
        {
         "hoverinfo": "none",
         "lat": [
          56.2639,
          60.1282,
          null
         ],
         "line": {
          "color": "rgb(187, 185, 185)",
          "width": 0.3153153153153153
         },
         "locationmode": "ISO-3",
         "lon": [
          9.5018,
          18.6435,
          null
         ],
         "mode": "lines",
         "type": "scattergeo"
        },
        {
         "hoverinfo": "none",
         "lat": [
          12.8797,
          37.0902,
          null
         ],
         "line": {
          "color": "rgb(187, 185, 185)",
          "width": 0.24774774774774774
         },
         "locationmode": "ISO-3",
         "lon": [
          121.774,
          -95.7129,
          null
         ],
         "mode": "lines",
         "type": "scattergeo"
        },
        {
         "hoverinfo": "none",
         "lat": [
          56.1304,
          -30.5595,
          null
         ],
         "line": {
          "color": "rgb(187, 185, 185)",
          "width": 0.01126126126126126
         },
         "locationmode": "ISO-3",
         "lon": [
          -106.3468,
          22.9375,
          null
         ],
         "mode": "lines",
         "type": "scattergeo"
        },
        {
         "hoverinfo": "none",
         "lat": [
          41.8719,
          23.6345,
          null
         ],
         "line": {
          "color": "rgba(28, 94, 169, 0.0563063063063063)",
          "width": 0.0563063063063063
         },
         "locationmode": "ISO-3",
         "lon": [
          12.5674,
          -102.5528,
          null
         ],
         "mode": "lines",
         "type": "scattergeo"
        },
        {
         "hoverinfo": "none",
         "lat": [
          23.6345,
          37.0902,
          null
         ],
         "line": {
          "color": "rgba(28, 94, 169, 0.4391891891891892)",
          "width": 0.4391891891891892
         },
         "locationmode": "ISO-3",
         "lon": [
          -102.5528,
          -95.7129,
          null
         ],
         "mode": "lines",
         "type": "scattergeo"
        },
        {
         "hoverinfo": "none",
         "lat": [
          47.5162,
          46.6034,
          null
         ],
         "line": {
          "color": "rgb(187, 185, 185)",
          "width": 0.06756756756756757
         },
         "locationmode": "ISO-3",
         "lon": [
          14.5501,
          1.8883,
          null
         ],
         "mode": "lines",
         "type": "scattergeo"
        },
        {
         "hoverinfo": "none",
         "lat": [
          -40.9006,
          55.3781,
          null
         ],
         "line": {
          "color": "rgb(187, 185, 185)",
          "width": 0.033783783783783786
         },
         "locationmode": "ISO-3",
         "lon": [
          174.886,
          -3.436,
          null
         ],
         "mode": "lines",
         "type": "scattergeo"
        },
        {
         "hoverinfo": "none",
         "lat": [
          -25.2744,
          -40.9006,
          null
         ],
         "line": {
          "color": "rgb(187, 185, 185)",
          "width": 0.07882882882882883
         },
         "locationmode": "ISO-3",
         "lon": [
          133.7751,
          174.886,
          null
         ],
         "mode": "lines",
         "type": "scattergeo"
        },
        {
         "hoverinfo": "none",
         "lat": [
          -25.2744,
          55.3781,
          null
         ],
         "line": {
          "color": "rgba(28, 94, 169, 0.16891891891891891)",
          "width": 0.16891891891891891
         },
         "locationmode": "ISO-3",
         "lon": [
          133.7751,
          -3.436,
          null
         ],
         "mode": "lines",
         "type": "scattergeo"
        },
        {
         "hoverinfo": "none",
         "lat": [
          46.6034,
          45.9432,
          null
         ],
         "line": {
          "color": "rgb(187, 185, 185)",
          "width": 0.07882882882882883
         },
         "locationmode": "ISO-3",
         "lon": [
          1.8883,
          24.9668,
          null
         ],
         "mode": "lines",
         "type": "scattergeo"
        },
        {
         "hoverinfo": "none",
         "lat": [
          61.524,
          48.3794,
          null
         ],
         "line": {
          "color": "rgb(187, 185, 185)",
          "width": 0.1463963963963964
         },
         "locationmode": "ISO-3",
         "lon": [
          105.3188,
          31.1656,
          null
         ],
         "mode": "lines",
         "type": "scattergeo"
        },
        {
         "hoverinfo": "none",
         "lat": [
          -14.235,
          51.1657,
          null
         ],
         "line": {
          "color": "rgb(187, 185, 185)",
          "width": 0.02252252252252252
         },
         "locationmode": "ISO-3",
         "lon": [
          -51.9253,
          10.4515,
          null
         ],
         "mode": "lines",
         "type": "scattergeo"
        },
        {
         "hoverinfo": "none",
         "lat": [
          -14.235,
          46.6034,
          null
         ],
         "line": {
          "color": "rgb(187, 185, 185)",
          "width": 0.033783783783783786
         },
         "locationmode": "ISO-3",
         "lon": [
          -51.9253,
          1.8883,
          null
         ],
         "mode": "lines",
         "type": "scattergeo"
        },
        {
         "hoverinfo": "none",
         "lat": [
          -38.4161,
          55.3781,
          null
         ],
         "line": {
          "color": "rgb(187, 185, 185)",
          "width": 0.033783783783783786
         },
         "locationmode": "ISO-3",
         "lon": [
          -63.6167,
          -3.436,
          null
         ],
         "mode": "lines",
         "type": "scattergeo"
        },
        {
         "hoverinfo": "none",
         "lat": [
          46.6034,
          6.4238,
          null
         ],
         "line": {
          "color": "rgb(187, 185, 185)",
          "width": 0.06756756756756757
         },
         "locationmode": "ISO-3",
         "lon": [
          1.8883,
          -66.5897,
          null
         ],
         "mode": "lines",
         "type": "scattergeo"
        },
        {
         "hoverinfo": "none",
         "lat": [
          45.1,
          22.3193,
          null
         ],
         "line": {
          "color": "rgb(187, 185, 185)",
          "width": 0.02252252252252252
         },
         "locationmode": "ISO-3",
         "lon": [
          15.2,
          114.1694,
          null
         ],
         "mode": "lines",
         "type": "scattergeo"
        },
        {
         "hoverinfo": "none",
         "lat": [
          51.1657,
          53.1424,
          null
         ],
         "line": {
          "color": "rgb(187, 185, 185)",
          "width": 0.02252252252252252
         },
         "locationmode": "ISO-3",
         "lon": [
          10.4515,
          -7.6921,
          null
         ],
         "mode": "lines",
         "type": "scattergeo"
        },
        {
         "hoverinfo": "none",
         "lat": [
          56.2639,
          61.9241,
          null
         ],
         "line": {
          "color": "rgb(187, 185, 185)",
          "width": 0.02252252252252252
         },
         "locationmode": "ISO-3",
         "lon": [
          9.5018,
          25.7482,
          null
         ],
         "mode": "lines",
         "type": "scattergeo"
        },
        {
         "hoverinfo": "none",
         "lat": [
          56.2639,
          64.9631,
          null
         ],
         "line": {
          "color": "rgb(187, 185, 185)",
          "width": 0.04504504504504504
         },
         "locationmode": "ISO-3",
         "lon": [
          9.5018,
          -19.0208,
          null
         ],
         "mode": "lines",
         "type": "scattergeo"
        },
        {
         "hoverinfo": "none",
         "lat": [
          61.9241,
          64.9631,
          null
         ],
         "line": {
          "color": "rgb(187, 185, 185)",
          "width": 0.02252252252252252
         },
         "locationmode": "ISO-3",
         "lon": [
          25.7482,
          -19.0208,
          null
         ],
         "mode": "lines",
         "type": "scattergeo"
        },
        {
         "hoverinfo": "none",
         "lat": [
          61.9241,
          60.1282,
          null
         ],
         "line": {
          "color": "rgb(187, 185, 185)",
          "width": 0.10135135135135136
         },
         "locationmode": "ISO-3",
         "lon": [
          25.7482,
          18.6435,
          null
         ],
         "mode": "lines",
         "type": "scattergeo"
        },
        {
         "hoverinfo": "none",
         "lat": [
          64.9631,
          60.1282,
          null
         ],
         "line": {
          "color": "rgb(187, 185, 185)",
          "width": 0.033783783783783786
         },
         "locationmode": "ISO-3",
         "lon": [
          -19.0208,
          18.6435,
          null
         ],
         "mode": "lines",
         "type": "scattergeo"
        },
        {
         "hoverinfo": "none",
         "lat": [
          -14.235,
          37.0902,
          null
         ],
         "line": {
          "color": "rgb(187, 185, 185)",
          "width": 0.04504504504504504
         },
         "locationmode": "ISO-3",
         "lon": [
          -51.9253,
          -95.7129,
          null
         ],
         "mode": "lines",
         "type": "scattergeo"
        },
        {
         "hoverinfo": "none",
         "lat": [
          -25.2744,
          23.6978,
          null
         ],
         "line": {
          "color": "rgb(187, 185, 185)",
          "width": 0.01126126126126126
         },
         "locationmode": "ISO-3",
         "lon": [
          133.7751,
          120.9605,
          null
         ],
         "mode": "lines",
         "type": "scattergeo"
        },
        {
         "hoverinfo": "none",
         "lat": [
          55.1694,
          37.0902,
          null
         ],
         "line": {
          "color": "rgb(187, 185, 185)",
          "width": 0.01126126126126126
         },
         "locationmode": "ISO-3",
         "lon": [
          23.8813,
          -95.7129,
          null
         ],
         "mode": "lines",
         "type": "scattergeo"
        },
        {
         "hoverinfo": "none",
         "lat": [
          46.6034,
          60.1282,
          null
         ],
         "line": {
          "color": "rgb(187, 185, 185)",
          "width": 0.15765765765765766
         },
         "locationmode": "ISO-3",
         "lon": [
          1.8883,
          18.6435,
          null
         ],
         "mode": "lines",
         "type": "scattergeo"
        },
        {
         "hoverinfo": "none",
         "lat": [
          51.1657,
          46.8182,
          null
         ],
         "line": {
          "color": "rgb(187, 185, 185)",
          "width": 0.3153153153153153
         },
         "locationmode": "ISO-3",
         "lon": [
          10.4515,
          8.2275,
          null
         ],
         "mode": "lines",
         "type": "scattergeo"
        },
        {
         "hoverinfo": "none",
         "lat": [
          51.1657,
          45.9432,
          null
         ],
         "line": {
          "color": "rgb(187, 185, 185)",
          "width": 0.04504504504504504
         },
         "locationmode": "ISO-3",
         "lon": [
          10.4515,
          24.9668,
          null
         ],
         "mode": "lines",
         "type": "scattergeo"
        },
        {
         "hoverinfo": "none",
         "lat": [
          45.9432,
          46.8182,
          null
         ],
         "line": {
          "color": "rgb(187, 185, 185)",
          "width": 0.01126126126126126
         },
         "locationmode": "ISO-3",
         "lon": [
          24.9668,
          8.2275,
          null
         ],
         "mode": "lines",
         "type": "scattergeo"
        },
        {
         "hoverinfo": "none",
         "lat": [
          20.5937,
          55.3781,
          null
         ],
         "line": {
          "color": "rgb(187, 185, 185)",
          "width": 0.07882882882882883
         },
         "locationmode": "ISO-3",
         "lon": [
          78.9629,
          -3.436,
          null
         ],
         "mode": "lines",
         "type": "scattergeo"
        },
        {
         "hoverinfo": "none",
         "lat": [
          -38.4161,
          37.0902,
          null
         ],
         "line": {
          "color": "rgb(187, 185, 185)",
          "width": 0.09009009009009009
         },
         "locationmode": "ISO-3",
         "lon": [
          -63.6167,
          -95.7129,
          null
         ],
         "mode": "lines",
         "type": "scattergeo"
        },
        {
         "hoverinfo": "none",
         "lat": [
          31.0461,
          37.0902,
          null
         ],
         "line": {
          "color": "rgb(187, 185, 185)",
          "width": 0.04504504504504504
         },
         "locationmode": "ISO-3",
         "lon": [
          34.8516,
          -95.7129,
          null
         ],
         "mode": "lines",
         "type": "scattergeo"
        },
        {
         "hoverinfo": "none",
         "lat": [
          46.6034,
          41.6086,
          null
         ],
         "line": {
          "color": "rgb(187, 185, 185)",
          "width": 0.01126126126126126
         },
         "locationmode": "ISO-3",
         "lon": [
          1.8883,
          21.7453,
          null
         ],
         "mode": "lines",
         "type": "scattergeo"
        },
        {
         "hoverinfo": "none",
         "lat": [
          41.6086,
          55.3781,
          null
         ],
         "line": {
          "color": "rgb(187, 185, 185)",
          "width": 0.02252252252252252
         },
         "locationmode": "ISO-3",
         "lon": [
          21.7453,
          -3.436,
          null
         ],
         "mode": "lines",
         "type": "scattergeo"
        },
        {
         "hoverinfo": "none",
         "lat": [
          36.2048,
          55.3781,
          null
         ],
         "line": {
          "color": "rgb(187, 185, 185)",
          "width": 0.2252252252252252
         },
         "locationmode": "ISO-3",
         "lon": [
          138.2529,
          -3.436,
          null
         ],
         "mode": "lines",
         "type": "scattergeo"
        },
        {
         "hoverinfo": "none",
         "lat": [
          39.3999,
          40.4637,
          null
         ],
         "line": {
          "color": "rgb(187, 185, 185)",
          "width": 0.04504504504504504
         },
         "locationmode": "ISO-3",
         "lon": [
          -8.2245,
          -3.7492,
          null
         ],
         "mode": "lines",
         "type": "scattergeo"
        },
        {
         "hoverinfo": "none",
         "lat": [
          47.5162,
          46.8182,
          null
         ],
         "line": {
          "color": "rgb(187, 185, 185)",
          "width": 0.04504504504504504
         },
         "locationmode": "ISO-3",
         "lon": [
          14.5501,
          8.2275,
          null
         ],
         "mode": "lines",
         "type": "scattergeo"
        },
        {
         "hoverinfo": "none",
         "lat": [
          56.1304,
          35.8617,
          null
         ],
         "line": {
          "color": "rgb(187, 185, 185)",
          "width": 0.01126126126126126
         },
         "locationmode": "ISO-3",
         "lon": [
          -106.3468,
          104.1954,
          null
         ],
         "mode": "lines",
         "type": "scattergeo"
        },
        {
         "hoverinfo": "none",
         "lat": [
          35.8617,
          46.6034,
          null
         ],
         "line": {
          "color": "rgb(187, 185, 185)",
          "width": 0.04504504504504504
         },
         "locationmode": "ISO-3",
         "lon": [
          104.1954,
          1.8883,
          null
         ],
         "mode": "lines",
         "type": "scattergeo"
        },
        {
         "hoverinfo": "none",
         "lat": [
          51.1657,
          43.7384,
          null
         ],
         "line": {
          "color": "rgb(187, 185, 185)",
          "width": 0.02252252252252252
         },
         "locationmode": "ISO-3",
         "lon": [
          10.4515,
          7.4246,
          null
         ],
         "mode": "lines",
         "type": "scattergeo"
        },
        {
         "hoverinfo": "none",
         "lat": [
          41.8719,
          43.7384,
          null
         ],
         "line": {
          "color": "rgb(187, 185, 185)",
          "width": 0.033783783783783786
         },
         "locationmode": "ISO-3",
         "lon": [
          12.5674,
          7.4246,
          null
         ],
         "mode": "lines",
         "type": "scattergeo"
        },
        {
         "hoverinfo": "none",
         "lat": [
          60.1282,
          46.8182,
          null
         ],
         "line": {
          "color": "rgb(187, 185, 185)",
          "width": 0.02252252252252252
         },
         "locationmode": "ISO-3",
         "lon": [
          18.6435,
          8.2275,
          null
         ],
         "mode": "lines",
         "type": "scattergeo"
        },
        {
         "hoverinfo": "none",
         "lat": [
          35.8617,
          37.0902,
          null
         ],
         "line": {
          "color": "rgb(187, 185, 185)",
          "width": 0.02252252252252252
         },
         "locationmode": "ISO-3",
         "lon": [
          104.1954,
          -95.7129,
          null
         ],
         "mode": "lines",
         "type": "scattergeo"
        },
        {
         "hoverinfo": "none",
         "lat": [
          46.6034,
          48.669,
          null
         ],
         "line": {
          "color": "rgb(187, 185, 185)",
          "width": 0.01126126126126126
         },
         "locationmode": "ISO-3",
         "lon": [
          1.8883,
          19.699,
          null
         ],
         "mode": "lines",
         "type": "scattergeo"
        },
        {
         "hoverinfo": "none",
         "lat": [
          46.6034,
          14.4974,
          null
         ],
         "line": {
          "color": "rgb(187, 185, 185)",
          "width": 0.04504504504504504
         },
         "locationmode": "ISO-3",
         "lon": [
          1.8883,
          -14.4524,
          null
         ],
         "mode": "lines",
         "type": "scattergeo"
        },
        {
         "hoverinfo": "none",
         "lat": [
          41.8719,
          33.8869,
          null
         ],
         "line": {
          "color": "rgb(187, 185, 185)",
          "width": 0.033783783783783786
         },
         "locationmode": "ISO-3",
         "lon": [
          12.5674,
          9.5375,
          null
         ],
         "mode": "lines",
         "type": "scattergeo"
        },
        {
         "hoverinfo": "none",
         "lat": [
          41.8719,
          25.276,
          null
         ],
         "line": {
          "color": "rgb(187, 185, 185)",
          "width": 0.01126126126126126
         },
         "locationmode": "ISO-3",
         "lon": [
          12.5674,
          51.2148,
          null
         ],
         "mode": "lines",
         "type": "scattergeo"
        },
        {
         "hoverinfo": "none",
         "lat": [
          46.6034,
          33.8869,
          null
         ],
         "line": {
          "color": "rgb(187, 185, 185)",
          "width": 0.0563063063063063
         },
         "locationmode": "ISO-3",
         "lon": [
          1.8883,
          9.5375,
          null
         ],
         "mode": "lines",
         "type": "scattergeo"
        },
        {
         "hoverinfo": "none",
         "lat": [
          25.276,
          33.8869,
          null
         ],
         "line": {
          "color": "rgb(187, 185, 185)",
          "width": 0.01126126126126126
         },
         "locationmode": "ISO-3",
         "lon": [
          51.2148,
          9.5375,
          null
         ],
         "mode": "lines",
         "type": "scattergeo"
        },
        {
         "hoverinfo": "none",
         "lat": [
          46.6034,
          25.276,
          null
         ],
         "line": {
          "color": "rgb(187, 185, 185)",
          "width": 0.01126126126126126
         },
         "locationmode": "ISO-3",
         "lon": [
          1.8883,
          51.2148,
          null
         ],
         "mode": "lines",
         "type": "scattergeo"
        },
        {
         "hoverinfo": "none",
         "lat": [
          -14.235,
          41.8719,
          null
         ],
         "line": {
          "color": "rgb(187, 185, 185)",
          "width": 0.033783783783783786
         },
         "locationmode": "ISO-3",
         "lon": [
          -51.9253,
          12.5674,
          null
         ],
         "mode": "lines",
         "type": "scattergeo"
        },
        {
         "hoverinfo": "none",
         "lat": [
          -25.2744,
          56.1304,
          null
         ],
         "line": {
          "color": "rgba(28, 94, 169, 0.04504504504504504)",
          "width": 0.04504504504504504
         },
         "locationmode": "ISO-3",
         "lon": [
          133.7751,
          -106.3468,
          null
         ],
         "mode": "lines",
         "type": "scattergeo"
        },
        {
         "hoverinfo": "none",
         "lat": [
          7.5399,
          51.1657,
          null
         ],
         "line": {
          "color": "rgb(187, 185, 185)",
          "width": 0.01126126126126126
         },
         "locationmode": "ISO-3",
         "lon": [
          -5.5471,
          10.4515,
          null
         ],
         "mode": "lines",
         "type": "scattergeo"
        },
        {
         "hoverinfo": "none",
         "lat": [
          7.5399,
          46.6034,
          null
         ],
         "line": {
          "color": "rgb(187, 185, 185)",
          "width": 0.01126126126126126
         },
         "locationmode": "ISO-3",
         "lon": [
          -5.5471,
          1.8883,
          null
         ],
         "mode": "lines",
         "type": "scattergeo"
        },
        {
         "hoverinfo": "none",
         "lat": [
          7.5399,
          46.8182,
          null
         ],
         "line": {
          "color": "rgb(187, 185, 185)",
          "width": 0.01126126126126126
         },
         "locationmode": "ISO-3",
         "lon": [
          -5.5471,
          8.2275,
          null
         ],
         "mode": "lines",
         "type": "scattergeo"
        },
        {
         "hoverinfo": "none",
         "lat": [
          22.3193,
          55.3781,
          null
         ],
         "line": {
          "color": "rgb(187, 185, 185)",
          "width": 0.02252252252252252
         },
         "locationmode": "ISO-3",
         "lon": [
          114.1694,
          -3.436,
          null
         ],
         "mode": "lines",
         "type": "scattergeo"
        },
        {
         "hoverinfo": "none",
         "lat": [
          39.0742,
          55.3781,
          null
         ],
         "line": {
          "color": "rgb(187, 185, 185)",
          "width": 0.0563063063063063
         },
         "locationmode": "ISO-3",
         "lon": [
          21.8243,
          -3.436,
          null
         ],
         "mode": "lines",
         "type": "scattergeo"
        },
        {
         "hoverinfo": "none",
         "lat": [
          46.6034,
          43.7384,
          null
         ],
         "line": {
          "color": "rgb(187, 185, 185)",
          "width": 0.01126126126126126
         },
         "locationmode": "ISO-3",
         "lon": [
          1.8883,
          7.4246,
          null
         ],
         "mode": "lines",
         "type": "scattergeo"
        },
        {
         "hoverinfo": "none",
         "lat": [
          42.3154,
          61.524,
          null
         ],
         "line": {
          "color": "rgba(189, 0, 50, 0.0563063063063063)",
          "width": 0.0563063063063063
         },
         "locationmode": "ISO-3",
         "lon": [
          43.3569,
          105.3188,
          null
         ],
         "mode": "lines",
         "type": "scattergeo"
        },
        {
         "hoverinfo": "none",
         "lat": [
          35.8617,
          22.3193,
          null
         ],
         "line": {
          "color": "rgb(187, 185, 185)",
          "width": 0.16891891891891891
         },
         "locationmode": "ISO-3",
         "lon": [
          104.1954,
          114.1694,
          null
         ],
         "mode": "lines",
         "type": "scattergeo"
        },
        {
         "hoverinfo": "none",
         "lat": [
          46.6034,
          61.524,
          null
         ],
         "line": {
          "color": "rgb(187, 185, 185)",
          "width": 0.10135135135135136
         },
         "locationmode": "ISO-3",
         "lon": [
          1.8883,
          105.3188,
          null
         ],
         "mode": "lines",
         "type": "scattergeo"
        },
        {
         "hoverinfo": "none",
         "lat": [
          -38.4161,
          -14.235,
          null
         ],
         "line": {
          "color": "rgb(187, 185, 185)",
          "width": 0.04504504504504504
         },
         "locationmode": "ISO-3",
         "lon": [
          -63.6167,
          -51.9253,
          null
         ],
         "mode": "lines",
         "type": "scattergeo"
        },
        {
         "hoverinfo": "none",
         "lat": [
          -38.4161,
          46.6034,
          null
         ],
         "line": {
          "color": "rgb(187, 185, 185)",
          "width": 0.04504504504504504
         },
         "locationmode": "ISO-3",
         "lon": [
          -63.6167,
          1.8883,
          null
         ],
         "mode": "lines",
         "type": "scattergeo"
        },
        {
         "hoverinfo": "none",
         "lat": [
          23.6345,
          55.3781,
          null
         ],
         "line": {
          "color": "rgba(28, 94, 169, 0.033783783783783786)",
          "width": 0.033783783783783786
         },
         "locationmode": "ISO-3",
         "lon": [
          -102.5528,
          -3.436,
          null
         ],
         "mode": "lines",
         "type": "scattergeo"
        },
        {
         "hoverinfo": "none",
         "lat": [
          23.6345,
          40.4637,
          null
         ],
         "line": {
          "color": "rgba(28, 94, 169, 0.09009009009009009)",
          "width": 0.09009009009009009
         },
         "locationmode": "ISO-3",
         "lon": [
          -102.5528,
          -3.7492,
          null
         ],
         "mode": "lines",
         "type": "scattergeo"
        },
        {
         "hoverinfo": "none",
         "lat": [
          56.1304,
          51.1657,
          null
         ],
         "line": {
          "color": "rgba(28, 94, 169, 0.1126126126126126)",
          "width": 0.1126126126126126
         },
         "locationmode": "ISO-3",
         "lon": [
          -106.3468,
          10.4515,
          null
         ],
         "mode": "lines",
         "type": "scattergeo"
        },
        {
         "hoverinfo": "none",
         "lat": [
          40.0691,
          56.1304,
          null
         ],
         "line": {
          "color": "rgb(187, 185, 185)",
          "width": 0.01126126126126126
         },
         "locationmode": "ISO-3",
         "lon": [
          45.0382,
          -106.3468,
          null
         ],
         "mode": "lines",
         "type": "scattergeo"
        },
        {
         "hoverinfo": "none",
         "lat": [
          40.0691,
          51.1657,
          null
         ],
         "line": {
          "color": "rgb(187, 185, 185)",
          "width": 0.01126126126126126
         },
         "locationmode": "ISO-3",
         "lon": [
          45.0382,
          10.4515,
          null
         ],
         "mode": "lines",
         "type": "scattergeo"
        },
        {
         "hoverinfo": "none",
         "lat": [
          28.0339,
          33.8869,
          null
         ],
         "line": {
          "color": "rgb(187, 185, 185)",
          "width": 0.01126126126126126
         },
         "locationmode": "ISO-3",
         "lon": [
          1.6596,
          9.5375,
          null
         ],
         "mode": "lines",
         "type": "scattergeo"
        },
        {
         "hoverinfo": "none",
         "lat": [
          28.0339,
          14.4974,
          null
         ],
         "line": {
          "color": "rgb(187, 185, 185)",
          "width": 0.01126126126126126
         },
         "locationmode": "ISO-3",
         "lon": [
          1.6596,
          -14.4524,
          null
         ],
         "mode": "lines",
         "type": "scattergeo"
        },
        {
         "hoverinfo": "none",
         "lat": [
          14.4974,
          33.8869,
          null
         ],
         "line": {
          "color": "rgb(187, 185, 185)",
          "width": 0.01126126126126126
         },
         "locationmode": "ISO-3",
         "lon": [
          -14.4524,
          9.5375,
          null
         ],
         "mode": "lines",
         "type": "scattergeo"
        },
        {
         "hoverinfo": "none",
         "lat": [
          45.1,
          37.0902,
          null
         ],
         "line": {
          "color": "rgba(28, 94, 169, 0.1126126126126126)",
          "width": 0.1126126126126126
         },
         "locationmode": "ISO-3",
         "lon": [
          15.2,
          -95.7129,
          null
         ],
         "mode": "lines",
         "type": "scattergeo"
        },
        {
         "hoverinfo": "none",
         "lat": [
          51.1657,
          39.3999,
          null
         ],
         "line": {
          "color": "rgb(187, 185, 185)",
          "width": 0.07882882882882883
         },
         "locationmode": "ISO-3",
         "lon": [
          10.4515,
          -8.2245,
          null
         ],
         "mode": "lines",
         "type": "scattergeo"
        },
        {
         "hoverinfo": "none",
         "lat": [
          44.0165,
          37.0902,
          null
         ],
         "line": {
          "color": "rgb(187, 185, 185)",
          "width": 0.1126126126126126
         },
         "locationmode": "ISO-3",
         "lon": [
          21.0059,
          -95.7129,
          null
         ],
         "mode": "lines",
         "type": "scattergeo"
        },
        {
         "hoverinfo": "none",
         "lat": [
          15.87,
          37.0902,
          null
         ],
         "line": {
          "color": "rgb(187, 185, 185)",
          "width": 0.02252252252252252
         },
         "locationmode": "ISO-3",
         "lon": [
          100.9925,
          -95.7129,
          null
         ],
         "mode": "lines",
         "type": "scattergeo"
        },
        {
         "hoverinfo": "none",
         "lat": [
          45.1,
          46.6034,
          null
         ],
         "line": {
          "color": "rgba(28, 94, 169, 0.06756756756756757)",
          "width": 0.06756756756756757
         },
         "locationmode": "ISO-3",
         "lon": [
          15.2,
          1.8883,
          null
         ],
         "mode": "lines",
         "type": "scattergeo"
        },
        {
         "hoverinfo": "none",
         "lat": [
          56.1304,
          49.8175,
          null
         ],
         "line": {
          "color": "rgb(187, 185, 185)",
          "width": 0.01126126126126126
         },
         "locationmode": "ISO-3",
         "lon": [
          -106.3468,
          15.4729,
          null
         ],
         "mode": "lines",
         "type": "scattergeo"
        },
        {
         "hoverinfo": "none",
         "lat": [
          51.1657,
          60.472,
          null
         ],
         "line": {
          "color": "rgb(187, 185, 185)",
          "width": 0.04504504504504504
         },
         "locationmode": "ISO-3",
         "lon": [
          10.4515,
          8.4689,
          null
         ],
         "mode": "lines",
         "type": "scattergeo"
        },
        {
         "hoverinfo": "none",
         "lat": [
          64.9631,
          60.472,
          null
         ],
         "line": {
          "color": "rgb(187, 185, 185)",
          "width": 0.02252252252252252
         },
         "locationmode": "ISO-3",
         "lon": [
          -19.0208,
          8.4689,
          null
         ],
         "mode": "lines",
         "type": "scattergeo"
        },
        {
         "hoverinfo": "none",
         "lat": [
          51.1657,
          64.9631,
          null
         ],
         "line": {
          "color": "rgb(187, 185, 185)",
          "width": 0.02252252252252252
         },
         "locationmode": "ISO-3",
         "lon": [
          10.4515,
          -19.0208,
          null
         ],
         "mode": "lines",
         "type": "scattergeo"
        },
        {
         "hoverinfo": "none",
         "lat": [
          40.4637,
          46.8182,
          null
         ],
         "line": {
          "color": "rgb(187, 185, 185)",
          "width": 0.06756756756756757
         },
         "locationmode": "ISO-3",
         "lon": [
          -3.7492,
          8.2275,
          null
         ],
         "mode": "lines",
         "type": "scattergeo"
        },
        {
         "hoverinfo": "none",
         "lat": [
          4.5709,
          41.8719,
          null
         ],
         "line": {
          "color": "rgb(187, 185, 185)",
          "width": 0.02252252252252252
         },
         "locationmode": "ISO-3",
         "lon": [
          -74.2973,
          12.5674,
          null
         ],
         "mode": "lines",
         "type": "scattergeo"
        },
        {
         "hoverinfo": "none",
         "lat": [
          4.5709,
          46.6034,
          null
         ],
         "line": {
          "color": "rgb(187, 185, 185)",
          "width": 0.02252252252252252
         },
         "locationmode": "ISO-3",
         "lon": [
          -74.2973,
          1.8883,
          null
         ],
         "mode": "lines",
         "type": "scattergeo"
        },
        {
         "hoverinfo": "none",
         "lat": [
          22.3193,
          36.2048,
          null
         ],
         "line": {
          "color": "rgb(187, 185, 185)",
          "width": 0.0563063063063063
         },
         "locationmode": "ISO-3",
         "lon": [
          114.1694,
          138.2529,
          null
         ],
         "mode": "lines",
         "type": "scattergeo"
        },
        {
         "hoverinfo": "none",
         "lat": [
          46.8182,
          55.3781,
          null
         ],
         "line": {
          "color": "rgb(187, 185, 185)",
          "width": 0.12387387387387387
         },
         "locationmode": "ISO-3",
         "lon": [
          8.2275,
          -3.436,
          null
         ],
         "mode": "lines",
         "type": "scattergeo"
        },
        {
         "hoverinfo": "none",
         "lat": [
          46.8182,
          37.0902,
          null
         ],
         "line": {
          "color": "rgb(187, 185, 185)",
          "width": 0.10135135135135136
         },
         "locationmode": "ISO-3",
         "lon": [
          8.2275,
          -95.7129,
          null
         ],
         "mode": "lines",
         "type": "scattergeo"
        },
        {
         "hoverinfo": "none",
         "lat": [
          12.8797,
          1.3521,
          null
         ],
         "line": {
          "color": "rgb(187, 185, 185)",
          "width": 0.01126126126126126
         },
         "locationmode": "ISO-3",
         "lon": [
          121.774,
          103.8198,
          null
         ],
         "mode": "lines",
         "type": "scattergeo"
        },
        {
         "hoverinfo": "none",
         "lat": [
          51.1657,
          7.9465,
          null
         ],
         "line": {
          "color": "rgb(187, 185, 185)",
          "width": 0.02252252252252252
         },
         "locationmode": "ISO-3",
         "lon": [
          10.4515,
          -1.0232,
          null
         ],
         "mode": "lines",
         "type": "scattergeo"
        },
        {
         "hoverinfo": "none",
         "lat": [
          31.7917,
          60.1282,
          null
         ],
         "line": {
          "color": "rgb(187, 185, 185)",
          "width": 0.01126126126126126
         },
         "locationmode": "ISO-3",
         "lon": [
          -7.0926,
          18.6435,
          null
         ],
         "mode": "lines",
         "type": "scattergeo"
        },
        {
         "hoverinfo": "none",
         "lat": [
          51.1657,
          47.1625,
          null
         ],
         "line": {
          "color": "rgb(187, 185, 185)",
          "width": 0.1126126126126126
         },
         "locationmode": "ISO-3",
         "lon": [
          10.4515,
          19.5033,
          null
         ],
         "mode": "lines",
         "type": "scattergeo"
        },
        {
         "hoverinfo": "none",
         "lat": [
          51.1657,
          44.0165,
          null
         ],
         "line": {
          "color": "rgb(187, 185, 185)",
          "width": 0.10135135135135136
         },
         "locationmode": "ISO-3",
         "lon": [
          10.4515,
          21.0059,
          null
         ],
         "mode": "lines",
         "type": "scattergeo"
        },
        {
         "hoverinfo": "none",
         "lat": [
          47.5162,
          47.1625,
          null
         ],
         "line": {
          "color": "rgb(187, 185, 185)",
          "width": 0.04504504504504504
         },
         "locationmode": "ISO-3",
         "lon": [
          14.5501,
          19.5033,
          null
         ],
         "mode": "lines",
         "type": "scattergeo"
        },
        {
         "hoverinfo": "none",
         "lat": [
          47.5162,
          44.0165,
          null
         ],
         "line": {
          "color": "rgb(187, 185, 185)",
          "width": 0.01126126126126126
         },
         "locationmode": "ISO-3",
         "lon": [
          14.5501,
          21.0059,
          null
         ],
         "mode": "lines",
         "type": "scattergeo"
        },
        {
         "hoverinfo": "none",
         "lat": [
          47.1625,
          44.0165,
          null
         ],
         "line": {
          "color": "rgba(189, 0, 50, 0.033783783783783786)",
          "width": 0.033783783783783786
         },
         "locationmode": "ISO-3",
         "lon": [
          19.5033,
          21.0059,
          null
         ],
         "mode": "lines",
         "type": "scattergeo"
        },
        {
         "hoverinfo": "none",
         "lat": [
          41.8719,
          46.8182,
          null
         ],
         "line": {
          "color": "rgb(187, 185, 185)",
          "width": 0.09009009009009009
         },
         "locationmode": "ISO-3",
         "lon": [
          12.5674,
          8.2275,
          null
         ],
         "mode": "lines",
         "type": "scattergeo"
        },
        {
         "hoverinfo": "none",
         "lat": [
          51.1657,
          47.166,
          null
         ],
         "line": {
          "color": "rgb(187, 185, 185)",
          "width": 0.0563063063063063
         },
         "locationmode": "ISO-3",
         "lon": [
          10.4515,
          9.5554,
          null
         ],
         "mode": "lines",
         "type": "scattergeo"
        },
        {
         "hoverinfo": "none",
         "lat": [
          47.166,
          40.4637,
          null
         ],
         "line": {
          "color": "rgb(187, 185, 185)",
          "width": 0.0563063063063063
         },
         "locationmode": "ISO-3",
         "lon": [
          9.5554,
          -3.7492,
          null
         ],
         "mode": "lines",
         "type": "scattergeo"
        },
        {
         "hoverinfo": "none",
         "lat": [
          31.0461,
          55.3781,
          null
         ],
         "line": {
          "color": "rgb(187, 185, 185)",
          "width": 0.01126126126126126
         },
         "locationmode": "ISO-3",
         "lon": [
          34.8516,
          -3.436,
          null
         ],
         "mode": "lines",
         "type": "scattergeo"
        },
        {
         "hoverinfo": "none",
         "lat": [
          -9.1899,
          37.0902,
          null
         ],
         "line": {
          "color": "rgb(187, 185, 185)",
          "width": 0.033783783783783786
         },
         "locationmode": "ISO-3",
         "lon": [
          -75.0152,
          -95.7129,
          null
         ],
         "mode": "lines",
         "type": "scattergeo"
        },
        {
         "hoverinfo": "none",
         "lat": [
          56.1304,
          36.2048,
          null
         ],
         "line": {
          "color": "rgb(187, 185, 185)",
          "width": 0.02252252252252252
         },
         "locationmode": "ISO-3",
         "lon": [
          -106.3468,
          138.2529,
          null
         ],
         "mode": "lines",
         "type": "scattergeo"
        },
        {
         "hoverinfo": "none",
         "lat": [
          46.6034,
          36.2048,
          null
         ],
         "line": {
          "color": "rgb(187, 185, 185)",
          "width": 0.1463963963963964
         },
         "locationmode": "ISO-3",
         "lon": [
          1.8883,
          138.2529,
          null
         ],
         "mode": "lines",
         "type": "scattergeo"
        },
        {
         "hoverinfo": "none",
         "lat": [
          49.8175,
          51.9194,
          null
         ],
         "line": {
          "color": "rgba(189, 0, 50, 0.04504504504504504)",
          "width": 0.04504504504504504
         },
         "locationmode": "ISO-3",
         "lon": [
          15.4729,
          19.1451,
          null
         ],
         "mode": "lines",
         "type": "scattergeo"
        },
        {
         "hoverinfo": "none",
         "lat": [
          46.6034,
          22.3193,
          null
         ],
         "line": {
          "color": "rgb(187, 185, 185)",
          "width": 0.04504504504504504
         },
         "locationmode": "ISO-3",
         "lon": [
          1.8883,
          114.1694,
          null
         ],
         "mode": "lines",
         "type": "scattergeo"
        },
        {
         "hoverinfo": "none",
         "lat": [
          22.3193,
          14.0583,
          null
         ],
         "line": {
          "color": "rgb(187, 185, 185)",
          "width": 0.01126126126126126
         },
         "locationmode": "ISO-3",
         "lon": [
          114.1694,
          108.2772,
          null
         ],
         "mode": "lines",
         "type": "scattergeo"
        },
        {
         "hoverinfo": "none",
         "lat": [
          46.6034,
          14.0583,
          null
         ],
         "line": {
          "color": "rgb(187, 185, 185)",
          "width": 0.033783783783783786
         },
         "locationmode": "ISO-3",
         "lon": [
          1.8883,
          108.2772,
          null
         ],
         "mode": "lines",
         "type": "scattergeo"
        },
        {
         "hoverinfo": "none",
         "lat": [
          56.2639,
          37.0902,
          null
         ],
         "line": {
          "color": "rgb(187, 185, 185)",
          "width": 0.07882882882882883
         },
         "locationmode": "ISO-3",
         "lon": [
          9.5018,
          -95.7129,
          null
         ],
         "mode": "lines",
         "type": "scattergeo"
        },
        {
         "hoverinfo": "none",
         "lat": [
          60.1282,
          37.0902,
          null
         ],
         "line": {
          "color": "rgb(187, 185, 185)",
          "width": 0.09009009009009009
         },
         "locationmode": "ISO-3",
         "lon": [
          18.6435,
          -95.7129,
          null
         ],
         "mode": "lines",
         "type": "scattergeo"
        },
        {
         "hoverinfo": "none",
         "lat": [
          22.3193,
          35.9078,
          null
         ],
         "line": {
          "color": "rgb(187, 185, 185)",
          "width": 0.04504504504504504
         },
         "locationmode": "ISO-3",
         "lon": [
          114.1694,
          127.7669,
          null
         ],
         "mode": "lines",
         "type": "scattergeo"
        },
        {
         "hoverinfo": "none",
         "lat": [
          47.166,
          46.8182,
          null
         ],
         "line": {
          "color": "rgb(187, 185, 185)",
          "width": 0.02252252252252252
         },
         "locationmode": "ISO-3",
         "lon": [
          9.5554,
          8.2275,
          null
         ],
         "mode": "lines",
         "type": "scattergeo"
        },
        {
         "hoverinfo": "none",
         "lat": [
          51.1657,
          51.9194,
          null
         ],
         "line": {
          "color": "rgb(187, 185, 185)",
          "width": 0.09009009009009009
         },
         "locationmode": "ISO-3",
         "lon": [
          10.4515,
          19.1451,
          null
         ],
         "mode": "lines",
         "type": "scattergeo"
        },
        {
         "hoverinfo": "none",
         "lat": [
          41.8719,
          61.524,
          null
         ],
         "line": {
          "color": "rgb(187, 185, 185)",
          "width": 0.1126126126126126
         },
         "locationmode": "ISO-3",
         "lon": [
          12.5674,
          105.3188,
          null
         ],
         "mode": "lines",
         "type": "scattergeo"
        },
        {
         "hoverinfo": "none",
         "lat": [
          61.524,
          37.0902,
          null
         ],
         "line": {
          "color": "rgb(187, 185, 185)",
          "width": 0.07882882882882883
         },
         "locationmode": "ISO-3",
         "lon": [
          105.3188,
          -95.7129,
          null
         ],
         "mode": "lines",
         "type": "scattergeo"
        },
        {
         "hoverinfo": "none",
         "lat": [
          58.5953,
          61.9241,
          null
         ],
         "line": {
          "color": "rgb(187, 185, 185)",
          "width": 0.01126126126126126
         },
         "locationmode": "ISO-3",
         "lon": [
          25.0136,
          25.7482,
          null
         ],
         "mode": "lines",
         "type": "scattergeo"
        },
        {
         "hoverinfo": "none",
         "lat": [
          58.5953,
          37.0902,
          null
         ],
         "line": {
          "color": "rgb(187, 185, 185)",
          "width": 0.01126126126126126
         },
         "locationmode": "ISO-3",
         "lon": [
          25.0136,
          -95.7129,
          null
         ],
         "mode": "lines",
         "type": "scattergeo"
        },
        {
         "hoverinfo": "none",
         "lat": [
          58.5953,
          60.1282,
          null
         ],
         "line": {
          "color": "rgb(187, 185, 185)",
          "width": 0.01126126126126126
         },
         "locationmode": "ISO-3",
         "lon": [
          25.0136,
          18.6435,
          null
         ],
         "mode": "lines",
         "type": "scattergeo"
        },
        {
         "hoverinfo": "none",
         "lat": [
          61.9241,
          37.0902,
          null
         ],
         "line": {
          "color": "rgb(187, 185, 185)",
          "width": 0.02252252252252252
         },
         "locationmode": "ISO-3",
         "lon": [
          25.7482,
          -95.7129,
          null
         ],
         "mode": "lines",
         "type": "scattergeo"
        },
        {
         "hoverinfo": "none",
         "lat": [
          50.5039,
          51.1657,
          null
         ],
         "line": {
          "color": "rgba(28, 94, 169, 0.1126126126126126)",
          "width": 0.1126126126126126
         },
         "locationmode": "ISO-3",
         "lon": [
          4.4699,
          10.4515,
          null
         ],
         "mode": "lines",
         "type": "scattergeo"
        },
        {
         "hoverinfo": "none",
         "lat": [
          26.8206,
          37.0902,
          null
         ],
         "line": {
          "color": "rgb(187, 185, 185)",
          "width": 0.01126126126126126
         },
         "locationmode": "ISO-3",
         "lon": [
          30.8025,
          -95.7129,
          null
         ],
         "mode": "lines",
         "type": "scattergeo"
        },
        {
         "hoverinfo": "none",
         "lat": [
          -40.9006,
          37.0902,
          null
         ],
         "line": {
          "color": "rgb(187, 185, 185)",
          "width": 0.07882882882882883
         },
         "locationmode": "ISO-3",
         "lon": [
          174.886,
          -95.7129,
          null
         ],
         "mode": "lines",
         "type": "scattergeo"
        },
        {
         "hoverinfo": "none",
         "lat": [
          39.0742,
          41.8719,
          null
         ],
         "line": {
          "color": "rgb(187, 185, 185)",
          "width": 0.0563063063063063
         },
         "locationmode": "ISO-3",
         "lon": [
          21.8243,
          12.5674,
          null
         ],
         "mode": "lines",
         "type": "scattergeo"
        },
        {
         "hoverinfo": "none",
         "lat": [
          46.6034,
          23.6345,
          null
         ],
         "line": {
          "color": "rgba(28, 94, 169, 0.0563063063063063)",
          "width": 0.0563063063063063
         },
         "locationmode": "ISO-3",
         "lon": [
          1.8883,
          -102.5528,
          null
         ],
         "mode": "lines",
         "type": "scattergeo"
        },
        {
         "hoverinfo": "none",
         "lat": [
          36.2048,
          61.524,
          null
         ],
         "line": {
          "color": "rgb(187, 185, 185)",
          "width": 0.033783783783783786
         },
         "locationmode": "ISO-3",
         "lon": [
          138.2529,
          105.3188,
          null
         ],
         "mode": "lines",
         "type": "scattergeo"
        },
        {
         "hoverinfo": "none",
         "lat": [
          -25.2744,
          46.6034,
          null
         ],
         "line": {
          "color": "rgba(28, 94, 169, 0.09009009009009009)",
          "width": 0.09009009009009009
         },
         "locationmode": "ISO-3",
         "lon": [
          133.7751,
          1.8883,
          null
         ],
         "mode": "lines",
         "type": "scattergeo"
        },
        {
         "hoverinfo": "none",
         "lat": [
          51.1657,
          52.1326,
          null
         ],
         "line": {
          "color": "rgb(187, 185, 185)",
          "width": 0.1126126126126126
         },
         "locationmode": "ISO-3",
         "lon": [
          10.4515,
          5.2913,
          null
         ],
         "mode": "lines",
         "type": "scattergeo"
        },
        {
         "hoverinfo": "none",
         "lat": [
          53.7098,
          61.524,
          null
         ],
         "line": {
          "color": "rgb(187, 185, 185)",
          "width": 0.06756756756756757
         },
         "locationmode": "ISO-3",
         "lon": [
          27.9534,
          105.3188,
          null
         ],
         "mode": "lines",
         "type": "scattergeo"
        },
        {
         "hoverinfo": "none",
         "lat": [
          43.9159,
          44.0165,
          null
         ],
         "line": {
          "color": "rgb(187, 185, 185)",
          "width": 0.0563063063063063
         },
         "locationmode": "ISO-3",
         "lon": [
          17.6791,
          21.0059,
          null
         ],
         "mode": "lines",
         "type": "scattergeo"
        },
        {
         "hoverinfo": "none",
         "lat": [
          50.5039,
          52.1326,
          null
         ],
         "line": {
          "color": "rgb(187, 185, 185)",
          "width": 0.10135135135135136
         },
         "locationmode": "ISO-3",
         "lon": [
          4.4699,
          5.2913,
          null
         ],
         "mode": "lines",
         "type": "scattergeo"
        },
        {
         "hoverinfo": "none",
         "lat": [
          -25.2744,
          23.6345,
          null
         ],
         "line": {
          "color": "rgba(28, 94, 169, 0.01126126126126126)",
          "width": 0.01126126126126126
         },
         "locationmode": "ISO-3",
         "lon": [
          133.7751,
          -102.5528,
          null
         ],
         "mode": "lines",
         "type": "scattergeo"
        },
        {
         "hoverinfo": "none",
         "lat": [
          41.8719,
          42.7087,
          null
         ],
         "line": {
          "color": "rgb(187, 185, 185)",
          "width": 0.02252252252252252
         },
         "locationmode": "ISO-3",
         "lon": [
          12.5674,
          19.3744,
          null
         ],
         "mode": "lines",
         "type": "scattergeo"
        },
        {
         "hoverinfo": "none",
         "lat": [
          51.1657,
          41.6086,
          null
         ],
         "line": {
          "color": "rgb(187, 185, 185)",
          "width": 0.01126126126126126
         },
         "locationmode": "ISO-3",
         "lon": [
          10.4515,
          21.7453,
          null
         ],
         "mode": "lines",
         "type": "scattergeo"
        },
        {
         "hoverinfo": "none",
         "lat": [
          41.8719,
          41.6086,
          null
         ],
         "line": {
          "color": "rgb(187, 185, 185)",
          "width": 0.01126126126126126
         },
         "locationmode": "ISO-3",
         "lon": [
          12.5674,
          21.7453,
          null
         ],
         "mode": "lines",
         "type": "scattergeo"
        },
        {
         "hoverinfo": "none",
         "lat": [
          -22.9576,
          -30.5595,
          null
         ],
         "line": {
          "color": "rgb(187, 185, 185)",
          "width": 0.033783783783783786
         },
         "locationmode": "ISO-3",
         "lon": [
          18.4904,
          22.9375,
          null
         ],
         "mode": "lines",
         "type": "scattergeo"
        },
        {
         "hoverinfo": "none",
         "lat": [
          -22.9576,
          55.3781,
          null
         ],
         "line": {
          "color": "rgb(187, 185, 185)",
          "width": 0.01126126126126126
         },
         "locationmode": "ISO-3",
         "lon": [
          18.4904,
          -3.436,
          null
         ],
         "mode": "lines",
         "type": "scattergeo"
        },
        {
         "hoverinfo": "none",
         "lat": [
          -22.9576,
          37.0902,
          null
         ],
         "line": {
          "color": "rgb(187, 185, 185)",
          "width": 0.02252252252252252
         },
         "locationmode": "ISO-3",
         "lon": [
          18.4904,
          -95.7129,
          null
         ],
         "mode": "lines",
         "type": "scattergeo"
        },
        {
         "hoverinfo": "none",
         "lat": [
          51.9194,
          48.3794,
          null
         ],
         "line": {
          "color": "rgb(187, 185, 185)",
          "width": 0.02252252252252252
         },
         "locationmode": "ISO-3",
         "lon": [
          19.1451,
          31.1656,
          null
         ],
         "mode": "lines",
         "type": "scattergeo"
        },
        {
         "hoverinfo": "none",
         "lat": [
          51.9194,
          61.524,
          null
         ],
         "line": {
          "color": "rgba(189, 0, 50, 0.04504504504504504)",
          "width": 0.04504504504504504
         },
         "locationmode": "ISO-3",
         "lon": [
          19.1451,
          105.3188,
          null
         ],
         "mode": "lines",
         "type": "scattergeo"
        },
        {
         "hoverinfo": "none",
         "lat": [
          56.1304,
          20.5937,
          null
         ],
         "line": {
          "color": "rgb(187, 185, 185)",
          "width": 0.01126126126126126
         },
         "locationmode": "ISO-3",
         "lon": [
          -106.3468,
          78.9629,
          null
         ],
         "mode": "lines",
         "type": "scattergeo"
        },
        {
         "hoverinfo": "none",
         "lat": [
          23.6978,
          37.0902,
          null
         ],
         "line": {
          "color": "rgb(187, 185, 185)",
          "width": 0.02252252252252252
         },
         "locationmode": "ISO-3",
         "lon": [
          120.9605,
          -95.7129,
          null
         ],
         "mode": "lines",
         "type": "scattergeo"
        },
        {
         "hoverinfo": "none",
         "lat": [
          46.6034,
          47.1625,
          null
         ],
         "line": {
          "color": "rgb(187, 185, 185)",
          "width": 0.0563063063063063
         },
         "locationmode": "ISO-3",
         "lon": [
          1.8883,
          19.5033,
          null
         ],
         "mode": "lines",
         "type": "scattergeo"
        },
        {
         "hoverinfo": "none",
         "lat": [
          47.1625,
          55.3781,
          null
         ],
         "line": {
          "color": "rgb(187, 185, 185)",
          "width": 0.02252252252252252
         },
         "locationmode": "ISO-3",
         "lon": [
          19.5033,
          -3.436,
          null
         ],
         "mode": "lines",
         "type": "scattergeo"
        },
        {
         "hoverinfo": "none",
         "lat": [
          47.1625,
          37.0902,
          null
         ],
         "line": {
          "color": "rgb(187, 185, 185)",
          "width": 0.0563063063063063
         },
         "locationmode": "ISO-3",
         "lon": [
          19.5033,
          -95.7129,
          null
         ],
         "mode": "lines",
         "type": "scattergeo"
        },
        {
         "hoverinfo": "none",
         "lat": [
          60.472,
          60.1282,
          null
         ],
         "line": {
          "color": "rgb(187, 185, 185)",
          "width": 0.19144144144144143
         },
         "locationmode": "ISO-3",
         "lon": [
          8.4689,
          18.6435,
          null
         ],
         "mode": "lines",
         "type": "scattergeo"
        },
        {
         "hoverinfo": "none",
         "lat": [
          39.0742,
          40.4637,
          null
         ],
         "line": {
          "color": "rgb(187, 185, 185)",
          "width": 0.01126126126126126
         },
         "locationmode": "ISO-3",
         "lon": [
          21.8243,
          -3.7492,
          null
         ],
         "mode": "lines",
         "type": "scattergeo"
        },
        {
         "hoverinfo": "none",
         "lat": [
          39.0742,
          47.1625,
          null
         ],
         "line": {
          "color": "rgb(187, 185, 185)",
          "width": 0.01126126126126126
         },
         "locationmode": "ISO-3",
         "lon": [
          21.8243,
          19.5033,
          null
         ],
         "mode": "lines",
         "type": "scattergeo"
        },
        {
         "hoverinfo": "none",
         "lat": [
          47.1625,
          40.4637,
          null
         ],
         "line": {
          "color": "rgb(187, 185, 185)",
          "width": 0.01126126126126126
         },
         "locationmode": "ISO-3",
         "lon": [
          19.5033,
          -3.7492,
          null
         ],
         "mode": "lines",
         "type": "scattergeo"
        },
        {
         "hoverinfo": "none",
         "lat": [
          28.0339,
          46.6034,
          null
         ],
         "line": {
          "color": "rgb(187, 185, 185)",
          "width": 0.04504504504504504
         },
         "locationmode": "ISO-3",
         "lon": [
          1.6596,
          1.8883,
          null
         ],
         "mode": "lines",
         "type": "scattergeo"
        },
        {
         "hoverinfo": "none",
         "lat": [
          46.6034,
          52.1326,
          null
         ],
         "line": {
          "color": "rgb(187, 185, 185)",
          "width": 0.1463963963963964
         },
         "locationmode": "ISO-3",
         "lon": [
          1.8883,
          5.2913,
          null
         ],
         "mode": "lines",
         "type": "scattergeo"
        },
        {
         "hoverinfo": "none",
         "lat": [
          42.7339,
          46.6034,
          null
         ],
         "line": {
          "color": "rgb(187, 185, 185)",
          "width": 0.033783783783783786
         },
         "locationmode": "ISO-3",
         "lon": [
          25.4858,
          1.8883,
          null
         ],
         "mode": "lines",
         "type": "scattergeo"
        },
        {
         "hoverinfo": "none",
         "lat": [
          42.7339,
          40.4637,
          null
         ],
         "line": {
          "color": "rgb(187, 185, 185)",
          "width": 0.033783783783783786
         },
         "locationmode": "ISO-3",
         "lon": [
          25.4858,
          -3.7492,
          null
         ],
         "mode": "lines",
         "type": "scattergeo"
        },
        {
         "hoverinfo": "none",
         "lat": [
          52.1326,
          37.0902,
          null
         ],
         "line": {
          "color": "rgb(187, 185, 185)",
          "width": 0.1126126126126126
         },
         "locationmode": "ISO-3",
         "lon": [
          5.2913,
          -95.7129,
          null
         ],
         "mode": "lines",
         "type": "scattergeo"
        },
        {
         "hoverinfo": "none",
         "lat": [
          60.1282,
          55.3781,
          null
         ],
         "line": {
          "color": "rgb(187, 185, 185)",
          "width": 0.07882882882882883
         },
         "locationmode": "ISO-3",
         "lon": [
          18.6435,
          -3.436,
          null
         ],
         "mode": "lines",
         "type": "scattergeo"
        },
        {
         "hoverinfo": "none",
         "lat": [
          51.1657,
          23.6345,
          null
         ],
         "line": {
          "color": "rgba(28, 94, 169, 0.01126126126126126)",
          "width": 0.01126126126126126
         },
         "locationmode": "ISO-3",
         "lon": [
          10.4515,
          -102.5528,
          null
         ],
         "mode": "lines",
         "type": "scattergeo"
        },
        {
         "hoverinfo": "none",
         "lat": [
          55.3781,
          44.0165,
          null
         ],
         "line": {
          "color": "rgb(187, 185, 185)",
          "width": 0.01126126126126126
         },
         "locationmode": "ISO-3",
         "lon": [
          -3.436,
          21.0059,
          null
         ],
         "mode": "lines",
         "type": "scattergeo"
        },
        {
         "hoverinfo": "none",
         "lat": [
          51.1657,
          39.0742,
          null
         ],
         "line": {
          "color": "rgb(187, 185, 185)",
          "width": 0.033783783783783786
         },
         "locationmode": "ISO-3",
         "lon": [
          10.4515,
          21.8243,
          null
         ],
         "mode": "lines",
         "type": "scattergeo"
        },
        {
         "hoverinfo": "none",
         "lat": [
          56.2639,
          51.1657,
          null
         ],
         "line": {
          "color": "rgb(187, 185, 185)",
          "width": 0.06756756756756757
         },
         "locationmode": "ISO-3",
         "lon": [
          9.5018,
          10.4515,
          null
         ],
         "mode": "lines",
         "type": "scattergeo"
        },
        {
         "hoverinfo": "none",
         "lat": [
          56.2639,
          46.8182,
          null
         ],
         "line": {
          "color": "rgb(187, 185, 185)",
          "width": 0.01126126126126126
         },
         "locationmode": "ISO-3",
         "lon": [
          9.5018,
          8.2275,
          null
         ],
         "mode": "lines",
         "type": "scattergeo"
        },
        {
         "hoverinfo": "none",
         "lat": [
          56.2639,
          40.4637,
          null
         ],
         "line": {
          "color": "rgb(187, 185, 185)",
          "width": 0.02252252252252252
         },
         "locationmode": "ISO-3",
         "lon": [
          9.5018,
          -3.7492,
          null
         ],
         "mode": "lines",
         "type": "scattergeo"
        },
        {
         "hoverinfo": "none",
         "lat": [
          40.4637,
          60.1282,
          null
         ],
         "line": {
          "color": "rgb(187, 185, 185)",
          "width": 0.02252252252252252
         },
         "locationmode": "ISO-3",
         "lon": [
          -3.7492,
          18.6435,
          null
         ],
         "mode": "lines",
         "type": "scattergeo"
        },
        {
         "hoverinfo": "none",
         "lat": [
          51.1657,
          32.4279,
          null
         ],
         "line": {
          "color": "rgb(187, 185, 185)",
          "width": 0.033783783783783786
         },
         "locationmode": "ISO-3",
         "lon": [
          10.4515,
          53.688,
          null
         ],
         "mode": "lines",
         "type": "scattergeo"
        },
        {
         "hoverinfo": "none",
         "lat": [
          46.6034,
          32.4279,
          null
         ],
         "line": {
          "color": "rgb(187, 185, 185)",
          "width": 0.06756756756756757
         },
         "locationmode": "ISO-3",
         "lon": [
          1.8883,
          53.688,
          null
         ],
         "mode": "lines",
         "type": "scattergeo"
        },
        {
         "hoverinfo": "none",
         "lat": [
          41.8719,
          60.1282,
          null
         ],
         "line": {
          "color": "rgb(187, 185, 185)",
          "width": 0.04504504504504504
         },
         "locationmode": "ISO-3",
         "lon": [
          12.5674,
          18.6435,
          null
         ],
         "mode": "lines",
         "type": "scattergeo"
        },
        {
         "hoverinfo": "none",
         "lat": [
          23.6345,
          52.1326,
          null
         ],
         "line": {
          "color": "rgb(187, 185, 185)",
          "width": 0.01126126126126126
         },
         "locationmode": "ISO-3",
         "lon": [
          -102.5528,
          5.2913,
          null
         ],
         "mode": "lines",
         "type": "scattergeo"
        },
        {
         "hoverinfo": "none",
         "lat": [
          49.8175,
          46.6034,
          null
         ],
         "line": {
          "color": "rgb(187, 185, 185)",
          "width": 0.0563063063063063
         },
         "locationmode": "ISO-3",
         "lon": [
          15.4729,
          1.8883,
          null
         ],
         "mode": "lines",
         "type": "scattergeo"
        },
        {
         "hoverinfo": "none",
         "lat": [
          51.1657,
          61.524,
          null
         ],
         "line": {
          "color": "rgb(187, 185, 185)",
          "width": 0.06756756756756757
         },
         "locationmode": "ISO-3",
         "lon": [
          10.4515,
          105.3188,
          null
         ],
         "mode": "lines",
         "type": "scattergeo"
        },
        {
         "hoverinfo": "none",
         "lat": [
          41.8719,
          52.1326,
          null
         ],
         "line": {
          "color": "rgb(187, 185, 185)",
          "width": 0.04504504504504504
         },
         "locationmode": "ISO-3",
         "lon": [
          12.5674,
          5.2913,
          null
         ],
         "mode": "lines",
         "type": "scattergeo"
        },
        {
         "hoverinfo": "none",
         "lat": [
          52.1326,
          61.524,
          null
         ],
         "line": {
          "color": "rgb(187, 185, 185)",
          "width": 0.02252252252252252
         },
         "locationmode": "ISO-3",
         "lon": [
          5.2913,
          105.3188,
          null
         ],
         "mode": "lines",
         "type": "scattergeo"
        },
        {
         "hoverinfo": "none",
         "lat": [
          49.8175,
          55.3781,
          null
         ],
         "line": {
          "color": "rgb(187, 185, 185)",
          "width": 0.033783783783783786
         },
         "locationmode": "ISO-3",
         "lon": [
          15.4729,
          -3.436,
          null
         ],
         "mode": "lines",
         "type": "scattergeo"
        },
        {
         "hoverinfo": "none",
         "lat": [
          -25.2744,
          22.3193,
          null
         ],
         "line": {
          "color": "rgb(187, 185, 185)",
          "width": 0.033783783783783786
         },
         "locationmode": "ISO-3",
         "lon": [
          133.7751,
          114.1694,
          null
         ],
         "mode": "lines",
         "type": "scattergeo"
        },
        {
         "hoverinfo": "none",
         "lat": [
          -25.2744,
          61.524,
          null
         ],
         "line": {
          "color": "rgb(187, 185, 185)",
          "width": 0.01126126126126126
         },
         "locationmode": "ISO-3",
         "lon": [
          133.7751,
          105.3188,
          null
         ],
         "mode": "lines",
         "type": "scattergeo"
        },
        {
         "hoverinfo": "none",
         "lat": [
          22.3193,
          61.524,
          null
         ],
         "line": {
          "color": "rgb(187, 185, 185)",
          "width": 0.01126126126126126
         },
         "locationmode": "ISO-3",
         "lon": [
          114.1694,
          105.3188,
          null
         ],
         "mode": "lines",
         "type": "scattergeo"
        },
        {
         "hoverinfo": "none",
         "lat": [
          45.1,
          51.1657,
          null
         ],
         "line": {
          "color": "rgba(28, 94, 169, 0.1126126126126126)",
          "width": 0.1126126126126126
         },
         "locationmode": "ISO-3",
         "lon": [
          15.2,
          10.4515,
          null
         ],
         "mode": "lines",
         "type": "scattergeo"
        },
        {
         "hoverinfo": "none",
         "lat": [
          22.3193,
          41.8719,
          null
         ],
         "line": {
          "color": "rgb(187, 185, 185)",
          "width": 0.033783783783783786
         },
         "locationmode": "ISO-3",
         "lon": [
          114.1694,
          12.5674,
          null
         ],
         "mode": "lines",
         "type": "scattergeo"
        },
        {
         "hoverinfo": "none",
         "lat": [
          52.1326,
          40.4637,
          null
         ],
         "line": {
          "color": "rgb(187, 185, 185)",
          "width": 0.02252252252252252
         },
         "locationmode": "ISO-3",
         "lon": [
          5.2913,
          -3.7492,
          null
         ],
         "mode": "lines",
         "type": "scattergeo"
        },
        {
         "hoverinfo": "none",
         "lat": [
          51.1657,
          36.2048,
          null
         ],
         "line": {
          "color": "rgb(187, 185, 185)",
          "width": 0.09009009009009009
         },
         "locationmode": "ISO-3",
         "lon": [
          10.4515,
          138.2529,
          null
         ],
         "mode": "lines",
         "type": "scattergeo"
        },
        {
         "hoverinfo": "none",
         "lat": [
          61.9241,
          61.524,
          null
         ],
         "line": {
          "color": "rgb(187, 185, 185)",
          "width": 0.02252252252252252
         },
         "locationmode": "ISO-3",
         "lon": [
          25.7482,
          105.3188,
          null
         ],
         "mode": "lines",
         "type": "scattergeo"
        },
        {
         "hoverinfo": "none",
         "lat": [
          41.8719,
          51.9194,
          null
         ],
         "line": {
          "color": "rgb(187, 185, 185)",
          "width": 0.01126126126126126
         },
         "locationmode": "ISO-3",
         "lon": [
          12.5674,
          19.1451,
          null
         ],
         "mode": "lines",
         "type": "scattergeo"
        },
        {
         "hoverinfo": "none",
         "lat": [
          50.5039,
          39.3999,
          null
         ],
         "line": {
          "color": "rgb(187, 185, 185)",
          "width": 0.01126126126126126
         },
         "locationmode": "ISO-3",
         "lon": [
          4.4699,
          -8.2245,
          null
         ],
         "mode": "lines",
         "type": "scattergeo"
        },
        {
         "hoverinfo": "none",
         "lat": [
          49.8175,
          48.669,
          null
         ],
         "line": {
          "color": "rgb(187, 185, 185)",
          "width": 0.09009009009009009
         },
         "locationmode": "ISO-3",
         "lon": [
          15.4729,
          19.699,
          null
         ],
         "mode": "lines",
         "type": "scattergeo"
        },
        {
         "hoverinfo": "none",
         "lat": [
          44.0165,
          55.3781,
          null
         ],
         "line": {
          "color": "rgb(187, 185, 185)",
          "width": 0.02252252252252252
         },
         "locationmode": "ISO-3",
         "lon": [
          21.0059,
          -3.436,
          null
         ],
         "mode": "lines",
         "type": "scattergeo"
        },
        {
         "hoverinfo": "none",
         "lat": [
          56.2639,
          41.8719,
          null
         ],
         "line": {
          "color": "rgb(187, 185, 185)",
          "width": 0.02252252252252252
         },
         "locationmode": "ISO-3",
         "lon": [
          9.5018,
          12.5674,
          null
         ],
         "mode": "lines",
         "type": "scattergeo"
        },
        {
         "hoverinfo": "none",
         "lat": [
          41.8719,
          39.3999,
          null
         ],
         "line": {
          "color": "rgb(187, 185, 185)",
          "width": 0.02252252252252252
         },
         "locationmode": "ISO-3",
         "lon": [
          12.5674,
          -8.2245,
          null
         ],
         "mode": "lines",
         "type": "scattergeo"
        },
        {
         "hoverinfo": "none",
         "lat": [
          56.2639,
          39.3999,
          null
         ],
         "line": {
          "color": "rgb(187, 185, 185)",
          "width": 0.02252252252252252
         },
         "locationmode": "ISO-3",
         "lon": [
          9.5018,
          -8.2245,
          null
         ],
         "mode": "lines",
         "type": "scattergeo"
        },
        {
         "hoverinfo": "none",
         "lat": [
          31.0461,
          41.8719,
          null
         ],
         "line": {
          "color": "rgb(187, 185, 185)",
          "width": 0.02252252252252252
         },
         "locationmode": "ISO-3",
         "lon": [
          34.8516,
          12.5674,
          null
         ],
         "mode": "lines",
         "type": "scattergeo"
        },
        {
         "hoverinfo": "none",
         "lat": [
          47.1625,
          60.472,
          null
         ],
         "line": {
          "color": "rgb(187, 185, 185)",
          "width": 0.01126126126126126
         },
         "locationmode": "ISO-3",
         "lon": [
          19.5033,
          8.4689,
          null
         ],
         "mode": "lines",
         "type": "scattergeo"
        },
        {
         "hoverinfo": "none",
         "lat": [
          47.1625,
          60.1282,
          null
         ],
         "line": {
          "color": "rgb(187, 185, 185)",
          "width": 0.01126126126126126
         },
         "locationmode": "ISO-3",
         "lon": [
          19.5033,
          18.6435,
          null
         ],
         "mode": "lines",
         "type": "scattergeo"
        },
        {
         "hoverinfo": "none",
         "lat": [
          36.2048,
          23.6978,
          null
         ],
         "line": {
          "color": "rgb(187, 185, 185)",
          "width": 0.01126126126126126
         },
         "locationmode": "ISO-3",
         "lon": [
          138.2529,
          120.9605,
          null
         ],
         "mode": "lines",
         "type": "scattergeo"
        },
        {
         "hoverinfo": "none",
         "lat": [
          21.5218,
          51.1657,
          null
         ],
         "line": {
          "color": "rgb(187, 185, 185)",
          "width": 0.033783783783783786
         },
         "locationmode": "ISO-3",
         "lon": [
          -77.7812,
          10.4515,
          null
         ],
         "mode": "lines",
         "type": "scattergeo"
        },
        {
         "hoverinfo": "none",
         "lat": [
          21.5218,
          40.4637,
          null
         ],
         "line": {
          "color": "rgb(187, 185, 185)",
          "width": 0.04504504504504504
         },
         "locationmode": "ISO-3",
         "lon": [
          -77.7812,
          -3.7492,
          null
         ],
         "mode": "lines",
         "type": "scattergeo"
        },
        {
         "hoverinfo": "none",
         "lat": [
          51.1657,
          14.4974,
          null
         ],
         "line": {
          "color": "rgb(187, 185, 185)",
          "width": 0.01126126126126126
         },
         "locationmode": "ISO-3",
         "lon": [
          10.4515,
          -14.4524,
          null
         ],
         "mode": "lines",
         "type": "scattergeo"
        },
        {
         "hoverinfo": "none",
         "lat": [
          14.4974,
          37.0902,
          null
         ],
         "line": {
          "color": "rgb(187, 185, 185)",
          "width": 0.01126126126126126
         },
         "locationmode": "ISO-3",
         "lon": [
          -14.4524,
          -95.7129,
          null
         ],
         "mode": "lines",
         "type": "scattergeo"
        },
        {
         "hoverinfo": "none",
         "lat": [
          56.2639,
          55.3781,
          null
         ],
         "line": {
          "color": "rgb(187, 185, 185)",
          "width": 0.09009009009009009
         },
         "locationmode": "ISO-3",
         "lon": [
          9.5018,
          -3.436,
          null
         ],
         "mode": "lines",
         "type": "scattergeo"
        },
        {
         "hoverinfo": "none",
         "lat": [
          12.5211,
          51.1657,
          null
         ],
         "line": {
          "color": "rgb(187, 185, 185)",
          "width": 0.01126126126126126
         },
         "locationmode": "ISO-3",
         "lon": [
          -69.9683,
          10.4515,
          null
         ],
         "mode": "lines",
         "type": "scattergeo"
        },
        {
         "hoverinfo": "none",
         "lat": [
          12.5211,
          37.0902,
          null
         ],
         "line": {
          "color": "rgb(187, 185, 185)",
          "width": 0.01126126126126126
         },
         "locationmode": "ISO-3",
         "lon": [
          -69.9683,
          -95.7129,
          null
         ],
         "mode": "lines",
         "type": "scattergeo"
        },
        {
         "hoverinfo": "none",
         "lat": [
          46.6034,
          31.0461,
          null
         ],
         "line": {
          "color": "rgb(187, 185, 185)",
          "width": 0.02252252252252252
         },
         "locationmode": "ISO-3",
         "lon": [
          1.8883,
          34.8516,
          null
         ],
         "mode": "lines",
         "type": "scattergeo"
        },
        {
         "hoverinfo": "none",
         "lat": [
          61.9241,
          51.1657,
          null
         ],
         "line": {
          "color": "rgb(187, 185, 185)",
          "width": 0.07882882882882883
         },
         "locationmode": "ISO-3",
         "lon": [
          25.7482,
          10.4515,
          null
         ],
         "mode": "lines",
         "type": "scattergeo"
        },
        {
         "hoverinfo": "none",
         "lat": [
          61.9241,
          46.8182,
          null
         ],
         "line": {
          "color": "rgb(187, 185, 185)",
          "width": 0.01126126126126126
         },
         "locationmode": "ISO-3",
         "lon": [
          25.7482,
          8.2275,
          null
         ],
         "mode": "lines",
         "type": "scattergeo"
        },
        {
         "hoverinfo": "none",
         "lat": [
          46.6034,
          30.5852,
          null
         ],
         "line": {
          "color": "rgb(187, 185, 185)",
          "width": 0.01126126126126126
         },
         "locationmode": "ISO-3",
         "lon": [
          1.8883,
          36.2384,
          null
         ],
         "mode": "lines",
         "type": "scattergeo"
        },
        {
         "hoverinfo": "none",
         "lat": [
          36.2048,
          23.6345,
          null
         ],
         "line": {
          "color": "rgb(187, 185, 185)",
          "width": 0.01126126126126126
         },
         "locationmode": "ISO-3",
         "lon": [
          138.2529,
          -102.5528,
          null
         ],
         "mode": "lines",
         "type": "scattergeo"
        },
        {
         "hoverinfo": "none",
         "lat": [
          31.7917,
          37.0902,
          null
         ],
         "line": {
          "color": "rgb(187, 185, 185)",
          "width": 0.02252252252252252
         },
         "locationmode": "ISO-3",
         "lon": [
          -7.0926,
          -95.7129,
          null
         ],
         "mode": "lines",
         "type": "scattergeo"
        },
        {
         "hoverinfo": "none",
         "lat": [
          56.2639,
          60.472,
          null
         ],
         "line": {
          "color": "rgb(187, 185, 185)",
          "width": 0.1126126126126126
         },
         "locationmode": "ISO-3",
         "lon": [
          9.5018,
          8.4689,
          null
         ],
         "mode": "lines",
         "type": "scattergeo"
        },
        {
         "hoverinfo": "none",
         "lat": [
          14.4974,
          46.8182,
          null
         ],
         "line": {
          "color": "rgb(187, 185, 185)",
          "width": 0.01126126126126126
         },
         "locationmode": "ISO-3",
         "lon": [
          -14.4524,
          8.2275,
          null
         ],
         "mode": "lines",
         "type": "scattergeo"
        },
        {
         "hoverinfo": "none",
         "lat": [
          51.1657,
          49.8153,
          null
         ],
         "line": {
          "color": "rgb(187, 185, 185)",
          "width": 0.04504504504504504
         },
         "locationmode": "ISO-3",
         "lon": [
          10.4515,
          6.1296,
          null
         ],
         "mode": "lines",
         "type": "scattergeo"
        },
        {
         "hoverinfo": "none",
         "lat": [
          49.8153,
          46.8182,
          null
         ],
         "line": {
          "color": "rgb(187, 185, 185)",
          "width": 0.01126126126126126
         },
         "locationmode": "ISO-3",
         "lon": [
          6.1296,
          8.2275,
          null
         ],
         "mode": "lines",
         "type": "scattergeo"
        },
        {
         "hoverinfo": "none",
         "lat": [
          46.6034,
          49.8153,
          null
         ],
         "line": {
          "color": "rgb(187, 185, 185)",
          "width": 0.0563063063063063
         },
         "locationmode": "ISO-3",
         "lon": [
          1.8883,
          6.1296,
          null
         ],
         "mode": "lines",
         "type": "scattergeo"
        },
        {
         "hoverinfo": "none",
         "lat": [
          49.8153,
          55.3781,
          null
         ],
         "line": {
          "color": "rgb(187, 185, 185)",
          "width": 0.033783783783783786
         },
         "locationmode": "ISO-3",
         "lon": [
          6.1296,
          -3.436,
          null
         ],
         "mode": "lines",
         "type": "scattergeo"
        },
        {
         "hoverinfo": "none",
         "lat": [
          21.5218,
          61.524,
          null
         ],
         "line": {
          "color": "rgba(189, 0, 50, 0.01126126126126126)",
          "width": 0.01126126126126126
         },
         "locationmode": "ISO-3",
         "lon": [
          -77.7812,
          105.3188,
          null
         ],
         "mode": "lines",
         "type": "scattergeo"
        },
        {
         "hoverinfo": "none",
         "lat": [
          -38.4161,
          41.8719,
          null
         ],
         "line": {
          "color": "rgb(187, 185, 185)",
          "width": 0.02252252252252252
         },
         "locationmode": "ISO-3",
         "lon": [
          -63.6167,
          12.5674,
          null
         ],
         "mode": "lines",
         "type": "scattergeo"
        },
        {
         "hoverinfo": "none",
         "lat": [
          61.9241,
          46.6034,
          null
         ],
         "line": {
          "color": "rgb(187, 185, 185)",
          "width": 0.0563063063063063
         },
         "locationmode": "ISO-3",
         "lon": [
          25.7482,
          1.8883,
          null
         ],
         "mode": "lines",
         "type": "scattergeo"
        },
        {
         "hoverinfo": "none",
         "lat": [
          39.3999,
          55.3781,
          null
         ],
         "line": {
          "color": "rgb(187, 185, 185)",
          "width": 0.02252252252252252
         },
         "locationmode": "ISO-3",
         "lon": [
          -8.2245,
          -3.436,
          null
         ],
         "mode": "lines",
         "type": "scattergeo"
        },
        {
         "hoverinfo": "none",
         "lat": [
          51.9194,
          39.3999,
          null
         ],
         "line": {
          "color": "rgb(187, 185, 185)",
          "width": 0.01126126126126126
         },
         "locationmode": "ISO-3",
         "lon": [
          19.1451,
          -8.2245,
          null
         ],
         "mode": "lines",
         "type": "scattergeo"
        },
        {
         "hoverinfo": "none",
         "lat": [
          51.9194,
          55.3781,
          null
         ],
         "line": {
          "color": "rgb(187, 185, 185)",
          "width": 0.04504504504504504
         },
         "locationmode": "ISO-3",
         "lon": [
          19.1451,
          -3.436,
          null
         ],
         "mode": "lines",
         "type": "scattergeo"
        },
        {
         "hoverinfo": "none",
         "lat": [
          18.2208,
          55.3781,
          null
         ],
         "line": {
          "color": "rgb(187, 185, 185)",
          "width": 0.02252252252252252
         },
         "locationmode": "ISO-3",
         "lon": [
          -66.5901,
          -3.436,
          null
         ],
         "mode": "lines",
         "type": "scattergeo"
        },
        {
         "hoverinfo": "none",
         "lat": [
          41.8719,
          36.2048,
          null
         ],
         "line": {
          "color": "rgb(187, 185, 185)",
          "width": 0.01126126126126126
         },
         "locationmode": "ISO-3",
         "lon": [
          12.5674,
          138.2529,
          null
         ],
         "mode": "lines",
         "type": "scattergeo"
        },
        {
         "hoverinfo": "none",
         "lat": [
          36.2048,
          40.4637,
          null
         ],
         "line": {
          "color": "rgb(187, 185, 185)",
          "width": 0.01126126126126126
         },
         "locationmode": "ISO-3",
         "lon": [
          138.2529,
          -3.7492,
          null
         ],
         "mode": "lines",
         "type": "scattergeo"
        },
        {
         "hoverinfo": "none",
         "lat": [
          40.0691,
          61.524,
          null
         ],
         "line": {
          "color": "rgb(187, 185, 185)",
          "width": 0.02252252252252252
         },
         "locationmode": "ISO-3",
         "lon": [
          45.0382,
          105.3188,
          null
         ],
         "mode": "lines",
         "type": "scattergeo"
        },
        {
         "hoverinfo": "none",
         "lat": [
          61.524,
          60.1282,
          null
         ],
         "line": {
          "color": "rgb(187, 185, 185)",
          "width": 0.033783783783783786
         },
         "locationmode": "ISO-3",
         "lon": [
          105.3188,
          18.6435,
          null
         ],
         "mode": "lines",
         "type": "scattergeo"
        },
        {
         "hoverinfo": "none",
         "lat": [
          56.1304,
          52.1326,
          null
         ],
         "line": {
          "color": "rgb(187, 185, 185)",
          "width": 0.02252252252252252
         },
         "locationmode": "ISO-3",
         "lon": [
          -106.3468,
          5.2913,
          null
         ],
         "mode": "lines",
         "type": "scattergeo"
        },
        {
         "hoverinfo": "none",
         "lat": [
          36.2048,
          15.87,
          null
         ],
         "line": {
          "color": "rgb(187, 185, 185)",
          "width": 0.01126126126126126
         },
         "locationmode": "ISO-3",
         "lon": [
          138.2529,
          100.9925,
          null
         ],
         "mode": "lines",
         "type": "scattergeo"
        },
        {
         "hoverinfo": "none",
         "lat": [
          56.1304,
          31.0461,
          null
         ],
         "line": {
          "color": "rgb(187, 185, 185)",
          "width": 0.01126126126126126
         },
         "locationmode": "ISO-3",
         "lon": [
          -106.3468,
          34.8516,
          null
         ],
         "mode": "lines",
         "type": "scattergeo"
        },
        {
         "hoverinfo": "none",
         "lat": [
          46.6034,
          44.0165,
          null
         ],
         "line": {
          "color": "rgb(187, 185, 185)",
          "width": 0.07882882882882883
         },
         "locationmode": "ISO-3",
         "lon": [
          1.8883,
          21.0059,
          null
         ],
         "mode": "lines",
         "type": "scattergeo"
        },
        {
         "hoverinfo": "none",
         "lat": [
          51.1657,
          38.9637,
          null
         ],
         "line": {
          "color": "rgb(187, 185, 185)",
          "width": 0.01126126126126126
         },
         "locationmode": "ISO-3",
         "lon": [
          10.4515,
          35.2433,
          null
         ],
         "mode": "lines",
         "type": "scattergeo"
        },
        {
         "hoverinfo": "none",
         "lat": [
          49.8175,
          51.1657,
          null
         ],
         "line": {
          "color": "rgb(187, 185, 185)",
          "width": 0.09009009009009009
         },
         "locationmode": "ISO-3",
         "lon": [
          15.4729,
          10.4515,
          null
         ],
         "mode": "lines",
         "type": "scattergeo"
        },
        {
         "hoverinfo": "none",
         "lat": [
          -35.6751,
          23.6345,
          null
         ],
         "line": {
          "color": "rgb(187, 185, 185)",
          "width": 0.02252252252252252
         },
         "locationmode": "ISO-3",
         "lon": [
          -71.543,
          -102.5528,
          null
         ],
         "mode": "lines",
         "type": "scattergeo"
        },
        {
         "hoverinfo": "none",
         "lat": [
          46.6034,
          38.9637,
          null
         ],
         "line": {
          "color": "rgb(187, 185, 185)",
          "width": 0.02252252252252252
         },
         "locationmode": "ISO-3",
         "lon": [
          1.8883,
          35.2433,
          null
         ],
         "mode": "lines",
         "type": "scattergeo"
        },
        {
         "hoverinfo": "none",
         "lat": [
          38.9637,
          55.3781,
          null
         ],
         "line": {
          "color": "rgb(187, 185, 185)",
          "width": 0.01126126126126126
         },
         "locationmode": "ISO-3",
         "lon": [
          35.2433,
          -3.436,
          null
         ],
         "mode": "lines",
         "type": "scattergeo"
        },
        {
         "hoverinfo": "none",
         "lat": [
          46.8182,
          38.9637,
          null
         ],
         "line": {
          "color": "rgb(187, 185, 185)",
          "width": 0.02252252252252252
         },
         "locationmode": "ISO-3",
         "lon": [
          8.2275,
          35.2433,
          null
         ],
         "mode": "lines",
         "type": "scattergeo"
        },
        {
         "hoverinfo": "none",
         "lat": [
          35.8617,
          36.2048,
          null
         ],
         "line": {
          "color": "rgb(187, 185, 185)",
          "width": 0.01126126126126126
         },
         "locationmode": "ISO-3",
         "lon": [
          104.1954,
          138.2529,
          null
         ],
         "mode": "lines",
         "type": "scattergeo"
        },
        {
         "hoverinfo": "none",
         "lat": [
          46.6034,
          42.7087,
          null
         ],
         "line": {
          "color": "rgb(187, 185, 185)",
          "width": 0.01126126126126126
         },
         "locationmode": "ISO-3",
         "lon": [
          1.8883,
          19.3744,
          null
         ],
         "mode": "lines",
         "type": "scattergeo"
        },
        {
         "hoverinfo": "none",
         "lat": [
          -14.235,
          55.3781,
          null
         ],
         "line": {
          "color": "rgb(187, 185, 185)",
          "width": 0.01126126126126126
         },
         "locationmode": "ISO-3",
         "lon": [
          -51.9253,
          -3.436,
          null
         ],
         "mode": "lines",
         "type": "scattergeo"
        },
        {
         "hoverinfo": "none",
         "lat": [
          53.1424,
          46.8182,
          null
         ],
         "line": {
          "color": "rgb(187, 185, 185)",
          "width": 0.01126126126126126
         },
         "locationmode": "ISO-3",
         "lon": [
          -7.6921,
          8.2275,
          null
         ],
         "mode": "lines",
         "type": "scattergeo"
        },
        {
         "hoverinfo": "none",
         "lat": [
          26.8206,
          33.8869,
          null
         ],
         "line": {
          "color": "rgb(187, 185, 185)",
          "width": 0.01126126126126126
         },
         "locationmode": "ISO-3",
         "lon": [
          30.8025,
          9.5375,
          null
         ],
         "mode": "lines",
         "type": "scattergeo"
        },
        {
         "hoverinfo": "none",
         "lat": [
          60.472,
          55.3781,
          null
         ],
         "line": {
          "color": "rgb(187, 185, 185)",
          "width": 0.04504504504504504
         },
         "locationmode": "ISO-3",
         "lon": [
          8.4689,
          -3.436,
          null
         ],
         "mode": "lines",
         "type": "scattergeo"
        },
        {
         "hoverinfo": "none",
         "lat": [
          50.5039,
          55.3781,
          null
         ],
         "line": {
          "color": "rgba(28, 94, 169, 0.1126126126126126)",
          "width": 0.1126126126126126
         },
         "locationmode": "ISO-3",
         "lon": [
          4.4699,
          -3.436,
          null
         ],
         "mode": "lines",
         "type": "scattergeo"
        },
        {
         "hoverinfo": "none",
         "lat": [
          46.6034,
          39.0742,
          null
         ],
         "line": {
          "color": "rgb(187, 185, 185)",
          "width": 0.0563063063063063
         },
         "locationmode": "ISO-3",
         "lon": [
          1.8883,
          21.8243,
          null
         ],
         "mode": "lines",
         "type": "scattergeo"
        },
        {
         "hoverinfo": "none",
         "lat": [
          51.1657,
          -22.9576,
          null
         ],
         "line": {
          "color": "rgb(187, 185, 185)",
          "width": 0.01126126126126126
         },
         "locationmode": "ISO-3",
         "lon": [
          10.4515,
          18.4904,
          null
         ],
         "mode": "lines",
         "type": "scattergeo"
        },
        {
         "hoverinfo": "none",
         "lat": [
          49.8175,
          37.0902,
          null
         ],
         "line": {
          "color": "rgb(187, 185, 185)",
          "width": 0.04504504504504504
         },
         "locationmode": "ISO-3",
         "lon": [
          15.4729,
          -95.7129,
          null
         ],
         "mode": "lines",
         "type": "scattergeo"
        },
        {
         "hoverinfo": "none",
         "lat": [
          51.9194,
          37.0902,
          null
         ],
         "line": {
          "color": "rgb(187, 185, 185)",
          "width": 0.01126126126126126
         },
         "locationmode": "ISO-3",
         "lon": [
          19.1451,
          -95.7129,
          null
         ],
         "mode": "lines",
         "type": "scattergeo"
        },
        {
         "hoverinfo": "none",
         "lat": [
          -0.228,
          46.6034,
          null
         ],
         "line": {
          "color": "rgb(187, 185, 185)",
          "width": 0.01126126126126126
         },
         "locationmode": "ISO-3",
         "lon": [
          15.8277,
          1.8883,
          null
         ],
         "mode": "lines",
         "type": "scattergeo"
        },
        {
         "hoverinfo": "none",
         "lat": [
          50.5039,
          -0.228,
          null
         ],
         "line": {
          "color": "rgb(187, 185, 185)",
          "width": 0.01126126126126126
         },
         "locationmode": "ISO-3",
         "lon": [
          4.4699,
          15.8277,
          null
         ],
         "mode": "lines",
         "type": "scattergeo"
        },
        {
         "hoverinfo": "none",
         "lat": [
          35.8617,
          51.1657,
          null
         ],
         "line": {
          "color": "rgb(187, 185, 185)",
          "width": 0.01126126126126126
         },
         "locationmode": "ISO-3",
         "lon": [
          104.1954,
          10.4515,
          null
         ],
         "mode": "lines",
         "type": "scattergeo"
        },
        {
         "hoverinfo": "none",
         "lat": [
          35.8617,
          55.3781,
          null
         ],
         "line": {
          "color": "rgb(187, 185, 185)",
          "width": 0.02252252252252252
         },
         "locationmode": "ISO-3",
         "lon": [
          104.1954,
          -3.436,
          null
         ],
         "mode": "lines",
         "type": "scattergeo"
        },
        {
         "hoverinfo": "none",
         "lat": [
          26.3351,
          37.0902,
          null
         ],
         "line": {
          "color": "rgb(187, 185, 185)",
          "width": 0.01126126126126126
         },
         "locationmode": "ISO-3",
         "lon": [
          17.2283,
          -95.7129,
          null
         ],
         "mode": "lines",
         "type": "scattergeo"
        },
        {
         "hoverinfo": "none",
         "lat": [
          -14.235,
          35.9078,
          null
         ],
         "line": {
          "color": "rgb(187, 185, 185)",
          "width": 0.01126126126126126
         },
         "locationmode": "ISO-3",
         "lon": [
          -51.9253,
          127.7669,
          null
         ],
         "mode": "lines",
         "type": "scattergeo"
        },
        {
         "hoverinfo": "none",
         "lat": [
          -38.4161,
          35.9078,
          null
         ],
         "line": {
          "color": "rgb(187, 185, 185)",
          "width": 0.01126126126126126
         },
         "locationmode": "ISO-3",
         "lon": [
          -63.6167,
          127.7669,
          null
         ],
         "mode": "lines",
         "type": "scattergeo"
        },
        {
         "hoverinfo": "none",
         "lat": [
          47.166,
          55.3781,
          null
         ],
         "line": {
          "color": "rgb(187, 185, 185)",
          "width": 0.02252252252252252
         },
         "locationmode": "ISO-3",
         "lon": [
          9.5554,
          -3.436,
          null
         ],
         "mode": "lines",
         "type": "scattergeo"
        },
        {
         "hoverinfo": "none",
         "lat": [
          41.8719,
          46.1512,
          null
         ],
         "line": {
          "color": "rgb(187, 185, 185)",
          "width": 0.01126126126126126
         },
         "locationmode": "ISO-3",
         "lon": [
          12.5674,
          14.9955,
          null
         ],
         "mode": "lines",
         "type": "scattergeo"
        },
        {
         "hoverinfo": "none",
         "lat": [
          46.6034,
          46.1512,
          null
         ],
         "line": {
          "color": "rgb(187, 185, 185)",
          "width": 0.01126126126126126
         },
         "locationmode": "ISO-3",
         "lon": [
          1.8883,
          14.9955,
          null
         ],
         "mode": "lines",
         "type": "scattergeo"
        },
        {
         "hoverinfo": "none",
         "lat": [
          47.1625,
          46.8182,
          null
         ],
         "line": {
          "color": "rgb(187, 185, 185)",
          "width": 0.033783783783783786
         },
         "locationmode": "ISO-3",
         "lon": [
          19.5033,
          8.2275,
          null
         ],
         "mode": "lines",
         "type": "scattergeo"
        },
        {
         "hoverinfo": "none",
         "lat": [
          56.1304,
          40.4637,
          null
         ],
         "line": {
          "color": "rgba(28, 94, 169, 0.01126126126126126)",
          "width": 0.01126126126126126
         },
         "locationmode": "ISO-3",
         "lon": [
          -106.3468,
          -3.7492,
          null
         ],
         "mode": "lines",
         "type": "scattergeo"
        },
        {
         "hoverinfo": "none",
         "lat": [
          45.9432,
          37.0902,
          null
         ],
         "line": {
          "color": "rgb(187, 185, 185)",
          "width": 0.04504504504504504
         },
         "locationmode": "ISO-3",
         "lon": [
          24.9668,
          -95.7129,
          null
         ],
         "mode": "lines",
         "type": "scattergeo"
        },
        {
         "hoverinfo": "none",
         "lat": [
          -25.2744,
          51.1657,
          null
         ],
         "line": {
          "color": "rgba(28, 94, 169, 0.0563063063063063)",
          "width": 0.0563063063063063
         },
         "locationmode": "ISO-3",
         "lon": [
          133.7751,
          10.4515,
          null
         ],
         "mode": "lines",
         "type": "scattergeo"
        },
        {
         "hoverinfo": "none",
         "lat": [
          -25.2744,
          60.472,
          null
         ],
         "line": {
          "color": "rgb(187, 185, 185)",
          "width": 0.01126126126126126
         },
         "locationmode": "ISO-3",
         "lon": [
          133.7751,
          8.4689,
          null
         ],
         "mode": "lines",
         "type": "scattergeo"
        },
        {
         "hoverinfo": "none",
         "lat": [
          -25.2744,
          61.9241,
          null
         ],
         "line": {
          "color": "rgb(187, 185, 185)",
          "width": 0.01126126126126126
         },
         "locationmode": "ISO-3",
         "lon": [
          133.7751,
          25.7482,
          null
         ],
         "mode": "lines",
         "type": "scattergeo"
        },
        {
         "hoverinfo": "none",
         "lat": [
          56.1304,
          60.472,
          null
         ],
         "line": {
          "color": "rgb(187, 185, 185)",
          "width": 0.01126126126126126
         },
         "locationmode": "ISO-3",
         "lon": [
          -106.3468,
          8.4689,
          null
         ],
         "mode": "lines",
         "type": "scattergeo"
        },
        {
         "hoverinfo": "none",
         "lat": [
          56.1304,
          61.9241,
          null
         ],
         "line": {
          "color": "rgb(187, 185, 185)",
          "width": 0.02252252252252252
         },
         "locationmode": "ISO-3",
         "lon": [
          -106.3468,
          25.7482,
          null
         ],
         "mode": "lines",
         "type": "scattergeo"
        },
        {
         "hoverinfo": "none",
         "lat": [
          61.9241,
          60.472,
          null
         ],
         "line": {
          "color": "rgb(187, 185, 185)",
          "width": 0.02252252252252252
         },
         "locationmode": "ISO-3",
         "lon": [
          25.7482,
          8.4689,
          null
         ],
         "mode": "lines",
         "type": "scattergeo"
        },
        {
         "hoverinfo": "none",
         "lat": [
          47.166,
          37.0902,
          null
         ],
         "line": {
          "color": "rgb(187, 185, 185)",
          "width": 0.02252252252252252
         },
         "locationmode": "ISO-3",
         "lon": [
          9.5554,
          -95.7129,
          null
         ],
         "mode": "lines",
         "type": "scattergeo"
        },
        {
         "hoverinfo": "none",
         "lat": [
          45.1,
          55.3781,
          null
         ],
         "line": {
          "color": "rgba(28, 94, 169, 0.02252252252252252)",
          "width": 0.02252252252252252
         },
         "locationmode": "ISO-3",
         "lon": [
          15.2,
          -3.436,
          null
         ],
         "mode": "lines",
         "type": "scattergeo"
        },
        {
         "hoverinfo": "none",
         "lat": [
          36.2048,
          -40.9006,
          null
         ],
         "line": {
          "color": "rgb(187, 185, 185)",
          "width": 0.01126126126126126
         },
         "locationmode": "ISO-3",
         "lon": [
          138.2529,
          174.886,
          null
         ],
         "mode": "lines",
         "type": "scattergeo"
        },
        {
         "hoverinfo": "none",
         "lat": [
          -25.2744,
          36.2048,
          null
         ],
         "line": {
          "color": "rgb(187, 185, 185)",
          "width": 0.033783783783783786
         },
         "locationmode": "ISO-3",
         "lon": [
          133.7751,
          138.2529,
          null
         ],
         "mode": "lines",
         "type": "scattergeo"
        },
        {
         "hoverinfo": "none",
         "lat": [
          41.8719,
          45.9432,
          null
         ],
         "line": {
          "color": "rgb(187, 185, 185)",
          "width": 0.02252252252252252
         },
         "locationmode": "ISO-3",
         "lon": [
          12.5674,
          24.9668,
          null
         ],
         "mode": "lines",
         "type": "scattergeo"
        },
        {
         "hoverinfo": "none",
         "lat": [
          60.472,
          61.524,
          null
         ],
         "line": {
          "color": "rgb(187, 185, 185)",
          "width": 0.01126126126126126
         },
         "locationmode": "ISO-3",
         "lon": [
          8.4689,
          105.3188,
          null
         ],
         "mode": "lines",
         "type": "scattergeo"
        },
        {
         "hoverinfo": "none",
         "lat": [
          18.2208,
          40.4637,
          null
         ],
         "line": {
          "color": "rgb(187, 185, 185)",
          "width": 0.02252252252252252
         },
         "locationmode": "ISO-3",
         "lon": [
          -66.5901,
          -3.7492,
          null
         ],
         "mode": "lines",
         "type": "scattergeo"
        },
        {
         "hoverinfo": "none",
         "lat": [
          18.2208,
          37.0902,
          null
         ],
         "line": {
          "color": "rgb(187, 185, 185)",
          "width": 0.02252252252252252
         },
         "locationmode": "ISO-3",
         "lon": [
          -66.5901,
          -95.7129,
          null
         ],
         "mode": "lines",
         "type": "scattergeo"
        },
        {
         "hoverinfo": "none",
         "lat": [
          47.5162,
          56.1304,
          null
         ],
         "line": {
          "color": "rgb(187, 185, 185)",
          "width": 0.01126126126126126
         },
         "locationmode": "ISO-3",
         "lon": [
          14.5501,
          -106.3468,
          null
         ],
         "mode": "lines",
         "type": "scattergeo"
        },
        {
         "hoverinfo": "none",
         "lat": [
          51.9194,
          48.669,
          null
         ],
         "line": {
          "color": "rgb(187, 185, 185)",
          "width": 0.01126126126126126
         },
         "locationmode": "ISO-3",
         "lon": [
          19.1451,
          19.699,
          null
         ],
         "mode": "lines",
         "type": "scattergeo"
        },
        {
         "hoverinfo": "none",
         "lat": [
          56.1304,
          47.1625,
          null
         ],
         "line": {
          "color": "rgb(187, 185, 185)",
          "width": 0.01126126126126126
         },
         "locationmode": "ISO-3",
         "lon": [
          -106.3468,
          19.5033,
          null
         ],
         "mode": "lines",
         "type": "scattergeo"
        },
        {
         "hoverinfo": "none",
         "lat": [
          61.524,
          55.3781,
          null
         ],
         "line": {
          "color": "rgb(187, 185, 185)",
          "width": 0.02252252252252252
         },
         "locationmode": "ISO-3",
         "lon": [
          105.3188,
          -3.436,
          null
         ],
         "mode": "lines",
         "type": "scattergeo"
        },
        {
         "hoverinfo": "none",
         "lat": [
          21.5218,
          47.1625,
          null
         ],
         "line": {
          "color": "rgba(189, 0, 50, 0.01126126126126126)",
          "width": 0.01126126126126126
         },
         "locationmode": "ISO-3",
         "lon": [
          -77.7812,
          19.5033,
          null
         ],
         "mode": "lines",
         "type": "scattergeo"
        },
        {
         "hoverinfo": "none",
         "lat": [
          -25.2744,
          -0.7893,
          null
         ],
         "line": {
          "color": "rgb(187, 185, 185)",
          "width": 0.01126126126126126
         },
         "locationmode": "ISO-3",
         "lon": [
          133.7751,
          113.9213,
          null
         ],
         "mode": "lines",
         "type": "scattergeo"
        },
        {
         "hoverinfo": "none",
         "lat": [
          39.0742,
          37.0902,
          null
         ],
         "line": {
          "color": "rgb(187, 185, 185)",
          "width": 0.0563063063063063
         },
         "locationmode": "ISO-3",
         "lon": [
          21.8243,
          -95.7129,
          null
         ],
         "mode": "lines",
         "type": "scattergeo"
        },
        {
         "hoverinfo": "none",
         "lat": [
          61.9241,
          55.3781,
          null
         ],
         "line": {
          "color": "rgb(187, 185, 185)",
          "width": 0.02252252252252252
         },
         "locationmode": "ISO-3",
         "lon": [
          25.7482,
          -3.436,
          null
         ],
         "mode": "lines",
         "type": "scattergeo"
        },
        {
         "hoverinfo": "none",
         "lat": [
          20.5937,
          41.3775,
          null
         ],
         "line": {
          "color": "rgb(187, 185, 185)",
          "width": 0.02252252252252252
         },
         "locationmode": "ISO-3",
         "lon": [
          78.9629,
          64.5853,
          null
         ],
         "mode": "lines",
         "type": "scattergeo"
        },
        {
         "hoverinfo": "none",
         "lat": [
          20.5937,
          40.4637,
          null
         ],
         "line": {
          "color": "rgb(187, 185, 185)",
          "width": 0.01126126126126126
         },
         "locationmode": "ISO-3",
         "lon": [
          78.9629,
          -3.7492,
          null
         ],
         "mode": "lines",
         "type": "scattergeo"
        },
        {
         "hoverinfo": "none",
         "lat": [
          41.8719,
          31.7917,
          null
         ],
         "line": {
          "color": "rgb(187, 185, 185)",
          "width": 0.02252252252252252
         },
         "locationmode": "ISO-3",
         "lon": [
          12.5674,
          -7.0926,
          null
         ],
         "mode": "lines",
         "type": "scattergeo"
        },
        {
         "hoverinfo": "none",
         "lat": [
          41.8719,
          44.0165,
          null
         ],
         "line": {
          "color": "rgb(187, 185, 185)",
          "width": 0.07882882882882883
         },
         "locationmode": "ISO-3",
         "lon": [
          12.5674,
          21.0059,
          null
         ],
         "mode": "lines",
         "type": "scattergeo"
        },
        {
         "hoverinfo": "none",
         "lat": [
          50.5039,
          49.8175,
          null
         ],
         "line": {
          "color": "rgb(187, 185, 185)",
          "width": 0.01126126126126126
         },
         "locationmode": "ISO-3",
         "lon": [
          4.4699,
          15.4729,
          null
         ],
         "mode": "lines",
         "type": "scattergeo"
        },
        {
         "hoverinfo": "none",
         "lat": [
          50.5039,
          37.0902,
          null
         ],
         "line": {
          "color": "rgba(28, 94, 169, 0.04504504504504504)",
          "width": 0.04504504504504504
         },
         "locationmode": "ISO-3",
         "lon": [
          4.4699,
          -95.7129,
          null
         ],
         "mode": "lines",
         "type": "scattergeo"
        },
        {
         "hoverinfo": "none",
         "lat": [
          4.5709,
          40.4637,
          null
         ],
         "line": {
          "color": "rgb(187, 185, 185)",
          "width": 0.01126126126126126
         },
         "locationmode": "ISO-3",
         "lon": [
          -74.2973,
          -3.7492,
          null
         ],
         "mode": "lines",
         "type": "scattergeo"
        },
        {
         "hoverinfo": "none",
         "lat": [
          4.5709,
          37.0902,
          null
         ],
         "line": {
          "color": "rgb(187, 185, 185)",
          "width": 0.01126126126126126
         },
         "locationmode": "ISO-3",
         "lon": [
          -74.2973,
          -95.7129,
          null
         ],
         "mode": "lines",
         "type": "scattergeo"
        },
        {
         "hoverinfo": "none",
         "lat": [
          28.0339,
          50.5039,
          null
         ],
         "line": {
          "color": "rgb(187, 185, 185)",
          "width": 0.01126126126126126
         },
         "locationmode": "ISO-3",
         "lon": [
          1.6596,
          4.4699,
          null
         ],
         "mode": "lines",
         "type": "scattergeo"
        },
        {
         "hoverinfo": "none",
         "lat": [
          22.3193,
          1.3521,
          null
         ],
         "line": {
          "color": "rgb(187, 185, 185)",
          "width": 0.01126126126126126
         },
         "locationmode": "ISO-3",
         "lon": [
          114.1694,
          103.8198,
          null
         ],
         "mode": "lines",
         "type": "scattergeo"
        },
        {
         "hoverinfo": "none",
         "lat": [
          35.8617,
          1.3521,
          null
         ],
         "line": {
          "color": "rgb(187, 185, 185)",
          "width": 0.01126126126126126
         },
         "locationmode": "ISO-3",
         "lon": [
          104.1954,
          103.8198,
          null
         ],
         "mode": "lines",
         "type": "scattergeo"
        },
        {
         "hoverinfo": "none",
         "lat": [
          56.1304,
          46.8182,
          null
         ],
         "line": {
          "color": "rgb(187, 185, 185)",
          "width": 0.01126126126126126
         },
         "locationmode": "ISO-3",
         "lon": [
          -106.3468,
          8.2275,
          null
         ],
         "mode": "lines",
         "type": "scattergeo"
        },
        {
         "hoverinfo": "none",
         "lat": [
          41.8719,
          18.2208,
          null
         ],
         "line": {
          "color": "rgb(187, 185, 185)",
          "width": 0.01126126126126126
         },
         "locationmode": "ISO-3",
         "lon": [
          12.5674,
          -66.5901,
          null
         ],
         "mode": "lines",
         "type": "scattergeo"
        },
        {
         "hoverinfo": "none",
         "lat": [
          58.5953,
          48.3794,
          null
         ],
         "line": {
          "color": "rgb(187, 185, 185)",
          "width": 0.01126126126126126
         },
         "locationmode": "ISO-3",
         "lon": [
          25.0136,
          31.1656,
          null
         ],
         "mode": "lines",
         "type": "scattergeo"
        },
        {
         "hoverinfo": "none",
         "lat": [
          58.5953,
          51.9194,
          null
         ],
         "line": {
          "color": "rgba(189, 0, 50, 0.01126126126126126)",
          "width": 0.01126126126126126
         },
         "locationmode": "ISO-3",
         "lon": [
          25.0136,
          19.1451,
          null
         ],
         "mode": "lines",
         "type": "scattergeo"
        },
        {
         "hoverinfo": "none",
         "lat": [
          58.5953,
          61.524,
          null
         ],
         "line": {
          "color": "rgba(189, 0, 50, 0.01126126126126126)",
          "width": 0.01126126126126126
         },
         "locationmode": "ISO-3",
         "lon": [
          25.0136,
          105.3188,
          null
         ],
         "mode": "lines",
         "type": "scattergeo"
        },
        {
         "hoverinfo": "none",
         "lat": [
          41.8719,
          6.4238,
          null
         ],
         "line": {
          "color": "rgb(187, 185, 185)",
          "width": 0.02252252252252252
         },
         "locationmode": "ISO-3",
         "lon": [
          12.5674,
          -66.5897,
          null
         ],
         "mode": "lines",
         "type": "scattergeo"
        },
        {
         "hoverinfo": "none",
         "lat": [
          36.2048,
          35.9078,
          null
         ],
         "line": {
          "color": "rgb(187, 185, 185)",
          "width": 0.02252252252252252
         },
         "locationmode": "ISO-3",
         "lon": [
          138.2529,
          127.7669,
          null
         ],
         "mode": "lines",
         "type": "scattergeo"
        },
        {
         "hoverinfo": "none",
         "lat": [
          35.8617,
          23.6978,
          null
         ],
         "line": {
          "color": "rgb(187, 185, 185)",
          "width": 0.033783783783783786
         },
         "locationmode": "ISO-3",
         "lon": [
          104.1954,
          120.9605,
          null
         ],
         "mode": "lines",
         "type": "scattergeo"
        },
        {
         "hoverinfo": "none",
         "lat": [
          22.3193,
          12.8797,
          null
         ],
         "line": {
          "color": "rgb(187, 185, 185)",
          "width": 0.02252252252252252
         },
         "locationmode": "ISO-3",
         "lon": [
          114.1694,
          121.774,
          null
         ],
         "mode": "lines",
         "type": "scattergeo"
        },
        {
         "hoverinfo": "none",
         "lat": [
          56.2639,
          52.1326,
          null
         ],
         "line": {
          "color": "rgb(187, 185, 185)",
          "width": 0.02252252252252252
         },
         "locationmode": "ISO-3",
         "lon": [
          9.5018,
          5.2913,
          null
         ],
         "mode": "lines",
         "type": "scattergeo"
        },
        {
         "hoverinfo": "none",
         "lat": [
          46.6034,
          21.0079,
          null
         ],
         "line": {
          "color": "rgb(187, 185, 185)",
          "width": 0.04504504504504504
         },
         "locationmode": "ISO-3",
         "lon": [
          1.8883,
          -10.9408,
          null
         ],
         "mode": "lines",
         "type": "scattergeo"
        },
        {
         "hoverinfo": "none",
         "lat": [
          46.6034,
          20.5937,
          null
         ],
         "line": {
          "color": "rgb(187, 185, 185)",
          "width": 0.033783783783783786
         },
         "locationmode": "ISO-3",
         "lon": [
          1.8883,
          78.9629,
          null
         ],
         "mode": "lines",
         "type": "scattergeo"
        },
        {
         "hoverinfo": "none",
         "lat": [
          12.2383,
          51.1657,
          null
         ],
         "line": {
          "color": "rgb(187, 185, 185)",
          "width": 0.02252252252252252
         },
         "locationmode": "ISO-3",
         "lon": [
          -1.5616,
          10.4515,
          null
         ],
         "mode": "lines",
         "type": "scattergeo"
        },
        {
         "hoverinfo": "none",
         "lat": [
          12.2383,
          37.0902,
          null
         ],
         "line": {
          "color": "rgb(187, 185, 185)",
          "width": 0.01126126126126126
         },
         "locationmode": "ISO-3",
         "lon": [
          -1.5616,
          -95.7129,
          null
         ],
         "mode": "lines",
         "type": "scattergeo"
        },
        {
         "hoverinfo": "none",
         "lat": [
          7.9465,
          37.0902,
          null
         ],
         "line": {
          "color": "rgb(187, 185, 185)",
          "width": 0.01126126126126126
         },
         "locationmode": "ISO-3",
         "lon": [
          -1.0232,
          -95.7129,
          null
         ],
         "mode": "lines",
         "type": "scattergeo"
        },
        {
         "hoverinfo": "none",
         "lat": [
          12.2383,
          55.3781,
          null
         ],
         "line": {
          "color": "rgb(187, 185, 185)",
          "width": 0.01126126126126126
         },
         "locationmode": "ISO-3",
         "lon": [
          -1.5616,
          -3.436,
          null
         ],
         "mode": "lines",
         "type": "scattergeo"
        },
        {
         "hoverinfo": "none",
         "lat": [
          7.9465,
          55.3781,
          null
         ],
         "line": {
          "color": "rgb(187, 185, 185)",
          "width": 0.01126126126126126
         },
         "locationmode": "ISO-3",
         "lon": [
          -1.0232,
          -3.436,
          null
         ],
         "mode": "lines",
         "type": "scattergeo"
        },
        {
         "hoverinfo": "none",
         "lat": [
          12.2383,
          7.9465,
          null
         ],
         "line": {
          "color": "rgb(187, 185, 185)",
          "width": 0.01126126126126126
         },
         "locationmode": "ISO-3",
         "lon": [
          -1.5616,
          -1.0232,
          null
         ],
         "mode": "lines",
         "type": "scattergeo"
        },
        {
         "hoverinfo": "none",
         "lat": [
          46.6034,
          -30.5595,
          null
         ],
         "line": {
          "color": "rgb(187, 185, 185)",
          "width": 0.01126126126126126
         },
         "locationmode": "ISO-3",
         "lon": [
          1.8883,
          22.9375,
          null
         ],
         "mode": "lines",
         "type": "scattergeo"
        },
        {
         "hoverinfo": "none",
         "lat": [
          12.2383,
          46.6034,
          null
         ],
         "line": {
          "color": "rgb(187, 185, 185)",
          "width": 0.02252252252252252
         },
         "locationmode": "ISO-3",
         "lon": [
          -1.5616,
          1.8883,
          null
         ],
         "mode": "lines",
         "type": "scattergeo"
        },
        {
         "hoverinfo": "none",
         "lat": [
          12.2383,
          21.0079,
          null
         ],
         "line": {
          "color": "rgb(187, 185, 185)",
          "width": 0.01126126126126126
         },
         "locationmode": "ISO-3",
         "lon": [
          -1.5616,
          -10.9408,
          null
         ],
         "mode": "lines",
         "type": "scattergeo"
        },
        {
         "hoverinfo": "none",
         "lat": [
          45.9432,
          55.3781,
          null
         ],
         "line": {
          "color": "rgb(187, 185, 185)",
          "width": 0.01126126126126126
         },
         "locationmode": "ISO-3",
         "lon": [
          24.9668,
          -3.436,
          null
         ],
         "mode": "lines",
         "type": "scattergeo"
        },
        {
         "hoverinfo": "none",
         "lat": [
          56.1304,
          8.5379,
          null
         ],
         "line": {
          "color": "rgb(187, 185, 185)",
          "width": 0.01126126126126126
         },
         "locationmode": "ISO-3",
         "lon": [
          -106.3468,
          -80.7821,
          null
         ],
         "mode": "lines",
         "type": "scattergeo"
        },
        {
         "hoverinfo": "none",
         "lat": [
          41.8719,
          8.5379,
          null
         ],
         "line": {
          "color": "rgb(187, 185, 185)",
          "width": 0.01126126126126126
         },
         "locationmode": "ISO-3",
         "lon": [
          12.5674,
          -80.7821,
          null
         ],
         "mode": "lines",
         "type": "scattergeo"
        },
        {
         "hoverinfo": "none",
         "lat": [
          41.8719,
          49.8153,
          null
         ],
         "line": {
          "color": "rgb(187, 185, 185)",
          "width": 0.02252252252252252
         },
         "locationmode": "ISO-3",
         "lon": [
          12.5674,
          6.1296,
          null
         ],
         "mode": "lines",
         "type": "scattergeo"
        },
        {
         "hoverinfo": "none",
         "lat": [
          50.5039,
          49.8153,
          null
         ],
         "line": {
          "color": "rgb(187, 185, 185)",
          "width": 0.04504504504504504
         },
         "locationmode": "ISO-3",
         "lon": [
          4.4699,
          6.1296,
          null
         ],
         "mode": "lines",
         "type": "scattergeo"
        },
        {
         "hoverinfo": "none",
         "lat": [
          60.472,
          37.0902,
          null
         ],
         "line": {
          "color": "rgb(187, 185, 185)",
          "width": 0.01126126126126126
         },
         "locationmode": "ISO-3",
         "lon": [
          8.4689,
          -95.7129,
          null
         ],
         "mode": "lines",
         "type": "scattergeo"
        },
        {
         "hoverinfo": "none",
         "lat": [
          43.9159,
          51.1657,
          null
         ],
         "line": {
          "color": "rgb(187, 185, 185)",
          "width": 0.0563063063063063
         },
         "locationmode": "ISO-3",
         "lon": [
          17.6791,
          10.4515,
          null
         ],
         "mode": "lines",
         "type": "scattergeo"
        },
        {
         "hoverinfo": "none",
         "lat": [
          43.9159,
          46.6034,
          null
         ],
         "line": {
          "color": "rgb(187, 185, 185)",
          "width": 0.02252252252252252
         },
         "locationmode": "ISO-3",
         "lon": [
          17.6791,
          1.8883,
          null
         ],
         "mode": "lines",
         "type": "scattergeo"
        },
        {
         "hoverinfo": "none",
         "lat": [
          43.9159,
          32.4279,
          null
         ],
         "line": {
          "color": "rgb(187, 185, 185)",
          "width": 0.02252252252252252
         },
         "locationmode": "ISO-3",
         "lon": [
          17.6791,
          53.688,
          null
         ],
         "mode": "lines",
         "type": "scattergeo"
        },
        {
         "hoverinfo": "none",
         "lat": [
          53.1424,
          49.8153,
          null
         ],
         "line": {
          "color": "rgb(187, 185, 185)",
          "width": 0.01126126126126126
         },
         "locationmode": "ISO-3",
         "lon": [
          -7.6921,
          6.1296,
          null
         ],
         "mode": "lines",
         "type": "scattergeo"
        },
        {
         "hoverinfo": "none",
         "lat": [
          56.2639,
          53.1424,
          null
         ],
         "line": {
          "color": "rgb(187, 185, 185)",
          "width": 0.01126126126126126
         },
         "locationmode": "ISO-3",
         "lon": [
          9.5018,
          -7.6921,
          null
         ],
         "mode": "lines",
         "type": "scattergeo"
        },
        {
         "hoverinfo": "none",
         "lat": [
          46.6034,
          53.1424,
          null
         ],
         "line": {
          "color": "rgb(187, 185, 185)",
          "width": 0.02252252252252252
         },
         "locationmode": "ISO-3",
         "lon": [
          1.8883,
          -7.6921,
          null
         ],
         "mode": "lines",
         "type": "scattergeo"
        },
        {
         "hoverinfo": "none",
         "lat": [
          50.5039,
          53.1424,
          null
         ],
         "line": {
          "color": "rgb(187, 185, 185)",
          "width": 0.01126126126126126
         },
         "locationmode": "ISO-3",
         "lon": [
          4.4699,
          -7.6921,
          null
         ],
         "mode": "lines",
         "type": "scattergeo"
        },
        {
         "hoverinfo": "none",
         "lat": [
          56.2639,
          49.8153,
          null
         ],
         "line": {
          "color": "rgb(187, 185, 185)",
          "width": 0.01126126126126126
         },
         "locationmode": "ISO-3",
         "lon": [
          9.5018,
          6.1296,
          null
         ],
         "mode": "lines",
         "type": "scattergeo"
        },
        {
         "hoverinfo": "none",
         "lat": [
          50.5039,
          56.2639,
          null
         ],
         "line": {
          "color": "rgb(187, 185, 185)",
          "width": 0.01126126126126126
         },
         "locationmode": "ISO-3",
         "lon": [
          4.4699,
          9.5018,
          null
         ],
         "mode": "lines",
         "type": "scattergeo"
        },
        {
         "hoverinfo": "none",
         "lat": [
          47.1625,
          61.524,
          null
         ],
         "line": {
          "color": "rgba(189, 0, 50, 0.02252252252252252)",
          "width": 0.02252252252252252
         },
         "locationmode": "ISO-3",
         "lon": [
          19.5033,
          105.3188,
          null
         ],
         "mode": "lines",
         "type": "scattergeo"
        },
        {
         "hoverinfo": "none",
         "lat": [
          35.9078,
          37.0902,
          null
         ],
         "line": {
          "color": "rgb(187, 185, 185)",
          "width": 0.01126126126126126
         },
         "locationmode": "ISO-3",
         "lon": [
          127.7669,
          -95.7129,
          null
         ],
         "mode": "lines",
         "type": "scattergeo"
        },
        {
         "hoverinfo": "none",
         "lat": [
          42.7339,
          51.1657,
          null
         ],
         "line": {
          "color": "rgb(187, 185, 185)",
          "width": 0.02252252252252252
         },
         "locationmode": "ISO-3",
         "lon": [
          25.4858,
          10.4515,
          null
         ],
         "mode": "lines",
         "type": "scattergeo"
        },
        {
         "hoverinfo": "none",
         "lat": [
          49.8175,
          23.6345,
          null
         ],
         "line": {
          "color": "rgb(187, 185, 185)",
          "width": 0.01126126126126126
         },
         "locationmode": "ISO-3",
         "lon": [
          15.4729,
          -102.5528,
          null
         ],
         "mode": "lines",
         "type": "scattergeo"
        },
        {
         "hoverinfo": "none",
         "lat": [
          43.9159,
          56.2639,
          null
         ],
         "line": {
          "color": "rgb(187, 185, 185)",
          "width": 0.01126126126126126
         },
         "locationmode": "ISO-3",
         "lon": [
          17.6791,
          9.5018,
          null
         ],
         "mode": "lines",
         "type": "scattergeo"
        },
        {
         "hoverinfo": "none",
         "lat": [
          43.9159,
          60.1282,
          null
         ],
         "line": {
          "color": "rgb(187, 185, 185)",
          "width": 0.01126126126126126
         },
         "locationmode": "ISO-3",
         "lon": [
          17.6791,
          18.6435,
          null
         ],
         "mode": "lines",
         "type": "scattergeo"
        },
        {
         "hoverinfo": "none",
         "lat": [
          43.9159,
          52.1326,
          null
         ],
         "line": {
          "color": "rgb(187, 185, 185)",
          "width": 0.01126126126126126
         },
         "locationmode": "ISO-3",
         "lon": [
          17.6791,
          5.2913,
          null
         ],
         "mode": "lines",
         "type": "scattergeo"
        },
        {
         "hoverinfo": "none",
         "lat": [
          52.1326,
          60.1282,
          null
         ],
         "line": {
          "color": "rgb(187, 185, 185)",
          "width": 0.01126126126126126
         },
         "locationmode": "ISO-3",
         "lon": [
          5.2913,
          18.6435,
          null
         ],
         "mode": "lines",
         "type": "scattergeo"
        },
        {
         "hoverinfo": "none",
         "lat": [
          33.9391,
          32.4279,
          null
         ],
         "line": {
          "color": "rgb(187, 185, 185)",
          "width": 0.01126126126126126
         },
         "locationmode": "ISO-3",
         "lon": [
          67.71,
          53.688,
          null
         ],
         "mode": "lines",
         "type": "scattergeo"
        },
        {
         "hoverinfo": "none",
         "lat": [
          33.9391,
          46.6034,
          null
         ],
         "line": {
          "color": "rgb(187, 185, 185)",
          "width": 0.01126126126126126
         },
         "locationmode": "ISO-3",
         "lon": [
          67.71,
          1.8883,
          null
         ],
         "mode": "lines",
         "type": "scattergeo"
        },
        {
         "hoverinfo": "none",
         "lat": [
          -38.4161,
          52.1326,
          null
         ],
         "line": {
          "color": "rgb(187, 185, 185)",
          "width": 0.02252252252252252
         },
         "locationmode": "ISO-3",
         "lon": [
          -63.6167,
          5.2913,
          null
         ],
         "mode": "lines",
         "type": "scattergeo"
        },
        {
         "hoverinfo": "none",
         "lat": [
          46.6034,
          14.6415,
          null
         ],
         "line": {
          "color": "rgb(187, 185, 185)",
          "width": 0.01126126126126126
         },
         "locationmode": "ISO-3",
         "lon": [
          1.8883,
          -61.0242,
          null
         ],
         "mode": "lines",
         "type": "scattergeo"
        },
        {
         "hoverinfo": "none",
         "lat": [
          22.3193,
          23.6345,
          null
         ],
         "line": {
          "color": "rgb(187, 185, 185)",
          "width": 0.01126126126126126
         },
         "locationmode": "ISO-3",
         "lon": [
          114.1694,
          -102.5528,
          null
         ],
         "mode": "lines",
         "type": "scattergeo"
        },
        {
         "hoverinfo": "none",
         "lat": [
          56.1304,
          48.3794,
          null
         ],
         "line": {
          "color": "rgb(187, 185, 185)",
          "width": 0.01126126126126126
         },
         "locationmode": "ISO-3",
         "lon": [
          -106.3468,
          31.1656,
          null
         ],
         "mode": "lines",
         "type": "scattergeo"
        },
        {
         "hoverinfo": "none",
         "lat": [
          56.1304,
          61.524,
          null
         ],
         "line": {
          "color": "rgb(187, 185, 185)",
          "width": 0.01126126126126126
         },
         "locationmode": "ISO-3",
         "lon": [
          -106.3468,
          105.3188,
          null
         ],
         "mode": "lines",
         "type": "scattergeo"
        },
        {
         "hoverinfo": "none",
         "lat": [
          56.1304,
          60.1282,
          null
         ],
         "line": {
          "color": "rgb(187, 185, 185)",
          "width": 0.01126126126126126
         },
         "locationmode": "ISO-3",
         "lon": [
          -106.3468,
          18.6435,
          null
         ],
         "mode": "lines",
         "type": "scattergeo"
        },
        {
         "hoverinfo": "none",
         "lat": [
          60.1282,
          48.3794,
          null
         ],
         "line": {
          "color": "rgb(187, 185, 185)",
          "width": 0.01126126126126126
         },
         "locationmode": "ISO-3",
         "lon": [
          18.6435,
          31.1656,
          null
         ],
         "mode": "lines",
         "type": "scattergeo"
        },
        {
         "hoverinfo": "none",
         "lat": [
          10.6918,
          55.3781,
          null
         ],
         "line": {
          "color": "rgb(187, 185, 185)",
          "width": 0.01126126126126126
         },
         "locationmode": "ISO-3",
         "lon": [
          -61.2225,
          -3.436,
          null
         ],
         "mode": "lines",
         "type": "scattergeo"
        },
        {
         "hoverinfo": "none",
         "lat": [
          61.524,
          40.4637,
          null
         ],
         "line": {
          "color": "rgb(187, 185, 185)",
          "width": 0.01126126126126126
         },
         "locationmode": "ISO-3",
         "lon": [
          105.3188,
          -3.7492,
          null
         ],
         "mode": "lines",
         "type": "scattergeo"
        },
        {
         "hoverinfo": "none",
         "lat": [
          61.524,
          46.8182,
          null
         ],
         "line": {
          "color": "rgb(187, 185, 185)",
          "width": 0.01126126126126126
         },
         "locationmode": "ISO-3",
         "lon": [
          105.3188,
          8.2275,
          null
         ],
         "mode": "lines",
         "type": "scattergeo"
        },
        {
         "hoverinfo": "none",
         "lat": [
          41.8719,
          35.9078,
          null
         ],
         "line": {
          "color": "rgb(187, 185, 185)",
          "width": 0.01126126126126126
         },
         "locationmode": "ISO-3",
         "lon": [
          12.5674,
          127.7669,
          null
         ],
         "mode": "lines",
         "type": "scattergeo"
        },
        {
         "hoverinfo": "none",
         "lat": [
          42.7339,
          55.3781,
          null
         ],
         "line": {
          "color": "rgb(187, 185, 185)",
          "width": 0.02252252252252252
         },
         "locationmode": "ISO-3",
         "lon": [
          25.4858,
          -3.436,
          null
         ],
         "mode": "lines",
         "type": "scattergeo"
        },
        {
         "hoverinfo": "none",
         "lat": [
          46.6034,
          23.6978,
          null
         ],
         "line": {
          "color": "rgb(187, 185, 185)",
          "width": 0.04504504504504504
         },
         "locationmode": "ISO-3",
         "lon": [
          1.8883,
          120.9605,
          null
         ],
         "mode": "lines",
         "type": "scattergeo"
        },
        {
         "hoverinfo": "none",
         "lat": [
          20.5937,
          37.0902,
          null
         ],
         "line": {
          "color": "rgb(187, 185, 185)",
          "width": 0.02252252252252252
         },
         "locationmode": "ISO-3",
         "lon": [
          78.9629,
          -95.7129,
          null
         ],
         "mode": "lines",
         "type": "scattergeo"
        },
        {
         "hoverinfo": "none",
         "lat": [
          28.0339,
          41.8719,
          null
         ],
         "line": {
          "color": "rgb(187, 185, 185)",
          "width": 0.02252252252252252
         },
         "locationmode": "ISO-3",
         "lon": [
          1.6596,
          12.5674,
          null
         ],
         "mode": "lines",
         "type": "scattergeo"
        },
        {
         "hoverinfo": "none",
         "lat": [
          -35.6751,
          46.6034,
          null
         ],
         "line": {
          "color": "rgb(187, 185, 185)",
          "width": 0.033783783783783786
         },
         "locationmode": "ISO-3",
         "lon": [
          -71.543,
          1.8883,
          null
         ],
         "mode": "lines",
         "type": "scattergeo"
        },
        {
         "hoverinfo": "none",
         "lat": [
          -35.6751,
          21.5218,
          null
         ],
         "line": {
          "color": "rgb(187, 185, 185)",
          "width": 0.033783783783783786
         },
         "locationmode": "ISO-3",
         "lon": [
          -71.543,
          -77.7812,
          null
         ],
         "mode": "lines",
         "type": "scattergeo"
        },
        {
         "hoverinfo": "none",
         "lat": [
          -35.6751,
          6.4238,
          null
         ],
         "line": {
          "color": "rgb(187, 185, 185)",
          "width": 0.033783783783783786
         },
         "locationmode": "ISO-3",
         "lon": [
          -71.543,
          -66.5897,
          null
         ],
         "mode": "lines",
         "type": "scattergeo"
        },
        {
         "hoverinfo": "none",
         "lat": [
          21.5218,
          46.6034,
          null
         ],
         "line": {
          "color": "rgb(187, 185, 185)",
          "width": 0.033783783783783786
         },
         "locationmode": "ISO-3",
         "lon": [
          -77.7812,
          1.8883,
          null
         ],
         "mode": "lines",
         "type": "scattergeo"
        },
        {
         "hoverinfo": "none",
         "lat": [
          21.5218,
          6.4238,
          null
         ],
         "line": {
          "color": "rgb(187, 185, 185)",
          "width": 0.033783783783783786
         },
         "locationmode": "ISO-3",
         "lon": [
          -77.7812,
          -66.5897,
          null
         ],
         "mode": "lines",
         "type": "scattergeo"
        },
        {
         "hoverinfo": "none",
         "lat": [
          43.9159,
          37.0902,
          null
         ],
         "line": {
          "color": "rgb(187, 185, 185)",
          "width": 0.02252252252252252
         },
         "locationmode": "ISO-3",
         "lon": [
          17.6791,
          -95.7129,
          null
         ],
         "mode": "lines",
         "type": "scattergeo"
        },
        {
         "hoverinfo": "none",
         "lat": [
          43.9159,
          45.1,
          null
         ],
         "line": {
          "color": "rgb(187, 185, 185)",
          "width": 0.02252252252252252
         },
         "locationmode": "ISO-3",
         "lon": [
          17.6791,
          15.2,
          null
         ],
         "mode": "lines",
         "type": "scattergeo"
        },
        {
         "hoverinfo": "none",
         "lat": [
          45.1,
          44.0165,
          null
         ],
         "line": {
          "color": "rgb(187, 185, 185)",
          "width": 0.04504504504504504
         },
         "locationmode": "ISO-3",
         "lon": [
          15.2,
          21.0059,
          null
         ],
         "mode": "lines",
         "type": "scattergeo"
        },
        {
         "hoverinfo": "none",
         "lat": [
          61.9241,
          41.8719,
          null
         ],
         "line": {
          "color": "rgb(187, 185, 185)",
          "width": 0.01126126126126126
         },
         "locationmode": "ISO-3",
         "lon": [
          25.7482,
          12.5674,
          null
         ],
         "mode": "lines",
         "type": "scattergeo"
        },
        {
         "hoverinfo": "none",
         "lat": [
          64.9631,
          41.8719,
          null
         ],
         "line": {
          "color": "rgb(187, 185, 185)",
          "width": 0.01126126126126126
         },
         "locationmode": "ISO-3",
         "lon": [
          -19.0208,
          12.5674,
          null
         ],
         "mode": "lines",
         "type": "scattergeo"
        },
        {
         "hoverinfo": "none",
         "lat": [
          41.8719,
          60.472,
          null
         ],
         "line": {
          "color": "rgb(187, 185, 185)",
          "width": 0.01126126126126126
         },
         "locationmode": "ISO-3",
         "lon": [
          12.5674,
          8.4689,
          null
         ],
         "mode": "lines",
         "type": "scattergeo"
        },
        {
         "hoverinfo": "none",
         "lat": [
          46.6034,
          60.472,
          null
         ],
         "line": {
          "color": "rgb(187, 185, 185)",
          "width": 0.02252252252252252
         },
         "locationmode": "ISO-3",
         "lon": [
          1.8883,
          8.4689,
          null
         ],
         "mode": "lines",
         "type": "scattergeo"
        },
        {
         "hoverinfo": "none",
         "lat": [
          51.1657,
          31.0461,
          null
         ],
         "line": {
          "color": "rgb(187, 185, 185)",
          "width": 0.033783783783783786
         },
         "locationmode": "ISO-3",
         "lon": [
          10.4515,
          34.8516,
          null
         ],
         "mode": "lines",
         "type": "scattergeo"
        },
        {
         "hoverinfo": "none",
         "lat": [
          9.7489,
          60.1282,
          null
         ],
         "line": {
          "color": "rgb(187, 185, 185)",
          "width": 0.01126126126126126
         },
         "locationmode": "ISO-3",
         "lon": [
          -83.7534,
          18.6435,
          null
         ],
         "mode": "lines",
         "type": "scattergeo"
        },
        {
         "hoverinfo": "none",
         "lat": [
          49.8153,
          51.9194,
          null
         ],
         "line": {
          "color": "rgb(187, 185, 185)",
          "width": 0.01126126126126126
         },
         "locationmode": "ISO-3",
         "lon": [
          6.1296,
          19.1451,
          null
         ],
         "mode": "lines",
         "type": "scattergeo"
        },
        {
         "hoverinfo": "none",
         "lat": [
          31.0461,
          49.8153,
          null
         ],
         "line": {
          "color": "rgb(187, 185, 185)",
          "width": 0.01126126126126126
         },
         "locationmode": "ISO-3",
         "lon": [
          34.8516,
          6.1296,
          null
         ],
         "mode": "lines",
         "type": "scattergeo"
        },
        {
         "hoverinfo": "none",
         "lat": [
          31.0461,
          51.9194,
          null
         ],
         "line": {
          "color": "rgb(187, 185, 185)",
          "width": 0.01126126126126126
         },
         "locationmode": "ISO-3",
         "lon": [
          34.8516,
          19.1451,
          null
         ],
         "mode": "lines",
         "type": "scattergeo"
        },
        {
         "hoverinfo": "none",
         "lat": [
          50.5039,
          51.9194,
          null
         ],
         "line": {
          "color": "rgb(187, 185, 185)",
          "width": 0.01126126126126126
         },
         "locationmode": "ISO-3",
         "lon": [
          4.4699,
          19.1451,
          null
         ],
         "mode": "lines",
         "type": "scattergeo"
        },
        {
         "hoverinfo": "none",
         "lat": [
          50.5039,
          31.0461,
          null
         ],
         "line": {
          "color": "rgb(187, 185, 185)",
          "width": 0.01126126126126126
         },
         "locationmode": "ISO-3",
         "lon": [
          4.4699,
          34.8516,
          null
         ],
         "mode": "lines",
         "type": "scattergeo"
        },
        {
         "hoverinfo": "none",
         "lat": [
          51.1657,
          55.1694,
          null
         ],
         "line": {
          "color": "rgb(187, 185, 185)",
          "width": 0.01126126126126126
         },
         "locationmode": "ISO-3",
         "lon": [
          10.4515,
          23.8813,
          null
         ],
         "mode": "lines",
         "type": "scattergeo"
        },
        {
         "hoverinfo": "none",
         "lat": [
          53.1424,
          36.2048,
          null
         ],
         "line": {
          "color": "rgb(187, 185, 185)",
          "width": 0.01126126126126126
         },
         "locationmode": "ISO-3",
         "lon": [
          -7.6921,
          138.2529,
          null
         ],
         "mode": "lines",
         "type": "scattergeo"
        },
        {
         "hoverinfo": "none",
         "lat": [
          -38.4161,
          56.1304,
          null
         ],
         "line": {
          "color": "rgb(187, 185, 185)",
          "width": 0.01126126126126126
         },
         "locationmode": "ISO-3",
         "lon": [
          -63.6167,
          -106.3468,
          null
         ],
         "mode": "lines",
         "type": "scattergeo"
        },
        {
         "hoverinfo": "none",
         "lat": [
          56.1304,
          44.0165,
          null
         ],
         "line": {
          "color": "rgb(187, 185, 185)",
          "width": 0.01126126126126126
         },
         "locationmode": "ISO-3",
         "lon": [
          -106.3468,
          21.0059,
          null
         ],
         "mode": "lines",
         "type": "scattergeo"
        },
        {
         "hoverinfo": "none",
         "lat": [
          60.472,
          51.9194,
          null
         ],
         "line": {
          "color": "rgb(187, 185, 185)",
          "width": 0.01126126126126126
         },
         "locationmode": "ISO-3",
         "lon": [
          8.4689,
          19.1451,
          null
         ],
         "mode": "lines",
         "type": "scattergeo"
        },
        {
         "hoverinfo": "none",
         "lat": [
          45.1,
          47.1625,
          null
         ],
         "line": {
          "color": "rgb(187, 185, 185)",
          "width": 0.01126126126126126
         },
         "locationmode": "ISO-3",
         "lon": [
          15.2,
          19.5033,
          null
         ],
         "mode": "lines",
         "type": "scattergeo"
        },
        {
         "hoverinfo": "none",
         "lat": [
          43.9159,
          47.1625,
          null
         ],
         "line": {
          "color": "rgb(187, 185, 185)",
          "width": 0.01126126126126126
         },
         "locationmode": "ISO-3",
         "lon": [
          17.6791,
          19.5033,
          null
         ],
         "mode": "lines",
         "type": "scattergeo"
        },
        {
         "hoverinfo": "none",
         "lat": [
          41.2044,
          61.524,
          null
         ],
         "line": {
          "color": "rgb(187, 185, 185)",
          "width": 0.01126126126126126
         },
         "locationmode": "ISO-3",
         "lon": [
          74.7661,
          105.3188,
          null
         ],
         "mode": "lines",
         "type": "scattergeo"
        },
        {
         "hoverinfo": "none",
         "lat": [
          8.5379,
          40.4637,
          null
         ],
         "line": {
          "color": "rgb(187, 185, 185)",
          "width": 0.02252252252252252
         },
         "locationmode": "ISO-3",
         "lon": [
          -80.7821,
          -3.7492,
          null
         ],
         "mode": "lines",
         "type": "scattergeo"
        },
        {
         "hoverinfo": "none",
         "lat": [
          -22.3285,
          -30.5595,
          null
         ],
         "line": {
          "color": "rgb(187, 185, 185)",
          "width": 0.02252252252252252
         },
         "locationmode": "ISO-3",
         "lon": [
          24.6849,
          22.9375,
          null
         ],
         "mode": "lines",
         "type": "scattergeo"
        },
        {
         "hoverinfo": "none",
         "lat": [
          -22.3285,
          37.0902,
          null
         ],
         "line": {
          "color": "rgb(187, 185, 185)",
          "width": 0.01126126126126126
         },
         "locationmode": "ISO-3",
         "lon": [
          24.6849,
          -95.7129,
          null
         ],
         "mode": "lines",
         "type": "scattergeo"
        },
        {
         "hoverinfo": "none",
         "lat": [
          46.6034,
          9.9456,
          null
         ],
         "line": {
          "color": "rgb(187, 185, 185)",
          "width": 0.01126126126126126
         },
         "locationmode": "ISO-3",
         "lon": [
          1.8883,
          -9.6966,
          null
         ],
         "mode": "lines",
         "type": "scattergeo"
        },
        {
         "hoverinfo": "none",
         "lat": [
          -25.2744,
          52.1326,
          null
         ],
         "line": {
          "color": "rgb(187, 185, 185)",
          "width": 0.01126126126126126
         },
         "locationmode": "ISO-3",
         "lon": [
          133.7751,
          5.2913,
          null
         ],
         "mode": "lines",
         "type": "scattergeo"
        },
        {
         "hoverinfo": "none",
         "lat": [
          36.2048,
          52.1326,
          null
         ],
         "line": {
          "color": "rgb(187, 185, 185)",
          "width": 0.01126126126126126
         },
         "locationmode": "ISO-3",
         "lon": [
          138.2529,
          5.2913,
          null
         ],
         "mode": "lines",
         "type": "scattergeo"
        },
        {
         "hoverinfo": "none",
         "lat": [
          39.3999,
          37.0902,
          null
         ],
         "line": {
          "color": "rgb(187, 185, 185)",
          "width": 0.02252252252252252
         },
         "locationmode": "ISO-3",
         "lon": [
          -8.2245,
          -95.7129,
          null
         ],
         "mode": "lines",
         "type": "scattergeo"
        },
        {
         "hoverinfo": "none",
         "lat": [
          56.2639,
          23.6345,
          null
         ],
         "line": {
          "color": "rgb(187, 185, 185)",
          "width": 0.01126126126126126
         },
         "locationmode": "ISO-3",
         "lon": [
          9.5018,
          -102.5528,
          null
         ],
         "mode": "lines",
         "type": "scattergeo"
        },
        {
         "hoverinfo": "none",
         "lat": [
          35.8617,
          41.8719,
          null
         ],
         "line": {
          "color": "rgb(187, 185, 185)",
          "width": 0.01126126126126126
         },
         "locationmode": "ISO-3",
         "lon": [
          104.1954,
          12.5674,
          null
         ],
         "mode": "lines",
         "type": "scattergeo"
        },
        {
         "hoverinfo": "none",
         "lat": [
          48.0196,
          61.524,
          null
         ],
         "line": {
          "color": "rgb(187, 185, 185)",
          "width": 0.01126126126126126
         },
         "locationmode": "ISO-3",
         "lon": [
          66.9237,
          105.3188,
          null
         ],
         "mode": "lines",
         "type": "scattergeo"
        },
        {
         "hoverinfo": "none",
         "lat": [
          55.3781,
          14.0583,
          null
         ],
         "line": {
          "color": "rgb(187, 185, 185)",
          "width": 0.01126126126126126
         },
         "locationmode": "ISO-3",
         "lon": [
          -3.436,
          108.2772,
          null
         ],
         "mode": "lines",
         "type": "scattergeo"
        },
        {
         "hoverinfo": "none",
         "lat": [
          32.4279,
          37.0902,
          null
         ],
         "line": {
          "color": "rgb(187, 185, 185)",
          "width": 0.01126126126126126
         },
         "locationmode": "ISO-3",
         "lon": [
          53.688,
          -95.7129,
          null
         ],
         "mode": "lines",
         "type": "scattergeo"
        },
        {
         "hoverinfo": "none",
         "lat": [
          31.0461,
          46.8182,
          null
         ],
         "line": {
          "color": "rgb(187, 185, 185)",
          "width": 0.01126126126126126
         },
         "locationmode": "ISO-3",
         "lon": [
          34.8516,
          8.2275,
          null
         ],
         "mode": "lines",
         "type": "scattergeo"
        },
        {
         "hoverinfo": "none",
         "lat": [
          46.6034,
          -40.9006,
          null
         ],
         "line": {
          "color": "rgb(187, 185, 185)",
          "width": 0.01126126126126126
         },
         "locationmode": "ISO-3",
         "lon": [
          1.8883,
          174.886,
          null
         ],
         "mode": "lines",
         "type": "scattergeo"
        },
        {
         "hoverinfo": "none",
         "lat": [
          37.0902,
          -19.0154,
          null
         ],
         "line": {
          "color": "rgb(187, 185, 185)",
          "width": 0.01126126126126126
         },
         "locationmode": "ISO-3",
         "lon": [
          -95.7129,
          29.1549,
          null
         ],
         "mode": "lines",
         "type": "scattergeo"
        },
        {
         "hoverinfo": "none",
         "lat": [
          42.7339,
          41.8719,
          null
         ],
         "line": {
          "color": "rgb(187, 185, 185)",
          "width": 0.01126126126126126
         },
         "locationmode": "ISO-3",
         "lon": [
          25.4858,
          12.5674,
          null
         ],
         "mode": "lines",
         "type": "scattergeo"
        },
        {
         "hoverinfo": "none",
         "lat": [
          -25.2744,
          15.87,
          null
         ],
         "line": {
          "color": "rgb(187, 185, 185)",
          "width": 0.01126126126126126
         },
         "locationmode": "ISO-3",
         "lon": [
          133.7751,
          100.9925,
          null
         ],
         "mode": "lines",
         "type": "scattergeo"
        },
        {
         "hoverinfo": "none",
         "lat": [
          53.1424,
          41.8719,
          null
         ],
         "line": {
          "color": "rgb(187, 185, 185)",
          "width": 0.01126126126126126
         },
         "locationmode": "ISO-3",
         "lon": [
          -7.6921,
          12.5674,
          null
         ],
         "mode": "lines",
         "type": "scattergeo"
        },
        {
         "hoverinfo": "none",
         "lat": [
          41.8719,
          12.8797,
          null
         ],
         "line": {
          "color": "rgb(187, 185, 185)",
          "width": 0.01126126126126126
         },
         "locationmode": "ISO-3",
         "lon": [
          12.5674,
          121.774,
          null
         ],
         "mode": "lines",
         "type": "scattergeo"
        },
        {
         "hoverinfo": "none",
         "lat": [
          47.1625,
          41.8719,
          null
         ],
         "line": {
          "color": "rgb(187, 185, 185)",
          "width": 0.01126126126126126
         },
         "locationmode": "ISO-3",
         "lon": [
          19.5033,
          12.5674,
          null
         ],
         "mode": "lines",
         "type": "scattergeo"
        },
        {
         "hoverinfo": "none",
         "lat": [
          51.1657,
          48.669,
          null
         ],
         "line": {
          "color": "rgb(187, 185, 185)",
          "width": 0.01126126126126126
         },
         "locationmode": "ISO-3",
         "lon": [
          10.4515,
          19.699,
          null
         ],
         "mode": "lines",
         "type": "scattergeo"
        },
        {
         "hoverinfo": "none",
         "lat": [
          49.8175,
          49.8175,
          null
         ],
         "line": {
          "color": "rgb(187, 185, 185)",
          "width": 0.01126126126126126
         },
         "locationmode": "ISO-3",
         "lon": [
          15.4729,
          15.4729,
          null
         ],
         "mode": "lines",
         "type": "scattergeo"
        },
        {
         "hoverinfo": "none",
         "lat": [
          -25.2744,
          12.8797,
          null
         ],
         "line": {
          "color": "rgb(187, 185, 185)",
          "width": 0.01126126126126126
         },
         "locationmode": "ISO-3",
         "lon": [
          133.7751,
          121.774,
          null
         ],
         "mode": "lines",
         "type": "scattergeo"
        },
        {
         "hoverinfo": "none",
         "lat": [
          52.1326,
          39.3999,
          null
         ],
         "line": {
          "color": "rgb(187, 185, 185)",
          "width": 0.02252252252252252
         },
         "locationmode": "ISO-3",
         "lon": [
          5.2913,
          -8.2245,
          null
         ],
         "mode": "lines",
         "type": "scattergeo"
        },
        {
         "hoverinfo": "none",
         "lat": [
          46.6034,
          8.5379,
          null
         ],
         "line": {
          "color": "rgb(187, 185, 185)",
          "width": 0.01126126126126126
         },
         "locationmode": "ISO-3",
         "lon": [
          1.8883,
          -80.7821,
          null
         ],
         "mode": "lines",
         "type": "scattergeo"
        },
        {
         "hoverinfo": "none",
         "lat": [
          49.8175,
          61.524,
          null
         ],
         "line": {
          "color": "rgba(189, 0, 50, 0.01126126126126126)",
          "width": 0.01126126126126126
         },
         "locationmode": "ISO-3",
         "lon": [
          15.4729,
          105.3188,
          null
         ],
         "mode": "lines",
         "type": "scattergeo"
        },
        {
         "hoverinfo": "none",
         "lat": [
          49.8175,
          45.9432,
          null
         ],
         "line": {
          "color": "rgb(187, 185, 185)",
          "width": 0.01126126126126126
         },
         "locationmode": "ISO-3",
         "lon": [
          15.4729,
          24.9668,
          null
         ],
         "mode": "lines",
         "type": "scattergeo"
        },
        {
         "hoverinfo": "none",
         "lat": [
          45.9432,
          61.524,
          null
         ],
         "line": {
          "color": "rgb(187, 185, 185)",
          "width": 0.01126126126126126
         },
         "locationmode": "ISO-3",
         "lon": [
          24.9668,
          105.3188,
          null
         ],
         "mode": "lines",
         "type": "scattergeo"
        },
        {
         "hoverinfo": "none",
         "lat": [
          39.0742,
          46.8182,
          null
         ],
         "line": {
          "color": "rgb(187, 185, 185)",
          "width": 0.01126126126126126
         },
         "locationmode": "ISO-3",
         "lon": [
          21.8243,
          8.2275,
          null
         ],
         "mode": "lines",
         "type": "scattergeo"
        },
        {
         "hoverinfo": "none",
         "lat": [
          45.1,
          51.9194,
          null
         ],
         "line": {
          "color": "rgb(187, 185, 185)",
          "width": 0.01126126126126126
         },
         "locationmode": "ISO-3",
         "lon": [
          15.2,
          19.1451,
          null
         ],
         "mode": "lines",
         "type": "scattergeo"
        },
        {
         "hoverinfo": "none",
         "lat": [
          56.1304,
          39.3999,
          null
         ],
         "line": {
          "color": "rgb(187, 185, 185)",
          "width": 0.01126126126126126
         },
         "locationmode": "ISO-3",
         "lon": [
          -106.3468,
          -8.2245,
          null
         ],
         "mode": "lines",
         "type": "scattergeo"
        },
        {
         "hoverinfo": "none",
         "lat": [
          61.9241,
          39.3999,
          null
         ],
         "line": {
          "color": "rgb(187, 185, 185)",
          "width": 0.01126126126126126
         },
         "locationmode": "ISO-3",
         "lon": [
          25.7482,
          -8.2245,
          null
         ],
         "mode": "lines",
         "type": "scattergeo"
        },
        {
         "hoverinfo": "none",
         "lat": [
          61.9241,
          52.1326,
          null
         ],
         "line": {
          "color": "rgb(187, 185, 185)",
          "width": 0.01126126126126126
         },
         "locationmode": "ISO-3",
         "lon": [
          25.7482,
          5.2913,
          null
         ],
         "mode": "lines",
         "type": "scattergeo"
        },
        {
         "hoverinfo": "none",
         "lat": [
          22.3193,
          15.87,
          null
         ],
         "line": {
          "color": "rgb(187, 185, 185)",
          "width": 0.01126126126126126
         },
         "locationmode": "ISO-3",
         "lon": [
          114.1694,
          100.9925,
          null
         ],
         "mode": "lines",
         "type": "scattergeo"
        },
        {
         "hoverinfo": "none",
         "lat": [
          35.9078,
          15.87,
          null
         ],
         "line": {
          "color": "rgb(187, 185, 185)",
          "width": 0.01126126126126126
         },
         "locationmode": "ISO-3",
         "lon": [
          127.7669,
          100.9925,
          null
         ],
         "mode": "lines",
         "type": "scattergeo"
        },
        {
         "hoverinfo": "none",
         "lat": [
          51.9194,
          46.8182,
          null
         ],
         "line": {
          "color": "rgb(187, 185, 185)",
          "width": 0.01126126126126126
         },
         "locationmode": "ISO-3",
         "lon": [
          19.1451,
          8.2275,
          null
         ],
         "mode": "lines",
         "type": "scattergeo"
        },
        {
         "hoverinfo": "none",
         "lat": [
          25.0343,
          46.6034,
          null
         ],
         "line": {
          "color": "rgb(187, 185, 185)",
          "width": 0.01126126126126126
         },
         "locationmode": "ISO-3",
         "lon": [
          -77.3963,
          1.8883,
          null
         ],
         "mode": "lines",
         "type": "scattergeo"
        },
        {
         "hoverinfo": "none",
         "lat": [
          25.0343,
          55.3781,
          null
         ],
         "line": {
          "color": "rgb(187, 185, 185)",
          "width": 0.01126126126126126
         },
         "locationmode": "ISO-3",
         "lon": [
          -77.3963,
          -3.436,
          null
         ],
         "mode": "lines",
         "type": "scattergeo"
        },
        {
         "hoverinfo": "none",
         "lat": [
          25.0343,
          37.0902,
          null
         ],
         "line": {
          "color": "rgb(187, 185, 185)",
          "width": 0.01126126126126126
         },
         "locationmode": "ISO-3",
         "lon": [
          -77.3963,
          -95.7129,
          null
         ],
         "mode": "lines",
         "type": "scattergeo"
        },
        {
         "hoverinfo": "none",
         "lat": [
          43.9159,
          55.3781,
          null
         ],
         "line": {
          "color": "rgb(187, 185, 185)",
          "width": 0.01126126126126126
         },
         "locationmode": "ISO-3",
         "lon": [
          17.6791,
          -3.436,
          null
         ],
         "mode": "lines",
         "type": "scattergeo"
        },
        {
         "hoverinfo": "none",
         "lat": [
          46.6034,
          -6.3149,
          null
         ],
         "line": {
          "color": "rgb(187, 185, 185)",
          "width": 0.01126126126126126
         },
         "locationmode": "ISO-3",
         "lon": [
          1.8883,
          143.9555,
          null
         ],
         "mode": "lines",
         "type": "scattergeo"
        },
        {
         "hoverinfo": "none",
         "lat": [
          -6.3149,
          55.3781,
          null
         ],
         "line": {
          "color": "rgb(187, 185, 185)",
          "width": 0.01126126126126126
         },
         "locationmode": "ISO-3",
         "lon": [
          143.9555,
          -3.436,
          null
         ],
         "mode": "lines",
         "type": "scattergeo"
        },
        {
         "hoverinfo": "none",
         "lat": [
          50.5039,
          -6.3149,
          null
         ],
         "line": {
          "color": "rgb(187, 185, 185)",
          "width": 0.01126126126126126
         },
         "locationmode": "ISO-3",
         "lon": [
          4.4699,
          143.9555,
          null
         ],
         "mode": "lines",
         "type": "scattergeo"
        },
        {
         "hoverinfo": "none",
         "lat": [
          21.5218,
          23.6345,
          null
         ],
         "line": {
          "color": "rgb(187, 185, 185)",
          "width": 0.01126126126126126
         },
         "locationmode": "ISO-3",
         "lon": [
          -77.7812,
          -102.5528,
          null
         ],
         "mode": "lines",
         "type": "scattergeo"
        },
        {
         "hoverinfo": "none",
         "lat": [
          26.8206,
          46.6034,
          null
         ],
         "line": {
          "color": "rgb(187, 185, 185)",
          "width": 0.01126126126126126
         },
         "locationmode": "ISO-3",
         "lon": [
          30.8025,
          1.8883,
          null
         ],
         "mode": "lines",
         "type": "scattergeo"
        },
        {
         "hoverinfo": "none",
         "lat": [
          46.6034,
          31.7917,
          null
         ],
         "line": {
          "color": "rgb(187, 185, 185)",
          "width": 0.02252252252252252
         },
         "locationmode": "ISO-3",
         "lon": [
          1.8883,
          -7.0926,
          null
         ],
         "mode": "lines",
         "type": "scattergeo"
        },
        {
         "hoverinfo": "none",
         "lat": [
          20.5937,
          61.524,
          null
         ],
         "line": {
          "color": "rgba(189, 0, 50, 0.01126126126126126)",
          "width": 0.01126126126126126
         },
         "locationmode": "ISO-3",
         "lon": [
          78.9629,
          105.3188,
          null
         ],
         "mode": "lines",
         "type": "scattergeo"
        },
        {
         "hoverinfo": "none",
         "lat": [
          49.8175,
          47.1625,
          null
         ],
         "line": {
          "color": "rgba(189, 0, 50, 0.01126126126126126)",
          "width": 0.01126126126126126
         },
         "locationmode": "ISO-3",
         "lon": [
          15.4729,
          19.5033,
          null
         ],
         "mode": "lines",
         "type": "scattergeo"
        },
        {
         "hoverinfo": "none",
         "lat": [
          49.8175,
          44.0165,
          null
         ],
         "line": {
          "color": "rgba(189, 0, 50, 0.01126126126126126)",
          "width": 0.01126126126126126
         },
         "locationmode": "ISO-3",
         "lon": [
          15.4729,
          21.0059,
          null
         ],
         "mode": "lines",
         "type": "scattergeo"
        },
        {
         "hoverinfo": "none",
         "lat": [
          -1.8312,
          37.0902,
          null
         ],
         "line": {
          "color": "rgb(187, 185, 185)",
          "width": 0.01126126126126126
         },
         "locationmode": "ISO-3",
         "lon": [
          -78.1834,
          -95.7129,
          null
         ],
         "mode": "lines",
         "type": "scattergeo"
        },
        {
         "hoverinfo": "none",
         "lat": [
          55.1694,
          61.524,
          null
         ],
         "line": {
          "color": "rgba(189, 0, 50, 0.01126126126126126)",
          "width": 0.01126126126126126
         },
         "locationmode": "ISO-3",
         "lon": [
          23.8813,
          105.3188,
          null
         ],
         "mode": "lines",
         "type": "scattergeo"
        },
        {
         "hoverinfo": "none",
         "lat": [
          51.1657,
          31.9522,
          null
         ],
         "line": {
          "color": "rgb(187, 185, 185)",
          "width": 0.01126126126126126
         },
         "locationmode": "ISO-3",
         "lon": [
          10.4515,
          35.2332,
          null
         ],
         "mode": "lines",
         "type": "scattergeo"
        },
        {
         "hoverinfo": "none",
         "lat": [
          46.6034,
          31.9522,
          null
         ],
         "line": {
          "color": "rgb(187, 185, 185)",
          "width": 0.01126126126126126
         },
         "locationmode": "ISO-3",
         "lon": [
          1.8883,
          35.2332,
          null
         ],
         "mode": "lines",
         "type": "scattergeo"
        },
        {
         "hoverinfo": "none",
         "lat": [
          50.5039,
          31.9522,
          null
         ],
         "line": {
          "color": "rgb(187, 185, 185)",
          "width": 0.01126126126126126
         },
         "locationmode": "ISO-3",
         "lon": [
          4.4699,
          35.2332,
          null
         ],
         "mode": "lines",
         "type": "scattergeo"
        },
        {
         "hoverinfo": "none",
         "lat": [
          -35.6751,
          37.0902,
          null
         ],
         "line": {
          "color": "rgb(187, 185, 185)",
          "width": 0.01126126126126126
         },
         "locationmode": "ISO-3",
         "lon": [
          -71.543,
          -95.7129,
          null
         ],
         "mode": "lines",
         "type": "scattergeo"
        },
        {
         "hoverinfo": "none",
         "lat": [
          22.3193,
          40.4637,
          null
         ],
         "line": {
          "color": "rgb(187, 185, 185)",
          "width": 0.01126126126126126
         },
         "locationmode": "ISO-3",
         "lon": [
          114.1694,
          -3.7492,
          null
         ],
         "mode": "lines",
         "type": "scattergeo"
        },
        {
         "hoverinfo": "none",
         "lat": [
          41.8719,
          48.3794,
          null
         ],
         "line": {
          "color": "rgb(187, 185, 185)",
          "width": 0.01126126126126126
         },
         "locationmode": "ISO-3",
         "lon": [
          12.5674,
          31.1656,
          null
         ],
         "mode": "lines",
         "type": "scattergeo"
        },
        {
         "hoverinfo": "none",
         "lat": [
          51.1657,
          48.3794,
          null
         ],
         "line": {
          "color": "rgb(187, 185, 185)",
          "width": 0.01126126126126126
         },
         "locationmode": "ISO-3",
         "lon": [
          10.4515,
          31.1656,
          null
         ],
         "mode": "lines",
         "type": "scattergeo"
        },
        {
         "hoverinfo": "none",
         "lat": [
          51.1657,
          31.7917,
          null
         ],
         "line": {
          "color": "rgb(187, 185, 185)",
          "width": 0.01126126126126126
         },
         "locationmode": "ISO-3",
         "lon": [
          10.4515,
          -7.0926,
          null
         ],
         "mode": "lines",
         "type": "scattergeo"
        },
        {
         "hoverinfo": "none",
         "lat": [
          47.5162,
          48.3794,
          null
         ],
         "line": {
          "color": "rgb(187, 185, 185)",
          "width": 0.01126126126126126
         },
         "locationmode": "ISO-3",
         "lon": [
          14.5501,
          31.1656,
          null
         ],
         "mode": "lines",
         "type": "scattergeo"
        },
        {
         "hoverinfo": "none",
         "lat": [
          47.5162,
          31.7917,
          null
         ],
         "line": {
          "color": "rgb(187, 185, 185)",
          "width": 0.01126126126126126
         },
         "locationmode": "ISO-3",
         "lon": [
          14.5501,
          -7.0926,
          null
         ],
         "mode": "lines",
         "type": "scattergeo"
        },
        {
         "hoverinfo": "none",
         "lat": [
          46.6034,
          48.3794,
          null
         ],
         "line": {
          "color": "rgb(187, 185, 185)",
          "width": 0.01126126126126126
         },
         "locationmode": "ISO-3",
         "lon": [
          1.8883,
          31.1656,
          null
         ],
         "mode": "lines",
         "type": "scattergeo"
        },
        {
         "hoverinfo": "none",
         "lat": [
          31.7917,
          48.3794,
          null
         ],
         "line": {
          "color": "rgb(187, 185, 185)",
          "width": 0.01126126126126126
         },
         "locationmode": "ISO-3",
         "lon": [
          -7.0926,
          31.1656,
          null
         ],
         "mode": "lines",
         "type": "scattergeo"
        },
        {
         "hoverinfo": "none",
         "lat": [
          51.1657,
          17.5707,
          null
         ],
         "line": {
          "color": "rgb(187, 185, 185)",
          "width": 0.01126126126126126
         },
         "locationmode": "ISO-3",
         "lon": [
          10.4515,
          -3.9962,
          null
         ],
         "mode": "lines",
         "type": "scattergeo"
        },
        {
         "hoverinfo": "none",
         "lat": [
          46.6034,
          17.5707,
          null
         ],
         "line": {
          "color": "rgb(187, 185, 185)",
          "width": 0.01126126126126126
         },
         "locationmode": "ISO-3",
         "lon": [
          1.8883,
          -3.9962,
          null
         ],
         "mode": "lines",
         "type": "scattergeo"
        },
        {
         "hoverinfo": "none",
         "lat": [
          36.2048,
          17.5707,
          null
         ],
         "line": {
          "color": "rgb(187, 185, 185)",
          "width": 0.01126126126126126
         },
         "locationmode": "ISO-3",
         "lon": [
          138.2529,
          -3.9962,
          null
         ],
         "mode": "lines",
         "type": "scattergeo"
        },
        {
         "hoverinfo": "none",
         "lat": [
          12.2383,
          17.5707,
          null
         ],
         "line": {
          "color": "rgb(187, 185, 185)",
          "width": 0.01126126126126126
         },
         "locationmode": "ISO-3",
         "lon": [
          -1.5616,
          -3.9962,
          null
         ],
         "mode": "lines",
         "type": "scattergeo"
        },
        {
         "hoverinfo": "none",
         "lat": [
          12.2383,
          36.2048,
          null
         ],
         "line": {
          "color": "rgb(187, 185, 185)",
          "width": 0.01126126126126126
         },
         "locationmode": "ISO-3",
         "lon": [
          -1.5616,
          138.2529,
          null
         ],
         "mode": "lines",
         "type": "scattergeo"
        },
        {
         "hoverinfo": "none",
         "lat": [
          41.8719,
          38.9637,
          null
         ],
         "line": {
          "color": "rgb(187, 185, 185)",
          "width": 0.01126126126126126
         },
         "locationmode": "ISO-3",
         "lon": [
          12.5674,
          35.2433,
          null
         ],
         "mode": "lines",
         "type": "scattergeo"
        },
        {
         "hoverinfo": "none",
         "lat": [
          31.7917,
          55.3781,
          null
         ],
         "line": {
          "color": "rgb(187, 185, 185)",
          "width": 0.01126126126126126
         },
         "locationmode": "ISO-3",
         "lon": [
          -7.0926,
          -3.436,
          null
         ],
         "mode": "lines",
         "type": "scattergeo"
        },
        {
         "hoverinfo": "none",
         "lat": [
          52.1326,
          -30.5595,
          null
         ],
         "line": {
          "color": "rgb(187, 185, 185)",
          "width": 0.01126126126126126
         },
         "locationmode": "ISO-3",
         "lon": [
          5.2913,
          22.9375,
          null
         ],
         "mode": "lines",
         "type": "scattergeo"
        },
        {
         "hoverinfo": "text",
         "hovertext": [
          "Russia : 10853",
          "Germany : 645",
          "Italy : 1374",
          "United States of America : 8239",
          "Estonia : 72",
          "Ukraine : 280",
          "Switzerland : 87",
          "Lithuania : 228",
          "France : 1361",
          "Egypt : 11",
          "United Kingdom : 1713",
          "India : 166",
          "Hong Kong : 273",
          "Costa Rica : 3",
          "Spain : 334",
          "Canada : 336",
          "Latvia : 55",
          "Hungary : 59",
          "Japan : 640",
          "Denmark : 84",
          "Poland : 111",
          "Korea : 34",
          "Croatia : 34",
          "Austria : 53",
          "Philippines : 36",
          "Portugal : 31",
          "Taiwan : 58",
          "Georgia : 27",
          "Romania : 27",
          "Australia : 160",
          "South Africa : 23",
          "Luxembourg : 8",
          "Sweden : 190",
          "Ireland : 35",
          "Greece : 49",
          "Argentina : 39",
          "Uruguay : 1",
          "Belgium : 73",
          "Netherlands : 74",
          "Czech Republic : 85",
          "Bangladesh : 1",
          "New Zealand : 28",
          "Albania : 1",
          "Finland : 87",
          "Iceland : 9",
          "Liechtenstein : 9",
          "Iran : 29",
          "Zimbabwe : 3",
          "Norway : 33",
          "Bosnia and Herzegovina : 16",
          "Cuba : 14",
          "Peru : 7",
          "Israel : 24",
          "Uzbekistan : 16",
          "China : 41",
          "Mexico : 114",
          "Azerbaijan : 3",
          "Bolivia : 2",
          "Brazil : 44",
          "Venezuela : 7",
          "Serbia : 39",
          "Macedonia : 2",
          "Monaco : 3",
          "Slovakia : 12",
          "Turkey : 31",
          "Senegal : 9",
          "Tunisia : 7",
          "Qatar : 1",
          "Cote D'Ivoire : 1",
          "Belarus : 11",
          "Armenia : 10",
          "Algeria : 7",
          "Thailand : 6",
          "Colombia : 3",
          "Chile : 8",
          "Singapore : 3",
          "Ghana : 2",
          "Morocco : 7",
          "Vietnam : 3",
          "Slovenia : 2",
          "Pakistan : 2",
          "Montenegro : 2",
          "Namibia : 3",
          "Bulgaria : 8",
          "Yugoslavia : 2",
          "Moldova : 3",
          "Burkina Faso : 4",
          "Aruba : 1",
          "Czechoslovakia : 4",
          "Ethiopia : 1",
          "Jordan : 1",
          "Puerto Rico : 4",
          "Kazakhstan : 7",
          "Indonesia : 4",
          "Congo : 1",
          "Libya : 1",
          "Bhutan : 1",
          "Jamaica : 2",
          "Mauritania : 4",
          "Angola : 1",
          "Turkmenistan : 2",
          "Panama : 3",
          "Afghanistan : 1",
          "Martinique : 1",
          "Trinidad and Tobago : 1",
          "Syria : 1",
          "Kyrgyzstan : 2",
          "Botswana : 2",
          "Guinea : 1",
          "Bahamas : 1",
          "Papua New Guinea : 1",
          "Ecuador : 1",
          "Palestinian Territory : 1",
          "Mali : 1"
         ],
         "lat": [
          61.524,
          51.1657,
          41.8719,
          37.0902,
          58.5953,
          48.3794,
          46.8182,
          55.1694,
          46.6034,
          26.8206,
          55.3781,
          20.5937,
          22.3193,
          9.7489,
          40.4637,
          56.1304,
          56.8796,
          47.1625,
          36.2048,
          56.2639,
          51.9194,
          35.9078,
          45.1,
          47.5162,
          12.8797,
          39.3999,
          23.6978,
          42.3154,
          45.9432,
          -25.2744,
          -30.5595,
          49.8153,
          60.1282,
          53.1424,
          39.0742,
          -38.4161,
          -32.5228,
          50.5039,
          52.1326,
          49.8175,
          23.685,
          -40.9006,
          41.1533,
          61.9241,
          64.9631,
          47.166,
          32.4279,
          -19.0154,
          60.472,
          43.9159,
          21.5218,
          -9.1899,
          31.0461,
          41.3775,
          35.8617,
          23.6345,
          40.1431,
          -16.2902,
          -14.235,
          6.4238,
          44.0165,
          41.6086,
          43.7384,
          48.669,
          38.9637,
          14.4974,
          33.8869,
          25.276,
          7.5399,
          53.7098,
          40.0691,
          28.0339,
          15.87,
          4.5709,
          -35.6751,
          1.3521,
          7.9465,
          31.7917,
          14.0583,
          46.1512,
          30.3753,
          42.7087,
          -22.9576,
          42.7339,
          44.0165,
          47.4116,
          12.2383,
          12.5211,
          49.8175,
          9.145,
          30.5852,
          18.2208,
          48.0196,
          -0.7893,
          -0.228,
          26.3351,
          27.5142,
          18.1096,
          21.0079,
          -11.2027,
          38.9697,
          8.5379,
          33.9391,
          14.6415,
          10.6918,
          34.8021,
          41.2044,
          -22.3285,
          9.9456,
          25.0343,
          -6.3149,
          -1.8312,
          31.9522,
          17.5707
         ],
         "locationmode": "ISO-3",
         "lon": [
          105.3188,
          10.4515,
          12.5674,
          -95.7129,
          25.0136,
          31.1656,
          8.2275,
          23.8813,
          1.8883,
          30.8025,
          -3.436,
          78.9629,
          114.1694,
          -83.7534,
          -3.7492,
          -106.3468,
          24.6032,
          19.5033,
          138.2529,
          9.5018,
          19.1451,
          127.7669,
          15.2,
          14.5501,
          121.774,
          -8.2245,
          120.9605,
          43.3569,
          24.9668,
          133.7751,
          22.9375,
          6.1296,
          18.6435,
          -7.6921,
          21.8243,
          -63.6167,
          -55.7658,
          4.4699,
          5.2913,
          15.4729,
          90.3563,
          174.886,
          20.1683,
          25.7482,
          -19.0208,
          9.5554,
          53.688,
          29.1549,
          8.4689,
          17.6791,
          -77.7812,
          -75.0152,
          34.8516,
          64.5853,
          104.1954,
          -102.5528,
          47.5769,
          -63.5887,
          -51.9253,
          -66.5897,
          21.0059,
          21.7453,
          7.4246,
          19.699,
          35.2433,
          -14.4524,
          9.5375,
          51.2148,
          -5.5471,
          27.9534,
          45.0382,
          1.6596,
          100.9925,
          -74.2973,
          -71.543,
          103.8198,
          -1.0232,
          -7.0926,
          108.2772,
          14.9955,
          69.3451,
          19.3744,
          18.4904,
          25.4858,
          21.0059,
          28.3699,
          -1.5616,
          -69.9683,
          15.4729,
          40.4897,
          36.2384,
          -66.5901,
          66.9237,
          113.9213,
          15.8277,
          17.2283,
          90.4336,
          -77.2975,
          -10.9408,
          17.8739,
          59.5563,
          -80.7821,
          67.71,
          -61.0242,
          -61.2225,
          38.9968,
          74.7661,
          24.6849,
          -9.6966,
          -77.3963,
          143.9555,
          -78.1834,
          35.2332,
          -3.9962
         ],
         "marker": {
          "color": [
           "rgb(189, 0, 50)",
           "rgb(28, 94, 169)",
           "rgb(28, 94, 169)",
           "rgb(28, 94, 169)",
           "rgb(189, 0, 50)",
           "rgb(187, 185, 185)",
           "rgb(187, 185, 185)",
           "rgb(189, 0, 50)",
           "rgb(28, 94, 169)",
           "rgb(187, 185, 185)",
           "rgb(28, 94, 169)",
           "rgb(189, 0, 50)",
           "rgb(187, 185, 185)",
           "rgb(255, 233, 137)",
           "rgb(28, 94, 169)",
           "rgb(28, 94, 169)",
           "rgb(189, 0, 50)",
           "rgb(189, 0, 50)",
           "rgb(187, 185, 185)",
           "rgb(187, 185, 185)",
           "rgb(189, 0, 50)",
           "rgb(187, 185, 185)",
           "rgb(28, 94, 169)",
           "rgb(187, 185, 185)",
           "rgb(187, 185, 185)",
           "rgb(187, 185, 185)",
           "rgb(187, 185, 185)",
           "rgb(189, 0, 50)",
           "rgb(187, 185, 185)",
           "rgb(28, 94, 169)",
           "rgb(187, 185, 185)",
           "rgb(255, 233, 137)",
           "rgb(187, 185, 185)",
           "rgb(187, 185, 185)",
           "rgb(187, 185, 185)",
           "rgb(187, 185, 185)",
           "rgb(255, 233, 137)",
           "rgb(28, 94, 169)",
           "rgb(187, 185, 185)",
           "rgb(189, 0, 50)",
           "rgb(255, 233, 137)",
           "rgb(187, 185, 185)",
           "rgb(255, 233, 137)",
           "rgb(187, 185, 185)",
           "rgb(255, 233, 137)",
           "rgb(255, 233, 137)",
           "rgb(187, 185, 185)",
           "rgb(255, 233, 137)",
           "rgb(187, 185, 185)",
           "rgb(187, 185, 185)",
           "rgb(189, 0, 50)",
           "rgb(255, 233, 137)",
           "rgb(187, 185, 185)",
           "rgb(187, 185, 185)",
           "rgb(189, 0, 50)",
           "rgb(28, 94, 169)",
           "rgb(255, 233, 137)",
           "rgb(255, 233, 137)",
           "rgb(187, 185, 185)",
           "rgb(255, 233, 137)",
           "rgb(189, 0, 50)",
           "rgb(255, 233, 137)",
           "rgb(255, 233, 137)",
           "rgb(187, 185, 185)",
           "rgb(187, 185, 185)",
           "rgb(255, 233, 137)",
           "rgb(255, 233, 137)",
           "rgb(255, 233, 137)",
           "rgb(255, 233, 137)",
           "rgb(187, 185, 185)",
           "rgb(187, 185, 185)",
           "rgb(255, 233, 137)",
           "rgb(255, 233, 137)",
           "rgb(255, 233, 137)",
           "rgb(255, 233, 137)",
           "rgb(255, 233, 137)",
           "rgb(255, 233, 137)",
           "rgb(255, 233, 137)",
           "rgb(255, 233, 137)",
           "rgb(255, 233, 137)",
           "rgb(255, 233, 137)",
           "rgb(255, 233, 137)",
           "rgb(255, 233, 137)",
           "rgb(255, 233, 137)",
           "rgb(255, 233, 137)",
           "rgb(255, 233, 137)",
           "rgb(255, 233, 137)",
           "rgb(255, 233, 137)",
           "rgb(255, 233, 137)",
           "rgb(255, 233, 137)",
           "rgb(255, 233, 137)",
           "rgb(255, 233, 137)",
           "rgb(255, 233, 137)",
           "rgb(255, 233, 137)",
           "rgb(255, 233, 137)",
           "rgb(255, 233, 137)",
           "rgb(255, 233, 137)",
           "rgb(255, 233, 137)",
           "rgb(255, 233, 137)",
           "rgb(255, 233, 137)",
           "rgb(255, 233, 137)",
           "rgb(255, 233, 137)",
           "rgb(255, 233, 137)",
           "rgb(255, 233, 137)",
           "rgb(255, 233, 137)",
           "rgb(255, 233, 137)",
           "rgb(255, 233, 137)",
           "rgb(255, 233, 137)",
           "rgb(255, 233, 137)",
           "rgb(255, 233, 137)",
           "rgb(255, 233, 137)",
           "rgb(255, 233, 137)",
           "rgb(255, 233, 137)",
           "rgb(255, 233, 137)"
          ],
          "line": {
           "color": "black",
           "width": 0.5
          },
          "size": [
           52.08886637276722,
           12.698425099200294,
           18.533752992850637,
           45.38446870901983,
           4.242640687119285,
           8.366600265340756,
           4.663689526544408,
           7.54983443527075,
           18.445866745696716,
           1.6583123951777,
           20.694202086574876,
           6.442049363362563,
           8.261355820929152,
           0.8660254037844386,
           9.137833441248533,
           9.16515138991168,
           3.7080992435478315,
           3.840572873934304,
           12.649110640673518,
           4.58257569495584,
           5.267826876426369,
           2.9154759474226504,
           2.9154759474226504,
           3.640054944640259,
           3,
           2.7838821814150108,
           3.8078865529319543,
           2.598076211353316,
           2.598076211353316,
           6.324555320336759,
           2.3979157616563596,
           1.4142135623730951,
           6.892024376045111,
           2.958039891549808,
           3.5,
           3.122498999199199,
           0.5,
           4.272001872658765,
           4.301162633521313,
           4.6097722286464435,
           0.5,
           2.6457513110645907,
           0.5,
           4.663689526544408,
           1.5,
           1.5,
           2.692582403567252,
           0.8660254037844386,
           2.8722813232690143,
           2,
           1.8708286933869707,
           1.3228756555322954,
           2.449489742783178,
           2,
           3.2015621187164243,
           5.338539126015656,
           0.8660254037844386,
           0.7071067811865476,
           3.3166247903554,
           1.3228756555322954,
           3.122498999199199,
           0.7071067811865476,
           0.8660254037844386,
           1.7320508075688772,
           2.7838821814150108,
           1.5,
           1.3228756555322954,
           0.5,
           0.5,
           1.6583123951777,
           1.5811388300841898,
           1.3228756555322954,
           1.224744871391589,
           0.8660254037844386,
           1.4142135623730951,
           0.8660254037844386,
           0.7071067811865476,
           1.3228756555322954,
           0.8660254037844386,
           0.7071067811865476,
           0.7071067811865476,
           0.7071067811865476,
           0.8660254037844386,
           1.4142135623730951,
           0.7071067811865476,
           0.8660254037844386,
           1,
           0.5,
           1,
           0.5,
           0.5,
           1,
           1.3228756555322954,
           1,
           0.5,
           0.5,
           0.5,
           0.7071067811865476,
           1,
           0.5,
           0.7071067811865476,
           0.8660254037844386,
           0.5,
           0.5,
           0.5,
           0.5,
           0.7071067811865476,
           0.7071067811865476,
           0.5,
           0.5,
           0.5,
           0.5,
           0.5,
           0.5
          ]
         },
         "mode": "markers",
         "type": "scattergeo"
        }
       ],
       "layout": {
        "geo": {
         "landcolor": "#F2F2F2",
         "projection": {
          "type": "natural earth"
         },
         "showcountries": true,
         "showland": true
        },
        "showlegend": false,
        "template": {
         "data": {
          "bar": [
           {
            "error_x": {
             "color": "#2a3f5f"
            },
            "error_y": {
             "color": "#2a3f5f"
            },
            "marker": {
             "line": {
              "color": "#E5ECF6",
              "width": 0.5
             },
             "pattern": {
              "fillmode": "overlay",
              "size": 10,
              "solidity": 0.2
             }
            },
            "type": "bar"
           }
          ],
          "barpolar": [
           {
            "marker": {
             "line": {
              "color": "#E5ECF6",
              "width": 0.5
             },
             "pattern": {
              "fillmode": "overlay",
              "size": 10,
              "solidity": 0.2
             }
            },
            "type": "barpolar"
           }
          ],
          "carpet": [
           {
            "aaxis": {
             "endlinecolor": "#2a3f5f",
             "gridcolor": "white",
             "linecolor": "white",
             "minorgridcolor": "white",
             "startlinecolor": "#2a3f5f"
            },
            "baxis": {
             "endlinecolor": "#2a3f5f",
             "gridcolor": "white",
             "linecolor": "white",
             "minorgridcolor": "white",
             "startlinecolor": "#2a3f5f"
            },
            "type": "carpet"
           }
          ],
          "choropleth": [
           {
            "colorbar": {
             "outlinewidth": 0,
             "ticks": ""
            },
            "type": "choropleth"
           }
          ],
          "contour": [
           {
            "colorbar": {
             "outlinewidth": 0,
             "ticks": ""
            },
            "colorscale": [
             [
              0,
              "#0d0887"
             ],
             [
              0.1111111111111111,
              "#46039f"
             ],
             [
              0.2222222222222222,
              "#7201a8"
             ],
             [
              0.3333333333333333,
              "#9c179e"
             ],
             [
              0.4444444444444444,
              "#bd3786"
             ],
             [
              0.5555555555555556,
              "#d8576b"
             ],
             [
              0.6666666666666666,
              "#ed7953"
             ],
             [
              0.7777777777777778,
              "#fb9f3a"
             ],
             [
              0.8888888888888888,
              "#fdca26"
             ],
             [
              1,
              "#f0f921"
             ]
            ],
            "type": "contour"
           }
          ],
          "contourcarpet": [
           {
            "colorbar": {
             "outlinewidth": 0,
             "ticks": ""
            },
            "type": "contourcarpet"
           }
          ],
          "heatmap": [
           {
            "colorbar": {
             "outlinewidth": 0,
             "ticks": ""
            },
            "colorscale": [
             [
              0,
              "#0d0887"
             ],
             [
              0.1111111111111111,
              "#46039f"
             ],
             [
              0.2222222222222222,
              "#7201a8"
             ],
             [
              0.3333333333333333,
              "#9c179e"
             ],
             [
              0.4444444444444444,
              "#bd3786"
             ],
             [
              0.5555555555555556,
              "#d8576b"
             ],
             [
              0.6666666666666666,
              "#ed7953"
             ],
             [
              0.7777777777777778,
              "#fb9f3a"
             ],
             [
              0.8888888888888888,
              "#fdca26"
             ],
             [
              1,
              "#f0f921"
             ]
            ],
            "type": "heatmap"
           }
          ],
          "heatmapgl": [
           {
            "colorbar": {
             "outlinewidth": 0,
             "ticks": ""
            },
            "colorscale": [
             [
              0,
              "#0d0887"
             ],
             [
              0.1111111111111111,
              "#46039f"
             ],
             [
              0.2222222222222222,
              "#7201a8"
             ],
             [
              0.3333333333333333,
              "#9c179e"
             ],
             [
              0.4444444444444444,
              "#bd3786"
             ],
             [
              0.5555555555555556,
              "#d8576b"
             ],
             [
              0.6666666666666666,
              "#ed7953"
             ],
             [
              0.7777777777777778,
              "#fb9f3a"
             ],
             [
              0.8888888888888888,
              "#fdca26"
             ],
             [
              1,
              "#f0f921"
             ]
            ],
            "type": "heatmapgl"
           }
          ],
          "histogram": [
           {
            "marker": {
             "pattern": {
              "fillmode": "overlay",
              "size": 10,
              "solidity": 0.2
             }
            },
            "type": "histogram"
           }
          ],
          "histogram2d": [
           {
            "colorbar": {
             "outlinewidth": 0,
             "ticks": ""
            },
            "colorscale": [
             [
              0,
              "#0d0887"
             ],
             [
              0.1111111111111111,
              "#46039f"
             ],
             [
              0.2222222222222222,
              "#7201a8"
             ],
             [
              0.3333333333333333,
              "#9c179e"
             ],
             [
              0.4444444444444444,
              "#bd3786"
             ],
             [
              0.5555555555555556,
              "#d8576b"
             ],
             [
              0.6666666666666666,
              "#ed7953"
             ],
             [
              0.7777777777777778,
              "#fb9f3a"
             ],
             [
              0.8888888888888888,
              "#fdca26"
             ],
             [
              1,
              "#f0f921"
             ]
            ],
            "type": "histogram2d"
           }
          ],
          "histogram2dcontour": [
           {
            "colorbar": {
             "outlinewidth": 0,
             "ticks": ""
            },
            "colorscale": [
             [
              0,
              "#0d0887"
             ],
             [
              0.1111111111111111,
              "#46039f"
             ],
             [
              0.2222222222222222,
              "#7201a8"
             ],
             [
              0.3333333333333333,
              "#9c179e"
             ],
             [
              0.4444444444444444,
              "#bd3786"
             ],
             [
              0.5555555555555556,
              "#d8576b"
             ],
             [
              0.6666666666666666,
              "#ed7953"
             ],
             [
              0.7777777777777778,
              "#fb9f3a"
             ],
             [
              0.8888888888888888,
              "#fdca26"
             ],
             [
              1,
              "#f0f921"
             ]
            ],
            "type": "histogram2dcontour"
           }
          ],
          "mesh3d": [
           {
            "colorbar": {
             "outlinewidth": 0,
             "ticks": ""
            },
            "type": "mesh3d"
           }
          ],
          "parcoords": [
           {
            "line": {
             "colorbar": {
              "outlinewidth": 0,
              "ticks": ""
             }
            },
            "type": "parcoords"
           }
          ],
          "pie": [
           {
            "automargin": true,
            "type": "pie"
           }
          ],
          "scatter": [
           {
            "fillpattern": {
             "fillmode": "overlay",
             "size": 10,
             "solidity": 0.2
            },
            "type": "scatter"
           }
          ],
          "scatter3d": [
           {
            "line": {
             "colorbar": {
              "outlinewidth": 0,
              "ticks": ""
             }
            },
            "marker": {
             "colorbar": {
              "outlinewidth": 0,
              "ticks": ""
             }
            },
            "type": "scatter3d"
           }
          ],
          "scattercarpet": [
           {
            "marker": {
             "colorbar": {
              "outlinewidth": 0,
              "ticks": ""
             }
            },
            "type": "scattercarpet"
           }
          ],
          "scattergeo": [
           {
            "marker": {
             "colorbar": {
              "outlinewidth": 0,
              "ticks": ""
             }
            },
            "type": "scattergeo"
           }
          ],
          "scattergl": [
           {
            "marker": {
             "colorbar": {
              "outlinewidth": 0,
              "ticks": ""
             }
            },
            "type": "scattergl"
           }
          ],
          "scattermapbox": [
           {
            "marker": {
             "colorbar": {
              "outlinewidth": 0,
              "ticks": ""
             }
            },
            "type": "scattermapbox"
           }
          ],
          "scatterpolar": [
           {
            "marker": {
             "colorbar": {
              "outlinewidth": 0,
              "ticks": ""
             }
            },
            "type": "scatterpolar"
           }
          ],
          "scatterpolargl": [
           {
            "marker": {
             "colorbar": {
              "outlinewidth": 0,
              "ticks": ""
             }
            },
            "type": "scatterpolargl"
           }
          ],
          "scatterternary": [
           {
            "marker": {
             "colorbar": {
              "outlinewidth": 0,
              "ticks": ""
             }
            },
            "type": "scatterternary"
           }
          ],
          "surface": [
           {
            "colorbar": {
             "outlinewidth": 0,
             "ticks": ""
            },
            "colorscale": [
             [
              0,
              "#0d0887"
             ],
             [
              0.1111111111111111,
              "#46039f"
             ],
             [
              0.2222222222222222,
              "#7201a8"
             ],
             [
              0.3333333333333333,
              "#9c179e"
             ],
             [
              0.4444444444444444,
              "#bd3786"
             ],
             [
              0.5555555555555556,
              "#d8576b"
             ],
             [
              0.6666666666666666,
              "#ed7953"
             ],
             [
              0.7777777777777778,
              "#fb9f3a"
             ],
             [
              0.8888888888888888,
              "#fdca26"
             ],
             [
              1,
              "#f0f921"
             ]
            ],
            "type": "surface"
           }
          ],
          "table": [
           {
            "cells": {
             "fill": {
              "color": "#EBF0F8"
             },
             "line": {
              "color": "white"
             }
            },
            "header": {
             "fill": {
              "color": "#C8D4E3"
             },
             "line": {
              "color": "white"
             }
            },
            "type": "table"
           }
          ]
         },
         "layout": {
          "annotationdefaults": {
           "arrowcolor": "#2a3f5f",
           "arrowhead": 0,
           "arrowwidth": 1
          },
          "autotypenumbers": "strict",
          "coloraxis": {
           "colorbar": {
            "outlinewidth": 0,
            "ticks": ""
           }
          },
          "colorscale": {
           "diverging": [
            [
             0,
             "#8e0152"
            ],
            [
             0.1,
             "#c51b7d"
            ],
            [
             0.2,
             "#de77ae"
            ],
            [
             0.3,
             "#f1b6da"
            ],
            [
             0.4,
             "#fde0ef"
            ],
            [
             0.5,
             "#f7f7f7"
            ],
            [
             0.6,
             "#e6f5d0"
            ],
            [
             0.7,
             "#b8e186"
            ],
            [
             0.8,
             "#7fbc41"
            ],
            [
             0.9,
             "#4d9221"
            ],
            [
             1,
             "#276419"
            ]
           ],
           "sequential": [
            [
             0,
             "#0d0887"
            ],
            [
             0.1111111111111111,
             "#46039f"
            ],
            [
             0.2222222222222222,
             "#7201a8"
            ],
            [
             0.3333333333333333,
             "#9c179e"
            ],
            [
             0.4444444444444444,
             "#bd3786"
            ],
            [
             0.5555555555555556,
             "#d8576b"
            ],
            [
             0.6666666666666666,
             "#ed7953"
            ],
            [
             0.7777777777777778,
             "#fb9f3a"
            ],
            [
             0.8888888888888888,
             "#fdca26"
            ],
            [
             1,
             "#f0f921"
            ]
           ],
           "sequentialminus": [
            [
             0,
             "#0d0887"
            ],
            [
             0.1111111111111111,
             "#46039f"
            ],
            [
             0.2222222222222222,
             "#7201a8"
            ],
            [
             0.3333333333333333,
             "#9c179e"
            ],
            [
             0.4444444444444444,
             "#bd3786"
            ],
            [
             0.5555555555555556,
             "#d8576b"
            ],
            [
             0.6666666666666666,
             "#ed7953"
            ],
            [
             0.7777777777777778,
             "#fb9f3a"
            ],
            [
             0.8888888888888888,
             "#fdca26"
            ],
            [
             1,
             "#f0f921"
            ]
           ]
          },
          "colorway": [
           "#636efa",
           "#EF553B",
           "#00cc96",
           "#ab63fa",
           "#FFA15A",
           "#19d3f3",
           "#FF6692",
           "#B6E880",
           "#FF97FF",
           "#FECB52"
          ],
          "font": {
           "color": "#2a3f5f"
          },
          "geo": {
           "bgcolor": "white",
           "lakecolor": "white",
           "landcolor": "#E5ECF6",
           "showlakes": true,
           "showland": true,
           "subunitcolor": "white"
          },
          "hoverlabel": {
           "align": "left"
          },
          "hovermode": "closest",
          "mapbox": {
           "style": "light"
          },
          "paper_bgcolor": "white",
          "plot_bgcolor": "#E5ECF6",
          "polar": {
           "angularaxis": {
            "gridcolor": "white",
            "linecolor": "white",
            "ticks": ""
           },
           "bgcolor": "#E5ECF6",
           "radialaxis": {
            "gridcolor": "white",
            "linecolor": "white",
            "ticks": ""
           }
          },
          "scene": {
           "xaxis": {
            "backgroundcolor": "#E5ECF6",
            "gridcolor": "white",
            "gridwidth": 2,
            "linecolor": "white",
            "showbackground": true,
            "ticks": "",
            "zerolinecolor": "white"
           },
           "yaxis": {
            "backgroundcolor": "#E5ECF6",
            "gridcolor": "white",
            "gridwidth": 2,
            "linecolor": "white",
            "showbackground": true,
            "ticks": "",
            "zerolinecolor": "white"
           },
           "zaxis": {
            "backgroundcolor": "#E5ECF6",
            "gridcolor": "white",
            "gridwidth": 2,
            "linecolor": "white",
            "showbackground": true,
            "ticks": "",
            "zerolinecolor": "white"
           }
          },
          "shapedefaults": {
           "line": {
            "color": "#2a3f5f"
           }
          },
          "ternary": {
           "aaxis": {
            "gridcolor": "white",
            "linecolor": "white",
            "ticks": ""
           },
           "baxis": {
            "gridcolor": "white",
            "linecolor": "white",
            "ticks": ""
           },
           "bgcolor": "#E5ECF6",
           "caxis": {
            "gridcolor": "white",
            "linecolor": "white",
            "ticks": ""
           }
          },
          "title": {
           "x": 0.05
          },
          "xaxis": {
           "automargin": true,
           "gridcolor": "white",
           "linecolor": "white",
           "ticks": "",
           "title": {
            "standoff": 15
           },
           "zerolinecolor": "white",
           "zerolinewidth": 2
          },
          "yaxis": {
           "automargin": true,
           "gridcolor": "white",
           "linecolor": "white",
           "ticks": "",
           "title": {
            "standoff": 15
           },
           "zerolinecolor": "white",
           "zerolinewidth": 2
          }
         }
        }
       }
      }
     },
     "metadata": {},
     "output_type": "display_data"
    }
   ],
   "source": [
    "map = StaticMap(preprocess_movies)\n",
    "map.create_figure()\n",
    "map.plot()"
   ]
  },
  {
   "cell_type": "markdown",
   "metadata": {},
   "source": [
    "**Observations:**\n",
    "\n",
    "Both visualizations of movies co-productions during the Cold War offers an insight into the political dynamics of the time. We have to keep in mind that, in this representation, the former countries of the USSR are considered individually, allowing for a nuanced understanding of their international relations.\n",
    "\n",
    "A key observation is the tendency to form numerous co-productions between the United States and the Western European countries. This surge in collaborations could be seen as a strategic effort from the US to strengthen political and cultural ties with allies, using film as a tool for soft power during the Cold War.\n",
    "\n",
    "In stark contrast, the USSR appears to have limited co-production in the film industry. This lack of collaboration may be attributed to the desire of Soviet authorities to retain full control over the narratives, allowing them to use cinema as a vehicle for their propaganda. This theory is further supported by the highly centralized nature of the Soviet film industry, where the government tightly regulated production, unlike in the more decentralized Western bloc. Additionally, it is worth considering the cultural context. [The theatre attendance in the USSR during this period was significantly higher than in the US](https://www.statista.com/statistics/1249401/movie-theater-attendance-us-ussr-cold-war/), suggesting that the domestic market was flourishing enough to reduce the urgency for international collaborations.\n",
    "\n",
    "Interestingly, despite occasional connections with Western nations, the countries situated in the center and north of Europe preserved their neutral positioning, navigating the global tension with cautious diplomacy. Switzerland, for instance, got some ties with the Western bloc in film productions and yet remained largely neutral in its political engagement.\n",
    "\n",
    "Japan and Hong Kong present unique cases in the graph. Japan, while often neutral in its Cold War alignment, shows a notable collaboration with the US, revealing an underlying rapprochement despite the country's apparent neutrality. On the other hand, Hong Kong, though geographically in communist China, remains neutral in the context of the Cold War. That’s because of the city’s historical ties to the UK, making it a unique strategic position at the crossroads of East and Western ideologies."
   ]
  },
  {
   "cell_type": "markdown",
   "metadata": {},
   "source": [
    "The previous graph representations included all countries and all connections between them. If you wish to go deeper into the exploration, we provide two interactive plots that allow you to adjust the minimum number of movies required for a country to be represented and the minimum number of co-productions needed for a connection to be displayed.\n",
    "\n",
    "N.B: Only the first graph is plot here. The code line to display the other one is commented."
   ]
  },
  {
   "cell_type": "code",
   "execution_count": 13,
   "metadata": {},
   "outputs": [
    {
     "data": {
      "text/html": [
       "\n",
       "        <iframe\n",
       "            width=\"100%\"\n",
       "            height=\"650\"\n",
       "            src=\"http://127.0.0.1:8050/\"\n",
       "            frameborder=\"0\"\n",
       "            allowfullscreen\n",
       "            \n",
       "        ></iframe>\n",
       "        "
      ],
      "text/plain": [
       "<IPython.lib.display.IFrame at 0x1b91883ab40>"
      ]
     },
     "metadata": {},
     "output_type": "display_data"
    }
   ],
   "source": [
    "dynamic_graph = DynamicGraph(preprocess_movies)\n",
    "dynamic_graph.plot()\n",
    "\n",
    "#dynamic_map = DynamicMap(preprocess_movies)\n",
    "#dynamic_map.plot()"
   ]
  },
  {
   "cell_type": "markdown",
   "metadata": {},
   "source": [
    "Turning to the analysis of language distribution in films during the Cold War, we observe that English is by far the most commonly used language. This finding strongly reinforces our observations of the spread of US soft power, shaping global cultural trends and making English the dominant language in international cinema. This could be seen as part of a bigger geopolitical strategy, with American cultural influence reaching far beyond its borders. However, it is important to mitigate this observation, as the United Kingdom was for the most part English-speaking. Therefore, the prominence of English is also a reflection of its established role in global film production."
   ]
  },
  {
   "cell_type": "code",
   "execution_count": 14,
   "metadata": {},
   "outputs": [
    {
     "data": {
      "application/vnd.plotly.v1+json": {
       "config": {
        "plotlyServerURL": "https://plot.ly"
       },
       "data": [
        {
         "alignmentgroup": "True",
         "hovertemplate": "Language=%{x}<br>Number of Movies=%{y}<extra></extra>",
         "legendgroup": "",
         "marker": {
          "color": "#59585B",
          "pattern": {
           "shape": ""
          }
         },
         "name": "",
         "offsetgroup": "",
         "orientation": "v",
         "showlegend": false,
         "textposition": "auto",
         "type": "bar",
         "x": [
          "English",
          "French",
          "Italian",
          "German",
          "Spanish",
          "Japanese",
          "Russian",
          "Chinese",
          "Swedish",
          "Hungarian",
          "Indian",
          "Polish",
          "Portuguese",
          "Czech",
          "Finnish",
          "Norwegian",
          "Latin",
          "Greek",
          "Arabic",
          "Danish",
          "Dutch",
          "Turkish",
          "Korean",
          "Hebrew",
          "Persian"
         ],
         "xaxis": "x",
         "y": [
          10780,
          1475,
          1358,
          969,
          777,
          639,
          553,
          355,
          180,
          162,
          143,
          138,
          125,
          124,
          86,
          82,
          81,
          79,
          69,
          64,
          62,
          43,
          42,
          39,
          30
         ],
         "yaxis": "y"
        }
       ],
       "layout": {
        "barmode": "relative",
        "legend": {
         "tracegroupgap": 0
        },
        "margin": {
         "t": 60
        },
        "plot_bgcolor": "#F2F2F2",
        "template": {
         "data": {
          "bar": [
           {
            "error_x": {
             "color": "#2a3f5f"
            },
            "error_y": {
             "color": "#2a3f5f"
            },
            "marker": {
             "line": {
              "color": "#E5ECF6",
              "width": 0.5
             },
             "pattern": {
              "fillmode": "overlay",
              "size": 10,
              "solidity": 0.2
             }
            },
            "type": "bar"
           }
          ],
          "barpolar": [
           {
            "marker": {
             "line": {
              "color": "#E5ECF6",
              "width": 0.5
             },
             "pattern": {
              "fillmode": "overlay",
              "size": 10,
              "solidity": 0.2
             }
            },
            "type": "barpolar"
           }
          ],
          "carpet": [
           {
            "aaxis": {
             "endlinecolor": "#2a3f5f",
             "gridcolor": "white",
             "linecolor": "white",
             "minorgridcolor": "white",
             "startlinecolor": "#2a3f5f"
            },
            "baxis": {
             "endlinecolor": "#2a3f5f",
             "gridcolor": "white",
             "linecolor": "white",
             "minorgridcolor": "white",
             "startlinecolor": "#2a3f5f"
            },
            "type": "carpet"
           }
          ],
          "choropleth": [
           {
            "colorbar": {
             "outlinewidth": 0,
             "ticks": ""
            },
            "type": "choropleth"
           }
          ],
          "contour": [
           {
            "colorbar": {
             "outlinewidth": 0,
             "ticks": ""
            },
            "colorscale": [
             [
              0,
              "#0d0887"
             ],
             [
              0.1111111111111111,
              "#46039f"
             ],
             [
              0.2222222222222222,
              "#7201a8"
             ],
             [
              0.3333333333333333,
              "#9c179e"
             ],
             [
              0.4444444444444444,
              "#bd3786"
             ],
             [
              0.5555555555555556,
              "#d8576b"
             ],
             [
              0.6666666666666666,
              "#ed7953"
             ],
             [
              0.7777777777777778,
              "#fb9f3a"
             ],
             [
              0.8888888888888888,
              "#fdca26"
             ],
             [
              1,
              "#f0f921"
             ]
            ],
            "type": "contour"
           }
          ],
          "contourcarpet": [
           {
            "colorbar": {
             "outlinewidth": 0,
             "ticks": ""
            },
            "type": "contourcarpet"
           }
          ],
          "heatmap": [
           {
            "colorbar": {
             "outlinewidth": 0,
             "ticks": ""
            },
            "colorscale": [
             [
              0,
              "#0d0887"
             ],
             [
              0.1111111111111111,
              "#46039f"
             ],
             [
              0.2222222222222222,
              "#7201a8"
             ],
             [
              0.3333333333333333,
              "#9c179e"
             ],
             [
              0.4444444444444444,
              "#bd3786"
             ],
             [
              0.5555555555555556,
              "#d8576b"
             ],
             [
              0.6666666666666666,
              "#ed7953"
             ],
             [
              0.7777777777777778,
              "#fb9f3a"
             ],
             [
              0.8888888888888888,
              "#fdca26"
             ],
             [
              1,
              "#f0f921"
             ]
            ],
            "type": "heatmap"
           }
          ],
          "heatmapgl": [
           {
            "colorbar": {
             "outlinewidth": 0,
             "ticks": ""
            },
            "colorscale": [
             [
              0,
              "#0d0887"
             ],
             [
              0.1111111111111111,
              "#46039f"
             ],
             [
              0.2222222222222222,
              "#7201a8"
             ],
             [
              0.3333333333333333,
              "#9c179e"
             ],
             [
              0.4444444444444444,
              "#bd3786"
             ],
             [
              0.5555555555555556,
              "#d8576b"
             ],
             [
              0.6666666666666666,
              "#ed7953"
             ],
             [
              0.7777777777777778,
              "#fb9f3a"
             ],
             [
              0.8888888888888888,
              "#fdca26"
             ],
             [
              1,
              "#f0f921"
             ]
            ],
            "type": "heatmapgl"
           }
          ],
          "histogram": [
           {
            "marker": {
             "pattern": {
              "fillmode": "overlay",
              "size": 10,
              "solidity": 0.2
             }
            },
            "type": "histogram"
           }
          ],
          "histogram2d": [
           {
            "colorbar": {
             "outlinewidth": 0,
             "ticks": ""
            },
            "colorscale": [
             [
              0,
              "#0d0887"
             ],
             [
              0.1111111111111111,
              "#46039f"
             ],
             [
              0.2222222222222222,
              "#7201a8"
             ],
             [
              0.3333333333333333,
              "#9c179e"
             ],
             [
              0.4444444444444444,
              "#bd3786"
             ],
             [
              0.5555555555555556,
              "#d8576b"
             ],
             [
              0.6666666666666666,
              "#ed7953"
             ],
             [
              0.7777777777777778,
              "#fb9f3a"
             ],
             [
              0.8888888888888888,
              "#fdca26"
             ],
             [
              1,
              "#f0f921"
             ]
            ],
            "type": "histogram2d"
           }
          ],
          "histogram2dcontour": [
           {
            "colorbar": {
             "outlinewidth": 0,
             "ticks": ""
            },
            "colorscale": [
             [
              0,
              "#0d0887"
             ],
             [
              0.1111111111111111,
              "#46039f"
             ],
             [
              0.2222222222222222,
              "#7201a8"
             ],
             [
              0.3333333333333333,
              "#9c179e"
             ],
             [
              0.4444444444444444,
              "#bd3786"
             ],
             [
              0.5555555555555556,
              "#d8576b"
             ],
             [
              0.6666666666666666,
              "#ed7953"
             ],
             [
              0.7777777777777778,
              "#fb9f3a"
             ],
             [
              0.8888888888888888,
              "#fdca26"
             ],
             [
              1,
              "#f0f921"
             ]
            ],
            "type": "histogram2dcontour"
           }
          ],
          "mesh3d": [
           {
            "colorbar": {
             "outlinewidth": 0,
             "ticks": ""
            },
            "type": "mesh3d"
           }
          ],
          "parcoords": [
           {
            "line": {
             "colorbar": {
              "outlinewidth": 0,
              "ticks": ""
             }
            },
            "type": "parcoords"
           }
          ],
          "pie": [
           {
            "automargin": true,
            "type": "pie"
           }
          ],
          "scatter": [
           {
            "fillpattern": {
             "fillmode": "overlay",
             "size": 10,
             "solidity": 0.2
            },
            "type": "scatter"
           }
          ],
          "scatter3d": [
           {
            "line": {
             "colorbar": {
              "outlinewidth": 0,
              "ticks": ""
             }
            },
            "marker": {
             "colorbar": {
              "outlinewidth": 0,
              "ticks": ""
             }
            },
            "type": "scatter3d"
           }
          ],
          "scattercarpet": [
           {
            "marker": {
             "colorbar": {
              "outlinewidth": 0,
              "ticks": ""
             }
            },
            "type": "scattercarpet"
           }
          ],
          "scattergeo": [
           {
            "marker": {
             "colorbar": {
              "outlinewidth": 0,
              "ticks": ""
             }
            },
            "type": "scattergeo"
           }
          ],
          "scattergl": [
           {
            "marker": {
             "colorbar": {
              "outlinewidth": 0,
              "ticks": ""
             }
            },
            "type": "scattergl"
           }
          ],
          "scattermapbox": [
           {
            "marker": {
             "colorbar": {
              "outlinewidth": 0,
              "ticks": ""
             }
            },
            "type": "scattermapbox"
           }
          ],
          "scatterpolar": [
           {
            "marker": {
             "colorbar": {
              "outlinewidth": 0,
              "ticks": ""
             }
            },
            "type": "scatterpolar"
           }
          ],
          "scatterpolargl": [
           {
            "marker": {
             "colorbar": {
              "outlinewidth": 0,
              "ticks": ""
             }
            },
            "type": "scatterpolargl"
           }
          ],
          "scatterternary": [
           {
            "marker": {
             "colorbar": {
              "outlinewidth": 0,
              "ticks": ""
             }
            },
            "type": "scatterternary"
           }
          ],
          "surface": [
           {
            "colorbar": {
             "outlinewidth": 0,
             "ticks": ""
            },
            "colorscale": [
             [
              0,
              "#0d0887"
             ],
             [
              0.1111111111111111,
              "#46039f"
             ],
             [
              0.2222222222222222,
              "#7201a8"
             ],
             [
              0.3333333333333333,
              "#9c179e"
             ],
             [
              0.4444444444444444,
              "#bd3786"
             ],
             [
              0.5555555555555556,
              "#d8576b"
             ],
             [
              0.6666666666666666,
              "#ed7953"
             ],
             [
              0.7777777777777778,
              "#fb9f3a"
             ],
             [
              0.8888888888888888,
              "#fdca26"
             ],
             [
              1,
              "#f0f921"
             ]
            ],
            "type": "surface"
           }
          ],
          "table": [
           {
            "cells": {
             "fill": {
              "color": "#EBF0F8"
             },
             "line": {
              "color": "white"
             }
            },
            "header": {
             "fill": {
              "color": "#C8D4E3"
             },
             "line": {
              "color": "white"
             }
            },
            "type": "table"
           }
          ]
         },
         "layout": {
          "annotationdefaults": {
           "arrowcolor": "#2a3f5f",
           "arrowhead": 0,
           "arrowwidth": 1
          },
          "autotypenumbers": "strict",
          "coloraxis": {
           "colorbar": {
            "outlinewidth": 0,
            "ticks": ""
           }
          },
          "colorscale": {
           "diverging": [
            [
             0,
             "#8e0152"
            ],
            [
             0.1,
             "#c51b7d"
            ],
            [
             0.2,
             "#de77ae"
            ],
            [
             0.3,
             "#f1b6da"
            ],
            [
             0.4,
             "#fde0ef"
            ],
            [
             0.5,
             "#f7f7f7"
            ],
            [
             0.6,
             "#e6f5d0"
            ],
            [
             0.7,
             "#b8e186"
            ],
            [
             0.8,
             "#7fbc41"
            ],
            [
             0.9,
             "#4d9221"
            ],
            [
             1,
             "#276419"
            ]
           ],
           "sequential": [
            [
             0,
             "#0d0887"
            ],
            [
             0.1111111111111111,
             "#46039f"
            ],
            [
             0.2222222222222222,
             "#7201a8"
            ],
            [
             0.3333333333333333,
             "#9c179e"
            ],
            [
             0.4444444444444444,
             "#bd3786"
            ],
            [
             0.5555555555555556,
             "#d8576b"
            ],
            [
             0.6666666666666666,
             "#ed7953"
            ],
            [
             0.7777777777777778,
             "#fb9f3a"
            ],
            [
             0.8888888888888888,
             "#fdca26"
            ],
            [
             1,
             "#f0f921"
            ]
           ],
           "sequentialminus": [
            [
             0,
             "#0d0887"
            ],
            [
             0.1111111111111111,
             "#46039f"
            ],
            [
             0.2222222222222222,
             "#7201a8"
            ],
            [
             0.3333333333333333,
             "#9c179e"
            ],
            [
             0.4444444444444444,
             "#bd3786"
            ],
            [
             0.5555555555555556,
             "#d8576b"
            ],
            [
             0.6666666666666666,
             "#ed7953"
            ],
            [
             0.7777777777777778,
             "#fb9f3a"
            ],
            [
             0.8888888888888888,
             "#fdca26"
            ],
            [
             1,
             "#f0f921"
            ]
           ]
          },
          "colorway": [
           "#636efa",
           "#EF553B",
           "#00cc96",
           "#ab63fa",
           "#FFA15A",
           "#19d3f3",
           "#FF6692",
           "#B6E880",
           "#FF97FF",
           "#FECB52"
          ],
          "font": {
           "color": "#2a3f5f"
          },
          "geo": {
           "bgcolor": "white",
           "lakecolor": "white",
           "landcolor": "#E5ECF6",
           "showlakes": true,
           "showland": true,
           "subunitcolor": "white"
          },
          "hoverlabel": {
           "align": "left"
          },
          "hovermode": "closest",
          "mapbox": {
           "style": "light"
          },
          "paper_bgcolor": "white",
          "plot_bgcolor": "#E5ECF6",
          "polar": {
           "angularaxis": {
            "gridcolor": "white",
            "linecolor": "white",
            "ticks": ""
           },
           "bgcolor": "#E5ECF6",
           "radialaxis": {
            "gridcolor": "white",
            "linecolor": "white",
            "ticks": ""
           }
          },
          "scene": {
           "xaxis": {
            "backgroundcolor": "#E5ECF6",
            "gridcolor": "white",
            "gridwidth": 2,
            "linecolor": "white",
            "showbackground": true,
            "ticks": "",
            "zerolinecolor": "white"
           },
           "yaxis": {
            "backgroundcolor": "#E5ECF6",
            "gridcolor": "white",
            "gridwidth": 2,
            "linecolor": "white",
            "showbackground": true,
            "ticks": "",
            "zerolinecolor": "white"
           },
           "zaxis": {
            "backgroundcolor": "#E5ECF6",
            "gridcolor": "white",
            "gridwidth": 2,
            "linecolor": "white",
            "showbackground": true,
            "ticks": "",
            "zerolinecolor": "white"
           }
          },
          "shapedefaults": {
           "line": {
            "color": "#2a3f5f"
           }
          },
          "ternary": {
           "aaxis": {
            "gridcolor": "white",
            "linecolor": "white",
            "ticks": ""
           },
           "baxis": {
            "gridcolor": "white",
            "linecolor": "white",
            "ticks": ""
           },
           "bgcolor": "#E5ECF6",
           "caxis": {
            "gridcolor": "white",
            "linecolor": "white",
            "ticks": ""
           }
          },
          "title": {
           "x": 0.05
          },
          "xaxis": {
           "automargin": true,
           "gridcolor": "white",
           "linecolor": "white",
           "ticks": "",
           "title": {
            "standoff": 15
           },
           "zerolinecolor": "white",
           "zerolinewidth": 2
          },
          "yaxis": {
           "automargin": true,
           "gridcolor": "white",
           "linecolor": "white",
           "ticks": "",
           "title": {
            "standoff": 15
           },
           "zerolinecolor": "white",
           "zerolinewidth": 2
          }
         }
        },
        "title": {
         "font": {
          "weight": "bold"
         },
         "text": "Top 25 Languages in Movies",
         "x": 0.5
        },
        "xaxis": {
         "anchor": "y",
         "domain": [
          0,
          1
         ],
         "tickangle": 45,
         "title": {
          "text": "Language"
         }
        },
        "yaxis": {
         "anchor": "x",
         "domain": [
          0,
          1
         ],
         "title": {
          "text": "Number of Movies"
         },
         "type": "log"
        }
       }
      }
     },
     "metadata": {},
     "output_type": "display_data"
    }
   ],
   "source": [
    "plot_top_languages(preprocess_movies, 25)"
   ]
  },
  {
   "cell_type": "markdown",
   "metadata": {},
   "source": [
    "When we delve deeper into the language distribution for each bloc, the trend of English dominance remains consistent, even within films produced by Eastern bloc countries. This is a striking observation, as it highlights the reach of US cultural influence, which managed to penetrate even the closed-off environments of Eastern bloc cinema. The widespread use of English in the Eastern bloc suggests that the USA made important efforts to spread its cultural ideals, creating an undeniable link between language and political influence."
   ]
  },
  {
   "cell_type": "code",
   "execution_count": 15,
   "metadata": {},
   "outputs": [
    {
     "data": {
      "application/vnd.plotly.v1+json": {
       "config": {
        "plotlyServerURL": "https://plot.ly"
       },
       "data": [
        {
         "hovertemplate": "%{x}: %{y}<extra></extra>",
         "marker": {
          "color": "#1C5EA9"
         },
         "type": "bar",
         "x": [
          "English",
          "French",
          "German",
          "Italian",
          "Spanish",
          "Russian",
          "Japanese",
          "Chinese",
          "Hungarian",
          "Arabic",
          "Latin",
          "Czech",
          "Portuguese",
          "Greek",
          "Vietnamese",
          "Polish",
          "Swedish",
          "Dutch",
          "Korean",
          "Indian"
         ],
         "xaxis": "x",
         "y": [
          2243,
          231,
          201,
          192,
          162,
          53,
          52,
          36,
          28,
          23,
          16,
          16,
          16,
          15,
          13,
          13,
          9,
          7,
          6,
          5,
          5,
          5,
          5,
          4,
          4,
          3,
          2,
          2,
          2,
          2,
          2,
          2,
          2,
          1,
          1,
          1,
          1,
          1,
          1,
          1,
          1,
          1,
          1
         ],
         "yaxis": "y"
        },
        {
         "hovertemplate": "%{x}: %{y}<extra></extra>",
         "marker": {
          "color": "#BD0032"
         },
         "type": "bar",
         "x": [
          "English",
          "Russian",
          "German",
          "Italian",
          "French",
          "Japanese",
          "Chinese",
          "Polish",
          "Spanish",
          "Czech",
          "Hungarian",
          "Georgian",
          "Serbian",
          "Indian",
          "Ukrainian",
          "Croatian",
          "Swedish",
          "Finnish",
          "Portuguese",
          "Romanian"
         ],
         "xaxis": "x2",
         "y": [
          253,
          209,
          71,
          65,
          54,
          45,
          41,
          38,
          36,
          26,
          22,
          10,
          10,
          7,
          7,
          7,
          6,
          6,
          5,
          5,
          5,
          5,
          4,
          4,
          4,
          4,
          3,
          3,
          3,
          2,
          2,
          2,
          2,
          2,
          1,
          1,
          1,
          1,
          1,
          1,
          1,
          1
         ],
         "yaxis": "y2"
        }
       ],
       "layout": {
        "annotations": [
         {
          "font": {
           "size": 16
          },
          "showarrow": false,
          "text": "in Western Bloc Movies",
          "x": 0.225,
          "xanchor": "center",
          "xref": "paper",
          "y": 1,
          "yanchor": "bottom",
          "yref": "paper"
         },
         {
          "font": {
           "size": 16
          },
          "showarrow": false,
          "text": "in Eastern Bloc Movies",
          "x": 0.775,
          "xanchor": "center",
          "xref": "paper",
          "y": 1,
          "yanchor": "bottom",
          "yref": "paper"
         }
        ],
        "plot_bgcolor": "#F2F2F2",
        "showlegend": false,
        "template": {
         "data": {
          "bar": [
           {
            "error_x": {
             "color": "#2a3f5f"
            },
            "error_y": {
             "color": "#2a3f5f"
            },
            "marker": {
             "line": {
              "color": "#E5ECF6",
              "width": 0.5
             },
             "pattern": {
              "fillmode": "overlay",
              "size": 10,
              "solidity": 0.2
             }
            },
            "type": "bar"
           }
          ],
          "barpolar": [
           {
            "marker": {
             "line": {
              "color": "#E5ECF6",
              "width": 0.5
             },
             "pattern": {
              "fillmode": "overlay",
              "size": 10,
              "solidity": 0.2
             }
            },
            "type": "barpolar"
           }
          ],
          "carpet": [
           {
            "aaxis": {
             "endlinecolor": "#2a3f5f",
             "gridcolor": "white",
             "linecolor": "white",
             "minorgridcolor": "white",
             "startlinecolor": "#2a3f5f"
            },
            "baxis": {
             "endlinecolor": "#2a3f5f",
             "gridcolor": "white",
             "linecolor": "white",
             "minorgridcolor": "white",
             "startlinecolor": "#2a3f5f"
            },
            "type": "carpet"
           }
          ],
          "choropleth": [
           {
            "colorbar": {
             "outlinewidth": 0,
             "ticks": ""
            },
            "type": "choropleth"
           }
          ],
          "contour": [
           {
            "colorbar": {
             "outlinewidth": 0,
             "ticks": ""
            },
            "colorscale": [
             [
              0,
              "#0d0887"
             ],
             [
              0.1111111111111111,
              "#46039f"
             ],
             [
              0.2222222222222222,
              "#7201a8"
             ],
             [
              0.3333333333333333,
              "#9c179e"
             ],
             [
              0.4444444444444444,
              "#bd3786"
             ],
             [
              0.5555555555555556,
              "#d8576b"
             ],
             [
              0.6666666666666666,
              "#ed7953"
             ],
             [
              0.7777777777777778,
              "#fb9f3a"
             ],
             [
              0.8888888888888888,
              "#fdca26"
             ],
             [
              1,
              "#f0f921"
             ]
            ],
            "type": "contour"
           }
          ],
          "contourcarpet": [
           {
            "colorbar": {
             "outlinewidth": 0,
             "ticks": ""
            },
            "type": "contourcarpet"
           }
          ],
          "heatmap": [
           {
            "colorbar": {
             "outlinewidth": 0,
             "ticks": ""
            },
            "colorscale": [
             [
              0,
              "#0d0887"
             ],
             [
              0.1111111111111111,
              "#46039f"
             ],
             [
              0.2222222222222222,
              "#7201a8"
             ],
             [
              0.3333333333333333,
              "#9c179e"
             ],
             [
              0.4444444444444444,
              "#bd3786"
             ],
             [
              0.5555555555555556,
              "#d8576b"
             ],
             [
              0.6666666666666666,
              "#ed7953"
             ],
             [
              0.7777777777777778,
              "#fb9f3a"
             ],
             [
              0.8888888888888888,
              "#fdca26"
             ],
             [
              1,
              "#f0f921"
             ]
            ],
            "type": "heatmap"
           }
          ],
          "heatmapgl": [
           {
            "colorbar": {
             "outlinewidth": 0,
             "ticks": ""
            },
            "colorscale": [
             [
              0,
              "#0d0887"
             ],
             [
              0.1111111111111111,
              "#46039f"
             ],
             [
              0.2222222222222222,
              "#7201a8"
             ],
             [
              0.3333333333333333,
              "#9c179e"
             ],
             [
              0.4444444444444444,
              "#bd3786"
             ],
             [
              0.5555555555555556,
              "#d8576b"
             ],
             [
              0.6666666666666666,
              "#ed7953"
             ],
             [
              0.7777777777777778,
              "#fb9f3a"
             ],
             [
              0.8888888888888888,
              "#fdca26"
             ],
             [
              1,
              "#f0f921"
             ]
            ],
            "type": "heatmapgl"
           }
          ],
          "histogram": [
           {
            "marker": {
             "pattern": {
              "fillmode": "overlay",
              "size": 10,
              "solidity": 0.2
             }
            },
            "type": "histogram"
           }
          ],
          "histogram2d": [
           {
            "colorbar": {
             "outlinewidth": 0,
             "ticks": ""
            },
            "colorscale": [
             [
              0,
              "#0d0887"
             ],
             [
              0.1111111111111111,
              "#46039f"
             ],
             [
              0.2222222222222222,
              "#7201a8"
             ],
             [
              0.3333333333333333,
              "#9c179e"
             ],
             [
              0.4444444444444444,
              "#bd3786"
             ],
             [
              0.5555555555555556,
              "#d8576b"
             ],
             [
              0.6666666666666666,
              "#ed7953"
             ],
             [
              0.7777777777777778,
              "#fb9f3a"
             ],
             [
              0.8888888888888888,
              "#fdca26"
             ],
             [
              1,
              "#f0f921"
             ]
            ],
            "type": "histogram2d"
           }
          ],
          "histogram2dcontour": [
           {
            "colorbar": {
             "outlinewidth": 0,
             "ticks": ""
            },
            "colorscale": [
             [
              0,
              "#0d0887"
             ],
             [
              0.1111111111111111,
              "#46039f"
             ],
             [
              0.2222222222222222,
              "#7201a8"
             ],
             [
              0.3333333333333333,
              "#9c179e"
             ],
             [
              0.4444444444444444,
              "#bd3786"
             ],
             [
              0.5555555555555556,
              "#d8576b"
             ],
             [
              0.6666666666666666,
              "#ed7953"
             ],
             [
              0.7777777777777778,
              "#fb9f3a"
             ],
             [
              0.8888888888888888,
              "#fdca26"
             ],
             [
              1,
              "#f0f921"
             ]
            ],
            "type": "histogram2dcontour"
           }
          ],
          "mesh3d": [
           {
            "colorbar": {
             "outlinewidth": 0,
             "ticks": ""
            },
            "type": "mesh3d"
           }
          ],
          "parcoords": [
           {
            "line": {
             "colorbar": {
              "outlinewidth": 0,
              "ticks": ""
             }
            },
            "type": "parcoords"
           }
          ],
          "pie": [
           {
            "automargin": true,
            "type": "pie"
           }
          ],
          "scatter": [
           {
            "fillpattern": {
             "fillmode": "overlay",
             "size": 10,
             "solidity": 0.2
            },
            "type": "scatter"
           }
          ],
          "scatter3d": [
           {
            "line": {
             "colorbar": {
              "outlinewidth": 0,
              "ticks": ""
             }
            },
            "marker": {
             "colorbar": {
              "outlinewidth": 0,
              "ticks": ""
             }
            },
            "type": "scatter3d"
           }
          ],
          "scattercarpet": [
           {
            "marker": {
             "colorbar": {
              "outlinewidth": 0,
              "ticks": ""
             }
            },
            "type": "scattercarpet"
           }
          ],
          "scattergeo": [
           {
            "marker": {
             "colorbar": {
              "outlinewidth": 0,
              "ticks": ""
             }
            },
            "type": "scattergeo"
           }
          ],
          "scattergl": [
           {
            "marker": {
             "colorbar": {
              "outlinewidth": 0,
              "ticks": ""
             }
            },
            "type": "scattergl"
           }
          ],
          "scattermapbox": [
           {
            "marker": {
             "colorbar": {
              "outlinewidth": 0,
              "ticks": ""
             }
            },
            "type": "scattermapbox"
           }
          ],
          "scatterpolar": [
           {
            "marker": {
             "colorbar": {
              "outlinewidth": 0,
              "ticks": ""
             }
            },
            "type": "scatterpolar"
           }
          ],
          "scatterpolargl": [
           {
            "marker": {
             "colorbar": {
              "outlinewidth": 0,
              "ticks": ""
             }
            },
            "type": "scatterpolargl"
           }
          ],
          "scatterternary": [
           {
            "marker": {
             "colorbar": {
              "outlinewidth": 0,
              "ticks": ""
             }
            },
            "type": "scatterternary"
           }
          ],
          "surface": [
           {
            "colorbar": {
             "outlinewidth": 0,
             "ticks": ""
            },
            "colorscale": [
             [
              0,
              "#0d0887"
             ],
             [
              0.1111111111111111,
              "#46039f"
             ],
             [
              0.2222222222222222,
              "#7201a8"
             ],
             [
              0.3333333333333333,
              "#9c179e"
             ],
             [
              0.4444444444444444,
              "#bd3786"
             ],
             [
              0.5555555555555556,
              "#d8576b"
             ],
             [
              0.6666666666666666,
              "#ed7953"
             ],
             [
              0.7777777777777778,
              "#fb9f3a"
             ],
             [
              0.8888888888888888,
              "#fdca26"
             ],
             [
              1,
              "#f0f921"
             ]
            ],
            "type": "surface"
           }
          ],
          "table": [
           {
            "cells": {
             "fill": {
              "color": "#EBF0F8"
             },
             "line": {
              "color": "white"
             }
            },
            "header": {
             "fill": {
              "color": "#C8D4E3"
             },
             "line": {
              "color": "white"
             }
            },
            "type": "table"
           }
          ]
         },
         "layout": {
          "annotationdefaults": {
           "arrowcolor": "#2a3f5f",
           "arrowhead": 0,
           "arrowwidth": 1
          },
          "autotypenumbers": "strict",
          "coloraxis": {
           "colorbar": {
            "outlinewidth": 0,
            "ticks": ""
           }
          },
          "colorscale": {
           "diverging": [
            [
             0,
             "#8e0152"
            ],
            [
             0.1,
             "#c51b7d"
            ],
            [
             0.2,
             "#de77ae"
            ],
            [
             0.3,
             "#f1b6da"
            ],
            [
             0.4,
             "#fde0ef"
            ],
            [
             0.5,
             "#f7f7f7"
            ],
            [
             0.6,
             "#e6f5d0"
            ],
            [
             0.7,
             "#b8e186"
            ],
            [
             0.8,
             "#7fbc41"
            ],
            [
             0.9,
             "#4d9221"
            ],
            [
             1,
             "#276419"
            ]
           ],
           "sequential": [
            [
             0,
             "#0d0887"
            ],
            [
             0.1111111111111111,
             "#46039f"
            ],
            [
             0.2222222222222222,
             "#7201a8"
            ],
            [
             0.3333333333333333,
             "#9c179e"
            ],
            [
             0.4444444444444444,
             "#bd3786"
            ],
            [
             0.5555555555555556,
             "#d8576b"
            ],
            [
             0.6666666666666666,
             "#ed7953"
            ],
            [
             0.7777777777777778,
             "#fb9f3a"
            ],
            [
             0.8888888888888888,
             "#fdca26"
            ],
            [
             1,
             "#f0f921"
            ]
           ],
           "sequentialminus": [
            [
             0,
             "#0d0887"
            ],
            [
             0.1111111111111111,
             "#46039f"
            ],
            [
             0.2222222222222222,
             "#7201a8"
            ],
            [
             0.3333333333333333,
             "#9c179e"
            ],
            [
             0.4444444444444444,
             "#bd3786"
            ],
            [
             0.5555555555555556,
             "#d8576b"
            ],
            [
             0.6666666666666666,
             "#ed7953"
            ],
            [
             0.7777777777777778,
             "#fb9f3a"
            ],
            [
             0.8888888888888888,
             "#fdca26"
            ],
            [
             1,
             "#f0f921"
            ]
           ]
          },
          "colorway": [
           "#636efa",
           "#EF553B",
           "#00cc96",
           "#ab63fa",
           "#FFA15A",
           "#19d3f3",
           "#FF6692",
           "#B6E880",
           "#FF97FF",
           "#FECB52"
          ],
          "font": {
           "color": "#2a3f5f"
          },
          "geo": {
           "bgcolor": "white",
           "lakecolor": "white",
           "landcolor": "#E5ECF6",
           "showlakes": true,
           "showland": true,
           "subunitcolor": "white"
          },
          "hoverlabel": {
           "align": "left"
          },
          "hovermode": "closest",
          "mapbox": {
           "style": "light"
          },
          "paper_bgcolor": "white",
          "plot_bgcolor": "#E5ECF6",
          "polar": {
           "angularaxis": {
            "gridcolor": "white",
            "linecolor": "white",
            "ticks": ""
           },
           "bgcolor": "#E5ECF6",
           "radialaxis": {
            "gridcolor": "white",
            "linecolor": "white",
            "ticks": ""
           }
          },
          "scene": {
           "xaxis": {
            "backgroundcolor": "#E5ECF6",
            "gridcolor": "white",
            "gridwidth": 2,
            "linecolor": "white",
            "showbackground": true,
            "ticks": "",
            "zerolinecolor": "white"
           },
           "yaxis": {
            "backgroundcolor": "#E5ECF6",
            "gridcolor": "white",
            "gridwidth": 2,
            "linecolor": "white",
            "showbackground": true,
            "ticks": "",
            "zerolinecolor": "white"
           },
           "zaxis": {
            "backgroundcolor": "#E5ECF6",
            "gridcolor": "white",
            "gridwidth": 2,
            "linecolor": "white",
            "showbackground": true,
            "ticks": "",
            "zerolinecolor": "white"
           }
          },
          "shapedefaults": {
           "line": {
            "color": "#2a3f5f"
           }
          },
          "ternary": {
           "aaxis": {
            "gridcolor": "white",
            "linecolor": "white",
            "ticks": ""
           },
           "baxis": {
            "gridcolor": "white",
            "linecolor": "white",
            "ticks": ""
           },
           "bgcolor": "#E5ECF6",
           "caxis": {
            "gridcolor": "white",
            "linecolor": "white",
            "ticks": ""
           }
          },
          "title": {
           "x": 0.05
          },
          "xaxis": {
           "automargin": true,
           "gridcolor": "white",
           "linecolor": "white",
           "ticks": "",
           "title": {
            "standoff": 15
           },
           "zerolinecolor": "white",
           "zerolinewidth": 2
          },
          "yaxis": {
           "automargin": true,
           "gridcolor": "white",
           "linecolor": "white",
           "ticks": "",
           "title": {
            "standoff": 15
           },
           "zerolinecolor": "white",
           "zerolinewidth": 2
          }
         }
        },
        "title": {
         "font": {
          "weight": "bold"
         },
         "text": "Top 20 Languages",
         "x": 0.5
        },
        "xaxis": {
         "anchor": "y",
         "domain": [
          0,
          0.45
         ],
         "tickangle": 45,
         "title": {
          "text": "Language"
         }
        },
        "xaxis2": {
         "anchor": "y2",
         "domain": [
          0.55,
          1
         ],
         "tickangle": 45,
         "title": {
          "text": "Language"
         }
        },
        "yaxis": {
         "anchor": "x",
         "domain": [
          0,
          1
         ],
         "title": {
          "text": "Number of Movies"
         },
         "type": "log"
        },
        "yaxis2": {
         "anchor": "x2",
         "domain": [
          0,
          1
         ],
         "title": {
          "text": "Number of Movies"
         },
         "type": "log"
        }
       }
      }
     },
     "metadata": {},
     "output_type": "display_data"
    }
   ],
   "source": [
    "plot_top_lang_per_side(preprocess_movies, 20)"
   ]
  },
  {
   "cell_type": "markdown",
   "metadata": {},
   "source": [
    "\n",
    "Interestingly, this phenomenon also hints at the reverse: Eastern bloc countries may have seen the benefit of using English to promote their ideas and narratives to Western audiences. In the context of the Cold War, where ideological battles were especially fought through cultural influence, the use of English in Eastern bloc films could be viewed as an attempt to make their voices heard within the global conversation."
   ]
  }
 ],
 "metadata": {
  "kernelspec": {
   "display_name": "base",
   "language": "python",
   "name": "python3"
  },
  "language_info": {
   "codemirror_mode": {
    "name": "ipython",
    "version": 3
   },
   "file_extension": ".py",
   "mimetype": "text/x-python",
   "name": "python",
   "nbconvert_exporter": "python",
   "pygments_lexer": "ipython3",
   "version": "3.12.4"
  }
 },
 "nbformat": 4,
 "nbformat_minor": 2
}
