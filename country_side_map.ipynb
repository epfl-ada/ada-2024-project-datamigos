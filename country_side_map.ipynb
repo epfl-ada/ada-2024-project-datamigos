{
 "cells": [
  {
   "cell_type": "code",
   "execution_count": 1,
   "metadata": {},
   "outputs": [],
   "source": [
    "import pandas as pd\n",
    "from src.utils.helpers import convert_csv\n",
    "from src.utils.constants import *\n",
    "from src.analysis.country_side_map import *"
   ]
  },
  {
   "cell_type": "code",
   "execution_count": 2,
   "metadata": {},
   "outputs": [
    {
     "data": {
      "text/html": [
       "<div>\n",
       "<style scoped>\n",
       "    .dataframe tbody tr th:only-of-type {\n",
       "        vertical-align: middle;\n",
       "    }\n",
       "\n",
       "    .dataframe tbody tr th {\n",
       "        vertical-align: top;\n",
       "    }\n",
       "\n",
       "    .dataframe thead th {\n",
       "        text-align: right;\n",
       "    }\n",
       "</style>\n",
       "<table border=\"1\" class=\"dataframe\">\n",
       "  <thead>\n",
       "    <tr style=\"text-align: right;\">\n",
       "      <th></th>\n",
       "      <th>title</th>\n",
       "      <th>languages</th>\n",
       "      <th>countries</th>\n",
       "      <th>genres</th>\n",
       "      <th>release_date</th>\n",
       "      <th>cold_war_side</th>\n",
       "      <th>character_western_bloc_representation</th>\n",
       "      <th>character_eastern_bloc_representation</th>\n",
       "      <th>western_bloc_values</th>\n",
       "      <th>eastern_bloc_values</th>\n",
       "      <th>theme</th>\n",
       "    </tr>\n",
       "  </thead>\n",
       "  <tbody>\n",
       "    <tr>\n",
       "      <th>0</th>\n",
       "      <td>$</td>\n",
       "      <td>NaN</td>\n",
       "      <td>[Russia]</td>\n",
       "      <td>[Crime, Drama, Comedy]</td>\n",
       "      <td>1971</td>\n",
       "      <td>Western</td>\n",
       "      <td>[Joe Collins, American bank security consultan...</td>\n",
       "      <td>[Dawn Divine, hooker with a heart of gold, cun...</td>\n",
       "      <td>[None]</td>\n",
       "      <td>[Resourcefulness, cleverness, individualism, h...</td>\n",
       "      <td>[None]</td>\n",
       "    </tr>\n",
       "    <tr>\n",
       "      <th>1</th>\n",
       "      <td>$1,000 on the Black</td>\n",
       "      <td>[Italian, German]</td>\n",
       "      <td>[Italy, Germany]</td>\n",
       "      <td>[Western]</td>\n",
       "      <td>1966</td>\n",
       "      <td>Eastern</td>\n",
       "      <td>[None]</td>\n",
       "      <td>[Sartana, villainous, oppressive, cruel, arche...</td>\n",
       "      <td>[Johnny Liston, justice, determination, resili...</td>\n",
       "      <td>[Justice, revenge, oppressed vs. oppressor, re...</td>\n",
       "      <td>[Terror, betrayal, familial conflict, crime, r...</td>\n",
       "    </tr>\n",
       "    <tr>\n",
       "      <th>2</th>\n",
       "      <td>$10,000 Blood Money</td>\n",
       "      <td>NaN</td>\n",
       "      <td>[Russia]</td>\n",
       "      <td>[Drama, Western]</td>\n",
       "      <td>1967</td>\n",
       "      <td>NaN</td>\n",
       "      <td>[None]</td>\n",
       "      <td>[None]</td>\n",
       "      <td>[None]</td>\n",
       "      <td>[None]</td>\n",
       "      <td>[crime, betrayal, revenge, bounty hunter, heis...</td>\n",
       "    </tr>\n",
       "    <tr>\n",
       "      <th>3</th>\n",
       "      <td>$100,000 for Ringo</td>\n",
       "      <td>[Italian]</td>\n",
       "      <td>[Italy]</td>\n",
       "      <td>[Drama, Western]</td>\n",
       "      <td>1965</td>\n",
       "      <td>NaN</td>\n",
       "      <td>[None]</td>\n",
       "      <td>[None]</td>\n",
       "      <td>[None]</td>\n",
       "      <td>[None]</td>\n",
       "      <td>[Western, Civil War, mistaken identity, treasu...</td>\n",
       "    </tr>\n",
       "    <tr>\n",
       "      <th>4</th>\n",
       "      <td>'Anna' i wampir</td>\n",
       "      <td>NaN</td>\n",
       "      <td>[Russia]</td>\n",
       "      <td>[Crime]</td>\n",
       "      <td>1982</td>\n",
       "      <td>NaN</td>\n",
       "      <td>[None]</td>\n",
       "      <td>[None]</td>\n",
       "      <td>[None]</td>\n",
       "      <td>[None]</td>\n",
       "      <td>[murder mystery, horror, fog, Poland, 1960s]</td>\n",
       "    </tr>\n",
       "  </tbody>\n",
       "</table>\n",
       "</div>"
      ],
      "text/plain": [
       "                 title          languages         countries  \\\n",
       "0                    $                NaN          [Russia]   \n",
       "1  $1,000 on the Black  [Italian, German]  [Italy, Germany]   \n",
       "2  $10,000 Blood Money                NaN          [Russia]   \n",
       "3   $100,000 for Ringo          [Italian]           [Italy]   \n",
       "4      'Anna' i wampir                NaN          [Russia]   \n",
       "\n",
       "                   genres  release_date cold_war_side  \\\n",
       "0  [Crime, Drama, Comedy]          1971       Western   \n",
       "1               [Western]          1966       Eastern   \n",
       "2        [Drama, Western]          1967           NaN   \n",
       "3        [Drama, Western]          1965           NaN   \n",
       "4                 [Crime]          1982           NaN   \n",
       "\n",
       "               character_western_bloc_representation  \\\n",
       "0  [Joe Collins, American bank security consultan...   \n",
       "1                                             [None]   \n",
       "2                                             [None]   \n",
       "3                                             [None]   \n",
       "4                                             [None]   \n",
       "\n",
       "               character_eastern_bloc_representation  \\\n",
       "0  [Dawn Divine, hooker with a heart of gold, cun...   \n",
       "1  [Sartana, villainous, oppressive, cruel, arche...   \n",
       "2                                             [None]   \n",
       "3                                             [None]   \n",
       "4                                             [None]   \n",
       "\n",
       "                                 western_bloc_values  \\\n",
       "0                                             [None]   \n",
       "1  [Johnny Liston, justice, determination, resili...   \n",
       "2                                             [None]   \n",
       "3                                             [None]   \n",
       "4                                             [None]   \n",
       "\n",
       "                                 eastern_bloc_values  \\\n",
       "0  [Resourcefulness, cleverness, individualism, h...   \n",
       "1  [Justice, revenge, oppressed vs. oppressor, re...   \n",
       "2                                             [None]   \n",
       "3                                             [None]   \n",
       "4                                             [None]   \n",
       "\n",
       "                                               theme  \n",
       "0                                             [None]  \n",
       "1  [Terror, betrayal, familial conflict, crime, r...  \n",
       "2  [crime, betrayal, revenge, bounty hunter, heis...  \n",
       "3  [Western, Civil War, mistaken identity, treasu...  \n",
       "4       [murder mystery, horror, fog, Poland, 1960s]  "
      ]
     },
     "execution_count": 2,
     "metadata": {},
     "output_type": "execute_result"
    }
   ],
   "source": [
    "movies = pd.read_csv(DATA_FOLDER_PREPROCESSED + \"preprocessed_movies.csv\")\n",
    "convert_csv(movies).head()"
   ]
  },
  {
   "cell_type": "code",
   "execution_count": 3,
   "metadata": {},
   "outputs": [
    {
     "name": "stdout",
     "output_type": "stream",
     "text": [
      "                    Country  Occurrences  Western  Eastern  None\n",
      "0                    Russia        10853      720     2324  7809\n",
      "1                     Italy         1374      139       71  1164\n",
      "2                   Germany          645       68       42   535\n",
      "3  United States of America         8239     1819      140  6280\n",
      "4                   Estonia           72        7       13    52\n"
     ]
    }
   ],
   "source": [
    "country_counts_df = compute_side_movie_count_per_country(movies)\n",
    "\n",
    "# Display result\n",
    "print(country_counts_df.head())"
   ]
  },
  {
   "cell_type": "code",
   "execution_count": 4,
   "metadata": {},
   "outputs": [
    {
     "data": {
      "application/vnd.jupyter.widget-view+json": {
       "model_id": "5ec89ddd10d4402a88f846bf84284368",
       "version_major": 2,
       "version_minor": 0
      },
      "text/plain": [
       "Map(center=[20, 0], controls=(ZoomControl(options=['position', 'zoom_in_text', 'zoom_in_title', 'zoom_out_text…"
      ]
     },
     "metadata": {},
     "output_type": "display_data"
    }
   ],
   "source": [
    "display_country_side_map(country_counts_df)"
   ]
  }
 ],
 "metadata": {
  "kernelspec": {
   "display_name": "base",
   "language": "python",
   "name": "python3"
  },
  "language_info": {
   "codemirror_mode": {
    "name": "ipython",
    "version": 3
   },
   "file_extension": ".py",
   "mimetype": "text/x-python",
   "name": "python",
   "nbconvert_exporter": "python",
   "pygments_lexer": "ipython3",
   "version": "3.12.4"
  }
 },
 "nbformat": 4,
 "nbformat_minor": 2
}
