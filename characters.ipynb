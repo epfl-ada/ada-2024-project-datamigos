{
 "cells": [
  {
   "cell_type": "code",
   "execution_count": 1,
   "metadata": {},
   "outputs": [
    {
     "name": "stderr",
     "output_type": "stream",
     "text": [
      "[nltk_data] Downloading package stopwords to\n",
      "[nltk_data]     C:\\Users\\fannl\\AppData\\Roaming\\nltk_data...\n",
      "[nltk_data]   Package stopwords is already up-to-date!\n"
     ]
    }
   ],
   "source": [
    "import pandas as pd\n",
    "import numpy as np\n",
    "import ast\n",
    "\n",
    "import plotly.graph_objects as go\n",
    "import plotly.express as px\n",
    "from plotly.subplots import make_subplots\n",
    "\n",
    "import nltk\n",
    "from nltk.corpus import stopwords\n",
    "nltk.download('stopwords')\n",
    "\n",
    "import spacy\n",
    "from gensim import corpora\n",
    "from gensim.models.ldamodel import LdaModel\n",
    "from collections import Counter\n",
    "\n",
    "import warnings\n",
    "warnings.filterwarnings('ignore')"
   ]
  },
  {
   "cell_type": "code",
   "execution_count": 2,
   "metadata": {},
   "outputs": [
    {
     "name": "stdout",
     "output_type": "stream",
     "text": [
      "wikipedia_id <class 'numpy.float64'>\n",
      "freebase_id <class 'str'>\n",
      "title <class 'str'>\n",
      "languages <class 'float'>\n",
      "countries <class 'list'>\n",
      "genres <class 'list'>\n",
      "keywords <class 'float'>\n",
      "release_date <class 'numpy.int64'>\n",
      "runtime <class 'numpy.float64'>\n",
      "plot_summary <class 'str'>\n",
      "cold_war_side <class 'str'>\n",
      "character_western_bloc_representation <class 'list'>\n",
      "character_eastern_bloc_representation <class 'list'>\n",
      "western_bloc_values <class 'list'>\n",
      "eastern_bloc_values <class 'list'>\n",
      "theme <class 'list'>\n"
     ]
    }
   ],
   "source": [
    "DATA_FOLDER = \"data/\"\n",
    "\n",
    "movies = pd.read_csv(DATA_FOLDER + \"preprocessed_movies.csv\")\n",
    "\n",
    "for col in movies.columns:\n",
    "    try:\n",
    "        movies[col] = movies[col].apply(lambda x: ast.literal_eval(x) if isinstance(x, str) else x)\n",
    "    except:\n",
    "        pass\n",
    "    print(col, type(movies[col][0]))\n",
    "\n",
    "#movies.head()"
   ]
  },
  {
   "cell_type": "code",
   "execution_count": 3,
   "metadata": {},
   "outputs": [],
   "source": [
    "# helpers \n",
    "VOC_MAPPING = {\n",
    "    'anti-': 'anti',\n",
    "    'anti ': 'anti',\n",
    "    'anti hero': 'antihero',\n",
    "    'archetypes': 'archetype',\n",
    "    'archetype:': 'archetype',\n",
    "    'archetypal': 'archetype',\n",
    "}\n",
    "\n",
    "# Function to split the row list into character name and character representation\n",
    "def extract_character_name_and_attributes(row):\n",
    "    if isinstance(row, list) and len(row) > 0 and row[0] is not None:\n",
    "        character_name = row[0]\n",
    "        character_representation = row[1:]\n",
    "        return pd.Series([character_name, character_representation])\n",
    "    else:\n",
    "        return pd.Series([None, None])\n",
    "\n",
    "# Function to apply the mapping with substring matching\n",
    "def apply_mapping_with_substrings(string_list, mapping):\n",
    "    updated = []\n",
    "    for s in string_list:\n",
    "        new_s = s\n",
    "        for key, value in mapping.items():\n",
    "            if key in s:\n",
    "                new_s = s.replace(key, value)\n",
    "        updated.append(new_s.lower())\n",
    "    return updated"
   ]
  },
  {
   "cell_type": "code",
   "execution_count": 4,
   "metadata": {},
   "outputs": [],
   "source": [
    "def create_character_df(original_df, character_column, character_side):\n",
    "    # create the new dataframe\n",
    "    new_df = original_df[[character_column, 'cold_war_side', 'title', 'release_date']]\n",
    "    new_df = new_df.rename(columns={'cold_war_side': 'movie_side'})\n",
    "    new_df[['character_name', 'character_representation']] = \\\n",
    "        new_df[character_column].apply(extract_character_name_and_attributes)\n",
    "    new_df = new_df.drop(columns=[character_column])\n",
    "    new_df['character_side'] = character_side\n",
    "\n",
    "    # clean the obtained dataframe\n",
    "    new_df = new_df.drop_duplicates(subset=['character_name'])\n",
    "    new_df = new_df[new_df['character_representation'].apply(lambda x: len(x) > 0 if isinstance(x, list) else False)]\n",
    "    new_df = new_df[new_df['character_name'].apply(lambda x: len(x.split()) if isinstance(x, str) else 0) <= 5]\n",
    "    new_df['character_representation'] = new_df['character_representation'].apply(\n",
    "        lambda x: apply_mapping_with_substrings(x, VOC_MAPPING)\n",
    "    )\n",
    "    return new_df"
   ]
  },
  {
   "cell_type": "code",
   "execution_count": 5,
   "metadata": {},
   "outputs": [],
   "source": [
    "character_eastern = create_character_df(movies, 'character_eastern_bloc_representation', 'Eastern')\n",
    "character_western = create_character_df(movies, 'character_western_bloc_representation', 'Western')"
   ]
  },
  {
   "cell_type": "code",
   "execution_count": 6,
   "metadata": {},
   "outputs": [
    {
     "data": {
      "text/html": [
       "<div>\n",
       "<style scoped>\n",
       "    .dataframe tbody tr th:only-of-type {\n",
       "        vertical-align: middle;\n",
       "    }\n",
       "\n",
       "    .dataframe tbody tr th {\n",
       "        vertical-align: top;\n",
       "    }\n",
       "\n",
       "    .dataframe thead th {\n",
       "        text-align: right;\n",
       "    }\n",
       "</style>\n",
       "<table border=\"1\" class=\"dataframe\">\n",
       "  <thead>\n",
       "    <tr style=\"text-align: right;\">\n",
       "      <th></th>\n",
       "      <th>movie_side</th>\n",
       "      <th>title</th>\n",
       "      <th>release_date</th>\n",
       "      <th>character_name</th>\n",
       "      <th>character_representation</th>\n",
       "      <th>character_side</th>\n",
       "    </tr>\n",
       "  </thead>\n",
       "  <tbody>\n",
       "    <tr>\n",
       "      <th>25365</th>\n",
       "      <td>Eastern</td>\n",
       "      <td>Yuwaku</td>\n",
       "      <td>1948</td>\n",
       "      <td>Saburi</td>\n",
       "      <td>[shin, emotional restraint, hidden desires, co...</td>\n",
       "      <td>Eastern</td>\n",
       "    </tr>\n",
       "    <tr>\n",
       "      <th>19806</th>\n",
       "      <td>Eastern</td>\n",
       "      <td>The Harms Case</td>\n",
       "      <td>1987</td>\n",
       "      <td>Danil Harms</td>\n",
       "      <td>[avant-garde, persecuted artist]</td>\n",
       "      <td>Eastern</td>\n",
       "    </tr>\n",
       "    <tr>\n",
       "      <th>22899</th>\n",
       "      <td>Western</td>\n",
       "      <td>The Wrong Arm of the Law</td>\n",
       "      <td>1963</td>\n",
       "      <td>Jack Coombes</td>\n",
       "      <td>[values corruption, cunning, archetype antagon...</td>\n",
       "      <td>Eastern</td>\n",
       "    </tr>\n",
       "    <tr>\n",
       "      <th>13710</th>\n",
       "      <td>Eastern</td>\n",
       "      <td>Parvarish</td>\n",
       "      <td>1977</td>\n",
       "      <td>DSP Shamsher Singh</td>\n",
       "      <td>[promise, honor, protector, archetype of the g...</td>\n",
       "      <td>Eastern</td>\n",
       "    </tr>\n",
       "    <tr>\n",
       "      <th>20400</th>\n",
       "      <td>Western</td>\n",
       "      <td>The League of Gentlemen</td>\n",
       "      <td>1959</td>\n",
       "      <td>Major Peter Race</td>\n",
       "      <td>[betrayal, moral compromise, antihero]</td>\n",
       "      <td>Eastern</td>\n",
       "    </tr>\n",
       "  </tbody>\n",
       "</table>\n",
       "</div>"
      ],
      "text/plain": [
       "      movie_side                     title  release_date      character_name  \\\n",
       "25365    Eastern                    Yuwaku          1948              Saburi   \n",
       "19806    Eastern            The Harms Case          1987         Danil Harms   \n",
       "22899    Western  The Wrong Arm of the Law          1963        Jack Coombes   \n",
       "13710    Eastern                 Parvarish          1977  DSP Shamsher Singh   \n",
       "20400    Western   The League of Gentlemen          1959    Major Peter Race   \n",
       "\n",
       "                                character_representation character_side  \n",
       "25365  [shin, emotional restraint, hidden desires, co...        Eastern  \n",
       "19806                   [avant-garde, persecuted artist]        Eastern  \n",
       "22899  [values corruption, cunning, archetype antagon...        Eastern  \n",
       "13710  [promise, honor, protector, archetype of the g...        Eastern  \n",
       "20400             [betrayal, moral compromise, antihero]        Eastern  "
      ]
     },
     "execution_count": 6,
     "metadata": {},
     "output_type": "execute_result"
    }
   ],
   "source": [
    "character_eastern.sample(5)"
   ]
  },
  {
   "cell_type": "code",
   "execution_count": 7,
   "metadata": {},
   "outputs": [
    {
     "data": {
      "text/html": [
       "<div>\n",
       "<style scoped>\n",
       "    .dataframe tbody tr th:only-of-type {\n",
       "        vertical-align: middle;\n",
       "    }\n",
       "\n",
       "    .dataframe tbody tr th {\n",
       "        vertical-align: top;\n",
       "    }\n",
       "\n",
       "    .dataframe thead th {\n",
       "        text-align: right;\n",
       "    }\n",
       "</style>\n",
       "<table border=\"1\" class=\"dataframe\">\n",
       "  <thead>\n",
       "    <tr style=\"text-align: right;\">\n",
       "      <th></th>\n",
       "      <th>movie_side</th>\n",
       "      <th>title</th>\n",
       "      <th>release_date</th>\n",
       "      <th>character_name</th>\n",
       "      <th>character_representation</th>\n",
       "      <th>character_side</th>\n",
       "    </tr>\n",
       "  </thead>\n",
       "  <tbody>\n",
       "    <tr>\n",
       "      <th>2786</th>\n",
       "      <td>Eastern</td>\n",
       "      <td>Bolje je umeti</td>\n",
       "      <td>1960</td>\n",
       "      <td>Mane Karakas</td>\n",
       "      <td>[optimism, unity, hero archetype]</td>\n",
       "      <td>Western</td>\n",
       "    </tr>\n",
       "    <tr>\n",
       "      <th>18478</th>\n",
       "      <td>None</td>\n",
       "      <td>The Bullfighters</td>\n",
       "      <td>1945</td>\n",
       "      <td>Laurel and Hardy</td>\n",
       "      <td>[humor, heroic duo]</td>\n",
       "      <td>Western</td>\n",
       "    </tr>\n",
       "    <tr>\n",
       "      <th>17655</th>\n",
       "      <td>Eastern</td>\n",
       "      <td>Teens in the Universe</td>\n",
       "      <td>1975</td>\n",
       "      <td>Soviet pioneers</td>\n",
       "      <td>[collectivism, heroism, archetype of the hero]</td>\n",
       "      <td>Western</td>\n",
       "    </tr>\n",
       "    <tr>\n",
       "      <th>11864</th>\n",
       "      <td>Western</td>\n",
       "      <td>Miss Sadie Thompson</td>\n",
       "      <td>1953</td>\n",
       "      <td>Sadie Thompson</td>\n",
       "      <td>[freedom, self-expression, archetype of the re...</td>\n",
       "      <td>Western</td>\n",
       "    </tr>\n",
       "    <tr>\n",
       "      <th>13574</th>\n",
       "      <td>Western</td>\n",
       "      <td>Oxford Blues</td>\n",
       "      <td>1984</td>\n",
       "      <td>Nick Di Angelo</td>\n",
       "      <td>[values love, friendship, american ambition, p...</td>\n",
       "      <td>Western</td>\n",
       "    </tr>\n",
       "  </tbody>\n",
       "</table>\n",
       "</div>"
      ],
      "text/plain": [
       "      movie_side                  title  release_date    character_name  \\\n",
       "2786     Eastern         Bolje je umeti          1960      Mane Karakas   \n",
       "18478       None       The Bullfighters          1945  Laurel and Hardy   \n",
       "17655    Eastern  Teens in the Universe          1975   Soviet pioneers   \n",
       "11864    Western    Miss Sadie Thompson          1953    Sadie Thompson   \n",
       "13574    Western           Oxford Blues          1984    Nick Di Angelo   \n",
       "\n",
       "                                character_representation character_side  \n",
       "2786                   [optimism, unity, hero archetype]        Western  \n",
       "18478                                [humor, heroic duo]        Western  \n",
       "17655     [collectivism, heroism, archetype of the hero]        Western  \n",
       "11864  [freedom, self-expression, archetype of the re...        Western  \n",
       "13574  [values love, friendship, american ambition, p...        Western  "
      ]
     },
     "execution_count": 7,
     "metadata": {},
     "output_type": "execute_result"
    }
   ],
   "source": [
    "character_western.sample(5)"
   ]
  },
  {
   "cell_type": "code",
   "execution_count": 8,
   "metadata": {},
   "outputs": [
    {
     "data": {
      "text/html": [
       "<div>\n",
       "<style scoped>\n",
       "    .dataframe tbody tr th:only-of-type {\n",
       "        vertical-align: middle;\n",
       "    }\n",
       "\n",
       "    .dataframe tbody tr th {\n",
       "        vertical-align: top;\n",
       "    }\n",
       "\n",
       "    .dataframe thead th {\n",
       "        text-align: right;\n",
       "    }\n",
       "</style>\n",
       "<table border=\"1\" class=\"dataframe\">\n",
       "  <thead>\n",
       "    <tr style=\"text-align: right;\">\n",
       "      <th></th>\n",
       "      <th>movie_side</th>\n",
       "      <th>title</th>\n",
       "      <th>release_date</th>\n",
       "      <th>character_name</th>\n",
       "      <th>character_representation</th>\n",
       "      <th>character_side</th>\n",
       "    </tr>\n",
       "  </thead>\n",
       "  <tbody>\n",
       "    <tr>\n",
       "      <th>14153</th>\n",
       "      <td>Eastern</td>\n",
       "      <td>Polonez Oginskogo</td>\n",
       "      <td>1971</td>\n",
       "      <td>Vasily</td>\n",
       "      <td>[orphaned violinist, resilience, innocence]</td>\n",
       "      <td>Eastern</td>\n",
       "    </tr>\n",
       "    <tr>\n",
       "      <th>2459</th>\n",
       "      <td>Western</td>\n",
       "      <td>Bitter Victory</td>\n",
       "      <td>1957</td>\n",
       "      <td>Major Brand</td>\n",
       "      <td>[professionalism, duty, heroism, tragic hero]</td>\n",
       "      <td>Western</td>\n",
       "    </tr>\n",
       "    <tr>\n",
       "      <th>3432</th>\n",
       "      <td>Western</td>\n",
       "      <td>Cast a Giant Shadow</td>\n",
       "      <td>1966</td>\n",
       "      <td>Colonel David \"Mickey\" Marcus</td>\n",
       "      <td>[jewish-american values, heroism, leadership, ...</td>\n",
       "      <td>Western</td>\n",
       "    </tr>\n",
       "    <tr>\n",
       "      <th>9823</th>\n",
       "      <td>Eastern</td>\n",
       "      <td>Kleinhoff Hotel</td>\n",
       "      <td>1977</td>\n",
       "      <td>Pascale</td>\n",
       "      <td>[bourgeois, passive, observer]</td>\n",
       "      <td>Eastern</td>\n",
       "    </tr>\n",
       "    <tr>\n",
       "      <th>3938</th>\n",
       "      <td>Eastern</td>\n",
       "      <td>Colonel Wolodyjowski</td>\n",
       "      <td>1969</td>\n",
       "      <td>Colonel Michael Wolodyjowski</td>\n",
       "      <td>[bravery, honor, hero archetype]</td>\n",
       "      <td>Eastern</td>\n",
       "    </tr>\n",
       "  </tbody>\n",
       "</table>\n",
       "</div>"
      ],
      "text/plain": [
       "      movie_side                 title  release_date  \\\n",
       "14153    Eastern     Polonez Oginskogo          1971   \n",
       "2459     Western        Bitter Victory          1957   \n",
       "3432     Western   Cast a Giant Shadow          1966   \n",
       "9823     Eastern       Kleinhoff Hotel          1977   \n",
       "3938     Eastern  Colonel Wolodyjowski          1969   \n",
       "\n",
       "                      character_name  \\\n",
       "14153                         Vasily   \n",
       "2459                     Major Brand   \n",
       "3432   Colonel David \"Mickey\" Marcus   \n",
       "9823                         Pascale   \n",
       "3938    Colonel Michael Wolodyjowski   \n",
       "\n",
       "                                character_representation character_side  \n",
       "14153        [orphaned violinist, resilience, innocence]        Eastern  \n",
       "2459       [professionalism, duty, heroism, tragic hero]        Western  \n",
       "3432   [jewish-american values, heroism, leadership, ...        Western  \n",
       "9823                      [bourgeois, passive, observer]        Eastern  \n",
       "3938                    [bravery, honor, hero archetype]        Eastern  "
      ]
     },
     "execution_count": 8,
     "metadata": {},
     "output_type": "execute_result"
    }
   ],
   "source": [
    "character_df = pd.concat([character_eastern, character_western], axis=0)\n",
    "character_df.sample(5)"
   ]
  },
  {
   "cell_type": "code",
   "execution_count": 9,
   "metadata": {},
   "outputs": [],
   "source": [
    "# Preprocess the text\n",
    "\n",
    "def preprocess(string_list, nlp, words_to_remove):\n",
    "    # personalize the stop words\n",
    "    stop_words = set(stopwords.words('english')).union(words_to_remove)\n",
    "\n",
    "    docs = [nlp(s) for s in string_list]\n",
    "    tokens = []\n",
    "    for doc in docs:\n",
    "        tokens.extend([token.lemma_ for token in doc if not token.is_punct and token.lemma_ not in stop_words])\n",
    "    return tokens\n",
    "\n",
    "def topic_detection(df, nb_topics, nb_passes):\n",
    "    # Create a dictionary and corpus for Gensim\n",
    "    dictionary = corpora.Dictionary(df)\n",
    "    corpus = [dictionary.doc2bow(text) for text in df]\n",
    "    \n",
    "    # Train LDA model\n",
    "    lda_model = LdaModel(corpus, num_topics=nb_topics, id2word=dictionary, passes=nb_passes)\n",
    "    \n",
    "    # Print the topics\n",
    "    for idx, topic in lda_model.print_topics(-1, 20):\n",
    "        print(f'Topic: {idx}\\nWords: {topic}\\n')\n",
    "    \n",
    "    return lda_model, corpus, dictionary\n",
    "\n",
    "# Assign topics to characters\n",
    "def get_dominant_topic(lda_model, corpus):\n",
    "    topics = []\n",
    "    for row in corpus:\n",
    "        row = lda_model[row]\n",
    "        max_topic, max_val = 0, 0\n",
    "        for (topic_num, prop_topic) in row:\n",
    "            if prop_topic > max_val:\n",
    "                max_val = prop_topic\n",
    "                max_topic = topic_num\n",
    "        topics.append(max_topic)\n",
    "    return topics"
   ]
  },
  {
   "cell_type": "code",
   "execution_count": 10,
   "metadata": {},
   "outputs": [],
   "source": [
    "nlp = spacy.load('en_core_web_sm')\n",
    "words_to_remove = {'archetype', 'hero', 'heroism', 'value', 'values', 'none', 'represent', 'figure', 'desire', 'seek', 'seeker'}"
   ]
  },
  {
   "cell_type": "code",
   "execution_count": 30,
   "metadata": {},
   "outputs": [
    {
     "name": "stdout",
     "output_type": "stream",
     "text": [
      "Topic: 0\n",
      "Words: 0.039*\"loyalty\" + 0.024*\"sacrifice\" + 0.020*\"love\" + 0.018*\"collectivism\" + 0.013*\"revolutionary\" + 0.013*\"justice\" + 0.012*\"collective\" + 0.012*\"rebel\" + 0.012*\"resistance\" + 0.012*\"duty\" + 0.011*\"tragic\" + 0.011*\"struggle\" + 0.011*\"bravery\" + 0.010*\"community\" + 0.010*\"mentor\" + 0.009*\"conflict\" + 0.009*\"martyr\" + 0.009*\"leader\" + 0.009*\"romantic\" + 0.009*\"family\"\n",
      "\n",
      "Topic: 1\n",
      "Words: 0.052*\"resilience\" + 0.021*\"victim\" + 0.019*\"freedom\" + 0.015*\"survival\" + 0.014*\"innocence\" + 0.010*\"spirit\" + 0.010*\"rebellion\" + 0.009*\"antihero\" + 0.009*\"tragic\" + 0.008*\"struggle\" + 0.008*\"mentor\" + 0.008*\"innocent\" + 0.007*\"compassion\" + 0.007*\"trickster\" + 0.007*\"tyranny\" + 0.007*\"everyman\" + 0.007*\"american\" + 0.006*\"hope\" + 0.006*\"determination\" + 0.006*\"independence\"\n",
      "\n",
      "Topic: 2\n",
      "Words: 0.067*\"antagonist\" + 0.056*\"villain\" + 0.029*\"authority\" + 0.020*\"antihero\" + 0.019*\"manipulation\" + 0.018*\"ambition\" + 0.017*\"power\" + 0.017*\"oppression\" + 0.016*\"greed\" + 0.015*\"control\" + 0.013*\"corruption\" + 0.013*\"betrayal\" + 0.012*\"tragic\" + 0.012*\"authoritarianism\" + 0.011*\"cunne\" + 0.011*\"loyalty\" + 0.010*\"soldier\" + 0.009*\"moral\" + 0.008*\"law\" + 0.008*\"authoritarian\"\n",
      "\n",
      "dominant_topic\n",
      "0    1587\n",
      "2    1325\n",
      "1     814\n",
      "Name: count, dtype: int64\n"
     ]
    }
   ],
   "source": [
    "character_eastern['processed_repres'] = character_eastern['character_representation'].apply(preprocess, args=(nlp, words_to_remove))\n",
    "eastern_char_topic = topic_detection(character_eastern['processed_repres'], 3, 15)\n",
    "character_eastern['dominant_topic'] = get_dominant_topic(eastern_char_topic[0], eastern_char_topic[1])\n",
    "print(character_eastern['dominant_topic'].value_counts())"
   ]
  },
  {
   "cell_type": "code",
   "execution_count": 31,
   "metadata": {},
   "outputs": [
    {
     "name": "stdout",
     "output_type": "stream",
     "text": [
      "Topic: 0\n",
      "Words: 0.026*\"duty\" + 0.024*\"courage\" + 0.023*\"american\" + 0.023*\"honor\" + 0.018*\"truth\" + 0.018*\"antihero\" + 0.017*\"loyalty\" + 0.016*\"redemption\" + 0.015*\"soldier\" + 0.014*\"trickster\" + 0.013*\"resourceful\" + 0.012*\"protagonist\" + 0.011*\"heroic\" + 0.011*\"resilience\" + 0.010*\"patriotism\" + 0.010*\"british\" + 0.009*\"determine\" + 0.009*\"leader\" + 0.008*\"self\" + 0.008*\"cunne\"\n",
      "\n",
      "Topic: 1\n",
      "Words: 0.062*\"individualism\" + 0.062*\"bravery\" + 0.036*\"loyalty\" + 0.034*\"freedom\" + 0.022*\"everyman\" + 0.021*\"leadership\" + 0.021*\"tragic\" + 0.019*\"sacrifice\" + 0.019*\"antihero\" + 0.015*\"rebel\" + 0.015*\"moral\" + 0.014*\"family\" + 0.012*\"determination\" + 0.012*\"love\" + 0.012*\"heroic\" + 0.011*\"resourcefulness\" + 0.011*\"american\" + 0.010*\"camaraderie\" + 0.010*\"idealism\" + 0.007*\"mentor\"\n",
      "\n",
      "Topic: 2\n",
      "Words: 0.114*\"justice\" + 0.029*\"law\" + 0.023*\"protector\" + 0.021*\"resilience\" + 0.021*\"ambition\" + 0.019*\"enforcement\" + 0.018*\"determination\" + 0.018*\"romantic\" + 0.012*\"integrity\" + 0.012*\"antihero\" + 0.012*\"love\" + 0.012*\"protagonist\" + 0.011*\"detective\" + 0.009*\"traditional\" + 0.008*\"order\" + 0.008*\"reluctant\" + 0.008*\"teamwork\" + 0.007*\"american\" + 0.007*\"flawed\" + 0.006*\"heroine\"\n",
      "\n",
      "dominant_topic\n",
      "1    1330\n",
      "2    1063\n",
      "0     933\n",
      "Name: count, dtype: int64\n"
     ]
    }
   ],
   "source": [
    "character_western['processed_repres'] = character_western['character_representation'].apply(preprocess, args=(nlp, words_to_remove))\n",
    "western_char_topic = topic_detection(character_western['processed_repres'], 3, 15)\n",
    "character_western['dominant_topic'] = get_dominant_topic(western_char_topic[0], western_char_topic[1])\n",
    "print(character_western['dominant_topic'].value_counts())"
   ]
  },
  {
   "cell_type": "code",
   "execution_count": 32,
   "metadata": {},
   "outputs": [],
   "source": [
    "WEST_ARCHETYPES_MAP = {\n",
    "    0: 'The brave loyal soldier',\n",
    "    1: 'The individualistic rebel',\n",
    "    2: 'The moral enforcer'\n",
    "}\n",
    "\n",
    "EAST_ARCHETYPES_MAP = {\n",
    "    0: 'The Tragic Devoted Hero',\n",
    "    1: 'The Resilient Revolutionary',\n",
    "    2: 'The power-hungry manipulative villain'\n",
    "}\n",
    "\n",
    "character_western['dominant_topic_'] = character_western['dominant_topic'].map(WEST_ARCHETYPES_MAP)\n",
    "character_eastern['dominant_topic_'] = character_eastern['dominant_topic'].map(EAST_ARCHETYPES_MAP)"
   ]
  },
  {
   "cell_type": "code",
   "execution_count": 36,
   "metadata": {},
   "outputs": [
    {
     "data": {
      "application/vnd.plotly.v1+json": {
       "config": {
        "plotlyServerURL": "https://plot.ly"
       },
       "data": [
        {
         "customdata": [
          "The Resilient Revolutionary",
          "The Resilient Revolutionary"
         ],
         "hovertemplate": "Archetype: <b>%{customdata}</b><br>Representatives count: <b>%{y}</b><extra></extra>",
         "marker": {
          "color": "#DD3C32"
         },
         "name": "The Resilient Revolutionary",
         "type": "bar",
         "x": [
          "Eastern Movie",
          "Western Movie"
         ],
         "xaxis": "x",
         "y": [
          494,
          259
         ],
         "yaxis": "y"
        },
        {
         "customdata": [
          "The Tragic Devoted Hero",
          "The Tragic Devoted Hero"
         ],
         "hovertemplate": "Archetype: <b>%{customdata}</b><br>Representatives count: <b>%{y}</b><extra></extra>",
         "marker": {
          "color": "#EB8B84"
         },
         "name": "The Tragic Devoted Hero",
         "type": "bar",
         "x": [
          "Eastern Movie",
          "Western Movie"
         ],
         "xaxis": "x",
         "y": [
          1109,
          389
         ],
         "yaxis": "y"
        },
        {
         "customdata": [
          "The power-hungry manipulative villain",
          "The power-hungry manipulative villain"
         ],
         "hovertemplate": "Archetype: <b>%{customdata}</b><br>Representatives count: <b>%{y}</b><extra></extra>",
         "marker": {
          "color": "#7B1B14"
         },
         "name": "The power-hungry manipulative villain",
         "type": "bar",
         "x": [
          "Eastern Movie",
          "Western Movie"
         ],
         "xaxis": "x",
         "y": [
          530,
          676
         ],
         "yaxis": "y"
        },
        {
         "customdata": [
          "The individualistic rebel",
          "The individualistic rebel"
         ],
         "hovertemplate": "Archetype: <b>%{customdata}</b><br>Representatives count: <b>%{y}</b><extra></extra>",
         "marker": {
          "color": "#074473"
         },
         "name": "The individualistic rebel",
         "type": "bar",
         "x": [
          "Eastern Movie",
          "Western Movie"
         ],
         "xaxis": "x2",
         "y": [
          314,
          948
         ],
         "yaxis": "y2"
        },
        {
         "customdata": [
          "The moral enforcer",
          "The moral enforcer"
         ],
         "hovertemplate": "Archetype: <b>%{customdata}</b><br>Representatives count: <b>%{y}</b><extra></extra>",
         "marker": {
          "color": "#0F89E6"
         },
         "name": "The moral enforcer",
         "type": "bar",
         "x": [
          "Eastern Movie",
          "Western Movie"
         ],
         "xaxis": "x2",
         "y": [
          236,
          749
         ],
         "yaxis": "y2"
        },
        {
         "customdata": [
          "The brave loyal soldier",
          "The brave loyal soldier"
         ],
         "hovertemplate": "Archetype: <b>%{customdata}</b><br>Representatives count: <b>%{y}</b><extra></extra>",
         "marker": {
          "color": "#78C0F7"
         },
         "name": "The brave loyal soldier",
         "type": "bar",
         "x": [
          "Eastern Movie",
          "Western Movie"
         ],
         "xaxis": "x2",
         "y": [
          211,
          668
         ],
         "yaxis": "y2"
        }
       ],
       "layout": {
        "annotations": [
         {
          "font": {
           "size": 16
          },
          "showarrow": false,
          "text": "Eastern Characters",
          "x": 0.225,
          "xanchor": "center",
          "xref": "paper",
          "y": 1,
          "yanchor": "bottom",
          "yref": "paper"
         },
         {
          "font": {
           "size": 16
          },
          "showarrow": false,
          "text": "Western Characters",
          "x": 0.775,
          "xanchor": "center",
          "xref": "paper",
          "y": 1,
          "yanchor": "bottom",
          "yref": "paper"
         }
        ],
        "barmode": "stack",
        "height": 500,
        "legend": {
         "title": {
          "text": "Dominant Topics"
         }
        },
        "template": {
         "data": {
          "bar": [
           {
            "error_x": {
             "color": "#2a3f5f"
            },
            "error_y": {
             "color": "#2a3f5f"
            },
            "marker": {
             "line": {
              "color": "#E5ECF6",
              "width": 0.5
             },
             "pattern": {
              "fillmode": "overlay",
              "size": 10,
              "solidity": 0.2
             }
            },
            "type": "bar"
           }
          ],
          "barpolar": [
           {
            "marker": {
             "line": {
              "color": "#E5ECF6",
              "width": 0.5
             },
             "pattern": {
              "fillmode": "overlay",
              "size": 10,
              "solidity": 0.2
             }
            },
            "type": "barpolar"
           }
          ],
          "carpet": [
           {
            "aaxis": {
             "endlinecolor": "#2a3f5f",
             "gridcolor": "white",
             "linecolor": "white",
             "minorgridcolor": "white",
             "startlinecolor": "#2a3f5f"
            },
            "baxis": {
             "endlinecolor": "#2a3f5f",
             "gridcolor": "white",
             "linecolor": "white",
             "minorgridcolor": "white",
             "startlinecolor": "#2a3f5f"
            },
            "type": "carpet"
           }
          ],
          "choropleth": [
           {
            "colorbar": {
             "outlinewidth": 0,
             "ticks": ""
            },
            "type": "choropleth"
           }
          ],
          "contour": [
           {
            "colorbar": {
             "outlinewidth": 0,
             "ticks": ""
            },
            "colorscale": [
             [
              0,
              "#0d0887"
             ],
             [
              0.1111111111111111,
              "#46039f"
             ],
             [
              0.2222222222222222,
              "#7201a8"
             ],
             [
              0.3333333333333333,
              "#9c179e"
             ],
             [
              0.4444444444444444,
              "#bd3786"
             ],
             [
              0.5555555555555556,
              "#d8576b"
             ],
             [
              0.6666666666666666,
              "#ed7953"
             ],
             [
              0.7777777777777778,
              "#fb9f3a"
             ],
             [
              0.8888888888888888,
              "#fdca26"
             ],
             [
              1,
              "#f0f921"
             ]
            ],
            "type": "contour"
           }
          ],
          "contourcarpet": [
           {
            "colorbar": {
             "outlinewidth": 0,
             "ticks": ""
            },
            "type": "contourcarpet"
           }
          ],
          "heatmap": [
           {
            "colorbar": {
             "outlinewidth": 0,
             "ticks": ""
            },
            "colorscale": [
             [
              0,
              "#0d0887"
             ],
             [
              0.1111111111111111,
              "#46039f"
             ],
             [
              0.2222222222222222,
              "#7201a8"
             ],
             [
              0.3333333333333333,
              "#9c179e"
             ],
             [
              0.4444444444444444,
              "#bd3786"
             ],
             [
              0.5555555555555556,
              "#d8576b"
             ],
             [
              0.6666666666666666,
              "#ed7953"
             ],
             [
              0.7777777777777778,
              "#fb9f3a"
             ],
             [
              0.8888888888888888,
              "#fdca26"
             ],
             [
              1,
              "#f0f921"
             ]
            ],
            "type": "heatmap"
           }
          ],
          "heatmapgl": [
           {
            "colorbar": {
             "outlinewidth": 0,
             "ticks": ""
            },
            "colorscale": [
             [
              0,
              "#0d0887"
             ],
             [
              0.1111111111111111,
              "#46039f"
             ],
             [
              0.2222222222222222,
              "#7201a8"
             ],
             [
              0.3333333333333333,
              "#9c179e"
             ],
             [
              0.4444444444444444,
              "#bd3786"
             ],
             [
              0.5555555555555556,
              "#d8576b"
             ],
             [
              0.6666666666666666,
              "#ed7953"
             ],
             [
              0.7777777777777778,
              "#fb9f3a"
             ],
             [
              0.8888888888888888,
              "#fdca26"
             ],
             [
              1,
              "#f0f921"
             ]
            ],
            "type": "heatmapgl"
           }
          ],
          "histogram": [
           {
            "marker": {
             "pattern": {
              "fillmode": "overlay",
              "size": 10,
              "solidity": 0.2
             }
            },
            "type": "histogram"
           }
          ],
          "histogram2d": [
           {
            "colorbar": {
             "outlinewidth": 0,
             "ticks": ""
            },
            "colorscale": [
             [
              0,
              "#0d0887"
             ],
             [
              0.1111111111111111,
              "#46039f"
             ],
             [
              0.2222222222222222,
              "#7201a8"
             ],
             [
              0.3333333333333333,
              "#9c179e"
             ],
             [
              0.4444444444444444,
              "#bd3786"
             ],
             [
              0.5555555555555556,
              "#d8576b"
             ],
             [
              0.6666666666666666,
              "#ed7953"
             ],
             [
              0.7777777777777778,
              "#fb9f3a"
             ],
             [
              0.8888888888888888,
              "#fdca26"
             ],
             [
              1,
              "#f0f921"
             ]
            ],
            "type": "histogram2d"
           }
          ],
          "histogram2dcontour": [
           {
            "colorbar": {
             "outlinewidth": 0,
             "ticks": ""
            },
            "colorscale": [
             [
              0,
              "#0d0887"
             ],
             [
              0.1111111111111111,
              "#46039f"
             ],
             [
              0.2222222222222222,
              "#7201a8"
             ],
             [
              0.3333333333333333,
              "#9c179e"
             ],
             [
              0.4444444444444444,
              "#bd3786"
             ],
             [
              0.5555555555555556,
              "#d8576b"
             ],
             [
              0.6666666666666666,
              "#ed7953"
             ],
             [
              0.7777777777777778,
              "#fb9f3a"
             ],
             [
              0.8888888888888888,
              "#fdca26"
             ],
             [
              1,
              "#f0f921"
             ]
            ],
            "type": "histogram2dcontour"
           }
          ],
          "mesh3d": [
           {
            "colorbar": {
             "outlinewidth": 0,
             "ticks": ""
            },
            "type": "mesh3d"
           }
          ],
          "parcoords": [
           {
            "line": {
             "colorbar": {
              "outlinewidth": 0,
              "ticks": ""
             }
            },
            "type": "parcoords"
           }
          ],
          "pie": [
           {
            "automargin": true,
            "type": "pie"
           }
          ],
          "scatter": [
           {
            "fillpattern": {
             "fillmode": "overlay",
             "size": 10,
             "solidity": 0.2
            },
            "type": "scatter"
           }
          ],
          "scatter3d": [
           {
            "line": {
             "colorbar": {
              "outlinewidth": 0,
              "ticks": ""
             }
            },
            "marker": {
             "colorbar": {
              "outlinewidth": 0,
              "ticks": ""
             }
            },
            "type": "scatter3d"
           }
          ],
          "scattercarpet": [
           {
            "marker": {
             "colorbar": {
              "outlinewidth": 0,
              "ticks": ""
             }
            },
            "type": "scattercarpet"
           }
          ],
          "scattergeo": [
           {
            "marker": {
             "colorbar": {
              "outlinewidth": 0,
              "ticks": ""
             }
            },
            "type": "scattergeo"
           }
          ],
          "scattergl": [
           {
            "marker": {
             "colorbar": {
              "outlinewidth": 0,
              "ticks": ""
             }
            },
            "type": "scattergl"
           }
          ],
          "scattermapbox": [
           {
            "marker": {
             "colorbar": {
              "outlinewidth": 0,
              "ticks": ""
             }
            },
            "type": "scattermapbox"
           }
          ],
          "scatterpolar": [
           {
            "marker": {
             "colorbar": {
              "outlinewidth": 0,
              "ticks": ""
             }
            },
            "type": "scatterpolar"
           }
          ],
          "scatterpolargl": [
           {
            "marker": {
             "colorbar": {
              "outlinewidth": 0,
              "ticks": ""
             }
            },
            "type": "scatterpolargl"
           }
          ],
          "scatterternary": [
           {
            "marker": {
             "colorbar": {
              "outlinewidth": 0,
              "ticks": ""
             }
            },
            "type": "scatterternary"
           }
          ],
          "surface": [
           {
            "colorbar": {
             "outlinewidth": 0,
             "ticks": ""
            },
            "colorscale": [
             [
              0,
              "#0d0887"
             ],
             [
              0.1111111111111111,
              "#46039f"
             ],
             [
              0.2222222222222222,
              "#7201a8"
             ],
             [
              0.3333333333333333,
              "#9c179e"
             ],
             [
              0.4444444444444444,
              "#bd3786"
             ],
             [
              0.5555555555555556,
              "#d8576b"
             ],
             [
              0.6666666666666666,
              "#ed7953"
             ],
             [
              0.7777777777777778,
              "#fb9f3a"
             ],
             [
              0.8888888888888888,
              "#fdca26"
             ],
             [
              1,
              "#f0f921"
             ]
            ],
            "type": "surface"
           }
          ],
          "table": [
           {
            "cells": {
             "fill": {
              "color": "#EBF0F8"
             },
             "line": {
              "color": "white"
             }
            },
            "header": {
             "fill": {
              "color": "#C8D4E3"
             },
             "line": {
              "color": "white"
             }
            },
            "type": "table"
           }
          ]
         },
         "layout": {
          "annotationdefaults": {
           "arrowcolor": "#2a3f5f",
           "arrowhead": 0,
           "arrowwidth": 1
          },
          "autotypenumbers": "strict",
          "coloraxis": {
           "colorbar": {
            "outlinewidth": 0,
            "ticks": ""
           }
          },
          "colorscale": {
           "diverging": [
            [
             0,
             "#8e0152"
            ],
            [
             0.1,
             "#c51b7d"
            ],
            [
             0.2,
             "#de77ae"
            ],
            [
             0.3,
             "#f1b6da"
            ],
            [
             0.4,
             "#fde0ef"
            ],
            [
             0.5,
             "#f7f7f7"
            ],
            [
             0.6,
             "#e6f5d0"
            ],
            [
             0.7,
             "#b8e186"
            ],
            [
             0.8,
             "#7fbc41"
            ],
            [
             0.9,
             "#4d9221"
            ],
            [
             1,
             "#276419"
            ]
           ],
           "sequential": [
            [
             0,
             "#0d0887"
            ],
            [
             0.1111111111111111,
             "#46039f"
            ],
            [
             0.2222222222222222,
             "#7201a8"
            ],
            [
             0.3333333333333333,
             "#9c179e"
            ],
            [
             0.4444444444444444,
             "#bd3786"
            ],
            [
             0.5555555555555556,
             "#d8576b"
            ],
            [
             0.6666666666666666,
             "#ed7953"
            ],
            [
             0.7777777777777778,
             "#fb9f3a"
            ],
            [
             0.8888888888888888,
             "#fdca26"
            ],
            [
             1,
             "#f0f921"
            ]
           ],
           "sequentialminus": [
            [
             0,
             "#0d0887"
            ],
            [
             0.1111111111111111,
             "#46039f"
            ],
            [
             0.2222222222222222,
             "#7201a8"
            ],
            [
             0.3333333333333333,
             "#9c179e"
            ],
            [
             0.4444444444444444,
             "#bd3786"
            ],
            [
             0.5555555555555556,
             "#d8576b"
            ],
            [
             0.6666666666666666,
             "#ed7953"
            ],
            [
             0.7777777777777778,
             "#fb9f3a"
            ],
            [
             0.8888888888888888,
             "#fdca26"
            ],
            [
             1,
             "#f0f921"
            ]
           ]
          },
          "colorway": [
           "#636efa",
           "#EF553B",
           "#00cc96",
           "#ab63fa",
           "#FFA15A",
           "#19d3f3",
           "#FF6692",
           "#B6E880",
           "#FF97FF",
           "#FECB52"
          ],
          "font": {
           "color": "#2a3f5f"
          },
          "geo": {
           "bgcolor": "white",
           "lakecolor": "white",
           "landcolor": "#E5ECF6",
           "showlakes": true,
           "showland": true,
           "subunitcolor": "white"
          },
          "hoverlabel": {
           "align": "left"
          },
          "hovermode": "closest",
          "mapbox": {
           "style": "light"
          },
          "paper_bgcolor": "white",
          "plot_bgcolor": "#E5ECF6",
          "polar": {
           "angularaxis": {
            "gridcolor": "white",
            "linecolor": "white",
            "ticks": ""
           },
           "bgcolor": "#E5ECF6",
           "radialaxis": {
            "gridcolor": "white",
            "linecolor": "white",
            "ticks": ""
           }
          },
          "scene": {
           "xaxis": {
            "backgroundcolor": "#E5ECF6",
            "gridcolor": "white",
            "gridwidth": 2,
            "linecolor": "white",
            "showbackground": true,
            "ticks": "",
            "zerolinecolor": "white"
           },
           "yaxis": {
            "backgroundcolor": "#E5ECF6",
            "gridcolor": "white",
            "gridwidth": 2,
            "linecolor": "white",
            "showbackground": true,
            "ticks": "",
            "zerolinecolor": "white"
           },
           "zaxis": {
            "backgroundcolor": "#E5ECF6",
            "gridcolor": "white",
            "gridwidth": 2,
            "linecolor": "white",
            "showbackground": true,
            "ticks": "",
            "zerolinecolor": "white"
           }
          },
          "shapedefaults": {
           "line": {
            "color": "#2a3f5f"
           }
          },
          "ternary": {
           "aaxis": {
            "gridcolor": "white",
            "linecolor": "white",
            "ticks": ""
           },
           "baxis": {
            "gridcolor": "white",
            "linecolor": "white",
            "ticks": ""
           },
           "bgcolor": "#E5ECF6",
           "caxis": {
            "gridcolor": "white",
            "linecolor": "white",
            "ticks": ""
           }
          },
          "title": {
           "x": 0.05
          },
          "xaxis": {
           "automargin": true,
           "gridcolor": "white",
           "linecolor": "white",
           "ticks": "",
           "title": {
            "standoff": 15
           },
           "zerolinecolor": "white",
           "zerolinewidth": 2
          },
          "yaxis": {
           "automargin": true,
           "gridcolor": "white",
           "linecolor": "white",
           "ticks": "",
           "title": {
            "standoff": 15
           },
           "zerolinecolor": "white",
           "zerolinewidth": 2
          }
         }
        },
        "title": {
         "text": "Distribution of Eastern and Western Characters Archetypes"
        },
        "width": 1200,
        "xaxis": {
         "anchor": "y",
         "domain": [
          0,
          0.45
         ],
         "title": {
          "text": "Movie Side"
         }
        },
        "xaxis2": {
         "anchor": "y2",
         "domain": [
          0.55,
          1
         ],
         "title": {
          "text": "Movie Side"
         }
        },
        "yaxis": {
         "anchor": "x",
         "domain": [
          0,
          1
         ],
         "title": {
          "text": "Number of Characters"
         }
        },
        "yaxis2": {
         "anchor": "x2",
         "domain": [
          0,
          1
         ],
         "title": {
          "text": "Number of Characters"
         }
        }
       }
      }
     },
     "metadata": {},
     "output_type": "display_data"
    }
   ],
   "source": [
    "eastern_movie_eastern_char = character_eastern[character_eastern[\"movie_side\"] == 'Eastern']\n",
    "western_movie_eastern_char = character_eastern[character_eastern[\"movie_side\"] == 'Western']\n",
    "eastern_movie_western_char = character_western[character_western[\"movie_side\"] == 'Eastern']\n",
    "western_movie_western_char = character_western[character_western[\"movie_side\"] == 'Western']\n",
    "\n",
    "# Define color scales\n",
    "# Define color palettes for Eastern and Western characters\n",
    "eastern_colors = {\n",
    "    'The Tragic Devoted Hero': '#EB8B84',  # Light red\n",
    "    'The Resilient Revolutionary': '#DD3C32',    # Medium red\n",
    "    'The power-hungry manipulative villain': '#7B1B14'  # Dark red\n",
    "}\n",
    "\n",
    "western_colors = {\n",
    "    'The brave loyal soldier': '#78C0F7',  # Light blue\n",
    "    'The moral enforcer': '#0F89E6', # Medium blue\n",
    "    'The individualistic rebel': '#074473'   # Dark blue\n",
    "}\n",
    "\n",
    "# Combine all counts into a single DataFrame\n",
    "eastern_char_dominant_topics_df = pd.DataFrame({\n",
    "    'Eastern Movie': eastern_movie_eastern_char['dominant_topic_'].value_counts(),\n",
    "    'Western Movie': western_movie_eastern_char['dominant_topic_'].value_counts()\n",
    "}).T\n",
    "\n",
    "western_char_dominant_topics_df = pd.DataFrame({\n",
    "    'Eastern Movie': eastern_movie_western_char['dominant_topic_'].value_counts(),\n",
    "    'Western Movie': western_movie_western_char['dominant_topic_'].value_counts()\n",
    "}).T\n",
    "\n",
    "\n",
    "# Create a subplot with 1 row and 2 columns\n",
    "fig = make_subplots(\n",
    "    rows=1, cols=2,\n",
    "    subplot_titles=[\"Eastern Characters\", \"Western Characters\"]\n",
    ")\n",
    "\n",
    "# Add bars for each topic\n",
    "for topic in eastern_char_dominant_topics_df.columns:\n",
    "    fig.add_trace(go.Bar(\n",
    "        x=eastern_char_dominant_topics_df.index,\n",
    "        y=eastern_char_dominant_topics_df[topic],\n",
    "        name=f\"{topic}\",\n",
    "        marker_color=eastern_colors[topic],\n",
    "        customdata=western_char_dominant_topics_df.index.map(lambda x: topic),\n",
    "        hovertemplate='Archetype: <b>%{customdata}</b><br>Representatives count: <b>%{y}</b><extra></extra>'\n",
    "    ), row=1, col=1)\n",
    "\n",
    "# Add bars for each topic\n",
    "for topic in western_char_dominant_topics_df.columns:\n",
    "    fig.add_trace(go.Bar(\n",
    "        x=western_char_dominant_topics_df.index,\n",
    "        y=western_char_dominant_topics_df[topic],\n",
    "        name=f\"{topic}\",\n",
    "        marker_color=western_colors[topic],\n",
    "        customdata=western_char_dominant_topics_df.index.map(lambda x: topic),\n",
    "        hovertemplate='Archetype: <b>%{customdata}</b><br>Representatives count: <b>%{y}</b><extra></extra>'\n",
    "    ), row=1, col=2)\n",
    "\n",
    "# Update layout for both subplots\n",
    "fig.update_layout(\n",
    "    barmode='stack',\n",
    "    title_text='Distribution of Eastern and Western Characters Archetypes',\n",
    "    xaxis_title='Movie Side',\n",
    "    yaxis_title='Number of Characters',\n",
    "    legend_title='Dominant Topics',\n",
    "    height=500, width=1200  # Adjust figure size\n",
    ")\n",
    "\n",
    "fig.update_xaxes(title_text=\"Movie Side\", row=1, col=1)\n",
    "fig.update_yaxes(title_text=\"Number of Characters\", row=1, col=1)\n",
    "\n",
    "fig.update_xaxes(title_text=\"Movie Side\", row=1, col=2)\n",
    "fig.update_yaxes(title_text=\"Number of Characters\", row=1, col=2)\n",
    "\n",
    "fig.show()\n"
   ]
  },
  {
   "cell_type": "code",
   "execution_count": 51,
   "metadata": {},
   "outputs": [],
   "source": [
    "def compute_overall_term_freq(corpus, dictionary):\n",
    "    \"\"\"\n",
    "    Computes the overall term frequency for all words in the corpus.\n",
    "\n",
    "    Parameters:\n",
    "    - corpus: BoW representation of the corpus (list of lists of (word_id, count)).\n",
    "    - dictionary: Gensim Dictionary object mapping word IDs to words.\n",
    "\n",
    "    Returns:\n",
    "    - A Counter object mapping each word to its overall frequency in the corpus.\n",
    "    \"\"\"\n",
    "    term_freq = Counter()\n",
    "    for doc in corpus:\n",
    "        term_freq.update(dictionary[term_id] for term_id, _ in doc if term_id in dictionary)\n",
    "    return term_freq\n",
    "\n",
    "def compute_estimated_term_freq(lda_model, corpus, dictionary, top_n=15):\n",
    "    \"\"\"\n",
    "    Computes the estimated term frequency for the top N words in each topic.\n",
    "    \n",
    "    Parameters:\n",
    "    - lda_model: Trained Gensim LDA model.\n",
    "    - corpus: BoW representation of the corpus (list of lists of (word_id, count)).\n",
    "    - dictionary: Gensim Dictionary object mapping word IDs to words.\n",
    "    - top_n: Number of top words per topic to compute the frequencies for (default: 15).\n",
    "    \n",
    "    Returns:\n",
    "    - A dictionary where each topic ID maps to another dictionary of top words and their estimated frequencies.\n",
    "    \"\"\"\n",
    "    doc_topic_distrib = [dict(lda_model.get_document_topics(doc, minimum_probability=0.0)) for doc in corpus]\n",
    "    topic_term_frequencies = {}\n",
    "    \n",
    "    for topic_id in range(lda_model.num_topics):\n",
    "        top_words = lda_model.get_topic_terms(topic_id, topn=top_n)\n",
    "        word_frequencies = {}\n",
    "\n",
    "        for word_id, _ in top_words:\n",
    "            word = dictionary[word_id]\n",
    "            estimated_frequency = 0.0\n",
    "\n",
    "            # Accumulate contributions from all doc for this word\n",
    "            for doc_id, doc in enumerate(corpus):\n",
    "                word_count = dict(doc).get(word_id, 0) # Get word count in the document\n",
    "                topic_contribution = doc_topic_distrib[doc_id].get(topic_id, 0) # Topic proportion for this doc\n",
    "                estimated_frequency += topic_contribution * word_count\n",
    "\n",
    "            word_frequencies[word] = estimated_frequency\n",
    "\n",
    "        topic_term_frequencies[topic_id] = word_frequencies\n",
    "\n",
    "    return topic_term_frequencies\n",
    "\n",
    "def plotly_term_frequencies(etf_by_topic, otf_by_topic, colors, topic_dict):\n",
    "    for topic_id, word_frequencies in etf_by_topic.items():\n",
    "        words = list(word_frequencies.keys())\n",
    "        etf_values = np.sqrt(list(word_frequencies.values()))\n",
    "        otf_values = [np.sqrt(otf_by_topic[word]) for word in words]\n",
    "\n",
    "        sorted_indices = np.argsort(etf_values)\n",
    "        words = [words[i] for i in sorted_indices]\n",
    "        etf_values = [etf_values[i] for i in sorted_indices]\n",
    "        otf_values = [otf_values[i] for i in sorted_indices]\n",
    "\n",
    "        fig = go.Figure()\n",
    "\n",
    "        fig.add_trace(go.Bar(\n",
    "            y=words,\n",
    "            x=otf_values,\n",
    "            orientation='h',\n",
    "            name='Overall Term Frequency (OTF)',\n",
    "            marker=dict(color=colors[1], opacity=0.7),\n",
    "            hovertemplate='Word: <b>%{y}</b><br>sqrt(OTF) = <b>%{x}</b><extra></extra>',\n",
    "            width=0.55\n",
    "        ))\n",
    "\n",
    "        fig.add_trace(go.Bar(\n",
    "            y=words,\n",
    "            x=etf_values,\n",
    "            orientation='h',\n",
    "            name='Estimated Term Frequency within the topic (ETF)',\n",
    "            marker=dict(color=colors[0]),\n",
    "            hovertemplate='Word: <b>%{y}</b><br>sqrt(ETF) = <b>%{x}</b><extra></extra>',\n",
    "            width=0.55\n",
    "        ))\n",
    "\n",
    "        fig.update_layout(\n",
    "            title=f'Term Frequencies for archetype of {topic_dict[topic_id].lower()}',\n",
    "            xaxis_title='Frequency (sqrt scale)',\n",
    "            yaxis_title='Words',\n",
    "            barmode='overlay',\n",
    "            legend=dict(\n",
    "                x=0.95, \n",
    "                y=0.2,  \n",
    "                xanchor='right',\n",
    "                yanchor='top',\n",
    "                ),\n",
    "            height=500,  \n",
    "            width=1000,  \n",
    "            margin=dict(l=30, r=30, t=50, b=50) \n",
    "        )\n",
    "        fig.show()"
   ]
  },
  {
   "cell_type": "code",
   "execution_count": 54,
   "metadata": {},
   "outputs": [
    {
     "data": {
      "application/vnd.plotly.v1+json": {
       "config": {
        "plotlyServerURL": "https://plot.ly"
       },
       "data": [
        {
         "hovertemplate": "Word: <b>%{y}</b><br>sqrt(OTF) = <b>%{x}</b><extra></extra>",
         "marker": {
          "color": "#F3BDBA",
          "opacity": 0.7
         },
         "name": "Overall Term Frequency (OTF)",
         "orientation": "h",
         "type": "bar",
         "width": 0.55,
         "x": [
          7.937253933193772,
          8.366600265340756,
          7.810249675906654,
          9,
          8.18535277187245,
          10,
          10.099504938362077,
          9,
          9,
          9.695359714832659,
          9,
          9.486832980505138,
          11.269427669584644,
          9.695359714832659,
          10.954451150103322,
          13.490737563232042,
          10.862780491200215,
          11.445523142259598,
          13.527749258468683,
          18
         ],
         "y": [
          "leader",
          "family",
          "martyr",
          "romantic",
          "community",
          "conflict",
          "mentor",
          "rebel",
          "bravery",
          "duty",
          "resistance",
          "collective",
          "struggle",
          "revolutionary",
          "justice",
          "tragic",
          "collectivism",
          "love",
          "sacrifice",
          "loyalty"
         ]
        },
        {
         "hovertemplate": "Word: <b>%{y}</b><br>sqrt(ETF) = <b>%{x}</b><extra></extra>",
         "marker": {
          "color": "#DD3C32"
         },
         "name": "Estimated Term Frequency within the topic (ETF)",
         "orientation": "h",
         "type": "bar",
         "width": 0.55,
         "x": [
          6.437107169100406,
          6.644309316020176,
          6.656463185330554,
          7.065319108394273,
          7.097109315339164,
          7.191027940344513,
          7.259029895334084,
          7.4911540117165885,
          7.549912820637973,
          7.649483636213146,
          7.650082511628289,
          7.986047453413521,
          8.051333427985368,
          8.07450284167427,
          8.17456190103944,
          8.766780432507773,
          9.004457909902088,
          9.924980174784714,
          11.152382295077599,
          13.991147856930588
         ],
         "y": [
          "leader",
          "family",
          "martyr",
          "romantic",
          "community",
          "conflict",
          "mentor",
          "rebel",
          "bravery",
          "duty",
          "resistance",
          "collective",
          "struggle",
          "revolutionary",
          "justice",
          "tragic",
          "collectivism",
          "love",
          "sacrifice",
          "loyalty"
         ]
        }
       ],
       "layout": {
        "barmode": "overlay",
        "height": 500,
        "legend": {
         "x": 0.95,
         "xanchor": "right",
         "y": 0.2,
         "yanchor": "top"
        },
        "margin": {
         "b": 50,
         "l": 30,
         "r": 30,
         "t": 50
        },
        "template": {
         "data": {
          "bar": [
           {
            "error_x": {
             "color": "#2a3f5f"
            },
            "error_y": {
             "color": "#2a3f5f"
            },
            "marker": {
             "line": {
              "color": "#E5ECF6",
              "width": 0.5
             },
             "pattern": {
              "fillmode": "overlay",
              "size": 10,
              "solidity": 0.2
             }
            },
            "type": "bar"
           }
          ],
          "barpolar": [
           {
            "marker": {
             "line": {
              "color": "#E5ECF6",
              "width": 0.5
             },
             "pattern": {
              "fillmode": "overlay",
              "size": 10,
              "solidity": 0.2
             }
            },
            "type": "barpolar"
           }
          ],
          "carpet": [
           {
            "aaxis": {
             "endlinecolor": "#2a3f5f",
             "gridcolor": "white",
             "linecolor": "white",
             "minorgridcolor": "white",
             "startlinecolor": "#2a3f5f"
            },
            "baxis": {
             "endlinecolor": "#2a3f5f",
             "gridcolor": "white",
             "linecolor": "white",
             "minorgridcolor": "white",
             "startlinecolor": "#2a3f5f"
            },
            "type": "carpet"
           }
          ],
          "choropleth": [
           {
            "colorbar": {
             "outlinewidth": 0,
             "ticks": ""
            },
            "type": "choropleth"
           }
          ],
          "contour": [
           {
            "colorbar": {
             "outlinewidth": 0,
             "ticks": ""
            },
            "colorscale": [
             [
              0,
              "#0d0887"
             ],
             [
              0.1111111111111111,
              "#46039f"
             ],
             [
              0.2222222222222222,
              "#7201a8"
             ],
             [
              0.3333333333333333,
              "#9c179e"
             ],
             [
              0.4444444444444444,
              "#bd3786"
             ],
             [
              0.5555555555555556,
              "#d8576b"
             ],
             [
              0.6666666666666666,
              "#ed7953"
             ],
             [
              0.7777777777777778,
              "#fb9f3a"
             ],
             [
              0.8888888888888888,
              "#fdca26"
             ],
             [
              1,
              "#f0f921"
             ]
            ],
            "type": "contour"
           }
          ],
          "contourcarpet": [
           {
            "colorbar": {
             "outlinewidth": 0,
             "ticks": ""
            },
            "type": "contourcarpet"
           }
          ],
          "heatmap": [
           {
            "colorbar": {
             "outlinewidth": 0,
             "ticks": ""
            },
            "colorscale": [
             [
              0,
              "#0d0887"
             ],
             [
              0.1111111111111111,
              "#46039f"
             ],
             [
              0.2222222222222222,
              "#7201a8"
             ],
             [
              0.3333333333333333,
              "#9c179e"
             ],
             [
              0.4444444444444444,
              "#bd3786"
             ],
             [
              0.5555555555555556,
              "#d8576b"
             ],
             [
              0.6666666666666666,
              "#ed7953"
             ],
             [
              0.7777777777777778,
              "#fb9f3a"
             ],
             [
              0.8888888888888888,
              "#fdca26"
             ],
             [
              1,
              "#f0f921"
             ]
            ],
            "type": "heatmap"
           }
          ],
          "heatmapgl": [
           {
            "colorbar": {
             "outlinewidth": 0,
             "ticks": ""
            },
            "colorscale": [
             [
              0,
              "#0d0887"
             ],
             [
              0.1111111111111111,
              "#46039f"
             ],
             [
              0.2222222222222222,
              "#7201a8"
             ],
             [
              0.3333333333333333,
              "#9c179e"
             ],
             [
              0.4444444444444444,
              "#bd3786"
             ],
             [
              0.5555555555555556,
              "#d8576b"
             ],
             [
              0.6666666666666666,
              "#ed7953"
             ],
             [
              0.7777777777777778,
              "#fb9f3a"
             ],
             [
              0.8888888888888888,
              "#fdca26"
             ],
             [
              1,
              "#f0f921"
             ]
            ],
            "type": "heatmapgl"
           }
          ],
          "histogram": [
           {
            "marker": {
             "pattern": {
              "fillmode": "overlay",
              "size": 10,
              "solidity": 0.2
             }
            },
            "type": "histogram"
           }
          ],
          "histogram2d": [
           {
            "colorbar": {
             "outlinewidth": 0,
             "ticks": ""
            },
            "colorscale": [
             [
              0,
              "#0d0887"
             ],
             [
              0.1111111111111111,
              "#46039f"
             ],
             [
              0.2222222222222222,
              "#7201a8"
             ],
             [
              0.3333333333333333,
              "#9c179e"
             ],
             [
              0.4444444444444444,
              "#bd3786"
             ],
             [
              0.5555555555555556,
              "#d8576b"
             ],
             [
              0.6666666666666666,
              "#ed7953"
             ],
             [
              0.7777777777777778,
              "#fb9f3a"
             ],
             [
              0.8888888888888888,
              "#fdca26"
             ],
             [
              1,
              "#f0f921"
             ]
            ],
            "type": "histogram2d"
           }
          ],
          "histogram2dcontour": [
           {
            "colorbar": {
             "outlinewidth": 0,
             "ticks": ""
            },
            "colorscale": [
             [
              0,
              "#0d0887"
             ],
             [
              0.1111111111111111,
              "#46039f"
             ],
             [
              0.2222222222222222,
              "#7201a8"
             ],
             [
              0.3333333333333333,
              "#9c179e"
             ],
             [
              0.4444444444444444,
              "#bd3786"
             ],
             [
              0.5555555555555556,
              "#d8576b"
             ],
             [
              0.6666666666666666,
              "#ed7953"
             ],
             [
              0.7777777777777778,
              "#fb9f3a"
             ],
             [
              0.8888888888888888,
              "#fdca26"
             ],
             [
              1,
              "#f0f921"
             ]
            ],
            "type": "histogram2dcontour"
           }
          ],
          "mesh3d": [
           {
            "colorbar": {
             "outlinewidth": 0,
             "ticks": ""
            },
            "type": "mesh3d"
           }
          ],
          "parcoords": [
           {
            "line": {
             "colorbar": {
              "outlinewidth": 0,
              "ticks": ""
             }
            },
            "type": "parcoords"
           }
          ],
          "pie": [
           {
            "automargin": true,
            "type": "pie"
           }
          ],
          "scatter": [
           {
            "fillpattern": {
             "fillmode": "overlay",
             "size": 10,
             "solidity": 0.2
            },
            "type": "scatter"
           }
          ],
          "scatter3d": [
           {
            "line": {
             "colorbar": {
              "outlinewidth": 0,
              "ticks": ""
             }
            },
            "marker": {
             "colorbar": {
              "outlinewidth": 0,
              "ticks": ""
             }
            },
            "type": "scatter3d"
           }
          ],
          "scattercarpet": [
           {
            "marker": {
             "colorbar": {
              "outlinewidth": 0,
              "ticks": ""
             }
            },
            "type": "scattercarpet"
           }
          ],
          "scattergeo": [
           {
            "marker": {
             "colorbar": {
              "outlinewidth": 0,
              "ticks": ""
             }
            },
            "type": "scattergeo"
           }
          ],
          "scattergl": [
           {
            "marker": {
             "colorbar": {
              "outlinewidth": 0,
              "ticks": ""
             }
            },
            "type": "scattergl"
           }
          ],
          "scattermapbox": [
           {
            "marker": {
             "colorbar": {
              "outlinewidth": 0,
              "ticks": ""
             }
            },
            "type": "scattermapbox"
           }
          ],
          "scatterpolar": [
           {
            "marker": {
             "colorbar": {
              "outlinewidth": 0,
              "ticks": ""
             }
            },
            "type": "scatterpolar"
           }
          ],
          "scatterpolargl": [
           {
            "marker": {
             "colorbar": {
              "outlinewidth": 0,
              "ticks": ""
             }
            },
            "type": "scatterpolargl"
           }
          ],
          "scatterternary": [
           {
            "marker": {
             "colorbar": {
              "outlinewidth": 0,
              "ticks": ""
             }
            },
            "type": "scatterternary"
           }
          ],
          "surface": [
           {
            "colorbar": {
             "outlinewidth": 0,
             "ticks": ""
            },
            "colorscale": [
             [
              0,
              "#0d0887"
             ],
             [
              0.1111111111111111,
              "#46039f"
             ],
             [
              0.2222222222222222,
              "#7201a8"
             ],
             [
              0.3333333333333333,
              "#9c179e"
             ],
             [
              0.4444444444444444,
              "#bd3786"
             ],
             [
              0.5555555555555556,
              "#d8576b"
             ],
             [
              0.6666666666666666,
              "#ed7953"
             ],
             [
              0.7777777777777778,
              "#fb9f3a"
             ],
             [
              0.8888888888888888,
              "#fdca26"
             ],
             [
              1,
              "#f0f921"
             ]
            ],
            "type": "surface"
           }
          ],
          "table": [
           {
            "cells": {
             "fill": {
              "color": "#EBF0F8"
             },
             "line": {
              "color": "white"
             }
            },
            "header": {
             "fill": {
              "color": "#C8D4E3"
             },
             "line": {
              "color": "white"
             }
            },
            "type": "table"
           }
          ]
         },
         "layout": {
          "annotationdefaults": {
           "arrowcolor": "#2a3f5f",
           "arrowhead": 0,
           "arrowwidth": 1
          },
          "autotypenumbers": "strict",
          "coloraxis": {
           "colorbar": {
            "outlinewidth": 0,
            "ticks": ""
           }
          },
          "colorscale": {
           "diverging": [
            [
             0,
             "#8e0152"
            ],
            [
             0.1,
             "#c51b7d"
            ],
            [
             0.2,
             "#de77ae"
            ],
            [
             0.3,
             "#f1b6da"
            ],
            [
             0.4,
             "#fde0ef"
            ],
            [
             0.5,
             "#f7f7f7"
            ],
            [
             0.6,
             "#e6f5d0"
            ],
            [
             0.7,
             "#b8e186"
            ],
            [
             0.8,
             "#7fbc41"
            ],
            [
             0.9,
             "#4d9221"
            ],
            [
             1,
             "#276419"
            ]
           ],
           "sequential": [
            [
             0,
             "#0d0887"
            ],
            [
             0.1111111111111111,
             "#46039f"
            ],
            [
             0.2222222222222222,
             "#7201a8"
            ],
            [
             0.3333333333333333,
             "#9c179e"
            ],
            [
             0.4444444444444444,
             "#bd3786"
            ],
            [
             0.5555555555555556,
             "#d8576b"
            ],
            [
             0.6666666666666666,
             "#ed7953"
            ],
            [
             0.7777777777777778,
             "#fb9f3a"
            ],
            [
             0.8888888888888888,
             "#fdca26"
            ],
            [
             1,
             "#f0f921"
            ]
           ],
           "sequentialminus": [
            [
             0,
             "#0d0887"
            ],
            [
             0.1111111111111111,
             "#46039f"
            ],
            [
             0.2222222222222222,
             "#7201a8"
            ],
            [
             0.3333333333333333,
             "#9c179e"
            ],
            [
             0.4444444444444444,
             "#bd3786"
            ],
            [
             0.5555555555555556,
             "#d8576b"
            ],
            [
             0.6666666666666666,
             "#ed7953"
            ],
            [
             0.7777777777777778,
             "#fb9f3a"
            ],
            [
             0.8888888888888888,
             "#fdca26"
            ],
            [
             1,
             "#f0f921"
            ]
           ]
          },
          "colorway": [
           "#636efa",
           "#EF553B",
           "#00cc96",
           "#ab63fa",
           "#FFA15A",
           "#19d3f3",
           "#FF6692",
           "#B6E880",
           "#FF97FF",
           "#FECB52"
          ],
          "font": {
           "color": "#2a3f5f"
          },
          "geo": {
           "bgcolor": "white",
           "lakecolor": "white",
           "landcolor": "#E5ECF6",
           "showlakes": true,
           "showland": true,
           "subunitcolor": "white"
          },
          "hoverlabel": {
           "align": "left"
          },
          "hovermode": "closest",
          "mapbox": {
           "style": "light"
          },
          "paper_bgcolor": "white",
          "plot_bgcolor": "#E5ECF6",
          "polar": {
           "angularaxis": {
            "gridcolor": "white",
            "linecolor": "white",
            "ticks": ""
           },
           "bgcolor": "#E5ECF6",
           "radialaxis": {
            "gridcolor": "white",
            "linecolor": "white",
            "ticks": ""
           }
          },
          "scene": {
           "xaxis": {
            "backgroundcolor": "#E5ECF6",
            "gridcolor": "white",
            "gridwidth": 2,
            "linecolor": "white",
            "showbackground": true,
            "ticks": "",
            "zerolinecolor": "white"
           },
           "yaxis": {
            "backgroundcolor": "#E5ECF6",
            "gridcolor": "white",
            "gridwidth": 2,
            "linecolor": "white",
            "showbackground": true,
            "ticks": "",
            "zerolinecolor": "white"
           },
           "zaxis": {
            "backgroundcolor": "#E5ECF6",
            "gridcolor": "white",
            "gridwidth": 2,
            "linecolor": "white",
            "showbackground": true,
            "ticks": "",
            "zerolinecolor": "white"
           }
          },
          "shapedefaults": {
           "line": {
            "color": "#2a3f5f"
           }
          },
          "ternary": {
           "aaxis": {
            "gridcolor": "white",
            "linecolor": "white",
            "ticks": ""
           },
           "baxis": {
            "gridcolor": "white",
            "linecolor": "white",
            "ticks": ""
           },
           "bgcolor": "#E5ECF6",
           "caxis": {
            "gridcolor": "white",
            "linecolor": "white",
            "ticks": ""
           }
          },
          "title": {
           "x": 0.05
          },
          "xaxis": {
           "automargin": true,
           "gridcolor": "white",
           "linecolor": "white",
           "ticks": "",
           "title": {
            "standoff": 15
           },
           "zerolinecolor": "white",
           "zerolinewidth": 2
          },
          "yaxis": {
           "automargin": true,
           "gridcolor": "white",
           "linecolor": "white",
           "ticks": "",
           "title": {
            "standoff": 15
           },
           "zerolinecolor": "white",
           "zerolinewidth": 2
          }
         }
        },
        "title": {
         "text": "Term Frequencies for archetype of the tragic devoted hero"
        },
        "width": 1000,
        "xaxis": {
         "title": {
          "text": "Frequency (sqrt scale)"
         }
        },
        "yaxis": {
         "title": {
          "text": "Words"
         }
        }
       }
      }
     },
     "metadata": {},
     "output_type": "display_data"
    },
    {
     "data": {
      "application/vnd.plotly.v1+json": {
       "config": {
        "plotlyServerURL": "https://plot.ly"
       },
       "data": [
        {
         "hovertemplate": "Word: <b>%{y}</b><br>sqrt(OTF) = <b>%{x}</b><extra></extra>",
         "marker": {
          "color": "#F3BDBA",
          "opacity": 0.7
         },
         "name": "Overall Term Frequency (OTF)",
         "orientation": "h",
         "type": "bar",
         "width": 0.55,
         "x": [
          5.291502622129181,
          5.477225575051661,
          6.244997998398398,
          6,
          5.656854249492381,
          5.656854249492381,
          6.557438524302,
          8.54400374531753,
          7.3484692283495345,
          8.48528137423857,
          8.48528137423857,
          10.099504938362077,
          11.269427669584644,
          7.615773105863909,
          8,
          12.449899597988733,
          13.490737563232042,
          9.695359714832659,
          9.219544457292887,
          15.0996688705415
         ],
         "y": [
          "tyranny",
          "american",
          "independence",
          "hope",
          "compassion",
          "trickster",
          "spirit",
          "determination",
          "innocent",
          "everyman",
          "rebellion",
          "mentor",
          "struggle",
          "innocence",
          "survival",
          "antihero",
          "tragic",
          "freedom",
          "victim",
          "resilience"
         ]
        },
        {
         "hovertemplate": "Word: <b>%{y}</b><br>sqrt(ETF) = <b>%{x}</b><extra></extra>",
         "marker": {
          "color": "#DD3C32"
         },
         "name": "Estimated Term Frequency within the topic (ETF)",
         "orientation": "h",
         "type": "bar",
         "width": 0.55,
         "x": [
          3.4837522976665496,
          4.068385588826571,
          4.172053125236329,
          4.41508756229971,
          4.463225013676432,
          4.553529513657689,
          4.770698467025288,
          4.928227228366459,
          5.184121780731766,
          5.219894128149193,
          5.398633865354134,
          5.740054270179569,
          5.939196573227935,
          6.037665520150498,
          6.158854197582113,
          6.634561522081389,
          6.756372979264092,
          6.950584004381766,
          7.349100099832305,
          11.302591617935803
         ],
         "y": [
          "tyranny",
          "american",
          "independence",
          "hope",
          "compassion",
          "trickster",
          "spirit",
          "determination",
          "innocent",
          "everyman",
          "rebellion",
          "mentor",
          "struggle",
          "innocence",
          "survival",
          "antihero",
          "tragic",
          "freedom",
          "victim",
          "resilience"
         ]
        }
       ],
       "layout": {
        "barmode": "overlay",
        "height": 500,
        "legend": {
         "x": 0.95,
         "xanchor": "right",
         "y": 0.2,
         "yanchor": "top"
        },
        "margin": {
         "b": 50,
         "l": 30,
         "r": 30,
         "t": 50
        },
        "template": {
         "data": {
          "bar": [
           {
            "error_x": {
             "color": "#2a3f5f"
            },
            "error_y": {
             "color": "#2a3f5f"
            },
            "marker": {
             "line": {
              "color": "#E5ECF6",
              "width": 0.5
             },
             "pattern": {
              "fillmode": "overlay",
              "size": 10,
              "solidity": 0.2
             }
            },
            "type": "bar"
           }
          ],
          "barpolar": [
           {
            "marker": {
             "line": {
              "color": "#E5ECF6",
              "width": 0.5
             },
             "pattern": {
              "fillmode": "overlay",
              "size": 10,
              "solidity": 0.2
             }
            },
            "type": "barpolar"
           }
          ],
          "carpet": [
           {
            "aaxis": {
             "endlinecolor": "#2a3f5f",
             "gridcolor": "white",
             "linecolor": "white",
             "minorgridcolor": "white",
             "startlinecolor": "#2a3f5f"
            },
            "baxis": {
             "endlinecolor": "#2a3f5f",
             "gridcolor": "white",
             "linecolor": "white",
             "minorgridcolor": "white",
             "startlinecolor": "#2a3f5f"
            },
            "type": "carpet"
           }
          ],
          "choropleth": [
           {
            "colorbar": {
             "outlinewidth": 0,
             "ticks": ""
            },
            "type": "choropleth"
           }
          ],
          "contour": [
           {
            "colorbar": {
             "outlinewidth": 0,
             "ticks": ""
            },
            "colorscale": [
             [
              0,
              "#0d0887"
             ],
             [
              0.1111111111111111,
              "#46039f"
             ],
             [
              0.2222222222222222,
              "#7201a8"
             ],
             [
              0.3333333333333333,
              "#9c179e"
             ],
             [
              0.4444444444444444,
              "#bd3786"
             ],
             [
              0.5555555555555556,
              "#d8576b"
             ],
             [
              0.6666666666666666,
              "#ed7953"
             ],
             [
              0.7777777777777778,
              "#fb9f3a"
             ],
             [
              0.8888888888888888,
              "#fdca26"
             ],
             [
              1,
              "#f0f921"
             ]
            ],
            "type": "contour"
           }
          ],
          "contourcarpet": [
           {
            "colorbar": {
             "outlinewidth": 0,
             "ticks": ""
            },
            "type": "contourcarpet"
           }
          ],
          "heatmap": [
           {
            "colorbar": {
             "outlinewidth": 0,
             "ticks": ""
            },
            "colorscale": [
             [
              0,
              "#0d0887"
             ],
             [
              0.1111111111111111,
              "#46039f"
             ],
             [
              0.2222222222222222,
              "#7201a8"
             ],
             [
              0.3333333333333333,
              "#9c179e"
             ],
             [
              0.4444444444444444,
              "#bd3786"
             ],
             [
              0.5555555555555556,
              "#d8576b"
             ],
             [
              0.6666666666666666,
              "#ed7953"
             ],
             [
              0.7777777777777778,
              "#fb9f3a"
             ],
             [
              0.8888888888888888,
              "#fdca26"
             ],
             [
              1,
              "#f0f921"
             ]
            ],
            "type": "heatmap"
           }
          ],
          "heatmapgl": [
           {
            "colorbar": {
             "outlinewidth": 0,
             "ticks": ""
            },
            "colorscale": [
             [
              0,
              "#0d0887"
             ],
             [
              0.1111111111111111,
              "#46039f"
             ],
             [
              0.2222222222222222,
              "#7201a8"
             ],
             [
              0.3333333333333333,
              "#9c179e"
             ],
             [
              0.4444444444444444,
              "#bd3786"
             ],
             [
              0.5555555555555556,
              "#d8576b"
             ],
             [
              0.6666666666666666,
              "#ed7953"
             ],
             [
              0.7777777777777778,
              "#fb9f3a"
             ],
             [
              0.8888888888888888,
              "#fdca26"
             ],
             [
              1,
              "#f0f921"
             ]
            ],
            "type": "heatmapgl"
           }
          ],
          "histogram": [
           {
            "marker": {
             "pattern": {
              "fillmode": "overlay",
              "size": 10,
              "solidity": 0.2
             }
            },
            "type": "histogram"
           }
          ],
          "histogram2d": [
           {
            "colorbar": {
             "outlinewidth": 0,
             "ticks": ""
            },
            "colorscale": [
             [
              0,
              "#0d0887"
             ],
             [
              0.1111111111111111,
              "#46039f"
             ],
             [
              0.2222222222222222,
              "#7201a8"
             ],
             [
              0.3333333333333333,
              "#9c179e"
             ],
             [
              0.4444444444444444,
              "#bd3786"
             ],
             [
              0.5555555555555556,
              "#d8576b"
             ],
             [
              0.6666666666666666,
              "#ed7953"
             ],
             [
              0.7777777777777778,
              "#fb9f3a"
             ],
             [
              0.8888888888888888,
              "#fdca26"
             ],
             [
              1,
              "#f0f921"
             ]
            ],
            "type": "histogram2d"
           }
          ],
          "histogram2dcontour": [
           {
            "colorbar": {
             "outlinewidth": 0,
             "ticks": ""
            },
            "colorscale": [
             [
              0,
              "#0d0887"
             ],
             [
              0.1111111111111111,
              "#46039f"
             ],
             [
              0.2222222222222222,
              "#7201a8"
             ],
             [
              0.3333333333333333,
              "#9c179e"
             ],
             [
              0.4444444444444444,
              "#bd3786"
             ],
             [
              0.5555555555555556,
              "#d8576b"
             ],
             [
              0.6666666666666666,
              "#ed7953"
             ],
             [
              0.7777777777777778,
              "#fb9f3a"
             ],
             [
              0.8888888888888888,
              "#fdca26"
             ],
             [
              1,
              "#f0f921"
             ]
            ],
            "type": "histogram2dcontour"
           }
          ],
          "mesh3d": [
           {
            "colorbar": {
             "outlinewidth": 0,
             "ticks": ""
            },
            "type": "mesh3d"
           }
          ],
          "parcoords": [
           {
            "line": {
             "colorbar": {
              "outlinewidth": 0,
              "ticks": ""
             }
            },
            "type": "parcoords"
           }
          ],
          "pie": [
           {
            "automargin": true,
            "type": "pie"
           }
          ],
          "scatter": [
           {
            "fillpattern": {
             "fillmode": "overlay",
             "size": 10,
             "solidity": 0.2
            },
            "type": "scatter"
           }
          ],
          "scatter3d": [
           {
            "line": {
             "colorbar": {
              "outlinewidth": 0,
              "ticks": ""
             }
            },
            "marker": {
             "colorbar": {
              "outlinewidth": 0,
              "ticks": ""
             }
            },
            "type": "scatter3d"
           }
          ],
          "scattercarpet": [
           {
            "marker": {
             "colorbar": {
              "outlinewidth": 0,
              "ticks": ""
             }
            },
            "type": "scattercarpet"
           }
          ],
          "scattergeo": [
           {
            "marker": {
             "colorbar": {
              "outlinewidth": 0,
              "ticks": ""
             }
            },
            "type": "scattergeo"
           }
          ],
          "scattergl": [
           {
            "marker": {
             "colorbar": {
              "outlinewidth": 0,
              "ticks": ""
             }
            },
            "type": "scattergl"
           }
          ],
          "scattermapbox": [
           {
            "marker": {
             "colorbar": {
              "outlinewidth": 0,
              "ticks": ""
             }
            },
            "type": "scattermapbox"
           }
          ],
          "scatterpolar": [
           {
            "marker": {
             "colorbar": {
              "outlinewidth": 0,
              "ticks": ""
             }
            },
            "type": "scatterpolar"
           }
          ],
          "scatterpolargl": [
           {
            "marker": {
             "colorbar": {
              "outlinewidth": 0,
              "ticks": ""
             }
            },
            "type": "scatterpolargl"
           }
          ],
          "scatterternary": [
           {
            "marker": {
             "colorbar": {
              "outlinewidth": 0,
              "ticks": ""
             }
            },
            "type": "scatterternary"
           }
          ],
          "surface": [
           {
            "colorbar": {
             "outlinewidth": 0,
             "ticks": ""
            },
            "colorscale": [
             [
              0,
              "#0d0887"
             ],
             [
              0.1111111111111111,
              "#46039f"
             ],
             [
              0.2222222222222222,
              "#7201a8"
             ],
             [
              0.3333333333333333,
              "#9c179e"
             ],
             [
              0.4444444444444444,
              "#bd3786"
             ],
             [
              0.5555555555555556,
              "#d8576b"
             ],
             [
              0.6666666666666666,
              "#ed7953"
             ],
             [
              0.7777777777777778,
              "#fb9f3a"
             ],
             [
              0.8888888888888888,
              "#fdca26"
             ],
             [
              1,
              "#f0f921"
             ]
            ],
            "type": "surface"
           }
          ],
          "table": [
           {
            "cells": {
             "fill": {
              "color": "#EBF0F8"
             },
             "line": {
              "color": "white"
             }
            },
            "header": {
             "fill": {
              "color": "#C8D4E3"
             },
             "line": {
              "color": "white"
             }
            },
            "type": "table"
           }
          ]
         },
         "layout": {
          "annotationdefaults": {
           "arrowcolor": "#2a3f5f",
           "arrowhead": 0,
           "arrowwidth": 1
          },
          "autotypenumbers": "strict",
          "coloraxis": {
           "colorbar": {
            "outlinewidth": 0,
            "ticks": ""
           }
          },
          "colorscale": {
           "diverging": [
            [
             0,
             "#8e0152"
            ],
            [
             0.1,
             "#c51b7d"
            ],
            [
             0.2,
             "#de77ae"
            ],
            [
             0.3,
             "#f1b6da"
            ],
            [
             0.4,
             "#fde0ef"
            ],
            [
             0.5,
             "#f7f7f7"
            ],
            [
             0.6,
             "#e6f5d0"
            ],
            [
             0.7,
             "#b8e186"
            ],
            [
             0.8,
             "#7fbc41"
            ],
            [
             0.9,
             "#4d9221"
            ],
            [
             1,
             "#276419"
            ]
           ],
           "sequential": [
            [
             0,
             "#0d0887"
            ],
            [
             0.1111111111111111,
             "#46039f"
            ],
            [
             0.2222222222222222,
             "#7201a8"
            ],
            [
             0.3333333333333333,
             "#9c179e"
            ],
            [
             0.4444444444444444,
             "#bd3786"
            ],
            [
             0.5555555555555556,
             "#d8576b"
            ],
            [
             0.6666666666666666,
             "#ed7953"
            ],
            [
             0.7777777777777778,
             "#fb9f3a"
            ],
            [
             0.8888888888888888,
             "#fdca26"
            ],
            [
             1,
             "#f0f921"
            ]
           ],
           "sequentialminus": [
            [
             0,
             "#0d0887"
            ],
            [
             0.1111111111111111,
             "#46039f"
            ],
            [
             0.2222222222222222,
             "#7201a8"
            ],
            [
             0.3333333333333333,
             "#9c179e"
            ],
            [
             0.4444444444444444,
             "#bd3786"
            ],
            [
             0.5555555555555556,
             "#d8576b"
            ],
            [
             0.6666666666666666,
             "#ed7953"
            ],
            [
             0.7777777777777778,
             "#fb9f3a"
            ],
            [
             0.8888888888888888,
             "#fdca26"
            ],
            [
             1,
             "#f0f921"
            ]
           ]
          },
          "colorway": [
           "#636efa",
           "#EF553B",
           "#00cc96",
           "#ab63fa",
           "#FFA15A",
           "#19d3f3",
           "#FF6692",
           "#B6E880",
           "#FF97FF",
           "#FECB52"
          ],
          "font": {
           "color": "#2a3f5f"
          },
          "geo": {
           "bgcolor": "white",
           "lakecolor": "white",
           "landcolor": "#E5ECF6",
           "showlakes": true,
           "showland": true,
           "subunitcolor": "white"
          },
          "hoverlabel": {
           "align": "left"
          },
          "hovermode": "closest",
          "mapbox": {
           "style": "light"
          },
          "paper_bgcolor": "white",
          "plot_bgcolor": "#E5ECF6",
          "polar": {
           "angularaxis": {
            "gridcolor": "white",
            "linecolor": "white",
            "ticks": ""
           },
           "bgcolor": "#E5ECF6",
           "radialaxis": {
            "gridcolor": "white",
            "linecolor": "white",
            "ticks": ""
           }
          },
          "scene": {
           "xaxis": {
            "backgroundcolor": "#E5ECF6",
            "gridcolor": "white",
            "gridwidth": 2,
            "linecolor": "white",
            "showbackground": true,
            "ticks": "",
            "zerolinecolor": "white"
           },
           "yaxis": {
            "backgroundcolor": "#E5ECF6",
            "gridcolor": "white",
            "gridwidth": 2,
            "linecolor": "white",
            "showbackground": true,
            "ticks": "",
            "zerolinecolor": "white"
           },
           "zaxis": {
            "backgroundcolor": "#E5ECF6",
            "gridcolor": "white",
            "gridwidth": 2,
            "linecolor": "white",
            "showbackground": true,
            "ticks": "",
            "zerolinecolor": "white"
           }
          },
          "shapedefaults": {
           "line": {
            "color": "#2a3f5f"
           }
          },
          "ternary": {
           "aaxis": {
            "gridcolor": "white",
            "linecolor": "white",
            "ticks": ""
           },
           "baxis": {
            "gridcolor": "white",
            "linecolor": "white",
            "ticks": ""
           },
           "bgcolor": "#E5ECF6",
           "caxis": {
            "gridcolor": "white",
            "linecolor": "white",
            "ticks": ""
           }
          },
          "title": {
           "x": 0.05
          },
          "xaxis": {
           "automargin": true,
           "gridcolor": "white",
           "linecolor": "white",
           "ticks": "",
           "title": {
            "standoff": 15
           },
           "zerolinecolor": "white",
           "zerolinewidth": 2
          },
          "yaxis": {
           "automargin": true,
           "gridcolor": "white",
           "linecolor": "white",
           "ticks": "",
           "title": {
            "standoff": 15
           },
           "zerolinecolor": "white",
           "zerolinewidth": 2
          }
         }
        },
        "title": {
         "text": "Term Frequencies for archetype of the resilient revolutionary"
        },
        "width": 1000,
        "xaxis": {
         "title": {
          "text": "Frequency (sqrt scale)"
         }
        },
        "yaxis": {
         "title": {
          "text": "Words"
         }
        }
       }
      }
     },
     "metadata": {},
     "output_type": "display_data"
    },
    {
     "data": {
      "application/vnd.plotly.v1+json": {
       "config": {
        "plotlyServerURL": "https://plot.ly"
       },
       "data": [
        {
         "hovertemplate": "Word: <b>%{y}</b><br>sqrt(OTF) = <b>%{x}</b><extra></extra>",
         "marker": {
          "color": "#F3BDBA",
          "opacity": 0.7
         },
         "name": "Overall Term Frequency (OTF)",
         "orientation": "h",
         "type": "bar",
         "width": 0.55,
         "x": [
          7.416198487095663,
          6.782329983125268,
          6.855654600401044,
          9,
          8,
          8.06225774829855,
          8.54400374531753,
          8.54400374531753,
          13.490737563232042,
          9.055385138137417,
          10,
          10.954451150103322,
          9.433981132056603,
          10.14889156509222,
          10,
          18,
          12.449899597988733,
          12.922847983320086,
          17.69180601295413,
          19.4164878389476
         ],
         "y": [
          "soldier",
          "authoritarian",
          "law",
          "moral",
          "cunne",
          "authoritarianism",
          "betrayal",
          "corruption",
          "tragic",
          "control",
          "ambition",
          "oppression",
          "greed",
          "manipulation",
          "power",
          "loyalty",
          "antihero",
          "authority",
          "villain",
          "antagonist"
         ]
        },
        {
         "hovertemplate": "Word: <b>%{y}</b><br>sqrt(ETF) = <b>%{x}</b><extra></extra>",
         "marker": {
          "color": "#DD3C32"
         },
         "name": "Estimated Term Frequency within the topic (ETF)",
         "orientation": "h",
         "type": "bar",
         "width": 0.55,
         "x": [
          5.249607556865976,
          5.961024877425273,
          5.996623129572205,
          6.195725952124665,
          6.661720286883954,
          7.084378820753981,
          7.208817817254223,
          7.446993566986672,
          7.777852237037432,
          8.067214234459463,
          8.346865344747131,
          8.353068478247138,
          8.498186246640442,
          8.965973798216924,
          9.0471482688599,
          9.107723538276272,
          9.465347783565328,
          10.803395878841647,
          15.455376949865864,
          16.474628287475802
         ],
         "y": [
          "soldier",
          "authoritarian",
          "law",
          "moral",
          "cunne",
          "authoritarianism",
          "betrayal",
          "corruption",
          "tragic",
          "control",
          "ambition",
          "oppression",
          "greed",
          "manipulation",
          "power",
          "loyalty",
          "antihero",
          "authority",
          "villain",
          "antagonist"
         ]
        }
       ],
       "layout": {
        "barmode": "overlay",
        "height": 500,
        "legend": {
         "x": 0.95,
         "xanchor": "right",
         "y": 0.2,
         "yanchor": "top"
        },
        "margin": {
         "b": 50,
         "l": 30,
         "r": 30,
         "t": 50
        },
        "template": {
         "data": {
          "bar": [
           {
            "error_x": {
             "color": "#2a3f5f"
            },
            "error_y": {
             "color": "#2a3f5f"
            },
            "marker": {
             "line": {
              "color": "#E5ECF6",
              "width": 0.5
             },
             "pattern": {
              "fillmode": "overlay",
              "size": 10,
              "solidity": 0.2
             }
            },
            "type": "bar"
           }
          ],
          "barpolar": [
           {
            "marker": {
             "line": {
              "color": "#E5ECF6",
              "width": 0.5
             },
             "pattern": {
              "fillmode": "overlay",
              "size": 10,
              "solidity": 0.2
             }
            },
            "type": "barpolar"
           }
          ],
          "carpet": [
           {
            "aaxis": {
             "endlinecolor": "#2a3f5f",
             "gridcolor": "white",
             "linecolor": "white",
             "minorgridcolor": "white",
             "startlinecolor": "#2a3f5f"
            },
            "baxis": {
             "endlinecolor": "#2a3f5f",
             "gridcolor": "white",
             "linecolor": "white",
             "minorgridcolor": "white",
             "startlinecolor": "#2a3f5f"
            },
            "type": "carpet"
           }
          ],
          "choropleth": [
           {
            "colorbar": {
             "outlinewidth": 0,
             "ticks": ""
            },
            "type": "choropleth"
           }
          ],
          "contour": [
           {
            "colorbar": {
             "outlinewidth": 0,
             "ticks": ""
            },
            "colorscale": [
             [
              0,
              "#0d0887"
             ],
             [
              0.1111111111111111,
              "#46039f"
             ],
             [
              0.2222222222222222,
              "#7201a8"
             ],
             [
              0.3333333333333333,
              "#9c179e"
             ],
             [
              0.4444444444444444,
              "#bd3786"
             ],
             [
              0.5555555555555556,
              "#d8576b"
             ],
             [
              0.6666666666666666,
              "#ed7953"
             ],
             [
              0.7777777777777778,
              "#fb9f3a"
             ],
             [
              0.8888888888888888,
              "#fdca26"
             ],
             [
              1,
              "#f0f921"
             ]
            ],
            "type": "contour"
           }
          ],
          "contourcarpet": [
           {
            "colorbar": {
             "outlinewidth": 0,
             "ticks": ""
            },
            "type": "contourcarpet"
           }
          ],
          "heatmap": [
           {
            "colorbar": {
             "outlinewidth": 0,
             "ticks": ""
            },
            "colorscale": [
             [
              0,
              "#0d0887"
             ],
             [
              0.1111111111111111,
              "#46039f"
             ],
             [
              0.2222222222222222,
              "#7201a8"
             ],
             [
              0.3333333333333333,
              "#9c179e"
             ],
             [
              0.4444444444444444,
              "#bd3786"
             ],
             [
              0.5555555555555556,
              "#d8576b"
             ],
             [
              0.6666666666666666,
              "#ed7953"
             ],
             [
              0.7777777777777778,
              "#fb9f3a"
             ],
             [
              0.8888888888888888,
              "#fdca26"
             ],
             [
              1,
              "#f0f921"
             ]
            ],
            "type": "heatmap"
           }
          ],
          "heatmapgl": [
           {
            "colorbar": {
             "outlinewidth": 0,
             "ticks": ""
            },
            "colorscale": [
             [
              0,
              "#0d0887"
             ],
             [
              0.1111111111111111,
              "#46039f"
             ],
             [
              0.2222222222222222,
              "#7201a8"
             ],
             [
              0.3333333333333333,
              "#9c179e"
             ],
             [
              0.4444444444444444,
              "#bd3786"
             ],
             [
              0.5555555555555556,
              "#d8576b"
             ],
             [
              0.6666666666666666,
              "#ed7953"
             ],
             [
              0.7777777777777778,
              "#fb9f3a"
             ],
             [
              0.8888888888888888,
              "#fdca26"
             ],
             [
              1,
              "#f0f921"
             ]
            ],
            "type": "heatmapgl"
           }
          ],
          "histogram": [
           {
            "marker": {
             "pattern": {
              "fillmode": "overlay",
              "size": 10,
              "solidity": 0.2
             }
            },
            "type": "histogram"
           }
          ],
          "histogram2d": [
           {
            "colorbar": {
             "outlinewidth": 0,
             "ticks": ""
            },
            "colorscale": [
             [
              0,
              "#0d0887"
             ],
             [
              0.1111111111111111,
              "#46039f"
             ],
             [
              0.2222222222222222,
              "#7201a8"
             ],
             [
              0.3333333333333333,
              "#9c179e"
             ],
             [
              0.4444444444444444,
              "#bd3786"
             ],
             [
              0.5555555555555556,
              "#d8576b"
             ],
             [
              0.6666666666666666,
              "#ed7953"
             ],
             [
              0.7777777777777778,
              "#fb9f3a"
             ],
             [
              0.8888888888888888,
              "#fdca26"
             ],
             [
              1,
              "#f0f921"
             ]
            ],
            "type": "histogram2d"
           }
          ],
          "histogram2dcontour": [
           {
            "colorbar": {
             "outlinewidth": 0,
             "ticks": ""
            },
            "colorscale": [
             [
              0,
              "#0d0887"
             ],
             [
              0.1111111111111111,
              "#46039f"
             ],
             [
              0.2222222222222222,
              "#7201a8"
             ],
             [
              0.3333333333333333,
              "#9c179e"
             ],
             [
              0.4444444444444444,
              "#bd3786"
             ],
             [
              0.5555555555555556,
              "#d8576b"
             ],
             [
              0.6666666666666666,
              "#ed7953"
             ],
             [
              0.7777777777777778,
              "#fb9f3a"
             ],
             [
              0.8888888888888888,
              "#fdca26"
             ],
             [
              1,
              "#f0f921"
             ]
            ],
            "type": "histogram2dcontour"
           }
          ],
          "mesh3d": [
           {
            "colorbar": {
             "outlinewidth": 0,
             "ticks": ""
            },
            "type": "mesh3d"
           }
          ],
          "parcoords": [
           {
            "line": {
             "colorbar": {
              "outlinewidth": 0,
              "ticks": ""
             }
            },
            "type": "parcoords"
           }
          ],
          "pie": [
           {
            "automargin": true,
            "type": "pie"
           }
          ],
          "scatter": [
           {
            "fillpattern": {
             "fillmode": "overlay",
             "size": 10,
             "solidity": 0.2
            },
            "type": "scatter"
           }
          ],
          "scatter3d": [
           {
            "line": {
             "colorbar": {
              "outlinewidth": 0,
              "ticks": ""
             }
            },
            "marker": {
             "colorbar": {
              "outlinewidth": 0,
              "ticks": ""
             }
            },
            "type": "scatter3d"
           }
          ],
          "scattercarpet": [
           {
            "marker": {
             "colorbar": {
              "outlinewidth": 0,
              "ticks": ""
             }
            },
            "type": "scattercarpet"
           }
          ],
          "scattergeo": [
           {
            "marker": {
             "colorbar": {
              "outlinewidth": 0,
              "ticks": ""
             }
            },
            "type": "scattergeo"
           }
          ],
          "scattergl": [
           {
            "marker": {
             "colorbar": {
              "outlinewidth": 0,
              "ticks": ""
             }
            },
            "type": "scattergl"
           }
          ],
          "scattermapbox": [
           {
            "marker": {
             "colorbar": {
              "outlinewidth": 0,
              "ticks": ""
             }
            },
            "type": "scattermapbox"
           }
          ],
          "scatterpolar": [
           {
            "marker": {
             "colorbar": {
              "outlinewidth": 0,
              "ticks": ""
             }
            },
            "type": "scatterpolar"
           }
          ],
          "scatterpolargl": [
           {
            "marker": {
             "colorbar": {
              "outlinewidth": 0,
              "ticks": ""
             }
            },
            "type": "scatterpolargl"
           }
          ],
          "scatterternary": [
           {
            "marker": {
             "colorbar": {
              "outlinewidth": 0,
              "ticks": ""
             }
            },
            "type": "scatterternary"
           }
          ],
          "surface": [
           {
            "colorbar": {
             "outlinewidth": 0,
             "ticks": ""
            },
            "colorscale": [
             [
              0,
              "#0d0887"
             ],
             [
              0.1111111111111111,
              "#46039f"
             ],
             [
              0.2222222222222222,
              "#7201a8"
             ],
             [
              0.3333333333333333,
              "#9c179e"
             ],
             [
              0.4444444444444444,
              "#bd3786"
             ],
             [
              0.5555555555555556,
              "#d8576b"
             ],
             [
              0.6666666666666666,
              "#ed7953"
             ],
             [
              0.7777777777777778,
              "#fb9f3a"
             ],
             [
              0.8888888888888888,
              "#fdca26"
             ],
             [
              1,
              "#f0f921"
             ]
            ],
            "type": "surface"
           }
          ],
          "table": [
           {
            "cells": {
             "fill": {
              "color": "#EBF0F8"
             },
             "line": {
              "color": "white"
             }
            },
            "header": {
             "fill": {
              "color": "#C8D4E3"
             },
             "line": {
              "color": "white"
             }
            },
            "type": "table"
           }
          ]
         },
         "layout": {
          "annotationdefaults": {
           "arrowcolor": "#2a3f5f",
           "arrowhead": 0,
           "arrowwidth": 1
          },
          "autotypenumbers": "strict",
          "coloraxis": {
           "colorbar": {
            "outlinewidth": 0,
            "ticks": ""
           }
          },
          "colorscale": {
           "diverging": [
            [
             0,
             "#8e0152"
            ],
            [
             0.1,
             "#c51b7d"
            ],
            [
             0.2,
             "#de77ae"
            ],
            [
             0.3,
             "#f1b6da"
            ],
            [
             0.4,
             "#fde0ef"
            ],
            [
             0.5,
             "#f7f7f7"
            ],
            [
             0.6,
             "#e6f5d0"
            ],
            [
             0.7,
             "#b8e186"
            ],
            [
             0.8,
             "#7fbc41"
            ],
            [
             0.9,
             "#4d9221"
            ],
            [
             1,
             "#276419"
            ]
           ],
           "sequential": [
            [
             0,
             "#0d0887"
            ],
            [
             0.1111111111111111,
             "#46039f"
            ],
            [
             0.2222222222222222,
             "#7201a8"
            ],
            [
             0.3333333333333333,
             "#9c179e"
            ],
            [
             0.4444444444444444,
             "#bd3786"
            ],
            [
             0.5555555555555556,
             "#d8576b"
            ],
            [
             0.6666666666666666,
             "#ed7953"
            ],
            [
             0.7777777777777778,
             "#fb9f3a"
            ],
            [
             0.8888888888888888,
             "#fdca26"
            ],
            [
             1,
             "#f0f921"
            ]
           ],
           "sequentialminus": [
            [
             0,
             "#0d0887"
            ],
            [
             0.1111111111111111,
             "#46039f"
            ],
            [
             0.2222222222222222,
             "#7201a8"
            ],
            [
             0.3333333333333333,
             "#9c179e"
            ],
            [
             0.4444444444444444,
             "#bd3786"
            ],
            [
             0.5555555555555556,
             "#d8576b"
            ],
            [
             0.6666666666666666,
             "#ed7953"
            ],
            [
             0.7777777777777778,
             "#fb9f3a"
            ],
            [
             0.8888888888888888,
             "#fdca26"
            ],
            [
             1,
             "#f0f921"
            ]
           ]
          },
          "colorway": [
           "#636efa",
           "#EF553B",
           "#00cc96",
           "#ab63fa",
           "#FFA15A",
           "#19d3f3",
           "#FF6692",
           "#B6E880",
           "#FF97FF",
           "#FECB52"
          ],
          "font": {
           "color": "#2a3f5f"
          },
          "geo": {
           "bgcolor": "white",
           "lakecolor": "white",
           "landcolor": "#E5ECF6",
           "showlakes": true,
           "showland": true,
           "subunitcolor": "white"
          },
          "hoverlabel": {
           "align": "left"
          },
          "hovermode": "closest",
          "mapbox": {
           "style": "light"
          },
          "paper_bgcolor": "white",
          "plot_bgcolor": "#E5ECF6",
          "polar": {
           "angularaxis": {
            "gridcolor": "white",
            "linecolor": "white",
            "ticks": ""
           },
           "bgcolor": "#E5ECF6",
           "radialaxis": {
            "gridcolor": "white",
            "linecolor": "white",
            "ticks": ""
           }
          },
          "scene": {
           "xaxis": {
            "backgroundcolor": "#E5ECF6",
            "gridcolor": "white",
            "gridwidth": 2,
            "linecolor": "white",
            "showbackground": true,
            "ticks": "",
            "zerolinecolor": "white"
           },
           "yaxis": {
            "backgroundcolor": "#E5ECF6",
            "gridcolor": "white",
            "gridwidth": 2,
            "linecolor": "white",
            "showbackground": true,
            "ticks": "",
            "zerolinecolor": "white"
           },
           "zaxis": {
            "backgroundcolor": "#E5ECF6",
            "gridcolor": "white",
            "gridwidth": 2,
            "linecolor": "white",
            "showbackground": true,
            "ticks": "",
            "zerolinecolor": "white"
           }
          },
          "shapedefaults": {
           "line": {
            "color": "#2a3f5f"
           }
          },
          "ternary": {
           "aaxis": {
            "gridcolor": "white",
            "linecolor": "white",
            "ticks": ""
           },
           "baxis": {
            "gridcolor": "white",
            "linecolor": "white",
            "ticks": ""
           },
           "bgcolor": "#E5ECF6",
           "caxis": {
            "gridcolor": "white",
            "linecolor": "white",
            "ticks": ""
           }
          },
          "title": {
           "x": 0.05
          },
          "xaxis": {
           "automargin": true,
           "gridcolor": "white",
           "linecolor": "white",
           "ticks": "",
           "title": {
            "standoff": 15
           },
           "zerolinecolor": "white",
           "zerolinewidth": 2
          },
          "yaxis": {
           "automargin": true,
           "gridcolor": "white",
           "linecolor": "white",
           "ticks": "",
           "title": {
            "standoff": 15
           },
           "zerolinecolor": "white",
           "zerolinewidth": 2
          }
         }
        },
        "title": {
         "text": "Term Frequencies for archetype of the power-hungry manipulative villain"
        },
        "width": 1000,
        "xaxis": {
         "title": {
          "text": "Frequency (sqrt scale)"
         }
        },
        "yaxis": {
         "title": {
          "text": "Words"
         }
        }
       }
      }
     },
     "metadata": {},
     "output_type": "display_data"
    }
   ],
   "source": [
    "lda_model, corpus, dictionary = eastern_char_topic\n",
    "overall_term_freq = compute_overall_term_freq(corpus, dictionary)\n",
    "est_term_freq_by_topic = compute_estimated_term_freq(lda_model, corpus, dictionary, 20)\n",
    "plotly_term_frequencies(est_term_freq_by_topic, overall_term_freq, ['#DD3C32','#F3BDBA'], EAST_ARCHETYPES_MAP)"
   ]
  },
  {
   "cell_type": "code",
   "execution_count": 55,
   "metadata": {},
   "outputs": [
    {
     "data": {
      "application/vnd.plotly.v1+json": {
       "config": {
        "plotlyServerURL": "https://plot.ly"
       },
       "data": [
        {
         "hovertemplate": "Word: <b>%{y}</b><br>sqrt(OTF) = <b>%{x}</b><extra></extra>",
         "marker": {
          "color": "#9FD2F9",
          "opacity": 0.7
         },
         "name": "Overall Term Frequency (OTF)",
         "orientation": "h",
         "type": "bar",
         "width": 0.55,
         "x": [
          5.385164807134504,
          6.164414002968976,
          7.3484692283495345,
          6.48074069840786,
          6.164414002968976,
          7.810249675906654,
          7.3484692283495345,
          7.0710678118654755,
          8,
          9.848857801796104,
          10.246950765959598,
          7.615773105863909,
          11.357816691600547,
          8.54400374531753,
          9.38083151964686,
          9.9498743710662,
          10.099504938362077,
          14.45683229480096,
          15.716233645501712,
          13.30413469565007
         ],
         "y": [
          "cunne",
          "determine",
          "self",
          "british",
          "patriotism",
          "leader",
          "soldier",
          "resourceful",
          "redemption",
          "heroic",
          "protagonist",
          "trickster",
          "resilience",
          "truth",
          "honor",
          "duty",
          "courage",
          "antihero",
          "loyalty",
          "american"
         ]
        },
        {
         "hovertemplate": "Word: <b>%{y}</b><br>sqrt(ETF) = <b>%{x}</b><extra></extra>",
         "marker": {
          "color": "#0F89E6"
         },
         "name": "Estimated Term Frequency within the topic (ETF)",
         "orientation": "h",
         "type": "bar",
         "width": 0.55,
         "x": [
          4.405942312617169,
          4.719405633965643,
          4.926477945278465,
          5.085392297214669,
          5.098996035313416,
          5.221044431490857,
          5.80971970641011,
          5.821003203403927,
          6.0141695181546195,
          6.137855978951552,
          6.263463309169711,
          6.3618522383626255,
          6.385231031444112,
          6.6914103864845185,
          7.439321381075149,
          7.620767287237886,
          7.823685081744062,
          8.138086957077961,
          8.667183495250352,
          8.764166247139238
         ],
         "y": [
          "cunne",
          "determine",
          "self",
          "british",
          "patriotism",
          "leader",
          "soldier",
          "resourceful",
          "redemption",
          "heroic",
          "protagonist",
          "trickster",
          "resilience",
          "truth",
          "honor",
          "duty",
          "courage",
          "antihero",
          "loyalty",
          "american"
         ]
        }
       ],
       "layout": {
        "barmode": "overlay",
        "height": 500,
        "legend": {
         "x": 0.95,
         "xanchor": "right",
         "y": 0.2,
         "yanchor": "top"
        },
        "margin": {
         "b": 50,
         "l": 30,
         "r": 30,
         "t": 50
        },
        "template": {
         "data": {
          "bar": [
           {
            "error_x": {
             "color": "#2a3f5f"
            },
            "error_y": {
             "color": "#2a3f5f"
            },
            "marker": {
             "line": {
              "color": "#E5ECF6",
              "width": 0.5
             },
             "pattern": {
              "fillmode": "overlay",
              "size": 10,
              "solidity": 0.2
             }
            },
            "type": "bar"
           }
          ],
          "barpolar": [
           {
            "marker": {
             "line": {
              "color": "#E5ECF6",
              "width": 0.5
             },
             "pattern": {
              "fillmode": "overlay",
              "size": 10,
              "solidity": 0.2
             }
            },
            "type": "barpolar"
           }
          ],
          "carpet": [
           {
            "aaxis": {
             "endlinecolor": "#2a3f5f",
             "gridcolor": "white",
             "linecolor": "white",
             "minorgridcolor": "white",
             "startlinecolor": "#2a3f5f"
            },
            "baxis": {
             "endlinecolor": "#2a3f5f",
             "gridcolor": "white",
             "linecolor": "white",
             "minorgridcolor": "white",
             "startlinecolor": "#2a3f5f"
            },
            "type": "carpet"
           }
          ],
          "choropleth": [
           {
            "colorbar": {
             "outlinewidth": 0,
             "ticks": ""
            },
            "type": "choropleth"
           }
          ],
          "contour": [
           {
            "colorbar": {
             "outlinewidth": 0,
             "ticks": ""
            },
            "colorscale": [
             [
              0,
              "#0d0887"
             ],
             [
              0.1111111111111111,
              "#46039f"
             ],
             [
              0.2222222222222222,
              "#7201a8"
             ],
             [
              0.3333333333333333,
              "#9c179e"
             ],
             [
              0.4444444444444444,
              "#bd3786"
             ],
             [
              0.5555555555555556,
              "#d8576b"
             ],
             [
              0.6666666666666666,
              "#ed7953"
             ],
             [
              0.7777777777777778,
              "#fb9f3a"
             ],
             [
              0.8888888888888888,
              "#fdca26"
             ],
             [
              1,
              "#f0f921"
             ]
            ],
            "type": "contour"
           }
          ],
          "contourcarpet": [
           {
            "colorbar": {
             "outlinewidth": 0,
             "ticks": ""
            },
            "type": "contourcarpet"
           }
          ],
          "heatmap": [
           {
            "colorbar": {
             "outlinewidth": 0,
             "ticks": ""
            },
            "colorscale": [
             [
              0,
              "#0d0887"
             ],
             [
              0.1111111111111111,
              "#46039f"
             ],
             [
              0.2222222222222222,
              "#7201a8"
             ],
             [
              0.3333333333333333,
              "#9c179e"
             ],
             [
              0.4444444444444444,
              "#bd3786"
             ],
             [
              0.5555555555555556,
              "#d8576b"
             ],
             [
              0.6666666666666666,
              "#ed7953"
             ],
             [
              0.7777777777777778,
              "#fb9f3a"
             ],
             [
              0.8888888888888888,
              "#fdca26"
             ],
             [
              1,
              "#f0f921"
             ]
            ],
            "type": "heatmap"
           }
          ],
          "heatmapgl": [
           {
            "colorbar": {
             "outlinewidth": 0,
             "ticks": ""
            },
            "colorscale": [
             [
              0,
              "#0d0887"
             ],
             [
              0.1111111111111111,
              "#46039f"
             ],
             [
              0.2222222222222222,
              "#7201a8"
             ],
             [
              0.3333333333333333,
              "#9c179e"
             ],
             [
              0.4444444444444444,
              "#bd3786"
             ],
             [
              0.5555555555555556,
              "#d8576b"
             ],
             [
              0.6666666666666666,
              "#ed7953"
             ],
             [
              0.7777777777777778,
              "#fb9f3a"
             ],
             [
              0.8888888888888888,
              "#fdca26"
             ],
             [
              1,
              "#f0f921"
             ]
            ],
            "type": "heatmapgl"
           }
          ],
          "histogram": [
           {
            "marker": {
             "pattern": {
              "fillmode": "overlay",
              "size": 10,
              "solidity": 0.2
             }
            },
            "type": "histogram"
           }
          ],
          "histogram2d": [
           {
            "colorbar": {
             "outlinewidth": 0,
             "ticks": ""
            },
            "colorscale": [
             [
              0,
              "#0d0887"
             ],
             [
              0.1111111111111111,
              "#46039f"
             ],
             [
              0.2222222222222222,
              "#7201a8"
             ],
             [
              0.3333333333333333,
              "#9c179e"
             ],
             [
              0.4444444444444444,
              "#bd3786"
             ],
             [
              0.5555555555555556,
              "#d8576b"
             ],
             [
              0.6666666666666666,
              "#ed7953"
             ],
             [
              0.7777777777777778,
              "#fb9f3a"
             ],
             [
              0.8888888888888888,
              "#fdca26"
             ],
             [
              1,
              "#f0f921"
             ]
            ],
            "type": "histogram2d"
           }
          ],
          "histogram2dcontour": [
           {
            "colorbar": {
             "outlinewidth": 0,
             "ticks": ""
            },
            "colorscale": [
             [
              0,
              "#0d0887"
             ],
             [
              0.1111111111111111,
              "#46039f"
             ],
             [
              0.2222222222222222,
              "#7201a8"
             ],
             [
              0.3333333333333333,
              "#9c179e"
             ],
             [
              0.4444444444444444,
              "#bd3786"
             ],
             [
              0.5555555555555556,
              "#d8576b"
             ],
             [
              0.6666666666666666,
              "#ed7953"
             ],
             [
              0.7777777777777778,
              "#fb9f3a"
             ],
             [
              0.8888888888888888,
              "#fdca26"
             ],
             [
              1,
              "#f0f921"
             ]
            ],
            "type": "histogram2dcontour"
           }
          ],
          "mesh3d": [
           {
            "colorbar": {
             "outlinewidth": 0,
             "ticks": ""
            },
            "type": "mesh3d"
           }
          ],
          "parcoords": [
           {
            "line": {
             "colorbar": {
              "outlinewidth": 0,
              "ticks": ""
             }
            },
            "type": "parcoords"
           }
          ],
          "pie": [
           {
            "automargin": true,
            "type": "pie"
           }
          ],
          "scatter": [
           {
            "fillpattern": {
             "fillmode": "overlay",
             "size": 10,
             "solidity": 0.2
            },
            "type": "scatter"
           }
          ],
          "scatter3d": [
           {
            "line": {
             "colorbar": {
              "outlinewidth": 0,
              "ticks": ""
             }
            },
            "marker": {
             "colorbar": {
              "outlinewidth": 0,
              "ticks": ""
             }
            },
            "type": "scatter3d"
           }
          ],
          "scattercarpet": [
           {
            "marker": {
             "colorbar": {
              "outlinewidth": 0,
              "ticks": ""
             }
            },
            "type": "scattercarpet"
           }
          ],
          "scattergeo": [
           {
            "marker": {
             "colorbar": {
              "outlinewidth": 0,
              "ticks": ""
             }
            },
            "type": "scattergeo"
           }
          ],
          "scattergl": [
           {
            "marker": {
             "colorbar": {
              "outlinewidth": 0,
              "ticks": ""
             }
            },
            "type": "scattergl"
           }
          ],
          "scattermapbox": [
           {
            "marker": {
             "colorbar": {
              "outlinewidth": 0,
              "ticks": ""
             }
            },
            "type": "scattermapbox"
           }
          ],
          "scatterpolar": [
           {
            "marker": {
             "colorbar": {
              "outlinewidth": 0,
              "ticks": ""
             }
            },
            "type": "scatterpolar"
           }
          ],
          "scatterpolargl": [
           {
            "marker": {
             "colorbar": {
              "outlinewidth": 0,
              "ticks": ""
             }
            },
            "type": "scatterpolargl"
           }
          ],
          "scatterternary": [
           {
            "marker": {
             "colorbar": {
              "outlinewidth": 0,
              "ticks": ""
             }
            },
            "type": "scatterternary"
           }
          ],
          "surface": [
           {
            "colorbar": {
             "outlinewidth": 0,
             "ticks": ""
            },
            "colorscale": [
             [
              0,
              "#0d0887"
             ],
             [
              0.1111111111111111,
              "#46039f"
             ],
             [
              0.2222222222222222,
              "#7201a8"
             ],
             [
              0.3333333333333333,
              "#9c179e"
             ],
             [
              0.4444444444444444,
              "#bd3786"
             ],
             [
              0.5555555555555556,
              "#d8576b"
             ],
             [
              0.6666666666666666,
              "#ed7953"
             ],
             [
              0.7777777777777778,
              "#fb9f3a"
             ],
             [
              0.8888888888888888,
              "#fdca26"
             ],
             [
              1,
              "#f0f921"
             ]
            ],
            "type": "surface"
           }
          ],
          "table": [
           {
            "cells": {
             "fill": {
              "color": "#EBF0F8"
             },
             "line": {
              "color": "white"
             }
            },
            "header": {
             "fill": {
              "color": "#C8D4E3"
             },
             "line": {
              "color": "white"
             }
            },
            "type": "table"
           }
          ]
         },
         "layout": {
          "annotationdefaults": {
           "arrowcolor": "#2a3f5f",
           "arrowhead": 0,
           "arrowwidth": 1
          },
          "autotypenumbers": "strict",
          "coloraxis": {
           "colorbar": {
            "outlinewidth": 0,
            "ticks": ""
           }
          },
          "colorscale": {
           "diverging": [
            [
             0,
             "#8e0152"
            ],
            [
             0.1,
             "#c51b7d"
            ],
            [
             0.2,
             "#de77ae"
            ],
            [
             0.3,
             "#f1b6da"
            ],
            [
             0.4,
             "#fde0ef"
            ],
            [
             0.5,
             "#f7f7f7"
            ],
            [
             0.6,
             "#e6f5d0"
            ],
            [
             0.7,
             "#b8e186"
            ],
            [
             0.8,
             "#7fbc41"
            ],
            [
             0.9,
             "#4d9221"
            ],
            [
             1,
             "#276419"
            ]
           ],
           "sequential": [
            [
             0,
             "#0d0887"
            ],
            [
             0.1111111111111111,
             "#46039f"
            ],
            [
             0.2222222222222222,
             "#7201a8"
            ],
            [
             0.3333333333333333,
             "#9c179e"
            ],
            [
             0.4444444444444444,
             "#bd3786"
            ],
            [
             0.5555555555555556,
             "#d8576b"
            ],
            [
             0.6666666666666666,
             "#ed7953"
            ],
            [
             0.7777777777777778,
             "#fb9f3a"
            ],
            [
             0.8888888888888888,
             "#fdca26"
            ],
            [
             1,
             "#f0f921"
            ]
           ],
           "sequentialminus": [
            [
             0,
             "#0d0887"
            ],
            [
             0.1111111111111111,
             "#46039f"
            ],
            [
             0.2222222222222222,
             "#7201a8"
            ],
            [
             0.3333333333333333,
             "#9c179e"
            ],
            [
             0.4444444444444444,
             "#bd3786"
            ],
            [
             0.5555555555555556,
             "#d8576b"
            ],
            [
             0.6666666666666666,
             "#ed7953"
            ],
            [
             0.7777777777777778,
             "#fb9f3a"
            ],
            [
             0.8888888888888888,
             "#fdca26"
            ],
            [
             1,
             "#f0f921"
            ]
           ]
          },
          "colorway": [
           "#636efa",
           "#EF553B",
           "#00cc96",
           "#ab63fa",
           "#FFA15A",
           "#19d3f3",
           "#FF6692",
           "#B6E880",
           "#FF97FF",
           "#FECB52"
          ],
          "font": {
           "color": "#2a3f5f"
          },
          "geo": {
           "bgcolor": "white",
           "lakecolor": "white",
           "landcolor": "#E5ECF6",
           "showlakes": true,
           "showland": true,
           "subunitcolor": "white"
          },
          "hoverlabel": {
           "align": "left"
          },
          "hovermode": "closest",
          "mapbox": {
           "style": "light"
          },
          "paper_bgcolor": "white",
          "plot_bgcolor": "#E5ECF6",
          "polar": {
           "angularaxis": {
            "gridcolor": "white",
            "linecolor": "white",
            "ticks": ""
           },
           "bgcolor": "#E5ECF6",
           "radialaxis": {
            "gridcolor": "white",
            "linecolor": "white",
            "ticks": ""
           }
          },
          "scene": {
           "xaxis": {
            "backgroundcolor": "#E5ECF6",
            "gridcolor": "white",
            "gridwidth": 2,
            "linecolor": "white",
            "showbackground": true,
            "ticks": "",
            "zerolinecolor": "white"
           },
           "yaxis": {
            "backgroundcolor": "#E5ECF6",
            "gridcolor": "white",
            "gridwidth": 2,
            "linecolor": "white",
            "showbackground": true,
            "ticks": "",
            "zerolinecolor": "white"
           },
           "zaxis": {
            "backgroundcolor": "#E5ECF6",
            "gridcolor": "white",
            "gridwidth": 2,
            "linecolor": "white",
            "showbackground": true,
            "ticks": "",
            "zerolinecolor": "white"
           }
          },
          "shapedefaults": {
           "line": {
            "color": "#2a3f5f"
           }
          },
          "ternary": {
           "aaxis": {
            "gridcolor": "white",
            "linecolor": "white",
            "ticks": ""
           },
           "baxis": {
            "gridcolor": "white",
            "linecolor": "white",
            "ticks": ""
           },
           "bgcolor": "#E5ECF6",
           "caxis": {
            "gridcolor": "white",
            "linecolor": "white",
            "ticks": ""
           }
          },
          "title": {
           "x": 0.05
          },
          "xaxis": {
           "automargin": true,
           "gridcolor": "white",
           "linecolor": "white",
           "ticks": "",
           "title": {
            "standoff": 15
           },
           "zerolinecolor": "white",
           "zerolinewidth": 2
          },
          "yaxis": {
           "automargin": true,
           "gridcolor": "white",
           "linecolor": "white",
           "ticks": "",
           "title": {
            "standoff": 15
           },
           "zerolinecolor": "white",
           "zerolinewidth": 2
          }
         }
        },
        "title": {
         "text": "Term Frequencies for archetype of the brave loyal soldier"
        },
        "width": 1000,
        "xaxis": {
         "title": {
          "text": "Frequency (sqrt scale)"
         }
        },
        "yaxis": {
         "title": {
          "text": "Words"
         }
        }
       }
      }
     },
     "metadata": {},
     "output_type": "display_data"
    },
    {
     "data": {
      "application/vnd.plotly.v1+json": {
       "config": {
        "plotlyServerURL": "https://plot.ly"
       },
       "data": [
        {
         "hovertemplate": "Word: <b>%{y}</b><br>sqrt(OTF) = <b>%{x}</b><extra></extra>",
         "marker": {
          "color": "#9FD2F9",
          "opacity": 0.7
         },
         "name": "Overall Term Frequency (OTF)",
         "orientation": "h",
         "type": "bar",
         "width": 0.55,
         "x": [
          6.855654600401044,
          8.246211251235321,
          7.3484692283495345,
          8.426149773176359,
          9.848857801796104,
          8.426149773176359,
          8.306623862918075,
          9.1104335791443,
          10.488088481701515,
          11.61895003862225,
          13.30413469565007,
          9.9498743710662,
          10.099504938362077,
          10.392304845413264,
          11.61895003862225,
          14.45683229480096,
          12.84523257866513,
          15.716233645501712,
          17.08800749063506,
          17.08800749063506
         ],
         "y": [
          "idealism",
          "mentor",
          "resourcefulness",
          "camaraderie",
          "heroic",
          "family",
          "rebel",
          "moral",
          "love",
          "determination",
          "american",
          "sacrifice",
          "leadership",
          "tragic",
          "everyman",
          "antihero",
          "freedom",
          "loyalty",
          "bravery",
          "individualism"
         ]
        },
        {
         "hovertemplate": "Word: <b>%{y}</b><br>sqrt(ETF) = <b>%{x}</b><extra></extra>",
         "marker": {
          "color": "#0F89E6"
         },
         "name": "Estimated Term Frequency within the topic (ETF)",
         "orientation": "h",
         "type": "bar",
         "width": 0.55,
         "x": [
          5.357296873018792,
          5.602298044516455,
          6.019244794323576,
          6.029726871323387,
          6.399075388696772,
          6.649190844339558,
          6.719882968257102,
          6.828357824048655,
          6.8768467397892685,
          7.355478936277964,
          7.545676323272916,
          7.844628212691098,
          7.924970059834672,
          8.168368710577354,
          8.782141812226417,
          9.130162177573984,
          10.536113255661462,
          11.295134900053416,
          13.571825090033723,
          13.853436102881577
         ],
         "y": [
          "idealism",
          "mentor",
          "resourcefulness",
          "camaraderie",
          "heroic",
          "family",
          "rebel",
          "moral",
          "love",
          "determination",
          "american",
          "sacrifice",
          "leadership",
          "tragic",
          "everyman",
          "antihero",
          "freedom",
          "loyalty",
          "bravery",
          "individualism"
         ]
        }
       ],
       "layout": {
        "barmode": "overlay",
        "height": 500,
        "legend": {
         "x": 0.95,
         "xanchor": "right",
         "y": 0.2,
         "yanchor": "top"
        },
        "margin": {
         "b": 50,
         "l": 30,
         "r": 30,
         "t": 50
        },
        "template": {
         "data": {
          "bar": [
           {
            "error_x": {
             "color": "#2a3f5f"
            },
            "error_y": {
             "color": "#2a3f5f"
            },
            "marker": {
             "line": {
              "color": "#E5ECF6",
              "width": 0.5
             },
             "pattern": {
              "fillmode": "overlay",
              "size": 10,
              "solidity": 0.2
             }
            },
            "type": "bar"
           }
          ],
          "barpolar": [
           {
            "marker": {
             "line": {
              "color": "#E5ECF6",
              "width": 0.5
             },
             "pattern": {
              "fillmode": "overlay",
              "size": 10,
              "solidity": 0.2
             }
            },
            "type": "barpolar"
           }
          ],
          "carpet": [
           {
            "aaxis": {
             "endlinecolor": "#2a3f5f",
             "gridcolor": "white",
             "linecolor": "white",
             "minorgridcolor": "white",
             "startlinecolor": "#2a3f5f"
            },
            "baxis": {
             "endlinecolor": "#2a3f5f",
             "gridcolor": "white",
             "linecolor": "white",
             "minorgridcolor": "white",
             "startlinecolor": "#2a3f5f"
            },
            "type": "carpet"
           }
          ],
          "choropleth": [
           {
            "colorbar": {
             "outlinewidth": 0,
             "ticks": ""
            },
            "type": "choropleth"
           }
          ],
          "contour": [
           {
            "colorbar": {
             "outlinewidth": 0,
             "ticks": ""
            },
            "colorscale": [
             [
              0,
              "#0d0887"
             ],
             [
              0.1111111111111111,
              "#46039f"
             ],
             [
              0.2222222222222222,
              "#7201a8"
             ],
             [
              0.3333333333333333,
              "#9c179e"
             ],
             [
              0.4444444444444444,
              "#bd3786"
             ],
             [
              0.5555555555555556,
              "#d8576b"
             ],
             [
              0.6666666666666666,
              "#ed7953"
             ],
             [
              0.7777777777777778,
              "#fb9f3a"
             ],
             [
              0.8888888888888888,
              "#fdca26"
             ],
             [
              1,
              "#f0f921"
             ]
            ],
            "type": "contour"
           }
          ],
          "contourcarpet": [
           {
            "colorbar": {
             "outlinewidth": 0,
             "ticks": ""
            },
            "type": "contourcarpet"
           }
          ],
          "heatmap": [
           {
            "colorbar": {
             "outlinewidth": 0,
             "ticks": ""
            },
            "colorscale": [
             [
              0,
              "#0d0887"
             ],
             [
              0.1111111111111111,
              "#46039f"
             ],
             [
              0.2222222222222222,
              "#7201a8"
             ],
             [
              0.3333333333333333,
              "#9c179e"
             ],
             [
              0.4444444444444444,
              "#bd3786"
             ],
             [
              0.5555555555555556,
              "#d8576b"
             ],
             [
              0.6666666666666666,
              "#ed7953"
             ],
             [
              0.7777777777777778,
              "#fb9f3a"
             ],
             [
              0.8888888888888888,
              "#fdca26"
             ],
             [
              1,
              "#f0f921"
             ]
            ],
            "type": "heatmap"
           }
          ],
          "heatmapgl": [
           {
            "colorbar": {
             "outlinewidth": 0,
             "ticks": ""
            },
            "colorscale": [
             [
              0,
              "#0d0887"
             ],
             [
              0.1111111111111111,
              "#46039f"
             ],
             [
              0.2222222222222222,
              "#7201a8"
             ],
             [
              0.3333333333333333,
              "#9c179e"
             ],
             [
              0.4444444444444444,
              "#bd3786"
             ],
             [
              0.5555555555555556,
              "#d8576b"
             ],
             [
              0.6666666666666666,
              "#ed7953"
             ],
             [
              0.7777777777777778,
              "#fb9f3a"
             ],
             [
              0.8888888888888888,
              "#fdca26"
             ],
             [
              1,
              "#f0f921"
             ]
            ],
            "type": "heatmapgl"
           }
          ],
          "histogram": [
           {
            "marker": {
             "pattern": {
              "fillmode": "overlay",
              "size": 10,
              "solidity": 0.2
             }
            },
            "type": "histogram"
           }
          ],
          "histogram2d": [
           {
            "colorbar": {
             "outlinewidth": 0,
             "ticks": ""
            },
            "colorscale": [
             [
              0,
              "#0d0887"
             ],
             [
              0.1111111111111111,
              "#46039f"
             ],
             [
              0.2222222222222222,
              "#7201a8"
             ],
             [
              0.3333333333333333,
              "#9c179e"
             ],
             [
              0.4444444444444444,
              "#bd3786"
             ],
             [
              0.5555555555555556,
              "#d8576b"
             ],
             [
              0.6666666666666666,
              "#ed7953"
             ],
             [
              0.7777777777777778,
              "#fb9f3a"
             ],
             [
              0.8888888888888888,
              "#fdca26"
             ],
             [
              1,
              "#f0f921"
             ]
            ],
            "type": "histogram2d"
           }
          ],
          "histogram2dcontour": [
           {
            "colorbar": {
             "outlinewidth": 0,
             "ticks": ""
            },
            "colorscale": [
             [
              0,
              "#0d0887"
             ],
             [
              0.1111111111111111,
              "#46039f"
             ],
             [
              0.2222222222222222,
              "#7201a8"
             ],
             [
              0.3333333333333333,
              "#9c179e"
             ],
             [
              0.4444444444444444,
              "#bd3786"
             ],
             [
              0.5555555555555556,
              "#d8576b"
             ],
             [
              0.6666666666666666,
              "#ed7953"
             ],
             [
              0.7777777777777778,
              "#fb9f3a"
             ],
             [
              0.8888888888888888,
              "#fdca26"
             ],
             [
              1,
              "#f0f921"
             ]
            ],
            "type": "histogram2dcontour"
           }
          ],
          "mesh3d": [
           {
            "colorbar": {
             "outlinewidth": 0,
             "ticks": ""
            },
            "type": "mesh3d"
           }
          ],
          "parcoords": [
           {
            "line": {
             "colorbar": {
              "outlinewidth": 0,
              "ticks": ""
             }
            },
            "type": "parcoords"
           }
          ],
          "pie": [
           {
            "automargin": true,
            "type": "pie"
           }
          ],
          "scatter": [
           {
            "fillpattern": {
             "fillmode": "overlay",
             "size": 10,
             "solidity": 0.2
            },
            "type": "scatter"
           }
          ],
          "scatter3d": [
           {
            "line": {
             "colorbar": {
              "outlinewidth": 0,
              "ticks": ""
             }
            },
            "marker": {
             "colorbar": {
              "outlinewidth": 0,
              "ticks": ""
             }
            },
            "type": "scatter3d"
           }
          ],
          "scattercarpet": [
           {
            "marker": {
             "colorbar": {
              "outlinewidth": 0,
              "ticks": ""
             }
            },
            "type": "scattercarpet"
           }
          ],
          "scattergeo": [
           {
            "marker": {
             "colorbar": {
              "outlinewidth": 0,
              "ticks": ""
             }
            },
            "type": "scattergeo"
           }
          ],
          "scattergl": [
           {
            "marker": {
             "colorbar": {
              "outlinewidth": 0,
              "ticks": ""
             }
            },
            "type": "scattergl"
           }
          ],
          "scattermapbox": [
           {
            "marker": {
             "colorbar": {
              "outlinewidth": 0,
              "ticks": ""
             }
            },
            "type": "scattermapbox"
           }
          ],
          "scatterpolar": [
           {
            "marker": {
             "colorbar": {
              "outlinewidth": 0,
              "ticks": ""
             }
            },
            "type": "scatterpolar"
           }
          ],
          "scatterpolargl": [
           {
            "marker": {
             "colorbar": {
              "outlinewidth": 0,
              "ticks": ""
             }
            },
            "type": "scatterpolargl"
           }
          ],
          "scatterternary": [
           {
            "marker": {
             "colorbar": {
              "outlinewidth": 0,
              "ticks": ""
             }
            },
            "type": "scatterternary"
           }
          ],
          "surface": [
           {
            "colorbar": {
             "outlinewidth": 0,
             "ticks": ""
            },
            "colorscale": [
             [
              0,
              "#0d0887"
             ],
             [
              0.1111111111111111,
              "#46039f"
             ],
             [
              0.2222222222222222,
              "#7201a8"
             ],
             [
              0.3333333333333333,
              "#9c179e"
             ],
             [
              0.4444444444444444,
              "#bd3786"
             ],
             [
              0.5555555555555556,
              "#d8576b"
             ],
             [
              0.6666666666666666,
              "#ed7953"
             ],
             [
              0.7777777777777778,
              "#fb9f3a"
             ],
             [
              0.8888888888888888,
              "#fdca26"
             ],
             [
              1,
              "#f0f921"
             ]
            ],
            "type": "surface"
           }
          ],
          "table": [
           {
            "cells": {
             "fill": {
              "color": "#EBF0F8"
             },
             "line": {
              "color": "white"
             }
            },
            "header": {
             "fill": {
              "color": "#C8D4E3"
             },
             "line": {
              "color": "white"
             }
            },
            "type": "table"
           }
          ]
         },
         "layout": {
          "annotationdefaults": {
           "arrowcolor": "#2a3f5f",
           "arrowhead": 0,
           "arrowwidth": 1
          },
          "autotypenumbers": "strict",
          "coloraxis": {
           "colorbar": {
            "outlinewidth": 0,
            "ticks": ""
           }
          },
          "colorscale": {
           "diverging": [
            [
             0,
             "#8e0152"
            ],
            [
             0.1,
             "#c51b7d"
            ],
            [
             0.2,
             "#de77ae"
            ],
            [
             0.3,
             "#f1b6da"
            ],
            [
             0.4,
             "#fde0ef"
            ],
            [
             0.5,
             "#f7f7f7"
            ],
            [
             0.6,
             "#e6f5d0"
            ],
            [
             0.7,
             "#b8e186"
            ],
            [
             0.8,
             "#7fbc41"
            ],
            [
             0.9,
             "#4d9221"
            ],
            [
             1,
             "#276419"
            ]
           ],
           "sequential": [
            [
             0,
             "#0d0887"
            ],
            [
             0.1111111111111111,
             "#46039f"
            ],
            [
             0.2222222222222222,
             "#7201a8"
            ],
            [
             0.3333333333333333,
             "#9c179e"
            ],
            [
             0.4444444444444444,
             "#bd3786"
            ],
            [
             0.5555555555555556,
             "#d8576b"
            ],
            [
             0.6666666666666666,
             "#ed7953"
            ],
            [
             0.7777777777777778,
             "#fb9f3a"
            ],
            [
             0.8888888888888888,
             "#fdca26"
            ],
            [
             1,
             "#f0f921"
            ]
           ],
           "sequentialminus": [
            [
             0,
             "#0d0887"
            ],
            [
             0.1111111111111111,
             "#46039f"
            ],
            [
             0.2222222222222222,
             "#7201a8"
            ],
            [
             0.3333333333333333,
             "#9c179e"
            ],
            [
             0.4444444444444444,
             "#bd3786"
            ],
            [
             0.5555555555555556,
             "#d8576b"
            ],
            [
             0.6666666666666666,
             "#ed7953"
            ],
            [
             0.7777777777777778,
             "#fb9f3a"
            ],
            [
             0.8888888888888888,
             "#fdca26"
            ],
            [
             1,
             "#f0f921"
            ]
           ]
          },
          "colorway": [
           "#636efa",
           "#EF553B",
           "#00cc96",
           "#ab63fa",
           "#FFA15A",
           "#19d3f3",
           "#FF6692",
           "#B6E880",
           "#FF97FF",
           "#FECB52"
          ],
          "font": {
           "color": "#2a3f5f"
          },
          "geo": {
           "bgcolor": "white",
           "lakecolor": "white",
           "landcolor": "#E5ECF6",
           "showlakes": true,
           "showland": true,
           "subunitcolor": "white"
          },
          "hoverlabel": {
           "align": "left"
          },
          "hovermode": "closest",
          "mapbox": {
           "style": "light"
          },
          "paper_bgcolor": "white",
          "plot_bgcolor": "#E5ECF6",
          "polar": {
           "angularaxis": {
            "gridcolor": "white",
            "linecolor": "white",
            "ticks": ""
           },
           "bgcolor": "#E5ECF6",
           "radialaxis": {
            "gridcolor": "white",
            "linecolor": "white",
            "ticks": ""
           }
          },
          "scene": {
           "xaxis": {
            "backgroundcolor": "#E5ECF6",
            "gridcolor": "white",
            "gridwidth": 2,
            "linecolor": "white",
            "showbackground": true,
            "ticks": "",
            "zerolinecolor": "white"
           },
           "yaxis": {
            "backgroundcolor": "#E5ECF6",
            "gridcolor": "white",
            "gridwidth": 2,
            "linecolor": "white",
            "showbackground": true,
            "ticks": "",
            "zerolinecolor": "white"
           },
           "zaxis": {
            "backgroundcolor": "#E5ECF6",
            "gridcolor": "white",
            "gridwidth": 2,
            "linecolor": "white",
            "showbackground": true,
            "ticks": "",
            "zerolinecolor": "white"
           }
          },
          "shapedefaults": {
           "line": {
            "color": "#2a3f5f"
           }
          },
          "ternary": {
           "aaxis": {
            "gridcolor": "white",
            "linecolor": "white",
            "ticks": ""
           },
           "baxis": {
            "gridcolor": "white",
            "linecolor": "white",
            "ticks": ""
           },
           "bgcolor": "#E5ECF6",
           "caxis": {
            "gridcolor": "white",
            "linecolor": "white",
            "ticks": ""
           }
          },
          "title": {
           "x": 0.05
          },
          "xaxis": {
           "automargin": true,
           "gridcolor": "white",
           "linecolor": "white",
           "ticks": "",
           "title": {
            "standoff": 15
           },
           "zerolinecolor": "white",
           "zerolinewidth": 2
          },
          "yaxis": {
           "automargin": true,
           "gridcolor": "white",
           "linecolor": "white",
           "ticks": "",
           "title": {
            "standoff": 15
           },
           "zerolinecolor": "white",
           "zerolinewidth": 2
          }
         }
        },
        "title": {
         "text": "Term Frequencies for archetype of the individualistic rebel"
        },
        "width": 1000,
        "xaxis": {
         "title": {
          "text": "Frequency (sqrt scale)"
         }
        },
        "yaxis": {
         "title": {
          "text": "Words"
         }
        }
       }
      }
     },
     "metadata": {},
     "output_type": "display_data"
    },
    {
     "data": {
      "application/vnd.plotly.v1+json": {
       "config": {
        "plotlyServerURL": "https://plot.ly"
       },
       "data": [
        {
         "hovertemplate": "Word: <b>%{y}</b><br>sqrt(OTF) = <b>%{x}</b><extra></extra>",
         "marker": {
          "color": "#9FD2F9",
          "opacity": 0.7
         },
         "name": "Overall Term Frequency (OTF)",
         "orientation": "h",
         "type": "bar",
         "width": 0.55,
         "x": [
          5.0990195135927845,
          6.324555320336759,
          6,
          7.0710678118654755,
          6.4031242374328485,
          5.830951894845301,
          8.306623862918075,
          10.344080432788601,
          10.246950765959598,
          13.30413469565007,
          10.488088481701515,
          9.1104335791443,
          9.273618495495704,
          11.357816691600547,
          11.61895003862225,
          8.774964387392123,
          14.45683229480096,
          10,
          10.862780491200215,
          21.908902300206645
         ],
         "y": [
          "flawed",
          "heroine",
          "reluctant",
          "teamwork",
          "traditional",
          "order",
          "detective",
          "integrity",
          "protagonist",
          "american",
          "love",
          "romantic",
          "ambition",
          "resilience",
          "determination",
          "enforcement",
          "antihero",
          "protector",
          "law",
          "justice"
         ]
        },
        {
         "hovertemplate": "Word: <b>%{y}</b><br>sqrt(ETF) = <b>%{x}</b><extra></extra>",
         "marker": {
          "color": "#0F89E6"
         },
         "name": "Estimated Term Frequency within the topic (ETF)",
         "orientation": "h",
         "type": "bar",
         "width": 0.55,
         "x": [
          3.8612874539770243,
          4.485378887791768,
          4.549835914034679,
          4.806462157678497,
          4.858102762244273,
          5.01573734662684,
          5.9140684749492465,
          6.6080783266443115,
          6.659622583235331,
          6.726972505294442,
          6.925096165982593,
          7.161118421406151,
          7.247822166214053,
          7.311368014065861,
          7.657279472328823,
          7.672319604262211,
          7.707897195393245,
          7.749243517648702,
          9.44254399421554,
          17.071897888761786
         ],
         "y": [
          "flawed",
          "heroine",
          "reluctant",
          "teamwork",
          "traditional",
          "order",
          "detective",
          "integrity",
          "protagonist",
          "american",
          "love",
          "romantic",
          "ambition",
          "resilience",
          "determination",
          "enforcement",
          "antihero",
          "protector",
          "law",
          "justice"
         ]
        }
       ],
       "layout": {
        "barmode": "overlay",
        "height": 500,
        "legend": {
         "x": 0.95,
         "xanchor": "right",
         "y": 0.2,
         "yanchor": "top"
        },
        "margin": {
         "b": 50,
         "l": 30,
         "r": 30,
         "t": 50
        },
        "template": {
         "data": {
          "bar": [
           {
            "error_x": {
             "color": "#2a3f5f"
            },
            "error_y": {
             "color": "#2a3f5f"
            },
            "marker": {
             "line": {
              "color": "#E5ECF6",
              "width": 0.5
             },
             "pattern": {
              "fillmode": "overlay",
              "size": 10,
              "solidity": 0.2
             }
            },
            "type": "bar"
           }
          ],
          "barpolar": [
           {
            "marker": {
             "line": {
              "color": "#E5ECF6",
              "width": 0.5
             },
             "pattern": {
              "fillmode": "overlay",
              "size": 10,
              "solidity": 0.2
             }
            },
            "type": "barpolar"
           }
          ],
          "carpet": [
           {
            "aaxis": {
             "endlinecolor": "#2a3f5f",
             "gridcolor": "white",
             "linecolor": "white",
             "minorgridcolor": "white",
             "startlinecolor": "#2a3f5f"
            },
            "baxis": {
             "endlinecolor": "#2a3f5f",
             "gridcolor": "white",
             "linecolor": "white",
             "minorgridcolor": "white",
             "startlinecolor": "#2a3f5f"
            },
            "type": "carpet"
           }
          ],
          "choropleth": [
           {
            "colorbar": {
             "outlinewidth": 0,
             "ticks": ""
            },
            "type": "choropleth"
           }
          ],
          "contour": [
           {
            "colorbar": {
             "outlinewidth": 0,
             "ticks": ""
            },
            "colorscale": [
             [
              0,
              "#0d0887"
             ],
             [
              0.1111111111111111,
              "#46039f"
             ],
             [
              0.2222222222222222,
              "#7201a8"
             ],
             [
              0.3333333333333333,
              "#9c179e"
             ],
             [
              0.4444444444444444,
              "#bd3786"
             ],
             [
              0.5555555555555556,
              "#d8576b"
             ],
             [
              0.6666666666666666,
              "#ed7953"
             ],
             [
              0.7777777777777778,
              "#fb9f3a"
             ],
             [
              0.8888888888888888,
              "#fdca26"
             ],
             [
              1,
              "#f0f921"
             ]
            ],
            "type": "contour"
           }
          ],
          "contourcarpet": [
           {
            "colorbar": {
             "outlinewidth": 0,
             "ticks": ""
            },
            "type": "contourcarpet"
           }
          ],
          "heatmap": [
           {
            "colorbar": {
             "outlinewidth": 0,
             "ticks": ""
            },
            "colorscale": [
             [
              0,
              "#0d0887"
             ],
             [
              0.1111111111111111,
              "#46039f"
             ],
             [
              0.2222222222222222,
              "#7201a8"
             ],
             [
              0.3333333333333333,
              "#9c179e"
             ],
             [
              0.4444444444444444,
              "#bd3786"
             ],
             [
              0.5555555555555556,
              "#d8576b"
             ],
             [
              0.6666666666666666,
              "#ed7953"
             ],
             [
              0.7777777777777778,
              "#fb9f3a"
             ],
             [
              0.8888888888888888,
              "#fdca26"
             ],
             [
              1,
              "#f0f921"
             ]
            ],
            "type": "heatmap"
           }
          ],
          "heatmapgl": [
           {
            "colorbar": {
             "outlinewidth": 0,
             "ticks": ""
            },
            "colorscale": [
             [
              0,
              "#0d0887"
             ],
             [
              0.1111111111111111,
              "#46039f"
             ],
             [
              0.2222222222222222,
              "#7201a8"
             ],
             [
              0.3333333333333333,
              "#9c179e"
             ],
             [
              0.4444444444444444,
              "#bd3786"
             ],
             [
              0.5555555555555556,
              "#d8576b"
             ],
             [
              0.6666666666666666,
              "#ed7953"
             ],
             [
              0.7777777777777778,
              "#fb9f3a"
             ],
             [
              0.8888888888888888,
              "#fdca26"
             ],
             [
              1,
              "#f0f921"
             ]
            ],
            "type": "heatmapgl"
           }
          ],
          "histogram": [
           {
            "marker": {
             "pattern": {
              "fillmode": "overlay",
              "size": 10,
              "solidity": 0.2
             }
            },
            "type": "histogram"
           }
          ],
          "histogram2d": [
           {
            "colorbar": {
             "outlinewidth": 0,
             "ticks": ""
            },
            "colorscale": [
             [
              0,
              "#0d0887"
             ],
             [
              0.1111111111111111,
              "#46039f"
             ],
             [
              0.2222222222222222,
              "#7201a8"
             ],
             [
              0.3333333333333333,
              "#9c179e"
             ],
             [
              0.4444444444444444,
              "#bd3786"
             ],
             [
              0.5555555555555556,
              "#d8576b"
             ],
             [
              0.6666666666666666,
              "#ed7953"
             ],
             [
              0.7777777777777778,
              "#fb9f3a"
             ],
             [
              0.8888888888888888,
              "#fdca26"
             ],
             [
              1,
              "#f0f921"
             ]
            ],
            "type": "histogram2d"
           }
          ],
          "histogram2dcontour": [
           {
            "colorbar": {
             "outlinewidth": 0,
             "ticks": ""
            },
            "colorscale": [
             [
              0,
              "#0d0887"
             ],
             [
              0.1111111111111111,
              "#46039f"
             ],
             [
              0.2222222222222222,
              "#7201a8"
             ],
             [
              0.3333333333333333,
              "#9c179e"
             ],
             [
              0.4444444444444444,
              "#bd3786"
             ],
             [
              0.5555555555555556,
              "#d8576b"
             ],
             [
              0.6666666666666666,
              "#ed7953"
             ],
             [
              0.7777777777777778,
              "#fb9f3a"
             ],
             [
              0.8888888888888888,
              "#fdca26"
             ],
             [
              1,
              "#f0f921"
             ]
            ],
            "type": "histogram2dcontour"
           }
          ],
          "mesh3d": [
           {
            "colorbar": {
             "outlinewidth": 0,
             "ticks": ""
            },
            "type": "mesh3d"
           }
          ],
          "parcoords": [
           {
            "line": {
             "colorbar": {
              "outlinewidth": 0,
              "ticks": ""
             }
            },
            "type": "parcoords"
           }
          ],
          "pie": [
           {
            "automargin": true,
            "type": "pie"
           }
          ],
          "scatter": [
           {
            "fillpattern": {
             "fillmode": "overlay",
             "size": 10,
             "solidity": 0.2
            },
            "type": "scatter"
           }
          ],
          "scatter3d": [
           {
            "line": {
             "colorbar": {
              "outlinewidth": 0,
              "ticks": ""
             }
            },
            "marker": {
             "colorbar": {
              "outlinewidth": 0,
              "ticks": ""
             }
            },
            "type": "scatter3d"
           }
          ],
          "scattercarpet": [
           {
            "marker": {
             "colorbar": {
              "outlinewidth": 0,
              "ticks": ""
             }
            },
            "type": "scattercarpet"
           }
          ],
          "scattergeo": [
           {
            "marker": {
             "colorbar": {
              "outlinewidth": 0,
              "ticks": ""
             }
            },
            "type": "scattergeo"
           }
          ],
          "scattergl": [
           {
            "marker": {
             "colorbar": {
              "outlinewidth": 0,
              "ticks": ""
             }
            },
            "type": "scattergl"
           }
          ],
          "scattermapbox": [
           {
            "marker": {
             "colorbar": {
              "outlinewidth": 0,
              "ticks": ""
             }
            },
            "type": "scattermapbox"
           }
          ],
          "scatterpolar": [
           {
            "marker": {
             "colorbar": {
              "outlinewidth": 0,
              "ticks": ""
             }
            },
            "type": "scatterpolar"
           }
          ],
          "scatterpolargl": [
           {
            "marker": {
             "colorbar": {
              "outlinewidth": 0,
              "ticks": ""
             }
            },
            "type": "scatterpolargl"
           }
          ],
          "scatterternary": [
           {
            "marker": {
             "colorbar": {
              "outlinewidth": 0,
              "ticks": ""
             }
            },
            "type": "scatterternary"
           }
          ],
          "surface": [
           {
            "colorbar": {
             "outlinewidth": 0,
             "ticks": ""
            },
            "colorscale": [
             [
              0,
              "#0d0887"
             ],
             [
              0.1111111111111111,
              "#46039f"
             ],
             [
              0.2222222222222222,
              "#7201a8"
             ],
             [
              0.3333333333333333,
              "#9c179e"
             ],
             [
              0.4444444444444444,
              "#bd3786"
             ],
             [
              0.5555555555555556,
              "#d8576b"
             ],
             [
              0.6666666666666666,
              "#ed7953"
             ],
             [
              0.7777777777777778,
              "#fb9f3a"
             ],
             [
              0.8888888888888888,
              "#fdca26"
             ],
             [
              1,
              "#f0f921"
             ]
            ],
            "type": "surface"
           }
          ],
          "table": [
           {
            "cells": {
             "fill": {
              "color": "#EBF0F8"
             },
             "line": {
              "color": "white"
             }
            },
            "header": {
             "fill": {
              "color": "#C8D4E3"
             },
             "line": {
              "color": "white"
             }
            },
            "type": "table"
           }
          ]
         },
         "layout": {
          "annotationdefaults": {
           "arrowcolor": "#2a3f5f",
           "arrowhead": 0,
           "arrowwidth": 1
          },
          "autotypenumbers": "strict",
          "coloraxis": {
           "colorbar": {
            "outlinewidth": 0,
            "ticks": ""
           }
          },
          "colorscale": {
           "diverging": [
            [
             0,
             "#8e0152"
            ],
            [
             0.1,
             "#c51b7d"
            ],
            [
             0.2,
             "#de77ae"
            ],
            [
             0.3,
             "#f1b6da"
            ],
            [
             0.4,
             "#fde0ef"
            ],
            [
             0.5,
             "#f7f7f7"
            ],
            [
             0.6,
             "#e6f5d0"
            ],
            [
             0.7,
             "#b8e186"
            ],
            [
             0.8,
             "#7fbc41"
            ],
            [
             0.9,
             "#4d9221"
            ],
            [
             1,
             "#276419"
            ]
           ],
           "sequential": [
            [
             0,
             "#0d0887"
            ],
            [
             0.1111111111111111,
             "#46039f"
            ],
            [
             0.2222222222222222,
             "#7201a8"
            ],
            [
             0.3333333333333333,
             "#9c179e"
            ],
            [
             0.4444444444444444,
             "#bd3786"
            ],
            [
             0.5555555555555556,
             "#d8576b"
            ],
            [
             0.6666666666666666,
             "#ed7953"
            ],
            [
             0.7777777777777778,
             "#fb9f3a"
            ],
            [
             0.8888888888888888,
             "#fdca26"
            ],
            [
             1,
             "#f0f921"
            ]
           ],
           "sequentialminus": [
            [
             0,
             "#0d0887"
            ],
            [
             0.1111111111111111,
             "#46039f"
            ],
            [
             0.2222222222222222,
             "#7201a8"
            ],
            [
             0.3333333333333333,
             "#9c179e"
            ],
            [
             0.4444444444444444,
             "#bd3786"
            ],
            [
             0.5555555555555556,
             "#d8576b"
            ],
            [
             0.6666666666666666,
             "#ed7953"
            ],
            [
             0.7777777777777778,
             "#fb9f3a"
            ],
            [
             0.8888888888888888,
             "#fdca26"
            ],
            [
             1,
             "#f0f921"
            ]
           ]
          },
          "colorway": [
           "#636efa",
           "#EF553B",
           "#00cc96",
           "#ab63fa",
           "#FFA15A",
           "#19d3f3",
           "#FF6692",
           "#B6E880",
           "#FF97FF",
           "#FECB52"
          ],
          "font": {
           "color": "#2a3f5f"
          },
          "geo": {
           "bgcolor": "white",
           "lakecolor": "white",
           "landcolor": "#E5ECF6",
           "showlakes": true,
           "showland": true,
           "subunitcolor": "white"
          },
          "hoverlabel": {
           "align": "left"
          },
          "hovermode": "closest",
          "mapbox": {
           "style": "light"
          },
          "paper_bgcolor": "white",
          "plot_bgcolor": "#E5ECF6",
          "polar": {
           "angularaxis": {
            "gridcolor": "white",
            "linecolor": "white",
            "ticks": ""
           },
           "bgcolor": "#E5ECF6",
           "radialaxis": {
            "gridcolor": "white",
            "linecolor": "white",
            "ticks": ""
           }
          },
          "scene": {
           "xaxis": {
            "backgroundcolor": "#E5ECF6",
            "gridcolor": "white",
            "gridwidth": 2,
            "linecolor": "white",
            "showbackground": true,
            "ticks": "",
            "zerolinecolor": "white"
           },
           "yaxis": {
            "backgroundcolor": "#E5ECF6",
            "gridcolor": "white",
            "gridwidth": 2,
            "linecolor": "white",
            "showbackground": true,
            "ticks": "",
            "zerolinecolor": "white"
           },
           "zaxis": {
            "backgroundcolor": "#E5ECF6",
            "gridcolor": "white",
            "gridwidth": 2,
            "linecolor": "white",
            "showbackground": true,
            "ticks": "",
            "zerolinecolor": "white"
           }
          },
          "shapedefaults": {
           "line": {
            "color": "#2a3f5f"
           }
          },
          "ternary": {
           "aaxis": {
            "gridcolor": "white",
            "linecolor": "white",
            "ticks": ""
           },
           "baxis": {
            "gridcolor": "white",
            "linecolor": "white",
            "ticks": ""
           },
           "bgcolor": "#E5ECF6",
           "caxis": {
            "gridcolor": "white",
            "linecolor": "white",
            "ticks": ""
           }
          },
          "title": {
           "x": 0.05
          },
          "xaxis": {
           "automargin": true,
           "gridcolor": "white",
           "linecolor": "white",
           "ticks": "",
           "title": {
            "standoff": 15
           },
           "zerolinecolor": "white",
           "zerolinewidth": 2
          },
          "yaxis": {
           "automargin": true,
           "gridcolor": "white",
           "linecolor": "white",
           "ticks": "",
           "title": {
            "standoff": 15
           },
           "zerolinecolor": "white",
           "zerolinewidth": 2
          }
         }
        },
        "title": {
         "text": "Term Frequencies for archetype of the moral enforcer"
        },
        "width": 1000,
        "xaxis": {
         "title": {
          "text": "Frequency (sqrt scale)"
         }
        },
        "yaxis": {
         "title": {
          "text": "Words"
         }
        }
       }
      }
     },
     "metadata": {},
     "output_type": "display_data"
    }
   ],
   "source": [
    "lda_model, corpus, dictionary = western_char_topic\n",
    "overall_term_freq = compute_overall_term_freq(corpus, dictionary)\n",
    "est_term_freq_by_topic = compute_estimated_term_freq(lda_model, corpus, dictionary, 20)\n",
    "plotly_term_frequencies(est_term_freq_by_topic, overall_term_freq, ['#0F89E6', '#9FD2F9'], WEST_ARCHETYPES_MAP)"
   ]
  },
  {
   "cell_type": "code",
   "execution_count": 18,
   "metadata": {},
   "outputs": [],
   "source": [
    "# plot topics\n",
    "import pyLDAvis\n",
    "from pyLDAvis import gensim_models"
   ]
  },
  {
   "cell_type": "code",
   "execution_count": 19,
   "metadata": {},
   "outputs": [
    {
     "data": {
      "text/html": [
       "\n",
       "<link rel=\"stylesheet\" type=\"text/css\" href=\"https://cdn.jsdelivr.net/gh/bmabey/pyLDAvis@3.4.0/pyLDAvis/js/ldavis.v1.0.0.css\">\n",
       "\n",
       "\n",
       "<div id=\"ldavis_el26057219768721924808540037772\" style=\"background-color:white;\"></div>\n",
       "<script type=\"text/javascript\">\n",
       "\n",
       "var ldavis_el26057219768721924808540037772_data = {\"mdsDat\": {\"x\": [0.14803385399033805, -0.23139653183663067, 0.08336267784629267], \"y\": [0.16411862192216478, 0.03372020255590981, -0.1978388244780745], \"topics\": [1, 2, 3], \"cluster\": [1, 1, 1], \"Freq\": [36.60805913206618, 34.901771222342646, 28.490169645591173]}, \"tinfo\": {\"Term\": [\"justice\", \"individualism\", \"loyalty\", \"freedom\", \"determination\", \"leadership\", \"law\", \"integrity\", \"duty\", \"protector\", \"everyman\", \"tragic\", \"heroic\", \"resilience\", \"honor\", \"moral\", \"love\", \"enforcement\", \"truth\", \"soldier\", \"family\", \"trickster\", \"detective\", \"resourceful\", \"teamwork\", \"mentor\", \"redemption\", \"romantic\", \"personal\", \"sacrifice\", \"loyalty\", \"freedom\", \"tragic\", \"heroic\", \"family\", \"honor\", \"self\", \"personal\", \"dedication\", \"independence\", \"conflict\", \"adventure\", \"work\", \"resistance\", \"hardworke\", \"innocent\", \"idealist\", \"success\", \"father\", \"scientific\", \"innocence\", \"independent\", \"curiosity\", \"orient\", \"love\", \"army\", \"hard\", \"political\", \"fighter\", \"honorable\", \"everyman\", \"romantic\", \"creativity\", \"sacrifice\", \"heroine\", \"ambitious\", \"nurture\", \"courage\", \"bravery\", \"idealism\", \"british\", \"american\", \"determine\", \"protagonist\", \"ambition\", \"leader\", \"antihero\", \"rebel\", \"justice\", \"determination\", \"law\", \"protector\", \"duty\", \"integrity\", \"enforcement\", \"moral\", \"truth\", \"order\", \"detective\", \"revolutionary\", \"individuality\", \"revenge\", \"rebellion\", \"democracy\", \"vigilante\", \"mentor\", \"seeking\", \"martyr\", \"ambiguity\", \"valor\", \"honest\", \"ingenuity\", \"redemption\", \"investigator\", \"intellectual\", \"investigative\", \"tough\", \"complexity\", \"resilience\", \"morality\", \"compassion\", \"camaraderie\", \"antihero\", \"authority\", \"bravery\", \"agent\", \"resourcefulness\", \"courage\", \"protagonist\", \"american\", \"rebel\", \"anti\", \"individualism\", \"leadership\", \"soldier\", \"trickster\", \"resourceful\", \"teamwork\", \"humor\", \"perseverance\", \"innovation\", \"rogue\", \"brave\", \"charm\", \"spirit\", \"comedic\", \"cleverness\", \"vengeance\", \"dedicated\", \"scientist\", \"antiestablishment\", \"idealistic\", \"clever\", \"empathy\", \"wealthy\", \"rationality\", \"selflessness\", \"antagonist\", \"charming\", \"cooperation\", \"innovative\", \"individualistic\", \"cunne\", \"noble\", \"friendship\", \"rebellious\", \"ambition\", \"american\", \"antihero\", \"reluctant\", \"bravery\", \"patriotism\", \"community\", \"camaraderie\", \"protagonist\", \"leader\", \"rebel\", \"resourcefulness\", \"sacrifice\"], \"Freq\": [414.0, 258.0, 215.0, 145.0, 115.0, 89.0, 104.0, 91.0, 86.0, 85.0, 113.0, 89.0, 89.0, 110.0, 81.0, 74.0, 94.0, 67.0, 62.0, 50.0, 62.0, 47.0, 58.0, 44.0, 43.0, 55.0, 55.0, 72.0, 47.0, 86.0, 214.57250312028634, 144.4798876523458, 88.45898791960664, 88.55615599394625, 62.28723748748335, 80.19776469560449, 45.97678607526432, 46.57010930976606, 35.31720928152099, 32.24751055648855, 30.347322070295036, 24.729332565413863, 22.87209226047261, 22.86824919472591, 20.188304590059555, 15.94279011606429, 16.55630193569988, 15.342349523799665, 14.689243558542245, 17.71165239879509, 29.683282582988248, 15.23385785623741, 12.176112987210086, 12.133169609790007, 90.12137518352577, 11.530902600529263, 10.939498977368006, 10.320042895788703, 11.467123081397006, 10.282572043991927, 106.87573527708054, 65.51377172563868, 17.452360752865143, 69.47603399953975, 29.63946394734436, 18.150943636636157, 17.565329592022305, 48.92710380594123, 89.23461082086891, 26.836791038057097, 24.627798768386015, 54.76462075547123, 22.834545508127338, 35.90964092476949, 31.132573772785655, 24.426794900636292, 28.667813948474354, 23.55403274802753, 414.15686685850636, 114.54887846345078, 103.93747254265305, 84.795259416663, 85.99120669003199, 91.20031348635776, 66.98590774470813, 73.48840801299521, 61.54125345195044, 30.664753461028464, 57.5128629225435, 27.647460672535193, 25.804397141838784, 24.029893291848484, 22.83658772058452, 21.66777376890585, 18.161788074635545, 53.870933992208705, 20.391333356084516, 17.534523054485636, 16.321043819157552, 16.32776532056068, 16.302139710959434, 15.131908729753558, 52.67259050084156, 12.139683715708287, 12.17104156240149, 11.581328282715285, 10.94573420665659, 10.351289862000753, 98.96637541171145, 17.785078056912226, 12.86307499938349, 39.06092912135407, 79.6045236249899, 23.977596017235474, 100.0323553382438, 22.47178001810136, 26.39407195013511, 34.81818699936753, 28.690813925905907, 28.8767553130454, 22.476605429574743, 20.616814172164794, 257.6078564800911, 88.43534603161693, 49.55735781150209, 46.40460211778622, 44.07196726876516, 42.83478589291176, 28.21576224065058, 32.38069688088167, 25.2386597793557, 24.591253646719995, 26.81866853076257, 18.495723092170888, 19.629852876849736, 16.678582476995686, 16.13288055291567, 15.449282018346944, 15.4660472864269, 15.432295426595964, 13.641896094429041, 14.19999663037695, 13.043269399800659, 13.040556689400422, 11.817015132488892, 11.187169836804657, 10.610576810884691, 10.550812690272666, 8.774717895775783, 9.350683588722816, 8.763794525809676, 9.309905450052021, 26.222234136821477, 13.591866476766484, 39.51405749633148, 17.394920465143443, 45.79539375899463, 67.1726134682995, 72.38786650711175, 21.10198278836543, 69.53494457042302, 20.240511802944653, 15.330938157848905, 20.3315984570121, 21.154660812929208, 18.96881589785342, 18.380604874634983, 16.377340024711096, 16.477844898238676], \"Total\": [414.0, 258.0, 215.0, 145.0, 115.0, 89.0, 104.0, 91.0, 86.0, 85.0, 113.0, 89.0, 89.0, 110.0, 81.0, 74.0, 94.0, 67.0, 62.0, 50.0, 62.0, 47.0, 58.0, 44.0, 43.0, 55.0, 55.0, 72.0, 47.0, 86.0, 215.31283051054652, 145.10047815125952, 89.1625308083805, 89.32996136497529, 62.90681772837137, 81.17434275712489, 46.606065133231425, 47.24215444243234, 35.90772403649096, 32.84657026591049, 30.9779382715408, 25.311326432986572, 23.44467263204628, 23.444413880641964, 20.899468602742413, 16.529831360750425, 17.168292940775725, 15.924795687375184, 15.268347120595319, 18.410029257656376, 30.89603727687082, 15.870974953487663, 12.76153236031475, 12.727018614529449, 94.73932214615746, 12.138113392793334, 11.517326650748494, 10.895048803494545, 12.120106584235156, 10.877072492760407, 113.45146731242622, 72.71597775476133, 18.970960365195133, 86.25292763101376, 34.46910208202145, 20.21700322425432, 19.628612190984846, 84.20912811303086, 258.80191072953573, 40.888637368002435, 35.60775559166263, 150.8139895368161, 32.33402235718747, 85.7551156636046, 77.23982274379156, 54.8891656892108, 180.66020408057602, 64.41124305223725, 414.8009972710555, 115.1714530121618, 104.52387680880058, 85.39858912414503, 86.62981105739638, 91.96328201367079, 67.5666172926904, 74.14762900954925, 62.15465598053141, 31.24887103368793, 58.612100002884375, 28.264196357031054, 26.427945984969842, 24.639317324064855, 23.44184321823785, 22.310234502263818, 18.749091136978272, 55.627966172111314, 21.066873624409013, 18.143040082825088, 16.92946864338806, 16.962614469319654, 16.947583876879524, 15.73158490256381, 55.12918576235957, 12.72989249757378, 12.779171298497214, 12.171656054348876, 11.5488859753909, 10.95863865273384, 110.64961453134582, 19.339684796661043, 13.969443775239965, 61.505548168102926, 180.66020408057602, 33.4572782103608, 258.80191072953573, 31.37753173162175, 44.69743210783939, 84.20912811303086, 85.7551156636046, 150.8139895368161, 64.41124305223725, 45.12350830650775, 258.25230376018, 89.05463345658278, 50.17340832493104, 47.00779939326957, 44.660590531387356, 43.42061453407251, 28.806915805064023, 33.117630145289965, 25.840005974034803, 25.20414265303001, 27.571802278223178, 19.087159681778264, 20.261682570508388, 17.260135439804607, 16.706364768554344, 16.052549643582115, 16.08620555769759, 16.054239083156702, 14.226488180332428, 14.813391842476099, 13.623241137632693, 13.639536201035149, 12.41681681188778, 11.811736796356435, 11.209958143627187, 11.17703359651551, 9.350001858612, 9.969068169900783, 9.366807652507243, 9.953409329587396, 28.955227062821365, 14.884006511474649, 47.78079888626635, 19.760584786705582, 77.23982274379156, 150.8139895368161, 180.66020408057602, 31.051647458962105, 258.80191072953573, 35.382536594654724, 21.691325680391984, 61.505548168102926, 85.7551156636046, 54.8891656892108, 64.41124305223725, 44.69743210783939, 86.25292763101376], \"Category\": [\"Default\", \"Default\", \"Default\", \"Default\", \"Default\", \"Default\", \"Default\", \"Default\", \"Default\", \"Default\", \"Default\", \"Default\", \"Default\", \"Default\", \"Default\", \"Default\", \"Default\", \"Default\", \"Default\", \"Default\", \"Default\", \"Default\", \"Default\", \"Default\", \"Default\", \"Default\", \"Default\", \"Default\", \"Default\", \"Default\", \"Topic1\", \"Topic1\", \"Topic1\", \"Topic1\", \"Topic1\", \"Topic1\", \"Topic1\", \"Topic1\", \"Topic1\", \"Topic1\", \"Topic1\", \"Topic1\", \"Topic1\", \"Topic1\", \"Topic1\", \"Topic1\", \"Topic1\", \"Topic1\", \"Topic1\", \"Topic1\", \"Topic1\", \"Topic1\", \"Topic1\", \"Topic1\", \"Topic1\", \"Topic1\", \"Topic1\", \"Topic1\", \"Topic1\", \"Topic1\", \"Topic1\", \"Topic1\", \"Topic1\", \"Topic1\", \"Topic1\", \"Topic1\", \"Topic1\", \"Topic1\", \"Topic1\", \"Topic1\", \"Topic1\", \"Topic1\", \"Topic1\", \"Topic1\", \"Topic1\", \"Topic1\", \"Topic1\", \"Topic1\", \"Topic2\", \"Topic2\", \"Topic2\", \"Topic2\", \"Topic2\", \"Topic2\", \"Topic2\", \"Topic2\", \"Topic2\", \"Topic2\", \"Topic2\", \"Topic2\", \"Topic2\", \"Topic2\", \"Topic2\", \"Topic2\", \"Topic2\", \"Topic2\", \"Topic2\", \"Topic2\", \"Topic2\", \"Topic2\", \"Topic2\", \"Topic2\", \"Topic2\", \"Topic2\", \"Topic2\", \"Topic2\", \"Topic2\", \"Topic2\", \"Topic2\", \"Topic2\", \"Topic2\", \"Topic2\", \"Topic2\", \"Topic2\", \"Topic2\", \"Topic2\", \"Topic2\", \"Topic2\", \"Topic2\", \"Topic2\", \"Topic2\", \"Topic2\", \"Topic3\", \"Topic3\", \"Topic3\", \"Topic3\", \"Topic3\", \"Topic3\", \"Topic3\", \"Topic3\", \"Topic3\", \"Topic3\", \"Topic3\", \"Topic3\", \"Topic3\", \"Topic3\", \"Topic3\", \"Topic3\", \"Topic3\", \"Topic3\", \"Topic3\", \"Topic3\", \"Topic3\", \"Topic3\", \"Topic3\", \"Topic3\", \"Topic3\", \"Topic3\", \"Topic3\", \"Topic3\", \"Topic3\", \"Topic3\", \"Topic3\", \"Topic3\", \"Topic3\", \"Topic3\", \"Topic3\", \"Topic3\", \"Topic3\", \"Topic3\", \"Topic3\", \"Topic3\", \"Topic3\", \"Topic3\", \"Topic3\", \"Topic3\", \"Topic3\", \"Topic3\", \"Topic3\"], \"logprob\": [30.0, 29.0, 28.0, 27.0, 26.0, 25.0, 24.0, 23.0, 22.0, 21.0, 20.0, 19.0, 18.0, 17.0, 16.0, 15.0, 14.0, 13.0, 12.0, 11.0, 10.0, 9.0, 8.0, 7.0, 6.0, 5.0, 4.0, 3.0, 2.0, 1.0, -2.9565, -3.352, -3.8426, -3.8415, -4.1934, -3.9407, -4.497, -4.4842, -4.7608, -4.8517, -4.9125, -5.1172, -5.1953, -5.1954, -5.3201, -5.5562, -5.5184, -5.5946, -5.6381, -5.451, -4.9346, -5.6017, -5.8257, -5.8292, -3.824, -5.8801, -5.9328, -5.9911, -5.8857, -5.9947, -3.6535, -4.1429, -5.4657, -4.0842, -4.9361, -5.4265, -5.4592, -4.4348, -3.8339, -5.0354, -5.1213, -4.3221, -5.1969, -4.7442, -4.8869, -5.1295, -4.9694, -5.1659, -2.2512, -3.5364, -3.6337, -3.8372, -3.8232, -3.7644, -4.073, -3.9803, -4.1577, -4.8543, -4.2254, -4.9579, -5.0269, -5.0981, -5.1491, -5.2016, -5.3781, -4.2909, -5.2623, -5.4133, -5.485, -5.4846, -5.4861, -5.5606, -4.3133, -5.781, -5.7784, -5.8281, -5.8845, -5.9403, -3.6827, -5.3991, -5.7231, -4.6123, -3.9004, -5.1003, -3.672, -5.1652, -5.0043, -4.7273, -4.9209, -4.9144, -5.165, -5.2513, -2.523, -3.5922, -4.1713, -4.2371, -4.2886, -4.3171, -4.7346, -4.5969, -4.8461, -4.8721, -4.7854, -5.1569, -5.0974, -5.2603, -5.2936, -5.3369, -5.3358, -5.338, -5.4613, -5.4212, -5.5062, -5.5064, -5.6049, -5.6597, -5.7126, -5.7183, -5.9026, -5.839, -5.9038, -5.8434, -4.8079, -5.465, -4.3978, -5.2183, -4.2503, -3.8672, -3.7924, -5.0251, -3.8326, -5.0668, -5.3446, -5.0623, -5.0226, -5.1317, -5.1632, -5.2786, -5.2724], \"loglift\": [30.0, 29.0, 28.0, 27.0, 26.0, 25.0, 24.0, 23.0, 22.0, 21.0, 20.0, 19.0, 18.0, 17.0, 16.0, 15.0, 14.0, 13.0, 12.0, 11.0, 10.0, 9.0, 8.0, 7.0, 6.0, 5.0, 4.0, 3.0, 2.0, 1.0, 1.0015, 1.0006, 0.997, 0.9962, 0.995, 0.9928, 0.9913, 0.9906, 0.9883, 0.9865, 0.9843, 0.9816, 0.9802, 0.98, 0.9703, 0.9687, 0.9686, 0.9676, 0.9662, 0.9662, 0.9649, 0.9639, 0.9579, 0.9571, 0.9549, 0.9536, 0.9534, 0.9507, 0.9495, 0.9487, 0.9452, 0.9006, 0.9215, 0.7886, 0.8539, 0.8971, 0.8938, 0.4619, -0.0599, 0.5838, 0.6362, -0.0081, 0.6571, 0.1344, 0.0962, 0.1953, -0.8359, -0.0011, 1.0511, 1.0472, 1.047, 1.0455, 1.0452, 1.0443, 1.044, 1.0437, 1.0427, 1.0338, 1.0337, 1.0306, 1.0288, 1.0276, 1.0265, 1.0234, 1.0208, 1.0205, 1.02, 1.0185, 1.016, 1.0145, 1.0138, 1.0138, 1.007, 1.0052, 1.0039, 1.0029, 0.999, 0.9956, 0.941, 0.9688, 0.9701, 0.5986, 0.2331, 0.7195, 0.1021, 0.7188, 0.5259, 0.1695, -0.0423, -0.6004, -0.0002, 0.2693, 1.2531, 1.2486, 1.2433, 1.2427, 1.2423, 1.242, 1.2349, 1.2331, 1.2321, 1.231, 1.2279, 1.2241, 1.2239, 1.2213, 1.2207, 1.2173, 1.2163, 1.2161, 1.2137, 1.2133, 1.2121, 1.2107, 1.2061, 1.2013, 1.2007, 1.198, 1.1921, 1.1916, 1.1891, 1.1888, 1.1565, 1.1648, 1.0656, 1.1281, 0.7329, 0.4468, 0.341, 0.8693, -0.0586, 0.6971, 0.9086, 0.1487, -0.144, 0.1931, 0.0016, 0.2516, -0.3997]}, \"token.table\": {\"Topic\": [1, 2, 3, 2, 1, 3, 1, 3, 1, 2, 3, 3, 1, 2, 3, 3, 1, 2, 3, 1, 1, 2, 3, 1, 2, 3, 1, 2, 3, 1, 2, 3, 3, 3, 3, 3, 3, 1, 3, 1, 2, 2, 1, 3, 1, 2, 1, 2, 1, 3, 1, 3, 1, 2, 1, 2, 3, 2, 1, 2, 2, 3, 2, 1, 3, 1, 1, 1, 1, 1, 2, 3, 1, 1, 1, 1, 2, 2, 1, 2, 1, 3, 1, 2, 1, 3, 1, 1, 3, 3, 2, 2, 1, 2, 1, 3, 3, 2, 2, 2, 2, 2, 2, 1, 2, 3, 3, 1, 3, 1, 2, 1, 2, 3, 2, 1, 2, 1, 3, 1, 3, 2, 1, 1, 3, 3, 1, 1, 1, 2, 3, 2, 3, 1, 2, 3, 2, 1, 3, 1, 2, 2, 3, 2, 3, 1, 3, 1, 2, 3, 2, 2, 3, 1, 2, 3, 1, 3, 1, 3, 2, 1, 3, 3, 3, 1, 3, 2, 1, 3, 2, 2, 3, 2, 3, 1], \"Freq\": [0.9877001138675672, 0.7011386423945122, 0.2868294446159368, 0.9450975891230307, 0.40134737365760903, 0.5955477157500004, 0.8903396710351916, 0.0989266301150213, 0.3646876537708302, 0.19228985380643773, 0.44425586913901133, 0.9841609497737663, 0.24377537148222073, 0.46538934555696687, 0.3102595637046446, 0.9840798250797032, 0.1605223471742883, 0.4428202680670022, 0.39853824126030196, 0.9886215107468567, 0.26899976571354656, 0.7173327085694574, 0.9792613383610835, 0.3438923605668839, 0.38639591074930774, 0.2704771375245154, 0.7020942371850479, 0.02808376948740192, 0.28083769487401916, 0.03251739167552383, 0.6340891376727147, 0.32517391675523827, 0.9430423541321273, 0.9625666535788306, 0.9542516254879275, 0.9577188228354798, 0.98492854006205, 0.2766082667517062, 0.6915206668792654, 0.07158481154220632, 0.9306025500486821, 0.9125221039663818, 0.9684311375738254, 0.9027925024300012, 0.581884661413773, 0.41563190100983793, 0.8961064528493173, 0.05271214428525396, 0.06907215735731559, 0.8979380456451026, 0.94032594685236, 0.9324759618542972, 0.9747206468566904, 0.9860945207800331, 0.01706132351427075, 0.9895567638277036, 0.01706132351427075, 0.998511323703247, 0.7113250478373401, 0.2783445839363504, 0.992729857658594, 0.9531115874023185, 0.9916139461261487, 0.9431345625997065, 0.05288605023923588, 0.9855847464373898, 0.9824246122729717, 0.9075827777214353, 0.9924157510348633, 0.10464454585411194, 0.06278672751246717, 0.8371563668328955, 0.9550827491104567, 0.956962130480945, 0.9963062632074007, 0.8703446909818847, 0.1450574484969808, 0.9440873764801218, 0.9855330795761593, 0.012319163494701992, 0.9193650227720582, 0.9719888164868322, 0.6603301488625531, 0.3423934105213238, 0.9901974563600311, 0.9450907765672025, 0.9742265247465092, 0.9451215217691296, 0.9990230338451723, 0.9042127879988516, 0.9838070660045535, 0.953495791613178, 0.9709983105975339, 0.032366610353251134, 0.9679469590955119, 0.9674920363842455, 0.9608396300943515, 0.9895253628124364, 0.9390280261296097, 0.9858970666290275, 0.942663105936449, 0.9980689601126198, 0.9949879699759044, 0.43724475857204587, 0.20040384767885436, 0.346152100536203, 0.9881574555343384, 0.9499751313520488, 0.042221116948979946, 0.9985470883931777, 0.992115980443625, 0.017976569499341913, 0.9707347529644633, 0.017976569499341913, 0.9845223775206426, 0.051707150892792625, 0.9307287160702672, 0.06718621086527084, 0.9406069521137917, 0.9170286633034176, 0.10189207370037973, 0.9920358392013704, 0.942875968319912, 0.4239379491595316, 0.5652505988793755, 0.9662527137241759, 0.994874187147256, 0.9178481143464488, 0.41980002850464104, 0.3381722451842942, 0.2448833499610406, 0.9953326029360321, 0.9312771008742058, 0.3726057573603431, 0.3415552775803145, 0.27945431802025733, 0.9811515155133325, 0.10121157959584015, 0.8602984265646413, 0.036278424437850766, 0.9613782476030454, 0.3220441045266926, 0.6762926195060545, 0.8947161760961615, 0.09941290845512905, 0.9810439329852936, 0.9852086476348069, 0.04474529980099739, 0.581688897412966, 0.3579623984079791, 0.9740529611410766, 0.9906526138690184, 0.991900432566173, 0.9076409619710907, 0.013752135787440768, 0.08251281472464461, 0.7999728460833118, 0.18550094981642012, 0.9777279410087927, 0.934332665802719, 0.9493577621706105, 0.9869960029558624, 0.9812703900463225, 0.9965438201086915, 0.987084854893084, 0.9419273122537867, 0.9903130220844191, 0.9524728206200579, 0.9869616665448977, 0.978561017399724, 0.9975117555058168, 0.9432508195561045, 0.9344309990031441, 0.9600465360424398, 0.9664312667084914, 0.9810331055150473], \"Term\": [\"adventure\", \"agent\", \"agent\", \"ambiguity\", \"ambition\", \"ambition\", \"ambitious\", \"ambitious\", \"american\", \"american\", \"american\", \"antagonist\", \"anti\", \"anti\", \"anti\", \"antiestablishment\", \"antihero\", \"antihero\", \"antihero\", \"army\", \"authority\", \"authority\", \"brave\", \"bravery\", \"bravery\", \"bravery\", \"british\", \"british\", \"british\", \"camaraderie\", \"camaraderie\", \"camaraderie\", \"charm\", \"charming\", \"clever\", \"cleverness\", \"comedic\", \"community\", \"community\", \"compassion\", \"compassion\", \"complexity\", \"conflict\", \"cooperation\", \"courage\", \"courage\", \"creativity\", \"creativity\", \"cunne\", \"cunne\", \"curiosity\", \"dedicated\", \"dedication\", \"democracy\", \"detective\", \"detective\", \"detective\", \"determination\", \"determine\", \"determine\", \"duty\", \"empathy\", \"enforcement\", \"everyman\", \"everyman\", \"family\", \"father\", \"fighter\", \"freedom\", \"friendship\", \"friendship\", \"friendship\", \"hard\", \"hardworke\", \"heroic\", \"heroine\", \"heroine\", \"honest\", \"honor\", \"honor\", \"honorable\", \"humor\", \"idealism\", \"idealism\", \"idealist\", \"idealistic\", \"independence\", \"independent\", \"individualism\", \"individualistic\", \"individuality\", \"ingenuity\", \"innocence\", \"innocence\", \"innocent\", \"innovation\", \"innovative\", \"integrity\", \"intellectual\", \"investigative\", \"investigator\", \"justice\", \"law\", \"leader\", \"leader\", \"leader\", \"leadership\", \"love\", \"love\", \"loyalty\", \"martyr\", \"mentor\", \"mentor\", \"mentor\", \"moral\", \"morality\", \"morality\", \"noble\", \"noble\", \"nurture\", \"nurture\", \"order\", \"orient\", \"patriotism\", \"patriotism\", \"perseverance\", \"personal\", \"political\", \"protagonist\", \"protagonist\", \"protagonist\", \"protector\", \"rationality\", \"rebel\", \"rebel\", \"rebel\", \"rebellion\", \"rebellious\", \"rebellious\", \"redemption\", \"redemption\", \"reluctant\", \"reluctant\", \"resilience\", \"resilience\", \"resistance\", \"resourceful\", \"resourcefulness\", \"resourcefulness\", \"resourcefulness\", \"revenge\", \"revolutionary\", \"rogue\", \"romantic\", \"romantic\", \"romantic\", \"sacrifice\", \"sacrifice\", \"scientific\", \"scientist\", \"seeking\", \"self\", \"selflessness\", \"soldier\", \"spirit\", \"success\", \"teamwork\", \"tough\", \"tragic\", \"trickster\", \"truth\", \"valor\", \"vengeance\", \"vigilante\", \"wealthy\", \"work\"]}, \"R\": 30, \"lambda.step\": 0.01, \"plot.opts\": {\"xlab\": \"PC1\", \"ylab\": \"PC2\"}, \"topic.order\": [3, 2, 1]};\n",
       "\n",
       "function LDAvis_load_lib(url, callback){\n",
       "  var s = document.createElement('script');\n",
       "  s.src = url;\n",
       "  s.async = true;\n",
       "  s.onreadystatechange = s.onload = callback;\n",
       "  s.onerror = function(){console.warn(\"failed to load library \" + url);};\n",
       "  document.getElementsByTagName(\"head\")[0].appendChild(s);\n",
       "}\n",
       "\n",
       "if(typeof(LDAvis) !== \"undefined\"){\n",
       "   // already loaded: just create the visualization\n",
       "   !function(LDAvis){\n",
       "       new LDAvis(\"#\" + \"ldavis_el26057219768721924808540037772\", ldavis_el26057219768721924808540037772_data);\n",
       "   }(LDAvis);\n",
       "}else if(typeof define === \"function\" && define.amd){\n",
       "   // require.js is available: use it to load d3/LDAvis\n",
       "   require.config({paths: {d3: \"https://d3js.org/d3.v5\"}});\n",
       "   require([\"d3\"], function(d3){\n",
       "      window.d3 = d3;\n",
       "      LDAvis_load_lib(\"https://cdn.jsdelivr.net/gh/bmabey/pyLDAvis@3.4.0/pyLDAvis/js/ldavis.v3.0.0.js\", function(){\n",
       "        new LDAvis(\"#\" + \"ldavis_el26057219768721924808540037772\", ldavis_el26057219768721924808540037772_data);\n",
       "      });\n",
       "    });\n",
       "}else{\n",
       "    // require.js not available: dynamically load d3 & LDAvis\n",
       "    LDAvis_load_lib(\"https://d3js.org/d3.v5.js\", function(){\n",
       "         LDAvis_load_lib(\"https://cdn.jsdelivr.net/gh/bmabey/pyLDAvis@3.4.0/pyLDAvis/js/ldavis.v3.0.0.js\", function(){\n",
       "                 new LDAvis(\"#\" + \"ldavis_el26057219768721924808540037772\", ldavis_el26057219768721924808540037772_data);\n",
       "            })\n",
       "         });\n",
       "}\n",
       "</script>"
      ],
      "text/plain": [
       "<IPython.core.display.HTML object>"
      ]
     },
     "execution_count": 19,
     "metadata": {},
     "output_type": "execute_result"
    }
   ],
   "source": [
    "pyLDAvis.display(gensim_models.prepare(western_char_topic[0], western_char_topic[1], western_char_topic[2]))"
   ]
  },
  {
   "cell_type": "code",
   "execution_count": 20,
   "metadata": {},
   "outputs": [
    {
     "data": {
      "text/html": [
       "\n",
       "<link rel=\"stylesheet\" type=\"text/css\" href=\"https://cdn.jsdelivr.net/gh/bmabey/pyLDAvis@3.4.0/pyLDAvis/js/ldavis.v1.0.0.css\">\n",
       "\n",
       "\n",
       "<div id=\"ldavis_el26057219768721976325554387836\" style=\"background-color:white;\"></div>\n",
       "<script type=\"text/javascript\">\n",
       "\n",
       "var ldavis_el26057219768721976325554387836_data = {\"mdsDat\": {\"x\": [-0.24219623673971882, 0.1490211290763766, 0.09317510766334208], \"y\": [-0.029231559871908536, -0.17554388450942493, 0.2047754443813335], \"topics\": [1, 2, 3], \"cluster\": [1, 1, 1], \"Freq\": [38.41049872792229, 31.578944012308856, 30.01055725976885]}, \"tinfo\": {\"Term\": [\"antagonist\", \"loyalty\", \"resilience\", \"villain\", \"antihero\", \"sacrifice\", \"love\", \"collectivism\", \"manipulation\", \"greed\", \"moral\", \"control\", \"oppression\", \"corruption\", \"rebellion\", \"everyman\", \"revolutionary\", \"duty\", \"cunne\", \"bravery\", \"romantic\", \"power\", \"survival\", \"individualism\", \"rebel\", \"resistance\", \"justice\", \"anti\", \"community\", \"innocent\", \"loyalty\", \"sacrifice\", \"love\", \"collectivism\", \"bravery\", \"resistance\", \"romantic\", \"leader\", \"rebel\", \"authoritarianism\", \"law\", \"protector\", \"perseverance\", \"martyr\", \"idealism\", \"state\", \"ally\", \"enforcement\", \"dedication\", \"truth\", \"community\", \"ideal\", \"honor\", \"teamwork\", \"order\", \"warrior\", \"tyrant\", \"communist\", \"worker\", \"courage\", \"duty\", \"oppression\", \"revolutionary\", \"heroic\", \"justice\", \"hope\", \"collective\", \"determination\", \"tragic\", \"freedom\", \"struggle\", \"mentor\", \"authority\", \"greed\", \"control\", \"antagonist\", \"innocent\", \"eastern\", \"chaos\", \"compassion\", \"noble\", \"tradition\", \"artistic\", \"corrupt\", \"identity\", \"conformity\", \"manipulation\", \"pride\", \"ruthless\", \"authoritarian\", \"scientist\", \"caregiver\", \"aggression\", \"exploitation\", \"curiosity\", \"bloc\", \"adventure\", \"societal\", \"deceit\", \"violence\", \"totalitarianism\", \"exploration\", \"lawlessness\", \"patriotism\", \"villain\", \"power\", \"cultural\", \"family\", \"authority\", \"ambition\", \"traditional\", \"oppressive\", \"tragic\", \"mentor\", \"conflict\", \"friendship\", \"resilience\", \"moral\", \"antihero\", \"rebellion\", \"survival\", \"individualism\", \"cunne\", \"anti\", \"corruption\", \"redemption\", \"independence\", \"personal\", \"revenge\", \"femme\", \"fatale\", \"manipulative\", \"trickster\", \"deception\", \"survivor\", \"everyman\", \"criminal\", \"american\", \"resourceful\", \"ambiguity\", \"espionage\", \"secrecy\", \"reluctant\", \"ambitious\", \"wisdom\", \"father\", \"integrity\", \"victim\", \"betrayal\", \"ambition\", \"struggle\", \"conflict\", \"freedom\", \"villain\", \"tragic\", \"innocence\", \"authority\"], \"Freq\": [330.0, 280.0, 194.0, 277.0, 133.0, 159.0, 116.0, 102.0, 91.0, 78.0, 72.0, 72.0, 102.0, 66.0, 62.0, 60.0, 86.0, 84.0, 55.0, 70.0, 70.0, 85.0, 54.0, 53.0, 69.0, 67.0, 100.0, 46.0, 61.0, 46.0, 280.31727252849896, 158.9530454813705, 116.14436486792839, 102.05988307057659, 69.62149170068373, 67.35491251922751, 69.5783718033373, 52.6888495708069, 68.96256704903271, 55.864181612578314, 41.0328999454256, 41.02050758176514, 36.6881991822938, 53.39641719307557, 47.4811187017577, 35.01681176527821, 31.542947119869773, 31.16830974014696, 30.855419193483257, 34.788134009585946, 60.207676922739424, 26.45743792091664, 37.65805391993857, 25.432270551419368, 24.689547723194472, 26.98169479250033, 25.64605801967327, 23.494854252057088, 23.322459121159774, 33.722618516770396, 80.6939483419408, 98.29508196679016, 82.2915343961904, 39.89646491584191, 90.26321280679319, 28.828103231597797, 61.943421707909884, 46.40774856952167, 80.82332850876514, 50.61936067038426, 51.8474331598735, 43.74242806762513, 38.453425098609415, 77.6131205910647, 71.6540370809656, 326.777803275348, 45.438345272530356, 41.8535737749927, 30.41830112469968, 26.877298084078035, 27.00485175256748, 29.389286838357275, 25.547568975363998, 26.880603706202695, 27.164687314523846, 22.76059706832641, 88.81202968661084, 20.924000990810768, 25.823336976659903, 39.038812338101266, 20.288134801387553, 19.15818015567901, 19.001761735880788, 17.800783557902488, 18.46608472371136, 18.135257388146847, 17.17207464006236, 16.77916852057432, 20.832922789877653, 15.88383519210838, 17.419708030646085, 15.486876476686481, 15.063314972899157, 26.19293120084615, 236.20966551727656, 73.60349143236938, 29.0593390381512, 47.97142393804796, 78.36280454749436, 51.61244782379738, 30.451079597938357, 24.573784459567797, 41.43279816789096, 30.07707507205046, 29.225937343270303, 22.121265341258816, 192.70722827198546, 72.37038407003958, 132.55194785539902, 61.85425705060518, 53.7194664308692, 52.86879632209592, 55.20362491664202, 45.757857295913595, 65.24454366953465, 36.36469640568423, 34.10532651503477, 32.79222788788071, 30.73452646250006, 28.472175097197482, 27.782516617578253, 28.57828639999256, 27.002987973415177, 28.002999767629852, 21.15999153104914, 59.29210051208555, 20.698092919296855, 26.192884716612195, 18.633428720782636, 18.705396039874216, 19.52265803528092, 17.506489291687767, 19.280342732135633, 21.205109581081466, 15.362165129554448, 14.649700668433704, 32.52280536112872, 58.553522652242464, 46.42920700160666, 37.06417315528789, 39.12962921427336, 32.07180682874204, 31.543053996951162, 40.87183023199545, 34.32927505447191, 23.916673793415097, 27.542286946936784], \"Total\": [330.0, 280.0, 194.0, 277.0, 133.0, 159.0, 116.0, 102.0, 91.0, 78.0, 72.0, 72.0, 102.0, 66.0, 62.0, 60.0, 86.0, 84.0, 55.0, 70.0, 70.0, 85.0, 54.0, 53.0, 69.0, 67.0, 100.0, 46.0, 61.0, 46.0, 280.9842966002332, 159.63104960480837, 116.83301701332846, 102.71235068002152, 70.23101530781138, 67.95807135033829, 70.23130528496326, 53.31077018032883, 69.85499051217175, 56.64654216588091, 41.6195223416497, 41.619454981689024, 37.28894872391468, 54.294430378398175, 48.29853448469096, 35.62537445702129, 32.13438624734022, 31.755614293477027, 31.45101958387401, 35.469675819210465, 61.426383479622665, 27.046384741689153, 38.58391217052427, 26.058360084697778, 25.30075661135935, 27.656087991240792, 26.28866407230003, 24.090228719988037, 23.93418800665031, 34.64107808457308, 84.06126068611773, 102.97518960558713, 86.12726006197276, 41.24894514309153, 100.78782568769594, 30.014530456595704, 79.13443187869035, 61.52741516348972, 156.585401731128, 82.51796887438132, 110.16357072248297, 91.08805835622945, 144.35851659304058, 78.22637582150581, 72.25737963536348, 330.5010186002922, 46.08997765036766, 42.48764014627169, 31.014921395805466, 27.494558863395568, 27.643853341943874, 30.09244459410994, 26.191351979439805, 27.5702973783161, 27.87560383813842, 23.360855511067804, 91.31688037627816, 21.52607598696362, 26.574366993411296, 40.19175504700376, 20.911642656087977, 19.765912093603607, 19.608788825622334, 18.388443301675817, 19.076993015071835, 18.769920384892153, 17.773814722885305, 17.391875154337267, 21.60172044640777, 16.471031142751144, 18.08050137432758, 16.088668656615866, 15.706857631486715, 27.48861355499168, 277.40194295125286, 85.8489648333542, 32.065468908483425, 61.908894895232706, 144.35851659304058, 88.99872124003139, 50.06722422728368, 36.27713810988876, 156.585401731128, 91.08805835622945, 86.10333273956145, 40.66166042259161, 194.1966504574669, 72.98589301066316, 133.74778152015872, 62.54336720631258, 54.3276401890508, 53.47801857941823, 55.86121008184584, 46.41107339939975, 66.30095405242211, 36.962329060416465, 34.73648911382189, 33.42851465617635, 31.353946007420134, 29.054438378825107, 28.362890670583617, 29.204020481044907, 27.59590849259941, 28.67023968903372, 21.75451433857104, 60.99826759485857, 21.29612210286139, 26.97674357213716, 19.221362676533587, 19.296519096897843, 20.14533246978155, 18.145564663630374, 19.98647550269587, 22.06161519794992, 15.995450318856106, 15.303658228204446, 34.04140938501655, 75.92073239804259, 65.46561921493915, 88.99872124003139, 110.16357072248297, 86.10333273956145, 82.51796887438132, 277.40194295125286, 156.585401731128, 49.96971125411089, 144.35851659304058], \"Category\": [\"Default\", \"Default\", \"Default\", \"Default\", \"Default\", \"Default\", \"Default\", \"Default\", \"Default\", \"Default\", \"Default\", \"Default\", \"Default\", \"Default\", \"Default\", \"Default\", \"Default\", \"Default\", \"Default\", \"Default\", \"Default\", \"Default\", \"Default\", \"Default\", \"Default\", \"Default\", \"Default\", \"Default\", \"Default\", \"Default\", \"Topic1\", \"Topic1\", \"Topic1\", \"Topic1\", \"Topic1\", \"Topic1\", \"Topic1\", \"Topic1\", \"Topic1\", \"Topic1\", \"Topic1\", \"Topic1\", \"Topic1\", \"Topic1\", \"Topic1\", \"Topic1\", \"Topic1\", \"Topic1\", \"Topic1\", \"Topic1\", \"Topic1\", \"Topic1\", \"Topic1\", \"Topic1\", \"Topic1\", \"Topic1\", \"Topic1\", \"Topic1\", \"Topic1\", \"Topic1\", \"Topic1\", \"Topic1\", \"Topic1\", \"Topic1\", \"Topic1\", \"Topic1\", \"Topic1\", \"Topic1\", \"Topic1\", \"Topic1\", \"Topic1\", \"Topic1\", \"Topic1\", \"Topic2\", \"Topic2\", \"Topic2\", \"Topic2\", \"Topic2\", \"Topic2\", \"Topic2\", \"Topic2\", \"Topic2\", \"Topic2\", \"Topic2\", \"Topic2\", \"Topic2\", \"Topic2\", \"Topic2\", \"Topic2\", \"Topic2\", \"Topic2\", \"Topic2\", \"Topic2\", \"Topic2\", \"Topic2\", \"Topic2\", \"Topic2\", \"Topic2\", \"Topic2\", \"Topic2\", \"Topic2\", \"Topic2\", \"Topic2\", \"Topic2\", \"Topic2\", \"Topic2\", \"Topic2\", \"Topic2\", \"Topic2\", \"Topic2\", \"Topic2\", \"Topic2\", \"Topic2\", \"Topic2\", \"Topic2\", \"Topic2\", \"Topic3\", \"Topic3\", \"Topic3\", \"Topic3\", \"Topic3\", \"Topic3\", \"Topic3\", \"Topic3\", \"Topic3\", \"Topic3\", \"Topic3\", \"Topic3\", \"Topic3\", \"Topic3\", \"Topic3\", \"Topic3\", \"Topic3\", \"Topic3\", \"Topic3\", \"Topic3\", \"Topic3\", \"Topic3\", \"Topic3\", \"Topic3\", \"Topic3\", \"Topic3\", \"Topic3\", \"Topic3\", \"Topic3\", \"Topic3\", \"Topic3\", \"Topic3\", \"Topic3\", \"Topic3\", \"Topic3\", \"Topic3\", \"Topic3\", \"Topic3\", \"Topic3\", \"Topic3\", \"Topic3\"], \"logprob\": [30.0, 29.0, 28.0, 27.0, 26.0, 25.0, 24.0, 23.0, 22.0, 21.0, 20.0, 19.0, 18.0, 17.0, 16.0, 15.0, 14.0, 13.0, 12.0, 11.0, 10.0, 9.0, 8.0, 7.0, 6.0, 5.0, 4.0, 3.0, 2.0, 1.0, -2.9759, -3.5432, -3.857, -3.9862, -4.3687, -4.4018, -4.3694, -4.6474, -4.3782, -4.5889, -4.8974, -4.8977, -5.0093, -4.6341, -4.7515, -5.056, -5.1605, -5.1724, -5.1825, -5.0625, -4.514, -5.3363, -4.9833, -5.3758, -5.4054, -5.3166, -5.3674, -5.455, -5.4624, -5.0936, -4.2211, -4.0238, -4.2015, -4.9255, -4.1091, -5.2505, -4.4856, -4.7743, -4.2195, -4.6875, -4.6635, -4.8335, -4.9624, -4.0642, -4.1441, -2.6267, -4.5996, -4.6818, -5.0009, -5.1247, -5.1199, -5.0353, -5.1754, -5.1246, -5.114, -5.2909, -3.9294, -5.3751, -5.1647, -4.7514, -5.4059, -5.4632, -5.4714, -5.5367, -5.5, -5.5181, -5.5727, -5.5958, -5.3794, -5.6507, -5.5584, -5.676, -5.7037, -5.1505, -2.9512, -4.1173, -5.0466, -4.5454, -4.0546, -4.4722, -4.9998, -5.2143, -4.6919, -5.0122, -5.0409, -5.3194, -3.1039, -4.0832, -3.478, -4.2402, -4.3812, -4.3972, -4.354, -4.5417, -4.1869, -4.7714, -4.8356, -4.8748, -4.9396, -5.0161, -5.0406, -5.0124, -5.0691, -5.0327, -5.3129, -4.2825, -5.335, -5.0995, -5.4401, -5.4362, -5.3934, -5.5025, -5.4059, -5.3108, -5.6331, -5.6806, -4.8831, -4.2951, -4.5271, -4.7524, -4.6981, -4.897, -4.9137, -4.6546, -4.829, -5.1904, -5.0493], \"loglift\": [30.0, 29.0, 28.0, 27.0, 26.0, 25.0, 24.0, 23.0, 22.0, 21.0, 20.0, 19.0, 18.0, 17.0, 16.0, 15.0, 14.0, 13.0, 12.0, 11.0, 10.0, 9.0, 8.0, 7.0, 6.0, 5.0, 4.0, 3.0, 2.0, 1.0, 0.9545, 0.9526, 0.9509, 0.9505, 0.9481, 0.9479, 0.9475, 0.9451, 0.944, 0.9429, 0.9426, 0.9423, 0.9406, 0.9402, 0.9398, 0.9396, 0.9383, 0.9382, 0.9377, 0.9374, 0.9368, 0.9348, 0.9326, 0.9325, 0.9324, 0.9322, 0.9321, 0.9318, 0.9309, 0.93, 0.916, 0.9103, 0.9113, 0.9235, 0.8466, 0.9165, 0.7119, 0.6748, 0.2955, 0.4682, 0.2032, 0.2233, -0.366, 1.1448, 1.1443, 1.1414, 1.1384, 1.1376, 1.1333, 1.13, 1.1293, 1.129, 1.1278, 1.1273, 1.1268, 1.1266, 1.1249, 1.1243, 1.124, 1.1236, 1.1224, 1.1215, 1.1212, 1.1202, 1.1201, 1.1183, 1.1182, 1.1168, 1.1164, 1.1164, 1.1154, 1.1146, 1.1108, 1.1044, 0.9919, 0.9988, 1.0542, 0.8976, 0.5417, 0.6078, 0.6554, 0.7632, -0.1768, 0.0446, 0.0722, 0.5439, 1.1959, 1.1952, 1.1946, 1.1925, 1.1924, 1.1922, 1.1918, 1.1894, 1.1876, 1.1873, 1.1853, 1.1844, 1.1837, 1.1834, 1.1829, 1.182, 1.1819, 1.1801, 1.1759, 1.1753, 1.1751, 1.1741, 1.1726, 1.1725, 1.1722, 1.1678, 1.1677, 1.164, 1.1632, 1.1599, 1.158, 0.9439, 0.86, 0.3276, 0.1685, 0.2161, 0.242, -0.7114, -0.314, 0.4668, -0.453]}, \"token.table\": {\"Topic\": [2, 2, 1, 3, 2, 3, 2, 3, 3, 1, 2, 3, 3, 2, 3, 2, 1, 2, 1, 1, 2, 3, 2, 3, 2, 1, 2, 2, 1, 2, 3, 1, 1, 1, 2, 2, 1, 2, 3, 2, 2, 2, 2, 3, 1, 3, 3, 1, 2, 3, 2, 2, 3, 1, 1, 3, 1, 2, 2, 1, 3, 1, 3, 2, 2, 1, 2, 3, 3, 3, 3, 1, 3, 1, 2, 2, 1, 3, 1, 2, 1, 2, 1, 1, 2, 2, 3, 3, 1, 2, 3, 2, 2, 3, 1, 3, 1, 2, 1, 1, 1, 2, 3, 3, 1, 3, 1, 2, 3, 3, 2, 1, 2, 1, 2, 1, 1, 2, 1, 3, 2, 3, 2, 1, 1, 3, 3, 3, 3, 1, 2, 3, 1, 3, 3, 1, 3, 1, 2, 1, 2, 3, 2, 1, 1, 2, 3, 3, 3, 1, 2, 2, 1, 2, 1, 2, 3, 3, 1, 1, 2, 3, 2, 3, 2, 1, 3, 1], \"Freq\": [0.9564632165379247, 0.9689532672804939, 0.9958179924052123, 0.9846335447647907, 0.5842780578807972, 0.41573631041518266, 0.04532759687028379, 0.9518795342759595, 0.9637931253813011, 0.006051418565879821, 0.9894069355213506, 0.006051418565879821, 0.9911427732803727, 0.0074767595292732246, 0.9944090173933389, 0.9926940778166008, 0.02488072488575113, 0.9703482705442941, 0.9885863789534124, 0.2632335167804845, 0.5403214291809946, 0.193961538680357, 0.2902286761791482, 0.702658900223201, 0.9589811587313999, 0.9967106369344246, 0.9612508600677496, 0.9672763511842165, 0.783476907941202, 0.07582034592979374, 0.1390039675379552, 0.9930646054217891, 0.9547439448308991, 0.9767789767389472, 0.01627964961231579, 0.9820124823295859, 0.2903488077008357, 0.3368046169329694, 0.3716464738570697, 0.9845529839051982, 0.9964380159277529, 0.9793147904612507, 0.015082739219850908, 0.980378049290309, 0.9814937028516276, 0.028867461848577282, 0.9860950223035394, 0.0935585881672949, 0.9043996856171841, 0.9845830392756615, 0.9435449279547907, 0.9721447906012581, 0.9766224595153947, 0.9856596196294615, 0.7476342030259112, 0.24379376185627538, 0.9635829791139061, 0.035688258485700224, 0.9885227763981973, 0.976205332181773, 0.9927857993905262, 0.016393908211325796, 0.9672405844682219, 0.978875683204765, 0.9323332042040537, 0.19383321282519064, 0.7753328513007626, 0.03230553547086511, 0.987205441264843, 0.9801578012474946, 0.9637081823755512, 0.6180472046959647, 0.38779432451511514, 0.4426774463444981, 0.5410502121988311, 0.9971061445819458, 0.9697217677019625, 0.024243044192549062, 0.9848664342811161, 0.0259175377442399, 0.9661986897292021, 0.03331719619755869, 0.9613114746505746, 0.9731144122995584, 0.02070456196382039, 0.9685888835548577, 0.9787978252088569, 0.9910614007003954, 0.2801697197889702, 0.2401454741048316, 0.4802909482096632, 0.9763510918005628, 0.029375987013045165, 0.9694075714304905, 0.8929649924076801, 0.09921833248974224, 0.985114621533517, 0.954996877919762, 0.9941705929350182, 0.9928700205248194, 0.9964969693604137, 0.974628126073391, 0.021901755642098675, 0.9930139591164399, 0.9761590577638111, 0.018418095429505867, 0.48304904939266247, 0.3293516245859062, 0.18663258726534684, 0.986492005920663, 0.9767089872030627, 0.9516855504258552, 0.03884430818064715, 0.30322127304197455, 0.6891392569135785, 0.9881127423982128, 0.03637869905659208, 0.9458461754713939, 0.9922510895639874, 0.9871811637285184, 0.861978943411201, 0.13978036920181636, 0.9755609899694577, 0.9851162159148513, 0.9877604949066198, 0.014315369491400286, 0.9913121529814637, 0.9739645989611884, 0.9506428483319728, 0.005149419403703983, 0.005149419403703983, 0.9938379449148688, 0.9859020226545391, 0.9884835076337309, 0.9887112771280409, 0.9520795151383779, 0.04644290317748184, 0.9967065216284285, 0.9783864280359452, 0.996046824183825, 0.9564050193913116, 0.9919779479818486, 0.9774679181595011, 0.9824458137899507, 0.4720253679049227, 0.17247080750372176, 0.35401902592869205, 0.9939691805513609, 0.9653168842646477, 0.9593850080642919, 0.9402394130584355, 0.9636970472540551, 0.3794897818530575, 0.5991943923995645, 0.5172896011026921, 0.26183794623716516, 0.21713390663569793, 0.9784059114140338, 0.9867583842151698, 0.9890194468799884, 0.22391775557263063, 0.7771263281638358, 0.8507510707719581, 0.14779997415953508, 0.9714024496299709, 0.976276905415958, 0.9377666587052802, 0.9609684687698309], \"Term\": [\"adventure\", \"aggression\", \"ally\", \"ambiguity\", \"ambition\", \"ambition\", \"ambitious\", \"ambitious\", \"american\", \"antagonist\", \"antagonist\", \"antagonist\", \"anti\", \"antihero\", \"antihero\", \"artistic\", \"authoritarian\", \"authoritarian\", \"authoritarianism\", \"authority\", \"authority\", \"authority\", \"betrayal\", \"betrayal\", \"bloc\", \"bravery\", \"caregiver\", \"chaos\", \"collective\", \"collective\", \"collective\", \"collectivism\", \"communist\", \"community\", \"community\", \"compassion\", \"conflict\", \"conflict\", \"conflict\", \"conformity\", \"control\", \"corrupt\", \"corruption\", \"corruption\", \"courage\", \"courage\", \"criminal\", \"cultural\", \"cultural\", \"cunne\", \"curiosity\", \"deceit\", \"deception\", \"dedication\", \"determination\", \"determination\", \"duty\", \"duty\", \"eastern\", \"enforcement\", \"espionage\", \"everyman\", \"everyman\", \"exploitation\", \"exploration\", \"family\", \"family\", \"family\", \"fatale\", \"father\", \"femme\", \"freedom\", \"freedom\", \"friendship\", \"friendship\", \"greed\", \"heroic\", \"heroic\", \"honor\", \"honor\", \"hope\", \"hope\", \"ideal\", \"idealism\", \"idealism\", \"identity\", \"independence\", \"individualism\", \"innocence\", \"innocence\", \"innocence\", \"innocent\", \"integrity\", \"integrity\", \"justice\", \"justice\", \"law\", \"lawlessness\", \"leader\", \"love\", \"loyalty\", \"manipulation\", \"manipulation\", \"manipulative\", \"martyr\", \"martyr\", \"mentor\", \"mentor\", \"mentor\", \"moral\", \"noble\", \"oppression\", \"oppression\", \"oppressive\", \"oppressive\", \"order\", \"patriotism\", \"patriotism\", \"perseverance\", \"personal\", \"power\", \"power\", \"pride\", \"protector\", \"rebel\", \"rebel\", \"rebellion\", \"redemption\", \"reluctant\", \"resilience\", \"resilience\", \"resilience\", \"resistance\", \"resourceful\", \"revenge\", \"revolutionary\", \"revolutionary\", \"romantic\", \"ruthless\", \"sacrifice\", \"scientist\", \"secrecy\", \"societal\", \"state\", \"struggle\", \"struggle\", \"struggle\", \"survival\", \"survivor\", \"teamwork\", \"totalitarianism\", \"tradition\", \"traditional\", \"traditional\", \"tragic\", \"tragic\", \"tragic\", \"trickster\", \"truth\", \"tyrant\", \"victim\", \"victim\", \"villain\", \"villain\", \"violence\", \"warrior\", \"wisdom\", \"worker\"]}, \"R\": 30, \"lambda.step\": 0.01, \"plot.opts\": {\"xlab\": \"PC1\", \"ylab\": \"PC2\"}, \"topic.order\": [3, 1, 2]};\n",
       "\n",
       "function LDAvis_load_lib(url, callback){\n",
       "  var s = document.createElement('script');\n",
       "  s.src = url;\n",
       "  s.async = true;\n",
       "  s.onreadystatechange = s.onload = callback;\n",
       "  s.onerror = function(){console.warn(\"failed to load library \" + url);};\n",
       "  document.getElementsByTagName(\"head\")[0].appendChild(s);\n",
       "}\n",
       "\n",
       "if(typeof(LDAvis) !== \"undefined\"){\n",
       "   // already loaded: just create the visualization\n",
       "   !function(LDAvis){\n",
       "       new LDAvis(\"#\" + \"ldavis_el26057219768721976325554387836\", ldavis_el26057219768721976325554387836_data);\n",
       "   }(LDAvis);\n",
       "}else if(typeof define === \"function\" && define.amd){\n",
       "   // require.js is available: use it to load d3/LDAvis\n",
       "   require.config({paths: {d3: \"https://d3js.org/d3.v5\"}});\n",
       "   require([\"d3\"], function(d3){\n",
       "      window.d3 = d3;\n",
       "      LDAvis_load_lib(\"https://cdn.jsdelivr.net/gh/bmabey/pyLDAvis@3.4.0/pyLDAvis/js/ldavis.v3.0.0.js\", function(){\n",
       "        new LDAvis(\"#\" + \"ldavis_el26057219768721976325554387836\", ldavis_el26057219768721976325554387836_data);\n",
       "      });\n",
       "    });\n",
       "}else{\n",
       "    // require.js not available: dynamically load d3 & LDAvis\n",
       "    LDAvis_load_lib(\"https://d3js.org/d3.v5.js\", function(){\n",
       "         LDAvis_load_lib(\"https://cdn.jsdelivr.net/gh/bmabey/pyLDAvis@3.4.0/pyLDAvis/js/ldavis.v3.0.0.js\", function(){\n",
       "                 new LDAvis(\"#\" + \"ldavis_el26057219768721976325554387836\", ldavis_el26057219768721976325554387836_data);\n",
       "            })\n",
       "         });\n",
       "}\n",
       "</script>"
      ],
      "text/plain": [
       "<IPython.core.display.HTML object>"
      ]
     },
     "execution_count": 20,
     "metadata": {},
     "output_type": "execute_result"
    }
   ],
   "source": [
    "pyLDAvis.display(gensim_models.prepare(eastern_char_topic[0], eastern_char_topic[1], eastern_char_topic[2]))"
   ]
  },
  {
   "cell_type": "code",
   "execution_count": 56,
   "metadata": {},
   "outputs": [],
   "source": [
    "from empath import Empath\n",
    "lexicon = Empath()\n",
    "\n",
    "# Select lexical categories of interest\n",
    "CAT = ['politics', 'leader', 'military', 'heroic', 'law', 'affection', 'help',\n",
    "        'pride', 'family', 'love', 'power', 'deception', 'friends', 'sadness', \n",
    "        'disappointment', 'shame']\n",
    "\n",
    "# Define groups of similar topics\n",
    "TOPIC_GROUPS = {\n",
    "    'love & affection': ['love', 'affection', 'family'],\n",
    "    'Support & solidarity': ['help', 'friends'],\n",
    "    'Politics & power': ['politics', 'leader', 'military', 'power'],\n",
    "    'Deception': ['deception', 'sadness', 'disappointment', 'shame']\n",
    "}\n",
    "\n",
    "def semantical_analysis(text, categories):\n",
    "    \"\"\"\n",
    "    Perform a semantical analysis of a text using the Empath lexicon\n",
    "\n",
    "    Parameters\n",
    "    text : str, the text to analyze\n",
    "    categories : list[str], the lexical categories to consider\n",
    "\n",
    "    Returns\n",
    "    dict[str, float], the analysis results (only the categories with non-zero values)\n",
    "    \"\"\"\n",
    "    analysis = lexicon.analyze(text, categories=categories, normalize=True)\n",
    "    none_condition = not text or max(analysis.values()) == 0\n",
    "    return None if none_condition else {k: v for k, v in analysis.items() if v != 0}\n",
    "\n",
    "def map_topic_to_group(topic, groups):\n",
    "    \"\"\"\n",
    "    Map a topic to a group of similar topics\n",
    "    \"\"\"\n",
    "    for group, topics in groups.items():\n",
    "        if topic in topics:\n",
    "            return group\n",
    "    return topic  "
   ]
  },
  {
   "cell_type": "code",
   "execution_count": 57,
   "metadata": {},
   "outputs": [
    {
     "name": "stdout",
     "output_type": "stream",
     "text": [
      "Total number of characters : 7052\n",
      "Characters with empath analysis not None : 5652\n",
      "\n",
      "Number of characters per category :\n",
      "politics: 660\n",
      "leader: 1057\n",
      "military: 639\n",
      "heroic: 3341\n",
      "law: 830\n",
      "affection: 638\n",
      "help: 428\n",
      "pride: 1695\n",
      "family: 214\n",
      "love: 484\n",
      "power: 890\n",
      "deception: 541\n",
      "friends: 315\n",
      "sadness: 523\n",
      "disappointment: 165\n",
      "shame: 218\n"
     ]
    },
    {
     "data": {
      "text/html": [
       "<div>\n",
       "<style scoped>\n",
       "    .dataframe tbody tr th:only-of-type {\n",
       "        vertical-align: middle;\n",
       "    }\n",
       "\n",
       "    .dataframe tbody tr th {\n",
       "        vertical-align: top;\n",
       "    }\n",
       "\n",
       "    .dataframe thead th {\n",
       "        text-align: right;\n",
       "    }\n",
       "</style>\n",
       "<table border=\"1\" class=\"dataframe\">\n",
       "  <thead>\n",
       "    <tr style=\"text-align: right;\">\n",
       "      <th></th>\n",
       "      <th>movie_side</th>\n",
       "      <th>title</th>\n",
       "      <th>release_date</th>\n",
       "      <th>character_name</th>\n",
       "      <th>character_representation</th>\n",
       "      <th>character_side</th>\n",
       "      <th>empath_analysis</th>\n",
       "    </tr>\n",
       "  </thead>\n",
       "  <tbody>\n",
       "    <tr>\n",
       "      <th>8030</th>\n",
       "      <td>Eastern</td>\n",
       "      <td>Hey Babu Riba</td>\n",
       "      <td>1985</td>\n",
       "      <td>Four friends</td>\n",
       "      <td>[friendship, love, sacrifice, loyalty, camarad...</td>\n",
       "      <td>Eastern</td>\n",
       "      <td>{'heroic': 0.1111111111111111, 'affection': 0....</td>\n",
       "    </tr>\n",
       "    <tr>\n",
       "      <th>16073</th>\n",
       "      <td>Western</td>\n",
       "      <td>Sharpe's Eagle</td>\n",
       "      <td>1993</td>\n",
       "      <td>Sir Henry Simmerson</td>\n",
       "      <td>[incompetence, arrogance, antagonist]</td>\n",
       "      <td>Eastern</td>\n",
       "      <td>{'shame': 0.3333333333333333}</td>\n",
       "    </tr>\n",
       "    <tr>\n",
       "      <th>7943</th>\n",
       "      <td>Eastern</td>\n",
       "      <td>Hello Moscow!</td>\n",
       "      <td>1945</td>\n",
       "      <td>Kolya Leonov</td>\n",
       "      <td>[patriotism, community, hero]</td>\n",
       "      <td>Western</td>\n",
       "      <td>{'politics': 0.3333333333333333, 'heroic': 0.3...</td>\n",
       "    </tr>\n",
       "    <tr>\n",
       "      <th>18741</th>\n",
       "      <td>Eastern</td>\n",
       "      <td>The Conspiracy of Ambassadors</td>\n",
       "      <td>1966</td>\n",
       "      <td>Ambassadors</td>\n",
       "      <td>[loyalty to the soviet regime, archetype of th...</td>\n",
       "      <td>Eastern</td>\n",
       "      <td>{'politics': 0.1, 'affection': 0.1, 'help': 0.1}</td>\n",
       "    </tr>\n",
       "    <tr>\n",
       "      <th>13521</th>\n",
       "      <td>Western</td>\n",
       "      <td>Our Man Flint</td>\n",
       "      <td>1966</td>\n",
       "      <td>Derek Flint</td>\n",
       "      <td>[resourceful spy, individualistic, hero archet...</td>\n",
       "      <td>Western</td>\n",
       "      <td>{'heroic': 0.2}</td>\n",
       "    </tr>\n",
       "  </tbody>\n",
       "</table>\n",
       "</div>"
      ],
      "text/plain": [
       "      movie_side                          title  release_date  \\\n",
       "8030     Eastern                  Hey Babu Riba          1985   \n",
       "16073    Western                 Sharpe's Eagle          1993   \n",
       "7943     Eastern                  Hello Moscow!          1945   \n",
       "18741    Eastern  The Conspiracy of Ambassadors          1966   \n",
       "13521    Western                  Our Man Flint          1966   \n",
       "\n",
       "            character_name                           character_representation  \\\n",
       "8030          Four friends  [friendship, love, sacrifice, loyalty, camarad...   \n",
       "16073  Sir Henry Simmerson              [incompetence, arrogance, antagonist]   \n",
       "7943          Kolya Leonov                      [patriotism, community, hero]   \n",
       "18741          Ambassadors  [loyalty to the soviet regime, archetype of th...   \n",
       "13521          Derek Flint  [resourceful spy, individualistic, hero archet...   \n",
       "\n",
       "      character_side                                    empath_analysis  \n",
       "8030         Eastern  {'heroic': 0.1111111111111111, 'affection': 0....  \n",
       "16073        Eastern                      {'shame': 0.3333333333333333}  \n",
       "7943         Western  {'politics': 0.3333333333333333, 'heroic': 0.3...  \n",
       "18741        Eastern   {'politics': 0.1, 'affection': 0.1, 'help': 0.1}  \n",
       "13521        Western                                    {'heroic': 0.2}  "
      ]
     },
     "execution_count": 57,
     "metadata": {},
     "output_type": "execute_result"
    }
   ],
   "source": [
    "# Apply the analysis to each row\n",
    "character_df['empath_analysis'] = character_df['character_representation'].apply(lambda x: semantical_analysis(' '.join(x), CAT))\n",
    "character_empath_df = character_df.dropna(subset=['empath_analysis']).copy()\n",
    "\n",
    "print('Total number of characters :', len(character_df))\n",
    "print('Characters with empath analysis not None :', len(character_empath_df))\n",
    "\n",
    "print('\\nNumber of characters per category :')\n",
    "for cat in CAT:\n",
    "    cat_count = character_empath_df['empath_analysis'].apply(lambda x: cat in x.keys()).sum()\n",
    "    print(f'{cat}: {cat_count}')\n",
    "\n",
    "character_empath_df.sample(5)"
   ]
  },
  {
   "cell_type": "code",
   "execution_count": 58,
   "metadata": {},
   "outputs": [],
   "source": [
    "def get_empath_evolution(df, empath_column, year_column='release_date'):\n",
    "    \"\"\"\n",
    "    Create a DataFrame to track the evolution of empath topics across years\n",
    "    \"\"\"\n",
    "    empath_topics = set()\n",
    "    for entry in df[empath_column]:\n",
    "        empath_topics.update(entry.keys())\n",
    "\n",
    "    # Create a new DataFrame to track topic proportions across years\n",
    "    empath_evolution = {topic: [] for topic in empath_topics}\n",
    "    empath_evolution['year'] = []\n",
    "\n",
    "    # iterate only over years until end of cold war i.e. 1991\n",
    "    years = [y for y in sorted(df[year_column].unique()) if y <= 1991]\n",
    "\n",
    "    for year in years:\n",
    "        year_data = df[df['release_date'] == year][empath_column]\n",
    "        aggregated = {topic: 0 for topic in empath_topics}\n",
    "        count = len(year_data)\n",
    "\n",
    "        for row in year_data:\n",
    "            for topic, value in row.items():\n",
    "                aggregated[topic] += value\n",
    "\n",
    "        if count > 0:\n",
    "            for topic in aggregated:\n",
    "                aggregated[topic] /= count\n",
    "\n",
    "        for topic, value in aggregated.items():\n",
    "            empath_evolution[topic].append(value)\n",
    "\n",
    "        empath_evolution['year'].append(year)\n",
    "\n",
    "    return pd.DataFrame(empath_evolution)\n",
    "\n",
    "empath_evolution_df = get_empath_evolution(character_empath_df, 'empath_analysis')\n",
    "melted_empath_df = empath_evolution_df.melt(id_vars=['year'], var_name='topic', value_name='proportion')\n",
    "\n",
    "# group similar lexicon categories\n",
    "melted_empath_df['topic'] = melted_empath_df['topic'].apply(map_topic_to_group, groups=TOPIC_GROUPS)\n",
    "melted_empath_df = melted_empath_df.groupby(['year', 'topic'], as_index=False).agg({'proportion': 'sum'})\n",
    "# Apply square root transformation to the 'proportion' column\n",
    "melted_empath_df['proportion_sqrt'] = np.sqrt(melted_empath_df['proportion'])"
   ]
  },
  {
   "cell_type": "code",
   "execution_count": 59,
   "metadata": {},
   "outputs": [
    {
     "data": {
      "application/vnd.plotly.v1+json": {
       "config": {
        "plotlyServerURL": "https://plot.ly"
       },
       "data": [
        {
         "hovertemplate": "topic=Deception<br>year=%{x}<br>proportion_sqrt=%{y}<extra></extra>",
         "legendgroup": "Deception",
         "line": {
          "color": "#636EFA",
          "dash": "solid"
         },
         "marker": {
          "symbol": "circle"
         },
         "mode": "lines",
         "name": "Deception",
         "orientation": "v",
         "showlegend": true,
         "type": "scatter",
         "x": [
          1945,
          1946,
          1947,
          1948,
          1949,
          1950,
          1951,
          1952,
          1953,
          1954,
          1955,
          1956,
          1957,
          1958,
          1959,
          1960,
          1961,
          1962,
          1963,
          1964,
          1965,
          1966,
          1967,
          1968,
          1969,
          1970,
          1971,
          1972,
          1973,
          1974,
          1975,
          1976,
          1977,
          1978,
          1979,
          1980,
          1981,
          1982,
          1983,
          1984,
          1985,
          1986,
          1987,
          1988,
          1989,
          1990,
          1991
         ],
         "xaxis": "x",
         "y": [
          0.21493913187076177,
          0.21611438257688714,
          0.23511226632776472,
          0.22550593372154049,
          0.2835465942245569,
          0.27644249771960633,
          0.23385016022209057,
          0.28854721885998824,
          0.23568709245184716,
          0.2036750266564767,
          0.3016524223889396,
          0.21674862937083364,
          0.2086739303986941,
          0.2549251578024148,
          0.20154413829863593,
          0.25074247732952826,
          0.20966027629818543,
          0.2796212704408771,
          0.23767308655341984,
          0.21212056792316117,
          0.23514520116645266,
          0.2529615439019267,
          0.280980371842818,
          0.24107505316327763,
          0.2161466510793306,
          0.2765207486746617,
          0.2752761202064024,
          0.2737503633218653,
          0.19313618848260236,
          0.320644756632503,
          0.24610970230770174,
          0.2800364870700552,
          0.2163917670000336,
          0.2683009164501502,
          0.22020841306117633,
          0.2592770325362762,
          0.21883461654414588,
          0.22287961924618563,
          0.22245533098007844,
          0.2901307018842097,
          0.25001587251199975,
          0.2579816279483254,
          0.26032165758706066,
          0.2825500422989773,
          0.2707393668648743,
          0.22428694486743309,
          0.3381965063049541
         ],
         "yaxis": "y"
        },
        {
         "hovertemplate": "topic=Politics & power<br>year=%{x}<br>proportion_sqrt=%{y}<extra></extra>",
         "legendgroup": "Politics & power",
         "line": {
          "color": "#EF553B",
          "dash": "solid"
         },
         "marker": {
          "symbol": "circle"
         },
         "mode": "lines",
         "name": "Politics & power",
         "orientation": "v",
         "showlegend": true,
         "type": "scatter",
         "x": [
          1945,
          1946,
          1947,
          1948,
          1949,
          1950,
          1951,
          1952,
          1953,
          1954,
          1955,
          1956,
          1957,
          1958,
          1959,
          1960,
          1961,
          1962,
          1963,
          1964,
          1965,
          1966,
          1967,
          1968,
          1969,
          1970,
          1971,
          1972,
          1973,
          1974,
          1975,
          1976,
          1977,
          1978,
          1979,
          1980,
          1981,
          1982,
          1983,
          1984,
          1985,
          1986,
          1987,
          1988,
          1989,
          1990,
          1991
         ],
         "xaxis": "x",
         "y": [
          0.34345534002712713,
          0.3294345637345082,
          0.24765690750298855,
          0.2984737705441984,
          0.3325439914132281,
          0.34363269885125214,
          0.31484473336425073,
          0.33304697008795964,
          0.3477052212707208,
          0.34653324591800283,
          0.3608050646597294,
          0.3264339795693401,
          0.3849524721275361,
          0.3617690545715579,
          0.3345020149197131,
          0.33361423167074983,
          0.3289853790715674,
          0.3729395911675372,
          0.3473571166541717,
          0.36810438974676973,
          0.3459156541274502,
          0.37295682244947104,
          0.3571197535471252,
          0.33866690327471705,
          0.38435019145518134,
          0.4223470306088478,
          0.3851586526718473,
          0.4254904726394134,
          0.3863600328471129,
          0.3742304128348031,
          0.361966879209993,
          0.3468539201985852,
          0.3665255224478433,
          0.37568815243592435,
          0.35339974109405853,
          0.38602309510497423,
          0.38685841577707347,
          0.3304809935152549,
          0.3232370266287801,
          0.35408397009107584,
          0.34471218186552144,
          0.3777250916343233,
          0.3647509537740886,
          0.37141071146851984,
          0.3114376461894029,
          0.35952609445260847,
          0.27064083347946727
         ],
         "yaxis": "y"
        },
        {
         "hovertemplate": "topic=Support & solidarity<br>year=%{x}<br>proportion_sqrt=%{y}<extra></extra>",
         "legendgroup": "Support & solidarity",
         "line": {
          "color": "#00CC96",
          "dash": "solid"
         },
         "marker": {
          "symbol": "circle"
         },
         "mode": "lines",
         "name": "Support & solidarity",
         "orientation": "v",
         "showlegend": true,
         "type": "scatter",
         "x": [
          1945,
          1946,
          1947,
          1948,
          1949,
          1950,
          1951,
          1952,
          1953,
          1954,
          1955,
          1956,
          1957,
          1958,
          1959,
          1960,
          1961,
          1962,
          1963,
          1964,
          1965,
          1966,
          1967,
          1968,
          1969,
          1970,
          1971,
          1972,
          1973,
          1974,
          1975,
          1976,
          1977,
          1978,
          1979,
          1980,
          1981,
          1982,
          1983,
          1984,
          1985,
          1986,
          1987,
          1988,
          1989,
          1990,
          1991
         ],
         "xaxis": "x",
         "y": [
          0.23508117299081363,
          0.16132068445697084,
          0.13844373104863458,
          0.14417517456517806,
          0.12015991000865343,
          0.1589529911359122,
          0.17697861049129235,
          0.1396438732019462,
          0.206757721134557,
          0.19599936457996725,
          0.1551647303408297,
          0.16013146329787556,
          0.16898710023940666,
          0.1704931413735205,
          0.18468485501252038,
          0.14179143264663752,
          0.17018296466521396,
          0.17090983899736512,
          0.1849734238978694,
          0.21985800437451006,
          0.18984287514501239,
          0.1714130940940431,
          0.2013226957105732,
          0.17672335045143003,
          0.1522678833504036,
          0.12691093197503417,
          0.14827045216133586,
          0.13186140892217618,
          0.14755672103950168,
          0.19162883843934275,
          0.17742597993241674,
          0.1807963767675622,
          0.13750477455423168,
          0.1691838893210494,
          0.13468841267390289,
          0.14362124740535653,
          0.14506627732801902,
          0.11502735551601107,
          0.13529970779333467,
          0.12000712229575962,
          0.1313040012365988,
          0.13838763931925463,
          0.17320240041207705,
          0.11628923876523921,
          0.13664537193757303,
          0.15417141034842927,
          0.10558716138171652
         ],
         "yaxis": "y"
        },
        {
         "hovertemplate": "topic=heroic<br>year=%{x}<br>proportion_sqrt=%{y}<extra></extra>",
         "legendgroup": "heroic",
         "line": {
          "color": "#AB63FA",
          "dash": "solid"
         },
         "marker": {
          "symbol": "circle"
         },
         "mode": "lines",
         "name": "heroic",
         "orientation": "v",
         "showlegend": true,
         "type": "scatter",
         "x": [
          1945,
          1946,
          1947,
          1948,
          1949,
          1950,
          1951,
          1952,
          1953,
          1954,
          1955,
          1956,
          1957,
          1958,
          1959,
          1960,
          1961,
          1962,
          1963,
          1964,
          1965,
          1966,
          1967,
          1968,
          1969,
          1970,
          1971,
          1972,
          1973,
          1974,
          1975,
          1976,
          1977,
          1978,
          1979,
          1980,
          1981,
          1982,
          1983,
          1984,
          1985,
          1986,
          1987,
          1988,
          1989,
          1990,
          1991
         ],
         "xaxis": "x",
         "y": [
          0.48812121698697836,
          0.42891735762005956,
          0.40712081069057926,
          0.40040114169987406,
          0.39745723629858226,
          0.4214021535575688,
          0.43009487526777357,
          0.43783294126263933,
          0.4465023369080355,
          0.4201879181484,
          0.4474235247426692,
          0.4476293375210384,
          0.4452726423920035,
          0.42383323392754974,
          0.43768443934262546,
          0.44268266529326417,
          0.4214794506094877,
          0.4397779724074803,
          0.3829631597146917,
          0.4592166187382132,
          0.4448976941638426,
          0.40770762777268243,
          0.42966356692864704,
          0.424741679469832,
          0.4639893834343886,
          0.3767639705860085,
          0.37745535679531045,
          0.4124055116601787,
          0.3922790218778881,
          0.42681074831145216,
          0.3700308087481357,
          0.3973968230699519,
          0.3973715985270614,
          0.4271323502970777,
          0.41296310985044854,
          0.41151220075715167,
          0.41760234182910166,
          0.4064395248200456,
          0.421440258816402,
          0.4043792632202948,
          0.3861968172421694,
          0.4241904931782322,
          0.37438095139158767,
          0.40531854220559616,
          0.40903724650948015,
          0.4217360978084156,
          0.4000750680310634
         ],
         "yaxis": "y"
        },
        {
         "hovertemplate": "topic=law<br>year=%{x}<br>proportion_sqrt=%{y}<extra></extra>",
         "legendgroup": "law",
         "line": {
          "color": "#FFA15A",
          "dash": "solid"
         },
         "marker": {
          "symbol": "circle"
         },
         "mode": "lines",
         "name": "law",
         "orientation": "v",
         "showlegend": true,
         "type": "scatter",
         "x": [
          1945,
          1946,
          1947,
          1948,
          1949,
          1950,
          1951,
          1952,
          1953,
          1954,
          1955,
          1956,
          1957,
          1958,
          1959,
          1960,
          1961,
          1962,
          1963,
          1964,
          1965,
          1966,
          1967,
          1968,
          1969,
          1970,
          1971,
          1972,
          1973,
          1974,
          1975,
          1976,
          1977,
          1978,
          1979,
          1980,
          1981,
          1982,
          1983,
          1984,
          1985,
          1986,
          1987,
          1988,
          1989,
          1990,
          1991
         ],
         "xaxis": "x",
         "y": [
          0.1209127083516686,
          0.15635309444959689,
          0.22555047300552458,
          0.17875590323691418,
          0.17394145389623591,
          0.19909155152202185,
          0.21904316693270526,
          0.1632039031968647,
          0.18429896626435258,
          0.20864994257080097,
          0.20288122144681567,
          0.17938103108459094,
          0.1816810001156336,
          0.15009917356455332,
          0.1853514465283687,
          0.12457367016037238,
          0.1535024790125914,
          0.20423943704865383,
          0.16316671420169193,
          0.16256681757963454,
          0.16681063339084104,
          0.1805843824498488,
          0.18108931911076545,
          0.18385639014313154,
          0.16890535737623538,
          0.19220049659832775,
          0.16121406556917842,
          0.1865303154228665,
          0.17949297997202923,
          0.16277014442204243,
          0.1981038360813083,
          0.2370953476865716,
          0.19761651646990275,
          0.18638277936832626,
          0.2245183661352143,
          0.23656746996439718,
          0.21137713571019978,
          0.14746535778287642,
          0.21673789519375733,
          0.2092270209030045,
          0.18922832585889277,
          0.193582334118627,
          0.18261643313417456,
          0.22341290168517916,
          0.18364331658099547,
          0.18509256943286315,
          0.19277490023901495
         ],
         "yaxis": "y"
        },
        {
         "hovertemplate": "topic=love & affection<br>year=%{x}<br>proportion_sqrt=%{y}<extra></extra>",
         "legendgroup": "love & affection",
         "line": {
          "color": "#19D3F3",
          "dash": "solid"
         },
         "marker": {
          "symbol": "circle"
         },
         "mode": "lines",
         "name": "love & affection",
         "orientation": "v",
         "showlegend": true,
         "type": "scatter",
         "x": [
          1945,
          1946,
          1947,
          1948,
          1949,
          1950,
          1951,
          1952,
          1953,
          1954,
          1955,
          1956,
          1957,
          1958,
          1959,
          1960,
          1961,
          1962,
          1963,
          1964,
          1965,
          1966,
          1967,
          1968,
          1969,
          1970,
          1971,
          1972,
          1973,
          1974,
          1975,
          1976,
          1977,
          1978,
          1979,
          1980,
          1981,
          1982,
          1983,
          1984,
          1985,
          1986,
          1987,
          1988,
          1989,
          1990,
          1991
         ],
         "xaxis": "x",
         "y": [
          0.2475865122253697,
          0.27183189711277284,
          0.21939671974512434,
          0.22499538570388475,
          0.2613541341212388,
          0.16685595311797866,
          0.22476427878775804,
          0.16576504922169844,
          0.26498055629554257,
          0.18207191752212407,
          0.19971353530295866,
          0.18476473433713947,
          0.2083192837616962,
          0.2687472653176542,
          0.27048720806320903,
          0.19604721029261368,
          0.25236972122359724,
          0.21630529656455394,
          0.21143079766907708,
          0.19864904590436916,
          0.2885924374264341,
          0.27093051807717755,
          0.2359228177571614,
          0.19606093148078224,
          0.2140341428886165,
          0.19765527571815764,
          0.20617286075873437,
          0.2262766715370929,
          0.2086408332627681,
          0.21803796615133755,
          0.22501402874334997,
          0.2061799046395244,
          0.2688855380892588,
          0.25454800331241684,
          0.22796740979512564,
          0.21277559990990572,
          0.18250240514195853,
          0.23877680226536996,
          0.21249359023563702,
          0.22431553739645482,
          0.22175943875571266,
          0.1771707199233543,
          0.20126059080576553,
          0.16421744165538182,
          0.1889927352261297,
          0.14084172877263787,
          0.15988453040573705
         ],
         "yaxis": "y"
        },
        {
         "hovertemplate": "topic=pride<br>year=%{x}<br>proportion_sqrt=%{y}<extra></extra>",
         "legendgroup": "pride",
         "line": {
          "color": "#FF6692",
          "dash": "solid"
         },
         "marker": {
          "symbol": "circle"
         },
         "mode": "lines",
         "name": "pride",
         "orientation": "v",
         "showlegend": true,
         "type": "scatter",
         "x": [
          1945,
          1946,
          1947,
          1948,
          1949,
          1950,
          1951,
          1952,
          1953,
          1954,
          1955,
          1956,
          1957,
          1958,
          1959,
          1960,
          1961,
          1962,
          1963,
          1964,
          1965,
          1966,
          1967,
          1968,
          1969,
          1970,
          1971,
          1972,
          1973,
          1974,
          1975,
          1976,
          1977,
          1978,
          1979,
          1980,
          1981,
          1982,
          1983,
          1984,
          1985,
          1986,
          1987,
          1988,
          1989,
          1990,
          1991
         ],
         "xaxis": "x",
         "y": [
          0.27625312572654126,
          0.28872308329285884,
          0.25928524057268665,
          0.2845849347002622,
          0.23944197798388006,
          0.3012495022838422,
          0.31636748227082984,
          0.2935744511741784,
          0.2676278136230362,
          0.2612851871140863,
          0.2763552573782978,
          0.32123377401222547,
          0.2948086772244239,
          0.28597780246385124,
          0.2846398874913977,
          0.27596714972482417,
          0.26659622258036597,
          0.28913895059966427,
          0.2992545251174505,
          0.25495333396761555,
          0.28552767886535246,
          0.2321407712695768,
          0.26623842047610347,
          0.2814404569800911,
          0.3138654903627893,
          0.20435490511558124,
          0.23410184932269856,
          0.2336216301172858,
          0.2584380131650474,
          0.24050305545631837,
          0.22658174179374144,
          0.22806306993556402,
          0.2710769750899233,
          0.2561282273833527,
          0.2592139594055464,
          0.24476284037341106,
          0.3245713109456668,
          0.29140496843935476,
          0.27571967194371044,
          0.26337251064809203,
          0.28014401203785794,
          0.30409179476883735,
          0.23483785244561783,
          0.3036674539789858,
          0.25836710559504517,
          0.2681596015614058,
          0.24371111873509058
         ],
         "yaxis": "y"
        }
       ],
       "layout": {
        "height": 600,
        "legend": {
         "title": {
          "text": "Categories"
         },
         "tracegroupgap": 0
        },
        "margin": {
         "b": 50,
         "l": 50,
         "r": 50,
         "t": 50
        },
        "template": {
         "data": {
          "bar": [
           {
            "error_x": {
             "color": "#2a3f5f"
            },
            "error_y": {
             "color": "#2a3f5f"
            },
            "marker": {
             "line": {
              "color": "#E5ECF6",
              "width": 0.5
             },
             "pattern": {
              "fillmode": "overlay",
              "size": 10,
              "solidity": 0.2
             }
            },
            "type": "bar"
           }
          ],
          "barpolar": [
           {
            "marker": {
             "line": {
              "color": "#E5ECF6",
              "width": 0.5
             },
             "pattern": {
              "fillmode": "overlay",
              "size": 10,
              "solidity": 0.2
             }
            },
            "type": "barpolar"
           }
          ],
          "carpet": [
           {
            "aaxis": {
             "endlinecolor": "#2a3f5f",
             "gridcolor": "white",
             "linecolor": "white",
             "minorgridcolor": "white",
             "startlinecolor": "#2a3f5f"
            },
            "baxis": {
             "endlinecolor": "#2a3f5f",
             "gridcolor": "white",
             "linecolor": "white",
             "minorgridcolor": "white",
             "startlinecolor": "#2a3f5f"
            },
            "type": "carpet"
           }
          ],
          "choropleth": [
           {
            "colorbar": {
             "outlinewidth": 0,
             "ticks": ""
            },
            "type": "choropleth"
           }
          ],
          "contour": [
           {
            "colorbar": {
             "outlinewidth": 0,
             "ticks": ""
            },
            "colorscale": [
             [
              0,
              "#0d0887"
             ],
             [
              0.1111111111111111,
              "#46039f"
             ],
             [
              0.2222222222222222,
              "#7201a8"
             ],
             [
              0.3333333333333333,
              "#9c179e"
             ],
             [
              0.4444444444444444,
              "#bd3786"
             ],
             [
              0.5555555555555556,
              "#d8576b"
             ],
             [
              0.6666666666666666,
              "#ed7953"
             ],
             [
              0.7777777777777778,
              "#fb9f3a"
             ],
             [
              0.8888888888888888,
              "#fdca26"
             ],
             [
              1,
              "#f0f921"
             ]
            ],
            "type": "contour"
           }
          ],
          "contourcarpet": [
           {
            "colorbar": {
             "outlinewidth": 0,
             "ticks": ""
            },
            "type": "contourcarpet"
           }
          ],
          "heatmap": [
           {
            "colorbar": {
             "outlinewidth": 0,
             "ticks": ""
            },
            "colorscale": [
             [
              0,
              "#0d0887"
             ],
             [
              0.1111111111111111,
              "#46039f"
             ],
             [
              0.2222222222222222,
              "#7201a8"
             ],
             [
              0.3333333333333333,
              "#9c179e"
             ],
             [
              0.4444444444444444,
              "#bd3786"
             ],
             [
              0.5555555555555556,
              "#d8576b"
             ],
             [
              0.6666666666666666,
              "#ed7953"
             ],
             [
              0.7777777777777778,
              "#fb9f3a"
             ],
             [
              0.8888888888888888,
              "#fdca26"
             ],
             [
              1,
              "#f0f921"
             ]
            ],
            "type": "heatmap"
           }
          ],
          "heatmapgl": [
           {
            "colorbar": {
             "outlinewidth": 0,
             "ticks": ""
            },
            "colorscale": [
             [
              0,
              "#0d0887"
             ],
             [
              0.1111111111111111,
              "#46039f"
             ],
             [
              0.2222222222222222,
              "#7201a8"
             ],
             [
              0.3333333333333333,
              "#9c179e"
             ],
             [
              0.4444444444444444,
              "#bd3786"
             ],
             [
              0.5555555555555556,
              "#d8576b"
             ],
             [
              0.6666666666666666,
              "#ed7953"
             ],
             [
              0.7777777777777778,
              "#fb9f3a"
             ],
             [
              0.8888888888888888,
              "#fdca26"
             ],
             [
              1,
              "#f0f921"
             ]
            ],
            "type": "heatmapgl"
           }
          ],
          "histogram": [
           {
            "marker": {
             "pattern": {
              "fillmode": "overlay",
              "size": 10,
              "solidity": 0.2
             }
            },
            "type": "histogram"
           }
          ],
          "histogram2d": [
           {
            "colorbar": {
             "outlinewidth": 0,
             "ticks": ""
            },
            "colorscale": [
             [
              0,
              "#0d0887"
             ],
             [
              0.1111111111111111,
              "#46039f"
             ],
             [
              0.2222222222222222,
              "#7201a8"
             ],
             [
              0.3333333333333333,
              "#9c179e"
             ],
             [
              0.4444444444444444,
              "#bd3786"
             ],
             [
              0.5555555555555556,
              "#d8576b"
             ],
             [
              0.6666666666666666,
              "#ed7953"
             ],
             [
              0.7777777777777778,
              "#fb9f3a"
             ],
             [
              0.8888888888888888,
              "#fdca26"
             ],
             [
              1,
              "#f0f921"
             ]
            ],
            "type": "histogram2d"
           }
          ],
          "histogram2dcontour": [
           {
            "colorbar": {
             "outlinewidth": 0,
             "ticks": ""
            },
            "colorscale": [
             [
              0,
              "#0d0887"
             ],
             [
              0.1111111111111111,
              "#46039f"
             ],
             [
              0.2222222222222222,
              "#7201a8"
             ],
             [
              0.3333333333333333,
              "#9c179e"
             ],
             [
              0.4444444444444444,
              "#bd3786"
             ],
             [
              0.5555555555555556,
              "#d8576b"
             ],
             [
              0.6666666666666666,
              "#ed7953"
             ],
             [
              0.7777777777777778,
              "#fb9f3a"
             ],
             [
              0.8888888888888888,
              "#fdca26"
             ],
             [
              1,
              "#f0f921"
             ]
            ],
            "type": "histogram2dcontour"
           }
          ],
          "mesh3d": [
           {
            "colorbar": {
             "outlinewidth": 0,
             "ticks": ""
            },
            "type": "mesh3d"
           }
          ],
          "parcoords": [
           {
            "line": {
             "colorbar": {
              "outlinewidth": 0,
              "ticks": ""
             }
            },
            "type": "parcoords"
           }
          ],
          "pie": [
           {
            "automargin": true,
            "type": "pie"
           }
          ],
          "scatter": [
           {
            "fillpattern": {
             "fillmode": "overlay",
             "size": 10,
             "solidity": 0.2
            },
            "type": "scatter"
           }
          ],
          "scatter3d": [
           {
            "line": {
             "colorbar": {
              "outlinewidth": 0,
              "ticks": ""
             }
            },
            "marker": {
             "colorbar": {
              "outlinewidth": 0,
              "ticks": ""
             }
            },
            "type": "scatter3d"
           }
          ],
          "scattercarpet": [
           {
            "marker": {
             "colorbar": {
              "outlinewidth": 0,
              "ticks": ""
             }
            },
            "type": "scattercarpet"
           }
          ],
          "scattergeo": [
           {
            "marker": {
             "colorbar": {
              "outlinewidth": 0,
              "ticks": ""
             }
            },
            "type": "scattergeo"
           }
          ],
          "scattergl": [
           {
            "marker": {
             "colorbar": {
              "outlinewidth": 0,
              "ticks": ""
             }
            },
            "type": "scattergl"
           }
          ],
          "scattermapbox": [
           {
            "marker": {
             "colorbar": {
              "outlinewidth": 0,
              "ticks": ""
             }
            },
            "type": "scattermapbox"
           }
          ],
          "scatterpolar": [
           {
            "marker": {
             "colorbar": {
              "outlinewidth": 0,
              "ticks": ""
             }
            },
            "type": "scatterpolar"
           }
          ],
          "scatterpolargl": [
           {
            "marker": {
             "colorbar": {
              "outlinewidth": 0,
              "ticks": ""
             }
            },
            "type": "scatterpolargl"
           }
          ],
          "scatterternary": [
           {
            "marker": {
             "colorbar": {
              "outlinewidth": 0,
              "ticks": ""
             }
            },
            "type": "scatterternary"
           }
          ],
          "surface": [
           {
            "colorbar": {
             "outlinewidth": 0,
             "ticks": ""
            },
            "colorscale": [
             [
              0,
              "#0d0887"
             ],
             [
              0.1111111111111111,
              "#46039f"
             ],
             [
              0.2222222222222222,
              "#7201a8"
             ],
             [
              0.3333333333333333,
              "#9c179e"
             ],
             [
              0.4444444444444444,
              "#bd3786"
             ],
             [
              0.5555555555555556,
              "#d8576b"
             ],
             [
              0.6666666666666666,
              "#ed7953"
             ],
             [
              0.7777777777777778,
              "#fb9f3a"
             ],
             [
              0.8888888888888888,
              "#fdca26"
             ],
             [
              1,
              "#f0f921"
             ]
            ],
            "type": "surface"
           }
          ],
          "table": [
           {
            "cells": {
             "fill": {
              "color": "#EBF0F8"
             },
             "line": {
              "color": "white"
             }
            },
            "header": {
             "fill": {
              "color": "#C8D4E3"
             },
             "line": {
              "color": "white"
             }
            },
            "type": "table"
           }
          ]
         },
         "layout": {
          "annotationdefaults": {
           "arrowcolor": "#2a3f5f",
           "arrowhead": 0,
           "arrowwidth": 1
          },
          "autotypenumbers": "strict",
          "coloraxis": {
           "colorbar": {
            "outlinewidth": 0,
            "ticks": ""
           }
          },
          "colorscale": {
           "diverging": [
            [
             0,
             "#8e0152"
            ],
            [
             0.1,
             "#c51b7d"
            ],
            [
             0.2,
             "#de77ae"
            ],
            [
             0.3,
             "#f1b6da"
            ],
            [
             0.4,
             "#fde0ef"
            ],
            [
             0.5,
             "#f7f7f7"
            ],
            [
             0.6,
             "#e6f5d0"
            ],
            [
             0.7,
             "#b8e186"
            ],
            [
             0.8,
             "#7fbc41"
            ],
            [
             0.9,
             "#4d9221"
            ],
            [
             1,
             "#276419"
            ]
           ],
           "sequential": [
            [
             0,
             "#0d0887"
            ],
            [
             0.1111111111111111,
             "#46039f"
            ],
            [
             0.2222222222222222,
             "#7201a8"
            ],
            [
             0.3333333333333333,
             "#9c179e"
            ],
            [
             0.4444444444444444,
             "#bd3786"
            ],
            [
             0.5555555555555556,
             "#d8576b"
            ],
            [
             0.6666666666666666,
             "#ed7953"
            ],
            [
             0.7777777777777778,
             "#fb9f3a"
            ],
            [
             0.8888888888888888,
             "#fdca26"
            ],
            [
             1,
             "#f0f921"
            ]
           ],
           "sequentialminus": [
            [
             0,
             "#0d0887"
            ],
            [
             0.1111111111111111,
             "#46039f"
            ],
            [
             0.2222222222222222,
             "#7201a8"
            ],
            [
             0.3333333333333333,
             "#9c179e"
            ],
            [
             0.4444444444444444,
             "#bd3786"
            ],
            [
             0.5555555555555556,
             "#d8576b"
            ],
            [
             0.6666666666666666,
             "#ed7953"
            ],
            [
             0.7777777777777778,
             "#fb9f3a"
            ],
            [
             0.8888888888888888,
             "#fdca26"
            ],
            [
             1,
             "#f0f921"
            ]
           ]
          },
          "colorway": [
           "#636efa",
           "#EF553B",
           "#00cc96",
           "#ab63fa",
           "#FFA15A",
           "#19d3f3",
           "#FF6692",
           "#B6E880",
           "#FF97FF",
           "#FECB52"
          ],
          "font": {
           "color": "#2a3f5f"
          },
          "geo": {
           "bgcolor": "white",
           "lakecolor": "white",
           "landcolor": "#E5ECF6",
           "showlakes": true,
           "showland": true,
           "subunitcolor": "white"
          },
          "hoverlabel": {
           "align": "left"
          },
          "hovermode": "closest",
          "mapbox": {
           "style": "light"
          },
          "paper_bgcolor": "white",
          "plot_bgcolor": "#E5ECF6",
          "polar": {
           "angularaxis": {
            "gridcolor": "white",
            "linecolor": "white",
            "ticks": ""
           },
           "bgcolor": "#E5ECF6",
           "radialaxis": {
            "gridcolor": "white",
            "linecolor": "white",
            "ticks": ""
           }
          },
          "scene": {
           "xaxis": {
            "backgroundcolor": "#E5ECF6",
            "gridcolor": "white",
            "gridwidth": 2,
            "linecolor": "white",
            "showbackground": true,
            "ticks": "",
            "zerolinecolor": "white"
           },
           "yaxis": {
            "backgroundcolor": "#E5ECF6",
            "gridcolor": "white",
            "gridwidth": 2,
            "linecolor": "white",
            "showbackground": true,
            "ticks": "",
            "zerolinecolor": "white"
           },
           "zaxis": {
            "backgroundcolor": "#E5ECF6",
            "gridcolor": "white",
            "gridwidth": 2,
            "linecolor": "white",
            "showbackground": true,
            "ticks": "",
            "zerolinecolor": "white"
           }
          },
          "shapedefaults": {
           "line": {
            "color": "#2a3f5f"
           }
          },
          "ternary": {
           "aaxis": {
            "gridcolor": "white",
            "linecolor": "white",
            "ticks": ""
           },
           "baxis": {
            "gridcolor": "white",
            "linecolor": "white",
            "ticks": ""
           },
           "bgcolor": "#E5ECF6",
           "caxis": {
            "gridcolor": "white",
            "linecolor": "white",
            "ticks": ""
           }
          },
          "title": {
           "x": 0.05
          },
          "xaxis": {
           "automargin": true,
           "gridcolor": "white",
           "linecolor": "white",
           "ticks": "",
           "title": {
            "standoff": 15
           },
           "zerolinecolor": "white",
           "zerolinewidth": 2
          },
          "yaxis": {
           "automargin": true,
           "gridcolor": "white",
           "linecolor": "white",
           "ticks": "",
           "title": {
            "standoff": 15
           },
           "zerolinecolor": "white",
           "zerolinewidth": 2
          }
         }
        },
        "title": {
         "font": {
          "family": "Arial",
          "size": 20,
          "weight": "bold"
         },
         "text": "Changing Themes in Character Representation Across Years",
         "x": 0.5,
         "xanchor": "center"
        },
        "width": 1100,
        "xaxis": {
         "anchor": "y",
         "domain": [
          0,
          1
         ],
         "title": {
          "text": "Movie Release Year"
         }
        },
        "yaxis": {
         "anchor": "x",
         "domain": [
          0,
          1
         ],
         "title": {
          "text": "Frequency of a Category"
         }
        }
       }
      }
     },
     "metadata": {},
     "output_type": "display_data"
    }
   ],
   "source": [
    "fig = go.Figure()\n",
    "\n",
    "# set topic color palette\n",
    "unique_topics = melted_empath_df['topic'].unique()\n",
    "color_palette = px.colors.qualitative.Plotly\n",
    "topic_colors = {topic: color_palette[i] for i, topic in enumerate(unique_topics)}\n",
    "\n",
    "# Map colors directly in the DataFrame\n",
    "melted_empath_df['color'] = melted_empath_df['topic'].map(topic_colors)\n",
    "\n",
    "fig = px.line(\n",
    "    melted_empath_df,\n",
    "    x='year',\n",
    "    y='proportion_sqrt',\n",
    "    color='topic',\n",
    "    title='Evolution of Grouped Empath Topics Across Years',\n",
    "    color_discrete_map=topic_colors\n",
    ")\n",
    "\n",
    "fig.update_layout(\n",
    "    width = 1100,\n",
    "    height = 600,\n",
    "    xaxis_title=\"Movie Release Year\",\n",
    "    yaxis_title=\"Frequency of a Category\",\n",
    "    legend_title=\"Categories\",\n",
    "    title={\n",
    "        \"text\": \"Changing Themes in Character Representation Across Years\",\n",
    "        \"x\": 0.5,\n",
    "        \"xanchor\": \"center\",\n",
    "        \"font\": {\"size\": 20, \"family\": \"Arial\", \"weight\": \"bold\"}\n",
    "    },\n",
    "    margin=dict(l=50, r=50, t=50, b=50),  # Adjust margins\n",
    "    #yaxis=dict(type='log')\n",
    ")\n",
    "\n",
    "fig.show()"
   ]
  },
  {
   "cell_type": "code",
   "execution_count": 60,
   "metadata": {},
   "outputs": [
    {
     "data": {
      "application/vnd.plotly.v1+json": {
       "config": {
        "plotlyServerURL": "https://plot.ly"
       },
       "data": [
        {
         "marker": {
          "color": [
           "#636EFA",
           "#EF553B",
           "#00CC96",
           "#AB63FA",
           "#FFA15A",
           "#19D3F3",
           "#FF6692"
          ]
         },
         "name": "Year 1945",
         "type": "bar",
         "visible": true,
         "x": [
          "Deception",
          "Politics & power",
          "Support & solidarity",
          "heroic",
          "law",
          "love & affection",
          "pride"
         ],
         "y": [
          0.21493913187076177,
          0.34345534002712713,
          0.23508117299081363,
          0.48812121698697836,
          0.1209127083516686,
          0.2475865122253697,
          0.27625312572654126
         ]
        },
        {
         "marker": {
          "color": [
           "#636EFA",
           "#EF553B",
           "#00CC96",
           "#AB63FA",
           "#FFA15A",
           "#19D3F3",
           "#FF6692"
          ]
         },
         "name": "Year 1946",
         "type": "bar",
         "visible": false,
         "x": [
          "Deception",
          "Politics & power",
          "Support & solidarity",
          "heroic",
          "law",
          "love & affection",
          "pride"
         ],
         "y": [
          0.21611438257688714,
          0.3294345637345082,
          0.16132068445697084,
          0.42891735762005956,
          0.15635309444959689,
          0.27183189711277284,
          0.28872308329285884
         ]
        },
        {
         "marker": {
          "color": [
           "#636EFA",
           "#EF553B",
           "#00CC96",
           "#AB63FA",
           "#FFA15A",
           "#19D3F3",
           "#FF6692"
          ]
         },
         "name": "Year 1947",
         "type": "bar",
         "visible": false,
         "x": [
          "Deception",
          "Politics & power",
          "Support & solidarity",
          "heroic",
          "law",
          "love & affection",
          "pride"
         ],
         "y": [
          0.23511226632776472,
          0.24765690750298855,
          0.13844373104863458,
          0.40712081069057926,
          0.22555047300552458,
          0.21939671974512434,
          0.25928524057268665
         ]
        },
        {
         "marker": {
          "color": [
           "#636EFA",
           "#EF553B",
           "#00CC96",
           "#AB63FA",
           "#FFA15A",
           "#19D3F3",
           "#FF6692"
          ]
         },
         "name": "Year 1948",
         "type": "bar",
         "visible": false,
         "x": [
          "Deception",
          "Politics & power",
          "Support & solidarity",
          "heroic",
          "law",
          "love & affection",
          "pride"
         ],
         "y": [
          0.22550593372154049,
          0.2984737705441984,
          0.14417517456517806,
          0.40040114169987406,
          0.17875590323691418,
          0.22499538570388475,
          0.2845849347002622
         ]
        },
        {
         "marker": {
          "color": [
           "#636EFA",
           "#EF553B",
           "#00CC96",
           "#AB63FA",
           "#FFA15A",
           "#19D3F3",
           "#FF6692"
          ]
         },
         "name": "Year 1949",
         "type": "bar",
         "visible": false,
         "x": [
          "Deception",
          "Politics & power",
          "Support & solidarity",
          "heroic",
          "law",
          "love & affection",
          "pride"
         ],
         "y": [
          0.2835465942245569,
          0.3325439914132281,
          0.12015991000865343,
          0.39745723629858226,
          0.17394145389623591,
          0.2613541341212388,
          0.23944197798388006
         ]
        },
        {
         "marker": {
          "color": [
           "#636EFA",
           "#EF553B",
           "#00CC96",
           "#AB63FA",
           "#FFA15A",
           "#19D3F3",
           "#FF6692"
          ]
         },
         "name": "Year 1950",
         "type": "bar",
         "visible": false,
         "x": [
          "Deception",
          "Politics & power",
          "Support & solidarity",
          "heroic",
          "law",
          "love & affection",
          "pride"
         ],
         "y": [
          0.27644249771960633,
          0.34363269885125214,
          0.1589529911359122,
          0.4214021535575688,
          0.19909155152202185,
          0.16685595311797866,
          0.3012495022838422
         ]
        },
        {
         "marker": {
          "color": [
           "#636EFA",
           "#EF553B",
           "#00CC96",
           "#AB63FA",
           "#FFA15A",
           "#19D3F3",
           "#FF6692"
          ]
         },
         "name": "Year 1951",
         "type": "bar",
         "visible": false,
         "x": [
          "Deception",
          "Politics & power",
          "Support & solidarity",
          "heroic",
          "law",
          "love & affection",
          "pride"
         ],
         "y": [
          0.23385016022209057,
          0.31484473336425073,
          0.17697861049129235,
          0.43009487526777357,
          0.21904316693270526,
          0.22476427878775804,
          0.31636748227082984
         ]
        },
        {
         "marker": {
          "color": [
           "#636EFA",
           "#EF553B",
           "#00CC96",
           "#AB63FA",
           "#FFA15A",
           "#19D3F3",
           "#FF6692"
          ]
         },
         "name": "Year 1952",
         "type": "bar",
         "visible": false,
         "x": [
          "Deception",
          "Politics & power",
          "Support & solidarity",
          "heroic",
          "law",
          "love & affection",
          "pride"
         ],
         "y": [
          0.28854721885998824,
          0.33304697008795964,
          0.1396438732019462,
          0.43783294126263933,
          0.1632039031968647,
          0.16576504922169844,
          0.2935744511741784
         ]
        },
        {
         "marker": {
          "color": [
           "#636EFA",
           "#EF553B",
           "#00CC96",
           "#AB63FA",
           "#FFA15A",
           "#19D3F3",
           "#FF6692"
          ]
         },
         "name": "Year 1953",
         "type": "bar",
         "visible": false,
         "x": [
          "Deception",
          "Politics & power",
          "Support & solidarity",
          "heroic",
          "law",
          "love & affection",
          "pride"
         ],
         "y": [
          0.23568709245184716,
          0.3477052212707208,
          0.206757721134557,
          0.4465023369080355,
          0.18429896626435258,
          0.26498055629554257,
          0.2676278136230362
         ]
        },
        {
         "marker": {
          "color": [
           "#636EFA",
           "#EF553B",
           "#00CC96",
           "#AB63FA",
           "#FFA15A",
           "#19D3F3",
           "#FF6692"
          ]
         },
         "name": "Year 1954",
         "type": "bar",
         "visible": false,
         "x": [
          "Deception",
          "Politics & power",
          "Support & solidarity",
          "heroic",
          "law",
          "love & affection",
          "pride"
         ],
         "y": [
          0.2036750266564767,
          0.34653324591800283,
          0.19599936457996725,
          0.4201879181484,
          0.20864994257080097,
          0.18207191752212407,
          0.2612851871140863
         ]
        },
        {
         "marker": {
          "color": [
           "#636EFA",
           "#EF553B",
           "#00CC96",
           "#AB63FA",
           "#FFA15A",
           "#19D3F3",
           "#FF6692"
          ]
         },
         "name": "Year 1955",
         "type": "bar",
         "visible": false,
         "x": [
          "Deception",
          "Politics & power",
          "Support & solidarity",
          "heroic",
          "law",
          "love & affection",
          "pride"
         ],
         "y": [
          0.3016524223889396,
          0.3608050646597294,
          0.1551647303408297,
          0.4474235247426692,
          0.20288122144681567,
          0.19971353530295866,
          0.2763552573782978
         ]
        },
        {
         "marker": {
          "color": [
           "#636EFA",
           "#EF553B",
           "#00CC96",
           "#AB63FA",
           "#FFA15A",
           "#19D3F3",
           "#FF6692"
          ]
         },
         "name": "Year 1956",
         "type": "bar",
         "visible": false,
         "x": [
          "Deception",
          "Politics & power",
          "Support & solidarity",
          "heroic",
          "law",
          "love & affection",
          "pride"
         ],
         "y": [
          0.21674862937083364,
          0.3264339795693401,
          0.16013146329787556,
          0.4476293375210384,
          0.17938103108459094,
          0.18476473433713947,
          0.32123377401222547
         ]
        },
        {
         "marker": {
          "color": [
           "#636EFA",
           "#EF553B",
           "#00CC96",
           "#AB63FA",
           "#FFA15A",
           "#19D3F3",
           "#FF6692"
          ]
         },
         "name": "Year 1957",
         "type": "bar",
         "visible": false,
         "x": [
          "Deception",
          "Politics & power",
          "Support & solidarity",
          "heroic",
          "law",
          "love & affection",
          "pride"
         ],
         "y": [
          0.2086739303986941,
          0.3849524721275361,
          0.16898710023940666,
          0.4452726423920035,
          0.1816810001156336,
          0.2083192837616962,
          0.2948086772244239
         ]
        },
        {
         "marker": {
          "color": [
           "#636EFA",
           "#EF553B",
           "#00CC96",
           "#AB63FA",
           "#FFA15A",
           "#19D3F3",
           "#FF6692"
          ]
         },
         "name": "Year 1958",
         "type": "bar",
         "visible": false,
         "x": [
          "Deception",
          "Politics & power",
          "Support & solidarity",
          "heroic",
          "law",
          "love & affection",
          "pride"
         ],
         "y": [
          0.2549251578024148,
          0.3617690545715579,
          0.1704931413735205,
          0.42383323392754974,
          0.15009917356455332,
          0.2687472653176542,
          0.28597780246385124
         ]
        },
        {
         "marker": {
          "color": [
           "#636EFA",
           "#EF553B",
           "#00CC96",
           "#AB63FA",
           "#FFA15A",
           "#19D3F3",
           "#FF6692"
          ]
         },
         "name": "Year 1959",
         "type": "bar",
         "visible": false,
         "x": [
          "Deception",
          "Politics & power",
          "Support & solidarity",
          "heroic",
          "law",
          "love & affection",
          "pride"
         ],
         "y": [
          0.20154413829863593,
          0.3345020149197131,
          0.18468485501252038,
          0.43768443934262546,
          0.1853514465283687,
          0.27048720806320903,
          0.2846398874913977
         ]
        },
        {
         "marker": {
          "color": [
           "#636EFA",
           "#EF553B",
           "#00CC96",
           "#AB63FA",
           "#FFA15A",
           "#19D3F3",
           "#FF6692"
          ]
         },
         "name": "Year 1960",
         "type": "bar",
         "visible": false,
         "x": [
          "Deception",
          "Politics & power",
          "Support & solidarity",
          "heroic",
          "law",
          "love & affection",
          "pride"
         ],
         "y": [
          0.25074247732952826,
          0.33361423167074983,
          0.14179143264663752,
          0.44268266529326417,
          0.12457367016037238,
          0.19604721029261368,
          0.27596714972482417
         ]
        },
        {
         "marker": {
          "color": [
           "#636EFA",
           "#EF553B",
           "#00CC96",
           "#AB63FA",
           "#FFA15A",
           "#19D3F3",
           "#FF6692"
          ]
         },
         "name": "Year 1961",
         "type": "bar",
         "visible": false,
         "x": [
          "Deception",
          "Politics & power",
          "Support & solidarity",
          "heroic",
          "law",
          "love & affection",
          "pride"
         ],
         "y": [
          0.20966027629818543,
          0.3289853790715674,
          0.17018296466521396,
          0.4214794506094877,
          0.1535024790125914,
          0.25236972122359724,
          0.26659622258036597
         ]
        },
        {
         "marker": {
          "color": [
           "#636EFA",
           "#EF553B",
           "#00CC96",
           "#AB63FA",
           "#FFA15A",
           "#19D3F3",
           "#FF6692"
          ]
         },
         "name": "Year 1962",
         "type": "bar",
         "visible": false,
         "x": [
          "Deception",
          "Politics & power",
          "Support & solidarity",
          "heroic",
          "law",
          "love & affection",
          "pride"
         ],
         "y": [
          0.2796212704408771,
          0.3729395911675372,
          0.17090983899736512,
          0.4397779724074803,
          0.20423943704865383,
          0.21630529656455394,
          0.28913895059966427
         ]
        },
        {
         "marker": {
          "color": [
           "#636EFA",
           "#EF553B",
           "#00CC96",
           "#AB63FA",
           "#FFA15A",
           "#19D3F3",
           "#FF6692"
          ]
         },
         "name": "Year 1963",
         "type": "bar",
         "visible": false,
         "x": [
          "Deception",
          "Politics & power",
          "Support & solidarity",
          "heroic",
          "law",
          "love & affection",
          "pride"
         ],
         "y": [
          0.23767308655341984,
          0.3473571166541717,
          0.1849734238978694,
          0.3829631597146917,
          0.16316671420169193,
          0.21143079766907708,
          0.2992545251174505
         ]
        },
        {
         "marker": {
          "color": [
           "#636EFA",
           "#EF553B",
           "#00CC96",
           "#AB63FA",
           "#FFA15A",
           "#19D3F3",
           "#FF6692"
          ]
         },
         "name": "Year 1964",
         "type": "bar",
         "visible": false,
         "x": [
          "Deception",
          "Politics & power",
          "Support & solidarity",
          "heroic",
          "law",
          "love & affection",
          "pride"
         ],
         "y": [
          0.21212056792316117,
          0.36810438974676973,
          0.21985800437451006,
          0.4592166187382132,
          0.16256681757963454,
          0.19864904590436916,
          0.25495333396761555
         ]
        },
        {
         "marker": {
          "color": [
           "#636EFA",
           "#EF553B",
           "#00CC96",
           "#AB63FA",
           "#FFA15A",
           "#19D3F3",
           "#FF6692"
          ]
         },
         "name": "Year 1965",
         "type": "bar",
         "visible": false,
         "x": [
          "Deception",
          "Politics & power",
          "Support & solidarity",
          "heroic",
          "law",
          "love & affection",
          "pride"
         ],
         "y": [
          0.23514520116645266,
          0.3459156541274502,
          0.18984287514501239,
          0.4448976941638426,
          0.16681063339084104,
          0.2885924374264341,
          0.28552767886535246
         ]
        },
        {
         "marker": {
          "color": [
           "#636EFA",
           "#EF553B",
           "#00CC96",
           "#AB63FA",
           "#FFA15A",
           "#19D3F3",
           "#FF6692"
          ]
         },
         "name": "Year 1966",
         "type": "bar",
         "visible": false,
         "x": [
          "Deception",
          "Politics & power",
          "Support & solidarity",
          "heroic",
          "law",
          "love & affection",
          "pride"
         ],
         "y": [
          0.2529615439019267,
          0.37295682244947104,
          0.1714130940940431,
          0.40770762777268243,
          0.1805843824498488,
          0.27093051807717755,
          0.2321407712695768
         ]
        },
        {
         "marker": {
          "color": [
           "#636EFA",
           "#EF553B",
           "#00CC96",
           "#AB63FA",
           "#FFA15A",
           "#19D3F3",
           "#FF6692"
          ]
         },
         "name": "Year 1967",
         "type": "bar",
         "visible": false,
         "x": [
          "Deception",
          "Politics & power",
          "Support & solidarity",
          "heroic",
          "law",
          "love & affection",
          "pride"
         ],
         "y": [
          0.280980371842818,
          0.3571197535471252,
          0.2013226957105732,
          0.42966356692864704,
          0.18108931911076545,
          0.2359228177571614,
          0.26623842047610347
         ]
        },
        {
         "marker": {
          "color": [
           "#636EFA",
           "#EF553B",
           "#00CC96",
           "#AB63FA",
           "#FFA15A",
           "#19D3F3",
           "#FF6692"
          ]
         },
         "name": "Year 1968",
         "type": "bar",
         "visible": false,
         "x": [
          "Deception",
          "Politics & power",
          "Support & solidarity",
          "heroic",
          "law",
          "love & affection",
          "pride"
         ],
         "y": [
          0.24107505316327763,
          0.33866690327471705,
          0.17672335045143003,
          0.424741679469832,
          0.18385639014313154,
          0.19606093148078224,
          0.2814404569800911
         ]
        },
        {
         "marker": {
          "color": [
           "#636EFA",
           "#EF553B",
           "#00CC96",
           "#AB63FA",
           "#FFA15A",
           "#19D3F3",
           "#FF6692"
          ]
         },
         "name": "Year 1969",
         "type": "bar",
         "visible": false,
         "x": [
          "Deception",
          "Politics & power",
          "Support & solidarity",
          "heroic",
          "law",
          "love & affection",
          "pride"
         ],
         "y": [
          0.2161466510793306,
          0.38435019145518134,
          0.1522678833504036,
          0.4639893834343886,
          0.16890535737623538,
          0.2140341428886165,
          0.3138654903627893
         ]
        },
        {
         "marker": {
          "color": [
           "#636EFA",
           "#EF553B",
           "#00CC96",
           "#AB63FA",
           "#FFA15A",
           "#19D3F3",
           "#FF6692"
          ]
         },
         "name": "Year 1970",
         "type": "bar",
         "visible": false,
         "x": [
          "Deception",
          "Politics & power",
          "Support & solidarity",
          "heroic",
          "law",
          "love & affection",
          "pride"
         ],
         "y": [
          0.2765207486746617,
          0.4223470306088478,
          0.12691093197503417,
          0.3767639705860085,
          0.19220049659832775,
          0.19765527571815764,
          0.20435490511558124
         ]
        },
        {
         "marker": {
          "color": [
           "#636EFA",
           "#EF553B",
           "#00CC96",
           "#AB63FA",
           "#FFA15A",
           "#19D3F3",
           "#FF6692"
          ]
         },
         "name": "Year 1971",
         "type": "bar",
         "visible": false,
         "x": [
          "Deception",
          "Politics & power",
          "Support & solidarity",
          "heroic",
          "law",
          "love & affection",
          "pride"
         ],
         "y": [
          0.2752761202064024,
          0.3851586526718473,
          0.14827045216133586,
          0.37745535679531045,
          0.16121406556917842,
          0.20617286075873437,
          0.23410184932269856
         ]
        },
        {
         "marker": {
          "color": [
           "#636EFA",
           "#EF553B",
           "#00CC96",
           "#AB63FA",
           "#FFA15A",
           "#19D3F3",
           "#FF6692"
          ]
         },
         "name": "Year 1972",
         "type": "bar",
         "visible": false,
         "x": [
          "Deception",
          "Politics & power",
          "Support & solidarity",
          "heroic",
          "law",
          "love & affection",
          "pride"
         ],
         "y": [
          0.2737503633218653,
          0.4254904726394134,
          0.13186140892217618,
          0.4124055116601787,
          0.1865303154228665,
          0.2262766715370929,
          0.2336216301172858
         ]
        },
        {
         "marker": {
          "color": [
           "#636EFA",
           "#EF553B",
           "#00CC96",
           "#AB63FA",
           "#FFA15A",
           "#19D3F3",
           "#FF6692"
          ]
         },
         "name": "Year 1973",
         "type": "bar",
         "visible": false,
         "x": [
          "Deception",
          "Politics & power",
          "Support & solidarity",
          "heroic",
          "law",
          "love & affection",
          "pride"
         ],
         "y": [
          0.19313618848260236,
          0.3863600328471129,
          0.14755672103950168,
          0.3922790218778881,
          0.17949297997202923,
          0.2086408332627681,
          0.2584380131650474
         ]
        },
        {
         "marker": {
          "color": [
           "#636EFA",
           "#EF553B",
           "#00CC96",
           "#AB63FA",
           "#FFA15A",
           "#19D3F3",
           "#FF6692"
          ]
         },
         "name": "Year 1974",
         "type": "bar",
         "visible": false,
         "x": [
          "Deception",
          "Politics & power",
          "Support & solidarity",
          "heroic",
          "law",
          "love & affection",
          "pride"
         ],
         "y": [
          0.320644756632503,
          0.3742304128348031,
          0.19162883843934275,
          0.42681074831145216,
          0.16277014442204243,
          0.21803796615133755,
          0.24050305545631837
         ]
        },
        {
         "marker": {
          "color": [
           "#636EFA",
           "#EF553B",
           "#00CC96",
           "#AB63FA",
           "#FFA15A",
           "#19D3F3",
           "#FF6692"
          ]
         },
         "name": "Year 1975",
         "type": "bar",
         "visible": false,
         "x": [
          "Deception",
          "Politics & power",
          "Support & solidarity",
          "heroic",
          "law",
          "love & affection",
          "pride"
         ],
         "y": [
          0.24610970230770174,
          0.361966879209993,
          0.17742597993241674,
          0.3700308087481357,
          0.1981038360813083,
          0.22501402874334997,
          0.22658174179374144
         ]
        },
        {
         "marker": {
          "color": [
           "#636EFA",
           "#EF553B",
           "#00CC96",
           "#AB63FA",
           "#FFA15A",
           "#19D3F3",
           "#FF6692"
          ]
         },
         "name": "Year 1976",
         "type": "bar",
         "visible": false,
         "x": [
          "Deception",
          "Politics & power",
          "Support & solidarity",
          "heroic",
          "law",
          "love & affection",
          "pride"
         ],
         "y": [
          0.2800364870700552,
          0.3468539201985852,
          0.1807963767675622,
          0.3973968230699519,
          0.2370953476865716,
          0.2061799046395244,
          0.22806306993556402
         ]
        },
        {
         "marker": {
          "color": [
           "#636EFA",
           "#EF553B",
           "#00CC96",
           "#AB63FA",
           "#FFA15A",
           "#19D3F3",
           "#FF6692"
          ]
         },
         "name": "Year 1977",
         "type": "bar",
         "visible": false,
         "x": [
          "Deception",
          "Politics & power",
          "Support & solidarity",
          "heroic",
          "law",
          "love & affection",
          "pride"
         ],
         "y": [
          0.2163917670000336,
          0.3665255224478433,
          0.13750477455423168,
          0.3973715985270614,
          0.19761651646990275,
          0.2688855380892588,
          0.2710769750899233
         ]
        },
        {
         "marker": {
          "color": [
           "#636EFA",
           "#EF553B",
           "#00CC96",
           "#AB63FA",
           "#FFA15A",
           "#19D3F3",
           "#FF6692"
          ]
         },
         "name": "Year 1978",
         "type": "bar",
         "visible": false,
         "x": [
          "Deception",
          "Politics & power",
          "Support & solidarity",
          "heroic",
          "law",
          "love & affection",
          "pride"
         ],
         "y": [
          0.2683009164501502,
          0.37568815243592435,
          0.1691838893210494,
          0.4271323502970777,
          0.18638277936832626,
          0.25454800331241684,
          0.2561282273833527
         ]
        },
        {
         "marker": {
          "color": [
           "#636EFA",
           "#EF553B",
           "#00CC96",
           "#AB63FA",
           "#FFA15A",
           "#19D3F3",
           "#FF6692"
          ]
         },
         "name": "Year 1979",
         "type": "bar",
         "visible": false,
         "x": [
          "Deception",
          "Politics & power",
          "Support & solidarity",
          "heroic",
          "law",
          "love & affection",
          "pride"
         ],
         "y": [
          0.22020841306117633,
          0.35339974109405853,
          0.13468841267390289,
          0.41296310985044854,
          0.2245183661352143,
          0.22796740979512564,
          0.2592139594055464
         ]
        },
        {
         "marker": {
          "color": [
           "#636EFA",
           "#EF553B",
           "#00CC96",
           "#AB63FA",
           "#FFA15A",
           "#19D3F3",
           "#FF6692"
          ]
         },
         "name": "Year 1980",
         "type": "bar",
         "visible": false,
         "x": [
          "Deception",
          "Politics & power",
          "Support & solidarity",
          "heroic",
          "law",
          "love & affection",
          "pride"
         ],
         "y": [
          0.2592770325362762,
          0.38602309510497423,
          0.14362124740535653,
          0.41151220075715167,
          0.23656746996439718,
          0.21277559990990572,
          0.24476284037341106
         ]
        },
        {
         "marker": {
          "color": [
           "#636EFA",
           "#EF553B",
           "#00CC96",
           "#AB63FA",
           "#FFA15A",
           "#19D3F3",
           "#FF6692"
          ]
         },
         "name": "Year 1981",
         "type": "bar",
         "visible": false,
         "x": [
          "Deception",
          "Politics & power",
          "Support & solidarity",
          "heroic",
          "law",
          "love & affection",
          "pride"
         ],
         "y": [
          0.21883461654414588,
          0.38685841577707347,
          0.14506627732801902,
          0.41760234182910166,
          0.21137713571019978,
          0.18250240514195853,
          0.3245713109456668
         ]
        },
        {
         "marker": {
          "color": [
           "#636EFA",
           "#EF553B",
           "#00CC96",
           "#AB63FA",
           "#FFA15A",
           "#19D3F3",
           "#FF6692"
          ]
         },
         "name": "Year 1982",
         "type": "bar",
         "visible": false,
         "x": [
          "Deception",
          "Politics & power",
          "Support & solidarity",
          "heroic",
          "law",
          "love & affection",
          "pride"
         ],
         "y": [
          0.22287961924618563,
          0.3304809935152549,
          0.11502735551601107,
          0.4064395248200456,
          0.14746535778287642,
          0.23877680226536996,
          0.29140496843935476
         ]
        },
        {
         "marker": {
          "color": [
           "#636EFA",
           "#EF553B",
           "#00CC96",
           "#AB63FA",
           "#FFA15A",
           "#19D3F3",
           "#FF6692"
          ]
         },
         "name": "Year 1983",
         "type": "bar",
         "visible": false,
         "x": [
          "Deception",
          "Politics & power",
          "Support & solidarity",
          "heroic",
          "law",
          "love & affection",
          "pride"
         ],
         "y": [
          0.22245533098007844,
          0.3232370266287801,
          0.13529970779333467,
          0.421440258816402,
          0.21673789519375733,
          0.21249359023563702,
          0.27571967194371044
         ]
        },
        {
         "marker": {
          "color": [
           "#636EFA",
           "#EF553B",
           "#00CC96",
           "#AB63FA",
           "#FFA15A",
           "#19D3F3",
           "#FF6692"
          ]
         },
         "name": "Year 1984",
         "type": "bar",
         "visible": false,
         "x": [
          "Deception",
          "Politics & power",
          "Support & solidarity",
          "heroic",
          "law",
          "love & affection",
          "pride"
         ],
         "y": [
          0.2901307018842097,
          0.35408397009107584,
          0.12000712229575962,
          0.4043792632202948,
          0.2092270209030045,
          0.22431553739645482,
          0.26337251064809203
         ]
        },
        {
         "marker": {
          "color": [
           "#636EFA",
           "#EF553B",
           "#00CC96",
           "#AB63FA",
           "#FFA15A",
           "#19D3F3",
           "#FF6692"
          ]
         },
         "name": "Year 1985",
         "type": "bar",
         "visible": false,
         "x": [
          "Deception",
          "Politics & power",
          "Support & solidarity",
          "heroic",
          "law",
          "love & affection",
          "pride"
         ],
         "y": [
          0.25001587251199975,
          0.34471218186552144,
          0.1313040012365988,
          0.3861968172421694,
          0.18922832585889277,
          0.22175943875571266,
          0.28014401203785794
         ]
        },
        {
         "marker": {
          "color": [
           "#636EFA",
           "#EF553B",
           "#00CC96",
           "#AB63FA",
           "#FFA15A",
           "#19D3F3",
           "#FF6692"
          ]
         },
         "name": "Year 1986",
         "type": "bar",
         "visible": false,
         "x": [
          "Deception",
          "Politics & power",
          "Support & solidarity",
          "heroic",
          "law",
          "love & affection",
          "pride"
         ],
         "y": [
          0.2579816279483254,
          0.3777250916343233,
          0.13838763931925463,
          0.4241904931782322,
          0.193582334118627,
          0.1771707199233543,
          0.30409179476883735
         ]
        },
        {
         "marker": {
          "color": [
           "#636EFA",
           "#EF553B",
           "#00CC96",
           "#AB63FA",
           "#FFA15A",
           "#19D3F3",
           "#FF6692"
          ]
         },
         "name": "Year 1987",
         "type": "bar",
         "visible": false,
         "x": [
          "Deception",
          "Politics & power",
          "Support & solidarity",
          "heroic",
          "law",
          "love & affection",
          "pride"
         ],
         "y": [
          0.26032165758706066,
          0.3647509537740886,
          0.17320240041207705,
          0.37438095139158767,
          0.18261643313417456,
          0.20126059080576553,
          0.23483785244561783
         ]
        },
        {
         "marker": {
          "color": [
           "#636EFA",
           "#EF553B",
           "#00CC96",
           "#AB63FA",
           "#FFA15A",
           "#19D3F3",
           "#FF6692"
          ]
         },
         "name": "Year 1988",
         "type": "bar",
         "visible": false,
         "x": [
          "Deception",
          "Politics & power",
          "Support & solidarity",
          "heroic",
          "law",
          "love & affection",
          "pride"
         ],
         "y": [
          0.2825500422989773,
          0.37141071146851984,
          0.11628923876523921,
          0.40531854220559616,
          0.22341290168517916,
          0.16421744165538182,
          0.3036674539789858
         ]
        },
        {
         "marker": {
          "color": [
           "#636EFA",
           "#EF553B",
           "#00CC96",
           "#AB63FA",
           "#FFA15A",
           "#19D3F3",
           "#FF6692"
          ]
         },
         "name": "Year 1989",
         "type": "bar",
         "visible": false,
         "x": [
          "Deception",
          "Politics & power",
          "Support & solidarity",
          "heroic",
          "law",
          "love & affection",
          "pride"
         ],
         "y": [
          0.2707393668648743,
          0.3114376461894029,
          0.13664537193757303,
          0.40903724650948015,
          0.18364331658099547,
          0.1889927352261297,
          0.25836710559504517
         ]
        },
        {
         "marker": {
          "color": [
           "#636EFA",
           "#EF553B",
           "#00CC96",
           "#AB63FA",
           "#FFA15A",
           "#19D3F3",
           "#FF6692"
          ]
         },
         "name": "Year 1990",
         "type": "bar",
         "visible": false,
         "x": [
          "Deception",
          "Politics & power",
          "Support & solidarity",
          "heroic",
          "law",
          "love & affection",
          "pride"
         ],
         "y": [
          0.22428694486743309,
          0.35952609445260847,
          0.15417141034842927,
          0.4217360978084156,
          0.18509256943286315,
          0.14084172877263787,
          0.2681596015614058
         ]
        },
        {
         "marker": {
          "color": [
           "#636EFA",
           "#EF553B",
           "#00CC96",
           "#AB63FA",
           "#FFA15A",
           "#19D3F3",
           "#FF6692"
          ]
         },
         "name": "Year 1991",
         "type": "bar",
         "visible": false,
         "x": [
          "Deception",
          "Politics & power",
          "Support & solidarity",
          "heroic",
          "law",
          "love & affection",
          "pride"
         ],
         "y": [
          0.3381965063049541,
          0.27064083347946727,
          0.10558716138171652,
          0.4000750680310634,
          0.19277490023901495,
          0.15988453040573705,
          0.24371111873509058
         ]
        }
       ],
       "layout": {
        "barmode": "group",
        "legend": {
         "title": {
          "text": "Year"
         }
        },
        "sliders": [
         {
          "active": 0,
          "currentvalue": {
           "prefix": "Year: "
          },
          "pad": {
           "t": 50
          },
          "steps": [
           {
            "args": [
             {
              "visible": [
               true,
               false,
               false,
               false,
               false,
               false,
               false,
               false,
               false,
               false,
               false,
               false,
               false,
               false,
               false,
               false,
               false,
               false,
               false,
               false,
               false,
               false,
               false,
               false,
               false,
               false,
               false,
               false,
               false,
               false,
               false,
               false,
               false,
               false,
               false,
               false,
               false,
               false,
               false,
               false,
               false,
               false,
               false,
               false,
               false,
               false,
               false
              ]
             },
             {
              "title": "Empath Topic Proportions for Year: 1945"
             }
            ],
            "label": "1945",
            "method": "update"
           },
           {
            "args": [
             {
              "visible": [
               false,
               true,
               false,
               false,
               false,
               false,
               false,
               false,
               false,
               false,
               false,
               false,
               false,
               false,
               false,
               false,
               false,
               false,
               false,
               false,
               false,
               false,
               false,
               false,
               false,
               false,
               false,
               false,
               false,
               false,
               false,
               false,
               false,
               false,
               false,
               false,
               false,
               false,
               false,
               false,
               false,
               false,
               false,
               false,
               false,
               false,
               false
              ]
             },
             {
              "title": "Empath Topic Proportions for Year: 1946"
             }
            ],
            "label": "1946",
            "method": "update"
           },
           {
            "args": [
             {
              "visible": [
               false,
               false,
               true,
               false,
               false,
               false,
               false,
               false,
               false,
               false,
               false,
               false,
               false,
               false,
               false,
               false,
               false,
               false,
               false,
               false,
               false,
               false,
               false,
               false,
               false,
               false,
               false,
               false,
               false,
               false,
               false,
               false,
               false,
               false,
               false,
               false,
               false,
               false,
               false,
               false,
               false,
               false,
               false,
               false,
               false,
               false,
               false
              ]
             },
             {
              "title": "Empath Topic Proportions for Year: 1947"
             }
            ],
            "label": "1947",
            "method": "update"
           },
           {
            "args": [
             {
              "visible": [
               false,
               false,
               false,
               true,
               false,
               false,
               false,
               false,
               false,
               false,
               false,
               false,
               false,
               false,
               false,
               false,
               false,
               false,
               false,
               false,
               false,
               false,
               false,
               false,
               false,
               false,
               false,
               false,
               false,
               false,
               false,
               false,
               false,
               false,
               false,
               false,
               false,
               false,
               false,
               false,
               false,
               false,
               false,
               false,
               false,
               false,
               false
              ]
             },
             {
              "title": "Empath Topic Proportions for Year: 1948"
             }
            ],
            "label": "1948",
            "method": "update"
           },
           {
            "args": [
             {
              "visible": [
               false,
               false,
               false,
               false,
               true,
               false,
               false,
               false,
               false,
               false,
               false,
               false,
               false,
               false,
               false,
               false,
               false,
               false,
               false,
               false,
               false,
               false,
               false,
               false,
               false,
               false,
               false,
               false,
               false,
               false,
               false,
               false,
               false,
               false,
               false,
               false,
               false,
               false,
               false,
               false,
               false,
               false,
               false,
               false,
               false,
               false,
               false
              ]
             },
             {
              "title": "Empath Topic Proportions for Year: 1949"
             }
            ],
            "label": "1949",
            "method": "update"
           },
           {
            "args": [
             {
              "visible": [
               false,
               false,
               false,
               false,
               false,
               true,
               false,
               false,
               false,
               false,
               false,
               false,
               false,
               false,
               false,
               false,
               false,
               false,
               false,
               false,
               false,
               false,
               false,
               false,
               false,
               false,
               false,
               false,
               false,
               false,
               false,
               false,
               false,
               false,
               false,
               false,
               false,
               false,
               false,
               false,
               false,
               false,
               false,
               false,
               false,
               false,
               false
              ]
             },
             {
              "title": "Empath Topic Proportions for Year: 1950"
             }
            ],
            "label": "1950",
            "method": "update"
           },
           {
            "args": [
             {
              "visible": [
               false,
               false,
               false,
               false,
               false,
               false,
               true,
               false,
               false,
               false,
               false,
               false,
               false,
               false,
               false,
               false,
               false,
               false,
               false,
               false,
               false,
               false,
               false,
               false,
               false,
               false,
               false,
               false,
               false,
               false,
               false,
               false,
               false,
               false,
               false,
               false,
               false,
               false,
               false,
               false,
               false,
               false,
               false,
               false,
               false,
               false,
               false
              ]
             },
             {
              "title": "Empath Topic Proportions for Year: 1951"
             }
            ],
            "label": "1951",
            "method": "update"
           },
           {
            "args": [
             {
              "visible": [
               false,
               false,
               false,
               false,
               false,
               false,
               false,
               true,
               false,
               false,
               false,
               false,
               false,
               false,
               false,
               false,
               false,
               false,
               false,
               false,
               false,
               false,
               false,
               false,
               false,
               false,
               false,
               false,
               false,
               false,
               false,
               false,
               false,
               false,
               false,
               false,
               false,
               false,
               false,
               false,
               false,
               false,
               false,
               false,
               false,
               false,
               false
              ]
             },
             {
              "title": "Empath Topic Proportions for Year: 1952"
             }
            ],
            "label": "1952",
            "method": "update"
           },
           {
            "args": [
             {
              "visible": [
               false,
               false,
               false,
               false,
               false,
               false,
               false,
               false,
               true,
               false,
               false,
               false,
               false,
               false,
               false,
               false,
               false,
               false,
               false,
               false,
               false,
               false,
               false,
               false,
               false,
               false,
               false,
               false,
               false,
               false,
               false,
               false,
               false,
               false,
               false,
               false,
               false,
               false,
               false,
               false,
               false,
               false,
               false,
               false,
               false,
               false,
               false
              ]
             },
             {
              "title": "Empath Topic Proportions for Year: 1953"
             }
            ],
            "label": "1953",
            "method": "update"
           },
           {
            "args": [
             {
              "visible": [
               false,
               false,
               false,
               false,
               false,
               false,
               false,
               false,
               false,
               true,
               false,
               false,
               false,
               false,
               false,
               false,
               false,
               false,
               false,
               false,
               false,
               false,
               false,
               false,
               false,
               false,
               false,
               false,
               false,
               false,
               false,
               false,
               false,
               false,
               false,
               false,
               false,
               false,
               false,
               false,
               false,
               false,
               false,
               false,
               false,
               false,
               false
              ]
             },
             {
              "title": "Empath Topic Proportions for Year: 1954"
             }
            ],
            "label": "1954",
            "method": "update"
           },
           {
            "args": [
             {
              "visible": [
               false,
               false,
               false,
               false,
               false,
               false,
               false,
               false,
               false,
               false,
               true,
               false,
               false,
               false,
               false,
               false,
               false,
               false,
               false,
               false,
               false,
               false,
               false,
               false,
               false,
               false,
               false,
               false,
               false,
               false,
               false,
               false,
               false,
               false,
               false,
               false,
               false,
               false,
               false,
               false,
               false,
               false,
               false,
               false,
               false,
               false,
               false
              ]
             },
             {
              "title": "Empath Topic Proportions for Year: 1955"
             }
            ],
            "label": "1955",
            "method": "update"
           },
           {
            "args": [
             {
              "visible": [
               false,
               false,
               false,
               false,
               false,
               false,
               false,
               false,
               false,
               false,
               false,
               true,
               false,
               false,
               false,
               false,
               false,
               false,
               false,
               false,
               false,
               false,
               false,
               false,
               false,
               false,
               false,
               false,
               false,
               false,
               false,
               false,
               false,
               false,
               false,
               false,
               false,
               false,
               false,
               false,
               false,
               false,
               false,
               false,
               false,
               false,
               false
              ]
             },
             {
              "title": "Empath Topic Proportions for Year: 1956"
             }
            ],
            "label": "1956",
            "method": "update"
           },
           {
            "args": [
             {
              "visible": [
               false,
               false,
               false,
               false,
               false,
               false,
               false,
               false,
               false,
               false,
               false,
               false,
               true,
               false,
               false,
               false,
               false,
               false,
               false,
               false,
               false,
               false,
               false,
               false,
               false,
               false,
               false,
               false,
               false,
               false,
               false,
               false,
               false,
               false,
               false,
               false,
               false,
               false,
               false,
               false,
               false,
               false,
               false,
               false,
               false,
               false,
               false
              ]
             },
             {
              "title": "Empath Topic Proportions for Year: 1957"
             }
            ],
            "label": "1957",
            "method": "update"
           },
           {
            "args": [
             {
              "visible": [
               false,
               false,
               false,
               false,
               false,
               false,
               false,
               false,
               false,
               false,
               false,
               false,
               false,
               true,
               false,
               false,
               false,
               false,
               false,
               false,
               false,
               false,
               false,
               false,
               false,
               false,
               false,
               false,
               false,
               false,
               false,
               false,
               false,
               false,
               false,
               false,
               false,
               false,
               false,
               false,
               false,
               false,
               false,
               false,
               false,
               false,
               false
              ]
             },
             {
              "title": "Empath Topic Proportions for Year: 1958"
             }
            ],
            "label": "1958",
            "method": "update"
           },
           {
            "args": [
             {
              "visible": [
               false,
               false,
               false,
               false,
               false,
               false,
               false,
               false,
               false,
               false,
               false,
               false,
               false,
               false,
               true,
               false,
               false,
               false,
               false,
               false,
               false,
               false,
               false,
               false,
               false,
               false,
               false,
               false,
               false,
               false,
               false,
               false,
               false,
               false,
               false,
               false,
               false,
               false,
               false,
               false,
               false,
               false,
               false,
               false,
               false,
               false,
               false
              ]
             },
             {
              "title": "Empath Topic Proportions for Year: 1959"
             }
            ],
            "label": "1959",
            "method": "update"
           },
           {
            "args": [
             {
              "visible": [
               false,
               false,
               false,
               false,
               false,
               false,
               false,
               false,
               false,
               false,
               false,
               false,
               false,
               false,
               false,
               true,
               false,
               false,
               false,
               false,
               false,
               false,
               false,
               false,
               false,
               false,
               false,
               false,
               false,
               false,
               false,
               false,
               false,
               false,
               false,
               false,
               false,
               false,
               false,
               false,
               false,
               false,
               false,
               false,
               false,
               false,
               false
              ]
             },
             {
              "title": "Empath Topic Proportions for Year: 1960"
             }
            ],
            "label": "1960",
            "method": "update"
           },
           {
            "args": [
             {
              "visible": [
               false,
               false,
               false,
               false,
               false,
               false,
               false,
               false,
               false,
               false,
               false,
               false,
               false,
               false,
               false,
               false,
               true,
               false,
               false,
               false,
               false,
               false,
               false,
               false,
               false,
               false,
               false,
               false,
               false,
               false,
               false,
               false,
               false,
               false,
               false,
               false,
               false,
               false,
               false,
               false,
               false,
               false,
               false,
               false,
               false,
               false,
               false
              ]
             },
             {
              "title": "Empath Topic Proportions for Year: 1961"
             }
            ],
            "label": "1961",
            "method": "update"
           },
           {
            "args": [
             {
              "visible": [
               false,
               false,
               false,
               false,
               false,
               false,
               false,
               false,
               false,
               false,
               false,
               false,
               false,
               false,
               false,
               false,
               false,
               true,
               false,
               false,
               false,
               false,
               false,
               false,
               false,
               false,
               false,
               false,
               false,
               false,
               false,
               false,
               false,
               false,
               false,
               false,
               false,
               false,
               false,
               false,
               false,
               false,
               false,
               false,
               false,
               false,
               false
              ]
             },
             {
              "title": "Empath Topic Proportions for Year: 1962"
             }
            ],
            "label": "1962",
            "method": "update"
           },
           {
            "args": [
             {
              "visible": [
               false,
               false,
               false,
               false,
               false,
               false,
               false,
               false,
               false,
               false,
               false,
               false,
               false,
               false,
               false,
               false,
               false,
               false,
               true,
               false,
               false,
               false,
               false,
               false,
               false,
               false,
               false,
               false,
               false,
               false,
               false,
               false,
               false,
               false,
               false,
               false,
               false,
               false,
               false,
               false,
               false,
               false,
               false,
               false,
               false,
               false,
               false
              ]
             },
             {
              "title": "Empath Topic Proportions for Year: 1963"
             }
            ],
            "label": "1963",
            "method": "update"
           },
           {
            "args": [
             {
              "visible": [
               false,
               false,
               false,
               false,
               false,
               false,
               false,
               false,
               false,
               false,
               false,
               false,
               false,
               false,
               false,
               false,
               false,
               false,
               false,
               true,
               false,
               false,
               false,
               false,
               false,
               false,
               false,
               false,
               false,
               false,
               false,
               false,
               false,
               false,
               false,
               false,
               false,
               false,
               false,
               false,
               false,
               false,
               false,
               false,
               false,
               false,
               false
              ]
             },
             {
              "title": "Empath Topic Proportions for Year: 1964"
             }
            ],
            "label": "1964",
            "method": "update"
           },
           {
            "args": [
             {
              "visible": [
               false,
               false,
               false,
               false,
               false,
               false,
               false,
               false,
               false,
               false,
               false,
               false,
               false,
               false,
               false,
               false,
               false,
               false,
               false,
               false,
               true,
               false,
               false,
               false,
               false,
               false,
               false,
               false,
               false,
               false,
               false,
               false,
               false,
               false,
               false,
               false,
               false,
               false,
               false,
               false,
               false,
               false,
               false,
               false,
               false,
               false,
               false
              ]
             },
             {
              "title": "Empath Topic Proportions for Year: 1965"
             }
            ],
            "label": "1965",
            "method": "update"
           },
           {
            "args": [
             {
              "visible": [
               false,
               false,
               false,
               false,
               false,
               false,
               false,
               false,
               false,
               false,
               false,
               false,
               false,
               false,
               false,
               false,
               false,
               false,
               false,
               false,
               false,
               true,
               false,
               false,
               false,
               false,
               false,
               false,
               false,
               false,
               false,
               false,
               false,
               false,
               false,
               false,
               false,
               false,
               false,
               false,
               false,
               false,
               false,
               false,
               false,
               false,
               false
              ]
             },
             {
              "title": "Empath Topic Proportions for Year: 1966"
             }
            ],
            "label": "1966",
            "method": "update"
           },
           {
            "args": [
             {
              "visible": [
               false,
               false,
               false,
               false,
               false,
               false,
               false,
               false,
               false,
               false,
               false,
               false,
               false,
               false,
               false,
               false,
               false,
               false,
               false,
               false,
               false,
               false,
               true,
               false,
               false,
               false,
               false,
               false,
               false,
               false,
               false,
               false,
               false,
               false,
               false,
               false,
               false,
               false,
               false,
               false,
               false,
               false,
               false,
               false,
               false,
               false,
               false
              ]
             },
             {
              "title": "Empath Topic Proportions for Year: 1967"
             }
            ],
            "label": "1967",
            "method": "update"
           },
           {
            "args": [
             {
              "visible": [
               false,
               false,
               false,
               false,
               false,
               false,
               false,
               false,
               false,
               false,
               false,
               false,
               false,
               false,
               false,
               false,
               false,
               false,
               false,
               false,
               false,
               false,
               false,
               true,
               false,
               false,
               false,
               false,
               false,
               false,
               false,
               false,
               false,
               false,
               false,
               false,
               false,
               false,
               false,
               false,
               false,
               false,
               false,
               false,
               false,
               false,
               false
              ]
             },
             {
              "title": "Empath Topic Proportions for Year: 1968"
             }
            ],
            "label": "1968",
            "method": "update"
           },
           {
            "args": [
             {
              "visible": [
               false,
               false,
               false,
               false,
               false,
               false,
               false,
               false,
               false,
               false,
               false,
               false,
               false,
               false,
               false,
               false,
               false,
               false,
               false,
               false,
               false,
               false,
               false,
               false,
               true,
               false,
               false,
               false,
               false,
               false,
               false,
               false,
               false,
               false,
               false,
               false,
               false,
               false,
               false,
               false,
               false,
               false,
               false,
               false,
               false,
               false,
               false
              ]
             },
             {
              "title": "Empath Topic Proportions for Year: 1969"
             }
            ],
            "label": "1969",
            "method": "update"
           },
           {
            "args": [
             {
              "visible": [
               false,
               false,
               false,
               false,
               false,
               false,
               false,
               false,
               false,
               false,
               false,
               false,
               false,
               false,
               false,
               false,
               false,
               false,
               false,
               false,
               false,
               false,
               false,
               false,
               false,
               true,
               false,
               false,
               false,
               false,
               false,
               false,
               false,
               false,
               false,
               false,
               false,
               false,
               false,
               false,
               false,
               false,
               false,
               false,
               false,
               false,
               false
              ]
             },
             {
              "title": "Empath Topic Proportions for Year: 1970"
             }
            ],
            "label": "1970",
            "method": "update"
           },
           {
            "args": [
             {
              "visible": [
               false,
               false,
               false,
               false,
               false,
               false,
               false,
               false,
               false,
               false,
               false,
               false,
               false,
               false,
               false,
               false,
               false,
               false,
               false,
               false,
               false,
               false,
               false,
               false,
               false,
               false,
               true,
               false,
               false,
               false,
               false,
               false,
               false,
               false,
               false,
               false,
               false,
               false,
               false,
               false,
               false,
               false,
               false,
               false,
               false,
               false,
               false
              ]
             },
             {
              "title": "Empath Topic Proportions for Year: 1971"
             }
            ],
            "label": "1971",
            "method": "update"
           },
           {
            "args": [
             {
              "visible": [
               false,
               false,
               false,
               false,
               false,
               false,
               false,
               false,
               false,
               false,
               false,
               false,
               false,
               false,
               false,
               false,
               false,
               false,
               false,
               false,
               false,
               false,
               false,
               false,
               false,
               false,
               false,
               true,
               false,
               false,
               false,
               false,
               false,
               false,
               false,
               false,
               false,
               false,
               false,
               false,
               false,
               false,
               false,
               false,
               false,
               false,
               false
              ]
             },
             {
              "title": "Empath Topic Proportions for Year: 1972"
             }
            ],
            "label": "1972",
            "method": "update"
           },
           {
            "args": [
             {
              "visible": [
               false,
               false,
               false,
               false,
               false,
               false,
               false,
               false,
               false,
               false,
               false,
               false,
               false,
               false,
               false,
               false,
               false,
               false,
               false,
               false,
               false,
               false,
               false,
               false,
               false,
               false,
               false,
               false,
               true,
               false,
               false,
               false,
               false,
               false,
               false,
               false,
               false,
               false,
               false,
               false,
               false,
               false,
               false,
               false,
               false,
               false,
               false
              ]
             },
             {
              "title": "Empath Topic Proportions for Year: 1973"
             }
            ],
            "label": "1973",
            "method": "update"
           },
           {
            "args": [
             {
              "visible": [
               false,
               false,
               false,
               false,
               false,
               false,
               false,
               false,
               false,
               false,
               false,
               false,
               false,
               false,
               false,
               false,
               false,
               false,
               false,
               false,
               false,
               false,
               false,
               false,
               false,
               false,
               false,
               false,
               false,
               true,
               false,
               false,
               false,
               false,
               false,
               false,
               false,
               false,
               false,
               false,
               false,
               false,
               false,
               false,
               false,
               false,
               false
              ]
             },
             {
              "title": "Empath Topic Proportions for Year: 1974"
             }
            ],
            "label": "1974",
            "method": "update"
           },
           {
            "args": [
             {
              "visible": [
               false,
               false,
               false,
               false,
               false,
               false,
               false,
               false,
               false,
               false,
               false,
               false,
               false,
               false,
               false,
               false,
               false,
               false,
               false,
               false,
               false,
               false,
               false,
               false,
               false,
               false,
               false,
               false,
               false,
               false,
               true,
               false,
               false,
               false,
               false,
               false,
               false,
               false,
               false,
               false,
               false,
               false,
               false,
               false,
               false,
               false,
               false
              ]
             },
             {
              "title": "Empath Topic Proportions for Year: 1975"
             }
            ],
            "label": "1975",
            "method": "update"
           },
           {
            "args": [
             {
              "visible": [
               false,
               false,
               false,
               false,
               false,
               false,
               false,
               false,
               false,
               false,
               false,
               false,
               false,
               false,
               false,
               false,
               false,
               false,
               false,
               false,
               false,
               false,
               false,
               false,
               false,
               false,
               false,
               false,
               false,
               false,
               false,
               true,
               false,
               false,
               false,
               false,
               false,
               false,
               false,
               false,
               false,
               false,
               false,
               false,
               false,
               false,
               false
              ]
             },
             {
              "title": "Empath Topic Proportions for Year: 1976"
             }
            ],
            "label": "1976",
            "method": "update"
           },
           {
            "args": [
             {
              "visible": [
               false,
               false,
               false,
               false,
               false,
               false,
               false,
               false,
               false,
               false,
               false,
               false,
               false,
               false,
               false,
               false,
               false,
               false,
               false,
               false,
               false,
               false,
               false,
               false,
               false,
               false,
               false,
               false,
               false,
               false,
               false,
               false,
               true,
               false,
               false,
               false,
               false,
               false,
               false,
               false,
               false,
               false,
               false,
               false,
               false,
               false,
               false
              ]
             },
             {
              "title": "Empath Topic Proportions for Year: 1977"
             }
            ],
            "label": "1977",
            "method": "update"
           },
           {
            "args": [
             {
              "visible": [
               false,
               false,
               false,
               false,
               false,
               false,
               false,
               false,
               false,
               false,
               false,
               false,
               false,
               false,
               false,
               false,
               false,
               false,
               false,
               false,
               false,
               false,
               false,
               false,
               false,
               false,
               false,
               false,
               false,
               false,
               false,
               false,
               false,
               true,
               false,
               false,
               false,
               false,
               false,
               false,
               false,
               false,
               false,
               false,
               false,
               false,
               false
              ]
             },
             {
              "title": "Empath Topic Proportions for Year: 1978"
             }
            ],
            "label": "1978",
            "method": "update"
           },
           {
            "args": [
             {
              "visible": [
               false,
               false,
               false,
               false,
               false,
               false,
               false,
               false,
               false,
               false,
               false,
               false,
               false,
               false,
               false,
               false,
               false,
               false,
               false,
               false,
               false,
               false,
               false,
               false,
               false,
               false,
               false,
               false,
               false,
               false,
               false,
               false,
               false,
               false,
               true,
               false,
               false,
               false,
               false,
               false,
               false,
               false,
               false,
               false,
               false,
               false,
               false
              ]
             },
             {
              "title": "Empath Topic Proportions for Year: 1979"
             }
            ],
            "label": "1979",
            "method": "update"
           },
           {
            "args": [
             {
              "visible": [
               false,
               false,
               false,
               false,
               false,
               false,
               false,
               false,
               false,
               false,
               false,
               false,
               false,
               false,
               false,
               false,
               false,
               false,
               false,
               false,
               false,
               false,
               false,
               false,
               false,
               false,
               false,
               false,
               false,
               false,
               false,
               false,
               false,
               false,
               false,
               true,
               false,
               false,
               false,
               false,
               false,
               false,
               false,
               false,
               false,
               false,
               false
              ]
             },
             {
              "title": "Empath Topic Proportions for Year: 1980"
             }
            ],
            "label": "1980",
            "method": "update"
           },
           {
            "args": [
             {
              "visible": [
               false,
               false,
               false,
               false,
               false,
               false,
               false,
               false,
               false,
               false,
               false,
               false,
               false,
               false,
               false,
               false,
               false,
               false,
               false,
               false,
               false,
               false,
               false,
               false,
               false,
               false,
               false,
               false,
               false,
               false,
               false,
               false,
               false,
               false,
               false,
               false,
               true,
               false,
               false,
               false,
               false,
               false,
               false,
               false,
               false,
               false,
               false
              ]
             },
             {
              "title": "Empath Topic Proportions for Year: 1981"
             }
            ],
            "label": "1981",
            "method": "update"
           },
           {
            "args": [
             {
              "visible": [
               false,
               false,
               false,
               false,
               false,
               false,
               false,
               false,
               false,
               false,
               false,
               false,
               false,
               false,
               false,
               false,
               false,
               false,
               false,
               false,
               false,
               false,
               false,
               false,
               false,
               false,
               false,
               false,
               false,
               false,
               false,
               false,
               false,
               false,
               false,
               false,
               false,
               true,
               false,
               false,
               false,
               false,
               false,
               false,
               false,
               false,
               false
              ]
             },
             {
              "title": "Empath Topic Proportions for Year: 1982"
             }
            ],
            "label": "1982",
            "method": "update"
           },
           {
            "args": [
             {
              "visible": [
               false,
               false,
               false,
               false,
               false,
               false,
               false,
               false,
               false,
               false,
               false,
               false,
               false,
               false,
               false,
               false,
               false,
               false,
               false,
               false,
               false,
               false,
               false,
               false,
               false,
               false,
               false,
               false,
               false,
               false,
               false,
               false,
               false,
               false,
               false,
               false,
               false,
               false,
               true,
               false,
               false,
               false,
               false,
               false,
               false,
               false,
               false
              ]
             },
             {
              "title": "Empath Topic Proportions for Year: 1983"
             }
            ],
            "label": "1983",
            "method": "update"
           },
           {
            "args": [
             {
              "visible": [
               false,
               false,
               false,
               false,
               false,
               false,
               false,
               false,
               false,
               false,
               false,
               false,
               false,
               false,
               false,
               false,
               false,
               false,
               false,
               false,
               false,
               false,
               false,
               false,
               false,
               false,
               false,
               false,
               false,
               false,
               false,
               false,
               false,
               false,
               false,
               false,
               false,
               false,
               false,
               true,
               false,
               false,
               false,
               false,
               false,
               false,
               false
              ]
             },
             {
              "title": "Empath Topic Proportions for Year: 1984"
             }
            ],
            "label": "1984",
            "method": "update"
           },
           {
            "args": [
             {
              "visible": [
               false,
               false,
               false,
               false,
               false,
               false,
               false,
               false,
               false,
               false,
               false,
               false,
               false,
               false,
               false,
               false,
               false,
               false,
               false,
               false,
               false,
               false,
               false,
               false,
               false,
               false,
               false,
               false,
               false,
               false,
               false,
               false,
               false,
               false,
               false,
               false,
               false,
               false,
               false,
               false,
               true,
               false,
               false,
               false,
               false,
               false,
               false
              ]
             },
             {
              "title": "Empath Topic Proportions for Year: 1985"
             }
            ],
            "label": "1985",
            "method": "update"
           },
           {
            "args": [
             {
              "visible": [
               false,
               false,
               false,
               false,
               false,
               false,
               false,
               false,
               false,
               false,
               false,
               false,
               false,
               false,
               false,
               false,
               false,
               false,
               false,
               false,
               false,
               false,
               false,
               false,
               false,
               false,
               false,
               false,
               false,
               false,
               false,
               false,
               false,
               false,
               false,
               false,
               false,
               false,
               false,
               false,
               false,
               true,
               false,
               false,
               false,
               false,
               false
              ]
             },
             {
              "title": "Empath Topic Proportions for Year: 1986"
             }
            ],
            "label": "1986",
            "method": "update"
           },
           {
            "args": [
             {
              "visible": [
               false,
               false,
               false,
               false,
               false,
               false,
               false,
               false,
               false,
               false,
               false,
               false,
               false,
               false,
               false,
               false,
               false,
               false,
               false,
               false,
               false,
               false,
               false,
               false,
               false,
               false,
               false,
               false,
               false,
               false,
               false,
               false,
               false,
               false,
               false,
               false,
               false,
               false,
               false,
               false,
               false,
               false,
               true,
               false,
               false,
               false,
               false
              ]
             },
             {
              "title": "Empath Topic Proportions for Year: 1987"
             }
            ],
            "label": "1987",
            "method": "update"
           },
           {
            "args": [
             {
              "visible": [
               false,
               false,
               false,
               false,
               false,
               false,
               false,
               false,
               false,
               false,
               false,
               false,
               false,
               false,
               false,
               false,
               false,
               false,
               false,
               false,
               false,
               false,
               false,
               false,
               false,
               false,
               false,
               false,
               false,
               false,
               false,
               false,
               false,
               false,
               false,
               false,
               false,
               false,
               false,
               false,
               false,
               false,
               false,
               true,
               false,
               false,
               false
              ]
             },
             {
              "title": "Empath Topic Proportions for Year: 1988"
             }
            ],
            "label": "1988",
            "method": "update"
           },
           {
            "args": [
             {
              "visible": [
               false,
               false,
               false,
               false,
               false,
               false,
               false,
               false,
               false,
               false,
               false,
               false,
               false,
               false,
               false,
               false,
               false,
               false,
               false,
               false,
               false,
               false,
               false,
               false,
               false,
               false,
               false,
               false,
               false,
               false,
               false,
               false,
               false,
               false,
               false,
               false,
               false,
               false,
               false,
               false,
               false,
               false,
               false,
               false,
               true,
               false,
               false
              ]
             },
             {
              "title": "Empath Topic Proportions for Year: 1989"
             }
            ],
            "label": "1989",
            "method": "update"
           },
           {
            "args": [
             {
              "visible": [
               false,
               false,
               false,
               false,
               false,
               false,
               false,
               false,
               false,
               false,
               false,
               false,
               false,
               false,
               false,
               false,
               false,
               false,
               false,
               false,
               false,
               false,
               false,
               false,
               false,
               false,
               false,
               false,
               false,
               false,
               false,
               false,
               false,
               false,
               false,
               false,
               false,
               false,
               false,
               false,
               false,
               false,
               false,
               false,
               false,
               true,
               false
              ]
             },
             {
              "title": "Empath Topic Proportions for Year: 1990"
             }
            ],
            "label": "1990",
            "method": "update"
           },
           {
            "args": [
             {
              "visible": [
               false,
               false,
               false,
               false,
               false,
               false,
               false,
               false,
               false,
               false,
               false,
               false,
               false,
               false,
               false,
               false,
               false,
               false,
               false,
               false,
               false,
               false,
               false,
               false,
               false,
               false,
               false,
               false,
               false,
               false,
               false,
               false,
               false,
               false,
               false,
               false,
               false,
               false,
               false,
               false,
               false,
               false,
               false,
               false,
               false,
               false,
               true
              ]
             },
             {
              "title": "Empath Topic Proportions for Year: 1991"
             }
            ],
            "label": "1991",
            "method": "update"
           }
          ]
         }
        ],
        "template": {
         "data": {
          "bar": [
           {
            "error_x": {
             "color": "#2a3f5f"
            },
            "error_y": {
             "color": "#2a3f5f"
            },
            "marker": {
             "line": {
              "color": "#E5ECF6",
              "width": 0.5
             },
             "pattern": {
              "fillmode": "overlay",
              "size": 10,
              "solidity": 0.2
             }
            },
            "type": "bar"
           }
          ],
          "barpolar": [
           {
            "marker": {
             "line": {
              "color": "#E5ECF6",
              "width": 0.5
             },
             "pattern": {
              "fillmode": "overlay",
              "size": 10,
              "solidity": 0.2
             }
            },
            "type": "barpolar"
           }
          ],
          "carpet": [
           {
            "aaxis": {
             "endlinecolor": "#2a3f5f",
             "gridcolor": "white",
             "linecolor": "white",
             "minorgridcolor": "white",
             "startlinecolor": "#2a3f5f"
            },
            "baxis": {
             "endlinecolor": "#2a3f5f",
             "gridcolor": "white",
             "linecolor": "white",
             "minorgridcolor": "white",
             "startlinecolor": "#2a3f5f"
            },
            "type": "carpet"
           }
          ],
          "choropleth": [
           {
            "colorbar": {
             "outlinewidth": 0,
             "ticks": ""
            },
            "type": "choropleth"
           }
          ],
          "contour": [
           {
            "colorbar": {
             "outlinewidth": 0,
             "ticks": ""
            },
            "colorscale": [
             [
              0,
              "#0d0887"
             ],
             [
              0.1111111111111111,
              "#46039f"
             ],
             [
              0.2222222222222222,
              "#7201a8"
             ],
             [
              0.3333333333333333,
              "#9c179e"
             ],
             [
              0.4444444444444444,
              "#bd3786"
             ],
             [
              0.5555555555555556,
              "#d8576b"
             ],
             [
              0.6666666666666666,
              "#ed7953"
             ],
             [
              0.7777777777777778,
              "#fb9f3a"
             ],
             [
              0.8888888888888888,
              "#fdca26"
             ],
             [
              1,
              "#f0f921"
             ]
            ],
            "type": "contour"
           }
          ],
          "contourcarpet": [
           {
            "colorbar": {
             "outlinewidth": 0,
             "ticks": ""
            },
            "type": "contourcarpet"
           }
          ],
          "heatmap": [
           {
            "colorbar": {
             "outlinewidth": 0,
             "ticks": ""
            },
            "colorscale": [
             [
              0,
              "#0d0887"
             ],
             [
              0.1111111111111111,
              "#46039f"
             ],
             [
              0.2222222222222222,
              "#7201a8"
             ],
             [
              0.3333333333333333,
              "#9c179e"
             ],
             [
              0.4444444444444444,
              "#bd3786"
             ],
             [
              0.5555555555555556,
              "#d8576b"
             ],
             [
              0.6666666666666666,
              "#ed7953"
             ],
             [
              0.7777777777777778,
              "#fb9f3a"
             ],
             [
              0.8888888888888888,
              "#fdca26"
             ],
             [
              1,
              "#f0f921"
             ]
            ],
            "type": "heatmap"
           }
          ],
          "heatmapgl": [
           {
            "colorbar": {
             "outlinewidth": 0,
             "ticks": ""
            },
            "colorscale": [
             [
              0,
              "#0d0887"
             ],
             [
              0.1111111111111111,
              "#46039f"
             ],
             [
              0.2222222222222222,
              "#7201a8"
             ],
             [
              0.3333333333333333,
              "#9c179e"
             ],
             [
              0.4444444444444444,
              "#bd3786"
             ],
             [
              0.5555555555555556,
              "#d8576b"
             ],
             [
              0.6666666666666666,
              "#ed7953"
             ],
             [
              0.7777777777777778,
              "#fb9f3a"
             ],
             [
              0.8888888888888888,
              "#fdca26"
             ],
             [
              1,
              "#f0f921"
             ]
            ],
            "type": "heatmapgl"
           }
          ],
          "histogram": [
           {
            "marker": {
             "pattern": {
              "fillmode": "overlay",
              "size": 10,
              "solidity": 0.2
             }
            },
            "type": "histogram"
           }
          ],
          "histogram2d": [
           {
            "colorbar": {
             "outlinewidth": 0,
             "ticks": ""
            },
            "colorscale": [
             [
              0,
              "#0d0887"
             ],
             [
              0.1111111111111111,
              "#46039f"
             ],
             [
              0.2222222222222222,
              "#7201a8"
             ],
             [
              0.3333333333333333,
              "#9c179e"
             ],
             [
              0.4444444444444444,
              "#bd3786"
             ],
             [
              0.5555555555555556,
              "#d8576b"
             ],
             [
              0.6666666666666666,
              "#ed7953"
             ],
             [
              0.7777777777777778,
              "#fb9f3a"
             ],
             [
              0.8888888888888888,
              "#fdca26"
             ],
             [
              1,
              "#f0f921"
             ]
            ],
            "type": "histogram2d"
           }
          ],
          "histogram2dcontour": [
           {
            "colorbar": {
             "outlinewidth": 0,
             "ticks": ""
            },
            "colorscale": [
             [
              0,
              "#0d0887"
             ],
             [
              0.1111111111111111,
              "#46039f"
             ],
             [
              0.2222222222222222,
              "#7201a8"
             ],
             [
              0.3333333333333333,
              "#9c179e"
             ],
             [
              0.4444444444444444,
              "#bd3786"
             ],
             [
              0.5555555555555556,
              "#d8576b"
             ],
             [
              0.6666666666666666,
              "#ed7953"
             ],
             [
              0.7777777777777778,
              "#fb9f3a"
             ],
             [
              0.8888888888888888,
              "#fdca26"
             ],
             [
              1,
              "#f0f921"
             ]
            ],
            "type": "histogram2dcontour"
           }
          ],
          "mesh3d": [
           {
            "colorbar": {
             "outlinewidth": 0,
             "ticks": ""
            },
            "type": "mesh3d"
           }
          ],
          "parcoords": [
           {
            "line": {
             "colorbar": {
              "outlinewidth": 0,
              "ticks": ""
             }
            },
            "type": "parcoords"
           }
          ],
          "pie": [
           {
            "automargin": true,
            "type": "pie"
           }
          ],
          "scatter": [
           {
            "fillpattern": {
             "fillmode": "overlay",
             "size": 10,
             "solidity": 0.2
            },
            "type": "scatter"
           }
          ],
          "scatter3d": [
           {
            "line": {
             "colorbar": {
              "outlinewidth": 0,
              "ticks": ""
             }
            },
            "marker": {
             "colorbar": {
              "outlinewidth": 0,
              "ticks": ""
             }
            },
            "type": "scatter3d"
           }
          ],
          "scattercarpet": [
           {
            "marker": {
             "colorbar": {
              "outlinewidth": 0,
              "ticks": ""
             }
            },
            "type": "scattercarpet"
           }
          ],
          "scattergeo": [
           {
            "marker": {
             "colorbar": {
              "outlinewidth": 0,
              "ticks": ""
             }
            },
            "type": "scattergeo"
           }
          ],
          "scattergl": [
           {
            "marker": {
             "colorbar": {
              "outlinewidth": 0,
              "ticks": ""
             }
            },
            "type": "scattergl"
           }
          ],
          "scattermapbox": [
           {
            "marker": {
             "colorbar": {
              "outlinewidth": 0,
              "ticks": ""
             }
            },
            "type": "scattermapbox"
           }
          ],
          "scatterpolar": [
           {
            "marker": {
             "colorbar": {
              "outlinewidth": 0,
              "ticks": ""
             }
            },
            "type": "scatterpolar"
           }
          ],
          "scatterpolargl": [
           {
            "marker": {
             "colorbar": {
              "outlinewidth": 0,
              "ticks": ""
             }
            },
            "type": "scatterpolargl"
           }
          ],
          "scatterternary": [
           {
            "marker": {
             "colorbar": {
              "outlinewidth": 0,
              "ticks": ""
             }
            },
            "type": "scatterternary"
           }
          ],
          "surface": [
           {
            "colorbar": {
             "outlinewidth": 0,
             "ticks": ""
            },
            "colorscale": [
             [
              0,
              "#0d0887"
             ],
             [
              0.1111111111111111,
              "#46039f"
             ],
             [
              0.2222222222222222,
              "#7201a8"
             ],
             [
              0.3333333333333333,
              "#9c179e"
             ],
             [
              0.4444444444444444,
              "#bd3786"
             ],
             [
              0.5555555555555556,
              "#d8576b"
             ],
             [
              0.6666666666666666,
              "#ed7953"
             ],
             [
              0.7777777777777778,
              "#fb9f3a"
             ],
             [
              0.8888888888888888,
              "#fdca26"
             ],
             [
              1,
              "#f0f921"
             ]
            ],
            "type": "surface"
           }
          ],
          "table": [
           {
            "cells": {
             "fill": {
              "color": "#EBF0F8"
             },
             "line": {
              "color": "white"
             }
            },
            "header": {
             "fill": {
              "color": "#C8D4E3"
             },
             "line": {
              "color": "white"
             }
            },
            "type": "table"
           }
          ]
         },
         "layout": {
          "annotationdefaults": {
           "arrowcolor": "#2a3f5f",
           "arrowhead": 0,
           "arrowwidth": 1
          },
          "autotypenumbers": "strict",
          "coloraxis": {
           "colorbar": {
            "outlinewidth": 0,
            "ticks": ""
           }
          },
          "colorscale": {
           "diverging": [
            [
             0,
             "#8e0152"
            ],
            [
             0.1,
             "#c51b7d"
            ],
            [
             0.2,
             "#de77ae"
            ],
            [
             0.3,
             "#f1b6da"
            ],
            [
             0.4,
             "#fde0ef"
            ],
            [
             0.5,
             "#f7f7f7"
            ],
            [
             0.6,
             "#e6f5d0"
            ],
            [
             0.7,
             "#b8e186"
            ],
            [
             0.8,
             "#7fbc41"
            ],
            [
             0.9,
             "#4d9221"
            ],
            [
             1,
             "#276419"
            ]
           ],
           "sequential": [
            [
             0,
             "#0d0887"
            ],
            [
             0.1111111111111111,
             "#46039f"
            ],
            [
             0.2222222222222222,
             "#7201a8"
            ],
            [
             0.3333333333333333,
             "#9c179e"
            ],
            [
             0.4444444444444444,
             "#bd3786"
            ],
            [
             0.5555555555555556,
             "#d8576b"
            ],
            [
             0.6666666666666666,
             "#ed7953"
            ],
            [
             0.7777777777777778,
             "#fb9f3a"
            ],
            [
             0.8888888888888888,
             "#fdca26"
            ],
            [
             1,
             "#f0f921"
            ]
           ],
           "sequentialminus": [
            [
             0,
             "#0d0887"
            ],
            [
             0.1111111111111111,
             "#46039f"
            ],
            [
             0.2222222222222222,
             "#7201a8"
            ],
            [
             0.3333333333333333,
             "#9c179e"
            ],
            [
             0.4444444444444444,
             "#bd3786"
            ],
            [
             0.5555555555555556,
             "#d8576b"
            ],
            [
             0.6666666666666666,
             "#ed7953"
            ],
            [
             0.7777777777777778,
             "#fb9f3a"
            ],
            [
             0.8888888888888888,
             "#fdca26"
            ],
            [
             1,
             "#f0f921"
            ]
           ]
          },
          "colorway": [
           "#636efa",
           "#EF553B",
           "#00cc96",
           "#ab63fa",
           "#FFA15A",
           "#19d3f3",
           "#FF6692",
           "#B6E880",
           "#FF97FF",
           "#FECB52"
          ],
          "font": {
           "color": "#2a3f5f"
          },
          "geo": {
           "bgcolor": "white",
           "lakecolor": "white",
           "landcolor": "#E5ECF6",
           "showlakes": true,
           "showland": true,
           "subunitcolor": "white"
          },
          "hoverlabel": {
           "align": "left"
          },
          "hovermode": "closest",
          "mapbox": {
           "style": "light"
          },
          "paper_bgcolor": "white",
          "plot_bgcolor": "#E5ECF6",
          "polar": {
           "angularaxis": {
            "gridcolor": "white",
            "linecolor": "white",
            "ticks": ""
           },
           "bgcolor": "#E5ECF6",
           "radialaxis": {
            "gridcolor": "white",
            "linecolor": "white",
            "ticks": ""
           }
          },
          "scene": {
           "xaxis": {
            "backgroundcolor": "#E5ECF6",
            "gridcolor": "white",
            "gridwidth": 2,
            "linecolor": "white",
            "showbackground": true,
            "ticks": "",
            "zerolinecolor": "white"
           },
           "yaxis": {
            "backgroundcolor": "#E5ECF6",
            "gridcolor": "white",
            "gridwidth": 2,
            "linecolor": "white",
            "showbackground": true,
            "ticks": "",
            "zerolinecolor": "white"
           },
           "zaxis": {
            "backgroundcolor": "#E5ECF6",
            "gridcolor": "white",
            "gridwidth": 2,
            "linecolor": "white",
            "showbackground": true,
            "ticks": "",
            "zerolinecolor": "white"
           }
          },
          "shapedefaults": {
           "line": {
            "color": "#2a3f5f"
           }
          },
          "ternary": {
           "aaxis": {
            "gridcolor": "white",
            "linecolor": "white",
            "ticks": ""
           },
           "baxis": {
            "gridcolor": "white",
            "linecolor": "white",
            "ticks": ""
           },
           "bgcolor": "#E5ECF6",
           "caxis": {
            "gridcolor": "white",
            "linecolor": "white",
            "ticks": ""
           }
          },
          "title": {
           "x": 0.05
          },
          "xaxis": {
           "automargin": true,
           "gridcolor": "white",
           "linecolor": "white",
           "ticks": "",
           "title": {
            "standoff": 15
           },
           "zerolinecolor": "white",
           "zerolinewidth": 2
          },
          "yaxis": {
           "automargin": true,
           "gridcolor": "white",
           "linecolor": "white",
           "ticks": "",
           "title": {
            "standoff": 15
           },
           "zerolinecolor": "white",
           "zerolinewidth": 2
          }
         }
        },
        "title": {
         "font": {
          "family": "Arial",
          "size": 20,
          "weight": "bold"
         },
         "text": "Characters' Empath Features Distribution by Year",
         "x": 0.5,
         "xanchor": "center"
        },
        "xaxis": {
         "title": {
          "text": "Empath Topics"
         }
        },
        "yaxis": {
         "range": [
          0,
          0.48812121698697836
         ],
         "title": {
          "text": "Proportion"
         }
        }
       }
      }
     },
     "metadata": {},
     "output_type": "display_data"
    }
   ],
   "source": [
    "fig = go.Figure()\n",
    "\n",
    "unique_years = sorted(melted_empath_df['year'].unique())\n",
    "max_y = melted_empath_df['proportion_sqrt'].max()\n",
    "\n",
    "for year in unique_years:\n",
    "    year_data = melted_empath_df[melted_empath_df['year'] == year]\n",
    "    grouped_data = year_data.groupby('topic', as_index=False).agg({'proportion_sqrt': 'sum'})\n",
    "    \n",
    "    fig.add_trace(go.Bar(\n",
    "        x=grouped_data['topic'],\n",
    "        y=grouped_data['proportion_sqrt'],\n",
    "        name=f\"Year {year}\",\n",
    "        visible=(year == unique_years[0]),  # Only show the first year's data initially\n",
    "        marker=dict(color=[topic_colors[topic] for topic in grouped_data['topic']])\n",
    "    ))\n",
    "\n",
    "# Define steps for the slider\n",
    "steps = []\n",
    "for i, year in enumerate(unique_years):\n",
    "    step = dict(\n",
    "        method=\"update\",\n",
    "        args=[\n",
    "            {\"visible\": [j == i for j in range(len(unique_years))]},  # Toggle visibility for the selected year\n",
    "            {\"title\": f\"Empath Topic Proportions for Year: {year}\"}\n",
    "        ],\n",
    "        label=str(year)\n",
    "    )\n",
    "    steps.append(step)\n",
    "\n",
    "# Add the slider to the layout\n",
    "fig.update_layout(\n",
    "    sliders=[{\n",
    "        \"active\": 0,\n",
    "        \"currentvalue\": {\"prefix\": \"Year: \"},\n",
    "        \"pad\": {\"t\": 50},\n",
    "        \"steps\": steps\n",
    "    }],\n",
    "    title={\n",
    "        \"text\": \"Characters' Empath Features Distribution by Year\",\n",
    "        \"x\": 0.5,\n",
    "        \"xanchor\": \"center\",\n",
    "        \"font\": {\"size\": 20, \"family\": \"Arial\", \"weight\": \"bold\"}\n",
    "    },\n",
    "    xaxis_title=\"Empath Topics\",\n",
    "    yaxis_title=\"Proportion\",\n",
    "    yaxis=dict(range=[0, max_y]),  # Set the fixed y-axis range\n",
    "    legend_title=\"Year\",\n",
    "    barmode=\"group\"  # This ensures bars are grouped by topics\n",
    ")\n",
    "\n",
    "fig.show()"
   ]
  },
  {
   "cell_type": "code",
   "execution_count": null,
   "metadata": {},
   "outputs": [],
   "source": []
  }
 ],
 "metadata": {
  "kernelspec": {
   "display_name": "ada",
   "language": "python",
   "name": "python3"
  },
  "language_info": {
   "codemirror_mode": {
    "name": "ipython",
    "version": 3
   },
   "file_extension": ".py",
   "mimetype": "text/x-python",
   "name": "python",
   "nbconvert_exporter": "python",
   "pygments_lexer": "ipython3",
   "version": "3.11.9"
  }
 },
 "nbformat": 4,
 "nbformat_minor": 2
}
