{
 "cells": [
  {
   "cell_type": "code",
   "execution_count": 59,
   "metadata": {},
   "outputs": [
    {
     "name": "stderr",
     "output_type": "stream",
     "text": [
      "[nltk_data] Downloading package stopwords to\n",
      "[nltk_data]     C:\\Users\\fannl\\AppData\\Roaming\\nltk_data...\n",
      "[nltk_data]   Package stopwords is already up-to-date!\n"
     ]
    }
   ],
   "source": [
    "import pandas as pd\n",
    "import numpy as np\n",
    "import ast\n",
    "\n",
    "import nltk\n",
    "from nltk.corpus import stopwords\n",
    "nltk.download('stopwords')\n",
    "\n",
    "import spacy\n",
    "from gensim import corpora\n",
    "from gensim.models.ldamodel import LdaModel\n",
    "\n",
    "import warnings\n",
    "warnings.filterwarnings('ignore')"
   ]
  },
  {
   "cell_type": "code",
   "execution_count": 60,
   "metadata": {},
   "outputs": [
    {
     "name": "stdout",
     "output_type": "stream",
     "text": [
      "title <class 'str'>\n",
      "languages <class 'list'>\n",
      "countries <class 'list'>\n",
      "genres <class 'list'>\n",
      "keywords <class 'float'>\n",
      "release_date <class 'str'>\n",
      "plot_summary <class 'str'>\n",
      "year_release_date <class 'numpy.int64'>\n",
      "cold_war_side <class 'str'>\n",
      "character_western_bloc_representation <class 'list'>\n",
      "character_eastern_bloc_representation <class 'list'>\n",
      "western_bloc_values <class 'list'>\n",
      "eastern_bloc_values <class 'list'>\n",
      "theme <class 'list'>\n"
     ]
    }
   ],
   "source": [
    "DATA_FOLDER = \"data/\"\n",
    "\n",
    "movies = pd.read_csv(DATA_FOLDER + \"v1_movies_cleaned.csv\")\n",
    "\n",
    "for col in movies.columns:\n",
    "    try:\n",
    "        movies[col] = movies[col].apply(lambda x: ast.literal_eval(x) if isinstance(x, str) else x)\n",
    "    except:\n",
    "        pass\n",
    "    print(col, type(movies[col][0]))"
   ]
  },
  {
   "cell_type": "code",
   "execution_count": 61,
   "metadata": {},
   "outputs": [],
   "source": [
    "# helpers \n",
    "VOC_MAPPING = {\n",
    "    'anti-': 'anti',\n",
    "    'anti ': 'anti',\n",
    "    'anti hero': 'antihero',\n",
    "    'archetypes': 'archetype',\n",
    "    'archetype:': 'archetype',\n",
    "}\n",
    "\n",
    "# Function to split the row list into character name and character representation\n",
    "def extract_character_name_and_attributes(row):\n",
    "    if isinstance(row, list) and len(row) > 0 and row[0] is not None:\n",
    "        character_name = row[0]\n",
    "        character_representation = row[1:]\n",
    "        return pd.Series([character_name, character_representation])\n",
    "    else:\n",
    "        return pd.Series([None, None])\n",
    "\n",
    "# Function to apply the mapping with substring matching\n",
    "def apply_mapping_with_substrings(string_list, mapping):\n",
    "    updated = []\n",
    "    for s in string_list:\n",
    "        new_s = s\n",
    "        for key, value in mapping.items():\n",
    "            if key in s:\n",
    "                new_s = s.replace(key, value)\n",
    "        updated.append(new_s.lower())\n",
    "    return updated"
   ]
  },
  {
   "cell_type": "code",
   "execution_count": 62,
   "metadata": {},
   "outputs": [],
   "source": [
    "def create_character_df(original_df, character_column, character_side):\n",
    "    # create the new dataframe\n",
    "    new_df = original_df[[character_column, 'cold_war_side', 'title', 'year_release_date']]\n",
    "    new_df = new_df.rename(columns={'cold_war_side': 'movie_side'})\n",
    "    new_df[['character_name', 'character_representation']] = \\\n",
    "        new_df[character_column].apply(extract_character_name_and_attributes)\n",
    "    new_df = new_df.drop(columns=[character_column])\n",
    "    new_df['character_side'] = character_side\n",
    "\n",
    "    # clean the obtained dataframe\n",
    "    new_df = new_df.drop_duplicates(subset=['character_name'])\n",
    "    new_df = new_df[new_df['character_representation'].apply(lambda x: len(x) > 0 if isinstance(x, list) else False)]\n",
    "    new_df = new_df[new_df['character_name'].apply(lambda x: len(x.split()) if isinstance(x, str) else 0) <= 5]\n",
    "    new_df['character_representation'] = new_df['character_representation'].apply(\n",
    "        lambda x: apply_mapping_with_substrings(x, VOC_MAPPING)\n",
    "    )\n",
    "    return new_df"
   ]
  },
  {
   "cell_type": "code",
   "execution_count": 63,
   "metadata": {},
   "outputs": [],
   "source": [
    "character_eastern = create_character_df(movies, 'character_eastern_bloc_representation', 'Eastern')\n",
    "character_western = create_character_df(movies, 'character_western_bloc_representation', 'Western')"
   ]
  },
  {
   "cell_type": "code",
   "execution_count": 64,
   "metadata": {},
   "outputs": [
    {
     "data": {
      "text/html": [
       "<div>\n",
       "<style scoped>\n",
       "    .dataframe tbody tr th:only-of-type {\n",
       "        vertical-align: middle;\n",
       "    }\n",
       "\n",
       "    .dataframe tbody tr th {\n",
       "        vertical-align: top;\n",
       "    }\n",
       "\n",
       "    .dataframe thead th {\n",
       "        text-align: right;\n",
       "    }\n",
       "</style>\n",
       "<table border=\"1\" class=\"dataframe\">\n",
       "  <thead>\n",
       "    <tr style=\"text-align: right;\">\n",
       "      <th></th>\n",
       "      <th>movie_side</th>\n",
       "      <th>title</th>\n",
       "      <th>year_release_date</th>\n",
       "      <th>character_name</th>\n",
       "      <th>character_representation</th>\n",
       "      <th>character_side</th>\n",
       "    </tr>\n",
       "  </thead>\n",
       "  <tbody>\n",
       "    <tr>\n",
       "      <th>9841</th>\n",
       "      <td>Western</td>\n",
       "      <td>Hair</td>\n",
       "      <td>1979</td>\n",
       "      <td>George Berger</td>\n",
       "      <td>[counterculture values, rebel leader]</td>\n",
       "      <td>Eastern</td>\n",
       "    </tr>\n",
       "    <tr>\n",
       "      <th>2923</th>\n",
       "      <td>Eastern</td>\n",
       "      <td>Belaya kost</td>\n",
       "      <td>1989</td>\n",
       "      <td>Grant Danelian</td>\n",
       "      <td>[secret agent, resourcefulness, pragmatism, he...</td>\n",
       "      <td>Eastern</td>\n",
       "    </tr>\n",
       "    <tr>\n",
       "      <th>28416</th>\n",
       "      <td>Western</td>\n",
       "      <td>The Thirty-Nine Steps</td>\n",
       "      <td>1978</td>\n",
       "      <td>Colonel Scudder</td>\n",
       "      <td>[bravery, intelligence, mentor]</td>\n",
       "      <td>Eastern</td>\n",
       "    </tr>\n",
       "    <tr>\n",
       "      <th>31500</th>\n",
       "      <td>Eastern</td>\n",
       "      <td>White Sun of the Desert</td>\n",
       "      <td>1969</td>\n",
       "      <td>Paul Vereschagin</td>\n",
       "      <td>[nostalgia, decline, tragic]</td>\n",
       "      <td>Eastern</td>\n",
       "    </tr>\n",
       "    <tr>\n",
       "      <th>6947</th>\n",
       "      <td>Western</td>\n",
       "      <td>Double Dragon</td>\n",
       "      <td>1994</td>\n",
       "      <td>Koga Shuko</td>\n",
       "      <td>[representing corruption, greed, power, villai...</td>\n",
       "      <td>Eastern</td>\n",
       "    </tr>\n",
       "  </tbody>\n",
       "</table>\n",
       "</div>"
      ],
      "text/plain": [
       "      movie_side                    title  year_release_date  \\\n",
       "9841     Western                     Hair               1979   \n",
       "2923     Eastern              Belaya kost               1989   \n",
       "28416    Western    The Thirty-Nine Steps               1978   \n",
       "31500    Eastern  White Sun of the Desert               1969   \n",
       "6947     Western            Double Dragon               1994   \n",
       "\n",
       "         character_name                           character_representation  \\\n",
       "9841      George Berger              [counterculture values, rebel leader]   \n",
       "2923     Grant Danelian  [secret agent, resourcefulness, pragmatism, he...   \n",
       "28416   Colonel Scudder                    [bravery, intelligence, mentor]   \n",
       "31500  Paul Vereschagin                       [nostalgia, decline, tragic]   \n",
       "6947         Koga Shuko  [representing corruption, greed, power, villai...   \n",
       "\n",
       "      character_side  \n",
       "9841         Eastern  \n",
       "2923         Eastern  \n",
       "28416        Eastern  \n",
       "31500        Eastern  \n",
       "6947         Eastern  "
      ]
     },
     "execution_count": 64,
     "metadata": {},
     "output_type": "execute_result"
    }
   ],
   "source": [
    "character_eastern.sample(5)"
   ]
  },
  {
   "cell_type": "code",
   "execution_count": 65,
   "metadata": {},
   "outputs": [
    {
     "data": {
      "text/html": [
       "<div>\n",
       "<style scoped>\n",
       "    .dataframe tbody tr th:only-of-type {\n",
       "        vertical-align: middle;\n",
       "    }\n",
       "\n",
       "    .dataframe tbody tr th {\n",
       "        vertical-align: top;\n",
       "    }\n",
       "\n",
       "    .dataframe thead th {\n",
       "        text-align: right;\n",
       "    }\n",
       "</style>\n",
       "<table border=\"1\" class=\"dataframe\">\n",
       "  <thead>\n",
       "    <tr style=\"text-align: right;\">\n",
       "      <th></th>\n",
       "      <th>movie_side</th>\n",
       "      <th>title</th>\n",
       "      <th>year_release_date</th>\n",
       "      <th>character_name</th>\n",
       "      <th>character_representation</th>\n",
       "      <th>character_side</th>\n",
       "    </tr>\n",
       "  </thead>\n",
       "  <tbody>\n",
       "    <tr>\n",
       "      <th>12485</th>\n",
       "      <td>Eastern</td>\n",
       "      <td>Khotite - verte, khotite - net...</td>\n",
       "      <td>1964</td>\n",
       "      <td>Roman Kurykin</td>\n",
       "      <td>[a devoted father, values artistic expression ...</td>\n",
       "      <td>Western</td>\n",
       "    </tr>\n",
       "    <tr>\n",
       "      <th>4545</th>\n",
       "      <td>Western</td>\n",
       "      <td>Challenge</td>\n",
       "      <td>1984</td>\n",
       "      <td>Ram Mohan Rao</td>\n",
       "      <td>[business tycoon, capitalist values, antagonist]</td>\n",
       "      <td>Western</td>\n",
       "    </tr>\n",
       "    <tr>\n",
       "      <th>22775</th>\n",
       "      <td>Western</td>\n",
       "      <td>Targets</td>\n",
       "      <td>1968</td>\n",
       "      <td>Bobby Thompson</td>\n",
       "      <td>[violence, chaos, antihero]</td>\n",
       "      <td>Western</td>\n",
       "    </tr>\n",
       "    <tr>\n",
       "      <th>20408</th>\n",
       "      <td>Eastern</td>\n",
       "      <td>Scarlet Sails</td>\n",
       "      <td>1961</td>\n",
       "      <td>Assol</td>\n",
       "      <td>[hope, innocence, heroine]</td>\n",
       "      <td>Western</td>\n",
       "    </tr>\n",
       "    <tr>\n",
       "      <th>9150</th>\n",
       "      <td>Western</td>\n",
       "      <td>Genesis II</td>\n",
       "      <td>1973</td>\n",
       "      <td>Dylan Hunt</td>\n",
       "      <td>[knowledge, idealism, hero]</td>\n",
       "      <td>Western</td>\n",
       "    </tr>\n",
       "  </tbody>\n",
       "</table>\n",
       "</div>"
      ],
      "text/plain": [
       "      movie_side                              title  year_release_date  \\\n",
       "12485    Eastern  Khotite - verte, khotite - net...               1964   \n",
       "4545     Western                          Challenge               1984   \n",
       "22775    Western                            Targets               1968   \n",
       "20408    Eastern                      Scarlet Sails               1961   \n",
       "9150     Western                         Genesis II               1973   \n",
       "\n",
       "       character_name                           character_representation  \\\n",
       "12485   Roman Kurykin  [a devoted father, values artistic expression ...   \n",
       "4545    Ram Mohan Rao   [business tycoon, capitalist values, antagonist]   \n",
       "22775  Bobby Thompson                        [violence, chaos, antihero]   \n",
       "20408           Assol                         [hope, innocence, heroine]   \n",
       "9150       Dylan Hunt                        [knowledge, idealism, hero]   \n",
       "\n",
       "      character_side  \n",
       "12485        Western  \n",
       "4545         Western  \n",
       "22775        Western  \n",
       "20408        Western  \n",
       "9150         Western  "
      ]
     },
     "execution_count": 65,
     "metadata": {},
     "output_type": "execute_result"
    }
   ],
   "source": [
    "character_western.sample(5)"
   ]
  },
  {
   "cell_type": "code",
   "execution_count": 66,
   "metadata": {},
   "outputs": [
    {
     "data": {
      "text/html": [
       "<div>\n",
       "<style scoped>\n",
       "    .dataframe tbody tr th:only-of-type {\n",
       "        vertical-align: middle;\n",
       "    }\n",
       "\n",
       "    .dataframe tbody tr th {\n",
       "        vertical-align: top;\n",
       "    }\n",
       "\n",
       "    .dataframe thead th {\n",
       "        text-align: right;\n",
       "    }\n",
       "</style>\n",
       "<table border=\"1\" class=\"dataframe\">\n",
       "  <thead>\n",
       "    <tr style=\"text-align: right;\">\n",
       "      <th></th>\n",
       "      <th>movie_side</th>\n",
       "      <th>title</th>\n",
       "      <th>year_release_date</th>\n",
       "      <th>character_name</th>\n",
       "      <th>character_representation</th>\n",
       "      <th>character_side</th>\n",
       "    </tr>\n",
       "  </thead>\n",
       "  <tbody>\n",
       "    <tr>\n",
       "      <th>28647</th>\n",
       "      <td>Western</td>\n",
       "      <td>The Unstoppable Man</td>\n",
       "      <td>1960</td>\n",
       "      <td>Inspector Hazelrigg</td>\n",
       "      <td>[british authority, practical, supportive, men...</td>\n",
       "      <td>Eastern</td>\n",
       "    </tr>\n",
       "    <tr>\n",
       "      <th>10949</th>\n",
       "      <td>Western</td>\n",
       "      <td>I Became a Criminal</td>\n",
       "      <td>1947</td>\n",
       "      <td>freedom and revenge</td>\n",
       "      <td>[archetype anti-hero]</td>\n",
       "      <td>Western</td>\n",
       "    </tr>\n",
       "    <tr>\n",
       "      <th>31556</th>\n",
       "      <td>None</td>\n",
       "      <td>Whore</td>\n",
       "      <td>1991</td>\n",
       "      <td>Blake</td>\n",
       "      <td>[controlling and abusive, archetype of the vil...</td>\n",
       "      <td>Eastern</td>\n",
       "    </tr>\n",
       "    <tr>\n",
       "      <th>13176</th>\n",
       "      <td>Eastern</td>\n",
       "      <td>La sentence</td>\n",
       "      <td>1959</td>\n",
       "      <td>French Resistance</td>\n",
       "      <td>[bravery, unity, archetype of the hero]</td>\n",
       "      <td>Eastern</td>\n",
       "    </tr>\n",
       "    <tr>\n",
       "      <th>27432</th>\n",
       "      <td>Western</td>\n",
       "      <td>The Red Beret</td>\n",
       "      <td>1953</td>\n",
       "      <td>Major Snow</td>\n",
       "      <td>[british army commander, responsible, supporti...</td>\n",
       "      <td>Eastern</td>\n",
       "    </tr>\n",
       "  </tbody>\n",
       "</table>\n",
       "</div>"
      ],
      "text/plain": [
       "      movie_side                title  year_release_date  \\\n",
       "28647    Western  The Unstoppable Man               1960   \n",
       "10949    Western  I Became a Criminal               1947   \n",
       "31556       None                Whore               1991   \n",
       "13176    Eastern          La sentence               1959   \n",
       "27432    Western        The Red Beret               1953   \n",
       "\n",
       "             character_name  \\\n",
       "28647   Inspector Hazelrigg   \n",
       "10949   freedom and revenge   \n",
       "31556                 Blake   \n",
       "13176     French Resistance   \n",
       "27432            Major Snow   \n",
       "\n",
       "                                character_representation character_side  \n",
       "28647  [british authority, practical, supportive, men...        Eastern  \n",
       "10949                              [archetype anti-hero]        Western  \n",
       "31556  [controlling and abusive, archetype of the vil...        Eastern  \n",
       "13176            [bravery, unity, archetype of the hero]        Eastern  \n",
       "27432  [british army commander, responsible, supporti...        Eastern  "
      ]
     },
     "execution_count": 66,
     "metadata": {},
     "output_type": "execute_result"
    }
   ],
   "source": [
    "character_df = pd.concat([character_eastern, character_western], axis=0)\n",
    "character_df.sample(5)"
   ]
  },
  {
   "cell_type": "code",
   "execution_count": 67,
   "metadata": {},
   "outputs": [],
   "source": [
    "# Preprocess the text\n",
    "def preprocess(string_list, nlp, words_to_remove):\n",
    "    docs = [nlp(s) for s in string_list]\n",
    "    tokens = []\n",
    "    for doc in docs:\n",
    "        tokens.extend([token.lemma_ for token in doc if not token.is_stop and not token.is_punct and token.lemma_ not in words_to_remove])\n",
    "    return tokens\n",
    "\n",
    "def topic_detection(df, nb_topics, nb_passes):\n",
    "    # Create a dictionary and corpus for Gensim\n",
    "    dictionary = corpora.Dictionary(df)\n",
    "    corpus = [dictionary.doc2bow(text) for text in df]\n",
    "    \n",
    "    # Train LDA model\n",
    "    lda_model = LdaModel(corpus, num_topics=nb_topics, id2word=dictionary, passes=nb_passes)\n",
    "    \n",
    "    # Print the topics\n",
    "    for idx, topic in lda_model.print_topics(-1):\n",
    "        print(f'Topic: {idx}\\nWords: {topic}\\n')\n",
    "    \n",
    "    return lda_model, corpus, dictionary\n",
    "\n",
    "# Assign topics to characters\n",
    "def get_dominant_topic(lda_model, corpus):\n",
    "    topics = []\n",
    "    for row in corpus:\n",
    "        row = lda_model[row]\n",
    "        max_topic, max_val = 0, 0\n",
    "        for (topic_num, prop_topic) in row:\n",
    "            if prop_topic > max_val:\n",
    "                max_val = prop_topic\n",
    "                max_topic = topic_num\n",
    "        topics.append(max_topic)\n",
    "    return topics"
   ]
  },
  {
   "cell_type": "code",
   "execution_count": 68,
   "metadata": {},
   "outputs": [],
   "source": [
    "nlp = spacy.load('en_core_web_sm')\n",
    "words_to_remove = {'archetype', 'hero', 'value', 'values', 'None', 'represent', 'figure', 'desire', 'seek', 'seeker'}"
   ]
  },
  {
   "cell_type": "code",
   "execution_count": 69,
   "metadata": {},
   "outputs": [
    {
     "name": "stdout",
     "output_type": "stream",
     "text": [
      "Topic: 0\n",
      "Words: 0.073*\"loyalty\" + 0.042*\"authority\" + 0.023*\"antagonist\" + 0.022*\"control\" + 0.021*\"oppression\" + 0.018*\"duty\" + 0.017*\"soldier\" + 0.016*\"state\" + 0.016*\"law\" + 0.014*\"protector\"\n",
      "\n",
      "Topic: 1\n",
      "Words: 0.046*\"resilience\" + 0.038*\"love\" + 0.028*\"romantic\" + 0.026*\"everyman\" + 0.026*\"victim\" + 0.016*\"innocent\" + 0.016*\"innocence\" + 0.012*\"idealism\" + 0.012*\"sacrifice\" + 0.011*\"eastern\"\n",
      "\n",
      "Topic: 2\n",
      "Words: 0.036*\"antihero\" + 0.026*\"struggle\" + 0.026*\"sacrifice\" + 0.024*\"rebel\" + 0.023*\"bravery\" + 0.023*\"resistance\" + 0.022*\"heroism\" + 0.018*\"revolutionary\" + 0.017*\"collective\" + 0.017*\"collectivism\"\n",
      "\n",
      "Topic: 3\n",
      "Words: 0.094*\"villain\" + 0.075*\"antagonist\" + 0.029*\"power\" + 0.028*\"manipulation\" + 0.027*\"greed\" + 0.026*\"ambition\" + 0.023*\"betrayal\" + 0.017*\"corruption\" + 0.013*\"tragic\" + 0.013*\"oppression\"\n",
      "\n",
      "dominant_topic\n",
      "3    1151\n",
      "2    1126\n",
      "0    1113\n",
      "1     909\n",
      "Name: count, dtype: int64\n"
     ]
    }
   ],
   "source": [
    "character_eastern['processed_repres'] = character_eastern['character_representation'].apply(preprocess, args=(nlp, words_to_remove))\n",
    "eastern_char_topic = topic_detection(character_eastern['processed_repres'], 4, 15)\n",
    "character_eastern['dominant_topic'] = get_dominant_topic(eastern_char_topic[0], eastern_char_topic[1])\n",
    "print(character_eastern['dominant_topic'].value_counts())"
   ]
  },
  {
   "cell_type": "code",
   "execution_count": 70,
   "metadata": {},
   "outputs": [
    {
     "name": "stdout",
     "output_type": "stream",
     "text": [
      "Topic: 0\n",
      "Words: 0.125*\"justice\" + 0.040*\"bravery\" + 0.034*\"determination\" + 0.028*\"law\" + 0.028*\"courage\" + 0.023*\"freedom\" + 0.023*\"heroic\" + 0.021*\"resourcefulness\" + 0.021*\"enforcement\" + 0.019*\"leadership\"\n",
      "\n",
      "Topic: 1\n",
      "Words: 0.079*\"individualism\" + 0.046*\"american\" + 0.044*\"antihero\" + 0.021*\"everyman\" + 0.015*\"freedom\" + 0.015*\"resourceful\" + 0.014*\"moral\" + 0.014*\"trickster\" + 0.013*\"romantic\" + 0.012*\"authority\"\n",
      "\n",
      "Topic: 2\n",
      "Words: 0.063*\"loyalty\" + 0.056*\"heroism\" + 0.037*\"bravery\" + 0.031*\"sacrifice\" + 0.030*\"protector\" + 0.029*\"integrity\" + 0.028*\"duty\" + 0.025*\"love\" + 0.024*\"family\" + 0.022*\"tragic\"\n",
      "\n",
      "Topic: 3\n",
      "Words: 0.029*\"ambition\" + 0.021*\"redemption\" + 0.020*\"mentor\" + 0.017*\"anti\" + 0.017*\"idealism\" + 0.017*\"antihero\" + 0.015*\"friendship\" + 0.015*\"self\" + 0.013*\"protagonist\" + 0.011*\"humor\"\n",
      "\n",
      "dominant_topic\n",
      "0    1180\n",
      "2    1053\n",
      "1     994\n",
      "3     717\n",
      "Name: count, dtype: int64\n"
     ]
    }
   ],
   "source": [
    "character_western['processed_repres'] = character_western['character_representation'].apply(preprocess, args=(nlp, words_to_remove))\n",
    "western_char_topic = topic_detection(character_western['processed_repres'], 4, 15)\n",
    "character_western['dominant_topic'] = get_dominant_topic(western_char_topic[0], western_char_topic[1])\n",
    "print(character_western['dominant_topic'].value_counts())"
   ]
  },
  {
   "cell_type": "code",
   "execution_count": 71,
   "metadata": {},
   "outputs": [
    {
     "data": {
      "text/html": [
       "<div>\n",
       "<style scoped>\n",
       "    .dataframe tbody tr th:only-of-type {\n",
       "        vertical-align: middle;\n",
       "    }\n",
       "\n",
       "    .dataframe tbody tr th {\n",
       "        vertical-align: top;\n",
       "    }\n",
       "\n",
       "    .dataframe thead th {\n",
       "        text-align: right;\n",
       "    }\n",
       "</style>\n",
       "<table border=\"1\" class=\"dataframe\">\n",
       "  <thead>\n",
       "    <tr style=\"text-align: right;\">\n",
       "      <th></th>\n",
       "      <th>movie_side</th>\n",
       "      <th>title</th>\n",
       "      <th>year_release_date</th>\n",
       "      <th>character_name</th>\n",
       "      <th>character_representation</th>\n",
       "      <th>character_side</th>\n",
       "      <th>processed_repres</th>\n",
       "      <th>dominant_topic</th>\n",
       "    </tr>\n",
       "  </thead>\n",
       "  <tbody>\n",
       "    <tr>\n",
       "      <th>8046</th>\n",
       "      <td>Western</td>\n",
       "      <td>Fantomas vs. Scotland Yard</td>\n",
       "      <td>1967</td>\n",
       "      <td>Fantômas</td>\n",
       "      <td>[cunning, villainous archetype]</td>\n",
       "      <td>Eastern</td>\n",
       "      <td>[cunne, villainous]</td>\n",
       "      <td>3</td>\n",
       "    </tr>\n",
       "    <tr>\n",
       "      <th>6098</th>\n",
       "      <td>Western</td>\n",
       "      <td>Death Hunt</td>\n",
       "      <td>1981</td>\n",
       "      <td>Albert Johnson</td>\n",
       "      <td>[rugged individualism, antihero archetype]</td>\n",
       "      <td>Eastern</td>\n",
       "      <td>[rugged, individualism, antihero]</td>\n",
       "      <td>2</td>\n",
       "    </tr>\n",
       "    <tr>\n",
       "      <th>5047</th>\n",
       "      <td>Western</td>\n",
       "      <td>Code Name: Heraclitus</td>\n",
       "      <td>1967</td>\n",
       "      <td>Lydia Constantine</td>\n",
       "      <td>[values of mystery, betrayal, duality, archety...</td>\n",
       "      <td>Eastern</td>\n",
       "      <td>[mystery, betrayal, duality, femme, fatale]</td>\n",
       "      <td>3</td>\n",
       "    </tr>\n",
       "    <tr>\n",
       "      <th>31348</th>\n",
       "      <td>Western</td>\n",
       "      <td>When Eight Bells Toll</td>\n",
       "      <td>1971</td>\n",
       "      <td>Innocence</td>\n",
       "      <td>[vulnerability, archetype: the innocent]</td>\n",
       "      <td>Eastern</td>\n",
       "      <td>[vulnerability, innocent]</td>\n",
       "      <td>1</td>\n",
       "    </tr>\n",
       "    <tr>\n",
       "      <th>14606</th>\n",
       "      <td>Western</td>\n",
       "      <td>Malaga</td>\n",
       "      <td>1954</td>\n",
       "      <td>Frisco</td>\n",
       "      <td>[power, ruthlessness, antagonist]</td>\n",
       "      <td>Eastern</td>\n",
       "      <td>[power, ruthlessness, antagonist]</td>\n",
       "      <td>3</td>\n",
       "    </tr>\n",
       "  </tbody>\n",
       "</table>\n",
       "</div>"
      ],
      "text/plain": [
       "      movie_side                       title  year_release_date  \\\n",
       "8046     Western  Fantomas vs. Scotland Yard               1967   \n",
       "6098     Western                  Death Hunt               1981   \n",
       "5047     Western       Code Name: Heraclitus               1967   \n",
       "31348    Western       When Eight Bells Toll               1971   \n",
       "14606    Western                      Malaga               1954   \n",
       "\n",
       "          character_name                           character_representation  \\\n",
       "8046            Fantômas                    [cunning, villainous archetype]   \n",
       "6098      Albert Johnson         [rugged individualism, antihero archetype]   \n",
       "5047   Lydia Constantine  [values of mystery, betrayal, duality, archety...   \n",
       "31348          Innocence           [vulnerability, archetype: the innocent]   \n",
       "14606             Frisco                  [power, ruthlessness, antagonist]   \n",
       "\n",
       "      character_side                             processed_repres  \\\n",
       "8046         Eastern                          [cunne, villainous]   \n",
       "6098         Eastern            [rugged, individualism, antihero]   \n",
       "5047         Eastern  [mystery, betrayal, duality, femme, fatale]   \n",
       "31348        Eastern                    [vulnerability, innocent]   \n",
       "14606        Eastern            [power, ruthlessness, antagonist]   \n",
       "\n",
       "       dominant_topic  \n",
       "8046                3  \n",
       "6098                2  \n",
       "5047                3  \n",
       "31348               1  \n",
       "14606               3  "
      ]
     },
     "execution_count": 71,
     "metadata": {},
     "output_type": "execute_result"
    }
   ],
   "source": [
    "character_eastern.sample(5)"
   ]
  },
  {
   "cell_type": "code",
   "execution_count": 72,
   "metadata": {},
   "outputs": [],
   "source": [
    "# plot topics\n",
    "import pyLDAvis\n",
    "from pyLDAvis import gensim_models"
   ]
  },
  {
   "cell_type": "code",
   "execution_count": 73,
   "metadata": {},
   "outputs": [
    {
     "data": {
      "text/html": [
       "\n",
       "<link rel=\"stylesheet\" type=\"text/css\" href=\"https://cdn.jsdelivr.net/gh/bmabey/pyLDAvis@3.4.0/pyLDAvis/js/ldavis.v1.0.0.css\">\n",
       "\n",
       "\n",
       "<div id=\"ldavis_el141656324204409848029047279\" style=\"background-color:white;\"></div>\n",
       "<script type=\"text/javascript\">\n",
       "\n",
       "var ldavis_el141656324204409848029047279_data = {\"mdsDat\": {\"x\": [-0.11079069669503958, -0.22336858192206188, 0.18552647281858836, 0.14863280579851287], \"y\": [-0.2179263934156229, 0.16143801763386098, 0.09540765690411714, -0.038919281122355064], \"topics\": [1, 2, 3, 4], \"cluster\": [1, 1, 1, 1], \"Freq\": [26.82998468834244, 26.660648033715834, 24.865756320998113, 21.643610956943615]}, \"tinfo\": {\"Term\": [\"justice\", \"individualism\", \"loyalty\", \"heroism\", \"american\", \"bravery\", \"antihero\", \"determination\", \"sacrifice\", \"protector\", \"law\", \"integrity\", \"duty\", \"courage\", \"ambition\", \"love\", \"heroic\", \"family\", \"resourcefulness\", \"enforcement\", \"redemption\", \"camaraderie\", \"tragic\", \"freedom\", \"detective\", \"anti\", \"idealism\", \"teamwork\", \"mentor\", \"leadership\", \"protector\", \"sacrifice\", \"duty\", \"loyalty\", \"integrity\", \"camaraderie\", \"patriotism\", \"warrior\", \"love\", \"ideal\", \"family\", \"vengeance\", \"martyr\", \"valor\", \"honest\", \"come\", \"age\", \"state\", \"victim\", \"army\", \"political\", \"solidarity\", \"patriotic\", \"honorable\", \"commitment\", \"human\", \"authoritarian\", \"nostalgia\", \"cowboy\", \"betrayal\", \"soldier\", \"discipline\", \"heroism\", \"tragic\", \"reluctant\", \"orient\", \"collective\", \"traditional\", \"bravery\", \"honor\", \"conflict\", \"romantic\", \"officer\", \"resilience\", \"everyman\", \"leadership\", \"protagonist\", \"moral\", \"american\", \"law\", \"courage\", \"heroic\", \"enforcement\", \"resourcefulness\", \"teamwork\", \"perseverance\", \"agent\", \"revolutionary\", \"determination\", \"order\", \"democracy\", \"scientific\", \"detective\", \"british\", \"justice\", \"morality\", \"hope\", \"rationality\", \"fighter\", \"woman\", \"u.s\", \"honesty\", \"guilt\", \"adaptability\", \"nationalism\", \"rationalism\", \"faith\", \"sergeant\", \"inquiry\", \"intelligence\", \"military\", \"truth\", \"leadership\", \"freedom\", \"bravery\", \"resilience\", \"honor\", \"seeking\", \"compassion\", \"heroine\", \"heroism\", \"archetypal\", \"rebel\", \"leader\", \"independence\", \"individualism\", \"resourceful\", \"authority\", \"community\", \"revenge\", \"innovation\", \"cunne\", \"charm\", \"adventurous\", \"ambiguity\", \"hardworke\", \"determine\", \"ambitious\", \"flawed\", \"artist\", \"hard\", \"creativity\", \"rugged\", \"drive\", \"rogue\", \"capitalism\", \"supportive\", \"private\", \"youthful\", \"clever\", \"spirit\", \"capitalist\", \"life\", \"disillusionment\", \"optimistic\", \"american\", \"trickster\", \"antihero\", \"work\", \"brave\", \"rebellious\", \"everyman\", \"moral\", \"romantic\", \"freedom\", \"rebel\", \"survival\", \"protagonist\", \"leader\", \"rebellion\", \"ambition\", \"redemption\", \"idealism\", \"anti\", \"humor\", \"responsibility\", \"young\", \"youth\", \"idealistic\", \"father\", \"antagonist\", \"soviet\", \"pursuit\", \"education\", \"manipulative\", \"investigative\", \"success\", \"comic\", \"relief\", \"willed\", \"progressive\", \"ingenuity\", \"interest\", \"science\", \"bumble\", \"dreamer\", \"femme\", \"fatale\", \"socialist\", \"control\", \"mentor\", \"self\", \"friendship\", \"good\", \"nurture\", \"rebellion\", \"innocence\", \"strong\", \"adventure\", \"innocent\", \"personal\", \"protagonist\", \"antihero\", \"moral\", \"tragic\", \"everyman\", \"independence\", \"conflict\", \"resilience\"], \"Freq\": [472.0, 270.0, 233.0, 276.0, 186.0, 282.0, 198.0, 124.0, 114.0, 110.0, 104.0, 105.0, 102.0, 101.0, 86.0, 92.0, 84.0, 90.0, 76.0, 75.0, 64.0, 65.0, 112.0, 140.0, 65.0, 52.0, 51.0, 58.0, 73.0, 106.0, 110.07943282898525, 113.93475122429842, 102.0123790650658, 231.8055373567116, 104.69628179345217, 64.66145929184799, 36.4990896380968, 32.03963229510701, 90.69885625519345, 22.804436542119355, 88.14112524481749, 20.668621717990757, 17.490232856720745, 15.939607619247207, 16.026069316963632, 12.2077020901232, 12.2077020901232, 12.02783709511404, 11.47368843981556, 11.12859079780151, 10.831383949956908, 9.302434428001567, 9.392612793422641, 9.127645001981612, 9.001912853046239, 8.303569292467307, 8.38466294527299, 6.816558423120354, 6.546199924160627, 6.625885929694828, 48.55379090316164, 14.906055865650217, 205.68147858054553, 82.18812849100415, 32.93696210546001, 19.84988754241185, 18.685867582413227, 21.358640832311732, 134.9519888472892, 46.645147771561334, 26.60066624935496, 42.63247390969139, 16.707579263392002, 47.213142852724054, 42.2459028399266, 35.37435039163016, 31.226966567303577, 26.017323879046433, 27.35705003169625, 103.70530467230903, 100.51980986441883, 83.84745971388882, 75.25789949552339, 75.65232005405356, 58.232843534677365, 40.88699667314562, 37.70445235429143, 36.56828972948771, 122.37683549067519, 27.409288526353595, 26.1667349380268, 24.86486054392593, 63.678120614591045, 41.332374352803434, 455.0522924167212, 18.39752794341332, 17.707108410215998, 12.884611412226281, 11.646662014451646, 11.181812976705675, 9.955993556033569, 8.819867472424702, 8.644400053895593, 8.289426140112678, 7.15540669887716, 6.89950233781958, 6.885266993036547, 6.708761124737276, 6.460845688630017, 28.663181782219702, 25.477195792687, 61.232348759509684, 70.37443903758142, 84.63599490466662, 147.17710989758652, 68.92234294162245, 46.06512192724478, 17.293025289671093, 17.76250486162133, 23.29028516116344, 70.2457596447852, 19.880447811928192, 22.759786892571054, 22.514304845102796, 18.991043627027082, 270.2249333843308, 51.13748955586673, 42.07279596129431, 39.37261787117367, 33.43345679722886, 27.10036883061884, 24.66951551412519, 28.044358479075346, 23.92643162445022, 23.129176208587197, 22.93416885938446, 21.930897103583753, 22.025942182846045, 21.733984382622427, 20.187997124026317, 19.559509773905187, 18.958089164863853, 13.811470802756874, 13.895911109086581, 13.737237392228796, 12.255436750312228, 12.342318215134638, 12.50779785016672, 12.058688094223625, 11.791370143097774, 31.82517085686542, 11.859355614535602, 10.571959958037858, 9.610879822380662, 9.60702152382791, 158.24985565539592, 48.42711249578372, 148.58039516244574, 21.898686492822904, 30.267245699172854, 17.818194962200153, 71.82108940894715, 48.908347263423636, 44.103231122767156, 51.2442220777048, 29.569600645987045, 17.398876850875137, 30.51159298294952, 24.326577130600413, 21.059907605066158, 85.76420990020043, 63.657117299754056, 51.12544323635399, 51.55841167646931, 32.60999079752863, 28.454296792281784, 26.983429322068215, 20.375224359021924, 19.26587311847176, 16.83868488145446, 15.815265044506532, 15.908102142955096, 15.90716390669226, 14.057771915032935, 12.102418555319003, 14.015149773275121, 10.897932227355927, 10.249864155550233, 10.248172570758705, 10.243682144409581, 9.608055361400954, 9.927724873982594, 9.319251752227855, 9.313067671448387, 8.30175177217067, 8.294679816339531, 8.022440216483144, 8.022440216483144, 8.010107928663672, 7.832750920284755, 60.68165000615949, 44.60128216631058, 44.63540913061208, 12.99437217521445, 17.964840209423887, 31.986988121412406, 21.61488419864733, 20.30989276042581, 18.242287710418626, 20.019566586964416, 22.25516146007345, 37.489026328165345, 49.59144902276198, 29.67112851577683, 29.105708710533047, 30.62409784745934, 15.862859838457387, 15.988448281275032, 17.77970825789631], \"Total\": [472.0, 270.0, 233.0, 276.0, 186.0, 282.0, 198.0, 124.0, 114.0, 110.0, 104.0, 105.0, 102.0, 101.0, 86.0, 92.0, 84.0, 90.0, 76.0, 75.0, 64.0, 65.0, 112.0, 140.0, 65.0, 52.0, 51.0, 58.0, 73.0, 106.0, 110.75357897290014, 114.64126445749783, 102.66240673669354, 233.95807610593025, 105.75239877329082, 65.343177477599, 37.15733884860915, 32.69876365250982, 92.77462684164033, 23.504874993881177, 90.92347471336724, 21.326114698811892, 18.144505079843487, 16.592445587845432, 16.690877729091252, 12.860936217687208, 12.860937174598353, 12.68401355231261, 12.133999892193152, 11.780620026935916, 11.505596954471521, 9.953878499603176, 10.051934815966728, 9.77725328255272, 9.67871904392537, 8.952314718657394, 9.050200334888881, 7.497537731572253, 7.2229178895091986, 7.320725474709113, 54.55899509884231, 16.749651054315304, 276.54079267749523, 112.95093712863802, 43.75278809161913, 24.521946761963104, 22.890267759612907, 27.611174194289223, 282.5712306374157, 93.15820234813151, 43.04715979712175, 100.35848364313682, 22.1704277802848, 134.23718776154325, 144.91633530610432, 106.26520030183487, 108.51557070104087, 104.92137530787886, 186.14107024566928, 104.36198755125218, 101.1862257057516, 84.54885517700112, 75.91480716804581, 76.33316722224095, 58.91534121651842, 41.553469885873874, 38.37813476893107, 37.23706247257853, 124.75718577105634, 28.071355813958817, 26.835534311539806, 25.523427853604566, 65.45712652584425, 42.520345141475524, 472.3296390499515, 19.097164300010824, 18.39318385156591, 13.543577300534489, 12.30749815884616, 11.871111569585901, 10.634350265603135, 9.493284774761541, 9.322179917064451, 8.96080135632515, 7.819859752204745, 7.553587636250166, 7.553733685768557, 7.382781159072105, 7.116378438739249, 31.76173081897727, 28.531676188040056, 88.09992183445121, 106.26520030183487, 140.15048342555932, 282.5712306374157, 134.23718776154325, 93.15820234813151, 23.99420240811558, 25.053040078399984, 40.0562960046187, 276.54079267749523, 30.695902147751337, 63.49263723236257, 63.71092853557711, 35.414276669006746, 270.88045526716184, 51.79287722778962, 42.764450216724626, 40.025719977664345, 34.09238626720526, 27.804443188979263, 25.32115704708398, 28.791860879475053, 24.591899413606342, 23.7841108410971, 23.586641848380033, 22.581403537567233, 22.680147649866193, 22.40355061634249, 20.846985770997048, 20.216135802570797, 19.765347947615325, 14.460591309900018, 14.558766353906844, 14.46083043824488, 12.903370614402817, 13.002071143915172, 13.177922240403445, 12.725936550200236, 12.449581963515683, 33.629409718255936, 12.54929894035006, 11.267684390997589, 10.262075964550725, 10.262205300526666, 186.14107024566928, 55.3439086007615, 198.91293788613228, 25.75105238765012, 38.56661099057861, 21.450596414822698, 144.91633530610432, 104.92137530787886, 100.35848364313682, 140.15048342555932, 63.49263723236257, 23.503782821010045, 108.51557070104087, 63.71092853557711, 53.796712622454734, 86.42814982729713, 64.33875858690469, 51.779516982743424, 52.24033960286689, 33.28039004701102, 29.108278698714344, 27.795232885708007, 21.023229835662804, 19.91970755400206, 17.49175081833341, 16.468656860290942, 16.568526707346408, 16.5682582711543, 14.703396615969682, 12.757065099901961, 14.801317548176108, 11.55324113504889, 10.891716279240596, 10.891571815992473, 10.891288182529156, 10.249839728028814, 10.608096243470921, 9.968489725104591, 9.967847659355222, 8.945514351478513, 8.945182054991434, 8.664785533609288, 8.664785577440828, 8.664009770120279, 8.483528421303872, 73.69635159447431, 59.98078421477469, 60.07305902621336, 15.053730502160349, 22.439045864176943, 53.796712622454734, 31.969565476987007, 30.586177278528304, 27.34134209657615, 33.93927885744061, 42.465609504989644, 108.51557070104087, 198.91293788613228, 104.92137530787886, 112.95093712863802, 144.91633530610432, 35.414276669006746, 43.04715979712175, 134.23718776154325], \"Category\": [\"Default\", \"Default\", \"Default\", \"Default\", \"Default\", \"Default\", \"Default\", \"Default\", \"Default\", \"Default\", \"Default\", \"Default\", \"Default\", \"Default\", \"Default\", \"Default\", \"Default\", \"Default\", \"Default\", \"Default\", \"Default\", \"Default\", \"Default\", \"Default\", \"Default\", \"Default\", \"Default\", \"Default\", \"Default\", \"Default\", \"Topic1\", \"Topic1\", \"Topic1\", \"Topic1\", \"Topic1\", \"Topic1\", \"Topic1\", \"Topic1\", \"Topic1\", \"Topic1\", \"Topic1\", \"Topic1\", \"Topic1\", \"Topic1\", \"Topic1\", \"Topic1\", \"Topic1\", \"Topic1\", \"Topic1\", \"Topic1\", \"Topic1\", \"Topic1\", \"Topic1\", \"Topic1\", \"Topic1\", \"Topic1\", \"Topic1\", \"Topic1\", \"Topic1\", \"Topic1\", \"Topic1\", \"Topic1\", \"Topic1\", \"Topic1\", \"Topic1\", \"Topic1\", \"Topic1\", \"Topic1\", \"Topic1\", \"Topic1\", \"Topic1\", \"Topic1\", \"Topic1\", \"Topic1\", \"Topic1\", \"Topic1\", \"Topic1\", \"Topic1\", \"Topic1\", \"Topic2\", \"Topic2\", \"Topic2\", \"Topic2\", \"Topic2\", \"Topic2\", \"Topic2\", \"Topic2\", \"Topic2\", \"Topic2\", \"Topic2\", \"Topic2\", \"Topic2\", \"Topic2\", \"Topic2\", \"Topic2\", \"Topic2\", \"Topic2\", \"Topic2\", \"Topic2\", \"Topic2\", \"Topic2\", \"Topic2\", \"Topic2\", \"Topic2\", \"Topic2\", \"Topic2\", \"Topic2\", \"Topic2\", \"Topic2\", \"Topic2\", \"Topic2\", \"Topic2\", \"Topic2\", \"Topic2\", \"Topic2\", \"Topic2\", \"Topic2\", \"Topic2\", \"Topic2\", \"Topic2\", \"Topic2\", \"Topic2\", \"Topic2\", \"Topic2\", \"Topic2\", \"Topic3\", \"Topic3\", \"Topic3\", \"Topic3\", \"Topic3\", \"Topic3\", \"Topic3\", \"Topic3\", \"Topic3\", \"Topic3\", \"Topic3\", \"Topic3\", \"Topic3\", \"Topic3\", \"Topic3\", \"Topic3\", \"Topic3\", \"Topic3\", \"Topic3\", \"Topic3\", \"Topic3\", \"Topic3\", \"Topic3\", \"Topic3\", \"Topic3\", \"Topic3\", \"Topic3\", \"Topic3\", \"Topic3\", \"Topic3\", \"Topic3\", \"Topic3\", \"Topic3\", \"Topic3\", \"Topic3\", \"Topic3\", \"Topic3\", \"Topic3\", \"Topic3\", \"Topic3\", \"Topic3\", \"Topic3\", \"Topic3\", \"Topic3\", \"Topic3\", \"Topic4\", \"Topic4\", \"Topic4\", \"Topic4\", \"Topic4\", \"Topic4\", \"Topic4\", \"Topic4\", \"Topic4\", \"Topic4\", \"Topic4\", \"Topic4\", \"Topic4\", \"Topic4\", \"Topic4\", \"Topic4\", \"Topic4\", \"Topic4\", \"Topic4\", \"Topic4\", \"Topic4\", \"Topic4\", \"Topic4\", \"Topic4\", \"Topic4\", \"Topic4\", \"Topic4\", \"Topic4\", \"Topic4\", \"Topic4\", \"Topic4\", \"Topic4\", \"Topic4\", \"Topic4\", \"Topic4\", \"Topic4\", \"Topic4\", \"Topic4\", \"Topic4\", \"Topic4\", \"Topic4\", \"Topic4\", \"Topic4\", \"Topic4\", \"Topic4\", \"Topic4\", \"Topic4\", \"Topic4\", \"Topic4\"], \"logprob\": [30.0, 29.0, 28.0, 27.0, 26.0, 25.0, 24.0, 23.0, 22.0, 21.0, 20.0, 19.0, 18.0, 17.0, 16.0, 15.0, 14.0, 13.0, 12.0, 11.0, 10.0, 9.0, 8.0, 7.0, 6.0, 5.0, 4.0, 3.0, 2.0, 1.0, -3.5076, -3.4731, -3.5837, -2.7629, -3.5577, -4.0396, -4.6115, -4.7418, -3.7012, -5.0818, -3.7298, -5.1802, -5.3471, -5.44, -5.4346, -5.7067, -5.7067, -5.7215, -5.7687, -5.7993, -5.8263, -5.9785, -5.9688, -5.9975, -6.0113, -6.0921, -6.0824, -6.2894, -6.3299, -6.3178, -4.3261, -5.507, -2.8824, -3.7998, -4.7142, -5.2206, -5.281, -5.1473, -3.3039, -4.3662, -4.9278, -4.4562, -5.3929, -4.3541, -4.4653, -4.6428, -4.7675, -4.95, -4.8998, -3.5609, -3.5921, -3.7734, -3.8815, -3.8763, -4.138, -4.4916, -4.5727, -4.6033, -3.3953, -4.8916, -4.938, -4.989, -4.0486, -4.4808, -2.082, -5.2902, -5.3285, -5.6464, -5.7474, -5.7882, -5.9043, -6.0254, -6.0455, -6.0875, -6.2346, -6.271, -6.2731, -6.299, -6.3367, -4.8468, -4.9647, -4.0878, -3.9486, -3.7641, -3.2108, -3.9695, -4.3724, -5.3521, -5.3253, -5.0544, -3.9504, -5.2127, -5.0774, -5.0883, -5.2585, -2.5335, -4.1982, -4.3933, -4.4597, -4.6232, -4.8332, -4.9272, -4.799, -4.9578, -4.9916, -5.0001, -5.0448, -5.0405, -5.0539, -5.1277, -5.1593, -5.1905, -5.5072, -5.5011, -5.5126, -5.6268, -5.6197, -5.6064, -5.643, -5.6654, -4.6725, -5.6596, -5.7745, -5.8698, -5.8702, -3.0686, -4.2527, -3.1316, -5.0463, -4.7227, -5.2525, -3.8586, -4.2428, -4.3462, -4.1961, -4.746, -5.2763, -4.7146, -4.9412, -5.0854, -3.5424, -3.8404, -4.0597, -4.0512, -4.5093, -4.6457, -4.6987, -4.9796, -5.0356, -5.1703, -5.233, -5.2271, -5.2272, -5.3508, -5.5006, -5.3538, -5.6054, -5.6667, -5.6669, -5.6673, -5.7314, -5.6986, -5.7619, -5.7625, -5.8775, -5.8783, -5.9117, -5.9117, -5.9133, -5.9356, -3.8883, -4.1962, -4.1954, -5.4294, -5.1055, -4.5286, -4.9206, -4.9829, -5.0902, -4.9973, -4.8914, -4.3699, -4.0901, -4.6038, -4.623, -4.5722, -5.23, -5.2221, -5.1159], \"loglift\": [30.0, 29.0, 28.0, 27.0, 26.0, 25.0, 24.0, 23.0, 22.0, 21.0, 20.0, 19.0, 18.0, 17.0, 16.0, 15.0, 14.0, 13.0, 12.0, 11.0, 10.0, 9.0, 8.0, 7.0, 6.0, 5.0, 4.0, 3.0, 2.0, 1.0, 1.3095, 1.3095, 1.3093, 1.3064, 1.3056, 1.3052, 1.2978, 1.2953, 1.293, 1.2854, 1.2846, 1.2843, 1.2789, 1.2755, 1.275, 1.2635, 1.2635, 1.2625, 1.2597, 1.2587, 1.2553, 1.248, 1.2478, 1.2469, 1.2432, 1.2404, 1.2393, 1.2204, 1.2173, 1.2159, 1.199, 1.199, 1.0196, 0.9977, 1.0317, 1.1043, 1.1127, 1.0589, 0.5766, 0.6239, 0.8343, 0.4595, 1.0328, 0.2707, 0.083, 0.2157, 0.07, -0.0788, -0.6019, 1.3157, 1.3154, 1.3137, 1.3133, 1.313, 1.3103, 1.3058, 1.3043, 1.3039, 1.3027, 1.2981, 1.2967, 1.2958, 1.2944, 1.2936, 1.2847, 1.2847, 1.284, 1.2721, 1.2668, 1.2622, 1.2561, 1.2484, 1.2465, 1.2441, 1.2332, 1.2314, 1.2293, 1.2262, 1.2253, 1.2193, 1.2088, 0.9582, 0.9099, 0.8176, 0.6697, 0.6554, 0.6177, 0.9945, 0.9781, 0.7797, -0.0484, 0.8876, 0.2961, 0.2818, 0.6988, 1.3893, 1.3789, 1.3754, 1.3752, 1.3722, 1.366, 1.3656, 1.3654, 1.3642, 1.3638, 1.3636, 1.3624, 1.3624, 1.3613, 1.3596, 1.3587, 1.35, 1.3458, 1.3451, 1.3403, 1.3402, 1.3396, 1.3395, 1.3378, 1.3374, 1.3365, 1.3351, 1.3279, 1.3261, 1.3257, 1.2293, 1.2582, 1.0999, 1.2296, 1.1494, 1.2061, 0.6897, 0.6284, 0.5695, 0.3856, 0.6275, 1.0909, 0.1229, 0.4289, 0.4538, 1.5227, 1.5198, 1.5177, 1.5173, 1.5101, 1.5077, 1.5008, 1.4992, 1.4971, 1.4924, 1.49, 1.4898, 1.4897, 1.4856, 1.4778, 1.4759, 1.4721, 1.4697, 1.4696, 1.4692, 1.4658, 1.4642, 1.4631, 1.4625, 1.4558, 1.455, 1.4534, 1.4534, 1.452, 1.4506, 1.3361, 1.2342, 1.2334, 1.3834, 1.3081, 1.0106, 1.1391, 1.121, 1.1258, 1.0026, 0.8843, 0.4676, 0.1414, 0.2674, 0.1744, -0.0239, 0.7273, 0.54, -0.4911]}, \"token.table\": {\"Topic\": [2, 1, 4, 3, 1, 2, 3, 4, 3, 1, 3, 4, 4, 1, 3, 4, 1, 2, 1, 3, 1, 3, 1, 2, 3, 1, 2, 1, 2, 4, 1, 3, 3, 3, 3, 1, 3, 1, 4, 1, 3, 2, 3, 1, 4, 4, 2, 1, 3, 3, 2, 2, 3, 2, 3, 4, 3, 1, 2, 3, 4, 3, 1, 4, 2, 1, 3, 4, 2, 1, 3, 4, 4, 4, 2, 3, 2, 3, 4, 1, 2, 4, 1, 4, 2, 3, 3, 2, 2, 3, 4, 1, 2, 1, 2, 1, 2, 1, 2, 1, 4, 1, 4, 4, 2, 4, 3, 4, 1, 4, 1, 4, 3, 2, 1, 2, 1, 2, 4, 4, 1, 2, 3, 2, 1, 2, 3, 1, 2, 3, 1, 2, 1, 4, 4, 1, 1, 2, 3, 4, 1, 2, 4, 1, 3, 4, 2, 2, 1, 3, 4, 1, 2, 3, 2, 1, 3, 1, 1, 2, 1, 3, 4, 1, 3, 4, 1, 2, 3, 4, 1, 4, 2, 2, 2, 3, 4, 2, 3, 4, 3, 4, 4, 4, 1, 3, 1, 2, 4, 3, 2, 4, 3, 2, 3, 1, 2, 3, 3, 1, 4, 2, 2, 4, 3, 4, 2, 4, 1, 3, 1, 4, 1, 3, 4, 1, 1, 3, 4, 4, 3, 3, 4, 2, 1, 3, 1, 2, 4, 2, 3, 4, 1, 2, 3, 4, 2, 1, 1, 1, 1, 4, 2, 3, 4, 4, 4, 3], \"Freq\": [0.8927772954539439, 0.32917184416953094, 0.6583436883390619, 0.9759311225354618, 0.9330579752540281, 0.990147130098746, 0.9670321566218815, 0.9950461761804149, 0.9700113217794591, 0.1450512773154541, 0.8488185857719167, 0.97154249649703, 0.9953993483829937, 0.005027325073105351, 0.7490714358926972, 0.25136625365526755, 0.32577638382693896, 0.6515527676538779, 0.9337369319143595, 0.9593713076652357, 0.8839583328514489, 0.982124165917006, 0.9561893864457666, 0.20743331587922803, 0.7778749345471051, 0.47775564304784696, 0.5202228113187667, 0.023518153408039304, 0.9642442897296114, 0.8943029641082362, 0.9947480748435191, 0.9299895630840465, 0.956228715009419, 0.9724970580126848, 0.9638877863663846, 0.8300470837446117, 0.17474675447254984, 0.9330580446777124, 0.9181289471393788, 0.9298751166507564, 0.9743734783974721, 0.7184756797447144, 0.2794072087896111, 0.6272190808231973, 0.37168538122856143, 0.9430038543762483, 0.9981595745423578, 0.9691374188493861, 0.9612782962564712, 0.9873166519805238, 0.9688646291950107, 0.9777392225540342, 0.015277175352406785, 0.9778995834667504, 0.00801557035628484, 0.00801557035628484, 0.9742529937698519, 0.8955410444885339, 0.059702736299235594, 0.9744617009797979, 0.894336185761136, 0.9616199380961356, 0.9935477186075282, 0.9521609438729479, 0.9879495555324169, 0.2898223993263707, 0.4968383988452069, 0.21391653283613077, 0.9266940418071918, 0.9678468654812921, 0.021996519670029364, 0.923277319271278, 0.9718867011404028, 0.9232773239417532, 0.9750153804715265, 0.9819872026870546, 0.6064909511721207, 0.3638945707032724, 0.028540750643393915, 0.2330495604342537, 0.016646397173875265, 0.7490878728243869, 0.1328574335586107, 0.8635733181309696, 0.9654394229750175, 0.9893087479881634, 0.9751282165493887, 0.9935084256806068, 0.5741918822785806, 0.19971891557515847, 0.22468378002205328, 0.7449172254316901, 0.2531272125253316, 0.9586074656884526, 0.9480385570995439, 0.5045181080712716, 0.49378368023996794, 0.9205039227182842, 0.9786233936039063, 0.8936236327044347, 0.9915749170422898, 0.9785204135732436, 0.9849454566560902, 0.9538292642344902, 0.5365067929406021, 0.45179519405524393, 0.9967496537677719, 0.9426762135717619, 0.31279749508007565, 0.6881544891761664, 0.3830370130905115, 0.5892877124469408, 0.9710678187830744, 0.8431254818234444, 0.9928852793693711, 0.009456050279708297, 0.0944532908832391, 0.9130484785379779, 0.9028448890642329, 0.9458617419991202, 0.03387464744364245, 0.9633102866785822, 0.002117165465227653, 0.9965314233683561, 0.26683020308685274, 0.36100556888221247, 0.3767014631814391, 0.32936464525156184, 0.6587292905031237, 0.9762431763520588, 0.9808716358981482, 0.021557618371387872, 0.9916306539251772, 0.00854854012004463, 0.9406552295552855, 0.936922772221828, 0.013569192753294712, 0.09498434927306298, 0.05427677101317885, 0.8277207579509774, 0.035048764517353566, 0.8762191129338391, 0.035048764517353566, 0.24780460534096319, 0.4670163716041229, 0.28592839077803445, 0.9425483133110918, 0.895156719150418, 0.9336398495899376, 0.178260698971423, 0.8021731453714034, 0.7667871891546162, 0.22552564386900478, 0.9744494197058005, 0.9618345540180118, 0.815595931030351, 0.16311918620607022, 0.8953500161684484, 0.9688530211131503, 0.9866805374522519, 0.2119362021388746, 0.2590331359475134, 0.5180662718950269, 0.9560564344056024, 0.9864984602915673, 0.9756250112530431, 0.28567328909327344, 0.08293740651095034, 0.28567328909327344, 0.340964893433907, 0.9931958950682349, 0.9657019910086959, 0.9267119595470817, 0.9598645698641941, 0.36224672659016227, 0.47249573033499426, 0.17324843445616456, 0.018588496420180893, 0.39035842482379873, 0.5948318854457886, 0.8391375070374135, 0.13985625117290226, 0.9947347665024168, 0.9181411249858954, 0.7542376483733426, 0.22855686314343715, 0.35012652442846187, 0.514015535863061, 0.13409100935558116, 0.9846913847959735, 0.9956353544027469, 0.9619256531729136, 0.9679580578888352, 0.9936336956559583, 0.9681325052380041, 0.4284640265480997, 0.1295356359331464, 0.43842830623526474, 0.9681485148131745, 0.9944063382366515, 0.9029030446260022, 0.979492258774691, 0.7085044841603101, 0.2500604061742271, 0.25008009142209825, 0.7502402742662947, 0.9481521731682733, 0.923359992920338, 0.8981103832874615, 0.10997269999438304, 0.9041701684784275, 0.965686345117558, 0.029735877268673667, 0.9515480725975574, 0.029735877268673667, 0.9460727829175255, 0.13077802968231753, 0.19616704452347627, 0.6538901484115875, 0.9521137723534109, 0.9229298830298948, 0.723287826877114, 0.2552780565448638, 0.9844634487789102, 0.7605616426245067, 0.21730332646414474, 0.725978925757929, 0.00885340153363328, 0.2567486444753651, 0.018068835853531324, 0.8673041209695035, 0.10841301512118794, 0.034052243606269114, 0.6923956199941387, 0.10215673081880734, 0.18161196590010195, 0.9403489400142343, 0.9642942576060385, 0.9847081991531228, 0.9065436045600468, 0.9786302729994446, 0.9181650354308978, 0.9266192079419326, 0.8543340159002948, 0.11650009307731292, 0.9713895944323278, 0.9513286091784505, 0.9429561394293755], \"Term\": [\"adaptability\", \"adventure\", \"adventure\", \"adventurous\", \"age\", \"agent\", \"ambiguity\", \"ambition\", \"ambitious\", \"american\", \"american\", \"antagonist\", \"anti\", \"antihero\", \"antihero\", \"antihero\", \"archetypal\", \"archetypal\", \"army\", \"artist\", \"authoritarian\", \"authority\", \"betrayal\", \"brave\", \"brave\", \"bravery\", \"bravery\", \"british\", \"british\", \"bumble\", \"camaraderie\", \"capitalism\", \"capitalist\", \"charm\", \"clever\", \"collective\", \"collective\", \"come\", \"comic\", \"commitment\", \"community\", \"compassion\", \"compassion\", \"conflict\", \"conflict\", \"control\", \"courage\", \"cowboy\", \"creativity\", \"cunne\", \"democracy\", \"detective\", \"detective\", \"determination\", \"determination\", \"determination\", \"determine\", \"discipline\", \"discipline\", \"disillusionment\", \"dreamer\", \"drive\", \"duty\", \"education\", \"enforcement\", \"everyman\", \"everyman\", \"everyman\", \"faith\", \"family\", \"family\", \"fatale\", \"father\", \"femme\", \"fighter\", \"flawed\", \"freedom\", \"freedom\", \"freedom\", \"friendship\", \"friendship\", \"friendship\", \"good\", \"good\", \"guilt\", \"hard\", \"hardworke\", \"heroic\", \"heroine\", \"heroine\", \"heroine\", \"heroism\", \"heroism\", \"honest\", \"honesty\", \"honor\", \"honor\", \"honorable\", \"hope\", \"human\", \"humor\", \"ideal\", \"idealism\", \"idealistic\", \"independence\", \"independence\", \"individualism\", \"ingenuity\", \"innocence\", \"innocence\", \"innocent\", \"innocent\", \"innovation\", \"inquiry\", \"integrity\", \"integrity\", \"intelligence\", \"intelligence\", \"interest\", \"investigative\", \"justice\", \"justice\", \"justice\", \"law\", \"leader\", \"leader\", \"leader\", \"leadership\", \"leadership\", \"life\", \"love\", \"love\", \"loyalty\", \"loyalty\", \"manipulative\", \"martyr\", \"mentor\", \"mentor\", \"mentor\", \"mentor\", \"military\", \"military\", \"military\", \"moral\", \"moral\", \"moral\", \"morality\", \"nationalism\", \"nostalgia\", \"nurture\", \"nurture\", \"officer\", \"officer\", \"optimistic\", \"order\", \"orient\", \"orient\", \"patriotic\", \"patriotism\", \"perseverance\", \"personal\", \"personal\", \"personal\", \"political\", \"private\", \"progressive\", \"protagonist\", \"protagonist\", \"protagonist\", \"protagonist\", \"protector\", \"pursuit\", \"rationalism\", \"rationality\", \"rebel\", \"rebel\", \"rebel\", \"rebellion\", \"rebellion\", \"rebellion\", \"rebellious\", \"rebellious\", \"redemption\", \"relief\", \"reluctant\", \"reluctant\", \"resilience\", \"resilience\", \"resilience\", \"resourceful\", \"resourcefulness\", \"responsibility\", \"revenge\", \"revolutionary\", \"rogue\", \"romantic\", \"romantic\", \"romantic\", \"rugged\", \"sacrifice\", \"science\", \"scientific\", \"seeking\", \"seeking\", \"self\", \"self\", \"sergeant\", \"socialist\", \"soldier\", \"soldier\", \"solidarity\", \"soviet\", \"spirit\", \"spirit\", \"spirit\", \"state\", \"strong\", \"strong\", \"strong\", \"success\", \"supportive\", \"survival\", \"survival\", \"teamwork\", \"traditional\", \"traditional\", \"tragic\", \"tragic\", \"tragic\", \"trickster\", \"trickster\", \"trickster\", \"truth\", \"truth\", \"truth\", \"truth\", \"u.s\", \"valor\", \"vengeance\", \"victim\", \"warrior\", \"willed\", \"woman\", \"work\", \"work\", \"young\", \"youth\", \"youthful\"]}, \"R\": 30, \"lambda.step\": 0.01, \"plot.opts\": {\"xlab\": \"PC1\", \"ylab\": \"PC2\"}, \"topic.order\": [3, 1, 2, 4]};\n",
       "\n",
       "function LDAvis_load_lib(url, callback){\n",
       "  var s = document.createElement('script');\n",
       "  s.src = url;\n",
       "  s.async = true;\n",
       "  s.onreadystatechange = s.onload = callback;\n",
       "  s.onerror = function(){console.warn(\"failed to load library \" + url);};\n",
       "  document.getElementsByTagName(\"head\")[0].appendChild(s);\n",
       "}\n",
       "\n",
       "if(typeof(LDAvis) !== \"undefined\"){\n",
       "   // already loaded: just create the visualization\n",
       "   !function(LDAvis){\n",
       "       new LDAvis(\"#\" + \"ldavis_el141656324204409848029047279\", ldavis_el141656324204409848029047279_data);\n",
       "   }(LDAvis);\n",
       "}else if(typeof define === \"function\" && define.amd){\n",
       "   // require.js is available: use it to load d3/LDAvis\n",
       "   require.config({paths: {d3: \"https://d3js.org/d3.v5\"}});\n",
       "   require([\"d3\"], function(d3){\n",
       "      window.d3 = d3;\n",
       "      LDAvis_load_lib(\"https://cdn.jsdelivr.net/gh/bmabey/pyLDAvis@3.4.0/pyLDAvis/js/ldavis.v3.0.0.js\", function(){\n",
       "        new LDAvis(\"#\" + \"ldavis_el141656324204409848029047279\", ldavis_el141656324204409848029047279_data);\n",
       "      });\n",
       "    });\n",
       "}else{\n",
       "    // require.js not available: dynamically load d3 & LDAvis\n",
       "    LDAvis_load_lib(\"https://d3js.org/d3.v5.js\", function(){\n",
       "         LDAvis_load_lib(\"https://cdn.jsdelivr.net/gh/bmabey/pyLDAvis@3.4.0/pyLDAvis/js/ldavis.v3.0.0.js\", function(){\n",
       "                 new LDAvis(\"#\" + \"ldavis_el141656324204409848029047279\", ldavis_el141656324204409848029047279_data);\n",
       "            })\n",
       "         });\n",
       "}\n",
       "</script>"
      ],
      "text/plain": [
       "<IPython.core.display.HTML object>"
      ]
     },
     "execution_count": 73,
     "metadata": {},
     "output_type": "execute_result"
    }
   ],
   "source": [
    "pyLDAvis.display(gensim_models.prepare(western_char_topic[0], western_char_topic[1], western_char_topic[2]))"
   ]
  },
  {
   "cell_type": "code",
   "execution_count": 74,
   "metadata": {},
   "outputs": [
    {
     "data": {
      "text/html": [
       "\n",
       "<link rel=\"stylesheet\" type=\"text/css\" href=\"https://cdn.jsdelivr.net/gh/bmabey/pyLDAvis@3.4.0/pyLDAvis/js/ldavis.v1.0.0.css\">\n",
       "\n",
       "\n",
       "<div id=\"ldavis_el14165632420440981444268996299\" style=\"background-color:white;\"></div>\n",
       "<script type=\"text/javascript\">\n",
       "\n",
       "var ldavis_el14165632420440981444268996299_data = {\"mdsDat\": {\"x\": [-0.16812427521456116, 0.05742495659291698, 0.27518532000025414, -0.1644860013786098], \"y\": [-0.07460478069847144, -0.22685976553532886, 0.11388333247767683, 0.18758121375612352], \"topics\": [1, 2, 3, 4], \"cluster\": [1, 1, 1, 1], \"Freq\": [26.846176971117657, 26.384291057373993, 23.73225185974833, 23.03728011176002]}, \"tinfo\": {\"Term\": [\"villain\", \"loyalty\", \"antagonist\", \"resilience\", \"authority\", \"love\", \"antihero\", \"power\", \"manipulation\", \"romantic\", \"greed\", \"struggle\", \"ambition\", \"everyman\", \"victim\", \"rebel\", \"bravery\", \"resistance\", \"betrayal\", \"control\", \"duty\", \"revolutionary\", \"oppression\", \"soldier\", \"collective\", \"corruption\", \"heroism\", \"state\", \"law\", \"innocent\", \"antihero\", \"rebel\", \"bravery\", \"resistance\", \"revolutionary\", \"collective\", \"struggle\", \"community\", \"protagonist\", \"perseverance\", \"social\", \"heroic\", \"redemption\", \"class\", \"worker\", \"oppressed\", \"unity\", \"fighter\", \"solidarity\", \"defiance\", \"work\", \"individual\", \"noble\", \"age\", \"idealist\", \"come\", \"teamwork\", \"communist\", \"guardian\", \"ideology\", \"rebellion\", \"youth\", \"heroism\", \"freedom\", \"sacrifice\", \"collectivism\", \"archetypal\", \"self\", \"individualism\", \"tragic\", \"determination\", \"leader\", \"justice\", \"martyr\", \"loyalty\", \"authority\", \"control\", \"duty\", \"soldier\", \"state\", \"law\", \"courage\", \"honor\", \"enforcement\", \"integrity\", \"leadership\", \"protector\", \"authoritarianism\", \"loyal\", \"order\", \"ally\", \"supportive\", \"discipline\", \"caregiver\", \"oppressive\", \"corrupt\", \"conformity\", \"patriotism\", \"capitalism\", \"collaboration\", \"cooperation\", \"officer\", \"spy\", \"fear\", \"authoritarian\", \"oppression\", \"mentor\", \"justice\", \"tradition\", \"antagonist\", \"soviet\", \"sacrifice\", \"support\", \"tragic\", \"collectivism\", \"leader\", \"villain\", \"power\", \"manipulation\", \"greed\", \"ambition\", \"betrayal\", \"corruption\", \"deception\", \"cunne\", \"anti\", \"chaos\", \"tyranny\", \"ruthless\", \"revenge\", \"manipulative\", \"fatale\", \"femme\", \"ruthlessness\", \"innovation\", \"american\", \"scientist\", \"exploitation\", \"naive\", \"honesty\", \"villainy\", \"humor\", \"crime\", \"vengeance\", \"scientific\", \"progress\", \"antagonist\", \"oppression\", \"conflict\", \"tragic\", \"tyrant\", \"moral\", \"individualism\", \"resilience\", \"love\", \"romantic\", \"innocent\", \"innocence\", \"victim\", \"everyman\", \"idealism\", \"eastern\", \"interest\", \"youthful\", \"independence\", \"hope\", \"outsider\", \"emotional\", \"young\", \"heroine\", \"societal\", \"creativity\", \"connection\", \"artistic\", \"resourceful\", \"lover\", \"vulnerability\", \"change\", \"suffer\", \"adaptability\", \"critique\", \"wise\", \"disillusionment\", \"friendship\", \"identity\", \"nurture\", \"cultural\", \"sacrifice\", \"freedom\", \"tragic\", \"mentor\", \"martyr\", \"camaraderie\", \"truth\", \"traditional\"], \"Freq\": [366.0, 315.0, 390.0, 172.0, 184.0, 143.0, 159.0, 114.0, 108.0, 104.0, 106.0, 115.0, 101.0, 99.0, 98.0, 106.0, 101.0, 101.0, 90.0, 97.0, 78.0, 78.0, 141.0, 75.0, 75.0, 66.0, 116.0, 70.0, 69.0, 60.0, 158.67781195284013, 105.75579465256071, 100.53403176902374, 100.4563868375153, 77.76712627358862, 75.01901316731025, 114.41661473551147, 52.24646627592348, 54.17491484529922, 50.65372170468252, 47.9682862268653, 47.00383677760752, 41.713144878368375, 37.71140960654522, 36.026732388359534, 32.345111538630654, 30.726786225296973, 27.401469884899253, 26.51681261836663, 26.21888304726066, 23.798975958938975, 22.31735010294994, 23.30952959246779, 21.65324357959746, 20.978198152048495, 20.476777124359227, 20.68352527940372, 18.630132890183415, 19.109751846653225, 17.08672085273501, 70.25964824454604, 27.212440134556253, 96.28922110922663, 73.30840927237442, 114.37119699480944, 73.66223697143654, 30.582707510911096, 38.86170170400642, 37.07279785335877, 62.20448400954905, 39.089109731815725, 32.76833700509051, 34.47870140680197, 33.553952565121065, 314.945724220358, 183.36470328231061, 96.3999782891016, 77.57939486456507, 75.32278562621813, 69.54041305292711, 68.5233934823457, 55.57397650424739, 46.83489147556395, 44.733302362210814, 44.95813364733768, 44.494843597436045, 59.431289538897914, 38.4661343127654, 37.14213634989113, 33.30901038164255, 33.072617666705156, 32.02629318085493, 27.278651475874874, 25.22551897638046, 35.063738495082575, 24.53110695211974, 25.36328044357984, 24.07175386378747, 22.96781937872305, 21.954559737203038, 21.16740279609444, 20.933575040789624, 18.518791280034087, 18.20103201035223, 45.77868334526286, 90.9565424992588, 58.721445510447786, 56.78803727966986, 31.124099309025052, 99.16102556505584, 35.432460997997424, 48.90628045244318, 27.86443393916315, 40.16253222656106, 35.50068288902482, 31.042654296691826, 366.1512192254181, 113.95294742786821, 108.11325076941858, 105.7915327014552, 100.55112801739536, 89.40104883983874, 65.81645557385504, 50.15535022369759, 46.95137074896423, 45.22799646585906, 41.42916920278463, 39.63390984843711, 38.9337804506961, 36.35803444532937, 28.257513753489363, 25.082175393079716, 25.082175393079716, 23.042181806355817, 21.70154495147602, 21.46766242257445, 20.547605529648347, 19.78514533686093, 20.134527845934866, 19.544853481011252, 16.967290715549687, 17.490919336746924, 15.947918207280086, 16.023067656222704, 15.239235199012908, 14.159951226619995, 291.3149478755618, 50.32962528817299, 35.26627381869954, 51.05298894848138, 22.208522351166636, 21.988629236899673, 21.682309732543683, 172.1849011645611, 142.80966787241178, 103.89657697637467, 59.426787702805356, 58.89270002528523, 97.59303622426917, 98.58681892620268, 45.463389296150645, 42.20008966253367, 37.239045417267334, 37.15722965894645, 33.21211096093529, 31.968324539428274, 24.192040415450897, 23.799949047066033, 22.877481553768114, 21.7306469288286, 21.559539611005718, 21.330640626204527, 19.92570291156789, 19.691546625795116, 18.678275198743098, 18.365963767821768, 16.20567503647807, 16.04983198375477, 15.740501388031829, 15.739942810781924, 16.039705575434965, 15.497976982703886, 14.884181385541757, 30.380401836013238, 29.0758306166039, 33.53562906749936, 25.933591184444168, 44.637590797730816, 32.994982498623436, 41.049322161925815, 29.80385174830699, 26.99734359132323, 23.67783843933381, 21.007902419951648, 21.496678592004695], \"Total\": [366.0, 315.0, 390.0, 172.0, 184.0, 143.0, 159.0, 114.0, 108.0, 104.0, 106.0, 115.0, 101.0, 99.0, 98.0, 106.0, 101.0, 101.0, 90.0, 97.0, 78.0, 78.0, 141.0, 75.0, 75.0, 66.0, 116.0, 70.0, 69.0, 60.0, 159.36776456082913, 106.43690586259171, 101.21568137457753, 101.13953562885078, 78.44051543829312, 75.69721966430996, 115.85978549924543, 52.92602581343352, 54.90800052120055, 51.36803081538773, 48.65256727453808, 47.68800396686709, 42.45092575534156, 38.40025351776667, 36.70554590733194, 33.02699149269194, 31.404271715819867, 28.078306362767556, 27.198170600449224, 26.90065852204592, 24.471656042080564, 22.996581255076936, 24.023193849383805, 22.329448875761106, 21.66709778261217, 21.151775859346184, 21.36956169629247, 19.3162798207848, 19.82279463178311, 17.769143929706424, 73.23525119189453, 28.714580213041184, 116.92617999225281, 106.75407931569993, 208.13981442658817, 117.03852465830256, 36.14715563763766, 53.47577493408817, 60.39441446377498, 194.46932734651733, 72.04079880906478, 70.91157412346904, 91.71965978617013, 85.38782017024805, 315.6159567700526, 184.0351349382615, 97.18146250911113, 78.24407456396885, 75.9859902686345, 70.20068797970593, 69.1818262328695, 56.25983715658238, 47.50179820875539, 45.39841101888453, 45.628991797001696, 45.164958668102564, 60.331768828036815, 39.131791159009616, 37.80563477879453, 33.96686505853556, 33.73373306744583, 32.715747309578234, 27.947199397531367, 25.904413441300342, 36.01656152682465, 25.20833733872394, 26.06526536206832, 24.744139952072867, 23.644206893449045, 22.625591959870288, 21.845126589008927, 21.606619483308915, 19.18541864347152, 18.87574089042912, 58.3246861925196, 141.732106158886, 88.96651296059366, 91.71965978617013, 41.437569856102066, 390.9131623108493, 57.974200198575645, 208.13981442658817, 37.925533816740014, 194.46932734651733, 117.03852465830256, 70.91157412346904, 366.8156220763345, 114.61609771232825, 108.77638981032356, 106.4498301524366, 101.21852085681427, 90.07370422033195, 66.47722501374282, 50.82860451621701, 47.61727408189992, 45.90376036959172, 42.08981518811227, 40.29658959918578, 39.598223687493835, 37.02585371939198, 28.920464913593662, 25.74392717127873, 25.743927186995396, 23.70310418693783, 22.380853892480793, 22.143051425791423, 21.213425690275734, 20.444135659517297, 20.822766293001603, 20.276680415489576, 17.626977187154306, 18.172204393938458, 16.611779837757762, 16.696181456543332, 15.9196541667682, 14.828834131702688, 390.9131623108493, 141.732106158886, 83.61309678347217, 194.46932734651733, 43.11637156435818, 60.44603406680504, 60.39441446377498, 172.89017479006225, 143.47836600475713, 104.56338135992293, 60.09899832789826, 59.559495596240076, 98.70706126778488, 99.73935753091402, 46.12942638368916, 42.88189186312812, 37.90962067789505, 37.827337853165595, 33.87682904125995, 32.63048112867972, 24.86174826465516, 24.478953189157, 23.546183546712367, 22.39553087504754, 22.228534742737782, 21.993489853167542, 20.587148388538708, 20.36177120017697, 19.352588709624456, 19.039599112126304, 16.867202736630926, 16.71352898889555, 16.400553332052105, 16.40053968555609, 16.713334295839385, 16.16918341507336, 15.549445341046546, 38.85251296317901, 37.935912392893144, 58.34637746918837, 45.44045225156246, 208.13981442658817, 106.75407931569993, 194.46932734651733, 88.96651296059366, 85.38782017024805, 70.415709838814, 41.804655747036634, 66.48761102708895], \"Category\": [\"Default\", \"Default\", \"Default\", \"Default\", \"Default\", \"Default\", \"Default\", \"Default\", \"Default\", \"Default\", \"Default\", \"Default\", \"Default\", \"Default\", \"Default\", \"Default\", \"Default\", \"Default\", \"Default\", \"Default\", \"Default\", \"Default\", \"Default\", \"Default\", \"Default\", \"Default\", \"Default\", \"Default\", \"Default\", \"Default\", \"Topic1\", \"Topic1\", \"Topic1\", \"Topic1\", \"Topic1\", \"Topic1\", \"Topic1\", \"Topic1\", \"Topic1\", \"Topic1\", \"Topic1\", \"Topic1\", \"Topic1\", \"Topic1\", \"Topic1\", \"Topic1\", \"Topic1\", \"Topic1\", \"Topic1\", \"Topic1\", \"Topic1\", \"Topic1\", \"Topic1\", \"Topic1\", \"Topic1\", \"Topic1\", \"Topic1\", \"Topic1\", \"Topic1\", \"Topic1\", \"Topic1\", \"Topic1\", \"Topic1\", \"Topic1\", \"Topic1\", \"Topic1\", \"Topic1\", \"Topic1\", \"Topic1\", \"Topic1\", \"Topic1\", \"Topic1\", \"Topic1\", \"Topic1\", \"Topic2\", \"Topic2\", \"Topic2\", \"Topic2\", \"Topic2\", \"Topic2\", \"Topic2\", \"Topic2\", \"Topic2\", \"Topic2\", \"Topic2\", \"Topic2\", \"Topic2\", \"Topic2\", \"Topic2\", \"Topic2\", \"Topic2\", \"Topic2\", \"Topic2\", \"Topic2\", \"Topic2\", \"Topic2\", \"Topic2\", \"Topic2\", \"Topic2\", \"Topic2\", \"Topic2\", \"Topic2\", \"Topic2\", \"Topic2\", \"Topic2\", \"Topic2\", \"Topic2\", \"Topic2\", \"Topic2\", \"Topic2\", \"Topic2\", \"Topic2\", \"Topic2\", \"Topic2\", \"Topic2\", \"Topic2\", \"Topic3\", \"Topic3\", \"Topic3\", \"Topic3\", \"Topic3\", \"Topic3\", \"Topic3\", \"Topic3\", \"Topic3\", \"Topic3\", \"Topic3\", \"Topic3\", \"Topic3\", \"Topic3\", \"Topic3\", \"Topic3\", \"Topic3\", \"Topic3\", \"Topic3\", \"Topic3\", \"Topic3\", \"Topic3\", \"Topic3\", \"Topic3\", \"Topic3\", \"Topic3\", \"Topic3\", \"Topic3\", \"Topic3\", \"Topic3\", \"Topic3\", \"Topic3\", \"Topic3\", \"Topic3\", \"Topic3\", \"Topic3\", \"Topic3\", \"Topic4\", \"Topic4\", \"Topic4\", \"Topic4\", \"Topic4\", \"Topic4\", \"Topic4\", \"Topic4\", \"Topic4\", \"Topic4\", \"Topic4\", \"Topic4\", \"Topic4\", \"Topic4\", \"Topic4\", \"Topic4\", \"Topic4\", \"Topic4\", \"Topic4\", \"Topic4\", \"Topic4\", \"Topic4\", \"Topic4\", \"Topic4\", \"Topic4\", \"Topic4\", \"Topic4\", \"Topic4\", \"Topic4\", \"Topic4\", \"Topic4\", \"Topic4\", \"Topic4\", \"Topic4\", \"Topic4\", \"Topic4\", \"Topic4\", \"Topic4\", \"Topic4\", \"Topic4\", \"Topic4\", \"Topic4\"], \"logprob\": [30.0, 29.0, 28.0, 27.0, 26.0, 25.0, 24.0, 23.0, 22.0, 21.0, 20.0, 19.0, 18.0, 17.0, 16.0, 15.0, 14.0, 13.0, 12.0, 11.0, 10.0, 9.0, 8.0, 7.0, 6.0, 5.0, 4.0, 3.0, 2.0, 1.0, -3.3215, -3.7273, -3.7779, -3.7787, -4.0347, -4.0707, -3.6486, -4.4324, -4.3962, -4.4634, -4.5179, -4.5382, -4.6576, -4.7584, -4.8041, -4.9119, -4.9633, -5.0778, -5.1106, -5.1219, -5.2188, -5.283, -5.2395, -5.3132, -5.3449, -5.3691, -5.3591, -5.4636, -5.4382, -5.5501, -4.1362, -5.0847, -3.821, -4.0937, -3.649, -4.0889, -4.968, -4.7284, -4.7755, -4.258, -4.7226, -4.8989, -4.8481, -4.8752, -2.6186, -3.1596, -3.8025, -4.0197, -4.0493, -4.1291, -4.1439, -4.3533, -4.5244, -4.5703, -4.5653, -4.5757, -4.2862, -4.7213, -4.7563, -4.8652, -4.8723, -4.9045, -5.0649, -5.1432, -4.8139, -5.1711, -5.1377, -5.19, -5.237, -5.2821, -5.3186, -5.3297, -5.4523, -5.4696, -4.5472, -3.8607, -4.2982, -4.3317, -4.9331, -3.7743, -4.8034, -4.4811, -5.0437, -4.6781, -4.8015, -4.9357, -2.3621, -3.5293, -3.5819, -3.6036, -3.6544, -3.772, -4.0782, -4.35, -4.416, -4.4534, -4.5411, -4.5854, -4.6033, -4.6717, -4.9238, -5.043, -5.043, -5.1278, -5.1877, -5.1986, -5.2424, -5.2802, -5.2627, -5.2924, -5.4338, -5.4034, -5.4958, -5.4911, -5.5412, -5.6147, -2.5907, -4.3465, -4.7022, -4.3323, -5.1646, -5.1746, -5.1886, -3.0868, -3.2739, -3.592, -4.1506, -4.1597, -3.6546, -3.6445, -4.4185, -4.493, -4.618, -4.6202, -4.7325, -4.7706, -5.0494, -5.0657, -5.1052, -5.1567, -5.1646, -5.1752, -5.2434, -5.2552, -5.308, -5.3249, -5.45, -5.4597, -5.4792, -5.4792, -5.4603, -5.4947, -5.5351, -4.8216, -4.8655, -4.7228, -4.9799, -4.4368, -4.739, -4.5206, -4.8408, -4.9397, -5.0709, -5.1905, -5.1675], \"loglift\": [30.0, 29.0, 28.0, 27.0, 26.0, 25.0, 24.0, 23.0, 22.0, 21.0, 20.0, 19.0, 18.0, 17.0, 16.0, 15.0, 14.0, 13.0, 12.0, 11.0, 10.0, 9.0, 8.0, 7.0, 6.0, 5.0, 4.0, 3.0, 2.0, 1.0, 1.3107, 1.3086, 1.3083, 1.3083, 1.3064, 1.306, 1.3025, 1.3021, 1.3016, 1.301, 1.3009, 1.3006, 1.2975, 1.2969, 1.2964, 1.2942, 1.2932, 1.2906, 1.2897, 1.2894, 1.2872, 1.2851, 1.2849, 1.2843, 1.2827, 1.2826, 1.2824, 1.2789, 1.2784, 1.2759, 1.2736, 1.2613, 1.1209, 0.9392, 0.7163, 0.852, 1.1479, 0.9958, 0.827, 0.1752, 0.7037, 0.5431, 0.3367, 0.381, 1.3303, 1.3288, 1.3243, 1.3239, 1.3236, 1.323, 1.3228, 1.3201, 1.3183, 1.3176, 1.3176, 1.3175, 1.3174, 1.3152, 1.3147, 1.3128, 1.3126, 1.3111, 1.3082, 1.3058, 1.3056, 1.3052, 1.3051, 1.3049, 1.3034, 1.3023, 1.3009, 1.3008, 1.297, 1.296, 1.0902, 0.8888, 0.9169, 0.853, 1.0462, -0.0393, 0.84, -0.1159, 1.0241, -0.2449, 0.1395, 0.5063, 1.4365, 1.4325, 1.4322, 1.4321, 1.4317, 1.4308, 1.4283, 1.425, 1.4243, 1.4235, 1.4225, 1.4218, 1.4214, 1.4201, 1.4151, 1.4123, 1.4123, 1.4101, 1.4075, 1.4074, 1.4064, 1.4056, 1.4047, 1.4016, 1.4002, 1.4001, 1.3976, 1.3972, 1.3947, 1.3922, 1.1443, 0.403, 0.5751, 0.1009, 0.7749, 0.4271, 0.4139, 1.464, 1.4634, 1.4617, 1.4568, 1.4568, 1.4567, 1.4564, 1.4535, 1.452, 1.4502, 1.4502, 1.4482, 1.4476, 1.4407, 1.4399, 1.4392, 1.4379, 1.4375, 1.4375, 1.4354, 1.4346, 1.4326, 1.432, 1.428, 1.4275, 1.427, 1.4269, 1.4269, 1.4257, 1.4243, 1.2221, 1.2021, 0.9143, 0.9072, -0.0716, 0.2939, -0.0874, 0.3744, 0.3166, 0.3782, 0.7799, 0.3389]}, \"token.table\": {\"Topic\": [4, 1, 2, 3, 3, 2, 3, 3, 1, 1, 3, 4, 2, 3, 2, 2, 3, 1, 1, 2, 4, 2, 2, 4, 3, 1, 2, 1, 1, 2, 4, 1, 1, 1, 1, 2, 3, 2, 4, 2, 2, 2, 3, 2, 4, 3, 4, 1, 4, 3, 3, 1, 1, 2, 4, 2, 4, 2, 4, 4, 2, 1, 4, 3, 3, 2, 3, 1, 1, 4, 3, 4, 3, 1, 1, 4, 1, 2, 4, 3, 2, 4, 3, 4, 1, 1, 4, 1, 4, 1, 1, 3, 4, 4, 4, 3, 2, 4, 1, 2, 2, 1, 2, 3, 2, 4, 4, 2, 2, 3, 3, 1, 2, 4, 2, 4, 1, 2, 3, 3, 1, 2, 4, 2, 1, 2, 3, 2, 2, 4, 2, 1, 3, 3, 1, 2, 1, 1, 4, 1, 4, 1, 4, 3, 1, 4, 3, 3, 1, 2, 4, 3, 3, 1, 4, 1, 4, 2, 1, 1, 2, 2, 2, 1, 4, 4, 1, 2, 2, 1, 2, 3, 1, 2, 4, 1, 2, 3, 4, 2, 3, 4, 3, 2, 3, 1, 3, 1, 4, 3, 3, 4, 4, 1, 1, 4, 1, 4, 4], \"Freq\": [0.975577652123921, 0.9852459916232538, 0.9782492774820137, 0.9978410981017655, 0.9483787756343266, 0.25325317626751187, 0.7444108514529895, 0.9803118445566301, 0.9976923528930547, 0.8576055142696134, 0.13832347004348602, 0.9822328226449265, 0.7886883411281809, 0.20574478464213414, 0.9710774506995948, 0.9943753406728081, 0.9880797150552894, 0.997869091314227, 0.3550344100375694, 0.2982289044315583, 0.34083303363606665, 0.9727541339681167, 0.9650865114799935, 0.9573082986023108, 0.9741073895610719, 0.9895768001223876, 0.9723502500628551, 0.9907893623120918, 0.6322704444202897, 0.3075910270152761, 0.06835356155895024, 0.9455470846984577, 0.9836262560017134, 0.9825033941392501, 0.32291591914027873, 0.2631166748550419, 0.4185947099966576, 0.9591308453119163, 0.971479858334067, 0.9878427173392214, 0.9613128088058716, 0.9917353796117326, 0.9928212254099932, 0.9953814804714205, 0.954828003204573, 0.9631719271665751, 0.9573194502537437, 0.41812964128997393, 0.5721774038704907, 0.987036761473615, 0.9836980667853542, 0.9665190901810897, 0.5413599050083366, 0.18045330166944554, 0.2637394409014973, 0.9661075378588727, 0.9646646340756508, 0.9968806000284494, 0.9794343993510601, 0.9804340820681354, 0.991224119744658, 0.010026132358934155, 0.9925871035344813, 0.9782756450595875, 0.9711028093604656, 0.9536049527532366, 0.9711028087676075, 0.9615964599560958, 0.6838146183071822, 0.30912167676900015, 0.2059068870932929, 0.7721508265998485, 0.9957742520416195, 0.9584925008271097, 0.9855728084709708, 0.9823388479936311, 0.8210308419069252, 0.15394328285754846, 0.025657213809591413, 0.9863547479261834, 0.9894362270971271, 0.9806781540795126, 0.9354946505923376, 0.9755161407320575, 0.9692114841911353, 0.21088197160373842, 0.7644471470635518, 0.9567146322440121, 0.9741171453741427, 0.9566639386949344, 0.6126394357576375, 0.3642720969369736, 0.016557822588044255, 0.9906061058670987, 0.9817135333620345, 0.982983049069064, 0.9862150844840051, 0.9760055452513287, 0.37069478974590203, 0.6214589122210711, 0.9973717630370517, 0.4653683183303958, 0.43716417782552336, 0.09871449176705366, 0.9742065817736415, 0.9966659363493081, 0.9453980566500382, 0.9786900872447084, 0.998048397880905, 0.9928625153705011, 0.9681725409206333, 0.39818325297694773, 0.2927818036595204, 0.316204347952282, 0.6631708722374354, 0.3372055282563231, 0.24815523849624244, 0.3805046990275717, 0.3639610164611556, 0.9604871763230551, 0.9574080842123309, 0.41133659090787517, 0.5827268371194898, 0.9719243686511198, 0.9689044794492048, 0.6420563587616924, 0.35277821909983104, 0.9717751644318536, 0.9715350516784711, 0.9653383882950715, 0.9699266188473635, 0.9928354112558762, 0.9946246842753748, 0.9441065882630167, 0.9834632382789106, 0.9779259111094066, 0.9958951656941648, 0.9558238534142885, 0.04096387943204094, 0.9893777168031531, 0.9948512123887713, 0.9887330347943014, 0.9817807986872006, 0.9722935836357313, 0.9943840828195518, 0.9946120587093135, 0.9848926635645333, 0.970337041874655, 0.5477087616036493, 0.23541867823314752, 0.21620082694880896, 0.9422315235535738, 0.9899391218847992, 0.7293021942752516, 0.26180078768855186, 0.9865871975294591, 0.989718857073454, 0.9870240518660255, 0.9927138261113065, 0.37947914632103047, 0.6037168236925484, 0.9903354392772338, 0.9971412248870845, 0.9839479635558488, 0.008631122487332006, 0.975576840369813, 0.26367460108329666, 0.7382888830332306, 0.9781222387248149, 0.9827061639567184, 0.7481133692842502, 0.24132689331750007, 0.37600990039804993, 0.30080792031843995, 0.31584831633436194, 0.3188163441812323, 0.2056879639878918, 0.26225215408456204, 0.2108301630875891, 0.14352468386072803, 0.3348909290083654, 0.5023363935125481, 0.9926398337393849, 0.46386092508147986, 0.5102470175896279, 0.9871268558787748, 0.9583029533815653, 0.010130987460837019, 0.9928367711620278, 0.9977764794429482, 0.9644308164413342, 0.9485864520530366, 0.9276906331594078, 0.980726435461927, 0.9807782205688158, 0.9768037335804839, 0.94028886369502, 0.03482551347018593, 0.9781285731399584], \"Term\": [\"adaptability\", \"age\", \"ally\", \"ambition\", \"american\", \"antagonist\", \"antagonist\", \"anti\", \"antihero\", \"archetypal\", \"archetypal\", \"artistic\", \"authoritarian\", \"authoritarian\", \"authoritarianism\", \"authority\", \"betrayal\", \"bravery\", \"camaraderie\", \"camaraderie\", \"camaraderie\", \"capitalism\", \"caregiver\", \"change\", \"chaos\", \"class\", \"collaboration\", \"collective\", \"collectivism\", \"collectivism\", \"collectivism\", \"come\", \"communist\", \"community\", \"conflict\", \"conflict\", \"conflict\", \"conformity\", \"connection\", \"control\", \"cooperation\", \"corrupt\", \"corruption\", \"courage\", \"creativity\", \"crime\", \"critique\", \"cultural\", \"cultural\", \"cunne\", \"deception\", \"defiance\", \"determination\", \"determination\", \"determination\", \"discipline\", \"disillusionment\", \"duty\", \"eastern\", \"emotional\", \"enforcement\", \"everyman\", \"everyman\", \"exploitation\", \"fatale\", \"fear\", \"femme\", \"fighter\", \"freedom\", \"freedom\", \"friendship\", \"friendship\", \"greed\", \"guardian\", \"heroic\", \"heroine\", \"heroism\", \"heroism\", \"heroism\", \"honesty\", \"honor\", \"hope\", \"humor\", \"idealism\", \"idealist\", \"identity\", \"identity\", \"ideology\", \"independence\", \"individual\", \"individualism\", \"individualism\", \"individualism\", \"innocence\", \"innocent\", \"innovation\", \"integrity\", \"interest\", \"justice\", \"justice\", \"law\", \"leader\", \"leader\", \"leader\", \"leadership\", \"love\", \"lover\", \"loyal\", \"loyalty\", \"manipulation\", \"manipulative\", \"martyr\", \"martyr\", \"martyr\", \"mentor\", \"mentor\", \"moral\", \"moral\", \"moral\", \"naive\", \"noble\", \"nurture\", \"nurture\", \"officer\", \"oppressed\", \"oppression\", \"oppression\", \"oppressive\", \"order\", \"outsider\", \"patriotism\", \"perseverance\", \"power\", \"progress\", \"protagonist\", \"protector\", \"rebel\", \"rebellion\", \"rebellion\", \"redemption\", \"resilience\", \"resistance\", \"resourceful\", \"revenge\", \"revolutionary\", \"romantic\", \"ruthless\", \"ruthlessness\", \"sacrifice\", \"sacrifice\", \"sacrifice\", \"scientific\", \"scientist\", \"self\", \"self\", \"social\", \"societal\", \"soldier\", \"solidarity\", \"soviet\", \"soviet\", \"spy\", \"state\", \"struggle\", \"struggle\", \"suffer\", \"support\", \"support\", \"supportive\", \"teamwork\", \"tradition\", \"tradition\", \"traditional\", \"traditional\", \"traditional\", \"tragic\", \"tragic\", \"tragic\", \"tragic\", \"truth\", \"truth\", \"truth\", \"tyranny\", \"tyrant\", \"tyrant\", \"unity\", \"vengeance\", \"victim\", \"victim\", \"villain\", \"villainy\", \"vulnerability\", \"wise\", \"work\", \"worker\", \"young\", \"youth\", \"youth\", \"youthful\"]}, \"R\": 30, \"lambda.step\": 0.01, \"plot.opts\": {\"xlab\": \"PC1\", \"ylab\": \"PC2\"}, \"topic.order\": [3, 1, 4, 2]};\n",
       "\n",
       "function LDAvis_load_lib(url, callback){\n",
       "  var s = document.createElement('script');\n",
       "  s.src = url;\n",
       "  s.async = true;\n",
       "  s.onreadystatechange = s.onload = callback;\n",
       "  s.onerror = function(){console.warn(\"failed to load library \" + url);};\n",
       "  document.getElementsByTagName(\"head\")[0].appendChild(s);\n",
       "}\n",
       "\n",
       "if(typeof(LDAvis) !== \"undefined\"){\n",
       "   // already loaded: just create the visualization\n",
       "   !function(LDAvis){\n",
       "       new LDAvis(\"#\" + \"ldavis_el14165632420440981444268996299\", ldavis_el14165632420440981444268996299_data);\n",
       "   }(LDAvis);\n",
       "}else if(typeof define === \"function\" && define.amd){\n",
       "   // require.js is available: use it to load d3/LDAvis\n",
       "   require.config({paths: {d3: \"https://d3js.org/d3.v5\"}});\n",
       "   require([\"d3\"], function(d3){\n",
       "      window.d3 = d3;\n",
       "      LDAvis_load_lib(\"https://cdn.jsdelivr.net/gh/bmabey/pyLDAvis@3.4.0/pyLDAvis/js/ldavis.v3.0.0.js\", function(){\n",
       "        new LDAvis(\"#\" + \"ldavis_el14165632420440981444268996299\", ldavis_el14165632420440981444268996299_data);\n",
       "      });\n",
       "    });\n",
       "}else{\n",
       "    // require.js not available: dynamically load d3 & LDAvis\n",
       "    LDAvis_load_lib(\"https://d3js.org/d3.v5.js\", function(){\n",
       "         LDAvis_load_lib(\"https://cdn.jsdelivr.net/gh/bmabey/pyLDAvis@3.4.0/pyLDAvis/js/ldavis.v3.0.0.js\", function(){\n",
       "                 new LDAvis(\"#\" + \"ldavis_el14165632420440981444268996299\", ldavis_el14165632420440981444268996299_data);\n",
       "            })\n",
       "         });\n",
       "}\n",
       "</script>"
      ],
      "text/plain": [
       "<IPython.core.display.HTML object>"
      ]
     },
     "execution_count": 74,
     "metadata": {},
     "output_type": "execute_result"
    }
   ],
   "source": [
    "pyLDAvis.display(gensim_models.prepare(eastern_char_topic[0], eastern_char_topic[1], eastern_char_topic[2]))"
   ]
  },
  {
   "cell_type": "code",
   "execution_count": 75,
   "metadata": {},
   "outputs": [],
   "source": [
    "from empath import Empath\n",
    "lexicon = Empath()"
   ]
  },
  {
   "cell_type": "code",
   "execution_count": 76,
   "metadata": {},
   "outputs": [],
   "source": [
    "# print cat betweent 200 and 300\n",
    "#for cat in list(lexicon.cats.keys()):\n",
    "#    print(cat)"
   ]
  },
  {
   "cell_type": "code",
   "execution_count": 77,
   "metadata": {},
   "outputs": [
    {
     "name": "stdout",
     "output_type": "stream",
     "text": [
      "8243\n",
      "6471\n",
      "politics: 814\n",
      "leader: 1191\n",
      "military: 724\n",
      "heroic: 3896\n",
      "law: 948\n",
      "affection: 711\n",
      "help: 512\n",
      "pride: 1915\n",
      "family: 269\n",
      "love: 554\n",
      "power: 1097\n",
      "deception: 604\n",
      "friends: 359\n"
     ]
    },
    {
     "data": {
      "text/html": [
       "<div>\n",
       "<style scoped>\n",
       "    .dataframe tbody tr th:only-of-type {\n",
       "        vertical-align: middle;\n",
       "    }\n",
       "\n",
       "    .dataframe tbody tr th {\n",
       "        vertical-align: top;\n",
       "    }\n",
       "\n",
       "    .dataframe thead th {\n",
       "        text-align: right;\n",
       "    }\n",
       "</style>\n",
       "<table border=\"1\" class=\"dataframe\">\n",
       "  <thead>\n",
       "    <tr style=\"text-align: right;\">\n",
       "      <th></th>\n",
       "      <th>movie_side</th>\n",
       "      <th>title</th>\n",
       "      <th>year_release_date</th>\n",
       "      <th>character_name</th>\n",
       "      <th>character_representation</th>\n",
       "      <th>character_side</th>\n",
       "      <th>empath_analysis</th>\n",
       "    </tr>\n",
       "  </thead>\n",
       "  <tbody>\n",
       "    <tr>\n",
       "      <th>1654</th>\n",
       "      <td>Western</td>\n",
       "      <td>American Kickboxer</td>\n",
       "      <td>1991</td>\n",
       "      <td>B.J.</td>\n",
       "      <td>[justice and redemption, hero]</td>\n",
       "      <td>Western</td>\n",
       "      <td>{'heroic': 0.5}</td>\n",
       "    </tr>\n",
       "    <tr>\n",
       "      <th>8361</th>\n",
       "      <td>Western</td>\n",
       "      <td>First Family</td>\n",
       "      <td>1980</td>\n",
       "      <td>Longo</td>\n",
       "      <td>[the united nations ambassador from upper gorm...</td>\n",
       "      <td>Eastern</td>\n",
       "      <td>{'politics': 0.07692307692307693, 'leader': 0....</td>\n",
       "    </tr>\n",
       "    <tr>\n",
       "      <th>22482</th>\n",
       "      <td>Eastern</td>\n",
       "      <td>Svadba</td>\n",
       "      <td>1973</td>\n",
       "      <td>partisans</td>\n",
       "      <td>[resilience, unity, martyr archetype]</td>\n",
       "      <td>Eastern</td>\n",
       "      <td>{'pride': 0.25}</td>\n",
       "    </tr>\n",
       "    <tr>\n",
       "      <th>1653</th>\n",
       "      <td>Western</td>\n",
       "      <td>American Hot Wax</td>\n",
       "      <td>1978</td>\n",
       "      <td>Alan Freed</td>\n",
       "      <td>[values include promoting rock 'n' roll, youth...</td>\n",
       "      <td>Western</td>\n",
       "      <td>None</td>\n",
       "    </tr>\n",
       "    <tr>\n",
       "      <th>26747</th>\n",
       "      <td>Western</td>\n",
       "      <td>The Mouse That Roared</td>\n",
       "      <td>1959</td>\n",
       "      <td>Duchess Gloriana</td>\n",
       "      <td>[tully bascomb, values of diplomacy and peacef...</td>\n",
       "      <td>Western</td>\n",
       "      <td>{'politics': 0.08333333333333333, 'heroic': 0....</td>\n",
       "    </tr>\n",
       "    <tr>\n",
       "      <th>27262</th>\n",
       "      <td>None</td>\n",
       "      <td>The Prime of Miss Jean Brodie</td>\n",
       "      <td>1969</td>\n",
       "      <td>Miss Jean Brodie</td>\n",
       "      <td>[values manipulation and individualism, archet...</td>\n",
       "      <td>Eastern</td>\n",
       "      <td>None</td>\n",
       "    </tr>\n",
       "    <tr>\n",
       "      <th>28159</th>\n",
       "      <td>Eastern</td>\n",
       "      <td>The Story of a Murder</td>\n",
       "      <td>1965</td>\n",
       "      <td>Attractive young woman</td>\n",
       "      <td>[assassin archetype]</td>\n",
       "      <td>Eastern</td>\n",
       "      <td>None</td>\n",
       "    </tr>\n",
       "    <tr>\n",
       "      <th>6408</th>\n",
       "      <td>Western</td>\n",
       "      <td>Destry</td>\n",
       "      <td>1954</td>\n",
       "      <td>Phil Decker</td>\n",
       "      <td>[corruption, greed, villain]</td>\n",
       "      <td>Eastern</td>\n",
       "      <td>{'politics': 0.3333333333333333, 'deception': ...</td>\n",
       "    </tr>\n",
       "    <tr>\n",
       "      <th>13584</th>\n",
       "      <td>Eastern</td>\n",
       "      <td>Lenin Lived Here</td>\n",
       "      <td>1957</td>\n",
       "      <td>Lenin</td>\n",
       "      <td>[communist ideology, historical significance, ...</td>\n",
       "      <td>Eastern</td>\n",
       "      <td>{'politics': 0.5, 'heroic': 0.16666666666666666}</td>\n",
       "    </tr>\n",
       "    <tr>\n",
       "      <th>2548</th>\n",
       "      <td>Eastern</td>\n",
       "      <td>Baegdusan-eun boinda</td>\n",
       "      <td>1956</td>\n",
       "      <td>Korean partisans</td>\n",
       "      <td>[antiimperialism, resilience, martyr archetype]</td>\n",
       "      <td>Eastern</td>\n",
       "      <td>{'pride': 0.25}</td>\n",
       "    </tr>\n",
       "    <tr>\n",
       "      <th>921</th>\n",
       "      <td>Eastern</td>\n",
       "      <td>A byl li Karotin</td>\n",
       "      <td>1990</td>\n",
       "      <td>Soviet shipbuilding workers</td>\n",
       "      <td>[collectivism, loyalty]</td>\n",
       "      <td>Eastern</td>\n",
       "      <td>None</td>\n",
       "    </tr>\n",
       "    <tr>\n",
       "      <th>19429</th>\n",
       "      <td>Eastern</td>\n",
       "      <td>Reserviert für den Tod</td>\n",
       "      <td>1963</td>\n",
       "      <td>Erich Becker</td>\n",
       "      <td>[loyalty, conflict, tragic hero]</td>\n",
       "      <td>Western</td>\n",
       "      <td>{'heroic': 0.5}</td>\n",
       "    </tr>\n",
       "    <tr>\n",
       "      <th>18322</th>\n",
       "      <td>Eastern</td>\n",
       "      <td>Pod sozvezdiem bliznetsov</td>\n",
       "      <td>1979</td>\n",
       "      <td>Professor and his creation</td>\n",
       "      <td>[representing scientific advancement and explo...</td>\n",
       "      <td>Eastern</td>\n",
       "      <td>None</td>\n",
       "    </tr>\n",
       "    <tr>\n",
       "      <th>9902</th>\n",
       "      <td>Eastern</td>\n",
       "      <td>Hands Up!</td>\n",
       "      <td>1981</td>\n",
       "      <td>Doctors</td>\n",
       "      <td>[disillusionment with communism, critique of s...</td>\n",
       "      <td>Eastern</td>\n",
       "      <td>None</td>\n",
       "    </tr>\n",
       "    <tr>\n",
       "      <th>25934</th>\n",
       "      <td>Western</td>\n",
       "      <td>The King of the Kickboxers</td>\n",
       "      <td>1990</td>\n",
       "      <td>Khan</td>\n",
       "      <td>[villain, power, tyranny]</td>\n",
       "      <td>Eastern</td>\n",
       "      <td>{'politics': 0.3333333333333333, 'power': 0.33...</td>\n",
       "    </tr>\n",
       "    <tr>\n",
       "      <th>27784</th>\n",
       "      <td>Western</td>\n",
       "      <td>The Seduction of Joe Tynan</td>\n",
       "      <td>1979</td>\n",
       "      <td>Joe Tynan</td>\n",
       "      <td>[moral struggle, liberal values, protagonist]</td>\n",
       "      <td>Western</td>\n",
       "      <td>{'politics': 0.2, 'law': 0.2}</td>\n",
       "    </tr>\n",
       "    <tr>\n",
       "      <th>1187</th>\n",
       "      <td>Eastern</td>\n",
       "      <td>Adventure in Marienstadt</td>\n",
       "      <td>1954</td>\n",
       "      <td>Hanka</td>\n",
       "      <td>[empowerment, archetype of a strong female lead]</td>\n",
       "      <td>Eastern</td>\n",
       "      <td>None</td>\n",
       "    </tr>\n",
       "    <tr>\n",
       "      <th>21529</th>\n",
       "      <td>Western</td>\n",
       "      <td>Society</td>\n",
       "      <td>1989</td>\n",
       "      <td>Dr. Cleveland</td>\n",
       "      <td>[manipulation, conformism, archetype of the an...</td>\n",
       "      <td>Eastern</td>\n",
       "      <td>{'leader': 0.125, 'law': 0.125, 'power': 0.125}</td>\n",
       "    </tr>\n",
       "    <tr>\n",
       "      <th>7927</th>\n",
       "      <td>Eastern</td>\n",
       "      <td>Ezhavathu Manithan</td>\n",
       "      <td>1982</td>\n",
       "      <td>factory owners</td>\n",
       "      <td>[exploitation, hidden agendas, proletariat str...</td>\n",
       "      <td>Eastern</td>\n",
       "      <td>None</td>\n",
       "    </tr>\n",
       "    <tr>\n",
       "      <th>1067</th>\n",
       "      <td>Western</td>\n",
       "      <td>Above and Beyond</td>\n",
       "      <td>1952</td>\n",
       "      <td>Col. Paul W. Tibbets</td>\n",
       "      <td>[jr., values of duty and sacrifice, hero]</td>\n",
       "      <td>Western</td>\n",
       "      <td>{'leader': 0.14285714285714285, 'military': 0....</td>\n",
       "    </tr>\n",
       "  </tbody>\n",
       "</table>\n",
       "</div>"
      ],
      "text/plain": [
       "      movie_side                          title  year_release_date  \\\n",
       "1654     Western             American Kickboxer               1991   \n",
       "8361     Western                   First Family               1980   \n",
       "22482    Eastern                         Svadba               1973   \n",
       "1653     Western               American Hot Wax               1978   \n",
       "26747    Western          The Mouse That Roared               1959   \n",
       "27262       None  The Prime of Miss Jean Brodie               1969   \n",
       "28159    Eastern          The Story of a Murder               1965   \n",
       "6408     Western                         Destry               1954   \n",
       "13584    Eastern               Lenin Lived Here               1957   \n",
       "2548     Eastern           Baegdusan-eun boinda               1956   \n",
       "921      Eastern               A byl li Karotin               1990   \n",
       "19429    Eastern         Reserviert für den Tod               1963   \n",
       "18322    Eastern      Pod sozvezdiem bliznetsov               1979   \n",
       "9902     Eastern                      Hands Up!               1981   \n",
       "25934    Western     The King of the Kickboxers               1990   \n",
       "27784    Western     The Seduction of Joe Tynan               1979   \n",
       "1187     Eastern       Adventure in Marienstadt               1954   \n",
       "21529    Western                        Society               1989   \n",
       "7927     Eastern             Ezhavathu Manithan               1982   \n",
       "1067     Western               Above and Beyond               1952   \n",
       "\n",
       "                    character_name  \\\n",
       "1654                          B.J.   \n",
       "8361                         Longo   \n",
       "22482                    partisans   \n",
       "1653                    Alan Freed   \n",
       "26747             Duchess Gloriana   \n",
       "27262             Miss Jean Brodie   \n",
       "28159       Attractive young woman   \n",
       "6408                   Phil Decker   \n",
       "13584                        Lenin   \n",
       "2548              Korean partisans   \n",
       "921    Soviet shipbuilding workers   \n",
       "19429                 Erich Becker   \n",
       "18322   Professor and his creation   \n",
       "9902                       Doctors   \n",
       "25934                         Khan   \n",
       "27784                    Joe Tynan   \n",
       "1187                         Hanka   \n",
       "21529                Dr. Cleveland   \n",
       "7927                factory owners   \n",
       "1067          Col. Paul W. Tibbets   \n",
       "\n",
       "                                character_representation character_side  \\\n",
       "1654                      [justice and redemption, hero]        Western   \n",
       "8361   [the united nations ambassador from upper gorm...        Eastern   \n",
       "22482              [resilience, unity, martyr archetype]        Eastern   \n",
       "1653   [values include promoting rock 'n' roll, youth...        Western   \n",
       "26747  [tully bascomb, values of diplomacy and peacef...        Western   \n",
       "27262  [values manipulation and individualism, archet...        Eastern   \n",
       "28159                               [assassin archetype]        Eastern   \n",
       "6408                        [corruption, greed, villain]        Eastern   \n",
       "13584  [communist ideology, historical significance, ...        Eastern   \n",
       "2548     [antiimperialism, resilience, martyr archetype]        Eastern   \n",
       "921                              [collectivism, loyalty]        Eastern   \n",
       "19429                   [loyalty, conflict, tragic hero]        Western   \n",
       "18322  [representing scientific advancement and explo...        Eastern   \n",
       "9902   [disillusionment with communism, critique of s...        Eastern   \n",
       "25934                          [villain, power, tyranny]        Eastern   \n",
       "27784      [moral struggle, liberal values, protagonist]        Western   \n",
       "1187    [empowerment, archetype of a strong female lead]        Eastern   \n",
       "21529  [manipulation, conformism, archetype of the an...        Eastern   \n",
       "7927   [exploitation, hidden agendas, proletariat str...        Eastern   \n",
       "1067           [jr., values of duty and sacrifice, hero]        Western   \n",
       "\n",
       "                                         empath_analysis  \n",
       "1654                                     {'heroic': 0.5}  \n",
       "8361   {'politics': 0.07692307692307693, 'leader': 0....  \n",
       "22482                                    {'pride': 0.25}  \n",
       "1653                                                None  \n",
       "26747  {'politics': 0.08333333333333333, 'heroic': 0....  \n",
       "27262                                               None  \n",
       "28159                                               None  \n",
       "6408   {'politics': 0.3333333333333333, 'deception': ...  \n",
       "13584   {'politics': 0.5, 'heroic': 0.16666666666666666}  \n",
       "2548                                     {'pride': 0.25}  \n",
       "921                                                 None  \n",
       "19429                                    {'heroic': 0.5}  \n",
       "18322                                               None  \n",
       "9902                                                None  \n",
       "25934  {'politics': 0.3333333333333333, 'power': 0.33...  \n",
       "27784                      {'politics': 0.2, 'law': 0.2}  \n",
       "1187                                                None  \n",
       "21529    {'leader': 0.125, 'law': 0.125, 'power': 0.125}  \n",
       "7927                                                None  \n",
       "1067   {'leader': 0.14285714285714285, 'military': 0....  "
      ]
     },
     "execution_count": 77,
     "metadata": {},
     "output_type": "execute_result"
    }
   ],
   "source": [
    "# Define the categories for analysis\n",
    "categories = ['politics', 'leader', 'military', 'heroic', 'law', 'affection', \n",
    "              'help', 'pride', 'family', 'love', 'power', 'deception', 'friends']\n",
    "\n",
    "# Function to analyze text\n",
    "def analyze_text(text, categories):\n",
    "    analysis = lexicon.analyze(text, categories=categories, normalize=True)\n",
    "    # keep only the category with the highest value and if all values are 0, return None\n",
    "    if max(analysis.values()) == 0:\n",
    "        return None\n",
    "    else:\n",
    "        return {k: v for k, v in analysis.items() if v != 0}\n",
    "\n",
    "# Apply the analysis to each row\n",
    "character_df['empath_analysis'] = character_df['character_representation'].apply(lambda x: analyze_text(' '.join(x), categories))\n",
    "\n",
    "print(len(character_df['empath_analysis']))\n",
    "print(character_df['empath_analysis'].apply(lambda x: x is not None).sum())\n",
    "\n",
    "for cat in categories:\n",
    "    cat_count = character_df['empath_analysis'].apply(lambda x: x is not None and cat in x.keys()).sum()\n",
    "    if cat_count > 200:\n",
    "        print(f'{cat}: {cat_count}')\n",
    "\n",
    "character_df.sample(20)"
   ]
  },
  {
   "cell_type": "code",
   "execution_count": 78,
   "metadata": {},
   "outputs": [
    {
     "data": {
      "image/png": "[encoded data removed]",
      "text/plain": [
       "<Figure size 1400x800 with 1 Axes>"
      ]
     },
     "metadata": {},
     "output_type": "display_data"
    }
   ],
   "source": [
    "import matplotlib.pyplot as plt\n",
    "import seaborn as sns\n",
    "\n",
    "character_df = character_df.dropna(subset=['empath_analysis'])\n",
    "\n",
    "# Define groups of similar topics\n",
    "topic_groups = {\n",
    "    'love&affection': ['love', 'affection', 'family', 'friends'],\n",
    "    'politics&power': ['politics', 'leader', 'military', 'power'],\n",
    "}\n",
    "\n",
    "# Map each original topic to a new group\n",
    "def map_topic_to_group(topic):\n",
    "    for group, topics in topic_groups.items():\n",
    "        if topic in topics:\n",
    "            return group\n",
    "    return topic  # If no group is found, return the topic itself\n",
    "\n",
    "# Extract unique topics across all rows in the 'empath_analysis' column\n",
    "empath_topics = set()\n",
    "for entry in character_df['empath_analysis']:\n",
    "    empath_topics.update(entry.keys())\n",
    "\n",
    "# Create a new DataFrame to track topic proportions across years\n",
    "topic_years = {topic: [] for topic in empath_topics}\n",
    "topic_years['year'] = []\n",
    "\n",
    "for year in sorted(character_df['year_release_date'].dropna().unique()):\n",
    "    year_data = character_df[character_df['year_release_date'] == year]['empath_analysis']\n",
    "    aggregated = {topic: 0 for topic in empath_topics}\n",
    "    count = len(year_data)\n",
    "    for entry in year_data:\n",
    "        for topic, value in entry.items():\n",
    "            aggregated[topic] += value\n",
    "    if count > 0:\n",
    "        for topic in aggregated:\n",
    "            aggregated[topic] /= count\n",
    "    for topic, value in aggregated.items():\n",
    "        topic_years[topic].append(value)\n",
    "    topic_years['year'].append(year)\n",
    "\n",
    "topic_years_df = pd.DataFrame(topic_years)\n",
    "\n",
    "# Melt the DataFrame for easier plotting\n",
    "melted = topic_years_df.melt(id_vars=['year'], var_name='topic', value_name='proportion')\n",
    "\n",
    "# Apply the grouping to the topics\n",
    "melted['grouped_topic'] = melted['topic'].apply(map_topic_to_group)\n",
    "grouped_melted = melted.groupby(['year', 'grouped_topic'], as_index=False).agg({'proportion': 'sum'})\n",
    "\n",
    "# Plot the evolution of grouped empath topics over the years\n",
    "plt.figure(figsize=(14, 8))\n",
    "sns.lineplot(data=grouped_melted, x='year', y='proportion', hue='grouped_topic')\n",
    "plt.title('Evolution of Grouped Empath Topics Across Years', fontsize=16)\n",
    "plt.xlabel('Year of Release', fontsize=14)\n",
    "plt.ylabel('Average Proportion', fontsize=14)\n",
    "plt.legend(bbox_to_anchor=(1.05, 1), loc='upper left', title='Grouped Empath Topics')\n",
    "plt.tight_layout()\n",
    "plt.show()"
   ]
  },
  {
   "cell_type": "code",
   "execution_count": 79,
   "metadata": {},
   "outputs": [
    {
     "data": {
      "application/vnd.plotly.v1+json": {
       "config": {
        "plotlyServerURL": "https://plot.ly"
       },
       "data": [
        {
         "name": "Year 1945",
         "type": "bar",
         "visible": true,
         "x": [
          "deception",
          "help",
          "heroic",
          "law",
          "love&affection",
          "politics&power",
          "pride"
         ],
         "y": [
          0.005555555555555556,
          0.02378012933568489,
          0.22371198760087643,
          0.01650989613952577,
          0.050759802611654456,
          0.11656868508720361,
          0.11426611796982167
         ]
        },
        {
         "name": "Year 1946",
         "type": "bar",
         "visible": false,
         "x": [
          "deception",
          "help",
          "heroic",
          "law",
          "love&affection",
          "politics&power",
          "pride"
         ],
         "y": [
          0.02702702702702703,
          0.023273273273273276,
          0.17755791505791502,
          0.03375697125697126,
          0.09596203346203346,
          0.15266516516516515,
          0.07435649935649936
         ]
        },
        {
         "name": "Year 1947",
         "type": "bar",
         "visible": false,
         "x": [
          "deception",
          "help",
          "heroic",
          "law",
          "love&affection",
          "politics&power",
          "pride"
         ],
         "y": [
          0.01984126984126984,
          0.021145983645983645,
          0.1986892736892737,
          0.056962481962481964,
          0.04686147186147186,
          0.08103054353054354,
          0.086002886002886
         ]
        },
        {
         "name": "Year 1948",
         "type": "bar",
         "visible": false,
         "x": [
          "deception",
          "help",
          "heroic",
          "law",
          "love&affection",
          "politics&power",
          "pride"
         ],
         "y": [
          0.024907235621521334,
          0.012337662337662337,
          0.1719593898165326,
          0.026381158524015666,
          0.08428674500103073,
          0.07352092352092351,
          0.09340342197485055
         ]
        },
        {
         "name": "Year 1949",
         "type": "bar",
         "visible": false,
         "x": [
          "deception",
          "help",
          "heroic",
          "law",
          "love&affection",
          "politics&power",
          "pride"
         ],
         "y": [
          0.026789622414622412,
          0.009093915343915345,
          0.1518127705627705,
          0.03009920634920635,
          0.06336459836459837,
          0.0836550024050024,
          0.06748376623376624
         ]
        },
        {
         "name": "Year 1950",
         "type": "bar",
         "visible": false,
         "x": [
          "deception",
          "help",
          "heroic",
          "law",
          "love&affection",
          "politics&power",
          "pride"
         ],
         "y": [
          0.022536539368222537,
          0.026107967939651106,
          0.18345941737030838,
          0.05312352663837813,
          0.05733537639478233,
          0.1835194233709085,
          0.074002043061449
         ]
        },
        {
         "name": "Year 1951",
         "type": "bar",
         "visible": false,
         "x": [
          "deception",
          "help",
          "heroic",
          "law",
          "love&affection",
          "politics&power",
          "pride"
         ],
         "y": [
          0.02168284789644013,
          0.014778856526429341,
          0.18485548970985857,
          0.05357142857142858,
          0.0671636615811373,
          0.14817383263985207,
          0.09045307443365694
         ]
        },
        {
         "name": "Year 1952",
         "type": "bar",
         "visible": false,
         "x": [
          "deception",
          "help",
          "heroic",
          "law",
          "love&affection",
          "politics&power",
          "pride"
         ],
         "y": [
          0.0299187892211148,
          0.017466749443493627,
          0.20164686734454174,
          0.03293986375381724,
          0.031007751937984496,
          0.1290578284764331,
          0.07647040728436075
         ]
        },
        {
         "name": "Year 1953",
         "type": "bar",
         "visible": false,
         "x": [
          "deception",
          "help",
          "heroic",
          "law",
          "love&affection",
          "politics&power",
          "pride"
         ],
         "y": [
          0.01946248196248196,
          0.024723424723424724,
          0.1957305531169167,
          0.02953370282915737,
          0.06347703222703223,
          0.14531461804189075,
          0.07801535585626494
         ]
        },
        {
         "name": "Year 1954",
         "type": "bar",
         "visible": false,
         "x": [
          "deception",
          "help",
          "heroic",
          "law",
          "love&affection",
          "politics&power",
          "pride"
         ],
         "y": [
          0.0346945646945647,
          0.019438832772166105,
          0.1656092672759339,
          0.03164021164021164,
          0.05441264496820053,
          0.10056382538838679,
          0.05523836246058469
         ]
        },
        {
         "name": "Year 1955",
         "type": "bar",
         "visible": false,
         "x": [
          "deception",
          "help",
          "heroic",
          "law",
          "love&affection",
          "politics&power",
          "pride"
         ],
         "y": [
          0.029070308346624135,
          0.017387218045112778,
          0.178501651856915,
          0.034419619123566496,
          0.04243753322700691,
          0.11258354218880536,
          0.08124477861319966
         ]
        },
        {
         "name": "Year 1956",
         "type": "bar",
         "visible": false,
         "x": [
          "deception",
          "help",
          "heroic",
          "law",
          "love&affection",
          "politics&power",
          "pride"
         ],
         "y": [
          0.014232209737827716,
          0.016646805129951196,
          0.1894817573188359,
          0.03869777226518801,
          0.051253506169236504,
          0.1343714649894425,
          0.06918401511098139
         ]
        },
        {
         "name": "Year 1957",
         "type": "bar",
         "visible": false,
         "x": [
          "deception",
          "help",
          "heroic",
          "law",
          "love&affection",
          "politics&power",
          "pride"
         ],
         "y": [
          0.021544401544401546,
          0.017904392904392906,
          0.18163720663720662,
          0.0326063726063726,
          0.07719114219114219,
          0.13559572559572558,
          0.0873955023955024
         ]
        },
        {
         "name": "Year 1958",
         "type": "bar",
         "visible": false,
         "x": [
          "deception",
          "help",
          "heroic",
          "law",
          "love&affection",
          "politics&power",
          "pride"
         ],
         "y": [
          0.03412892934951759,
          0.01780267662620604,
          0.2027894491129787,
          0.03714048750813457,
          0.047414799253034545,
          0.13232199445434742,
          0.07092086834733892
         ]
        },
        {
         "name": "Year 1959",
         "type": "bar",
         "visible": false,
         "x": [
          "deception",
          "help",
          "heroic",
          "law",
          "love&affection",
          "politics&power",
          "pride"
         ],
         "y": [
          0.02378167641325536,
          0.027627148679780257,
          0.17148394977342338,
          0.035412816553167435,
          0.06696454942068977,
          0.13162135135819344,
          0.08444765111431775
         ]
        },
        {
         "name": "Year 1960",
         "type": "bar",
         "visible": false,
         "x": [
          "deception",
          "help",
          "heroic",
          "law",
          "love&affection",
          "politics&power",
          "pride"
         ],
         "y": [
          0.017901234567901235,
          0.01905588624338624,
          0.19704801371468034,
          0.009209656084656084,
          0.07238587030253699,
          0.10955687830687832,
          0.08956955467372135
         ]
        },
        {
         "name": "Year 1961",
         "type": "bar",
         "visible": false,
         "x": [
          "deception",
          "help",
          "heroic",
          "law",
          "love&affection",
          "politics&power",
          "pride"
         ],
         "y": [
          0.016607438995498696,
          0.015556147832267237,
          0.17389453960545867,
          0.02406420279554608,
          0.08749092946854141,
          0.1395583741125768,
          0.06917682888814074
         ]
        },
        {
         "name": "Year 1962",
         "type": "bar",
         "visible": false,
         "x": [
          "deception",
          "help",
          "heroic",
          "law",
          "love&affection",
          "politics&power",
          "pride"
         ],
         "y": [
          0.009760216143194866,
          0.02754981425194191,
          0.1856638830043085,
          0.04629348193177981,
          0.05442206532632064,
          0.15614657210401894,
          0.06698750422154677
         ]
        },
        {
         "name": "Year 1963",
         "type": "bar",
         "visible": false,
         "x": [
          "deception",
          "help",
          "heroic",
          "law",
          "love&affection",
          "politics&power",
          "pride"
         ],
         "y": [
          0.027842482022048587,
          0.013480392156862746,
          0.18833500377618015,
          0.03551833013907317,
          0.05452668246785893,
          0.18837105017445574,
          0.06081190051778288
         ]
        },
        {
         "name": "Year 1964",
         "type": "bar",
         "visible": false,
         "x": [
          "deception",
          "help",
          "heroic",
          "law",
          "love&affection",
          "politics&power",
          "pride"
         ],
         "y": [
          0.03603448275862068,
          0.01616584564860427,
          0.22288500771259384,
          0.0230575678547281,
          0.041144698213663726,
          0.13497690612295077,
          0.04174329501915709
         ]
        },
        {
         "name": "Year 1965",
         "type": "bar",
         "visible": false,
         "x": [
          "deception",
          "help",
          "heroic",
          "law",
          "love&affection",
          "politics&power",
          "pride"
         ],
         "y": [
          0.03287202380952381,
          0.023130411255411255,
          0.18525875166500155,
          0.026401919159272102,
          0.061124546409472874,
          0.1324520077553166,
          0.06895614801864801
         ]
        },
        {
         "name": "Year 1966",
         "type": "bar",
         "visible": false,
         "x": [
          "deception",
          "help",
          "heroic",
          "law",
          "love&affection",
          "politics&power",
          "pride"
         ],
         "y": [
          0.024610136452241718,
          0.016456112370239796,
          0.17978953008962237,
          0.027202329833908787,
          0.05888268651426547,
          0.14886162365386746,
          0.0661554870696145
         ]
        },
        {
         "name": "Year 1967",
         "type": "bar",
         "visible": false,
         "x": [
          "deception",
          "help",
          "heroic",
          "law",
          "love&affection",
          "politics&power",
          "pride"
         ],
         "y": [
          0.030511463844797172,
          0.013594944150499704,
          0.165691972636417,
          0.02643787967862042,
          0.051628943758573395,
          0.12706175854324003,
          0.05583725259651184
         ]
        },
        {
         "name": "Year 1968",
         "type": "bar",
         "visible": false,
         "x": [
          "deception",
          "help",
          "heroic",
          "law",
          "love&affection",
          "politics&power",
          "pride"
         ],
         "y": [
          0.027495146739751054,
          0.013229416466826538,
          0.17379996690195584,
          0.03592840013703324,
          0.06621056096299431,
          0.1028619961173918,
          0.06883064976590159
         ]
        },
        {
         "name": "Year 1969",
         "type": "bar",
         "visible": false,
         "x": [
          "deception",
          "help",
          "heroic",
          "law",
          "love&affection",
          "politics&power",
          "pride"
         ],
         "y": [
          0.023398626590115955,
          0.0253236519193966,
          0.21858033613352756,
          0.03112405718788698,
          0.07233717818824202,
          0.15536699313295055,
          0.07974501857480579
         ]
        },
        {
         "name": "Year 1970",
         "type": "bar",
         "visible": false,
         "x": [
          "deception",
          "help",
          "heroic",
          "law",
          "love&affection",
          "politics&power",
          "pride"
         ],
         "y": [
          0.034493561993561996,
          0.01899267399267399,
          0.18722277722277716,
          0.025900765900765902,
          0.058836996336996336,
          0.16821955821955822,
          0.08054057054057055
         ]
        },
        {
         "name": "Year 1971",
         "type": "bar",
         "visible": false,
         "x": [
          "deception",
          "help",
          "heroic",
          "law",
          "love&affection",
          "politics&power",
          "pride"
         ],
         "y": [
          0.02136370573870574,
          0.022596153846153853,
          0.16708291708291703,
          0.04747405372405373,
          0.05342365967365967,
          0.171246114996115,
          0.060596001221001235
         ]
        },
        {
         "name": "Year 1972",
         "type": "bar",
         "visible": false,
         "x": [
          "deception",
          "help",
          "heroic",
          "law",
          "love&affection",
          "politics&power",
          "pride"
         ],
         "y": [
          0.027893456405853098,
          0.01818181818181818,
          0.1743941779065746,
          0.02795546969100688,
          0.0465564738292011,
          0.14826571500125219,
          0.0771418434641575
         ]
        },
        {
         "name": "Year 1973",
         "type": "bar",
         "visible": false,
         "x": [
          "deception",
          "help",
          "heroic",
          "law",
          "love&affection",
          "politics&power",
          "pride"
         ],
         "y": [
          0.03603864734299517,
          0.01703933747412008,
          0.13406142167011734,
          0.04975531714662151,
          0.07047619047619048,
          0.14380732793776274,
          0.07889579020013801
         ]
        },
        {
         "name": "Year 1974",
         "type": "bar",
         "visible": false,
         "x": [
          "deception",
          "help",
          "heroic",
          "law",
          "love&affection",
          "politics&power",
          "pride"
         ],
         "y": [
          0.020248357963875207,
          0.01483990147783251,
          0.20750366238449391,
          0.027524630541871927,
          0.06690009337068159,
          0.11504515599343185,
          0.058443918319678975
         ]
        },
        {
         "name": "Year 1975",
         "type": "bar",
         "visible": false,
         "x": [
          "deception",
          "help",
          "heroic",
          "law",
          "love&affection",
          "politics&power",
          "pride"
         ],
         "y": [
          0.03218888391302185,
          0.016666666666666666,
          0.14411603721948546,
          0.040209359605911335,
          0.06388142508832165,
          0.13388606923089683,
          0.06713688610240333
         ]
        },
        {
         "name": "Year 1976",
         "type": "bar",
         "visible": false,
         "x": [
          "deception",
          "help",
          "heroic",
          "law",
          "love&affection",
          "politics&power",
          "pride"
         ],
         "y": [
          0.032835726883345934,
          0.011914782748116082,
          0.1516574474907808,
          0.029850088183421518,
          0.07060185185185186,
          0.09681451705261229,
          0.0476854714949953
         ]
        },
        {
         "name": "Year 1977",
         "type": "bar",
         "visible": false,
         "x": [
          "deception",
          "help",
          "heroic",
          "law",
          "love&affection",
          "politics&power",
          "pride"
         ],
         "y": [
          0.02442459038203719,
          0.011893071467539552,
          0.1765295579125366,
          0.03459117714436863,
          0.060725543172351695,
          0.128491839130137,
          0.062461573099870965
         ]
        },
        {
         "name": "Year 1978",
         "type": "bar",
         "visible": false,
         "x": [
          "deception",
          "help",
          "heroic",
          "law",
          "love&affection",
          "politics&power",
          "pride"
         ],
         "y": [
          0.03783783783783784,
          0.01463963963963964,
          0.18660693660693659,
          0.034427284427284426,
          0.05953453453453454,
          0.10743490743490744,
          0.0641891891891892
         ]
        },
        {
         "name": "Year 1979",
         "type": "bar",
         "visible": false,
         "x": [
          "deception",
          "help",
          "heroic",
          "law",
          "love&affection",
          "politics&power",
          "pride"
         ],
         "y": [
          0.02038581856100104,
          0.012773722627737226,
          0.1831921930462076,
          0.03909120077003289,
          0.05691139760482826,
          0.14116736872211325,
          0.06909133040519899
         ]
        },
        {
         "name": "Year 1980",
         "type": "bar",
         "visible": false,
         "x": [
          "deception",
          "help",
          "heroic",
          "law",
          "love&affection",
          "politics&power",
          "pride"
         ],
         "y": [
          0.02524928774928775,
          0.01705246913580247,
          0.1754796643685532,
          0.02638354443909999,
          0.08699746755302311,
          0.09411683995017328,
          0.057918136390358615
         ]
        },
        {
         "name": "Year 1981",
         "type": "bar",
         "visible": false,
         "x": [
          "deception",
          "help",
          "heroic",
          "law",
          "love&affection",
          "politics&power",
          "pride"
         ],
         "y": [
          0.014831804281345565,
          0.01401630988786952,
          0.143608430305678,
          0.036745237433310825,
          0.04560645776242106,
          0.13322974171598026,
          0.06067092947826894
         ]
        },
        {
         "name": "Year 1982",
         "type": "bar",
         "visible": false,
         "x": [
          "deception",
          "help",
          "heroic",
          "law",
          "love&affection",
          "politics&power",
          "pride"
         ],
         "y": [
          0.013209056232312047,
          0.02553832902670112,
          0.17552294819736677,
          0.035406669127599356,
          0.05091501951967069,
          0.12102204427785825,
          0.06506118773560635
         ]
        },
        {
         "name": "Year 1983",
         "type": "bar",
         "visible": false,
         "x": [
          "deception",
          "help",
          "heroic",
          "law",
          "love&affection",
          "politics&power",
          "pride"
         ],
         "y": [
          0.016884920634920635,
          0.016431663574520715,
          0.14808088736660155,
          0.05328823953823955,
          0.041108871287442714,
          0.13420068027210885,
          0.0827693536622108
         ]
        },
        {
         "name": "Year 1984",
         "type": "bar",
         "visible": false,
         "x": [
          "deception",
          "help",
          "heroic",
          "law",
          "love&affection",
          "politics&power",
          "pride"
         ],
         "y": [
          0.018073102256775726,
          0.014399092970521542,
          0.16126571840857554,
          0.04179825892336984,
          0.09680409964349626,
          0.15093148495987896,
          0.051488156590197405
         ]
        },
        {
         "name": "Year 1985",
         "type": "bar",
         "visible": false,
         "x": [
          "deception",
          "help",
          "heroic",
          "law",
          "love&affection",
          "politics&power",
          "pride"
         ],
         "y": [
          0.03665739022881881,
          0.013662131519274376,
          0.17955754562897414,
          0.031796747624669705,
          0.07433308033957386,
          0.13020405820730496,
          0.07865412005022396
         ]
        },
        {
         "name": "Year 1986",
         "type": "bar",
         "visible": false,
         "x": [
          "deception",
          "help",
          "heroic",
          "law",
          "love&affection",
          "politics&power",
          "pride"
         ],
         "y": [
          0.024025018395879325,
          0.012098828323993886,
          0.19403183857697617,
          0.025205221562837457,
          0.043120693643523895,
          0.11424102600470674,
          0.07282665825712183
         ]
        },
        {
         "name": "Year 1987",
         "type": "bar",
         "visible": false,
         "x": [
          "deception",
          "help",
          "heroic",
          "law",
          "love&affection",
          "politics&power",
          "pride"
         ],
         "y": [
          0.025625,
          0.02525838744588745,
          0.15280055014430005,
          0.03936755952380953,
          0.0858528363997114,
          0.11801120754245754,
          0.0684034541847042
         ]
        },
        {
         "name": "Year 1988",
         "type": "bar",
         "visible": false,
         "x": [
          "deception",
          "help",
          "heroic",
          "law",
          "love&affection",
          "politics&power",
          "pride"
         ],
         "y": [
          0.038283084436930584,
          0.016344979806518264,
          0.14620279457557558,
          0.030978209824363678,
          0.057540946890059314,
          0.11607025453179301,
          0.08177186061801446
         ]
        },
        {
         "name": "Year 1989",
         "type": "bar",
         "visible": false,
         "x": [
          "deception",
          "help",
          "heroic",
          "law",
          "love&affection",
          "politics&power",
          "pride"
         ],
         "y": [
          0.023445143256464008,
          0.013661774982529701,
          0.173314124729219,
          0.04901667165818109,
          0.04018380291965197,
          0.1244761178723443,
          0.06600740279985562
         ]
        },
        {
         "name": "Year 1990",
         "type": "bar",
         "visible": false,
         "x": [
          "deception",
          "help",
          "heroic",
          "law",
          "love&affection",
          "politics&power",
          "pride"
         ],
         "y": [
          0.029577513723855184,
          0.006187895212285456,
          0.1816493353078719,
          0.045437917998893615,
          0.039835909348104465,
          0.14926299987275596,
          0.06598846050065564
         ]
        },
        {
         "name": "Year 1991",
         "type": "bar",
         "visible": false,
         "x": [
          "deception",
          "help",
          "heroic",
          "law",
          "love&affection",
          "politics&power",
          "pride"
         ],
         "y": [
          0.02998015873015873,
          0.017505411255411253,
          0.17103292540792536,
          0.017934704184704185,
          0.05513933982683983,
          0.08480068542568543,
          0.06070856227106227
         ]
        },
        {
         "name": "Year 1992",
         "type": "bar",
         "visible": false,
         "x": [
          "deception",
          "help",
          "heroic",
          "law",
          "love&affection",
          "politics&power",
          "pride"
         ],
         "y": [
          0.027344462689290274,
          0.01798941798941799,
          0.16799435070226143,
          0.03301334680645026,
          0.05913652120548672,
          0.12458202716823406,
          0.0814351676420642
         ]
        },
        {
         "name": "Year 1993",
         "type": "bar",
         "visible": false,
         "x": [
          "deception",
          "help",
          "heroic",
          "law",
          "love&affection",
          "politics&power",
          "pride"
         ],
         "y": [
          0.04526190476190476,
          0.0105,
          0.16302128427128423,
          0.03987085137085136,
          0.030266233766233767,
          0.10527232854864434,
          0.032024531024531025
         ]
        },
        {
         "name": "Year 1994",
         "type": "bar",
         "visible": false,
         "x": [
          "deception",
          "help",
          "heroic",
          "law",
          "love&affection",
          "politics&power",
          "pride"
         ],
         "y": [
          0.04689832270477433,
          0.019666325311486602,
          0.1604415894738475,
          0.025026377445732283,
          0.02731811199553135,
          0.07953730856956664,
          0.06579233192136417
         ]
        },
        {
         "name": "Year 1995",
         "type": "bar",
         "visible": false,
         "x": [
          "deception",
          "help",
          "heroic",
          "law",
          "love&affection",
          "politics&power",
          "pride"
         ],
         "y": [
          0,
          0.01798941798941799,
          0.19721789950548121,
          0.06629923574368018,
          0.03487654320987654,
          0.15630079192170696,
          0.08349846111284022
         ]
        }
       ],
       "layout": {
        "barmode": "group",
        "legend": {
         "title": {
          "text": "Year"
         }
        },
        "sliders": [
         {
          "active": 0,
          "currentvalue": {
           "prefix": "Year: "
          },
          "pad": {
           "t": 50
          },
          "steps": [
           {
            "args": [
             {
              "visible": [
               true,
               false,
               false,
               false,
               false,
               false,
               false,
               false,
               false,
               false,
               false,
               false,
               false,
               false,
               false,
               false,
               false,
               false,
               false,
               false,
               false,
               false,
               false,
               false,
               false,
               false,
               false,
               false,
               false,
               false,
               false,
               false,
               false,
               false,
               false,
               false,
               false,
               false,
               false,
               false,
               false,
               false,
               false,
               false,
               false,
               false,
               false,
               false,
               false,
               false,
               false
              ]
             },
             {
              "title": "Empath Topic Proportions for Year: 1945"
             }
            ],
            "label": "1945",
            "method": "update"
           },
           {
            "args": [
             {
              "visible": [
               false,
               true,
               false,
               false,
               false,
               false,
               false,
               false,
               false,
               false,
               false,
               false,
               false,
               false,
               false,
               false,
               false,
               false,
               false,
               false,
               false,
               false,
               false,
               false,
               false,
               false,
               false,
               false,
               false,
               false,
               false,
               false,
               false,
               false,
               false,
               false,
               false,
               false,
               false,
               false,
               false,
               false,
               false,
               false,
               false,
               false,
               false,
               false,
               false,
               false,
               false
              ]
             },
             {
              "title": "Empath Topic Proportions for Year: 1946"
             }
            ],
            "label": "1946",
            "method": "update"
           },
           {
            "args": [
             {
              "visible": [
               false,
               false,
               true,
               false,
               false,
               false,
               false,
               false,
               false,
               false,
               false,
               false,
               false,
               false,
               false,
               false,
               false,
               false,
               false,
               false,
               false,
               false,
               false,
               false,
               false,
               false,
               false,
               false,
               false,
               false,
               false,
               false,
               false,
               false,
               false,
               false,
               false,
               false,
               false,
               false,
               false,
               false,
               false,
               false,
               false,
               false,
               false,
               false,
               false,
               false,
               false
              ]
             },
             {
              "title": "Empath Topic Proportions for Year: 1947"
             }
            ],
            "label": "1947",
            "method": "update"
           },
           {
            "args": [
             {
              "visible": [
               false,
               false,
               false,
               true,
               false,
               false,
               false,
               false,
               false,
               false,
               false,
               false,
               false,
               false,
               false,
               false,
               false,
               false,
               false,
               false,
               false,
               false,
               false,
               false,
               false,
               false,
               false,
               false,
               false,
               false,
               false,
               false,
               false,
               false,
               false,
               false,
               false,
               false,
               false,
               false,
               false,
               false,
               false,
               false,
               false,
               false,
               false,
               false,
               false,
               false,
               false
              ]
             },
             {
              "title": "Empath Topic Proportions for Year: 1948"
             }
            ],
            "label": "1948",
            "method": "update"
           },
           {
            "args": [
             {
              "visible": [
               false,
               false,
               false,
               false,
               true,
               false,
               false,
               false,
               false,
               false,
               false,
               false,
               false,
               false,
               false,
               false,
               false,
               false,
               false,
               false,
               false,
               false,
               false,
               false,
               false,
               false,
               false,
               false,
               false,
               false,
               false,
               false,
               false,
               false,
               false,
               false,
               false,
               false,
               false,
               false,
               false,
               false,
               false,
               false,
               false,
               false,
               false,
               false,
               false,
               false,
               false
              ]
             },
             {
              "title": "Empath Topic Proportions for Year: 1949"
             }
            ],
            "label": "1949",
            "method": "update"
           },
           {
            "args": [
             {
              "visible": [
               false,
               false,
               false,
               false,
               false,
               true,
               false,
               false,
               false,
               false,
               false,
               false,
               false,
               false,
               false,
               false,
               false,
               false,
               false,
               false,
               false,
               false,
               false,
               false,
               false,
               false,
               false,
               false,
               false,
               false,
               false,
               false,
               false,
               false,
               false,
               false,
               false,
               false,
               false,
               false,
               false,
               false,
               false,
               false,
               false,
               false,
               false,
               false,
               false,
               false,
               false
              ]
             },
             {
              "title": "Empath Topic Proportions for Year: 1950"
             }
            ],
            "label": "1950",
            "method": "update"
           },
           {
            "args": [
             {
              "visible": [
               false,
               false,
               false,
               false,
               false,
               false,
               true,
               false,
               false,
               false,
               false,
               false,
               false,
               false,
               false,
               false,
               false,
               false,
               false,
               false,
               false,
               false,
               false,
               false,
               false,
               false,
               false,
               false,
               false,
               false,
               false,
               false,
               false,
               false,
               false,
               false,
               false,
               false,
               false,
               false,
               false,
               false,
               false,
               false,
               false,
               false,
               false,
               false,
               false,
               false,
               false
              ]
             },
             {
              "title": "Empath Topic Proportions for Year: 1951"
             }
            ],
            "label": "1951",
            "method": "update"
           },
           {
            "args": [
             {
              "visible": [
               false,
               false,
               false,
               false,
               false,
               false,
               false,
               true,
               false,
               false,
               false,
               false,
               false,
               false,
               false,
               false,
               false,
               false,
               false,
               false,
               false,
               false,
               false,
               false,
               false,
               false,
               false,
               false,
               false,
               false,
               false,
               false,
               false,
               false,
               false,
               false,
               false,
               false,
               false,
               false,
               false,
               false,
               false,
               false,
               false,
               false,
               false,
               false,
               false,
               false,
               false
              ]
             },
             {
              "title": "Empath Topic Proportions for Year: 1952"
             }
            ],
            "label": "1952",
            "method": "update"
           },
           {
            "args": [
             {
              "visible": [
               false,
               false,
               false,
               false,
               false,
               false,
               false,
               false,
               true,
               false,
               false,
               false,
               false,
               false,
               false,
               false,
               false,
               false,
               false,
               false,
               false,
               false,
               false,
               false,
               false,
               false,
               false,
               false,
               false,
               false,
               false,
               false,
               false,
               false,
               false,
               false,
               false,
               false,
               false,
               false,
               false,
               false,
               false,
               false,
               false,
               false,
               false,
               false,
               false,
               false,
               false
              ]
             },
             {
              "title": "Empath Topic Proportions for Year: 1953"
             }
            ],
            "label": "1953",
            "method": "update"
           },
           {
            "args": [
             {
              "visible": [
               false,
               false,
               false,
               false,
               false,
               false,
               false,
               false,
               false,
               true,
               false,
               false,
               false,
               false,
               false,
               false,
               false,
               false,
               false,
               false,
               false,
               false,
               false,
               false,
               false,
               false,
               false,
               false,
               false,
               false,
               false,
               false,
               false,
               false,
               false,
               false,
               false,
               false,
               false,
               false,
               false,
               false,
               false,
               false,
               false,
               false,
               false,
               false,
               false,
               false,
               false
              ]
             },
             {
              "title": "Empath Topic Proportions for Year: 1954"
             }
            ],
            "label": "1954",
            "method": "update"
           },
           {
            "args": [
             {
              "visible": [
               false,
               false,
               false,
               false,
               false,
               false,
               false,
               false,
               false,
               false,
               true,
               false,
               false,
               false,
               false,
               false,
               false,
               false,
               false,
               false,
               false,
               false,
               false,
               false,
               false,
               false,
               false,
               false,
               false,
               false,
               false,
               false,
               false,
               false,
               false,
               false,
               false,
               false,
               false,
               false,
               false,
               false,
               false,
               false,
               false,
               false,
               false,
               false,
               false,
               false,
               false
              ]
             },
             {
              "title": "Empath Topic Proportions for Year: 1955"
             }
            ],
            "label": "1955",
            "method": "update"
           },
           {
            "args": [
             {
              "visible": [
               false,
               false,
               false,
               false,
               false,
               false,
               false,
               false,
               false,
               false,
               false,
               true,
               false,
               false,
               false,
               false,
               false,
               false,
               false,
               false,
               false,
               false,
               false,
               false,
               false,
               false,
               false,
               false,
               false,
               false,
               false,
               false,
               false,
               false,
               false,
               false,
               false,
               false,
               false,
               false,
               false,
               false,
               false,
               false,
               false,
               false,
               false,
               false,
               false,
               false,
               false
              ]
             },
             {
              "title": "Empath Topic Proportions for Year: 1956"
             }
            ],
            "label": "1956",
            "method": "update"
           },
           {
            "args": [
             {
              "visible": [
               false,
               false,
               false,
               false,
               false,
               false,
               false,
               false,
               false,
               false,
               false,
               false,
               true,
               false,
               false,
               false,
               false,
               false,
               false,
               false,
               false,
               false,
               false,
               false,
               false,
               false,
               false,
               false,
               false,
               false,
               false,
               false,
               false,
               false,
               false,
               false,
               false,
               false,
               false,
               false,
               false,
               false,
               false,
               false,
               false,
               false,
               false,
               false,
               false,
               false,
               false
              ]
             },
             {
              "title": "Empath Topic Proportions for Year: 1957"
             }
            ],
            "label": "1957",
            "method": "update"
           },
           {
            "args": [
             {
              "visible": [
               false,
               false,
               false,
               false,
               false,
               false,
               false,
               false,
               false,
               false,
               false,
               false,
               false,
               true,
               false,
               false,
               false,
               false,
               false,
               false,
               false,
               false,
               false,
               false,
               false,
               false,
               false,
               false,
               false,
               false,
               false,
               false,
               false,
               false,
               false,
               false,
               false,
               false,
               false,
               false,
               false,
               false,
               false,
               false,
               false,
               false,
               false,
               false,
               false,
               false,
               false
              ]
             },
             {
              "title": "Empath Topic Proportions for Year: 1958"
             }
            ],
            "label": "1958",
            "method": "update"
           },
           {
            "args": [
             {
              "visible": [
               false,
               false,
               false,
               false,
               false,
               false,
               false,
               false,
               false,
               false,
               false,
               false,
               false,
               false,
               true,
               false,
               false,
               false,
               false,
               false,
               false,
               false,
               false,
               false,
               false,
               false,
               false,
               false,
               false,
               false,
               false,
               false,
               false,
               false,
               false,
               false,
               false,
               false,
               false,
               false,
               false,
               false,
               false,
               false,
               false,
               false,
               false,
               false,
               false,
               false,
               false
              ]
             },
             {
              "title": "Empath Topic Proportions for Year: 1959"
             }
            ],
            "label": "1959",
            "method": "update"
           },
           {
            "args": [
             {
              "visible": [
               false,
               false,
               false,
               false,
               false,
               false,
               false,
               false,
               false,
               false,
               false,
               false,
               false,
               false,
               false,
               true,
               false,
               false,
               false,
               false,
               false,
               false,
               false,
               false,
               false,
               false,
               false,
               false,
               false,
               false,
               false,
               false,
               false,
               false,
               false,
               false,
               false,
               false,
               false,
               false,
               false,
               false,
               false,
               false,
               false,
               false,
               false,
               false,
               false,
               false,
               false
              ]
             },
             {
              "title": "Empath Topic Proportions for Year: 1960"
             }
            ],
            "label": "1960",
            "method": "update"
           },
           {
            "args": [
             {
              "visible": [
               false,
               false,
               false,
               false,
               false,
               false,
               false,
               false,
               false,
               false,
               false,
               false,
               false,
               false,
               false,
               false,
               true,
               false,
               false,
               false,
               false,
               false,
               false,
               false,
               false,
               false,
               false,
               false,
               false,
               false,
               false,
               false,
               false,
               false,
               false,
               false,
               false,
               false,
               false,
               false,
               false,
               false,
               false,
               false,
               false,
               false,
               false,
               false,
               false,
               false,
               false
              ]
             },
             {
              "title": "Empath Topic Proportions for Year: 1961"
             }
            ],
            "label": "1961",
            "method": "update"
           },
           {
            "args": [
             {
              "visible": [
               false,
               false,
               false,
               false,
               false,
               false,
               false,
               false,
               false,
               false,
               false,
               false,
               false,
               false,
               false,
               false,
               false,
               true,
               false,
               false,
               false,
               false,
               false,
               false,
               false,
               false,
               false,
               false,
               false,
               false,
               false,
               false,
               false,
               false,
               false,
               false,
               false,
               false,
               false,
               false,
               false,
               false,
               false,
               false,
               false,
               false,
               false,
               false,
               false,
               false,
               false
              ]
             },
             {
              "title": "Empath Topic Proportions for Year: 1962"
             }
            ],
            "label": "1962",
            "method": "update"
           },
           {
            "args": [
             {
              "visible": [
               false,
               false,
               false,
               false,
               false,
               false,
               false,
               false,
               false,
               false,
               false,
               false,
               false,
               false,
               false,
               false,
               false,
               false,
               true,
               false,
               false,
               false,
               false,
               false,
               false,
               false,
               false,
               false,
               false,
               false,
               false,
               false,
               false,
               false,
               false,
               false,
               false,
               false,
               false,
               false,
               false,
               false,
               false,
               false,
               false,
               false,
               false,
               false,
               false,
               false,
               false
              ]
             },
             {
              "title": "Empath Topic Proportions for Year: 1963"
             }
            ],
            "label": "1963",
            "method": "update"
           },
           {
            "args": [
             {
              "visible": [
               false,
               false,
               false,
               false,
               false,
               false,
               false,
               false,
               false,
               false,
               false,
               false,
               false,
               false,
               false,
               false,
               false,
               false,
               false,
               true,
               false,
               false,
               false,
               false,
               false,
               false,
               false,
               false,
               false,
               false,
               false,
               false,
               false,
               false,
               false,
               false,
               false,
               false,
               false,
               false,
               false,
               false,
               false,
               false,
               false,
               false,
               false,
               false,
               false,
               false,
               false
              ]
             },
             {
              "title": "Empath Topic Proportions for Year: 1964"
             }
            ],
            "label": "1964",
            "method": "update"
           },
           {
            "args": [
             {
              "visible": [
               false,
               false,
               false,
               false,
               false,
               false,
               false,
               false,
               false,
               false,
               false,
               false,
               false,
               false,
               false,
               false,
               false,
               false,
               false,
               false,
               true,
               false,
               false,
               false,
               false,
               false,
               false,
               false,
               false,
               false,
               false,
               false,
               false,
               false,
               false,
               false,
               false,
               false,
               false,
               false,
               false,
               false,
               false,
               false,
               false,
               false,
               false,
               false,
               false,
               false,
               false
              ]
             },
             {
              "title": "Empath Topic Proportions for Year: 1965"
             }
            ],
            "label": "1965",
            "method": "update"
           },
           {
            "args": [
             {
              "visible": [
               false,
               false,
               false,
               false,
               false,
               false,
               false,
               false,
               false,
               false,
               false,
               false,
               false,
               false,
               false,
               false,
               false,
               false,
               false,
               false,
               false,
               true,
               false,
               false,
               false,
               false,
               false,
               false,
               false,
               false,
               false,
               false,
               false,
               false,
               false,
               false,
               false,
               false,
               false,
               false,
               false,
               false,
               false,
               false,
               false,
               false,
               false,
               false,
               false,
               false,
               false
              ]
             },
             {
              "title": "Empath Topic Proportions for Year: 1966"
             }
            ],
            "label": "1966",
            "method": "update"
           },
           {
            "args": [
             {
              "visible": [
               false,
               false,
               false,
               false,
               false,
               false,
               false,
               false,
               false,
               false,
               false,
               false,
               false,
               false,
               false,
               false,
               false,
               false,
               false,
               false,
               false,
               false,
               true,
               false,
               false,
               false,
               false,
               false,
               false,
               false,
               false,
               false,
               false,
               false,
               false,
               false,
               false,
               false,
               false,
               false,
               false,
               false,
               false,
               false,
               false,
               false,
               false,
               false,
               false,
               false,
               false
              ]
             },
             {
              "title": "Empath Topic Proportions for Year: 1967"
             }
            ],
            "label": "1967",
            "method": "update"
           },
           {
            "args": [
             {
              "visible": [
               false,
               false,
               false,
               false,
               false,
               false,
               false,
               false,
               false,
               false,
               false,
               false,
               false,
               false,
               false,
               false,
               false,
               false,
               false,
               false,
               false,
               false,
               false,
               true,
               false,
               false,
               false,
               false,
               false,
               false,
               false,
               false,
               false,
               false,
               false,
               false,
               false,
               false,
               false,
               false,
               false,
               false,
               false,
               false,
               false,
               false,
               false,
               false,
               false,
               false,
               false
              ]
             },
             {
              "title": "Empath Topic Proportions for Year: 1968"
             }
            ],
            "label": "1968",
            "method": "update"
           },
           {
            "args": [
             {
              "visible": [
               false,
               false,
               false,
               false,
               false,
               false,
               false,
               false,
               false,
               false,
               false,
               false,
               false,
               false,
               false,
               false,
               false,
               false,
               false,
               false,
               false,
               false,
               false,
               false,
               true,
               false,
               false,
               false,
               false,
               false,
               false,
               false,
               false,
               false,
               false,
               false,
               false,
               false,
               false,
               false,
               false,
               false,
               false,
               false,
               false,
               false,
               false,
               false,
               false,
               false,
               false
              ]
             },
             {
              "title": "Empath Topic Proportions for Year: 1969"
             }
            ],
            "label": "1969",
            "method": "update"
           },
           {
            "args": [
             {
              "visible": [
               false,
               false,
               false,
               false,
               false,
               false,
               false,
               false,
               false,
               false,
               false,
               false,
               false,
               false,
               false,
               false,
               false,
               false,
               false,
               false,
               false,
               false,
               false,
               false,
               false,
               true,
               false,
               false,
               false,
               false,
               false,
               false,
               false,
               false,
               false,
               false,
               false,
               false,
               false,
               false,
               false,
               false,
               false,
               false,
               false,
               false,
               false,
               false,
               false,
               false,
               false
              ]
             },
             {
              "title": "Empath Topic Proportions for Year: 1970"
             }
            ],
            "label": "1970",
            "method": "update"
           },
           {
            "args": [
             {
              "visible": [
               false,
               false,
               false,
               false,
               false,
               false,
               false,
               false,
               false,
               false,
               false,
               false,
               false,
               false,
               false,
               false,
               false,
               false,
               false,
               false,
               false,
               false,
               false,
               false,
               false,
               false,
               true,
               false,
               false,
               false,
               false,
               false,
               false,
               false,
               false,
               false,
               false,
               false,
               false,
               false,
               false,
               false,
               false,
               false,
               false,
               false,
               false,
               false,
               false,
               false,
               false
              ]
             },
             {
              "title": "Empath Topic Proportions for Year: 1971"
             }
            ],
            "label": "1971",
            "method": "update"
           },
           {
            "args": [
             {
              "visible": [
               false,
               false,
               false,
               false,
               false,
               false,
               false,
               false,
               false,
               false,
               false,
               false,
               false,
               false,
               false,
               false,
               false,
               false,
               false,
               false,
               false,
               false,
               false,
               false,
               false,
               false,
               false,
               true,
               false,
               false,
               false,
               false,
               false,
               false,
               false,
               false,
               false,
               false,
               false,
               false,
               false,
               false,
               false,
               false,
               false,
               false,
               false,
               false,
               false,
               false,
               false
              ]
             },
             {
              "title": "Empath Topic Proportions for Year: 1972"
             }
            ],
            "label": "1972",
            "method": "update"
           },
           {
            "args": [
             {
              "visible": [
               false,
               false,
               false,
               false,
               false,
               false,
               false,
               false,
               false,
               false,
               false,
               false,
               false,
               false,
               false,
               false,
               false,
               false,
               false,
               false,
               false,
               false,
               false,
               false,
               false,
               false,
               false,
               false,
               true,
               false,
               false,
               false,
               false,
               false,
               false,
               false,
               false,
               false,
               false,
               false,
               false,
               false,
               false,
               false,
               false,
               false,
               false,
               false,
               false,
               false,
               false
              ]
             },
             {
              "title": "Empath Topic Proportions for Year: 1973"
             }
            ],
            "label": "1973",
            "method": "update"
           },
           {
            "args": [
             {
              "visible": [
               false,
               false,
               false,
               false,
               false,
               false,
               false,
               false,
               false,
               false,
               false,
               false,
               false,
               false,
               false,
               false,
               false,
               false,
               false,
               false,
               false,
               false,
               false,
               false,
               false,
               false,
               false,
               false,
               false,
               true,
               false,
               false,
               false,
               false,
               false,
               false,
               false,
               false,
               false,
               false,
               false,
               false,
               false,
               false,
               false,
               false,
               false,
               false,
               false,
               false,
               false
              ]
             },
             {
              "title": "Empath Topic Proportions for Year: 1974"
             }
            ],
            "label": "1974",
            "method": "update"
           },
           {
            "args": [
             {
              "visible": [
               false,
               false,
               false,
               false,
               false,
               false,
               false,
               false,
               false,
               false,
               false,
               false,
               false,
               false,
               false,
               false,
               false,
               false,
               false,
               false,
               false,
               false,
               false,
               false,
               false,
               false,
               false,
               false,
               false,
               false,
               true,
               false,
               false,
               false,
               false,
               false,
               false,
               false,
               false,
               false,
               false,
               false,
               false,
               false,
               false,
               false,
               false,
               false,
               false,
               false,
               false
              ]
             },
             {
              "title": "Empath Topic Proportions for Year: 1975"
             }
            ],
            "label": "1975",
            "method": "update"
           },
           {
            "args": [
             {
              "visible": [
               false,
               false,
               false,
               false,
               false,
               false,
               false,
               false,
               false,
               false,
               false,
               false,
               false,
               false,
               false,
               false,
               false,
               false,
               false,
               false,
               false,
               false,
               false,
               false,
               false,
               false,
               false,
               false,
               false,
               false,
               false,
               true,
               false,
               false,
               false,
               false,
               false,
               false,
               false,
               false,
               false,
               false,
               false,
               false,
               false,
               false,
               false,
               false,
               false,
               false,
               false
              ]
             },
             {
              "title": "Empath Topic Proportions for Year: 1976"
             }
            ],
            "label": "1976",
            "method": "update"
           },
           {
            "args": [
             {
              "visible": [
               false,
               false,
               false,
               false,
               false,
               false,
               false,
               false,
               false,
               false,
               false,
               false,
               false,
               false,
               false,
               false,
               false,
               false,
               false,
               false,
               false,
               false,
               false,
               false,
               false,
               false,
               false,
               false,
               false,
               false,
               false,
               false,
               true,
               false,
               false,
               false,
               false,
               false,
               false,
               false,
               false,
               false,
               false,
               false,
               false,
               false,
               false,
               false,
               false,
               false,
               false
              ]
             },
             {
              "title": "Empath Topic Proportions for Year: 1977"
             }
            ],
            "label": "1977",
            "method": "update"
           },
           {
            "args": [
             {
              "visible": [
               false,
               false,
               false,
               false,
               false,
               false,
               false,
               false,
               false,
               false,
               false,
               false,
               false,
               false,
               false,
               false,
               false,
               false,
               false,
               false,
               false,
               false,
               false,
               false,
               false,
               false,
               false,
               false,
               false,
               false,
               false,
               false,
               false,
               true,
               false,
               false,
               false,
               false,
               false,
               false,
               false,
               false,
               false,
               false,
               false,
               false,
               false,
               false,
               false,
               false,
               false
              ]
             },
             {
              "title": "Empath Topic Proportions for Year: 1978"
             }
            ],
            "label": "1978",
            "method": "update"
           },
           {
            "args": [
             {
              "visible": [
               false,
               false,
               false,
               false,
               false,
               false,
               false,
               false,
               false,
               false,
               false,
               false,
               false,
               false,
               false,
               false,
               false,
               false,
               false,
               false,
               false,
               false,
               false,
               false,
               false,
               false,
               false,
               false,
               false,
               false,
               false,
               false,
               false,
               false,
               true,
               false,
               false,
               false,
               false,
               false,
               false,
               false,
               false,
               false,
               false,
               false,
               false,
               false,
               false,
               false,
               false
              ]
             },
             {
              "title": "Empath Topic Proportions for Year: 1979"
             }
            ],
            "label": "1979",
            "method": "update"
           },
           {
            "args": [
             {
              "visible": [
               false,
               false,
               false,
               false,
               false,
               false,
               false,
               false,
               false,
               false,
               false,
               false,
               false,
               false,
               false,
               false,
               false,
               false,
               false,
               false,
               false,
               false,
               false,
               false,
               false,
               false,
               false,
               false,
               false,
               false,
               false,
               false,
               false,
               false,
               false,
               true,
               false,
               false,
               false,
               false,
               false,
               false,
               false,
               false,
               false,
               false,
               false,
               false,
               false,
               false,
               false
              ]
             },
             {
              "title": "Empath Topic Proportions for Year: 1980"
             }
            ],
            "label": "1980",
            "method": "update"
           },
           {
            "args": [
             {
              "visible": [
               false,
               false,
               false,
               false,
               false,
               false,
               false,
               false,
               false,
               false,
               false,
               false,
               false,
               false,
               false,
               false,
               false,
               false,
               false,
               false,
               false,
               false,
               false,
               false,
               false,
               false,
               false,
               false,
               false,
               false,
               false,
               false,
               false,
               false,
               false,
               false,
               true,
               false,
               false,
               false,
               false,
               false,
               false,
               false,
               false,
               false,
               false,
               false,
               false,
               false,
               false
              ]
             },
             {
              "title": "Empath Topic Proportions for Year: 1981"
             }
            ],
            "label": "1981",
            "method": "update"
           },
           {
            "args": [
             {
              "visible": [
               false,
               false,
               false,
               false,
               false,
               false,
               false,
               false,
               false,
               false,
               false,
               false,
               false,
               false,
               false,
               false,
               false,
               false,
               false,
               false,
               false,
               false,
               false,
               false,
               false,
               false,
               false,
               false,
               false,
               false,
               false,
               false,
               false,
               false,
               false,
               false,
               false,
               true,
               false,
               false,
               false,
               false,
               false,
               false,
               false,
               false,
               false,
               false,
               false,
               false,
               false
              ]
             },
             {
              "title": "Empath Topic Proportions for Year: 1982"
             }
            ],
            "label": "1982",
            "method": "update"
           },
           {
            "args": [
             {
              "visible": [
               false,
               false,
               false,
               false,
               false,
               false,
               false,
               false,
               false,
               false,
               false,
               false,
               false,
               false,
               false,
               false,
               false,
               false,
               false,
               false,
               false,
               false,
               false,
               false,
               false,
               false,
               false,
               false,
               false,
               false,
               false,
               false,
               false,
               false,
               false,
               false,
               false,
               false,
               true,
               false,
               false,
               false,
               false,
               false,
               false,
               false,
               false,
               false,
               false,
               false,
               false
              ]
             },
             {
              "title": "Empath Topic Proportions for Year: 1983"
             }
            ],
            "label": "1983",
            "method": "update"
           },
           {
            "args": [
             {
              "visible": [
               false,
               false,
               false,
               false,
               false,
               false,
               false,
               false,
               false,
               false,
               false,
               false,
               false,
               false,
               false,
               false,
               false,
               false,
               false,
               false,
               false,
               false,
               false,
               false,
               false,
               false,
               false,
               false,
               false,
               false,
               false,
               false,
               false,
               false,
               false,
               false,
               false,
               false,
               false,
               true,
               false,
               false,
               false,
               false,
               false,
               false,
               false,
               false,
               false,
               false,
               false
              ]
             },
             {
              "title": "Empath Topic Proportions for Year: 1984"
             }
            ],
            "label": "1984",
            "method": "update"
           },
           {
            "args": [
             {
              "visible": [
               false,
               false,
               false,
               false,
               false,
               false,
               false,
               false,
               false,
               false,
               false,
               false,
               false,
               false,
               false,
               false,
               false,
               false,
               false,
               false,
               false,
               false,
               false,
               false,
               false,
               false,
               false,
               false,
               false,
               false,
               false,
               false,
               false,
               false,
               false,
               false,
               false,
               false,
               false,
               false,
               true,
               false,
               false,
               false,
               false,
               false,
               false,
               false,
               false,
               false,
               false
              ]
             },
             {
              "title": "Empath Topic Proportions for Year: 1985"
             }
            ],
            "label": "1985",
            "method": "update"
           },
           {
            "args": [
             {
              "visible": [
               false,
               false,
               false,
               false,
               false,
               false,
               false,
               false,
               false,
               false,
               false,
               false,
               false,
               false,
               false,
               false,
               false,
               false,
               false,
               false,
               false,
               false,
               false,
               false,
               false,
               false,
               false,
               false,
               false,
               false,
               false,
               false,
               false,
               false,
               false,
               false,
               false,
               false,
               false,
               false,
               false,
               true,
               false,
               false,
               false,
               false,
               false,
               false,
               false,
               false,
               false
              ]
             },
             {
              "title": "Empath Topic Proportions for Year: 1986"
             }
            ],
            "label": "1986",
            "method": "update"
           },
           {
            "args": [
             {
              "visible": [
               false,
               false,
               false,
               false,
               false,
               false,
               false,
               false,
               false,
               false,
               false,
               false,
               false,
               false,
               false,
               false,
               false,
               false,
               false,
               false,
               false,
               false,
               false,
               false,
               false,
               false,
               false,
               false,
               false,
               false,
               false,
               false,
               false,
               false,
               false,
               false,
               false,
               false,
               false,
               false,
               false,
               false,
               true,
               false,
               false,
               false,
               false,
               false,
               false,
               false,
               false
              ]
             },
             {
              "title": "Empath Topic Proportions for Year: 1987"
             }
            ],
            "label": "1987",
            "method": "update"
           },
           {
            "args": [
             {
              "visible": [
               false,
               false,
               false,
               false,
               false,
               false,
               false,
               false,
               false,
               false,
               false,
               false,
               false,
               false,
               false,
               false,
               false,
               false,
               false,
               false,
               false,
               false,
               false,
               false,
               false,
               false,
               false,
               false,
               false,
               false,
               false,
               false,
               false,
               false,
               false,
               false,
               false,
               false,
               false,
               false,
               false,
               false,
               false,
               true,
               false,
               false,
               false,
               false,
               false,
               false,
               false
              ]
             },
             {
              "title": "Empath Topic Proportions for Year: 1988"
             }
            ],
            "label": "1988",
            "method": "update"
           },
           {
            "args": [
             {
              "visible": [
               false,
               false,
               false,
               false,
               false,
               false,
               false,
               false,
               false,
               false,
               false,
               false,
               false,
               false,
               false,
               false,
               false,
               false,
               false,
               false,
               false,
               false,
               false,
               false,
               false,
               false,
               false,
               false,
               false,
               false,
               false,
               false,
               false,
               false,
               false,
               false,
               false,
               false,
               false,
               false,
               false,
               false,
               false,
               false,
               true,
               false,
               false,
               false,
               false,
               false,
               false
              ]
             },
             {
              "title": "Empath Topic Proportions for Year: 1989"
             }
            ],
            "label": "1989",
            "method": "update"
           },
           {
            "args": [
             {
              "visible": [
               false,
               false,
               false,
               false,
               false,
               false,
               false,
               false,
               false,
               false,
               false,
               false,
               false,
               false,
               false,
               false,
               false,
               false,
               false,
               false,
               false,
               false,
               false,
               false,
               false,
               false,
               false,
               false,
               false,
               false,
               false,
               false,
               false,
               false,
               false,
               false,
               false,
               false,
               false,
               false,
               false,
               false,
               false,
               false,
               false,
               true,
               false,
               false,
               false,
               false,
               false
              ]
             },
             {
              "title": "Empath Topic Proportions for Year: 1990"
             }
            ],
            "label": "1990",
            "method": "update"
           },
           {
            "args": [
             {
              "visible": [
               false,
               false,
               false,
               false,
               false,
               false,
               false,
               false,
               false,
               false,
               false,
               false,
               false,
               false,
               false,
               false,
               false,
               false,
               false,
               false,
               false,
               false,
               false,
               false,
               false,
               false,
               false,
               false,
               false,
               false,
               false,
               false,
               false,
               false,
               false,
               false,
               false,
               false,
               false,
               false,
               false,
               false,
               false,
               false,
               false,
               false,
               true,
               false,
               false,
               false,
               false
              ]
             },
             {
              "title": "Empath Topic Proportions for Year: 1991"
             }
            ],
            "label": "1991",
            "method": "update"
           },
           {
            "args": [
             {
              "visible": [
               false,
               false,
               false,
               false,
               false,
               false,
               false,
               false,
               false,
               false,
               false,
               false,
               false,
               false,
               false,
               false,
               false,
               false,
               false,
               false,
               false,
               false,
               false,
               false,
               false,
               false,
               false,
               false,
               false,
               false,
               false,
               false,
               false,
               false,
               false,
               false,
               false,
               false,
               false,
               false,
               false,
               false,
               false,
               false,
               false,
               false,
               false,
               true,
               false,
               false,
               false
              ]
             },
             {
              "title": "Empath Topic Proportions for Year: 1992"
             }
            ],
            "label": "1992",
            "method": "update"
           },
           {
            "args": [
             {
              "visible": [
               false,
               false,
               false,
               false,
               false,
               false,
               false,
               false,
               false,
               false,
               false,
               false,
               false,
               false,
               false,
               false,
               false,
               false,
               false,
               false,
               false,
               false,
               false,
               false,
               false,
               false,
               false,
               false,
               false,
               false,
               false,
               false,
               false,
               false,
               false,
               false,
               false,
               false,
               false,
               false,
               false,
               false,
               false,
               false,
               false,
               false,
               false,
               false,
               true,
               false,
               false
              ]
             },
             {
              "title": "Empath Topic Proportions for Year: 1993"
             }
            ],
            "label": "1993",
            "method": "update"
           },
           {
            "args": [
             {
              "visible": [
               false,
               false,
               false,
               false,
               false,
               false,
               false,
               false,
               false,
               false,
               false,
               false,
               false,
               false,
               false,
               false,
               false,
               false,
               false,
               false,
               false,
               false,
               false,
               false,
               false,
               false,
               false,
               false,
               false,
               false,
               false,
               false,
               false,
               false,
               false,
               false,
               false,
               false,
               false,
               false,
               false,
               false,
               false,
               false,
               false,
               false,
               false,
               false,
               false,
               true,
               false
              ]
             },
             {
              "title": "Empath Topic Proportions for Year: 1994"
             }
            ],
            "label": "1994",
            "method": "update"
           },
           {
            "args": [
             {
              "visible": [
               false,
               false,
               false,
               false,
               false,
               false,
               false,
               false,
               false,
               false,
               false,
               false,
               false,
               false,
               false,
               false,
               false,
               false,
               false,
               false,
               false,
               false,
               false,
               false,
               false,
               false,
               false,
               false,
               false,
               false,
               false,
               false,
               false,
               false,
               false,
               false,
               false,
               false,
               false,
               false,
               false,
               false,
               false,
               false,
               false,
               false,
               false,
               false,
               false,
               false,
               true
              ]
             },
             {
              "title": "Empath Topic Proportions for Year: 1995"
             }
            ],
            "label": "1995",
            "method": "update"
           }
          ]
         }
        ],
        "template": {
         "data": {
          "bar": [
           {
            "error_x": {
             "color": "#2a3f5f"
            },
            "error_y": {
             "color": "#2a3f5f"
            },
            "marker": {
             "line": {
              "color": "#E5ECF6",
              "width": 0.5
             },
             "pattern": {
              "fillmode": "overlay",
              "size": 10,
              "solidity": 0.2
             }
            },
            "type": "bar"
           }
          ],
          "barpolar": [
           {
            "marker": {
             "line": {
              "color": "#E5ECF6",
              "width": 0.5
             },
             "pattern": {
              "fillmode": "overlay",
              "size": 10,
              "solidity": 0.2
             }
            },
            "type": "barpolar"
           }
          ],
          "carpet": [
           {
            "aaxis": {
             "endlinecolor": "#2a3f5f",
             "gridcolor": "white",
             "linecolor": "white",
             "minorgridcolor": "white",
             "startlinecolor": "#2a3f5f"
            },
            "baxis": {
             "endlinecolor": "#2a3f5f",
             "gridcolor": "white",
             "linecolor": "white",
             "minorgridcolor": "white",
             "startlinecolor": "#2a3f5f"
            },
            "type": "carpet"
           }
          ],
          "choropleth": [
           {
            "colorbar": {
             "outlinewidth": 0,
             "ticks": ""
            },
            "type": "choropleth"
           }
          ],
          "contour": [
           {
            "colorbar": {
             "outlinewidth": 0,
             "ticks": ""
            },
            "colorscale": [
             [
              0,
              "#0d0887"
             ],
             [
              0.1111111111111111,
              "#46039f"
             ],
             [
              0.2222222222222222,
              "#7201a8"
             ],
             [
              0.3333333333333333,
              "#9c179e"
             ],
             [
              0.4444444444444444,
              "#bd3786"
             ],
             [
              0.5555555555555556,
              "#d8576b"
             ],
             [
              0.6666666666666666,
              "#ed7953"
             ],
             [
              0.7777777777777778,
              "#fb9f3a"
             ],
             [
              0.8888888888888888,
              "#fdca26"
             ],
             [
              1,
              "#f0f921"
             ]
            ],
            "type": "contour"
           }
          ],
          "contourcarpet": [
           {
            "colorbar": {
             "outlinewidth": 0,
             "ticks": ""
            },
            "type": "contourcarpet"
           }
          ],
          "heatmap": [
           {
            "colorbar": {
             "outlinewidth": 0,
             "ticks": ""
            },
            "colorscale": [
             [
              0,
              "#0d0887"
             ],
             [
              0.1111111111111111,
              "#46039f"
             ],
             [
              0.2222222222222222,
              "#7201a8"
             ],
             [
              0.3333333333333333,
              "#9c179e"
             ],
             [
              0.4444444444444444,
              "#bd3786"
             ],
             [
              0.5555555555555556,
              "#d8576b"
             ],
             [
              0.6666666666666666,
              "#ed7953"
             ],
             [
              0.7777777777777778,
              "#fb9f3a"
             ],
             [
              0.8888888888888888,
              "#fdca26"
             ],
             [
              1,
              "#f0f921"
             ]
            ],
            "type": "heatmap"
           }
          ],
          "heatmapgl": [
           {
            "colorbar": {
             "outlinewidth": 0,
             "ticks": ""
            },
            "colorscale": [
             [
              0,
              "#0d0887"
             ],
             [
              0.1111111111111111,
              "#46039f"
             ],
             [
              0.2222222222222222,
              "#7201a8"
             ],
             [
              0.3333333333333333,
              "#9c179e"
             ],
             [
              0.4444444444444444,
              "#bd3786"
             ],
             [
              0.5555555555555556,
              "#d8576b"
             ],
             [
              0.6666666666666666,
              "#ed7953"
             ],
             [
              0.7777777777777778,
              "#fb9f3a"
             ],
             [
              0.8888888888888888,
              "#fdca26"
             ],
             [
              1,
              "#f0f921"
             ]
            ],
            "type": "heatmapgl"
           }
          ],
          "histogram": [
           {
            "marker": {
             "pattern": {
              "fillmode": "overlay",
              "size": 10,
              "solidity": 0.2
             }
            },
            "type": "histogram"
           }
          ],
          "histogram2d": [
           {
            "colorbar": {
             "outlinewidth": 0,
             "ticks": ""
            },
            "colorscale": [
             [
              0,
              "#0d0887"
             ],
             [
              0.1111111111111111,
              "#46039f"
             ],
             [
              0.2222222222222222,
              "#7201a8"
             ],
             [
              0.3333333333333333,
              "#9c179e"
             ],
             [
              0.4444444444444444,
              "#bd3786"
             ],
             [
              0.5555555555555556,
              "#d8576b"
             ],
             [
              0.6666666666666666,
              "#ed7953"
             ],
             [
              0.7777777777777778,
              "#fb9f3a"
             ],
             [
              0.8888888888888888,
              "#fdca26"
             ],
             [
              1,
              "#f0f921"
             ]
            ],
            "type": "histogram2d"
           }
          ],
          "histogram2dcontour": [
           {
            "colorbar": {
             "outlinewidth": 0,
             "ticks": ""
            },
            "colorscale": [
             [
              0,
              "#0d0887"
             ],
             [
              0.1111111111111111,
              "#46039f"
             ],
             [
              0.2222222222222222,
              "#7201a8"
             ],
             [
              0.3333333333333333,
              "#9c179e"
             ],
             [
              0.4444444444444444,
              "#bd3786"
             ],
             [
              0.5555555555555556,
              "#d8576b"
             ],
             [
              0.6666666666666666,
              "#ed7953"
             ],
             [
              0.7777777777777778,
              "#fb9f3a"
             ],
             [
              0.8888888888888888,
              "#fdca26"
             ],
             [
              1,
              "#f0f921"
             ]
            ],
            "type": "histogram2dcontour"
           }
          ],
          "mesh3d": [
           {
            "colorbar": {
             "outlinewidth": 0,
             "ticks": ""
            },
            "type": "mesh3d"
           }
          ],
          "parcoords": [
           {
            "line": {
             "colorbar": {
              "outlinewidth": 0,
              "ticks": ""
             }
            },
            "type": "parcoords"
           }
          ],
          "pie": [
           {
            "automargin": true,
            "type": "pie"
           }
          ],
          "scatter": [
           {
            "fillpattern": {
             "fillmode": "overlay",
             "size": 10,
             "solidity": 0.2
            },
            "type": "scatter"
           }
          ],
          "scatter3d": [
           {
            "line": {
             "colorbar": {
              "outlinewidth": 0,
              "ticks": ""
             }
            },
            "marker": {
             "colorbar": {
              "outlinewidth": 0,
              "ticks": ""
             }
            },
            "type": "scatter3d"
           }
          ],
          "scattercarpet": [
           {
            "marker": {
             "colorbar": {
              "outlinewidth": 0,
              "ticks": ""
             }
            },
            "type": "scattercarpet"
           }
          ],
          "scattergeo": [
           {
            "marker": {
             "colorbar": {
              "outlinewidth": 0,
              "ticks": ""
             }
            },
            "type": "scattergeo"
           }
          ],
          "scattergl": [
           {
            "marker": {
             "colorbar": {
              "outlinewidth": 0,
              "ticks": ""
             }
            },
            "type": "scattergl"
           }
          ],
          "scattermapbox": [
           {
            "marker": {
             "colorbar": {
              "outlinewidth": 0,
              "ticks": ""
             }
            },
            "type": "scattermapbox"
           }
          ],
          "scatterpolar": [
           {
            "marker": {
             "colorbar": {
              "outlinewidth": 0,
              "ticks": ""
             }
            },
            "type": "scatterpolar"
           }
          ],
          "scatterpolargl": [
           {
            "marker": {
             "colorbar": {
              "outlinewidth": 0,
              "ticks": ""
             }
            },
            "type": "scatterpolargl"
           }
          ],
          "scatterternary": [
           {
            "marker": {
             "colorbar": {
              "outlinewidth": 0,
              "ticks": ""
             }
            },
            "type": "scatterternary"
           }
          ],
          "surface": [
           {
            "colorbar": {
             "outlinewidth": 0,
             "ticks": ""
            },
            "colorscale": [
             [
              0,
              "#0d0887"
             ],
             [
              0.1111111111111111,
              "#46039f"
             ],
             [
              0.2222222222222222,
              "#7201a8"
             ],
             [
              0.3333333333333333,
              "#9c179e"
             ],
             [
              0.4444444444444444,
              "#bd3786"
             ],
             [
              0.5555555555555556,
              "#d8576b"
             ],
             [
              0.6666666666666666,
              "#ed7953"
             ],
             [
              0.7777777777777778,
              "#fb9f3a"
             ],
             [
              0.8888888888888888,
              "#fdca26"
             ],
             [
              1,
              "#f0f921"
             ]
            ],
            "type": "surface"
           }
          ],
          "table": [
           {
            "cells": {
             "fill": {
              "color": "#EBF0F8"
             },
             "line": {
              "color": "white"
             }
            },
            "header": {
             "fill": {
              "color": "#C8D4E3"
             },
             "line": {
              "color": "white"
             }
            },
            "type": "table"
           }
          ]
         },
         "layout": {
          "annotationdefaults": {
           "arrowcolor": "#2a3f5f",
           "arrowhead": 0,
           "arrowwidth": 1
          },
          "autotypenumbers": "strict",
          "coloraxis": {
           "colorbar": {
            "outlinewidth": 0,
            "ticks": ""
           }
          },
          "colorscale": {
           "diverging": [
            [
             0,
             "#8e0152"
            ],
            [
             0.1,
             "#c51b7d"
            ],
            [
             0.2,
             "#de77ae"
            ],
            [
             0.3,
             "#f1b6da"
            ],
            [
             0.4,
             "#fde0ef"
            ],
            [
             0.5,
             "#f7f7f7"
            ],
            [
             0.6,
             "#e6f5d0"
            ],
            [
             0.7,
             "#b8e186"
            ],
            [
             0.8,
             "#7fbc41"
            ],
            [
             0.9,
             "#4d9221"
            ],
            [
             1,
             "#276419"
            ]
           ],
           "sequential": [
            [
             0,
             "#0d0887"
            ],
            [
             0.1111111111111111,
             "#46039f"
            ],
            [
             0.2222222222222222,
             "#7201a8"
            ],
            [
             0.3333333333333333,
             "#9c179e"
            ],
            [
             0.4444444444444444,
             "#bd3786"
            ],
            [
             0.5555555555555556,
             "#d8576b"
            ],
            [
             0.6666666666666666,
             "#ed7953"
            ],
            [
             0.7777777777777778,
             "#fb9f3a"
            ],
            [
             0.8888888888888888,
             "#fdca26"
            ],
            [
             1,
             "#f0f921"
            ]
           ],
           "sequentialminus": [
            [
             0,
             "#0d0887"
            ],
            [
             0.1111111111111111,
             "#46039f"
            ],
            [
             0.2222222222222222,
             "#7201a8"
            ],
            [
             0.3333333333333333,
             "#9c179e"
            ],
            [
             0.4444444444444444,
             "#bd3786"
            ],
            [
             0.5555555555555556,
             "#d8576b"
            ],
            [
             0.6666666666666666,
             "#ed7953"
            ],
            [
             0.7777777777777778,
             "#fb9f3a"
            ],
            [
             0.8888888888888888,
             "#fdca26"
            ],
            [
             1,
             "#f0f921"
            ]
           ]
          },
          "colorway": [
           "#636efa",
           "#EF553B",
           "#00cc96",
           "#ab63fa",
           "#FFA15A",
           "#19d3f3",
           "#FF6692",
           "#B6E880",
           "#FF97FF",
           "#FECB52"
          ],
          "font": {
           "color": "#2a3f5f"
          },
          "geo": {
           "bgcolor": "white",
           "lakecolor": "white",
           "landcolor": "#E5ECF6",
           "showlakes": true,
           "showland": true,
           "subunitcolor": "white"
          },
          "hoverlabel": {
           "align": "left"
          },
          "hovermode": "closest",
          "mapbox": {
           "style": "light"
          },
          "paper_bgcolor": "white",
          "plot_bgcolor": "#E5ECF6",
          "polar": {
           "angularaxis": {
            "gridcolor": "white",
            "linecolor": "white",
            "ticks": ""
           },
           "bgcolor": "#E5ECF6",
           "radialaxis": {
            "gridcolor": "white",
            "linecolor": "white",
            "ticks": ""
           }
          },
          "scene": {
           "xaxis": {
            "backgroundcolor": "#E5ECF6",
            "gridcolor": "white",
            "gridwidth": 2,
            "linecolor": "white",
            "showbackground": true,
            "ticks": "",
            "zerolinecolor": "white"
           },
           "yaxis": {
            "backgroundcolor": "#E5ECF6",
            "gridcolor": "white",
            "gridwidth": 2,
            "linecolor": "white",
            "showbackground": true,
            "ticks": "",
            "zerolinecolor": "white"
           },
           "zaxis": {
            "backgroundcolor": "#E5ECF6",
            "gridcolor": "white",
            "gridwidth": 2,
            "linecolor": "white",
            "showbackground": true,
            "ticks": "",
            "zerolinecolor": "white"
           }
          },
          "shapedefaults": {
           "line": {
            "color": "#2a3f5f"
           }
          },
          "ternary": {
           "aaxis": {
            "gridcolor": "white",
            "linecolor": "white",
            "ticks": ""
           },
           "baxis": {
            "gridcolor": "white",
            "linecolor": "white",
            "ticks": ""
           },
           "bgcolor": "#E5ECF6",
           "caxis": {
            "gridcolor": "white",
            "linecolor": "white",
            "ticks": ""
           }
          },
          "title": {
           "x": 0.05
          },
          "xaxis": {
           "automargin": true,
           "gridcolor": "white",
           "linecolor": "white",
           "ticks": "",
           "title": {
            "standoff": 15
           },
           "zerolinecolor": "white",
           "zerolinewidth": 2
          },
          "yaxis": {
           "automargin": true,
           "gridcolor": "white",
           "linecolor": "white",
           "ticks": "",
           "title": {
            "standoff": 15
           },
           "zerolinecolor": "white",
           "zerolinewidth": 2
          }
         }
        },
        "title": {
         "text": "Dynamic Histogram of Grouped Empath Topics by Year"
        },
        "xaxis": {
         "title": {
          "text": "Empath Topics"
         }
        },
        "yaxis": {
         "range": [
          0,
          0.22371198760087643
         ],
         "title": {
          "text": "Proportion"
         }
        }
       }
      }
     },
     "metadata": {},
     "output_type": "display_data"
    }
   ],
   "source": [
    "import plotly.graph_objects as go\n",
    "\n",
    "fig = go.Figure()\n",
    "\n",
    "unique_years = sorted(melted['year'].unique())\n",
    "\n",
    "# fix the y-axis \n",
    "max_y = melted['proportion'].max()\n",
    "\n",
    "for year in unique_years:\n",
    "\n",
    "    year_data = melted[melted['year'] == year]\n",
    "    grouped_data = year_data.groupby('grouped_topic', as_index=False).agg({'proportion': 'sum'})\n",
    "    \n",
    "    fig.add_trace(go.Bar(\n",
    "        x=grouped_data['grouped_topic'],\n",
    "        y=grouped_data['proportion'],\n",
    "        name=f\"Year {year}\",\n",
    "        visible=(year == unique_years[0])  # Only show the first year's data initially\n",
    "    ))\n",
    "\n",
    "# Define steps for the slider\n",
    "steps = []\n",
    "for i, year in enumerate(unique_years):\n",
    "    step = dict(\n",
    "        method=\"update\",\n",
    "        args=[\n",
    "            {\"visible\": [j == i for j in range(len(unique_years))]},  # Toggle visibility for the selected year\n",
    "            {\"title\": f\"Empath Topic Proportions for Year: {year}\"}\n",
    "        ],\n",
    "        label=str(year)\n",
    "    )\n",
    "    steps.append(step)\n",
    "\n",
    "# Add the slider to the layout\n",
    "fig.update_layout(\n",
    "    sliders=[{\n",
    "        \"active\": 0,\n",
    "        \"currentvalue\": {\"prefix\": \"Year: \"},\n",
    "        \"pad\": {\"t\": 50},\n",
    "        \"steps\": steps\n",
    "    }],\n",
    "    title=\"Dynamic Histogram of Grouped Empath Topics by Year\",\n",
    "    xaxis_title=\"Empath Topics\",\n",
    "    yaxis_title=\"Proportion\",\n",
    "    yaxis=dict(range=[0, max_y]),  # Set the fixed y-axis range\n",
    "    legend_title=\"Year\",\n",
    "    barmode=\"group\"  # This ensures bars are grouped by topics\n",
    ")\n",
    "\n",
    "# Show the plot\n",
    "fig.show()\n"
   ]
  },
  {
   "cell_type": "code",
   "execution_count": null,
   "metadata": {},
   "outputs": [],
   "source": []
  }
 ],
 "metadata": {
  "kernelspec": {
   "display_name": "ada",
   "language": "python",
   "name": "python3"
  },
  "language_info": {
   "codemirror_mode": {
    "name": "ipython",
    "version": 3
   },
   "file_extension": ".py",
   "mimetype": "text/x-python",
   "name": "python",
   "nbconvert_exporter": "python",
   "pygments_lexer": "ipython3",
   "version": "3.11.9"
  }
 },
 "nbformat": 4,
 "nbformat_minor": 2
}
