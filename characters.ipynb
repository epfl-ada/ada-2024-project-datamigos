{
 "cells": [
  {
   "cell_type": "code",
   "execution_count": 230,
   "metadata": {},
   "outputs": [
    {
     "name": "stderr",
     "output_type": "stream",
     "text": [
      "[nltk_data] Downloading package stopwords to\n",
      "[nltk_data]     C:\\Users\\fannl\\AppData\\Roaming\\nltk_data...\n",
      "[nltk_data]   Package stopwords is already up-to-date!\n"
     ]
    }
   ],
   "source": [
    "import pandas as pd\n",
    "import numpy as np\n",
    "import ast\n",
    "\n",
    "import matplotlib.pyplot as plt\n",
    "import seaborn as sns\n",
    "import plotly.graph_objects as go\n",
    "import plotly.express as px\n",
    "\n",
    "import nltk\n",
    "from nltk.corpus import stopwords\n",
    "nltk.download('stopwords')\n",
    "\n",
    "import spacy\n",
    "from gensim import corpora\n",
    "from gensim.models.ldamodel import LdaModel\n",
    "\n",
    "import warnings\n",
    "warnings.filterwarnings('ignore')"
   ]
  },
  {
   "cell_type": "code",
   "execution_count": 211,
   "metadata": {},
   "outputs": [
    {
     "name": "stdout",
     "output_type": "stream",
     "text": [
      "title <class 'str'>\n",
      "languages <class 'list'>\n",
      "countries <class 'list'>\n",
      "genres <class 'list'>\n",
      "keywords <class 'float'>\n",
      "release_date <class 'str'>\n",
      "plot_summary <class 'str'>\n",
      "year_release_date <class 'numpy.int64'>\n",
      "cold_war_side <class 'str'>\n",
      "character_western_bloc_representation <class 'list'>\n",
      "character_eastern_bloc_representation <class 'list'>\n",
      "western_bloc_values <class 'list'>\n",
      "eastern_bloc_values <class 'list'>\n",
      "theme <class 'list'>\n"
     ]
    }
   ],
   "source": [
    "DATA_FOLDER = \"data/\"\n",
    "\n",
    "movies = pd.read_csv(DATA_FOLDER + \"v1_movies_cleaned.csv\")\n",
    "\n",
    "for col in movies.columns:\n",
    "    try:\n",
    "        movies[col] = movies[col].apply(lambda x: ast.literal_eval(x) if isinstance(x, str) else x)\n",
    "    except:\n",
    "        pass\n",
    "    print(col, type(movies[col][0]))"
   ]
  },
  {
   "cell_type": "code",
   "execution_count": 212,
   "metadata": {},
   "outputs": [],
   "source": [
    "# helpers \n",
    "VOC_MAPPING = {\n",
    "    'anti-': 'anti',\n",
    "    'anti ': 'anti',\n",
    "    'anti hero': 'antihero',\n",
    "    'archetypes': 'archetype',\n",
    "    'archetype:': 'archetype',\n",
    "}\n",
    "\n",
    "# Function to split the row list into character name and character representation\n",
    "def extract_character_name_and_attributes(row):\n",
    "    if isinstance(row, list) and len(row) > 0 and row[0] is not None:\n",
    "        character_name = row[0]\n",
    "        character_representation = row[1:]\n",
    "        return pd.Series([character_name, character_representation])\n",
    "    else:\n",
    "        return pd.Series([None, None])\n",
    "\n",
    "# Function to apply the mapping with substring matching\n",
    "def apply_mapping_with_substrings(string_list, mapping):\n",
    "    updated = []\n",
    "    for s in string_list:\n",
    "        new_s = s\n",
    "        for key, value in mapping.items():\n",
    "            if key in s:\n",
    "                new_s = s.replace(key, value)\n",
    "        updated.append(new_s.lower())\n",
    "    return updated"
   ]
  },
  {
   "cell_type": "code",
   "execution_count": 213,
   "metadata": {},
   "outputs": [],
   "source": [
    "def create_character_df(original_df, character_column, character_side):\n",
    "    # create the new dataframe\n",
    "    new_df = original_df[[character_column, 'cold_war_side', 'title', 'year_release_date']]\n",
    "    new_df = new_df.rename(columns={'cold_war_side': 'movie_side'})\n",
    "    new_df[['character_name', 'character_representation']] = \\\n",
    "        new_df[character_column].apply(extract_character_name_and_attributes)\n",
    "    new_df = new_df.drop(columns=[character_column])\n",
    "    new_df['character_side'] = character_side\n",
    "\n",
    "    # clean the obtained dataframe\n",
    "    new_df = new_df.drop_duplicates(subset=['character_name'])\n",
    "    new_df = new_df[new_df['character_representation'].apply(lambda x: len(x) > 0 if isinstance(x, list) else False)]\n",
    "    new_df = new_df[new_df['character_name'].apply(lambda x: len(x.split()) if isinstance(x, str) else 0) <= 5]\n",
    "    new_df['character_representation'] = new_df['character_representation'].apply(\n",
    "        lambda x: apply_mapping_with_substrings(x, VOC_MAPPING)\n",
    "    )\n",
    "    return new_df"
   ]
  },
  {
   "cell_type": "code",
   "execution_count": 214,
   "metadata": {},
   "outputs": [],
   "source": [
    "character_eastern = create_character_df(movies, 'character_eastern_bloc_representation', 'Eastern')\n",
    "character_western = create_character_df(movies, 'character_western_bloc_representation', 'Western')"
   ]
  },
  {
   "cell_type": "code",
   "execution_count": 215,
   "metadata": {},
   "outputs": [
    {
     "data": {
      "text/html": [
       "<div>\n",
       "<style scoped>\n",
       "    .dataframe tbody tr th:only-of-type {\n",
       "        vertical-align: middle;\n",
       "    }\n",
       "\n",
       "    .dataframe tbody tr th {\n",
       "        vertical-align: top;\n",
       "    }\n",
       "\n",
       "    .dataframe thead th {\n",
       "        text-align: right;\n",
       "    }\n",
       "</style>\n",
       "<table border=\"1\" class=\"dataframe\">\n",
       "  <thead>\n",
       "    <tr style=\"text-align: right;\">\n",
       "      <th></th>\n",
       "      <th>movie_side</th>\n",
       "      <th>title</th>\n",
       "      <th>year_release_date</th>\n",
       "      <th>character_name</th>\n",
       "      <th>character_representation</th>\n",
       "      <th>character_side</th>\n",
       "    </tr>\n",
       "  </thead>\n",
       "  <tbody>\n",
       "    <tr>\n",
       "      <th>21823</th>\n",
       "      <td>Eastern</td>\n",
       "      <td>Spodelena lyubov</td>\n",
       "      <td>1980</td>\n",
       "      <td>Petko</td>\n",
       "      <td>[values camaraderie and resilience, archetype ...</td>\n",
       "      <td>Eastern</td>\n",
       "    </tr>\n",
       "    <tr>\n",
       "      <th>11868</th>\n",
       "      <td>Eastern</td>\n",
       "      <td>Jan Zizka</td>\n",
       "      <td>1956</td>\n",
       "      <td>Jan Zizka</td>\n",
       "      <td>[values of unity and resistance, archetype of ...</td>\n",
       "      <td>Eastern</td>\n",
       "    </tr>\n",
       "    <tr>\n",
       "      <th>5338</th>\n",
       "      <td>Eastern</td>\n",
       "      <td>Counter-Attack</td>\n",
       "      <td>1945</td>\n",
       "      <td>Colonel Semenov</td>\n",
       "      <td>[leadership, strategy, military archetype]</td>\n",
       "      <td>Eastern</td>\n",
       "    </tr>\n",
       "    <tr>\n",
       "      <th>16913</th>\n",
       "      <td>Eastern</td>\n",
       "      <td>Novenkaya</td>\n",
       "      <td>1969</td>\n",
       "      <td>Olga Kremneva</td>\n",
       "      <td>[nostalgia, mentorship, tragic hero]</td>\n",
       "      <td>Eastern</td>\n",
       "    </tr>\n",
       "    <tr>\n",
       "      <th>26819</th>\n",
       "      <td>Western</td>\n",
       "      <td>The Naked Spur</td>\n",
       "      <td>1953</td>\n",
       "      <td>Ben Vandergroat</td>\n",
       "      <td>[values of manipulation and survival, archetyp...</td>\n",
       "      <td>Eastern</td>\n",
       "    </tr>\n",
       "  </tbody>\n",
       "</table>\n",
       "</div>"
      ],
      "text/plain": [
       "      movie_side             title  year_release_date   character_name  \\\n",
       "21823    Eastern  Spodelena lyubov               1980            Petko   \n",
       "11868    Eastern         Jan Zizka               1956        Jan Zizka   \n",
       "5338     Eastern    Counter-Attack               1945  Colonel Semenov   \n",
       "16913    Eastern         Novenkaya               1969    Olga Kremneva   \n",
       "26819    Western    The Naked Spur               1953  Ben Vandergroat   \n",
       "\n",
       "                                character_representation character_side  \n",
       "21823  [values camaraderie and resilience, archetype ...        Eastern  \n",
       "11868  [values of unity and resistance, archetype of ...        Eastern  \n",
       "5338          [leadership, strategy, military archetype]        Eastern  \n",
       "16913               [nostalgia, mentorship, tragic hero]        Eastern  \n",
       "26819  [values of manipulation and survival, archetyp...        Eastern  "
      ]
     },
     "execution_count": 215,
     "metadata": {},
     "output_type": "execute_result"
    }
   ],
   "source": [
    "character_eastern.sample(5)"
   ]
  },
  {
   "cell_type": "code",
   "execution_count": 216,
   "metadata": {},
   "outputs": [
    {
     "data": {
      "text/html": [
       "<div>\n",
       "<style scoped>\n",
       "    .dataframe tbody tr th:only-of-type {\n",
       "        vertical-align: middle;\n",
       "    }\n",
       "\n",
       "    .dataframe tbody tr th {\n",
       "        vertical-align: top;\n",
       "    }\n",
       "\n",
       "    .dataframe thead th {\n",
       "        text-align: right;\n",
       "    }\n",
       "</style>\n",
       "<table border=\"1\" class=\"dataframe\">\n",
       "  <thead>\n",
       "    <tr style=\"text-align: right;\">\n",
       "      <th></th>\n",
       "      <th>movie_side</th>\n",
       "      <th>title</th>\n",
       "      <th>year_release_date</th>\n",
       "      <th>character_name</th>\n",
       "      <th>character_representation</th>\n",
       "      <th>character_side</th>\n",
       "    </tr>\n",
       "  </thead>\n",
       "  <tbody>\n",
       "    <tr>\n",
       "      <th>31763</th>\n",
       "      <td>Western</td>\n",
       "      <td>Witness to Murder</td>\n",
       "      <td>1954</td>\n",
       "      <td>Lt. Lawrence Mathews</td>\n",
       "      <td>[solidarity, justice, protector, hero archetype]</td>\n",
       "      <td>Western</td>\n",
       "    </tr>\n",
       "    <tr>\n",
       "      <th>15142</th>\n",
       "      <td>Eastern</td>\n",
       "      <td>Men in Soldier's Overcoats</td>\n",
       "      <td>1968</td>\n",
       "      <td>Estonian Shooting Corps</td>\n",
       "      <td>[loyalty, sacrifice, soldier archetype]</td>\n",
       "      <td>Western</td>\n",
       "    </tr>\n",
       "    <tr>\n",
       "      <th>12601</th>\n",
       "      <td>Western</td>\n",
       "      <td>King Creole</td>\n",
       "      <td>1958</td>\n",
       "      <td>Danny Fisher</td>\n",
       "      <td>[determined, resilient, hero]</td>\n",
       "      <td>Western</td>\n",
       "    </tr>\n",
       "    <tr>\n",
       "      <th>19085</th>\n",
       "      <td>Western</td>\n",
       "      <td>Rad</td>\n",
       "      <td>1986</td>\n",
       "      <td>Cru Jones</td>\n",
       "      <td>[ambition, individuality, hero]</td>\n",
       "      <td>Western</td>\n",
       "    </tr>\n",
       "    <tr>\n",
       "      <th>6213</th>\n",
       "      <td>Western</td>\n",
       "      <td>Deep West</td>\n",
       "      <td>1971</td>\n",
       "      <td>Hallelujah</td>\n",
       "      <td>[individualism, anti-hero]</td>\n",
       "      <td>Western</td>\n",
       "    </tr>\n",
       "  </tbody>\n",
       "</table>\n",
       "</div>"
      ],
      "text/plain": [
       "      movie_side                       title  year_release_date  \\\n",
       "31763    Western           Witness to Murder               1954   \n",
       "15142    Eastern  Men in Soldier's Overcoats               1968   \n",
       "12601    Western                 King Creole               1958   \n",
       "19085    Western                         Rad               1986   \n",
       "6213     Western                   Deep West               1971   \n",
       "\n",
       "                character_name  \\\n",
       "31763     Lt. Lawrence Mathews   \n",
       "15142  Estonian Shooting Corps   \n",
       "12601             Danny Fisher   \n",
       "19085                Cru Jones   \n",
       "6213                Hallelujah   \n",
       "\n",
       "                               character_representation character_side  \n",
       "31763  [solidarity, justice, protector, hero archetype]        Western  \n",
       "15142           [loyalty, sacrifice, soldier archetype]        Western  \n",
       "12601                     [determined, resilient, hero]        Western  \n",
       "19085                   [ambition, individuality, hero]        Western  \n",
       "6213                         [individualism, anti-hero]        Western  "
      ]
     },
     "execution_count": 216,
     "metadata": {},
     "output_type": "execute_result"
    }
   ],
   "source": [
    "character_western.sample(5)"
   ]
  },
  {
   "cell_type": "code",
   "execution_count": 218,
   "metadata": {},
   "outputs": [
    {
     "data": {
      "text/html": [
       "<div>\n",
       "<style scoped>\n",
       "    .dataframe tbody tr th:only-of-type {\n",
       "        vertical-align: middle;\n",
       "    }\n",
       "\n",
       "    .dataframe tbody tr th {\n",
       "        vertical-align: top;\n",
       "    }\n",
       "\n",
       "    .dataframe thead th {\n",
       "        text-align: right;\n",
       "    }\n",
       "</style>\n",
       "<table border=\"1\" class=\"dataframe\">\n",
       "  <thead>\n",
       "    <tr style=\"text-align: right;\">\n",
       "      <th></th>\n",
       "      <th>movie_side</th>\n",
       "      <th>title</th>\n",
       "      <th>year_release_date</th>\n",
       "      <th>character_name</th>\n",
       "      <th>character_representation</th>\n",
       "      <th>character_side</th>\n",
       "    </tr>\n",
       "  </thead>\n",
       "  <tbody>\n",
       "    <tr>\n",
       "      <th>26120</th>\n",
       "      <td>Eastern</td>\n",
       "      <td>The Left Hand of God</td>\n",
       "      <td>1955</td>\n",
       "      <td>General Yang</td>\n",
       "      <td>[authoritarian leadership, antagonist]</td>\n",
       "      <td>Western</td>\n",
       "    </tr>\n",
       "    <tr>\n",
       "      <th>19085</th>\n",
       "      <td>Western</td>\n",
       "      <td>Rad</td>\n",
       "      <td>1986</td>\n",
       "      <td>Duke Best</td>\n",
       "      <td>[manipulation, greed, antagonist]</td>\n",
       "      <td>Eastern</td>\n",
       "    </tr>\n",
       "    <tr>\n",
       "      <th>10358</th>\n",
       "      <td>Eastern</td>\n",
       "      <td>Hibiscus Town</td>\n",
       "      <td>1986</td>\n",
       "      <td>Hu Yuyin</td>\n",
       "      <td>[qin shutian, values love, personal sacrifice,...</td>\n",
       "      <td>Eastern</td>\n",
       "    </tr>\n",
       "    <tr>\n",
       "      <th>15601</th>\n",
       "      <td>None</td>\n",
       "      <td>Moon 44</td>\n",
       "      <td>1990</td>\n",
       "      <td>Felix Stone</td>\n",
       "      <td>[undercover agent, bravery, hero]</td>\n",
       "      <td>Western</td>\n",
       "    </tr>\n",
       "    <tr>\n",
       "      <th>10364</th>\n",
       "      <td>Eastern</td>\n",
       "      <td>Hidden River</td>\n",
       "      <td>1948</td>\n",
       "      <td>Regino Sandoval</td>\n",
       "      <td>[oppressive landlord, villain archetype]</td>\n",
       "      <td>Eastern</td>\n",
       "    </tr>\n",
       "  </tbody>\n",
       "</table>\n",
       "</div>"
      ],
      "text/plain": [
       "      movie_side                 title  year_release_date   character_name  \\\n",
       "26120    Eastern  The Left Hand of God               1955     General Yang   \n",
       "19085    Western                   Rad               1986        Duke Best   \n",
       "10358    Eastern         Hibiscus Town               1986         Hu Yuyin   \n",
       "15601       None               Moon 44               1990      Felix Stone   \n",
       "10364    Eastern          Hidden River               1948  Regino Sandoval   \n",
       "\n",
       "                                character_representation character_side  \n",
       "26120             [authoritarian leadership, antagonist]        Western  \n",
       "19085                  [manipulation, greed, antagonist]        Eastern  \n",
       "10358  [qin shutian, values love, personal sacrifice,...        Eastern  \n",
       "15601                  [undercover agent, bravery, hero]        Western  \n",
       "10364           [oppressive landlord, villain archetype]        Eastern  "
      ]
     },
     "execution_count": 218,
     "metadata": {},
     "output_type": "execute_result"
    }
   ],
   "source": [
    "character_df = pd.concat([character_eastern, character_western], axis=0)\n",
    "character_df.sample(5)"
   ]
  },
  {
   "cell_type": "code",
   "execution_count": 106,
   "metadata": {},
   "outputs": [],
   "source": [
    "# Preprocess the text\n",
    "def preprocess(string_list, nlp, words_to_remove):\n",
    "    docs = [nlp(s) for s in string_list]\n",
    "    tokens = []\n",
    "    for doc in docs:\n",
    "        tokens.extend([token.lemma_ for token in doc if not token.is_stop and not token.is_punct and token.lemma_ not in words_to_remove])\n",
    "    return tokens\n",
    "\n",
    "def topic_detection(df, nb_topics, nb_passes):\n",
    "    # Create a dictionary and corpus for Gensim\n",
    "    dictionary = corpora.Dictionary(df)\n",
    "    corpus = [dictionary.doc2bow(text) for text in df]\n",
    "    \n",
    "    # Train LDA model\n",
    "    lda_model = LdaModel(corpus, num_topics=nb_topics, id2word=dictionary, passes=nb_passes)\n",
    "    \n",
    "    # Print the topics\n",
    "    for idx, topic in lda_model.print_topics(-1):\n",
    "        print(f'Topic: {idx}\\nWords: {topic}\\n')\n",
    "    \n",
    "    return lda_model, corpus, dictionary\n",
    "\n",
    "# Assign topics to characters\n",
    "def get_dominant_topic(lda_model, corpus):\n",
    "    topics = []\n",
    "    for row in corpus:\n",
    "        row = lda_model[row]\n",
    "        max_topic, max_val = 0, 0\n",
    "        for (topic_num, prop_topic) in row:\n",
    "            if prop_topic > max_val:\n",
    "                max_val = prop_topic\n",
    "                max_topic = topic_num\n",
    "        topics.append(max_topic)\n",
    "    return topics"
   ]
  },
  {
   "cell_type": "code",
   "execution_count": 107,
   "metadata": {},
   "outputs": [],
   "source": [
    "nlp = spacy.load('en_core_web_sm')\n",
    "words_to_remove = {'archetype', 'hero', 'value', 'values', 'None', 'represent', 'figure', 'desire', 'seek', 'seeker'}"
   ]
  },
  {
   "cell_type": "code",
   "execution_count": 108,
   "metadata": {},
   "outputs": [
    {
     "name": "stdout",
     "output_type": "stream",
     "text": [
      "Topic: 0\n",
      "Words: 0.049*\"sacrifice\" + 0.033*\"love\" + 0.027*\"struggle\" + 0.025*\"freedom\" + 0.024*\"romantic\" + 0.022*\"tragic\" + 0.020*\"heroism\" + 0.018*\"duty\" + 0.017*\"soldier\" + 0.014*\"individualism\"\n",
      "\n",
      "Topic: 1\n",
      "Words: 0.086*\"antagonist\" + 0.081*\"villain\" + 0.037*\"antihero\" + 0.034*\"authority\" + 0.031*\"oppression\" + 0.025*\"power\" + 0.024*\"manipulation\" + 0.023*\"greed\" + 0.021*\"control\" + 0.016*\"ambition\"\n",
      "\n",
      "Topic: 2\n",
      "Words: 0.026*\"justice\" + 0.019*\"traditional\" + 0.019*\"revolutionary\" + 0.018*\"collectivism\" + 0.017*\"innocent\" + 0.017*\"innocence\" + 0.015*\"perseverance\" + 0.014*\"social\" + 0.013*\"moral\" + 0.013*\"law\"\n",
      "\n",
      "Topic: 3\n",
      "Words: 0.065*\"loyalty\" + 0.026*\"resistance\" + 0.025*\"resilience\" + 0.022*\"betrayal\" + 0.019*\"collective\" + 0.017*\"mentor\" + 0.016*\"rebel\" + 0.016*\"bravery\" + 0.014*\"protector\" + 0.013*\"courage\"\n",
      "\n",
      "dominant_topic\n",
      "1    1328\n",
      "3    1113\n",
      "0    1026\n",
      "2     832\n",
      "Name: count, dtype: int64\n"
     ]
    }
   ],
   "source": [
    "character_eastern['processed_repres'] = character_eastern['character_representation'].apply(preprocess, args=(nlp, words_to_remove))\n",
    "eastern_char_topic = topic_detection(character_eastern['processed_repres'], 4, 15)\n",
    "character_eastern['dominant_topic'] = get_dominant_topic(eastern_char_topic[0], eastern_char_topic[1])\n",
    "print(character_eastern['dominant_topic'].value_counts())"
   ]
  },
  {
   "cell_type": "code",
   "execution_count": 109,
   "metadata": {},
   "outputs": [
    {
     "name": "stdout",
     "output_type": "stream",
     "text": [
      "Topic: 0\n",
      "Words: 0.045*\"antihero\" + 0.041*\"everyman\" + 0.032*\"moral\" + 0.028*\"individualism\" + 0.018*\"american\" + 0.018*\"resilience\" + 0.017*\"ambition\" + 0.012*\"community\" + 0.012*\"revolutionary\" + 0.010*\"determination\"\n",
      "\n",
      "Topic: 1\n",
      "Words: 0.031*\"courage\" + 0.028*\"honor\" + 0.027*\"family\" + 0.022*\"heroic\" + 0.022*\"mentor\" + 0.020*\"loyalty\" + 0.018*\"teamwork\" + 0.016*\"resourceful\" + 0.015*\"anti\" + 0.015*\"idealism\"\n",
      "\n",
      "Topic: 2\n",
      "Words: 0.052*\"bravery\" + 0.051*\"heroism\" + 0.045*\"individualism\" + 0.042*\"loyalty\" + 0.036*\"freedom\" + 0.024*\"romantic\" + 0.023*\"sacrifice\" + 0.023*\"love\" + 0.017*\"duty\" + 0.016*\"camaraderie\"\n",
      "\n",
      "Topic: 3\n",
      "Words: 0.150*\"justice\" + 0.033*\"law\" + 0.032*\"integrity\" + 0.029*\"determination\" + 0.027*\"truth\" + 0.025*\"protector\" + 0.025*\"bravery\" + 0.024*\"american\" + 0.024*\"enforcement\" + 0.024*\"leadership\"\n",
      "\n",
      "dominant_topic\n",
      "2    1145\n",
      "3    1045\n",
      "1     881\n",
      "0     873\n",
      "Name: count, dtype: int64\n"
     ]
    }
   ],
   "source": [
    "character_western['processed_repres'] = character_western['character_representation'].apply(preprocess, args=(nlp, words_to_remove))\n",
    "western_char_topic = topic_detection(character_western['processed_repres'], 4, 15)\n",
    "character_western['dominant_topic'] = get_dominant_topic(western_char_topic[0], western_char_topic[1])\n",
    "print(character_western['dominant_topic'].value_counts())"
   ]
  },
  {
   "cell_type": "code",
   "execution_count": 110,
   "metadata": {},
   "outputs": [
    {
     "data": {
      "text/html": [
       "<div>\n",
       "<style scoped>\n",
       "    .dataframe tbody tr th:only-of-type {\n",
       "        vertical-align: middle;\n",
       "    }\n",
       "\n",
       "    .dataframe tbody tr th {\n",
       "        vertical-align: top;\n",
       "    }\n",
       "\n",
       "    .dataframe thead th {\n",
       "        text-align: right;\n",
       "    }\n",
       "</style>\n",
       "<table border=\"1\" class=\"dataframe\">\n",
       "  <thead>\n",
       "    <tr style=\"text-align: right;\">\n",
       "      <th></th>\n",
       "      <th>movie_side</th>\n",
       "      <th>title</th>\n",
       "      <th>year_release_date</th>\n",
       "      <th>character_name</th>\n",
       "      <th>character_representation</th>\n",
       "      <th>character_side</th>\n",
       "      <th>processed_repres</th>\n",
       "      <th>dominant_topic</th>\n",
       "    </tr>\n",
       "  </thead>\n",
       "  <tbody>\n",
       "    <tr>\n",
       "      <th>13061</th>\n",
       "      <td>None</td>\n",
       "      <td>La Muerte de Mikel</td>\n",
       "      <td>1984</td>\n",
       "      <td>Mikel</td>\n",
       "      <td>[begoña, doña maria luisa, martín, values of b...</td>\n",
       "      <td>Eastern</td>\n",
       "      <td>[begoña, doña, maria, luisa, martín, basque, n...</td>\n",
       "      <td>3</td>\n",
       "    </tr>\n",
       "    <tr>\n",
       "      <th>26964</th>\n",
       "      <td>Western</td>\n",
       "      <td>The Odessa File</td>\n",
       "      <td>1974</td>\n",
       "      <td>Eduard Roschmann</td>\n",
       "      <td>[former ss officer, power-driven, villain]</td>\n",
       "      <td>Eastern</td>\n",
       "      <td>[ss, officer, power, drive, villain]</td>\n",
       "      <td>1</td>\n",
       "    </tr>\n",
       "    <tr>\n",
       "      <th>23315</th>\n",
       "      <td>Eastern</td>\n",
       "      <td>The Apple Game</td>\n",
       "      <td>1977</td>\n",
       "      <td>Czech society</td>\n",
       "      <td>[satire, critical commentary]</td>\n",
       "      <td>Eastern</td>\n",
       "      <td>[satire, critical, commentary]</td>\n",
       "      <td>1</td>\n",
       "    </tr>\n",
       "    <tr>\n",
       "      <th>12522</th>\n",
       "      <td>Eastern</td>\n",
       "      <td>Kievlyanka</td>\n",
       "      <td>1958</td>\n",
       "      <td>Gali</td>\n",
       "      <td>[resilience, orphan archetype]</td>\n",
       "      <td>Eastern</td>\n",
       "      <td>[resilience, orphan]</td>\n",
       "      <td>3</td>\n",
       "    </tr>\n",
       "    <tr>\n",
       "      <th>28989</th>\n",
       "      <td>None</td>\n",
       "      <td>The World of Suzie Wong</td>\n",
       "      <td>1960</td>\n",
       "      <td>Suzie Wong</td>\n",
       "      <td>[young woman forced into prostitution, surviva...</td>\n",
       "      <td>Eastern</td>\n",
       "      <td>[young, woman, force, prostitution, survivalis...</td>\n",
       "      <td>2</td>\n",
       "    </tr>\n",
       "  </tbody>\n",
       "</table>\n",
       "</div>"
      ],
      "text/plain": [
       "      movie_side                    title  year_release_date  \\\n",
       "13061       None       La Muerte de Mikel               1984   \n",
       "26964    Western          The Odessa File               1974   \n",
       "23315    Eastern           The Apple Game               1977   \n",
       "12522    Eastern               Kievlyanka               1958   \n",
       "28989       None  The World of Suzie Wong               1960   \n",
       "\n",
       "         character_name                           character_representation  \\\n",
       "13061             Mikel  [begoña, doña maria luisa, martín, values of b...   \n",
       "26964  Eduard Roschmann         [former ss officer, power-driven, villain]   \n",
       "23315     Czech society                      [satire, critical commentary]   \n",
       "12522              Gali                     [resilience, orphan archetype]   \n",
       "28989        Suzie Wong  [young woman forced into prostitution, surviva...   \n",
       "\n",
       "      character_side                                   processed_repres  \\\n",
       "13061        Eastern  [begoña, doña, maria, luisa, martín, basque, n...   \n",
       "26964        Eastern               [ss, officer, power, drive, villain]   \n",
       "23315        Eastern                     [satire, critical, commentary]   \n",
       "12522        Eastern                               [resilience, orphan]   \n",
       "28989        Eastern  [young, woman, force, prostitution, survivalis...   \n",
       "\n",
       "       dominant_topic  \n",
       "13061               3  \n",
       "26964               1  \n",
       "23315               1  \n",
       "12522               3  \n",
       "28989               2  "
      ]
     },
     "execution_count": 110,
     "metadata": {},
     "output_type": "execute_result"
    }
   ],
   "source": [
    "character_eastern.sample(5)"
   ]
  },
  {
   "cell_type": "code",
   "execution_count": 111,
   "metadata": {},
   "outputs": [
    {
     "name": "stdout",
     "output_type": "stream",
     "text": [
      "Eastern movie Eastern characters\n",
      "dominant_topic\n",
      "0    726\n",
      "3    659\n",
      "2    555\n",
      "1    424\n",
      "Name: count, dtype: int64\n",
      "Western movie Eastern characters\n",
      "dominant_topic\n",
      "1    752\n",
      "3    396\n",
      "0    240\n",
      "2    223\n",
      "Name: count, dtype: int64\n",
      "Eastern movie Western characters\n",
      "dominant_topic\n",
      "2    308\n",
      "0    248\n",
      "1    246\n",
      "3    104\n",
      "Name: count, dtype: int64\n",
      "Western movie Western characters\n",
      "dominant_topic\n",
      "3    865\n",
      "2    781\n",
      "1    568\n",
      "0    560\n",
      "Name: count, dtype: int64\n"
     ]
    }
   ],
   "source": [
    "eastern_movie_eastern_char = character_eastern[character_eastern[\"movie_side\"] == 'Eastern']\n",
    "western_movie_eastern_char = character_eastern[character_eastern[\"movie_side\"] == 'Western']\n",
    "eastern_movie_western_char = character_western[character_western[\"movie_side\"] == 'Eastern']\n",
    "western_movie_western_char = character_western[character_western[\"movie_side\"] == 'Western']\n",
    "\n",
    "# count dominant topic for each df above\n",
    "print(\"Eastern movie Eastern characters\")\n",
    "print(eastern_movie_eastern_char['dominant_topic'].value_counts())\n",
    "\n",
    "print(\"Western movie Eastern characters\")\n",
    "print(western_movie_eastern_char['dominant_topic'].value_counts())\n",
    "\n",
    "print(\"Eastern movie Western characters\")\n",
    "print(eastern_movie_western_char['dominant_topic'].value_counts())\n",
    "\n",
    "print(\"Western movie Western characters\")\n",
    "print(western_movie_western_char['dominant_topic'].value_counts())"
   ]
  },
  {
   "cell_type": "code",
   "execution_count": 72,
   "metadata": {},
   "outputs": [],
   "source": [
    "# plot topics\n",
    "import pyLDAvis\n",
    "from pyLDAvis import gensim_models"
   ]
  },
  {
   "cell_type": "code",
   "execution_count": 73,
   "metadata": {},
   "outputs": [
    {
     "data": {
      "text/html": [
       "\n",
       "<link rel=\"stylesheet\" type=\"text/css\" href=\"https://cdn.jsdelivr.net/gh/bmabey/pyLDAvis@3.4.0/pyLDAvis/js/ldavis.v1.0.0.css\">\n",
       "\n",
       "\n",
       "<div id=\"ldavis_el141656324204409848029047279\" style=\"background-color:white;\"></div>\n",
       "<script type=\"text/javascript\">\n",
       "\n",
       "var ldavis_el141656324204409848029047279_data = {\"mdsDat\": {\"x\": [-0.11079069669503958, -0.22336858192206188, 0.18552647281858836, 0.14863280579851287], \"y\": [-0.2179263934156229, 0.16143801763386098, 0.09540765690411714, -0.038919281122355064], \"topics\": [1, 2, 3, 4], \"cluster\": [1, 1, 1, 1], \"Freq\": [26.82998468834244, 26.660648033715834, 24.865756320998113, 21.643610956943615]}, \"tinfo\": {\"Term\": [\"justice\", \"individualism\", \"loyalty\", \"heroism\", \"american\", \"bravery\", \"antihero\", \"determination\", \"sacrifice\", \"protector\", \"law\", \"integrity\", \"duty\", \"courage\", \"ambition\", \"love\", \"heroic\", \"family\", \"resourcefulness\", \"enforcement\", \"redemption\", \"camaraderie\", \"tragic\", \"freedom\", \"detective\", \"anti\", \"idealism\", \"teamwork\", \"mentor\", \"leadership\", \"protector\", \"sacrifice\", \"duty\", \"loyalty\", \"integrity\", \"camaraderie\", \"patriotism\", \"warrior\", \"love\", \"ideal\", \"family\", \"vengeance\", \"martyr\", \"valor\", \"honest\", \"come\", \"age\", \"state\", \"victim\", \"army\", \"political\", \"solidarity\", \"patriotic\", \"honorable\", \"commitment\", \"human\", \"authoritarian\", \"nostalgia\", \"cowboy\", \"betrayal\", \"soldier\", \"discipline\", \"heroism\", \"tragic\", \"reluctant\", \"orient\", \"collective\", \"traditional\", \"bravery\", \"honor\", \"conflict\", \"romantic\", \"officer\", \"resilience\", \"everyman\", \"leadership\", \"protagonist\", \"moral\", \"american\", \"law\", \"courage\", \"heroic\", \"enforcement\", \"resourcefulness\", \"teamwork\", \"perseverance\", \"agent\", \"revolutionary\", \"determination\", \"order\", \"democracy\", \"scientific\", \"detective\", \"british\", \"justice\", \"morality\", \"hope\", \"rationality\", \"fighter\", \"woman\", \"u.s\", \"honesty\", \"guilt\", \"adaptability\", \"nationalism\", \"rationalism\", \"faith\", \"sergeant\", \"inquiry\", \"intelligence\", \"military\", \"truth\", \"leadership\", \"freedom\", \"bravery\", \"resilience\", \"honor\", \"seeking\", \"compassion\", \"heroine\", \"heroism\", \"archetypal\", \"rebel\", \"leader\", \"independence\", \"individualism\", \"resourceful\", \"authority\", \"community\", \"revenge\", \"innovation\", \"cunne\", \"charm\", \"adventurous\", \"ambiguity\", \"hardworke\", \"determine\", \"ambitious\", \"flawed\", \"artist\", \"hard\", \"creativity\", \"rugged\", \"drive\", \"rogue\", \"capitalism\", \"supportive\", \"private\", \"youthful\", \"clever\", \"spirit\", \"capitalist\", \"life\", \"disillusionment\", \"optimistic\", \"american\", \"trickster\", \"antihero\", \"work\", \"brave\", \"rebellious\", \"everyman\", \"moral\", \"romantic\", \"freedom\", \"rebel\", \"survival\", \"protagonist\", \"leader\", \"rebellion\", \"ambition\", \"redemption\", \"idealism\", \"anti\", \"humor\", \"responsibility\", \"young\", \"youth\", \"idealistic\", \"father\", \"antagonist\", \"soviet\", \"pursuit\", \"education\", \"manipulative\", \"investigative\", \"success\", \"comic\", \"relief\", \"willed\", \"progressive\", \"ingenuity\", \"interest\", \"science\", \"bumble\", \"dreamer\", \"femme\", \"fatale\", \"socialist\", \"control\", \"mentor\", \"self\", \"friendship\", \"good\", \"nurture\", \"rebellion\", \"innocence\", \"strong\", \"adventure\", \"innocent\", \"personal\", \"protagonist\", \"antihero\", \"moral\", \"tragic\", \"everyman\", \"independence\", \"conflict\", \"resilience\"], \"Freq\": [472.0, 270.0, 233.0, 276.0, 186.0, 282.0, 198.0, 124.0, 114.0, 110.0, 104.0, 105.0, 102.0, 101.0, 86.0, 92.0, 84.0, 90.0, 76.0, 75.0, 64.0, 65.0, 112.0, 140.0, 65.0, 52.0, 51.0, 58.0, 73.0, 106.0, 110.07943282898525, 113.93475122429842, 102.0123790650658, 231.8055373567116, 104.69628179345217, 64.66145929184799, 36.4990896380968, 32.03963229510701, 90.69885625519345, 22.804436542119355, 88.14112524481749, 20.668621717990757, 17.490232856720745, 15.939607619247207, 16.026069316963632, 12.2077020901232, 12.2077020901232, 12.02783709511404, 11.47368843981556, 11.12859079780151, 10.831383949956908, 9.302434428001567, 9.392612793422641, 9.127645001981612, 9.001912853046239, 8.303569292467307, 8.38466294527299, 6.816558423120354, 6.546199924160627, 6.625885929694828, 48.55379090316164, 14.906055865650217, 205.68147858054553, 82.18812849100415, 32.93696210546001, 19.84988754241185, 18.685867582413227, 21.358640832311732, 134.9519888472892, 46.645147771561334, 26.60066624935496, 42.63247390969139, 16.707579263392002, 47.213142852724054, 42.2459028399266, 35.37435039163016, 31.226966567303577, 26.017323879046433, 27.35705003169625, 103.70530467230903, 100.51980986441883, 83.84745971388882, 75.25789949552339, 75.65232005405356, 58.232843534677365, 40.88699667314562, 37.70445235429143, 36.56828972948771, 122.37683549067519, 27.409288526353595, 26.1667349380268, 24.86486054392593, 63.678120614591045, 41.332374352803434, 455.0522924167212, 18.39752794341332, 17.707108410215998, 12.884611412226281, 11.646662014451646, 11.181812976705675, 9.955993556033569, 8.819867472424702, 8.644400053895593, 8.289426140112678, 7.15540669887716, 6.89950233781958, 6.885266993036547, 6.708761124737276, 6.460845688630017, 28.663181782219702, 25.477195792687, 61.232348759509684, 70.37443903758142, 84.63599490466662, 147.17710989758652, 68.92234294162245, 46.06512192724478, 17.293025289671093, 17.76250486162133, 23.29028516116344, 70.2457596447852, 19.880447811928192, 22.759786892571054, 22.514304845102796, 18.991043627027082, 270.2249333843308, 51.13748955586673, 42.07279596129431, 39.37261787117367, 33.43345679722886, 27.10036883061884, 24.66951551412519, 28.044358479075346, 23.92643162445022, 23.129176208587197, 22.93416885938446, 21.930897103583753, 22.025942182846045, 21.733984382622427, 20.187997124026317, 19.559509773905187, 18.958089164863853, 13.811470802756874, 13.895911109086581, 13.737237392228796, 12.255436750312228, 12.342318215134638, 12.50779785016672, 12.058688094223625, 11.791370143097774, 31.82517085686542, 11.859355614535602, 10.571959958037858, 9.610879822380662, 9.60702152382791, 158.24985565539592, 48.42711249578372, 148.58039516244574, 21.898686492822904, 30.267245699172854, 17.818194962200153, 71.82108940894715, 48.908347263423636, 44.103231122767156, 51.2442220777048, 29.569600645987045, 17.398876850875137, 30.51159298294952, 24.326577130600413, 21.059907605066158, 85.76420990020043, 63.657117299754056, 51.12544323635399, 51.55841167646931, 32.60999079752863, 28.454296792281784, 26.983429322068215, 20.375224359021924, 19.26587311847176, 16.83868488145446, 15.815265044506532, 15.908102142955096, 15.90716390669226, 14.057771915032935, 12.102418555319003, 14.015149773275121, 10.897932227355927, 10.249864155550233, 10.248172570758705, 10.243682144409581, 9.608055361400954, 9.927724873982594, 9.319251752227855, 9.313067671448387, 8.30175177217067, 8.294679816339531, 8.022440216483144, 8.022440216483144, 8.010107928663672, 7.832750920284755, 60.68165000615949, 44.60128216631058, 44.63540913061208, 12.99437217521445, 17.964840209423887, 31.986988121412406, 21.61488419864733, 20.30989276042581, 18.242287710418626, 20.019566586964416, 22.25516146007345, 37.489026328165345, 49.59144902276198, 29.67112851577683, 29.105708710533047, 30.62409784745934, 15.862859838457387, 15.988448281275032, 17.77970825789631], \"Total\": [472.0, 270.0, 233.0, 276.0, 186.0, 282.0, 198.0, 124.0, 114.0, 110.0, 104.0, 105.0, 102.0, 101.0, 86.0, 92.0, 84.0, 90.0, 76.0, 75.0, 64.0, 65.0, 112.0, 140.0, 65.0, 52.0, 51.0, 58.0, 73.0, 106.0, 110.75357897290014, 114.64126445749783, 102.66240673669354, 233.95807610593025, 105.75239877329082, 65.343177477599, 37.15733884860915, 32.69876365250982, 92.77462684164033, 23.504874993881177, 90.92347471336724, 21.326114698811892, 18.144505079843487, 16.592445587845432, 16.690877729091252, 12.860936217687208, 12.860937174598353, 12.68401355231261, 12.133999892193152, 11.780620026935916, 11.505596954471521, 9.953878499603176, 10.051934815966728, 9.77725328255272, 9.67871904392537, 8.952314718657394, 9.050200334888881, 7.497537731572253, 7.2229178895091986, 7.320725474709113, 54.55899509884231, 16.749651054315304, 276.54079267749523, 112.95093712863802, 43.75278809161913, 24.521946761963104, 22.890267759612907, 27.611174194289223, 282.5712306374157, 93.15820234813151, 43.04715979712175, 100.35848364313682, 22.1704277802848, 134.23718776154325, 144.91633530610432, 106.26520030183487, 108.51557070104087, 104.92137530787886, 186.14107024566928, 104.36198755125218, 101.1862257057516, 84.54885517700112, 75.91480716804581, 76.33316722224095, 58.91534121651842, 41.553469885873874, 38.37813476893107, 37.23706247257853, 124.75718577105634, 28.071355813958817, 26.835534311539806, 25.523427853604566, 65.45712652584425, 42.520345141475524, 472.3296390499515, 19.097164300010824, 18.39318385156591, 13.543577300534489, 12.30749815884616, 11.871111569585901, 10.634350265603135, 9.493284774761541, 9.322179917064451, 8.96080135632515, 7.819859752204745, 7.553587636250166, 7.553733685768557, 7.382781159072105, 7.116378438739249, 31.76173081897727, 28.531676188040056, 88.09992183445121, 106.26520030183487, 140.15048342555932, 282.5712306374157, 134.23718776154325, 93.15820234813151, 23.99420240811558, 25.053040078399984, 40.0562960046187, 276.54079267749523, 30.695902147751337, 63.49263723236257, 63.71092853557711, 35.414276669006746, 270.88045526716184, 51.79287722778962, 42.764450216724626, 40.025719977664345, 34.09238626720526, 27.804443188979263, 25.32115704708398, 28.791860879475053, 24.591899413606342, 23.7841108410971, 23.586641848380033, 22.581403537567233, 22.680147649866193, 22.40355061634249, 20.846985770997048, 20.216135802570797, 19.765347947615325, 14.460591309900018, 14.558766353906844, 14.46083043824488, 12.903370614402817, 13.002071143915172, 13.177922240403445, 12.725936550200236, 12.449581963515683, 33.629409718255936, 12.54929894035006, 11.267684390997589, 10.262075964550725, 10.262205300526666, 186.14107024566928, 55.3439086007615, 198.91293788613228, 25.75105238765012, 38.56661099057861, 21.450596414822698, 144.91633530610432, 104.92137530787886, 100.35848364313682, 140.15048342555932, 63.49263723236257, 23.503782821010045, 108.51557070104087, 63.71092853557711, 53.796712622454734, 86.42814982729713, 64.33875858690469, 51.779516982743424, 52.24033960286689, 33.28039004701102, 29.108278698714344, 27.795232885708007, 21.023229835662804, 19.91970755400206, 17.49175081833341, 16.468656860290942, 16.568526707346408, 16.5682582711543, 14.703396615969682, 12.757065099901961, 14.801317548176108, 11.55324113504889, 10.891716279240596, 10.891571815992473, 10.891288182529156, 10.249839728028814, 10.608096243470921, 9.968489725104591, 9.967847659355222, 8.945514351478513, 8.945182054991434, 8.664785533609288, 8.664785577440828, 8.664009770120279, 8.483528421303872, 73.69635159447431, 59.98078421477469, 60.07305902621336, 15.053730502160349, 22.439045864176943, 53.796712622454734, 31.969565476987007, 30.586177278528304, 27.34134209657615, 33.93927885744061, 42.465609504989644, 108.51557070104087, 198.91293788613228, 104.92137530787886, 112.95093712863802, 144.91633530610432, 35.414276669006746, 43.04715979712175, 134.23718776154325], \"Category\": [\"Default\", \"Default\", \"Default\", \"Default\", \"Default\", \"Default\", \"Default\", \"Default\", \"Default\", \"Default\", \"Default\", \"Default\", \"Default\", \"Default\", \"Default\", \"Default\", \"Default\", \"Default\", \"Default\", \"Default\", \"Default\", \"Default\", \"Default\", \"Default\", \"Default\", \"Default\", \"Default\", \"Default\", \"Default\", \"Default\", \"Topic1\", \"Topic1\", \"Topic1\", \"Topic1\", \"Topic1\", \"Topic1\", \"Topic1\", \"Topic1\", \"Topic1\", \"Topic1\", \"Topic1\", \"Topic1\", \"Topic1\", \"Topic1\", \"Topic1\", \"Topic1\", \"Topic1\", \"Topic1\", \"Topic1\", \"Topic1\", \"Topic1\", \"Topic1\", \"Topic1\", \"Topic1\", \"Topic1\", \"Topic1\", \"Topic1\", \"Topic1\", \"Topic1\", \"Topic1\", \"Topic1\", \"Topic1\", \"Topic1\", \"Topic1\", \"Topic1\", \"Topic1\", \"Topic1\", \"Topic1\", \"Topic1\", \"Topic1\", \"Topic1\", \"Topic1\", \"Topic1\", \"Topic1\", \"Topic1\", \"Topic1\", \"Topic1\", \"Topic1\", \"Topic1\", \"Topic2\", \"Topic2\", \"Topic2\", \"Topic2\", \"Topic2\", \"Topic2\", \"Topic2\", \"Topic2\", \"Topic2\", \"Topic2\", \"Topic2\", \"Topic2\", \"Topic2\", \"Topic2\", \"Topic2\", \"Topic2\", \"Topic2\", \"Topic2\", \"Topic2\", \"Topic2\", \"Topic2\", \"Topic2\", \"Topic2\", \"Topic2\", \"Topic2\", \"Topic2\", \"Topic2\", \"Topic2\", \"Topic2\", \"Topic2\", \"Topic2\", \"Topic2\", \"Topic2\", \"Topic2\", \"Topic2\", \"Topic2\", \"Topic2\", \"Topic2\", \"Topic2\", \"Topic2\", \"Topic2\", \"Topic2\", \"Topic2\", \"Topic2\", \"Topic2\", \"Topic2\", \"Topic3\", \"Topic3\", \"Topic3\", \"Topic3\", \"Topic3\", \"Topic3\", \"Topic3\", \"Topic3\", \"Topic3\", \"Topic3\", \"Topic3\", \"Topic3\", \"Topic3\", \"Topic3\", \"Topic3\", \"Topic3\", \"Topic3\", \"Topic3\", \"Topic3\", \"Topic3\", \"Topic3\", \"Topic3\", \"Topic3\", \"Topic3\", \"Topic3\", \"Topic3\", \"Topic3\", \"Topic3\", \"Topic3\", \"Topic3\", \"Topic3\", \"Topic3\", \"Topic3\", \"Topic3\", \"Topic3\", \"Topic3\", \"Topic3\", \"Topic3\", \"Topic3\", \"Topic3\", \"Topic3\", \"Topic3\", \"Topic3\", \"Topic3\", \"Topic3\", \"Topic4\", \"Topic4\", \"Topic4\", \"Topic4\", \"Topic4\", \"Topic4\", \"Topic4\", \"Topic4\", \"Topic4\", \"Topic4\", \"Topic4\", \"Topic4\", \"Topic4\", \"Topic4\", \"Topic4\", \"Topic4\", \"Topic4\", \"Topic4\", \"Topic4\", \"Topic4\", \"Topic4\", \"Topic4\", \"Topic4\", \"Topic4\", \"Topic4\", \"Topic4\", \"Topic4\", \"Topic4\", \"Topic4\", \"Topic4\", \"Topic4\", \"Topic4\", \"Topic4\", \"Topic4\", \"Topic4\", \"Topic4\", \"Topic4\", \"Topic4\", \"Topic4\", \"Topic4\", \"Topic4\", \"Topic4\", \"Topic4\", \"Topic4\", \"Topic4\", \"Topic4\", \"Topic4\", \"Topic4\", \"Topic4\"], \"logprob\": [30.0, 29.0, 28.0, 27.0, 26.0, 25.0, 24.0, 23.0, 22.0, 21.0, 20.0, 19.0, 18.0, 17.0, 16.0, 15.0, 14.0, 13.0, 12.0, 11.0, 10.0, 9.0, 8.0, 7.0, 6.0, 5.0, 4.0, 3.0, 2.0, 1.0, -3.5076, -3.4731, -3.5837, -2.7629, -3.5577, -4.0396, -4.6115, -4.7418, -3.7012, -5.0818, -3.7298, -5.1802, -5.3471, -5.44, -5.4346, -5.7067, -5.7067, -5.7215, -5.7687, -5.7993, -5.8263, -5.9785, -5.9688, -5.9975, -6.0113, -6.0921, -6.0824, -6.2894, -6.3299, -6.3178, -4.3261, -5.507, -2.8824, -3.7998, -4.7142, -5.2206, -5.281, -5.1473, -3.3039, -4.3662, -4.9278, -4.4562, -5.3929, -4.3541, -4.4653, -4.6428, -4.7675, -4.95, -4.8998, -3.5609, -3.5921, -3.7734, -3.8815, -3.8763, -4.138, -4.4916, -4.5727, -4.6033, -3.3953, -4.8916, -4.938, -4.989, -4.0486, -4.4808, -2.082, -5.2902, -5.3285, -5.6464, -5.7474, -5.7882, -5.9043, -6.0254, -6.0455, -6.0875, -6.2346, -6.271, -6.2731, -6.299, -6.3367, -4.8468, -4.9647, -4.0878, -3.9486, -3.7641, -3.2108, -3.9695, -4.3724, -5.3521, -5.3253, -5.0544, -3.9504, -5.2127, -5.0774, -5.0883, -5.2585, -2.5335, -4.1982, -4.3933, -4.4597, -4.6232, -4.8332, -4.9272, -4.799, -4.9578, -4.9916, -5.0001, -5.0448, -5.0405, -5.0539, -5.1277, -5.1593, -5.1905, -5.5072, -5.5011, -5.5126, -5.6268, -5.6197, -5.6064, -5.643, -5.6654, -4.6725, -5.6596, -5.7745, -5.8698, -5.8702, -3.0686, -4.2527, -3.1316, -5.0463, -4.7227, -5.2525, -3.8586, -4.2428, -4.3462, -4.1961, -4.746, -5.2763, -4.7146, -4.9412, -5.0854, -3.5424, -3.8404, -4.0597, -4.0512, -4.5093, -4.6457, -4.6987, -4.9796, -5.0356, -5.1703, -5.233, -5.2271, -5.2272, -5.3508, -5.5006, -5.3538, -5.6054, -5.6667, -5.6669, -5.6673, -5.7314, -5.6986, -5.7619, -5.7625, -5.8775, -5.8783, -5.9117, -5.9117, -5.9133, -5.9356, -3.8883, -4.1962, -4.1954, -5.4294, -5.1055, -4.5286, -4.9206, -4.9829, -5.0902, -4.9973, -4.8914, -4.3699, -4.0901, -4.6038, -4.623, -4.5722, -5.23, -5.2221, -5.1159], \"loglift\": [30.0, 29.0, 28.0, 27.0, 26.0, 25.0, 24.0, 23.0, 22.0, 21.0, 20.0, 19.0, 18.0, 17.0, 16.0, 15.0, 14.0, 13.0, 12.0, 11.0, 10.0, 9.0, 8.0, 7.0, 6.0, 5.0, 4.0, 3.0, 2.0, 1.0, 1.3095, 1.3095, 1.3093, 1.3064, 1.3056, 1.3052, 1.2978, 1.2953, 1.293, 1.2854, 1.2846, 1.2843, 1.2789, 1.2755, 1.275, 1.2635, 1.2635, 1.2625, 1.2597, 1.2587, 1.2553, 1.248, 1.2478, 1.2469, 1.2432, 1.2404, 1.2393, 1.2204, 1.2173, 1.2159, 1.199, 1.199, 1.0196, 0.9977, 1.0317, 1.1043, 1.1127, 1.0589, 0.5766, 0.6239, 0.8343, 0.4595, 1.0328, 0.2707, 0.083, 0.2157, 0.07, -0.0788, -0.6019, 1.3157, 1.3154, 1.3137, 1.3133, 1.313, 1.3103, 1.3058, 1.3043, 1.3039, 1.3027, 1.2981, 1.2967, 1.2958, 1.2944, 1.2936, 1.2847, 1.2847, 1.284, 1.2721, 1.2668, 1.2622, 1.2561, 1.2484, 1.2465, 1.2441, 1.2332, 1.2314, 1.2293, 1.2262, 1.2253, 1.2193, 1.2088, 0.9582, 0.9099, 0.8176, 0.6697, 0.6554, 0.6177, 0.9945, 0.9781, 0.7797, -0.0484, 0.8876, 0.2961, 0.2818, 0.6988, 1.3893, 1.3789, 1.3754, 1.3752, 1.3722, 1.366, 1.3656, 1.3654, 1.3642, 1.3638, 1.3636, 1.3624, 1.3624, 1.3613, 1.3596, 1.3587, 1.35, 1.3458, 1.3451, 1.3403, 1.3402, 1.3396, 1.3395, 1.3378, 1.3374, 1.3365, 1.3351, 1.3279, 1.3261, 1.3257, 1.2293, 1.2582, 1.0999, 1.2296, 1.1494, 1.2061, 0.6897, 0.6284, 0.5695, 0.3856, 0.6275, 1.0909, 0.1229, 0.4289, 0.4538, 1.5227, 1.5198, 1.5177, 1.5173, 1.5101, 1.5077, 1.5008, 1.4992, 1.4971, 1.4924, 1.49, 1.4898, 1.4897, 1.4856, 1.4778, 1.4759, 1.4721, 1.4697, 1.4696, 1.4692, 1.4658, 1.4642, 1.4631, 1.4625, 1.4558, 1.455, 1.4534, 1.4534, 1.452, 1.4506, 1.3361, 1.2342, 1.2334, 1.3834, 1.3081, 1.0106, 1.1391, 1.121, 1.1258, 1.0026, 0.8843, 0.4676, 0.1414, 0.2674, 0.1744, -0.0239, 0.7273, 0.54, -0.4911]}, \"token.table\": {\"Topic\": [2, 1, 4, 3, 1, 2, 3, 4, 3, 1, 3, 4, 4, 1, 3, 4, 1, 2, 1, 3, 1, 3, 1, 2, 3, 1, 2, 1, 2, 4, 1, 3, 3, 3, 3, 1, 3, 1, 4, 1, 3, 2, 3, 1, 4, 4, 2, 1, 3, 3, 2, 2, 3, 2, 3, 4, 3, 1, 2, 3, 4, 3, 1, 4, 2, 1, 3, 4, 2, 1, 3, 4, 4, 4, 2, 3, 2, 3, 4, 1, 2, 4, 1, 4, 2, 3, 3, 2, 2, 3, 4, 1, 2, 1, 2, 1, 2, 1, 2, 1, 4, 1, 4, 4, 2, 4, 3, 4, 1, 4, 1, 4, 3, 2, 1, 2, 1, 2, 4, 4, 1, 2, 3, 2, 1, 2, 3, 1, 2, 3, 1, 2, 1, 4, 4, 1, 1, 2, 3, 4, 1, 2, 4, 1, 3, 4, 2, 2, 1, 3, 4, 1, 2, 3, 2, 1, 3, 1, 1, 2, 1, 3, 4, 1, 3, 4, 1, 2, 3, 4, 1, 4, 2, 2, 2, 3, 4, 2, 3, 4, 3, 4, 4, 4, 1, 3, 1, 2, 4, 3, 2, 4, 3, 2, 3, 1, 2, 3, 3, 1, 4, 2, 2, 4, 3, 4, 2, 4, 1, 3, 1, 4, 1, 3, 4, 1, 1, 3, 4, 4, 3, 3, 4, 2, 1, 3, 1, 2, 4, 2, 3, 4, 1, 2, 3, 4, 2, 1, 1, 1, 1, 4, 2, 3, 4, 4, 4, 3], \"Freq\": [0.8927772954539439, 0.32917184416953094, 0.6583436883390619, 0.9759311225354618, 0.9330579752540281, 0.990147130098746, 0.9670321566218815, 0.9950461761804149, 0.9700113217794591, 0.1450512773154541, 0.8488185857719167, 0.97154249649703, 0.9953993483829937, 0.005027325073105351, 0.7490714358926972, 0.25136625365526755, 0.32577638382693896, 0.6515527676538779, 0.9337369319143595, 0.9593713076652357, 0.8839583328514489, 0.982124165917006, 0.9561893864457666, 0.20743331587922803, 0.7778749345471051, 0.47775564304784696, 0.5202228113187667, 0.023518153408039304, 0.9642442897296114, 0.8943029641082362, 0.9947480748435191, 0.9299895630840465, 0.956228715009419, 0.9724970580126848, 0.9638877863663846, 0.8300470837446117, 0.17474675447254984, 0.9330580446777124, 0.9181289471393788, 0.9298751166507564, 0.9743734783974721, 0.7184756797447144, 0.2794072087896111, 0.6272190808231973, 0.37168538122856143, 0.9430038543762483, 0.9981595745423578, 0.9691374188493861, 0.9612782962564712, 0.9873166519805238, 0.9688646291950107, 0.9777392225540342, 0.015277175352406785, 0.9778995834667504, 0.00801557035628484, 0.00801557035628484, 0.9742529937698519, 0.8955410444885339, 0.059702736299235594, 0.9744617009797979, 0.894336185761136, 0.9616199380961356, 0.9935477186075282, 0.9521609438729479, 0.9879495555324169, 0.2898223993263707, 0.4968383988452069, 0.21391653283613077, 0.9266940418071918, 0.9678468654812921, 0.021996519670029364, 0.923277319271278, 0.9718867011404028, 0.9232773239417532, 0.9750153804715265, 0.9819872026870546, 0.6064909511721207, 0.3638945707032724, 0.028540750643393915, 0.2330495604342537, 0.016646397173875265, 0.7490878728243869, 0.1328574335586107, 0.8635733181309696, 0.9654394229750175, 0.9893087479881634, 0.9751282165493887, 0.9935084256806068, 0.5741918822785806, 0.19971891557515847, 0.22468378002205328, 0.7449172254316901, 0.2531272125253316, 0.9586074656884526, 0.9480385570995439, 0.5045181080712716, 0.49378368023996794, 0.9205039227182842, 0.9786233936039063, 0.8936236327044347, 0.9915749170422898, 0.9785204135732436, 0.9849454566560902, 0.9538292642344902, 0.5365067929406021, 0.45179519405524393, 0.9967496537677719, 0.9426762135717619, 0.31279749508007565, 0.6881544891761664, 0.3830370130905115, 0.5892877124469408, 0.9710678187830744, 0.8431254818234444, 0.9928852793693711, 0.009456050279708297, 0.0944532908832391, 0.9130484785379779, 0.9028448890642329, 0.9458617419991202, 0.03387464744364245, 0.9633102866785822, 0.002117165465227653, 0.9965314233683561, 0.26683020308685274, 0.36100556888221247, 0.3767014631814391, 0.32936464525156184, 0.6587292905031237, 0.9762431763520588, 0.9808716358981482, 0.021557618371387872, 0.9916306539251772, 0.00854854012004463, 0.9406552295552855, 0.936922772221828, 0.013569192753294712, 0.09498434927306298, 0.05427677101317885, 0.8277207579509774, 0.035048764517353566, 0.8762191129338391, 0.035048764517353566, 0.24780460534096319, 0.4670163716041229, 0.28592839077803445, 0.9425483133110918, 0.895156719150418, 0.9336398495899376, 0.178260698971423, 0.8021731453714034, 0.7667871891546162, 0.22552564386900478, 0.9744494197058005, 0.9618345540180118, 0.815595931030351, 0.16311918620607022, 0.8953500161684484, 0.9688530211131503, 0.9866805374522519, 0.2119362021388746, 0.2590331359475134, 0.5180662718950269, 0.9560564344056024, 0.9864984602915673, 0.9756250112530431, 0.28567328909327344, 0.08293740651095034, 0.28567328909327344, 0.340964893433907, 0.9931958950682349, 0.9657019910086959, 0.9267119595470817, 0.9598645698641941, 0.36224672659016227, 0.47249573033499426, 0.17324843445616456, 0.018588496420180893, 0.39035842482379873, 0.5948318854457886, 0.8391375070374135, 0.13985625117290226, 0.9947347665024168, 0.9181411249858954, 0.7542376483733426, 0.22855686314343715, 0.35012652442846187, 0.514015535863061, 0.13409100935558116, 0.9846913847959735, 0.9956353544027469, 0.9619256531729136, 0.9679580578888352, 0.9936336956559583, 0.9681325052380041, 0.4284640265480997, 0.1295356359331464, 0.43842830623526474, 0.9681485148131745, 0.9944063382366515, 0.9029030446260022, 0.979492258774691, 0.7085044841603101, 0.2500604061742271, 0.25008009142209825, 0.7502402742662947, 0.9481521731682733, 0.923359992920338, 0.8981103832874615, 0.10997269999438304, 0.9041701684784275, 0.965686345117558, 0.029735877268673667, 0.9515480725975574, 0.029735877268673667, 0.9460727829175255, 0.13077802968231753, 0.19616704452347627, 0.6538901484115875, 0.9521137723534109, 0.9229298830298948, 0.723287826877114, 0.2552780565448638, 0.9844634487789102, 0.7605616426245067, 0.21730332646414474, 0.725978925757929, 0.00885340153363328, 0.2567486444753651, 0.018068835853531324, 0.8673041209695035, 0.10841301512118794, 0.034052243606269114, 0.6923956199941387, 0.10215673081880734, 0.18161196590010195, 0.9403489400142343, 0.9642942576060385, 0.9847081991531228, 0.9065436045600468, 0.9786302729994446, 0.9181650354308978, 0.9266192079419326, 0.8543340159002948, 0.11650009307731292, 0.9713895944323278, 0.9513286091784505, 0.9429561394293755], \"Term\": [\"adaptability\", \"adventure\", \"adventure\", \"adventurous\", \"age\", \"agent\", \"ambiguity\", \"ambition\", \"ambitious\", \"american\", \"american\", \"antagonist\", \"anti\", \"antihero\", \"antihero\", \"antihero\", \"archetypal\", \"archetypal\", \"army\", \"artist\", \"authoritarian\", \"authority\", \"betrayal\", \"brave\", \"brave\", \"bravery\", \"bravery\", \"british\", \"british\", \"bumble\", \"camaraderie\", \"capitalism\", \"capitalist\", \"charm\", \"clever\", \"collective\", \"collective\", \"come\", \"comic\", \"commitment\", \"community\", \"compassion\", \"compassion\", \"conflict\", \"conflict\", \"control\", \"courage\", \"cowboy\", \"creativity\", \"cunne\", \"democracy\", \"detective\", \"detective\", \"determination\", \"determination\", \"determination\", \"determine\", \"discipline\", \"discipline\", \"disillusionment\", \"dreamer\", \"drive\", \"duty\", \"education\", \"enforcement\", \"everyman\", \"everyman\", \"everyman\", \"faith\", \"family\", \"family\", \"fatale\", \"father\", \"femme\", \"fighter\", \"flawed\", \"freedom\", \"freedom\", \"freedom\", \"friendship\", \"friendship\", \"friendship\", \"good\", \"good\", \"guilt\", \"hard\", \"hardworke\", \"heroic\", \"heroine\", \"heroine\", \"heroine\", \"heroism\", \"heroism\", \"honest\", \"honesty\", \"honor\", \"honor\", \"honorable\", \"hope\", \"human\", \"humor\", \"ideal\", \"idealism\", \"idealistic\", \"independence\", \"independence\", \"individualism\", \"ingenuity\", \"innocence\", \"innocence\", \"innocent\", \"innocent\", \"innovation\", \"inquiry\", \"integrity\", \"integrity\", \"intelligence\", \"intelligence\", \"interest\", \"investigative\", \"justice\", \"justice\", \"justice\", \"law\", \"leader\", \"leader\", \"leader\", \"leadership\", \"leadership\", \"life\", \"love\", \"love\", \"loyalty\", \"loyalty\", \"manipulative\", \"martyr\", \"mentor\", \"mentor\", \"mentor\", \"mentor\", \"military\", \"military\", \"military\", \"moral\", \"moral\", \"moral\", \"morality\", \"nationalism\", \"nostalgia\", \"nurture\", \"nurture\", \"officer\", \"officer\", \"optimistic\", \"order\", \"orient\", \"orient\", \"patriotic\", \"patriotism\", \"perseverance\", \"personal\", \"personal\", \"personal\", \"political\", \"private\", \"progressive\", \"protagonist\", \"protagonist\", \"protagonist\", \"protagonist\", \"protector\", \"pursuit\", \"rationalism\", \"rationality\", \"rebel\", \"rebel\", \"rebel\", \"rebellion\", \"rebellion\", \"rebellion\", \"rebellious\", \"rebellious\", \"redemption\", \"relief\", \"reluctant\", \"reluctant\", \"resilience\", \"resilience\", \"resilience\", \"resourceful\", \"resourcefulness\", \"responsibility\", \"revenge\", \"revolutionary\", \"rogue\", \"romantic\", \"romantic\", \"romantic\", \"rugged\", \"sacrifice\", \"science\", \"scientific\", \"seeking\", \"seeking\", \"self\", \"self\", \"sergeant\", \"socialist\", \"soldier\", \"soldier\", \"solidarity\", \"soviet\", \"spirit\", \"spirit\", \"spirit\", \"state\", \"strong\", \"strong\", \"strong\", \"success\", \"supportive\", \"survival\", \"survival\", \"teamwork\", \"traditional\", \"traditional\", \"tragic\", \"tragic\", \"tragic\", \"trickster\", \"trickster\", \"trickster\", \"truth\", \"truth\", \"truth\", \"truth\", \"u.s\", \"valor\", \"vengeance\", \"victim\", \"warrior\", \"willed\", \"woman\", \"work\", \"work\", \"young\", \"youth\", \"youthful\"]}, \"R\": 30, \"lambda.step\": 0.01, \"plot.opts\": {\"xlab\": \"PC1\", \"ylab\": \"PC2\"}, \"topic.order\": [3, 1, 2, 4]};\n",
       "\n",
       "function LDAvis_load_lib(url, callback){\n",
       "  var s = document.createElement('script');\n",
       "  s.src = url;\n",
       "  s.async = true;\n",
       "  s.onreadystatechange = s.onload = callback;\n",
       "  s.onerror = function(){console.warn(\"failed to load library \" + url);};\n",
       "  document.getElementsByTagName(\"head\")[0].appendChild(s);\n",
       "}\n",
       "\n",
       "if(typeof(LDAvis) !== \"undefined\"){\n",
       "   // already loaded: just create the visualization\n",
       "   !function(LDAvis){\n",
       "       new LDAvis(\"#\" + \"ldavis_el141656324204409848029047279\", ldavis_el141656324204409848029047279_data);\n",
       "   }(LDAvis);\n",
       "}else if(typeof define === \"function\" && define.amd){\n",
       "   // require.js is available: use it to load d3/LDAvis\n",
       "   require.config({paths: {d3: \"https://d3js.org/d3.v5\"}});\n",
       "   require([\"d3\"], function(d3){\n",
       "      window.d3 = d3;\n",
       "      LDAvis_load_lib(\"https://cdn.jsdelivr.net/gh/bmabey/pyLDAvis@3.4.0/pyLDAvis/js/ldavis.v3.0.0.js\", function(){\n",
       "        new LDAvis(\"#\" + \"ldavis_el141656324204409848029047279\", ldavis_el141656324204409848029047279_data);\n",
       "      });\n",
       "    });\n",
       "}else{\n",
       "    // require.js not available: dynamically load d3 & LDAvis\n",
       "    LDAvis_load_lib(\"https://d3js.org/d3.v5.js\", function(){\n",
       "         LDAvis_load_lib(\"https://cdn.jsdelivr.net/gh/bmabey/pyLDAvis@3.4.0/pyLDAvis/js/ldavis.v3.0.0.js\", function(){\n",
       "                 new LDAvis(\"#\" + \"ldavis_el141656324204409848029047279\", ldavis_el141656324204409848029047279_data);\n",
       "            })\n",
       "         });\n",
       "}\n",
       "</script>"
      ],
      "text/plain": [
       "<IPython.core.display.HTML object>"
      ]
     },
     "execution_count": 73,
     "metadata": {},
     "output_type": "execute_result"
    }
   ],
   "source": [
    "pyLDAvis.display(gensim_models.prepare(western_char_topic[0], western_char_topic[1], western_char_topic[2]))"
   ]
  },
  {
   "cell_type": "code",
   "execution_count": 74,
   "metadata": {},
   "outputs": [
    {
     "data": {
      "text/html": [
       "\n",
       "<link rel=\"stylesheet\" type=\"text/css\" href=\"https://cdn.jsdelivr.net/gh/bmabey/pyLDAvis@3.4.0/pyLDAvis/js/ldavis.v1.0.0.css\">\n",
       "\n",
       "\n",
       "<div id=\"ldavis_el14165632420440981444268996299\" style=\"background-color:white;\"></div>\n",
       "<script type=\"text/javascript\">\n",
       "\n",
       "var ldavis_el14165632420440981444268996299_data = {\"mdsDat\": {\"x\": [-0.16812427521456116, 0.05742495659291698, 0.27518532000025414, -0.1644860013786098], \"y\": [-0.07460478069847144, -0.22685976553532886, 0.11388333247767683, 0.18758121375612352], \"topics\": [1, 2, 3, 4], \"cluster\": [1, 1, 1, 1], \"Freq\": [26.846176971117657, 26.384291057373993, 23.73225185974833, 23.03728011176002]}, \"tinfo\": {\"Term\": [\"villain\", \"loyalty\", \"antagonist\", \"resilience\", \"authority\", \"love\", \"antihero\", \"power\", \"manipulation\", \"romantic\", \"greed\", \"struggle\", \"ambition\", \"everyman\", \"victim\", \"rebel\", \"bravery\", \"resistance\", \"betrayal\", \"control\", \"duty\", \"revolutionary\", \"oppression\", \"soldier\", \"collective\", \"corruption\", \"heroism\", \"state\", \"law\", \"innocent\", \"antihero\", \"rebel\", \"bravery\", \"resistance\", \"revolutionary\", \"collective\", \"struggle\", \"community\", \"protagonist\", \"perseverance\", \"social\", \"heroic\", \"redemption\", \"class\", \"worker\", \"oppressed\", \"unity\", \"fighter\", \"solidarity\", \"defiance\", \"work\", \"individual\", \"noble\", \"age\", \"idealist\", \"come\", \"teamwork\", \"communist\", \"guardian\", \"ideology\", \"rebellion\", \"youth\", \"heroism\", \"freedom\", \"sacrifice\", \"collectivism\", \"archetypal\", \"self\", \"individualism\", \"tragic\", \"determination\", \"leader\", \"justice\", \"martyr\", \"loyalty\", \"authority\", \"control\", \"duty\", \"soldier\", \"state\", \"law\", \"courage\", \"honor\", \"enforcement\", \"integrity\", \"leadership\", \"protector\", \"authoritarianism\", \"loyal\", \"order\", \"ally\", \"supportive\", \"discipline\", \"caregiver\", \"oppressive\", \"corrupt\", \"conformity\", \"patriotism\", \"capitalism\", \"collaboration\", \"cooperation\", \"officer\", \"spy\", \"fear\", \"authoritarian\", \"oppression\", \"mentor\", \"justice\", \"tradition\", \"antagonist\", \"soviet\", \"sacrifice\", \"support\", \"tragic\", \"collectivism\", \"leader\", \"villain\", \"power\", \"manipulation\", \"greed\", \"ambition\", \"betrayal\", \"corruption\", \"deception\", \"cunne\", \"anti\", \"chaos\", \"tyranny\", \"ruthless\", \"revenge\", \"manipulative\", \"fatale\", \"femme\", \"ruthlessness\", \"innovation\", \"american\", \"scientist\", \"exploitation\", \"naive\", \"honesty\", \"villainy\", \"humor\", \"crime\", \"vengeance\", \"scientific\", \"progress\", \"antagonist\", \"oppression\", \"conflict\", \"tragic\", \"tyrant\", \"moral\", \"individualism\", \"resilience\", \"love\", \"romantic\", \"innocent\", \"innocence\", \"victim\", \"everyman\", \"idealism\", \"eastern\", \"interest\", \"youthful\", \"independence\", \"hope\", \"outsider\", \"emotional\", \"young\", \"heroine\", \"societal\", \"creativity\", \"connection\", \"artistic\", \"resourceful\", \"lover\", \"vulnerability\", \"change\", \"suffer\", \"adaptability\", \"critique\", \"wise\", \"disillusionment\", \"friendship\", \"identity\", \"nurture\", \"cultural\", \"sacrifice\", \"freedom\", \"tragic\", \"mentor\", \"martyr\", \"camaraderie\", \"truth\", \"traditional\"], \"Freq\": [366.0, 315.0, 390.0, 172.0, 184.0, 143.0, 159.0, 114.0, 108.0, 104.0, 106.0, 115.0, 101.0, 99.0, 98.0, 106.0, 101.0, 101.0, 90.0, 97.0, 78.0, 78.0, 141.0, 75.0, 75.0, 66.0, 116.0, 70.0, 69.0, 60.0, 158.67781195284013, 105.75579465256071, 100.53403176902374, 100.4563868375153, 77.76712627358862, 75.01901316731025, 114.41661473551147, 52.24646627592348, 54.17491484529922, 50.65372170468252, 47.9682862268653, 47.00383677760752, 41.713144878368375, 37.71140960654522, 36.026732388359534, 32.345111538630654, 30.726786225296973, 27.401469884899253, 26.51681261836663, 26.21888304726066, 23.798975958938975, 22.31735010294994, 23.30952959246779, 21.65324357959746, 20.978198152048495, 20.476777124359227, 20.68352527940372, 18.630132890183415, 19.109751846653225, 17.08672085273501, 70.25964824454604, 27.212440134556253, 96.28922110922663, 73.30840927237442, 114.37119699480944, 73.66223697143654, 30.582707510911096, 38.86170170400642, 37.07279785335877, 62.20448400954905, 39.089109731815725, 32.76833700509051, 34.47870140680197, 33.553952565121065, 314.945724220358, 183.36470328231061, 96.3999782891016, 77.57939486456507, 75.32278562621813, 69.54041305292711, 68.5233934823457, 55.57397650424739, 46.83489147556395, 44.733302362210814, 44.95813364733768, 44.494843597436045, 59.431289538897914, 38.4661343127654, 37.14213634989113, 33.30901038164255, 33.072617666705156, 32.02629318085493, 27.278651475874874, 25.22551897638046, 35.063738495082575, 24.53110695211974, 25.36328044357984, 24.07175386378747, 22.96781937872305, 21.954559737203038, 21.16740279609444, 20.933575040789624, 18.518791280034087, 18.20103201035223, 45.77868334526286, 90.9565424992588, 58.721445510447786, 56.78803727966986, 31.124099309025052, 99.16102556505584, 35.432460997997424, 48.90628045244318, 27.86443393916315, 40.16253222656106, 35.50068288902482, 31.042654296691826, 366.1512192254181, 113.95294742786821, 108.11325076941858, 105.7915327014552, 100.55112801739536, 89.40104883983874, 65.81645557385504, 50.15535022369759, 46.95137074896423, 45.22799646585906, 41.42916920278463, 39.63390984843711, 38.9337804506961, 36.35803444532937, 28.257513753489363, 25.082175393079716, 25.082175393079716, 23.042181806355817, 21.70154495147602, 21.46766242257445, 20.547605529648347, 19.78514533686093, 20.134527845934866, 19.544853481011252, 16.967290715549687, 17.490919336746924, 15.947918207280086, 16.023067656222704, 15.239235199012908, 14.159951226619995, 291.3149478755618, 50.32962528817299, 35.26627381869954, 51.05298894848138, 22.208522351166636, 21.988629236899673, 21.682309732543683, 172.1849011645611, 142.80966787241178, 103.89657697637467, 59.426787702805356, 58.89270002528523, 97.59303622426917, 98.58681892620268, 45.463389296150645, 42.20008966253367, 37.239045417267334, 37.15722965894645, 33.21211096093529, 31.968324539428274, 24.192040415450897, 23.799949047066033, 22.877481553768114, 21.7306469288286, 21.559539611005718, 21.330640626204527, 19.92570291156789, 19.691546625795116, 18.678275198743098, 18.365963767821768, 16.20567503647807, 16.04983198375477, 15.740501388031829, 15.739942810781924, 16.039705575434965, 15.497976982703886, 14.884181385541757, 30.380401836013238, 29.0758306166039, 33.53562906749936, 25.933591184444168, 44.637590797730816, 32.994982498623436, 41.049322161925815, 29.80385174830699, 26.99734359132323, 23.67783843933381, 21.007902419951648, 21.496678592004695], \"Total\": [366.0, 315.0, 390.0, 172.0, 184.0, 143.0, 159.0, 114.0, 108.0, 104.0, 106.0, 115.0, 101.0, 99.0, 98.0, 106.0, 101.0, 101.0, 90.0, 97.0, 78.0, 78.0, 141.0, 75.0, 75.0, 66.0, 116.0, 70.0, 69.0, 60.0, 159.36776456082913, 106.43690586259171, 101.21568137457753, 101.13953562885078, 78.44051543829312, 75.69721966430996, 115.85978549924543, 52.92602581343352, 54.90800052120055, 51.36803081538773, 48.65256727453808, 47.68800396686709, 42.45092575534156, 38.40025351776667, 36.70554590733194, 33.02699149269194, 31.404271715819867, 28.078306362767556, 27.198170600449224, 26.90065852204592, 24.471656042080564, 22.996581255076936, 24.023193849383805, 22.329448875761106, 21.66709778261217, 21.151775859346184, 21.36956169629247, 19.3162798207848, 19.82279463178311, 17.769143929706424, 73.23525119189453, 28.714580213041184, 116.92617999225281, 106.75407931569993, 208.13981442658817, 117.03852465830256, 36.14715563763766, 53.47577493408817, 60.39441446377498, 194.46932734651733, 72.04079880906478, 70.91157412346904, 91.71965978617013, 85.38782017024805, 315.6159567700526, 184.0351349382615, 97.18146250911113, 78.24407456396885, 75.9859902686345, 70.20068797970593, 69.1818262328695, 56.25983715658238, 47.50179820875539, 45.39841101888453, 45.628991797001696, 45.164958668102564, 60.331768828036815, 39.131791159009616, 37.80563477879453, 33.96686505853556, 33.73373306744583, 32.715747309578234, 27.947199397531367, 25.904413441300342, 36.01656152682465, 25.20833733872394, 26.06526536206832, 24.744139952072867, 23.644206893449045, 22.625591959870288, 21.845126589008927, 21.606619483308915, 19.18541864347152, 18.87574089042912, 58.3246861925196, 141.732106158886, 88.96651296059366, 91.71965978617013, 41.437569856102066, 390.9131623108493, 57.974200198575645, 208.13981442658817, 37.925533816740014, 194.46932734651733, 117.03852465830256, 70.91157412346904, 366.8156220763345, 114.61609771232825, 108.77638981032356, 106.4498301524366, 101.21852085681427, 90.07370422033195, 66.47722501374282, 50.82860451621701, 47.61727408189992, 45.90376036959172, 42.08981518811227, 40.29658959918578, 39.598223687493835, 37.02585371939198, 28.920464913593662, 25.74392717127873, 25.743927186995396, 23.70310418693783, 22.380853892480793, 22.143051425791423, 21.213425690275734, 20.444135659517297, 20.822766293001603, 20.276680415489576, 17.626977187154306, 18.172204393938458, 16.611779837757762, 16.696181456543332, 15.9196541667682, 14.828834131702688, 390.9131623108493, 141.732106158886, 83.61309678347217, 194.46932734651733, 43.11637156435818, 60.44603406680504, 60.39441446377498, 172.89017479006225, 143.47836600475713, 104.56338135992293, 60.09899832789826, 59.559495596240076, 98.70706126778488, 99.73935753091402, 46.12942638368916, 42.88189186312812, 37.90962067789505, 37.827337853165595, 33.87682904125995, 32.63048112867972, 24.86174826465516, 24.478953189157, 23.546183546712367, 22.39553087504754, 22.228534742737782, 21.993489853167542, 20.587148388538708, 20.36177120017697, 19.352588709624456, 19.039599112126304, 16.867202736630926, 16.71352898889555, 16.400553332052105, 16.40053968555609, 16.713334295839385, 16.16918341507336, 15.549445341046546, 38.85251296317901, 37.935912392893144, 58.34637746918837, 45.44045225156246, 208.13981442658817, 106.75407931569993, 194.46932734651733, 88.96651296059366, 85.38782017024805, 70.415709838814, 41.804655747036634, 66.48761102708895], \"Category\": [\"Default\", \"Default\", \"Default\", \"Default\", \"Default\", \"Default\", \"Default\", \"Default\", \"Default\", \"Default\", \"Default\", \"Default\", \"Default\", \"Default\", \"Default\", \"Default\", \"Default\", \"Default\", \"Default\", \"Default\", \"Default\", \"Default\", \"Default\", \"Default\", \"Default\", \"Default\", \"Default\", \"Default\", \"Default\", \"Default\", \"Topic1\", \"Topic1\", \"Topic1\", \"Topic1\", \"Topic1\", \"Topic1\", \"Topic1\", \"Topic1\", \"Topic1\", \"Topic1\", \"Topic1\", \"Topic1\", \"Topic1\", \"Topic1\", \"Topic1\", \"Topic1\", \"Topic1\", \"Topic1\", \"Topic1\", \"Topic1\", \"Topic1\", \"Topic1\", \"Topic1\", \"Topic1\", \"Topic1\", \"Topic1\", \"Topic1\", \"Topic1\", \"Topic1\", \"Topic1\", \"Topic1\", \"Topic1\", \"Topic1\", \"Topic1\", \"Topic1\", \"Topic1\", \"Topic1\", \"Topic1\", \"Topic1\", \"Topic1\", \"Topic1\", \"Topic1\", \"Topic1\", \"Topic1\", \"Topic2\", \"Topic2\", \"Topic2\", \"Topic2\", \"Topic2\", \"Topic2\", \"Topic2\", \"Topic2\", \"Topic2\", \"Topic2\", \"Topic2\", \"Topic2\", \"Topic2\", \"Topic2\", \"Topic2\", \"Topic2\", \"Topic2\", \"Topic2\", \"Topic2\", \"Topic2\", \"Topic2\", \"Topic2\", \"Topic2\", \"Topic2\", \"Topic2\", \"Topic2\", \"Topic2\", \"Topic2\", \"Topic2\", \"Topic2\", \"Topic2\", \"Topic2\", \"Topic2\", \"Topic2\", \"Topic2\", \"Topic2\", \"Topic2\", \"Topic2\", \"Topic2\", \"Topic2\", \"Topic2\", \"Topic2\", \"Topic3\", \"Topic3\", \"Topic3\", \"Topic3\", \"Topic3\", \"Topic3\", \"Topic3\", \"Topic3\", \"Topic3\", \"Topic3\", \"Topic3\", \"Topic3\", \"Topic3\", \"Topic3\", \"Topic3\", \"Topic3\", \"Topic3\", \"Topic3\", \"Topic3\", \"Topic3\", \"Topic3\", \"Topic3\", \"Topic3\", \"Topic3\", \"Topic3\", \"Topic3\", \"Topic3\", \"Topic3\", \"Topic3\", \"Topic3\", \"Topic3\", \"Topic3\", \"Topic3\", \"Topic3\", \"Topic3\", \"Topic3\", \"Topic3\", \"Topic4\", \"Topic4\", \"Topic4\", \"Topic4\", \"Topic4\", \"Topic4\", \"Topic4\", \"Topic4\", \"Topic4\", \"Topic4\", \"Topic4\", \"Topic4\", \"Topic4\", \"Topic4\", \"Topic4\", \"Topic4\", \"Topic4\", \"Topic4\", \"Topic4\", \"Topic4\", \"Topic4\", \"Topic4\", \"Topic4\", \"Topic4\", \"Topic4\", \"Topic4\", \"Topic4\", \"Topic4\", \"Topic4\", \"Topic4\", \"Topic4\", \"Topic4\", \"Topic4\", \"Topic4\", \"Topic4\", \"Topic4\", \"Topic4\", \"Topic4\", \"Topic4\", \"Topic4\", \"Topic4\", \"Topic4\"], \"logprob\": [30.0, 29.0, 28.0, 27.0, 26.0, 25.0, 24.0, 23.0, 22.0, 21.0, 20.0, 19.0, 18.0, 17.0, 16.0, 15.0, 14.0, 13.0, 12.0, 11.0, 10.0, 9.0, 8.0, 7.0, 6.0, 5.0, 4.0, 3.0, 2.0, 1.0, -3.3215, -3.7273, -3.7779, -3.7787, -4.0347, -4.0707, -3.6486, -4.4324, -4.3962, -4.4634, -4.5179, -4.5382, -4.6576, -4.7584, -4.8041, -4.9119, -4.9633, -5.0778, -5.1106, -5.1219, -5.2188, -5.283, -5.2395, -5.3132, -5.3449, -5.3691, -5.3591, -5.4636, -5.4382, -5.5501, -4.1362, -5.0847, -3.821, -4.0937, -3.649, -4.0889, -4.968, -4.7284, -4.7755, -4.258, -4.7226, -4.8989, -4.8481, -4.8752, -2.6186, -3.1596, -3.8025, -4.0197, -4.0493, -4.1291, -4.1439, -4.3533, -4.5244, -4.5703, -4.5653, -4.5757, -4.2862, -4.7213, -4.7563, -4.8652, -4.8723, -4.9045, -5.0649, -5.1432, -4.8139, -5.1711, -5.1377, -5.19, -5.237, -5.2821, -5.3186, -5.3297, -5.4523, -5.4696, -4.5472, -3.8607, -4.2982, -4.3317, -4.9331, -3.7743, -4.8034, -4.4811, -5.0437, -4.6781, -4.8015, -4.9357, -2.3621, -3.5293, -3.5819, -3.6036, -3.6544, -3.772, -4.0782, -4.35, -4.416, -4.4534, -4.5411, -4.5854, -4.6033, -4.6717, -4.9238, -5.043, -5.043, -5.1278, -5.1877, -5.1986, -5.2424, -5.2802, -5.2627, -5.2924, -5.4338, -5.4034, -5.4958, -5.4911, -5.5412, -5.6147, -2.5907, -4.3465, -4.7022, -4.3323, -5.1646, -5.1746, -5.1886, -3.0868, -3.2739, -3.592, -4.1506, -4.1597, -3.6546, -3.6445, -4.4185, -4.493, -4.618, -4.6202, -4.7325, -4.7706, -5.0494, -5.0657, -5.1052, -5.1567, -5.1646, -5.1752, -5.2434, -5.2552, -5.308, -5.3249, -5.45, -5.4597, -5.4792, -5.4792, -5.4603, -5.4947, -5.5351, -4.8216, -4.8655, -4.7228, -4.9799, -4.4368, -4.739, -4.5206, -4.8408, -4.9397, -5.0709, -5.1905, -5.1675], \"loglift\": [30.0, 29.0, 28.0, 27.0, 26.0, 25.0, 24.0, 23.0, 22.0, 21.0, 20.0, 19.0, 18.0, 17.0, 16.0, 15.0, 14.0, 13.0, 12.0, 11.0, 10.0, 9.0, 8.0, 7.0, 6.0, 5.0, 4.0, 3.0, 2.0, 1.0, 1.3107, 1.3086, 1.3083, 1.3083, 1.3064, 1.306, 1.3025, 1.3021, 1.3016, 1.301, 1.3009, 1.3006, 1.2975, 1.2969, 1.2964, 1.2942, 1.2932, 1.2906, 1.2897, 1.2894, 1.2872, 1.2851, 1.2849, 1.2843, 1.2827, 1.2826, 1.2824, 1.2789, 1.2784, 1.2759, 1.2736, 1.2613, 1.1209, 0.9392, 0.7163, 0.852, 1.1479, 0.9958, 0.827, 0.1752, 0.7037, 0.5431, 0.3367, 0.381, 1.3303, 1.3288, 1.3243, 1.3239, 1.3236, 1.323, 1.3228, 1.3201, 1.3183, 1.3176, 1.3176, 1.3175, 1.3174, 1.3152, 1.3147, 1.3128, 1.3126, 1.3111, 1.3082, 1.3058, 1.3056, 1.3052, 1.3051, 1.3049, 1.3034, 1.3023, 1.3009, 1.3008, 1.297, 1.296, 1.0902, 0.8888, 0.9169, 0.853, 1.0462, -0.0393, 0.84, -0.1159, 1.0241, -0.2449, 0.1395, 0.5063, 1.4365, 1.4325, 1.4322, 1.4321, 1.4317, 1.4308, 1.4283, 1.425, 1.4243, 1.4235, 1.4225, 1.4218, 1.4214, 1.4201, 1.4151, 1.4123, 1.4123, 1.4101, 1.4075, 1.4074, 1.4064, 1.4056, 1.4047, 1.4016, 1.4002, 1.4001, 1.3976, 1.3972, 1.3947, 1.3922, 1.1443, 0.403, 0.5751, 0.1009, 0.7749, 0.4271, 0.4139, 1.464, 1.4634, 1.4617, 1.4568, 1.4568, 1.4567, 1.4564, 1.4535, 1.452, 1.4502, 1.4502, 1.4482, 1.4476, 1.4407, 1.4399, 1.4392, 1.4379, 1.4375, 1.4375, 1.4354, 1.4346, 1.4326, 1.432, 1.428, 1.4275, 1.427, 1.4269, 1.4269, 1.4257, 1.4243, 1.2221, 1.2021, 0.9143, 0.9072, -0.0716, 0.2939, -0.0874, 0.3744, 0.3166, 0.3782, 0.7799, 0.3389]}, \"token.table\": {\"Topic\": [4, 1, 2, 3, 3, 2, 3, 3, 1, 1, 3, 4, 2, 3, 2, 2, 3, 1, 1, 2, 4, 2, 2, 4, 3, 1, 2, 1, 1, 2, 4, 1, 1, 1, 1, 2, 3, 2, 4, 2, 2, 2, 3, 2, 4, 3, 4, 1, 4, 3, 3, 1, 1, 2, 4, 2, 4, 2, 4, 4, 2, 1, 4, 3, 3, 2, 3, 1, 1, 4, 3, 4, 3, 1, 1, 4, 1, 2, 4, 3, 2, 4, 3, 4, 1, 1, 4, 1, 4, 1, 1, 3, 4, 4, 4, 3, 2, 4, 1, 2, 2, 1, 2, 3, 2, 4, 4, 2, 2, 3, 3, 1, 2, 4, 2, 4, 1, 2, 3, 3, 1, 2, 4, 2, 1, 2, 3, 2, 2, 4, 2, 1, 3, 3, 1, 2, 1, 1, 4, 1, 4, 1, 4, 3, 1, 4, 3, 3, 1, 2, 4, 3, 3, 1, 4, 1, 4, 2, 1, 1, 2, 2, 2, 1, 4, 4, 1, 2, 2, 1, 2, 3, 1, 2, 4, 1, 2, 3, 4, 2, 3, 4, 3, 2, 3, 1, 3, 1, 4, 3, 3, 4, 4, 1, 1, 4, 1, 4, 4], \"Freq\": [0.975577652123921, 0.9852459916232538, 0.9782492774820137, 0.9978410981017655, 0.9483787756343266, 0.25325317626751187, 0.7444108514529895, 0.9803118445566301, 0.9976923528930547, 0.8576055142696134, 0.13832347004348602, 0.9822328226449265, 0.7886883411281809, 0.20574478464213414, 0.9710774506995948, 0.9943753406728081, 0.9880797150552894, 0.997869091314227, 0.3550344100375694, 0.2982289044315583, 0.34083303363606665, 0.9727541339681167, 0.9650865114799935, 0.9573082986023108, 0.9741073895610719, 0.9895768001223876, 0.9723502500628551, 0.9907893623120918, 0.6322704444202897, 0.3075910270152761, 0.06835356155895024, 0.9455470846984577, 0.9836262560017134, 0.9825033941392501, 0.32291591914027873, 0.2631166748550419, 0.4185947099966576, 0.9591308453119163, 0.971479858334067, 0.9878427173392214, 0.9613128088058716, 0.9917353796117326, 0.9928212254099932, 0.9953814804714205, 0.954828003204573, 0.9631719271665751, 0.9573194502537437, 0.41812964128997393, 0.5721774038704907, 0.987036761473615, 0.9836980667853542, 0.9665190901810897, 0.5413599050083366, 0.18045330166944554, 0.2637394409014973, 0.9661075378588727, 0.9646646340756508, 0.9968806000284494, 0.9794343993510601, 0.9804340820681354, 0.991224119744658, 0.010026132358934155, 0.9925871035344813, 0.9782756450595875, 0.9711028093604656, 0.9536049527532366, 0.9711028087676075, 0.9615964599560958, 0.6838146183071822, 0.30912167676900015, 0.2059068870932929, 0.7721508265998485, 0.9957742520416195, 0.9584925008271097, 0.9855728084709708, 0.9823388479936311, 0.8210308419069252, 0.15394328285754846, 0.025657213809591413, 0.9863547479261834, 0.9894362270971271, 0.9806781540795126, 0.9354946505923376, 0.9755161407320575, 0.9692114841911353, 0.21088197160373842, 0.7644471470635518, 0.9567146322440121, 0.9741171453741427, 0.9566639386949344, 0.6126394357576375, 0.3642720969369736, 0.016557822588044255, 0.9906061058670987, 0.9817135333620345, 0.982983049069064, 0.9862150844840051, 0.9760055452513287, 0.37069478974590203, 0.6214589122210711, 0.9973717630370517, 0.4653683183303958, 0.43716417782552336, 0.09871449176705366, 0.9742065817736415, 0.9966659363493081, 0.9453980566500382, 0.9786900872447084, 0.998048397880905, 0.9928625153705011, 0.9681725409206333, 0.39818325297694773, 0.2927818036595204, 0.316204347952282, 0.6631708722374354, 0.3372055282563231, 0.24815523849624244, 0.3805046990275717, 0.3639610164611556, 0.9604871763230551, 0.9574080842123309, 0.41133659090787517, 0.5827268371194898, 0.9719243686511198, 0.9689044794492048, 0.6420563587616924, 0.35277821909983104, 0.9717751644318536, 0.9715350516784711, 0.9653383882950715, 0.9699266188473635, 0.9928354112558762, 0.9946246842753748, 0.9441065882630167, 0.9834632382789106, 0.9779259111094066, 0.9958951656941648, 0.9558238534142885, 0.04096387943204094, 0.9893777168031531, 0.9948512123887713, 0.9887330347943014, 0.9817807986872006, 0.9722935836357313, 0.9943840828195518, 0.9946120587093135, 0.9848926635645333, 0.970337041874655, 0.5477087616036493, 0.23541867823314752, 0.21620082694880896, 0.9422315235535738, 0.9899391218847992, 0.7293021942752516, 0.26180078768855186, 0.9865871975294591, 0.989718857073454, 0.9870240518660255, 0.9927138261113065, 0.37947914632103047, 0.6037168236925484, 0.9903354392772338, 0.9971412248870845, 0.9839479635558488, 0.008631122487332006, 0.975576840369813, 0.26367460108329666, 0.7382888830332306, 0.9781222387248149, 0.9827061639567184, 0.7481133692842502, 0.24132689331750007, 0.37600990039804993, 0.30080792031843995, 0.31584831633436194, 0.3188163441812323, 0.2056879639878918, 0.26225215408456204, 0.2108301630875891, 0.14352468386072803, 0.3348909290083654, 0.5023363935125481, 0.9926398337393849, 0.46386092508147986, 0.5102470175896279, 0.9871268558787748, 0.9583029533815653, 0.010130987460837019, 0.9928367711620278, 0.9977764794429482, 0.9644308164413342, 0.9485864520530366, 0.9276906331594078, 0.980726435461927, 0.9807782205688158, 0.9768037335804839, 0.94028886369502, 0.03482551347018593, 0.9781285731399584], \"Term\": [\"adaptability\", \"age\", \"ally\", \"ambition\", \"american\", \"antagonist\", \"antagonist\", \"anti\", \"antihero\", \"archetypal\", \"archetypal\", \"artistic\", \"authoritarian\", \"authoritarian\", \"authoritarianism\", \"authority\", \"betrayal\", \"bravery\", \"camaraderie\", \"camaraderie\", \"camaraderie\", \"capitalism\", \"caregiver\", \"change\", \"chaos\", \"class\", \"collaboration\", \"collective\", \"collectivism\", \"collectivism\", \"collectivism\", \"come\", \"communist\", \"community\", \"conflict\", \"conflict\", \"conflict\", \"conformity\", \"connection\", \"control\", \"cooperation\", \"corrupt\", \"corruption\", \"courage\", \"creativity\", \"crime\", \"critique\", \"cultural\", \"cultural\", \"cunne\", \"deception\", \"defiance\", \"determination\", \"determination\", \"determination\", \"discipline\", \"disillusionment\", \"duty\", \"eastern\", \"emotional\", \"enforcement\", \"everyman\", \"everyman\", \"exploitation\", \"fatale\", \"fear\", \"femme\", \"fighter\", \"freedom\", \"freedom\", \"friendship\", \"friendship\", \"greed\", \"guardian\", \"heroic\", \"heroine\", \"heroism\", \"heroism\", \"heroism\", \"honesty\", \"honor\", \"hope\", \"humor\", \"idealism\", \"idealist\", \"identity\", \"identity\", \"ideology\", \"independence\", \"individual\", \"individualism\", \"individualism\", \"individualism\", \"innocence\", \"innocent\", \"innovation\", \"integrity\", \"interest\", \"justice\", \"justice\", \"law\", \"leader\", \"leader\", \"leader\", \"leadership\", \"love\", \"lover\", \"loyal\", \"loyalty\", \"manipulation\", \"manipulative\", \"martyr\", \"martyr\", \"martyr\", \"mentor\", \"mentor\", \"moral\", \"moral\", \"moral\", \"naive\", \"noble\", \"nurture\", \"nurture\", \"officer\", \"oppressed\", \"oppression\", \"oppression\", \"oppressive\", \"order\", \"outsider\", \"patriotism\", \"perseverance\", \"power\", \"progress\", \"protagonist\", \"protector\", \"rebel\", \"rebellion\", \"rebellion\", \"redemption\", \"resilience\", \"resistance\", \"resourceful\", \"revenge\", \"revolutionary\", \"romantic\", \"ruthless\", \"ruthlessness\", \"sacrifice\", \"sacrifice\", \"sacrifice\", \"scientific\", \"scientist\", \"self\", \"self\", \"social\", \"societal\", \"soldier\", \"solidarity\", \"soviet\", \"soviet\", \"spy\", \"state\", \"struggle\", \"struggle\", \"suffer\", \"support\", \"support\", \"supportive\", \"teamwork\", \"tradition\", \"tradition\", \"traditional\", \"traditional\", \"traditional\", \"tragic\", \"tragic\", \"tragic\", \"tragic\", \"truth\", \"truth\", \"truth\", \"tyranny\", \"tyrant\", \"tyrant\", \"unity\", \"vengeance\", \"victim\", \"victim\", \"villain\", \"villainy\", \"vulnerability\", \"wise\", \"work\", \"worker\", \"young\", \"youth\", \"youth\", \"youthful\"]}, \"R\": 30, \"lambda.step\": 0.01, \"plot.opts\": {\"xlab\": \"PC1\", \"ylab\": \"PC2\"}, \"topic.order\": [3, 1, 4, 2]};\n",
       "\n",
       "function LDAvis_load_lib(url, callback){\n",
       "  var s = document.createElement('script');\n",
       "  s.src = url;\n",
       "  s.async = true;\n",
       "  s.onreadystatechange = s.onload = callback;\n",
       "  s.onerror = function(){console.warn(\"failed to load library \" + url);};\n",
       "  document.getElementsByTagName(\"head\")[0].appendChild(s);\n",
       "}\n",
       "\n",
       "if(typeof(LDAvis) !== \"undefined\"){\n",
       "   // already loaded: just create the visualization\n",
       "   !function(LDAvis){\n",
       "       new LDAvis(\"#\" + \"ldavis_el14165632420440981444268996299\", ldavis_el14165632420440981444268996299_data);\n",
       "   }(LDAvis);\n",
       "}else if(typeof define === \"function\" && define.amd){\n",
       "   // require.js is available: use it to load d3/LDAvis\n",
       "   require.config({paths: {d3: \"https://d3js.org/d3.v5\"}});\n",
       "   require([\"d3\"], function(d3){\n",
       "      window.d3 = d3;\n",
       "      LDAvis_load_lib(\"https://cdn.jsdelivr.net/gh/bmabey/pyLDAvis@3.4.0/pyLDAvis/js/ldavis.v3.0.0.js\", function(){\n",
       "        new LDAvis(\"#\" + \"ldavis_el14165632420440981444268996299\", ldavis_el14165632420440981444268996299_data);\n",
       "      });\n",
       "    });\n",
       "}else{\n",
       "    // require.js not available: dynamically load d3 & LDAvis\n",
       "    LDAvis_load_lib(\"https://d3js.org/d3.v5.js\", function(){\n",
       "         LDAvis_load_lib(\"https://cdn.jsdelivr.net/gh/bmabey/pyLDAvis@3.4.0/pyLDAvis/js/ldavis.v3.0.0.js\", function(){\n",
       "                 new LDAvis(\"#\" + \"ldavis_el14165632420440981444268996299\", ldavis_el14165632420440981444268996299_data);\n",
       "            })\n",
       "         });\n",
       "}\n",
       "</script>"
      ],
      "text/plain": [
       "<IPython.core.display.HTML object>"
      ]
     },
     "execution_count": 74,
     "metadata": {},
     "output_type": "execute_result"
    }
   ],
   "source": [
    "pyLDAvis.display(gensim_models.prepare(eastern_char_topic[0], eastern_char_topic[1], eastern_char_topic[2]))"
   ]
  },
  {
   "cell_type": "code",
   "execution_count": 243,
   "metadata": {},
   "outputs": [],
   "source": [
    "from empath import Empath\n",
    "lexicon = Empath()\n",
    "\n",
    "# Select lexical categories of interest\n",
    "CAT = ['politics', 'leader', 'military', 'heroic', 'law', 'affection', 'help',\n",
    "        'pride', 'family', 'love', 'power', 'deception', 'friends', 'sadness', 'disappointment']\n",
    "\n",
    "# Define groups of similar topics\n",
    "TOPIC_GROUPS = {\n",
    "    'love&affection': ['love', 'affection', 'family', 'friends'],\n",
    "    'politics&power': ['politics', 'leader', 'military', 'power'],\n",
    "    'deception&sadness': ['deception', 'sadness', 'disappointment']\n",
    "}\n",
    "\n",
    "def semantical_analysis(text, categories):\n",
    "    \"\"\"\n",
    "    Perform a semantical analysis of a text using the Empath lexicon\n",
    "\n",
    "    Parameters\n",
    "    text : str, the text to analyze\n",
    "    categories : list[str], the lexical categories to consider\n",
    "\n",
    "    Returns\n",
    "    dict[str, float], the analysis results (only the categories with non-zero values)\n",
    "    \"\"\"\n",
    "    analysis = lexicon.analyze(text, categories=categories, normalize=True)\n",
    "    return None if max(analysis.values()) == 0 else {k: v for k, v in analysis.items() if v != 0}\n",
    "\n",
    "def map_topic_to_group(topic, groups):\n",
    "    \"\"\"\n",
    "    Map a topic to a group of similar topics\n",
    "    \"\"\"\n",
    "    for group, topics in groups.items():\n",
    "        if topic in topics:\n",
    "            return group\n",
    "    return topic  "
   ]
  },
  {
   "cell_type": "code",
   "execution_count": 244,
   "metadata": {},
   "outputs": [
    {
     "name": "stdout",
     "output_type": "stream",
     "text": [
      "help\n",
      "office\n",
      "dance\n",
      "money\n",
      "wedding\n",
      "domestic_work\n",
      "sleep\n",
      "medical_emergency\n",
      "cold\n",
      "hate\n",
      "cheerfulness\n",
      "aggression\n",
      "occupation\n",
      "envy\n",
      "anticipation\n",
      "family\n",
      "vacation\n",
      "crime\n",
      "attractive\n",
      "masculine\n",
      "prison\n",
      "health\n",
      "pride\n",
      "dispute\n",
      "nervousness\n",
      "government\n",
      "weakness\n",
      "horror\n",
      "swearing_terms\n",
      "leisure\n",
      "suffering\n",
      "royalty\n",
      "wealthy\n",
      "tourism\n",
      "furniture\n",
      "school\n",
      "magic\n",
      "beach\n",
      "journalism\n",
      "morning\n",
      "banking\n",
      "social_media\n",
      "exercise\n",
      "night\n",
      "kill\n",
      "blue_collar_job\n",
      "art\n",
      "ridicule\n",
      "play\n",
      "computer\n",
      "college\n",
      "optimism\n",
      "stealing\n",
      "real_estate\n",
      "home\n",
      "divine\n",
      "sexual\n",
      "fear\n",
      "irritability\n",
      "superhero\n",
      "business\n",
      "driving\n",
      "pet\n",
      "childish\n",
      "cooking\n",
      "exasperation\n",
      "religion\n",
      "hipster\n",
      "internet\n",
      "surprise\n",
      "reading\n",
      "worship\n",
      "leader\n",
      "independence\n",
      "movement\n",
      "body\n",
      "noise\n",
      "eating\n",
      "medieval\n",
      "zest\n",
      "confusion\n",
      "water\n",
      "sports\n",
      "death\n",
      "healing\n",
      "legend\n",
      "heroic\n",
      "celebration\n",
      "restaurant\n",
      "violence\n",
      "programming\n",
      "dominant_heirarchical\n",
      "military\n",
      "neglect\n",
      "swimming\n",
      "exotic\n",
      "love\n",
      "hiking\n",
      "communication\n",
      "hearing\n",
      "order\n",
      "sympathy\n",
      "hygiene\n",
      "weather\n",
      "anonymity\n",
      "trust\n",
      "ancient\n",
      "deception\n",
      "fabric\n",
      "air_travel\n",
      "fight\n",
      "dominant_personality\n",
      "music\n",
      "vehicle\n",
      "politeness\n",
      "toy\n",
      "farming\n",
      "meeting\n",
      "war\n",
      "speaking\n",
      "listen\n",
      "urban\n",
      "shopping\n",
      "disgust\n",
      "fire\n",
      "tool\n",
      "phone\n",
      "gain\n",
      "sound\n",
      "injury\n",
      "sailing\n",
      "rage\n",
      "science\n",
      "work\n",
      "appearance\n",
      "valuable\n",
      "warmth\n",
      "youth\n",
      "sadness\n",
      "fun\n",
      "emotional\n",
      "joy\n",
      "affection\n",
      "traveling\n",
      "fashion\n",
      "ugliness\n",
      "lust\n",
      "shame\n",
      "torment\n",
      "economics\n",
      "anger\n",
      "politics\n",
      "ship\n",
      "clothing\n",
      "car\n",
      "strength\n",
      "technology\n",
      "breaking\n",
      "shape_and_size\n",
      "power\n",
      "white_collar_job\n",
      "animal\n",
      "party\n",
      "terrorism\n",
      "smell\n",
      "disappointment\n",
      "poor\n",
      "plant\n",
      "pain\n",
      "beauty\n",
      "timidity\n",
      "philosophy\n",
      "negotiate\n",
      "negative_emotion\n",
      "cleaning\n",
      "messaging\n",
      "competing\n",
      "law\n",
      "friends\n",
      "payment\n",
      "achievement\n",
      "alcohol\n",
      "liquid\n",
      "feminine\n",
      "weapon\n",
      "children\n",
      "monster\n",
      "ocean\n",
      "giving\n",
      "contentment\n",
      "writing\n",
      "rural\n",
      "positive_emotion\n",
      "musical\n"
     ]
    }
   ],
   "source": [
    "for cat in list(lexicon.cats.keys()):\n",
    "    print(cat)"
   ]
  },
  {
   "cell_type": "code",
   "execution_count": 245,
   "metadata": {},
   "outputs": [
    {
     "name": "stdout",
     "output_type": "stream",
     "text": [
      "Total number of characters : 8243\n",
      "Characters with empath analysis not None : 6588\n",
      "\n",
      "Number of characters per category :\n",
      "politics: 814\n",
      "leader: 1191\n",
      "military: 724\n",
      "heroic: 3896\n",
      "law: 948\n",
      "affection: 711\n",
      "help: 512\n",
      "pride: 1915\n",
      "family: 269\n",
      "love: 554\n",
      "power: 1097\n",
      "deception: 604\n",
      "friends: 359\n",
      "sadness: 626\n",
      "disappointment: 215\n"
     ]
    },
    {
     "data": {
      "text/html": [
       "<div>\n",
       "<style scoped>\n",
       "    .dataframe tbody tr th:only-of-type {\n",
       "        vertical-align: middle;\n",
       "    }\n",
       "\n",
       "    .dataframe tbody tr th {\n",
       "        vertical-align: top;\n",
       "    }\n",
       "\n",
       "    .dataframe thead th {\n",
       "        text-align: right;\n",
       "    }\n",
       "</style>\n",
       "<table border=\"1\" class=\"dataframe\">\n",
       "  <thead>\n",
       "    <tr style=\"text-align: right;\">\n",
       "      <th></th>\n",
       "      <th>movie_side</th>\n",
       "      <th>title</th>\n",
       "      <th>year_release_date</th>\n",
       "      <th>character_name</th>\n",
       "      <th>character_representation</th>\n",
       "      <th>character_side</th>\n",
       "      <th>empath_analysis</th>\n",
       "    </tr>\n",
       "  </thead>\n",
       "  <tbody>\n",
       "    <tr>\n",
       "      <th>23296</th>\n",
       "      <td>Western</td>\n",
       "      <td>The Angry Red Planet</td>\n",
       "      <td>1959</td>\n",
       "      <td>Dr. Iris Ryan</td>\n",
       "      <td>[colonel tom o'bannion, bravery, scientific in...</td>\n",
       "      <td>Western</td>\n",
       "      <td>{'military': 0.125, 'heroic': 0.25}</td>\n",
       "    </tr>\n",
       "    <tr>\n",
       "      <th>14399</th>\n",
       "      <td>Western</td>\n",
       "      <td>Macao</td>\n",
       "      <td>1952</td>\n",
       "      <td>Julie Benson</td>\n",
       "      <td>[cynical, sultry night club singer, femme fata...</td>\n",
       "      <td>Eastern</td>\n",
       "      <td>{'heroic': 0.125}</td>\n",
       "    </tr>\n",
       "    <tr>\n",
       "      <th>2186</th>\n",
       "      <td>Western</td>\n",
       "      <td>Ashanti</td>\n",
       "      <td>1979</td>\n",
       "      <td>David Linderby</td>\n",
       "      <td>[values freedom, fight against injustice, arch...</td>\n",
       "      <td>Western</td>\n",
       "      <td>{'heroic': 0.14285714285714285, 'power': 0.142...</td>\n",
       "    </tr>\n",
       "    <tr>\n",
       "      <th>22470</th>\n",
       "      <td>None</td>\n",
       "      <td>Suspect</td>\n",
       "      <td>1960</td>\n",
       "      <td>Kathleen Riley</td>\n",
       "      <td>[public defender, justice, moral integrity, hero]</td>\n",
       "      <td>Western</td>\n",
       "      <td>{'military': 0.16666666666666666, 'heroic': 0....</td>\n",
       "    </tr>\n",
       "    <tr>\n",
       "      <th>24552</th>\n",
       "      <td>Western</td>\n",
       "      <td>The Divided Heart</td>\n",
       "      <td>1954</td>\n",
       "      <td>Natural Mother</td>\n",
       "      <td>[loss, survival, family, victim]</td>\n",
       "      <td>Eastern</td>\n",
       "      <td>{'family': 0.25, 'sadness': 0.25}</td>\n",
       "    </tr>\n",
       "  </tbody>\n",
       "</table>\n",
       "</div>"
      ],
      "text/plain": [
       "      movie_side                 title  year_release_date  character_name  \\\n",
       "23296    Western  The Angry Red Planet               1959   Dr. Iris Ryan   \n",
       "14399    Western                 Macao               1952    Julie Benson   \n",
       "2186     Western               Ashanti               1979  David Linderby   \n",
       "22470       None               Suspect               1960  Kathleen Riley   \n",
       "24552    Western     The Divided Heart               1954  Natural Mother   \n",
       "\n",
       "                                character_representation character_side  \\\n",
       "23296  [colonel tom o'bannion, bravery, scientific in...        Western   \n",
       "14399  [cynical, sultry night club singer, femme fata...        Eastern   \n",
       "2186   [values freedom, fight against injustice, arch...        Western   \n",
       "22470  [public defender, justice, moral integrity, hero]        Western   \n",
       "24552                   [loss, survival, family, victim]        Eastern   \n",
       "\n",
       "                                         empath_analysis  \n",
       "23296                {'military': 0.125, 'heroic': 0.25}  \n",
       "14399                                  {'heroic': 0.125}  \n",
       "2186   {'heroic': 0.14285714285714285, 'power': 0.142...  \n",
       "22470  {'military': 0.16666666666666666, 'heroic': 0....  \n",
       "24552                  {'family': 0.25, 'sadness': 0.25}  "
      ]
     },
     "execution_count": 245,
     "metadata": {},
     "output_type": "execute_result"
    }
   ],
   "source": [
    "# Apply the analysis to each row\n",
    "character_df['empath_analysis'] = character_df['character_representation'].apply(lambda x: semantical_analysis(' '.join(x), CAT))\n",
    "character_empath_df = character_df.dropna(subset=['empath_analysis']).copy()\n",
    "\n",
    "print('Total number of characters :', len(character_df))\n",
    "print('Characters with empath analysis not None :', len(character_empath_df))\n",
    "\n",
    "print('\\nNumber of characters per category :')\n",
    "for cat in CAT:\n",
    "    cat_count = character_empath_df['empath_analysis'].apply(lambda x: cat in x.keys()).sum()\n",
    "    print(f'{cat}: {cat_count}')\n",
    "\n",
    "character_empath_df.sample(5)"
   ]
  },
  {
   "cell_type": "code",
   "execution_count": 251,
   "metadata": {},
   "outputs": [],
   "source": [
    "def get_empath_evolution(df, empath_column, year_column='year_release_date'):\n",
    "    \"\"\"\n",
    "    Create a DataFrame to track the evolution of empath topics across years\n",
    "    \"\"\"\n",
    "    empath_topics = set()\n",
    "    for entry in df[empath_column]:\n",
    "        empath_topics.update(entry.keys())\n",
    "\n",
    "    # Create a new DataFrame to track topic proportions across years\n",
    "    empath_evolution = {topic: [] for topic in empath_topics}\n",
    "    empath_evolution['year'] = []\n",
    "\n",
    "    for year in sorted(df[year_column].unique()):\n",
    "        year_data = df[df['year_release_date'] == year][empath_column]\n",
    "        aggregated = {topic: 0 for topic in empath_topics}\n",
    "        count = len(year_data)\n",
    "\n",
    "        for row in year_data:\n",
    "            for topic, value in row.items():\n",
    "                aggregated[topic] += value\n",
    "\n",
    "        if count > 0:\n",
    "            for topic in aggregated:\n",
    "                aggregated[topic] /= count\n",
    "\n",
    "        for topic, value in aggregated.items():\n",
    "            empath_evolution[topic].append(value)\n",
    "\n",
    "        empath_evolution['year'].append(year)\n",
    "\n",
    "    return pd.DataFrame(empath_evolution)\n",
    "\n",
    "empath_evolution_df = get_empath_evolution(character_empath_df, 'empath_analysis')\n",
    "melted_empath_df = empath_evolution_df.melt(id_vars=['year'], var_name='topic', value_name='proportion')\n",
    "\n",
    "# group similar lexicon categories\n",
    "melted_empath_df['topic'] = melted_empath_df['topic'].apply(map_topic_to_group, groups=TOPIC_GROUPS)\n",
    "melted_empath_df = melted_empath_df.groupby(['year', 'topic'], as_index=False).agg({'proportion': 'sum'})"
   ]
  },
  {
   "cell_type": "code",
   "execution_count": 262,
   "metadata": {},
   "outputs": [
    {
     "data": {
      "application/vnd.plotly.v1+json": {
       "config": {
        "plotlyServerURL": "https://plot.ly"
       },
       "data": [
        {
         "hovertemplate": "topic=deception&sadness<br>year=%{x}<br>proportion=%{y}<extra></extra>",
         "legendgroup": "deception&sadness",
         "line": {
          "color": "#636EFA",
          "dash": "solid"
         },
         "marker": {
          "symbol": "circle"
         },
         "mode": "lines",
         "name": "deception&sadness",
         "orientation": "v",
         "showlegend": true,
         "type": "scatter",
         "x": [
          1945,
          1946,
          1947,
          1948,
          1949,
          1950,
          1951,
          1952,
          1953,
          1954,
          1955,
          1956,
          1957,
          1958,
          1959,
          1960,
          1961,
          1962,
          1963,
          1964,
          1965,
          1966,
          1967,
          1968,
          1969,
          1970,
          1971,
          1972,
          1973,
          1974,
          1975,
          1976,
          1977,
          1978,
          1979,
          1980,
          1981,
          1982,
          1983,
          1984,
          1985,
          1986,
          1987,
          1988,
          1989,
          1990,
          1991,
          1992,
          1993,
          1994,
          1995
         ],
         "xaxis": "x",
         "y": [
          0.022872442149550583,
          0.04707207207207208,
          0.057645875251509056,
          0.06541591320072332,
          0.04345133745960192,
          0.051571890892279246,
          0.03856837606837607,
          0.05286796536796537,
          0.03672004687042281,
          0.06630748478574566,
          0.05940733195635156,
          0.03220458553791887,
          0.05448691520120092,
          0.06204345815996301,
          0.06620296058498304,
          0.04337274592376633,
          0.042278071722516165,
          0.0341926977343644,
          0.050281970638007795,
          0.061274684219889686,
          0.06563930275586717,
          0.05164890340328937,
          0.07103174603174603,
          0.05883635144198524,
          0.06867293625914316,
          0.07229847173028991,
          0.034277630805408583,
          0.055175603965926544,
          0.06569325735992401,
          0.04473365617433414,
          0.07190697560015742,
          0.06659004217143752,
          0.04942864256244538,
          0.06763830532212886,
          0.04125011678968513,
          0.05621156621156621,
          0.04293472014710953,
          0.02604282022886674,
          0.03494578582606751,
          0.04547354497354497,
          0.06354031672503012,
          0.051932825471786515,
          0.06029296492259455,
          0.0788736618678479,
          0.05503117913832199,
          0.058824908424908416,
          0.056368802665098965,
          0.0560515873015873,
          0.07989807033924681,
          0.0795089957324,
          0.013521457965902409
         ],
         "yaxis": "y"
        },
        {
         "hovertemplate": "topic=help<br>year=%{x}<br>proportion=%{y}<extra></extra>",
         "legendgroup": "help",
         "line": {
          "color": "#EF553B",
          "dash": "solid"
         },
         "marker": {
          "symbol": "circle"
         },
         "mode": "lines",
         "name": "help",
         "orientation": "v",
         "showlegend": true,
         "type": "scatter",
         "x": [
          1945,
          1946,
          1947,
          1948,
          1949,
          1950,
          1951,
          1952,
          1953,
          1954,
          1955,
          1956,
          1957,
          1958,
          1959,
          1960,
          1961,
          1962,
          1963,
          1964,
          1965,
          1966,
          1967,
          1968,
          1969,
          1970,
          1971,
          1972,
          1973,
          1974,
          1975,
          1976,
          1977,
          1978,
          1979,
          1980,
          1981,
          1982,
          1983,
          1984,
          1985,
          1986,
          1987,
          1988,
          1989,
          1990,
          1991,
          1992,
          1993,
          1994,
          1995
         ],
         "xaxis": "x",
         "y": [
          0.02320711417096959,
          0.023273273273273276,
          0.019656829868097473,
          0.012025316455696202,
          0.00901875901875902,
          0.025601017105871475,
          0.014636752136752137,
          0.017069777865232408,
          0.0245375343119704,
          0.019016249451032058,
          0.017273576097105506,
          0.016461840628507293,
          0.017525463954035383,
          0.01762983510556326,
          0.02654068777664283,
          0.018666990605766112,
          0.015440917107583775,
          0.02697585978835979,
          0.013480392156862746,
          0.01605512067840835,
          0.022704698164820864,
          0.016456112370239796,
          0.013267355134825012,
          0.012949921752738654,
          0.024625068418171865,
          0.018704906204906203,
          0.021759259259259263,
          0.017741935483870964,
          0.016748066748066746,
          0.014588377723970944,
          0.016477272727272726,
          0.011637694777229661,
          0.011809317443120259,
          0.014508928571428572,
          0.012589928057553957,
          0.016742424242424243,
          0.01352015732546706,
          0.02553832902670112,
          0.016200231693189435,
          0.01411111111111111,
          0.01340107168132646,
          0.011863136863136862,
          0.02494655550211106,
          0.01605989294942783,
          0.012929894179894182,
          0.0060888888888888885,
          0.017289295067072843,
          0.017784992784992786,
          0.010294117647058823,
          0.019457109084768658,
          0.01798941798941799
         ],
         "yaxis": "y"
        },
        {
         "hovertemplate": "topic=heroic<br>year=%{x}<br>proportion=%{y}<extra></extra>",
         "legendgroup": "heroic",
         "line": {
          "color": "#00CC96",
          "dash": "solid"
         },
         "marker": {
          "symbol": "circle"
         },
         "mode": "lines",
         "name": "heroic",
         "orientation": "v",
         "showlegend": true,
         "type": "scatter",
         "x": [
          1945,
          1946,
          1947,
          1948,
          1949,
          1950,
          1951,
          1952,
          1953,
          1954,
          1955,
          1956,
          1957,
          1958,
          1959,
          1960,
          1961,
          1962,
          1963,
          1964,
          1965,
          1966,
          1967,
          1968,
          1969,
          1970,
          1971,
          1972,
          1973,
          1974,
          1975,
          1976,
          1977,
          1978,
          1979,
          1980,
          1981,
          1982,
          1983,
          1984,
          1985,
          1986,
          1987,
          1988,
          1989,
          1990,
          1991,
          1992,
          1993,
          1994,
          1995
         ],
         "xaxis": "x",
         "y": [
          0.21832133729724088,
          0.17755791505791502,
          0.18469707131678964,
          0.16760598754269634,
          0.15055811956638399,
          0.1798970985864189,
          0.183078033078033,
          0.19706398399580216,
          0.19425889482280456,
          0.1620090658134136,
          0.1773349743937979,
          0.18737640445973772,
          0.1777930329517631,
          0.20082061950994007,
          0.16474019893963707,
          0.19302662567968687,
          0.17260643190467748,
          0.18179588544171874,
          0.18833500377618015,
          0.22135839807072674,
          0.18184908138895856,
          0.17978953008962237,
          0.16169939498252742,
          0.1701281366152948,
          0.21255053375743024,
          0.1843860684769775,
          0.16089466089466084,
          0.17017496392496392,
          0.1317697734364401,
          0.2039866511576381,
          0.14247835497835495,
          0.14813053010727428,
          0.1752863920117441,
          0.18494080324437465,
          0.1805563341534564,
          0.17228912501639768,
          0.1385249460470699,
          0.17552294819736677,
          0.1459952410656635,
          0.158040404040404,
          0.17612650972523577,
          0.19025199756573638,
          0.1509141235993087,
          0.14365274583297832,
          0.16402943947586798,
          0.17874294594294593,
          0.16892140781029666,
          0.16608532398973572,
          0.15982478850125906,
          0.15873476405391296,
          0.19721789950548121
         ],
         "yaxis": "y"
        },
        {
         "hovertemplate": "topic=law<br>year=%{x}<br>proportion=%{y}<extra></extra>",
         "legendgroup": "law",
         "line": {
          "color": "#AB63FA",
          "dash": "solid"
         },
         "marker": {
          "symbol": "circle"
         },
         "mode": "lines",
         "name": "law",
         "orientation": "v",
         "showlegend": true,
         "type": "scatter",
         "x": [
          1945,
          1946,
          1947,
          1948,
          1949,
          1950,
          1951,
          1952,
          1953,
          1954,
          1955,
          1956,
          1957,
          1958,
          1959,
          1960,
          1961,
          1962,
          1963,
          1964,
          1965,
          1966,
          1967,
          1968,
          1969,
          1970,
          1971,
          1972,
          1973,
          1974,
          1975,
          1976,
          1977,
          1978,
          1979,
          1980,
          1981,
          1982,
          1983,
          1984,
          1985,
          1986,
          1987,
          1988,
          1989,
          1990,
          1991,
          1992,
          1993,
          1994,
          1995
         ],
         "xaxis": "x",
         "y": [
          0.016112067316886594,
          0.03375697125697126,
          0.05295103957075788,
          0.025713281093027927,
          0.029850452577725305,
          0.05209200184928341,
          0.053056318681318694,
          0.032191230486685034,
          0.029311644913148666,
          0.030952380952380953,
          0.03419465429269351,
          0.038267797017797034,
          0.031916290646449366,
          0.03677990025077404,
          0.03402017769995298,
          0.009021703919663103,
          0.023885949441505,
          0.0453290343915344,
          0.03551833013907317,
          0.022899639307777907,
          0.025915994266770163,
          0.027202329833908787,
          0.025800822336966917,
          0.03516934942991282,
          0.030265462506841822,
          0.0255083300537846,
          0.045715755437977665,
          0.02727912768235349,
          0.048904798904798916,
          0.027058111380145283,
          0.039752435064935074,
          0.029155900086132645,
          0.034347577305323784,
          0.03411989795918367,
          0.03852873744960076,
          0.025903843631116356,
          0.03544452106399009,
          0.035406669127599356,
          0.052537700953193926,
          0.04096229374490244,
          0.031189166459867097,
          0.024714210753171793,
          0.038881540270429164,
          0.030437892211148034,
          0.04639077853363568,
          0.04471091131091132,
          0.017713288083658452,
          0.032638195138195145,
          0.039089069971422905,
          0.02476013938779896,
          0.06629923574368018
         ],
         "yaxis": "y"
        },
        {
         "hovertemplate": "topic=love&affection<br>year=%{x}<br>proportion=%{y}<extra></extra>",
         "legendgroup": "love&affection",
         "line": {
          "color": "#FFA15A",
          "dash": "solid"
         },
         "marker": {
          "symbol": "circle"
         },
         "mode": "lines",
         "name": "love&affection",
         "orientation": "v",
         "showlegend": true,
         "type": "scatter",
         "x": [
          1945,
          1946,
          1947,
          1948,
          1949,
          1950,
          1951,
          1952,
          1953,
          1954,
          1955,
          1956,
          1957,
          1958,
          1959,
          1960,
          1961,
          1962,
          1963,
          1964,
          1965,
          1966,
          1967,
          1968,
          1969,
          1970,
          1971,
          1972,
          1973,
          1974,
          1975,
          1976,
          1977,
          1978,
          1979,
          1980,
          1981,
          1982,
          1983,
          1984,
          1985,
          1986,
          1987,
          1988,
          1989,
          1990,
          1991,
          1992,
          1993,
          1994,
          1995
         ],
         "xaxis": "x",
         "y": [
          0.04953667483787966,
          0.09596203346203346,
          0.04356136820925553,
          0.082152903355435,
          0.0628409239979488,
          0.056222068115272,
          0.06651785714285714,
          0.030303030303030304,
          0.06299976130803199,
          0.053229761381935296,
          0.04216016372879118,
          0.0506840227673561,
          0.0755574672241339,
          0.04695446139620897,
          0.06433111208392107,
          0.07090860764330154,
          0.08684284850951518,
          0.05328827229868897,
          0.05452668246785893,
          0.04086288521220028,
          0.059999554757764785,
          0.05888268651426547,
          0.05038487282463186,
          0.06481174629476204,
          0.07034166982442844,
          0.057945526695526696,
          0.05144500561167228,
          0.045430107526881716,
          0.06927146927146928,
          0.06576619348304294,
          0.06315549980322709,
          0.06895994832041344,
          0.06029789850212386,
          0.059002976190476196,
          0.05609252857454296,
          0.08541569541569541,
          0.04399206987702563,
          0.05091501951967069,
          0.040529873100295634,
          0.09486801765062634,
          0.07291270300824441,
          0.042280680130987715,
          0.08479292483922114,
          0.056537325723372236,
          0.038031099191813474,
          0.039198534798534794,
          0.054458607236385015,
          0.0584645152826971,
          0.029672778202189967,
          0.027027493782812932,
          0.03487654320987654
         ],
         "yaxis": "y"
        },
        {
         "hovertemplate": "topic=politics&power<br>year=%{x}<br>proportion=%{y}<extra></extra>",
         "legendgroup": "politics&power",
         "line": {
          "color": "#19D3F3",
          "dash": "solid"
         },
         "marker": {
          "symbol": "circle"
         },
         "mode": "lines",
         "name": "politics&power",
         "orientation": "v",
         "showlegend": true,
         "type": "scatter",
         "x": [
          1945,
          1946,
          1947,
          1948,
          1949,
          1950,
          1951,
          1952,
          1953,
          1954,
          1955,
          1956,
          1957,
          1958,
          1959,
          1960,
          1961,
          1962,
          1963,
          1964,
          1965,
          1966,
          1967,
          1968,
          1969,
          1970,
          1971,
          1972,
          1973,
          1974,
          1975,
          1976,
          1977,
          1978,
          1979,
          1980,
          1981,
          1982,
          1983,
          1984,
          1985,
          1986,
          1987,
          1988,
          1989,
          1990,
          1991,
          1992,
          1993,
          1994,
          1995
         ],
         "xaxis": "x",
         "y": [
          0.1137598011091987,
          0.15266516516516515,
          0.07532416722557567,
          0.07165963431786215,
          0.08296363874876271,
          0.17995593942195884,
          0.14674908424908426,
          0.12612469601105963,
          0.14422202692879382,
          0.09837765527124795,
          0.11184770204378047,
          0.13287844871178203,
          0.13272597478946682,
          0.13103731489653822,
          0.12644523079916337,
          0.10732102364755428,
          0.13852460837840957,
          0.15289351851851854,
          0.18837105017445574,
          0.13405240676594424,
          0.13001424074141507,
          0.14886162365386746,
          0.12400002942171617,
          0.10068885535434832,
          0.15108100711548986,
          0.16567077703441338,
          0.1649036662925552,
          0.1446786412512219,
          0.1413490830157497,
          0.11309523809523808,
          0.1323646366260003,
          0.09456301665603992,
          0.12758696702358674,
          0.10647566718995291,
          0.139136183560644,
          0.09240562467835195,
          0.12851364466408716,
          0.12102204427785825,
          0.13231052984574113,
          0.14791285526068138,
          0.12771608257277048,
          0.11201555147214752,
          0.11655427905427906,
          0.11404577334809896,
          0.1178077544148973,
          0.14687479187479185,
          0.08375376338339302,
          0.12316632231404959,
          0.10320816524376895,
          0.07869116698903933,
          0.15630079192170696
         ],
         "yaxis": "y"
        },
        {
         "hovertemplate": "topic=pride<br>year=%{x}<br>proportion=%{y}<extra></extra>",
         "legendgroup": "pride",
         "line": {
          "color": "#FF6692",
          "dash": "solid"
         },
         "marker": {
          "symbol": "circle"
         },
         "mode": "lines",
         "name": "pride",
         "orientation": "v",
         "showlegend": true,
         "type": "scatter",
         "x": [
          1945,
          1946,
          1947,
          1948,
          1949,
          1950,
          1951,
          1952,
          1953,
          1954,
          1955,
          1956,
          1957,
          1958,
          1959,
          1960,
          1961,
          1962,
          1963,
          1964,
          1965,
          1966,
          1967,
          1968,
          1969,
          1970,
          1971,
          1972,
          1973,
          1974,
          1975,
          1976,
          1977,
          1978,
          1979,
          1980,
          1981,
          1982,
          1983,
          1984,
          1985,
          1986,
          1987,
          1988,
          1989,
          1990,
          1991,
          1992,
          1993,
          1994,
          1995
         ],
         "xaxis": "x",
         "y": [
          0.11151271753681391,
          0.07435649935649936,
          0.07994634473507713,
          0.09103877838055054,
          0.06692604915745413,
          0.07256511018646941,
          0.08958333333333332,
          0.07473244348244346,
          0.07742877423328551,
          0.05403752849405024,
          0.08071376698827679,
          0.06841530383197049,
          0.08554586213316373,
          0.07023231622746184,
          0.08112667607049627,
          0.08774160457833928,
          0.06866440793341376,
          0.06559193121693122,
          0.06081190051778288,
          0.041457382039573824,
          0.06768701646002259,
          0.0661554870696145,
          0.05449177663033083,
          0.0673764811088755,
          0.07754515599343184,
          0.07932025886571342,
          0.058351704879482665,
          0.07527550854163757,
          0.07754714421381086,
          0.05745334343290475,
          0.06637396694214875,
          0.04657650704162331,
          0.06202170286677328,
          0.06361607142857144,
          0.06809721054325368,
          0.05686507936507937,
          0.058523285956914285,
          0.06506118773560635,
          0.08160358811767263,
          0.05045839345839345,
          0.0771511750811114,
          0.07140795712224282,
          0.06755896709600415,
          0.08034560723514211,
          0.06247129193557764,
          0.06493264513264516,
          0.059959073847962736,
          0.080509768009768,
          0.031396599043657866,
          0.06509241349666882,
          0.08349846111284022
         ],
         "yaxis": "y"
        }
       ],
       "layout": {
        "height": 600,
        "legend": {
         "title": {
          "text": "Categories"
         },
         "tracegroupgap": 0
        },
        "margin": {
         "b": 50,
         "l": 50,
         "r": 50,
         "t": 50
        },
        "template": {
         "data": {
          "bar": [
           {
            "error_x": {
             "color": "#2a3f5f"
            },
            "error_y": {
             "color": "#2a3f5f"
            },
            "marker": {
             "line": {
              "color": "#E5ECF6",
              "width": 0.5
             },
             "pattern": {
              "fillmode": "overlay",
              "size": 10,
              "solidity": 0.2
             }
            },
            "type": "bar"
           }
          ],
          "barpolar": [
           {
            "marker": {
             "line": {
              "color": "#E5ECF6",
              "width": 0.5
             },
             "pattern": {
              "fillmode": "overlay",
              "size": 10,
              "solidity": 0.2
             }
            },
            "type": "barpolar"
           }
          ],
          "carpet": [
           {
            "aaxis": {
             "endlinecolor": "#2a3f5f",
             "gridcolor": "white",
             "linecolor": "white",
             "minorgridcolor": "white",
             "startlinecolor": "#2a3f5f"
            },
            "baxis": {
             "endlinecolor": "#2a3f5f",
             "gridcolor": "white",
             "linecolor": "white",
             "minorgridcolor": "white",
             "startlinecolor": "#2a3f5f"
            },
            "type": "carpet"
           }
          ],
          "choropleth": [
           {
            "colorbar": {
             "outlinewidth": 0,
             "ticks": ""
            },
            "type": "choropleth"
           }
          ],
          "contour": [
           {
            "colorbar": {
             "outlinewidth": 0,
             "ticks": ""
            },
            "colorscale": [
             [
              0,
              "#0d0887"
             ],
             [
              0.1111111111111111,
              "#46039f"
             ],
             [
              0.2222222222222222,
              "#7201a8"
             ],
             [
              0.3333333333333333,
              "#9c179e"
             ],
             [
              0.4444444444444444,
              "#bd3786"
             ],
             [
              0.5555555555555556,
              "#d8576b"
             ],
             [
              0.6666666666666666,
              "#ed7953"
             ],
             [
              0.7777777777777778,
              "#fb9f3a"
             ],
             [
              0.8888888888888888,
              "#fdca26"
             ],
             [
              1,
              "#f0f921"
             ]
            ],
            "type": "contour"
           }
          ],
          "contourcarpet": [
           {
            "colorbar": {
             "outlinewidth": 0,
             "ticks": ""
            },
            "type": "contourcarpet"
           }
          ],
          "heatmap": [
           {
            "colorbar": {
             "outlinewidth": 0,
             "ticks": ""
            },
            "colorscale": [
             [
              0,
              "#0d0887"
             ],
             [
              0.1111111111111111,
              "#46039f"
             ],
             [
              0.2222222222222222,
              "#7201a8"
             ],
             [
              0.3333333333333333,
              "#9c179e"
             ],
             [
              0.4444444444444444,
              "#bd3786"
             ],
             [
              0.5555555555555556,
              "#d8576b"
             ],
             [
              0.6666666666666666,
              "#ed7953"
             ],
             [
              0.7777777777777778,
              "#fb9f3a"
             ],
             [
              0.8888888888888888,
              "#fdca26"
             ],
             [
              1,
              "#f0f921"
             ]
            ],
            "type": "heatmap"
           }
          ],
          "heatmapgl": [
           {
            "colorbar": {
             "outlinewidth": 0,
             "ticks": ""
            },
            "colorscale": [
             [
              0,
              "#0d0887"
             ],
             [
              0.1111111111111111,
              "#46039f"
             ],
             [
              0.2222222222222222,
              "#7201a8"
             ],
             [
              0.3333333333333333,
              "#9c179e"
             ],
             [
              0.4444444444444444,
              "#bd3786"
             ],
             [
              0.5555555555555556,
              "#d8576b"
             ],
             [
              0.6666666666666666,
              "#ed7953"
             ],
             [
              0.7777777777777778,
              "#fb9f3a"
             ],
             [
              0.8888888888888888,
              "#fdca26"
             ],
             [
              1,
              "#f0f921"
             ]
            ],
            "type": "heatmapgl"
           }
          ],
          "histogram": [
           {
            "marker": {
             "pattern": {
              "fillmode": "overlay",
              "size": 10,
              "solidity": 0.2
             }
            },
            "type": "histogram"
           }
          ],
          "histogram2d": [
           {
            "colorbar": {
             "outlinewidth": 0,
             "ticks": ""
            },
            "colorscale": [
             [
              0,
              "#0d0887"
             ],
             [
              0.1111111111111111,
              "#46039f"
             ],
             [
              0.2222222222222222,
              "#7201a8"
             ],
             [
              0.3333333333333333,
              "#9c179e"
             ],
             [
              0.4444444444444444,
              "#bd3786"
             ],
             [
              0.5555555555555556,
              "#d8576b"
             ],
             [
              0.6666666666666666,
              "#ed7953"
             ],
             [
              0.7777777777777778,
              "#fb9f3a"
             ],
             [
              0.8888888888888888,
              "#fdca26"
             ],
             [
              1,
              "#f0f921"
             ]
            ],
            "type": "histogram2d"
           }
          ],
          "histogram2dcontour": [
           {
            "colorbar": {
             "outlinewidth": 0,
             "ticks": ""
            },
            "colorscale": [
             [
              0,
              "#0d0887"
             ],
             [
              0.1111111111111111,
              "#46039f"
             ],
             [
              0.2222222222222222,
              "#7201a8"
             ],
             [
              0.3333333333333333,
              "#9c179e"
             ],
             [
              0.4444444444444444,
              "#bd3786"
             ],
             [
              0.5555555555555556,
              "#d8576b"
             ],
             [
              0.6666666666666666,
              "#ed7953"
             ],
             [
              0.7777777777777778,
              "#fb9f3a"
             ],
             [
              0.8888888888888888,
              "#fdca26"
             ],
             [
              1,
              "#f0f921"
             ]
            ],
            "type": "histogram2dcontour"
           }
          ],
          "mesh3d": [
           {
            "colorbar": {
             "outlinewidth": 0,
             "ticks": ""
            },
            "type": "mesh3d"
           }
          ],
          "parcoords": [
           {
            "line": {
             "colorbar": {
              "outlinewidth": 0,
              "ticks": ""
             }
            },
            "type": "parcoords"
           }
          ],
          "pie": [
           {
            "automargin": true,
            "type": "pie"
           }
          ],
          "scatter": [
           {
            "fillpattern": {
             "fillmode": "overlay",
             "size": 10,
             "solidity": 0.2
            },
            "type": "scatter"
           }
          ],
          "scatter3d": [
           {
            "line": {
             "colorbar": {
              "outlinewidth": 0,
              "ticks": ""
             }
            },
            "marker": {
             "colorbar": {
              "outlinewidth": 0,
              "ticks": ""
             }
            },
            "type": "scatter3d"
           }
          ],
          "scattercarpet": [
           {
            "marker": {
             "colorbar": {
              "outlinewidth": 0,
              "ticks": ""
             }
            },
            "type": "scattercarpet"
           }
          ],
          "scattergeo": [
           {
            "marker": {
             "colorbar": {
              "outlinewidth": 0,
              "ticks": ""
             }
            },
            "type": "scattergeo"
           }
          ],
          "scattergl": [
           {
            "marker": {
             "colorbar": {
              "outlinewidth": 0,
              "ticks": ""
             }
            },
            "type": "scattergl"
           }
          ],
          "scattermapbox": [
           {
            "marker": {
             "colorbar": {
              "outlinewidth": 0,
              "ticks": ""
             }
            },
            "type": "scattermapbox"
           }
          ],
          "scatterpolar": [
           {
            "marker": {
             "colorbar": {
              "outlinewidth": 0,
              "ticks": ""
             }
            },
            "type": "scatterpolar"
           }
          ],
          "scatterpolargl": [
           {
            "marker": {
             "colorbar": {
              "outlinewidth": 0,
              "ticks": ""
             }
            },
            "type": "scatterpolargl"
           }
          ],
          "scatterternary": [
           {
            "marker": {
             "colorbar": {
              "outlinewidth": 0,
              "ticks": ""
             }
            },
            "type": "scatterternary"
           }
          ],
          "surface": [
           {
            "colorbar": {
             "outlinewidth": 0,
             "ticks": ""
            },
            "colorscale": [
             [
              0,
              "#0d0887"
             ],
             [
              0.1111111111111111,
              "#46039f"
             ],
             [
              0.2222222222222222,
              "#7201a8"
             ],
             [
              0.3333333333333333,
              "#9c179e"
             ],
             [
              0.4444444444444444,
              "#bd3786"
             ],
             [
              0.5555555555555556,
              "#d8576b"
             ],
             [
              0.6666666666666666,
              "#ed7953"
             ],
             [
              0.7777777777777778,
              "#fb9f3a"
             ],
             [
              0.8888888888888888,
              "#fdca26"
             ],
             [
              1,
              "#f0f921"
             ]
            ],
            "type": "surface"
           }
          ],
          "table": [
           {
            "cells": {
             "fill": {
              "color": "#EBF0F8"
             },
             "line": {
              "color": "white"
             }
            },
            "header": {
             "fill": {
              "color": "#C8D4E3"
             },
             "line": {
              "color": "white"
             }
            },
            "type": "table"
           }
          ]
         },
         "layout": {
          "annotationdefaults": {
           "arrowcolor": "#2a3f5f",
           "arrowhead": 0,
           "arrowwidth": 1
          },
          "autotypenumbers": "strict",
          "coloraxis": {
           "colorbar": {
            "outlinewidth": 0,
            "ticks": ""
           }
          },
          "colorscale": {
           "diverging": [
            [
             0,
             "#8e0152"
            ],
            [
             0.1,
             "#c51b7d"
            ],
            [
             0.2,
             "#de77ae"
            ],
            [
             0.3,
             "#f1b6da"
            ],
            [
             0.4,
             "#fde0ef"
            ],
            [
             0.5,
             "#f7f7f7"
            ],
            [
             0.6,
             "#e6f5d0"
            ],
            [
             0.7,
             "#b8e186"
            ],
            [
             0.8,
             "#7fbc41"
            ],
            [
             0.9,
             "#4d9221"
            ],
            [
             1,
             "#276419"
            ]
           ],
           "sequential": [
            [
             0,
             "#0d0887"
            ],
            [
             0.1111111111111111,
             "#46039f"
            ],
            [
             0.2222222222222222,
             "#7201a8"
            ],
            [
             0.3333333333333333,
             "#9c179e"
            ],
            [
             0.4444444444444444,
             "#bd3786"
            ],
            [
             0.5555555555555556,
             "#d8576b"
            ],
            [
             0.6666666666666666,
             "#ed7953"
            ],
            [
             0.7777777777777778,
             "#fb9f3a"
            ],
            [
             0.8888888888888888,
             "#fdca26"
            ],
            [
             1,
             "#f0f921"
            ]
           ],
           "sequentialminus": [
            [
             0,
             "#0d0887"
            ],
            [
             0.1111111111111111,
             "#46039f"
            ],
            [
             0.2222222222222222,
             "#7201a8"
            ],
            [
             0.3333333333333333,
             "#9c179e"
            ],
            [
             0.4444444444444444,
             "#bd3786"
            ],
            [
             0.5555555555555556,
             "#d8576b"
            ],
            [
             0.6666666666666666,
             "#ed7953"
            ],
            [
             0.7777777777777778,
             "#fb9f3a"
            ],
            [
             0.8888888888888888,
             "#fdca26"
            ],
            [
             1,
             "#f0f921"
            ]
           ]
          },
          "colorway": [
           "#636efa",
           "#EF553B",
           "#00cc96",
           "#ab63fa",
           "#FFA15A",
           "#19d3f3",
           "#FF6692",
           "#B6E880",
           "#FF97FF",
           "#FECB52"
          ],
          "font": {
           "color": "#2a3f5f"
          },
          "geo": {
           "bgcolor": "white",
           "lakecolor": "white",
           "landcolor": "#E5ECF6",
           "showlakes": true,
           "showland": true,
           "subunitcolor": "white"
          },
          "hoverlabel": {
           "align": "left"
          },
          "hovermode": "closest",
          "mapbox": {
           "style": "light"
          },
          "paper_bgcolor": "white",
          "plot_bgcolor": "#E5ECF6",
          "polar": {
           "angularaxis": {
            "gridcolor": "white",
            "linecolor": "white",
            "ticks": ""
           },
           "bgcolor": "#E5ECF6",
           "radialaxis": {
            "gridcolor": "white",
            "linecolor": "white",
            "ticks": ""
           }
          },
          "scene": {
           "xaxis": {
            "backgroundcolor": "#E5ECF6",
            "gridcolor": "white",
            "gridwidth": 2,
            "linecolor": "white",
            "showbackground": true,
            "ticks": "",
            "zerolinecolor": "white"
           },
           "yaxis": {
            "backgroundcolor": "#E5ECF6",
            "gridcolor": "white",
            "gridwidth": 2,
            "linecolor": "white",
            "showbackground": true,
            "ticks": "",
            "zerolinecolor": "white"
           },
           "zaxis": {
            "backgroundcolor": "#E5ECF6",
            "gridcolor": "white",
            "gridwidth": 2,
            "linecolor": "white",
            "showbackground": true,
            "ticks": "",
            "zerolinecolor": "white"
           }
          },
          "shapedefaults": {
           "line": {
            "color": "#2a3f5f"
           }
          },
          "ternary": {
           "aaxis": {
            "gridcolor": "white",
            "linecolor": "white",
            "ticks": ""
           },
           "baxis": {
            "gridcolor": "white",
            "linecolor": "white",
            "ticks": ""
           },
           "bgcolor": "#E5ECF6",
           "caxis": {
            "gridcolor": "white",
            "linecolor": "white",
            "ticks": ""
           }
          },
          "title": {
           "x": 0.05
          },
          "xaxis": {
           "automargin": true,
           "gridcolor": "white",
           "linecolor": "white",
           "ticks": "",
           "title": {
            "standoff": 15
           },
           "zerolinecolor": "white",
           "zerolinewidth": 2
          },
          "yaxis": {
           "automargin": true,
           "gridcolor": "white",
           "linecolor": "white",
           "ticks": "",
           "title": {
            "standoff": 15
           },
           "zerolinecolor": "white",
           "zerolinewidth": 2
          }
         }
        },
        "title": {
         "font": {
          "family": "Arial",
          "size": 20,
          "weight": "bold"
         },
         "text": "Changing Themes in Character Representation Across Years",
         "x": 0.5,
         "xanchor": "center"
        },
        "width": 1100,
        "xaxis": {
         "anchor": "y",
         "domain": [
          0,
          1
         ],
         "title": {
          "text": "Movie Release Year"
         }
        },
        "yaxis": {
         "anchor": "x",
         "domain": [
          0,
          1
         ],
         "title": {
          "text": "Frequency of a Category"
         }
        }
       }
      }
     },
     "metadata": {},
     "output_type": "display_data"
    }
   ],
   "source": [
    "fig = go.Figure()\n",
    "\n",
    "# set topic color palette\n",
    "unique_topics = melted_empath_df['topic'].unique()\n",
    "color_palette = px.colors.qualitative.Plotly\n",
    "topic_colors = {topic: color_palette[i] for i, topic in enumerate(unique_topics)}\n",
    "\n",
    "# Map colors directly in the DataFrame\n",
    "melted_empath_df['color'] = melted_empath_df['topic'].map(topic_colors)\n",
    "\n",
    "fig = px.line(\n",
    "    melted_empath_df,\n",
    "    x='year',\n",
    "    y='proportion',\n",
    "    color='topic',\n",
    "    title='Evolution of Grouped Empath Topics Across Years',\n",
    "    color_discrete_map=topic_colors\n",
    ")\n",
    "\n",
    "fig.update_layout(\n",
    "    width = 1100,\n",
    "    height = 600,\n",
    "    xaxis_title=\"Movie Release Year\",\n",
    "    yaxis_title=\"Frequency of a Category\",\n",
    "    legend_title=\"Categories\",\n",
    "    title={\n",
    "        \"text\": \"Changing Themes in Character Representation Across Years\",\n",
    "        \"x\": 0.5,\n",
    "        \"xanchor\": \"center\",\n",
    "        \"font\": {\"size\": 20, \"family\": \"Arial\", \"weight\": \"bold\"}\n",
    "    },\n",
    "    margin=dict(l=50, r=50, t=50, b=50),  # Adjust margins\n",
    ")\n",
    "\n",
    "fig.show()"
   ]
  },
  {
   "cell_type": "code",
   "execution_count": 263,
   "metadata": {},
   "outputs": [
    {
     "data": {
      "application/vnd.plotly.v1+json": {
       "config": {
        "plotlyServerURL": "https://plot.ly"
       },
       "data": [
        {
         "marker": {
          "color": [
           "#636EFA",
           "#EF553B",
           "#00CC96",
           "#AB63FA",
           "#FFA15A",
           "#19D3F3",
           "#FF6692"
          ]
         },
         "name": "Year 1945",
         "type": "bar",
         "visible": true,
         "x": [
          "deception&sadness",
          "help",
          "heroic",
          "law",
          "love&affection",
          "politics&power",
          "pride"
         ],
         "y": [
          0.022872442149550583,
          0.02320711417096959,
          0.21832133729724088,
          0.016112067316886594,
          0.04953667483787966,
          0.1137598011091987,
          0.11151271753681391
         ]
        },
        {
         "marker": {
          "color": [
           "#636EFA",
           "#EF553B",
           "#00CC96",
           "#AB63FA",
           "#FFA15A",
           "#19D3F3",
           "#FF6692"
          ]
         },
         "name": "Year 1946",
         "type": "bar",
         "visible": false,
         "x": [
          "deception&sadness",
          "help",
          "heroic",
          "law",
          "love&affection",
          "politics&power",
          "pride"
         ],
         "y": [
          0.04707207207207208,
          0.023273273273273276,
          0.17755791505791502,
          0.03375697125697126,
          0.09596203346203346,
          0.15266516516516515,
          0.07435649935649936
         ]
        },
        {
         "marker": {
          "color": [
           "#636EFA",
           "#EF553B",
           "#00CC96",
           "#AB63FA",
           "#FFA15A",
           "#19D3F3",
           "#FF6692"
          ]
         },
         "name": "Year 1947",
         "type": "bar",
         "visible": false,
         "x": [
          "deception&sadness",
          "help",
          "heroic",
          "law",
          "love&affection",
          "politics&power",
          "pride"
         ],
         "y": [
          0.057645875251509056,
          0.019656829868097473,
          0.18469707131678964,
          0.05295103957075788,
          0.04356136820925553,
          0.07532416722557567,
          0.07994634473507713
         ]
        },
        {
         "marker": {
          "color": [
           "#636EFA",
           "#EF553B",
           "#00CC96",
           "#AB63FA",
           "#FFA15A",
           "#19D3F3",
           "#FF6692"
          ]
         },
         "name": "Year 1948",
         "type": "bar",
         "visible": false,
         "x": [
          "deception&sadness",
          "help",
          "heroic",
          "law",
          "love&affection",
          "politics&power",
          "pride"
         ],
         "y": [
          0.06541591320072332,
          0.012025316455696202,
          0.16760598754269634,
          0.025713281093027927,
          0.082152903355435,
          0.07165963431786215,
          0.09103877838055054
         ]
        },
        {
         "marker": {
          "color": [
           "#636EFA",
           "#EF553B",
           "#00CC96",
           "#AB63FA",
           "#FFA15A",
           "#19D3F3",
           "#FF6692"
          ]
         },
         "name": "Year 1949",
         "type": "bar",
         "visible": false,
         "x": [
          "deception&sadness",
          "help",
          "heroic",
          "law",
          "love&affection",
          "politics&power",
          "pride"
         ],
         "y": [
          0.04345133745960192,
          0.00901875901875902,
          0.15055811956638399,
          0.029850452577725305,
          0.0628409239979488,
          0.08296363874876271,
          0.06692604915745413
         ]
        },
        {
         "marker": {
          "color": [
           "#636EFA",
           "#EF553B",
           "#00CC96",
           "#AB63FA",
           "#FFA15A",
           "#19D3F3",
           "#FF6692"
          ]
         },
         "name": "Year 1950",
         "type": "bar",
         "visible": false,
         "x": [
          "deception&sadness",
          "help",
          "heroic",
          "law",
          "love&affection",
          "politics&power",
          "pride"
         ],
         "y": [
          0.051571890892279246,
          0.025601017105871475,
          0.1798970985864189,
          0.05209200184928341,
          0.056222068115272,
          0.17995593942195884,
          0.07256511018646941
         ]
        },
        {
         "marker": {
          "color": [
           "#636EFA",
           "#EF553B",
           "#00CC96",
           "#AB63FA",
           "#FFA15A",
           "#19D3F3",
           "#FF6692"
          ]
         },
         "name": "Year 1951",
         "type": "bar",
         "visible": false,
         "x": [
          "deception&sadness",
          "help",
          "heroic",
          "law",
          "love&affection",
          "politics&power",
          "pride"
         ],
         "y": [
          0.03856837606837607,
          0.014636752136752137,
          0.183078033078033,
          0.053056318681318694,
          0.06651785714285714,
          0.14674908424908426,
          0.08958333333333332
         ]
        },
        {
         "marker": {
          "color": [
           "#636EFA",
           "#EF553B",
           "#00CC96",
           "#AB63FA",
           "#FFA15A",
           "#19D3F3",
           "#FF6692"
          ]
         },
         "name": "Year 1952",
         "type": "bar",
         "visible": false,
         "x": [
          "deception&sadness",
          "help",
          "heroic",
          "law",
          "love&affection",
          "politics&power",
          "pride"
         ],
         "y": [
          0.05286796536796537,
          0.017069777865232408,
          0.19706398399580216,
          0.032191230486685034,
          0.030303030303030304,
          0.12612469601105963,
          0.07473244348244346
         ]
        },
        {
         "marker": {
          "color": [
           "#636EFA",
           "#EF553B",
           "#00CC96",
           "#AB63FA",
           "#FFA15A",
           "#19D3F3",
           "#FF6692"
          ]
         },
         "name": "Year 1953",
         "type": "bar",
         "visible": false,
         "x": [
          "deception&sadness",
          "help",
          "heroic",
          "law",
          "love&affection",
          "politics&power",
          "pride"
         ],
         "y": [
          0.03672004687042281,
          0.0245375343119704,
          0.19425889482280456,
          0.029311644913148666,
          0.06299976130803199,
          0.14422202692879382,
          0.07742877423328551
         ]
        },
        {
         "marker": {
          "color": [
           "#636EFA",
           "#EF553B",
           "#00CC96",
           "#AB63FA",
           "#FFA15A",
           "#19D3F3",
           "#FF6692"
          ]
         },
         "name": "Year 1954",
         "type": "bar",
         "visible": false,
         "x": [
          "deception&sadness",
          "help",
          "heroic",
          "law",
          "love&affection",
          "politics&power",
          "pride"
         ],
         "y": [
          0.06630748478574566,
          0.019016249451032058,
          0.1620090658134136,
          0.030952380952380953,
          0.053229761381935296,
          0.09837765527124795,
          0.05403752849405024
         ]
        },
        {
         "marker": {
          "color": [
           "#636EFA",
           "#EF553B",
           "#00CC96",
           "#AB63FA",
           "#FFA15A",
           "#19D3F3",
           "#FF6692"
          ]
         },
         "name": "Year 1955",
         "type": "bar",
         "visible": false,
         "x": [
          "deception&sadness",
          "help",
          "heroic",
          "law",
          "love&affection",
          "politics&power",
          "pride"
         ],
         "y": [
          0.05940733195635156,
          0.017273576097105506,
          0.1773349743937979,
          0.03419465429269351,
          0.04216016372879118,
          0.11184770204378047,
          0.08071376698827679
         ]
        },
        {
         "marker": {
          "color": [
           "#636EFA",
           "#EF553B",
           "#00CC96",
           "#AB63FA",
           "#FFA15A",
           "#19D3F3",
           "#FF6692"
          ]
         },
         "name": "Year 1956",
         "type": "bar",
         "visible": false,
         "x": [
          "deception&sadness",
          "help",
          "heroic",
          "law",
          "love&affection",
          "politics&power",
          "pride"
         ],
         "y": [
          0.03220458553791887,
          0.016461840628507293,
          0.18737640445973772,
          0.038267797017797034,
          0.0506840227673561,
          0.13287844871178203,
          0.06841530383197049
         ]
        },
        {
         "marker": {
          "color": [
           "#636EFA",
           "#EF553B",
           "#00CC96",
           "#AB63FA",
           "#FFA15A",
           "#19D3F3",
           "#FF6692"
          ]
         },
         "name": "Year 1957",
         "type": "bar",
         "visible": false,
         "x": [
          "deception&sadness",
          "help",
          "heroic",
          "law",
          "love&affection",
          "politics&power",
          "pride"
         ],
         "y": [
          0.05448691520120092,
          0.017525463954035383,
          0.1777930329517631,
          0.031916290646449366,
          0.0755574672241339,
          0.13272597478946682,
          0.08554586213316373
         ]
        },
        {
         "marker": {
          "color": [
           "#636EFA",
           "#EF553B",
           "#00CC96",
           "#AB63FA",
           "#FFA15A",
           "#19D3F3",
           "#FF6692"
          ]
         },
         "name": "Year 1958",
         "type": "bar",
         "visible": false,
         "x": [
          "deception&sadness",
          "help",
          "heroic",
          "law",
          "love&affection",
          "politics&power",
          "pride"
         ],
         "y": [
          0.06204345815996301,
          0.01762983510556326,
          0.20082061950994007,
          0.03677990025077404,
          0.04695446139620897,
          0.13103731489653822,
          0.07023231622746184
         ]
        },
        {
         "marker": {
          "color": [
           "#636EFA",
           "#EF553B",
           "#00CC96",
           "#AB63FA",
           "#FFA15A",
           "#19D3F3",
           "#FF6692"
          ]
         },
         "name": "Year 1959",
         "type": "bar",
         "visible": false,
         "x": [
          "deception&sadness",
          "help",
          "heroic",
          "law",
          "love&affection",
          "politics&power",
          "pride"
         ],
         "y": [
          0.06620296058498304,
          0.02654068777664283,
          0.16474019893963707,
          0.03402017769995298,
          0.06433111208392107,
          0.12644523079916337,
          0.08112667607049627
         ]
        },
        {
         "marker": {
          "color": [
           "#636EFA",
           "#EF553B",
           "#00CC96",
           "#AB63FA",
           "#FFA15A",
           "#19D3F3",
           "#FF6692"
          ]
         },
         "name": "Year 1960",
         "type": "bar",
         "visible": false,
         "x": [
          "deception&sadness",
          "help",
          "heroic",
          "law",
          "love&affection",
          "politics&power",
          "pride"
         ],
         "y": [
          0.04337274592376633,
          0.018666990605766112,
          0.19302662567968687,
          0.009021703919663103,
          0.07090860764330154,
          0.10732102364755428,
          0.08774160457833928
         ]
        },
        {
         "marker": {
          "color": [
           "#636EFA",
           "#EF553B",
           "#00CC96",
           "#AB63FA",
           "#FFA15A",
           "#19D3F3",
           "#FF6692"
          ]
         },
         "name": "Year 1961",
         "type": "bar",
         "visible": false,
         "x": [
          "deception&sadness",
          "help",
          "heroic",
          "law",
          "love&affection",
          "politics&power",
          "pride"
         ],
         "y": [
          0.042278071722516165,
          0.015440917107583775,
          0.17260643190467748,
          0.023885949441505,
          0.08684284850951518,
          0.13852460837840957,
          0.06866440793341376
         ]
        },
        {
         "marker": {
          "color": [
           "#636EFA",
           "#EF553B",
           "#00CC96",
           "#AB63FA",
           "#FFA15A",
           "#19D3F3",
           "#FF6692"
          ]
         },
         "name": "Year 1962",
         "type": "bar",
         "visible": false,
         "x": [
          "deception&sadness",
          "help",
          "heroic",
          "law",
          "love&affection",
          "politics&power",
          "pride"
         ],
         "y": [
          0.0341926977343644,
          0.02697585978835979,
          0.18179588544171874,
          0.0453290343915344,
          0.05328827229868897,
          0.15289351851851854,
          0.06559193121693122
         ]
        },
        {
         "marker": {
          "color": [
           "#636EFA",
           "#EF553B",
           "#00CC96",
           "#AB63FA",
           "#FFA15A",
           "#19D3F3",
           "#FF6692"
          ]
         },
         "name": "Year 1963",
         "type": "bar",
         "visible": false,
         "x": [
          "deception&sadness",
          "help",
          "heroic",
          "law",
          "love&affection",
          "politics&power",
          "pride"
         ],
         "y": [
          0.050281970638007795,
          0.013480392156862746,
          0.18833500377618015,
          0.03551833013907317,
          0.05452668246785893,
          0.18837105017445574,
          0.06081190051778288
         ]
        },
        {
         "marker": {
          "color": [
           "#636EFA",
           "#EF553B",
           "#00CC96",
           "#AB63FA",
           "#FFA15A",
           "#19D3F3",
           "#FF6692"
          ]
         },
         "name": "Year 1964",
         "type": "bar",
         "visible": false,
         "x": [
          "deception&sadness",
          "help",
          "heroic",
          "law",
          "love&affection",
          "politics&power",
          "pride"
         ],
         "y": [
          0.061274684219889686,
          0.01605512067840835,
          0.22135839807072674,
          0.022899639307777907,
          0.04086288521220028,
          0.13405240676594424,
          0.041457382039573824
         ]
        },
        {
         "marker": {
          "color": [
           "#636EFA",
           "#EF553B",
           "#00CC96",
           "#AB63FA",
           "#FFA15A",
           "#19D3F3",
           "#FF6692"
          ]
         },
         "name": "Year 1965",
         "type": "bar",
         "visible": false,
         "x": [
          "deception&sadness",
          "help",
          "heroic",
          "law",
          "love&affection",
          "politics&power",
          "pride"
         ],
         "y": [
          0.06563930275586717,
          0.022704698164820864,
          0.18184908138895856,
          0.025915994266770163,
          0.059999554757764785,
          0.13001424074141507,
          0.06768701646002259
         ]
        },
        {
         "marker": {
          "color": [
           "#636EFA",
           "#EF553B",
           "#00CC96",
           "#AB63FA",
           "#FFA15A",
           "#19D3F3",
           "#FF6692"
          ]
         },
         "name": "Year 1966",
         "type": "bar",
         "visible": false,
         "x": [
          "deception&sadness",
          "help",
          "heroic",
          "law",
          "love&affection",
          "politics&power",
          "pride"
         ],
         "y": [
          0.05164890340328937,
          0.016456112370239796,
          0.17978953008962237,
          0.027202329833908787,
          0.05888268651426547,
          0.14886162365386746,
          0.0661554870696145
         ]
        },
        {
         "marker": {
          "color": [
           "#636EFA",
           "#EF553B",
           "#00CC96",
           "#AB63FA",
           "#FFA15A",
           "#19D3F3",
           "#FF6692"
          ]
         },
         "name": "Year 1967",
         "type": "bar",
         "visible": false,
         "x": [
          "deception&sadness",
          "help",
          "heroic",
          "law",
          "love&affection",
          "politics&power",
          "pride"
         ],
         "y": [
          0.07103174603174603,
          0.013267355134825012,
          0.16169939498252742,
          0.025800822336966917,
          0.05038487282463186,
          0.12400002942171617,
          0.05449177663033083
         ]
        },
        {
         "marker": {
          "color": [
           "#636EFA",
           "#EF553B",
           "#00CC96",
           "#AB63FA",
           "#FFA15A",
           "#19D3F3",
           "#FF6692"
          ]
         },
         "name": "Year 1968",
         "type": "bar",
         "visible": false,
         "x": [
          "deception&sadness",
          "help",
          "heroic",
          "law",
          "love&affection",
          "politics&power",
          "pride"
         ],
         "y": [
          0.05883635144198524,
          0.012949921752738654,
          0.1701281366152948,
          0.03516934942991282,
          0.06481174629476204,
          0.10068885535434832,
          0.0673764811088755
         ]
        },
        {
         "marker": {
          "color": [
           "#636EFA",
           "#EF553B",
           "#00CC96",
           "#AB63FA",
           "#FFA15A",
           "#19D3F3",
           "#FF6692"
          ]
         },
         "name": "Year 1969",
         "type": "bar",
         "visible": false,
         "x": [
          "deception&sadness",
          "help",
          "heroic",
          "law",
          "love&affection",
          "politics&power",
          "pride"
         ],
         "y": [
          0.06867293625914316,
          0.024625068418171865,
          0.21255053375743024,
          0.030265462506841822,
          0.07034166982442844,
          0.15108100711548986,
          0.07754515599343184
         ]
        },
        {
         "marker": {
          "color": [
           "#636EFA",
           "#EF553B",
           "#00CC96",
           "#AB63FA",
           "#FFA15A",
           "#19D3F3",
           "#FF6692"
          ]
         },
         "name": "Year 1970",
         "type": "bar",
         "visible": false,
         "x": [
          "deception&sadness",
          "help",
          "heroic",
          "law",
          "love&affection",
          "politics&power",
          "pride"
         ],
         "y": [
          0.07229847173028991,
          0.018704906204906203,
          0.1843860684769775,
          0.0255083300537846,
          0.057945526695526696,
          0.16567077703441338,
          0.07932025886571342
         ]
        },
        {
         "marker": {
          "color": [
           "#636EFA",
           "#EF553B",
           "#00CC96",
           "#AB63FA",
           "#FFA15A",
           "#19D3F3",
           "#FF6692"
          ]
         },
         "name": "Year 1971",
         "type": "bar",
         "visible": false,
         "x": [
          "deception&sadness",
          "help",
          "heroic",
          "law",
          "love&affection",
          "politics&power",
          "pride"
         ],
         "y": [
          0.034277630805408583,
          0.021759259259259263,
          0.16089466089466084,
          0.045715755437977665,
          0.05144500561167228,
          0.1649036662925552,
          0.058351704879482665
         ]
        },
        {
         "marker": {
          "color": [
           "#636EFA",
           "#EF553B",
           "#00CC96",
           "#AB63FA",
           "#FFA15A",
           "#19D3F3",
           "#FF6692"
          ]
         },
         "name": "Year 1972",
         "type": "bar",
         "visible": false,
         "x": [
          "deception&sadness",
          "help",
          "heroic",
          "law",
          "love&affection",
          "politics&power",
          "pride"
         ],
         "y": [
          0.055175603965926544,
          0.017741935483870964,
          0.17017496392496392,
          0.02727912768235349,
          0.045430107526881716,
          0.1446786412512219,
          0.07527550854163757
         ]
        },
        {
         "marker": {
          "color": [
           "#636EFA",
           "#EF553B",
           "#00CC96",
           "#AB63FA",
           "#FFA15A",
           "#19D3F3",
           "#FF6692"
          ]
         },
         "name": "Year 1973",
         "type": "bar",
         "visible": false,
         "x": [
          "deception&sadness",
          "help",
          "heroic",
          "law",
          "love&affection",
          "politics&power",
          "pride"
         ],
         "y": [
          0.06569325735992401,
          0.016748066748066746,
          0.1317697734364401,
          0.048904798904798916,
          0.06927146927146928,
          0.1413490830157497,
          0.07754714421381086
         ]
        },
        {
         "marker": {
          "color": [
           "#636EFA",
           "#EF553B",
           "#00CC96",
           "#AB63FA",
           "#FFA15A",
           "#19D3F3",
           "#FF6692"
          ]
         },
         "name": "Year 1974",
         "type": "bar",
         "visible": false,
         "x": [
          "deception&sadness",
          "help",
          "heroic",
          "law",
          "love&affection",
          "politics&power",
          "pride"
         ],
         "y": [
          0.04473365617433414,
          0.014588377723970944,
          0.2039866511576381,
          0.027058111380145283,
          0.06576619348304294,
          0.11309523809523808,
          0.05745334343290475
         ]
        },
        {
         "marker": {
          "color": [
           "#636EFA",
           "#EF553B",
           "#00CC96",
           "#AB63FA",
           "#FFA15A",
           "#19D3F3",
           "#FF6692"
          ]
         },
         "name": "Year 1975",
         "type": "bar",
         "visible": false,
         "x": [
          "deception&sadness",
          "help",
          "heroic",
          "law",
          "love&affection",
          "politics&power",
          "pride"
         ],
         "y": [
          0.07190697560015742,
          0.016477272727272726,
          0.14247835497835495,
          0.039752435064935074,
          0.06315549980322709,
          0.1323646366260003,
          0.06637396694214875
         ]
        },
        {
         "marker": {
          "color": [
           "#636EFA",
           "#EF553B",
           "#00CC96",
           "#AB63FA",
           "#FFA15A",
           "#19D3F3",
           "#FF6692"
          ]
         },
         "name": "Year 1976",
         "type": "bar",
         "visible": false,
         "x": [
          "deception&sadness",
          "help",
          "heroic",
          "law",
          "love&affection",
          "politics&power",
          "pride"
         ],
         "y": [
          0.06659004217143752,
          0.011637694777229661,
          0.14813053010727428,
          0.029155900086132645,
          0.06895994832041344,
          0.09456301665603992,
          0.04657650704162331
         ]
        },
        {
         "marker": {
          "color": [
           "#636EFA",
           "#EF553B",
           "#00CC96",
           "#AB63FA",
           "#FFA15A",
           "#19D3F3",
           "#FF6692"
          ]
         },
         "name": "Year 1977",
         "type": "bar",
         "visible": false,
         "x": [
          "deception&sadness",
          "help",
          "heroic",
          "law",
          "love&affection",
          "politics&power",
          "pride"
         ],
         "y": [
          0.04942864256244538,
          0.011809317443120259,
          0.1752863920117441,
          0.034347577305323784,
          0.06029789850212386,
          0.12758696702358674,
          0.06202170286677328
         ]
        },
        {
         "marker": {
          "color": [
           "#636EFA",
           "#EF553B",
           "#00CC96",
           "#AB63FA",
           "#FFA15A",
           "#19D3F3",
           "#FF6692"
          ]
         },
         "name": "Year 1978",
         "type": "bar",
         "visible": false,
         "x": [
          "deception&sadness",
          "help",
          "heroic",
          "law",
          "love&affection",
          "politics&power",
          "pride"
         ],
         "y": [
          0.06763830532212886,
          0.014508928571428572,
          0.18494080324437465,
          0.03411989795918367,
          0.059002976190476196,
          0.10647566718995291,
          0.06361607142857144
         ]
        },
        {
         "marker": {
          "color": [
           "#636EFA",
           "#EF553B",
           "#00CC96",
           "#AB63FA",
           "#FFA15A",
           "#19D3F3",
           "#FF6692"
          ]
         },
         "name": "Year 1979",
         "type": "bar",
         "visible": false,
         "x": [
          "deception&sadness",
          "help",
          "heroic",
          "law",
          "love&affection",
          "politics&power",
          "pride"
         ],
         "y": [
          0.04125011678968513,
          0.012589928057553957,
          0.1805563341534564,
          0.03852873744960076,
          0.05609252857454296,
          0.139136183560644,
          0.06809721054325368
         ]
        },
        {
         "marker": {
          "color": [
           "#636EFA",
           "#EF553B",
           "#00CC96",
           "#AB63FA",
           "#FFA15A",
           "#19D3F3",
           "#FF6692"
          ]
         },
         "name": "Year 1980",
         "type": "bar",
         "visible": false,
         "x": [
          "deception&sadness",
          "help",
          "heroic",
          "law",
          "love&affection",
          "politics&power",
          "pride"
         ],
         "y": [
          0.05621156621156621,
          0.016742424242424243,
          0.17228912501639768,
          0.025903843631116356,
          0.08541569541569541,
          0.09240562467835195,
          0.05686507936507937
         ]
        },
        {
         "marker": {
          "color": [
           "#636EFA",
           "#EF553B",
           "#00CC96",
           "#AB63FA",
           "#FFA15A",
           "#19D3F3",
           "#FF6692"
          ]
         },
         "name": "Year 1981",
         "type": "bar",
         "visible": false,
         "x": [
          "deception&sadness",
          "help",
          "heroic",
          "law",
          "love&affection",
          "politics&power",
          "pride"
         ],
         "y": [
          0.04293472014710953,
          0.01352015732546706,
          0.1385249460470699,
          0.03544452106399009,
          0.04399206987702563,
          0.12851364466408716,
          0.058523285956914285
         ]
        },
        {
         "marker": {
          "color": [
           "#636EFA",
           "#EF553B",
           "#00CC96",
           "#AB63FA",
           "#FFA15A",
           "#19D3F3",
           "#FF6692"
          ]
         },
         "name": "Year 1982",
         "type": "bar",
         "visible": false,
         "x": [
          "deception&sadness",
          "help",
          "heroic",
          "law",
          "love&affection",
          "politics&power",
          "pride"
         ],
         "y": [
          0.02604282022886674,
          0.02553832902670112,
          0.17552294819736677,
          0.035406669127599356,
          0.05091501951967069,
          0.12102204427785825,
          0.06506118773560635
         ]
        },
        {
         "marker": {
          "color": [
           "#636EFA",
           "#EF553B",
           "#00CC96",
           "#AB63FA",
           "#FFA15A",
           "#19D3F3",
           "#FF6692"
          ]
         },
         "name": "Year 1983",
         "type": "bar",
         "visible": false,
         "x": [
          "deception&sadness",
          "help",
          "heroic",
          "law",
          "love&affection",
          "politics&power",
          "pride"
         ],
         "y": [
          0.03494578582606751,
          0.016200231693189435,
          0.1459952410656635,
          0.052537700953193926,
          0.040529873100295634,
          0.13231052984574113,
          0.08160358811767263
         ]
        },
        {
         "marker": {
          "color": [
           "#636EFA",
           "#EF553B",
           "#00CC96",
           "#AB63FA",
           "#FFA15A",
           "#19D3F3",
           "#FF6692"
          ]
         },
         "name": "Year 1984",
         "type": "bar",
         "visible": false,
         "x": [
          "deception&sadness",
          "help",
          "heroic",
          "law",
          "love&affection",
          "politics&power",
          "pride"
         ],
         "y": [
          0.04547354497354497,
          0.01411111111111111,
          0.158040404040404,
          0.04096229374490244,
          0.09486801765062634,
          0.14791285526068138,
          0.05045839345839345
         ]
        },
        {
         "marker": {
          "color": [
           "#636EFA",
           "#EF553B",
           "#00CC96",
           "#AB63FA",
           "#FFA15A",
           "#19D3F3",
           "#FF6692"
          ]
         },
         "name": "Year 1985",
         "type": "bar",
         "visible": false,
         "x": [
          "deception&sadness",
          "help",
          "heroic",
          "law",
          "love&affection",
          "politics&power",
          "pride"
         ],
         "y": [
          0.06354031672503012,
          0.01340107168132646,
          0.17612650972523577,
          0.031189166459867097,
          0.07291270300824441,
          0.12771608257277048,
          0.0771511750811114
         ]
        },
        {
         "marker": {
          "color": [
           "#636EFA",
           "#EF553B",
           "#00CC96",
           "#AB63FA",
           "#FFA15A",
           "#19D3F3",
           "#FF6692"
          ]
         },
         "name": "Year 1986",
         "type": "bar",
         "visible": false,
         "x": [
          "deception&sadness",
          "help",
          "heroic",
          "law",
          "love&affection",
          "politics&power",
          "pride"
         ],
         "y": [
          0.051932825471786515,
          0.011863136863136862,
          0.19025199756573638,
          0.024714210753171793,
          0.042280680130987715,
          0.11201555147214752,
          0.07140795712224282
         ]
        },
        {
         "marker": {
          "color": [
           "#636EFA",
           "#EF553B",
           "#00CC96",
           "#AB63FA",
           "#FFA15A",
           "#19D3F3",
           "#FF6692"
          ]
         },
         "name": "Year 1987",
         "type": "bar",
         "visible": false,
         "x": [
          "deception&sadness",
          "help",
          "heroic",
          "law",
          "love&affection",
          "politics&power",
          "pride"
         ],
         "y": [
          0.06029296492259455,
          0.02494655550211106,
          0.1509141235993087,
          0.038881540270429164,
          0.08479292483922114,
          0.11655427905427906,
          0.06755896709600415
         ]
        },
        {
         "marker": {
          "color": [
           "#636EFA",
           "#EF553B",
           "#00CC96",
           "#AB63FA",
           "#FFA15A",
           "#19D3F3",
           "#FF6692"
          ]
         },
         "name": "Year 1988",
         "type": "bar",
         "visible": false,
         "x": [
          "deception&sadness",
          "help",
          "heroic",
          "law",
          "love&affection",
          "politics&power",
          "pride"
         ],
         "y": [
          0.0788736618678479,
          0.01605989294942783,
          0.14365274583297832,
          0.030437892211148034,
          0.056537325723372236,
          0.11404577334809896,
          0.08034560723514211
         ]
        },
        {
         "marker": {
          "color": [
           "#636EFA",
           "#EF553B",
           "#00CC96",
           "#AB63FA",
           "#FFA15A",
           "#19D3F3",
           "#FF6692"
          ]
         },
         "name": "Year 1989",
         "type": "bar",
         "visible": false,
         "x": [
          "deception&sadness",
          "help",
          "heroic",
          "law",
          "love&affection",
          "politics&power",
          "pride"
         ],
         "y": [
          0.05503117913832199,
          0.012929894179894182,
          0.16402943947586798,
          0.04639077853363568,
          0.038031099191813474,
          0.1178077544148973,
          0.06247129193557764
         ]
        },
        {
         "marker": {
          "color": [
           "#636EFA",
           "#EF553B",
           "#00CC96",
           "#AB63FA",
           "#FFA15A",
           "#19D3F3",
           "#FF6692"
          ]
         },
         "name": "Year 1990",
         "type": "bar",
         "visible": false,
         "x": [
          "deception&sadness",
          "help",
          "heroic",
          "law",
          "love&affection",
          "politics&power",
          "pride"
         ],
         "y": [
          0.058824908424908416,
          0.0060888888888888885,
          0.17874294594294593,
          0.04471091131091132,
          0.039198534798534794,
          0.14687479187479185,
          0.06493264513264516
         ]
        },
        {
         "marker": {
          "color": [
           "#636EFA",
           "#EF553B",
           "#00CC96",
           "#AB63FA",
           "#FFA15A",
           "#19D3F3",
           "#FF6692"
          ]
         },
         "name": "Year 1991",
         "type": "bar",
         "visible": false,
         "x": [
          "deception&sadness",
          "help",
          "heroic",
          "law",
          "love&affection",
          "politics&power",
          "pride"
         ],
         "y": [
          0.056368802665098965,
          0.017289295067072843,
          0.16892140781029666,
          0.017713288083658452,
          0.054458607236385015,
          0.08375376338339302,
          0.059959073847962736
         ]
        },
        {
         "marker": {
          "color": [
           "#636EFA",
           "#EF553B",
           "#00CC96",
           "#AB63FA",
           "#FFA15A",
           "#19D3F3",
           "#FF6692"
          ]
         },
         "name": "Year 1992",
         "type": "bar",
         "visible": false,
         "x": [
          "deception&sadness",
          "help",
          "heroic",
          "law",
          "love&affection",
          "politics&power",
          "pride"
         ],
         "y": [
          0.0560515873015873,
          0.017784992784992786,
          0.16608532398973572,
          0.032638195138195145,
          0.0584645152826971,
          0.12316632231404959,
          0.080509768009768
         ]
        },
        {
         "marker": {
          "color": [
           "#636EFA",
           "#EF553B",
           "#00CC96",
           "#AB63FA",
           "#FFA15A",
           "#19D3F3",
           "#FF6692"
          ]
         },
         "name": "Year 1993",
         "type": "bar",
         "visible": false,
         "x": [
          "deception&sadness",
          "help",
          "heroic",
          "law",
          "love&affection",
          "politics&power",
          "pride"
         ],
         "y": [
          0.07989807033924681,
          0.010294117647058823,
          0.15982478850125906,
          0.039089069971422905,
          0.029672778202189967,
          0.10320816524376895,
          0.031396599043657866
         ]
        },
        {
         "marker": {
          "color": [
           "#636EFA",
           "#EF553B",
           "#00CC96",
           "#AB63FA",
           "#FFA15A",
           "#19D3F3",
           "#FF6692"
          ]
         },
         "name": "Year 1994",
         "type": "bar",
         "visible": false,
         "x": [
          "deception&sadness",
          "help",
          "heroic",
          "law",
          "love&affection",
          "politics&power",
          "pride"
         ],
         "y": [
          0.0795089957324,
          0.019457109084768658,
          0.15873476405391296,
          0.02476013938779896,
          0.027027493782812932,
          0.07869116698903933,
          0.06509241349666882
         ]
        },
        {
         "marker": {
          "color": [
           "#636EFA",
           "#EF553B",
           "#00CC96",
           "#AB63FA",
           "#FFA15A",
           "#19D3F3",
           "#FF6692"
          ]
         },
         "name": "Year 1995",
         "type": "bar",
         "visible": false,
         "x": [
          "deception&sadness",
          "help",
          "heroic",
          "law",
          "love&affection",
          "politics&power",
          "pride"
         ],
         "y": [
          0.013521457965902409,
          0.01798941798941799,
          0.19721789950548121,
          0.06629923574368018,
          0.03487654320987654,
          0.15630079192170696,
          0.08349846111284022
         ]
        }
       ],
       "layout": {
        "barmode": "group",
        "legend": {
         "title": {
          "text": "Year"
         }
        },
        "sliders": [
         {
          "active": 0,
          "currentvalue": {
           "prefix": "Year: "
          },
          "pad": {
           "t": 50
          },
          "steps": [
           {
            "args": [
             {
              "visible": [
               true,
               false,
               false,
               false,
               false,
               false,
               false,
               false,
               false,
               false,
               false,
               false,
               false,
               false,
               false,
               false,
               false,
               false,
               false,
               false,
               false,
               false,
               false,
               false,
               false,
               false,
               false,
               false,
               false,
               false,
               false,
               false,
               false,
               false,
               false,
               false,
               false,
               false,
               false,
               false,
               false,
               false,
               false,
               false,
               false,
               false,
               false,
               false,
               false,
               false,
               false
              ]
             },
             {
              "title": "Empath Topic Proportions for Year: 1945"
             }
            ],
            "label": "1945",
            "method": "update"
           },
           {
            "args": [
             {
              "visible": [
               false,
               true,
               false,
               false,
               false,
               false,
               false,
               false,
               false,
               false,
               false,
               false,
               false,
               false,
               false,
               false,
               false,
               false,
               false,
               false,
               false,
               false,
               false,
               false,
               false,
               false,
               false,
               false,
               false,
               false,
               false,
               false,
               false,
               false,
               false,
               false,
               false,
               false,
               false,
               false,
               false,
               false,
               false,
               false,
               false,
               false,
               false,
               false,
               false,
               false,
               false
              ]
             },
             {
              "title": "Empath Topic Proportions for Year: 1946"
             }
            ],
            "label": "1946",
            "method": "update"
           },
           {
            "args": [
             {
              "visible": [
               false,
               false,
               true,
               false,
               false,
               false,
               false,
               false,
               false,
               false,
               false,
               false,
               false,
               false,
               false,
               false,
               false,
               false,
               false,
               false,
               false,
               false,
               false,
               false,
               false,
               false,
               false,
               false,
               false,
               false,
               false,
               false,
               false,
               false,
               false,
               false,
               false,
               false,
               false,
               false,
               false,
               false,
               false,
               false,
               false,
               false,
               false,
               false,
               false,
               false,
               false
              ]
             },
             {
              "title": "Empath Topic Proportions for Year: 1947"
             }
            ],
            "label": "1947",
            "method": "update"
           },
           {
            "args": [
             {
              "visible": [
               false,
               false,
               false,
               true,
               false,
               false,
               false,
               false,
               false,
               false,
               false,
               false,
               false,
               false,
               false,
               false,
               false,
               false,
               false,
               false,
               false,
               false,
               false,
               false,
               false,
               false,
               false,
               false,
               false,
               false,
               false,
               false,
               false,
               false,
               false,
               false,
               false,
               false,
               false,
               false,
               false,
               false,
               false,
               false,
               false,
               false,
               false,
               false,
               false,
               false,
               false
              ]
             },
             {
              "title": "Empath Topic Proportions for Year: 1948"
             }
            ],
            "label": "1948",
            "method": "update"
           },
           {
            "args": [
             {
              "visible": [
               false,
               false,
               false,
               false,
               true,
               false,
               false,
               false,
               false,
               false,
               false,
               false,
               false,
               false,
               false,
               false,
               false,
               false,
               false,
               false,
               false,
               false,
               false,
               false,
               false,
               false,
               false,
               false,
               false,
               false,
               false,
               false,
               false,
               false,
               false,
               false,
               false,
               false,
               false,
               false,
               false,
               false,
               false,
               false,
               false,
               false,
               false,
               false,
               false,
               false,
               false
              ]
             },
             {
              "title": "Empath Topic Proportions for Year: 1949"
             }
            ],
            "label": "1949",
            "method": "update"
           },
           {
            "args": [
             {
              "visible": [
               false,
               false,
               false,
               false,
               false,
               true,
               false,
               false,
               false,
               false,
               false,
               false,
               false,
               false,
               false,
               false,
               false,
               false,
               false,
               false,
               false,
               false,
               false,
               false,
               false,
               false,
               false,
               false,
               false,
               false,
               false,
               false,
               false,
               false,
               false,
               false,
               false,
               false,
               false,
               false,
               false,
               false,
               false,
               false,
               false,
               false,
               false,
               false,
               false,
               false,
               false
              ]
             },
             {
              "title": "Empath Topic Proportions for Year: 1950"
             }
            ],
            "label": "1950",
            "method": "update"
           },
           {
            "args": [
             {
              "visible": [
               false,
               false,
               false,
               false,
               false,
               false,
               true,
               false,
               false,
               false,
               false,
               false,
               false,
               false,
               false,
               false,
               false,
               false,
               false,
               false,
               false,
               false,
               false,
               false,
               false,
               false,
               false,
               false,
               false,
               false,
               false,
               false,
               false,
               false,
               false,
               false,
               false,
               false,
               false,
               false,
               false,
               false,
               false,
               false,
               false,
               false,
               false,
               false,
               false,
               false,
               false
              ]
             },
             {
              "title": "Empath Topic Proportions for Year: 1951"
             }
            ],
            "label": "1951",
            "method": "update"
           },
           {
            "args": [
             {
              "visible": [
               false,
               false,
               false,
               false,
               false,
               false,
               false,
               true,
               false,
               false,
               false,
               false,
               false,
               false,
               false,
               false,
               false,
               false,
               false,
               false,
               false,
               false,
               false,
               false,
               false,
               false,
               false,
               false,
               false,
               false,
               false,
               false,
               false,
               false,
               false,
               false,
               false,
               false,
               false,
               false,
               false,
               false,
               false,
               false,
               false,
               false,
               false,
               false,
               false,
               false,
               false
              ]
             },
             {
              "title": "Empath Topic Proportions for Year: 1952"
             }
            ],
            "label": "1952",
            "method": "update"
           },
           {
            "args": [
             {
              "visible": [
               false,
               false,
               false,
               false,
               false,
               false,
               false,
               false,
               true,
               false,
               false,
               false,
               false,
               false,
               false,
               false,
               false,
               false,
               false,
               false,
               false,
               false,
               false,
               false,
               false,
               false,
               false,
               false,
               false,
               false,
               false,
               false,
               false,
               false,
               false,
               false,
               false,
               false,
               false,
               false,
               false,
               false,
               false,
               false,
               false,
               false,
               false,
               false,
               false,
               false,
               false
              ]
             },
             {
              "title": "Empath Topic Proportions for Year: 1953"
             }
            ],
            "label": "1953",
            "method": "update"
           },
           {
            "args": [
             {
              "visible": [
               false,
               false,
               false,
               false,
               false,
               false,
               false,
               false,
               false,
               true,
               false,
               false,
               false,
               false,
               false,
               false,
               false,
               false,
               false,
               false,
               false,
               false,
               false,
               false,
               false,
               false,
               false,
               false,
               false,
               false,
               false,
               false,
               false,
               false,
               false,
               false,
               false,
               false,
               false,
               false,
               false,
               false,
               false,
               false,
               false,
               false,
               false,
               false,
               false,
               false,
               false
              ]
             },
             {
              "title": "Empath Topic Proportions for Year: 1954"
             }
            ],
            "label": "1954",
            "method": "update"
           },
           {
            "args": [
             {
              "visible": [
               false,
               false,
               false,
               false,
               false,
               false,
               false,
               false,
               false,
               false,
               true,
               false,
               false,
               false,
               false,
               false,
               false,
               false,
               false,
               false,
               false,
               false,
               false,
               false,
               false,
               false,
               false,
               false,
               false,
               false,
               false,
               false,
               false,
               false,
               false,
               false,
               false,
               false,
               false,
               false,
               false,
               false,
               false,
               false,
               false,
               false,
               false,
               false,
               false,
               false,
               false
              ]
             },
             {
              "title": "Empath Topic Proportions for Year: 1955"
             }
            ],
            "label": "1955",
            "method": "update"
           },
           {
            "args": [
             {
              "visible": [
               false,
               false,
               false,
               false,
               false,
               false,
               false,
               false,
               false,
               false,
               false,
               true,
               false,
               false,
               false,
               false,
               false,
               false,
               false,
               false,
               false,
               false,
               false,
               false,
               false,
               false,
               false,
               false,
               false,
               false,
               false,
               false,
               false,
               false,
               false,
               false,
               false,
               false,
               false,
               false,
               false,
               false,
               false,
               false,
               false,
               false,
               false,
               false,
               false,
               false,
               false
              ]
             },
             {
              "title": "Empath Topic Proportions for Year: 1956"
             }
            ],
            "label": "1956",
            "method": "update"
           },
           {
            "args": [
             {
              "visible": [
               false,
               false,
               false,
               false,
               false,
               false,
               false,
               false,
               false,
               false,
               false,
               false,
               true,
               false,
               false,
               false,
               false,
               false,
               false,
               false,
               false,
               false,
               false,
               false,
               false,
               false,
               false,
               false,
               false,
               false,
               false,
               false,
               false,
               false,
               false,
               false,
               false,
               false,
               false,
               false,
               false,
               false,
               false,
               false,
               false,
               false,
               false,
               false,
               false,
               false,
               false
              ]
             },
             {
              "title": "Empath Topic Proportions for Year: 1957"
             }
            ],
            "label": "1957",
            "method": "update"
           },
           {
            "args": [
             {
              "visible": [
               false,
               false,
               false,
               false,
               false,
               false,
               false,
               false,
               false,
               false,
               false,
               false,
               false,
               true,
               false,
               false,
               false,
               false,
               false,
               false,
               false,
               false,
               false,
               false,
               false,
               false,
               false,
               false,
               false,
               false,
               false,
               false,
               false,
               false,
               false,
               false,
               false,
               false,
               false,
               false,
               false,
               false,
               false,
               false,
               false,
               false,
               false,
               false,
               false,
               false,
               false
              ]
             },
             {
              "title": "Empath Topic Proportions for Year: 1958"
             }
            ],
            "label": "1958",
            "method": "update"
           },
           {
            "args": [
             {
              "visible": [
               false,
               false,
               false,
               false,
               false,
               false,
               false,
               false,
               false,
               false,
               false,
               false,
               false,
               false,
               true,
               false,
               false,
               false,
               false,
               false,
               false,
               false,
               false,
               false,
               false,
               false,
               false,
               false,
               false,
               false,
               false,
               false,
               false,
               false,
               false,
               false,
               false,
               false,
               false,
               false,
               false,
               false,
               false,
               false,
               false,
               false,
               false,
               false,
               false,
               false,
               false
              ]
             },
             {
              "title": "Empath Topic Proportions for Year: 1959"
             }
            ],
            "label": "1959",
            "method": "update"
           },
           {
            "args": [
             {
              "visible": [
               false,
               false,
               false,
               false,
               false,
               false,
               false,
               false,
               false,
               false,
               false,
               false,
               false,
               false,
               false,
               true,
               false,
               false,
               false,
               false,
               false,
               false,
               false,
               false,
               false,
               false,
               false,
               false,
               false,
               false,
               false,
               false,
               false,
               false,
               false,
               false,
               false,
               false,
               false,
               false,
               false,
               false,
               false,
               false,
               false,
               false,
               false,
               false,
               false,
               false,
               false
              ]
             },
             {
              "title": "Empath Topic Proportions for Year: 1960"
             }
            ],
            "label": "1960",
            "method": "update"
           },
           {
            "args": [
             {
              "visible": [
               false,
               false,
               false,
               false,
               false,
               false,
               false,
               false,
               false,
               false,
               false,
               false,
               false,
               false,
               false,
               false,
               true,
               false,
               false,
               false,
               false,
               false,
               false,
               false,
               false,
               false,
               false,
               false,
               false,
               false,
               false,
               false,
               false,
               false,
               false,
               false,
               false,
               false,
               false,
               false,
               false,
               false,
               false,
               false,
               false,
               false,
               false,
               false,
               false,
               false,
               false
              ]
             },
             {
              "title": "Empath Topic Proportions for Year: 1961"
             }
            ],
            "label": "1961",
            "method": "update"
           },
           {
            "args": [
             {
              "visible": [
               false,
               false,
               false,
               false,
               false,
               false,
               false,
               false,
               false,
               false,
               false,
               false,
               false,
               false,
               false,
               false,
               false,
               true,
               false,
               false,
               false,
               false,
               false,
               false,
               false,
               false,
               false,
               false,
               false,
               false,
               false,
               false,
               false,
               false,
               false,
               false,
               false,
               false,
               false,
               false,
               false,
               false,
               false,
               false,
               false,
               false,
               false,
               false,
               false,
               false,
               false
              ]
             },
             {
              "title": "Empath Topic Proportions for Year: 1962"
             }
            ],
            "label": "1962",
            "method": "update"
           },
           {
            "args": [
             {
              "visible": [
               false,
               false,
               false,
               false,
               false,
               false,
               false,
               false,
               false,
               false,
               false,
               false,
               false,
               false,
               false,
               false,
               false,
               false,
               true,
               false,
               false,
               false,
               false,
               false,
               false,
               false,
               false,
               false,
               false,
               false,
               false,
               false,
               false,
               false,
               false,
               false,
               false,
               false,
               false,
               false,
               false,
               false,
               false,
               false,
               false,
               false,
               false,
               false,
               false,
               false,
               false
              ]
             },
             {
              "title": "Empath Topic Proportions for Year: 1963"
             }
            ],
            "label": "1963",
            "method": "update"
           },
           {
            "args": [
             {
              "visible": [
               false,
               false,
               false,
               false,
               false,
               false,
               false,
               false,
               false,
               false,
               false,
               false,
               false,
               false,
               false,
               false,
               false,
               false,
               false,
               true,
               false,
               false,
               false,
               false,
               false,
               false,
               false,
               false,
               false,
               false,
               false,
               false,
               false,
               false,
               false,
               false,
               false,
               false,
               false,
               false,
               false,
               false,
               false,
               false,
               false,
               false,
               false,
               false,
               false,
               false,
               false
              ]
             },
             {
              "title": "Empath Topic Proportions for Year: 1964"
             }
            ],
            "label": "1964",
            "method": "update"
           },
           {
            "args": [
             {
              "visible": [
               false,
               false,
               false,
               false,
               false,
               false,
               false,
               false,
               false,
               false,
               false,
               false,
               false,
               false,
               false,
               false,
               false,
               false,
               false,
               false,
               true,
               false,
               false,
               false,
               false,
               false,
               false,
               false,
               false,
               false,
               false,
               false,
               false,
               false,
               false,
               false,
               false,
               false,
               false,
               false,
               false,
               false,
               false,
               false,
               false,
               false,
               false,
               false,
               false,
               false,
               false
              ]
             },
             {
              "title": "Empath Topic Proportions for Year: 1965"
             }
            ],
            "label": "1965",
            "method": "update"
           },
           {
            "args": [
             {
              "visible": [
               false,
               false,
               false,
               false,
               false,
               false,
               false,
               false,
               false,
               false,
               false,
               false,
               false,
               false,
               false,
               false,
               false,
               false,
               false,
               false,
               false,
               true,
               false,
               false,
               false,
               false,
               false,
               false,
               false,
               false,
               false,
               false,
               false,
               false,
               false,
               false,
               false,
               false,
               false,
               false,
               false,
               false,
               false,
               false,
               false,
               false,
               false,
               false,
               false,
               false,
               false
              ]
             },
             {
              "title": "Empath Topic Proportions for Year: 1966"
             }
            ],
            "label": "1966",
            "method": "update"
           },
           {
            "args": [
             {
              "visible": [
               false,
               false,
               false,
               false,
               false,
               false,
               false,
               false,
               false,
               false,
               false,
               false,
               false,
               false,
               false,
               false,
               false,
               false,
               false,
               false,
               false,
               false,
               true,
               false,
               false,
               false,
               false,
               false,
               false,
               false,
               false,
               false,
               false,
               false,
               false,
               false,
               false,
               false,
               false,
               false,
               false,
               false,
               false,
               false,
               false,
               false,
               false,
               false,
               false,
               false,
               false
              ]
             },
             {
              "title": "Empath Topic Proportions for Year: 1967"
             }
            ],
            "label": "1967",
            "method": "update"
           },
           {
            "args": [
             {
              "visible": [
               false,
               false,
               false,
               false,
               false,
               false,
               false,
               false,
               false,
               false,
               false,
               false,
               false,
               false,
               false,
               false,
               false,
               false,
               false,
               false,
               false,
               false,
               false,
               true,
               false,
               false,
               false,
               false,
               false,
               false,
               false,
               false,
               false,
               false,
               false,
               false,
               false,
               false,
               false,
               false,
               false,
               false,
               false,
               false,
               false,
               false,
               false,
               false,
               false,
               false,
               false
              ]
             },
             {
              "title": "Empath Topic Proportions for Year: 1968"
             }
            ],
            "label": "1968",
            "method": "update"
           },
           {
            "args": [
             {
              "visible": [
               false,
               false,
               false,
               false,
               false,
               false,
               false,
               false,
               false,
               false,
               false,
               false,
               false,
               false,
               false,
               false,
               false,
               false,
               false,
               false,
               false,
               false,
               false,
               false,
               true,
               false,
               false,
               false,
               false,
               false,
               false,
               false,
               false,
               false,
               false,
               false,
               false,
               false,
               false,
               false,
               false,
               false,
               false,
               false,
               false,
               false,
               false,
               false,
               false,
               false,
               false
              ]
             },
             {
              "title": "Empath Topic Proportions for Year: 1969"
             }
            ],
            "label": "1969",
            "method": "update"
           },
           {
            "args": [
             {
              "visible": [
               false,
               false,
               false,
               false,
               false,
               false,
               false,
               false,
               false,
               false,
               false,
               false,
               false,
               false,
               false,
               false,
               false,
               false,
               false,
               false,
               false,
               false,
               false,
               false,
               false,
               true,
               false,
               false,
               false,
               false,
               false,
               false,
               false,
               false,
               false,
               false,
               false,
               false,
               false,
               false,
               false,
               false,
               false,
               false,
               false,
               false,
               false,
               false,
               false,
               false,
               false
              ]
             },
             {
              "title": "Empath Topic Proportions for Year: 1970"
             }
            ],
            "label": "1970",
            "method": "update"
           },
           {
            "args": [
             {
              "visible": [
               false,
               false,
               false,
               false,
               false,
               false,
               false,
               false,
               false,
               false,
               false,
               false,
               false,
               false,
               false,
               false,
               false,
               false,
               false,
               false,
               false,
               false,
               false,
               false,
               false,
               false,
               true,
               false,
               false,
               false,
               false,
               false,
               false,
               false,
               false,
               false,
               false,
               false,
               false,
               false,
               false,
               false,
               false,
               false,
               false,
               false,
               false,
               false,
               false,
               false,
               false
              ]
             },
             {
              "title": "Empath Topic Proportions for Year: 1971"
             }
            ],
            "label": "1971",
            "method": "update"
           },
           {
            "args": [
             {
              "visible": [
               false,
               false,
               false,
               false,
               false,
               false,
               false,
               false,
               false,
               false,
               false,
               false,
               false,
               false,
               false,
               false,
               false,
               false,
               false,
               false,
               false,
               false,
               false,
               false,
               false,
               false,
               false,
               true,
               false,
               false,
               false,
               false,
               false,
               false,
               false,
               false,
               false,
               false,
               false,
               false,
               false,
               false,
               false,
               false,
               false,
               false,
               false,
               false,
               false,
               false,
               false
              ]
             },
             {
              "title": "Empath Topic Proportions for Year: 1972"
             }
            ],
            "label": "1972",
            "method": "update"
           },
           {
            "args": [
             {
              "visible": [
               false,
               false,
               false,
               false,
               false,
               false,
               false,
               false,
               false,
               false,
               false,
               false,
               false,
               false,
               false,
               false,
               false,
               false,
               false,
               false,
               false,
               false,
               false,
               false,
               false,
               false,
               false,
               false,
               true,
               false,
               false,
               false,
               false,
               false,
               false,
               false,
               false,
               false,
               false,
               false,
               false,
               false,
               false,
               false,
               false,
               false,
               false,
               false,
               false,
               false,
               false
              ]
             },
             {
              "title": "Empath Topic Proportions for Year: 1973"
             }
            ],
            "label": "1973",
            "method": "update"
           },
           {
            "args": [
             {
              "visible": [
               false,
               false,
               false,
               false,
               false,
               false,
               false,
               false,
               false,
               false,
               false,
               false,
               false,
               false,
               false,
               false,
               false,
               false,
               false,
               false,
               false,
               false,
               false,
               false,
               false,
               false,
               false,
               false,
               false,
               true,
               false,
               false,
               false,
               false,
               false,
               false,
               false,
               false,
               false,
               false,
               false,
               false,
               false,
               false,
               false,
               false,
               false,
               false,
               false,
               false,
               false
              ]
             },
             {
              "title": "Empath Topic Proportions for Year: 1974"
             }
            ],
            "label": "1974",
            "method": "update"
           },
           {
            "args": [
             {
              "visible": [
               false,
               false,
               false,
               false,
               false,
               false,
               false,
               false,
               false,
               false,
               false,
               false,
               false,
               false,
               false,
               false,
               false,
               false,
               false,
               false,
               false,
               false,
               false,
               false,
               false,
               false,
               false,
               false,
               false,
               false,
               true,
               false,
               false,
               false,
               false,
               false,
               false,
               false,
               false,
               false,
               false,
               false,
               false,
               false,
               false,
               false,
               false,
               false,
               false,
               false,
               false
              ]
             },
             {
              "title": "Empath Topic Proportions for Year: 1975"
             }
            ],
            "label": "1975",
            "method": "update"
           },
           {
            "args": [
             {
              "visible": [
               false,
               false,
               false,
               false,
               false,
               false,
               false,
               false,
               false,
               false,
               false,
               false,
               false,
               false,
               false,
               false,
               false,
               false,
               false,
               false,
               false,
               false,
               false,
               false,
               false,
               false,
               false,
               false,
               false,
               false,
               false,
               true,
               false,
               false,
               false,
               false,
               false,
               false,
               false,
               false,
               false,
               false,
               false,
               false,
               false,
               false,
               false,
               false,
               false,
               false,
               false
              ]
             },
             {
              "title": "Empath Topic Proportions for Year: 1976"
             }
            ],
            "label": "1976",
            "method": "update"
           },
           {
            "args": [
             {
              "visible": [
               false,
               false,
               false,
               false,
               false,
               false,
               false,
               false,
               false,
               false,
               false,
               false,
               false,
               false,
               false,
               false,
               false,
               false,
               false,
               false,
               false,
               false,
               false,
               false,
               false,
               false,
               false,
               false,
               false,
               false,
               false,
               false,
               true,
               false,
               false,
               false,
               false,
               false,
               false,
               false,
               false,
               false,
               false,
               false,
               false,
               false,
               false,
               false,
               false,
               false,
               false
              ]
             },
             {
              "title": "Empath Topic Proportions for Year: 1977"
             }
            ],
            "label": "1977",
            "method": "update"
           },
           {
            "args": [
             {
              "visible": [
               false,
               false,
               false,
               false,
               false,
               false,
               false,
               false,
               false,
               false,
               false,
               false,
               false,
               false,
               false,
               false,
               false,
               false,
               false,
               false,
               false,
               false,
               false,
               false,
               false,
               false,
               false,
               false,
               false,
               false,
               false,
               false,
               false,
               true,
               false,
               false,
               false,
               false,
               false,
               false,
               false,
               false,
               false,
               false,
               false,
               false,
               false,
               false,
               false,
               false,
               false
              ]
             },
             {
              "title": "Empath Topic Proportions for Year: 1978"
             }
            ],
            "label": "1978",
            "method": "update"
           },
           {
            "args": [
             {
              "visible": [
               false,
               false,
               false,
               false,
               false,
               false,
               false,
               false,
               false,
               false,
               false,
               false,
               false,
               false,
               false,
               false,
               false,
               false,
               false,
               false,
               false,
               false,
               false,
               false,
               false,
               false,
               false,
               false,
               false,
               false,
               false,
               false,
               false,
               false,
               true,
               false,
               false,
               false,
               false,
               false,
               false,
               false,
               false,
               false,
               false,
               false,
               false,
               false,
               false,
               false,
               false
              ]
             },
             {
              "title": "Empath Topic Proportions for Year: 1979"
             }
            ],
            "label": "1979",
            "method": "update"
           },
           {
            "args": [
             {
              "visible": [
               false,
               false,
               false,
               false,
               false,
               false,
               false,
               false,
               false,
               false,
               false,
               false,
               false,
               false,
               false,
               false,
               false,
               false,
               false,
               false,
               false,
               false,
               false,
               false,
               false,
               false,
               false,
               false,
               false,
               false,
               false,
               false,
               false,
               false,
               false,
               true,
               false,
               false,
               false,
               false,
               false,
               false,
               false,
               false,
               false,
               false,
               false,
               false,
               false,
               false,
               false
              ]
             },
             {
              "title": "Empath Topic Proportions for Year: 1980"
             }
            ],
            "label": "1980",
            "method": "update"
           },
           {
            "args": [
             {
              "visible": [
               false,
               false,
               false,
               false,
               false,
               false,
               false,
               false,
               false,
               false,
               false,
               false,
               false,
               false,
               false,
               false,
               false,
               false,
               false,
               false,
               false,
               false,
               false,
               false,
               false,
               false,
               false,
               false,
               false,
               false,
               false,
               false,
               false,
               false,
               false,
               false,
               true,
               false,
               false,
               false,
               false,
               false,
               false,
               false,
               false,
               false,
               false,
               false,
               false,
               false,
               false
              ]
             },
             {
              "title": "Empath Topic Proportions for Year: 1981"
             }
            ],
            "label": "1981",
            "method": "update"
           },
           {
            "args": [
             {
              "visible": [
               false,
               false,
               false,
               false,
               false,
               false,
               false,
               false,
               false,
               false,
               false,
               false,
               false,
               false,
               false,
               false,
               false,
               false,
               false,
               false,
               false,
               false,
               false,
               false,
               false,
               false,
               false,
               false,
               false,
               false,
               false,
               false,
               false,
               false,
               false,
               false,
               false,
               true,
               false,
               false,
               false,
               false,
               false,
               false,
               false,
               false,
               false,
               false,
               false,
               false,
               false
              ]
             },
             {
              "title": "Empath Topic Proportions for Year: 1982"
             }
            ],
            "label": "1982",
            "method": "update"
           },
           {
            "args": [
             {
              "visible": [
               false,
               false,
               false,
               false,
               false,
               false,
               false,
               false,
               false,
               false,
               false,
               false,
               false,
               false,
               false,
               false,
               false,
               false,
               false,
               false,
               false,
               false,
               false,
               false,
               false,
               false,
               false,
               false,
               false,
               false,
               false,
               false,
               false,
               false,
               false,
               false,
               false,
               false,
               true,
               false,
               false,
               false,
               false,
               false,
               false,
               false,
               false,
               false,
               false,
               false,
               false
              ]
             },
             {
              "title": "Empath Topic Proportions for Year: 1983"
             }
            ],
            "label": "1983",
            "method": "update"
           },
           {
            "args": [
             {
              "visible": [
               false,
               false,
               false,
               false,
               false,
               false,
               false,
               false,
               false,
               false,
               false,
               false,
               false,
               false,
               false,
               false,
               false,
               false,
               false,
               false,
               false,
               false,
               false,
               false,
               false,
               false,
               false,
               false,
               false,
               false,
               false,
               false,
               false,
               false,
               false,
               false,
               false,
               false,
               false,
               true,
               false,
               false,
               false,
               false,
               false,
               false,
               false,
               false,
               false,
               false,
               false
              ]
             },
             {
              "title": "Empath Topic Proportions for Year: 1984"
             }
            ],
            "label": "1984",
            "method": "update"
           },
           {
            "args": [
             {
              "visible": [
               false,
               false,
               false,
               false,
               false,
               false,
               false,
               false,
               false,
               false,
               false,
               false,
               false,
               false,
               false,
               false,
               false,
               false,
               false,
               false,
               false,
               false,
               false,
               false,
               false,
               false,
               false,
               false,
               false,
               false,
               false,
               false,
               false,
               false,
               false,
               false,
               false,
               false,
               false,
               false,
               true,
               false,
               false,
               false,
               false,
               false,
               false,
               false,
               false,
               false,
               false
              ]
             },
             {
              "title": "Empath Topic Proportions for Year: 1985"
             }
            ],
            "label": "1985",
            "method": "update"
           },
           {
            "args": [
             {
              "visible": [
               false,
               false,
               false,
               false,
               false,
               false,
               false,
               false,
               false,
               false,
               false,
               false,
               false,
               false,
               false,
               false,
               false,
               false,
               false,
               false,
               false,
               false,
               false,
               false,
               false,
               false,
               false,
               false,
               false,
               false,
               false,
               false,
               false,
               false,
               false,
               false,
               false,
               false,
               false,
               false,
               false,
               true,
               false,
               false,
               false,
               false,
               false,
               false,
               false,
               false,
               false
              ]
             },
             {
              "title": "Empath Topic Proportions for Year: 1986"
             }
            ],
            "label": "1986",
            "method": "update"
           },
           {
            "args": [
             {
              "visible": [
               false,
               false,
               false,
               false,
               false,
               false,
               false,
               false,
               false,
               false,
               false,
               false,
               false,
               false,
               false,
               false,
               false,
               false,
               false,
               false,
               false,
               false,
               false,
               false,
               false,
               false,
               false,
               false,
               false,
               false,
               false,
               false,
               false,
               false,
               false,
               false,
               false,
               false,
               false,
               false,
               false,
               false,
               true,
               false,
               false,
               false,
               false,
               false,
               false,
               false,
               false
              ]
             },
             {
              "title": "Empath Topic Proportions for Year: 1987"
             }
            ],
            "label": "1987",
            "method": "update"
           },
           {
            "args": [
             {
              "visible": [
               false,
               false,
               false,
               false,
               false,
               false,
               false,
               false,
               false,
               false,
               false,
               false,
               false,
               false,
               false,
               false,
               false,
               false,
               false,
               false,
               false,
               false,
               false,
               false,
               false,
               false,
               false,
               false,
               false,
               false,
               false,
               false,
               false,
               false,
               false,
               false,
               false,
               false,
               false,
               false,
               false,
               false,
               false,
               true,
               false,
               false,
               false,
               false,
               false,
               false,
               false
              ]
             },
             {
              "title": "Empath Topic Proportions for Year: 1988"
             }
            ],
            "label": "1988",
            "method": "update"
           },
           {
            "args": [
             {
              "visible": [
               false,
               false,
               false,
               false,
               false,
               false,
               false,
               false,
               false,
               false,
               false,
               false,
               false,
               false,
               false,
               false,
               false,
               false,
               false,
               false,
               false,
               false,
               false,
               false,
               false,
               false,
               false,
               false,
               false,
               false,
               false,
               false,
               false,
               false,
               false,
               false,
               false,
               false,
               false,
               false,
               false,
               false,
               false,
               false,
               true,
               false,
               false,
               false,
               false,
               false,
               false
              ]
             },
             {
              "title": "Empath Topic Proportions for Year: 1989"
             }
            ],
            "label": "1989",
            "method": "update"
           },
           {
            "args": [
             {
              "visible": [
               false,
               false,
               false,
               false,
               false,
               false,
               false,
               false,
               false,
               false,
               false,
               false,
               false,
               false,
               false,
               false,
               false,
               false,
               false,
               false,
               false,
               false,
               false,
               false,
               false,
               false,
               false,
               false,
               false,
               false,
               false,
               false,
               false,
               false,
               false,
               false,
               false,
               false,
               false,
               false,
               false,
               false,
               false,
               false,
               false,
               true,
               false,
               false,
               false,
               false,
               false
              ]
             },
             {
              "title": "Empath Topic Proportions for Year: 1990"
             }
            ],
            "label": "1990",
            "method": "update"
           },
           {
            "args": [
             {
              "visible": [
               false,
               false,
               false,
               false,
               false,
               false,
               false,
               false,
               false,
               false,
               false,
               false,
               false,
               false,
               false,
               false,
               false,
               false,
               false,
               false,
               false,
               false,
               false,
               false,
               false,
               false,
               false,
               false,
               false,
               false,
               false,
               false,
               false,
               false,
               false,
               false,
               false,
               false,
               false,
               false,
               false,
               false,
               false,
               false,
               false,
               false,
               true,
               false,
               false,
               false,
               false
              ]
             },
             {
              "title": "Empath Topic Proportions for Year: 1991"
             }
            ],
            "label": "1991",
            "method": "update"
           },
           {
            "args": [
             {
              "visible": [
               false,
               false,
               false,
               false,
               false,
               false,
               false,
               false,
               false,
               false,
               false,
               false,
               false,
               false,
               false,
               false,
               false,
               false,
               false,
               false,
               false,
               false,
               false,
               false,
               false,
               false,
               false,
               false,
               false,
               false,
               false,
               false,
               false,
               false,
               false,
               false,
               false,
               false,
               false,
               false,
               false,
               false,
               false,
               false,
               false,
               false,
               false,
               true,
               false,
               false,
               false
              ]
             },
             {
              "title": "Empath Topic Proportions for Year: 1992"
             }
            ],
            "label": "1992",
            "method": "update"
           },
           {
            "args": [
             {
              "visible": [
               false,
               false,
               false,
               false,
               false,
               false,
               false,
               false,
               false,
               false,
               false,
               false,
               false,
               false,
               false,
               false,
               false,
               false,
               false,
               false,
               false,
               false,
               false,
               false,
               false,
               false,
               false,
               false,
               false,
               false,
               false,
               false,
               false,
               false,
               false,
               false,
               false,
               false,
               false,
               false,
               false,
               false,
               false,
               false,
               false,
               false,
               false,
               false,
               true,
               false,
               false
              ]
             },
             {
              "title": "Empath Topic Proportions for Year: 1993"
             }
            ],
            "label": "1993",
            "method": "update"
           },
           {
            "args": [
             {
              "visible": [
               false,
               false,
               false,
               false,
               false,
               false,
               false,
               false,
               false,
               false,
               false,
               false,
               false,
               false,
               false,
               false,
               false,
               false,
               false,
               false,
               false,
               false,
               false,
               false,
               false,
               false,
               false,
               false,
               false,
               false,
               false,
               false,
               false,
               false,
               false,
               false,
               false,
               false,
               false,
               false,
               false,
               false,
               false,
               false,
               false,
               false,
               false,
               false,
               false,
               true,
               false
              ]
             },
             {
              "title": "Empath Topic Proportions for Year: 1994"
             }
            ],
            "label": "1994",
            "method": "update"
           },
           {
            "args": [
             {
              "visible": [
               false,
               false,
               false,
               false,
               false,
               false,
               false,
               false,
               false,
               false,
               false,
               false,
               false,
               false,
               false,
               false,
               false,
               false,
               false,
               false,
               false,
               false,
               false,
               false,
               false,
               false,
               false,
               false,
               false,
               false,
               false,
               false,
               false,
               false,
               false,
               false,
               false,
               false,
               false,
               false,
               false,
               false,
               false,
               false,
               false,
               false,
               false,
               false,
               false,
               false,
               true
              ]
             },
             {
              "title": "Empath Topic Proportions for Year: 1995"
             }
            ],
            "label": "1995",
            "method": "update"
           }
          ]
         }
        ],
        "template": {
         "data": {
          "bar": [
           {
            "error_x": {
             "color": "#2a3f5f"
            },
            "error_y": {
             "color": "#2a3f5f"
            },
            "marker": {
             "line": {
              "color": "#E5ECF6",
              "width": 0.5
             },
             "pattern": {
              "fillmode": "overlay",
              "size": 10,
              "solidity": 0.2
             }
            },
            "type": "bar"
           }
          ],
          "barpolar": [
           {
            "marker": {
             "line": {
              "color": "#E5ECF6",
              "width": 0.5
             },
             "pattern": {
              "fillmode": "overlay",
              "size": 10,
              "solidity": 0.2
             }
            },
            "type": "barpolar"
           }
          ],
          "carpet": [
           {
            "aaxis": {
             "endlinecolor": "#2a3f5f",
             "gridcolor": "white",
             "linecolor": "white",
             "minorgridcolor": "white",
             "startlinecolor": "#2a3f5f"
            },
            "baxis": {
             "endlinecolor": "#2a3f5f",
             "gridcolor": "white",
             "linecolor": "white",
             "minorgridcolor": "white",
             "startlinecolor": "#2a3f5f"
            },
            "type": "carpet"
           }
          ],
          "choropleth": [
           {
            "colorbar": {
             "outlinewidth": 0,
             "ticks": ""
            },
            "type": "choropleth"
           }
          ],
          "contour": [
           {
            "colorbar": {
             "outlinewidth": 0,
             "ticks": ""
            },
            "colorscale": [
             [
              0,
              "#0d0887"
             ],
             [
              0.1111111111111111,
              "#46039f"
             ],
             [
              0.2222222222222222,
              "#7201a8"
             ],
             [
              0.3333333333333333,
              "#9c179e"
             ],
             [
              0.4444444444444444,
              "#bd3786"
             ],
             [
              0.5555555555555556,
              "#d8576b"
             ],
             [
              0.6666666666666666,
              "#ed7953"
             ],
             [
              0.7777777777777778,
              "#fb9f3a"
             ],
             [
              0.8888888888888888,
              "#fdca26"
             ],
             [
              1,
              "#f0f921"
             ]
            ],
            "type": "contour"
           }
          ],
          "contourcarpet": [
           {
            "colorbar": {
             "outlinewidth": 0,
             "ticks": ""
            },
            "type": "contourcarpet"
           }
          ],
          "heatmap": [
           {
            "colorbar": {
             "outlinewidth": 0,
             "ticks": ""
            },
            "colorscale": [
             [
              0,
              "#0d0887"
             ],
             [
              0.1111111111111111,
              "#46039f"
             ],
             [
              0.2222222222222222,
              "#7201a8"
             ],
             [
              0.3333333333333333,
              "#9c179e"
             ],
             [
              0.4444444444444444,
              "#bd3786"
             ],
             [
              0.5555555555555556,
              "#d8576b"
             ],
             [
              0.6666666666666666,
              "#ed7953"
             ],
             [
              0.7777777777777778,
              "#fb9f3a"
             ],
             [
              0.8888888888888888,
              "#fdca26"
             ],
             [
              1,
              "#f0f921"
             ]
            ],
            "type": "heatmap"
           }
          ],
          "heatmapgl": [
           {
            "colorbar": {
             "outlinewidth": 0,
             "ticks": ""
            },
            "colorscale": [
             [
              0,
              "#0d0887"
             ],
             [
              0.1111111111111111,
              "#46039f"
             ],
             [
              0.2222222222222222,
              "#7201a8"
             ],
             [
              0.3333333333333333,
              "#9c179e"
             ],
             [
              0.4444444444444444,
              "#bd3786"
             ],
             [
              0.5555555555555556,
              "#d8576b"
             ],
             [
              0.6666666666666666,
              "#ed7953"
             ],
             [
              0.7777777777777778,
              "#fb9f3a"
             ],
             [
              0.8888888888888888,
              "#fdca26"
             ],
             [
              1,
              "#f0f921"
             ]
            ],
            "type": "heatmapgl"
           }
          ],
          "histogram": [
           {
            "marker": {
             "pattern": {
              "fillmode": "overlay",
              "size": 10,
              "solidity": 0.2
             }
            },
            "type": "histogram"
           }
          ],
          "histogram2d": [
           {
            "colorbar": {
             "outlinewidth": 0,
             "ticks": ""
            },
            "colorscale": [
             [
              0,
              "#0d0887"
             ],
             [
              0.1111111111111111,
              "#46039f"
             ],
             [
              0.2222222222222222,
              "#7201a8"
             ],
             [
              0.3333333333333333,
              "#9c179e"
             ],
             [
              0.4444444444444444,
              "#bd3786"
             ],
             [
              0.5555555555555556,
              "#d8576b"
             ],
             [
              0.6666666666666666,
              "#ed7953"
             ],
             [
              0.7777777777777778,
              "#fb9f3a"
             ],
             [
              0.8888888888888888,
              "#fdca26"
             ],
             [
              1,
              "#f0f921"
             ]
            ],
            "type": "histogram2d"
           }
          ],
          "histogram2dcontour": [
           {
            "colorbar": {
             "outlinewidth": 0,
             "ticks": ""
            },
            "colorscale": [
             [
              0,
              "#0d0887"
             ],
             [
              0.1111111111111111,
              "#46039f"
             ],
             [
              0.2222222222222222,
              "#7201a8"
             ],
             [
              0.3333333333333333,
              "#9c179e"
             ],
             [
              0.4444444444444444,
              "#bd3786"
             ],
             [
              0.5555555555555556,
              "#d8576b"
             ],
             [
              0.6666666666666666,
              "#ed7953"
             ],
             [
              0.7777777777777778,
              "#fb9f3a"
             ],
             [
              0.8888888888888888,
              "#fdca26"
             ],
             [
              1,
              "#f0f921"
             ]
            ],
            "type": "histogram2dcontour"
           }
          ],
          "mesh3d": [
           {
            "colorbar": {
             "outlinewidth": 0,
             "ticks": ""
            },
            "type": "mesh3d"
           }
          ],
          "parcoords": [
           {
            "line": {
             "colorbar": {
              "outlinewidth": 0,
              "ticks": ""
             }
            },
            "type": "parcoords"
           }
          ],
          "pie": [
           {
            "automargin": true,
            "type": "pie"
           }
          ],
          "scatter": [
           {
            "fillpattern": {
             "fillmode": "overlay",
             "size": 10,
             "solidity": 0.2
            },
            "type": "scatter"
           }
          ],
          "scatter3d": [
           {
            "line": {
             "colorbar": {
              "outlinewidth": 0,
              "ticks": ""
             }
            },
            "marker": {
             "colorbar": {
              "outlinewidth": 0,
              "ticks": ""
             }
            },
            "type": "scatter3d"
           }
          ],
          "scattercarpet": [
           {
            "marker": {
             "colorbar": {
              "outlinewidth": 0,
              "ticks": ""
             }
            },
            "type": "scattercarpet"
           }
          ],
          "scattergeo": [
           {
            "marker": {
             "colorbar": {
              "outlinewidth": 0,
              "ticks": ""
             }
            },
            "type": "scattergeo"
           }
          ],
          "scattergl": [
           {
            "marker": {
             "colorbar": {
              "outlinewidth": 0,
              "ticks": ""
             }
            },
            "type": "scattergl"
           }
          ],
          "scattermapbox": [
           {
            "marker": {
             "colorbar": {
              "outlinewidth": 0,
              "ticks": ""
             }
            },
            "type": "scattermapbox"
           }
          ],
          "scatterpolar": [
           {
            "marker": {
             "colorbar": {
              "outlinewidth": 0,
              "ticks": ""
             }
            },
            "type": "scatterpolar"
           }
          ],
          "scatterpolargl": [
           {
            "marker": {
             "colorbar": {
              "outlinewidth": 0,
              "ticks": ""
             }
            },
            "type": "scatterpolargl"
           }
          ],
          "scatterternary": [
           {
            "marker": {
             "colorbar": {
              "outlinewidth": 0,
              "ticks": ""
             }
            },
            "type": "scatterternary"
           }
          ],
          "surface": [
           {
            "colorbar": {
             "outlinewidth": 0,
             "ticks": ""
            },
            "colorscale": [
             [
              0,
              "#0d0887"
             ],
             [
              0.1111111111111111,
              "#46039f"
             ],
             [
              0.2222222222222222,
              "#7201a8"
             ],
             [
              0.3333333333333333,
              "#9c179e"
             ],
             [
              0.4444444444444444,
              "#bd3786"
             ],
             [
              0.5555555555555556,
              "#d8576b"
             ],
             [
              0.6666666666666666,
              "#ed7953"
             ],
             [
              0.7777777777777778,
              "#fb9f3a"
             ],
             [
              0.8888888888888888,
              "#fdca26"
             ],
             [
              1,
              "#f0f921"
             ]
            ],
            "type": "surface"
           }
          ],
          "table": [
           {
            "cells": {
             "fill": {
              "color": "#EBF0F8"
             },
             "line": {
              "color": "white"
             }
            },
            "header": {
             "fill": {
              "color": "#C8D4E3"
             },
             "line": {
              "color": "white"
             }
            },
            "type": "table"
           }
          ]
         },
         "layout": {
          "annotationdefaults": {
           "arrowcolor": "#2a3f5f",
           "arrowhead": 0,
           "arrowwidth": 1
          },
          "autotypenumbers": "strict",
          "coloraxis": {
           "colorbar": {
            "outlinewidth": 0,
            "ticks": ""
           }
          },
          "colorscale": {
           "diverging": [
            [
             0,
             "#8e0152"
            ],
            [
             0.1,
             "#c51b7d"
            ],
            [
             0.2,
             "#de77ae"
            ],
            [
             0.3,
             "#f1b6da"
            ],
            [
             0.4,
             "#fde0ef"
            ],
            [
             0.5,
             "#f7f7f7"
            ],
            [
             0.6,
             "#e6f5d0"
            ],
            [
             0.7,
             "#b8e186"
            ],
            [
             0.8,
             "#7fbc41"
            ],
            [
             0.9,
             "#4d9221"
            ],
            [
             1,
             "#276419"
            ]
           ],
           "sequential": [
            [
             0,
             "#0d0887"
            ],
            [
             0.1111111111111111,
             "#46039f"
            ],
            [
             0.2222222222222222,
             "#7201a8"
            ],
            [
             0.3333333333333333,
             "#9c179e"
            ],
            [
             0.4444444444444444,
             "#bd3786"
            ],
            [
             0.5555555555555556,
             "#d8576b"
            ],
            [
             0.6666666666666666,
             "#ed7953"
            ],
            [
             0.7777777777777778,
             "#fb9f3a"
            ],
            [
             0.8888888888888888,
             "#fdca26"
            ],
            [
             1,
             "#f0f921"
            ]
           ],
           "sequentialminus": [
            [
             0,
             "#0d0887"
            ],
            [
             0.1111111111111111,
             "#46039f"
            ],
            [
             0.2222222222222222,
             "#7201a8"
            ],
            [
             0.3333333333333333,
             "#9c179e"
            ],
            [
             0.4444444444444444,
             "#bd3786"
            ],
            [
             0.5555555555555556,
             "#d8576b"
            ],
            [
             0.6666666666666666,
             "#ed7953"
            ],
            [
             0.7777777777777778,
             "#fb9f3a"
            ],
            [
             0.8888888888888888,
             "#fdca26"
            ],
            [
             1,
             "#f0f921"
            ]
           ]
          },
          "colorway": [
           "#636efa",
           "#EF553B",
           "#00cc96",
           "#ab63fa",
           "#FFA15A",
           "#19d3f3",
           "#FF6692",
           "#B6E880",
           "#FF97FF",
           "#FECB52"
          ],
          "font": {
           "color": "#2a3f5f"
          },
          "geo": {
           "bgcolor": "white",
           "lakecolor": "white",
           "landcolor": "#E5ECF6",
           "showlakes": true,
           "showland": true,
           "subunitcolor": "white"
          },
          "hoverlabel": {
           "align": "left"
          },
          "hovermode": "closest",
          "mapbox": {
           "style": "light"
          },
          "paper_bgcolor": "white",
          "plot_bgcolor": "#E5ECF6",
          "polar": {
           "angularaxis": {
            "gridcolor": "white",
            "linecolor": "white",
            "ticks": ""
           },
           "bgcolor": "#E5ECF6",
           "radialaxis": {
            "gridcolor": "white",
            "linecolor": "white",
            "ticks": ""
           }
          },
          "scene": {
           "xaxis": {
            "backgroundcolor": "#E5ECF6",
            "gridcolor": "white",
            "gridwidth": 2,
            "linecolor": "white",
            "showbackground": true,
            "ticks": "",
            "zerolinecolor": "white"
           },
           "yaxis": {
            "backgroundcolor": "#E5ECF6",
            "gridcolor": "white",
            "gridwidth": 2,
            "linecolor": "white",
            "showbackground": true,
            "ticks": "",
            "zerolinecolor": "white"
           },
           "zaxis": {
            "backgroundcolor": "#E5ECF6",
            "gridcolor": "white",
            "gridwidth": 2,
            "linecolor": "white",
            "showbackground": true,
            "ticks": "",
            "zerolinecolor": "white"
           }
          },
          "shapedefaults": {
           "line": {
            "color": "#2a3f5f"
           }
          },
          "ternary": {
           "aaxis": {
            "gridcolor": "white",
            "linecolor": "white",
            "ticks": ""
           },
           "baxis": {
            "gridcolor": "white",
            "linecolor": "white",
            "ticks": ""
           },
           "bgcolor": "#E5ECF6",
           "caxis": {
            "gridcolor": "white",
            "linecolor": "white",
            "ticks": ""
           }
          },
          "title": {
           "x": 0.05
          },
          "xaxis": {
           "automargin": true,
           "gridcolor": "white",
           "linecolor": "white",
           "ticks": "",
           "title": {
            "standoff": 15
           },
           "zerolinecolor": "white",
           "zerolinewidth": 2
          },
          "yaxis": {
           "automargin": true,
           "gridcolor": "white",
           "linecolor": "white",
           "ticks": "",
           "title": {
            "standoff": 15
           },
           "zerolinecolor": "white",
           "zerolinewidth": 2
          }
         }
        },
        "title": {
         "font": {
          "family": "Arial",
          "size": 20,
          "weight": "bold"
         },
         "text": "Characters' Empath Features Distribution by Year",
         "x": 0.5,
         "xanchor": "center"
        },
        "xaxis": {
         "title": {
          "text": "Empath Topics"
         }
        },
        "yaxis": {
         "range": [
          0,
          0.22135839807072674
         ],
         "title": {
          "text": "Proportion"
         }
        }
       }
      }
     },
     "metadata": {},
     "output_type": "display_data"
    }
   ],
   "source": [
    "fig = go.Figure()\n",
    "\n",
    "unique_years = sorted(melted_empath_df['year'].unique())\n",
    "max_y = melted_empath_df['proportion'].max()\n",
    "\n",
    "for year in unique_years:\n",
    "    year_data = melted_empath_df[melted_empath_df['year'] == year]\n",
    "    grouped_data = year_data.groupby('topic', as_index=False).agg({'proportion': 'sum'})\n",
    "    \n",
    "    fig.add_trace(go.Bar(\n",
    "        x=grouped_data['topic'],\n",
    "        y=grouped_data['proportion'],\n",
    "        name=f\"Year {year}\",\n",
    "        visible=(year == unique_years[0]),  # Only show the first year's data initially\n",
    "        marker=dict(color=[topic_colors[topic] for topic in grouped_data['topic']])\n",
    "    ))\n",
    "\n",
    "# Define steps for the slider\n",
    "steps = []\n",
    "for i, year in enumerate(unique_years):\n",
    "    step = dict(\n",
    "        method=\"update\",\n",
    "        args=[\n",
    "            {\"visible\": [j == i for j in range(len(unique_years))]},  # Toggle visibility for the selected year\n",
    "            {\"title\": f\"Empath Topic Proportions for Year: {year}\"}\n",
    "        ],\n",
    "        label=str(year)\n",
    "    )\n",
    "    steps.append(step)\n",
    "\n",
    "# Add the slider to the layout\n",
    "fig.update_layout(\n",
    "    sliders=[{\n",
    "        \"active\": 0,\n",
    "        \"currentvalue\": {\"prefix\": \"Year: \"},\n",
    "        \"pad\": {\"t\": 50},\n",
    "        \"steps\": steps\n",
    "    }],\n",
    "    title={\n",
    "        \"text\": \"Characters' Empath Features Distribution by Year\",\n",
    "        \"x\": 0.5,\n",
    "        \"xanchor\": \"center\",\n",
    "        \"font\": {\"size\": 20, \"family\": \"Arial\", \"weight\": \"bold\"}\n",
    "    },\n",
    "    xaxis_title=\"Empath Topics\",\n",
    "    yaxis_title=\"Proportion\",\n",
    "    yaxis=dict(range=[0, max_y]),  # Set the fixed y-axis range\n",
    "    legend_title=\"Year\",\n",
    "    barmode=\"group\"  # This ensures bars are grouped by topics\n",
    ")\n",
    "\n",
    "fig.show()\n"
   ]
  },
  {
   "cell_type": "code",
   "execution_count": null,
   "metadata": {},
   "outputs": [],
   "source": []
  }
 ],
 "metadata": {
  "kernelspec": {
   "display_name": "ada",
   "language": "python",
   "name": "python3"
  },
  "language_info": {
   "codemirror_mode": {
    "name": "ipython",
    "version": 3
   },
   "file_extension": ".py",
   "mimetype": "text/x-python",
   "name": "python",
   "nbconvert_exporter": "python",
   "pygments_lexer": "ipython3",
   "version": "3.11.9"
  }
 },
 "nbformat": 4,
 "nbformat_minor": 2
}
