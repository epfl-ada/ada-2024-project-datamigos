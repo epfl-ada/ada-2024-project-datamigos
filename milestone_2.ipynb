{
 "cells": [
  {
   "cell_type": "markdown",
   "metadata": {},
   "source": [
    "# Milestone 2\n",
    "\n",
    "This notebook aims to preprocess our data, and estimate the feasibility of the different ideas we had during the first milestone, using data exploration and some preliminary analysis.\n",
    "\n",
    "- [Dataset description](#Dataset-description)\n",
    "- [Initial dataset preprocessing](#Data-preprocessing)\n",
    "    - [Characters dataset](#Characters-dataset) \n",
    "    - [Movies dataset](#Movies-dataset)\n",
    "    - [Plot summaries dataset](#Plot-summaries-dataset)\n",
<<<<<<< HEAD

    "- [External datasets](#External-Datasets)\n",
    "- [Data merging](#Data-Merging)\n",
    "    - [TMDb](#tmdb)"
=======
    "- [External datasets](#External-Datasets)\n",
    "- [Data merging](#Data-Merging)\n",
    "    - [TMDb](#tmdb)\n",
    "    - [IMDb](#imdb)"
>>>>>>> refs/remotes/origin/main
   ]
  },
  {
   "cell_type": "markdown",
   "metadata": {},
   "source": [
    "# Datasets description\n",
    "\n",
    "This project utilizes a rich collection of datasets encompassing movies, characters, and plot summaries. The primary datasets include:\n",
    "\n",
    "- **Characters Dataset** (`character.metadata.tsv`): Contains detailed metadata on movie characters and the actors portraying them. Key attributes include Wikipedia and Freebase IDs, movie release dates, character names, actor birthdates, genders, heights, ethnicities, and ages at the time of movie release.\n",
    "\n",
    "- **Movies Dataset** (`movie.metadata.tsv`) Includes comprehensive information about movies. It features data such as Wikipedia and Freebase IDs, movie names, release dates, box office revenues, runtimes, languages, countries, and genres.\n",
    "\n",
    "- **Plot Summaries Dataset** (`plot_summaries.text`): Offers a concise summary of movie plots, linked to movies through Wikipedia movie IDs.\n",
    "\n",
    "### External datasets\n",
    "\n",
    "We also use external datasets to enrich our data. More information about these datasets can be found in the [External datasets](#External-datasets) section.\n"
   ]
  },
  {
<<<<<<< HEAD

=======
>>>>>>> refs/remotes/origin/main
   "cell_type": "code",
   "execution_count": 1,
   "metadata": {},
   "outputs": [],
   "source": [
<<<<<<< HEAD
=======
    "%load_ext autoreload\n",
    "%autoreload 2"
   ]
  },
  {
   "cell_type": "code",
   "execution_count": 2,
   "metadata": {},
   "outputs": [],
   "source": [
>>>>>>> refs/remotes/origin/main
    "DATA_FOLDER = \"data/\"\n",
    "DATA_FOLDER_CMU = DATA_FOLDER + \"raw/MovieSummaries/\"\n",
    "DATA_FOLDER_TMDB = DATA_FOLDER + \"raw/TMDb/\"\n",
    "DATA_FOLDER_IMDB = DATA_FOLDER + \"raw/IMDb/\"\n",
    "\n",
    "CMU_CHARACTER = DATA_FOLDER_CMU + \"character.metadata.tsv\"\n",
    "CMU_MOVIE = DATA_FOLDER_CMU + \"movie.metadata.tsv\"\n",
    "PLOT_SUMMARIES = DATA_FOLDER_CMU + \"plot_summaries.txt\"\n",
    "\n",
    "TMDB_MOVIE = DATA_FOLDER_TMDB + \"movies_metadata.csv\"\n",
    "TMDB_KEYWORDS = DATA_FOLDER_TMDB + \"keywords.csv\"\n",
    "\n",
    "# https://datasets.imdbws.com/\n",
    "IMDB_AKA = DATA_FOLDER_IMDB + \"title.akas.tsv\"\n",
    "IMDB_BASIC = DATA_FOLDER_IMDB + \"title.basics.tsv\""
   ]
  },
  {
<<<<<<< HEAD

=======
>>>>>>> refs/remotes/origin/main
   "cell_type": "markdown",
   "metadata": {},
   "source": [
    "# Initial dataset preprocessing"
   ]
  },
  {
   "cell_type": "code",
<<<<<<< HEAD

   "execution_count": 2,

=======
   "execution_count": 3,
>>>>>>> refs/remotes/origin/main
   "metadata": {},
   "outputs": [],
   "source": [
    "import pandas as pd\n",
    "import matplotlib.pyplot as plt\n",
<<<<<<< HEAD
    "from src.utils.preprocessing_helpers import *"
=======
    "from src.utils.helpers import *"
>>>>>>> refs/remotes/origin/main
   ]
  },
  {
   "cell_type": "markdown",
   "metadata": {},
   "source": [
    "## Characters dataset"
   ]
  },
  {
   "cell_type": "code",
<<<<<<< HEAD

   "execution_count": 3,

=======
   "execution_count": 4,
>>>>>>> refs/remotes/origin/main
   "metadata": {},
   "outputs": [
    {
     "data": {
      "text/html": [
       "<div>\n",
       "<style scoped>\n",
       "    .dataframe tbody tr th:only-of-type {\n",
       "        vertical-align: middle;\n",
       "    }\n",
       "\n",
       "    .dataframe tbody tr th {\n",
       "        vertical-align: top;\n",
       "    }\n",
       "\n",
       "    .dataframe thead th {\n",
       "        text-align: right;\n",
       "    }\n",
       "</style>\n",
       "<table border=\"1\" class=\"dataframe\">\n",
       "  <thead>\n",
       "    <tr style=\"text-align: right;\">\n",
       "      <th></th>\n",
       "      <th>wikipedia_id</th>\n",
       "      <th>freebase_id</th>\n",
       "      <th>release_date</th>\n",
       "      <th>character_name</th>\n",
       "      <th>actor_dob</th>\n",
       "      <th>actor_gender</th>\n",
       "      <th>actor_height</th>\n",
       "      <th>actor_ethnicity</th>\n",
       "      <th>actor_name</th>\n",
       "      <th>actor_age_at_movie_release</th>\n",
       "      <th>freebase_actor_map_id</th>\n",
       "      <th>freebase_character_id</th>\n",
       "      <th>freebase_actor_id</th>\n",
       "    </tr>\n",
       "  </thead>\n",
       "  <tbody>\n",
       "    <tr>\n",
       "      <th>0</th>\n",
       "      <td>975900</td>\n",
       "      <td>/m/03vyhn</td>\n",
       "      <td>2001-08-24</td>\n",
       "      <td>Akooshay</td>\n",
       "      <td>1958-08-26</td>\n",
       "      <td>F</td>\n",
       "      <td>1.620</td>\n",
       "      <td>NaN</td>\n",
       "      <td>Wanda De Jesus</td>\n",
       "      <td>42.0</td>\n",
       "      <td>/m/0bgchxw</td>\n",
       "      <td>/m/0bgcj3x</td>\n",
       "      <td>/m/03wcfv7</td>\n",
       "    </tr>\n",
       "    <tr>\n",
       "      <th>1</th>\n",
       "      <td>975900</td>\n",
       "      <td>/m/03vyhn</td>\n",
       "      <td>2001-08-24</td>\n",
       "      <td>Lieutenant Melanie Ballard</td>\n",
       "      <td>1974-08-15</td>\n",
       "      <td>F</td>\n",
       "      <td>1.780</td>\n",
       "      <td>/m/044038p</td>\n",
       "      <td>Natasha Henstridge</td>\n",
       "      <td>27.0</td>\n",
       "      <td>/m/0jys3m</td>\n",
       "      <td>/m/0bgchn4</td>\n",
       "      <td>/m/0346l4</td>\n",
       "    </tr>\n",
       "    <tr>\n",
       "      <th>2</th>\n",
       "      <td>975900</td>\n",
       "      <td>/m/03vyhn</td>\n",
       "      <td>2001-08-24</td>\n",
       "      <td>Desolation Williams</td>\n",
       "      <td>1969-06-15</td>\n",
       "      <td>M</td>\n",
       "      <td>1.727</td>\n",
       "      <td>/m/0x67</td>\n",
       "      <td>Ice Cube</td>\n",
       "      <td>32.0</td>\n",
       "      <td>/m/0jys3g</td>\n",
       "      <td>/m/0bgchn_</td>\n",
       "      <td>/m/01vw26l</td>\n",
       "    </tr>\n",
       "    <tr>\n",
       "      <th>3</th>\n",
       "      <td>975900</td>\n",
       "      <td>/m/03vyhn</td>\n",
       "      <td>2001-08-24</td>\n",
       "      <td>Sgt Jericho Butler</td>\n",
       "      <td>1967-09-12</td>\n",
       "      <td>M</td>\n",
       "      <td>1.750</td>\n",
       "      <td>NaN</td>\n",
       "      <td>Jason Statham</td>\n",
       "      <td>33.0</td>\n",
       "      <td>/m/02vchl6</td>\n",
       "      <td>/m/0bgchnq</td>\n",
       "      <td>/m/034hyc</td>\n",
       "    </tr>\n",
       "    <tr>\n",
       "      <th>4</th>\n",
       "      <td>975900</td>\n",
       "      <td>/m/03vyhn</td>\n",
       "      <td>2001-08-24</td>\n",
       "      <td>Bashira Kincaid</td>\n",
       "      <td>1977-09-25</td>\n",
       "      <td>F</td>\n",
       "      <td>1.650</td>\n",
       "      <td>NaN</td>\n",
       "      <td>Clea DuVall</td>\n",
       "      <td>23.0</td>\n",
       "      <td>/m/02vbb3r</td>\n",
       "      <td>/m/0bgchp9</td>\n",
       "      <td>/m/01y9xg</td>\n",
       "    </tr>\n",
       "  </tbody>\n",
       "</table>\n",
       "</div>"
      ],
      "text/plain": [
       "   wikipedia_id freebase_id release_date              character_name  \\\n",
       "0        975900   /m/03vyhn   2001-08-24                    Akooshay   \n",
       "1        975900   /m/03vyhn   2001-08-24  Lieutenant Melanie Ballard   \n",
       "2        975900   /m/03vyhn   2001-08-24         Desolation Williams   \n",
       "3        975900   /m/03vyhn   2001-08-24          Sgt Jericho Butler   \n",
       "4        975900   /m/03vyhn   2001-08-24             Bashira Kincaid   \n",
       "\n",
       "    actor_dob actor_gender  actor_height actor_ethnicity          actor_name  \\\n",
       "0  1958-08-26            F         1.620             NaN      Wanda De Jesus   \n",
       "1  1974-08-15            F         1.780      /m/044038p  Natasha Henstridge   \n",
       "2  1969-06-15            M         1.727         /m/0x67            Ice Cube   \n",
       "3  1967-09-12            M         1.750             NaN       Jason Statham   \n",
       "4  1977-09-25            F         1.650             NaN         Clea DuVall   \n",
       "\n",
       "   actor_age_at_movie_release freebase_actor_map_id freebase_character_id  \\\n",
       "0                        42.0            /m/0bgchxw            /m/0bgcj3x   \n",
       "1                        27.0             /m/0jys3m            /m/0bgchn4   \n",
       "2                        32.0             /m/0jys3g            /m/0bgchn_   \n",
       "3                        33.0            /m/02vchl6            /m/0bgchnq   \n",
       "4                        23.0            /m/02vbb3r            /m/0bgchp9   \n",
       "\n",
       "  freebase_actor_id  \n",
       "0        /m/03wcfv7  \n",
       "1         /m/0346l4  \n",
       "2        /m/01vw26l  \n",
       "3         /m/034hyc  \n",
       "4         /m/01y9xg  "
      ]
     },
<<<<<<< HEAD

     "execution_count": 3,

=======
     "execution_count": 4,
>>>>>>> refs/remotes/origin/main
     "metadata": {},
     "output_type": "execute_result"
    }
   ],
   "source": [
    "# Load the data\n",
<<<<<<< HEAD

=======
>>>>>>> refs/remotes/origin/main
    "df_characters = pd.read_table(\n",
    "    CMU_CHARACTER,\n",
    "    names=[\n",
    "        \"wikipedia_id\",\n",
    "        \"freebase_id\",\n",
    "        \"release_date\",\n",
    "        \"character_name\",\n",
    "        \"actor_dob\",\n",
    "        \"actor_gender\",\n",
    "        \"actor_height\",\n",
    "        \"actor_ethnicity\",\n",
    "        \"actor_name\",\n",
    "        \"actor_age_at_movie_release\",\n",
    "        \"freebase_actor_map_id\",\n",
    "        \"freebase_character_id\",\n",
    "        \"freebase_actor_id\",\n",
    "    ],\n",
    ")\n",
<<<<<<< HEAD

=======
>>>>>>> refs/remotes/origin/main
    "df_characters.head()"
   ]
  },
  {
   "cell_type": "markdown",
   "metadata": {},
   "source": [
    "Let's check if we can find some missing values in the dataset."
   ]
  },
  {
   "cell_type": "code",
<<<<<<< HEAD

   "execution_count": 4,

=======
   "execution_count": 5,
>>>>>>> refs/remotes/origin/main
   "metadata": {},
   "outputs": [
    {
     "name": "stdout",
     "output_type": "stream",
     "text": [
      "<class 'pandas.core.frame.DataFrame'>\n",
      "RangeIndex: 450669 entries, 0 to 450668\n",
      "Data columns (total 13 columns):\n",
      " #   Column                      Non-Null Count   Dtype  \n",
      "---  ------                      --------------   -----  \n",
      " 0   wikipedia_id                450669 non-null  int64  \n",
      " 1   freebase_id                 450669 non-null  object \n",
      " 2   release_date                440674 non-null  object \n",
      " 3   character_name              192794 non-null  object \n",
      " 4   actor_dob                   344524 non-null  object \n",
      " 5   actor_gender                405060 non-null  object \n",
      " 6   actor_height                154824 non-null  float64\n",
      " 7   actor_ethnicity             106058 non-null  object \n",
      " 8   actor_name                  449441 non-null  object \n",
      " 9   actor_age_at_movie_release  292556 non-null  float64\n",
      " 10  freebase_actor_map_id       450669 non-null  object \n",
      " 11  freebase_character_id       192804 non-null  object \n",
      " 12  freebase_actor_id           449854 non-null  object \n",
      "dtypes: float64(2), int64(1), object(10)\n",
      "memory usage: 44.7+ MB\n"
     ]
    }
   ],
   "source": [
    "df_characters.info()"
   ]
  },
  {
   "cell_type": "markdown",
   "metadata": {},
   "source": [
    "We can identify from the output above that:\n",
    "- There are some *missing values*\n",
    "- Some *type are not exploitable* (e.g. the `release_date` and `actor_dob`  are `object`s, not exploitable dates)"
   ]
  },
  {
   "cell_type": "code",
<<<<<<< HEAD

   "execution_count": 5,

=======
   "execution_count": 6,
>>>>>>> refs/remotes/origin/main
   "metadata": {},
   "outputs": [
    {
     "name": "stdout",
     "output_type": "stream",
     "text": [
      "Total amount of rows that contain a NaN value:  405405\n"
     ]
    },
    {
     "data": {
      "text/html": [
       "<div>\n",
       "<style scoped>\n",
       "    .dataframe tbody tr th:only-of-type {\n",
       "        vertical-align: middle;\n",
       "    }\n",
       "\n",
       "    .dataframe tbody tr th {\n",
       "        vertical-align: top;\n",
       "    }\n",
       "\n",
       "    .dataframe thead th {\n",
       "        text-align: right;\n",
       "    }\n",
       "</style>\n",
       "<table border=\"1\" class=\"dataframe\">\n",
       "  <thead>\n",
       "    <tr style=\"text-align: right;\">\n",
       "      <th></th>\n",
       "      <th>nan_sum</th>\n",
       "      <th>nan_percentage</th>\n",
       "    </tr>\n",
       "  </thead>\n",
       "  <tbody>\n",
       "    <tr>\n",
       "      <th>wikipedia_id</th>\n",
       "      <td>0</td>\n",
       "      <td>0.000000</td>\n",
       "    </tr>\n",
       "    <tr>\n",
       "      <th>freebase_id</th>\n",
       "      <td>0</td>\n",
       "      <td>0.000000</td>\n",
       "    </tr>\n",
       "    <tr>\n",
       "      <th>release_date</th>\n",
       "      <td>9995</td>\n",
       "      <td>2.217814</td>\n",
       "    </tr>\n",
       "    <tr>\n",
       "      <th>character_name</th>\n",
       "      <td>257875</td>\n",
       "      <td>57.220488</td>\n",
       "    </tr>\n",
       "    <tr>\n",
       "      <th>actor_dob</th>\n",
       "      <td>106145</td>\n",
       "      <td>23.552763</td>\n",
       "    </tr>\n",
       "    <tr>\n",
       "      <th>actor_gender</th>\n",
       "      <td>45609</td>\n",
       "      <td>10.120288</td>\n",
       "    </tr>\n",
       "    <tr>\n",
       "      <th>actor_height</th>\n",
       "      <td>295845</td>\n",
       "      <td>65.645740</td>\n",
       "    </tr>\n",
       "    <tr>\n",
       "      <th>actor_ethnicity</th>\n",
       "      <td>344611</td>\n",
       "      <td>76.466542</td>\n",
       "    </tr>\n",
       "    <tr>\n",
       "      <th>actor_name</th>\n",
       "      <td>1228</td>\n",
       "      <td>0.272484</td>\n",
       "    </tr>\n",
       "    <tr>\n",
       "      <th>actor_age_at_movie_release</th>\n",
       "      <td>158113</td>\n",
       "      <td>35.084064</td>\n",
       "    </tr>\n",
       "    <tr>\n",
       "      <th>freebase_actor_map_id</th>\n",
       "      <td>0</td>\n",
       "      <td>0.000000</td>\n",
       "    </tr>\n",
       "    <tr>\n",
       "      <th>freebase_character_id</th>\n",
       "      <td>257865</td>\n",
       "      <td>57.218269</td>\n",
       "    </tr>\n",
       "    <tr>\n",
       "      <th>freebase_actor_id</th>\n",
       "      <td>815</td>\n",
       "      <td>0.180842</td>\n",
       "    </tr>\n",
       "  </tbody>\n",
       "</table>\n",
       "</div>"
      ],
      "text/plain": [
       "                            nan_sum  nan_percentage\n",
       "wikipedia_id                      0        0.000000\n",
       "freebase_id                       0        0.000000\n",
       "release_date                   9995        2.217814\n",
       "character_name               257875       57.220488\n",
       "actor_dob                    106145       23.552763\n",
       "actor_gender                  45609       10.120288\n",
       "actor_height                 295845       65.645740\n",
       "actor_ethnicity              344611       76.466542\n",
       "actor_name                     1228        0.272484\n",
       "actor_age_at_movie_release   158113       35.084064\n",
       "freebase_actor_map_id             0        0.000000\n",
       "freebase_character_id        257865       57.218269\n",
       "freebase_actor_id               815        0.180842"
      ]
     },
<<<<<<< HEAD

     "execution_count": 5,

=======
     "execution_count": 6,
>>>>>>> refs/remotes/origin/main
     "metadata": {},
     "output_type": "execute_result"
    }
   ],
   "source": [
    "print(\n",
    "    \"Total amount of rows that contain a NaN value: \",\n",
    "    df_characters.isna().any(axis=1).sum(),\n",
    ")\n",
    "pd.DataFrame(\n",
    "    {\n",
    "        \"nan_sum\": df_characters.isna().sum(),\n",
    "        \"nan_percentage\": df_characters.isna().mean() * 100,\n",
    "    }\n",
    ")"
   ]
  },
  {
   "cell_type": "markdown",
   "metadata": {},
   "source": [
<<<<<<< HEAD

    "Concerning the *missing values* problem, we have 4 options: perform value imputation, not using the problematic features, dropping the rows or filling the missing values using external datasets.\n",

=======
    "Concerning the *missing values* problem, we have 4 options: perform value imputation, not using the problematic features, dropping the rows or filling the missing values using external datasets.\n",
>>>>>>> refs/remotes/origin/main
    "\n",
    "Now we'll take a look at the values and see if we can find some outliers."
   ]
  },
  {
   "cell_type": "code",
<<<<<<< HEAD

   "execution_count": 6,

=======
   "execution_count": 7,
>>>>>>> refs/remotes/origin/main
   "metadata": {},
   "outputs": [
    {
     "data": {
      "text/html": [
       "<div>\n",
       "<style scoped>\n",
       "    .dataframe tbody tr th:only-of-type {\n",
       "        vertical-align: middle;\n",
       "    }\n",
       "\n",
       "    .dataframe tbody tr th {\n",
       "        vertical-align: top;\n",
       "    }\n",
       "\n",
       "    .dataframe thead th {\n",
       "        text-align: right;\n",
       "    }\n",
       "</style>\n",
       "<table border=\"1\" class=\"dataframe\">\n",
       "  <thead>\n",
       "    <tr style=\"text-align: right;\">\n",
       "      <th></th>\n",
       "      <th>wikipedia_id</th>\n",
       "      <th>freebase_id</th>\n",
       "      <th>release_date</th>\n",
       "      <th>character_name</th>\n",
       "      <th>actor_dob</th>\n",
       "      <th>actor_gender</th>\n",
       "      <th>actor_height</th>\n",
       "      <th>actor_ethnicity</th>\n",
       "      <th>actor_name</th>\n",
       "      <th>actor_age_at_movie_release</th>\n",
       "      <th>freebase_actor_map_id</th>\n",
       "      <th>freebase_character_id</th>\n",
       "      <th>freebase_actor_id</th>\n",
       "    </tr>\n",
       "  </thead>\n",
       "  <tbody>\n",
       "    <tr>\n",
       "      <th>count</th>\n",
       "      <td>4.506690e+05</td>\n",
       "      <td>450669</td>\n",
       "      <td>440674</td>\n",
       "      <td>192794</td>\n",
       "      <td>344524</td>\n",
       "      <td>405060</td>\n",
       "      <td>154824.000000</td>\n",
       "      <td>106058</td>\n",
       "      <td>449441</td>\n",
       "      <td>292556.000000</td>\n",
       "      <td>450669</td>\n",
       "      <td>192804</td>\n",
       "      <td>449854</td>\n",
       "    </tr>\n",
       "    <tr>\n",
       "      <th>unique</th>\n",
       "      <td>NaN</td>\n",
       "      <td>64330</td>\n",
       "      <td>18476</td>\n",
       "      <td>126629</td>\n",
       "      <td>29494</td>\n",
       "      <td>2</td>\n",
       "      <td>NaN</td>\n",
       "      <td>479</td>\n",
       "      <td>134078</td>\n",
       "      <td>NaN</td>\n",
       "      <td>450669</td>\n",
       "      <td>183435</td>\n",
       "      <td>135760</td>\n",
       "    </tr>\n",
       "    <tr>\n",
       "      <th>top</th>\n",
       "      <td>NaN</td>\n",
       "      <td>/m/0cc8620</td>\n",
       "      <td>2008</td>\n",
       "      <td>Doctor</td>\n",
       "      <td>1908-05-30</td>\n",
       "      <td>M</td>\n",
       "      <td>NaN</td>\n",
       "      <td>/m/0dryh9k</td>\n",
       "      <td>Mel Blanc</td>\n",
       "      <td>NaN</td>\n",
<<<<<<< HEAD

       "      <td>/m/0g8ngmw</td>\n",

=======
       "      <td>/m/0bgchxw</td>\n",
>>>>>>> refs/remotes/origin/main
       "      <td>/m/0h577m2</td>\n",
       "      <td>/m/0c5vh</td>\n",
       "    </tr>\n",
       "    <tr>\n",
       "      <th>freq</th>\n",
       "      <td>NaN</td>\n",
       "      <td>115</td>\n",
       "      <td>5453</td>\n",
       "      <td>198</td>\n",
       "      <td>791</td>\n",
       "      <td>270257</td>\n",
       "      <td>NaN</td>\n",
       "      <td>16351</td>\n",
       "      <td>791</td>\n",
       "      <td>NaN</td>\n",
       "      <td>1</td>\n",
       "      <td>146</td>\n",
       "      <td>791</td>\n",
       "    </tr>\n",
       "    <tr>\n",
       "      <th>mean</th>\n",
       "      <td>1.396975e+07</td>\n",
       "      <td>NaN</td>\n",
       "      <td>NaN</td>\n",
       "      <td>NaN</td>\n",
       "      <td>NaN</td>\n",
       "      <td>NaN</td>\n",
       "      <td>1.788893</td>\n",
       "      <td>NaN</td>\n",
       "      <td>NaN</td>\n",
       "      <td>37.788523</td>\n",
       "      <td>NaN</td>\n",
       "      <td>NaN</td>\n",
       "      <td>NaN</td>\n",
       "    </tr>\n",
       "    <tr>\n",
       "      <th>std</th>\n",
       "      <td>1.079662e+07</td>\n",
       "      <td>NaN</td>\n",
       "      <td>NaN</td>\n",
       "      <td>NaN</td>\n",
       "      <td>NaN</td>\n",
       "      <td>NaN</td>\n",
       "      <td>4.379940</td>\n",
       "      <td>NaN</td>\n",
       "      <td>NaN</td>\n",
       "      <td>20.587870</td>\n",
       "      <td>NaN</td>\n",
       "      <td>NaN</td>\n",
       "      <td>NaN</td>\n",
       "    </tr>\n",
       "    <tr>\n",
       "      <th>min</th>\n",
       "      <td>3.300000e+02</td>\n",
       "      <td>NaN</td>\n",
       "      <td>NaN</td>\n",
       "      <td>NaN</td>\n",
       "      <td>NaN</td>\n",
       "      <td>NaN</td>\n",
       "      <td>0.610000</td>\n",
       "      <td>NaN</td>\n",
       "      <td>NaN</td>\n",
       "      <td>-7896.000000</td>\n",
       "      <td>NaN</td>\n",
       "      <td>NaN</td>\n",
       "      <td>NaN</td>\n",
       "    </tr>\n",
       "    <tr>\n",
       "      <th>25%</th>\n",
       "      <td>3.759292e+06</td>\n",
       "      <td>NaN</td>\n",
       "      <td>NaN</td>\n",
       "      <td>NaN</td>\n",
       "      <td>NaN</td>\n",
       "      <td>NaN</td>\n",
       "      <td>1.676400</td>\n",
       "      <td>NaN</td>\n",
       "      <td>NaN</td>\n",
       "      <td>28.000000</td>\n",
       "      <td>NaN</td>\n",
       "      <td>NaN</td>\n",
       "      <td>NaN</td>\n",
       "    </tr>\n",
       "    <tr>\n",
       "      <th>50%</th>\n",
       "      <td>1.189065e+07</td>\n",
       "      <td>NaN</td>\n",
       "      <td>NaN</td>\n",
       "      <td>NaN</td>\n",
       "      <td>NaN</td>\n",
       "      <td>NaN</td>\n",
       "      <td>1.750000</td>\n",
       "      <td>NaN</td>\n",
       "      <td>NaN</td>\n",
       "      <td>36.000000</td>\n",
       "      <td>NaN</td>\n",
       "      <td>NaN</td>\n",
       "      <td>NaN</td>\n",
       "    </tr>\n",
       "    <tr>\n",
       "      <th>75%</th>\n",
       "      <td>2.366501e+07</td>\n",
       "      <td>NaN</td>\n",
       "      <td>NaN</td>\n",
       "      <td>NaN</td>\n",
       "      <td>NaN</td>\n",
       "      <td>NaN</td>\n",
       "      <td>1.830000</td>\n",
       "      <td>NaN</td>\n",
       "      <td>NaN</td>\n",
       "      <td>47.000000</td>\n",
       "      <td>NaN</td>\n",
       "      <td>NaN</td>\n",
       "      <td>NaN</td>\n",
       "    </tr>\n",
       "    <tr>\n",
       "      <th>max</th>\n",
       "      <td>3.750192e+07</td>\n",
       "      <td>NaN</td>\n",
       "      <td>NaN</td>\n",
       "      <td>NaN</td>\n",
       "      <td>NaN</td>\n",
       "      <td>NaN</td>\n",
       "      <td>510.000000</td>\n",
       "      <td>NaN</td>\n",
       "      <td>NaN</td>\n",
       "      <td>103.000000</td>\n",
       "      <td>NaN</td>\n",
       "      <td>NaN</td>\n",
       "      <td>NaN</td>\n",
       "    </tr>\n",
       "  </tbody>\n",
       "</table>\n",
       "</div>"
      ],
      "text/plain": [
       "        wikipedia_id freebase_id release_date character_name   actor_dob  \\\n",
       "count   4.506690e+05      450669       440674         192794      344524   \n",
       "unique           NaN       64330        18476         126629       29494   \n",
       "top              NaN  /m/0cc8620         2008         Doctor  1908-05-30   \n",
       "freq             NaN         115         5453            198         791   \n",
       "mean    1.396975e+07         NaN          NaN            NaN         NaN   \n",
       "std     1.079662e+07         NaN          NaN            NaN         NaN   \n",
       "min     3.300000e+02         NaN          NaN            NaN         NaN   \n",
       "25%     3.759292e+06         NaN          NaN            NaN         NaN   \n",
       "50%     1.189065e+07         NaN          NaN            NaN         NaN   \n",
       "75%     2.366501e+07         NaN          NaN            NaN         NaN   \n",
       "max     3.750192e+07         NaN          NaN            NaN         NaN   \n",
       "\n",
       "       actor_gender   actor_height actor_ethnicity actor_name  \\\n",
       "count        405060  154824.000000          106058     449441   \n",
       "unique            2            NaN             479     134078   \n",
       "top               M            NaN      /m/0dryh9k  Mel Blanc   \n",
       "freq         270257            NaN           16351        791   \n",
       "mean            NaN       1.788893             NaN        NaN   \n",
       "std             NaN       4.379940             NaN        NaN   \n",
       "min             NaN       0.610000             NaN        NaN   \n",
       "25%             NaN       1.676400             NaN        NaN   \n",
       "50%             NaN       1.750000             NaN        NaN   \n",
       "75%             NaN       1.830000             NaN        NaN   \n",
       "max             NaN     510.000000             NaN        NaN   \n",
       "\n",
       "        actor_age_at_movie_release freebase_actor_map_id  \\\n",
       "count                292556.000000                450669   \n",
       "unique                         NaN                450669   \n",
<<<<<<< HEAD

       "top                            NaN            /m/0g8ngmw   \n",

=======
       "top                            NaN            /m/0bgchxw   \n",
>>>>>>> refs/remotes/origin/main
       "freq                           NaN                     1   \n",
       "mean                     37.788523                   NaN   \n",
       "std                      20.587870                   NaN   \n",
       "min                   -7896.000000                   NaN   \n",
       "25%                      28.000000                   NaN   \n",
       "50%                      36.000000                   NaN   \n",
       "75%                      47.000000                   NaN   \n",
       "max                     103.000000                   NaN   \n",
       "\n",
       "       freebase_character_id freebase_actor_id  \n",
       "count                 192804            449854  \n",
       "unique                183435            135760  \n",
       "top               /m/0h577m2          /m/0c5vh  \n",
       "freq                     146               791  \n",
       "mean                     NaN               NaN  \n",
       "std                      NaN               NaN  \n",
       "min                      NaN               NaN  \n",
       "25%                      NaN               NaN  \n",
       "50%                      NaN               NaN  \n",
       "75%                      NaN               NaN  \n",
       "max                      NaN               NaN  "
      ]
     },
<<<<<<< HEAD

     "execution_count": 6,

=======
     "execution_count": 7,
>>>>>>> refs/remotes/origin/main
     "metadata": {},
     "output_type": "execute_result"
    }
   ],
   "source": [
<<<<<<< HEAD

    "df_characters.describe(include=\"all\")"

=======
    "df_characters.describe(include=\"all\")"
>>>>>>> refs/remotes/origin/main
   ]
  },
  {
   "cell_type": "markdown",
   "metadata": {},
   "source": [
    "We find interesting results:\n",
    "- How can an actors' height be 510m ? \n",
    "- How can an actor's age be negative ?"
   ]
  },
  {
   "cell_type": "markdown",
   "metadata": {},
   "source": [
    "### Release date and date of birth"
   ]
  },
  {
   "cell_type": "markdown",
   "metadata": {},
   "source": [
    "To tackle the type problem we can convert the `object` type to `datetime` type."
   ]
  },
  {
   "cell_type": "code",
<<<<<<< HEAD

   "execution_count": 7,
=======
   "execution_count": 8,
>>>>>>> refs/remotes/origin/main
   "metadata": {},
   "outputs": [],
   "source": [
    "df_characters[\"release_date\"] = df_characters[\"release_date\"].apply(convert_to_datetime)\n",
    "df_characters[\"release_date\"] = pd.to_datetime(\n",
    "    df_characters[\"release_date\"], errors=\"coerce\"\n",
    ")\n",
    "\n",
    "df_characters[\"actor_dob\"] = df_characters[\"actor_dob\"].apply(convert_to_datetime)\n",
    "df_characters[\"actor_dob\"] = pd.to_datetime(df_characters[\"actor_dob\"], errors=\"coerce\")"
<<<<<<< HEAD

=======
>>>>>>> refs/remotes/origin/main
   ]
  },
  {
   "cell_type": "markdown",
   "metadata": {},
   "source": [
    "### Height"
   ]
  },
  {
   "cell_type": "code",
<<<<<<< HEAD

   "execution_count": 8,

=======
   "execution_count": 9,
>>>>>>> refs/remotes/origin/main
   "metadata": {},
   "outputs": [
    {
     "data": {
      "text/html": [
       "<div>\n",
       "<style scoped>\n",
       "    .dataframe tbody tr th:only-of-type {\n",
       "        vertical-align: middle;\n",
       "    }\n",
       "\n",
       "    .dataframe tbody tr th {\n",
       "        vertical-align: top;\n",
       "    }\n",
       "\n",
       "    .dataframe thead th {\n",
       "        text-align: right;\n",
       "    }\n",
       "</style>\n",
       "<table border=\"1\" class=\"dataframe\">\n",
       "  <thead>\n",
       "    <tr style=\"text-align: right;\">\n",
       "      <th></th>\n",
       "      <th>wikipedia_id</th>\n",
       "      <th>freebase_id</th>\n",
       "      <th>release_date</th>\n",
       "      <th>character_name</th>\n",
       "      <th>actor_dob</th>\n",
       "      <th>actor_gender</th>\n",
       "      <th>actor_height</th>\n",
       "      <th>actor_ethnicity</th>\n",
       "      <th>actor_name</th>\n",
       "      <th>actor_age_at_movie_release</th>\n",
       "      <th>freebase_actor_map_id</th>\n",
       "      <th>freebase_character_id</th>\n",
       "      <th>freebase_actor_id</th>\n",
<<<<<<< HEAD

=======
>>>>>>> refs/remotes/origin/main
       "    </tr>\n",
       "  </thead>\n",
       "  <tbody>\n",
       "    <tr>\n",
       "      <th>21619</th>\n",
       "      <td>1291587</td>\n",
       "      <td>/m/04qk12</td>\n",
       "      <td>2004-09-01</td>\n",
       "      <td>young Georgie</td>\n",
       "      <td>1986-03-13</td>\n",
       "      <td>M</td>\n",
       "      <td>180.0</td>\n",
       "      <td>/m/0dc58y8</td>\n",
       "      <td>Zohren Weiss</td>\n",
       "      <td>18.0</td>\n",
       "      <td>/m/0k276dx</td>\n",
       "      <td>/m/0k276dz</td>\n",
       "      <td>/m/0bggwvl</td>\n",
<<<<<<< HEAD

=======
>>>>>>> refs/remotes/origin/main
       "    </tr>\n",
       "    <tr>\n",
       "      <th>49659</th>\n",
       "      <td>30865068</td>\n",
       "      <td>/m/02ml14</td>\n",
       "      <td>1998-10-15</td>\n",
       "      <td>NaN</td>\n",
       "      <td>1972-12-06</td>\n",
       "      <td>M</td>\n",
       "      <td>510.0</td>\n",
       "      <td>NaN</td>\n",
       "      <td>Vince Corazza</td>\n",
       "      <td>25.0</td>\n",
       "      <td>/m/0n9ld0y</td>\n",
       "      <td>NaN</td>\n",
       "      <td>/m/08hqh0</td>\n",
<<<<<<< HEAD

=======
>>>>>>> refs/remotes/origin/main
       "    </tr>\n",
       "    <tr>\n",
       "      <th>59719</th>\n",
       "      <td>12206655</td>\n",
       "      <td>/m/02vvw24</td>\n",
<<<<<<< HEAD

       "      <td>NaT</td>\n",

=======
       "      <td>NaT</td>\n",
>>>>>>> refs/remotes/origin/main
       "      <td>Dominic</td>\n",
       "      <td>1986-03-13</td>\n",
       "      <td>M</td>\n",
       "      <td>180.0</td>\n",
       "      <td>/m/0dc58y8</td>\n",
       "      <td>Zohren Weiss</td>\n",
       "      <td>NaN</td>\n",
       "      <td>/m/0k276dq</td>\n",
       "      <td>/m/0h8hcr1</td>\n",
       "      <td>/m/0bggwvl</td>\n",
<<<<<<< HEAD

=======
>>>>>>> refs/remotes/origin/main
       "    </tr>\n",
       "    <tr>\n",
       "      <th>104140</th>\n",
       "      <td>17999628</td>\n",
       "      <td>/m/047n_2q</td>\n",
<<<<<<< HEAD

       "      <td>1998-01-01</td>\n",

=======
       "      <td>1998-01-01</td>\n",
>>>>>>> refs/remotes/origin/main
       "      <td>NaN</td>\n",
       "      <td>1972-12-06</td>\n",
       "      <td>M</td>\n",
       "      <td>510.0</td>\n",
       "      <td>NaN</td>\n",
       "      <td>Vince Corazza</td>\n",
       "      <td>25.0</td>\n",
       "      <td>/m/0cg31bd</td>\n",
       "      <td>NaN</td>\n",
       "      <td>/m/08hqh0</td>\n",
<<<<<<< HEAD

=======
>>>>>>> refs/remotes/origin/main
       "    </tr>\n",
       "    <tr>\n",
       "      <th>205679</th>\n",
       "      <td>1373475</td>\n",
       "      <td>/m/04xmx8</td>\n",
       "      <td>2003-08-15</td>\n",
       "      <td>Jackal Johnson</td>\n",
       "      <td>1972-12-06</td>\n",
       "      <td>M</td>\n",
       "      <td>510.0</td>\n",
       "      <td>NaN</td>\n",
       "      <td>Vince Corazza</td>\n",
       "      <td>30.0</td>\n",
       "      <td>/m/02vbm0k</td>\n",
       "      <td>/m/0h60xk7</td>\n",
       "      <td>/m/08hqh0</td>\n",
<<<<<<< HEAD

=======
>>>>>>> refs/remotes/origin/main
       "    </tr>\n",
       "    <tr>\n",
       "      <th>219383</th>\n",
       "      <td>179326</td>\n",
       "      <td>/m/018gq3</td>\n",
       "      <td>1996-11-18</td>\n",
       "      <td>Herbert</td>\n",
       "      <td>1986-03-13</td>\n",
       "      <td>M</td>\n",
       "      <td>180.0</td>\n",
       "      <td>/m/0dc58y8</td>\n",
       "      <td>Zohren Weiss</td>\n",
       "      <td>10.0</td>\n",
       "      <td>/m/0bggwv8</td>\n",
       "      <td>/m/0bggwvc</td>\n",
       "      <td>/m/0bggwvl</td>\n",
<<<<<<< HEAD

=======
>>>>>>> refs/remotes/origin/main
       "    </tr>\n",
       "    <tr>\n",
       "      <th>301653</th>\n",
       "      <td>4667507</td>\n",
       "      <td>/m/0cg9n6</td>\n",
       "      <td>2001-11-29</td>\n",
       "      <td>NaN</td>\n",
       "      <td>1972-12-06</td>\n",
       "      <td>M</td>\n",
       "      <td>510.0</td>\n",
       "      <td>NaN</td>\n",
       "      <td>Vince Corazza</td>\n",
       "      <td>28.0</td>\n",
       "      <td>/m/0cg0zwp</td>\n",
       "      <td>NaN</td>\n",
       "      <td>/m/08hqh0</td>\n",
<<<<<<< HEAD

=======
>>>>>>> refs/remotes/origin/main
       "    </tr>\n",
       "    <tr>\n",
       "      <th>316621</th>\n",
       "      <td>3915041</td>\n",
       "      <td>/m/0b6lyp</td>\n",
<<<<<<< HEAD

       "      <td>2002-01-01</td>\n",

=======
       "      <td>2002-01-01</td>\n",
>>>>>>> refs/remotes/origin/main
       "      <td>NaN</td>\n",
       "      <td>1972-12-06</td>\n",
       "      <td>M</td>\n",
       "      <td>510.0</td>\n",
       "      <td>NaN</td>\n",
       "      <td>Vince Corazza</td>\n",
       "      <td>29.0</td>\n",
       "      <td>/m/02vc5p5</td>\n",
       "      <td>NaN</td>\n",
       "      <td>/m/08hqh0</td>\n",
<<<<<<< HEAD

=======
>>>>>>> refs/remotes/origin/main
       "    </tr>\n",
       "    <tr>\n",
       "      <th>341890</th>\n",
       "      <td>29290087</td>\n",
       "      <td>/m/0b3w9mr</td>\n",
       "      <td>1997-04-07</td>\n",
       "      <td>NaN</td>\n",
       "      <td>1972-12-06</td>\n",
       "      <td>M</td>\n",
       "      <td>510.0</td>\n",
       "      <td>NaN</td>\n",
       "      <td>Vince Corazza</td>\n",
       "      <td>24.0</td>\n",
       "      <td>/m/0gvwy8x</td>\n",
       "      <td>NaN</td>\n",
       "      <td>/m/08hqh0</td>\n",
<<<<<<< HEAD

=======
>>>>>>> refs/remotes/origin/main
       "    </tr>\n",
       "    <tr>\n",
       "      <th>360967</th>\n",
       "      <td>14413223</td>\n",
       "      <td>/m/03d2rnl</td>\n",
       "      <td>2012-04-20</td>\n",
       "      <td>Young Punk Guy</td>\n",
       "      <td>1986-03-13</td>\n",
       "      <td>M</td>\n",
       "      <td>180.0</td>\n",
       "      <td>/m/0dc58y8</td>\n",
       "      <td>Zohren Weiss</td>\n",
       "      <td>26.0</td>\n",
       "      <td>/m/0m4q87d</td>\n",
       "      <td>/m/0k9tfs8</td>\n",
       "      <td>/m/0bggwvl</td>\n",
<<<<<<< HEAD

=======
>>>>>>> refs/remotes/origin/main
       "    </tr>\n",
       "    <tr>\n",
       "      <th>369731</th>\n",
       "      <td>33945838</td>\n",
       "      <td>/m/0hn8wrq</td>\n",
       "      <td>2012-09-29</td>\n",
       "      <td>Max Loflin</td>\n",
<<<<<<< HEAD

       "      <td>NaT</td>\n",

=======
       "      <td>NaT</td>\n",
>>>>>>> refs/remotes/origin/main
       "      <td>M</td>\n",
       "      <td>510.0</td>\n",
       "      <td>NaN</td>\n",
       "      <td>Benedict Smith</td>\n",
       "      <td>NaN</td>\n",
       "      <td>/m/0n3kptl</td>\n",
       "      <td>/m/0n3kptp</td>\n",
       "      <td>/m/0n3kptx</td>\n",
<<<<<<< HEAD

=======
>>>>>>> refs/remotes/origin/main
       "    </tr>\n",
       "    <tr>\n",
       "      <th>380739</th>\n",
       "      <td>4738411</td>\n",
       "      <td>/m/0ckr7s</td>\n",
       "      <td>1993-12-05</td>\n",
       "      <td>Darien - Tuxedo Mask</td>\n",
       "      <td>1972-12-06</td>\n",
       "      <td>M</td>\n",
       "      <td>510.0</td>\n",
       "      <td>NaN</td>\n",
       "      <td>Vince Corazza</td>\n",
       "      <td>20.0</td>\n",
       "      <td>/m/0bmz820</td>\n",
       "      <td>/m/0lyzygr</td>\n",
       "      <td>/m/08hqh0</td>\n",
<<<<<<< HEAD

=======
>>>>>>> refs/remotes/origin/main
       "    </tr>\n",
       "    <tr>\n",
       "      <th>393292</th>\n",
       "      <td>1244822</td>\n",
       "      <td>/m/04lq2l</td>\n",
       "      <td>2003-01-23</td>\n",
       "      <td>NaN</td>\n",
       "      <td>1972-12-06</td>\n",
       "      <td>M</td>\n",
       "      <td>510.0</td>\n",
       "      <td>NaN</td>\n",
       "      <td>Vince Corazza</td>\n",
       "      <td>30.0</td>\n",
       "      <td>/m/0bfm1b6</td>\n",
       "      <td>NaN</td>\n",
       "      <td>/m/08hqh0</td>\n",
<<<<<<< HEAD

=======
>>>>>>> refs/remotes/origin/main
       "    </tr>\n",
       "    <tr>\n",
       "      <th>406151</th>\n",
       "      <td>4578386</td>\n",
       "      <td>/m/0c9sj8</td>\n",
       "      <td>2004-04-06</td>\n",
       "      <td>NaN</td>\n",
       "      <td>1972-12-06</td>\n",
       "      <td>M</td>\n",
       "      <td>510.0</td>\n",
       "      <td>NaN</td>\n",
       "      <td>Vince Corazza</td>\n",
       "      <td>31.0</td>\n",
       "      <td>/m/03lj_70</td>\n",
       "      <td>NaN</td>\n",
       "      <td>/m/08hqh0</td>\n",
<<<<<<< HEAD

=======
>>>>>>> refs/remotes/origin/main
       "    </tr>\n",
       "    <tr>\n",
       "      <th>427957</th>\n",
       "      <td>4738587</td>\n",
       "      <td>/m/0ckrgs</td>\n",
       "      <td>1994-12-04</td>\n",
       "      <td>Tuxedo Mask</td>\n",
       "      <td>1972-12-06</td>\n",
       "      <td>M</td>\n",
       "      <td>510.0</td>\n",
       "      <td>NaN</td>\n",
       "      <td>Vince Corazza</td>\n",
       "      <td>21.0</td>\n",
       "      <td>/m/0lyz8r1</td>\n",
       "      <td>/m/01_7kc</td>\n",
       "      <td>/m/08hqh0</td>\n",
<<<<<<< HEAD

=======
>>>>>>> refs/remotes/origin/main
       "    </tr>\n",
       "  </tbody>\n",
       "</table>\n",
       "</div>"
      ],
      "text/plain": [
       "        wikipedia_id freebase_id release_date        character_name  \\\n",
       "21619        1291587   /m/04qk12   2004-09-01         young Georgie   \n",
       "49659       30865068   /m/02ml14   1998-10-15                   NaN   \n",
<<<<<<< HEAD

=======
>>>>>>> refs/remotes/origin/main
       "59719       12206655  /m/02vvw24          NaT               Dominic   \n",
       "104140      17999628  /m/047n_2q   1998-01-01                   NaN   \n",
       "205679       1373475   /m/04xmx8   2003-08-15        Jackal Johnson   \n",
       "219383        179326   /m/018gq3   1996-11-18               Herbert   \n",
       "301653       4667507   /m/0cg9n6   2001-11-29                   NaN   \n",
       "316621       3915041   /m/0b6lyp   2002-01-01                   NaN   \n",
<<<<<<< HEAD

=======
>>>>>>> refs/remotes/origin/main
       "341890      29290087  /m/0b3w9mr   1997-04-07                   NaN   \n",
       "360967      14413223  /m/03d2rnl   2012-04-20        Young Punk Guy   \n",
       "369731      33945838  /m/0hn8wrq   2012-09-29            Max Loflin   \n",
       "380739       4738411   /m/0ckr7s   1993-12-05  Darien - Tuxedo Mask   \n",
       "393292       1244822   /m/04lq2l   2003-01-23                   NaN   \n",
       "406151       4578386   /m/0c9sj8   2004-04-06                   NaN   \n",
       "427957       4738587   /m/0ckrgs   1994-12-04           Tuxedo Mask   \n",
       "\n",
<<<<<<< HEAD

=======
>>>>>>> refs/remotes/origin/main
       "        actor_dob actor_gender  actor_height actor_ethnicity      actor_name  \\\n",
       "21619  1986-03-13            M         180.0      /m/0dc58y8    Zohren Weiss   \n",
       "49659  1972-12-06            M         510.0             NaN   Vince Corazza   \n",
       "59719  1986-03-13            M         180.0      /m/0dc58y8    Zohren Weiss   \n",
       "104140 1972-12-06            M         510.0             NaN   Vince Corazza   \n",
       "205679 1972-12-06            M         510.0             NaN   Vince Corazza   \n",
       "219383 1986-03-13            M         180.0      /m/0dc58y8    Zohren Weiss   \n",
       "301653 1972-12-06            M         510.0             NaN   Vince Corazza   \n",
       "316621 1972-12-06            M         510.0             NaN   Vince Corazza   \n",
       "341890 1972-12-06            M         510.0             NaN   Vince Corazza   \n",
       "360967 1986-03-13            M         180.0      /m/0dc58y8    Zohren Weiss   \n",
       "369731        NaT            M         510.0             NaN  Benedict Smith   \n",
       "380739 1972-12-06            M         510.0             NaN   Vince Corazza   \n",
       "393292 1972-12-06            M         510.0             NaN   Vince Corazza   \n",
       "406151 1972-12-06            M         510.0             NaN   Vince Corazza   \n",
       "427957 1972-12-06            M         510.0             NaN   Vince Corazza   \n",
<<<<<<< HEAD

=======
>>>>>>> refs/remotes/origin/main
       "\n",
       "        actor_age_at_movie_release freebase_actor_map_id  \\\n",
       "21619                         18.0            /m/0k276dx   \n",
       "49659                         25.0            /m/0n9ld0y   \n",
       "59719                          NaN            /m/0k276dq   \n",
       "104140                        25.0            /m/0cg31bd   \n",
       "205679                        30.0            /m/02vbm0k   \n",
       "219383                        10.0            /m/0bggwv8   \n",
       "301653                        28.0            /m/0cg0zwp   \n",
       "316621                        29.0            /m/02vc5p5   \n",
       "341890                        24.0            /m/0gvwy8x   \n",
       "360967                        26.0            /m/0m4q87d   \n",
       "369731                         NaN            /m/0n3kptl   \n",
       "380739                        20.0            /m/0bmz820   \n",
       "393292                        30.0            /m/0bfm1b6   \n",
       "406151                        31.0            /m/03lj_70   \n",
       "427957                        21.0            /m/0lyz8r1   \n",
       "\n",
<<<<<<< HEAD

=======
>>>>>>> refs/remotes/origin/main
       "       freebase_character_id freebase_actor_id  \n",
       "21619             /m/0k276dz        /m/0bggwvl  \n",
       "49659                    NaN         /m/08hqh0  \n",
       "59719             /m/0h8hcr1        /m/0bggwvl  \n",
       "104140                   NaN         /m/08hqh0  \n",
       "205679            /m/0h60xk7         /m/08hqh0  \n",
       "219383            /m/0bggwvc        /m/0bggwvl  \n",
       "301653                   NaN         /m/08hqh0  \n",
       "316621                   NaN         /m/08hqh0  \n",
       "341890                   NaN         /m/08hqh0  \n",
       "360967            /m/0k9tfs8        /m/0bggwvl  \n",
       "369731            /m/0n3kptp        /m/0n3kptx  \n",
       "380739            /m/0lyzygr         /m/08hqh0  \n",
       "393292                   NaN         /m/08hqh0  \n",
       "406151                   NaN         /m/08hqh0  \n",
       "427957             /m/01_7kc         /m/08hqh0  "
      ]
     },
<<<<<<< HEAD
     "execution_count": 8,

=======
     "execution_count": 9,
>>>>>>> refs/remotes/origin/main
     "metadata": {},
     "output_type": "execute_result"
    }
   ],
   "source": [
<<<<<<< HEAD

    "df_characters[df_characters[\"actor_height\"] > 2.5]"

=======
    "df_characters[df_characters[\"actor_height\"] > 2.5]"
>>>>>>> refs/remotes/origin/main
   ]
  },
  {
   "cell_type": "markdown",
   "metadata": {},
   "source": [
    "After a little search on the internet, we found that for the 510.0m problem, the actor's height is 5'10\" (1.78m). We'll have to fix this value.\n",
    "Concerning the 180m problem, we can guess that the actor's height is 1.80m, but we can't find any source to confirm this (internet or other rows). We should drop these rows."
   ]
  },
  {
   "cell_type": "code",
<<<<<<< HEAD

   "execution_count": 9,
=======
   "execution_count": 10,
>>>>>>> refs/remotes/origin/main
   "metadata": {},
   "outputs": [],
   "source": [
    "df_characters.loc[df_characters[\"actor_height\"] == 510, \"actor_height\"] = 1.78\n",
    "df_characters.drop(\n",
    "    df_characters[df_characters[\"actor_height\"] > 2.5].index, inplace=True\n",
    ")"
<<<<<<< HEAD

=======
>>>>>>> refs/remotes/origin/main
   ]
  },
  {
   "cell_type": "markdown",
   "metadata": {},
   "source": [
    "### Age"
   ]
  },
  {
   "cell_type": "markdown",
   "metadata": {},
   "source": [
    "Let's then take care of the age problem by removing the rows with negative age. "
   ]
  },
  {
   "cell_type": "code",
<<<<<<< HEAD

   "execution_count": null,

=======
   "execution_count": 11,
>>>>>>> refs/remotes/origin/main
   "metadata": {},
   "outputs": [
    {
     "name": "stdout",
     "output_type": "stream",
     "text": [
      "381 such rows will be removed\n"
     ]
    }
   ],
   "source": [
<<<<<<< HEAD

=======
>>>>>>> refs/remotes/origin/main
    "print(\n",
    "    df_characters.loc[(df_characters[\"actor_age_at_movie_release\"] < 0)].shape[0],\n",
    "    \"such rows will be removed\",\n",
    ")\n",
    "\n",
    "\n",
    "df_characters = df_characters[df_characters[\"actor_age_at_movie_release\"] > 0]"
<<<<<<< HEAD

=======
>>>>>>> refs/remotes/origin/main
   ]
  },
  {
   "cell_type": "code",
<<<<<<< HEAD

   "execution_count": 11,

=======
   "execution_count": 12,
>>>>>>> refs/remotes/origin/main
   "metadata": {},
   "outputs": [
    {
     "data": {
      "text/plain": [
       "0"
      ]
     },
<<<<<<< HEAD

     "execution_count": 11,

=======
     "execution_count": 12,
>>>>>>> refs/remotes/origin/main
     "metadata": {},
     "output_type": "execute_result"
    }
   ],
   "source": [
    "# Count the number of actor born after the movie release\n",
<<<<<<< HEAD

    "df_characters[df_characters[\"actor_dob\"] > df_characters[\"release_date\"]].shape[0]"

=======
    "df_characters[df_characters[\"actor_dob\"] > df_characters[\"release_date\"]].shape[0]"
>>>>>>> refs/remotes/origin/main
   ]
  },
  {
   "cell_type": "markdown",
   "metadata": {},
   "source": [
<<<<<<< HEAD

    "### Duplicates"

=======
    "### Duplicates"
>>>>>>> refs/remotes/origin/main
   ]
  },
  {
   "cell_type": "code",
<<<<<<< HEAD

   "execution_count": 12,

=======
   "execution_count": 13,
>>>>>>> refs/remotes/origin/main
   "metadata": {},
   "outputs": [],
   "source": [
    "# Drop the rows that have duplicates\n",
<<<<<<< HEAD

    "df_characters.drop_duplicates(\n",
    "    subset=[\"freebase_id\", \"freebase_actor_id\", \"freebase_character_id\"], inplace=True\n",
    ")"

=======
    "df_characters.drop_duplicates(\n",
    "    subset=[\"freebase_id\", \"freebase_actor_id\", \"freebase_character_id\"], inplace=True\n",
    ")"
>>>>>>> refs/remotes/origin/main
   ]
  },
  {
   "cell_type": "markdown",
   "metadata": {},
   "source": [
    "## Movie dataset"
   ]
  },
  {
   "cell_type": "code",
<<<<<<< HEAD

   "execution_count": 13,
=======
   "execution_count": 14,
>>>>>>> refs/remotes/origin/main
   "metadata": {},
   "outputs": [
    {
     "name": "stdout",
     "output_type": "stream",
     "text": [
      "<class 'pandas.core.frame.DataFrame'>\n",
      "RangeIndex: 81741 entries, 0 to 81740\n",
      "Data columns (total 9 columns):\n",
      " #   Column        Non-Null Count  Dtype  \n",
      "---  ------        --------------  -----  \n",
      " 0   wikipedia_id  81741 non-null  int64  \n",
      " 1   freebase_id   81741 non-null  object \n",
<<<<<<< HEAD

      " 2   title         81741 non-null  object \n",

=======
      " 2   title         81741 non-null  object \n",
>>>>>>> refs/remotes/origin/main
      " 3   release_date  74839 non-null  object \n",
      " 4   revenue       8401 non-null   float64\n",
      " 5   runtime       61291 non-null  float64\n",
      " 6   languages     81741 non-null  object \n",
      " 7   countries     81741 non-null  object \n",
      " 8   genres        81741 non-null  object \n",
      "dtypes: float64(2), int64(1), object(6)\n",
<<<<<<< HEAD

      "memory usage: 5.6+ MB\n"

=======
      "memory usage: 5.6+ MB\n"
>>>>>>> refs/remotes/origin/main
     ]
    }
   ],
   "source": [
<<<<<<< HEAD

=======
>>>>>>> refs/remotes/origin/main
    "# For the movies metadata\n",
    "df_movies = pd.read_table(\n",
    "    CMU_MOVIE,\n",
    "    names=[\n",
    "        \"wikipedia_id\",\n",
    "        \"freebase_id\",\n",
    "        \"title\",\n",
    "        \"release_date\",\n",
    "        \"revenue\",\n",
    "        \"runtime\",\n",
    "        \"languages\",\n",
    "        \"countries\",\n",
    "        \"genres\",\n",
    "    ],\n",
    "    header=None,\n",
    ")\n",
    "df_movies.info()"
<<<<<<< HEAD

=======
>>>>>>> refs/remotes/origin/main
   ]
  },
  {
   "cell_type": "code",
<<<<<<< HEAD
   "execution_count": 14,
=======
   "execution_count": 15,
>>>>>>> refs/remotes/origin/main
   "metadata": {},
   "outputs": [
    {
     "name": "stdout",
     "output_type": "stream",
     "text": [
      "Total amount of rows that contain a NaN value:  73498\n"
     ]
    },
    {
     "data": {
      "text/html": [
       "<div>\n",
       "<style scoped>\n",
       "    .dataframe tbody tr th:only-of-type {\n",
       "        vertical-align: middle;\n",
       "    }\n",
       "\n",
       "    .dataframe tbody tr th {\n",
       "        vertical-align: top;\n",
       "    }\n",
       "\n",
       "    .dataframe thead th {\n",
       "        text-align: right;\n",
       "    }\n",
       "</style>\n",
       "<table border=\"1\" class=\"dataframe\">\n",
       "  <thead>\n",
       "    <tr style=\"text-align: right;\">\n",
       "      <th></th>\n",
       "      <th>nan_sum</th>\n",
       "      <th>nan_percentage</th>\n",
       "    </tr>\n",
       "  </thead>\n",
       "  <tbody>\n",
       "    <tr>\n",
       "      <th>wikipedia_id</th>\n",
       "      <td>0</td>\n",
       "      <td>0.000000</td>\n",
       "    </tr>\n",
       "    <tr>\n",
       "      <th>freebase_id</th>\n",
       "      <td>0</td>\n",
       "      <td>0.000000</td>\n",
       "    </tr>\n",
       "    <tr>\n",
<<<<<<< HEAD

       "      <th>title</th>\n",

=======
       "      <th>title</th>\n",
>>>>>>> refs/remotes/origin/main
       "      <td>0</td>\n",
       "      <td>0.000000</td>\n",
       "    </tr>\n",
       "    <tr>\n",
       "      <th>release_date</th>\n",
       "      <td>6902</td>\n",
       "      <td>8.443743</td>\n",
       "    </tr>\n",
       "    <tr>\n",
       "      <th>revenue</th>\n",
       "      <td>73340</td>\n",
       "      <td>89.722416</td>\n",
       "    </tr>\n",
       "    <tr>\n",
       "      <th>runtime</th>\n",
       "      <td>20450</td>\n",
       "      <td>25.018045</td>\n",
       "    </tr>\n",
       "    <tr>\n",
       "      <th>languages</th>\n",
       "      <td>0</td>\n",
       "      <td>0.000000</td>\n",
       "    </tr>\n",
       "    <tr>\n",
       "      <th>countries</th>\n",
       "      <td>0</td>\n",
       "      <td>0.000000</td>\n",
       "    </tr>\n",
       "    <tr>\n",
       "      <th>genres</th>\n",
       "      <td>0</td>\n",
       "      <td>0.000000</td>\n",
       "    </tr>\n",
       "  </tbody>\n",
       "</table>\n",
       "</div>"
      ],
      "text/plain": [
       "              nan_sum  nan_percentage\n",
       "wikipedia_id        0        0.000000\n",
       "freebase_id         0        0.000000\n",
<<<<<<< HEAD

       "title               0        0.000000\n",

=======
       "title               0        0.000000\n",
>>>>>>> refs/remotes/origin/main
       "release_date     6902        8.443743\n",
       "revenue         73340       89.722416\n",
       "runtime         20450       25.018045\n",
       "languages           0        0.000000\n",
       "countries           0        0.000000\n",
       "genres              0        0.000000"
      ]
     },
<<<<<<< HEAD
     "execution_count": 14,
=======
     "execution_count": 15,
>>>>>>> refs/remotes/origin/main
     "metadata": {},
     "output_type": "execute_result"
    }
   ],
   "source": [
    "print(\n",
    "    \"Total amount of rows that contain a NaN value: \",\n",
    "    df_movies.isna().any(axis=1).sum(),\n",
    ")\n",
    "pd.DataFrame(\n",
    "    {\n",
    "        \"nan_sum\": df_movies.isna().sum(),\n",
    "        \"nan_percentage\": df_movies.isna().mean() * 100,\n",
    "    }\n",
    ")"
   ]
  },
  {
   "cell_type": "code",
<<<<<<< HEAD
   "execution_count": 15,
=======
   "execution_count": 16,
>>>>>>> refs/remotes/origin/main
   "metadata": {},
   "outputs": [
    {
     "name": "stdout",
     "output_type": "stream",
     "text": [
      "Check for duplicate entries:\n",
      "0\n",
<<<<<<< HEAD

=======
>>>>>>> refs/remotes/origin/main
      "Check for duplicate entries with title only:\n",
      "6263\n",
      "Check for duplicate entries with title and date release:\n",
      "103\n",
      "Check for duplicate entries with title and movie runtime:\n",
<<<<<<< HEAD

=======
>>>>>>> refs/remotes/origin/main
      "628\n",
      "Check for duplicate entries with wikipedia ID:\n",
      "0\n"
     ]
    }
   ],
   "source": [
<<<<<<< HEAD

=======
>>>>>>> refs/remotes/origin/main
    "# Check for duplicate row\n",
    "print(\"Check for duplicate entries:\")\n",
    "print(df_movies.duplicated().sum())\n",
    "\n",
    "# Check for duplicated row with same name\n",
    "print(\"Check for duplicate entries with title only:\")\n",
    "print(df_movies.duplicated(subset=[\"title\"]).sum())\n",
    "\n",
    "# Check for duplicated row with same name and date release\n",
    "print(\"Check for duplicate entries with title and date release:\")\n",
    "print(df_movies.duplicated(subset=[\"title\", \"release_date\"]).sum())\n",
    "\n",
    "# Check for duplicate row with same name and runtime\n",
    "print(\"Check for duplicate entries with title and movie runtime:\")\n",
    "print(df_movies.duplicated(subset=[\"title\", \"runtime\"]).sum())\n",
    "\n",
    "# Check for duplicate row with same wikipedia ID\n",
    "print(\"Check for duplicate entries with wikipedia ID:\")\n",
    "print(df_movies.duplicated(subset=[\"wikipedia_id\"]).sum())"
<<<<<<< HEAD

=======
>>>>>>> refs/remotes/origin/main
   ]
  },
  {
   "cell_type": "markdown",
   "metadata": {},
   "source": [
    "We have some duplicate entries on the name, but the wikipedia ID is always unique."
   ]
  },
  {
   "cell_type": "code",
<<<<<<< HEAD
   "execution_count": 16,
=======
   "execution_count": 17,
>>>>>>> refs/remotes/origin/main
   "metadata": {},
   "outputs": [
    {
     "data": {
      "text/html": [
       "<div>\n",
       "<style scoped>\n",
       "    .dataframe tbody tr th:only-of-type {\n",
       "        vertical-align: middle;\n",
       "    }\n",
       "\n",
       "    .dataframe tbody tr th {\n",
       "        vertical-align: top;\n",
       "    }\n",
       "\n",
       "    .dataframe thead th {\n",
       "        text-align: right;\n",
       "    }\n",
       "</style>\n",
       "<table border=\"1\" class=\"dataframe\">\n",
       "  <thead>\n",
       "    <tr style=\"text-align: right;\">\n",
       "      <th></th>\n",
       "      <th>wikipedia_id</th>\n",
       "      <th>freebase_id</th>\n",
<<<<<<< HEAD

       "      <th>title</th>\n",

=======
       "      <th>title</th>\n",
>>>>>>> refs/remotes/origin/main
       "      <th>release_date</th>\n",
       "      <th>revenue</th>\n",
       "      <th>runtime</th>\n",
       "      <th>languages</th>\n",
       "      <th>countries</th>\n",
       "      <th>genres</th>\n",
       "    </tr>\n",
       "  </thead>\n",
       "  <tbody>\n",
       "    <tr>\n",
       "      <th>count</th>\n",
       "      <td>8.174100e+04</td>\n",
       "      <td>81741</td>\n",
       "      <td>81741</td>\n",
       "      <td>74839</td>\n",
       "      <td>8.401000e+03</td>\n",
       "      <td>6.129100e+04</td>\n",
       "      <td>81741</td>\n",
       "      <td>81741</td>\n",
       "      <td>81741</td>\n",
       "    </tr>\n",
       "    <tr>\n",
       "      <th>unique</th>\n",
       "      <td>NaN</td>\n",
       "      <td>81741</td>\n",
       "      <td>75478</td>\n",
       "      <td>20389</td>\n",
       "      <td>NaN</td>\n",
       "      <td>NaN</td>\n",
       "      <td>1817</td>\n",
       "      <td>2124</td>\n",
       "      <td>23817</td>\n",
       "    </tr>\n",
       "    <tr>\n",
       "      <th>top</th>\n",
       "      <td>NaN</td>\n",
<<<<<<< HEAD

       "      <td>/m/02w7zz8</td>\n",

=======
       "      <td>/m/03vyhn</td>\n",
>>>>>>> refs/remotes/origin/main
       "      <td>Alice in Wonderland</td>\n",
       "      <td>2006</td>\n",
       "      <td>NaN</td>\n",
       "      <td>NaN</td>\n",
       "      <td>{\"/m/02h40lc\": \"English Language\"}</td>\n",
       "      <td>{\"/m/09c7w0\": \"United States of America\"}</td>\n",
       "      <td>{\"/m/07s9rl0\": \"Drama\"}</td>\n",
       "    </tr>\n",
       "    <tr>\n",
       "      <th>freq</th>\n",
       "      <td>NaN</td>\n",
       "      <td>1</td>\n",
       "      <td>17</td>\n",
       "      <td>1011</td>\n",
       "      <td>NaN</td>\n",
       "      <td>NaN</td>\n",
       "      <td>33748</td>\n",
       "      <td>30300</td>\n",
       "      <td>6851</td>\n",
       "    </tr>\n",
       "    <tr>\n",
       "      <th>mean</th>\n",
       "      <td>1.740784e+07</td>\n",
       "      <td>NaN</td>\n",
       "      <td>NaN</td>\n",
       "      <td>NaN</td>\n",
       "      <td>4.799363e+07</td>\n",
       "      <td>1.118192e+02</td>\n",
       "      <td>NaN</td>\n",
       "      <td>NaN</td>\n",
       "      <td>NaN</td>\n",
       "    </tr>\n",
       "    <tr>\n",
       "      <th>std</th>\n",
       "      <td>1.098791e+07</td>\n",
       "      <td>NaN</td>\n",
       "      <td>NaN</td>\n",
       "      <td>NaN</td>\n",
       "      <td>1.121753e+08</td>\n",
       "      <td>4.360070e+03</td>\n",
       "      <td>NaN</td>\n",
       "      <td>NaN</td>\n",
       "      <td>NaN</td>\n",
       "    </tr>\n",
       "    <tr>\n",
       "      <th>min</th>\n",
       "      <td>3.300000e+02</td>\n",
       "      <td>NaN</td>\n",
       "      <td>NaN</td>\n",
       "      <td>NaN</td>\n",
       "      <td>1.000000e+04</td>\n",
       "      <td>0.000000e+00</td>\n",
       "      <td>NaN</td>\n",
       "      <td>NaN</td>\n",
       "      <td>NaN</td>\n",
       "    </tr>\n",
       "    <tr>\n",
       "      <th>25%</th>\n",
       "      <td>7.323695e+06</td>\n",
       "      <td>NaN</td>\n",
       "      <td>NaN</td>\n",
       "      <td>NaN</td>\n",
       "      <td>2.083193e+06</td>\n",
       "      <td>8.100000e+01</td>\n",
       "      <td>NaN</td>\n",
       "      <td>NaN</td>\n",
       "      <td>NaN</td>\n",
       "    </tr>\n",
       "    <tr>\n",
       "      <th>50%</th>\n",
       "      <td>1.777899e+07</td>\n",
       "      <td>NaN</td>\n",
       "      <td>NaN</td>\n",
       "      <td>NaN</td>\n",
       "      <td>1.063969e+07</td>\n",
       "      <td>9.300000e+01</td>\n",
       "      <td>NaN</td>\n",
       "      <td>NaN</td>\n",
       "      <td>NaN</td>\n",
       "    </tr>\n",
       "    <tr>\n",
       "      <th>75%</th>\n",
       "      <td>2.715573e+07</td>\n",
       "      <td>NaN</td>\n",
       "      <td>NaN</td>\n",
       "      <td>NaN</td>\n",
       "      <td>4.071696e+07</td>\n",
       "      <td>1.060000e+02</td>\n",
       "      <td>NaN</td>\n",
       "      <td>NaN</td>\n",
       "      <td>NaN</td>\n",
       "    </tr>\n",
       "    <tr>\n",
       "      <th>max</th>\n",
       "      <td>3.750192e+07</td>\n",
       "      <td>NaN</td>\n",
       "      <td>NaN</td>\n",
       "      <td>NaN</td>\n",
       "      <td>2.782275e+09</td>\n",
       "      <td>1.079281e+06</td>\n",
       "      <td>NaN</td>\n",
       "      <td>NaN</td>\n",
       "      <td>NaN</td>\n",
       "    </tr>\n",
       "  </tbody>\n",
       "</table>\n",
       "</div>"
      ],
      "text/plain": [
<<<<<<< HEAD

       "        wikipedia_id freebase_id                title release_date  \\\n",
       "count   8.174100e+04       81741                81741        74839   \n",
       "unique           NaN       81741                75478        20389   \n",
       "top              NaN  /m/02w7zz8  Alice in Wonderland         2006   \n",

=======
       "        wikipedia_id freebase_id                title release_date  \\\n",
       "count   8.174100e+04       81741                81741        74839   \n",
       "unique           NaN       81741                75478        20389   \n",
       "top              NaN   /m/03vyhn  Alice in Wonderland         2006   \n",
>>>>>>> refs/remotes/origin/main
       "freq             NaN           1                   17         1011   \n",
       "mean    1.740784e+07         NaN                  NaN          NaN   \n",
       "std     1.098791e+07         NaN                  NaN          NaN   \n",
       "min     3.300000e+02         NaN                  NaN          NaN   \n",
       "25%     7.323695e+06         NaN                  NaN          NaN   \n",
       "50%     1.777899e+07         NaN                  NaN          NaN   \n",
       "75%     2.715573e+07         NaN                  NaN          NaN   \n",
       "max     3.750192e+07         NaN                  NaN          NaN   \n",
       "\n",
       "             revenue       runtime                           languages  \\\n",
       "count   8.401000e+03  6.129100e+04                               81741   \n",
       "unique           NaN           NaN                                1817   \n",
       "top              NaN           NaN  {\"/m/02h40lc\": \"English Language\"}   \n",
       "freq             NaN           NaN                               33748   \n",
       "mean    4.799363e+07  1.118192e+02                                 NaN   \n",
       "std     1.121753e+08  4.360070e+03                                 NaN   \n",
       "min     1.000000e+04  0.000000e+00                                 NaN   \n",
       "25%     2.083193e+06  8.100000e+01                                 NaN   \n",
       "50%     1.063969e+07  9.300000e+01                                 NaN   \n",
       "75%     4.071696e+07  1.060000e+02                                 NaN   \n",
       "max     2.782275e+09  1.079281e+06                                 NaN   \n",
       "\n",
       "                                        countries                   genres  \n",
       "count                                       81741                    81741  \n",
       "unique                                       2124                    23817  \n",
       "top     {\"/m/09c7w0\": \"United States of America\"}  {\"/m/07s9rl0\": \"Drama\"}  \n",
       "freq                                        30300                     6851  \n",
       "mean                                          NaN                      NaN  \n",
       "std                                           NaN                      NaN  \n",
       "min                                           NaN                      NaN  \n",
       "25%                                           NaN                      NaN  \n",
       "50%                                           NaN                      NaN  \n",
       "75%                                           NaN                      NaN  \n",
       "max                                           NaN                      NaN  "
      ]
     },
<<<<<<< HEAD
     "execution_count": 16,
=======
     "execution_count": 17,
>>>>>>> refs/remotes/origin/main
     "metadata": {},
     "output_type": "execute_result"
    }
   ],
   "source": [
    "df_movies.describe(include=\"all\")"
<<<<<<< HEAD

=======
>>>>>>> refs/remotes/origin/main
   ]
  },
  {
   "cell_type": "markdown",
   "metadata": {},
   "source": [
    "Looking at the output, we observe that:\n",
    "- There a problem with the `release_date` column.\n",
    "- The `runtime` column seems to have some outliers, with at least one movie with a runtime of 0, and one of 1 million minutes."
   ]
  },
  {
   "cell_type": "markdown",
   "metadata": {},
   "source": [
    "### Release date\n",
    "\n",
    "We have a similar date problem as the one we had with the characters dataset. We'll fix it the same way."
   ]
  },
  {
   "cell_type": "code",
<<<<<<< HEAD
   "execution_count": 17,
   "metadata": {},

=======
   "execution_count": 18,
   "metadata": {},
>>>>>>> refs/remotes/origin/main
   "outputs": [],
   "source": [
    "# Convert the date strings to datetime objects\n",
    "df_movies[\"release_date\"] = df_movies[\"release_date\"].apply(convert_to_datetime)\n",
    "df_movies[\"release_date\"] = pd.to_datetime(df_movies[\"release_date\"], errors=\"coerce\")"
<<<<<<< HEAD

=======
>>>>>>> refs/remotes/origin/main
   ]
  },
  {
   "cell_type": "code",
<<<<<<< HEAD
   "execution_count": 18,
=======
   "execution_count": 19,
>>>>>>> refs/remotes/origin/main
   "metadata": {},
   "outputs": [
    {
     "data": {
<<<<<<< HEAD

      "image/png": "iVBORw0KGgoAAAANSUhEUgAABmMAAANtCAYAAABsbA87AAAAOXRFWHRTb2Z0d2FyZQBNYXRwbG90bGliIHZlcnNpb24zLjkuMiwgaHR0cHM6Ly9tYXRwbG90bGliLm9yZy8hTgPZAAAACXBIWXMAAA9hAAAPYQGoP6dpAACDN0lEQVR4nOzdd5gV5fk//nuXhUU6qLCgCNgQ7FGjqAFUAupqTNQkWNGA/mJAY4kKsaNR1MQajJooxPaJJUaNGJWqiWIJCRZUPmrAhrv4EWHFQn1+f+TifF1ZpD7sAq/XdZ1L5pn7zNxzhlnX8/aZKUoppQAAAAAAACCL4tpuAAAAAAAAYH0mjAEAAAAAAMhIGAMAAAAAAJCRMAYAAAAAACAjYQwAAAAAAEBGwhgAAAAAAICMhDEAAAAAAAAZCWMAAAAAAAAyEsYAAAAAAABkJIwBAIB1wMUXXxxFRUVrZV89e/aMnj17FpYnTJgQRUVF8cADD6yV/Z9wwgnRsWPHtbKvVTV37twYMGBAlJWVRVFRUZx++unZ9jV9+vQoKiqKkSNHZttHbSoqKoqLL764ttsAAICshDEAALCWjRw5MoqKigqvhg0bRrt27aJPnz5xww03xKeffrpG9jNjxoy4+OKLY/LkyWtke2tSXe5tRVx++eUxcuTIOOWUU+LOO++M4447rrZb2uC89tprcfHFF8f06dNruxUAAFiuktpuAAAANlRDhw6NTp06xYIFC6KioiImTJgQp59+elxzzTXxyCOPxE477VSoPf/882Pw4MErtf0ZM2bEJZdcEh07doxddtllhd/35JNPrtR+VsU39fb73/8+Fi9enL2H1TFu3LjYa6+94qKLLqrtVjZYr732WlxyySXRs2fPOj+TCgAAhDEAAFBLDjrooNh9990Ly0OGDIlx48bFIYccEt/73vfi9ddfj4022igiIkpKSqKkJO+v759//nk0atQoGjRokHU/y1O/fv1a3f+KmDlzZnTt2nWV3rt48eKYP39+NGzYcA13BQAA1FVuUwYAAHXI/vvvHxdccEG88847cddddxXGa3pmzOjRo2PfffeNFi1aRJMmTaJz587xy1/+MiL++5yXPfbYIyIiTjzxxMIt0ZY8d6Rnz56xww47xKRJk6J79+7RqFGjwnu//syYJRYtWhS//OUvo6ysLBo3bhzf+9734r333qtW07FjxzjhhBOWeu9Xt7m83mp6Zsxnn30WZ511VrRv3z5KS0ujc+fO8etf/zpSStXqioqKYtCgQfHQQw/FDjvsEKWlpbH99tvH448/XvMH/jUzZ86M/v37R5s2baJhw4ax8847xx//+MfC+iXPz5k2bVqMGjWq0Ps33SprSU933313bL/99lFaWlro54MPPoif/OQn0aZNm0Kvt99++wr1+sYbb8SRRx4ZrVq1ioYNG8buu+8ejzzySLWaWbNmxS9+8YvYcccdo0mTJtGsWbM46KCD4qWXXlpqezfeeGNsv/320ahRo2jZsmXsvvvucc8991SrWZ1+582bF2eccUZsuumm0bRp0/je974X77///lJ177zzTvzsZz+Lzp07x0YbbRQbb7xx/PCHP6z2GY8cOTJ++MMfRkTEfvvtVzgPEyZMKNT87W9/i+985zvRuHHjaNq0aZSXl8eUKVNWqFcAAFjTzIwBAIA65rjjjotf/vKX8eSTT8ZJJ51UY82UKVPikEMOiZ122imGDh0apaWl8dZbb8UzzzwTERFdunSJoUOHxoUXXhgnn3xyfOc734mIiL333ruwjY8//jgOOuig6Nu3bxx77LHRpk2bb+zrV7/6VRQVFcW5554bM2fOjOuuuy569eoVkydPLszgWREr0ttXpZTie9/7XowfPz769+8fu+yySzzxxBNx9tlnxwcffBDXXntttfp//OMf8eCDD8bPfvazaNq0adxwww1xxBFHxLvvvhsbb7zxMvv64osvomfPnvHWW2/FoEGDolOnTnH//ffHCSecELNnz46f//zn0aVLl7jzzjvjjDPOiM033zzOOuusiIjYdNNNv/GYx40bF/fdd18MGjQoNtlkk+jYsWNUVlbGXnvtVQhrNt100/jb3/4W/fv3j6qqqjj99NOXub0pU6bEPvvsE5tttlkMHjw4GjduHPfdd198//vfjz//+c/xgx/8ICIi/vOf/8RDDz0UP/zhD6NTp05RWVkZt9xyS/To0SNee+21aNeuXUT899Zwp512Whx55JHx85//PL788st4+eWX4/nnn4+jjz46ImK1+o2IGDBgQNx1111x9NFHx9577x3jxo2L8vLypepefPHFePbZZ6Nv376x+eabx/Tp0+N3v/td9OzZM1577bVo1KhRdO/ePU477bS44YYb4pe//GV06dIlIqLwzzvvvDP69esXffr0iSuvvDI+//zz+N3vfhf77rtv/Pvf/3ZbMwAA1r4EAACsVSNGjEgRkV588cVl1jRv3jztuuuuheWLLrooffXX92uvvTZFRProo4+WuY0XX3wxRUQaMWLEUut69OiRIiLdfPPNNa7r0aNHYXn8+PEpItJmm22WqqqqCuP33Xdfioh0/fXXF8Y6dOiQ+vXrt9xtflNv/fr1Sx06dCgsP/TQQyki0mWXXVat7sgjj0xFRUXprbfeKoxFRGrQoEG1sZdeeilFRLrxxhuX2tdXXXfddSki0l133VUYmz9/furWrVtq0qRJtWPv0KFDKi8v/8btfbWn4uLiNGXKlGrj/fv3T23btk3/93//V228b9++qXnz5unzzz9PKaU0bdq0pT6rAw44IO24447pyy+/LIwtXrw47b333mmbbbYpjH355Zdp0aJF1bY/bdq0VFpamoYOHVoYO+yww9L222//jcexov3WZPLkySki0s9+9rNq40cffXSKiHTRRRcVxmrazsSJE1NEpDvuuKMwdv/996eISOPHj69W++mnn6YWLVqkk046qdp4RUVFat68+VLjAACwNrhNGQAA1EFNmjSJTz/9dJnrW7RoERERDz/88Co/7L60tDROPPHEFa4//vjjo2nTpoXlI488Mtq2bRuPPfbYKu1/RT322GNRr169OO2006qNn3XWWZFSir/97W/Vxnv16hVbbbVVYXmnnXaKZs2axX/+85/l7qesrCyOOuqowlj9+vXjtNNOi7lz58ZTTz21ysfQo0ePas+YSSnFn//85zj00EMjpRT/93//V3j16dMn5syZE//6179q3NasWbNi3Lhx8aMf/Sg+/fTTwvs+/vjj6NOnT7z55pvxwQcfRMR/z3Fx8X//s2/RokXx8ccfF25p99Xtt2jRIt5///148cUXa9zn6vQbEYW/I18/hzXNpvnqLKsFCxbExx9/HFtvvXW0aNHiG/exxOjRo2P27Nlx1FFHVeuzXr16seeee8b48eOXuw0AAFjT3KYMAADqoLlz50br1q2Xuf7HP/5x/OEPf4gBAwbE4MGD44ADDojDDz88jjzyyMKX78uz2WabRYMGDVa4p2222abaclFRUWy99dbf+LyUNeGdd96Jdu3aVQuCIv7fLaneeeedauNbbLHFUtto2bJlfPLJJ8vdzzbbbLPU57es/ayMTp06VVv+6KOPYvbs2XHrrbfGrbfeWuN7Zs6cWeP4W2+9FSmluOCCC+KCCy5Y5ns322yzWLx4cVx//fVx0003xbRp02LRokWFmq/esu3cc8+NMWPGxLe//e3Yeuuto3fv3nH00UfHPvvss9r9Rvz3sysuLq4WkkVEdO7ceanaL774Iq644ooYMWJEfPDBB9WeCzRnzpxl7mOJN998MyL++/ylmjRr1my52wAAgDVNGAMAAHXM+++/H3PmzImtt956mTUbbbRRPP300zF+/PgYNWpUPP7443HvvffG/vvvH08++WTUq1dvuftZmee8rKiioqIaxxctWrRCPa0Jy9rPV7/UX9u+/lkvmc107LHHRr9+/Wp8z0477VTj+JL3/uIXv4g+ffrUWLPk787ll18eF1xwQfzkJz+JSy+9NFq1ahXFxcVx+umnV5tR1aVLl5g6dWo8+uij8fjjj8ef//znuOmmm+LCCy+MSy65ZLX6XVmnnnpqjBgxIk4//fTo1q1bNG/ePIqKiqJv374rNAtsSc2dd94ZZWVlS60vKfGfwQAArH1+CwUAgDrmzjvvjIhY5hftSxQXF8cBBxwQBxxwQFxzzTVx+eWXx3nnnRfjx4+PXr16LTMYWVVLZhwskVKKt956q9qX8C1btozZs2cv9d533nknttxyy8LyyvTWoUOHGDNmTHz66afVZse88cYbhfVrQocOHeLll1+OxYsXV5sds6b3ExGx6aabRtOmTWPRokXRq1evlXrvks+xfv36y33vAw88EPvtt1/cdttt1cZnz54dm2yySbWxxo0bx49//OP48Y9/HPPnz4/DDz88fvWrX8WQIUNWq9+I/352ixcvjrfffrvabJipU6fW2HO/fv3iN7/5TWHsyy+/XOrv1bL+Di2ZfdO6detV6hUAAHLwzBgAAKhDxo0bF5deeml06tQpjjnmmGXWzZo1a6mxXXbZJSIi5s2bFxH//XI9ImoMR1bFHXfcUe05Ng888EB8+OGHcdBBBxXGttpqq3juuedi/vz5hbFHH3003nvvvWrbWpneDj744Fi0aFH89re/rTZ+7bXXRlFRUbX9r46DDz44Kioq4t577y2MLVy4MG688cZo0qRJ9OjRY43sJ+K/s3eOOOKI+POf/xyvvvrqUus/+uijZb63devW0bNnz7jlllviww8//Mb31qtXb6kZQffff3/hmTJLfPzxx9WWGzRoEF27do2UUixYsGC1+o2Iwjm64YYbqo1fd911S9XW1PONN95Y7RZrEcv+O9SnT59o1qxZXH755bFgwYKV7hUAAHIwMwYAAGrJ3/72t3jjjTdi4cKFUVlZGePGjYvRo0dHhw4d4pFHHomGDRsu871Dhw6Np59+OsrLy6NDhw4xc+bMuOmmm2LzzTePfffdNyL+G4y0aNEibr755mjatGk0btw49txzz6WeX7KiWrVqFfvuu2+ceOKJUVlZGdddd11svfXWcdJJJxVqBgwYEA888EAceOCB8aMf/SjefvvtuOuuu5Z6VsjK9HbooYfGfvvtF+edd15Mnz49dt5553jyySfj4YcfjtNPP32pba+qk08+OW655ZY44YQTYtKkSdGxY8d44IEH4plnnonrrrtuqWfWrK5hw4bF+PHjY88994yTTjopunbtGrNmzYp//etfMWbMmBoDtyWGDx8e++67b+y4445x0kknxZZbbhmVlZUxceLEeP/99+Oll16KiIhDDjkkhg4dGieeeGLsvffe8corr8Tdd99dbZZSRETv3r2jrKws9tlnn2jTpk28/vrr8dvf/jbKy8sLx706/e6yyy5x1FFHxU033RRz5syJvffeO8aOHRtvvfXWUrWHHHJI3HnnndG8efPo2rVrTJw4McaMGVPtGTdLtlmvXr248sorY86cOVFaWhr7779/tG7dOn73u9/FcccdF9/61reib9++semmm8a7774bo0aNin322WepYA8AALJLAADAWjVixIgUEYVXgwYNUllZWfrud7+brr/++lRVVbXUey666KL01V/fx44dmw477LDUrl271KBBg9SuXbt01FFHpf/93/+t9r6HH344de3aNZWUlKSISCNGjEgppdSjR4+0/fbb19hfjx49Uo8ePQrL48ePTxGR/ud//icNGTIktW7dOm200UapvLw8vfPOO0u9/ze/+U3abLPNUmlpadpnn33SP//5z6W2+U299evXL3Xo0KFa7aeffprOOOOM1K5du1S/fv20zTbbpKuvvjotXry4Wl1EpIEDBy7VU4cOHVK/fv1qPN6vqqysTCeeeGLaZJNNUoMGDdKOO+5Y6Ovr2ysvL1/u9r6ppyX7GzhwYGrfvn2qX79+KisrSwcccEC69dZbCzXTpk2r9vks8fbbb6fjjz8+lZWVpfr166fNNtssHXLIIemBBx4o1Hz55ZfprLPOSm3btk0bbbRR2meffdLEiROXOh+33HJL6t69e9p4441TaWlp2mqrrdLZZ5+d5syZs9L9LssXX3yRTjvttLTxxhunxo0bp0MPPTS99957KSLSRRddVKj75JNPCuegSZMmqU+fPumNN96o8Rz+/ve/T1tuuWWqV69eiog0fvz4wrrx48enPn36pObNm6eGDRumrbbaKp1wwgnpn//853J7BQCANa0opVp8iiUAAAAAAMB6zjNjAAAAAAAAMhLGAAAAAAAAZCSMAQAAAAAAyEgYAwAAAAAAkJEwBgAAAAAAICNhDAAAAAAAQEYltd3AumDx4sUxY8aMaNq0aRQVFdV2OwAAAAAAQC1KKcWnn34a7dq1i+Li5c97EcasgBkzZkT79u1ruw0AAAAAAKAOee+992LzzTdfbp0wZgU0bdo0Iv77oTZr1qyWuwEAAAAAAGpTVVVVtG/fvpAfLI8wZgUsuTVZs2bNhDEAAAAAAEBExAo/2mT5NzIDAAAAAABglQljAAAAAAAAMhLGAAAAAAAAZCSMAQAAAAAAyEgYAwAAAAAAkJEwBgAAAAAAICNhDAAAAAAAQEbCGAAAAAAAgIyEMQAAAAAAABkJYwAAAAAAADISxgAAAAAAAGQkjAEAAAAAAMhIGAMAAAAAAJCRMAYAAAAAACAjYQwAAAAAAEBGwhgAAAAAAICMhDEAAAAAAAAZCWMAAAAAAAAyEsYAAAAAAABkVKthzBVXXBF77LFHNG3aNFq3bh3f//73Y+rUqdVqevbsGUVFRdVeP/3pT6vVvPvuu1FeXh6NGjWK1q1bx9lnnx0LFy6sVjNhwoT41re+FaWlpbH11lvHyJEjcx8eAAAAAABA7YYxTz31VAwcODCee+65GD16dCxYsCB69+4dn332WbW6k046KT788MPC66qrriqsW7RoUZSXl8f8+fPj2WefjT/+8Y8xcuTIuPDCCws106ZNi/Ly8thvv/1i8uTJcfrpp8eAAQPiiSeeWGvHCgAAAAAAbJiKUkqptptY4qOPPorWrVvHU089Fd27d4+I/86M2WWXXeK6666r8T1/+9vf4pBDDokZM2ZEmzZtIiLi5ptvjnPPPTc++uijaNCgQZx77rkxatSoePXVVwvv69u3b8yePTsef/zx5fZVVVUVzZs3jzlz5kSzZs1W/0ABAAAAAIB11srmBnXqmTFz5syJiIhWrVpVG7/77rtjk002iR122CGGDBkSn3/+eWHdxIkTY8cddywEMRERffr0iaqqqpgyZUqhplevXtW22adPn5g4cWKNfcybNy+qqqqqvQAAAAAAAFZFSW03sMTixYvj9NNPj3322Sd22GGHwvjRRx8dHTp0iHbt2sXLL78c5557bkydOjUefPDBiIioqKioFsRERGG5oqLiG2uqqqriiy++iI022qjauiuuuCIuueSSNX6MAAAAAADAhqfOhDEDBw6MV199Nf7xj39UGz/55JMLf95xxx2jbdu2ccABB8Tbb78dW221VZZehgwZEmeeeWZhuaqqKtq3b59lXwAAAAAAwPqtTtymbNCgQfHoo4/G+PHjY/PNN//G2j333DMiIt56662IiCgrK4vKyspqNUuWy8rKvrGmWbNmS82KiYgoLS2NZs2aVXsBAAAAAACsiloNY1JKMWjQoPjLX/4S48aNi06dOi33PZMnT46IiLZt20ZERLdu3eKVV16JmTNnFmpGjx4dzZo1i65duxZqxo4dW207o0ePjm7duq2hIwEAAAAAAKhZrYYxAwcOjLvuuivuueeeaNq0aVRUVERFRUV88cUXERHx9ttvx6WXXhqTJk2K6dOnxyOPPBLHH398dO/ePXbaaaeIiOjdu3d07do1jjvuuHjppZfiiSeeiPPPPz8GDhwYpaWlERHx05/+NP7zn//EOeecE2+88UbcdNNNcd9998UZZ5xRa8cOAAAAAABsGIpSSqnWdl5UVOP4iBEj4oQTToj33nsvjj322Hj11Vfjs88+i/bt28cPfvCDOP/886vdOuydd96JU045JSZMmBCNGzeOfv36xbBhw6Kk5P89EmfChAlxxhlnxGuvvRabb755XHDBBXHCCSesUJ9VVVXRvHnzmDNnjluWAQAAAADABm5lc4NaDWPWFcIYAAAAAABgiZXNDWr1NmUAAAAAAADrO2EMAAAAAABARsIYAAAAAACAjIQxAAAAAAAAGZXUdgMAAAAAAEB1HQePqnF8+rDytdwJa4KZMQAAAAAAABkJYwAAAAAAADISxgAAAAAAAGQkjAEAAAAAAMhIGAMAAAAAAJCRMAYAAAAAACAjYQwAAAAAAEBGwhgAAAAAAICMSmq7AQAAAAAAWNd0HDyqxvHpw8rXciesC8yMAQAAAAAAyEgYAwAAAAAAkJEwBgAAAAAAICNhDAAAAAAAQEbCGAAAAAAAgIyEMQAAAAAAABkJYwAAAAAAADISxgAAAAAAAGQkjAEAAAAAAMhIGAMAAAAAAJCRMAYAAAAAACAjYQwAAAAAAEBGJbXdAAAAAAAArO86Dh5V4/j0YeVruRNqg5kxAAAAAAAAGQljAAAAAAAAMhLGAAAAAAAAZCSMAQAAAAAAyEgYAwAAAAAAkJEwBgAAAAAAICNhDAAAAAAAQEbCGAAAAAAAgIyEMQAAAAAAABkJYwAAAAAAADISxgAAAAAAAGQkjAEAAAAAAMhIGAMAAAAAAJCRMAYAAAAAACAjYQwAAAAAAEBGwhgAAAAAAICMhDEAAAAAAAAZCWMAAAAAAAAyEsYAAAAAAABkJIwBAAAAAADISBgDAAAAAACQkTAGAAAAAAAgI2EMAAAAAABARsIYAAAAAACAjIQxAAAAAAAAGQljAAAAAAAAMhLGAAAAAAAAZCSMAQAAAAAAyEgYAwAAAAAAkJEwBgAAAAAAICNhDAAAAAAAQEbCGAAAAAAAgIyEMQAAAAAAABkJYwAAAAAAADISxgAAAAAAAGQkjAEAAAAAAMhIGAMAAAAAAJCRMAYAAAAAACAjYQwAAAAAAEBGwhgAAAAAAICMhDEAAAAAAAAZCWMAAAAAAAAyKqntBgAAAAAAgNXTcfCoGsenDytfy51QEzNjAAAAAAAAMhLGAAAAAAAAZCSMAQAAAAAAyEgYAwAAAAAAkJEwBgAAAAAAICNhDAAAAAAAQEbCGAAAAAAAgIyEMQAAAAAAABkJYwAAAAAAADISxgAAAAAAAGQkjAEAAAAAAMhIGAMAAAAAAJCRMAYAAAAAACAjYQwAAAAAAEBGwhgAAAAAAICMhDEAAAAAAAAZCWMAAAAAAAAyEsYAAAAAAABkJIwBAAAAAADISBgDAAAAAACQkTAGAAAAAAAgI2EMAAAAAABARsIYAAAAAACAjIQxAAAAAAAAGQljAAAAAAAAMhLGAAAAAAAAZCSMAQAAAAAAyEgYAwAAAAAAkJEwBgAAAAAAICNhDAAAAAAAQEbCGAAAAAAAgIyEMQAAAAAAABkJYwAAAAAAADISxgAAAAAAAGQkjAEAAAAAAMhIGAMAAAAAAJCRMAYAAAAAACAjYQwAAAAAAEBGwhgAAAAAAICMhDEAAAAAAAAZCWMAAAAAAAAyEsYAAAAAAABkVFLbDQAAAAAAQG3rOHhUjePTh5Wv5U5YH5kZAwAAAAAAkJEwBgAAAAAAICNhDAAAAAAAQEbCGAAAAAAAgIyEMQAAAAAAABkJYwAAAAAAADISxgAAAAAAAGQkjAEAAAAAAMhIGAMAAAAAAJCRMAYAAAAAACAjYQwAAAAAAEBGwhgAAAAAAICMhDEAAAAAAAAZCWMAAAAAAAAyEsYAAAAAAABkJIwBAAAAAADISBgDAAAAAACQkTAGAAAAAAAgI2EMAAAAAABARsIYAAAAAACAjIQxAAAAAAAAGQljAAAAAAAAMhLGAAAAAAAAZFRS2w0AAAAAAABrV8fBo2ocnz6sfC13smEwMwYAAAAAACCjWg1jrrjiithjjz2iadOm0bp16/j+978fU6dOrVbz5ZdfxsCBA2PjjTeOJk2axBFHHBGVlZXVat59990oLy+PRo0aRevWrePss8+OhQsXVquZMGFCfOtb34rS0tLYeuutY+TIkbkPDwAAAAAAoHbDmKeeeioGDhwYzz33XIwePToWLFgQvXv3js8++6xQc8YZZ8Rf//rXuP/+++Opp56KGTNmxOGHH15Yv2jRoigvL4/58+fHs88+G3/84x9j5MiRceGFFxZqpk2bFuXl5bHffvvF5MmT4/TTT48BAwbEE088sVaPFwAAAAAA2PDU6jNjHn/88WrLI0eOjNatW8ekSZOie/fuMWfOnLjtttvinnvuif333z8iIkaMGBFdunSJ5557Lvbaa6948skn47XXXosxY8ZEmzZtYpdddolLL700zj333Lj44oujQYMGcfPNN0enTp3iN7/5TUREdOnSJf7xj3/EtddeG3369Fnrxw0AAAAAAGw46tQzY+bMmRMREa1atYqIiEmTJsWCBQuiV69ehZrtttsutthii5g4cWJEREycODF23HHHaNOmTaGmT58+UVVVFVOmTCnUfHUbS2qWbOPr5s2bF1VVVdVeAAAAAAAAq6LOhDGLFy+O008/PfbZZ5/YYYcdIiKioqIiGjRoEC1atKhW26ZNm6ioqCjUfDWIWbJ+ybpvqqmqqoovvvhiqV6uuOKKaN68eeHVvn37NXKMAAAAAADAhqfOhDEDBw6MV199Nf70pz/VdisxZMiQmDNnTuH13nvv1XZLAAAAAADAOqpWnxmzxKBBg+LRRx+Np59+OjbffPPCeFlZWcyfPz9mz55dbXZMZWVllJWVFWpeeOGFaturrKwsrFvyzyVjX61p1qxZbLTRRkv1U1paGqWlpWvk2AAAAAAAgA1brc6MSSnFoEGD4i9/+UuMGzcuOnXqVG39brvtFvXr14+xY8cWxqZOnRrvvvtudOvWLSIiunXrFq+88krMnDmzUDN69Oho1qxZdO3atVDz1W0sqVmyDQAAAAAAgFxqdWbMwIED45577omHH344mjZtWnjGS/PmzWOjjTaK5s2bR//+/ePMM8+MVq1aRbNmzeLUU0+Nbt26xV577RUREb17946uXbvGcccdF1dddVVUVFTE+eefHwMHDizMbvnpT38av/3tb+Occ86Jn/zkJzFu3Li47777YtSoUbV27AAAAAAAwIahVmfG/O53v4s5c+ZEz549o23btoXXvffeW6i59tpr45BDDokjjjgiunfvHmVlZfHggw8W1terVy8effTRqFevXnTr1i2OPfbYOP7442Po0KGFmk6dOsWoUaNi9OjRsfPOO8dvfvOb+MMf/hB9+vRZq8cLAAAAAABseGp1ZkxKabk1DRs2jOHDh8fw4cOXWdOhQ4d47LHHvnE7PXv2jH//+98r3SMAAAAAAMDqqNWZMQAAAAAAAOs7YQwAAAAAAEBGwhgAAAAAAICMhDEAAAAAAAAZCWMAAAAAAAAyEsYAAAAAAABkJIwBAAAAAADISBgDAAAAAACQkTAGAAAAAAAgI2EMAAAAAABARsIYAAAAAACAjIQxAAAAAAAAGQljAAAAAAAAMhLGAAAAAAAAZCSMAQAAAAAAyEgYAwAAAAAAkJEwBgAAAAAAICNhDAAAAAAAQEbCGAAAAAAAgIyEMQAAAAAAABkJYwAAAAAAADISxgAAAAAAAGQkjAEAAAAAAMhIGAMAAAAAAJCRMAYAAAAAACAjYQwAAAAAAEBGwhgAAAAAAICMhDEAAAAAAAAZCWMAAAAAAAAyEsYAAAAAAABkJIwBAAAAAADIqKS2GwAAAAAAgDWt4+BRNY5PH1a+ljsBM2MAAAAAAACyEsYAAAAAAABkJIwBAAAAAADISBgDAAAAAACQkTAGAAAAAAAgI2EMAAAAAABARsIYAAAAAACAjIQxAAAAAAAAGQljAAAAAAAAMhLGAAAAAAAAZCSMAQAAAAAAyEgYAwAAAAAAkJEwBgAAAAAAIKOS2m4AAAAAAACo2zoOHlXj+PRh5Wu5k3WTmTEAAAAAAAAZCWMAAAAAAAAyEsYAAAAAAABkJIwBAAAAAADISBgDAAAAAACQkTAGAAAAAAAgI2EMAAAAAABARsIYAAAAAACAjIQxAAAAAAAAGQljAAAAAAAAMhLGAAAAAAAAZCSMAQAAAAAAyEgYAwAAAAAAkJEwBgAAAAAAICNhDAAAAAAAQEbCGAAAAAAAgIyEMQAAAAAAABkJYwAAAAAAADISxgAAAAAAAGQkjAEAAAAAAMhIGAMAAAAAAJCRMAYAAAAAACAjYQwAAAAAAEBGwhgAAAAAAICMhDEAAAAAAAAZCWMAAAAAAAAyEsYAAAAAAABkJIwBAAAAAADISBgDAAAAAACQkTAGAAAAAAAgI2EMAAAAAABARsIYAAAAAACAjIQxAAAAAAAAGQljAAAAAAAAMhLGAAAAAAAAZCSMAQAAAAAAyEgYAwAAAAAAkJEwBgAAAAAAICNhDAAAAAAAQEbCGAAAAAAAgIyEMQAAAAAAABkJYwAAAAAAADISxgAAAAAAAGQkjAEAAAAAAMhIGAMAAAAAAJCRMAYAAAAAACAjYQwAAAAAAEBGwhgAAAAAAICMSmq7AQAAAAAAWJ6Og0fVOD59WPla7gRWnpkxAAAAAAAAGQljAAAAAAAAMhLGAAAAAAAAZCSMAQAAAAAAyEgYAwAAAAAAkJEwBgAAAAAAICNhDAAAAAAAQEbCGAAAAAAAgIyEMQAAAAAAABkJYwAAAAAAADISxgAAAAAAAGQkjAEAAAAAAMhIGAMAAAAAAJCRMAYAAAAAACAjYQwAAAAAAEBGwhgAAAAAAICMhDEAAAAAAAAZCWMAAAAAAAAyEsYAAAAAAABkJIwBAAAAAADISBgDAAAAAACQkTAGAAAAAAAgI2EMAAAAAABARsIYAAAAAACAjIQxAAAAAAAAGQljAAAAAAAAMhLGAAAAAAAAZCSMAQAAAAAAyEgYAwAAAAAAkJEwBgAAAAAAICNhDAAAAAAAQEbCGAAAAAAAgIyEMQAAAAAAABkJYwAAAAAAADISxgAAAAAAAGQkjAEAAAAAAMhIGAMAAAAAAJCRMAYAAAAAACAjYQwAAAAAAEBGwhgAAAAAAICMhDEAAAAAAAAZCWMAAAAAAAAyEsYAAAAAAABkVKthzNNPPx2HHnpotGvXLoqKiuKhhx6qtv6EE06IoqKiaq8DDzywWs2sWbPimGOOiWbNmkWLFi2if//+MXfu3Go1L7/8cnznO9+Jhg0bRvv27eOqq67KfWgAAAAAAAARUcthzGeffRY777xzDB8+fJk1Bx54YHz44YeF1//8z/9UW3/MMcfElClTYvTo0fHoo4/G008/HSeffHJhfVVVVfTu3Ts6dOgQkyZNiquvvjouvvjiuPXWW7MdFwAAAAAAwBIltbnzgw46KA466KBvrCktLY2ysrIa173++uvx+OOPx4svvhi77757RETceOONcfDBB8evf/3raNeuXdx9990xf/78uP3226NBgwax/fbbx+TJk+Oaa66pFtoAAAAAAADkUOefGTNhwoRo3bp1dO7cOU455ZT4+OOPC+smTpwYLVq0KAQxERG9evWK4uLieP755ws13bt3jwYNGhRq+vTpE1OnTo1PPvmkxn3Omzcvqqqqqr0AAAAAAABWRZ0OYw488MC44447YuzYsXHllVfGU089FQcddFAsWrQoIiIqKiqidevW1d5TUlISrVq1ioqKikJNmzZtqtUsWV5S83VXXHFFNG/evPBq3779mj40AAAAAABgA1Grtylbnr59+xb+vOOOO8ZOO+0UW221VUyYMCEOOOCAbPsdMmRInHnmmYXlqqoqgQwAAAAAALBK6vTMmK/bcsstY5NNNom33norIiLKyspi5syZ1WoWLlwYs2bNKjxnpqysLCorK6vVLFle1rNoSktLo1mzZtVeAAAAAAAAq2KdCmPef//9+Pjjj6Nt27YREdGtW7eYPXt2TJo0qVAzbty4WLx4cey5556FmqeffjoWLFhQqBk9enR07tw5WrZsuXYPAAAAAAAA2ODUahgzd+7cmDx5ckyePDkiIqZNmxaTJ0+Od999N+bOnRtnn312PPfcczF9+vQYO3ZsHHbYYbH11ltHnz59IiKiS5cuceCBB8ZJJ50UL7zwQjzzzDMxaNCg6Nu3b7Rr1y4iIo4++uho0KBB9O/fP6ZMmRL33ntvXH/99dVuQwYAAAAAAJBLrYYx//znP2PXXXeNXXfdNSIizjzzzNh1113jwgsvjHr16sXLL78c3/ve92LbbbeN/v37x2677RZ///vfo7S0tLCNu+++O7bbbrs44IAD4uCDD4599903br311sL65s2bx5NPPhnTpk2L3XbbLc4666y48MIL4+STT17rxwsAAAAAAGx4Smpz5z179oyU0jLXP/HEE8vdRqtWreKee+75xpqddtop/v73v690fwAAAAAA5NFx8Kgax6cPK1/LnUB+69QzYwAAAAAAANY1whgAAAAAAICMhDEAAAAAAAAZCWMAAAAAAAAyEsYAAAAAAABkJIwBAAAAAADISBgDAAAAAACQkTAGAAAAAAAgI2EMAAAAAABARsIYAAAAAACAjIQxAAAAAAAAGQljAAAAAAAAMhLGAAAAAAAAZCSMAQAAAAAAyEgYAwAAAAAAkJEwBgAAAAAAICNhDAAAAAAAQEbCGAAAAAAAgIyEMQAAAAAAABkJYwAAAAAAADISxgAAAAAAAGQkjAEAAAAAAMhIGAMAAAAAAJCRMAYAAAAAACAjYQwAAAAAAEBGwhgAAAAAAICMhDEAAAAAAAAZCWMAAAAAAAAyEsYAAAAAAABkJIwBAAAAAADISBgDAAAAAACQkTAGAAAAAAAgI2EMAAAAAABARsIYAAAAAACAjIQxAAAAAAAAGQljAAAAAAAAMlqlMGbLLbeMjz/+eKnx2bNnx5ZbbrnaTQEAAAAAAKwvVimMmT59eixatGip8Xnz5sUHH3yw2k0BAAAAAACsL0pWpviRRx4p/PmJJ56I5s2bF5YXLVoUY8eOjY4dO66x5gAAAAAAANZ1KxXGfP/734+IiKKioujXr1+1dfXr14+OHTvGb37zmzXWHAAAAAAAwLpupcKYxYsXR0REp06d4sUXX4xNNtkkS1MAAAAAAADri5UKY5aYNm3amu4DAAAAAIB1WMfBo2ocnz6sfC13AnXPKoUxERFjx46NsWPHxsyZMwszZpa4/fbbV7sxAAAAAACA9cEqhTGXXHJJDB06NHbfffdo27ZtFBUVrem+AAAAAAAA1gurFMbcfPPNMXLkyDjuuOPWdD8AAAAAAADrleJVedP8+fNj7733XtO9AAAAAAAArHdWKYwZMGBA3HPPPWu6FwAAAAAAgPXOKt2m7Msvv4xbb701xowZEzvttFPUr1+/2vprrrlmjTQHAAAAAACwrlulMObll1+OXXbZJSIiXn311WrrioqKVrspAAAAAACA9cUqhTHjx49f030AAAAAAACsl1bpmTEAAAAAAACsmFWaGbPffvt94+3Ixo0bt8oNAQAAAAAArE9WKYxZ8ryYJRYsWBCTJ0+OV199Nfr167cm+gIAAAAAAFgvrFIYc+2119Y4fvHFF8fcuXNXqyEAAAAAAID1yRp9Zsyxxx4bt99++5rcJAAAAAAAwDptjYYxEydOjIYNG67JTQIAAAAAAKzTVuk2ZYcffni15ZRSfPjhh/HPf/4zLrjggjXSGAAAAAAAwPpglcKY5s2bV1suLi6Ozp07x9ChQ6N3795rpDEAAAAAAID1wSqFMSNGjFjTfQAAAAAAUId0HDyqxvHpw8rXciew7lulMGaJSZMmxeuvvx4REdtvv33suuuua6QpAAAAAACA9cUqhTEzZ86Mvn37xoQJE6JFixYRETF79uzYb7/94k9/+lNsuumma7JHAAAAAACAdVbxqrzp1FNPjU8//TSmTJkSs2bNilmzZsWrr74aVVVVcdppp63pHgEAAAAAANZZqzQz5vHHH48xY8ZEly5dCmNdu3aN4cOHR+/evddYcwAAAAAAAOu6VZoZs3jx4qhfv/5S4/Xr14/FixevdlMAAAAAAADri1UKY/bff//4+c9/HjNmzCiMffDBB3HGGWfEAQccsMaaAwAAAAAAWNetUhjz29/+NqqqqqJjx46x1VZbxVZbbRWdOnWKqqqquPHGG9d0jwAAAAAAAOusVXpmTPv27eNf//pXjBkzJt54442IiOjSpUv06tVrjTYHAAAAAACwrlupmTHjxo2Lrl27RlVVVRQVFcV3v/vdOPXUU+PUU0+NPfbYI7bffvv4+9//nqtXAAAAAACAdc5KhTHXXXddnHTSSdGsWbOl1jVv3jz+v//v/4trrrlmjTUHAAAAAACwrlupMOall16KAw88cJnre/fuHZMmTVrtpgAAAAAAANYXKxXGVFZWRv369Ze5vqSkJD766KPVbgoAAAAAAGB9sVJhzGabbRavvvrqMte//PLL0bZt29VuCgAAAAAAYH2xUmHMwQcfHBdccEF8+eWXS6374osv4qKLLopDDjlkjTUHAAAAAACwritZmeLzzz8/Hnzwwdh2221j0KBB0blz54iIeOONN2L48OGxaNGiOO+887I0CgAAAAAAsC5aqTCmTZs28eyzz8Ypp5wSQ4YMiZRSREQUFRVFnz59Yvjw4dGmTZssjQIAAAAAAKyLViqMiYjo0KFDPPbYY/HJJ5/EW2+9FSml2GabbaJly5Y5+gMAAAAAAFinrXQYs0TLli1jjz32WJO9AAAAAAAArHeKa7sBAAAAAACA9ZkwBgAAAAAAICNhDAAAAAAAQEbCGAAAAAAAgIyEMQAAAAAAABkJYwAAAAAAADISxgAAAAAAAGRUUtsNAAAAAAAA65eOg0fVOD59WPla7qRuMDMGAAAAAAAgI2EMAAAAAABARsIYAAAAAACAjIQxAAAAAAAAGQljAAAAAAAAMhLGAAAAAAAAZCSMAQAAAAAAyEgYAwAAAAAAkFFJbTcAAAAAAEB+HQePqnF8+rDytdwJbHjMjAEAAAAAAMhIGAMAAAAAAJCRMAYAAAAAACAjYQwAAAAAAEBGwhgAAAAAAICMhDEAAAAAAAAZCWMAAAAAAAAyEsYAAAAAAABkJIwBAAAAAADISBgDAAAAAACQkTAGAAAAAAAgI2EMAAAAAABARsIYAAAAAACAjIQxAAAAAAAAGQljAAAAAAAAMhLGAAAAAAAAZCSMAQAAAAAAyEgYAwAAAAAAkFFJbTcAAAAAAMDK6zh4VI3j04eVr+VOgOUxMwYAAAAAACAjYQwAAAAAAEBGwhgAAAAAAICMhDEAAAAAAAAZCWMAAAAAAAAyEsYAAAAAAABkJIwBAAAAAADISBgDAAAAAACQkTAGAAAAAAAgI2EMAAAAAABARsIYAAAAAACAjIQxAAAAAAAAGQljAAAAAAAAMhLGAAAAAAAAZCSMAQAAAAAAyEgYAwAAAAAAkJEwBgAAAAAAICNhDAAAAAAAQEbCGAAAAAAAgIyEMQAAAAAAABkJYwAAAAAAADISxgAAAAAAAGRUUtsNAAAAAAAQ0XHwqBrHpw8rX8udAGuamTEAAAAAAAAZ1WoY8/TTT8ehhx4a7dq1i6KionjooYeqrU8pxYUXXhht27aNjTbaKHr16hVvvvlmtZpZs2bFMcccE82aNYsWLVpE//79Y+7cudVqXn755fjOd74TDRs2jPbt28dVV12V+9AAAAAAAAAiopbDmM8++yx23nnnGD58eI3rr7rqqrjhhhvi5ptvjueffz4aN24cffr0iS+//LJQc8wxx8SUKVNi9OjR8eijj8bTTz8dJ598cmF9VVVV9O7dOzp06BCTJk2Kq6++Oi6++OK49dZbsx8fAAAAAABArT4z5qCDDoqDDjqoxnUppbjuuuvi/PPPj8MOOywiIu64445o06ZNPPTQQ9G3b994/fXX4/HHH48XX3wxdt9994iIuPHGG+Pggw+OX//619GuXbu4++67Y/78+XH77bdHgwYNYvvtt4/JkyfHNddcUy20AQAAAAAAyKHOPjNm2rRpUVFREb169SqMNW/ePPbcc8+YOHFiRERMnDgxWrRoUQhiIiJ69eoVxcXF8fzzzxdqunfvHg0aNCjU9OnTJ6ZOnRqffPLJWjoaAAAAAABgQ1WrM2O+SUVFRUREtGnTptp4mzZtCusqKiqidevW1daXlJREq1atqtV06tRpqW0sWdeyZcul9j1v3ryYN29eYbmqqmo1jwYAAAAAANhQ1dmZMbXpiiuuiObNmxde7du3r+2WAAAAAACAdVSdDWPKysoiIqKysrLaeGVlZWFdWVlZzJw5s9r6hQsXxqxZs6rV1LSNr+7j64YMGRJz5swpvN57773VPyAAAAAAAGCDVGfDmE6dOkVZWVmMHTu2MFZVVRXPP/98dOvWLSIiunXrFrNnz45JkyYVasaNGxeLFy+OPffcs1Dz9NNPx4IFCwo1o0ePjs6dO9d4i7KIiNLS0mjWrFm1FwAAAAAAwKqo1TBm7ty5MXny5Jg8eXJEREybNi0mT54c7777bhQVFcXpp58el112WTzyyCPxyiuvxPHHHx/t2rWL73//+xER0aVLlzjwwAPjpJNOihdeeCGeeeaZGDRoUPTt2zfatWsXERFHH310NGjQIPr37x9TpkyJe++9N66//vo488wza+moAQAAAACADUlJbe78n//8Z+y3336F5SUBSb9+/WLkyJFxzjnnxGeffRYnn3xyzJ49O/bdd994/PHHo2HDhoX33H333TFo0KA44IADori4OI444oi44YYbCuubN28eTz75ZAwcODB222232GSTTeLCCy+Mk08+ee0dKAAAAAAAsMGq1TCmZ8+ekVJa5vqioqIYOnRoDB06dJk1rVq1invuuecb97PTTjvF3//+91XuEwAAAAAAYFXVahgDAAAAALC+6jh4VI3j04eVr+VOgNpWq8+MAQAAAAAAWN8JYwAAAAAAADISxgAAAAAAAGQkjAEAAAAAAMhIGAMAAAAAAJCRMAYAAAAAACAjYQwAAAAAAEBGwhgAAAAAAICMhDEAAAAAAAAZCWMAAAAAAAAyEsYAAAAAAABkJIwBAAAAAADISBgDAAAAAACQkTAGAAAAAAAgI2EMAAAAAABARsIYAAAAAACAjIQxAAAAAAAAGQljAAAAAAAAMiqp7QYAAAAAANaEjoNH1Tg+fVh5rdQDLGFmDAAAAAAAQEbCGAAAAAAAgIyEMQAAAAAAABkJYwAAAAAAADISxgAAAAAAAGQkjAEAAAAAAMhIGAMAAAAAAJCRMAYAAAAAACAjYQwAAAAAAEBGwhgAAAAAAICMhDEAAAAAAAAZCWMAAAAAAAAyEsYAAAAAAABkJIwBAAAAAADISBgDAAAAAACQkTAGAAAAAAAgI2EMAAAAAABARsIYAAAAAACAjEpquwEAAAAAII+Og0fVOD59WPla7gRgw2ZmDAAAAAAAQEbCGAAAAAAAgIyEMQAAAAAAABkJYwAAAAAAADISxgAAAAAAAGQkjAEAAAAAAMiopLYbAAAAAAA2DB0Hj6pxfPqw8rXcCcDaJYwBAAAAgHXEhhZmbGjHC6y/3KYMAAAAAAAgI2EMAAAAAABARsIYAAAAAACAjDwzBgAAAACICM9oAchFGAMAAAAArBLhDcCKcZsyAAAAAACAjIQxAAAAAAAAGQljAAAAAAAAMhLGAAAAAAAAZCSMAQAAAAAAyKikthsAAAAAgPVFx8GjahyfPqx8LXcCQF1iZgwAAAAAAEBGwhgAAAAAAICMhDEAAAAAAAAZCWMAAAAAAAAyEsYAAAAAAABkJIwBAAAAAADISBgDAAAAAACQkTAGAAAAAAAgI2EMAAAAAABARsIYAAAAAACAjEpquwEAAACguo6DR9U4Pn1Y+VruBACANcHMGAAAAAAAgIyEMQAAAAAAABm5TRkAAAAA1BK3JQTYMJgZAwAAAAAAkJEwBgAAAAAAICO3KQMAAADWa24DBQDUNjNjAAAAAAAAMhLGAAAAAAAAZCSMAQAAAAAAyEgYAwAAAAAAkJEwBgAAAAAAIKOS2m4AAAAAAOqqjoNH1Tg+fVj5Wu4EgHWZmTEAAAAAAAAZmRkDAAAArFPMVAAA1jVmxgAAAAAAAGQkjAEAAAAAAMhIGAMAAAAAAJCRMAYAAAAAACCjktpuAAAAAKAu6Th4VI3j04eVr+VO6iafDwCsPGEMAAAAwGoQTgAAyyOMAQAAACAbYRUAeGYMAAAAAABAVsIYAAAAAACAjNymDAAAAIB1ltugAbAuEMYAAAAAbMA2tDBjQzteAOoGYQwAAAAAdYawBID1kWfGAAAAAAAAZCSMAQAAAAAAyMhtygAAAADqMLftAoB1nzAGAAAAWKOEBwAA1blNGQAAAAAAQEZmxgAAACyH/8ufDZ1rAABg9QhjAAAAgFol7FmzfJ4AUPe4TRkAAAAAAEBGZsYAAAAArEVmrgDAhsfMGAAAAAAAgIyEMQAAAAAAABkJYwAAAAAAADLyzBgAAGCD43kNAADA2mRmDAAAAAAAQEbCGAAAAAAAgIyEMQAAAAAAABkJYwAAAAAAADIqqe0GAAAAgLWr4+BRNY5PH1a+ljsBANgwmBkDAAAAAACQkTAGAAAAAAAgI7cpAwAA1nluuQQAANRlZsYAAAAAAABkJIwBAAAAAADISBgDAAAAAACQkTAGAAAAAAAgI2EMAAAAAABARiW13QAAAAB1S8fBo2ocnz6sfC13AgAA6wdhDAAAwHpOuFL7nAMAgA2b25QBAAAAAABkZGYMAAAAq2V9mPWxPhwDAAB1lzAGAIAV4otKWHG5rxfXIwAArFvcpgwAAAAAACAjYQwAAAAAAEBGblMGAEAWbqMEAAAA/yWMAQAAgHWcABwAoG5zmzIAAAAAAICMhDEAAAAAAAAZCWMAAAAAAAAyEsYAAAAAAABkVFLbDQAAAMDyeEA9AADrMmEMAAAAa13ucEV4AwBAXSKMAQAAqGWCAwAAWL8JYwAAqBN8GQ0AAMD6qri2G/gmF198cRQVFVV7bbfddoX1X375ZQwcODA23njjaNKkSRxxxBFRWVlZbRvvvvtulJeXR6NGjaJ169Zx9tlnx8KFC9f2oQAAAAAAABuoOj8zZvvtt48xY8YUlktK/l/LZ5xxRowaNSruv//+aN68eQwaNCgOP/zweOaZZyIiYtGiRVFeXh5lZWXx7LPPxocffhjHH3981K9fPy6//PK1fiwAAHWJmSgAAACwdtT5MKakpCTKysqWGp8zZ07cdtttcc8998T+++8fEREjRoyILl26xHPPPRd77bVXPPnkk/Haa6/FmDFjok2bNrHLLrvEpZdeGueee25cfPHF0aBBg7V9OAAAAAAAwAamzocxb775ZrRr1y4aNmwY3bp1iyuuuCK22GKLmDRpUixYsCB69epVqN1uu+1iiy22iIkTJ8Zee+0VEydOjB133DHatGlTqOnTp0+ccsopMWXKlNh1111r3Oe8efNi3rx5heWqqqp8BwgAwHrBTCPYsLjmAQBYGXU6jNlzzz1j5MiR0blz5/jwww/jkksuie985zvx6quvRkVFRTRo0CBatGhR7T1t2rSJioqKiIioqKioFsQsWb9k3bJcccUVcckll6zZgwEAyMwXgwAAAFA31ekw5qCDDir8eaeddoo999wzOnToEPfdd19stNFG2fY7ZMiQOPPMMwvLVVVV0b59+2z7AwAgP2EVAAAAtaVOhzFf16JFi9h2223jrbfeiu9+97sxf/78mD17drXZMZWVlYVnzJSVlcULL7xQbRuVlZWFdctSWloapaWla/4AAACAFSI8AwAA1ifFtd3Aypg7d268/fbb0bZt29htt92ifv36MXbs2ML6qVOnxrvvvhvdunWLiIhu3brFK6+8EjNnzizUjB49Opo1axZdu3Zd6/0DAAAAAAAbnjo9M+YXv/hFHHroodGhQ4eYMWNGXHTRRVGvXr046qijonnz5tG/f/8488wzo1WrVtGsWbM49dRTo1u3brHXXntFRETv3r2ja9eucdxxx8VVV10VFRUVcf7558fAgQPNfAEAWMeZOQEAAMC6ok6HMe+//34cddRR8fHHH8emm24a++67bzz33HOx6aabRkTEtddeG8XFxXHEEUfEvHnzok+fPnHTTTcV3l+vXr149NFH45RTTolu3bpF48aNo1+/fjF06NDaOiQAAAAAAGADU6fDmD/96U/fuL5hw4YxfPjwGD58+DJrOnToEI899tiabg0AAAAAAGCFrFPPjAEAAAAAAFjXCGMAAAAAAAAyqtO3KQMAgNrScfCoGsenDytfy50AAACwrjMzBgAAAAAAICMzYwAAoBaYeQMAALDhEMYAANRRvqwHAACA9YMwBgAAyE64CAAAbMg8MwYAAAAAACAjYQwAAAAAAEBGwhgAAAAAAICMhDEAAAAAAAAZldR2AwAAGwoPMAcAAIANk5kxAAAAAAAAGQljAAAAAAAAMhLGAAAAAAAAZOSZMQAAq8gzYAAAAIAVYWYMAAAAAABARmbGALBazAwAAAAAgG9mZgwAAAAAAEBGwhgAAAAAAICM3KYMAABYaW5TCQAAsOLMjAEAAAAAAMhIGAMAAAAAAJCR25QBsFa5rQ0AAAAAGxphDAAArAOE2QAAAOsutykDAAAAAADISBgDAAAAAACQkTAGAAAAAAAgI8+MAQCA9ZBnzAAAANQdwhgAAEB4AwAAkJHblAEAAAAAAGQkjAEAAAAAAMhIGAMAAAAAAJCRZ8YAUI1nBgAAAADAmmVmDAAAAAAAQEbCGAAAAAAAgIyEMQAAAAAAABkJYwAAAAAAADISxgAAAAAAAGRUUtsNAADUFR0Hj6pxfPqw8rXcCQAAALA+MTMGAAAAAAAgI2EMAAAAAABARsIYAAAAAACAjIQxAAAAAAAAGZXUdgMAALl0HDyqxvHpw8rXcicAAADAhkwYAwArwZf7AAAAAKwstykDAAAAAADISBgDAAAAAACQkduUAQDrDLeJAwAAANZFZsYAAAAAAABkZGYMAHWamRAAAAAArOvMjAEAAAAAAMhIGAMAAAAAAJCRMAYAAAAAACAjYQwAAAAAAEBGJbXdAADUpo6DR9U4Pn1Y+VruZMPk8wcAAAA2BGbGAAAAAAAAZCSMAQAAAAAAyMhtygBYr7jtVe3y+QMAAAAsTRgDAOsw4QcAAABA3SeMAYANiPAGAAAAYO0TxgCs53z5XrvW9c9/Xe8fAAAAoC4oru0GAAAAAAAA1mfCGAAAAAAAgIyEMQAAAAAAABkJYwAAAAAAADISxgAAAAAAAGQkjAEAAAAAAMhIGAMAAAAAAJCRMAYAAAAAACAjYQwAAAAAAEBGJbXdAADw/3QcPKrG8enDytdyJwAAAACsKWbGAAAAAAAAZCSMAQAAAAAAyEgYAwAAAAAAkJEwBgAAAAAAICNhDAAAAAAAQEbCGAAAAAAAgIyEMQAAAAAAABkJYwAAAAAAADISxgAAAAAAAGQkjAEAAAAAAMhIGAMAAAAAAJCRMAYAAAAAACAjYQwAAAAAAEBGwhgAAAAAAICMhDEAAAAAAAAZCWMAAAAAAAAyEsYAAAAAAABkJIwBAAAAAADISBgDAAAAAACQkTAGAAAAAAAgI2EMAAAAAABARiW13QAAAAAAALBh6zh4VI3j04eVr+VO8jAzBgAAAAAAICNhDAAAAAAAQEbCGAAAAAAAgIyEMQAAAAAAABkJYwAAAAAAADIqqe0GAFg5HQePqnF8+rDytdwJAAAAALAizIwBAAAAAADIyMwYgFpmpgsAAAAArN/MjAEAAAAAAMhIGAMAAAAAAJCRMAYAAAAAACAjYQwAAAAAAEBGwhgAAAAAAICMhDEAAAAAAAAZCWMAAAAAAAAyEsYAAAAAAABkJIwBAAAAAADISBgDAAAAAACQkTAGAAAAAAAgI2EMAAAAAABARsIYAAAAAACAjIQxAAAAAAAAGQljAAAAAAAAMhLGAAAAAAAAZCSMAQAAAAAAyEgYAwAAAAAAkJEwBgAAAAAAICNhDAAAAAAAQEbCGAAAAAAAgIyEMQAAAAAAABkJYwAAAAAAADISxgAAAAAAAGRUUtsNwKroOHhUjePTh5Wv5U4AAAAAAOCbmRkDAAAAAACQkTAGAAAAAAAgI7cpA1jD3EYPAAAAAPgqYQzAcghXAAAAAIDV4TZlAAAAAAAAGZkZA7XATAsAAAAAgA2HMAbY4AjDAAAAAIC1SRgDNfBlPQAAAAAAa4owBtYBwqFv5vMBAAAAAOoyYQx1Qu4v031ZDwAAAABAbRHGAAAAAAAA65R17X/A36DCmOHDh8fVV18dFRUVsfPOO8eNN94Y3/72t2u7Lah169oPLgAAAACAdckGE8bce++9ceaZZ8bNN98ce+65Z1x33XXRp0+fmDp1arRu3bq221uvLOuL/Yj198t9YcY3W9nPx+cJAAAAAKxPNpgw5pprromTTjopTjzxxIiIuPnmm2PUqFFx++23x+DBg2u5O1izhBkAAAAAAHXHBhHGzJ8/PyZNmhRDhgwpjBUXF0evXr1i4sSJS9XPmzcv5s2bV1ieM2dORERUVVXlbzYidrjoiRrHX72kT63Ur6zF8z5f5rplfYbLeo/6ulm/supa/+rVq1evXr169eprt74u9qRevXr16tWrV69+/a5f09+jL9lPSqnGuq8rSitauQ6bMWNGbLbZZvHss89Gt27dCuPnnHNOPPXUU/H8889Xq7/44ovjkksuWdttAgAAAAAA65D33nsvNt988+XWbRAzY1bWkCFD4swzzywsL168OGbNmhUbb7xxFBUVFcarqqqiffv28d5770WzZs2Wu90Nrb4u9qRevXr16tWrV69evfq6U18Xe1KvXr169erVq1evfkXqU0rx6aefRrt27Za7jYgNJIzZZJNNol69elFZWVltvLKyMsrKypaqLy0tjdLS0mpjLVq0WOb2mzVrtsL/obEh1tfFntSrV69evXr16tWrV1936utiT+rVq1evXr169erVL6++efPmK/z+4hWuXIc1aNAgdttttxg7dmxhbPHixTF27Nhqty0DAAAAAABY0zaImTEREWeeeWb069cvdt999/j2t78d1113XXz22Wdx4okn1nZrAAAAAADAemyDCWN+/OMfx0cffRQXXnhhVFRUxC677BKPP/54tGnTZpW3WVpaGhdddNFStzRTX3d7Uq9evXr16tWrV69efd2pr4s9qVevXr169erVq1e/OvXLUpRSSqu1BQAAAAAAAJZpg3hmDAAAAAAAQG0RxgAAAAAAAGQkjAEAAAAAAMhIGAMAAAAAAJCRMAYAAAAAACAjYQwAAAAAADWaN29ezJs3r7bbWG0TJkyIL774Isu2582bF2+//XbWz6mysjIqKiq+sWbRokVRWVkZH3300Qptc86cOTF16tSYOnVqzJkzZ020ucaklGLRokUrXD9y5Mhsx/Dmm2/G2LFj46233lqt7Qhj6qCKiop4+OGH45ZbbolbbrklHn744eVeaDl9/S/9888/H08//XQsWLBghd5/4oknxowZM1aodsGCBfHmm2+ukQtn0qRJq72NHBYuXBgvvfRSPPHEE/HEE0/ESy+9tMKf5de38+67767x/iorK1dqu5dcckn83//93wrXr+ixLly4MEaPHh233XZbjBkzZqm/hyuzzyUWLVoU//nPf2Lx4sUR8d9/Ud53333xpz/9KSorK2t8z2effRZPP/103HvvvXH//ffHpEmTIqW0zH24fl2/K7qdHNdvhGv461b2Gq7r59j5rc75dX6/3rfzu3zr6vn1O5bfsVZ0O67fleP6XXeu34i6ew07x+vnz+jRo0fHwQcfHC1btoxGjRpFo0aNomXLlnHwwQfHmDFjVmpbr7/+emy55ZbVxl566aW47LLL4qabblrq51dVVVX85Cc/qTb2hz/8Ifr16xcjRoyIiIh77703unTpEltuuWVcdNFFK9RH7969Y/r06UuNz5w5s9ry5MmTo1+/frHPPvvEkUceGRMmTKi2fuTIkTFx4sSIiPjyyy+jf//+0bhx49h2222jSZMm8dOf/rRaKLPjjjvGpZdeGu+9994K9Tlr1qw48sgjY4sttohTTjklFi1aFAMGDIi2bdvGZpttFnvvvXd8+OGH1d4zatSo6N69ezRu3DjatWsXZWVl0aJFizjuuONq/HfYH/7wh+jatWu0atUqunbtWu3Pt9122wr1ucRLL70U9erVqzb22GOPxYABA+Kcc86JN954o9q6Tz75JPbff//C8sKFC+P888+PHj16FM7l1VdfHU2aNIlGjRpFv379Yv78+cvt4+STT67x2n3hhReq/Vx49NFHo0ePHrHZZpvF7rvvHnfccUe1+iuuuCLGjh1b6LVXr17RuXPn+O53vxudO3eOgw46KGbPnr3cfmqUWCmVlZVp7Nixafbs2SmllCoqKtKVV16ZrrjiivTyyy/X+J633347/fGPf0zDhg1LV111VXrggQfSnDlzlqqbO3duOuaYY1K9evVSSUlJat26dWrdunUqKSlJ9erVS8cee2z67LPPVrjXuXPnpqeeeqqwPH/+/HT22WenrbbaKu2xxx7ptttuq1ZfUVGRiouLC8szZsxI++yzT6pXr17q3r17mjVrViovL09FRUWpqKgobbvttmnGjBmF+pdeeqnGV/369dNf/vKXwvISV155Zfr8889TSiktXLgwnXXWWalBgwapuLg4lZSUpBNPPDHNnz9/mcf3ySefpFtvvTWdf/756fe//33hnCxRVFSUttpqq/SrX/0qffDBByv0meU8v4sWLUrnnXdeatGiReEzXPJq0aJFOv/889OiRYtWqM+UUpo8eXK185VSSsOHD08HHHBA+uEPf5jGjBlTbd1HH32UOnXqVFiuqqpKxxxzTNpiiy3S8ccfn+bNm5d+9rOfpaKiolRcXJy6d+9e7TjmzJmz1Gv27Nmpfv366fnnny+MLXHvvfemefPmFZZvvPHGtMUWW6Ti4uK08cYbp0suuaRaf4MGDUp//etfU0opvffee2m77bZL9erVS23atEn16tVLO+64Y3r//fcL9cXFxWn//fdPd999d/ryyy+X+3m99NJLqW3btqm4uDjtsMMO6d1330077LBDaty4cWrSpElq2bJleuGFFwr1ixYtSmeffXZq1KhRKi4uTsXFxYXz1aFDh/TII49U277r1/W7utdvSq7hb5L7GvYz2vl1fp3fJZzfunV+/Y7ldyzXr+v3q9vbkK/flOreNewcr78/o0eOHJlKSkpS375904gRI9Jjjz2WHnvssTRixIh01FFHpfr166c77rhjhXpMaemfz0888URq0KBB2n777dMWW2yRNt544zRu3LjC+q+f22uvvTY1btw4HX744alt27bpsssuSxtvvHG67LLL0iWXXJKaNWuWbrnllkL9rrvuWuOrqKgodenSpbC8RHFxcaqsrEwppfTMM8+k+vXrpx49eqSzzz47ffe7300lJSXV/m526tQpPffccymllH7xi1+kjh07pgcffDC9/vrr6aGHHkrbbrttOvvsswv1RUVFaeONN0716tVLffr0SQ888EBasGDBMj+vn/zkJ2mHHXZIN954Y+rRo0c67LDD0k477ZT+8Y9/pGeffTbtscce6fjjjy/U33HHHalp06bprLPOSuedd14qKytLgwcPTr/73e9Sjx490iabbJL+93//t1B/1VVXpUaNGqXBgwen8ePHp9deey299tprafz48WnIkCGpcePG6eqrr16xk5v+e36LiooKy3fffXeqV69eKi8vT/vuu29q2LBhuuuuuwrrv35+zz///NSmTZt05plnpq5du6af/vSnqX379umuu+5Kf/zjH9Nmm22WrrzyykJ9y5Yta3wVFRWl5s2bF5aX+Or5feSRR1JxcXE6/vjj0/Dhw9OAAQNSSUlJevDBBwv1m2++efrXv/6VUkppwIABadddd03/+te/0hdffJEmT56c9tprr9S/f/8V/ny+ShizEsaPH58aN26cioqKUllZWZo8eXLafPPN0zbbbJM6d+6cSktL0xNPPFGonzt3bjryyCMLP/SLi4tTWVlZqlevXmrSpEn67W9/W237/fv3T9tss016/PHH08KFCwvjCxcuTE888UTadttt04ABA1a436//oLvoootSmzZt0tVXX53OO++81Lx583TyyScX1ldUVFS7cI477ri09957p0ceeST9+Mc/TnvvvXf6zne+k95///30zjvvpH322ScNHDiwUL/kGL/+S/RXx7/az1cvhKuvvjq1bNky3X777WnKlCnprrvuSq1bt652of3gBz9I999/f0oppVdffTVtsskmadNNN0177rlnatOmTSorK0uvvfZatX5OOumkwi8C5eXl6S9/+Uu1z/arcp/fs88+O2266abp5ptvTtOmTUuff/55+vzzz9O0adPSLbfcklq3bp3OOeecFTu5aenze/3116dGjRqlgQMHpmOPPTY1aNAgXX755YX1X/9BN2jQoLTddtulG264IfXs2TMddthhaYcddkj/+Mc/0lNPPZW6du2afvnLX1Y7XzW9VuT83n777alhw4bpwgsvTKNGjUqXXXZZaty4cfr9739fqG/Tpk165ZVXUkop/ehHP0q9evVKH330UUoppY8//jgdcsgh6cgjjyzUFxUVpQMPPDA1aNAgtWzZMg0aNCj9+9//Xubn1adPn3TkkUemV155Jf385z9PXbp0ST/84Q/T/Pnz04IFC9Kxxx6bevXqVag/99xzU5cuXdJf//rXNHr06NS9e/d05ZVXptdffz1dcMEFS/19cP26flfn+k3JNVzb17Cf0c6v8+v8LuH81q3z63csv2O5fl2/S2zo1++SnurSNewcr78/o7fZZpulzvdXDR8+PG299daF5TPOOOMbX8cee2y1z7Jbt26Fn6eLFy9OV155ZWrSpMn/396bx1VV7f//73M4yiiSoAIikAOCV0zEVNCULBU0pyy9WpnlFYe8pR/9WteSrGs0aLe8mU0mWamZZvnR1AaRj6KlgUOoKHOk13kMFDB4/f7wd/Zlcxjc6sZ9PK/n43EeD/fZT9Zew15rb/f7rLWxceNGpW0r+6GhoVi2bBkAYPfu3bBYLFi8eLGyf/HixYiMjFS2LRYLYmNjMWfOHOXz4osvwmw2Y/Lkycp3leve2rZ9+/bFk08+qSrvM888gz59+ijbzs7O+O233wAAISEhSr6t/N///R8CAwNV6R89ehRff/01Bg0aBIvFgqZNm2L69Ok2/RwA/Pz8sH37dqUuTCYTvv/+e2V/amoqWrRooaqfL774Qtn+5ZdfEBAQgIqKCgDAyJEjMWzYMGV/YGAgVq5caXNcK1988QVatmypbA8bNqzWT58+fVTt1alTJyxYsEDZXrlyJdzd3ZU2q9q+rVq1Un58kJ2dDbPZrCrPypUr0aFDB2Xbw8MDAwcOxCeffKJ8kpKS4OTkhFdeeUX5rnL9W9u3Z8+eeO6551TlfeWVV9C9e3dl29nZGQUFBQCA4OBgVSAOANLS0uDn51dj/dUGgzEa6NmzJ5566in88ccfmDdvHlq0aKEaxGfMmIHo6GhlOz4+Hj169EBGRgays7Px0EMPYebMmSguLsbHH38MNzc3ZSABAC8vL6WjVUdqaiq8vLyuOb9VL2Jt2rRRTmzg6sndpk0bjB07FhUVFTYdwc/PDz/99BOAqzd6JpNJ9UuizZs3o1WrVsr2XXfdhYEDByIzMxMFBQUoKChAfn4+LBYLfvjhB+U7K5U7QkREhCqCDQCff/45/vKXvyjbd9xxBzIzMwEAcXFxGD16tPKrorKyMowbNw79+vWzSf/KlStYvXo1BgwYoPyKaObMmTh8+LDqeHq3b/PmzbFp06ZqWuoqmzZtQrNmzZTtmqL41k9oaKiqvdq3b6863vbt29G0aVPMnj0bgO1A17JlS+VXB0ePHoXJZFKdH+vXr0e7du2U7RYtWmDgwIFITk5GSkoKUlJSsGXLFjg5OSEpKUn5rmr9A0DXrl3xxhtvqMq7aNEi1a8QXFxckJeXB+BqBHrnzp0qPyMjAz4+Pjbpnzp1CvPnz0f79u1hNpvRuXNnLFq0yOZXHXfccYdygbt06RKcnJxUx9i/fz+8vb2VbT8/P2zdulXZPnLkCDw8PJRfmL388suIiopS9rP/sv/eSP8F2IdvdR/mGM32Zfuyfdm+6vSN0r68x+I9Fvsv+68VR++/lY9hlD7MNr59x2hnZ2ccOnSohpYCDh06BBcXF2XbOtbExMRU++nSpYuqrTw9PZGTk6NKc9myZXB3d8e6dets2tbV1VUJfljzt3//fmU7Oztbda6lpqaidevWSEhIUM2wtFgsOHDggE15Krdt5fPIijWYZiUoKEi5XrRo0QK//PKLyj948CDc3d2rTR+4OosrMTERbdu2hdlsRlRUlGrml5ubm+rca9CggRKcB4C8vDxV+q6ursjPz1flwWKxKDOsdu7cqaofFxeXaoNAVg4cOABXV1dVWnFxcRg7dmy1n8GDB6vay93dXbl+WUlOToaHhwfee+89m/Z1cXFBYWGhatvad6zlbdSokbKdnZ2tzA76448/VPmsq32bNWuGtLQ01f5Dhw6p6ickJATr168HcHUWVNVxbs+ePfD09Kyu6uqEwRgNVB4orly5AovFovqVSVZWFho3bqxs+/j4qBr37NmzcHFxUaZoLly4EJ06dVKlX7XzVmbXrl2qhq5pSpb14+npaTNwVe2YR44cQUhICB555BEcPXq01o7g7u6O7OxsZfu3335TdczS0lI888wzaN++vTKVC6i9I5w8eRIA4O3trRpUgKsdzc3NTZV/a/37+fmpjgEAhw8fVtV/1YHOWt6XX34ZrVq1gtlsxj333KPs07t93dzcapwiClydHlt5IHV2dsbjjz+uiuJX/kyYMKHO9s3IyEDz5s3x3HPP2Qx0zs7OqvZ1c3NTXdgLCgpU9X/mzBkMHToU9957r2oq/LW0r4+PD/bu3avan5OToxpIO3bsqES9w8LC8MMPP6j8HTt2oEmTJqr0q7bvjh078OSTT6JRo0Zwc3PDY489puzz8vJSpmSWlZXByckJ6enpyv7MzEzVFMZGjRohNzdX2S4vL4fFYsGxY8cAXL0wVa4f9l/23xvpv9Y6Yh++dX2YYzTbl+3L9mX7/jd9I7Uv77F4j8X+y/7L/qs+hpH6MNv49h2jO3furFpmqyozZ85E586dle2QkBB89tlnNfp79uxRtVXTpk1tHogDwIoVK+Dm5ob33ntP5Xt7e6uCBwEBAapgRXZ2Njw8PFRpnT9/Hn/961/RrVs3pZ5qa9ucnBxcuHABd955p01b5eTkqNp21qxZiIqKwrlz5/Dcc89h0KBBSlCguLgYI0aMUAXaKs+qqsqWLVvw6KOPqq53d911lzIzacOGDWjUqBHefPNNZf97772nmikSFhamzMICgPT0dDRs2FCZVZWdna1K/5577sGYMWOqXSrtzz//xJgxY9CrVy/lu/DwcNVMpKpUbd/qAloAkJKSAg8PDzz//PMqv3nz5qr7gejoaNV1NTMz0yb4ceXKFcycOROtW7dGamoqgNrbd8uWLdi3bx+CgoJUS3ACV4Mxlc+fefPmISwsDNnZ2XjzzTcRFRWlnEN5eXmIiYlRzUzVAoMxGvDx8VGirsXFxTCbzaoTa9++faooaeUbG+DqzY3FYlEG7qysLFUUefTo0coadFXZvXs3IiMj8cgjjyjfubm5Yfr06aopWZU/L730kurEvvPOO23WyAWu/uInJCQEffv2VfmBgYGqX8U8++yzOHPmjLK9d+9eVXmtbNiwAQEBAUhMTFRuzmrqCK+88goWLFgAPz8/mylf+/btU934devWDR9++CGAq79A+Prrr1X+999/D19fX2W7toEOAH788UeMHj1a2da7fQcMGIB+/fop08orc+rUKcTGxmLgwIHKd5GRkVi0aFGN+a860LVs2VL1KyUrBw4cQPPmzTFmzBiV7+/vr7rRHjVqlKq+9u/fr6p/K4sWLYK/vz+WL18OoPaB7tNPP8XatWsREBCAHTt2qPbv379fNZAmJSUhICAAW7ZswaeffoqwsDD8+OOPOHr0KJKTkxEeHq6a3lxb+xYVFWHx4sWqX4Dcd999GDduHI4cOYKXXnoJbdq0wRNPPKHsnzx5suqmJjo6GnPnzlW2V6xYoYqSZ2RkqOqH/Zf990b6L8A+XJlb0Yc5RrN92b5sXytsX2O1L++xeI/F/sv+y/77X4zWh9nGt+8YbV0CLTw8HNOmTcNrr72G1157DdOmTUPHjh3h4eGhKv/o0aMxderUGvNe9Z0iffv2rfGdJMuXL0eDBg1UbdujRw/VslVVWbdunSo4UZklS5bA19cXH3zwARo0aFBj25rN/11q0tpuVtauXatalq20tBSDBw/GHXfcgb59+8LFxQVubm5o27Yt3N3dERgYqArmVxdoq0rl2Yuff/45nJyc0KZNGzg7O2PVqlXw9/fHiBEj8Ne//hUNGzZULSO3cOFCNG7cGDNnzkRCQgL8/f1V7zT5/PPPVTMv9+3bB19fX3h7e2PYsGGYOHEiJk6ciGHDhsHb2xt+fn6qYOPYsWMxefLkGvN+8OBBBAcHK9tDhgxBQkJCta713Krcvvfee69qWbGqfPnll6pl6CqzefNmBAYG4h//+Eed7Wtdou+tt95S7V+xYgXat2+v+u7vf/87GjRogNDQULi4uMBsNivviOrSpYvyQwStMBijgSFDhuCBBx5Aamoq4uPj0aVLFwwcOBBFRUUoLi7GQw89hNjYWMXv27evanrgvHnzVOvJ7d69WzUonj17FrGxsTCZTGjSpAlCQ0MRGhqKJk2awGw2Iy4uDufOnVP86OhovP322zXmt+r0znHjxtmseWjlyJEjaNOmjcofPHhwrekvXLhQtV5iZY4fP464uDjcc889NV7EgoKCEBwcrHyqdoS3335btV7f+vXr0aRJEyQlJSEpKQnBwcFYvHgxtm/fjiVLlqBly5Y2L8eqa6CrjN7ta30ZosViQUREBGJjYxEbG4uIiAhYLBZ07NhR9QuOp59+Gs8880yN+c3JyUFMTIyyPWrUqBovfPv370fTpk1V7RsbG4v333+/xvSTkpJUN+qVOXDgAO666y6MGjWq1puUyp/KN+3A1fU8K18IAODNN9+Em5sbXF1dlQHO+hk6dKhq6qHW9t21axe8vb1hNpvRtGlT7N+/H926dYOvry/8/f3h6uqqusn78ccf4ezsjK5du6JXr16wWCyqc3TevHmq85/99y3VfvZfbf0XYB+uC737MMdoti/bl+1rhe1rrPblPdZbqv28x2L/Zf913P4LGK8Ps43fUu2/3cbo/Px8zJw5E7169UJISAhCQkLQq1cvPPvsszYzlo4dO6aaqVIXa9asqTV4s2zZMtV4npqaWus7sN5991288847Ne7PysrC3XffDZPJVG3bWpeVtH6qLgn39ttv2ywtCQAbN27E5MmTERsbi379+uHxxx/Hhx9+iKKiIpU3duxYXLx4scb8VUdqairmz5+vLJF14MABPPbYYxg+fHi1gYtFixYhOjoakZGRmDVrFi5fvqwqf+VlvwDg4sWLWLRoEcaMGYN+/fqhX79+GDNmDN577z2bZS1LSkqUGVTXQkpKiuodbVVJTk7G2LFjle3Dhw/bLGtWmWXLltX6jpvTp09j2LBh8PLyqnZ5PeuSg9bP6dOnVfuXLl2KpUuX2vzdwYMH8cYbb2DixImIj4/Hiy++iO+//155F8/1wGCMBrKystC2bVuYTCaEhYXhyJEjGDx4MCwWi/Lipcq/oklPT0eTJk3g6+uLwMBANGzYECtWrFD2L1y4EGPGjLE5zsGDB7FkyRIkJiYiMTERS5YssekwwNWXC1V+2VRVCgsLVSd2QUFBrevxHj16tNYoZFV27txpMyWzKgsWLMDQoUPx+++/X3O6Vn766SebX1esXr0aAQEBqmimyWSCi4sLpk6dqnqpWUpKSrXT7WqiPtq3vLwcGzZsQEJCAuLj4xEfH4+EhARs3LhRtYbl9bBv3z4sWbKkxv0ZGRmq8+XMmTOqm6KqbNiwAVu2bKlxf2lpKaZNm4ZOnTrVOmDWxLp166o9H8+dO4eVK1fitddeQ2JiIpKSklS/3LDyySefKGsTXytFRUVIS0tT/sNy+fJlLF68GO+88061g/XevXsxa9YsTJ8+XfWitNrIzMxk/wX77/VwO/XhL7/80i77MMfo/8L21Qbbt27Yvv+F7ct7LN5j8f9INXG79l8+47jKjfZfwJh9GGAbW7kdx+jbifLycpw/f/6GHqQTcqOYAECIJs6cOSPe3t7K9ubNm+Xy5csSFRWl+l5E5NixY7J+/XopLS2VPn36SPv27es7u7cd5eXlkp6eLvn5+VJRUSF+fn4SGRkpjRo1uinps30J0Y/y8nLZvXu35OXlsf8SQgghhNwkeI9FiP2id/8VYR++1djzc6w///xTDhw4IMePHxcRET8/PwkLC5MGDRpck+/r6yvt27enb1C/Jq5cuSLHjh2TwMDAa/L//PNP+c9//uMwvtb6qQyDMQYkOTlZUlNT5dixY2I2m6VVq1YyePBgadu27S1J/0b91q1by6BBg25a+nqXV2927dolP/30k2pgjI6Olrvvvvua/aioKOnatathfOa/bs6dOyfr1q2TMWPGaPo7vdI3mq8VvdOviYqKCjGbzdV+f+TIEZsLsVb/Zh4DgPz+++83nKdblf6t8AFIQUGBtGzZUiwWi5SVlcnXX38tpaWlMmDAAPHx8bGpA/r241dHnz59JCkpSYKCgup06duXn5+fLzk5OeLn5ycdOnSgb8d+aWmpmM1m5SFCbm6uLFmyRAoLCyUoKEjGjRsnd955Z53HqAmt6RvN17u8evPVV19JXFycuLm50b8NfRGRffv2SXp6usTExEirVq3kwIED8u6770pFRYUMGzZM+vfvf81p3Yz0jebXR5nrA6M91+FzrBunoqJCEhIS5N1335ULFy6o9jVu3FimTJkiL730kvJ/Lfr25dfFvn37pHPnzlJeXk7/Jvgq6n8yjn2zd+9efPzxx8jNzQVwdZ3ZSZMmYcKECdVOnbT61inKtfknTpxA165dYTabYbFYYDabERkZCV9fXzg5OdmsFWpl8+bNeOmllzBx4kRMnjwZ8+fPr3bKstb0jebrXV6t6V9Pfnr27AmTyYSgoCB07doVXbt2RVBQEEwmE3r27KlaG/R6/B49euiavqP5WuqzLqqufVsXZ8+erXa9ypuVvtF8vcurNf2q/oULF/Dwww/DxcUFzZo1w+zZs1XTyY8fP67Kj1a/Po5Bv3b/0KFDCAoKgtlsRps2bZCXl4fIyEi4u7vDzc0NPj4+qrH9evzAwEBd03dE32QyXZO/du3aaj9OTk5YuHChsk3fPv1JkyYpy+tcunQJw4cPV5YAMZvNuPfee1XvVKjOty4dYhRf7/zbU/307t0bq1atAnB17XRnZ2d07NgRI0eOREREBNzc3FQvQS8pKUFZWZmynZOTg1mzZuHRRx/F888/b7N0lNb0jebrXV6t6Wv1TSYTPD09MX78ePz888+oC/r25X/11VdwcnKCt7c3PDw88MMPP8DLywv3338/+vfvDycnJyxbtkz1N1qeuWhN32i+1vLW1zH4HIvPsQDg//2//4emTZvi/fffR35+Pi5duoRLly4hPz8fH3zwAZo1a4aZM2fSt1O/Loz2zMje/cowGKMBvS/EI0eOxNChQ3HhwgWUlJRgypQpylqNmzdvhre3t+pFZFoHaa3pG83Xu7x6X4SHDx+OqKioatfdPXToEKKjo/HQQw/Rt1P/woULtX62bdt2QwO71vSN5utdXq3pa/WffvpphISEYNWqVfjoo48QFBSEgQMHorS0FMDVB/smk+m6/fo4Bv3a/SFDhmDw4MH49ddfMXXqVISFhWHIkCEoKytDSUkJBg0ahEcffZS+nfrWh7xVX5xc+VO5z9O3L99sNis/kPjHP/6BgIAAJCcno7i4GKmpqWjdujWee+45+nbqe3p6Kg+IevfujWnTpqEyL7zwAnr06KFsaw02aE3faL7e5dU7mGQymfDyyy8jIiICJpMJf/nLX/DWW2/ZvFiXvn36nTt3xty5cwEAK1asgJeXF15++WVl//z589GpUydlW+szFK3pG82/nsCK3sfgcyw+x7LSvHnzWt/Xs2nTJjRr1oy+nfoRERG1fkJDQ1X32/Rr97XAYIwG9L4Qe3p6Yv/+/cp2UVERGjRogAsXLgAAPvvsM7Rr107Zr3WQ1pq+0Xy9y6v3RdjDw8PmRW6VSUtLg4eHB3079a0Phmr6VH1wpDXYoDV9o/l6l1fvYFJgYKDqZa2nTp1C165d0a9fP5SUlNjMstDq18cx6NfuN23aFHv27AFw9XphMpmwbds2Zf/27dsRGBhI30792NhYDBw40GZGo8ViwYEDB1AV+vblm0wmxe3QoQOWL1+u2r927VqEhITQt1Pf3d1deQl08+bNsXfvXpWfk5OjuifTGmzQmr7RfL3Lq3cwqfL5kJaWhkmTJsHLywvOzs54+OGHbV4QT9++fHd3d+Tn5wMAKioq0KBBA/z666/K/tzcXNX5pvUZitb0jeZrLW99HIPPsfgcy+q7ubmpzq2q7Nu3D+7u7so2ffvynZ2d8fjjj2POnDnVfiZMmKD6/zL92n0tMBijAb0vxE2bNlX9B/PSpUswm804c+aM4js7Oyv7tQ7SWtM3mq93efW+CHt7eyMlJQU1sWXLFnh7e9O3U9/T0xOvv/46UlJSqv189NFHNxRs0Jq+0Xy9y6t3MMnV1dVmWY2LFy8iKioKffr0QV5e3g359XEM+nX7v/32m7Lt4eGBnJwcZbuwsFB1zaBvXz4A/Otf/0LLli2xbt065buaHu7Tty/fZDLh5MmTAAAfHx/V/RkAFBQUwNXVlb6d+n369MEbb7wBAIiOjrZZdnT16tWq4KvWYIPW9I3m611evYNJlR/uW7l8+TI+/fRTxMTEwGw2Izg4mL6d+r6+vkhLSwNwdRlgk8mk+rHMrl274Ovrq2xrfYaiNX2j+VrLWx/H4HMsPsey+gMGDEC/fv1w6tQpVOXUqVPKj2es0LcvPzIyEosWLbJxrezZs0f1/2X6tftaYDBGA3pfiIcNG4bhw4ejqKgIZWVlmDp1Ktq0aaPs//nnn1W+1kFaa/pG8/Uur94X4cmTJyMoKAhr1qxRLnTA1V/or1mzBsHBwZgyZQp9O/VjYmLw+uuvoyb27t0Lk+m/SyJpDTZoTd9ovt7l1TuY1K5dO3z77bc2+fjjjz8QFRWFu+6664b8+jgG/dr91q1bq2ZWLFq0CBcvXlS209PTVdcM+vblW9mzZw/at2+P+Ph4FBcX1xoMoG8/vslkwoQJEzBt2jQ0a9bM5pfZ6enp8PHxoW+n/o4dO9C4cWO8+OKLeOedd+Dj44MXXngBy5YtQ0JCAry8vFT3DFqDDVrTN5qvd3n1DiaZzWabh/uVyc7OxqxZs+jbqf/oo4+iW7du+PzzzzFo0CD0798f3bt3R2ZmJg4dOoTevXurln7W+gxFa/pG87WWtz6OwedYfI5l9QsLC9GhQwdYLBZEREQgNjYWsbGxiIiIgMViQceOHVFYWKikRd++/KeffhrPPPMMaiInJwcxMTH0r9HXAoMxGtD7Qpybm4vWrVvDYrGgQYMG8PLywg8//KDsT0pKUq2frHWQ1pq+0Xy9y6v3RbikpAQTJ05Ew4YNYTab4eLiAhcXF5jNZjRs2BCTJk1CSUkJfTv1P/zwQyxYsAA1cfz4ccyZM0fZ1hps0Jq+0Xy9y6t3MOnvf/+7aryuzMWLF9GtWzfVg32tfn0cg37t/oQJE/DRRx9V6wPAq6++igEDBtC3U78yly5dwoQJE9C2bVs4OTnVGgygbx9+7969ERMTo3yqnhv//Oc/0bt3b/p26gNXAwjdu3e3eXdQixYtVMuvWF0twQat6RvN17u8egeTqptpURv07cs/fvw4+vbtCw8PD/Tv3x/nz5/HlClTlFnobdu2Vc1s1foMRWv6RvO1lrc+jsHnWHyOVdkvLy/Hhg0bkJCQgPj4eMTHxyMhIQEbN25EeXk5qkLfvnxya2AwRgN6X4gBoLi4GN999x3WrVtX7dSyymgdpLWmbzRf7/LqfRG2cuHCBWzevBnLly/H8uXLkZycrJp5Qd++/WtFa7DB3tG7vHoHk86ePWuzjEplLl68qFrWTqtfH8egX7tfF3l5efjPf/5D/zby165di6lTp17zQyX69uVXJjc3F7///jv928A/efIkfv75Z+zYsUNZRqc6tAY/tKZvNF/v8uoZTCooKEBFRUWddUHfPv2ayM3NRUZGBq5cuaL6/nqeoWhJ32j+zSrvzTwGn2PxOVZ1z7EIITcPEwAIuSHy8vLk0qVLEhoaKhaL5ab7tXHp0iVJTU2VsrIy6d69u/j4+NxQekZH7/JqTd/R6p8QQgghhBB74dSpU5KXlycVFRXi5+cnwcHBtzpLuqJ3ebWm72j1T/TjZj5DsQfqo7x8jlV/2PtzrF27dslPP/0kx48fFxERX19fiY6Olrvvvpv+bepHRUVJ165d6V+Hfy0wGGMw1q9fL7t27ZL+/ftLjx49JDk5WebPny8VFRXy4IMPSnx8fL2mbzRf7/LqzeXLl2XFihWSmpoqx44dE7PZLK1atZKhQ4fKfffdR9/BfK0YLf9GK6/e1Ef9GK3N6NOnT58+fXv0tWK0/ButvHpjtPqkf3ufz0bz66PMesM2vj3H6JMnT8rw4cNl+/btEhgYKM2bNxcRkRMnTkhhYaH06NFDvvrqK2nWrBl9+g7va+LWTsyxP9atW4fZs2cjNTUVALB582bExcWhf//++OCDD27If//992GxWBAZGQlPT0989tlnaNSoEf72t79hwoQJcHV1tZnWrWf6RvONVp9a/ezsbAQFBaFZs2Zo2bIlTCYTBg4ciG7dusHJyQkPP/ywakox/dvbB66ug//xxx/jiSeeQGxsLAYMGIApU6bgxx9/tDnXjJZ/o5VXa/pGq38jthl9+vTp06dvjz5grGu8vZdXa/qOVv/07et8Npqvtbz1dQwjjSlGazOjlVfP9h0+fDiioqJw6NAhmzQOHTqE6Oho1fuD6NN3ZF8LDMZoQO9gQ/v27fHhhx8CAJKTk+Hi4oJ3331X2Z+UlISwsLB6S99ovtHqU6sfFxeHCRMmKGvsvvbaa4iLiwMAZGVlITg4GC+++CJ9B/G13mQZLf9GK6/eN9F6148R24w+ffr06dO3R99o13h7L6+932PRty/f0c6f63nwbu99mG1sP2O0h4cHdu/ejZpIS0uDh4eHsk2fviP7WmAwRgN6BxtcXV3x22+/KdsNGjRARkaGsp2fnw83N7d6S99ovtHqU6vv5uaGrKwsZbu0tBQNGjTA6dOnAQDffPMNgoOD6TuIr/Umy2j5N1p59b6J1rt+6uMY9OnTp0+fviP4RrvG23t57f0ei759+Y52/mgtb30cw2hjitHazGjl1bN9vb29kZKSgprYsmULvL29lW369B3Z1wKDMRrQO9gQEBCArVu3AgCOHj0Kk8mEb7/9VtmfkpKCgICAekvfaL7R6lOr7+/vj/T0dGX73LlzMJlMuHjxIgAgLy8Pzs7O9B3E13qTZbT8G628et9E610/9XEM+vTp06dP3xF8o13j7b289n6PRd++fEc7f67nB1z23ofZxvYzRk+ePBlBQUFYs2YNLly4oPzNhQsXsGbNGgQHB2PKlCnK9/TpO7KvBQZjNKB3sOGpp55C27ZtMXfuXHTt2hWPP/44QkNDsXHjRmzatAnh4eF48skn6y19o/lGq0+t/uOPP47evXsjMzMTeXl5GDlyJCIiIlR+y5Yt6TuIr/Umy2j5N1p59b6J1rt+6uMY9OnTp0+fviP4RrvG23t57f0ei759+Y52/lzPD7jsvQ+zje1njC4pKcHEiRPRsGFDmM1muLi4wMXFBWazGQ0bNsSkSZNQUlKipEWfviP7WmAwRgN6BxuKioowfvx4dOjQAfHx8SgtLcW8efPQsGFDmEwmxMTE4MSJE/WWvtF8o9WnVv/EiRPo3r07TCYTzGYzgoKCVOsPrlq1Cv/+97/pO4iv9SbLaPk3Wnn1vonWu37q4xj06dOnT5++I/hGu8bbe3nt/R6Lvn35jnb+aC1vfRzDaGOK0drMaOXVu32BqzMBkpOTsXz5cixfvhzJycmqmQJVoU/fkf1rgcEYDegdbKiJy5cvK1HqG8mP1vSN5hutPq83P1lZWcjIyLB5EV9N0L89/et5WG+k/Gv19S5vfQRLtOTnev36OAZ9+vTp06d/O/tGvcbba3lvl3ss+vbhO9r5c73l1fMYRhtTtKZvNN9o9Xkj5xwh5ObAYMxNQO/ghJXCwkI88cQTtzx9o/lGq09Hq3/6N+Zfz8N6PfOjt693eesjWKIlPzfLr49j0KdPnz59+reTby/XeHsp7+16j0XfmL6jnT83q7w38xhGG1O0pm8032j1ea3+pUuXsG3bNhw4cMBm3+XLl7F06VL69OlrhMGYm4jeg/revXthNpsNk77RfKPVp6PVP/2b6zva+cP+e+uPQZ8+ffr06TuCb7RrvL2X197vsejbl+9o58/1/IDL3vsw2/jWpl/ZP3z4MIKCgpRZNL169cLRo0cV9/jx46q80KfvyL4WLEJuGmfPnpWlS5fKkiVLrsv/3//931r9vLy8G8qP1vSN5tdFfden3vmhf3v7dXG7nT914ej9tz6OQZ8+ffr06TuCXxe8x3Kseyz69uXXxe12/tRFdf3L3vuw3ukbza8LI4/Rzz77rHTo0EHS0tLk/PnzMnXqVOnZs6ekpKRIYGCgzd/Sp+/IvhZMAHBDKTgQ1zIoTp8+XcrLy6/LN5vNYjKZpLYmMZlM9Za+0Xyj1aej1T/9m+s72vnD/lu7Xx/HoE+fPn369B3BN9o13t7La+/3WPTty3e080dreevjGEYbU4zWZkYrr57t27x5c/nxxx8lPDxcREQAyOTJk2XDhg2yZcsWcXd3F39/fyVt+vQd2ddEtfNlSLWY/v+pSSaTqcZP5SlKWn1/f3988803NR5/z5499Zq+0Xyj1aej1T/9m+s72vnD/lu7Xx/HoE+fPn369B3BN9o13t7La+/3WPTty3e080dreevjGEYbU4zWZkYrr57t26hRIxw8eNAmD0899RQCAgKwdetWVdr06TuyrwWz9vCN4+Ln5ydr1qyRioqKaj+7d+++IT8yMlLS09NrPL6pSnRc7/SN5hutPh2t/unfXN/Rzh/239r9+jgGffr06dOn7wi+0a7x9l5ee7/Hom9fvqOdP1rLWx/HMNqYYrQ2M1p59Wzf0NBQSUtLs8nDwoULZciQITJ48GDV9/TpO7KviWuN2hBg0KBBmD17do379+7dC5PJdN3+1q1bsXHjxhr9oqIipKSk1Fv6RvONVp+OVv/0b67vaOcP+2/tfn0cgz59+vTp03cE32jXeHsvr73fY9G3L9/Rzh+t5a2PYxhtTDFamxmtvHq2b2JiIuLi4mp0J02apEqbPn1H9rXAd8ZoYNu2bVJcXCyxsbHV7i8uLpa0tDTp3bv3dfl658feMVp9Olr9k5uLo50/7L+EEEIIqQ8c7RrPeyxyO+Fo5099lNdofZhtrIZjNCGOB4MxhBBCCCGEEEIIIYQQQgghOsJ3xhBCCCGEEEIIIYQQQgghhOgIgzGEEEIIIYQQQgghhBBCCCE6wmAMIYQQQgghhBBCCCGEEEKIjjAYQwghhBBCCLFLYmJiZOrUqbc6G9dNQUGBmEwm2bt3763OCiGEEEIIIURnGIwhhBBCCCGEEDth7NixMnTo0FudDUIIIYQQQohGGIwhhBBCCCGEGI6ysrJbnQVCCCGEEEIIuWkwGEMIIYQQQgi55cTExMiUKVNk6tSp4uPjI/3795f9+/dLXFyceHh4SPPmzeWxxx6T06dP15hGaWmpzJgxQ1q0aCHu7u7SrVs3SUlJUfafOXNGRo0aJS1atBA3NzcJDw+XFStWqNJYvXq1hIeHi6urq3h7e8v9998vxcXFyv7FixdLWFiYuLi4SGhoqCxatOiay7hr1y6JiIgQFxcX6dKli+zZs0e1v7y8XMaNGyd33nmnuLq6Srt27WTBggXK/jlz5sjSpUtl7dq1YjKZxGQyKeX7/fffZcSIEeLl5SVNmjSRIUOGSEFBwTXnjRBCCCGEEKIvDMYQQgghhBBCDMHSpUulYcOGsn37dnnttdekT58+EhERIWlpabJp0yY5ceKEjBgxosa/nzJlivz000/yxRdfyK+//ioPP/ywxMbGSnZ2toiIlJSUSGRkpHz77beyf/9+iY+Pl8cee0x27dolIiLHjh2TUaNGyZNPPimZmZmSkpIiDz74oAAQEZFly5ZJQkKCvPLKK5KZmSmJiYkye/ZsWbp0aZ1lKyoqkgceeEDat28v6enpMmfOHJkxY4bKqaiokICAAFm1apUcPHhQEhISZNasWfLll1+KiMiMGTNkxIgREhsbK8eOHZNjx45JdHS0XLlyRfr37y+NGjWSbdu2yfbt28XDw0NiY2M5w4gQQgghhBCDYIL1fxaEEEIIIYQQcouIiYmRixcvyu7du0VEZO7cubJt2zb57rvvFOfIkSPSsmVLOXz4sISEhEhMTIx06tRJ3n77bSksLJRWrVpJYWGh+Pv7K39z//33S9euXSUxMbHa4z7wwAMSGhoq8+fPl927d0tkZKQUFBRIUFCQjdumTRv55z//KaNGjVK+mzt3rmzYsEF27NhRa/k+/PBDmTVrlhw5ckRcXFxEROT999+XSZMmyZ49e6RTp07V/t2UKVPk+PHjsnr1ahG5+s6Y8+fPyzfffKM4n3/+ucydO1cyMzPFZDKJyNVl3ry8vOSbb76Rfv361Zo3QgghhBBCiP5YbnUGCCGEEEIIIUREJDIyUvn3vn37ZMuWLeLh4WHj5ebmSkhIiOq7jIwMKS8vt/m+tLRUvL29ReTqMmCJiYny5ZdfytGjR6WsrExKS0vFzc1NRETuuusuue+++yQ8PFz69+8v/fr1k4ceekjuuOMOKS4ultzcXBk3bpyMHz9eSf/PP/+Uxo0b11m2zMxM6dixoxKIERGJioqy8d59911ZsmSJFBYWyuXLl6WsrKzGQI2Vffv2SU5OjjRq1Ej1fUlJieTm5taZN0IIIYQQQoj+MBhDCCGEEEIIMQTu7u7Kv4uKimTQoEHy+uuv23h+fn423xUVFYmTk5Okp6eLk5OTap81oDNv3jxZsGCBvP322xIeHi7u7u4ydepUZSkvJycn+eGHH2THjh3y/fffyzvvvCPPP/+87Ny5UwnYfPTRR9KtWzdV+lWPd7188cUXMmPGDHnzzTclKipKGjVqJPPmzZOdO3fW+ndFRUUSGRkpy5Yts9nXtGnTm5I3QgghhBBCyI3BYAwhhBBCCCHEcHTu3Fm++uorCQ4OFoul7v+2RERESHl5uZw8eVLuueeeap3t27fLkCFD5NFHHxWRq+9oycrKkvbt2yuOyWSSHj16SI8ePSQhIUGCgoLk66+/lv/5n/8Rf39/ycvLk0ceeURzecLCwuSzzz6TkpISZXbMzz//bJO/6OhomTx5svJd1ZktDRs2lPLyctV3nTt3lpUrV0qzZs3E09NTc94IIYQQQggh+mO+1RkghBBCCCGEkKo89dRTcvbsWRk1apT88ssvkpubK99995088cQTNsEIEZGQkBB55JFHZMyYMbJmzRrJz8+XXbt2yauvvirffvutiIi0bdtWmfmSmZkpEyZMkBMnTihp7Ny5UxITEyUtLU0KCwtlzZo1curUKQkLCxMRkZdeekleffVV+fe//y1ZWVmSkZEhSUlJ8q9//avO8owePVpMJpOMHz9eDh48KBs2bJD58+ernLZt20paWpp89913kpWVJbNnz5ZffvlF5QQHB8uvv/4qhw8fltOnT8uVK1fkkUceER8fHxkyZIhs27ZN8vPzJSUlRZ5++mk5cuSI5ronhBBCCCGE3HwYjCGEEEIIIYQYDn9/f9m+fbuUl5dLv379JDw8XKZOnSpeXl5iNlf/35ikpCQZM2aMTJ8+Xdq1aydDhw6VX375RQIDA0VE5IUXXpDOnTtL//79JSYmRnx9fWXo0KHK33t6esrWrVtlwIABEhISIi+88IK8+eabEhcXJyIif/vb32Tx4sWSlJQk4eHh0rt3b/nkk0/kzjvvrLM8Hh4esm7dOsnIyJCIiAh5/vnnbZZgmzBhgjz44IMycuRI6datm5w5c0Y1S0ZEZPz48dKuXTvp0qWLNG3aVLZv3y5ubm6ydetWCQwMlAcffFDCwsJk3LhxUlJSwpkyhBBCCCGEGAQTANzqTBBCCCGEEEIIIYQQQgghhNyucGYMIYQQQgghhBBCCCGEEEKIjjAYQwghhBBCCCE3SGJionh4eFT7sS5zRgghhBBCCHFcuEwZIYQQQgghhNwgZ8+elbNnz1a7z9XVVVq0aFHPOSKEEEIIIYQYCQZjCCGEEEIIIYQQQgghhBBCdITLlBFCCCGEEEIIIYQQQgghhOgIgzGEEEIIIYQQQgghhBBCCCE6wmAMIYQQQgghhBBCCCGEEEKIjjAYQwghhBBCCCGEEEIIIYQQoiMMxhBCCCGEEEIIIYQQQgghhOgIgzGEEEIIIYQQQgghhBBCCCE6wmAMIYQQQgghhBBCCCGEEEKIjjAYQwghhBBCCCGEEEIIIYQQoiP/HwXjwCTPVaYwAAAAAElFTkSuQmCC",

=======
      "image/png": "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",
>>>>>>> refs/remotes/origin/main
      "text/plain": [
       "<Figure size 2000x1000 with 1 Axes>"
      ]
     },
     "metadata": {},
     "output_type": "display_data"
    }
   ],
   "source": [
    "# Plot the distribution of the movie release date\n",
    "plt.figure(figsize=(20, 10))\n",
<<<<<<< HEAD

=======
>>>>>>> refs/remotes/origin/main
    "plt.title(\"Distribution of release date\")\n",
    "plt.xlabel(\"Release date\")\n",
    "plt.ylabel(\"Count\")\n",
    "df_movies.dropna(subset=[\"release_date\"])[\n",
    "    \"release_date\"\n",
    "].dt.year.sort_values().value_counts(sort=False).plot(kind=\"bar\")\n",
<<<<<<< HEAD

=======
>>>>>>> refs/remotes/origin/main
    "plt.show()"
   ]
  },
  {
   "cell_type": "code",
<<<<<<< HEAD
   "execution_count": 19,
=======
   "execution_count": 20,
>>>>>>> refs/remotes/origin/main
   "metadata": {},
   "outputs": [
    {
     "name": "stdout",
     "output_type": "stream",
     "text": [
<<<<<<< HEAD

      "There are 24 movies are after 2014\n"

=======
      "There are 24 movies are after 2014\n"
>>>>>>> refs/remotes/origin/main
     ]
    }
   ],
   "source": [
<<<<<<< HEAD

    "print(\n",
    "    f\"There are {len(df_movies[df_movies['release_date'] >= pd.to_datetime('2014')])} movies are after 2014\"\n",
    ")"

=======
    "print(\n",
    "    f\"There are {len(df_movies[df_movies['release_date'] >= pd.to_datetime('2014')])} movies are after 2014\"\n",
    ")"
>>>>>>> refs/remotes/origin/main
   ]
  },
  {
   "cell_type": "markdown",
   "metadata": {},
   "source": [
    "### Runtime"
   ]
  },
  {
   "cell_type": "markdown",
   "metadata": {},
   "source": [
    "We know that there are some outliers for `runtime`. We'll drop the rows with a `runtime` less or equal to 0 and greater than 500 minutes. "
   ]
  },
  {
   "cell_type": "code",
<<<<<<< HEAD
   "execution_count": 20,
=======
   "execution_count": 21,
>>>>>>> refs/remotes/origin/main
   "metadata": {},
   "outputs": [
    {
     "name": "stdout",
     "output_type": "stream",
     "text": [
      "Have removed 47 rows\n"
     ]
    }
   ],
   "source": [
    "old_shape = df_movies.shape[0]\n",
<<<<<<< HEAD

    "df_movies.drop(df_movies[df_movies[\"runtime\"] > 500].index, inplace=True)\n",
    "df_movies.drop(df_movies[df_movies[\"runtime\"] <= 0].index, inplace=True)\n",

=======
    "df_movies.drop(df_movies[df_movies[\"runtime\"] > 500].index, inplace=True)\n",
    "df_movies.drop(df_movies[df_movies[\"runtime\"] <= 0].index, inplace=True)\n",
>>>>>>> refs/remotes/origin/main
    "print(f\"Have removed {old_shape - df_movies.shape[0]} rows\")"
   ]
  },
  {
   "cell_type": "code",
<<<<<<< HEAD
   "execution_count": 21,
=======
   "execution_count": 22,
>>>>>>> refs/remotes/origin/main
   "metadata": {},
   "outputs": [
    {
     "data": {
<<<<<<< HEAD

      "image/png": "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",

=======
      "image/png": "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",
>>>>>>> refs/remotes/origin/main
      "text/plain": [
       "<Figure size 2000x1000 with 1 Axes>"
      ]
     },
     "metadata": {},
     "output_type": "display_data"
    }
   ],
   "source": [
<<<<<<< HEAD

=======
>>>>>>> refs/remotes/origin/main
    "plt.figure(figsize=(20, 10))\n",
    "plt.title(\"Log distribution of movie runtime\")\n",
    "plt.xlabel(\"Runtime\")\n",
    "plt.ylabel(\"Count (log scale)\")\n",
    "plt.yscale(\"log\")\n",
    "df_movies.dropna(subset=[\"runtime\"])[\"runtime\"].hist(bins=10)\n",
<<<<<<< HEAD

=======
>>>>>>> refs/remotes/origin/main
    "plt.show()"
   ]
  },
  {
   "cell_type": "markdown",
   "metadata": {},
   "source": [
    "### Genres"
   ]
  },
  {
   "cell_type": "markdown",
   "metadata": {},
   "source": [
<<<<<<< HEAD

    "The `genres` feature is represented by a dict, we'll explode this column to have a row for each genre to plot them nicelly."

=======
    "The `genres` feature is represented by a dict, we'll explode this column to have a row for each genre to plot them nicelly."
>>>>>>> refs/remotes/origin/main
   ]
  },
  {
   "cell_type": "code",
<<<<<<< HEAD
   "execution_count": 22,
=======
   "execution_count": 23,
>>>>>>> refs/remotes/origin/main
   "metadata": {},
   "outputs": [],
   "source": [
    "# Extract the list of genres\n",
<<<<<<< HEAD

=======
>>>>>>> refs/remotes/origin/main
    "df_movies[\"genres\"] = df_movies.apply(lambda row: extract_list(row, \"genres\"), axis=1)\n",
    "\n",
    "# Replace empty lists by NaN\n",
    "df_movies[\"genres\"] = df_movies[\"genres\"].apply(lambda x: np.nan if len(x) == 0 else x)\n",
    "\n",
    "# Explode the genres\n",
    "df_movies_exploded = df_movies.explode(\"genres\")"
<<<<<<< HEAD

=======
>>>>>>> refs/remotes/origin/main
   ]
  },
  {
   "cell_type": "code",
<<<<<<< HEAD
   "execution_count": 23,
=======
   "execution_count": 24,
>>>>>>> refs/remotes/origin/main
   "metadata": {},
   "outputs": [
    {
     "data": {
<<<<<<< HEAD

      "image/png": "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",

=======
      "image/png": "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",
>>>>>>> refs/remotes/origin/main
      "text/plain": [
       "<Figure size 2000x1000 with 1 Axes>"
      ]
     },
     "metadata": {},
     "output_type": "display_data"
    }
   ],
   "source": [
    "# Plot the distribution of movie genres, for the top 20 genres\n",
<<<<<<< HEAD

=======
>>>>>>> refs/remotes/origin/main
    "plt.figure(figsize=(20, 10))\n",
    "plt.title(\"Distribution of movie genres\")\n",
    "plt.xlabel(\"Movie genres\")\n",
    "plt.ylabel(\"Count\")\n",
    "df_movies_exploded[\"genres\"].value_counts().head(20).plot(kind=\"bar\")\n",
<<<<<<< HEAD

=======
>>>>>>> refs/remotes/origin/main
    "plt.show()"
   ]
  },
  {
   "cell_type": "markdown",
   "metadata": {},
   "source": [
    "### Countries\n",
    "\n",
    "Similarly to the `genres` column, the `countries` column is a dict of countries. We'll explode this column to have a row for each country."
   ]
  },
  {
   "cell_type": "code",
<<<<<<< HEAD
   "execution_count": 24,
=======
   "execution_count": 25,
>>>>>>> refs/remotes/origin/main
   "metadata": {},
   "outputs": [],
   "source": [
    "# Extract the list of countries\n",
<<<<<<< HEAD

=======
>>>>>>> refs/remotes/origin/main
    "df_movies[\"countries\"] = df_movies.apply(\n",
    "    lambda row: extract_list(row, \"countries\"), axis=1\n",
    ")\n",
    "\n",
    "# Replace empty lists by NaN\n",
    "df_movies[\"countries\"] = df_movies[\"countries\"].apply(\n",
    "    lambda x: np.nan if len(x) == 0 else x\n",
    ")\n",
    "\n",
    "# Explode the countries\n",
    "df_movies_exploded = df_movies.explode(\"countries\")"
<<<<<<< HEAD

=======
>>>>>>> refs/remotes/origin/main
   ]
  },
  {
   "cell_type": "code",
<<<<<<< HEAD
   "execution_count": 25,
=======
   "execution_count": 26,
>>>>>>> refs/remotes/origin/main
   "metadata": {},
   "outputs": [
    {
     "data": {
<<<<<<< HEAD

      "image/png": "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",

=======
      "image/png": "iVBORw0KGgoAAAANSUhEUgAABmsAAAP1CAYAAACOjtvhAAAAOXRFWHRTb2Z0d2FyZQBNYXRwbG90bGliIHZlcnNpb24zLjkuMiwgaHR0cHM6Ly9tYXRwbG90bGliLm9yZy8hTgPZAAAACXBIWXMAAA9hAAAPYQGoP6dpAADJ5klEQVR4nOzde5TV9X3v/9fIZUSEHRAZmErApMqR4CXFHC4mUQOCFkSjPWpo50CiaOqFEqUx2p5Iuk7Fu01Dk9icRBNvpOcoiQmGoKK2LMELKVWs8ZhWIkZu1WFGEQfE/fsjh/3LcDGAkA+Vx2OtvZb7+33v/f3sbyZrNT77/X7rqtVqNQAAAAAAABSxX+kFAAAAAAAA7MvEGgAAAAAAgILEGgAAAAAAgILEGgAAAAAAgILEGgAAAAAAgILEGgAAAAAAgILEGgAAAAAAgILEGgAAAAAAgILEGgAAAAAAgILEGgAA2ENuu+221NXV1V77779/+vTpkxNPPDEzZszI6tWrt/rM9OnTU1dXt1PHefPNNzN9+vQ88sgjO/W5bR1rwIABGTdu3E59z29z11135W/+5m+2ua+uri7Tp0/frcfb3R566KEce+yx6dq1a+rq6vKDH/yg9JJ22IABAzJp0qTSy/ideeyxxzJ9+vSsXbt2pz63r50nAAD2Ph1LLwAAAN7vbr311vyX//JfsnHjxqxevToLFizItddemxtuuCHf//73M2rUqNrseeedl5NPPnmnvv/NN9/MV77ylSTJCSecsMOf25Vj7Yq77rorS5cuzdSpU7fat3DhwhxyyCF7fA27qlqt5qyzzsrhhx+e++67L127ds3AgQNLL2uHzZ49O927dy+9jN+Zxx57LF/5ylcyadKkfOADH9jhz+1r5wkAgL2PWAMAAHvY4MGDc+yxx9ben3nmmfnCF76Qj3/84znjjDPywgsvpKGhIUlyyCGH7PF48eabb+aAAw74nRzrtxk2bFjR4/82r7zySl577bV8+tOfzsiRI0svZ6d99KMfLb2Evdr69evTpUsX5wkAgOLcBg0AAAr44Ac/mBtvvDGvv/56brnlltr2bd2abP78+TnhhBNy0EEHpUuXLvngBz+YM888M2+++WaWLVuWgw8+OEnyla98pXbLtc23dNr8fT/72c/yR3/0R+nRo0c+/OEPb/dYm82ePTtHHXVU9t9//3zoQx/K3/7t37bbv/kWb8uWLWu3/ZFHHkldXV3tlmwnnHBC5syZk1/+8pftbgm32bZug7Z06dKcdtpp6dGjR/bff/8cc8wx+e53v7vN49x99935i7/4izQ2NqZ79+4ZNWpUnn/++e2f+N+wYMGCjBw5Mt26dcsBBxyQESNGZM6cObX906dPr8Wsyy+/PHV1dRkwYMB2v2/zmu66665cfvnl6du3bw488MCceuqpWbVqVV5//fWcf/756dWrV3r16pXPfvazeeONN9p9x1tvvZUrrrgihx56aDp37pzf+73fy0UXXdTutl6nn356+vfvn3feeWerNQwdOjR/8Ad/UHu/rdt7tba2Ztq0ae2OMXXq1Kxbt26HztvcuXMzcuTIVCqVHHDAATniiCMyY8aMdjP33Xdfhg8fngMOOCDdunXLSSedlIULF7abmTRp0jbP57b+Luvq6nLxxRfn9ttvzxFHHJEDDjggRx99dH784x+3+9yf//mfJ0kOPfTQ2t/a5r/Fzbf4u/fee/PRj340+++/f+2KtPdynv73//7fGTp0aO18fOhDH8rnPve5HTqXAACwmStrAACgkD/8wz9Mhw4d8o//+I/bnVm2bFnGjh2bT3ziE/nOd76TD3zgA/nVr36VuXPnZsOGDenbt2/mzp2bk08+Oeeee27OO++8JKkFnM3OOOOMnHPOOfn85z//W/+l/JIlSzJ16tRMnz49ffr0yZ133pk/+7M/y4YNGzJt2rSd+o1f//rXc/755+ff/u3fMnv27N86//zzz2fEiBHp3bt3/vZv/zYHHXRQ7rjjjkyaNCmrVq3KF7/4xXbzV155ZY477rj8r//1v9La2prLL788p556ap577rl06NBhu8d59NFHc9JJJ+Woo47Kt7/97dTX1+frX/96Tj311Nx99905++yzc9555+Xoo4/OGWeckUsuuSQTJkxIfX39b/0NV155ZU488cTcdtttWbZsWaZNm5bPfOYz6dixY44++ujcfffd+ed//udceeWV6datWy2EVavVnH766XnooYdyxRVX5BOf+ESefvrpXHXVVVm4cGEWLlyY+vr6fO5zn8tpp52W+fPnt7uF3s9//vM88cQTW4W13/Tmm2/m+OOPz8svv5wrr7wyRx11VJ599tl8+ctfzjPPPJMHH3zwXZ+Z9O1vfzuTJ0/O8ccfn29+85vp3bt3/u///b9ZunRpbeauu+7KH//xH2f06NG5++6709bWluuuuy4nnHBCHnrooXz84x//redwW+bMmZMnn3wyf/VXf5UDDzww1113XT796U/n+eefz4c+9KGcd955ee211/K1r30t9957b/r27ZskGTRoUO07fvazn+W5557LX/7lX+bQQw9N165d39N5WrhwYc4+++ycffbZmT59evbff//88pe/zPz583fpNwIAsA+rAgAAe8Stt95aTVJ98skntzvT0NBQPeKII2rvr7rqqupv/p/p/+f//J9qkuqSJUu2+x1r1qypJqleddVVW+3b/H1f/vKXt7vvN/Xv379aV1e31fFOOumkavfu3avr1q1r99tefPHFdnMPP/xwNUn14Ycfrm0bO3ZstX///ttc+5brPuecc6r19fXVl156qd3cKaecUj3ggAOqa9eubXecP/zDP2w39w//8A/VJNWFCxdu83ibDRs2rNq7d+/q66+/Xtv29ttvVwcPHlw95JBDqu+88061Wq1WX3zxxWqS6vXXX/+u3/ebazr11FPbbZ86dWo1SXXKlCnttp9++unVnj171t7PnTu3mqR63XXXtZv7/ve/X01S/fu///tqtVqtbty4sdrQ0FCdMGFCu7kvfvGL1c6dO1f/4z/+o7atf//+1YkTJ9bez5gxo7rffvtt9Te5+e/s/vvv3+7ve/3116vdu3evfvzjH6+dny1t2rSp2tjYWD3yyCOrmzZtavfZ3r17V0eMGFHbNnHixG3+XWzr7zJJtaGhodra2lrbtnLlyup+++1XnTFjRm3b9ddfv82/y2r11+eiQ4cO1eeff36b+3blPN1www3VJLW/SwAA2FVugwYAAAVVq9V33X/MMcekc+fOOf/88/Pd7343//7v/75LxznzzDN3ePYjH/lIjj766HbbJkyYkNbW1vzsZz/bpePvqPnz52fkyJHp169fu+2TJk3Km2++udWttMaPH9/u/VFHHZUk+eUvf7ndY6xbty6PP/54/uiP/igHHnhgbXuHDh3S1NSUl19+eYdvpbYt48aNa/f+iCOOSJKMHTt2q+2vvfZa7VZom6/G2PJ2XP/tv/23dO3aNQ899FCSpGPHjvmTP/mT3HvvvWlpaUmSbNq0KbfffntOO+20HHTQQdtd249//OMMHjw4xxxzTN5+++3aa8yYMe1uGbYtjz32WFpbW3PhhRdu9+qb559/Pq+88kqampqy337////cPPDAA3PmmWdm0aJFefPNN7d7jHdz4oknplu3brX3DQ0N6d2797v+Z72lo446KocffvhvndvR8/Sxj30sSXLWWWflH/7hH/KrX/1q534UAAD8P2INAAAUsm7durz66qtpbGzc7syHP/zhPPjgg+ndu3cuuuiifPjDH86HP/zhfPWrX92pY22+JdSO6NOnz3a3vfrqqzt13J316quvbnOtm8/RlsffMkxsvk3Z+vXrt3uM5ubmVKvVnTrOzujZs2e79507d37X7W+99VbtmB07dtzqFnZ1dXXp06dPuzV97nOfy1tvvZVZs2YlSX76059mxYoV+exnP/uua1u1alWefvrpdOrUqd2rW7duqVar+Y//+I/tfnbNmjVJUnuOz7ZsXuP2zu0777yT5ubmd13j9mwrQtXX17/rf9Zb2tH/HuzoefrkJz+ZH/zgB3n77bfz3//7f88hhxySwYMH5+67797hNQEAQOKZNQAAUMycOXOyadOmnHDCCe8694lPfCKf+MQnsmnTpjz11FP52te+lqlTp6ahoSHnnHPODh3r3Z5DsqWVK1dud9vmf2G+//77J0na2trazb3bv+zfEQcddFBWrFix1fZXXnklSdKrV6/39P1J0qNHj+y33357/Dg766CDDsrbb7+dNWvWtAs21Wo1K1eurF3Fkfz6OSz/9b/+19x666254IILcuutt6axsTGjR49+12P06tUrXbp0yXe+853t7t+ezWt6+eWX3/U3JNnuud1vv/3So0ePJL/+G9ry7yd5739D72ZH/3uwM+fptNNOy2mnnZa2trYsWrQoM2bMyIQJEzJgwIAMHz58t6wbAID3P1fWAABAAS+99FKmTZuWSqWSCy64YIc+06FDhwwdOjR/93d/lyS1W5LtyNUkO+PZZ5/Nv/zLv7Tbdtddd6Vbt275gz/4gyTJgAEDkiRPP/10u7n77rtvq+/bmasfRo4cmfnz59eiyWbf+973csABB2TYsGE7+jO2q2vXrhk6dGjuvffedut65513cscdd+SQQw7ZoVtl7W4jR45Mktxxxx3ttt9zzz1Zt25dbf9mn/3sZ/P4449nwYIF+dGPfpSJEyemQ4cO73qMcePG5d/+7d9y0EEH5dhjj93qtfk/120ZMWJEKpVKvvnNb2739n0DBw7M7/3e7+Wuu+5qN7Nu3brcc889GT58eA444IAkv/4bWr16dVatWlWb27BhQ37605++6294N7vrvwu7cp7q6+tz/PHH59prr02S/PM///N7WgMAAPsWV9YAAMAetnTp0tozL1avXp1/+qd/yq233poOHTpk9uzZW9326jd985vfzPz58zN27Nh88IMfzFtvvVX7//YfNWpUkqRbt27p379/fvjDH2bkyJHp2bNnevXq9a7/4v3dNDY2Zvz48Zk+fXr69u2bO+64Iw888ECuvfba2r9o/9jHPpaBAwdm2rRpefvtt9OjR4/Mnj07CxYs2Or7jjzyyNx77735xje+kSFDhmS//fbLscceu81jX3XVVfnxj3+cE088MV/+8pfTs2fP3HnnnZkzZ06uu+66VCqVXfpNW5oxY0ZOOumknHjiiZk2bVo6d+6cr3/961m6dGnuvvvunboSaXc56aSTMmbMmFx++eVpbW3Ncccdl6effjpXXXVVPvrRj6apqand/Gc+85lceuml+cxnPpO2tratnnWzLVOnTs0999yTT37yk/nCF76Qo446Ku+8805eeumlzJs3L5dddlmGDh26zc8eeOCBufHGG3Peeedl1KhRmTx5choaGvKLX/wi//Iv/5KZM2dmv/32y3XXXZc//uM/zrhx43LBBRekra0t119/fdauXZtrrrmm9n1nn312vvzlL+ecc87Jn//5n+ett97K3/7t32bTpk27fA6PPPLIJMlXv/rVTJw4MZ06dcrAgQPbPetmR+zoefryl7+cl19+OSNHjswhhxyStWvX5qtf/Wo6deqU448/fpd/BwAA+x6xBgAA9rDNzxHp3LlzPvCBD+SII47I5ZdfnvPOO+9dQ02SHHPMMZk3b16uuuqqrFy5MgceeGAGDx6c++67r90tr7797W/nz//8zzN+/Pi0tbVl4sSJue2223Zpvcccc0w++9nP5qqrrsoLL7yQxsbG3HTTTfnCF75Qm+nQoUN+9KMf5eKLL87nP//51NfX55xzzsnMmTMzduzYdt/3Z3/2Z3n22Wdz5ZVXpqWlJdVq9V2vzHjsscdy5ZVX5qKLLsr69etzxBFH5NZbb92hGLGjjj/++MyfPz9XXXVVJk2alHfeeSdHH3107rvvvowbN263HWdn1NXV5Qc/+EGmT5+eW2+9NX/913+dXr16pampKVdffXXtqpHNKpVKPv3pT+euu+7Kcccdt0NXA3Xt2jX/9E//lGuuuSZ///d/nxdffDFdunTJBz/4wYwaNeq3Br5zzz03jY2Nufbaa3PeeeelWq1mwIABmThxYm1mwoQJ6dq1a2bMmJGzzz47HTp0yLBhw/Lwww9nxIgRtblDDz00P/zhD3PllVfmj/7oj9K3b99ceumlWbNmTb7yla/s3Mn7f0444YRcccUV+e53v5tvfetbeeedd/Lwww//1lsNbmlHz9PQoUPz1FNP5fLLL8+aNWvygQ98IMcee2zmz5+fj3zkI7v0GwAA2DfVVbf3v5IAAAAAAADY4zyzBgAAAAAAoCCxBgAAAAAAoCCxBgAAAAAAoCCxBgAAAAAAoCCxBgAAAAAAoCCxBgAAAAAAoKCOpRfwfvLOO+/klVdeSbdu3VJXV1d6OQAAAAAAQEHVajWvv/56Ghsbs99+279+RqzZjV555ZX069ev9DIAAAAAAIC9yPLly3PIIYdsd79Ysxt169Ytya9Pevfu3QuvBgAAAAAAKKm1tTX9+vWr9YPtEWt2o823PuvevbtYAwAAAAAAJMlvfXTK9m+QBgAAAAAAwB4n1gAAAAAAABQk1gAAAAAAABQk1gAAAAAAABQk1gAAAAAAABQk1gAAAAAAABQk1gAAAAAAABQk1gAAAAAAABQk1gAAAAAAABQk1gAAAAAAABQk1gAAAAAAABQk1gAAAAAAABQk1gAAAAAAABQk1gAAAAAAABQk1gAAAAAAABQk1gAAAAAAABQk1gAAAAAAABRUNNZ84xvfyFFHHZXu3bune/fuGT58eH7yk5/U9k+aNCl1dXXtXsOGDWv3HW1tbbnkkkvSq1evdO3aNePHj8/LL7/cbqa5uTlNTU2pVCqpVCppamrK2rVr28289NJLOfXUU9O1a9f06tUrU6ZMyYYNG/bYbwcAAAAAAEgKx5pDDjkk11xzTZ566qk89dRT+dSnPpXTTjstzz77bG3m5JNPzooVK2qv+++/v913TJ06NbNnz86sWbOyYMGCvPHGGxk3blw2bdpUm5kwYUKWLFmSuXPnZu7cuVmyZEmamppq+zdt2pSxY8dm3bp1WbBgQWbNmpV77rknl1122Z4/CQAAAAAAwD6trlqtVksv4jf17Nkz119/fc4999xMmjQpa9euzQ9+8INtzra0tOTggw/O7bffnrPPPjtJ8sorr6Rfv365//77M2bMmDz33HMZNGhQFi1alKFDhyZJFi1alOHDh+fnP/95Bg4cmJ/85CcZN25cli9fnsbGxiTJrFmzMmnSpKxevTrdu3ffobW3tramUqmkpaVlhz8DAAAAAAC8P+1oN9hrnlmzadOmzJo1K+vWrcvw4cNr2x955JH07t07hx9+eCZPnpzVq1fX9i1evDgbN27M6NGja9saGxszePDgPPbYY0mShQsXplKp1EJNkgwbNiyVSqXdzODBg2uhJknGjBmTtra2LF68eLtrbmtrS2tra7sXAAAAAADAzigea5555pkceOCBqa+vz+c///nMnj07gwYNSpKccsopufPOOzN//vzceOONefLJJ/OpT30qbW1tSZKVK1emc+fO6dGjR7vvbGhoyMqVK2szvXv33uq4vXv3bjfT0NDQbn+PHj3SuXPn2sy2zJgxo/YcnEqlkn79+u36iQAAAAAAAPZJHUsvYODAgVmyZEnWrl2be+65JxMnTsyjjz6aQYMG1W5tliSDBw/Osccem/79+2fOnDk544wztvud1Wo1dXV1tfe/+c/vZWZLV1xxRS699NLa+9bWVsEGAAAAAADYKcWvrOncuXN+//d/P8cee2xmzJiRo48+Ol/96le3Odu3b9/0798/L7zwQpKkT58+2bBhQ5qbm9vNrV69unalTJ8+fbJq1aqtvmvNmjXtZra8gqa5uTkbN27c6oqb31RfX5/u3bu3ewEAAAAAAOyM4rFmS9VqtXabsy29+uqrWb58efr27ZskGTJkSDp16pQHHnigNrNixYosXbo0I0aMSJIMHz48LS0teeKJJ2ozjz/+eFpaWtrNLF26NCtWrKjNzJs3L/X19RkyZMhu/40AAAAAAACb1VWr1Wqpg1955ZU55ZRT0q9fv7z++uuZNWtWrrnmmsydOzfDhw/P9OnTc+aZZ6Zv375ZtmxZrrzyyrz00kt57rnn0q1btyTJn/7pn+bHP/5xbrvttvTs2TPTpk3Lq6++msWLF6dDhw5Jfv3sm1deeSW33HJLkuT8889P//7986Mf/ShJsmnTphxzzDFpaGjI9ddfn9deey2TJk3K6aefnq997Ws7/HtaW1tTqVTS0tLiKhsAAAAAANjH7Wg3KPrMmlWrVqWpqSkrVqxIpVLJUUcdlblz5+akk07K+vXr88wzz+R73/te1q5dm759++bEE0/M97///VqoSZKbb745HTt2zFlnnZX169dn5MiRue2222qhJknuvPPOTJkyJaNHj06SjB8/PjNnzqzt79ChQ+bMmZMLL7wwxx13XLp06ZIJEybkhhtu+N2dDAAAAAAAYJ9U9Mqa9xtX1gAAAAAAAJvtaDfY655ZAwAAAAAAsC8RawAAAAAAAAoSawAAAAAAAAoSawAAAAAAAAoSawAAAAAAAAoSawAAAAAAAArqWHoBbN+AL80pvYTtWnbN2NJLAAAAAACA9wVX1gAAAAAAABQk1gAAAAAAABQk1gAAAAAAABQk1gAAAAAAABQk1gAAAAAAABQk1gAAAAAAABQk1gAAAAAAABQk1gAAAAAAABQk1gAAAAAAABQk1gAAAAAAABQk1gAAAAAAABQk1gAAAAAAABQk1gAAAAAAABQk1gAAAAAAABQk1gAAAAAAABQk1gAAAAAAABQk1gAAAAAAABQk1gAAAAAAABQk1gAAAAAAABQk1gAAAAAAABQk1gAAAAAAABQk1gAAAAAAABQk1gAAAAAAABQk1gAAAAAAABQk1gAAAAAAABQk1gAAAAAAABQk1gAAAAAAABQk1gAAAAAAABQk1gAAAAAAABQk1gAAAAAAABQk1gAAAAAAABQk1gAAAAAAABQk1gAAAAAAABQk1gAAAAAAABQk1gAAAAAAABQk1gAAAAAAABQk1gAAAAAAABQk1gAAAAAAABQk1gAAAAAAABQk1gAAAAAAABQk1gAAAAAAABQk1gAAAAAAABQk1gAAAAAAABQk1gAAAAAAABQk1gAAAAAAABQk1gAAAAAAABQk1gAAAAAAABQk1gAAAAAAABQk1gAAAAAAABQk1gAAAAAAABQk1gAAAAAAABQk1gAAAAAAABQk1gAAAAAAABQk1gAAAAAAABQk1gAAAAAAABQk1gAAAAAAABQk1gAAAAAAABQk1gAAAAAAABQk1gAAAAAAABQk1gAAAAAAABQk1gAAAAAAABQk1gAAAAAAABQk1gAAAAAAABQk1gAAAAAAABQk1gAAAAAAABQk1gAAAAAAABQk1gAAAAAAABQk1gAAAAAAABQk1gAAAAAAABQk1gAAAAAAABQk1gAAAAAAABQk1gAAAAAAABQk1gAAAAAAABQk1gAAAAAAABQk1gAAAAAAABQk1gAAAAAAABQk1gAAAAAAABQk1gAAAAAAABQk1gAAAAAAABQk1gAAAAAAABQk1gAAAAAAABQk1gAAAAAAABQk1gAAAAAAABQk1gAAAAAAABQk1gAAAAAAABQk1gAAAAAAABQk1gAAAAAAABQk1gAAAAAAABRUNNZ84xvfyFFHHZXu3bune/fuGT58eH7yk5/U9ler1UyfPj2NjY3p0qVLTjjhhDz77LPtvqOtrS2XXHJJevXqla5du2b8+PF5+eWX2800NzenqakplUollUolTU1NWbt2bbuZl156Kaeeemq6du2aXr16ZcqUKdmwYcMe++0AAAAAAABJ4VhzyCGH5JprrslTTz2Vp556Kp/61Kdy2mmn1YLMddddl5tuuikzZ87Mk08+mT59+uSkk07K66+/XvuOqVOnZvbs2Zk1a1YWLFiQN954I+PGjcumTZtqMxMmTMiSJUsyd+7czJ07N0uWLElTU1Nt/6ZNmzJ27NisW7cuCxYsyKxZs3LPPffksssu+92dDAAAAAAAYJ9UV61Wq6UX8Zt69uyZ66+/Pp/73OfS2NiYqVOn5vLLL0/y66toGhoacu211+aCCy5IS0tLDj744Nx+++05++yzkySvvPJK+vXrl/vvvz9jxozJc889l0GDBmXRokUZOnRokmTRokUZPnx4fv7zn2fgwIH5yU9+knHjxmX58uVpbGxMksyaNSuTJk3K6tWr07179x1ae2trayqVSlpaWnb4M+9mwJfmvOfv2FOWXTO29BIAAAAAAGCvtqPdYK95Zs2mTZsya9asrFu3LsOHD8+LL76YlStXZvTo0bWZ+vr6HH/88XnssceSJIsXL87GjRvbzTQ2Nmbw4MG1mYULF6ZSqdRCTZIMGzYslUql3czgwYNroSZJxowZk7a2tixevHi7a25ra0tra2u7FwAAAAAAwM4oHmueeeaZHHjggamvr8/nP//5zJ49O4MGDcrKlSuTJA0NDe3mGxoaavtWrlyZzp07p0ePHu8607t3762O27t373YzWx6nR48e6dy5c21mW2bMmFF7Dk6lUkm/fv128tcDAAAAAAD7uuKxZuDAgVmyZEkWLVqUP/3TP83EiRPzr//6r7X9dXV17ear1epW27a05cy25ndlZktXXHFFWlpaaq/ly5e/67oAAAAAAAC2VDzWdO7cOb//+7+fY489NjNmzMjRRx+dr371q+nTp0+SbHVly+rVq2tXwfTp0ycbNmxIc3Pzu86sWrVqq+OuWbOm3cyWx2lubs7GjRu3uuLmN9XX16d79+7tXgAAAAAAADujeKzZUrVaTVtbWw499ND06dMnDzzwQG3fhg0b8uijj2bEiBFJkiFDhqRTp07tZlasWJGlS5fWZoYPH56WlpY88cQTtZnHH388LS0t7WaWLl2aFStW1GbmzZuX+vr6DBkyZI/+XgAAAAAAYN/WseTBr7zyypxyyinp169fXn/99cyaNSuPPPJI5s6dm7q6ukydOjVXX311DjvssBx22GG5+uqrc8ABB2TChAlJkkqlknPPPTeXXXZZDjrooPTs2TPTpk3LkUcemVGjRiVJjjjiiJx88smZPHlybrnlliTJ+eefn3HjxmXgwIFJktGjR2fQoEFpamrK9ddfn9deey3Tpk3L5MmTXS0DAAAAAADsUUVjzapVq9LU1JQVK1akUqnkqKOOyty5c3PSSSclSb74xS9m/fr1ufDCC9Pc3JyhQ4dm3rx56datW+07br755nTs2DFnnXVW1q9fn5EjR+a2225Lhw4dajN33nlnpkyZktGjRydJxo8fn5kzZ9b2d+jQIXPmzMmFF16Y4447Ll26dMmECRNyww03/I7OBAAAAAAAsK+qq1ar1dKLeL9obW1NpVJJS0vLbrkiZ8CX5uyGVe0Zy64ZW3oJAAAAAACwV9vRbrDXPbMGAAAAAABgXyLWAAAAAAAAFCTWAAAAAAAAFCTWAAAAAAAAFCTWAAAAAAAAFCTWAAAAAAAAFCTWAAAAAAAAFCTWAAAAAAAAFCTWAAAAAAAAFCTWAAAAAAAAFCTWAAAAAAAAFCTWAAAAAAAAFCTWAAAAAAAAFCTWAAAAAAAAFCTWAAAAAAAAFCTWAAAAAAAAFCTWAAAAAAAAFCTWAAAAAAAAFCTWAAAAAAAAFCTWAAAAAAAAFCTWAAAAAAAAFCTWAAAAAAAAFCTWAAAAAAAAFCTWAAAAAAAAFCTWAAAAAAAAFCTWAAAAAAAAFCTWAAAAAAAAFCTWAAAAAAAAFCTWAAAAAAAAFCTWAAAAAAAAFCTWAAAAAAAAFCTWAAAAAAAAFCTWAAAAAAAAFCTWAAAAAAAAFCTWAAAAAAAAFCTWAAAAAAAAFCTWAAAAAAAAFCTWAAAAAAAAFCTWAAAAAAAAFCTWAAAAAAAAFCTWAAAAAAAAFCTWAAAAAAAAFCTWAAAAAAAAFCTWAAAAAAAAFCTWAAAAAAAAFCTWAAAAAAAAFCTWAAAAAAAAFCTWAAAAAAAAFCTWAAAAAAAAFCTWAAAAAAAAFCTWAAAAAAAAFCTWAAAAAAAAFCTWAAAAAAAAFCTWAAAAAAAAFCTWAAAAAAAAFCTWAAAAAAAAFCTWAAAAAAAAFCTWAAAAAAAAFCTWAAAAAAAAFCTWAAAAAAAAFCTWAAAAAAAAFCTWAAAAAAAAFCTWAAAAAAAAFCTWAAAAAAAAFCTWAAAAAAAAFCTWAAAAAAAAFCTWAAAAAAAAFCTWAAAAAAAAFCTWAAAAAAAAFCTWAAAAAAAAFCTWAAAAAAAAFCTWAAAAAAAAFCTWAAAAAAAAFCTWAAAAAAAAFCTWAAAAAAAAFCTWAAAAAAAAFCTWAAAAAAAAFCTWAAAAAAAAFCTWAAAAAAAAFCTWAAAAAAAAFCTWAAAAAAAAFCTWAAAAAAAAFCTWAAAAAAAAFCTWAAAAAAAAFCTWAAAAAAAAFCTWAAAAAAAAFCTWAAAAAAAAFCTWAAAAAAAAFCTWAAAAAAAAFCTWAAAAAAAAFCTWAAAAAAAAFCTWAAAAAAAAFCTWAAAAAAAAFCTWAAAAAAAAFCTWAAAAAAAAFCTWAAAAAAAAFFQ01syYMSMf+9jH0q1bt/Tu3Tunn356nn/++XYzkyZNSl1dXbvXsGHD2s20tbXlkksuSa9evdK1a9eMHz8+L7/8cruZ5ubmNDU1pVKppFKppKmpKWvXrm0389JLL+XUU09N165d06tXr0yZMiUbNmzYI78dAAAAAAAgKRxrHn300Vx00UVZtGhRHnjggbz99tsZPXp01q1b127u5JNPzooVK2qv+++/v93+qVOnZvbs2Zk1a1YWLFiQN954I+PGjcumTZtqMxMmTMiSJUsyd+7czJ07N0uWLElTU1Nt/6ZNmzJ27NisW7cuCxYsyKxZs3LPPffksssu27MnAQAAAAAA2Kd1LHnwuXPntnt/6623pnfv3lm8eHE++clP1rbX19enT58+2/yOlpaWfPvb387tt9+eUaNGJUnuuOOO9OvXLw8++GDGjBmT5557LnPnzs2iRYsydOjQJMm3vvWtDB8+PM8//3wGDhyYefPm5V//9V+zfPnyNDY2JkluvPHGTJo0KX/913+d7t2774lTAAAAAAAA7OP2qmfWtLS0JEl69uzZbvsjjzyS3r175/DDD8/kyZOzevXq2r7Fixdn48aNGT16dG1bY2NjBg8enMceeyxJsnDhwlQqlVqoSZJhw4alUqm0mxk8eHAt1CTJmDFj0tbWlsWLF29zvW1tbWltbW33AgAAAAAA2Bl7TaypVqu59NJL8/GPfzyDBw+ubT/llFNy5513Zv78+bnxxhvz5JNP5lOf+lTa2tqSJCtXrkznzp3To0ePdt/X0NCQlStX1mZ69+691TF79+7dbqahoaHd/h49eqRz5861mS3NmDGj9gycSqWSfv367foJAAAAAAAA9klFb4P2my6++OI8/fTTWbBgQbvtZ599du2fBw8enGOPPTb9+/fPnDlzcsYZZ2z3+6rVaurq6mrvf/Of38vMb7riiity6aWX1t63trYKNgAAAAAAwE7ZK66sueSSS3Lffffl4YcfziGHHPKus3379k3//v3zwgsvJEn69OmTDRs2pLm5ud3c6tWra1fK9OnTJ6tWrdrqu9asWdNuZssraJqbm7Nx48atrrjZrL6+Pt27d2/3AgAAAAAA2BlFY021Ws3FF1+ce++9N/Pnz8+hhx76Wz/z6quvZvny5enbt2+SZMiQIenUqVMeeOCB2syKFSuydOnSjBgxIkkyfPjwtLS05IknnqjNPP7442lpaWk3s3Tp0qxYsaI2M2/evNTX12fIkCG75fcCAAAAAABsqeht0C666KLcdddd+eEPf5hu3brVrmypVCrp0qVL3njjjUyfPj1nnnlm+vbtm2XLluXKK69Mr1698ulPf7o2e+655+ayyy7LQQcdlJ49e2batGk58sgjM2rUqCTJEUcckZNPPjmTJ0/OLbfckiQ5//zzM27cuAwcODBJMnr06AwaNChNTU25/vrr89prr2XatGmZPHmyK2YAAAAAAIA9puiVNd/4xjfS0tKSE044IX379q29vv/97ydJOnTokGeeeSannXZaDj/88EycODGHH354Fi5cmG7dutW+5+abb87pp5+es846K8cdd1wOOOCA/OhHP0qHDh1qM3feeWeOPPLIjB49OqNHj85RRx2V22+/vba/Q4cOmTNnTvbff/8cd9xxOeuss3L66afnhhtu+N2dEAAAAAAAYJ9TV61Wq6UX8X7R2tqaSqWSlpaW3XI1zoAvzdkNq9ozll0ztvQSAAAAAABgr7aj3aDolTUAAAAAAAD7OrEGAAAAAACgILEGAAAAAACgILEGAAAAAACgILEGAAAAAACgILEGAAAAAACgILEGAAAAAACgILEGAAAAAACgILEGAAAAAACgILEGAAAAAACgILEGAAAAAACgILEGAAAAAACgILEGAAAAAACgILEGAAAAAACgILEGAAAAAACgILEGAAAAAACgILEGAAAAAACgILEGAAAAAACgILEGAAAAAACgILEGAAAAAACgILEGAAAAAACgILEGAAAAAACgILEGAAAAAACgILEGAAAAAACgILEGAAAAAACgILEGAAAAAACgILEGAAAAAACgILEGAAAAAACgILEGAAAAAACgILEGAAAAAACgILEGAAAAAACgILEGAAAAAACgILEGAAAAAACgILEGAAAAAACgILEGAAAAAACgILEGAAAAAACgILEGAAAAAACgILEGAAAAAACgILEGAAAAAACgILEGAAAAAACgILEGAAAAAACgILEGAAAAAACgILEGAAAAAACgILEGAAAAAACgILEGAAAAAACgILEGAAAAAACgILEGAAAAAACgILEGAAAAAACgILEGAAAAAACgILEGAAAAAACgILEGAAAAAACgILEGAAAAAACgILEGAAAAAACgILEGAAAAAACgILEGAAAAAACgILEGAAAAAACgILEGAAAAAACgILEGAAAAAACgILEGAAAAAACgILEGAAAAAACgILEGAAAAAACgILEGAAAAAACgILEGAAAAAACgILEGAAAAAACgILEGAAAAAACgILEGAAAAAACgILEGAAAAAACgILEGAAAAAACgILEGAAAAAACgILEGAAAAAACgILEGAAAAAACgILEGAAAAAACgILEGAAAAAACgILEGAAAAAACgILEGAAAAAACgILEGAAAAAACgILEGAAAAAACgILEGAAAAAACgILEGAAAAAACgILEGAAAAAACgILEGAAAAAACgILEGAAAAAACgILEGAAAAAACgILEGAAAAAACgILEGAAAAAACgILEGAAAAAACgILEGAAAAAACgILEGAAAAAACgILEGAAAAAACgILEGAAAAAACgILEGAAAAAACgILEGAAAAAACgILEGAAAAAACgILEGAAAAAACgILEGAAAAAACgoKKxZsaMGfnYxz6Wbt26pXfv3jn99NPz/PPPt5upVquZPn16Ghsb06VLl5xwwgl59tln2820tbXlkksuSa9evdK1a9eMHz8+L7/8cruZ5ubmNDU1pVKppFKppKmpKWvXrm0389JLL+XUU09N165d06tXr0yZMiUbNmzYI78dAAAAAAAgKRxrHn300Vx00UVZtGhRHnjggbz99tsZPXp01q1bV5u57rrrctNNN2XmzJl58skn06dPn5x00kl5/fXXazNTp07N7NmzM2vWrCxYsCBvvPFGxo0bl02bNtVmJkyYkCVLlmTu3LmZO3dulixZkqamptr+TZs2ZezYsVm3bl0WLFiQWbNm5Z577slll132uzkZAAAAAADAPqmuWq1WSy9iszVr1qR379559NFH88lPfjLVajWNjY2ZOnVqLr/88iS/voqmoaEh1157bS644IK0tLTk4IMPzu23356zzz47SfLKK6+kX79+uf/++zNmzJg899xzGTRoUBYtWpShQ4cmSRYtWpThw4fn5z//eQYOHJif/OQnGTduXJYvX57GxsYkyaxZszJp0qSsXr063bt3/63rb21tTaVSSUtLyw7N/zYDvjTnPX/HnrLsmrGllwAAAAAAAHu1He0Ge9Uza1paWpIkPXv2TJK8+OKLWblyZUaPHl2bqa+vz/HHH5/HHnssSbJ48eJs3Lix3UxjY2MGDx5cm1m4cGEqlUot1CTJsGHDUqlU2s0MHjy4FmqSZMyYMWlra8vixYv30C8GAAAAAAD2dR1LL2CzarWaSy+9NB//+MczePDgJMnKlSuTJA0NDe1mGxoa8stf/rI207lz5/To0WOrmc2fX7lyZXr37r3VMXv37t1uZsvj9OjRI507d67NbKmtrS1tbW21962trTv8ewEAAAAAAJK96Mqaiy++OE8//XTuvvvurfbV1dW1e1+tVrfatqUtZ7Y1vyszv2nGjBmpVCq1V79+/d51TQAAAAAAAFvaK2LNJZdckvvuuy8PP/xwDjnkkNr2Pn36JMlWV7asXr26dhVMnz59smHDhjQ3N7/rzKpVq7Y67po1a9rNbHmc5ubmbNy4casrbja74oor0tLSUnstX758Z342AAAAAABA2VhTrVZz8cUX59577838+fNz6KGHttt/6KGHpk+fPnnggQdq2zZs2JBHH300I0aMSJIMGTIknTp1ajezYsWKLF26tDYzfPjwtLS05IknnqjNPP7442lpaWk3s3Tp0qxYsaI2M2/evNTX12fIkCHbXH99fX26d+/e7gUAAAAAALAzij6z5qKLLspdd92VH/7wh+nWrVvtypZKpZIuXbqkrq4uU6dOzdVXX53DDjsshx12WK6++uoccMABmTBhQm323HPPzWWXXZaDDjooPXv2zLRp03LkkUdm1KhRSZIjjjgiJ598ciZPnpxbbrklSXL++edn3LhxGThwYJJk9OjRGTRoUJqamnL99dfntddey7Rp0zJ58mQRBgAAAAAA2GOKxppvfOMbSZITTjih3fZbb701kyZNSpJ88YtfzPr163PhhRemubk5Q4cOzbx589KtW7fa/M0335yOHTvmrLPOyvr16zNy5Mjcdttt6dChQ23mzjvvzJQpUzJ69Ogkyfjx4zNz5sza/g4dOmTOnDm58MILc9xxx6VLly6ZMGFCbrjhhj306wEAAAAAAJK6arVaLb2I94vW1tZUKpW0tLTslqtxBnxpzm5Y1Z6x7JqxpZcAAAAAAAB7tR3tBkWfWQMAAAAAALCvE2sAAAAAAAAKEmsAAAAAAAAKEmsAAAAAAAAKEmsAAAAAAAAKEmsAAAAAAAAKEmsAAAAAAAAKEmsAAAAAAAAKEmsAAAAAAAAKEmsAAAAAAAAKEmsAAAAAAAAKEmsAAAAAAAAKEmsAAAAAAAAKEmsAAAAAAAAKEmsAAAAAAAAKEmsAAAAAAAAKEmsAAAAAAAAK2qVY86EPfSivvvrqVtvXrl2bD33oQ+95UQAAAAAAAPuKXYo1y5Yty6ZNm7ba3tbWll/96lfveVEAAAAAAAD7io47M3zffffV/vmnP/1pKpVK7f2mTZvy0EMPZcCAAbttcQAAAAAAAO93OxVrTj/99CRJXV1dJk6c2G5fp06dMmDAgNx44427bXEAAAAAAADvdzsVa955550kyaGHHponn3wyvXr12iOLAgAAAAAA2FfsVKzZ7MUXX9zd6wAAAAAAANgn7VKsSZKHHnooDz30UFavXl274maz73znO+95YQAAAAAAAPuCXYo1X/nKV/JXf/VXOfbYY9O3b9/U1dXt7nUBAAAAAADsE3Yp1nzzm9/Mbbfdlqampt29HgAAAAAAgH3KfrvyoQ0bNmTEiBG7ey0AAAAAAAD7nF2KNeedd17uuuuu3b0WAAAAAACAfc4u3Qbtrbfeyt///d/nwQcfzFFHHZVOnTq123/TTTftlsUBAAAAAAC83+1SrHn66adzzDHHJEmWLl3abl9dXd17XhQAAAAAAMC+YpdizcMPP7y71wEAAAAAALBP2qVn1gAAAAAAALB77NKVNSeeeOK73u5s/vz5u7wgAAAAAACAfckuxZrNz6vZbOPGjVmyZEmWLl2aiRMn7o51AQAAAAAA7BN2KdbcfPPN29w+ffr0vPHGG+9pQQAAAAAAAPuS3frMmj/5kz/Jd77znd35lQAAAAAAAO9ruzXWLFy4MPvvv//u/EoAAAAAAID3tV26DdoZZ5zR7n21Ws2KFSvy1FNP5X/8j/+xWxYGAAAAAACwL9ilWFOpVNq932+//TJw4MD81V/9VUaPHr1bFgYAAAAAALAv2KVYc+utt+7udQAAAAAAAOyTdinWbLZ48eI899xzqaury6BBg/LRj350d60LAAAAAABgn7BLsWb16tU555xz8sgjj+QDH/hAqtVqWlpacuKJJ2bWrFk5+OCDd/c6AQAAAAAA3pf225UPXXLJJWltbc2zzz6b1157Lc3NzVm6dGlaW1szZcqU3b1GAAAAAACA961durJm7ty5efDBB3PEEUfUtg0aNCh/93d/l9GjR++2xQEAAAAAALzf7dKVNe+88046deq01fZOnTrlnXfeec+LAgAAAAAA2FfsUqz51Kc+lT/7sz/LK6+8Utv2q1/9Kl/4whcycuTI3bY4AAAAAACA97tdijUzZ87M66+/ngEDBuTDH/5wfv/3fz+HHnpoXn/99Xzta1/b3WsEAAAAAAB439qlZ9b069cvP/vZz/LAAw/k5z//earVagYNGpRRo0bt7vUBAAAAAAC8r+3UlTXz58/PoEGD0tramiQ56aSTcskll2TKlCn52Mc+lo985CP5p3/6pz2yUAAAAAAAgPejnYo1f/M3f5PJkyene/fuW+2rVCq54IILctNNN+22xQEAAAAAALzf7VSs+Zd/+ZecfPLJ290/evToLF68+D0vCgAAAAAAYF+xU7Fm1apV6dSp03b3d+zYMWvWrHnPiwIAAAAAANhX7FSs+b3f+70888wz293/9NNPp2/fvu95UQAAAAAAAPuKnYo1f/iHf5gvf/nLeeutt7bat379+lx11VUZN27cblscAAAAAADA+13HnRn+y7/8y9x77705/PDDc/HFF2fgwIGpq6vLc889l7/7u7/Lpk2b8hd/8Rd7aq0AAAAAAADvOzsVaxoaGvLYY4/lT//0T3PFFVekWq0mSerq6jJmzJh8/etfT0NDwx5ZKAAAAAAAwPvRTsWaJOnfv3/uv//+NDc35xe/+EWq1WoOO+yw9OjRY0+sDwAAAAAA4H1tp2PNZj169MjHPvax3bkWAAAAAACAfc5+pRcAAAAAAACwLxNrAAAAAAAAChJrAAAAAAAAChJrAAAAAAAAChJrAAAAAAAAChJrAAAAAAAAChJrAAAAAAAAChJrAAAAAAAAChJrAAAAAAAAChJrAAAAAAAAChJrAAAAAAAAChJrAAAAAAAAChJrAAAAAAAAChJrAAAAAAAAChJrAAAAAAAAChJrAAAAAAAAChJrAAAAAAAAChJrAAAAAAAAChJrAAAAAAAAChJrAAAAAAAAChJrAAAAAAAAChJrAAAAAAAAChJrAAAAAAAAChJrAAAAAAAAChJrAAAAAAAAChJrAAAAAAAAChJrAAAAAAAAChJrAAAAAAAAChJrAAAAAAAAChJrAAAAAAAAChJrAAAAAAAAChJrAAAAAAAAChJrAAAAAAAAChJrAAAAAAAAChJrAAAAAAAAChJrAAAAAAAAChJrAAAAAAAAChJrAAAAAAAACioaa/7xH/8xp556ahobG1NXV5cf/OAH7fZPmjQpdXV17V7Dhg1rN9PW1pZLLrkkvXr1SteuXTN+/Pi8/PLL7Waam5vT1NSUSqWSSqWSpqamrF27tt3MSy+9lFNPPTVdu3ZNr169MmXKlGzYsGFP/GwAAAAAAICaorFm3bp1OfroozNz5sztzpx88slZsWJF7XX//fe32z916tTMnj07s2bNyoIFC/LGG29k3Lhx2bRpU21mwoQJWbJkSebOnZu5c+dmyZIlaWpqqu3ftGlTxo4dm3Xr1mXBggWZNWtW7rnnnlx22WW7/0cDAAAAAAD8ho4lD37KKafklFNOedeZ+vr69OnTZ5v7Wlpa8u1vfzu33357Ro0alSS544470q9fvzz44IMZM2ZMnnvuucydOzeLFi3K0KFDkyTf+ta3Mnz48Dz//PMZOHBg5s2bl3/913/N8uXL09jYmCS58cYbM2nSpPz1X/91unfvvht/NQAAAAAAwP9vr39mzSOPPJLevXvn8MMPz+TJk7N69eravsWLF2fjxo0ZPXp0bVtjY2MGDx6cxx57LEmycOHCVCqVWqhJkmHDhqVSqbSbGTx4cC3UJMmYMWPS1taWxYsXb3dtbW1taW1tbfcCAAAAAADYGXt1rDnllFNy5513Zv78+bnxxhvz5JNP5lOf+lTa2tqSJCtXrkznzp3To0ePdp9raGjIypUrazO9e/fe6rt79+7dbqahoaHd/h49eqRz5861mW2ZMWNG7Tk4lUol/fr1e0+/FwAAAAAA2PcUvQ3ab3P22WfX/nnw4ME59thj079//8yZMydnnHHGdj9XrVZTV1dXe/+b//xeZrZ0xRVX5NJLL629b21tFWwAAAAAAICdsldfWbOlvn37pn///nnhhReSJH369MmGDRvS3Nzcbm716tW1K2X69OmTVatWbfVda9asaTez5RU0zc3N2bhx41ZX3Pym+vr6dO/evd0LAAAAAABgZ/ynijWvvvpqli9fnr59+yZJhgwZkk6dOuWBBx6ozaxYsSJLly7NiBEjkiTDhw9PS0tLnnjiidrM448/npaWlnYzS5cuzYoVK2oz8+bNS319fYYMGfK7+GkAAAAAAMA+quht0N5444384he/qL1/8cUXs2TJkvTs2TM9e/bM9OnTc+aZZ6Zv375ZtmxZrrzyyvTq1Suf/vSnkySVSiXnnntuLrvsshx00EHp2bNnpk2bliOPPDKjRo1KkhxxxBE5+eSTM3ny5Nxyyy1JkvPPPz/jxo3LwIEDkySjR4/OoEGD0tTUlOuvvz6vvfZapk2blsmTJ7taBgAAAAAA2KOKxpqnnnoqJ554Yu395ue/TJw4Md/4xjfyzDPP5Hvf+17Wrl2bvn375sQTT8z3v//9dOvWrfaZm2++OR07dsxZZ52V9evXZ+TIkbntttvSoUOH2sydd96ZKVOmZPTo0UmS8ePHZ+bMmbX9HTp0yJw5c3LhhRfmuOOOS5cuXTJhwoTccMMNe/oUAAAAAAAA+7i6arVaLb2I94vW1tZUKpW0tLTslityBnxpzm5Y1Z6x7JqxpZcAAAAAAAB7tR3tBv+pnlkDAAAAAADwfiPWAAAAAAAAFCTWAAAAAAAAFCTWAAAAAAAAFCTWAAAAAAAAFCTWAAAAAAAAFCTWAAAAAAAAFCTWAAAAAAAAFCTWAAAAAAAAFCTWAAAAAAAAFCTWAAAAAAAAFCTWAAAAAAAAFCTWAAAAAAAAFCTWAAAAAAAAFCTWAAAAAAAAFCTWAAAAAAAAFCTWAAAAAAAAFCTWAAAAAAAAFCTWAAAAAAAAFCTWAAAAAAAAFCTWAAAAAAAAFCTWAAAAAAAAFCTWAAAAAAAAFCTWAAAAAAAAFCTWAAAAAAAAFCTWAAAAAAAAFCTWAAAAAAAAFCTWAAAAAAAAFCTWAAAAAAAAFCTWAAAAAAAAFCTWAAAAAAAAFCTWAAAAAAAAFCTWAAAAAAAAFCTWAAAAAAAAFCTWAAAAAAAAFCTWAAAAAAAAFCTWAAAAAAAAFCTWAAAAAAAAFCTWAAAAAAAAFCTWAAAAAAAAFCTWAAAAAAAAFCTWAAAAAAAAFCTWAAAAAAAAFCTWAAAAAAAAFCTWAAAAAAAAFCTWAAAAAAAAFCTWAAAAAAAAFCTWAAAAAAAAFCTWAAAAAAAAFCTWAAAAAAAAFCTWAAAAAAAAFCTWAAAAAAAAFCTWAAAAAAAAFCTWAAAAAAAAFCTWAAAAAAAAFCTWAAAAAAAAFCTWAAAAAAAAFCTWAAAAAAAAFCTWAAAAAAAAFCTWAAAAAAAAFCTWAAAAAAAAFCTWAAAAAAAAFCTWAAAAAAAAFCTWAAAAAAAAFCTWAAAAAAAAFCTWAAAAAAAAFCTWAAAAAAAAFCTWAAAAAAAAFCTWAAAAAAAAFCTWAAAAAAAAFCTWAAAAAAAAFCTWAAAAAAAAFCTWAAAAAAAAFCTWAAAAAAAAFCTWAAAAAAAAFCTWAAAAAAAAFCTWAAAAAAAAFCTWAAAAAAAAFCTWAAAAAAAAFCTWAAAAAAAAFCTWAAAAAAAAFCTWAAAAAAAAFCTWAAAAAAAAFCTWAAAAAAAAFCTWAAAAAAAAFCTWAAAAAAAAFCTWAAAAAAAAFCTWAAAAAAAAFCTWAAAAAAAAFCTWAAAAAAAAFCTWAAAAAAAAFCTWAAAAAAAAFCTWAAAAAAAAFCTWAAAAAAAAFCTWAAAAAAAAFCTWAAAAAAAAFFQ01vzjP/5jTj311DQ2Nqauri4/+MEP2u2vVquZPn16Ghsb06VLl5xwwgl59tln2820tbXlkksuSa9evdK1a9eMHz8+L7/8cruZ5ubmNDU1pVKppFKppKmpKWvXrm0389JLL+XUU09N165d06tXr0yZMiUbNmzYEz8bAAAAAACgpmisWbduXY4++ujMnDlzm/uvu+663HTTTZk5c2aefPLJ9OnTJyeddFJef/312szUqVMze/bszJo1KwsWLMgbb7yRcePGZdOmTbWZCRMmZMmSJZk7d27mzp2bJUuWpKmpqbZ/06ZNGTt2bNatW5cFCxZk1qxZueeee3LZZZftuR8PAAAAAACQpK5arVZLLyJJ6urqMnv27Jx++ulJfn1VTWNjY6ZOnZrLL788ya+vomloaMi1116bCy64IC0tLTn44INz++235+yzz06SvPLKK+nXr1/uv//+jBkzJs8991wGDRqURYsWZejQoUmSRYsWZfjw4fn5z3+egQMH5ic/+UnGjRuX5cuXp7GxMUkya9asTJo0KatXr0737t136De0tramUqmkpaVlhz/zbgZ8ac57/o49Zdk1Y0svAQAAAAAA9mo72g322mfWvPjii1m5cmVGjx5d21ZfX5/jjz8+jz32WJJk8eLF2bhxY7uZxsbGDB48uDazcOHCVCqVWqhJkmHDhqVSqbSbGTx4cC3UJMmYMWPS1taWxYsXb3eNbW1taW1tbfcCAAAAAADYGXttrFm5cmWSpKGhod32hoaG2r6VK1emc+fO6dGjx7vO9O7de6vv7927d7uZLY/To0ePdO7cuTazLTNmzKg9B6dSqaRfv347+SsBAAAAAIB93V4bazarq6tr975arW61bUtbzmxrfldmtnTFFVekpaWl9lq+fPm7rgsAAAAAAGBLe22s6dOnT5JsdWXL6tWra1fB9OnTJxs2bEhzc/O7zqxatWqr71+zZk27mS2P09zcnI0bN251xc1vqq+vT/fu3du9AAAAAAAAdsZeG2sOPfTQ9OnTJw888EBt24YNG/Loo49mxIgRSZIhQ4akU6dO7WZWrFiRpUuX1maGDx+elpaWPPHEE7WZxx9/PC0tLe1mli5dmhUrVtRm5s2bl/r6+gwZMmSP/k4AAAAAAGDf1rHkwd9444384he/qL1/8cUXs2TJkvTs2TMf/OAHM3Xq1Fx99dU57LDDcthhh+Xqq6/OAQcckAkTJiRJKpVKzj333Fx22WU56KCD0rNnz0ybNi1HHnlkRo0alSQ54ogjcvLJJ2fy5Mm55ZZbkiTnn39+xo0bl4EDByZJRo8enUGDBqWpqSnXX399XnvttUybNi2TJ092tQwAAAAAALBHFY01Tz31VE488cTa+0svvTRJMnHixNx222354he/mPXr1+fCCy9Mc3Nzhg4dmnnz5qVbt261z9x8883p2LFjzjrrrKxfvz4jR47Mbbfdlg4dOtRm7rzzzkyZMiWjR49OkowfPz4zZ86s7e/QoUPmzJmTCy+8MMcdd1y6dOmSCRMm5IYbbtjTpwAAAAAAANjH1VWr1WrpRbxftLa2plKppKWlZbdckTPgS3N2w6r2jGXXjC29BAAAAAAA2KvtaDfYa59ZAwAAAAAAsC8QawAAAAAAAAoSawAAAAAAAAoSawAAAAAAAAoSawAAAAAAAAoSawAAAAAAAAoSawAAAAAAAAoSawAAAAAAAAoSawAAAAAAAAoSawAAAAAAAAoSawAAAAAAAAoSawAAAAAAAAoSawAAAAAAAAoSawAAAAAAAAoSawAAAAAAAAoSawAAAAAAAAoSawAAAAAAAAoSawAAAAAAAAoSawAAAAAAAAoSawAAAAAAAAoSawAAAAAAAAoSawAAAAAAAAoSawAAAAAAAAoSawAAAAAAAAoSawAAAAAAAAoSawAAAAAAAAoSawAAAAAAAArqWHoBsLsN+NKc0kvYpmXXjC29BAAAAAAA9kKurAEAAAAAAChIrAEAAAAAAChIrAEAAAAAAChIrAEAAAAAAChIrAEAAAAAAChIrAEAAAAAAChIrAEAAAAAAChIrAEAAAAAAChIrAEAAAAAAChIrAEAAAAAACioY+kFAOUN+NKc0kvYrmXXjC29BAAAAACAPcqVNQAAAAAAAAWJNQAAAAAAAAWJNQAAAAAAAAWJNQAAAAAAAAWJNQAAAAAAAAWJNQAAAAAAAAWJNQAAAAAAAAWJNQAAAAAAAAWJNQAAAAAAAAWJNQAAAAAAAAWJNQAAAAAAAAWJNQAAAAAAAAWJNQAAAAAAAAWJNQAAAAAAAAWJNQAAAAAAAAWJNQAAAAAAAAWJNQAAAAAAAAWJNQAAAAAAAAWJNQAAAAAAAAWJNQAAAAAAAAWJNQAAAAAAAAWJNQAAAAAAAAWJNQAAAAAAAAWJNQAAAAAAAAWJNQAAAAAAAAWJNQAAAAAAAAWJNQAAAAAAAAWJNQAAAAAAAAWJNQAAAAAAAAWJNQAAAAAAAAWJNQAAAAAAAAWJNQAAAAAAAAWJNQAAAAAAAAWJNQAAAAAAAAWJNQAAAAAAAAWJNQAAAAAAAAWJNQAAAAAAAAWJNQAAAAAAAAWJNQAAAAAAAAWJNQAAAAAAAAWJNQAAAAAAAAWJNQAAAAAAAAWJNQAAAAAAAAWJNQAAAAAAAAWJNQAAAAAAAAWJNQAAAAAAAAWJNQAAAAAAAAWJNQAAAAAAAAWJNQAAAAAAAAWJNQAAAAAAAAWJNQAAAAAAAAWJNQAAAAAAAAWJNQAAAAAAAAWJNQAAAAAAAAWJNQAAAAAAAAWJNQAAAAAAAAXt1bFm+vTpqaura/fq06dPbX+1Ws306dPT2NiYLl265IQTTsizzz7b7jva2tpyySWXpFevXunatWvGjx+fl19+ud1Mc3NzmpqaUqlUUqlU0tTUlLVr1/4ufiIAAAAAALCP26tjTZJ85CMfyYoVK2qvZ555prbvuuuuy0033ZSZM2fmySefTJ8+fXLSSSfl9ddfr81MnTo1s2fPzqxZs7JgwYK88cYbGTduXDZt2lSbmTBhQpYsWZK5c+dm7ty5WbJkSZqamn6nvxMAAAAAANg3dSy9gN+mY8eO7a6m2axareZv/uZv8hd/8Rc544wzkiTf/e5309DQkLvuuisXXHBBWlpa8u1vfzu33357Ro0alSS544470q9fvzz44IMZM2ZMnnvuucydOzeLFi3K0KFDkyTf+ta3Mnz48Dz//PMZOHDg7+7HAgAAAAAA+5y9/sqaF154IY2NjTn00ENzzjnn5N///d+TJC+++GJWrlyZ0aNH12br6+tz/PHH57HHHkuSLF68OBs3bmw309jYmMGDB9dmFi5cmEqlUgs1STJs2LBUKpXazPa0tbWltbW13QsAAAAAAGBn7NWxZujQofne976Xn/70p/nWt76VlStXZsSIEXn11VezcuXKJElDQ0O7zzQ0NNT2rVy5Mp07d06PHj3edaZ3795bHbt37961me2ZMWNG7Tk3lUol/fr12+XfCgAAAAAA7Jv26lhzyimn5Mwzz8yRRx6ZUaNGZc6cOUl+fbuzzerq6tp9plqtbrVtS1vObGt+R77niiuuSEtLS+21fPny3/qbAAAAAAAAftNeHWu21LVr1xx55JF54YUXas+x2fLql9WrV9eutunTp082bNiQ5ubmd51ZtWrVVsdas2bNVlftbKm+vj7du3dv9wIAAAAAANgZ/6liTVtbW5577rn07ds3hx56aPr06ZMHHnigtn/Dhg159NFHM2LEiCTJkCFD0qlTp3YzK1asyNKlS2szw4cPT0tLS5544onazOOPP56WlpbaDAAAAAAAwJ7SsfQC3s20adNy6qmn5oMf/GBWr16d//k//2daW1szceLE1NXVZerUqbn66qtz2GGH5bDDDsvVV1+dAw44IBMmTEiSVCqVnHvuubnsssty0EEHpWfPnpk2bVrttmpJcsQRR+Tkk0/O5MmTc8sttyRJzj///IwbNy4DBw4s9tsBAAAAAIB9w14da15++eV85jOfyX/8x3/k4IMPzrBhw7Jo0aL0798/SfLFL34x69evz4UXXpjm5uYMHTo08+bNS7du3WrfcfPNN6djx44566yzsn79+owcOTK33XZbOnToUJu58847M2XKlIwePTpJMn78+MycOfN3+2MBAAAAAIB9Ul21Wq2WXsT7RWtrayqVSlpaWnbL82sGfGnObljVnrHsmrGll7Bde+t5c852zd583gAAAAAA3s2OdoP/VM+sAQAAAAAAeL8RawAAAAAAAAoSawAAAAAAAAoSawAAAAAAAAoSawAAAAAAAAoSawAAAAAAAArqWHoBAP9ZDfjSnNJL2KZl14wtvQQAAAAAYCe4sgYAAAAAAKAgsQYAAAAAAKAgsQYAAAAAAKAgsQYAAAAAAKAgsQYAAAAAAKAgsQYAAAAAAKAgsQYAAAAAAKAgsQYAAAAAAKAgsQYAAAAAAKAgsQYAAAAAAKAgsQYAAAAAAKAgsQYAAAAAAKAgsQYAAAAAAKAgsQYAAAAAAKAgsQYAAAAAAKAgsQYAAAAAAKAgsQYAAAAAAKAgsQYAAAAAAKAgsQYAAAAAAKAgsQYAAAAAAKAgsQYAAAAAAKAgsQYAAAAAAKAgsQYAAAAAAKAgsQYAAAAAAKAgsQYAAAAAAKAgsQYAAAAAAKCgjqUXAMC+Y8CX5pRewnYtu2Zs6SUAAAAAsI9yZQ0AAAAAAEBBYg0AAAAAAEBBYg0AAAAAAEBBYg0AAAAAAEBBYg0AAAAAAEBBYg0AAAAAAEBBYg0AAAAAAEBBYg0AAAAAAEBBYg0AAAAAAEBBYg0AAAAAAEBBHUsvAAB4dwO+NKf0ErZp2TVjSy8BAAAA4H3BlTUAAAAAAAAFubIGAHjf2VuvRkpckQQAAABszZU1AAAAAAAABYk1AAAAAAAABbkNGgAASfbe28e5dRwAAADvd66sAQAAAAAAKEisAQAAAAAAKEisAQAAAAAAKEisAQAAAAAAKEisAQAAAAAAKEisAQAAAAAAKEisAQAAAAAAKEisAQAAAAAAKEisAQAAAAAAKEisAQAAAAAAKEisAQAAAAAAKEisAQAAAAAAKEisAQAAAAAAKEisAQAAAAAAKEisAQAAAAAAKEisAQAAAAAAKEisAQAAAAAAKEisAQAAAAAAKEisAQAAAAAAKKhj6QUAAMB/VgO+NKf0ErZr2TVjSy8BAACAHeTKGgAAAAAAgILEGgAAAAAAgILEGgAAAAAAgILEGgAAAAAAgII6ll4AAACwbxnwpTmll7BNy64ZW3oJAADAPsqVNQAAAAAAAAW5sgYAAGAvt7dejZTs3Vck7a3nbW8+ZwAAlOHKGgAAAAAAgILEGgAAAAAAgILEGgAAAAAAgILEGgAAAAAAgII6ll4AAAAAsHcY8KU5pZewXcuuGVt6Cdu1t563vfmcAQDtiTUAAAAA/E7trYErEbkAKMNt0AAAAAAAAAoSawAAAAAAAAoSawAAAAAAAAryzBoAAAAA+E9gb33Wz978nJ+99Zwlztuu2JvPGbxXYg0AAAAAALwHe2vgSkSu/yzEGgAAAAAA4Hdub41cJQKXZ9YAAAAAAAAUJNYAAAAAAAAUJNYAAAAAAAAUJNYAAPD/tXfnYTWm/x/A36dNpVKhhFZJIkt2ZijbZA/D2HdjZ+xmLFkGMXZm7FGMbQzGvrVRWaJUFFGRIWvWCi3P7w8/5+s4hQzd5xzv13W5Lud+Tub9vb/VeZ77cy9EREREREREJBCLNURERERERERERERERAKxWENERERERERERERERCQQizVEREREREREREREREQCsVjzjj/++AP29vbQ19dHjRo1cPLkSdGRiIiIiIiIiIiIiIhIg7FY85bt27fjp59+wuTJkxEVFYVvv/0WLVq0QEpKiuhoRERERERERERERESkoVisecuiRYvQv39/DBgwABUrVsSSJUtgbW2NlStXio5GREREREREREREREQaSkd0AFXx6tUrnD9/HpMmTVJob968OcLDw/P8mpcvX+Lly5fy10+ePAEAPH369LNkyn2Z8Vn+nS/hc/1v/BJUtd/YZ5+G/VZw7LNPw34rOPbZp2G/FRz77NOw3wqOffZp2G8Fxz77NOy3gmOffRr2W8Gxzz4N+63g2Gefhv1WcJ+zz978W5Ikvfd9MulD7/hK3L59G2XKlEFYWBjq168vb58zZw78/Pxw5coVpa+ZPn06ZsyYUZgxiYiIiIiIiIiIiIhIzdy8eRNly5bN9zpX1rxDJpMpvJYkSantjZ9//hljxoyRv87NzUVaWhqKFy+e79eI8PTpU1hbW+PmzZswMTERHUdtsN8Kjn32adhvBcc++zTst4Jjn30a9lvBsc8+Dfut4Nhnn4b9VnDss0/Dfis49tmnYb8VHPvs07DfCo599mlUud8kScKzZ89QunTp976PxZr/V6JECWhra+POnTsK7ffu3YOlpWWeX1OkSBEUKVJEoc3U1PRLRfzPTExMVO4bVR2w3wqOffZp2G8Fxz77NOy3gmOffRr2W8Gxzz4N+63g2Gefhv1WcOyzT8N+Kzj22adhvxUc++zTsN8Kjn32aVS134oVK/bB92gVQg61oKenhxo1auDYsWMK7ceOHVPYFo2IiIiIiIiIiIiIiOhz4sqat4wZMwY9e/ZEzZo1Ua9ePaxZswYpKSkYPHiw6GhERERERERERERERKShWKx5yw8//ICHDx9i5syZSE1NReXKlXHw4EHY2tqKjvafFClSBN7e3kpbttH7sd8Kjn32adhvBcc++zTst4Jjn30a9lvBsc8+Dfut4Nhnn4b9VnDss0/Dfis49tmnYb8VHPvs07DfCo599mk0od9kkiRJokMQERERERERERERERF9rXhmDRERERERERERERERkUAs1hAREREREREREREREQnEYg0REREREREREREREZFALNYQEREREREREREREREJxGINERERERGphadPn+b559mzZ3j16pXoeERERKRB+vTpgxMnToiOQURfER3RAejLSE9PR0hICFJSUpQeXEeOHCkoFWmiW7duISwsDPfu3UNubq7CNX6vEYmTk5ODjRs3IiAgIM+fz8DAQEHJSFMFBwfD3d1ddAzScKamppDJZPleL1u2LPr06QNvb29oaXFeGlFh27lzJ3bs2JHnc2hkZKSgVEREn+bZs2do3rw5rK2t0bdvX/Tu3RtlypQRHYuI/p8mjnuwWKOBoqKi0LJlS2RkZCA9PR3m5uZ48OABDA0NYWFhwQF0+mw2bNiAwYMHQ09PD8WLF1cYPJHJZPxe+4DHjx9j586dSExMxPjx42Fubo7IyEhYWlryBjAfffr0Qb9+/dCwYUPRUVTeqFGjsHHjRrRq1QqVK1d+7+AmKcrJycHixYvzHWxKS0sTlEy1eXp6okyZMvIHWWtra9GR1MK///6LvXv35vm9tmjRIkGpVNfGjRsxefJk9OnTB7Vr14YkSYiIiICfnx+mTJmC+/fvY8GCBShSpAh++eUX0XFVhiY+yBaWuLi4PH8+27ZtKyiR6lq2bBkmT56M3r17459//kHfvn2RmJiIiIgIDBs2THQ8Ivp/AQEB+X4e+Pr6Ckqlmv7++288fPgQmzdvxsaNG+Ht7Y2mTZuif//+aNeuHXR1dUVHVGmcSF5wAQEBaNKkSZ7XVqxYgeHDhxdyItWmieMeMkmSJNEh6PNyd3eHk5MTVq5cCVNTU0RHR0NXVxc9evTAqFGj0KFDB9ERVRpng308a2trDB48GD///DNnrxZQTEwMmjZtimLFiuH69eu4cuUKHBwcMHXqVNy4cQP+/v6iI6qkjh074sCBA5zZ9BFKlCgBf39/tGzZUnQUtTNt2jSsW7cOY8aMwdSpUzF58mRcv34de/bswbRp0/hgkY+0tDT5g2xMTAyaNGmC/v37w8vLC3p6eqLjqaSAgAC0bdsW9vb2uHLlCipXrozr169DkiS4ublxAD0PTZo0waBBg9C5c2eF9h07dmD16tUICAjApk2bMHv2bFy+fFlQStUzfPhw+YOslZWV0oPs4sWLBSVTXUlJSWjfvj1iY2Mhk8nw5rH5Td/l5OSIjKeSnJ2d4e3tja5du8LY2BjR0dFwcHDAtGnTkJaWhhUrVoiOqNIeP36M9evXIz4+HjKZDBUrVkT//v1RrFgx0dFUlp+fH0qUKIFWrVoBACZMmIA1a9bAxcUFW7duha2treCEqmfGjBmYOXMmatasmefnwe7duwUlUw9RUVHw9fXFunXrYGRkhB49emDo0KEoX7686Ggq50MTyZOSkkRHVEmmpqY4duwYatWqpdC+ZMkSTJs2DU+fPhWUTDVp5LiHRBqnWLFi0uXLl+V/j4uLkyRJkk6fPi1VqFBBZDSVt3TpUsnIyEgaNmyYpKenJw0aNEhq2rSpVKxYMemXX34RHU/lmJubS9euXRMdQy01adJEGj9+vCRJkmRkZCQlJiZKkiRJYWFhkq2trcBkqu/BgwfSkiVLpGrVqkk6OjqSp6en9Ndff0mvXr0SHU2lWFlZSVeuXBEdQy05ODhI+/fvlyTp9c/nm99zS5culbp27SoymtqIioqSRowYIZUoUUIyNzeXRowYIV24cEF0LJVTq1YtaerUqZIk/e+z4NmzZ1Lbtm2lP/74Q3A61WRgYCAlJCQotSckJEgGBgaSJElSUlKS/O/0WvHixaUDBw6IjqFWWrduLbVr1066d++eZGRkJMXFxUknT56UateuLZ04cUJ0PJVkYGAgXb9+XZIkSSpZsqT8935CQoJkbm4uMprKi4iIkMzNzaUyZcpI7du3l7y8vKSyZctKxYsXl86fPy86nspycnKSAgICJEmSpPDwcMnAwEBavXq11KZNG6l9+/aC06mmUqVKSf7+/qJjqKXbt29LPj4+kpOTk1S0aFGpV69eUrNmzSQdHR1p0aJFouOpnEaNGkkDBw6UsrOz5fe5KSkpUsOGDaW///5bdDyV5evrK5UoUUK6dOmSvO23336TTExMeP+RB00c92CxRgOVKFFC/o3q5OQkHT58WJIkSYqPj+eD6wdUqFBB2rJliyRJigPoU6dOlYYNGyYymkoaP368NHfuXNEx1JKJiYl8APjt77Xr169LRYoUERlNrURGRkrDhw+X9PX1pRIlSkg//fRTnoN4X6MFCxZIQ4cOlXJzc0VHUTuGhobSjRs3JEl6/UD7ZpAkMTFRMjExERlNrdy6dUvy9vaWihQpIhUtWlTS1taWvvnmG+nixYuio6mMt4uBpqam8r65cOECC/f5KF++vDRx4kSl9okTJ0pOTk6SJL0e9CxdunRhR1Npmvgg+6UVL15cio6OliTp9X3bm8lwAQEBUrVq1URGU1n29vbyz8yaNWtKq1atkiRJko4cOSKZmZmJjKbyvvnmG6lPnz5SVlaWvC0rK0vq3bu39O233wpMptoMDAzk92wTJkyQevbsKUmSJF28eFEqUaKEyGgqixMuC+bVq1fSzp07pVatWkm6urpSjRo1pJUrV0pPnz6Vv2fr1q2SqampwJSqiRPJP91vv/0mlSlTRkpOTpZ8fHwkExMTKSwsTHQslaSJ4x48s0YDVa9eHefOnYOTkxM8PDwwbdo0PHjwAJs2bYKrq6voeCotJSUF9evXBwAYGBjg2bNnAICePXuibt26XLr/jrlz56J169Y4fPgwXF1dlfZr5V77+dPX189z+eqVK1dQsmRJAYnUT2pqKo4ePYqjR49CW1sbLVu2xKVLl+Di4oL58+dj9OjRoiMKFRoaiqCgIBw6dAiVKlVS+vnctWuXoGSqr2zZskhNTYWNjQ0cHR1x9OhRuLm5ISIiAkWKFBEdT6VlZWXhn3/+ga+vL44dO4aaNWtixYoV6Nq1K9LS0jBx4kR06tQJcXFxoqOqhKJFi+Lly5cAgNKlSyMxMRGVKlUCADx48EBkNJW1YMECdOrUCYcOHUKtWrUgk8kQERGBy5cvY+fOnQCAiIgI/PDDD4KTqpaxY8di6dKlWLFihUbs5V0YcnJyYGRkBOD1Fhu3b99GhQoVYGtriytXrghOp5oaN26Mffv2wc3NDf3798fo0aOxc+dOnDt3jltxf8C5c+ewdu1a6Oj8b4hGR0cHEyZMQM2aNQUmU21GRkZ4+PAhbGxscPToUfn9v76+PjIzMwWnU00DBgzAli1bMHXqVNFR1IKVlRVyc3PRtWtXnD17FtWqVVN6z3fffQdTU9NCz6bqdHV15fcclpaWSElJQcWKFVGsWDGkpKQITqfaxo0bh4cPH6JmzZrIycnB0aNHUadOHdGxVJImjnuwWKOB5syZIy8yzJo1C71798aQIUPg6OjIw+I+oFSpUnj48CFsbW1ha2uL06dPo2rVqkhOTpbvU03/M2fOHBw5cgQVKlQAAIWHfw4EvF+7du0wc+ZM7NixA8Dr/kpJScGkSZPQsWNHwelUV1ZWFvbu3YsNGzbg6NGjqFKlCkaPHo3u3bvD2NgYALBt2zYMGTLkqy/WmJqaon379qJjqKX27dsjICAAderUwahRo9C1a1esX78eKSkpX/331fuMGDECW7duBQD06NED8+fPR+XKleXXixYtCh8fH9jZ2QlKqHrq1q2LsLAwuLi4oFWrVhg7dixiY2Oxa9cu1K1bV3Q8ldS2bVtcuXIFq1atQkJCAiRJQosWLbBnzx7599aQIUPEhlRBmvgg+6VVrlwZMTExcHBwQJ06dTB//nzo6elhzZo1cHBwEB1PJa1Zs0Z+WPngwYNhbm6O0NBQtGnTBoMHDxacTrWZmJggJSUFzs7OCu03b96U3+OSsmbNmmHAgAGoXr06EhIS5GfXXLp0ifcb+Xjx4gXWrFmD48ePo0qVKpxw+QGLFy9Gp06doK+vn+97zMzMkJycXIip1AMnkn+8ZcuWKbVZWVnB0NAQDRs2xJkzZ3DmzBkA4Pmp79DEcQ+ZxBFoIrkBAwbA2toa3t7eWLVqFcaMGYMGDRrIZ4OtX79edESVYmZmhsWLF6NPnz6io6idp0+fyleCPHv2DKVLl8adO3dQr149HDx4EEWLFhUdUSWVKFFCPrNp4MCBec5sevToEdzc3HjDTJ/N6dOnER4eDkdHR7Rt21Z0HJXVpEkTDBgwAB07doSenl6e78nOzkZYWBgaNWpUyOlUU1JSEp4/f44qVaogIyMD48aNQ2hoKBwdHbF48WIejEyfTd++fd97fcOGDYWURH0cOXIE6enp6NChA5KSktC6dWtcvnwZxYsXx/bt29G4cWPREUmDjBw5Ert378aCBQtQv359yGQyhIaGYvz48ejYsSOWLFkiOqJKevz4MaZMmYKbN29iyJAh8PT0BAB4e3tDT08PkydPFpxQ9Xh4eOR7TSaTITAwsBDTkCY7d+4cnj17Bg8PD9y/fx+9e/eW3+du2LABVatWFR1RZdjb23/U+2QyGZKSkr5wGhKNxRoNlJycjOzsbJQvX16h/erVq9DV1eUMk/fIzc1Fbm6ufPn5jh075B8mgwcPznfw6WtVqlQpnDx5Uul7jT5eYGAgIiMjkZubCzc3NzRt2lR0JJW2adOmD85sIiIizfb48WOcPXsW9+7dk8/if6NXr16CUtHXIC0tDWZmZlxB/h4nT57E6tWrkZiYiJ07d6JMmTLYtGkT7O3t8c0334iOp7JevXqF8ePHY9WqVcjOzgbweguhIUOGwMfHh9uwEgmSnp4OHx8fBAQE5HnfwYFzItVw//59XLlyBTKZDE5OTmp9vACLNRqoUaNG6NevH3r37q3QvnnzZqxbtw7BwcFigpHGmTt3LlJTU/NcsklE4u3cuRM7duxASkoKXr16pXAtMjJSUCrVtHfv3o9+L1fX5C8hIQHBwcF5PsxOmzZNUCrV9+rVqzz7zMbGRlAi1bVv3z50794d6enpMDY2VtqCNS0tTWA6oq/b33//jZ49e6J79+7YtGkT4uLi4ODggD/++AP79+/HwYMHRUdUeRkZGUhMTIQkSXB0dIShoaHoSConJibmo99bpUqVL5hEvV27dg2JiYlo2LAhDAwMIEkSC9F56Nq1K0JCQtCzZ09YWVkp9dGoUaMEJSNNlJWVhQoVKmD//v1wcXERHUctpKenY8SIEfD395c/S2lra6NXr15Yvny5Wn6OslijgUxMTBAZGQlHR0eF9mvXrqFmzZp4/PixmGAqKiYmBpUrV4aWltYHb/x4s6eoffv2CAwMRPHixbn/eQGNHDkSjo6OSvuNrlixAteuXeNWB28pyIG0/J77n2XLlmHy5Mno3bs31q5di759+yIxMREREREYNmwYZs+eLTqiStHS0lJ4LZPJlM4qe/NwlpOTU2i51MnatWsxZMgQlChRAqVKlVIaRGeBUFlCQgL69++P8PBwhfY3Ayb8XlPm5OSEli1bYs6cOWr58FWY3NzcEBAQADMzM1SvXv29g3D8+XytQ4cO2LhxI0xMTD54/8F7DmXVq1fH6NGj0atXLxgbGyM6OhoODg64cOECPD09cefOHdERVdaTJ0+Qk5MDc3Nzhfa0tDTo6OjAxMREUDLVo6WlJb9P+1BxgZ+jyh4+fIjOnTsjKCgIMpkMV69ehYODA/r37w9TU1MsXLhQdESVYmpqigMHDqBBgwaio6idu3fvYty4cfJVSe8+W/HnM29lypTB8ePHUbFiRdFR1MKgQYNw/PhxrFixQv5zGhoaipEjR6JZs2ZYuXKl4IQFpyM6AH1+MpkMz549U2p/cwNIiqpVq4Y7d+7AwsIC1apVy3OADgAHTfJgampaoIF0+p+///47z5n89evXh4+PD4s1bylWrJjoCGrpjz/+wJo1a9C1a1f4+flhwoQJcHBwwLRp0zjzPA9vr2g4fvw4Jk6ciDlz5qBevXqQyWQIDw/HlClTMGfOHIEpVduvv/6K2bNnY+LEiaKjqI2+fftCR0cH+/fvz3O2Jim7desWRo4cyULNR2jXrp186yQvLy+xYdREsWLF5D+HvP8ouCtXrqBhw4ZK7SYmJpww+AFdunRBmzZtMHToUIX2HTt2YO/evVyV9Ja3z6WMiorCuHHjMH78eNSrVw8AcOrUKSxcuBDz588XFVGljR49Grq6ukhJSVEYDP7hhx8wevRoFmveYWZmplREpY/Tp08fpKSkYOrUqbzPLYARI0Zg3rx5WLdunfyIBsrf33//jZ07d8Ld3V3e1rJlSxgYGKBz585qWazhyhoN1Lp1axgaGmLr1q3Q1tYG8Lpi/cMPPyA9PR2HDh0SnFC13LhxAzY2NpDJZLhx48Z738uDfulz0dfXx8WLF/NcAVe5cmW8ePFCUDLSFIaGhoiPj4etrS0sLCxw7NgxVK1aFVevXkXdunXx8OFD0RFVVuXKlbFq1SqlvfVPnjyJH3/8EfHx8YKSqTYTExNcuHABDg4OoqOojaJFi+L8+fNwdnYWHUVtdOjQAV26dEHnzp1FRyGid5QrVw6rV69G06ZNFVbW+Pv7w8fHB3FxcaIjqixzc3OEhYUpzaS+fPkyGjRowPu2fNSuXRvTp09Hy5YtFdoPHjyIqVOn4vz584KSqa5SpUrhyJEjqFq1qsLPaXJyMlxdXfH8+XPREVXK5s2b8c8//8DPz48TRQrI2NgYJ0+eRLVq1URHUSvt27dHQEAAjIyM4OrqiqJFiypc58peRYaGhjh//rzS5+elS5dQu3ZtpKenC0r26Vii00Dz589Hw4YNUaFCBXz77bcAXg8wPX36FIGBgYLTqZ63CzAsxnwaTTrIq7A4Ojri8OHDGD58uEL7oUOHONBJn0WpUqXw8OFD2NrawtbWFqdPn0bVqlWRnJyc5+pB+p/ExMQ8Z1QXK1YM169fL/xAaqJTp044evQoBg8eLDqK2nBxccGDBw9Ex1ArrVq1wvjx4xEXFwdXV1elLVh5phSROIMGDcKoUaPg6+sLmUyG27dv49SpUxg3bhzPLfuAly9fIjs7W6k9KysLmZmZAhKph9jYWNjb2yu129vbsziYj/T09DyLDg8ePJCvxqT/WbhwIRITE2FpaQk7Ozul+w5uI5o/a2trPnd+AlNTU3Ts2FF0DLVRr149eHt7w9/fH/r6+gCAzMxMzJgxQ77iUt1wZY2Gun37NlasWIHo6GgYGBigSpUqGD58OJdv5oGHSn86TTzIq7D4+vpi+PDhGD9+PBo3bgwACAgIwMKFC7FkyRIMHDhQcELVtXPnTuzYsQMpKSl49eqVwjXeLP/PgAEDYG1tDW9vb6xatQpjxoxBgwYNcO7cOXTo0AHr168XHVFlNWzYELq6uti8eTOsrKwAAHfu3EHPnj3x6tUrhISECE6omubOnYtFixahVatWeQ6iv3tGFwGBgYHy7fXy6jOeUaDs3fOl3sYta/OXk5ODxYsX5/v5ye0xX/vQ2T5v4z1H3iZPnozFixfLV4kXKVIE48aNw6xZswQnU23u7u5wdXXF8uXLFdqHDRuGmJgYnDx5UlAy1ebm5oaKFSti/fr18kG6ly9fol+/foiPj+fPaR5atWoFNzc3zJo1C8bGxoiJiYGtrS26dOmC3Nxc7Ny5U3RElTJjxoz3Xvf29i6kJOrn6NGjWLhwIVavXg07OzvRcUhDXbx4EZ6ennjx4gWqVq0KmUyGCxcuQF9fH0eOHEGlSpVERywwFmvoq/ehQ6XffmDjAIAiTTzIqzCtXLkSs2fPxu3btwEAdnZ2mD59Onr16iU4mepatmwZJk+ejN69e2Pt2rXo27cvEhMTERERgWHDhmH27NmiI6qM3Nxc5Obmyve53bFjB0JDQ+Ho6IjBgwdDT09PcELVde3aNbRv3x5XrlyBjY0NACAlJQVOTk7Ys2eP0vaF9FpeM1vfkMlkSEpKKsQ06uHNPci7g8NvDk3mfQd9LtOmTcO6deswZswYTJ06FZMnT8b169exZ88eTJs2jcXU//ehQbm3cYBOUU5ODkJDQ+Hq6gp9fX3ExcUhNzcXLi4uMDIyEh1P5YWFhaFp06aoVasWmjRpAuD1RK6IiAgcPXpUvmMGKTp79izatGmD3NxcVK1aFQAQHR0NmUyG/fv3o3bt2oITqp64uDi4u7ujRo0aCAwMRNu2bXHp0iWkpaUhLCwM5cqVEx2RNISZmRkyMjKQnZ0NQ0NDpUlJnChCn0tmZiY2b96My5cvQ5IkuLi4oHv37jAwMBAd7ZOwWKMhYmJiULlyZWhpaSEmJua9761SpUohpVI/HzpUulmzZqIjqpQSJUooHeQFAEFBQejcuTPu378vJpiauX//PgwMDPgg+xGcnZ3h7e2Nrl27KuyxPG3aNKSlpWHFihWiI5KGkCQJx44dU7jha9q0KQ/GpM/qQ6u0GjVqVEhJSNOVK1cOy5YtQ6tWrWBsbIwLFy7I206fPo0tW7aIjkgaQF9fH/Hx8e8t3lP+Lly4gN9++w0XLlyQ747x888/o3z58qKjqbSMjAylQbpu3bopnfNA/3Pnzh2sXLkS58+fR25uLtzc3DBs2DD5inKiz8HPz++913v37l1ISdQPdxP5urFYoyG0tLRw584dWFhYQEtLS2l1yBucpfl+PFS6YDTxIC9SbYaGhoiPj4etrS0sLCxw7NgxVK1aFVevXkXdunV5+Oo7Hj16hPXr1yM+Ph4ymQwVK1ZE3759uSUmEam1kJAQLFiwQOF32/jx4znz/D2KFi2K+Ph42NjYwMrKCgcOHICbmxuSkpJQvXp1PHnyRHRE0gC1atWCj4+PfGUIEZG64zaiVNi4m8iH7d27Fy1atICuru4Hj7ZQx+MsdEQHoM8jOTlZfqh7cnKy4DTqi4dKF4wmHuRVWO7evYtx48YhICAA9+7dUyqusqiat1KlSuHhw4ewtbWFra0tTp8+japVqyI5OZmHF74jJCQE7dq1g4mJCWrWrAng9Y3fzJkzsXfvXs7Y/4D09HSEhITk+VDG7YLy9++//2Lv3r159tuiRYsEpVItXA3932zevBl9+/ZFhw4dMHLkSEiShPDwcDRp0gQbN25Et27dREdUSWXLlkVqaipsbGzg6OiIo0ePws3NDRERETxQOh8coCu42bNny8+nqVGjhtLKBp7Dpejp06fyPnn69Ol738u+y19CQgKCg4Nx7949+Tmqb0ybNk1QKtXyofuNt/HeQ9GMGTPeu40oKeLvtf/ujz/+wJo1a9C1a1f4+flhwoQJCruJEODl5SVfsODl5ZXv+9R1wQJX1miYrKws/Pjjj5g6dSocHBxEx1E7PFS6YDTxIK/C0qJFC6SkpGD48OGwsrJS2lqpXbt2gpKptgEDBsDa2hre3t5YtWoVxowZgwYNGuDcuXPo0KED1q9fLzqiyqhcuTLq16+PlStXQltbG8DrgaehQ4ciLCwMFy9eFJxQdUVFRaFly5bIyMhAeno6zM3N8eDBAxgaGsLCwoJnr+QjICAAbdu2hb29Pa5cuYLKlSvj+vXrkCQJbm5uCAwMFB1RJXA19H9TsWJF/Pjjjxg9erRC+6JFi7B27Vqugs7HpEmTYGJigl9++QU7d+5E165dYWdnh5SUFIwePRo+Pj6iI6ocnvNTcG+fBfr2vS3P4cqbtrY2UlNTFT4P3sW+e7+1a9diyJAhKFGiBEqVKqXQhzKZjNsF/b+37zfe/dkEeE7v+3Ab0YLh77X/jruJEIs1GsjU1BSRkZEs1nwCHipdcJp2kFdhMTY2xsmTJ1GtWjXRUdRKbm4ucnNzoaPzemHojh07EBoaCkdHRwwePBh6enqCE6oOAwMDXLhwARUqVFBov3LlCqpVq4bMzExByVSfu7s7nJycsHLlSpiamiI6Ohq6urro0aMHRo0ahQ4dOoiOqJJq164NT09PzJw5U36mlIWFBbp37w5PT08MGTJEdESVcOPGDdjY2EAmk+HGjRvvfa+trW0hpVIfRYoUwaVLl5Tuya5du4bKlSvjxYsXgpKpl9OnTyM8PByOjo5quT1EYeAAXcHxHK6CCQkJQYMGDaCjo4Pg4OD3novHvsubra0thg4diokTJ4qOotLevt+IiorCuHHjMH78ePluGKdOncLChQsxf/78985S/xpxG9GCefv3Gj8TPo2DgwN27twJNzc31KpVCwMGDMCgQYNw9OhRdOnShatrvgLcBk0DtW/fHnv27MGYMWNER1E7jo6OiImJ4aHSBWBgYICBAweKjqF2rK2tuW3XJ/j3339hbW0tf925c2d07twZkiTh5s2b8iIrAW5uboiPj1cq1sTHx7NI+AEXLlzA6tWroa2tDW1tbbx8+RIODg6YP38+evfuzWJNPuLj47F161YAgI6ODjIzM2FkZISZM2eiXbt2LNb8v7cLMDdu3ED9+vXlBeg3srOzER4ezmJNHqytrREQEKBUrAkICFD4fKD3q1u3LurWrSs6hkq7c+cOXF1dAQBGRkbyAbnWrVtj6tSpIqOpLA68Fczb/eXu7i4uiBp79OgROnXqJDqGynv7fqJTp05YtmwZWrZsKW+rUqUKrK2tMXXqVBZr3sFtRAvm7d9r/Ez4NI0bN8a+ffvg5uaG/v37Y/To0di5c6d8NxFSFhAQID9i4N3tMH19fQWl+nQs1mggR0dHzJo1C+Hh4XnuFcwl++8nk8nQvHlzNG/eXHQUlfShw7vexpma+VuyZAkmTZqE1atXw87OTnQctWFvby9fVv22tLQ02Nvbcyn1W0aOHIlRo0bh2rVr8gG506dP4/fff4ePj4/C3tXcm1qRrq6uvEBvaWmJlJQUVKxYEcWKFUNKSorgdKqraNGiePnyJQCgdOnSSExMlG+H+eDBA5HRVJaHh0eev9OePHkCDw8P/k7Lw9ixYzFy5EhcuHAB9evXh0wmQ2hoKDZu3IilS5eKjqfSrly5guXLlyM+Ph4ymQzOzs4YMWKEUlGfXuMA3ad5/Pgx1q9fL/8+c3FxQb9+/fI8F5T+Z+rUqZg+fbp869o3njx5gsGDB8snQ5CiTp064ejRoxg8eLDoKGojNjYW9vb2Su329vaIi4sTkEi1tW/fHgEBAahTpw5GjRqFrl27Yv369fJtROn9Hj9+jLNnz+Y5iN6rVy9BqVTbmjVr5H01ePBgmJubIzQ0FG3atOHvujzMmDEDM2fORM2aNfM8YkAdcRs0DZTXB+8bMpmMe+1/gKZVZD+3t/eiBpDnXvtvfjlykCl/ZmZmyMjIQHZ2NgwNDaGrq6twnUtb86alpYW7d++iZMmSCu03btyAi4sL0tPTBSVTPe/+rL7r7X2r+bOqqHnz5ujTpw+6deuGwYMHIyoqCiNHjsSmTZvw6NEjnDlzRnREleTl5YVWrVph4MCBmDBhAnbv3o0+ffpg165dMDMzw/Hjx0VHVDn5/U5LSEhAzZo1P3gw69dq9+7dWLhwofx8mooVK2L8+PFo1aqV0ioleu3NOTU1a9aUb3tz+vRpREREYMuWLZyZngee81Nw586dw3fffQcDAwPUrl0bkiTh3LlzyMzMlBe7KG+2trawsrLCn3/+iXLlygEAgoOD0atXL5QpUwanTp0SnFA1zZ07F4sWLUKrVq3g6uqq9EzFiarK3NzcULFiRaxfvx76+voAgJcvX6Jfv36Ij4/nOT8fwG1EP96+ffvQvXt3pKenw9jYWOlMKY550OdgZWWF+fPno2fPnqKjfDYs1hC95UMV2d27dwtKppqOHz+OiRMnYs6cOahXrx5kMhnCw8MxZcoUzJkzB82aNRMdUWX5+fm993rv3r0LKYl6eLOt49KlSzFw4EAYGhrKr+Xk5ODMmTPQ1tZGWFiYqIgq50NnYbyNWy0pOnfuHJ49ewYPDw/cv38fvXv3lp+NtGHDBlStWlV0RJWUlJSE58+fo0qVKsjIyMC4cePk/bZ48WJ+n73lzRYG//zzDzw9PRVm6efk5CAmJgYVKlTA4cOHRUVUOdu2bUOXLl3yvZ6VlYXvv/8e//zzTyGmUh8ODg7o0aMHZs6cqdDu7e2NTZs2cTLXRzhz5gzCwsI4QPce3377LRwdHbF27Vp54TQ7OxsDBgxAUlISTpw4ITih6nry5AkGDRqEAwcOYNGiRUhISMDSpUsxadIkeHt7K624odc4UbXgzp49izZt2iA3N1d+TxsdHQ2ZTIb9+/ejdu3aghOSpnByckLLli0xZ84ched3+rAXL14gJiYmz0nkvAdRVLx4cZw9e1Y+0UETsFijwV69eoXk5GSUK1eOsww/kiZWZL+kypUrY9WqVfjmm28U2k+ePIkff/xRPuOV6L/y8PAA8PrAwnr16kFPT09+TU9PD3Z2dhg3bhzKly8vKiIR0Ufr27cvgNeF+86dO8PAwEB+7c3vtIEDB6JEiRKiIqocfX19/PPPP/juu++UruXk5KBjx46IiIjArVu3BKRTfYaGhoiJiVE66+fq1auoWrUqMjIyBCVTTVlZWfjxxx8xdepUODg4iI6jNgwMDBAVFQVnZ2eF9ri4ONSsWZPfZx9h8uTJmDt3LnR0dHDo0CE0adJEdCTSQBkZGdi8ebPCOb3dunVT2kKfXrt16xbCwsLyHDjn6q38FS1aFLGxsfwcLaDDhw+jV69eeW4jzV0xlE2cOBFGRkYadZ4gR/A1UEZGBkaMGCGfuZ+QkAAHBweMHDkSpUuXxqRJkwQnVF2vXr1C/fr1RcdQG4mJiXnuP12sWDFcv3698AOpqczMTGRlZSm0mZiYCEqjmoKCggC8HuBctmwZjI2NBSdSH3FxcUhJScGrV68U2jkjh76k58+fKz3M8vfa/2zYsAEA5IVmDo582Lx589CxY0ccO3ZMvo0X8HrWfqdOnXD69GkEBweLC6ji3N3dcfLkSaViTWhoKL799ltBqVSXrq4udu/erVEP/oXBxMQEKSkpSsWamzdv8t7tIyxfvhyLFy9G165dcf78eYwcORJbtmzhil767AwNDfHjjz+KjqEWNmzYgMGDB0NPTw/FixdX2sqLxZr8fffddzh37hyLNQU0fPhwdOrUCdOmTYOlpaXoOCrvxYsXWLNmDY4fP44qVaoobYe5aNEiQck+HVfWaKBRo0YhLCwMS5YsgaenJ2JiYuDg4IC9e/fC29sbUVFRoiOqLE2syH5JDRs2hK6uLjZv3gwrKysAwJ07d9CzZ0+8evUKISEhghOqrvT0dEycOBE7duzAw4cPla5ztoSiN1sGfciuXbu+cBL1kZSUhPbt2yM2NlbhbCmeKfVhd+/exbhx4+Tnl717q8S+y1tycjKGDx+O4OBgvHjxQt7Os5Hoc/H29sby5ctx4sQJVK5cGTk5OejcuTNCQ0MRFBQEFxcX0RFV1qpVqzBt2jR07twZdevWBfB63/2//voLM2bMQOnSpeXvZTH/tb59+8LV1VW+FSt92MiRI7F7924sWLAA9evXh0wmQ2hoKMaPH4+OHTtiyZIloiOqrBYtWiAiIgKrVq3C999/j8zMTIwZMwYbN27EjBkzMGHCBNERVda///6LvXv35jk5SR0H6QrDpk2bsHr1aiQlJeHUqVOwtbXF4sWL4eDggHbt2omOp1Ksra0xePBg/Pzzzx88E5SAvXv3yv9+//59zJw5U/55+u4gOu838mZiYoKoqCiN2tbrS3qzC0teZDIZAgMDCzHN58GVNRpoz5492L59O+rWratQ9XdxcUFiYqLAZKpPEyuyX5Kvry/at28PW1tb2NjYAABSUlLg5OSEPXv2iA2n4iZMmICgoCD88ccf6NWrF37//XfcunULq1ev5oG1echrBRe936hRo2Bvb4/jx4/DwcEBZ8+excOHDzF27FgsWLBAdDyV1qdPH6SkpGDq1Kl5nl9GeevevTuA158NlpaW7LePwMJgwcyYMQNpaWlo3rw5goODMXnyZJw4cQKBgYEs1HzA0KFDAQB//PEH/vjjjzyvAdxe422Ojo6YNWsWwsPDUaNGDaUVcJxNrWzBggWQyWTo1asXsrOzAbxepTRkyBDMmzdPcDrVlp2djZiYGHnh1MDAACtXrkTr1q0xYMAAFmvyERAQgLZt28Le3h5XrlxB5cqVcf36dUiSBDc3N9HxVNLKlSsxbdo0/PTTT/j111/lv/PNzMywZMkSFmvekZGRgS5durBQ85G8vLyU2t49Lw/g/cb7fP/99wgODmax5iO92YVFk3BljQYyNDTExYsX4eDgAGNjY0RHR8PBwQHR0dFo2LAhnjx5IjqiynpfRRbQzF8C/5UkSTh27JjCfrdNmzblIN0H2NjYwN/fH+7u7jAxMUFkZCQcHR2xadMmbN26FQcPHhQdkdRciRIlEBgYiCpVqqBYsWI4e/YsKlSogMDAQIwdO5arLN/D2NgYJ0+eRLVq1URHUStGRkY4f/48KlSoIDqK2mjRogVSUlIwfPjwPAuDHDDJW8+ePbFz504YGRkhICAAVapUER2JNBAPLv94Fy9eROXKleWvMzIykJiYCEmS4OjoCENDQ/j4+HA77k/04MEDnmGWj9q1a8PT0xMzZ86Uj31YWFige/fu8PT0xJAhQ0RHVDkuLi6YM2cOvLy8FMaLLl68CHd39zzPyfiaTZgwAebm5vz9RYUmIyMDnTp1QsmSJfNckcTJIpqPK2s0UK1atXDgwAGMGDECwP+2vFm7dq3CHt+kjMWYgpPJZGjevDmaN28uOopaSUtLkw8CmJiYIC0tDQDwzTff8KGCPoucnBwYGRkBeF24uX37NipUqABbW1tcuXJFcDrVZm1trbTCgT6sVq1auHnzJos1BRAaGsrC4Ed6eysqU1NTSJKEatWqYePGjQrv4ypoRWfOnEFaWhpatGghb/P394e3tzfS09Ph5eWF5cuXo0iRIgJTqqbk5GTREdTGd999h7CwMNjZ2QF4PXnQ1dVVfn3evHnw9vbmYOcHnDx5EqtXr0ZiYiJ27tyJMmXKYNOmTbC3t8c333wjOp5Kio+Px9atWwEAOjo6yMzMhJGREWbOnIl27drxuSoPycnJqF69ulJ7kSJFkJ6eLiCRaps7dy5at26Nw4cP5zlwzvsOZYGBgRg+fDhOnz6tdGblkydPUL9+faxatYpn5uVjy5YtOHLkCAwMDBAcHMxzkvLh4eGR5yTxYsWKoUKFChg2bBisra0FJPvvWKzRQHPnzoWnpyfi4uKQnZ2NpUuX4tKlSzh16hTPEMnHx5yHIZPJ8PfffxdCGvWxbNmyPNtlMhn09fXh6OiIhg0bQltbu5CTqT4HBwdcv34dtra2cHFxwY4dO1C7dm3s27cPpqamouORBqhcubL8zLI6depg/vz50NPTw5o1a3jI4wcsWbIEkyZNwurVq+UDT/Rh69atw+DBg3Hr1i1UrlxZ6WGWqx+UsTD48d5dDVivXj1kZ2crtHNVr7Lp06fD3d1dXqyJjY1F//790adPH1SsWBG//fYbSpcujenTp4sNqoJmzpyJcePGwdDQUKE9MzMTv/32G6ZNmyYomer59ttv0axZM4SFhcHCwkLh2m+//YYpU6Zgy5YtgtKph7///hs9e/ZE9+7dERUVhZcvXwIAnj17hjlz5nDVfT6KFi0q76vSpUsjMTERlSpVAgCuEMmHvb09Lly4AFtbW4X2Q4cOcUvRPMyZMwdHjhyRT0Z6d+CclC1ZsgQDBw5UKtQArwfSBw0ahEWLFrFYk48pU6Zg5syZmDRpErffe4/8Jrs9fvwYBw8exIoVKxAaGqqWk+K4DZqGio2NxYIFC3D+/Hnk5ubCzc0NEydOVJjhRP/Tt2/fj3rfhg0bvnAS9WJvb4/79+8jIyMDZmZmkCQJjx8/hqGhIYyMjHDv3j04ODggKChIbSvaX8rixYuhra2NkSNHIigoCK1atUJOTg6ys7OxaNEijBo1SnREUnNHjhxBeno6OnTogMTERLRp0waXL19G8eLFsW3bNjRp0kR0RJVlZmaGjIwMZGdnw9DQUKno8GYlHCk6ffo0unXrhuvXr8vbZDIZJEnivtT5OHr0KBYuXMjCIH0xVlZW2LdvH2rWrAkAmDx5MkJCQhAaGgoA+Ouvv+Dt7Y24uDiRMVWStrY2UlNTlYoPDx8+hIWFBX+nvSU7Oxtt2rRBamoqQkJC5GcNLly4EJMmTcKmTZvQpUsXwSlVW/Xq1TF69Gj06tVLYWuqCxcuwNPTE3fu3BEdUSV5eXmhVatWGDhwICZMmIDdu3ejT58+2LVrF8zMzHD8+HHREVXOhg0bMHXqVCxcuBD9+/fHunXrkJiYiLlz52LdunX8WX2HmZkZFi9ejD59+oiOojZsbW1x+PBhVKxYMc/rly9fRvPmzZGSklLIydSDubk5IiIieGbNfzRs2DAkJyer5WQHFmuI6JNt3boVa9aswbp16+QfJNeuXcOgQYPw448/okGDBujSpQtKlSqFnTt3Ck6r2lJSUnDu3DmUK1cOVatWFR2HNFRaWhrMzMw4C+wD/Pz83nu9d+/ehZREvbi4uKBixYqYMGECLC0tlb7P3p3BSSwM0penr6+Pq1evyifNfPPNN/D09MSUKVMAANevX4erqyuePXsmMqZK0tLSwt27d1GyZEmF9sDAQPzwww+4f/++oGSqKTMzE82aNYNMJsOxY8ewatUqjB8/Hn5+fujWrZvoeCrP0NAQcXFxsLOzUyjWJCUlwcXFBS9evBAdUSUlJSXh+fPnqFKlCjIyMjBu3DiEhobC0dERixcv5r1HPtauXYtff/0VN2/eBACUKVMG06dPR//+/QUnUz2lSpXCyZMnUb58edFR1Ia+vj4uXrwIR0fHPK9fu3YNrq6uyMzMLORk6mH06NEoWbIkfvnlF9FR1FpMTAy+++47pKamio5SYNwGTYPdu3cP9+7dQ25urkI7tyGhz2XKlCn4+++/FSr+jo6OWLBgATp27IikpCTMnz8fHTt2FJhS9WRlZaF58+ZYvXo1nJycAAA2NjawsbERnIw0wcds66ijo4NSpUqhWbNmaNOmTSGkUi8sxnyaGzduYO/evfk+mJGyJUuWiI5AGs7S0hLJycmwtrbGq1evEBkZiRkzZsivP3v2TKlI+LV7M6lBJpPByclJofCck5OD58+fY/DgwQITqiYDAwMcOHAAjRo1Qo0aNZCQkIANGzawUPORrKyscO3aNaVVlqGhody+9j3e7htDQ0P88ccfAtOoj4EDB2LgwIF48OABcnNzlVYQ0v+MGjUKy5cvz3cLeFJWpkwZxMbG5vtMEBMTAysrq0JOpT5ycnIwf/58HDlyBFWqVOE5SZ/IwMBAbSc6sFijgc6fP4/evXsjPj5eaR90bkNCn1Nqaiqys7OV2rOzs+VL9UuXLs3Zmu/Q1dXFxYsXubqBvog3W4+8T25uLq5evYp169Zh3LhxmDlzZiEkU0+ZmZnIyspSaMtr/2UCGjdujOjoaBZrCoCFQfrSPD09MWnSJMybNw979uyBoaGhwh7xMTEx3GbjHUuWLIEkSejXrx9mzJih8Lmqp6cHOzs71KtXT2BC1bN3717534cMGYJRo0ahffv2MDExUbjWtm1bEfHUwqBBgzBq1Cj4+vpCJpPh9u3bOHXqFMaNG8fzkeizWrt2Ldzd3VG+fHmUKFFCdByVd/bsWQQGBmL//v2oVKmS0sD5rl27BCVTXS1btsS0adPQokUL6OvrK1zLzMyEt7c3WrduLSid6ouNjUX16tUBABcvXlS4xjGkj3f06FH55Gh1w23QNFCVKlXg6OiIiRMnchsS+qJatWqFO3fuYN26dfIPk6ioKAwcOBClSpXC/v37sW/fPvzyyy+IjY0VnFa1jB07Frq6uvDx8REdhb5iBw4cwJAhQ7hf8DvS09MxceJE7NixAw8fPlS6zkkPeVuzZg1+/fVX9OvXD66urkoPsxyky1tiYiI2bNiAxMRELF26FBYWFjh8+DCsra3lhyQTfar79++jQ4cOCAsLg5GREfz8/NC+fXv59SZNmqBu3bqYPXu2wJSqKSQkBA0aNICODuc3fsjHHIDMSYMfNnnyZCxevFg+E7hIkSIYN24cZs2aJTiZainIlr7cTlSZs7MzEhISUKpUKTRq1Aju7u5o1KgRnJ2dRUdTSR8635jnGiu7e/cu3NzcoK2tjeHDh6NChQqQyWSIj4/H77//jpycHERGRsLS0lJ0VFJjb08GeduTJ08QERGB9evXY+PGjejUqVMhJ/vvWKzRQMbGxoiKiuLMVvri7ty5g549eyIgIEA+KJednY0mTZpg06ZNsLS0RFBQkHzbL/qfESNGwN/fH46OjqhZsyaKFi2qcJ1LW6kwPH78GP369eOMsHcMGzYMQUFBmDlzJnr16oXff/8dt27dwurVq+Hj44Pu3buLjqiS3jdYx0G6vIWEhKBFixZo0KABTpw4gfj4eDg4OGD+/Pk4e/Ysz3ujz+bJkycwMjKCtra2QntaWhqMjIygp6cnKJnqioyMhK6uLlxdXQEA//zzDzZs2AAXFxdMnz6dfUZfREZGBuLi4pCbmwsXFxcYGRmJjqRyPnS24Nu4gjVvd+7cQVBQEEJCQhAcHIyrV6+iZMmScHd3x7Zt20THUxnZ2dn4888/8d1336FUqVKi46iVGzduYMiQIThy5Ih8xx+ZTIbvvvsOf/zxh9KWj0QFld+zp7GxMZydnTFu3Di1LNQALNZoJC8vL/Ts2ZPnhFChuXz5MhISEiBJEpydnVGhQgXRkVRWUlIS7Ozs0KRJk3zfI5PJEBgYWIipiOhtNjY28Pf3h7u7O0xMTBAZGQlHR0ds2rQJW7duxcGDB0VHJA1Rr149dOrUCWPGjFE4UDoiIgJeXl64deuW6IgqJyYmJs92mUwGfX192NjYoEiRIoWcijRRrVq1MGnSJPk5jC4uLujQoQMiIiLQqlUrnjlFn0W/fv0+6n2+vr5fOIn64UD6f5eeno7Q0FBs27YNmzdvhiRJeW5z/jUzNDREfHw8d6j5RI8ePcK1a9cgSRLKly8PMzMz0ZFUXnp6Onx8fBAQEJDnOeRJSUmCklFhYbFGAz148AC9e/dG7dq1UblyZW5DQqRCtLW1kZqaKj/E8YcffsCyZcu4BJhIhRgZGeHSpUuwtbVF2bJlsWvXLtSuXRvJyclwdXXF8+fPRUdUOdnZ2dDX18eFCxdQuXJl0XHUhpGREWJjY2Fvb69QrLl+/TqcnZ3V9lDML0lLS+u929/o6urihx9+wOrVq5X2SScqiGLFiiEyMhLlypXDvHnzEBgYiCNHjiAsLAxdunTBzZs3RUckDaClpQVbW1tUr15d6bzZt+3evbsQU6kPDqQX3KFDh+QraqKjo1GpUiU0bNgQ7u7u+PbbbzmY/g4PDw+MGjUKXl5eoqPQV6Jr164ICQlBz549YWVlpXTfO2rUKEHJqLBwA14NFB4ejtDQUBw6dEjpGrchoc8pJycHGzduzLfiz9Uhyt59CDt06BDS09MFpSGivLwZLLe1tYWLiwt27NiB2rVrY9++fTA1NRUdTyXp6OjA1taW9xgFZGpqitTUVNjb2yu0R0VFoUyZMoJSqbbdu3dj4sSJGD9+PGrXrg1JkhAREYGFCxfC29sb2dnZmDRpEqZMmYIFCxaIjktqTJIk+b3t8ePH5YchW1tb48GDByKjkQYZPHgwtm3bhqSkJPTr1w89evSAubm56Fhqo06dOoiKimKxpgBatWqFkiVLYuzYsThy5AiKFSsmOpJKGzp0KMaOHYt///0XNWrUUNq+vEqVKoKSkaY6dOgQDhw4gAYNGoiOQoJwZY0GsrOzQ+vWrTF16lTO1qcvavjw4di4cSNatWqVZ8V/8eLFgpKpLi0tLdy5c0e+subtmdREpBoWL14MbW1tjBw5EkFBQWjVqhVycnKQlZWFxYsXczZTPjZs2IC//voLmzdv5kDTR5owYQJOnTqFv/76C05OToiMjMTdu3fRq1cv9OrVC97e3qIjqpzatWtj1qxZ+O677xTajxw5gqlTp+Ls2bPYs2cPxo4di8TEREEpSRM0btwY1tbWaNq0Kfr374+4uDg4OjoiJCQEvXv3xvXr10VHJA3x8uVL7Nq1C76+vggPD0erVq3Qv39/NG/e/L0rCQn466+/MGnSJIwePZoD6R9pyZIlOHHiBE6ePAltbW00atQI7u7ucHd3R8WKFUXHUzl5nYshk8kgSRInQ9MXYW9vj4MHD/Ln8SvGYo0GMjY2xoULF1CuXDnRUUjDlShRAv7+/mjZsqXoKGpDW1sbd+7cQcmSJQG8/nmNiYlRmlVNRKojJSUF586dg6OjIx/636N69eq4du0asrKyYGtrqzRgEhkZKSiZ6srKykKfPn2wbds2SJIEHR0d5OTkoFu3bti4caPSYfAEGBgYICoqCs7Ozgrtly9fRvXq1ZGZmYnr16/DxcUFGRkZglKSJoiJiUH37t2RkpKCMWPGyIunI0aMwMOHD7FlyxbBCUkT3bhxAxs3boS/vz+ysrIQFxcHIyMj0bFUFgfS/5vY2FiEhIQgKCgI+/btQ/HixZGamio6lkq5cePGe69zVRd9bps3b8Y///wDPz8/GBoaio5DAnAbNA3UoUMHBAUFsVhDX5yenh4cHR1Fx1ArkiShT58+8sOPX7x4gcGDBysNau7atUtEPKKvWmBgIIYPH47Tp0/DxMRE3m5jY4NixYqhfv36WLVqFb799luBKVUX9/IuOF1dXfz555+YOXMmoqKikJubi+rVq6N8+fKio6ksZ2dn+Pj4YM2aNdDT0wPwuujl4+MjL+DcunWLq8vpP6tSpQpiY2OV2n/77TcWUj/g1atXeW6RbGNjIyiR+pDJZPJiw7v9R8qSk5NFR1BbUVFRCA4ORlBQEE6ePInc3FyULVtWdCyVw2IMFbaFCxciMTERlpaWsLOzUzqHnBPgNB9X1mig2bNnY8mSJWjVqhVcXV2VfrBHjhwpKBlpmoULFyIpKQkrVqzgEv2P1Ldv349634YNG75wEiJ6V9u2beHh4YHRo0fneX3ZsmUICgriIb9EAoWHh6Nt27bQ0tJClSpVIJPJEBMTg5ycHOzfvx9169bFpk2bcOfOHYwfP150XKKvytWrV9GvXz+Eh4crtHOVw/u9vQ1aaGgoWrdujb59+8LT0zPPlSNE/0Xbtm0RGhqKp0+folq1avIt0Bo2bKgwWYn+Z9OmTVi1ahWSk5Nx6tQp2NraYsmSJbC3t0e7du1ExyMNM2PGjPde5zbJirS1tZGamio/auCNhw8fwsLCQi3vPVis0UDv205JJpMhKSmpENOQJmvfvj2CgoJgbm6OSpUqKRUGuTqEiNSJra0tDh8+nO/+wJcvX0bz5s2RkpJSyMnUx+PHj7Fz504kJiZi/PjxMDc3R2RkJCwtLVGmTBnR8VTOmDFj8myXyWTQ19eHo6Mj2rVrxzOA3vH8+XNs3rwZCQkJkCQJzs7O6NatG4yNjUVHIw2ipaX13slI6vjw/6U1aNAAOjo6mDRpUp7nWVatWlVQMtU1dOhQbNu2DTY2Nujbty969OiB4sWLi46lVjiQXjDjxo1jcaYAVq5ciWnTpuGnn37C7NmzcfHiRTg4OGDjxo3w8/NDUFCQ6IhEX7V3z4V+4/bt2yhXrhwyMzMFJft0LNYQ0Sf70CoRrg4hInWir6+Pixcv5ru947Vr1+Dq6qqWN3yFISYmBk2bNkWxYsVw/fp1XLlyBQ4ODpg6dSpu3LgBf39/0RFVjoeHByIjI5GTk4MKFSpAkiRcvXoV2tracHZ2xpUrVyCTyRAaGgoXFxfRcYm+Kv/884/C66ysLERFRcHPzw8zZsxA//79BSVTXUWLFsX58+eVzpSi/GlpacHGxgbVq1d/b3GQk+DyxoH0j3fmzBmkpaWhRYsW8jZ/f394e3sjPT0dXl5eWL58uXy7bnrNxcUFc+bMgZeXF4yNjREdHQ0HBwdcvHgR7u7uePDggeiIpIE4Ae7Dli1bBgAYPXo0Zs2apXC+W05ODk6cOIHr168jKipKVMRPxjNrviKxsbFYv349lixZIjoKaQgWY4hIk5QpUwaxsbH5FmtiYmJgZWVVyKnUx5gxY9CnTx/Mnz9fYYVDixYt0K1bN4HJVNebVTMbNmyQz259+vQp+vfvj2+++QYDBw5Et27dMHr0aBw5ckRwWtWRkJCA4ODgPM/EmDZtmqBUpGnympH//fffo1KlSti+fTuLNXlwcXHhwGUB9erVi9tJ/wfLly/H2rVr4eXlBR8fH3l7zZo1MW7cOIHJVM/06dPh7u4uL9bExsaif//+6NOnDypWrIjffvsNpUuXxvTp08UGVTHJycmoXr26UnuRIkWQnp4uIBFpuncnwA0cOBDm5ubYvXs3J8C9ZfHixQBeb7W6atUqhfME9fT0YGdnh1WrVomK959wZY2Ge/r0KbZu3Yr169fj3LlzqFKlCi5cuCA6FhERkcoZMWIEgoODERERAX19fYVrmZmZqF27Njw8POSzeEhRsWLFEBkZiXLlyinMPLxx4wYqVKiAFy9eiI6ocsqUKYNjx44prZq5dOkSmjdvjlu3biEyMhLNmzfnAOj/W7t2LYYMGYISJUqgVKlSCoOcMpmMh67SF5eYmIgqVapwkO7/PX36VP73c+fOYcqUKZgzZ06eZ6dyyyX63AwMDHD58mXY2toq3HtcvXoVVapU4Wrot1hZWWHfvn2oWbMmAGDy5MkICQlBaGgoAOCvv/6Ct7c34uLiRMZUOS4uLpg7dy7atWun8D22bNky+Pn54fz586IjkoZp2rQp3Nzc5BPg3nzPhYeHo1u3brh+/broiCrFw8MDu3btgpmZmegonw1X1miokJAQrF+/Hn///TdevHiB8ePHY8uWLfnOFib6WG5ubggICICZmdkHl+tzwISI1MmUKVOwa9cuODk5Yfjw4ahQoQJkMhni4+Px+++/IycnB5MnTxYdU2Xp6+srDNq9ceXKFZQsWVJAItX35MkT3Lt3T6lYc//+fXlfmpqa4tWrVyLiqaRff/0Vs2fPxsSJE0VHoa9QZmYmli9fjrJly4qOojJMTU0VngckSUKTJk0U3iNJEmQyGc/5oc/O3t4eFy5cgK2trUL7oUOHuH3oOx49egRLS0v565CQEHh6espf16pVCzdv3hQRTaWNHz8ew4YNw4sXLyBJEs6ePYutW7di7ty5WLduneh4pIEiIiKwevVqpfYyZcrgzp07AhKptjfbXb569QrJyckoV64cdHTUu9yh3ulJQWpqKjZs2ABfX1+kp6eja9euCAkJQb169dCrVy8WauizaNeunXwfWy8vL7FhiIg+I0tLS4SHh2PIkCH4+eef8WbxsUwmw3fffYc//vhD4SGXFLVr1w4zZ87Ejh07ALzut5SUFEyaNAkdO3YUnE41tWvXDv369cPChQtRq1YtyGQynD17FuPGjZN/xp49exZOTk5ig6qQR48eoVOnTqJj0FfAzMxMqQjx7NkzGBgY4M8//xSYTLXwTBASiQPpH8/S0hLJycmwtrbGq1evEBkZiRkzZsivP3v2TGk1HL0+pzc7OxsTJkxARkYGunXrhjJlymDp0qXo0qWL6HikgTgBrmAyMzMxfPhw+Pn5AXi9XbKDgwNGjhyJ0qVLY9KkSYITFhy3QdMg+vr66NSpE3r06IFmzZpBS0sLAKCrq4vo6GjOLKFCdevWLR58RkRq69GjR7h27RokSUL58uU1aln1l/L06VO0bNkSly5dwrNnz1C6dGncuXMHdevWxaFDh1C0aFHREVXO8+fPMXr0aPj7+yM7OxsAoKOjg969e2Px4sUoWrSofPvaatWqiQuqQvr3749atWph8ODBoqOQhnvz0P+GlpYWSpYsiTp16uDGjRv8mcxDSkoKrK2tlVbeS5KEmzdvwsbGRlAy0mRr167Fr7/+Kl8VUqZMGUyfPp3nSr1j0KBBiI2Nxbx587Bnzx74+fnh9u3b0NPTAwD8+eefWLJkCSIiIgQnVV0PHjxAbm4uLCwsREchDfbjjz/i/v372LFjB8zNzRETEwNtbW14eXmhYcOGPIf8HaNGjUJYWBiWLFkCT09PxMTEwMHBAXv37oW3tzeioqJERywwFms0SIUKFfDq1St069YNPXv2hLOzMwAWa+jzGzVqFJYuXZrv9Vu3bsHDwwMJCQmFmIqIiFRBUFAQzp8/j9zcXLi5uaFp06aiI6mknJwchIaGwtXVFXp6ekhKSoIkSShXrhyMjIxEx1NZc+fOxaJFi9CqVas8z8QYOXKkoGSk6Z48eYI///wT69evx4ULF7ilVx60tbWRmpqqNJD58OFDWFhYsM/oi+JA+vvdv38fHTp0QFhYGIyMjODn54f27dvLrzdp0gR169bF7NmzBaYkovwmwNWrVw8HDx7kBLh32NraYvv27ahbt67CGT/Xrl2Dm5tbnquUVB2LNRomLCwM69evx19//QUnJyf06NEDEyZMQExMDCpWrCg6HmkIMzMzjB49GtOmTVO6dvv2bbi7u6NUqVI4ceKEgHRERFSYMjMzERAQgNatWwMAfv75Z7x8+VJ+XUdHBzNnzoS+vr6oiCpLX18f8fHxsLe3Fx1Fbbyvr2QyGZKSkgoxDX0NAgMD4evri127dsHW1hYdO3ZEx44dUb16ddHRVI6Wlhbu3r2rtE3LjRs34OLigvT0dEHJiOiNJ0+ewMjICNra2grtaWlpMDIykq+0+dolJiZi9uzZ8PX1BQDY2Njg+fPn8uva2toIDQ1FhQoVREUkDccJcB/H0NAQFy9ehIODg0KxJjo6Gg0bNsSTJ09ERywwnlmjYRo0aIAGDRpg2bJl2Lp1K3x9fZGTk4OhQ4eiW7du8PLy4h6H9J/t3bsXnp6eKF68OIYNGyZvT01NhYeHB0qWLIlDhw4JTEhERIXF398f+/fvlxdrVqxYgUqVKsHAwAAAcPnyZVhZWWH06NEiY6okV1dXJCUlsVhTAMnJyaIj0Ffg33//xcaNG+VngXbu3BlZWVn4+++/uVtBHsaMGQPgdcF06tSpMDQ0lF/LycnBmTNnuG0cfRF3797FuHHjEBAQgHv37uHduchczaWsWLFiebabm5sXchLVtnz5cpQqVUr++tGjR5g2bZp85db27duxePFirFq1SlRE0kC5ubnYuHEjdu3ahevXr0Mmk8He3h6lSpWCJElK24wSUKtWLRw4cAAjRowAAHkfrV27FvXq1RMZ7ZNxZc1XID4+HuvXr8emTZuQlpaGrKws0ZFIAxw4cAAdO3bEhg0b0LVrV9y5cwfu7u4wMzPDsWPHuIULEdFXomHDhhg9erR8K423ZzQBwObNm/H777/j1KlTImOqpKNHj2LixImYNWsWatSoobStgYmJiaBk6uHNYwwfXOlzatmyJUJDQ9G6dWt0794dnp6e0NbW5tbS7+Hh4QEACAkJQb169RRm5uvp6cHOzg7jxo1D+fLlRUUkDdWiRQukpKRg+PDhsLKyUvo8aNeunaBkpO4qV66M5cuXy3+/vXt/GxISggEDBuDq1asiY5IGkSQJbdq0wcGDB1G1alU4OztDkiTEx8cjNjYWbdu2xZ49e0THVDnh4eHw9PRE9+7dsXHjRgwaNAiXLl3CqVOnEBISgho1aoiOWGAs1nxFsrOzsXfvXnTo0EF0FNIQW7ZsQf/+/bFy5UrMmzcPxsbGOH78OAeXiIi+IqVKlUJAQAAqVaoEAChZsiQiIiJgZ2cHAEhISECtWrXUcgn6l6alpSX/+9sDTG9mznFGcN78/f3x22+/yQdInJycMH78ePTs2VNwMtIEOjo6GDlyJIYMGaJQXGCx5sP69u2LpUuX8lmACo2xsTFOnjzJlVv02RkbGyM2NlZ+Pzt69GhMmTIFxYsXB/B6e0dnZ2dkZmYKTEmaZMOGDRg1ahT++ecfeZHwjcDAQHh5eWHFihXo1auXoISqKzY2FgsWLFDYNm7ixIlwdXUVHe2TcBu0r4iOjg4LNfRZdevWDY8fP0b//v3h5uaGY8eO8eGMiOgr8+TJE+jo/O+W8v79+wrXc3NzFc6wof8JCgrK91pUVFQhJlEfixYtwtSpUzF8+HA0aNAAkiQhLCwMgwcPxoMHD7jdHv1nJ0+ehK+vL2rWrAlnZ2f07NkTP/zwg+hYamHDhg2iI9BXxtraWmnrM6LPQUtLC/fu3ZMXaxYvXqxw/e7du9DV1RWQjDTV1q1b8csvvygVagCgcePGmDRpEv78808Wa/Lg6uoKPz8/0TE+G66sIaICq169usIM4Li4OFhbW8PY2FjhfZGRkYUdjYiICln58uXh4+ODjh075nl9x44d+OWXX3Dt2rVCTqZ+njx5gj///BPr1q1DdHQ0V9bkwd7eHjNmzFB6UPXz88P06dN5pg19NhkZGdi2bRt8fX1x9uxZ5OTkYNGiRejXr5/SPS+91rhx4/deDwwMLKQk9LU4evQoFi5ciNWrV8sH1Yk+h/r166N169b45Zdf8rw+a9YsHDp0COHh4YWcjDRVqVKlcPjw4XxXCkZFRaFFixa4c+dO4QZTQU+fPpVPFH/69Ol736uOE8q5soaICszLy0vhNfcCJiL6erVs2RLTpk1Dq1atoK+vr3AtMzMTM2bMQKtWrQSlUw+BgYHw9fXFrl27YGtri44dO2L9+vWiY6mk1NRU1K9fX6m9fv36SE1NFZCINJWhoSH69euHfv364cqVK1i/fj18fHwwadIkNGvWDHv37hUdUeVUrVpV4XVWVhYuXLiAixcvonfv3oJSkaYxMzNTmDiYnp6OcuXKwdDQUGmlQ1paWmHHIw3Rt29f/PTTT6hatarSfey+ffvg4+ODJUuWiAlHGiktLQ2Wlpb5Xre0tMSjR48KMZHqMjMzQ2pqKiwsLGBqaprn+ZXqvK00V9ZoiJiYGFSuXFlh73MiIiKiL+3u3buoVq0a9PT0MHz4cDg5OUEmk+Hy5ctYsWIFsrOzERUV9d6Hj6/Rv//+i40bN8LX1xfp6eno3LkzVq1axTMxPqBy5cro1q2b0kzXX3/9Fdu3b0dsbKygZPQ1yMnJwb59++Dr68tiTQFMnz4dz58/x4IFC0RHIQ1QkK1uWCSk/6Jr167Yvn07nJ2dUaFCBfn97ZUrV9CxY0fs2LFDdETSINra2rhz5w5KliyZ5/W7d++idOnSall8+NxCQkLQoEED6OjoIDg4OM9izRuNGjUqxGSfB4s1GkJbW1teVXRwcEBERIT84DMiIiKiLyk5ORlDhgzBsWPH5HvHy2QyNGvWDH/88QccHBwEJ1QtLVu2RGhoKFq3bo3u3bvD09MT2traPMD8I/z999/44Ycf0LRpUzRo0AAymQyhoaEICAjAjh070L59e9ERiegd165dQ+3atbnKgYjUzrZt27Bt2zYkJCQAeL39b9euXdGlSxfByUjTaGlpoUWLFihSpEie11++fInDhw+zWPMVYLFGQxQvXhwHDx5EnTp1oKWlhbt37+ZbjSUiIiL6EtLS0uRn0zg6OsLc3FxwItWko6ODkSNHYsiQIShfvry8ncWaj3P+/HksXrwY8fHxkCQJLi4uGDt2LKpXry46GhHlYdOmTZg4cSJu374tOgppmLcnrb7t4cOHsLCw4KAmEamNvn37ftT7NmzY8IWTqBcHBwd0794dPXr0QIUKFUTH+Sx4Zo2G6NixIxo1agQrKyvIZDLUrFkT2traeb43KSmpkNMRERHR18Dc3By1a9cWHUPlnTx5Er6+vqhZsyacnZ3Rs2dP/PDDD6JjqY0aNWpg8+bNomMQ0Ts6dOig8FqSJKSmpuLcuXOYOnWqoFSkyfKbe/zy5Uvo6ekVchoiok/HIsynGT58OLZu3YrZs2ejevXq8ucqKysr0dE+GVfWaJDDhw/j2rVrGDlyJGbOnAljY+M83zdq1KhCTkZERERE78rIyMC2bdvg6+uLs2fPIicnB4sWLUK/fv3yvY/7Wj19+vSj3mdiYvKFkxBRft6dFaylpYWSJUuicePGaN68uaBUpImWLVsGABg9ejRmzZoFIyMj+bWcnBycOHEC169fR1RUlKiIRERUiBISEvDnn39i27ZtSEpKgoeHB3r06IFevXqJjlZgLNZooL59+2LZsmV8yCciIiJSE1euXMH69euxadMmPH78GM2aNeMB5m/R0tJ67+GhkiRBJpNxyxsioq+Avb09AODGjRsoW7aswq4ienp6sLOzw8yZM1GnTh1REYmISJDTp09jyJAhiImJUctnAxZrNNy///4LmUyGMmXKiI5CGuLNLKaPMXLkyC+YhIiISPPk5ORg37598PX1ZbHmLSEhIfK/S5KEli1bYt26dUr3uI0aNSrsaET0jvPnzyM+Ph4ymQwuLi48T4q+GA8PD+zatQtmZmaioxARkWBnz57Fli1bsH37djx58gRt2rTB9u3bRccqMBZrNFBubi5+/fVXLFy4EM+fPwcAGBsbY+zYsZg8eTK0tLQEJyR19mYW0xv3799HRkYGTE1NAQCPHz+GoaEhLCwseD4SERERfRHGxsaIjo6Gg4OD6ChE9P/u3buHLl26IDg4GKamppAkCU+ePIGHhwe2bduGkiVLio5IGurVq1dITk5GuXLloKPDo5np8+nXrx+WLl2qtHNNeno6RowYAV9fX0HJiAj43/ZnW7ZswfXr1+Hh4YHu3bujQ4cOarvjFEftNdDkyZOxYsUK+Pj4ICoqCpGRkZgzZw6WL1/Ogx3pP0tOTpb/mT17NqpVq4b4+HikpaUhLS0N8fHxcHNzw6xZs0RHJSIiIiKiQjJixAg8ffoUly5dQlpaGh49eoSLFy/i6dOnXHFPX0RmZib69+8PQ0NDVKpUCSkpKQBe7/Dg4+MjOB1pAj8/P2RmZiq1Z2Zmwt/fX0AiInqbs7MzDh06hGHDhuHmzZs4evQoevfurbaFGoArazRS6dKlsWrVKrRt21ah/Z9//sHQoUNx69YtQclI05QrVw47d+5U2trg/Pnz+P7775GcnCwoGREREWkyrqwhUj3FihXD8ePHUatWLYX2s2fPonnz5nj8+LGYYKSxRo0ahbCwMCxZsgSenp6IiYmBg4MD9u7dC29vb0RFRYmOSGrq6dOnkCQJZmZmuHr1qsLKwDdb1k6aNAm3b98WmJKIEhIS4OTkJDrGZ8X1oRooLS0Nzs7OSu3Ozs5IS0sTkIg0VWpqKrKyspTac3JycPfuXQGJiIiI6Gshk8lERyCit+Tm5kJXV1epXVdXF7m5uQISkabbs2cPtm/fjrp16yp8Jri4uCAxMVFgMlJ3pqamkMlkkMlkeQ4Ey2QyzJgxQ0AyInrbm5/Pt8/Lq1ixItzc3AQn+3Qs1migqlWrYsWKFUoHwa9YsQJVq1YVlIo0UZMmTTBw4ECsX78eNWrUgEwmw7lz5zBo0CA0bdpUdDwiIiLSEB06dFB4/eLFCwwePBhFixZVaN+1a1dhxiKitzRu3BijRo3C1q1bUbp0aQDArVu3MHr0aDRp0kRwOtJE9+/fh4WFhVJ7eno6C/r0nwQFBUGSJDRu3Bh///03zM3N5df09PRga2sr/z1HROJo4nl5LNZooPnz56NVq1Y4fvw46tWrB5lMhvDwcNy8eRMHDx4UHY80iK+vL3r37o3atWvLZ9FlZ2fju+++w7p16wSnIyIiIk1RrFgxhdc9evQQlISI8rNixQq0a9cOdnZ2sLa2hkwmQ0pKClxdXbF582bR8UgD1apVCwcOHMCIESMA/G/F5dq1a1GvXj2R0UjNNWrUCMDrM3ttbGxY/CNSUW+fl1exYkUAQFxcHHr37o2RI0di69atghMWHM+s0VC3b9/G77//jsuXL0OSJLi4uGDo0KGs/NMXkZCQIP9eq1ixosbtF0lERERERB/n2LFjCs+hXHFPX0p4eDg8PT3RvXt3bNy4EYMGDcKlS5dw6tQphISEoEaNGqIjkpo7fPgwjIyM8M033wAAfv/9d6xduxYuLi74/fffYWZmJjgh0ddNE8/LY7GGiP6zV69eITk5GeXKlYOODhfsERERERER0ZcXGxuLBQsW4Pz588jNzYWbmxsmTpwIV1dX0dFIA7i6umLevHlo2bIlYmNjUbNmTYwdOxaBgYGoWLEiNmzYIDoi0VfN2NgYJ0+eRLVq1RTao6Ki0KhRIzx9+lRMsP+AxRoi+mQZGRkYMWIE/Pz8ALxeYePg4ICRI0eidOnSmDRpkuCERERERET0JZ05cwZpaWlo0aKFvM3f3x/e3t5IT0+Hl5cXli9fjiJFighMSURUcEZGRrh48SLs7Owwffp0XLx4ETt37kRkZCRatmyJO3fuiI5I9FVr164dHj9+rHReXvfu3WFmZobdu3cLTlhwWqIDEJH6+vnnnxEdHY3g4GDo6+vL25s2bYrt27cLTEZERERERIVh+vTpiImJkb+OjY1F//790bRpU0yaNAn79u3D3LlzBSYkTaOlpQVtbe33/uGOD/Q56OnpISMjAwBw/PhxNG/eHABgbm6uljP2iTTNihUr8OzZM9jZ2aFcuXJwdHSEvb09nj17huXLl4uO90n46UVEn2zPnj3Yvn076tatq3DgnouLCxITEwUmIyIiIiKiwnDhwgXMmjVL/nrbtm2oU6cO1q5dCwCwtraGt7c3pk+fLighaZr3zZQODw/H8uXLwU1k6HP45ptvMGbMGDRo0ABnz56VT0pNSEhA2bJlBacjImtra0RGRmrUeXks1hDRJ7t//z4sLCyU2tPT0xWKN0REREREpJkePXoES0tL+euQkBB4enrKX9eqVQs3b94UEY00VLt27ZTaLl++jJ9//hn79u1D9+7dFQqIRJ9qxYoVGDp0KHbu3ImVK1eiTJkyAIBDhw4p/J4jIrGaNWuGZs2aiY7xWXAbNA2UmZkpX6YJADdu3MCSJUtw9OhRgalIE9WqVQsHDhyQv35ToFm7di3q1asnKhYRERERERUSS0tLJCcnAwBevXqFyMhIhWeBZ8+eQVdXV1Q80nC3b9/GwIEDUaVKFWRnZ+PChQvw8/ODjY2N6GikAWxsbLB//35ER0ejf//+8vbFixdj2bJlApMRfd3OnDmDQ4cOKbT5+/vD3t4eFhYW+PHHH/Hy5UtB6f4bFms0ULt27eDv7w8AePz4MerUqYOFCxeiXbt2WLlypeB0pEnmzp2LyZMnY8iQIcjOzsbSpUvRrFkzbNy4EbNnzxYdj4iIiIiIvjBPT09MmjQJJ0+exM8//wxDQ0N8++238usxMTEoV66cwISkiZ48eYKJEyfC0dERly5dQkBAAPbt24fKlSuLjkYaJjExEVOmTEHXrl1x7949AMDhw4dx6dIlwcmIvl6afF4eizUaKDIyUn5zvHPnTlhaWuLGjRvw9/dn5Z8+q/r16yMsLAwZGRkoV64cjh49CktLS5w6dQo1atQQHY+IiIiIiL6wX3/9Fdra2mjUqBHWrl2LtWvXQk9PT37d19dXfig30ecwf/58ODg4YP/+/di6dSvCw8MVCoREn0tISAhcXV1x5swZ7Nq1C8+fPwfwugjt7e0tOB3R1+vChQto0qSJ/PXb5+WNGTMGy5Ytw44dOwQm/HQyiaeuaRxDQ0NcvnwZNjY26Ny5MypVqgRvb2/cvHkTFSpUUNgijYiIiIiIiOi/evLkCYyMjKCtra3QnpaWBiMjI4UCDtF/oaWlBQMDAzRt2lTp++1tu3btKsRUpInq1auHTp06YcyYMTA2NkZ0dDQcHBwQEREBLy8v3Lp1S3REoq+Svr4+rl69CmtrawDAN998A09PT0yZMgUAcP36dbi6uuLZs2ciY34SrqzRQI6OjtizZw9u3ryJI0eOyGcx3bt3DyYmJoLTkSbR1taWLwN+28OHD99700xERERERJqlWLFieT4DmJubs1BDn1WvXr3QuXNnmJubo1ixYvn+IfqvYmNj0b59e6X2kiVL4uHDhwISERGg2efl6YgOQJ/ftGnT0K1bN4wePRqNGzeWf7MePXoU1atXF5yONEl+C/NevnzJBzIiIiIiIiL67DZu3Cg6An0lTE1NkZqaCnt7e4X2qKgolClTRlAqInpzXt68efOwZ88ejTovj8UaDfT999/jm2++QWpqKqpWrSpvb9KkSZ4zAogK6s3ZRzKZDOvWrYORkZH8Wk5ODk6cOAFnZ2dR8YiIiIiIiIiI/pNu3bph4sSJ+OuvvyCTyZCbm4uwsDCMGzcOvXr1Eh2P6Kv166+/okOHDmjUqBGMjIzg5+enMefl8cwaDXbt2jUkJiaiYcOGMDAwgCRJkMlkomORBngzq+TGjRsoW7aswnYHenp6sLOzw8yZM1GnTh1REYmIiIiIiIiIPllWVhb69OmDbdu2QZIk6OjoICcnB926dcPGjRu5/TuRYJp4Xh6LNRro4cOH6Ny5M4KCgiCTyXD16lU4ODigf//+MDU1xcKFC0VHJA3h4eGBXbt2wczMTHQUIiIiIiIiIqL/7Nq1a3B0dJS/TkxMRFRUFHJzc1G9enWUL19eYDoi0mQs1migXr164d69e1i3bh0qVqyI6OhoODg44OjRoxg9ejQuXbokOiIREREREREREZHK0dLSQpkyZeDh4YHGjRvDw8MDtra2omMR0VeAZ9ZooKNHj+LIkSMoW7asQnv58uVx48YNQalIU4wZMwazZs1C0aJFMWbMmPe+d9GiRYWUioiIiIiIiIjovwsJCUFISAiCg4MxbNgwvHjxAjY2NvLCjYeHB8qUKSM6JhFpIBZrNFB6ejoMDQ2V2h88eIAiRYoISESaJCoqCllZWfK/54fnIxERERERERGRuvn222/x7bffYsqUKcjKysKpU6cQHByM4OBgbN26FS9fvoSjoyOuXLkiOioRaRhug6aBWrVqBTc3N8yaNQvGxsaIiYmBra0tunTpgtzcXOzcuVN0RCIiIiIiIiIiIrWQmZmJ0NBQHDlyBGvXrsXz58+Rk5MjOhYRaRgWazRQXFwc3N3dUaNGDQQGBqJt27a4dOkS0tLSEBYWhnLlyomOSEREREREREREpJJevHiB8PBwBAUFITg4GBEREbC3t0ejRo3QsGFDNGrUiFuhEdFnx2KNhrpz5w5WrlyJ8+fPIzc3F25ubhg2bBisrKxERyMNkp6eDh8fHwQEBODevXvIzc1VuJ6UlCQoGRERERERERFRwTVq1AgREREoV66cvDDTqFEjWFpaio5GRBqOxRoNlJKSAmtr6zzPDElJSYGNjY2AVKSJunbtipCQEPTs2RNWVlZK33OjRo0SlIyIiIiIiIiIqOB0dXVhZWUFLy8vuLu7o2HDhihRooToWET0FWCxRgNpa2sjNTUVFhYWCu0PHz6EhYUF99Skz8bU1BQHDhxAgwYNREchIiIiIiIiIvrP0tPTcfLkSQQHByMoKAgXLlyAk5MTGjVqBHd3dzRq1AglS5YUHZOINBCLNRpIS0sLd+/eVfrguHHjBlxcXJCeni4oGWkae3t7HDx4EBUrVhQdhYiIiIiIiIjos3v27BlCQ0Pl59dER0ejfPnyuHjxouhoRKRhdEQHoM9nzJgxAACZTIapU6fC0NBQfi0nJwdnzpxBtWrVBKUjTTRr1ixMmzYNfn5+Ct9vRERERERERESaoGjRojA3N4e5uTnMzMygo6OD+Ph40bGISAOxWKNBoqKiAACSJCE2NhZ6enrya3p6eqhatSrGjRsnKh5poIULFyIxMRGWlpaws7ODrq6uwvXIyEhByYiIiIiIiIiICi43Nxfnzp2Tb4MWFhaG9PR0lClTBh4eHvj999/h4eEhOiYRaSAWazRIUFAQAKBv375YunQpTExMBCciTefl5SU6AhERERERERHRZ2Nqaor09HRYWVnB3d0dixYtgoeHB8qVKyc6GhFpOJ5ZQ0RERERERERERARg9erV8PDwgJOTk+goRPSVYbFGQ0VEROCvv/5CSkoKXr16pXBt165dglIREREREREREREREdG7tEQHoM9v27ZtaNCgAeLi4rB7925kZWUhLi4OgYGBKFasmOh4pAG0tLSgra2t9MfMzAx169ZlQZCIiIiIiIiIiIioALiyRgNVqVIFgwYNwrBhw2BsbIzo6GjY29tj0KBBsLKywowZM0RHJDX3zz//5Nn++PFjnD17Fhs2bICfnx86depUyMmIiIiIiIiIiIiI1A+LNRqoaNGiuHTpEuzs7FCiRAkEBQXB1dUV8fHxaNy4MVJTU0VHJA33+++/w9/fH2fOnBEdhYiIiIiIiIiIiEjlcRs0DWRubo5nz54BAMqUKYOLFy8CeL3qISMjQ2Q0+ko0b94cCQkJomMQERERERERERERqQUd0QHo8/v2229x7NgxuLq6onPnzhg1ahQCAwNx7NgxNGnSRHQ8+gpkZmZCX19fdAwiIiIiIiIiIiIitcBt0DRQWloaXrx4gdKlSyM3NxcLFixAaGgoHB0dMXXqVJiZmYmOSBpuxIgRSExMxMGDB0VHISIiIiIiIiIiIlJ5LNYQUYGNGTMmz/YnT57g3LlzSExMxMmTJ1G9evVCTkZERERERERERESkflis0UDa2tpITU2FhYWFQvvDhw9hYWGBnJwcQclIU3h4eOTZbmJiAmdnZwwdOhS2traFnIqIiIiIiIiIiIhIPfHMGg2UX/3t5cuX0NPTK+Q0pImCgoJERyAiIiIiIiIiIiLSGCzWaJBly5YBAGQyGdatWwcjIyP5tZycHJw4cQLOzs6i4hERERERERERERERUR64DZoGsbe3BwDcuHEDZcuWhba2tvyanp4e7OzsMHPmTNSpU0dURCIiIiIiIiIiIiIiegeLNRrIw8MDu3btgpmZmegoRERERERERERERET0ASzWfAWys7Px4sULhW3RiIiIiIiIiIiIiIhINWiJDkCfz8GDB7Fp0yaFttmzZ8PIyAimpqZo3rw5Hj16JCgdERERERERERERERHlhcUaDbJgwQI8ffpU/jo8PBzTpk3D1KlTsWPHDty8eROzZs0SmJCIiIiIiIiIiIiIiN7FbdA0iIWFBY4cOYLq1asDAMaMGYO4uDgcPnwYwOuVN6NGjcLVq1dFxiQiIiIiIiIiIiIiordwZY0GefbsGYoXLy5/HRoaisaNG8tfV6pUCbdv3xYRjYiIiIiIiIiIiIiI8sFijQYpXbo04uPjAQDPnz9HdHQ0GjRoIL/+8OFDGBoaiopHRERERERERERERER5YLFGg3z//ff46aefsGnTJgwcOBClSpVC3bp15dfPnTuHChUqCExIRERERERERERERETv0hEdgD4fb29v3L59GyNHjkSpUqWwefNmaGtry69v3boVbdq0EZiQiIiIiIiIiIiIiIjeJZMkSRIdgoiIiIiIiIiIiIiI6GvFbdCIiIiIiIiIiIiIiIgEYrGGiIiIiIiIiIiIiIhIIBZriIiIiIiIiIiIiIiIBGKxhoiIiIiIiIiIiIiISCAWa4iIiIiIiIiIiIiIiATSER2APo9ly5Z99HtHjhz5BZMQEREREREREREREVFByCRJkkSHoP/O3t5e4fX9+/eRkZEBU1NTAMDjx49haGgICwsLJCUlCUhIRERERERERERERER54TZoGiI5OVn+Z/bs2ahWrRri4+ORlpaGtLQ0xMfHw83NDbNmzRIdlYiIiIiIiIiIiIiI3sKVNRqoXLly2LlzJ6pXr67Qfv78eXz//fdITk4WlIyIiIiIiIiIiIiIiN7FlTUaKDU1FVlZWUrtOTk5uHv3roBERERERERERERERESUHxZrNFCTJk0wcOBAnDt3Dm8WTp07dw6DBg1C06ZNBacjIiIiIiIiIiIiIqK3sVijgXx9fVGmTBnUrl0b+vr6KFKkCOrUqQMrKyusW7dOdDwiIiIiIiIiIiIiInoLz6zRYAkJCbh8+TIkSULFihXh5OQkOhIREREREREREREREb1DR3QA+nLs7OwgSRLKlSsHHR3+X01EREREREREREREpIq4DZoGysjIQP/+/WFoaIhKlSohJSUFADBy5Ej4+PgITkdERERERERERERERG9jsUYD/fzzz4iOjkZwcDD09fXl7U2bNsX27dsFJiMiIiIiIiIiIiIiondxbywNtGfPHmzfvh1169aFTCaTt7u4uCAxMVFgMiIiIiIiIiIiIiIiehdX1mig+/fvw8LCQqk9PT1doXhDRERERERERERERETisVijgWrVqoUDBw7IX78p0Kxduxb16tUTFYuIiIiIiIiIiIiIiPLAbdA00Ny5c+Hp6Ym4uDhkZ2dj6dKluHTpEk6dOoWQkBDR8YiIiIiIiIiIiIiI6C1cWaOB6tevj7CwMGRkZKBcuXI4evQoLC0tcerUKdSoUUN0PCIiIiIiIiIiIiIieotMkiRJdAgiIiIiIiIiIiIiIqKvFVfWaCBtbW3cu3dPqf3hw4fQ1tYWkIiIiIiIiIiIiIiIiPLDYo0Gym+x1MuXL6Gnp1fIaYiIiIiIiIiIiIiI6H10RAegz2fZsmUAAJlMhnXr1sHIyEh+LScnBydOnICzs7OoeERERERERERERERElAeeWaNB7O3tAQA3btxA2bJlFbY809PTg52dHWbOnIk6deqIikhERERERERERERERO9gsUYDeXh4YNeuXTAzMxMdhYiIiIiIiIiIiIiIPoDFGiIiIiIiIiIiIiIiIoF4Zo2GGDNmDGbNmoWiRYtizJgx733vokWLCikVERERERERERERERF9CIs1GiIqKgpZWVnyv+dHJpMVViQiIiIiIiIiIiIiIvoI3AaNiIiIiIiIiIiIiIhIIC3RAYiIiIiIiIiIiIiIiL5m3AZNA6Wnp8PHxwcBAQG4d+8ecnNzFa4nJSUJSkZERERERERERERERO9isUYDDRgwACEhIejZsyesrKx4Tg0RERERERERERERkQrjmTUayNTUFAcOHECDBg1ERyEiIiIiIiIiIiIiog/gmTUayMzMDObm5qJjEBERERERERERERHRR2CxRgPNmjUL06ZNQ0ZGhugoRERERERERERERET0AdwGTQNVr14diYmJkCQJdnZ20NXVVbgeGRkpKBkREREREREREREREb1LR3QA+vy8vLxERyAiIiIiIiIiIiIioo/ElTVEREREREREREREREQC8cwaIiIiIiIiIiIiIiIigVis0SBaWlrQ1tZW+mNmZoa6deti165doiMSEREREREREREREdE7eGaNBtm9e3ee7Y8fP8bZs2fRo0cP+Pn5oVOnToWcjIiIiIiIiIiIiIiI8sMza74iv//+O/z9/XHmzBnRUYiIiIiIiIiIiIiI6P9xG7SvSPPmzZGQkCA6BhERERERERERERERvYXFmq9IZmYm9PX1RccgIiIiIiIiIiIiIqK3sFjzFVm7di2qV68uOgYREREREREREREREb1FR3QA+nzGjBmTZ/uTJ09w7tw5JCYm4uTJk4WcioiIiIiIiIiIiIiI3kcmSZIkOgR9Hh4eHnm2m5iYwNnZGUOHDoWtrW0hpyIiIiIiIiIiIiIiovdhsYaIiIiIiIiIiIiIiEggnllDREREREREREREREQkEIs1REREREREREREREREArFYQ0REREREREREREREJBCLNURERERERERERERERAKxWENERERERKQi7OzssGTJEtExiIiIiIiokMkkSZJEhyAiIiIiItJE169fh729PaKiolCtWrUPvv/+/fsoWrQoDA0Nv3w4IiIiIiJSGTqiAxAREREREX3tXr16BT09PZQsWVJ0FCIiIiIiEoDboBERERERkcbKzc3FvHnz4OjoiCJFisDGxgazZ88GAMTGxqJx48YwMDBA8eLF8eOPP+L58+fyr3V3d8dPP/2k8O95eXmhT58+8td2dnaYM2cO+vXrB2NjY9jY2GDNmjXy6/b29gCA6tWrQyaTwd3dHQDQp08feHl5Ye7cuShdujScnJzk/97b26A9efIEP/74IywsLGBiYoLGjRsjOjpafj06OhoeHh4wNjaGiYkJatSogXPnzn2OriMiIiIiokLEYg0REREREWmsn3/+GfPmzcPUqVMRFxeHLVu2wNLSEhkZGfD09ISZmRkiIiLw119/4fjx4xg+fHiB/xsLFy5EzZo1ERUVhaFDh2LIkCG4fPkyAODs2bMAgOPHjyM1NRW7du2Sf11AQADi4+Nx7Ngx7N+/X+nflSQJrVq1wp07d3Dw4EGcP38ebm5uaNKkCdLS0gAA3bt3R9myZREREYHz589j0qRJ0NXV/ZSuIiIiIiIigbgNGhERERERaaRnz55h6dKlWLFiBXr37g0AKFeuHL755husXbsWmZmZ8Pf3R9GiRQEAK1asQJs2bTBv3jxYWlp+9H+nZcuWGDp0KABg4sSJWLx4MYKDg+Hs7Czf1qx48eIoVaqUwtcVLVoU69atg56eXp7/blBQEGJjY3Hv3j0UKVIEALBgwQLs2bMHO3fuxI8//oiUlBSMHz8ezs7OAIDy5csXoIeIiIiIiEhVcGUNERERERFppPj4eLx8+RJNmjTJ81rVqlXlhRoAaNCgAXJzc3HlypUC/XeqVKki/7tMJkOpUqVw7969D36dq6trvoUaADh//jyeP3+O4sWLw8jISP4nOTkZiYmJAIAxY8ZgwIABaNq0KXx8fOTtRERERESkXriyhoiIiIiINJKBgUG+1yRJgkwmy/Pam3YtLS1IkqRwLSsrS+n97247JpPJkJub+8F8bxeK8pKbmwsrKysEBwcrXTM1NQUATJ8+Hd26dcOBAwdw6NAheHt7Y9u2bWjfvv0H//tERERERKQ6uLKGiIiIiIg0Uvny5WFgYICAgAClay4uLrhw4QLS09PlbWFhYdDS0oKTkxMAoGTJkkhNTZVfz8nJwcWLFwuU4c3KmZycnALnd3Nzw507d6CjowNHR0eFPyVKlJC/z8nJCaNHj8bRo0fRoUMHbNiwocD/LSIiIiIiEovFGiIiIiIi0kj6+vqYOHEiJkyYAH9/fyQmJuL06dNYv349unfvDn19ffTu3RsXL15EUFAQRowYgZ49e8rPq2ncuDEOHDiAAwcO4PLlyxg6dCgeP35coAwWFhYwMDDA4cOHcffuXTx58uSjv7Zp06aoV68evLy8cOTIEVy/fh3h4eGYMmUKzp07h8zMTAwfPhzBwcG4ceMGwsLCEBERgYoVKxYoIxERERERicdiDRERERERaaypU6di7NixmDZtGipWrIgffvgB9+7dg6GhIY4cOYK0tDTUqlUL33//PZo0aYIVK1bIv7Zfv37o3bs3evXqhUaNGsHe3h4eHh4F+u/r6Ohg2bJlWL16NUqXLo127dp99NfKZDIcPHgQDRs2RL9+/eDk5IQuXbrg+vXrsLS0hLa2Nh4+fIhevXrByckJnTt3RosWLTBjxowCZSQiIiIiIvFk0rubMBMREREREREREREREVGh4coaIiIiIiIiIiIiIiIigVisISIiIiIiIiIiIiIiEojFGiIiIiIiIiIiIiIiIoFYrCEiIiIiIiIiIiIiIhKIxRoiIiIiIiIiIiIiIiKBWKwhIiIiIiIiIiIiIiISiMUaIiIiIiIiIiIiIiIigVisISIiIiIiIiIiIiIiEojFGiIiIiIiIiIiIiIiIoFYrCEiIiIiIiIiIiIiIhKIxRoiIiIiIiIiIiIiIiKBWKwhIiIiIiIiIiIiIiIS6P8AJE/4uuJDMGMAAAAASUVORK5CYII=",
>>>>>>> refs/remotes/origin/main
      "text/plain": [
       "<Figure size 2000x1000 with 1 Axes>"
      ]
     },
     "metadata": {},
     "output_type": "display_data"
    }
   ],
   "source": [
    "# Plot the distribution of movie countries, for the top 20 countries\n",
<<<<<<< HEAD

=======
>>>>>>> refs/remotes/origin/main
    "plt.figure(figsize=(20, 10))\n",
    "plt.title(\"Distribution of movie countries\")\n",
    "plt.xlabel(\"Movie countries\")\n",
    "plt.ylabel(\"Count\")\n",
    "df_movies_exploded[\"countries\"].value_counts().head(20).plot(kind=\"bar\")\n",
<<<<<<< HEAD

=======
>>>>>>> refs/remotes/origin/main
    "plt.show()"
   ]
  },
  {
   "cell_type": "markdown",
   "metadata": {},
   "source": [
<<<<<<< HEAD

=======
>>>>>>> refs/remotes/origin/main
    "We observe that US movies represent the large majority of the dataset."
   ]
  },
  {
   "cell_type": "markdown",
   "metadata": {},
   "source": [
<<<<<<< HEAD

=======
>>>>>>> refs/remotes/origin/main
    "### Languages\n",
    "\n",
    "Similarly to the `genres` column, the `languages` column is a dict of languages. We'll explode this column to have a row for each language."
   ]
  },
  {
   "cell_type": "code",
<<<<<<< HEAD
   "execution_count": 26,
=======
   "execution_count": 27,
>>>>>>> refs/remotes/origin/main
   "metadata": {},
   "outputs": [],
   "source": [
    "# Extract the list of languages\n",
<<<<<<< HEAD

=======
>>>>>>> refs/remotes/origin/main
    "df_movies[\"languages\"] = df_movies.apply(\n",
    "    lambda row: extract_list(row, \"languages\"), axis=1\n",
    ")\n",
    "\n",
    "# Replace empty lists by NaN\n",
    "df_movies[\"languages\"] = df_movies[\"languages\"].apply(\n",
    "    lambda x: np.nan if len(x) == 0 else x\n",
    ")\n",
    "\n",
    "# Explode the languages\n",
    "df_movies_exploded = df_movies.explode(\"languages\")"
<<<<<<< HEAD

=======
>>>>>>> refs/remotes/origin/main
   ]
  },
  {
   "cell_type": "code",
<<<<<<< HEAD
   "execution_count": 27,
=======
   "execution_count": 28,
>>>>>>> refs/remotes/origin/main
   "metadata": {},
   "outputs": [
    {
     "data": {
<<<<<<< HEAD

      "image/png": "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",

=======
      "image/png": "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",
>>>>>>> refs/remotes/origin/main
      "text/plain": [
       "<Figure size 2000x1000 with 1 Axes>"
      ]
     },
     "metadata": {},
     "output_type": "display_data"
    }
   ],
   "source": [
    "# Plot the distribution of movie language, for the top 20 languages\n",
<<<<<<< HEAD

=======
>>>>>>> refs/remotes/origin/main
    "plt.figure(figsize=(20, 10))\n",
    "plt.title(\"Distribution of movie language\")\n",
    "plt.xlabel(\"Movie language\")\n",
    "plt.ylabel(\"Count\")\n",
    "df_movies_exploded[\"languages\"].value_counts().head(20).plot(kind=\"bar\")\n",
<<<<<<< HEAD

=======
>>>>>>> refs/remotes/origin/main
    "plt.show()"
   ]
  },
  {
   "cell_type": "markdown",
   "metadata": {},
   "source": [
    "## Plot summaries dataset"
   ]
  },
  {
   "cell_type": "code",
<<<<<<< HEAD
   "execution_count": 28,
=======
   "execution_count": 29,
>>>>>>> refs/remotes/origin/main
   "metadata": {},
   "outputs": [],
   "source": [
    "# For the plot summaries\n",
<<<<<<< HEAD

    "df_plots = pd.read_table(\n",
    "    PLOT_SUMMARIES, names=[\"wikipedia_id\", \"plot_summary\"], header=None\n",
    ")"

=======
    "df_plots = pd.read_table(\n",
    "    PLOT_SUMMARIES, names=[\"wikipedia_id\", \"plot_summary\"], header=None\n",
    ")"
>>>>>>> refs/remotes/origin/main
   ]
  },
  {
   "cell_type": "code",
<<<<<<< HEAD
   "execution_count": 29,
=======
   "execution_count": 30,
>>>>>>> refs/remotes/origin/main
   "metadata": {},
   "outputs": [
    {
     "name": "stdout",
     "output_type": "stream",
     "text": [
      "<class 'pandas.core.frame.DataFrame'>\n",
      "RangeIndex: 42303 entries, 0 to 42302\n",
      "Data columns (total 2 columns):\n",
      " #   Column        Non-Null Count  Dtype \n",
      "---  ------        --------------  ----- \n",
      " 0   wikipedia_id  42303 non-null  int64 \n",
      " 1   plot_summary  42303 non-null  object\n",
      "dtypes: int64(1), object(1)\n",
      "memory usage: 661.1+ KB\n"
     ]
    }
   ],
   "source": [
    "df_plots.info()"
   ]
  },
  {
   "cell_type": "code",
<<<<<<< HEAD

   "execution_count": null,

=======
   "execution_count": 31,
>>>>>>> refs/remotes/origin/main
   "metadata": {},
   "outputs": [
    {
     "name": "stdout",
     "output_type": "stream",
     "text": [
      "There are 8 duplicated plot summaries:\n"
     ]
    },
    {
     "data": {
      "text/html": [
       "<div>\n",
       "<style scoped>\n",
       "    .dataframe tbody tr th:only-of-type {\n",
       "        vertical-align: middle;\n",
       "    }\n",
       "\n",
       "    .dataframe tbody tr th {\n",
       "        vertical-align: top;\n",
       "    }\n",
       "\n",
       "    .dataframe thead th {\n",
       "        text-align: right;\n",
       "    }\n",
       "</style>\n",
       "<table border=\"1\" class=\"dataframe\">\n",
       "  <thead>\n",
       "    <tr style=\"text-align: right;\">\n",
       "      <th></th>\n",
       "      <th>wikipedia_id</th>\n",
       "      <th>plot_summary</th>\n",
       "    </tr>\n",
       "  </thead>\n",
       "  <tbody>\n",
       "    <tr>\n",
       "      <th>14631</th>\n",
       "      <td>14055212</td>\n",
       "      <td>A woman is thrown out of her home by her jealo...</td>\n",
       "    </tr>\n",
       "    <tr>\n",
       "      <th>29428</th>\n",
       "      <td>14022275</td>\n",
       "      <td>A woman is thrown out of her home by her jealo...</td>\n",
       "    </tr>\n",
       "    <tr>\n",
       "      <th>30987</th>\n",
       "      <td>14051944</td>\n",
       "      <td>A woman is thrown out of her home by her jealo...</td>\n",
       "    </tr>\n",
       "    <tr>\n",
       "      <th>31702</th>\n",
       "      <td>14053389</td>\n",
       "      <td>A woman is thrown out of her home by her jealo...</td>\n",
       "    </tr>\n",
       "    <tr>\n",
       "      <th>35058</th>\n",
       "      <td>19609453</td>\n",
       "      <td>Raja was adopted by a criminal don  at a very ...</td>\n",
       "    </tr>\n",
       "    <tr>\n",
       "      <th>38536</th>\n",
       "      <td>14616220</td>\n",
       "      <td>As the American Civil War begins, Ned Burton l...</td>\n",
       "    </tr>\n",
       "    <tr>\n",
       "      <th>38831</th>\n",
       "      <td>10791937</td>\n",
       "      <td>Taking a step aside from the usual serious dra...</td>\n",
       "    </tr>\n",
       "    <tr>\n",
       "      <th>39019</th>\n",
       "      <td>29481480</td>\n",
       "      <td>An orphan Raghav turns into a ruthless contrac...</td>\n",
       "    </tr>\n",
       "  </tbody>\n",
       "</table>\n",
       "</div>"
      ],
      "text/plain": [
       "       wikipedia_id                                       plot_summary\n",
       "14631      14055212  A woman is thrown out of her home by her jealo...\n",
       "29428      14022275  A woman is thrown out of her home by her jealo...\n",
       "30987      14051944  A woman is thrown out of her home by her jealo...\n",
       "31702      14053389  A woman is thrown out of her home by her jealo...\n",
       "35058      19609453  Raja was adopted by a criminal don  at a very ...\n",
       "38536      14616220  As the American Civil War begins, Ned Burton l...\n",
       "38831      10791937  Taking a step aside from the usual serious dra...\n",
       "39019      29481480  An orphan Raghav turns into a ruthless contrac..."
      ]
     },
<<<<<<< HEAD
     "execution_count": 30,
=======
     "execution_count": 31,
>>>>>>> refs/remotes/origin/main
     "metadata": {},
     "output_type": "execute_result"
    }
   ],
   "source": [
<<<<<<< HEAD

=======
>>>>>>> refs/remotes/origin/main
    "print(\n",
    "    f\"There are {df_plots.duplicated(subset=['plot_summary']).sum()} duplicated plot summaries:\"\n",
    ")\n",
    "\n",
    "\n",
    "df = pd.DataFrame(df_plots[df_plots.duplicated(subset=[\"plot_summary\"])])\n",
    "\n",
    "\n",
<<<<<<< HEAD

=======
>>>>>>> refs/remotes/origin/main
    "df"
   ]
  },
  {
   "cell_type": "markdown",
   "metadata": {},
   "source": [
    "There seems to be some movies with the same plot summary. "
   ]
  },
  {
   "cell_type": "code",
<<<<<<< HEAD
   "execution_count": 31,
=======
   "execution_count": 32,
>>>>>>> refs/remotes/origin/main
   "metadata": {},
   "outputs": [
    {
     "data": {
      "text/html": [
       "<div>\n",
       "<style scoped>\n",
       "    .dataframe tbody tr th:only-of-type {\n",
       "        vertical-align: middle;\n",
       "    }\n",
       "\n",
       "    .dataframe tbody tr th {\n",
       "        vertical-align: top;\n",
       "    }\n",
       "\n",
       "    .dataframe thead th {\n",
       "        text-align: right;\n",
       "    }\n",
       "</style>\n",
       "<table border=\"1\" class=\"dataframe\">\n",
       "  <thead>\n",
       "    <tr style=\"text-align: right;\">\n",
       "      <th></th>\n",
       "      <th>wikipedia_id</th>\n",
       "      <th>freebase_id</th>\n",
<<<<<<< HEAD

       "      <th>title</th>\n",

=======
       "      <th>title</th>\n",
>>>>>>> refs/remotes/origin/main
       "      <th>release_date</th>\n",
       "      <th>revenue</th>\n",
       "      <th>runtime</th>\n",
       "      <th>languages</th>\n",
       "      <th>countries</th>\n",
       "      <th>genres</th>\n",
<<<<<<< HEAD


=======
>>>>>>> refs/remotes/origin/main
       "    </tr>\n",
       "  </thead>\n",
       "  <tbody>\n",
       "    <tr>\n",
       "      <th>59142</th>\n",
       "      <td>10791937</td>\n",
       "      <td>/m/02qq36m</td>\n",
       "      <td>Ninaithale Inikkum</td>\n",
       "      <td>1979-04-14</td>\n",
       "      <td>NaN</td>\n",
       "      <td>143.0</td>\n",
<<<<<<< HEAD

       "      <td>[Tamil Language]</td>\n",
       "      <td>[India]</td>\n",
       "      <td>[Romantic drama, Romance Film, Drama, World ci...</td>\n",

=======
       "      <td>[Tamil Language]</td>\n",
       "      <td>[India]</td>\n",
       "      <td>[Romantic drama, Romance Film, Drama, World ci...</td>\n",
>>>>>>> refs/remotes/origin/main
       "    </tr>\n",
       "    <tr>\n",
       "      <th>18993</th>\n",
       "      <td>14022275</td>\n",
       "      <td>/m/03cr7rh</td>\n",
       "      <td>Madame X</td>\n",
       "      <td>1916-01-14</td>\n",
       "      <td>NaN</td>\n",
       "      <td>NaN</td>\n",
<<<<<<< HEAD

       "      <td>[Silent film, English Language]</td>\n",
       "      <td>[United States of America]</td>\n",
       "      <td>[Silent film, Drama, Indie, Black-and-white]</td>\n",

=======
       "      <td>[Silent film, English Language]</td>\n",
       "      <td>[United States of America]</td>\n",
       "      <td>[Silent film, Drama, Indie, Black-and-white]</td>\n",
>>>>>>> refs/remotes/origin/main
       "    </tr>\n",
       "    <tr>\n",
       "      <th>57569</th>\n",
       "      <td>14051944</td>\n",
       "      <td>/m/03cs4lh</td>\n",
       "      <td>Madame X</td>\n",
<<<<<<< HEAD

=======
>>>>>>> refs/remotes/origin/main
       "      <td>1954-01-01</td>\n",
       "      <td>NaN</td>\n",
       "      <td>109.0</td>\n",
       "      <td>[Greek Language]</td>\n",
       "      <td>[Greece]</td>\n",
       "      <td>[Drama, Black-and-white]</td>\n",
<<<<<<< HEAD

=======
>>>>>>> refs/remotes/origin/main
       "    </tr>\n",
       "    <tr>\n",
       "      <th>65014</th>\n",
       "      <td>14053389</td>\n",
       "      <td>/m/03cs5sb</td>\n",
       "      <td>Madame X</td>\n",
       "      <td>1981-03-16</td>\n",
       "      <td>NaN</td>\n",
       "      <td>100.0</td>\n",
<<<<<<< HEAD

       "      <td>[English Language]</td>\n",
       "      <td>[United States of America]</td>\n",
       "      <td>[Drama]</td>\n",

=======
       "      <td>[English Language]</td>\n",
       "      <td>[United States of America]</td>\n",
       "      <td>[Drama]</td>\n",
>>>>>>> refs/remotes/origin/main
       "    </tr>\n",
       "    <tr>\n",
       "      <th>4551</th>\n",
       "      <td>14055212</td>\n",
       "      <td>/m/03cs72m</td>\n",
       "      <td>The Trial of Madame X</td>\n",
<<<<<<< HEAD

=======
>>>>>>> refs/remotes/origin/main
       "      <td>1948-01-01</td>\n",
       "      <td>NaN</td>\n",
       "      <td>54.0</td>\n",
       "      <td>[English Language]</td>\n",
       "      <td>[United Kingdom]</td>\n",
       "      <td>[Drama, Black-and-white, Courtroom Drama]</td>\n",
<<<<<<< HEAD

=======
>>>>>>> refs/remotes/origin/main
       "    </tr>\n",
       "    <tr>\n",
       "      <th>15783</th>\n",
       "      <td>14616220</td>\n",
       "      <td>/m/03gqq2m</td>\n",
       "      <td>The Warrens of Virginia</td>\n",
       "      <td>1915-02-15</td>\n",
       "      <td>NaN</td>\n",
       "      <td>NaN</td>\n",
<<<<<<< HEAD

       "      <td>[Silent film, English Language]</td>\n",
       "      <td>[United States of America]</td>\n",
       "      <td>[Silent film, Drama, Indie, Black-and-white]</td>\n",

=======
       "      <td>[Silent film, English Language]</td>\n",
       "      <td>[United States of America]</td>\n",
       "      <td>[Silent film, Drama, Indie, Black-and-white]</td>\n",
>>>>>>> refs/remotes/origin/main
       "    </tr>\n",
       "    <tr>\n",
       "      <th>22185</th>\n",
       "      <td>19609453</td>\n",
       "      <td>/m/05b2vs4</td>\n",
       "      <td>Amar Deep</td>\n",
<<<<<<< HEAD

=======
>>>>>>> refs/remotes/origin/main
       "      <td>1979-01-01</td>\n",
       "      <td>NaN</td>\n",
       "      <td>NaN</td>\n",
       "      <td>[Hindi Language]</td>\n",
       "      <td>[India]</td>\n",
       "      <td>[Romance Film, Drama]</td>\n",
<<<<<<< HEAD

=======
>>>>>>> refs/remotes/origin/main
       "    </tr>\n",
       "    <tr>\n",
       "      <th>28621</th>\n",
       "      <td>29481480</td>\n",
       "      <td>/m/0ds08gq</td>\n",
       "      <td>Drohi</td>\n",
       "      <td>1992-10-25</td>\n",
       "      <td>NaN</td>\n",
       "      <td>NaN</td>\n",
<<<<<<< HEAD

       "      <td>[Hindi Language]</td>\n",
       "      <td>[India]</td>\n",
       "      <td>[Thriller, Crime Fiction, Action, Drama]</td>\n",

=======
       "      <td>[Hindi Language]</td>\n",
       "      <td>[India]</td>\n",
       "      <td>[Thriller, Crime Fiction, Action, Drama]</td>\n",
>>>>>>> refs/remotes/origin/main
       "    </tr>\n",
       "  </tbody>\n",
       "</table>\n",
       "</div>"
      ],
      "text/plain": [
<<<<<<< HEAD

=======
>>>>>>> refs/remotes/origin/main
       "       wikipedia_id freebase_id                    title release_date  \\\n",
       "59142      10791937  /m/02qq36m       Ninaithale Inikkum   1979-04-14   \n",
       "18993      14022275  /m/03cr7rh                 Madame X   1916-01-14   \n",
       "57569      14051944  /m/03cs4lh                 Madame X   1954-01-01   \n",
       "65014      14053389  /m/03cs5sb                 Madame X   1981-03-16   \n",
       "4551       14055212  /m/03cs72m    The Trial of Madame X   1948-01-01   \n",
       "15783      14616220  /m/03gqq2m  The Warrens of Virginia   1915-02-15   \n",
       "22185      19609453  /m/05b2vs4                Amar Deep   1979-01-01   \n",
       "28621      29481480  /m/0ds08gq                    Drohi   1992-10-25   \n",
       "\n",
       "       revenue  runtime                        languages  \\\n",
       "59142      NaN    143.0                 [Tamil Language]   \n",
       "18993      NaN      NaN  [Silent film, English Language]   \n",
       "57569      NaN    109.0                 [Greek Language]   \n",
       "65014      NaN    100.0               [English Language]   \n",
       "4551       NaN     54.0               [English Language]   \n",
       "15783      NaN      NaN  [Silent film, English Language]   \n",
       "22185      NaN      NaN                 [Hindi Language]   \n",
       "28621      NaN      NaN                 [Hindi Language]   \n",
       "\n",
       "                        countries  \\\n",
       "59142                     [India]   \n",
       "18993  [United States of America]   \n",
       "57569                    [Greece]   \n",
       "65014  [United States of America]   \n",
       "4551             [United Kingdom]   \n",
       "15783  [United States of America]   \n",
       "22185                     [India]   \n",
       "28621                     [India]   \n",
       "\n",
       "                                                  genres  \n",
       "59142  [Romantic drama, Romance Film, Drama, World ci...  \n",
       "18993       [Silent film, Drama, Indie, Black-and-white]  \n",
       "57569                           [Drama, Black-and-white]  \n",
       "65014                                            [Drama]  \n",
       "4551           [Drama, Black-and-white, Courtroom Drama]  \n",
       "15783       [Silent film, Drama, Indie, Black-and-white]  \n",
       "22185                              [Romance Film, Drama]  \n",
       "28621           [Thriller, Crime Fiction, Action, Drama]  "
<<<<<<< HEAD

      ]
     },
     "execution_count": 31,
=======
      ]
     },
     "execution_count": 32,
>>>>>>> refs/remotes/origin/main
     "metadata": {},
     "output_type": "execute_result"
    }
   ],
   "source": [
<<<<<<< HEAD

=======
>>>>>>> refs/remotes/origin/main
    "df_movies[df_movies[\"wikipedia_id\"].isin(df[\"wikipedia_id\"])].sort_values(\n",
    "    by=[\"wikipedia_id\"]\n",
    ")"
   ]
  },
  {
   "cell_type": "markdown",
   "metadata": {},
   "source": [
    "We decide to directly merge our movie dataframe with the one with the plots "
   ]
  },
  {
   "cell_type": "code",
<<<<<<< HEAD
   "execution_count": 32,
   "metadata": {},
   "outputs": [],
=======
   "execution_count": 33,
   "metadata": {},
   "outputs": [
    {
     "data": {
      "text/html": [
       "<div>\n",
       "<style scoped>\n",
       "    .dataframe tbody tr th:only-of-type {\n",
       "        vertical-align: middle;\n",
       "    }\n",
       "\n",
       "    .dataframe tbody tr th {\n",
       "        vertical-align: top;\n",
       "    }\n",
       "\n",
       "    .dataframe thead th {\n",
       "        text-align: right;\n",
       "    }\n",
       "</style>\n",
       "<table border=\"1\" class=\"dataframe\">\n",
       "  <thead>\n",
       "    <tr style=\"text-align: right;\">\n",
       "      <th></th>\n",
       "      <th>wikipedia_id</th>\n",
       "      <th>freebase_id</th>\n",
       "      <th>title</th>\n",
       "      <th>release_date</th>\n",
       "      <th>revenue</th>\n",
       "      <th>runtime</th>\n",
       "      <th>languages</th>\n",
       "      <th>countries</th>\n",
       "      <th>genres</th>\n",
       "      <th>plot_summary</th>\n",
       "    </tr>\n",
       "  </thead>\n",
       "  <tbody>\n",
       "    <tr>\n",
       "      <th>0</th>\n",
       "      <td>975900</td>\n",
       "      <td>/m/03vyhn</td>\n",
       "      <td>Ghosts of Mars</td>\n",
       "      <td>2001-08-24</td>\n",
       "      <td>14010832.0</td>\n",
       "      <td>98.0</td>\n",
       "      <td>[English Language]</td>\n",
       "      <td>[United States of America]</td>\n",
       "      <td>[Thriller, Science Fiction, Horror, Adventure,...</td>\n",
       "      <td>Set in the second half of the 22nd century, th...</td>\n",
       "    </tr>\n",
       "    <tr>\n",
       "      <th>1</th>\n",
       "      <td>3196793</td>\n",
       "      <td>/m/08yl5d</td>\n",
       "      <td>Getting Away with Murder: The JonBenét Ramsey ...</td>\n",
       "      <td>2000-02-16</td>\n",
       "      <td>NaN</td>\n",
       "      <td>95.0</td>\n",
       "      <td>[English Language]</td>\n",
       "      <td>[United States of America]</td>\n",
       "      <td>[Mystery, Biographical film, Drama, Crime Drama]</td>\n",
       "      <td>NaN</td>\n",
       "    </tr>\n",
       "    <tr>\n",
       "      <th>2</th>\n",
       "      <td>28463795</td>\n",
       "      <td>/m/0crgdbh</td>\n",
       "      <td>Brun bitter</td>\n",
       "      <td>1988-01-01</td>\n",
       "      <td>NaN</td>\n",
       "      <td>83.0</td>\n",
       "      <td>[Norwegian Language]</td>\n",
       "      <td>[Norway]</td>\n",
       "      <td>[Crime Fiction, Drama]</td>\n",
       "      <td>NaN</td>\n",
       "    </tr>\n",
       "    <tr>\n",
       "      <th>3</th>\n",
       "      <td>9363483</td>\n",
       "      <td>/m/0285_cd</td>\n",
       "      <td>White Of The Eye</td>\n",
       "      <td>1987-01-01</td>\n",
       "      <td>NaN</td>\n",
       "      <td>110.0</td>\n",
       "      <td>[English Language]</td>\n",
       "      <td>[United Kingdom]</td>\n",
       "      <td>[Thriller, Erotic thriller, Psychological thri...</td>\n",
       "      <td>A series of murders of rich young women throug...</td>\n",
       "    </tr>\n",
       "    <tr>\n",
       "      <th>4</th>\n",
       "      <td>261236</td>\n",
       "      <td>/m/01mrr1</td>\n",
       "      <td>A Woman in Flames</td>\n",
       "      <td>1983-01-01</td>\n",
       "      <td>NaN</td>\n",
       "      <td>106.0</td>\n",
       "      <td>[German Language]</td>\n",
       "      <td>[Germany]</td>\n",
       "      <td>[Drama]</td>\n",
       "      <td>Eva, an upper class housewife, becomes frustra...</td>\n",
       "    </tr>\n",
       "  </tbody>\n",
       "</table>\n",
       "</div>"
      ],
      "text/plain": [
       "   wikipedia_id freebase_id  \\\n",
       "0        975900   /m/03vyhn   \n",
       "1       3196793   /m/08yl5d   \n",
       "2      28463795  /m/0crgdbh   \n",
       "3       9363483  /m/0285_cd   \n",
       "4        261236   /m/01mrr1   \n",
       "\n",
       "                                               title release_date     revenue  \\\n",
       "0                                     Ghosts of Mars   2001-08-24  14010832.0   \n",
       "1  Getting Away with Murder: The JonBenét Ramsey ...   2000-02-16         NaN   \n",
       "2                                        Brun bitter   1988-01-01         NaN   \n",
       "3                                   White Of The Eye   1987-01-01         NaN   \n",
       "4                                  A Woman in Flames   1983-01-01         NaN   \n",
       "\n",
       "   runtime             languages                   countries  \\\n",
       "0     98.0    [English Language]  [United States of America]   \n",
       "1     95.0    [English Language]  [United States of America]   \n",
       "2     83.0  [Norwegian Language]                    [Norway]   \n",
       "3    110.0    [English Language]            [United Kingdom]   \n",
       "4    106.0     [German Language]                   [Germany]   \n",
       "\n",
       "                                              genres  \\\n",
       "0  [Thriller, Science Fiction, Horror, Adventure,...   \n",
       "1   [Mystery, Biographical film, Drama, Crime Drama]   \n",
       "2                             [Crime Fiction, Drama]   \n",
       "3  [Thriller, Erotic thriller, Psychological thri...   \n",
       "4                                            [Drama]   \n",
       "\n",
       "                                        plot_summary  \n",
       "0  Set in the second half of the 22nd century, th...  \n",
       "1                                                NaN  \n",
       "2                                                NaN  \n",
       "3  A series of murders of rich young women throug...  \n",
       "4  Eva, an upper class housewife, becomes frustra...  "
      ]
     },
     "execution_count": 33,
     "metadata": {},
     "output_type": "execute_result"
    }
   ],
>>>>>>> refs/remotes/origin/main
   "source": [
    "# preprocess the data for merging\n",
    "df_movies = preprocess_movie_data(df_movies)\n",
    "\n",
<<<<<<< HEAD
    "df_movies = df_movies.join(df_plots.set_index(\"wikipedia_id\"), on=\"wikipedia_id\")"

=======
    "df_movies = df_movies.join(df_plots.set_index(\"wikipedia_id\"), on=\"wikipedia_id\")\n",
    "\n",
    "df_movies.head()"
>>>>>>> refs/remotes/origin/main
   ]
  },
  {
   "cell_type": "markdown",
   "metadata": {},
   "source": [
<<<<<<< HEAD

=======
>>>>>>> refs/remotes/origin/main
    "# External Datasets\n",
    "\n",
    "- [The Movies Dataset](https://www.kaggle.com/datasets/rounakbanik/the-movies-dataset) contains metadata for 45,000 films listed in the Full MovieLens Dataset, all of which were released on or before July 2017. We will use this dataset, specifically the movies_metadata.csv file, primarily to enrich the movie.metadata.tsv of the CMU movie dataset. Additionally, this dataset includes plot keywords (in the keywords.csv file), which could be helpful for analyzing and clustering movie plots.\n",
    "\n",
    "- [IMDB Non-Commercial Dataset](https://developer.imdb.com/non-commercial-datasets/) is a giant database containing over 50 Million movies from different regions, which allows us to complement our initial dataset specifically with movies created in the Soviet Union during the cold war. In addition, using the IMDB API and the IMDbPY Package, we can extract the plot to fix the issues of imbalance (The CMU Movie Summaries data being largely focused on the United States)"
<<<<<<< HEAD

=======
>>>>>>> refs/remotes/origin/main
   ]
  },
  {
   "cell_type": "markdown",
   "metadata": {},
   "source": [
<<<<<<< HEAD

=======
>>>>>>> refs/remotes/origin/main
    "# Data Merging\n",
    "## TMDb"
   ]
  },
  {
   "cell_type": "code",
<<<<<<< HEAD
   "execution_count": 33,
=======
   "execution_count": 34,
>>>>>>> refs/remotes/origin/main
   "metadata": {},
   "outputs": [],
   "source": [
    "df_tmdb_movies = pd.read_csv(\n",
    "    TMDB_MOVIE,\n",
    "    usecols=[\n",
    "        \"id\",\n",
    "        \"title\",\n",
    "        \"release_date\",\n",
    "        \"revenue\",\n",
    "        \"runtime\",\n",
    "        \"genres\",\n",
    "        \"production_countries\",\n",
    "        \"original_language\",\n",
    "        \"spoken_languages\",\n",
    "        \"overview\",\n",
    "    ],\n",
    ")\n",
    "\n",
    "\n",
    "df_tmdb_keywords = pd.read_csv(TMDB_KEYWORDS)"
   ]
  },
  {
   "cell_type": "code",
<<<<<<< HEAD
   "execution_count": 34,
=======
   "execution_count": 35,
>>>>>>> refs/remotes/origin/main
   "metadata": {},
   "outputs": [
    {
     "data": {
      "text/html": [
       "<div>\n",
       "<style scoped>\n",
       "    .dataframe tbody tr th:only-of-type {\n",
       "        vertical-align: middle;\n",
       "    }\n",
       "\n",
       "    .dataframe tbody tr th {\n",
       "        vertical-align: top;\n",
       "    }\n",
       "\n",
       "    .dataframe thead th {\n",
       "        text-align: right;\n",
       "    }\n",
       "</style>\n",
       "<table border=\"1\" class=\"dataframe\">\n",
       "  <thead>\n",
       "    <tr style=\"text-align: right;\">\n",
       "      <th></th>\n",
       "      <th>wikipedia_id</th>\n",
       "      <th>freebase_id</th>\n",
       "      <th>title</th>\n",
       "      <th>release_date_original</th>\n",
       "      <th>revenue_original</th>\n",
       "      <th>runtime_original</th>\n",
       "      <th>languages</th>\n",
       "      <th>countries</th>\n",
       "      <th>genres_original</th>\n",
       "      <th>plot_summary</th>\n",
       "      <th>genres_additional</th>\n",
       "      <th>id</th>\n",
       "      <th>original_language</th>\n",
       "      <th>overview</th>\n",
       "      <th>production_countries</th>\n",
       "      <th>release_date_additional</th>\n",
       "      <th>revenue_additional</th>\n",
       "      <th>runtime_additional</th>\n",
       "      <th>spoken_languages</th>\n",
       "      <th>keywords</th>\n",
       "    </tr>\n",
       "  </thead>\n",
       "  <tbody>\n",
       "    <tr>\n",
       "      <th>0</th>\n",
       "      <td>29988427.0</td>\n",
       "      <td>/m/0cryrj0</td>\n",
       "      <td>!Women Art Revolution</td>\n",
       "      <td>2010-09-01</td>\n",
       "      <td>NaN</td>\n",
       "      <td>83.0</td>\n",
       "      <td>[English Language]</td>\n",
       "      <td>[United States of America, Canada]</td>\n",
       "      <td>[LGBT, History, Documentary]</td>\n",
       "      <td>!Women Art Revolution explores the \"secret his...</td>\n",
       "      <td>[Documentary]</td>\n",
       "      <td>55245.0</td>\n",
       "      <td>en</td>\n",
       "      <td>Through intimate interviews, provocative art, ...</td>\n",
       "      <td>NaN</td>\n",
       "      <td>2010-01-01 00:00:00</td>\n",
       "      <td>NaN</td>\n",
       "      <td>83.0</td>\n",
       "      <td>NaN</td>\n",
       "      <td>[feminism, woman director]</td>\n",
       "    </tr>\n",
       "    <tr>\n",
       "      <th>1</th>\n",
       "      <td>30332673.0</td>\n",
       "      <td>/m/0crs0hx</td>\n",
       "      <td>#1 Cheerleader Camp</td>\n",
       "      <td>2010-01-01</td>\n",
       "      <td>NaN</td>\n",
       "      <td>90.0</td>\n",
       "      <td>NaN</td>\n",
       "      <td>[United States of America]</td>\n",
       "      <td>[Sports, Sex comedy, Comedy film, Comedy, Teen]</td>\n",
       "      <td>Two horny college guys get summer jobs at a ch...</td>\n",
       "      <td>[Comedy, Drama]</td>\n",
       "      <td>41371.0</td>\n",
       "      <td>en</td>\n",
       "      <td>A pair of horny college guys get summer jobs a...</td>\n",
       "      <td>[United States of America]</td>\n",
       "      <td>2010-07-27 00:00:00</td>\n",
       "      <td>NaN</td>\n",
       "      <td>95.0</td>\n",
       "      <td>[English]</td>\n",
       "      <td>[sport]</td>\n",
       "    </tr>\n",
       "    <tr>\n",
       "      <th>2</th>\n",
       "      <td>NaN</td>\n",
       "      <td>NaN</td>\n",
       "      <td>#Horror</td>\n",
       "      <td>NaT</td>\n",
       "      <td>NaN</td>\n",
       "      <td>NaN</td>\n",
       "      <td>NaN</td>\n",
       "      <td>NaN</td>\n",
       "      <td>NaN</td>\n",
       "      <td>NaN</td>\n",
       "      <td>[Drama, Mystery, Horror, Thriller]</td>\n",
       "      <td>301325.0</td>\n",
       "      <td>de</td>\n",
       "      <td>Inspired by actual events, a group of 12 year ...</td>\n",
       "      <td>[United States of America]</td>\n",
       "      <td>2015-11-20 00:00:00</td>\n",
       "      <td>NaN</td>\n",
       "      <td>90.0</td>\n",
       "      <td>[English, Español]</td>\n",
       "      <td>NaN</td>\n",
       "    </tr>\n",
       "    <tr>\n",
       "      <th>3</th>\n",
       "      <td>NaN</td>\n",
       "      <td>NaN</td>\n",
       "      <td>#Horror</td>\n",
       "      <td>NaT</td>\n",
       "      <td>NaN</td>\n",
       "      <td>NaN</td>\n",
       "      <td>NaN</td>\n",
       "      <td>NaN</td>\n",
       "      <td>NaN</td>\n",
       "      <td>NaN</td>\n",
       "      <td>[Drama, Mystery, Horror, Thriller]</td>\n",
       "      <td>301325.0</td>\n",
       "      <td>de</td>\n",
       "      <td>Inspired by actual events, a group of 12 year ...</td>\n",
       "      <td>[United States of America]</td>\n",
       "      <td>2015-11-20 00:00:00</td>\n",
       "      <td>NaN</td>\n",
       "      <td>90.0</td>\n",
       "      <td>[English, Español]</td>\n",
       "      <td>NaN</td>\n",
       "    </tr>\n",
       "    <tr>\n",
       "      <th>4</th>\n",
       "      <td>NaN</td>\n",
       "      <td>NaN</td>\n",
       "      <td>#chicagoGirl</td>\n",
       "      <td>NaT</td>\n",
       "      <td>NaN</td>\n",
       "      <td>NaN</td>\n",
       "      <td>NaN</td>\n",
       "      <td>NaN</td>\n",
       "      <td>NaN</td>\n",
       "      <td>NaN</td>\n",
       "      <td>[Documentary]</td>\n",
       "      <td>267752.0</td>\n",
       "      <td>en</td>\n",
       "      <td>From her childhood bedroom in the Chicago subu...</td>\n",
       "      <td>NaN</td>\n",
       "      <td>2013-11-21 00:00:00</td>\n",
       "      <td>NaN</td>\n",
       "      <td>74.0</td>\n",
       "      <td>NaN</td>\n",
       "      <td>NaN</td>\n",
       "    </tr>\n",
       "    <tr>\n",
       "      <th>...</th>\n",
       "      <td>...</td>\n",
       "      <td>...</td>\n",
       "      <td>...</td>\n",
       "      <td>...</td>\n",
       "      <td>...</td>\n",
       "      <td>...</td>\n",
       "      <td>...</td>\n",
       "      <td>...</td>\n",
       "      <td>...</td>\n",
       "      <td>...</td>\n",
       "      <td>...</td>\n",
       "      <td>...</td>\n",
       "      <td>...</td>\n",
       "      <td>...</td>\n",
       "      <td>...</td>\n",
       "      <td>...</td>\n",
       "      <td>...</td>\n",
       "      <td>...</td>\n",
       "      <td>...</td>\n",
       "      <td>...</td>\n",
       "    </tr>\n",
       "    <tr>\n",
       "      <th>110538</th>\n",
       "      <td>27718784.0</td>\n",
       "      <td>/m/0cc744m</td>\n",
       "      <td>…and there wasn’t everafter…</td>\n",
       "      <td>NaT</td>\n",
       "      <td>NaN</td>\n",
       "      <td>21.0</td>\n",
       "      <td>[English Language]</td>\n",
       "      <td>[India]</td>\n",
       "      <td>[Short Film]</td>\n",
       "      <td>NaN</td>\n",
       "      <td>NaN</td>\n",
       "      <td>NaN</td>\n",
       "      <td>NaN</td>\n",
       "      <td>NaN</td>\n",
       "      <td>NaN</td>\n",
       "      <td>NaN</td>\n",
       "      <td>NaN</td>\n",
       "      <td>NaN</td>\n",
       "      <td>NaN</td>\n",
       "      <td>NaN</td>\n",
       "    </tr>\n",
       "    <tr>\n",
       "      <th>110539</th>\n",
       "      <td>8277007.0</td>\n",
       "      <td>/m/026yqtg</td>\n",
       "      <td>…men Olsenbanden var ikke død</td>\n",
       "      <td>1984-01-01</td>\n",
       "      <td>NaN</td>\n",
       "      <td>89.0</td>\n",
       "      <td>[Norwegian Language]</td>\n",
       "      <td>[Norway]</td>\n",
       "      <td>[Crime Fiction, Comedy]</td>\n",
       "      <td>The gang is residing on a luxury yacht in Mont...</td>\n",
       "      <td>NaN</td>\n",
       "      <td>NaN</td>\n",
       "      <td>NaN</td>\n",
       "      <td>NaN</td>\n",
       "      <td>NaN</td>\n",
       "      <td>NaN</td>\n",
       "      <td>NaN</td>\n",
       "      <td>NaN</td>\n",
       "      <td>NaN</td>\n",
       "      <td>NaN</td>\n",
       "    </tr>\n",
       "    <tr>\n",
       "      <th>110540</th>\n",
       "      <td>33021454.0</td>\n",
       "      <td>/m/0h54w6f</td>\n",
       "      <td>₤500 Reward</td>\n",
       "      <td>1918-01-01</td>\n",
       "      <td>NaN</td>\n",
       "      <td>NaN</td>\n",
       "      <td>[Silent film, English Language]</td>\n",
       "      <td>NaN</td>\n",
       "      <td>[Silent film]</td>\n",
       "      <td>A \"five-act\" drama about a couple who travel f...</td>\n",
       "      <td>NaN</td>\n",
       "      <td>NaN</td>\n",
       "      <td>NaN</td>\n",
       "      <td>NaN</td>\n",
       "      <td>NaN</td>\n",
       "      <td>NaN</td>\n",
       "      <td>NaN</td>\n",
       "      <td>NaN</td>\n",
       "      <td>NaN</td>\n",
       "      <td>NaN</td>\n",
       "    </tr>\n",
       "    <tr>\n",
       "      <th>110541</th>\n",
       "      <td>NaN</td>\n",
       "      <td>NaN</td>\n",
       "      <td>ファンタスティポ</td>\n",
       "      <td>NaT</td>\n",
       "      <td>NaN</td>\n",
       "      <td>NaN</td>\n",
       "      <td>NaN</td>\n",
       "      <td>NaN</td>\n",
       "      <td>NaN</td>\n",
       "      <td>NaN</td>\n",
       "      <td>[Comedy]</td>\n",
       "      <td>252874.0</td>\n",
       "      <td>ja</td>\n",
       "      <td>Two brothers must take the helm of their famil...</td>\n",
       "      <td>NaN</td>\n",
       "      <td>2005-02-10 00:00:00</td>\n",
       "      <td>NaN</td>\n",
       "      <td>109.0</td>\n",
       "      <td>[日本語]</td>\n",
       "      <td>NaN</td>\n",
       "    </tr>\n",
       "    <tr>\n",
       "      <th>110542</th>\n",
       "      <td>6081671.0</td>\n",
       "      <td>/m/0fp5sw</td>\n",
       "      <td>春田花花同學會</td>\n",
       "      <td>2006-01-26</td>\n",
       "      <td>NaN</td>\n",
       "      <td>95.0</td>\n",
       "      <td>[Cantonese]</td>\n",
       "      <td>[Hong Kong]</td>\n",
       "      <td>[Chinese Movies, Children's, Comedy, Animation]</td>\n",
       "      <td>NaN</td>\n",
       "      <td>NaN</td>\n",
       "      <td>NaN</td>\n",
       "      <td>NaN</td>\n",
       "      <td>NaN</td>\n",
       "      <td>NaN</td>\n",
       "      <td>NaN</td>\n",
       "      <td>NaN</td>\n",
       "      <td>NaN</td>\n",
       "      <td>NaN</td>\n",
       "      <td>NaN</td>\n",
       "    </tr>\n",
       "  </tbody>\n",
       "</table>\n",
       "<p>110543 rows × 20 columns</p>\n",
       "</div>"
      ],
      "text/plain": [
       "        wikipedia_id freebase_id                          title  \\\n",
       "0         29988427.0  /m/0cryrj0          !Women Art Revolution   \n",
       "1         30332673.0  /m/0crs0hx            #1 Cheerleader Camp   \n",
       "2                NaN         NaN                        #Horror   \n",
       "3                NaN         NaN                        #Horror   \n",
       "4                NaN         NaN                   #chicagoGirl   \n",
       "...              ...         ...                            ...   \n",
       "110538    27718784.0  /m/0cc744m   …and there wasn’t everafter…   \n",
       "110539     8277007.0  /m/026yqtg  …men Olsenbanden var ikke død   \n",
       "110540    33021454.0  /m/0h54w6f                    ₤500 Reward   \n",
       "110541           NaN         NaN                       ファンタスティポ   \n",
       "110542     6081671.0   /m/0fp5sw                        春田花花同學會   \n",
       "\n",
       "       release_date_original  revenue_original  runtime_original  \\\n",
       "0                 2010-09-01               NaN              83.0   \n",
       "1                 2010-01-01               NaN              90.0   \n",
       "2                        NaT               NaN               NaN   \n",
       "3                        NaT               NaN               NaN   \n",
       "4                        NaT               NaN               NaN   \n",
       "...                      ...               ...               ...   \n",
       "110538                   NaT               NaN              21.0   \n",
       "110539            1984-01-01               NaN              89.0   \n",
       "110540            1918-01-01               NaN               NaN   \n",
       "110541                   NaT               NaN               NaN   \n",
       "110542            2006-01-26               NaN              95.0   \n",
       "\n",
       "                              languages                           countries  \\\n",
       "0                    [English Language]  [United States of America, Canada]   \n",
       "1                                   NaN          [United States of America]   \n",
       "2                                   NaN                                 NaN   \n",
       "3                                   NaN                                 NaN   \n",
       "4                                   NaN                                 NaN   \n",
       "...                                 ...                                 ...   \n",
       "110538               [English Language]                             [India]   \n",
       "110539             [Norwegian Language]                            [Norway]   \n",
       "110540  [Silent film, English Language]                                 NaN   \n",
       "110541                              NaN                                 NaN   \n",
       "110542                      [Cantonese]                         [Hong Kong]   \n",
       "\n",
       "                                        genres_original  \\\n",
       "0                          [LGBT, History, Documentary]   \n",
       "1       [Sports, Sex comedy, Comedy film, Comedy, Teen]   \n",
       "2                                                   NaN   \n",
       "3                                                   NaN   \n",
       "4                                                   NaN   \n",
       "...                                                 ...   \n",
       "110538                                     [Short Film]   \n",
       "110539                          [Crime Fiction, Comedy]   \n",
       "110540                                    [Silent film]   \n",
       "110541                                              NaN   \n",
       "110542  [Chinese Movies, Children's, Comedy, Animation]   \n",
       "\n",
       "                                             plot_summary  \\\n",
       "0       !Women Art Revolution explores the \"secret his...   \n",
       "1       Two horny college guys get summer jobs at a ch...   \n",
       "2                                                     NaN   \n",
       "3                                                     NaN   \n",
       "4                                                     NaN   \n",
       "...                                                   ...   \n",
       "110538                                                NaN   \n",
       "110539  The gang is residing on a luxury yacht in Mont...   \n",
       "110540  A \"five-act\" drama about a couple who travel f...   \n",
       "110541                                                NaN   \n",
       "110542                                                NaN   \n",
       "\n",
       "                         genres_additional        id original_language  \\\n",
       "0                            [Documentary]   55245.0                en   \n",
       "1                          [Comedy, Drama]   41371.0                en   \n",
       "2       [Drama, Mystery, Horror, Thriller]  301325.0                de   \n",
       "3       [Drama, Mystery, Horror, Thriller]  301325.0                de   \n",
       "4                            [Documentary]  267752.0                en   \n",
       "...                                    ...       ...               ...   \n",
       "110538                                 NaN       NaN               NaN   \n",
       "110539                                 NaN       NaN               NaN   \n",
       "110540                                 NaN       NaN               NaN   \n",
       "110541                            [Comedy]  252874.0                ja   \n",
       "110542                                 NaN       NaN               NaN   \n",
       "\n",
       "                                                 overview  \\\n",
       "0       Through intimate interviews, provocative art, ...   \n",
       "1       A pair of horny college guys get summer jobs a...   \n",
       "2       Inspired by actual events, a group of 12 year ...   \n",
       "3       Inspired by actual events, a group of 12 year ...   \n",
       "4       From her childhood bedroom in the Chicago subu...   \n",
       "...                                                   ...   \n",
       "110538                                                NaN   \n",
       "110539                                                NaN   \n",
       "110540                                                NaN   \n",
       "110541  Two brothers must take the helm of their famil...   \n",
       "110542                                                NaN   \n",
       "\n",
       "              production_countries release_date_additional  \\\n",
       "0                              NaN     2010-01-01 00:00:00   \n",
       "1       [United States of America]     2010-07-27 00:00:00   \n",
       "2       [United States of America]     2015-11-20 00:00:00   \n",
       "3       [United States of America]     2015-11-20 00:00:00   \n",
       "4                              NaN     2013-11-21 00:00:00   \n",
       "...                            ...                     ...   \n",
       "110538                         NaN                     NaN   \n",
       "110539                         NaN                     NaN   \n",
       "110540                         NaN                     NaN   \n",
       "110541                         NaN     2005-02-10 00:00:00   \n",
       "110542                         NaN                     NaN   \n",
       "\n",
       "        revenue_additional  runtime_additional    spoken_languages  \\\n",
       "0                      NaN                83.0                 NaN   \n",
       "1                      NaN                95.0           [English]   \n",
       "2                      NaN                90.0  [English, Español]   \n",
       "3                      NaN                90.0  [English, Español]   \n",
       "4                      NaN                74.0                 NaN   \n",
       "...                    ...                 ...                 ...   \n",
       "110538                 NaN                 NaN                 NaN   \n",
       "110539                 NaN                 NaN                 NaN   \n",
       "110540                 NaN                 NaN                 NaN   \n",
       "110541                 NaN               109.0               [日本語]   \n",
       "110542                 NaN                 NaN                 NaN   \n",
       "\n",
       "                          keywords  \n",
       "0       [feminism, woman director]  \n",
       "1                          [sport]  \n",
       "2                              NaN  \n",
       "3                              NaN  \n",
       "4                              NaN  \n",
       "...                            ...  \n",
       "110538                         NaN  \n",
       "110539                         NaN  \n",
       "110540                         NaN  \n",
       "110541                         NaN  \n",
       "110542                         NaN  \n",
       "\n",
       "[110543 rows x 20 columns]"
      ]
     },
<<<<<<< HEAD
     "execution_count": 34,
=======
     "execution_count": 35,
>>>>>>> refs/remotes/origin/main
     "metadata": {},
     "output_type": "execute_result"
    }
   ],
   "source": [
    "# preprocess the data for merging\n",
    "df_tmdb_movies = preprocess_movie_data(df_tmdb_movies)\n",
    "\n",
    "# Merge the TMDB movies with keywords based on id\n",
    "df_tmdb_movies[\"id\"] = df_tmdb_movies[\"id\"].astype(int)\n",
    "df_tmdb_movies = pd.merge(df_tmdb_movies, df_tmdb_keywords, on=\"id\", how=\"left\")\n",
    "\n",
    "for column_name in [\"genres\", \"production_countries\", \"spoken_languages\", \"keywords\"]:\n",
    "    df_tmdb_movies[column_name] = df_tmdb_movies[column_name].apply(\n",
    "        lambda row: (\n",
    "            [item[\"name\"] for item in ast.literal_eval(row)]\n",
    "            if pd.notnull(row) and ast.literal_eval(row)\n",
    "            else np.nan\n",
    "        )\n",
    "    )\n",
    "\n",
    "# Merge based on the title\n",
    "df_merged_movies = pd.merge(\n",
    "    df_movies,\n",
    "    df_tmdb_movies,\n",
    "    on=\"title\",\n",
    "    how=\"outer\",\n",
    "    suffixes=(\"_original\", \"_additional\"),\n",
    ")\n",
<<<<<<< HEAD
=======
    "\n",
>>>>>>> refs/remotes/origin/main
    "df_merged_movies"
   ]
  },
  {
   "cell_type": "code",
<<<<<<< HEAD
   "execution_count": 35,
=======
   "execution_count": 36,
>>>>>>> refs/remotes/origin/main
   "metadata": {},
   "outputs": [
    {
     "data": {
      "text/html": [
       "<div>\n",
       "<style scoped>\n",
       "    .dataframe tbody tr th:only-of-type {\n",
       "        vertical-align: middle;\n",
       "    }\n",
       "\n",
       "    .dataframe tbody tr th {\n",
       "        vertical-align: top;\n",
       "    }\n",
       "\n",
       "    .dataframe thead th {\n",
       "        text-align: right;\n",
       "    }\n",
       "</style>\n",
       "<table border=\"1\" class=\"dataframe\">\n",
       "  <thead>\n",
       "    <tr style=\"text-align: right;\">\n",
       "      <th></th>\n",
       "      <th>wikipedia_id</th>\n",
       "      <th>freebase_id</th>\n",
       "      <th>title</th>\n",
       "      <th>languages</th>\n",
       "      <th>countries</th>\n",
       "      <th>genres</th>\n",
       "      <th>plot_summary</th>\n",
       "      <th>original_language</th>\n",
       "      <th>overview</th>\n",
       "      <th>keywords</th>\n",
       "      <th>release_date</th>\n",
       "      <th>revenue</th>\n",
       "      <th>runtime</th>\n",
       "    </tr>\n",
       "  </thead>\n",
       "  <tbody>\n",
       "    <tr>\n",
       "      <th>0</th>\n",
       "      <td>29988427.0</td>\n",
       "      <td>/m/0cryrj0</td>\n",
       "      <td>!Women Art Revolution</td>\n",
       "      <td>[English Language]</td>\n",
       "      <td>[Canada, United States of America]</td>\n",
<<<<<<< HEAD
       "      <td>[History, LGBT, Documentary]</td>\n",
=======
       "      <td>[LGBT, History, Documentary]</td>\n",
>>>>>>> refs/remotes/origin/main
       "      <td>!Women Art Revolution explores the \"secret his...</td>\n",
       "      <td>en</td>\n",
       "      <td>Through intimate interviews, provocative art, ...</td>\n",
       "      <td>[feminism, woman director]</td>\n",
       "      <td>2010-09-01</td>\n",
       "      <td>NaN</td>\n",
       "      <td>83.0</td>\n",
       "    </tr>\n",
       "    <tr>\n",
       "      <th>1</th>\n",
       "      <td>30332673.0</td>\n",
       "      <td>/m/0crs0hx</td>\n",
       "      <td>#1 Cheerleader Camp</td>\n",
       "      <td>[English]</td>\n",
       "      <td>[United States of America]</td>\n",
<<<<<<< HEAD
       "      <td>[Comedy, Drama, Sex comedy, Sports, Teen, Come...</td>\n",
=======
       "      <td>[Sex comedy, Drama, Comedy, Teen, Sports, Come...</td>\n",
>>>>>>> refs/remotes/origin/main
       "      <td>Two horny college guys get summer jobs at a ch...</td>\n",
       "      <td>en</td>\n",
       "      <td>A pair of horny college guys get summer jobs a...</td>\n",
       "      <td>[sport]</td>\n",
       "      <td>2010-01-01</td>\n",
       "      <td>NaN</td>\n",
       "      <td>90.0</td>\n",
       "    </tr>\n",
       "    <tr>\n",
       "      <th>2</th>\n",
       "      <td>NaN</td>\n",
       "      <td>NaN</td>\n",
       "      <td>#Horror</td>\n",
       "      <td>[English, Español]</td>\n",
       "      <td>[United States of America]</td>\n",
<<<<<<< HEAD
       "      <td>[Horror, Drama, Thriller, Mystery]</td>\n",
=======
       "      <td>[Horror, Thriller, Drama, Mystery]</td>\n",
>>>>>>> refs/remotes/origin/main
       "      <td>NaN</td>\n",
       "      <td>de</td>\n",
       "      <td>Inspired by actual events, a group of 12 year ...</td>\n",
       "      <td>NaN</td>\n",
       "      <td>2015-11-20</td>\n",
       "      <td>NaN</td>\n",
       "      <td>90.0</td>\n",
       "    </tr>\n",
       "    <tr>\n",
       "      <th>3</th>\n",
       "      <td>NaN</td>\n",
       "      <td>NaN</td>\n",
       "      <td>#Horror</td>\n",
       "      <td>[English, Español]</td>\n",
       "      <td>[United States of America]</td>\n",
<<<<<<< HEAD
       "      <td>[Horror, Drama, Thriller, Mystery]</td>\n",
=======
       "      <td>[Horror, Thriller, Drama, Mystery]</td>\n",
>>>>>>> refs/remotes/origin/main
       "      <td>NaN</td>\n",
       "      <td>de</td>\n",
       "      <td>Inspired by actual events, a group of 12 year ...</td>\n",
       "      <td>NaN</td>\n",
       "      <td>2015-11-20</td>\n",
       "      <td>NaN</td>\n",
       "      <td>90.0</td>\n",
       "    </tr>\n",
       "    <tr>\n",
       "      <th>4</th>\n",
       "      <td>NaN</td>\n",
       "      <td>NaN</td>\n",
       "      <td>#chicagoGirl</td>\n",
       "      <td>NaN</td>\n",
       "      <td>NaN</td>\n",
       "      <td>[Documentary]</td>\n",
       "      <td>NaN</td>\n",
       "      <td>en</td>\n",
       "      <td>From her childhood bedroom in the Chicago subu...</td>\n",
       "      <td>NaN</td>\n",
       "      <td>2013-11-21</td>\n",
       "      <td>NaN</td>\n",
       "      <td>74.0</td>\n",
       "    </tr>\n",
       "    <tr>\n",
       "      <th>...</th>\n",
       "      <td>...</td>\n",
       "      <td>...</td>\n",
       "      <td>...</td>\n",
       "      <td>...</td>\n",
       "      <td>...</td>\n",
       "      <td>...</td>\n",
       "      <td>...</td>\n",
       "      <td>...</td>\n",
       "      <td>...</td>\n",
       "      <td>...</td>\n",
       "      <td>...</td>\n",
       "      <td>...</td>\n",
       "      <td>...</td>\n",
       "    </tr>\n",
       "    <tr>\n",
       "      <th>110538</th>\n",
       "      <td>27718784.0</td>\n",
       "      <td>/m/0cc744m</td>\n",
       "      <td>…and there wasn’t everafter…</td>\n",
       "      <td>[English Language]</td>\n",
       "      <td>[India]</td>\n",
       "      <td>[Short Film]</td>\n",
       "      <td>NaN</td>\n",
       "      <td>NaN</td>\n",
       "      <td>NaN</td>\n",
       "      <td>NaN</td>\n",
       "      <td>NaT</td>\n",
       "      <td>NaN</td>\n",
       "      <td>21.0</td>\n",
       "    </tr>\n",
       "    <tr>\n",
       "      <th>110539</th>\n",
       "      <td>8277007.0</td>\n",
       "      <td>/m/026yqtg</td>\n",
       "      <td>…men Olsenbanden var ikke død</td>\n",
       "      <td>[Norwegian Language]</td>\n",
       "      <td>[Norway]</td>\n",
<<<<<<< HEAD
       "      <td>[Comedy, Crime Fiction]</td>\n",
=======
       "      <td>[Crime Fiction, Comedy]</td>\n",
>>>>>>> refs/remotes/origin/main
       "      <td>The gang is residing on a luxury yacht in Mont...</td>\n",
       "      <td>NaN</td>\n",
       "      <td>NaN</td>\n",
       "      <td>NaN</td>\n",
       "      <td>1984-01-01</td>\n",
       "      <td>NaN</td>\n",
       "      <td>89.0</td>\n",
       "    </tr>\n",
       "    <tr>\n",
       "      <th>110540</th>\n",
       "      <td>33021454.0</td>\n",
       "      <td>/m/0h54w6f</td>\n",
       "      <td>₤500 Reward</td>\n",
       "      <td>[Silent film, English Language]</td>\n",
       "      <td>NaN</td>\n",
       "      <td>[Silent film]</td>\n",
       "      <td>A \"five-act\" drama about a couple who travel f...</td>\n",
       "      <td>NaN</td>\n",
       "      <td>NaN</td>\n",
       "      <td>NaN</td>\n",
       "      <td>1918-01-01</td>\n",
       "      <td>NaN</td>\n",
       "      <td>NaN</td>\n",
       "    </tr>\n",
       "    <tr>\n",
       "      <th>110541</th>\n",
       "      <td>NaN</td>\n",
       "      <td>NaN</td>\n",
       "      <td>ファンタスティポ</td>\n",
       "      <td>[日本語]</td>\n",
       "      <td>NaN</td>\n",
       "      <td>[Comedy]</td>\n",
       "      <td>NaN</td>\n",
       "      <td>ja</td>\n",
       "      <td>Two brothers must take the helm of their famil...</td>\n",
       "      <td>NaN</td>\n",
       "      <td>2005-02-10</td>\n",
       "      <td>NaN</td>\n",
       "      <td>109.0</td>\n",
       "    </tr>\n",
       "    <tr>\n",
       "      <th>110542</th>\n",
       "      <td>6081671.0</td>\n",
       "      <td>/m/0fp5sw</td>\n",
       "      <td>春田花花同學會</td>\n",
       "      <td>[Cantonese]</td>\n",
       "      <td>[Hong Kong]</td>\n",
<<<<<<< HEAD
       "      <td>[Chinese Movies, Comedy, Animation, Children's]</td>\n",
=======
       "      <td>[Animation, Chinese Movies, Children's, Comedy]</td>\n",
>>>>>>> refs/remotes/origin/main
       "      <td>NaN</td>\n",
       "      <td>NaN</td>\n",
       "      <td>NaN</td>\n",
       "      <td>NaN</td>\n",
       "      <td>2006-01-26</td>\n",
       "      <td>NaN</td>\n",
       "      <td>95.0</td>\n",
       "    </tr>\n",
       "  </tbody>\n",
       "</table>\n",
       "<p>110543 rows × 13 columns</p>\n",
       "</div>"
      ],
      "text/plain": [
       "        wikipedia_id freebase_id                          title  \\\n",
       "0         29988427.0  /m/0cryrj0          !Women Art Revolution   \n",
       "1         30332673.0  /m/0crs0hx            #1 Cheerleader Camp   \n",
       "2                NaN         NaN                        #Horror   \n",
       "3                NaN         NaN                        #Horror   \n",
       "4                NaN         NaN                   #chicagoGirl   \n",
       "...              ...         ...                            ...   \n",
       "110538    27718784.0  /m/0cc744m   …and there wasn’t everafter…   \n",
       "110539     8277007.0  /m/026yqtg  …men Olsenbanden var ikke død   \n",
       "110540    33021454.0  /m/0h54w6f                    ₤500 Reward   \n",
       "110541           NaN         NaN                       ファンタスティポ   \n",
       "110542     6081671.0   /m/0fp5sw                        春田花花同學會   \n",
       "\n",
       "                              languages                           countries  \\\n",
       "0                    [English Language]  [Canada, United States of America]   \n",
       "1                             [English]          [United States of America]   \n",
       "2                    [English, Español]          [United States of America]   \n",
       "3                    [English, Español]          [United States of America]   \n",
       "4                                   NaN                                 NaN   \n",
       "...                                 ...                                 ...   \n",
       "110538               [English Language]                             [India]   \n",
       "110539             [Norwegian Language]                            [Norway]   \n",
       "110540  [Silent film, English Language]                                 NaN   \n",
       "110541                            [日本語]                                 NaN   \n",
       "110542                      [Cantonese]                         [Hong Kong]   \n",
       "\n",
       "                                                   genres  \\\n",
<<<<<<< HEAD
       "0                            [History, LGBT, Documentary]   \n",
       "1       [Comedy, Drama, Sex comedy, Sports, Teen, Come...   \n",
       "2                      [Horror, Drama, Thriller, Mystery]   \n",
       "3                      [Horror, Drama, Thriller, Mystery]   \n",
       "4                                           [Documentary]   \n",
       "...                                                   ...   \n",
       "110538                                       [Short Film]   \n",
       "110539                            [Comedy, Crime Fiction]   \n",
       "110540                                      [Silent film]   \n",
       "110541                                           [Comedy]   \n",
       "110542    [Chinese Movies, Comedy, Animation, Children's]   \n",
=======
       "0                            [LGBT, History, Documentary]   \n",
       "1       [Sex comedy, Drama, Comedy, Teen, Sports, Come...   \n",
       "2                      [Horror, Thriller, Drama, Mystery]   \n",
       "3                      [Horror, Thriller, Drama, Mystery]   \n",
       "4                                           [Documentary]   \n",
       "...                                                   ...   \n",
       "110538                                       [Short Film]   \n",
       "110539                            [Crime Fiction, Comedy]   \n",
       "110540                                      [Silent film]   \n",
       "110541                                           [Comedy]   \n",
       "110542    [Animation, Chinese Movies, Children's, Comedy]   \n",
>>>>>>> refs/remotes/origin/main
       "\n",
       "                                             plot_summary original_language  \\\n",
       "0       !Women Art Revolution explores the \"secret his...                en   \n",
       "1       Two horny college guys get summer jobs at a ch...                en   \n",
       "2                                                     NaN                de   \n",
       "3                                                     NaN                de   \n",
       "4                                                     NaN                en   \n",
       "...                                                   ...               ...   \n",
       "110538                                                NaN               NaN   \n",
       "110539  The gang is residing on a luxury yacht in Mont...               NaN   \n",
       "110540  A \"five-act\" drama about a couple who travel f...               NaN   \n",
       "110541                                                NaN                ja   \n",
       "110542                                                NaN               NaN   \n",
       "\n",
       "                                                 overview  \\\n",
       "0       Through intimate interviews, provocative art, ...   \n",
       "1       A pair of horny college guys get summer jobs a...   \n",
       "2       Inspired by actual events, a group of 12 year ...   \n",
       "3       Inspired by actual events, a group of 12 year ...   \n",
       "4       From her childhood bedroom in the Chicago subu...   \n",
       "...                                                   ...   \n",
       "110538                                                NaN   \n",
       "110539                                                NaN   \n",
       "110540                                                NaN   \n",
       "110541  Two brothers must take the helm of their famil...   \n",
       "110542                                                NaN   \n",
       "\n",
       "                          keywords release_date  revenue  runtime  \n",
       "0       [feminism, woman director]   2010-09-01      NaN     83.0  \n",
       "1                          [sport]   2010-01-01      NaN     90.0  \n",
       "2                              NaN   2015-11-20      NaN     90.0  \n",
       "3                              NaN   2015-11-20      NaN     90.0  \n",
       "4                              NaN   2013-11-21      NaN     74.0  \n",
       "...                            ...          ...      ...      ...  \n",
       "110538                         NaN          NaT      NaN     21.0  \n",
       "110539                         NaN   1984-01-01      NaN     89.0  \n",
       "110540                         NaN   1918-01-01      NaN      NaN  \n",
       "110541                         NaN   2005-02-10      NaN    109.0  \n",
       "110542                         NaN   2006-01-26      NaN     95.0  \n",
       "\n",
       "[110543 rows x 13 columns]"
      ]
     },
<<<<<<< HEAD
     "execution_count": 35,
=======
     "execution_count": 36,
>>>>>>> refs/remotes/origin/main
     "metadata": {},
     "output_type": "execute_result"
    }
   ],
   "source": [
    "# fill as much missing values as possible\n",
    "for _, column_name in enumerate(df_merged_movies.columns):\n",
    "\n",
    "    if column_name in [\"release_date_original\", \"revenue_original\", \"runtime_original\"]:\n",
    "        # craft the additional column name\n",
    "        new_column_name = column_name[: -len(\"_original\")]\n",
    "        column_name_additional = new_column_name + \"_additional\"\n",
    "        # fill the missing values\n",
    "        df_merged_movies[new_column_name] = df_merged_movies[column_name].combine_first(\n",
    "            df_merged_movies[column_name_additional]\n",
    "        )\n",
    "        # drop the original and additional column\n",
    "        df_merged_movies = df_merged_movies.drop(\n",
    "            columns=[column_name, column_name_additional]\n",
    "        )\n",
    "\n",
    "df_merged_movies[\"genres_original\"] = df_merged_movies.apply(\n",
    "    lambda row: list(\n",
    "        set(\n",
    "            (row[\"genres_original\"] if isinstance(row[\"genres_original\"], list) else [])\n",
    "            + (\n",
    "                row[\"genres_additional\"]\n",
    "                if isinstance(row[\"genres_additional\"], list)\n",
    "                else []\n",
    "            )\n",
    "        )\n",
    "    ),\n",
    "    axis=1,\n",
    ")\n",
    "\n",
    "# Replace empty lists by NaN\n",
    "df_merged_movies[\"genres_original\"] = df_merged_movies[\"genres_original\"].apply(\n",
    "    lambda x: np.nan if len(x) == 0 else x\n",
    ")\n",
    "\n",
    "df_merged_movies = df_merged_movies.rename(columns={\"genres_original\": \"genres\"})\n",
    "\n",
    "df_merged_movies[\"languages\"] = df_merged_movies.apply(\n",
    "    lambda row: list(\n",
    "        set(\n",
    "            (row[\"languages\"] if isinstance(row[\"languages\"], list) else [])\n",
    "            + (\n",
    "                row[\"spoken_languages\"]\n",
    "                if isinstance(row[\"spoken_languages\"], list)\n",
    "                else []\n",
    "            )\n",
    "        )\n",
    "    ),\n",
    "    axis=1,\n",
    ")\n",
    "\n",
    "# Replace empty lists by NaN\n",
    "df_merged_movies[\"languages\"] = df_merged_movies[\"languages\"].apply(\n",
    "    lambda x: np.nan if len(x) == 0 else x\n",
    ")\n",
    "\n",
    "df_merged_movies[\"countries\"] = df_merged_movies.apply(\n",
    "    lambda row: list(\n",
    "        set(\n",
    "            (row[\"countries\"] if isinstance(row[\"countries\"], list) else [])\n",
    "            + (\n",
    "                row[\"production_countries\"]\n",
    "                if isinstance(row[\"production_countries\"], list)\n",
    "                else []\n",
    "            )\n",
    "        )\n",
    "    ),\n",
    "    axis=1,\n",
    ")\n",
    "\n",
    "# Replace empty lists by NaN\n",
    "df_merged_movies[\"countries\"] = df_merged_movies[\"countries\"].apply(\n",
    "    lambda x: np.nan if len(x) == 0 else x\n",
    ")\n",
    "\n",
    "df_merged_movies = df_merged_movies.drop(\n",
    "    columns=[\"spoken_languages\", \"production_countries\", \"id\", \"genres_additional\"]\n",
    ")\n",
    "\n",
    "df_merged_movies"
   ]
  },
  {
   "cell_type": "code",
<<<<<<< HEAD
   "execution_count": 36,
=======
   "execution_count": 37,
>>>>>>> refs/remotes/origin/main
   "metadata": {},
   "outputs": [],
   "source": [
    "df_merged_movies.to_csv(DATA_FOLDER + \"/preprocessed/merged_movies.csv\", index=False)"
   ]
  },
  {
   "cell_type": "markdown",
   "metadata": {},
   "source": [
    "## IMDb"
   ]
  },
  {
<<<<<<< HEAD
   "cell_type": "code",
   "execution_count": 37,
   "metadata": {},
   "outputs": [],
   "source": [
=======
   "cell_type": "markdown",
   "metadata": {},
   "source": [
    "As seen above, the CMU dataset is very imbalanced in terms of the countries of origin of the movies. We will use the IMDb dataset to get more movies from the Soviet Union during the cold war. We will then merge the two datasets to have a more balanced dataset."
   ]
  },
  {
   "cell_type": "code",
   "execution_count": null,
   "metadata": {},
   "outputs": [],
   "source": [
    "# load the data\n",
>>>>>>> refs/remotes/origin/main
    "title_akas = pd.read_csv(IMDB_AKA, sep=\"\\t\", usecols=[\"titleId\", \"title\", \"region\"])\n",
    "title_basics = pd.read_csv(\n",
    "    IMDB_BASIC,\n",
    "    sep=\"\\t\",\n",
    "    usecols=[\"tconst\", \"primaryTitle\", \"titleType\", \"startYear\", \"genres\"],\n",
    ")"
   ]
  },
  {
   "cell_type": "code",
<<<<<<< HEAD
   "execution_count": 38,
=======
   "execution_count": null,
>>>>>>> refs/remotes/origin/main
   "metadata": {},
   "outputs": [
    {
     "data": {
      "text/html": [
       "<div>\n",
       "<style scoped>\n",
       "    .dataframe tbody tr th:only-of-type {\n",
       "        vertical-align: middle;\n",
       "    }\n",
       "\n",
       "    .dataframe tbody tr th {\n",
       "        vertical-align: top;\n",
       "    }\n",
       "\n",
       "    .dataframe thead th {\n",
       "        text-align: right;\n",
       "    }\n",
       "</style>\n",
       "<table border=\"1\" class=\"dataframe\">\n",
       "  <thead>\n",
       "    <tr style=\"text-align: right;\">\n",
       "      <th></th>\n",
       "      <th>tconst</th>\n",
       "      <th>primaryTitle</th>\n",
       "      <th>region</th>\n",
       "      <th>startYear</th>\n",
       "      <th>genres</th>\n",
       "    </tr>\n",
       "  </thead>\n",
       "  <tbody>\n",
       "    <tr>\n",
       "      <th>762</th>\n",
       "      <td>tt0000147</td>\n",
       "      <td>The Corbett-Fitzsimmons Fight</td>\n",
       "      <td>RU</td>\n",
       "      <td>1897</td>\n",
       "      <td>Documentary,News,Sport</td>\n",
       "    </tr>\n",
       "    <tr>\n",
       "      <th>4507</th>\n",
       "      <td>tt0001338</td>\n",
       "      <td>A Night in May</td>\n",
       "      <td>RU</td>\n",
       "      <td>1910</td>\n",
       "      <td>Drama</td>\n",
       "    </tr>\n",
       "    <tr>\n",
       "      <th>4880</th>\n",
       "      <td>tt0001475</td>\n",
       "      <td>Amor fatal</td>\n",
       "      <td>SUHH</td>\n",
       "      <td>1911</td>\n",
       "      <td>Drama,Romance</td>\n",
       "    </tr>\n",
       "    <tr>\n",
       "      <th>5977</th>\n",
       "      <td>tt0001892</td>\n",
       "      <td>Den sorte drøm</td>\n",
       "      <td>RU</td>\n",
       "      <td>1911</td>\n",
       "      <td>Drama</td>\n",
       "    </tr>\n",
       "    <tr>\n",
       "      <th>6183</th>\n",
       "      <td>tt0001964</td>\n",
       "      <td>The Traitress</td>\n",
       "      <td>RU</td>\n",
       "      <td>1911</td>\n",
       "      <td>Drama</td>\n",
       "    </tr>\n",
       "    <tr>\n",
       "      <th>...</th>\n",
       "      <td>...</td>\n",
       "      <td>...</td>\n",
       "      <td>...</td>\n",
       "      <td>...</td>\n",
       "      <td>...</td>\n",
       "    </tr>\n",
       "    <tr>\n",
<<<<<<< HEAD
       "      <th>50377351</th>\n",
=======
       "      <th>50356269</th>\n",
>>>>>>> refs/remotes/origin/main
       "      <td>tt9911196</td>\n",
       "      <td>The Marriage Escape</td>\n",
       "      <td>UA</td>\n",
       "      <td>2020</td>\n",
       "      <td>Comedy,Drama</td>\n",
       "    </tr>\n",
       "    <tr>\n",
<<<<<<< HEAD
       "      <th>50384459</th>\n",
=======
       "      <th>50363377</th>\n",
>>>>>>> refs/remotes/origin/main
       "      <td>tt9913642</td>\n",
       "      <td>Kisilev's list</td>\n",
       "      <td>RU</td>\n",
       "      <td>2008</td>\n",
       "      <td>History,War</td>\n",
       "    </tr>\n",
       "    <tr>\n",
<<<<<<< HEAD
       "      <th>50389672</th>\n",
=======
       "      <th>50368590</th>\n",
>>>>>>> refs/remotes/origin/main
       "      <td>tt9916132</td>\n",
       "      <td>The Mystery of a Buryat Lama</td>\n",
       "      <td>RU</td>\n",
       "      <td>2018</td>\n",
       "      <td>Biography,Documentary,History</td>\n",
       "    </tr>\n",
       "    <tr>\n",
<<<<<<< HEAD
       "      <th>50390036</th>\n",
=======
       "      <th>50368954</th>\n",
>>>>>>> refs/remotes/origin/main
       "      <td>tt9916362</td>\n",
       "      <td>Coven</td>\n",
       "      <td>RU</td>\n",
       "      <td>2020</td>\n",
       "      <td>Drama,History</td>\n",
       "    </tr>\n",
       "    <tr>\n",
<<<<<<< HEAD
       "      <th>50390152</th>\n",
=======
       "      <th>50369070</th>\n",
>>>>>>> refs/remotes/origin/main
       "      <td>tt9916428</td>\n",
       "      <td>The Secret of China</td>\n",
       "      <td>RU</td>\n",
       "      <td>2019</td>\n",
       "      <td>Adventure,History,War</td>\n",
       "    </tr>\n",
       "  </tbody>\n",
       "</table>\n",
<<<<<<< HEAD
       "<p>75933 rows × 5 columns</p>\n",
=======
       "<p>75903 rows × 5 columns</p>\n",
>>>>>>> refs/remotes/origin/main
       "</div>"
      ],
      "text/plain": [
       "             tconst                   primaryTitle region startYear  \\\n",
       "762       tt0000147  The Corbett-Fitzsimmons Fight     RU      1897   \n",
       "4507      tt0001338                 A Night in May     RU      1910   \n",
       "4880      tt0001475                     Amor fatal   SUHH      1911   \n",
       "5977      tt0001892                 Den sorte drøm     RU      1911   \n",
       "6183      tt0001964                  The Traitress     RU      1911   \n",
       "...             ...                            ...    ...       ...   \n",
<<<<<<< HEAD
       "50377351  tt9911196            The Marriage Escape     UA      2020   \n",
       "50384459  tt9913642                 Kisilev's list     RU      2008   \n",
       "50389672  tt9916132   The Mystery of a Buryat Lama     RU      2018   \n",
       "50390036  tt9916362                          Coven     RU      2020   \n",
       "50390152  tt9916428            The Secret of China     RU      2019   \n",
=======
       "50356269  tt9911196            The Marriage Escape     UA      2020   \n",
       "50363377  tt9913642                 Kisilev's list     RU      2008   \n",
       "50368590  tt9916132   The Mystery of a Buryat Lama     RU      2018   \n",
       "50368954  tt9916362                          Coven     RU      2020   \n",
       "50369070  tt9916428            The Secret of China     RU      2019   \n",
>>>>>>> refs/remotes/origin/main
       "\n",
       "                                 genres  \n",
       "762              Documentary,News,Sport  \n",
       "4507                              Drama  \n",
       "4880                      Drama,Romance  \n",
       "5977                              Drama  \n",
       "6183                              Drama  \n",
       "...                                 ...  \n",
<<<<<<< HEAD
       "50377351                   Comedy,Drama  \n",
       "50384459                    History,War  \n",
       "50389672  Biography,Documentary,History  \n",
       "50390036                  Drama,History  \n",
       "50390152          Adventure,History,War  \n",
       "\n",
       "[75933 rows x 5 columns]"
      ]
     },
     "execution_count": 38,
=======
       "50356269                   Comedy,Drama  \n",
       "50363377                    History,War  \n",
       "50368590  Biography,Documentary,History  \n",
       "50368954                  Drama,History  \n",
       "50369070          Adventure,History,War  \n",
       "\n",
       "[75903 rows x 5 columns]"
      ]
     },
     "execution_count": 39,
>>>>>>> refs/remotes/origin/main
     "metadata": {},
     "output_type": "execute_result"
    }
   ],
   "source": [
    "# Merge the DataFrames on the common column tconst\n",
    "imdb_movies = pd.merge(title_akas, title_basics, left_on=\"titleId\", right_on=\"tconst\")\n",
    "\n",
    "# Select only the columns we need and rename `titleId` to `tconst` for consistency\n",
    "imdb_movies = imdb_movies[\n",
    "    [\"tconst\", \"title\", \"primaryTitle\", \"region\", \"titleType\", \"startYear\", \"genres\"]\n",
    "]\n",
    "\n",
<<<<<<< HEAD
=======
    "# select region that are related to the Soviet Union\n",
>>>>>>> refs/remotes/origin/main
    "regions = [\n",
    "    \"SU\",\n",
    "    \"RU\",\n",
    "    \"UA\",\n",
    "    \"BY\",\n",
    "    \"KZ\",\n",
    "    \"UZ\",\n",
    "    \"GE\",\n",
    "    \"AM\",\n",
    "    \"AZ\",\n",
    "    \"LT\",\n",
    "    \"LV\",\n",
    "    \"EE\",\n",
    "    \"TM\",\n",
    "    \"KG\",\n",
    "    \"TJ\",\n",
    "    \"MD\",\n",
    "]\n",
    "\n",
<<<<<<< HEAD
=======
    "# Filter the movies that are related to the Soviet Union\n",
>>>>>>> refs/remotes/origin/main
    "soviet_movies = imdb_movies[\n",
    "    imdb_movies[\"region\"].fillna(\"\").str.contains(\"|\".join(regions), case=False)\n",
    "]\n",
    "\n",
<<<<<<< HEAD
=======
    "# Drop the columns that are not needed\n",
>>>>>>> refs/remotes/origin/main
    "soviet_movies = (\n",
    "    soviet_movies[soviet_movies[\"titleType\"] == \"movie\"]\n",
    "    .drop_duplicates(subset=\"primaryTitle\", keep=\"first\")\n",
    "    .drop(columns=[\"title\", \"titleType\"])\n",
    ")\n",
    "\n",
    "soviet_movies"
   ]
  },
  {
   "cell_type": "markdown",
   "metadata": {},
   "source": [
    "N.B: You'll need to install IMDbPY if that's not already the case. Simply run `pip install IMDbPY` in your shell."
   ]
  },
  {
<<<<<<< HEAD
   "cell_type": "code",
   "execution_count": 39,
   "metadata": {},
   "outputs": [],
   "source": [
    "from imdb import IMDb\n",
    "\n",
    "ia = IMDb()\n",
    "\n",
    "\n",
    "def get_plot_summary(tconst):\n",
    "    try:\n",
    "        movie = ia.get_movie(int(str(tconst)[2:]))\n",
    "        # Retrieve the plot, if available, or return None\n",
    "        plot = movie.get(\"plot\")\n",
    "        if plot:\n",
    "            return plot[0]  # return the first plot summary\n",
    "        else:\n",
    "            return None\n",
    "    except Exception as e:\n",
    "        return None"
=======
   "cell_type": "markdown",
   "metadata": {},
   "source": [
    "We use the API to get the plot of the movies. We commented out the code as it takes a long time to run."
   ]
  },
  {
   "cell_type": "code",
   "execution_count": null,
   "metadata": {},
   "outputs": [],
   "source": [
    "# from concurrent.futures import ThreadPoolExecutor\n",
    "# from tqdm import tqdm\n",
    "# import time\n",
    "# from imdb import IMDb\n",
    "# from functools import partial\n",
    "\n",
    "\n",
    "# time.sleep(1)\n",
    "\n",
    "# imdb_instance = IMDb()\n",
    "\n",
    "# # Use partial to pass the IMDb instance to the function\n",
    "# get_plot_with_imdb = partial(get_plot_summary, imdb_instance=imdb_instance)\n",
    "\n",
    "# with ThreadPoolExecutor(max_workers=4) as executor:\n",
    "\n",
    "#     soviet_movies[\"plot\"] = list(\n",
    "#         tqdm(\n",
    "#             executor.map(get_plot_with_imdb, soviet_movies[\"tconst\"]),\n",
    "#             total=len(soviet_movies),\n",
    "#         )\n",
    "#     )"
   ]
  },
  {
   "cell_type": "code",
   "execution_count": null,
   "metadata": {},
   "outputs": [],
   "source": [
    "# save the dataframe to soviet_movies.tsv\n",
    "# soviet_movies.to_csv(DATA_FOLDER + \"/preprocessed/soviet_movies.tsv\", sep=\"\\t\")"
>>>>>>> refs/remotes/origin/main
   ]
  },
  {
   "cell_type": "markdown",
   "metadata": {},
   "source": [
<<<<<<< HEAD
    "Due to the tremendous number of movies we will only provide here an exemple with 20 samples, but we actually provided a plot for each one. "
   ]
  },
  {
   "cell_type": "code",
   "execution_count": 40,
   "metadata": {},
   "outputs": [
    {
     "name": "stderr",
     "output_type": "stream",
     "text": [
      "100%|██████████| 20/20 [01:01<00:00,  3.09s/it]\n"
     ]
    }
   ],
   "source": [
    "import time\n",
    "from tqdm import tqdm\n",
    "\n",
    "tqdm.pandas()\n",
    "\n",
    "samples = soviet_movies.sample(20)\n",
    "\n",
    "samples[\"plot\"] = samples[\"tconst\"].progress_apply(get_plot_summary)\n",
    "time.sleep(0.1)"
   ]
  },
  {
   "cell_type": "code",
   "execution_count": 41,
   "metadata": {},
   "outputs": [],
   "source": [
    "samples.to_csv(DATA_FOLDER + \"/preprocessed/samples_soviet_movies.csv\")"
=======
    "We get the IMDb dataset generated with the API and format it"
>>>>>>> refs/remotes/origin/main
   ]
  },
  {
   "cell_type": "code",
   "execution_count": null,
   "metadata": {},
   "outputs": [
    {
     "data": {
      "text/html": [
       "<div>\n",
       "<style scoped>\n",
       "    .dataframe tbody tr th:only-of-type {\n",
       "        vertical-align: middle;\n",
       "    }\n",
       "\n",
       "    .dataframe tbody tr th {\n",
       "        vertical-align: top;\n",
       "    }\n",
       "\n",
       "    .dataframe thead th {\n",
       "        text-align: right;\n",
       "    }\n",
       "</style>\n",
       "<table border=\"1\" class=\"dataframe\">\n",
       "  <thead>\n",
       "    <tr style=\"text-align: right;\">\n",
       "      <th></th>\n",
       "      <th>tconst</th>\n",
       "      <th>title</th>\n",
       "      <th>region</th>\n",
       "      <th>release_date</th>\n",
       "      <th>genres</th>\n",
<<<<<<< HEAD
=======
       "      <th>plot_summary</th>\n",
>>>>>>> refs/remotes/origin/main
       "    </tr>\n",
       "  </thead>\n",
       "  <tbody>\n",
       "    <tr>\n",
       "      <th>0</th>\n",
       "      <td>tt0001338</td>\n",
       "      <td>A Night in May</td>\n",
       "      <td>RU</td>\n",
       "      <td>1910-01-01</td>\n",
       "      <td>[Drama]</td>\n",
<<<<<<< HEAD
=======
       "      <td>NaN</td>\n",
>>>>>>> refs/remotes/origin/main
       "    </tr>\n",
       "    <tr>\n",
       "      <th>1</th>\n",
       "      <td>tt0001475</td>\n",
       "      <td>Amor fatal</td>\n",
       "      <td>SUHH</td>\n",
       "      <td>1911-01-01</td>\n",
       "      <td>[Drama, Romance]</td>\n",
<<<<<<< HEAD
=======
       "      <td>NaN</td>\n",
>>>>>>> refs/remotes/origin/main
       "    </tr>\n",
       "    <tr>\n",
       "      <th>2</th>\n",
       "      <td>tt0001892</td>\n",
       "      <td>Den sorte drøm</td>\n",
       "      <td>RU</td>\n",
       "      <td>1911-01-01</td>\n",
       "      <td>[Drama]</td>\n",
<<<<<<< HEAD
=======
       "      <td>Two men of high rank are both wooing the beaut...</td>\n",
>>>>>>> refs/remotes/origin/main
       "    </tr>\n",
       "    <tr>\n",
       "      <th>3</th>\n",
       "      <td>tt0001964</td>\n",
       "      <td>The Traitress</td>\n",
       "      <td>RU</td>\n",
       "      <td>1911-01-01</td>\n",
       "      <td>[Drama]</td>\n",
<<<<<<< HEAD
=======
       "      <td>A woman betrays the regiment location in which...</td>\n",
>>>>>>> refs/remotes/origin/main
       "    </tr>\n",
       "    <tr>\n",
       "      <th>4</th>\n",
       "      <td>tt0002022</td>\n",
       "      <td>Anfisa</td>\n",
       "      <td>RU</td>\n",
       "      <td>1912-01-01</td>\n",
       "      <td>[Drama]</td>\n",
<<<<<<< HEAD
=======
       "      <td>The Kostomarov family falls apart when a femal...</td>\n",
>>>>>>> refs/remotes/origin/main
       "    </tr>\n",
       "    <tr>\n",
       "      <th>...</th>\n",
       "      <td>...</td>\n",
       "      <td>...</td>\n",
       "      <td>...</td>\n",
       "      <td>...</td>\n",
       "      <td>...</td>\n",
<<<<<<< HEAD
=======
       "      <td>...</td>\n",
>>>>>>> refs/remotes/origin/main
       "    </tr>\n",
       "    <tr>\n",
       "      <th>28261</th>\n",
       "      <td>tt9815160</td>\n",
       "      <td>Kinmontô ni kakeru hashi</td>\n",
       "      <td>SUHH</td>\n",
       "      <td>1962-01-01</td>\n",
       "      <td>[Action, War]</td>\n",
<<<<<<< HEAD
=======
       "      <td>He was an on-board doctor. As he was about to ...</td>\n",
>>>>>>> refs/remotes/origin/main
       "    </tr>\n",
       "    <tr>\n",
       "      <th>28262</th>\n",
       "      <td>tt9856080</td>\n",
       "      <td>Mezozoy Ahvalati</td>\n",
       "      <td>RU</td>\n",
       "      <td>1976-01-01</td>\n",
       "      <td>[Drama, History]</td>\n",
<<<<<<< HEAD
=======
       "      <td>NaN</td>\n",
>>>>>>> refs/remotes/origin/main
       "    </tr>\n",
       "    <tr>\n",
       "      <th>28263</th>\n",
       "      <td>tt9890850</td>\n",
       "      <td>Leyli va Macnun</td>\n",
       "      <td>RU</td>\n",
       "      <td>1961-01-01</td>\n",
       "      <td>[Drama, History, Romance]</td>\n",
<<<<<<< HEAD
=======
       "      <td>Based on poetry of Nizami and Fuzuli, this is ...</td>\n",
>>>>>>> refs/remotes/origin/main
       "    </tr>\n",
       "    <tr>\n",
       "      <th>28264</th>\n",
       "      <td>tt9905224</td>\n",
       "      <td>The Shooter</td>\n",
       "      <td>SUHH</td>\n",
       "      <td>1975-01-01</td>\n",
       "      <td>[Adventure, Drama]</td>\n",
<<<<<<< HEAD
=======
       "      <td>NaN</td>\n",
>>>>>>> refs/remotes/origin/main
       "    </tr>\n",
       "    <tr>\n",
       "      <th>28265</th>\n",
       "      <td>tt9909462</td>\n",
       "      <td>An Unprecedented Campaign</td>\n",
       "      <td>UA</td>\n",
       "      <td>1931-01-01</td>\n",
       "      <td>[Documentary]</td>\n",
<<<<<<< HEAD
       "    </tr>\n",
       "  </tbody>\n",
       "</table>\n",
       "<p>28266 rows × 5 columns</p>\n",
=======
       "      <td>Made during the rapid industrialization and co...</td>\n",
       "    </tr>\n",
       "  </tbody>\n",
       "</table>\n",
       "<p>28266 rows × 6 columns</p>\n",
>>>>>>> refs/remotes/origin/main
       "</div>"
      ],
      "text/plain": [
       "          tconst                      title region release_date  \\\n",
       "0      tt0001338             A Night in May     RU   1910-01-01   \n",
       "1      tt0001475                 Amor fatal   SUHH   1911-01-01   \n",
       "2      tt0001892             Den sorte drøm     RU   1911-01-01   \n",
       "3      tt0001964              The Traitress     RU   1911-01-01   \n",
       "4      tt0002022                     Anfisa     RU   1912-01-01   \n",
       "...          ...                        ...    ...          ...   \n",
       "28261  tt9815160   Kinmontô ni kakeru hashi   SUHH   1962-01-01   \n",
       "28262  tt9856080           Mezozoy Ahvalati     RU   1976-01-01   \n",
       "28263  tt9890850            Leyli va Macnun     RU   1961-01-01   \n",
       "28264  tt9905224                The Shooter   SUHH   1975-01-01   \n",
       "28265  tt9909462  An Unprecedented Campaign     UA   1931-01-01   \n",
       "\n",
<<<<<<< HEAD
       "                          genres  \n",
       "0                        [Drama]  \n",
       "1               [Drama, Romance]  \n",
       "2                        [Drama]  \n",
       "3                        [Drama]  \n",
       "4                        [Drama]  \n",
       "...                          ...  \n",
       "28261              [Action, War]  \n",
       "28262           [Drama, History]  \n",
       "28263  [Drama, History, Romance]  \n",
       "28264         [Adventure, Drama]  \n",
       "28265              [Documentary]  \n",
       "\n",
       "[28266 rows x 5 columns]"
      ]
     },
     "execution_count": 42,
=======
       "                          genres  \\\n",
       "0                        [Drama]   \n",
       "1               [Drama, Romance]   \n",
       "2                        [Drama]   \n",
       "3                        [Drama]   \n",
       "4                        [Drama]   \n",
       "...                          ...   \n",
       "28261              [Action, War]   \n",
       "28262           [Drama, History]   \n",
       "28263  [Drama, History, Romance]   \n",
       "28264         [Adventure, Drama]   \n",
       "28265              [Documentary]   \n",
       "\n",
       "                                            plot_summary  \n",
       "0                                                    NaN  \n",
       "1                                                    NaN  \n",
       "2      Two men of high rank are both wooing the beaut...  \n",
       "3      A woman betrays the regiment location in which...  \n",
       "4      The Kostomarov family falls apart when a femal...  \n",
       "...                                                  ...  \n",
       "28261  He was an on-board doctor. As he was about to ...  \n",
       "28262                                                NaN  \n",
       "28263  Based on poetry of Nizami and Fuzuli, this is ...  \n",
       "28264                                                NaN  \n",
       "28265  Made during the rapid industrialization and co...  \n",
       "\n",
       "[28266 rows x 6 columns]"
      ]
     },
     "execution_count": 43,
>>>>>>> refs/remotes/origin/main
     "metadata": {},
     "output_type": "execute_result"
    }
   ],
   "source": [
    "soviet_movies = pd.read_csv(\n",
    "    DATA_FOLDER + \"/preprocessed/soviet_movies.tsv\",\n",
    "    sep=\"\\t\",\n",
    "    usecols=[\n",
    "        \"tconst\",\n",
    "        \"title\",\n",
    "        \"primaryTitle\",\n",
    "        \"region\",\n",
    "        \"titleType\",\n",
    "        \"startYear\",\n",
    "        \"genres\",\n",
<<<<<<< HEAD
    "    ],\n",
    ")\n",
    "\n",
    "\n",
    "soviet_movies = soviet_movies.drop(columns=[\"title\", \"titleType\"]).rename(\n",
    "    columns={\"primaryTitle\": \"title\", \"startYear\": \"release_date\"}\n",
    ")\n",
    "\n",
    "\n",
=======
    "        \"plot\"\n",
    "    ],\n",
    ")\n",
    "\n",
    "# Drop the columns that are not needed and rename the columns to match our column names\n",
    "soviet_movies = soviet_movies.drop(columns=[\"title\", \"titleType\"]).rename(\n",
    "    columns={\"primaryTitle\": \"title\", \"startYear\": \"release_date\", \"plot\":\"plot_summary\"}\n",
    ")\n",
    "\n",
>>>>>>> refs/remotes/origin/main
    "soviet_movies[\"release_date\"] = pd.to_datetime(\n",
    "    soviet_movies[\"release_date\"], format=\"%Y\", errors=\"coerce\"\n",
    ")\n",
    "\n",
<<<<<<< HEAD
    "\n",
    "soviet_movies[\"genres\"] = soviet_movies[\"genres\"].apply(\n",
    "    lambda genres: genres.split(\",\")\n",
    ")\n",
    "\n",
    "\n",
=======
    "soviet_movies[\"genres\"] = soviet_movies[\"genres\"].apply(\n",
    "    lambda genres: genres.split(\",\")\n",
    ")\n",
>>>>>>> refs/remotes/origin/main
    "soviet_movies"
   ]
  },
  {
<<<<<<< HEAD
   "cell_type": "code",
   "execution_count": 43,
=======
   "cell_type": "markdown",
   "metadata": {},
   "source": [
    "We merge the soviet movies with the merged movies"
   ]
  },
  {
   "cell_type": "code",
   "execution_count": 44,
>>>>>>> refs/remotes/origin/main
   "metadata": {},
   "outputs": [
    {
     "data": {
      "text/html": [
       "<div>\n",
       "<style scoped>\n",
       "    .dataframe tbody tr th:only-of-type {\n",
       "        vertical-align: middle;\n",
       "    }\n",
       "\n",
       "    .dataframe tbody tr th {\n",
       "        vertical-align: top;\n",
       "    }\n",
       "\n",
       "    .dataframe thead th {\n",
       "        text-align: right;\n",
       "    }\n",
       "</style>\n",
       "<table border=\"1\" class=\"dataframe\">\n",
       "  <thead>\n",
       "    <tr style=\"text-align: right;\">\n",
       "      <th></th>\n",
       "      <th>wikipedia_id</th>\n",
       "      <th>freebase_id</th>\n",
       "      <th>title</th>\n",
       "      <th>languages</th>\n",
       "      <th>countries</th>\n",
       "      <th>genres_original</th>\n",
<<<<<<< HEAD
       "      <th>plot_summary</th>\n",
=======
       "      <th>plot_summary_original</th>\n",
>>>>>>> refs/remotes/origin/main
       "      <th>original_language</th>\n",
       "      <th>overview</th>\n",
       "      <th>keywords</th>\n",
       "      <th>release_date_original</th>\n",
       "      <th>revenue</th>\n",
       "      <th>runtime</th>\n",
       "      <th>tconst</th>\n",
       "      <th>region</th>\n",
       "      <th>release_date_additional</th>\n",
       "      <th>genres_additional</th>\n",
<<<<<<< HEAD
=======
       "      <th>plot_summary_additional</th>\n",
>>>>>>> refs/remotes/origin/main
       "    </tr>\n",
       "  </thead>\n",
       "  <tbody>\n",
       "    <tr>\n",
       "      <th>0</th>\n",
       "      <td>29988427.0</td>\n",
       "      <td>/m/0cryrj0</td>\n",
       "      <td>!Women Art Revolution</td>\n",
       "      <td>[English Language]</td>\n",
       "      <td>[Canada, United States of America]</td>\n",
<<<<<<< HEAD
       "      <td>[History, LGBT, Documentary]</td>\n",
=======
       "      <td>[LGBT, History, Documentary]</td>\n",
>>>>>>> refs/remotes/origin/main
       "      <td>!Women Art Revolution explores the \"secret his...</td>\n",
       "      <td>en</td>\n",
       "      <td>Through intimate interviews, provocative art, ...</td>\n",
       "      <td>[feminism, woman director]</td>\n",
       "      <td>2010-09-01</td>\n",
       "      <td>NaN</td>\n",
       "      <td>83.0</td>\n",
       "      <td>NaN</td>\n",
       "      <td>NaN</td>\n",
       "      <td>NaT</td>\n",
       "      <td>NaN</td>\n",
<<<<<<< HEAD
=======
       "      <td>NaN</td>\n",
>>>>>>> refs/remotes/origin/main
       "    </tr>\n",
       "    <tr>\n",
       "      <th>1</th>\n",
       "      <td>30332673.0</td>\n",
       "      <td>/m/0crs0hx</td>\n",
       "      <td>#1 Cheerleader Camp</td>\n",
       "      <td>[English]</td>\n",
       "      <td>[United States of America]</td>\n",
<<<<<<< HEAD
       "      <td>[Comedy, Drama, Sex comedy, Sports, Teen, Come...</td>\n",
=======
       "      <td>[Sex comedy, Drama, Comedy, Teen, Sports, Come...</td>\n",
>>>>>>> refs/remotes/origin/main
       "      <td>Two horny college guys get summer jobs at a ch...</td>\n",
       "      <td>en</td>\n",
       "      <td>A pair of horny college guys get summer jobs a...</td>\n",
       "      <td>[sport]</td>\n",
       "      <td>2010-01-01</td>\n",
       "      <td>NaN</td>\n",
       "      <td>90.0</td>\n",
       "      <td>NaN</td>\n",
       "      <td>NaN</td>\n",
       "      <td>NaT</td>\n",
       "      <td>NaN</td>\n",
<<<<<<< HEAD
=======
       "      <td>NaN</td>\n",
>>>>>>> refs/remotes/origin/main
       "    </tr>\n",
       "    <tr>\n",
       "      <th>2</th>\n",
       "      <td>NaN</td>\n",
       "      <td>NaN</td>\n",
       "      <td>#Horror</td>\n",
       "      <td>[English, Español]</td>\n",
       "      <td>[United States of America]</td>\n",
<<<<<<< HEAD
       "      <td>[Horror, Drama, Thriller, Mystery]</td>\n",
=======
       "      <td>[Horror, Thriller, Drama, Mystery]</td>\n",
>>>>>>> refs/remotes/origin/main
       "      <td>NaN</td>\n",
       "      <td>de</td>\n",
       "      <td>Inspired by actual events, a group of 12 year ...</td>\n",
       "      <td>NaN</td>\n",
       "      <td>2015-11-20</td>\n",
       "      <td>NaN</td>\n",
       "      <td>90.0</td>\n",
       "      <td>NaN</td>\n",
       "      <td>NaN</td>\n",
       "      <td>NaT</td>\n",
       "      <td>NaN</td>\n",
<<<<<<< HEAD
=======
       "      <td>NaN</td>\n",
>>>>>>> refs/remotes/origin/main
       "    </tr>\n",
       "    <tr>\n",
       "      <th>3</th>\n",
       "      <td>NaN</td>\n",
       "      <td>NaN</td>\n",
       "      <td>#Horror</td>\n",
       "      <td>[English, Español]</td>\n",
       "      <td>[United States of America]</td>\n",
<<<<<<< HEAD
       "      <td>[Horror, Drama, Thriller, Mystery]</td>\n",
=======
       "      <td>[Horror, Thriller, Drama, Mystery]</td>\n",
>>>>>>> refs/remotes/origin/main
       "      <td>NaN</td>\n",
       "      <td>de</td>\n",
       "      <td>Inspired by actual events, a group of 12 year ...</td>\n",
       "      <td>NaN</td>\n",
       "      <td>2015-11-20</td>\n",
       "      <td>NaN</td>\n",
       "      <td>90.0</td>\n",
       "      <td>NaN</td>\n",
       "      <td>NaN</td>\n",
       "      <td>NaT</td>\n",
       "      <td>NaN</td>\n",
<<<<<<< HEAD
=======
       "      <td>NaN</td>\n",
>>>>>>> refs/remotes/origin/main
       "    </tr>\n",
       "    <tr>\n",
       "      <th>4</th>\n",
       "      <td>NaN</td>\n",
       "      <td>NaN</td>\n",
       "      <td>#chicagoGirl</td>\n",
       "      <td>NaN</td>\n",
       "      <td>NaN</td>\n",
       "      <td>[Documentary]</td>\n",
       "      <td>NaN</td>\n",
       "      <td>en</td>\n",
       "      <td>From her childhood bedroom in the Chicago subu...</td>\n",
       "      <td>NaN</td>\n",
       "      <td>2013-11-21</td>\n",
       "      <td>NaN</td>\n",
       "      <td>74.0</td>\n",
       "      <td>NaN</td>\n",
       "      <td>NaN</td>\n",
       "      <td>NaT</td>\n",
       "      <td>NaN</td>\n",
<<<<<<< HEAD
=======
       "      <td>NaN</td>\n",
>>>>>>> refs/remotes/origin/main
       "    </tr>\n",
       "    <tr>\n",
       "      <th>...</th>\n",
       "      <td>...</td>\n",
       "      <td>...</td>\n",
       "      <td>...</td>\n",
       "      <td>...</td>\n",
       "      <td>...</td>\n",
       "      <td>...</td>\n",
       "      <td>...</td>\n",
       "      <td>...</td>\n",
       "      <td>...</td>\n",
       "      <td>...</td>\n",
       "      <td>...</td>\n",
       "      <td>...</td>\n",
       "      <td>...</td>\n",
       "      <td>...</td>\n",
       "      <td>...</td>\n",
       "      <td>...</td>\n",
       "      <td>...</td>\n",
<<<<<<< HEAD
=======
       "      <td>...</td>\n",
>>>>>>> refs/remotes/origin/main
       "    </tr>\n",
       "    <tr>\n",
       "      <th>124434</th>\n",
       "      <td>27718784.0</td>\n",
       "      <td>/m/0cc744m</td>\n",
       "      <td>…and there wasn’t everafter…</td>\n",
       "      <td>[English Language]</td>\n",
       "      <td>[India]</td>\n",
       "      <td>[Short Film]</td>\n",
       "      <td>NaN</td>\n",
       "      <td>NaN</td>\n",
       "      <td>NaN</td>\n",
       "      <td>NaN</td>\n",
       "      <td>NaT</td>\n",
       "      <td>NaN</td>\n",
       "      <td>21.0</td>\n",
       "      <td>NaN</td>\n",
       "      <td>NaN</td>\n",
       "      <td>NaT</td>\n",
       "      <td>NaN</td>\n",
<<<<<<< HEAD
=======
       "      <td>NaN</td>\n",
>>>>>>> refs/remotes/origin/main
       "    </tr>\n",
       "    <tr>\n",
       "      <th>124435</th>\n",
       "      <td>8277007.0</td>\n",
       "      <td>/m/026yqtg</td>\n",
       "      <td>…men Olsenbanden var ikke død</td>\n",
       "      <td>[Norwegian Language]</td>\n",
       "      <td>[Norway]</td>\n",
<<<<<<< HEAD
       "      <td>[Comedy, Crime Fiction]</td>\n",
=======
       "      <td>[Crime Fiction, Comedy]</td>\n",
>>>>>>> refs/remotes/origin/main
       "      <td>The gang is residing on a luxury yacht in Mont...</td>\n",
       "      <td>NaN</td>\n",
       "      <td>NaN</td>\n",
       "      <td>NaN</td>\n",
       "      <td>1984-01-01</td>\n",
       "      <td>NaN</td>\n",
       "      <td>89.0</td>\n",
       "      <td>NaN</td>\n",
       "      <td>NaN</td>\n",
       "      <td>NaT</td>\n",
       "      <td>NaN</td>\n",
<<<<<<< HEAD
=======
       "      <td>NaN</td>\n",
>>>>>>> refs/remotes/origin/main
       "    </tr>\n",
       "    <tr>\n",
       "      <th>124436</th>\n",
       "      <td>33021454.0</td>\n",
       "      <td>/m/0h54w6f</td>\n",
       "      <td>₤500 Reward</td>\n",
       "      <td>[Silent film, English Language]</td>\n",
       "      <td>NaN</td>\n",
       "      <td>[Silent film]</td>\n",
       "      <td>A \"five-act\" drama about a couple who travel f...</td>\n",
       "      <td>NaN</td>\n",
       "      <td>NaN</td>\n",
       "      <td>NaN</td>\n",
       "      <td>1918-01-01</td>\n",
       "      <td>NaN</td>\n",
       "      <td>NaN</td>\n",
       "      <td>NaN</td>\n",
       "      <td>NaN</td>\n",
       "      <td>NaT</td>\n",
       "      <td>NaN</td>\n",
<<<<<<< HEAD
=======
       "      <td>NaN</td>\n",
>>>>>>> refs/remotes/origin/main
       "    </tr>\n",
       "    <tr>\n",
       "      <th>124437</th>\n",
       "      <td>NaN</td>\n",
       "      <td>NaN</td>\n",
       "      <td>ファンタスティポ</td>\n",
       "      <td>[日本語]</td>\n",
       "      <td>NaN</td>\n",
       "      <td>[Comedy]</td>\n",
       "      <td>NaN</td>\n",
       "      <td>ja</td>\n",
       "      <td>Two brothers must take the helm of their famil...</td>\n",
       "      <td>NaN</td>\n",
       "      <td>2005-02-10</td>\n",
       "      <td>NaN</td>\n",
       "      <td>109.0</td>\n",
       "      <td>NaN</td>\n",
       "      <td>NaN</td>\n",
       "      <td>NaT</td>\n",
       "      <td>NaN</td>\n",
<<<<<<< HEAD
=======
       "      <td>NaN</td>\n",
>>>>>>> refs/remotes/origin/main
       "    </tr>\n",
       "    <tr>\n",
       "      <th>124438</th>\n",
       "      <td>6081671.0</td>\n",
       "      <td>/m/0fp5sw</td>\n",
       "      <td>春田花花同學會</td>\n",
       "      <td>[Cantonese]</td>\n",
       "      <td>[Hong Kong]</td>\n",
<<<<<<< HEAD
       "      <td>[Chinese Movies, Comedy, Animation, Children's]</td>\n",
=======
       "      <td>[Animation, Chinese Movies, Children's, Comedy]</td>\n",
>>>>>>> refs/remotes/origin/main
       "      <td>NaN</td>\n",
       "      <td>NaN</td>\n",
       "      <td>NaN</td>\n",
       "      <td>NaN</td>\n",
       "      <td>2006-01-26</td>\n",
       "      <td>NaN</td>\n",
       "      <td>95.0</td>\n",
       "      <td>NaN</td>\n",
       "      <td>NaN</td>\n",
       "      <td>NaT</td>\n",
       "      <td>NaN</td>\n",
<<<<<<< HEAD
       "    </tr>\n",
       "  </tbody>\n",
       "</table>\n",
       "<p>124439 rows × 17 columns</p>\n",
=======
       "      <td>NaN</td>\n",
       "    </tr>\n",
       "  </tbody>\n",
       "</table>\n",
       "<p>124439 rows × 18 columns</p>\n",
>>>>>>> refs/remotes/origin/main
       "</div>"
      ],
      "text/plain": [
       "        wikipedia_id freebase_id                          title  \\\n",
       "0         29988427.0  /m/0cryrj0          !Women Art Revolution   \n",
       "1         30332673.0  /m/0crs0hx            #1 Cheerleader Camp   \n",
       "2                NaN         NaN                        #Horror   \n",
       "3                NaN         NaN                        #Horror   \n",
       "4                NaN         NaN                   #chicagoGirl   \n",
       "...              ...         ...                            ...   \n",
       "124434    27718784.0  /m/0cc744m   …and there wasn’t everafter…   \n",
       "124435     8277007.0  /m/026yqtg  …men Olsenbanden var ikke død   \n",
       "124436    33021454.0  /m/0h54w6f                    ₤500 Reward   \n",
       "124437           NaN         NaN                       ファンタスティポ   \n",
       "124438     6081671.0   /m/0fp5sw                        春田花花同學會   \n",
       "\n",
       "                              languages                           countries  \\\n",
       "0                    [English Language]  [Canada, United States of America]   \n",
       "1                             [English]          [United States of America]   \n",
       "2                    [English, Español]          [United States of America]   \n",
       "3                    [English, Español]          [United States of America]   \n",
       "4                                   NaN                                 NaN   \n",
       "...                                 ...                                 ...   \n",
       "124434               [English Language]                             [India]   \n",
       "124435             [Norwegian Language]                            [Norway]   \n",
       "124436  [Silent film, English Language]                                 NaN   \n",
       "124437                            [日本語]                                 NaN   \n",
       "124438                      [Cantonese]                         [Hong Kong]   \n",
       "\n",
       "                                          genres_original  \\\n",
<<<<<<< HEAD
       "0                            [History, LGBT, Documentary]   \n",
       "1       [Comedy, Drama, Sex comedy, Sports, Teen, Come...   \n",
       "2                      [Horror, Drama, Thriller, Mystery]   \n",
       "3                      [Horror, Drama, Thriller, Mystery]   \n",
       "4                                           [Documentary]   \n",
       "...                                                   ...   \n",
       "124434                                       [Short Film]   \n",
       "124435                            [Comedy, Crime Fiction]   \n",
       "124436                                      [Silent film]   \n",
       "124437                                           [Comedy]   \n",
       "124438    [Chinese Movies, Comedy, Animation, Children's]   \n",
       "\n",
       "                                             plot_summary original_language  \\\n",
=======
       "0                            [LGBT, History, Documentary]   \n",
       "1       [Sex comedy, Drama, Comedy, Teen, Sports, Come...   \n",
       "2                      [Horror, Thriller, Drama, Mystery]   \n",
       "3                      [Horror, Thriller, Drama, Mystery]   \n",
       "4                                           [Documentary]   \n",
       "...                                                   ...   \n",
       "124434                                       [Short Film]   \n",
       "124435                            [Crime Fiction, Comedy]   \n",
       "124436                                      [Silent film]   \n",
       "124437                                           [Comedy]   \n",
       "124438    [Animation, Chinese Movies, Children's, Comedy]   \n",
       "\n",
       "                                    plot_summary_original original_language  \\\n",
>>>>>>> refs/remotes/origin/main
       "0       !Women Art Revolution explores the \"secret his...                en   \n",
       "1       Two horny college guys get summer jobs at a ch...                en   \n",
       "2                                                     NaN                de   \n",
       "3                                                     NaN                de   \n",
       "4                                                     NaN                en   \n",
       "...                                                   ...               ...   \n",
       "124434                                                NaN               NaN   \n",
       "124435  The gang is residing on a luxury yacht in Mont...               NaN   \n",
       "124436  A \"five-act\" drama about a couple who travel f...               NaN   \n",
       "124437                                                NaN                ja   \n",
       "124438                                                NaN               NaN   \n",
       "\n",
       "                                                 overview  \\\n",
       "0       Through intimate interviews, provocative art, ...   \n",
       "1       A pair of horny college guys get summer jobs a...   \n",
       "2       Inspired by actual events, a group of 12 year ...   \n",
       "3       Inspired by actual events, a group of 12 year ...   \n",
       "4       From her childhood bedroom in the Chicago subu...   \n",
       "...                                                   ...   \n",
       "124434                                                NaN   \n",
       "124435                                                NaN   \n",
       "124436                                                NaN   \n",
       "124437  Two brothers must take the helm of their famil...   \n",
       "124438                                                NaN   \n",
       "\n",
       "                          keywords release_date_original  revenue  runtime  \\\n",
       "0       [feminism, woman director]            2010-09-01      NaN     83.0   \n",
       "1                          [sport]            2010-01-01      NaN     90.0   \n",
       "2                              NaN            2015-11-20      NaN     90.0   \n",
       "3                              NaN            2015-11-20      NaN     90.0   \n",
       "4                              NaN            2013-11-21      NaN     74.0   \n",
       "...                            ...                   ...      ...      ...   \n",
       "124434                         NaN                   NaT      NaN     21.0   \n",
       "124435                         NaN            1984-01-01      NaN     89.0   \n",
       "124436                         NaN            1918-01-01      NaN      NaN   \n",
       "124437                         NaN            2005-02-10      NaN    109.0   \n",
       "124438                         NaN            2006-01-26      NaN     95.0   \n",
       "\n",
<<<<<<< HEAD
       "       tconst region release_date_additional genres_additional  \n",
       "0         NaN    NaN                     NaT               NaN  \n",
       "1         NaN    NaN                     NaT               NaN  \n",
       "2         NaN    NaN                     NaT               NaN  \n",
       "3         NaN    NaN                     NaT               NaN  \n",
       "4         NaN    NaN                     NaT               NaN  \n",
       "...       ...    ...                     ...               ...  \n",
       "124434    NaN    NaN                     NaT               NaN  \n",
       "124435    NaN    NaN                     NaT               NaN  \n",
       "124436    NaN    NaN                     NaT               NaN  \n",
       "124437    NaN    NaN                     NaT               NaN  \n",
       "124438    NaN    NaN                     NaT               NaN  \n",
       "\n",
       "[124439 rows x 17 columns]"
      ]
     },
     "execution_count": 43,
=======
       "       tconst region release_date_additional genres_additional  \\\n",
       "0         NaN    NaN                     NaT               NaN   \n",
       "1         NaN    NaN                     NaT               NaN   \n",
       "2         NaN    NaN                     NaT               NaN   \n",
       "3         NaN    NaN                     NaT               NaN   \n",
       "4         NaN    NaN                     NaT               NaN   \n",
       "...       ...    ...                     ...               ...   \n",
       "124434    NaN    NaN                     NaT               NaN   \n",
       "124435    NaN    NaN                     NaT               NaN   \n",
       "124436    NaN    NaN                     NaT               NaN   \n",
       "124437    NaN    NaN                     NaT               NaN   \n",
       "124438    NaN    NaN                     NaT               NaN   \n",
       "\n",
       "       plot_summary_additional  \n",
       "0                          NaN  \n",
       "1                          NaN  \n",
       "2                          NaN  \n",
       "3                          NaN  \n",
       "4                          NaN  \n",
       "...                        ...  \n",
       "124434                     NaN  \n",
       "124435                     NaN  \n",
       "124436                     NaN  \n",
       "124437                     NaN  \n",
       "124438                     NaN  \n",
       "\n",
       "[124439 rows x 18 columns]"
      ]
     },
     "execution_count": 44,
>>>>>>> refs/remotes/origin/main
     "metadata": {},
     "output_type": "execute_result"
    }
   ],
   "source": [
<<<<<<< HEAD
    "copy = df_merged_movies.copy()\n",
    "copy = pd.merge(\n",
    "    copy, soviet_movies, on=\"title\", how=\"outer\", suffixes=(\"_original\", \"_additional\")\n",
    ")\n",
    "copy"
=======
    "df_merged_movies = pd.merge(df_merged_movies, soviet_movies, on=\"title\", how=\"outer\", suffixes=(\"_original\", \"_additional\"))\n",
    "df_merged_movies"
>>>>>>> refs/remotes/origin/main
   ]
  },
  {
   "cell_type": "code",
   "execution_count": null,
   "metadata": {},
   "outputs": [
    {
     "data": {
      "text/html": [
       "<div>\n",
       "<style scoped>\n",
       "    .dataframe tbody tr th:only-of-type {\n",
       "        vertical-align: middle;\n",
       "    }\n",
       "\n",
       "    .dataframe tbody tr th {\n",
       "        vertical-align: top;\n",
       "    }\n",
       "\n",
       "    .dataframe thead th {\n",
       "        text-align: right;\n",
       "    }\n",
       "</style>\n",
       "<table border=\"1\" class=\"dataframe\">\n",
       "  <thead>\n",
       "    <tr style=\"text-align: right;\">\n",
       "      <th></th>\n",
       "      <th>wikipedia_id</th>\n",
       "      <th>freebase_id</th>\n",
       "      <th>title</th>\n",
       "      <th>languages</th>\n",
       "      <th>countries</th>\n",
       "      <th>genres</th>\n",
<<<<<<< HEAD
       "      <th>plot_summary</th>\n",
=======
       "      <th>plot_summary_original</th>\n",
>>>>>>> refs/remotes/origin/main
       "      <th>original_language</th>\n",
       "      <th>overview</th>\n",
       "      <th>keywords</th>\n",
       "      <th>release_date</th>\n",
       "      <th>revenue</th>\n",
       "      <th>runtime</th>\n",
       "      <th>tconst</th>\n",
       "      <th>region</th>\n",
<<<<<<< HEAD
=======
       "      <th>plot_summary_additional</th>\n",
>>>>>>> refs/remotes/origin/main
       "    </tr>\n",
       "  </thead>\n",
       "  <tbody>\n",
       "    <tr>\n",
       "      <th>0</th>\n",
       "      <td>29988427.0</td>\n",
       "      <td>/m/0cryrj0</td>\n",
       "      <td>!Women Art Revolution</td>\n",
       "      <td>[English Language]</td>\n",
       "      <td>[Canada, United States of America]</td>\n",
<<<<<<< HEAD
       "      <td>[History, LGBT, Documentary]</td>\n",
=======
       "      <td>[LGBT, History, Documentary]</td>\n",
>>>>>>> refs/remotes/origin/main
       "      <td>!Women Art Revolution explores the \"secret his...</td>\n",
       "      <td>en</td>\n",
       "      <td>Through intimate interviews, provocative art, ...</td>\n",
       "      <td>[feminism, woman director]</td>\n",
       "      <td>2010-09-01</td>\n",
       "      <td>NaN</td>\n",
       "      <td>83.0</td>\n",
       "      <td>NaN</td>\n",
       "      <td>NaN</td>\n",
<<<<<<< HEAD
=======
       "      <td>NaN</td>\n",
>>>>>>> refs/remotes/origin/main
       "    </tr>\n",
       "    <tr>\n",
       "      <th>1</th>\n",
       "      <td>30332673.0</td>\n",
       "      <td>/m/0crs0hx</td>\n",
       "      <td>#1 Cheerleader Camp</td>\n",
       "      <td>[English]</td>\n",
       "      <td>[United States of America]</td>\n",
<<<<<<< HEAD
       "      <td>[Comedy, Drama, Sex comedy, Sports, Teen, Come...</td>\n",
=======
       "      <td>[Sex comedy, Comedy film, Comedy, Teen, Sports...</td>\n",
>>>>>>> refs/remotes/origin/main
       "      <td>Two horny college guys get summer jobs at a ch...</td>\n",
       "      <td>en</td>\n",
       "      <td>A pair of horny college guys get summer jobs a...</td>\n",
       "      <td>[sport]</td>\n",
       "      <td>2010-01-01</td>\n",
       "      <td>NaN</td>\n",
       "      <td>90.0</td>\n",
       "      <td>NaN</td>\n",
       "      <td>NaN</td>\n",
<<<<<<< HEAD
=======
       "      <td>NaN</td>\n",
>>>>>>> refs/remotes/origin/main
       "    </tr>\n",
       "    <tr>\n",
       "      <th>2</th>\n",
       "      <td>NaN</td>\n",
       "      <td>NaN</td>\n",
       "      <td>#Horror</td>\n",
       "      <td>[English, Español]</td>\n",
       "      <td>[United States of America]</td>\n",
<<<<<<< HEAD
       "      <td>[Horror, Drama, Thriller, Mystery]</td>\n",
=======
       "      <td>[Mystery, Horror, Drama, Thriller]</td>\n",
>>>>>>> refs/remotes/origin/main
       "      <td>NaN</td>\n",
       "      <td>de</td>\n",
       "      <td>Inspired by actual events, a group of 12 year ...</td>\n",
       "      <td>NaN</td>\n",
       "      <td>2015-11-20</td>\n",
       "      <td>NaN</td>\n",
       "      <td>90.0</td>\n",
       "      <td>NaN</td>\n",
       "      <td>NaN</td>\n",
<<<<<<< HEAD
=======
       "      <td>NaN</td>\n",
>>>>>>> refs/remotes/origin/main
       "    </tr>\n",
       "    <tr>\n",
       "      <th>3</th>\n",
       "      <td>NaN</td>\n",
       "      <td>NaN</td>\n",
       "      <td>#Horror</td>\n",
       "      <td>[English, Español]</td>\n",
       "      <td>[United States of America]</td>\n",
<<<<<<< HEAD
       "      <td>[Horror, Drama, Thriller, Mystery]</td>\n",
=======
       "      <td>[Mystery, Horror, Drama, Thriller]</td>\n",
>>>>>>> refs/remotes/origin/main
       "      <td>NaN</td>\n",
       "      <td>de</td>\n",
       "      <td>Inspired by actual events, a group of 12 year ...</td>\n",
       "      <td>NaN</td>\n",
       "      <td>2015-11-20</td>\n",
       "      <td>NaN</td>\n",
       "      <td>90.0</td>\n",
       "      <td>NaN</td>\n",
       "      <td>NaN</td>\n",
<<<<<<< HEAD
=======
       "      <td>NaN</td>\n",
>>>>>>> refs/remotes/origin/main
       "    </tr>\n",
       "    <tr>\n",
       "      <th>4</th>\n",
       "      <td>NaN</td>\n",
       "      <td>NaN</td>\n",
       "      <td>#chicagoGirl</td>\n",
       "      <td>NaN</td>\n",
       "      <td>NaN</td>\n",
       "      <td>[Documentary]</td>\n",
       "      <td>NaN</td>\n",
       "      <td>en</td>\n",
       "      <td>From her childhood bedroom in the Chicago subu...</td>\n",
       "      <td>NaN</td>\n",
       "      <td>2013-11-21</td>\n",
       "      <td>NaN</td>\n",
       "      <td>74.0</td>\n",
       "      <td>NaN</td>\n",
       "      <td>NaN</td>\n",
<<<<<<< HEAD
=======
       "      <td>NaN</td>\n",
>>>>>>> refs/remotes/origin/main
       "    </tr>\n",
       "    <tr>\n",
       "      <th>...</th>\n",
       "      <td>...</td>\n",
       "      <td>...</td>\n",
       "      <td>...</td>\n",
       "      <td>...</td>\n",
       "      <td>...</td>\n",
       "      <td>...</td>\n",
       "      <td>...</td>\n",
       "      <td>...</td>\n",
       "      <td>...</td>\n",
       "      <td>...</td>\n",
       "      <td>...</td>\n",
       "      <td>...</td>\n",
       "      <td>...</td>\n",
       "      <td>...</td>\n",
       "      <td>...</td>\n",
<<<<<<< HEAD
=======
       "      <td>...</td>\n",
>>>>>>> refs/remotes/origin/main
       "    </tr>\n",
       "    <tr>\n",
       "      <th>124434</th>\n",
       "      <td>27718784.0</td>\n",
       "      <td>/m/0cc744m</td>\n",
       "      <td>…and there wasn’t everafter…</td>\n",
       "      <td>[English Language]</td>\n",
       "      <td>[India]</td>\n",
       "      <td>[Short Film]</td>\n",
       "      <td>NaN</td>\n",
       "      <td>NaN</td>\n",
       "      <td>NaN</td>\n",
       "      <td>NaN</td>\n",
       "      <td>NaT</td>\n",
       "      <td>NaN</td>\n",
       "      <td>21.0</td>\n",
       "      <td>NaN</td>\n",
       "      <td>NaN</td>\n",
<<<<<<< HEAD
=======
       "      <td>NaN</td>\n",
>>>>>>> refs/remotes/origin/main
       "    </tr>\n",
       "    <tr>\n",
       "      <th>124435</th>\n",
       "      <td>8277007.0</td>\n",
       "      <td>/m/026yqtg</td>\n",
       "      <td>…men Olsenbanden var ikke død</td>\n",
       "      <td>[Norwegian Language]</td>\n",
       "      <td>[Norway]</td>\n",
<<<<<<< HEAD
       "      <td>[Comedy, Crime Fiction]</td>\n",
=======
       "      <td>[Crime Fiction, Comedy]</td>\n",
>>>>>>> refs/remotes/origin/main
       "      <td>The gang is residing on a luxury yacht in Mont...</td>\n",
       "      <td>NaN</td>\n",
       "      <td>NaN</td>\n",
       "      <td>NaN</td>\n",
       "      <td>1984-01-01</td>\n",
       "      <td>NaN</td>\n",
       "      <td>89.0</td>\n",
       "      <td>NaN</td>\n",
       "      <td>NaN</td>\n",
<<<<<<< HEAD
=======
       "      <td>NaN</td>\n",
>>>>>>> refs/remotes/origin/main
       "    </tr>\n",
       "    <tr>\n",
       "      <th>124436</th>\n",
       "      <td>33021454.0</td>\n",
       "      <td>/m/0h54w6f</td>\n",
       "      <td>₤500 Reward</td>\n",
       "      <td>[Silent film, English Language]</td>\n",
       "      <td>NaN</td>\n",
       "      <td>[Silent film]</td>\n",
       "      <td>A \"five-act\" drama about a couple who travel f...</td>\n",
       "      <td>NaN</td>\n",
       "      <td>NaN</td>\n",
       "      <td>NaN</td>\n",
       "      <td>1918-01-01</td>\n",
       "      <td>NaN</td>\n",
       "      <td>NaN</td>\n",
       "      <td>NaN</td>\n",
       "      <td>NaN</td>\n",
<<<<<<< HEAD
=======
       "      <td>NaN</td>\n",
>>>>>>> refs/remotes/origin/main
       "    </tr>\n",
       "    <tr>\n",
       "      <th>124437</th>\n",
       "      <td>NaN</td>\n",
       "      <td>NaN</td>\n",
       "      <td>ファンタスティポ</td>\n",
       "      <td>[日本語]</td>\n",
       "      <td>NaN</td>\n",
       "      <td>[Comedy]</td>\n",
       "      <td>NaN</td>\n",
       "      <td>ja</td>\n",
       "      <td>Two brothers must take the helm of their famil...</td>\n",
       "      <td>NaN</td>\n",
       "      <td>2005-02-10</td>\n",
       "      <td>NaN</td>\n",
       "      <td>109.0</td>\n",
       "      <td>NaN</td>\n",
       "      <td>NaN</td>\n",
<<<<<<< HEAD
=======
       "      <td>NaN</td>\n",
>>>>>>> refs/remotes/origin/main
       "    </tr>\n",
       "    <tr>\n",
       "      <th>124438</th>\n",
       "      <td>6081671.0</td>\n",
       "      <td>/m/0fp5sw</td>\n",
       "      <td>春田花花同學會</td>\n",
       "      <td>[Cantonese]</td>\n",
       "      <td>[Hong Kong]</td>\n",
<<<<<<< HEAD
       "      <td>[Chinese Movies, Animation, Comedy, Children's]</td>\n",
=======
       "      <td>[Animation, Chinese Movies, Children's, Comedy]</td>\n",
>>>>>>> refs/remotes/origin/main
       "      <td>NaN</td>\n",
       "      <td>NaN</td>\n",
       "      <td>NaN</td>\n",
       "      <td>NaN</td>\n",
       "      <td>2006-01-26</td>\n",
       "      <td>NaN</td>\n",
       "      <td>95.0</td>\n",
       "      <td>NaN</td>\n",
       "      <td>NaN</td>\n",
<<<<<<< HEAD
       "    </tr>\n",
       "  </tbody>\n",
       "</table>\n",
       "<p>124439 rows × 15 columns</p>\n",
=======
       "      <td>NaN</td>\n",
       "    </tr>\n",
       "  </tbody>\n",
       "</table>\n",
       "<p>124439 rows × 16 columns</p>\n",
>>>>>>> refs/remotes/origin/main
       "</div>"
      ],
      "text/plain": [
       "        wikipedia_id freebase_id                          title  \\\n",
       "0         29988427.0  /m/0cryrj0          !Women Art Revolution   \n",
       "1         30332673.0  /m/0crs0hx            #1 Cheerleader Camp   \n",
       "2                NaN         NaN                        #Horror   \n",
       "3                NaN         NaN                        #Horror   \n",
       "4                NaN         NaN                   #chicagoGirl   \n",
       "...              ...         ...                            ...   \n",
       "124434    27718784.0  /m/0cc744m   …and there wasn’t everafter…   \n",
       "124435     8277007.0  /m/026yqtg  …men Olsenbanden var ikke død   \n",
       "124436    33021454.0  /m/0h54w6f                    ₤500 Reward   \n",
       "124437           NaN         NaN                       ファンタスティポ   \n",
       "124438     6081671.0   /m/0fp5sw                        春田花花同學會   \n",
       "\n",
       "                              languages                           countries  \\\n",
       "0                    [English Language]  [Canada, United States of America]   \n",
       "1                             [English]          [United States of America]   \n",
       "2                    [English, Español]          [United States of America]   \n",
       "3                    [English, Español]          [United States of America]   \n",
       "4                                   NaN                                 NaN   \n",
       "...                                 ...                                 ...   \n",
       "124434               [English Language]                             [India]   \n",
       "124435             [Norwegian Language]                            [Norway]   \n",
       "124436  [Silent film, English Language]                                 NaN   \n",
       "124437                            [日本語]                                 NaN   \n",
       "124438                      [Cantonese]                         [Hong Kong]   \n",
       "\n",
       "                                                   genres  \\\n",
<<<<<<< HEAD
       "0                            [History, LGBT, Documentary]   \n",
       "1       [Comedy, Drama, Sex comedy, Sports, Teen, Come...   \n",
       "2                      [Horror, Drama, Thriller, Mystery]   \n",
       "3                      [Horror, Drama, Thriller, Mystery]   \n",
       "4                                           [Documentary]   \n",
       "...                                                   ...   \n",
       "124434                                       [Short Film]   \n",
       "124435                            [Comedy, Crime Fiction]   \n",
       "124436                                      [Silent film]   \n",
       "124437                                           [Comedy]   \n",
       "124438    [Chinese Movies, Animation, Comedy, Children's]   \n",
       "\n",
       "                                             plot_summary original_language  \\\n",
=======
       "0                            [LGBT, History, Documentary]   \n",
       "1       [Sex comedy, Comedy film, Comedy, Teen, Sports...   \n",
       "2                      [Mystery, Horror, Drama, Thriller]   \n",
       "3                      [Mystery, Horror, Drama, Thriller]   \n",
       "4                                           [Documentary]   \n",
       "...                                                   ...   \n",
       "124434                                       [Short Film]   \n",
       "124435                            [Crime Fiction, Comedy]   \n",
       "124436                                      [Silent film]   \n",
       "124437                                           [Comedy]   \n",
       "124438    [Animation, Chinese Movies, Children's, Comedy]   \n",
       "\n",
       "                                    plot_summary_original original_language  \\\n",
>>>>>>> refs/remotes/origin/main
       "0       !Women Art Revolution explores the \"secret his...                en   \n",
       "1       Two horny college guys get summer jobs at a ch...                en   \n",
       "2                                                     NaN                de   \n",
       "3                                                     NaN                de   \n",
       "4                                                     NaN                en   \n",
       "...                                                   ...               ...   \n",
       "124434                                                NaN               NaN   \n",
       "124435  The gang is residing on a luxury yacht in Mont...               NaN   \n",
       "124436  A \"five-act\" drama about a couple who travel f...               NaN   \n",
       "124437                                                NaN                ja   \n",
       "124438                                                NaN               NaN   \n",
       "\n",
       "                                                 overview  \\\n",
       "0       Through intimate interviews, provocative art, ...   \n",
       "1       A pair of horny college guys get summer jobs a...   \n",
       "2       Inspired by actual events, a group of 12 year ...   \n",
       "3       Inspired by actual events, a group of 12 year ...   \n",
       "4       From her childhood bedroom in the Chicago subu...   \n",
       "...                                                   ...   \n",
       "124434                                                NaN   \n",
       "124435                                                NaN   \n",
       "124436                                                NaN   \n",
       "124437  Two brothers must take the helm of their famil...   \n",
       "124438                                                NaN   \n",
       "\n",
       "                          keywords release_date  revenue  runtime tconst  \\\n",
       "0       [feminism, woman director]   2010-09-01      NaN     83.0    NaN   \n",
       "1                          [sport]   2010-01-01      NaN     90.0    NaN   \n",
       "2                              NaN   2015-11-20      NaN     90.0    NaN   \n",
       "3                              NaN   2015-11-20      NaN     90.0    NaN   \n",
       "4                              NaN   2013-11-21      NaN     74.0    NaN   \n",
       "...                            ...          ...      ...      ...    ...   \n",
       "124434                         NaN          NaT      NaN     21.0    NaN   \n",
       "124435                         NaN   1984-01-01      NaN     89.0    NaN   \n",
       "124436                         NaN   1918-01-01      NaN      NaN    NaN   \n",
       "124437                         NaN   2005-02-10      NaN    109.0    NaN   \n",
       "124438                         NaN   2006-01-26      NaN     95.0    NaN   \n",
       "\n",
<<<<<<< HEAD
       "       region  \n",
       "0         NaN  \n",
       "1         NaN  \n",
       "2         NaN  \n",
       "3         NaN  \n",
       "4         NaN  \n",
       "...       ...  \n",
       "124434    NaN  \n",
       "124435    NaN  \n",
       "124436    NaN  \n",
       "124437    NaN  \n",
       "124438    NaN  \n",
       "\n",
       "[124439 rows x 15 columns]"
      ]
     },
     "execution_count": 44,
=======
       "       region plot_summary_additional  \n",
       "0         NaN                     NaN  \n",
       "1         NaN                     NaN  \n",
       "2         NaN                     NaN  \n",
       "3         NaN                     NaN  \n",
       "4         NaN                     NaN  \n",
       "...       ...                     ...  \n",
       "124434    NaN                     NaN  \n",
       "124435    NaN                     NaN  \n",
       "124436    NaN                     NaN  \n",
       "124437    NaN                     NaN  \n",
       "124438    NaN                     NaN  \n",
       "\n",
       "[124439 rows x 16 columns]"
      ]
     },
     "execution_count": 45,
>>>>>>> refs/remotes/origin/main
     "metadata": {},
     "output_type": "execute_result"
    }
   ],
   "source": [
<<<<<<< HEAD
    "copy[\"release_date_original\"] = copy[\"release_date_original\"].combine_first(\n",
    "    copy[\"release_date_additional\"]\n",
    ")\n",
    "\n",
    "\n",
    "copy[\"genres_original\"] = copy.apply(\n",
=======
    "df_merged_movies[\"release_date_original\"] = df_merged_movies[\"release_date_original\"].combine_first(\n",
    "    df_merged_movies[\"release_date_additional\"]\n",
    ")\n",
    "\n",
    "# fill as much missing values as possible\n",
    "df_merged_movies[\"genres_original\"] = df_merged_movies.apply(\n",
>>>>>>> refs/remotes/origin/main
    "    lambda row: list(\n",
    "        set(\n",
    "            (row[\"genres_original\"] if isinstance(row[\"genres_original\"], list) else [])\n",
    "            + (\n",
    "                row[\"genres_additional\"]\n",
    "                if isinstance(row[\"genres_additional\"], list)\n",
    "                else []\n",
    "            )\n",
    "        )\n",
    "    ),\n",
    "    axis=1,\n",
    ")\n",
    "\n",
    "\n",
    "# Replace empty lists by NaN\n",
<<<<<<< HEAD
    "\n",
    "\n",
    "copy[\"genres_original\"] = copy[\"genres_original\"].apply(\n",
    "    lambda x: np.nan if len(x) == 0 else x\n",
    ")\n",
    "\n",
    "\n",
    "copy = copy.rename(\n",
    "    columns={\"release_date_original\": \"release_date\", \"genres_original\": \"genres\"}\n",
    ")\n",
    "\n",
    "\n",
    "copy = copy.drop(columns=[\"release_date_additional\", \"genres_additional\"])\n",
    "\n",
    "\n",
    "\n",
    "copy"
=======
    "df_merged_movies[\"genres_original\"] = df_merged_movies[\"genres_original\"].apply(\n",
    "    lambda x: np.nan if len(x) == 0 else x\n",
    ")\n",
    "\n",
    "# rename the columns to match our column names\n",
    "df_merged_movies = df_merged_movies.rename(\n",
    "    columns={\"release_date_original\": \"release_date\", \"genres_original\": \"genres\"}\n",
    ")\n",
    "\n",
    "df_merged_movies = df_merged_movies.drop(columns=[\"release_date_additional\", \"genres_additional\"])\n",
    "df_merged_movies"
>>>>>>> refs/remotes/origin/main
   ]
  },
  {
   "cell_type": "code",
<<<<<<< HEAD
   "execution_count": 45,
=======
   "execution_count": 46,
>>>>>>> refs/remotes/origin/main
   "metadata": {},
   "outputs": [
    {
     "name": "stdout",
     "output_type": "stream",
     "text": [
<<<<<<< HEAD
      "There are 47134 movies take place during the cold war (1947-91)\n"
=======
      "There are 47134 movies taking place during the cold war (1947-91)\n"
>>>>>>> refs/remotes/origin/main
     ]
    }
   ],
   "source": [
<<<<<<< HEAD
    "len_1 = len(copy[copy[\"release_date\"] > pd.to_datetime(\"1991\")])\n",
    "len_2 = len(copy[copy[\"release_date\"] >= pd.to_datetime(\"1947\")])\n",
    "print(f\"There are {len_2 - len_1} movies take place during the cold war (1947-91)\")"

=======
    "len_1 = len(df_merged_movies[df_merged_movies[\"release_date\"] > pd.to_datetime(\"1991\")])\n",
    "len_2 = len(df_merged_movies[df_merged_movies[\"release_date\"] >= pd.to_datetime(\"1947\")])\n",
    "print(f\"There are {len_2 - len_1} movies taking place during the cold war (1947-91)\")"
   ]
  },
  {
   "cell_type": "code",
   "execution_count": 47,
   "metadata": {},
   "outputs": [
    {
     "name": "stdout",
     "output_type": "stream",
     "text": [
      "There are about 8228 movies from Russia.\n"
     ]
    }
   ],
   "source": [
    "print(f\"There are about {len(df_merged_movies[df_merged_movies['region'] == 'RU'])} movies from Russia.\")"
   ]
  },
  {
   "cell_type": "code",
   "execution_count": 48,
   "metadata": {},
   "outputs": [
    {
     "name": "stdout",
     "output_type": "stream",
     "text": [
      "There are 15344 entries with revenue, 1102 are from Russia.\n"
     ]
    }
   ],
   "source": [
    "df_revenue = df_merged_movies[df_merged_movies['revenue'].notna()]\n",
    "print(f\"There are {len(df_revenue)} entries with revenue, {len(df_revenue[df_revenue['region'] == 'RU'])} are from Russia.\")"
   ]
  },
  {
   "cell_type": "markdown",
   "metadata": {},
   "source": [
    "## Prompt Engineering\n",
    "\n",
    "Now that we have a more balanced dataset between Western and Eastern bloc, we will use promt engineering to extract meaningful information from the plot summaries. We will use the `GPT-4o` model to get information about the characters, their archetype and values as well as information on if the film is associated with the Eastern or Western bloc and how they portay their side and the other side.\n",
    "\n",
    "The following cell initate a client Azure OpenAI API but we don't push the key to the repository."
   ]
  },
  {
   "cell_type": "code",
   "execution_count": 49,
   "metadata": {},
   "outputs": [],
   "source": [
    "from openai import AzureOpenAI\n",
    "import keyring\n",
    "\n",
    "endpoint = keyring.get_password(\"AzureOpenAI\", \"endpoint\")\n",
    "key = keyring.get_password(\"AzureOpenAI\", \"key\")\n",
    "\n",
    "model_name = \"gpt-4o\"\n",
    "\n",
    "client = AzureOpenAI(azure_endpoint=endpoint,api_version=\"2024-08-01-preview\",api_key=key)"
   ]
  },
  {
   "cell_type": "markdown",
   "metadata": {},
   "source": [
    "Let's take a few examples of known movies"
   ]
  },
  {
   "cell_type": "code",
   "execution_count": 50,
   "metadata": {},
   "outputs": [
    {
     "data": {
      "text/html": [
       "<div>\n",
       "<style scoped>\n",
       "    .dataframe tbody tr th:only-of-type {\n",
       "        vertical-align: middle;\n",
       "    }\n",
       "\n",
       "    .dataframe tbody tr th {\n",
       "        vertical-align: top;\n",
       "    }\n",
       "\n",
       "    .dataframe thead th {\n",
       "        text-align: right;\n",
       "    }\n",
       "</style>\n",
       "<table border=\"1\" class=\"dataframe\">\n",
       "  <thead>\n",
       "    <tr style=\"text-align: right;\">\n",
       "      <th></th>\n",
       "      <th>wikipedia_id</th>\n",
       "      <th>freebase_id</th>\n",
       "      <th>title</th>\n",
       "      <th>languages</th>\n",
       "      <th>countries</th>\n",
       "      <th>genres</th>\n",
       "      <th>plot_summary_original</th>\n",
       "      <th>original_language</th>\n",
       "      <th>overview</th>\n",
       "      <th>keywords</th>\n",
       "      <th>release_date</th>\n",
       "      <th>revenue</th>\n",
       "      <th>runtime</th>\n",
       "      <th>tconst</th>\n",
       "      <th>region</th>\n",
       "      <th>plot_summary_additional</th>\n",
       "    </tr>\n",
       "  </thead>\n",
       "  <tbody>\n",
       "    <tr>\n",
       "      <th>33395</th>\n",
       "      <td>872441.0</td>\n",
       "      <td>/m/03kfz0</td>\n",
       "      <td>First Blood</td>\n",
       "      <td>[English, English Language]</td>\n",
       "      <td>[United States of America]</td>\n",
       "      <td>[Adventure, War, Action Thrillers, Psychologic...</td>\n",
       "      <td>John Rambo  is a former member of an elite Uni...</td>\n",
       "      <td>en</td>\n",
       "      <td>When former Green Beret John Rambo is harassed...</td>\n",
       "      <td>[prison, vietnam veteran, falsely accused, pol...</td>\n",
       "      <td>1982-10-22</td>\n",
       "      <td>125212904.0</td>\n",
       "      <td>93.0</td>\n",
       "      <td>tt0083944</td>\n",
       "      <td>RU</td>\n",
       "      <td>A veteran Green Beret is forced by a cruel She...</td>\n",
       "    </tr>\n",
       "    <tr>\n",
       "      <th>35255</th>\n",
       "      <td>6446071.0</td>\n",
       "      <td>/m/025twgt</td>\n",
       "      <td>From Russia with Love</td>\n",
       "      <td>[Russian Language, Pусский, Turkish Language, ...</td>\n",
       "      <td>[United Kingdom]</td>\n",
       "      <td>[Adventure, Glamorized Spy Film, Spy, Action/A...</td>\n",
       "      <td>SPECTRE's expert planner Kronsteen devises a p...</td>\n",
       "      <td>en</td>\n",
       "      <td>Agent 007 is back in the second installment of...</td>\n",
       "      <td>[venice, london england, terror, england, assa...</td>\n",
       "      <td>1963-10-11</td>\n",
       "      <td>78900000.0</td>\n",
       "      <td>111.0</td>\n",
       "      <td>tt0057076</td>\n",
       "      <td>KZ</td>\n",
       "      <td>James Bond willingly falls into an assassinati...</td>\n",
       "    </tr>\n",
       "    <tr>\n",
       "      <th>41337</th>\n",
       "      <td>3463364.0</td>\n",
       "      <td>/m/09dv8h</td>\n",
       "      <td>High School Musical</td>\n",
       "      <td>[English, Spanish Language, English Language]</td>\n",
       "      <td>[United States of America]</td>\n",
       "      <td>[Musical, Family, Drama, TV Movie, Romantic co...</td>\n",
       "      <td>Troy Bolton and Gabriella meet at a New Year's...</td>\n",
       "      <td>en</td>\n",
       "      <td>Troy (Zac Efron), the popular captain of the b...</td>\n",
       "      <td>[becoming an adult, musical, music, high schoo...</td>\n",
       "      <td>2006-01-20</td>\n",
       "      <td>NaN</td>\n",
       "      <td>97.0</td>\n",
       "      <td>NaN</td>\n",
       "      <td>NaN</td>\n",
       "      <td>NaN</td>\n",
       "    </tr>\n",
       "    <tr>\n",
       "      <th>98365</th>\n",
       "      <td>2466773.0</td>\n",
       "      <td>/m/07g1sm</td>\n",
       "      <td>The Godfather</td>\n",
       "      <td>[Italiano, Sicilian Language, Latin, Latin Lan...</td>\n",
       "      <td>[United States of America]</td>\n",
       "      <td>[Crime, Crime Drama, Crime Fiction, New Hollyw...</td>\n",
       "      <td>On the day of his only daughter's wedding, Vit...</td>\n",
       "      <td>en</td>\n",
       "      <td>Spanning the years 1945 to 1955, a chronicle o...</td>\n",
       "      <td>[italy, love at first sight, loss of father, p...</td>\n",
       "      <td>1972-03-15</td>\n",
       "      <td>268500000.0</td>\n",
       "      <td>177.0</td>\n",
       "      <td>tt0068646</td>\n",
       "      <td>UZ</td>\n",
       "      <td>The aging patriarch of an organized crime dyna...</td>\n",
       "    </tr>\n",
       "  </tbody>\n",
       "</table>\n",
       "</div>"
      ],
      "text/plain": [
       "       wikipedia_id freebase_id                  title  \\\n",
       "33395      872441.0   /m/03kfz0            First Blood   \n",
       "35255     6446071.0  /m/025twgt  From Russia with Love   \n",
       "41337     3463364.0   /m/09dv8h    High School Musical   \n",
       "98365     2466773.0   /m/07g1sm          The Godfather   \n",
       "\n",
       "                                               languages  \\\n",
       "33395                        [English, English Language]   \n",
       "35255  [Russian Language, Pусский, Turkish Language, ...   \n",
       "41337      [English, Spanish Language, English Language]   \n",
       "98365  [Italiano, Sicilian Language, Latin, Latin Lan...   \n",
       "\n",
       "                        countries  \\\n",
       "33395  [United States of America]   \n",
       "35255            [United Kingdom]   \n",
       "41337  [United States of America]   \n",
       "98365  [United States of America]   \n",
       "\n",
       "                                                  genres  \\\n",
       "33395  [Adventure, War, Action Thrillers, Psychologic...   \n",
       "35255  [Adventure, Glamorized Spy Film, Spy, Action/A...   \n",
       "41337  [Musical, Family, Drama, TV Movie, Romantic co...   \n",
       "98365  [Crime, Crime Drama, Crime Fiction, New Hollyw...   \n",
       "\n",
       "                                   plot_summary_original original_language  \\\n",
       "33395  John Rambo  is a former member of an elite Uni...                en   \n",
       "35255  SPECTRE's expert planner Kronsteen devises a p...                en   \n",
       "41337  Troy Bolton and Gabriella meet at a New Year's...                en   \n",
       "98365  On the day of his only daughter's wedding, Vit...                en   \n",
       "\n",
       "                                                overview  \\\n",
       "33395  When former Green Beret John Rambo is harassed...   \n",
       "35255  Agent 007 is back in the second installment of...   \n",
       "41337  Troy (Zac Efron), the popular captain of the b...   \n",
       "98365  Spanning the years 1945 to 1955, a chronicle o...   \n",
       "\n",
       "                                                keywords release_date  \\\n",
       "33395  [prison, vietnam veteran, falsely accused, pol...   1982-10-22   \n",
       "35255  [venice, london england, terror, england, assa...   1963-10-11   \n",
       "41337  [becoming an adult, musical, music, high schoo...   2006-01-20   \n",
       "98365  [italy, love at first sight, loss of father, p...   1972-03-15   \n",
       "\n",
       "           revenue  runtime     tconst region  \\\n",
       "33395  125212904.0     93.0  tt0083944     RU   \n",
       "35255   78900000.0    111.0  tt0057076     KZ   \n",
       "41337          NaN     97.0        NaN    NaN   \n",
       "98365  268500000.0    177.0  tt0068646     UZ   \n",
       "\n",
       "                                 plot_summary_additional  \n",
       "33395  A veteran Green Beret is forced by a cruel She...  \n",
       "35255  James Bond willingly falls into an assassinati...  \n",
       "41337                                                NaN  \n",
       "98365  The aging patriarch of an organized crime dyna...  "
      ]
     },
     "execution_count": 50,
     "metadata": {},
     "output_type": "execute_result"
    }
   ],
   "source": [
    "movie_names = [\"High School Musical\", \"From Russia with Love\", \"The Godfather\", \"First Blood\", \"Oshibka rezidenta\"]\n",
    "subset_prompt_engineering_df = df_merged_movies[df_merged_movies[\"title\"].isin(movie_names)]\n",
    "subset_prompt_engineering_df"
   ]
  },
  {
   "cell_type": "markdown",
   "metadata": {},
   "source": [
    "We know craft a prompt to get the information we want from the model and use the API to automate the process."
   ]
  },
  {
   "cell_type": "code",
   "execution_count": 51,
   "metadata": {},
   "outputs": [
    {
     "name": "stdout",
     "output_type": "stream",
     "text": [
      "{\n",
      "  \"id\": \"chatcmpl-ATxmA0cvbtZeKueOOrbGF0DBsqM96\",\n",
      "  \"choices\": [\n",
      "    {\n",
      "      \"finish_reason\": \"stop\",\n",
      "      \"index\": 0,\n",
      "      \"logprobs\": null,\n",
      "      \"message\": {\n",
      "        \"content\": \"Western\\nJohn Rambo, patriotism-bravery-individualism-tragic hero\\nNone\\nPatriotism, bravery, individualism\\nNone\\nalienation, trauma, military valor, justice, Vietnam War\",\n",
      "        \"refusal\": null,\n",
      "        \"role\": \"assistant\",\n",
      "        \"audio\": null,\n",
      "        \"function_call\": null,\n",
      "        \"tool_calls\": null\n",
      "      },\n",
      "      \"content_filter_results\": {\n",
      "        \"hate\": {\n",
      "          \"filtered\": false,\n",
      "          \"severity\": \"safe\"\n",
      "        },\n",
      "        \"self_harm\": {\n",
      "          \"filtered\": false,\n",
      "          \"severity\": \"safe\"\n",
      "        },\n",
      "        \"sexual\": {\n",
      "          \"filtered\": false,\n",
      "          \"severity\": \"safe\"\n",
      "        },\n",
      "        \"violence\": {\n",
      "          \"filtered\": false,\n",
      "          \"severity\": \"safe\"\n",
      "        }\n",
      "      }\n",
      "    }\n",
      "  ],\n",
      "  \"created\": 1731704654,\n",
      "  \"model\": \"gpt-4o-2024-05-13\",\n",
      "  \"object\": \"chat.completion\",\n",
      "  \"service_tier\": null,\n",
      "  \"system_fingerprint\": \"fp_04751d0b65\",\n",
      "  \"usage\": {\n",
      "    \"completion_tokens\": 42,\n",
      "    \"prompt_tokens\": 1369,\n",
      "    \"total_tokens\": 1411,\n",
      "    \"completion_tokens_details\": null,\n",
      "    \"prompt_tokens_details\": null\n",
      "  },\n",
      "  \"prompt_filter_results\": [\n",
      "    {\n",
      "      \"prompt_index\": 0,\n",
      "      \"content_filter_results\": {\n",
      "        \"hate\": {\n",
      "          \"filtered\": false,\n",
      "          \"severity\": \"safe\"\n",
      "        },\n",
      "        \"jailbreak\": {\n",
      "          \"filtered\": false,\n",
      "          \"detected\": false\n",
      "        },\n",
      "        \"self_harm\": {\n",
      "          \"filtered\": false,\n",
      "          \"severity\": \"safe\"\n",
      "        },\n",
      "        \"sexual\": {\n",
      "          \"filtered\": false,\n",
      "          \"severity\": \"safe\"\n",
      "        },\n",
      "        \"violence\": {\n",
      "          \"filtered\": false,\n",
      "          \"severity\": \"safe\"\n",
      "        }\n",
      "      }\n",
      "    }\n",
      "  ]\n",
      "}\n",
      "{\n",
      "  \"id\": \"chatcmpl-ATxmBfFDp5dg2ztspDpJMI6ExOTDO\",\n",
      "  \"choices\": [\n",
      "    {\n",
      "      \"finish_reason\": \"stop\",\n",
      "      \"index\": 0,\n",
      "      \"logprobs\": null,\n",
      "      \"message\": {\n",
      "        \"content\": \"Western  \\nJames Bond,MI6,Agent,Hero  \\nSPECTRE,n/a,Supervillain organization  \\nDuty,Bravery,Determination  \\nDeception,Betrayal,Extremism  \\nespionage,adventure,action,Cold War\",\n",
      "        \"refusal\": null,\n",
      "        \"role\": \"assistant\",\n",
      "        \"audio\": null,\n",
      "        \"function_call\": null,\n",
      "        \"tool_calls\": null\n",
      "      },\n",
      "      \"content_filter_results\": {\n",
      "        \"hate\": {\n",
      "          \"filtered\": false,\n",
      "          \"severity\": \"safe\"\n",
      "        },\n",
      "        \"self_harm\": {\n",
      "          \"filtered\": false,\n",
      "          \"severity\": \"safe\"\n",
      "        },\n",
      "        \"sexual\": {\n",
      "          \"filtered\": false,\n",
      "          \"severity\": \"safe\"\n",
      "        },\n",
      "        \"violence\": {\n",
      "          \"filtered\": false,\n",
      "          \"severity\": \"safe\"\n",
      "        }\n",
      "      }\n",
      "    }\n",
      "  ],\n",
      "  \"created\": 1731704655,\n",
      "  \"model\": \"gpt-4o-2024-05-13\",\n",
      "  \"object\": \"chat.completion\",\n",
      "  \"service_tier\": null,\n",
      "  \"system_fingerprint\": \"fp_04751d0b65\",\n",
      "  \"usage\": {\n",
      "    \"completion_tokens\": 53,\n",
      "    \"prompt_tokens\": 1154,\n",
      "    \"total_tokens\": 1207,\n",
      "    \"completion_tokens_details\": null,\n",
      "    \"prompt_tokens_details\": null\n",
      "  },\n",
      "  \"prompt_filter_results\": [\n",
      "    {\n",
      "      \"prompt_index\": 0,\n",
      "      \"content_filter_results\": {\n",
      "        \"hate\": {\n",
      "          \"filtered\": false,\n",
      "          \"severity\": \"safe\"\n",
      "        },\n",
      "        \"jailbreak\": {\n",
      "          \"filtered\": false,\n",
      "          \"detected\": false\n",
      "        },\n",
      "        \"self_harm\": {\n",
      "          \"filtered\": false,\n",
      "          \"severity\": \"safe\"\n",
      "        },\n",
      "        \"sexual\": {\n",
      "          \"filtered\": false,\n",
      "          \"severity\": \"safe\"\n",
      "        },\n",
      "        \"violence\": {\n",
      "          \"filtered\": false,\n",
      "          \"severity\": \"safe\"\n",
      "        }\n",
      "      }\n",
      "    }\n",
      "  ]\n",
      "}\n",
      "{\n",
      "  \"id\": \"chatcmpl-ATxmCSIecQduZP0fyjCrvKhFXxSda\",\n",
      "  \"choices\": [\n",
      "    {\n",
      "      \"finish_reason\": \"stop\",\n",
      "      \"index\": 0,\n",
      "      \"logprobs\": null,\n",
      "      \"message\": {\n",
      "        \"content\": \"None\\nNone\\nNone\\nNone\\nNone\\nIndividuality,teen relationships,high school life,peer pressure\\n\\n\",\n",
      "        \"refusal\": null,\n",
      "        \"role\": \"assistant\",\n",
      "        \"audio\": null,\n",
      "        \"function_call\": null,\n",
      "        \"tool_calls\": null\n",
      "      },\n",
      "      \"content_filter_results\": {\n",
      "        \"hate\": {\n",
      "          \"filtered\": false,\n",
      "          \"severity\": \"safe\"\n",
      "        },\n",
      "        \"self_harm\": {\n",
      "          \"filtered\": false,\n",
      "          \"severity\": \"safe\"\n",
      "        },\n",
      "        \"sexual\": {\n",
      "          \"filtered\": false,\n",
      "          \"severity\": \"safe\"\n",
      "        },\n",
      "        \"violence\": {\n",
      "          \"filtered\": false,\n",
      "          \"severity\": \"safe\"\n",
      "        }\n",
      "      }\n",
      "    }\n",
      "  ],\n",
      "  \"created\": 1731704656,\n",
      "  \"model\": \"gpt-4o-2024-05-13\",\n",
      "  \"object\": \"chat.completion\",\n",
      "  \"service_tier\": null,\n",
      "  \"system_fingerprint\": \"fp_04751d0b65\",\n",
      "  \"usage\": {\n",
      "    \"completion_tokens\": 23,\n",
      "    \"prompt_tokens\": 1007,\n",
      "    \"total_tokens\": 1030,\n",
      "    \"completion_tokens_details\": null,\n",
      "    \"prompt_tokens_details\": null\n",
      "  },\n",
      "  \"prompt_filter_results\": [\n",
      "    {\n",
      "      \"prompt_index\": 0,\n",
      "      \"content_filter_results\": {\n",
      "        \"hate\": {\n",
      "          \"filtered\": false,\n",
      "          \"severity\": \"safe\"\n",
      "        },\n",
      "        \"jailbreak\": {\n",
      "          \"filtered\": false,\n",
      "          \"detected\": false\n",
      "        },\n",
      "        \"self_harm\": {\n",
      "          \"filtered\": false,\n",
      "          \"severity\": \"safe\"\n",
      "        },\n",
      "        \"sexual\": {\n",
      "          \"filtered\": false,\n",
      "          \"severity\": \"safe\"\n",
      "        },\n",
      "        \"violence\": {\n",
      "          \"filtered\": false,\n",
      "          \"severity\": \"safe\"\n",
      "        }\n",
      "      }\n",
      "    }\n",
      "  ]\n",
      "}\n",
      "{\n",
      "  \"id\": \"chatcmpl-ATxmDwKMkIP8b8NCo2GkCxUlf17NC\",\n",
      "  \"choices\": [\n",
      "    {\n",
      "      \"finish_reason\": \"stop\",\n",
      "      \"index\": 0,\n",
      "      \"logprobs\": null,\n",
      "      \"message\": {\n",
      "        \"content\": \"None\\nNone\\nNone\\nNone\\nNone\\nfamily power loyalty crime organized crime rising to power betrayal\",\n",
      "        \"refusal\": null,\n",
      "        \"role\": \"assistant\",\n",
      "        \"audio\": null,\n",
      "        \"function_call\": null,\n",
      "        \"tool_calls\": null\n",
      "      },\n",
      "      \"content_filter_results\": {\n",
      "        \"hate\": {\n",
      "          \"filtered\": false,\n",
      "          \"severity\": \"safe\"\n",
      "        },\n",
      "        \"self_harm\": {\n",
      "          \"filtered\": false,\n",
      "          \"severity\": \"safe\"\n",
      "        },\n",
      "        \"sexual\": {\n",
      "          \"filtered\": false,\n",
      "          \"severity\": \"safe\"\n",
      "        },\n",
      "        \"violence\": {\n",
      "          \"filtered\": false,\n",
      "          \"severity\": \"safe\"\n",
      "        }\n",
      "      }\n",
      "    }\n",
      "  ],\n",
      "  \"created\": 1731704657,\n",
      "  \"model\": \"gpt-4o-2024-05-13\",\n",
      "  \"object\": \"chat.completion\",\n",
      "  \"service_tier\": null,\n",
      "  \"system_fingerprint\": \"fp_04751d0b65\",\n",
      "  \"usage\": {\n",
      "    \"completion_tokens\": 20,\n",
      "    \"prompt_tokens\": 1198,\n",
      "    \"total_tokens\": 1218,\n",
      "    \"completion_tokens_details\": null,\n",
      "    \"prompt_tokens_details\": null\n",
      "  },\n",
      "  \"prompt_filter_results\": [\n",
      "    {\n",
      "      \"prompt_index\": 0,\n",
      "      \"content_filter_results\": {\n",
      "        \"hate\": {\n",
      "          \"filtered\": false,\n",
      "          \"severity\": \"safe\"\n",
      "        },\n",
      "        \"jailbreak\": {\n",
      "          \"filtered\": false,\n",
      "          \"detected\": false\n",
      "        },\n",
      "        \"self_harm\": {\n",
      "          \"filtered\": false,\n",
      "          \"severity\": \"safe\"\n",
      "        },\n",
      "        \"sexual\": {\n",
      "          \"filtered\": false,\n",
      "          \"severity\": \"safe\"\n",
      "        },\n",
      "        \"violence\": {\n",
      "          \"filtered\": false,\n",
      "          \"severity\": \"safe\"\n",
      "        }\n",
      "      }\n",
      "    }\n",
      "  ]\n",
      "}\n"
     ]
    }
   ],
   "source": [
    "prompt = \"\\\n",
    "You are an expert in movie history and Cold War. You will be given the name of the film, the year and the plot of the movie. You first need to analyse if the movie can be identified to the Eastern or Western bloc during the Cold War. If yes come up with the character or group of character impersonating the Western and Eastern bloc and their values as well as their main archetye.\\n\\\n",
    "Your output needs to be parsable comma separated without context (the output needs to start directly), use only keyword and very important use new line character after each of the following:\\n\\\n",
    "- Cold War side belonging either Easter, Western or None.\\n\\\n",
    "- The character or group of character representing Western bloc with their values and archetype comma separated or None.\\n\\\n",
    "- The character or group of character representing Eastern bloc with their values and archetype comma separated or None.\\n\\\n",
    "- The Western bloc representation main values and characteristics comma separated or None.\\n\\\n",
    "- The Eatern bloc representation main values and characteristics comma separated or None.\\n\\\n",
    "- The theme of the movies and keywords.\\\n",
    "\"\n",
    "\n",
    "responses = []\n",
    "\n",
    "for index, row in subset_prompt_engineering_df.iterrows():\n",
    "\tquery = create_query_movie(prompt, row[\"title\"], row[\"release_date\"].strftime('%Y-%m-%d'), row[\"plot_summary_original\"])\n",
    "\tresponse = client.chat.completions.create(\n",
    "\t\tmodel=model_name,\n",
    "\t\tmessages=[\n",
    "\t\t\t{\"role\": \"user\", \"content\": query},\n",
    "\t\t],\n",
    "\t)\n",
    " \n",
    "\tprint(response.model_dump_json(indent=2))\n",
    "\t\n",
    "\tresponses.append(response)\n"
   ]
  },
  {
   "cell_type": "markdown",
   "metadata": {},
   "source": [
    "We now retrieve the data to parse it into new columns in our dataframe."
   ]
  },
  {
   "cell_type": "code",
   "execution_count": 52,
   "metadata": {},
   "outputs": [
    {
     "data": {
      "text/plain": [
       "['Western\\nJohn Rambo, patriotism-bravery-individualism-tragic hero\\nNone\\nPatriotism, bravery, individualism\\nNone\\nalienation, trauma, military valor, justice, Vietnam War',\n",
       " 'Western  \\nJames Bond,MI6,Agent,Hero  \\nSPECTRE,n/a,Supervillain organization  \\nDuty,Bravery,Determination  \\nDeception,Betrayal,Extremism  \\nespionage,adventure,action,Cold War',\n",
       " 'None\\nNone\\nNone\\nNone\\nNone\\nIndividuality,teen relationships,high school life,peer pressure\\n\\n',\n",
       " 'None\\nNone\\nNone\\nNone\\nNone\\nfamily power loyalty crime organized crime rising to power betrayal']"
      ]
     },
     "execution_count": 52,
     "metadata": {},
     "output_type": "execute_result"
    }
   ],
   "source": [
    "answer_to_be_parsed = [response.choices[0].message.content for response in responses]\n",
    "answer_to_be_parsed"
   ]
  },
  {
   "cell_type": "code",
   "execution_count": 53,
   "metadata": {},
   "outputs": [
    {
     "data": {
      "text/plain": [
       "[{'cold_war_side': 'Western',\n",
       "  'character_western_bloc_representation': ['John Rambo',\n",
       "   ' patriotism-bravery-individualism-tragic hero'],\n",
       "  'character_eastern_bloc_representation': ['None'],\n",
       "  'western_bloc_values': ['Patriotism', ' bravery', ' individualism'],\n",
       "  'eastern_bloc values': ['None'],\n",
       "  'theme': ['alienation',\n",
       "   ' trauma',\n",
       "   ' military valor',\n",
       "   ' justice',\n",
       "   ' Vietnam War']},\n",
       " {'cold_war_side': 'Western  ',\n",
       "  'character_western_bloc_representation': ['James Bond',\n",
       "   'MI6',\n",
       "   'Agent',\n",
       "   'Hero  '],\n",
       "  'character_eastern_bloc_representation': ['SPECTRE',\n",
       "   'n/a',\n",
       "   'Supervillain organization  '],\n",
       "  'western_bloc_values': ['Duty', 'Bravery', 'Determination  '],\n",
       "  'eastern_bloc values': ['Deception', 'Betrayal', 'Extremism  '],\n",
       "  'theme': ['espionage', 'adventure', 'action', 'Cold War']},\n",
       " {'cold_war_side': 'None',\n",
       "  'character_western_bloc_representation': ['None'],\n",
       "  'character_eastern_bloc_representation': ['None'],\n",
       "  'western_bloc_values': ['None'],\n",
       "  'eastern_bloc values': ['None'],\n",
       "  'theme': ['Individuality',\n",
       "   'teen relationships',\n",
       "   'high school life',\n",
       "   'peer pressure']},\n",
       " {'cold_war_side': 'None',\n",
       "  'character_western_bloc_representation': ['None'],\n",
       "  'character_eastern_bloc_representation': ['None'],\n",
       "  'western_bloc_values': ['None'],\n",
       "  'eastern_bloc values': ['None'],\n",
       "  'theme': ['family power loyalty crime organized crime rising to power betrayal']}]"
      ]
     },
     "execution_count": 53,
     "metadata": {},
     "output_type": "execute_result"
    }
   ],
   "source": [
    "parsed_answers= []\n",
    "\n",
    "for answer in answer_to_be_parsed:\n",
    "\tparsed_answers.append(parse_gpt_answer(answer))\n",
    "\n",
    "parsed_answers"
   ]
  },
  {
   "cell_type": "markdown",
   "metadata": {},
   "source": [
    "We create 6 new columns `cold_war_side`, `character_western_bloc_representation`, `character_eastern_bloc_representation`, `eastern_bloc_values`, `western_bloc_values` and `theme` to store the information we got from the model."
   ]
  },
  {
   "cell_type": "code",
   "execution_count": 55,
   "metadata": {},
   "outputs": [
    {
     "data": {
      "text/html": [
       "<div>\n",
       "<style scoped>\n",
       "    .dataframe tbody tr th:only-of-type {\n",
       "        vertical-align: middle;\n",
       "    }\n",
       "\n",
       "    .dataframe tbody tr th {\n",
       "        vertical-align: top;\n",
       "    }\n",
       "\n",
       "    .dataframe thead th {\n",
       "        text-align: right;\n",
       "    }\n",
       "</style>\n",
       "<table border=\"1\" class=\"dataframe\">\n",
       "  <thead>\n",
       "    <tr style=\"text-align: right;\">\n",
       "      <th></th>\n",
       "      <th>wikipedia_id</th>\n",
       "      <th>freebase_id</th>\n",
       "      <th>title</th>\n",
       "      <th>languages</th>\n",
       "      <th>countries</th>\n",
       "      <th>genres</th>\n",
       "      <th>plot_summary_original</th>\n",
       "      <th>original_language</th>\n",
       "      <th>overview</th>\n",
       "      <th>keywords</th>\n",
       "      <th>...</th>\n",
       "      <th>runtime</th>\n",
       "      <th>tconst</th>\n",
       "      <th>region</th>\n",
       "      <th>plot_summary_additional</th>\n",
       "      <th>cold_war_side</th>\n",
       "      <th>character_western_bloc_representation</th>\n",
       "      <th>character_eastern_bloc_representation</th>\n",
       "      <th>western_bloc_values</th>\n",
       "      <th>eastern_bloc values</th>\n",
       "      <th>theme</th>\n",
       "    </tr>\n",
       "  </thead>\n",
       "  <tbody>\n",
       "    <tr>\n",
       "      <th>33395</th>\n",
       "      <td>872441.0</td>\n",
       "      <td>/m/03kfz0</td>\n",
       "      <td>First Blood</td>\n",
       "      <td>[English, English Language]</td>\n",
       "      <td>[United States of America]</td>\n",
       "      <td>[Adventure, War, Action Thrillers, Psychologic...</td>\n",
       "      <td>John Rambo  is a former member of an elite Uni...</td>\n",
       "      <td>en</td>\n",
       "      <td>When former Green Beret John Rambo is harassed...</td>\n",
       "      <td>[prison, vietnam veteran, falsely accused, pol...</td>\n",
       "      <td>...</td>\n",
       "      <td>93.0</td>\n",
       "      <td>tt0083944</td>\n",
       "      <td>RU</td>\n",
       "      <td>A veteran Green Beret is forced by a cruel She...</td>\n",
       "      <td>Western</td>\n",
       "      <td>[John Rambo,  patriotism-bravery-individualism...</td>\n",
       "      <td>[None]</td>\n",
       "      <td>[Patriotism,  bravery,  individualism]</td>\n",
       "      <td>[None]</td>\n",
       "      <td>[alienation,  trauma,  military valor,  justic...</td>\n",
       "    </tr>\n",
       "    <tr>\n",
       "      <th>35255</th>\n",
       "      <td>6446071.0</td>\n",
       "      <td>/m/025twgt</td>\n",
       "      <td>From Russia with Love</td>\n",
       "      <td>[Russian Language, Pусский, Turkish Language, ...</td>\n",
       "      <td>[United Kingdom]</td>\n",
       "      <td>[Adventure, Glamorized Spy Film, Spy, Action/A...</td>\n",
       "      <td>SPECTRE's expert planner Kronsteen devises a p...</td>\n",
       "      <td>en</td>\n",
       "      <td>Agent 007 is back in the second installment of...</td>\n",
       "      <td>[venice, london england, terror, england, assa...</td>\n",
       "      <td>...</td>\n",
       "      <td>111.0</td>\n",
       "      <td>tt0057076</td>\n",
       "      <td>KZ</td>\n",
       "      <td>James Bond willingly falls into an assassinati...</td>\n",
       "      <td>Western</td>\n",
       "      <td>[James Bond, MI6, Agent, Hero  ]</td>\n",
       "      <td>[SPECTRE, n/a, Supervillain organization  ]</td>\n",
       "      <td>[Duty, Bravery, Determination  ]</td>\n",
       "      <td>[Deception, Betrayal, Extremism  ]</td>\n",
       "      <td>[espionage, adventure, action, Cold War]</td>\n",
       "    </tr>\n",
       "    <tr>\n",
       "      <th>41337</th>\n",
       "      <td>3463364.0</td>\n",
       "      <td>/m/09dv8h</td>\n",
       "      <td>High School Musical</td>\n",
       "      <td>[English, Spanish Language, English Language]</td>\n",
       "      <td>[United States of America]</td>\n",
       "      <td>[Musical, Family, Drama, TV Movie, Romantic co...</td>\n",
       "      <td>Troy Bolton and Gabriella meet at a New Year's...</td>\n",
       "      <td>en</td>\n",
       "      <td>Troy (Zac Efron), the popular captain of the b...</td>\n",
       "      <td>[becoming an adult, musical, music, high schoo...</td>\n",
       "      <td>...</td>\n",
       "      <td>97.0</td>\n",
       "      <td>NaN</td>\n",
       "      <td>NaN</td>\n",
       "      <td>NaN</td>\n",
       "      <td>None</td>\n",
       "      <td>[None]</td>\n",
       "      <td>[None]</td>\n",
       "      <td>[None]</td>\n",
       "      <td>[None]</td>\n",
       "      <td>[Individuality, teen relationships, high schoo...</td>\n",
       "    </tr>\n",
       "    <tr>\n",
       "      <th>98365</th>\n",
       "      <td>2466773.0</td>\n",
       "      <td>/m/07g1sm</td>\n",
       "      <td>The Godfather</td>\n",
       "      <td>[Italiano, Sicilian Language, Latin, Latin Lan...</td>\n",
       "      <td>[United States of America]</td>\n",
       "      <td>[Crime, Crime Drama, Crime Fiction, New Hollyw...</td>\n",
       "      <td>On the day of his only daughter's wedding, Vit...</td>\n",
       "      <td>en</td>\n",
       "      <td>Spanning the years 1945 to 1955, a chronicle o...</td>\n",
       "      <td>[italy, love at first sight, loss of father, p...</td>\n",
       "      <td>...</td>\n",
       "      <td>177.0</td>\n",
       "      <td>tt0068646</td>\n",
       "      <td>UZ</td>\n",
       "      <td>The aging patriarch of an organized crime dyna...</td>\n",
       "      <td>None</td>\n",
       "      <td>[None]</td>\n",
       "      <td>[None]</td>\n",
       "      <td>[None]</td>\n",
       "      <td>[None]</td>\n",
       "      <td>[family power loyalty crime organized crime ri...</td>\n",
       "    </tr>\n",
       "  </tbody>\n",
       "</table>\n",
       "<p>4 rows × 22 columns</p>\n",
       "</div>"
      ],
      "text/plain": [
       "       wikipedia_id freebase_id                  title  \\\n",
       "33395      872441.0   /m/03kfz0            First Blood   \n",
       "35255     6446071.0  /m/025twgt  From Russia with Love   \n",
       "41337     3463364.0   /m/09dv8h    High School Musical   \n",
       "98365     2466773.0   /m/07g1sm          The Godfather   \n",
       "\n",
       "                                               languages  \\\n",
       "33395                        [English, English Language]   \n",
       "35255  [Russian Language, Pусский, Turkish Language, ...   \n",
       "41337      [English, Spanish Language, English Language]   \n",
       "98365  [Italiano, Sicilian Language, Latin, Latin Lan...   \n",
       "\n",
       "                        countries  \\\n",
       "33395  [United States of America]   \n",
       "35255            [United Kingdom]   \n",
       "41337  [United States of America]   \n",
       "98365  [United States of America]   \n",
       "\n",
       "                                                  genres  \\\n",
       "33395  [Adventure, War, Action Thrillers, Psychologic...   \n",
       "35255  [Adventure, Glamorized Spy Film, Spy, Action/A...   \n",
       "41337  [Musical, Family, Drama, TV Movie, Romantic co...   \n",
       "98365  [Crime, Crime Drama, Crime Fiction, New Hollyw...   \n",
       "\n",
       "                                   plot_summary_original original_language  \\\n",
       "33395  John Rambo  is a former member of an elite Uni...                en   \n",
       "35255  SPECTRE's expert planner Kronsteen devises a p...                en   \n",
       "41337  Troy Bolton and Gabriella meet at a New Year's...                en   \n",
       "98365  On the day of his only daughter's wedding, Vit...                en   \n",
       "\n",
       "                                                overview  \\\n",
       "33395  When former Green Beret John Rambo is harassed...   \n",
       "35255  Agent 007 is back in the second installment of...   \n",
       "41337  Troy (Zac Efron), the popular captain of the b...   \n",
       "98365  Spanning the years 1945 to 1955, a chronicle o...   \n",
       "\n",
       "                                                keywords  ... runtime  \\\n",
       "33395  [prison, vietnam veteran, falsely accused, pol...  ...    93.0   \n",
       "35255  [venice, london england, terror, england, assa...  ...   111.0   \n",
       "41337  [becoming an adult, musical, music, high schoo...  ...    97.0   \n",
       "98365  [italy, love at first sight, loss of father, p...  ...   177.0   \n",
       "\n",
       "          tconst  region                            plot_summary_additional  \\\n",
       "33395  tt0083944      RU  A veteran Green Beret is forced by a cruel She...   \n",
       "35255  tt0057076      KZ  James Bond willingly falls into an assassinati...   \n",
       "41337        NaN     NaN                                                NaN   \n",
       "98365  tt0068646      UZ  The aging patriarch of an organized crime dyna...   \n",
       "\n",
       "      cold_war_side              character_western_bloc_representation  \\\n",
       "33395       Western  [John Rambo,  patriotism-bravery-individualism...   \n",
       "35255     Western                     [James Bond, MI6, Agent, Hero  ]   \n",
       "41337          None                                             [None]   \n",
       "98365          None                                             [None]   \n",
       "\n",
       "             character_eastern_bloc_representation  \\\n",
       "33395                                       [None]   \n",
       "35255  [SPECTRE, n/a, Supervillain organization  ]   \n",
       "41337                                       [None]   \n",
       "98365                                       [None]   \n",
       "\n",
       "                          western_bloc_values  \\\n",
       "33395  [Patriotism,  bravery,  individualism]   \n",
       "35255        [Duty, Bravery, Determination  ]   \n",
       "41337                                  [None]   \n",
       "98365                                  [None]   \n",
       "\n",
       "                      eastern_bloc values  \\\n",
       "33395                              [None]   \n",
       "35255  [Deception, Betrayal, Extremism  ]   \n",
       "41337                              [None]   \n",
       "98365                              [None]   \n",
       "\n",
       "                                                   theme  \n",
       "33395  [alienation,  trauma,  military valor,  justic...  \n",
       "35255           [espionage, adventure, action, Cold War]  \n",
       "41337  [Individuality, teen relationships, high schoo...  \n",
       "98365  [family power loyalty crime organized crime ri...  \n",
       "\n",
       "[4 rows x 22 columns]"
      ]
     },
     "execution_count": 55,
     "metadata": {},
     "output_type": "execute_result"
    }
   ],
   "source": [
    "# create new columns for each key in the parsed answers and assign the values\n",
    "subset_prompt_engineering_df = subset_prompt_engineering_df.assign(**{key: [d[key] for d in parsed_answers] for key in parsed_answers[0].keys()})\n",
    "subset_prompt_engineering_df"
   ]
  },
  {
   "cell_type": "markdown",
   "metadata": {},
   "source": [
    "This is a first analysis that shows that the model is able to extract meaningful information from the plot summaries. \n",
    "\n",
    "Films that are not associated with the Cold Ware are well detected which is reassuring.\n",
    "\n",
    "We will use this information to cluster the movies in the next milestone."
>>>>>>> refs/remotes/origin/main
   ]
  }
 ],
 "metadata": {
  "kernelspec": {
<<<<<<< HEAD

   "display_name": "Python 3",

=======
   "display_name": "ada",
>>>>>>> refs/remotes/origin/main
   "language": "python",
   "name": "python3"
  },
  "language_info": {
   "codemirror_mode": {
    "name": "ipython",
    "version": 3
   },
   "file_extension": ".py",
   "mimetype": "text/x-python",
   "name": "python",
   "nbconvert_exporter": "python",
   "pygments_lexer": "ipython3",
<<<<<<< HEAD

   "version": "3.11.3"

=======
   "version": "3.11.10"
>>>>>>> refs/remotes/origin/main
  }
 },
 "nbformat": 4,
 "nbformat_minor": 2
}
