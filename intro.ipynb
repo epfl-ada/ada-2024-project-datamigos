{
 "cells": [
  {
   "cell_type": "code",
   "execution_count": 6,
   "metadata": {},
   "outputs": [],
   "source": [
    "import pandas as pd\n",
    "from src.utils.helpers import convert_csv\n",
    "from collections import Counter\n",
    "from ipyleaflet import Map, GeoJSON, Popup, LegendControl, TileLayer, WidgetControl\n",
    "import requests\n",
    "from src.utils.constants import *\n",
    "import ipywidgets as widgets\n",
    "from ipywidgets import HTML\n",
    "import json\n",
    "from plotly.subplots import make_subplots\n",
    "import plotly.graph_objects as go"
   ]
  },
  {
   "cell_type": "code",
   "execution_count": 7,
   "metadata": {},
   "outputs": [
    {
     "data": {
      "text/html": [
       "<div>\n",
       "<style scoped>\n",
       "    .dataframe tbody tr th:only-of-type {\n",
       "        vertical-align: middle;\n",
       "    }\n",
       "\n",
       "    .dataframe tbody tr th {\n",
       "        vertical-align: top;\n",
       "    }\n",
       "\n",
       "    .dataframe thead th {\n",
       "        text-align: right;\n",
       "    }\n",
       "</style>\n",
       "<table border=\"1\" class=\"dataframe\">\n",
       "  <thead>\n",
       "    <tr style=\"text-align: right;\">\n",
       "      <th></th>\n",
       "      <th>title</th>\n",
       "      <th>languages</th>\n",
       "      <th>countries</th>\n",
       "      <th>genres</th>\n",
       "      <th>release_date</th>\n",
       "      <th>cold_war_side</th>\n",
       "      <th>character_western_bloc_representation</th>\n",
       "      <th>character_eastern_bloc_representation</th>\n",
       "      <th>western_bloc_values</th>\n",
       "      <th>eastern_bloc_values</th>\n",
       "      <th>theme</th>\n",
       "    </tr>\n",
       "  </thead>\n",
       "  <tbody>\n",
       "    <tr>\n",
       "      <th>0</th>\n",
       "      <td>$</td>\n",
       "      <td>NaN</td>\n",
       "      <td>[Russia]</td>\n",
       "      <td>[Comedy, Drama, Crime]</td>\n",
       "      <td>1971</td>\n",
       "      <td>Western</td>\n",
       "      <td>[Joe Collins, American bank security consultan...</td>\n",
       "      <td>[Dawn Divine, hooker with a heart of gold, cun...</td>\n",
       "      <td>[None]</td>\n",
       "      <td>[Resourcefulness, cleverness, individualism, h...</td>\n",
       "      <td>[None]</td>\n",
       "    </tr>\n",
       "    <tr>\n",
       "      <th>1</th>\n",
       "      <td>$1,000 on the Black</td>\n",
       "      <td>[Italian, German]</td>\n",
       "      <td>[Germany, Italy]</td>\n",
       "      <td>[Western]</td>\n",
       "      <td>1966</td>\n",
       "      <td>Eastern</td>\n",
       "      <td>[None]</td>\n",
       "      <td>[Sartana, villainous, oppressive, cruel, arche...</td>\n",
       "      <td>[Johnny Liston, justice, determination, resili...</td>\n",
       "      <td>[Justice, revenge, oppressed vs. oppressor, re...</td>\n",
       "      <td>[Terror, betrayal, familial conflict, crime, r...</td>\n",
       "    </tr>\n",
       "    <tr>\n",
       "      <th>2</th>\n",
       "      <td>$10,000 Blood Money</td>\n",
       "      <td>NaN</td>\n",
       "      <td>[Russia]</td>\n",
       "      <td>[Drama, Western]</td>\n",
       "      <td>1967</td>\n",
       "      <td>None</td>\n",
       "      <td>[None]</td>\n",
       "      <td>[None]</td>\n",
       "      <td>[None]</td>\n",
       "      <td>[None]</td>\n",
       "      <td>[crime, betrayal, revenge, bounty hunter, heis...</td>\n",
       "    </tr>\n",
       "    <tr>\n",
       "      <th>3</th>\n",
       "      <td>$100,000 for Ringo</td>\n",
       "      <td>[Italian]</td>\n",
       "      <td>[Italy]</td>\n",
       "      <td>[Drama, Western]</td>\n",
       "      <td>1965</td>\n",
       "      <td>None</td>\n",
       "      <td>[None]</td>\n",
       "      <td>[None]</td>\n",
       "      <td>[None]</td>\n",
       "      <td>[None]</td>\n",
       "      <td>[Western, Civil War, mistaken identity, treasu...</td>\n",
       "    </tr>\n",
       "    <tr>\n",
       "      <th>4</th>\n",
       "      <td>'Anna' i wampir</td>\n",
       "      <td>NaN</td>\n",
       "      <td>[Russia]</td>\n",
       "      <td>[Crime]</td>\n",
       "      <td>1982</td>\n",
       "      <td>None</td>\n",
       "      <td>[None]</td>\n",
       "      <td>[None]</td>\n",
       "      <td>[None]</td>\n",
       "      <td>[None]</td>\n",
       "      <td>[murder mystery, horror, fog, Poland, 1960s]</td>\n",
       "    </tr>\n",
       "  </tbody>\n",
       "</table>\n",
       "</div>"
      ],
      "text/plain": [
       "                 title          languages         countries  \\\n",
       "0                    $                NaN          [Russia]   \n",
       "1  $1,000 on the Black  [Italian, German]  [Germany, Italy]   \n",
       "2  $10,000 Blood Money                NaN          [Russia]   \n",
       "3   $100,000 for Ringo          [Italian]           [Italy]   \n",
       "4      'Anna' i wampir                NaN          [Russia]   \n",
       "\n",
       "                   genres  release_date cold_war_side  \\\n",
       "0  [Comedy, Drama, Crime]          1971       Western   \n",
       "1               [Western]          1966       Eastern   \n",
       "2        [Drama, Western]          1967          None   \n",
       "3        [Drama, Western]          1965          None   \n",
       "4                 [Crime]          1982          None   \n",
       "\n",
       "               character_western_bloc_representation  \\\n",
       "0  [Joe Collins, American bank security consultan...   \n",
       "1                                             [None]   \n",
       "2                                             [None]   \n",
       "3                                             [None]   \n",
       "4                                             [None]   \n",
       "\n",
       "               character_eastern_bloc_representation  \\\n",
       "0  [Dawn Divine, hooker with a heart of gold, cun...   \n",
       "1  [Sartana, villainous, oppressive, cruel, arche...   \n",
       "2                                             [None]   \n",
       "3                                             [None]   \n",
       "4                                             [None]   \n",
       "\n",
       "                                 western_bloc_values  \\\n",
       "0                                             [None]   \n",
       "1  [Johnny Liston, justice, determination, resili...   \n",
       "2                                             [None]   \n",
       "3                                             [None]   \n",
       "4                                             [None]   \n",
       "\n",
       "                                 eastern_bloc_values  \\\n",
       "0  [Resourcefulness, cleverness, individualism, h...   \n",
       "1  [Justice, revenge, oppressed vs. oppressor, re...   \n",
       "2                                             [None]   \n",
       "3                                             [None]   \n",
       "4                                             [None]   \n",
       "\n",
       "                                               theme  \n",
       "0                                             [None]  \n",
       "1  [Terror, betrayal, familial conflict, crime, r...  \n",
       "2  [crime, betrayal, revenge, bounty hunter, heis...  \n",
       "3  [Western, Civil War, mistaken identity, treasu...  \n",
       "4       [murder mystery, horror, fog, Poland, 1960s]  "
      ]
     },
     "execution_count": 7,
     "metadata": {},
     "output_type": "execute_result"
    }
   ],
   "source": [
    "movies = pd.read_csv(\"data/preprocessed/preprocessed_movies.csv\")\n",
    "convert_csv(movies).head()"
   ]
  },
  {
   "cell_type": "code",
   "execution_count": 8,
   "metadata": {},
   "outputs": [
    {
     "data": {
      "application/vnd.plotly.v1+json": {
       "config": {
        "plotlyServerURL": "https://plot.ly"
       },
       "data": [
        {
         "domain": {
          "x": [
           0,
           0.45
          ],
          "y": [
           0,
           0.95
          ]
         },
         "hovertemplate": "<b>%{label}</b><br>Count: %{value}<br><extra></extra>",
         "labels": [
          "None",
          "Western",
          "Eastern"
         ],
         "marker": {
          "colors": [
           "#F2F2F2",
           "#1C5EA9",
           "#BD0032"
          ]
         },
         "name": "Side",
         "type": "pie",
         "values": [
          19560,
          3142,
          2919
         ]
        },
        {
         "domain": {
          "x": [
           0.55,
           1
          ],
          "y": [
           0,
           0.95
          ]
         },
         "hovertemplate": "<b>%{label}</b><br>Count: %{value}<br><extra></extra>",
         "labels": [
          "Western",
          "Eastern"
         ],
         "marker": {
          "colors": [
           "#1C5EA9",
           "#BD0032"
          ]
         },
         "name": "Side",
         "type": "pie",
         "values": [
          3142,
          2919
         ]
        }
       ],
       "layout": {
        "annotations": [
         {
          "font": {
           "size": 16
          },
          "showarrow": false,
          "text": "Including neutral movies",
          "x": 0.225,
          "xanchor": "center",
          "xref": "paper",
          "y": 1,
          "yanchor": "bottom",
          "yref": "paper"
         },
         {
          "font": {
           "size": 16
          },
          "showarrow": false,
          "text": "Excluding neutral movies",
          "x": 0.775,
          "xanchor": "center",
          "xref": "paper",
          "y": 1,
          "yanchor": "bottom",
          "yref": "paper"
         }
        ],
        "template": {
         "data": {
          "bar": [
           {
            "error_x": {
             "color": "#2a3f5f"
            },
            "error_y": {
             "color": "#2a3f5f"
            },
            "marker": {
             "line": {
              "color": "#E5ECF6",
              "width": 0.5
             },
             "pattern": {
              "fillmode": "overlay",
              "size": 10,
              "solidity": 0.2
             }
            },
            "type": "bar"
           }
          ],
          "barpolar": [
           {
            "marker": {
             "line": {
              "color": "#E5ECF6",
              "width": 0.5
             },
             "pattern": {
              "fillmode": "overlay",
              "size": 10,
              "solidity": 0.2
             }
            },
            "type": "barpolar"
           }
          ],
          "carpet": [
           {
            "aaxis": {
             "endlinecolor": "#2a3f5f",
             "gridcolor": "white",
             "linecolor": "white",
             "minorgridcolor": "white",
             "startlinecolor": "#2a3f5f"
            },
            "baxis": {
             "endlinecolor": "#2a3f5f",
             "gridcolor": "white",
             "linecolor": "white",
             "minorgridcolor": "white",
             "startlinecolor": "#2a3f5f"
            },
            "type": "carpet"
           }
          ],
          "choropleth": [
           {
            "colorbar": {
             "outlinewidth": 0,
             "ticks": ""
            },
            "type": "choropleth"
           }
          ],
          "contour": [
           {
            "colorbar": {
             "outlinewidth": 0,
             "ticks": ""
            },
            "colorscale": [
             [
              0,
              "#0d0887"
             ],
             [
              0.1111111111111111,
              "#46039f"
             ],
             [
              0.2222222222222222,
              "#7201a8"
             ],
             [
              0.3333333333333333,
              "#9c179e"
             ],
             [
              0.4444444444444444,
              "#bd3786"
             ],
             [
              0.5555555555555556,
              "#d8576b"
             ],
             [
              0.6666666666666666,
              "#ed7953"
             ],
             [
              0.7777777777777778,
              "#fb9f3a"
             ],
             [
              0.8888888888888888,
              "#fdca26"
             ],
             [
              1,
              "#f0f921"
             ]
            ],
            "type": "contour"
           }
          ],
          "contourcarpet": [
           {
            "colorbar": {
             "outlinewidth": 0,
             "ticks": ""
            },
            "type": "contourcarpet"
           }
          ],
          "heatmap": [
           {
            "colorbar": {
             "outlinewidth": 0,
             "ticks": ""
            },
            "colorscale": [
             [
              0,
              "#0d0887"
             ],
             [
              0.1111111111111111,
              "#46039f"
             ],
             [
              0.2222222222222222,
              "#7201a8"
             ],
             [
              0.3333333333333333,
              "#9c179e"
             ],
             [
              0.4444444444444444,
              "#bd3786"
             ],
             [
              0.5555555555555556,
              "#d8576b"
             ],
             [
              0.6666666666666666,
              "#ed7953"
             ],
             [
              0.7777777777777778,
              "#fb9f3a"
             ],
             [
              0.8888888888888888,
              "#fdca26"
             ],
             [
              1,
              "#f0f921"
             ]
            ],
            "type": "heatmap"
           }
          ],
          "heatmapgl": [
           {
            "colorbar": {
             "outlinewidth": 0,
             "ticks": ""
            },
            "colorscale": [
             [
              0,
              "#0d0887"
             ],
             [
              0.1111111111111111,
              "#46039f"
             ],
             [
              0.2222222222222222,
              "#7201a8"
             ],
             [
              0.3333333333333333,
              "#9c179e"
             ],
             [
              0.4444444444444444,
              "#bd3786"
             ],
             [
              0.5555555555555556,
              "#d8576b"
             ],
             [
              0.6666666666666666,
              "#ed7953"
             ],
             [
              0.7777777777777778,
              "#fb9f3a"
             ],
             [
              0.8888888888888888,
              "#fdca26"
             ],
             [
              1,
              "#f0f921"
             ]
            ],
            "type": "heatmapgl"
           }
          ],
          "histogram": [
           {
            "marker": {
             "pattern": {
              "fillmode": "overlay",
              "size": 10,
              "solidity": 0.2
             }
            },
            "type": "histogram"
           }
          ],
          "histogram2d": [
           {
            "colorbar": {
             "outlinewidth": 0,
             "ticks": ""
            },
            "colorscale": [
             [
              0,
              "#0d0887"
             ],
             [
              0.1111111111111111,
              "#46039f"
             ],
             [
              0.2222222222222222,
              "#7201a8"
             ],
             [
              0.3333333333333333,
              "#9c179e"
             ],
             [
              0.4444444444444444,
              "#bd3786"
             ],
             [
              0.5555555555555556,
              "#d8576b"
             ],
             [
              0.6666666666666666,
              "#ed7953"
             ],
             [
              0.7777777777777778,
              "#fb9f3a"
             ],
             [
              0.8888888888888888,
              "#fdca26"
             ],
             [
              1,
              "#f0f921"
             ]
            ],
            "type": "histogram2d"
           }
          ],
          "histogram2dcontour": [
           {
            "colorbar": {
             "outlinewidth": 0,
             "ticks": ""
            },
            "colorscale": [
             [
              0,
              "#0d0887"
             ],
             [
              0.1111111111111111,
              "#46039f"
             ],
             [
              0.2222222222222222,
              "#7201a8"
             ],
             [
              0.3333333333333333,
              "#9c179e"
             ],
             [
              0.4444444444444444,
              "#bd3786"
             ],
             [
              0.5555555555555556,
              "#d8576b"
             ],
             [
              0.6666666666666666,
              "#ed7953"
             ],
             [
              0.7777777777777778,
              "#fb9f3a"
             ],
             [
              0.8888888888888888,
              "#fdca26"
             ],
             [
              1,
              "#f0f921"
             ]
            ],
            "type": "histogram2dcontour"
           }
          ],
          "mesh3d": [
           {
            "colorbar": {
             "outlinewidth": 0,
             "ticks": ""
            },
            "type": "mesh3d"
           }
          ],
          "parcoords": [
           {
            "line": {
             "colorbar": {
              "outlinewidth": 0,
              "ticks": ""
             }
            },
            "type": "parcoords"
           }
          ],
          "pie": [
           {
            "automargin": true,
            "type": "pie"
           }
          ],
          "scatter": [
           {
            "fillpattern": {
             "fillmode": "overlay",
             "size": 10,
             "solidity": 0.2
            },
            "type": "scatter"
           }
          ],
          "scatter3d": [
           {
            "line": {
             "colorbar": {
              "outlinewidth": 0,
              "ticks": ""
             }
            },
            "marker": {
             "colorbar": {
              "outlinewidth": 0,
              "ticks": ""
             }
            },
            "type": "scatter3d"
           }
          ],
          "scattercarpet": [
           {
            "marker": {
             "colorbar": {
              "outlinewidth": 0,
              "ticks": ""
             }
            },
            "type": "scattercarpet"
           }
          ],
          "scattergeo": [
           {
            "marker": {
             "colorbar": {
              "outlinewidth": 0,
              "ticks": ""
             }
            },
            "type": "scattergeo"
           }
          ],
          "scattergl": [
           {
            "marker": {
             "colorbar": {
              "outlinewidth": 0,
              "ticks": ""
             }
            },
            "type": "scattergl"
           }
          ],
          "scattermapbox": [
           {
            "marker": {
             "colorbar": {
              "outlinewidth": 0,
              "ticks": ""
             }
            },
            "type": "scattermapbox"
           }
          ],
          "scatterpolar": [
           {
            "marker": {
             "colorbar": {
              "outlinewidth": 0,
              "ticks": ""
             }
            },
            "type": "scatterpolar"
           }
          ],
          "scatterpolargl": [
           {
            "marker": {
             "colorbar": {
              "outlinewidth": 0,
              "ticks": ""
             }
            },
            "type": "scatterpolargl"
           }
          ],
          "scatterternary": [
           {
            "marker": {
             "colorbar": {
              "outlinewidth": 0,
              "ticks": ""
             }
            },
            "type": "scatterternary"
           }
          ],
          "surface": [
           {
            "colorbar": {
             "outlinewidth": 0,
             "ticks": ""
            },
            "colorscale": [
             [
              0,
              "#0d0887"
             ],
             [
              0.1111111111111111,
              "#46039f"
             ],
             [
              0.2222222222222222,
              "#7201a8"
             ],
             [
              0.3333333333333333,
              "#9c179e"
             ],
             [
              0.4444444444444444,
              "#bd3786"
             ],
             [
              0.5555555555555556,
              "#d8576b"
             ],
             [
              0.6666666666666666,
              "#ed7953"
             ],
             [
              0.7777777777777778,
              "#fb9f3a"
             ],
             [
              0.8888888888888888,
              "#fdca26"
             ],
             [
              1,
              "#f0f921"
             ]
            ],
            "type": "surface"
           }
          ],
          "table": [
           {
            "cells": {
             "fill": {
              "color": "#EBF0F8"
             },
             "line": {
              "color": "white"
             }
            },
            "header": {
             "fill": {
              "color": "#C8D4E3"
             },
             "line": {
              "color": "white"
             }
            },
            "type": "table"
           }
          ]
         },
         "layout": {
          "annotationdefaults": {
           "arrowcolor": "#2a3f5f",
           "arrowhead": 0,
           "arrowwidth": 1
          },
          "autotypenumbers": "strict",
          "coloraxis": {
           "colorbar": {
            "outlinewidth": 0,
            "ticks": ""
           }
          },
          "colorscale": {
           "diverging": [
            [
             0,
             "#8e0152"
            ],
            [
             0.1,
             "#c51b7d"
            ],
            [
             0.2,
             "#de77ae"
            ],
            [
             0.3,
             "#f1b6da"
            ],
            [
             0.4,
             "#fde0ef"
            ],
            [
             0.5,
             "#f7f7f7"
            ],
            [
             0.6,
             "#e6f5d0"
            ],
            [
             0.7,
             "#b8e186"
            ],
            [
             0.8,
             "#7fbc41"
            ],
            [
             0.9,
             "#4d9221"
            ],
            [
             1,
             "#276419"
            ]
           ],
           "sequential": [
            [
             0,
             "#0d0887"
            ],
            [
             0.1111111111111111,
             "#46039f"
            ],
            [
             0.2222222222222222,
             "#7201a8"
            ],
            [
             0.3333333333333333,
             "#9c179e"
            ],
            [
             0.4444444444444444,
             "#bd3786"
            ],
            [
             0.5555555555555556,
             "#d8576b"
            ],
            [
             0.6666666666666666,
             "#ed7953"
            ],
            [
             0.7777777777777778,
             "#fb9f3a"
            ],
            [
             0.8888888888888888,
             "#fdca26"
            ],
            [
             1,
             "#f0f921"
            ]
           ],
           "sequentialminus": [
            [
             0,
             "#0d0887"
            ],
            [
             0.1111111111111111,
             "#46039f"
            ],
            [
             0.2222222222222222,
             "#7201a8"
            ],
            [
             0.3333333333333333,
             "#9c179e"
            ],
            [
             0.4444444444444444,
             "#bd3786"
            ],
            [
             0.5555555555555556,
             "#d8576b"
            ],
            [
             0.6666666666666666,
             "#ed7953"
            ],
            [
             0.7777777777777778,
             "#fb9f3a"
            ],
            [
             0.8888888888888888,
             "#fdca26"
            ],
            [
             1,
             "#f0f921"
            ]
           ]
          },
          "colorway": [
           "#636efa",
           "#EF553B",
           "#00cc96",
           "#ab63fa",
           "#FFA15A",
           "#19d3f3",
           "#FF6692",
           "#B6E880",
           "#FF97FF",
           "#FECB52"
          ],
          "font": {
           "color": "#2a3f5f"
          },
          "geo": {
           "bgcolor": "white",
           "lakecolor": "white",
           "landcolor": "#E5ECF6",
           "showlakes": true,
           "showland": true,
           "subunitcolor": "white"
          },
          "hoverlabel": {
           "align": "left"
          },
          "hovermode": "closest",
          "mapbox": {
           "style": "light"
          },
          "paper_bgcolor": "white",
          "plot_bgcolor": "#E5ECF6",
          "polar": {
           "angularaxis": {
            "gridcolor": "white",
            "linecolor": "white",
            "ticks": ""
           },
           "bgcolor": "#E5ECF6",
           "radialaxis": {
            "gridcolor": "white",
            "linecolor": "white",
            "ticks": ""
           }
          },
          "scene": {
           "xaxis": {
            "backgroundcolor": "#E5ECF6",
            "gridcolor": "white",
            "gridwidth": 2,
            "linecolor": "white",
            "showbackground": true,
            "ticks": "",
            "zerolinecolor": "white"
           },
           "yaxis": {
            "backgroundcolor": "#E5ECF6",
            "gridcolor": "white",
            "gridwidth": 2,
            "linecolor": "white",
            "showbackground": true,
            "ticks": "",
            "zerolinecolor": "white"
           },
           "zaxis": {
            "backgroundcolor": "#E5ECF6",
            "gridcolor": "white",
            "gridwidth": 2,
            "linecolor": "white",
            "showbackground": true,
            "ticks": "",
            "zerolinecolor": "white"
           }
          },
          "shapedefaults": {
           "line": {
            "color": "#2a3f5f"
           }
          },
          "ternary": {
           "aaxis": {
            "gridcolor": "white",
            "linecolor": "white",
            "ticks": ""
           },
           "baxis": {
            "gridcolor": "white",
            "linecolor": "white",
            "ticks": ""
           },
           "bgcolor": "#E5ECF6",
           "caxis": {
            "gridcolor": "white",
            "linecolor": "white",
            "ticks": ""
           }
          },
          "title": {
           "x": 0.05
          },
          "xaxis": {
           "automargin": true,
           "gridcolor": "white",
           "linecolor": "white",
           "ticks": "",
           "title": {
            "standoff": 15
           },
           "zerolinecolor": "white",
           "zerolinewidth": 2
          },
          "yaxis": {
           "automargin": true,
           "gridcolor": "white",
           "linecolor": "white",
           "ticks": "",
           "title": {
            "standoff": 15
           },
           "zerolinecolor": "white",
           "zerolinewidth": 2
          }
         }
        },
        "title": {
         "font": {
          "weight": "bold"
         },
         "text": "Movies Distribution based on Cold War Side",
         "x": 0.5
        }
       }
      }
     },
     "metadata": {},
     "output_type": "display_data"
    }
   ],
   "source": [
    "fig = make_subplots(rows=1, cols=2, specs=[[{'type': 'pie'}, {'type': 'pie'}]], subplot_titles=(\"Including neutral movies\", \"Excluding neutral movies\"))\n",
    "\n",
    "# prepare data for the pie chart\n",
    "global_movies_side_count = movies['cold_war_side'].value_counts().reset_index()\n",
    "global_movies_side_count.columns = ['side', 'count']\n",
    "\n",
    "cw_movies_side_count = movies[movies['cold_war_side'] != 'None']\n",
    "cw_movies_side_count = cw_movies_side_count['cold_war_side'].value_counts().reset_index()\n",
    "cw_movies_side_count.columns = ['side', 'count']\n",
    "\n",
    "# Define colors for the pie chart slices\n",
    "colors = {'None': COLOR_SCALE[3], 'Western': COLOR_SCALE[6], 'Eastern': COLOR_SCALE[0]}\n",
    "\n",
    "fig.add_trace(go.Pie(labels=global_movies_side_count['side'],\n",
    "                    values=global_movies_side_count['count'],\n",
    "                    marker=dict(colors=[colors[side] for side in global_movies_side_count['side']]),\n",
    "                    hovertemplate='<b>%{label}</b><br>Count: %{value}<br><extra></extra>',\n",
    "                    name='Side'), row=1, col=1)\n",
    "\n",
    "fig.add_trace(go.Pie(labels=cw_movies_side_count['side'],\n",
    "                    values=cw_movies_side_count['count'],\n",
    "                    marker=dict(colors=[colors[side] for side in cw_movies_side_count['side']]),\n",
    "                    hovertemplate='<b>%{label}</b><br>Count: %{value}<br><extra></extra>',\n",
    "                    name='Side'), row=1, col=2)\n",
    "\n",
    "# Adjust the domain of the pie charts to add space between the charts and the titles\n",
    "fig.update_traces(domain=dict(x=[0, 0.45], y=[0, 0.95]), row=1, col=1)\n",
    "fig.update_traces(domain=dict(x=[0.55, 1], y=[0, 0.95]), row=1, col=2)\n",
    "\n",
    "fig.update_layout(title_text=\"Movies Distribution based on Cold War Side\", title_x=0.5, title_font_weight='bold')\n",
    "fig.show()"
   ]
  },
  {
   "cell_type": "code",
   "execution_count": 9,
   "metadata": {},
   "outputs": [
    {
     "name": "stdout",
     "output_type": "stream",
     "text": [
      "                    Country  Occurrences  Western  Eastern  None\n",
      "0                    Russia        10853      720     2324  7809\n",
      "1                   Germany          645       68       42   535\n",
      "2                     Italy         1374      139       71  1164\n",
      "3  United States of America         8239     1819      140  6280\n",
      "4                   Estonia           72        7       13    52\n"
     ]
    }
   ],
   "source": [
    "# Initialize and assign counters\n",
    "western_counter = Counter()\n",
    "eastern_counter = Counter()\n",
    "none_counter = Counter()\n",
    "\n",
    "for index, row in movies.iterrows():\n",
    "    countries = row['countries']\n",
    "    cold_war_side = row['cold_war_side']\n",
    "    \n",
    "    for country in countries:\n",
    "        if cold_war_side == 'Western':\n",
    "            western_counter[country] += 1\n",
    "        elif cold_war_side == 'Eastern':\n",
    "            eastern_counter[country] += 1\n",
    "        else:\n",
    "            none_counter[country] += 1\n",
    "\n",
    "# Convert to DataFrames\n",
    "western_df = pd.DataFrame.from_dict(western_counter, orient='index', columns=['Western']).reset_index()\n",
    "eastern_df = pd.DataFrame.from_dict(eastern_counter, orient='index', columns=['Eastern']).reset_index()\n",
    "none_df = pd.DataFrame.from_dict(none_counter, orient='index', columns=['None']).reset_index()\n",
    "\n",
    "# Merge DataFrames\n",
    "country_counts_df = pd.DataFrame.from_dict(Counter([country for sublist in movies['countries'] for country in sublist]), orient='index', columns=['Occurrences']).reset_index()\n",
    "country_counts_df = country_counts_df.rename(columns={'index': 'Country'})\n",
    "\n",
    "country_counts_df = country_counts_df.merge(western_df, how='left', left_on='Country', right_on='index').drop(columns=['index'])\n",
    "country_counts_df = country_counts_df.merge(eastern_df, how='left', left_on='Country', right_on='index').drop(columns=['index'])\n",
    "country_counts_df = country_counts_df.merge(none_df, how='left', left_on='Country', right_on='index').drop(columns=['index'])\n",
    "\n",
    "# Fill NaN values with 0\n",
    "country_counts_df = country_counts_df.fillna(0)\n",
    "country_counts_df[['Western', 'Eastern', 'None']] = country_counts_df[['Western', 'Eastern', 'None']].astype(int)\n",
    "\n",
    "# Display result\n",
    "print(country_counts_df.head())"
   ]
  },
  {
   "cell_type": "code",
   "execution_count": 10,
   "metadata": {},
   "outputs": [
    {
     "data": {
      "application/vnd.jupyter.widget-view+json": {
       "model_id": "6faac3dad34a4881a5f669b0640d432f",
       "version_major": 2,
       "version_minor": 0
      },
      "text/plain": [
       "Map(center=[20, 0], controls=(ZoomControl(options=['position', 'zoom_in_text', 'zoom_in_title', 'zoom_out_text…"
      ]
     },
     "metadata": {},
     "output_type": "display_data"
    }
   ],
   "source": [
    "from ipyleaflet import Map, TileLayer, GeoJSON, Popup, WidgetControl\n",
    "from ipywidgets import HTML\n",
    "import requests\n",
    "import pandas as pd\n",
    "\n",
    "# Linear greyscale color with ratio (0 - 2000 range)\n",
    "def get_linear_greyscale_color(total):\n",
    "    if total == 0:\n",
    "        return 'rgb(255,255,255)'  # White for 0 occurrences\n",
    "    elif total > 2000:\n",
    "        return 'rgb(0,0,0)'  # Black for >2000 films\n",
    "    else:\n",
    "        grey_value = 255 - int((total / 2000) * 255)\n",
    "        return f'rgb({grey_value},{grey_value},{grey_value})' # Greyscale\n",
    "\n",
    "# Load GeoJSON data for countries\n",
    "url = \"https://raw.githubusercontent.com/johan/world.geo.json/master/countries.geo.json\"\n",
    "response = requests.get(url)\n",
    "geo_json_data = response.json()\n",
    "\n",
    "# Calculate the maximum number of films for normalization (we use 2000 as the threshold)\n",
    "filtered_features = []\n",
    "for feature in geo_json_data['features']:\n",
    "    country_name = feature['properties']['name']\n",
    "    \n",
    "    if country_name in country_counts_df['Country'].values:\n",
    "        # Get the number of occurrences for the current country\n",
    "        counts = country_counts_df[country_counts_df['Country'] == country_name]\n",
    "        total_count = int(counts['Occurrences'].values[0])\n",
    "        \n",
    "        # Set color with scale\n",
    "        color = get_linear_greyscale_color(total_count)\n",
    "        \n",
    "        # Update feature properties\n",
    "        feature['properties']['Total'] = total_count\n",
    "        feature['properties']['color'] = color\n",
    "        filtered_features.append(feature)\n",
    "\n",
    "# Update GeoJSON data\n",
    "geo_json_data['features'] = filtered_features\n",
    "\n",
    "# Create a map\n",
    "center = (20, 0)\n",
    "m_nb = Map(center=center, zoom=2)\n",
    "\n",
    "# Add OpenStreetMap tiles\n",
    "osm_layer = TileLayer(url=\"https://{s}.tile.openstreetmap.org/{z}/{x}/{y}.png\")\n",
    "m_nb.add_layer(osm_layer)\n",
    "\n",
    "# Create popup content\n",
    "def create_popup_content(properties):\n",
    "    return f\"\"\"\n",
    "    <b>{properties['name']}</b><br>\n",
    "    Number of Films: {properties['Total']}\n",
    "    \"\"\"\n",
    "\n",
    "# Add layer with click event\n",
    "geo_json_layer = GeoJSON(\n",
    "    data=geo_json_data,\n",
    "    style_callback=lambda feature: {\n",
    "        'color': feature['properties']['color'],\n",
    "        'opacity': 1,\n",
    "        'weight': 1.5,\n",
    "        'fillOpacity': 0.7\n",
    "    },\n",
    "    hover_style={'fillOpacity': 0.3}\n",
    ")\n",
    "\n",
    "# Popup handling\n",
    "def on_click(event, feature, **kwargs):\n",
    "    coordinates = get_point(feature['geometry'])\n",
    "    if coordinates:\n",
    "        popup_content = create_popup_content(feature['properties'])\n",
    "        popup = Popup(location=coordinates[::-1], child=HTML(value=popup_content), close_button=False)\n",
    "        m_nb.add_layer(popup)\n",
    "\n",
    "geo_json_layer.on_click(on_click)\n",
    "m_nb.add_layer(geo_json_layer)\n",
    "\n",
    "# Legend of map\n",
    "legend_html = \"\"\"\n",
    "<div style=\"background: white; padding: 5px; border: 1px solid black; border-radius: 3px; font-size: 10px; line-height: 1;\">\n",
    "    <div style=\"font-weight: bold; text-align: center; margin-bottom: 3px;\">Number of Films</div>\n",
    "\"\"\"\n",
    "\n",
    "legend_colors = [\n",
    "    ('rgb(255,255,255)', '0'),\n",
    "    ('rgb(204,204,204)', ''),\n",
    "    ('rgb(153,153,153)', '1000'),\n",
    "    ('rgb(102,102,102)', ''),\n",
    "    ('rgb(51,51,51)', '2000'),\n",
    "    ('rgb(0,0,0)', '> 2000')\n",
    "]\n",
    "\n",
    "for color, label in legend_colors:\n",
    "    legend_html += f\"\"\"\n",
    "    <div style=\"display: flex; align-items: center; margin-bottom: 2px;\">\n",
    "        <div style=\"width: 12px; height: 12px; background: {color}; border: 1px solid black; margin-right: 2px;\"></div>\n",
    "        <span style=\"margin: 0; padding: 0;\">{label}</span>\n",
    "    </div>\n",
    "    \"\"\"\n",
    "\n",
    "legend_html += \"\"\"\n",
    "</div>\n",
    "\"\"\"\n",
    "\n",
    "# Legend widget\n",
    "legend_widget = HTML(value=legend_html)\n",
    "legend_control = WidgetControl(widget=legend_widget, position='bottomright')\n",
    "m_nb.add_control(legend_control)\n",
    "\n",
    "display(m_nb)\n"
   ]
  },
  {
   "cell_type": "code",
   "execution_count": 11,
   "metadata": {},
   "outputs": [],
   "source": [
    "import json\n",
    "\n",
    "# Save the GeoJSON data for the second map to a file\n",
    "with open(WEB_EXPORT_FOLDER + \"map_films_nb.json\", \"w\") as f:\n",
    "    json.dump(geo_json_data, f)"
   ]
  }
 ],
 "metadata": {
  "kernelspec": {
   "display_name": "base",
   "language": "python",
   "name": "python3"
  },
  "language_info": {
   "codemirror_mode": {
    "name": "ipython",
    "version": 3
   },
   "file_extension": ".py",
   "mimetype": "text/x-python",
   "name": "python",
   "nbconvert_exporter": "python",
   "pygments_lexer": "ipython3",
   "version": "3.12.4"
  }
 },
 "nbformat": 4,
 "nbformat_minor": 2
}
