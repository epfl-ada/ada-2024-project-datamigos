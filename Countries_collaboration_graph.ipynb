{
 "cells": [
  {
   "cell_type": "code",
   "execution_count": 29,
   "metadata": {},
   "outputs": [],
   "source": [
    "import pandas as pd\n",
    "import plotly.graph_objects as go\n",
    "import re\n",
    "import networkx as nx\n",
    "import matplotlib.pyplot as plt\n",
    "import numpy as np\n",
    "from collections import Counter\n",
    "from itertools import combinations\n",
    "from src.utils.helpers import clean_column_values\n",
    "import ast\n",
    "\n",
    "import warnings\n",
    "warnings.filterwarnings('ignore')"
   ]
  },
  {
   "cell_type": "code",
   "execution_count": 30,
   "metadata": {},
   "outputs": [
    {
     "name": "stdout",
     "output_type": "stream",
     "text": [
      "title <class 'str'>\n",
      "languages <class 'list'>\n",
      "countries <class 'list'>\n",
      "genres <class 'list'>\n",
      "keywords <class 'float'>\n",
      "release_date <class 'str'>\n",
      "plot_summary <class 'str'>\n",
      "year_release_date <class 'numpy.int64'>\n",
      "cold_war_side <class 'str'>\n",
      "character_western_bloc_representation <class 'list'>\n",
      "character_eastern_bloc_representation <class 'list'>\n",
      "western_bloc_values <class 'list'>\n",
      "eastern_bloc_values <class 'list'>\n",
      "theme <class 'list'>\n"
     ]
    }
   ],
   "source": [
    "DATA_FOLDER = \"data/\"\n",
    "\n",
    "movies = pd.read_csv(DATA_FOLDER + \"v1_movies_cleaned.csv\")\n",
    "\n",
    "for col in movies.columns:\n",
    "    try:\n",
    "        movies[col] = movies[col].apply(lambda x: ast.literal_eval(x) if isinstance(x, str) else x)\n",
    "    except:\n",
    "        pass\n",
    "    \n",
    "    print(col, type(movies[col][0]))"
   ]
  },
  {
   "cell_type": "code",
   "execution_count": 31,
   "metadata": {},
   "outputs": [
    {
     "data": {
      "text/html": [
       "<div>\n",
       "<style scoped>\n",
       "    .dataframe tbody tr th:only-of-type {\n",
       "        vertical-align: middle;\n",
       "    }\n",
       "\n",
       "    .dataframe tbody tr th {\n",
       "        vertical-align: top;\n",
       "    }\n",
       "\n",
       "    .dataframe thead th {\n",
       "        text-align: right;\n",
       "    }\n",
       "</style>\n",
       "<table border=\"1\" class=\"dataframe\">\n",
       "  <thead>\n",
       "    <tr style=\"text-align: right;\">\n",
       "      <th></th>\n",
       "      <th>cold_war_side</th>\n",
       "      <th>countries</th>\n",
       "    </tr>\n",
       "  </thead>\n",
       "  <tbody>\n",
       "    <tr>\n",
       "      <th>0</th>\n",
       "      <td>Western</td>\n",
       "      <td>[United States of America]</td>\n",
       "    </tr>\n",
       "    <tr>\n",
       "      <th>1</th>\n",
       "      <td>Western</td>\n",
       "      <td>[Germany, Italy]</td>\n",
       "    </tr>\n",
       "    <tr>\n",
       "      <th>2</th>\n",
       "      <td>None</td>\n",
       "      <td>[Russia]</td>\n",
       "    </tr>\n",
       "    <tr>\n",
       "      <th>3</th>\n",
       "      <td>None</td>\n",
       "      <td>[Italy]</td>\n",
       "    </tr>\n",
       "    <tr>\n",
       "      <th>4</th>\n",
       "      <td>None</td>\n",
       "      <td>[United States of America, Hungary]</td>\n",
       "    </tr>\n",
       "    <tr>\n",
       "      <th>...</th>\n",
       "      <td>...</td>\n",
       "      <td>...</td>\n",
       "    </tr>\n",
       "    <tr>\n",
       "      <th>32434</th>\n",
       "      <td>Eastern</td>\n",
       "      <td>[Russia, Germany]</td>\n",
       "    </tr>\n",
       "    <tr>\n",
       "      <th>32435</th>\n",
       "      <td>None</td>\n",
       "      <td>[United States of America, France]</td>\n",
       "    </tr>\n",
       "    <tr>\n",
       "      <th>32436</th>\n",
       "      <td>None</td>\n",
       "      <td>[United States of America]</td>\n",
       "    </tr>\n",
       "    <tr>\n",
       "      <th>32437</th>\n",
       "      <td>Eastern</td>\n",
       "      <td>[Czech Republic]</td>\n",
       "    </tr>\n",
       "    <tr>\n",
       "      <th>32438</th>\n",
       "      <td>None</td>\n",
       "      <td>[Norway]</td>\n",
       "    </tr>\n",
       "  </tbody>\n",
       "</table>\n",
       "<p>32439 rows × 2 columns</p>\n",
       "</div>"
      ],
      "text/plain": [
       "      cold_war_side                            countries\n",
       "0           Western           [United States of America]\n",
       "1           Western                     [Germany, Italy]\n",
       "2              None                             [Russia]\n",
       "3              None                              [Italy]\n",
       "4              None  [United States of America, Hungary]\n",
       "...             ...                                  ...\n",
       "32434       Eastern                    [Russia, Germany]\n",
       "32435          None   [United States of America, France]\n",
       "32436          None           [United States of America]\n",
       "32437       Eastern                     [Czech Republic]\n",
       "32438          None                             [Norway]\n",
       "\n",
       "[32439 rows x 2 columns]"
      ]
     },
     "execution_count": 31,
     "metadata": {},
     "output_type": "execute_result"
    }
   ],
   "source": [
    "movies = movies[['cold_war_side', 'countries']]\n",
    "movies"
   ]
  },
  {
   "cell_type": "code",
   "execution_count": 32,
   "metadata": {},
   "outputs": [
    {
     "data": {
      "text/plain": [
       "cold_war_side\n",
       "None       25438\n",
       "Western     3738\n",
       "Eastern     3263\n",
       "Name: count, dtype: int64"
      ]
     },
     "execution_count": 32,
     "metadata": {},
     "output_type": "execute_result"
    }
   ],
   "source": [
    "movies[\"cold_war_side\"].value_counts()"
   ]
  },
  {
   "cell_type": "code",
   "execution_count": 33,
   "metadata": {},
   "outputs": [
    {
     "name": "stdout",
     "output_type": "stream",
     "text": [
      "Counter({'United States of America': 12438, 'Russia': 8319, 'United Kingdom': 2947, 'France': 2158, 'Italy': 2146, 'India': 1895, 'Japan': 1139, 'Germany': 1093, 'Canada': 617, 'Hong Kong': 578, 'Spain': 545, 'Australia': 372, 'Sweden': 279, 'Mexico': 261, 'Ukraine': 200, 'Korea': 195, 'Poland': 173, 'Lithuania': 148, 'Denmark': 140, 'Netherlands': 133, 'Switzerland': 132, 'Argentina': 132, 'China': 131, 'Yugoslavia': 128, 'Belgium': 121, 'New Zealand': 118, 'Finland': 113, 'Czech Republic': 110, 'Hungary': 108, 'Greece': 107, 'Czechoslovakia': 100, 'Taiwan': 95, 'Brazil': 87, 'Austria': 87, 'Philippines': 85, 'Norway': 72, 'Estonia': 64, 'Ireland': 60, 'Israel': 59, 'Egypt': 58, 'Iran': 56, 'Turkey': 55, 'Croatia': 49, 'Portugal': 46, 'South Africa': 46, 'Latvia': 43, 'Serbia': 42, 'Romania': 39, 'Bulgaria': 38, 'Sri Lanka': 29, 'Georgia': 26, 'Cuba': 25, 'Thailand': 22, 'Pakistan': 20, 'Indonesia': 20, 'Malaysia': 19, 'Uzbekistan': 18, 'Bosnia and Herzegovina': 17, 'Singapore': 17, 'Iceland': 16, 'Slovakia': 16, 'Tunisia': 14, 'Algeria': 14, 'Chile': 14, 'Burkina Faso': 13, 'Venezuela': 12, 'Peru': 12, 'Morocco': 12, 'Senegal': 12, 'Armenia': 12, 'Cambodia': 12, 'Luxembourg': 11, 'Belarus': 11, 'Liechtenstein': 9, 'Colombia': 8, 'Puerto Rico': 7, 'Mali': 7, 'Kazakhstan': 7, 'Vietnam': 5, 'Bangladesh': 5, 'Zimbabwe': 5, 'Azerbaijan': 5, 'Cameroon': 5, 'Democratic Republic of the Congo': 5, 'Panama': 4, 'Mauritania': 4, 'Costa Rica': 3, 'Albania': 3, 'Monaco': 3, 'Jamaica': 3, 'Afghanistan': 3, 'Namibia': 3, 'Libya': 3, 'Turkmenistan': 3, 'Nepal': 2, 'Bolivia': 2, 'Macedonia': 2, 'Ghana': 2, 'Slovenia': 2, 'Guinea': 2, 'Montenegro': 2, 'Moldova': 2, 'Ethiopia': 2, 'Nigeria': 2, 'Kyrgyzstan': 2, 'Botswana': 2, 'Uruguay': 1, 'Qatar': 1, \"Cote D'Ivoire\": 1, 'Aruba': 1, 'Jordan': 1, 'Congo': 1, 'Bhutan': 1, 'Kuwait': 1, 'Lebanon': 1, 'Guinea-Bissau': 1, 'Angola': 1, 'Burma': 1, 'Martinique': 1, 'Trinidad and Tobago': 1, 'Bahrain': 1, 'Syria': 1, 'Zambia': 1, 'Bahamas': 1, 'Papua New Guinea': 1, 'Ecuador': 1, 'Palestinian Territory': 1})\n"
     ]
    },
    {
     "data": {
      "text/plain": [
       "{'United States of America': 111.52578177264664,\n",
       " 'Russia': 91.20855223058855,\n",
       " 'United Kingdom': 54.286278192559855,\n",
       " 'France': 46.45427859734774,\n",
       " 'Italy': 46.32493928760188,\n",
       " 'India': 43.53159771935783,\n",
       " 'Japan': 33.74907406137241,\n",
       " 'Germany': 33.06055050963308,\n",
       " 'Canada': 24.839484696748443,\n",
       " 'Hong Kong': 24.041630560342615,\n",
       " 'Spain': 23.345235059857504,\n",
       " 'Australia': 19.28730152198591,\n",
       " 'Sweden': 16.703293088490067,\n",
       " 'Mexico': 16.15549442140351,\n",
       " 'Ukraine': 14.142135623730951,\n",
       " 'Korea': 13.96424004376894,\n",
       " 'Poland': 13.152946437965905,\n",
       " 'Lithuania': 12.165525060596439,\n",
       " 'Denmark': 11.832159566199232,\n",
       " 'Netherlands': 11.532562594670797,\n",
       " 'Switzerland': 11.489125293076057,\n",
       " 'Argentina': 11.489125293076057,\n",
       " 'China': 11.445523142259598,\n",
       " 'Yugoslavia': 11.313708498984761,\n",
       " 'Belgium': 11.0,\n",
       " 'New Zealand': 10.862780491200215,\n",
       " 'Finland': 10.63014581273465,\n",
       " 'Czech Republic': 10.488088481701515,\n",
       " 'Hungary': 10.392304845413264,\n",
       " 'Greece': 10.344080432788601,\n",
       " 'Czechoslovakia': 10.0,\n",
       " 'Taiwan': 9.746794344808963,\n",
       " 'Brazil': 9.327379053088816,\n",
       " 'Austria': 9.327379053088816,\n",
       " 'Philippines': 9.219544457292887,\n",
       " 'Norway': 8.48528137423857,\n",
       " 'Estonia': 8.0,\n",
       " 'Ireland': 7.745966692414834,\n",
       " 'Israel': 7.681145747868608,\n",
       " 'Egypt': 7.615773105863909,\n",
       " 'Iran': 7.483314773547883,\n",
       " 'Turkey': 7.416198487095663,\n",
       " 'Croatia': 7.0,\n",
       " 'Portugal': 6.782329983125268,\n",
       " 'South Africa': 6.782329983125268,\n",
       " 'Latvia': 6.557438524302,\n",
       " 'Serbia': 6.48074069840786,\n",
       " 'Romania': 6.244997998398398,\n",
       " 'Bulgaria': 6.164414002968976,\n",
       " 'Sri Lanka': 5.385164807134504,\n",
       " 'Georgia': 5.0990195135927845,\n",
       " 'Cuba': 5.0,\n",
       " 'Thailand': 4.69041575982343,\n",
       " 'Pakistan': 4.47213595499958,\n",
       " 'Indonesia': 4.47213595499958,\n",
       " 'Malaysia': 4.358898943540674,\n",
       " 'Uzbekistan': 4.242640687119285,\n",
       " 'Bosnia and Herzegovina': 4.123105625617661,\n",
       " 'Singapore': 4.123105625617661,\n",
       " 'Iceland': 4.0,\n",
       " 'Slovakia': 4.0,\n",
       " 'Tunisia': 3.7416573867739413,\n",
       " 'Algeria': 3.7416573867739413,\n",
       " 'Chile': 3.7416573867739413,\n",
       " 'Burkina Faso': 3.605551275463989,\n",
       " 'Venezuela': 3.4641016151377544,\n",
       " 'Peru': 3.4641016151377544,\n",
       " 'Morocco': 3.4641016151377544,\n",
       " 'Senegal': 3.4641016151377544,\n",
       " 'Armenia': 3.4641016151377544,\n",
       " 'Cambodia': 3.4641016151377544,\n",
       " 'Luxembourg': 3.3166247903554,\n",
       " 'Belarus': 3.3166247903554,\n",
       " 'Liechtenstein': 3.0,\n",
       " 'Colombia': 2.8284271247461903,\n",
       " 'Puerto Rico': 2.6457513110645907,\n",
       " 'Mali': 2.6457513110645907,\n",
       " 'Kazakhstan': 2.6457513110645907,\n",
       " 'Vietnam': 2.23606797749979,\n",
       " 'Bangladesh': 2.23606797749979,\n",
       " 'Zimbabwe': 2.23606797749979,\n",
       " 'Azerbaijan': 2.23606797749979,\n",
       " 'Cameroon': 2.23606797749979,\n",
       " 'Democratic Republic of the Congo': 2.23606797749979,\n",
       " 'Panama': 2.0,\n",
       " 'Mauritania': 2.0,\n",
       " 'Costa Rica': 1.7320508075688772,\n",
       " 'Albania': 1.7320508075688772,\n",
       " 'Monaco': 1.7320508075688772,\n",
       " 'Jamaica': 1.7320508075688772,\n",
       " 'Afghanistan': 1.7320508075688772,\n",
       " 'Namibia': 1.7320508075688772,\n",
       " 'Libya': 1.7320508075688772,\n",
       " 'Turkmenistan': 1.7320508075688772,\n",
       " 'Nepal': 1.4142135623730951,\n",
       " 'Bolivia': 1.4142135623730951,\n",
       " 'Macedonia': 1.4142135623730951,\n",
       " 'Ghana': 1.4142135623730951,\n",
       " 'Slovenia': 1.4142135623730951,\n",
       " 'Guinea': 1.4142135623730951,\n",
       " 'Montenegro': 1.4142135623730951,\n",
       " 'Moldova': 1.4142135623730951,\n",
       " 'Ethiopia': 1.4142135623730951,\n",
       " 'Nigeria': 1.4142135623730951,\n",
       " 'Kyrgyzstan': 1.4142135623730951,\n",
       " 'Botswana': 1.4142135623730951,\n",
       " 'Uruguay': 1.0,\n",
       " 'Qatar': 1.0,\n",
       " \"Cote D'Ivoire\": 1.0,\n",
       " 'Aruba': 1.0,\n",
       " 'Jordan': 1.0,\n",
       " 'Congo': 1.0,\n",
       " 'Bhutan': 1.0,\n",
       " 'Kuwait': 1.0,\n",
       " 'Lebanon': 1.0,\n",
       " 'Guinea-Bissau': 1.0,\n",
       " 'Angola': 1.0,\n",
       " 'Burma': 1.0,\n",
       " 'Martinique': 1.0,\n",
       " 'Trinidad and Tobago': 1.0,\n",
       " 'Bahrain': 1.0,\n",
       " 'Syria': 1.0,\n",
       " 'Zambia': 1.0,\n",
       " 'Bahamas': 1.0,\n",
       " 'Papua New Guinea': 1.0,\n",
       " 'Ecuador': 1.0,\n",
       " 'Palestinian Territory': 1.0}"
      ]
     },
     "execution_count": 33,
     "metadata": {},
     "output_type": "execute_result"
    }
   ],
   "source": [
    "country_film_count = Counter()\n",
    "collaboration_count = Counter()\n",
    "\n",
    "for countries in movies['countries']:\n",
    "    country_film_count.update(countries)\n",
    "    for pair in combinations(countries, 2):\n",
    "        collaboration_count[tuple(sorted(pair))] += 1\n",
    "\n",
    "print(country_film_count)\n",
    "\n",
    "#log_film_count = {country: np.log2(count) for country, count in country_film_count.items()}\n",
    "#log_film_count = dict(sorted(log_film_count.items(), key=lambda x: x[1], reverse=True))\n",
    "#log_film_count\n",
    "\n",
    "root_film_count = {country: np.sqrt(count) for country, count in country_film_count.items()}\n",
    "root_film_count = dict(sorted(root_film_count.items(), key=lambda x: x[1], reverse=True))\n",
    "root_film_count"
   ]
  },
  {
   "cell_type": "code",
   "execution_count": 34,
   "metadata": {},
   "outputs": [],
   "source": [
    "# For all the countries\n",
    "countries = list(country_film_count.keys())"
   ]
  },
  {
   "cell_type": "code",
   "execution_count": 35,
   "metadata": {},
   "outputs": [],
   "source": [
    "# For the top 15 countries\n",
    "countries = [country for country, count in country_film_count.most_common(15)]"
   ]
  },
  {
   "cell_type": "code",
   "execution_count": 36,
   "metadata": {},
   "outputs": [],
   "source": [
    "country_cold_war_side = {}\n",
    "for country in countries:\n",
    "    sides = movies.loc[movies['countries'].apply(lambda x: country in x), 'cold_war_side'].values\n",
    "    west_count = (sides == 'Western').sum()\n",
    "    east_count = (sides == 'Eastern').sum()\n",
    "\n",
    "    if west_count > east_count:\n",
    "        country_cold_war_side[country] = 'Western'\n",
    "    elif west_count < east_count:\n",
    "        country_cold_war_side[country] = 'Eastern'\n",
    "    else:\n",
    "        country_cold_war_side[country] = None\n",
    "        "
   ]
  },
  {
   "cell_type": "code",
   "execution_count": 37,
   "metadata": {},
   "outputs": [],
   "source": [
    "collaboration_count = {k: v for k, v in collaboration_count.items() if k[0] in countries and k[1] in countries}"
   ]
  },
  {
   "cell_type": "code",
   "execution_count": 39,
   "metadata": {},
   "outputs": [
    {
     "data": {
      "image/png": "[encoded data removed]",
      "text/plain": [
       "<Figure size 1000x800 with 1 Axes>"
      ]
     },
     "metadata": {},
     "output_type": "display_data"
    }
   ],
   "source": [
    "# With matplotlib\n",
    "G = nx.Graph()\n",
    "for country in countries:\n",
    "    G.add_node(country, side=country_cold_war_side[country], size=root_film_count[country])\n",
    "\n",
    "for (c1, c2), count in collaboration_count.items():\n",
    "    G.add_edge(c1, c2, weight=count)\n",
    "\n",
    "node_colors = [\n",
    "    'blue' if G.nodes[n]['side'] == 'Western' else\n",
    "    'red' if G.nodes[n]['side'] == 'Eastern' else 'grey'\n",
    "    for n in G.nodes\n",
    "]\n",
    "\n",
    "node_sizes = [G.nodes[n]['size'] * 10 for n in G.nodes] \n",
    "\n",
    "edge_weights = [G[u][v]['weight'] for u, v in G.edges]\n",
    "edge_widths = [weight * 0.01 for weight in edge_weights]\n",
    "\n",
    "plt.figure(figsize=(10, 8))\n",
    "pos = nx.spring_layout(G, seed=42, k=10)\n",
    "nx.draw_networkx_edges(G, pos, alpha=0.5, width=edge_widths)\n",
    "nx.draw_networkx_nodes(\n",
    "    G, pos, node_color=node_colors, edgecolors='black', node_size=node_sizes\n",
    ")\n",
    "nx.draw_networkx_labels(G, pos, font_size=10, font_color=\"black\")\n",
    "\n",
    "plt.title(\"Film Production Collaboration Network\", fontsize=16)\n",
    "plt.axis('off')\n",
    "plt.show()"
   ]
  },
  {
   "cell_type": "code",
   "execution_count": 41,
   "metadata": {},
   "outputs": [
    {
     "data": {
      "application/vnd.plotly.v1+json": {
       "config": {
        "plotlyServerURL": "https://plot.ly"
       },
       "data": [
        {
         "hoverinfo": "none",
         "line": {
          "color": "black",
          "width": 0.5
         },
         "mode": "lines",
         "type": "scatter",
         "x": [
          -0.06999383136678038,
          0.023917536587881844,
          -0.06999383136678038,
          -0.12650250019960466,
          -0.06999383136678038,
          0.09211610761570888,
          -0.06999383136678038,
          -0.4698904218790371,
          -0.06999383136678038,
          0.38003092800851723,
          -0.06999383136678038,
          0.22427463064662476,
          -0.06999383136678038,
          -0.3215578300681321,
          -0.06999383136678038,
          0.14097981010595118,
          -0.06999383136678038,
          0.6716273972632936,
          -0.06999383136678038,
          0.3282529529689516,
          -0.06999383136678038,
          0.4210335805233312,
          -0.06999383136678038,
          -0.5126951919267938,
          -0.06999383136678038,
          -0.796177905613307,
          -0.06999383136678038,
          0.014584737333395034,
          0.6716273972632936,
          0.22427463064662476,
          0.6716273972632936,
          -0.5126951919267938,
          0.6716273972632936,
          0.09211610761570888,
          0.6716273972632936,
          0.014584737333395034,
          0.6716273972632936,
          -0.12650250019960466,
          0.6716273972632936,
          0.38003092800851723,
          0.6716273972632936,
          0.14097981010595118,
          0.6716273972632936,
          0.4210335805233312,
          0.6716273972632936,
          -0.4698904218790371,
          0.6716273972632936,
          0.3282529529689516,
          0.6716273972632936,
          -0.3215578300681321,
          0.6716273972632936,
          0.023917536587881844,
          -0.12650250019960466,
          0.023917536587881844,
          -0.12650250019960466,
          0.09211610761570888,
          -0.12650250019960466,
          0.38003092800851723,
          -0.12650250019960466,
          0.14097981010595118,
          -0.12650250019960466,
          -0.3215578300681321,
          -0.12650250019960466,
          0.4210335805233312,
          -0.12650250019960466,
          0.22427463064662476,
          -0.12650250019960466,
          -0.796177905613307,
          -0.12650250019960466,
          -0.5126951919267938,
          -0.12650250019960466,
          -0.4698904218790371,
          -0.12650250019960466,
          0.3282529529689516,
          -0.12650250019960466,
          0.014584737333395034,
          0.09211610761570888,
          0.22427463064662476,
          0.09211610761570888,
          0.14097981010595118,
          0.09211610761570888,
          0.023917536587881844,
          0.09211610761570888,
          0.38003092800851723,
          0.09211610761570888,
          -0.3215578300681321,
          0.09211610761570888,
          0.3282529529689516,
          0.09211610761570888,
          -0.796177905613307,
          0.09211610761570888,
          -0.4698904218790371,
          0.09211610761570888,
          0.4210335805233312,
          0.09211610761570888,
          -0.5126951919267938,
          0.09211610761570888,
          0.014584737333395034,
          0.22427463064662476,
          0.14097981010595118,
          0.22427463064662476,
          0.023917536587881844,
          0.22427463064662476,
          -0.4698904218790371,
          0.22427463064662476,
          -0.3215578300681321,
          0.22427463064662476,
          -0.5126951919267938,
          0.22427463064662476,
          -0.796177905613307,
          0.22427463064662476,
          0.3282529529689516,
          0.22427463064662476,
          0.4210335805233312,
          0.22427463064662476,
          0.38003092800851723,
          0.22427463064662476,
          0.014584737333395034,
          -0.5126951919267938,
          -0.3215578300681321,
          -0.5126951919267938,
          0.14097981010595118,
          -0.5126951919267938,
          0.3282529529689516,
          -0.5126951919267938,
          0.4210335805233312,
          -0.5126951919267938,
          0.023917536587881844,
          -0.5126951919267938,
          0.38003092800851723,
          -0.5126951919267938,
          -0.796177905613307,
          0.38003092800851723,
          0.14097981010595118,
          0.38003092800851723,
          -0.4698904218790371,
          0.38003092800851723,
          -0.3215578300681321,
          0.38003092800851723,
          0.4210335805233312,
          0.38003092800851723,
          -0.796177905613307,
          0.38003092800851723,
          0.023917536587881844,
          0.38003092800851723,
          0.3282529529689516,
          0.14097981010595118,
          -0.3215578300681321,
          0.14097981010595118,
          0.023917536587881844,
          0.14097981010595118,
          0.3282529529689516,
          0.14097981010595118,
          -0.796177905613307,
          0.14097981010595118,
          -0.4698904218790371,
          0.14097981010595118,
          0.4210335805233312,
          0.14097981010595118,
          0.014584737333395034,
          -0.3215578300681321,
          -0.4698904218790371,
          -0.3215578300681321,
          0.4210335805233312,
          -0.3215578300681321,
          0.3282529529689516,
          -0.3215578300681321,
          0.023917536587881844,
          -0.3215578300681321,
          -0.796177905613307,
          -0.3215578300681321,
          0.014584737333395034,
          0.4210335805233312,
          -0.4698904218790371,
          0.4210335805233312,
          0.023917536587881844,
          0.4210335805233312,
          -0.796177905613307,
          0.023917536587881844,
          -0.796177905613307,
          0.023917536587881844,
          0.3282529529689516,
          0.023917536587881844,
          -0.4698904218790371,
          -0.4698904218790371,
          0.3282529529689516,
          -0.4698904218790371,
          -0.796177905613307,
          0.3282529529689516,
          0.014584737333395034
         ],
         "y": [
          0.03415790228398669,
          -0.26075423264784287,
          0.03415790228398669,
          0.17180251938661964,
          0.03415790228398669,
          0.24631485596478303,
          0.03415790228398669,
          -0.29214601252463973,
          0.03415790228398669,
          -0.22923225510534986,
          0.03415790228398669,
          0.13966821078451705,
          0.03415790228398669,
          0.3527651746903117,
          0.03415790228398669,
          -0.0014333683531843329,
          0.03415790228398669,
          0.014525440317037872,
          0.03415790228398669,
          0.7616320061337513,
          0.03415790228398669,
          -0.6505168629790021,
          0.03415790228398669,
          0.7469831902514055,
          0.03415790228398669,
          -0.033766568202393314,
          0.03415790228398669,
          -1,
          0.014525440317037872,
          0.13966821078451705,
          0.014525440317037872,
          0.7469831902514055,
          0.014525440317037872,
          0.24631485596478303,
          0.014525440317037872,
          -1,
          0.014525440317037872,
          0.17180251938661964,
          0.014525440317037872,
          -0.22923225510534986,
          0.014525440317037872,
          -0.0014333683531843329,
          0.014525440317037872,
          -0.6505168629790021,
          0.014525440317037872,
          -0.29214601252463973,
          0.014525440317037872,
          0.7616320061337513,
          0.014525440317037872,
          0.3527651746903117,
          0.014525440317037872,
          -0.26075423264784287,
          0.17180251938661964,
          -0.26075423264784287,
          0.17180251938661964,
          0.24631485596478303,
          0.17180251938661964,
          -0.22923225510534986,
          0.17180251938661964,
          -0.0014333683531843329,
          0.17180251938661964,
          0.3527651746903117,
          0.17180251938661964,
          -0.6505168629790021,
          0.17180251938661964,
          0.13966821078451705,
          0.17180251938661964,
          -0.033766568202393314,
          0.17180251938661964,
          0.7469831902514055,
          0.17180251938661964,
          -0.29214601252463973,
          0.17180251938661964,
          0.7616320061337513,
          0.17180251938661964,
          -1,
          0.24631485596478303,
          0.13966821078451705,
          0.24631485596478303,
          -0.0014333683531843329,
          0.24631485596478303,
          -0.26075423264784287,
          0.24631485596478303,
          -0.22923225510534986,
          0.24631485596478303,
          0.3527651746903117,
          0.24631485596478303,
          0.7616320061337513,
          0.24631485596478303,
          -0.033766568202393314,
          0.24631485596478303,
          -0.29214601252463973,
          0.24631485596478303,
          -0.6505168629790021,
          0.24631485596478303,
          0.7469831902514055,
          0.24631485596478303,
          -1,
          0.13966821078451705,
          -0.0014333683531843329,
          0.13966821078451705,
          -0.26075423264784287,
          0.13966821078451705,
          -0.29214601252463973,
          0.13966821078451705,
          0.3527651746903117,
          0.13966821078451705,
          0.7469831902514055,
          0.13966821078451705,
          -0.033766568202393314,
          0.13966821078451705,
          0.7616320061337513,
          0.13966821078451705,
          -0.6505168629790021,
          0.13966821078451705,
          -0.22923225510534986,
          0.13966821078451705,
          -1,
          0.7469831902514055,
          0.3527651746903117,
          0.7469831902514055,
          -0.0014333683531843329,
          0.7469831902514055,
          0.7616320061337513,
          0.7469831902514055,
          -0.6505168629790021,
          0.7469831902514055,
          -0.26075423264784287,
          0.7469831902514055,
          -0.22923225510534986,
          0.7469831902514055,
          -0.033766568202393314,
          -0.22923225510534986,
          -0.0014333683531843329,
          -0.22923225510534986,
          -0.29214601252463973,
          -0.22923225510534986,
          0.3527651746903117,
          -0.22923225510534986,
          -0.6505168629790021,
          -0.22923225510534986,
          -0.033766568202393314,
          -0.22923225510534986,
          -0.26075423264784287,
          -0.22923225510534986,
          0.7616320061337513,
          -0.0014333683531843329,
          0.3527651746903117,
          -0.0014333683531843329,
          -0.26075423264784287,
          -0.0014333683531843329,
          0.7616320061337513,
          -0.0014333683531843329,
          -0.033766568202393314,
          -0.0014333683531843329,
          -0.29214601252463973,
          -0.0014333683531843329,
          -0.6505168629790021,
          -0.0014333683531843329,
          -1,
          0.3527651746903117,
          -0.29214601252463973,
          0.3527651746903117,
          -0.6505168629790021,
          0.3527651746903117,
          0.7616320061337513,
          0.3527651746903117,
          -0.26075423264784287,
          0.3527651746903117,
          -0.033766568202393314,
          0.3527651746903117,
          -1,
          -0.6505168629790021,
          -0.29214601252463973,
          -0.6505168629790021,
          -0.26075423264784287,
          -0.6505168629790021,
          -0.033766568202393314,
          -0.26075423264784287,
          -0.033766568202393314,
          -0.26075423264784287,
          0.7616320061337513,
          -0.26075423264784287,
          -0.29214601252463973,
          -0.29214601252463973,
          0.7616320061337513,
          -0.29214601252463973,
          -0.033766568202393314,
          0.7616320061337513,
          -1
         ]
        },
        {
         "hoverinfo": "text",
         "hovertext": [
          "United States of America",
          "Russia",
          "United Kingdom",
          "France",
          "Italy",
          "India",
          "Japan",
          "Germany",
          "Canada",
          "Hong Kong",
          "Spain",
          "Australia",
          "Sweden",
          "Mexico",
          "Ukraine"
         ],
         "marker": {
          "color": [
           "blue",
           "red",
           "blue",
           "blue",
           "blue",
           "red",
           "red",
           "red",
           "blue",
           "red",
           "blue",
           "blue",
           "blue",
           "blue",
           "red"
          ],
          "colorbar": {
           "thickness": 15,
           "title": {
            "side": "right",
            "text": "Cold War Side"
           },
           "xanchor": "left"
          },
          "colorscale": [
           [
            0,
            "rgb(255,255,217)"
           ],
           [
            0.125,
            "rgb(237,248,177)"
           ],
           [
            0.25,
            "rgb(199,233,180)"
           ],
           [
            0.375,
            "rgb(127,205,187)"
           ],
           [
            0.5,
            "rgb(65,182,196)"
           ],
           [
            0.625,
            "rgb(29,145,192)"
           ],
           [
            0.75,
            "rgb(34,94,168)"
           ],
           [
            0.875,
            "rgb(37,52,148)"
           ],
           [
            1,
            "rgb(8,29,88)"
           ]
          ],
          "showscale": true,
          "size": [
           55.76289088632332,
           45.604276115294276,
           27.143139096279928,
           23.22713929867387,
           23.16246964380094,
           21.765798859678917,
           16.874537030686206,
           16.53027525481654,
           12.419742348374221,
           12.020815280171307,
           11.672617529928752,
           9.643650760992955,
           8.351646544245034,
           8.077747210701755,
           7.0710678118654755
          ]
         },
         "mode": "markers",
         "type": "scatter",
         "x": [
          -0.06999383136678038,
          0.6716273972632936,
          -0.12650250019960466,
          0.09211610761570888,
          0.22427463064662476,
          -0.5126951919267938,
          0.38003092800851723,
          0.14097981010595118,
          -0.3215578300681321,
          0.4210335805233312,
          0.023917536587881844,
          -0.4698904218790371,
          0.3282529529689516,
          -0.796177905613307,
          0.014584737333395034
         ],
         "y": [
          0.03415790228398669,
          0.014525440317037872,
          0.17180251938661964,
          0.24631485596478303,
          0.13966821078451705,
          0.7469831902514055,
          -0.22923225510534986,
          -0.0014333683531843329,
          0.3527651746903117,
          -0.6505168629790021,
          -0.26075423264784287,
          -0.29214601252463973,
          0.7616320061337513,
          -0.033766568202393314,
          -1
         ]
        }
       ],
       "layout": {
        "hovermode": "closest",
        "plot_bgcolor": "white",
        "showlegend": false,
        "template": {
         "data": {
          "bar": [
           {
            "error_x": {
             "color": "#2a3f5f"
            },
            "error_y": {
             "color": "#2a3f5f"
            },
            "marker": {
             "line": {
              "color": "#E5ECF6",
              "width": 0.5
             },
             "pattern": {
              "fillmode": "overlay",
              "size": 10,
              "solidity": 0.2
             }
            },
            "type": "bar"
           }
          ],
          "barpolar": [
           {
            "marker": {
             "line": {
              "color": "#E5ECF6",
              "width": 0.5
             },
             "pattern": {
              "fillmode": "overlay",
              "size": 10,
              "solidity": 0.2
             }
            },
            "type": "barpolar"
           }
          ],
          "carpet": [
           {
            "aaxis": {
             "endlinecolor": "#2a3f5f",
             "gridcolor": "white",
             "linecolor": "white",
             "minorgridcolor": "white",
             "startlinecolor": "#2a3f5f"
            },
            "baxis": {
             "endlinecolor": "#2a3f5f",
             "gridcolor": "white",
             "linecolor": "white",
             "minorgridcolor": "white",
             "startlinecolor": "#2a3f5f"
            },
            "type": "carpet"
           }
          ],
          "choropleth": [
           {
            "colorbar": {
             "outlinewidth": 0,
             "ticks": ""
            },
            "type": "choropleth"
           }
          ],
          "contour": [
           {
            "colorbar": {
             "outlinewidth": 0,
             "ticks": ""
            },
            "colorscale": [
             [
              0,
              "#0d0887"
             ],
             [
              0.1111111111111111,
              "#46039f"
             ],
             [
              0.2222222222222222,
              "#7201a8"
             ],
             [
              0.3333333333333333,
              "#9c179e"
             ],
             [
              0.4444444444444444,
              "#bd3786"
             ],
             [
              0.5555555555555556,
              "#d8576b"
             ],
             [
              0.6666666666666666,
              "#ed7953"
             ],
             [
              0.7777777777777778,
              "#fb9f3a"
             ],
             [
              0.8888888888888888,
              "#fdca26"
             ],
             [
              1,
              "#f0f921"
             ]
            ],
            "type": "contour"
           }
          ],
          "contourcarpet": [
           {
            "colorbar": {
             "outlinewidth": 0,
             "ticks": ""
            },
            "type": "contourcarpet"
           }
          ],
          "heatmap": [
           {
            "colorbar": {
             "outlinewidth": 0,
             "ticks": ""
            },
            "colorscale": [
             [
              0,
              "#0d0887"
             ],
             [
              0.1111111111111111,
              "#46039f"
             ],
             [
              0.2222222222222222,
              "#7201a8"
             ],
             [
              0.3333333333333333,
              "#9c179e"
             ],
             [
              0.4444444444444444,
              "#bd3786"
             ],
             [
              0.5555555555555556,
              "#d8576b"
             ],
             [
              0.6666666666666666,
              "#ed7953"
             ],
             [
              0.7777777777777778,
              "#fb9f3a"
             ],
             [
              0.8888888888888888,
              "#fdca26"
             ],
             [
              1,
              "#f0f921"
             ]
            ],
            "type": "heatmap"
           }
          ],
          "heatmapgl": [
           {
            "colorbar": {
             "outlinewidth": 0,
             "ticks": ""
            },
            "colorscale": [
             [
              0,
              "#0d0887"
             ],
             [
              0.1111111111111111,
              "#46039f"
             ],
             [
              0.2222222222222222,
              "#7201a8"
             ],
             [
              0.3333333333333333,
              "#9c179e"
             ],
             [
              0.4444444444444444,
              "#bd3786"
             ],
             [
              0.5555555555555556,
              "#d8576b"
             ],
             [
              0.6666666666666666,
              "#ed7953"
             ],
             [
              0.7777777777777778,
              "#fb9f3a"
             ],
             [
              0.8888888888888888,
              "#fdca26"
             ],
             [
              1,
              "#f0f921"
             ]
            ],
            "type": "heatmapgl"
           }
          ],
          "histogram": [
           {
            "marker": {
             "pattern": {
              "fillmode": "overlay",
              "size": 10,
              "solidity": 0.2
             }
            },
            "type": "histogram"
           }
          ],
          "histogram2d": [
           {
            "colorbar": {
             "outlinewidth": 0,
             "ticks": ""
            },
            "colorscale": [
             [
              0,
              "#0d0887"
             ],
             [
              0.1111111111111111,
              "#46039f"
             ],
             [
              0.2222222222222222,
              "#7201a8"
             ],
             [
              0.3333333333333333,
              "#9c179e"
             ],
             [
              0.4444444444444444,
              "#bd3786"
             ],
             [
              0.5555555555555556,
              "#d8576b"
             ],
             [
              0.6666666666666666,
              "#ed7953"
             ],
             [
              0.7777777777777778,
              "#fb9f3a"
             ],
             [
              0.8888888888888888,
              "#fdca26"
             ],
             [
              1,
              "#f0f921"
             ]
            ],
            "type": "histogram2d"
           }
          ],
          "histogram2dcontour": [
           {
            "colorbar": {
             "outlinewidth": 0,
             "ticks": ""
            },
            "colorscale": [
             [
              0,
              "#0d0887"
             ],
             [
              0.1111111111111111,
              "#46039f"
             ],
             [
              0.2222222222222222,
              "#7201a8"
             ],
             [
              0.3333333333333333,
              "#9c179e"
             ],
             [
              0.4444444444444444,
              "#bd3786"
             ],
             [
              0.5555555555555556,
              "#d8576b"
             ],
             [
              0.6666666666666666,
              "#ed7953"
             ],
             [
              0.7777777777777778,
              "#fb9f3a"
             ],
             [
              0.8888888888888888,
              "#fdca26"
             ],
             [
              1,
              "#f0f921"
             ]
            ],
            "type": "histogram2dcontour"
           }
          ],
          "mesh3d": [
           {
            "colorbar": {
             "outlinewidth": 0,
             "ticks": ""
            },
            "type": "mesh3d"
           }
          ],
          "parcoords": [
           {
            "line": {
             "colorbar": {
              "outlinewidth": 0,
              "ticks": ""
             }
            },
            "type": "parcoords"
           }
          ],
          "pie": [
           {
            "automargin": true,
            "type": "pie"
           }
          ],
          "scatter": [
           {
            "fillpattern": {
             "fillmode": "overlay",
             "size": 10,
             "solidity": 0.2
            },
            "type": "scatter"
           }
          ],
          "scatter3d": [
           {
            "line": {
             "colorbar": {
              "outlinewidth": 0,
              "ticks": ""
             }
            },
            "marker": {
             "colorbar": {
              "outlinewidth": 0,
              "ticks": ""
             }
            },
            "type": "scatter3d"
           }
          ],
          "scattercarpet": [
           {
            "marker": {
             "colorbar": {
              "outlinewidth": 0,
              "ticks": ""
             }
            },
            "type": "scattercarpet"
           }
          ],
          "scattergeo": [
           {
            "marker": {
             "colorbar": {
              "outlinewidth": 0,
              "ticks": ""
             }
            },
            "type": "scattergeo"
           }
          ],
          "scattergl": [
           {
            "marker": {
             "colorbar": {
              "outlinewidth": 0,
              "ticks": ""
             }
            },
            "type": "scattergl"
           }
          ],
          "scattermapbox": [
           {
            "marker": {
             "colorbar": {
              "outlinewidth": 0,
              "ticks": ""
             }
            },
            "type": "scattermapbox"
           }
          ],
          "scatterpolar": [
           {
            "marker": {
             "colorbar": {
              "outlinewidth": 0,
              "ticks": ""
             }
            },
            "type": "scatterpolar"
           }
          ],
          "scatterpolargl": [
           {
            "marker": {
             "colorbar": {
              "outlinewidth": 0,
              "ticks": ""
             }
            },
            "type": "scatterpolargl"
           }
          ],
          "scatterternary": [
           {
            "marker": {
             "colorbar": {
              "outlinewidth": 0,
              "ticks": ""
             }
            },
            "type": "scatterternary"
           }
          ],
          "surface": [
           {
            "colorbar": {
             "outlinewidth": 0,
             "ticks": ""
            },
            "colorscale": [
             [
              0,
              "#0d0887"
             ],
             [
              0.1111111111111111,
              "#46039f"
             ],
             [
              0.2222222222222222,
              "#7201a8"
             ],
             [
              0.3333333333333333,
              "#9c179e"
             ],
             [
              0.4444444444444444,
              "#bd3786"
             ],
             [
              0.5555555555555556,
              "#d8576b"
             ],
             [
              0.6666666666666666,
              "#ed7953"
             ],
             [
              0.7777777777777778,
              "#fb9f3a"
             ],
             [
              0.8888888888888888,
              "#fdca26"
             ],
             [
              1,
              "#f0f921"
             ]
            ],
            "type": "surface"
           }
          ],
          "table": [
           {
            "cells": {
             "fill": {
              "color": "#EBF0F8"
             },
             "line": {
              "color": "white"
             }
            },
            "header": {
             "fill": {
              "color": "#C8D4E3"
             },
             "line": {
              "color": "white"
             }
            },
            "type": "table"
           }
          ]
         },
         "layout": {
          "annotationdefaults": {
           "arrowcolor": "#2a3f5f",
           "arrowhead": 0,
           "arrowwidth": 1
          },
          "autotypenumbers": "strict",
          "coloraxis": {
           "colorbar": {
            "outlinewidth": 0,
            "ticks": ""
           }
          },
          "colorscale": {
           "diverging": [
            [
             0,
             "#8e0152"
            ],
            [
             0.1,
             "#c51b7d"
            ],
            [
             0.2,
             "#de77ae"
            ],
            [
             0.3,
             "#f1b6da"
            ],
            [
             0.4,
             "#fde0ef"
            ],
            [
             0.5,
             "#f7f7f7"
            ],
            [
             0.6,
             "#e6f5d0"
            ],
            [
             0.7,
             "#b8e186"
            ],
            [
             0.8,
             "#7fbc41"
            ],
            [
             0.9,
             "#4d9221"
            ],
            [
             1,
             "#276419"
            ]
           ],
           "sequential": [
            [
             0,
             "#0d0887"
            ],
            [
             0.1111111111111111,
             "#46039f"
            ],
            [
             0.2222222222222222,
             "#7201a8"
            ],
            [
             0.3333333333333333,
             "#9c179e"
            ],
            [
             0.4444444444444444,
             "#bd3786"
            ],
            [
             0.5555555555555556,
             "#d8576b"
            ],
            [
             0.6666666666666666,
             "#ed7953"
            ],
            [
             0.7777777777777778,
             "#fb9f3a"
            ],
            [
             0.8888888888888888,
             "#fdca26"
            ],
            [
             1,
             "#f0f921"
            ]
           ],
           "sequentialminus": [
            [
             0,
             "#0d0887"
            ],
            [
             0.1111111111111111,
             "#46039f"
            ],
            [
             0.2222222222222222,
             "#7201a8"
            ],
            [
             0.3333333333333333,
             "#9c179e"
            ],
            [
             0.4444444444444444,
             "#bd3786"
            ],
            [
             0.5555555555555556,
             "#d8576b"
            ],
            [
             0.6666666666666666,
             "#ed7953"
            ],
            [
             0.7777777777777778,
             "#fb9f3a"
            ],
            [
             0.8888888888888888,
             "#fdca26"
            ],
            [
             1,
             "#f0f921"
            ]
           ]
          },
          "colorway": [
           "#636efa",
           "#EF553B",
           "#00cc96",
           "#ab63fa",
           "#FFA15A",
           "#19d3f3",
           "#FF6692",
           "#B6E880",
           "#FF97FF",
           "#FECB52"
          ],
          "font": {
           "color": "#2a3f5f"
          },
          "geo": {
           "bgcolor": "white",
           "lakecolor": "white",
           "landcolor": "#E5ECF6",
           "showlakes": true,
           "showland": true,
           "subunitcolor": "white"
          },
          "hoverlabel": {
           "align": "left"
          },
          "hovermode": "closest",
          "mapbox": {
           "style": "light"
          },
          "paper_bgcolor": "white",
          "plot_bgcolor": "#E5ECF6",
          "polar": {
           "angularaxis": {
            "gridcolor": "white",
            "linecolor": "white",
            "ticks": ""
           },
           "bgcolor": "#E5ECF6",
           "radialaxis": {
            "gridcolor": "white",
            "linecolor": "white",
            "ticks": ""
           }
          },
          "scene": {
           "xaxis": {
            "backgroundcolor": "#E5ECF6",
            "gridcolor": "white",
            "gridwidth": 2,
            "linecolor": "white",
            "showbackground": true,
            "ticks": "",
            "zerolinecolor": "white"
           },
           "yaxis": {
            "backgroundcolor": "#E5ECF6",
            "gridcolor": "white",
            "gridwidth": 2,
            "linecolor": "white",
            "showbackground": true,
            "ticks": "",
            "zerolinecolor": "white"
           },
           "zaxis": {
            "backgroundcolor": "#E5ECF6",
            "gridcolor": "white",
            "gridwidth": 2,
            "linecolor": "white",
            "showbackground": true,
            "ticks": "",
            "zerolinecolor": "white"
           }
          },
          "shapedefaults": {
           "line": {
            "color": "#2a3f5f"
           }
          },
          "ternary": {
           "aaxis": {
            "gridcolor": "white",
            "linecolor": "white",
            "ticks": ""
           },
           "baxis": {
            "gridcolor": "white",
            "linecolor": "white",
            "ticks": ""
           },
           "bgcolor": "#E5ECF6",
           "caxis": {
            "gridcolor": "white",
            "linecolor": "white",
            "ticks": ""
           }
          },
          "title": {
           "x": 0.05
          },
          "xaxis": {
           "automargin": true,
           "gridcolor": "white",
           "linecolor": "white",
           "ticks": "",
           "title": {
            "standoff": 15
           },
           "zerolinecolor": "white",
           "zerolinewidth": 2
          },
          "yaxis": {
           "automargin": true,
           "gridcolor": "white",
           "linecolor": "white",
           "ticks": "",
           "title": {
            "standoff": 15
           },
           "zerolinecolor": "white",
           "zerolinewidth": 2
          }
         }
        },
        "title": {
         "text": "Film Production Collaboration Network"
        },
        "xaxis": {
         "showgrid": false,
         "zeroline": false
        },
        "yaxis": {
         "showgrid": false,
         "zeroline": false
        }
       }
      }
     },
     "metadata": {},
     "output_type": "display_data"
    }
   ],
   "source": [
    "# With plotly\n",
    "G = nx.Graph()\n",
    "for country in countries:\n",
    "    G.add_node(country, side=country_cold_war_side[country], size=root_film_count[country])\n",
    "\n",
    "for (c1, c2), count in collaboration_count.items():\n",
    "    G.add_edge(c1, c2, weight=count)\n",
    "\n",
    "pos = nx.spring_layout(G, seed=42, k=10, iterations=100)\n",
    "edge_x = []\n",
    "edge_y = []\n",
    "edge_weights = []\n",
    "\n",
    "for edge in G.edges():\n",
    "    x0, y0 = pos[edge[0]]\n",
    "    x1, y1 = pos[edge[1]]\n",
    "    edge_x.append(x0)\n",
    "    edge_x.append(x1)\n",
    "    edge_y.append(y0)\n",
    "    edge_y.append(y1)\n",
    "    edge_weights.append(G[edge[0]][edge[1]]['weight'])\n",
    "\n",
    "edge_trace = go.Scatter(\n",
    "    x=edge_x,\n",
    "    y=edge_y,\n",
    "    line=dict(width=0.5, color='black'),\n",
    "    hoverinfo='none',\n",
    "    mode='lines'\n",
    ")\n",
    "\n",
    "node_x = []\n",
    "node_y = []\n",
    "node_colors = []\n",
    "node_sizes = []\n",
    "\n",
    "for node in G.nodes():\n",
    "    x, y = pos[node]\n",
    "    node_x.append(x)\n",
    "    node_y.append(y)\n",
    "    if G.nodes[node]['side'] == 'Western':\n",
    "        node_colors.append('blue')\n",
    "    elif G.nodes[node]['side'] == 'Eastern':\n",
    "        node_colors.append('red')\n",
    "    else:\n",
    "        node_colors.append('grey')\n",
    "    node_sizes.append(G.nodes[node]['size'] * 0.5)\n",
    "\n",
    "node_trace = go.Scatter(\n",
    "    x=node_x,\n",
    "    y=node_y,\n",
    "    mode='markers',\n",
    "    hoverinfo='text',\n",
    "    hovertext=[node for node in G.nodes()],\n",
    "    marker=dict(\n",
    "        showscale=True,\n",
    "        colorscale='YlGnBu',\n",
    "        size=node_sizes,\n",
    "        color=node_colors,\n",
    "        colorbar=dict(\n",
    "            thickness=15,\n",
    "            title='Cold War Side',\n",
    "            xanchor='left',\n",
    "            titleside='right'\n",
    "        )\n",
    "    )\n",
    ")\n",
    "\n",
    "fig = go.Figure(data=[edge_trace, node_trace],\n",
    "                layout=go.Layout(\n",
    "                    title='Film Production Collaboration Network',\n",
    "                    showlegend=False,\n",
    "                    hovermode='closest',\n",
    "                    xaxis=dict(showgrid=False, zeroline=False),\n",
    "                    yaxis=dict(showgrid=False, zeroline=False),\n",
    "                    plot_bgcolor='white'\n",
    "                ))\n",
    "\n",
    "fig.show()\n"
   ]
  },
  {
   "cell_type": "code",
   "execution_count": 42,
   "metadata": {},
   "outputs": [],
   "source": [
    "country_coords = {\n",
    "    'United States of America': (37.0902, -95.7129),\n",
    "    'Italy': (41.8719, 12.5674),\n",
    "    'Germany': (51.1657, 10.4515),\n",
    "    'Russia': (61.5240, 105.3188),\n",
    "    'Hungary': (47.1625, 19.5033),\n",
    "    'Estonia': (58.5953, 25.0136),\n",
    "    'Ukraine': (48.3794, 31.1656),\n",
    "    'Switzerland': (46.8182, 8.2275),\n",
    "    'Puerto Rico': (18.2208, -66.5901),\n",
    "    'France': (46.6034, 1.8883),\n",
    "    'Egypt': (26.8206, 30.8025),\n",
    "    'Netherlands': (52.1326, 5.2913),\n",
    "    'Japan': (36.2048, 138.2529),\n",
    "    'United Kingdom': (55.3781, -3.4360),\n",
    "    'Hong Kong': (22.3193, 114.1694),\n",
    "    'India': (20.5937, 78.9629),\n",
    "    'Spain': (40.4637, -3.7492),\n",
    "    'Costa Rica': (9.7489, -83.7534),\n",
    "    'Vietnam': (14.0583, 108.2772),\n",
    "    'Taiwan': (23.6978, 120.9605),\n",
    "    'Australia': (-25.2744, 133.7751),\n",
    "    'Canada': (56.1304, -106.3468),\n",
    "    'Latvia': (56.8796, 24.6032),\n",
    "    'Brazil': (-14.2350, -51.9253),\n",
    "    'Turkey': (38.9637, 35.2433),\n",
    "    'Denmark': (56.2639, 9.5018),\n",
    "    'Poland': (51.9194, 19.1451),\n",
    "    'Korea': (35.9078, 127.7669),\n",
    "    'Norway': (60.4720, 8.4689),\n",
    "    'Croatia': (45.1, 15.2),\n",
    "    'Bulgaria': (42.7339, 25.4858),\n",
    "    'Austria': (47.5162, 14.5501),\n",
    "    'Philippines': (12.8797, 121.7740),\n",
    "    'Lithuania': (55.1694, 23.8813),\n",
    "    'Portugal': (39.3999, -8.2245),\n",
    "    'China': (35.8617, 104.1954),\n",
    "    'Romania': (45.9432, 24.9668),\n",
    "    'Georgia': (42.3154, 43.3569),\n",
    "    'Yugoslavia': (44.0165, 21.0059),\n",
    "    'New Zealand': (-40.9006, 174.8860),\n",
    "    'Czechoslovakia': (49.8175, 15.4729),\n",
    "    'Argentina': (-38.4161, -63.6167),\n",
    "    'Greece': (39.0742, 21.8243),\n",
    "    'South Africa': (-30.5595, 22.9375),\n",
    "    'Luxembourg': (49.8153, 6.1296),\n",
    "    'Sweden': (60.1282, 18.6435),\n",
    "    'Ireland': (53.1424, -7.6921),\n",
    "    'Colombia': (4.5709, -74.2973),\n",
    "    'Uruguay': (-32.5228, -55.7658),\n",
    "    'Belgium': (50.5039, 4.4699),\n",
    "    'Czech Republic': (49.8175, 15.4729),\n",
    "    'Bangladesh': (23.6850, 90.3563),\n",
    "    'Tunisia': (33.8869, 9.5375),\n",
    "    'Albania': (41.1533, 20.1683),\n",
    "    'Finland': (61.9241, 25.7482),\n",
    "    'Iceland': (64.9631, -19.0208),\n",
    "    'Liechtenstein': (47.1660, 9.5554),\n",
    "    'Mexico': (23.6345, -102.5528),\n",
    "    'Iran': (32.4279, 53.6880),\n",
    "    'Zimbabwe': (-19.0154, 29.1549),\n",
    "    'Nepal': (28.3949, 84.1240),\n",
    "    'Uzbekistan': (41.3775, 64.5853),\n",
    "    'Venezuela': (6.4238, -66.5897),\n",
    "    'Bosnia and Herzegovina': (43.9159, 17.6791),\n",
    "    'Cuba': (21.5218, -77.7812),\n",
    "    'Peru': (-9.1899, -75.0152),\n",
    "    'Malaysia': (4.2105, 101.9758),\n",
    "    'Pakistan': (30.3753, 69.3451),\n",
    "    'Sri Lanka': (7.8731, 80.7718),\n",
    "    'Algeria': (28.0339, 1.6596),\n",
    "    'Israel': (31.0461, 34.8516),\n",
    "    'Singapore': (1.3521, 103.8198),\n",
    "    'Morocco': (31.7917, -7.0926),\n",
    "    'Azerbaijan': (40.1431, 47.5769),\n",
    "    'Bolivia': (-16.2902, -63.5887),\n",
    "    'Cameroon': (7.3697, 12.3547),\n",
    "    'Serbia': (44.0165, 21.0059),\n",
    "    'Mali': (17.5707, -3.9962),\n",
    "    'Macedonia': (41.6086, 21.7453),\n",
    "    'Monaco': (43.7384, 7.4246),\n",
    "    'Slovakia': (48.6690, 19.6990),\n",
    "    'Senegal': (14.4974, -14.4524),\n",
    "    'Qatar': (25.2760, 51.2148),\n",
    "    'Thailand': (15.8700, 100.9925),\n",
    "    \"Côte d'Ivoire\": (7.5399, -5.5471),\n",
    "    'Belarus': (53.7098, 27.9534),\n",
    "    'Armenia': (40.0691, 45.0382),\n",
    "    'Chile': (-35.6751, -71.5430),\n",
    "    'Cambodia': (12.5657, 104.9910),\n",
    "    'Ghana': (7.9465, -1.0232),\n",
    "    'Jamaica': (18.1096, -77.2975),\n",
    "    'Slovenia': (46.1512, 14.9955),\n",
    "    'Guinea': (9.9456, -9.6966),\n",
    "    'Afghanistan': (33.9391, 67.7100),\n",
    "    'Democratic Republic of the Congo': (-4.0383, 21.7587),\n",
    "    'Indonesia': (-0.7893, 113.9213),\n",
    "    'Montenegro': (42.7087, 19.3744),\n",
    "    'Namibia': (-22.9576, 18.4904),\n",
    "    'Moldova': (47.4116, 28.3699),\n",
    "    'Panama': (8.5379, -80.7821),\n",
    "    'Burkina Faso': (12.2383, -1.5616),\n",
    "    'Aruba': (12.5211, -69.9683),\n",
    "    'Ethiopia': (9.145, 40.4897),\n",
    "    'Jordan': (30.5852, 36.2384),\n",
    "    'Kazakhstan': (48.0196, 66.9237),\n",
    "    'Nigeria': (9.0820, 8.6753),\n",
    "    'Libya': (26.3351, 17.2283),\n",
    "    'Congo': (-0.2280, 15.8277),\n",
    "    'Turkmenistan': (38.9697, 59.5563),\n",
    "    'Bhutan': (27.5142, 90.4336),\n",
    "    'Kuwait': (29.3117, 47.4818),\n",
    "    'Lebanon': (33.8547, 35.8623),\n",
    "    'Guinea-Bissau': (11.8037, -15.1804),\n",
    "    'Mauritania': (21.0079, -10.9408),\n",
    "    'Angola': (-11.2027, 17.8739),\n",
    "    'Burma': (21.9162, 95.9560),\n",
    "    'Martinique': (14.6415, -61.0242),\n",
    "    'Trinidad and Tobago': (10.6918, -61.2225),\n",
    "    'Bahrain': (26.0667, 50.5577),\n",
    "    'Syria': (34.8021, 38.9968),\n",
    "    'Kyrgyzstan': (41.2044, 74.7661),\n",
    "    'Botswana': (-22.3285, 24.6849),\n",
    "    'Zambia': (-13.1339, 27.8493),\n",
    "    'Bahamas': (25.0343, -77.3963),\n",
    "    'Papua New Guinea': (-6.3149, 143.9555),\n",
    "    'Ecuador': (-1.8312, -78.1834),\n",
    "    'Palestinian Territory': (31.9522, 35.2332)\n",
    "}\n"
   ]
  },
  {
   "cell_type": "code",
   "execution_count": 44,
   "metadata": {},
   "outputs": [
    {
     "data": {
      "application/vnd.plotly.v1+json": {
       "config": {
        "plotlyServerURL": "https://plot.ly"
       },
       "data": [
        {
         "hoverinfo": "none",
         "lat": [
          51.1657,
          41.8719,
          null,
          46.6034,
          41.8719,
          null,
          51.1657,
          36.2048,
          null,
          46.6034,
          51.1657,
          null,
          40.4637,
          37.0902,
          null,
          40.4637,
          55.3781,
          null,
          46.6034,
          55.3781,
          null,
          55.3781,
          37.0902,
          null,
          46.6034,
          40.4637,
          null,
          46.6034,
          37.0902,
          null,
          -25.2744,
          37.0902,
          null,
          36.2048,
          37.0902,
          null,
          41.8719,
          37.0902,
          null,
          56.1304,
          37.0902,
          null,
          51.1657,
          37.0902,
          null,
          56.1304,
          51.1657,
          null,
          36.2048,
          55.3781,
          null,
          41.8719,
          40.4637,
          null,
          51.1657,
          55.3781,
          null,
          51.1657,
          40.4637,
          null,
          61.524,
          37.0902,
          null,
          56.1304,
          55.3781,
          null,
          22.3193,
          55.3781,
          null,
          41.8719,
          55.3781,
          null,
          -25.2744,
          41.8719,
          null,
          56.1304,
          41.8719,
          null,
          46.6034,
          36.2048,
          null,
          56.1304,
          20.5937,
          null,
          20.5937,
          41.8719,
          null,
          56.1304,
          46.6034,
          null,
          60.1282,
          37.0902,
          null,
          23.6345,
          55.3781,
          null,
          -25.2744,
          60.1282,
          null,
          22.3193,
          37.0902,
          null,
          20.5937,
          55.3781,
          null,
          41.8719,
          61.524,
          null,
          51.1657,
          60.1282,
          null,
          51.1657,
          23.6345,
          null,
          20.5937,
          37.0902,
          null,
          20.5937,
          61.524,
          null,
          46.6034,
          61.524,
          null,
          -25.2744,
          55.3781,
          null,
          23.6345,
          37.0902,
          null,
          41.8719,
          23.6345,
          null,
          61.524,
          48.3794,
          null,
          46.6034,
          60.1282,
          null,
          51.1657,
          20.5937,
          null,
          23.6345,
          40.4637,
          null,
          46.6034,
          23.6345,
          null,
          -25.2744,
          51.1657,
          null,
          -25.2744,
          46.6034,
          null,
          41.8719,
          60.1282,
          null,
          -25.2744,
          36.2048,
          null,
          -25.2744,
          56.1304,
          null,
          61.524,
          55.3781,
          null,
          46.6034,
          22.3193,
          null,
          20.5937,
          60.1282,
          null,
          56.1304,
          36.2048,
          null,
          36.2048,
          61.524,
          null,
          22.3193,
          36.2048,
          null,
          56.1304,
          22.3193,
          null,
          22.3193,
          20.5937,
          null,
          -25.2744,
          23.6345,
          null,
          51.1657,
          22.3193,
          null,
          36.2048,
          23.6345,
          null,
          51.1657,
          61.524,
          null,
          60.1282,
          55.3781,
          null,
          40.4637,
          60.1282,
          null,
          -25.2744,
          40.4637,
          null,
          22.3193,
          61.524,
          null,
          22.3193,
          41.8719,
          null,
          -25.2744,
          61.524,
          null,
          -25.2744,
          22.3193,
          null,
          41.8719,
          36.2048,
          null,
          20.5937,
          40.4637,
          null,
          56.1304,
          60.1282,
          null,
          46.6034,
          20.5937,
          null,
          36.2048,
          40.4637,
          null,
          61.524,
          60.1282,
          null,
          56.1304,
          40.4637,
          null,
          56.1304,
          23.6345,
          null,
          22.3193,
          40.4637,
          null,
          22.3193,
          23.6345,
          null,
          56.1304,
          61.524,
          null,
          56.1304,
          48.3794,
          null,
          60.1282,
          48.3794,
          null,
          61.524,
          40.4637,
          null,
          36.2048,
          60.1282,
          null,
          20.5937,
          36.2048,
          null,
          20.5937,
          23.6345,
          null,
          48.3794,
          37.0902,
          null,
          48.3794,
          55.3781,
          null,
          46.6034,
          48.3794,
          null,
          51.1657,
          48.3794,
          null,
          41.8719,
          48.3794,
          null
         ],
         "line": {
          "color": "black",
          "width": 1
         },
         "locationmode": "ISO-3",
         "lon": [
          10.4515,
          12.5674,
          null,
          1.8883,
          12.5674,
          null,
          10.4515,
          138.2529,
          null,
          1.8883,
          10.4515,
          null,
          -3.7492,
          -95.7129,
          null,
          -3.7492,
          -3.436,
          null,
          1.8883,
          -3.436,
          null,
          -3.436,
          -95.7129,
          null,
          1.8883,
          -3.7492,
          null,
          1.8883,
          -95.7129,
          null,
          133.7751,
          -95.7129,
          null,
          138.2529,
          -95.7129,
          null,
          12.5674,
          -95.7129,
          null,
          -106.3468,
          -95.7129,
          null,
          10.4515,
          -95.7129,
          null,
          -106.3468,
          10.4515,
          null,
          138.2529,
          -3.436,
          null,
          12.5674,
          -3.7492,
          null,
          10.4515,
          -3.436,
          null,
          10.4515,
          -3.7492,
          null,
          105.3188,
          -95.7129,
          null,
          -106.3468,
          -3.436,
          null,
          114.1694,
          -3.436,
          null,
          12.5674,
          -3.436,
          null,
          133.7751,
          12.5674,
          null,
          -106.3468,
          12.5674,
          null,
          1.8883,
          138.2529,
          null,
          -106.3468,
          78.9629,
          null,
          78.9629,
          12.5674,
          null,
          -106.3468,
          1.8883,
          null,
          18.6435,
          -95.7129,
          null,
          -102.5528,
          -3.436,
          null,
          133.7751,
          18.6435,
          null,
          114.1694,
          -95.7129,
          null,
          78.9629,
          -3.436,
          null,
          12.5674,
          105.3188,
          null,
          10.4515,
          18.6435,
          null,
          10.4515,
          -102.5528,
          null,
          78.9629,
          -95.7129,
          null,
          78.9629,
          105.3188,
          null,
          1.8883,
          105.3188,
          null,
          133.7751,
          -3.436,
          null,
          -102.5528,
          -95.7129,
          null,
          12.5674,
          -102.5528,
          null,
          105.3188,
          31.1656,
          null,
          1.8883,
          18.6435,
          null,
          10.4515,
          78.9629,
          null,
          -102.5528,
          -3.7492,
          null,
          1.8883,
          -102.5528,
          null,
          133.7751,
          10.4515,
          null,
          133.7751,
          1.8883,
          null,
          12.5674,
          18.6435,
          null,
          133.7751,
          138.2529,
          null,
          133.7751,
          -106.3468,
          null,
          105.3188,
          -3.436,
          null,
          1.8883,
          114.1694,
          null,
          78.9629,
          18.6435,
          null,
          -106.3468,
          138.2529,
          null,
          138.2529,
          105.3188,
          null,
          114.1694,
          138.2529,
          null,
          -106.3468,
          114.1694,
          null,
          114.1694,
          78.9629,
          null,
          133.7751,
          -102.5528,
          null,
          10.4515,
          114.1694,
          null,
          138.2529,
          -102.5528,
          null,
          10.4515,
          105.3188,
          null,
          18.6435,
          -3.436,
          null,
          -3.7492,
          18.6435,
          null,
          133.7751,
          -3.7492,
          null,
          114.1694,
          105.3188,
          null,
          114.1694,
          12.5674,
          null,
          133.7751,
          105.3188,
          null,
          133.7751,
          114.1694,
          null,
          12.5674,
          138.2529,
          null,
          78.9629,
          -3.7492,
          null,
          -106.3468,
          18.6435,
          null,
          1.8883,
          78.9629,
          null,
          138.2529,
          -3.7492,
          null,
          105.3188,
          18.6435,
          null,
          -106.3468,
          -3.7492,
          null,
          -106.3468,
          -102.5528,
          null,
          114.1694,
          -3.7492,
          null,
          114.1694,
          -102.5528,
          null,
          -106.3468,
          105.3188,
          null,
          -106.3468,
          31.1656,
          null,
          18.6435,
          31.1656,
          null,
          105.3188,
          -3.7492,
          null,
          138.2529,
          18.6435,
          null,
          78.9629,
          138.2529,
          null,
          78.9629,
          -102.5528,
          null,
          31.1656,
          -95.7129,
          null,
          31.1656,
          -3.436,
          null,
          1.8883,
          31.1656,
          null,
          10.4515,
          31.1656,
          null,
          12.5674,
          31.1656,
          null
         ],
         "mode": "lines",
         "type": "scattergeo"
        },
        {
         "hoverinfo": "text",
         "lat": [
          37.0902,
          61.524,
          55.3781,
          46.6034,
          41.8719,
          20.5937,
          36.2048,
          51.1657,
          56.1304,
          22.3193,
          40.4637,
          -25.2744,
          60.1282,
          23.6345,
          48.3794
         ],
         "locationmode": "ISO-3",
         "lon": [
          -95.7129,
          105.3188,
          -3.436,
          1.8883,
          12.5674,
          78.9629,
          138.2529,
          10.4515,
          -106.3468,
          114.1694,
          -3.7492,
          133.7751,
          18.6435,
          -102.5528,
          31.1656
         ],
         "marker": {
          "color": [
           "blue",
           "red",
           "blue",
           "blue",
           "blue",
           "red",
           "red",
           "red",
           "blue",
           "red",
           "blue",
           "blue",
           "blue",
           "blue",
           "red"
          ],
          "line": {
           "color": "black",
           "width": 0.5
          },
          "size": [
           55.76289088632332,
           45.604276115294276,
           27.143139096279928,
           23.22713929867387,
           23.16246964380094,
           21.765798859678917,
           16.874537030686206,
           16.53027525481654,
           12.419742348374221,
           12.020815280171307,
           11.672617529928752,
           9.643650760992955,
           8.351646544245034,
           8.077747210701755,
           7.0710678118654755
          ]
         },
         "mode": "markers",
         "text": [
          "United States of America",
          "Russia",
          "United Kingdom",
          "France",
          "Italy",
          "India",
          "Japan",
          "Germany",
          "Canada",
          "Hong Kong",
          "Spain",
          "Australia",
          "Sweden",
          "Mexico",
          "Ukraine"
         ],
         "type": "scattergeo"
        }
       ],
       "layout": {
        "geo": {
         "landcolor": "rgb(217, 217, 217)",
         "projection": {
          "type": "natural earth"
         },
         "showcountries": true,
         "showland": true
        },
        "showlegend": false,
        "template": {
         "data": {
          "bar": [
           {
            "error_x": {
             "color": "#2a3f5f"
            },
            "error_y": {
             "color": "#2a3f5f"
            },
            "marker": {
             "line": {
              "color": "#E5ECF6",
              "width": 0.5
             },
             "pattern": {
              "fillmode": "overlay",
              "size": 10,
              "solidity": 0.2
             }
            },
            "type": "bar"
           }
          ],
          "barpolar": [
           {
            "marker": {
             "line": {
              "color": "#E5ECF6",
              "width": 0.5
             },
             "pattern": {
              "fillmode": "overlay",
              "size": 10,
              "solidity": 0.2
             }
            },
            "type": "barpolar"
           }
          ],
          "carpet": [
           {
            "aaxis": {
             "endlinecolor": "#2a3f5f",
             "gridcolor": "white",
             "linecolor": "white",
             "minorgridcolor": "white",
             "startlinecolor": "#2a3f5f"
            },
            "baxis": {
             "endlinecolor": "#2a3f5f",
             "gridcolor": "white",
             "linecolor": "white",
             "minorgridcolor": "white",
             "startlinecolor": "#2a3f5f"
            },
            "type": "carpet"
           }
          ],
          "choropleth": [
           {
            "colorbar": {
             "outlinewidth": 0,
             "ticks": ""
            },
            "type": "choropleth"
           }
          ],
          "contour": [
           {
            "colorbar": {
             "outlinewidth": 0,
             "ticks": ""
            },
            "colorscale": [
             [
              0,
              "#0d0887"
             ],
             [
              0.1111111111111111,
              "#46039f"
             ],
             [
              0.2222222222222222,
              "#7201a8"
             ],
             [
              0.3333333333333333,
              "#9c179e"
             ],
             [
              0.4444444444444444,
              "#bd3786"
             ],
             [
              0.5555555555555556,
              "#d8576b"
             ],
             [
              0.6666666666666666,
              "#ed7953"
             ],
             [
              0.7777777777777778,
              "#fb9f3a"
             ],
             [
              0.8888888888888888,
              "#fdca26"
             ],
             [
              1,
              "#f0f921"
             ]
            ],
            "type": "contour"
           }
          ],
          "contourcarpet": [
           {
            "colorbar": {
             "outlinewidth": 0,
             "ticks": ""
            },
            "type": "contourcarpet"
           }
          ],
          "heatmap": [
           {
            "colorbar": {
             "outlinewidth": 0,
             "ticks": ""
            },
            "colorscale": [
             [
              0,
              "#0d0887"
             ],
             [
              0.1111111111111111,
              "#46039f"
             ],
             [
              0.2222222222222222,
              "#7201a8"
             ],
             [
              0.3333333333333333,
              "#9c179e"
             ],
             [
              0.4444444444444444,
              "#bd3786"
             ],
             [
              0.5555555555555556,
              "#d8576b"
             ],
             [
              0.6666666666666666,
              "#ed7953"
             ],
             [
              0.7777777777777778,
              "#fb9f3a"
             ],
             [
              0.8888888888888888,
              "#fdca26"
             ],
             [
              1,
              "#f0f921"
             ]
            ],
            "type": "heatmap"
           }
          ],
          "heatmapgl": [
           {
            "colorbar": {
             "outlinewidth": 0,
             "ticks": ""
            },
            "colorscale": [
             [
              0,
              "#0d0887"
             ],
             [
              0.1111111111111111,
              "#46039f"
             ],
             [
              0.2222222222222222,
              "#7201a8"
             ],
             [
              0.3333333333333333,
              "#9c179e"
             ],
             [
              0.4444444444444444,
              "#bd3786"
             ],
             [
              0.5555555555555556,
              "#d8576b"
             ],
             [
              0.6666666666666666,
              "#ed7953"
             ],
             [
              0.7777777777777778,
              "#fb9f3a"
             ],
             [
              0.8888888888888888,
              "#fdca26"
             ],
             [
              1,
              "#f0f921"
             ]
            ],
            "type": "heatmapgl"
           }
          ],
          "histogram": [
           {
            "marker": {
             "pattern": {
              "fillmode": "overlay",
              "size": 10,
              "solidity": 0.2
             }
            },
            "type": "histogram"
           }
          ],
          "histogram2d": [
           {
            "colorbar": {
             "outlinewidth": 0,
             "ticks": ""
            },
            "colorscale": [
             [
              0,
              "#0d0887"
             ],
             [
              0.1111111111111111,
              "#46039f"
             ],
             [
              0.2222222222222222,
              "#7201a8"
             ],
             [
              0.3333333333333333,
              "#9c179e"
             ],
             [
              0.4444444444444444,
              "#bd3786"
             ],
             [
              0.5555555555555556,
              "#d8576b"
             ],
             [
              0.6666666666666666,
              "#ed7953"
             ],
             [
              0.7777777777777778,
              "#fb9f3a"
             ],
             [
              0.8888888888888888,
              "#fdca26"
             ],
             [
              1,
              "#f0f921"
             ]
            ],
            "type": "histogram2d"
           }
          ],
          "histogram2dcontour": [
           {
            "colorbar": {
             "outlinewidth": 0,
             "ticks": ""
            },
            "colorscale": [
             [
              0,
              "#0d0887"
             ],
             [
              0.1111111111111111,
              "#46039f"
             ],
             [
              0.2222222222222222,
              "#7201a8"
             ],
             [
              0.3333333333333333,
              "#9c179e"
             ],
             [
              0.4444444444444444,
              "#bd3786"
             ],
             [
              0.5555555555555556,
              "#d8576b"
             ],
             [
              0.6666666666666666,
              "#ed7953"
             ],
             [
              0.7777777777777778,
              "#fb9f3a"
             ],
             [
              0.8888888888888888,
              "#fdca26"
             ],
             [
              1,
              "#f0f921"
             ]
            ],
            "type": "histogram2dcontour"
           }
          ],
          "mesh3d": [
           {
            "colorbar": {
             "outlinewidth": 0,
             "ticks": ""
            },
            "type": "mesh3d"
           }
          ],
          "parcoords": [
           {
            "line": {
             "colorbar": {
              "outlinewidth": 0,
              "ticks": ""
             }
            },
            "type": "parcoords"
           }
          ],
          "pie": [
           {
            "automargin": true,
            "type": "pie"
           }
          ],
          "scatter": [
           {
            "fillpattern": {
             "fillmode": "overlay",
             "size": 10,
             "solidity": 0.2
            },
            "type": "scatter"
           }
          ],
          "scatter3d": [
           {
            "line": {
             "colorbar": {
              "outlinewidth": 0,
              "ticks": ""
             }
            },
            "marker": {
             "colorbar": {
              "outlinewidth": 0,
              "ticks": ""
             }
            },
            "type": "scatter3d"
           }
          ],
          "scattercarpet": [
           {
            "marker": {
             "colorbar": {
              "outlinewidth": 0,
              "ticks": ""
             }
            },
            "type": "scattercarpet"
           }
          ],
          "scattergeo": [
           {
            "marker": {
             "colorbar": {
              "outlinewidth": 0,
              "ticks": ""
             }
            },
            "type": "scattergeo"
           }
          ],
          "scattergl": [
           {
            "marker": {
             "colorbar": {
              "outlinewidth": 0,
              "ticks": ""
             }
            },
            "type": "scattergl"
           }
          ],
          "scattermapbox": [
           {
            "marker": {
             "colorbar": {
              "outlinewidth": 0,
              "ticks": ""
             }
            },
            "type": "scattermapbox"
           }
          ],
          "scatterpolar": [
           {
            "marker": {
             "colorbar": {
              "outlinewidth": 0,
              "ticks": ""
             }
            },
            "type": "scatterpolar"
           }
          ],
          "scatterpolargl": [
           {
            "marker": {
             "colorbar": {
              "outlinewidth": 0,
              "ticks": ""
             }
            },
            "type": "scatterpolargl"
           }
          ],
          "scatterternary": [
           {
            "marker": {
             "colorbar": {
              "outlinewidth": 0,
              "ticks": ""
             }
            },
            "type": "scatterternary"
           }
          ],
          "surface": [
           {
            "colorbar": {
             "outlinewidth": 0,
             "ticks": ""
            },
            "colorscale": [
             [
              0,
              "#0d0887"
             ],
             [
              0.1111111111111111,
              "#46039f"
             ],
             [
              0.2222222222222222,
              "#7201a8"
             ],
             [
              0.3333333333333333,
              "#9c179e"
             ],
             [
              0.4444444444444444,
              "#bd3786"
             ],
             [
              0.5555555555555556,
              "#d8576b"
             ],
             [
              0.6666666666666666,
              "#ed7953"
             ],
             [
              0.7777777777777778,
              "#fb9f3a"
             ],
             [
              0.8888888888888888,
              "#fdca26"
             ],
             [
              1,
              "#f0f921"
             ]
            ],
            "type": "surface"
           }
          ],
          "table": [
           {
            "cells": {
             "fill": {
              "color": "#EBF0F8"
             },
             "line": {
              "color": "white"
             }
            },
            "header": {
             "fill": {
              "color": "#C8D4E3"
             },
             "line": {
              "color": "white"
             }
            },
            "type": "table"
           }
          ]
         },
         "layout": {
          "annotationdefaults": {
           "arrowcolor": "#2a3f5f",
           "arrowhead": 0,
           "arrowwidth": 1
          },
          "autotypenumbers": "strict",
          "coloraxis": {
           "colorbar": {
            "outlinewidth": 0,
            "ticks": ""
           }
          },
          "colorscale": {
           "diverging": [
            [
             0,
             "#8e0152"
            ],
            [
             0.1,
             "#c51b7d"
            ],
            [
             0.2,
             "#de77ae"
            ],
            [
             0.3,
             "#f1b6da"
            ],
            [
             0.4,
             "#fde0ef"
            ],
            [
             0.5,
             "#f7f7f7"
            ],
            [
             0.6,
             "#e6f5d0"
            ],
            [
             0.7,
             "#b8e186"
            ],
            [
             0.8,
             "#7fbc41"
            ],
            [
             0.9,
             "#4d9221"
            ],
            [
             1,
             "#276419"
            ]
           ],
           "sequential": [
            [
             0,
             "#0d0887"
            ],
            [
             0.1111111111111111,
             "#46039f"
            ],
            [
             0.2222222222222222,
             "#7201a8"
            ],
            [
             0.3333333333333333,
             "#9c179e"
            ],
            [
             0.4444444444444444,
             "#bd3786"
            ],
            [
             0.5555555555555556,
             "#d8576b"
            ],
            [
             0.6666666666666666,
             "#ed7953"
            ],
            [
             0.7777777777777778,
             "#fb9f3a"
            ],
            [
             0.8888888888888888,
             "#fdca26"
            ],
            [
             1,
             "#f0f921"
            ]
           ],
           "sequentialminus": [
            [
             0,
             "#0d0887"
            ],
            [
             0.1111111111111111,
             "#46039f"
            ],
            [
             0.2222222222222222,
             "#7201a8"
            ],
            [
             0.3333333333333333,
             "#9c179e"
            ],
            [
             0.4444444444444444,
             "#bd3786"
            ],
            [
             0.5555555555555556,
             "#d8576b"
            ],
            [
             0.6666666666666666,
             "#ed7953"
            ],
            [
             0.7777777777777778,
             "#fb9f3a"
            ],
            [
             0.8888888888888888,
             "#fdca26"
            ],
            [
             1,
             "#f0f921"
            ]
           ]
          },
          "colorway": [
           "#636efa",
           "#EF553B",
           "#00cc96",
           "#ab63fa",
           "#FFA15A",
           "#19d3f3",
           "#FF6692",
           "#B6E880",
           "#FF97FF",
           "#FECB52"
          ],
          "font": {
           "color": "#2a3f5f"
          },
          "geo": {
           "bgcolor": "white",
           "lakecolor": "white",
           "landcolor": "#E5ECF6",
           "showlakes": true,
           "showland": true,
           "subunitcolor": "white"
          },
          "hoverlabel": {
           "align": "left"
          },
          "hovermode": "closest",
          "mapbox": {
           "style": "light"
          },
          "paper_bgcolor": "white",
          "plot_bgcolor": "#E5ECF6",
          "polar": {
           "angularaxis": {
            "gridcolor": "white",
            "linecolor": "white",
            "ticks": ""
           },
           "bgcolor": "#E5ECF6",
           "radialaxis": {
            "gridcolor": "white",
            "linecolor": "white",
            "ticks": ""
           }
          },
          "scene": {
           "xaxis": {
            "backgroundcolor": "#E5ECF6",
            "gridcolor": "white",
            "gridwidth": 2,
            "linecolor": "white",
            "showbackground": true,
            "ticks": "",
            "zerolinecolor": "white"
           },
           "yaxis": {
            "backgroundcolor": "#E5ECF6",
            "gridcolor": "white",
            "gridwidth": 2,
            "linecolor": "white",
            "showbackground": true,
            "ticks": "",
            "zerolinecolor": "white"
           },
           "zaxis": {
            "backgroundcolor": "#E5ECF6",
            "gridcolor": "white",
            "gridwidth": 2,
            "linecolor": "white",
            "showbackground": true,
            "ticks": "",
            "zerolinecolor": "white"
           }
          },
          "shapedefaults": {
           "line": {
            "color": "#2a3f5f"
           }
          },
          "ternary": {
           "aaxis": {
            "gridcolor": "white",
            "linecolor": "white",
            "ticks": ""
           },
           "baxis": {
            "gridcolor": "white",
            "linecolor": "white",
            "ticks": ""
           },
           "bgcolor": "#E5ECF6",
           "caxis": {
            "gridcolor": "white",
            "linecolor": "white",
            "ticks": ""
           }
          },
          "title": {
           "x": 0.05
          },
          "xaxis": {
           "automargin": true,
           "gridcolor": "white",
           "linecolor": "white",
           "ticks": "",
           "title": {
            "standoff": 15
           },
           "zerolinecolor": "white",
           "zerolinewidth": 2
          },
          "yaxis": {
           "automargin": true,
           "gridcolor": "white",
           "linecolor": "white",
           "ticks": "",
           "title": {
            "standoff": 15
           },
           "zerolinecolor": "white",
           "zerolinewidth": 2
          }
         }
        },
        "title": {
         "text": "Film Production Collaboration Network on a Map"
        }
       }
      }
     },
     "metadata": {},
     "output_type": "display_data"
    }
   ],
   "source": [
    "# Map country coordinates\n",
    "node_lat = []\n",
    "node_lon = []\n",
    "node_sizes = []\n",
    "node_colors = []\n",
    "for country in countries:\n",
    "    if country in country_coords:\n",
    "        node_lat.append(country_coords[country][0])\n",
    "        node_lon.append(country_coords[country][1])\n",
    "        node_sizes.append(root_film_count[country] * 0.5)  \n",
    "        # Assign color based on Cold War side\n",
    "        node_colors.append(\n",
    "            'blue' if country_cold_war_side.get(country) == 'Western' else\n",
    "            'red' if country_cold_war_side.get(country) == 'Eastern' else\n",
    "            'grey'\n",
    "        )\n",
    "\n",
    "# Prepare edges\n",
    "edge_lat = []\n",
    "edge_lon = []\n",
    "for (c1, c2), weight in collaboration_count.items():\n",
    "    if c1 in country_coords and c2 in country_coords:\n",
    "        edge_lat.extend([country_coords[c1][0], country_coords[c2][0], None])\n",
    "        edge_lon.extend([country_coords[c1][1], country_coords[c2][1], None])\n",
    "\n",
    "# Create the map\n",
    "fig = go.Figure()\n",
    "\n",
    "# Add edges\n",
    "fig.add_trace(go.Scattergeo(\n",
    "    locationmode='ISO-3',\n",
    "    lat=edge_lat,\n",
    "    lon=edge_lon,\n",
    "    mode='lines',\n",
    "    line=dict(width=1, color='black'),\n",
    "    hoverinfo='none'\n",
    "))\n",
    "\n",
    "# Add nodes\n",
    "fig.add_trace(go.Scattergeo(\n",
    "    locationmode='ISO-3',\n",
    "    lat=node_lat,\n",
    "    lon=node_lon,\n",
    "    mode='markers',\n",
    "    marker=dict(\n",
    "        size=node_sizes,\n",
    "        color=node_colors,\n",
    "        line=dict(width=0.5, color='black')\n",
    "    ),\n",
    "    text=countries,\n",
    "    hoverinfo='text'\n",
    "))\n",
    "\n",
    "# Mapbox configuration\n",
    "fig.update_layout(\n",
    "    title='Film Production Collaboration Network on a Map',\n",
    "    showlegend=False,\n",
    "    geo=dict(\n",
    "        projection_type='natural earth',\n",
    "        showland=True,\n",
    "        landcolor='rgb(217, 217, 217)',\n",
    "        showcountries=True,\n",
    "    )\n",
    ")\n",
    "\n",
    "# Show the map\n",
    "fig.show()"
   ]
  }
 ],
 "metadata": {
  "kernelspec": {
   "display_name": "ada",
   "language": "python",
   "name": "python3"
  },
  "language_info": {
   "codemirror_mode": {
    "name": "ipython",
    "version": 3
   },
   "file_extension": ".py",
   "mimetype": "text/x-python",
   "name": "python",
   "nbconvert_exporter": "python",
   "pygments_lexer": "ipython3",
   "version": "3.11.10"
  }
 },
 "nbformat": 4,
 "nbformat_minor": 2
}
