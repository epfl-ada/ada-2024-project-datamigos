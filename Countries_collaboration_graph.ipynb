{
 "cells": [
  {
   "cell_type": "code",
   "execution_count": 1,
   "metadata": {},
   "outputs": [],
   "source": [
    "import pandas as pd\n",
    "import plotly.graph_objects as go\n",
    "import re\n",
    "import networkx as nx\n",
    "import matplotlib.pyplot as plt\n",
    "import numpy as np\n",
    "from collections import Counter\n",
    "from itertools import combinations\n",
    "from src.utils.helpers import clean_column_values, convert_csv\n",
    "import ast\n",
    "from src.constants import *\n",
    "\n",
    "import warnings\n",
    "warnings.filterwarnings('ignore')"
   ]
  },
  {
   "cell_type": "code",
   "execution_count": 2,
   "metadata": {},
   "outputs": [
    {
     "name": "stdout",
     "output_type": "stream",
     "text": [
      "wikipedia_id <class 'numpy.float64'>\n",
      "freebase_id <class 'str'>\n",
      "title <class 'str'>\n",
      "languages <class 'float'>\n",
      "countries <class 'list'>\n",
      "genres <class 'list'>\n",
      "keywords <class 'float'>\n",
      "release_date <class 'numpy.int64'>\n",
      "runtime <class 'numpy.float64'>\n",
      "plot_summary <class 'str'>\n",
      "cold_war_side <class 'str'>\n",
      "character_western_bloc_representation <class 'list'>\n",
      "character_eastern_bloc_representation <class 'list'>\n",
      "western_bloc_values <class 'list'>\n",
      "eastern_bloc_values <class 'list'>\n",
      "theme <class 'list'>\n"
     ]
    }
   ],
   "source": [
    "movies = pd.read_csv(DATA_FOLDER_PREPROCESSED + \"preprocessed_movies.csv\")\n",
    "movies = convert_csv(movies)\n",
    "for col in movies.columns:\n",
    "    print(col, type(movies[col][0]))"
   ]
  },
  {
   "cell_type": "code",
   "execution_count": 3,
   "metadata": {},
   "outputs": [
    {
     "data": {
      "text/html": [
       "<div>\n",
       "<style scoped>\n",
       "    .dataframe tbody tr th:only-of-type {\n",
       "        vertical-align: middle;\n",
       "    }\n",
       "\n",
       "    .dataframe tbody tr th {\n",
       "        vertical-align: top;\n",
       "    }\n",
       "\n",
       "    .dataframe thead th {\n",
       "        text-align: right;\n",
       "    }\n",
       "</style>\n",
       "<table border=\"1\" class=\"dataframe\">\n",
       "  <thead>\n",
       "    <tr style=\"text-align: right;\">\n",
       "      <th></th>\n",
       "      <th>cold_war_side</th>\n",
       "      <th>countries</th>\n",
       "    </tr>\n",
       "  </thead>\n",
       "  <tbody>\n",
       "    <tr>\n",
       "      <th>0</th>\n",
       "      <td>Western</td>\n",
       "      <td>[Russia]</td>\n",
       "    </tr>\n",
       "    <tr>\n",
       "      <th>1</th>\n",
       "      <td>Eastern</td>\n",
       "      <td>[Germany, Italy]</td>\n",
       "    </tr>\n",
       "    <tr>\n",
       "      <th>2</th>\n",
       "      <td>NaN</td>\n",
       "      <td>[Russia]</td>\n",
       "    </tr>\n",
       "    <tr>\n",
       "      <th>3</th>\n",
       "      <td>NaN</td>\n",
       "      <td>[Italy]</td>\n",
       "    </tr>\n",
       "    <tr>\n",
       "      <th>4</th>\n",
       "      <td>NaN</td>\n",
       "      <td>[Russia]</td>\n",
       "    </tr>\n",
       "    <tr>\n",
       "      <th>...</th>\n",
       "      <td>...</td>\n",
       "      <td>...</td>\n",
       "    </tr>\n",
       "    <tr>\n",
       "      <th>25616</th>\n",
       "      <td>NaN</td>\n",
       "      <td>[Turkey]</td>\n",
       "    </tr>\n",
       "    <tr>\n",
       "      <th>25617</th>\n",
       "      <td>NaN</td>\n",
       "      <td>[Czech Republic]</td>\n",
       "    </tr>\n",
       "    <tr>\n",
       "      <th>25618</th>\n",
       "      <td>Eastern</td>\n",
       "      <td>[Russia, Germany]</td>\n",
       "    </tr>\n",
       "    <tr>\n",
       "      <th>25619</th>\n",
       "      <td>NaN</td>\n",
       "      <td>[United States of America, France]</td>\n",
       "    </tr>\n",
       "    <tr>\n",
       "      <th>25620</th>\n",
       "      <td>NaN</td>\n",
       "      <td>[Czech Republic]</td>\n",
       "    </tr>\n",
       "  </tbody>\n",
       "</table>\n",
       "<p>25621 rows × 2 columns</p>\n",
       "</div>"
      ],
      "text/plain": [
       "      cold_war_side                           countries\n",
       "0           Western                            [Russia]\n",
       "1           Eastern                    [Germany, Italy]\n",
       "2               NaN                            [Russia]\n",
       "3               NaN                             [Italy]\n",
       "4               NaN                            [Russia]\n",
       "...             ...                                 ...\n",
       "25616           NaN                            [Turkey]\n",
       "25617           NaN                    [Czech Republic]\n",
       "25618       Eastern                   [Russia, Germany]\n",
       "25619           NaN  [United States of America, France]\n",
       "25620           NaN                    [Czech Republic]\n",
       "\n",
       "[25621 rows x 2 columns]"
      ]
     },
     "execution_count": 3,
     "metadata": {},
     "output_type": "execute_result"
    }
   ],
   "source": [
    "movies = movies[['cold_war_side', 'countries']]\n",
    "movies"
   ]
  },
  {
   "cell_type": "code",
   "execution_count": 4,
   "metadata": {},
   "outputs": [
    {
     "data": {
      "text/plain": [
       "cold_war_side\n",
       "Western    3142\n",
       "Eastern    2919\n",
       "Name: count, dtype: int64"
      ]
     },
     "execution_count": 4,
     "metadata": {},
     "output_type": "execute_result"
    }
   ],
   "source": [
    "movies[\"cold_war_side\"].value_counts()"
   ]
  },
  {
   "cell_type": "code",
   "execution_count": 5,
   "metadata": {},
   "outputs": [
    {
     "name": "stdout",
     "output_type": "stream",
     "text": [
      "Counter({'Russia': 10853, 'United States of America': 8239, 'United Kingdom': 1713, 'Italy': 1374, 'France': 1361, 'Germany': 645, 'Japan': 640, 'Canada': 336, 'Spain': 334, 'Ukraine': 280, 'Hong Kong': 273, 'Lithuania': 228, 'Sweden': 190, 'India': 166, 'Australia': 160, 'Mexico': 114, 'Poland': 111, 'Switzerland': 87, 'Finland': 87, 'Czech Republic': 85, 'Denmark': 84, 'Netherlands': 74, 'Belgium': 73, 'Estonia': 72, 'Hungary': 59, 'Taiwan': 58, 'Latvia': 55, 'Austria': 53, 'Greece': 49, 'Brazil': 44, 'China': 41, 'Argentina': 39, 'Serbia': 39, 'Philippines': 36, 'Ireland': 35, 'Korea': 34, 'Croatia': 34, 'Norway': 33, 'Portugal': 31, 'Turkey': 31, 'Iran': 29, 'New Zealand': 28, 'Georgia': 27, 'Romania': 27, 'Israel': 24, 'South Africa': 23, 'Bosnia and Herzegovina': 16, 'Uzbekistan': 16, 'Cuba': 14, 'Slovakia': 12, 'Egypt': 11, 'Belarus': 11, 'Armenia': 10, 'Iceland': 9, 'Liechtenstein': 9, 'Senegal': 9, 'Luxembourg': 8, 'Chile': 8, 'Bulgaria': 8, 'Peru': 7, 'Venezuela': 7, 'Tunisia': 7, 'Algeria': 7, 'Morocco': 7, 'Kazakhstan': 7, 'Thailand': 6, 'Burkina Faso': 4, 'Czechoslovakia': 4, 'Puerto Rico': 4, 'Indonesia': 4, 'Mauritania': 4, 'Costa Rica': 3, 'Zimbabwe': 3, 'Azerbaijan': 3, 'Monaco': 3, 'Colombia': 3, 'Singapore': 3, 'Vietnam': 3, 'Namibia': 3, 'Moldova': 3, 'Panama': 3, 'Bolivia': 2, 'Macedonia': 2, 'Ghana': 2, 'Slovenia': 2, 'Pakistan': 2, 'Montenegro': 2, 'Yugoslavia': 2, 'Jamaica': 2, 'Turkmenistan': 2, 'Kyrgyzstan': 2, 'Botswana': 2, 'Uruguay': 1, 'Bangladesh': 1, 'Albania': 1, 'Qatar': 1, \"Cote D'Ivoire\": 1, 'Aruba': 1, 'Ethiopia': 1, 'Jordan': 1, 'Congo': 1, 'Libya': 1, 'Bhutan': 1, 'Angola': 1, 'Afghanistan': 1, 'Martinique': 1, 'Trinidad and Tobago': 1, 'Syria': 1, 'Guinea': 1, 'Bahamas': 1, 'Papua New Guinea': 1, 'Ecuador': 1, 'Palestinian Territory': 1, 'Mali': 1})\n"
     ]
    },
    {
     "data": {
      "text/plain": [
       "{'Russia': 104.17773274553444,\n",
       " 'United States of America': 90.76893741803966,\n",
       " 'United Kingdom': 41.38840417314975,\n",
       " 'Italy': 37.067505985701274,\n",
       " 'France': 36.89173349139343,\n",
       " 'Germany': 25.39685019840059,\n",
       " 'Japan': 25.298221281347036,\n",
       " 'Canada': 18.33030277982336,\n",
       " 'Spain': 18.275666882497067,\n",
       " 'Ukraine': 16.73320053068151,\n",
       " 'Hong Kong': 16.522711641858304,\n",
       " 'Lithuania': 15.0996688705415,\n",
       " 'Sweden': 13.784048752090222,\n",
       " 'India': 12.884098726725126,\n",
       " 'Australia': 12.649110640673518,\n",
       " 'Mexico': 10.677078252031311,\n",
       " 'Poland': 10.535653752852738,\n",
       " 'Switzerland': 9.327379053088816,\n",
       " 'Finland': 9.327379053088816,\n",
       " 'Czech Republic': 9.219544457292887,\n",
       " 'Denmark': 9.16515138991168,\n",
       " 'Netherlands': 8.602325267042627,\n",
       " 'Belgium': 8.54400374531753,\n",
       " 'Estonia': 8.48528137423857,\n",
       " 'Hungary': 7.681145747868608,\n",
       " 'Taiwan': 7.615773105863909,\n",
       " 'Latvia': 7.416198487095663,\n",
       " 'Austria': 7.280109889280518,\n",
       " 'Greece': 7.0,\n",
       " 'Brazil': 6.6332495807108,\n",
       " 'China': 6.4031242374328485,\n",
       " 'Argentina': 6.244997998398398,\n",
       " 'Serbia': 6.244997998398398,\n",
       " 'Philippines': 6.0,\n",
       " 'Ireland': 5.916079783099616,\n",
       " 'Korea': 5.830951894845301,\n",
       " 'Croatia': 5.830951894845301,\n",
       " 'Norway': 5.744562646538029,\n",
       " 'Portugal': 5.5677643628300215,\n",
       " 'Turkey': 5.5677643628300215,\n",
       " 'Iran': 5.385164807134504,\n",
       " 'New Zealand': 5.291502622129181,\n",
       " 'Georgia': 5.196152422706632,\n",
       " 'Romania': 5.196152422706632,\n",
       " 'Israel': 4.898979485566356,\n",
       " 'South Africa': 4.795831523312719,\n",
       " 'Bosnia and Herzegovina': 4.0,\n",
       " 'Uzbekistan': 4.0,\n",
       " 'Cuba': 3.7416573867739413,\n",
       " 'Slovakia': 3.4641016151377544,\n",
       " 'Egypt': 3.3166247903554,\n",
       " 'Belarus': 3.3166247903554,\n",
       " 'Armenia': 3.1622776601683795,\n",
       " 'Iceland': 3.0,\n",
       " 'Liechtenstein': 3.0,\n",
       " 'Senegal': 3.0,\n",
       " 'Luxembourg': 2.8284271247461903,\n",
       " 'Chile': 2.8284271247461903,\n",
       " 'Bulgaria': 2.8284271247461903,\n",
       " 'Peru': 2.6457513110645907,\n",
       " 'Venezuela': 2.6457513110645907,\n",
       " 'Tunisia': 2.6457513110645907,\n",
       " 'Algeria': 2.6457513110645907,\n",
       " 'Morocco': 2.6457513110645907,\n",
       " 'Kazakhstan': 2.6457513110645907,\n",
       " 'Thailand': 2.449489742783178,\n",
       " 'Burkina Faso': 2.0,\n",
       " 'Czechoslovakia': 2.0,\n",
       " 'Puerto Rico': 2.0,\n",
       " 'Indonesia': 2.0,\n",
       " 'Mauritania': 2.0,\n",
       " 'Costa Rica': 1.7320508075688772,\n",
       " 'Zimbabwe': 1.7320508075688772,\n",
       " 'Azerbaijan': 1.7320508075688772,\n",
       " 'Monaco': 1.7320508075688772,\n",
       " 'Colombia': 1.7320508075688772,\n",
       " 'Singapore': 1.7320508075688772,\n",
       " 'Vietnam': 1.7320508075688772,\n",
       " 'Namibia': 1.7320508075688772,\n",
       " 'Moldova': 1.7320508075688772,\n",
       " 'Panama': 1.7320508075688772,\n",
       " 'Bolivia': 1.4142135623730951,\n",
       " 'Macedonia': 1.4142135623730951,\n",
       " 'Ghana': 1.4142135623730951,\n",
       " 'Slovenia': 1.4142135623730951,\n",
       " 'Pakistan': 1.4142135623730951,\n",
       " 'Montenegro': 1.4142135623730951,\n",
       " 'Yugoslavia': 1.4142135623730951,\n",
       " 'Jamaica': 1.4142135623730951,\n",
       " 'Turkmenistan': 1.4142135623730951,\n",
       " 'Kyrgyzstan': 1.4142135623730951,\n",
       " 'Botswana': 1.4142135623730951,\n",
       " 'Uruguay': 1.0,\n",
       " 'Bangladesh': 1.0,\n",
       " 'Albania': 1.0,\n",
       " 'Qatar': 1.0,\n",
       " \"Cote D'Ivoire\": 1.0,\n",
       " 'Aruba': 1.0,\n",
       " 'Ethiopia': 1.0,\n",
       " 'Jordan': 1.0,\n",
       " 'Congo': 1.0,\n",
       " 'Libya': 1.0,\n",
       " 'Bhutan': 1.0,\n",
       " 'Angola': 1.0,\n",
       " 'Afghanistan': 1.0,\n",
       " 'Martinique': 1.0,\n",
       " 'Trinidad and Tobago': 1.0,\n",
       " 'Syria': 1.0,\n",
       " 'Guinea': 1.0,\n",
       " 'Bahamas': 1.0,\n",
       " 'Papua New Guinea': 1.0,\n",
       " 'Ecuador': 1.0,\n",
       " 'Palestinian Territory': 1.0,\n",
       " 'Mali': 1.0}"
      ]
     },
     "execution_count": 5,
     "metadata": {},
     "output_type": "execute_result"
    }
   ],
   "source": [
    "country_film_count = Counter()\n",
    "collaboration_count = Counter()\n",
    "\n",
    "for countries in movies['countries']:\n",
    "    country_film_count.update(countries)\n",
    "    for pair in combinations(countries, 2):\n",
    "        collaboration_count[tuple(sorted(pair))] += 1\n",
    "        \n",
    "# threshold collaboration count\n",
    "threshold = 5\n",
    "collaboration_count = {pair: count for pair, count in collaboration_count.items() if count >= threshold}\n",
    "\n",
    "print(country_film_count)\n",
    "\n",
    "#log_film_count = {country: np.log2(count) for country, count in country_film_count.items()}\n",
    "#log_film_count = dict(sorted(log_film_count.items(), key=lambda x: x[1], reverse=True))\n",
    "#log_film_count\n",
    "\n",
    "root_film_count = {country: np.sqrt(count) for country, count in country_film_count.items()}\n",
    "root_film_count = dict(sorted(root_film_count.items(), key=lambda x: x[1], reverse=True))\n",
    "root_film_count"
   ]
  },
  {
   "cell_type": "code",
   "execution_count": 6,
   "metadata": {},
   "outputs": [],
   "source": [
    "# For all the countries\n",
    "countries = list(country_film_count.keys())"
   ]
  },
  {
   "cell_type": "code",
   "execution_count": 7,
   "metadata": {},
   "outputs": [],
   "source": [
    "# For the top 15 countries\n",
    "# countries = [country for country, count in country_film_count.most_common(15)]"
   ]
  },
  {
   "cell_type": "code",
   "execution_count": 8,
   "metadata": {},
   "outputs": [],
   "source": [
    "country_cold_war_side = {}\n",
    "for country in countries:\n",
    "    sides = movies.loc[movies['countries'].apply(lambda x: country in x), 'cold_war_side'].values\n",
    "    west_count = (sides == 'Western').sum()\n",
    "    east_count = (sides == 'Eastern').sum()\n",
    "\n",
    "    if west_count > east_count:\n",
    "        country_cold_war_side[country] = 'Western'\n",
    "    elif west_count < east_count:\n",
    "        country_cold_war_side[country] = 'Eastern'\n",
    "    else:\n",
    "        country_cold_war_side[country] = None\n",
    "        "
   ]
  },
  {
   "cell_type": "code",
   "execution_count": 9,
   "metadata": {},
   "outputs": [],
   "source": [
    "collaboration_count = {k: v for k, v in collaboration_count.items() if k[0] in countries and k[1] in countries}"
   ]
  },
  {
   "cell_type": "code",
   "execution_count": 10,
   "metadata": {},
   "outputs": [
    {
     "data": {
      "image/png": "[encoded data removed]",
      "text/plain": [
       "<Figure size 1000x800 with 1 Axes>"
      ]
     },
     "metadata": {},
     "output_type": "display_data"
    }
   ],
   "source": [
    "# With matplotlib\n",
    "G = nx.Graph()\n",
    "for country in countries:\n",
    "    G.add_node(country, side=country_cold_war_side[country], size=root_film_count[country])\n",
    "\n",
    "for (c1, c2), count in collaboration_count.items():\n",
    "    G.add_edge(c1, c2, weight=count)\n",
    "\n",
    "node_colors = [\n",
    "    'blue' if G.nodes[n]['side'] == 'Western' else\n",
    "    'red' if G.nodes[n]['side'] == 'Eastern' else 'grey'\n",
    "    for n in G.nodes\n",
    "]\n",
    "\n",
    "node_sizes = [G.nodes[n]['size'] * 10 for n in G.nodes] \n",
    "\n",
    "edge_weights = [G[u][v]['weight'] for u, v in G.edges]\n",
    "edge_widths = [weight * 0.01 for weight in edge_weights]\n",
    "\n",
    "plt.figure(figsize=(10, 8))\n",
    "pos = nx.spring_layout(G, seed=42, k=10)\n",
    "nx.draw_networkx_edges(G, pos, alpha=0.5, width=edge_widths)\n",
    "nx.draw_networkx_nodes(\n",
    "    G, pos, node_color=node_colors, edgecolors='black', node_size=node_sizes\n",
    ")\n",
    "nx.draw_networkx_labels(G, pos, font_size=10, font_color=\"black\")\n",
    "\n",
    "plt.title(\"Film Production Collaboration Network\", fontsize=16)\n",
    "plt.axis('off')\n",
    "plt.show()"
   ]
  },
  {
   "cell_type": "code",
   "execution_count": 11,
   "metadata": {},
   "outputs": [
    {
     "data": {
      "application/vnd.plotly.v1+json": {
       "config": {
        "plotlyServerURL": "https://plot.ly"
       },
       "data": [
        {
         "hoverinfo": "none",
         "line": {
          "color": "black",
          "width": 0.5
         },
         "mode": "lines",
         "type": "scatter",
         "x": [
          -0.08187720694167268,
          -0.7079075290893866,
          -0.08187720694167268,
          0.08760044205976934,
          -0.08187720694167268,
          -0.05708929884524761,
          -0.08187720694167268,
          -0.3492605082506457,
          -0.08187720694167268,
          -0.47184455532621833,
          -0.08187720694167268,
          -0.19433638339515205,
          -0.08187720694167268,
          -0.05709260363853803,
          -0.05709260363853803,
          -0.47184455532621833,
          -0.05709260363853803,
          -0.05708929884524761,
          -0.05709260363853803,
          -0.5478059073380609,
          -0.05709260363853803,
          -0.9356875597157692,
          -0.05709260363853803,
          -0.3492605082506457,
          -0.05709260363853803,
          -0.2510123981730209,
          -0.05709260363853803,
          -0.8332816119720056,
          -0.05709260363853803,
          0.7721080989697989,
          -0.05709260363853803,
          0.2438372068191174,
          -0.05709260363853803,
          0.9549294455046516,
          -0.05709260363853803,
          0.4509589687901934,
          -0.05709260363853803,
          0.9000620479326266,
          -0.05709260363853803,
          -0.8509199851595323,
          -0.05709260363853803,
          0.9442833442623526,
          -0.05709260363853803,
          0.680049462122219,
          -0.05709260363853803,
          0.5443448230725695,
          -0.05709260363853803,
          -0.9649932596915545,
          -0.05709260363853803,
          -0.6901185062771358,
          -0.05709260363853803,
          -0.4741557744784049,
          -0.05709260363853803,
          0.7410714088110611,
          -0.05709260363853803,
          -0.02384229049909767,
          -0.05709260363853803,
          -0.9594997512930743,
          -0.05709260363853803,
          -0.7285110026866313,
          -0.47184455532621833,
          -0.05708929884524761,
          -0.47184455532621833,
          -0.6901185062771358,
          -0.47184455532621833,
          -0.9356875597157692,
          -0.47184455532621833,
          -0.3492605082506457,
          -0.47184455532621833,
          -0.2510123981730209,
          -0.47184455532621833,
          -0.5478059073380609,
          -0.47184455532621833,
          -0.8509199851595323,
          -0.47184455532621833,
          0.680049462122219,
          -0.47184455532621833,
          -0.6101501529212883,
          -0.47184455532621833,
          0.7721080989697989,
          -0.47184455532621833,
          -0.3930788486170043,
          -0.47184455532621833,
          0.4509589687901934,
          -0.3492605082506457,
          -0.9356875597157692,
          -0.3492605082506457,
          -0.2510123981730209,
          -0.3492605082506457,
          -0.05708929884524761,
          -0.3492605082506457,
          -0.4741557744784049,
          -0.3492605082506457,
          0.2438372068191174,
          -0.3492605082506457,
          -0.9594997512930743,
          -0.3492605082506457,
          -0.5478059073380609,
          -0.3492605082506457,
          -0.503095496937113,
          -0.3492605082506457,
          -0.027536781771440585,
          -0.3492605082506457,
          -0.6329361967419422,
          -0.3492605082506457,
          0.14283691587413366,
          -0.3492605082506457,
          -0.6101501529212883,
          -0.3492605082506457,
          -0.9209048881441928,
          -0.3492605082506457,
          -0.6901185062771358,
          -0.3492605082506457,
          0.4509589687901934,
          -0.3492605082506457,
          0.7721080989697989,
          -0.3492605082506457,
          -0.9649932596915545,
          -0.3492605082506457,
          -0.8332816119720056,
          -0.3492605082506457,
          -0.18839825873524627,
          -0.3492605082506457,
          0.9000620479326266,
          -0.3492605082506457,
          0.5443448230725695,
          -0.3492605082506457,
          -0.3930788486170043,
          0.7721080989697989,
          -0.05708929884524761,
          0.7721080989697989,
          -0.9356875597157692,
          0.7721080989697989,
          -0.2510123981730209,
          -0.05708929884524761,
          -0.9356875597157692,
          -0.05708929884524761,
          -0.2510123981730209,
          -0.05708929884524761,
          0.9442833442623526,
          -0.05708929884524761,
          -0.9649932596915545,
          -0.05708929884524761,
          0.680049462122219,
          -0.05708929884524761,
          0.2438372068191174,
          -0.05708929884524761,
          0.9549294455046516,
          -0.05708929884524761,
          -0.5478059073380609,
          -0.05708929884524761,
          -0.8317492645183227,
          -0.05708929884524761,
          0.9808925216045684,
          -0.05708929884524761,
          -0.8332816119720056,
          -0.05708929884524761,
          -0.9291978610816555,
          -0.05708929884524761,
          -0.6901185062771358,
          -0.05708929884524761,
          -0.4741557744784049,
          -0.05708929884524761,
          -0.6101501529212883,
          -0.05708929884524761,
          -0.9594997512930743,
          -0.05708929884524761,
          0.9000620479326266,
          -0.05708929884524761,
          0.5443448230725695,
          -0.05708929884524761,
          0.9198243829590025,
          -0.05708929884524761,
          -0.02384229049909767,
          -0.05708929884524761,
          0.9539635672868082,
          -0.05708929884524761,
          0.7410714088110611,
          -0.05708929884524761,
          0.4509589687901934,
          -0.05708929884524761,
          -0.3930788486170043,
          -0.2510123981730209,
          -0.9356875597157692,
          -0.2510123981730209,
          0.2438372068191174,
          -0.2510123981730209,
          -0.6329361967419422,
          -0.2510123981730209,
          0.5443448230725695,
          -0.2510123981730209,
          -0.503095496937113,
          -0.2510123981730209,
          -0.9594997512930743,
          -0.2510123981730209,
          -0.8778936248187551,
          -0.2510123981730209,
          -0.4741557744784049,
          -0.2510123981730209,
          -0.3930788486170043,
          -0.2510123981730209,
          -0.8332816119720056,
          -0.2510123981730209,
          -0.9649932596915545,
          -0.2510123981730209,
          0.680049462122219,
          -0.027536781771440585,
          0.741949360476675,
          -0.027536781771440585,
          -0.5658251407115749,
          -0.027536781771440585,
          -0.4741557744784049,
          -0.9356875597157692,
          -0.9209048881441928,
          -0.9356875597157692,
          -0.6101501529212883,
          -0.9356875597157692,
          -0.8509199851595323,
          -0.9649932596915545,
          -0.8332816119720056,
          -0.9649932596915545,
          0.3635624973901036,
          -0.9594997512930743,
          -0.18839825873524627,
          -0.8332816119720056,
          0.7410714088110611,
          -0.8332816119720056,
          0.3635624973901036,
          0.680049462122219,
          0.5443448230725695,
          -0.02384229049909767,
          0.5682545164217185,
          -0.7285110026866313,
          0.4509589687901934
         ],
         "y": [
          0.9880916593624467,
          0.74267600102655,
          0.9880916593624467,
          0.9841879491489026,
          0.9880916593624467,
          -0.13666961140036235,
          0.9880916593624467,
          -0.07720303227464083,
          0.9880916593624467,
          -0.3626198604070618,
          0.9880916593624467,
          0.978048175899545,
          0.9880916593624467,
          0.040579141695110406,
          0.040579141695110406,
          -0.3626198604070618,
          0.040579141695110406,
          -0.13666961140036235,
          0.040579141695110406,
          0.7208432974473236,
          0.040579141695110406,
          0.18873418121740856,
          0.040579141695110406,
          -0.07720303227464083,
          0.040579141695110406,
          -0.2612459979149368,
          0.040579141695110406,
          0.41369594053315817,
          0.040579141695110406,
          -0.6233878940585817,
          0.040579141695110406,
          -0.9369248333071926,
          0.040579141695110406,
          0.3359172344667075,
          0.040579141695110406,
          0.8950351409484824,
          0.040579141695110406,
          0.47229260054605415,
          0.040579141695110406,
          0.481460063502709,
          0.040579141695110406,
          -0.1029947793571429,
          0.040579141695110406,
          0.69063824882816,
          0.040579141695110406,
          -0.8417196251604989,
          0.040579141695110406,
          0.082110327069489,
          0.040579141695110406,
          0.6511259636609671,
          0.040579141695110406,
          -0.8616031245789607,
          0.040579141695110406,
          0.6124718834117824,
          0.040579141695110406,
          -0.9728973826818864,
          0.040579141695110406,
          -0.23531855500700954,
          0.040579141695110406,
          -0.7020971423273628,
          -0.3626198604070618,
          -0.13666961140036235,
          -0.3626198604070618,
          0.6511259636609671,
          -0.3626198604070618,
          0.18873418121740856,
          -0.3626198604070618,
          -0.07720303227464083,
          -0.3626198604070618,
          -0.2612459979149368,
          -0.3626198604070618,
          0.7208432974473236,
          -0.3626198604070618,
          0.481460063502709,
          -0.3626198604070618,
          0.69063824882816,
          -0.3626198604070618,
          -0.7578990357187682,
          -0.3626198604070618,
          -0.6233878940585817,
          -0.3626198604070618,
          0.938510007825038,
          -0.3626198604070618,
          0.8950351409484824,
          -0.07720303227464083,
          0.18873418121740856,
          -0.07720303227464083,
          -0.2612459979149368,
          -0.07720303227464083,
          -0.13666961140036235,
          -0.07720303227464083,
          -0.8616031245789607,
          -0.07720303227464083,
          -0.9369248333071926,
          -0.07720303227464083,
          -0.23531855500700954,
          -0.07720303227464083,
          0.7208432974473236,
          -0.07720303227464083,
          -0.8033751715166222,
          -0.07720303227464083,
          0.9611158914665469,
          -0.07720303227464083,
          0.7584501036804718,
          -0.07720303227464083,
          -0.9533691066760884,
          -0.07720303227464083,
          -0.7578990357187682,
          -0.07720303227464083,
          0.40349627935935023,
          -0.07720303227464083,
          0.6511259636609671,
          -0.07720303227464083,
          0.8950351409484824,
          -0.07720303227464083,
          -0.6233878940585817,
          -0.07720303227464083,
          0.082110327069489,
          -0.07720303227464083,
          0.41369594053315817,
          -0.07720303227464083,
          -0.9698559307125519,
          -0.07720303227464083,
          0.47229260054605415,
          -0.07720303227464083,
          -0.8417196251604989,
          -0.07720303227464083,
          0.938510007825038,
          -0.6233878940585817,
          -0.13666961140036235,
          -0.6233878940585817,
          0.18873418121740856,
          -0.6233878940585817,
          -0.2612459979149368,
          -0.13666961140036235,
          0.18873418121740856,
          -0.13666961140036235,
          -0.2612459979149368,
          -0.13666961140036235,
          -0.1029947793571429,
          -0.13666961140036235,
          0.082110327069489,
          -0.13666961140036235,
          0.69063824882816,
          -0.13666961140036235,
          -0.9369248333071926,
          -0.13666961140036235,
          0.3359172344667075,
          -0.13666961140036235,
          0.7208432974473236,
          -0.13666961140036235,
          -0.542960547209092,
          -0.13666961140036235,
          0.11354894473574069,
          -0.13666961140036235,
          0.41369594053315817,
          -0.13666961140036235,
          -0.2934451582453241,
          -0.13666961140036235,
          0.6511259636609671,
          -0.13666961140036235,
          -0.8616031245789607,
          -0.13666961140036235,
          -0.7578990357187682,
          -0.13666961140036235,
          -0.23531855500700954,
          -0.13666961140036235,
          0.47229260054605415,
          -0.13666961140036235,
          -0.8417196251604989,
          -0.13666961140036235,
          0.289241399190319,
          -0.13666961140036235,
          -0.9728973826818864,
          -0.13666961140036235,
          -0.22075719563834756,
          -0.13666961140036235,
          0.6124718834117824,
          -0.13666961140036235,
          0.8950351409484824,
          -0.13666961140036235,
          0.938510007825038,
          -0.2612459979149368,
          0.18873418121740856,
          -0.2612459979149368,
          -0.9369248333071926,
          -0.2612459979149368,
          0.7584501036804718,
          -0.2612459979149368,
          -0.8417196251604989,
          -0.2612459979149368,
          -0.8033751715166222,
          -0.2612459979149368,
          -0.23531855500700954,
          -0.2612459979149368,
          -0.34068400213836486,
          -0.2612459979149368,
          -0.8616031245789607,
          -0.2612459979149368,
          0.938510007825038,
          -0.2612459979149368,
          0.41369594053315817,
          -0.2612459979149368,
          0.082110327069489,
          -0.2612459979149368,
          0.69063824882816,
          0.9611158914665469,
          0.7028769751627454,
          0.9611158914665469,
          -0.8161702805723803,
          0.9611158914665469,
          -0.8616031245789607,
          0.18873418121740856,
          0.40349627935935023,
          0.18873418121740856,
          -0.7578990357187682,
          0.18873418121740856,
          0.481460063502709,
          0.082110327069489,
          0.41369594053315817,
          0.082110327069489,
          0.8149025674972787,
          -0.23531855500700954,
          -0.9698559307125519,
          0.41369594053315817,
          0.6124718834117824,
          0.41369594053315817,
          0.8149025674972787,
          0.69063824882816,
          -0.8417196251604989,
          -0.9728973826818864,
          0.8232496118807302,
          -0.7020971423273628,
          0.8950351409484824
         ]
        },
        {
         "hoverinfo": "text",
         "hovertext": [
          "Russia",
          "Germany",
          "Italy",
          "United States of America",
          "Estonia",
          "Ukraine",
          "Switzerland",
          "Lithuania",
          "France",
          "Egypt",
          "United Kingdom",
          "India",
          "Hong Kong",
          "Spain",
          "Costa Rica",
          "Canada",
          "Latvia",
          "Hungary",
          "Japan",
          "Poland",
          "Denmark",
          "Korea",
          "Croatia",
          "Austria",
          "Philippines",
          "Portugal",
          "Taiwan",
          "Georgia",
          "Romania",
          "Australia",
          "South Africa",
          "Luxembourg",
          "Sweden",
          "Ireland",
          "Greece",
          "Uruguay",
          "Argentina",
          "Belgium",
          "Netherlands",
          "Czech Republic",
          "Bangladesh",
          "New Zealand",
          "Albania",
          "Finland",
          "Iceland",
          "Liechtenstein",
          "Iran",
          "Zimbabwe",
          "Norway",
          "Bosnia and Herzegovina",
          "Cuba",
          "Peru",
          "Israel",
          "Uzbekistan",
          "China",
          "Mexico",
          "Azerbaijan",
          "Bolivia",
          "Brazil",
          "Venezuela",
          "Serbia",
          "Macedonia",
          "Monaco",
          "Slovakia",
          "Turkey",
          "Senegal",
          "Tunisia",
          "Qatar",
          "Cote D'Ivoire",
          "Belarus",
          "Armenia",
          "Algeria",
          "Thailand",
          "Colombia",
          "Chile",
          "Singapore",
          "Ghana",
          "Morocco",
          "Vietnam",
          "Slovenia",
          "Pakistan",
          "Montenegro",
          "Namibia",
          "Bulgaria",
          "Yugoslavia",
          "Moldova",
          "Burkina Faso",
          "Aruba",
          "Czechoslovakia",
          "Ethiopia",
          "Jordan",
          "Puerto Rico",
          "Kazakhstan",
          "Indonesia",
          "Congo",
          "Libya",
          "Bhutan",
          "Jamaica",
          "Mauritania",
          "Angola",
          "Turkmenistan",
          "Panama",
          "Afghanistan",
          "Martinique",
          "Trinidad and Tobago",
          "Syria",
          "Kyrgyzstan",
          "Botswana",
          "Guinea",
          "Bahamas",
          "Papua New Guinea",
          "Ecuador",
          "Palestinian Territory",
          "Mali"
         ],
         "marker": {
          "color": [
           "red",
           "blue",
           "blue",
           "blue",
           "red",
           "blue",
           "blue",
           "red",
           "blue",
           "grey",
           "blue",
           "red",
           "blue",
           "blue",
           "grey",
           "blue",
           "red",
           "red",
           "red",
           "red",
           "blue",
           "blue",
           "blue",
           "blue",
           "blue",
           "blue",
           "red",
           "red",
           "red",
           "blue",
           "blue",
           "grey",
           "blue",
           "blue",
           "red",
           "grey",
           "blue",
           "blue",
           "blue",
           "red",
           "grey",
           "blue",
           "grey",
           "red",
           "blue",
           "grey",
           "grey",
           "grey",
           "blue",
           "red",
           "red",
           "blue",
           "blue",
           "blue",
           "red",
           "blue",
           "grey",
           "grey",
           "red",
           "red",
           "red",
           "blue",
           "blue",
           "red",
           "red",
           "red",
           "red",
           "grey",
           "red",
           "red",
           "red",
           "red",
           "blue",
           "grey",
           "red",
           "grey",
           "grey",
           "blue",
           "red",
           "grey",
           "grey",
           "grey",
           "blue",
           "red",
           "red",
           "red",
           "grey",
           "blue",
           "red",
           "grey",
           "grey",
           "grey",
           "grey",
           "blue",
           "grey",
           "grey",
           "grey",
           "grey",
           "blue",
           "red",
           "grey",
           "grey",
           "grey",
           "grey",
           "grey",
           "grey",
           "red",
           "grey",
           "grey",
           "blue",
           "grey",
           "grey",
           "grey",
           "grey"
          ],
          "colorbar": {
           "thickness": 15,
           "title": {
            "side": "right",
            "text": "Cold War Side"
           },
           "xanchor": "left"
          },
          "colorscale": [
           [
            0,
            "rgb(255,255,217)"
           ],
           [
            0.125,
            "rgb(237,248,177)"
           ],
           [
            0.25,
            "rgb(199,233,180)"
           ],
           [
            0.375,
            "rgb(127,205,187)"
           ],
           [
            0.5,
            "rgb(65,182,196)"
           ],
           [
            0.625,
            "rgb(29,145,192)"
           ],
           [
            0.75,
            "rgb(34,94,168)"
           ],
           [
            0.875,
            "rgb(37,52,148)"
           ],
           [
            1,
            "rgb(8,29,88)"
           ]
          ],
          "showscale": true,
          "size": [
           52.08886637276722,
           12.698425099200294,
           18.533752992850637,
           45.38446870901983,
           4.242640687119285,
           8.366600265340756,
           4.663689526544408,
           7.54983443527075,
           18.445866745696716,
           1.6583123951777,
           20.694202086574876,
           6.442049363362563,
           8.261355820929152,
           9.137833441248533,
           0.8660254037844386,
           9.16515138991168,
           3.7080992435478315,
           3.840572873934304,
           12.649110640673518,
           5.267826876426369,
           4.58257569495584,
           2.9154759474226504,
           2.9154759474226504,
           3.640054944640259,
           3,
           2.7838821814150108,
           3.8078865529319543,
           2.598076211353316,
           2.598076211353316,
           6.324555320336759,
           2.3979157616563596,
           1.4142135623730951,
           6.892024376045111,
           2.958039891549808,
           3.5,
           0.5,
           3.122498999199199,
           4.272001872658765,
           4.301162633521313,
           4.6097722286464435,
           0.5,
           2.6457513110645907,
           0.5,
           4.663689526544408,
           1.5,
           1.5,
           2.692582403567252,
           0.8660254037844386,
           2.8722813232690143,
           2,
           1.8708286933869707,
           1.3228756555322954,
           2.449489742783178,
           2,
           3.2015621187164243,
           5.338539126015656,
           0.8660254037844386,
           0.7071067811865476,
           3.3166247903554,
           1.3228756555322954,
           3.122498999199199,
           0.7071067811865476,
           0.8660254037844386,
           1.7320508075688772,
           2.7838821814150108,
           1.5,
           1.3228756555322954,
           0.5,
           0.5,
           1.6583123951777,
           1.5811388300841898,
           1.3228756555322954,
           1.224744871391589,
           0.8660254037844386,
           1.4142135623730951,
           0.8660254037844386,
           0.7071067811865476,
           1.3228756555322954,
           0.8660254037844386,
           0.7071067811865476,
           0.7071067811865476,
           0.7071067811865476,
           0.8660254037844386,
           1.4142135623730951,
           0.7071067811865476,
           0.8660254037844386,
           1,
           0.5,
           1,
           0.5,
           0.5,
           1,
           1.3228756555322954,
           1,
           0.5,
           0.5,
           0.5,
           0.7071067811865476,
           1,
           0.5,
           0.7071067811865476,
           0.8660254037844386,
           0.5,
           0.5,
           0.5,
           0.5,
           0.7071067811865476,
           0.7071067811865476,
           0.5,
           0.5,
           0.5,
           0.5,
           0.5,
           0.5
          ]
         },
         "mode": "markers",
         "type": "scatter",
         "x": [
          -0.08187720694167268,
          -0.05709260363853803,
          -0.47184455532621833,
          -0.3492605082506457,
          0.3101745905523408,
          -0.7079075290893866,
          0.7721080989697989,
          -0.747044724485073,
          -0.05708929884524761,
          -0.1391296703780137,
          -0.2510123981730209,
          -0.8778936248187551,
          -0.027536781771440585,
          -0.9356875597157692,
          0.08431135758929335,
          0.2438372068191174,
          -0.5831094354330808,
          0.9000620479326266,
          -0.4741557744784049,
          0.9442833442623526,
          -0.9649932596915545,
          -0.7739234022882446,
          -0.6901185062771358,
          -0.5478059073380609,
          0.14283691587413366,
          0.9549294455046516,
          0.741949360476675,
          0.08760044205976934,
          -0.8317492645183227,
          -0.9594997512930743,
          -0.503095496937113,
          0.9539635672868082,
          -0.8332816119720056,
          -0.6329361967419422,
          -0.3930788486170043,
          0.6044506713914989,
          -0.9209048881441928,
          0.680049462122219,
          0.5443448230725695,
          -0.02384229049909767,
          0.9027688193499565,
          -0.18839825873524627,
          -0.6410288972388021,
          0.7410714088110611,
          0.9860083996554316,
          -0.8509199851595323,
          0.9198243829590025,
          0.9623548193736043,
          0.3635624973901036,
          -0.7285110026866313,
          -0.9531551710035885,
          -0.9082878344664349,
          0.9533311035311752,
          -0.1358144096286097,
          -0.5658251407115749,
          -0.6101501529212883,
          0.8081224465420996,
          0.1947169528744477,
          0.6593646292339919,
          0.9808925216045684,
          0.4509589687901934,
          -0.2516370072086395,
          -0.9334122447081394,
          0.5682545164217185,
          -0.9898461434883005,
          -0.3014711550997417,
          -0.9291978610816555,
          0.9864671758469553,
          0.03762304942439615,
          -0.19433638339515205,
          0.9375299399991783,
          0.5295247257853055,
          -0.35997340839253494,
          0.8756035647214142,
          -0.9107164443280849,
          0.851014598417127,
          -0.962428983570217,
          0.9072845315255019,
          0.4965220821295022,
          -0.4973765988377361,
          -0.2456269431258288,
          0.81645213625854,
          -0.8259368836496105,
          -0.4057909127449963,
          -0.9741945648936192,
          0.33164064110915803,
          0.0349211519933824,
          0.47072305044788276,
          0.8442019559047543,
          0.7461441323680751,
          -0.08819162291722138,
          0.6498393664733385,
          -0.7634363883048266,
          0.9590486363411853,
          0.34590195277577507,
          -0.4729926686137305,
          0.9641715033566727,
          -0.8180419431288619,
          0.3745014459584724,
          0.8445215661974232,
          0.41920184697857366,
          -0.2883248907841714,
          0.20245094574973996,
          -0.921890660651178,
          -0.8909244619423542,
          0.14073540979084848,
          0.6908492352136236,
          0.794280159163053,
          -0.3699261651868959,
          0.26046721089438996,
          0.5848024045501753,
          -0.9682921986610376,
          -0.7706287368963951,
          1
         ],
         "y": [
          0.9880916593624467,
          0.040579141695110406,
          -0.3626198604070618,
          -0.07720303227464083,
          0.9014136937324225,
          0.74267600102655,
          -0.6233878940585817,
          -0.6363227934564032,
          -0.13666961140036235,
          -0.9325686417322553,
          -0.2612459979149368,
          -0.34068400213836486,
          0.9611158914665469,
          0.18873418121740856,
          -0.9850644842154983,
          -0.9369248333071926,
          0.8335028990532368,
          0.47229260054605415,
          -0.8616031245789607,
          -0.1029947793571429,
          0.082110327069489,
          0.6579725947680017,
          0.6511259636609671,
          0.7208432974473236,
          -0.9533691066760884,
          0.3359172344667075,
          0.7028769751627454,
          0.9841879491489026,
          -0.542960547209092,
          -0.23531855500700954,
          -0.8033751715166222,
          -0.22075719563834756,
          0.41369594053315817,
          0.7584501036804718,
          0.938510007825038,
          -0.7772272008004331,
          0.40349627935935023,
          0.69063824882816,
          -0.8417196251604989,
          -0.9728973826818864,
          0.3939389477172716,
          -0.9698559307125519,
          -0.6951492603706001,
          0.6124718834117824,
          -0.0009630050659525932,
          0.481460063502709,
          0.289241399190319,
          0.0560691819408811,
          0.8149025674972787,
          -0.7020971423273628,
          0.26363610365632256,
          0.04653065560018392,
          -0.2893644503815937,
          0.9473832308670653,
          -0.8161702805723803,
          -0.7578990357187682,
          0.6073818717402342,
          0.9619550244854459,
          -0.7390148331589441,
          0.11354894473574069,
          0.8950351409484824,
          -0.9477059513808715,
          -0.1784219024856943,
          0.8232496118807302,
          0.0004513023568447557,
          -0.9060094159689263,
          -0.2934451582453241,
          -0.1622793864680823,
          0.9452131079137751,
          0.978048175899545,
          -0.37198393889172304,
          -0.7681783461711933,
          -0.9288330589082807,
          -0.31594616166406125,
          -0.3906942124109075,
          -0.5259187043456393,
          -0.061172120135647455,
          -0.45232745747260894,
          0.8328557511634294,
          0.8261328295637214,
          0.9037836992618435,
          0.45510026558497063,
          0.558568853734826,
          -0.8783019291902112,
          0.14834596208171302,
          -0.9452258698052353,
          -0.9548260716781459,
          -0.8524802611459036,
          -0.44475167500790386,
          -0.6885833376587411,
          -0.9737870180904131,
          0.7807346685264738,
          0.5722882085868958,
          0.17215574736034941,
          -0.8835826320924804,
          0.8856229292156094,
          0.2339181324514197,
          -0.45978760090825904,
          0.9213277593623228,
          0.5393683368164259,
          -0.8949327798118502,
          0.9510340487264503,
          -0.9776896933195254,
          0.3284300831019427,
          -0.47301092988124194,
          0.9348433594301309,
          -0.6740312888657862,
          -0.5596726630736286,
          0.8854369564443191,
          0.9445905994943905,
          0.7353655654085444,
          -0.12552179979257586,
          -0.5749986811481828,
          -0.06912413585190624
         ]
        }
       ],
       "layout": {
        "hovermode": "closest",
        "plot_bgcolor": "white",
        "showlegend": false,
        "template": {
         "data": {
          "bar": [
           {
            "error_x": {
             "color": "#2a3f5f"
            },
            "error_y": {
             "color": "#2a3f5f"
            },
            "marker": {
             "line": {
              "color": "#E5ECF6",
              "width": 0.5
             },
             "pattern": {
              "fillmode": "overlay",
              "size": 10,
              "solidity": 0.2
             }
            },
            "type": "bar"
           }
          ],
          "barpolar": [
           {
            "marker": {
             "line": {
              "color": "#E5ECF6",
              "width": 0.5
             },
             "pattern": {
              "fillmode": "overlay",
              "size": 10,
              "solidity": 0.2
             }
            },
            "type": "barpolar"
           }
          ],
          "carpet": [
           {
            "aaxis": {
             "endlinecolor": "#2a3f5f",
             "gridcolor": "white",
             "linecolor": "white",
             "minorgridcolor": "white",
             "startlinecolor": "#2a3f5f"
            },
            "baxis": {
             "endlinecolor": "#2a3f5f",
             "gridcolor": "white",
             "linecolor": "white",
             "minorgridcolor": "white",
             "startlinecolor": "#2a3f5f"
            },
            "type": "carpet"
           }
          ],
          "choropleth": [
           {
            "colorbar": {
             "outlinewidth": 0,
             "ticks": ""
            },
            "type": "choropleth"
           }
          ],
          "contour": [
           {
            "colorbar": {
             "outlinewidth": 0,
             "ticks": ""
            },
            "colorscale": [
             [
              0,
              "#0d0887"
             ],
             [
              0.1111111111111111,
              "#46039f"
             ],
             [
              0.2222222222222222,
              "#7201a8"
             ],
             [
              0.3333333333333333,
              "#9c179e"
             ],
             [
              0.4444444444444444,
              "#bd3786"
             ],
             [
              0.5555555555555556,
              "#d8576b"
             ],
             [
              0.6666666666666666,
              "#ed7953"
             ],
             [
              0.7777777777777778,
              "#fb9f3a"
             ],
             [
              0.8888888888888888,
              "#fdca26"
             ],
             [
              1,
              "#f0f921"
             ]
            ],
            "type": "contour"
           }
          ],
          "contourcarpet": [
           {
            "colorbar": {
             "outlinewidth": 0,
             "ticks": ""
            },
            "type": "contourcarpet"
           }
          ],
          "heatmap": [
           {
            "colorbar": {
             "outlinewidth": 0,
             "ticks": ""
            },
            "colorscale": [
             [
              0,
              "#0d0887"
             ],
             [
              0.1111111111111111,
              "#46039f"
             ],
             [
              0.2222222222222222,
              "#7201a8"
             ],
             [
              0.3333333333333333,
              "#9c179e"
             ],
             [
              0.4444444444444444,
              "#bd3786"
             ],
             [
              0.5555555555555556,
              "#d8576b"
             ],
             [
              0.6666666666666666,
              "#ed7953"
             ],
             [
              0.7777777777777778,
              "#fb9f3a"
             ],
             [
              0.8888888888888888,
              "#fdca26"
             ],
             [
              1,
              "#f0f921"
             ]
            ],
            "type": "heatmap"
           }
          ],
          "heatmapgl": [
           {
            "colorbar": {
             "outlinewidth": 0,
             "ticks": ""
            },
            "colorscale": [
             [
              0,
              "#0d0887"
             ],
             [
              0.1111111111111111,
              "#46039f"
             ],
             [
              0.2222222222222222,
              "#7201a8"
             ],
             [
              0.3333333333333333,
              "#9c179e"
             ],
             [
              0.4444444444444444,
              "#bd3786"
             ],
             [
              0.5555555555555556,
              "#d8576b"
             ],
             [
              0.6666666666666666,
              "#ed7953"
             ],
             [
              0.7777777777777778,
              "#fb9f3a"
             ],
             [
              0.8888888888888888,
              "#fdca26"
             ],
             [
              1,
              "#f0f921"
             ]
            ],
            "type": "heatmapgl"
           }
          ],
          "histogram": [
           {
            "marker": {
             "pattern": {
              "fillmode": "overlay",
              "size": 10,
              "solidity": 0.2
             }
            },
            "type": "histogram"
           }
          ],
          "histogram2d": [
           {
            "colorbar": {
             "outlinewidth": 0,
             "ticks": ""
            },
            "colorscale": [
             [
              0,
              "#0d0887"
             ],
             [
              0.1111111111111111,
              "#46039f"
             ],
             [
              0.2222222222222222,
              "#7201a8"
             ],
             [
              0.3333333333333333,
              "#9c179e"
             ],
             [
              0.4444444444444444,
              "#bd3786"
             ],
             [
              0.5555555555555556,
              "#d8576b"
             ],
             [
              0.6666666666666666,
              "#ed7953"
             ],
             [
              0.7777777777777778,
              "#fb9f3a"
             ],
             [
              0.8888888888888888,
              "#fdca26"
             ],
             [
              1,
              "#f0f921"
             ]
            ],
            "type": "histogram2d"
           }
          ],
          "histogram2dcontour": [
           {
            "colorbar": {
             "outlinewidth": 0,
             "ticks": ""
            },
            "colorscale": [
             [
              0,
              "#0d0887"
             ],
             [
              0.1111111111111111,
              "#46039f"
             ],
             [
              0.2222222222222222,
              "#7201a8"
             ],
             [
              0.3333333333333333,
              "#9c179e"
             ],
             [
              0.4444444444444444,
              "#bd3786"
             ],
             [
              0.5555555555555556,
              "#d8576b"
             ],
             [
              0.6666666666666666,
              "#ed7953"
             ],
             [
              0.7777777777777778,
              "#fb9f3a"
             ],
             [
              0.8888888888888888,
              "#fdca26"
             ],
             [
              1,
              "#f0f921"
             ]
            ],
            "type": "histogram2dcontour"
           }
          ],
          "mesh3d": [
           {
            "colorbar": {
             "outlinewidth": 0,
             "ticks": ""
            },
            "type": "mesh3d"
           }
          ],
          "parcoords": [
           {
            "line": {
             "colorbar": {
              "outlinewidth": 0,
              "ticks": ""
             }
            },
            "type": "parcoords"
           }
          ],
          "pie": [
           {
            "automargin": true,
            "type": "pie"
           }
          ],
          "scatter": [
           {
            "fillpattern": {
             "fillmode": "overlay",
             "size": 10,
             "solidity": 0.2
            },
            "type": "scatter"
           }
          ],
          "scatter3d": [
           {
            "line": {
             "colorbar": {
              "outlinewidth": 0,
              "ticks": ""
             }
            },
            "marker": {
             "colorbar": {
              "outlinewidth": 0,
              "ticks": ""
             }
            },
            "type": "scatter3d"
           }
          ],
          "scattercarpet": [
           {
            "marker": {
             "colorbar": {
              "outlinewidth": 0,
              "ticks": ""
             }
            },
            "type": "scattercarpet"
           }
          ],
          "scattergeo": [
           {
            "marker": {
             "colorbar": {
              "outlinewidth": 0,
              "ticks": ""
             }
            },
            "type": "scattergeo"
           }
          ],
          "scattergl": [
           {
            "marker": {
             "colorbar": {
              "outlinewidth": 0,
              "ticks": ""
             }
            },
            "type": "scattergl"
           }
          ],
          "scattermapbox": [
           {
            "marker": {
             "colorbar": {
              "outlinewidth": 0,
              "ticks": ""
             }
            },
            "type": "scattermapbox"
           }
          ],
          "scatterpolar": [
           {
            "marker": {
             "colorbar": {
              "outlinewidth": 0,
              "ticks": ""
             }
            },
            "type": "scatterpolar"
           }
          ],
          "scatterpolargl": [
           {
            "marker": {
             "colorbar": {
              "outlinewidth": 0,
              "ticks": ""
             }
            },
            "type": "scatterpolargl"
           }
          ],
          "scatterternary": [
           {
            "marker": {
             "colorbar": {
              "outlinewidth": 0,
              "ticks": ""
             }
            },
            "type": "scatterternary"
           }
          ],
          "surface": [
           {
            "colorbar": {
             "outlinewidth": 0,
             "ticks": ""
            },
            "colorscale": [
             [
              0,
              "#0d0887"
             ],
             [
              0.1111111111111111,
              "#46039f"
             ],
             [
              0.2222222222222222,
              "#7201a8"
             ],
             [
              0.3333333333333333,
              "#9c179e"
             ],
             [
              0.4444444444444444,
              "#bd3786"
             ],
             [
              0.5555555555555556,
              "#d8576b"
             ],
             [
              0.6666666666666666,
              "#ed7953"
             ],
             [
              0.7777777777777778,
              "#fb9f3a"
             ],
             [
              0.8888888888888888,
              "#fdca26"
             ],
             [
              1,
              "#f0f921"
             ]
            ],
            "type": "surface"
           }
          ],
          "table": [
           {
            "cells": {
             "fill": {
              "color": "#EBF0F8"
             },
             "line": {
              "color": "white"
             }
            },
            "header": {
             "fill": {
              "color": "#C8D4E3"
             },
             "line": {
              "color": "white"
             }
            },
            "type": "table"
           }
          ]
         },
         "layout": {
          "annotationdefaults": {
           "arrowcolor": "#2a3f5f",
           "arrowhead": 0,
           "arrowwidth": 1
          },
          "autotypenumbers": "strict",
          "coloraxis": {
           "colorbar": {
            "outlinewidth": 0,
            "ticks": ""
           }
          },
          "colorscale": {
           "diverging": [
            [
             0,
             "#8e0152"
            ],
            [
             0.1,
             "#c51b7d"
            ],
            [
             0.2,
             "#de77ae"
            ],
            [
             0.3,
             "#f1b6da"
            ],
            [
             0.4,
             "#fde0ef"
            ],
            [
             0.5,
             "#f7f7f7"
            ],
            [
             0.6,
             "#e6f5d0"
            ],
            [
             0.7,
             "#b8e186"
            ],
            [
             0.8,
             "#7fbc41"
            ],
            [
             0.9,
             "#4d9221"
            ],
            [
             1,
             "#276419"
            ]
           ],
           "sequential": [
            [
             0,
             "#0d0887"
            ],
            [
             0.1111111111111111,
             "#46039f"
            ],
            [
             0.2222222222222222,
             "#7201a8"
            ],
            [
             0.3333333333333333,
             "#9c179e"
            ],
            [
             0.4444444444444444,
             "#bd3786"
            ],
            [
             0.5555555555555556,
             "#d8576b"
            ],
            [
             0.6666666666666666,
             "#ed7953"
            ],
            [
             0.7777777777777778,
             "#fb9f3a"
            ],
            [
             0.8888888888888888,
             "#fdca26"
            ],
            [
             1,
             "#f0f921"
            ]
           ],
           "sequentialminus": [
            [
             0,
             "#0d0887"
            ],
            [
             0.1111111111111111,
             "#46039f"
            ],
            [
             0.2222222222222222,
             "#7201a8"
            ],
            [
             0.3333333333333333,
             "#9c179e"
            ],
            [
             0.4444444444444444,
             "#bd3786"
            ],
            [
             0.5555555555555556,
             "#d8576b"
            ],
            [
             0.6666666666666666,
             "#ed7953"
            ],
            [
             0.7777777777777778,
             "#fb9f3a"
            ],
            [
             0.8888888888888888,
             "#fdca26"
            ],
            [
             1,
             "#f0f921"
            ]
           ]
          },
          "colorway": [
           "#636efa",
           "#EF553B",
           "#00cc96",
           "#ab63fa",
           "#FFA15A",
           "#19d3f3",
           "#FF6692",
           "#B6E880",
           "#FF97FF",
           "#FECB52"
          ],
          "font": {
           "color": "#2a3f5f"
          },
          "geo": {
           "bgcolor": "white",
           "lakecolor": "white",
           "landcolor": "#E5ECF6",
           "showlakes": true,
           "showland": true,
           "subunitcolor": "white"
          },
          "hoverlabel": {
           "align": "left"
          },
          "hovermode": "closest",
          "mapbox": {
           "style": "light"
          },
          "paper_bgcolor": "white",
          "plot_bgcolor": "#E5ECF6",
          "polar": {
           "angularaxis": {
            "gridcolor": "white",
            "linecolor": "white",
            "ticks": ""
           },
           "bgcolor": "#E5ECF6",
           "radialaxis": {
            "gridcolor": "white",
            "linecolor": "white",
            "ticks": ""
           }
          },
          "scene": {
           "xaxis": {
            "backgroundcolor": "#E5ECF6",
            "gridcolor": "white",
            "gridwidth": 2,
            "linecolor": "white",
            "showbackground": true,
            "ticks": "",
            "zerolinecolor": "white"
           },
           "yaxis": {
            "backgroundcolor": "#E5ECF6",
            "gridcolor": "white",
            "gridwidth": 2,
            "linecolor": "white",
            "showbackground": true,
            "ticks": "",
            "zerolinecolor": "white"
           },
           "zaxis": {
            "backgroundcolor": "#E5ECF6",
            "gridcolor": "white",
            "gridwidth": 2,
            "linecolor": "white",
            "showbackground": true,
            "ticks": "",
            "zerolinecolor": "white"
           }
          },
          "shapedefaults": {
           "line": {
            "color": "#2a3f5f"
           }
          },
          "ternary": {
           "aaxis": {
            "gridcolor": "white",
            "linecolor": "white",
            "ticks": ""
           },
           "baxis": {
            "gridcolor": "white",
            "linecolor": "white",
            "ticks": ""
           },
           "bgcolor": "#E5ECF6",
           "caxis": {
            "gridcolor": "white",
            "linecolor": "white",
            "ticks": ""
           }
          },
          "title": {
           "x": 0.05
          },
          "xaxis": {
           "automargin": true,
           "gridcolor": "white",
           "linecolor": "white",
           "ticks": "",
           "title": {
            "standoff": 15
           },
           "zerolinecolor": "white",
           "zerolinewidth": 2
          },
          "yaxis": {
           "automargin": true,
           "gridcolor": "white",
           "linecolor": "white",
           "ticks": "",
           "title": {
            "standoff": 15
           },
           "zerolinecolor": "white",
           "zerolinewidth": 2
          }
         }
        },
        "title": {
         "text": "Film Production Collaboration Network"
        },
        "xaxis": {
         "showgrid": false,
         "zeroline": false
        },
        "yaxis": {
         "showgrid": false,
         "zeroline": false
        }
       }
      }
     },
     "metadata": {},
     "output_type": "display_data"
    }
   ],
   "source": [
    "# With plotly\n",
    "G = nx.Graph()\n",
    "for country in countries:\n",
    "    G.add_node(country, side=country_cold_war_side[country], size=root_film_count[country])\n",
    "\n",
    "for (c1, c2), count in collaboration_count.items():\n",
    "    G.add_edge(c1, c2, weight=count)\n",
    "\n",
    "pos = nx.spring_layout(G, seed=42, k=10, iterations=100)\n",
    "edge_x = []\n",
    "edge_y = []\n",
    "edge_weights = []\n",
    "\n",
    "for edge in G.edges():\n",
    "    x0, y0 = pos[edge[0]]\n",
    "    x1, y1 = pos[edge[1]]\n",
    "    edge_x.append(x0)\n",
    "    edge_x.append(x1)\n",
    "    edge_y.append(y0)\n",
    "    edge_y.append(y1)\n",
    "    edge_weights.append(G[edge[0]][edge[1]]['weight'])\n",
    "\n",
    "edge_trace = go.Scatter(\n",
    "    x=edge_x,\n",
    "    y=edge_y,\n",
    "    line=dict(width=0.5, color='black'),\n",
    "    hoverinfo='none',\n",
    "    mode='lines'\n",
    ")\n",
    "\n",
    "node_x = []\n",
    "node_y = []\n",
    "node_colors = []\n",
    "node_sizes = []\n",
    "\n",
    "for node in G.nodes():\n",
    "    x, y = pos[node]\n",
    "    node_x.append(x)\n",
    "    node_y.append(y)\n",
    "    if G.nodes[node]['side'] == 'Western':\n",
    "        node_colors.append('blue')\n",
    "    elif G.nodes[node]['side'] == 'Eastern':\n",
    "        node_colors.append('red')\n",
    "    else:\n",
    "        node_colors.append('grey')\n",
    "    node_sizes.append(G.nodes[node]['size'] * 0.5)\n",
    "\n",
    "node_trace = go.Scatter(\n",
    "    x=node_x,\n",
    "    y=node_y,\n",
    "    mode='markers',\n",
    "    hoverinfo='text',\n",
    "    hovertext=[node for node in G.nodes()],\n",
    "    marker=dict(\n",
    "        showscale=True,\n",
    "        colorscale='YlGnBu',\n",
    "        size=node_sizes,\n",
    "        color=node_colors,\n",
    "        colorbar=dict(\n",
    "            thickness=15,\n",
    "            title='Cold War Side',\n",
    "            xanchor='left',\n",
    "            titleside='right'\n",
    "        )\n",
    "    )\n",
    ")\n",
    "\n",
    "fig = go.Figure(data=[edge_trace, node_trace],\n",
    "                layout=go.Layout(\n",
    "                    title='Film Production Collaboration Network',\n",
    "                    showlegend=False,\n",
    "                    hovermode='closest',\n",
    "                    xaxis=dict(showgrid=False, zeroline=False),\n",
    "                    yaxis=dict(showgrid=False, zeroline=False),\n",
    "                    plot_bgcolor='white'\n",
    "                ))\n",
    "\n",
    "fig.show()\n"
   ]
  },
  {
   "cell_type": "code",
   "execution_count": 12,
   "metadata": {},
   "outputs": [],
   "source": [
    "country_coords = {\n",
    "    'United States of America': (37.0902, -95.7129),\n",
    "    'Italy': (41.8719, 12.5674),\n",
    "    'Germany': (51.1657, 10.4515),\n",
    "    'Russia': (61.5240, 105.3188),\n",
    "    'Hungary': (47.1625, 19.5033),\n",
    "    'Estonia': (58.5953, 25.0136),\n",
    "    'Ukraine': (48.3794, 31.1656),\n",
    "    'Switzerland': (46.8182, 8.2275),\n",
    "    'Puerto Rico': (18.2208, -66.5901),\n",
    "    'France': (46.6034, 1.8883),\n",
    "    'Egypt': (26.8206, 30.8025),\n",
    "    'Netherlands': (52.1326, 5.2913),\n",
    "    'Japan': (36.2048, 138.2529),\n",
    "    'United Kingdom': (55.3781, -3.4360),\n",
    "    'Hong Kong': (22.3193, 114.1694),\n",
    "    'India': (20.5937, 78.9629),\n",
    "    'Spain': (40.4637, -3.7492),\n",
    "    'Costa Rica': (9.7489, -83.7534),\n",
    "    'Vietnam': (14.0583, 108.2772),\n",
    "    'Taiwan': (23.6978, 120.9605),\n",
    "    'Australia': (-25.2744, 133.7751),\n",
    "    'Canada': (56.1304, -106.3468),\n",
    "    'Latvia': (56.8796, 24.6032),\n",
    "    'Brazil': (-14.2350, -51.9253),\n",
    "    'Turkey': (38.9637, 35.2433),\n",
    "    'Denmark': (56.2639, 9.5018),\n",
    "    'Poland': (51.9194, 19.1451),\n",
    "    'Korea': (35.9078, 127.7669),\n",
    "    'Norway': (60.4720, 8.4689),\n",
    "    'Croatia': (45.1, 15.2),\n",
    "    'Bulgaria': (42.7339, 25.4858),\n",
    "    'Austria': (47.5162, 14.5501),\n",
    "    'Philippines': (12.8797, 121.7740),\n",
    "    'Lithuania': (55.1694, 23.8813),\n",
    "    'Portugal': (39.3999, -8.2245),\n",
    "    'China': (35.8617, 104.1954),\n",
    "    'Romania': (45.9432, 24.9668),\n",
    "    'Georgia': (42.3154, 43.3569),\n",
    "    'Yugoslavia': (44.0165, 21.0059),\n",
    "    'New Zealand': (-40.9006, 174.8860),\n",
    "    'Czechoslovakia': (49.8175, 15.4729),\n",
    "    'Argentina': (-38.4161, -63.6167),\n",
    "    'Greece': (39.0742, 21.8243),\n",
    "    'South Africa': (-30.5595, 22.9375),\n",
    "    'Luxembourg': (49.8153, 6.1296),\n",
    "    'Sweden': (60.1282, 18.6435),\n",
    "    'Ireland': (53.1424, -7.6921),\n",
    "    'Colombia': (4.5709, -74.2973),\n",
    "    'Uruguay': (-32.5228, -55.7658),\n",
    "    'Belgium': (50.5039, 4.4699),\n",
    "    'Czech Republic': (49.8175, 15.4729),\n",
    "    'Bangladesh': (23.6850, 90.3563),\n",
    "    'Tunisia': (33.8869, 9.5375),\n",
    "    'Albania': (41.1533, 20.1683),\n",
    "    'Finland': (61.9241, 25.7482),\n",
    "    'Iceland': (64.9631, -19.0208),\n",
    "    'Liechtenstein': (47.1660, 9.5554),\n",
    "    'Mexico': (23.6345, -102.5528),\n",
    "    'Iran': (32.4279, 53.6880),\n",
    "    'Zimbabwe': (-19.0154, 29.1549),\n",
    "    'Nepal': (28.3949, 84.1240),\n",
    "    'Uzbekistan': (41.3775, 64.5853),\n",
    "    'Venezuela': (6.4238, -66.5897),\n",
    "    'Bosnia and Herzegovina': (43.9159, 17.6791),\n",
    "    'Cuba': (21.5218, -77.7812),\n",
    "    'Peru': (-9.1899, -75.0152),\n",
    "    'Malaysia': (4.2105, 101.9758),\n",
    "    'Pakistan': (30.3753, 69.3451),\n",
    "    'Sri Lanka': (7.8731, 80.7718),\n",
    "    'Algeria': (28.0339, 1.6596),\n",
    "    'Israel': (31.0461, 34.8516),\n",
    "    'Singapore': (1.3521, 103.8198),\n",
    "    'Morocco': (31.7917, -7.0926),\n",
    "    'Azerbaijan': (40.1431, 47.5769),\n",
    "    'Bolivia': (-16.2902, -63.5887),\n",
    "    'Cameroon': (7.3697, 12.3547),\n",
    "    'Serbia': (44.0165, 21.0059),\n",
    "    'Mali': (17.5707, -3.9962),\n",
    "    'Macedonia': (41.6086, 21.7453),\n",
    "    'Monaco': (43.7384, 7.4246),\n",
    "    'Slovakia': (48.6690, 19.6990),\n",
    "    'Senegal': (14.4974, -14.4524),\n",
    "    'Qatar': (25.2760, 51.2148),\n",
    "    'Thailand': (15.8700, 100.9925),\n",
    "    \"Côte d'Ivoire\": (7.5399, -5.5471),\n",
    "    'Belarus': (53.7098, 27.9534),\n",
    "    'Armenia': (40.0691, 45.0382),\n",
    "    'Chile': (-35.6751, -71.5430),\n",
    "    'Cambodia': (12.5657, 104.9910),\n",
    "    'Ghana': (7.9465, -1.0232),\n",
    "    'Jamaica': (18.1096, -77.2975),\n",
    "    'Slovenia': (46.1512, 14.9955),\n",
    "    'Guinea': (9.9456, -9.6966),\n",
    "    'Afghanistan': (33.9391, 67.7100),\n",
    "    'Democratic Republic of the Congo': (-4.0383, 21.7587),\n",
    "    'Indonesia': (-0.7893, 113.9213),\n",
    "    'Montenegro': (42.7087, 19.3744),\n",
    "    'Namibia': (-22.9576, 18.4904),\n",
    "    'Moldova': (47.4116, 28.3699),\n",
    "    'Panama': (8.5379, -80.7821),\n",
    "    'Burkina Faso': (12.2383, -1.5616),\n",
    "    'Aruba': (12.5211, -69.9683),\n",
    "    'Ethiopia': (9.145, 40.4897),\n",
    "    'Jordan': (30.5852, 36.2384),\n",
    "    'Kazakhstan': (48.0196, 66.9237),\n",
    "    'Nigeria': (9.0820, 8.6753),\n",
    "    'Libya': (26.3351, 17.2283),\n",
    "    'Congo': (-0.2280, 15.8277),\n",
    "    'Turkmenistan': (38.9697, 59.5563),\n",
    "    'Bhutan': (27.5142, 90.4336),\n",
    "    'Kuwait': (29.3117, 47.4818),\n",
    "    'Lebanon': (33.8547, 35.8623),\n",
    "    'Guinea-Bissau': (11.8037, -15.1804),\n",
    "    'Mauritania': (21.0079, -10.9408),\n",
    "    'Angola': (-11.2027, 17.8739),\n",
    "    'Burma': (21.9162, 95.9560),\n",
    "    'Martinique': (14.6415, -61.0242),\n",
    "    'Trinidad and Tobago': (10.6918, -61.2225),\n",
    "    'Bahrain': (26.0667, 50.5577),\n",
    "    'Syria': (34.8021, 38.9968),\n",
    "    'Kyrgyzstan': (41.2044, 74.7661),\n",
    "    'Botswana': (-22.3285, 24.6849),\n",
    "    'Zambia': (-13.1339, 27.8493),\n",
    "    'Bahamas': (25.0343, -77.3963),\n",
    "    'Papua New Guinea': (-6.3149, 143.9555),\n",
    "    'Ecuador': (-1.8312, -78.1834),\n",
    "    'Palestinian Territory': (31.9522, 35.2332)\n",
    "}\n"
   ]
  },
  {
   "cell_type": "code",
   "execution_count": 13,
   "metadata": {},
   "outputs": [
    {
     "data": {
      "application/vnd.plotly.v1+json": {
       "config": {
        "plotlyServerURL": "https://plot.ly"
       },
       "data": [
        {
         "hoverinfo": "none",
         "lat": [
          51.1657,
          41.8719,
          null,
          46.6034,
          51.1657,
          null,
          46.6034,
          41.8719,
          null,
          40.4637,
          37.0902,
          null,
          55.3781,
          37.0902,
          null,
          46.6034,
          37.0902,
          null,
          40.4637,
          55.3781,
          null,
          46.6034,
          40.4637,
          null,
          46.6034,
          55.3781,
          null,
          36.2048,
          37.0902,
          null,
          46.6034,
          51.9194,
          null,
          56.2639,
          46.6034,
          null,
          45.1,
          41.8719,
          null,
          47.5162,
          51.1657,
          null,
          56.1304,
          37.0902,
          null,
          41.8719,
          40.4637,
          null,
          56.1304,
          55.3781,
          null,
          22.3193,
          23.6978,
          null,
          -25.2744,
          37.0902,
          null,
          41.8719,
          37.0902,
          null,
          51.1657,
          40.4637,
          null,
          51.1657,
          37.0902,
          null,
          47.5162,
          37.0902,
          null,
          51.1657,
          55.3781,
          null,
          41.8719,
          55.3781,
          null,
          47.5162,
          41.8719,
          null,
          -30.5595,
          37.0902,
          null,
          53.1424,
          55.3781,
          null,
          -38.4161,
          40.4637,
          null,
          50.5039,
          46.6034,
          null,
          56.1304,
          46.6034,
          null,
          41.8719,
          47.166,
          null,
          50.5039,
          41.8719,
          null,
          52.1326,
          55.3781,
          null,
          22.3193,
          37.0902,
          null,
          46.6034,
          39.3999,
          null,
          46.6034,
          46.8182,
          null,
          51.1657,
          60.1282,
          null,
          -30.5595,
          55.3781,
          null,
          53.1424,
          37.0902,
          null,
          56.2639,
          60.1282,
          null,
          12.8797,
          37.0902,
          null,
          23.6345,
          37.0902,
          null,
          41.8719,
          23.6345,
          null,
          47.5162,
          46.6034,
          null,
          -25.2744,
          55.3781,
          null,
          -25.2744,
          -40.9006,
          null,
          46.6034,
          45.9432,
          null,
          61.524,
          48.3794,
          null,
          46.6034,
          6.4238,
          null,
          61.9241,
          60.1282,
          null,
          46.6034,
          60.1282,
          null,
          51.1657,
          46.8182,
          null,
          20.5937,
          55.3781,
          null,
          -38.4161,
          37.0902,
          null,
          36.2048,
          55.3781,
          null,
          46.6034,
          33.8869,
          null,
          39.0742,
          55.3781,
          null,
          42.3154,
          61.524,
          null,
          35.8617,
          22.3193,
          null,
          46.6034,
          61.524,
          null,
          23.6345,
          40.4637,
          null,
          56.1304,
          51.1657,
          null,
          45.1,
          37.0902,
          null,
          51.1657,
          39.3999,
          null,
          44.0165,
          37.0902,
          null,
          45.1,
          46.6034,
          null,
          40.4637,
          46.8182,
          null,
          22.3193,
          36.2048,
          null,
          46.8182,
          55.3781,
          null,
          46.8182,
          37.0902,
          null,
          51.1657,
          44.0165,
          null,
          51.1657,
          47.1625,
          null,
          41.8719,
          46.8182,
          null,
          51.1657,
          47.166,
          null,
          47.166,
          40.4637,
          null,
          46.6034,
          36.2048,
          null,
          56.2639,
          37.0902,
          null,
          60.1282,
          37.0902,
          null,
          51.1657,
          51.9194,
          null,
          61.524,
          37.0902,
          null,
          41.8719,
          61.524,
          null,
          50.5039,
          51.1657,
          null,
          -40.9006,
          37.0902,
          null,
          39.0742,
          41.8719,
          null,
          46.6034,
          23.6345,
          null,
          -25.2744,
          46.6034,
          null,
          51.1657,
          52.1326,
          null,
          53.7098,
          61.524,
          null,
          43.9159,
          44.0165,
          null,
          50.5039,
          52.1326,
          null,
          47.1625,
          37.0902,
          null,
          46.6034,
          47.1625,
          null,
          60.472,
          60.1282,
          null,
          46.6034,
          52.1326,
          null,
          52.1326,
          37.0902,
          null,
          60.1282,
          55.3781,
          null,
          56.2639,
          51.1657,
          null,
          46.6034,
          32.4279,
          null,
          49.8175,
          46.6034,
          null,
          51.1657,
          61.524,
          null,
          45.1,
          51.1657,
          null,
          51.1657,
          36.2048,
          null,
          49.8175,
          48.669,
          null,
          56.2639,
          55.3781,
          null,
          61.9241,
          51.1657,
          null,
          56.2639,
          60.472,
          null,
          46.6034,
          49.8153,
          null,
          61.9241,
          46.6034,
          null,
          46.6034,
          44.0165,
          null,
          49.8175,
          51.1657,
          null,
          50.5039,
          55.3781,
          null,
          46.6034,
          39.0742,
          null,
          -25.2744,
          51.1657,
          null,
          39.0742,
          37.0902,
          null,
          41.8719,
          44.0165,
          null,
          43.9159,
          51.1657,
          null
         ],
         "line": {
          "color": "black",
          "width": 1
         },
         "locationmode": "ISO-3",
         "lon": [
          10.4515,
          12.5674,
          null,
          1.8883,
          10.4515,
          null,
          1.8883,
          12.5674,
          null,
          -3.7492,
          -95.7129,
          null,
          -3.436,
          -95.7129,
          null,
          1.8883,
          -95.7129,
          null,
          -3.7492,
          -3.436,
          null,
          1.8883,
          -3.7492,
          null,
          1.8883,
          -3.436,
          null,
          138.2529,
          -95.7129,
          null,
          1.8883,
          19.1451,
          null,
          9.5018,
          1.8883,
          null,
          15.2,
          12.5674,
          null,
          14.5501,
          10.4515,
          null,
          -106.3468,
          -95.7129,
          null,
          12.5674,
          -3.7492,
          null,
          -106.3468,
          -3.436,
          null,
          114.1694,
          120.9605,
          null,
          133.7751,
          -95.7129,
          null,
          12.5674,
          -95.7129,
          null,
          10.4515,
          -3.7492,
          null,
          10.4515,
          -95.7129,
          null,
          14.5501,
          -95.7129,
          null,
          10.4515,
          -3.436,
          null,
          12.5674,
          -3.436,
          null,
          14.5501,
          12.5674,
          null,
          22.9375,
          -95.7129,
          null,
          -7.6921,
          -3.436,
          null,
          -63.6167,
          -3.7492,
          null,
          4.4699,
          1.8883,
          null,
          -106.3468,
          1.8883,
          null,
          12.5674,
          9.5554,
          null,
          4.4699,
          12.5674,
          null,
          5.2913,
          -3.436,
          null,
          114.1694,
          -95.7129,
          null,
          1.8883,
          -8.2245,
          null,
          1.8883,
          8.2275,
          null,
          10.4515,
          18.6435,
          null,
          22.9375,
          -3.436,
          null,
          -7.6921,
          -95.7129,
          null,
          9.5018,
          18.6435,
          null,
          121.774,
          -95.7129,
          null,
          -102.5528,
          -95.7129,
          null,
          12.5674,
          -102.5528,
          null,
          14.5501,
          1.8883,
          null,
          133.7751,
          -3.436,
          null,
          133.7751,
          174.886,
          null,
          1.8883,
          24.9668,
          null,
          105.3188,
          31.1656,
          null,
          1.8883,
          -66.5897,
          null,
          25.7482,
          18.6435,
          null,
          1.8883,
          18.6435,
          null,
          10.4515,
          8.2275,
          null,
          78.9629,
          -3.436,
          null,
          -63.6167,
          -95.7129,
          null,
          138.2529,
          -3.436,
          null,
          1.8883,
          9.5375,
          null,
          21.8243,
          -3.436,
          null,
          43.3569,
          105.3188,
          null,
          104.1954,
          114.1694,
          null,
          1.8883,
          105.3188,
          null,
          -102.5528,
          -3.7492,
          null,
          -106.3468,
          10.4515,
          null,
          15.2,
          -95.7129,
          null,
          10.4515,
          -8.2245,
          null,
          21.0059,
          -95.7129,
          null,
          15.2,
          1.8883,
          null,
          -3.7492,
          8.2275,
          null,
          114.1694,
          138.2529,
          null,
          8.2275,
          -3.436,
          null,
          8.2275,
          -95.7129,
          null,
          10.4515,
          21.0059,
          null,
          10.4515,
          19.5033,
          null,
          12.5674,
          8.2275,
          null,
          10.4515,
          9.5554,
          null,
          9.5554,
          -3.7492,
          null,
          1.8883,
          138.2529,
          null,
          9.5018,
          -95.7129,
          null,
          18.6435,
          -95.7129,
          null,
          10.4515,
          19.1451,
          null,
          105.3188,
          -95.7129,
          null,
          12.5674,
          105.3188,
          null,
          4.4699,
          10.4515,
          null,
          174.886,
          -95.7129,
          null,
          21.8243,
          12.5674,
          null,
          1.8883,
          -102.5528,
          null,
          133.7751,
          1.8883,
          null,
          10.4515,
          5.2913,
          null,
          27.9534,
          105.3188,
          null,
          17.6791,
          21.0059,
          null,
          4.4699,
          5.2913,
          null,
          19.5033,
          -95.7129,
          null,
          1.8883,
          19.5033,
          null,
          8.4689,
          18.6435,
          null,
          1.8883,
          5.2913,
          null,
          5.2913,
          -95.7129,
          null,
          18.6435,
          -3.436,
          null,
          9.5018,
          10.4515,
          null,
          1.8883,
          53.688,
          null,
          15.4729,
          1.8883,
          null,
          10.4515,
          105.3188,
          null,
          15.2,
          10.4515,
          null,
          10.4515,
          138.2529,
          null,
          15.4729,
          19.699,
          null,
          9.5018,
          -3.436,
          null,
          25.7482,
          10.4515,
          null,
          9.5018,
          8.4689,
          null,
          1.8883,
          6.1296,
          null,
          25.7482,
          1.8883,
          null,
          1.8883,
          21.0059,
          null,
          15.4729,
          10.4515,
          null,
          4.4699,
          -3.436,
          null,
          1.8883,
          21.8243,
          null,
          133.7751,
          10.4515,
          null,
          21.8243,
          -95.7129,
          null,
          12.5674,
          21.0059,
          null,
          17.6791,
          10.4515,
          null
         ],
         "mode": "lines",
         "type": "scattergeo"
        },
        {
         "hoverinfo": "text",
         "lat": [
          61.524,
          51.1657,
          41.8719,
          37.0902,
          58.5953,
          48.3794,
          46.8182,
          55.1694,
          46.6034,
          26.8206,
          55.3781,
          20.5937,
          22.3193,
          40.4637,
          9.7489,
          56.1304,
          56.8796,
          47.1625,
          36.2048,
          51.9194,
          56.2639,
          35.9078,
          45.1,
          47.5162,
          12.8797,
          39.3999,
          23.6978,
          42.3154,
          45.9432,
          -25.2744,
          -30.5595,
          49.8153,
          60.1282,
          53.1424,
          39.0742,
          -32.5228,
          -38.4161,
          50.5039,
          52.1326,
          49.8175,
          23.685,
          -40.9006,
          41.1533,
          61.9241,
          64.9631,
          47.166,
          32.4279,
          -19.0154,
          60.472,
          43.9159,
          21.5218,
          -9.1899,
          31.0461,
          41.3775,
          35.8617,
          23.6345,
          40.1431,
          -16.2902,
          -14.235,
          6.4238,
          44.0165,
          41.6086,
          43.7384,
          48.669,
          38.9637,
          14.4974,
          33.8869,
          25.276,
          53.7098,
          40.0691,
          28.0339,
          15.87,
          4.5709,
          -35.6751,
          1.3521,
          7.9465,
          31.7917,
          14.0583,
          46.1512,
          30.3753,
          42.7087,
          -22.9576,
          42.7339,
          44.0165,
          47.4116,
          12.2383,
          12.5211,
          49.8175,
          9.145,
          30.5852,
          18.2208,
          48.0196,
          -0.7893,
          -0.228,
          26.3351,
          27.5142,
          18.1096,
          21.0079,
          -11.2027,
          38.9697,
          8.5379,
          33.9391,
          14.6415,
          10.6918,
          34.8021,
          41.2044,
          -22.3285,
          9.9456,
          25.0343,
          -6.3149,
          -1.8312,
          31.9522,
          17.5707
         ],
         "locationmode": "ISO-3",
         "lon": [
          105.3188,
          10.4515,
          12.5674,
          -95.7129,
          25.0136,
          31.1656,
          8.2275,
          23.8813,
          1.8883,
          30.8025,
          -3.436,
          78.9629,
          114.1694,
          -3.7492,
          -83.7534,
          -106.3468,
          24.6032,
          19.5033,
          138.2529,
          19.1451,
          9.5018,
          127.7669,
          15.2,
          14.5501,
          121.774,
          -8.2245,
          120.9605,
          43.3569,
          24.9668,
          133.7751,
          22.9375,
          6.1296,
          18.6435,
          -7.6921,
          21.8243,
          -55.7658,
          -63.6167,
          4.4699,
          5.2913,
          15.4729,
          90.3563,
          174.886,
          20.1683,
          25.7482,
          -19.0208,
          9.5554,
          53.688,
          29.1549,
          8.4689,
          17.6791,
          -77.7812,
          -75.0152,
          34.8516,
          64.5853,
          104.1954,
          -102.5528,
          47.5769,
          -63.5887,
          -51.9253,
          -66.5897,
          21.0059,
          21.7453,
          7.4246,
          19.699,
          35.2433,
          -14.4524,
          9.5375,
          51.2148,
          27.9534,
          45.0382,
          1.6596,
          100.9925,
          -74.2973,
          -71.543,
          103.8198,
          -1.0232,
          -7.0926,
          108.2772,
          14.9955,
          69.3451,
          19.3744,
          18.4904,
          25.4858,
          21.0059,
          28.3699,
          -1.5616,
          -69.9683,
          15.4729,
          40.4897,
          36.2384,
          -66.5901,
          66.9237,
          113.9213,
          15.8277,
          17.2283,
          90.4336,
          -77.2975,
          -10.9408,
          17.8739,
          59.5563,
          -80.7821,
          67.71,
          -61.0242,
          -61.2225,
          38.9968,
          74.7661,
          24.6849,
          -9.6966,
          -77.3963,
          143.9555,
          -78.1834,
          35.2332,
          -3.9962
         ],
         "marker": {
          "color": [
           "red",
           "blue",
           "blue",
           "blue",
           "red",
           "blue",
           "blue",
           "red",
           "blue",
           "grey",
           "blue",
           "red",
           "blue",
           "blue",
           "grey",
           "blue",
           "red",
           "red",
           "red",
           "red",
           "blue",
           "blue",
           "blue",
           "blue",
           "blue",
           "blue",
           "red",
           "red",
           "red",
           "blue",
           "blue",
           "grey",
           "blue",
           "blue",
           "red",
           "grey",
           "blue",
           "blue",
           "blue",
           "red",
           "grey",
           "blue",
           "grey",
           "red",
           "blue",
           "grey",
           "grey",
           "grey",
           "blue",
           "red",
           "red",
           "blue",
           "blue",
           "blue",
           "red",
           "blue",
           "grey",
           "grey",
           "red",
           "red",
           "red",
           "blue",
           "blue",
           "red",
           "red",
           "red",
           "red",
           "grey",
           "red",
           "red",
           "red",
           "blue",
           "grey",
           "red",
           "grey",
           "grey",
           "blue",
           "red",
           "grey",
           "grey",
           "grey",
           "blue",
           "red",
           "red",
           "red",
           "grey",
           "blue",
           "red",
           "grey",
           "grey",
           "grey",
           "grey",
           "blue",
           "grey",
           "grey",
           "grey",
           "grey",
           "blue",
           "red",
           "grey",
           "grey",
           "grey",
           "grey",
           "grey",
           "grey",
           "red",
           "grey",
           "grey",
           "blue",
           "grey",
           "grey",
           "grey",
           "grey"
          ],
          "line": {
           "color": "black",
           "width": 0.5
          },
          "size": [
           52.08886637276722,
           12.698425099200294,
           18.533752992850637,
           45.38446870901983,
           4.242640687119285,
           8.366600265340756,
           4.663689526544408,
           7.54983443527075,
           18.445866745696716,
           1.6583123951777,
           20.694202086574876,
           6.442049363362563,
           8.261355820929152,
           9.137833441248533,
           0.8660254037844386,
           9.16515138991168,
           3.7080992435478315,
           3.840572873934304,
           12.649110640673518,
           5.267826876426369,
           4.58257569495584,
           2.9154759474226504,
           2.9154759474226504,
           3.640054944640259,
           3,
           2.7838821814150108,
           3.8078865529319543,
           2.598076211353316,
           2.598076211353316,
           6.324555320336759,
           2.3979157616563596,
           1.4142135623730951,
           6.892024376045111,
           2.958039891549808,
           3.5,
           0.5,
           3.122498999199199,
           4.272001872658765,
           4.301162633521313,
           4.6097722286464435,
           0.5,
           2.6457513110645907,
           0.5,
           4.663689526544408,
           1.5,
           1.5,
           2.692582403567252,
           0.8660254037844386,
           2.8722813232690143,
           2,
           1.8708286933869707,
           1.3228756555322954,
           2.449489742783178,
           2,
           3.2015621187164243,
           5.338539126015656,
           0.8660254037844386,
           0.7071067811865476,
           3.3166247903554,
           1.3228756555322954,
           3.122498999199199,
           0.7071067811865476,
           0.8660254037844386,
           1.7320508075688772,
           2.7838821814150108,
           1.5,
           1.3228756555322954,
           0.5,
           1.6583123951777,
           1.5811388300841898,
           1.3228756555322954,
           1.224744871391589,
           0.8660254037844386,
           1.4142135623730951,
           0.8660254037844386,
           0.7071067811865476,
           1.3228756555322954,
           0.8660254037844386,
           0.7071067811865476,
           0.7071067811865476,
           0.7071067811865476,
           0.8660254037844386,
           1.4142135623730951,
           0.7071067811865476,
           0.8660254037844386,
           1,
           0.5,
           1,
           0.5,
           0.5,
           1,
           1.3228756555322954,
           1,
           0.5,
           0.5,
           0.5,
           0.7071067811865476,
           1,
           0.5,
           0.7071067811865476,
           0.8660254037844386,
           0.5,
           0.5,
           0.5,
           0.5,
           0.7071067811865476,
           0.7071067811865476,
           0.5,
           0.5,
           0.5,
           0.5,
           0.5,
           0.5
          ]
         },
         "mode": "markers",
         "text": [
          "Russia",
          "Germany",
          "Italy",
          "United States of America",
          "Estonia",
          "Ukraine",
          "Switzerland",
          "Lithuania",
          "France",
          "Egypt",
          "United Kingdom",
          "India",
          "Hong Kong",
          "Spain",
          "Costa Rica",
          "Canada",
          "Latvia",
          "Hungary",
          "Japan",
          "Poland",
          "Denmark",
          "Korea",
          "Croatia",
          "Austria",
          "Philippines",
          "Portugal",
          "Taiwan",
          "Georgia",
          "Romania",
          "Australia",
          "South Africa",
          "Luxembourg",
          "Sweden",
          "Ireland",
          "Greece",
          "Uruguay",
          "Argentina",
          "Belgium",
          "Netherlands",
          "Czech Republic",
          "Bangladesh",
          "New Zealand",
          "Albania",
          "Finland",
          "Iceland",
          "Liechtenstein",
          "Iran",
          "Zimbabwe",
          "Norway",
          "Bosnia and Herzegovina",
          "Cuba",
          "Peru",
          "Israel",
          "Uzbekistan",
          "China",
          "Mexico",
          "Azerbaijan",
          "Bolivia",
          "Brazil",
          "Venezuela",
          "Serbia",
          "Macedonia",
          "Monaco",
          "Slovakia",
          "Turkey",
          "Senegal",
          "Tunisia",
          "Qatar",
          "Cote D'Ivoire",
          "Belarus",
          "Armenia",
          "Algeria",
          "Thailand",
          "Colombia",
          "Chile",
          "Singapore",
          "Ghana",
          "Morocco",
          "Vietnam",
          "Slovenia",
          "Pakistan",
          "Montenegro",
          "Namibia",
          "Bulgaria",
          "Yugoslavia",
          "Moldova",
          "Burkina Faso",
          "Aruba",
          "Czechoslovakia",
          "Ethiopia",
          "Jordan",
          "Puerto Rico",
          "Kazakhstan",
          "Indonesia",
          "Congo",
          "Libya",
          "Bhutan",
          "Jamaica",
          "Mauritania",
          "Angola",
          "Turkmenistan",
          "Panama",
          "Afghanistan",
          "Martinique",
          "Trinidad and Tobago",
          "Syria",
          "Kyrgyzstan",
          "Botswana",
          "Guinea",
          "Bahamas",
          "Papua New Guinea",
          "Ecuador",
          "Palestinian Territory",
          "Mali"
         ],
         "type": "scattergeo"
        }
       ],
       "layout": {
        "geo": {
         "landcolor": "rgb(217, 217, 217)",
         "projection": {
          "type": "natural earth"
         },
         "showcountries": true,
         "showland": true
        },
        "showlegend": false,
        "template": {
         "data": {
          "bar": [
           {
            "error_x": {
             "color": "#2a3f5f"
            },
            "error_y": {
             "color": "#2a3f5f"
            },
            "marker": {
             "line": {
              "color": "#E5ECF6",
              "width": 0.5
             },
             "pattern": {
              "fillmode": "overlay",
              "size": 10,
              "solidity": 0.2
             }
            },
            "type": "bar"
           }
          ],
          "barpolar": [
           {
            "marker": {
             "line": {
              "color": "#E5ECF6",
              "width": 0.5
             },
             "pattern": {
              "fillmode": "overlay",
              "size": 10,
              "solidity": 0.2
             }
            },
            "type": "barpolar"
           }
          ],
          "carpet": [
           {
            "aaxis": {
             "endlinecolor": "#2a3f5f",
             "gridcolor": "white",
             "linecolor": "white",
             "minorgridcolor": "white",
             "startlinecolor": "#2a3f5f"
            },
            "baxis": {
             "endlinecolor": "#2a3f5f",
             "gridcolor": "white",
             "linecolor": "white",
             "minorgridcolor": "white",
             "startlinecolor": "#2a3f5f"
            },
            "type": "carpet"
           }
          ],
          "choropleth": [
           {
            "colorbar": {
             "outlinewidth": 0,
             "ticks": ""
            },
            "type": "choropleth"
           }
          ],
          "contour": [
           {
            "colorbar": {
             "outlinewidth": 0,
             "ticks": ""
            },
            "colorscale": [
             [
              0,
              "#0d0887"
             ],
             [
              0.1111111111111111,
              "#46039f"
             ],
             [
              0.2222222222222222,
              "#7201a8"
             ],
             [
              0.3333333333333333,
              "#9c179e"
             ],
             [
              0.4444444444444444,
              "#bd3786"
             ],
             [
              0.5555555555555556,
              "#d8576b"
             ],
             [
              0.6666666666666666,
              "#ed7953"
             ],
             [
              0.7777777777777778,
              "#fb9f3a"
             ],
             [
              0.8888888888888888,
              "#fdca26"
             ],
             [
              1,
              "#f0f921"
             ]
            ],
            "type": "contour"
           }
          ],
          "contourcarpet": [
           {
            "colorbar": {
             "outlinewidth": 0,
             "ticks": ""
            },
            "type": "contourcarpet"
           }
          ],
          "heatmap": [
           {
            "colorbar": {
             "outlinewidth": 0,
             "ticks": ""
            },
            "colorscale": [
             [
              0,
              "#0d0887"
             ],
             [
              0.1111111111111111,
              "#46039f"
             ],
             [
              0.2222222222222222,
              "#7201a8"
             ],
             [
              0.3333333333333333,
              "#9c179e"
             ],
             [
              0.4444444444444444,
              "#bd3786"
             ],
             [
              0.5555555555555556,
              "#d8576b"
             ],
             [
              0.6666666666666666,
              "#ed7953"
             ],
             [
              0.7777777777777778,
              "#fb9f3a"
             ],
             [
              0.8888888888888888,
              "#fdca26"
             ],
             [
              1,
              "#f0f921"
             ]
            ],
            "type": "heatmap"
           }
          ],
          "heatmapgl": [
           {
            "colorbar": {
             "outlinewidth": 0,
             "ticks": ""
            },
            "colorscale": [
             [
              0,
              "#0d0887"
             ],
             [
              0.1111111111111111,
              "#46039f"
             ],
             [
              0.2222222222222222,
              "#7201a8"
             ],
             [
              0.3333333333333333,
              "#9c179e"
             ],
             [
              0.4444444444444444,
              "#bd3786"
             ],
             [
              0.5555555555555556,
              "#d8576b"
             ],
             [
              0.6666666666666666,
              "#ed7953"
             ],
             [
              0.7777777777777778,
              "#fb9f3a"
             ],
             [
              0.8888888888888888,
              "#fdca26"
             ],
             [
              1,
              "#f0f921"
             ]
            ],
            "type": "heatmapgl"
           }
          ],
          "histogram": [
           {
            "marker": {
             "pattern": {
              "fillmode": "overlay",
              "size": 10,
              "solidity": 0.2
             }
            },
            "type": "histogram"
           }
          ],
          "histogram2d": [
           {
            "colorbar": {
             "outlinewidth": 0,
             "ticks": ""
            },
            "colorscale": [
             [
              0,
              "#0d0887"
             ],
             [
              0.1111111111111111,
              "#46039f"
             ],
             [
              0.2222222222222222,
              "#7201a8"
             ],
             [
              0.3333333333333333,
              "#9c179e"
             ],
             [
              0.4444444444444444,
              "#bd3786"
             ],
             [
              0.5555555555555556,
              "#d8576b"
             ],
             [
              0.6666666666666666,
              "#ed7953"
             ],
             [
              0.7777777777777778,
              "#fb9f3a"
             ],
             [
              0.8888888888888888,
              "#fdca26"
             ],
             [
              1,
              "#f0f921"
             ]
            ],
            "type": "histogram2d"
           }
          ],
          "histogram2dcontour": [
           {
            "colorbar": {
             "outlinewidth": 0,
             "ticks": ""
            },
            "colorscale": [
             [
              0,
              "#0d0887"
             ],
             [
              0.1111111111111111,
              "#46039f"
             ],
             [
              0.2222222222222222,
              "#7201a8"
             ],
             [
              0.3333333333333333,
              "#9c179e"
             ],
             [
              0.4444444444444444,
              "#bd3786"
             ],
             [
              0.5555555555555556,
              "#d8576b"
             ],
             [
              0.6666666666666666,
              "#ed7953"
             ],
             [
              0.7777777777777778,
              "#fb9f3a"
             ],
             [
              0.8888888888888888,
              "#fdca26"
             ],
             [
              1,
              "#f0f921"
             ]
            ],
            "type": "histogram2dcontour"
           }
          ],
          "mesh3d": [
           {
            "colorbar": {
             "outlinewidth": 0,
             "ticks": ""
            },
            "type": "mesh3d"
           }
          ],
          "parcoords": [
           {
            "line": {
             "colorbar": {
              "outlinewidth": 0,
              "ticks": ""
             }
            },
            "type": "parcoords"
           }
          ],
          "pie": [
           {
            "automargin": true,
            "type": "pie"
           }
          ],
          "scatter": [
           {
            "fillpattern": {
             "fillmode": "overlay",
             "size": 10,
             "solidity": 0.2
            },
            "type": "scatter"
           }
          ],
          "scatter3d": [
           {
            "line": {
             "colorbar": {
              "outlinewidth": 0,
              "ticks": ""
             }
            },
            "marker": {
             "colorbar": {
              "outlinewidth": 0,
              "ticks": ""
             }
            },
            "type": "scatter3d"
           }
          ],
          "scattercarpet": [
           {
            "marker": {
             "colorbar": {
              "outlinewidth": 0,
              "ticks": ""
             }
            },
            "type": "scattercarpet"
           }
          ],
          "scattergeo": [
           {
            "marker": {
             "colorbar": {
              "outlinewidth": 0,
              "ticks": ""
             }
            },
            "type": "scattergeo"
           }
          ],
          "scattergl": [
           {
            "marker": {
             "colorbar": {
              "outlinewidth": 0,
              "ticks": ""
             }
            },
            "type": "scattergl"
           }
          ],
          "scattermapbox": [
           {
            "marker": {
             "colorbar": {
              "outlinewidth": 0,
              "ticks": ""
             }
            },
            "type": "scattermapbox"
           }
          ],
          "scatterpolar": [
           {
            "marker": {
             "colorbar": {
              "outlinewidth": 0,
              "ticks": ""
             }
            },
            "type": "scatterpolar"
           }
          ],
          "scatterpolargl": [
           {
            "marker": {
             "colorbar": {
              "outlinewidth": 0,
              "ticks": ""
             }
            },
            "type": "scatterpolargl"
           }
          ],
          "scatterternary": [
           {
            "marker": {
             "colorbar": {
              "outlinewidth": 0,
              "ticks": ""
             }
            },
            "type": "scatterternary"
           }
          ],
          "surface": [
           {
            "colorbar": {
             "outlinewidth": 0,
             "ticks": ""
            },
            "colorscale": [
             [
              0,
              "#0d0887"
             ],
             [
              0.1111111111111111,
              "#46039f"
             ],
             [
              0.2222222222222222,
              "#7201a8"
             ],
             [
              0.3333333333333333,
              "#9c179e"
             ],
             [
              0.4444444444444444,
              "#bd3786"
             ],
             [
              0.5555555555555556,
              "#d8576b"
             ],
             [
              0.6666666666666666,
              "#ed7953"
             ],
             [
              0.7777777777777778,
              "#fb9f3a"
             ],
             [
              0.8888888888888888,
              "#fdca26"
             ],
             [
              1,
              "#f0f921"
             ]
            ],
            "type": "surface"
           }
          ],
          "table": [
           {
            "cells": {
             "fill": {
              "color": "#EBF0F8"
             },
             "line": {
              "color": "white"
             }
            },
            "header": {
             "fill": {
              "color": "#C8D4E3"
             },
             "line": {
              "color": "white"
             }
            },
            "type": "table"
           }
          ]
         },
         "layout": {
          "annotationdefaults": {
           "arrowcolor": "#2a3f5f",
           "arrowhead": 0,
           "arrowwidth": 1
          },
          "autotypenumbers": "strict",
          "coloraxis": {
           "colorbar": {
            "outlinewidth": 0,
            "ticks": ""
           }
          },
          "colorscale": {
           "diverging": [
            [
             0,
             "#8e0152"
            ],
            [
             0.1,
             "#c51b7d"
            ],
            [
             0.2,
             "#de77ae"
            ],
            [
             0.3,
             "#f1b6da"
            ],
            [
             0.4,
             "#fde0ef"
            ],
            [
             0.5,
             "#f7f7f7"
            ],
            [
             0.6,
             "#e6f5d0"
            ],
            [
             0.7,
             "#b8e186"
            ],
            [
             0.8,
             "#7fbc41"
            ],
            [
             0.9,
             "#4d9221"
            ],
            [
             1,
             "#276419"
            ]
           ],
           "sequential": [
            [
             0,
             "#0d0887"
            ],
            [
             0.1111111111111111,
             "#46039f"
            ],
            [
             0.2222222222222222,
             "#7201a8"
            ],
            [
             0.3333333333333333,
             "#9c179e"
            ],
            [
             0.4444444444444444,
             "#bd3786"
            ],
            [
             0.5555555555555556,
             "#d8576b"
            ],
            [
             0.6666666666666666,
             "#ed7953"
            ],
            [
             0.7777777777777778,
             "#fb9f3a"
            ],
            [
             0.8888888888888888,
             "#fdca26"
            ],
            [
             1,
             "#f0f921"
            ]
           ],
           "sequentialminus": [
            [
             0,
             "#0d0887"
            ],
            [
             0.1111111111111111,
             "#46039f"
            ],
            [
             0.2222222222222222,
             "#7201a8"
            ],
            [
             0.3333333333333333,
             "#9c179e"
            ],
            [
             0.4444444444444444,
             "#bd3786"
            ],
            [
             0.5555555555555556,
             "#d8576b"
            ],
            [
             0.6666666666666666,
             "#ed7953"
            ],
            [
             0.7777777777777778,
             "#fb9f3a"
            ],
            [
             0.8888888888888888,
             "#fdca26"
            ],
            [
             1,
             "#f0f921"
            ]
           ]
          },
          "colorway": [
           "#636efa",
           "#EF553B",
           "#00cc96",
           "#ab63fa",
           "#FFA15A",
           "#19d3f3",
           "#FF6692",
           "#B6E880",
           "#FF97FF",
           "#FECB52"
          ],
          "font": {
           "color": "#2a3f5f"
          },
          "geo": {
           "bgcolor": "white",
           "lakecolor": "white",
           "landcolor": "#E5ECF6",
           "showlakes": true,
           "showland": true,
           "subunitcolor": "white"
          },
          "hoverlabel": {
           "align": "left"
          },
          "hovermode": "closest",
          "mapbox": {
           "style": "light"
          },
          "paper_bgcolor": "white",
          "plot_bgcolor": "#E5ECF6",
          "polar": {
           "angularaxis": {
            "gridcolor": "white",
            "linecolor": "white",
            "ticks": ""
           },
           "bgcolor": "#E5ECF6",
           "radialaxis": {
            "gridcolor": "white",
            "linecolor": "white",
            "ticks": ""
           }
          },
          "scene": {
           "xaxis": {
            "backgroundcolor": "#E5ECF6",
            "gridcolor": "white",
            "gridwidth": 2,
            "linecolor": "white",
            "showbackground": true,
            "ticks": "",
            "zerolinecolor": "white"
           },
           "yaxis": {
            "backgroundcolor": "#E5ECF6",
            "gridcolor": "white",
            "gridwidth": 2,
            "linecolor": "white",
            "showbackground": true,
            "ticks": "",
            "zerolinecolor": "white"
           },
           "zaxis": {
            "backgroundcolor": "#E5ECF6",
            "gridcolor": "white",
            "gridwidth": 2,
            "linecolor": "white",
            "showbackground": true,
            "ticks": "",
            "zerolinecolor": "white"
           }
          },
          "shapedefaults": {
           "line": {
            "color": "#2a3f5f"
           }
          },
          "ternary": {
           "aaxis": {
            "gridcolor": "white",
            "linecolor": "white",
            "ticks": ""
           },
           "baxis": {
            "gridcolor": "white",
            "linecolor": "white",
            "ticks": ""
           },
           "bgcolor": "#E5ECF6",
           "caxis": {
            "gridcolor": "white",
            "linecolor": "white",
            "ticks": ""
           }
          },
          "title": {
           "x": 0.05
          },
          "xaxis": {
           "automargin": true,
           "gridcolor": "white",
           "linecolor": "white",
           "ticks": "",
           "title": {
            "standoff": 15
           },
           "zerolinecolor": "white",
           "zerolinewidth": 2
          },
          "yaxis": {
           "automargin": true,
           "gridcolor": "white",
           "linecolor": "white",
           "ticks": "",
           "title": {
            "standoff": 15
           },
           "zerolinecolor": "white",
           "zerolinewidth": 2
          }
         }
        },
        "title": {
         "text": "Film Production Collaboration Network on a Map"
        }
       }
      }
     },
     "metadata": {},
     "output_type": "display_data"
    }
   ],
   "source": [
    "# Map country coordinates\n",
    "node_lat = []\n",
    "node_lon = []\n",
    "node_sizes = []\n",
    "node_colors = []\n",
    "for country in countries:\n",
    "    if country in country_coords:\n",
    "        node_lat.append(country_coords[country][0])\n",
    "        node_lon.append(country_coords[country][1])\n",
    "        node_sizes.append(root_film_count[country] * 0.5)  \n",
    "        # Assign color based on Cold War side\n",
    "        node_colors.append(\n",
    "            'blue' if country_cold_war_side.get(country) == 'Western' else\n",
    "            'red' if country_cold_war_side.get(country) == 'Eastern' else\n",
    "            'grey'\n",
    "        )\n",
    "\n",
    "# Prepare edges\n",
    "edge_lat = []\n",
    "edge_lon = []\n",
    "for (c1, c2), weight in collaboration_count.items():\n",
    "    if c1 in country_coords and c2 in country_coords:\n",
    "        edge_lat.extend([country_coords[c1][0], country_coords[c2][0], None])\n",
    "        edge_lon.extend([country_coords[c1][1], country_coords[c2][1], None])\n",
    "\n",
    "# Create the map\n",
    "fig = go.Figure()\n",
    "\n",
    "# Add edges\n",
    "fig.add_trace(go.Scattergeo(\n",
    "    locationmode='ISO-3',\n",
    "    lat=edge_lat,\n",
    "    lon=edge_lon,\n",
    "    mode='lines',\n",
    "    line=dict(width=1, color='black'),\n",
    "    hoverinfo='none'\n",
    "))\n",
    "\n",
    "# Add nodes\n",
    "fig.add_trace(go.Scattergeo(\n",
    "    locationmode='ISO-3',\n",
    "    lat=node_lat,\n",
    "    lon=node_lon,\n",
    "    mode='markers',\n",
    "    marker=dict(\n",
    "        size=node_sizes,\n",
    "        color=node_colors,\n",
    "        line=dict(width=0.5, color='black')\n",
    "    ),\n",
    "    text=countries,\n",
    "    hoverinfo='text'\n",
    "))\n",
    "\n",
    "# Mapbox configuration\n",
    "fig.update_layout(\n",
    "    title='Film Production Collaboration Network on a Map',\n",
    "    showlegend=False,\n",
    "    geo=dict(\n",
    "        projection_type='natural earth',\n",
    "        showland=True,\n",
    "        landcolor='rgb(217, 217, 217)',\n",
    "        showcountries=True,\n",
    "    )\n",
    ")\n",
    "\n",
    "# Show the map\n",
    "fig.show()"
   ]
  }
 ],
 "metadata": {
  "kernelspec": {
   "display_name": "ada",
   "language": "python",
   "name": "python3"
  },
  "language_info": {
   "codemirror_mode": {
    "name": "ipython",
    "version": 3
   },
   "file_extension": ".py",
   "mimetype": "text/x-python",
   "name": "python",
   "nbconvert_exporter": "python",
   "pygments_lexer": "ipython3",
   "version": "3.11.10"
  }
 },
 "nbformat": 4,
 "nbformat_minor": 2
}
