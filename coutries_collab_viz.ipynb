{
 "cells": [
  {
   "cell_type": "markdown",
   "metadata": {},
   "source": [
    "# Co-productions during the Cold War\n",
    "\n",
    "An intriguing aspect of our dataset is the representation of countries involved in producing the movies, captured in the `countries` column. Analyzing this feature can provide valuable insights into the various strategies employed to promote the ideologies at play during this period."
   ]
  },
  {
   "cell_type": "code",
   "execution_count": 8,
   "metadata": {},
   "outputs": [],
   "source": [
    "from dash import Dash, dcc, html, Input, Output\n",
    "import plotly.graph_objects as go\n",
    "import networkx as nx\n",
    "import pandas as pd\n",
    "import numpy as np\n",
    "from collab_viz import StaticGraph, StaticMap\n",
    "from collections import Counter\n",
    "from itertools import combinations\n",
    "from src.utils.helpers import convert_csv\n",
    "from src.utils.collab_viz_helpers import *\n",
    "from collab_viz import *\n",
    "from src.constants import DATA_FOLDER_PREPROCESSED"
   ]
  },
  {
   "cell_type": "code",
   "execution_count": 9,
   "metadata": {},
   "outputs": [
    {
     "data": {
      "text/html": [
       "<div>\n",
       "<style scoped>\n",
       "    .dataframe tbody tr th:only-of-type {\n",
       "        vertical-align: middle;\n",
       "    }\n",
       "\n",
       "    .dataframe tbody tr th {\n",
       "        vertical-align: top;\n",
       "    }\n",
       "\n",
       "    .dataframe thead th {\n",
       "        text-align: right;\n",
       "    }\n",
       "</style>\n",
       "<table border=\"1\" class=\"dataframe\">\n",
       "  <thead>\n",
       "    <tr style=\"text-align: right;\">\n",
       "      <th></th>\n",
       "      <th>title</th>\n",
       "      <th>languages</th>\n",
       "      <th>countries</th>\n",
       "      <th>genres</th>\n",
       "      <th>release_date</th>\n",
       "      <th>cold_war_side</th>\n",
       "      <th>character_western_bloc_representation</th>\n",
       "      <th>character_eastern_bloc_representation</th>\n",
       "      <th>western_bloc_values</th>\n",
       "      <th>eastern_bloc_values</th>\n",
       "      <th>theme</th>\n",
       "    </tr>\n",
       "  </thead>\n",
       "  <tbody>\n",
       "    <tr>\n",
       "      <th>0</th>\n",
       "      <td>$</td>\n",
       "      <td>NaN</td>\n",
       "      <td>[Russia]</td>\n",
       "      <td>[Comedy, Crime, Drama]</td>\n",
       "      <td>1971</td>\n",
       "      <td>Western</td>\n",
       "      <td>[Joe Collins, American bank security consultan...</td>\n",
       "      <td>[Dawn Divine, hooker with a heart of gold, cun...</td>\n",
       "      <td>[None]</td>\n",
       "      <td>[Resourcefulness, cleverness, individualism, h...</td>\n",
       "      <td>[None]</td>\n",
       "    </tr>\n",
       "    <tr>\n",
       "      <th>1</th>\n",
       "      <td>$1,000 on the Black</td>\n",
       "      <td>[Italian, German]</td>\n",
       "      <td>[Germany, Italy]</td>\n",
       "      <td>[Western]</td>\n",
       "      <td>1966</td>\n",
       "      <td>Eastern</td>\n",
       "      <td>[None]</td>\n",
       "      <td>[Sartana, villainous, oppressive, cruel, arche...</td>\n",
       "      <td>[Johnny Liston, justice, determination, resili...</td>\n",
       "      <td>[Justice, revenge, oppressed vs. oppressor, re...</td>\n",
       "      <td>[Terror, betrayal, familial conflict, crime, r...</td>\n",
       "    </tr>\n",
       "    <tr>\n",
       "      <th>2</th>\n",
       "      <td>$10,000 Blood Money</td>\n",
       "      <td>NaN</td>\n",
       "      <td>[Russia]</td>\n",
       "      <td>[Western, Drama]</td>\n",
       "      <td>1967</td>\n",
       "      <td>None</td>\n",
       "      <td>[None]</td>\n",
       "      <td>[None]</td>\n",
       "      <td>[None]</td>\n",
       "      <td>[None]</td>\n",
       "      <td>[crime, betrayal, revenge, bounty hunter, heis...</td>\n",
       "    </tr>\n",
       "    <tr>\n",
       "      <th>3</th>\n",
       "      <td>$100,000 for Ringo</td>\n",
       "      <td>[Italian]</td>\n",
       "      <td>[Italy]</td>\n",
       "      <td>[Western, Drama]</td>\n",
       "      <td>1965</td>\n",
       "      <td>None</td>\n",
       "      <td>[None]</td>\n",
       "      <td>[None]</td>\n",
       "      <td>[None]</td>\n",
       "      <td>[None]</td>\n",
       "      <td>[Western, Civil War, mistaken identity, treasu...</td>\n",
       "    </tr>\n",
       "    <tr>\n",
       "      <th>4</th>\n",
       "      <td>'Anna' i wampir</td>\n",
       "      <td>NaN</td>\n",
       "      <td>[Russia]</td>\n",
       "      <td>[Crime]</td>\n",
       "      <td>1982</td>\n",
       "      <td>None</td>\n",
       "      <td>[None]</td>\n",
       "      <td>[None]</td>\n",
       "      <td>[None]</td>\n",
       "      <td>[None]</td>\n",
       "      <td>[murder mystery, horror, fog, Poland, 1960s]</td>\n",
       "    </tr>\n",
       "  </tbody>\n",
       "</table>\n",
       "</div>"
      ],
      "text/plain": [
       "                 title          languages         countries  \\\n",
       "0                    $                NaN          [Russia]   \n",
       "1  $1,000 on the Black  [Italian, German]  [Germany, Italy]   \n",
       "2  $10,000 Blood Money                NaN          [Russia]   \n",
       "3   $100,000 for Ringo          [Italian]           [Italy]   \n",
       "4      'Anna' i wampir                NaN          [Russia]   \n",
       "\n",
       "                   genres  release_date cold_war_side  \\\n",
       "0  [Comedy, Crime, Drama]          1971       Western   \n",
       "1               [Western]          1966       Eastern   \n",
       "2        [Western, Drama]          1967          None   \n",
       "3        [Western, Drama]          1965          None   \n",
       "4                 [Crime]          1982          None   \n",
       "\n",
       "               character_western_bloc_representation  \\\n",
       "0  [Joe Collins, American bank security consultan...   \n",
       "1                                             [None]   \n",
       "2                                             [None]   \n",
       "3                                             [None]   \n",
       "4                                             [None]   \n",
       "\n",
       "               character_eastern_bloc_representation  \\\n",
       "0  [Dawn Divine, hooker with a heart of gold, cun...   \n",
       "1  [Sartana, villainous, oppressive, cruel, arche...   \n",
       "2                                             [None]   \n",
       "3                                             [None]   \n",
       "4                                             [None]   \n",
       "\n",
       "                                 western_bloc_values  \\\n",
       "0                                             [None]   \n",
       "1  [Johnny Liston, justice, determination, resili...   \n",
       "2                                             [None]   \n",
       "3                                             [None]   \n",
       "4                                             [None]   \n",
       "\n",
       "                                 eastern_bloc_values  \\\n",
       "0  [Resourcefulness, cleverness, individualism, h...   \n",
       "1  [Justice, revenge, oppressed vs. oppressor, re...   \n",
       "2                                             [None]   \n",
       "3                                             [None]   \n",
       "4                                             [None]   \n",
       "\n",
       "                                               theme  \n",
       "0                                             [None]  \n",
       "1  [Terror, betrayal, familial conflict, crime, r...  \n",
       "2  [crime, betrayal, revenge, bounty hunter, heis...  \n",
       "3  [Western, Civil War, mistaken identity, treasu...  \n",
       "4       [murder mystery, horror, fog, Poland, 1960s]  "
      ]
     },
     "execution_count": 9,
     "metadata": {},
     "output_type": "execute_result"
    }
   ],
   "source": [
    "movies = pd.read_csv(DATA_FOLDER_PREPROCESSED + \"preprocessed_movies.csv\")\n",
    "convert_csv(movies).head()"
   ]
  },
  {
   "cell_type": "markdown",
   "metadata": {},
   "source": [
    "A network is an effective way to visualize collaborations between countries. In this graph representation, each country is assigned to a node, with the size of the nodes proportional to the number of films the country has produced. Each node is also categorized based on the Cold War side, 'Western,' 'Eastern,' 'None,' or 'Lack of data', depending on the proportion of politically engaged movies the country has produced. Additionally, the edges between nodes represent collaborations between countries, with their thickness and transparency increasing as the number of collaborations grows."
   ]
  },
  {
   "cell_type": "code",
   "execution_count": 10,
   "metadata": {},
   "outputs": [
    {
     "data": {
      "application/vnd.plotly.v1+json": {
       "config": {
        "plotlyServerURL": "https://plot.ly"
       },
       "data": [
        {
         "hoverinfo": "none",
         "line": {
          "color": "rgba(0, 0, 0, 0.8)",
          "width": 0.13
         },
         "mode": "lines",
         "type": "scatter",
         "x": [
          -0.08449687146353646,
          -0.711777456566173,
          null
         ],
         "y": [
          0.9917633605417571,
          0.7458118699641606,
          null
         ]
        },
        {
         "hoverinfo": "none",
         "line": {
          "color": "rgba(255, 0, 0, 0.0563063063063063)",
          "width": 0.05
         },
         "mode": "lines",
         "type": "scatter",
         "x": [
          -0.08449687146353646,
          0.08476360269526695,
          null
         ],
         "y": [
          0.9917633605417571,
          0.9881856919372176,
          null
         ]
        },
        {
         "hoverinfo": "none",
         "line": {
          "color": "rgba(0, 0, 0, 0.8)",
          "width": 0.09
         },
         "mode": "lines",
         "type": "scatter",
         "x": [
          -0.08449687146353646,
          -0.058571647675385925,
          null
         ],
         "y": [
          0.9917633605417571,
          -0.2802931794383621,
          null
         ]
        },
        {
         "hoverinfo": "none",
         "line": {
          "color": "rgba(0, 0, 0, 0.8)",
          "width": 0.07
         },
         "mode": "lines",
         "type": "scatter",
         "x": [
          -0.08449687146353646,
          -0.2965092908658903,
          null
         ],
         "y": [
          0.9917633605417571,
          -0.0991134760284686,
          null
         ]
        },
        {
         "hoverinfo": "none",
         "line": {
          "color": "rgba(0, 0, 0, 0.8)",
          "width": 0.1
         },
         "mode": "lines",
         "type": "scatter",
         "x": [
          -0.08449687146353646,
          -0.4305800351364633,
          null
         ],
         "y": [
          0.9917633605417571,
          -0.5193793932098031,
          null
         ]
        },
        {
         "hoverinfo": "none",
         "line": {
          "color": "rgba(0, 0, 0, 0.8)",
          "width": 0.03
         },
         "mode": "lines",
         "type": "scatter",
         "x": [
          -0.08449687146353646,
          -0.47617966766311803,
          null
         ],
         "y": [
          0.9917633605417571,
          -0.862158824225785,
          null
         ]
        },
        {
         "hoverinfo": "none",
         "line": {
          "color": "rgba(0, 0, 0, 0.8)",
          "width": 0.06
         },
         "mode": "lines",
         "type": "scatter",
         "x": [
          -0.08449687146353646,
          -0.19753912467062237,
          null
         ],
         "y": [
          0.9917633605417571,
          0.9818034190450003,
          null
         ]
        },
        {
         "hoverinfo": "none",
         "line": {
          "color": "rgba(255, 0, 0, 0.04504504504504504)",
          "width": 0.04
         },
         "mode": "lines",
         "type": "scatter",
         "x": [
          -0.08449687146353646,
          0.9444377465272974,
          null
         ],
         "y": [
          0.9917633605417571,
          -0.09876035442748367,
          null
         ]
        },
        {
         "hoverinfo": "none",
         "line": {
          "color": "rgba(0, 0, 0, 0.8)",
          "width": 0.02
         },
         "mode": "lines",
         "type": "scatter",
         "x": [
          -0.08449687146353646,
          0.5409365664167735,
          null
         ],
         "y": [
          0.9917633605417571,
          -0.843232590310273,
          null
         ]
        },
        {
         "hoverinfo": "none",
         "line": {
          "color": "rgba(0, 0, 0, 0.8)",
          "width": 0.06
         },
         "mode": "lines",
         "type": "scatter",
         "x": [
          -0.08449687146353646,
          0.025642310306108525,
          null
         ],
         "y": [
          0.9917633605417571,
          -0.0631749834277738,
          null
         ]
        },
        {
         "hoverinfo": "none",
         "line": {
          "color": "rgba(0, 0, 0, 0.8)",
          "width": 0.01
         },
         "mode": "lines",
         "type": "scatter",
         "x": [
          -0.08449687146353646,
          -0.9642160820325939,
          null
         ],
         "y": [
          0.9917633605417571,
          -0.2315116808308409,
          null
         ]
        },
        {
         "hoverinfo": "none",
         "line": {
          "color": "rgba(0, 0, 0, 0.8)",
          "width": 0.01
         },
         "mode": "lines",
         "type": "scatter",
         "x": [
          -0.08449687146353646,
          -0.03308807086671816,
          null
         ],
         "y": [
          0.9917633605417571,
          0.9646969056123894,
          null
         ]
        },
        {
         "hoverinfo": "none",
         "line": {
          "color": "rgba(0, 0, 0, 0.8)",
          "width": 0.02
         },
         "mode": "lines",
         "type": "scatter",
         "x": [
          -0.08449687146353646,
          0.7414251724263317,
          null
         ],
         "y": [
          0.9917633605417571,
          0.6147149944140688,
          null
         ]
        },
        {
         "hoverinfo": "none",
         "line": {
          "color": "rgba(255, 0, 0, 0.01126126126126126)",
          "width": 0.01
         },
         "mode": "lines",
         "type": "scatter",
         "x": [
          -0.08449687146353646,
          -0.9558561764200529,
          null
         ],
         "y": [
          0.9917633605417571,
          0.27031409616505014,
          null
         ]
        },
        {
         "hoverinfo": "none",
         "line": {
          "color": "rgba(0, 0, 0, 0.8)",
          "width": 0.02
         },
         "mode": "lines",
         "type": "scatter",
         "x": [
          -0.08449687146353646,
          0.9379067575108215,
          null
         ],
         "y": [
          0.9917633605417571,
          -0.36973689198351467,
          null
         ]
        },
        {
         "hoverinfo": "none",
         "line": {
          "color": "rgba(0, 0, 0, 0.8)",
          "width": 0.03
         },
         "mode": "lines",
         "type": "scatter",
         "x": [
          -0.08449687146353646,
          -0.8354462776032343,
          null
         ],
         "y": [
          0.9917633605417571,
          0.41714472914525047,
          null
         ]
        },
        {
         "hoverinfo": "none",
         "line": {
          "color": "rgba(0, 0, 0, 0.8)",
          "width": 0.01
         },
         "mode": "lines",
         "type": "scatter",
         "x": [
          -0.08449687146353646,
          0.35986138391820705,
          null
         ],
         "y": [
          0.9917633605417571,
          0.8192424046592419,
          null
         ]
        },
        {
         "hoverinfo": "none",
         "line": {
          "color": "rgba(0, 0, 0, 0.8)",
          "width": 0.02
         },
         "mode": "lines",
         "type": "scatter",
         "x": [
          -0.08449687146353646,
          -0.10383356266536728,
          null
         ],
         "y": [
          0.9917633605417571,
          -0.15447104199410414,
          null
         ]
        },
        {
         "hoverinfo": "none",
         "line": {
          "color": "rgba(255, 0, 0, 0.01126126126126126)",
          "width": 0.01
         },
         "mode": "lines",
         "type": "scatter",
         "x": [
          -0.08449687146353646,
          0.30735592243766746,
          null
         ],
         "y": [
          0.9917633605417571,
          0.9056172935889462,
          null
         ]
        },
        {
         "hoverinfo": "none",
         "line": {
          "color": "rgba(255, 0, 0, 0.02252252252252252)",
          "width": 0.02
         },
         "mode": "lines",
         "type": "scatter",
         "x": [
          -0.08449687146353646,
          0.899014647267909,
          null
         ],
         "y": [
          0.9917633605417571,
          0.4767665944091181,
          null
         ]
        },
        {
         "hoverinfo": "none",
         "line": {
          "color": "rgba(0, 0, 0, 0.8)",
          "width": 0.01
         },
         "mode": "lines",
         "type": "scatter",
         "x": [
          -0.08449687146353646,
          0.2420362459456123,
          null
         ],
         "y": [
          0.9917633605417571,
          -0.9371720963876,
          null
         ]
        },
        {
         "hoverinfo": "none",
         "line": {
          "color": "rgba(0, 0, 0, 0.8)",
          "width": 0.01
         },
         "mode": "lines",
         "type": "scatter",
         "x": [
          -0.08449687146353646,
          0.7716388857369793,
          null
         ],
         "y": [
          0.9917633605417571,
          -0.6228964134754154,
          null
         ]
        },
        {
         "hoverinfo": "none",
         "line": {
          "color": "rgba(0, 0, 0, 0.8)",
          "width": 0.01
         },
         "mode": "lines",
         "type": "scatter",
         "x": [
          -0.08449687146353646,
          0.015434781666045108,
          null
         ],
         "y": [
          0.9917633605417571,
          -0.9887620488481842,
          null
         ]
        },
        {
         "hoverinfo": "none",
         "line": {
          "color": "rgba(0, 0, 0, 0.8)",
          "width": 0.01
         },
         "mode": "lines",
         "type": "scatter",
         "x": [
          -0.08449687146353646,
          0.6903005797939549,
          null
         ],
         "y": [
          0.9917633605417571,
          -0.6735435680954232,
          null
         ]
        },
        {
         "hoverinfo": "none",
         "line": {
          "color": "rgba(0, 0, 0, 0.8)",
          "width": 0.01
         },
         "mode": "lines",
         "type": "scatter",
         "x": [
          -0.08449687146353646,
          -0.7657481014382231,
          null
         ],
         "y": [
          0.9917633605417571,
          0.5773711106616564,
          null
         ]
        },
        {
         "hoverinfo": "none",
         "line": {
          "color": "rgba(0, 0, 0, 0.8)",
          "width": 0.01
         },
         "mode": "lines",
         "type": "scatter",
         "x": [
          -0.08449687146353646,
          -0.8375714180406986,
          null
         ],
         "y": [
          0.9917633605417571,
          -0.5394042446174725,
          null
         ]
        },
        {
         "hoverinfo": "none",
         "line": {
          "color": "rgba(255, 0, 0, 0.01126126126126126)",
          "width": 0.01
         },
         "mode": "lines",
         "type": "scatter",
         "x": [
          -0.08449687146353646,
          -0.031279103862171184,
          null
         ],
         "y": [
          0.9917633605417571,
          -0.9730297234678891,
          null
         ]
        },
        {
         "hoverinfo": "none",
         "line": {
          "color": "rgba(255, 0, 0, 0.01126126126126126)",
          "width": 0.01
         },
         "mode": "lines",
         "type": "scatter",
         "x": [
          -0.08449687146353646,
          -0.8839533443816736,
          null
         ],
         "y": [
          0.9917633605417571,
          -0.334096717825211,
          null
         ]
        },
        {
         "hoverinfo": "none",
         "line": {
          "color": "rgba(255, 0, 0, 0.01126126126126126)",
          "width": 0.01
         },
         "mode": "lines",
         "type": "scatter",
         "x": [
          -0.08449687146353646,
          -0.7557316017646774,
          null
         ],
         "y": [
          0.9917633605417571,
          -0.6307573947779984,
          null
         ]
        },
        {
         "hoverinfo": "none",
         "line": {
          "color": "rgba(0, 0, 255, 1.6216216216216217)",
          "width": 1.44
         },
         "mode": "lines",
         "type": "scatter",
         "x": [
          0.025642310306108525,
          -0.4305800351364633,
          null
         ],
         "y": [
          -0.0631749834277738,
          -0.5193793932098031,
          null
         ]
        },
        {
         "hoverinfo": "none",
         "line": {
          "color": "rgba(0, 0, 255, 1.9031531531531531)",
          "width": 1.69
         },
         "mode": "lines",
         "type": "scatter",
         "x": [
          0.025642310306108525,
          -0.058571647675385925,
          null
         ],
         "y": [
          -0.0631749834277738,
          -0.2802931794383621,
          null
         ]
        },
        {
         "hoverinfo": "none",
         "line": {
          "color": "rgba(0, 0, 0, 0.8)",
          "width": 0.26
         },
         "mode": "lines",
         "type": "scatter",
         "x": [
          0.025642310306108525,
          -0.550830691001996,
          null
         ],
         "y": [
          -0.0631749834277738,
          0.7246997780887199,
          null
         ]
        },
        {
         "hoverinfo": "none",
         "line": {
          "color": "rgba(0, 0, 255, 0.32657657657657657)",
          "width": 0.29
         },
         "mode": "lines",
         "type": "scatter",
         "x": [
          0.025642310306108525,
          0.015434781666045108,
          null
         ],
         "y": [
          -0.0631749834277738,
          -0.9887620488481842,
          null
         ]
        },
        {
         "hoverinfo": "none",
         "line": {
          "color": "rgba(0, 0, 255, 0.8558558558558559)",
          "width": 0.76
         },
         "mode": "lines",
         "type": "scatter",
         "x": [
          0.025642310306108525,
          -0.10383356266536728,
          null
         ],
         "y": [
          -0.0631749834277738,
          -0.15447104199410414,
          null
         ]
        },
        {
         "hoverinfo": "none",
         "line": {
          "color": "rgba(0, 0, 255, 1.15990990990991)",
          "width": 1.03
         },
         "mode": "lines",
         "type": "scatter",
         "x": [
          0.025642310306108525,
          -0.2965092908658903,
          null
         ],
         "y": [
          -0.0631749834277738,
          -0.0991134760284686,
          null
         ]
        },
        {
         "hoverinfo": "none",
         "line": {
          "color": "rgba(0, 0, 0, 0.8)",
          "width": 0.19
         },
         "mode": "lines",
         "type": "scatter",
         "x": [
          0.025642310306108525,
          -0.8354462776032343,
          null
         ],
         "y": [
          -0.0631749834277738,
          0.41714472914525047,
          null
         ]
        },
        {
         "hoverinfo": "none",
         "line": {
          "color": "rgba(0, 0, 0, 0.8)",
          "width": 0.02
         },
         "mode": "lines",
         "type": "scatter",
         "x": [
          0.025642310306108525,
          -0.9088692432875086,
          null
         ],
         "y": [
          -0.0631749834277738,
          0.08148628645705498,
          null
         ]
        },
        {
         "hoverinfo": "none",
         "line": {
          "color": "rgba(0, 0, 0, 0.8)",
          "width": 0.03
         },
         "mode": "lines",
         "type": "scatter",
         "x": [
          0.025642310306108525,
          -0.5059491471082506,
          null
         ],
         "y": [
          -0.0631749834277738,
          -0.8031537026415206,
          null
         ]
        },
        {
         "hoverinfo": "none",
         "line": {
          "color": "rgba(0, 0, 0, 0.8)",
          "width": 0.01
         },
         "mode": "lines",
         "type": "scatter",
         "x": [
          0.025642310306108525,
          0.9622669907841491,
          null
         ],
         "y": [
          -0.0631749834277738,
          0.058558090076698155,
          null
         ]
        },
        {
         "hoverinfo": "none",
         "line": {
          "color": "rgba(0, 0, 0, 0.8)",
          "width": 0.02
         },
         "mode": "lines",
         "type": "scatter",
         "x": [
          0.025642310306108525,
          0.6571521271528116,
          null
         ],
         "y": [
          -0.0631749834277738,
          -0.7400526433542927,
          null
         ]
        },
        {
         "hoverinfo": "none",
         "line": {
          "color": "rgba(0, 0, 0, 0.8)",
          "width": 0.02
         },
         "mode": "lines",
         "type": "scatter",
         "x": [
          0.025642310306108525,
          -0.6367261638869024,
          null
         ],
         "y": [
          -0.0631749834277738,
          0.7617491368598485,
          null
         ]
        },
        {
         "hoverinfo": "none",
         "line": {
          "color": "rgba(0, 0, 0, 0.8)",
          "width": 0.28
         },
         "mode": "lines",
         "type": "scatter",
         "x": [
          0.025642310306108525,
          0.7716388857369793,
          null
         ],
         "y": [
          -0.0631749834277738,
          -0.6228964134754154,
          null
         ]
        },
        {
         "hoverinfo": "none",
         "line": {
          "color": "rgba(0, 0, 0, 0.8)",
          "width": 0.04
         },
         "mode": "lines",
         "type": "scatter",
         "x": [
          0.025642310306108525,
          -0.8375714180406986,
          null
         ],
         "y": [
          -0.0631749834277738,
          -0.5394042446174725,
          null
         ]
        },
        {
         "hoverinfo": "none",
         "line": {
          "color": "rgba(0, 0, 0, 0.8)",
          "width": 0.02
         },
         "mode": "lines",
         "type": "scatter",
         "x": [
          0.025642310306108525,
          -0.9381750348849629,
          null
         ],
         "y": [
          -0.0631749834277738,
          -0.17325476661226713,
          null
         ]
        },
        {
         "hoverinfo": "none",
         "line": {
          "color": "rgba(0, 0, 0, 0.8)",
          "width": 0.01
         },
         "mode": "lines",
         "type": "scatter",
         "x": [
          0.025642310306108525,
          0.033973988595786535,
          null
         ],
         "y": [
          -0.0631749834277738,
          0.9491075697940846,
          null
         ]
        },
        {
         "hoverinfo": "none",
         "line": {
          "color": "rgba(0, 0, 0, 0.8)",
          "width": 0.01
         },
         "mode": "lines",
         "type": "scatter",
         "x": [
          0.025642310306108525,
          0.9379067575108215,
          null
         ],
         "y": [
          -0.0631749834277738,
          -0.36973689198351467,
          null
         ]
        },
        {
         "hoverinfo": "none",
         "line": {
          "color": "rgba(0, 0, 255, 0.1126126126126126)",
          "width": 0.1
         },
         "mode": "lines",
         "type": "scatter",
         "x": [
          0.025642310306108525,
          0.2420362459456123,
          null
         ],
         "y": [
          -0.0631749834277738,
          -0.9371720963876,
          null
         ]
        },
        {
         "hoverinfo": "none",
         "line": {
          "color": "rgba(0, 0, 0, 0.8)",
          "width": 0.07
         },
         "mode": "lines",
         "type": "scatter",
         "x": [
          0.025642310306108525,
          0.9558785655313029,
          null
         ],
         "y": [
          -0.0631749834277738,
          0.33563990585084297,
          null
         ]
        },
        {
         "hoverinfo": "none",
         "line": {
          "color": "rgba(0, 0, 0, 0.8)",
          "width": 0.04
         },
         "mode": "lines",
         "type": "scatter",
         "x": [
          0.025642310306108525,
          0.35986138391820705,
          null
         ],
         "y": [
          -0.0631749834277738,
          0.8192424046592419,
          null
         ]
        },
        {
         "hoverinfo": "none",
         "line": {
          "color": "rgba(0, 0, 0, 0.8)",
          "width": 0.02
         },
         "mode": "lines",
         "type": "scatter",
         "x": [
          0.025642310306108525,
          0.9859944547514741,
          null
         ],
         "y": [
          -0.0631749834277738,
          0.002069381258884614,
          null
         ]
        },
        {
         "hoverinfo": "none",
         "line": {
          "color": "rgba(0, 0, 0, 0.8)",
          "width": 0.02
         },
         "mode": "lines",
         "type": "scatter",
         "x": [
          0.025642310306108525,
          -0.9668062593660902,
          null
         ],
         "y": [
          -0.0631749834277738,
          -0.05550392029786738,
          null
         ]
        },
        {
         "hoverinfo": "none",
         "line": {
          "color": "rgba(0, 0, 0, 0.8)",
          "width": 0.09
         },
         "mode": "lines",
         "type": "scatter",
         "x": [
          0.025642310306108525,
          0.44931330872991654,
          null
         ],
         "y": [
          -0.0631749834277738,
          0.8989971765024731,
          null
         ]
        },
        {
         "hoverinfo": "none",
         "line": {
          "color": "rgba(0, 0, 0, 0.8)",
          "width": 0.1
         },
         "mode": "lines",
         "type": "scatter",
         "x": [
          0.025642310306108525,
          0.899014647267909,
          null
         ],
         "y": [
          -0.0631749834277738,
          0.4767665944091181,
          null
         ]
        },
        {
         "hoverinfo": "none",
         "line": {
          "color": "rgba(0, 0, 0, 0.8)",
          "width": 0.05
         },
         "mode": "lines",
         "type": "scatter",
         "x": [
          0.025642310306108525,
          -0.8568192023812202,
          null
         ],
         "y": [
          -0.0631749834277738,
          0.48157774126738695,
          null
         ]
        },
        {
         "hoverinfo": "none",
         "line": {
          "color": "rgba(0, 0, 0, 0.8)",
          "width": 0.08
         },
         "mode": "lines",
         "type": "scatter",
         "x": [
          0.025642310306108525,
          0.9444377465272974,
          null
         ],
         "y": [
          -0.0631749834277738,
          -0.09876035442748367,
          null
         ]
        },
        {
         "hoverinfo": "none",
         "line": {
          "color": "rgba(0, 0, 255, 0.1126126126126126)",
          "width": 0.1
         },
         "mode": "lines",
         "type": "scatter",
         "x": [
          0.025642310306108525,
          0.6838644087143524,
          null
         ],
         "y": [
          -0.0631749834277738,
          0.6893541288982742,
          null
         ]
        },
        {
         "hoverinfo": "none",
         "line": {
          "color": "rgba(0, 0, 0, 0.8)",
          "width": 0.1
         },
         "mode": "lines",
         "type": "scatter",
         "x": [
          0.025642310306108525,
          0.5409365664167735,
          null
         ],
         "y": [
          -0.0631749834277738,
          -0.843232590310273,
          null
         ]
        },
        {
         "hoverinfo": "none",
         "line": {
          "color": "rgba(0, 0, 0, 0.8)",
          "width": 0.01
         },
         "mode": "lines",
         "type": "scatter",
         "x": [
          0.025642310306108525,
          -0.2550888349257121,
          null
         ],
         "y": [
          -0.0631749834277738,
          -0.9476829298857408,
          null
         ]
        },
        {
         "hoverinfo": "none",
         "line": {
          "color": "rgba(0, 0, 255, 0.01126126126126126)",
          "width": 0.01
         },
         "mode": "lines",
         "type": "scatter",
         "x": [
          0.025642310306108525,
          -0.6129827452470004,
          null
         ],
         "y": [
          -0.0631749834277738,
          -0.7568709274775649,
          null
         ]
        },
        {
         "hoverinfo": "none",
         "line": {
          "color": "rgba(0, 0, 0, 0.8)",
          "width": 0.03
         },
         "mode": "lines",
         "type": "scatter",
         "x": [
          0.025642310306108525,
          -0.3934579638826972,
          null
         ],
         "y": [
          -0.0631749834277738,
          0.9433707045630458,
          null
         ]
        },
        {
         "hoverinfo": "none",
         "line": {
          "color": "rgba(0, 0, 0, 0.8)",
          "width": 0.06
         },
         "mode": "lines",
         "type": "scatter",
         "x": [
          0.025642310306108525,
          -0.969704119210851,
          null
         ],
         "y": [
          -0.0631749834277738,
          0.0799851940897377,
          null
         ]
        },
        {
         "hoverinfo": "none",
         "line": {
          "color": "rgba(0, 0, 0, 0.8)",
          "width": 0.03
         },
         "mode": "lines",
         "type": "scatter",
         "x": [
          0.025642310306108525,
          0.9193826860419149,
          null
         ],
         "y": [
          -0.0631749834277738,
          0.2924265011032312,
          null
         ]
        },
        {
         "hoverinfo": "none",
         "line": {
          "color": "rgba(0, 0, 255, 0.1126126126126126)",
          "width": 0.1
         },
         "mode": "lines",
         "type": "scatter",
         "x": [
          0.025642310306108525,
          -0.6936105690861178,
          null
         ],
         "y": [
          -0.0631749834277738,
          0.6556733265660122,
          null
         ]
        },
        {
         "hoverinfo": "none",
         "line": {
          "color": "rgba(0, 0, 0, 0.8)",
          "width": 0.08
         },
         "mode": "lines",
         "type": "scatter",
         "x": [
          0.025642310306108525,
          -0.47617966766311803,
          null
         ],
         "y": [
          -0.0631749834277738,
          -0.862158824225785,
          null
         ]
        },
        {
         "hoverinfo": "none",
         "line": {
          "color": "rgba(0, 0, 0, 0.8)",
          "width": 0.03
         },
         "mode": "lines",
         "type": "scatter",
         "x": [
          0.025642310306108525,
          -0.9558561764200529,
          null
         ],
         "y": [
          -0.0631749834277738,
          0.27031409616505014,
          null
         ]
        },
        {
         "hoverinfo": "none",
         "line": {
          "color": "rgba(0, 0, 0, 0.8)",
          "width": 0.01
         },
         "mode": "lines",
         "type": "scatter",
         "x": [
          0.025642310306108525,
          -0.3039469377228429,
          null
         ],
         "y": [
          -0.0631749834277738,
          -0.9061754673661192,
          null
         ]
        },
        {
         "hoverinfo": "none",
         "line": {
          "color": "rgba(0, 0, 0, 0.8)",
          "width": 0.01
         },
         "mode": "lines",
         "type": "scatter",
         "x": [
          0.025642310306108525,
          0.4689794543182668,
          null
         ],
         "y": [
          -0.0631749834277738,
          -0.8527996575152412,
          null
         ]
        },
        {
         "hoverinfo": "none",
         "line": {
          "color": "rgba(0, 0, 0, 0.8)",
          "width": 0.07
         },
         "mode": "lines",
         "type": "scatter",
         "x": [
          0.025642310306108525,
          0.7414251724263317,
          null
         ],
         "y": [
          -0.0631749834277738,
          0.6147149944140688,
          null
         ]
        },
        {
         "hoverinfo": "none",
         "line": {
          "color": "rgba(0, 0, 0, 0.8)",
          "width": 0.04
         },
         "mode": "lines",
         "type": "scatter",
         "x": [
          0.025642310306108525,
          0.9539447487709961,
          null
         ],
         "y": [
          -0.0631749834277738,
          -0.21917981952014678,
          null
         ]
        },
        {
         "hoverinfo": "none",
         "line": {
          "color": "rgba(0, 0, 0, 0.8)",
          "width": 0.01
         },
         "mode": "lines",
         "type": "scatter",
         "x": [
          0.025642310306108525,
          -0.994032215259711,
          null
         ],
         "y": [
          -0.0631749834277738,
          0.003969429099871605,
          null
         ]
        },
        {
         "hoverinfo": "none",
         "line": {
          "color": "rgba(0, 0, 0, 0.8)",
          "width": 0.08
         },
         "mode": "lines",
         "type": "scatter",
         "x": [
          0.025642310306108525,
          -0.031279103862171184,
          null
         ],
         "y": [
          -0.0631749834277738,
          -0.9730297234678891,
          null
         ]
        },
        {
         "hoverinfo": "none",
         "line": {
          "color": "rgba(0, 0, 0, 0.8)",
          "width": 0.01
         },
         "mode": "lines",
         "type": "scatter",
         "x": [
          0.025642310306108525,
          -0.8327453449312028,
          null
         ],
         "y": [
          -0.0631749834277738,
          0.5568070076938468,
          null
         ]
        },
        {
         "hoverinfo": "none",
         "line": {
          "color": "rgba(0, 0, 0, 0.8)",
          "width": 0.01
         },
         "mode": "lines",
         "type": "scatter",
         "x": [
          0.025642310306108525,
          -0.5670261818788142,
          null
         ],
         "y": [
          -0.0631749834277738,
          -0.8172972151294176,
          null
         ]
        },
        {
         "hoverinfo": "none",
         "line": {
          "color": "rgba(0, 0, 255, 0.0563063063063063)",
          "width": 0.05
         },
         "mode": "lines",
         "type": "scatter",
         "x": [
          0.025642310306108525,
          -0.9642160820325939,
          null
         ],
         "y": [
          -0.0631749834277738,
          -0.2315116808308409,
          null
         ]
        },
        {
         "hoverinfo": "none",
         "line": {
          "color": "rgba(0, 0, 0, 0.8)",
          "width": 0.02
         },
         "mode": "lines",
         "type": "scatter",
         "x": [
          0.025642310306108525,
          0.0773046820999453,
          null
         ],
         "y": [
          -0.0631749834277738,
          -0.9508952093103114,
          null
         ]
        },
        {
         "hoverinfo": "none",
         "line": {
          "color": "rgba(0, 0, 0, 0.8)",
          "width": 0.05
         },
         "mode": "lines",
         "type": "scatter",
         "x": [
          0.025642310306108525,
          -0.7315448377482627,
          null
         ],
         "y": [
          -0.0631749834277738,
          -0.7034211243057392,
          null
         ]
        },
        {
         "hoverinfo": "none",
         "line": {
          "color": "rgba(0, 0, 0, 0.8)",
          "width": 0.02
         },
         "mode": "lines",
         "type": "scatter",
         "x": [
          0.025642310306108525,
          -0.40814869730982584,
          null
         ],
         "y": [
          -0.0631749834277738,
          -0.8785887664494433,
          null
         ]
        },
        {
         "hoverinfo": "none",
         "line": {
          "color": "rgba(0, 0, 0, 0.8)",
          "width": 0.03
         },
         "mode": "lines",
         "type": "scatter",
         "x": [
          0.025642310306108525,
          0.9532835572247149,
          null
         ],
         "y": [
          -0.0631749834277738,
          -0.2880872636775998,
          null
         ]
        },
        {
         "hoverinfo": "none",
         "line": {
          "color": "rgba(0, 0, 0, 0.8)",
          "width": 0.01
         },
         "mode": "lines",
         "type": "scatter",
         "x": [
          0.025642310306108525,
          -0.7557316017646774,
          null
         ],
         "y": [
          -0.0631749834277738,
          -0.6307573947779984,
          null
         ]
        },
        {
         "hoverinfo": "none",
         "line": {
          "color": "rgba(0, 0, 0, 0.8)",
          "width": 0.01
         },
         "mode": "lines",
         "type": "scatter",
         "x": [
          0.025642310306108525,
          0.5670414917380979,
          null
         ],
         "y": [
          -0.0631749834277738,
          0.8270510204107957,
          null
         ]
        },
        {
         "hoverinfo": "none",
         "line": {
          "color": "rgba(0, 0, 0, 0.8)",
          "width": 0.01
         },
         "mode": "lines",
         "type": "scatter",
         "x": [
          0.025642310306108525,
          -0.7785382580288265,
          null
         ],
         "y": [
          -0.0631749834277738,
          -0.5693304534953558,
          null
         ]
        },
        {
         "hoverinfo": "none",
         "line": {
          "color": "rgba(0, 0, 0, 0.8)",
          "width": 0.01
         },
         "mode": "lines",
         "type": "scatter",
         "x": [
          0.025642310306108525,
          -0.711777456566173,
          null
         ],
         "y": [
          -0.0631749834277738,
          0.7458118699641606,
          null
         ]
        },
        {
         "hoverinfo": "none",
         "line": {
          "color": "rgba(0, 0, 0, 0.8)",
          "width": 0.01
         },
         "mode": "lines",
         "type": "scatter",
         "x": [
          0.025642310306108525,
          0.9071260107821375,
          null
         ],
         "y": [
          -0.0631749834277738,
          -0.45144852455161544,
          null
         ]
        },
        {
         "hoverinfo": "none",
         "line": {
          "color": "rgba(0, 0, 0, 0.8)",
          "width": 0.01
         },
         "mode": "lines",
         "type": "scatter",
         "x": [
          0.025642310306108525,
          1,
          null
         ],
         "y": [
          -0.0631749834277738,
          -0.06805497095265818,
          null
         ]
        },
        {
         "hoverinfo": "none",
         "line": {
          "color": "rgba(0, 0, 0, 0.8)",
          "width": 0.04
         },
         "mode": "lines",
         "type": "scatter",
         "x": [
          -0.4305800351364633,
          -0.14320794667505193,
          null
         ],
         "y": [
          -0.5193793932098031,
          -0.9324750610474091,
          null
         ]
        },
        {
         "hoverinfo": "none",
         "line": {
          "color": "rgba(0, 0, 255, 5.0)",
          "width": 4.44
         },
         "mode": "lines",
         "type": "scatter",
         "x": [
          -0.4305800351364633,
          -0.058571647675385925,
          null
         ],
         "y": [
          -0.5193793932098031,
          -0.2802931794383621,
          null
         ]
        },
        {
         "hoverinfo": "none",
         "line": {
          "color": "rgba(0, 0, 255, 0.13513513513513514)",
          "width": 0.12
         },
         "mode": "lines",
         "type": "scatter",
         "x": [
          -0.4305800351364633,
          -0.6936105690861178,
          null
         ],
         "y": [
          -0.5193793932098031,
          0.6556733265660122,
          null
         ]
        },
        {
         "hoverinfo": "none",
         "line": {
          "color": "rgba(0, 0, 255, 1.6666666666666665)",
          "width": 1.48
         },
         "mode": "lines",
         "type": "scatter",
         "x": [
          -0.4305800351364633,
          0.015434781666045108,
          null
         ],
         "y": [
          -0.5193793932098031,
          -0.9887620488481842,
          null
         ]
        },
        {
         "hoverinfo": "none",
         "line": {
          "color": "rgba(0, 0, 255, 1.4527027027027026)",
          "width": 1.29
         },
         "mode": "lines",
         "type": "scatter",
         "x": [
          -0.4305800351364633,
          -0.2965092908658903,
          null
         ],
         "y": [
          -0.5193793932098031,
          -0.0991134760284686,
          null
         ]
        },
        {
         "hoverinfo": "none",
         "line": {
          "color": "rgba(0, 0, 0, 0.8)",
          "width": 0.06
         },
         "mode": "lines",
         "type": "scatter",
         "x": [
          -0.4305800351364633,
          -0.550830691001996,
          null
         ],
         "y": [
          -0.5193793932098031,
          0.7246997780887199,
          null
         ]
        },
        {
         "hoverinfo": "none",
         "line": {
          "color": "rgba(0, 0, 255, 0.5968468468468469)",
          "width": 0.53
         },
         "mode": "lines",
         "type": "scatter",
         "x": [
          -0.4305800351364633,
          -0.10383356266536728,
          null
         ],
         "y": [
          -0.5193793932098031,
          -0.15447104199410414,
          null
         ]
        },
        {
         "hoverinfo": "none",
         "line": {
          "color": "rgba(0, 0, 255, 0.033783783783783786)",
          "width": 0.03
         },
         "mode": "lines",
         "type": "scatter",
         "x": [
          -0.4305800351364633,
          -0.9642160820325939,
          null
         ],
         "y": [
          -0.5193793932098031,
          -0.2315116808308409,
          null
         ]
        },
        {
         "hoverinfo": "none",
         "line": {
          "color": "rgba(0, 0, 255, 0.04504504504504504)",
          "width": 0.04
         },
         "mode": "lines",
         "type": "scatter",
         "x": [
          -0.4305800351364633,
          0.2420362459456123,
          null
         ],
         "y": [
          -0.5193793932098031,
          -0.9371720963876,
          null
         ]
        },
        {
         "hoverinfo": "none",
         "line": {
          "color": "rgba(0, 0, 0, 0.8)",
          "width": 0.07
         },
         "mode": "lines",
         "type": "scatter",
         "x": [
          -0.4305800351364633,
          -0.8568192023812202,
          null
         ],
         "y": [
          -0.5193793932098031,
          0.48157774126738695,
          null
         ]
        },
        {
         "hoverinfo": "none",
         "line": {
          "color": "rgba(0, 0, 255, 0.12387387387387387)",
          "width": 0.11
         },
         "mode": "lines",
         "type": "scatter",
         "x": [
          -0.4305800351364633,
          0.6838644087143524,
          null
         ],
         "y": [
          -0.5193793932098031,
          0.6893541288982742,
          null
         ]
        },
        {
         "hoverinfo": "none",
         "line": {
          "color": "rgba(0, 0, 0, 0.8)",
          "width": 0.03
         },
         "mode": "lines",
         "type": "scatter",
         "x": [
          -0.4305800351364633,
          -0.7315448377482627,
          null
         ],
         "y": [
          -0.5193793932098031,
          -0.7034211243057392,
          null
         ]
        },
        {
         "hoverinfo": "none",
         "line": {
          "color": "rgba(0, 0, 255, 0.0563063063063063)",
          "width": 0.05
         },
         "mode": "lines",
         "type": "scatter",
         "x": [
          -0.4305800351364633,
          -0.6129827452470004,
          null
         ],
         "y": [
          -0.5193793932098031,
          -0.7568709274775649,
          null
         ]
        },
        {
         "hoverinfo": "none",
         "line": {
          "color": "rgba(0, 0, 0, 0.8)",
          "width": 0.03
         },
         "mode": "lines",
         "type": "scatter",
         "x": [
          -0.4305800351364633,
          -0.9381750348849629,
          null
         ],
         "y": [
          -0.5193793932098031,
          -0.17325476661226713,
          null
         ]
        },
        {
         "hoverinfo": "none",
         "line": {
          "color": "rgba(0, 0, 0, 0.8)",
          "width": 0.01
         },
         "mode": "lines",
         "type": "scatter",
         "x": [
          -0.4305800351364633,
          -0.934121151070918,
          null
         ],
         "y": [
          -0.5193793932098031,
          -0.2892138210491218,
          null
         ]
        },
        {
         "hoverinfo": "none",
         "line": {
          "color": "rgba(0, 0, 0, 0.8)",
          "width": 0.03
         },
         "mode": "lines",
         "type": "scatter",
         "x": [
          -0.4305800351364633,
          0.9862581178621459,
          null
         ],
         "y": [
          -0.5193793932098031,
          -0.16213032319849258,
          null
         ]
        },
        {
         "hoverinfo": "none",
         "line": {
          "color": "rgba(0, 0, 0, 0.8)",
          "width": 0.03
         },
         "mode": "lines",
         "type": "scatter",
         "x": [
          -0.4305800351364633,
          0.6571521271528116,
          null
         ],
         "y": [
          -0.5193793932098031,
          -0.7400526433542927,
          null
         ]
        },
        {
         "hoverinfo": "none",
         "line": {
          "color": "rgba(0, 0, 0, 0.8)",
          "width": 0.02
         },
         "mode": "lines",
         "type": "scatter",
         "x": [
          -0.4305800351364633,
          0.8745971730655957,
          null
         ],
         "y": [
          -0.5193793932098031,
          -0.3168216226336203,
          null
         ]
        },
        {
         "hoverinfo": "none",
         "line": {
          "color": "rgba(0, 0, 0, 0.8)",
          "width": 0.08
         },
         "mode": "lines",
         "type": "scatter",
         "x": [
          -0.4305800351364633,
          0.7716388857369793,
          null
         ],
         "y": [
          -0.5193793932098031,
          -0.6228964134754154,
          null
         ]
        },
        {
         "hoverinfo": "none",
         "line": {
          "color": "rgba(0, 0, 0, 0.8)",
          "width": 0.05
         },
         "mode": "lines",
         "type": "scatter",
         "x": [
          -0.4305800351364633,
          -0.3934579638826972,
          null
         ],
         "y": [
          -0.5193793932098031,
          0.9433707045630458,
          null
         ]
        },
        {
         "hoverinfo": "none",
         "line": {
          "color": "rgba(0, 0, 0, 0.8)",
          "width": 0.02
         },
         "mode": "lines",
         "type": "scatter",
         "x": [
          -0.4305800351364633,
          0.8159945704387714,
          null
         ],
         "y": [
          -0.5193793932098031,
          0.4574673428003474,
          null
         ]
        },
        {
         "hoverinfo": "none",
         "line": {
          "color": "rgba(0, 0, 0, 0.8)",
          "width": 0.01
         },
         "mode": "lines",
         "type": "scatter",
         "x": [
          -0.4305800351364633,
          -0.2550888349257121,
          null
         ],
         "y": [
          -0.5193793932098031,
          -0.9476829298857408,
          null
         ]
        },
        {
         "hoverinfo": "none",
         "line": {
          "color": "rgba(0, 0, 0, 0.8)",
          "width": 0.04
         },
         "mode": "lines",
         "type": "scatter",
         "x": [
          -0.4305800351364633,
          -0.8354462776032343,
          null
         ],
         "y": [
          -0.5193793932098031,
          0.41714472914525047,
          null
         ]
        },
        {
         "hoverinfo": "none",
         "line": {
          "color": "rgba(0, 0, 0, 0.8)",
          "width": 0.04
         },
         "mode": "lines",
         "type": "scatter",
         "x": [
          -0.4305800351364633,
          0.5409365664167735,
          null
         ],
         "y": [
          -0.5193793932098031,
          -0.843232590310273,
          null
         ]
        },
        {
         "hoverinfo": "none",
         "line": {
          "color": "rgba(0, 0, 0, 0.8)",
          "width": 0.03
         },
         "mode": "lines",
         "type": "scatter",
         "x": [
          -0.4305800351364633,
          -0.03308807086671816,
          null
         ],
         "y": [
          -0.5193793932098031,
          0.9646969056123894,
          null
         ]
        },
        {
         "hoverinfo": "none",
         "line": {
          "color": "rgba(0, 0, 0, 0.8)",
          "width": 0.01
         },
         "mode": "lines",
         "type": "scatter",
         "x": [
          -0.4305800351364633,
          0.9444377465272974,
          null
         ],
         "y": [
          -0.5193793932098031,
          -0.09876035442748367,
          null
         ]
        },
        {
         "hoverinfo": "none",
         "line": {
          "color": "rgba(0, 0, 0, 0.8)",
          "width": 0.02
         },
         "mode": "lines",
         "type": "scatter",
         "x": [
          -0.4305800351364633,
          0.9558785655313029,
          null
         ],
         "y": [
          -0.5193793932098031,
          0.33563990585084297,
          null
         ]
        },
        {
         "hoverinfo": "none",
         "line": {
          "color": "rgba(0, 0, 0, 0.8)",
          "width": 0.02
         },
         "mode": "lines",
         "type": "scatter",
         "x": [
          -0.4305800351364633,
          -0.969704119210851,
          null
         ],
         "y": [
          -0.5193793932098031,
          0.0799851940897377,
          null
         ]
        },
        {
         "hoverinfo": "none",
         "line": {
          "color": "rgba(0, 0, 0, 0.8)",
          "width": 0.02
         },
         "mode": "lines",
         "type": "scatter",
         "x": [
          -0.4305800351364633,
          0.9532835572247149,
          null
         ],
         "y": [
          -0.5193793932098031,
          -0.2880872636775998,
          null
         ]
        },
        {
         "hoverinfo": "none",
         "line": {
          "color": "rgba(0, 0, 0, 0.8)",
          "width": 0.02
         },
         "mode": "lines",
         "type": "scatter",
         "x": [
          -0.4305800351364633,
          -0.9256046098122075,
          null
         ],
         "y": [
          -0.5193793932098031,
          0.40500299769825593,
          null
         ]
        },
        {
         "hoverinfo": "none",
         "line": {
          "color": "rgba(0, 0, 0, 0.8)",
          "width": 0.01
         },
         "mode": "lines",
         "type": "scatter",
         "x": [
          -0.4305800351364633,
          -0.47617966766311803,
          null
         ],
         "y": [
          -0.5193793932098031,
          -0.862158824225785,
          null
         ]
        },
        {
         "hoverinfo": "none",
         "line": {
          "color": "rgba(0, 0, 0, 0.8)",
          "width": 0.01
         },
         "mode": "lines",
         "type": "scatter",
         "x": [
          -0.4305800351364633,
          -0.5026749400664705,
          null
         ],
         "y": [
          -0.5193793932098031,
          0.8286010129585805,
          null
         ]
        },
        {
         "hoverinfo": "none",
         "line": {
          "color": "rgba(0, 0, 0, 0.8)",
          "width": 0.02
         },
         "mode": "lines",
         "type": "scatter",
         "x": [
          -0.4305800351364633,
          -0.8375714180406986,
          null
         ],
         "y": [
          -0.5193793932098031,
          -0.5394042446174725,
          null
         ]
        },
        {
         "hoverinfo": "none",
         "line": {
          "color": "rgba(0, 0, 0, 0.8)",
          "width": 0.02
         },
         "mode": "lines",
         "type": "scatter",
         "x": [
          -0.4305800351364633,
          0.9071260107821375,
          null
         ],
         "y": [
          -0.5193793932098031,
          -0.45144852455161544,
          null
         ]
        },
        {
         "hoverinfo": "none",
         "line": {
          "color": "rgba(0, 0, 0, 0.8)",
          "width": 0.07
         },
         "mode": "lines",
         "type": "scatter",
         "x": [
          -0.4305800351364633,
          0.44931330872991654,
          null
         ],
         "y": [
          -0.5193793932098031,
          0.8989971765024731,
          null
         ]
        },
        {
         "hoverinfo": "none",
         "line": {
          "color": "rgba(0, 0, 0, 0.8)",
          "width": 0.01
         },
         "mode": "lines",
         "type": "scatter",
         "x": [
          -0.4305800351364633,
          0.6489036768675414,
          null
         ],
         "y": [
          -0.5193793932098031,
          0.784400169993281,
          null
         ]
        },
        {
         "hoverinfo": "none",
         "line": {
          "color": "rgba(0, 0, 0, 0.8)",
          "width": 0.02
         },
         "mode": "lines",
         "type": "scatter",
         "x": [
          -0.4305800351364633,
          0.9808045272774422,
          null
         ],
         "y": [
          -0.5193793932098031,
          0.11616956138933034,
          null
         ]
        },
        {
         "hoverinfo": "none",
         "line": {
          "color": "rgba(0, 0, 0, 0.8)",
          "width": 0.01
         },
         "mode": "lines",
         "type": "scatter",
         "x": [
          -0.4305800351364633,
          -0.2920376368385878,
          null
         ],
         "y": [
          -0.5193793932098031,
          0.9546000697471745,
          null
         ]
        },
        {
         "hoverinfo": "none",
         "line": {
          "color": "rgba(0, 0, 0, 0.8)",
          "width": 0.02
         },
         "mode": "lines",
         "type": "scatter",
         "x": [
          -0.4305800351364633,
          0.9539447487709961,
          null
         ],
         "y": [
          -0.5193793932098031,
          -0.21917981952014678,
          null
         ]
        },
        {
         "hoverinfo": "none",
         "line": {
          "color": "rgba(0, 0, 0, 0.8)",
          "width": 0.01
         },
         "mode": "lines",
         "type": "scatter",
         "x": [
          -0.4305800351364633,
          -0.7798406168896717,
          null
         ],
         "y": [
          -0.5193793932098031,
          0.6585296604646206,
          null
         ]
        },
        {
         "hoverinfo": "none",
         "line": {
          "color": "rgba(0, 0, 0, 0.8)",
          "width": 0.02
         },
         "mode": "lines",
         "type": "scatter",
         "x": [
          -0.4305800351364633,
          0.5288639776130931,
          null
         ],
         "y": [
          -0.5193793932098031,
          -0.767773376332571,
          null
         ]
        },
        {
         "hoverinfo": "none",
         "line": {
          "color": "rgba(0, 0, 0, 0.8)",
          "width": 0.01
         },
         "mode": "lines",
         "type": "scatter",
         "x": [
          -0.4305800351364633,
          0.35986138391820705,
          null
         ],
         "y": [
          -0.5193793932098031,
          0.8192424046592419,
          null
         ]
        },
        {
         "hoverinfo": "none",
         "line": {
          "color": "rgba(0, 0, 0, 0.8)",
          "width": 0.01
         },
         "mode": "lines",
         "type": "scatter",
         "x": [
          -0.4305800351364633,
          0.7414251724263317,
          null
         ],
         "y": [
          -0.5193793932098031,
          0.6147149944140688,
          null
         ]
        },
        {
         "hoverinfo": "none",
         "line": {
          "color": "rgba(0, 0, 0, 0.8)",
          "width": 0.01
         },
         "mode": "lines",
         "type": "scatter",
         "x": [
          -0.4305800351364633,
          0.9859944547514741,
          null
         ],
         "y": [
          -0.5193793932098031,
          0.002069381258884614,
          null
         ]
        },
        {
         "hoverinfo": "none",
         "line": {
          "color": "rgba(0, 0, 0, 0.8)",
          "width": 0.01
         },
         "mode": "lines",
         "type": "scatter",
         "x": [
          -0.4305800351364633,
          -0.5670261818788142,
          null
         ],
         "y": [
          -0.5193793932098031,
          -0.8172972151294176,
          null
         ]
        },
        {
         "hoverinfo": "none",
         "line": {
          "color": "rgba(0, 0, 0, 0.8)",
          "width": 0.01
         },
         "mode": "lines",
         "type": "scatter",
         "x": [
          -0.4305800351364633,
          -0.40814869730982584,
          null
         ],
         "y": [
          -0.5193793932098031,
          -0.8785887664494433,
          null
         ]
        },
        {
         "hoverinfo": "none",
         "line": {
          "color": "rgba(0, 0, 0, 0.8)",
          "width": 0.01
         },
         "mode": "lines",
         "type": "scatter",
         "x": [
          -0.4305800351364633,
          -0.6367261638869024,
          null
         ],
         "y": [
          -0.5193793932098031,
          0.7617491368598485,
          null
         ]
        },
        {
         "hoverinfo": "none",
         "line": {
          "color": "rgba(0, 0, 0, 0.8)",
          "width": 0.01
         },
         "mode": "lines",
         "type": "scatter",
         "x": [
          -0.4305800351364633,
          0.14096749701778885,
          null
         ],
         "y": [
          -0.5193793932098031,
          -0.9535734057184455,
          null
         ]
        },
        {
         "hoverinfo": "none",
         "line": {
          "color": "rgba(0, 0, 0, 0.8)",
          "width": 0.01
         },
         "mode": "lines",
         "type": "scatter",
         "x": [
          -0.4305800351364633,
          0.899014647267909,
          null
         ],
         "y": [
          -0.5193793932098031,
          0.4767665944091181,
          null
         ]
        },
        {
         "hoverinfo": "none",
         "line": {
          "color": "rgba(0, 0, 0, 0.8)",
          "width": 0.01
         },
         "mode": "lines",
         "type": "scatter",
         "x": [
          -0.4305800351364633,
          -0.711777456566173,
          null
         ],
         "y": [
          -0.5193793932098031,
          0.7458118699641606,
          null
         ]
        },
        {
         "hoverinfo": "none",
         "line": {
          "color": "rgba(0, 0, 0, 0.8)",
          "width": 0.01
         },
         "mode": "lines",
         "type": "scatter",
         "x": [
          -0.4305800351364633,
          -0.994032215259711,
          null
         ],
         "y": [
          -0.5193793932098031,
          0.003969429099871605,
          null
         ]
        },
        {
         "hoverinfo": "none",
         "line": {
          "color": "rgba(0, 0, 0, 0.8)",
          "width": 0.02
         },
         "mode": "lines",
         "type": "scatter",
         "x": [
          -0.2965092908658903,
          -0.9346802511284125,
          null
         ],
         "y": [
          -0.0991134760284686,
          0.21466341464048153,
          null
         ]
        },
        {
         "hoverinfo": "none",
         "line": {
          "color": "rgba(0, 0, 255, 1.2725225225225225)",
          "width": 1.1300000000000001
         },
         "mode": "lines",
         "type": "scatter",
         "x": [
          -0.2965092908658903,
          -0.058571647675385925,
          null
         ],
         "y": [
          -0.0991134760284686,
          -0.2802931794383621,
          null
         ]
        },
        {
         "hoverinfo": "none",
         "line": {
          "color": "rgba(0, 0, 255, 4.63963963963964)",
          "width": 4.12
         },
         "mode": "lines",
         "type": "scatter",
         "x": [
          -0.2965092908658903,
          -0.10383356266536728,
          null
         ],
         "y": [
          -0.0991134760284686,
          -0.15447104199410414,
          null
         ]
        },
        {
         "hoverinfo": "none",
         "line": {
          "color": "rgba(0, 0, 255, 0.4617117117117117)",
          "width": 0.41000000000000003
         },
         "mode": "lines",
         "type": "scatter",
         "x": [
          -0.2965092908658903,
          0.015434781666045108,
          null
         ],
         "y": [
          -0.0991134760284686,
          -0.9887620488481842,
          null
         ]
        },
        {
         "hoverinfo": "none",
         "line": {
          "color": "rgba(0, 0, 0, 0.8)",
          "width": 0.77
         },
         "mode": "lines",
         "type": "scatter",
         "x": [
          -0.2965092908658903,
          -0.47617966766311803,
          null
         ],
         "y": [
          -0.0991134760284686,
          -0.862158824225785,
          null
         ]
        },
        {
         "hoverinfo": "none",
         "line": {
          "color": "rgba(0, 0, 255, 1.3063063063063063)",
          "width": 1.16
         },
         "mode": "lines",
         "type": "scatter",
         "x": [
          -0.2965092908658903,
          0.2420362459456123,
          null
         ],
         "y": [
          -0.0991134760284686,
          -0.9371720963876,
          null
         ]
        },
        {
         "hoverinfo": "none",
         "line": {
          "color": "rgba(0, 0, 255, 0.3490990990990991)",
          "width": 0.31
         },
         "mode": "lines",
         "type": "scatter",
         "x": [
          -0.2965092908658903,
          -0.9642160820325939,
          null
         ],
         "y": [
          -0.0991134760284686,
          -0.2315116808308409,
          null
         ]
        },
        {
         "hoverinfo": "none",
         "line": {
          "color": "rgba(0, 0, 0, 0.8)",
          "width": 0.11
         },
         "mode": "lines",
         "type": "scatter",
         "x": [
          -0.2965092908658903,
          -0.550830691001996,
          null
         ],
         "y": [
          -0.0991134760284686,
          0.7246997780887199,
          null
         ]
        },
        {
         "hoverinfo": "none",
         "line": {
          "color": "rgba(0, 0, 0, 0.8)",
          "width": 0.15
         },
         "mode": "lines",
         "type": "scatter",
         "x": [
          -0.2965092908658903,
          -0.5059491471082506,
          null
         ],
         "y": [
          -0.0991134760284686,
          -0.8031537026415206,
          null
         ]
        },
        {
         "hoverinfo": "none",
         "line": {
          "color": "rgba(0, 0, 0, 0.8)",
          "width": 0.03
         },
         "mode": "lines",
         "type": "scatter",
         "x": [
          -0.2965092908658903,
          0.9539447487709961,
          null
         ],
         "y": [
          -0.0991134760284686,
          -0.21917981952014678,
          null
         ]
        },
        {
         "hoverinfo": "none",
         "line": {
          "color": "rgba(0, 0, 0, 0.8)",
          "width": 0.03
         },
         "mode": "lines",
         "type": "scatter",
         "x": [
          -0.2965092908658903,
          0.9859944547514741,
          null
         ],
         "y": [
          -0.0991134760284686,
          0.002069381258884614,
          null
         ]
        },
        {
         "hoverinfo": "none",
         "line": {
          "color": "rgba(0, 0, 0, 0.8)",
          "width": 0.23
         },
         "mode": "lines",
         "type": "scatter",
         "x": [
          -0.2965092908658903,
          -0.03308807086671816,
          null
         ],
         "y": [
          -0.0991134760284686,
          0.9646969056123894,
          null
         ]
        },
        {
         "hoverinfo": "none",
         "line": {
          "color": "rgba(0, 0, 0, 0.8)",
          "width": 0.01
         },
         "mode": "lines",
         "type": "scatter",
         "x": [
          -0.2965092908658903,
          -0.9558561764200529,
          null
         ],
         "y": [
          -0.0991134760284686,
          0.27031409616505014,
          null
         ]
        },
        {
         "hoverinfo": "none",
         "line": {
          "color": "rgba(0, 0, 0, 0.8)",
          "width": 0.15
         },
         "mode": "lines",
         "type": "scatter",
         "x": [
          -0.2965092908658903,
          -0.6367261638869024,
          null
         ],
         "y": [
          -0.0991134760284686,
          0.7617491368598485,
          null
         ]
        },
        {
         "hoverinfo": "none",
         "line": {
          "color": "rgba(0, 0, 0, 0.8)",
          "width": 0.22
         },
         "mode": "lines",
         "type": "scatter",
         "x": [
          -0.2965092908658903,
          0.14096749701778885,
          null
         ],
         "y": [
          -0.0991134760284686,
          -0.9535734057184455,
          null
         ]
        },
        {
         "hoverinfo": "none",
         "line": {
          "color": "rgba(0, 0, 255, 0.4391891891891892)",
          "width": 0.39
         },
         "mode": "lines",
         "type": "scatter",
         "x": [
          -0.2965092908658903,
          -0.6129827452470004,
          null
         ],
         "y": [
          -0.0991134760284686,
          -0.7568709274775649,
          null
         ]
        },
        {
         "hoverinfo": "none",
         "line": {
          "color": "rgba(0, 0, 0, 0.8)",
          "width": 0.04
         },
         "mode": "lines",
         "type": "scatter",
         "x": [
          -0.2965092908658903,
          0.6571521271528116,
          null
         ],
         "y": [
          -0.0991134760284686,
          -0.7400526433542927,
          null
         ]
        },
        {
         "hoverinfo": "none",
         "line": {
          "color": "rgba(0, 0, 0, 0.8)",
          "width": 0.01
         },
         "mode": "lines",
         "type": "scatter",
         "x": [
          -0.2965092908658903,
          -0.7557316017646774,
          null
         ],
         "y": [
          -0.0991134760284686,
          -0.6307573947779984,
          null
         ]
        },
        {
         "hoverinfo": "none",
         "line": {
          "color": "rgba(0, 0, 0, 0.8)",
          "width": 0.08
         },
         "mode": "lines",
         "type": "scatter",
         "x": [
          -0.2965092908658903,
          -0.9256046098122075,
          null
         ],
         "y": [
          -0.0991134760284686,
          0.40500299769825593,
          null
         ]
        },
        {
         "hoverinfo": "none",
         "line": {
          "color": "rgba(0, 0, 0, 0.8)",
          "width": 0.04
         },
         "mode": "lines",
         "type": "scatter",
         "x": [
          -0.2965092908658903,
          0.9532835572247149,
          null
         ],
         "y": [
          -0.0991134760284686,
          -0.2880872636775998,
          null
         ]
        },
        {
         "hoverinfo": "none",
         "line": {
          "color": "rgba(0, 0, 0, 0.8)",
          "width": 0.02
         },
         "mode": "lines",
         "type": "scatter",
         "x": [
          -0.2965092908658903,
          -0.5670261818788142,
          null
         ],
         "y": [
          -0.0991134760284686,
          -0.8172972151294176,
          null
         ]
        },
        {
         "hoverinfo": "none",
         "line": {
          "color": "rgba(0, 0, 255, 0.1126126126126126)",
          "width": 0.1
         },
         "mode": "lines",
         "type": "scatter",
         "x": [
          -0.2965092908658903,
          -0.6936105690861178,
          null
         ],
         "y": [
          -0.0991134760284686,
          0.6556733265660122,
          null
         ]
        },
        {
         "hoverinfo": "none",
         "line": {
          "color": "rgba(0, 0, 0, 0.8)",
          "width": 0.1
         },
         "mode": "lines",
         "type": "scatter",
         "x": [
          -0.2965092908658903,
          0.44931330872991654,
          null
         ],
         "y": [
          -0.0991134760284686,
          0.8989971765024731,
          null
         ]
        },
        {
         "hoverinfo": "none",
         "line": {
          "color": "rgba(0, 0, 0, 0.8)",
          "width": 0.02
         },
         "mode": "lines",
         "type": "scatter",
         "x": [
          -0.2965092908658903,
          -0.3634956926427016,
          null
         ],
         "y": [
          -0.0991134760284686,
          -0.9287158265147373,
          null
         ]
        },
        {
         "hoverinfo": "none",
         "line": {
          "color": "rgba(0, 0, 0, 0.8)",
          "width": 0.09
         },
         "mode": "lines",
         "type": "scatter",
         "x": [
          -0.2965092908658903,
          0.7716388857369793,
          null
         ],
         "y": [
          -0.0991134760284686,
          -0.6228964134754154,
          null
         ]
        },
        {
         "hoverinfo": "none",
         "line": {
          "color": "rgba(0, 0, 0, 0.8)",
          "width": 0.03
         },
         "mode": "lines",
         "type": "scatter",
         "x": [
          -0.2965092908658903,
          -0.9088692432875086,
          null
         ],
         "y": [
          -0.0991134760284686,
          0.08148628645705498,
          null
         ]
        },
        {
         "hoverinfo": "none",
         "line": {
          "color": "rgba(0, 0, 0, 0.8)",
          "width": 0.08
         },
         "mode": "lines",
         "type": "scatter",
         "x": [
          -0.2965092908658903,
          -0.8354462776032343,
          null
         ],
         "y": [
          -0.0991134760284686,
          0.41714472914525047,
          null
         ]
        },
        {
         "hoverinfo": "none",
         "line": {
          "color": "rgba(0, 0, 0, 0.8)",
          "width": 0.07
         },
         "mode": "lines",
         "type": "scatter",
         "x": [
          -0.2965092908658903,
          -0.969704119210851,
          null
         ],
         "y": [
          -0.0991134760284686,
          0.0799851940897377,
          null
         ]
        },
        {
         "hoverinfo": "none",
         "line": {
          "color": "rgba(0, 0, 0, 0.8)",
          "width": 0.01
         },
         "mode": "lines",
         "type": "scatter",
         "x": [
          -0.2965092908658903,
          0.30735592243766746,
          null
         ],
         "y": [
          -0.0991134760284686,
          0.9056172935889462,
          null
         ]
        },
        {
         "hoverinfo": "none",
         "line": {
          "color": "rgba(0, 0, 0, 0.8)",
          "width": 0.02
         },
         "mode": "lines",
         "type": "scatter",
         "x": [
          -0.2965092908658903,
          0.7414251724263317,
          null
         ],
         "y": [
          -0.0991134760284686,
          0.6147149944140688,
          null
         ]
        },
        {
         "hoverinfo": "none",
         "line": {
          "color": "rgba(0, 0, 0, 0.8)",
          "width": 0.01
         },
         "mode": "lines",
         "type": "scatter",
         "x": [
          -0.2965092908658903,
          -0.14320794667505193,
          null
         ],
         "y": [
          -0.0991134760284686,
          -0.9324750610474091,
          null
         ]
        },
        {
         "hoverinfo": "none",
         "line": {
          "color": "rgba(0, 0, 0, 0.8)",
          "width": 0.07
         },
         "mode": "lines",
         "type": "scatter",
         "x": [
          -0.2965092908658903,
          -0.19246170648878455,
          null
         ],
         "y": [
          -0.0991134760284686,
          -0.96978268853147,
          null
         ]
        },
        {
         "hoverinfo": "none",
         "line": {
          "color": "rgba(0, 0, 0, 0.8)",
          "width": 0.02
         },
         "mode": "lines",
         "type": "scatter",
         "x": [
          -0.2965092908658903,
          -0.8327453449312028,
          null
         ],
         "y": [
          -0.0991134760284686,
          0.5568070076938468,
          null
         ]
        },
        {
         "hoverinfo": "none",
         "line": {
          "color": "rgba(0, 0, 0, 0.8)",
          "width": 0.02
         },
         "mode": "lines",
         "type": "scatter",
         "x": [
          -0.2965092908658903,
          0.7394292093099564,
          null
         ],
         "y": [
          -0.0991134760284686,
          0.7083009901197292,
          null
         ]
        },
        {
         "hoverinfo": "none",
         "line": {
          "color": "rgba(0, 0, 0, 0.8)",
          "width": 0.05
         },
         "mode": "lines",
         "type": "scatter",
         "x": [
          -0.2965092908658903,
          0.899014647267909,
          null
         ],
         "y": [
          -0.0991134760284686,
          0.4767665944091181,
          null
         ]
        },
        {
         "hoverinfo": "none",
         "line": {
          "color": "rgba(0, 0, 0, 0.8)",
          "width": 0.1
         },
         "mode": "lines",
         "type": "scatter",
         "x": [
          -0.2965092908658903,
          0.5409365664167735,
          null
         ],
         "y": [
          -0.0991134760284686,
          -0.843232590310273,
          null
         ]
        },
        {
         "hoverinfo": "none",
         "line": {
          "color": "rgba(0, 0, 0, 0.8)",
          "width": 0.01
         },
         "mode": "lines",
         "type": "scatter",
         "x": [
          -0.2965092908658903,
          -0.3039469377228429,
          null
         ],
         "y": [
          -0.0991134760284686,
          -0.9061754673661192,
          null
         ]
        },
        {
         "hoverinfo": "none",
         "line": {
          "color": "rgba(0, 0, 0, 0.8)",
          "width": 0.01
         },
         "mode": "lines",
         "type": "scatter",
         "x": [
          -0.2965092908658903,
          0.4689794543182668,
          null
         ],
         "y": [
          -0.0991134760284686,
          -0.8527996575152412,
          null
         ]
        },
        {
         "hoverinfo": "none",
         "line": {
          "color": "rgba(0, 0, 0, 0.8)",
          "width": 0.02
         },
         "mode": "lines",
         "type": "scatter",
         "x": [
          -0.2965092908658903,
          0.9071260107821375,
          null
         ],
         "y": [
          -0.0991134760284686,
          -0.45144852455161544,
          null
         ]
        },
        {
         "hoverinfo": "none",
         "line": {
          "color": "rgba(0, 0, 0, 0.8)",
          "width": 0.01
         },
         "mode": "lines",
         "type": "scatter",
         "x": [
          -0.2965092908658903,
          0.9444377465272974,
          null
         ],
         "y": [
          -0.0991134760284686,
          -0.09876035442748367,
          null
         ]
        },
        {
         "hoverinfo": "none",
         "line": {
          "color": "rgba(0, 0, 0, 0.8)",
          "width": 0.04
         },
         "mode": "lines",
         "type": "scatter",
         "x": [
          -0.2965092908658903,
          -0.031279103862171184,
          null
         ],
         "y": [
          -0.0991134760284686,
          -0.9730297234678891,
          null
         ]
        },
        {
         "hoverinfo": "none",
         "line": {
          "color": "rgba(0, 0, 0, 0.8)",
          "width": 0.01
         },
         "mode": "lines",
         "type": "scatter",
         "x": [
          -0.2965092908658903,
          -0.47496702698583193,
          null
         ],
         "y": [
          -0.0991134760284686,
          0.8899630864498015,
          null
         ]
        },
        {
         "hoverinfo": "none",
         "line": {
          "color": "rgba(0, 0, 0, 0.8)",
          "width": 0.04
         },
         "mode": "lines",
         "type": "scatter",
         "x": [
          -0.2965092908658903,
          -0.8375714180406986,
          null
         ],
         "y": [
          -0.0991134760284686,
          -0.5394042446174725,
          null
         ]
        },
        {
         "hoverinfo": "none",
         "line": {
          "color": "rgba(0, 0, 0, 0.8)",
          "width": 0.02
         },
         "mode": "lines",
         "type": "scatter",
         "x": [
          -0.2965092908658903,
          -0.8568192023812202,
          null
         ],
         "y": [
          -0.0991134760284686,
          0.48157774126738695,
          null
         ]
        },
        {
         "hoverinfo": "none",
         "line": {
          "color": "rgba(0, 0, 0, 0.8)",
          "width": 0.02
         },
         "mode": "lines",
         "type": "scatter",
         "x": [
          -0.2965092908658903,
          0.6489036768675414,
          null
         ],
         "y": [
          -0.0991134760284686,
          0.784400169993281,
          null
         ]
        },
        {
         "hoverinfo": "none",
         "line": {
          "color": "rgba(0, 0, 0, 0.8)",
          "width": 0.05
         },
         "mode": "lines",
         "type": "scatter",
         "x": [
          -0.2965092908658903,
          -0.3934579638826972,
          null
         ],
         "y": [
          -0.0991134760284686,
          0.9433707045630458,
          null
         ]
        },
        {
         "hoverinfo": "none",
         "line": {
          "color": "rgba(0, 0, 255, 0.04504504504504504)",
          "width": 0.04
         },
         "mode": "lines",
         "type": "scatter",
         "x": [
          -0.2965092908658903,
          0.6838644087143524,
          null
         ],
         "y": [
          -0.0991134760284686,
          0.6893541288982742,
          null
         ]
        },
        {
         "hoverinfo": "none",
         "line": {
          "color": "rgba(0, 0, 0, 0.8)",
          "width": 0.01
         },
         "mode": "lines",
         "type": "scatter",
         "x": [
          -0.2965092908658903,
          0.8745971730655957,
          null
         ],
         "y": [
          -0.0991134760284686,
          -0.3168216226336203,
          null
         ]
        },
        {
         "hoverinfo": "none",
         "line": {
          "color": "rgba(0, 0, 0, 0.8)",
          "width": 0.01
         },
         "mode": "lines",
         "type": "scatter",
         "x": [
          -0.2965092908658903,
          -0.9668062593660902,
          null
         ],
         "y": [
          -0.0991134760284686,
          -0.05550392029786738,
          null
         ]
        },
        {
         "hoverinfo": "none",
         "line": {
          "color": "rgba(0, 0, 0, 0.8)",
          "width": 0.01
         },
         "mode": "lines",
         "type": "scatter",
         "x": [
          -0.2965092908658903,
          0.0773046820999453,
          null
         ],
         "y": [
          -0.0991134760284686,
          -0.9508952093103114,
          null
         ]
        },
        {
         "hoverinfo": "none",
         "line": {
          "color": "rgba(0, 0, 0, 0.8)",
          "width": 0.01
         },
         "mode": "lines",
         "type": "scatter",
         "x": [
          -0.2965092908658903,
          0.35986138391820705,
          null
         ],
         "y": [
          -0.0991134760284686,
          0.8192424046592419,
          null
         ]
        },
        {
         "hoverinfo": "none",
         "line": {
          "color": "rgba(0, 0, 0, 0.8)",
          "width": 0.01
         },
         "mode": "lines",
         "type": "scatter",
         "x": [
          -0.2965092908658903,
          -0.7798406168896717,
          null
         ],
         "y": [
          -0.0991134760284686,
          0.6585296604646206,
          null
         ]
        },
        {
         "hoverinfo": "none",
         "line": {
          "color": "rgba(0, 0, 0, 0.8)",
          "width": 0.02
         },
         "mode": "lines",
         "type": "scatter",
         "x": [
          -0.2965092908658903,
          -0.8839533443816736,
          null
         ],
         "y": [
          -0.0991134760284686,
          -0.334096717825211,
          null
         ]
        },
        {
         "hoverinfo": "none",
         "line": {
          "color": "rgba(0, 0, 0, 0.8)",
          "width": 0.02
         },
         "mode": "lines",
         "type": "scatter",
         "x": [
          -0.2965092908658903,
          -0.7315448377482627,
          null
         ],
         "y": [
          -0.0991134760284686,
          -0.7034211243057392,
          null
         ]
        },
        {
         "hoverinfo": "none",
         "line": {
          "color": "rgba(0, 0, 0, 0.8)",
          "width": 0.01
         },
         "mode": "lines",
         "type": "scatter",
         "x": [
          -0.2965092908658903,
          0.7936541268586749,
          null
         ],
         "y": [
          -0.0991134760284686,
          -0.5593405597546682,
          null
         ]
        },
        {
         "hoverinfo": "none",
         "line": {
          "color": "rgba(0, 0, 0, 0.8)",
          "width": 0.02
         },
         "mode": "lines",
         "type": "scatter",
         "x": [
          -0.2965092908658903,
          0.9558785655313029,
          null
         ],
         "y": [
          -0.0991134760284686,
          0.33563990585084297,
          null
         ]
        },
        {
         "hoverinfo": "none",
         "line": {
          "color": "rgba(0, 0, 0, 0.8)",
          "width": 0.01
         },
         "mode": "lines",
         "type": "scatter",
         "x": [
          -0.2965092908658903,
          0.9193826860419149,
          null
         ],
         "y": [
          -0.0991134760284686,
          0.2924265011032312,
          null
         ]
        },
        {
         "hoverinfo": "none",
         "line": {
          "color": "rgba(0, 0, 0, 0.8)",
          "width": 0.01
         },
         "mode": "lines",
         "type": "scatter",
         "x": [
          -0.2965092908658903,
          0.9622669907841491,
          null
         ],
         "y": [
          -0.0991134760284686,
          0.058558090076698155,
          null
         ]
        },
        {
         "hoverinfo": "none",
         "line": {
          "color": "rgba(0, 0, 0, 0.8)",
          "width": 0.01
         },
         "mode": "lines",
         "type": "scatter",
         "x": [
          -0.2965092908658903,
          0.2579680975564024,
          null
         ],
         "y": [
          -0.0991134760284686,
          0.9486667845989296,
          null
         ]
        },
        {
         "hoverinfo": "none",
         "line": {
          "color": "rgba(0, 0, 0, 0.8)",
          "width": 0.01
         },
         "mode": "lines",
         "type": "scatter",
         "x": [
          -0.2965092908658903,
          -0.9728637515146988,
          null
         ],
         "y": [
          -0.0991134760284686,
          -0.12007960838481085,
          null
         ]
        },
        {
         "hoverinfo": "none",
         "line": {
          "color": "rgba(0, 0, 0, 0.8)",
          "width": 0.01
         },
         "mode": "lines",
         "type": "scatter",
         "x": [
          -0.2965092908658903,
          -0.915367048866334,
          null
         ],
         "y": [
          -0.0991134760284686,
          -0.3882697391805669,
          null
         ]
        },
        {
         "hoverinfo": "none",
         "line": {
          "color": "rgba(0, 0, 0, 0.8)",
          "width": 0.01
         },
         "mode": "lines",
         "type": "scatter",
         "x": [
          0.30735592243766746,
          -0.8354462776032343,
          null
         ],
         "y": [
          0.9056172935889462,
          0.41714472914525047,
          null
         ]
        },
        {
         "hoverinfo": "none",
         "line": {
          "color": "rgba(0, 0, 0, 0.8)",
          "width": 0.01
         },
         "mode": "lines",
         "type": "scatter",
         "x": [
          0.30735592243766746,
          0.7414251724263317,
          null
         ],
         "y": [
          0.9056172935889462,
          0.6147149944140688,
          null
         ]
        },
        {
         "hoverinfo": "none",
         "line": {
          "color": "rgba(255, 0, 0, 0.01126126126126126)",
          "width": 0.01
         },
         "mode": "lines",
         "type": "scatter",
         "x": [
          0.30735592243766746,
          0.9444377465272974,
          null
         ],
         "y": [
          0.9056172935889462,
          -0.09876035442748367,
          null
         ]
        },
        {
         "hoverinfo": "none",
         "line": {
          "color": "rgba(0, 0, 0, 0.8)",
          "width": 0.01
         },
         "mode": "lines",
         "type": "scatter",
         "x": [
          0.30735592243766746,
          -0.711777456566173,
          null
         ],
         "y": [
          0.9056172935889462,
          0.7458118699641606,
          null
         ]
        },
        {
         "hoverinfo": "none",
         "line": {
          "color": "rgba(0, 0, 0, 0.8)",
          "width": 0.02
         },
         "mode": "lines",
         "type": "scatter",
         "x": [
          -0.711777456566173,
          0.9444377465272974,
          null
         ],
         "y": [
          0.7458118699641606,
          -0.09876035442748367,
          null
         ]
        },
        {
         "hoverinfo": "none",
         "line": {
          "color": "rgba(0, 0, 0, 0.8)",
          "width": 0.01
         },
         "mode": "lines",
         "type": "scatter",
         "x": [
          -0.711777456566173,
          0.2420362459456123,
          null
         ],
         "y": [
          0.7458118699641606,
          -0.9371720963876,
          null
         ]
        },
        {
         "hoverinfo": "none",
         "line": {
          "color": "rgba(0, 0, 0, 0.8)",
          "width": 0.01
         },
         "mode": "lines",
         "type": "scatter",
         "x": [
          -0.711777456566173,
          -0.8354462776032343,
          null
         ],
         "y": [
          0.7458118699641606,
          0.41714472914525047,
          null
         ]
        },
        {
         "hoverinfo": "none",
         "line": {
          "color": "rgba(0, 0, 0, 0.8)",
          "width": 0.01
         },
         "mode": "lines",
         "type": "scatter",
         "x": [
          -0.711777456566173,
          -0.058571647675385925,
          null
         ],
         "y": [
          0.7458118699641606,
          -0.2802931794383621,
          null
         ]
        },
        {
         "hoverinfo": "none",
         "line": {
          "color": "rgba(0, 0, 0, 0.8)",
          "width": 0.01
         },
         "mode": "lines",
         "type": "scatter",
         "x": [
          -0.711777456566173,
          -0.550830691001996,
          null
         ],
         "y": [
          0.7458118699641606,
          0.7246997780887199,
          null
         ]
        },
        {
         "hoverinfo": "none",
         "line": {
          "color": "rgba(0, 0, 0, 0.8)",
          "width": 0.01
         },
         "mode": "lines",
         "type": "scatter",
         "x": [
          -0.711777456566173,
          0.9071260107821375,
          null
         ],
         "y": [
          0.7458118699641606,
          -0.45144852455161544,
          null
         ]
        },
        {
         "hoverinfo": "none",
         "line": {
          "color": "rgba(0, 0, 0, 0.8)",
          "width": 0.01
         },
         "mode": "lines",
         "type": "scatter",
         "x": [
          0.7716388857369793,
          0.9558785655313029,
          null
         ],
         "y": [
          -0.6228964134754154,
          0.33563990585084297,
          null
         ]
        },
        {
         "hoverinfo": "none",
         "line": {
          "color": "rgba(0, 0, 0, 0.8)",
          "width": 0.47000000000000003
         },
         "mode": "lines",
         "type": "scatter",
         "x": [
          0.7716388857369793,
          -0.058571647675385925,
          null
         ],
         "y": [
          -0.6228964134754154,
          -0.2802931794383621,
          null
         ]
        },
        {
         "hoverinfo": "none",
         "line": {
          "color": "rgba(0, 0, 0, 0.8)",
          "width": 0.01
         },
         "mode": "lines",
         "type": "scatter",
         "x": [
          0.7716388857369793,
          -0.8375714180406986,
          null
         ],
         "y": [
          -0.6228964134754154,
          -0.5394042446174725,
          null
         ]
        },
        {
         "hoverinfo": "none",
         "line": {
          "color": "rgba(0, 0, 0, 0.8)",
          "width": 0.04
         },
         "mode": "lines",
         "type": "scatter",
         "x": [
          0.7716388857369793,
          -0.550830691001996,
          null
         ],
         "y": [
          -0.6228964134754154,
          0.7246997780887199,
          null
         ]
        },
        {
         "hoverinfo": "none",
         "line": {
          "color": "rgba(0, 0, 0, 0.8)",
          "width": 0.02
         },
         "mode": "lines",
         "type": "scatter",
         "x": [
          0.7716388857369793,
          -0.8354462776032343,
          null
         ],
         "y": [
          -0.6228964134754154,
          0.41714472914525047,
          null
         ]
        },
        {
         "hoverinfo": "none",
         "line": {
          "color": "rgba(0, 0, 0, 0.8)",
          "width": 0.01
         },
         "mode": "lines",
         "type": "scatter",
         "x": [
          0.7716388857369793,
          0.033973988595786535,
          null
         ],
         "y": [
          -0.6228964134754154,
          0.9491075697940846,
          null
         ]
        },
        {
         "hoverinfo": "none",
         "line": {
          "color": "rgba(0, 0, 0, 0.8)",
          "width": 0.06
         },
         "mode": "lines",
         "type": "scatter",
         "x": [
          0.7716388857369793,
          0.015434781666045108,
          null
         ],
         "y": [
          -0.6228964134754154,
          -0.9887620488481842,
          null
         ]
        },
        {
         "hoverinfo": "none",
         "line": {
          "color": "rgba(0, 0, 0, 0.8)",
          "width": 0.11
         },
         "mode": "lines",
         "type": "scatter",
         "x": [
          0.7716388857369793,
          -0.10383356266536728,
          null
         ],
         "y": [
          -0.6228964134754154,
          -0.15447104199410414,
          null
         ]
        },
        {
         "hoverinfo": "none",
         "line": {
          "color": "rgba(0, 0, 0, 0.8)",
          "width": 0.02
         },
         "mode": "lines",
         "type": "scatter",
         "x": [
          0.7716388857369793,
          -0.8568192023812202,
          null
         ],
         "y": [
          -0.6228964134754154,
          0.48157774126738695,
          null
         ]
        },
        {
         "hoverinfo": "none",
         "line": {
          "color": "rgba(0, 0, 0, 0.8)",
          "width": 0.01
         },
         "mode": "lines",
         "type": "scatter",
         "x": [
          0.7716388857369793,
          -0.969704119210851,
          null
         ],
         "y": [
          -0.6228964134754154,
          0.0799851940897377,
          null
         ]
        },
        {
         "hoverinfo": "none",
         "line": {
          "color": "rgba(0, 0, 0, 0.8)",
          "width": 0.01
         },
         "mode": "lines",
         "type": "scatter",
         "x": [
          0.7716388857369793,
          0.7414251724263317,
          null
         ],
         "y": [
          -0.6228964134754154,
          0.6147149944140688,
          null
         ]
        },
        {
         "hoverinfo": "none",
         "line": {
          "color": "rgba(0, 0, 0, 0.8)",
          "width": 0.01
         },
         "mode": "lines",
         "type": "scatter",
         "x": [
          0.7716388857369793,
          -0.3039469377228429,
          null
         ],
         "y": [
          -0.6228964134754154,
          -0.9061754673661192,
          null
         ]
        },
        {
         "hoverinfo": "none",
         "line": {
          "color": "rgba(0, 0, 0, 0.8)",
          "width": 0.01
         },
         "mode": "lines",
         "type": "scatter",
         "x": [
          0.7716388857369793,
          0.9539447487709961,
          null
         ],
         "y": [
          -0.6228964134754154,
          -0.21917981952014678,
          null
         ]
        },
        {
         "hoverinfo": "none",
         "line": {
          "color": "rgba(0, 0, 0, 0.8)",
          "width": 0.02
         },
         "mode": "lines",
         "type": "scatter",
         "x": [
          0.7716388857369793,
          -0.994032215259711,
          null
         ],
         "y": [
          -0.6228964134754154,
          0.003969429099871605,
          null
         ]
        },
        {
         "hoverinfo": "none",
         "line": {
          "color": "rgba(0, 0, 0, 0.8)",
          "width": 0.01
         },
         "mode": "lines",
         "type": "scatter",
         "x": [
          0.7716388857369793,
          -0.6367261638869024,
          null
         ],
         "y": [
          -0.6228964134754154,
          0.7617491368598485,
          null
         ]
        },
        {
         "hoverinfo": "none",
         "line": {
          "color": "rgba(0, 0, 0, 0.8)",
          "width": 0.03
         },
         "mode": "lines",
         "type": "scatter",
         "x": [
          0.7716388857369793,
          0.899014647267909,
          null
         ],
         "y": [
          -0.6228964134754154,
          0.4767665944091181,
          null
         ]
        },
        {
         "hoverinfo": "none",
         "line": {
          "color": "rgba(0, 0, 0, 0.8)",
          "width": 0.01
         },
         "mode": "lines",
         "type": "scatter",
         "x": [
          0.7716388857369793,
          0.2420362459456123,
          null
         ],
         "y": [
          -0.6228964134754154,
          -0.9371720963876,
          null
         ]
        },
        {
         "hoverinfo": "none",
         "line": {
          "color": "rgba(0, 0, 0, 0.8)",
          "width": 0.01
         },
         "mode": "lines",
         "type": "scatter",
         "x": [
          0.7716388857369793,
          0.9532835572247149,
          null
         ],
         "y": [
          -0.6228964134754154,
          -0.2880872636775998,
          null
         ]
        },
        {
         "hoverinfo": "none",
         "line": {
          "color": "rgba(0, 0, 0, 0.8)",
          "width": 0.01
         },
         "mode": "lines",
         "type": "scatter",
         "x": [
          0.7716388857369793,
          -0.3934579638826972,
          null
         ],
         "y": [
          -0.6228964134754154,
          0.9433707045630458,
          null
         ]
        },
        {
         "hoverinfo": "none",
         "line": {
          "color": "rgba(0, 0, 0, 0.8)",
          "width": 0.01
         },
         "mode": "lines",
         "type": "scatter",
         "x": [
          0.7716388857369793,
          0.9444377465272974,
          null
         ],
         "y": [
          -0.6228964134754154,
          -0.09876035442748367,
          null
         ]
        },
        {
         "hoverinfo": "none",
         "line": {
          "color": "rgba(0, 0, 0, 0.8)",
          "width": 0.01
         },
         "mode": "lines",
         "type": "scatter",
         "x": [
          -0.058571647675385925,
          -0.9346802511284125,
          null
         ],
         "y": [
          -0.2802931794383621,
          0.21466341464048153,
          null
         ]
        },
        {
         "hoverinfo": "none",
         "line": {
          "color": "rgba(0, 0, 255, 1.1373873873873874)",
          "width": 1.01
         },
         "mode": "lines",
         "type": "scatter",
         "x": [
          -0.058571647675385925,
          -0.10383356266536728,
          null
         ],
         "y": [
          -0.2802931794383621,
          -0.15447104199410414,
          null
         ]
        },
        {
         "hoverinfo": "none",
         "line": {
          "color": "rgba(0, 0, 255, 0.7319819819819819)",
          "width": 0.65
         },
         "mode": "lines",
         "type": "scatter",
         "x": [
          -0.058571647675385925,
          0.015434781666045108,
          null
         ],
         "y": [
          -0.2802931794383621,
          -0.9887620488481842,
          null
         ]
        },
        {
         "hoverinfo": "none",
         "line": {
          "color": "rgba(0, 0, 0, 0.8)",
          "width": 0.14
         },
         "mode": "lines",
         "type": "scatter",
         "x": [
          -0.058571647675385925,
          0.9444377465272974,
          null
         ],
         "y": [
          -0.2802931794383621,
          -0.09876035442748367,
          null
         ]
        },
        {
         "hoverinfo": "none",
         "line": {
          "color": "rgba(0, 0, 0, 0.8)",
          "width": 0.09
         },
         "mode": "lines",
         "type": "scatter",
         "x": [
          -0.058571647675385925,
          -0.969704119210851,
          null
         ],
         "y": [
          -0.2802931794383621,
          0.0799851940897377,
          null
         ]
        },
        {
         "hoverinfo": "none",
         "line": {
          "color": "rgba(0, 0, 255, 0.5855855855855856)",
          "width": 0.52
         },
         "mode": "lines",
         "type": "scatter",
         "x": [
          -0.058571647675385925,
          0.6838644087143524,
          null
         ],
         "y": [
          -0.2802931794383621,
          0.6893541288982742,
          null
         ]
        },
        {
         "hoverinfo": "none",
         "line": {
          "color": "rgba(0, 0, 255, 0.28153153153153154)",
          "width": 0.25
         },
         "mode": "lines",
         "type": "scatter",
         "x": [
          -0.058571647675385925,
          0.2420362459456123,
          null
         ],
         "y": [
          -0.2802931794383621,
          -0.9371720963876,
          null
         ]
        },
        {
         "hoverinfo": "none",
         "line": {
          "color": "rgba(0, 0, 0, 0.8)",
          "width": 0.02
         },
         "mode": "lines",
         "type": "scatter",
         "x": [
          -0.058571647675385925,
          0.9859944547514741,
          null
         ],
         "y": [
          -0.2802931794383621,
          0.002069381258884614,
          null
         ]
        },
        {
         "hoverinfo": "none",
         "line": {
          "color": "rgba(0, 0, 0, 0.8)",
          "width": 0.03
         },
         "mode": "lines",
         "type": "scatter",
         "x": [
          -0.058571647675385925,
          -0.8568192023812202,
          null
         ],
         "y": [
          -0.2802931794383621,
          0.48157774126738695,
          null
         ]
        },
        {
         "hoverinfo": "none",
         "line": {
          "color": "rgba(0, 0, 0, 0.8)",
          "width": 0.14
         },
         "mode": "lines",
         "type": "scatter",
         "x": [
          -0.058571647675385925,
          0.9558785655313029,
          null
         ],
         "y": [
          -0.2802931794383621,
          0.33563990585084297,
          null
         ]
        },
        {
         "hoverinfo": "none",
         "line": {
          "color": "rgba(0, 0, 0, 0.8)",
          "width": 0.06
         },
         "mode": "lines",
         "type": "scatter",
         "x": [
          -0.058571647675385925,
          -0.550830691001996,
          null
         ],
         "y": [
          -0.2802931794383621,
          0.7246997780887199,
          null
         ]
        },
        {
         "hoverinfo": "none",
         "line": {
          "color": "rgba(0, 0, 0, 0.8)",
          "width": 0.07
         },
         "mode": "lines",
         "type": "scatter",
         "x": [
          -0.058571647675385925,
          -0.8375714180406986,
          null
         ],
         "y": [
          -0.2802931794383621,
          -0.5394042446174725,
          null
         ]
        },
        {
         "hoverinfo": "none",
         "line": {
          "color": "rgba(0, 0, 0, 0.8)",
          "width": 0.03
         },
         "mode": "lines",
         "type": "scatter",
         "x": [
          -0.058571647675385925,
          0.6571521271528116,
          null
         ],
         "y": [
          -0.2802931794383621,
          -0.7400526433542927,
          null
         ]
        },
        {
         "hoverinfo": "none",
         "line": {
          "color": "rgba(0, 0, 0, 0.8)",
          "width": 0.06
         },
         "mode": "lines",
         "type": "scatter",
         "x": [
          -0.058571647675385925,
          0.9808045272774422,
          null
         ],
         "y": [
          -0.2802931794383621,
          0.11616956138933034,
          null
         ]
        },
        {
         "hoverinfo": "none",
         "line": {
          "color": "rgba(0, 0, 0, 0.8)",
          "width": 0.14
         },
         "mode": "lines",
         "type": "scatter",
         "x": [
          -0.058571647675385925,
          -0.8354462776032343,
          null
         ],
         "y": [
          -0.2802931794383621,
          0.41714472914525047,
          null
         ]
        },
        {
         "hoverinfo": "none",
         "line": {
          "color": "rgba(0, 0, 0, 0.8)",
          "width": 0.01
         },
         "mode": "lines",
         "type": "scatter",
         "x": [
          -0.058571647675385925,
          -0.2550888349257121,
          null
         ],
         "y": [
          -0.2802931794383621,
          -0.9476829298857408,
          null
         ]
        },
        {
         "hoverinfo": "none",
         "line": {
          "color": "rgba(0, 0, 0, 0.8)",
          "width": 0.04
         },
         "mode": "lines",
         "type": "scatter",
         "x": [
          -0.058571647675385925,
          -0.5670261818788142,
          null
         ],
         "y": [
          -0.2802931794383621,
          -0.8172972151294176,
          null
         ]
        },
        {
         "hoverinfo": "none",
         "line": {
          "color": "rgba(0, 0, 0, 0.8)",
          "width": 0.01
         },
         "mode": "lines",
         "type": "scatter",
         "x": [
          -0.058571647675385925,
          0.5670414917380979,
          null
         ],
         "y": [
          -0.2802931794383621,
          0.8270510204107957,
          null
         ]
        },
        {
         "hoverinfo": "none",
         "line": {
          "color": "rgba(0, 0, 0, 0.8)",
          "width": 0.04
         },
         "mode": "lines",
         "type": "scatter",
         "x": [
          -0.058571647675385925,
          -0.3039469377228429,
          null
         ],
         "y": [
          -0.2802931794383621,
          -0.9061754673661192,
          null
         ]
        },
        {
         "hoverinfo": "none",
         "line": {
          "color": "rgba(0, 0, 0, 0.8)",
          "width": 0.01
         },
         "mode": "lines",
         "type": "scatter",
         "x": [
          -0.058571647675385925,
          -0.934121151070918,
          null
         ],
         "y": [
          -0.2802931794383621,
          -0.2892138210491218,
          null
         ]
        },
        {
         "hoverinfo": "none",
         "line": {
          "color": "rgba(0, 0, 0, 0.8)",
          "width": 0.05
         },
         "mode": "lines",
         "type": "scatter",
         "x": [
          -0.058571647675385925,
          0.9862581178621459,
          null
         ],
         "y": [
          -0.2802931794383621,
          -0.16213032319849258,
          null
         ]
        },
        {
         "hoverinfo": "none",
         "line": {
          "color": "rgba(0, 0, 0, 0.8)",
          "width": 0.01
         },
         "mode": "lines",
         "type": "scatter",
         "x": [
          -0.058571647675385925,
          0.033973988595786535,
          null
         ],
         "y": [
          -0.2802931794383621,
          0.9491075697940846,
          null
         ]
        },
        {
         "hoverinfo": "none",
         "line": {
          "color": "rgba(0, 0, 0, 0.8)",
          "width": 0.01
         },
         "mode": "lines",
         "type": "scatter",
         "x": [
          -0.058571647675385925,
          -0.9381750348849629,
          null
         ],
         "y": [
          -0.2802931794383621,
          -0.17325476661226713,
          null
         ]
        },
        {
         "hoverinfo": "none",
         "line": {
          "color": "rgba(0, 0, 0, 0.8)",
          "width": 0.04
         },
         "mode": "lines",
         "type": "scatter",
         "x": [
          -0.058571647675385925,
          -0.9256046098122075,
          null
         ],
         "y": [
          -0.2802931794383621,
          0.40500299769825593,
          null
         ]
        },
        {
         "hoverinfo": "none",
         "line": {
          "color": "rgba(0, 0, 255, 0.06756756756756757)",
          "width": 0.06
         },
         "mode": "lines",
         "type": "scatter",
         "x": [
          -0.058571647675385925,
          -0.6936105690861178,
          null
         ],
         "y": [
          -0.2802931794383621,
          0.6556733265660122,
          null
         ]
        },
        {
         "hoverinfo": "none",
         "line": {
          "color": "rgba(0, 0, 0, 0.8)",
          "width": 0.02
         },
         "mode": "lines",
         "type": "scatter",
         "x": [
          -0.058571647675385925,
          0.8745971730655957,
          null
         ],
         "y": [
          -0.2802931794383621,
          -0.3168216226336203,
          null
         ]
        },
        {
         "hoverinfo": "none",
         "line": {
          "color": "rgba(0, 0, 0, 0.8)",
          "width": 0.13
         },
         "mode": "lines",
         "type": "scatter",
         "x": [
          -0.058571647675385925,
          -0.47617966766311803,
          null
         ],
         "y": [
          -0.2802931794383621,
          -0.862158824225785,
          null
         ]
        },
        {
         "hoverinfo": "none",
         "line": {
          "color": "rgba(0, 0, 0, 0.8)",
          "width": 0.03
         },
         "mode": "lines",
         "type": "scatter",
         "x": [
          -0.058571647675385925,
          0.49490271063269975,
          null
         ],
         "y": [
          -0.2802931794383621,
          0.83680043248541,
          null
         ]
        },
        {
         "hoverinfo": "none",
         "line": {
          "color": "rgba(0, 0, 0, 0.8)",
          "width": 0.04
         },
         "mode": "lines",
         "type": "scatter",
         "x": [
          -0.058571647675385925,
          -0.03308807086671816,
          null
         ],
         "y": [
          -0.2802931794383621,
          0.9646969056123894,
          null
         ]
        },
        {
         "hoverinfo": "none",
         "line": {
          "color": "rgba(0, 0, 255, 0.0563063063063063)",
          "width": 0.05
         },
         "mode": "lines",
         "type": "scatter",
         "x": [
          -0.058571647675385925,
          -0.6129827452470004,
          null
         ],
         "y": [
          -0.2802931794383621,
          -0.7568709274775649,
          null
         ]
        },
        {
         "hoverinfo": "none",
         "line": {
          "color": "rgba(0, 0, 255, 0.09009009009009009)",
          "width": 0.08
         },
         "mode": "lines",
         "type": "scatter",
         "x": [
          -0.058571647675385925,
          -0.9642160820325939,
          null
         ],
         "y": [
          -0.2802931794383621,
          -0.2315116808308409,
          null
         ]
        },
        {
         "hoverinfo": "none",
         "line": {
          "color": "rgba(0, 0, 0, 0.8)",
          "width": 0.05
         },
         "mode": "lines",
         "type": "scatter",
         "x": [
          -0.058571647675385925,
          0.899014647267909,
          null
         ],
         "y": [
          -0.2802931794383621,
          0.4767665944091181,
          null
         ]
        },
        {
         "hoverinfo": "none",
         "line": {
          "color": "rgba(0, 0, 0, 0.8)",
          "width": 0.04
         },
         "mode": "lines",
         "type": "scatter",
         "x": [
          -0.058571647675385925,
          0.5288639776130931,
          null
         ],
         "y": [
          -0.2802931794383621,
          -0.767773376332571,
          null
         ]
        },
        {
         "hoverinfo": "none",
         "line": {
          "color": "rgba(0, 0, 0, 0.8)",
          "width": 0.13
         },
         "mode": "lines",
         "type": "scatter",
         "x": [
          -0.058571647675385925,
          0.5409365664167735,
          null
         ],
         "y": [
          -0.2802931794383621,
          -0.843232590310273,
          null
         ]
        },
        {
         "hoverinfo": "none",
         "line": {
          "color": "rgba(0, 0, 0, 0.8)",
          "width": 0.03
         },
         "mode": "lines",
         "type": "scatter",
         "x": [
          -0.058571647675385925,
          -0.40814869730982584,
          null
         ],
         "y": [
          -0.2802931794383621,
          -0.8785887664494433,
          null
         ]
        },
        {
         "hoverinfo": "none",
         "line": {
          "color": "rgba(0, 0, 0, 0.8)",
          "width": 0.06
         },
         "mode": "lines",
         "type": "scatter",
         "x": [
          -0.058571647675385925,
          0.9193826860419149,
          null
         ],
         "y": [
          -0.2802931794383621,
          0.2924265011032312,
          null
         ]
        },
        {
         "hoverinfo": "none",
         "line": {
          "color": "rgba(0, 0, 0, 0.8)",
          "width": 0.05
         },
         "mode": "lines",
         "type": "scatter",
         "x": [
          -0.058571647675385925,
          -0.031279103862171184,
          null
         ],
         "y": [
          -0.2802931794383621,
          -0.9730297234678891,
          null
         ]
        },
        {
         "hoverinfo": "none",
         "line": {
          "color": "rgba(0, 0, 0, 0.8)",
          "width": 0.02
         },
         "mode": "lines",
         "type": "scatter",
         "x": [
          -0.058571647675385925,
          0.9532835572247149,
          null
         ],
         "y": [
          -0.2802931794383621,
          -0.2880872636775998,
          null
         ]
        },
        {
         "hoverinfo": "none",
         "line": {
          "color": "rgba(0, 0, 0, 0.8)",
          "width": 0.01
         },
         "mode": "lines",
         "type": "scatter",
         "x": [
          -0.058571647675385925,
          -0.09384010921436757,
          null
         ],
         "y": [
          -0.2802931794383621,
          -0.9737778710341598,
          null
         ]
        },
        {
         "hoverinfo": "none",
         "line": {
          "color": "rgba(0, 0, 0, 0.8)",
          "width": 0.05
         },
         "mode": "lines",
         "type": "scatter",
         "x": [
          -0.058571647675385925,
          0.9539447487709961,
          null
         ],
         "y": [
          -0.2802931794383621,
          -0.21917981952014678,
          null
         ]
        },
        {
         "hoverinfo": "none",
         "line": {
          "color": "rgba(0, 0, 0, 0.8)",
          "width": 0.05
         },
         "mode": "lines",
         "type": "scatter",
         "x": [
          -0.058571647675385925,
          0.7414251724263317,
          null
         ],
         "y": [
          -0.2802931794383621,
          0.6147149944140688,
          null
         ]
        },
        {
         "hoverinfo": "none",
         "line": {
          "color": "rgba(0, 0, 0, 0.8)",
          "width": 0.07
         },
         "mode": "lines",
         "type": "scatter",
         "x": [
          -0.058571647675385925,
          0.44931330872991654,
          null
         ],
         "y": [
          -0.2802931794383621,
          0.8989971765024731,
          null
         ]
        },
        {
         "hoverinfo": "none",
         "line": {
          "color": "rgba(0, 0, 0, 0.8)",
          "width": 0.02
         },
         "mode": "lines",
         "type": "scatter",
         "x": [
          -0.058571647675385925,
          -0.994032215259711,
          null
         ],
         "y": [
          -0.2802931794383621,
          0.003969429099871605,
          null
         ]
        },
        {
         "hoverinfo": "none",
         "line": {
          "color": "rgba(0, 0, 0, 0.8)",
          "width": 0.01
         },
         "mode": "lines",
         "type": "scatter",
         "x": [
          -0.058571647675385925,
          0.8159945704387714,
          null
         ],
         "y": [
          -0.2802931794383621,
          0.4574673428003474,
          null
         ]
        },
        {
         "hoverinfo": "none",
         "line": {
          "color": "rgba(0, 0, 0, 0.8)",
          "width": 0.05
         },
         "mode": "lines",
         "type": "scatter",
         "x": [
          -0.058571647675385925,
          -0.3934579638826972,
          null
         ],
         "y": [
          -0.2802931794383621,
          0.9433707045630458,
          null
         ]
        },
        {
         "hoverinfo": "none",
         "line": {
          "color": "rgba(0, 0, 0, 0.8)",
          "width": 0.01
         },
         "mode": "lines",
         "type": "scatter",
         "x": [
          -0.058571647675385925,
          0.3446494268157852,
          null
         ],
         "y": [
          -0.2802931794383621,
          -0.883628576594363,
          null
         ]
        },
        {
         "hoverinfo": "none",
         "line": {
          "color": "rgba(0, 0, 0, 0.8)",
          "width": 0.01
         },
         "mode": "lines",
         "type": "scatter",
         "x": [
          -0.058571647675385925,
          -0.5026749400664705,
          null
         ],
         "y": [
          -0.2802931794383621,
          0.8286010129585805,
          null
         ]
        },
        {
         "hoverinfo": "none",
         "line": {
          "color": "rgba(0, 0, 0, 0.8)",
          "width": 0.04
         },
         "mode": "lines",
         "type": "scatter",
         "x": [
          -0.058571647675385925,
          0.37285051696229016,
          null
         ],
         "y": [
          -0.2802931794383621,
          0.9252612510538469,
          null
         ]
        },
        {
         "hoverinfo": "none",
         "line": {
          "color": "rgba(0, 0, 0, 0.8)",
          "width": 0.03
         },
         "mode": "lines",
         "type": "scatter",
         "x": [
          -0.058571647675385925,
          -0.8839533443816736,
          null
         ],
         "y": [
          -0.2802931794383621,
          -0.334096717825211,
          null
         ]
        },
        {
         "hoverinfo": "none",
         "line": {
          "color": "rgba(0, 0, 0, 0.8)",
          "width": 0.01
         },
         "mode": "lines",
         "type": "scatter",
         "x": [
          -0.058571647675385925,
          -0.5059491471082506,
          null
         ],
         "y": [
          -0.2802931794383621,
          -0.8031537026415206,
          null
         ]
        },
        {
         "hoverinfo": "none",
         "line": {
          "color": "rgba(0, 0, 0, 0.8)",
          "width": 0.02
         },
         "mode": "lines",
         "type": "scatter",
         "x": [
          -0.058571647675385925,
          0.0773046820999453,
          null
         ],
         "y": [
          -0.2802931794383621,
          -0.9508952093103114,
          null
         ]
        },
        {
         "hoverinfo": "none",
         "line": {
          "color": "rgba(0, 0, 0, 0.8)",
          "width": 0.02
         },
         "mode": "lines",
         "type": "scatter",
         "x": [
          -0.058571647675385925,
          -0.7315448377482627,
          null
         ],
         "y": [
          -0.2802931794383621,
          -0.7034211243057392,
          null
         ]
        },
        {
         "hoverinfo": "none",
         "line": {
          "color": "rgba(0, 0, 0, 0.8)",
          "width": 0.02
         },
         "mode": "lines",
         "type": "scatter",
         "x": [
          -0.058571647675385925,
          -0.6367261638869024,
          null
         ],
         "y": [
          -0.2802931794383621,
          0.7617491368598485,
          null
         ]
        },
        {
         "hoverinfo": "none",
         "line": {
          "color": "rgba(0, 0, 0, 0.8)",
          "width": 0.01
         },
         "mode": "lines",
         "type": "scatter",
         "x": [
          -0.058571647675385925,
          0.19836490516611696,
          null
         ],
         "y": [
          -0.2802931794383621,
          -0.9784181686523185,
          null
         ]
        },
        {
         "hoverinfo": "none",
         "line": {
          "color": "rgba(0, 0, 0, 0.8)",
          "width": 0.01
         },
         "mode": "lines",
         "type": "scatter",
         "x": [
          -0.058571647675385925,
          -0.9247389301216649,
          null
         ],
         "y": [
          -0.2802931794383621,
          0.33465689376033797,
          null
         ]
        },
        {
         "hoverinfo": "none",
         "line": {
          "color": "rgba(0, 0, 0, 0.8)",
          "width": 0.04
         },
         "mode": "lines",
         "type": "scatter",
         "x": [
          -0.058571647675385925,
          0.7394292093099564,
          null
         ],
         "y": [
          -0.2802931794383621,
          0.7083009901197292,
          null
         ]
        },
        {
         "hoverinfo": "none",
         "line": {
          "color": "rgba(0, 0, 0, 0.8)",
          "width": 0.03
         },
         "mode": "lines",
         "type": "scatter",
         "x": [
          -0.058571647675385925,
          -0.9558561764200529,
          null
         ],
         "y": [
          -0.2802931794383621,
          0.27031409616505014,
          null
         ]
        },
        {
         "hoverinfo": "none",
         "line": {
          "color": "rgba(0, 0, 0, 0.8)",
          "width": 0.03
         },
         "mode": "lines",
         "type": "scatter",
         "x": [
          -0.058571647675385925,
          -0.915367048866334,
          null
         ],
         "y": [
          -0.2802931794383621,
          -0.3882697391805669,
          null
         ]
        },
        {
         "hoverinfo": "none",
         "line": {
          "color": "rgba(0, 0, 0, 0.8)",
          "width": 0.02
         },
         "mode": "lines",
         "type": "scatter",
         "x": [
          -0.058571647675385925,
          0.35986138391820705,
          null
         ],
         "y": [
          -0.2802931794383621,
          0.8192424046592419,
          null
         ]
        },
        {
         "hoverinfo": "none",
         "line": {
          "color": "rgba(0, 0, 0, 0.8)",
          "width": 0.01
         },
         "mode": "lines",
         "type": "scatter",
         "x": [
          -0.058571647675385925,
          -0.3774537097359633,
          null
         ],
         "y": [
          -0.2802931794383621,
          0.8870595490315061,
          null
         ]
        },
        {
         "hoverinfo": "none",
         "line": {
          "color": "rgba(0, 0, 0, 0.8)",
          "width": 0.01
         },
         "mode": "lines",
         "type": "scatter",
         "x": [
          -0.058571647675385925,
          -0.19246170648878455,
          null
         ],
         "y": [
          -0.2802931794383621,
          -0.96978268853147,
          null
         ]
        },
        {
         "hoverinfo": "none",
         "line": {
          "color": "rgba(0, 0, 0, 0.8)",
          "width": 0.01
         },
         "mode": "lines",
         "type": "scatter",
         "x": [
          -0.058571647675385925,
          -0.2920376368385878,
          null
         ],
         "y": [
          -0.2802931794383621,
          0.9546000697471745,
          null
         ]
        },
        {
         "hoverinfo": "none",
         "line": {
          "color": "rgba(0, 0, 0, 0.8)",
          "width": 0.01
         },
         "mode": "lines",
         "type": "scatter",
         "x": [
          -0.058571647675385925,
          0.2579680975564024,
          null
         ],
         "y": [
          -0.2802931794383621,
          0.9486667845989296,
          null
         ]
        },
        {
         "hoverinfo": "none",
         "line": {
          "color": "rgba(0, 0, 0, 0.8)",
          "width": 0.01
         },
         "mode": "lines",
         "type": "scatter",
         "x": [
          -0.058571647675385925,
          0.5841854529431,
          null
         ],
         "y": [
          -0.2802931794383621,
          0.7386605810949162,
          null
         ]
        },
        {
         "hoverinfo": "none",
         "line": {
          "color": "rgba(0, 0, 0, 0.8)",
          "width": 0.01
         },
         "mode": "lines",
         "type": "scatter",
         "x": [
          -0.058571647675385925,
          -0.14320794667505193,
          null
         ],
         "y": [
          -0.2802931794383621,
          -0.9324750610474091,
          null
         ]
        },
        {
         "hoverinfo": "none",
         "line": {
          "color": "rgba(0, 0, 0, 0.8)",
          "width": 0.02
         },
         "mode": "lines",
         "type": "scatter",
         "x": [
          -0.058571647675385925,
          0.9071260107821375,
          null
         ],
         "y": [
          -0.2802931794383621,
          -0.45144852455161544,
          null
         ]
        },
        {
         "hoverinfo": "none",
         "line": {
          "color": "rgba(0, 0, 0, 0.8)",
          "width": 0.01
         },
         "mode": "lines",
         "type": "scatter",
         "x": [
          -0.058571647675385925,
          -0.7785382580288265,
          null
         ],
         "y": [
          -0.2802931794383621,
          -0.5693304534953558,
          null
         ]
        },
        {
         "hoverinfo": "none",
         "line": {
          "color": "rgba(0, 0, 0, 0.8)",
          "width": 0.01
         },
         "mode": "lines",
         "type": "scatter",
         "x": [
          -0.058571647675385925,
          1,
          null
         ],
         "y": [
          -0.2802931794383621,
          -0.06805497095265818,
          null
         ]
        },
        {
         "hoverinfo": "none",
         "line": {
          "color": "rgba(0, 0, 0, 0.8)",
          "width": 0.01
         },
         "mode": "lines",
         "type": "scatter",
         "x": [
          -0.14320794667505193,
          0.9862581178621459,
          null
         ],
         "y": [
          -0.9324750610474091,
          -0.16213032319849258,
          null
         ]
        },
        {
         "hoverinfo": "none",
         "line": {
          "color": "rgba(0, 0, 0, 0.8)",
          "width": 0.01
         },
         "mode": "lines",
         "type": "scatter",
         "x": [
          -0.10383356266536728,
          -0.9346802511284125,
          null
         ],
         "y": [
          -0.15447104199410414,
          0.21466341464048153,
          null
         ]
        },
        {
         "hoverinfo": "none",
         "line": {
          "color": "rgba(0, 0, 255, 0.24774774774774774)",
          "width": 0.22
         },
         "mode": "lines",
         "type": "scatter",
         "x": [
          -0.10383356266536728,
          0.015434781666045108,
          null
         ],
         "y": [
          -0.15447104199410414,
          -0.9887620488481842,
          null
         ]
        },
        {
         "hoverinfo": "none",
         "line": {
          "color": "rgba(0, 0, 255, 0.2702702702702703)",
          "width": 0.24
         },
         "mode": "lines",
         "type": "scatter",
         "x": [
          -0.10383356266536728,
          0.2420362459456123,
          null
         ],
         "y": [
          -0.15447104199410414,
          -0.9371720963876,
          null
         ]
        },
        {
         "hoverinfo": "none",
         "line": {
          "color": "rgba(0, 0, 0, 0.8)",
          "width": 0.02
         },
         "mode": "lines",
         "type": "scatter",
         "x": [
          -0.10383356266536728,
          -0.550830691001996,
          null
         ],
         "y": [
          -0.15447104199410414,
          0.7246997780887199,
          null
         ]
        },
        {
         "hoverinfo": "none",
         "line": {
          "color": "rgba(0, 0, 0, 0.8)",
          "width": 0.2
         },
         "mode": "lines",
         "type": "scatter",
         "x": [
          -0.10383356266536728,
          -0.6367261638869024,
          null
         ],
         "y": [
          -0.15447104199410414,
          0.7617491368598485,
          null
         ]
        },
        {
         "hoverinfo": "none",
         "line": {
          "color": "rgba(0, 0, 0, 0.8)",
          "width": 0.03
         },
         "mode": "lines",
         "type": "scatter",
         "x": [
          -0.10383356266536728,
          0.9859944547514741,
          null
         ],
         "y": [
          -0.15447104199410414,
          0.002069381258884614,
          null
         ]
        },
        {
         "hoverinfo": "none",
         "line": {
          "color": "rgba(0, 0, 0, 0.8)",
          "width": 0.03
         },
         "mode": "lines",
         "type": "scatter",
         "x": [
          -0.10383356266536728,
          0.9622669907841491,
          null
         ],
         "y": [
          -0.15447104199410414,
          0.058558090076698155,
          null
         ]
        },
        {
         "hoverinfo": "none",
         "line": {
          "color": "rgba(0, 0, 0, 0.8)",
          "width": 0.12
         },
         "mode": "lines",
         "type": "scatter",
         "x": [
          -0.10383356266536728,
          0.5409365664167735,
          null
         ],
         "y": [
          -0.15447104199410414,
          -0.843232590310273,
          null
         ]
        },
        {
         "hoverinfo": "none",
         "line": {
          "color": "rgba(0, 0, 0, 0.8)",
          "width": 0.06
         },
         "mode": "lines",
         "type": "scatter",
         "x": [
          -0.10383356266536728,
          -0.5059491471082506,
          null
         ],
         "y": [
          -0.15447104199410414,
          -0.8031537026415206,
          null
         ]
        },
        {
         "hoverinfo": "none",
         "line": {
          "color": "rgba(0, 0, 255, 0.16891891891891891)",
          "width": 0.15
         },
         "mode": "lines",
         "type": "scatter",
         "x": [
          -0.10383356266536728,
          -0.9642160820325939,
          null
         ],
         "y": [
          -0.15447104199410414,
          -0.2315116808308409,
          null
         ]
        },
        {
         "hoverinfo": "none",
         "line": {
          "color": "rgba(0, 0, 0, 0.8)",
          "width": 0.03
         },
         "mode": "lines",
         "type": "scatter",
         "x": [
          -0.10383356266536728,
          -0.19246170648878455,
          null
         ],
         "y": [
          -0.15447104199410414,
          -0.96978268853147,
          null
         ]
        },
        {
         "hoverinfo": "none",
         "line": {
          "color": "rgba(0, 0, 0, 0.8)",
          "width": 0.03
         },
         "mode": "lines",
         "type": "scatter",
         "x": [
          -0.10383356266536728,
          -0.9256046098122075,
          null
         ],
         "y": [
          -0.15447104199410414,
          0.40500299769825593,
          null
         ]
        },
        {
         "hoverinfo": "none",
         "line": {
          "color": "rgba(0, 0, 0, 0.8)",
          "width": 0.07
         },
         "mode": "lines",
         "type": "scatter",
         "x": [
          -0.10383356266536728,
          -0.8839533443816736,
          null
         ],
         "y": [
          -0.15447104199410414,
          -0.334096717825211,
          null
         ]
        },
        {
         "hoverinfo": "none",
         "line": {
          "color": "rgba(0, 0, 0, 0.8)",
          "width": 0.02
         },
         "mode": "lines",
         "type": "scatter",
         "x": [
          -0.10383356266536728,
          -0.2550888349257121,
          null
         ],
         "y": [
          -0.15447104199410414,
          -0.9476829298857408,
          null
         ]
        },
        {
         "hoverinfo": "none",
         "line": {
          "color": "rgba(0, 0, 0, 0.8)",
          "width": 0.2
         },
         "mode": "lines",
         "type": "scatter",
         "x": [
          -0.10383356266536728,
          -0.47617966766311803,
          null
         ],
         "y": [
          -0.15447104199410414,
          -0.862158824225785,
          null
         ]
        },
        {
         "hoverinfo": "none",
         "line": {
          "color": "rgba(0, 0, 0, 0.8)",
          "width": 0.02
         },
         "mode": "lines",
         "type": "scatter",
         "x": [
          -0.10383356266536728,
          -0.03308807086671816,
          null
         ],
         "y": [
          -0.15447104199410414,
          0.9646969056123894,
          null
         ]
        },
        {
         "hoverinfo": "none",
         "line": {
          "color": "rgba(0, 0, 0, 0.8)",
          "width": 0.05
         },
         "mode": "lines",
         "type": "scatter",
         "x": [
          -0.10383356266536728,
          -0.3934579638826972,
          null
         ],
         "y": [
          -0.15447104199410414,
          0.9433707045630458,
          null
         ]
        },
        {
         "hoverinfo": "none",
         "line": {
          "color": "rgba(0, 0, 255, 0.033783783783783786)",
          "width": 0.03
         },
         "mode": "lines",
         "type": "scatter",
         "x": [
          -0.10383356266536728,
          -0.6129827452470004,
          null
         ],
         "y": [
          -0.15447104199410414,
          -0.7568709274775649,
          null
         ]
        },
        {
         "hoverinfo": "none",
         "line": {
          "color": "rgba(0, 0, 0, 0.8)",
          "width": 0.01
         },
         "mode": "lines",
         "type": "scatter",
         "x": [
          -0.10383356266536728,
          0.9532835572247149,
          null
         ],
         "y": [
          -0.15447104199410414,
          -0.2880872636775998,
          null
         ]
        },
        {
         "hoverinfo": "none",
         "line": {
          "color": "rgba(0, 0, 0, 0.8)",
          "width": 0.01
         },
         "mode": "lines",
         "type": "scatter",
         "x": [
          -0.10383356266536728,
          -0.8327453449312028,
          null
         ],
         "y": [
          -0.15447104199410414,
          0.5568070076938468,
          null
         ]
        },
        {
         "hoverinfo": "none",
         "line": {
          "color": "rgba(0, 0, 0, 0.8)",
          "width": 0.02
         },
         "mode": "lines",
         "type": "scatter",
         "x": [
          -0.10383356266536728,
          0.899014647267909,
          null
         ],
         "y": [
          -0.15447104199410414,
          0.4767665944091181,
          null
         ]
        },
        {
         "hoverinfo": "none",
         "line": {
          "color": "rgba(0, 0, 0, 0.8)",
          "width": 0.07
         },
         "mode": "lines",
         "type": "scatter",
         "x": [
          -0.10383356266536728,
          -0.8354462776032343,
          null
         ],
         "y": [
          -0.15447104199410414,
          0.41714472914525047,
          null
         ]
        },
        {
         "hoverinfo": "none",
         "line": {
          "color": "rgba(0, 0, 0, 0.8)",
          "width": 0.01
         },
         "mode": "lines",
         "type": "scatter",
         "x": [
          -0.10383356266536728,
          -0.9774392768648794,
          null
         ],
         "y": [
          -0.15447104199410414,
          0.15582058150884934,
          null
         ]
        },
        {
         "hoverinfo": "none",
         "line": {
          "color": "rgba(0, 0, 0, 0.8)",
          "width": 0.03
         },
         "mode": "lines",
         "type": "scatter",
         "x": [
          -0.10383356266536728,
          -0.031279103862171184,
          null
         ],
         "y": [
          -0.15447104199410414,
          -0.9730297234678891,
          null
         ]
        },
        {
         "hoverinfo": "none",
         "line": {
          "color": "rgba(0, 0, 0, 0.8)",
          "width": 0.02
         },
         "mode": "lines",
         "type": "scatter",
         "x": [
          -0.10383356266536728,
          0.44931330872991654,
          null
         ],
         "y": [
          -0.15447104199410414,
          0.8989971765024731,
          null
         ]
        },
        {
         "hoverinfo": "none",
         "line": {
          "color": "rgba(0, 0, 0, 0.8)",
          "width": 0.08
         },
         "mode": "lines",
         "type": "scatter",
         "x": [
          -0.10383356266536728,
          -0.969704119210851,
          null
         ],
         "y": [
          -0.15447104199410414,
          0.0799851940897377,
          null
         ]
        },
        {
         "hoverinfo": "none",
         "line": {
          "color": "rgba(0, 0, 0, 0.8)",
          "width": 0.03
         },
         "mode": "lines",
         "type": "scatter",
         "x": [
          -0.10383356266536728,
          0.9539447487709961,
          null
         ],
         "y": [
          -0.15447104199410414,
          -0.21917981952014678,
          null
         ]
        },
        {
         "hoverinfo": "none",
         "line": {
          "color": "rgba(0, 0, 0, 0.8)",
          "width": 0.02
         },
         "mode": "lines",
         "type": "scatter",
         "x": [
          -0.10383356266536728,
          0.9558785655313029,
          null
         ],
         "y": [
          -0.15447104199410414,
          0.33563990585084297,
          null
         ]
        },
        {
         "hoverinfo": "none",
         "line": {
          "color": "rgba(0, 0, 0, 0.8)",
          "width": 0.04
         },
         "mode": "lines",
         "type": "scatter",
         "x": [
          -0.10383356266536728,
          0.9444377465272974,
          null
         ],
         "y": [
          -0.15447104199410414,
          -0.09876035442748367,
          null
         ]
        },
        {
         "hoverinfo": "none",
         "line": {
          "color": "rgba(0, 0, 0, 0.8)",
          "width": 0.02
         },
         "mode": "lines",
         "type": "scatter",
         "x": [
          -0.10383356266536728,
          0.6489036768675414,
          null
         ],
         "y": [
          -0.15447104199410414,
          0.784400169993281,
          null
         ]
        },
        {
         "hoverinfo": "none",
         "line": {
          "color": "rgba(0, 0, 0, 0.8)",
          "width": 0.01
         },
         "mode": "lines",
         "type": "scatter",
         "x": [
          -0.10383356266536728,
          -0.994032215259711,
          null
         ],
         "y": [
          -0.15447104199410414,
          0.003969429099871605,
          null
         ]
        },
        {
         "hoverinfo": "none",
         "line": {
          "color": "rgba(0, 0, 0, 0.8)",
          "width": 0.01
         },
         "mode": "lines",
         "type": "scatter",
         "x": [
          -0.10383356266536728,
          0.6571521271528116,
          null
         ],
         "y": [
          -0.15447104199410414,
          -0.7400526433542927,
          null
         ]
        },
        {
         "hoverinfo": "none",
         "line": {
          "color": "rgba(0, 0, 0, 0.8)",
          "width": 0.04
         },
         "mode": "lines",
         "type": "scatter",
         "x": [
          -0.10383356266536728,
          0.35986138391820705,
          null
         ],
         "y": [
          -0.15447104199410414,
          0.8192424046592419,
          null
         ]
        },
        {
         "hoverinfo": "none",
         "line": {
          "color": "rgba(0, 0, 255, 0.1126126126126126)",
          "width": 0.1
         },
         "mode": "lines",
         "type": "scatter",
         "x": [
          -0.10383356266536728,
          0.6838644087143524,
          null
         ],
         "y": [
          -0.15447104199410414,
          0.6893541288982742,
          null
         ]
        },
        {
         "hoverinfo": "none",
         "line": {
          "color": "rgba(0, 0, 0, 0.8)",
          "width": 0.02
         },
         "mode": "lines",
         "type": "scatter",
         "x": [
          -0.10383356266536728,
          -0.5670261818788142,
          null
         ],
         "y": [
          -0.15447104199410414,
          -0.8172972151294176,
          null
         ]
        },
        {
         "hoverinfo": "none",
         "line": {
          "color": "rgba(0, 0, 0, 0.8)",
          "width": 0.02
         },
         "mode": "lines",
         "type": "scatter",
         "x": [
          -0.10383356266536728,
          -0.8568192023812202,
          null
         ],
         "y": [
          -0.15447104199410414,
          0.48157774126738695,
          null
         ]
        },
        {
         "hoverinfo": "none",
         "line": {
          "color": "rgba(0, 0, 255, 0.02252252252252252)",
          "width": 0.02
         },
         "mode": "lines",
         "type": "scatter",
         "x": [
          -0.10383356266536728,
          -0.6936105690861178,
          null
         ],
         "y": [
          -0.15447104199410414,
          0.6556733265660122,
          null
         ]
        },
        {
         "hoverinfo": "none",
         "line": {
          "color": "rgba(0, 0, 0, 0.8)",
          "width": 0.02
         },
         "mode": "lines",
         "type": "scatter",
         "x": [
          -0.10383356266536728,
          0.7414251724263317,
          null
         ],
         "y": [
          -0.15447104199410414,
          0.6147149944140688,
          null
         ]
        },
        {
         "hoverinfo": "none",
         "line": {
          "color": "rgba(0, 0, 0, 0.8)",
          "width": 0.01
         },
         "mode": "lines",
         "type": "scatter",
         "x": [
          -0.10383356266536728,
          -0.9668062593660902,
          null
         ],
         "y": [
          -0.15447104199410414,
          -0.05550392029786738,
          null
         ]
        },
        {
         "hoverinfo": "none",
         "line": {
          "color": "rgba(0, 0, 0, 0.8)",
          "width": 0.01
         },
         "mode": "lines",
         "type": "scatter",
         "x": [
          -0.10383356266536728,
          0.0773046820999453,
          null
         ],
         "y": [
          -0.15447104199410414,
          -0.9508952093103114,
          null
         ]
        },
        {
         "hoverinfo": "none",
         "line": {
          "color": "rgba(0, 0, 0, 0.8)",
          "width": 0.01
         },
         "mode": "lines",
         "type": "scatter",
         "x": [
          -0.10383356266536728,
          -0.8375714180406986,
          null
         ],
         "y": [
          -0.15447104199410414,
          -0.5394042446174725,
          null
         ]
        },
        {
         "hoverinfo": "none",
         "line": {
          "color": "rgba(0, 0, 0, 0.8)",
          "width": 0.01
         },
         "mode": "lines",
         "type": "scatter",
         "x": [
          -0.10383356266536728,
          -0.8957367295275568,
          null
         ],
         "y": [
          -0.15447104199410414,
          -0.4706152903531191,
          null
         ]
        },
        {
         "hoverinfo": "none",
         "line": {
          "color": "rgba(0, 0, 0, 0.8)",
          "width": 0.02
         },
         "mode": "lines",
         "type": "scatter",
         "x": [
          -0.10383356266536728,
          -0.40814869730982584,
          null
         ],
         "y": [
          -0.15447104199410414,
          -0.8785887664494433,
          null
         ]
        },
        {
         "hoverinfo": "none",
         "line": {
          "color": "rgba(0, 0, 0, 0.8)",
          "width": 0.01
         },
         "mode": "lines",
         "type": "scatter",
         "x": [
          -0.10383356266536728,
          0.49490271063269975,
          null
         ],
         "y": [
          -0.15447104199410414,
          0.83680043248541,
          null
         ]
        },
        {
         "hoverinfo": "none",
         "line": {
          "color": "rgba(0, 0, 0, 0.8)",
          "width": 0.01
         },
         "mode": "lines",
         "type": "scatter",
         "x": [
          -0.10383356266536728,
          0.2579680975564024,
          null
         ],
         "y": [
          -0.15447104199410414,
          0.9486667845989296,
          null
         ]
        },
        {
         "hoverinfo": "none",
         "line": {
          "color": "rgba(0, 0, 0, 0.8)",
          "width": 0.01
         },
         "mode": "lines",
         "type": "scatter",
         "x": [
          -0.10383356266536728,
          -0.7315448377482627,
          null
         ],
         "y": [
          -0.15447104199410414,
          -0.7034211243057392,
          null
         ]
        },
        {
         "hoverinfo": "none",
         "line": {
          "color": "rgba(0, 0, 0, 0.8)",
          "width": 0.01
         },
         "mode": "lines",
         "type": "scatter",
         "x": [
          -0.10383356266536728,
          0.5841854529431,
          null
         ],
         "y": [
          -0.15447104199410414,
          0.7386605810949162,
          null
         ]
        },
        {
         "hoverinfo": "none",
         "line": {
          "color": "rgba(0, 0, 0, 0.8)",
          "width": 0.01
         },
         "mode": "lines",
         "type": "scatter",
         "x": [
          -0.10383356266536728,
          0.9071260107821375,
          null
         ],
         "y": [
          -0.15447104199410414,
          -0.45144852455161544,
          null
         ]
        },
        {
         "hoverinfo": "none",
         "line": {
          "color": "rgba(0, 0, 0, 0.8)",
          "width": 0.01
         },
         "mode": "lines",
         "type": "scatter",
         "x": [
          -0.8839533443816736,
          0.9023062719368269,
          null
         ],
         "y": [
          -0.334096717825211,
          0.397184561555777,
          null
         ]
        },
        {
         "hoverinfo": "none",
         "line": {
          "color": "rgba(0, 0, 0, 0.8)",
          "width": 0.01
         },
         "mode": "lines",
         "type": "scatter",
         "x": [
          -0.8839533443816736,
          0.2420362459456123,
          null
         ],
         "y": [
          -0.334096717825211,
          -0.9371720963876,
          null
         ]
        },
        {
         "hoverinfo": "none",
         "line": {
          "color": "rgba(0, 0, 0, 0.8)",
          "width": 0.02
         },
         "mode": "lines",
         "type": "scatter",
         "x": [
          -0.8839533443816736,
          -0.14035419836878063,
          null
         ],
         "y": [
          -0.334096717825211,
          0.9509073545454106,
          null
         ]
        },
        {
         "hoverinfo": "none",
         "line": {
          "color": "rgba(0, 0, 0, 0.8)",
          "width": 0.01
         },
         "mode": "lines",
         "type": "scatter",
         "x": [
          -0.8839533443816736,
          0.015434781666045108,
          null
         ],
         "y": [
          -0.334096717825211,
          -0.9887620488481842,
          null
         ]
        },
        {
         "hoverinfo": "none",
         "line": {
          "color": "rgba(0, 0, 0, 0.8)",
          "width": 0.24
         },
         "mode": "lines",
         "type": "scatter",
         "x": [
          -0.03308807086671816,
          0.7394292093099564,
          null
         ],
         "y": [
          0.9646969056123894,
          0.7083009901197292,
          null
         ]
        },
        {
         "hoverinfo": "none",
         "line": {
          "color": "rgba(0, 0, 0, 0.8)",
          "width": 0.02
         },
         "mode": "lines",
         "type": "scatter",
         "x": [
          -0.03308807086671816,
          -0.6936105690861178,
          null
         ],
         "y": [
          0.9646969056123894,
          0.6556733265660122,
          null
         ]
        },
        {
         "hoverinfo": "none",
         "line": {
          "color": "rgba(0, 0, 0, 0.8)",
          "width": 0.15
         },
         "mode": "lines",
         "type": "scatter",
         "x": [
          -0.03308807086671816,
          -0.5670261818788142,
          null
         ],
         "y": [
          0.9646969056123894,
          -0.8172972151294176,
          null
         ]
        },
        {
         "hoverinfo": "none",
         "line": {
          "color": "rgba(0, 0, 0, 0.8)",
          "width": 0.05
         },
         "mode": "lines",
         "type": "scatter",
         "x": [
          -0.03308807086671816,
          -0.47617966766311803,
          null
         ],
         "y": [
          0.9646969056123894,
          -0.862158824225785,
          null
         ]
        },
        {
         "hoverinfo": "none",
         "line": {
          "color": "rgba(0, 0, 0, 0.8)",
          "width": 0.01
         },
         "mode": "lines",
         "type": "scatter",
         "x": [
          -0.03308807086671816,
          0.49490271063269975,
          null
         ],
         "y": [
          0.9646969056123894,
          0.83680043248541,
          null
         ]
        },
        {
         "hoverinfo": "none",
         "line": {
          "color": "rgba(0, 0, 0, 0.8)",
          "width": 0.04
         },
         "mode": "lines",
         "type": "scatter",
         "x": [
          -0.03308807086671816,
          -0.7798406168896717,
          null
         ],
         "y": [
          0.9646969056123894,
          0.6585296604646206,
          null
         ]
        },
        {
         "hoverinfo": "none",
         "line": {
          "color": "rgba(0, 0, 0, 0.8)",
          "width": 0.03
         },
         "mode": "lines",
         "type": "scatter",
         "x": [
          -0.03308807086671816,
          -0.9642160820325939,
          null
         ],
         "y": [
          0.9646969056123894,
          -0.2315116808308409,
          null
         ]
        },
        {
         "hoverinfo": "none",
         "line": {
          "color": "rgba(0, 0, 0, 0.8)",
          "width": 0.01
         },
         "mode": "lines",
         "type": "scatter",
         "x": [
          -0.03308807086671816,
          0.8507803354985272,
          null
         ],
         "y": [
          0.9646969056123894,
          -0.5251268558213069,
          null
         ]
        },
        {
         "hoverinfo": "none",
         "line": {
          "color": "rgba(0, 0, 0, 0.8)",
          "width": 0.02
         },
         "mode": "lines",
         "type": "scatter",
         "x": [
          -0.03308807086671816,
          0.14096749701778885,
          null
         ],
         "y": [
          0.9646969056123894,
          -0.9535734057184455,
          null
         ]
        },
        {
         "hoverinfo": "none",
         "line": {
          "color": "rgba(0, 0, 0, 0.8)",
          "width": 0.01
         },
         "mode": "lines",
         "type": "scatter",
         "x": [
          -0.03308807086671816,
          -0.6129827452470004,
          null
         ],
         "y": [
          0.9646969056123894,
          -0.7568709274775649,
          null
         ]
        },
        {
         "hoverinfo": "none",
         "line": {
          "color": "rgba(0, 0, 0, 0.8)",
          "width": 0.01
         },
         "mode": "lines",
         "type": "scatter",
         "x": [
          -0.03308807086671816,
          -0.3634956926427016,
          null
         ],
         "y": [
          0.9646969056123894,
          -0.9287158265147373,
          null
         ]
        },
        {
         "hoverinfo": "none",
         "line": {
          "color": "rgba(0, 0, 0, 0.8)",
          "width": 0.01
         },
         "mode": "lines",
         "type": "scatter",
         "x": [
          -0.03308807086671816,
          0.015434781666045108,
          null
         ],
         "y": [
          0.9646969056123894,
          -0.9887620488481842,
          null
         ]
        },
        {
         "hoverinfo": "none",
         "line": {
          "color": "rgba(0, 0, 0, 0.8)",
          "width": 0.01
         },
         "mode": "lines",
         "type": "scatter",
         "x": [
          -0.9346802511284125,
          0.015434781666045108,
          null
         ],
         "y": [
          0.21466341464048153,
          -0.9887620488481842,
          null
         ]
        },
        {
         "hoverinfo": "none",
         "line": {
          "color": "rgba(0, 0, 0, 0.8)",
          "width": 0.01
         },
         "mode": "lines",
         "type": "scatter",
         "x": [
          -0.9346802511284125,
          -0.8354462776032343,
          null
         ],
         "y": [
          0.21466341464048153,
          0.41714472914525047,
          null
         ]
        },
        {
         "hoverinfo": "none",
         "line": {
          "color": "rgba(0, 0, 0, 0.8)",
          "width": 0.01
         },
         "mode": "lines",
         "type": "scatter",
         "x": [
          0.015434781666045108,
          0.6027041902985693,
          null
         ],
         "y": [
          -0.9887620488481842,
          -0.7777780101371808,
          null
         ]
        },
        {
         "hoverinfo": "none",
         "line": {
          "color": "rgba(0, 0, 0, 0.8)",
          "width": 0.05
         },
         "mode": "lines",
         "type": "scatter",
         "x": [
          0.015434781666045108,
          -0.9256046098122075,
          null
         ],
         "y": [
          -0.9887620488481842,
          0.40500299769825593,
          null
         ]
        },
        {
         "hoverinfo": "none",
         "line": {
          "color": "rgba(0, 0, 0, 0.8)",
          "width": 0.04
         },
         "mode": "lines",
         "type": "scatter",
         "x": [
          0.015434781666045108,
          0.9558785655313029,
          null
         ],
         "y": [
          -0.9887620488481842,
          0.33563990585084297,
          null
         ]
        },
        {
         "hoverinfo": "none",
         "line": {
          "color": "rgba(0, 0, 255, 0.09009009009009009)",
          "width": 0.08
         },
         "mode": "lines",
         "type": "scatter",
         "x": [
          0.015434781666045108,
          -0.6129827452470004,
          null
         ],
         "y": [
          -0.9887620488481842,
          -0.7568709274775649,
          null
         ]
        },
        {
         "hoverinfo": "none",
         "line": {
          "color": "rgba(0, 0, 0, 0.8)",
          "width": 0.05
         },
         "mode": "lines",
         "type": "scatter",
         "x": [
          0.015434781666045108,
          -0.8568192023812202,
          null
         ],
         "y": [
          -0.9887620488481842,
          0.48157774126738695,
          null
         ]
        },
        {
         "hoverinfo": "none",
         "line": {
          "color": "rgba(0, 0, 0, 0.8)",
          "width": 0.01
         },
         "mode": "lines",
         "type": "scatter",
         "x": [
          0.015434781666045108,
          -0.3934579638826972,
          null
         ],
         "y": [
          -0.9887620488481842,
          0.9433707045630458,
          null
         ]
        },
        {
         "hoverinfo": "none",
         "line": {
          "color": "rgba(0, 0, 0, 0.8)",
          "width": 0.01
         },
         "mode": "lines",
         "type": "scatter",
         "x": [
          0.015434781666045108,
          0.899014647267909,
          null
         ],
         "y": [
          -0.9887620488481842,
          0.4767665944091181,
          null
         ]
        },
        {
         "hoverinfo": "none",
         "line": {
          "color": "rgba(0, 0, 0, 0.8)",
          "width": 0.03
         },
         "mode": "lines",
         "type": "scatter",
         "x": [
          0.015434781666045108,
          -0.40814869730982584,
          null
         ],
         "y": [
          -0.9887620488481842,
          -0.8785887664494433,
          null
         ]
        },
        {
         "hoverinfo": "none",
         "line": {
          "color": "rgba(0, 0, 0, 0.8)",
          "width": 0.02
         },
         "mode": "lines",
         "type": "scatter",
         "x": [
          0.015434781666045108,
          -0.8354462776032343,
          null
         ],
         "y": [
          -0.9887620488481842,
          0.41714472914525047,
          null
         ]
        },
        {
         "hoverinfo": "none",
         "line": {
          "color": "rgba(0, 0, 0, 0.8)",
          "width": 0.02
         },
         "mode": "lines",
         "type": "scatter",
         "x": [
          0.015434781666045108,
          -0.969704119210851,
          null
         ],
         "y": [
          -0.9887620488481842,
          0.0799851940897377,
          null
         ]
        },
        {
         "hoverinfo": "none",
         "line": {
          "color": "rgba(0, 0, 0, 0.8)",
          "width": 0.02
         },
         "mode": "lines",
         "type": "scatter",
         "x": [
          0.015434781666045108,
          0.5409365664167735,
          null
         ],
         "y": [
          -0.9887620488481842,
          -0.843232590310273,
          null
         ]
        },
        {
         "hoverinfo": "none",
         "line": {
          "color": "rgba(0, 0, 0, 0.8)",
          "width": 0.04
         },
         "mode": "lines",
         "type": "scatter",
         "x": [
          0.015434781666045108,
          -0.9558561764200529,
          null
         ],
         "y": [
          -0.9887620488481842,
          0.27031409616505014,
          null
         ]
        },
        {
         "hoverinfo": "none",
         "line": {
          "color": "rgba(0, 0, 0, 0.8)",
          "width": 0.01
         },
         "mode": "lines",
         "type": "scatter",
         "x": [
          0.015434781666045108,
          -0.47617966766311803,
          null
         ],
         "y": [
          -0.9887620488481842,
          -0.862158824225785,
          null
         ]
        },
        {
         "hoverinfo": "none",
         "line": {
          "color": "rgba(0, 0, 255, 0.01126126126126126)",
          "width": 0.01
         },
         "mode": "lines",
         "type": "scatter",
         "x": [
          0.015434781666045108,
          0.2420362459456123,
          null
         ],
         "y": [
          -0.9887620488481842,
          -0.9371720963876,
          null
         ]
        },
        {
         "hoverinfo": "none",
         "line": {
          "color": "rgba(0, 0, 0, 0.8)",
          "width": 0.02
         },
         "mode": "lines",
         "type": "scatter",
         "x": [
          0.015434781666045108,
          0.6489036768675414,
          null
         ],
         "y": [
          -0.9887620488481842,
          0.784400169993281,
          null
         ]
        },
        {
         "hoverinfo": "none",
         "line": {
          "color": "rgba(0, 0, 0, 0.8)",
          "width": 0.01
         },
         "mode": "lines",
         "type": "scatter",
         "x": [
          0.015434781666045108,
          0.8745971730655957,
          null
         ],
         "y": [
          -0.9887620488481842,
          -0.3168216226336203,
          null
         ]
        },
        {
         "hoverinfo": "none",
         "line": {
          "color": "rgba(0, 0, 0, 0.8)",
          "width": 0.02
         },
         "mode": "lines",
         "type": "scatter",
         "x": [
          0.015434781666045108,
          -0.2920376368385878,
          null
         ],
         "y": [
          -0.9887620488481842,
          0.9546000697471745,
          null
         ]
        },
        {
         "hoverinfo": "none",
         "line": {
          "color": "rgba(0, 0, 0, 0.8)",
          "width": 0.02
         },
         "mode": "lines",
         "type": "scatter",
         "x": [
          0.2420362459456123,
          -0.19246170648878455,
          null
         ],
         "y": [
          -0.9371720963876,
          -0.96978268853147,
          null
         ]
        },
        {
         "hoverinfo": "none",
         "line": {
          "color": "rgba(0, 0, 0, 0.8)",
          "width": 0.01
         },
         "mode": "lines",
         "type": "scatter",
         "x": [
          0.2420362459456123,
          -0.6367261638869024,
          null
         ],
         "y": [
          -0.9371720963876,
          0.7617491368598485,
          null
         ]
        },
        {
         "hoverinfo": "none",
         "line": {
          "color": "rgba(0, 0, 0, 0.8)",
          "width": 0.01
         },
         "mode": "lines",
         "type": "scatter",
         "x": [
          0.2420362459456123,
          -0.5059491471082506,
          null
         ],
         "y": [
          -0.9371720963876,
          -0.8031537026415206,
          null
         ]
        },
        {
         "hoverinfo": "none",
         "line": {
          "color": "rgba(0, 0, 0, 0.8)",
          "width": 0.01
         },
         "mode": "lines",
         "type": "scatter",
         "x": [
          0.2420362459456123,
          -0.5670261818788142,
          null
         ],
         "y": [
          -0.9371720963876,
          -0.8172972151294176,
          null
         ]
        },
        {
         "hoverinfo": "none",
         "line": {
          "color": "rgba(0, 0, 255, 0.04504504504504504)",
          "width": 0.04
         },
         "mode": "lines",
         "type": "scatter",
         "x": [
          0.2420362459456123,
          -0.9642160820325939,
          null
         ],
         "y": [
          -0.9371720963876,
          -0.2315116808308409,
          null
         ]
        },
        {
         "hoverinfo": "none",
         "line": {
          "color": "rgba(0, 0, 0, 0.8)",
          "width": 0.01
         },
         "mode": "lines",
         "type": "scatter",
         "x": [
          0.2420362459456123,
          0.9379067575108215,
          null
         ],
         "y": [
          -0.9371720963876,
          -0.36973689198351467,
          null
         ]
        },
        {
         "hoverinfo": "none",
         "line": {
          "color": "rgba(0, 0, 0, 0.8)",
          "width": 0.01
         },
         "mode": "lines",
         "type": "scatter",
         "x": [
          0.2420362459456123,
          -0.031279103862171184,
          null
         ],
         "y": [
          -0.9371720963876,
          -0.9730297234678891,
          null
         ]
        },
        {
         "hoverinfo": "none",
         "line": {
          "color": "rgba(0, 0, 0, 0.8)",
          "width": 0.02
         },
         "mode": "lines",
         "type": "scatter",
         "x": [
          0.2420362459456123,
          -0.47617966766311803,
          null
         ],
         "y": [
          -0.9371720963876,
          -0.862158824225785,
          null
         ]
        },
        {
         "hoverinfo": "none",
         "line": {
          "color": "rgba(0, 0, 0, 0.8)",
          "width": 0.02
         },
         "mode": "lines",
         "type": "scatter",
         "x": [
          0.2420362459456123,
          0.5409365664167735,
          null
         ],
         "y": [
          -0.9371720963876,
          -0.843232590310273,
          null
         ]
        },
        {
         "hoverinfo": "none",
         "line": {
          "color": "rgba(0, 0, 0, 0.8)",
          "width": 0.01
         },
         "mode": "lines",
         "type": "scatter",
         "x": [
          0.2420362459456123,
          0.9532835572247149,
          null
         ],
         "y": [
          -0.9371720963876,
          -0.2880872636775998,
          null
         ]
        },
        {
         "hoverinfo": "none",
         "line": {
          "color": "rgba(0, 0, 0, 0.8)",
          "width": 0.01
         },
         "mode": "lines",
         "type": "scatter",
         "x": [
          0.2420362459456123,
          0.35986138391820705,
          null
         ],
         "y": [
          -0.9371720963876,
          0.8192424046592419,
          null
         ]
        },
        {
         "hoverinfo": "none",
         "line": {
          "color": "rgba(0, 0, 0, 0.8)",
          "width": 0.02
         },
         "mode": "lines",
         "type": "scatter",
         "x": [
          0.2420362459456123,
          0.7414251724263317,
          null
         ],
         "y": [
          -0.9371720963876,
          0.6147149944140688,
          null
         ]
        },
        {
         "hoverinfo": "none",
         "line": {
          "color": "rgba(0, 0, 0, 0.8)",
          "width": 0.01
         },
         "mode": "lines",
         "type": "scatter",
         "x": [
          0.2420362459456123,
          -0.550830691001996,
          null
         ],
         "y": [
          -0.9371720963876,
          0.7246997780887199,
          null
         ]
        },
        {
         "hoverinfo": "none",
         "line": {
          "color": "rgba(0, 0, 0, 0.8)",
          "width": 0.01
         },
         "mode": "lines",
         "type": "scatter",
         "x": [
          0.2420362459456123,
          0.899014647267909,
          null
         ],
         "y": [
          -0.9371720963876,
          0.4767665944091181,
          null
         ]
        },
        {
         "hoverinfo": "none",
         "line": {
          "color": "rgba(0, 0, 0, 0.8)",
          "width": 0.01
         },
         "mode": "lines",
         "type": "scatter",
         "x": [
          0.2420362459456123,
          -0.2920376368385878,
          null
         ],
         "y": [
          -0.9371720963876,
          0.9546000697471745,
          null
         ]
        },
        {
         "hoverinfo": "none",
         "line": {
          "color": "rgba(0, 0, 0, 0.8)",
          "width": 0.01
         },
         "mode": "lines",
         "type": "scatter",
         "x": [
          0.2420362459456123,
          -0.8354462776032343,
          null
         ],
         "y": [
          -0.9371720963876,
          0.41714472914525047,
          null
         ]
        },
        {
         "hoverinfo": "none",
         "line": {
          "color": "rgba(0, 0, 0, 0.8)",
          "width": 0.01
         },
         "mode": "lines",
         "type": "scatter",
         "x": [
          0.2420362459456123,
          -0.9256046098122075,
          null
         ],
         "y": [
          -0.9371720963876,
          0.40500299769825593,
          null
         ]
        },
        {
         "hoverinfo": "none",
         "line": {
          "color": "rgba(0, 0, 0, 0.8)",
          "width": 0.01
         },
         "mode": "lines",
         "type": "scatter",
         "x": [
          0.2420362459456123,
          0.44931330872991654,
          null
         ],
         "y": [
          -0.9371720963876,
          0.8989971765024731,
          null
         ]
        },
        {
         "hoverinfo": "none",
         "line": {
          "color": "rgba(0, 0, 0, 0.8)",
          "width": 0.01
         },
         "mode": "lines",
         "type": "scatter",
         "x": [
          0.2420362459456123,
          0.9558785655313029,
          null
         ],
         "y": [
          -0.9371720963876,
          0.33563990585084297,
          null
         ]
        },
        {
         "hoverinfo": "none",
         "line": {
          "color": "rgba(0, 0, 0, 0.8)",
          "width": 0.04
         },
         "mode": "lines",
         "type": "scatter",
         "x": [
          0.899014647267909,
          -0.550830691001996,
          null
         ],
         "y": [
          0.4767665944091181,
          0.7246997780887199,
          null
         ]
        },
        {
         "hoverinfo": "none",
         "line": {
          "color": "rgba(255, 0, 0, 0.033783783783783786)",
          "width": 0.03
         },
         "mode": "lines",
         "type": "scatter",
         "x": [
          0.899014647267909,
          0.44931330872991654,
          null
         ],
         "y": [
          0.4767665944091181,
          0.8989971765024731,
          null
         ]
        },
        {
         "hoverinfo": "none",
         "line": {
          "color": "rgba(0, 0, 0, 0.8)",
          "width": 0.01
         },
         "mode": "lines",
         "type": "scatter",
         "x": [
          0.899014647267909,
          -0.3934579638826972,
          null
         ],
         "y": [
          0.4767665944091181,
          0.9433707045630458,
          null
         ]
        },
        {
         "hoverinfo": "none",
         "line": {
          "color": "rgba(0, 0, 0, 0.8)",
          "width": 0.01
         },
         "mode": "lines",
         "type": "scatter",
         "x": [
          0.899014647267909,
          0.35986138391820705,
          null
         ],
         "y": [
          0.4767665944091181,
          0.8192424046592419,
          null
         ]
        },
        {
         "hoverinfo": "none",
         "line": {
          "color": "rgba(0, 0, 0, 0.8)",
          "width": 0.01
         },
         "mode": "lines",
         "type": "scatter",
         "x": [
          0.899014647267909,
          -0.8354462776032343,
          null
         ],
         "y": [
          0.4767665944091181,
          0.41714472914525047,
          null
         ]
        },
        {
         "hoverinfo": "none",
         "line": {
          "color": "rgba(255, 0, 0, 0.01126126126126126)",
          "width": 0.01
         },
         "mode": "lines",
         "type": "scatter",
         "x": [
          0.899014647267909,
          -0.9558561764200529,
          null
         ],
         "y": [
          0.4767665944091181,
          0.27031409616505014,
          null
         ]
        },
        {
         "hoverinfo": "none",
         "line": {
          "color": "rgba(0, 0, 0, 0.8)",
          "width": 0.01
         },
         "mode": "lines",
         "type": "scatter",
         "x": [
          0.899014647267909,
          -0.6936105690861178,
          null
         ],
         "y": [
          0.4767665944091181,
          0.6556733265660122,
          null
         ]
        },
        {
         "hoverinfo": "none",
         "line": {
          "color": "rgba(0, 0, 0, 0.8)",
          "width": 0.01
         },
         "mode": "lines",
         "type": "scatter",
         "x": [
          0.899014647267909,
          -0.7315448377482627,
          null
         ],
         "y": [
          0.4767665944091181,
          -0.7034211243057392,
          null
         ]
        },
        {
         "hoverinfo": "none",
         "line": {
          "color": "rgba(255, 0, 0, 0.01126126126126126)",
          "width": 0.01
         },
         "mode": "lines",
         "type": "scatter",
         "x": [
          0.899014647267909,
          -0.031279103862171184,
          null
         ],
         "y": [
          0.4767665944091181,
          -0.9730297234678891,
          null
         ]
        },
        {
         "hoverinfo": "none",
         "line": {
          "color": "rgba(0, 0, 0, 0.8)",
          "width": 0.01
         },
         "mode": "lines",
         "type": "scatter",
         "x": [
          -0.47617966766311803,
          0.7394292093099564,
          null
         ],
         "y": [
          -0.862158824225785,
          0.7083009901197292,
          null
         ]
        },
        {
         "hoverinfo": "none",
         "line": {
          "color": "rgba(0, 0, 0, 0.8)",
          "width": 0.01
         },
         "mode": "lines",
         "type": "scatter",
         "x": [
          -0.47617966766311803,
          -0.6129827452470004,
          null
         ],
         "y": [
          -0.862158824225785,
          -0.7568709274775649,
          null
         ]
        },
        {
         "hoverinfo": "none",
         "line": {
          "color": "rgba(0, 0, 0, 0.8)",
          "width": 0.01
         },
         "mode": "lines",
         "type": "scatter",
         "x": [
          -0.47617966766311803,
          -0.3634956926427016,
          null
         ],
         "y": [
          -0.862158824225785,
          -0.9287158265147373,
          null
         ]
        },
        {
         "hoverinfo": "none",
         "line": {
          "color": "rgba(0, 0, 0, 0.8)",
          "width": 0.01
         },
         "mode": "lines",
         "type": "scatter",
         "x": [
          -0.47617966766311803,
          -0.5670261818788142,
          null
         ],
         "y": [
          -0.862158824225785,
          -0.8172972151294176,
          null
         ]
        },
        {
         "hoverinfo": "none",
         "line": {
          "color": "rgba(0, 0, 0, 0.8)",
          "width": 0.03
         },
         "mode": "lines",
         "type": "scatter",
         "x": [
          -0.47617966766311803,
          -0.9642160820325939,
          null
         ],
         "y": [
          -0.862158824225785,
          -0.2315116808308409,
          null
         ]
        },
        {
         "hoverinfo": "none",
         "line": {
          "color": "rgba(0, 0, 0, 0.8)",
          "width": 0.01
         },
         "mode": "lines",
         "type": "scatter",
         "x": [
          -0.47617966766311803,
          -0.19246170648878455,
          null
         ],
         "y": [
          -0.862158824225785,
          -0.96978268853147,
          null
         ]
        },
        {
         "hoverinfo": "none",
         "line": {
          "color": "rgba(0, 0, 0, 0.8)",
          "width": 0.02
         },
         "mode": "lines",
         "type": "scatter",
         "x": [
          -0.47617966766311803,
          -0.7798406168896717,
          null
         ],
         "y": [
          -0.862158824225785,
          0.6585296604646206,
          null
         ]
        },
        {
         "hoverinfo": "none",
         "line": {
          "color": "rgba(0, 0, 0, 0.8)",
          "width": 0.01
         },
         "mode": "lines",
         "type": "scatter",
         "x": [
          -0.47617966766311803,
          -0.6367261638869024,
          null
         ],
         "y": [
          -0.862158824225785,
          0.7617491368598485,
          null
         ]
        },
        {
         "hoverinfo": "none",
         "line": {
          "color": "rgba(0, 0, 0, 0.8)",
          "width": 0.01
         },
         "mode": "lines",
         "type": "scatter",
         "x": [
          -0.47617966766311803,
          0.5409365664167735,
          null
         ],
         "y": [
          -0.862158824225785,
          -0.843232590310273,
          null
         ]
        },
        {
         "hoverinfo": "none",
         "line": {
          "color": "rgba(0, 0, 0, 0.8)",
          "width": 0.01
         },
         "mode": "lines",
         "type": "scatter",
         "x": [
          -0.47617966766311803,
          1,
          null
         ],
         "y": [
          -0.862158824225785,
          -0.06805497095265818,
          null
         ]
        },
        {
         "hoverinfo": "none",
         "line": {
          "color": "rgba(0, 0, 0, 0.8)",
          "width": 0.01
         },
         "mode": "lines",
         "type": "scatter",
         "x": [
          -0.47617966766311803,
          0.0773046820999453,
          null
         ],
         "y": [
          -0.862158824225785,
          -0.9508952093103114,
          null
         ]
        },
        {
         "hoverinfo": "none",
         "line": {
          "color": "rgba(0, 0, 0, 0.8)",
          "width": 0.01
         },
         "mode": "lines",
         "type": "scatter",
         "x": [
          0.9444377465272974,
          -0.969704119210851,
          null
         ],
         "y": [
          -0.09876035442748367,
          0.0799851940897377,
          null
         ]
        },
        {
         "hoverinfo": "none",
         "line": {
          "color": "rgba(255, 0, 0, 0.04504504504504504)",
          "width": 0.04
         },
         "mode": "lines",
         "type": "scatter",
         "x": [
          0.9444377465272974,
          -0.031279103862171184,
          null
         ],
         "y": [
          -0.09876035442748367,
          -0.9730297234678891,
          null
         ]
        },
        {
         "hoverinfo": "none",
         "line": {
          "color": "rgba(0, 0, 0, 0.8)",
          "width": 0.01
         },
         "mode": "lines",
         "type": "scatter",
         "x": [
          0.9444377465272974,
          0.9558785655313029,
          null
         ],
         "y": [
          -0.09876035442748367,
          0.33563990585084297,
          null
         ]
        },
        {
         "hoverinfo": "none",
         "line": {
          "color": "rgba(0, 0, 0, 0.8)",
          "width": 0.01
         },
         "mode": "lines",
         "type": "scatter",
         "x": [
          0.9444377465272974,
          0.5670414917380979,
          null
         ],
         "y": [
          -0.09876035442748367,
          0.8270510204107957,
          null
         ]
        },
        {
         "hoverinfo": "none",
         "line": {
          "color": "rgba(0, 0, 0, 0.8)",
          "width": 0.01
         },
         "mode": "lines",
         "type": "scatter",
         "x": [
          0.9444377465272974,
          0.9539447487709961,
          null
         ],
         "y": [
          -0.09876035442748367,
          -0.21917981952014678,
          null
         ]
        },
        {
         "hoverinfo": "none",
         "line": {
          "color": "rgba(0, 0, 0, 0.8)",
          "width": 0.01
         },
         "mode": "lines",
         "type": "scatter",
         "x": [
          0.9444377465272974,
          0.9532835572247149,
          null
         ],
         "y": [
          -0.09876035442748367,
          -0.2880872636775998,
          null
         ]
        },
        {
         "hoverinfo": "none",
         "line": {
          "color": "rgba(0, 0, 0, 0.8)",
          "width": 0.01
         },
         "mode": "lines",
         "type": "scatter",
         "x": [
          0.9444377465272974,
          0.6838644087143524,
          null
         ],
         "y": [
          -0.09876035442748367,
          0.6893541288982742,
          null
         ]
        },
        {
         "hoverinfo": "none",
         "line": {
          "color": "rgba(0, 0, 0, 0.8)",
          "width": 0.01
         },
         "mode": "lines",
         "type": "scatter",
         "x": [
          0.9444377465272974,
          0.35986138391820705,
          null
         ],
         "y": [
          -0.09876035442748367,
          0.8192424046592419,
          null
         ]
        },
        {
         "hoverinfo": "none",
         "line": {
          "color": "rgba(0, 0, 0, 0.8)",
          "width": 0.01
         },
         "mode": "lines",
         "type": "scatter",
         "x": [
          0.9444377465272974,
          -0.6936105690861178,
          null
         ],
         "y": [
          -0.09876035442748367,
          0.6556733265660122,
          null
         ]
        },
        {
         "hoverinfo": "none",
         "line": {
          "color": "rgba(0, 0, 0, 0.8)",
          "width": 0.28
         },
         "mode": "lines",
         "type": "scatter",
         "x": [
          -0.969704119210851,
          -0.8354462776032343,
          null
         ],
         "y": [
          0.0799851940897377,
          0.41714472914525047,
          null
         ]
        },
        {
         "hoverinfo": "none",
         "line": {
          "color": "rgba(0, 0, 0, 0.8)",
          "width": 0.04
         },
         "mode": "lines",
         "type": "scatter",
         "x": [
          -0.969704119210851,
          0.9859944547514741,
          null
         ],
         "y": [
          0.0799851940897377,
          0.002069381258884614,
          null
         ]
        },
        {
         "hoverinfo": "none",
         "line": {
          "color": "rgba(0, 0, 0, 0.8)",
          "width": 0.02
         },
         "mode": "lines",
         "type": "scatter",
         "x": [
          -0.969704119210851,
          0.7414251724263317,
          null
         ],
         "y": [
          0.0799851940897377,
          0.6147149944140688,
          null
         ]
        },
        {
         "hoverinfo": "none",
         "line": {
          "color": "rgba(0, 0, 0, 0.8)",
          "width": 0.02
         },
         "mode": "lines",
         "type": "scatter",
         "x": [
          -0.969704119210851,
          0.9558785655313029,
          null
         ],
         "y": [
          0.0799851940897377,
          0.33563990585084297,
          null
         ]
        },
        {
         "hoverinfo": "none",
         "line": {
          "color": "rgba(0, 0, 0, 0.8)",
          "width": 0.1
         },
         "mode": "lines",
         "type": "scatter",
         "x": [
          -0.969704119210851,
          0.35986138391820705,
          null
         ],
         "y": [
          0.0799851940897377,
          0.8192424046592419,
          null
         ]
        },
        {
         "hoverinfo": "none",
         "line": {
          "color": "rgba(0, 0, 0, 0.8)",
          "width": 0.02
         },
         "mode": "lines",
         "type": "scatter",
         "x": [
          -0.969704119210851,
          0.5409365664167735,
          null
         ],
         "y": [
          0.0799851940897377,
          -0.843232590310273,
          null
         ]
        },
        {
         "hoverinfo": "none",
         "line": {
          "color": "rgba(0, 0, 0, 0.8)",
          "width": 0.01
         },
         "mode": "lines",
         "type": "scatter",
         "x": [
          -0.969704119210851,
          0.9539447487709961,
          null
         ],
         "y": [
          0.0799851940897377,
          -0.21917981952014678,
          null
         ]
        },
        {
         "hoverinfo": "none",
         "line": {
          "color": "rgba(0, 0, 0, 0.8)",
          "width": 0.01
         },
         "mode": "lines",
         "type": "scatter",
         "x": [
          -0.969704119210851,
          -0.6367261638869024,
          null
         ],
         "y": [
          0.0799851940897377,
          0.7617491368598485,
          null
         ]
        },
        {
         "hoverinfo": "none",
         "line": {
          "color": "rgba(0, 0, 0, 0.8)",
          "width": 0.01
         },
         "mode": "lines",
         "type": "scatter",
         "x": [
          -0.969704119210851,
          0.6838644087143524,
          null
         ],
         "y": [
          0.0799851940897377,
          0.6893541288982742,
          null
         ]
        },
        {
         "hoverinfo": "none",
         "line": {
          "color": "rgba(0, 0, 0, 0.8)",
          "width": 0.01
         },
         "mode": "lines",
         "type": "scatter",
         "x": [
          -0.969704119210851,
          -0.7315448377482627,
          null
         ],
         "y": [
          0.0799851940897377,
          -0.7034211243057392,
          null
         ]
        },
        {
         "hoverinfo": "none",
         "line": {
          "color": "rgba(0, 0, 0, 0.8)",
          "width": 0.01
         },
         "mode": "lines",
         "type": "scatter",
         "x": [
          -0.969704119210851,
          -0.6129827452470004,
          null
         ],
         "y": [
          0.0799851940897377,
          -0.7568709274775649,
          null
         ]
        },
        {
         "hoverinfo": "none",
         "line": {
          "color": "rgba(0, 0, 0, 0.8)",
          "width": 0.01
         },
         "mode": "lines",
         "type": "scatter",
         "x": [
          -0.7798406168896717,
          0.6571521271528116,
          null
         ],
         "y": [
          0.6585296604646206,
          -0.7400526433542927,
          null
         ]
        },
        {
         "hoverinfo": "none",
         "line": {
          "color": "rgba(0, 0, 0, 0.8)",
          "width": 0.01
         },
         "mode": "lines",
         "type": "scatter",
         "x": [
          -0.7798406168896717,
          -0.9256046098122075,
          null
         ],
         "y": [
          0.6585296604646206,
          0.40500299769825593,
          null
         ]
        },
        {
         "hoverinfo": "none",
         "line": {
          "color": "rgba(0, 0, 0, 0.8)",
          "width": 0.01
         },
         "mode": "lines",
         "type": "scatter",
         "x": [
          -0.7798406168896717,
          -0.3634956926427016,
          null
         ],
         "y": [
          0.6585296604646206,
          -0.9287158265147373,
          null
         ]
        },
        {
         "hoverinfo": "none",
         "line": {
          "color": "rgba(0, 0, 0, 0.8)",
          "width": 0.04
         },
         "mode": "lines",
         "type": "scatter",
         "x": [
          -0.6936105690861178,
          0.44931330872991654,
          null
         ],
         "y": [
          0.6556733265660122,
          0.8989971765024731,
          null
         ]
        },
        {
         "hoverinfo": "none",
         "line": {
          "color": "rgba(0, 0, 0, 0.8)",
          "width": 0.02
         },
         "mode": "lines",
         "type": "scatter",
         "x": [
          -0.6936105690861178,
          -0.7315448377482627,
          null
         ],
         "y": [
          0.6556733265660122,
          -0.7034211243057392,
          null
         ]
        },
        {
         "hoverinfo": "none",
         "line": {
          "color": "rgba(0, 0, 0, 0.8)",
          "width": 0.01
         },
         "mode": "lines",
         "type": "scatter",
         "x": [
          -0.550830691001996,
          -0.9642160820325939,
          null
         ],
         "y": [
          0.7246997780887199,
          -0.2315116808308409,
          null
         ]
        },
        {
         "hoverinfo": "none",
         "line": {
          "color": "rgba(0, 0, 0, 0.8)",
          "width": 0.02
         },
         "mode": "lines",
         "type": "scatter",
         "x": [
          -0.550830691001996,
          -0.8354462776032343,
          null
         ],
         "y": [
          0.7246997780887199,
          0.41714472914525047,
          null
         ]
        },
        {
         "hoverinfo": "none",
         "line": {
          "color": "rgba(0, 0, 0, 0.8)",
          "width": 0.01
         },
         "mode": "lines",
         "type": "scatter",
         "x": [
          -0.550830691001996,
          0.44931330872991654,
          null
         ],
         "y": [
          0.7246997780887199,
          0.8989971765024731,
          null
         ]
        },
        {
         "hoverinfo": "none",
         "line": {
          "color": "rgba(0, 0, 0, 0.8)",
          "width": 0.01
         },
         "mode": "lines",
         "type": "scatter",
         "x": [
          -0.550830691001996,
          0.9071260107821375,
          null
         ],
         "y": [
          0.7246997780887199,
          -0.45144852455161544,
          null
         ]
        },
        {
         "hoverinfo": "none",
         "line": {
          "color": "rgba(0, 0, 0, 0.8)",
          "width": 0.01
         },
         "mode": "lines",
         "type": "scatter",
         "x": [
          0.14096749701778885,
          0.8507803354985272,
          null
         ],
         "y": [
          -0.9535734057184455,
          -0.5251268558213069,
          null
         ]
        },
        {
         "hoverinfo": "none",
         "line": {
          "color": "rgba(0, 0, 0, 0.8)",
          "width": 0.01
         },
         "mode": "lines",
         "type": "scatter",
         "x": [
          0.14096749701778885,
          -0.9642160820325939,
          null
         ],
         "y": [
          -0.9535734057184455,
          -0.2315116808308409,
          null
         ]
        },
        {
         "hoverinfo": "none",
         "line": {
          "color": "rgba(0, 0, 0, 0.8)",
          "width": 0.01
         },
         "mode": "lines",
         "type": "scatter",
         "x": [
          0.9558785655313029,
          0.6838644087143524,
          null
         ],
         "y": [
          0.33563990585084297,
          0.6893541288982742,
          null
         ]
        },
        {
         "hoverinfo": "none",
         "line": {
          "color": "rgba(0, 0, 0, 0.8)",
          "width": 0.02
         },
         "mode": "lines",
         "type": "scatter",
         "x": [
          0.9558785655313029,
          0.5409365664167735,
          null
         ],
         "y": [
          0.33563990585084297,
          -0.843232590310273,
          null
         ]
        },
        {
         "hoverinfo": "none",
         "line": {
          "color": "rgba(0, 0, 0, 0.8)",
          "width": 0.01
         },
         "mode": "lines",
         "type": "scatter",
         "x": [
          0.9558785655313029,
          0.7414251724263317,
          null
         ],
         "y": [
          0.33563990585084297,
          0.6147149944140688,
          null
         ]
        },
        {
         "hoverinfo": "none",
         "line": {
          "color": "rgba(0, 0, 0, 0.8)",
          "width": 0.01
         },
         "mode": "lines",
         "type": "scatter",
         "x": [
          0.7394292093099564,
          -0.9642160820325939,
          null
         ],
         "y": [
          0.7083009901197292,
          -0.2315116808308409,
          null
         ]
        },
        {
         "hoverinfo": "none",
         "line": {
          "color": "rgba(0, 0, 0, 0.8)",
          "width": 0.03
         },
         "mode": "lines",
         "type": "scatter",
         "x": [
          0.7394292093099564,
          -0.5670261818788142,
          null
         ],
         "y": [
          0.7083009901197292,
          -0.8172972151294176,
          null
         ]
        },
        {
         "hoverinfo": "none",
         "line": {
          "color": "rgba(0, 0, 0, 0.8)",
          "width": 0.01
         },
         "mode": "lines",
         "type": "scatter",
         "x": [
          -0.8375714180406986,
          -0.031279103862171184,
          null
         ],
         "y": [
          -0.5394042446174725,
          -0.9730297234678891,
          null
         ]
        },
        {
         "hoverinfo": "none",
         "line": {
          "color": "rgba(0, 0, 0, 0.8)",
          "width": 0.01
         },
         "mode": "lines",
         "type": "scatter",
         "x": [
          -0.9642160820325939,
          -0.8354462776032343,
          null
         ],
         "y": [
          -0.2315116808308409,
          0.41714472914525047,
          null
         ]
        },
        {
         "hoverinfo": "none",
         "line": {
          "color": "rgba(0, 0, 0, 0.8)",
          "width": 0.07
         },
         "mode": "lines",
         "type": "scatter",
         "x": [
          -0.9642160820325939,
          -0.19246170648878455,
          null
         ],
         "y": [
          -0.2315116808308409,
          -0.96978268853147,
          null
         ]
        },
        {
         "hoverinfo": "none",
         "line": {
          "color": "rgba(0, 0, 255, 0.01126126126126126)",
          "width": 0.01
         },
         "mode": "lines",
         "type": "scatter",
         "x": [
          -0.9642160820325939,
          -0.6129827452470004,
          null
         ],
         "y": [
          -0.2315116808308409,
          -0.7568709274775649,
          null
         ]
        },
        {
         "hoverinfo": "none",
         "line": {
          "color": "rgba(0, 0, 0, 0.8)",
          "width": 0.01
         },
         "mode": "lines",
         "type": "scatter",
         "x": [
          -0.9642160820325939,
          0.35986138391820705,
          null
         ],
         "y": [
          -0.2315116808308409,
          0.8192424046592419,
          null
         ]
        },
        {
         "hoverinfo": "none",
         "line": {
          "color": "rgba(0, 0, 0, 0.8)",
          "width": 0.01
         },
         "mode": "lines",
         "type": "scatter",
         "x": [
          -0.9642160820325939,
          0.7414251724263317,
          null
         ],
         "y": [
          -0.2315116808308409,
          0.6147149944140688,
          null
         ]
        },
        {
         "hoverinfo": "none",
         "line": {
          "color": "rgba(0, 0, 0, 0.8)",
          "width": 0.01
         },
         "mode": "lines",
         "type": "scatter",
         "x": [
          -0.9642160820325939,
          0.9588488692794493,
          null
         ],
         "y": [
          -0.2315116808308409,
          0.1750870250259253,
          null
         ]
        },
        {
         "hoverinfo": "none",
         "line": {
          "color": "rgba(0, 0, 0, 0.8)",
          "width": 0.01
         },
         "mode": "lines",
         "type": "scatter",
         "x": [
          -0.9642160820325939,
          0.5409365664167735,
          null
         ],
         "y": [
          -0.2315116808308409,
          -0.843232590310273,
          null
         ]
        },
        {
         "hoverinfo": "none",
         "line": {
          "color": "rgba(0, 0, 0, 0.8)",
          "width": 0.01
         },
         "mode": "lines",
         "type": "scatter",
         "x": [
          -0.9642160820325939,
          -0.3634956926427016,
          null
         ],
         "y": [
          -0.2315116808308409,
          -0.9287158265147373,
          null
         ]
        },
        {
         "hoverinfo": "none",
         "line": {
          "color": "rgba(0, 0, 0, 0.8)",
          "width": 0.01
         },
         "mode": "lines",
         "type": "scatter",
         "x": [
          -0.5059491471082506,
          0.9622669907841491,
          null
         ],
         "y": [
          -0.8031537026415206,
          0.058558090076698155,
          null
         ]
        },
        {
         "hoverinfo": "none",
         "line": {
          "color": "rgba(0, 0, 0, 0.8)",
          "width": 0.03
         },
         "mode": "lines",
         "type": "scatter",
         "x": [
          -0.5059491471082506,
          -0.8327453449312028,
          null
         ],
         "y": [
          -0.8031537026415206,
          0.5568070076938468,
          null
         ]
        },
        {
         "hoverinfo": "none",
         "line": {
          "color": "rgba(0, 0, 0, 0.8)",
          "width": 0.02
         },
         "mode": "lines",
         "type": "scatter",
         "x": [
          -0.5059491471082506,
          0.7936541268586749,
          null
         ],
         "y": [
          -0.8031537026415206,
          -0.5593405597546682,
          null
         ]
        },
        {
         "hoverinfo": "none",
         "line": {
          "color": "rgba(0, 0, 0, 0.8)",
          "width": 0.01
         },
         "mode": "lines",
         "type": "scatter",
         "x": [
          -0.5059491471082506,
          0.5409365664167735,
          null
         ],
         "y": [
          -0.8031537026415206,
          -0.843232590310273,
          null
         ]
        },
        {
         "hoverinfo": "none",
         "line": {
          "color": "rgba(0, 0, 0, 0.8)",
          "width": 0.04
         },
         "mode": "lines",
         "type": "scatter",
         "x": [
          0.9539447487709961,
          0.6838644087143524,
          null
         ],
         "y": [
          -0.21917981952014678,
          0.6893541288982742,
          null
         ]
        },
        {
         "hoverinfo": "none",
         "line": {
          "color": "rgba(0, 0, 0, 0.8)",
          "width": 0.01
         },
         "mode": "lines",
         "type": "scatter",
         "x": [
          0.9539447487709961,
          -0.6367261638869024,
          null
         ],
         "y": [
          -0.21917981952014678,
          0.7617491368598485,
          null
         ]
        },
        {
         "hoverinfo": "none",
         "line": {
          "color": "rgba(0, 0, 0, 0.8)",
          "width": 0.01
         },
         "mode": "lines",
         "type": "scatter",
         "x": [
          0.9539447487709961,
          0.9532835572247149,
          null
         ],
         "y": [
          -0.21917981952014678,
          -0.2880872636775998,
          null
         ]
        },
        {
         "hoverinfo": "none",
         "line": {
          "color": "rgba(0, 0, 0, 0.8)",
          "width": 0.03
         },
         "mode": "lines",
         "type": "scatter",
         "x": [
          -0.8354462776032343,
          0.9859944547514741,
          null
         ],
         "y": [
          0.41714472914525047,
          0.002069381258884614,
          null
         ]
        },
        {
         "hoverinfo": "none",
         "line": {
          "color": "rgba(0, 0, 0, 0.8)",
          "width": 0.09
         },
         "mode": "lines",
         "type": "scatter",
         "x": [
          -0.8354462776032343,
          0.7414251724263317,
          null
         ],
         "y": [
          0.41714472914525047,
          0.6147149944140688,
          null
         ]
        },
        {
         "hoverinfo": "none",
         "line": {
          "color": "rgba(0, 0, 0, 0.8)",
          "width": 0.01
         },
         "mode": "lines",
         "type": "scatter",
         "x": [
          -0.8354462776032343,
          0.9071260107821375,
          null
         ],
         "y": [
          0.41714472914525047,
          -0.45144852455161544,
          null
         ]
        },
        {
         "hoverinfo": "none",
         "line": {
          "color": "rgba(0, 0, 0, 0.8)",
          "width": 0.17
         },
         "mode": "lines",
         "type": "scatter",
         "x": [
          -0.8354462776032343,
          0.35986138391820705,
          null
         ],
         "y": [
          0.41714472914525047,
          0.8192424046592419,
          null
         ]
        },
        {
         "hoverinfo": "none",
         "line": {
          "color": "rgba(0, 0, 0, 0.8)",
          "width": 0.01
         },
         "mode": "lines",
         "type": "scatter",
         "x": [
          -0.8354462776032343,
          0.5409365664167735,
          null
         ],
         "y": [
          0.41714472914525047,
          -0.843232590310273,
          null
         ]
        },
        {
         "hoverinfo": "none",
         "line": {
          "color": "rgba(0, 0, 0, 0.8)",
          "width": 0.01
         },
         "mode": "lines",
         "type": "scatter",
         "x": [
          -0.8354462776032343,
          -0.7315448377482627,
          null
         ],
         "y": [
          0.41714472914525047,
          -0.7034211243057392,
          null
         ]
        },
        {
         "hoverinfo": "none",
         "line": {
          "color": "rgba(0, 0, 0, 0.8)",
          "width": 0.01
         },
         "mode": "lines",
         "type": "scatter",
         "x": [
          -0.6367261638869024,
          -0.19246170648878455,
          null
         ],
         "y": [
          0.7617491368598485,
          -0.96978268853147,
          null
         ]
        },
        {
         "hoverinfo": "none",
         "line": {
          "color": "rgba(0, 0, 0, 0.8)",
          "width": 0.01
         },
         "mode": "lines",
         "type": "scatter",
         "x": [
          -0.6367261638869024,
          0.6838644087143524,
          null
         ],
         "y": [
          0.7617491368598485,
          0.6893541288982742,
          null
         ]
        },
        {
         "hoverinfo": "none",
         "line": {
          "color": "rgba(0, 0, 0, 0.8)",
          "width": 0.01
         },
         "mode": "lines",
         "type": "scatter",
         "x": [
          0.6027041902985693,
          -0.9256046098122075,
          null
         ],
         "y": [
          -0.7777780101371808,
          0.40500299769825593,
          null
         ]
        },
        {
         "hoverinfo": "none",
         "line": {
          "color": "rgba(0, 0, 0, 0.8)",
          "width": 0.04
         },
         "mode": "lines",
         "type": "scatter",
         "x": [
          -0.9256046098122075,
          0.6571521271528116,
          null
         ],
         "y": [
          0.40500299769825593,
          -0.7400526433542927,
          null
         ]
        },
        {
         "hoverinfo": "none",
         "line": {
          "color": "rgba(0, 0, 0, 0.8)",
          "width": 0.02
         },
         "mode": "lines",
         "type": "scatter",
         "x": [
          -0.9256046098122075,
          0.5409365664167735,
          null
         ],
         "y": [
          0.40500299769825593,
          -0.843232590310273,
          null
         ]
        },
        {
         "hoverinfo": "none",
         "line": {
          "color": "rgba(0, 0, 0, 0.8)",
          "width": 0.01
         },
         "mode": "lines",
         "type": "scatter",
         "x": [
          0.6838644087143524,
          -0.8568192023812202,
          null
         ],
         "y": [
          0.6893541288982742,
          0.48157774126738695,
          null
         ]
        },
        {
         "hoverinfo": "none",
         "line": {
          "color": "rgba(0, 0, 0, 0.8)",
          "width": 0.09
         },
         "mode": "lines",
         "type": "scatter",
         "x": [
          0.6838644087143524,
          0.5409365664167735,
          null
         ],
         "y": [
          0.6893541288982742,
          -0.843232590310273,
          null
         ]
        },
        {
         "hoverinfo": "none",
         "line": {
          "color": "rgba(0, 0, 0, 0.8)",
          "width": 0.01
         },
         "mode": "lines",
         "type": "scatter",
         "x": [
          0.6838644087143524,
          0.3446494268157852,
          null
         ],
         "y": [
          0.6893541288982742,
          -0.883628576594363,
          null
         ]
        },
        {
         "hoverinfo": "none",
         "line": {
          "color": "rgba(0, 0, 0, 0.8)",
          "width": 0.01
         },
         "mode": "lines",
         "type": "scatter",
         "x": [
          0.6838644087143524,
          -0.031279103862171184,
          null
         ],
         "y": [
          0.6893541288982742,
          -0.9730297234678891,
          null
         ]
        },
        {
         "hoverinfo": "none",
         "line": {
          "color": "rgba(0, 0, 0, 0.8)",
          "width": 0.01
         },
         "mode": "lines",
         "type": "scatter",
         "x": [
          0.6838644087143524,
          0.5288639776130931,
          null
         ],
         "y": [
          0.6893541288982742,
          -0.767773376332571,
          null
         ]
        },
        {
         "hoverinfo": "none",
         "line": {
          "color": "rgba(0, 0, 0, 0.8)",
          "width": 0.01
         },
         "mode": "lines",
         "type": "scatter",
         "x": [
          0.6838644087143524,
          0.9532835572247149,
          null
         ],
         "y": [
          0.6893541288982742,
          -0.2880872636775998,
          null
         ]
        },
        {
         "hoverinfo": "none",
         "line": {
          "color": "rgba(0, 0, 0, 0.8)",
          "width": 0.01
         },
         "mode": "lines",
         "type": "scatter",
         "x": [
          0.6838644087143524,
          0.5841854529431,
          null
         ],
         "y": [
          0.6893541288982742,
          0.7386605810949162,
          null
         ]
        },
        {
         "hoverinfo": "none",
         "line": {
          "color": "rgba(0, 0, 0, 0.8)",
          "width": 0.01
         },
         "mode": "lines",
         "type": "scatter",
         "x": [
          0.6838644087143524,
          -0.7785382580288265,
          null
         ],
         "y": [
          0.6893541288982742,
          -0.5693304534953558,
          null
         ]
        },
        {
         "hoverinfo": "none",
         "line": {
          "color": "rgba(0, 0, 0, 0.8)",
          "width": 0.01
         },
         "mode": "lines",
         "type": "scatter",
         "x": [
          0.5409365664167735,
          -0.6129827452470004,
          null
         ],
         "y": [
          -0.843232590310273,
          -0.7568709274775649,
          null
         ]
        },
        {
         "hoverinfo": "none",
         "line": {
          "color": "rgba(0, 0, 0, 0.8)",
          "width": 0.01
         },
         "mode": "lines",
         "type": "scatter",
         "x": [
          0.5409365664167735,
          -0.7315448377482627,
          null
         ],
         "y": [
          -0.843232590310273,
          -0.7034211243057392,
          null
         ]
        },
        {
         "hoverinfo": "none",
         "line": {
          "color": "rgba(0, 0, 0, 0.8)",
          "width": 0.01
         },
         "mode": "lines",
         "type": "scatter",
         "x": [
          0.5409365664167735,
          0.7414251724263317,
          null
         ],
         "y": [
          -0.843232590310273,
          0.6147149944140688,
          null
         ]
        },
        {
         "hoverinfo": "none",
         "line": {
          "color": "rgba(0, 0, 0, 0.8)",
          "width": 0.08
         },
         "mode": "lines",
         "type": "scatter",
         "x": [
          -0.031279103862171184,
          0.5670414917380979,
          null
         ],
         "y": [
          -0.9730297234678891,
          0.8270510204107957,
          null
         ]
        },
        {
         "hoverinfo": "none",
         "line": {
          "color": "rgba(0, 0, 0, 0.8)",
          "width": 0.01
         },
         "mode": "lines",
         "type": "scatter",
         "x": [
          -0.031279103862171184,
          -0.6129827452470004,
          null
         ],
         "y": [
          -0.9730297234678891,
          -0.7568709274775649,
          null
         ]
        },
        {
         "hoverinfo": "none",
         "line": {
          "color": "rgba(0, 0, 0, 0.8)",
          "width": 0.01
         },
         "mode": "lines",
         "type": "scatter",
         "x": [
          -0.031279103862171184,
          0.8439505858393038,
          null
         ],
         "y": [
          -0.9730297234678891,
          -0.44376781515102776,
          null
         ]
        },
        {
         "hoverinfo": "none",
         "line": {
          "color": "rgba(255, 0, 0, 0.01126126126126126)",
          "width": 0.01
         },
         "mode": "lines",
         "type": "scatter",
         "x": [
          -0.031279103862171184,
          0.44931330872991654,
          null
         ],
         "y": [
          -0.9730297234678891,
          0.8989971765024731,
          null
         ]
        },
        {
         "hoverinfo": "none",
         "line": {
          "color": "rgba(0, 0, 0, 0.8)",
          "width": 0.02
         },
         "mode": "lines",
         "type": "scatter",
         "x": [
          0.7414251724263317,
          0.9859944547514741,
          null
         ],
         "y": [
          0.6147149944140688,
          0.002069381258884614,
          null
         ]
        },
        {
         "hoverinfo": "none",
         "line": {
          "color": "rgba(0, 0, 0, 0.8)",
          "width": 0.02
         },
         "mode": "lines",
         "type": "scatter",
         "x": [
          0.7414251724263317,
          0.35986138391820705,
          null
         ],
         "y": [
          0.6147149944140688,
          0.8192424046592419,
          null
         ]
        },
        {
         "hoverinfo": "none",
         "line": {
          "color": "rgba(0, 0, 0, 0.8)",
          "width": 0.02
         },
         "mode": "lines",
         "type": "scatter",
         "x": [
          0.9859944547514741,
          0.35986138391820705,
          null
         ],
         "y": [
          0.002069381258884614,
          0.8192424046592419,
          null
         ]
        },
        {
         "hoverinfo": "none",
         "line": {
          "color": "rgba(0, 0, 0, 0.8)",
          "width": 0.02
         },
         "mode": "lines",
         "type": "scatter",
         "x": [
          0.9193826860419149,
          -0.7315448377482627,
          null
         ],
         "y": [
          0.2924265011032312,
          -0.7034211243057392,
          null
         ]
        },
        {
         "hoverinfo": "none",
         "line": {
          "color": "rgba(0, 0, 0, 0.8)",
          "width": 0.01
         },
         "mode": "lines",
         "type": "scatter",
         "x": [
          0.9193826860419149,
          0.19836490516611696,
          null
         ],
         "y": [
          0.2924265011032312,
          -0.9784181686523185,
          null
         ]
        },
        {
         "hoverinfo": "none",
         "line": {
          "color": "rgba(0, 0, 0, 0.8)",
          "width": 0.05
         },
         "mode": "lines",
         "type": "scatter",
         "x": [
          -0.7315448377482627,
          0.44931330872991654,
          null
         ],
         "y": [
          -0.7034211243057392,
          0.8989971765024731,
          null
         ]
        },
        {
         "hoverinfo": "none",
         "line": {
          "color": "rgba(0, 0, 0, 0.8)",
          "width": 0.03
         },
         "mode": "lines",
         "type": "scatter",
         "x": [
          -0.9558561764200529,
          -0.915367048866334,
          null
         ],
         "y": [
          0.27031409616505014,
          -0.3882697391805669,
          null
         ]
        },
        {
         "hoverinfo": "none",
         "line": {
          "color": "rgba(0, 0, 0, 0.8)",
          "width": 0.03
         },
         "mode": "lines",
         "type": "scatter",
         "x": [
          -0.9558561764200529,
          0.9808045272774422,
          null
         ],
         "y": [
          0.27031409616505014,
          0.11616956138933034,
          null
         ]
        },
        {
         "hoverinfo": "none",
         "line": {
          "color": "rgba(0, 0, 0, 0.8)",
          "width": 0.01
         },
         "mode": "lines",
         "type": "scatter",
         "x": [
          -0.9558561764200529,
          -0.6129827452470004,
          null
         ],
         "y": [
          0.27031409616505014,
          -0.7568709274775649,
          null
         ]
        },
        {
         "hoverinfo": "none",
         "line": {
          "color": "rgba(0, 0, 0, 0.8)",
          "width": 0.01
         },
         "mode": "lines",
         "type": "scatter",
         "x": [
          -0.5670261818788142,
          0.8507803354985272,
          null
         ],
         "y": [
          -0.8172972151294176,
          -0.5251268558213069,
          null
         ]
        },
        {
         "hoverinfo": "none",
         "line": {
          "color": "rgba(0, 0, 0, 0.8)",
          "width": 0.02
         },
         "mode": "lines",
         "type": "scatter",
         "x": [
          -0.6129827452470004,
          -0.915367048866334,
          null
         ],
         "y": [
          -0.7568709274775649,
          -0.3882697391805669,
          null
         ]
        },
        {
         "hoverinfo": "none",
         "line": {
          "color": "rgba(0, 0, 0, 0.8)",
          "width": 0.03
         },
         "mode": "lines",
         "type": "scatter",
         "x": [
          0.9808045272774422,
          -0.915367048866334,
          null
         ],
         "y": [
          0.11616956138933034,
          -0.3882697391805669,
          null
         ]
        },
        {
         "hoverinfo": "none",
         "line": {
          "color": "rgba(0, 0, 0, 0.8)",
          "width": 0.01
         },
         "mode": "lines",
         "type": "scatter",
         "x": [
          -0.3039469377228429,
          0.5288639776130931,
          null
         ],
         "y": [
          -0.9061754673661192,
          -0.767773376332571,
          null
         ]
        },
        {
         "hoverinfo": "none",
         "line": {
          "color": "rgba(0, 0, 0, 0.8)",
          "width": 0.01
         },
         "mode": "lines",
         "type": "scatter",
         "x": [
          -0.3039469377228429,
          0.9862581178621459,
          null
         ],
         "y": [
          -0.9061754673661192,
          -0.16213032319849258,
          null
         ]
        },
        {
         "hoverinfo": "none",
         "line": {
          "color": "rgba(0, 0, 0, 0.8)",
          "width": 0.01
         },
         "mode": "lines",
         "type": "scatter",
         "x": [
          -0.934121151070918,
          0.9862581178621459,
          null
         ],
         "y": [
          -0.2892138210491218,
          -0.16213032319849258,
          null
         ]
        },
        {
         "hoverinfo": "none",
         "line": {
          "color": "rgba(0, 0, 0, 0.8)",
          "width": 0.01
         },
         "mode": "lines",
         "type": "scatter",
         "x": [
          0.9862581178621459,
          0.5288639776130931,
          null
         ],
         "y": [
          -0.16213032319849258,
          -0.767773376332571,
          null
         ]
        },
        {
         "hoverinfo": "none",
         "line": {
          "color": "rgba(0, 0, 0, 0.8)",
          "width": 0.01
         },
         "mode": "lines",
         "type": "scatter",
         "x": [
          -0.9668062593660902,
          0.0773046820999453,
          null
         ],
         "y": [
          -0.05550392029786738,
          -0.9508952093103114,
          null
         ]
        },
        {
         "hoverinfo": "none",
         "line": {
          "color": "rgba(0, 0, 0, 0.8)",
          "width": 0.01
         },
         "mode": "lines",
         "type": "scatter",
         "x": [
          0.0773046820999453,
          0.37285051696229016,
          null
         ],
         "y": [
          -0.9508952093103114,
          0.9252612510538469,
          null
         ]
        },
        {
         "hoverinfo": "none",
         "line": {
          "color": "rgba(0, 0, 0, 0.8)",
          "width": 0.01
         },
         "mode": "lines",
         "type": "scatter",
         "x": [
          0.0773046820999453,
          1,
          null
         ],
         "y": [
          -0.9508952093103114,
          -0.06805497095265818,
          null
         ]
        },
        {
         "hoverinfo": "text",
         "hovertext": [
          "Russia : 10853",
          "Germany : 645",
          "Italy : 1374",
          "United States of America : 8239",
          "Estonia : 72",
          "Ukraine : 280",
          "Switzerland : 87",
          "Lithuania : 228",
          "France : 1361",
          "Egypt : 11",
          "United Kingdom : 1713",
          "India : 166",
          "Hong Kong : 273",
          "Costa Rica : 3",
          "Spain : 334",
          "Canada : 336",
          "Latvia : 55",
          "Hungary : 59",
          "Japan : 640",
          "Poland : 111",
          "Denmark : 84",
          "Korea : 34",
          "Croatia : 34",
          "Austria : 53",
          "Philippines : 36",
          "Portugal : 31",
          "Taiwan : 58",
          "Georgia : 27",
          "Romania : 27",
          "Australia : 160",
          "South Africa : 23",
          "Luxembourg : 8",
          "Sweden : 190",
          "Ireland : 35",
          "Greece : 49",
          "Uruguay : 1",
          "Argentina : 39",
          "Belgium : 73",
          "Netherlands : 74",
          "Czech Republic : 85",
          "Bangladesh : 1",
          "New Zealand : 28",
          "Albania : 1",
          "Finland : 87",
          "Iceland : 9",
          "Liechtenstein : 9",
          "Iran : 29",
          "Zimbabwe : 3",
          "Norway : 33",
          "Bosnia and Herzegovina : 16",
          "Cuba : 14",
          "Peru : 7",
          "Israel : 24",
          "Uzbekistan : 16",
          "China : 41",
          "Mexico : 114",
          "Azerbaijan : 3",
          "Bolivia : 2",
          "Brazil : 44",
          "Venezuela : 7",
          "Serbia : 39",
          "Macedonia : 2",
          "Monaco : 3",
          "Slovakia : 12",
          "Turkey : 31",
          "Senegal : 9",
          "Qatar : 1",
          "Tunisia : 7",
          "Cote D'Ivoire : 1",
          "Belarus : 11",
          "Armenia : 10",
          "Algeria : 7",
          "Thailand : 6",
          "Colombia : 3",
          "Chile : 8",
          "Singapore : 3",
          "Ghana : 2",
          "Morocco : 7",
          "Vietnam : 3",
          "Slovenia : 2",
          "Pakistan : 2",
          "Montenegro : 2",
          "Namibia : 3",
          "Bulgaria : 8",
          "Yugoslavia : 2",
          "Moldova : 3",
          "Burkina Faso : 4",
          "Aruba : 1",
          "Czechoslovakia : 4",
          "Ethiopia : 1",
          "Jordan : 1",
          "Puerto Rico : 4",
          "Kazakhstan : 7",
          "Indonesia : 4",
          "Congo : 1",
          "Libya : 1",
          "Bhutan : 1",
          "Jamaica : 2",
          "Mauritania : 4",
          "Angola : 1",
          "Turkmenistan : 2",
          "Panama : 3",
          "Afghanistan : 1",
          "Martinique : 1",
          "Trinidad and Tobago : 1",
          "Syria : 1",
          "Kyrgyzstan : 2",
          "Botswana : 2",
          "Guinea : 1",
          "Bahamas : 1",
          "Papua New Guinea : 1",
          "Ecuador : 1",
          "Palestinian Territory : 1",
          "Mali : 1"
         ],
         "marker": {
          "color": [
           "red",
           "blue",
           "blue",
           "blue",
           "red",
           "grey",
           "grey",
           "red",
           "blue",
           "grey",
           "blue",
           "red",
           "grey",
           "lightyellow",
           "blue",
           "blue",
           "red",
           "red",
           "grey",
           "red",
           "grey",
           "grey",
           "blue",
           "grey",
           "grey",
           "grey",
           "grey",
           "red",
           "grey",
           "blue",
           "grey",
           "lightyellow",
           "grey",
           "grey",
           "grey",
           "lightyellow",
           "grey",
           "blue",
           "grey",
           "red",
           "lightyellow",
           "grey",
           "lightyellow",
           "grey",
           "lightyellow",
           "lightyellow",
           "grey",
           "lightyellow",
           "grey",
           "grey",
           "red",
           "lightyellow",
           "grey",
           "grey",
           "red",
           "blue",
           "lightyellow",
           "lightyellow",
           "grey",
           "lightyellow",
           "red",
           "lightyellow",
           "lightyellow",
           "grey",
           "grey",
           "lightyellow",
           "lightyellow",
           "lightyellow",
           "lightyellow",
           "grey",
           "grey",
           "lightyellow",
           "lightyellow",
           "lightyellow",
           "lightyellow",
           "lightyellow",
           "lightyellow",
           "lightyellow",
           "lightyellow",
           "lightyellow",
           "lightyellow",
           "lightyellow",
           "lightyellow",
           "lightyellow",
           "lightyellow",
           "lightyellow",
           "lightyellow",
           "lightyellow",
           "lightyellow",
           "lightyellow",
           "lightyellow",
           "lightyellow",
           "lightyellow",
           "lightyellow",
           "lightyellow",
           "lightyellow",
           "lightyellow",
           "lightyellow",
           "lightyellow",
           "lightyellow",
           "lightyellow",
           "lightyellow",
           "lightyellow",
           "lightyellow",
           "lightyellow",
           "lightyellow",
           "lightyellow",
           "lightyellow",
           "lightyellow",
           "lightyellow",
           "lightyellow",
           "lightyellow",
           "lightyellow",
           "lightyellow"
          ],
          "line": {
           "color": "black",
           "width": 1
          },
          "size": [
           52.08886637276722,
           12.698425099200294,
           18.533752992850637,
           45.38446870901983,
           4.242640687119285,
           8.366600265340756,
           4.663689526544408,
           7.54983443527075,
           18.445866745696716,
           1.6583123951777,
           20.694202086574876,
           6.442049363362563,
           8.261355820929152,
           0.8660254037844386,
           9.137833441248533,
           9.16515138991168,
           3.7080992435478315,
           3.840572873934304,
           12.649110640673518,
           5.267826876426369,
           4.58257569495584,
           2.9154759474226504,
           2.9154759474226504,
           3.640054944640259,
           3,
           2.7838821814150108,
           3.8078865529319543,
           2.598076211353316,
           2.598076211353316,
           6.324555320336759,
           2.3979157616563596,
           1.4142135623730951,
           6.892024376045111,
           2.958039891549808,
           3.5,
           0.5,
           3.122498999199199,
           4.272001872658765,
           4.301162633521313,
           4.6097722286464435,
           0.5,
           2.6457513110645907,
           0.5,
           4.663689526544408,
           1.5,
           1.5,
           2.692582403567252,
           0.8660254037844386,
           2.8722813232690143,
           2,
           1.8708286933869707,
           1.3228756555322954,
           2.449489742783178,
           2,
           3.2015621187164243,
           5.338539126015656,
           0.8660254037844386,
           0.7071067811865476,
           3.3166247903554,
           1.3228756555322954,
           3.122498999199199,
           0.7071067811865476,
           0.8660254037844386,
           1.7320508075688772,
           2.7838821814150108,
           1.5,
           0.5,
           1.3228756555322954,
           0.5,
           1.6583123951777,
           1.5811388300841898,
           1.3228756555322954,
           1.224744871391589,
           0.8660254037844386,
           1.4142135623730951,
           0.8660254037844386,
           0.7071067811865476,
           1.3228756555322954,
           0.8660254037844386,
           0.7071067811865476,
           0.7071067811865476,
           0.7071067811865476,
           0.8660254037844386,
           1.4142135623730951,
           0.7071067811865476,
           0.8660254037844386,
           1,
           0.5,
           1,
           0.5,
           0.5,
           1,
           1.3228756555322954,
           1,
           0.5,
           0.5,
           0.5,
           0.7071067811865476,
           1,
           0.5,
           0.7071067811865476,
           0.8660254037844386,
           0.5,
           0.5,
           0.5,
           0.5,
           0.7071067811865476,
           0.7071067811865476,
           0.5,
           0.5,
           0.5,
           0.5,
           0.5,
           0.5
          ]
         },
         "mode": "markers+text",
         "type": "scatter",
         "x": [
          -0.08449687146353646,
          0.025642310306108525,
          -0.4305800351364633,
          -0.2965092908658903,
          0.30735592243766746,
          -0.711777456566173,
          0.7716388857369793,
          -0.7557316017646774,
          -0.058571647675385925,
          -0.14320794667505193,
          -0.10383356266536728,
          -0.8839533443816736,
          -0.03308807086671816,
          -0.9346802511284125,
          0.015434781666045108,
          0.2420362459456123,
          -0.5863969259527024,
          0.899014647267909,
          -0.47617966766311803,
          0.9444377465272974,
          -0.969704119210851,
          -0.7798406168896717,
          -0.6936105690861178,
          -0.550830691001996,
          0.14096749701778885,
          0.9558785655313029,
          0.7394292093099564,
          0.08476360269526695,
          -0.8375714180406986,
          -0.9642160820325939,
          -0.5059491471082506,
          0.9539447487709961,
          -0.8354462776032343,
          -0.6367261638869024,
          -0.3934579638826972,
          0.6027041902985693,
          -0.9256046098122075,
          0.6838644087143524,
          0.5409365664167735,
          -0.031279103862171184,
          0.9023062719368269,
          -0.19246170648878455,
          -0.6632797015971279,
          0.7414251724263317,
          0.9859944547514741,
          -0.8568192023812202,
          0.9193826860419149,
          0.9622669907841491,
          0.35986138391820705,
          -0.7315448377482627,
          -0.9558561764200529,
          -0.9088692432875086,
          0.9532835572247149,
          -0.14035419836878063,
          -0.5670261818788142,
          -0.6129827452470004,
          0.8067579623776001,
          0.1926243285435866,
          0.6571521271528116,
          0.9808045272774422,
          0.44931330872991654,
          -0.2550888349257121,
          -0.9381750348849629,
          0.5670414917380979,
          -0.994032215259711,
          -0.3039469377228429,
          -0.934121151070918,
          0.9862581178621459,
          0.033973988595786535,
          -0.19753912467062237,
          0.9379067575108215,
          0.5288639776130931,
          -0.3634956926427016,
          0.8745971730655957,
          -0.915367048866334,
          0.8507803354985272,
          -0.9668062593660902,
          0.9071260107821375,
          0.49490271063269975,
          -0.5026749400664705,
          -0.2505877091758855,
          0.8159945704387714,
          -0.8327453449312028,
          -0.40814869730982584,
          -0.9774392768648794,
          0.3293015579064911,
          0.0773046820999453,
          0.4689794543182668,
          0.8439505858393038,
          0.745421235440694,
          -0.09384010921436757,
          0.6489036768675414,
          -0.7657481014382231,
          0.9588488692794493,
          0.3446494268157852,
          -0.47496702698583193,
          0.963963429576364,
          -0.8254016974388526,
          0.37285051696229016,
          0.8436583196106775,
          0.41751319874565784,
          -0.2920376368385878,
          0.19836490516611696,
          -0.9247389301216649,
          -0.8957367295275568,
          0.13744629791685295,
          0.6903005797939549,
          0.7936541268586749,
          -0.3774537097359633,
          0.2579680975564024,
          0.5841854529431,
          -0.9728637515146988,
          -0.7785382580288265,
          1
         ],
         "y": [
          0.9917633605417571,
          -0.0631749834277738,
          -0.5193793932098031,
          -0.0991134760284686,
          0.9056172935889462,
          0.7458118699641606,
          -0.6228964134754154,
          -0.6307573947779984,
          -0.2802931794383621,
          -0.9324750610474091,
          -0.15447104199410414,
          -0.334096717825211,
          0.9646969056123894,
          0.21466341464048153,
          -0.9887620488481842,
          -0.9371720963876,
          0.8371373719799454,
          0.4767665944091181,
          -0.862158824225785,
          -0.09876035442748367,
          0.0799851940897377,
          0.6585296604646206,
          0.6556733265660122,
          0.7246997780887199,
          -0.9535734057184455,
          0.33563990585084297,
          0.7083009901197292,
          0.9881856919372176,
          -0.5394042446174725,
          -0.2315116808308409,
          -0.8031537026415206,
          -0.21917981952014678,
          0.41714472914525047,
          0.7617491368598485,
          0.9433707045630458,
          -0.7777780101371808,
          0.40500299769825593,
          0.6893541288982742,
          -0.843232590310273,
          -0.9730297234678891,
          0.397184561555777,
          -0.96978268853147,
          -0.677892782848609,
          0.6147149944140688,
          0.002069381258884614,
          0.48157774126738695,
          0.2924265011032312,
          0.058558090076698155,
          0.8192424046592419,
          -0.7034211243057392,
          0.27031409616505014,
          0.08148628645705498,
          -0.2880872636775998,
          0.9509073545454106,
          -0.8172972151294176,
          -0.7568709274775649,
          0.6118356513633527,
          0.9659596821428789,
          -0.7400526433542927,
          0.11616956138933034,
          0.8989971765024731,
          -0.9476829298857408,
          -0.17325476661226713,
          0.8270510204107957,
          0.003969429099871605,
          -0.9061754673661192,
          -0.2892138210491218,
          -0.16213032319849258,
          0.9491075697940846,
          0.9818034190450003,
          -0.36973689198351467,
          -0.767773376332571,
          -0.9287158265147373,
          -0.3168216226336203,
          -0.3882697391805669,
          -0.5251268558213069,
          -0.05550392029786738,
          -0.45144852455161544,
          0.83680043248541,
          0.8286010129585805,
          0.9068649863816901,
          0.4574673428003474,
          0.5568070076938468,
          -0.8785887664494433,
          0.15582058150884934,
          -0.9457022833301384,
          -0.9508952093103114,
          -0.8527996575152412,
          -0.44376781515102776,
          -0.6884502183472971,
          -0.9737778710341598,
          0.784400169993281,
          0.5773711106616564,
          0.1750870250259253,
          -0.883628576594363,
          0.8899630864498015,
          0.23689255271352752,
          -0.4528246575846315,
          0.9252612510538469,
          0.5432714997956514,
          -0.8952252274405483,
          0.9546000697471745,
          -0.9784181686523185,
          0.33465689376033797,
          -0.4706152903531191,
          0.9389558615308907,
          -0.6735435680954232,
          -0.5593405597546682,
          0.8870595490315061,
          0.9486667845989296,
          0.7386605810949162,
          -0.12007960838481085,
          -0.5693304534953558,
          -0.06805497095265818
         ]
        }
       ],
       "layout": {
        "hovermode": "closest",
        "plot_bgcolor": "white",
        "showlegend": false,
        "template": {
         "data": {
          "bar": [
           {
            "error_x": {
             "color": "#2a3f5f"
            },
            "error_y": {
             "color": "#2a3f5f"
            },
            "marker": {
             "line": {
              "color": "#E5ECF6",
              "width": 0.5
             },
             "pattern": {
              "fillmode": "overlay",
              "size": 10,
              "solidity": 0.2
             }
            },
            "type": "bar"
           }
          ],
          "barpolar": [
           {
            "marker": {
             "line": {
              "color": "#E5ECF6",
              "width": 0.5
             },
             "pattern": {
              "fillmode": "overlay",
              "size": 10,
              "solidity": 0.2
             }
            },
            "type": "barpolar"
           }
          ],
          "carpet": [
           {
            "aaxis": {
             "endlinecolor": "#2a3f5f",
             "gridcolor": "white",
             "linecolor": "white",
             "minorgridcolor": "white",
             "startlinecolor": "#2a3f5f"
            },
            "baxis": {
             "endlinecolor": "#2a3f5f",
             "gridcolor": "white",
             "linecolor": "white",
             "minorgridcolor": "white",
             "startlinecolor": "#2a3f5f"
            },
            "type": "carpet"
           }
          ],
          "choropleth": [
           {
            "colorbar": {
             "outlinewidth": 0,
             "ticks": ""
            },
            "type": "choropleth"
           }
          ],
          "contour": [
           {
            "colorbar": {
             "outlinewidth": 0,
             "ticks": ""
            },
            "colorscale": [
             [
              0,
              "#0d0887"
             ],
             [
              0.1111111111111111,
              "#46039f"
             ],
             [
              0.2222222222222222,
              "#7201a8"
             ],
             [
              0.3333333333333333,
              "#9c179e"
             ],
             [
              0.4444444444444444,
              "#bd3786"
             ],
             [
              0.5555555555555556,
              "#d8576b"
             ],
             [
              0.6666666666666666,
              "#ed7953"
             ],
             [
              0.7777777777777778,
              "#fb9f3a"
             ],
             [
              0.8888888888888888,
              "#fdca26"
             ],
             [
              1,
              "#f0f921"
             ]
            ],
            "type": "contour"
           }
          ],
          "contourcarpet": [
           {
            "colorbar": {
             "outlinewidth": 0,
             "ticks": ""
            },
            "type": "contourcarpet"
           }
          ],
          "heatmap": [
           {
            "colorbar": {
             "outlinewidth": 0,
             "ticks": ""
            },
            "colorscale": [
             [
              0,
              "#0d0887"
             ],
             [
              0.1111111111111111,
              "#46039f"
             ],
             [
              0.2222222222222222,
              "#7201a8"
             ],
             [
              0.3333333333333333,
              "#9c179e"
             ],
             [
              0.4444444444444444,
              "#bd3786"
             ],
             [
              0.5555555555555556,
              "#d8576b"
             ],
             [
              0.6666666666666666,
              "#ed7953"
             ],
             [
              0.7777777777777778,
              "#fb9f3a"
             ],
             [
              0.8888888888888888,
              "#fdca26"
             ],
             [
              1,
              "#f0f921"
             ]
            ],
            "type": "heatmap"
           }
          ],
          "heatmapgl": [
           {
            "colorbar": {
             "outlinewidth": 0,
             "ticks": ""
            },
            "colorscale": [
             [
              0,
              "#0d0887"
             ],
             [
              0.1111111111111111,
              "#46039f"
             ],
             [
              0.2222222222222222,
              "#7201a8"
             ],
             [
              0.3333333333333333,
              "#9c179e"
             ],
             [
              0.4444444444444444,
              "#bd3786"
             ],
             [
              0.5555555555555556,
              "#d8576b"
             ],
             [
              0.6666666666666666,
              "#ed7953"
             ],
             [
              0.7777777777777778,
              "#fb9f3a"
             ],
             [
              0.8888888888888888,
              "#fdca26"
             ],
             [
              1,
              "#f0f921"
             ]
            ],
            "type": "heatmapgl"
           }
          ],
          "histogram": [
           {
            "marker": {
             "pattern": {
              "fillmode": "overlay",
              "size": 10,
              "solidity": 0.2
             }
            },
            "type": "histogram"
           }
          ],
          "histogram2d": [
           {
            "colorbar": {
             "outlinewidth": 0,
             "ticks": ""
            },
            "colorscale": [
             [
              0,
              "#0d0887"
             ],
             [
              0.1111111111111111,
              "#46039f"
             ],
             [
              0.2222222222222222,
              "#7201a8"
             ],
             [
              0.3333333333333333,
              "#9c179e"
             ],
             [
              0.4444444444444444,
              "#bd3786"
             ],
             [
              0.5555555555555556,
              "#d8576b"
             ],
             [
              0.6666666666666666,
              "#ed7953"
             ],
             [
              0.7777777777777778,
              "#fb9f3a"
             ],
             [
              0.8888888888888888,
              "#fdca26"
             ],
             [
              1,
              "#f0f921"
             ]
            ],
            "type": "histogram2d"
           }
          ],
          "histogram2dcontour": [
           {
            "colorbar": {
             "outlinewidth": 0,
             "ticks": ""
            },
            "colorscale": [
             [
              0,
              "#0d0887"
             ],
             [
              0.1111111111111111,
              "#46039f"
             ],
             [
              0.2222222222222222,
              "#7201a8"
             ],
             [
              0.3333333333333333,
              "#9c179e"
             ],
             [
              0.4444444444444444,
              "#bd3786"
             ],
             [
              0.5555555555555556,
              "#d8576b"
             ],
             [
              0.6666666666666666,
              "#ed7953"
             ],
             [
              0.7777777777777778,
              "#fb9f3a"
             ],
             [
              0.8888888888888888,
              "#fdca26"
             ],
             [
              1,
              "#f0f921"
             ]
            ],
            "type": "histogram2dcontour"
           }
          ],
          "mesh3d": [
           {
            "colorbar": {
             "outlinewidth": 0,
             "ticks": ""
            },
            "type": "mesh3d"
           }
          ],
          "parcoords": [
           {
            "line": {
             "colorbar": {
              "outlinewidth": 0,
              "ticks": ""
             }
            },
            "type": "parcoords"
           }
          ],
          "pie": [
           {
            "automargin": true,
            "type": "pie"
           }
          ],
          "scatter": [
           {
            "fillpattern": {
             "fillmode": "overlay",
             "size": 10,
             "solidity": 0.2
            },
            "type": "scatter"
           }
          ],
          "scatter3d": [
           {
            "line": {
             "colorbar": {
              "outlinewidth": 0,
              "ticks": ""
             }
            },
            "marker": {
             "colorbar": {
              "outlinewidth": 0,
              "ticks": ""
             }
            },
            "type": "scatter3d"
           }
          ],
          "scattercarpet": [
           {
            "marker": {
             "colorbar": {
              "outlinewidth": 0,
              "ticks": ""
             }
            },
            "type": "scattercarpet"
           }
          ],
          "scattergeo": [
           {
            "marker": {
             "colorbar": {
              "outlinewidth": 0,
              "ticks": ""
             }
            },
            "type": "scattergeo"
           }
          ],
          "scattergl": [
           {
            "marker": {
             "colorbar": {
              "outlinewidth": 0,
              "ticks": ""
             }
            },
            "type": "scattergl"
           }
          ],
          "scattermapbox": [
           {
            "marker": {
             "colorbar": {
              "outlinewidth": 0,
              "ticks": ""
             }
            },
            "type": "scattermapbox"
           }
          ],
          "scatterpolar": [
           {
            "marker": {
             "colorbar": {
              "outlinewidth": 0,
              "ticks": ""
             }
            },
            "type": "scatterpolar"
           }
          ],
          "scatterpolargl": [
           {
            "marker": {
             "colorbar": {
              "outlinewidth": 0,
              "ticks": ""
             }
            },
            "type": "scatterpolargl"
           }
          ],
          "scatterternary": [
           {
            "marker": {
             "colorbar": {
              "outlinewidth": 0,
              "ticks": ""
             }
            },
            "type": "scatterternary"
           }
          ],
          "surface": [
           {
            "colorbar": {
             "outlinewidth": 0,
             "ticks": ""
            },
            "colorscale": [
             [
              0,
              "#0d0887"
             ],
             [
              0.1111111111111111,
              "#46039f"
             ],
             [
              0.2222222222222222,
              "#7201a8"
             ],
             [
              0.3333333333333333,
              "#9c179e"
             ],
             [
              0.4444444444444444,
              "#bd3786"
             ],
             [
              0.5555555555555556,
              "#d8576b"
             ],
             [
              0.6666666666666666,
              "#ed7953"
             ],
             [
              0.7777777777777778,
              "#fb9f3a"
             ],
             [
              0.8888888888888888,
              "#fdca26"
             ],
             [
              1,
              "#f0f921"
             ]
            ],
            "type": "surface"
           }
          ],
          "table": [
           {
            "cells": {
             "fill": {
              "color": "#EBF0F8"
             },
             "line": {
              "color": "white"
             }
            },
            "header": {
             "fill": {
              "color": "#C8D4E3"
             },
             "line": {
              "color": "white"
             }
            },
            "type": "table"
           }
          ]
         },
         "layout": {
          "annotationdefaults": {
           "arrowcolor": "#2a3f5f",
           "arrowhead": 0,
           "arrowwidth": 1
          },
          "autotypenumbers": "strict",
          "coloraxis": {
           "colorbar": {
            "outlinewidth": 0,
            "ticks": ""
           }
          },
          "colorscale": {
           "diverging": [
            [
             0,
             "#8e0152"
            ],
            [
             0.1,
             "#c51b7d"
            ],
            [
             0.2,
             "#de77ae"
            ],
            [
             0.3,
             "#f1b6da"
            ],
            [
             0.4,
             "#fde0ef"
            ],
            [
             0.5,
             "#f7f7f7"
            ],
            [
             0.6,
             "#e6f5d0"
            ],
            [
             0.7,
             "#b8e186"
            ],
            [
             0.8,
             "#7fbc41"
            ],
            [
             0.9,
             "#4d9221"
            ],
            [
             1,
             "#276419"
            ]
           ],
           "sequential": [
            [
             0,
             "#0d0887"
            ],
            [
             0.1111111111111111,
             "#46039f"
            ],
            [
             0.2222222222222222,
             "#7201a8"
            ],
            [
             0.3333333333333333,
             "#9c179e"
            ],
            [
             0.4444444444444444,
             "#bd3786"
            ],
            [
             0.5555555555555556,
             "#d8576b"
            ],
            [
             0.6666666666666666,
             "#ed7953"
            ],
            [
             0.7777777777777778,
             "#fb9f3a"
            ],
            [
             0.8888888888888888,
             "#fdca26"
            ],
            [
             1,
             "#f0f921"
            ]
           ],
           "sequentialminus": [
            [
             0,
             "#0d0887"
            ],
            [
             0.1111111111111111,
             "#46039f"
            ],
            [
             0.2222222222222222,
             "#7201a8"
            ],
            [
             0.3333333333333333,
             "#9c179e"
            ],
            [
             0.4444444444444444,
             "#bd3786"
            ],
            [
             0.5555555555555556,
             "#d8576b"
            ],
            [
             0.6666666666666666,
             "#ed7953"
            ],
            [
             0.7777777777777778,
             "#fb9f3a"
            ],
            [
             0.8888888888888888,
             "#fdca26"
            ],
            [
             1,
             "#f0f921"
            ]
           ]
          },
          "colorway": [
           "#636efa",
           "#EF553B",
           "#00cc96",
           "#ab63fa",
           "#FFA15A",
           "#19d3f3",
           "#FF6692",
           "#B6E880",
           "#FF97FF",
           "#FECB52"
          ],
          "font": {
           "color": "#2a3f5f"
          },
          "geo": {
           "bgcolor": "white",
           "lakecolor": "white",
           "landcolor": "#E5ECF6",
           "showlakes": true,
           "showland": true,
           "subunitcolor": "white"
          },
          "hoverlabel": {
           "align": "left"
          },
          "hovermode": "closest",
          "mapbox": {
           "style": "light"
          },
          "paper_bgcolor": "white",
          "plot_bgcolor": "#E5ECF6",
          "polar": {
           "angularaxis": {
            "gridcolor": "white",
            "linecolor": "white",
            "ticks": ""
           },
           "bgcolor": "#E5ECF6",
           "radialaxis": {
            "gridcolor": "white",
            "linecolor": "white",
            "ticks": ""
           }
          },
          "scene": {
           "xaxis": {
            "backgroundcolor": "#E5ECF6",
            "gridcolor": "white",
            "gridwidth": 2,
            "linecolor": "white",
            "showbackground": true,
            "ticks": "",
            "zerolinecolor": "white"
           },
           "yaxis": {
            "backgroundcolor": "#E5ECF6",
            "gridcolor": "white",
            "gridwidth": 2,
            "linecolor": "white",
            "showbackground": true,
            "ticks": "",
            "zerolinecolor": "white"
           },
           "zaxis": {
            "backgroundcolor": "#E5ECF6",
            "gridcolor": "white",
            "gridwidth": 2,
            "linecolor": "white",
            "showbackground": true,
            "ticks": "",
            "zerolinecolor": "white"
           }
          },
          "shapedefaults": {
           "line": {
            "color": "#2a3f5f"
           }
          },
          "ternary": {
           "aaxis": {
            "gridcolor": "white",
            "linecolor": "white",
            "ticks": ""
           },
           "baxis": {
            "gridcolor": "white",
            "linecolor": "white",
            "ticks": ""
           },
           "bgcolor": "#E5ECF6",
           "caxis": {
            "gridcolor": "white",
            "linecolor": "white",
            "ticks": ""
           }
          },
          "title": {
           "x": 0.05
          },
          "xaxis": {
           "automargin": true,
           "gridcolor": "white",
           "linecolor": "white",
           "ticks": "",
           "title": {
            "standoff": 15
           },
           "zerolinecolor": "white",
           "zerolinewidth": 2
          },
          "yaxis": {
           "automargin": true,
           "gridcolor": "white",
           "linecolor": "white",
           "ticks": "",
           "title": {
            "standoff": 15
           },
           "zerolinecolor": "white",
           "zerolinewidth": 2
          }
         }
        },
        "xaxis": {
         "showgrid": false,
         "showticklabels": false,
         "visible": false,
         "zeroline": false
        },
        "yaxis": {
         "showgrid": false,
         "showticklabels": false,
         "visible": false,
         "zeroline": false
        }
       }
      }
     },
     "metadata": {},
     "output_type": "display_data"
    }
   ],
   "source": [
    "graph = StaticGraph(movies)\n",
    "graph.create_figure()\n",
    "graph.plot()"
   ]
  },
  {
   "cell_type": "markdown",
   "metadata": {},
   "source": [
    "While the graph representation provides a wealth of interesting insights, visualizing it on a map could highlight additional compelling aspects of the network, such as geographical patterns or regional dynamics in collaborations."
   ]
  },
  {
   "cell_type": "code",
   "execution_count": 11,
   "metadata": {},
   "outputs": [
    {
     "data": {
      "application/vnd.plotly.v1+json": {
       "config": {
        "plotlyServerURL": "https://plot.ly"
       },
       "data": [
        {
         "hoverinfo": "none",
         "lat": [
          51.1657,
          41.8719,
          null
         ],
         "line": {
          "color": "rgba(0, 0, 255, 1.6216216216216217)",
          "width": 1.6216216216216217
         },
         "locationmode": "ISO-3",
         "lon": [
          10.4515,
          12.5674,
          null
         ],
         "mode": "lines",
         "type": "scattergeo"
        },
        {
         "hoverinfo": "none",
         "lat": [
          26.8206,
          41.8719,
          null
         ],
         "line": {
          "color": "rgba(0, 0, 0, 0.8)",
          "width": 0.04504504504504504
         },
         "locationmode": "ISO-3",
         "lon": [
          30.8025,
          12.5674,
          null
         ],
         "mode": "lines",
         "type": "scattergeo"
        },
        {
         "hoverinfo": "none",
         "lat": [
          46.6034,
          41.8719,
          null
         ],
         "line": {
          "color": "rgba(0, 0, 255, 5.0)",
          "width": 5
         },
         "locationmode": "ISO-3",
         "lon": [
          1.8883,
          12.5674,
          null
         ],
         "mode": "lines",
         "type": "scattergeo"
        },
        {
         "hoverinfo": "none",
         "lat": [
          46.6034,
          51.1657,
          null
         ],
         "line": {
          "color": "rgba(0, 0, 255, 1.9031531531531531)",
          "width": 1.9031531531531531
         },
         "locationmode": "ISO-3",
         "lon": [
          1.8883,
          10.4515,
          null
         ],
         "mode": "lines",
         "type": "scattergeo"
        },
        {
         "hoverinfo": "none",
         "lat": [
          9.7489,
          46.6034,
          null
         ],
         "line": {
          "color": "rgba(0, 0, 0, 0.8)",
          "width": 0.01126126126126126
         },
         "locationmode": "ISO-3",
         "lon": [
          -83.7534,
          1.8883,
          null
         ],
         "mode": "lines",
         "type": "scattergeo"
        },
        {
         "hoverinfo": "none",
         "lat": [
          9.7489,
          55.3781,
          null
         ],
         "line": {
          "color": "rgba(0, 0, 0, 0.8)",
          "width": 0.01126126126126126
         },
         "locationmode": "ISO-3",
         "lon": [
          -83.7534,
          -3.436,
          null
         ],
         "mode": "lines",
         "type": "scattergeo"
        },
        {
         "hoverinfo": "none",
         "lat": [
          9.7489,
          40.4637,
          null
         ],
         "line": {
          "color": "rgba(0, 0, 0, 0.8)",
          "width": 0.01126126126126126
         },
         "locationmode": "ISO-3",
         "lon": [
          -83.7534,
          -3.7492,
          null
         ],
         "mode": "lines",
         "type": "scattergeo"
        },
        {
         "hoverinfo": "none",
         "lat": [
          9.7489,
          37.0902,
          null
         ],
         "line": {
          "color": "rgba(0, 0, 0, 0.8)",
          "width": 0.02252252252252252
         },
         "locationmode": "ISO-3",
         "lon": [
          -83.7534,
          -95.7129,
          null
         ],
         "mode": "lines",
         "type": "scattergeo"
        },
        {
         "hoverinfo": "none",
         "lat": [
          46.6034,
          55.3781,
          null
         ],
         "line": {
          "color": "rgba(0, 0, 255, 1.1373873873873874)",
          "width": 1.1373873873873874
         },
         "locationmode": "ISO-3",
         "lon": [
          1.8883,
          -3.436,
          null
         ],
         "mode": "lines",
         "type": "scattergeo"
        },
        {
         "hoverinfo": "none",
         "lat": [
          46.6034,
          40.4637,
          null
         ],
         "line": {
          "color": "rgba(0, 0, 255, 0.7319819819819819)",
          "width": 0.7319819819819819
         },
         "locationmode": "ISO-3",
         "lon": [
          1.8883,
          -3.7492,
          null
         ],
         "mode": "lines",
         "type": "scattergeo"
        },
        {
         "hoverinfo": "none",
         "lat": [
          46.6034,
          37.0902,
          null
         ],
         "line": {
          "color": "rgba(0, 0, 255, 1.2725225225225225)",
          "width": 1.2725225225225225
         },
         "locationmode": "ISO-3",
         "lon": [
          1.8883,
          -95.7129,
          null
         ],
         "mode": "lines",
         "type": "scattergeo"
        },
        {
         "hoverinfo": "none",
         "lat": [
          40.4637,
          55.3781,
          null
         ],
         "line": {
          "color": "rgba(0, 0, 255, 0.24774774774774774)",
          "width": 0.24774774774774774
         },
         "locationmode": "ISO-3",
         "lon": [
          -3.7492,
          -3.436,
          null
         ],
         "mode": "lines",
         "type": "scattergeo"
        },
        {
         "hoverinfo": "none",
         "lat": [
          55.3781,
          37.0902,
          null
         ],
         "line": {
          "color": "rgba(0, 0, 255, 4.63963963963964)",
          "width": 4.63963963963964
         },
         "locationmode": "ISO-3",
         "lon": [
          -3.436,
          -95.7129,
          null
         ],
         "mode": "lines",
         "type": "scattergeo"
        },
        {
         "hoverinfo": "none",
         "lat": [
          40.4637,
          37.0902,
          null
         ],
         "line": {
          "color": "rgba(0, 0, 255, 0.4617117117117117)",
          "width": 0.4617117117117117
         },
         "locationmode": "ISO-3",
         "lon": [
          -3.7492,
          -95.7129,
          null
         ],
         "mode": "lines",
         "type": "scattergeo"
        },
        {
         "hoverinfo": "none",
         "lat": [
          36.2048,
          37.0902,
          null
         ],
         "line": {
          "color": "rgba(0, 0, 0, 0.8)",
          "width": 0.8671171171171171
         },
         "locationmode": "ISO-3",
         "lon": [
          138.2529,
          -95.7129,
          null
         ],
         "mode": "lines",
         "type": "scattergeo"
        },
        {
         "hoverinfo": "none",
         "lat": [
          46.6034,
          51.9194,
          null
         ],
         "line": {
          "color": "rgba(0, 0, 0, 0.8)",
          "width": 0.15765765765765766
         },
         "locationmode": "ISO-3",
         "lon": [
          1.8883,
          19.1451,
          null
         ],
         "mode": "lines",
         "type": "scattergeo"
        },
        {
         "hoverinfo": "none",
         "lat": [
          56.2639,
          51.9194,
          null
         ],
         "line": {
          "color": "rgba(0, 0, 0, 0.8)",
          "width": 0.01126126126126126
         },
         "locationmode": "ISO-3",
         "lon": [
          9.5018,
          19.1451,
          null
         ],
         "mode": "lines",
         "type": "scattergeo"
        },
        {
         "hoverinfo": "none",
         "lat": [
          56.2639,
          46.6034,
          null
         ],
         "line": {
          "color": "rgba(0, 0, 0, 0.8)",
          "width": 0.10135135135135136
         },
         "locationmode": "ISO-3",
         "lon": [
          9.5018,
          1.8883,
          null
         ],
         "mode": "lines",
         "type": "scattergeo"
        },
        {
         "hoverinfo": "none",
         "lat": [
          45.1,
          41.8719,
          null
         ],
         "line": {
          "color": "rgba(0, 0, 255, 0.13513513513513514)",
          "width": 0.13513513513513514
         },
         "locationmode": "ISO-3",
         "lon": [
          15.2,
          12.5674,
          null
         ],
         "mode": "lines",
         "type": "scattergeo"
        },
        {
         "hoverinfo": "none",
         "lat": [
          47.5162,
          51.1657,
          null
         ],
         "line": {
          "color": "rgba(0, 0, 0, 0.8)",
          "width": 0.2927927927927928
         },
         "locationmode": "ISO-3",
         "lon": [
          14.5501,
          10.4515,
          null
         ],
         "mode": "lines",
         "type": "scattergeo"
        },
        {
         "hoverinfo": "none",
         "lat": [
          56.1304,
          37.0902,
          null
         ],
         "line": {
          "color": "rgba(0, 0, 255, 1.3063063063063063)",
          "width": 1.3063063063063063
         },
         "locationmode": "ISO-3",
         "lon": [
          -106.3468,
          -95.7129,
          null
         ],
         "mode": "lines",
         "type": "scattergeo"
        },
        {
         "hoverinfo": "none",
         "lat": [
          41.8719,
          40.4637,
          null
         ],
         "line": {
          "color": "rgba(0, 0, 255, 1.6666666666666665)",
          "width": 1.6666666666666665
         },
         "locationmode": "ISO-3",
         "lon": [
          12.5674,
          -3.7492,
          null
         ],
         "mode": "lines",
         "type": "scattergeo"
        },
        {
         "hoverinfo": "none",
         "lat": [
          56.1304,
          55.3781,
          null
         ],
         "line": {
          "color": "rgba(0, 0, 255, 0.2702702702702703)",
          "width": 0.2702702702702703
         },
         "locationmode": "ISO-3",
         "lon": [
          -106.3468,
          -3.436,
          null
         ],
         "mode": "lines",
         "type": "scattergeo"
        },
        {
         "hoverinfo": "none",
         "lat": [
          22.3193,
          23.6978,
          null
         ],
         "line": {
          "color": "rgba(0, 0, 0, 0.8)",
          "width": 0.2702702702702703
         },
         "locationmode": "ISO-3",
         "lon": [
          114.1694,
          120.9605,
          null
         ],
         "mode": "lines",
         "type": "scattergeo"
        },
        {
         "hoverinfo": "none",
         "lat": [
          -25.2744,
          37.0902,
          null
         ],
         "line": {
          "color": "rgba(0, 0, 255, 0.3490990990990991)",
          "width": 0.3490990990990991
         },
         "locationmode": "ISO-3",
         "lon": [
          133.7751,
          -95.7129,
          null
         ],
         "mode": "lines",
         "type": "scattergeo"
        },
        {
         "hoverinfo": "none",
         "lat": [
          41.8719,
          37.0902,
          null
         ],
         "line": {
          "color": "rgba(0, 0, 255, 1.4527027027027026)",
          "width": 1.4527027027027026
         },
         "locationmode": "ISO-3",
         "lon": [
          12.5674,
          -95.7129,
          null
         ],
         "mode": "lines",
         "type": "scattergeo"
        },
        {
         "hoverinfo": "none",
         "lat": [
          51.1657,
          40.4637,
          null
         ],
         "line": {
          "color": "rgba(0, 0, 255, 0.32657657657657657)",
          "width": 0.32657657657657657
         },
         "locationmode": "ISO-3",
         "lon": [
          10.4515,
          -3.7492,
          null
         ],
         "mode": "lines",
         "type": "scattergeo"
        },
        {
         "hoverinfo": "none",
         "lat": [
          47.5162,
          55.3781,
          null
         ],
         "line": {
          "color": "rgba(0, 0, 0, 0.8)",
          "width": 0.02252252252252252
         },
         "locationmode": "ISO-3",
         "lon": [
          14.5501,
          -3.436,
          null
         ],
         "mode": "lines",
         "type": "scattergeo"
        },
        {
         "hoverinfo": "none",
         "lat": [
          47.5162,
          37.0902,
          null
         ],
         "line": {
          "color": "rgba(0, 0, 0, 0.8)",
          "width": 0.12387387387387387
         },
         "locationmode": "ISO-3",
         "lon": [
          14.5501,
          -95.7129,
          null
         ],
         "mode": "lines",
         "type": "scattergeo"
        },
        {
         "hoverinfo": "none",
         "lat": [
          47.5162,
          41.8719,
          null
         ],
         "line": {
          "color": "rgba(0, 0, 0, 0.8)",
          "width": 0.06756756756756757
         },
         "locationmode": "ISO-3",
         "lon": [
          14.5501,
          12.5674,
          null
         ],
         "mode": "lines",
         "type": "scattergeo"
        },
        {
         "hoverinfo": "none",
         "lat": [
          51.1657,
          55.3781,
          null
         ],
         "line": {
          "color": "rgba(0, 0, 255, 0.8558558558558559)",
          "width": 0.8558558558558559
         },
         "locationmode": "ISO-3",
         "lon": [
          10.4515,
          -3.436,
          null
         ],
         "mode": "lines",
         "type": "scattergeo"
        },
        {
         "hoverinfo": "none",
         "lat": [
          41.8719,
          55.3781,
          null
         ],
         "line": {
          "color": "rgba(0, 0, 255, 0.5968468468468469)",
          "width": 0.5968468468468469
         },
         "locationmode": "ISO-3",
         "lon": [
          12.5674,
          -3.436,
          null
         ],
         "mode": "lines",
         "type": "scattergeo"
        },
        {
         "hoverinfo": "none",
         "lat": [
          51.1657,
          37.0902,
          null
         ],
         "line": {
          "color": "rgba(0, 0, 255, 1.15990990990991)",
          "width": 1.15990990990991
         },
         "locationmode": "ISO-3",
         "lon": [
          10.4515,
          -95.7129,
          null
         ],
         "mode": "lines",
         "type": "scattergeo"
        },
        {
         "hoverinfo": "none",
         "lat": [
          -25.2744,
          41.8719,
          null
         ],
         "line": {
          "color": "rgba(0, 0, 255, 0.033783783783783786)",
          "width": 0.033783783783783786
         },
         "locationmode": "ISO-3",
         "lon": [
          133.7751,
          12.5674,
          null
         ],
         "mode": "lines",
         "type": "scattergeo"
        },
        {
         "hoverinfo": "none",
         "lat": [
          -30.5595,
          37.0902,
          null
         ],
         "line": {
          "color": "rgba(0, 0, 0, 0.8)",
          "width": 0.16891891891891891
         },
         "locationmode": "ISO-3",
         "lon": [
          22.9375,
          -95.7129,
          null
         ],
         "mode": "lines",
         "type": "scattergeo"
        },
        {
         "hoverinfo": "none",
         "lat": [
          49.8153,
          37.0902,
          null
         ],
         "line": {
          "color": "rgba(0, 0, 0, 0.8)",
          "width": 0.033783783783783786
         },
         "locationmode": "ISO-3",
         "lon": [
          6.1296,
          -95.7129,
          null
         ],
         "mode": "lines",
         "type": "scattergeo"
        },
        {
         "hoverinfo": "none",
         "lat": [
          53.1424,
          55.3781,
          null
         ],
         "line": {
          "color": "rgba(0, 0, 0, 0.8)",
          "width": 0.2252252252252252
         },
         "locationmode": "ISO-3",
         "lon": [
          -7.6921,
          -3.436,
          null
         ],
         "mode": "lines",
         "type": "scattergeo"
        },
        {
         "hoverinfo": "none",
         "lat": [
          56.1304,
          41.8719,
          null
         ],
         "line": {
          "color": "rgba(0, 0, 255, 0.04504504504504504)",
          "width": 0.04504504504504504
         },
         "locationmode": "ISO-3",
         "lon": [
          -106.3468,
          12.5674,
          null
         ],
         "mode": "lines",
         "type": "scattergeo"
        },
        {
         "hoverinfo": "none",
         "lat": [
          40.4637,
          -32.5228,
          null
         ],
         "line": {
          "color": "rgba(0, 0, 0, 0.8)",
          "width": 0.01126126126126126
         },
         "locationmode": "ISO-3",
         "lon": [
          -3.7492,
          -55.7658,
          null
         ],
         "mode": "lines",
         "type": "scattergeo"
        },
        {
         "hoverinfo": "none",
         "lat": [
          -38.4161,
          40.4637,
          null
         ],
         "line": {
          "color": "rgba(0, 0, 0, 0.8)",
          "width": 0.0563063063063063
         },
         "locationmode": "ISO-3",
         "lon": [
          -63.6167,
          -3.7492,
          null
         ],
         "mode": "lines",
         "type": "scattergeo"
        },
        {
         "hoverinfo": "none",
         "lat": [
          -38.4161,
          -32.5228,
          null
         ],
         "line": {
          "color": "rgba(0, 0, 0, 0.8)",
          "width": 0.01126126126126126
         },
         "locationmode": "ISO-3",
         "lon": [
          -63.6167,
          -55.7658,
          null
         ],
         "mode": "lines",
         "type": "scattergeo"
        },
        {
         "hoverinfo": "none",
         "lat": [
          50.5039,
          46.6034,
          null
         ],
         "line": {
          "color": "rgba(0, 0, 255, 0.5855855855855856)",
          "width": 0.5855855855855856
         },
         "locationmode": "ISO-3",
         "lon": [
          4.4699,
          1.8883,
          null
         ],
         "mode": "lines",
         "type": "scattergeo"
        },
        {
         "hoverinfo": "none",
         "lat": [
          23.685,
          20.5937,
          null
         ],
         "line": {
          "color": "rgba(0, 0, 0, 0.8)",
          "width": 0.01126126126126126
         },
         "locationmode": "ISO-3",
         "lon": [
          90.3563,
          78.9629,
          null
         ],
         "mode": "lines",
         "type": "scattergeo"
        },
        {
         "hoverinfo": "none",
         "lat": [
          56.1304,
          46.6034,
          null
         ],
         "line": {
          "color": "rgba(0, 0, 255, 0.28153153153153154)",
          "width": 0.28153153153153154
         },
         "locationmode": "ISO-3",
         "lon": [
          -106.3468,
          1.8883,
          null
         ],
         "mode": "lines",
         "type": "scattergeo"
        },
        {
         "hoverinfo": "none",
         "lat": [
          64.9631,
          37.0902,
          null
         ],
         "line": {
          "color": "rgba(0, 0, 0, 0.8)",
          "width": 0.033783783783783786
         },
         "locationmode": "ISO-3",
         "lon": [
          -19.0208,
          -95.7129,
          null
         ],
         "mode": "lines",
         "type": "scattergeo"
        },
        {
         "hoverinfo": "none",
         "lat": [
          64.9631,
          55.3781,
          null
         ],
         "line": {
          "color": "rgba(0, 0, 0, 0.8)",
          "width": 0.033783783783783786
         },
         "locationmode": "ISO-3",
         "lon": [
          -19.0208,
          -3.436,
          null
         ],
         "mode": "lines",
         "type": "scattergeo"
        },
        {
         "hoverinfo": "none",
         "lat": [
          46.6034,
          64.9631,
          null
         ],
         "line": {
          "color": "rgba(0, 0, 0, 0.8)",
          "width": 0.02252252252252252
         },
         "locationmode": "ISO-3",
         "lon": [
          1.8883,
          -19.0208,
          null
         ],
         "mode": "lines",
         "type": "scattergeo"
        },
        {
         "hoverinfo": "none",
         "lat": [
          46.6034,
          47.166,
          null
         ],
         "line": {
          "color": "rgba(0, 0, 0, 0.8)",
          "width": 0.033783783783783786
         },
         "locationmode": "ISO-3",
         "lon": [
          1.8883,
          9.5554,
          null
         ],
         "mode": "lines",
         "type": "scattergeo"
        },
        {
         "hoverinfo": "none",
         "lat": [
          50.5039,
          47.166,
          null
         ],
         "line": {
          "color": "rgba(0, 0, 0, 0.8)",
          "width": 0.01126126126126126
         },
         "locationmode": "ISO-3",
         "lon": [
          4.4699,
          9.5554,
          null
         ],
         "mode": "lines",
         "type": "scattergeo"
        },
        {
         "hoverinfo": "none",
         "lat": [
          41.8719,
          47.166,
          null
         ],
         "line": {
          "color": "rgba(0, 0, 0, 0.8)",
          "width": 0.07882882882882883
         },
         "locationmode": "ISO-3",
         "lon": [
          12.5674,
          9.5554,
          null
         ],
         "mode": "lines",
         "type": "scattergeo"
        },
        {
         "hoverinfo": "none",
         "lat": [
          50.5039,
          41.8719,
          null
         ],
         "line": {
          "color": "rgba(0, 0, 255, 0.12387387387387387)",
          "width": 0.12387387387387387
         },
         "locationmode": "ISO-3",
         "lon": [
          4.4699,
          12.5674,
          null
         ],
         "mode": "lines",
         "type": "scattergeo"
        },
        {
         "hoverinfo": "none",
         "lat": [
          55.3781,
          -19.0154,
          null
         ],
         "line": {
          "color": "rgba(0, 0, 0, 0.8)",
          "width": 0.033783783783783786
         },
         "locationmode": "ISO-3",
         "lon": [
          -3.436,
          29.1549,
          null
         ],
         "mode": "lines",
         "type": "scattergeo"
        },
        {
         "hoverinfo": "none",
         "lat": [
          52.1326,
          55.3781,
          null
         ],
         "line": {
          "color": "rgba(0, 0, 0, 0.8)",
          "width": 0.13513513513513514
         },
         "locationmode": "ISO-3",
         "lon": [
          5.2913,
          -3.436,
          null
         ],
         "mode": "lines",
         "type": "scattergeo"
        },
        {
         "hoverinfo": "none",
         "lat": [
          -25.2744,
          47.5162,
          null
         ],
         "line": {
          "color": "rgba(0, 0, 0, 0.8)",
          "width": 0.01126126126126126
         },
         "locationmode": "ISO-3",
         "lon": [
          133.7751,
          14.5501,
          null
         ],
         "mode": "lines",
         "type": "scattergeo"
        },
        {
         "hoverinfo": "none",
         "lat": [
          -25.2744,
          60.1282,
          null
         ],
         "line": {
          "color": "rgba(0, 0, 0, 0.8)",
          "width": 0.01126126126126126
         },
         "locationmode": "ISO-3",
         "lon": [
          133.7751,
          18.6435,
          null
         ],
         "mode": "lines",
         "type": "scattergeo"
        },
        {
         "hoverinfo": "none",
         "lat": [
          47.5162,
          60.1282,
          null
         ],
         "line": {
          "color": "rgba(0, 0, 0, 0.8)",
          "width": 0.02252252252252252
         },
         "locationmode": "ISO-3",
         "lon": [
          14.5501,
          18.6435,
          null
         ],
         "mode": "lines",
         "type": "scattergeo"
        },
        {
         "hoverinfo": "none",
         "lat": [
          22.3193,
          37.0902,
          null
         ],
         "line": {
          "color": "rgba(0, 0, 0, 0.8)",
          "width": 0.25900900900900903
         },
         "locationmode": "ISO-3",
         "lon": [
          114.1694,
          -95.7129,
          null
         ],
         "mode": "lines",
         "type": "scattergeo"
        },
        {
         "hoverinfo": "none",
         "lat": [
          46.6034,
          39.3999,
          null
         ],
         "line": {
          "color": "rgba(0, 0, 0, 0.8)",
          "width": 0.15765765765765766
         },
         "locationmode": "ISO-3",
         "lon": [
          1.8883,
          -8.2245,
          null
         ],
         "mode": "lines",
         "type": "scattergeo"
        },
        {
         "hoverinfo": "none",
         "lat": [
          39.3999,
          46.8182,
          null
         ],
         "line": {
          "color": "rgba(0, 0, 0, 0.8)",
          "width": 0.01126126126126126
         },
         "locationmode": "ISO-3",
         "lon": [
          -8.2245,
          8.2275,
          null
         ],
         "mode": "lines",
         "type": "scattergeo"
        },
        {
         "hoverinfo": "none",
         "lat": [
          46.6034,
          46.8182,
          null
         ],
         "line": {
          "color": "rgba(0, 0, 0, 0.8)",
          "width": 0.5292792792792793
         },
         "locationmode": "ISO-3",
         "lon": [
          1.8883,
          8.2275,
          null
         ],
         "mode": "lines",
         "type": "scattergeo"
        },
        {
         "hoverinfo": "none",
         "lat": [
          43.9159,
          41.8719,
          null
         ],
         "line": {
          "color": "rgba(0, 0, 0, 0.8)",
          "width": 0.033783783783783786
         },
         "locationmode": "ISO-3",
         "lon": [
          17.6791,
          12.5674,
          null
         ],
         "mode": "lines",
         "type": "scattergeo"
        },
        {
         "hoverinfo": "none",
         "lat": [
          21.5218,
          37.0902,
          null
         ],
         "line": {
          "color": "rgba(0, 0, 0, 0.8)",
          "width": 0.01126126126126126
         },
         "locationmode": "ISO-3",
         "lon": [
          -77.7812,
          -95.7129,
          null
         ],
         "mode": "lines",
         "type": "scattergeo"
        },
        {
         "hoverinfo": "none",
         "lat": [
          51.1657,
          60.1282,
          null
         ],
         "line": {
          "color": "rgba(0, 0, 0, 0.8)",
          "width": 0.21396396396396397
         },
         "locationmode": "ISO-3",
         "lon": [
          10.4515,
          18.6435,
          null
         ],
         "mode": "lines",
         "type": "scattergeo"
        },
        {
         "hoverinfo": "none",
         "lat": [
          51.1657,
          -9.1899,
          null
         ],
         "line": {
          "color": "rgba(0, 0, 0, 0.8)",
          "width": 0.02252252252252252
         },
         "locationmode": "ISO-3",
         "lon": [
          10.4515,
          -75.0152,
          null
         ],
         "mode": "lines",
         "type": "scattergeo"
        },
        {
         "hoverinfo": "none",
         "lat": [
          51.1657,
          -30.5595,
          null
         ],
         "line": {
          "color": "rgba(0, 0, 0, 0.8)",
          "width": 0.033783783783783786
         },
         "locationmode": "ISO-3",
         "lon": [
          10.4515,
          22.9375,
          null
         ],
         "mode": "lines",
         "type": "scattergeo"
        },
        {
         "hoverinfo": "none",
         "lat": [
          51.1657,
          -19.0154,
          null
         ],
         "line": {
          "color": "rgba(0, 0, 0, 0.8)",
          "width": 0.01126126126126126
         },
         "locationmode": "ISO-3",
         "lon": [
          10.4515,
          29.1549,
          null
         ],
         "mode": "lines",
         "type": "scattergeo"
        },
        {
         "hoverinfo": "none",
         "lat": [
          -30.5595,
          55.3781,
          null
         ],
         "line": {
          "color": "rgba(0, 0, 0, 0.8)",
          "width": 0.06756756756756757
         },
         "locationmode": "ISO-3",
         "lon": [
          22.9375,
          -3.436,
          null
         ],
         "mode": "lines",
         "type": "scattergeo"
        },
        {
         "hoverinfo": "none",
         "lat": [
          -30.5595,
          -19.0154,
          null
         ],
         "line": {
          "color": "rgba(0, 0, 0, 0.8)",
          "width": 0.01126126126126126
         },
         "locationmode": "ISO-3",
         "lon": [
          22.9375,
          29.1549,
          null
         ],
         "mode": "lines",
         "type": "scattergeo"
        },
        {
         "hoverinfo": "none",
         "lat": [
          53.1424,
          -40.9006,
          null
         ],
         "line": {
          "color": "rgba(0, 0, 0, 0.8)",
          "width": 0.01126126126126126
         },
         "locationmode": "ISO-3",
         "lon": [
          -7.6921,
          174.886,
          null
         ],
         "mode": "lines",
         "type": "scattergeo"
        },
        {
         "hoverinfo": "none",
         "lat": [
          56.1304,
          -40.9006,
          null
         ],
         "line": {
          "color": "rgba(0, 0, 0, 0.8)",
          "width": 0.02252252252252252
         },
         "locationmode": "ISO-3",
         "lon": [
          -106.3468,
          174.886,
          null
         ],
         "mode": "lines",
         "type": "scattergeo"
        },
        {
         "hoverinfo": "none",
         "lat": [
          56.1304,
          53.1424,
          null
         ],
         "line": {
          "color": "rgba(0, 0, 0, 0.8)",
          "width": 0.01126126126126126
         },
         "locationmode": "ISO-3",
         "lon": [
          -106.3468,
          -7.6921,
          null
         ],
         "mode": "lines",
         "type": "scattergeo"
        },
        {
         "hoverinfo": "none",
         "lat": [
          53.1424,
          37.0902,
          null
         ],
         "line": {
          "color": "rgba(0, 0, 0, 0.8)",
          "width": 0.16891891891891891
         },
         "locationmode": "ISO-3",
         "lon": [
          -7.6921,
          -95.7129,
          null
         ],
         "mode": "lines",
         "type": "scattergeo"
        },
        {
         "hoverinfo": "none",
         "lat": [
          56.2639,
          60.1282,
          null
         ],
         "line": {
          "color": "rgba(0, 0, 0, 0.8)",
          "width": 0.3153153153153153
         },
         "locationmode": "ISO-3",
         "lon": [
          9.5018,
          18.6435,
          null
         ],
         "mode": "lines",
         "type": "scattergeo"
        },
        {
         "hoverinfo": "none",
         "lat": [
          12.8797,
          37.0902,
          null
         ],
         "line": {
          "color": "rgba(0, 0, 0, 0.8)",
          "width": 0.24774774774774774
         },
         "locationmode": "ISO-3",
         "lon": [
          121.774,
          -95.7129,
          null
         ],
         "mode": "lines",
         "type": "scattergeo"
        },
        {
         "hoverinfo": "none",
         "lat": [
          56.1304,
          -30.5595,
          null
         ],
         "line": {
          "color": "rgba(0, 0, 0, 0.8)",
          "width": 0.01126126126126126
         },
         "locationmode": "ISO-3",
         "lon": [
          -106.3468,
          22.9375,
          null
         ],
         "mode": "lines",
         "type": "scattergeo"
        },
        {
         "hoverinfo": "none",
         "lat": [
          23.6345,
          37.0902,
          null
         ],
         "line": {
          "color": "rgba(0, 0, 255, 0.4391891891891892)",
          "width": 0.4391891891891892
         },
         "locationmode": "ISO-3",
         "lon": [
          -102.5528,
          -95.7129,
          null
         ],
         "mode": "lines",
         "type": "scattergeo"
        },
        {
         "hoverinfo": "none",
         "lat": [
          41.8719,
          23.6345,
          null
         ],
         "line": {
          "color": "rgba(0, 0, 255, 0.0563063063063063)",
          "width": 0.0563063063063063
         },
         "locationmode": "ISO-3",
         "lon": [
          12.5674,
          -102.5528,
          null
         ],
         "mode": "lines",
         "type": "scattergeo"
        },
        {
         "hoverinfo": "none",
         "lat": [
          47.5162,
          46.6034,
          null
         ],
         "line": {
          "color": "rgba(0, 0, 0, 0.8)",
          "width": 0.06756756756756757
         },
         "locationmode": "ISO-3",
         "lon": [
          14.5501,
          1.8883,
          null
         ],
         "mode": "lines",
         "type": "scattergeo"
        },
        {
         "hoverinfo": "none",
         "lat": [
          -25.2744,
          -40.9006,
          null
         ],
         "line": {
          "color": "rgba(0, 0, 0, 0.8)",
          "width": 0.07882882882882883
         },
         "locationmode": "ISO-3",
         "lon": [
          133.7751,
          174.886,
          null
         ],
         "mode": "lines",
         "type": "scattergeo"
        },
        {
         "hoverinfo": "none",
         "lat": [
          -25.2744,
          55.3781,
          null
         ],
         "line": {
          "color": "rgba(0, 0, 255, 0.16891891891891891)",
          "width": 0.16891891891891891
         },
         "locationmode": "ISO-3",
         "lon": [
          133.7751,
          -3.436,
          null
         ],
         "mode": "lines",
         "type": "scattergeo"
        },
        {
         "hoverinfo": "none",
         "lat": [
          -40.9006,
          55.3781,
          null
         ],
         "line": {
          "color": "rgba(0, 0, 0, 0.8)",
          "width": 0.033783783783783786
         },
         "locationmode": "ISO-3",
         "lon": [
          174.886,
          -3.436,
          null
         ],
         "mode": "lines",
         "type": "scattergeo"
        },
        {
         "hoverinfo": "none",
         "lat": [
          46.6034,
          45.9432,
          null
         ],
         "line": {
          "color": "rgba(0, 0, 0, 0.8)",
          "width": 0.07882882882882883
         },
         "locationmode": "ISO-3",
         "lon": [
          1.8883,
          24.9668,
          null
         ],
         "mode": "lines",
         "type": "scattergeo"
        },
        {
         "hoverinfo": "none",
         "lat": [
          61.524,
          48.3794,
          null
         ],
         "line": {
          "color": "rgba(0, 0, 0, 0.8)",
          "width": 0.1463963963963964
         },
         "locationmode": "ISO-3",
         "lon": [
          105.3188,
          31.1656,
          null
         ],
         "mode": "lines",
         "type": "scattergeo"
        },
        {
         "hoverinfo": "none",
         "lat": [
          -14.235,
          51.1657,
          null
         ],
         "line": {
          "color": "rgba(0, 0, 0, 0.8)",
          "width": 0.02252252252252252
         },
         "locationmode": "ISO-3",
         "lon": [
          -51.9253,
          10.4515,
          null
         ],
         "mode": "lines",
         "type": "scattergeo"
        },
        {
         "hoverinfo": "none",
         "lat": [
          -14.235,
          46.6034,
          null
         ],
         "line": {
          "color": "rgba(0, 0, 0, 0.8)",
          "width": 0.033783783783783786
         },
         "locationmode": "ISO-3",
         "lon": [
          -51.9253,
          1.8883,
          null
         ],
         "mode": "lines",
         "type": "scattergeo"
        },
        {
         "hoverinfo": "none",
         "lat": [
          -38.4161,
          55.3781,
          null
         ],
         "line": {
          "color": "rgba(0, 0, 0, 0.8)",
          "width": 0.033783783783783786
         },
         "locationmode": "ISO-3",
         "lon": [
          -63.6167,
          -3.436,
          null
         ],
         "mode": "lines",
         "type": "scattergeo"
        },
        {
         "hoverinfo": "none",
         "lat": [
          46.6034,
          6.4238,
          null
         ],
         "line": {
          "color": "rgba(0, 0, 0, 0.8)",
          "width": 0.06756756756756757
         },
         "locationmode": "ISO-3",
         "lon": [
          1.8883,
          -66.5897,
          null
         ],
         "mode": "lines",
         "type": "scattergeo"
        },
        {
         "hoverinfo": "none",
         "lat": [
          45.1,
          22.3193,
          null
         ],
         "line": {
          "color": "rgba(0, 0, 0, 0.8)",
          "width": 0.02252252252252252
         },
         "locationmode": "ISO-3",
         "lon": [
          15.2,
          114.1694,
          null
         ],
         "mode": "lines",
         "type": "scattergeo"
        },
        {
         "hoverinfo": "none",
         "lat": [
          51.1657,
          53.1424,
          null
         ],
         "line": {
          "color": "rgba(0, 0, 0, 0.8)",
          "width": 0.02252252252252252
         },
         "locationmode": "ISO-3",
         "lon": [
          10.4515,
          -7.6921,
          null
         ],
         "mode": "lines",
         "type": "scattergeo"
        },
        {
         "hoverinfo": "none",
         "lat": [
          64.9631,
          60.1282,
          null
         ],
         "line": {
          "color": "rgba(0, 0, 0, 0.8)",
          "width": 0.033783783783783786
         },
         "locationmode": "ISO-3",
         "lon": [
          -19.0208,
          18.6435,
          null
         ],
         "mode": "lines",
         "type": "scattergeo"
        },
        {
         "hoverinfo": "none",
         "lat": [
          61.9241,
          60.1282,
          null
         ],
         "line": {
          "color": "rgba(0, 0, 0, 0.8)",
          "width": 0.10135135135135136
         },
         "locationmode": "ISO-3",
         "lon": [
          25.7482,
          18.6435,
          null
         ],
         "mode": "lines",
         "type": "scattergeo"
        },
        {
         "hoverinfo": "none",
         "lat": [
          56.2639,
          64.9631,
          null
         ],
         "line": {
          "color": "rgba(0, 0, 0, 0.8)",
          "width": 0.04504504504504504
         },
         "locationmode": "ISO-3",
         "lon": [
          9.5018,
          -19.0208,
          null
         ],
         "mode": "lines",
         "type": "scattergeo"
        },
        {
         "hoverinfo": "none",
         "lat": [
          56.2639,
          61.9241,
          null
         ],
         "line": {
          "color": "rgba(0, 0, 0, 0.8)",
          "width": 0.02252252252252252
         },
         "locationmode": "ISO-3",
         "lon": [
          9.5018,
          25.7482,
          null
         ],
         "mode": "lines",
         "type": "scattergeo"
        },
        {
         "hoverinfo": "none",
         "lat": [
          61.9241,
          64.9631,
          null
         ],
         "line": {
          "color": "rgba(0, 0, 0, 0.8)",
          "width": 0.02252252252252252
         },
         "locationmode": "ISO-3",
         "lon": [
          25.7482,
          -19.0208,
          null
         ],
         "mode": "lines",
         "type": "scattergeo"
        },
        {
         "hoverinfo": "none",
         "lat": [
          -14.235,
          37.0902,
          null
         ],
         "line": {
          "color": "rgba(0, 0, 0, 0.8)",
          "width": 0.04504504504504504
         },
         "locationmode": "ISO-3",
         "lon": [
          -51.9253,
          -95.7129,
          null
         ],
         "mode": "lines",
         "type": "scattergeo"
        },
        {
         "hoverinfo": "none",
         "lat": [
          -25.2744,
          23.6978,
          null
         ],
         "line": {
          "color": "rgba(0, 0, 0, 0.8)",
          "width": 0.01126126126126126
         },
         "locationmode": "ISO-3",
         "lon": [
          133.7751,
          120.9605,
          null
         ],
         "mode": "lines",
         "type": "scattergeo"
        },
        {
         "hoverinfo": "none",
         "lat": [
          55.1694,
          37.0902,
          null
         ],
         "line": {
          "color": "rgba(0, 0, 0, 0.8)",
          "width": 0.01126126126126126
         },
         "locationmode": "ISO-3",
         "lon": [
          23.8813,
          -95.7129,
          null
         ],
         "mode": "lines",
         "type": "scattergeo"
        },
        {
         "hoverinfo": "none",
         "lat": [
          46.6034,
          60.1282,
          null
         ],
         "line": {
          "color": "rgba(0, 0, 0, 0.8)",
          "width": 0.15765765765765766
         },
         "locationmode": "ISO-3",
         "lon": [
          1.8883,
          18.6435,
          null
         ],
         "mode": "lines",
         "type": "scattergeo"
        },
        {
         "hoverinfo": "none",
         "lat": [
          45.9432,
          46.8182,
          null
         ],
         "line": {
          "color": "rgba(0, 0, 0, 0.8)",
          "width": 0.01126126126126126
         },
         "locationmode": "ISO-3",
         "lon": [
          24.9668,
          8.2275,
          null
         ],
         "mode": "lines",
         "type": "scattergeo"
        },
        {
         "hoverinfo": "none",
         "lat": [
          51.1657,
          46.8182,
          null
         ],
         "line": {
          "color": "rgba(0, 0, 0, 0.8)",
          "width": 0.3153153153153153
         },
         "locationmode": "ISO-3",
         "lon": [
          10.4515,
          8.2275,
          null
         ],
         "mode": "lines",
         "type": "scattergeo"
        },
        {
         "hoverinfo": "none",
         "lat": [
          51.1657,
          45.9432,
          null
         ],
         "line": {
          "color": "rgba(0, 0, 0, 0.8)",
          "width": 0.04504504504504504
         },
         "locationmode": "ISO-3",
         "lon": [
          10.4515,
          24.9668,
          null
         ],
         "mode": "lines",
         "type": "scattergeo"
        },
        {
         "hoverinfo": "none",
         "lat": [
          20.5937,
          55.3781,
          null
         ],
         "line": {
          "color": "rgba(0, 0, 0, 0.8)",
          "width": 0.07882882882882883
         },
         "locationmode": "ISO-3",
         "lon": [
          78.9629,
          -3.436,
          null
         ],
         "mode": "lines",
         "type": "scattergeo"
        },
        {
         "hoverinfo": "none",
         "lat": [
          -38.4161,
          37.0902,
          null
         ],
         "line": {
          "color": "rgba(0, 0, 0, 0.8)",
          "width": 0.09009009009009009
         },
         "locationmode": "ISO-3",
         "lon": [
          -63.6167,
          -95.7129,
          null
         ],
         "mode": "lines",
         "type": "scattergeo"
        },
        {
         "hoverinfo": "none",
         "lat": [
          31.0461,
          37.0902,
          null
         ],
         "line": {
          "color": "rgba(0, 0, 0, 0.8)",
          "width": 0.04504504504504504
         },
         "locationmode": "ISO-3",
         "lon": [
          34.8516,
          -95.7129,
          null
         ],
         "mode": "lines",
         "type": "scattergeo"
        },
        {
         "hoverinfo": "none",
         "lat": [
          46.6034,
          41.6086,
          null
         ],
         "line": {
          "color": "rgba(0, 0, 0, 0.8)",
          "width": 0.01126126126126126
         },
         "locationmode": "ISO-3",
         "lon": [
          1.8883,
          21.7453,
          null
         ],
         "mode": "lines",
         "type": "scattergeo"
        },
        {
         "hoverinfo": "none",
         "lat": [
          41.6086,
          55.3781,
          null
         ],
         "line": {
          "color": "rgba(0, 0, 0, 0.8)",
          "width": 0.02252252252252252
         },
         "locationmode": "ISO-3",
         "lon": [
          21.7453,
          -3.436,
          null
         ],
         "mode": "lines",
         "type": "scattergeo"
        },
        {
         "hoverinfo": "none",
         "lat": [
          36.2048,
          55.3781,
          null
         ],
         "line": {
          "color": "rgba(0, 0, 0, 0.8)",
          "width": 0.2252252252252252
         },
         "locationmode": "ISO-3",
         "lon": [
          138.2529,
          -3.436,
          null
         ],
         "mode": "lines",
         "type": "scattergeo"
        },
        {
         "hoverinfo": "none",
         "lat": [
          39.3999,
          40.4637,
          null
         ],
         "line": {
          "color": "rgba(0, 0, 0, 0.8)",
          "width": 0.04504504504504504
         },
         "locationmode": "ISO-3",
         "lon": [
          -8.2245,
          -3.7492,
          null
         ],
         "mode": "lines",
         "type": "scattergeo"
        },
        {
         "hoverinfo": "none",
         "lat": [
          47.5162,
          46.8182,
          null
         ],
         "line": {
          "color": "rgba(0, 0, 0, 0.8)",
          "width": 0.04504504504504504
         },
         "locationmode": "ISO-3",
         "lon": [
          14.5501,
          8.2275,
          null
         ],
         "mode": "lines",
         "type": "scattergeo"
        },
        {
         "hoverinfo": "none",
         "lat": [
          56.1304,
          35.8617,
          null
         ],
         "line": {
          "color": "rgba(0, 0, 0, 0.8)",
          "width": 0.01126126126126126
         },
         "locationmode": "ISO-3",
         "lon": [
          -106.3468,
          104.1954,
          null
         ],
         "mode": "lines",
         "type": "scattergeo"
        },
        {
         "hoverinfo": "none",
         "lat": [
          35.8617,
          46.6034,
          null
         ],
         "line": {
          "color": "rgba(0, 0, 0, 0.8)",
          "width": 0.04504504504504504
         },
         "locationmode": "ISO-3",
         "lon": [
          104.1954,
          1.8883,
          null
         ],
         "mode": "lines",
         "type": "scattergeo"
        },
        {
         "hoverinfo": "none",
         "lat": [
          51.1657,
          43.7384,
          null
         ],
         "line": {
          "color": "rgba(0, 0, 0, 0.8)",
          "width": 0.02252252252252252
         },
         "locationmode": "ISO-3",
         "lon": [
          10.4515,
          7.4246,
          null
         ],
         "mode": "lines",
         "type": "scattergeo"
        },
        {
         "hoverinfo": "none",
         "lat": [
          41.8719,
          43.7384,
          null
         ],
         "line": {
          "color": "rgba(0, 0, 0, 0.8)",
          "width": 0.033783783783783786
         },
         "locationmode": "ISO-3",
         "lon": [
          12.5674,
          7.4246,
          null
         ],
         "mode": "lines",
         "type": "scattergeo"
        },
        {
         "hoverinfo": "none",
         "lat": [
          60.1282,
          46.8182,
          null
         ],
         "line": {
          "color": "rgba(0, 0, 0, 0.8)",
          "width": 0.02252252252252252
         },
         "locationmode": "ISO-3",
         "lon": [
          18.6435,
          8.2275,
          null
         ],
         "mode": "lines",
         "type": "scattergeo"
        },
        {
         "hoverinfo": "none",
         "lat": [
          35.8617,
          37.0902,
          null
         ],
         "line": {
          "color": "rgba(0, 0, 0, 0.8)",
          "width": 0.02252252252252252
         },
         "locationmode": "ISO-3",
         "lon": [
          104.1954,
          -95.7129,
          null
         ],
         "mode": "lines",
         "type": "scattergeo"
        },
        {
         "hoverinfo": "none",
         "lat": [
          46.6034,
          48.669,
          null
         ],
         "line": {
          "color": "rgba(0, 0, 0, 0.8)",
          "width": 0.01126126126126126
         },
         "locationmode": "ISO-3",
         "lon": [
          1.8883,
          19.699,
          null
         ],
         "mode": "lines",
         "type": "scattergeo"
        },
        {
         "hoverinfo": "none",
         "lat": [
          46.6034,
          14.4974,
          null
         ],
         "line": {
          "color": "rgba(0, 0, 0, 0.8)",
          "width": 0.04504504504504504
         },
         "locationmode": "ISO-3",
         "lon": [
          1.8883,
          -14.4524,
          null
         ],
         "mode": "lines",
         "type": "scattergeo"
        },
        {
         "hoverinfo": "none",
         "lat": [
          41.8719,
          25.276,
          null
         ],
         "line": {
          "color": "rgba(0, 0, 0, 0.8)",
          "width": 0.01126126126126126
         },
         "locationmode": "ISO-3",
         "lon": [
          12.5674,
          51.2148,
          null
         ],
         "mode": "lines",
         "type": "scattergeo"
        },
        {
         "hoverinfo": "none",
         "lat": [
          41.8719,
          33.8869,
          null
         ],
         "line": {
          "color": "rgba(0, 0, 0, 0.8)",
          "width": 0.033783783783783786
         },
         "locationmode": "ISO-3",
         "lon": [
          12.5674,
          9.5375,
          null
         ],
         "mode": "lines",
         "type": "scattergeo"
        },
        {
         "hoverinfo": "none",
         "lat": [
          46.6034,
          25.276,
          null
         ],
         "line": {
          "color": "rgba(0, 0, 0, 0.8)",
          "width": 0.01126126126126126
         },
         "locationmode": "ISO-3",
         "lon": [
          1.8883,
          51.2148,
          null
         ],
         "mode": "lines",
         "type": "scattergeo"
        },
        {
         "hoverinfo": "none",
         "lat": [
          25.276,
          33.8869,
          null
         ],
         "line": {
          "color": "rgba(0, 0, 0, 0.8)",
          "width": 0.01126126126126126
         },
         "locationmode": "ISO-3",
         "lon": [
          51.2148,
          9.5375,
          null
         ],
         "mode": "lines",
         "type": "scattergeo"
        },
        {
         "hoverinfo": "none",
         "lat": [
          46.6034,
          33.8869,
          null
         ],
         "line": {
          "color": "rgba(0, 0, 0, 0.8)",
          "width": 0.0563063063063063
         },
         "locationmode": "ISO-3",
         "lon": [
          1.8883,
          9.5375,
          null
         ],
         "mode": "lines",
         "type": "scattergeo"
        },
        {
         "hoverinfo": "none",
         "lat": [
          -14.235,
          41.8719,
          null
         ],
         "line": {
          "color": "rgba(0, 0, 0, 0.8)",
          "width": 0.033783783783783786
         },
         "locationmode": "ISO-3",
         "lon": [
          -51.9253,
          12.5674,
          null
         ],
         "mode": "lines",
         "type": "scattergeo"
        },
        {
         "hoverinfo": "none",
         "lat": [
          -25.2744,
          56.1304,
          null
         ],
         "line": {
          "color": "rgba(0, 0, 255, 0.04504504504504504)",
          "width": 0.04504504504504504
         },
         "locationmode": "ISO-3",
         "lon": [
          133.7751,
          -106.3468,
          null
         ],
         "mode": "lines",
         "type": "scattergeo"
        },
        {
         "hoverinfo": "none",
         "lat": [
          7.5399,
          46.8182,
          null
         ],
         "line": {
          "color": "rgba(0, 0, 0, 0.8)",
          "width": 0.01126126126126126
         },
         "locationmode": "ISO-3",
         "lon": [
          -5.5471,
          8.2275,
          null
         ],
         "mode": "lines",
         "type": "scattergeo"
        },
        {
         "hoverinfo": "none",
         "lat": [
          7.5399,
          51.1657,
          null
         ],
         "line": {
          "color": "rgba(0, 0, 0, 0.8)",
          "width": 0.01126126126126126
         },
         "locationmode": "ISO-3",
         "lon": [
          -5.5471,
          10.4515,
          null
         ],
         "mode": "lines",
         "type": "scattergeo"
        },
        {
         "hoverinfo": "none",
         "lat": [
          7.5399,
          46.6034,
          null
         ],
         "line": {
          "color": "rgba(0, 0, 0, 0.8)",
          "width": 0.01126126126126126
         },
         "locationmode": "ISO-3",
         "lon": [
          -5.5471,
          1.8883,
          null
         ],
         "mode": "lines",
         "type": "scattergeo"
        },
        {
         "hoverinfo": "none",
         "lat": [
          22.3193,
          55.3781,
          null
         ],
         "line": {
          "color": "rgba(0, 0, 0, 0.8)",
          "width": 0.02252252252252252
         },
         "locationmode": "ISO-3",
         "lon": [
          114.1694,
          -3.436,
          null
         ],
         "mode": "lines",
         "type": "scattergeo"
        },
        {
         "hoverinfo": "none",
         "lat": [
          39.0742,
          55.3781,
          null
         ],
         "line": {
          "color": "rgba(0, 0, 0, 0.8)",
          "width": 0.0563063063063063
         },
         "locationmode": "ISO-3",
         "lon": [
          21.8243,
          -3.436,
          null
         ],
         "mode": "lines",
         "type": "scattergeo"
        },
        {
         "hoverinfo": "none",
         "lat": [
          46.6034,
          43.7384,
          null
         ],
         "line": {
          "color": "rgba(0, 0, 0, 0.8)",
          "width": 0.01126126126126126
         },
         "locationmode": "ISO-3",
         "lon": [
          1.8883,
          7.4246,
          null
         ],
         "mode": "lines",
         "type": "scattergeo"
        },
        {
         "hoverinfo": "none",
         "lat": [
          42.3154,
          61.524,
          null
         ],
         "line": {
          "color": "rgba(255, 0, 0, 0.0563063063063063)",
          "width": 0.0563063063063063
         },
         "locationmode": "ISO-3",
         "lon": [
          43.3569,
          105.3188,
          null
         ],
         "mode": "lines",
         "type": "scattergeo"
        },
        {
         "hoverinfo": "none",
         "lat": [
          35.8617,
          22.3193,
          null
         ],
         "line": {
          "color": "rgba(0, 0, 0, 0.8)",
          "width": 0.16891891891891891
         },
         "locationmode": "ISO-3",
         "lon": [
          104.1954,
          114.1694,
          null
         ],
         "mode": "lines",
         "type": "scattergeo"
        },
        {
         "hoverinfo": "none",
         "lat": [
          46.6034,
          61.524,
          null
         ],
         "line": {
          "color": "rgba(0, 0, 0, 0.8)",
          "width": 0.10135135135135136
         },
         "locationmode": "ISO-3",
         "lon": [
          1.8883,
          105.3188,
          null
         ],
         "mode": "lines",
         "type": "scattergeo"
        },
        {
         "hoverinfo": "none",
         "lat": [
          -38.4161,
          -14.235,
          null
         ],
         "line": {
          "color": "rgba(0, 0, 0, 0.8)",
          "width": 0.04504504504504504
         },
         "locationmode": "ISO-3",
         "lon": [
          -63.6167,
          -51.9253,
          null
         ],
         "mode": "lines",
         "type": "scattergeo"
        },
        {
         "hoverinfo": "none",
         "lat": [
          -38.4161,
          46.6034,
          null
         ],
         "line": {
          "color": "rgba(0, 0, 0, 0.8)",
          "width": 0.04504504504504504
         },
         "locationmode": "ISO-3",
         "lon": [
          -63.6167,
          1.8883,
          null
         ],
         "mode": "lines",
         "type": "scattergeo"
        },
        {
         "hoverinfo": "none",
         "lat": [
          23.6345,
          55.3781,
          null
         ],
         "line": {
          "color": "rgba(0, 0, 255, 0.033783783783783786)",
          "width": 0.033783783783783786
         },
         "locationmode": "ISO-3",
         "lon": [
          -102.5528,
          -3.436,
          null
         ],
         "mode": "lines",
         "type": "scattergeo"
        },
        {
         "hoverinfo": "none",
         "lat": [
          23.6345,
          40.4637,
          null
         ],
         "line": {
          "color": "rgba(0, 0, 255, 0.09009009009009009)",
          "width": 0.09009009009009009
         },
         "locationmode": "ISO-3",
         "lon": [
          -102.5528,
          -3.7492,
          null
         ],
         "mode": "lines",
         "type": "scattergeo"
        },
        {
         "hoverinfo": "none",
         "lat": [
          40.0691,
          51.1657,
          null
         ],
         "line": {
          "color": "rgba(0, 0, 0, 0.8)",
          "width": 0.01126126126126126
         },
         "locationmode": "ISO-3",
         "lon": [
          45.0382,
          10.4515,
          null
         ],
         "mode": "lines",
         "type": "scattergeo"
        },
        {
         "hoverinfo": "none",
         "lat": [
          56.1304,
          51.1657,
          null
         ],
         "line": {
          "color": "rgba(0, 0, 255, 0.1126126126126126)",
          "width": 0.1126126126126126
         },
         "locationmode": "ISO-3",
         "lon": [
          -106.3468,
          10.4515,
          null
         ],
         "mode": "lines",
         "type": "scattergeo"
        },
        {
         "hoverinfo": "none",
         "lat": [
          40.0691,
          56.1304,
          null
         ],
         "line": {
          "color": "rgba(0, 0, 0, 0.8)",
          "width": 0.01126126126126126
         },
         "locationmode": "ISO-3",
         "lon": [
          45.0382,
          -106.3468,
          null
         ],
         "mode": "lines",
         "type": "scattergeo"
        },
        {
         "hoverinfo": "none",
         "lat": [
          28.0339,
          14.4974,
          null
         ],
         "line": {
          "color": "rgba(0, 0, 0, 0.8)",
          "width": 0.01126126126126126
         },
         "locationmode": "ISO-3",
         "lon": [
          1.6596,
          -14.4524,
          null
         ],
         "mode": "lines",
         "type": "scattergeo"
        },
        {
         "hoverinfo": "none",
         "lat": [
          14.4974,
          33.8869,
          null
         ],
         "line": {
          "color": "rgba(0, 0, 0, 0.8)",
          "width": 0.01126126126126126
         },
         "locationmode": "ISO-3",
         "lon": [
          -14.4524,
          9.5375,
          null
         ],
         "mode": "lines",
         "type": "scattergeo"
        },
        {
         "hoverinfo": "none",
         "lat": [
          28.0339,
          33.8869,
          null
         ],
         "line": {
          "color": "rgba(0, 0, 0, 0.8)",
          "width": 0.01126126126126126
         },
         "locationmode": "ISO-3",
         "lon": [
          1.6596,
          9.5375,
          null
         ],
         "mode": "lines",
         "type": "scattergeo"
        },
        {
         "hoverinfo": "none",
         "lat": [
          45.1,
          37.0902,
          null
         ],
         "line": {
          "color": "rgba(0, 0, 255, 0.1126126126126126)",
          "width": 0.1126126126126126
         },
         "locationmode": "ISO-3",
         "lon": [
          15.2,
          -95.7129,
          null
         ],
         "mode": "lines",
         "type": "scattergeo"
        },
        {
         "hoverinfo": "none",
         "lat": [
          51.1657,
          39.3999,
          null
         ],
         "line": {
          "color": "rgba(0, 0, 0, 0.8)",
          "width": 0.07882882882882883
         },
         "locationmode": "ISO-3",
         "lon": [
          10.4515,
          -8.2245,
          null
         ],
         "mode": "lines",
         "type": "scattergeo"
        },
        {
         "hoverinfo": "none",
         "lat": [
          44.0165,
          37.0902,
          null
         ],
         "line": {
          "color": "rgba(0, 0, 0, 0.8)",
          "width": 0.1126126126126126
         },
         "locationmode": "ISO-3",
         "lon": [
          21.0059,
          -95.7129,
          null
         ],
         "mode": "lines",
         "type": "scattergeo"
        },
        {
         "hoverinfo": "none",
         "lat": [
          15.87,
          37.0902,
          null
         ],
         "line": {
          "color": "rgba(0, 0, 0, 0.8)",
          "width": 0.02252252252252252
         },
         "locationmode": "ISO-3",
         "lon": [
          100.9925,
          -95.7129,
          null
         ],
         "mode": "lines",
         "type": "scattergeo"
        },
        {
         "hoverinfo": "none",
         "lat": [
          45.1,
          46.6034,
          null
         ],
         "line": {
          "color": "rgba(0, 0, 255, 0.06756756756756757)",
          "width": 0.06756756756756757
         },
         "locationmode": "ISO-3",
         "lon": [
          15.2,
          1.8883,
          null
         ],
         "mode": "lines",
         "type": "scattergeo"
        },
        {
         "hoverinfo": "none",
         "lat": [
          56.1304,
          49.8175,
          null
         ],
         "line": {
          "color": "rgba(0, 0, 0, 0.8)",
          "width": 0.01126126126126126
         },
         "locationmode": "ISO-3",
         "lon": [
          -106.3468,
          15.4729,
          null
         ],
         "mode": "lines",
         "type": "scattergeo"
        },
        {
         "hoverinfo": "none",
         "lat": [
          51.1657,
          60.472,
          null
         ],
         "line": {
          "color": "rgba(0, 0, 0, 0.8)",
          "width": 0.04504504504504504
         },
         "locationmode": "ISO-3",
         "lon": [
          10.4515,
          8.4689,
          null
         ],
         "mode": "lines",
         "type": "scattergeo"
        },
        {
         "hoverinfo": "none",
         "lat": [
          51.1657,
          64.9631,
          null
         ],
         "line": {
          "color": "rgba(0, 0, 0, 0.8)",
          "width": 0.02252252252252252
         },
         "locationmode": "ISO-3",
         "lon": [
          10.4515,
          -19.0208,
          null
         ],
         "mode": "lines",
         "type": "scattergeo"
        },
        {
         "hoverinfo": "none",
         "lat": [
          64.9631,
          60.472,
          null
         ],
         "line": {
          "color": "rgba(0, 0, 0, 0.8)",
          "width": 0.02252252252252252
         },
         "locationmode": "ISO-3",
         "lon": [
          -19.0208,
          8.4689,
          null
         ],
         "mode": "lines",
         "type": "scattergeo"
        },
        {
         "hoverinfo": "none",
         "lat": [
          40.4637,
          46.8182,
          null
         ],
         "line": {
          "color": "rgba(0, 0, 0, 0.8)",
          "width": 0.06756756756756757
         },
         "locationmode": "ISO-3",
         "lon": [
          -3.7492,
          8.2275,
          null
         ],
         "mode": "lines",
         "type": "scattergeo"
        },
        {
         "hoverinfo": "none",
         "lat": [
          4.5709,
          41.8719,
          null
         ],
         "line": {
          "color": "rgba(0, 0, 0, 0.8)",
          "width": 0.02252252252252252
         },
         "locationmode": "ISO-3",
         "lon": [
          -74.2973,
          12.5674,
          null
         ],
         "mode": "lines",
         "type": "scattergeo"
        },
        {
         "hoverinfo": "none",
         "lat": [
          4.5709,
          46.6034,
          null
         ],
         "line": {
          "color": "rgba(0, 0, 0, 0.8)",
          "width": 0.02252252252252252
         },
         "locationmode": "ISO-3",
         "lon": [
          -74.2973,
          1.8883,
          null
         ],
         "mode": "lines",
         "type": "scattergeo"
        },
        {
         "hoverinfo": "none",
         "lat": [
          22.3193,
          36.2048,
          null
         ],
         "line": {
          "color": "rgba(0, 0, 0, 0.8)",
          "width": 0.0563063063063063
         },
         "locationmode": "ISO-3",
         "lon": [
          114.1694,
          138.2529,
          null
         ],
         "mode": "lines",
         "type": "scattergeo"
        },
        {
         "hoverinfo": "none",
         "lat": [
          46.8182,
          37.0902,
          null
         ],
         "line": {
          "color": "rgba(0, 0, 0, 0.8)",
          "width": 0.10135135135135136
         },
         "locationmode": "ISO-3",
         "lon": [
          8.2275,
          -95.7129,
          null
         ],
         "mode": "lines",
         "type": "scattergeo"
        },
        {
         "hoverinfo": "none",
         "lat": [
          46.8182,
          55.3781,
          null
         ],
         "line": {
          "color": "rgba(0, 0, 0, 0.8)",
          "width": 0.12387387387387387
         },
         "locationmode": "ISO-3",
         "lon": [
          8.2275,
          -3.436,
          null
         ],
         "mode": "lines",
         "type": "scattergeo"
        },
        {
         "hoverinfo": "none",
         "lat": [
          12.8797,
          1.3521,
          null
         ],
         "line": {
          "color": "rgba(0, 0, 0, 0.8)",
          "width": 0.01126126126126126
         },
         "locationmode": "ISO-3",
         "lon": [
          121.774,
          103.8198,
          null
         ],
         "mode": "lines",
         "type": "scattergeo"
        },
        {
         "hoverinfo": "none",
         "lat": [
          51.1657,
          7.9465,
          null
         ],
         "line": {
          "color": "rgba(0, 0, 0, 0.8)",
          "width": 0.02252252252252252
         },
         "locationmode": "ISO-3",
         "lon": [
          10.4515,
          -1.0232,
          null
         ],
         "mode": "lines",
         "type": "scattergeo"
        },
        {
         "hoverinfo": "none",
         "lat": [
          31.7917,
          60.1282,
          null
         ],
         "line": {
          "color": "rgba(0, 0, 0, 0.8)",
          "width": 0.01126126126126126
         },
         "locationmode": "ISO-3",
         "lon": [
          -7.0926,
          18.6435,
          null
         ],
         "mode": "lines",
         "type": "scattergeo"
        },
        {
         "hoverinfo": "none",
         "lat": [
          47.5162,
          44.0165,
          null
         ],
         "line": {
          "color": "rgba(0, 0, 0, 0.8)",
          "width": 0.01126126126126126
         },
         "locationmode": "ISO-3",
         "lon": [
          14.5501,
          21.0059,
          null
         ],
         "mode": "lines",
         "type": "scattergeo"
        },
        {
         "hoverinfo": "none",
         "lat": [
          47.5162,
          47.1625,
          null
         ],
         "line": {
          "color": "rgba(0, 0, 0, 0.8)",
          "width": 0.04504504504504504
         },
         "locationmode": "ISO-3",
         "lon": [
          14.5501,
          19.5033,
          null
         ],
         "mode": "lines",
         "type": "scattergeo"
        },
        {
         "hoverinfo": "none",
         "lat": [
          47.1625,
          44.0165,
          null
         ],
         "line": {
          "color": "rgba(255, 0, 0, 0.033783783783783786)",
          "width": 0.033783783783783786
         },
         "locationmode": "ISO-3",
         "lon": [
          19.5033,
          21.0059,
          null
         ],
         "mode": "lines",
         "type": "scattergeo"
        },
        {
         "hoverinfo": "none",
         "lat": [
          51.1657,
          44.0165,
          null
         ],
         "line": {
          "color": "rgba(0, 0, 0, 0.8)",
          "width": 0.10135135135135136
         },
         "locationmode": "ISO-3",
         "lon": [
          10.4515,
          21.0059,
          null
         ],
         "mode": "lines",
         "type": "scattergeo"
        },
        {
         "hoverinfo": "none",
         "lat": [
          51.1657,
          47.1625,
          null
         ],
         "line": {
          "color": "rgba(0, 0, 0, 0.8)",
          "width": 0.1126126126126126
         },
         "locationmode": "ISO-3",
         "lon": [
          10.4515,
          19.5033,
          null
         ],
         "mode": "lines",
         "type": "scattergeo"
        },
        {
         "hoverinfo": "none",
         "lat": [
          41.8719,
          46.8182,
          null
         ],
         "line": {
          "color": "rgba(0, 0, 0, 0.8)",
          "width": 0.09009009009009009
         },
         "locationmode": "ISO-3",
         "lon": [
          12.5674,
          8.2275,
          null
         ],
         "mode": "lines",
         "type": "scattergeo"
        },
        {
         "hoverinfo": "none",
         "lat": [
          51.1657,
          47.166,
          null
         ],
         "line": {
          "color": "rgba(0, 0, 0, 0.8)",
          "width": 0.0563063063063063
         },
         "locationmode": "ISO-3",
         "lon": [
          10.4515,
          9.5554,
          null
         ],
         "mode": "lines",
         "type": "scattergeo"
        },
        {
         "hoverinfo": "none",
         "lat": [
          47.166,
          40.4637,
          null
         ],
         "line": {
          "color": "rgba(0, 0, 0, 0.8)",
          "width": 0.0563063063063063
         },
         "locationmode": "ISO-3",
         "lon": [
          9.5554,
          -3.7492,
          null
         ],
         "mode": "lines",
         "type": "scattergeo"
        },
        {
         "hoverinfo": "none",
         "lat": [
          31.0461,
          55.3781,
          null
         ],
         "line": {
          "color": "rgba(0, 0, 0, 0.8)",
          "width": 0.01126126126126126
         },
         "locationmode": "ISO-3",
         "lon": [
          34.8516,
          -3.436,
          null
         ],
         "mode": "lines",
         "type": "scattergeo"
        },
        {
         "hoverinfo": "none",
         "lat": [
          -9.1899,
          37.0902,
          null
         ],
         "line": {
          "color": "rgba(0, 0, 0, 0.8)",
          "width": 0.033783783783783786
         },
         "locationmode": "ISO-3",
         "lon": [
          -75.0152,
          -95.7129,
          null
         ],
         "mode": "lines",
         "type": "scattergeo"
        },
        {
         "hoverinfo": "none",
         "lat": [
          56.1304,
          36.2048,
          null
         ],
         "line": {
          "color": "rgba(0, 0, 0, 0.8)",
          "width": 0.02252252252252252
         },
         "locationmode": "ISO-3",
         "lon": [
          -106.3468,
          138.2529,
          null
         ],
         "mode": "lines",
         "type": "scattergeo"
        },
        {
         "hoverinfo": "none",
         "lat": [
          46.6034,
          36.2048,
          null
         ],
         "line": {
          "color": "rgba(0, 0, 0, 0.8)",
          "width": 0.1463963963963964
         },
         "locationmode": "ISO-3",
         "lon": [
          1.8883,
          138.2529,
          null
         ],
         "mode": "lines",
         "type": "scattergeo"
        },
        {
         "hoverinfo": "none",
         "lat": [
          49.8175,
          51.9194,
          null
         ],
         "line": {
          "color": "rgba(255, 0, 0, 0.04504504504504504)",
          "width": 0.04504504504504504
         },
         "locationmode": "ISO-3",
         "lon": [
          15.4729,
          19.1451,
          null
         ],
         "mode": "lines",
         "type": "scattergeo"
        },
        {
         "hoverinfo": "none",
         "lat": [
          22.3193,
          14.0583,
          null
         ],
         "line": {
          "color": "rgba(0, 0, 0, 0.8)",
          "width": 0.01126126126126126
         },
         "locationmode": "ISO-3",
         "lon": [
          114.1694,
          108.2772,
          null
         ],
         "mode": "lines",
         "type": "scattergeo"
        },
        {
         "hoverinfo": "none",
         "lat": [
          46.6034,
          14.0583,
          null
         ],
         "line": {
          "color": "rgba(0, 0, 0, 0.8)",
          "width": 0.033783783783783786
         },
         "locationmode": "ISO-3",
         "lon": [
          1.8883,
          108.2772,
          null
         ],
         "mode": "lines",
         "type": "scattergeo"
        },
        {
         "hoverinfo": "none",
         "lat": [
          46.6034,
          22.3193,
          null
         ],
         "line": {
          "color": "rgba(0, 0, 0, 0.8)",
          "width": 0.04504504504504504
         },
         "locationmode": "ISO-3",
         "lon": [
          1.8883,
          114.1694,
          null
         ],
         "mode": "lines",
         "type": "scattergeo"
        },
        {
         "hoverinfo": "none",
         "lat": [
          60.1282,
          37.0902,
          null
         ],
         "line": {
          "color": "rgba(0, 0, 0, 0.8)",
          "width": 0.09009009009009009
         },
         "locationmode": "ISO-3",
         "lon": [
          18.6435,
          -95.7129,
          null
         ],
         "mode": "lines",
         "type": "scattergeo"
        },
        {
         "hoverinfo": "none",
         "lat": [
          56.2639,
          37.0902,
          null
         ],
         "line": {
          "color": "rgba(0, 0, 0, 0.8)",
          "width": 0.07882882882882883
         },
         "locationmode": "ISO-3",
         "lon": [
          9.5018,
          -95.7129,
          null
         ],
         "mode": "lines",
         "type": "scattergeo"
        },
        {
         "hoverinfo": "none",
         "lat": [
          22.3193,
          35.9078,
          null
         ],
         "line": {
          "color": "rgba(0, 0, 0, 0.8)",
          "width": 0.04504504504504504
         },
         "locationmode": "ISO-3",
         "lon": [
          114.1694,
          127.7669,
          null
         ],
         "mode": "lines",
         "type": "scattergeo"
        },
        {
         "hoverinfo": "none",
         "lat": [
          47.166,
          46.8182,
          null
         ],
         "line": {
          "color": "rgba(0, 0, 0, 0.8)",
          "width": 0.02252252252252252
         },
         "locationmode": "ISO-3",
         "lon": [
          9.5554,
          8.2275,
          null
         ],
         "mode": "lines",
         "type": "scattergeo"
        },
        {
         "hoverinfo": "none",
         "lat": [
          51.1657,
          51.9194,
          null
         ],
         "line": {
          "color": "rgba(0, 0, 0, 0.8)",
          "width": 0.09009009009009009
         },
         "locationmode": "ISO-3",
         "lon": [
          10.4515,
          19.1451,
          null
         ],
         "mode": "lines",
         "type": "scattergeo"
        },
        {
         "hoverinfo": "none",
         "lat": [
          61.524,
          37.0902,
          null
         ],
         "line": {
          "color": "rgba(0, 0, 0, 0.8)",
          "width": 0.07882882882882883
         },
         "locationmode": "ISO-3",
         "lon": [
          105.3188,
          -95.7129,
          null
         ],
         "mode": "lines",
         "type": "scattergeo"
        },
        {
         "hoverinfo": "none",
         "lat": [
          41.8719,
          61.524,
          null
         ],
         "line": {
          "color": "rgba(0, 0, 0, 0.8)",
          "width": 0.1126126126126126
         },
         "locationmode": "ISO-3",
         "lon": [
          12.5674,
          105.3188,
          null
         ],
         "mode": "lines",
         "type": "scattergeo"
        },
        {
         "hoverinfo": "none",
         "lat": [
          58.5953,
          37.0902,
          null
         ],
         "line": {
          "color": "rgba(0, 0, 0, 0.8)",
          "width": 0.01126126126126126
         },
         "locationmode": "ISO-3",
         "lon": [
          25.0136,
          -95.7129,
          null
         ],
         "mode": "lines",
         "type": "scattergeo"
        },
        {
         "hoverinfo": "none",
         "lat": [
          61.9241,
          37.0902,
          null
         ],
         "line": {
          "color": "rgba(0, 0, 0, 0.8)",
          "width": 0.02252252252252252
         },
         "locationmode": "ISO-3",
         "lon": [
          25.7482,
          -95.7129,
          null
         ],
         "mode": "lines",
         "type": "scattergeo"
        },
        {
         "hoverinfo": "none",
         "lat": [
          58.5953,
          60.1282,
          null
         ],
         "line": {
          "color": "rgba(0, 0, 0, 0.8)",
          "width": 0.01126126126126126
         },
         "locationmode": "ISO-3",
         "lon": [
          25.0136,
          18.6435,
          null
         ],
         "mode": "lines",
         "type": "scattergeo"
        },
        {
         "hoverinfo": "none",
         "lat": [
          58.5953,
          61.9241,
          null
         ],
         "line": {
          "color": "rgba(0, 0, 0, 0.8)",
          "width": 0.01126126126126126
         },
         "locationmode": "ISO-3",
         "lon": [
          25.0136,
          25.7482,
          null
         ],
         "mode": "lines",
         "type": "scattergeo"
        },
        {
         "hoverinfo": "none",
         "lat": [
          50.5039,
          51.1657,
          null
         ],
         "line": {
          "color": "rgba(0, 0, 255, 0.1126126126126126)",
          "width": 0.1126126126126126
         },
         "locationmode": "ISO-3",
         "lon": [
          4.4699,
          10.4515,
          null
         ],
         "mode": "lines",
         "type": "scattergeo"
        },
        {
         "hoverinfo": "none",
         "lat": [
          26.8206,
          37.0902,
          null
         ],
         "line": {
          "color": "rgba(0, 0, 0, 0.8)",
          "width": 0.01126126126126126
         },
         "locationmode": "ISO-3",
         "lon": [
          30.8025,
          -95.7129,
          null
         ],
         "mode": "lines",
         "type": "scattergeo"
        },
        {
         "hoverinfo": "none",
         "lat": [
          -40.9006,
          37.0902,
          null
         ],
         "line": {
          "color": "rgba(0, 0, 0, 0.8)",
          "width": 0.07882882882882883
         },
         "locationmode": "ISO-3",
         "lon": [
          174.886,
          -95.7129,
          null
         ],
         "mode": "lines",
         "type": "scattergeo"
        },
        {
         "hoverinfo": "none",
         "lat": [
          39.0742,
          41.8719,
          null
         ],
         "line": {
          "color": "rgba(0, 0, 0, 0.8)",
          "width": 0.0563063063063063
         },
         "locationmode": "ISO-3",
         "lon": [
          21.8243,
          12.5674,
          null
         ],
         "mode": "lines",
         "type": "scattergeo"
        },
        {
         "hoverinfo": "none",
         "lat": [
          46.6034,
          23.6345,
          null
         ],
         "line": {
          "color": "rgba(0, 0, 255, 0.0563063063063063)",
          "width": 0.0563063063063063
         },
         "locationmode": "ISO-3",
         "lon": [
          1.8883,
          -102.5528,
          null
         ],
         "mode": "lines",
         "type": "scattergeo"
        },
        {
         "hoverinfo": "none",
         "lat": [
          36.2048,
          61.524,
          null
         ],
         "line": {
          "color": "rgba(0, 0, 0, 0.8)",
          "width": 0.033783783783783786
         },
         "locationmode": "ISO-3",
         "lon": [
          138.2529,
          105.3188,
          null
         ],
         "mode": "lines",
         "type": "scattergeo"
        },
        {
         "hoverinfo": "none",
         "lat": [
          -25.2744,
          46.6034,
          null
         ],
         "line": {
          "color": "rgba(0, 0, 255, 0.09009009009009009)",
          "width": 0.09009009009009009
         },
         "locationmode": "ISO-3",
         "lon": [
          133.7751,
          1.8883,
          null
         ],
         "mode": "lines",
         "type": "scattergeo"
        },
        {
         "hoverinfo": "none",
         "lat": [
          51.1657,
          52.1326,
          null
         ],
         "line": {
          "color": "rgba(0, 0, 0, 0.8)",
          "width": 0.1126126126126126
         },
         "locationmode": "ISO-3",
         "lon": [
          10.4515,
          5.2913,
          null
         ],
         "mode": "lines",
         "type": "scattergeo"
        },
        {
         "hoverinfo": "none",
         "lat": [
          53.7098,
          61.524,
          null
         ],
         "line": {
          "color": "rgba(0, 0, 0, 0.8)",
          "width": 0.06756756756756757
         },
         "locationmode": "ISO-3",
         "lon": [
          27.9534,
          105.3188,
          null
         ],
         "mode": "lines",
         "type": "scattergeo"
        },
        {
         "hoverinfo": "none",
         "lat": [
          43.9159,
          44.0165,
          null
         ],
         "line": {
          "color": "rgba(0, 0, 0, 0.8)",
          "width": 0.0563063063063063
         },
         "locationmode": "ISO-3",
         "lon": [
          17.6791,
          21.0059,
          null
         ],
         "mode": "lines",
         "type": "scattergeo"
        },
        {
         "hoverinfo": "none",
         "lat": [
          50.5039,
          52.1326,
          null
         ],
         "line": {
          "color": "rgba(0, 0, 0, 0.8)",
          "width": 0.10135135135135136
         },
         "locationmode": "ISO-3",
         "lon": [
          4.4699,
          5.2913,
          null
         ],
         "mode": "lines",
         "type": "scattergeo"
        },
        {
         "hoverinfo": "none",
         "lat": [
          -25.2744,
          23.6345,
          null
         ],
         "line": {
          "color": "rgba(0, 0, 255, 0.01126126126126126)",
          "width": 0.01126126126126126
         },
         "locationmode": "ISO-3",
         "lon": [
          133.7751,
          -102.5528,
          null
         ],
         "mode": "lines",
         "type": "scattergeo"
        },
        {
         "hoverinfo": "none",
         "lat": [
          41.8719,
          42.7087,
          null
         ],
         "line": {
          "color": "rgba(0, 0, 0, 0.8)",
          "width": 0.02252252252252252
         },
         "locationmode": "ISO-3",
         "lon": [
          12.5674,
          19.3744,
          null
         ],
         "mode": "lines",
         "type": "scattergeo"
        },
        {
         "hoverinfo": "none",
         "lat": [
          51.1657,
          41.6086,
          null
         ],
         "line": {
          "color": "rgba(0, 0, 0, 0.8)",
          "width": 0.01126126126126126
         },
         "locationmode": "ISO-3",
         "lon": [
          10.4515,
          21.7453,
          null
         ],
         "mode": "lines",
         "type": "scattergeo"
        },
        {
         "hoverinfo": "none",
         "lat": [
          41.8719,
          41.6086,
          null
         ],
         "line": {
          "color": "rgba(0, 0, 0, 0.8)",
          "width": 0.01126126126126126
         },
         "locationmode": "ISO-3",
         "lon": [
          12.5674,
          21.7453,
          null
         ],
         "mode": "lines",
         "type": "scattergeo"
        },
        {
         "hoverinfo": "none",
         "lat": [
          -22.9576,
          37.0902,
          null
         ],
         "line": {
          "color": "rgba(0, 0, 0, 0.8)",
          "width": 0.02252252252252252
         },
         "locationmode": "ISO-3",
         "lon": [
          18.4904,
          -95.7129,
          null
         ],
         "mode": "lines",
         "type": "scattergeo"
        },
        {
         "hoverinfo": "none",
         "lat": [
          -22.9576,
          55.3781,
          null
         ],
         "line": {
          "color": "rgba(0, 0, 0, 0.8)",
          "width": 0.01126126126126126
         },
         "locationmode": "ISO-3",
         "lon": [
          18.4904,
          -3.436,
          null
         ],
         "mode": "lines",
         "type": "scattergeo"
        },
        {
         "hoverinfo": "none",
         "lat": [
          -22.9576,
          -30.5595,
          null
         ],
         "line": {
          "color": "rgba(0, 0, 0, 0.8)",
          "width": 0.033783783783783786
         },
         "locationmode": "ISO-3",
         "lon": [
          18.4904,
          22.9375,
          null
         ],
         "mode": "lines",
         "type": "scattergeo"
        },
        {
         "hoverinfo": "none",
         "lat": [
          51.9194,
          61.524,
          null
         ],
         "line": {
          "color": "rgba(255, 0, 0, 0.04504504504504504)",
          "width": 0.04504504504504504
         },
         "locationmode": "ISO-3",
         "lon": [
          19.1451,
          105.3188,
          null
         ],
         "mode": "lines",
         "type": "scattergeo"
        },
        {
         "hoverinfo": "none",
         "lat": [
          51.9194,
          48.3794,
          null
         ],
         "line": {
          "color": "rgba(0, 0, 0, 0.8)",
          "width": 0.02252252252252252
         },
         "locationmode": "ISO-3",
         "lon": [
          19.1451,
          31.1656,
          null
         ],
         "mode": "lines",
         "type": "scattergeo"
        },
        {
         "hoverinfo": "none",
         "lat": [
          56.1304,
          20.5937,
          null
         ],
         "line": {
          "color": "rgba(0, 0, 0, 0.8)",
          "width": 0.01126126126126126
         },
         "locationmode": "ISO-3",
         "lon": [
          -106.3468,
          78.9629,
          null
         ],
         "mode": "lines",
         "type": "scattergeo"
        },
        {
         "hoverinfo": "none",
         "lat": [
          23.6978,
          37.0902,
          null
         ],
         "line": {
          "color": "rgba(0, 0, 0, 0.8)",
          "width": 0.02252252252252252
         },
         "locationmode": "ISO-3",
         "lon": [
          120.9605,
          -95.7129,
          null
         ],
         "mode": "lines",
         "type": "scattergeo"
        },
        {
         "hoverinfo": "none",
         "lat": [
          47.1625,
          37.0902,
          null
         ],
         "line": {
          "color": "rgba(0, 0, 0, 0.8)",
          "width": 0.0563063063063063
         },
         "locationmode": "ISO-3",
         "lon": [
          19.5033,
          -95.7129,
          null
         ],
         "mode": "lines",
         "type": "scattergeo"
        },
        {
         "hoverinfo": "none",
         "lat": [
          47.1625,
          55.3781,
          null
         ],
         "line": {
          "color": "rgba(0, 0, 0, 0.8)",
          "width": 0.02252252252252252
         },
         "locationmode": "ISO-3",
         "lon": [
          19.5033,
          -3.436,
          null
         ],
         "mode": "lines",
         "type": "scattergeo"
        },
        {
         "hoverinfo": "none",
         "lat": [
          46.6034,
          47.1625,
          null
         ],
         "line": {
          "color": "rgba(0, 0, 0, 0.8)",
          "width": 0.0563063063063063
         },
         "locationmode": "ISO-3",
         "lon": [
          1.8883,
          19.5033,
          null
         ],
         "mode": "lines",
         "type": "scattergeo"
        },
        {
         "hoverinfo": "none",
         "lat": [
          60.472,
          60.1282,
          null
         ],
         "line": {
          "color": "rgba(0, 0, 0, 0.8)",
          "width": 0.19144144144144143
         },
         "locationmode": "ISO-3",
         "lon": [
          8.4689,
          18.6435,
          null
         ],
         "mode": "lines",
         "type": "scattergeo"
        },
        {
         "hoverinfo": "none",
         "lat": [
          39.0742,
          47.1625,
          null
         ],
         "line": {
          "color": "rgba(0, 0, 0, 0.8)",
          "width": 0.01126126126126126
         },
         "locationmode": "ISO-3",
         "lon": [
          21.8243,
          19.5033,
          null
         ],
         "mode": "lines",
         "type": "scattergeo"
        },
        {
         "hoverinfo": "none",
         "lat": [
          39.0742,
          40.4637,
          null
         ],
         "line": {
          "color": "rgba(0, 0, 0, 0.8)",
          "width": 0.01126126126126126
         },
         "locationmode": "ISO-3",
         "lon": [
          21.8243,
          -3.7492,
          null
         ],
         "mode": "lines",
         "type": "scattergeo"
        },
        {
         "hoverinfo": "none",
         "lat": [
          47.1625,
          40.4637,
          null
         ],
         "line": {
          "color": "rgba(0, 0, 0, 0.8)",
          "width": 0.01126126126126126
         },
         "locationmode": "ISO-3",
         "lon": [
          19.5033,
          -3.7492,
          null
         ],
         "mode": "lines",
         "type": "scattergeo"
        },
        {
         "hoverinfo": "none",
         "lat": [
          28.0339,
          46.6034,
          null
         ],
         "line": {
          "color": "rgba(0, 0, 0, 0.8)",
          "width": 0.04504504504504504
         },
         "locationmode": "ISO-3",
         "lon": [
          1.6596,
          1.8883,
          null
         ],
         "mode": "lines",
         "type": "scattergeo"
        },
        {
         "hoverinfo": "none",
         "lat": [
          46.6034,
          52.1326,
          null
         ],
         "line": {
          "color": "rgba(0, 0, 0, 0.8)",
          "width": 0.1463963963963964
         },
         "locationmode": "ISO-3",
         "lon": [
          1.8883,
          5.2913,
          null
         ],
         "mode": "lines",
         "type": "scattergeo"
        },
        {
         "hoverinfo": "none",
         "lat": [
          42.7339,
          40.4637,
          null
         ],
         "line": {
          "color": "rgba(0, 0, 0, 0.8)",
          "width": 0.033783783783783786
         },
         "locationmode": "ISO-3",
         "lon": [
          25.4858,
          -3.7492,
          null
         ],
         "mode": "lines",
         "type": "scattergeo"
        },
        {
         "hoverinfo": "none",
         "lat": [
          42.7339,
          46.6034,
          null
         ],
         "line": {
          "color": "rgba(0, 0, 0, 0.8)",
          "width": 0.033783783783783786
         },
         "locationmode": "ISO-3",
         "lon": [
          25.4858,
          1.8883,
          null
         ],
         "mode": "lines",
         "type": "scattergeo"
        },
        {
         "hoverinfo": "none",
         "lat": [
          52.1326,
          37.0902,
          null
         ],
         "line": {
          "color": "rgba(0, 0, 0, 0.8)",
          "width": 0.1126126126126126
         },
         "locationmode": "ISO-3",
         "lon": [
          5.2913,
          -95.7129,
          null
         ],
         "mode": "lines",
         "type": "scattergeo"
        },
        {
         "hoverinfo": "none",
         "lat": [
          60.1282,
          55.3781,
          null
         ],
         "line": {
          "color": "rgba(0, 0, 0, 0.8)",
          "width": 0.07882882882882883
         },
         "locationmode": "ISO-3",
         "lon": [
          18.6435,
          -3.436,
          null
         ],
         "mode": "lines",
         "type": "scattergeo"
        },
        {
         "hoverinfo": "none",
         "lat": [
          51.1657,
          23.6345,
          null
         ],
         "line": {
          "color": "rgba(0, 0, 255, 0.01126126126126126)",
          "width": 0.01126126126126126
         },
         "locationmode": "ISO-3",
         "lon": [
          10.4515,
          -102.5528,
          null
         ],
         "mode": "lines",
         "type": "scattergeo"
        },
        {
         "hoverinfo": "none",
         "lat": [
          55.3781,
          44.0165,
          null
         ],
         "line": {
          "color": "rgba(0, 0, 0, 0.8)",
          "width": 0.01126126126126126
         },
         "locationmode": "ISO-3",
         "lon": [
          -3.436,
          21.0059,
          null
         ],
         "mode": "lines",
         "type": "scattergeo"
        },
        {
         "hoverinfo": "none",
         "lat": [
          51.1657,
          39.0742,
          null
         ],
         "line": {
          "color": "rgba(0, 0, 0, 0.8)",
          "width": 0.033783783783783786
         },
         "locationmode": "ISO-3",
         "lon": [
          10.4515,
          21.8243,
          null
         ],
         "mode": "lines",
         "type": "scattergeo"
        },
        {
         "hoverinfo": "none",
         "lat": [
          40.4637,
          60.1282,
          null
         ],
         "line": {
          "color": "rgba(0, 0, 0, 0.8)",
          "width": 0.02252252252252252
         },
         "locationmode": "ISO-3",
         "lon": [
          -3.7492,
          18.6435,
          null
         ],
         "mode": "lines",
         "type": "scattergeo"
        },
        {
         "hoverinfo": "none",
         "lat": [
          56.2639,
          40.4637,
          null
         ],
         "line": {
          "color": "rgba(0, 0, 0, 0.8)",
          "width": 0.02252252252252252
         },
         "locationmode": "ISO-3",
         "lon": [
          9.5018,
          -3.7492,
          null
         ],
         "mode": "lines",
         "type": "scattergeo"
        },
        {
         "hoverinfo": "none",
         "lat": [
          56.2639,
          46.8182,
          null
         ],
         "line": {
          "color": "rgba(0, 0, 0, 0.8)",
          "width": 0.01126126126126126
         },
         "locationmode": "ISO-3",
         "lon": [
          9.5018,
          8.2275,
          null
         ],
         "mode": "lines",
         "type": "scattergeo"
        },
        {
         "hoverinfo": "none",
         "lat": [
          56.2639,
          51.1657,
          null
         ],
         "line": {
          "color": "rgba(0, 0, 0, 0.8)",
          "width": 0.06756756756756757
         },
         "locationmode": "ISO-3",
         "lon": [
          9.5018,
          10.4515,
          null
         ],
         "mode": "lines",
         "type": "scattergeo"
        },
        {
         "hoverinfo": "none",
         "lat": [
          51.1657,
          32.4279,
          null
         ],
         "line": {
          "color": "rgba(0, 0, 0, 0.8)",
          "width": 0.033783783783783786
         },
         "locationmode": "ISO-3",
         "lon": [
          10.4515,
          53.688,
          null
         ],
         "mode": "lines",
         "type": "scattergeo"
        },
        {
         "hoverinfo": "none",
         "lat": [
          46.6034,
          32.4279,
          null
         ],
         "line": {
          "color": "rgba(0, 0, 0, 0.8)",
          "width": 0.06756756756756757
         },
         "locationmode": "ISO-3",
         "lon": [
          1.8883,
          53.688,
          null
         ],
         "mode": "lines",
         "type": "scattergeo"
        },
        {
         "hoverinfo": "none",
         "lat": [
          41.8719,
          60.1282,
          null
         ],
         "line": {
          "color": "rgba(0, 0, 0, 0.8)",
          "width": 0.04504504504504504
         },
         "locationmode": "ISO-3",
         "lon": [
          12.5674,
          18.6435,
          null
         ],
         "mode": "lines",
         "type": "scattergeo"
        },
        {
         "hoverinfo": "none",
         "lat": [
          23.6345,
          52.1326,
          null
         ],
         "line": {
          "color": "rgba(0, 0, 0, 0.8)",
          "width": 0.01126126126126126
         },
         "locationmode": "ISO-3",
         "lon": [
          -102.5528,
          5.2913,
          null
         ],
         "mode": "lines",
         "type": "scattergeo"
        },
        {
         "hoverinfo": "none",
         "lat": [
          49.8175,
          46.6034,
          null
         ],
         "line": {
          "color": "rgba(0, 0, 0, 0.8)",
          "width": 0.0563063063063063
         },
         "locationmode": "ISO-3",
         "lon": [
          15.4729,
          1.8883,
          null
         ],
         "mode": "lines",
         "type": "scattergeo"
        },
        {
         "hoverinfo": "none",
         "lat": [
          52.1326,
          61.524,
          null
         ],
         "line": {
          "color": "rgba(0, 0, 0, 0.8)",
          "width": 0.02252252252252252
         },
         "locationmode": "ISO-3",
         "lon": [
          5.2913,
          105.3188,
          null
         ],
         "mode": "lines",
         "type": "scattergeo"
        },
        {
         "hoverinfo": "none",
         "lat": [
          41.8719,
          52.1326,
          null
         ],
         "line": {
          "color": "rgba(0, 0, 0, 0.8)",
          "width": 0.04504504504504504
         },
         "locationmode": "ISO-3",
         "lon": [
          12.5674,
          5.2913,
          null
         ],
         "mode": "lines",
         "type": "scattergeo"
        },
        {
         "hoverinfo": "none",
         "lat": [
          51.1657,
          61.524,
          null
         ],
         "line": {
          "color": "rgba(0, 0, 0, 0.8)",
          "width": 0.06756756756756757
         },
         "locationmode": "ISO-3",
         "lon": [
          10.4515,
          105.3188,
          null
         ],
         "mode": "lines",
         "type": "scattergeo"
        },
        {
         "hoverinfo": "none",
         "lat": [
          49.8175,
          55.3781,
          null
         ],
         "line": {
          "color": "rgba(0, 0, 0, 0.8)",
          "width": 0.033783783783783786
         },
         "locationmode": "ISO-3",
         "lon": [
          15.4729,
          -3.436,
          null
         ],
         "mode": "lines",
         "type": "scattergeo"
        },
        {
         "hoverinfo": "none",
         "lat": [
          -25.2744,
          61.524,
          null
         ],
         "line": {
          "color": "rgba(0, 0, 0, 0.8)",
          "width": 0.01126126126126126
         },
         "locationmode": "ISO-3",
         "lon": [
          133.7751,
          105.3188,
          null
         ],
         "mode": "lines",
         "type": "scattergeo"
        },
        {
         "hoverinfo": "none",
         "lat": [
          -25.2744,
          22.3193,
          null
         ],
         "line": {
          "color": "rgba(0, 0, 0, 0.8)",
          "width": 0.033783783783783786
         },
         "locationmode": "ISO-3",
         "lon": [
          133.7751,
          114.1694,
          null
         ],
         "mode": "lines",
         "type": "scattergeo"
        },
        {
         "hoverinfo": "none",
         "lat": [
          22.3193,
          61.524,
          null
         ],
         "line": {
          "color": "rgba(0, 0, 0, 0.8)",
          "width": 0.01126126126126126
         },
         "locationmode": "ISO-3",
         "lon": [
          114.1694,
          105.3188,
          null
         ],
         "mode": "lines",
         "type": "scattergeo"
        },
        {
         "hoverinfo": "none",
         "lat": [
          45.1,
          51.1657,
          null
         ],
         "line": {
          "color": "rgba(0, 0, 255, 0.1126126126126126)",
          "width": 0.1126126126126126
         },
         "locationmode": "ISO-3",
         "lon": [
          15.2,
          10.4515,
          null
         ],
         "mode": "lines",
         "type": "scattergeo"
        },
        {
         "hoverinfo": "none",
         "lat": [
          22.3193,
          41.8719,
          null
         ],
         "line": {
          "color": "rgba(0, 0, 0, 0.8)",
          "width": 0.033783783783783786
         },
         "locationmode": "ISO-3",
         "lon": [
          114.1694,
          12.5674,
          null
         ],
         "mode": "lines",
         "type": "scattergeo"
        },
        {
         "hoverinfo": "none",
         "lat": [
          52.1326,
          40.4637,
          null
         ],
         "line": {
          "color": "rgba(0, 0, 0, 0.8)",
          "width": 0.02252252252252252
         },
         "locationmode": "ISO-3",
         "lon": [
          5.2913,
          -3.7492,
          null
         ],
         "mode": "lines",
         "type": "scattergeo"
        },
        {
         "hoverinfo": "none",
         "lat": [
          51.1657,
          36.2048,
          null
         ],
         "line": {
          "color": "rgba(0, 0, 0, 0.8)",
          "width": 0.09009009009009009
         },
         "locationmode": "ISO-3",
         "lon": [
          10.4515,
          138.2529,
          null
         ],
         "mode": "lines",
         "type": "scattergeo"
        },
        {
         "hoverinfo": "none",
         "lat": [
          61.9241,
          61.524,
          null
         ],
         "line": {
          "color": "rgba(0, 0, 0, 0.8)",
          "width": 0.02252252252252252
         },
         "locationmode": "ISO-3",
         "lon": [
          25.7482,
          105.3188,
          null
         ],
         "mode": "lines",
         "type": "scattergeo"
        },
        {
         "hoverinfo": "none",
         "lat": [
          41.8719,
          51.9194,
          null
         ],
         "line": {
          "color": "rgba(0, 0, 0, 0.8)",
          "width": 0.01126126126126126
         },
         "locationmode": "ISO-3",
         "lon": [
          12.5674,
          19.1451,
          null
         ],
         "mode": "lines",
         "type": "scattergeo"
        },
        {
         "hoverinfo": "none",
         "lat": [
          50.5039,
          39.3999,
          null
         ],
         "line": {
          "color": "rgba(0, 0, 0, 0.8)",
          "width": 0.01126126126126126
         },
         "locationmode": "ISO-3",
         "lon": [
          4.4699,
          -8.2245,
          null
         ],
         "mode": "lines",
         "type": "scattergeo"
        },
        {
         "hoverinfo": "none",
         "lat": [
          49.8175,
          48.669,
          null
         ],
         "line": {
          "color": "rgba(0, 0, 0, 0.8)",
          "width": 0.09009009009009009
         },
         "locationmode": "ISO-3",
         "lon": [
          15.4729,
          19.699,
          null
         ],
         "mode": "lines",
         "type": "scattergeo"
        },
        {
         "hoverinfo": "none",
         "lat": [
          44.0165,
          55.3781,
          null
         ],
         "line": {
          "color": "rgba(0, 0, 0, 0.8)",
          "width": 0.02252252252252252
         },
         "locationmode": "ISO-3",
         "lon": [
          21.0059,
          -3.436,
          null
         ],
         "mode": "lines",
         "type": "scattergeo"
        },
        {
         "hoverinfo": "none",
         "lat": [
          41.8719,
          39.3999,
          null
         ],
         "line": {
          "color": "rgba(0, 0, 0, 0.8)",
          "width": 0.02252252252252252
         },
         "locationmode": "ISO-3",
         "lon": [
          12.5674,
          -8.2245,
          null
         ],
         "mode": "lines",
         "type": "scattergeo"
        },
        {
         "hoverinfo": "none",
         "lat": [
          56.2639,
          39.3999,
          null
         ],
         "line": {
          "color": "rgba(0, 0, 0, 0.8)",
          "width": 0.02252252252252252
         },
         "locationmode": "ISO-3",
         "lon": [
          9.5018,
          -8.2245,
          null
         ],
         "mode": "lines",
         "type": "scattergeo"
        },
        {
         "hoverinfo": "none",
         "lat": [
          56.2639,
          41.8719,
          null
         ],
         "line": {
          "color": "rgba(0, 0, 0, 0.8)",
          "width": 0.02252252252252252
         },
         "locationmode": "ISO-3",
         "lon": [
          9.5018,
          12.5674,
          null
         ],
         "mode": "lines",
         "type": "scattergeo"
        },
        {
         "hoverinfo": "none",
         "lat": [
          31.0461,
          41.8719,
          null
         ],
         "line": {
          "color": "rgba(0, 0, 0, 0.8)",
          "width": 0.02252252252252252
         },
         "locationmode": "ISO-3",
         "lon": [
          34.8516,
          12.5674,
          null
         ],
         "mode": "lines",
         "type": "scattergeo"
        },
        {
         "hoverinfo": "none",
         "lat": [
          47.1625,
          60.472,
          null
         ],
         "line": {
          "color": "rgba(0, 0, 0, 0.8)",
          "width": 0.01126126126126126
         },
         "locationmode": "ISO-3",
         "lon": [
          19.5033,
          8.4689,
          null
         ],
         "mode": "lines",
         "type": "scattergeo"
        },
        {
         "hoverinfo": "none",
         "lat": [
          47.1625,
          60.1282,
          null
         ],
         "line": {
          "color": "rgba(0, 0, 0, 0.8)",
          "width": 0.01126126126126126
         },
         "locationmode": "ISO-3",
         "lon": [
          19.5033,
          18.6435,
          null
         ],
         "mode": "lines",
         "type": "scattergeo"
        },
        {
         "hoverinfo": "none",
         "lat": [
          36.2048,
          23.6978,
          null
         ],
         "line": {
          "color": "rgba(0, 0, 0, 0.8)",
          "width": 0.01126126126126126
         },
         "locationmode": "ISO-3",
         "lon": [
          138.2529,
          120.9605,
          null
         ],
         "mode": "lines",
         "type": "scattergeo"
        },
        {
         "hoverinfo": "none",
         "lat": [
          21.5218,
          40.4637,
          null
         ],
         "line": {
          "color": "rgba(0, 0, 0, 0.8)",
          "width": 0.04504504504504504
         },
         "locationmode": "ISO-3",
         "lon": [
          -77.7812,
          -3.7492,
          null
         ],
         "mode": "lines",
         "type": "scattergeo"
        },
        {
         "hoverinfo": "none",
         "lat": [
          21.5218,
          51.1657,
          null
         ],
         "line": {
          "color": "rgba(0, 0, 0, 0.8)",
          "width": 0.033783783783783786
         },
         "locationmode": "ISO-3",
         "lon": [
          -77.7812,
          10.4515,
          null
         ],
         "mode": "lines",
         "type": "scattergeo"
        },
        {
         "hoverinfo": "none",
         "lat": [
          51.1657,
          14.4974,
          null
         ],
         "line": {
          "color": "rgba(0, 0, 0, 0.8)",
          "width": 0.01126126126126126
         },
         "locationmode": "ISO-3",
         "lon": [
          10.4515,
          -14.4524,
          null
         ],
         "mode": "lines",
         "type": "scattergeo"
        },
        {
         "hoverinfo": "none",
         "lat": [
          14.4974,
          37.0902,
          null
         ],
         "line": {
          "color": "rgba(0, 0, 0, 0.8)",
          "width": 0.01126126126126126
         },
         "locationmode": "ISO-3",
         "lon": [
          -14.4524,
          -95.7129,
          null
         ],
         "mode": "lines",
         "type": "scattergeo"
        },
        {
         "hoverinfo": "none",
         "lat": [
          56.2639,
          55.3781,
          null
         ],
         "line": {
          "color": "rgba(0, 0, 0, 0.8)",
          "width": 0.09009009009009009
         },
         "locationmode": "ISO-3",
         "lon": [
          9.5018,
          -3.436,
          null
         ],
         "mode": "lines",
         "type": "scattergeo"
        },
        {
         "hoverinfo": "none",
         "lat": [
          12.5211,
          37.0902,
          null
         ],
         "line": {
          "color": "rgba(0, 0, 0, 0.8)",
          "width": 0.01126126126126126
         },
         "locationmode": "ISO-3",
         "lon": [
          -69.9683,
          -95.7129,
          null
         ],
         "mode": "lines",
         "type": "scattergeo"
        },
        {
         "hoverinfo": "none",
         "lat": [
          12.5211,
          51.1657,
          null
         ],
         "line": {
          "color": "rgba(0, 0, 0, 0.8)",
          "width": 0.01126126126126126
         },
         "locationmode": "ISO-3",
         "lon": [
          -69.9683,
          10.4515,
          null
         ],
         "mode": "lines",
         "type": "scattergeo"
        },
        {
         "hoverinfo": "none",
         "lat": [
          46.6034,
          31.0461,
          null
         ],
         "line": {
          "color": "rgba(0, 0, 0, 0.8)",
          "width": 0.02252252252252252
         },
         "locationmode": "ISO-3",
         "lon": [
          1.8883,
          34.8516,
          null
         ],
         "mode": "lines",
         "type": "scattergeo"
        },
        {
         "hoverinfo": "none",
         "lat": [
          61.9241,
          46.8182,
          null
         ],
         "line": {
          "color": "rgba(0, 0, 0, 0.8)",
          "width": 0.01126126126126126
         },
         "locationmode": "ISO-3",
         "lon": [
          25.7482,
          8.2275,
          null
         ],
         "mode": "lines",
         "type": "scattergeo"
        },
        {
         "hoverinfo": "none",
         "lat": [
          61.9241,
          51.1657,
          null
         ],
         "line": {
          "color": "rgba(0, 0, 0, 0.8)",
          "width": 0.07882882882882883
         },
         "locationmode": "ISO-3",
         "lon": [
          25.7482,
          10.4515,
          null
         ],
         "mode": "lines",
         "type": "scattergeo"
        },
        {
         "hoverinfo": "none",
         "lat": [
          46.6034,
          30.5852,
          null
         ],
         "line": {
          "color": "rgba(0, 0, 0, 0.8)",
          "width": 0.01126126126126126
         },
         "locationmode": "ISO-3",
         "lon": [
          1.8883,
          36.2384,
          null
         ],
         "mode": "lines",
         "type": "scattergeo"
        },
        {
         "hoverinfo": "none",
         "lat": [
          36.2048,
          23.6345,
          null
         ],
         "line": {
          "color": "rgba(0, 0, 0, 0.8)",
          "width": 0.01126126126126126
         },
         "locationmode": "ISO-3",
         "lon": [
          138.2529,
          -102.5528,
          null
         ],
         "mode": "lines",
         "type": "scattergeo"
        },
        {
         "hoverinfo": "none",
         "lat": [
          31.7917,
          37.0902,
          null
         ],
         "line": {
          "color": "rgba(0, 0, 0, 0.8)",
          "width": 0.02252252252252252
         },
         "locationmode": "ISO-3",
         "lon": [
          -7.0926,
          -95.7129,
          null
         ],
         "mode": "lines",
         "type": "scattergeo"
        },
        {
         "hoverinfo": "none",
         "lat": [
          56.2639,
          60.472,
          null
         ],
         "line": {
          "color": "rgba(0, 0, 0, 0.8)",
          "width": 0.1126126126126126
         },
         "locationmode": "ISO-3",
         "lon": [
          9.5018,
          8.4689,
          null
         ],
         "mode": "lines",
         "type": "scattergeo"
        },
        {
         "hoverinfo": "none",
         "lat": [
          14.4974,
          46.8182,
          null
         ],
         "line": {
          "color": "rgba(0, 0, 0, 0.8)",
          "width": 0.01126126126126126
         },
         "locationmode": "ISO-3",
         "lon": [
          -14.4524,
          8.2275,
          null
         ],
         "mode": "lines",
         "type": "scattergeo"
        },
        {
         "hoverinfo": "none",
         "lat": [
          46.6034,
          49.8153,
          null
         ],
         "line": {
          "color": "rgba(0, 0, 0, 0.8)",
          "width": 0.0563063063063063
         },
         "locationmode": "ISO-3",
         "lon": [
          1.8883,
          6.1296,
          null
         ],
         "mode": "lines",
         "type": "scattergeo"
        },
        {
         "hoverinfo": "none",
         "lat": [
          49.8153,
          55.3781,
          null
         ],
         "line": {
          "color": "rgba(0, 0, 0, 0.8)",
          "width": 0.033783783783783786
         },
         "locationmode": "ISO-3",
         "lon": [
          6.1296,
          -3.436,
          null
         ],
         "mode": "lines",
         "type": "scattergeo"
        },
        {
         "hoverinfo": "none",
         "lat": [
          49.8153,
          46.8182,
          null
         ],
         "line": {
          "color": "rgba(0, 0, 0, 0.8)",
          "width": 0.01126126126126126
         },
         "locationmode": "ISO-3",
         "lon": [
          6.1296,
          8.2275,
          null
         ],
         "mode": "lines",
         "type": "scattergeo"
        },
        {
         "hoverinfo": "none",
         "lat": [
          51.1657,
          49.8153,
          null
         ],
         "line": {
          "color": "rgba(0, 0, 0, 0.8)",
          "width": 0.04504504504504504
         },
         "locationmode": "ISO-3",
         "lon": [
          10.4515,
          6.1296,
          null
         ],
         "mode": "lines",
         "type": "scattergeo"
        },
        {
         "hoverinfo": "none",
         "lat": [
          21.5218,
          61.524,
          null
         ],
         "line": {
          "color": "rgba(255, 0, 0, 0.01126126126126126)",
          "width": 0.01126126126126126
         },
         "locationmode": "ISO-3",
         "lon": [
          -77.7812,
          105.3188,
          null
         ],
         "mode": "lines",
         "type": "scattergeo"
        },
        {
         "hoverinfo": "none",
         "lat": [
          -38.4161,
          41.8719,
          null
         ],
         "line": {
          "color": "rgba(0, 0, 0, 0.8)",
          "width": 0.02252252252252252
         },
         "locationmode": "ISO-3",
         "lon": [
          -63.6167,
          12.5674,
          null
         ],
         "mode": "lines",
         "type": "scattergeo"
        },
        {
         "hoverinfo": "none",
         "lat": [
          61.9241,
          46.6034,
          null
         ],
         "line": {
          "color": "rgba(0, 0, 0, 0.8)",
          "width": 0.0563063063063063
         },
         "locationmode": "ISO-3",
         "lon": [
          25.7482,
          1.8883,
          null
         ],
         "mode": "lines",
         "type": "scattergeo"
        },
        {
         "hoverinfo": "none",
         "lat": [
          51.9194,
          39.3999,
          null
         ],
         "line": {
          "color": "rgba(0, 0, 0, 0.8)",
          "width": 0.01126126126126126
         },
         "locationmode": "ISO-3",
         "lon": [
          19.1451,
          -8.2245,
          null
         ],
         "mode": "lines",
         "type": "scattergeo"
        },
        {
         "hoverinfo": "none",
         "lat": [
          39.3999,
          55.3781,
          null
         ],
         "line": {
          "color": "rgba(0, 0, 0, 0.8)",
          "width": 0.02252252252252252
         },
         "locationmode": "ISO-3",
         "lon": [
          -8.2245,
          -3.436,
          null
         ],
         "mode": "lines",
         "type": "scattergeo"
        },
        {
         "hoverinfo": "none",
         "lat": [
          51.9194,
          55.3781,
          null
         ],
         "line": {
          "color": "rgba(0, 0, 0, 0.8)",
          "width": 0.04504504504504504
         },
         "locationmode": "ISO-3",
         "lon": [
          19.1451,
          -3.436,
          null
         ],
         "mode": "lines",
         "type": "scattergeo"
        },
        {
         "hoverinfo": "none",
         "lat": [
          18.2208,
          55.3781,
          null
         ],
         "line": {
          "color": "rgba(0, 0, 0, 0.8)",
          "width": 0.02252252252252252
         },
         "locationmode": "ISO-3",
         "lon": [
          -66.5901,
          -3.436,
          null
         ],
         "mode": "lines",
         "type": "scattergeo"
        },
        {
         "hoverinfo": "none",
         "lat": [
          36.2048,
          40.4637,
          null
         ],
         "line": {
          "color": "rgba(0, 0, 0, 0.8)",
          "width": 0.01126126126126126
         },
         "locationmode": "ISO-3",
         "lon": [
          138.2529,
          -3.7492,
          null
         ],
         "mode": "lines",
         "type": "scattergeo"
        },
        {
         "hoverinfo": "none",
         "lat": [
          41.8719,
          36.2048,
          null
         ],
         "line": {
          "color": "rgba(0, 0, 0, 0.8)",
          "width": 0.01126126126126126
         },
         "locationmode": "ISO-3",
         "lon": [
          12.5674,
          138.2529,
          null
         ],
         "mode": "lines",
         "type": "scattergeo"
        },
        {
         "hoverinfo": "none",
         "lat": [
          40.0691,
          61.524,
          null
         ],
         "line": {
          "color": "rgba(0, 0, 0, 0.8)",
          "width": 0.02252252252252252
         },
         "locationmode": "ISO-3",
         "lon": [
          45.0382,
          105.3188,
          null
         ],
         "mode": "lines",
         "type": "scattergeo"
        },
        {
         "hoverinfo": "none",
         "lat": [
          61.524,
          60.1282,
          null
         ],
         "line": {
          "color": "rgba(0, 0, 0, 0.8)",
          "width": 0.033783783783783786
         },
         "locationmode": "ISO-3",
         "lon": [
          105.3188,
          18.6435,
          null
         ],
         "mode": "lines",
         "type": "scattergeo"
        },
        {
         "hoverinfo": "none",
         "lat": [
          56.1304,
          52.1326,
          null
         ],
         "line": {
          "color": "rgba(0, 0, 0, 0.8)",
          "width": 0.02252252252252252
         },
         "locationmode": "ISO-3",
         "lon": [
          -106.3468,
          5.2913,
          null
         ],
         "mode": "lines",
         "type": "scattergeo"
        },
        {
         "hoverinfo": "none",
         "lat": [
          36.2048,
          15.87,
          null
         ],
         "line": {
          "color": "rgba(0, 0, 0, 0.8)",
          "width": 0.01126126126126126
         },
         "locationmode": "ISO-3",
         "lon": [
          138.2529,
          100.9925,
          null
         ],
         "mode": "lines",
         "type": "scattergeo"
        },
        {
         "hoverinfo": "none",
         "lat": [
          56.1304,
          31.0461,
          null
         ],
         "line": {
          "color": "rgba(0, 0, 0, 0.8)",
          "width": 0.01126126126126126
         },
         "locationmode": "ISO-3",
         "lon": [
          -106.3468,
          34.8516,
          null
         ],
         "mode": "lines",
         "type": "scattergeo"
        },
        {
         "hoverinfo": "none",
         "lat": [
          46.6034,
          44.0165,
          null
         ],
         "line": {
          "color": "rgba(0, 0, 0, 0.8)",
          "width": 0.07882882882882883
         },
         "locationmode": "ISO-3",
         "lon": [
          1.8883,
          21.0059,
          null
         ],
         "mode": "lines",
         "type": "scattergeo"
        },
        {
         "hoverinfo": "none",
         "lat": [
          51.1657,
          38.9637,
          null
         ],
         "line": {
          "color": "rgba(0, 0, 0, 0.8)",
          "width": 0.01126126126126126
         },
         "locationmode": "ISO-3",
         "lon": [
          10.4515,
          35.2433,
          null
         ],
         "mode": "lines",
         "type": "scattergeo"
        },
        {
         "hoverinfo": "none",
         "lat": [
          49.8175,
          51.1657,
          null
         ],
         "line": {
          "color": "rgba(0, 0, 0, 0.8)",
          "width": 0.09009009009009009
         },
         "locationmode": "ISO-3",
         "lon": [
          15.4729,
          10.4515,
          null
         ],
         "mode": "lines",
         "type": "scattergeo"
        },
        {
         "hoverinfo": "none",
         "lat": [
          -35.6751,
          23.6345,
          null
         ],
         "line": {
          "color": "rgba(0, 0, 0, 0.8)",
          "width": 0.02252252252252252
         },
         "locationmode": "ISO-3",
         "lon": [
          -71.543,
          -102.5528,
          null
         ],
         "mode": "lines",
         "type": "scattergeo"
        },
        {
         "hoverinfo": "none",
         "lat": [
          46.8182,
          38.9637,
          null
         ],
         "line": {
          "color": "rgba(0, 0, 0, 0.8)",
          "width": 0.02252252252252252
         },
         "locationmode": "ISO-3",
         "lon": [
          8.2275,
          35.2433,
          null
         ],
         "mode": "lines",
         "type": "scattergeo"
        },
        {
         "hoverinfo": "none",
         "lat": [
          38.9637,
          55.3781,
          null
         ],
         "line": {
          "color": "rgba(0, 0, 0, 0.8)",
          "width": 0.01126126126126126
         },
         "locationmode": "ISO-3",
         "lon": [
          35.2433,
          -3.436,
          null
         ],
         "mode": "lines",
         "type": "scattergeo"
        },
        {
         "hoverinfo": "none",
         "lat": [
          46.6034,
          38.9637,
          null
         ],
         "line": {
          "color": "rgba(0, 0, 0, 0.8)",
          "width": 0.02252252252252252
         },
         "locationmode": "ISO-3",
         "lon": [
          1.8883,
          35.2433,
          null
         ],
         "mode": "lines",
         "type": "scattergeo"
        },
        {
         "hoverinfo": "none",
         "lat": [
          35.8617,
          36.2048,
          null
         ],
         "line": {
          "color": "rgba(0, 0, 0, 0.8)",
          "width": 0.01126126126126126
         },
         "locationmode": "ISO-3",
         "lon": [
          104.1954,
          138.2529,
          null
         ],
         "mode": "lines",
         "type": "scattergeo"
        },
        {
         "hoverinfo": "none",
         "lat": [
          46.6034,
          42.7087,
          null
         ],
         "line": {
          "color": "rgba(0, 0, 0, 0.8)",
          "width": 0.01126126126126126
         },
         "locationmode": "ISO-3",
         "lon": [
          1.8883,
          19.3744,
          null
         ],
         "mode": "lines",
         "type": "scattergeo"
        },
        {
         "hoverinfo": "none",
         "lat": [
          -14.235,
          55.3781,
          null
         ],
         "line": {
          "color": "rgba(0, 0, 0, 0.8)",
          "width": 0.01126126126126126
         },
         "locationmode": "ISO-3",
         "lon": [
          -51.9253,
          -3.436,
          null
         ],
         "mode": "lines",
         "type": "scattergeo"
        },
        {
         "hoverinfo": "none",
         "lat": [
          53.1424,
          46.8182,
          null
         ],
         "line": {
          "color": "rgba(0, 0, 0, 0.8)",
          "width": 0.01126126126126126
         },
         "locationmode": "ISO-3",
         "lon": [
          -7.6921,
          8.2275,
          null
         ],
         "mode": "lines",
         "type": "scattergeo"
        },
        {
         "hoverinfo": "none",
         "lat": [
          26.8206,
          33.8869,
          null
         ],
         "line": {
          "color": "rgba(0, 0, 0, 0.8)",
          "width": 0.01126126126126126
         },
         "locationmode": "ISO-3",
         "lon": [
          30.8025,
          9.5375,
          null
         ],
         "mode": "lines",
         "type": "scattergeo"
        },
        {
         "hoverinfo": "none",
         "lat": [
          60.472,
          55.3781,
          null
         ],
         "line": {
          "color": "rgba(0, 0, 0, 0.8)",
          "width": 0.04504504504504504
         },
         "locationmode": "ISO-3",
         "lon": [
          8.4689,
          -3.436,
          null
         ],
         "mode": "lines",
         "type": "scattergeo"
        },
        {
         "hoverinfo": "none",
         "lat": [
          50.5039,
          55.3781,
          null
         ],
         "line": {
          "color": "rgba(0, 0, 255, 0.1126126126126126)",
          "width": 0.1126126126126126
         },
         "locationmode": "ISO-3",
         "lon": [
          4.4699,
          -3.436,
          null
         ],
         "mode": "lines",
         "type": "scattergeo"
        },
        {
         "hoverinfo": "none",
         "lat": [
          46.6034,
          39.0742,
          null
         ],
         "line": {
          "color": "rgba(0, 0, 0, 0.8)",
          "width": 0.0563063063063063
         },
         "locationmode": "ISO-3",
         "lon": [
          1.8883,
          21.8243,
          null
         ],
         "mode": "lines",
         "type": "scattergeo"
        },
        {
         "hoverinfo": "none",
         "lat": [
          51.1657,
          -22.9576,
          null
         ],
         "line": {
          "color": "rgba(0, 0, 0, 0.8)",
          "width": 0.01126126126126126
         },
         "locationmode": "ISO-3",
         "lon": [
          10.4515,
          18.4904,
          null
         ],
         "mode": "lines",
         "type": "scattergeo"
        },
        {
         "hoverinfo": "none",
         "lat": [
          51.9194,
          37.0902,
          null
         ],
         "line": {
          "color": "rgba(0, 0, 0, 0.8)",
          "width": 0.01126126126126126
         },
         "locationmode": "ISO-3",
         "lon": [
          19.1451,
          -95.7129,
          null
         ],
         "mode": "lines",
         "type": "scattergeo"
        },
        {
         "hoverinfo": "none",
         "lat": [
          49.8175,
          37.0902,
          null
         ],
         "line": {
          "color": "rgba(0, 0, 0, 0.8)",
          "width": 0.04504504504504504
         },
         "locationmode": "ISO-3",
         "lon": [
          15.4729,
          -95.7129,
          null
         ],
         "mode": "lines",
         "type": "scattergeo"
        },
        {
         "hoverinfo": "none",
         "lat": [
          50.5039,
          -0.228,
          null
         ],
         "line": {
          "color": "rgba(0, 0, 0, 0.8)",
          "width": 0.01126126126126126
         },
         "locationmode": "ISO-3",
         "lon": [
          4.4699,
          15.8277,
          null
         ],
         "mode": "lines",
         "type": "scattergeo"
        },
        {
         "hoverinfo": "none",
         "lat": [
          -0.228,
          46.6034,
          null
         ],
         "line": {
          "color": "rgba(0, 0, 0, 0.8)",
          "width": 0.01126126126126126
         },
         "locationmode": "ISO-3",
         "lon": [
          15.8277,
          1.8883,
          null
         ],
         "mode": "lines",
         "type": "scattergeo"
        },
        {
         "hoverinfo": "none",
         "lat": [
          35.8617,
          51.1657,
          null
         ],
         "line": {
          "color": "rgba(0, 0, 0, 0.8)",
          "width": 0.01126126126126126
         },
         "locationmode": "ISO-3",
         "lon": [
          104.1954,
          10.4515,
          null
         ],
         "mode": "lines",
         "type": "scattergeo"
        },
        {
         "hoverinfo": "none",
         "lat": [
          35.8617,
          55.3781,
          null
         ],
         "line": {
          "color": "rgba(0, 0, 0, 0.8)",
          "width": 0.02252252252252252
         },
         "locationmode": "ISO-3",
         "lon": [
          104.1954,
          -3.436,
          null
         ],
         "mode": "lines",
         "type": "scattergeo"
        },
        {
         "hoverinfo": "none",
         "lat": [
          26.3351,
          37.0902,
          null
         ],
         "line": {
          "color": "rgba(0, 0, 0, 0.8)",
          "width": 0.01126126126126126
         },
         "locationmode": "ISO-3",
         "lon": [
          17.2283,
          -95.7129,
          null
         ],
         "mode": "lines",
         "type": "scattergeo"
        },
        {
         "hoverinfo": "none",
         "lat": [
          -14.235,
          35.9078,
          null
         ],
         "line": {
          "color": "rgba(0, 0, 0, 0.8)",
          "width": 0.01126126126126126
         },
         "locationmode": "ISO-3",
         "lon": [
          -51.9253,
          127.7669,
          null
         ],
         "mode": "lines",
         "type": "scattergeo"
        },
        {
         "hoverinfo": "none",
         "lat": [
          -38.4161,
          35.9078,
          null
         ],
         "line": {
          "color": "rgba(0, 0, 0, 0.8)",
          "width": 0.01126126126126126
         },
         "locationmode": "ISO-3",
         "lon": [
          -63.6167,
          127.7669,
          null
         ],
         "mode": "lines",
         "type": "scattergeo"
        },
        {
         "hoverinfo": "none",
         "lat": [
          47.166,
          55.3781,
          null
         ],
         "line": {
          "color": "rgba(0, 0, 0, 0.8)",
          "width": 0.02252252252252252
         },
         "locationmode": "ISO-3",
         "lon": [
          9.5554,
          -3.436,
          null
         ],
         "mode": "lines",
         "type": "scattergeo"
        },
        {
         "hoverinfo": "none",
         "lat": [
          41.8719,
          46.1512,
          null
         ],
         "line": {
          "color": "rgba(0, 0, 0, 0.8)",
          "width": 0.01126126126126126
         },
         "locationmode": "ISO-3",
         "lon": [
          12.5674,
          14.9955,
          null
         ],
         "mode": "lines",
         "type": "scattergeo"
        },
        {
         "hoverinfo": "none",
         "lat": [
          46.6034,
          46.1512,
          null
         ],
         "line": {
          "color": "rgba(0, 0, 0, 0.8)",
          "width": 0.01126126126126126
         },
         "locationmode": "ISO-3",
         "lon": [
          1.8883,
          14.9955,
          null
         ],
         "mode": "lines",
         "type": "scattergeo"
        },
        {
         "hoverinfo": "none",
         "lat": [
          47.1625,
          46.8182,
          null
         ],
         "line": {
          "color": "rgba(0, 0, 0, 0.8)",
          "width": 0.033783783783783786
         },
         "locationmode": "ISO-3",
         "lon": [
          19.5033,
          8.2275,
          null
         ],
         "mode": "lines",
         "type": "scattergeo"
        },
        {
         "hoverinfo": "none",
         "lat": [
          56.1304,
          40.4637,
          null
         ],
         "line": {
          "color": "rgba(0, 0, 255, 0.01126126126126126)",
          "width": 0.01126126126126126
         },
         "locationmode": "ISO-3",
         "lon": [
          -106.3468,
          -3.7492,
          null
         ],
         "mode": "lines",
         "type": "scattergeo"
        },
        {
         "hoverinfo": "none",
         "lat": [
          45.9432,
          37.0902,
          null
         ],
         "line": {
          "color": "rgba(0, 0, 0, 0.8)",
          "width": 0.04504504504504504
         },
         "locationmode": "ISO-3",
         "lon": [
          24.9668,
          -95.7129,
          null
         ],
         "mode": "lines",
         "type": "scattergeo"
        },
        {
         "hoverinfo": "none",
         "lat": [
          -25.2744,
          51.1657,
          null
         ],
         "line": {
          "color": "rgba(0, 0, 255, 0.0563063063063063)",
          "width": 0.0563063063063063
         },
         "locationmode": "ISO-3",
         "lon": [
          133.7751,
          10.4515,
          null
         ],
         "mode": "lines",
         "type": "scattergeo"
        },
        {
         "hoverinfo": "none",
         "lat": [
          -25.2744,
          60.472,
          null
         ],
         "line": {
          "color": "rgba(0, 0, 0, 0.8)",
          "width": 0.01126126126126126
         },
         "locationmode": "ISO-3",
         "lon": [
          133.7751,
          8.4689,
          null
         ],
         "mode": "lines",
         "type": "scattergeo"
        },
        {
         "hoverinfo": "none",
         "lat": [
          -25.2744,
          61.9241,
          null
         ],
         "line": {
          "color": "rgba(0, 0, 0, 0.8)",
          "width": 0.01126126126126126
         },
         "locationmode": "ISO-3",
         "lon": [
          133.7751,
          25.7482,
          null
         ],
         "mode": "lines",
         "type": "scattergeo"
        },
        {
         "hoverinfo": "none",
         "lat": [
          56.1304,
          60.472,
          null
         ],
         "line": {
          "color": "rgba(0, 0, 0, 0.8)",
          "width": 0.01126126126126126
         },
         "locationmode": "ISO-3",
         "lon": [
          -106.3468,
          8.4689,
          null
         ],
         "mode": "lines",
         "type": "scattergeo"
        },
        {
         "hoverinfo": "none",
         "lat": [
          61.9241,
          60.472,
          null
         ],
         "line": {
          "color": "rgba(0, 0, 0, 0.8)",
          "width": 0.02252252252252252
         },
         "locationmode": "ISO-3",
         "lon": [
          25.7482,
          8.4689,
          null
         ],
         "mode": "lines",
         "type": "scattergeo"
        },
        {
         "hoverinfo": "none",
         "lat": [
          56.1304,
          61.9241,
          null
         ],
         "line": {
          "color": "rgba(0, 0, 0, 0.8)",
          "width": 0.02252252252252252
         },
         "locationmode": "ISO-3",
         "lon": [
          -106.3468,
          25.7482,
          null
         ],
         "mode": "lines",
         "type": "scattergeo"
        },
        {
         "hoverinfo": "none",
         "lat": [
          47.166,
          37.0902,
          null
         ],
         "line": {
          "color": "rgba(0, 0, 0, 0.8)",
          "width": 0.02252252252252252
         },
         "locationmode": "ISO-3",
         "lon": [
          9.5554,
          -95.7129,
          null
         ],
         "mode": "lines",
         "type": "scattergeo"
        },
        {
         "hoverinfo": "none",
         "lat": [
          45.1,
          55.3781,
          null
         ],
         "line": {
          "color": "rgba(0, 0, 255, 0.02252252252252252)",
          "width": 0.02252252252252252
         },
         "locationmode": "ISO-3",
         "lon": [
          15.2,
          -3.436,
          null
         ],
         "mode": "lines",
         "type": "scattergeo"
        },
        {
         "hoverinfo": "none",
         "lat": [
          -25.2744,
          36.2048,
          null
         ],
         "line": {
          "color": "rgba(0, 0, 0, 0.8)",
          "width": 0.033783783783783786
         },
         "locationmode": "ISO-3",
         "lon": [
          133.7751,
          138.2529,
          null
         ],
         "mode": "lines",
         "type": "scattergeo"
        },
        {
         "hoverinfo": "none",
         "lat": [
          36.2048,
          -40.9006,
          null
         ],
         "line": {
          "color": "rgba(0, 0, 0, 0.8)",
          "width": 0.01126126126126126
         },
         "locationmode": "ISO-3",
         "lon": [
          138.2529,
          174.886,
          null
         ],
         "mode": "lines",
         "type": "scattergeo"
        },
        {
         "hoverinfo": "none",
         "lat": [
          41.8719,
          45.9432,
          null
         ],
         "line": {
          "color": "rgba(0, 0, 0, 0.8)",
          "width": 0.02252252252252252
         },
         "locationmode": "ISO-3",
         "lon": [
          12.5674,
          24.9668,
          null
         ],
         "mode": "lines",
         "type": "scattergeo"
        },
        {
         "hoverinfo": "none",
         "lat": [
          60.472,
          61.524,
          null
         ],
         "line": {
          "color": "rgba(0, 0, 0, 0.8)",
          "width": 0.01126126126126126
         },
         "locationmode": "ISO-3",
         "lon": [
          8.4689,
          105.3188,
          null
         ],
         "mode": "lines",
         "type": "scattergeo"
        },
        {
         "hoverinfo": "none",
         "lat": [
          18.2208,
          37.0902,
          null
         ],
         "line": {
          "color": "rgba(0, 0, 0, 0.8)",
          "width": 0.02252252252252252
         },
         "locationmode": "ISO-3",
         "lon": [
          -66.5901,
          -95.7129,
          null
         ],
         "mode": "lines",
         "type": "scattergeo"
        },
        {
         "hoverinfo": "none",
         "lat": [
          18.2208,
          40.4637,
          null
         ],
         "line": {
          "color": "rgba(0, 0, 0, 0.8)",
          "width": 0.02252252252252252
         },
         "locationmode": "ISO-3",
         "lon": [
          -66.5901,
          -3.7492,
          null
         ],
         "mode": "lines",
         "type": "scattergeo"
        },
        {
         "hoverinfo": "none",
         "lat": [
          47.5162,
          56.1304,
          null
         ],
         "line": {
          "color": "rgba(0, 0, 0, 0.8)",
          "width": 0.01126126126126126
         },
         "locationmode": "ISO-3",
         "lon": [
          14.5501,
          -106.3468,
          null
         ],
         "mode": "lines",
         "type": "scattergeo"
        },
        {
         "hoverinfo": "none",
         "lat": [
          51.9194,
          48.669,
          null
         ],
         "line": {
          "color": "rgba(0, 0, 0, 0.8)",
          "width": 0.01126126126126126
         },
         "locationmode": "ISO-3",
         "lon": [
          19.1451,
          19.699,
          null
         ],
         "mode": "lines",
         "type": "scattergeo"
        },
        {
         "hoverinfo": "none",
         "lat": [
          56.1304,
          47.1625,
          null
         ],
         "line": {
          "color": "rgba(0, 0, 0, 0.8)",
          "width": 0.01126126126126126
         },
         "locationmode": "ISO-3",
         "lon": [
          -106.3468,
          19.5033,
          null
         ],
         "mode": "lines",
         "type": "scattergeo"
        },
        {
         "hoverinfo": "none",
         "lat": [
          61.524,
          55.3781,
          null
         ],
         "line": {
          "color": "rgba(0, 0, 0, 0.8)",
          "width": 0.02252252252252252
         },
         "locationmode": "ISO-3",
         "lon": [
          105.3188,
          -3.436,
          null
         ],
         "mode": "lines",
         "type": "scattergeo"
        },
        {
         "hoverinfo": "none",
         "lat": [
          21.5218,
          47.1625,
          null
         ],
         "line": {
          "color": "rgba(255, 0, 0, 0.01126126126126126)",
          "width": 0.01126126126126126
         },
         "locationmode": "ISO-3",
         "lon": [
          -77.7812,
          19.5033,
          null
         ],
         "mode": "lines",
         "type": "scattergeo"
        },
        {
         "hoverinfo": "none",
         "lat": [
          -25.2744,
          -0.7893,
          null
         ],
         "line": {
          "color": "rgba(0, 0, 0, 0.8)",
          "width": 0.01126126126126126
         },
         "locationmode": "ISO-3",
         "lon": [
          133.7751,
          113.9213,
          null
         ],
         "mode": "lines",
         "type": "scattergeo"
        },
        {
         "hoverinfo": "none",
         "lat": [
          39.0742,
          37.0902,
          null
         ],
         "line": {
          "color": "rgba(0, 0, 0, 0.8)",
          "width": 0.0563063063063063
         },
         "locationmode": "ISO-3",
         "lon": [
          21.8243,
          -95.7129,
          null
         ],
         "mode": "lines",
         "type": "scattergeo"
        },
        {
         "hoverinfo": "none",
         "lat": [
          61.9241,
          55.3781,
          null
         ],
         "line": {
          "color": "rgba(0, 0, 0, 0.8)",
          "width": 0.02252252252252252
         },
         "locationmode": "ISO-3",
         "lon": [
          25.7482,
          -3.436,
          null
         ],
         "mode": "lines",
         "type": "scattergeo"
        },
        {
         "hoverinfo": "none",
         "lat": [
          20.5937,
          41.3775,
          null
         ],
         "line": {
          "color": "rgba(0, 0, 0, 0.8)",
          "width": 0.02252252252252252
         },
         "locationmode": "ISO-3",
         "lon": [
          78.9629,
          64.5853,
          null
         ],
         "mode": "lines",
         "type": "scattergeo"
        },
        {
         "hoverinfo": "none",
         "lat": [
          20.5937,
          40.4637,
          null
         ],
         "line": {
          "color": "rgba(0, 0, 0, 0.8)",
          "width": 0.01126126126126126
         },
         "locationmode": "ISO-3",
         "lon": [
          78.9629,
          -3.7492,
          null
         ],
         "mode": "lines",
         "type": "scattergeo"
        },
        {
         "hoverinfo": "none",
         "lat": [
          41.8719,
          31.7917,
          null
         ],
         "line": {
          "color": "rgba(0, 0, 0, 0.8)",
          "width": 0.02252252252252252
         },
         "locationmode": "ISO-3",
         "lon": [
          12.5674,
          -7.0926,
          null
         ],
         "mode": "lines",
         "type": "scattergeo"
        },
        {
         "hoverinfo": "none",
         "lat": [
          41.8719,
          44.0165,
          null
         ],
         "line": {
          "color": "rgba(0, 0, 0, 0.8)",
          "width": 0.07882882882882883
         },
         "locationmode": "ISO-3",
         "lon": [
          12.5674,
          21.0059,
          null
         ],
         "mode": "lines",
         "type": "scattergeo"
        },
        {
         "hoverinfo": "none",
         "lat": [
          50.5039,
          37.0902,
          null
         ],
         "line": {
          "color": "rgba(0, 0, 255, 0.04504504504504504)",
          "width": 0.04504504504504504
         },
         "locationmode": "ISO-3",
         "lon": [
          4.4699,
          -95.7129,
          null
         ],
         "mode": "lines",
         "type": "scattergeo"
        },
        {
         "hoverinfo": "none",
         "lat": [
          50.5039,
          49.8175,
          null
         ],
         "line": {
          "color": "rgba(0, 0, 0, 0.8)",
          "width": 0.01126126126126126
         },
         "locationmode": "ISO-3",
         "lon": [
          4.4699,
          15.4729,
          null
         ],
         "mode": "lines",
         "type": "scattergeo"
        },
        {
         "hoverinfo": "none",
         "lat": [
          4.5709,
          37.0902,
          null
         ],
         "line": {
          "color": "rgba(0, 0, 0, 0.8)",
          "width": 0.01126126126126126
         },
         "locationmode": "ISO-3",
         "lon": [
          -74.2973,
          -95.7129,
          null
         ],
         "mode": "lines",
         "type": "scattergeo"
        },
        {
         "hoverinfo": "none",
         "lat": [
          4.5709,
          40.4637,
          null
         ],
         "line": {
          "color": "rgba(0, 0, 0, 0.8)",
          "width": 0.01126126126126126
         },
         "locationmode": "ISO-3",
         "lon": [
          -74.2973,
          -3.7492,
          null
         ],
         "mode": "lines",
         "type": "scattergeo"
        },
        {
         "hoverinfo": "none",
         "lat": [
          28.0339,
          50.5039,
          null
         ],
         "line": {
          "color": "rgba(0, 0, 0, 0.8)",
          "width": 0.01126126126126126
         },
         "locationmode": "ISO-3",
         "lon": [
          1.6596,
          4.4699,
          null
         ],
         "mode": "lines",
         "type": "scattergeo"
        },
        {
         "hoverinfo": "none",
         "lat": [
          22.3193,
          1.3521,
          null
         ],
         "line": {
          "color": "rgba(0, 0, 0, 0.8)",
          "width": 0.01126126126126126
         },
         "locationmode": "ISO-3",
         "lon": [
          114.1694,
          103.8198,
          null
         ],
         "mode": "lines",
         "type": "scattergeo"
        },
        {
         "hoverinfo": "none",
         "lat": [
          35.8617,
          1.3521,
          null
         ],
         "line": {
          "color": "rgba(0, 0, 0, 0.8)",
          "width": 0.01126126126126126
         },
         "locationmode": "ISO-3",
         "lon": [
          104.1954,
          103.8198,
          null
         ],
         "mode": "lines",
         "type": "scattergeo"
        },
        {
         "hoverinfo": "none",
         "lat": [
          56.1304,
          46.8182,
          null
         ],
         "line": {
          "color": "rgba(0, 0, 0, 0.8)",
          "width": 0.01126126126126126
         },
         "locationmode": "ISO-3",
         "lon": [
          -106.3468,
          8.2275,
          null
         ],
         "mode": "lines",
         "type": "scattergeo"
        },
        {
         "hoverinfo": "none",
         "lat": [
          41.8719,
          18.2208,
          null
         ],
         "line": {
          "color": "rgba(0, 0, 0, 0.8)",
          "width": 0.01126126126126126
         },
         "locationmode": "ISO-3",
         "lon": [
          12.5674,
          -66.5901,
          null
         ],
         "mode": "lines",
         "type": "scattergeo"
        },
        {
         "hoverinfo": "none",
         "lat": [
          58.5953,
          51.9194,
          null
         ],
         "line": {
          "color": "rgba(255, 0, 0, 0.01126126126126126)",
          "width": 0.01126126126126126
         },
         "locationmode": "ISO-3",
         "lon": [
          25.0136,
          19.1451,
          null
         ],
         "mode": "lines",
         "type": "scattergeo"
        },
        {
         "hoverinfo": "none",
         "lat": [
          58.5953,
          61.524,
          null
         ],
         "line": {
          "color": "rgba(255, 0, 0, 0.01126126126126126)",
          "width": 0.01126126126126126
         },
         "locationmode": "ISO-3",
         "lon": [
          25.0136,
          105.3188,
          null
         ],
         "mode": "lines",
         "type": "scattergeo"
        },
        {
         "hoverinfo": "none",
         "lat": [
          58.5953,
          48.3794,
          null
         ],
         "line": {
          "color": "rgba(0, 0, 0, 0.8)",
          "width": 0.01126126126126126
         },
         "locationmode": "ISO-3",
         "lon": [
          25.0136,
          31.1656,
          null
         ],
         "mode": "lines",
         "type": "scattergeo"
        },
        {
         "hoverinfo": "none",
         "lat": [
          41.8719,
          6.4238,
          null
         ],
         "line": {
          "color": "rgba(0, 0, 0, 0.8)",
          "width": 0.02252252252252252
         },
         "locationmode": "ISO-3",
         "lon": [
          12.5674,
          -66.5897,
          null
         ],
         "mode": "lines",
         "type": "scattergeo"
        },
        {
         "hoverinfo": "none",
         "lat": [
          36.2048,
          35.9078,
          null
         ],
         "line": {
          "color": "rgba(0, 0, 0, 0.8)",
          "width": 0.02252252252252252
         },
         "locationmode": "ISO-3",
         "lon": [
          138.2529,
          127.7669,
          null
         ],
         "mode": "lines",
         "type": "scattergeo"
        },
        {
         "hoverinfo": "none",
         "lat": [
          35.8617,
          23.6978,
          null
         ],
         "line": {
          "color": "rgba(0, 0, 0, 0.8)",
          "width": 0.033783783783783786
         },
         "locationmode": "ISO-3",
         "lon": [
          104.1954,
          120.9605,
          null
         ],
         "mode": "lines",
         "type": "scattergeo"
        },
        {
         "hoverinfo": "none",
         "lat": [
          22.3193,
          12.8797,
          null
         ],
         "line": {
          "color": "rgba(0, 0, 0, 0.8)",
          "width": 0.02252252252252252
         },
         "locationmode": "ISO-3",
         "lon": [
          114.1694,
          121.774,
          null
         ],
         "mode": "lines",
         "type": "scattergeo"
        },
        {
         "hoverinfo": "none",
         "lat": [
          56.2639,
          52.1326,
          null
         ],
         "line": {
          "color": "rgba(0, 0, 0, 0.8)",
          "width": 0.02252252252252252
         },
         "locationmode": "ISO-3",
         "lon": [
          9.5018,
          5.2913,
          null
         ],
         "mode": "lines",
         "type": "scattergeo"
        },
        {
         "hoverinfo": "none",
         "lat": [
          46.6034,
          21.0079,
          null
         ],
         "line": {
          "color": "rgba(0, 0, 0, 0.8)",
          "width": 0.04504504504504504
         },
         "locationmode": "ISO-3",
         "lon": [
          1.8883,
          -10.9408,
          null
         ],
         "mode": "lines",
         "type": "scattergeo"
        },
        {
         "hoverinfo": "none",
         "lat": [
          46.6034,
          20.5937,
          null
         ],
         "line": {
          "color": "rgba(0, 0, 0, 0.8)",
          "width": 0.033783783783783786
         },
         "locationmode": "ISO-3",
         "lon": [
          1.8883,
          78.9629,
          null
         ],
         "mode": "lines",
         "type": "scattergeo"
        },
        {
         "hoverinfo": "none",
         "lat": [
          7.9465,
          55.3781,
          null
         ],
         "line": {
          "color": "rgba(0, 0, 0, 0.8)",
          "width": 0.01126126126126126
         },
         "locationmode": "ISO-3",
         "lon": [
          -1.0232,
          -3.436,
          null
         ],
         "mode": "lines",
         "type": "scattergeo"
        },
        {
         "hoverinfo": "none",
         "lat": [
          7.9465,
          37.0902,
          null
         ],
         "line": {
          "color": "rgba(0, 0, 0, 0.8)",
          "width": 0.01126126126126126
         },
         "locationmode": "ISO-3",
         "lon": [
          -1.0232,
          -95.7129,
          null
         ],
         "mode": "lines",
         "type": "scattergeo"
        },
        {
         "hoverinfo": "none",
         "lat": [
          12.2383,
          7.9465,
          null
         ],
         "line": {
          "color": "rgba(0, 0, 0, 0.8)",
          "width": 0.01126126126126126
         },
         "locationmode": "ISO-3",
         "lon": [
          -1.5616,
          -1.0232,
          null
         ],
         "mode": "lines",
         "type": "scattergeo"
        },
        {
         "hoverinfo": "none",
         "lat": [
          12.2383,
          55.3781,
          null
         ],
         "line": {
          "color": "rgba(0, 0, 0, 0.8)",
          "width": 0.01126126126126126
         },
         "locationmode": "ISO-3",
         "lon": [
          -1.5616,
          -3.436,
          null
         ],
         "mode": "lines",
         "type": "scattergeo"
        },
        {
         "hoverinfo": "none",
         "lat": [
          12.2383,
          37.0902,
          null
         ],
         "line": {
          "color": "rgba(0, 0, 0, 0.8)",
          "width": 0.01126126126126126
         },
         "locationmode": "ISO-3",
         "lon": [
          -1.5616,
          -95.7129,
          null
         ],
         "mode": "lines",
         "type": "scattergeo"
        },
        {
         "hoverinfo": "none",
         "lat": [
          12.2383,
          51.1657,
          null
         ],
         "line": {
          "color": "rgba(0, 0, 0, 0.8)",
          "width": 0.02252252252252252
         },
         "locationmode": "ISO-3",
         "lon": [
          -1.5616,
          10.4515,
          null
         ],
         "mode": "lines",
         "type": "scattergeo"
        },
        {
         "hoverinfo": "none",
         "lat": [
          46.6034,
          -30.5595,
          null
         ],
         "line": {
          "color": "rgba(0, 0, 0, 0.8)",
          "width": 0.01126126126126126
         },
         "locationmode": "ISO-3",
         "lon": [
          1.8883,
          22.9375,
          null
         ],
         "mode": "lines",
         "type": "scattergeo"
        },
        {
         "hoverinfo": "none",
         "lat": [
          12.2383,
          21.0079,
          null
         ],
         "line": {
          "color": "rgba(0, 0, 0, 0.8)",
          "width": 0.01126126126126126
         },
         "locationmode": "ISO-3",
         "lon": [
          -1.5616,
          -10.9408,
          null
         ],
         "mode": "lines",
         "type": "scattergeo"
        },
        {
         "hoverinfo": "none",
         "lat": [
          12.2383,
          46.6034,
          null
         ],
         "line": {
          "color": "rgba(0, 0, 0, 0.8)",
          "width": 0.02252252252252252
         },
         "locationmode": "ISO-3",
         "lon": [
          -1.5616,
          1.8883,
          null
         ],
         "mode": "lines",
         "type": "scattergeo"
        },
        {
         "hoverinfo": "none",
         "lat": [
          45.9432,
          55.3781,
          null
         ],
         "line": {
          "color": "rgba(0, 0, 0, 0.8)",
          "width": 0.01126126126126126
         },
         "locationmode": "ISO-3",
         "lon": [
          24.9668,
          -3.436,
          null
         ],
         "mode": "lines",
         "type": "scattergeo"
        },
        {
         "hoverinfo": "none",
         "lat": [
          41.8719,
          8.5379,
          null
         ],
         "line": {
          "color": "rgba(0, 0, 0, 0.8)",
          "width": 0.01126126126126126
         },
         "locationmode": "ISO-3",
         "lon": [
          12.5674,
          -80.7821,
          null
         ],
         "mode": "lines",
         "type": "scattergeo"
        },
        {
         "hoverinfo": "none",
         "lat": [
          56.1304,
          8.5379,
          null
         ],
         "line": {
          "color": "rgba(0, 0, 0, 0.8)",
          "width": 0.01126126126126126
         },
         "locationmode": "ISO-3",
         "lon": [
          -106.3468,
          -80.7821,
          null
         ],
         "mode": "lines",
         "type": "scattergeo"
        },
        {
         "hoverinfo": "none",
         "lat": [
          50.5039,
          49.8153,
          null
         ],
         "line": {
          "color": "rgba(0, 0, 0, 0.8)",
          "width": 0.04504504504504504
         },
         "locationmode": "ISO-3",
         "lon": [
          4.4699,
          6.1296,
          null
         ],
         "mode": "lines",
         "type": "scattergeo"
        },
        {
         "hoverinfo": "none",
         "lat": [
          41.8719,
          49.8153,
          null
         ],
         "line": {
          "color": "rgba(0, 0, 0, 0.8)",
          "width": 0.02252252252252252
         },
         "locationmode": "ISO-3",
         "lon": [
          12.5674,
          6.1296,
          null
         ],
         "mode": "lines",
         "type": "scattergeo"
        },
        {
         "hoverinfo": "none",
         "lat": [
          60.472,
          37.0902,
          null
         ],
         "line": {
          "color": "rgba(0, 0, 0, 0.8)",
          "width": 0.01126126126126126
         },
         "locationmode": "ISO-3",
         "lon": [
          8.4689,
          -95.7129,
          null
         ],
         "mode": "lines",
         "type": "scattergeo"
        },
        {
         "hoverinfo": "none",
         "lat": [
          43.9159,
          32.4279,
          null
         ],
         "line": {
          "color": "rgba(0, 0, 0, 0.8)",
          "width": 0.02252252252252252
         },
         "locationmode": "ISO-3",
         "lon": [
          17.6791,
          53.688,
          null
         ],
         "mode": "lines",
         "type": "scattergeo"
        },
        {
         "hoverinfo": "none",
         "lat": [
          43.9159,
          46.6034,
          null
         ],
         "line": {
          "color": "rgba(0, 0, 0, 0.8)",
          "width": 0.02252252252252252
         },
         "locationmode": "ISO-3",
         "lon": [
          17.6791,
          1.8883,
          null
         ],
         "mode": "lines",
         "type": "scattergeo"
        },
        {
         "hoverinfo": "none",
         "lat": [
          43.9159,
          51.1657,
          null
         ],
         "line": {
          "color": "rgba(0, 0, 0, 0.8)",
          "width": 0.0563063063063063
         },
         "locationmode": "ISO-3",
         "lon": [
          17.6791,
          10.4515,
          null
         ],
         "mode": "lines",
         "type": "scattergeo"
        },
        {
         "hoverinfo": "none",
         "lat": [
          53.1424,
          49.8153,
          null
         ],
         "line": {
          "color": "rgba(0, 0, 0, 0.8)",
          "width": 0.01126126126126126
         },
         "locationmode": "ISO-3",
         "lon": [
          -7.6921,
          6.1296,
          null
         ],
         "mode": "lines",
         "type": "scattergeo"
        },
        {
         "hoverinfo": "none",
         "lat": [
          56.2639,
          49.8153,
          null
         ],
         "line": {
          "color": "rgba(0, 0, 0, 0.8)",
          "width": 0.01126126126126126
         },
         "locationmode": "ISO-3",
         "lon": [
          9.5018,
          6.1296,
          null
         ],
         "mode": "lines",
         "type": "scattergeo"
        },
        {
         "hoverinfo": "none",
         "lat": [
          46.6034,
          53.1424,
          null
         ],
         "line": {
          "color": "rgba(0, 0, 0, 0.8)",
          "width": 0.02252252252252252
         },
         "locationmode": "ISO-3",
         "lon": [
          1.8883,
          -7.6921,
          null
         ],
         "mode": "lines",
         "type": "scattergeo"
        },
        {
         "hoverinfo": "none",
         "lat": [
          56.2639,
          53.1424,
          null
         ],
         "line": {
          "color": "rgba(0, 0, 0, 0.8)",
          "width": 0.01126126126126126
         },
         "locationmode": "ISO-3",
         "lon": [
          9.5018,
          -7.6921,
          null
         ],
         "mode": "lines",
         "type": "scattergeo"
        },
        {
         "hoverinfo": "none",
         "lat": [
          50.5039,
          53.1424,
          null
         ],
         "line": {
          "color": "rgba(0, 0, 0, 0.8)",
          "width": 0.01126126126126126
         },
         "locationmode": "ISO-3",
         "lon": [
          4.4699,
          -7.6921,
          null
         ],
         "mode": "lines",
         "type": "scattergeo"
        },
        {
         "hoverinfo": "none",
         "lat": [
          50.5039,
          56.2639,
          null
         ],
         "line": {
          "color": "rgba(0, 0, 0, 0.8)",
          "width": 0.01126126126126126
         },
         "locationmode": "ISO-3",
         "lon": [
          4.4699,
          9.5018,
          null
         ],
         "mode": "lines",
         "type": "scattergeo"
        },
        {
         "hoverinfo": "none",
         "lat": [
          47.1625,
          61.524,
          null
         ],
         "line": {
          "color": "rgba(255, 0, 0, 0.02252252252252252)",
          "width": 0.02252252252252252
         },
         "locationmode": "ISO-3",
         "lon": [
          19.5033,
          105.3188,
          null
         ],
         "mode": "lines",
         "type": "scattergeo"
        },
        {
         "hoverinfo": "none",
         "lat": [
          35.9078,
          37.0902,
          null
         ],
         "line": {
          "color": "rgba(0, 0, 0, 0.8)",
          "width": 0.01126126126126126
         },
         "locationmode": "ISO-3",
         "lon": [
          127.7669,
          -95.7129,
          null
         ],
         "mode": "lines",
         "type": "scattergeo"
        },
        {
         "hoverinfo": "none",
         "lat": [
          42.7339,
          51.1657,
          null
         ],
         "line": {
          "color": "rgba(0, 0, 0, 0.8)",
          "width": 0.02252252252252252
         },
         "locationmode": "ISO-3",
         "lon": [
          25.4858,
          10.4515,
          null
         ],
         "mode": "lines",
         "type": "scattergeo"
        },
        {
         "hoverinfo": "none",
         "lat": [
          49.8175,
          23.6345,
          null
         ],
         "line": {
          "color": "rgba(0, 0, 0, 0.8)",
          "width": 0.01126126126126126
         },
         "locationmode": "ISO-3",
         "lon": [
          15.4729,
          -102.5528,
          null
         ],
         "mode": "lines",
         "type": "scattergeo"
        },
        {
         "hoverinfo": "none",
         "lat": [
          52.1326,
          60.1282,
          null
         ],
         "line": {
          "color": "rgba(0, 0, 0, 0.8)",
          "width": 0.01126126126126126
         },
         "locationmode": "ISO-3",
         "lon": [
          5.2913,
          18.6435,
          null
         ],
         "mode": "lines",
         "type": "scattergeo"
        },
        {
         "hoverinfo": "none",
         "lat": [
          43.9159,
          52.1326,
          null
         ],
         "line": {
          "color": "rgba(0, 0, 0, 0.8)",
          "width": 0.01126126126126126
         },
         "locationmode": "ISO-3",
         "lon": [
          17.6791,
          5.2913,
          null
         ],
         "mode": "lines",
         "type": "scattergeo"
        },
        {
         "hoverinfo": "none",
         "lat": [
          43.9159,
          60.1282,
          null
         ],
         "line": {
          "color": "rgba(0, 0, 0, 0.8)",
          "width": 0.01126126126126126
         },
         "locationmode": "ISO-3",
         "lon": [
          17.6791,
          18.6435,
          null
         ],
         "mode": "lines",
         "type": "scattergeo"
        },
        {
         "hoverinfo": "none",
         "lat": [
          43.9159,
          56.2639,
          null
         ],
         "line": {
          "color": "rgba(0, 0, 0, 0.8)",
          "width": 0.01126126126126126
         },
         "locationmode": "ISO-3",
         "lon": [
          17.6791,
          9.5018,
          null
         ],
         "mode": "lines",
         "type": "scattergeo"
        },
        {
         "hoverinfo": "none",
         "lat": [
          33.9391,
          32.4279,
          null
         ],
         "line": {
          "color": "rgba(0, 0, 0, 0.8)",
          "width": 0.01126126126126126
         },
         "locationmode": "ISO-3",
         "lon": [
          67.71,
          53.688,
          null
         ],
         "mode": "lines",
         "type": "scattergeo"
        },
        {
         "hoverinfo": "none",
         "lat": [
          33.9391,
          46.6034,
          null
         ],
         "line": {
          "color": "rgba(0, 0, 0, 0.8)",
          "width": 0.01126126126126126
         },
         "locationmode": "ISO-3",
         "lon": [
          67.71,
          1.8883,
          null
         ],
         "mode": "lines",
         "type": "scattergeo"
        },
        {
         "hoverinfo": "none",
         "lat": [
          -38.4161,
          52.1326,
          null
         ],
         "line": {
          "color": "rgba(0, 0, 0, 0.8)",
          "width": 0.02252252252252252
         },
         "locationmode": "ISO-3",
         "lon": [
          -63.6167,
          5.2913,
          null
         ],
         "mode": "lines",
         "type": "scattergeo"
        },
        {
         "hoverinfo": "none",
         "lat": [
          46.6034,
          14.6415,
          null
         ],
         "line": {
          "color": "rgba(0, 0, 0, 0.8)",
          "width": 0.01126126126126126
         },
         "locationmode": "ISO-3",
         "lon": [
          1.8883,
          -61.0242,
          null
         ],
         "mode": "lines",
         "type": "scattergeo"
        },
        {
         "hoverinfo": "none",
         "lat": [
          22.3193,
          23.6345,
          null
         ],
         "line": {
          "color": "rgba(0, 0, 0, 0.8)",
          "width": 0.01126126126126126
         },
         "locationmode": "ISO-3",
         "lon": [
          114.1694,
          -102.5528,
          null
         ],
         "mode": "lines",
         "type": "scattergeo"
        },
        {
         "hoverinfo": "none",
         "lat": [
          56.1304,
          61.524,
          null
         ],
         "line": {
          "color": "rgba(0, 0, 0, 0.8)",
          "width": 0.01126126126126126
         },
         "locationmode": "ISO-3",
         "lon": [
          -106.3468,
          105.3188,
          null
         ],
         "mode": "lines",
         "type": "scattergeo"
        },
        {
         "hoverinfo": "none",
         "lat": [
          56.1304,
          60.1282,
          null
         ],
         "line": {
          "color": "rgba(0, 0, 0, 0.8)",
          "width": 0.01126126126126126
         },
         "locationmode": "ISO-3",
         "lon": [
          -106.3468,
          18.6435,
          null
         ],
         "mode": "lines",
         "type": "scattergeo"
        },
        {
         "hoverinfo": "none",
         "lat": [
          56.1304,
          48.3794,
          null
         ],
         "line": {
          "color": "rgba(0, 0, 0, 0.8)",
          "width": 0.01126126126126126
         },
         "locationmode": "ISO-3",
         "lon": [
          -106.3468,
          31.1656,
          null
         ],
         "mode": "lines",
         "type": "scattergeo"
        },
        {
         "hoverinfo": "none",
         "lat": [
          60.1282,
          48.3794,
          null
         ],
         "line": {
          "color": "rgba(0, 0, 0, 0.8)",
          "width": 0.01126126126126126
         },
         "locationmode": "ISO-3",
         "lon": [
          18.6435,
          31.1656,
          null
         ],
         "mode": "lines",
         "type": "scattergeo"
        },
        {
         "hoverinfo": "none",
         "lat": [
          10.6918,
          55.3781,
          null
         ],
         "line": {
          "color": "rgba(0, 0, 0, 0.8)",
          "width": 0.01126126126126126
         },
         "locationmode": "ISO-3",
         "lon": [
          -61.2225,
          -3.436,
          null
         ],
         "mode": "lines",
         "type": "scattergeo"
        },
        {
         "hoverinfo": "none",
         "lat": [
          61.524,
          46.8182,
          null
         ],
         "line": {
          "color": "rgba(0, 0, 0, 0.8)",
          "width": 0.01126126126126126
         },
         "locationmode": "ISO-3",
         "lon": [
          105.3188,
          8.2275,
          null
         ],
         "mode": "lines",
         "type": "scattergeo"
        },
        {
         "hoverinfo": "none",
         "lat": [
          61.524,
          40.4637,
          null
         ],
         "line": {
          "color": "rgba(0, 0, 0, 0.8)",
          "width": 0.01126126126126126
         },
         "locationmode": "ISO-3",
         "lon": [
          105.3188,
          -3.7492,
          null
         ],
         "mode": "lines",
         "type": "scattergeo"
        },
        {
         "hoverinfo": "none",
         "lat": [
          41.8719,
          35.9078,
          null
         ],
         "line": {
          "color": "rgba(0, 0, 0, 0.8)",
          "width": 0.01126126126126126
         },
         "locationmode": "ISO-3",
         "lon": [
          12.5674,
          127.7669,
          null
         ],
         "mode": "lines",
         "type": "scattergeo"
        },
        {
         "hoverinfo": "none",
         "lat": [
          42.7339,
          55.3781,
          null
         ],
         "line": {
          "color": "rgba(0, 0, 0, 0.8)",
          "width": 0.02252252252252252
         },
         "locationmode": "ISO-3",
         "lon": [
          25.4858,
          -3.436,
          null
         ],
         "mode": "lines",
         "type": "scattergeo"
        },
        {
         "hoverinfo": "none",
         "lat": [
          46.6034,
          23.6978,
          null
         ],
         "line": {
          "color": "rgba(0, 0, 0, 0.8)",
          "width": 0.04504504504504504
         },
         "locationmode": "ISO-3",
         "lon": [
          1.8883,
          120.9605,
          null
         ],
         "mode": "lines",
         "type": "scattergeo"
        },
        {
         "hoverinfo": "none",
         "lat": [
          20.5937,
          37.0902,
          null
         ],
         "line": {
          "color": "rgba(0, 0, 0, 0.8)",
          "width": 0.02252252252252252
         },
         "locationmode": "ISO-3",
         "lon": [
          78.9629,
          -95.7129,
          null
         ],
         "mode": "lines",
         "type": "scattergeo"
        },
        {
         "hoverinfo": "none",
         "lat": [
          28.0339,
          41.8719,
          null
         ],
         "line": {
          "color": "rgba(0, 0, 0, 0.8)",
          "width": 0.02252252252252252
         },
         "locationmode": "ISO-3",
         "lon": [
          1.6596,
          12.5674,
          null
         ],
         "mode": "lines",
         "type": "scattergeo"
        },
        {
         "hoverinfo": "none",
         "lat": [
          -35.6751,
          21.5218,
          null
         ],
         "line": {
          "color": "rgba(0, 0, 0, 0.8)",
          "width": 0.033783783783783786
         },
         "locationmode": "ISO-3",
         "lon": [
          -71.543,
          -77.7812,
          null
         ],
         "mode": "lines",
         "type": "scattergeo"
        },
        {
         "hoverinfo": "none",
         "lat": [
          21.5218,
          46.6034,
          null
         ],
         "line": {
          "color": "rgba(0, 0, 0, 0.8)",
          "width": 0.033783783783783786
         },
         "locationmode": "ISO-3",
         "lon": [
          -77.7812,
          1.8883,
          null
         ],
         "mode": "lines",
         "type": "scattergeo"
        },
        {
         "hoverinfo": "none",
         "lat": [
          21.5218,
          6.4238,
          null
         ],
         "line": {
          "color": "rgba(0, 0, 0, 0.8)",
          "width": 0.033783783783783786
         },
         "locationmode": "ISO-3",
         "lon": [
          -77.7812,
          -66.5897,
          null
         ],
         "mode": "lines",
         "type": "scattergeo"
        },
        {
         "hoverinfo": "none",
         "lat": [
          -35.6751,
          46.6034,
          null
         ],
         "line": {
          "color": "rgba(0, 0, 0, 0.8)",
          "width": 0.033783783783783786
         },
         "locationmode": "ISO-3",
         "lon": [
          -71.543,
          1.8883,
          null
         ],
         "mode": "lines",
         "type": "scattergeo"
        },
        {
         "hoverinfo": "none",
         "lat": [
          -35.6751,
          6.4238,
          null
         ],
         "line": {
          "color": "rgba(0, 0, 0, 0.8)",
          "width": 0.033783783783783786
         },
         "locationmode": "ISO-3",
         "lon": [
          -71.543,
          -66.5897,
          null
         ],
         "mode": "lines",
         "type": "scattergeo"
        },
        {
         "hoverinfo": "none",
         "lat": [
          45.1,
          44.0165,
          null
         ],
         "line": {
          "color": "rgba(0, 0, 0, 0.8)",
          "width": 0.04504504504504504
         },
         "locationmode": "ISO-3",
         "lon": [
          15.2,
          21.0059,
          null
         ],
         "mode": "lines",
         "type": "scattergeo"
        },
        {
         "hoverinfo": "none",
         "lat": [
          43.9159,
          45.1,
          null
         ],
         "line": {
          "color": "rgba(0, 0, 0, 0.8)",
          "width": 0.02252252252252252
         },
         "locationmode": "ISO-3",
         "lon": [
          17.6791,
          15.2,
          null
         ],
         "mode": "lines",
         "type": "scattergeo"
        },
        {
         "hoverinfo": "none",
         "lat": [
          43.9159,
          37.0902,
          null
         ],
         "line": {
          "color": "rgba(0, 0, 0, 0.8)",
          "width": 0.02252252252252252
         },
         "locationmode": "ISO-3",
         "lon": [
          17.6791,
          -95.7129,
          null
         ],
         "mode": "lines",
         "type": "scattergeo"
        },
        {
         "hoverinfo": "none",
         "lat": [
          46.6034,
          60.472,
          null
         ],
         "line": {
          "color": "rgba(0, 0, 0, 0.8)",
          "width": 0.02252252252252252
         },
         "locationmode": "ISO-3",
         "lon": [
          1.8883,
          8.4689,
          null
         ],
         "mode": "lines",
         "type": "scattergeo"
        },
        {
         "hoverinfo": "none",
         "lat": [
          41.8719,
          60.472,
          null
         ],
         "line": {
          "color": "rgba(0, 0, 0, 0.8)",
          "width": 0.01126126126126126
         },
         "locationmode": "ISO-3",
         "lon": [
          12.5674,
          8.4689,
          null
         ],
         "mode": "lines",
         "type": "scattergeo"
        },
        {
         "hoverinfo": "none",
         "lat": [
          61.9241,
          41.8719,
          null
         ],
         "line": {
          "color": "rgba(0, 0, 0, 0.8)",
          "width": 0.01126126126126126
         },
         "locationmode": "ISO-3",
         "lon": [
          25.7482,
          12.5674,
          null
         ],
         "mode": "lines",
         "type": "scattergeo"
        },
        {
         "hoverinfo": "none",
         "lat": [
          64.9631,
          41.8719,
          null
         ],
         "line": {
          "color": "rgba(0, 0, 0, 0.8)",
          "width": 0.01126126126126126
         },
         "locationmode": "ISO-3",
         "lon": [
          -19.0208,
          12.5674,
          null
         ],
         "mode": "lines",
         "type": "scattergeo"
        },
        {
         "hoverinfo": "none",
         "lat": [
          51.1657,
          31.0461,
          null
         ],
         "line": {
          "color": "rgba(0, 0, 0, 0.8)",
          "width": 0.033783783783783786
         },
         "locationmode": "ISO-3",
         "lon": [
          10.4515,
          34.8516,
          null
         ],
         "mode": "lines",
         "type": "scattergeo"
        },
        {
         "hoverinfo": "none",
         "lat": [
          9.7489,
          60.1282,
          null
         ],
         "line": {
          "color": "rgba(0, 0, 0, 0.8)",
          "width": 0.01126126126126126
         },
         "locationmode": "ISO-3",
         "lon": [
          -83.7534,
          18.6435,
          null
         ],
         "mode": "lines",
         "type": "scattergeo"
        },
        {
         "hoverinfo": "none",
         "lat": [
          31.0461,
          49.8153,
          null
         ],
         "line": {
          "color": "rgba(0, 0, 0, 0.8)",
          "width": 0.01126126126126126
         },
         "locationmode": "ISO-3",
         "lon": [
          34.8516,
          6.1296,
          null
         ],
         "mode": "lines",
         "type": "scattergeo"
        },
        {
         "hoverinfo": "none",
         "lat": [
          49.8153,
          51.9194,
          null
         ],
         "line": {
          "color": "rgba(0, 0, 0, 0.8)",
          "width": 0.01126126126126126
         },
         "locationmode": "ISO-3",
         "lon": [
          6.1296,
          19.1451,
          null
         ],
         "mode": "lines",
         "type": "scattergeo"
        },
        {
         "hoverinfo": "none",
         "lat": [
          31.0461,
          51.9194,
          null
         ],
         "line": {
          "color": "rgba(0, 0, 0, 0.8)",
          "width": 0.01126126126126126
         },
         "locationmode": "ISO-3",
         "lon": [
          34.8516,
          19.1451,
          null
         ],
         "mode": "lines",
         "type": "scattergeo"
        },
        {
         "hoverinfo": "none",
         "lat": [
          50.5039,
          31.0461,
          null
         ],
         "line": {
          "color": "rgba(0, 0, 0, 0.8)",
          "width": 0.01126126126126126
         },
         "locationmode": "ISO-3",
         "lon": [
          4.4699,
          34.8516,
          null
         ],
         "mode": "lines",
         "type": "scattergeo"
        },
        {
         "hoverinfo": "none",
         "lat": [
          50.5039,
          51.9194,
          null
         ],
         "line": {
          "color": "rgba(0, 0, 0, 0.8)",
          "width": 0.01126126126126126
         },
         "locationmode": "ISO-3",
         "lon": [
          4.4699,
          19.1451,
          null
         ],
         "mode": "lines",
         "type": "scattergeo"
        },
        {
         "hoverinfo": "none",
         "lat": [
          51.1657,
          55.1694,
          null
         ],
         "line": {
          "color": "rgba(0, 0, 0, 0.8)",
          "width": 0.01126126126126126
         },
         "locationmode": "ISO-3",
         "lon": [
          10.4515,
          23.8813,
          null
         ],
         "mode": "lines",
         "type": "scattergeo"
        },
        {
         "hoverinfo": "none",
         "lat": [
          53.1424,
          36.2048,
          null
         ],
         "line": {
          "color": "rgba(0, 0, 0, 0.8)",
          "width": 0.01126126126126126
         },
         "locationmode": "ISO-3",
         "lon": [
          -7.6921,
          138.2529,
          null
         ],
         "mode": "lines",
         "type": "scattergeo"
        },
        {
         "hoverinfo": "none",
         "lat": [
          -38.4161,
          56.1304,
          null
         ],
         "line": {
          "color": "rgba(0, 0, 0, 0.8)",
          "width": 0.01126126126126126
         },
         "locationmode": "ISO-3",
         "lon": [
          -63.6167,
          -106.3468,
          null
         ],
         "mode": "lines",
         "type": "scattergeo"
        },
        {
         "hoverinfo": "none",
         "lat": [
          56.1304,
          44.0165,
          null
         ],
         "line": {
          "color": "rgba(0, 0, 0, 0.8)",
          "width": 0.01126126126126126
         },
         "locationmode": "ISO-3",
         "lon": [
          -106.3468,
          21.0059,
          null
         ],
         "mode": "lines",
         "type": "scattergeo"
        },
        {
         "hoverinfo": "none",
         "lat": [
          60.472,
          51.9194,
          null
         ],
         "line": {
          "color": "rgba(0, 0, 0, 0.8)",
          "width": 0.01126126126126126
         },
         "locationmode": "ISO-3",
         "lon": [
          8.4689,
          19.1451,
          null
         ],
         "mode": "lines",
         "type": "scattergeo"
        },
        {
         "hoverinfo": "none",
         "lat": [
          45.1,
          47.1625,
          null
         ],
         "line": {
          "color": "rgba(0, 0, 0, 0.8)",
          "width": 0.01126126126126126
         },
         "locationmode": "ISO-3",
         "lon": [
          15.2,
          19.5033,
          null
         ],
         "mode": "lines",
         "type": "scattergeo"
        },
        {
         "hoverinfo": "none",
         "lat": [
          43.9159,
          47.1625,
          null
         ],
         "line": {
          "color": "rgba(0, 0, 0, 0.8)",
          "width": 0.01126126126126126
         },
         "locationmode": "ISO-3",
         "lon": [
          17.6791,
          19.5033,
          null
         ],
         "mode": "lines",
         "type": "scattergeo"
        },
        {
         "hoverinfo": "none",
         "lat": [
          41.2044,
          61.524,
          null
         ],
         "line": {
          "color": "rgba(0, 0, 0, 0.8)",
          "width": 0.01126126126126126
         },
         "locationmode": "ISO-3",
         "lon": [
          74.7661,
          105.3188,
          null
         ],
         "mode": "lines",
         "type": "scattergeo"
        },
        {
         "hoverinfo": "none",
         "lat": [
          8.5379,
          40.4637,
          null
         ],
         "line": {
          "color": "rgba(0, 0, 0, 0.8)",
          "width": 0.02252252252252252
         },
         "locationmode": "ISO-3",
         "lon": [
          -80.7821,
          -3.7492,
          null
         ],
         "mode": "lines",
         "type": "scattergeo"
        },
        {
         "hoverinfo": "none",
         "lat": [
          -22.3285,
          -30.5595,
          null
         ],
         "line": {
          "color": "rgba(0, 0, 0, 0.8)",
          "width": 0.02252252252252252
         },
         "locationmode": "ISO-3",
         "lon": [
          24.6849,
          22.9375,
          null
         ],
         "mode": "lines",
         "type": "scattergeo"
        },
        {
         "hoverinfo": "none",
         "lat": [
          -22.3285,
          37.0902,
          null
         ],
         "line": {
          "color": "rgba(0, 0, 0, 0.8)",
          "width": 0.01126126126126126
         },
         "locationmode": "ISO-3",
         "lon": [
          24.6849,
          -95.7129,
          null
         ],
         "mode": "lines",
         "type": "scattergeo"
        },
        {
         "hoverinfo": "none",
         "lat": [
          46.6034,
          9.9456,
          null
         ],
         "line": {
          "color": "rgba(0, 0, 0, 0.8)",
          "width": 0.01126126126126126
         },
         "locationmode": "ISO-3",
         "lon": [
          1.8883,
          -9.6966,
          null
         ],
         "mode": "lines",
         "type": "scattergeo"
        },
        {
         "hoverinfo": "none",
         "lat": [
          36.2048,
          52.1326,
          null
         ],
         "line": {
          "color": "rgba(0, 0, 0, 0.8)",
          "width": 0.01126126126126126
         },
         "locationmode": "ISO-3",
         "lon": [
          138.2529,
          5.2913,
          null
         ],
         "mode": "lines",
         "type": "scattergeo"
        },
        {
         "hoverinfo": "none",
         "lat": [
          -25.2744,
          52.1326,
          null
         ],
         "line": {
          "color": "rgba(0, 0, 0, 0.8)",
          "width": 0.01126126126126126
         },
         "locationmode": "ISO-3",
         "lon": [
          133.7751,
          5.2913,
          null
         ],
         "mode": "lines",
         "type": "scattergeo"
        },
        {
         "hoverinfo": "none",
         "lat": [
          39.3999,
          37.0902,
          null
         ],
         "line": {
          "color": "rgba(0, 0, 0, 0.8)",
          "width": 0.02252252252252252
         },
         "locationmode": "ISO-3",
         "lon": [
          -8.2245,
          -95.7129,
          null
         ],
         "mode": "lines",
         "type": "scattergeo"
        },
        {
         "hoverinfo": "none",
         "lat": [
          56.2639,
          23.6345,
          null
         ],
         "line": {
          "color": "rgba(0, 0, 0, 0.8)",
          "width": 0.01126126126126126
         },
         "locationmode": "ISO-3",
         "lon": [
          9.5018,
          -102.5528,
          null
         ],
         "mode": "lines",
         "type": "scattergeo"
        },
        {
         "hoverinfo": "none",
         "lat": [
          35.8617,
          41.8719,
          null
         ],
         "line": {
          "color": "rgba(0, 0, 0, 0.8)",
          "width": 0.01126126126126126
         },
         "locationmode": "ISO-3",
         "lon": [
          104.1954,
          12.5674,
          null
         ],
         "mode": "lines",
         "type": "scattergeo"
        },
        {
         "hoverinfo": "none",
         "lat": [
          48.0196,
          61.524,
          null
         ],
         "line": {
          "color": "rgba(0, 0, 0, 0.8)",
          "width": 0.01126126126126126
         },
         "locationmode": "ISO-3",
         "lon": [
          66.9237,
          105.3188,
          null
         ],
         "mode": "lines",
         "type": "scattergeo"
        },
        {
         "hoverinfo": "none",
         "lat": [
          55.3781,
          14.0583,
          null
         ],
         "line": {
          "color": "rgba(0, 0, 0, 0.8)",
          "width": 0.01126126126126126
         },
         "locationmode": "ISO-3",
         "lon": [
          -3.436,
          108.2772,
          null
         ],
         "mode": "lines",
         "type": "scattergeo"
        },
        {
         "hoverinfo": "none",
         "lat": [
          32.4279,
          37.0902,
          null
         ],
         "line": {
          "color": "rgba(0, 0, 0, 0.8)",
          "width": 0.01126126126126126
         },
         "locationmode": "ISO-3",
         "lon": [
          53.688,
          -95.7129,
          null
         ],
         "mode": "lines",
         "type": "scattergeo"
        },
        {
         "hoverinfo": "none",
         "lat": [
          31.0461,
          46.8182,
          null
         ],
         "line": {
          "color": "rgba(0, 0, 0, 0.8)",
          "width": 0.01126126126126126
         },
         "locationmode": "ISO-3",
         "lon": [
          34.8516,
          8.2275,
          null
         ],
         "mode": "lines",
         "type": "scattergeo"
        },
        {
         "hoverinfo": "none",
         "lat": [
          46.6034,
          -40.9006,
          null
         ],
         "line": {
          "color": "rgba(0, 0, 0, 0.8)",
          "width": 0.01126126126126126
         },
         "locationmode": "ISO-3",
         "lon": [
          1.8883,
          174.886,
          null
         ],
         "mode": "lines",
         "type": "scattergeo"
        },
        {
         "hoverinfo": "none",
         "lat": [
          37.0902,
          -19.0154,
          null
         ],
         "line": {
          "color": "rgba(0, 0, 0, 0.8)",
          "width": 0.01126126126126126
         },
         "locationmode": "ISO-3",
         "lon": [
          -95.7129,
          29.1549,
          null
         ],
         "mode": "lines",
         "type": "scattergeo"
        },
        {
         "hoverinfo": "none",
         "lat": [
          42.7339,
          41.8719,
          null
         ],
         "line": {
          "color": "rgba(0, 0, 0, 0.8)",
          "width": 0.01126126126126126
         },
         "locationmode": "ISO-3",
         "lon": [
          25.4858,
          12.5674,
          null
         ],
         "mode": "lines",
         "type": "scattergeo"
        },
        {
         "hoverinfo": "none",
         "lat": [
          -25.2744,
          15.87,
          null
         ],
         "line": {
          "color": "rgba(0, 0, 0, 0.8)",
          "width": 0.01126126126126126
         },
         "locationmode": "ISO-3",
         "lon": [
          133.7751,
          100.9925,
          null
         ],
         "mode": "lines",
         "type": "scattergeo"
        },
        {
         "hoverinfo": "none",
         "lat": [
          53.1424,
          41.8719,
          null
         ],
         "line": {
          "color": "rgba(0, 0, 0, 0.8)",
          "width": 0.01126126126126126
         },
         "locationmode": "ISO-3",
         "lon": [
          -7.6921,
          12.5674,
          null
         ],
         "mode": "lines",
         "type": "scattergeo"
        },
        {
         "hoverinfo": "none",
         "lat": [
          41.8719,
          12.8797,
          null
         ],
         "line": {
          "color": "rgba(0, 0, 0, 0.8)",
          "width": 0.01126126126126126
         },
         "locationmode": "ISO-3",
         "lon": [
          12.5674,
          121.774,
          null
         ],
         "mode": "lines",
         "type": "scattergeo"
        },
        {
         "hoverinfo": "none",
         "lat": [
          47.1625,
          41.8719,
          null
         ],
         "line": {
          "color": "rgba(0, 0, 0, 0.8)",
          "width": 0.01126126126126126
         },
         "locationmode": "ISO-3",
         "lon": [
          19.5033,
          12.5674,
          null
         ],
         "mode": "lines",
         "type": "scattergeo"
        },
        {
         "hoverinfo": "none",
         "lat": [
          51.1657,
          48.669,
          null
         ],
         "line": {
          "color": "rgba(0, 0, 0, 0.8)",
          "width": 0.01126126126126126
         },
         "locationmode": "ISO-3",
         "lon": [
          10.4515,
          19.699,
          null
         ],
         "mode": "lines",
         "type": "scattergeo"
        },
        {
         "hoverinfo": "none",
         "lat": [
          49.8175,
          49.8175,
          null
         ],
         "line": {
          "color": "rgba(0, 0, 0, 0.8)",
          "width": 0.01126126126126126
         },
         "locationmode": "ISO-3",
         "lon": [
          15.4729,
          15.4729,
          null
         ],
         "mode": "lines",
         "type": "scattergeo"
        },
        {
         "hoverinfo": "none",
         "lat": [
          -25.2744,
          12.8797,
          null
         ],
         "line": {
          "color": "rgba(0, 0, 0, 0.8)",
          "width": 0.01126126126126126
         },
         "locationmode": "ISO-3",
         "lon": [
          133.7751,
          121.774,
          null
         ],
         "mode": "lines",
         "type": "scattergeo"
        },
        {
         "hoverinfo": "none",
         "lat": [
          52.1326,
          39.3999,
          null
         ],
         "line": {
          "color": "rgba(0, 0, 0, 0.8)",
          "width": 0.02252252252252252
         },
         "locationmode": "ISO-3",
         "lon": [
          5.2913,
          -8.2245,
          null
         ],
         "mode": "lines",
         "type": "scattergeo"
        },
        {
         "hoverinfo": "none",
         "lat": [
          46.6034,
          8.5379,
          null
         ],
         "line": {
          "color": "rgba(0, 0, 0, 0.8)",
          "width": 0.01126126126126126
         },
         "locationmode": "ISO-3",
         "lon": [
          1.8883,
          -80.7821,
          null
         ],
         "mode": "lines",
         "type": "scattergeo"
        },
        {
         "hoverinfo": "none",
         "lat": [
          45.9432,
          61.524,
          null
         ],
         "line": {
          "color": "rgba(0, 0, 0, 0.8)",
          "width": 0.01126126126126126
         },
         "locationmode": "ISO-3",
         "lon": [
          24.9668,
          105.3188,
          null
         ],
         "mode": "lines",
         "type": "scattergeo"
        },
        {
         "hoverinfo": "none",
         "lat": [
          49.8175,
          45.9432,
          null
         ],
         "line": {
          "color": "rgba(0, 0, 0, 0.8)",
          "width": 0.01126126126126126
         },
         "locationmode": "ISO-3",
         "lon": [
          15.4729,
          24.9668,
          null
         ],
         "mode": "lines",
         "type": "scattergeo"
        },
        {
         "hoverinfo": "none",
         "lat": [
          49.8175,
          61.524,
          null
         ],
         "line": {
          "color": "rgba(255, 0, 0, 0.01126126126126126)",
          "width": 0.01126126126126126
         },
         "locationmode": "ISO-3",
         "lon": [
          15.4729,
          105.3188,
          null
         ],
         "mode": "lines",
         "type": "scattergeo"
        },
        {
         "hoverinfo": "none",
         "lat": [
          39.0742,
          46.8182,
          null
         ],
         "line": {
          "color": "rgba(0, 0, 0, 0.8)",
          "width": 0.01126126126126126
         },
         "locationmode": "ISO-3",
         "lon": [
          21.8243,
          8.2275,
          null
         ],
         "mode": "lines",
         "type": "scattergeo"
        },
        {
         "hoverinfo": "none",
         "lat": [
          45.1,
          51.9194,
          null
         ],
         "line": {
          "color": "rgba(0, 0, 0, 0.8)",
          "width": 0.01126126126126126
         },
         "locationmode": "ISO-3",
         "lon": [
          15.2,
          19.1451,
          null
         ],
         "mode": "lines",
         "type": "scattergeo"
        },
        {
         "hoverinfo": "none",
         "lat": [
          56.1304,
          39.3999,
          null
         ],
         "line": {
          "color": "rgba(0, 0, 0, 0.8)",
          "width": 0.01126126126126126
         },
         "locationmode": "ISO-3",
         "lon": [
          -106.3468,
          -8.2245,
          null
         ],
         "mode": "lines",
         "type": "scattergeo"
        },
        {
         "hoverinfo": "none",
         "lat": [
          61.9241,
          39.3999,
          null
         ],
         "line": {
          "color": "rgba(0, 0, 0, 0.8)",
          "width": 0.01126126126126126
         },
         "locationmode": "ISO-3",
         "lon": [
          25.7482,
          -8.2245,
          null
         ],
         "mode": "lines",
         "type": "scattergeo"
        },
        {
         "hoverinfo": "none",
         "lat": [
          61.9241,
          52.1326,
          null
         ],
         "line": {
          "color": "rgba(0, 0, 0, 0.8)",
          "width": 0.01126126126126126
         },
         "locationmode": "ISO-3",
         "lon": [
          25.7482,
          5.2913,
          null
         ],
         "mode": "lines",
         "type": "scattergeo"
        },
        {
         "hoverinfo": "none",
         "lat": [
          35.9078,
          15.87,
          null
         ],
         "line": {
          "color": "rgba(0, 0, 0, 0.8)",
          "width": 0.01126126126126126
         },
         "locationmode": "ISO-3",
         "lon": [
          127.7669,
          100.9925,
          null
         ],
         "mode": "lines",
         "type": "scattergeo"
        },
        {
         "hoverinfo": "none",
         "lat": [
          22.3193,
          15.87,
          null
         ],
         "line": {
          "color": "rgba(0, 0, 0, 0.8)",
          "width": 0.01126126126126126
         },
         "locationmode": "ISO-3",
         "lon": [
          114.1694,
          100.9925,
          null
         ],
         "mode": "lines",
         "type": "scattergeo"
        },
        {
         "hoverinfo": "none",
         "lat": [
          51.9194,
          46.8182,
          null
         ],
         "line": {
          "color": "rgba(0, 0, 0, 0.8)",
          "width": 0.01126126126126126
         },
         "locationmode": "ISO-3",
         "lon": [
          19.1451,
          8.2275,
          null
         ],
         "mode": "lines",
         "type": "scattergeo"
        },
        {
         "hoverinfo": "none",
         "lat": [
          25.0343,
          37.0902,
          null
         ],
         "line": {
          "color": "rgba(0, 0, 0, 0.8)",
          "width": 0.01126126126126126
         },
         "locationmode": "ISO-3",
         "lon": [
          -77.3963,
          -95.7129,
          null
         ],
         "mode": "lines",
         "type": "scattergeo"
        },
        {
         "hoverinfo": "none",
         "lat": [
          25.0343,
          55.3781,
          null
         ],
         "line": {
          "color": "rgba(0, 0, 0, 0.8)",
          "width": 0.01126126126126126
         },
         "locationmode": "ISO-3",
         "lon": [
          -77.3963,
          -3.436,
          null
         ],
         "mode": "lines",
         "type": "scattergeo"
        },
        {
         "hoverinfo": "none",
         "lat": [
          25.0343,
          46.6034,
          null
         ],
         "line": {
          "color": "rgba(0, 0, 0, 0.8)",
          "width": 0.01126126126126126
         },
         "locationmode": "ISO-3",
         "lon": [
          -77.3963,
          1.8883,
          null
         ],
         "mode": "lines",
         "type": "scattergeo"
        },
        {
         "hoverinfo": "none",
         "lat": [
          43.9159,
          55.3781,
          null
         ],
         "line": {
          "color": "rgba(0, 0, 0, 0.8)",
          "width": 0.01126126126126126
         },
         "locationmode": "ISO-3",
         "lon": [
          17.6791,
          -3.436,
          null
         ],
         "mode": "lines",
         "type": "scattergeo"
        },
        {
         "hoverinfo": "none",
         "lat": [
          -6.3149,
          55.3781,
          null
         ],
         "line": {
          "color": "rgba(0, 0, 0, 0.8)",
          "width": 0.01126126126126126
         },
         "locationmode": "ISO-3",
         "lon": [
          143.9555,
          -3.436,
          null
         ],
         "mode": "lines",
         "type": "scattergeo"
        },
        {
         "hoverinfo": "none",
         "lat": [
          50.5039,
          -6.3149,
          null
         ],
         "line": {
          "color": "rgba(0, 0, 0, 0.8)",
          "width": 0.01126126126126126
         },
         "locationmode": "ISO-3",
         "lon": [
          4.4699,
          143.9555,
          null
         ],
         "mode": "lines",
         "type": "scattergeo"
        },
        {
         "hoverinfo": "none",
         "lat": [
          46.6034,
          -6.3149,
          null
         ],
         "line": {
          "color": "rgba(0, 0, 0, 0.8)",
          "width": 0.01126126126126126
         },
         "locationmode": "ISO-3",
         "lon": [
          1.8883,
          143.9555,
          null
         ],
         "mode": "lines",
         "type": "scattergeo"
        },
        {
         "hoverinfo": "none",
         "lat": [
          21.5218,
          23.6345,
          null
         ],
         "line": {
          "color": "rgba(0, 0, 0, 0.8)",
          "width": 0.01126126126126126
         },
         "locationmode": "ISO-3",
         "lon": [
          -77.7812,
          -102.5528,
          null
         ],
         "mode": "lines",
         "type": "scattergeo"
        },
        {
         "hoverinfo": "none",
         "lat": [
          26.8206,
          46.6034,
          null
         ],
         "line": {
          "color": "rgba(0, 0, 0, 0.8)",
          "width": 0.01126126126126126
         },
         "locationmode": "ISO-3",
         "lon": [
          30.8025,
          1.8883,
          null
         ],
         "mode": "lines",
         "type": "scattergeo"
        },
        {
         "hoverinfo": "none",
         "lat": [
          46.6034,
          31.7917,
          null
         ],
         "line": {
          "color": "rgba(0, 0, 0, 0.8)",
          "width": 0.02252252252252252
         },
         "locationmode": "ISO-3",
         "lon": [
          1.8883,
          -7.0926,
          null
         ],
         "mode": "lines",
         "type": "scattergeo"
        },
        {
         "hoverinfo": "none",
         "lat": [
          20.5937,
          61.524,
          null
         ],
         "line": {
          "color": "rgba(255, 0, 0, 0.01126126126126126)",
          "width": 0.01126126126126126
         },
         "locationmode": "ISO-3",
         "lon": [
          78.9629,
          105.3188,
          null
         ],
         "mode": "lines",
         "type": "scattergeo"
        },
        {
         "hoverinfo": "none",
         "lat": [
          49.8175,
          47.1625,
          null
         ],
         "line": {
          "color": "rgba(255, 0, 0, 0.01126126126126126)",
          "width": 0.01126126126126126
         },
         "locationmode": "ISO-3",
         "lon": [
          15.4729,
          19.5033,
          null
         ],
         "mode": "lines",
         "type": "scattergeo"
        },
        {
         "hoverinfo": "none",
         "lat": [
          49.8175,
          44.0165,
          null
         ],
         "line": {
          "color": "rgba(255, 0, 0, 0.01126126126126126)",
          "width": 0.01126126126126126
         },
         "locationmode": "ISO-3",
         "lon": [
          15.4729,
          21.0059,
          null
         ],
         "mode": "lines",
         "type": "scattergeo"
        },
        {
         "hoverinfo": "none",
         "lat": [
          -1.8312,
          37.0902,
          null
         ],
         "line": {
          "color": "rgba(0, 0, 0, 0.8)",
          "width": 0.01126126126126126
         },
         "locationmode": "ISO-3",
         "lon": [
          -78.1834,
          -95.7129,
          null
         ],
         "mode": "lines",
         "type": "scattergeo"
        },
        {
         "hoverinfo": "none",
         "lat": [
          55.1694,
          61.524,
          null
         ],
         "line": {
          "color": "rgba(255, 0, 0, 0.01126126126126126)",
          "width": 0.01126126126126126
         },
         "locationmode": "ISO-3",
         "lon": [
          23.8813,
          105.3188,
          null
         ],
         "mode": "lines",
         "type": "scattergeo"
        },
        {
         "hoverinfo": "none",
         "lat": [
          51.1657,
          31.9522,
          null
         ],
         "line": {
          "color": "rgba(0, 0, 0, 0.8)",
          "width": 0.01126126126126126
         },
         "locationmode": "ISO-3",
         "lon": [
          10.4515,
          35.2332,
          null
         ],
         "mode": "lines",
         "type": "scattergeo"
        },
        {
         "hoverinfo": "none",
         "lat": [
          46.6034,
          31.9522,
          null
         ],
         "line": {
          "color": "rgba(0, 0, 0, 0.8)",
          "width": 0.01126126126126126
         },
         "locationmode": "ISO-3",
         "lon": [
          1.8883,
          35.2332,
          null
         ],
         "mode": "lines",
         "type": "scattergeo"
        },
        {
         "hoverinfo": "none",
         "lat": [
          50.5039,
          31.9522,
          null
         ],
         "line": {
          "color": "rgba(0, 0, 0, 0.8)",
          "width": 0.01126126126126126
         },
         "locationmode": "ISO-3",
         "lon": [
          4.4699,
          35.2332,
          null
         ],
         "mode": "lines",
         "type": "scattergeo"
        },
        {
         "hoverinfo": "none",
         "lat": [
          -35.6751,
          37.0902,
          null
         ],
         "line": {
          "color": "rgba(0, 0, 0, 0.8)",
          "width": 0.01126126126126126
         },
         "locationmode": "ISO-3",
         "lon": [
          -71.543,
          -95.7129,
          null
         ],
         "mode": "lines",
         "type": "scattergeo"
        },
        {
         "hoverinfo": "none",
         "lat": [
          22.3193,
          40.4637,
          null
         ],
         "line": {
          "color": "rgba(0, 0, 0, 0.8)",
          "width": 0.01126126126126126
         },
         "locationmode": "ISO-3",
         "lon": [
          114.1694,
          -3.7492,
          null
         ],
         "mode": "lines",
         "type": "scattergeo"
        },
        {
         "hoverinfo": "none",
         "lat": [
          46.6034,
          48.3794,
          null
         ],
         "line": {
          "color": "rgba(0, 0, 0, 0.8)",
          "width": 0.01126126126126126
         },
         "locationmode": "ISO-3",
         "lon": [
          1.8883,
          31.1656,
          null
         ],
         "mode": "lines",
         "type": "scattergeo"
        },
        {
         "hoverinfo": "none",
         "lat": [
          47.5162,
          48.3794,
          null
         ],
         "line": {
          "color": "rgba(0, 0, 0, 0.8)",
          "width": 0.01126126126126126
         },
         "locationmode": "ISO-3",
         "lon": [
          14.5501,
          31.1656,
          null
         ],
         "mode": "lines",
         "type": "scattergeo"
        },
        {
         "hoverinfo": "none",
         "lat": [
          47.5162,
          31.7917,
          null
         ],
         "line": {
          "color": "rgba(0, 0, 0, 0.8)",
          "width": 0.01126126126126126
         },
         "locationmode": "ISO-3",
         "lon": [
          14.5501,
          -7.0926,
          null
         ],
         "mode": "lines",
         "type": "scattergeo"
        },
        {
         "hoverinfo": "none",
         "lat": [
          31.7917,
          48.3794,
          null
         ],
         "line": {
          "color": "rgba(0, 0, 0, 0.8)",
          "width": 0.01126126126126126
         },
         "locationmode": "ISO-3",
         "lon": [
          -7.0926,
          31.1656,
          null
         ],
         "mode": "lines",
         "type": "scattergeo"
        },
        {
         "hoverinfo": "none",
         "lat": [
          51.1657,
          48.3794,
          null
         ],
         "line": {
          "color": "rgba(0, 0, 0, 0.8)",
          "width": 0.01126126126126126
         },
         "locationmode": "ISO-3",
         "lon": [
          10.4515,
          31.1656,
          null
         ],
         "mode": "lines",
         "type": "scattergeo"
        },
        {
         "hoverinfo": "none",
         "lat": [
          41.8719,
          48.3794,
          null
         ],
         "line": {
          "color": "rgba(0, 0, 0, 0.8)",
          "width": 0.01126126126126126
         },
         "locationmode": "ISO-3",
         "lon": [
          12.5674,
          31.1656,
          null
         ],
         "mode": "lines",
         "type": "scattergeo"
        },
        {
         "hoverinfo": "none",
         "lat": [
          51.1657,
          31.7917,
          null
         ],
         "line": {
          "color": "rgba(0, 0, 0, 0.8)",
          "width": 0.01126126126126126
         },
         "locationmode": "ISO-3",
         "lon": [
          10.4515,
          -7.0926,
          null
         ],
         "mode": "lines",
         "type": "scattergeo"
        },
        {
         "hoverinfo": "none",
         "lat": [
          51.1657,
          17.5707,
          null
         ],
         "line": {
          "color": "rgba(0, 0, 0, 0.8)",
          "width": 0.01126126126126126
         },
         "locationmode": "ISO-3",
         "lon": [
          10.4515,
          -3.9962,
          null
         ],
         "mode": "lines",
         "type": "scattergeo"
        },
        {
         "hoverinfo": "none",
         "lat": [
          46.6034,
          17.5707,
          null
         ],
         "line": {
          "color": "rgba(0, 0, 0, 0.8)",
          "width": 0.01126126126126126
         },
         "locationmode": "ISO-3",
         "lon": [
          1.8883,
          -3.9962,
          null
         ],
         "mode": "lines",
         "type": "scattergeo"
        },
        {
         "hoverinfo": "none",
         "lat": [
          36.2048,
          17.5707,
          null
         ],
         "line": {
          "color": "rgba(0, 0, 0, 0.8)",
          "width": 0.01126126126126126
         },
         "locationmode": "ISO-3",
         "lon": [
          138.2529,
          -3.9962,
          null
         ],
         "mode": "lines",
         "type": "scattergeo"
        },
        {
         "hoverinfo": "none",
         "lat": [
          12.2383,
          36.2048,
          null
         ],
         "line": {
          "color": "rgba(0, 0, 0, 0.8)",
          "width": 0.01126126126126126
         },
         "locationmode": "ISO-3",
         "lon": [
          -1.5616,
          138.2529,
          null
         ],
         "mode": "lines",
         "type": "scattergeo"
        },
        {
         "hoverinfo": "none",
         "lat": [
          12.2383,
          17.5707,
          null
         ],
         "line": {
          "color": "rgba(0, 0, 0, 0.8)",
          "width": 0.01126126126126126
         },
         "locationmode": "ISO-3",
         "lon": [
          -1.5616,
          -3.9962,
          null
         ],
         "mode": "lines",
         "type": "scattergeo"
        },
        {
         "hoverinfo": "none",
         "lat": [
          41.8719,
          38.9637,
          null
         ],
         "line": {
          "color": "rgba(0, 0, 0, 0.8)",
          "width": 0.01126126126126126
         },
         "locationmode": "ISO-3",
         "lon": [
          12.5674,
          35.2433,
          null
         ],
         "mode": "lines",
         "type": "scattergeo"
        },
        {
         "hoverinfo": "none",
         "lat": [
          31.7917,
          55.3781,
          null
         ],
         "line": {
          "color": "rgba(0, 0, 0, 0.8)",
          "width": 0.01126126126126126
         },
         "locationmode": "ISO-3",
         "lon": [
          -7.0926,
          -3.436,
          null
         ],
         "mode": "lines",
         "type": "scattergeo"
        },
        {
         "hoverinfo": "none",
         "lat": [
          52.1326,
          -30.5595,
          null
         ],
         "line": {
          "color": "rgba(0, 0, 0, 0.8)",
          "width": 0.01126126126126126
         },
         "locationmode": "ISO-3",
         "lon": [
          5.2913,
          22.9375,
          null
         ],
         "mode": "lines",
         "type": "scattergeo"
        },
        {
         "hoverinfo": "text",
         "hovertext": [
          "Russia : 10853",
          "Germany : 645",
          "Italy : 1374",
          "United States of America : 8239",
          "Estonia : 72",
          "Ukraine : 280",
          "Switzerland : 87",
          "Lithuania : 228",
          "France : 1361",
          "Egypt : 11",
          "United Kingdom : 1713",
          "India : 166",
          "Hong Kong : 273",
          "Costa Rica : 3",
          "Spain : 334",
          "Canada : 336",
          "Latvia : 55",
          "Hungary : 59",
          "Japan : 640",
          "Poland : 111",
          "Denmark : 84",
          "Korea : 34",
          "Croatia : 34",
          "Austria : 53",
          "Philippines : 36",
          "Portugal : 31",
          "Taiwan : 58",
          "Georgia : 27",
          "Romania : 27",
          "Australia : 160",
          "South Africa : 23",
          "Luxembourg : 8",
          "Sweden : 190",
          "Ireland : 35",
          "Greece : 49",
          "Uruguay : 1",
          "Argentina : 39",
          "Belgium : 73",
          "Netherlands : 74",
          "Czech Republic : 85",
          "Bangladesh : 1",
          "New Zealand : 28",
          "Albania : 1",
          "Finland : 87",
          "Iceland : 9",
          "Liechtenstein : 9",
          "Iran : 29",
          "Zimbabwe : 3",
          "Norway : 33",
          "Bosnia and Herzegovina : 16",
          "Cuba : 14",
          "Peru : 7",
          "Israel : 24",
          "Uzbekistan : 16",
          "China : 41",
          "Mexico : 114",
          "Azerbaijan : 3",
          "Bolivia : 2",
          "Brazil : 44",
          "Venezuela : 7",
          "Serbia : 39",
          "Macedonia : 2",
          "Monaco : 3",
          "Slovakia : 12",
          "Turkey : 31",
          "Senegal : 9",
          "Qatar : 1",
          "Tunisia : 7",
          "Cote D'Ivoire : 1",
          "Belarus : 11",
          "Armenia : 10",
          "Algeria : 7",
          "Thailand : 6",
          "Colombia : 3",
          "Chile : 8",
          "Singapore : 3",
          "Ghana : 2",
          "Morocco : 7",
          "Vietnam : 3",
          "Slovenia : 2",
          "Pakistan : 2",
          "Montenegro : 2",
          "Namibia : 3",
          "Bulgaria : 8",
          "Yugoslavia : 2",
          "Moldova : 3",
          "Burkina Faso : 4",
          "Aruba : 1",
          "Czechoslovakia : 4",
          "Ethiopia : 1",
          "Jordan : 1",
          "Puerto Rico : 4",
          "Kazakhstan : 7",
          "Indonesia : 4",
          "Congo : 1",
          "Libya : 1",
          "Bhutan : 1",
          "Jamaica : 2",
          "Mauritania : 4",
          "Angola : 1",
          "Turkmenistan : 2",
          "Panama : 3",
          "Afghanistan : 1",
          "Martinique : 1",
          "Trinidad and Tobago : 1",
          "Syria : 1",
          "Kyrgyzstan : 2",
          "Botswana : 2",
          "Guinea : 1",
          "Bahamas : 1",
          "Papua New Guinea : 1",
          "Ecuador : 1",
          "Palestinian Territory : 1",
          "Mali : 1"
         ],
         "lat": [
          61.524,
          51.1657,
          41.8719,
          37.0902,
          58.5953,
          48.3794,
          46.8182,
          55.1694,
          46.6034,
          26.8206,
          55.3781,
          20.5937,
          22.3193,
          9.7489,
          40.4637,
          56.1304,
          56.8796,
          47.1625,
          36.2048,
          51.9194,
          56.2639,
          35.9078,
          45.1,
          47.5162,
          12.8797,
          39.3999,
          23.6978,
          42.3154,
          45.9432,
          -25.2744,
          -30.5595,
          49.8153,
          60.1282,
          53.1424,
          39.0742,
          -32.5228,
          -38.4161,
          50.5039,
          52.1326,
          49.8175,
          23.685,
          -40.9006,
          41.1533,
          61.9241,
          64.9631,
          47.166,
          32.4279,
          -19.0154,
          60.472,
          43.9159,
          21.5218,
          -9.1899,
          31.0461,
          41.3775,
          35.8617,
          23.6345,
          40.1431,
          -16.2902,
          -14.235,
          6.4238,
          44.0165,
          41.6086,
          43.7384,
          48.669,
          38.9637,
          14.4974,
          25.276,
          33.8869,
          7.5399,
          53.7098,
          40.0691,
          28.0339,
          15.87,
          4.5709,
          -35.6751,
          1.3521,
          7.9465,
          31.7917,
          14.0583,
          46.1512,
          30.3753,
          42.7087,
          -22.9576,
          42.7339,
          44.0165,
          47.4116,
          12.2383,
          12.5211,
          49.8175,
          9.145,
          30.5852,
          18.2208,
          48.0196,
          -0.7893,
          -0.228,
          26.3351,
          27.5142,
          18.1096,
          21.0079,
          -11.2027,
          38.9697,
          8.5379,
          33.9391,
          14.6415,
          10.6918,
          34.8021,
          41.2044,
          -22.3285,
          9.9456,
          25.0343,
          -6.3149,
          -1.8312,
          31.9522,
          17.5707
         ],
         "locationmode": "ISO-3",
         "lon": [
          105.3188,
          10.4515,
          12.5674,
          -95.7129,
          25.0136,
          31.1656,
          8.2275,
          23.8813,
          1.8883,
          30.8025,
          -3.436,
          78.9629,
          114.1694,
          -83.7534,
          -3.7492,
          -106.3468,
          24.6032,
          19.5033,
          138.2529,
          19.1451,
          9.5018,
          127.7669,
          15.2,
          14.5501,
          121.774,
          -8.2245,
          120.9605,
          43.3569,
          24.9668,
          133.7751,
          22.9375,
          6.1296,
          18.6435,
          -7.6921,
          21.8243,
          -55.7658,
          -63.6167,
          4.4699,
          5.2913,
          15.4729,
          90.3563,
          174.886,
          20.1683,
          25.7482,
          -19.0208,
          9.5554,
          53.688,
          29.1549,
          8.4689,
          17.6791,
          -77.7812,
          -75.0152,
          34.8516,
          64.5853,
          104.1954,
          -102.5528,
          47.5769,
          -63.5887,
          -51.9253,
          -66.5897,
          21.0059,
          21.7453,
          7.4246,
          19.699,
          35.2433,
          -14.4524,
          51.2148,
          9.5375,
          -5.5471,
          27.9534,
          45.0382,
          1.6596,
          100.9925,
          -74.2973,
          -71.543,
          103.8198,
          -1.0232,
          -7.0926,
          108.2772,
          14.9955,
          69.3451,
          19.3744,
          18.4904,
          25.4858,
          21.0059,
          28.3699,
          -1.5616,
          -69.9683,
          15.4729,
          40.4897,
          36.2384,
          -66.5901,
          66.9237,
          113.9213,
          15.8277,
          17.2283,
          90.4336,
          -77.2975,
          -10.9408,
          17.8739,
          59.5563,
          -80.7821,
          67.71,
          -61.0242,
          -61.2225,
          38.9968,
          74.7661,
          24.6849,
          -9.6966,
          -77.3963,
          143.9555,
          -78.1834,
          35.2332,
          -3.9962
         ],
         "marker": {
          "color": [
           "red",
           "blue",
           "blue",
           "blue",
           "red",
           "grey",
           "grey",
           "red",
           "blue",
           "grey",
           "blue",
           "red",
           "grey",
           "lightyellow",
           "blue",
           "blue",
           "red",
           "red",
           "grey",
           "red",
           "grey",
           "grey",
           "blue",
           "grey",
           "grey",
           "grey",
           "grey",
           "red",
           "grey",
           "blue",
           "grey",
           "lightyellow",
           "grey",
           "grey",
           "grey",
           "lightyellow",
           "grey",
           "blue",
           "grey",
           "red",
           "lightyellow",
           "grey",
           "lightyellow",
           "grey",
           "lightyellow",
           "lightyellow",
           "grey",
           "lightyellow",
           "grey",
           "grey",
           "red",
           "lightyellow",
           "grey",
           "grey",
           "red",
           "blue",
           "lightyellow",
           "lightyellow",
           "grey",
           "lightyellow",
           "red",
           "lightyellow",
           "lightyellow",
           "grey",
           "grey",
           "lightyellow",
           "lightyellow",
           "lightyellow",
           "lightyellow",
           "grey",
           "grey",
           "lightyellow",
           "lightyellow",
           "lightyellow",
           "lightyellow",
           "lightyellow",
           "lightyellow",
           "lightyellow",
           "lightyellow",
           "lightyellow",
           "lightyellow",
           "lightyellow",
           "lightyellow",
           "lightyellow",
           "lightyellow",
           "lightyellow",
           "lightyellow",
           "lightyellow",
           "lightyellow",
           "lightyellow",
           "lightyellow",
           "lightyellow",
           "lightyellow",
           "lightyellow",
           "lightyellow",
           "lightyellow",
           "lightyellow",
           "lightyellow",
           "lightyellow",
           "lightyellow",
           "lightyellow",
           "lightyellow",
           "lightyellow",
           "lightyellow",
           "lightyellow",
           "lightyellow",
           "lightyellow",
           "lightyellow",
           "lightyellow",
           "lightyellow",
           "lightyellow",
           "lightyellow",
           "lightyellow",
           "lightyellow"
          ],
          "line": {
           "color": "black",
           "width": 0.5
          },
          "size": [
           52.08886637276722,
           12.698425099200294,
           18.533752992850637,
           45.38446870901983,
           4.242640687119285,
           8.366600265340756,
           4.663689526544408,
           7.54983443527075,
           18.445866745696716,
           1.6583123951777,
           20.694202086574876,
           6.442049363362563,
           8.261355820929152,
           0.8660254037844386,
           9.137833441248533,
           9.16515138991168,
           3.7080992435478315,
           3.840572873934304,
           12.649110640673518,
           5.267826876426369,
           4.58257569495584,
           2.9154759474226504,
           2.9154759474226504,
           3.640054944640259,
           3,
           2.7838821814150108,
           3.8078865529319543,
           2.598076211353316,
           2.598076211353316,
           6.324555320336759,
           2.3979157616563596,
           1.4142135623730951,
           6.892024376045111,
           2.958039891549808,
           3.5,
           0.5,
           3.122498999199199,
           4.272001872658765,
           4.301162633521313,
           4.6097722286464435,
           0.5,
           2.6457513110645907,
           0.5,
           4.663689526544408,
           1.5,
           1.5,
           2.692582403567252,
           0.8660254037844386,
           2.8722813232690143,
           2,
           1.8708286933869707,
           1.3228756555322954,
           2.449489742783178,
           2,
           3.2015621187164243,
           5.338539126015656,
           0.8660254037844386,
           0.7071067811865476,
           3.3166247903554,
           1.3228756555322954,
           3.122498999199199,
           0.7071067811865476,
           0.8660254037844386,
           1.7320508075688772,
           2.7838821814150108,
           1.5,
           0.5,
           1.3228756555322954,
           0.5,
           1.6583123951777,
           1.5811388300841898,
           1.3228756555322954,
           1.224744871391589,
           0.8660254037844386,
           1.4142135623730951,
           0.8660254037844386,
           0.7071067811865476,
           1.3228756555322954,
           0.8660254037844386,
           0.7071067811865476,
           0.7071067811865476,
           0.7071067811865476,
           0.8660254037844386,
           1.4142135623730951,
           0.7071067811865476,
           0.8660254037844386,
           1,
           0.5,
           1,
           0.5,
           0.5,
           1,
           1.3228756555322954,
           1,
           0.5,
           0.5,
           0.5,
           0.7071067811865476,
           1,
           0.5,
           0.7071067811865476,
           0.8660254037844386,
           0.5,
           0.5,
           0.5,
           0.5,
           0.7071067811865476,
           0.7071067811865476,
           0.5,
           0.5,
           0.5,
           0.5,
           0.5,
           0.5
          ]
         },
         "mode": "markers",
         "type": "scattergeo"
        }
       ],
       "layout": {
        "geo": {
         "landcolor": "rgb(217, 217, 217)",
         "projection": {
          "type": "natural earth"
         },
         "showcountries": true,
         "showland": true
        },
        "showlegend": false,
        "template": {
         "data": {
          "bar": [
           {
            "error_x": {
             "color": "#2a3f5f"
            },
            "error_y": {
             "color": "#2a3f5f"
            },
            "marker": {
             "line": {
              "color": "#E5ECF6",
              "width": 0.5
             },
             "pattern": {
              "fillmode": "overlay",
              "size": 10,
              "solidity": 0.2
             }
            },
            "type": "bar"
           }
          ],
          "barpolar": [
           {
            "marker": {
             "line": {
              "color": "#E5ECF6",
              "width": 0.5
             },
             "pattern": {
              "fillmode": "overlay",
              "size": 10,
              "solidity": 0.2
             }
            },
            "type": "barpolar"
           }
          ],
          "carpet": [
           {
            "aaxis": {
             "endlinecolor": "#2a3f5f",
             "gridcolor": "white",
             "linecolor": "white",
             "minorgridcolor": "white",
             "startlinecolor": "#2a3f5f"
            },
            "baxis": {
             "endlinecolor": "#2a3f5f",
             "gridcolor": "white",
             "linecolor": "white",
             "minorgridcolor": "white",
             "startlinecolor": "#2a3f5f"
            },
            "type": "carpet"
           }
          ],
          "choropleth": [
           {
            "colorbar": {
             "outlinewidth": 0,
             "ticks": ""
            },
            "type": "choropleth"
           }
          ],
          "contour": [
           {
            "colorbar": {
             "outlinewidth": 0,
             "ticks": ""
            },
            "colorscale": [
             [
              0,
              "#0d0887"
             ],
             [
              0.1111111111111111,
              "#46039f"
             ],
             [
              0.2222222222222222,
              "#7201a8"
             ],
             [
              0.3333333333333333,
              "#9c179e"
             ],
             [
              0.4444444444444444,
              "#bd3786"
             ],
             [
              0.5555555555555556,
              "#d8576b"
             ],
             [
              0.6666666666666666,
              "#ed7953"
             ],
             [
              0.7777777777777778,
              "#fb9f3a"
             ],
             [
              0.8888888888888888,
              "#fdca26"
             ],
             [
              1,
              "#f0f921"
             ]
            ],
            "type": "contour"
           }
          ],
          "contourcarpet": [
           {
            "colorbar": {
             "outlinewidth": 0,
             "ticks": ""
            },
            "type": "contourcarpet"
           }
          ],
          "heatmap": [
           {
            "colorbar": {
             "outlinewidth": 0,
             "ticks": ""
            },
            "colorscale": [
             [
              0,
              "#0d0887"
             ],
             [
              0.1111111111111111,
              "#46039f"
             ],
             [
              0.2222222222222222,
              "#7201a8"
             ],
             [
              0.3333333333333333,
              "#9c179e"
             ],
             [
              0.4444444444444444,
              "#bd3786"
             ],
             [
              0.5555555555555556,
              "#d8576b"
             ],
             [
              0.6666666666666666,
              "#ed7953"
             ],
             [
              0.7777777777777778,
              "#fb9f3a"
             ],
             [
              0.8888888888888888,
              "#fdca26"
             ],
             [
              1,
              "#f0f921"
             ]
            ],
            "type": "heatmap"
           }
          ],
          "heatmapgl": [
           {
            "colorbar": {
             "outlinewidth": 0,
             "ticks": ""
            },
            "colorscale": [
             [
              0,
              "#0d0887"
             ],
             [
              0.1111111111111111,
              "#46039f"
             ],
             [
              0.2222222222222222,
              "#7201a8"
             ],
             [
              0.3333333333333333,
              "#9c179e"
             ],
             [
              0.4444444444444444,
              "#bd3786"
             ],
             [
              0.5555555555555556,
              "#d8576b"
             ],
             [
              0.6666666666666666,
              "#ed7953"
             ],
             [
              0.7777777777777778,
              "#fb9f3a"
             ],
             [
              0.8888888888888888,
              "#fdca26"
             ],
             [
              1,
              "#f0f921"
             ]
            ],
            "type": "heatmapgl"
           }
          ],
          "histogram": [
           {
            "marker": {
             "pattern": {
              "fillmode": "overlay",
              "size": 10,
              "solidity": 0.2
             }
            },
            "type": "histogram"
           }
          ],
          "histogram2d": [
           {
            "colorbar": {
             "outlinewidth": 0,
             "ticks": ""
            },
            "colorscale": [
             [
              0,
              "#0d0887"
             ],
             [
              0.1111111111111111,
              "#46039f"
             ],
             [
              0.2222222222222222,
              "#7201a8"
             ],
             [
              0.3333333333333333,
              "#9c179e"
             ],
             [
              0.4444444444444444,
              "#bd3786"
             ],
             [
              0.5555555555555556,
              "#d8576b"
             ],
             [
              0.6666666666666666,
              "#ed7953"
             ],
             [
              0.7777777777777778,
              "#fb9f3a"
             ],
             [
              0.8888888888888888,
              "#fdca26"
             ],
             [
              1,
              "#f0f921"
             ]
            ],
            "type": "histogram2d"
           }
          ],
          "histogram2dcontour": [
           {
            "colorbar": {
             "outlinewidth": 0,
             "ticks": ""
            },
            "colorscale": [
             [
              0,
              "#0d0887"
             ],
             [
              0.1111111111111111,
              "#46039f"
             ],
             [
              0.2222222222222222,
              "#7201a8"
             ],
             [
              0.3333333333333333,
              "#9c179e"
             ],
             [
              0.4444444444444444,
              "#bd3786"
             ],
             [
              0.5555555555555556,
              "#d8576b"
             ],
             [
              0.6666666666666666,
              "#ed7953"
             ],
             [
              0.7777777777777778,
              "#fb9f3a"
             ],
             [
              0.8888888888888888,
              "#fdca26"
             ],
             [
              1,
              "#f0f921"
             ]
            ],
            "type": "histogram2dcontour"
           }
          ],
          "mesh3d": [
           {
            "colorbar": {
             "outlinewidth": 0,
             "ticks": ""
            },
            "type": "mesh3d"
           }
          ],
          "parcoords": [
           {
            "line": {
             "colorbar": {
              "outlinewidth": 0,
              "ticks": ""
             }
            },
            "type": "parcoords"
           }
          ],
          "pie": [
           {
            "automargin": true,
            "type": "pie"
           }
          ],
          "scatter": [
           {
            "fillpattern": {
             "fillmode": "overlay",
             "size": 10,
             "solidity": 0.2
            },
            "type": "scatter"
           }
          ],
          "scatter3d": [
           {
            "line": {
             "colorbar": {
              "outlinewidth": 0,
              "ticks": ""
             }
            },
            "marker": {
             "colorbar": {
              "outlinewidth": 0,
              "ticks": ""
             }
            },
            "type": "scatter3d"
           }
          ],
          "scattercarpet": [
           {
            "marker": {
             "colorbar": {
              "outlinewidth": 0,
              "ticks": ""
             }
            },
            "type": "scattercarpet"
           }
          ],
          "scattergeo": [
           {
            "marker": {
             "colorbar": {
              "outlinewidth": 0,
              "ticks": ""
             }
            },
            "type": "scattergeo"
           }
          ],
          "scattergl": [
           {
            "marker": {
             "colorbar": {
              "outlinewidth": 0,
              "ticks": ""
             }
            },
            "type": "scattergl"
           }
          ],
          "scattermapbox": [
           {
            "marker": {
             "colorbar": {
              "outlinewidth": 0,
              "ticks": ""
             }
            },
            "type": "scattermapbox"
           }
          ],
          "scatterpolar": [
           {
            "marker": {
             "colorbar": {
              "outlinewidth": 0,
              "ticks": ""
             }
            },
            "type": "scatterpolar"
           }
          ],
          "scatterpolargl": [
           {
            "marker": {
             "colorbar": {
              "outlinewidth": 0,
              "ticks": ""
             }
            },
            "type": "scatterpolargl"
           }
          ],
          "scatterternary": [
           {
            "marker": {
             "colorbar": {
              "outlinewidth": 0,
              "ticks": ""
             }
            },
            "type": "scatterternary"
           }
          ],
          "surface": [
           {
            "colorbar": {
             "outlinewidth": 0,
             "ticks": ""
            },
            "colorscale": [
             [
              0,
              "#0d0887"
             ],
             [
              0.1111111111111111,
              "#46039f"
             ],
             [
              0.2222222222222222,
              "#7201a8"
             ],
             [
              0.3333333333333333,
              "#9c179e"
             ],
             [
              0.4444444444444444,
              "#bd3786"
             ],
             [
              0.5555555555555556,
              "#d8576b"
             ],
             [
              0.6666666666666666,
              "#ed7953"
             ],
             [
              0.7777777777777778,
              "#fb9f3a"
             ],
             [
              0.8888888888888888,
              "#fdca26"
             ],
             [
              1,
              "#f0f921"
             ]
            ],
            "type": "surface"
           }
          ],
          "table": [
           {
            "cells": {
             "fill": {
              "color": "#EBF0F8"
             },
             "line": {
              "color": "white"
             }
            },
            "header": {
             "fill": {
              "color": "#C8D4E3"
             },
             "line": {
              "color": "white"
             }
            },
            "type": "table"
           }
          ]
         },
         "layout": {
          "annotationdefaults": {
           "arrowcolor": "#2a3f5f",
           "arrowhead": 0,
           "arrowwidth": 1
          },
          "autotypenumbers": "strict",
          "coloraxis": {
           "colorbar": {
            "outlinewidth": 0,
            "ticks": ""
           }
          },
          "colorscale": {
           "diverging": [
            [
             0,
             "#8e0152"
            ],
            [
             0.1,
             "#c51b7d"
            ],
            [
             0.2,
             "#de77ae"
            ],
            [
             0.3,
             "#f1b6da"
            ],
            [
             0.4,
             "#fde0ef"
            ],
            [
             0.5,
             "#f7f7f7"
            ],
            [
             0.6,
             "#e6f5d0"
            ],
            [
             0.7,
             "#b8e186"
            ],
            [
             0.8,
             "#7fbc41"
            ],
            [
             0.9,
             "#4d9221"
            ],
            [
             1,
             "#276419"
            ]
           ],
           "sequential": [
            [
             0,
             "#0d0887"
            ],
            [
             0.1111111111111111,
             "#46039f"
            ],
            [
             0.2222222222222222,
             "#7201a8"
            ],
            [
             0.3333333333333333,
             "#9c179e"
            ],
            [
             0.4444444444444444,
             "#bd3786"
            ],
            [
             0.5555555555555556,
             "#d8576b"
            ],
            [
             0.6666666666666666,
             "#ed7953"
            ],
            [
             0.7777777777777778,
             "#fb9f3a"
            ],
            [
             0.8888888888888888,
             "#fdca26"
            ],
            [
             1,
             "#f0f921"
            ]
           ],
           "sequentialminus": [
            [
             0,
             "#0d0887"
            ],
            [
             0.1111111111111111,
             "#46039f"
            ],
            [
             0.2222222222222222,
             "#7201a8"
            ],
            [
             0.3333333333333333,
             "#9c179e"
            ],
            [
             0.4444444444444444,
             "#bd3786"
            ],
            [
             0.5555555555555556,
             "#d8576b"
            ],
            [
             0.6666666666666666,
             "#ed7953"
            ],
            [
             0.7777777777777778,
             "#fb9f3a"
            ],
            [
             0.8888888888888888,
             "#fdca26"
            ],
            [
             1,
             "#f0f921"
            ]
           ]
          },
          "colorway": [
           "#636efa",
           "#EF553B",
           "#00cc96",
           "#ab63fa",
           "#FFA15A",
           "#19d3f3",
           "#FF6692",
           "#B6E880",
           "#FF97FF",
           "#FECB52"
          ],
          "font": {
           "color": "#2a3f5f"
          },
          "geo": {
           "bgcolor": "white",
           "lakecolor": "white",
           "landcolor": "#E5ECF6",
           "showlakes": true,
           "showland": true,
           "subunitcolor": "white"
          },
          "hoverlabel": {
           "align": "left"
          },
          "hovermode": "closest",
          "mapbox": {
           "style": "light"
          },
          "paper_bgcolor": "white",
          "plot_bgcolor": "#E5ECF6",
          "polar": {
           "angularaxis": {
            "gridcolor": "white",
            "linecolor": "white",
            "ticks": ""
           },
           "bgcolor": "#E5ECF6",
           "radialaxis": {
            "gridcolor": "white",
            "linecolor": "white",
            "ticks": ""
           }
          },
          "scene": {
           "xaxis": {
            "backgroundcolor": "#E5ECF6",
            "gridcolor": "white",
            "gridwidth": 2,
            "linecolor": "white",
            "showbackground": true,
            "ticks": "",
            "zerolinecolor": "white"
           },
           "yaxis": {
            "backgroundcolor": "#E5ECF6",
            "gridcolor": "white",
            "gridwidth": 2,
            "linecolor": "white",
            "showbackground": true,
            "ticks": "",
            "zerolinecolor": "white"
           },
           "zaxis": {
            "backgroundcolor": "#E5ECF6",
            "gridcolor": "white",
            "gridwidth": 2,
            "linecolor": "white",
            "showbackground": true,
            "ticks": "",
            "zerolinecolor": "white"
           }
          },
          "shapedefaults": {
           "line": {
            "color": "#2a3f5f"
           }
          },
          "ternary": {
           "aaxis": {
            "gridcolor": "white",
            "linecolor": "white",
            "ticks": ""
           },
           "baxis": {
            "gridcolor": "white",
            "linecolor": "white",
            "ticks": ""
           },
           "bgcolor": "#E5ECF6",
           "caxis": {
            "gridcolor": "white",
            "linecolor": "white",
            "ticks": ""
           }
          },
          "title": {
           "x": 0.05
          },
          "xaxis": {
           "automargin": true,
           "gridcolor": "white",
           "linecolor": "white",
           "ticks": "",
           "title": {
            "standoff": 15
           },
           "zerolinecolor": "white",
           "zerolinewidth": 2
          },
          "yaxis": {
           "automargin": true,
           "gridcolor": "white",
           "linecolor": "white",
           "ticks": "",
           "title": {
            "standoff": 15
           },
           "zerolinecolor": "white",
           "zerolinewidth": 2
          }
         }
        }
       }
      }
     },
     "metadata": {},
     "output_type": "display_data"
    }
   ],
   "source": [
    "map = StaticMap(movies)\n",
    "map.create_figure()\n",
    "map.plot()"
   ]
  },
  {
   "cell_type": "markdown",
   "metadata": {},
   "source": [
    "## Observations\n",
    "\n",
    "Both visualizations of movies co-productions during the Cold War offers an insight into the political dynamics of the time. We have to keep in mind that, in this representation, the former countries of the USSR are considered individually, allowing for a nuanced understanding of their international relations.\n",
    "\n",
    "A key observation is the tendency to form numerous co-productions between the United States and the Western European countries. This surge in collaborations could be seen as a strategic effort from the US to strengthen political and cultural ties with allies, using film as a tool for soft power during the Cold War.\n",
    "\n",
    "In stark contrast, the USSR appears to have limited co-production in the film industry. This lack of collaboration may be attributed to the desire of Soviet authorities to retain full control over the narratives, allowing them to use cinema as a vehicle for their propaganda. This theory is further supported by the highly centralized nature of the Soviet film industry, where the government tightly regulated production, unlike in the more decentralized Western bloc. Additionally, it is worth considering the cultural context. [The theatre attendance in the USSR during this period was significantly higher than in the US](https://www.statista.com/statistics/1249401/movie-theater-attendance-us-ussr-cold-war/), suggesting that the domestic market was flourishing enough to reduce the urgency for international collaborations.\n",
    "\n",
    "Interestingly, despite occasional connections with Western nations, the countries situated in the center and north of Europe preserved their neutral positioning, navigating the global tension with cautious diplomacy. Switzerland, for instance, got some ties with the Western bloc in film productions and yet remained largely neutral in its political engagement.\n",
    "\n",
    "Japan and Hong Kong present unique cases in the graph. Japan, while often neutral in its Cold War alignment, shows a notable collaboration with the US, revealing an underlying rapprochement despite the country's apparent neutrality. On the other hand, Hong Kong, though geographically in communist China, remains neutral in the context of the Cold War. That’s because of the city’s historical ties to the UK, making it a unique strategic position at the crossroads of East and Western ideologies."
   ]
  },
  {
   "cell_type": "markdown",
   "metadata": {},
   "source": [
    "## Additional material\n",
    "\n",
    "The previous graph representations included all countries and all connections between them. If you wish to go deeper into the exploration, we provide two interactive plots that allow you to adjust the minimum number of movies required for a country to be represented and the minimum number of co-productions needed for a connection to be displayed.\n",
    "\n",
    "N.B: Only the first graph is plot here. The code line to display the other one is commented. "
   ]
  },
  {
   "cell_type": "code",
   "execution_count": 12,
   "metadata": {},
   "outputs": [
    {
     "data": {
      "text/html": [
       "\n",
       "        <iframe\n",
       "            width=\"100%\"\n",
       "            height=\"650\"\n",
       "            src=\"http://127.0.0.1:8050/\"\n",
       "            frameborder=\"0\"\n",
       "            allowfullscreen\n",
       "            \n",
       "        ></iframe>\n",
       "        "
      ],
      "text/plain": [
       "<IPython.lib.display.IFrame at 0x2005fa837a0>"
      ]
     },
     "metadata": {},
     "output_type": "display_data"
    }
   ],
   "source": [
    "dynamic_graph = DynamicGraph(movies)\n",
    "dynamic_graph.plot()\n",
    "\n",
    "#dynamic_map = DynamicMap(movies)\n",
    "#dynamic_map.plot()"
   ]
  }
 ],
 "metadata": {
  "kernelspec": {
   "display_name": "base",
   "language": "python",
   "name": "python3"
  },
  "language_info": {
   "codemirror_mode": {
    "name": "ipython",
    "version": 3
   },
   "file_extension": ".py",
   "mimetype": "text/x-python",
   "name": "python",
   "nbconvert_exporter": "python",
   "pygments_lexer": "ipython3",
   "version": "3.12.4"
  }
 },
 "nbformat": 4,
 "nbformat_minor": 2
}
