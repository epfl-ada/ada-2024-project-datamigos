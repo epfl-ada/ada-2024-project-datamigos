{
 "cells": [
  {
   "cell_type": "code",
   "execution_count": 41,
   "metadata": {},
   "outputs": [],
   "source": [
    "import dash\n",
    "from dash import Dash, dcc, html, Input, Output\n",
    "import pandas as pd\n",
    "import plotly.graph_objects as go\n",
    "import networkx as nx\n",
    "import matplotlib.pyplot as plt\n",
    "import numpy as np\n",
    "from collections import Counter\n",
    "from itertools import combinations\n",
    "from src.utils.helpers import convert_csv, assign_side\n",
    "from src.constants import *"
   ]
  },
  {
   "cell_type": "code",
   "execution_count": 42,
   "metadata": {},
   "outputs": [
    {
     "data": {
      "text/html": [
       "<div>\n",
       "<style scoped>\n",
       "    .dataframe tbody tr th:only-of-type {\n",
       "        vertical-align: middle;\n",
       "    }\n",
       "\n",
       "    .dataframe tbody tr th {\n",
       "        vertical-align: top;\n",
       "    }\n",
       "\n",
       "    .dataframe thead th {\n",
       "        text-align: right;\n",
       "    }\n",
       "</style>\n",
       "<table border=\"1\" class=\"dataframe\">\n",
       "  <thead>\n",
       "    <tr style=\"text-align: right;\">\n",
       "      <th></th>\n",
       "      <th>wikipedia_id</th>\n",
       "      <th>freebase_id</th>\n",
       "      <th>title</th>\n",
       "      <th>languages</th>\n",
       "      <th>countries</th>\n",
       "      <th>genres</th>\n",
       "      <th>keywords</th>\n",
       "      <th>release_date</th>\n",
       "      <th>runtime</th>\n",
       "      <th>plot_summary</th>\n",
       "      <th>cold_war_side</th>\n",
       "      <th>character_western_bloc_representation</th>\n",
       "      <th>character_eastern_bloc_representation</th>\n",
       "      <th>western_bloc_values</th>\n",
       "      <th>eastern_bloc_values</th>\n",
       "      <th>theme</th>\n",
       "    </tr>\n",
       "  </thead>\n",
       "  <tbody>\n",
       "    <tr>\n",
       "      <th>0</th>\n",
       "      <td>4213160.0</td>\n",
       "      <td>/m/0bq8q8</td>\n",
       "      <td>$</td>\n",
       "      <td>NaN</td>\n",
       "      <td>[Russia]</td>\n",
       "      <td>[Comedy, Crime, Drama]</td>\n",
       "      <td>NaN</td>\n",
       "      <td>1971</td>\n",
       "      <td>119.0</td>\n",
       "      <td>Set in Hamburg, West Germany, several criminal...</td>\n",
       "      <td>Western</td>\n",
       "      <td>[Joe Collins, American bank security consultan...</td>\n",
       "      <td>[Dawn Divine, hooker with a heart of gold, cun...</td>\n",
       "      <td>[None]</td>\n",
       "      <td>[Resourcefulness, cleverness, individualism, h...</td>\n",
       "      <td>[None]</td>\n",
       "    </tr>\n",
       "    <tr>\n",
       "      <th>1</th>\n",
       "      <td>NaN</td>\n",
       "      <td>NaN</td>\n",
       "      <td>$1,000 on the Black</td>\n",
       "      <td>[German, Italian]</td>\n",
       "      <td>[Germany, Italy]</td>\n",
       "      <td>[Western]</td>\n",
       "      <td>NaN</td>\n",
       "      <td>1966</td>\n",
       "      <td>104.0</td>\n",
       "      <td>Johnny Liston has just been released from pris...</td>\n",
       "      <td>Eastern</td>\n",
       "      <td>[None]</td>\n",
       "      <td>[Sartana, villainous, oppressive, cruel, arche...</td>\n",
       "      <td>[Johnny Liston, justice, determination, resili...</td>\n",
       "      <td>[Justice, revenge, oppressed vs. oppressor, re...</td>\n",
       "      <td>[Terror, betrayal, familial conflict, crime, r...</td>\n",
       "    </tr>\n",
       "    <tr>\n",
       "      <th>2</th>\n",
       "      <td>NaN</td>\n",
       "      <td>NaN</td>\n",
       "      <td>$10,000 Blood Money</td>\n",
       "      <td>NaN</td>\n",
       "      <td>[Russia]</td>\n",
       "      <td>[Western, Drama]</td>\n",
       "      <td>NaN</td>\n",
       "      <td>1967</td>\n",
       "      <td>NaN</td>\n",
       "      <td>Hired by a Mexican landowner to rescue his dau...</td>\n",
       "      <td>None</td>\n",
       "      <td>[None]</td>\n",
       "      <td>[None]</td>\n",
       "      <td>[None]</td>\n",
       "      <td>[None]</td>\n",
       "      <td>[crime, betrayal, revenge, bounty hunter, heis...</td>\n",
       "    </tr>\n",
       "    <tr>\n",
       "      <th>3</th>\n",
       "      <td>NaN</td>\n",
       "      <td>NaN</td>\n",
       "      <td>$100,000 for Ringo</td>\n",
       "      <td>[Italian]</td>\n",
       "      <td>[Italy]</td>\n",
       "      <td>[Western, Drama]</td>\n",
       "      <td>[spaghetti western, whipping]</td>\n",
       "      <td>1965</td>\n",
       "      <td>98.0</td>\n",
       "      <td>A stranger rides into Rainbow Valley where he'...</td>\n",
       "      <td>None</td>\n",
       "      <td>[None]</td>\n",
       "      <td>[None]</td>\n",
       "      <td>[None]</td>\n",
       "      <td>[None]</td>\n",
       "      <td>[Western, Civil War, mistaken identity, treasu...</td>\n",
       "    </tr>\n",
       "    <tr>\n",
       "      <th>4</th>\n",
       "      <td>NaN</td>\n",
       "      <td>NaN</td>\n",
       "      <td>'Anna' i wampir</td>\n",
       "      <td>NaN</td>\n",
       "      <td>[Russia]</td>\n",
       "      <td>[Crime]</td>\n",
       "      <td>NaN</td>\n",
       "      <td>1982</td>\n",
       "      <td>NaN</td>\n",
       "      <td>Silesia in Poland, late 60s. Bodies of vicious...</td>\n",
       "      <td>None</td>\n",
       "      <td>[None]</td>\n",
       "      <td>[None]</td>\n",
       "      <td>[None]</td>\n",
       "      <td>[None]</td>\n",
       "      <td>[murder mystery, horror, fog, Poland, 1960s]</td>\n",
       "    </tr>\n",
       "  </tbody>\n",
       "</table>\n",
       "</div>"
      ],
      "text/plain": [
       "   wikipedia_id freebase_id                title          languages  \\\n",
       "0     4213160.0   /m/0bq8q8                    $                NaN   \n",
       "1           NaN         NaN  $1,000 on the Black  [German, Italian]   \n",
       "2           NaN         NaN  $10,000 Blood Money                NaN   \n",
       "3           NaN         NaN   $100,000 for Ringo          [Italian]   \n",
       "4           NaN         NaN      'Anna' i wampir                NaN   \n",
       "\n",
       "          countries                  genres                       keywords  \\\n",
       "0          [Russia]  [Comedy, Crime, Drama]                            NaN   \n",
       "1  [Germany, Italy]               [Western]                            NaN   \n",
       "2          [Russia]        [Western, Drama]                            NaN   \n",
       "3           [Italy]        [Western, Drama]  [spaghetti western, whipping]   \n",
       "4          [Russia]                 [Crime]                            NaN   \n",
       "\n",
       "   release_date  runtime                                       plot_summary  \\\n",
       "0          1971    119.0  Set in Hamburg, West Germany, several criminal...   \n",
       "1          1966    104.0  Johnny Liston has just been released from pris...   \n",
       "2          1967      NaN  Hired by a Mexican landowner to rescue his dau...   \n",
       "3          1965     98.0  A stranger rides into Rainbow Valley where he'...   \n",
       "4          1982      NaN  Silesia in Poland, late 60s. Bodies of vicious...   \n",
       "\n",
       "  cold_war_side              character_western_bloc_representation  \\\n",
       "0       Western  [Joe Collins, American bank security consultan...   \n",
       "1       Eastern                                             [None]   \n",
       "2          None                                             [None]   \n",
       "3          None                                             [None]   \n",
       "4          None                                             [None]   \n",
       "\n",
       "               character_eastern_bloc_representation  \\\n",
       "0  [Dawn Divine, hooker with a heart of gold, cun...   \n",
       "1  [Sartana, villainous, oppressive, cruel, arche...   \n",
       "2                                             [None]   \n",
       "3                                             [None]   \n",
       "4                                             [None]   \n",
       "\n",
       "                                 western_bloc_values  \\\n",
       "0                                             [None]   \n",
       "1  [Johnny Liston, justice, determination, resili...   \n",
       "2                                             [None]   \n",
       "3                                             [None]   \n",
       "4                                             [None]   \n",
       "\n",
       "                                 eastern_bloc_values  \\\n",
       "0  [Resourcefulness, cleverness, individualism, h...   \n",
       "1  [Justice, revenge, oppressed vs. oppressor, re...   \n",
       "2                                             [None]   \n",
       "3                                             [None]   \n",
       "4                                             [None]   \n",
       "\n",
       "                                               theme  \n",
       "0                                             [None]  \n",
       "1  [Terror, betrayal, familial conflict, crime, r...  \n",
       "2  [crime, betrayal, revenge, bounty hunter, heis...  \n",
       "3  [Western, Civil War, mistaken identity, treasu...  \n",
       "4       [murder mystery, horror, fog, Poland, 1960s]  "
      ]
     },
     "execution_count": 42,
     "metadata": {},
     "output_type": "execute_result"
    }
   ],
   "source": [
    "movies = pd.read_csv(DATA_FOLDER_PREPROCESSED + \"preprocessed_movies.csv\")\n",
    "convert_csv(movies).head()"
   ]
  },
  {
   "cell_type": "code",
   "execution_count": 43,
   "metadata": {},
   "outputs": [],
   "source": [
    "country_film_count = Counter()\n",
    "collaboration_count = Counter()\n",
    "\n",
    "for countries in movies['countries']:\n",
    "    country_film_count.update(countries)\n",
    "    # Generate all unique combinations of two countries and count the collaborations\n",
    "    for pair in combinations(countries, 2):\n",
    "        collaboration_count[tuple(sorted(pair))] += 1  # Sort the pair to avoid duplicate keys (e.g., (A, B) and (B, A))\n",
    "\n",
    "# Keep only countries that have produced more than 40 films\n",
    "country_film_count = {k: v for k, v in country_film_count.items() if v > 40}\n",
    "\n",
    "# Compute the square root of the number of films for each country, and store in a new dictionary\n",
    "root_film_count = {country: np.sqrt(count) for country, count in country_film_count.items()}\n",
    "\n",
    "# Get a list of all the countries\n",
    "countries = list(root_film_count.keys())\n",
    "\n",
    "# Keep only collaborations that happened more than 10 times\n",
    "collaboration_count = {k: v for k, v in collaboration_count.items() if v > 10}\n",
    "\n",
    "# Make sure we have the same coutries than in our list of countries\n",
    "collaboration_count = {k: v for k, v in collaboration_count.items() if k[0] in countries and k[1] in countries}\n",
    "\n",
    "country_cold_war_side = assign_side(movies, countries, threshold=19)"
   ]
  },
  {
   "cell_type": "code",
   "execution_count": 44,
   "metadata": {},
   "outputs": [],
   "source": [
    "G = nx.Graph()\n",
    "for country in countries:\n",
    "    G.add_node(country, side=country_cold_war_side[country], size=root_film_count[country])\n",
    "\n",
    "for (c1, c2), count in collaboration_count.items():\n",
    "    G.add_edge(c1, c2, weight=count)"
   ]
  },
  {
   "cell_type": "code",
   "execution_count": 45,
   "metadata": {},
   "outputs": [
    {
     "data": {
      "image/png": "[encoded data removed]",
      "text/plain": [
       "<Figure size 1000x800 with 1 Axes>"
      ]
     },
     "metadata": {},
     "output_type": "display_data"
    }
   ],
   "source": [
    "# With matplotlib\n",
    "node_colors = [\n",
    "    'blue' if G.nodes[n]['side'] == 'Western' else\n",
    "    'red' if G.nodes[n]['side'] == 'Eastern' else\n",
    "    'lightyellow' if G.nodes[n]['side'] == 'Lack of data' else 'grey'\n",
    "    for n in G.nodes\n",
    "]\n",
    "\n",
    "node_sizes = [G.nodes[n]['size'] * 10 for n in G.nodes] \n",
    "\n",
    "edge_weights = [G[u][v]['weight'] for u, v in G.edges]\n",
    "edge_widths = [weight * 0.01 for weight in edge_weights]\n",
    "\n",
    "plt.figure(figsize=(10, 8))\n",
    "pos = nx.spring_layout(G, seed=42, k=10)\n",
    "nx.draw_networkx_edges(G, pos, alpha=0.5, width=edge_widths)\n",
    "nx.draw_networkx_nodes(\n",
    "    G, pos, node_color=node_colors, edgecolors='black', node_size=node_sizes\n",
    ")\n",
    "nx.draw_networkx_labels(G, pos, font_size=10, font_color=\"black\")\n",
    "\n",
    "plt.title(\"Film Production Collaboration Network\", fontsize=16)\n",
    "plt.axis('off')\n",
    "plt.show()"
   ]
  },
  {
   "cell_type": "code",
   "execution_count": 46,
   "metadata": {},
   "outputs": [
    {
     "data": {
      "application/vnd.plotly.v1+json": {
       "config": {
        "plotlyServerURL": "https://plot.ly"
       },
       "data": [
        {
         "hoverinfo": "none",
         "line": {
          "color": "black",
          "width": 0.5
         },
         "mode": "lines",
         "type": "scatter",
         "x": [
          -0.07741395015626813,
          -0.7070081823156618,
          0.018469003088248545,
          -0.5839916962007868,
          0.018469003088248545,
          -0.09224063671098622,
          0.018469003088248545,
          -0.5417655294263063,
          0.018469003088248545,
          0.018939142245114744,
          0.018469003088248545,
          -0.21442483391314407,
          0.018469003088248545,
          -0.35685738790611155,
          0.018469003088248545,
          -0.834646555217029,
          0.018469003088248545,
          0.7744050503143746,
          -0.5839916962007868,
          -0.09224063671098622,
          -0.5839916962007868,
          -0.6895471489732945,
          -0.5839916962007868,
          0.018939142245114744,
          -0.5839916962007868,
          -0.35685738790611155,
          -0.5839916962007868,
          -0.21442483391314407,
          -0.5839916962007868,
          0.6789003060856648,
          -0.35685738790611155,
          -0.21442483391314407,
          -0.35685738790611155,
          0.018939142245114744,
          -0.35685738790611155,
          -0.09224063671098622,
          -0.35685738790611155,
          -0.46715259487180466,
          -0.35685738790611155,
          0.24439545997013787,
          -0.35685738790611155,
          -0.960074860582512,
          -0.35685738790611155,
          -0.5417655294263063,
          -0.35685738790611155,
          -0.4945780006492614,
          -0.35685738790611155,
          -0.02564191229074341,
          -0.35685738790611155,
          -0.6329307205004844,
          -0.35685738790611155,
          0.14404710094007586,
          -0.35685738790611155,
          -0.5938323059987631,
          0.7744050503143746,
          -0.09224063671098622,
          0.7744050503143746,
          -0.21442483391314407,
          -0.09224063671098622,
          -0.21442483391314407,
          -0.09224063671098622,
          0.018939142245114744,
          -0.09224063671098622,
          0.9442906750782224,
          -0.09224063671098622,
          0.6789003060856648,
          -0.09224063671098622,
          0.24439545997013787,
          -0.09224063671098622,
          0.9550119421945357,
          -0.09224063671098622,
          -0.834646555217029,
          -0.09224063671098622,
          -0.46715259487180466,
          -0.09224063671098622,
          0.5430295240393069,
          -0.21442483391314407,
          0.018939142245114744,
          -0.21442483391314407,
          0.24439545997013787,
          -0.21442483391314407,
          -0.6329307205004844,
          -0.21442483391314407,
          0.5430295240393069,
          -0.21442483391314407,
          -0.960074860582512,
          -0.21442483391314407,
          -0.46715259487180466,
          -0.02564191229074341,
          0.7417409377466299,
          -0.02564191229074341,
          -0.5554567118647786,
          -0.9649383153064349,
          -0.834646555217029,
          -0.834646555217029,
          0.37662857983689213
         ],
         "y": [
          0.993660308586617,
          0.7483604933957789,
          -0.046424586850298925,
          -0.6895070880415598,
          -0.046424586850298925,
          -0.33609437053679986,
          -0.046424586850298925,
          0.7310957383049688,
          -0.046424586850298925,
          -0.9828367163320799,
          -0.046424586850298925,
          -0.38281019591562204,
          -0.046424586850298925,
          -0.10548225175910245,
          -0.046424586850298925,
          0.4175290620683102,
          -0.046424586850298925,
          -0.6151196718087901,
          -0.6895070880415598,
          -0.33609437053679986,
          -0.6895070880415598,
          0.6575472072616017,
          -0.6895070880415598,
          -0.9828367163320799,
          -0.6895070880415598,
          -0.10548225175910245,
          -0.6895070880415598,
          -0.38281019591562204,
          -0.6895070880415598,
          0.6972439026003967,
          -0.10548225175910245,
          -0.38281019591562204,
          -0.10548225175910245,
          -0.9828367163320799,
          -0.10548225175910245,
          -0.33609437053679986,
          -0.10548225175910245,
          -0.8595921920458133,
          -0.10548225175910245,
          -0.9312463004353982,
          -0.10548225175910245,
          -0.22532310306763376,
          -0.10548225175910245,
          0.7310957383049688,
          -0.10548225175910245,
          -0.8026323040159385,
          -0.10548225175910245,
          0.966251489378651,
          -0.10548225175910245,
          0.7635259074276833,
          -0.10548225175910245,
          -0.9476128574458221,
          -0.10548225175910245,
          -0.7649527321125762,
          -0.6151196718087901,
          -0.33609437053679986,
          -0.6151196718087901,
          -0.38281019591562204,
          -0.33609437053679986,
          -0.38281019591562204,
          -0.33609437053679986,
          -0.9828367163320799,
          -0.33609437053679986,
          -0.09755426666258922,
          -0.33609437053679986,
          0.6972439026003967,
          -0.33609437053679986,
          -0.9312463004353982,
          -0.33609437053679986,
          0.3409573420309666,
          -0.33609437053679986,
          0.4175290620683102,
          -0.33609437053679986,
          -0.8595921920458133,
          -0.33609437053679986,
          -0.8370048913857527,
          -0.38281019591562204,
          -0.9828367163320799,
          -0.38281019591562204,
          -0.9312463004353982,
          -0.38281019591562204,
          0.7635259074276833,
          -0.38281019591562204,
          -0.8370048913857527,
          -0.38281019591562204,
          -0.22532310306763376,
          -0.38281019591562204,
          -0.8595921920458133,
          0.966251489378651,
          0.7083556881540466,
          0.966251489378651,
          -0.817856692834644,
          0.08457075492296968,
          0.4175290620683102,
          0.4175290620683102,
          0.8151573339092505
         ]
        },
        {
         "hoverinfo": "text",
         "hovertext": [
          "Russia",
          "Germany",
          "Italy",
          "United States of America",
          "Estonia",
          "Ukraine",
          "Switzerland",
          "Lithuania",
          "France",
          "Egypt",
          "United Kingdom",
          "India",
          "Hong Kong",
          "Costa Rica",
          "Spain",
          "Canada",
          "Latvia",
          "Hungary",
          "Japan",
          "Poland",
          "Denmark",
          "Korea",
          "Croatia",
          "Austria",
          "Philippines",
          "Portugal",
          "Taiwan",
          "Georgia",
          "Romania",
          "Australia",
          "South Africa",
          "Luxembourg",
          "Sweden",
          "Ireland",
          "Greece",
          "Uruguay",
          "Argentina",
          "Belgium",
          "Netherlands",
          "Czech Republic",
          "Bangladesh",
          "New Zealand",
          "Albania",
          "Finland",
          "Iceland",
          "Liechtenstein",
          "Iran",
          "Zimbabwe",
          "Norway",
          "Bosnia and Herzegovina",
          "Cuba",
          "Peru",
          "Israel",
          "Uzbekistan",
          "China",
          "Mexico",
          "Azerbaijan",
          "Bolivia",
          "Brazil",
          "Venezuela",
          "Serbia",
          "Macedonia",
          "Monaco",
          "Slovakia",
          "Turkey",
          "Senegal",
          "Tunisia",
          "Qatar",
          "Cote D'Ivoire",
          "Belarus",
          "Armenia",
          "Algeria",
          "Thailand",
          "Colombia",
          "Chile",
          "Singapore",
          "Ghana",
          "Morocco",
          "Vietnam",
          "Slovenia",
          "Pakistan",
          "Montenegro",
          "Namibia",
          "Bulgaria",
          "Yugoslavia",
          "Moldova",
          "Burkina Faso",
          "Aruba",
          "Czechoslovakia",
          "Ethiopia",
          "Jordan",
          "Puerto Rico",
          "Kazakhstan",
          "Indonesia",
          "Congo",
          "Libya",
          "Bhutan",
          "Jamaica",
          "Mauritania",
          "Angola",
          "Turkmenistan",
          "Panama",
          "Afghanistan",
          "Martinique",
          "Trinidad and Tobago",
          "Syria",
          "Kyrgyzstan",
          "Botswana",
          "Guinea",
          "Bahamas",
          "Papua New Guinea",
          "Ecuador",
          "Palestinian Territory",
          "Mali"
         ],
         "marker": {
          "color": [
           "red",
           "blue",
           "blue",
           "blue",
           "red",
           "grey",
           "grey",
           "red",
           "blue",
           "grey",
           "blue",
           "red",
           "grey",
           "lightyellow",
           "blue",
           "blue",
           "red",
           "red",
           "grey",
           "red",
           "grey",
           "grey",
           "blue",
           "grey",
           "grey",
           "grey",
           "grey",
           "red",
           "grey",
           "blue",
           "grey",
           "lightyellow",
           "grey",
           "grey",
           "grey",
           "lightyellow",
           "grey",
           "blue",
           "grey",
           "red",
           "lightyellow",
           "grey",
           "lightyellow",
           "grey",
           "lightyellow",
           "lightyellow",
           "grey",
           "lightyellow",
           "grey",
           "grey",
           "red",
           "lightyellow",
           "grey",
           "grey",
           "red",
           "blue",
           "lightyellow",
           "lightyellow",
           "grey",
           "lightyellow",
           "red",
           "lightyellow",
           "lightyellow",
           "grey",
           "grey",
           "lightyellow",
           "lightyellow",
           "lightyellow",
           "lightyellow",
           "grey",
           "grey",
           "lightyellow",
           "lightyellow",
           "lightyellow",
           "lightyellow",
           "lightyellow",
           "lightyellow",
           "lightyellow",
           "lightyellow",
           "lightyellow",
           "lightyellow",
           "lightyellow",
           "lightyellow",
           "lightyellow",
           "lightyellow",
           "lightyellow",
           "lightyellow",
           "lightyellow",
           "lightyellow",
           "lightyellow",
           "lightyellow",
           "lightyellow",
           "lightyellow",
           "lightyellow",
           "lightyellow",
           "lightyellow",
           "lightyellow",
           "lightyellow",
           "lightyellow",
           "lightyellow",
           "lightyellow",
           "lightyellow",
           "lightyellow",
           "lightyellow",
           "lightyellow",
           "lightyellow",
           "lightyellow",
           "lightyellow",
           "lightyellow",
           "lightyellow",
           "lightyellow",
           "lightyellow",
           "lightyellow",
           "lightyellow"
          ],
          "colorscale": [
           [
            0,
            "rgb(255,255,217)"
           ],
           [
            0.125,
            "rgb(237,248,177)"
           ],
           [
            0.25,
            "rgb(199,233,180)"
           ],
           [
            0.375,
            "rgb(127,205,187)"
           ],
           [
            0.5,
            "rgb(65,182,196)"
           ],
           [
            0.625,
            "rgb(29,145,192)"
           ],
           [
            0.75,
            "rgb(34,94,168)"
           ],
           [
            0.875,
            "rgb(37,52,148)"
           ],
           [
            1,
            "rgb(8,29,88)"
           ]
          ],
          "showscale": false,
          "size": [
           52.08886637276722,
           12.698425099200294,
           18.533752992850637,
           45.38446870901983,
           4.242640687119285,
           8.366600265340756,
           4.663689526544408,
           7.54983443527075,
           18.445866745696716,
           1.6583123951777,
           20.694202086574876,
           6.442049363362563,
           8.261355820929152,
           0.8660254037844386,
           9.137833441248533,
           9.16515138991168,
           3.7080992435478315,
           3.840572873934304,
           12.649110640673518,
           5.267826876426369,
           4.58257569495584,
           2.9154759474226504,
           2.9154759474226504,
           3.640054944640259,
           3,
           2.7838821814150108,
           3.8078865529319543,
           2.598076211353316,
           2.598076211353316,
           6.324555320336759,
           2.3979157616563596,
           1.4142135623730951,
           6.892024376045111,
           2.958039891549808,
           3.5,
           0.5,
           3.122498999199199,
           4.272001872658765,
           4.301162633521313,
           4.6097722286464435,
           0.5,
           2.6457513110645907,
           0.5,
           4.663689526544408,
           1.5,
           1.5,
           2.692582403567252,
           0.8660254037844386,
           2.8722813232690143,
           2,
           1.8708286933869707,
           1.3228756555322954,
           2.449489742783178,
           2,
           3.2015621187164243,
           5.338539126015656,
           0.8660254037844386,
           0.7071067811865476,
           3.3166247903554,
           1.3228756555322954,
           3.122498999199199,
           0.7071067811865476,
           0.8660254037844386,
           1.7320508075688772,
           2.7838821814150108,
           1.5,
           1.3228756555322954,
           0.5,
           0.5,
           1.6583123951777,
           1.5811388300841898,
           1.3228756555322954,
           1.224744871391589,
           0.8660254037844386,
           1.4142135623730951,
           0.8660254037844386,
           0.7071067811865476,
           1.3228756555322954,
           0.8660254037844386,
           0.7071067811865476,
           0.7071067811865476,
           0.7071067811865476,
           0.8660254037844386,
           1.4142135623730951,
           0.7071067811865476,
           0.8660254037844386,
           1,
           0.5,
           1,
           0.5,
           0.5,
           1,
           1.3228756555322954,
           1,
           0.5,
           0.5,
           0.5,
           0.7071067811865476,
           1,
           0.5,
           0.7071067811865476,
           0.8660254037844386,
           0.5,
           0.5,
           0.5,
           0.5,
           0.7071067811865476,
           0.7071067811865476,
           0.5,
           0.5,
           0.5,
           0.5,
           0.5,
           0.5
          ]
         },
         "mode": "markers+text",
         "text": [
          "Russia",
          "",
          "",
          "United States of America",
          "",
          "",
          "",
          "",
          "",
          "",
          "",
          "",
          "",
          "",
          "",
          "",
          "",
          "",
          "",
          "",
          "",
          "",
          "",
          "",
          "",
          "",
          "",
          "",
          "",
          "",
          "",
          "",
          "",
          "",
          "",
          "",
          "",
          "",
          "",
          "",
          "",
          "",
          "",
          "",
          "",
          "",
          "",
          "",
          "",
          "",
          "",
          "",
          "",
          "",
          "",
          "",
          "",
          "",
          "",
          "",
          "",
          "",
          "",
          "",
          "",
          "",
          "",
          "",
          "",
          "",
          "",
          "",
          "",
          "",
          "",
          "",
          "",
          "",
          "",
          "",
          "",
          "",
          "",
          "",
          "",
          "",
          "",
          "",
          "",
          "",
          "",
          "",
          "",
          "",
          "",
          "",
          "",
          "",
          "",
          "",
          "",
          "",
          "",
          "",
          "",
          "",
          "",
          "",
          "",
          "",
          "",
          "",
          "",
          ""
         ],
         "textfont": {
          "color": "black",
          "family": "Arial Black",
          "size": 11
         },
         "textposition": "top center",
         "type": "scatter",
         "x": [
          -0.07741395015626813,
          0.018469003088248545,
          -0.5839916962007868,
          -0.35685738790611155,
          0.3101443545245782,
          -0.7070081823156618,
          0.7744050503143746,
          -0.7549386582960537,
          -0.09224063671098622,
          -0.13887991046074868,
          -0.21442483391314407,
          -0.879881199220051,
          -0.02564191229074341,
          -0.929799844599849,
          0.018939142245114744,
          0.24439545997013787,
          -0.5825154174234481,
          0.8998852526918913,
          -0.46715259487180466,
          0.9442906750782224,
          -0.9649383153064349,
          -0.7732495056227324,
          -0.6895471489732945,
          -0.5417655294263063,
          0.14404710094007586,
          0.9550119421945357,
          0.7417409377466299,
          0.08799116372397565,
          -0.8346102207683483,
          -0.960074860582512,
          -0.4945780006492614,
          0.9541628264547828,
          -0.834646555217029,
          -0.6329307205004844,
          -0.386564140987292,
          0.6052298938237982,
          -0.9185399525709803,
          0.6789003060856648,
          0.5430295240393069,
          -0.02943446007045116,
          0.9025303935719912,
          -0.1860001009356807,
          -0.669283652261062,
          0.743692812908347,
          0.9859789117349236,
          -0.8488308130590164,
          0.9194644580885741,
          0.9622933960697123,
          0.37662857983689213,
          -0.732968223284443,
          -0.9508247433795707,
          -0.9045732743245968,
          0.9535112643979938,
          -0.13466781312008116,
          -0.5554567118647786,
          -0.5938323059987631,
          0.8072167140644232,
          0.19489039098969202,
          0.6604453068879411,
          0.9807819901462136,
          0.45227633233755576,
          -0.25009018594502846,
          -0.9337373080119388,
          0.566212328255448,
          -0.9893120350156457,
          -0.2988494806196024,
          -0.9298897468970485,
          0.9865541228698933,
          0.03838021355573819,
          -0.1932942786849614,
          0.9377802486497652,
          0.5325340012781115,
          -0.3574502223525032,
          0.8764249318220774,
          -0.9113488906475825,
          0.8517891546762186,
          -0.9621791988957696,
          0.9075964301746141,
          0.49604544583180743,
          -0.49717380789395116,
          -0.24567739130242242,
          0.8157006648362762,
          -0.8255198112855168,
          -0.4013338065680763,
          -0.9726254966044192,
          0.3318958329763335,
          0.0807472405640669,
          0.47161103700852364,
          0.845330188328696,
          0.7471091446790226,
          -0.09019724240347185,
          0.6490630285671,
          -0.761071905240161,
          0.9589152690249074,
          0.3474047058893524,
          -0.4704485655117634,
          0.9640234889260888,
          -0.8225457497868897,
          0.37390889400247596,
          0.844210205353338,
          0.4200457749644371,
          -0.28703938039251575,
          0.20070858548735843,
          -0.9196251078566782,
          -0.8918181714559932,
          0.14096303093802232,
          0.6925183537202518,
          0.7955096833418228,
          -0.3738166599779414,
          0.2603504250099059,
          0.58455439599144,
          -0.9682499204619189,
          -0.7768823735981174,
          1
         ],
         "y": [
          0.993660308586617,
          -0.046424586850298925,
          -0.6895070880415598,
          -0.10548225175910245,
          0.9067675220817873,
          0.7483604933957789,
          -0.6151196718087901,
          -0.6218355765892567,
          -0.33609437053679986,
          -0.9268112637463142,
          -0.38281019591562204,
          -0.32846653814526183,
          0.966251489378651,
          0.21886594669711107,
          -0.9828367163320799,
          -0.9312463004353982,
          0.838838559225019,
          0.4778986862425148,
          -0.8595921920458133,
          -0.09755426666258922,
          0.08457075492296968,
          0.6634982939982933,
          0.6575472072616017,
          0.7310957383049688,
          -0.9476128574458221,
          0.3409573420309666,
          0.7083556881540466,
          0.9893118126773132,
          -0.5324525812531841,
          -0.22532310306763376,
          -0.8026323040159385,
          -0.21437014565071094,
          0.4175290620683102,
          0.7635259074276833,
          0.946141488848238,
          -0.7710964368158584,
          0.4129758127804147,
          0.6972439026003967,
          -0.8370048913857527,
          -0.9671352043892553,
          0.39979746918728515,
          -0.9646403416169232,
          -0.6644578300230706,
          0.6148814448796186,
          0.0049867191250043096,
          0.49020366435831547,
          0.2957538995341474,
          0.06213223694399718,
          0.8151573339092505,
          -0.6929807774142297,
          0.27429925843475456,
          0.08097366004725058,
          -0.28323336692441275,
          0.9526545866658657,
          -0.817856692834644,
          -0.7649527321125762,
          0.6138775313553574,
          0.9670947758131897,
          -0.7325694748217112,
          0.1195298581550756,
          0.8996441710782533,
          -0.9423839253745759,
          -0.16811068807234059,
          0.8298780462410459,
          0.008667144440908487,
          -0.9010911013978443,
          -0.2838308979118776,
          -0.15619629283450664,
          0.9503739615261693,
          0.9833644992765266,
          -0.3658544018889944,
          -0.7607185531457634,
          -0.9240702606618142,
          -0.3083207205898151,
          -0.3826556039169917,
          -0.5191927221632509,
          -0.051046437748192355,
          -0.446194352425888,
          0.8383660214761347,
          0.8314685551993785,
          0.9088335044424383,
          0.46092508013856087,
          0.5639408657010498,
          -0.8745752963471551,
          0.15967611658382871,
          -0.9395583764217907,
          -0.9447690139116058,
          -0.8464709179954192,
          -0.4372580304535429,
          -0.6820420623572663,
          -0.9679766936987539,
          0.7866179670482655,
          0.580107016901933,
          0.17810345488139068,
          -0.8774817585197305,
          0.8919383305201198,
          0.23972938625605164,
          -0.445492740886296,
          0.9268056783181914,
          0.5451795506650818,
          -0.8889838333603326,
          0.9565047643118428,
          -0.972377316062331,
          0.3386486970334059,
          -0.46488745527633996,
          0.9400599273402654,
          -0.6668931386404897,
          -0.5524965248407059,
          0.8887196026796621,
          0.9498144713613557,
          0.7408943273526477,
          -0.11578007626134139,
          -0.5610684312847027,
          -0.06312221277603777
         ]
        }
       ],
       "layout": {
        "hovermode": "closest",
        "plot_bgcolor": "white",
        "showlegend": false,
        "template": {
         "data": {
          "bar": [
           {
            "error_x": {
             "color": "#2a3f5f"
            },
            "error_y": {
             "color": "#2a3f5f"
            },
            "marker": {
             "line": {
              "color": "#E5ECF6",
              "width": 0.5
             },
             "pattern": {
              "fillmode": "overlay",
              "size": 10,
              "solidity": 0.2
             }
            },
            "type": "bar"
           }
          ],
          "barpolar": [
           {
            "marker": {
             "line": {
              "color": "#E5ECF6",
              "width": 0.5
             },
             "pattern": {
              "fillmode": "overlay",
              "size": 10,
              "solidity": 0.2
             }
            },
            "type": "barpolar"
           }
          ],
          "carpet": [
           {
            "aaxis": {
             "endlinecolor": "#2a3f5f",
             "gridcolor": "white",
             "linecolor": "white",
             "minorgridcolor": "white",
             "startlinecolor": "#2a3f5f"
            },
            "baxis": {
             "endlinecolor": "#2a3f5f",
             "gridcolor": "white",
             "linecolor": "white",
             "minorgridcolor": "white",
             "startlinecolor": "#2a3f5f"
            },
            "type": "carpet"
           }
          ],
          "choropleth": [
           {
            "colorbar": {
             "outlinewidth": 0,
             "ticks": ""
            },
            "type": "choropleth"
           }
          ],
          "contour": [
           {
            "colorbar": {
             "outlinewidth": 0,
             "ticks": ""
            },
            "colorscale": [
             [
              0,
              "#0d0887"
             ],
             [
              0.1111111111111111,
              "#46039f"
             ],
             [
              0.2222222222222222,
              "#7201a8"
             ],
             [
              0.3333333333333333,
              "#9c179e"
             ],
             [
              0.4444444444444444,
              "#bd3786"
             ],
             [
              0.5555555555555556,
              "#d8576b"
             ],
             [
              0.6666666666666666,
              "#ed7953"
             ],
             [
              0.7777777777777778,
              "#fb9f3a"
             ],
             [
              0.8888888888888888,
              "#fdca26"
             ],
             [
              1,
              "#f0f921"
             ]
            ],
            "type": "contour"
           }
          ],
          "contourcarpet": [
           {
            "colorbar": {
             "outlinewidth": 0,
             "ticks": ""
            },
            "type": "contourcarpet"
           }
          ],
          "heatmap": [
           {
            "colorbar": {
             "outlinewidth": 0,
             "ticks": ""
            },
            "colorscale": [
             [
              0,
              "#0d0887"
             ],
             [
              0.1111111111111111,
              "#46039f"
             ],
             [
              0.2222222222222222,
              "#7201a8"
             ],
             [
              0.3333333333333333,
              "#9c179e"
             ],
             [
              0.4444444444444444,
              "#bd3786"
             ],
             [
              0.5555555555555556,
              "#d8576b"
             ],
             [
              0.6666666666666666,
              "#ed7953"
             ],
             [
              0.7777777777777778,
              "#fb9f3a"
             ],
             [
              0.8888888888888888,
              "#fdca26"
             ],
             [
              1,
              "#f0f921"
             ]
            ],
            "type": "heatmap"
           }
          ],
          "heatmapgl": [
           {
            "colorbar": {
             "outlinewidth": 0,
             "ticks": ""
            },
            "colorscale": [
             [
              0,
              "#0d0887"
             ],
             [
              0.1111111111111111,
              "#46039f"
             ],
             [
              0.2222222222222222,
              "#7201a8"
             ],
             [
              0.3333333333333333,
              "#9c179e"
             ],
             [
              0.4444444444444444,
              "#bd3786"
             ],
             [
              0.5555555555555556,
              "#d8576b"
             ],
             [
              0.6666666666666666,
              "#ed7953"
             ],
             [
              0.7777777777777778,
              "#fb9f3a"
             ],
             [
              0.8888888888888888,
              "#fdca26"
             ],
             [
              1,
              "#f0f921"
             ]
            ],
            "type": "heatmapgl"
           }
          ],
          "histogram": [
           {
            "marker": {
             "pattern": {
              "fillmode": "overlay",
              "size": 10,
              "solidity": 0.2
             }
            },
            "type": "histogram"
           }
          ],
          "histogram2d": [
           {
            "colorbar": {
             "outlinewidth": 0,
             "ticks": ""
            },
            "colorscale": [
             [
              0,
              "#0d0887"
             ],
             [
              0.1111111111111111,
              "#46039f"
             ],
             [
              0.2222222222222222,
              "#7201a8"
             ],
             [
              0.3333333333333333,
              "#9c179e"
             ],
             [
              0.4444444444444444,
              "#bd3786"
             ],
             [
              0.5555555555555556,
              "#d8576b"
             ],
             [
              0.6666666666666666,
              "#ed7953"
             ],
             [
              0.7777777777777778,
              "#fb9f3a"
             ],
             [
              0.8888888888888888,
              "#fdca26"
             ],
             [
              1,
              "#f0f921"
             ]
            ],
            "type": "histogram2d"
           }
          ],
          "histogram2dcontour": [
           {
            "colorbar": {
             "outlinewidth": 0,
             "ticks": ""
            },
            "colorscale": [
             [
              0,
              "#0d0887"
             ],
             [
              0.1111111111111111,
              "#46039f"
             ],
             [
              0.2222222222222222,
              "#7201a8"
             ],
             [
              0.3333333333333333,
              "#9c179e"
             ],
             [
              0.4444444444444444,
              "#bd3786"
             ],
             [
              0.5555555555555556,
              "#d8576b"
             ],
             [
              0.6666666666666666,
              "#ed7953"
             ],
             [
              0.7777777777777778,
              "#fb9f3a"
             ],
             [
              0.8888888888888888,
              "#fdca26"
             ],
             [
              1,
              "#f0f921"
             ]
            ],
            "type": "histogram2dcontour"
           }
          ],
          "mesh3d": [
           {
            "colorbar": {
             "outlinewidth": 0,
             "ticks": ""
            },
            "type": "mesh3d"
           }
          ],
          "parcoords": [
           {
            "line": {
             "colorbar": {
              "outlinewidth": 0,
              "ticks": ""
             }
            },
            "type": "parcoords"
           }
          ],
          "pie": [
           {
            "automargin": true,
            "type": "pie"
           }
          ],
          "scatter": [
           {
            "fillpattern": {
             "fillmode": "overlay",
             "size": 10,
             "solidity": 0.2
            },
            "type": "scatter"
           }
          ],
          "scatter3d": [
           {
            "line": {
             "colorbar": {
              "outlinewidth": 0,
              "ticks": ""
             }
            },
            "marker": {
             "colorbar": {
              "outlinewidth": 0,
              "ticks": ""
             }
            },
            "type": "scatter3d"
           }
          ],
          "scattercarpet": [
           {
            "marker": {
             "colorbar": {
              "outlinewidth": 0,
              "ticks": ""
             }
            },
            "type": "scattercarpet"
           }
          ],
          "scattergeo": [
           {
            "marker": {
             "colorbar": {
              "outlinewidth": 0,
              "ticks": ""
             }
            },
            "type": "scattergeo"
           }
          ],
          "scattergl": [
           {
            "marker": {
             "colorbar": {
              "outlinewidth": 0,
              "ticks": ""
             }
            },
            "type": "scattergl"
           }
          ],
          "scattermapbox": [
           {
            "marker": {
             "colorbar": {
              "outlinewidth": 0,
              "ticks": ""
             }
            },
            "type": "scattermapbox"
           }
          ],
          "scatterpolar": [
           {
            "marker": {
             "colorbar": {
              "outlinewidth": 0,
              "ticks": ""
             }
            },
            "type": "scatterpolar"
           }
          ],
          "scatterpolargl": [
           {
            "marker": {
             "colorbar": {
              "outlinewidth": 0,
              "ticks": ""
             }
            },
            "type": "scatterpolargl"
           }
          ],
          "scatterternary": [
           {
            "marker": {
             "colorbar": {
              "outlinewidth": 0,
              "ticks": ""
             }
            },
            "type": "scatterternary"
           }
          ],
          "surface": [
           {
            "colorbar": {
             "outlinewidth": 0,
             "ticks": ""
            },
            "colorscale": [
             [
              0,
              "#0d0887"
             ],
             [
              0.1111111111111111,
              "#46039f"
             ],
             [
              0.2222222222222222,
              "#7201a8"
             ],
             [
              0.3333333333333333,
              "#9c179e"
             ],
             [
              0.4444444444444444,
              "#bd3786"
             ],
             [
              0.5555555555555556,
              "#d8576b"
             ],
             [
              0.6666666666666666,
              "#ed7953"
             ],
             [
              0.7777777777777778,
              "#fb9f3a"
             ],
             [
              0.8888888888888888,
              "#fdca26"
             ],
             [
              1,
              "#f0f921"
             ]
            ],
            "type": "surface"
           }
          ],
          "table": [
           {
            "cells": {
             "fill": {
              "color": "#EBF0F8"
             },
             "line": {
              "color": "white"
             }
            },
            "header": {
             "fill": {
              "color": "#C8D4E3"
             },
             "line": {
              "color": "white"
             }
            },
            "type": "table"
           }
          ]
         },
         "layout": {
          "annotationdefaults": {
           "arrowcolor": "#2a3f5f",
           "arrowhead": 0,
           "arrowwidth": 1
          },
          "autotypenumbers": "strict",
          "coloraxis": {
           "colorbar": {
            "outlinewidth": 0,
            "ticks": ""
           }
          },
          "colorscale": {
           "diverging": [
            [
             0,
             "#8e0152"
            ],
            [
             0.1,
             "#c51b7d"
            ],
            [
             0.2,
             "#de77ae"
            ],
            [
             0.3,
             "#f1b6da"
            ],
            [
             0.4,
             "#fde0ef"
            ],
            [
             0.5,
             "#f7f7f7"
            ],
            [
             0.6,
             "#e6f5d0"
            ],
            [
             0.7,
             "#b8e186"
            ],
            [
             0.8,
             "#7fbc41"
            ],
            [
             0.9,
             "#4d9221"
            ],
            [
             1,
             "#276419"
            ]
           ],
           "sequential": [
            [
             0,
             "#0d0887"
            ],
            [
             0.1111111111111111,
             "#46039f"
            ],
            [
             0.2222222222222222,
             "#7201a8"
            ],
            [
             0.3333333333333333,
             "#9c179e"
            ],
            [
             0.4444444444444444,
             "#bd3786"
            ],
            [
             0.5555555555555556,
             "#d8576b"
            ],
            [
             0.6666666666666666,
             "#ed7953"
            ],
            [
             0.7777777777777778,
             "#fb9f3a"
            ],
            [
             0.8888888888888888,
             "#fdca26"
            ],
            [
             1,
             "#f0f921"
            ]
           ],
           "sequentialminus": [
            [
             0,
             "#0d0887"
            ],
            [
             0.1111111111111111,
             "#46039f"
            ],
            [
             0.2222222222222222,
             "#7201a8"
            ],
            [
             0.3333333333333333,
             "#9c179e"
            ],
            [
             0.4444444444444444,
             "#bd3786"
            ],
            [
             0.5555555555555556,
             "#d8576b"
            ],
            [
             0.6666666666666666,
             "#ed7953"
            ],
            [
             0.7777777777777778,
             "#fb9f3a"
            ],
            [
             0.8888888888888888,
             "#fdca26"
            ],
            [
             1,
             "#f0f921"
            ]
           ]
          },
          "colorway": [
           "#636efa",
           "#EF553B",
           "#00cc96",
           "#ab63fa",
           "#FFA15A",
           "#19d3f3",
           "#FF6692",
           "#B6E880",
           "#FF97FF",
           "#FECB52"
          ],
          "font": {
           "color": "#2a3f5f"
          },
          "geo": {
           "bgcolor": "white",
           "lakecolor": "white",
           "landcolor": "#E5ECF6",
           "showlakes": true,
           "showland": true,
           "subunitcolor": "white"
          },
          "hoverlabel": {
           "align": "left"
          },
          "hovermode": "closest",
          "mapbox": {
           "style": "light"
          },
          "paper_bgcolor": "white",
          "plot_bgcolor": "#E5ECF6",
          "polar": {
           "angularaxis": {
            "gridcolor": "white",
            "linecolor": "white",
            "ticks": ""
           },
           "bgcolor": "#E5ECF6",
           "radialaxis": {
            "gridcolor": "white",
            "linecolor": "white",
            "ticks": ""
           }
          },
          "scene": {
           "xaxis": {
            "backgroundcolor": "#E5ECF6",
            "gridcolor": "white",
            "gridwidth": 2,
            "linecolor": "white",
            "showbackground": true,
            "ticks": "",
            "zerolinecolor": "white"
           },
           "yaxis": {
            "backgroundcolor": "#E5ECF6",
            "gridcolor": "white",
            "gridwidth": 2,
            "linecolor": "white",
            "showbackground": true,
            "ticks": "",
            "zerolinecolor": "white"
           },
           "zaxis": {
            "backgroundcolor": "#E5ECF6",
            "gridcolor": "white",
            "gridwidth": 2,
            "linecolor": "white",
            "showbackground": true,
            "ticks": "",
            "zerolinecolor": "white"
           }
          },
          "shapedefaults": {
           "line": {
            "color": "#2a3f5f"
           }
          },
          "ternary": {
           "aaxis": {
            "gridcolor": "white",
            "linecolor": "white",
            "ticks": ""
           },
           "baxis": {
            "gridcolor": "white",
            "linecolor": "white",
            "ticks": ""
           },
           "bgcolor": "#E5ECF6",
           "caxis": {
            "gridcolor": "white",
            "linecolor": "white",
            "ticks": ""
           }
          },
          "title": {
           "x": 0.05
          },
          "xaxis": {
           "automargin": true,
           "gridcolor": "white",
           "linecolor": "white",
           "ticks": "",
           "title": {
            "standoff": 15
           },
           "zerolinecolor": "white",
           "zerolinewidth": 2
          },
          "yaxis": {
           "automargin": true,
           "gridcolor": "white",
           "linecolor": "white",
           "ticks": "",
           "title": {
            "standoff": 15
           },
           "zerolinecolor": "white",
           "zerolinewidth": 2
          }
         }
        },
        "title": {
         "text": "Film Production Collaboration Network"
        },
        "xaxis": {
         "showgrid": false,
         "showticklabels": false,
         "visible": false,
         "zeroline": false
        },
        "yaxis": {
         "showgrid": false,
         "showticklabels": false,
         "visible": false,
         "zeroline": false
        }
       }
      }
     },
     "metadata": {},
     "output_type": "display_data"
    }
   ],
   "source": [
    "# With plotly\n",
    "pos = nx.spring_layout(G, seed=42, k=10, iterations=100)\n",
    "edge_x = []\n",
    "edge_y = []\n",
    "edge_weights = []\n",
    "\n",
    "for edge in G.edges():\n",
    "    x0, y0 = pos[edge[0]]\n",
    "    x1, y1 = pos[edge[1]]\n",
    "    edge_x.append(x0)\n",
    "    edge_x.append(x1)\n",
    "    edge_y.append(y0)\n",
    "    edge_y.append(y1)\n",
    "    edge_weights.append(G[edge[0]][edge[1]]['weight'])\n",
    "\n",
    "edge_trace = go.Scatter(\n",
    "    x=edge_x,\n",
    "    y=edge_y,\n",
    "    line=dict(width=0.5, color='black'),\n",
    "    hoverinfo='none',\n",
    "    mode='lines'\n",
    ")\n",
    "\n",
    "node_x = []\n",
    "node_y = []\n",
    "node_colors = []\n",
    "node_sizes = []\n",
    "\n",
    "for node in G.nodes():\n",
    "    x, y = pos[node]\n",
    "    node_x.append(x)\n",
    "    node_y.append(y)\n",
    "    if G.nodes[node]['side'] == 'Western':\n",
    "        node_colors.append('blue')\n",
    "    elif G.nodes[node]['side'] == 'Eastern':\n",
    "        node_colors.append('red')\n",
    "    elif G.nodes[node]['side'] == 'Lack of data':\n",
    "        node_colors.append('lightyellow')\n",
    "    else:\n",
    "        node_colors.append('grey')\n",
    "    node_sizes.append(G.nodes[node]['size'] * 0.5)\n",
    "\n",
    "# Find the two nodes with the largest size\n",
    "largest_nodes = sorted(G.nodes(data=True), key=lambda x: x[1]['size'], reverse=True)[:2]\n",
    "largest_node_names = {node[0] for node in largest_nodes}  # Extract their names\n",
    "\n",
    "# Update node labels\n",
    "node_labels = [node if node in largest_node_names else \"\" for node in G.nodes()]\n",
    "\n",
    "node_trace = go.Scatter(\n",
    "    x=node_x,\n",
    "    y=node_y,\n",
    "    mode='markers+text',\n",
    "    text=node_labels,\n",
    "    textposition=\"top center\",\n",
    "    hoverinfo='text',\n",
    "    hovertext=[node for node in G.nodes()],\n",
    "    marker=dict(\n",
    "        showscale=False,\n",
    "        colorscale='YlGnBu',\n",
    "        size=node_sizes,\n",
    "        color=node_colors\n",
    "    ),\n",
    "    textfont=dict(\n",
    "        family='Arial Black',\n",
    "        size=11,\n",
    "        color=\"black\"  \n",
    "    )\n",
    ")\n",
    "\n",
    "layout = go.Layout(\n",
    "                    title='Film Production Collaboration Network',\n",
    "                    showlegend=False,\n",
    "                    hovermode='closest',\n",
    "                    xaxis=dict(showgrid=False, zeroline=False, showticklabels=False, visible=False),\n",
    "                    yaxis=dict(showgrid=False, zeroline=False, showticklabels=False, visible=False),\n",
    "                    plot_bgcolor='white'\n",
    "                )\n",
    "\n",
    "fig = go.Figure(data=[edge_trace, node_trace], layout=layout)\n",
    "\n",
    "fig.show()"
   ]
  },
  {
   "cell_type": "code",
   "execution_count": 47,
   "metadata": {},
   "outputs": [],
   "source": [
    "# Have been generated with GPT\n",
    "country_coords = {\n",
    "    'United States of America': (37.0902, -95.7129),\n",
    "    'Italy': (41.8719, 12.5674),\n",
    "    'Germany': (51.1657, 10.4515),\n",
    "    'Russia': (61.5240, 105.3188),\n",
    "    'Hungary': (47.1625, 19.5033),\n",
    "    'Estonia': (58.5953, 25.0136),\n",
    "    'Ukraine': (48.3794, 31.1656),\n",
    "    'Switzerland': (46.8182, 8.2275),\n",
    "    'Puerto Rico': (18.2208, -66.5901),\n",
    "    'France': (46.6034, 1.8883),\n",
    "    'Egypt': (26.8206, 30.8025),\n",
    "    'Netherlands': (52.1326, 5.2913),\n",
    "    'Japan': (36.2048, 138.2529),\n",
    "    'United Kingdom': (55.3781, -3.4360),\n",
    "    'Hong Kong': (22.3193, 114.1694),\n",
    "    'India': (20.5937, 78.9629),\n",
    "    'Spain': (40.4637, -3.7492),\n",
    "    'Costa Rica': (9.7489, -83.7534),\n",
    "    'Vietnam': (14.0583, 108.2772),\n",
    "    'Taiwan': (23.6978, 120.9605),\n",
    "    'Australia': (-25.2744, 133.7751),\n",
    "    'Canada': (56.1304, -106.3468),\n",
    "    'Latvia': (56.8796, 24.6032),\n",
    "    'Brazil': (-14.2350, -51.9253),\n",
    "    'Turkey': (38.9637, 35.2433),\n",
    "    'Denmark': (56.2639, 9.5018),\n",
    "    'Poland': (51.9194, 19.1451),\n",
    "    'Korea': (35.9078, 127.7669),\n",
    "    'Norway': (60.4720, 8.4689),\n",
    "    'Croatia': (45.1, 15.2),\n",
    "    'Bulgaria': (42.7339, 25.4858),\n",
    "    'Austria': (47.5162, 14.5501),\n",
    "    'Philippines': (12.8797, 121.7740),\n",
    "    'Lithuania': (55.1694, 23.8813),\n",
    "    'Portugal': (39.3999, -8.2245),\n",
    "    'China': (35.8617, 104.1954),\n",
    "    'Romania': (45.9432, 24.9668),\n",
    "    'Georgia': (42.3154, 43.3569),\n",
    "    'Yugoslavia': (44.0165, 21.0059),\n",
    "    'New Zealand': (-40.9006, 174.8860),\n",
    "    'Czechoslovakia': (49.8175, 15.4729),\n",
    "    'Argentina': (-38.4161, -63.6167),\n",
    "    'Greece': (39.0742, 21.8243),\n",
    "    'South Africa': (-30.5595, 22.9375),\n",
    "    'Luxembourg': (49.8153, 6.1296),\n",
    "    'Sweden': (60.1282, 18.6435),\n",
    "    'Ireland': (53.1424, -7.6921),\n",
    "    'Colombia': (4.5709, -74.2973),\n",
    "    'Uruguay': (-32.5228, -55.7658),\n",
    "    'Belgium': (50.5039, 4.4699),\n",
    "    'Czech Republic': (49.8175, 15.4729),\n",
    "    'Bangladesh': (23.6850, 90.3563),\n",
    "    'Tunisia': (33.8869, 9.5375),\n",
    "    'Albania': (41.1533, 20.1683),\n",
    "    'Finland': (61.9241, 25.7482),\n",
    "    'Iceland': (64.9631, -19.0208),\n",
    "    'Liechtenstein': (47.1660, 9.5554),\n",
    "    'Mexico': (23.6345, -102.5528),\n",
    "    'Iran': (32.4279, 53.6880),\n",
    "    'Zimbabwe': (-19.0154, 29.1549),\n",
    "    'Nepal': (28.3949, 84.1240),\n",
    "    'Uzbekistan': (41.3775, 64.5853),\n",
    "    'Venezuela': (6.4238, -66.5897),\n",
    "    'Bosnia and Herzegovina': (43.9159, 17.6791),\n",
    "    'Cuba': (21.5218, -77.7812),\n",
    "    'Peru': (-9.1899, -75.0152),\n",
    "    'Malaysia': (4.2105, 101.9758),\n",
    "    'Pakistan': (30.3753, 69.3451),\n",
    "    'Sri Lanka': (7.8731, 80.7718),\n",
    "    'Algeria': (28.0339, 1.6596),\n",
    "    'Israel': (31.0461, 34.8516),\n",
    "    'Singapore': (1.3521, 103.8198),\n",
    "    'Morocco': (31.7917, -7.0926),\n",
    "    'Azerbaijan': (40.1431, 47.5769),\n",
    "    'Bolivia': (-16.2902, -63.5887),\n",
    "    'Cameroon': (7.3697, 12.3547),\n",
    "    'Serbia': (44.0165, 21.0059),\n",
    "    'Mali': (17.5707, -3.9962),\n",
    "    'Macedonia': (41.6086, 21.7453),\n",
    "    'Monaco': (43.7384, 7.4246),\n",
    "    'Slovakia': (48.6690, 19.6990),\n",
    "    'Senegal': (14.4974, -14.4524),\n",
    "    'Qatar': (25.2760, 51.2148),\n",
    "    'Thailand': (15.8700, 100.9925),\n",
    "    \"Côte d'Ivoire\": (7.5399, -5.5471),\n",
    "    'Belarus': (53.7098, 27.9534),\n",
    "    'Armenia': (40.0691, 45.0382),\n",
    "    'Chile': (-35.6751, -71.5430),\n",
    "    'Cambodia': (12.5657, 104.9910),\n",
    "    'Ghana': (7.9465, -1.0232),\n",
    "    'Jamaica': (18.1096, -77.2975),\n",
    "    'Slovenia': (46.1512, 14.9955),\n",
    "    'Guinea': (9.9456, -9.6966),\n",
    "    'Afghanistan': (33.9391, 67.7100),\n",
    "    'Democratic Republic of the Congo': (-4.0383, 21.7587),\n",
    "    'Indonesia': (-0.7893, 113.9213),\n",
    "    'Montenegro': (42.7087, 19.3744),\n",
    "    'Namibia': (-22.9576, 18.4904),\n",
    "    'Moldova': (47.4116, 28.3699),\n",
    "    'Panama': (8.5379, -80.7821),\n",
    "    'Burkina Faso': (12.2383, -1.5616),\n",
    "    'Aruba': (12.5211, -69.9683),\n",
    "    'Ethiopia': (9.145, 40.4897),\n",
    "    'Jordan': (30.5852, 36.2384),\n",
    "    'Kazakhstan': (48.0196, 66.9237),\n",
    "    'Nigeria': (9.0820, 8.6753),\n",
    "    'Libya': (26.3351, 17.2283),\n",
    "    'Congo': (-0.2280, 15.8277),\n",
    "    'Turkmenistan': (38.9697, 59.5563),\n",
    "    'Bhutan': (27.5142, 90.4336),\n",
    "    'Kuwait': (29.3117, 47.4818),\n",
    "    'Lebanon': (33.8547, 35.8623),\n",
    "    'Guinea-Bissau': (11.8037, -15.1804),\n",
    "    'Mauritania': (21.0079, -10.9408),\n",
    "    'Angola': (-11.2027, 17.8739),\n",
    "    'Burma': (21.9162, 95.9560),\n",
    "    'Martinique': (14.6415, -61.0242),\n",
    "    'Trinidad and Tobago': (10.6918, -61.2225),\n",
    "    'Bahrain': (26.0667, 50.5577),\n",
    "    'Syria': (34.8021, 38.9968),\n",
    "    'Kyrgyzstan': (41.2044, 74.7661),\n",
    "    'Botswana': (-22.3285, 24.6849),\n",
    "    'Zambia': (-13.1339, 27.8493),\n",
    "    'Bahamas': (25.0343, -77.3963),\n",
    "    'Papua New Guinea': (-6.3149, 143.9555),\n",
    "    'Ecuador': (-1.8312, -78.1834),\n",
    "    'Palestinian Territory': (31.9522, 35.2332)\n",
    "}"
   ]
  },
  {
   "cell_type": "code",
   "execution_count": 48,
   "metadata": {},
   "outputs": [
    {
     "data": {
      "application/vnd.plotly.v1+json": {
       "config": {
        "plotlyServerURL": "https://plot.ly"
       },
       "data": [
        {
         "hoverinfo": "none",
         "lat": [
          51.1657,
          41.8719,
          null,
          46.6034,
          41.8719,
          null,
          46.6034,
          51.1657,
          null,
          40.4637,
          55.3781,
          null,
          55.3781,
          37.0902,
          null,
          46.6034,
          55.3781,
          null,
          40.4637,
          37.0902,
          null,
          46.6034,
          40.4637,
          null,
          46.6034,
          37.0902,
          null,
          36.2048,
          37.0902,
          null,
          46.6034,
          51.9194,
          null,
          45.1,
          41.8719,
          null,
          47.5162,
          51.1657,
          null,
          56.1304,
          37.0902,
          null,
          41.8719,
          40.4637,
          null,
          56.1304,
          55.3781,
          null,
          22.3193,
          23.6978,
          null,
          -25.2744,
          37.0902,
          null,
          41.8719,
          37.0902,
          null,
          51.1657,
          40.4637,
          null,
          51.1657,
          55.3781,
          null,
          41.8719,
          55.3781,
          null,
          51.1657,
          37.0902,
          null,
          47.5162,
          37.0902,
          null,
          -30.5595,
          37.0902,
          null,
          53.1424,
          55.3781,
          null,
          50.5039,
          46.6034,
          null,
          56.1304,
          46.6034,
          null,
          50.5039,
          41.8719,
          null,
          52.1326,
          55.3781,
          null,
          22.3193,
          37.0902,
          null,
          46.6034,
          46.8182,
          null,
          46.6034,
          39.3999,
          null,
          51.1657,
          60.1282,
          null,
          53.1424,
          37.0902,
          null,
          56.2639,
          60.1282,
          null,
          12.8797,
          37.0902,
          null,
          23.6345,
          37.0902,
          null,
          -25.2744,
          55.3781,
          null,
          61.524,
          48.3794,
          null,
          46.6034,
          60.1282,
          null,
          51.1657,
          46.8182,
          null,
          36.2048,
          55.3781,
          null,
          35.8617,
          22.3193,
          null,
          46.8182,
          55.3781,
          null,
          46.6034,
          36.2048,
          null,
          60.472,
          60.1282,
          null,
          46.6034,
          52.1326,
          null
         ],
         "line": {
          "color": "black",
          "width": 1
         },
         "locationmode": "ISO-3",
         "lon": [
          10.4515,
          12.5674,
          null,
          1.8883,
          12.5674,
          null,
          1.8883,
          10.4515,
          null,
          -3.7492,
          -3.436,
          null,
          -3.436,
          -95.7129,
          null,
          1.8883,
          -3.436,
          null,
          -3.7492,
          -95.7129,
          null,
          1.8883,
          -3.7492,
          null,
          1.8883,
          -95.7129,
          null,
          138.2529,
          -95.7129,
          null,
          1.8883,
          19.1451,
          null,
          15.2,
          12.5674,
          null,
          14.5501,
          10.4515,
          null,
          -106.3468,
          -95.7129,
          null,
          12.5674,
          -3.7492,
          null,
          -106.3468,
          -3.436,
          null,
          114.1694,
          120.9605,
          null,
          133.7751,
          -95.7129,
          null,
          12.5674,
          -95.7129,
          null,
          10.4515,
          -3.7492,
          null,
          10.4515,
          -3.436,
          null,
          12.5674,
          -3.436,
          null,
          10.4515,
          -95.7129,
          null,
          14.5501,
          -95.7129,
          null,
          22.9375,
          -95.7129,
          null,
          -7.6921,
          -3.436,
          null,
          4.4699,
          1.8883,
          null,
          -106.3468,
          1.8883,
          null,
          4.4699,
          12.5674,
          null,
          5.2913,
          -3.436,
          null,
          114.1694,
          -95.7129,
          null,
          1.8883,
          8.2275,
          null,
          1.8883,
          -8.2245,
          null,
          10.4515,
          18.6435,
          null,
          -7.6921,
          -95.7129,
          null,
          9.5018,
          18.6435,
          null,
          121.774,
          -95.7129,
          null,
          -102.5528,
          -95.7129,
          null,
          133.7751,
          -3.436,
          null,
          105.3188,
          31.1656,
          null,
          1.8883,
          18.6435,
          null,
          10.4515,
          8.2275,
          null,
          138.2529,
          -3.436,
          null,
          104.1954,
          114.1694,
          null,
          8.2275,
          -3.436,
          null,
          1.8883,
          138.2529,
          null,
          8.4689,
          18.6435,
          null,
          1.8883,
          5.2913,
          null
         ],
         "mode": "lines",
         "type": "scattergeo"
        },
        {
         "hoverinfo": "text",
         "lat": [
          61.524,
          51.1657,
          41.8719,
          37.0902,
          58.5953,
          48.3794,
          46.8182,
          55.1694,
          46.6034,
          26.8206,
          55.3781,
          20.5937,
          22.3193,
          9.7489,
          40.4637,
          56.1304,
          56.8796,
          47.1625,
          36.2048,
          51.9194,
          56.2639,
          35.9078,
          45.1,
          47.5162,
          12.8797,
          39.3999,
          23.6978,
          42.3154,
          45.9432,
          -25.2744,
          -30.5595,
          49.8153,
          60.1282,
          53.1424,
          39.0742,
          -32.5228,
          -38.4161,
          50.5039,
          52.1326,
          49.8175,
          23.685,
          -40.9006,
          41.1533,
          61.9241,
          64.9631,
          47.166,
          32.4279,
          -19.0154,
          60.472,
          43.9159,
          21.5218,
          -9.1899,
          31.0461,
          41.3775,
          35.8617,
          23.6345,
          40.1431,
          -16.2902,
          -14.235,
          6.4238,
          44.0165,
          41.6086,
          43.7384,
          48.669,
          38.9637,
          14.4974,
          33.8869,
          25.276,
          53.7098,
          40.0691,
          28.0339,
          15.87,
          4.5709,
          -35.6751,
          1.3521,
          7.9465,
          31.7917,
          14.0583,
          46.1512,
          30.3753,
          42.7087,
          -22.9576,
          42.7339,
          44.0165,
          47.4116,
          12.2383,
          12.5211,
          49.8175,
          9.145,
          30.5852,
          18.2208,
          48.0196,
          -0.7893,
          -0.228,
          26.3351,
          27.5142,
          18.1096,
          21.0079,
          -11.2027,
          38.9697,
          8.5379,
          33.9391,
          14.6415,
          10.6918,
          34.8021,
          41.2044,
          -22.3285,
          9.9456,
          25.0343,
          -6.3149,
          -1.8312,
          31.9522,
          17.5707
         ],
         "locationmode": "ISO-3",
         "lon": [
          105.3188,
          10.4515,
          12.5674,
          -95.7129,
          25.0136,
          31.1656,
          8.2275,
          23.8813,
          1.8883,
          30.8025,
          -3.436,
          78.9629,
          114.1694,
          -83.7534,
          -3.7492,
          -106.3468,
          24.6032,
          19.5033,
          138.2529,
          19.1451,
          9.5018,
          127.7669,
          15.2,
          14.5501,
          121.774,
          -8.2245,
          120.9605,
          43.3569,
          24.9668,
          133.7751,
          22.9375,
          6.1296,
          18.6435,
          -7.6921,
          21.8243,
          -55.7658,
          -63.6167,
          4.4699,
          5.2913,
          15.4729,
          90.3563,
          174.886,
          20.1683,
          25.7482,
          -19.0208,
          9.5554,
          53.688,
          29.1549,
          8.4689,
          17.6791,
          -77.7812,
          -75.0152,
          34.8516,
          64.5853,
          104.1954,
          -102.5528,
          47.5769,
          -63.5887,
          -51.9253,
          -66.5897,
          21.0059,
          21.7453,
          7.4246,
          19.699,
          35.2433,
          -14.4524,
          9.5375,
          51.2148,
          27.9534,
          45.0382,
          1.6596,
          100.9925,
          -74.2973,
          -71.543,
          103.8198,
          -1.0232,
          -7.0926,
          108.2772,
          14.9955,
          69.3451,
          19.3744,
          18.4904,
          25.4858,
          21.0059,
          28.3699,
          -1.5616,
          -69.9683,
          15.4729,
          40.4897,
          36.2384,
          -66.5901,
          66.9237,
          113.9213,
          15.8277,
          17.2283,
          90.4336,
          -77.2975,
          -10.9408,
          17.8739,
          59.5563,
          -80.7821,
          67.71,
          -61.0242,
          -61.2225,
          38.9968,
          74.7661,
          24.6849,
          -9.6966,
          -77.3963,
          143.9555,
          -78.1834,
          35.2332,
          -3.9962
         ],
         "marker": {
          "color": [
           "red",
           "blue",
           "blue",
           "blue",
           "red",
           "grey",
           "grey",
           "red",
           "blue",
           "grey",
           "blue",
           "red",
           "grey",
           "lightyellow",
           "blue",
           "blue",
           "red",
           "red",
           "grey",
           "red",
           "grey",
           "grey",
           "blue",
           "grey",
           "grey",
           "grey",
           "grey",
           "red",
           "grey",
           "blue",
           "grey",
           "lightyellow",
           "grey",
           "grey",
           "grey",
           "lightyellow",
           "grey",
           "blue",
           "grey",
           "red",
           "lightyellow",
           "grey",
           "lightyellow",
           "grey",
           "lightyellow",
           "lightyellow",
           "grey",
           "lightyellow",
           "grey",
           "grey",
           "red",
           "lightyellow",
           "grey",
           "grey",
           "red",
           "blue",
           "lightyellow",
           "lightyellow",
           "grey",
           "lightyellow",
           "red",
           "lightyellow",
           "lightyellow",
           "grey",
           "grey",
           "lightyellow",
           "lightyellow",
           "lightyellow",
           "grey",
           "grey",
           "lightyellow",
           "lightyellow",
           "lightyellow",
           "lightyellow",
           "lightyellow",
           "lightyellow",
           "lightyellow",
           "lightyellow",
           "lightyellow",
           "lightyellow",
           "lightyellow",
           "lightyellow",
           "lightyellow",
           "lightyellow",
           "lightyellow",
           "lightyellow",
           "lightyellow",
           "lightyellow",
           "lightyellow",
           "lightyellow",
           "lightyellow",
           "lightyellow",
           "lightyellow",
           "lightyellow",
           "lightyellow",
           "lightyellow",
           "lightyellow",
           "lightyellow",
           "lightyellow",
           "lightyellow",
           "lightyellow",
           "lightyellow",
           "lightyellow",
           "lightyellow",
           "lightyellow",
           "lightyellow",
           "lightyellow",
           "lightyellow",
           "lightyellow",
           "lightyellow",
           "lightyellow",
           "lightyellow",
           "lightyellow"
          ],
          "line": {
           "color": "black",
           "width": 0.5
          },
          "size": [
           52.08886637276722,
           12.698425099200294,
           18.533752992850637,
           45.38446870901983,
           4.242640687119285,
           8.366600265340756,
           4.663689526544408,
           7.54983443527075,
           18.445866745696716,
           1.6583123951777,
           20.694202086574876,
           6.442049363362563,
           8.261355820929152,
           0.8660254037844386,
           9.137833441248533,
           9.16515138991168,
           3.7080992435478315,
           3.840572873934304,
           12.649110640673518,
           5.267826876426369,
           4.58257569495584,
           2.9154759474226504,
           2.9154759474226504,
           3.640054944640259,
           3,
           2.7838821814150108,
           3.8078865529319543,
           2.598076211353316,
           2.598076211353316,
           6.324555320336759,
           2.3979157616563596,
           1.4142135623730951,
           6.892024376045111,
           2.958039891549808,
           3.5,
           0.5,
           3.122498999199199,
           4.272001872658765,
           4.301162633521313,
           4.6097722286464435,
           0.5,
           2.6457513110645907,
           0.5,
           4.663689526544408,
           1.5,
           1.5,
           2.692582403567252,
           0.8660254037844386,
           2.8722813232690143,
           2,
           1.8708286933869707,
           1.3228756555322954,
           2.449489742783178,
           2,
           3.2015621187164243,
           5.338539126015656,
           0.8660254037844386,
           0.7071067811865476,
           3.3166247903554,
           1.3228756555322954,
           3.122498999199199,
           0.7071067811865476,
           0.8660254037844386,
           1.7320508075688772,
           2.7838821814150108,
           1.5,
           1.3228756555322954,
           0.5,
           1.6583123951777,
           1.5811388300841898,
           1.3228756555322954,
           1.224744871391589,
           0.8660254037844386,
           1.4142135623730951,
           0.8660254037844386,
           0.7071067811865476,
           1.3228756555322954,
           0.8660254037844386,
           0.7071067811865476,
           0.7071067811865476,
           0.7071067811865476,
           0.8660254037844386,
           1.4142135623730951,
           0.7071067811865476,
           0.8660254037844386,
           1,
           0.5,
           1,
           0.5,
           0.5,
           1,
           1.3228756555322954,
           1,
           0.5,
           0.5,
           0.5,
           0.7071067811865476,
           1,
           0.5,
           0.7071067811865476,
           0.8660254037844386,
           0.5,
           0.5,
           0.5,
           0.5,
           0.7071067811865476,
           0.7071067811865476,
           0.5,
           0.5,
           0.5,
           0.5,
           0.5,
           0.5
          ]
         },
         "mode": "markers",
         "text": [
          "Russia",
          "Germany",
          "Italy",
          "United States of America",
          "Estonia",
          "Ukraine",
          "Switzerland",
          "Lithuania",
          "France",
          "Egypt",
          "United Kingdom",
          "India",
          "Hong Kong",
          "Costa Rica",
          "Spain",
          "Canada",
          "Latvia",
          "Hungary",
          "Japan",
          "Poland",
          "Denmark",
          "Korea",
          "Croatia",
          "Austria",
          "Philippines",
          "Portugal",
          "Taiwan",
          "Georgia",
          "Romania",
          "Australia",
          "South Africa",
          "Luxembourg",
          "Sweden",
          "Ireland",
          "Greece",
          "Uruguay",
          "Argentina",
          "Belgium",
          "Netherlands",
          "Czech Republic",
          "Bangladesh",
          "New Zealand",
          "Albania",
          "Finland",
          "Iceland",
          "Liechtenstein",
          "Iran",
          "Zimbabwe",
          "Norway",
          "Bosnia and Herzegovina",
          "Cuba",
          "Peru",
          "Israel",
          "Uzbekistan",
          "China",
          "Mexico",
          "Azerbaijan",
          "Bolivia",
          "Brazil",
          "Venezuela",
          "Serbia",
          "Macedonia",
          "Monaco",
          "Slovakia",
          "Turkey",
          "Senegal",
          "Tunisia",
          "Qatar",
          "Cote D'Ivoire",
          "Belarus",
          "Armenia",
          "Algeria",
          "Thailand",
          "Colombia",
          "Chile",
          "Singapore",
          "Ghana",
          "Morocco",
          "Vietnam",
          "Slovenia",
          "Pakistan",
          "Montenegro",
          "Namibia",
          "Bulgaria",
          "Yugoslavia",
          "Moldova",
          "Burkina Faso",
          "Aruba",
          "Czechoslovakia",
          "Ethiopia",
          "Jordan",
          "Puerto Rico",
          "Kazakhstan",
          "Indonesia",
          "Congo",
          "Libya",
          "Bhutan",
          "Jamaica",
          "Mauritania",
          "Angola",
          "Turkmenistan",
          "Panama",
          "Afghanistan",
          "Martinique",
          "Trinidad and Tobago",
          "Syria",
          "Kyrgyzstan",
          "Botswana",
          "Guinea",
          "Bahamas",
          "Papua New Guinea",
          "Ecuador",
          "Palestinian Territory",
          "Mali"
         ],
         "type": "scattergeo"
        }
       ],
       "layout": {
        "geo": {
         "landcolor": "rgb(217, 217, 217)",
         "projection": {
          "type": "natural earth"
         },
         "showcountries": true,
         "showland": true
        },
        "showlegend": false,
        "template": {
         "data": {
          "bar": [
           {
            "error_x": {
             "color": "#2a3f5f"
            },
            "error_y": {
             "color": "#2a3f5f"
            },
            "marker": {
             "line": {
              "color": "#E5ECF6",
              "width": 0.5
             },
             "pattern": {
              "fillmode": "overlay",
              "size": 10,
              "solidity": 0.2
             }
            },
            "type": "bar"
           }
          ],
          "barpolar": [
           {
            "marker": {
             "line": {
              "color": "#E5ECF6",
              "width": 0.5
             },
             "pattern": {
              "fillmode": "overlay",
              "size": 10,
              "solidity": 0.2
             }
            },
            "type": "barpolar"
           }
          ],
          "carpet": [
           {
            "aaxis": {
             "endlinecolor": "#2a3f5f",
             "gridcolor": "white",
             "linecolor": "white",
             "minorgridcolor": "white",
             "startlinecolor": "#2a3f5f"
            },
            "baxis": {
             "endlinecolor": "#2a3f5f",
             "gridcolor": "white",
             "linecolor": "white",
             "minorgridcolor": "white",
             "startlinecolor": "#2a3f5f"
            },
            "type": "carpet"
           }
          ],
          "choropleth": [
           {
            "colorbar": {
             "outlinewidth": 0,
             "ticks": ""
            },
            "type": "choropleth"
           }
          ],
          "contour": [
           {
            "colorbar": {
             "outlinewidth": 0,
             "ticks": ""
            },
            "colorscale": [
             [
              0,
              "#0d0887"
             ],
             [
              0.1111111111111111,
              "#46039f"
             ],
             [
              0.2222222222222222,
              "#7201a8"
             ],
             [
              0.3333333333333333,
              "#9c179e"
             ],
             [
              0.4444444444444444,
              "#bd3786"
             ],
             [
              0.5555555555555556,
              "#d8576b"
             ],
             [
              0.6666666666666666,
              "#ed7953"
             ],
             [
              0.7777777777777778,
              "#fb9f3a"
             ],
             [
              0.8888888888888888,
              "#fdca26"
             ],
             [
              1,
              "#f0f921"
             ]
            ],
            "type": "contour"
           }
          ],
          "contourcarpet": [
           {
            "colorbar": {
             "outlinewidth": 0,
             "ticks": ""
            },
            "type": "contourcarpet"
           }
          ],
          "heatmap": [
           {
            "colorbar": {
             "outlinewidth": 0,
             "ticks": ""
            },
            "colorscale": [
             [
              0,
              "#0d0887"
             ],
             [
              0.1111111111111111,
              "#46039f"
             ],
             [
              0.2222222222222222,
              "#7201a8"
             ],
             [
              0.3333333333333333,
              "#9c179e"
             ],
             [
              0.4444444444444444,
              "#bd3786"
             ],
             [
              0.5555555555555556,
              "#d8576b"
             ],
             [
              0.6666666666666666,
              "#ed7953"
             ],
             [
              0.7777777777777778,
              "#fb9f3a"
             ],
             [
              0.8888888888888888,
              "#fdca26"
             ],
             [
              1,
              "#f0f921"
             ]
            ],
            "type": "heatmap"
           }
          ],
          "heatmapgl": [
           {
            "colorbar": {
             "outlinewidth": 0,
             "ticks": ""
            },
            "colorscale": [
             [
              0,
              "#0d0887"
             ],
             [
              0.1111111111111111,
              "#46039f"
             ],
             [
              0.2222222222222222,
              "#7201a8"
             ],
             [
              0.3333333333333333,
              "#9c179e"
             ],
             [
              0.4444444444444444,
              "#bd3786"
             ],
             [
              0.5555555555555556,
              "#d8576b"
             ],
             [
              0.6666666666666666,
              "#ed7953"
             ],
             [
              0.7777777777777778,
              "#fb9f3a"
             ],
             [
              0.8888888888888888,
              "#fdca26"
             ],
             [
              1,
              "#f0f921"
             ]
            ],
            "type": "heatmapgl"
           }
          ],
          "histogram": [
           {
            "marker": {
             "pattern": {
              "fillmode": "overlay",
              "size": 10,
              "solidity": 0.2
             }
            },
            "type": "histogram"
           }
          ],
          "histogram2d": [
           {
            "colorbar": {
             "outlinewidth": 0,
             "ticks": ""
            },
            "colorscale": [
             [
              0,
              "#0d0887"
             ],
             [
              0.1111111111111111,
              "#46039f"
             ],
             [
              0.2222222222222222,
              "#7201a8"
             ],
             [
              0.3333333333333333,
              "#9c179e"
             ],
             [
              0.4444444444444444,
              "#bd3786"
             ],
             [
              0.5555555555555556,
              "#d8576b"
             ],
             [
              0.6666666666666666,
              "#ed7953"
             ],
             [
              0.7777777777777778,
              "#fb9f3a"
             ],
             [
              0.8888888888888888,
              "#fdca26"
             ],
             [
              1,
              "#f0f921"
             ]
            ],
            "type": "histogram2d"
           }
          ],
          "histogram2dcontour": [
           {
            "colorbar": {
             "outlinewidth": 0,
             "ticks": ""
            },
            "colorscale": [
             [
              0,
              "#0d0887"
             ],
             [
              0.1111111111111111,
              "#46039f"
             ],
             [
              0.2222222222222222,
              "#7201a8"
             ],
             [
              0.3333333333333333,
              "#9c179e"
             ],
             [
              0.4444444444444444,
              "#bd3786"
             ],
             [
              0.5555555555555556,
              "#d8576b"
             ],
             [
              0.6666666666666666,
              "#ed7953"
             ],
             [
              0.7777777777777778,
              "#fb9f3a"
             ],
             [
              0.8888888888888888,
              "#fdca26"
             ],
             [
              1,
              "#f0f921"
             ]
            ],
            "type": "histogram2dcontour"
           }
          ],
          "mesh3d": [
           {
            "colorbar": {
             "outlinewidth": 0,
             "ticks": ""
            },
            "type": "mesh3d"
           }
          ],
          "parcoords": [
           {
            "line": {
             "colorbar": {
              "outlinewidth": 0,
              "ticks": ""
             }
            },
            "type": "parcoords"
           }
          ],
          "pie": [
           {
            "automargin": true,
            "type": "pie"
           }
          ],
          "scatter": [
           {
            "fillpattern": {
             "fillmode": "overlay",
             "size": 10,
             "solidity": 0.2
            },
            "type": "scatter"
           }
          ],
          "scatter3d": [
           {
            "line": {
             "colorbar": {
              "outlinewidth": 0,
              "ticks": ""
             }
            },
            "marker": {
             "colorbar": {
              "outlinewidth": 0,
              "ticks": ""
             }
            },
            "type": "scatter3d"
           }
          ],
          "scattercarpet": [
           {
            "marker": {
             "colorbar": {
              "outlinewidth": 0,
              "ticks": ""
             }
            },
            "type": "scattercarpet"
           }
          ],
          "scattergeo": [
           {
            "marker": {
             "colorbar": {
              "outlinewidth": 0,
              "ticks": ""
             }
            },
            "type": "scattergeo"
           }
          ],
          "scattergl": [
           {
            "marker": {
             "colorbar": {
              "outlinewidth": 0,
              "ticks": ""
             }
            },
            "type": "scattergl"
           }
          ],
          "scattermapbox": [
           {
            "marker": {
             "colorbar": {
              "outlinewidth": 0,
              "ticks": ""
             }
            },
            "type": "scattermapbox"
           }
          ],
          "scatterpolar": [
           {
            "marker": {
             "colorbar": {
              "outlinewidth": 0,
              "ticks": ""
             }
            },
            "type": "scatterpolar"
           }
          ],
          "scatterpolargl": [
           {
            "marker": {
             "colorbar": {
              "outlinewidth": 0,
              "ticks": ""
             }
            },
            "type": "scatterpolargl"
           }
          ],
          "scatterternary": [
           {
            "marker": {
             "colorbar": {
              "outlinewidth": 0,
              "ticks": ""
             }
            },
            "type": "scatterternary"
           }
          ],
          "surface": [
           {
            "colorbar": {
             "outlinewidth": 0,
             "ticks": ""
            },
            "colorscale": [
             [
              0,
              "#0d0887"
             ],
             [
              0.1111111111111111,
              "#46039f"
             ],
             [
              0.2222222222222222,
              "#7201a8"
             ],
             [
              0.3333333333333333,
              "#9c179e"
             ],
             [
              0.4444444444444444,
              "#bd3786"
             ],
             [
              0.5555555555555556,
              "#d8576b"
             ],
             [
              0.6666666666666666,
              "#ed7953"
             ],
             [
              0.7777777777777778,
              "#fb9f3a"
             ],
             [
              0.8888888888888888,
              "#fdca26"
             ],
             [
              1,
              "#f0f921"
             ]
            ],
            "type": "surface"
           }
          ],
          "table": [
           {
            "cells": {
             "fill": {
              "color": "#EBF0F8"
             },
             "line": {
              "color": "white"
             }
            },
            "header": {
             "fill": {
              "color": "#C8D4E3"
             },
             "line": {
              "color": "white"
             }
            },
            "type": "table"
           }
          ]
         },
         "layout": {
          "annotationdefaults": {
           "arrowcolor": "#2a3f5f",
           "arrowhead": 0,
           "arrowwidth": 1
          },
          "autotypenumbers": "strict",
          "coloraxis": {
           "colorbar": {
            "outlinewidth": 0,
            "ticks": ""
           }
          },
          "colorscale": {
           "diverging": [
            [
             0,
             "#8e0152"
            ],
            [
             0.1,
             "#c51b7d"
            ],
            [
             0.2,
             "#de77ae"
            ],
            [
             0.3,
             "#f1b6da"
            ],
            [
             0.4,
             "#fde0ef"
            ],
            [
             0.5,
             "#f7f7f7"
            ],
            [
             0.6,
             "#e6f5d0"
            ],
            [
             0.7,
             "#b8e186"
            ],
            [
             0.8,
             "#7fbc41"
            ],
            [
             0.9,
             "#4d9221"
            ],
            [
             1,
             "#276419"
            ]
           ],
           "sequential": [
            [
             0,
             "#0d0887"
            ],
            [
             0.1111111111111111,
             "#46039f"
            ],
            [
             0.2222222222222222,
             "#7201a8"
            ],
            [
             0.3333333333333333,
             "#9c179e"
            ],
            [
             0.4444444444444444,
             "#bd3786"
            ],
            [
             0.5555555555555556,
             "#d8576b"
            ],
            [
             0.6666666666666666,
             "#ed7953"
            ],
            [
             0.7777777777777778,
             "#fb9f3a"
            ],
            [
             0.8888888888888888,
             "#fdca26"
            ],
            [
             1,
             "#f0f921"
            ]
           ],
           "sequentialminus": [
            [
             0,
             "#0d0887"
            ],
            [
             0.1111111111111111,
             "#46039f"
            ],
            [
             0.2222222222222222,
             "#7201a8"
            ],
            [
             0.3333333333333333,
             "#9c179e"
            ],
            [
             0.4444444444444444,
             "#bd3786"
            ],
            [
             0.5555555555555556,
             "#d8576b"
            ],
            [
             0.6666666666666666,
             "#ed7953"
            ],
            [
             0.7777777777777778,
             "#fb9f3a"
            ],
            [
             0.8888888888888888,
             "#fdca26"
            ],
            [
             1,
             "#f0f921"
            ]
           ]
          },
          "colorway": [
           "#636efa",
           "#EF553B",
           "#00cc96",
           "#ab63fa",
           "#FFA15A",
           "#19d3f3",
           "#FF6692",
           "#B6E880",
           "#FF97FF",
           "#FECB52"
          ],
          "font": {
           "color": "#2a3f5f"
          },
          "geo": {
           "bgcolor": "white",
           "lakecolor": "white",
           "landcolor": "#E5ECF6",
           "showlakes": true,
           "showland": true,
           "subunitcolor": "white"
          },
          "hoverlabel": {
           "align": "left"
          },
          "hovermode": "closest",
          "mapbox": {
           "style": "light"
          },
          "paper_bgcolor": "white",
          "plot_bgcolor": "#E5ECF6",
          "polar": {
           "angularaxis": {
            "gridcolor": "white",
            "linecolor": "white",
            "ticks": ""
           },
           "bgcolor": "#E5ECF6",
           "radialaxis": {
            "gridcolor": "white",
            "linecolor": "white",
            "ticks": ""
           }
          },
          "scene": {
           "xaxis": {
            "backgroundcolor": "#E5ECF6",
            "gridcolor": "white",
            "gridwidth": 2,
            "linecolor": "white",
            "showbackground": true,
            "ticks": "",
            "zerolinecolor": "white"
           },
           "yaxis": {
            "backgroundcolor": "#E5ECF6",
            "gridcolor": "white",
            "gridwidth": 2,
            "linecolor": "white",
            "showbackground": true,
            "ticks": "",
            "zerolinecolor": "white"
           },
           "zaxis": {
            "backgroundcolor": "#E5ECF6",
            "gridcolor": "white",
            "gridwidth": 2,
            "linecolor": "white",
            "showbackground": true,
            "ticks": "",
            "zerolinecolor": "white"
           }
          },
          "shapedefaults": {
           "line": {
            "color": "#2a3f5f"
           }
          },
          "ternary": {
           "aaxis": {
            "gridcolor": "white",
            "linecolor": "white",
            "ticks": ""
           },
           "baxis": {
            "gridcolor": "white",
            "linecolor": "white",
            "ticks": ""
           },
           "bgcolor": "#E5ECF6",
           "caxis": {
            "gridcolor": "white",
            "linecolor": "white",
            "ticks": ""
           }
          },
          "title": {
           "x": 0.05
          },
          "xaxis": {
           "automargin": true,
           "gridcolor": "white",
           "linecolor": "white",
           "ticks": "",
           "title": {
            "standoff": 15
           },
           "zerolinecolor": "white",
           "zerolinewidth": 2
          },
          "yaxis": {
           "automargin": true,
           "gridcolor": "white",
           "linecolor": "white",
           "ticks": "",
           "title": {
            "standoff": 15
           },
           "zerolinecolor": "white",
           "zerolinewidth": 2
          }
         }
        },
        "title": {
         "text": "Film Production Collaboration Network on a Map"
        }
       }
      }
     },
     "metadata": {},
     "output_type": "display_data"
    }
   ],
   "source": [
    "# Map country coordinates\n",
    "node_lat = []\n",
    "node_lon = []\n",
    "node_sizes = []\n",
    "node_colors = []\n",
    "for country in countries:\n",
    "    if country in country_coords:\n",
    "        node_lat.append(country_coords[country][0])\n",
    "        node_lon.append(country_coords[country][1])\n",
    "        node_sizes.append(root_film_count[country] * 0.5)  \n",
    "        # Assign color based on Cold War side\n",
    "        node_colors.append(\n",
    "            'blue' if country_cold_war_side.get(country) == 'Western' else\n",
    "            'red' if country_cold_war_side.get(country) == 'Eastern' else\n",
    "            'lightyellow' if country_cold_war_side.get(country) == 'Lack of data' else\n",
    "            'grey'\n",
    "        )\n",
    "\n",
    "# Prepare edges\n",
    "edge_lat = []\n",
    "edge_lon = []\n",
    "for (c1, c2), weight in collaboration_count.items():\n",
    "    if c1 in country_coords and c2 in country_coords:\n",
    "        edge_lat.extend([country_coords[c1][0], country_coords[c2][0], None])\n",
    "        edge_lon.extend([country_coords[c1][1], country_coords[c2][1], None])\n",
    "\n",
    "# Create the map\n",
    "fig = go.Figure()\n",
    "\n",
    "# Add edges\n",
    "fig.add_trace(go.Scattergeo(\n",
    "    locationmode='ISO-3',\n",
    "    lat=edge_lat,\n",
    "    lon=edge_lon,\n",
    "    mode='lines',\n",
    "    line=dict(width=1, color='black'),\n",
    "    hoverinfo='none'\n",
    "))\n",
    "\n",
    "# Add nodes\n",
    "fig.add_trace(go.Scattergeo(\n",
    "    locationmode='ISO-3',\n",
    "    lat=node_lat,\n",
    "    lon=node_lon,\n",
    "    mode='markers',\n",
    "    marker=dict(\n",
    "        size=node_sizes,\n",
    "        color=node_colors,\n",
    "        line=dict(width=0.5, color='black')\n",
    "    ),\n",
    "    text=countries,\n",
    "    hoverinfo='text'\n",
    "))\n",
    "\n",
    "# Mapbox configuration\n",
    "fig.update_layout(\n",
    "    title='Film Production Collaboration Network on a Map',\n",
    "    showlegend=False,\n",
    "    geo=dict(\n",
    "        projection_type='natural earth',\n",
    "        showland=True,\n",
    "        landcolor='rgb(217, 217, 217)',\n",
    "        showcountries=True,\n",
    "    )\n",
    ")\n",
    "\n",
    "# Show the map\n",
    "fig.show()"
   ]
  },
  {
   "cell_type": "markdown",
   "metadata": {},
   "source": [
    "We would like to make interactive plot of our graph and map in order to be able to play with the threshold to assign a `cold_war_side`, the minimum number of film produced needed to be display and the minimum number of collaboration needed to have an edge between two countries."
   ]
  },
  {
   "cell_type": "code",
   "execution_count": 49,
   "metadata": {},
   "outputs": [
    {
     "data": {
      "text/html": [
       "\n",
       "        <iframe\n",
       "            width=\"100%\"\n",
       "            height=\"650\"\n",
       "            src=\"http://127.0.0.1:8050/\"\n",
       "            frameborder=\"0\"\n",
       "            allowfullscreen\n",
       "            \n",
       "        ></iframe>\n",
       "        "
      ],
      "text/plain": [
       "<IPython.lib.display.IFrame at 0x1d4747bc560>"
      ]
     },
     "metadata": {},
     "output_type": "display_data"
    }
   ],
   "source": [
    "app_graph = Dash(__name__)\n",
    "\n",
    "# Layout\n",
    "app_graph.layout = html.Div([\n",
    "    html.H1(\"Interactive Film Production Collaboration Network\"),\n",
    "    dcc.Graph(id='network-graph'),\n",
    "    \n",
    "    # Slider for Cold War threshold\n",
    "    html.Label(\"Cold War Threshold (%)\"),\n",
    "    dcc.Slider(\n",
    "        id='threshold-slider',\n",
    "        min=0,\n",
    "        max=50,\n",
    "        step=1,\n",
    "        value=19,\n",
    "        marks={i: str(i) for i in range(5, 51, 5)}\n",
    "    ),\n",
    "    \n",
    "    # Slider for Minimum Films Produced\n",
    "    html.Label(\"Minimum Films Produced\"),\n",
    "    dcc.Slider(\n",
    "        id='min-films-slider',\n",
    "        min=1,\n",
    "        max=2000,\n",
    "        step=5,\n",
    "        value=40,\n",
    "        marks={i: str(i) for i in range(1, 2001, 50)}\n",
    "    ),\n",
    "    \n",
    "    # Slider for Minimum Collaboration Count\n",
    "    html.Label(\"Minimum Collaborations\"),\n",
    "    dcc.Slider(\n",
    "        id='min-collaborations-slider',\n",
    "        min=1,\n",
    "        max=450,\n",
    "        step=1,\n",
    "        value=10,\n",
    "        marks={i: str(i) for i in range(1, 451, 10)}\n",
    "    )\n",
    "])\n",
    "\n",
    "\n",
    "@app_graph.callback(\n",
    "    Output('network-graph', 'figure'),\n",
    "    Input('threshold-slider', 'value'),\n",
    "    Input('min-films-slider', 'value'),\n",
    "    Input('min-collaborations-slider', 'value')\n",
    ")\n",
    "def update_graph(threshold, min_films, min_collaborations):\n",
    "    # Compute country film counts and collaborations\n",
    "    country_film_count = Counter()\n",
    "    collaboration_count = Counter()\n",
    "    for countries in movies['countries']:\n",
    "        country_film_count.update(countries)\n",
    "        for pair in combinations(countries, 2):\n",
    "            collaboration_count[tuple(sorted(pair))] += 1\n",
    "\n",
    "    # Filter based on min_films\n",
    "    country_film_count = {k: v for k, v in country_film_count.items() if v > min_films}\n",
    "    root_film_count = {country: np.sqrt(count) for country, count in country_film_count.items()}\n",
    "    countries = list(root_film_count.keys())\n",
    "    \n",
    "    # Filter collaborations based on min_collaborations\n",
    "    collaboration_count = {k: v for k, v in collaboration_count.items() if v > min_collaborations}\n",
    "    collaboration_count = {k: v for k, v in collaboration_count.items() if k[0] in countries and k[1] in countries}\n",
    "\n",
    "    # Assign Cold War side\n",
    "    country_cold_war_side = assign_side(movies, countries, threshold=threshold)\n",
    "\n",
    "    # Create Graph\n",
    "    G = nx.Graph()\n",
    "    for country in countries:\n",
    "        G.add_node(country, side=country_cold_war_side[country], size=root_film_count[country])\n",
    "    for (c1, c2), count in collaboration_count.items():\n",
    "        G.add_edge(c1, c2, weight=count)\n",
    "\n",
    "    # Network Layout\n",
    "    pos = nx.spring_layout(G, seed=42, k=10, iterations=100)\n",
    "    edge_x, edge_y = [], []\n",
    "    for edge in G.edges():\n",
    "        x0, y0 = pos[edge[0]]\n",
    "        x1, y1 = pos[edge[1]]\n",
    "        edge_x += [x0, x1, None]\n",
    "        edge_y += [y0, y1, None]\n",
    "\n",
    "    edge_trace = go.Scatter(\n",
    "        x=edge_x, y=edge_y,\n",
    "        line=dict(width=0.5, color='black'),\n",
    "        hoverinfo='none',\n",
    "        mode='lines'\n",
    "    )\n",
    "\n",
    "    node_x, node_y, node_colors, node_sizes = [], [], [], []\n",
    "    for node in G.nodes():\n",
    "        x, y = pos[node]\n",
    "        node_x.append(x)\n",
    "        node_y.append(y)\n",
    "        if G.nodes[node]['side'] == 'Western':\n",
    "            node_colors.append('blue')\n",
    "        elif G.nodes[node]['side'] == 'Eastern':\n",
    "            node_colors.append('red')\n",
    "        elif G.nodes[node]['side'] == 'Lack of data':\n",
    "            node_colors.append('lightyellow')\n",
    "        else:\n",
    "            node_colors.append('grey')\n",
    "        node_sizes.append(G.nodes[node]['size'] * 0.5)\n",
    "\n",
    "    largest_nodes = sorted(G.nodes(data=True), key=lambda x: x[1]['size'], reverse=True)[:2]\n",
    "    largest_node_names = {node[0] for node in largest_nodes}\n",
    "    node_labels = [node if node in largest_node_names else \"\" for node in G.nodes()]\n",
    "\n",
    "    node_trace = go.Scatter(\n",
    "        x=node_x, y=node_y,\n",
    "        mode='markers+text',\n",
    "        text=node_labels,\n",
    "        textposition=\"top center\",\n",
    "        hoverinfo='text',\n",
    "        hovertext=[node for node in G.nodes()],\n",
    "        marker=dict(\n",
    "            showscale=False,\n",
    "            colorscale='YlGnBu',\n",
    "            size=node_sizes,\n",
    "            color=node_colors\n",
    "        ),\n",
    "        textfont=dict(\n",
    "            family='Arial Black',\n",
    "            size=11,\n",
    "            color=\"black\"\n",
    "        )\n",
    "    )\n",
    "\n",
    "    layout = go.Layout(\n",
    "        showlegend=False,\n",
    "        hovermode='closest',\n",
    "        xaxis=dict(showgrid=False, zeroline=False, showticklabels=False, visible=False),\n",
    "        yaxis=dict(showgrid=False, zeroline=False, showticklabels=False, visible=False),\n",
    "        plot_bgcolor='white'\n",
    "    )\n",
    "\n",
    "    fig = go.Figure(data=[edge_trace, node_trace], layout=layout)\n",
    "    return fig\n",
    "\n",
    "app_graph.run_server(debug=True)"
   ]
  },
  {
   "cell_type": "code",
   "execution_count": 50,
   "metadata": {},
   "outputs": [
    {
     "data": {
      "text/html": [
       "\n",
       "        <iframe\n",
       "            width=\"100%\"\n",
       "            height=\"650\"\n",
       "            src=\"http://127.0.0.1:8050/\"\n",
       "            frameborder=\"0\"\n",
       "            allowfullscreen\n",
       "            \n",
       "        ></iframe>\n",
       "        "
      ],
      "text/plain": [
       "<IPython.lib.display.IFrame at 0x1d4799b2030>"
      ]
     },
     "metadata": {},
     "output_type": "display_data"
    }
   ],
   "source": [
    "# Create a Dash application\n",
    "app_map = Dash(__name__)\n",
    "\n",
    "# Read and process the movies data\n",
    "movies = pd.read_csv(DATA_FOLDER_PREPROCESSED + \"preprocessed_movies.csv\")\n",
    "convert_csv(movies)\n",
    "\n",
    "# Layout with sliders and the map\n",
    "app_map.layout = html.Div([\n",
    "    html.H1('Film Production Collaboration Network'),\n",
    "    \n",
    "    html.Div([\n",
    "        html.Label('Cold War Threshold:'),\n",
    "        dcc.Slider(\n",
    "            id='cold-war-slider',\n",
    "            min=0,\n",
    "            max=50,\n",
    "            step=1,\n",
    "            value=19,\n",
    "            marks={i: str(i) for i in range(0, 51, 5)},\n",
    "        ),\n",
    "    ]),\n",
    "    \n",
    "    html.Div([\n",
    "        html.Label('Minimum Films Produced:'),\n",
    "        dcc.Slider(\n",
    "            id='min-films-slider',\n",
    "            min=1,\n",
    "            max=2000,\n",
    "            step=1,\n",
    "            value=40,\n",
    "            marks={i: str(i) for i in range(1, 2001, 50)},\n",
    "        ),\n",
    "    ]),\n",
    "    \n",
    "    html.Div([\n",
    "        html.Label('Minimum Collaboration Count:'),\n",
    "        dcc.Slider(\n",
    "            id='min-collab-slider',\n",
    "            min=1,\n",
    "            max=400,\n",
    "            step=1,\n",
    "            value=10,\n",
    "            marks={i: str(i) for i in range(1, 401, 10)},\n",
    "        ),\n",
    "    ]),\n",
    "\n",
    "    # Graph to display the map\n",
    "    dcc.Graph(id='film-network-map'),\n",
    "])\n",
    "\n",
    "# Callback to update the graph based on slider values\n",
    "@app_map.callback(\n",
    "    dash.dependencies.Output('film-network-map', 'figure'),\n",
    "    [\n",
    "        dash.dependencies.Input('cold-war-slider', 'value'),\n",
    "        dash.dependencies.Input('min-films-slider', 'value'),\n",
    "        dash.dependencies.Input('min-collab-slider', 'value'),\n",
    "    ]\n",
    ")\n",
    "def update_map(threshold, min_films, min_collab):\n",
    "    # Compute country film counts and collaborations\n",
    "    country_film_count = Counter()\n",
    "    collaboration_count = Counter()\n",
    "    for countries in movies['countries']:\n",
    "        country_film_count.update(countries)\n",
    "        for pair in combinations(countries, 2):\n",
    "            collaboration_count[tuple(sorted(pair))] += 1\n",
    "\n",
    "    # Filter based on min_films\n",
    "    country_film_count = {k: v for k, v in country_film_count.items() if v > min_films}\n",
    "    root_film_count = {country: np.sqrt(count) for country, count in country_film_count.items()}\n",
    "    countries = list(root_film_count.keys())\n",
    "    \n",
    "    # Filter collaborations based on min_collaborations\n",
    "    collaboration_count = {k: v for k, v in collaboration_count.items() if v > min_collab}\n",
    "    collaboration_count = {k: v for k, v in collaboration_count.items() if k[0] in countries and k[1] in countries}\n",
    "\n",
    "    # Assign Cold War side\n",
    "    country_cold_war_side = assign_side(movies, countries, threshold=threshold)\n",
    "\n",
    "    G = nx.Graph()\n",
    "    for country in country_film_count:\n",
    "        G.add_node(country, side=country_cold_war_side[country], size=np.sqrt(country_film_count[country]))\n",
    "\n",
    "    for (c1, c2), count in collaboration_count.items():\n",
    "        G.add_edge(c1, c2, weight=count)\n",
    "\n",
    "    # Map country coordinates\n",
    "    node_lat, node_lon, node_sizes, node_colors = [], [], [], []\n",
    "    for country in country_film_count:\n",
    "        if country in country_coords:\n",
    "            node_lat.append(country_coords[country][0])\n",
    "            node_lon.append(country_coords[country][1])\n",
    "            node_sizes.append(np.sqrt(country_film_count[country]) * 0.5)\n",
    "            node_colors.append(\n",
    "                'blue' if country_cold_war_side.get(country) == 'Western' else\n",
    "                'red' if country_cold_war_side.get(country) == 'Eastern' else\n",
    "                'lightyellow' if country_cold_war_side.get(country) == 'Lack of data' else\n",
    "                'grey'\n",
    "            )\n",
    "\n",
    "    # Prepare edges\n",
    "    edge_lat, edge_lon = [], []\n",
    "    for (c1, c2), weight in collaboration_count.items():\n",
    "        if c1 in country_coords and c2 in country_coords:\n",
    "            edge_lat.extend([country_coords[c1][0], country_coords[c2][0], None])\n",
    "            edge_lon.extend([country_coords[c1][1], country_coords[c2][1], None])\n",
    "\n",
    "    # Create the map\n",
    "    fig = go.Figure()\n",
    "\n",
    "    # Add edges\n",
    "    fig.add_trace(go.Scattergeo(\n",
    "        locationmode='ISO-3',\n",
    "        lat=edge_lat,\n",
    "        lon=edge_lon,\n",
    "        mode='lines',\n",
    "        line=dict(width=1, color='black'),\n",
    "        hoverinfo='none'\n",
    "    ))\n",
    "\n",
    "    # Add nodes\n",
    "    fig.add_trace(go.Scattergeo(\n",
    "        locationmode='ISO-3',\n",
    "        lat=node_lat,\n",
    "        lon=node_lon,\n",
    "        mode='markers',\n",
    "        marker=dict(\n",
    "            size=node_sizes,\n",
    "            color=node_colors,\n",
    "            line=dict(width=0.5, color='black')\n",
    "        ),\n",
    "        text=list(country_film_count.keys()),\n",
    "        hoverinfo='text'\n",
    "    ))\n",
    "\n",
    "    # Mapbox configuration\n",
    "    fig.update_layout(\n",
    "        showlegend=False,\n",
    "        geo=dict(\n",
    "            projection_type='natural earth',\n",
    "            showland=True,\n",
    "            landcolor='rgb(217, 217, 217)',\n",
    "            showcountries=True,\n",
    "        )\n",
    "    )\n",
    "\n",
    "    return fig\n",
    "\n",
    "app_map.run_server(debug=True)"
   ]
  }
 ],
 "metadata": {
  "kernelspec": {
   "display_name": "base",
   "language": "python",
   "name": "python3"
  },
  "language_info": {
   "codemirror_mode": {
    "name": "ipython",
    "version": 3
   },
   "file_extension": ".py",
   "mimetype": "text/x-python",
   "name": "python",
   "nbconvert_exporter": "python",
   "pygments_lexer": "ipython3",
   "version": "3.12.4"
  }
 },
 "nbformat": 4,
 "nbformat_minor": 2
}
