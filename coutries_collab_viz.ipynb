{
 "cells": [
  {
   "cell_type": "code",
   "execution_count": 29,
   "metadata": {},
   "outputs": [],
   "source": [
    "import pandas as pd\n",
    "import plotly.graph_objects as go\n",
    "import networkx as nx\n",
    "import matplotlib.pyplot as plt\n",
    "import numpy as np\n",
    "from collections import Counter\n",
    "from itertools import combinations\n",
    "from src.utils.helpers import convert_csv, assign_side\n",
    "from src.constants import *"
   ]
  },
  {
   "cell_type": "code",
   "execution_count": 30,
   "metadata": {},
   "outputs": [
    {
     "data": {
      "text/html": [
       "<div>\n",
       "<style scoped>\n",
       "    .dataframe tbody tr th:only-of-type {\n",
       "        vertical-align: middle;\n",
       "    }\n",
       "\n",
       "    .dataframe tbody tr th {\n",
       "        vertical-align: top;\n",
       "    }\n",
       "\n",
       "    .dataframe thead th {\n",
       "        text-align: right;\n",
       "    }\n",
       "</style>\n",
       "<table border=\"1\" class=\"dataframe\">\n",
       "  <thead>\n",
       "    <tr style=\"text-align: right;\">\n",
       "      <th></th>\n",
       "      <th>wikipedia_id</th>\n",
       "      <th>freebase_id</th>\n",
       "      <th>title</th>\n",
       "      <th>languages</th>\n",
       "      <th>countries</th>\n",
       "      <th>genres</th>\n",
       "      <th>keywords</th>\n",
       "      <th>release_date</th>\n",
       "      <th>runtime</th>\n",
       "      <th>plot_summary</th>\n",
       "      <th>cold_war_side</th>\n",
       "      <th>character_western_bloc_representation</th>\n",
       "      <th>character_eastern_bloc_representation</th>\n",
       "      <th>western_bloc_values</th>\n",
       "      <th>eastern_bloc_values</th>\n",
       "      <th>theme</th>\n",
       "    </tr>\n",
       "  </thead>\n",
       "  <tbody>\n",
       "    <tr>\n",
       "      <th>0</th>\n",
       "      <td>4213160.0</td>\n",
       "      <td>/m/0bq8q8</td>\n",
       "      <td>$</td>\n",
       "      <td>NaN</td>\n",
       "      <td>[Russia]</td>\n",
       "      <td>[Comedy, Crime, Drama]</td>\n",
       "      <td>NaN</td>\n",
       "      <td>1971</td>\n",
       "      <td>119.0</td>\n",
       "      <td>Set in Hamburg, West Germany, several criminal...</td>\n",
       "      <td>Western</td>\n",
       "      <td>[Joe Collins, American bank security consultan...</td>\n",
       "      <td>[Dawn Divine, hooker with a heart of gold, cun...</td>\n",
       "      <td>[None]</td>\n",
       "      <td>[Resourcefulness, cleverness, individualism, h...</td>\n",
       "      <td>[None]</td>\n",
       "    </tr>\n",
       "    <tr>\n",
       "      <th>1</th>\n",
       "      <td>NaN</td>\n",
       "      <td>NaN</td>\n",
       "      <td>$1,000 on the Black</td>\n",
       "      <td>[German, Italian]</td>\n",
       "      <td>[Germany, Italy]</td>\n",
       "      <td>[Western]</td>\n",
       "      <td>NaN</td>\n",
       "      <td>1966</td>\n",
       "      <td>104.0</td>\n",
       "      <td>Johnny Liston has just been released from pris...</td>\n",
       "      <td>Eastern</td>\n",
       "      <td>[None]</td>\n",
       "      <td>[Sartana, villainous, oppressive, cruel, arche...</td>\n",
       "      <td>[Johnny Liston, justice, determination, resili...</td>\n",
       "      <td>[Justice, revenge, oppressed vs. oppressor, re...</td>\n",
       "      <td>[Terror, betrayal, familial conflict, crime, r...</td>\n",
       "    </tr>\n",
       "    <tr>\n",
       "      <th>2</th>\n",
       "      <td>NaN</td>\n",
       "      <td>NaN</td>\n",
       "      <td>$10,000 Blood Money</td>\n",
       "      <td>NaN</td>\n",
       "      <td>[Russia]</td>\n",
       "      <td>[Western, Drama]</td>\n",
       "      <td>NaN</td>\n",
       "      <td>1967</td>\n",
       "      <td>NaN</td>\n",
       "      <td>Hired by a Mexican landowner to rescue his dau...</td>\n",
       "      <td>None</td>\n",
       "      <td>[None]</td>\n",
       "      <td>[None]</td>\n",
       "      <td>[None]</td>\n",
       "      <td>[None]</td>\n",
       "      <td>[crime, betrayal, revenge, bounty hunter, heis...</td>\n",
       "    </tr>\n",
       "    <tr>\n",
       "      <th>3</th>\n",
       "      <td>NaN</td>\n",
       "      <td>NaN</td>\n",
       "      <td>$100,000 for Ringo</td>\n",
       "      <td>[Italian]</td>\n",
       "      <td>[Italy]</td>\n",
       "      <td>[Western, Drama]</td>\n",
       "      <td>[spaghetti western, whipping]</td>\n",
       "      <td>1965</td>\n",
       "      <td>98.0</td>\n",
       "      <td>A stranger rides into Rainbow Valley where he'...</td>\n",
       "      <td>None</td>\n",
       "      <td>[None]</td>\n",
       "      <td>[None]</td>\n",
       "      <td>[None]</td>\n",
       "      <td>[None]</td>\n",
       "      <td>[Western, Civil War, mistaken identity, treasu...</td>\n",
       "    </tr>\n",
       "    <tr>\n",
       "      <th>4</th>\n",
       "      <td>NaN</td>\n",
       "      <td>NaN</td>\n",
       "      <td>'Anna' i wampir</td>\n",
       "      <td>NaN</td>\n",
       "      <td>[Russia]</td>\n",
       "      <td>[Crime]</td>\n",
       "      <td>NaN</td>\n",
       "      <td>1982</td>\n",
       "      <td>NaN</td>\n",
       "      <td>Silesia in Poland, late 60s. Bodies of vicious...</td>\n",
       "      <td>None</td>\n",
       "      <td>[None]</td>\n",
       "      <td>[None]</td>\n",
       "      <td>[None]</td>\n",
       "      <td>[None]</td>\n",
       "      <td>[murder mystery, horror, fog, Poland, 1960s]</td>\n",
       "    </tr>\n",
       "  </tbody>\n",
       "</table>\n",
       "</div>"
      ],
      "text/plain": [
       "   wikipedia_id freebase_id                title          languages  \\\n",
       "0     4213160.0   /m/0bq8q8                    $                NaN   \n",
       "1           NaN         NaN  $1,000 on the Black  [German, Italian]   \n",
       "2           NaN         NaN  $10,000 Blood Money                NaN   \n",
       "3           NaN         NaN   $100,000 for Ringo          [Italian]   \n",
       "4           NaN         NaN      'Anna' i wampir                NaN   \n",
       "\n",
       "          countries                  genres                       keywords  \\\n",
       "0          [Russia]  [Comedy, Crime, Drama]                            NaN   \n",
       "1  [Germany, Italy]               [Western]                            NaN   \n",
       "2          [Russia]        [Western, Drama]                            NaN   \n",
       "3           [Italy]        [Western, Drama]  [spaghetti western, whipping]   \n",
       "4          [Russia]                 [Crime]                            NaN   \n",
       "\n",
       "   release_date  runtime                                       plot_summary  \\\n",
       "0          1971    119.0  Set in Hamburg, West Germany, several criminal...   \n",
       "1          1966    104.0  Johnny Liston has just been released from pris...   \n",
       "2          1967      NaN  Hired by a Mexican landowner to rescue his dau...   \n",
       "3          1965     98.0  A stranger rides into Rainbow Valley where he'...   \n",
       "4          1982      NaN  Silesia in Poland, late 60s. Bodies of vicious...   \n",
       "\n",
       "  cold_war_side              character_western_bloc_representation  \\\n",
       "0       Western  [Joe Collins, American bank security consultan...   \n",
       "1       Eastern                                             [None]   \n",
       "2          None                                             [None]   \n",
       "3          None                                             [None]   \n",
       "4          None                                             [None]   \n",
       "\n",
       "               character_eastern_bloc_representation  \\\n",
       "0  [Dawn Divine, hooker with a heart of gold, cun...   \n",
       "1  [Sartana, villainous, oppressive, cruel, arche...   \n",
       "2                                             [None]   \n",
       "3                                             [None]   \n",
       "4                                             [None]   \n",
       "\n",
       "                                 western_bloc_values  \\\n",
       "0                                             [None]   \n",
       "1  [Johnny Liston, justice, determination, resili...   \n",
       "2                                             [None]   \n",
       "3                                             [None]   \n",
       "4                                             [None]   \n",
       "\n",
       "                                 eastern_bloc_values  \\\n",
       "0  [Resourcefulness, cleverness, individualism, h...   \n",
       "1  [Justice, revenge, oppressed vs. oppressor, re...   \n",
       "2                                             [None]   \n",
       "3                                             [None]   \n",
       "4                                             [None]   \n",
       "\n",
       "                                               theme  \n",
       "0                                             [None]  \n",
       "1  [Terror, betrayal, familial conflict, crime, r...  \n",
       "2  [crime, betrayal, revenge, bounty hunter, heis...  \n",
       "3  [Western, Civil War, mistaken identity, treasu...  \n",
       "4       [murder mystery, horror, fog, Poland, 1960s]  "
      ]
     },
     "execution_count": 30,
     "metadata": {},
     "output_type": "execute_result"
    }
   ],
   "source": [
    "movies = pd.read_csv(DATA_FOLDER_PREPROCESSED + \"preprocessed_movies.csv\")\n",
    "convert_csv(movies).head()"
   ]
  },
  {
   "cell_type": "code",
   "execution_count": 31,
   "metadata": {},
   "outputs": [],
   "source": [
    "country_film_count = Counter()\n",
    "collaboration_count = Counter()\n",
    "\n",
    "for countries in movies['countries']:\n",
    "    country_film_count.update(countries)\n",
    "    # Generate all unique combinations of two countries and count the collaborations\n",
    "    for pair in combinations(countries, 2):\n",
    "        collaboration_count[tuple(sorted(pair))] += 1  # Sort the pair to avoid duplicate keys (e.g., (A, B) and (B, A))\n",
    "\n",
    "# Keep only countries that have produced more than 40 films\n",
    "country_film_count = {k: v for k, v in country_film_count.items() if v > 40}\n",
    "\n",
    "# Compute the square root of the number of films for each country, and store in a new dictionary\n",
    "root_film_count = {country: np.sqrt(count) for country, count in country_film_count.items()}\n",
    "\n",
    "# Get a list of all the countries\n",
    "countries = list(root_film_count.keys())\n",
    "\n",
    "# Keep only collaborations that happened more than 10 times\n",
    "collaboration_count = {k: v for k, v in collaboration_count.items() if v > 10}\n",
    "\n",
    "# Make sure we have the same coutries than in our list of countries\n",
    "collaboration_count = {k: v for k, v in collaboration_count.items() if k[0] in countries and k[1] in countries}\n"
   ]
  },
  {
   "cell_type": "code",
   "execution_count": 32,
   "metadata": {},
   "outputs": [],
   "source": [
    "country_cold_war_side = assign_side(movies, countries, threshold=19)\n"
   ]
  },
  {
   "cell_type": "code",
   "execution_count": 33,
   "metadata": {},
   "outputs": [
    {
     "data": {
      "image/png": "[encoded data removed]",
      "text/plain": [
       "<Figure size 1000x800 with 1 Axes>"
      ]
     },
     "metadata": {},
     "output_type": "display_data"
    }
   ],
   "source": [
    "# With matplotlib\n",
    "G = nx.Graph()\n",
    "for country in countries:\n",
    "    G.add_node(country, side=country_cold_war_side[country], size=root_film_count[country])\n",
    "\n",
    "for (c1, c2), count in collaboration_count.items():\n",
    "    G.add_edge(c1, c2, weight=count)\n",
    "\n",
    "node_colors = [\n",
    "    'blue' if G.nodes[n]['side'] == 'Western' else\n",
    "    'red' if G.nodes[n]['side'] == 'Eastern' else 'grey'\n",
    "    for n in G.nodes\n",
    "]\n",
    "\n",
    "node_sizes = [G.nodes[n]['size'] * 10 for n in G.nodes] \n",
    "\n",
    "edge_weights = [G[u][v]['weight'] for u, v in G.edges]\n",
    "edge_widths = [weight * 0.01 for weight in edge_weights]\n",
    "\n",
    "plt.figure(figsize=(10, 8))\n",
    "pos = nx.spring_layout(G, seed=42, k=10)\n",
    "nx.draw_networkx_edges(G, pos, alpha=0.5, width=edge_widths)\n",
    "nx.draw_networkx_nodes(\n",
    "    G, pos, node_color=node_colors, edgecolors='black', node_size=node_sizes\n",
    ")\n",
    "nx.draw_networkx_labels(G, pos, font_size=10, font_color=\"black\")\n",
    "\n",
    "plt.title(\"Film Production Collaboration Network\", fontsize=16)\n",
    "plt.axis('off')\n",
    "plt.show()"
   ]
  },
  {
   "cell_type": "code",
   "execution_count": 34,
   "metadata": {},
   "outputs": [
    {
     "data": {
      "application/vnd.plotly.v1+json": {
       "config": {
        "plotlyServerURL": "https://plot.ly"
       },
       "data": [
        {
         "hoverinfo": "none",
         "line": {
          "color": "black",
          "width": 0.5
         },
         "mode": "lines",
         "type": "scatter",
         "x": [
          -0.022646445451448304,
          -0.6856435898280192,
          0.22003266523880233,
          -0.09446623941426811,
          0.22003266523880233,
          0.06405697865800392,
          0.22003266523880233,
          0.9356359821358355,
          0.22003266523880233,
          0.04964634936024409,
          0.22003266523880233,
          -0.21689664397345712,
          0.22003266523880233,
          -0.42149110239035636,
          0.22003266523880233,
          -0.3059178294486681,
          0.22003266523880233,
          0.9073285741646356,
          -0.09446623941426811,
          0.06405697865800392,
          -0.09446623941426811,
          0.04964634936024409,
          -0.09446623941426811,
          -0.42149110239035636,
          -0.09446623941426811,
          -0.21689664397345712,
          -0.09446623941426811,
          0.16985498737022,
          -0.42149110239035636,
          -0.21689664397345712,
          -0.42149110239035636,
          0.04964634936024409,
          -0.42149110239035636,
          0.06405697865800392,
          -0.42149110239035636,
          -0.4957699784638437,
          -0.42149110239035636,
          -0.9234540667506592,
          -0.42149110239035636,
          -0.8569701096181246,
          -0.42149110239035636,
          0.9356359821358355,
          -0.42149110239035636,
          -0.8320162650633904,
          -0.42149110239035636,
          -0.9591882206992938,
          0.9073285741646356,
          0.06405697865800392,
          0.9073285741646356,
          -0.21689664397345712,
          0.06405697865800392,
          -0.21689664397345712,
          0.06405697865800392,
          0.04964634936024409,
          0.06405697865800392,
          0.9083175002343549,
          0.06405697865800392,
          0.16985498737022,
          0.06405697865800392,
          -0.9234540667506592,
          0.06405697865800392,
          -0.3059178294486681,
          0.06405697865800392,
          -0.4957699784638437,
          0.06405697865800392,
          1,
          -0.21689664397345712,
          0.04964634936024409,
          -0.21689664397345712,
          -0.9234540667506592,
          -0.21689664397345712,
          1,
          -0.21689664397345712,
          -0.8569701096181246,
          -0.21689664397345712,
          -0.4957699784638437,
          -0.8320162650633904,
          -0.971677810868252,
          -0.8320162650633904,
          -0.7352700233109719,
          -0.3369405470166049,
          -0.3059178294486681
         ],
         "y": [
          0.9652386098952268,
          0.739572097716219,
          0.12940240628609662,
          0.03986612792069028,
          0.12940240628609662,
          -0.08877685082826822,
          0.12940240628609662,
          -0.19407937390457616,
          0.12940240628609662,
          0.49219643844245337,
          0.12940240628609662,
          0.29373204640001144,
          0.12940240628609662,
          0.18481048008094259,
          0.12940240628609662,
          0.8515077534460325,
          0.12940240628609662,
          -0.4371764681666746,
          0.03986612792069028,
          -0.08877685082826822,
          0.03986612792069028,
          0.49219643844245337,
          0.03986612792069028,
          0.18481048008094259,
          0.03986612792069028,
          0.29373204640001144,
          0.03986612792069028,
          -0.9819612409820663,
          0.18481048008094259,
          0.29373204640001144,
          0.18481048008094259,
          0.49219643844245337,
          0.18481048008094259,
          -0.08877685082826822,
          0.18481048008094259,
          0.8494009657871415,
          0.18481048008094259,
          0.2118581285124064,
          0.18481048008094259,
          0.5156356504660552,
          0.18481048008094259,
          -0.19407937390457616,
          0.18481048008094259,
          -0.47406992084398797,
          0.18481048008094259,
          -0.2834137462452415,
          -0.4371764681666746,
          -0.08877685082826822,
          -0.4371764681666746,
          0.29373204640001144,
          -0.08877685082826822,
          0.29373204640001144,
          -0.08877685082826822,
          0.49219643844245337,
          -0.08877685082826822,
          0.43616633724939463,
          -0.08877685082826822,
          -0.9819612409820663,
          -0.08877685082826822,
          0.2118581285124064,
          -0.08877685082826822,
          0.8515077534460325,
          -0.08877685082826822,
          0.8494009657871415,
          -0.08877685082826822,
          0.07379865232517303,
          0.29373204640001144,
          0.49219643844245337,
          0.29373204640001144,
          0.2118581285124064,
          0.29373204640001144,
          0.07379865232517303,
          0.29373204640001144,
          0.5156356504660552,
          0.29373204640001144,
          0.8494009657871415,
          -0.47406992084398797,
          -0.0586562739249162,
          -0.47406992084398797,
          -0.6888901438601439,
          -0.9469150777394204,
          0.8515077534460325
         ]
        },
        {
         "hoverinfo": "text",
         "hovertext": [
          "Russia",
          "Germany",
          "Italy",
          "United States of America",
          "Estonia",
          "Ukraine",
          "Switzerland",
          "Lithuania",
          "France",
          "United Kingdom",
          "India",
          "Hong Kong",
          "Spain",
          "Canada",
          "Latvia",
          "Hungary",
          "Japan",
          "Poland",
          "Denmark",
          "Austria",
          "Taiwan",
          "Australia",
          "Sweden",
          "Greece",
          "Belgium",
          "Netherlands",
          "Czech Republic",
          "Finland",
          "China",
          "Mexico",
          "Brazil"
         ],
         "marker": {
          "color": [
           "red",
           "blue",
           "blue",
           "blue",
           "red",
           "grey",
           "grey",
           "red",
           "blue",
           "blue",
           "red",
           "grey",
           "blue",
           "blue",
           "red",
           "red",
           "grey",
           "red",
           "grey",
           "grey",
           "grey",
           "blue",
           "grey",
           "grey",
           "blue",
           "grey",
           "red",
           "grey",
           "red",
           "blue",
           "grey"
          ],
          "colorbar": {
           "thickness": 15,
           "title": {
            "side": "right",
            "text": "Cold War Side"
           },
           "xanchor": "left"
          },
          "colorscale": [
           [
            0,
            "rgb(255,255,217)"
           ],
           [
            0.125,
            "rgb(237,248,177)"
           ],
           [
            0.25,
            "rgb(199,233,180)"
           ],
           [
            0.375,
            "rgb(127,205,187)"
           ],
           [
            0.5,
            "rgb(65,182,196)"
           ],
           [
            0.625,
            "rgb(29,145,192)"
           ],
           [
            0.75,
            "rgb(34,94,168)"
           ],
           [
            0.875,
            "rgb(37,52,148)"
           ],
           [
            1,
            "rgb(8,29,88)"
           ]
          ],
          "showscale": true,
          "size": [
           52.08886637276722,
           12.698425099200294,
           18.533752992850637,
           45.38446870901983,
           4.242640687119285,
           8.366600265340756,
           4.663689526544408,
           7.54983443527075,
           18.445866745696716,
           20.694202086574876,
           6.442049363362563,
           8.261355820929152,
           9.137833441248533,
           9.16515138991168,
           3.7080992435478315,
           3.840572873934304,
           12.649110640673518,
           5.267826876426369,
           4.58257569495584,
           3.640054944640259,
           3.8078865529319543,
           6.324555320336759,
           6.892024376045111,
           3.5,
           4.272001872658765,
           4.301162633521313,
           4.6097722286464435,
           4.663689526544408,
           3.2015621187164243,
           5.338539126015656,
           3.3166247903554
          ]
         },
         "mode": "markers",
         "type": "scatter",
         "x": [
          -0.022646445451448304,
          0.22003266523880233,
          -0.09446623941426811,
          -0.42149110239035636,
          0.5349149055548279,
          -0.6856435898280192,
          0.9073285741646356,
          -0.5102632276156471,
          0.06405697865800392,
          -0.21689664397345712,
          0.5926332121592068,
          -0.8320162650633904,
          0.04964634936024409,
          -0.9234540667506592,
          0.3974075277701585,
          0.7483674223887345,
          -0.4957699784638437,
          0.9083175002343549,
          -0.3369405470166049,
          0.9356359821358355,
          -0.971677810868252,
          -0.8569701096181246,
          -0.3059178294486681,
          0.8247421102650537,
          0.16985498737022,
          1,
          0.7421065583874583,
          0.331507125986345,
          -0.7352700233109719,
          -0.9591882206992938,
          -0.05793979976087654
         ],
         "y": [
          0.9652386098952268,
          0.12940240628609662,
          0.03986612792069028,
          0.18481048008094259,
          0.7624435328968223,
          0.739572097716219,
          -0.4371764681666746,
          -0.866531311522716,
          -0.08877685082826822,
          0.29373204640001144,
          -0.8088073441462473,
          -0.47406992084398797,
          0.49219643844245337,
          0.2118581285124064,
          -0.9413580601474372,
          -0.6328449183239065,
          0.8494009657871415,
          0.43616633724939463,
          -0.9469150777394204,
          -0.19407937390457616,
          -0.0586562739249162,
          0.5156356504660552,
          0.8515077534460325,
          0.24944927188194638,
          -0.9819612409820663,
          0.07379865232517303,
          0.6768375239517431,
          0.907512344744883,
          -0.6888901438601439,
          -0.2834137462452415,
          -0.9759476373676348
         ]
        }
       ],
       "layout": {
        "hovermode": "closest",
        "plot_bgcolor": "white",
        "showlegend": false,
        "template": {
         "data": {
          "bar": [
           {
            "error_x": {
             "color": "#2a3f5f"
            },
            "error_y": {
             "color": "#2a3f5f"
            },
            "marker": {
             "line": {
              "color": "#E5ECF6",
              "width": 0.5
             },
             "pattern": {
              "fillmode": "overlay",
              "size": 10,
              "solidity": 0.2
             }
            },
            "type": "bar"
           }
          ],
          "barpolar": [
           {
            "marker": {
             "line": {
              "color": "#E5ECF6",
              "width": 0.5
             },
             "pattern": {
              "fillmode": "overlay",
              "size": 10,
              "solidity": 0.2
             }
            },
            "type": "barpolar"
           }
          ],
          "carpet": [
           {
            "aaxis": {
             "endlinecolor": "#2a3f5f",
             "gridcolor": "white",
             "linecolor": "white",
             "minorgridcolor": "white",
             "startlinecolor": "#2a3f5f"
            },
            "baxis": {
             "endlinecolor": "#2a3f5f",
             "gridcolor": "white",
             "linecolor": "white",
             "minorgridcolor": "white",
             "startlinecolor": "#2a3f5f"
            },
            "type": "carpet"
           }
          ],
          "choropleth": [
           {
            "colorbar": {
             "outlinewidth": 0,
             "ticks": ""
            },
            "type": "choropleth"
           }
          ],
          "contour": [
           {
            "colorbar": {
             "outlinewidth": 0,
             "ticks": ""
            },
            "colorscale": [
             [
              0,
              "#0d0887"
             ],
             [
              0.1111111111111111,
              "#46039f"
             ],
             [
              0.2222222222222222,
              "#7201a8"
             ],
             [
              0.3333333333333333,
              "#9c179e"
             ],
             [
              0.4444444444444444,
              "#bd3786"
             ],
             [
              0.5555555555555556,
              "#d8576b"
             ],
             [
              0.6666666666666666,
              "#ed7953"
             ],
             [
              0.7777777777777778,
              "#fb9f3a"
             ],
             [
              0.8888888888888888,
              "#fdca26"
             ],
             [
              1,
              "#f0f921"
             ]
            ],
            "type": "contour"
           }
          ],
          "contourcarpet": [
           {
            "colorbar": {
             "outlinewidth": 0,
             "ticks": ""
            },
            "type": "contourcarpet"
           }
          ],
          "heatmap": [
           {
            "colorbar": {
             "outlinewidth": 0,
             "ticks": ""
            },
            "colorscale": [
             [
              0,
              "#0d0887"
             ],
             [
              0.1111111111111111,
              "#46039f"
             ],
             [
              0.2222222222222222,
              "#7201a8"
             ],
             [
              0.3333333333333333,
              "#9c179e"
             ],
             [
              0.4444444444444444,
              "#bd3786"
             ],
             [
              0.5555555555555556,
              "#d8576b"
             ],
             [
              0.6666666666666666,
              "#ed7953"
             ],
             [
              0.7777777777777778,
              "#fb9f3a"
             ],
             [
              0.8888888888888888,
              "#fdca26"
             ],
             [
              1,
              "#f0f921"
             ]
            ],
            "type": "heatmap"
           }
          ],
          "heatmapgl": [
           {
            "colorbar": {
             "outlinewidth": 0,
             "ticks": ""
            },
            "colorscale": [
             [
              0,
              "#0d0887"
             ],
             [
              0.1111111111111111,
              "#46039f"
             ],
             [
              0.2222222222222222,
              "#7201a8"
             ],
             [
              0.3333333333333333,
              "#9c179e"
             ],
             [
              0.4444444444444444,
              "#bd3786"
             ],
             [
              0.5555555555555556,
              "#d8576b"
             ],
             [
              0.6666666666666666,
              "#ed7953"
             ],
             [
              0.7777777777777778,
              "#fb9f3a"
             ],
             [
              0.8888888888888888,
              "#fdca26"
             ],
             [
              1,
              "#f0f921"
             ]
            ],
            "type": "heatmapgl"
           }
          ],
          "histogram": [
           {
            "marker": {
             "pattern": {
              "fillmode": "overlay",
              "size": 10,
              "solidity": 0.2
             }
            },
            "type": "histogram"
           }
          ],
          "histogram2d": [
           {
            "colorbar": {
             "outlinewidth": 0,
             "ticks": ""
            },
            "colorscale": [
             [
              0,
              "#0d0887"
             ],
             [
              0.1111111111111111,
              "#46039f"
             ],
             [
              0.2222222222222222,
              "#7201a8"
             ],
             [
              0.3333333333333333,
              "#9c179e"
             ],
             [
              0.4444444444444444,
              "#bd3786"
             ],
             [
              0.5555555555555556,
              "#d8576b"
             ],
             [
              0.6666666666666666,
              "#ed7953"
             ],
             [
              0.7777777777777778,
              "#fb9f3a"
             ],
             [
              0.8888888888888888,
              "#fdca26"
             ],
             [
              1,
              "#f0f921"
             ]
            ],
            "type": "histogram2d"
           }
          ],
          "histogram2dcontour": [
           {
            "colorbar": {
             "outlinewidth": 0,
             "ticks": ""
            },
            "colorscale": [
             [
              0,
              "#0d0887"
             ],
             [
              0.1111111111111111,
              "#46039f"
             ],
             [
              0.2222222222222222,
              "#7201a8"
             ],
             [
              0.3333333333333333,
              "#9c179e"
             ],
             [
              0.4444444444444444,
              "#bd3786"
             ],
             [
              0.5555555555555556,
              "#d8576b"
             ],
             [
              0.6666666666666666,
              "#ed7953"
             ],
             [
              0.7777777777777778,
              "#fb9f3a"
             ],
             [
              0.8888888888888888,
              "#fdca26"
             ],
             [
              1,
              "#f0f921"
             ]
            ],
            "type": "histogram2dcontour"
           }
          ],
          "mesh3d": [
           {
            "colorbar": {
             "outlinewidth": 0,
             "ticks": ""
            },
            "type": "mesh3d"
           }
          ],
          "parcoords": [
           {
            "line": {
             "colorbar": {
              "outlinewidth": 0,
              "ticks": ""
             }
            },
            "type": "parcoords"
           }
          ],
          "pie": [
           {
            "automargin": true,
            "type": "pie"
           }
          ],
          "scatter": [
           {
            "fillpattern": {
             "fillmode": "overlay",
             "size": 10,
             "solidity": 0.2
            },
            "type": "scatter"
           }
          ],
          "scatter3d": [
           {
            "line": {
             "colorbar": {
              "outlinewidth": 0,
              "ticks": ""
             }
            },
            "marker": {
             "colorbar": {
              "outlinewidth": 0,
              "ticks": ""
             }
            },
            "type": "scatter3d"
           }
          ],
          "scattercarpet": [
           {
            "marker": {
             "colorbar": {
              "outlinewidth": 0,
              "ticks": ""
             }
            },
            "type": "scattercarpet"
           }
          ],
          "scattergeo": [
           {
            "marker": {
             "colorbar": {
              "outlinewidth": 0,
              "ticks": ""
             }
            },
            "type": "scattergeo"
           }
          ],
          "scattergl": [
           {
            "marker": {
             "colorbar": {
              "outlinewidth": 0,
              "ticks": ""
             }
            },
            "type": "scattergl"
           }
          ],
          "scattermapbox": [
           {
            "marker": {
             "colorbar": {
              "outlinewidth": 0,
              "ticks": ""
             }
            },
            "type": "scattermapbox"
           }
          ],
          "scatterpolar": [
           {
            "marker": {
             "colorbar": {
              "outlinewidth": 0,
              "ticks": ""
             }
            },
            "type": "scatterpolar"
           }
          ],
          "scatterpolargl": [
           {
            "marker": {
             "colorbar": {
              "outlinewidth": 0,
              "ticks": ""
             }
            },
            "type": "scatterpolargl"
           }
          ],
          "scatterternary": [
           {
            "marker": {
             "colorbar": {
              "outlinewidth": 0,
              "ticks": ""
             }
            },
            "type": "scatterternary"
           }
          ],
          "surface": [
           {
            "colorbar": {
             "outlinewidth": 0,
             "ticks": ""
            },
            "colorscale": [
             [
              0,
              "#0d0887"
             ],
             [
              0.1111111111111111,
              "#46039f"
             ],
             [
              0.2222222222222222,
              "#7201a8"
             ],
             [
              0.3333333333333333,
              "#9c179e"
             ],
             [
              0.4444444444444444,
              "#bd3786"
             ],
             [
              0.5555555555555556,
              "#d8576b"
             ],
             [
              0.6666666666666666,
              "#ed7953"
             ],
             [
              0.7777777777777778,
              "#fb9f3a"
             ],
             [
              0.8888888888888888,
              "#fdca26"
             ],
             [
              1,
              "#f0f921"
             ]
            ],
            "type": "surface"
           }
          ],
          "table": [
           {
            "cells": {
             "fill": {
              "color": "#EBF0F8"
             },
             "line": {
              "color": "white"
             }
            },
            "header": {
             "fill": {
              "color": "#C8D4E3"
             },
             "line": {
              "color": "white"
             }
            },
            "type": "table"
           }
          ]
         },
         "layout": {
          "annotationdefaults": {
           "arrowcolor": "#2a3f5f",
           "arrowhead": 0,
           "arrowwidth": 1
          },
          "autotypenumbers": "strict",
          "coloraxis": {
           "colorbar": {
            "outlinewidth": 0,
            "ticks": ""
           }
          },
          "colorscale": {
           "diverging": [
            [
             0,
             "#8e0152"
            ],
            [
             0.1,
             "#c51b7d"
            ],
            [
             0.2,
             "#de77ae"
            ],
            [
             0.3,
             "#f1b6da"
            ],
            [
             0.4,
             "#fde0ef"
            ],
            [
             0.5,
             "#f7f7f7"
            ],
            [
             0.6,
             "#e6f5d0"
            ],
            [
             0.7,
             "#b8e186"
            ],
            [
             0.8,
             "#7fbc41"
            ],
            [
             0.9,
             "#4d9221"
            ],
            [
             1,
             "#276419"
            ]
           ],
           "sequential": [
            [
             0,
             "#0d0887"
            ],
            [
             0.1111111111111111,
             "#46039f"
            ],
            [
             0.2222222222222222,
             "#7201a8"
            ],
            [
             0.3333333333333333,
             "#9c179e"
            ],
            [
             0.4444444444444444,
             "#bd3786"
            ],
            [
             0.5555555555555556,
             "#d8576b"
            ],
            [
             0.6666666666666666,
             "#ed7953"
            ],
            [
             0.7777777777777778,
             "#fb9f3a"
            ],
            [
             0.8888888888888888,
             "#fdca26"
            ],
            [
             1,
             "#f0f921"
            ]
           ],
           "sequentialminus": [
            [
             0,
             "#0d0887"
            ],
            [
             0.1111111111111111,
             "#46039f"
            ],
            [
             0.2222222222222222,
             "#7201a8"
            ],
            [
             0.3333333333333333,
             "#9c179e"
            ],
            [
             0.4444444444444444,
             "#bd3786"
            ],
            [
             0.5555555555555556,
             "#d8576b"
            ],
            [
             0.6666666666666666,
             "#ed7953"
            ],
            [
             0.7777777777777778,
             "#fb9f3a"
            ],
            [
             0.8888888888888888,
             "#fdca26"
            ],
            [
             1,
             "#f0f921"
            ]
           ]
          },
          "colorway": [
           "#636efa",
           "#EF553B",
           "#00cc96",
           "#ab63fa",
           "#FFA15A",
           "#19d3f3",
           "#FF6692",
           "#B6E880",
           "#FF97FF",
           "#FECB52"
          ],
          "font": {
           "color": "#2a3f5f"
          },
          "geo": {
           "bgcolor": "white",
           "lakecolor": "white",
           "landcolor": "#E5ECF6",
           "showlakes": true,
           "showland": true,
           "subunitcolor": "white"
          },
          "hoverlabel": {
           "align": "left"
          },
          "hovermode": "closest",
          "mapbox": {
           "style": "light"
          },
          "paper_bgcolor": "white",
          "plot_bgcolor": "#E5ECF6",
          "polar": {
           "angularaxis": {
            "gridcolor": "white",
            "linecolor": "white",
            "ticks": ""
           },
           "bgcolor": "#E5ECF6",
           "radialaxis": {
            "gridcolor": "white",
            "linecolor": "white",
            "ticks": ""
           }
          },
          "scene": {
           "xaxis": {
            "backgroundcolor": "#E5ECF6",
            "gridcolor": "white",
            "gridwidth": 2,
            "linecolor": "white",
            "showbackground": true,
            "ticks": "",
            "zerolinecolor": "white"
           },
           "yaxis": {
            "backgroundcolor": "#E5ECF6",
            "gridcolor": "white",
            "gridwidth": 2,
            "linecolor": "white",
            "showbackground": true,
            "ticks": "",
            "zerolinecolor": "white"
           },
           "zaxis": {
            "backgroundcolor": "#E5ECF6",
            "gridcolor": "white",
            "gridwidth": 2,
            "linecolor": "white",
            "showbackground": true,
            "ticks": "",
            "zerolinecolor": "white"
           }
          },
          "shapedefaults": {
           "line": {
            "color": "#2a3f5f"
           }
          },
          "ternary": {
           "aaxis": {
            "gridcolor": "white",
            "linecolor": "white",
            "ticks": ""
           },
           "baxis": {
            "gridcolor": "white",
            "linecolor": "white",
            "ticks": ""
           },
           "bgcolor": "#E5ECF6",
           "caxis": {
            "gridcolor": "white",
            "linecolor": "white",
            "ticks": ""
           }
          },
          "title": {
           "x": 0.05
          },
          "xaxis": {
           "automargin": true,
           "gridcolor": "white",
           "linecolor": "white",
           "ticks": "",
           "title": {
            "standoff": 15
           },
           "zerolinecolor": "white",
           "zerolinewidth": 2
          },
          "yaxis": {
           "automargin": true,
           "gridcolor": "white",
           "linecolor": "white",
           "ticks": "",
           "title": {
            "standoff": 15
           },
           "zerolinecolor": "white",
           "zerolinewidth": 2
          }
         }
        },
        "title": {
         "text": "Film Production Collaboration Network"
        },
        "xaxis": {
         "showgrid": false,
         "zeroline": false
        },
        "yaxis": {
         "showgrid": false,
         "zeroline": false
        }
       }
      }
     },
     "metadata": {},
     "output_type": "display_data"
    }
   ],
   "source": [
    "# With plotly\n",
    "G = nx.Graph()\n",
    "for country in countries:\n",
    "    G.add_node(country, side=country_cold_war_side[country], size=root_film_count[country])\n",
    "\n",
    "for (c1, c2), count in collaboration_count.items():\n",
    "    G.add_edge(c1, c2, weight=count)\n",
    "\n",
    "pos = nx.spring_layout(G, seed=42, k=10, iterations=100)\n",
    "edge_x = []\n",
    "edge_y = []\n",
    "edge_weights = []\n",
    "\n",
    "for edge in G.edges():\n",
    "    x0, y0 = pos[edge[0]]\n",
    "    x1, y1 = pos[edge[1]]\n",
    "    edge_x.append(x0)\n",
    "    edge_x.append(x1)\n",
    "    edge_y.append(y0)\n",
    "    edge_y.append(y1)\n",
    "    edge_weights.append(G[edge[0]][edge[1]]['weight'])\n",
    "\n",
    "edge_trace = go.Scatter(\n",
    "    x=edge_x,\n",
    "    y=edge_y,\n",
    "    line=dict(width=0.5, color='black'),\n",
    "    hoverinfo='none',\n",
    "    mode='lines'\n",
    ")\n",
    "\n",
    "node_x = []\n",
    "node_y = []\n",
    "node_colors = []\n",
    "node_sizes = []\n",
    "\n",
    "for node in G.nodes():\n",
    "    x, y = pos[node]\n",
    "    node_x.append(x)\n",
    "    node_y.append(y)\n",
    "    if G.nodes[node]['side'] == 'Western':\n",
    "        node_colors.append('blue')\n",
    "    elif G.nodes[node]['side'] == 'Eastern':\n",
    "        node_colors.append('red')\n",
    "    else:\n",
    "        node_colors.append('grey')\n",
    "    node_sizes.append(G.nodes[node]['size'] * 0.5)\n",
    "\n",
    "node_trace = go.Scatter(\n",
    "    x=node_x,\n",
    "    y=node_y,\n",
    "    mode='markers',\n",
    "    hoverinfo='text',\n",
    "    hovertext=[node for node in G.nodes()],\n",
    "    marker=dict(\n",
    "        showscale=True,\n",
    "        colorscale='YlGnBu',\n",
    "        size=node_sizes,\n",
    "        color=node_colors,\n",
    "        colorbar=dict(\n",
    "            thickness=15,\n",
    "            title='Cold War Side',\n",
    "            xanchor='left',\n",
    "            titleside='right'\n",
    "        )\n",
    "    )\n",
    ")\n",
    "\n",
    "fig = go.Figure(data=[edge_trace, node_trace],\n",
    "                layout=go.Layout(\n",
    "                    title='Film Production Collaboration Network',\n",
    "                    showlegend=False,\n",
    "                    hovermode='closest',\n",
    "                    xaxis=dict(showgrid=False, zeroline=False),\n",
    "                    yaxis=dict(showgrid=False, zeroline=False),\n",
    "                    plot_bgcolor='white'\n",
    "                ))\n",
    "\n",
    "fig.show()"
   ]
  },
  {
   "cell_type": "code",
   "execution_count": 35,
   "metadata": {},
   "outputs": [],
   "source": [
    "# Have been generated with GPT\n",
    "country_coords = {\n",
    "    'United States of America': (37.0902, -95.7129),\n",
    "    'Italy': (41.8719, 12.5674),\n",
    "    'Germany': (51.1657, 10.4515),\n",
    "    'Russia': (61.5240, 105.3188),\n",
    "    'Hungary': (47.1625, 19.5033),\n",
    "    'Estonia': (58.5953, 25.0136),\n",
    "    'Ukraine': (48.3794, 31.1656),\n",
    "    'Switzerland': (46.8182, 8.2275),\n",
    "    'Puerto Rico': (18.2208, -66.5901),\n",
    "    'France': (46.6034, 1.8883),\n",
    "    'Egypt': (26.8206, 30.8025),\n",
    "    'Netherlands': (52.1326, 5.2913),\n",
    "    'Japan': (36.2048, 138.2529),\n",
    "    'United Kingdom': (55.3781, -3.4360),\n",
    "    'Hong Kong': (22.3193, 114.1694),\n",
    "    'India': (20.5937, 78.9629),\n",
    "    'Spain': (40.4637, -3.7492),\n",
    "    'Costa Rica': (9.7489, -83.7534),\n",
    "    'Vietnam': (14.0583, 108.2772),\n",
    "    'Taiwan': (23.6978, 120.9605),\n",
    "    'Australia': (-25.2744, 133.7751),\n",
    "    'Canada': (56.1304, -106.3468),\n",
    "    'Latvia': (56.8796, 24.6032),\n",
    "    'Brazil': (-14.2350, -51.9253),\n",
    "    'Turkey': (38.9637, 35.2433),\n",
    "    'Denmark': (56.2639, 9.5018),\n",
    "    'Poland': (51.9194, 19.1451),\n",
    "    'Korea': (35.9078, 127.7669),\n",
    "    'Norway': (60.4720, 8.4689),\n",
    "    'Croatia': (45.1, 15.2),\n",
    "    'Bulgaria': (42.7339, 25.4858),\n",
    "    'Austria': (47.5162, 14.5501),\n",
    "    'Philippines': (12.8797, 121.7740),\n",
    "    'Lithuania': (55.1694, 23.8813),\n",
    "    'Portugal': (39.3999, -8.2245),\n",
    "    'China': (35.8617, 104.1954),\n",
    "    'Romania': (45.9432, 24.9668),\n",
    "    'Georgia': (42.3154, 43.3569),\n",
    "    'Yugoslavia': (44.0165, 21.0059),\n",
    "    'New Zealand': (-40.9006, 174.8860),\n",
    "    'Czechoslovakia': (49.8175, 15.4729),\n",
    "    'Argentina': (-38.4161, -63.6167),\n",
    "    'Greece': (39.0742, 21.8243),\n",
    "    'South Africa': (-30.5595, 22.9375),\n",
    "    'Luxembourg': (49.8153, 6.1296),\n",
    "    'Sweden': (60.1282, 18.6435),\n",
    "    'Ireland': (53.1424, -7.6921),\n",
    "    'Colombia': (4.5709, -74.2973),\n",
    "    'Uruguay': (-32.5228, -55.7658),\n",
    "    'Belgium': (50.5039, 4.4699),\n",
    "    'Czech Republic': (49.8175, 15.4729),\n",
    "    'Bangladesh': (23.6850, 90.3563),\n",
    "    'Tunisia': (33.8869, 9.5375),\n",
    "    'Albania': (41.1533, 20.1683),\n",
    "    'Finland': (61.9241, 25.7482),\n",
    "    'Iceland': (64.9631, -19.0208),\n",
    "    'Liechtenstein': (47.1660, 9.5554),\n",
    "    'Mexico': (23.6345, -102.5528),\n",
    "    'Iran': (32.4279, 53.6880),\n",
    "    'Zimbabwe': (-19.0154, 29.1549),\n",
    "    'Nepal': (28.3949, 84.1240),\n",
    "    'Uzbekistan': (41.3775, 64.5853),\n",
    "    'Venezuela': (6.4238, -66.5897),\n",
    "    'Bosnia and Herzegovina': (43.9159, 17.6791),\n",
    "    'Cuba': (21.5218, -77.7812),\n",
    "    'Peru': (-9.1899, -75.0152),\n",
    "    'Malaysia': (4.2105, 101.9758),\n",
    "    'Pakistan': (30.3753, 69.3451),\n",
    "    'Sri Lanka': (7.8731, 80.7718),\n",
    "    'Algeria': (28.0339, 1.6596),\n",
    "    'Israel': (31.0461, 34.8516),\n",
    "    'Singapore': (1.3521, 103.8198),\n",
    "    'Morocco': (31.7917, -7.0926),\n",
    "    'Azerbaijan': (40.1431, 47.5769),\n",
    "    'Bolivia': (-16.2902, -63.5887),\n",
    "    'Cameroon': (7.3697, 12.3547),\n",
    "    'Serbia': (44.0165, 21.0059),\n",
    "    'Mali': (17.5707, -3.9962),\n",
    "    'Macedonia': (41.6086, 21.7453),\n",
    "    'Monaco': (43.7384, 7.4246),\n",
    "    'Slovakia': (48.6690, 19.6990),\n",
    "    'Senegal': (14.4974, -14.4524),\n",
    "    'Qatar': (25.2760, 51.2148),\n",
    "    'Thailand': (15.8700, 100.9925),\n",
    "    \"Côte d'Ivoire\": (7.5399, -5.5471),\n",
    "    'Belarus': (53.7098, 27.9534),\n",
    "    'Armenia': (40.0691, 45.0382),\n",
    "    'Chile': (-35.6751, -71.5430),\n",
    "    'Cambodia': (12.5657, 104.9910),\n",
    "    'Ghana': (7.9465, -1.0232),\n",
    "    'Jamaica': (18.1096, -77.2975),\n",
    "    'Slovenia': (46.1512, 14.9955),\n",
    "    'Guinea': (9.9456, -9.6966),\n",
    "    'Afghanistan': (33.9391, 67.7100),\n",
    "    'Democratic Republic of the Congo': (-4.0383, 21.7587),\n",
    "    'Indonesia': (-0.7893, 113.9213),\n",
    "    'Montenegro': (42.7087, 19.3744),\n",
    "    'Namibia': (-22.9576, 18.4904),\n",
    "    'Moldova': (47.4116, 28.3699),\n",
    "    'Panama': (8.5379, -80.7821),\n",
    "    'Burkina Faso': (12.2383, -1.5616),\n",
    "    'Aruba': (12.5211, -69.9683),\n",
    "    'Ethiopia': (9.145, 40.4897),\n",
    "    'Jordan': (30.5852, 36.2384),\n",
    "    'Kazakhstan': (48.0196, 66.9237),\n",
    "    'Nigeria': (9.0820, 8.6753),\n",
    "    'Libya': (26.3351, 17.2283),\n",
    "    'Congo': (-0.2280, 15.8277),\n",
    "    'Turkmenistan': (38.9697, 59.5563),\n",
    "    'Bhutan': (27.5142, 90.4336),\n",
    "    'Kuwait': (29.3117, 47.4818),\n",
    "    'Lebanon': (33.8547, 35.8623),\n",
    "    'Guinea-Bissau': (11.8037, -15.1804),\n",
    "    'Mauritania': (21.0079, -10.9408),\n",
    "    'Angola': (-11.2027, 17.8739),\n",
    "    'Burma': (21.9162, 95.9560),\n",
    "    'Martinique': (14.6415, -61.0242),\n",
    "    'Trinidad and Tobago': (10.6918, -61.2225),\n",
    "    'Bahrain': (26.0667, 50.5577),\n",
    "    'Syria': (34.8021, 38.9968),\n",
    "    'Kyrgyzstan': (41.2044, 74.7661),\n",
    "    'Botswana': (-22.3285, 24.6849),\n",
    "    'Zambia': (-13.1339, 27.8493),\n",
    "    'Bahamas': (25.0343, -77.3963),\n",
    "    'Papua New Guinea': (-6.3149, 143.9555),\n",
    "    'Ecuador': (-1.8312, -78.1834),\n",
    "    'Palestinian Territory': (31.9522, 35.2332)\n",
    "}"
   ]
  },
  {
   "cell_type": "code",
   "execution_count": 36,
   "metadata": {},
   "outputs": [
    {
     "data": {
      "application/vnd.plotly.v1+json": {
       "config": {
        "plotlyServerURL": "https://plot.ly"
       },
       "data": [
        {
         "hoverinfo": "none",
         "lat": [
          51.1657,
          41.8719,
          null,
          46.6034,
          41.8719,
          null,
          46.6034,
          51.1657,
          null,
          40.4637,
          55.3781,
          null,
          55.3781,
          37.0902,
          null,
          46.6034,
          55.3781,
          null,
          40.4637,
          37.0902,
          null,
          46.6034,
          40.4637,
          null,
          46.6034,
          37.0902,
          null,
          36.2048,
          37.0902,
          null,
          46.6034,
          51.9194,
          null,
          47.5162,
          51.1657,
          null,
          56.1304,
          37.0902,
          null,
          41.8719,
          40.4637,
          null,
          56.1304,
          55.3781,
          null,
          22.3193,
          23.6978,
          null,
          -25.2744,
          37.0902,
          null,
          41.8719,
          37.0902,
          null,
          51.1657,
          40.4637,
          null,
          51.1657,
          55.3781,
          null,
          41.8719,
          55.3781,
          null,
          51.1657,
          37.0902,
          null,
          47.5162,
          37.0902,
          null,
          50.5039,
          46.6034,
          null,
          56.1304,
          46.6034,
          null,
          50.5039,
          41.8719,
          null,
          52.1326,
          55.3781,
          null,
          22.3193,
          37.0902,
          null,
          46.6034,
          46.8182,
          null,
          51.1657,
          60.1282,
          null,
          56.2639,
          60.1282,
          null,
          23.6345,
          37.0902,
          null,
          -25.2744,
          55.3781,
          null,
          61.524,
          48.3794,
          null,
          46.6034,
          60.1282,
          null,
          51.1657,
          46.8182,
          null,
          36.2048,
          55.3781,
          null,
          35.8617,
          22.3193,
          null,
          46.8182,
          55.3781,
          null,
          46.6034,
          36.2048,
          null,
          46.6034,
          52.1326,
          null
         ],
         "line": {
          "color": "black",
          "width": 1
         },
         "locationmode": "ISO-3",
         "lon": [
          10.4515,
          12.5674,
          null,
          1.8883,
          12.5674,
          null,
          1.8883,
          10.4515,
          null,
          -3.7492,
          -3.436,
          null,
          -3.436,
          -95.7129,
          null,
          1.8883,
          -3.436,
          null,
          -3.7492,
          -95.7129,
          null,
          1.8883,
          -3.7492,
          null,
          1.8883,
          -95.7129,
          null,
          138.2529,
          -95.7129,
          null,
          1.8883,
          19.1451,
          null,
          14.5501,
          10.4515,
          null,
          -106.3468,
          -95.7129,
          null,
          12.5674,
          -3.7492,
          null,
          -106.3468,
          -3.436,
          null,
          114.1694,
          120.9605,
          null,
          133.7751,
          -95.7129,
          null,
          12.5674,
          -95.7129,
          null,
          10.4515,
          -3.7492,
          null,
          10.4515,
          -3.436,
          null,
          12.5674,
          -3.436,
          null,
          10.4515,
          -95.7129,
          null,
          14.5501,
          -95.7129,
          null,
          4.4699,
          1.8883,
          null,
          -106.3468,
          1.8883,
          null,
          4.4699,
          12.5674,
          null,
          5.2913,
          -3.436,
          null,
          114.1694,
          -95.7129,
          null,
          1.8883,
          8.2275,
          null,
          10.4515,
          18.6435,
          null,
          9.5018,
          18.6435,
          null,
          -102.5528,
          -95.7129,
          null,
          133.7751,
          -3.436,
          null,
          105.3188,
          31.1656,
          null,
          1.8883,
          18.6435,
          null,
          10.4515,
          8.2275,
          null,
          138.2529,
          -3.436,
          null,
          104.1954,
          114.1694,
          null,
          8.2275,
          -3.436,
          null,
          1.8883,
          138.2529,
          null,
          1.8883,
          5.2913,
          null
         ],
         "mode": "lines",
         "type": "scattergeo"
        },
        {
         "hoverinfo": "text",
         "lat": [
          61.524,
          51.1657,
          41.8719,
          37.0902,
          58.5953,
          48.3794,
          46.8182,
          55.1694,
          46.6034,
          55.3781,
          20.5937,
          22.3193,
          40.4637,
          56.1304,
          56.8796,
          47.1625,
          36.2048,
          51.9194,
          56.2639,
          47.5162,
          23.6978,
          -25.2744,
          60.1282,
          39.0742,
          50.5039,
          52.1326,
          49.8175,
          61.9241,
          35.8617,
          23.6345,
          -14.235
         ],
         "locationmode": "ISO-3",
         "lon": [
          105.3188,
          10.4515,
          12.5674,
          -95.7129,
          25.0136,
          31.1656,
          8.2275,
          23.8813,
          1.8883,
          -3.436,
          78.9629,
          114.1694,
          -3.7492,
          -106.3468,
          24.6032,
          19.5033,
          138.2529,
          19.1451,
          9.5018,
          14.5501,
          120.9605,
          133.7751,
          18.6435,
          21.8243,
          4.4699,
          5.2913,
          15.4729,
          25.7482,
          104.1954,
          -102.5528,
          -51.9253
         ],
         "marker": {
          "color": [
           "red",
           "blue",
           "blue",
           "blue",
           "red",
           "grey",
           "grey",
           "red",
           "blue",
           "blue",
           "red",
           "grey",
           "blue",
           "blue",
           "red",
           "red",
           "grey",
           "red",
           "grey",
           "grey",
           "grey",
           "blue",
           "grey",
           "grey",
           "blue",
           "grey",
           "red",
           "grey",
           "red",
           "blue",
           "grey"
          ],
          "line": {
           "color": "black",
           "width": 0.5
          },
          "size": [
           52.08886637276722,
           12.698425099200294,
           18.533752992850637,
           45.38446870901983,
           4.242640687119285,
           8.366600265340756,
           4.663689526544408,
           7.54983443527075,
           18.445866745696716,
           20.694202086574876,
           6.442049363362563,
           8.261355820929152,
           9.137833441248533,
           9.16515138991168,
           3.7080992435478315,
           3.840572873934304,
           12.649110640673518,
           5.267826876426369,
           4.58257569495584,
           3.640054944640259,
           3.8078865529319543,
           6.324555320336759,
           6.892024376045111,
           3.5,
           4.272001872658765,
           4.301162633521313,
           4.6097722286464435,
           4.663689526544408,
           3.2015621187164243,
           5.338539126015656,
           3.3166247903554
          ]
         },
         "mode": "markers",
         "text": [
          "Russia",
          "Germany",
          "Italy",
          "United States of America",
          "Estonia",
          "Ukraine",
          "Switzerland",
          "Lithuania",
          "France",
          "United Kingdom",
          "India",
          "Hong Kong",
          "Spain",
          "Canada",
          "Latvia",
          "Hungary",
          "Japan",
          "Poland",
          "Denmark",
          "Austria",
          "Taiwan",
          "Australia",
          "Sweden",
          "Greece",
          "Belgium",
          "Netherlands",
          "Czech Republic",
          "Finland",
          "China",
          "Mexico",
          "Brazil"
         ],
         "type": "scattergeo"
        }
       ],
       "layout": {
        "geo": {
         "landcolor": "rgb(217, 217, 217)",
         "projection": {
          "type": "natural earth"
         },
         "showcountries": true,
         "showland": true
        },
        "showlegend": false,
        "template": {
         "data": {
          "bar": [
           {
            "error_x": {
             "color": "#2a3f5f"
            },
            "error_y": {
             "color": "#2a3f5f"
            },
            "marker": {
             "line": {
              "color": "#E5ECF6",
              "width": 0.5
             },
             "pattern": {
              "fillmode": "overlay",
              "size": 10,
              "solidity": 0.2
             }
            },
            "type": "bar"
           }
          ],
          "barpolar": [
           {
            "marker": {
             "line": {
              "color": "#E5ECF6",
              "width": 0.5
             },
             "pattern": {
              "fillmode": "overlay",
              "size": 10,
              "solidity": 0.2
             }
            },
            "type": "barpolar"
           }
          ],
          "carpet": [
           {
            "aaxis": {
             "endlinecolor": "#2a3f5f",
             "gridcolor": "white",
             "linecolor": "white",
             "minorgridcolor": "white",
             "startlinecolor": "#2a3f5f"
            },
            "baxis": {
             "endlinecolor": "#2a3f5f",
             "gridcolor": "white",
             "linecolor": "white",
             "minorgridcolor": "white",
             "startlinecolor": "#2a3f5f"
            },
            "type": "carpet"
           }
          ],
          "choropleth": [
           {
            "colorbar": {
             "outlinewidth": 0,
             "ticks": ""
            },
            "type": "choropleth"
           }
          ],
          "contour": [
           {
            "colorbar": {
             "outlinewidth": 0,
             "ticks": ""
            },
            "colorscale": [
             [
              0,
              "#0d0887"
             ],
             [
              0.1111111111111111,
              "#46039f"
             ],
             [
              0.2222222222222222,
              "#7201a8"
             ],
             [
              0.3333333333333333,
              "#9c179e"
             ],
             [
              0.4444444444444444,
              "#bd3786"
             ],
             [
              0.5555555555555556,
              "#d8576b"
             ],
             [
              0.6666666666666666,
              "#ed7953"
             ],
             [
              0.7777777777777778,
              "#fb9f3a"
             ],
             [
              0.8888888888888888,
              "#fdca26"
             ],
             [
              1,
              "#f0f921"
             ]
            ],
            "type": "contour"
           }
          ],
          "contourcarpet": [
           {
            "colorbar": {
             "outlinewidth": 0,
             "ticks": ""
            },
            "type": "contourcarpet"
           }
          ],
          "heatmap": [
           {
            "colorbar": {
             "outlinewidth": 0,
             "ticks": ""
            },
            "colorscale": [
             [
              0,
              "#0d0887"
             ],
             [
              0.1111111111111111,
              "#46039f"
             ],
             [
              0.2222222222222222,
              "#7201a8"
             ],
             [
              0.3333333333333333,
              "#9c179e"
             ],
             [
              0.4444444444444444,
              "#bd3786"
             ],
             [
              0.5555555555555556,
              "#d8576b"
             ],
             [
              0.6666666666666666,
              "#ed7953"
             ],
             [
              0.7777777777777778,
              "#fb9f3a"
             ],
             [
              0.8888888888888888,
              "#fdca26"
             ],
             [
              1,
              "#f0f921"
             ]
            ],
            "type": "heatmap"
           }
          ],
          "heatmapgl": [
           {
            "colorbar": {
             "outlinewidth": 0,
             "ticks": ""
            },
            "colorscale": [
             [
              0,
              "#0d0887"
             ],
             [
              0.1111111111111111,
              "#46039f"
             ],
             [
              0.2222222222222222,
              "#7201a8"
             ],
             [
              0.3333333333333333,
              "#9c179e"
             ],
             [
              0.4444444444444444,
              "#bd3786"
             ],
             [
              0.5555555555555556,
              "#d8576b"
             ],
             [
              0.6666666666666666,
              "#ed7953"
             ],
             [
              0.7777777777777778,
              "#fb9f3a"
             ],
             [
              0.8888888888888888,
              "#fdca26"
             ],
             [
              1,
              "#f0f921"
             ]
            ],
            "type": "heatmapgl"
           }
          ],
          "histogram": [
           {
            "marker": {
             "pattern": {
              "fillmode": "overlay",
              "size": 10,
              "solidity": 0.2
             }
            },
            "type": "histogram"
           }
          ],
          "histogram2d": [
           {
            "colorbar": {
             "outlinewidth": 0,
             "ticks": ""
            },
            "colorscale": [
             [
              0,
              "#0d0887"
             ],
             [
              0.1111111111111111,
              "#46039f"
             ],
             [
              0.2222222222222222,
              "#7201a8"
             ],
             [
              0.3333333333333333,
              "#9c179e"
             ],
             [
              0.4444444444444444,
              "#bd3786"
             ],
             [
              0.5555555555555556,
              "#d8576b"
             ],
             [
              0.6666666666666666,
              "#ed7953"
             ],
             [
              0.7777777777777778,
              "#fb9f3a"
             ],
             [
              0.8888888888888888,
              "#fdca26"
             ],
             [
              1,
              "#f0f921"
             ]
            ],
            "type": "histogram2d"
           }
          ],
          "histogram2dcontour": [
           {
            "colorbar": {
             "outlinewidth": 0,
             "ticks": ""
            },
            "colorscale": [
             [
              0,
              "#0d0887"
             ],
             [
              0.1111111111111111,
              "#46039f"
             ],
             [
              0.2222222222222222,
              "#7201a8"
             ],
             [
              0.3333333333333333,
              "#9c179e"
             ],
             [
              0.4444444444444444,
              "#bd3786"
             ],
             [
              0.5555555555555556,
              "#d8576b"
             ],
             [
              0.6666666666666666,
              "#ed7953"
             ],
             [
              0.7777777777777778,
              "#fb9f3a"
             ],
             [
              0.8888888888888888,
              "#fdca26"
             ],
             [
              1,
              "#f0f921"
             ]
            ],
            "type": "histogram2dcontour"
           }
          ],
          "mesh3d": [
           {
            "colorbar": {
             "outlinewidth": 0,
             "ticks": ""
            },
            "type": "mesh3d"
           }
          ],
          "parcoords": [
           {
            "line": {
             "colorbar": {
              "outlinewidth": 0,
              "ticks": ""
             }
            },
            "type": "parcoords"
           }
          ],
          "pie": [
           {
            "automargin": true,
            "type": "pie"
           }
          ],
          "scatter": [
           {
            "fillpattern": {
             "fillmode": "overlay",
             "size": 10,
             "solidity": 0.2
            },
            "type": "scatter"
           }
          ],
          "scatter3d": [
           {
            "line": {
             "colorbar": {
              "outlinewidth": 0,
              "ticks": ""
             }
            },
            "marker": {
             "colorbar": {
              "outlinewidth": 0,
              "ticks": ""
             }
            },
            "type": "scatter3d"
           }
          ],
          "scattercarpet": [
           {
            "marker": {
             "colorbar": {
              "outlinewidth": 0,
              "ticks": ""
             }
            },
            "type": "scattercarpet"
           }
          ],
          "scattergeo": [
           {
            "marker": {
             "colorbar": {
              "outlinewidth": 0,
              "ticks": ""
             }
            },
            "type": "scattergeo"
           }
          ],
          "scattergl": [
           {
            "marker": {
             "colorbar": {
              "outlinewidth": 0,
              "ticks": ""
             }
            },
            "type": "scattergl"
           }
          ],
          "scattermapbox": [
           {
            "marker": {
             "colorbar": {
              "outlinewidth": 0,
              "ticks": ""
             }
            },
            "type": "scattermapbox"
           }
          ],
          "scatterpolar": [
           {
            "marker": {
             "colorbar": {
              "outlinewidth": 0,
              "ticks": ""
             }
            },
            "type": "scatterpolar"
           }
          ],
          "scatterpolargl": [
           {
            "marker": {
             "colorbar": {
              "outlinewidth": 0,
              "ticks": ""
             }
            },
            "type": "scatterpolargl"
           }
          ],
          "scatterternary": [
           {
            "marker": {
             "colorbar": {
              "outlinewidth": 0,
              "ticks": ""
             }
            },
            "type": "scatterternary"
           }
          ],
          "surface": [
           {
            "colorbar": {
             "outlinewidth": 0,
             "ticks": ""
            },
            "colorscale": [
             [
              0,
              "#0d0887"
             ],
             [
              0.1111111111111111,
              "#46039f"
             ],
             [
              0.2222222222222222,
              "#7201a8"
             ],
             [
              0.3333333333333333,
              "#9c179e"
             ],
             [
              0.4444444444444444,
              "#bd3786"
             ],
             [
              0.5555555555555556,
              "#d8576b"
             ],
             [
              0.6666666666666666,
              "#ed7953"
             ],
             [
              0.7777777777777778,
              "#fb9f3a"
             ],
             [
              0.8888888888888888,
              "#fdca26"
             ],
             [
              1,
              "#f0f921"
             ]
            ],
            "type": "surface"
           }
          ],
          "table": [
           {
            "cells": {
             "fill": {
              "color": "#EBF0F8"
             },
             "line": {
              "color": "white"
             }
            },
            "header": {
             "fill": {
              "color": "#C8D4E3"
             },
             "line": {
              "color": "white"
             }
            },
            "type": "table"
           }
          ]
         },
         "layout": {
          "annotationdefaults": {
           "arrowcolor": "#2a3f5f",
           "arrowhead": 0,
           "arrowwidth": 1
          },
          "autotypenumbers": "strict",
          "coloraxis": {
           "colorbar": {
            "outlinewidth": 0,
            "ticks": ""
           }
          },
          "colorscale": {
           "diverging": [
            [
             0,
             "#8e0152"
            ],
            [
             0.1,
             "#c51b7d"
            ],
            [
             0.2,
             "#de77ae"
            ],
            [
             0.3,
             "#f1b6da"
            ],
            [
             0.4,
             "#fde0ef"
            ],
            [
             0.5,
             "#f7f7f7"
            ],
            [
             0.6,
             "#e6f5d0"
            ],
            [
             0.7,
             "#b8e186"
            ],
            [
             0.8,
             "#7fbc41"
            ],
            [
             0.9,
             "#4d9221"
            ],
            [
             1,
             "#276419"
            ]
           ],
           "sequential": [
            [
             0,
             "#0d0887"
            ],
            [
             0.1111111111111111,
             "#46039f"
            ],
            [
             0.2222222222222222,
             "#7201a8"
            ],
            [
             0.3333333333333333,
             "#9c179e"
            ],
            [
             0.4444444444444444,
             "#bd3786"
            ],
            [
             0.5555555555555556,
             "#d8576b"
            ],
            [
             0.6666666666666666,
             "#ed7953"
            ],
            [
             0.7777777777777778,
             "#fb9f3a"
            ],
            [
             0.8888888888888888,
             "#fdca26"
            ],
            [
             1,
             "#f0f921"
            ]
           ],
           "sequentialminus": [
            [
             0,
             "#0d0887"
            ],
            [
             0.1111111111111111,
             "#46039f"
            ],
            [
             0.2222222222222222,
             "#7201a8"
            ],
            [
             0.3333333333333333,
             "#9c179e"
            ],
            [
             0.4444444444444444,
             "#bd3786"
            ],
            [
             0.5555555555555556,
             "#d8576b"
            ],
            [
             0.6666666666666666,
             "#ed7953"
            ],
            [
             0.7777777777777778,
             "#fb9f3a"
            ],
            [
             0.8888888888888888,
             "#fdca26"
            ],
            [
             1,
             "#f0f921"
            ]
           ]
          },
          "colorway": [
           "#636efa",
           "#EF553B",
           "#00cc96",
           "#ab63fa",
           "#FFA15A",
           "#19d3f3",
           "#FF6692",
           "#B6E880",
           "#FF97FF",
           "#FECB52"
          ],
          "font": {
           "color": "#2a3f5f"
          },
          "geo": {
           "bgcolor": "white",
           "lakecolor": "white",
           "landcolor": "#E5ECF6",
           "showlakes": true,
           "showland": true,
           "subunitcolor": "white"
          },
          "hoverlabel": {
           "align": "left"
          },
          "hovermode": "closest",
          "mapbox": {
           "style": "light"
          },
          "paper_bgcolor": "white",
          "plot_bgcolor": "#E5ECF6",
          "polar": {
           "angularaxis": {
            "gridcolor": "white",
            "linecolor": "white",
            "ticks": ""
           },
           "bgcolor": "#E5ECF6",
           "radialaxis": {
            "gridcolor": "white",
            "linecolor": "white",
            "ticks": ""
           }
          },
          "scene": {
           "xaxis": {
            "backgroundcolor": "#E5ECF6",
            "gridcolor": "white",
            "gridwidth": 2,
            "linecolor": "white",
            "showbackground": true,
            "ticks": "",
            "zerolinecolor": "white"
           },
           "yaxis": {
            "backgroundcolor": "#E5ECF6",
            "gridcolor": "white",
            "gridwidth": 2,
            "linecolor": "white",
            "showbackground": true,
            "ticks": "",
            "zerolinecolor": "white"
           },
           "zaxis": {
            "backgroundcolor": "#E5ECF6",
            "gridcolor": "white",
            "gridwidth": 2,
            "linecolor": "white",
            "showbackground": true,
            "ticks": "",
            "zerolinecolor": "white"
           }
          },
          "shapedefaults": {
           "line": {
            "color": "#2a3f5f"
           }
          },
          "ternary": {
           "aaxis": {
            "gridcolor": "white",
            "linecolor": "white",
            "ticks": ""
           },
           "baxis": {
            "gridcolor": "white",
            "linecolor": "white",
            "ticks": ""
           },
           "bgcolor": "#E5ECF6",
           "caxis": {
            "gridcolor": "white",
            "linecolor": "white",
            "ticks": ""
           }
          },
          "title": {
           "x": 0.05
          },
          "xaxis": {
           "automargin": true,
           "gridcolor": "white",
           "linecolor": "white",
           "ticks": "",
           "title": {
            "standoff": 15
           },
           "zerolinecolor": "white",
           "zerolinewidth": 2
          },
          "yaxis": {
           "automargin": true,
           "gridcolor": "white",
           "linecolor": "white",
           "ticks": "",
           "title": {
            "standoff": 15
           },
           "zerolinecolor": "white",
           "zerolinewidth": 2
          }
         }
        },
        "title": {
         "text": "Film Production Collaboration Network on a Map"
        }
       }
      }
     },
     "metadata": {},
     "output_type": "display_data"
    }
   ],
   "source": [
    "# Map country coordinates\n",
    "node_lat = []\n",
    "node_lon = []\n",
    "node_sizes = []\n",
    "node_colors = []\n",
    "for country in countries:\n",
    "    if country in country_coords:\n",
    "        node_lat.append(country_coords[country][0])\n",
    "        node_lon.append(country_coords[country][1])\n",
    "        node_sizes.append(root_film_count[country] * 0.5)  \n",
    "        # Assign color based on Cold War side\n",
    "        node_colors.append(\n",
    "            'blue' if country_cold_war_side.get(country) == 'Western' else\n",
    "            'red' if country_cold_war_side.get(country) == 'Eastern' else\n",
    "            'grey'\n",
    "        )\n",
    "\n",
    "# Prepare edges\n",
    "edge_lat = []\n",
    "edge_lon = []\n",
    "for (c1, c2), weight in collaboration_count.items():\n",
    "    if c1 in country_coords and c2 in country_coords:\n",
    "        edge_lat.extend([country_coords[c1][0], country_coords[c2][0], None])\n",
    "        edge_lon.extend([country_coords[c1][1], country_coords[c2][1], None])\n",
    "\n",
    "# Create the map\n",
    "fig = go.Figure()\n",
    "\n",
    "# Add edges\n",
    "fig.add_trace(go.Scattergeo(\n",
    "    locationmode='ISO-3',\n",
    "    lat=edge_lat,\n",
    "    lon=edge_lon,\n",
    "    mode='lines',\n",
    "    line=dict(width=1, color='black'),\n",
    "    hoverinfo='none'\n",
    "))\n",
    "\n",
    "# Add nodes\n",
    "fig.add_trace(go.Scattergeo(\n",
    "    locationmode='ISO-3',\n",
    "    lat=node_lat,\n",
    "    lon=node_lon,\n",
    "    mode='markers',\n",
    "    marker=dict(\n",
    "        size=node_sizes,\n",
    "        color=node_colors,\n",
    "        line=dict(width=0.5, color='black')\n",
    "    ),\n",
    "    text=countries,\n",
    "    hoverinfo='text'\n",
    "))\n",
    "\n",
    "# Mapbox configuration\n",
    "fig.update_layout(\n",
    "    title='Film Production Collaboration Network on a Map',\n",
    "    showlegend=False,\n",
    "    geo=dict(\n",
    "        projection_type='natural earth',\n",
    "        showland=True,\n",
    "        landcolor='rgb(217, 217, 217)',\n",
    "        showcountries=True,\n",
    "    )\n",
    ")\n",
    "\n",
    "# Show the map\n",
    "fig.show()"
   ]
  },
  {
   "cell_type": "code",
   "execution_count": 38,
   "metadata": {},
   "outputs": [
    {
     "name": "stdout",
     "output_type": "stream",
     "text": [
      "68\n",
      "42\n",
      "535\n",
      "23.636363636363637\n"
     ]
    }
   ],
   "source": [
    "sides = movies.loc[movies['countries'].apply(lambda x: 'Germany' in x), 'cold_war_side'].values\n",
    "west_count = (sides == 'Western').sum()\n",
    "east_count = (sides == 'Eastern').sum()\n",
    "none_count = (sides == 'None').sum()\n",
    "print(west_count)\n",
    "print(east_count)\n",
    "print(none_count)\n",
    "percentage_difference = (abs(west_count - east_count) / (west_count + east_count)) * 100\n",
    "print(percentage_difference)"
   ]
  },
  {
   "cell_type": "code",
   "execution_count": null,
   "metadata": {},
   "outputs": [],
   "source": []
  }
 ],
 "metadata": {
  "kernelspec": {
   "display_name": "ada",
   "language": "python",
   "name": "python3"
  },
  "language_info": {
   "codemirror_mode": {
    "name": "ipython",
    "version": 3
   },
   "file_extension": ".py",
   "mimetype": "text/x-python",
   "name": "python",
   "nbconvert_exporter": "python",
   "pygments_lexer": "ipython3",
   "version": "3.11.10"
  }
 },
 "nbformat": 4,
 "nbformat_minor": 2
}
